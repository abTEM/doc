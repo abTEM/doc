{
 "cells": [
  {
   "cell_type": "code",
   "execution_count": 1,
   "id": "46fa1f5a-f9a8-4117-937c-c8a4ebd6c38c",
   "metadata": {
    "tags": [
     "hide-input"
    ]
   },
   "outputs": [],
   "source": [
    "%config InlineBackend.rc = {\"figure.dpi\": 72, 'figure.figsize': (6.0, 4.0)}\n",
    "%matplotlib ipympl\n",
    "\n",
    "import ase \n",
    "import matplotlib.pyplot as plt\n",
    "import numpy as np\n",
    "from IPython.display import HTML\n",
    "\n",
    "import abtem\n",
    "\n",
    "abtem.config.set({\"local_diagnostics.progress_bar\": True})\n",
    "abtem.config.set({\"device\": \"cpu\"});"
   ]
  },
  {
   "cell_type": "markdown",
   "id": "3048121d-f027-4cd2-887e-c99016d5da4d",
   "metadata": {},
   "source": [
    "(examples:interactions)=\n",
    "# Interactive visualizations"
   ]
  },
  {
   "cell_type": "markdown",
   "id": "5f21fdf1-3beb-4d54-808e-d431efdab025",
   "metadata": {},
   "source": [
    "## STEM"
   ]
  },
  {
   "cell_type": "code",
   "execution_count": 2,
   "id": "73d5a1c2-d444-4304-93fe-8699a0177072",
   "metadata": {},
   "outputs": [
    {
     "name": "stdout",
     "output_type": "stream",
     "text": [
      "[########################################] | 100% Completed | 76.23 s\n"
     ]
    }
   ],
   "source": [
    "atoms = ase.build.mx2(vacuum=3)\n",
    "atoms = abtem.orthogonalize_cell(atoms) * (3, 2, 1)\n",
    "\n",
    "probe = abtem.Probe(\n",
    "    semiangle_cutoff=np.linspace(20, 30, 3),\n",
    "    defocus=np.linspace(0, 50, 3),\n",
    "    Cs=np.linspace(0, 5e5, 3),\n",
    "    astigmatism_angle=np.pi / 4,\n",
    "    sampling=0.05,\n",
    "    energy=80e3,\n",
    ")\n",
    "\n",
    "potential = abtem.Potential(atoms, projection=\"infinite\", slice_thickness=2)\n",
    "\n",
    "scan = abtem.GridScan(\n",
    "    start=(0, 0),\n",
    "    end=(1 / 3, 1 / 2),\n",
    "    fractional=True,\n",
    "    potential=potential,\n",
    ")\n",
    "\n",
    "doses = np.geomspace(1e1, 1e7, 30)\n",
    "\n",
    "measurements = (\n",
    "    probe.scan(potential, scan=scan)\n",
    "    .to_image_ensemble()\n",
    "    .gaussian_filter(0.3)\n",
    "    .interpolate(0.1)\n",
    "    .tile((3, 2))\n",
    "    .poisson_noise(dose_per_area=doses)\n",
    "    .compute()\n",
    ")"
   ]
  },
  {
   "cell_type": "code",
   "execution_count": 19,
   "id": "3f7ee99a-dc1f-4d1d-a4b5-11edaa4a38a8",
   "metadata": {},
   "outputs": [
    {
     "data": {
      "application/vnd.jupyter.widget-view+json": {
       "model_id": "fa66b7f3aeaf41899aebe694f82a9746",
       "version_major": 2,
       "version_minor": 0
      },
      "text/plain": [
       "HBox(children=(VBox(children=(VBox(children=(SelectionSlider(continuous_update=False, description='Dose [e/Å^2…"
      ]
     },
     "metadata": {},
     "output_type": "display_data"
    }
   ],
   "source": [
    "visualization = measurements.show(interact=True, cbar=True)"
   ]
  },
  {
   "cell_type": "code",
   "execution_count": 4,
   "id": "4e2cbc03-746b-4bcb-82c2-da0f6f77b8eb",
   "metadata": {},
   "outputs": [],
   "source": [
    "animated_measurment = measurements[:, -1, 0, 0, 50:150].sum(1)\n",
    "\n",
    "visualization = animated_measurment.show(display=False)\n",
    "\n",
    "visualization.axis_off(spines=False)\n",
    "visualization.adjust_tight_bbox()\n",
    "animation = visualization.animate(adjust_scale=True, interval=10)"
   ]
  },
  {
   "cell_type": "code",
   "execution_count": 6,
   "id": "c336dc5b-20a9-4833-a844-c71fe9519b9c",
   "metadata": {},
   "outputs": [],
   "source": [
    "animation.save(\"../thumbnails/interactions.gif\", writer=\"pillow\")"
   ]
  }
 ],
 "metadata": {
  "kernelspec": {
   "display_name": "abtem-dask",
   "language": "python",
   "name": "abtem-dask"
  },
  "language_info": {
   "codemirror_mode": {
    "name": "ipython",
    "version": 3
   },
   "file_extension": ".py",
   "mimetype": "text/x-python",
   "name": "python",
   "nbconvert_exporter": "python",
   "pygments_lexer": "ipython3",
   "version": "3.9.15"
  },
  "widgets": {
   "application/vnd.jupyter.widget-state+json": {
    "state": {},
    "version_major": 2,
    "version_minor": 0
   }
  }
 },
 "nbformat": 4,
 "nbformat_minor": 5
}
