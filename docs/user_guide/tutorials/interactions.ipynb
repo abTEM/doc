{
 "cells": [
  {
   "cell_type": "code",
   "execution_count": 1,
   "id": "46fa1f5a-f9a8-4117-937c-c8a4ebd6c38c",
   "metadata": {},
   "outputs": [],
   "source": [
    "%config InlineBackend.rc = {\"figure.dpi\": 72, 'figure.figsize': (6.0, 4.0)}\n",
    "%matplotlib ipympl\n",
    "\n",
    "import ase\n",
    "import matplotlib.pyplot as plt\n",
    "import numpy as np\n",
    "from IPython.display import HTML\n",
    "\n",
    "import abtem\n",
    "\n",
    "abtem.config.set({\"local_diagnostics.progress_bar\": True});\n",
    "abtem.config.set({\"device\": \"cpu\"});"
   ]
  },
  {
   "cell_type": "markdown",
   "id": "3048121d-f027-4cd2-887e-c99016d5da4d",
   "metadata": {},
   "source": [
    "# Interactive visualizations"
   ]
  },
  {
   "cell_type": "markdown",
   "id": "ccfac74e-d503-4b89-8f6e-399986d61d6f",
   "metadata": {},
   "source": [
    "## Probe"
   ]
  },
  {
   "cell_type": "code",
   "execution_count": 101,
   "id": "3502551c-b81d-4243-b998-4b68ccfe930d",
   "metadata": {},
   "outputs": [
    {
     "name": "stdout",
     "output_type": "stream",
     "text": [
      "[########################################] | 100% Completed | 658.23 ms\n"
     ]
    }
   ],
   "source": [
    "probe = abtem.Probe(\n",
    "    semiangle_cutoff=30,\n",
    "    defocus=np.linspace(-70, 70, 30),\n",
    "    astigmatism=np.linspace(-70, 70, 30),\n",
    "    astigmatism_angle=np.pi / 4,\n",
    "    gpts=256,\n",
    "    extent=10,\n",
    "    energy=200e3,\n",
    ")\n",
    "probes = probe.build().intensity().compute()  # .compute()"
   ]
  },
  {
   "cell_type": "code",
   "execution_count": 103,
   "id": "346eec1b-7e12-4c1e-a19f-15ae961f3ce8",
   "metadata": {},
   "outputs": [
    {
     "data": {
      "application/vnd.jupyter.widget-view+json": {
       "model_id": "a24c7b08b09f48a29c1a9e703829e685",
       "version_major": 2,
       "version_minor": 0
      },
      "text/plain": [
       "HBox(children=(VBox(children=(VBox(children=(SelectionSlider(continuous_update=False, description='C10 [Å]', o…"
      ]
     },
     "execution_count": 103,
     "metadata": {},
     "output_type": "execute_result"
    }
   ],
   "source": [
    "visualization = probes.show(cmap=\"viridis\", display=False, cbar=True)\n",
    "\n",
    "visualization.widgets"
   ]
  },
  {
   "cell_type": "markdown",
   "id": "0b1295ec-f5df-4b90-8f18-f45864bab2b5",
   "metadata": {},
   "source": [
    "## HRTEM"
   ]
  },
  {
   "cell_type": "code",
   "execution_count": 113,
   "id": "579c8752-9753-4c7d-845b-30a70a2feea6",
   "metadata": {},
   "outputs": [],
   "source": [
    "tube1 = ase.build.nanotube(10, 0, length=5)\n",
    "tube2 = ase.build.nanotube(16, 0, length=5)\n",
    "tubes = tube1 + tube2\n",
    "tubes.center(vacuum=4.0, axis=(0, 1))\n",
    "\n",
    "rotated_tubes = tubes.copy()\n",
    "rotated_tubes.rotate(\"y\", 90, rotate_cell=True)\n",
    "rotated_tubes = abtem.standardize_cell(rotated_tubes)\n",
    "\n",
    "potential = abtem.Potential(\n",
    "    rotated_tubes,\n",
    "    sampling=0.05,\n",
    "    projection=\"infinite\",\n",
    "    slice_thickness=1,\n",
    "    exit_planes=1\n",
    ")\n",
    "\n",
    "#abtem.show_atoms(tubes, plane=\"xy\", title=\"Beam view\");"
   ]
  },
  {
   "cell_type": "code",
   "execution_count": 114,
   "id": "7d7a92c2-9077-482e-91af-292aacc3f446",
   "metadata": {},
   "outputs": [
    {
     "name": "stdout",
     "output_type": "stream",
     "text": [
      "[########################################] | 100% Completed | 1.09 ss\n"
     ]
    }
   ],
   "source": [
    "wave = abtem.PlaneWave(energy=100e3)\n",
    "\n",
    "exit_wave = wave.multislice(potential).intensity().compute()"
   ]
  },
  {
   "cell_type": "code",
   "execution_count": 115,
   "id": "625fedd1-a9df-425a-8d2f-7c1c4a7971a9",
   "metadata": {},
   "outputs": [
    {
     "data": {
      "application/vnd.jupyter.widget-view+json": {
       "model_id": "d088328edb9b463097dc5f43a599afa6",
       "version_major": 2,
       "version_minor": 0
      },
      "text/plain": [
       "HBox(children=(VBox(children=(VBox(children=(SelectionSlider(continuous_update=False, description='z [Å]', opt…"
      ]
     },
     "metadata": {},
     "output_type": "display_data"
    }
   ],
   "source": [
    "visualization = (\n",
    "    exit_wave[:]\n",
    "    .show(interact=True, axes_types=[\"index\"])\n",
    ")"
   ]
  },
  {
   "cell_type": "markdown",
   "id": "5f21fdf1-3beb-4d54-808e-d431efdab025",
   "metadata": {},
   "source": [
    "## STEM"
   ]
  },
  {
   "cell_type": "code",
   "execution_count": 87,
   "id": "73d5a1c2-d444-4304-93fe-8699a0177072",
   "metadata": {},
   "outputs": [
    {
     "name": "stdout",
     "output_type": "stream",
     "text": [
      "[########################################] | 100% Completed | 41.54 s\n"
     ]
    }
   ],
   "source": [
    "atoms = ase.build.mx2(vacuum=3)\n",
    "atoms = abtem.orthogonalize_cell(atoms) * (3, 2, 1)\n",
    "\n",
    "potential = abtem.Potential(atoms, projection=\"infinite\", slice_thickness=10)#.build().compute()\n",
    "\n",
    "scan = abtem.GridScan(\n",
    "    start=(0, 0), end=(1 / 3, 1 / 2), fractional=True, potential=potential,\n",
    ")\n",
    "\n",
    "doses = np.geomspace(1e1, 1e7, 10)\n",
    "\n",
    "measurements = (\n",
    "    probe.scan(potential, scan=scan)\n",
    "    .integrate_radial(50, 150)\n",
    "    #.to_images()\n",
    "    .gaussian_filter(0.3)\n",
    "    .interpolate(.1)\n",
    "    .tile((3, 2))\n",
    "    .poisson_noise(dose_per_area=doses)\n",
    "    .compute()\n",
    ")"
   ]
  },
  {
   "cell_type": "code",
   "execution_count": 88,
   "id": "8e393b32-9948-49ee-af5b-0db98afd38b5",
   "metadata": {},
   "outputs": [],
   "source": [
    "%matplotlib ipympl"
   ]
  },
  {
   "cell_type": "code",
   "execution_count": 90,
   "id": "3f7ee99a-dc1f-4d1d-a4b5-11edaa4a38a8",
   "metadata": {},
   "outputs": [
    {
     "data": {
      "application/vnd.jupyter.widget-view+json": {
       "model_id": "01fec938200d41039837c1a0d946b5c7",
       "version_major": 2,
       "version_minor": 0
      },
      "text/plain": [
       "HBox(children=(VBox(children=(VBox(children=(SelectionSlider(continuous_update=False, description='Dose [e/Å^2…"
      ]
     },
     "metadata": {},
     "output_type": "display_data"
    }
   ],
   "source": [
    "visualization = (\n",
    "    measurements[:, :, :, :]\n",
    "    .show(interact=True, axes_types=[\"index\", \"index\", \"index\", \"index\"], cbar=True)\n",
    ")"
   ]
  },
  {
   "cell_type": "code",
   "execution_count": null,
   "id": "c336dc5b-20a9-4833-a844-c71fe9519b9c",
   "metadata": {},
   "outputs": [],
   "source": []
  }
 ],
 "metadata": {
  "kernelspec": {
   "display_name": "abtem-dask",
   "language": "python",
   "name": "abtem-dask"
  },
  "language_info": {
   "codemirror_mode": {
    "name": "ipython",
    "version": 3
   },
   "file_extension": ".py",
   "mimetype": "text/x-python",
   "name": "python",
   "nbconvert_exporter": "python",
   "pygments_lexer": "ipython3",
   "version": "3.10.8"
  },
  "widgets": {
   "application/vnd.jupyter.widget-state+json": {
    "state": {},
    "version_major": 2,
    "version_minor": 0
   }
  }
 },
 "nbformat": 4,
 "nbformat_minor": 5
}
