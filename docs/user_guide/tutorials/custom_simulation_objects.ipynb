{
 "cells": [
  {
   "cell_type": "code",
   "execution_count": 21,
   "id": "3518b430-3df3-4b63-bad7-4f6668962352",
   "metadata": {
    "tags": [
     "hide-input"
    ]
   },
   "outputs": [],
   "source": [
    "%config InlineBackend.rc = {\"figure.dpi\": 72, 'figure.figsize': (6.0, 4.0)}\n",
    "%matplotlib inline\n",
    "\n",
    "import abtem\n",
    "import numpy as np\n",
    "from abtem.core.axes import ParameterAxis\n",
    "from abtem.core.backend import get_array_module\n",
    "from abtem.core.utils import expand_dims_to_broadcast\n",
    "from abtem.transform import (\n",
    "     ArrayObjectTransform,\n",
    "     CompositeArrayObjectTransform,\n",
    "     WavesTransform,\n",
    ")\n",
    "import ase\n",
    "\n",
    "abtem.config.set({\"local_diagnostics.progress_bar\": False});"
   ]
  },
  {
   "cell_type": "markdown",
   "id": "f39df99a-aa4b-402c-ba3b-3f8fbfb419c6",
   "metadata": {},
   "source": [
    "# Extending *ab*TEM\n",
    "\n",
    "In this tutorial, we describe how to extend *ab*TEM using some of the most fundamental and general concepts of the library. If you have an idea for how to extend *ab*TEM, you are welcome to contact us.\n",
    "\n",
    "## The `ArrayObject` and `ArrayObjectTransform`\n",
    "\n",
    "To run the multislice algorithm we describe the $xy$-part of a wave function on a grid as a 2D array or an ensemble of such wave functions as a multidimensional array with more than 2 dimensions. See our [appendix on ensembles](). We encapsulate the array in the `Waves` object, together with metadata such as the energy and real-space extent, ensembles of wave function will have additional metadata describing each ensemble axis. The `Waves` are an example of an `ArrayObject` which is the base class for any object in *ab*TEM represented by an array and some metadata. \n",
    "\n",
    "An `ArrayObject` is \"mainly\" described by a single array (NumPy, CuPy) representing almost all the memory requirements of the object, all `ArrayObject` can be lazy. The memory requirements of the metadata is assumed to negligible, and any lazily applied transformation applied to the array should be possible to apply immediately to metadata, the metadata keep enough just enough information to apply further transformations lazily."
   ]
  },
  {
   "cell_type": "code",
   "execution_count": 34,
   "id": "d56c9970-37cd-4303-8caf-867b10a13b29",
   "metadata": {},
   "outputs": [],
   "source": [
    "atoms = abtem.orthogonalize_cell(ase.build.mx2(vacuum=2)) * (3, 2, 1)\n",
    "\n",
    "frozen_phonons = abtem.FrozenPhonons(atoms, num_configs=32, sigmas=.1)\n",
    "\n",
    "potential = abtem.Potential(frozen_phonons, sampling=0.05)\n",
    "\n",
    "probe = abtem.Probe(energy=80e3, semiangle_cutoff=30)"
   ]
  },
  {
   "cell_type": "markdown",
   "id": "5ad77b92-5e7e-4924-a018-1aa3428baf90",
   "metadata": {},
   "source": [
    "None of the objects created above are examples of `ArrayObject`s. However, the `Probe` and `Potential` can be converted to the `Waves` and `PotentialArray` objects, which are subclasses of the `ArrayObject` base class.\n",
    "\n",
    "We can run the `.build` method to create `Waves` from the `Probe`."
   ]
  },
  {
   "cell_type": "code",
   "execution_count": 32,
   "id": "52a5b384-edd5-49e4-bac4-b5d0e9a9b130",
   "metadata": {},
   "outputs": [
    {
     "data": {
      "text/plain": [
       "<abtem.waves.Waves at 0x213da8056f0>"
      ]
     },
     "execution_count": 32,
     "metadata": {},
     "output_type": "execute_result"
    }
   ],
   "source": [
    "probe.grid.match(potential)\n",
    "\n",
    "waves = probe.build()\n",
    "\n",
    "waves"
   ]
  },
  {
   "cell_type": "code",
   "execution_count": 33,
   "id": "031168b7-f68a-4ed1-9438-a38c8602590a",
   "metadata": {},
   "outputs": [
    {
     "data": {
      "text/html": [
       "<table>\n",
       "    <tr>\n",
       "        <td>\n",
       "            <table style=\"border-collapse: collapse;\">\n",
       "                <thead>\n",
       "                    <tr>\n",
       "                        <td> </td>\n",
       "                        <th> Array </th>\n",
       "                        <th> Chunk </th>\n",
       "                    </tr>\n",
       "                </thead>\n",
       "                <tbody>\n",
       "                    \n",
       "                    <tr>\n",
       "                        <th> Bytes </th>\n",
       "                        <td> 329.77 kiB </td>\n",
       "                        <td> 329.77 kiB </td>\n",
       "                    </tr>\n",
       "                    \n",
       "                    <tr>\n",
       "                        <th> Shape </th>\n",
       "                        <td> (191, 221) </td>\n",
       "                        <td> (191, 221) </td>\n",
       "                    </tr>\n",
       "                    <tr>\n",
       "                        <th> Dask graph </th>\n",
       "                        <td colspan=\"2\"> 1 chunks in 3 graph layers </td>\n",
       "                    </tr>\n",
       "                    <tr>\n",
       "                        <th> Data type </th>\n",
       "                        <td colspan=\"2\"> complex64 numpy.ndarray </td>\n",
       "                    </tr>\n",
       "                </tbody>\n",
       "            </table>\n",
       "        </td>\n",
       "        <td>\n",
       "        <svg width=\"170\" height=\"153\" style=\"stroke:rgb(0,0,0);stroke-width:1\" >\n",
       "\n",
       "  <!-- Horizontal lines -->\n",
       "  <line x1=\"0\" y1=\"0\" x2=\"120\" y2=\"0\" style=\"stroke-width:2\" />\n",
       "  <line x1=\"0\" y1=\"103\" x2=\"120\" y2=\"103\" style=\"stroke-width:2\" />\n",
       "\n",
       "  <!-- Vertical lines -->\n",
       "  <line x1=\"0\" y1=\"0\" x2=\"0\" y2=\"103\" style=\"stroke-width:2\" />\n",
       "  <line x1=\"120\" y1=\"0\" x2=\"120\" y2=\"103\" style=\"stroke-width:2\" />\n",
       "\n",
       "  <!-- Colored Rectangle -->\n",
       "  <polygon points=\"0.0,0.0 120.0,0.0 120.0,103.710407239819 0.0,103.710407239819\" style=\"fill:#ECB172A0;stroke-width:0\"/>\n",
       "\n",
       "  <!-- Text -->\n",
       "  <text x=\"60.000000\" y=\"123.710407\" font-size=\"1.0rem\" font-weight=\"100\" text-anchor=\"middle\" >221</text>\n",
       "  <text x=\"140.000000\" y=\"51.855204\" font-size=\"1.0rem\" font-weight=\"100\" text-anchor=\"middle\" transform=\"rotate(-90,140.000000,51.855204)\">191</text>\n",
       "</svg>\n",
       "        </td>\n",
       "    </tr>\n",
       "</table>"
      ],
      "text/plain": [
       "dask.array<getitem, shape=(191, 221), dtype=complex64, chunksize=(191, 221), chunktype=numpy.ndarray>"
      ]
     },
     "execution_count": 33,
     "metadata": {},
     "output_type": "execute_result"
    }
   ],
   "source": [
    "waves.array"
   ]
  },
  {
   "cell_type": "markdown",
   "id": "d85c7583-c7ca-4374-96bc-318c4608d1ca",
   "metadata": {},
   "source": [
    "The `Waves` and other `ArrayObjects` can be modified by applying an `ArrayObjectTransform`. "
   ]
  },
  {
   "cell_type": "code",
   "execution_count": 30,
   "id": "84cd7bf5-fddc-41be-993e-9505e78a188f",
   "metadata": {},
   "outputs": [
    {
     "data": {
      "text/plain": [
       "(5, 3)"
      ]
     },
     "execution_count": 30,
     "metadata": {},
     "output_type": "execute_result"
    }
   ],
   "source": [
    "aberrations = abtem.transfer.Aberrations(defocus= np.linspace(0, 100, 5), Cs=np.linspace(0, 1e6, 3))\n",
    "\n",
    "aberrations.ensemble_shape"
   ]
  },
  {
   "cell_type": "code",
   "execution_count": null,
   "id": "2091fdae-444a-4f32-a90c-e84580f54591",
   "metadata": {},
   "outputs": [],
   "source": []
  },
  {
   "cell_type": "code",
   "execution_count": 31,
   "id": "5dce4eb4-4929-4631-853a-7abe8f0037ca",
   "metadata": {},
   "outputs": [
    {
     "data": {
      "text/html": [
       "<table>\n",
       "    <tr>\n",
       "        <td>\n",
       "            <table style=\"border-collapse: collapse;\">\n",
       "                <thead>\n",
       "                    <tr>\n",
       "                        <td> </td>\n",
       "                        <th> Array </th>\n",
       "                        <th> Chunk </th>\n",
       "                    </tr>\n",
       "                </thead>\n",
       "                <tbody>\n",
       "                    \n",
       "                    <tr>\n",
       "                        <th> Bytes </th>\n",
       "                        <td> 4.83 MiB </td>\n",
       "                        <td> 4.83 MiB </td>\n",
       "                    </tr>\n",
       "                    \n",
       "                    <tr>\n",
       "                        <th> Shape </th>\n",
       "                        <td> (5, 3, 191, 221) </td>\n",
       "                        <td> (5, 3, 191, 221) </td>\n",
       "                    </tr>\n",
       "                    <tr>\n",
       "                        <th> Dask graph </th>\n",
       "                        <td colspan=\"2\"> 1 chunks in 6 graph layers </td>\n",
       "                    </tr>\n",
       "                    <tr>\n",
       "                        <th> Data type </th>\n",
       "                        <td colspan=\"2\"> complex64 numpy.ndarray </td>\n",
       "                    </tr>\n",
       "                </tbody>\n",
       "            </table>\n",
       "        </td>\n",
       "        <td>\n",
       "        <svg width=\"383\" height=\"169\" style=\"stroke:rgb(0,0,0);stroke-width:1\" >\n",
       "\n",
       "  <!-- Horizontal lines -->\n",
       "  <line x1=\"0\" y1=\"0\" x2=\"29\" y2=\"0\" style=\"stroke-width:2\" />\n",
       "  <line x1=\"0\" y1=\"25\" x2=\"29\" y2=\"25\" style=\"stroke-width:2\" />\n",
       "\n",
       "  <!-- Vertical lines -->\n",
       "  <line x1=\"0\" y1=\"0\" x2=\"0\" y2=\"25\" style=\"stroke-width:2\" />\n",
       "  <line x1=\"29\" y1=\"0\" x2=\"29\" y2=\"25\" style=\"stroke-width:2\" />\n",
       "\n",
       "  <!-- Colored Rectangle -->\n",
       "  <polygon points=\"0.0,0.0 29.732342132975173,0.0 29.732342132975173,25.412616514582485 0.0,25.412616514582485\" style=\"fill:#ECB172A0;stroke-width:0\"/>\n",
       "\n",
       "  <!-- Text -->\n",
       "  <text x=\"14.866171\" y=\"45.412617\" font-size=\"1.0rem\" font-weight=\"100\" text-anchor=\"middle\" >5</text>\n",
       "  <text x=\"49.732342\" y=\"12.706308\" font-size=\"1.0rem\" font-weight=\"100\" text-anchor=\"middle\" transform=\"rotate(0,49.732342,12.706308)\">1</text>\n",
       "\n",
       "\n",
       "  <!-- Horizontal lines -->\n",
       "  <line x1=\"99\" y1=\"0\" x2=\"114\" y2=\"15\" style=\"stroke-width:2\" />\n",
       "  <line x1=\"99\" y1=\"103\" x2=\"114\" y2=\"119\" style=\"stroke-width:2\" />\n",
       "\n",
       "  <!-- Vertical lines -->\n",
       "  <line x1=\"99\" y1=\"0\" x2=\"99\" y2=\"103\" style=\"stroke-width:2\" />\n",
       "  <line x1=\"114\" y1=\"15\" x2=\"114\" y2=\"119\" style=\"stroke-width:2\" />\n",
       "\n",
       "  <!-- Colored Rectangle -->\n",
       "  <polygon points=\"99.0,0.0 114.8442871570638,15.844287157063796 114.8442871570638,119.55469439688281 99.0,103.710407239819\" style=\"fill:#ECB172A0;stroke-width:0\"/>\n",
       "\n",
       "  <!-- Horizontal lines -->\n",
       "  <line x1=\"99\" y1=\"0\" x2=\"219\" y2=\"0\" style=\"stroke-width:2\" />\n",
       "  <line x1=\"114\" y1=\"15\" x2=\"234\" y2=\"15\" style=\"stroke-width:2\" />\n",
       "\n",
       "  <!-- Vertical lines -->\n",
       "  <line x1=\"99\" y1=\"0\" x2=\"114\" y2=\"15\" style=\"stroke-width:2\" />\n",
       "  <line x1=\"219\" y1=\"0\" x2=\"234\" y2=\"15\" style=\"stroke-width:2\" />\n",
       "\n",
       "  <!-- Colored Rectangle -->\n",
       "  <polygon points=\"99.0,0.0 219.0,0.0 234.8442871570638,15.844287157063796 114.8442871570638,15.844287157063796\" style=\"fill:#ECB172A0;stroke-width:0\"/>\n",
       "\n",
       "  <!-- Horizontal lines -->\n",
       "  <line x1=\"114\" y1=\"15\" x2=\"234\" y2=\"15\" style=\"stroke-width:2\" />\n",
       "  <line x1=\"114\" y1=\"119\" x2=\"234\" y2=\"119\" style=\"stroke-width:2\" />\n",
       "\n",
       "  <!-- Vertical lines -->\n",
       "  <line x1=\"114\" y1=\"15\" x2=\"114\" y2=\"119\" style=\"stroke-width:2\" />\n",
       "  <line x1=\"234\" y1=\"15\" x2=\"234\" y2=\"119\" style=\"stroke-width:2\" />\n",
       "\n",
       "  <!-- Colored Rectangle -->\n",
       "  <polygon points=\"114.8442871570638,15.844287157063796 234.8442871570638,15.844287157063796 234.8442871570638,119.55469439688281 114.8442871570638,119.55469439688281\" style=\"fill:#ECB172A0;stroke-width:0\"/>\n",
       "\n",
       "  <!-- Text -->\n",
       "  <text x=\"174.844287\" y=\"139.554694\" font-size=\"1.0rem\" font-weight=\"100\" text-anchor=\"middle\" >221</text>\n",
       "  <text x=\"254.844287\" y=\"67.699491\" font-size=\"1.0rem\" font-weight=\"100\" text-anchor=\"middle\" transform=\"rotate(-90,254.844287,67.699491)\">191</text>\n",
       "  <text x=\"96.922144\" y=\"131.632551\" font-size=\"1.0rem\" font-weight=\"100\" text-anchor=\"middle\" transform=\"rotate(45,96.922144,131.632551)\">3</text>\n",
       "</svg>\n",
       "        </td>\n",
       "    </tr>\n",
       "</table>"
      ],
      "text/plain": [
       "dask.array<apply_transform, shape=(5, 3, 191, 221), dtype=complex64, chunksize=(5, 3, 191, 221), chunktype=numpy.ndarray>"
      ]
     },
     "execution_count": 31,
     "metadata": {},
     "output_type": "execute_result"
    }
   ],
   "source": [
    "defocused_waves = waves.apply_transform(ctf)\n",
    "\n",
    "defocused_waves.array"
   ]
  },
  {
   "cell_type": "code",
   "execution_count": 22,
   "id": "2ebd0514-a6dd-42bc-9b1f-24dea57f7dc2",
   "metadata": {},
   "outputs": [
    {
     "data": {
      "text/plain": [
       "Cell([9.540000000000001, 11.01584313613806, 7.1899999999999995])"
      ]
     },
     "execution_count": 22,
     "metadata": {},
     "output_type": "execute_result"
    }
   ],
   "source": [
    "scan = abtem.GridScan()\n",
    "\n"
   ]
  },
  {
   "cell_type": "code",
   "execution_count": null,
   "id": "ad483063-4d13-4d11-96c1-d5bd81d497b3",
   "metadata": {},
   "outputs": [],
   "source": [
    "scan = abtem.GridScan(start=(0,0), end=(1,1), )\n",
    "\n",
    "\n",
    "\n"
   ]
  },
  {
   "cell_type": "markdown",
   "id": "d8065763-be75-418c-9476-2c9158c15be0",
   "metadata": {},
   "source": [
    "The `WavesFactory` types (`Probe` and `PlaneWave`) works by applying a sequence of transforms to produce \n",
    "\n",
    "In the following we roll \n",
    "\n",
    "Behind the scenes most things are implemented as a type of `ArrayObjectTransform`\n",
    "\n",
    "The `ArrayObjectTransform` is a general .\n",
    "\n",
    "A transform takes an *ab*TEM `ArrayObject`. \n",
    "\n",
    "* Encapsulate code the modifies an array into a concept microscopists, but not necessarily expert programmers understand.\n",
    "* A transform will modify the array of each member of the ensemble in the same way (broadcast in NumPy terminology).\n",
    "* A transform is applied lazily to lazy `ArrayObjects` and eagerly to in-memory `ArrayObjects`\n",
    "    * Chunks are automatically adjusted according\n",
    "\n",
    "An important technical detail is that multiple `ArrayObjectTranform`s can be combined . This allows *ab*TEM to more efficiently \n",
    "\n",
    "without transdferring large amounts of data between processes\n",
    "\n"
   ]
  },
  {
   "cell_type": "markdown",
   "id": "5c8c22f8-89ba-4b13-9b15-36e8b398c10b",
   "metadata": {},
   "source": [
    "## A custom `WavesTranform`\n",
    "\n",
    "A special subclass of `ArrayObjectTransform` is the `WavesTransform`. We demonstrate how to create a custom `WavesTransform` with an example of a transform that applies a phase shift to a wave function. We create an object called `PhaseShift` inheriting from the `WaveTransform`. Our new phase shift `WavesTransform` takes the argument `shift`, which should also be exposed as a public property. The `WavesTransform` _has_ to implement the `_calculate_new_array` method, which takes a `Waves` object and, unless further specifications are given as described below, should return a new array of the same shape and complex type as the array describing the input `Waves`.\n",
    "\n",
    "We use the `get_array_module` function to make the our code agnostic to the array module. This function will return either the NumPy or the [CuPy](https://cupy.dev/) module, depending on the array type, thus enabling the code to work on GPU's without futher work."
   ]
  },
  {
   "cell_type": "code",
   "execution_count": 4,
   "id": "8befbdde-ccfe-4c99-bb26-89da252e426a",
   "metadata": {},
   "outputs": [],
   "source": [
    "class PhaseShift(WavesTransform):\n",
    "    def __init__(self, shift):\n",
    "        self._shift = shift\n",
    "        super().__init__()\n",
    "\n",
    "    @property\n",
    "    def shift(self):\n",
    "        return self._shift\n",
    "\n",
    "    def _calculate_new_array(self, waves):\n",
    "        xp = get_array_module(waves.array)\n",
    "\n",
    "        new_array = waves.array * xp.exp(1.0j * self.shift)\n",
    "\n",
    "        return new_array"
   ]
  },
  {
   "cell_type": "markdown",
   "id": "850afbe4-a033-4fd2-bdfd-d05180f39746",
   "metadata": {},
   "source": [
    "We create some `Waves` describing a probe wave function."
   ]
  },
  {
   "cell_type": "code",
   "execution_count": 5,
   "id": "8d6009a2-2e92-4dc8-b4f6-e1d1afac5096",
   "metadata": {},
   "outputs": [],
   "source": [
    "import ase\n",
    "\n",
    "atoms = ase.build.bulk(\"Au\", cubic=True) * (2, 2, 1)\n",
    "\n",
    "fp = abtem.FrozenPhonons(atoms, sigmas=0.1, num_configs=2)\n",
    "\n",
    "potential = abtem.Potential(atoms, slice_thickness=1, sampling=0.05)"
   ]
  },
  {
   "cell_type": "code",
   "execution_count": 11,
   "id": "fe44af65-3227-43f3-b09b-28c8b54c3f2b",
   "metadata": {},
   "outputs": [],
   "source": [
    "from __future__ import annotations\n",
    "\n",
    "from functools import partial\n",
    "\n",
    "from abtem.detectors import BaseDetector, WavesDetector\n",
    "from abtem.multislice import multislice_and_detect, MultisliceTransform\n",
    "from abtem.potentials.iam import BasePotential\n",
    "\n",
    "\n",
    "probe = abtem.Probe(\n",
    "    semiangle_cutoff=20,\n",
    "    energy=300e3,\n",
    "    #defocus=[10,20,30]\n",
    ")\n",
    "\n",
    "planewave = abtem.PlaneWave(\n",
    "    #semiangle_cutoff=20,\n",
    "    energy=300e3,\n",
    "    #defocus=[10,20,30]\n",
    ")\n",
    "\n",
    "probe.grid.match(potential)\n",
    "planewave.grid.match(potential)\n",
    "#waves = probe.build().compute().ensure_lazy()"
   ]
  },
  {
   "cell_type": "code",
   "execution_count": 13,
   "id": "4210e4bf-a765-4063-a4a9-3d3f1ad8001c",
   "metadata": {},
   "outputs": [
    {
     "data": {
      "text/plain": [
       "<abtem.visualize.MeasurementVisualization2D at 0x7ff0541d93d0>"
      ]
     },
     "execution_count": 13,
     "metadata": {},
     "output_type": "execute_result"
    },
    {
     "data": {
      "image/png": "[encoded data removed]",
      "text/plain": [
       "<Figure size 432x288 with 1 Axes>"
      ]
     },
     "metadata": {},
     "output_type": "display_data"
    }
   ],
   "source": [
    "waves = probe.multislice(potential=potential)\n",
    "\n",
    "waves.compute(scheduler=\"single-threaded\").show()"
   ]
  },
  {
   "cell_type": "code",
   "execution_count": 44,
   "id": "2ce2ac1c-990d-4b34-b444-746f735cf049",
   "metadata": {},
   "outputs": [
    {
     "name": "stdout",
     "output_type": "stream",
     "text": [
      "<abtem.multislice.MultisliceTransform object at 0x7f9cec9b3b20>\n",
      "((0,),) [Atoms(symbols='Au16', pbc=True, cell=[8.16, 8.16, 4.08])]\n"
     ]
    },
    {
     "data": {
      "text/plain": [
       "<abtem.waves.Waves at 0x7f9cec96fd60>"
      ]
     },
     "execution_count": 44,
     "metadata": {},
     "output_type": "execute_result"
    }
   ],
   "source": [
    "#.compute().show(cbar=True, explode=True, common_color_scale=True)\n",
    "\n",
    "\n",
    "m = MultisliceTransform(potential, WavesDetector())\n",
    "\n",
    "waves.apply_transform(m).compute()\n",
    "\n",
    "\n",
    "\n",
    "#m.ensemble_blocks(1).compute()\n",
    "#waves.compute().show()"
   ]
  },
  {
   "cell_type": "code",
   "execution_count": 107,
   "id": "37784464-243d-4fb5-8c17-ed95f74d3681",
   "metadata": {},
   "outputs": [
    {
     "data": {
      "text/plain": [
       "[]"
      ]
     },
     "execution_count": 107,
     "metadata": {},
     "output_type": "execute_result"
    }
   ],
   "source": [
    "[*[]]"
   ]
  },
  {
   "cell_type": "code",
   "execution_count": 64,
   "id": "02246aa2-2b76-4906-b141-adb7ff653221",
   "metadata": {},
   "outputs": [],
   "source": [
    "detector1 = abtem.PixelatedDetector()\n",
    "detector2 = abtem.PixelatedDetector(max_angle=\"full\")\n",
    "\n",
    "aperture1 = abtem.transfer.Aberrations(C10=np.arange(2))\n",
    "aperture2 = abtem.transfer.Aberrations(C10=np.arange(3))\n",
    "scan = abtem.LineScan(start=(0,0), end=(3,3), gpts=3)\n",
    "\n",
    "\n",
    "multislice = MultisliceTransform(potential, [detector1, detector2])\n",
    "\n",
    "transform = CompositeArrayObjectTransform([aperture1])"
   ]
  },
  {
   "cell_type": "code",
   "execution_count": 88,
   "id": "9f814b7d-e309-4015-bfce-bf68ddc65564",
   "metadata": {},
   "outputs": [],
   "source": [
    "\n"
   ]
  },
  {
   "cell_type": "code",
   "execution_count": 89,
   "id": "0e1905c0-8320-45a3-b4ce-880bdc27b7eb",
   "metadata": {},
   "outputs": [
    {
     "data": {
      "text/plain": [
       "array([[[0.9999999+1.3526098e-16j, 0.9999999+6.9709620e-17j,\n",
       "         1.       +1.5415892e-15j, ..., 0.9999999-3.6058343e-16j,\n",
       "         1.       -1.1100369e-15j, 1.       +8.2283359e-16j],\n",
       "        [0.9999999-7.5051518e-16j, 0.9999999-8.1606648e-16j,\n",
       "         1.       +9.2633492e-16j, ..., 0.9999999-9.7583765e-16j,\n",
       "         1.       -1.8605521e-15j, 1.       -6.2942548e-17j],\n",
       "        [0.9999999+1.7606445e-15j, 0.9999999+1.6950931e-15j,\n",
       "         1.       +2.3554070e-15j, ..., 0.9999999+1.0006190e-15j,\n",
       "         1.       +6.5060759e-16j, 1.       +2.4482170e-15j],\n",
       "        ...,\n",
       "        [1.       +1.2020707e-15j, 1.       +1.1365194e-15j,\n",
       "         1.       +2.8789208e-15j, ..., 1.       +9.7674831e-16j,\n",
       "         1.       +9.2033862e-17j, 1.       +1.8896433e-15j],\n",
       "        [0.9999999-5.1739028e-16j, 0.9999999-5.8294163e-16j,\n",
       "         1.       +1.7005037e-15j, ..., 0.9999999-1.2774158e-15j,\n",
       "         1.       -1.6274272e-15j, 1.       +1.7018233e-16j],\n",
       "        [0.9999999+1.3044170e-15j, 0.9999999+1.2388656e-15j,\n",
       "         1.       +2.9812671e-15j, ..., 0.9999999+1.0790945e-15j,\n",
       "         1.       +1.9438010e-16j, 1.       +1.9919896e-15j]],\n",
       "\n",
       "       [[1.       +4.4125812e-08j, 1.       +4.4125812e-08j,\n",
       "         0.9999999+3.4285200e-08j, ..., 1.       +4.5493259e-08j,\n",
       "         0.9999999+3.9979799e-08j, 0.9999999+3.4285204e-08j],\n",
       "        [1.       +4.4125805e-08j, 1.       +4.4125805e-08j,\n",
       "         0.9999999+3.4285200e-08j, ..., 1.       +4.5493252e-08j,\n",
       "         0.9999999+3.9979788e-08j, 0.9999999+3.4285200e-08j],\n",
       "        [1.       +1.0555523e-08j, 1.       +1.0555523e-08j,\n",
       "         0.9999999+7.1492506e-10j, ..., 1.       +1.1922975e-08j,\n",
       "         0.9999999+6.4095103e-09j, 0.9999999+7.1492395e-10j],\n",
       "        ...,\n",
       "        [1.       -1.6629532e-08j, 1.       -1.6629532e-08j,\n",
       "         1.       -2.6470133e-08j, ..., 1.       -1.5262083e-08j,\n",
       "         1.       -2.0775547e-08j, 1.       -2.6470129e-08j],\n",
       "        [1.       -1.8718930e-08j, 1.       -1.8718929e-08j,\n",
       "         0.9999999-2.8559532e-08j, ..., 1.       -1.7351478e-08j,\n",
       "         0.9999999-2.2864945e-08j, 0.9999999-2.8559528e-08j],\n",
       "        [1.       +1.0555525e-08j, 1.       +1.0555525e-08j,\n",
       "         0.9999999+7.1492234e-10j, ..., 1.       +1.1922975e-08j,\n",
       "         0.9999999+6.4095089e-09j, 0.9999999+7.1492234e-10j]]],\n",
       "      dtype=complex64)"
      ]
     },
     "execution_count": 89,
     "metadata": {},
     "output_type": "execute_result"
    }
   ],
   "source": [
    "\n",
    "new_array.compute()"
   ]
  },
  {
   "cell_type": "code",
   "execution_count": null,
   "id": "fe5592dd-7dae-43f6-aefb-989b16d4c97d",
   "metadata": {},
   "outputs": [],
   "source": []
  },
  {
   "cell_type": "code",
   "execution_count": 61,
   "id": "0a43a6df-dbf8-400f-8e3b-b2aeb0c1a2c7",
   "metadata": {},
   "outputs": [],
   "source": [
    "import dask.array as da\n",
    "from abtem.detectors import PixelatedDetector\n",
    "from abtem.transfer import Aberrations, Aperture\n",
    "from abtem.transform import CompositeArrayObjectTransform\n",
    "\n",
    "\n",
    "detector1 = abtem.PixelatedDetector()\n",
    "detector2 = abtem.PixelatedDetector(max_angle=\"full\")\n",
    "\n",
    "aperture1 = abtem.transfer.Aberrations(C10=np.arange(2))\n",
    "aperture2 = abtem.transfer.Aberrations(C10=np.arange(3))\n",
    "scan = abtem.LineScan(start=(0,0), end=(3,3), gpts=3)\n",
    "\n",
    "\n",
    "multislice = MultisliceTransform(potential, [detector1, detector2])\n",
    "\n",
    "t = CompositeArrayObjectTransform([multislice, aperture1, scan])\n",
    "\n",
    "waves = probe.build()#.compute().ensure_lazy()"
   ]
  },
  {
   "cell_type": "code",
   "execution_count": 62,
   "id": "b6e1a5d3-08e8-43db-bd25-79650d6ac677",
   "metadata": {},
   "outputs": [
    {
     "data": {
      "text/plain": [
       "type                 label           coordinates\n",
       "-------------------  --------------  --------------------\n",
       "FrozenPhononsAxis    Frozen phonons  -\n",
       "ParameterAxis        C10 [Å]         0.00 1.00\n",
       "ScanAxis             x [Å]           0.00 2.12 4.24\n",
       "ReciprocalSpaceAxis  kx [1/Å]        -4.66 -4.41 ... 4.41\n",
       "ReciprocalSpaceAxis  ky [1/Å]        -4.66 -4.41 ... 4.41"
      ]
     },
     "execution_count": 62,
     "metadata": {},
     "output_type": "execute_result"
    }
   ],
   "source": [
    "\n",
    "#waves = waves.compute()\n",
    "#t.ensemble_axes_metadata\n",
    "#waves = waves.apply_transform(t).compute(scheduler=\"single-threaded\")\n",
    "\n",
    "#waves.axes_metadata\n",
    "measurements = waves.apply_transform(t).compute()\n",
    "measurements[0].axes_metadata #compute().array.shape"
   ]
  },
  {
   "cell_type": "code",
   "execution_count": 10,
   "id": "e5bca84d-981b-4649-88a9-4f6d7dbb6f76",
   "metadata": {},
   "outputs": [
    {
     "data": {
      "text/plain": [
       "<abtem.measurements.PolarMeasurements at 0x7fe7268fd400>"
      ]
     },
     "execution_count": 10,
     "metadata": {},
     "output_type": "execute_result"
    }
   ],
   "source": [
    "measurement = waves.apply_transform(detector).compute()\n",
    "\n",
    "measurement"
   ]
  },
  {
   "cell_type": "code",
   "execution_count": 28,
   "id": "907b183b-76ee-4eb0-abf6-60b151e40e56",
   "metadata": {},
   "outputs": [
    {
     "ename": "NameError",
     "evalue": "name 'sss' is not defined",
     "output_type": "error",
     "traceback": [
      "\u001b[0;31m---------------------------------------------------------------------------\u001b[0m",
      "\u001b[0;31mNameError\u001b[0m                                 Traceback (most recent call last)",
      "Cell \u001b[0;32mIn[28], line 1\u001b[0m\n\u001b[0;32m----> 1\u001b[0m \u001b[43mdetector\u001b[49m\u001b[38;5;241;43m.\u001b[39;49m\u001b[43m_out_type\u001b[49m\u001b[43m(\u001b[49m\u001b[43mwaves\u001b[49m\u001b[43m)\u001b[49m\n",
      "File \u001b[0;32m~/PycharmProjects/abTEM_dask/abtem/detectors.py:963\u001b[0m, in \u001b[0;36mPixelatedDetector._out_type\u001b[0;34m(self, waves)\u001b[0m\n\u001b[1;32m    962\u001b[0m \u001b[38;5;28;01mdef\u001b[39;00m \u001b[38;5;21m_out_type\u001b[39m(\u001b[38;5;28mself\u001b[39m, waves: Waves):\n\u001b[0;32m--> 963\u001b[0m     \u001b[43msss\u001b[49m\n\u001b[1;32m    964\u001b[0m     \u001b[38;5;28;01mif\u001b[39;00m \u001b[38;5;28mself\u001b[39m\u001b[38;5;241m.\u001b[39mreciprocal_space:\n\u001b[1;32m    965\u001b[0m         \u001b[38;5;28;01mreturn\u001b[39;00m DiffractionPatterns\n",
      "\u001b[0;31mNameError\u001b[0m: name 'sss' is not defined"
     ]
    }
   ],
   "source": [
    "detector._out_type(waves)"
   ]
  },
  {
   "cell_type": "code",
   "execution_count": 28,
   "id": "72286c5a-4b2b-4a2e-9d93-4efb2ad815c0",
   "metadata": {},
   "outputs": [
    {
     "data": {
      "text/plain": [
       "()"
      ]
     },
     "execution_count": 28,
     "metadata": {},
     "output_type": "execute_result"
    }
   ],
   "source": [
    "phase_shift._partition_args(2)"
   ]
  },
  {
   "cell_type": "markdown",
   "id": "4b6ce67d-a759-4a77-8107-a5e23e60c182",
   "metadata": {},
   "source": [
    "Our phase shift transform can be applied using the `apply_transform` method. "
   ]
  },
  {
   "cell_type": "code",
   "execution_count": 29,
   "id": "06c8660c-7283-45bc-bc2a-d5e04d023904",
   "metadata": {},
   "outputs": [
    {
     "data": {
      "text/plain": [
       "array([[-2.38705569e-21+2.71278668e-06j, -1.50832635e-21+2.70914367e-06j,\n",
       "        -2.34941060e-21+2.69822231e-06j, ...,\n",
       "        -2.46963761e-21+2.68004556e-06j, -3.27585289e-21+2.69822221e-06j,\n",
       "        -2.11051384e-21+2.70914362e-06j],\n",
       "       [ 6.98813415e-15+2.70914367e-06j,  6.97958617e-15+2.70550266e-06j,\n",
       "         6.95396026e-15+2.69458729e-06j, ...,\n",
       "         6.91132169e-15+2.67642058e-06j,  6.95395879e-15+2.69458719e-06j,\n",
       "         6.97958550e-15+2.70550261e-06j],\n",
       "       [ 1.39305051e-14+2.69822231e-06j,  1.39134760e-14+2.69458730e-06j,\n",
       "         1.38624277e-14+2.68368996e-06j, ...,\n",
       "         1.37774884e-14+2.66555339e-06j,  1.38624262e-14+2.68368985e-06j,\n",
       "         1.39134752e-14+2.69458724e-06j],\n",
       "       ...,\n",
       "       [-2.07815783e-14+2.68004556e-06j, -2.07562015e-14+2.67642058e-06j,\n",
       "        -2.06801376e-14+2.66555340e-06j, ...,\n",
       "        -2.05535709e-14+2.64746728e-06j, -2.06801377e-14+2.66555329e-06j,\n",
       "        -2.07562019e-14+2.67642053e-06j],\n",
       "       [-1.39305097e-14+2.69822221e-06j, -1.39134789e-14+2.69458719e-06j,\n",
       "        -1.38624323e-14+2.68368985e-06j, ...,\n",
       "        -1.37774931e-14+2.66555329e-06j, -1.38624326e-14+2.68368975e-06j,\n",
       "        -1.39134793e-14+2.69458714e-06j],\n",
       "       [-6.98813838e-15+2.70914362e-06j, -6.97958879e-15+2.70550261e-06j,\n",
       "        -6.95396444e-15+2.69458724e-06j, ...,\n",
       "        -6.91132607e-15+2.67642053e-06j, -6.95396526e-15+2.69458714e-06j,\n",
       "        -6.97958930e-15+2.70550256e-06j]])"
      ]
     },
     "execution_count": 29,
     "metadata": {},
     "output_type": "execute_result"
    }
   ],
   "source": [
    "phase_shift = PhaseShift(shift=np.pi / 2)\n",
    "\n",
    "phase_shifted_waves = waves.apply_transform(phase_shift)\n",
    "\n",
    "phase_shifted_waves.array"
   ]
  },
  {
   "cell_type": "markdown",
   "id": "57726d95-4272-41d0-b269-706d82f9aa68",
   "metadata": {},
   "source": [
    "We stack the original and phase shifted `Waves` to show them."
   ]
  },
  {
   "cell_type": "code",
   "execution_count": 30,
   "id": "a52fc007-2fa5-409b-a58c-2a25aece6382",
   "metadata": {},
   "outputs": [
    {
     "data": {
      "image/png": "[encoded data removed]",
      "text/plain": [
       "<Figure size 432x288 with 4 Axes>"
      ]
     },
     "metadata": {},
     "output_type": "display_data"
    }
   ],
   "source": [
    "stacked_images = abtem.stack((waves, phase_shifted_waves)).complex_images()\n",
    "\n",
    "stacked_images.show(\n",
    "    explode=True,\n",
    "    title=\"\",\n",
    "    cbar=True,\n",
    "    common_color_scale=True,\n",
    ");"
   ]
  },
  {
   "cell_type": "markdown",
   "id": "ae9aecbe-8b94-4536-9959-693dc2d0aab6",
   "metadata": {},
   "source": [
    "### Including distributions of parameters\n",
    "\n",
    "The `WavesTransform` leverages"
   ]
  },
  {
   "cell_type": "code",
   "execution_count": 7,
   "id": "967c99a4-33d6-4311-83ac-229a587ebc14",
   "metadata": {},
   "outputs": [],
   "source": [
    "class PhaseShift(WavesTransform):\n",
    "    def __init__(self, shift):\n",
    "        self._shift = self._validate_distribution(shift)\n",
    "        super().__init__(distributions=(\"shift\",))\n",
    "\n",
    "    @property\n",
    "    def shift(self):\n",
    "        return self._shift\n",
    "\n",
    "    @property\n",
    "    def ensemble_axes_metadata(self):\n",
    "        return self._axes_metadata_from_distributions(\n",
    "            shift={\"label\": \"phase shift\", \"units\": \"rad\"}\n",
    "        )\n",
    "\n",
    "    def _calculate_new_array(self, waves):\n",
    "        xp = get_array_module(waves.array)\n",
    "\n",
    "        shift = xp.array(self.shift)\n",
    "\n",
    "        shift, new_array = expand_dims_to_broadcast(shift, waves.array)\n",
    "\n",
    "        new_array = new_array * xp.exp(1.0j * shift)\n",
    "\n",
    "        return new_array"
   ]
  },
  {
   "cell_type": "code",
   "execution_count": 12,
   "id": "ff96401d-0c11-4b91-969d-d1603a13abff",
   "metadata": {},
   "outputs": [
    {
     "data": {
      "text/plain": [
       "('auto',)"
      ]
     },
     "execution_count": 12,
     "metadata": {},
     "output_type": "execute_result"
    }
   ],
   "source": [
    "phase_shift = PhaseShift(shifts)\n",
    "\n",
    "phase_shift._default_ensemble_chunks"
   ]
  },
  {
   "cell_type": "code",
   "execution_count": 9,
   "id": "be697417-9728-4a5d-bafe-0b6e2785d461",
   "metadata": {},
   "outputs": [
    {
     "ename": "NameError",
     "evalue": "name 'waves' is not defined",
     "output_type": "error",
     "traceback": [
      "\u001b[0;31m---------------------------------------------------------------------------\u001b[0m",
      "\u001b[0;31mNameError\u001b[0m                                 Traceback (most recent call last)",
      "Cell \u001b[0;32mIn[9], line 5\u001b[0m\n\u001b[1;32m      1\u001b[0m shifts \u001b[38;5;241m=\u001b[39m np\u001b[38;5;241m.\u001b[39mlinspace(\u001b[38;5;241m-\u001b[39mnp\u001b[38;5;241m.\u001b[39mpi, np\u001b[38;5;241m.\u001b[39mpi, \u001b[38;5;241m4\u001b[39m, endpoint\u001b[38;5;241m=\u001b[39m\u001b[38;5;28;01mFalse\u001b[39;00m)\n\u001b[1;32m      3\u001b[0m phase_shift \u001b[38;5;241m=\u001b[39m PhaseShift(shifts)\n\u001b[0;32m----> 5\u001b[0m phase_shifted_waves \u001b[38;5;241m=\u001b[39m \u001b[43mwaves\u001b[49m\u001b[38;5;241m.\u001b[39mapply_transform(phase_shift)\n",
      "\u001b[0;31mNameError\u001b[0m: name 'waves' is not defined"
     ]
    }
   ],
   "source": [
    "shifts = np.linspace(-np.pi, np.pi, 4, endpoint=False)\n",
    "\n",
    "phase_shift = PhaseShift(shifts)\n",
    "\n",
    "phase_shifted_waves = waves.apply_transform(phase_shift)"
   ]
  },
  {
   "cell_type": "code",
   "execution_count": 233,
   "id": "06397fae-eabc-4725-893c-1f4e18b65be6",
   "metadata": {},
   "outputs": [
    {
     "data": {
      "text/plain": [
       "type           label              coordinates\n",
       "-------------  -----------------  --------------------\n",
       "ParameterAxis  phase shift [rad]  -3.14 -1.57 ... 1.57\n",
       "RealSpaceAxis  x [Å]              0.00 0.02 ... 4.98\n",
       "RealSpaceAxis  y [Å]              0.00 0.02 ... 4.98"
      ]
     },
     "execution_count": 233,
     "metadata": {},
     "output_type": "execute_result"
    }
   ],
   "source": [
    "phase_shifted_waves.axes_metadata"
   ]
  },
  {
   "cell_type": "code",
   "execution_count": 238,
   "id": "48bec9c3-cf5c-4584-8b6e-2fce03ff03b7",
   "metadata": {},
   "outputs": [
    {
     "data": {
      "image/png": "[encoded data removed]",
      "text/plain": [
       "<Figure size 864x360 with 6 Axes>"
      ]
     },
     "metadata": {},
     "output_type": "display_data"
    }
   ],
   "source": [
    "images = phase_shifted_waves.complex_images()\n",
    "\n",
    "images.show(explode=True, cbar=True, common_color_scale=True, figsize=(12, 5));"
   ]
  },
  {
   "cell_type": "markdown",
   "id": "961348c9-204b-41a2-a084-8c3ef430be1d",
   "metadata": {},
   "source": [
    "### The `BaseAperture` transform"
   ]
  },
  {
   "cell_type": "code",
   "execution_count": 16,
   "id": "3d6e939f-6469-496e-b8f6-00368b194418",
   "metadata": {},
   "outputs": [],
   "source": [
    "from abtem.transfer import BaseAperture, soft_aperture\n",
    "\n",
    "\n",
    "class Vortex(BaseAperture):\n",
    "    def __init__(\n",
    "        self,\n",
    "        quantum_number,\n",
    "        semiangle_cutoff,\n",
    "        energy=None,\n",
    "        extent=None,\n",
    "        gpts=None,\n",
    "        sampling=None,\n",
    "    ):\n",
    "        self._quantum_number = quantum_number\n",
    "\n",
    "        super().__init__(\n",
    "            semiangle_cutoff=semiangle_cutoff,\n",
    "            energy=energy,\n",
    "            extent=extent,\n",
    "            gpts=gpts,\n",
    "            sampling=sampling,\n",
    "        )\n",
    "\n",
    "    @property\n",
    "    def quantum_number(self):\n",
    "        return self._quantum_number\n",
    "\n",
    "    def _evaluate_from_angular_grid(self, alpha, phi):\n",
    "        xp = get_array_module(alpha)\n",
    "\n",
    "        semiangle_cutoff = self.semiangle_cutoff * 1e-3\n",
    "        array = soft_aperture(alpha, phi, semiangle_cutoff, self.angular_sampling)\n",
    "\n",
    "        phase = xp.exp(1.0j * phi * quantum_number)\n",
    "        array = array * phase\n",
    "\n",
    "        return array"
   ]
  },
  {
   "cell_type": "code",
   "execution_count": 17,
   "id": "3af0f9a6-cce5-469e-bbcf-7b2b69f117db",
   "metadata": {},
   "outputs": [],
   "source": [
    "class Vortex(BaseAperture):\n",
    "    def __init__(\n",
    "        self,\n",
    "        quantum_number,\n",
    "        semiangle_cutoff,\n",
    "        energy=None,\n",
    "        extent=None,\n",
    "        gpts=None,\n",
    "        sampling=None,\n",
    "    ):\n",
    "        self._quantum_number = self._validate_distribution(quantum_number)\n",
    "        semiangle_cutoff = self._validate_distribution(semiangle_cutoff)\n",
    "\n",
    "        super().__init__(\n",
    "            energy=energy,\n",
    "            semiangle_cutoff=semiangle_cutoff,\n",
    "            extent=extent,\n",
    "            gpts=gpts,\n",
    "            sampling=sampling,\n",
    "            distributions=(\"quantum_number\", \"semiangle_cutoff\"),\n",
    "        )\n",
    "\n",
    "    @property\n",
    "    def quantum_number(self):\n",
    "        return self._quantum_number\n",
    "\n",
    "    @property\n",
    "    def ensemble_axes_metadata(self):\n",
    "        return self._axes_metadata_from_distributions(\n",
    "            quantum_number={\n",
    "                \"label\": \"quantum number\",\n",
    "                \"units\": \"\",\n",
    "                \"_tex_label\": \"$\\ell$\",\n",
    "            },\n",
    "            semiangle_cutoff={\n",
    "                \"label\": \"cutoff\",\n",
    "                \"units\": \"mrad\",\n",
    "                \"_tex_label\": \"$\\\\alpha_{\\mathrm{cut}}$\",\n",
    "            },\n",
    "        )\n",
    "\n",
    "    def _evaluate_from_angular_grid(self, alpha, phi):\n",
    "        xp = get_array_module(alpha)\n",
    "\n",
    "        # calculate aperture\n",
    "        semiangle_cutoff = xp.array(self.semiangle_cutoff) * 1e-3\n",
    "        aperture = soft_aperture(alpha, phi, semiangle_cutoff, self.angular_sampling)\n",
    "\n",
    "        # calculate phase factor\n",
    "        quantum_number = xp.array(self.quantum_number)\n",
    "        quantum_number, phi = expand_dims_to_broadcast(quantum_number, phi)\n",
    "        phase = xp.exp(1j * phi * quantum_number)\n",
    "\n",
    "        # multiply phase with\n",
    "        phase, aperture = expand_dims_to_broadcast(\n",
    "            phase, aperture, match_dims=[(-2, -1), (-2, -1)]\n",
    "        )\n",
    "        array = aperture * phase\n",
    "\n",
    "        return array"
   ]
  },
  {
   "cell_type": "code",
   "execution_count": 19,
   "id": "9fce4326-c0d1-4d8f-a5fd-e57be6bbf4b9",
   "metadata": {},
   "outputs": [
    {
     "data": {
      "text/plain": [
       "(dask.array<array, shape=(3,), dtype=object, chunksize=(1,), chunktype=numpy.ndarray>,\n",
       " dask.array<array, shape=(2,), dtype=object, chunksize=(1,), chunktype=numpy.ndarray>)"
      ]
     },
     "execution_count": 19,
     "metadata": {},
     "output_type": "execute_result"
    }
   ],
   "source": [
    "vortex._partition_args()"
   ]
  },
  {
   "cell_type": "code",
   "execution_count": null,
   "id": "94d4779d-bf4b-41e5-a9c7-4d251d502196",
   "metadata": {},
   "outputs": [],
   "source": []
  },
  {
   "cell_type": "code",
   "execution_count": 18,
   "id": "7f424f57-ae2b-411f-81e1-f8433bf58605",
   "metadata": {},
   "outputs": [],
   "source": [
    "vortex = Vortex(\n",
    "    quantum_number=[1, 2, 4],\n",
    "    semiangle_cutoff=[20, 30],\n",
    ")"
   ]
  },
  {
   "cell_type": "code",
   "execution_count": 241,
   "id": "6492581b-8ff3-4de5-988e-f14a59f99a7c",
   "metadata": {},
   "outputs": [
    {
     "data": {
      "image/png": "[encoded data removed]",
      "text/plain": [
       "<Figure size 576x576 with 8 Axes>"
      ]
     },
     "metadata": {},
     "output_type": "display_data"
    }
   ],
   "source": [
    "probe = abtem.Probe(energy=200e3, gpts=128, extent=25, aperture=vortex)\n",
    "\n",
    "waves = probe.build((0, 0))\n",
    "\n",
    "waves.diffraction_patterns(return_complex=True).crop(30).show(\n",
    "    explode=True, cbar=True, common_color_scale=True, figsize=(8, 8)\n",
    ");"
   ]
  },
  {
   "cell_type": "markdown",
   "id": "543c75a1-f7b7-47f2-b5d3-e781ed3e6414",
   "metadata": {},
   "source": [
    "### The `BaseDetector` transform"
   ]
  },
  {
   "cell_type": "code",
   "execution_count": null,
   "id": "6f0b188e-5602-401d-a086-47fd3b71430a",
   "metadata": {},
   "outputs": [],
   "source": []
  },
  {
   "cell_type": "code",
   "execution_count": null,
   "id": "9b9cce93-4c36-490a-9f80-cfca64c3009b",
   "metadata": {},
   "outputs": [],
   "source": [
    "blocks = phase_shift.ensemble_blocks(2)\n",
    "\n",
    "blocks"
   ]
  },
  {
   "cell_type": "code",
   "execution_count": null,
   "id": "ddf65ace-0576-4fb1-9857-e36d5d89dcd8",
   "metadata": {},
   "outputs": [],
   "source": [
    "blocks.compute()"
   ]
  },
  {
   "cell_type": "code",
   "execution_count": null,
   "id": "2c956ff3-6f56-41cc-a5a9-4c93a0f11eea",
   "metadata": {},
   "outputs": [],
   "source": [
    "transformed_waves.axes_metadata"
   ]
  },
  {
   "cell_type": "code",
   "execution_count": null,
   "id": "dd64cc5c-98c2-4c93-89cf-1812b2900f30",
   "metadata": {},
   "outputs": [],
   "source": []
  }
 ],
 "metadata": {
  "kernelspec": {
   "display_name": "abtem-dask",
   "language": "python",
   "name": "abtem-dask"
  },
  "language_info": {
   "codemirror_mode": {
    "name": "ipython",
    "version": 3
   },
   "file_extension": ".py",
   "mimetype": "text/x-python",
   "name": "python",
   "nbconvert_exporter": "python",
   "pygments_lexer": "ipython3",
   "version": "3.10.8"
  },
  "widgets": {
   "application/vnd.jupyter.widget-state+json": {
    "state": {},
    "version_major": 2,
    "version_minor": 0
   }
  }
 },
 "nbformat": 4,
 "nbformat_minor": 5
}
