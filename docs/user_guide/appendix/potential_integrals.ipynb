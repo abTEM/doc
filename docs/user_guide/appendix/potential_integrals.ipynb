{
 "cells": [
  {
   "cell_type": "markdown",
   "metadata": {},
   "source": [
    "# Potential integrals"
   ]
  },
  {
   "cell_type": "markdown",
   "metadata": {
    "pycharm": {
     "name": "#%% md\n"
    }
   },
   "source": [
    "## Real space integrators\n",
    "\n",
    "### Quadrature rule\n",
    "\n",
    "The numerical integrals by creating a table of integrals by using the Gaussian quadrature method , which is designed for accurate results using a minimum number of evaluations for functions with singularities.\n",
    "\n",
    "The potential of a single atom is localized, but in principle infinite in extent, hence we need to set a reasonable cutoff. The cutoff is calculated by solving the equation\n",
    "\n",
    "$$\n",
    "V(r) = V_{tol} \\quad ,\n",
    "$$\n",
    "\n",
    "where $V_{tol}$ is the error at the cut-off. The equation is solved for each species. The use of the cut-off radius creates a discontinuity; hence, abTEM uses a tapering near the cut-off. $V_{cut}$ can be modified using the `cutoff_tolerance` argument of the `Potential` or `AtomicPotential` objects. abTEM uses a tapering cutoff starting at $85 \\ \\%$ of the full cutoff."
   ]
  },
  {
   "cell_type": "code",
   "execution_count": null,
   "metadata": {
    "collapsed": false,
    "jupyter": {
     "outputs_hidden": false
    },
    "pycharm": {
     "name": "#%%\n"
    }
   },
   "outputs": [],
   "source": [
    "from abtem.potentials.integrals import ProjectionQuadratureRule\n",
    "\n",
    "integrator = ProjectionQuadratureRule()\n",
    "\n",
    "integrator"
   ]
  }
 ],
 "metadata": {
  "kernelspec": {
   "display_name": "Python 3 (ipykernel)",
   "language": "python",
   "name": "python3"
  },
  "language_info": {
   "codemirror_mode": {
    "name": "ipython",
    "version": 3
   },
   "file_extension": ".py",
   "mimetype": "text/x-python",
   "name": "python",
   "nbconvert_exporter": "python",
   "pygments_lexer": "ipython3",
   "version": "3.13.3"
  },
  "widgets": {
   "application/vnd.jupyter.widget-state+json": {
    "state": {},
    "version_major": 2,
    "version_minor": 0
   }
  }
 },
 "nbformat": 4,
 "nbformat_minor": 4
}
