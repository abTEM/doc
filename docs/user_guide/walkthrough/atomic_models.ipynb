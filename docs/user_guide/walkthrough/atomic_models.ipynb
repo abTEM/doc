{
 "cells": [
  {
   "cell_type": "code",
   "execution_count": null,
   "metadata": {
    "pycharm": {
     "name": "#%%\n"
    },
    "tags": [
     "hide-input"
    ]
   },
   "outputs": [],
   "source": [
    "%config InlineBackend.rc = {\"figure.dpi\": 72, \"figure.figsize\": (6.0, 4.0)}\n",
    "%matplotlib inline\n",
    "\n",
    "import abtem\n",
    "import ase\n",
    "import matplotlib.pyplot as plt\n",
    "import numpy as np"
   ]
  },
  {
   "cell_type": "markdown",
   "metadata": {
    "pycharm": {
     "name": "#%% md\n"
    },
    "tags": []
   },
   "source": [
    "(walkthrough:atomic_models)=\n",
    "# Atomic models\n",
    "*ab*TEM uses the Atomic Simulation Environment ([ASE](https://wiki.fysik.dtu.dk/ase/)) for creating model atomic structures {cite}`ase`. ASE is a set of open-source tools and Python modules for setting up, manipulating, visualizing and analyzing atomistic simulations. It is also used in conjunction with other simulation codes such as [GPAW](https://wiki.fysik.dtu.dk/gpaw/) for running density functional theory (DFT) simulations. \n",
    "\n",
    "Here, we introduce the set of features of ASE needed for image simulations; please refer to the ASE [documentation](https://wiki.fysik.dtu.dk/ase/ase/ase.html) for a more general introduction.\n",
    "\n",
    "## `Atoms`\n",
    "The `Atoms` object defines a collection of atoms, ie. our specimen. Here is how to set up an N<sub>2</sub> molecule by directly specifying the position of the two nitrogen atoms (in units of Ångstrom, which is the default in both ASE and *ab*TEM)."
   ]
  },
  {
   "cell_type": "code",
   "execution_count": null,
   "metadata": {
    "pycharm": {
     "name": "#%%\n"
    }
   },
   "outputs": [],
   "source": [
    "n2 = ase.Atoms(\"N2\", \n",
    "               positions=[(0.0, 0.0, 0.0), (0.0, 0.0, 1.10)], \n",
    "               cell=[2, 2, 2],\n",
    "               pbc=True)"
   ]
  },
  {
   "cell_type": "markdown",
   "metadata": {
    "pycharm": {
     "name": "#%% md\n"
    }
   },
   "source": [
    "A basic *ab*TEM simulation only uses the positional coordinates, atomic numbers and the unit cell for creating electrostatic potentials using the independent atom model. \n",
    "\n",
    "The atomic numbers are an array of integers."
   ]
  },
  {
   "cell_type": "code",
   "execution_count": null,
   "metadata": {
    "pycharm": {
     "name": "#%%\n"
    }
   },
   "outputs": [],
   "source": [
    "n2.numbers"
   ]
  },
  {
   "cell_type": "markdown",
   "metadata": {},
   "source": [
    "The $xyz$ positions are an $N\\times 3$ array, where $N$ is the number of atoms."
   ]
  },
  {
   "cell_type": "code",
   "execution_count": null,
   "metadata": {},
   "outputs": [],
   "source": [
    "n2.positions"
   ]
  },
  {
   "cell_type": "markdown",
   "metadata": {
    "pycharm": {
     "name": "#%% md\n"
    }
   },
   "source": [
    "The unit cell associated with the atoms is slightly more complicated. When we access it here, we get three numbers, corresponding to the length of each side of the cell. This is because the unit vectors of this cell are orthogonal and axis-aligned, hence the cell can be given as just the sides of a rectangular cuboid."
   ]
  },
  {
   "cell_type": "code",
   "execution_count": null,
   "metadata": {
    "pycharm": {
     "name": "#%%\n"
    }
   },
   "outputs": [],
   "source": [
    "n2.cell"
   ]
  },
  {
   "cell_type": "markdown",
   "metadata": {
    "pycharm": {
     "name": "#%% md\n"
    }
   },
   "source": [
    "In general, a cell is defined by three lattice vectors. We print the full representation of the cell below, where each row represents a lattice vector."
   ]
  },
  {
   "cell_type": "code",
   "execution_count": null,
   "metadata": {
    "collapsed": false,
    "jupyter": {
     "outputs_hidden": false
    },
    "pycharm": {
     "name": "#%%\n"
    }
   },
   "outputs": [],
   "source": [
    "np.array(n2.cell)"
   ]
  },
  {
   "cell_type": "markdown",
   "metadata": {
    "pycharm": {
     "name": "#%% md\n"
    },
    "tags": []
   },
   "source": [
    "```{important}\n",
    "The multislice algorithm requires that the unit vectors of the cell are orthogonal and axis-aligned, and additionally, the cell must be periodic. Fulfilling both of these constraints when creating a desired model structure is not always trivial, see [our advanced tutorial](tutorials:advanced_atomic_models:orthogonal) for an introduction to the problem and tools *ab*TEM implements to help solve it.\n",
    "```\n",
    "\n",
    "## Import/export\n",
    "\n",
    "In addition to defining structures using code, ASE can import all the common atomic structure formats, see a full list [here](https://wiki.fysik.dtu.dk/ase/ase/io/io.html). Below we import a .cif-file defining a unit cell of strontium titanate (SrTiO<sub>3</sub>). "
   ]
  },
  {
   "cell_type": "code",
   "execution_count": null,
   "metadata": {
    "pycharm": {
     "name": "#%%\n"
    },
    "tags": []
   },
   "outputs": [],
   "source": [
    "srtio3 = ase.io.read(\"./data/SrTiO3.cif\")"
   ]
  },
  {
   "cell_type": "markdown",
   "metadata": {},
   "source": [
    "```{warning}\n",
    "Unlike some other multislice simulation codes, *ab*TEM does not use any Debye-Waller factors or partial occupations embedded in structure files. Our philosophy is that those should be explicitly modeled.\n",
    "```\n",
    "\n",
    "Of course, we can also write the structure back to disk.  "
   ]
  },
  {
   "cell_type": "code",
   "execution_count": null,
   "metadata": {
    "pycharm": {
     "name": "#%%\n"
    }
   },
   "outputs": [],
   "source": [
    "ase.io.write(\"./data/SrTiO3.cif\", srtio3)"
   ]
  },
  {
   "cell_type": "markdown",
   "metadata": {},
   "source": [
    "## Visualizing structures\n",
    "The simplest way to visualize the atoms is our `show_atoms` function. This creates a `matplotlib` figure of an 2D orthogonal projection of the structure perpendicular to a specified plane (default being the `xy` plane that is perpendicular to the default propagation direction in *ab*TEM)."
   ]
  },
  {
   "cell_type": "code",
   "execution_count": null,
   "metadata": {},
   "outputs": [],
   "source": [
    "abtem.show_atoms(\n",
    "    srtio3,\n",
    "    plane=\"xy\",  # show a view perpendicular to the 'xy' plane\n",
    "    scale=0.5,  # scale atoms to 0.5 of their covalent radii; default is 0.75\n",
    "    legend=True,  # show a legend with the atomic symbols\n",
    ");"
   ]
  },
  {
   "cell_type": "markdown",
   "metadata": {},
   "source": [
    "The multislice algorithm requires periodic boundary conditions, and thus we should imagine that the atoms at a boundary have an equivalent image at the opposite side. We can show the periodic images of the boundary atoms by setting `show_periodic=True`."
   ]
  },
  {
   "cell_type": "code",
   "execution_count": null,
   "metadata": {},
   "outputs": [],
   "source": [
    "abtem.show_atoms(\n",
    "    srtio3,\n",
    "    show_periodic=True,\n",
    "    scale=0.5,\n",
    "    legend=True,\n",
    ");"
   ]
  },
  {
   "cell_type": "markdown",
   "metadata": {},
   "source": [
    "Alternatively, we may center a copy of the atoms (copied to avoid changing the original atoms) before displaying them using the `center` method, but this may later not be ideal for visualizing the potential."
   ]
  },
  {
   "cell_type": "code",
   "execution_count": null,
   "metadata": {},
   "outputs": [],
   "source": [
    "centered_srtio3 = srtio3.copy()\n",
    "centered_srtio3.center()\n",
    "\n",
    "abtem.show_atoms(\n",
    "    centered_srtio3,\n",
    "    scale=0.5,\n",
    "    legend=True,\n",
    ");"
   ]
  },
  {
   "cell_type": "markdown",
   "metadata": {
    "pycharm": {
     "name": "#%% md\n"
    }
   },
   "source": [
    "## Manipulating structures\n",
    "\n",
    "The structure you import or build may not match your requirements or the requirements of *ab*TEM. The most commonly needed manipulation is to repeat the structure to create a supercell.\n",
    "\n",
    "For many more examples, see our [tutorial on advanced atomic models](../tutorials/advanced_atomic_models.ipynb), which includes examples on rotating, scaling, and combining structures, and our tools for creating orthogonal periodic supercells that are required for multislice simulations."
   ]
  },
  {
   "cell_type": "markdown",
   "metadata": {
    "pycharm": {
     "name": "#%% md\n"
    }
   },
   "source": [
    "### Repeating the structure\n",
    "\n",
    "It is often necessary to create a larger supercell from a unit cell. For example, you may need to increase the thickness of the structure by repeating it along the $z$-axis."
   ]
  },
  {
   "cell_type": "markdown",
   "metadata": {},
   "source": [
    "```{warning}\n",
    "In STEM, the $xy$-extent of the model structure have to be large enough to accomodate the size of the probe to prevent self-interaction with its periodic images.\n",
    "```"
   ]
  },
  {
   "cell_type": "markdown",
   "metadata": {},
   "source": [
    "ASE atomic structures may be repeated simply by multiplying them with a tuple of 3 integers."
   ]
  },
  {
   "cell_type": "code",
   "execution_count": null,
   "metadata": {
    "collapsed": false,
    "jupyter": {
     "outputs_hidden": false
    },
    "pycharm": {
     "name": "#%%\n"
    }
   },
   "outputs": [],
   "source": [
    "repeated_srtio3 = srtio3 * (2, 2, 6)\n",
    "\n",
    "fig, (ax1, ax2) = plt.subplots(1, 2, figsize=(6, 4))\n",
    "abtem.show_atoms(repeated_srtio3, ax=ax1, title=\"Beam view\")\n",
    "abtem.show_atoms(repeated_srtio3, ax=ax2, plane=\"xz\", title=\"Side view\")\n",
    "fig.tight_layout();"
   ]
  },
  {
   "cell_type": "markdown",
   "metadata": {},
   "source": [
    "Let us then move on to discuss how we create the electrostatic scattering potentials from such atomic structures (click \"Potentials\" at the bottom-right of the page)."
   ]
  }
 ],
 "metadata": {
  "kernelspec": {
   "display_name": "abtem-dask",
   "language": "python",
   "name": "abtem-dask"
  },
  "language_info": {
   "codemirror_mode": {
    "name": "ipython",
    "version": 3
   },
   "file_extension": ".py",
   "mimetype": "text/x-python",
   "name": "python",
   "nbconvert_exporter": "python",
   "pygments_lexer": "ipython3",
   "version": "3.9.15"
  },
  "widgets": {
   "application/vnd.jupyter.widget-state+json": {
    "state": {},
    "version_major": 2,
    "version_minor": 0
   }
  }
 },
 "nbformat": 4,
 "nbformat_minor": 4
}
