{
 "cells": [
  {
   "cell_type": "code",
   "execution_count": 1,
   "metadata": {
    "pycharm": {
     "name": "#%%\n"
    },
    "tags": [
     "hide-input"
    ]
   },
   "outputs": [],
   "source": [
    "%config InlineBackend.rc = {\"figure.dpi\": 72, 'figure.figsize': (6.0, 4.0)}\n",
    "%matplotlib inline\n",
    "\n",
    "import abtem\n",
    "import matplotlib.pyplot as plt\n",
    "import numpy as np\n",
    "\n",
    "abtem.config.set({\"local_diagnostics.progress_bar\": False});"
   ]
  },
  {
   "cell_type": "markdown",
   "metadata": {
    "pycharm": {
     "name": "#%% md\n"
    }
   },
   "source": [
    "(walkthrough:wave_functions)= \n",
    "# Wave functions\n",
    "The multislice algorithm works by propagating the $xy$ part of the wave function (defined as $\\psi$ in the [appendix](../appendix/multislice_derivation.ipynb)) through the electrostatic potential. To start the propagation, we need to assume the initial conditions for the wave function, i.e. a wave function describing the electron beam formed by the electron optics before the sample.\n",
    "\n",
    "*ab*TEM defines three types of wave functions:\n",
    "\n",
    "* [`PlaneWave`](wave_functions:plane_wave): Simulate HRTEM, SAED or other imaging modes with parallel-beam plane wave illumination.\n",
    "* [`Probe`](wave_functions:probe): Simulate CBED, STEM or other imaging modes with a converged electron beam.\n",
    "* `Waves`: Defines any custom wave function. `PlaneWave` and `Probe` can be converted to `Waves`.\n",
    "\n",
    "```{seealso}\n",
    "The PRISM algorithm uses `SMatrix`, which is not included in the list above. However, in most ways it can be used similar to `Probe`; see our [tutorial on PRISM in abTEM](tutorials:prism) for more detail.\n",
    "```\n",
    "\n",
    "(wave_functions:plane_wave)=\n",
    "## Plane wave functions\n",
    "\n",
    "The default plane wave is just defined to be equal to unity everywhere in the plane\n",
    "\n",
    "$$\n",
    "    \\psi(\\vec{r}) = 1 \\quad ,\n",
    "$$\n",
    "\n",
    "where $\\vec{r} = (x, y)$ is the real space coordinate in the $x$- and $y$-direction. While mathematically, those coordinates are usually considered to be continuous, in a numerical simulation we have define a discrete grid with a finite extent to represent them.\n",
    "\n",
    "We create a plane wave on a $256 \\times 256$ grid with a lateral extent of $5\\times 5$ $\\mathrm{Å}^2$ and an energy of $300 \\ \\mathrm{keV}$."
   ]
  },
  {
   "cell_type": "code",
   "execution_count": 2,
   "metadata": {
    "tags": []
   },
   "outputs": [],
   "source": [
    "plane_wave = abtem.PlaneWave(gpts=256, extent=5, energy=300e3)"
   ]
  },
  {
   "cell_type": "markdown",
   "metadata": {},
   "source": [
    "The real-space sampling, or pixel size, is calculated by dividing the `extent` by the number of grid points (`gpts`). The properties related to the grid, i.e. the `extent`, `gpts` and `sampling`, can be accessed as properties of the `PlaneWave` object."
   ]
  },
  {
   "cell_type": "code",
   "execution_count": 3,
   "metadata": {},
   "outputs": [
    {
     "data": {
      "text/plain": [
       "((5.0, 5.0), (256, 256), (0.01953125, 0.01953125))"
      ]
     },
     "execution_count": 3,
     "metadata": {},
     "output_type": "execute_result"
    }
   ],
   "source": [
    "plane_wave.extent, plane_wave.gpts, plane_wave.sampling"
   ]
  },
  {
   "cell_type": "markdown",
   "metadata": {},
   "source": [
    "The grid is fully defined from just two of the three quantities listed above, and thus we may pick any combination of two to define it. \n",
    "\n",
    "The relativistic wavelength in Ångstrom, derived from the energy, is accessed as:"
   ]
  },
  {
   "cell_type": "code",
   "execution_count": 4,
   "metadata": {},
   "outputs": [
    {
     "name": "stdout",
     "output_type": "stream",
     "text": [
      "Wavelength: 0.0197 Å\n"
     ]
    }
   ],
   "source": [
    "print(f\"Wavelength: {plane_wave.wavelength:.4f} Å\")"
   ]
  },
  {
   "cell_type": "markdown",
   "metadata": {},
   "source": [
    "```{note}\n",
    "abTEM uses the same unit conventions as ASE, as defined in the `ase.units` module. Thus, electron volts (eV), Ångström (Å), and atomic mass units are defined as 1.0. The electrostatic potential is given in (eV / e). Angles in *ab*TEM are for convenience given in milliradians (mrad).\n",
    "\n",
    "```\n",
    "We can turn the `PlaneWave` into a generic `Waves` by using `build`."
   ]
  },
  {
   "cell_type": "code",
   "execution_count": 5,
   "metadata": {
    "pycharm": {
     "name": "#%%\n"
    },
    "tags": [
     "skip-test"
    ]
   },
   "outputs": [
    {
     "data": {
      "text/plain": [
       "<abtem.waves.Waves object at 0x000001D9EAA92500>"
      ]
     },
     "execution_count": 5,
     "metadata": {},
     "output_type": "execute_result"
    }
   ],
   "source": [
    "waves = plane_wave.build()\n",
    "waves"
   ]
  },
  {
   "cell_type": "markdown",
   "metadata": {},
   "source": [
    "The `Waves` describe the wave function as a complex Dask array (see our page on [parallelization](parallelization.ipynb)), as accessed below."
   ]
  },
  {
   "cell_type": "code",
   "execution_count": 6,
   "metadata": {},
   "outputs": [
    {
     "data": {
      "text/html": [
       "<table>\n",
       "    <tr>\n",
       "        <td>\n",
       "            <table style=\"border-collapse: collapse;\">\n",
       "                <thead>\n",
       "                    <tr>\n",
       "                        <td> </td>\n",
       "                        <th> Array </th>\n",
       "                        <th> Chunk </th>\n",
       "                    </tr>\n",
       "                </thead>\n",
       "                <tbody>\n",
       "                    \n",
       "                    <tr>\n",
       "                        <th> Bytes </th>\n",
       "                        <td> 512.00 kiB </td>\n",
       "                        <td> 512.00 kiB </td>\n",
       "                    </tr>\n",
       "                    \n",
       "                    <tr>\n",
       "                        <th> Shape </th>\n",
       "                        <td> (256, 256) </td>\n",
       "                        <td> (256, 256) </td>\n",
       "                    </tr>\n",
       "                    <tr>\n",
       "                        <th> Dask graph </th>\n",
       "                        <td colspan=\"2\"> 1 chunks in 2 graph layers </td>\n",
       "                    </tr>\n",
       "                    <tr>\n",
       "                        <th> Data type </th>\n",
       "                        <td colspan=\"2\"> complex64 numpy.ndarray </td>\n",
       "                    </tr>\n",
       "                </tbody>\n",
       "            </table>\n",
       "        </td>\n",
       "        <td>\n",
       "        <svg width=\"170\" height=\"170\" style=\"stroke:rgb(0,0,0);stroke-width:1\" >\n",
       "\n",
       "  <!-- Horizontal lines -->\n",
       "  <line x1=\"0\" y1=\"0\" x2=\"120\" y2=\"0\" style=\"stroke-width:2\" />\n",
       "  <line x1=\"0\" y1=\"120\" x2=\"120\" y2=\"120\" style=\"stroke-width:2\" />\n",
       "\n",
       "  <!-- Vertical lines -->\n",
       "  <line x1=\"0\" y1=\"0\" x2=\"0\" y2=\"120\" style=\"stroke-width:2\" />\n",
       "  <line x1=\"120\" y1=\"0\" x2=\"120\" y2=\"120\" style=\"stroke-width:2\" />\n",
       "\n",
       "  <!-- Colored Rectangle -->\n",
       "  <polygon points=\"0.0,0.0 120.0,0.0 120.0,120.0 0.0,120.0\" style=\"fill:#ECB172A0;stroke-width:0\"/>\n",
       "\n",
       "  <!-- Text -->\n",
       "  <text x=\"60.000000\" y=\"140.000000\" font-size=\"1.0rem\" font-weight=\"100\" text-anchor=\"middle\" >256</text>\n",
       "  <text x=\"140.000000\" y=\"60.000000\" font-size=\"1.0rem\" font-weight=\"100\" text-anchor=\"middle\" transform=\"rotate(-90,140.000000,60.000000)\">256</text>\n",
       "</svg>\n",
       "        </td>\n",
       "    </tr>\n",
       "</table>"
      ],
      "text/plain": [
       "dask.array<_extract_measurement, shape=(256, 256), dtype=complex64, chunksize=(256, 256), chunktype=numpy.ndarray>"
      ]
     },
     "execution_count": 6,
     "metadata": {},
     "output_type": "execute_result"
    }
   ],
   "source": [
    "waves.array"
   ]
  },
  {
   "cell_type": "markdown",
   "metadata": {},
   "source": [
    "After actually computing the values of the wave function, it will be described as a NumPy array."
   ]
  },
  {
   "cell_type": "code",
   "execution_count": 7,
   "metadata": {},
   "outputs": [
    {
     "data": {
      "text/plain": [
       "array([[1.+0.j, 1.+0.j, 1.+0.j, ..., 1.+0.j, 1.+0.j, 1.+0.j],\n",
       "       [1.+0.j, 1.+0.j, 1.+0.j, ..., 1.+0.j, 1.+0.j, 1.+0.j],\n",
       "       [1.+0.j, 1.+0.j, 1.+0.j, ..., 1.+0.j, 1.+0.j, 1.+0.j],\n",
       "       ...,\n",
       "       [1.+0.j, 1.+0.j, 1.+0.j, ..., 1.+0.j, 1.+0.j, 1.+0.j],\n",
       "       [1.+0.j, 1.+0.j, 1.+0.j, ..., 1.+0.j, 1.+0.j, 1.+0.j],\n",
       "       [1.+0.j, 1.+0.j, 1.+0.j, ..., 1.+0.j, 1.+0.j, 1.+0.j]],\n",
       "      dtype=complex64)"
      ]
     },
     "execution_count": 7,
     "metadata": {},
     "output_type": "execute_result"
    }
   ],
   "source": [
    "waves.compute()\n",
    "\n",
    "waves.array"
   ]
  },
  {
   "cell_type": "markdown",
   "metadata": {},
   "source": [
    "The normalization of the wave function used above ensures that the intensity per area is constant when the grid is changed. However, this is not a very natural normalization in Fourier space, and we may instead define the plane wave such that the direct beam is $1$ before scattering.\n",
    "\n",
    "$$\n",
    "    \\hat{\\psi}(\\vec{k}) = \\delta(0) \\quad .\n",
    "$$\n",
    "\n",
    "We create a plane wave with this normalization by setting `normalize=True`."
   ]
  },
  {
   "cell_type": "code",
   "execution_count": 8,
   "metadata": {},
   "outputs": [],
   "source": [
    "normalized_plane_wave = abtem.PlaneWave(\n",
    "    gpts=256, extent=5, energy=300e3, normalize=True\n",
    ")"
   ]
  },
  {
   "cell_type": "markdown",
   "metadata": {
    "pycharm": {
     "name": "#%% md\n"
    }
   },
   "source": [
    "(wave_functions:probe)=\n",
    "## Probe wave functions\n",
    "\n",
    "In *ab*TEM, a focused beam of electrons, or `Probe`, is defined in Fourier space as\n",
    "\n",
    "$$\n",
    "    \\hat{\\psi}(\\vec{k}) = A(\\vec{k}) \\ \\exp(-i \\chi(\\vec{k})) \\quad ,\n",
    "$$\n",
    "\n",
    "where $A(k)$ is the aperture function, $\\chi(\\vec{k})$ is the phase error and $\\vec{k} = (k_x, k_y)$ is the spatial frequency in $x$ and $y$, respectively. The real-space probe is just the inverse Fourier transform\n",
    "\n",
    "$$\n",
    "    \\psi(\\vec{r}) = \\mathcal{F}^{-1} \\left[ \\hat{\\psi}(\\vec{r}) \\right] \\quad .\n",
    "$$\n",
    "\n",
    "The probe wave function is normalized such that its intensity sums to $1$ in Fourier space\n",
    "\n",
    "$$\n",
    "    \\int \\|\\hat{\\psi}\\|^2 d\\vec{k} = 1 \\quad .\n",
    "$$\n",
    "\n",
    "We create a probe with a `sampling` of $0.05 \\ \\mathrm{Å}$, an `extent` of $20\\times 20$ $\\mathrm{Å}^2$, an `energy` of $80 \\ \\mathrm{keV}$, a convergence semiangle (`semiangle_cutoff`) of $30 \\ \\mathrm{mrad}$, a defocus (`C10`; note the common negative sign convention here) of $-50 \\ \\mathrm{Å}$ and spherical aberration (`Cs`) of $-50 \\ \\mathrm{\\mu m}$ (note the conversion to $\\mathrm{m}$ and then to $\\mathrm{Å}$)."
   ]
  },
  {
   "cell_type": "code",
   "execution_count": 9,
   "metadata": {
    "collapsed": false,
    "jupyter": {
     "outputs_hidden": false
    },
    "pycharm": {
     "name": "#%%\n"
    }
   },
   "outputs": [],
   "source": [
    "probe = abtem.Probe(\n",
    "    sampling=0.05,\n",
    "    extent=20,\n",
    "    energy=80e3,\n",
    "    semiangle_cutoff=20,\n",
    "    C10=50,\n",
    "    Cs=-50e-6 * 1e10,\n",
    ")"
   ]
  },
  {
   "cell_type": "markdown",
   "metadata": {},
   "source": [
    "```{seealso}\n",
    "See our [introduction to the contrast transfer function](walkthrough:contrast_transfer_function) for a full list of phase aberrations.\n",
    "```"
   ]
  },
  {
   "cell_type": "markdown",
   "metadata": {},
   "source": [
    "We can again turn the `Probe` into the generic `Waves` by using `build`, which, as the plane wave, is represented by a Dask array."
   ]
  },
  {
   "cell_type": "code",
   "execution_count": 10,
   "metadata": {},
   "outputs": [
    {
     "data": {
      "text/html": [
       "<table>\n",
       "    <tr>\n",
       "        <td>\n",
       "            <table style=\"border-collapse: collapse;\">\n",
       "                <thead>\n",
       "                    <tr>\n",
       "                        <td> </td>\n",
       "                        <th> Array </th>\n",
       "                        <th> Chunk </th>\n",
       "                    </tr>\n",
       "                </thead>\n",
       "                <tbody>\n",
       "                    \n",
       "                    <tr>\n",
       "                        <th> Bytes </th>\n",
       "                        <td> 1.22 MiB </td>\n",
       "                        <td> 1.22 MiB </td>\n",
       "                    </tr>\n",
       "                    \n",
       "                    <tr>\n",
       "                        <th> Shape </th>\n",
       "                        <td> (400, 400) </td>\n",
       "                        <td> (400, 400) </td>\n",
       "                    </tr>\n",
       "                    <tr>\n",
       "                        <th> Dask graph </th>\n",
       "                        <td colspan=\"2\"> 1 chunks in 4 graph layers </td>\n",
       "                    </tr>\n",
       "                    <tr>\n",
       "                        <th> Data type </th>\n",
       "                        <td colspan=\"2\"> complex64 numpy.ndarray </td>\n",
       "                    </tr>\n",
       "                </tbody>\n",
       "            </table>\n",
       "        </td>\n",
       "        <td>\n",
       "        <svg width=\"170\" height=\"170\" style=\"stroke:rgb(0,0,0);stroke-width:1\" >\n",
       "\n",
       "  <!-- Horizontal lines -->\n",
       "  <line x1=\"0\" y1=\"0\" x2=\"120\" y2=\"0\" style=\"stroke-width:2\" />\n",
       "  <line x1=\"0\" y1=\"120\" x2=\"120\" y2=\"120\" style=\"stroke-width:2\" />\n",
       "\n",
       "  <!-- Vertical lines -->\n",
       "  <line x1=\"0\" y1=\"0\" x2=\"0\" y2=\"120\" style=\"stroke-width:2\" />\n",
       "  <line x1=\"120\" y1=\"0\" x2=\"120\" y2=\"120\" style=\"stroke-width:2\" />\n",
       "\n",
       "  <!-- Colored Rectangle -->\n",
       "  <polygon points=\"0.0,0.0 120.0,0.0 120.0,120.0 0.0,120.0\" style=\"fill:#ECB172A0;stroke-width:0\"/>\n",
       "\n",
       "  <!-- Text -->\n",
       "  <text x=\"60.000000\" y=\"140.000000\" font-size=\"1.0rem\" font-weight=\"100\" text-anchor=\"middle\" >400</text>\n",
       "  <text x=\"140.000000\" y=\"60.000000\" font-size=\"1.0rem\" font-weight=\"100\" text-anchor=\"middle\" transform=\"rotate(-90,140.000000,60.000000)\">400</text>\n",
       "</svg>\n",
       "        </td>\n",
       "    </tr>\n",
       "</table>"
      ],
      "text/plain": [
       "dask.array<getitem, shape=(400, 400), dtype=complex64, chunksize=(400, 400), chunktype=numpy.ndarray>"
      ]
     },
     "execution_count": 10,
     "metadata": {},
     "output_type": "execute_result"
    }
   ],
   "source": [
    "waves = probe.build()\n",
    "\n",
    "waves.array"
   ]
  },
  {
   "cell_type": "markdown",
   "metadata": {},
   "source": [
    "## Visualizing the wave function \n",
    "\n",
    "To visualize the wave function using *ab*TEM's built-in visualization module, we first have to convert it to a measurement type. The most common methods are `intensity` and `diffraction_patterns`, which will return a measurement of type `Images` and `DiffractionPatterns`, respectively.\n",
    "\n",
    "The real space intensity, $\\|\\psi\\|^2$, is calculated and shown below. The parameter `cbar=True` displays the color intensity scale."
   ]
  },
  {
   "cell_type": "code",
   "execution_count": 11,
   "metadata": {},
   "outputs": [
    {
     "data": {
      "image/png": "[encoded data removed]",
      "text/plain": [
       "<Figure size 432x288 with 2 Axes>"
      ]
     },
     "metadata": {},
     "output_type": "display_data"
    }
   ],
   "source": [
    "intensity = probe.build().intensity().compute()\n",
    "\n",
    "visualization = intensity.show(cbar=True)\n",
    "visualization.set_column_titles(\"probe intensity\", fontsize=12)"
   ]
  },
  {
   "cell_type": "markdown",
   "metadata": {},
   "source": [
    "````{note}\n",
    "The axes convention for arrays representing a wave functions assigns the first axis to the $x$-axis and the second axis to the $y$-axis, and a larger array index implies a larger real-space coordinate. This is different from the convention often used for images. The correct way of displaying an array with `matplotplib` is given below.\n",
    "    \n",
    "```python\n",
    "import matplotlib.pyplot as plt\n",
    "image = waves.intensity().array\n",
    "plt.imshow(image.T, extent=[0, waves.extent[0], 0, waves.extent[1]], origin='lower')\n",
    "```     \n",
    "````"
   ]
  },
  {
   "cell_type": "markdown",
   "metadata": {},
   "source": [
    "Showing a lineprofile sometimes provides a more understable visualization. We use `interpolate_line_at_position` to create a `LineProfile` across the center of the probe intensity."
   ]
  },
  {
   "cell_type": "code",
   "execution_count": 12,
   "metadata": {},
   "outputs": [],
   "source": [
    "lineprofile = intensity.interpolate_line_at_position(\n",
    "    center=(10, 10), angle=0, extent=10\n",
    ")"
   ]
  },
  {
   "cell_type": "code",
   "execution_count": 13,
   "metadata": {},
   "outputs": [
    {
     "data": {
      "text/plain": [
       "(200,)"
      ]
     },
     "execution_count": 13,
     "metadata": {},
     "output_type": "execute_result"
    }
   ],
   "source": [
    "lineprofile.shape"
   ]
  },
  {
   "cell_type": "code",
   "execution_count": 14,
   "metadata": {},
   "outputs": [
    {
     "data": {
      "image/png": "[encoded data removed]",
      "text/plain": [
       "<Figure size 432x288 with 1 Axes>"
      ]
     },
     "metadata": {},
     "output_type": "display_data"
    }
   ],
   "source": [
    "from abtem.visualize import AxesGrid, MeasurementVisualization1D\n",
    "\n",
    "fig = plt.figure(figsize=(6, 4))\n",
    "\n",
    "axes = AxesGrid(fig, 1, 1, 0, aspect=False)\n",
    "# axes.set_aspect(.8)\n",
    "\n",
    "viz = MeasurementVisualization1D(lineprofile, axes, ())\n",
    "\n",
    "viz.set_x_units(\"nm\")\n",
    "viz.set_column_titles(\"probe lineprofile\", fontsize=12)"
   ]
  },
  {
   "cell_type": "markdown",
   "metadata": {},
   "source": [
    "It is often useful to know the width of the probe. Below we calculate the width at $0.5$ of the height of the probe (i.e. the full width at half-maximum, FWHM)."
   ]
  },
  {
   "cell_type": "code",
   "execution_count": 15,
   "metadata": {},
   "outputs": [
    {
     "name": "stdout",
     "output_type": "stream",
     "text": [
      "FWHM = 1.11 Å\n"
     ]
    }
   ],
   "source": [
    "fwhm = lineprofile.width(height=0.5)\n",
    "\n",
    "print(f\"FWHM = {fwhm.item():.2f} Å\")"
   ]
  },
  {
   "cell_type": "markdown",
   "metadata": {
    "tags": []
   },
   "source": [
    "The Fourier-space intensity, $\\|\\hat{\\psi}\\|^2$, is calculated and shown below. We set `max_angle=60` to only include angles up to $60 \\ \\mathrm{mrad}$."
   ]
  },
  {
   "cell_type": "code",
   "execution_count": 16,
   "metadata": {
    "tags": []
   },
   "outputs": [
    {
     "data": {
      "image/png": "[encoded data removed]",
      "text/plain": [
       "<Figure size 432x288 with 2 Axes>"
      ]
     },
     "metadata": {},
     "output_type": "display_data"
    }
   ],
   "source": [
    "diffraction_patterns = probe.build().diffraction_patterns(max_angle=60)\n",
    "\n",
    "diffraction_patterns.show(cbar=True);"
   ]
  },
  {
   "cell_type": "markdown",
   "metadata": {},
   "source": [
    "Alternative to reciprocal-space units, we can display diffraction patterns in angular units by using the keyword `units='mrad'`."
   ]
  },
  {
   "cell_type": "code",
   "execution_count": 17,
   "metadata": {},
   "outputs": [
    {
     "data": {
      "image/png": "[encoded data removed]",
      "text/plain": [
       "<Figure size 432x288 with 2 Axes>"
      ]
     },
     "metadata": {},
     "output_type": "display_data"
    }
   ],
   "source": [
    "diffraction_patterns.show(cbar=True, units=\"mrad\");"
   ]
  },
  {
   "cell_type": "markdown",
   "metadata": {},
   "source": [
    "## Wave-function ensembles\n",
    "\n",
    "In general, `Waves` can represent an ensemble of wave functions as a multidimensional array.  The last two dimensions of `Waves` represent the spatial dimensions, which are the mandatory or *base* dimensions of the object. Any preceeding dimension is an optional *ensemble* dimension. The ensemble dimensions may represent a range of defocii, positions, frozen phonons, tilt and more. In computations, *ab*TEM will automatically parallelize over the ensemble dimensions.\n",
    "\n",
    "As an example, we create an ensemble of probes with different values for their defocus. "
   ]
  },
  {
   "cell_type": "code",
   "execution_count": 18,
   "metadata": {},
   "outputs": [],
   "source": [
    "defocus_series = np.linspace(0, 200, 5)\n",
    "\n",
    "probe_focal_series = abtem.Probe(\n",
    "    gpts=256,\n",
    "    extent=25,\n",
    "    energy=80e3,\n",
    "    semiangle_cutoff=20,\n",
    "    defocus=defocus_series,\n",
    ")\n",
    "\n",
    "waves_focal_series = probe_focal_series.build().compute()"
   ]
  },
  {
   "cell_type": "markdown",
   "metadata": {},
   "source": [
    "```{warning}\n",
    "Not every parameter in *ab*TEM allows this.\n",
    "```\n",
    "\n",
    "Now `Waves` is a 1D ensemble of 2D wave functions, hence its shape is 3D."
   ]
  },
  {
   "cell_type": "code",
   "execution_count": 19,
   "metadata": {},
   "outputs": [
    {
     "data": {
      "text/plain": [
       "(5, 256, 256)"
      ]
     },
     "execution_count": 19,
     "metadata": {},
     "output_type": "execute_result"
    }
   ],
   "source": [
    "waves_focal_series.shape"
   ]
  },
  {
   "cell_type": "markdown",
   "metadata": {},
   "source": [
    "We can inspect the `axes_metadata` property to see that the first axis is the ensemble `ParameterAxis` over `C10`, equivalent to negative defocus, and the base are `RealSpaceAxis`. "
   ]
  },
  {
   "cell_type": "code",
   "execution_count": 20,
   "metadata": {},
   "outputs": [
    {
     "data": {
      "text/plain": [
       "type           label    coordinates\n",
       "-------------  -------  ------------------------\n",
       "ParameterAxis  C10 [Å]  -0.00 -50.00 ... -200.00\n",
       "RealSpaceAxis  x [Å]    0.00 0.10 ... 24.90\n",
       "RealSpaceAxis  y [Å]    0.00 0.10 ... 24.90"
      ]
     },
     "execution_count": 20,
     "metadata": {},
     "output_type": "execute_result"
    }
   ],
   "source": [
    "waves_focal_series.axes_metadata"
   ]
  },
  {
   "cell_type": "markdown",
   "metadata": {},
   "source": [
    "When calculating the intensity we obtain an ensemble of `Images`, which can be conveniently shown in an \"exploded\" plot. "
   ]
  },
  {
   "cell_type": "code",
   "execution_count": 21,
   "metadata": {
    "tags": [
     "full-width"
    ]
   },
   "outputs": [
    {
     "data": {
      "image/png": "[encoded data removed]",
      "text/plain": [
       "<Figure size 1296x288 with 5 Axes>"
      ]
     },
     "metadata": {},
     "output_type": "display_data"
    }
   ],
   "source": [
    "visualization = waves_focal_series.intensity().show(\n",
    "    explode=True, figsize=(18, 4), cbar=False\n",
    ");"
   ]
  },
  {
   "cell_type": "markdown",
   "metadata": {},
   "source": [
    "````{seealso}\n",
    "If you have [Hyperspy](https://hyperspy.org/) installed, you can view the ensemble interactively by converting the `Images` to a `hyperspy` signal and using the interactive viewer.\n",
    "```python\n",
    "waves_focal_series.interact()\n",
    "```\n",
    "*Note: This requires using a matplotlib backend that supports interactivity.*\n",
    "````"
   ]
  },
  {
   "cell_type": "markdown",
   "metadata": {},
   "source": [
    "When using methods, such as `interpolate_line_profiles`, on an ensemble, it will be applied to each member of the ensemble. The `show` method handles these automatically."
   ]
  },
  {
   "cell_type": "code",
   "execution_count": 22,
   "metadata": {},
   "outputs": [
    {
     "data": {
      "image/png": "[encoded data removed]",
      "text/plain": [
       "<Figure size 1296x288 with 5 Axes>"
      ]
     },
     "metadata": {},
     "output_type": "display_data"
    }
   ],
   "source": [
    "line_profiles = waves_focal_series.intensity().interpolate_line_at_position(\n",
    "    center=(12.5, 12.5), angle=0, extent=10\n",
    ")\n",
    "\n",
    "visualization = line_profiles.show(\n",
    "    explode=False, figsize=(18, 4), common_scale=True, axes_types=(\"explode\",)\n",
    ");"
   ]
  },
  {
   "cell_type": "markdown",
   "metadata": {},
   "source": [
    "`Waves` can have any number of ensemble dimensions, for example, we can add two additional axes representing a scan in the $x$- and $y$- direction, thus producing a 3D ensemble of 2D wave functions."
   ]
  },
  {
   "cell_type": "code",
   "execution_count": 23,
   "metadata": {},
   "outputs": [
    {
     "data": {
      "text/plain": [
       "(5, 49, 49, 256, 256)"
      ]
     },
     "execution_count": 23,
     "metadata": {},
     "output_type": "execute_result"
    }
   ],
   "source": [
    "scan = abtem.GridScan()\n",
    "\n",
    "waves_focal_series_scanned = probe_focal_series.build(scan=scan)\n",
    "\n",
    "waves_focal_series_scanned.shape"
   ]
  },
  {
   "cell_type": "markdown",
   "metadata": {},
   "source": [
    "Be careful about running the `compute` method after adding ensemble dimensions without before applying a reduction operation, such as taking an ensemble mean or applying a detector. The below ensemble would take $\\sim 4.51 \\ \\mathrm{GB}$ of memory to store, as the Dask array `__repr__` shows."
   ]
  },
  {
   "cell_type": "code",
   "execution_count": 24,
   "metadata": {},
   "outputs": [
    {
     "data": {
      "text/html": [
       "<table>\n",
       "    <tr>\n",
       "        <td>\n",
       "            <table style=\"border-collapse: collapse;\">\n",
       "                <thead>\n",
       "                    <tr>\n",
       "                        <td> </td>\n",
       "                        <th> Array </th>\n",
       "                        <th> Chunk </th>\n",
       "                    </tr>\n",
       "                </thead>\n",
       "                <tbody>\n",
       "                    \n",
       "                    <tr>\n",
       "                        <th> Bytes </th>\n",
       "                        <td> 5.86 GiB </td>\n",
       "                        <td> 105.00 MiB </td>\n",
       "                    </tr>\n",
       "                    \n",
       "                    <tr>\n",
       "                        <th> Shape </th>\n",
       "                        <td> (5, 49, 49, 256, 256) </td>\n",
       "                        <td> (5, 6, 7, 256, 256) </td>\n",
       "                    </tr>\n",
       "                    <tr>\n",
       "                        <th> Dask graph </th>\n",
       "                        <td colspan=\"2\"> 63 chunks in 5 graph layers </td>\n",
       "                    </tr>\n",
       "                    <tr>\n",
       "                        <th> Data type </th>\n",
       "                        <td colspan=\"2\"> complex64 numpy.ndarray </td>\n",
       "                    </tr>\n",
       "                </tbody>\n",
       "            </table>\n",
       "        </td>\n",
       "        <td>\n",
       "        <svg width=\"416\" height=\"194\" style=\"stroke:rgb(0,0,0);stroke-width:1\" >\n",
       "\n",
       "  <!-- Horizontal lines -->\n",
       "  <line x1=\"0\" y1=\"0\" x2=\"41\" y2=\"0\" style=\"stroke-width:2\" />\n",
       "  <line x1=\"0\" y1=\"28\" x2=\"41\" y2=\"28\" style=\"stroke-width:2\" />\n",
       "\n",
       "  <!-- Vertical lines -->\n",
       "  <line x1=\"0\" y1=\"0\" x2=\"0\" y2=\"28\" style=\"stroke-width:2\" />\n",
       "  <line x1=\"5\" y1=\"0\" x2=\"5\" y2=\"28\" />\n",
       "  <line x1=\"10\" y1=\"0\" x2=\"10\" y2=\"28\" />\n",
       "  <line x1=\"15\" y1=\"0\" x2=\"15\" y2=\"28\" />\n",
       "  <line x1=\"20\" y1=\"0\" x2=\"20\" y2=\"28\" />\n",
       "  <line x1=\"25\" y1=\"0\" x2=\"25\" y2=\"28\" />\n",
       "  <line x1=\"30\" y1=\"0\" x2=\"30\" y2=\"28\" />\n",
       "  <line x1=\"35\" y1=\"0\" x2=\"35\" y2=\"28\" />\n",
       "  <line x1=\"40\" y1=\"0\" x2=\"40\" y2=\"28\" />\n",
       "  <line x1=\"41\" y1=\"0\" x2=\"41\" y2=\"28\" style=\"stroke-width:2\" />\n",
       "\n",
       "  <!-- Colored Rectangle -->\n",
       "  <polygon points=\"0.0,0.0 41.82220168444255,0.0 41.82220168444255,28.897464417751184 0.0,28.897464417751184\" style=\"fill:#ECB172A0;stroke-width:0\"/>\n",
       "\n",
       "  <!-- Text -->\n",
       "  <text x=\"20.911101\" y=\"48.897464\" font-size=\"1.0rem\" font-weight=\"100\" text-anchor=\"middle\" >49</text>\n",
       "  <text x=\"61.822202\" y=\"14.448732\" font-size=\"1.0rem\" font-weight=\"100\" text-anchor=\"middle\" transform=\"rotate(0,61.822202,14.448732)\">5</text>\n",
       "\n",
       "\n",
       "  <!-- Horizontal lines -->\n",
       "  <line x1=\"111\" y1=\"0\" x2=\"135\" y2=\"24\" style=\"stroke-width:2\" />\n",
       "  <line x1=\"111\" y1=\"120\" x2=\"135\" y2=\"144\" style=\"stroke-width:2\" />\n",
       "\n",
       "  <!-- Vertical lines -->\n",
       "  <line x1=\"111\" y1=\"0\" x2=\"111\" y2=\"120\" style=\"stroke-width:2\" />\n",
       "  <line x1=\"114\" y1=\"3\" x2=\"114\" y2=\"123\" />\n",
       "  <line x1=\"118\" y1=\"7\" x2=\"118\" y2=\"127\" />\n",
       "  <line x1=\"121\" y1=\"10\" x2=\"121\" y2=\"130\" />\n",
       "  <line x1=\"125\" y1=\"14\" x2=\"125\" y2=\"134\" />\n",
       "  <line x1=\"128\" y1=\"17\" x2=\"128\" y2=\"137\" />\n",
       "  <line x1=\"132\" y1=\"21\" x2=\"132\" y2=\"141\" />\n",
       "  <line x1=\"135\" y1=\"24\" x2=\"135\" y2=\"144\" style=\"stroke-width:2\" />\n",
       "\n",
       "  <!-- Colored Rectangle -->\n",
       "  <polygon points=\"111.0,0.0 135.6012951084956,24.601295108495616 135.6012951084956,144.6012951084956 111.0,120.0\" style=\"fill:#ECB172A0;stroke-width:0\"/>\n",
       "\n",
       "  <!-- Horizontal lines -->\n",
       "  <line x1=\"111\" y1=\"0\" x2=\"231\" y2=\"0\" style=\"stroke-width:2\" />\n",
       "  <line x1=\"114\" y1=\"3\" x2=\"234\" y2=\"3\" />\n",
       "  <line x1=\"118\" y1=\"7\" x2=\"238\" y2=\"7\" />\n",
       "  <line x1=\"121\" y1=\"10\" x2=\"241\" y2=\"10\" />\n",
       "  <line x1=\"125\" y1=\"14\" x2=\"245\" y2=\"14\" />\n",
       "  <line x1=\"128\" y1=\"17\" x2=\"248\" y2=\"17\" />\n",
       "  <line x1=\"132\" y1=\"21\" x2=\"252\" y2=\"21\" />\n",
       "  <line x1=\"135\" y1=\"24\" x2=\"255\" y2=\"24\" style=\"stroke-width:2\" />\n",
       "\n",
       "  <!-- Vertical lines -->\n",
       "  <line x1=\"111\" y1=\"0\" x2=\"135\" y2=\"24\" style=\"stroke-width:2\" />\n",
       "  <line x1=\"231\" y1=\"0\" x2=\"255\" y2=\"24\" style=\"stroke-width:2\" />\n",
       "\n",
       "  <!-- Colored Rectangle -->\n",
       "  <polygon points=\"111.0,0.0 231.0,0.0 255.6012951084956,24.601295108495616 135.6012951084956,24.601295108495616\" style=\"fill:#ECB172A0;stroke-width:0\"/>\n",
       "\n",
       "  <!-- Horizontal lines -->\n",
       "  <line x1=\"135\" y1=\"24\" x2=\"255\" y2=\"24\" style=\"stroke-width:2\" />\n",
       "  <line x1=\"135\" y1=\"144\" x2=\"255\" y2=\"144\" style=\"stroke-width:2\" />\n",
       "\n",
       "  <!-- Vertical lines -->\n",
       "  <line x1=\"135\" y1=\"24\" x2=\"135\" y2=\"144\" style=\"stroke-width:2\" />\n",
       "  <line x1=\"255\" y1=\"24\" x2=\"255\" y2=\"144\" style=\"stroke-width:2\" />\n",
       "\n",
       "  <!-- Colored Rectangle -->\n",
       "  <polygon points=\"135.6012951084956,24.601295108495616 255.6012951084956,24.601295108495616 255.6012951084956,144.6012951084956 135.6012951084956,144.6012951084956\" style=\"fill:#ECB172A0;stroke-width:0\"/>\n",
       "\n",
       "  <!-- Text -->\n",
       "  <text x=\"195.601295\" y=\"164.601295\" font-size=\"1.0rem\" font-weight=\"100\" text-anchor=\"middle\" >256</text>\n",
       "  <text x=\"275.601295\" y=\"84.601295\" font-size=\"1.0rem\" font-weight=\"100\" text-anchor=\"middle\" transform=\"rotate(-90,275.601295,84.601295)\">256</text>\n",
       "  <text x=\"113.300648\" y=\"152.300648\" font-size=\"1.0rem\" font-weight=\"100\" text-anchor=\"middle\" transform=\"rotate(45,113.300648,152.300648)\">49</text>\n",
       "</svg>\n",
       "        </td>\n",
       "    </tr>\n",
       "</table>"
      ],
      "text/plain": [
       "dask.array<_extract_measurement, shape=(5, 49, 49, 256, 256), dtype=complex64, chunksize=(5, 6, 7, 256, 256), chunktype=numpy.ndarray>"
      ]
     },
     "execution_count": 24,
     "metadata": {},
     "output_type": "execute_result"
    }
   ],
   "source": [
    "waves_focal_series_scanned.array"
   ]
  }
 ],
 "metadata": {
  "kernelspec": {
   "display_name": "abtem-dask",
   "language": "python",
   "name": "abtem-dask"
  },
  "language_info": {
   "codemirror_mode": {
    "name": "ipython",
    "version": 3
   },
   "file_extension": ".py",
   "mimetype": "text/x-python",
   "name": "python",
   "nbconvert_exporter": "python",
   "pygments_lexer": "ipython3",
   "version": "3.10.8"
  },
  "widgets": {
   "application/vnd.jupyter.widget-state+json": {
    "state": {},
    "version_major": 2,
    "version_minor": 0
   }
  }
 },
 "nbformat": 4,
 "nbformat_minor": 4
}
