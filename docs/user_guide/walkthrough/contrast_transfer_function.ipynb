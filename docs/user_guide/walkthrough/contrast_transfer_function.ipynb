{
 "cells": [
  {
   "cell_type": "code",
   "execution_count": 11,
   "metadata": {
    "editable": true,
    "pycharm": {
     "name": "#%%\n"
    },
    "slideshow": {
     "slide_type": ""
    },
    "tags": [
     "hide-input"
    ]
   },
   "outputs": [],
   "source": [
    "%config InlineBackend.rc = {\"figure.dpi\": 72, 'figure.figsize': (6.0, 4.0)}\n",
    "%matplotlib inline\n",
    "\n",
    "import ase\n",
    "import matplotlib.pyplot as plt\n",
    "import numpy as np\n",
    "from abtem.transfer import polar_symbols\n",
    "from mpl_toolkits.axes_grid1 import ImageGrid\n",
    "\n",
    "import abtem\n",
    "\n",
    "abtem.config.set({\"local_diagnostics.progress_bar\": False});"
   ]
  },
  {
   "cell_type": "markdown",
   "metadata": {
    "editable": true,
    "pycharm": {
     "name": "#%% md\n"
    },
    "slideshow": {
     "slide_type": ""
    },
    "tags": []
   },
   "source": [
    "(walkthrough:contrast_transfer_function)=\n",
    "# Contrast transfer function\n",
    "The [contrast transfer function](https://en.wikipedia.org/wiki/Contrast_transfer_function) (CTF) describes the aberrations of the objective lens in HRTEM and  how the condenser system shapes the probe in STEM. Here we describe how to create a CTF with specific aberrations and how this affects the resulting images.\n",
    "\n",
    "## Phase aberrations\n",
    "Ideally, a lens forms a spherical wave converging on or emerging from a single point. In practice, aberrations cause the wave front to deviate from a spherical surface. In a polar representation, this deviation, or phase aberration, can be written as $\\chi(k, \\phi)$, where $k = \\sqrt{k_x^2 + k_y^2}$ is the radial component and $\\phi = \\arctan(k_y / k_x)$ is the azimuthal component. We expand the phase error as a series expansion\n",
    "\n",
    "$$ \n",
    "    \\chi(k, \\phi) = \\frac{2 \\pi}{\\lambda} \\sum_{n,m} \\frac{1}{n + 1} C_{n,m} (k \\lambda)^{n+1} \\cos\\left[m (\\phi - \\phi_{n,m}) \\right] \\quad ,\n",
    "$$\n",
    "\n",
    "where $n$ and $m$ are the radial and azimuthal order, respectively.\n",
    "\n",
    "```{note}\n",
    "*ab*TEM exclusively uses polar expansion coefficients; however, a conversion utility from the Cartesian to the polar representation is available in `abtem.waves.transfer.cartesian2polar`.\n",
    "```\n",
    "\n",
    "If the microscope is well aligned then off-axis aberrations (astigmatisms and comas) are small and the aberrations are dominated by the first two isotropic terms. The aberrations reduce to an expression you may be more familiar with \n",
    "\n",
    "$$\n",
    "    \\chi(k) \\approx \\frac{2\\pi}{\\lambda}\\left( \\frac{\\lambda^2 k^2}{2} \\Delta f + \\frac{\\lambda^4 k^4}{4} C_s \\right) \\quad ,\n",
    "$$\n",
    "\n",
    "where $\\Delta f = -C_{1,1}$ is the defocus and $C_s=C_{3,3}$ is the third order spherical aberration.\n",
    "\n",
    "````{note}\n",
    ":class: dropdown\n",
    "\n",
    "Note the sign convention used for the defocus ($\\Delta f = -C_{1,1}$). Positive defocus is equivalent to backward free-space propagation, or equivalently, with a positive defocus, the focus is inside the potential. Below we propagate a probe wave function through vacuum by 5 Å, which is completely undone by applying a defocus of 5 Å, i.e. the assertion below is valid.\n",
    "\n",
    "```python\n",
    "propagator = FresnelPropagator()\n",
    " \n",
    "probe1 = Probe(extent=10, gpts=256, energy=150e3, semiangle_cutoff=30).build().compute()\n",
    "\n",
    "probe2 = probe1.propagate(dz = 5).apply_ctf(defocus = 5)\n",
    "\n",
    "assert probe1 == probe2\n",
    "\n",
    "```\n",
    "````\n",
    "\n",
    "In *ab*TEM, the `CTF` object takes parameters of the form `Cnm` and `phinm`, and some may alternatively also be given using their common aliases, e.g. `defocus = -C10`. The expansion is implemented up to 5th order and all the coefficients keywords and their aliases are given in the tables below."
   ]
  },
  {
   "cell_type": "markdown",
   "metadata": {
    "editable": true,
    "slideshow": {
     "slide_type": ""
    },
    "tags": []
   },
   "source": [
    "````{tab-set}\n",
    "```{tab-item} Symbols\n",
    "|         | $m = 0$        | $m = 1$        | $m = 2$        | $m = 3$        | $m = 4$        | $m = 5$        | $m = 6$        |\n",
    "| ------- | -------------- | -------------- | -------------- | -------------- | -------------- | -------------- | -------------- |\n",
    "| $n = 1$ | `C10`          |                | `C12`, `phi12` |                |                |                |                |\n",
    "| $n = 2$ |                | `C21`, `phi21` |                | `C23`, `phi23` |                |                |                |\n",
    "| $n = 3$ | `C30`          |                | `C32`, `phi32` |                | `C34`, `phi34` |                |                |\n",
    "| $n = 4$ |                | `C41`, `phi41` |                | `C43`, `phi43` |                | `C45`, `phi45` |                |\n",
    "| $n = 5$ | `C50`          |                | `C52`, `phi52` |                | `C54`, `phi54` |                | `C56`, `phi56` |\n",
    "```\n",
    "```{tab-item} Aliases\n",
    "|         | $m = 0$        | $m = 1$        | $m = 2$        | $m = 3$        | $m = 4$        | $m = 5$        | $m = 6$        |\n",
    "| ------- | -------------- | -------------- | -------------- | -------------- | -------------- | -------------- | -------------- |\n",
    "| $n = 1$ | `defocus`      |                | `astigmatism`  |                |                |                |                |\n",
    "| $n = 2$ |                | `coma`         |                | `trefoil`      |                |                |                |\n",
    "| $n = 3$ | `Cs`           |                | `astigmatism2` |                | `quadrafoil`   |                |                |\n",
    "| $n = 4$ |                | `coma2`        |                | `trefoil2`     |                | `pentafoil`    |                |\n",
    "| $n = 5$ | `C5`           |                | `astigmatism3` |                | `quadrafoil2`  |                | `hexafoil`     |\n",
    "```\n",
    "````"
   ]
  },
  {
   "cell_type": "markdown",
   "metadata": {
    "editable": true,
    "slideshow": {
     "slide_type": ""
    },
    "tags": []
   },
   "source": [
    "We can visualize each phase aberration by showing its effect on a small probe wave function. This is called the point spread function (PSF) and describes the response of an imaging system to a point source. In the image grid below, the indicated aberration is applied to the probe shown in the bottom left. Both magnitude and phase are indicated through domain coloring. The magnitude of the coefficients are scaled by the radial order according to a power law."
   ]
  },
  {
   "cell_type": "markdown",
   "metadata": {
    "editable": true,
    "slideshow": {
     "slide_type": ""
    },
    "tags": [
     "full-width"
    ]
   },
   "source": [
    "````{tab-set}\n",
    "```{tab-item} CTF\n",
    "![ctf](images/ctf.png)\n",
    "```\n",
    "```{tab-item} PSF\n",
    "![ctf](images/psf.png)\n",
    "```\n",
    "````"
   ]
  },
  {
   "cell_type": "markdown",
   "metadata": {
    "editable": true,
    "slideshow": {
     "slide_type": ""
    },
    "tags": []
   },
   "source": [
    "### Applying phase aberrations to wave functions\n",
    "Given an exit wave function $\\phi_{exit}$ and an objective lens with a phase error $\\chi$ (and infinite aperture), the wave function at the image plane is given by\n",
    "\n",
    "$$  \n",
    "    \\psi_{image}(k, \\phi) = \\psi_{exit}(k, \\phi) \\exp(-i \\chi(k, \\phi)) \\quad .\n",
    "$$ (eq:user_guide:walkthrough:contrast_transfer_function:apply_ctf)\n",
    "\n",
    "We start by simulating an exit wave for an MoS<sub>2</sub> model. An atomic model with a hexagonal cell is created using the ASE's [`mx2`](https://wiki.fysik.dtu.dk/ase/ase/build/surface.html#ase.build.mx2) method, which we make orthogonal using `orthogonalize_cell` (see our walkthrough on [atomic models](atomic_models.ipynb))."
   ]
  },
  {
   "cell_type": "code",
   "execution_count": 12,
   "metadata": {
    "editable": true,
    "slideshow": {
     "slide_type": ""
    },
    "tags": []
   },
   "outputs": [
    {
     "data": {
      "image/png": "[encoded data removed]",
      "text/plain": [
       "<Figure size 504x288 with 2 Axes>"
      ]
     },
     "metadata": {},
     "output_type": "display_data"
    }
   ],
   "source": [
    "atoms = ase.build.mx2(vacuum=2)\n",
    "\n",
    "atoms = abtem.orthogonalize_cell(atoms)\n",
    "\n",
    "fig, (ax1, ax2) = plt.subplots(1, 2, figsize=(7, 4))\n",
    "abtem.show_atoms(atoms, ax=ax1, title=\"Beam view\", legend=True)\n",
    "abtem.show_atoms(atoms, ax=ax2, plane=\"xz\", title=\"Side view\");"
   ]
  },
  {
   "cell_type": "markdown",
   "metadata": {
    "editable": true,
    "slideshow": {
     "slide_type": ""
    },
    "tags": []
   },
   "source": [
    "We run the multislice algorithm for an incident plane wave at $80 \\ \\mathrm{keV}$ through a default potential (using the Lobato indepdent atom parameterization, see our [walkthrough on potentials](potentials.ipynb))."
   ]
  },
  {
   "cell_type": "code",
   "execution_count": 13,
   "metadata": {
    "editable": true,
    "slideshow": {
     "slide_type": ""
    },
    "tags": []
   },
   "outputs": [],
   "source": [
    "exit_wave = abtem.PlaneWave(energy=80e3, sampling=0.02).multislice(atoms)"
   ]
  },
  {
   "cell_type": "markdown",
   "metadata": {
    "editable": true,
    "slideshow": {
     "slide_type": ""
    },
    "tags": []
   },
   "source": [
    "We create a compatible `CTF` for electrons of the same energy of $80 \\ \\mathrm{keV}$. The spherical aberration will be set to $-20~\\mu \\mathrm{m}$ (remember that *ab*TEM uses units of $\\mathrm{Å}$) and the defocus is set to the [Scherzer defocus](https://en.wikipedia.org/wiki/High-resolution_transmission_electron_microscopy) (here $-111.92 \\ \\mathrm{Å}$)."
   ]
  },
  {
   "cell_type": "code",
   "execution_count": 14,
   "metadata": {
    "editable": true,
    "pycharm": {
     "name": "#%%\n"
    },
    "slideshow": {
     "slide_type": ""
    },
    "tags": []
   },
   "outputs": [
    {
     "name": "stdout",
     "output_type": "stream",
     "text": [
      "defocus = -111.92 Å\n"
     ]
    }
   ],
   "source": [
    "Cs = -20e-6 * 1e10  # 20 micrometers\n",
    "\n",
    "ctf = abtem.CTF(Cs=Cs, energy=80e3)\n",
    "ctf.defocus = ctf.scherzer_defocus\n",
    "\n",
    "print(f\"defocus = {ctf.defocus:.2f} Å\")"
   ]
  },
  {
   "cell_type": "markdown",
   "metadata": {
    "editable": true,
    "pycharm": {
     "name": "#%% md\n"
    },
    "slideshow": {
     "slide_type": ""
    },
    "tags": []
   },
   "source": [
    "The aberrations may also be given as a dictionary."
   ]
  },
  {
   "cell_type": "code",
   "execution_count": 15,
   "metadata": {
    "editable": true,
    "pycharm": {
     "name": "#%%\n"
    },
    "slideshow": {
     "slide_type": ""
    },
    "tags": []
   },
   "outputs": [],
   "source": [
    "aberration_coefficients = {\"C10\": -ctf.defocus, \"C30\": Cs}\n",
    "\n",
    "ctf = abtem.CTF(aberration_coefficients=aberration_coefficients, energy=ctf.energy)"
   ]
  },
  {
   "cell_type": "markdown",
   "metadata": {
    "editable": true,
    "slideshow": {
     "slide_type": ""
    },
    "tags": []
   },
   "source": [
    "We can get radial `LineProfiles` up to a given angle to preview the CTF, which *by convention* display the imaginary part of complex exponential of the phase error."
   ]
  },
  {
   "cell_type": "code",
   "execution_count": 16,
   "metadata": {
    "editable": true,
    "slideshow": {
     "slide_type": ""
    },
    "tags": []
   },
   "outputs": [
    {
     "data": {
      "image/png": "[encoded data removed]",
      "text/plain": [
       "<Figure size 432x288 with 1 Axes>"
      ]
     },
     "metadata": {},
     "output_type": "display_data"
    }
   ],
   "source": [
    "visualization = ctf.profiles(max_angle=60).show(units=\"mrad\")"
   ]
  },
  {
   "cell_type": "markdown",
   "metadata": {
    "editable": true,
    "pycharm": {
     "name": "#%% md\n"
    },
    "slideshow": {
     "slide_type": ""
    },
    "tags": []
   },
   "source": [
    "To perform the multiplication in Eq. {eq}`eq:user_guide:walkthrough:contrast_transfer_function:apply_ctf`, we use the `apply_ctf` method."
   ]
  },
  {
   "cell_type": "code",
   "execution_count": 17,
   "metadata": {
    "editable": true,
    "pycharm": {
     "name": "#%%\n"
    },
    "slideshow": {
     "slide_type": ""
    },
    "tags": []
   },
   "outputs": [],
   "source": [
    "image_wave = exit_wave.apply_ctf(ctf)"
   ]
  },
  {
   "cell_type": "markdown",
   "metadata": {
    "editable": true,
    "slideshow": {
     "slide_type": ""
    },
    "tags": []
   },
   "source": [
    "We show the exit wave function and the wave function at image plane below."
   ]
  },
  {
   "cell_type": "code",
   "execution_count": 21,
   "metadata": {
    "editable": true,
    "slideshow": {
     "slide_type": ""
    },
    "tags": []
   },
   "outputs": [
    {
     "name": "stdout",
     "output_type": "stream",
     "text": [
      "complex64\n"
     ]
    },
    {
     "ename": "NameError",
     "evalue": "name 'sss' is not defined",
     "output_type": "error",
     "traceback": [
      "\u001b[1;31m---------------------------------------------------------------------------\u001b[0m",
      "\u001b[1;31mNameError\u001b[0m                                 Traceback (most recent call last)",
      "Cell \u001b[1;32mIn[21], line 1\u001b[0m\n\u001b[1;32m----> 1\u001b[0m \u001b[43mabtem\u001b[49m\u001b[38;5;241;43m.\u001b[39;49m\u001b[43mstack\u001b[49m\u001b[43m(\u001b[49m\u001b[43m[\u001b[49m\u001b[43mexit_wave\u001b[49m\u001b[43m,\u001b[49m\u001b[43m \u001b[49m\u001b[43mimage_wave\u001b[49m\u001b[43m]\u001b[49m\u001b[43m,\u001b[49m\u001b[43m \u001b[49m\u001b[43m(\u001b[49m\u001b[38;5;124;43m\"\u001b[39;49m\u001b[38;5;124;43mExit wave\u001b[39;49m\u001b[38;5;124;43m\"\u001b[39;49m\u001b[43m,\u001b[49m\u001b[43m \u001b[49m\u001b[38;5;124;43m\"\u001b[39;49m\u001b[38;5;124;43mImaged wave\u001b[39;49m\u001b[38;5;124;43m\"\u001b[39;49m\u001b[43m)\u001b[49m\u001b[43m)\u001b[49m\u001b[38;5;241;43m.\u001b[39;49m\u001b[43mshow\u001b[49m\u001b[43m(\u001b[49m\n\u001b[0;32m      2\u001b[0m \u001b[43m    \u001b[49m\u001b[43mexplode\u001b[49m\u001b[38;5;241;43m=\u001b[39;49m\u001b[38;5;28;43;01mTrue\u001b[39;49;00m\u001b[43m,\u001b[49m\n\u001b[0;32m      3\u001b[0m \u001b[43m    \u001b[49m\u001b[43mfigsize\u001b[49m\u001b[38;5;241;43m=\u001b[39;49m\u001b[43m(\u001b[49m\u001b[38;5;241;43m14\u001b[39;49m\u001b[43m,\u001b[49m\u001b[43m \u001b[49m\u001b[38;5;241;43m5\u001b[39;49m\u001b[43m)\u001b[49m\u001b[43m,\u001b[49m\n\u001b[0;32m      4\u001b[0m \u001b[43m    \u001b[49m\u001b[43mcommon_color_scale\u001b[49m\u001b[38;5;241;43m=\u001b[39;49m\u001b[38;5;28;43;01mTrue\u001b[39;49;00m\u001b[43m,\u001b[49m\n\u001b[0;32m      5\u001b[0m \u001b[43m    \u001b[49m\u001b[43mcbar\u001b[49m\u001b[38;5;241;43m=\u001b[39;49m\u001b[38;5;28;43;01mTrue\u001b[39;49;00m\u001b[43m,\u001b[49m\n\u001b[0;32m      6\u001b[0m \u001b[43m)\u001b[49m;\n",
      "File \u001b[1;32m~\\abtem\\abTEM\\abtem\\waves.py:1048\u001b[0m, in \u001b[0;36mWaves.show\u001b[1;34m(self, **kwargs)\u001b[0m\n\u001b[0;32m   1041\u001b[0m \u001b[38;5;28;01mdef\u001b[39;00m \u001b[38;5;21mshow\u001b[39m(\u001b[38;5;28mself\u001b[39m, \u001b[38;5;241m*\u001b[39m\u001b[38;5;241m*\u001b[39mkwargs):\n\u001b[0;32m   1042\u001b[0m \u001b[38;5;250m    \u001b[39m\u001b[38;5;124;03m\"\"\"\u001b[39;00m\n\u001b[0;32m   1043\u001b[0m \u001b[38;5;124;03m    Show the wave-function intensities.\u001b[39;00m\n\u001b[0;32m   1044\u001b[0m \n\u001b[0;32m   1045\u001b[0m \u001b[38;5;124;03m    kwargs :\u001b[39;00m\n\u001b[0;32m   1046\u001b[0m \u001b[38;5;124;03m        Keyword arguments for `abtem.measurements.Images.show`.\u001b[39;00m\n\u001b[0;32m   1047\u001b[0m \u001b[38;5;124;03m    \"\"\"\u001b[39;00m\n\u001b[1;32m-> 1048\u001b[0m     \u001b[38;5;28;01mreturn\u001b[39;00m \u001b[38;5;28mself\u001b[39m\u001b[38;5;241m.\u001b[39mintensity()\u001b[38;5;241m.\u001b[39mshow(\u001b[38;5;241m*\u001b[39m\u001b[38;5;241m*\u001b[39mkwargs)\n",
      "File \u001b[1;32m~\\abtem\\abTEM\\abtem\\measurements.py:964\u001b[0m, in \u001b[0;36m_BaseMeasurement2D.show\u001b[1;34m(self, ax, cbar, cmap, vmin, vmax, power, common_color_scale, explode, figsize, title, units, interact, display)\u001b[0m\n\u001b[0;32m    920\u001b[0m \u001b[38;5;250m\u001b[39m\u001b[38;5;124;03m\"\"\"\u001b[39;00m\n\u001b[0;32m    921\u001b[0m \u001b[38;5;124;03mShow the image(s) using matplotlib.\u001b[39;00m\n\u001b[0;32m    922\u001b[0m \n\u001b[1;32m   (...)\u001b[0m\n\u001b[0;32m    960\u001b[0m \u001b[38;5;124;03mmeasurement_visualization_2d : MeasurementVisualization2D\u001b[39;00m\n\u001b[0;32m    961\u001b[0m \u001b[38;5;124;03m\"\"\"\u001b[39;00m\n\u001b[0;32m    963\u001b[0m \u001b[38;5;28;01mif\u001b[39;00m \u001b[38;5;129;01mnot\u001b[39;00m interact:\n\u001b[1;32m--> 964\u001b[0m     \u001b[38;5;28;43mself\u001b[39;49m\u001b[38;5;241;43m.\u001b[39;49m\u001b[43mcompute\u001b[49m\u001b[43m(\u001b[49m\u001b[43m)\u001b[49m\n\u001b[0;32m    966\u001b[0m visualization \u001b[38;5;241m=\u001b[39m MeasurementVisualization2D(\n\u001b[0;32m    967\u001b[0m     measurements\u001b[38;5;241m=\u001b[39m\u001b[38;5;28mself\u001b[39m,\n\u001b[0;32m    968\u001b[0m     ax\u001b[38;5;241m=\u001b[39max,\n\u001b[1;32m   (...)\u001b[0m\n\u001b[0;32m    977\u001b[0m     interact\u001b[38;5;241m=\u001b[39minteract,\n\u001b[0;32m    978\u001b[0m )\n\u001b[0;32m    980\u001b[0m \u001b[38;5;28;01mif\u001b[39;00m title \u001b[38;5;129;01mis\u001b[39;00m \u001b[38;5;129;01mnot\u001b[39;00m \u001b[38;5;28;01mNone\u001b[39;00m:\n",
      "File \u001b[1;32m~\\abtem\\abTEM\\abtem\\array.py:795\u001b[0m, in \u001b[0;36mArrayObject.compute\u001b[1;34m(self, progress_bar, profiler, resource_profiler, **kwargs)\u001b[0m\n\u001b[0;32m    792\u001b[0m \u001b[38;5;28;01mif\u001b[39;00m \u001b[38;5;129;01mnot\u001b[39;00m \u001b[38;5;28mself\u001b[39m\u001b[38;5;241m.\u001b[39mis_lazy:\n\u001b[0;32m    793\u001b[0m     \u001b[38;5;28;01mreturn\u001b[39;00m \u001b[38;5;28mself\u001b[39m\n\u001b[1;32m--> 795\u001b[0m output, profilers \u001b[38;5;241m=\u001b[39m _compute(\n\u001b[0;32m    796\u001b[0m     [\u001b[38;5;28mself\u001b[39m],\n\u001b[0;32m    797\u001b[0m     progress_bar\u001b[38;5;241m=\u001b[39mprogress_bar,\n\u001b[0;32m    798\u001b[0m     profiler\u001b[38;5;241m=\u001b[39mprofiler,\n\u001b[0;32m    799\u001b[0m     resource_profiler\u001b[38;5;241m=\u001b[39mresource_profiler,\n\u001b[0;32m    800\u001b[0m     \u001b[38;5;241m*\u001b[39m\u001b[38;5;241m*\u001b[39mkwargs,\n\u001b[0;32m    801\u001b[0m )\n\u001b[0;32m    803\u001b[0m output \u001b[38;5;241m=\u001b[39m output[\u001b[38;5;241m0\u001b[39m]\n\u001b[0;32m    805\u001b[0m \u001b[38;5;28;01mif\u001b[39;00m profilers:\n",
      "File \u001b[1;32m~\\abtem\\abTEM\\abtem\\array.py:162\u001b[0m, in \u001b[0;36m_compute\u001b[1;34m(dask_array_wrappers, progress_bar, profiler, resource_profiler, **kwargs)\u001b[0m\n\u001b[0;32m    157\u001b[0m         kwargs[\u001b[38;5;124m\"\u001b[39m\u001b[38;5;124mthreads_per_worker\u001b[39m\u001b[38;5;124m\"\u001b[39m] \u001b[38;5;241m=\u001b[39m cp\u001b[38;5;241m.\u001b[39mcuda\u001b[38;5;241m.\u001b[39mruntime\u001b[38;5;241m.\u001b[39mgetDeviceCount()\n\u001b[0;32m    159\u001b[0m \u001b[38;5;28;01mwith\u001b[39;00m _compute_context(\n\u001b[0;32m    160\u001b[0m     progress_bar, profiler\u001b[38;5;241m=\u001b[39mprofiler, resource_profiler\u001b[38;5;241m=\u001b[39mresource_profiler\n\u001b[0;32m    161\u001b[0m ) \u001b[38;5;28;01mas\u001b[39;00m (_, profiler, resource_profiler, _):\n\u001b[1;32m--> 162\u001b[0m     arrays \u001b[38;5;241m=\u001b[39m dask\u001b[38;5;241m.\u001b[39mcompute(\n\u001b[0;32m    163\u001b[0m         [wrapper\u001b[38;5;241m.\u001b[39marray \u001b[38;5;28;01mfor\u001b[39;00m wrapper \u001b[38;5;129;01min\u001b[39;00m dask_array_wrappers], \u001b[38;5;241m*\u001b[39m\u001b[38;5;241m*\u001b[39mkwargs\n\u001b[0;32m    164\u001b[0m     )[\u001b[38;5;241m0\u001b[39m]\n\u001b[0;32m    166\u001b[0m \u001b[38;5;28;01mfor\u001b[39;00m array, wrapper \u001b[38;5;129;01min\u001b[39;00m \u001b[38;5;28mzip\u001b[39m(arrays, dask_array_wrappers):\n\u001b[0;32m    167\u001b[0m     wrapper\u001b[38;5;241m.\u001b[39m_array \u001b[38;5;241m=\u001b[39m array\n",
      "File \u001b[1;32m~\\anaconda3\\envs\\abtem-dask\\lib\\site-packages\\dask\\base.py:595\u001b[0m, in \u001b[0;36mcompute\u001b[1;34m(traverse, optimize_graph, scheduler, get, *args, **kwargs)\u001b[0m\n\u001b[0;32m    592\u001b[0m     keys\u001b[38;5;241m.\u001b[39mappend(x\u001b[38;5;241m.\u001b[39m__dask_keys__())\n\u001b[0;32m    593\u001b[0m     postcomputes\u001b[38;5;241m.\u001b[39mappend(x\u001b[38;5;241m.\u001b[39m__dask_postcompute__())\n\u001b[1;32m--> 595\u001b[0m results \u001b[38;5;241m=\u001b[39m schedule(dsk, keys, \u001b[38;5;241m*\u001b[39m\u001b[38;5;241m*\u001b[39mkwargs)\n\u001b[0;32m    596\u001b[0m \u001b[38;5;28;01mreturn\u001b[39;00m repack([f(r, \u001b[38;5;241m*\u001b[39ma) \u001b[38;5;28;01mfor\u001b[39;00m r, (f, a) \u001b[38;5;129;01min\u001b[39;00m \u001b[38;5;28mzip\u001b[39m(results, postcomputes)])\n",
      "File \u001b[1;32m~\\anaconda3\\envs\\abtem-dask\\lib\\site-packages\\dask\\threaded.py:89\u001b[0m, in \u001b[0;36mget\u001b[1;34m(dsk, keys, cache, num_workers, pool, **kwargs)\u001b[0m\n\u001b[0;32m     86\u001b[0m     \u001b[38;5;28;01melif\u001b[39;00m \u001b[38;5;28misinstance\u001b[39m(pool, multiprocessing\u001b[38;5;241m.\u001b[39mpool\u001b[38;5;241m.\u001b[39mPool):\n\u001b[0;32m     87\u001b[0m         pool \u001b[38;5;241m=\u001b[39m MultiprocessingPoolExecutor(pool)\n\u001b[1;32m---> 89\u001b[0m results \u001b[38;5;241m=\u001b[39m get_async(\n\u001b[0;32m     90\u001b[0m     pool\u001b[38;5;241m.\u001b[39msubmit,\n\u001b[0;32m     91\u001b[0m     pool\u001b[38;5;241m.\u001b[39m_max_workers,\n\u001b[0;32m     92\u001b[0m     dsk,\n\u001b[0;32m     93\u001b[0m     keys,\n\u001b[0;32m     94\u001b[0m     cache\u001b[38;5;241m=\u001b[39mcache,\n\u001b[0;32m     95\u001b[0m     get_id\u001b[38;5;241m=\u001b[39m_thread_get_id,\n\u001b[0;32m     96\u001b[0m     pack_exception\u001b[38;5;241m=\u001b[39mpack_exception,\n\u001b[0;32m     97\u001b[0m     \u001b[38;5;241m*\u001b[39m\u001b[38;5;241m*\u001b[39mkwargs,\n\u001b[0;32m     98\u001b[0m )\n\u001b[0;32m    100\u001b[0m \u001b[38;5;66;03m# Cleanup pools associated to dead threads\u001b[39;00m\n\u001b[0;32m    101\u001b[0m \u001b[38;5;28;01mwith\u001b[39;00m pools_lock:\n",
      "File \u001b[1;32m~\\anaconda3\\envs\\abtem-dask\\lib\\site-packages\\dask\\local.py:511\u001b[0m, in \u001b[0;36mget_async\u001b[1;34m(submit, num_workers, dsk, result, cache, get_id, rerun_exceptions_locally, pack_exception, raise_exception, callbacks, dumps, loads, chunksize, **kwargs)\u001b[0m\n\u001b[0;32m    509\u001b[0m         _execute_task(task, data)  \u001b[38;5;66;03m# Re-execute locally\u001b[39;00m\n\u001b[0;32m    510\u001b[0m     \u001b[38;5;28;01melse\u001b[39;00m:\n\u001b[1;32m--> 511\u001b[0m         \u001b[43mraise_exception\u001b[49m\u001b[43m(\u001b[49m\u001b[43mexc\u001b[49m\u001b[43m,\u001b[49m\u001b[43m \u001b[49m\u001b[43mtb\u001b[49m\u001b[43m)\u001b[49m\n\u001b[0;32m    512\u001b[0m res, worker_id \u001b[38;5;241m=\u001b[39m loads(res_info)\n\u001b[0;32m    513\u001b[0m state[\u001b[38;5;124m\"\u001b[39m\u001b[38;5;124mcache\u001b[39m\u001b[38;5;124m\"\u001b[39m][key] \u001b[38;5;241m=\u001b[39m res\n",
      "File \u001b[1;32m~\\anaconda3\\envs\\abtem-dask\\lib\\site-packages\\dask\\local.py:319\u001b[0m, in \u001b[0;36mreraise\u001b[1;34m(exc, tb)\u001b[0m\n\u001b[0;32m    317\u001b[0m \u001b[38;5;28;01mif\u001b[39;00m exc\u001b[38;5;241m.\u001b[39m__traceback__ \u001b[38;5;129;01mis\u001b[39;00m \u001b[38;5;129;01mnot\u001b[39;00m tb:\n\u001b[0;32m    318\u001b[0m     \u001b[38;5;28;01mraise\u001b[39;00m exc\u001b[38;5;241m.\u001b[39mwith_traceback(tb)\n\u001b[1;32m--> 319\u001b[0m \u001b[38;5;28;01mraise\u001b[39;00m exc\n",
      "File \u001b[1;32m~\\anaconda3\\envs\\abtem-dask\\lib\\site-packages\\dask\\local.py:224\u001b[0m, in \u001b[0;36mexecute_task\u001b[1;34m(key, task_info, dumps, loads, get_id, pack_exception)\u001b[0m\n\u001b[0;32m    222\u001b[0m \u001b[38;5;28;01mtry\u001b[39;00m:\n\u001b[0;32m    223\u001b[0m     task, data \u001b[38;5;241m=\u001b[39m loads(task_info)\n\u001b[1;32m--> 224\u001b[0m     result \u001b[38;5;241m=\u001b[39m \u001b[43m_execute_task\u001b[49m\u001b[43m(\u001b[49m\u001b[43mtask\u001b[49m\u001b[43m,\u001b[49m\u001b[43m \u001b[49m\u001b[43mdata\u001b[49m\u001b[43m)\u001b[49m\n\u001b[0;32m    225\u001b[0m     \u001b[38;5;28mid\u001b[39m \u001b[38;5;241m=\u001b[39m get_id()\n\u001b[0;32m    226\u001b[0m     result \u001b[38;5;241m=\u001b[39m dumps((result, \u001b[38;5;28mid\u001b[39m))\n",
      "File \u001b[1;32m~\\anaconda3\\envs\\abtem-dask\\lib\\site-packages\\dask\\core.py:121\u001b[0m, in \u001b[0;36m_execute_task\u001b[1;34m(arg, cache, dsk)\u001b[0m\n\u001b[0;32m    117\u001b[0m     func, args \u001b[38;5;241m=\u001b[39m arg[\u001b[38;5;241m0\u001b[39m], arg[\u001b[38;5;241m1\u001b[39m:]\n\u001b[0;32m    118\u001b[0m     \u001b[38;5;66;03m# Note: Don't assign the subtask results to a variable. numpy detects\u001b[39;00m\n\u001b[0;32m    119\u001b[0m     \u001b[38;5;66;03m# temporaries by their reference count and can execute certain\u001b[39;00m\n\u001b[0;32m    120\u001b[0m     \u001b[38;5;66;03m# operations in-place.\u001b[39;00m\n\u001b[1;32m--> 121\u001b[0m     \u001b[38;5;28;01mreturn\u001b[39;00m \u001b[43mfunc\u001b[49m\u001b[43m(\u001b[49m\u001b[38;5;241;43m*\u001b[39;49m\u001b[43m(\u001b[49m\u001b[43m_execute_task\u001b[49m\u001b[43m(\u001b[49m\u001b[43ma\u001b[49m\u001b[43m,\u001b[49m\u001b[43m \u001b[49m\u001b[43mcache\u001b[49m\u001b[43m)\u001b[49m\u001b[43m \u001b[49m\u001b[38;5;28;43;01mfor\u001b[39;49;00m\u001b[43m \u001b[49m\u001b[43ma\u001b[49m\u001b[43m \u001b[49m\u001b[38;5;129;43;01min\u001b[39;49;00m\u001b[43m \u001b[49m\u001b[43margs\u001b[49m\u001b[43m)\u001b[49m\u001b[43m)\u001b[49m\n\u001b[0;32m    122\u001b[0m \u001b[38;5;28;01melif\u001b[39;00m \u001b[38;5;129;01mnot\u001b[39;00m ishashable(arg):\n\u001b[0;32m    123\u001b[0m     \u001b[38;5;28;01mreturn\u001b[39;00m arg\n",
      "File \u001b[1;32m~\\anaconda3\\envs\\abtem-dask\\lib\\site-packages\\dask\\core.py:121\u001b[0m, in \u001b[0;36m<genexpr>\u001b[1;34m(.0)\u001b[0m\n\u001b[0;32m    117\u001b[0m     func, args \u001b[38;5;241m=\u001b[39m arg[\u001b[38;5;241m0\u001b[39m], arg[\u001b[38;5;241m1\u001b[39m:]\n\u001b[0;32m    118\u001b[0m     \u001b[38;5;66;03m# Note: Don't assign the subtask results to a variable. numpy detects\u001b[39;00m\n\u001b[0;32m    119\u001b[0m     \u001b[38;5;66;03m# temporaries by their reference count and can execute certain\u001b[39;00m\n\u001b[0;32m    120\u001b[0m     \u001b[38;5;66;03m# operations in-place.\u001b[39;00m\n\u001b[1;32m--> 121\u001b[0m     \u001b[38;5;28;01mreturn\u001b[39;00m func(\u001b[38;5;241m*\u001b[39m(\u001b[43m_execute_task\u001b[49m\u001b[43m(\u001b[49m\u001b[43ma\u001b[49m\u001b[43m,\u001b[49m\u001b[43m \u001b[49m\u001b[43mcache\u001b[49m\u001b[43m)\u001b[49m \u001b[38;5;28;01mfor\u001b[39;00m a \u001b[38;5;129;01min\u001b[39;00m args))\n\u001b[0;32m    122\u001b[0m \u001b[38;5;28;01melif\u001b[39;00m \u001b[38;5;129;01mnot\u001b[39;00m ishashable(arg):\n\u001b[0;32m    123\u001b[0m     \u001b[38;5;28;01mreturn\u001b[39;00m arg\n",
      "File \u001b[1;32m~\\anaconda3\\envs\\abtem-dask\\lib\\site-packages\\dask\\core.py:121\u001b[0m, in \u001b[0;36m_execute_task\u001b[1;34m(arg, cache, dsk)\u001b[0m\n\u001b[0;32m    117\u001b[0m     func, args \u001b[38;5;241m=\u001b[39m arg[\u001b[38;5;241m0\u001b[39m], arg[\u001b[38;5;241m1\u001b[39m:]\n\u001b[0;32m    118\u001b[0m     \u001b[38;5;66;03m# Note: Don't assign the subtask results to a variable. numpy detects\u001b[39;00m\n\u001b[0;32m    119\u001b[0m     \u001b[38;5;66;03m# temporaries by their reference count and can execute certain\u001b[39;00m\n\u001b[0;32m    120\u001b[0m     \u001b[38;5;66;03m# operations in-place.\u001b[39;00m\n\u001b[1;32m--> 121\u001b[0m     \u001b[38;5;28;01mreturn\u001b[39;00m \u001b[43mfunc\u001b[49m\u001b[43m(\u001b[49m\u001b[38;5;241;43m*\u001b[39;49m\u001b[43m(\u001b[49m\u001b[43m_execute_task\u001b[49m\u001b[43m(\u001b[49m\u001b[43ma\u001b[49m\u001b[43m,\u001b[49m\u001b[43m \u001b[49m\u001b[43mcache\u001b[49m\u001b[43m)\u001b[49m\u001b[43m \u001b[49m\u001b[38;5;28;43;01mfor\u001b[39;49;00m\u001b[43m \u001b[49m\u001b[43ma\u001b[49m\u001b[43m \u001b[49m\u001b[38;5;129;43;01min\u001b[39;49;00m\u001b[43m \u001b[49m\u001b[43margs\u001b[49m\u001b[43m)\u001b[49m\u001b[43m)\u001b[49m\n\u001b[0;32m    122\u001b[0m \u001b[38;5;28;01melif\u001b[39;00m \u001b[38;5;129;01mnot\u001b[39;00m ishashable(arg):\n\u001b[0;32m    123\u001b[0m     \u001b[38;5;28;01mreturn\u001b[39;00m arg\n",
      "File \u001b[1;32m~\\anaconda3\\envs\\abtem-dask\\lib\\site-packages\\dask\\core.py:121\u001b[0m, in \u001b[0;36m<genexpr>\u001b[1;34m(.0)\u001b[0m\n\u001b[0;32m    117\u001b[0m     func, args \u001b[38;5;241m=\u001b[39m arg[\u001b[38;5;241m0\u001b[39m], arg[\u001b[38;5;241m1\u001b[39m:]\n\u001b[0;32m    118\u001b[0m     \u001b[38;5;66;03m# Note: Don't assign the subtask results to a variable. numpy detects\u001b[39;00m\n\u001b[0;32m    119\u001b[0m     \u001b[38;5;66;03m# temporaries by their reference count and can execute certain\u001b[39;00m\n\u001b[0;32m    120\u001b[0m     \u001b[38;5;66;03m# operations in-place.\u001b[39;00m\n\u001b[1;32m--> 121\u001b[0m     \u001b[38;5;28;01mreturn\u001b[39;00m func(\u001b[38;5;241m*\u001b[39m(\u001b[43m_execute_task\u001b[49m\u001b[43m(\u001b[49m\u001b[43ma\u001b[49m\u001b[43m,\u001b[49m\u001b[43m \u001b[49m\u001b[43mcache\u001b[49m\u001b[43m)\u001b[49m \u001b[38;5;28;01mfor\u001b[39;00m a \u001b[38;5;129;01min\u001b[39;00m args))\n\u001b[0;32m    122\u001b[0m \u001b[38;5;28;01melif\u001b[39;00m \u001b[38;5;129;01mnot\u001b[39;00m ishashable(arg):\n\u001b[0;32m    123\u001b[0m     \u001b[38;5;28;01mreturn\u001b[39;00m arg\n",
      "File \u001b[1;32m~\\anaconda3\\envs\\abtem-dask\\lib\\site-packages\\dask\\core.py:121\u001b[0m, in \u001b[0;36m_execute_task\u001b[1;34m(arg, cache, dsk)\u001b[0m\n\u001b[0;32m    117\u001b[0m     func, args \u001b[38;5;241m=\u001b[39m arg[\u001b[38;5;241m0\u001b[39m], arg[\u001b[38;5;241m1\u001b[39m:]\n\u001b[0;32m    118\u001b[0m     \u001b[38;5;66;03m# Note: Don't assign the subtask results to a variable. numpy detects\u001b[39;00m\n\u001b[0;32m    119\u001b[0m     \u001b[38;5;66;03m# temporaries by their reference count and can execute certain\u001b[39;00m\n\u001b[0;32m    120\u001b[0m     \u001b[38;5;66;03m# operations in-place.\u001b[39;00m\n\u001b[1;32m--> 121\u001b[0m     \u001b[38;5;28;01mreturn\u001b[39;00m \u001b[43mfunc\u001b[49m\u001b[43m(\u001b[49m\u001b[38;5;241;43m*\u001b[39;49m\u001b[43m(\u001b[49m\u001b[43m_execute_task\u001b[49m\u001b[43m(\u001b[49m\u001b[43ma\u001b[49m\u001b[43m,\u001b[49m\u001b[43m \u001b[49m\u001b[43mcache\u001b[49m\u001b[43m)\u001b[49m\u001b[43m \u001b[49m\u001b[38;5;28;43;01mfor\u001b[39;49;00m\u001b[43m \u001b[49m\u001b[43ma\u001b[49m\u001b[43m \u001b[49m\u001b[38;5;129;43;01min\u001b[39;49;00m\u001b[43m \u001b[49m\u001b[43margs\u001b[49m\u001b[43m)\u001b[49m\u001b[43m)\u001b[49m\n\u001b[0;32m    122\u001b[0m \u001b[38;5;28;01melif\u001b[39;00m \u001b[38;5;129;01mnot\u001b[39;00m ishashable(arg):\n\u001b[0;32m    123\u001b[0m     \u001b[38;5;28;01mreturn\u001b[39;00m arg\n",
      "File \u001b[1;32m~\\anaconda3\\envs\\abtem-dask\\lib\\site-packages\\dask\\optimization.py:992\u001b[0m, in \u001b[0;36mSubgraphCallable.__call__\u001b[1;34m(self, *args)\u001b[0m\n\u001b[0;32m    990\u001b[0m \u001b[38;5;28;01mif\u001b[39;00m \u001b[38;5;129;01mnot\u001b[39;00m \u001b[38;5;28mlen\u001b[39m(args) \u001b[38;5;241m==\u001b[39m \u001b[38;5;28mlen\u001b[39m(\u001b[38;5;28mself\u001b[39m\u001b[38;5;241m.\u001b[39minkeys):\n\u001b[0;32m    991\u001b[0m     \u001b[38;5;28;01mraise\u001b[39;00m \u001b[38;5;167;01mValueError\u001b[39;00m(\u001b[38;5;124m\"\u001b[39m\u001b[38;5;124mExpected \u001b[39m\u001b[38;5;132;01m%d\u001b[39;00m\u001b[38;5;124m args, got \u001b[39m\u001b[38;5;132;01m%d\u001b[39;00m\u001b[38;5;124m\"\u001b[39m \u001b[38;5;241m%\u001b[39m (\u001b[38;5;28mlen\u001b[39m(\u001b[38;5;28mself\u001b[39m\u001b[38;5;241m.\u001b[39minkeys), \u001b[38;5;28mlen\u001b[39m(args)))\n\u001b[1;32m--> 992\u001b[0m \u001b[38;5;28;01mreturn\u001b[39;00m \u001b[43mcore\u001b[49m\u001b[38;5;241;43m.\u001b[39;49m\u001b[43mget\u001b[49m\u001b[43m(\u001b[49m\u001b[38;5;28;43mself\u001b[39;49m\u001b[38;5;241;43m.\u001b[39;49m\u001b[43mdsk\u001b[49m\u001b[43m,\u001b[49m\u001b[43m \u001b[49m\u001b[38;5;28;43mself\u001b[39;49m\u001b[38;5;241;43m.\u001b[39;49m\u001b[43moutkey\u001b[49m\u001b[43m,\u001b[49m\u001b[43m \u001b[49m\u001b[38;5;28;43mdict\u001b[39;49m\u001b[43m(\u001b[49m\u001b[38;5;28;43mzip\u001b[39;49m\u001b[43m(\u001b[49m\u001b[38;5;28;43mself\u001b[39;49m\u001b[38;5;241;43m.\u001b[39;49m\u001b[43minkeys\u001b[49m\u001b[43m,\u001b[49m\u001b[43m \u001b[49m\u001b[43margs\u001b[49m\u001b[43m)\u001b[49m\u001b[43m)\u001b[49m\u001b[43m)\u001b[49m\n",
      "File \u001b[1;32m~\\anaconda3\\envs\\abtem-dask\\lib\\site-packages\\dask\\core.py:151\u001b[0m, in \u001b[0;36mget\u001b[1;34m(dsk, out, cache)\u001b[0m\n\u001b[0;32m    149\u001b[0m \u001b[38;5;28;01mfor\u001b[39;00m key \u001b[38;5;129;01min\u001b[39;00m toposort(dsk):\n\u001b[0;32m    150\u001b[0m     task \u001b[38;5;241m=\u001b[39m dsk[key]\n\u001b[1;32m--> 151\u001b[0m     result \u001b[38;5;241m=\u001b[39m \u001b[43m_execute_task\u001b[49m\u001b[43m(\u001b[49m\u001b[43mtask\u001b[49m\u001b[43m,\u001b[49m\u001b[43m \u001b[49m\u001b[43mcache\u001b[49m\u001b[43m)\u001b[49m\n\u001b[0;32m    152\u001b[0m     cache[key] \u001b[38;5;241m=\u001b[39m result\n\u001b[0;32m    153\u001b[0m result \u001b[38;5;241m=\u001b[39m _execute_task(out, cache)\n",
      "File \u001b[1;32m~\\anaconda3\\envs\\abtem-dask\\lib\\site-packages\\dask\\core.py:121\u001b[0m, in \u001b[0;36m_execute_task\u001b[1;34m(arg, cache, dsk)\u001b[0m\n\u001b[0;32m    117\u001b[0m     func, args \u001b[38;5;241m=\u001b[39m arg[\u001b[38;5;241m0\u001b[39m], arg[\u001b[38;5;241m1\u001b[39m:]\n\u001b[0;32m    118\u001b[0m     \u001b[38;5;66;03m# Note: Don't assign the subtask results to a variable. numpy detects\u001b[39;00m\n\u001b[0;32m    119\u001b[0m     \u001b[38;5;66;03m# temporaries by their reference count and can execute certain\u001b[39;00m\n\u001b[0;32m    120\u001b[0m     \u001b[38;5;66;03m# operations in-place.\u001b[39;00m\n\u001b[1;32m--> 121\u001b[0m     \u001b[38;5;28;01mreturn\u001b[39;00m \u001b[43mfunc\u001b[49m\u001b[43m(\u001b[49m\u001b[38;5;241;43m*\u001b[39;49m\u001b[43m(\u001b[49m\u001b[43m_execute_task\u001b[49m\u001b[43m(\u001b[49m\u001b[43ma\u001b[49m\u001b[43m,\u001b[49m\u001b[43m \u001b[49m\u001b[43mcache\u001b[49m\u001b[43m)\u001b[49m\u001b[43m \u001b[49m\u001b[38;5;28;43;01mfor\u001b[39;49;00m\u001b[43m \u001b[49m\u001b[43ma\u001b[49m\u001b[43m \u001b[49m\u001b[38;5;129;43;01min\u001b[39;49;00m\u001b[43m \u001b[49m\u001b[43margs\u001b[49m\u001b[43m)\u001b[49m\u001b[43m)\u001b[49m\n\u001b[0;32m    122\u001b[0m \u001b[38;5;28;01melif\u001b[39;00m \u001b[38;5;129;01mnot\u001b[39;00m ishashable(arg):\n\u001b[0;32m    123\u001b[0m     \u001b[38;5;28;01mreturn\u001b[39;00m arg\n",
      "File \u001b[1;32m~\\anaconda3\\envs\\abtem-dask\\lib\\site-packages\\dask\\utils.py:73\u001b[0m, in \u001b[0;36mapply\u001b[1;34m(func, args, kwargs)\u001b[0m\n\u001b[0;32m     42\u001b[0m \u001b[38;5;250m\u001b[39m\u001b[38;5;124;03m\"\"\"Apply a function given its positional and keyword arguments.\u001b[39;00m\n\u001b[0;32m     43\u001b[0m \n\u001b[0;32m     44\u001b[0m \u001b[38;5;124;03mEquivalent to ``func(*args, **kwargs)``\u001b[39;00m\n\u001b[1;32m   (...)\u001b[0m\n\u001b[0;32m     70\u001b[0m \u001b[38;5;124;03m>>> dsk = {'task-name': task}  # adds the task to a low level Dask task graph\u001b[39;00m\n\u001b[0;32m     71\u001b[0m \u001b[38;5;124;03m\"\"\"\u001b[39;00m\n\u001b[0;32m     72\u001b[0m \u001b[38;5;28;01mif\u001b[39;00m kwargs:\n\u001b[1;32m---> 73\u001b[0m     \u001b[38;5;28;01mreturn\u001b[39;00m func(\u001b[38;5;241m*\u001b[39margs, \u001b[38;5;241m*\u001b[39m\u001b[38;5;241m*\u001b[39mkwargs)\n\u001b[0;32m     74\u001b[0m \u001b[38;5;28;01melse\u001b[39;00m:\n\u001b[0;32m     75\u001b[0m     \u001b[38;5;28;01mreturn\u001b[39;00m func(\u001b[38;5;241m*\u001b[39margs)\n",
      "File \u001b[1;32m~\\abtem\\abTEM\\abtem\\array.py:982\u001b[0m, in \u001b[0;36mArrayObject._apply_transform\u001b[1;34m(array_object_partial, transform_partial, num_transform_args, *args)\u001b[0m\n\u001b[0;32m    976\u001b[0m     array \u001b[38;5;241m=\u001b[39m array\u001b[38;5;241m.\u001b[39mitem()\n\u001b[0;32m    978\u001b[0m array_object \u001b[38;5;241m=\u001b[39m array_object_partial(\n\u001b[0;32m    979\u001b[0m     array, ensemble_axes_metadata\u001b[38;5;241m=\u001b[39mensemble_axes_metadata\n\u001b[0;32m    980\u001b[0m )\n\u001b[1;32m--> 982\u001b[0m array \u001b[38;5;241m=\u001b[39m \u001b[43mtransform\u001b[49m\u001b[38;5;241;43m.\u001b[39;49m\u001b[43m_calculate_new_array\u001b[49m\u001b[43m(\u001b[49m\u001b[43marray_object\u001b[49m\u001b[43m)\u001b[49m\n\u001b[0;32m    984\u001b[0m ensemble_dims \u001b[38;5;241m=\u001b[39m (\n\u001b[0;32m    985\u001b[0m     \u001b[38;5;28mlen\u001b[39m(transform\u001b[38;5;241m.\u001b[39mensemble_shape) \u001b[38;5;241m+\u001b[39m \u001b[38;5;28mlen\u001b[39m(array_object\u001b[38;5;241m.\u001b[39mensemble_shape) \u001b[38;5;241m+\u001b[39m \u001b[38;5;241m1\u001b[39m\n\u001b[0;32m    986\u001b[0m )\n\u001b[0;32m    988\u001b[0m \u001b[38;5;28;01mif\u001b[39;00m transform\u001b[38;5;241m.\u001b[39m_num_outputs \u001b[38;5;241m>\u001b[39m \u001b[38;5;241m1\u001b[39m:\n",
      "File \u001b[1;32m~\\abtem\\abTEM\\abtem\\transform.py:611\u001b[0m, in \u001b[0;36mReciprocalSpaceMultiplication._calculate_new_array\u001b[1;34m(self, waves)\u001b[0m\n\u001b[0;32m    607\u001b[0m kernel \u001b[38;5;241m=\u001b[39m xp\u001b[38;5;241m.\u001b[39marray(kernel)\n\u001b[0;32m    610\u001b[0m \u001b[38;5;28mprint\u001b[39m(kernel\u001b[38;5;241m.\u001b[39mdtype)\n\u001b[1;32m--> 611\u001b[0m \u001b[43msss\u001b[49m\n\u001b[0;32m    613\u001b[0m \u001b[38;5;28;01mif\u001b[39;00m \u001b[38;5;28mself\u001b[39m\u001b[38;5;241m.\u001b[39min_place:\n\u001b[0;32m    614\u001b[0m     new_array \u001b[38;5;241m*\u001b[39m\u001b[38;5;241m=\u001b[39m kernel\n",
      "\u001b[1;31mNameError\u001b[0m: name 'sss' is not defined"
     ]
    }
   ],
   "source": [
    "abtem.stack([exit_wave, image_wave], (\"Exit wave\", \"Imaged wave\")).show(\n",
    "    explode=True,\n",
    "    figsize=(14, 5),\n",
    "    common_color_scale=True,\n",
    "    cbar=True,\n",
    ");"
   ]
  },
  {
   "cell_type": "markdown",
   "metadata": {
    "editable": true,
    "slideshow": {
     "slide_type": ""
    },
    "tags": []
   },
   "source": [
    "Without an aperture, the high-frequency components of the CTF lead to the observed complicated contrast variation."
   ]
  },
  {
   "cell_type": "markdown",
   "metadata": {
    "editable": true,
    "slideshow": {
     "slide_type": ""
    },
    "tags": []
   },
   "source": [
    "### Focal series\n",
    "\n",
    "It common that the aberrations of your microscope are not known exactly, and thus it is useful to simulate an ensemble of images with different aberrations. \n",
    "\n",
    "We create an ensemble of `CTF`s for an range of defocii."
   ]
  },
  {
   "cell_type": "code",
   "execution_count": null,
   "metadata": {
    "editable": true,
    "slideshow": {
     "slide_type": ""
    },
    "tags": []
   },
   "outputs": [],
   "source": [
    "ctf_ensemble = abtem.CTF(Cs=-25e-6 * 1e10, energy=80e3)\n",
    "\n",
    "ctf_ensemble.C10 = np.linspace(0, -ctf_ensemble.scherzer_defocus, 5)"
   ]
  },
  {
   "cell_type": "markdown",
   "metadata": {
    "editable": true,
    "slideshow": {
     "slide_type": ""
    },
    "tags": []
   },
   "source": [
    "When this `CTF` is applied to the wave function we obtain an ensemble of wave functions."
   ]
  },
  {
   "cell_type": "code",
   "execution_count": null,
   "metadata": {
    "editable": true,
    "slideshow": {
     "slide_type": ""
    },
    "tags": [
     "full-width"
    ]
   },
   "outputs": [],
   "source": [
    "waves_image_series = exit_wave.apply_ctf(ctf_ensemble)\n",
    "\n",
    "waves_image_series.show(\n",
    "    figsize=(14, 5),\n",
    "    cbar=True,\n",
    "    explode=True,\n",
    "    common_color_scale=True,\n",
    ");"
   ]
  },
  {
   "cell_type": "markdown",
   "metadata": {
    "editable": true,
    "pycharm": {
     "name": "#%% md\n"
    },
    "slideshow": {
     "slide_type": ""
    },
    "tags": []
   },
   "source": [
    "## Aperture\n",
    "\n",
    "In practice, the maximum transferred frequency is limited by the aperture of the objective lens. This is conventionally described as a multiplication with the aperture function:\n",
    "\n",
    "$$\n",
    "    \\psi_{\\mathrm{image}}(k, \\phi) = A(k) \\exp[-i \\chi(k, \\phi)] \\psi_{\\mathrm{exit}}(k, \\phi),\n",
    "$$\n",
    "\n",
    "where $A(k)$ is the aperture function\n",
    "\n",
    "$$\n",
    "    A(k) = \\begin{cases} 1 & \\text{if } x \\geq k_{cut} \\\\ 0 & \\text{if } x < k_{cut} \\end{cases} .\n",
    "$$\n",
    "\n",
    "We will cut off the `CTF` at the angle corresponding to the Scherzer [point resolution](https://en.wikipedia.org/wiki/High-resolution_transmission_electron_microscopy#Scherzer_defocus), which is defined as the angle where the phase of the `CTF` crosses the abscissa for the first time (`crossover_angle`)."
   ]
  },
  {
   "cell_type": "code",
   "execution_count": null,
   "metadata": {
    "editable": true,
    "pycharm": {
     "name": "#%%\n"
    },
    "slideshow": {
     "slide_type": ""
    },
    "tags": []
   },
   "outputs": [],
   "source": [
    "ctf_cutoff = ctf.copy()\n",
    "ctf_cutoff.semiangle_cutoff = ctf_cutoff.crossover_angle\n",
    "\n",
    "print(f\"cutoff = {ctf_cutoff.crossover_angle:.3f} mrad\")"
   ]
  },
  {
   "cell_type": "code",
   "execution_count": null,
   "metadata": {
    "editable": true,
    "slideshow": {
     "slide_type": ""
    },
    "tags": []
   },
   "outputs": [],
   "source": [
    "ctf_cutoff.profiles(max_angle=40).show(legend=True, units=\"mrad\");"
   ]
  },
  {
   "cell_type": "markdown",
   "metadata": {},
   "source": [
    "We show the resulting image below and see, as expected, that applying this aperture removes high-frequency information from the wave function intensity."
   ]
  },
  {
   "cell_type": "code",
   "execution_count": null,
   "metadata": {
    "editable": true,
    "pycharm": {
     "name": "#%%\n"
    },
    "slideshow": {
     "slide_type": ""
    },
    "tags": []
   },
   "outputs": [],
   "source": [
    "waves_cutoff = exit_wave.apply_ctf(ctf_cutoff)\n",
    "\n",
    "abtem.stack(\n",
    "    [exit_wave, image_wave, waves_cutoff], (\"Exit wave\", \"Imaged wave\", \"+ cutoff\")\n",
    ").show(\n",
    "    explode=True,\n",
    "    figsize=(14, 5),\n",
    "    common_color_scale=True,\n",
    "    cbar=True,\n",
    ");"
   ]
  },
  {
   "cell_type": "markdown",
   "metadata": {
    "editable": true,
    "slideshow": {
     "slide_type": ""
    },
    "tags": []
   },
   "source": [
    "## Assymetric aberrations\n",
    "\n",
    "Assymetric aberrations such as astigmatism also requires setting an angle, here we adjust the CTF by adding $0$ to $50 \\ \\mathrm{Å}$ astigmatism $C_{12}$ at an angle of $\\pi / 4 \\ \\mathrm{rad}$."
   ]
  },
  {
   "cell_type": "code",
   "execution_count": null,
   "metadata": {
    "editable": true,
    "slideshow": {
     "slide_type": ""
    },
    "tags": [
     "full-width"
    ]
   },
   "outputs": [],
   "source": [
    "ctf_assymetric = ctf_cutoff.copy()\n",
    "\n",
    "ctf_assymetric.astigmatism = np.linspace(0, 50, 3)\n",
    "ctf_assymetric.astigmatism_angle = np.pi / 4"
   ]
  },
  {
   "cell_type": "markdown",
   "metadata": {
    "editable": true,
    "slideshow": {
     "slide_type": ""
    },
    "tags": []
   },
   "source": [
    "We can no longer simply visualize the aberrations as a line profile, as the profile will depend on the azimuthal angle. We can instead evaluate the CTF as an ensemble of complex reciprocal space images and visualize those.."
   ]
  },
  {
   "cell_type": "code",
   "execution_count": null,
   "metadata": {
    "editable": true,
    "slideshow": {
     "slide_type": ""
    },
    "tags": [
     "full-width"
    ]
   },
   "outputs": [],
   "source": [
    "measurements = ctf_assymetric.to_diffraction_patterns(\n",
    "    max_angle=ctf_cutoff.crossover_angle * 1.01\n",
    ")\n",
    "measurements.show(explode=True, figsize=(12, 4), cbar=True, common_color_scale=True);"
   ]
  },
  {
   "cell_type": "markdown",
   "metadata": {
    "editable": true,
    "slideshow": {
     "slide_type": ""
    },
    "tags": []
   },
   "source": [
    "Alternatively, we can get the point spread functions as complex real-space images."
   ]
  },
  {
   "cell_type": "code",
   "execution_count": null,
   "metadata": {
    "editable": true,
    "slideshow": {
     "slide_type": ""
    },
    "tags": [
     "full-width"
    ]
   },
   "outputs": [],
   "source": [
    "psf = ctf_assymetric.to_point_spread_functions(gpts=128, extent=15)\n",
    "psf.show(explode=True, figsize=(12, 4), cbar=True, common_color_scale=True, vmax=5e-4);"
   ]
  },
  {
   "cell_type": "markdown",
   "metadata": {
    "editable": true,
    "pycharm": {
     "name": "#%% md\n"
    },
    "slideshow": {
     "slide_type": ""
    },
    "tags": []
   },
   "source": [
    "## Partial coherence (quasi-coherent)\n",
    "Partial coherence acts similarly to the aperture function to dampen the high spatial frequencies of the signal. Partial coherence may be approximated by multiplying the `CTF` by envelope functions:\n",
    "\n",
    "$$\n",
    "    \\psi_{\\mathrm{image}}(k, \\phi) = \\mathrm{CTF}(k, \\phi) \\psi_{\\mathrm{exit}}(k, \\phi),\n",
    "$$\n",
    "\n",
    "where the $\\mathrm{CTF}$ is now given as\n",
    "\n",
    "$$\n",
    "    \\mathrm{CTF}(k, \\phi) = E_t(k) E_s(k) A(k) \\exp[-i \\chi(k, \\phi)]\n",
    "$$\n",
    "\n",
    "and $E_t(k)$ and $E_s(k)$, to be defined below, are the temporal and spatial envelopes, respectively. \n",
    "\n",
    "\n",
    "```{warning}\n",
    "Here partial coherence is applied using the convenient quasi-coherent approximation. This is only appropriate for HRTEM simulations when the effect is sufficiently small, but it is generally *never* appropriate for STEM simulations. The more accurate approach of using an incoherent summation is [introduced in a tutorial](../tutorials/partial_coherence.ipynb).\n",
    "```"
   ]
  },
  {
   "cell_type": "markdown",
   "metadata": {},
   "source": [
    "### Partial temporal coherence\n",
    "\n",
    "The most important source of partial coherence in HRTEM is partial temporal coherence. A small spread in energy of the incident electrons, $\\Delta E$, is due to the chromatic aberration of the objective lens equivalent to a small spread in defocus. Fluctuations in the focusing currents of the objective lens, $\\Delta I$, also produce an incoherent spread in defocus. Combining these effects, the standard deviation of the focal spread may be written as\n",
    "\n",
    "$$\n",
    "    \\delta = C_c \\sqrt{4 \\left(\\frac{\\Delta I_\\text{obj}}{I_\\text{obj}}\\right)^2 + \\left(\\frac{\\Delta E}{V_\\text{acc}}\\right)^2 + \\left(\\frac{\\Delta V_\\text{acc}}{V_\\text{acc}}\\right)^2} \\quad.\n",
    "$$\n",
    "\n",
    "The terms $\\Delta I_\\text{obj}/I_\\text{obj}$ and $\\Delta V_\\text{acc}/V_\\text{acc}$ represent instabilities in of the total current in the magnetic lenses and the acceleration voltage. $\\Delta E/V_\\text{acc}$ is the energy spread of electrons emitted by the source. $C_c$ is the chromatic aberration coefficient. Assuming $\\delta$ is small, and focal spread follows a Gaussian distribution, the temporal envelope may be written {cite}`kirkland`\n",
    "\n",
    "$$\n",
    "    E_t(k) = \\exp\\left[-\\frac{1}{4} \\left(\\pi \\lambda \\delta \\right)^2 k^4 \\right] \\quad .\n",
    "$$\n",
    "\n",
    "The parameter $\\delta$ above is equivalent to the `focal_spread` keyword and given in $\\mathrm{Å}$.\n",
    "\n",
    "We calculate a realistic value of the focal spread to be $52.5 \\ \\mathrm{Å}$. This was estimated using a typical energy spread  of $0.35 \\ \\mathrm{eV}$ (standard deviation) for a non-monochromated beam and a typical chromatic aberration of $1.2 \\ \\mathrm{mm}$ which would be considered good for a microscope without chromatic aberration correction. We assume that the contributions to the focal spread from instabilities in the magnetic lenses are negligible."
   ]
  },
  {
   "cell_type": "code",
   "execution_count": null,
   "metadata": {},
   "outputs": [],
   "source": [
    "Cc = 1.2e-3 * 1e10\n",
    "energy = exit_wave.energy\n",
    "energy_spread = 0.35\n",
    "\n",
    "focal_spread = Cc * energy_spread / energy\n",
    "\n",
    "print(f\"focal spread = {focal_spread:.2f} Å\")"
   ]
  },
  {
   "cell_type": "markdown",
   "metadata": {},
   "source": [
    "We show a plot of the resulting `CTF` below. Given this we may conclude that for a focal spread of this magnitude, the aperture will have almost no effect as the envelope already goes to zero at the cutoff."
   ]
  },
  {
   "cell_type": "code",
   "execution_count": null,
   "metadata": {
    "pycharm": {
     "name": "#%%\n"
    }
   },
   "outputs": [],
   "source": [
    "ctf_partial = ctf_cutoff.copy()\n",
    "ctf_partial.focal_spread = focal_spread\n",
    "ctf_partial.profiles().show(units=\"mrad\", legend=True);"
   ]
  },
  {
   "cell_type": "markdown",
   "metadata": {},
   "source": [
    "### Partial spatial coherence\n",
    "\n",
    "As the electron source has a finite size, the incident beam contains a distribution of incident directions. In HRTEM this is quantified by *angular spread*. Assuming that each incident direction performs its own scattering and that the distribution of incident directions is small, it can be shown that the angular spread can be modelled by the spatial coherence envelope function{cite}`kirkland`, as given by\n",
    "\n",
    "$$\n",
    "    E_s(k) = \\exp\\left(-\\frac{\\beta}{4\\lambda^2}\\left| \\frac{\\partial \\chi(k)}{\\partial k}\\right|^2  \\right) \\quad .\n",
    "$$\n",
    "\n",
    "where $\\beta$ is the $1/e$ width of the distribution of angles. The parameter $\\beta$ is equivalent the `angular_spread` keyword and given in $\\mathrm{mrad}$.\n",
    "\n",
    "Given a modern electron source such as a field emission gun, the partial spatial coherence is typically negligible, even in microscopes without chromatic aberration correction.\n",
    "\n",
    "Given an angular spread of $1 \\ \\mathrm{mrad}$, which would be considered large, we obtain the spatial envelope illustrated below, which we see has almost no effect in the presence of partial temporal coherence."
   ]
  },
  {
   "cell_type": "code",
   "execution_count": null,
   "metadata": {},
   "outputs": [],
   "source": [
    "ctf_partial.angular_spread = 1\n",
    "\n",
    "ctf_partial.profiles().show(legend=True);"
   ]
  },
  {
   "cell_type": "markdown",
   "metadata": {},
   "source": [
    "Finally we apply the `CTF` with the partial coherence envelope to the wave function. The effect is to further blur the image and to lower the contrast. "
   ]
  },
  {
   "cell_type": "code",
   "execution_count": null,
   "metadata": {
    "tags": [
     "full-width"
    ]
   },
   "outputs": [],
   "source": [
    "wave_partial = exit_wave.apply_ctf(ctf_partial)\n",
    "\n",
    "abtem.stack(\n",
    "    [exit_wave, image_wave, waves_cutoff, wave_partial],\n",
    "    (\"Exit wave\", \"Imaged wave\", \"+ cutoff\", \"+ partial coherence\"),\n",
    ").show(\n",
    "    explode=True,\n",
    "    figsize=(14, 5),\n",
    "    common_color_scale=True,\n",
    "    cbar=True,\n",
    ");"
   ]
  },
  {
   "cell_type": "markdown",
   "metadata": {
    "editable": true,
    "slideshow": {
     "slide_type": ""
    },
    "tags": []
   },
   "source": [
    "```{note}\n",
    "Blurring can also be caused by noise leading to random deflection of the image relative to the detector, such as vibrations, drift of the stage and magnetic noise in the lenses. Such effects may be reasonably included by applying a Gaussian blur.\n",
    "```"
   ]
  }
 ],
 "metadata": {
  "kernelspec": {
   "display_name": "abtem-dask",
   "language": "python",
   "name": "abtem-dask"
  },
  "language_info": {
   "codemirror_mode": {
    "name": "ipython",
    "version": 3
   },
   "file_extension": ".py",
   "mimetype": "text/x-python",
   "name": "python",
   "nbconvert_exporter": "python",
   "pygments_lexer": "ipython3",
   "version": "3.10.8"
  },
  "widgets": {
   "application/vnd.jupyter.widget-state+json": {
    "state": {},
    "version_major": 2,
    "version_minor": 0
   }
  }
 },
 "nbformat": 4,
 "nbformat_minor": 4
}
