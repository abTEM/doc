{
 "cells": [
  {
   "cell_type": "code",
   "execution_count": 1,
   "id": "c8a68d55-5e9b-4bab-b324-05b89a56cecd",
   "metadata": {
    "pycharm": {
     "name": "#%%\n"
    },
    "tags": [
     "hide-input"
    ]
   },
   "outputs": [],
   "source": [
    "import abtem\n",
    "import ase\n",
    "import dask\n",
    "from IPython.display import Image, display \n",
    "\n",
    "dask.config.set({\"array.svg.size\": 90});"
   ]
  },
  {
   "cell_type": "markdown",
   "id": "2b2c74ed-dfb6-4426-898a-63110b6fb253",
   "metadata": {
    "pycharm": {
     "name": "#%% md\n"
    },
    "tags": []
   },
   "source": [
    "(walkthrough:parallelization)=\n",
    "# Parallelization\n",
    "\n",
    "The computational cost of running multislice simulations can become high depending on the size of the specimen, the number of probe positions, phonon images, and many other factors. This cost can be mitigated using parallelism. Many of the computations in *ab*TEM are [embarrasingly parallel](https://en.wikipedia.org/wiki/Embarrassingly_parallel): for example, every probe position is independent, thus each CPU core may calculate a batch of positions independently, only requiring communication after finishing a run of the multislice algorithm. \n",
    "\n",
    "*ab*TEM is parallelized using [Dask](https://www.dask.org/){cite}`dask`, which is a flexible library for parallel computing in Python. Dask allows scaling from a single laptop to hundreds of nodes at high-performance computing (HPC) facilities with minimal changes to the code. \n",
    "\n",
    "In this walkthrough, we introduce how *ab*TEM uses Dask. Althouhg this is not required knowledge for running simulations on a single machine, it may still help you optimize your simulations. If you are already an experienced Dask user, most of what you already know can be applied to using *ab*TEM. If you are new to Dask you may benefit from watching [this introduction](https://www.youtube.com/watch?v=nnndxbr_Xq4) before continuing.\n",
    "\n",
    "We note that Dask is used in several other libraries for the analysis of electron microscopy data, for example, [hyperspy](https://hyperspy.org/), [libertem](https://libertem.github.io/LiberTEM/) and [py4DSTEM](https://py4dstem.readthedocs.io/en/latest/), and thus we think that you may benefit from knowing this library more generally."
   ]
  },
  {
   "cell_type": "markdown",
   "id": "43b2aaf0-80a0-4058-99a2-faa12025ab42",
   "metadata": {
    "pycharm": {
     "name": "#%% md\n"
    }
   },
   "source": [
    "## Task graphs\n",
    "\n",
    "Simulating TEM experiments requires executing multiple *tasks* where each one may depend on the output of previous tasks. In Dask this is represented as a [*task graph*](https://docs.dask.org/en/stable/graphs.html), where each task is a *node*, with *edges* between nodes if it is dependent on another task. The simulation result is obtained by executing each task (node) in the graph with a Dask *scheduler* on a single machine or a cluster."
   ]
  },
  {
   "cell_type": "code",
   "execution_count": 2,
   "id": "fe6765fb-d0ea-4c35-b5bf-2eaadee69b0b",
   "metadata": {
    "jupyter": {
     "source_hidden": true
    },
    "tags": [
     "remove-input",
     "hide-input"
    ]
   },
   "outputs": [
    {
     "data": {
      "text/html": [
       "<img src=\"https://docs.dask.org/en/stable/_images/dask-overview.svg\" width=\"600\"/>"
      ],
      "text/plain": [
       "<IPython.core.display.Image object>"
      ]
     },
     "metadata": {},
     "output_type": "display_data"
    }
   ],
   "source": [
    "display(\n",
    "    Image(url=\"https://docs.dask.org/en/stable/_images/dask-overview.svg\", width=600)\n",
    ")"
   ]
  },
  {
   "cell_type": "markdown",
   "id": "95b10156-ee85-4600-92ed-b9c7c398dbdc",
   "metadata": {},
   "source": [
    "To illustrate this in practice, below we create the task graph for running a plane wave multislice simulation of gold in the $\\left<100\\right>$ zone axis with 4 frozen phonon configurations (please refer to previous walkthroughs for those details)."
   ]
  },
  {
   "cell_type": "code",
   "execution_count": 3,
   "id": "60ba5ba0-0d6d-4ecb-8fdd-fa80316a579b",
   "metadata": {},
   "outputs": [],
   "source": [
    "atoms = ase.build.bulk(\"Au\", cubic=True) * (5, 5, 2)\n",
    "\n",
    "frozen_phonons = abtem.FrozenPhonons(\n",
    "    atoms, num_configs=4, sigmas=0.1, ensemble_mean=False\n",
    ")\n",
    "\n",
    "potential = abtem.Potential(frozen_phonons, gpts=512, slice_thickness=2)\n",
    "\n",
    "probe = abtem.PlaneWave(energy=200e3)\n",
    "\n",
    "exit_waves = probe.multislice(potential)"
   ]
  },
  {
   "cell_type": "markdown",
   "id": "cbc97cd9-2777-4ef4-a0c4-c020517b708e",
   "metadata": {},
   "source": [
    "The result is an ensemble of $4$ wave functions of shape $512\\times512$, which may be represented as a 3D array, where the first dimension represents the phonon ensemble and the last two dimensions represents the 2D wave functions. \n",
    "\n",
    "As we have not executed the task graph yet, the wave functions are represented as a [Dask Array](https://docs.dask.org/en/stable/array.html). We can think of the *Dask array* as being composed of many smaller NumPy arrays, called *chunks*, and operations may be applied to each chunk rather than the full array. This enables: \n",
    "\n",
    "1. Parallelism over the chunks;\n",
    "2. Representing a larger-than-memory array as many smaller arrays, each of which fits in memory.\n",
    "\n",
    "The Dask array representation `__repr__` shows how the chunks are laid out."
   ]
  },
  {
   "cell_type": "code",
   "execution_count": 4,
   "id": "adc736d7-6ca1-47a7-baa5-eb6a9b0d69cb",
   "metadata": {},
   "outputs": [
    {
     "data": {
      "text/html": [
       "<table>\n",
       "    <tr>\n",
       "        <td>\n",
       "            <table style=\"border-collapse: collapse;\">\n",
       "                <thead>\n",
       "                    <tr>\n",
       "                        <td> </td>\n",
       "                        <th> Array </th>\n",
       "                        <th> Chunk </th>\n",
       "                    </tr>\n",
       "                </thead>\n",
       "                <tbody>\n",
       "                    \n",
       "                    <tr>\n",
       "                        <th> Bytes </th>\n",
       "                        <td> 8.00 MiB </td>\n",
       "                        <td> 2.00 MiB </td>\n",
       "                    </tr>\n",
       "                    \n",
       "                    <tr>\n",
       "                        <th> Shape </th>\n",
       "                        <td> (4, 512, 512) </td>\n",
       "                        <td> (1, 512, 512) </td>\n",
       "                    </tr>\n",
       "                    <tr>\n",
       "                        <th> Dask graph </th>\n",
       "                        <td colspan=\"2\"> 4 chunks in 15 graph layers </td>\n",
       "                    </tr>\n",
       "                    <tr>\n",
       "                        <th> Data type </th>\n",
       "                        <td colspan=\"2\"> complex64 numpy.ndarray </td>\n",
       "                    </tr>\n",
       "                </tbody>\n",
       "            </table>\n",
       "        </td>\n",
       "        <td>\n",
       "        <svg width=\"161\" height=\"151\" style=\"stroke:rgb(0,0,0);stroke-width:1\" >\n",
       "\n",
       "  <!-- Horizontal lines -->\n",
       "  <line x1=\"10\" y1=\"0\" x2=\"21\" y2=\"11\" style=\"stroke-width:2\" />\n",
       "  <line x1=\"10\" y1=\"90\" x2=\"21\" y2=\"101\" style=\"stroke-width:2\" />\n",
       "\n",
       "  <!-- Vertical lines -->\n",
       "  <line x1=\"10\" y1=\"0\" x2=\"10\" y2=\"90\" style=\"stroke-width:2\" />\n",
       "  <line x1=\"12\" y1=\"2\" x2=\"12\" y2=\"92\" />\n",
       "  <line x1=\"15\" y1=\"5\" x2=\"15\" y2=\"95\" />\n",
       "  <line x1=\"18\" y1=\"8\" x2=\"18\" y2=\"98\" />\n",
       "  <line x1=\"21\" y1=\"11\" x2=\"21\" y2=\"101\" style=\"stroke-width:2\" />\n",
       "\n",
       "  <!-- Colored Rectangle -->\n",
       "  <polygon points=\"10.0,0.0 21.2114484623158,11.211448462315802 21.2114484623158,101.2114484623158 10.0,90.0\" style=\"fill:#ECB172A0;stroke-width:0\"/>\n",
       "\n",
       "  <!-- Horizontal lines -->\n",
       "  <line x1=\"10\" y1=\"0\" x2=\"100\" y2=\"0\" style=\"stroke-width:2\" />\n",
       "  <line x1=\"12\" y1=\"2\" x2=\"102\" y2=\"2\" />\n",
       "  <line x1=\"15\" y1=\"5\" x2=\"105\" y2=\"5\" />\n",
       "  <line x1=\"18\" y1=\"8\" x2=\"108\" y2=\"8\" />\n",
       "  <line x1=\"21\" y1=\"11\" x2=\"111\" y2=\"11\" style=\"stroke-width:2\" />\n",
       "\n",
       "  <!-- Vertical lines -->\n",
       "  <line x1=\"10\" y1=\"0\" x2=\"21\" y2=\"11\" style=\"stroke-width:2\" />\n",
       "  <line x1=\"100\" y1=\"0\" x2=\"111\" y2=\"11\" style=\"stroke-width:2\" />\n",
       "\n",
       "  <!-- Colored Rectangle -->\n",
       "  <polygon points=\"10.0,0.0 100.0,0.0 111.2114484623158,11.211448462315802 21.2114484623158,11.211448462315802\" style=\"fill:#ECB172A0;stroke-width:0\"/>\n",
       "\n",
       "  <!-- Horizontal lines -->\n",
       "  <line x1=\"21\" y1=\"11\" x2=\"111\" y2=\"11\" style=\"stroke-width:2\" />\n",
       "  <line x1=\"21\" y1=\"101\" x2=\"111\" y2=\"101\" style=\"stroke-width:2\" />\n",
       "\n",
       "  <!-- Vertical lines -->\n",
       "  <line x1=\"21\" y1=\"11\" x2=\"21\" y2=\"101\" style=\"stroke-width:2\" />\n",
       "  <line x1=\"111\" y1=\"11\" x2=\"111\" y2=\"101\" style=\"stroke-width:2\" />\n",
       "\n",
       "  <!-- Colored Rectangle -->\n",
       "  <polygon points=\"21.2114484623158,11.211448462315802 111.2114484623158,11.211448462315802 111.2114484623158,101.2114484623158 21.2114484623158,101.2114484623158\" style=\"fill:#ECB172A0;stroke-width:0\"/>\n",
       "\n",
       "  <!-- Text -->\n",
       "  <text x=\"66.211448\" y=\"121.211448\" font-size=\"1.0rem\" font-weight=\"100\" text-anchor=\"middle\" >512</text>\n",
       "  <text x=\"131.211448\" y=\"56.211448\" font-size=\"1.0rem\" font-weight=\"100\" text-anchor=\"middle\" transform=\"rotate(-90,131.211448,56.211448)\">512</text>\n",
       "  <text x=\"5.605724\" y=\"115.605724\" font-size=\"1.0rem\" font-weight=\"100\" text-anchor=\"middle\" transform=\"rotate(45,5.605724,115.605724)\">4</text>\n",
       "</svg>\n",
       "        </td>\n",
       "    </tr>\n",
       "</table>"
      ],
      "text/plain": [
       "dask.array<_extract_measurement, shape=(4, 512, 512), dtype=complex64, chunksize=(1, 512, 512), chunktype=numpy.ndarray>"
      ]
     },
     "execution_count": 4,
     "metadata": {},
     "output_type": "execute_result"
    }
   ],
   "source": [
    "exit_waves.array"
   ]
  },
  {
   "cell_type": "markdown",
   "id": "07d22d90-2701-4d3e-bc91-ab2260232950",
   "metadata": {},
   "source": [
    "We see that this Dask array has the shape `(4, 512, 512)` requiring 8 MB of memory, and is composed of chunks with shape `(1, 512, 512)` requiring 2 MB each.\n",
    "\n",
    "```{important}\n",
    "The Dask array just represents a task graph, not the data itself, so memory is consumed only if it is computed!\n",
    "```\n",
    "\n",
    "Each chunk of the Dask array created above represents a wave function for a frozen phonon configuration. This reflects the fact that, in the multislice algorithm, each frozen phonon configuration is independent and may be calculated in parallel. On the other hand, we should not have chunks across wave functions, because each part of a wave function is affected by every other part.\n",
    "\n",
    "We can visualize the task graph using Dask's [`visualize`](https://docs.dask.org/en/stable/graphviz.html) method. We see that the task graph consists of 4 fully independent branches, one for each frozen phonon.\n",
    "\n",
    "````{note}\n",
    "Drawing Dask task graphs with the cytoscape engine requires the `ipycytoscape` python library. To reproduce the result below you need to:\n",
    "```\n",
    "  python -m pip install ipycytoscape\n",
    "```\n",
    "and restart jupyter.\n",
    "````"
   ]
  },
  {
   "cell_type": "code",
   "execution_count": 5,
   "id": "45d463ae-c282-4710-a05c-0817cb996457",
   "metadata": {
    "tags": [
     "skip-test"
    ]
   },
   "outputs": [
    {
     "data": {
      "application/vnd.jupyter.widget-view+json": {
       "model_id": "ceecfa686db04120b47fcfc277b238d5",
       "version_major": 2,
       "version_minor": 0
      },
      "text/plain": [
       "CytoscapeWidget(cytoscape_layout={'name': 'dagre', 'rankDir': 'BT', 'nodeSep': 10, 'edgeSep': 10, 'spacingFact…"
      ]
     },
     "execution_count": 5,
     "metadata": {},
     "output_type": "execute_result"
    }
   ],
   "source": [
    "exit_waves.array.visualize(engine=\"cytoscape\")"
   ]
  },
  {
   "cell_type": "markdown",
   "id": "20d970c0-56e5-4066-b1d8-f6c71f59fb46",
   "metadata": {},
   "source": [
    "We usually want to take the mean across the frozen phonon dimension, and thus end up with an image represented as a single chunk."
   ]
  },
  {
   "cell_type": "code",
   "execution_count": 6,
   "id": "907e3a1e-7132-4dc5-aa9b-bdeed01a6170",
   "metadata": {},
   "outputs": [
    {
     "data": {
      "text/html": [
       "<table>\n",
       "    <tr>\n",
       "        <td>\n",
       "            <table style=\"border-collapse: collapse;\">\n",
       "                <thead>\n",
       "                    <tr>\n",
       "                        <td> </td>\n",
       "                        <th> Array </th>\n",
       "                        <th> Chunk </th>\n",
       "                    </tr>\n",
       "                </thead>\n",
       "                <tbody>\n",
       "                    \n",
       "                    <tr>\n",
       "                        <th> Bytes </th>\n",
       "                        <td> 1.00 MiB </td>\n",
       "                        <td> 1.00 MiB </td>\n",
       "                    </tr>\n",
       "                    \n",
       "                    <tr>\n",
       "                        <th> Shape </th>\n",
       "                        <td> (512, 512) </td>\n",
       "                        <td> (512, 512) </td>\n",
       "                    </tr>\n",
       "                    <tr>\n",
       "                        <th> Dask graph </th>\n",
       "                        <td colspan=\"2\"> 1 chunks in 19 graph layers </td>\n",
       "                    </tr>\n",
       "                    <tr>\n",
       "                        <th> Data type </th>\n",
       "                        <td colspan=\"2\"> float32 numpy.ndarray </td>\n",
       "                    </tr>\n",
       "                </tbody>\n",
       "            </table>\n",
       "        </td>\n",
       "        <td>\n",
       "        <svg width=\"140\" height=\"140\" style=\"stroke:rgb(0,0,0);stroke-width:1\" >\n",
       "\n",
       "  <!-- Horizontal lines -->\n",
       "  <line x1=\"0\" y1=\"0\" x2=\"90\" y2=\"0\" style=\"stroke-width:2\" />\n",
       "  <line x1=\"0\" y1=\"90\" x2=\"90\" y2=\"90\" style=\"stroke-width:2\" />\n",
       "\n",
       "  <!-- Vertical lines -->\n",
       "  <line x1=\"0\" y1=\"0\" x2=\"0\" y2=\"90\" style=\"stroke-width:2\" />\n",
       "  <line x1=\"90\" y1=\"0\" x2=\"90\" y2=\"90\" style=\"stroke-width:2\" />\n",
       "\n",
       "  <!-- Colored Rectangle -->\n",
       "  <polygon points=\"0.0,0.0 90.0,0.0 90.0,90.0 0.0,90.0\" style=\"fill:#ECB172A0;stroke-width:0\"/>\n",
       "\n",
       "  <!-- Text -->\n",
       "  <text x=\"45.000000\" y=\"110.000000\" font-size=\"1.0rem\" font-weight=\"100\" text-anchor=\"middle\" >512</text>\n",
       "  <text x=\"110.000000\" y=\"45.000000\" font-size=\"1.0rem\" font-weight=\"100\" text-anchor=\"middle\" transform=\"rotate(-90,110.000000,45.000000)\">512</text>\n",
       "</svg>\n",
       "        </td>\n",
       "    </tr>\n",
       "</table>"
      ],
      "text/plain": [
       "dask.array<mean_agg-aggregate, shape=(512, 512), dtype=float32, chunksize=(512, 512), chunktype=numpy.ndarray>"
      ]
     },
     "execution_count": 6,
     "metadata": {},
     "output_type": "execute_result"
    }
   ],
   "source": [
    "hrtem_image = exit_waves.intensity().mean(0)\n",
    "\n",
    "hrtem_image.array"
   ]
  },
  {
   "cell_type": "markdown",
   "id": "b9661725-7a20-44f6-8415-52489e91259b",
   "metadata": {},
   "source": [
    "Taking the mean across frozen phonon chunks requires communicating the exit wave function intensity between the final nodes. Showing the task graph again we see how the branches are merged when the result have to be communicated between workers."
   ]
  },
  {
   "cell_type": "code",
   "execution_count": 7,
   "id": "27e8b98c-362e-4543-b6c2-e033a827143e",
   "metadata": {
    "tags": [
     "skip-test"
    ]
   },
   "outputs": [
    {
     "data": {
      "application/vnd.jupyter.widget-view+json": {
       "model_id": "0922d1ac6aa14debaa56968c71cedc45",
       "version_major": 2,
       "version_minor": 0
      },
      "text/plain": [
       "CytoscapeWidget(cytoscape_layout={'name': 'dagre', 'rankDir': 'BT', 'nodeSep': 10, 'edgeSep': 10, 'spacingFact…"
      ]
     },
     "execution_count": 7,
     "metadata": {},
     "output_type": "execute_result"
    }
   ],
   "source": [
    "hrtem_image.array.visualize(engine=\"cytoscape\")"
   ]
  },
  {
   "cell_type": "markdown",
   "id": "7dcdbfb7-41d3-49ff-995f-bf17f01a120f",
   "metadata": {},
   "source": [
    "## Chunks\n",
    "To futher explore the role of chunks in abTEM, we create the task graph for running a STEM simulation with the same specimen, gold in the $\\left<100\\right>$ zone axis with 4 frozen phonons. We do not immediately apply a detector, so we obtain an ensemble of exit wave functions."
   ]
  },
  {
   "cell_type": "code",
   "execution_count": 8,
   "id": "5b9baf98-b088-4c6f-954d-8ae1a7d22c23",
   "metadata": {
    "pycharm": {
     "name": "#%%\n"
    }
   },
   "outputs": [
    {
     "data": {
      "text/plain": [
       "type               label           coordinates\n",
       "-----------------  --------------  -------------------\n",
       "FrozenPhononsAxis  Frozen phonons  -\n",
       "ScanAxis           x [Å]           0.00 0.29 ... 3.79\n",
       "ScanAxis           y [Å]           0.00 0.29 ... 3.79\n",
       "RealSpaceAxis      x [Å]           0.00 0.04 ... 20.36\n",
       "RealSpaceAxis      y [Å]           0.00 0.04 ... 20.36"
      ]
     },
     "execution_count": 8,
     "metadata": {},
     "output_type": "execute_result"
    }
   ],
   "source": [
    "probe = abtem.Probe(energy=200e3, semiangle_cutoff=20)\n",
    "\n",
    "scan = abtem.GridScan.from_fractional_coordinates(\n",
    "    potential,\n",
    "    start=(0, 0),\n",
    "    end=(1 / 5, 1 / 5),\n",
    ")\n",
    "\n",
    "frozen_phonons = abtem.FrozenPhonons(\n",
    "    atoms, num_configs=4, sigmas=0.1, ensemble_mean=True\n",
    ")\n",
    "\n",
    "potential = abtem.Potential(frozen_phonons, gpts=512, slice_thickness=2)\n",
    "\n",
    "exit_waves_stem = probe.multislice(potential, scan=scan)\n",
    "\n",
    "exit_waves_stem.axes_metadata"
   ]
  },
  {
   "cell_type": "markdown",
   "id": "69036139-511e-482d-8f72-e66b71df0924",
   "metadata": {},
   "source": [
    "The wave functions are now represented as a 5D Dask array, a 3D ensemble of 2D wave functions, which is composed of one frozen phonon dimension and two scan dimensions, one for each of the $x$ and $y$ direction. \n",
    "\n",
    "The full array is of shape `(4, 15, 15, 512, 512)` requiring 1.76 GB of memory, which is cut into chunks of shape `(1, 8, 7, 512, 512)` of 112 MB. Hence, there are a total of $4 \\times 2 \\times 3 = 24$ chunks."
   ]
  },
  {
   "cell_type": "code",
   "execution_count": 9,
   "id": "0d0ab17b-53e3-4e79-856a-d734fe3c1cbe",
   "metadata": {},
   "outputs": [
    {
     "data": {
      "text/html": [
       "<table>\n",
       "    <tr>\n",
       "        <td>\n",
       "            <table style=\"border-collapse: collapse;\">\n",
       "                <thead>\n",
       "                    <tr>\n",
       "                        <td> </td>\n",
       "                        <th> Array </th>\n",
       "                        <th> Chunk </th>\n",
       "                    </tr>\n",
       "                </thead>\n",
       "                <tbody>\n",
       "                    \n",
       "                    <tr>\n",
       "                        <th> Bytes </th>\n",
       "                        <td> 1.53 GiB </td>\n",
       "                        <td> 112.00 MiB </td>\n",
       "                    </tr>\n",
       "                    \n",
       "                    <tr>\n",
       "                        <th> Shape </th>\n",
       "                        <td> (4, 14, 14, 512, 512) </td>\n",
       "                        <td> (1, 8, 7, 512, 512) </td>\n",
       "                    </tr>\n",
       "                    <tr>\n",
       "                        <th> Dask graph </th>\n",
       "                        <td colspan=\"2\"> 16 chunks in 17 graph layers </td>\n",
       "                    </tr>\n",
       "                    <tr>\n",
       "                        <th> Data type </th>\n",
       "                        <td colspan=\"2\"> complex64 numpy.ndarray </td>\n",
       "                    </tr>\n",
       "                </tbody>\n",
       "            </table>\n",
       "        </td>\n",
       "        <td>\n",
       "        <svg width=\"339\" height=\"153\" style=\"stroke:rgb(0,0,0);stroke-width:1\" >\n",
       "\n",
       "  <!-- Horizontal lines -->\n",
       "  <line x1=\"0\" y1=\"0\" x2=\"23\" y2=\"0\" style=\"stroke-width:2\" />\n",
       "  <line x1=\"0\" y1=\"4\" x2=\"23\" y2=\"4\" />\n",
       "  <line x1=\"0\" y1=\"9\" x2=\"23\" y2=\"9\" />\n",
       "  <line x1=\"0\" y1=\"14\" x2=\"23\" y2=\"14\" />\n",
       "  <line x1=\"0\" y1=\"19\" x2=\"23\" y2=\"19\" style=\"stroke-width:2\" />\n",
       "\n",
       "  <!-- Vertical lines -->\n",
       "  <line x1=\"0\" y1=\"0\" x2=\"0\" y2=\"19\" style=\"stroke-width:2\" />\n",
       "  <line x1=\"13\" y1=\"0\" x2=\"13\" y2=\"19\" />\n",
       "  <line x1=\"23\" y1=\"0\" x2=\"23\" y2=\"19\" style=\"stroke-width:2\" />\n",
       "\n",
       "  <!-- Colored Rectangle -->\n",
       "  <polygon points=\"0.0,0.0 23.128891694022673,0.0 23.128891694022673,19.059462385936865 0.0,19.059462385936865\" style=\"fill:#ECB172A0;stroke-width:0\"/>\n",
       "\n",
       "  <!-- Text -->\n",
       "  <text x=\"11.564446\" y=\"39.059462\" font-size=\"1.0rem\" font-weight=\"100\" text-anchor=\"middle\" >14</text>\n",
       "  <text x=\"43.128892\" y=\"9.529731\" font-size=\"1.0rem\" font-weight=\"100\" text-anchor=\"middle\" transform=\"rotate(0,43.128892,9.529731)\">4</text>\n",
       "\n",
       "\n",
       "  <!-- Horizontal lines -->\n",
       "  <line x1=\"93\" y1=\"0\" x2=\"106\" y2=\"13\" style=\"stroke-width:2\" />\n",
       "  <line x1=\"93\" y1=\"90\" x2=\"106\" y2=\"103\" style=\"stroke-width:2\" />\n",
       "\n",
       "  <!-- Vertical lines -->\n",
       "  <line x1=\"93\" y1=\"0\" x2=\"93\" y2=\"90\" style=\"stroke-width:2\" />\n",
       "  <line x1=\"99\" y1=\"6\" x2=\"99\" y2=\"96\" />\n",
       "  <line x1=\"106\" y1=\"13\" x2=\"106\" y2=\"103\" style=\"stroke-width:2\" />\n",
       "\n",
       "  <!-- Colored Rectangle -->\n",
       "  <polygon points=\"93.0,0.0 106.60523040824863,13.605230408248632 106.60523040824863,103.60523040824863 93.0,90.0\" style=\"fill:#ECB172A0;stroke-width:0\"/>\n",
       "\n",
       "  <!-- Horizontal lines -->\n",
       "  <line x1=\"93\" y1=\"0\" x2=\"183\" y2=\"0\" style=\"stroke-width:2\" />\n",
       "  <line x1=\"99\" y1=\"6\" x2=\"189\" y2=\"6\" />\n",
       "  <line x1=\"106\" y1=\"13\" x2=\"196\" y2=\"13\" style=\"stroke-width:2\" />\n",
       "\n",
       "  <!-- Vertical lines -->\n",
       "  <line x1=\"93\" y1=\"0\" x2=\"106\" y2=\"13\" style=\"stroke-width:2\" />\n",
       "  <line x1=\"183\" y1=\"0\" x2=\"196\" y2=\"13\" style=\"stroke-width:2\" />\n",
       "\n",
       "  <!-- Colored Rectangle -->\n",
       "  <polygon points=\"93.0,0.0 183.0,0.0 196.60523040824864,13.605230408248632 106.60523040824863,13.605230408248632\" style=\"fill:#ECB172A0;stroke-width:0\"/>\n",
       "\n",
       "  <!-- Horizontal lines -->\n",
       "  <line x1=\"106\" y1=\"13\" x2=\"196\" y2=\"13\" style=\"stroke-width:2\" />\n",
       "  <line x1=\"106\" y1=\"103\" x2=\"196\" y2=\"103\" style=\"stroke-width:2\" />\n",
       "\n",
       "  <!-- Vertical lines -->\n",
       "  <line x1=\"106\" y1=\"13\" x2=\"106\" y2=\"103\" style=\"stroke-width:2\" />\n",
       "  <line x1=\"196\" y1=\"13\" x2=\"196\" y2=\"103\" style=\"stroke-width:2\" />\n",
       "\n",
       "  <!-- Colored Rectangle -->\n",
       "  <polygon points=\"106.60523040824863,13.605230408248632 196.60523040824864,13.605230408248632 196.60523040824864,103.60523040824863 106.60523040824863,103.60523040824863\" style=\"fill:#ECB172A0;stroke-width:0\"/>\n",
       "\n",
       "  <!-- Text -->\n",
       "  <text x=\"151.605230\" y=\"123.605230\" font-size=\"1.0rem\" font-weight=\"100\" text-anchor=\"middle\" >512</text>\n",
       "  <text x=\"216.605230\" y=\"58.605230\" font-size=\"1.0rem\" font-weight=\"100\" text-anchor=\"middle\" transform=\"rotate(-90,216.605230,58.605230)\">512</text>\n",
       "  <text x=\"89.802615\" y=\"116.802615\" font-size=\"1.0rem\" font-weight=\"100\" text-anchor=\"middle\" transform=\"rotate(45,89.802615,116.802615)\">14</text>\n",
       "</svg>\n",
       "        </td>\n",
       "    </tr>\n",
       "</table>"
      ],
      "text/plain": [
       "dask.array<_extract_measurement, shape=(4, 14, 14, 512, 512), dtype=complex64, chunksize=(1, 8, 7, 512, 512), chunktype=numpy.ndarray>"
      ]
     },
     "execution_count": 9,
     "metadata": {},
     "output_type": "execute_result"
    }
   ],
   "source": [
    "exit_waves_stem.array"
   ]
  },
  {
   "cell_type": "markdown",
   "id": "00985534-3b37-458c-9cba-e5f6c783f334",
   "metadata": {},
   "source": [
    "Notice that we do not make a chunk for every probe position, but each chunk of the scan dimension instead represents a batch of wave functions. This is done partly to limit [the overhead](https://docs.dask.org/en/stable/best-practices.html#avoid-very-large-graphs) that every chunk comes with, but more importantly, larger batches enables efficient thread parallelization within each run of the multislice algorithm.\n",
    "\n",
    "We can change how many wave functions each batch should have using a keyword. Below we set `max_batch=4`, resulting in a total number of $4 \\times 8 \\times 8 = 256$ chunks."
   ]
  },
  {
   "cell_type": "code",
   "execution_count": 10,
   "id": "b1f9437b-ed6a-4836-8e6c-daa0ae526b21",
   "metadata": {},
   "outputs": [
    {
     "data": {
      "text/html": [
       "<table>\n",
       "    <tr>\n",
       "        <td>\n",
       "            <table style=\"border-collapse: collapse;\">\n",
       "                <thead>\n",
       "                    <tr>\n",
       "                        <td> </td>\n",
       "                        <th> Array </th>\n",
       "                        <th> Chunk </th>\n",
       "                    </tr>\n",
       "                </thead>\n",
       "                <tbody>\n",
       "                    \n",
       "                    <tr>\n",
       "                        <th> Bytes </th>\n",
       "                        <td> 1.53 GiB </td>\n",
       "                        <td> 8.00 MiB </td>\n",
       "                    </tr>\n",
       "                    \n",
       "                    <tr>\n",
       "                        <th> Shape </th>\n",
       "                        <td> (4, 14, 14, 512, 512) </td>\n",
       "                        <td> (1, 2, 2, 512, 512) </td>\n",
       "                    </tr>\n",
       "                    <tr>\n",
       "                        <th> Dask graph </th>\n",
       "                        <td colspan=\"2\"> 196 chunks in 16 graph layers </td>\n",
       "                    </tr>\n",
       "                    <tr>\n",
       "                        <th> Data type </th>\n",
       "                        <td colspan=\"2\"> complex64 numpy.ndarray </td>\n",
       "                    </tr>\n",
       "                </tbody>\n",
       "            </table>\n",
       "        </td>\n",
       "        <td>\n",
       "        <svg width=\"339\" height=\"153\" style=\"stroke:rgb(0,0,0);stroke-width:1\" >\n",
       "\n",
       "  <!-- Horizontal lines -->\n",
       "  <line x1=\"0\" y1=\"0\" x2=\"23\" y2=\"0\" style=\"stroke-width:2\" />\n",
       "  <line x1=\"0\" y1=\"4\" x2=\"23\" y2=\"4\" />\n",
       "  <line x1=\"0\" y1=\"9\" x2=\"23\" y2=\"9\" />\n",
       "  <line x1=\"0\" y1=\"14\" x2=\"23\" y2=\"14\" />\n",
       "  <line x1=\"0\" y1=\"19\" x2=\"23\" y2=\"19\" style=\"stroke-width:2\" />\n",
       "\n",
       "  <!-- Vertical lines -->\n",
       "  <line x1=\"0\" y1=\"0\" x2=\"0\" y2=\"19\" style=\"stroke-width:2\" />\n",
       "  <line x1=\"3\" y1=\"0\" x2=\"3\" y2=\"19\" />\n",
       "  <line x1=\"6\" y1=\"0\" x2=\"6\" y2=\"19\" />\n",
       "  <line x1=\"9\" y1=\"0\" x2=\"9\" y2=\"19\" />\n",
       "  <line x1=\"13\" y1=\"0\" x2=\"13\" y2=\"19\" />\n",
       "  <line x1=\"16\" y1=\"0\" x2=\"16\" y2=\"19\" />\n",
       "  <line x1=\"19\" y1=\"0\" x2=\"19\" y2=\"19\" />\n",
       "  <line x1=\"23\" y1=\"0\" x2=\"23\" y2=\"19\" style=\"stroke-width:2\" />\n",
       "\n",
       "  <!-- Colored Rectangle -->\n",
       "  <polygon points=\"0.0,0.0 23.128891694022673,0.0 23.128891694022673,19.059462385936865 0.0,19.059462385936865\" style=\"fill:#ECB172A0;stroke-width:0\"/>\n",
       "\n",
       "  <!-- Text -->\n",
       "  <text x=\"11.564446\" y=\"39.059462\" font-size=\"1.0rem\" font-weight=\"100\" text-anchor=\"middle\" >14</text>\n",
       "  <text x=\"43.128892\" y=\"9.529731\" font-size=\"1.0rem\" font-weight=\"100\" text-anchor=\"middle\" transform=\"rotate(0,43.128892,9.529731)\">4</text>\n",
       "\n",
       "\n",
       "  <!-- Horizontal lines -->\n",
       "  <line x1=\"93\" y1=\"0\" x2=\"106\" y2=\"13\" style=\"stroke-width:2\" />\n",
       "  <line x1=\"93\" y1=\"90\" x2=\"106\" y2=\"103\" style=\"stroke-width:2\" />\n",
       "\n",
       "  <!-- Vertical lines -->\n",
       "  <line x1=\"93\" y1=\"0\" x2=\"93\" y2=\"90\" style=\"stroke-width:2\" />\n",
       "  <line x1=\"94\" y1=\"1\" x2=\"94\" y2=\"91\" />\n",
       "  <line x1=\"96\" y1=\"3\" x2=\"96\" y2=\"93\" />\n",
       "  <line x1=\"98\" y1=\"5\" x2=\"98\" y2=\"95\" />\n",
       "  <line x1=\"100\" y1=\"7\" x2=\"100\" y2=\"97\" />\n",
       "  <line x1=\"102\" y1=\"9\" x2=\"102\" y2=\"99\" />\n",
       "  <line x1=\"104\" y1=\"11\" x2=\"104\" y2=\"101\" />\n",
       "  <line x1=\"106\" y1=\"13\" x2=\"106\" y2=\"103\" style=\"stroke-width:2\" />\n",
       "\n",
       "  <!-- Colored Rectangle -->\n",
       "  <polygon points=\"93.0,0.0 106.60523040824863,13.605230408248632 106.60523040824863,103.60523040824863 93.0,90.0\" style=\"fill:#ECB172A0;stroke-width:0\"/>\n",
       "\n",
       "  <!-- Horizontal lines -->\n",
       "  <line x1=\"93\" y1=\"0\" x2=\"183\" y2=\"0\" style=\"stroke-width:2\" />\n",
       "  <line x1=\"94\" y1=\"1\" x2=\"184\" y2=\"1\" />\n",
       "  <line x1=\"96\" y1=\"3\" x2=\"186\" y2=\"3\" />\n",
       "  <line x1=\"98\" y1=\"5\" x2=\"188\" y2=\"5\" />\n",
       "  <line x1=\"100\" y1=\"7\" x2=\"190\" y2=\"7\" />\n",
       "  <line x1=\"102\" y1=\"9\" x2=\"192\" y2=\"9\" />\n",
       "  <line x1=\"104\" y1=\"11\" x2=\"194\" y2=\"11\" />\n",
       "  <line x1=\"106\" y1=\"13\" x2=\"196\" y2=\"13\" style=\"stroke-width:2\" />\n",
       "\n",
       "  <!-- Vertical lines -->\n",
       "  <line x1=\"93\" y1=\"0\" x2=\"106\" y2=\"13\" style=\"stroke-width:2\" />\n",
       "  <line x1=\"183\" y1=\"0\" x2=\"196\" y2=\"13\" style=\"stroke-width:2\" />\n",
       "\n",
       "  <!-- Colored Rectangle -->\n",
       "  <polygon points=\"93.0,0.0 183.0,0.0 196.60523040824864,13.605230408248632 106.60523040824863,13.605230408248632\" style=\"fill:#ECB172A0;stroke-width:0\"/>\n",
       "\n",
       "  <!-- Horizontal lines -->\n",
       "  <line x1=\"106\" y1=\"13\" x2=\"196\" y2=\"13\" style=\"stroke-width:2\" />\n",
       "  <line x1=\"106\" y1=\"103\" x2=\"196\" y2=\"103\" style=\"stroke-width:2\" />\n",
       "\n",
       "  <!-- Vertical lines -->\n",
       "  <line x1=\"106\" y1=\"13\" x2=\"106\" y2=\"103\" style=\"stroke-width:2\" />\n",
       "  <line x1=\"196\" y1=\"13\" x2=\"196\" y2=\"103\" style=\"stroke-width:2\" />\n",
       "\n",
       "  <!-- Colored Rectangle -->\n",
       "  <polygon points=\"106.60523040824863,13.605230408248632 196.60523040824864,13.605230408248632 196.60523040824864,103.60523040824863 106.60523040824863,103.60523040824863\" style=\"fill:#ECB172A0;stroke-width:0\"/>\n",
       "\n",
       "  <!-- Text -->\n",
       "  <text x=\"151.605230\" y=\"123.605230\" font-size=\"1.0rem\" font-weight=\"100\" text-anchor=\"middle\" >512</text>\n",
       "  <text x=\"216.605230\" y=\"58.605230\" font-size=\"1.0rem\" font-weight=\"100\" text-anchor=\"middle\" transform=\"rotate(-90,216.605230,58.605230)\">512</text>\n",
       "  <text x=\"89.802615\" y=\"116.802615\" font-size=\"1.0rem\" font-weight=\"100\" text-anchor=\"middle\" transform=\"rotate(45,89.802615,116.802615)\">14</text>\n",
       "</svg>\n",
       "        </td>\n",
       "    </tr>\n",
       "</table>"
      ],
      "text/plain": [
       "dask.array<_extract_measurement, shape=(4, 14, 14, 512, 512), dtype=complex64, chunksize=(1, 2, 2, 512, 512), chunktype=numpy.ndarray>"
      ]
     },
     "execution_count": 10,
     "metadata": {},
     "output_type": "execute_result"
    }
   ],
   "source": [
    "exit_waves_stem = probe.multislice(potential, scan=scan, max_batch=4)\n",
    "\n",
    "exit_waves_stem.array"
   ]
  },
  {
   "cell_type": "markdown",
   "id": "28998800-0b81-49f7-b3c6-79aa355cf3dc",
   "metadata": {
    "pycharm": {
     "name": "#%% md\n"
    }
   },
   "source": [
    "The default value of `max_batch` is `\"auto\"`: with this setting the number of wave functions in each batch is determined such that the batch represents approximately `128 MB` of memory, although this number may be changed through the *ab*TEM [configuration](../../reference/config.md).\n",
    "\n",
    "Before computing this task graph, we apply a HAADF detector and calculate the ensemble mean, which reduces the total size of the output to just 900 B. We note that the 1.76 GB ensemble of wave functions never needs to be in memory simulateneously, as each chunk of exit wave functions are reduced immediately after completing the multislice algorithm."
   ]
  },
  {
   "cell_type": "code",
   "execution_count": 11,
   "id": "8664e8b2-4928-4c5e-bd48-fa854a465cec",
   "metadata": {
    "pycharm": {
     "name": "#%%\n"
    }
   },
   "outputs": [
    {
     "data": {
      "text/html": [
       "<table>\n",
       "    <tr>\n",
       "        <td>\n",
       "            <table style=\"border-collapse: collapse;\">\n",
       "                <thead>\n",
       "                    <tr>\n",
       "                        <td> </td>\n",
       "                        <th> Array </th>\n",
       "                        <th> Chunk </th>\n",
       "                    </tr>\n",
       "                </thead>\n",
       "                <tbody>\n",
       "                    \n",
       "                    <tr>\n",
       "                        <th> Bytes </th>\n",
       "                        <td> 784 B </td>\n",
       "                        <td> 16 B </td>\n",
       "                    </tr>\n",
       "                    \n",
       "                    <tr>\n",
       "                        <th> Shape </th>\n",
       "                        <td> (14, 14) </td>\n",
       "                        <td> (2, 2) </td>\n",
       "                    </tr>\n",
       "                    <tr>\n",
       "                        <th> Dask graph </th>\n",
       "                        <td colspan=\"2\"> 49 chunks in 21 graph layers </td>\n",
       "                    </tr>\n",
       "                    <tr>\n",
       "                        <th> Data type </th>\n",
       "                        <td colspan=\"2\"> float32 numpy.ndarray </td>\n",
       "                    </tr>\n",
       "                </tbody>\n",
       "            </table>\n",
       "        </td>\n",
       "        <td>\n",
       "        <svg width=\"140\" height=\"140\" style=\"stroke:rgb(0,0,0);stroke-width:1\" >\n",
       "\n",
       "  <!-- Horizontal lines -->\n",
       "  <line x1=\"0\" y1=\"0\" x2=\"90\" y2=\"0\" style=\"stroke-width:2\" />\n",
       "  <line x1=\"0\" y1=\"12\" x2=\"90\" y2=\"12\" />\n",
       "  <line x1=\"0\" y1=\"25\" x2=\"90\" y2=\"25\" />\n",
       "  <line x1=\"0\" y1=\"38\" x2=\"90\" y2=\"38\" />\n",
       "  <line x1=\"0\" y1=\"51\" x2=\"90\" y2=\"51\" />\n",
       "  <line x1=\"0\" y1=\"64\" x2=\"90\" y2=\"64\" />\n",
       "  <line x1=\"0\" y1=\"77\" x2=\"90\" y2=\"77\" />\n",
       "  <line x1=\"0\" y1=\"90\" x2=\"90\" y2=\"90\" style=\"stroke-width:2\" />\n",
       "\n",
       "  <!-- Vertical lines -->\n",
       "  <line x1=\"0\" y1=\"0\" x2=\"0\" y2=\"90\" style=\"stroke-width:2\" />\n",
       "  <line x1=\"12\" y1=\"0\" x2=\"12\" y2=\"90\" />\n",
       "  <line x1=\"25\" y1=\"0\" x2=\"25\" y2=\"90\" />\n",
       "  <line x1=\"38\" y1=\"0\" x2=\"38\" y2=\"90\" />\n",
       "  <line x1=\"51\" y1=\"0\" x2=\"51\" y2=\"90\" />\n",
       "  <line x1=\"64\" y1=\"0\" x2=\"64\" y2=\"90\" />\n",
       "  <line x1=\"77\" y1=\"0\" x2=\"77\" y2=\"90\" />\n",
       "  <line x1=\"90\" y1=\"0\" x2=\"90\" y2=\"90\" style=\"stroke-width:2\" />\n",
       "\n",
       "  <!-- Colored Rectangle -->\n",
       "  <polygon points=\"0.0,0.0 90.0,0.0 90.0,90.0 0.0,90.0\" style=\"fill:#ECB172A0;stroke-width:0\"/>\n",
       "\n",
       "  <!-- Text -->\n",
       "  <text x=\"45.000000\" y=\"110.000000\" font-size=\"1.0rem\" font-weight=\"100\" text-anchor=\"middle\" >14</text>\n",
       "  <text x=\"110.000000\" y=\"45.000000\" font-size=\"1.0rem\" font-weight=\"100\" text-anchor=\"middle\" transform=\"rotate(0,110.000000,45.000000)\">14</text>\n",
       "</svg>\n",
       "        </td>\n",
       "    </tr>\n",
       "</table>"
      ],
      "text/plain": [
       "dask.array<mean_agg-aggregate, shape=(14, 14), dtype=float32, chunksize=(2, 2), chunktype=numpy.ndarray>"
      ]
     },
     "execution_count": 11,
     "metadata": {},
     "output_type": "execute_result"
    }
   ],
   "source": [
    "detector = abtem.AnnularDetector(inner=65, outer=200)\n",
    "\n",
    "haadf_images = detector.detect(exit_waves_stem).reduce_ensemble()\n",
    "\n",
    "haadf_images.array"
   ]
  },
  {
   "cell_type": "markdown",
   "id": "c8167e51-1e8b-408d-9e08-ad00b6966ad5",
   "metadata": {
    "pycharm": {
     "name": "#%% md\n"
    },
    "tags": []
   },
   "source": [
    "## Schedulers\n",
    "\n",
    "After generating a task graph, it needs to be executed on (parallel) hardware. This is the job of a [task scheduler](https://docs.dask.org/en/stable/scheduler-overview.html). Dask provides several *task schedulers*: each of which will compute a task graph and give the same result, but with different performance characteristics.\n",
    "\n",
    "Every time you call the `compute` method a Dask scheduler is used. We adopt the default Dask scheduler configuration and every keyword argument used with the `compute` method in *ab*TEM is forwarded to the Dask `compute` function. \n",
    "\n",
    "### Local scheduler\n",
    "\n",
    "The default scheduler is the [`ThreadPoolExecutor`](https://docs.dask.org/en/stable/scheduling.html#local-threads). As an example of a keyword argument, the threaded scheduler takes `num_workers`, which sets the number of threads to use (by default, up to the number of computing cores). Let's run compute with 8 workers."
   ]
  },
  {
   "cell_type": "code",
   "execution_count": 12,
   "id": "4c507a96-5a6d-4e55-8775-200f66e26459",
   "metadata": {
    "tags": [
     "skip-test"
    ]
   },
   "outputs": [
    {
     "name": "stdout",
     "output_type": "stream",
     "text": [
      "[########################################] | 100% Completed | 16.47 s\n"
     ]
    },
    {
     "data": {
      "text/plain": [
       "<abtem.measurements.Images object at 0x000001DA70B37A90>"
      ]
     },
     "execution_count": 12,
     "metadata": {},
     "output_type": "execute_result"
    }
   ],
   "source": [
    "haadf_images = detector.detect(exit_waves_stem).reduce_ensemble()\n",
    "\n",
    "haadf_images.compute(\n",
    "    scheduler=\"threads\", num_workers=8\n",
    ")"
   ]
  },
  {
   "cell_type": "markdown",
   "id": "168c4090-255a-4705-85a8-afbf74c6320e",
   "metadata": {},
   "source": [
    "We can change the scheduler to using the `ProcessPoolExecutor` as below.\n",
    "\n",
    "```python\n",
    "haadf_images = detector.detect(exit_waves_stem).compute(scheduler=\"processes\", num_workers=4)\n",
    "```\n",
    "\n",
    "Using `abtem.config.set` the scheduler can be set either as a context manager or globally.\n",
    "```python\n",
    "# As a context manager\n",
    "with abtem.config.set(scheduler=\"processes\"):\n",
    "    haadf_images.compute()\n",
    "\n",
    "# Set globally\n",
    "abtem.config.set(scheduler=\"processes\")\n",
    "haadf_images.compute()\n",
    "```"
   ]
  },
  {
   "cell_type": "markdown",
   "id": "675a4c6c-338c-4c3a-90e2-8ad79ed63dd4",
   "metadata": {},
   "source": [
    "### Profiling"
   ]
  },
  {
   "cell_type": "markdown",
   "id": "945988ec-0d2b-422a-a84c-32f10d5a63af",
   "metadata": {},
   "source": [
    "To improve performance, we have to be able to profile it. Profiling parallel code can be challenging, but Dask provides functionality to aid in this and inspecting execution. The diagnostic tools are however quite different depending on whether you use a local or distributed scheduler.\n",
    "\n",
    "Dask allows local diagnostics by adding callbacks that collect information about your code execution. You can use the profilers as a context manager as described in the [Dask documentation](https://docs.dask.org/en/stable/diagnostics-local.html). For convenience, the *ab*TEM `compute` methods also implement keywords for adding Dask profilers.\n",
    "\n",
    "Below we use the [`Profiler`](https://docs.dask.org/en/stable/diagnostics-local.html#profiler) to monitor task execution by setting `profiler=True` and a [`ResourceProfiler`](https://docs.dask.org/en/stable/diagnostics-local.html#resourceprofiler) to monitor the CPU usage and memory consumption by setting `resource_profiler=True`. We rerun the simulation above with these profilers. "
   ]
  },
  {
   "cell_type": "code",
   "execution_count": 13,
   "id": "56cb3754-6cde-4f83-b058-6014356cefaf",
   "metadata": {},
   "outputs": [
    {
     "name": "stdout",
     "output_type": "stream",
     "text": [
      "[########################################] | 100% Completed | 15.65 s\n"
     ]
    }
   ],
   "source": [
    "haadf_images = detector.detect(exit_waves_stem).reduce_ensemble()\n",
    "\n",
    "haadf_images, profilers = haadf_images.compute(profiler=True, resource_profiler=True)"
   ]
  },
  {
   "cell_type": "markdown",
   "id": "a3b63fd8-4e8b-4842-9c15-2fa8787da397",
   "metadata": {},
   "source": [
    "To display the results Dask uses the [Bokeh plotting library](https://bokeh.org/) (which is installed together with Dask). To display the plots in a Jupyter notebook we need to run the commands below."
   ]
  },
  {
   "cell_type": "code",
   "execution_count": 14,
   "id": "bb2fc8ba-5288-4499-9090-35e8723c7930",
   "metadata": {
    "tags": [
     "skip-test"
    ]
   },
   "outputs": [
    {
     "data": {
      "text/html": [
       "<div class=\"bk-root\">\n",
       "        <a href=\"https://bokeh.org\" target=\"_blank\" class=\"bk-logo bk-logo-small bk-logo-notebook\"></a>\n",
       "        <span id=\"1001\">Loading BokehJS ...</span>\n",
       "    </div>\n"
      ]
     },
     "metadata": {},
     "output_type": "display_data"
    },
    {
     "data": {
      "application/javascript": [
       "(function(root) {\n",
       "  function now() {\n",
       "    return new Date();\n",
       "  }\n",
       "\n",
       "  const force = true;\n",
       "\n",
       "  if (typeof root._bokeh_onload_callbacks === \"undefined\" || force === true) {\n",
       "    root._bokeh_onload_callbacks = [];\n",
       "    root._bokeh_is_loading = undefined;\n",
       "  }\n",
       "\n",
       "const JS_MIME_TYPE = 'application/javascript';\n",
       "  const HTML_MIME_TYPE = 'text/html';\n",
       "  const EXEC_MIME_TYPE = 'application/vnd.bokehjs_exec.v0+json';\n",
       "  const CLASS_NAME = 'output_bokeh rendered_html';\n",
       "\n",
       "  /**\n",
       "   * Render data to the DOM node\n",
       "   */\n",
       "  function render(props, node) {\n",
       "    const script = document.createElement(\"script\");\n",
       "    node.appendChild(script);\n",
       "  }\n",
       "\n",
       "  /**\n",
       "   * Handle when an output is cleared or removed\n",
       "   */\n",
       "  function handleClearOutput(event, handle) {\n",
       "    const cell = handle.cell;\n",
       "\n",
       "    const id = cell.output_area._bokeh_element_id;\n",
       "    const server_id = cell.output_area._bokeh_server_id;\n",
       "    // Clean up Bokeh references\n",
       "    if (id != null && id in Bokeh.index) {\n",
       "      Bokeh.index[id].model.document.clear();\n",
       "      delete Bokeh.index[id];\n",
       "    }\n",
       "\n",
       "    if (server_id !== undefined) {\n",
       "      // Clean up Bokeh references\n",
       "      const cmd_clean = \"from bokeh.io.state import curstate; print(curstate().uuid_to_server['\" + server_id + \"'].get_sessions()[0].document.roots[0]._id)\";\n",
       "      cell.notebook.kernel.execute(cmd_clean, {\n",
       "        iopub: {\n",
       "          output: function(msg) {\n",
       "            const id = msg.content.text.trim();\n",
       "            if (id in Bokeh.index) {\n",
       "              Bokeh.index[id].model.document.clear();\n",
       "              delete Bokeh.index[id];\n",
       "            }\n",
       "          }\n",
       "        }\n",
       "      });\n",
       "      // Destroy server and session\n",
       "      const cmd_destroy = \"import bokeh.io.notebook as ion; ion.destroy_server('\" + server_id + \"')\";\n",
       "      cell.notebook.kernel.execute(cmd_destroy);\n",
       "    }\n",
       "  }\n",
       "\n",
       "  /**\n",
       "   * Handle when a new output is added\n",
       "   */\n",
       "  function handleAddOutput(event, handle) {\n",
       "    const output_area = handle.output_area;\n",
       "    const output = handle.output;\n",
       "\n",
       "    // limit handleAddOutput to display_data with EXEC_MIME_TYPE content only\n",
       "    if ((output.output_type != \"display_data\") || (!Object.prototype.hasOwnProperty.call(output.data, EXEC_MIME_TYPE))) {\n",
       "      return\n",
       "    }\n",
       "\n",
       "    const toinsert = output_area.element.find(\".\" + CLASS_NAME.split(' ')[0]);\n",
       "\n",
       "    if (output.metadata[EXEC_MIME_TYPE][\"id\"] !== undefined) {\n",
       "      toinsert[toinsert.length - 1].firstChild.textContent = output.data[JS_MIME_TYPE];\n",
       "      // store reference to embed id on output_area\n",
       "      output_area._bokeh_element_id = output.metadata[EXEC_MIME_TYPE][\"id\"];\n",
       "    }\n",
       "    if (output.metadata[EXEC_MIME_TYPE][\"server_id\"] !== undefined) {\n",
       "      const bk_div = document.createElement(\"div\");\n",
       "      bk_div.innerHTML = output.data[HTML_MIME_TYPE];\n",
       "      const script_attrs = bk_div.children[0].attributes;\n",
       "      for (let i = 0; i < script_attrs.length; i++) {\n",
       "        toinsert[toinsert.length - 1].firstChild.setAttribute(script_attrs[i].name, script_attrs[i].value);\n",
       "        toinsert[toinsert.length - 1].firstChild.textContent = bk_div.children[0].textContent\n",
       "      }\n",
       "      // store reference to server id on output_area\n",
       "      output_area._bokeh_server_id = output.metadata[EXEC_MIME_TYPE][\"server_id\"];\n",
       "    }\n",
       "  }\n",
       "\n",
       "  function register_renderer(events, OutputArea) {\n",
       "\n",
       "    function append_mime(data, metadata, element) {\n",
       "      // create a DOM node to render to\n",
       "      const toinsert = this.create_output_subarea(\n",
       "        metadata,\n",
       "        CLASS_NAME,\n",
       "        EXEC_MIME_TYPE\n",
       "      );\n",
       "      this.keyboard_manager.register_events(toinsert);\n",
       "      // Render to node\n",
       "      const props = {data: data, metadata: metadata[EXEC_MIME_TYPE]};\n",
       "      render(props, toinsert[toinsert.length - 1]);\n",
       "      element.append(toinsert);\n",
       "      return toinsert\n",
       "    }\n",
       "\n",
       "    /* Handle when an output is cleared or removed */\n",
       "    events.on('clear_output.CodeCell', handleClearOutput);\n",
       "    events.on('delete.Cell', handleClearOutput);\n",
       "\n",
       "    /* Handle when a new output is added */\n",
       "    events.on('output_added.OutputArea', handleAddOutput);\n",
       "\n",
       "    /**\n",
       "     * Register the mime type and append_mime function with output_area\n",
       "     */\n",
       "    OutputArea.prototype.register_mime_type(EXEC_MIME_TYPE, append_mime, {\n",
       "      /* Is output safe? */\n",
       "      safe: true,\n",
       "      /* Index of renderer in `output_area.display_order` */\n",
       "      index: 0\n",
       "    });\n",
       "  }\n",
       "\n",
       "  // register the mime type if in Jupyter Notebook environment and previously unregistered\n",
       "  if (root.Jupyter !== undefined) {\n",
       "    const events = require('base/js/events');\n",
       "    const OutputArea = require('notebook/js/outputarea').OutputArea;\n",
       "\n",
       "    if (OutputArea.prototype.mime_types().indexOf(EXEC_MIME_TYPE) == -1) {\n",
       "      register_renderer(events, OutputArea);\n",
       "    }\n",
       "  }\n",
       "  if (typeof (root._bokeh_timeout) === \"undefined\" || force === true) {\n",
       "    root._bokeh_timeout = Date.now() + 5000;\n",
       "    root._bokeh_failed_load = false;\n",
       "  }\n",
       "\n",
       "  const NB_LOAD_WARNING = {'data': {'text/html':\n",
       "     \"<div style='background-color: #fdd'>\\n\"+\n",
       "     \"<p>\\n\"+\n",
       "     \"BokehJS does not appear to have successfully loaded. If loading BokehJS from CDN, this \\n\"+\n",
       "     \"may be due to a slow or bad network connection. Possible fixes:\\n\"+\n",
       "     \"</p>\\n\"+\n",
       "     \"<ul>\\n\"+\n",
       "     \"<li>re-rerun `output_notebook()` to attempt to load from CDN again, or</li>\\n\"+\n",
       "     \"<li>use INLINE resources instead, as so:</li>\\n\"+\n",
       "     \"</ul>\\n\"+\n",
       "     \"<code>\\n\"+\n",
       "     \"from bokeh.resources import INLINE\\n\"+\n",
       "     \"output_notebook(resources=INLINE)\\n\"+\n",
       "     \"</code>\\n\"+\n",
       "     \"</div>\"}};\n",
       "\n",
       "  function display_loaded() {\n",
       "    const el = document.getElementById(\"1001\");\n",
       "    if (el != null) {\n",
       "      el.textContent = \"BokehJS is loading...\";\n",
       "    }\n",
       "    if (root.Bokeh !== undefined) {\n",
       "      if (el != null) {\n",
       "        el.textContent = \"BokehJS \" + root.Bokeh.version + \" successfully loaded.\";\n",
       "      }\n",
       "    } else if (Date.now() < root._bokeh_timeout) {\n",
       "      setTimeout(display_loaded, 100)\n",
       "    }\n",
       "  }\n",
       "\n",
       "  function run_callbacks() {\n",
       "    try {\n",
       "      root._bokeh_onload_callbacks.forEach(function(callback) {\n",
       "        if (callback != null)\n",
       "          callback();\n",
       "      });\n",
       "    } finally {\n",
       "      delete root._bokeh_onload_callbacks\n",
       "    }\n",
       "    console.debug(\"Bokeh: all callbacks have finished\");\n",
       "  }\n",
       "\n",
       "  function load_libs(css_urls, js_urls, callback) {\n",
       "    if (css_urls == null) css_urls = [];\n",
       "    if (js_urls == null) js_urls = [];\n",
       "\n",
       "    root._bokeh_onload_callbacks.push(callback);\n",
       "    if (root._bokeh_is_loading > 0) {\n",
       "      console.debug(\"Bokeh: BokehJS is being loaded, scheduling callback at\", now());\n",
       "      return null;\n",
       "    }\n",
       "    if (js_urls == null || js_urls.length === 0) {\n",
       "      run_callbacks();\n",
       "      return null;\n",
       "    }\n",
       "    console.debug(\"Bokeh: BokehJS not loaded, scheduling load and callback at\", now());\n",
       "    root._bokeh_is_loading = css_urls.length + js_urls.length;\n",
       "\n",
       "    function on_load() {\n",
       "      root._bokeh_is_loading--;\n",
       "      if (root._bokeh_is_loading === 0) {\n",
       "        console.debug(\"Bokeh: all BokehJS libraries/stylesheets loaded\");\n",
       "        run_callbacks()\n",
       "      }\n",
       "    }\n",
       "\n",
       "    function on_error(url) {\n",
       "      console.error(\"failed to load \" + url);\n",
       "    }\n",
       "\n",
       "    for (let i = 0; i < css_urls.length; i++) {\n",
       "      const url = css_urls[i];\n",
       "      const element = document.createElement(\"link\");\n",
       "      element.onload = on_load;\n",
       "      element.onerror = on_error.bind(null, url);\n",
       "      element.rel = \"stylesheet\";\n",
       "      element.type = \"text/css\";\n",
       "      element.href = url;\n",
       "      console.debug(\"Bokeh: injecting link tag for BokehJS stylesheet: \", url);\n",
       "      document.body.appendChild(element);\n",
       "    }\n",
       "\n",
       "    for (let i = 0; i < js_urls.length; i++) {\n",
       "      const url = js_urls[i];\n",
       "      const element = document.createElement('script');\n",
       "      element.onload = on_load;\n",
       "      element.onerror = on_error.bind(null, url);\n",
       "      element.async = false;\n",
       "      element.src = url;\n",
       "      console.debug(\"Bokeh: injecting script tag for BokehJS library: \", url);\n",
       "      document.head.appendChild(element);\n",
       "    }\n",
       "  };\n",
       "\n",
       "  function inject_raw_css(css) {\n",
       "    const element = document.createElement(\"style\");\n",
       "    element.appendChild(document.createTextNode(css));\n",
       "    document.body.appendChild(element);\n",
       "  }\n",
       "\n",
       "  const js_urls = [\"https://cdn.bokeh.org/bokeh/release/bokeh-2.4.3.min.js\", \"https://cdn.bokeh.org/bokeh/release/bokeh-gl-2.4.3.min.js\", \"https://cdn.bokeh.org/bokeh/release/bokeh-widgets-2.4.3.min.js\", \"https://cdn.bokeh.org/bokeh/release/bokeh-tables-2.4.3.min.js\", \"https://cdn.bokeh.org/bokeh/release/bokeh-mathjax-2.4.3.min.js\"];\n",
       "  const css_urls = [];\n",
       "\n",
       "  const inline_js = [    function(Bokeh) {\n",
       "      Bokeh.set_log_level(\"info\");\n",
       "    },\n",
       "function(Bokeh) {\n",
       "    }\n",
       "  ];\n",
       "\n",
       "  function run_inline_js() {\n",
       "    if (root.Bokeh !== undefined || force === true) {\n",
       "          for (let i = 0; i < inline_js.length; i++) {\n",
       "      inline_js[i].call(root, root.Bokeh);\n",
       "    }\n",
       "if (force === true) {\n",
       "        display_loaded();\n",
       "      }} else if (Date.now() < root._bokeh_timeout) {\n",
       "      setTimeout(run_inline_js, 100);\n",
       "    } else if (!root._bokeh_failed_load) {\n",
       "      console.log(\"Bokeh: BokehJS failed to load within specified timeout.\");\n",
       "      root._bokeh_failed_load = true;\n",
       "    } else if (force !== true) {\n",
       "      const cell = $(document.getElementById(\"1001\")).parents('.cell').data().cell;\n",
       "      cell.output_area.append_execute_result(NB_LOAD_WARNING)\n",
       "    }\n",
       "  }\n",
       "\n",
       "  if (root._bokeh_is_loading === 0) {\n",
       "    console.debug(\"Bokeh: BokehJS loaded, going straight to plotting\");\n",
       "    run_inline_js();\n",
       "  } else {\n",
       "    load_libs(css_urls, js_urls, function() {\n",
       "      console.debug(\"Bokeh: BokehJS plotting callback run at\", now());\n",
       "      run_inline_js();\n",
       "    });\n",
       "  }\n",
       "}(window));"
      ],
      "application/vnd.bokehjs_load.v0+json": "(function(root) {\n  function now() {\n    return new Date();\n  }\n\n  const force = true;\n\n  if (typeof root._bokeh_onload_callbacks === \"undefined\" || force === true) {\n    root._bokeh_onload_callbacks = [];\n    root._bokeh_is_loading = undefined;\n  }\n\n\n  if (typeof (root._bokeh_timeout) === \"undefined\" || force === true) {\n    root._bokeh_timeout = Date.now() + 5000;\n    root._bokeh_failed_load = false;\n  }\n\n  const NB_LOAD_WARNING = {'data': {'text/html':\n     \"<div style='background-color: #fdd'>\\n\"+\n     \"<p>\\n\"+\n     \"BokehJS does not appear to have successfully loaded. If loading BokehJS from CDN, this \\n\"+\n     \"may be due to a slow or bad network connection. Possible fixes:\\n\"+\n     \"</p>\\n\"+\n     \"<ul>\\n\"+\n     \"<li>re-rerun `output_notebook()` to attempt to load from CDN again, or</li>\\n\"+\n     \"<li>use INLINE resources instead, as so:</li>\\n\"+\n     \"</ul>\\n\"+\n     \"<code>\\n\"+\n     \"from bokeh.resources import INLINE\\n\"+\n     \"output_notebook(resources=INLINE)\\n\"+\n     \"</code>\\n\"+\n     \"</div>\"}};\n\n  function display_loaded() {\n    const el = document.getElementById(\"1001\");\n    if (el != null) {\n      el.textContent = \"BokehJS is loading...\";\n    }\n    if (root.Bokeh !== undefined) {\n      if (el != null) {\n        el.textContent = \"BokehJS \" + root.Bokeh.version + \" successfully loaded.\";\n      }\n    } else if (Date.now() < root._bokeh_timeout) {\n      setTimeout(display_loaded, 100)\n    }\n  }\n\n  function run_callbacks() {\n    try {\n      root._bokeh_onload_callbacks.forEach(function(callback) {\n        if (callback != null)\n          callback();\n      });\n    } finally {\n      delete root._bokeh_onload_callbacks\n    }\n    console.debug(\"Bokeh: all callbacks have finished\");\n  }\n\n  function load_libs(css_urls, js_urls, callback) {\n    if (css_urls == null) css_urls = [];\n    if (js_urls == null) js_urls = [];\n\n    root._bokeh_onload_callbacks.push(callback);\n    if (root._bokeh_is_loading > 0) {\n      console.debug(\"Bokeh: BokehJS is being loaded, scheduling callback at\", now());\n      return null;\n    }\n    if (js_urls == null || js_urls.length === 0) {\n      run_callbacks();\n      return null;\n    }\n    console.debug(\"Bokeh: BokehJS not loaded, scheduling load and callback at\", now());\n    root._bokeh_is_loading = css_urls.length + js_urls.length;\n\n    function on_load() {\n      root._bokeh_is_loading--;\n      if (root._bokeh_is_loading === 0) {\n        console.debug(\"Bokeh: all BokehJS libraries/stylesheets loaded\");\n        run_callbacks()\n      }\n    }\n\n    function on_error(url) {\n      console.error(\"failed to load \" + url);\n    }\n\n    for (let i = 0; i < css_urls.length; i++) {\n      const url = css_urls[i];\n      const element = document.createElement(\"link\");\n      element.onload = on_load;\n      element.onerror = on_error.bind(null, url);\n      element.rel = \"stylesheet\";\n      element.type = \"text/css\";\n      element.href = url;\n      console.debug(\"Bokeh: injecting link tag for BokehJS stylesheet: \", url);\n      document.body.appendChild(element);\n    }\n\n    for (let i = 0; i < js_urls.length; i++) {\n      const url = js_urls[i];\n      const element = document.createElement('script');\n      element.onload = on_load;\n      element.onerror = on_error.bind(null, url);\n      element.async = false;\n      element.src = url;\n      console.debug(\"Bokeh: injecting script tag for BokehJS library: \", url);\n      document.head.appendChild(element);\n    }\n  };\n\n  function inject_raw_css(css) {\n    const element = document.createElement(\"style\");\n    element.appendChild(document.createTextNode(css));\n    document.body.appendChild(element);\n  }\n\n  const js_urls = [\"https://cdn.bokeh.org/bokeh/release/bokeh-2.4.3.min.js\", \"https://cdn.bokeh.org/bokeh/release/bokeh-gl-2.4.3.min.js\", \"https://cdn.bokeh.org/bokeh/release/bokeh-widgets-2.4.3.min.js\", \"https://cdn.bokeh.org/bokeh/release/bokeh-tables-2.4.3.min.js\", \"https://cdn.bokeh.org/bokeh/release/bokeh-mathjax-2.4.3.min.js\"];\n  const css_urls = [];\n\n  const inline_js = [    function(Bokeh) {\n      Bokeh.set_log_level(\"info\");\n    },\nfunction(Bokeh) {\n    }\n  ];\n\n  function run_inline_js() {\n    if (root.Bokeh !== undefined || force === true) {\n          for (let i = 0; i < inline_js.length; i++) {\n      inline_js[i].call(root, root.Bokeh);\n    }\nif (force === true) {\n        display_loaded();\n      }} else if (Date.now() < root._bokeh_timeout) {\n      setTimeout(run_inline_js, 100);\n    } else if (!root._bokeh_failed_load) {\n      console.log(\"Bokeh: BokehJS failed to load within specified timeout.\");\n      root._bokeh_failed_load = true;\n    } else if (force !== true) {\n      const cell = $(document.getElementById(\"1001\")).parents('.cell').data().cell;\n      cell.output_area.append_execute_result(NB_LOAD_WARNING)\n    }\n  }\n\n  if (root._bokeh_is_loading === 0) {\n    console.debug(\"Bokeh: BokehJS loaded, going straight to plotting\");\n    run_inline_js();\n  } else {\n    load_libs(css_urls, js_urls, function() {\n      console.debug(\"Bokeh: BokehJS plotting callback run at\", now());\n      run_inline_js();\n    });\n  }\n}(window));"
     },
     "metadata": {},
     "output_type": "display_data"
    }
   ],
   "source": [
    "from bokeh.io import output_notebook\n",
    "output_notebook()"
   ]
  },
  {
   "cell_type": "markdown",
   "id": "89a100cb-9792-45bb-b855-42b53fb9db83",
   "metadata": {},
   "source": [
    "We first show the result from the `Profiler` object: This shows the execution time for each task as a rectangle, organized along the vertical axis by worker (in this case threads), and where white space represents times the worker was idle. The task types are grouped by color and, by hovering over each task, one can see the key and task that each block represents. For this calculation there is only one significant task shown in yellow; this encompasses building the wave function, running the multislice algorithm (calculating the potential on demand), and calculating and integrating the diffraction patterns. "
   ]
  },
  {
   "cell_type": "code",
   "execution_count": 15,
   "id": "0a420e98-6235-4e01-b079-fe34d913a436",
   "metadata": {
    "tags": [
     "skip-test"
    ]
   },
   "outputs": [
    {
     "data": {
      "text/html": [
       "\n",
       "  <div class=\"bk-root\" id=\"e7416644-da8e-4004-97e5-484f4dff439e\" data-root-id=\"1003\"></div>\n"
      ]
     },
     "metadata": {},
     "output_type": "display_data"
    },
    {
     "data": {
      "application/javascript": [
       "(function(root) {\n",
       "  function embed_document(root) {\n",
       "  const docs_json = {\"231f9c97-06a1-48a3-ae9d-6baf50fffb10\":{\"defs\":[],\"roots\":{\"references\":[{\"attributes\":{\"below\":[{\"id\":\"1014\"}],\"center\":[{\"id\":\"1017\"},{\"id\":\"1020\"}],\"height\":300,\"left\":[{\"id\":\"1018\"}],\"renderers\":[{\"id\":\"1037\"}],\"title\":{\"id\":\"1004\"},\"toolbar\":{\"id\":\"1026\"},\"toolbar_location\":\"above\",\"width\":800,\"x_range\":{\"id\":\"1006\"},\"x_scale\":{\"id\":\"1010\"},\"y_range\":{\"id\":\"1008\"},\"y_scale\":{\"id\":\"1012\"}},\"id\":\"1003\",\"subtype\":\"Figure\",\"type\":\"Plot\"},{\"attributes\":{},\"id\":\"1012\",\"type\":\"CategoricalScale\"},{\"attributes\":{\"end\":15.5788440000033},\"id\":\"1006\",\"type\":\"Range1d\"},{\"attributes\":{\"source\":{\"id\":\"1032\"}},\"id\":\"1038\",\"type\":\"CDSView\"},{\"attributes\":{},\"id\":\"1041\",\"type\":\"CategoricalTickFormatter\"},{\"attributes\":{\"fill_alpha\":{\"value\":0.2},\"fill_color\":{\"field\":\"color\"},\"hatch_alpha\":{\"value\":0.2},\"hatch_color\":{\"field\":\"color\"},\"height\":{\"value\":1},\"line_alpha\":{\"value\":0.2},\"line_color\":{\"value\":\"gray\"},\"width\":{\"field\":\"width\"},\"x\":{\"field\":\"x\"},\"y\":{\"field\":\"y\"}},\"id\":\"1036\",\"type\":\"Rect\"},{\"attributes\":{},\"id\":\"1042\",\"type\":\"AllLabels\"},{\"attributes\":{\"axis_label\":\"Time (s)\",\"axis_line_color\":null,\"coordinates\":null,\"formatter\":{\"id\":\"1044\"},\"group\":null,\"major_label_policy\":{\"id\":\"1045\"},\"major_tick_line_color\":null,\"ticker\":{\"id\":\"1015\"}},\"id\":\"1014\",\"type\":\"LinearAxis\"},{\"attributes\":{},\"id\":\"1044\",\"type\":\"BasicTickFormatter\"},{\"attributes\":{},\"id\":\"1010\",\"type\":\"LinearScale\"},{\"attributes\":{\"factors\":[\"0\",\"1\",\"2\",\"3\",\"4\",\"5\",\"6\",\"7\",\"8\",\"9\",\"10\",\"11\",\"12\",\"13\",\"14\",\"15\"]},\"id\":\"1008\",\"type\":\"FactorRange\"},{\"attributes\":{\"coordinates\":null,\"group\":null,\"text\":\"Profile Results\"},\"id\":\"1004\",\"type\":\"Title\"},{\"attributes\":{},\"id\":\"1045\",\"type\":\"AllLabels\"},{\"attributes\":{\"dimensions\":\"width\"},\"id\":\"1024\",\"type\":\"WheelZoomTool\"},{\"attributes\":{\"coordinates\":null,\"data_source\":{\"id\":\"1032\"},\"glyph\":{\"id\":\"1034\"},\"group\":null,\"hover_glyph\":null,\"muted_glyph\":{\"id\":\"1036\"},\"nonselection_glyph\":{\"id\":\"1035\"},\"view\":{\"id\":\"1038\"}},\"id\":\"1037\",\"type\":\"GlyphRenderer\"},{\"attributes\":{\"axis_label\":\"Worker ID\",\"axis_line_color\":null,\"coordinates\":null,\"formatter\":{\"id\":\"1041\"},\"group\":null,\"major_label_policy\":{\"id\":\"1042\"},\"major_tick_line_color\":null,\"ticker\":{\"id\":\"1019\"}},\"id\":\"1018\",\"type\":\"CategoricalAxis\"},{\"attributes\":{},\"id\":\"1015\",\"type\":\"BasicTicker\"},{\"attributes\":{\"axis\":{\"id\":\"1014\"},\"coordinates\":null,\"grid_line_color\":null,\"group\":null,\"ticker\":null},\"id\":\"1017\",\"type\":\"Grid\"},{\"attributes\":{\"axis\":{\"id\":\"1018\"},\"coordinates\":null,\"dimension\":1,\"grid_line_color\":null,\"group\":null,\"ticker\":null},\"id\":\"1020\",\"type\":\"Grid\"},{\"attributes\":{},\"id\":\"1019\",\"type\":\"CategoricalTicker\"},{\"attributes\":{},\"id\":\"1046\",\"type\":\"UnionRenderers\"},{\"attributes\":{},\"id\":\"1022\",\"type\":\"SaveTool\"},{\"attributes\":{\"callback\":null,\"point_policy\":\"follow_mouse\",\"tooltips\":\"\\n    <div>\\n        <span style=\\\"font-size: 14px; font-weight: bold;\\\">Key:</span>&nbsp;\\n        <span style=\\\"font-size: 10px; font-family: Monaco, monospace;\\\">@key</span>\\n    </div>\\n    <div>\\n        <span style=\\\"font-size: 14px; font-weight: bold;\\\">Task:</span>&nbsp;\\n        <span style=\\\"font-size: 10px; font-family: Monaco, monospace;\\\">@function</span>\\n    </div>\\n    \"},\"id\":\"1021\",\"type\":\"HoverTool\"},{\"attributes\":{},\"id\":\"1023\",\"type\":\"ResetTool\"},{\"attributes\":{\"tools\":[{\"id\":\"1021\"},{\"id\":\"1022\"},{\"id\":\"1023\"},{\"id\":\"1024\"},{\"id\":\"1025\"}]},\"id\":\"1026\",\"type\":\"Toolbar\"},{\"attributes\":{},\"id\":\"1047\",\"type\":\"Selection\"},{\"attributes\":{\"dimensions\":\"width\"},\"id\":\"1025\",\"type\":\"PanTool\"},{\"attributes\":{\"fill_alpha\":{\"value\":0.1},\"fill_color\":{\"field\":\"color\"},\"hatch_alpha\":{\"value\":0.1},\"hatch_color\":{\"field\":\"color\"},\"height\":{\"value\":1},\"line_alpha\":{\"value\":0.1},\"line_color\":{\"value\":\"gray\"},\"width\":{\"field\":\"width\"},\"x\":{\"field\":\"x\"},\"y\":{\"field\":\"y\"}},\"id\":\"1035\",\"type\":\"Rect\"},{\"attributes\":{\"data\":{\"color\":[\"#3B518A\",\"#3B518A\",\"#3B518A\",\"#3B518A\",\"#440154\",\"#440154\",\"#440154\",\"#440154\",\"#FDE724\",\"#FDE724\",\"#FDE724\",\"#FDE724\",\"#FDE724\",\"#FDE724\",\"#FDE724\",\"#FDE724\",\"#FDE724\",\"#FDE724\",\"#FDE724\",\"#FDE724\",\"#FDE724\",\"#FDE724\",\"#FDE724\",\"#FDE724\",\"#440154\",\"#FDE724\",\"#440154\",\"#FDE724\",\"#440154\",\"#FDE724\",\"#440154\",\"#440154\",\"#440154\",\"#440154\",\"#440154\",\"#FDE724\",\"#FDE724\",\"#FDE724\",\"#FDE724\",\"#FDE724\",\"#440154\",\"#440154\",\"#440154\",\"#440154\",\"#440154\",\"#440154\",\"#440154\",\"#5BC862\",\"#FDE724\",\"#FDE724\",\"#FDE724\",\"#FDE724\",\"#5BC862\",\"#FDE724\",\"#FDE724\",\"#440154\",\"#208F8C\",\"#FDE724\",\"#FDE724\",\"#440154\",\"#FDE724\",\"#440154\",\"#FDE724\",\"#440154\",\"#440154\",\"#FDE724\",\"#FDE724\",\"#440154\",\"#440154\",\"#440154\",\"#FDE724\",\"#440154\",\"#FDE724\",\"#FDE724\",\"#FDE724\",\"#440154\",\"#440154\",\"#440154\",\"#FDE724\",\"#440154\",\"#FDE724\",\"#FDE724\",\"#440154\",\"#440154\",\"#FDE724\",\"#FDE724\",\"#440154\",\"#FDE724\",\"#440154\",\"#FDE724\",\"#FDE724\",\"#440154\",\"#FDE724\",\"#440154\",\"#FDE724\",\"#440154\",\"#440154\",\"#FDE724\",\"#FDE724\",\"#440154\",\"#440154\",\"#FDE724\",\"#FDE724\",\"#440154\",\"#440154\",\"#FDE724\",\"#FDE724\",\"#440154\",\"#FDE724\",\"#440154\",\"#440154\",\"#FDE724\",\"#440154\",\"#FDE724\",\"#440154\",\"#440154\",\"#FDE724\",\"#440154\",\"#440154\",\"#FDE724\",\"#FDE724\",\"#FDE724\",\"#FDE724\",\"#440154\",\"#FDE724\",\"#440154\",\"#FDE724\",\"#440154\",\"#FDE724\",\"#440154\",\"#440154\",\"#440154\",\"#FDE724\",\"#FDE724\",\"#FDE724\",\"#440154\",\"#440154\",\"#440154\",\"#FDE724\",\"#FDE724\",\"#FDE724\",\"#440154\",\"#440154\",\"#FDE724\",\"#FDE724\",\"#440154\",\"#440154\",\"#440154\",\"#440154\",\"#440154\",\"#FDE724\",\"#FDE724\",\"#FDE724\",\"#FDE724\",\"#FDE724\",\"#440154\",\"#5BC862\",\"#FDE724\",\"#440154\",\"#5BC862\",\"#FDE724\",\"#440154\",\"#5BC862\",\"#FDE724\",\"#440154\",\"#5BC862\",\"#FDE724\",\"#440154\",\"#440154\",\"#440154\",\"#440154\",\"#5BC862\",\"#440154\",\"#5BC862\",\"#440154\",\"#5BC862\",\"#5BC862\",\"#5BC862\",\"#FDE724\",\"#FDE724\",\"#5BC862\",\"#440154\",\"#FDE724\",\"#FDE724\",\"#FDE724\",\"#440154\",\"#FDE724\",\"#5BC862\",\"#5BC862\",\"#440154\",\"#FDE724\",\"#5BC862\",\"#FDE724\",\"#440154\",\"#FDE724\",\"#5BC862\",\"#FDE724\",\"#440154\",\"#440154\",\"#5BC862\",\"#5BC862\",\"#FDE724\",\"#FDE724\",\"#440154\",\"#5BC862\",\"#FDE724\",\"#440154\",\"#5BC862\",\"#FDE724\",\"#440154\",\"#5BC862\",\"#FDE724\",\"#440154\",\"#5BC862\",\"#FDE724\",\"#440154\",\"#440154\",\"#5BC862\",\"#5BC862\",\"#FDE724\",\"#FDE724\",\"#440154\",\"#440154\",\"#5BC862\",\"#440154\",\"#5BC862\",\"#FDE724\",\"#5BC862\",\"#FDE724\",\"#440154\",\"#440154\",\"#FDE724\",\"#440154\",\"#440154\",\"#440154\",\"#5BC862\",\"#440154\",\"#5BC862\",\"#5BC862\",\"#5BC862\",\"#5BC862\",\"#FDE724\",\"#5BC862\",\"#FDE724\",\"#440154\",\"#FDE724\",\"#FDE724\",\"#FDE724\",\"#FDE724\",\"#5BC862\",\"#FDE724\",\"#440154\",\"#440154\",\"#5BC862\",\"#5BC862\",\"#FDE724\",\"#FDE724\",\"#440154\",\"#5BC862\",\"#FDE724\",\"#440154\",\"#5BC862\",\"#FDE724\",\"#440154\",\"#440154\",\"#5BC862\",\"#5BC862\",\"#FDE724\",\"#FDE724\",\"#440154\",\"#440154\",\"#5BC862\",\"#5BC862\",\"#FDE724\",\"#FDE724\",\"#440154\",\"#5BC862\",\"#FDE724\",\"#440154\",\"#440154\",\"#5BC862\",\"#5BC862\",\"#FDE724\",\"#FDE724\",\"#440154\",\"#440154\",\"#440154\",\"#5BC862\",\"#5BC862\",\"#5BC862\",\"#FDE724\",\"#440154\",\"#FDE724\",\"#FDE724\",\"#440154\",\"#5BC862\",\"#5BC862\",\"#FDE724\",\"#FDE724\",\"#440154\",\"#5BC862\",\"#208F8C\",\"#FDE724\",\"#440154\",\"#5BC862\",\"#208F8C\",\"#FDE724\",\"#440154\",\"#440154\",\"#5BC862\",\"#5BC862\",\"#440154\",\"#208F8C\",\"#208F8C\",\"#5BC862\",\"#FDE724\",\"#FDE724\",\"#208F8C\",\"#FDE724\",\"#440154\",\"#5BC862\",\"#440154\",\"#440154\",\"#208F8C\",\"#5BC862\",\"#5BC862\",\"#FDE724\",\"#208F8C\",\"#208F8C\",\"#FDE724\",\"#440154\",\"#FDE724\",\"#5BC862\",\"#208F8C\",\"#FDE724\",\"#440154\",\"#440154\",\"#440154\",\"#5BC862\",\"#440154\",\"#FDE724\",\"#5BC862\",\"#208F8C\",\"#5BC862\",\"#208F8C\",\"#208F8C\",\"#FDE724\",\"#FDE724\",\"#FDE724\",\"#440154\",\"#FDE724\",\"#440154\",\"#440154\",\"#FDE724\",\"#FDE724\",\"#440154\",\"#FDE724\",\"#440154\",\"#FDE724\",\"#440154\",\"#440154\",\"#FDE724\",\"#FDE724\",\"#440154\",\"#440154\",\"#FDE724\",\"#FDE724\",\"#440154\",\"#FDE724\",\"#440154\",\"#440154\",\"#FDE724\",\"#FDE724\",\"#440154\",\"#FDE724\",\"#440154\",\"#FDE724\",\"#440154\",\"#FDE724\",\"#440154\",\"#FDE724\",\"#440154\",\"#440154\",\"#FDE724\",\"#FDE724\",\"#440154\",\"#FDE724\",\"#440154\",\"#FDE724\",\"#440154\",\"#FDE724\",\"#440154\",\"#440154\",\"#FDE724\",\"#FDE724\",\"#440154\",\"#FDE724\",\"#440154\",\"#440154\",\"#FDE724\",\"#FDE724\",\"#440154\",\"#FDE724\",\"#440154\",\"#FDE724\",\"#440154\",\"#440154\",\"#FDE724\",\"#FDE724\",\"#440154\",\"#FDE724\",\"#440154\",\"#440154\",\"#FDE724\",\"#FDE724\",\"#440154\",\"#FDE724\",\"#440154\",\"#FDE724\",\"#440154\",\"#5BC862\",\"#208F8C\",\"#FDE724\",\"#440154\",\"#5BC862\",\"#208F8C\",\"#FDE724\",\"#440154\",\"#5BC862\",\"#440154\",\"#440154\",\"#208F8C\",\"#5BC862\",\"#5BC862\",\"#FDE724\",\"#208F8C\",\"#208F8C\",\"#440154\",\"#FDE724\",\"#FDE724\",\"#5BC862\",\"#208F8C\",\"#440154\",\"#FDE724\",\"#5BC862\",\"#440154\",\"#208F8C\",\"#5BC862\",\"#FDE724\",\"#208F8C\",\"#FDE724\",\"#440154\",\"#5BC862\",\"#208F8C\",\"#FDE724\",\"#440154\",\"#5BC862\",\"#208F8C\",\"#440154\",\"#FDE724\",\"#5BC862\",\"#440154\",\"#208F8C\",\"#5BC862\",\"#FDE724\",\"#208F8C\",\"#FDE724\",\"#440154\",\"#440154\",\"#5BC862\",\"#5BC862\",\"#208F8C\",\"#208F8C\",\"#FDE724\",\"#FDE724\",\"#440154\",\"#5BC862\",\"#208F8C\",\"#FDE724\",\"#440154\",\"#5BC862\",\"#208F8C\",\"#FDE724\",\"#440154\",\"#5BC862\",\"#208F8C\",\"#FDE724\",\"#440154\",\"#5BC862\",\"#208F8C\",\"#FDE724\",\"#440154\",\"#5BC862\",\"#208F8C\",\"#FDE724\",\"#440154\",\"#440154\",\"#5BC862\",\"#5BC862\",\"#208F8C\",\"#440154\",\"#208F8C\",\"#FDE724\",\"#5BC862\",\"#440154\",\"#208F8C\",\"#5BC862\",\"#208F8C\",\"#440154\",\"#5BC862\",\"#208F8C\",\"#440154\",\"#5BC862\",\"#208F8C\",\"#440154\",\"#5BC862\",\"#208F8C\",\"#440154\",\"#5BC862\",\"#208F8C\",\"#440154\",\"#440154\",\"#5BC862\",\"#5BC862\",\"#208F8C\",\"#208F8C\",\"#440154\",\"#5BC862\",\"#208F8C\",\"#440154\",\"#5BC862\",\"#208F8C\",\"#440154\",\"#5BC862\",\"#208F8C\",\"#440154\",\"#5BC862\",\"#208F8C\",\"#440154\",\"#5BC862\",\"#208F8C\",\"#440154\",\"#5BC862\",\"#208F8C\",\"#440154\",\"#5BC862\",\"#208F8C\"],\"function\":[\"_frozen_phonon(, atoms=_, seeds=tuple([*]))\",\"_frozen_phonon(, atoms=_, seeds=tuple([*]))\",\"_frozen_phonon(, atoms=_, seeds=tuple([*]))\",\"_frozen_phonon(, atoms=_, seeds=tuple([*]))\",\"_\",\"_\",\"_\",\"_\",\"subgraph_callable-f0a04bb2-e8bc-41b6-bc6a-b39eaf4c(subgraph_callable-65bfba04-4f80-420a-8df8-d3e09709(...))\",\"subgraph_callable-f0a04bb2-e8bc-41b6-bc6a-b39eaf4c(subgraph_callable-65bfba04-4f80-420a-8df8-d3e09709(...))\",\"subgraph_callable-f0a04bb2-e8bc-41b6-bc6a-b39eaf4c(subgraph_callable-65bfba04-4f80-420a-8df8-d3e09709(...))\",\"subgraph_callable-f0a04bb2-e8bc-41b6-bc6a-b39eaf4c(subgraph_callable-65bfba04-4f80-420a-8df8-d3e09709(...))\",\"subgraph_callable-f0a04bb2-e8bc-41b6-bc6a-b39eaf4c(subgraph_callable-65bfba04-4f80-420a-8df8-d3e09709(...))\",\"subgraph_callable-f0a04bb2-e8bc-41b6-bc6a-b39eaf4c(subgraph_callable-65bfba04-4f80-420a-8df8-d3e09709(...))\",\"subgraph_callable-f0a04bb2-e8bc-41b6-bc6a-b39eaf4c(subgraph_callable-65bfba04-4f80-420a-8df8-d3e09709(...))\",\"subgraph_callable-f0a04bb2-e8bc-41b6-bc6a-b39eaf4c(subgraph_callable-65bfba04-4f80-420a-8df8-d3e09709(...))\",\"subgraph_callable-f0a04bb2-e8bc-41b6-bc6a-b39eaf4c(subgraph_callable-65bfba04-4f80-420a-8df8-d3e09709(...))\",\"subgraph_callable-f0a04bb2-e8bc-41b6-bc6a-b39eaf4c(subgraph_callable-65bfba04-4f80-420a-8df8-d3e09709(...))\",\"subgraph_callable-f0a04bb2-e8bc-41b6-bc6a-b39eaf4c(subgraph_callable-65bfba04-4f80-420a-8df8-d3e09709(...))\",\"subgraph_callable-f0a04bb2-e8bc-41b6-bc6a-b39eaf4c(subgraph_callable-65bfba04-4f80-420a-8df8-d3e09709(...))\",\"subgraph_callable-f0a04bb2-e8bc-41b6-bc6a-b39eaf4c(subgraph_callable-65bfba04-4f80-420a-8df8-d3e09709(...))\",\"subgraph_callable-f0a04bb2-e8bc-41b6-bc6a-b39eaf4c(subgraph_callable-65bfba04-4f80-420a-8df8-d3e09709(...))\",\"subgraph_callable-f0a04bb2-e8bc-41b6-bc6a-b39eaf4c(subgraph_callable-65bfba04-4f80-420a-8df8-d3e09709(...))\",\"subgraph_callable-f0a04bb2-e8bc-41b6-bc6a-b39eaf4c(subgraph_callable-65bfba04-4f80-420a-8df8-d3e09709(...))\",\"_\",\"subgraph_callable-f0a04bb2-e8bc-41b6-bc6a-b39eaf4c(subgraph_callable-65bfba04-4f80-420a-8df8-d3e09709(...))\",\"_\",\"subgraph_callable-f0a04bb2-e8bc-41b6-bc6a-b39eaf4c(subgraph_callable-65bfba04-4f80-420a-8df8-d3e09709(...))\",\"_\",\"subgraph_callable-f0a04bb2-e8bc-41b6-bc6a-b39eaf4c(subgraph_callable-65bfba04-4f80-420a-8df8-d3e09709(...))\",\"_\",\"_\",\"_\",\"_\",\"_\",\"subgraph_callable-f0a04bb2-e8bc-41b6-bc6a-b39eaf4c(subgraph_callable-65bfba04-4f80-420a-8df8-d3e09709(...))\",\"subgraph_callable-f0a04bb2-e8bc-41b6-bc6a-b39eaf4c(subgraph_callable-65bfba04-4f80-420a-8df8-d3e09709(...))\",\"subgraph_callable-f0a04bb2-e8bc-41b6-bc6a-b39eaf4c(subgraph_callable-65bfba04-4f80-420a-8df8-d3e09709(...))\",\"subgraph_callable-f0a04bb2-e8bc-41b6-bc6a-b39eaf4c(subgraph_callable-65bfba04-4f80-420a-8df8-d3e09709(...))\",\"subgraph_callable-f0a04bb2-e8bc-41b6-bc6a-b39eaf4c(subgraph_callable-65bfba04-4f80-420a-8df8-d3e09709(...))\",\"_\",\"_\",\"_\",\"_\",\"_\",\"_\",\"_\",\"mean_combine([_, _])\",\"subgraph_callable-f0a04bb2-e8bc-41b6-bc6a-b39eaf4c(subgraph_callable-65bfba04-4f80-420a-8df8-d3e09709(...))\",\"subgraph_callable-f0a04bb2-e8bc-41b6-bc6a-b39eaf4c(subgraph_callable-65bfba04-4f80-420a-8df8-d3e09709(...))\",\"subgraph_callable-f0a04bb2-e8bc-41b6-bc6a-b39eaf4c(subgraph_callable-65bfba04-4f80-420a-8df8-d3e09709(...))\",\"subgraph_callable-f0a04bb2-e8bc-41b6-bc6a-b39eaf4c(subgraph_callable-65bfba04-4f80-420a-8df8-d3e09709(...))\",\"mean_combine([_, _])\",\"subgraph_callable-f0a04bb2-e8bc-41b6-bc6a-b39eaf4c(subgraph_callable-65bfba04-4f80-420a-8df8-d3e09709(...))\",\"subgraph_callable-f0a04bb2-e8bc-41b6-bc6a-b39eaf4c(subgraph_callable-65bfba04-4f80-420a-8df8-d3e09709(...))\",\"_\",\"mean_agg([_, _])\",\"subgraph_callable-f0a04bb2-e8bc-41b6-bc6a-b39eaf4c(subgraph_callable-65bfba04-4f80-420a-8df8-d3e09709(...))\",\"subgraph_callable-f0a04bb2-e8bc-41b6-bc6a-b39eaf4c(subgraph_callable-65bfba04-4f80-420a-8df8-d3e09709(...))\",\"_\",\"subgraph_callable-f0a04bb2-e8bc-41b6-bc6a-b39eaf4c(subgraph_callable-65bfba04-4f80-420a-8df8-d3e09709(...))\",\"_\",\"subgraph_callable-f0a04bb2-e8bc-41b6-bc6a-b39eaf4c(subgraph_callable-65bfba04-4f80-420a-8df8-d3e09709(...))\",\"_\",\"_\",\"subgraph_callable-f0a04bb2-e8bc-41b6-bc6a-b39eaf4c(subgraph_callable-65bfba04-4f80-420a-8df8-d3e09709(...))\",\"subgraph_callable-f0a04bb2-e8bc-41b6-bc6a-b39eaf4c(subgraph_callable-65bfba04-4f80-420a-8df8-d3e09709(...))\",\"_\",\"_\",\"_\",\"subgraph_callable-f0a04bb2-e8bc-41b6-bc6a-b39eaf4c(subgraph_callable-65bfba04-4f80-420a-8df8-d3e09709(...))\",\"_\",\"subgraph_callable-f0a04bb2-e8bc-41b6-bc6a-b39eaf4c(subgraph_callable-65bfba04-4f80-420a-8df8-d3e09709(...))\",\"subgraph_callable-f0a04bb2-e8bc-41b6-bc6a-b39eaf4c(subgraph_callable-65bfba04-4f80-420a-8df8-d3e09709(...))\",\"subgraph_callable-f0a04bb2-e8bc-41b6-bc6a-b39eaf4c(subgraph_callable-65bfba04-4f80-420a-8df8-d3e09709(...))\",\"_\",\"_\",\"_\",\"subgraph_callable-f0a04bb2-e8bc-41b6-bc6a-b39eaf4c(subgraph_callable-65bfba04-4f80-420a-8df8-d3e09709(...))\",\"_\",\"subgraph_callable-f0a04bb2-e8bc-41b6-bc6a-b39eaf4c(subgraph_callable-65bfba04-4f80-420a-8df8-d3e09709(...))\",\"subgraph_callable-f0a04bb2-e8bc-41b6-bc6a-b39eaf4c(subgraph_callable-65bfba04-4f80-420a-8df8-d3e09709(...))\",\"_\",\"_\",\"subgraph_callable-f0a04bb2-e8bc-41b6-bc6a-b39eaf4c(subgraph_callable-65bfba04-4f80-420a-8df8-d3e09709(...))\",\"subgraph_callable-f0a04bb2-e8bc-41b6-bc6a-b39eaf4c(subgraph_callable-65bfba04-4f80-420a-8df8-d3e09709(...))\",\"_\",\"subgraph_callable-f0a04bb2-e8bc-41b6-bc6a-b39eaf4c(subgraph_callable-65bfba04-4f80-420a-8df8-d3e09709(...))\",\"_\",\"subgraph_callable-f0a04bb2-e8bc-41b6-bc6a-b39eaf4c(subgraph_callable-65bfba04-4f80-420a-8df8-d3e09709(...))\",\"subgraph_callable-f0a04bb2-e8bc-41b6-bc6a-b39eaf4c(subgraph_callable-65bfba04-4f80-420a-8df8-d3e09709(...))\",\"_\",\"subgraph_callable-f0a04bb2-e8bc-41b6-bc6a-b39eaf4c(subgraph_callable-65bfba04-4f80-420a-8df8-d3e09709(...))\",\"_\",\"subgraph_callable-f0a04bb2-e8bc-41b6-bc6a-b39eaf4c(subgraph_callable-65bfba04-4f80-420a-8df8-d3e09709(...))\",\"_\",\"_\",\"subgraph_callable-f0a04bb2-e8bc-41b6-bc6a-b39eaf4c(subgraph_callable-65bfba04-4f80-420a-8df8-d3e09709(...))\",\"subgraph_callable-f0a04bb2-e8bc-41b6-bc6a-b39eaf4c(subgraph_callable-65bfba04-4f80-420a-8df8-d3e09709(...))\",\"_\",\"_\",\"subgraph_callable-f0a04bb2-e8bc-41b6-bc6a-b39eaf4c(subgraph_callable-65bfba04-4f80-420a-8df8-d3e09709(...))\",\"subgraph_callable-f0a04bb2-e8bc-41b6-bc6a-b39eaf4c(subgraph_callable-65bfba04-4f80-420a-8df8-d3e09709(...))\",\"_\",\"_\",\"subgraph_callable-f0a04bb2-e8bc-41b6-bc6a-b39eaf4c(subgraph_callable-65bfba04-4f80-420a-8df8-d3e09709(...))\",\"subgraph_callable-f0a04bb2-e8bc-41b6-bc6a-b39eaf4c(subgraph_callable-65bfba04-4f80-420a-8df8-d3e09709(...))\",\"_\",\"subgraph_callable-f0a04bb2-e8bc-41b6-bc6a-b39eaf4c(subgraph_callable-65bfba04-4f80-420a-8df8-d3e09709(...))\",\"_\",\"_\",\"subgraph_callable-f0a04bb2-e8bc-41b6-bc6a-b39eaf4c(subgraph_callable-65bfba04-4f80-420a-8df8-d3e09709(...))\",\"_\",\"subgraph_callable-f0a04bb2-e8bc-41b6-bc6a-b39eaf4c(subgraph_callable-65bfba04-4f80-420a-8df8-d3e09709(...))\",\"_\",\"_\",\"subgraph_callable-f0a04bb2-e8bc-41b6-bc6a-b39eaf4c(subgraph_callable-65bfba04-4f80-420a-8df8-d3e09709(...))\",\"_\",\"_\",\"subgraph_callable-f0a04bb2-e8bc-41b6-bc6a-b39eaf4c(subgraph_callable-65bfba04-4f80-420a-8df8-d3e09709(...))\",\"subgraph_callable-f0a04bb2-e8bc-41b6-bc6a-b39eaf4c(subgraph_callable-65bfba04-4f80-420a-8df8-d3e09709(...))\",\"subgraph_callable-f0a04bb2-e8bc-41b6-bc6a-b39eaf4c(subgraph_callable-65bfba04-4f80-420a-8df8-d3e09709(...))\",\"subgraph_callable-f0a04bb2-e8bc-41b6-bc6a-b39eaf4c(subgraph_callable-65bfba04-4f80-420a-8df8-d3e09709(...))\",\"_\",\"subgraph_callable-f0a04bb2-e8bc-41b6-bc6a-b39eaf4c(subgraph_callable-65bfba04-4f80-420a-8df8-d3e09709(...))\",\"_\",\"subgraph_callable-f0a04bb2-e8bc-41b6-bc6a-b39eaf4c(subgraph_callable-65bfba04-4f80-420a-8df8-d3e09709(...))\",\"_\",\"subgraph_callable-f0a04bb2-e8bc-41b6-bc6a-b39eaf4c(subgraph_callable-65bfba04-4f80-420a-8df8-d3e09709(...))\",\"_\",\"_\",\"_\",\"subgraph_callable-f0a04bb2-e8bc-41b6-bc6a-b39eaf4c(subgraph_callable-65bfba04-4f80-420a-8df8-d3e09709(...))\",\"subgraph_callable-f0a04bb2-e8bc-41b6-bc6a-b39eaf4c(subgraph_callable-65bfba04-4f80-420a-8df8-d3e09709(...))\",\"subgraph_callable-f0a04bb2-e8bc-41b6-bc6a-b39eaf4c(subgraph_callable-65bfba04-4f80-420a-8df8-d3e09709(...))\",\"_\",\"_\",\"_\",\"subgraph_callable-f0a04bb2-e8bc-41b6-bc6a-b39eaf4c(subgraph_callable-65bfba04-4f80-420a-8df8-d3e09709(...))\",\"subgraph_callable-f0a04bb2-e8bc-41b6-bc6a-b39eaf4c(subgraph_callable-65bfba04-4f80-420a-8df8-d3e09709(...))\",\"subgraph_callable-f0a04bb2-e8bc-41b6-bc6a-b39eaf4c(subgraph_callable-65bfba04-4f80-420a-8df8-d3e09709(...))\",\"_\",\"_\",\"subgraph_callable-f0a04bb2-e8bc-41b6-bc6a-b39eaf4c(subgraph_callable-65bfba04-4f80-420a-8df8-d3e09709(...))\",\"subgraph_callable-f0a04bb2-e8bc-41b6-bc6a-b39eaf4c(subgraph_callable-65bfba04-4f80-420a-8df8-d3e09709(...))\",\"_\",\"_\",\"_\",\"_\",\"_\",\"subgraph_callable-f0a04bb2-e8bc-41b6-bc6a-b39eaf4c(subgraph_callable-65bfba04-4f80-420a-8df8-d3e09709(...))\",\"subgraph_callable-f0a04bb2-e8bc-41b6-bc6a-b39eaf4c(subgraph_callable-65bfba04-4f80-420a-8df8-d3e09709(...))\",\"subgraph_callable-f0a04bb2-e8bc-41b6-bc6a-b39eaf4c(subgraph_callable-65bfba04-4f80-420a-8df8-d3e09709(...))\",\"subgraph_callable-f0a04bb2-e8bc-41b6-bc6a-b39eaf4c(subgraph_callable-65bfba04-4f80-420a-8df8-d3e09709(...))\",\"subgraph_callable-f0a04bb2-e8bc-41b6-bc6a-b39eaf4c(subgraph_callable-65bfba04-4f80-420a-8df8-d3e09709(...))\",\"_\",\"mean_combine([_, _])\",\"subgraph_callable-f0a04bb2-e8bc-41b6-bc6a-b39eaf4c(subgraph_callable-65bfba04-4f80-420a-8df8-d3e09709(...))\",\"_\",\"mean_combine([_, _])\",\"subgraph_callable-f0a04bb2-e8bc-41b6-bc6a-b39eaf4c(subgraph_callable-65bfba04-4f80-420a-8df8-d3e09709(...))\",\"_\",\"mean_combine([_, _])\",\"subgraph_callable-f0a04bb2-e8bc-41b6-bc6a-b39eaf4c(subgraph_callable-65bfba04-4f80-420a-8df8-d3e09709(...))\",\"_\",\"mean_combine([_, _])\",\"subgraph_callable-f0a04bb2-e8bc-41b6-bc6a-b39eaf4c(subgraph_callable-65bfba04-4f80-420a-8df8-d3e09709(...))\",\"_\",\"_\",\"_\",\"_\",\"mean_combine([_, _])\",\"_\",\"mean_combine([_, _])\",\"_\",\"mean_combine([_, _])\",\"mean_combine([_, _])\",\"mean_combine([_, _])\",\"subgraph_callable-f0a04bb2-e8bc-41b6-bc6a-b39eaf4c(subgraph_callable-65bfba04-4f80-420a-8df8-d3e09709(...))\",\"subgraph_callable-f0a04bb2-e8bc-41b6-bc6a-b39eaf4c(subgraph_callable-65bfba04-4f80-420a-8df8-d3e09709(...))\",\"mean_combine([_, _])\",\"_\",\"subgraph_callable-f0a04bb2-e8bc-41b6-bc6a-b39eaf4c(subgraph_callable-65bfba04-4f80-420a-8df8-d3e09709(...))\",\"subgraph_callable-f0a04bb2-e8bc-41b6-bc6a-b39eaf4c(subgraph_callable-65bfba04-4f80-420a-8df8-d3e09709(...))\",\"subgraph_callable-f0a04bb2-e8bc-41b6-bc6a-b39eaf4c(subgraph_callable-65bfba04-4f80-420a-8df8-d3e09709(...))\",\"_\",\"subgraph_callable-f0a04bb2-e8bc-41b6-bc6a-b39eaf4c(subgraph_callable-65bfba04-4f80-420a-8df8-d3e09709(...))\",\"mean_combine([_, _])\",\"mean_combine([_, _])\",\"_\",\"subgraph_callable-f0a04bb2-e8bc-41b6-bc6a-b39eaf4c(subgraph_callable-65bfba04-4f80-420a-8df8-d3e09709(...))\",\"mean_combine([_, _])\",\"subgraph_callable-f0a04bb2-e8bc-41b6-bc6a-b39eaf4c(subgraph_callable-65bfba04-4f80-420a-8df8-d3e09709(...))\",\"_\",\"subgraph_callable-f0a04bb2-e8bc-41b6-bc6a-b39eaf4c(subgraph_callable-65bfba04-4f80-420a-8df8-d3e09709(...))\",\"mean_combine([_, _])\",\"subgraph_callable-f0a04bb2-e8bc-41b6-bc6a-b39eaf4c(subgraph_callable-65bfba04-4f80-420a-8df8-d3e09709(...))\",\"_\",\"_\",\"mean_combine([_, _])\",\"mean_combine([_, _])\",\"subgraph_callable-f0a04bb2-e8bc-41b6-bc6a-b39eaf4c(subgraph_callable-65bfba04-4f80-420a-8df8-d3e09709(...))\",\"subgraph_callable-f0a04bb2-e8bc-41b6-bc6a-b39eaf4c(subgraph_callable-65bfba04-4f80-420a-8df8-d3e09709(...))\",\"_\",\"mean_combine([_, _])\",\"subgraph_callable-f0a04bb2-e8bc-41b6-bc6a-b39eaf4c(subgraph_callable-65bfba04-4f80-420a-8df8-d3e09709(...))\",\"_\",\"mean_combine([_, _])\",\"subgraph_callable-f0a04bb2-e8bc-41b6-bc6a-b39eaf4c(subgraph_callable-65bfba04-4f80-420a-8df8-d3e09709(...))\",\"_\",\"mean_combine([_, _])\",\"subgraph_callable-f0a04bb2-e8bc-41b6-bc6a-b39eaf4c(subgraph_callable-65bfba04-4f80-420a-8df8-d3e09709(...))\",\"_\",\"mean_combine([_, _])\",\"subgraph_callable-f0a04bb2-e8bc-41b6-bc6a-b39eaf4c(subgraph_callable-65bfba04-4f80-420a-8df8-d3e09709(...))\",\"_\",\"_\",\"mean_combine([_, _])\",\"mean_combine([_, _])\",\"subgraph_callable-f0a04bb2-e8bc-41b6-bc6a-b39eaf4c(subgraph_callable-65bfba04-4f80-420a-8df8-d3e09709(...))\",\"subgraph_callable-f0a04bb2-e8bc-41b6-bc6a-b39eaf4c(subgraph_callable-65bfba04-4f80-420a-8df8-d3e09709(...))\",\"_\",\"_\",\"mean_combine([_, _])\",\"_\",\"mean_combine([_, _])\",\"subgraph_callable-f0a04bb2-e8bc-41b6-bc6a-b39eaf4c(subgraph_callable-65bfba04-4f80-420a-8df8-d3e09709(...))\",\"mean_combine([_, _])\",\"subgraph_callable-f0a04bb2-e8bc-41b6-bc6a-b39eaf4c(subgraph_callable-65bfba04-4f80-420a-8df8-d3e09709(...))\",\"_\",\"_\",\"subgraph_callable-f0a04bb2-e8bc-41b6-bc6a-b39eaf4c(subgraph_callable-65bfba04-4f80-420a-8df8-d3e09709(...))\",\"_\",\"_\",\"_\",\"mean_combine([_, _])\",\"_\",\"mean_combine([_, _])\",\"mean_combine([_, _])\",\"mean_combine([_, _])\",\"mean_combine([_, _])\",\"subgraph_callable-f0a04bb2-e8bc-41b6-bc6a-b39eaf4c(subgraph_callable-65bfba04-4f80-420a-8df8-d3e09709(...))\",\"mean_combine([_, _])\",\"subgraph_callable-f0a04bb2-e8bc-41b6-bc6a-b39eaf4c(subgraph_callable-65bfba04-4f80-420a-8df8-d3e09709(...))\",\"_\",\"subgraph_callable-f0a04bb2-e8bc-41b6-bc6a-b39eaf4c(subgraph_callable-65bfba04-4f80-420a-8df8-d3e09709(...))\",\"subgraph_callable-f0a04bb2-e8bc-41b6-bc6a-b39eaf4c(subgraph_callable-65bfba04-4f80-420a-8df8-d3e09709(...))\",\"subgraph_callable-f0a04bb2-e8bc-41b6-bc6a-b39eaf4c(subgraph_callable-65bfba04-4f80-420a-8df8-d3e09709(...))\",\"subgraph_callable-f0a04bb2-e8bc-41b6-bc6a-b39eaf4c(subgraph_callable-65bfba04-4f80-420a-8df8-d3e09709(...))\",\"mean_combine([_, _])\",\"subgraph_callable-f0a04bb2-e8bc-41b6-bc6a-b39eaf4c(subgraph_callable-65bfba04-4f80-420a-8df8-d3e09709(...))\",\"_\",\"_\",\"mean_combine([_, _])\",\"mean_combine([_, _])\",\"subgraph_callable-f0a04bb2-e8bc-41b6-bc6a-b39eaf4c(subgraph_callable-65bfba04-4f80-420a-8df8-d3e09709(...))\",\"subgraph_callable-f0a04bb2-e8bc-41b6-bc6a-b39eaf4c(subgraph_callable-65bfba04-4f80-420a-8df8-d3e09709(...))\",\"_\",\"mean_combine([_, _])\",\"subgraph_callable-f0a04bb2-e8bc-41b6-bc6a-b39eaf4c(subgraph_callable-65bfba04-4f80-420a-8df8-d3e09709(...))\",\"_\",\"mean_combine([_, _])\",\"subgraph_callable-f0a04bb2-e8bc-41b6-bc6a-b39eaf4c(subgraph_callable-65bfba04-4f80-420a-8df8-d3e09709(...))\",\"_\",\"_\",\"mean_combine([_, _])\",\"mean_combine([_, _])\",\"subgraph_callable-f0a04bb2-e8bc-41b6-bc6a-b39eaf4c(subgraph_callable-65bfba04-4f80-420a-8df8-d3e09709(...))\",\"subgraph_callable-f0a04bb2-e8bc-41b6-bc6a-b39eaf4c(subgraph_callable-65bfba04-4f80-420a-8df8-d3e09709(...))\",\"_\",\"_\",\"mean_combine([_, _])\",\"mean_combine([_, _])\",\"subgraph_callable-f0a04bb2-e8bc-41b6-bc6a-b39eaf4c(subgraph_callable-65bfba04-4f80-420a-8df8-d3e09709(...))\",\"subgraph_callable-f0a04bb2-e8bc-41b6-bc6a-b39eaf4c(subgraph_callable-65bfba04-4f80-420a-8df8-d3e09709(...))\",\"_\",\"mean_combine([_, _])\",\"subgraph_callable-f0a04bb2-e8bc-41b6-bc6a-b39eaf4c(subgraph_callable-65bfba04-4f80-420a-8df8-d3e09709(...))\",\"_\",\"_\",\"mean_combine([_, _])\",\"mean_combine([_, _])\",\"subgraph_callable-f0a04bb2-e8bc-41b6-bc6a-b39eaf4c(subgraph_callable-65bfba04-4f80-420a-8df8-d3e09709(...))\",\"subgraph_callable-f0a04bb2-e8bc-41b6-bc6a-b39eaf4c(subgraph_callable-65bfba04-4f80-420a-8df8-d3e09709(...))\",\"_\",\"_\",\"_\",\"mean_combine([_, _])\",\"mean_combine([_, _])\",\"mean_combine([_, _])\",\"subgraph_callable-f0a04bb2-e8bc-41b6-bc6a-b39eaf4c(subgraph_callable-65bfba04-4f80-420a-8df8-d3e09709(...))\",\"_\",\"subgraph_callable-f0a04bb2-e8bc-41b6-bc6a-b39eaf4c(subgraph_callable-65bfba04-4f80-420a-8df8-d3e09709(...))\",\"subgraph_callable-f0a04bb2-e8bc-41b6-bc6a-b39eaf4c(subgraph_callable-65bfba04-4f80-420a-8df8-d3e09709(...))\",\"_\",\"mean_combine([_, _])\",\"mean_combine([_, _])\",\"subgraph_callable-f0a04bb2-e8bc-41b6-bc6a-b39eaf4c(subgraph_callable-65bfba04-4f80-420a-8df8-d3e09709(...))\",\"subgraph_callable-f0a04bb2-e8bc-41b6-bc6a-b39eaf4c(subgraph_callable-65bfba04-4f80-420a-8df8-d3e09709(...))\",\"_\",\"mean_combine([_, _])\",\"mean_agg([_, _])\",\"subgraph_callable-f0a04bb2-e8bc-41b6-bc6a-b39eaf4c(subgraph_callable-65bfba04-4f80-420a-8df8-d3e09709(...))\",\"_\",\"mean_combine([_, _])\",\"mean_agg([_, _])\",\"subgraph_callable-f0a04bb2-e8bc-41b6-bc6a-b39eaf4c(subgraph_callable-65bfba04-4f80-420a-8df8-d3e09709(...))\",\"_\",\"_\",\"mean_combine([_, _])\",\"mean_combine([_, _])\",\"_\",\"mean_agg([_, _])\",\"mean_agg([_, _])\",\"mean_combine([_, _])\",\"subgraph_callable-f0a04bb2-e8bc-41b6-bc6a-b39eaf4c(subgraph_callable-65bfba04-4f80-420a-8df8-d3e09709(...))\",\"subgraph_callable-f0a04bb2-e8bc-41b6-bc6a-b39eaf4c(subgraph_callable-65bfba04-4f80-420a-8df8-d3e09709(...))\",\"mean_agg([_, _])\",\"subgraph_callable-f0a04bb2-e8bc-41b6-bc6a-b39eaf4c(subgraph_callable-65bfba04-4f80-420a-8df8-d3e09709(...))\",\"_\",\"mean_combine([_, _])\",\"_\",\"_\",\"mean_agg([_, _])\",\"mean_combine([_, _])\",\"mean_combine([_, _])\",\"subgraph_callable-f0a04bb2-e8bc-41b6-bc6a-b39eaf4c(subgraph_callable-65bfba04-4f80-420a-8df8-d3e09709(...))\",\"mean_agg([_, _])\",\"mean_agg([_, _])\",\"subgraph_callable-f0a04bb2-e8bc-41b6-bc6a-b39eaf4c(subgraph_callable-65bfba04-4f80-420a-8df8-d3e09709(...))\",\"_\",\"subgraph_callable-f0a04bb2-e8bc-41b6-bc6a-b39eaf4c(subgraph_callable-65bfba04-4f80-420a-8df8-d3e09709(...))\",\"mean_combine([_, _])\",\"mean_agg([_, _])\",\"subgraph_callable-f0a04bb2-e8bc-41b6-bc6a-b39eaf4c(subgraph_callable-65bfba04-4f80-420a-8df8-d3e09709(...))\",\"_\",\"_\",\"_\",\"mean_combine([_, _])\",\"_\",\"subgraph_callable-f0a04bb2-e8bc-41b6-bc6a-b39eaf4c(subgraph_callable-65bfba04-4f80-420a-8df8-d3e09709(...))\",\"mean_combine([_, _])\",\"mean_agg([_, _])\",\"mean_combine([_, _])\",\"mean_agg([_, _])\",\"mean_agg([_, _])\",\"subgraph_callable-f0a04bb2-e8bc-41b6-bc6a-b39eaf4c(subgraph_callable-65bfba04-4f80-420a-8df8-d3e09709(...))\",\"subgraph_callable-f0a04bb2-e8bc-41b6-bc6a-b39eaf4c(subgraph_callable-65bfba04-4f80-420a-8df8-d3e09709(...))\",\"subgraph_callable-f0a04bb2-e8bc-41b6-bc6a-b39eaf4c(subgraph_callable-65bfba04-4f80-420a-8df8-d3e09709(...))\",\"_\",\"subgraph_callable-f0a04bb2-e8bc-41b6-bc6a-b39eaf4c(subgraph_callable-65bfba04-4f80-420a-8df8-d3e09709(...))\",\"_\",\"_\",\"subgraph_callable-f0a04bb2-e8bc-41b6-bc6a-b39eaf4c(subgraph_callable-65bfba04-4f80-420a-8df8-d3e09709(...))\",\"subgraph_callable-f0a04bb2-e8bc-41b6-bc6a-b39eaf4c(subgraph_callable-65bfba04-4f80-420a-8df8-d3e09709(...))\",\"_\",\"subgraph_callable-f0a04bb2-e8bc-41b6-bc6a-b39eaf4c(subgraph_callable-65bfba04-4f80-420a-8df8-d3e09709(...))\",\"_\",\"subgraph_callable-f0a04bb2-e8bc-41b6-bc6a-b39eaf4c(subgraph_callable-65bfba04-4f80-420a-8df8-d3e09709(...))\",\"_\",\"_\",\"subgraph_callable-f0a04bb2-e8bc-41b6-bc6a-b39eaf4c(subgraph_callable-65bfba04-4f80-420a-8df8-d3e09709(...))\",\"subgraph_callable-f0a04bb2-e8bc-41b6-bc6a-b39eaf4c(subgraph_callable-65bfba04-4f80-420a-8df8-d3e09709(...))\",\"_\",\"_\",\"subgraph_callable-f0a04bb2-e8bc-41b6-bc6a-b39eaf4c(subgraph_callable-65bfba04-4f80-420a-8df8-d3e09709(...))\",\"subgraph_callable-f0a04bb2-e8bc-41b6-bc6a-b39eaf4c(subgraph_callable-65bfba04-4f80-420a-8df8-d3e09709(...))\",\"_\",\"subgraph_callable-f0a04bb2-e8bc-41b6-bc6a-b39eaf4c(subgraph_callable-65bfba04-4f80-420a-8df8-d3e09709(...))\",\"_\",\"_\",\"subgraph_callable-f0a04bb2-e8bc-41b6-bc6a-b39eaf4c(subgraph_callable-65bfba04-4f80-420a-8df8-d3e09709(...))\",\"subgraph_callable-f0a04bb2-e8bc-41b6-bc6a-b39eaf4c(subgraph_callable-65bfba04-4f80-420a-8df8-d3e09709(...))\",\"_\",\"subgraph_callable-f0a04bb2-e8bc-41b6-bc6a-b39eaf4c(subgraph_callable-65bfba04-4f80-420a-8df8-d3e09709(...))\",\"_\",\"subgraph_callable-f0a04bb2-e8bc-41b6-bc6a-b39eaf4c(subgraph_callable-65bfba04-4f80-420a-8df8-d3e09709(...))\",\"_\",\"subgraph_callable-f0a04bb2-e8bc-41b6-bc6a-b39eaf4c(subgraph_callable-65bfba04-4f80-420a-8df8-d3e09709(...))\",\"_\",\"subgraph_callable-f0a04bb2-e8bc-41b6-bc6a-b39eaf4c(subgraph_callable-65bfba04-4f80-420a-8df8-d3e09709(...))\",\"_\",\"_\",\"subgraph_callable-f0a04bb2-e8bc-41b6-bc6a-b39eaf4c(subgraph_callable-65bfba04-4f80-420a-8df8-d3e09709(...))\",\"subgraph_callable-f0a04bb2-e8bc-41b6-bc6a-b39eaf4c(subgraph_callable-65bfba04-4f80-420a-8df8-d3e09709(...))\",\"_\",\"subgraph_callable-f0a04bb2-e8bc-41b6-bc6a-b39eaf4c(subgraph_callable-65bfba04-4f80-420a-8df8-d3e09709(...))\",\"_\",\"subgraph_callable-f0a04bb2-e8bc-41b6-bc6a-b39eaf4c(subgraph_callable-65bfba04-4f80-420a-8df8-d3e09709(...))\",\"_\",\"subgraph_callable-f0a04bb2-e8bc-41b6-bc6a-b39eaf4c(subgraph_callable-65bfba04-4f80-420a-8df8-d3e09709(...))\",\"_\",\"_\",\"subgraph_callable-f0a04bb2-e8bc-41b6-bc6a-b39eaf4c(subgraph_callable-65bfba04-4f80-420a-8df8-d3e09709(...))\",\"subgraph_callable-f0a04bb2-e8bc-41b6-bc6a-b39eaf4c(subgraph_callable-65bfba04-4f80-420a-8df8-d3e09709(...))\",\"_\",\"subgraph_callable-f0a04bb2-e8bc-41b6-bc6a-b39eaf4c(subgraph_callable-65bfba04-4f80-420a-8df8-d3e09709(...))\",\"_\",\"_\",\"subgraph_callable-f0a04bb2-e8bc-41b6-bc6a-b39eaf4c(subgraph_callable-65bfba04-4f80-420a-8df8-d3e09709(...))\",\"subgraph_callable-f0a04bb2-e8bc-41b6-bc6a-b39eaf4c(subgraph_callable-65bfba04-4f80-420a-8df8-d3e09709(...))\",\"_\",\"subgraph_callable-f0a04bb2-e8bc-41b6-bc6a-b39eaf4c(subgraph_callable-65bfba04-4f80-420a-8df8-d3e09709(...))\",\"_\",\"subgraph_callable-f0a04bb2-e8bc-41b6-bc6a-b39eaf4c(subgraph_callable-65bfba04-4f80-420a-8df8-d3e09709(...))\",\"_\",\"_\",\"subgraph_callable-f0a04bb2-e8bc-41b6-bc6a-b39eaf4c(subgraph_callable-65bfba04-4f80-420a-8df8-d3e09709(...))\",\"subgraph_callable-f0a04bb2-e8bc-41b6-bc6a-b39eaf4c(subgraph_callable-65bfba04-4f80-420a-8df8-d3e09709(...))\",\"_\",\"subgraph_callable-f0a04bb2-e8bc-41b6-bc6a-b39eaf4c(subgraph_callable-65bfba04-4f80-420a-8df8-d3e09709(...))\",\"_\",\"_\",\"subgraph_callable-f0a04bb2-e8bc-41b6-bc6a-b39eaf4c(subgraph_callable-65bfba04-4f80-420a-8df8-d3e09709(...))\",\"subgraph_callable-f0a04bb2-e8bc-41b6-bc6a-b39eaf4c(subgraph_callable-65bfba04-4f80-420a-8df8-d3e09709(...))\",\"_\",\"subgraph_callable-f0a04bb2-e8bc-41b6-bc6a-b39eaf4c(subgraph_callable-65bfba04-4f80-420a-8df8-d3e09709(...))\",\"_\",\"subgraph_callable-f0a04bb2-e8bc-41b6-bc6a-b39eaf4c(subgraph_callable-65bfba04-4f80-420a-8df8-d3e09709(...))\",\"_\",\"mean_combine([_, _])\",\"mean_agg([_, _])\",\"subgraph_callable-f0a04bb2-e8bc-41b6-bc6a-b39eaf4c(subgraph_callable-65bfba04-4f80-420a-8df8-d3e09709(...))\",\"_\",\"mean_combine([_, _])\",\"mean_agg([_, _])\",\"subgraph_callable-f0a04bb2-e8bc-41b6-bc6a-b39eaf4c(subgraph_callable-65bfba04-4f80-420a-8df8-d3e09709(...))\",\"_\",\"mean_combine([_, _])\",\"_\",\"_\",\"mean_agg([_, _])\",\"mean_combine([_, _])\",\"mean_combine([_, _])\",\"subgraph_callable-f0a04bb2-e8bc-41b6-bc6a-b39eaf4c(subgraph_callable-65bfba04-4f80-420a-8df8-d3e09709(...))\",\"mean_agg([_, _])\",\"mean_agg([_, _])\",\"_\",\"subgraph_callable-f0a04bb2-e8bc-41b6-bc6a-b39eaf4c(subgraph_callable-65bfba04-4f80-420a-8df8-d3e09709(...))\",\"subgraph_callable-f0a04bb2-e8bc-41b6-bc6a-b39eaf4c(subgraph_callable-65bfba04-4f80-420a-8df8-d3e09709(...))\",\"mean_combine([_, _])\",\"mean_agg([_, _])\",\"_\",\"subgraph_callable-f0a04bb2-e8bc-41b6-bc6a-b39eaf4c(subgraph_callable-65bfba04-4f80-420a-8df8-d3e09709(...))\",\"mean_combine([_, _])\",\"_\",\"mean_agg([_, _])\",\"mean_combine([_, _])\",\"subgraph_callable-f0a04bb2-e8bc-41b6-bc6a-b39eaf4c(subgraph_callable-65bfba04-4f80-420a-8df8-d3e09709(...))\",\"mean_agg([_, _])\",\"subgraph_callable-f0a04bb2-e8bc-41b6-bc6a-b39eaf4c(subgraph_callable-65bfba04-4f80-420a-8df8-d3e09709(...))\",\"_\",\"mean_combine([_, _])\",\"mean_agg([_, _])\",\"subgraph_callable-f0a04bb2-e8bc-41b6-bc6a-b39eaf4c(subgraph_callable-65bfba04-4f80-420a-8df8-d3e09709(...))\",\"_\",\"mean_combine([_, _])\",\"mean_agg([_, _])\",\"_\",\"subgraph_callable-f0a04bb2-e8bc-41b6-bc6a-b39eaf4c(subgraph_callable-65bfba04-4f80-420a-8df8-d3e09709(...))\",\"mean_combine([_, _])\",\"_\",\"mean_agg([_, _])\",\"mean_combine([_, _])\",\"subgraph_callable-f0a04bb2-e8bc-41b6-bc6a-b39eaf4c(subgraph_callable-65bfba04-4f80-420a-8df8-d3e09709(...))\",\"mean_agg([_, _])\",\"subgraph_callable-f0a04bb2-e8bc-41b6-bc6a-b39eaf4c(subgraph_callable-65bfba04-4f80-420a-8df8-d3e09709(...))\",\"_\",\"_\",\"mean_combine([_, _])\",\"mean_combine([_, _])\",\"mean_agg([_, _])\",\"mean_agg([_, _])\",\"subgraph_callable-f0a04bb2-e8bc-41b6-bc6a-b39eaf4c(subgraph_callable-65bfba04-4f80-420a-8df8-d3e09709(...))\",\"subgraph_callable-f0a04bb2-e8bc-41b6-bc6a-b39eaf4c(subgraph_callable-65bfba04-4f80-420a-8df8-d3e09709(...))\",\"_\",\"mean_combine([_, _])\",\"mean_agg([_, _])\",\"subgraph_callable-f0a04bb2-e8bc-41b6-bc6a-b39eaf4c(subgraph_callable-65bfba04-4f80-420a-8df8-d3e09709(...))\",\"_\",\"mean_combine([_, _])\",\"mean_agg([_, _])\",\"subgraph_callable-f0a04bb2-e8bc-41b6-bc6a-b39eaf4c(subgraph_callable-65bfba04-4f80-420a-8df8-d3e09709(...))\",\"_\",\"mean_combine([_, _])\",\"mean_agg([_, _])\",\"subgraph_callable-f0a04bb2-e8bc-41b6-bc6a-b39eaf4c(subgraph_callable-65bfba04-4f80-420a-8df8-d3e09709(...))\",\"_\",\"mean_combine([_, _])\",\"mean_agg([_, _])\",\"subgraph_callable-f0a04bb2-e8bc-41b6-bc6a-b39eaf4c(subgraph_callable-65bfba04-4f80-420a-8df8-d3e09709(...))\",\"_\",\"mean_combine([_, _])\",\"mean_agg([_, _])\",\"subgraph_callable-f0a04bb2-e8bc-41b6-bc6a-b39eaf4c(subgraph_callable-65bfba04-4f80-420a-8df8-d3e09709(...))\",\"_\",\"_\",\"mean_combine([_, _])\",\"mean_combine([_, _])\",\"mean_agg([_, _])\",\"_\",\"mean_agg([_, _])\",\"subgraph_callable-f0a04bb2-e8bc-41b6-bc6a-b39eaf4c(subgraph_callable-65bfba04-4f80-420a-8df8-d3e09709(...))\",\"mean_combine([_, _])\",\"_\",\"mean_agg([_, _])\",\"mean_combine([_, _])\",\"mean_agg([_, _])\",\"_\",\"mean_combine([_, _])\",\"mean_agg([_, _])\",\"_\",\"mean_combine([_, _])\",\"mean_agg([_, _])\",\"_\",\"mean_combine([_, _])\",\"mean_agg([_, _])\",\"_\",\"mean_combine([_, _])\",\"mean_agg([_, _])\",\"_\",\"_\",\"mean_combine([_, _])\",\"mean_combine([_, _])\",\"mean_agg([_, _])\",\"mean_agg([_, _])\",\"_\",\"mean_combine([_, _])\",\"mean_agg([_, _])\",\"_\",\"mean_combine([_, _])\",\"mean_agg([_, _])\",\"_\",\"mean_combine([_, _])\",\"mean_agg([_, _])\",\"_\",\"mean_combine([_, _])\",\"mean_agg([_, _])\",\"_\",\"mean_combine([_, _])\",\"mean_agg([_, _])\",\"_\",\"mean_combine([_, _])\",\"mean_agg([_, _])\",\"_\",\"mean_combine([_, _])\",\"mean_agg([_, _])\"],\"key\":[\"('from-value-frozen_phonon-concatenate-8074cca8d5f818e4ed80ef919f306eb7', 3)\",\"('from-value-frozen_phonon-concatenate-8074cca8d5f818e4ed80ef919f306eb7', 2)\",\"('from-value-frozen_phonon-concatenate-8074cca8d5f818e4ed80ef919f306eb7', 0)\",\"('from-value-frozen_phonon-concatenate-8074cca8d5f818e4ed80ef919f306eb7', 1)\",\"('concatenate-8074cca8d5f818e4ed80ef919f306eb7', 3)\",\"('concatenate-8074cca8d5f818e4ed80ef919f306eb7', 2)\",\"('concatenate-8074cca8d5f818e4ed80ef919f306eb7', 0)\",\"('concatenate-8074cca8d5f818e4ed80ef919f306eb7', 1)\",\"('diffraction_pattern-integrate_fourier_space-mean_chunk-56f173df10db5940675827bda9085c72', 3, 0, 0)\",\"('diffraction_pattern-integrate_fourier_space-mean_chunk-56f173df10db5940675827bda9085c72', 3, 1, 1)\",\"('diffraction_pattern-integrate_fourier_space-mean_chunk-56f173df10db5940675827bda9085c72', 3, 2, 2)\",\"('diffraction_pattern-integrate_fourier_space-mean_chunk-56f173df10db5940675827bda9085c72', 3, 3, 3)\",\"('diffraction_pattern-integrate_fourier_space-mean_chunk-56f173df10db5940675827bda9085c72', 3, 4, 4)\",\"('diffraction_pattern-integrate_fourier_space-mean_chunk-56f173df10db5940675827bda9085c72', 3, 5, 5)\",\"('diffraction_pattern-integrate_fourier_space-mean_chunk-56f173df10db5940675827bda9085c72', 3, 6, 6)\",\"('diffraction_pattern-integrate_fourier_space-mean_chunk-56f173df10db5940675827bda9085c72', 3, 0, 1)\",\"('diffraction_pattern-integrate_fourier_space-mean_chunk-56f173df10db5940675827bda9085c72', 3, 0, 2)\",\"('diffraction_pattern-integrate_fourier_space-mean_chunk-56f173df10db5940675827bda9085c72', 3, 0, 3)\",\"('diffraction_pattern-integrate_fourier_space-mean_chunk-56f173df10db5940675827bda9085c72', 3, 0, 4)\",\"('diffraction_pattern-integrate_fourier_space-mean_chunk-56f173df10db5940675827bda9085c72', 3, 0, 5)\",\"('diffraction_pattern-integrate_fourier_space-mean_chunk-56f173df10db5940675827bda9085c72', 3, 0, 6)\",\"('diffraction_pattern-integrate_fourier_space-mean_chunk-56f173df10db5940675827bda9085c72', 2, 0, 0)\",\"('diffraction_pattern-integrate_fourier_space-mean_chunk-56f173df10db5940675827bda9085c72', 0, 0, 0)\",\"('diffraction_pattern-integrate_fourier_space-mean_chunk-56f173df10db5940675827bda9085c72', 1, 0, 0)\",\"('mean_chunk-56f173df10db5940675827bda9085c72', 3, 2, 2)\",\"('diffraction_pattern-integrate_fourier_space-mean_chunk-56f173df10db5940675827bda9085c72', 1, 1, 1)\",\"('mean_chunk-56f173df10db5940675827bda9085c72', 3, 6, 6)\",\"('diffraction_pattern-integrate_fourier_space-mean_chunk-56f173df10db5940675827bda9085c72', 1, 2, 2)\",\"('mean_chunk-56f173df10db5940675827bda9085c72', 3, 1, 1)\",\"('diffraction_pattern-integrate_fourier_space-mean_chunk-56f173df10db5940675827bda9085c72', 1, 3, 3)\",\"('mean_chunk-56f173df10db5940675827bda9085c72', 3, 0, 1)\",\"('mean_chunk-56f173df10db5940675827bda9085c72', 3, 0, 0)\",\"('mean_chunk-56f173df10db5940675827bda9085c72', 3, 0, 2)\",\"('mean_chunk-56f173df10db5940675827bda9085c72', 3, 0, 5)\",\"('mean_chunk-56f173df10db5940675827bda9085c72', 1, 0, 0)\",\"('diffraction_pattern-integrate_fourier_space-mean_chunk-56f173df10db5940675827bda9085c72', 1, 4, 4)\",\"('diffraction_pattern-integrate_fourier_space-mean_chunk-56f173df10db5940675827bda9085c72', 1, 5, 5)\",\"('diffraction_pattern-integrate_fourier_space-mean_chunk-56f173df10db5940675827bda9085c72', 1, 6, 6)\",\"('diffraction_pattern-integrate_fourier_space-mean_chunk-56f173df10db5940675827bda9085c72', 1, 0, 1)\",\"('diffraction_pattern-integrate_fourier_space-mean_chunk-56f173df10db5940675827bda9085c72', 1, 0, 2)\",\"('mean_chunk-56f173df10db5940675827bda9085c72', 0, 0, 0)\",\"('mean_chunk-56f173df10db5940675827bda9085c72', 3, 0, 4)\",\"('mean_chunk-56f173df10db5940675827bda9085c72', 3, 0, 3)\",\"('mean_chunk-56f173df10db5940675827bda9085c72', 3, 3, 3)\",\"('mean_chunk-56f173df10db5940675827bda9085c72', 3, 0, 6)\",\"('mean_chunk-56f173df10db5940675827bda9085c72', 2, 0, 0)\",\"('mean_chunk-56f173df10db5940675827bda9085c72', 3, 5, 5)\",\"('mean_combine-partial-4ae18b44f966f7ed5dbc12fa6ca458e1', 0, 0, 0)\",\"('diffraction_pattern-integrate_fourier_space-mean_chunk-56f173df10db5940675827bda9085c72', 1, 0, 3)\",\"('diffraction_pattern-integrate_fourier_space-mean_chunk-56f173df10db5940675827bda9085c72', 1, 0, 4)\",\"('diffraction_pattern-integrate_fourier_space-mean_chunk-56f173df10db5940675827bda9085c72', 1, 0, 5)\",\"('diffraction_pattern-integrate_fourier_space-mean_chunk-56f173df10db5940675827bda9085c72', 1, 0, 6)\",\"('mean_combine-partial-4ae18b44f966f7ed5dbc12fa6ca458e1', 1, 0, 0)\",\"('diffraction_pattern-integrate_fourier_space-mean_chunk-56f173df10db5940675827bda9085c72', 1, 1, 0)\",\"('diffraction_pattern-integrate_fourier_space-mean_chunk-56f173df10db5940675827bda9085c72', 1, 1, 2)\",\"('mean_chunk-56f173df10db5940675827bda9085c72', 3, 4, 4)\",\"('mean_agg-aggregate-f105647598c6c8a04f1b83b7905c8ebd', 0, 0)\",\"('diffraction_pattern-integrate_fourier_space-mean_chunk-56f173df10db5940675827bda9085c72', 1, 1, 3)\",\"('diffraction_pattern-integrate_fourier_space-mean_chunk-56f173df10db5940675827bda9085c72', 1, 1, 4)\",\"('mean_chunk-56f173df10db5940675827bda9085c72', 1, 3, 3)\",\"('diffraction_pattern-integrate_fourier_space-mean_chunk-56f173df10db5940675827bda9085c72', 1, 1, 5)\",\"('mean_chunk-56f173df10db5940675827bda9085c72', 1, 1, 1)\",\"('diffraction_pattern-integrate_fourier_space-mean_chunk-56f173df10db5940675827bda9085c72', 1, 1, 6)\",\"('mean_chunk-56f173df10db5940675827bda9085c72', 1, 0, 1)\",\"('mean_chunk-56f173df10db5940675827bda9085c72', 1, 2, 2)\",\"('diffraction_pattern-integrate_fourier_space-mean_chunk-56f173df10db5940675827bda9085c72', 1, 2, 0)\",\"('diffraction_pattern-integrate_fourier_space-mean_chunk-56f173df10db5940675827bda9085c72', 1, 2, 1)\",\"('mean_chunk-56f173df10db5940675827bda9085c72', 1, 4, 4)\",\"('mean_chunk-56f173df10db5940675827bda9085c72', 1, 5, 5)\",\"('mean_chunk-56f173df10db5940675827bda9085c72', 1, 0, 3)\",\"('diffraction_pattern-integrate_fourier_space-mean_chunk-56f173df10db5940675827bda9085c72', 1, 2, 3)\",\"('mean_chunk-56f173df10db5940675827bda9085c72', 1, 0, 2)\",\"('diffraction_pattern-integrate_fourier_space-mean_chunk-56f173df10db5940675827bda9085c72', 1, 2, 4)\",\"('diffraction_pattern-integrate_fourier_space-mean_chunk-56f173df10db5940675827bda9085c72', 1, 2, 5)\",\"('diffraction_pattern-integrate_fourier_space-mean_chunk-56f173df10db5940675827bda9085c72', 1, 2, 6)\",\"('mean_chunk-56f173df10db5940675827bda9085c72', 1, 6, 6)\",\"('mean_chunk-56f173df10db5940675827bda9085c72', 1, 0, 4)\",\"('mean_chunk-56f173df10db5940675827bda9085c72', 1, 1, 0)\",\"('diffraction_pattern-integrate_fourier_space-mean_chunk-56f173df10db5940675827bda9085c72', 1, 3, 0)\",\"('mean_chunk-56f173df10db5940675827bda9085c72', 1, 1, 3)\",\"('diffraction_pattern-integrate_fourier_space-mean_chunk-56f173df10db5940675827bda9085c72', 1, 3, 1)\",\"('diffraction_pattern-integrate_fourier_space-mean_chunk-56f173df10db5940675827bda9085c72', 1, 3, 2)\",\"('mean_chunk-56f173df10db5940675827bda9085c72', 1, 0, 6)\",\"('mean_chunk-56f173df10db5940675827bda9085c72', 1, 0, 5)\",\"('diffraction_pattern-integrate_fourier_space-mean_chunk-56f173df10db5940675827bda9085c72', 1, 3, 4)\",\"('diffraction_pattern-integrate_fourier_space-mean_chunk-56f173df10db5940675827bda9085c72', 1, 3, 5)\",\"('mean_chunk-56f173df10db5940675827bda9085c72', 1, 1, 2)\",\"('diffraction_pattern-integrate_fourier_space-mean_chunk-56f173df10db5940675827bda9085c72', 1, 3, 6)\",\"('mean_chunk-56f173df10db5940675827bda9085c72', 1, 1, 4)\",\"('diffraction_pattern-integrate_fourier_space-mean_chunk-56f173df10db5940675827bda9085c72', 1, 4, 0)\",\"('diffraction_pattern-integrate_fourier_space-mean_chunk-56f173df10db5940675827bda9085c72', 1, 4, 1)\",\"('mean_chunk-56f173df10db5940675827bda9085c72', 1, 1, 6)\",\"('diffraction_pattern-integrate_fourier_space-mean_chunk-56f173df10db5940675827bda9085c72', 1, 4, 2)\",\"('mean_chunk-56f173df10db5940675827bda9085c72', 1, 1, 5)\",\"('diffraction_pattern-integrate_fourier_space-mean_chunk-56f173df10db5940675827bda9085c72', 1, 4, 3)\",\"('mean_chunk-56f173df10db5940675827bda9085c72', 1, 2, 4)\",\"('mean_chunk-56f173df10db5940675827bda9085c72', 1, 2, 0)\",\"('diffraction_pattern-integrate_fourier_space-mean_chunk-56f173df10db5940675827bda9085c72', 1, 4, 5)\",\"('diffraction_pattern-integrate_fourier_space-mean_chunk-56f173df10db5940675827bda9085c72', 1, 4, 6)\",\"('mean_chunk-56f173df10db5940675827bda9085c72', 1, 2, 5)\",\"('mean_chunk-56f173df10db5940675827bda9085c72', 1, 2, 1)\",\"('diffraction_pattern-integrate_fourier_space-mean_chunk-56f173df10db5940675827bda9085c72', 1, 5, 0)\",\"('diffraction_pattern-integrate_fourier_space-mean_chunk-56f173df10db5940675827bda9085c72', 1, 5, 1)\",\"('mean_chunk-56f173df10db5940675827bda9085c72', 1, 2, 3)\",\"('mean_chunk-56f173df10db5940675827bda9085c72', 1, 2, 6)\",\"('diffraction_pattern-integrate_fourier_space-mean_chunk-56f173df10db5940675827bda9085c72', 1, 5, 2)\",\"('diffraction_pattern-integrate_fourier_space-mean_chunk-56f173df10db5940675827bda9085c72', 1, 5, 3)\",\"('mean_chunk-56f173df10db5940675827bda9085c72', 1, 3, 0)\",\"('diffraction_pattern-integrate_fourier_space-mean_chunk-56f173df10db5940675827bda9085c72', 1, 5, 4)\",\"('mean_chunk-56f173df10db5940675827bda9085c72', 1, 3, 2)\",\"('mean_chunk-56f173df10db5940675827bda9085c72', 1, 3, 5)\",\"('diffraction_pattern-integrate_fourier_space-mean_chunk-56f173df10db5940675827bda9085c72', 1, 5, 6)\",\"('mean_chunk-56f173df10db5940675827bda9085c72', 1, 3, 1)\",\"('diffraction_pattern-integrate_fourier_space-mean_chunk-56f173df10db5940675827bda9085c72', 1, 6, 0)\",\"('mean_chunk-56f173df10db5940675827bda9085c72', 1, 3, 6)\",\"('mean_chunk-56f173df10db5940675827bda9085c72', 1, 4, 0)\",\"('diffraction_pattern-integrate_fourier_space-mean_chunk-56f173df10db5940675827bda9085c72', 1, 6, 1)\",\"('mean_chunk-56f173df10db5940675827bda9085c72', 1, 4, 1)\",\"('mean_chunk-56f173df10db5940675827bda9085c72', 1, 3, 4)\",\"('diffraction_pattern-integrate_fourier_space-mean_chunk-56f173df10db5940675827bda9085c72', 1, 6, 2)\",\"('diffraction_pattern-integrate_fourier_space-mean_chunk-56f173df10db5940675827bda9085c72', 1, 6, 3)\",\"('diffraction_pattern-integrate_fourier_space-mean_chunk-56f173df10db5940675827bda9085c72', 1, 6, 4)\",\"('diffraction_pattern-integrate_fourier_space-mean_chunk-56f173df10db5940675827bda9085c72', 1, 6, 5)\",\"('mean_chunk-56f173df10db5940675827bda9085c72', 1, 4, 2)\",\"('diffraction_pattern-integrate_fourier_space-mean_chunk-56f173df10db5940675827bda9085c72', 0, 1, 1)\",\"('mean_chunk-56f173df10db5940675827bda9085c72', 1, 4, 3)\",\"('diffraction_pattern-integrate_fourier_space-mean_chunk-56f173df10db5940675827bda9085c72', 0, 2, 2)\",\"('mean_chunk-56f173df10db5940675827bda9085c72', 1, 4, 6)\",\"('diffraction_pattern-integrate_fourier_space-mean_chunk-56f173df10db5940675827bda9085c72', 0, 3, 3)\",\"('mean_chunk-56f173df10db5940675827bda9085c72', 1, 5, 1)\",\"('mean_chunk-56f173df10db5940675827bda9085c72', 1, 5, 2)\",\"('mean_chunk-56f173df10db5940675827bda9085c72', 1, 4, 5)\",\"('diffraction_pattern-integrate_fourier_space-mean_chunk-56f173df10db5940675827bda9085c72', 0, 4, 4)\",\"('diffraction_pattern-integrate_fourier_space-mean_chunk-56f173df10db5940675827bda9085c72', 0, 5, 5)\",\"('diffraction_pattern-integrate_fourier_space-mean_chunk-56f173df10db5940675827bda9085c72', 0, 6, 6)\",\"('mean_chunk-56f173df10db5940675827bda9085c72', 1, 6, 5)\",\"('mean_chunk-56f173df10db5940675827bda9085c72', 1, 6, 0)\",\"('mean_chunk-56f173df10db5940675827bda9085c72', 1, 5, 0)\",\"('diffraction_pattern-integrate_fourier_space-mean_chunk-56f173df10db5940675827bda9085c72', 0, 0, 1)\",\"('diffraction_pattern-integrate_fourier_space-mean_chunk-56f173df10db5940675827bda9085c72', 0, 0, 2)\",\"('diffraction_pattern-integrate_fourier_space-mean_chunk-56f173df10db5940675827bda9085c72', 0, 0, 3)\",\"('mean_chunk-56f173df10db5940675827bda9085c72', 1, 5, 4)\",\"('mean_chunk-56f173df10db5940675827bda9085c72', 1, 5, 3)\",\"('diffraction_pattern-integrate_fourier_space-mean_chunk-56f173df10db5940675827bda9085c72', 0, 0, 4)\",\"('diffraction_pattern-integrate_fourier_space-mean_chunk-56f173df10db5940675827bda9085c72', 0, 0, 5)\",\"('mean_chunk-56f173df10db5940675827bda9085c72', 1, 5, 6)\",\"('mean_chunk-56f173df10db5940675827bda9085c72', 1, 6, 2)\",\"('mean_chunk-56f173df10db5940675827bda9085c72', 1, 6, 1)\",\"('mean_chunk-56f173df10db5940675827bda9085c72', 1, 6, 3)\",\"('mean_chunk-56f173df10db5940675827bda9085c72', 1, 6, 4)\",\"('diffraction_pattern-integrate_fourier_space-mean_chunk-56f173df10db5940675827bda9085c72', 0, 0, 6)\",\"('diffraction_pattern-integrate_fourier_space-mean_chunk-56f173df10db5940675827bda9085c72', 0, 1, 0)\",\"('diffraction_pattern-integrate_fourier_space-mean_chunk-56f173df10db5940675827bda9085c72', 0, 1, 2)\",\"('diffraction_pattern-integrate_fourier_space-mean_chunk-56f173df10db5940675827bda9085c72', 0, 1, 3)\",\"('diffraction_pattern-integrate_fourier_space-mean_chunk-56f173df10db5940675827bda9085c72', 0, 1, 4)\",\"('mean_chunk-56f173df10db5940675827bda9085c72', 0, 1, 1)\",\"('mean_combine-partial-4ae18b44f966f7ed5dbc12fa6ca458e1', 0, 1, 1)\",\"('diffraction_pattern-integrate_fourier_space-mean_chunk-56f173df10db5940675827bda9085c72', 0, 1, 5)\",\"('mean_chunk-56f173df10db5940675827bda9085c72', 0, 2, 2)\",\"('mean_combine-partial-4ae18b44f966f7ed5dbc12fa6ca458e1', 0, 2, 2)\",\"('diffraction_pattern-integrate_fourier_space-mean_chunk-56f173df10db5940675827bda9085c72', 0, 1, 6)\",\"('mean_chunk-56f173df10db5940675827bda9085c72', 0, 3, 3)\",\"('mean_combine-partial-4ae18b44f966f7ed5dbc12fa6ca458e1', 0, 3, 3)\",\"('diffraction_pattern-integrate_fourier_space-mean_chunk-56f173df10db5940675827bda9085c72', 0, 2, 0)\",\"('mean_chunk-56f173df10db5940675827bda9085c72', 0, 6, 6)\",\"('mean_combine-partial-4ae18b44f966f7ed5dbc12fa6ca458e1', 0, 6, 6)\",\"('diffraction_pattern-integrate_fourier_space-mean_chunk-56f173df10db5940675827bda9085c72', 0, 2, 1)\",\"('mean_chunk-56f173df10db5940675827bda9085c72', 0, 4, 4)\",\"('mean_chunk-56f173df10db5940675827bda9085c72', 0, 0, 1)\",\"('mean_chunk-56f173df10db5940675827bda9085c72', 0, 0, 2)\",\"('mean_chunk-56f173df10db5940675827bda9085c72', 0, 0, 3)\",\"('mean_combine-partial-4ae18b44f966f7ed5dbc12fa6ca458e1', 0, 4, 4)\",\"('mean_chunk-56f173df10db5940675827bda9085c72', 0, 5, 5)\",\"('mean_combine-partial-4ae18b44f966f7ed5dbc12fa6ca458e1', 0, 0, 1)\",\"('mean_chunk-56f173df10db5940675827bda9085c72', 0, 1, 0)\",\"('mean_combine-partial-4ae18b44f966f7ed5dbc12fa6ca458e1', 0, 0, 2)\",\"('mean_combine-partial-4ae18b44f966f7ed5dbc12fa6ca458e1', 0, 0, 3)\",\"('mean_combine-partial-4ae18b44f966f7ed5dbc12fa6ca458e1', 0, 5, 5)\",\"('diffraction_pattern-integrate_fourier_space-mean_chunk-56f173df10db5940675827bda9085c72', 0, 2, 3)\",\"('diffraction_pattern-integrate_fourier_space-mean_chunk-56f173df10db5940675827bda9085c72', 0, 2, 4)\",\"('mean_combine-partial-4ae18b44f966f7ed5dbc12fa6ca458e1', 0, 1, 0)\",\"('mean_chunk-56f173df10db5940675827bda9085c72', 0, 1, 4)\",\"('diffraction_pattern-integrate_fourier_space-mean_chunk-56f173df10db5940675827bda9085c72', 0, 2, 5)\",\"('diffraction_pattern-integrate_fourier_space-mean_chunk-56f173df10db5940675827bda9085c72', 0, 2, 6)\",\"('diffraction_pattern-integrate_fourier_space-mean_chunk-56f173df10db5940675827bda9085c72', 0, 3, 0)\",\"('mean_chunk-56f173df10db5940675827bda9085c72', 0, 1, 2)\",\"('diffraction_pattern-integrate_fourier_space-mean_chunk-56f173df10db5940675827bda9085c72', 0, 3, 1)\",\"('mean_combine-partial-4ae18b44f966f7ed5dbc12fa6ca458e1', 0, 1, 4)\",\"('mean_combine-partial-4ae18b44f966f7ed5dbc12fa6ca458e1', 0, 1, 2)\",\"('mean_chunk-56f173df10db5940675827bda9085c72', 0, 0, 4)\",\"('diffraction_pattern-integrate_fourier_space-mean_chunk-56f173df10db5940675827bda9085c72', 0, 3, 2)\",\"('mean_combine-partial-4ae18b44f966f7ed5dbc12fa6ca458e1', 0, 0, 4)\",\"('diffraction_pattern-integrate_fourier_space-mean_chunk-56f173df10db5940675827bda9085c72', 0, 3, 4)\",\"('mean_chunk-56f173df10db5940675827bda9085c72', 0, 0, 5)\",\"('diffraction_pattern-integrate_fourier_space-mean_chunk-56f173df10db5940675827bda9085c72', 0, 3, 5)\",\"('mean_combine-partial-4ae18b44f966f7ed5dbc12fa6ca458e1', 0, 0, 5)\",\"('diffraction_pattern-integrate_fourier_space-mean_chunk-56f173df10db5940675827bda9085c72', 0, 3, 6)\",\"('mean_chunk-56f173df10db5940675827bda9085c72', 0, 1, 3)\",\"('mean_chunk-56f173df10db5940675827bda9085c72', 0, 0, 6)\",\"('mean_combine-partial-4ae18b44f966f7ed5dbc12fa6ca458e1', 0, 1, 3)\",\"('mean_combine-partial-4ae18b44f966f7ed5dbc12fa6ca458e1', 0, 0, 6)\",\"('diffraction_pattern-integrate_fourier_space-mean_chunk-56f173df10db5940675827bda9085c72', 0, 4, 0)\",\"('diffraction_pattern-integrate_fourier_space-mean_chunk-56f173df10db5940675827bda9085c72', 0, 4, 1)\",\"('mean_chunk-56f173df10db5940675827bda9085c72', 0, 1, 5)\",\"('mean_combine-partial-4ae18b44f966f7ed5dbc12fa6ca458e1', 0, 1, 5)\",\"('diffraction_pattern-integrate_fourier_space-mean_chunk-56f173df10db5940675827bda9085c72', 0, 4, 2)\",\"('mean_chunk-56f173df10db5940675827bda9085c72', 0, 1, 6)\",\"('mean_combine-partial-4ae18b44f966f7ed5dbc12fa6ca458e1', 0, 1, 6)\",\"('diffraction_pattern-integrate_fourier_space-mean_chunk-56f173df10db5940675827bda9085c72', 0, 4, 3)\",\"('mean_chunk-56f173df10db5940675827bda9085c72', 0, 2, 0)\",\"('mean_combine-partial-4ae18b44f966f7ed5dbc12fa6ca458e1', 0, 2, 0)\",\"('diffraction_pattern-integrate_fourier_space-mean_chunk-56f173df10db5940675827bda9085c72', 0, 4, 5)\",\"('mean_chunk-56f173df10db5940675827bda9085c72', 0, 2, 1)\",\"('mean_combine-partial-4ae18b44f966f7ed5dbc12fa6ca458e1', 0, 2, 1)\",\"('diffraction_pattern-integrate_fourier_space-mean_chunk-56f173df10db5940675827bda9085c72', 0, 4, 6)\",\"('mean_chunk-56f173df10db5940675827bda9085c72', 0, 2, 6)\",\"('mean_chunk-56f173df10db5940675827bda9085c72', 0, 3, 5)\",\"('mean_combine-partial-4ae18b44f966f7ed5dbc12fa6ca458e1', 0, 2, 6)\",\"('mean_combine-partial-4ae18b44f966f7ed5dbc12fa6ca458e1', 0, 3, 5)\",\"('diffraction_pattern-integrate_fourier_space-mean_chunk-56f173df10db5940675827bda9085c72', 0, 5, 0)\",\"('diffraction_pattern-integrate_fourier_space-mean_chunk-56f173df10db5940675827bda9085c72', 0, 5, 1)\",\"('mean_chunk-56f173df10db5940675827bda9085c72', 0, 2, 4)\",\"('mean_chunk-56f173df10db5940675827bda9085c72', 0, 2, 5)\",\"('mean_combine-partial-4ae18b44f966f7ed5dbc12fa6ca458e1', 0, 2, 4)\",\"('mean_chunk-56f173df10db5940675827bda9085c72', 0, 3, 4)\",\"('mean_combine-partial-4ae18b44f966f7ed5dbc12fa6ca458e1', 0, 2, 5)\",\"('diffraction_pattern-integrate_fourier_space-mean_chunk-56f173df10db5940675827bda9085c72', 0, 5, 2)\",\"('mean_combine-partial-4ae18b44f966f7ed5dbc12fa6ca458e1', 0, 3, 4)\",\"('diffraction_pattern-integrate_fourier_space-mean_chunk-56f173df10db5940675827bda9085c72', 0, 5, 3)\",\"('mean_chunk-56f173df10db5940675827bda9085c72', 0, 3, 6)\",\"('mean_chunk-56f173df10db5940675827bda9085c72', 0, 3, 1)\",\"('diffraction_pattern-integrate_fourier_space-mean_chunk-56f173df10db5940675827bda9085c72', 0, 5, 4)\",\"('mean_chunk-56f173df10db5940675827bda9085c72', 0, 2, 3)\",\"('mean_chunk-56f173df10db5940675827bda9085c72', 0, 3, 2)\",\"('mean_chunk-56f173df10db5940675827bda9085c72', 0, 4, 1)\",\"('mean_combine-partial-4ae18b44f966f7ed5dbc12fa6ca458e1', 0, 3, 6)\",\"('mean_chunk-56f173df10db5940675827bda9085c72', 0, 3, 0)\",\"('mean_combine-partial-4ae18b44f966f7ed5dbc12fa6ca458e1', 0, 3, 1)\",\"('mean_combine-partial-4ae18b44f966f7ed5dbc12fa6ca458e1', 0, 2, 3)\",\"('mean_combine-partial-4ae18b44f966f7ed5dbc12fa6ca458e1', 0, 3, 2)\",\"('mean_combine-partial-4ae18b44f966f7ed5dbc12fa6ca458e1', 0, 4, 1)\",\"('diffraction_pattern-integrate_fourier_space-mean_chunk-56f173df10db5940675827bda9085c72', 0, 5, 6)\",\"('mean_combine-partial-4ae18b44f966f7ed5dbc12fa6ca458e1', 0, 3, 0)\",\"('diffraction_pattern-integrate_fourier_space-mean_chunk-56f173df10db5940675827bda9085c72', 0, 6, 0)\",\"('mean_chunk-56f173df10db5940675827bda9085c72', 0, 4, 0)\",\"('diffraction_pattern-integrate_fourier_space-mean_chunk-56f173df10db5940675827bda9085c72', 0, 6, 1)\",\"('diffraction_pattern-integrate_fourier_space-mean_chunk-56f173df10db5940675827bda9085c72', 0, 6, 2)\",\"('diffraction_pattern-integrate_fourier_space-mean_chunk-56f173df10db5940675827bda9085c72', 0, 6, 3)\",\"('diffraction_pattern-integrate_fourier_space-mean_chunk-56f173df10db5940675827bda9085c72', 0, 6, 4)\",\"('mean_combine-partial-4ae18b44f966f7ed5dbc12fa6ca458e1', 0, 4, 0)\",\"('diffraction_pattern-integrate_fourier_space-mean_chunk-56f173df10db5940675827bda9085c72', 0, 6, 5)\",\"('mean_chunk-56f173df10db5940675827bda9085c72', 0, 4, 2)\",\"('mean_chunk-56f173df10db5940675827bda9085c72', 0, 4, 3)\",\"('mean_combine-partial-4ae18b44f966f7ed5dbc12fa6ca458e1', 0, 4, 2)\",\"('mean_combine-partial-4ae18b44f966f7ed5dbc12fa6ca458e1', 0, 4, 3)\",\"('diffraction_pattern-integrate_fourier_space-mean_chunk-56f173df10db5940675827bda9085c72', 2, 1, 1)\",\"('diffraction_pattern-integrate_fourier_space-mean_chunk-56f173df10db5940675827bda9085c72', 2, 2, 2)\",\"('mean_chunk-56f173df10db5940675827bda9085c72', 0, 4, 5)\",\"('mean_combine-partial-4ae18b44f966f7ed5dbc12fa6ca458e1', 0, 4, 5)\",\"('diffraction_pattern-integrate_fourier_space-mean_chunk-56f173df10db5940675827bda9085c72', 2, 3, 3)\",\"('mean_chunk-56f173df10db5940675827bda9085c72', 0, 4, 6)\",\"('mean_combine-partial-4ae18b44f966f7ed5dbc12fa6ca458e1', 0, 4, 6)\",\"('diffraction_pattern-integrate_fourier_space-mean_chunk-56f173df10db5940675827bda9085c72', 2, 4, 4)\",\"('mean_chunk-56f173df10db5940675827bda9085c72', 0, 5, 0)\",\"('mean_chunk-56f173df10db5940675827bda9085c72', 0, 5, 1)\",\"('mean_combine-partial-4ae18b44f966f7ed5dbc12fa6ca458e1', 0, 5, 0)\",\"('mean_combine-partial-4ae18b44f966f7ed5dbc12fa6ca458e1', 0, 5, 1)\",\"('diffraction_pattern-integrate_fourier_space-mean_chunk-56f173df10db5940675827bda9085c72', 2, 5, 5)\",\"('diffraction_pattern-integrate_fourier_space-mean_chunk-56f173df10db5940675827bda9085c72', 2, 6, 6)\",\"('mean_chunk-56f173df10db5940675827bda9085c72', 0, 5, 3)\",\"('mean_chunk-56f173df10db5940675827bda9085c72', 0, 5, 2)\",\"('mean_combine-partial-4ae18b44f966f7ed5dbc12fa6ca458e1', 0, 5, 3)\",\"('mean_combine-partial-4ae18b44f966f7ed5dbc12fa6ca458e1', 0, 5, 2)\",\"('diffraction_pattern-integrate_fourier_space-mean_chunk-56f173df10db5940675827bda9085c72', 2, 0, 1)\",\"('diffraction_pattern-integrate_fourier_space-mean_chunk-56f173df10db5940675827bda9085c72', 2, 0, 2)\",\"('mean_chunk-56f173df10db5940675827bda9085c72', 0, 5, 4)\",\"('mean_combine-partial-4ae18b44f966f7ed5dbc12fa6ca458e1', 0, 5, 4)\",\"('diffraction_pattern-integrate_fourier_space-mean_chunk-56f173df10db5940675827bda9085c72', 2, 0, 3)\",\"('mean_chunk-56f173df10db5940675827bda9085c72', 0, 6, 2)\",\"('mean_chunk-56f173df10db5940675827bda9085c72', 0, 5, 6)\",\"('mean_combine-partial-4ae18b44f966f7ed5dbc12fa6ca458e1', 0, 6, 2)\",\"('mean_combine-partial-4ae18b44f966f7ed5dbc12fa6ca458e1', 0, 5, 6)\",\"('diffraction_pattern-integrate_fourier_space-mean_chunk-56f173df10db5940675827bda9085c72', 2, 0, 4)\",\"('diffraction_pattern-integrate_fourier_space-mean_chunk-56f173df10db5940675827bda9085c72', 2, 0, 5)\",\"('mean_chunk-56f173df10db5940675827bda9085c72', 0, 6, 3)\",\"('mean_chunk-56f173df10db5940675827bda9085c72', 0, 6, 5)\",\"('mean_chunk-56f173df10db5940675827bda9085c72', 0, 6, 0)\",\"('mean_combine-partial-4ae18b44f966f7ed5dbc12fa6ca458e1', 0, 6, 3)\",\"('mean_combine-partial-4ae18b44f966f7ed5dbc12fa6ca458e1', 0, 6, 5)\",\"('mean_combine-partial-4ae18b44f966f7ed5dbc12fa6ca458e1', 0, 6, 0)\",\"('diffraction_pattern-integrate_fourier_space-mean_chunk-56f173df10db5940675827bda9085c72', 2, 0, 6)\",\"('mean_chunk-56f173df10db5940675827bda9085c72', 0, 6, 4)\",\"('diffraction_pattern-integrate_fourier_space-mean_chunk-56f173df10db5940675827bda9085c72', 2, 1, 0)\",\"('diffraction_pattern-integrate_fourier_space-mean_chunk-56f173df10db5940675827bda9085c72', 2, 1, 2)\",\"('mean_chunk-56f173df10db5940675827bda9085c72', 0, 6, 1)\",\"('mean_combine-partial-4ae18b44f966f7ed5dbc12fa6ca458e1', 0, 6, 4)\",\"('mean_combine-partial-4ae18b44f966f7ed5dbc12fa6ca458e1', 0, 6, 1)\",\"('diffraction_pattern-integrate_fourier_space-mean_chunk-56f173df10db5940675827bda9085c72', 2, 1, 3)\",\"('diffraction_pattern-integrate_fourier_space-mean_chunk-56f173df10db5940675827bda9085c72', 2, 1, 4)\",\"('mean_chunk-56f173df10db5940675827bda9085c72', 2, 1, 1)\",\"('mean_combine-partial-4ae18b44f966f7ed5dbc12fa6ca458e1', 1, 1, 1)\",\"('mean_agg-aggregate-f105647598c6c8a04f1b83b7905c8ebd', 1, 1)\",\"('diffraction_pattern-integrate_fourier_space-mean_chunk-56f173df10db5940675827bda9085c72', 2, 1, 5)\",\"('mean_chunk-56f173df10db5940675827bda9085c72', 2, 2, 2)\",\"('mean_combine-partial-4ae18b44f966f7ed5dbc12fa6ca458e1', 1, 2, 2)\",\"('mean_agg-aggregate-f105647598c6c8a04f1b83b7905c8ebd', 2, 2)\",\"('diffraction_pattern-integrate_fourier_space-mean_chunk-56f173df10db5940675827bda9085c72', 2, 1, 6)\",\"('mean_chunk-56f173df10db5940675827bda9085c72', 2, 4, 4)\",\"('mean_chunk-56f173df10db5940675827bda9085c72', 2, 3, 3)\",\"('mean_combine-partial-4ae18b44f966f7ed5dbc12fa6ca458e1', 1, 4, 4)\",\"('mean_combine-partial-4ae18b44f966f7ed5dbc12fa6ca458e1', 1, 3, 3)\",\"('mean_chunk-56f173df10db5940675827bda9085c72', 2, 6, 6)\",\"('mean_agg-aggregate-f105647598c6c8a04f1b83b7905c8ebd', 4, 4)\",\"('mean_agg-aggregate-f105647598c6c8a04f1b83b7905c8ebd', 3, 3)\",\"('mean_combine-partial-4ae18b44f966f7ed5dbc12fa6ca458e1', 1, 6, 6)\",\"('diffraction_pattern-integrate_fourier_space-mean_chunk-56f173df10db5940675827bda9085c72', 2, 2, 0)\",\"('diffraction_pattern-integrate_fourier_space-mean_chunk-56f173df10db5940675827bda9085c72', 2, 2, 1)\",\"('mean_agg-aggregate-f105647598c6c8a04f1b83b7905c8ebd', 6, 6)\",\"('diffraction_pattern-integrate_fourier_space-mean_chunk-56f173df10db5940675827bda9085c72', 2, 2, 3)\",\"('mean_chunk-56f173df10db5940675827bda9085c72', 2, 0, 1)\",\"('mean_combine-partial-4ae18b44f966f7ed5dbc12fa6ca458e1', 1, 0, 1)\",\"('mean_chunk-56f173df10db5940675827bda9085c72', 2, 0, 3)\",\"('mean_chunk-56f173df10db5940675827bda9085c72', 2, 0, 2)\",\"('mean_agg-aggregate-f105647598c6c8a04f1b83b7905c8ebd', 0, 1)\",\"('mean_combine-partial-4ae18b44f966f7ed5dbc12fa6ca458e1', 1, 0, 3)\",\"('mean_combine-partial-4ae18b44f966f7ed5dbc12fa6ca458e1', 1, 0, 2)\",\"('diffraction_pattern-integrate_fourier_space-mean_chunk-56f173df10db5940675827bda9085c72', 2, 2, 4)\",\"('mean_agg-aggregate-f105647598c6c8a04f1b83b7905c8ebd', 0, 3)\",\"('mean_agg-aggregate-f105647598c6c8a04f1b83b7905c8ebd', 0, 2)\",\"('diffraction_pattern-integrate_fourier_space-mean_chunk-56f173df10db5940675827bda9085c72', 2, 2, 5)\",\"('mean_chunk-56f173df10db5940675827bda9085c72', 2, 0, 6)\",\"('diffraction_pattern-integrate_fourier_space-mean_chunk-56f173df10db5940675827bda9085c72', 2, 2, 6)\",\"('mean_combine-partial-4ae18b44f966f7ed5dbc12fa6ca458e1', 1, 0, 6)\",\"('mean_agg-aggregate-f105647598c6c8a04f1b83b7905c8ebd', 0, 6)\",\"('diffraction_pattern-integrate_fourier_space-mean_chunk-56f173df10db5940675827bda9085c72', 2, 3, 0)\",\"('mean_chunk-56f173df10db5940675827bda9085c72', 2, 0, 5)\",\"('mean_chunk-56f173df10db5940675827bda9085c72', 2, 1, 2)\",\"('mean_chunk-56f173df10db5940675827bda9085c72', 2, 5, 5)\",\"('mean_combine-partial-4ae18b44f966f7ed5dbc12fa6ca458e1', 1, 0, 5)\",\"('mean_chunk-56f173df10db5940675827bda9085c72', 2, 0, 4)\",\"('diffraction_pattern-integrate_fourier_space-mean_chunk-56f173df10db5940675827bda9085c72', 2, 3, 1)\",\"('mean_combine-partial-4ae18b44f966f7ed5dbc12fa6ca458e1', 1, 5, 5)\",\"('mean_agg-aggregate-f105647598c6c8a04f1b83b7905c8ebd', 0, 5)\",\"('mean_combine-partial-4ae18b44f966f7ed5dbc12fa6ca458e1', 1, 0, 4)\",\"('mean_agg-aggregate-f105647598c6c8a04f1b83b7905c8ebd', 5, 5)\",\"('mean_agg-aggregate-f105647598c6c8a04f1b83b7905c8ebd', 0, 4)\",\"('diffraction_pattern-integrate_fourier_space-mean_chunk-56f173df10db5940675827bda9085c72', 2, 3, 2)\",\"('diffraction_pattern-integrate_fourier_space-mean_chunk-56f173df10db5940675827bda9085c72', 2, 3, 4)\",\"('diffraction_pattern-integrate_fourier_space-mean_chunk-56f173df10db5940675827bda9085c72', 2, 3, 5)\",\"('mean_chunk-56f173df10db5940675827bda9085c72', 2, 1, 0)\",\"('diffraction_pattern-integrate_fourier_space-mean_chunk-56f173df10db5940675827bda9085c72', 2, 3, 6)\",\"('mean_chunk-56f173df10db5940675827bda9085c72', 2, 1, 3)\",\"('mean_chunk-56f173df10db5940675827bda9085c72', 2, 1, 4)\",\"('diffraction_pattern-integrate_fourier_space-mean_chunk-56f173df10db5940675827bda9085c72', 2, 4, 0)\",\"('diffraction_pattern-integrate_fourier_space-mean_chunk-56f173df10db5940675827bda9085c72', 2, 4, 1)\",\"('mean_chunk-56f173df10db5940675827bda9085c72', 2, 1, 6)\",\"('diffraction_pattern-integrate_fourier_space-mean_chunk-56f173df10db5940675827bda9085c72', 2, 4, 2)\",\"('mean_chunk-56f173df10db5940675827bda9085c72', 2, 1, 5)\",\"('diffraction_pattern-integrate_fourier_space-mean_chunk-56f173df10db5940675827bda9085c72', 2, 4, 3)\",\"('mean_chunk-56f173df10db5940675827bda9085c72', 2, 2, 0)\",\"('mean_chunk-56f173df10db5940675827bda9085c72', 2, 2, 3)\",\"('diffraction_pattern-integrate_fourier_space-mean_chunk-56f173df10db5940675827bda9085c72', 2, 4, 5)\",\"('diffraction_pattern-integrate_fourier_space-mean_chunk-56f173df10db5940675827bda9085c72', 2, 4, 6)\",\"('mean_chunk-56f173df10db5940675827bda9085c72', 2, 2, 6)\",\"('mean_chunk-56f173df10db5940675827bda9085c72', 2, 2, 5)\",\"('diffraction_pattern-integrate_fourier_space-mean_chunk-56f173df10db5940675827bda9085c72', 2, 5, 0)\",\"('diffraction_pattern-integrate_fourier_space-mean_chunk-56f173df10db5940675827bda9085c72', 2, 5, 1)\",\"('mean_chunk-56f173df10db5940675827bda9085c72', 2, 2, 1)\",\"('diffraction_pattern-integrate_fourier_space-mean_chunk-56f173df10db5940675827bda9085c72', 2, 5, 2)\",\"('mean_chunk-56f173df10db5940675827bda9085c72', 2, 2, 4)\",\"('mean_chunk-56f173df10db5940675827bda9085c72', 2, 3, 4)\",\"('diffraction_pattern-integrate_fourier_space-mean_chunk-56f173df10db5940675827bda9085c72', 2, 5, 3)\",\"('diffraction_pattern-integrate_fourier_space-mean_chunk-56f173df10db5940675827bda9085c72', 2, 5, 4)\",\"('mean_chunk-56f173df10db5940675827bda9085c72', 2, 3, 0)\",\"('diffraction_pattern-integrate_fourier_space-mean_chunk-56f173df10db5940675827bda9085c72', 2, 5, 6)\",\"('mean_chunk-56f173df10db5940675827bda9085c72', 2, 3, 1)\",\"('diffraction_pattern-integrate_fourier_space-mean_chunk-56f173df10db5940675827bda9085c72', 2, 6, 0)\",\"('mean_chunk-56f173df10db5940675827bda9085c72', 2, 3, 2)\",\"('diffraction_pattern-integrate_fourier_space-mean_chunk-56f173df10db5940675827bda9085c72', 2, 6, 1)\",\"('mean_chunk-56f173df10db5940675827bda9085c72', 2, 4, 1)\",\"('diffraction_pattern-integrate_fourier_space-mean_chunk-56f173df10db5940675827bda9085c72', 2, 6, 2)\",\"('mean_chunk-56f173df10db5940675827bda9085c72', 2, 4, 0)\",\"('mean_chunk-56f173df10db5940675827bda9085c72', 2, 3, 5)\",\"('diffraction_pattern-integrate_fourier_space-mean_chunk-56f173df10db5940675827bda9085c72', 2, 6, 3)\",\"('diffraction_pattern-integrate_fourier_space-mean_chunk-56f173df10db5940675827bda9085c72', 2, 6, 4)\",\"('mean_chunk-56f173df10db5940675827bda9085c72', 2, 3, 6)\",\"('diffraction_pattern-integrate_fourier_space-mean_chunk-56f173df10db5940675827bda9085c72', 2, 6, 5)\",\"('mean_chunk-56f173df10db5940675827bda9085c72', 2, 4, 2)\",\"('diffraction_pattern-integrate_fourier_space-mean_chunk-56f173df10db5940675827bda9085c72', 3, 1, 0)\",\"('mean_chunk-56f173df10db5940675827bda9085c72', 2, 4, 3)\",\"('diffraction_pattern-integrate_fourier_space-mean_chunk-56f173df10db5940675827bda9085c72', 3, 1, 2)\",\"('mean_chunk-56f173df10db5940675827bda9085c72', 2, 4, 6)\",\"('mean_chunk-56f173df10db5940675827bda9085c72', 2, 4, 5)\",\"('diffraction_pattern-integrate_fourier_space-mean_chunk-56f173df10db5940675827bda9085c72', 3, 1, 3)\",\"('diffraction_pattern-integrate_fourier_space-mean_chunk-56f173df10db5940675827bda9085c72', 3, 1, 4)\",\"('mean_chunk-56f173df10db5940675827bda9085c72', 2, 5, 3)\",\"('diffraction_pattern-integrate_fourier_space-mean_chunk-56f173df10db5940675827bda9085c72', 3, 1, 5)\",\"('mean_chunk-56f173df10db5940675827bda9085c72', 2, 5, 2)\",\"('mean_chunk-56f173df10db5940675827bda9085c72', 2, 5, 0)\",\"('diffraction_pattern-integrate_fourier_space-mean_chunk-56f173df10db5940675827bda9085c72', 3, 1, 6)\",\"('diffraction_pattern-integrate_fourier_space-mean_chunk-56f173df10db5940675827bda9085c72', 3, 2, 0)\",\"('mean_chunk-56f173df10db5940675827bda9085c72', 2, 5, 1)\",\"('diffraction_pattern-integrate_fourier_space-mean_chunk-56f173df10db5940675827bda9085c72', 3, 2, 1)\",\"('mean_chunk-56f173df10db5940675827bda9085c72', 2, 5, 4)\",\"('diffraction_pattern-integrate_fourier_space-mean_chunk-56f173df10db5940675827bda9085c72', 3, 2, 3)\",\"('mean_chunk-56f173df10db5940675827bda9085c72', 2, 5, 6)\",\"('mean_chunk-56f173df10db5940675827bda9085c72', 2, 6, 0)\",\"('diffraction_pattern-integrate_fourier_space-mean_chunk-56f173df10db5940675827bda9085c72', 3, 2, 4)\",\"('diffraction_pattern-integrate_fourier_space-mean_chunk-56f173df10db5940675827bda9085c72', 3, 2, 5)\",\"('mean_chunk-56f173df10db5940675827bda9085c72', 2, 6, 1)\",\"('diffraction_pattern-integrate_fourier_space-mean_chunk-56f173df10db5940675827bda9085c72', 3, 2, 6)\",\"('mean_chunk-56f173df10db5940675827bda9085c72', 2, 6, 4)\",\"('mean_chunk-56f173df10db5940675827bda9085c72', 2, 6, 2)\",\"('diffraction_pattern-integrate_fourier_space-mean_chunk-56f173df10db5940675827bda9085c72', 3, 3, 0)\",\"('diffraction_pattern-integrate_fourier_space-mean_chunk-56f173df10db5940675827bda9085c72', 3, 3, 1)\",\"('mean_chunk-56f173df10db5940675827bda9085c72', 2, 6, 5)\",\"('diffraction_pattern-integrate_fourier_space-mean_chunk-56f173df10db5940675827bda9085c72', 3, 3, 2)\",\"('mean_chunk-56f173df10db5940675827bda9085c72', 2, 6, 3)\",\"('diffraction_pattern-integrate_fourier_space-mean_chunk-56f173df10db5940675827bda9085c72', 3, 3, 4)\",\"('mean_chunk-56f173df10db5940675827bda9085c72', 3, 1, 0)\",\"('mean_combine-partial-4ae18b44f966f7ed5dbc12fa6ca458e1', 1, 1, 0)\",\"('mean_agg-aggregate-f105647598c6c8a04f1b83b7905c8ebd', 1, 0)\",\"('diffraction_pattern-integrate_fourier_space-mean_chunk-56f173df10db5940675827bda9085c72', 3, 3, 5)\",\"('mean_chunk-56f173df10db5940675827bda9085c72', 3, 1, 2)\",\"('mean_combine-partial-4ae18b44f966f7ed5dbc12fa6ca458e1', 1, 1, 2)\",\"('mean_agg-aggregate-f105647598c6c8a04f1b83b7905c8ebd', 1, 2)\",\"('diffraction_pattern-integrate_fourier_space-mean_chunk-56f173df10db5940675827bda9085c72', 3, 3, 6)\",\"('mean_chunk-56f173df10db5940675827bda9085c72', 3, 1, 5)\",\"('mean_combine-partial-4ae18b44f966f7ed5dbc12fa6ca458e1', 1, 1, 5)\",\"('mean_chunk-56f173df10db5940675827bda9085c72', 3, 1, 3)\",\"('mean_chunk-56f173df10db5940675827bda9085c72', 3, 1, 4)\",\"('mean_agg-aggregate-f105647598c6c8a04f1b83b7905c8ebd', 1, 5)\",\"('mean_combine-partial-4ae18b44f966f7ed5dbc12fa6ca458e1', 1, 1, 3)\",\"('mean_combine-partial-4ae18b44f966f7ed5dbc12fa6ca458e1', 1, 1, 4)\",\"('diffraction_pattern-integrate_fourier_space-mean_chunk-56f173df10db5940675827bda9085c72', 3, 4, 0)\",\"('mean_agg-aggregate-f105647598c6c8a04f1b83b7905c8ebd', 1, 3)\",\"('mean_agg-aggregate-f105647598c6c8a04f1b83b7905c8ebd', 1, 4)\",\"('mean_chunk-56f173df10db5940675827bda9085c72', 3, 2, 0)\",\"('diffraction_pattern-integrate_fourier_space-mean_chunk-56f173df10db5940675827bda9085c72', 3, 4, 1)\",\"('diffraction_pattern-integrate_fourier_space-mean_chunk-56f173df10db5940675827bda9085c72', 3, 4, 2)\",\"('mean_combine-partial-4ae18b44f966f7ed5dbc12fa6ca458e1', 1, 2, 0)\",\"('mean_agg-aggregate-f105647598c6c8a04f1b83b7905c8ebd', 2, 0)\",\"('mean_chunk-56f173df10db5940675827bda9085c72', 3, 1, 6)\",\"('diffraction_pattern-integrate_fourier_space-mean_chunk-56f173df10db5940675827bda9085c72', 3, 4, 3)\",\"('mean_combine-partial-4ae18b44f966f7ed5dbc12fa6ca458e1', 1, 1, 6)\",\"('mean_chunk-56f173df10db5940675827bda9085c72', 3, 2, 3)\",\"('mean_agg-aggregate-f105647598c6c8a04f1b83b7905c8ebd', 1, 6)\",\"('mean_combine-partial-4ae18b44f966f7ed5dbc12fa6ca458e1', 1, 2, 3)\",\"('diffraction_pattern-integrate_fourier_space-mean_chunk-56f173df10db5940675827bda9085c72', 3, 4, 5)\",\"('mean_agg-aggregate-f105647598c6c8a04f1b83b7905c8ebd', 2, 3)\",\"('diffraction_pattern-integrate_fourier_space-mean_chunk-56f173df10db5940675827bda9085c72', 3, 4, 6)\",\"('mean_chunk-56f173df10db5940675827bda9085c72', 3, 2, 1)\",\"('mean_combine-partial-4ae18b44f966f7ed5dbc12fa6ca458e1', 1, 2, 1)\",\"('mean_agg-aggregate-f105647598c6c8a04f1b83b7905c8ebd', 2, 1)\",\"('diffraction_pattern-integrate_fourier_space-mean_chunk-56f173df10db5940675827bda9085c72', 3, 5, 0)\",\"('mean_chunk-56f173df10db5940675827bda9085c72', 3, 2, 6)\",\"('mean_combine-partial-4ae18b44f966f7ed5dbc12fa6ca458e1', 1, 2, 6)\",\"('mean_agg-aggregate-f105647598c6c8a04f1b83b7905c8ebd', 2, 6)\",\"('mean_chunk-56f173df10db5940675827bda9085c72', 3, 2, 5)\",\"('diffraction_pattern-integrate_fourier_space-mean_chunk-56f173df10db5940675827bda9085c72', 3, 5, 1)\",\"('mean_combine-partial-4ae18b44f966f7ed5dbc12fa6ca458e1', 1, 2, 5)\",\"('mean_chunk-56f173df10db5940675827bda9085c72', 3, 2, 4)\",\"('mean_agg-aggregate-f105647598c6c8a04f1b83b7905c8ebd', 2, 5)\",\"('mean_combine-partial-4ae18b44f966f7ed5dbc12fa6ca458e1', 1, 2, 4)\",\"('diffraction_pattern-integrate_fourier_space-mean_chunk-56f173df10db5940675827bda9085c72', 3, 5, 2)\",\"('mean_agg-aggregate-f105647598c6c8a04f1b83b7905c8ebd', 2, 4)\",\"('diffraction_pattern-integrate_fourier_space-mean_chunk-56f173df10db5940675827bda9085c72', 3, 5, 3)\",\"('mean_chunk-56f173df10db5940675827bda9085c72', 3, 3, 1)\",\"('mean_chunk-56f173df10db5940675827bda9085c72', 3, 3, 0)\",\"('mean_combine-partial-4ae18b44f966f7ed5dbc12fa6ca458e1', 1, 3, 1)\",\"('mean_combine-partial-4ae18b44f966f7ed5dbc12fa6ca458e1', 1, 3, 0)\",\"('mean_agg-aggregate-f105647598c6c8a04f1b83b7905c8ebd', 3, 1)\",\"('mean_agg-aggregate-f105647598c6c8a04f1b83b7905c8ebd', 3, 0)\",\"('diffraction_pattern-integrate_fourier_space-mean_chunk-56f173df10db5940675827bda9085c72', 3, 5, 4)\",\"('diffraction_pattern-integrate_fourier_space-mean_chunk-56f173df10db5940675827bda9085c72', 3, 5, 6)\",\"('mean_chunk-56f173df10db5940675827bda9085c72', 3, 3, 2)\",\"('mean_combine-partial-4ae18b44f966f7ed5dbc12fa6ca458e1', 1, 3, 2)\",\"('mean_agg-aggregate-f105647598c6c8a04f1b83b7905c8ebd', 3, 2)\",\"('diffraction_pattern-integrate_fourier_space-mean_chunk-56f173df10db5940675827bda9085c72', 3, 6, 0)\",\"('mean_chunk-56f173df10db5940675827bda9085c72', 3, 3, 4)\",\"('mean_combine-partial-4ae18b44f966f7ed5dbc12fa6ca458e1', 1, 3, 4)\",\"('mean_agg-aggregate-f105647598c6c8a04f1b83b7905c8ebd', 3, 4)\",\"('diffraction_pattern-integrate_fourier_space-mean_chunk-56f173df10db5940675827bda9085c72', 3, 6, 1)\",\"('mean_chunk-56f173df10db5940675827bda9085c72', 3, 3, 5)\",\"('mean_combine-partial-4ae18b44f966f7ed5dbc12fa6ca458e1', 1, 3, 5)\",\"('mean_agg-aggregate-f105647598c6c8a04f1b83b7905c8ebd', 3, 5)\",\"('diffraction_pattern-integrate_fourier_space-mean_chunk-56f173df10db5940675827bda9085c72', 3, 6, 2)\",\"('mean_chunk-56f173df10db5940675827bda9085c72', 3, 3, 6)\",\"('mean_combine-partial-4ae18b44f966f7ed5dbc12fa6ca458e1', 1, 3, 6)\",\"('mean_agg-aggregate-f105647598c6c8a04f1b83b7905c8ebd', 3, 6)\",\"('diffraction_pattern-integrate_fourier_space-mean_chunk-56f173df10db5940675827bda9085c72', 3, 6, 3)\",\"('mean_chunk-56f173df10db5940675827bda9085c72', 3, 4, 0)\",\"('mean_combine-partial-4ae18b44f966f7ed5dbc12fa6ca458e1', 1, 4, 0)\",\"('mean_agg-aggregate-f105647598c6c8a04f1b83b7905c8ebd', 4, 0)\",\"('diffraction_pattern-integrate_fourier_space-mean_chunk-56f173df10db5940675827bda9085c72', 3, 6, 4)\",\"('mean_chunk-56f173df10db5940675827bda9085c72', 3, 4, 1)\",\"('mean_chunk-56f173df10db5940675827bda9085c72', 3, 4, 3)\",\"('mean_combine-partial-4ae18b44f966f7ed5dbc12fa6ca458e1', 1, 4, 1)\",\"('mean_combine-partial-4ae18b44f966f7ed5dbc12fa6ca458e1', 1, 4, 3)\",\"('mean_agg-aggregate-f105647598c6c8a04f1b83b7905c8ebd', 4, 1)\",\"('mean_chunk-56f173df10db5940675827bda9085c72', 3, 4, 2)\",\"('mean_agg-aggregate-f105647598c6c8a04f1b83b7905c8ebd', 4, 3)\",\"('diffraction_pattern-integrate_fourier_space-mean_chunk-56f173df10db5940675827bda9085c72', 3, 6, 5)\",\"('mean_combine-partial-4ae18b44f966f7ed5dbc12fa6ca458e1', 1, 4, 2)\",\"('mean_chunk-56f173df10db5940675827bda9085c72', 3, 4, 5)\",\"('mean_agg-aggregate-f105647598c6c8a04f1b83b7905c8ebd', 4, 2)\",\"('mean_combine-partial-4ae18b44f966f7ed5dbc12fa6ca458e1', 1, 4, 5)\",\"('mean_agg-aggregate-f105647598c6c8a04f1b83b7905c8ebd', 4, 5)\",\"('mean_chunk-56f173df10db5940675827bda9085c72', 3, 4, 6)\",\"('mean_combine-partial-4ae18b44f966f7ed5dbc12fa6ca458e1', 1, 4, 6)\",\"('mean_agg-aggregate-f105647598c6c8a04f1b83b7905c8ebd', 4, 6)\",\"('mean_chunk-56f173df10db5940675827bda9085c72', 3, 5, 1)\",\"('mean_combine-partial-4ae18b44f966f7ed5dbc12fa6ca458e1', 1, 5, 1)\",\"('mean_agg-aggregate-f105647598c6c8a04f1b83b7905c8ebd', 5, 1)\",\"('mean_chunk-56f173df10db5940675827bda9085c72', 3, 5, 2)\",\"('mean_combine-partial-4ae18b44f966f7ed5dbc12fa6ca458e1', 1, 5, 2)\",\"('mean_agg-aggregate-f105647598c6c8a04f1b83b7905c8ebd', 5, 2)\",\"('mean_chunk-56f173df10db5940675827bda9085c72', 3, 5, 0)\",\"('mean_combine-partial-4ae18b44f966f7ed5dbc12fa6ca458e1', 1, 5, 0)\",\"('mean_agg-aggregate-f105647598c6c8a04f1b83b7905c8ebd', 5, 0)\",\"('mean_chunk-56f173df10db5940675827bda9085c72', 3, 5, 3)\",\"('mean_chunk-56f173df10db5940675827bda9085c72', 3, 5, 6)\",\"('mean_combine-partial-4ae18b44f966f7ed5dbc12fa6ca458e1', 1, 5, 3)\",\"('mean_combine-partial-4ae18b44f966f7ed5dbc12fa6ca458e1', 1, 5, 6)\",\"('mean_agg-aggregate-f105647598c6c8a04f1b83b7905c8ebd', 5, 3)\",\"('mean_agg-aggregate-f105647598c6c8a04f1b83b7905c8ebd', 5, 6)\",\"('mean_chunk-56f173df10db5940675827bda9085c72', 3, 5, 4)\",\"('mean_combine-partial-4ae18b44f966f7ed5dbc12fa6ca458e1', 1, 5, 4)\",\"('mean_agg-aggregate-f105647598c6c8a04f1b83b7905c8ebd', 5, 4)\",\"('mean_chunk-56f173df10db5940675827bda9085c72', 3, 6, 0)\",\"('mean_combine-partial-4ae18b44f966f7ed5dbc12fa6ca458e1', 1, 6, 0)\",\"('mean_agg-aggregate-f105647598c6c8a04f1b83b7905c8ebd', 6, 0)\",\"('mean_chunk-56f173df10db5940675827bda9085c72', 3, 6, 1)\",\"('mean_combine-partial-4ae18b44f966f7ed5dbc12fa6ca458e1', 1, 6, 1)\",\"('mean_agg-aggregate-f105647598c6c8a04f1b83b7905c8ebd', 6, 1)\",\"('mean_chunk-56f173df10db5940675827bda9085c72', 3, 6, 2)\",\"('mean_combine-partial-4ae18b44f966f7ed5dbc12fa6ca458e1', 1, 6, 2)\",\"('mean_agg-aggregate-f105647598c6c8a04f1b83b7905c8ebd', 6, 2)\",\"('mean_chunk-56f173df10db5940675827bda9085c72', 3, 6, 3)\",\"('mean_combine-partial-4ae18b44f966f7ed5dbc12fa6ca458e1', 1, 6, 3)\",\"('mean_agg-aggregate-f105647598c6c8a04f1b83b7905c8ebd', 6, 3)\",\"('mean_chunk-56f173df10db5940675827bda9085c72', 3, 6, 5)\",\"('mean_combine-partial-4ae18b44f966f7ed5dbc12fa6ca458e1', 1, 6, 5)\",\"('mean_agg-aggregate-f105647598c6c8a04f1b83b7905c8ebd', 6, 5)\",\"('mean_chunk-56f173df10db5940675827bda9085c72', 3, 6, 4)\",\"('mean_combine-partial-4ae18b44f966f7ed5dbc12fa6ca458e1', 1, 6, 4)\",\"('mean_agg-aggregate-f105647598c6c8a04f1b83b7905c8ebd', 6, 4)\"],\"width\":[0.0023692999966442585,0.0022050999978091568,0.0022403000039048493,0.002280100015923381,0.0014683000044897199,0.08385760002420284,0.10007290000794455,0.1283343999821227,1.24653330000001,1.1797177999978885,1.1289446000009775,1.3072553999954835,1.3964921000006143,1.3097870000055991,1.155278799997177,1.2416519000253174,1.2501305000041611,1.2949059999955352,1.2931710999982897,1.2523143000144046,1.3060049999912735,1.2272726999945007,1.195234699989669,1.1308210999995936,0.006922300002770498,1.2482213999901433,0.01485899998806417,1.2755764000175986,0.018026400008238852,1.141315399989253,0.016131999989738688,0.014907299977494404,0.011291800008621067,0.02291890000924468,0.02209660000517033,1.2299147000012454,1.2307768000173382,1.2719649999926332,1.1615363000018988,1.2251553000241984,0.017000699997879565,0.018562100012786686,0.01761310000438243,0.007950800005346537,0.033251099986955523,0.040039699990302324,0.06316419999348,0.06414450000738725,1.1881734000053257,1.239670599985402,1.2861959000001661,1.24927940001362,0.05018160000327043,1.1814050000102725,1.249473100004252,0.007753700017929077,0.02243010001257062,1.1569467000081204,1.2181436000100803,0.019535699975676835,1.1925562999967951,0.015199499990558252,1.0697901000094134,0.013256100006401539,0.01649190002353862,1.1419017000007443,1.1650477000221144,0.01481160000548698,0.015379299991764128,0.017289900017203763,1.1443037000135519,0.027856000000610948,1.0815902999893297,1.0941865000058897,1.1371884999971371,0.021631800016621128,0.010394100012490526,0.009865300002275035,1.1448184000037145,0.0468838999804575,1.1711387000104878,1.1500306999951135,0.022597100003622472,0.035508800006937236,1.1729058000200894,1.1151480999833439,0.032762100017862394,1.109368400007952,0.019750100007513538,1.097249099984765,1.1205675000092015,0.0047867999819573015,1.168870399997104,0.004475200024899095,1.1682616999896709,0.007570600020699203,0.00394710002001375,1.2222321000008378,1.1685913000255823,0.017992099979892373,0.004641300009097904,1.267444199998863,1.1803154000081122,0.026673999993363395,0.007211799995275214,1.1420973999775015,1.27713119998225,0.006620900006964803,1.2258843000163324,0.017913399991812184,0.008341200009454042,1.2503726999857463,0.04294879999361001,1.159627899993211,0.03550620001624338,0.04067170000053011,1.2326816999993753,0.02939640000113286,0.03895870002452284,1.225157400011085,1.21702800001367,1.20415169998887,1.053572799981339,0.0074526000244077295,1.2445332999923266,0.004430999979376793,1.2135564000054728,0.00560500001301989,1.210938600008376,0.008391399984247983,0.01004090000060387,0.026444699993589893,1.3013614999945275,1.327262000006158,1.2471631999942474,0.02826900000218302,0.009560200007399544,0.008941800013417378,1.2385709999944083,1.2421412999974564,1.2417663999949582,0.028990000020712614,0.010684099979698658,1.2788566999952309,1.2868531999993138,0.03226089998497628,0.009282800019718707,0.0075409999990370125,0.006998500000918284,0.023931800009449944,1.3066532999800984,1.1398878999752924,1.1886135999811813,1.2979412999993656,1.1484436999890022,0.004664200008846819,0.003513399977236986,1.1912837999989279,0.0026618000119924545,0.00327429999015294,1.1929077999957372,0.0021781999967060983,0.007071600004564971,1.2083754999912344,0.005986100004520267,0.01367969997227192,1.209382300003199,0.028481599991209805,0.014188100001774728,0.0099874000006821,0.00916819999110885,0.011600400001043454,0.005646999983582646,0.011330699984682724,0.011333200003718957,0.03359659999841824,0.03081279998878017,0.04588669998338446,1.3053363999933936,1.24394939999911,0.040709799999604,0.022428900003433228,1.223829399998067,1.1797023999970406,1.286378999997396,0.022847199987154454,1.2474386999965645,0.04037239999161102,0.014899800007697195,0.006897099985508248,1.2399207999987993,0.041450199991231784,1.1801350000023376,0.04012760001933202,1.0856969000014942,0.01918990002013743,1.1295390999875963,0.022966999997152016,0.027930799988098443,0.013357399991946295,0.012675400008447468,1.1678508000040893,1.1251018000184558,0.0050033000006806105,0.0036914999946020544,1.1993428000132553,0.003636900015408173,0.004519999987678602,1.158649199991487,0.005451900011394173,0.005708999990019947,1.2519720999989659,0.0018290000152774155,0.0012083000037819147,1.2074713000038173,0.005737400002544746,0.006323100009467453,0.019738700008019805,0.01125859998865053,1.1832509000087157,1.1842608000151813,0.015621900005498901,0.019917500001611188,0.009741699992446229,0.008107799978461117,0.005249200010439381,1.1906792000227142,0.029802799981553108,1.1625114000053145,0.04924089999985881,0.03939879999961704,1.1841582999913953,0.028871599992271513,0.01864160000695847,0.019873900018865243,0.018514399998821318,0.018449299997882918,0.01595530001213774,0.028314199997112155,0.034241999994264916,0.044131599977845326,1.2147165999922436,0.056966800009831786,1.2693436999979895,0.047699399990960956,1.2904701000079513,1.1582620000117458,1.2057213000080083,1.226981700019678,0.02750739999464713,1.1818379999895114,0.01066459997673519,0.006897699990076944,0.005522200022824109,0.00683759999810718,1.226693400007207,1.2646444000129122,0.011233299999730662,0.007618899981025606,1.3070811000070535,0.006968800007598475,0.01661310001509264,1.2302544999984093,0.006312100013019517,0.0025861000176519156,0.009046099992701784,0.013472399994498119,1.419819999980973,1.2040608000243083,0.027000400004908442,0.002959299978101626,0.0028837999852839857,0.003233900002669543,1.2444384999980684,1.275133100018138,0.025507600017590448,0.00851919999695383,1.208023699990008,0.030389599996851757,0.004925899993395433,0.009699099988210946,0.01059339998755604,1.281918399996357,1.2458871999988332,0.02397989999735728,0.006566600000951439,0.006844599993200973,0.011052299989387393,0.021418999996967614,0.027393099997425452,1.1495217999909073,0.02279000001726672,1.335016800003359,1.1889150999777485,0.026349399995524436,0.033254100009799004,0.01144390000263229,1.3111970000027213,1.3119503999769222,0.0014870000013615936,0.001724000001559034,0.006827499979408458,1.4759387999947648,0.008220699994126335,0.0031892999832052737,0.007943999982671812,1.3936991000082344,0.0075280000164639205,0.010419500002171844,0.00958889999310486,0.006397899996954948,0.009247100009815767,0.009452199999941513,0.007194900012109429,0.004133100010221824,1.4405747999844607,1.487693200004287,0.030853799980832264,1.4132293000002392,0.008689899987075478,0.027323399990564212,0.018833200010703877,0.008857799984980375,0.007375899993348867,0.00729400001000613,0.004370499984361231,1.444504599989159,0.002507299999706447,0.040426399995340034,1.3646063999913167,0.021220599999651313,1.3236970999860205,0.012898999993922189,0.003979199973400682,1.4675611999991816,0.030905399995390326,0.01962810000986792,0.01285579998511821,0.010464699997100979,0.00997720001032576,1.4695205999887548,0.005688800010830164,0.030792399978963658,0.02736959999310784,0.03582560000359081,0.027183400001376867,1.5046256000059657,1.3124681000190321,1.5895613000029698,0.014724400010891259,1.547463399998378,0.022863499994855374,0.02255140000488609,1.4835217999934684,1.433479700004682,0.004608999995980412,1.2110993999813218,0.003948899975512177,1.27404530000058,0.010899299988523126,0.011439299996709451,1.2174702000047546,1.2061472000204958,0.0030854000069666654,0.013057700009085238,1.3105013000022154,1.3376382999995258,0.026303499995265156,1.2634406999859493,0.018610699975397438,0.005386900011217222,1.1770079999987502,1.3190566999837756,0.010094800003571436,1.347080100007588,0.012785099999746308,1.307209500024328,0.007962300005601719,1.279941399989184,0.005273999995552003,1.31074250000529,0.016797599993878976,0.015662599995266646,1.4287236999953166,1.2469640000199433,0.0031120999774429947,1.2933313999965321,0.006585399998584762,1.1938108000031207,0.005142500012880191,1.2406146000139415,0.008251799998106435,0.005052000022260472,1.304890700004762,1.3060814999917056,0.0027188000094611198,1.2127012999844737,0.009797000006074086,0.004056399979162961,1.2691918999771588,1.232002000004286,0.013455800013616681,1.3969482999818865,0.0020154000085312873,1.1888926000101492,0.011345700011588633,0.007998300017789006,1.3415869000018574,1.3241075999976601,0.009175400016829371,1.2712585999979638,0.008712199982255697,0.016978300001937896,1.3074672000075225,1.293640999996569,0.005417300009867176,1.3649109000107273,0.005845899984706193,1.3019433000008576,0.0011972000065725297,0.0013500000059138983,0.004130199988139793,1.2278885999985505,0.00807630000053905,0.02118529999279417,0.013474700012011454,1.2238270999805536,0.002466000005370006,0.020647099998313934,0.018036499997833744,0.01840020000236109,0.021504300006199628,0.01297450001584366,0.011682899988954887,1.205537900008494,0.020870200009085238,0.01582510001026094,0.00805989999207668,1.2337103000027128,1.25630540002021,0.024014900001930073,0.008389199996599928,0.006460799981141463,1.2135196999879554,0.021479799994267523,0.008512700005667284,0.007351999985985458,0.00649239998892881,1.1985539000015706,0.025522699987050146,1.1988176000013482,0.01313300000037998,0.01696159999119118,0.005393899977207184,1.2846024000027683,0.0051238000160083175,0.007831100025214255,0.005599600001005456,0.011464100010925904,1.1909761000133585,0.01804870000341907,0.0238596000126563,0.01224999999976717,0.006898100022226572,1.1698253999929875,0.018402800022158772,1.1785650000092573,0.007533600000897422,0.007694900006754324,0.0049359999829903245,0.010179700009757653,0.03316259998246096,0.029440200014505535,1.1051210000005085,1.0915190000087023,0.006933399999979883,0.017868900002213195,0.014955099992221221,1.0338447999965865,0.014749800000572577,0.01602659997297451,0.012146900000516325,1.0055250000150409,0.0034505000221543014,0.009965500008547679,0.0067319999798201025,0.8321531999972649,0.009679800015874207,0.005457200022647157,0.006160900025861338,0.678639399993699,0.0017826000112108886,0.010550900013186038,0.008737199997995049,0.5272554999974091,0.01796749999630265,0.0032030000002123415,0.005750799988163635,0.007912000000942498,0.004899199993815273,0.0040055999998003244,0.004539500019745901,0.468013300007442,0.01307519999681972,0.013402300013694912,0.00677089998498559,0.005149000004166737,0.007796600024448708,0.0018870000203605741,0.002367699984461069,0.012208900006953627,0.0028839000151492655,0.001387899974361062,0.0013919000048190355,0.001594500005012378,0.005605800019111484,0.006771599990315735,0.0028673000051639974,0.0018715999904088676,0.0026591999921947718,0.00479739997535944,0.0016190999886021018,0.0024830000184010714,0.0022908999817445874,0.0020840000070165843,0.0023218999849632382,0.0012860000133514404,0.0006882000016048551,0.0012409999908413738,0.0017188999918289483,0.0008498000097461045,0.0011174000101163983,0.0007090999861247838,0.0008854999905452132,0.0005449000163935125,0.0007895000162534416,0.0007730000070296228,0.0004760999872814864,0.0005531999922823161,0.00045289998524822295,0.0005789999850094318,0.0006902000168338418,0.0007471000135410577,0.0006360999832395464,0.00042189998202957213,0.0003983000060543418,0.00045200000749900937],\"x\":[0.0011846499983221292,0.0016410499811172485,0.0019811500096693635,0.0023022500099614263,0.0031086500093806535,0.04467600001953542,0.05314125001314096,0.06761259998893365,0.627112650021445,0.5939650000073016,0.5688085000147112,0.6582143999985419,0.7030617499840446,0.6599215000169352,0.5828745000180788,0.6263442499912344,0.6308670500002336,0.6534740999923088,0.6528306499822065,0.6326323500252329,0.659693600027822,0.7002524500130676,0.7008138500095811,0.6971961500239559,1.1367896500159986,1.764384499983862,1.1679663000104483,1.8132063000230119,1.1928716000111308,1.7725657999981195,1.2552554000285454,1.2578416499891318,1.2615936000074726,1.270254750008462,1.273660300008487,1.878286549996119,1.880688300007023,1.9032330000190996,1.8624882500153035,1.8972937500220723,1.3069402500113938,1.3087176500121132,1.309740349999629,1.3158256000024267,1.3293302500096615,1.3339160500036087,1.346406399999978,1.3475183499976993,1.912091700010933,1.9383873000042513,1.962905349995708,1.9706171000143513,1.379036600003019,1.9686990000191145,2.0043345500016585,1.4051919500052463,1.415350249997573,1.9875494500156492,2.0356481000198983,2.353023050003685,2.9590976500185207,2.3961226500105113,2.938638349995017,2.449911650008289,2.45925265000551,3.027501750009833,3.0500539499917068,2.5006593000143766,2.5037739500112366,2.5148325500194915,3.080232550011715,2.5238133000093512,3.0522737500141375,3.0705796499969438,3.10634785000002,2.550042500020936,2.563428550027311,2.5643439500126988,3.133275100030005,2.5894723500241525,3.1542031500139274,3.144297450024169,2.6065636500134133,2.623765900003491,3.1993748000240885,3.175443449988961,2.6454594500246458,3.1962128000159282,2.6546039499808103,3.2104725500103086,3.2247708500071894,3.475960900017526,4.062809600000037,3.5576505000062753,4.144041749997996,3.5968852000078186,3.600458550004987,4.211821050033905,4.18675945000723,3.6266823500045575,3.634918249998009,4.269414900016272,4.227409200015245,3.665742799988948,3.678558500017971,4.250138500006869,4.320739599992521,3.7090189500013366,4.325285650003934,3.728281399991829,3.737197600014042,4.362433650007006,3.7612551000202075,4.321189550013514,3.7686584999901243,3.7794414500240237,4.399084150034469,3.799763899995014,3.805314850003924,4.398997200012673,4.408301900024526,4.416545149986632,4.351599599991459,4.651001300022472,5.277019350003684,4.730412700009765,5.339436799986288,4.77388890000293,5.382183700014139,4.821778000012273,4.826219149981625,4.836176950018853,5.476672549993964,5.4948837000119966,5.472991000016918,4.892549200012581,4.905796799983364,4.9076333999983035,5.525983700004872,5.531668850017013,5.533004800003255,4.952731800003676,4.9646569500037,5.606663550017402,5.613436400017235,5.003766649984755,5.016226000007009,5.019202600000426,5.020324149983935,5.030597799981479,5.673234449990559,5.59082285000477,5.617291500006104,5.6728069499949925,5.6167943500040565,5.9016412000055425,5.905749800003832,6.503165500005707,5.947572000004584,5.950559750024695,6.548676299978979,5.988771400006954,5.993414199998369,6.60117705000448,6.099578549998114,6.109429250005633,6.720996749994811,6.141607500001555,6.152373349992558,6.157745100033935,6.158483800012618,6.161657600023318,6.161352900002385,6.1651423500152305,6.166443000023719,6.179547100007767,6.178480900009163,6.187126650009304,6.820147499995073,6.7927919999929145,6.192473699979018,6.202238149999175,6.80580979998922,6.786212000006344,6.853277300018817,6.2230311000021175,6.836568550002994,6.2336462999810465,6.241912900004536,6.249547749990597,6.869334799994249,6.273731700028293,6.843909999995958,6.276935600006254,6.837319849990308,6.3066144500044174,6.880990850011585,6.333270900009666,6.340539199998602,6.351441500009969,6.360851700010244,6.942053999984637,6.929756700003054,7.101322849979624,7.105698350002058,7.707246500009205,7.146968649991322,7.151081899995916,7.732702800014522,7.2080977500008885,7.213712400000077,7.842571749992203,7.326627500005998,7.3281644500093535,7.932516350003425,7.378954800020438,7.38334465000662,7.391707350005163,7.392146500002127,7.989414350013249,7.993716400000267,7.422590050031431,7.427693650010042,7.4352786500239745,7.438039800006663,7.440285700024106,8.035502800019458,7.457004700001562,8.024174799997127,7.470397850032896,7.4799958000076,8.063995250005974,7.4872585000121035,7.498625900014304,7.502257150015794,7.504283999995096,7.5056982500245795,7.507683250005357,7.515863400010858,7.525076000019908,7.534268699993845,8.120910300000105,7.543414000014309,8.150339449988678,7.549836999998661,8.175264849996893,8.121336200012593,8.159203450020868,8.185401050024666,7.587445600016508,8.192136200028472,8.31227699998999,8.31549065001309,8.320385700004408,8.322371100017335,8.936504000012064,8.958126100013033,8.474201950011775,8.483657150005456,9.141033349995269,8.539760200015735,8.55156615001033,9.175018950016238,8.58420575002674,8.587149150000187,8.591895050019957,8.595190400024876,9.306353399995714,9.203970300004585,8.618960799998604,8.632329749991186,8.633911499986425,8.635434449999593,9.257581849989947,9.274632050015498,8.668850400019437,8.685874400020111,9.294165850005811,8.715677400003187,8.73073905002093,8.735731749999104,8.738507500005653,9.381552200007718,9.366757600015262,8.774061850010185,8.786348399997223,8.788444800011348,8.791585450002458,8.800352999998722,8.80557075003162,9.371881200000644,8.810295800009044,9.47858019999694,9.413739849987905,8.83369220001623,8.838331750012003,8.852597549994243,9.510573300009128,9.514308999991044,9.550608600024134,9.552227700012736,9.556517550023273,10.297917300020345,9.594576850009616,9.600311650021467,9.605900100024883,10.306776450015604,9.793926200014539,9.799797050014604,9.802496350021102,9.808217250014422,9.810633349989075,9.812031199980993,9.8150453499984,9.817337149986997,10.537058399990201,10.562507099995855,9.83483890001662,10.556899749994045,9.88416665000841,9.902193600020837,9.907609699992463,9.916639100003522,9.91955265001161,9.920682900003158,9.923267250007484,10.645511900016572,9.925598650006577,9.94567869999446,10.609166699985508,9.957266000012169,10.627748750004685,9.974334400030784,9.982789700006833,10.718575300008524,10.005163800000446,10.018017249996774,10.022700800007442,10.025855150015559,10.027507899998454,10.762603000010131,10.031983599998057,10.046511200023815,10.046189300017431,10.0527529999963,10.07347890001256,10.814241200016113,10.726916450017598,10.881860349996714,10.153476700012106,10.934593400015729,10.177616350003518,10.18156799999997,10.930818299995735,10.909592550015077,11.005946999997832,11.613819400023203,11.037905250006588,11.676935750001576,11.262824250006815,11.269251650024671,11.87703929998679,11.878054900007555,11.291148099990096,11.298013649997301,11.947950150002725,11.973374149994925,11.319513249996817,11.964406749990303,11.377095150004607,11.385857450019103,11.974934300000314,12.048091150005348,11.457413600001018,12.136014149989933,11.503774049982894,12.163786049990449,11.5705673500197,12.214565900008893,11.628988000011304,12.287010650004959,11.681004600017332,11.68448769999668,12.403781350003555,12.315809099993203,11.709889249992557,12.358121299999766,12.222711100010201,12.822933299990837,12.31655754998792,12.939454200008186,12.485273000027519,12.488317999988794,13.141864650009666,13.143895649991464,12.56481230002828,13.172533750010189,12.601042599999346,12.605251300003147,13.24054865000653,13.223290199995972,12.64894740001182,13.354187250020914,12.708647400024347,13.30412570000044,12.815244249999523,12.821405950002372,13.491723050014116,13.487492599990219,12.859134500002256,13.49937669999781,12.943665400001919,12.950895350018982,13.601774699985981,13.60621650001849,13.0075056499918,13.692679450003197,13.12109075000626,13.77500585000962,13.420459799992386,13.421745200001169,13.424500400025863,14.04053360002581,13.563835549983196,13.578513249987736,13.595866749994457,14.214548250020016,13.780153100029565,13.791725949995453,13.8033400499844,13.806148300005589,13.812817149999319,13.818861450010445,13.821209350018762,14.426350750029087,13.835796200000914,13.834976150013972,13.843328949995339,14.459755749994656,14.474405699991621,13.859382149996236,13.875592900032643,13.87838589999592,14.486558750009863,13.8923727000074,13.902847449993715,13.90680510000675,13.910358100023586,14.509777850005776,13.926378050004132,14.538579599990044,14.059241900016787,14.074300600012066,14.085498750006082,14.730525200022385,14.137598300003447,14.14409605000401,14.150828199984971,14.155292749986984,14.749130650016014,14.170060950011248,14.174460100010037,14.185230000002775,14.189855150005314,14.776284399995347,14.202521900006104,14.80102350001107,14.256828300014604,14.25937335001072,14.263087900006212,14.26832234999165,14.282150499988347,14.288148899999214,14.851317799999379,14.848677200003294,14.378628800011938,14.391048850025982,14.407482050010003,14.931908300030045,14.433372400002554,14.448776100005489,14.462890750000952,14.971749000018463,14.656216050003422,14.662938649998978,14.671309500001371,15.090773500007344,14.831325200007996,14.838913700019475,14.844742749992292,15.187161100009689,15.03003950000857,15.036222449998604,15.045900400000392,15.313921149994712,15.0856293499819,15.094931400002679,15.097499500028789,15.100498300016625,15.10283360001631,15.104572600015672,15.10675184999127,15.339304450026248,15.113126699987333,15.115762550005456,15.12305935000768,15.125052799994592,15.1315388000221,15.138949699990917,15.141091550001875,15.148397450015182,15.346077549998881,15.348230350005906,15.349635849997867,15.362013950012624,15.365628500003368,15.37183200000436,15.374272150016623,15.376652300008573,15.378933200001484,15.392720500007272,15.395258450007532,15.396369100024458,15.397219650010811,15.39866190002067,15.39953515000525,15.404531400010455,15.405528100003721,15.40650129999267,15.44969815001241,15.450995599996531,15.451987000007648,15.474873650004156,15.475676450005267,15.476398150000023,15.507251850009197,15.50803779999842,15.508666749985423,15.526764200010803,15.527281849994324,15.52780250000069,15.573665200005053,15.574388850014657,15.575085250020493,15.577765149995685,15.578179450007156,15.578617999999551],\"y\":[16,16,16,16,16,16,16,16,16,12,15,3,1,2,13,9,8,5,6,7,4,10,11,14,15,15,13,12,13,13,9,8,7,9,8,5,14,2,8,6,3,9,4,16,3,9,10,11,3,9,10,11,1,16,1,4,4,7,4,13,13,15,15,8,8,8,14,12,3,3,12,6,5,3,6,16,7,9,2,9,16,10,7,9,7,9,11,4,11,11,1,15,15,13,13,8,8,8,14,3,3,12,6,3,3,3,5,2,2,9,16,4,11,16,7,10,1,7,7,10,7,11,9,15,15,13,13,14,14,6,8,6,8,6,3,9,12,16,9,12,5,2,2,2,4,10,7,16,1,11,10,7,16,1,11,15,15,15,13,13,13,14,14,14,3,3,3,9,5,7,12,5,8,7,12,6,11,9,12,8,11,7,5,6,11,9,2,9,16,16,16,4,4,9,9,7,7,1,1,1,10,1,10,15,15,15,13,13,13,14,14,14,3,3,3,6,6,9,6,8,9,6,4,5,4,6,7,2,5,10,2,6,10,11,12,16,4,2,10,4,2,1,10,4,12,16,11,2,12,10,10,15,15,15,13,13,15,14,14,14,3,3,3,8,9,9,8,8,5,9,9,9,7,7,6,9,9,9,1,1,1,1,2,1,10,4,10,11,12,10,16,12,10,11,12,12,4,4,12,13,13,13,13,15,15,15,15,3,14,14,5,14,3,5,5,3,5,14,14,7,7,6,7,6,7,7,9,7,16,7,6,6,16,16,16,11,2,1,1,2,2,8,11,1,1,11,1,11,8,10,12,4,4,10,4,15,15,13,13,14,14,14,3,7,7,7,5,6,6,9,9,9,11,16,16,2,2,1,1,4,4,10,10,8,10,12,12,15,15,13,13,3,3,14,3,9,9,6,6,7,6,5,5,11,11,2,16,16,2,1,1,10,10,10,4,12,12,8,8,15,15,15,15,13,13,13,13,9,3,14,3,14,9,14,3,14,9,6,14,9,6,6,6,6,7,11,11,11,7,11,11,5,5,5,5,1,1,1,1,1,16,16,16,16,16,2,2,4,4,4,4,4,4,10,4,12,12,12,12,8,8,8,8,15,15,15,15,13,13,13,13,3,3,3,3,6,6,6,9,14,6,6,7,9,14,9,6,9,14,9,14,9,6,1,11,14,9,11,1,5,9,6,14,16,4,11,1,14,16,4,11,1,14,9,12,6,10,5,14,9,12,15,11,1,8,14,9]},\"selected\":{\"id\":\"1047\"},\"selection_policy\":{\"id\":\"1046\"}},\"id\":\"1032\",\"type\":\"ColumnDataSource\"},{\"attributes\":{\"fill_color\":{\"field\":\"color\"},\"hatch_color\":{\"field\":\"color\"},\"height\":{\"value\":1},\"line_color\":{\"value\":\"gray\"},\"width\":{\"field\":\"width\"},\"x\":{\"field\":\"x\"},\"y\":{\"field\":\"y\"}},\"id\":\"1034\",\"type\":\"Rect\"}],\"root_ids\":[\"1003\"]},\"title\":\"Bokeh Application\",\"version\":\"2.4.3\"}};\n",
       "  const render_items = [{\"docid\":\"231f9c97-06a1-48a3-ae9d-6baf50fffb10\",\"root_ids\":[\"1003\"],\"roots\":{\"1003\":\"e7416644-da8e-4004-97e5-484f4dff439e\"}}];\n",
       "  root.Bokeh.embed.embed_items_notebook(docs_json, render_items);\n",
       "  }\n",
       "  if (root.Bokeh !== undefined) {\n",
       "    embed_document(root);\n",
       "  } else {\n",
       "    let attempts = 0;\n",
       "    const timer = setInterval(function(root) {\n",
       "      if (root.Bokeh !== undefined) {\n",
       "        clearInterval(timer);\n",
       "        embed_document(root);\n",
       "      } else {\n",
       "        attempts++;\n",
       "        if (attempts > 100) {\n",
       "          clearInterval(timer);\n",
       "          console.log(\"Bokeh: ERROR: Unable to run BokehJS code because BokehJS library is missing\");\n",
       "        }\n",
       "      }\n",
       "    }, 10, root)\n",
       "  }\n",
       "})(window);"
      ],
      "application/vnd.bokehjs_exec.v0+json": ""
     },
     "metadata": {
      "application/vnd.bokehjs_exec.v0+json": {
       "id": "1003"
      }
     },
     "output_type": "display_data"
    }
   ],
   "source": [
    "profilers[0].visualize();"
   ]
  },
  {
   "cell_type": "markdown",
   "id": "9f7afda6-5b1d-4362-9495-4ad140716f5f",
   "metadata": {},
   "source": [
    "The result from the `ResourceProfiler` is shown below: This shows two lines, one for total CPU percentage used by all the workers, and one for total memory usage. The CPU usage is scaled so each worker contributes up to $100 \\ \\%$, i.e. two fully utilized workers use $200 \\ \\%$."
   ]
  },
  {
   "cell_type": "code",
   "execution_count": 16,
   "id": "42497cde-4e5c-4844-91e5-e8d91e1aafa9",
   "metadata": {
    "tags": [
     "skip-test"
    ]
   },
   "outputs": [
    {
     "data": {
      "text/html": [
       "\n",
       "  <div class=\"bk-root\" id=\"05564b78-d9c7-4e32-992d-93a2a7ad804d\" data-root-id=\"1102\"></div>\n"
      ]
     },
     "metadata": {},
     "output_type": "display_data"
    },
    {
     "data": {
      "application/javascript": [
       "(function(root) {\n",
       "  function embed_document(root) {\n",
       "  const docs_json = {\"a4bbb0ba-52fd-4b01-b4a5-79478933c9d0\":{\"defs\":[],\"roots\":{\"references\":[{\"attributes\":{\"below\":[{\"id\":\"1113\"}],\"center\":[{\"id\":\"1116\"},{\"id\":\"1120\"},{\"id\":\"1145\"}],\"extra_y_ranges\":{\"memory\":{\"id\":\"1147\"}},\"height\":300,\"left\":[{\"id\":\"1117\"}],\"renderers\":[{\"id\":\"1134\"},{\"id\":\"1152\"}],\"right\":[{\"id\":\"1166\"}],\"title\":{\"id\":\"1103\"},\"toolbar\":{\"id\":\"1125\"},\"toolbar_location\":\"above\",\"width\":800,\"x_range\":{\"id\":\"1105\"},\"x_scale\":{\"id\":\"1109\"},\"y_range\":{\"id\":\"1107\"},\"y_scale\":{\"id\":\"1111\"}},\"id\":\"1102\",\"subtype\":\"Figure\",\"type\":\"Plot\"},{\"attributes\":{},\"id\":\"1121\",\"type\":\"SaveTool\"},{\"attributes\":{},\"id\":\"1143\",\"type\":\"UnionRenderers\"},{\"attributes\":{},\"id\":\"1163\",\"type\":\"UnionRenderers\"},{\"attributes\":{},\"id\":\"1122\",\"type\":\"ResetTool\"},{\"attributes\":{\"dimensions\":\"width\"},\"id\":\"1123\",\"type\":\"WheelZoomTool\"},{\"attributes\":{\"line_alpha\":0.2,\"line_color\":\"#440154\",\"line_width\":4,\"x\":{\"field\":\"x\"},\"y\":{\"field\":\"y\"}},\"id\":\"1133\",\"type\":\"Line\"},{\"attributes\":{\"coordinates\":null,\"data_source\":{\"id\":\"1130\"},\"glyph\":{\"id\":\"1131\"},\"group\":null,\"hover_glyph\":null,\"muted_glyph\":{\"id\":\"1133\"},\"nonselection_glyph\":{\"id\":\"1132\"},\"view\":{\"id\":\"1135\"}},\"id\":\"1134\",\"type\":\"GlyphRenderer\"},{\"attributes\":{\"axis_label\":\"Memory (MB)\",\"coordinates\":null,\"formatter\":{\"id\":\"1181\"},\"group\":null,\"major_label_policy\":{\"id\":\"1182\"},\"ticker\":{\"id\":\"1180\"},\"y_range_name\":\"memory\"},\"id\":\"1166\",\"type\":\"LinearAxis\"},{\"attributes\":{},\"id\":\"1118\",\"type\":\"BasicTicker\"},{\"attributes\":{\"data\":{\"x\":[0.0,1.1058097000059206,2.119877000019187,3.1380600000265986,4.1565807000151835,5.172252500022296,6.172772200021427,7.176253000012366,8.189432500017574,9.201772500004154,10.210439600021346,11.212749000027543,12.228810500004329,13.237853300001007,14.242427900026087],\"y\":[734.814208,732.901376,740.708352,754.352128,612.78208,677.21216,714.534912,738.660352,727.252992,658.681856,722.796544,732.71296,695.545856,668.520448,667.488256]},\"selected\":{\"id\":\"1164\"},\"selection_policy\":{\"id\":\"1163\"}},\"id\":\"1148\",\"type\":\"ColumnDataSource\"},{\"attributes\":{\"axis\":{\"id\":\"1117\"},\"coordinates\":null,\"dimension\":1,\"group\":null,\"ticker\":null},\"id\":\"1120\",\"type\":\"Grid\"},{\"attributes\":{\"line_alpha\":0.1,\"line_color\":\"#440154\",\"line_width\":4,\"x\":{\"field\":\"x\"},\"y\":{\"field\":\"y\"}},\"id\":\"1132\",\"type\":\"Line\"},{\"attributes\":{},\"id\":\"1164\",\"type\":\"Selection\"},{\"attributes\":{\"axis\":{\"id\":\"1113\"},\"coordinates\":null,\"group\":null,\"ticker\":null},\"id\":\"1116\",\"type\":\"Grid\"},{\"attributes\":{\"line_color\":\"#440154\",\"line_width\":4,\"x\":{\"field\":\"x\"},\"y\":{\"field\":\"y\"}},\"id\":\"1131\",\"type\":\"Line\"},{\"attributes\":{\"tools\":[{\"id\":\"1121\"},{\"id\":\"1122\"},{\"id\":\"1123\"},{\"id\":\"1124\"}]},\"id\":\"1125\",\"type\":\"Toolbar\"},{\"attributes\":{},\"id\":\"1114\",\"type\":\"BasicTicker\"},{\"attributes\":{},\"id\":\"1142\",\"type\":\"AllLabels\"},{\"attributes\":{\"axis_label\":\"% CPU\",\"coordinates\":null,\"formatter\":{\"id\":\"1138\"},\"group\":null,\"major_label_policy\":{\"id\":\"1139\"},\"ticker\":{\"id\":\"1118\"}},\"id\":\"1117\",\"type\":\"LinearAxis\"},{\"attributes\":{},\"id\":\"1141\",\"type\":\"BasicTickFormatter\"},{\"attributes\":{\"coordinates\":null,\"group\":null,\"text\":\"Profile Results\"},\"id\":\"1103\",\"type\":\"Title\"},{\"attributes\":{},\"id\":\"1139\",\"type\":\"AllLabels\"},{\"attributes\":{\"end\":14.242427900026087},\"id\":\"1105\",\"type\":\"Range1d\"},{\"attributes\":{\"dimensions\":\"width\"},\"id\":\"1124\",\"type\":\"PanTool\"},{\"attributes\":{},\"id\":\"1109\",\"type\":\"LinearScale\"},{\"attributes\":{},\"id\":\"1138\",\"type\":\"BasicTickFormatter\"},{\"attributes\":{\"axis_label\":\"Time (s)\",\"coordinates\":null,\"formatter\":{\"id\":\"1141\"},\"group\":null,\"major_label_policy\":{\"id\":\"1142\"},\"ticker\":{\"id\":\"1114\"}},\"id\":\"1113\",\"type\":\"LinearAxis\"},{\"attributes\":{},\"id\":\"1111\",\"type\":\"LinearScale\"},{\"attributes\":{\"line_alpha\":0.1,\"line_color\":\"#29788E\",\"line_width\":4,\"x\":{\"field\":\"x\"},\"y\":{\"field\":\"y\"}},\"id\":\"1150\",\"type\":\"Line\"},{\"attributes\":{\"end\":1159.4},\"id\":\"1107\",\"type\":\"Range1d\"},{\"attributes\":{\"label\":{\"value\":\"% CPU\"},\"renderers\":[{\"id\":\"1134\"}]},\"id\":\"1146\",\"type\":\"LegendItem\"},{\"attributes\":{\"line_alpha\":0.2,\"line_color\":\"#29788E\",\"line_width\":4,\"x\":{\"field\":\"x\"},\"y\":{\"field\":\"y\"}},\"id\":\"1151\",\"type\":\"Line\"},{\"attributes\":{\"data\":{\"x\":[0.0,1.1058097000059206,2.119877000019187,3.1380600000265986,4.1565807000151835,5.172252500022296,6.172772200021427,7.176253000012366,8.189432500017574,9.201772500004154,10.210439600021346,11.212749000027543,12.228810500004329,13.237853300001007,14.242427900026087],\"y\":[0.0,862.7,789.7,608.9,562.5,752.0,981.2,1032.8,915.0,799.0,931.2,1143.8,958.1,989.8,1159.4]},\"selected\":{\"id\":\"1144\"},\"selection_policy\":{\"id\":\"1143\"}},\"id\":\"1130\",\"type\":\"ColumnDataSource\"},{\"attributes\":{\"coordinates\":null,\"data_source\":{\"id\":\"1148\"},\"glyph\":{\"id\":\"1149\"},\"group\":null,\"hover_glyph\":null,\"muted_glyph\":{\"id\":\"1151\"},\"nonselection_glyph\":{\"id\":\"1150\"},\"view\":{\"id\":\"1153\"},\"y_range_name\":\"memory\"},\"id\":\"1152\",\"type\":\"GlyphRenderer\"},{\"attributes\":{},\"id\":\"1181\",\"type\":\"BasicTickFormatter\"},{\"attributes\":{\"label\":{\"value\":\"Memory\"},\"renderers\":[{\"id\":\"1152\"}]},\"id\":\"1165\",\"type\":\"LegendItem\"},{\"attributes\":{\"source\":{\"id\":\"1130\"}},\"id\":\"1135\",\"type\":\"CDSView\"},{\"attributes\":{\"line_color\":\"#29788E\",\"line_width\":4,\"x\":{\"field\":\"x\"},\"y\":{\"field\":\"y\"}},\"id\":\"1149\",\"type\":\"Line\"},{\"attributes\":{},\"id\":\"1182\",\"type\":\"AllLabels\"},{\"attributes\":{},\"id\":\"1180\",\"type\":\"BasicTicker\"},{\"attributes\":{\"coordinates\":null,\"group\":null,\"items\":[{\"id\":\"1146\"},{\"id\":\"1165\"}]},\"id\":\"1145\",\"type\":\"Legend\"},{\"attributes\":{\"source\":{\"id\":\"1148\"}},\"id\":\"1153\",\"type\":\"CDSView\"},{\"attributes\":{},\"id\":\"1144\",\"type\":\"Selection\"},{\"attributes\":{\"end\":754.352128,\"start\":612.78208},\"id\":\"1147\",\"type\":\"Range1d\"}],\"root_ids\":[\"1102\"]},\"title\":\"Bokeh Application\",\"version\":\"2.4.3\"}};\n",
       "  const render_items = [{\"docid\":\"a4bbb0ba-52fd-4b01-b4a5-79478933c9d0\",\"root_ids\":[\"1102\"],\"roots\":{\"1102\":\"05564b78-d9c7-4e32-992d-93a2a7ad804d\"}}];\n",
       "  root.Bokeh.embed.embed_items_notebook(docs_json, render_items);\n",
       "  }\n",
       "  if (root.Bokeh !== undefined) {\n",
       "    embed_document(root);\n",
       "  } else {\n",
       "    let attempts = 0;\n",
       "    const timer = setInterval(function(root) {\n",
       "      if (root.Bokeh !== undefined) {\n",
       "        clearInterval(timer);\n",
       "        embed_document(root);\n",
       "      } else {\n",
       "        attempts++;\n",
       "        if (attempts > 100) {\n",
       "          clearInterval(timer);\n",
       "          console.log(\"Bokeh: ERROR: Unable to run BokehJS code because BokehJS library is missing\");\n",
       "        }\n",
       "      }\n",
       "    }, 10, root)\n",
       "  }\n",
       "})(window);"
      ],
      "application/vnd.bokehjs_exec.v0+json": ""
     },
     "metadata": {
      "application/vnd.bokehjs_exec.v0+json": {
       "id": "1102"
      }
     },
     "output_type": "display_data"
    }
   ],
   "source": [
    "profilers[1].visualize();"
   ]
  },
  {
   "cell_type": "markdown",
   "id": "95a9fa0a-f044-40cd-8964-9e4a1911fa87",
   "metadata": {},
   "source": [
    "We ran the calculation on a single computer with an 4-core CPU with 2 threads per core for 8 threads total. We see that our peak CPU usage was $\\sim 600 \\%$, this is a fairly typical usage statistic for a single machine, overhead and background processes limited us from reaching the $800 \\ \\%$ corresponding to using every available thread maximally.\n",
    "\n",
    "We also see that the total memory use reached around 800 MB. If you are running the calculation on a system with more threads your memory consumption may be larger – it may even exceed the total memory cost of all the wave functions, as every parallel run of the multislice algorithm requires a significant overhead for intermediate results (such as potential slices and Fresnel propagators). If your calculation runs out of memory you can lower the number of workers, thus trading away computational speed for lower memory consumption.\n",
    "\n",
    "We note that the overhead in both CPU usage and memory diminishes for larger simulation with more powerful hardware."
   ]
  },
  {
   "cell_type": "markdown",
   "id": "88a96448-5a2a-4c60-9ce7-7a2f43845d3c",
   "metadata": {},
   "source": [
    "### The (locally) distributed scheduler\n",
    "The Dask distributed scheduler is necessary for running your simulations on a cluster, but it also runs [locally on a personal machine](https://docs.dask.org/en/stable/scheduling.html#dask-distributed-local). You can find details in the Dask documentation, but we demonstrate the basics below.\n",
    "\n",
    "You can use the Dask distributed scheduler by just initializing a [Dask Client](https://distributed.dask.org/en/stable/client.html). The `Client` takes keyword arguments such as `n_workers` (note that this is different from `num_workers` above!)"
   ]
  },
  {
   "cell_type": "code",
   "execution_count": 17,
   "id": "2b7c37a3-909c-482e-99fb-72e4eb222a5a",
   "metadata": {},
   "outputs": [
    {
     "data": {
      "text/html": [
       "<div>\n",
       "    <div style=\"width: 24px; height: 24px; background-color: #e1e1e1; border: 3px solid #9D9D9D; border-radius: 5px; position: absolute;\"> </div>\n",
       "    <div style=\"margin-left: 48px;\">\n",
       "        <h3 style=\"margin-bottom: 0px;\">Client</h3>\n",
       "        <p style=\"color: #9D9D9D; margin-bottom: 0px;\">Client-f58ae1de-e83a-11ed-bd04-3800259eb785</p>\n",
       "        <table style=\"width: 100%; text-align: left;\">\n",
       "\n",
       "        <tr>\n",
       "        \n",
       "            <td style=\"text-align: left;\"><strong>Connection method:</strong> Cluster object</td>\n",
       "            <td style=\"text-align: left;\"><strong>Cluster type:</strong> distributed.LocalCluster</td>\n",
       "        \n",
       "        </tr>\n",
       "\n",
       "        \n",
       "            <tr>\n",
       "                <td style=\"text-align: left;\">\n",
       "                    <strong>Dashboard: </strong> <a href=\"http://127.0.0.1:8787/status\" target=\"_blank\">http://127.0.0.1:8787/status</a>\n",
       "                </td>\n",
       "                <td style=\"text-align: left;\"></td>\n",
       "            </tr>\n",
       "        \n",
       "\n",
       "        </table>\n",
       "\n",
       "        \n",
       "            <button style=\"margin-bottom: 12px;\" data-commandlinker-command=\"dask:populate-and-launch-layout\" data-commandlinker-args='{\"url\": \"http://127.0.0.1:8787/status\" }'>\n",
       "                Launch dashboard in JupyterLab\n",
       "            </button>\n",
       "        \n",
       "\n",
       "        \n",
       "            <details>\n",
       "            <summary style=\"margin-bottom: 20px;\"><h3 style=\"display: inline;\">Cluster Info</h3></summary>\n",
       "            <div class=\"jp-RenderedHTMLCommon jp-RenderedHTML jp-mod-trusted jp-OutputArea-output\">\n",
       "    <div style=\"width: 24px; height: 24px; background-color: #e1e1e1; border: 3px solid #9D9D9D; border-radius: 5px; position: absolute;\">\n",
       "    </div>\n",
       "    <div style=\"margin-left: 48px;\">\n",
       "        <h3 style=\"margin-bottom: 0px; margin-top: 0px;\">LocalCluster</h3>\n",
       "        <p style=\"color: #9D9D9D; margin-bottom: 0px;\">dcd61db8</p>\n",
       "        <table style=\"width: 100%; text-align: left;\">\n",
       "            <tr>\n",
       "                <td style=\"text-align: left;\">\n",
       "                    <strong>Dashboard:</strong> <a href=\"http://127.0.0.1:8787/status\" target=\"_blank\">http://127.0.0.1:8787/status</a>\n",
       "                </td>\n",
       "                <td style=\"text-align: left;\">\n",
       "                    <strong>Workers:</strong> 6\n",
       "                </td>\n",
       "            </tr>\n",
       "            <tr>\n",
       "                <td style=\"text-align: left;\">\n",
       "                    <strong>Total threads:</strong> 18\n",
       "                </td>\n",
       "                <td style=\"text-align: left;\">\n",
       "                    <strong>Total memory:</strong> 31.93 GiB\n",
       "                </td>\n",
       "            </tr>\n",
       "            \n",
       "            <tr>\n",
       "    <td style=\"text-align: left;\"><strong>Status:</strong> running</td>\n",
       "    <td style=\"text-align: left;\"><strong>Using processes:</strong> True</td>\n",
       "</tr>\n",
       "\n",
       "            \n",
       "        </table>\n",
       "\n",
       "        <details>\n",
       "            <summary style=\"margin-bottom: 20px;\">\n",
       "                <h3 style=\"display: inline;\">Scheduler Info</h3>\n",
       "            </summary>\n",
       "\n",
       "            <div style=\"\">\n",
       "    <div>\n",
       "        <div style=\"width: 24px; height: 24px; background-color: #FFF7E5; border: 3px solid #FF6132; border-radius: 5px; position: absolute;\"> </div>\n",
       "        <div style=\"margin-left: 48px;\">\n",
       "            <h3 style=\"margin-bottom: 0px;\">Scheduler</h3>\n",
       "            <p style=\"color: #9D9D9D; margin-bottom: 0px;\">Scheduler-3c22faa1-479d-45b3-b944-04378e70d7ed</p>\n",
       "            <table style=\"width: 100%; text-align: left;\">\n",
       "                <tr>\n",
       "                    <td style=\"text-align: left;\">\n",
       "                        <strong>Comm:</strong> tcp://127.0.0.1:58634\n",
       "                    </td>\n",
       "                    <td style=\"text-align: left;\">\n",
       "                        <strong>Workers:</strong> 6\n",
       "                    </td>\n",
       "                </tr>\n",
       "                <tr>\n",
       "                    <td style=\"text-align: left;\">\n",
       "                        <strong>Dashboard:</strong> <a href=\"http://127.0.0.1:8787/status\" target=\"_blank\">http://127.0.0.1:8787/status</a>\n",
       "                    </td>\n",
       "                    <td style=\"text-align: left;\">\n",
       "                        <strong>Total threads:</strong> 18\n",
       "                    </td>\n",
       "                </tr>\n",
       "                <tr>\n",
       "                    <td style=\"text-align: left;\">\n",
       "                        <strong>Started:</strong> Just now\n",
       "                    </td>\n",
       "                    <td style=\"text-align: left;\">\n",
       "                        <strong>Total memory:</strong> 31.93 GiB\n",
       "                    </td>\n",
       "                </tr>\n",
       "            </table>\n",
       "        </div>\n",
       "    </div>\n",
       "\n",
       "    <details style=\"margin-left: 48px;\">\n",
       "        <summary style=\"margin-bottom: 20px;\">\n",
       "            <h3 style=\"display: inline;\">Workers</h3>\n",
       "        </summary>\n",
       "\n",
       "        \n",
       "        <div style=\"margin-bottom: 20px;\">\n",
       "            <div style=\"width: 24px; height: 24px; background-color: #DBF5FF; border: 3px solid #4CC9FF; border-radius: 5px; position: absolute;\"> </div>\n",
       "            <div style=\"margin-left: 48px;\">\n",
       "            <details>\n",
       "                <summary>\n",
       "                    <h4 style=\"margin-bottom: 0px; display: inline;\">Worker: 0</h4>\n",
       "                </summary>\n",
       "                <table style=\"width: 100%; text-align: left;\">\n",
       "                    <tr>\n",
       "                        <td style=\"text-align: left;\">\n",
       "                            <strong>Comm: </strong> tcp://127.0.0.1:58667\n",
       "                        </td>\n",
       "                        <td style=\"text-align: left;\">\n",
       "                            <strong>Total threads: </strong> 3\n",
       "                        </td>\n",
       "                    </tr>\n",
       "                    <tr>\n",
       "                        <td style=\"text-align: left;\">\n",
       "                            <strong>Dashboard: </strong> <a href=\"http://127.0.0.1:58668/status\" target=\"_blank\">http://127.0.0.1:58668/status</a>\n",
       "                        </td>\n",
       "                        <td style=\"text-align: left;\">\n",
       "                            <strong>Memory: </strong> 5.32 GiB\n",
       "                        </td>\n",
       "                    </tr>\n",
       "                    <tr>\n",
       "                        <td style=\"text-align: left;\">\n",
       "                            <strong>Nanny: </strong> tcp://127.0.0.1:58637\n",
       "                        </td>\n",
       "                        <td style=\"text-align: left;\"></td>\n",
       "                    </tr>\n",
       "                    <tr>\n",
       "                        <td colspan=\"2\" style=\"text-align: left;\">\n",
       "                            <strong>Local directory: </strong> C:\\Users\\jacob\\AppData\\Local\\Temp\\dask-worker-space\\worker-5i8yt687\n",
       "                        </td>\n",
       "                    </tr>\n",
       "\n",
       "                    \n",
       "\n",
       "                    \n",
       "\n",
       "                </table>\n",
       "            </details>\n",
       "            </div>\n",
       "        </div>\n",
       "        \n",
       "        <div style=\"margin-bottom: 20px;\">\n",
       "            <div style=\"width: 24px; height: 24px; background-color: #DBF5FF; border: 3px solid #4CC9FF; border-radius: 5px; position: absolute;\"> </div>\n",
       "            <div style=\"margin-left: 48px;\">\n",
       "            <details>\n",
       "                <summary>\n",
       "                    <h4 style=\"margin-bottom: 0px; display: inline;\">Worker: 1</h4>\n",
       "                </summary>\n",
       "                <table style=\"width: 100%; text-align: left;\">\n",
       "                    <tr>\n",
       "                        <td style=\"text-align: left;\">\n",
       "                            <strong>Comm: </strong> tcp://127.0.0.1:58671\n",
       "                        </td>\n",
       "                        <td style=\"text-align: left;\">\n",
       "                            <strong>Total threads: </strong> 3\n",
       "                        </td>\n",
       "                    </tr>\n",
       "                    <tr>\n",
       "                        <td style=\"text-align: left;\">\n",
       "                            <strong>Dashboard: </strong> <a href=\"http://127.0.0.1:58672/status\" target=\"_blank\">http://127.0.0.1:58672/status</a>\n",
       "                        </td>\n",
       "                        <td style=\"text-align: left;\">\n",
       "                            <strong>Memory: </strong> 5.32 GiB\n",
       "                        </td>\n",
       "                    </tr>\n",
       "                    <tr>\n",
       "                        <td style=\"text-align: left;\">\n",
       "                            <strong>Nanny: </strong> tcp://127.0.0.1:58638\n",
       "                        </td>\n",
       "                        <td style=\"text-align: left;\"></td>\n",
       "                    </tr>\n",
       "                    <tr>\n",
       "                        <td colspan=\"2\" style=\"text-align: left;\">\n",
       "                            <strong>Local directory: </strong> C:\\Users\\jacob\\AppData\\Local\\Temp\\dask-worker-space\\worker-f3d921vj\n",
       "                        </td>\n",
       "                    </tr>\n",
       "\n",
       "                    \n",
       "\n",
       "                    \n",
       "\n",
       "                </table>\n",
       "            </details>\n",
       "            </div>\n",
       "        </div>\n",
       "        \n",
       "        <div style=\"margin-bottom: 20px;\">\n",
       "            <div style=\"width: 24px; height: 24px; background-color: #DBF5FF; border: 3px solid #4CC9FF; border-radius: 5px; position: absolute;\"> </div>\n",
       "            <div style=\"margin-left: 48px;\">\n",
       "            <details>\n",
       "                <summary>\n",
       "                    <h4 style=\"margin-bottom: 0px; display: inline;\">Worker: 2</h4>\n",
       "                </summary>\n",
       "                <table style=\"width: 100%; text-align: left;\">\n",
       "                    <tr>\n",
       "                        <td style=\"text-align: left;\">\n",
       "                            <strong>Comm: </strong> tcp://127.0.0.1:58679\n",
       "                        </td>\n",
       "                        <td style=\"text-align: left;\">\n",
       "                            <strong>Total threads: </strong> 3\n",
       "                        </td>\n",
       "                    </tr>\n",
       "                    <tr>\n",
       "                        <td style=\"text-align: left;\">\n",
       "                            <strong>Dashboard: </strong> <a href=\"http://127.0.0.1:58680/status\" target=\"_blank\">http://127.0.0.1:58680/status</a>\n",
       "                        </td>\n",
       "                        <td style=\"text-align: left;\">\n",
       "                            <strong>Memory: </strong> 5.32 GiB\n",
       "                        </td>\n",
       "                    </tr>\n",
       "                    <tr>\n",
       "                        <td style=\"text-align: left;\">\n",
       "                            <strong>Nanny: </strong> tcp://127.0.0.1:58639\n",
       "                        </td>\n",
       "                        <td style=\"text-align: left;\"></td>\n",
       "                    </tr>\n",
       "                    <tr>\n",
       "                        <td colspan=\"2\" style=\"text-align: left;\">\n",
       "                            <strong>Local directory: </strong> C:\\Users\\jacob\\AppData\\Local\\Temp\\dask-worker-space\\worker-sedwmsyk\n",
       "                        </td>\n",
       "                    </tr>\n",
       "\n",
       "                    \n",
       "\n",
       "                    \n",
       "\n",
       "                </table>\n",
       "            </details>\n",
       "            </div>\n",
       "        </div>\n",
       "        \n",
       "        <div style=\"margin-bottom: 20px;\">\n",
       "            <div style=\"width: 24px; height: 24px; background-color: #DBF5FF; border: 3px solid #4CC9FF; border-radius: 5px; position: absolute;\"> </div>\n",
       "            <div style=\"margin-left: 48px;\">\n",
       "            <details>\n",
       "                <summary>\n",
       "                    <h4 style=\"margin-bottom: 0px; display: inline;\">Worker: 3</h4>\n",
       "                </summary>\n",
       "                <table style=\"width: 100%; text-align: left;\">\n",
       "                    <tr>\n",
       "                        <td style=\"text-align: left;\">\n",
       "                            <strong>Comm: </strong> tcp://127.0.0.1:58670\n",
       "                        </td>\n",
       "                        <td style=\"text-align: left;\">\n",
       "                            <strong>Total threads: </strong> 3\n",
       "                        </td>\n",
       "                    </tr>\n",
       "                    <tr>\n",
       "                        <td style=\"text-align: left;\">\n",
       "                            <strong>Dashboard: </strong> <a href=\"http://127.0.0.1:58673/status\" target=\"_blank\">http://127.0.0.1:58673/status</a>\n",
       "                        </td>\n",
       "                        <td style=\"text-align: left;\">\n",
       "                            <strong>Memory: </strong> 5.32 GiB\n",
       "                        </td>\n",
       "                    </tr>\n",
       "                    <tr>\n",
       "                        <td style=\"text-align: left;\">\n",
       "                            <strong>Nanny: </strong> tcp://127.0.0.1:58640\n",
       "                        </td>\n",
       "                        <td style=\"text-align: left;\"></td>\n",
       "                    </tr>\n",
       "                    <tr>\n",
       "                        <td colspan=\"2\" style=\"text-align: left;\">\n",
       "                            <strong>Local directory: </strong> C:\\Users\\jacob\\AppData\\Local\\Temp\\dask-worker-space\\worker-q0g5cxj4\n",
       "                        </td>\n",
       "                    </tr>\n",
       "\n",
       "                    \n",
       "\n",
       "                    \n",
       "\n",
       "                </table>\n",
       "            </details>\n",
       "            </div>\n",
       "        </div>\n",
       "        \n",
       "        <div style=\"margin-bottom: 20px;\">\n",
       "            <div style=\"width: 24px; height: 24px; background-color: #DBF5FF; border: 3px solid #4CC9FF; border-radius: 5px; position: absolute;\"> </div>\n",
       "            <div style=\"margin-left: 48px;\">\n",
       "            <details>\n",
       "                <summary>\n",
       "                    <h4 style=\"margin-bottom: 0px; display: inline;\">Worker: 4</h4>\n",
       "                </summary>\n",
       "                <table style=\"width: 100%; text-align: left;\">\n",
       "                    <tr>\n",
       "                        <td style=\"text-align: left;\">\n",
       "                            <strong>Comm: </strong> tcp://127.0.0.1:58664\n",
       "                        </td>\n",
       "                        <td style=\"text-align: left;\">\n",
       "                            <strong>Total threads: </strong> 3\n",
       "                        </td>\n",
       "                    </tr>\n",
       "                    <tr>\n",
       "                        <td style=\"text-align: left;\">\n",
       "                            <strong>Dashboard: </strong> <a href=\"http://127.0.0.1:58665/status\" target=\"_blank\">http://127.0.0.1:58665/status</a>\n",
       "                        </td>\n",
       "                        <td style=\"text-align: left;\">\n",
       "                            <strong>Memory: </strong> 5.32 GiB\n",
       "                        </td>\n",
       "                    </tr>\n",
       "                    <tr>\n",
       "                        <td style=\"text-align: left;\">\n",
       "                            <strong>Nanny: </strong> tcp://127.0.0.1:58641\n",
       "                        </td>\n",
       "                        <td style=\"text-align: left;\"></td>\n",
       "                    </tr>\n",
       "                    <tr>\n",
       "                        <td colspan=\"2\" style=\"text-align: left;\">\n",
       "                            <strong>Local directory: </strong> C:\\Users\\jacob\\AppData\\Local\\Temp\\dask-worker-space\\worker-cn5plkf6\n",
       "                        </td>\n",
       "                    </tr>\n",
       "\n",
       "                    \n",
       "\n",
       "                    \n",
       "\n",
       "                </table>\n",
       "            </details>\n",
       "            </div>\n",
       "        </div>\n",
       "        \n",
       "        <div style=\"margin-bottom: 20px;\">\n",
       "            <div style=\"width: 24px; height: 24px; background-color: #DBF5FF; border: 3px solid #4CC9FF; border-radius: 5px; position: absolute;\"> </div>\n",
       "            <div style=\"margin-left: 48px;\">\n",
       "            <details>\n",
       "                <summary>\n",
       "                    <h4 style=\"margin-bottom: 0px; display: inline;\">Worker: 5</h4>\n",
       "                </summary>\n",
       "                <table style=\"width: 100%; text-align: left;\">\n",
       "                    <tr>\n",
       "                        <td style=\"text-align: left;\">\n",
       "                            <strong>Comm: </strong> tcp://127.0.0.1:58676\n",
       "                        </td>\n",
       "                        <td style=\"text-align: left;\">\n",
       "                            <strong>Total threads: </strong> 3\n",
       "                        </td>\n",
       "                    </tr>\n",
       "                    <tr>\n",
       "                        <td style=\"text-align: left;\">\n",
       "                            <strong>Dashboard: </strong> <a href=\"http://127.0.0.1:58677/status\" target=\"_blank\">http://127.0.0.1:58677/status</a>\n",
       "                        </td>\n",
       "                        <td style=\"text-align: left;\">\n",
       "                            <strong>Memory: </strong> 5.32 GiB\n",
       "                        </td>\n",
       "                    </tr>\n",
       "                    <tr>\n",
       "                        <td style=\"text-align: left;\">\n",
       "                            <strong>Nanny: </strong> tcp://127.0.0.1:58642\n",
       "                        </td>\n",
       "                        <td style=\"text-align: left;\"></td>\n",
       "                    </tr>\n",
       "                    <tr>\n",
       "                        <td colspan=\"2\" style=\"text-align: left;\">\n",
       "                            <strong>Local directory: </strong> C:\\Users\\jacob\\AppData\\Local\\Temp\\dask-worker-space\\worker-skzutax_\n",
       "                        </td>\n",
       "                    </tr>\n",
       "\n",
       "                    \n",
       "\n",
       "                    \n",
       "\n",
       "                </table>\n",
       "            </details>\n",
       "            </div>\n",
       "        </div>\n",
       "        \n",
       "\n",
       "    </details>\n",
       "</div>\n",
       "\n",
       "        </details>\n",
       "    </div>\n",
       "</div>\n",
       "            </details>\n",
       "        \n",
       "\n",
       "    </div>\n",
       "</div>"
      ],
      "text/plain": [
       "<Client: 'tcp://127.0.0.1:58634' processes=6 threads=18, memory=31.93 GiB>"
      ]
     },
     "execution_count": 17,
     "metadata": {},
     "output_type": "execute_result"
    }
   ],
   "source": [
    "from dask.distributed import Client\n",
    "\n",
    "client = Client(n_workers=6)\n",
    "client"
   ]
  },
  {
   "cell_type": "markdown",
   "id": "cd8cacd8-4c48-4eea-930c-33f3fe834410",
   "metadata": {},
   "source": [
    "After intializing the client object, any *ab*TEM computation will use the Dask distributed scheduler."
   ]
  },
  {
   "cell_type": "code",
   "execution_count": 18,
   "id": "2b0d7e8f-24dd-4ada-9650-874e750a3652",
   "metadata": {},
   "outputs": [
    {
     "data": {
      "text/plain": [
       "<abtem.measurements.Images object at 0x000001DA0A57B0A0>"
      ]
     },
     "execution_count": 18,
     "metadata": {},
     "output_type": "execute_result"
    }
   ],
   "source": [
    "haadf_images = detector.detect(exit_waves_stem).reduce_ensemble()\n",
    "haadf_images.compute() #compute()"
   ]
  },
  {
   "cell_type": "markdown",
   "id": "31a20506-7155-45f0-b641-3931bbb20029",
   "metadata": {},
   "source": [
    "A benefit of using the distributed scheduler on a single machine is the live diagnostic dashboard. You can access this through the Dashboard link shown in the `__repr__` for the `Client` above (for details you can watch [this](https://www.youtube.com/watch?v=N_GqzcuGLCY) video walkthrough). If you are using Jupyter Lab, the [Dask labextension](https://github.com/dask/dask-labextension) provides the same information as a panel inside the Jupyter Lab editor.\n",
    "\n",
    "We can get back to the local scheduler by closing the `Client`."
   ]
  },
  {
   "cell_type": "code",
   "execution_count": 19,
   "id": "e38de7a7-2b82-442e-8258-d9e2717a7b2b",
   "metadata": {},
   "outputs": [],
   "source": [
    "client.close()"
   ]
  },
  {
   "cell_type": "markdown",
   "id": "dffe61f7-43d8-47e6-a00a-3e73e33320ad",
   "metadata": {},
   "source": [
    "### Running *ab*TEM on HPC clusters\n",
    "\n",
    "Dask (and thus *ab*TEM) has robust tools for deployment on high-performance compute clusters. We recommend consulting your HPC provider on how to deploy Dask applications on your available cluster. For general advice on deployment, please see the [Dask documentation](https://docs.dask.org/en/stable/deploying.html).\n",
    "\n",
    "#### Submitting job scripts \n",
    "\n",
    "As an overview, Dask provides a number of different cluster managers, so you can use distributed Dask on a range of platforms. These cluster managers deploy a scheduler and the necessary workers as determined by communicating with the resource manager. All cluster managers follow the same interface but have platform-specific configuration options.\n",
    "\n",
    "As an example, for deployment using [SLURM](https://slurm.schedmd.com/documentation.html), your script might look something like:\n",
    "\n",
    "```python\n",
    "from dask_jobqueue import SLURMCluster\n",
    "from dask.distributed import Client\n",
    "\n",
    "cluster = SLURMCluster(\n",
    "    queue=\"regular\",\n",
    "    account=\"myaccount\",\n",
    "    cores=32,\n",
    "    memory=\"128 GB\"\n",
    ")\n",
    "\n",
    "client = Client(cluster)\n",
    "\n",
    "# Your abTEM code goes here\n",
    "\n",
    "```\n",
    "\n",
    "Dask also supports deployment from within an existing MPI environment, such as one created with the common MPI command-line launcher `mpirun`, see [here](http://mpi.dask.org/en/latest/) for more information. You can turn your batch Python script into an MPI executable with the `dask_mpi.initialize` function. \n",
    "\n",
    "```python\n",
    "from dask_mpi import initialize\n",
    "initialize()\n",
    "\n",
    "from dask.distributed import Client\n",
    "client = Client()  # Connect this local process to remote workers\n",
    "\n",
    "# Your abTEM code goes here\n",
    "```\n",
    "\n",
    "This makes your Python script launchable directly with `mpirun`:\n",
    "```\n",
    "mpirun -np 4 python my_client_script.py\n",
    "```"
   ]
  },
  {
   "cell_type": "markdown",
   "id": "e39cb8d2-a898-478d-9831-275ac5f2f06b",
   "metadata": {
    "pycharm": {
     "name": "#%% md\n"
    }
   },
   "source": [
    "(walkthrough:parallelization:gpu)=\n",
    "## Using GPUs\n",
    "\n",
    "Almost every part of *ab*TEM can be accelerated using a GPU through the [CuPy](https://cupy.dev/) library. We have only tested CUDA-compatible GPUs, but any graphics card compatible with CuPy should work.\n",
    "\n",
    "If you have a compatible GPU and a working installation of CuPy, you can accelerate your image simulations by simply changing the configs at the top of your document as below:\n",
    "```python\n",
    "abtem.config.set({\"device\": \"gpu\"});\n",
    "```\n",
    "On a single GPU, you may also want to limit the number of workers to one, `num_workers=1`. As described above, this may be done through the Dask config:\n",
    "```python\n",
    "dask.config.set({\"num_workers\": 1});\n",
    "```\n",
    "\n",
    "Note that Dask does not manage GPU threads. This makes the choice of batch sizes (i.e. propagating multiple wave functions in a single batch) extremely important in order to fully utilize your GPU. The default batch size in GPU calculations in abTEM is $512\\ \\mathrm{MB}$, which is four times larger than the CPU batch size, but if your GPU has $8\\ \\mathrm{GB}$ or more memory, you will likely be able to increase this number to $2048\\ \\mathrm{MB}$.\n",
    "\n",
    "```python\n",
    "abtem.config.set({\"dask.chunk-size-gpu\" : \"512 MB\"})\n",
    "```\n",
    "\n",
    "```{note}\n",
    "The batch size only determines the maximum number of plane waves in a batch, so you need to leave room in the memory for any intermediate overhead. \n",
    "```\n",
    "\n",
    "Finally, *ab*TEM by default sets the [FFT plan cache](https://docs.cupy.dev/en/stable/user_guide/fft.html#fft-plan-cache) size of `cupy` to zero, as we find that in most cases the increased memory consumption of the plans are not worth the small speedup they provide. You can however also change this through the *ab*TEM config.\n",
    "\n",
    "```python\n",
    "abtem.config.set({\"cupy.fft-cache-size\" : \"1024 MB\"})\n",
    "```"
   ]
  },
  {
   "cell_type": "markdown",
   "id": "94cdb086-c8a9-4736-a345-311d47379f34",
   "metadata": {},
   "source": [
    "### Multiple GPUs \n",
    "The above is enough for running *ab*TEM on a single GPU; if you are using an NVidia GPU, you may want to install `dask_cuda` (this is currently only supported on Linux). However, `dask_cuda` is currently necessary for multi-GPU calculations with *ab*TEM.\n",
    "\n",
    "```python\n",
    "from dask_cuda import LocalCUDACluster\n",
    "from dask.distributed import Client\n",
    "\n",
    "cluster = LocalCUDACluster()\n",
    "client = Client(cluster)\n",
    "```"
   ]
  },
  {
   "cell_type": "code",
   "execution_count": null,
   "id": "fa8f869a-ec10-4126-afc5-4c0bfaff3179",
   "metadata": {},
   "outputs": [],
   "source": []
  }
 ],
 "metadata": {
  "kernelspec": {
   "display_name": "abtem-dask",
   "language": "python",
   "name": "abtem-dask"
  },
  "language_info": {
   "codemirror_mode": {
    "name": "ipython",
    "version": 3
   },
   "file_extension": ".py",
   "mimetype": "text/x-python",
   "name": "python",
   "nbconvert_exporter": "python",
   "pygments_lexer": "ipython3",
   "version": "3.10.8"
  },
  "widgets": {
   "application/vnd.jupyter.widget-state+json": {
    "state": {
     "01a1b1a182ab4717b0668cfd314dc82c": {
      "model_module": "jupyter-cytoscape",
      "model_module_version": "^1.3.3",
      "model_name": "NodeModel",
      "state": {
       "_model_module_version": "^1.3.3",
       "_view_module_version": "^1.3.3",
       "data": {
        "color": "gray",
        "id": "1085411951500026183",
        "label": "3",
        "shape": "rectangle"
       },
       "grabbable": true,
       "grabbed": false,
       "position": {
        "x": 545.5,
        "y": 1475
       },
       "selectable": false
      }
     },
     "03285788305e48a2957f97163af71c9d": {
      "model_module": "jupyter-cytoscape",
      "model_module_version": "^1.3.3",
      "model_name": "NodeModel",
      "state": {
       "_model_module_version": "^1.3.3",
       "_view_module_version": "^1.3.3",
       "data": {
        "color": "gray",
        "id": "-2809696302256404093",
        "label": "intensity",
        "shape": "ellipse"
       },
       "grabbable": true,
       "grabbed": false,
       "position": {
        "x": 545.5,
        "y": 875
       },
       "selectable": false
      }
     },
     "0438c39260754275b41a5da345d9b3d5": {
      "model_module": "jupyter-cytoscape",
      "model_module_version": "^1.3.3",
      "model_name": "NodeModel",
      "state": {
       "_model_module_version": "^1.3.3",
       "_view_module_version": "^1.3.3",
       "data": {
        "color": "gray",
        "id": "7678235076085439578",
        "label": "(1, 0, 0)",
        "shape": "rectangle"
       },
       "grabbable": true,
       "grabbed": false,
       "position": {
        "x": 545.5,
        "y": 35
       },
       "selectable": false
      }
     },
     "05229d530a104b74846569ad1c0cb75d": {
      "model_module": "jupyter-cytoscape",
      "model_module_version": "^1.3.3",
      "model_name": "NodeModel",
      "state": {
       "_model_module_version": "^1.3.3",
       "_view_module_version": "^1.3.3",
       "data": {
        "color": "gray",
        "id": "-529154775629275876",
        "label": "1",
        "shape": "rectangle"
       },
       "grabbable": true,
       "grabbed": false,
       "position": {
        "x": 1279.5,
        "y": 1475
       },
       "selectable": false
      }
     },
     "0715f0dacd4d4b5a8abf6587bf77654f": {
      "model_module": "jupyter-cytoscape",
      "model_module_version": "^1.3.3",
      "model_name": "NodeModel",
      "state": {
       "_model_module_version": "^1.3.3",
       "_view_module_version": "^1.3.3",
       "data": {
        "color": "gray",
        "id": "-8212648725776401941",
        "label": "0",
        "shape": "rectangle"
       },
       "grabbable": true,
       "grabbed": false,
       "position": {
        "x": 912.5,
        "y": 635
       },
       "selectable": false
      }
     },
     "077e5524962d4a25a58c3082ba95820c": {
      "model_module": "@jupyter-widgets/base",
      "model_module_version": "2.0.0",
      "model_name": "LayoutModel",
      "state": {
       "height": "400px"
      }
     },
     "0882d87a04c143108c668d0bb8c9baa5": {
      "model_module": "jupyter-cytoscape",
      "model_module_version": "^1.3.3",
      "model_name": "NodeModel",
      "state": {
       "_model_module_version": "^1.3.3",
       "_view_module_version": "^1.3.3",
       "data": {
        "color": "gray",
        "id": "-2843519414721284291",
        "label": "(2, 0, 0)",
        "shape": "rectangle"
       },
       "grabbable": true,
       "grabbed": false,
       "position": {
        "x": 178.5,
        "y": 995
       },
       "selectable": false
      }
     },
     "0c7407524bc249cba5fa5135b43cf5df": {
      "model_module": "jupyter-cytoscape",
      "model_module_version": "^1.3.3",
      "model_name": "EdgeModel",
      "state": {
       "_model_module_version": "^1.3.3",
       "_view_module_version": "^1.3.3",
       "classes": " directed ",
       "data": {
        "id": "a89dd2ee-b9c6-496d-b626-9e1d7595642e",
        "source": "1723271752263943708",
        "target": "-3606315626874523598"
       },
       "selectable": false
      }
     },
     "0d60301aa43a4b17a80b81978c59be49": {
      "model_module": "jupyter-cytoscape",
      "model_module_version": "^1.3.3",
      "model_name": "NodeModel",
      "state": {
       "_model_module_version": "^1.3.3",
       "_view_module_version": "^1.3.3",
       "data": {
        "color": "gray",
        "id": "-4888149582364544781",
        "label": "extract_measurement",
        "shape": "ellipse"
       },
       "grabbable": true,
       "grabbed": false,
       "position": {
        "x": 545.5,
        "y": 155
       },
       "selectable": false
      }
     },
     "0e212a9963cd4373b4396aa60b889f4e": {
      "model_module": "jupyter-cytoscape",
      "model_module_version": "^1.3.3",
      "model_name": "EdgeModel",
      "state": {
       "_model_module_version": "^1.3.3",
       "_view_module_version": "^1.3.3",
       "classes": " directed ",
       "data": {
        "id": "b6a0003c-0154-4014-b486-b2996bee3ebd",
        "source": "-5781255077600032181",
        "target": "997040717761818877"
       },
       "selectable": false
      }
     },
     "0f743def3aa0445db605d9ae09eeb863": {
      "model_module": "jupyter-cytoscape",
      "model_module_version": "^1.3.3",
      "model_name": "EdgeModel",
      "state": {
       "_model_module_version": "^1.3.3",
       "_view_module_version": "^1.3.3",
       "classes": " directed ",
       "data": {
        "id": "8f45d41b-89e2-48a5-9902-87825c61cca7",
        "source": "-975648152280315770",
        "target": "-5454616645910432204"
       },
       "selectable": false
      }
     },
     "1094bdcc9e4d46f5b1e4a183667d1835": {
      "model_module": "jupyter-cytoscape",
      "model_module_version": "^1.3.3",
      "model_name": "NodeModel",
      "state": {
       "_model_module_version": "^1.3.3",
       "_view_module_version": "^1.3.3",
       "data": {
        "color": "gray",
        "id": "5337896784629353535",
        "label": "",
        "shape": "rectangle"
       },
       "grabbable": true,
       "grabbed": false,
       "position": {
        "x": 912.5,
        "y": 995
       },
       "selectable": false
      }
     },
     "10e5b7661692469283aa27d3bc6e77b7": {
      "model_module": "jupyter-cytoscape",
      "model_module_version": "^1.3.3",
      "model_name": "EdgeModel",
      "state": {
       "_model_module_version": "^1.3.3",
       "_view_module_version": "^1.3.3",
       "classes": " directed ",
       "data": {
        "id": "4ad7977d-0207-4092-89fd-6831a4001db5",
        "source": "-8212648725776401941",
        "target": "5978485980472722549"
       },
       "selectable": false
      }
     },
     "19394db256b34199aafe61c08d004efa": {
      "model_module": "jupyter-cytoscape",
      "model_module_version": "^1.3.3",
      "model_name": "EdgeModel",
      "state": {
       "_model_module_version": "^1.3.3",
       "_view_module_version": "^1.3.3",
       "classes": " directed ",
       "data": {
        "id": "ce099467-f733-42b4-9a4c-c4b801835bff",
        "source": "8109201440656814751",
        "target": "-8911303611153779914"
       },
       "selectable": false
      }
     },
     "19a481eeae9f4b839680a5db2225deb2": {
      "model_module": "jupyter-cytoscape",
      "model_module_version": "^1.3.3",
      "model_name": "NodeModel",
      "state": {
       "_model_module_version": "^1.3.3",
       "_view_module_version": "^1.3.3",
       "data": {
        "color": "gray",
        "id": "5978485980472722549",
        "label": "2",
        "shape": "rectangle"
       },
       "grabbable": true,
       "grabbed": false,
       "position": {
        "x": 178.5,
        "y": 1475
       },
       "selectable": false
      }
     },
     "1a55d88f1b8c4efcb5f31cdd2b0d9f7d": {
      "model_module": "jupyter-cytoscape",
      "model_module_version": "^1.3.3",
      "model_name": "GraphModel",
      "state": {
       "_adj": {
        "-1112242655355811420": {},
        "-147531381724615491": {},
        "-1551061172200993735": {},
        "-1892055594409640941": {},
        "-2096639438270986525": {},
        "-209718090337684999": {},
        "-2638438148746906173": {},
        "-2794818360831510968": {},
        "-2809696302256404093": {},
        "-2843519414721284291": {},
        "-2993913355004686177": {},
        "-3488440626372327540": {},
        "-3606315626874523598": {},
        "-3648763719720139567": {},
        "-3896033311210877489": {},
        "-4455112467544290847": {},
        "-4873302259584143306": {},
        "-4888149582364544781": {},
        "-5022760253900524454": {},
        "-529154775629275876": {},
        "-5454616645910432204": {},
        "-5781255077600032181": {},
        "-6274431168249504483": {},
        "-6458404547314626517": {},
        "-7173382570491175912": {},
        "-81111989138868833": {},
        "-8212648725776401941": {},
        "-8559770428161864702": {},
        "-8911303611153779914": {},
        "-975648152280315770": {},
        "1085411951500026183": {},
        "1468814177293301289": {},
        "1723271752263943708": {},
        "2369830892600547874": {},
        "2611607444891120936": {},
        "3316935581664010410": {},
        "4007050532627957381": {},
        "4527726134442228481": {},
        "5190833689647490477": {},
        "525425437570452154": {},
        "5337896784629353535": {},
        "5648452231222580563": {},
        "5899377041639488664": {},
        "5978485980472722549": {},
        "6029605610067576814": {},
        "6411248443375819870": {},
        "641647815826442644": {},
        "6958159432146507029": {},
        "7527841135802037692": {},
        "7678235076085439578": {},
        "7927772020698749667": {},
        "8109201440656814751": {},
        "82232189849975367": {},
        "8543881921210405712": {},
        "8554607745120336249": {},
        "8566637398729270391": {},
        "8688960620195388608": {},
        "997040717761818877": {}
       },
       "_model_module_version": "^1.3.3",
       "_view_module": "jupyter-cytoscape",
       "_view_module_version": "^1.3.3",
       "edges": [
        "IPY_MODEL_7779a1994aaf427f83f3647c58608a8c",
        "IPY_MODEL_4c9406be264a470aba739bf394c04d99",
        "IPY_MODEL_10e5b7661692469283aa27d3bc6e77b7",
        "IPY_MODEL_3b40fb831f7e42728a0c98c8ca569eda",
        "IPY_MODEL_c23507194a754a5f93db65c99a90df8f",
        "IPY_MODEL_8d4e7e9af69a444ca24a05cde8ee9db9",
        "IPY_MODEL_e88f3bf82c864c929d2c954f17b5b080",
        "IPY_MODEL_5e67baf8078c49ff8db2b6df9b7ead84",
        "IPY_MODEL_19394db256b34199aafe61c08d004efa",
        "IPY_MODEL_932bcbd5e90c4c5d8bf511da3eb6a9d4",
        "IPY_MODEL_66430b6bf8d047ed9fd47538f5b13dd2",
        "IPY_MODEL_83a3f5a44fac4d4da665db16b1549ba9",
        "IPY_MODEL_80f846420d634481a0c4d66ea0d5b9b7",
        "IPY_MODEL_efd294cdbdfe4a89a63a0bc0e5b3f5c0",
        "IPY_MODEL_d2ddc4d57864423884388a86e4635e86",
        "IPY_MODEL_0f743def3aa0445db605d9ae09eeb863",
        "IPY_MODEL_9e8c87c8898646ef92edfe0381324b9d",
        "IPY_MODEL_6802521290c747b09e6484ee74a3969d",
        "IPY_MODEL_0e212a9963cd4373b4396aa60b889f4e",
        "IPY_MODEL_913aed477ad348cd97a0d4b421bb720a",
        "IPY_MODEL_a25fc171409546079910b5370f06405b",
        "IPY_MODEL_8aa9782896944aa1ac592ee720722974",
        "IPY_MODEL_1feadfe2d25347c4a52000498f1ee000",
        "IPY_MODEL_58ccda56ed8f49a8922298a9c47a402e",
        "IPY_MODEL_78ea0a5f6c8e419a98a01af19741324b",
        "IPY_MODEL_a1c59d4749ee4632a2226ed330552add",
        "IPY_MODEL_839a6f2b19384aa2bc62681284e5b602",
        "IPY_MODEL_a4cec0d988f9473899124881556e6c57",
        "IPY_MODEL_2cf4ac42da4143fcad2a6a30056c74d1",
        "IPY_MODEL_a4155edacc6440e885b01a55f80a8659",
        "IPY_MODEL_0c7407524bc249cba5fa5135b43cf5df",
        "IPY_MODEL_dad046dd28ec4937b48c5532d3b4cb83",
        "IPY_MODEL_6ddae9d98986408aba04acf38f3dbb99",
        "IPY_MODEL_ee6cd1ed0450410eb703e87e635bf3d9",
        "IPY_MODEL_85d5005b9e5942878a2f695b46743a14",
        "IPY_MODEL_658c138924d84a37ae0ebacbf76dcc59",
        "IPY_MODEL_e30bd6c6edb848589f31805637a687b4",
        "IPY_MODEL_1c9610c18825427c9b5a1ce10d5f7df1",
        "IPY_MODEL_40d367de79c14a488bc7db0caec77ec3",
        "IPY_MODEL_b80a4a078cfd478d88faf6c0a7c23ce1",
        "IPY_MODEL_b5707b6b0d5c4ff684a39d7df54ff2b8",
        "IPY_MODEL_27b24f657b85484c87cda626730be557",
        "IPY_MODEL_3a426e3e72534a60a428ac9f2f78a634",
        "IPY_MODEL_fd1ce3869a0a4a5eb1bc98a2757ce8da",
        "IPY_MODEL_f08783e19eae480990e121261841d87b",
        "IPY_MODEL_7638def0b1df4363b1021341dfe699b3",
        "IPY_MODEL_4d99b9b17d5d4b66ad8927d8c436af5f",
        "IPY_MODEL_2d8c91ad8a32426cb29610635d28405b",
        "IPY_MODEL_36e8a683e1d74e4ca625b42b0b762174",
        "IPY_MODEL_cdd176ca8a8440c5bfb080ee0b3e373f",
        "IPY_MODEL_6b6c0813e47f44c5b6cd8a6b8ca7f0b9",
        "IPY_MODEL_e1406d805c1b4abaa67c4297ffb41c2c",
        "IPY_MODEL_70568d12a32543b38f5e39d3ecf3d5fd",
        "IPY_MODEL_ca480753033c4eb88149367ef11dd84f",
        "IPY_MODEL_a6375f76620a43d3a6d28f6b3a108e26",
        "IPY_MODEL_a754eb9bb3b4427295914183bfb4b20b",
        "IPY_MODEL_ae45b58112ce48c891dc781d07e646e8"
       ],
       "nodes": [
        "IPY_MODEL_903b7d87e666447094c1d0efd3ed9f8a",
        "IPY_MODEL_05229d530a104b74846569ad1c0cb75d",
        "IPY_MODEL_19a481eeae9f4b839680a5db2225deb2",
        "IPY_MODEL_01a1b1a182ab4717b0668cfd314dc82c",
        "IPY_MODEL_360438d1d02746ab923f548d14bc6437",
        "IPY_MODEL_5a7520a8ed8d4b8c9db79eccac38a18a",
        "IPY_MODEL_bc611271d89847c3a8cd558b34bc2954",
        "IPY_MODEL_7ad1077301ae4797815f14d2a0d47b59",
        "IPY_MODEL_353b0c0c2d324ffa986c9aa254cb73a3",
        "IPY_MODEL_e90eb2fdf6d141bdb131051c637d0a21",
        "IPY_MODEL_b4bded753b0546fdb876e725201887d0",
        "IPY_MODEL_c424a9a28c8348e6b2c414be03170c80",
        "IPY_MODEL_d2b9e551acac47cf9e3441968488f5ac",
        "IPY_MODEL_76ee91af9f2a4e34a3052eae18d91c81",
        "IPY_MODEL_31177496a8ee4755aca30ea369d84662",
        "IPY_MODEL_83f7f7397f3844c3af6abb922cf7eac4",
        "IPY_MODEL_cf329c7704f347cc9c4fb3b891600307",
        "IPY_MODEL_73717528bc624909bfba83fe5c22e71d",
        "IPY_MODEL_c9cb8b3181704b8c8debad3302eb84c9",
        "IPY_MODEL_d136e3cde1964115a68877ec56697617",
        "IPY_MODEL_fec60ec6c42b491da85e71adef7ce87d",
        "IPY_MODEL_fbad697efc4a4d8fb2b5d02f5c391cde",
        "IPY_MODEL_fad86f9bec6f4dd4998cd5cc23ec2178",
        "IPY_MODEL_aa7b299f6b4d48da9557d571e3c01aa1",
        "IPY_MODEL_219ceff6dc4c4ceaac0b93fa663591c4",
        "IPY_MODEL_46e43ccce5e34133b819c41b67048d08",
        "IPY_MODEL_d8497552606742e982131651fb107295",
        "IPY_MODEL_d68f2a363d2b453db9e56911693a3fad",
        "IPY_MODEL_344d24581fae4b8687d2d3a39f5629bf",
        "IPY_MODEL_6cec3e8b7f094a2b8d6b76eb0b2c3b80",
        "IPY_MODEL_6e0d7bea103f4077942eb38e583f6f90",
        "IPY_MODEL_ea79fcfb3cef49489b231ef060e5325d",
        "IPY_MODEL_d945b5fb873945509593c4a535b29950",
        "IPY_MODEL_0882d87a04c143108c668d0bb8c9baa5",
        "IPY_MODEL_ecf6c5f3cfda49aab4aad0becb10210c",
        "IPY_MODEL_50cef50ccc5442318558fe821fcd15fd",
        "IPY_MODEL_24f1a71fbbc54493abae9272421e44c4",
        "IPY_MODEL_ba84041b4cd448469529fb31ed1b7d5f",
        "IPY_MODEL_5d84be3e79dd464eb066837faa5e6896",
        "IPY_MODEL_505ff53631bb47dc942f01f5938428cc",
        "IPY_MODEL_b307db0d1a69413f8ca55aea070e2420",
        "IPY_MODEL_57b7ea72609744bd972755e62135c7ad",
        "IPY_MODEL_03285788305e48a2957f97163af71c9d",
        "IPY_MODEL_d3252fda24644dd3ba1a27e385754d31",
        "IPY_MODEL_c2b14ebd73504b2781c6313bae5f3564",
        "IPY_MODEL_5073f05b837e4b77b261849039343317",
        "IPY_MODEL_5ead1f2695ce4f6d919912c7cb3a2349",
        "IPY_MODEL_1d57d432ada84aafb54f4253f79352ce",
        "IPY_MODEL_a7de5189d5b64159b471017f871fc6e2",
        "IPY_MODEL_c083aee53b3a4b2b98dcfad40abcbbd4",
        "IPY_MODEL_3e426ab2c3424c308c832e067052d3fa",
        "IPY_MODEL_1a60633069e544f6a973971f2040678e",
        "IPY_MODEL_e45d1da1aeb54bd8b55ec3579dbdef0f",
        "IPY_MODEL_46aa55f6fff441c58797aa1087e247eb",
        "IPY_MODEL_776ac2d7af3c475db98c187ed7e286fa",
        "IPY_MODEL_92a5fb3200cd43b5b69f03c799e0a185",
        "IPY_MODEL_9333500e49dd4b96bc1c86b75d74b5dd",
        "IPY_MODEL_2ba8bdf59cf64ac9afdfb7dbe60f5a06"
       ]
      }
     },
     "1a60633069e544f6a973971f2040678e": {
      "model_module": "jupyter-cytoscape",
      "model_module_version": "^1.3.3",
      "model_name": "NodeModel",
      "state": {
       "_model_module_version": "^1.3.3",
       "_view_module_version": "^1.3.3",
       "data": {
        "color": "gray",
        "id": "8566637398729270391",
        "label": "(3, 0, 0)",
        "shape": "rectangle"
       },
       "grabbable": true,
       "grabbed": false,
       "position": {
        "x": 545.5,
        "y": 515
       },
       "selectable": false
      }
     },
     "1c9610c18825427c9b5a1ce10d5f7df1": {
      "model_module": "jupyter-cytoscape",
      "model_module_version": "^1.3.3",
      "model_name": "EdgeModel",
      "state": {
       "_model_module_version": "^1.3.3",
       "_view_module_version": "^1.3.3",
       "classes": " directed ",
       "data": {
        "id": "59d81d10-e45a-4026-ad33-8b946368c3e0",
        "source": "-2843519414721284291",
        "target": "4527726134442228481"
       },
       "selectable": false
      }
     },
     "1d09727420f045b19d67817f2bf5c692": {
      "model_module": "jupyter-cytoscape",
      "model_module_version": "^1.3.3",
      "model_name": "EdgeModel",
      "state": {
       "_model_module_version": "^1.3.3",
       "_view_module_version": "^1.3.3",
       "classes": " directed ",
       "data": {
        "id": "50c36be3-7178-4004-8a48-e09c86d1225d",
        "source": "-5454616645910432204",
        "target": "1085411951500026183"
       },
       "selectable": false
      }
     },
     "1d57d432ada84aafb54f4253f79352ce": {
      "model_module": "jupyter-cytoscape",
      "model_module_version": "^1.3.3",
      "model_name": "NodeModel",
      "state": {
       "_model_module_version": "^1.3.3",
       "_view_module_version": "^1.3.3",
       "data": {
        "color": "gray",
        "id": "-2993913355004686177",
        "label": "(1, 0, 0)",
        "shape": "rectangle"
       },
       "grabbable": true,
       "grabbed": false,
       "position": {
        "x": 1279.5,
        "y": 515
       },
       "selectable": false
      }
     },
     "1feadfe2d25347c4a52000498f1ee000": {
      "model_module": "jupyter-cytoscape",
      "model_module_version": "^1.3.3",
      "model_name": "EdgeModel",
      "state": {
       "_model_module_version": "^1.3.3",
       "_view_module_version": "^1.3.3",
       "classes": " directed ",
       "data": {
        "id": "9b6f9cca-a860-40ff-ba2e-912d49f17842",
        "source": "-7173382570491175912",
        "target": "2611607444891120936"
       },
       "selectable": false
      }
     },
     "219ceff6dc4c4ceaac0b93fa663591c4": {
      "model_module": "jupyter-cytoscape",
      "model_module_version": "^1.3.3",
      "model_name": "NodeModel",
      "state": {
       "_model_module_version": "^1.3.3",
       "_view_module_version": "^1.3.3",
       "data": {
        "color": "gray",
        "id": "-209718090337684999",
        "label": "build_waves_multislice_detect",
        "shape": "ellipse"
       },
       "grabbable": true,
       "grabbed": false,
       "position": {
        "x": 178.5,
        "y": 1355
       },
       "selectable": false
      }
     },
     "24f1a71fbbc54493abae9272421e44c4": {
      "model_module": "jupyter-cytoscape",
      "model_module_version": "^1.3.3",
      "model_name": "NodeModel",
      "state": {
       "_model_module_version": "^1.3.3",
       "_view_module_version": "^1.3.3",
       "data": {
        "color": "gray",
        "id": "-81111989138868833",
        "label": "intensity",
        "shape": "ellipse"
       },
       "grabbable": true,
       "grabbed": false,
       "position": {
        "x": 912.5,
        "y": 875
       },
       "selectable": false
      }
     },
     "2572c409c41e4c6bbb3152f021dc9eb9": {
      "model_module": "jupyter-cytoscape",
      "model_module_version": "^1.3.3",
      "model_name": "NodeModel",
      "state": {
       "_model_module_version": "^1.3.3",
       "_view_module_version": "^1.3.3",
       "data": {
        "color": "gray",
        "id": "8688960620195388608",
        "label": "0",
        "shape": "rectangle"
       },
       "grabbable": true,
       "grabbed": false,
       "position": {
        "x": 545.5,
        "y": 635
       },
       "selectable": false
      }
     },
     "270bb470ecf749bc8eb4cd92a31f6d59": {
      "model_module": "jupyter-cytoscape",
      "model_module_version": "^1.3.3",
      "model_name": "NodeModel",
      "state": {
       "_model_module_version": "^1.3.3",
       "_view_module_version": "^1.3.3",
       "data": {
        "color": "gray",
        "id": "-5454616645910432204",
        "label": "0",
        "shape": "rectangle"
       },
       "grabbable": true,
       "grabbed": false,
       "position": {
        "x": 1279.5,
        "y": 635
       },
       "selectable": false
      }
     },
     "275e05d841fc4bf9b049bb55617e9fdd": {
      "model_module": "jupyter-cytoscape",
      "model_module_version": "^1.3.3",
      "model_name": "EdgeModel",
      "state": {
       "_model_module_version": "^1.3.3",
       "_view_module_version": "^1.3.3",
       "classes": " directed ",
       "data": {
        "id": "d4cdd820-cba5-4b49-b9ee-4facec64b581",
        "source": "8554607745120336249",
        "target": "-975648152280315770"
       },
       "selectable": false
      }
     },
     "27b24f657b85484c87cda626730be557": {
      "model_module": "jupyter-cytoscape",
      "model_module_version": "^1.3.3",
      "model_name": "EdgeModel",
      "state": {
       "_model_module_version": "^1.3.3",
       "_view_module_version": "^1.3.3",
       "classes": " directed ",
       "data": {
        "id": "fbdc339f-b09e-4a82-92ef-98b9e0e86034",
        "source": "-8559770428161864702",
        "target": "82232189849975367"
       },
       "selectable": false
      }
     },
     "2b2b8e579f1d4c4b88d1e41562b1d76e": {
      "model_module": "jupyter-cytoscape",
      "model_module_version": "^1.3.3",
      "model_name": "NodeModel",
      "state": {
       "_model_module_version": "^1.3.3",
       "_view_module_version": "^1.3.3",
       "data": {
        "color": "gray",
        "id": "-3896033311210877489",
        "label": "2",
        "shape": "rectangle"
       },
       "grabbable": true,
       "grabbed": false,
       "position": {
        "x": 912.5,
        "y": 275
       },
       "selectable": false
      }
     },
     "2ba8bdf59cf64ac9afdfb7dbe60f5a06": {
      "model_module": "jupyter-cytoscape",
      "model_module_version": "^1.3.3",
      "model_name": "NodeModel",
      "state": {
       "_model_module_version": "^1.3.3",
       "_view_module_version": "^1.3.3",
       "data": {
        "color": "gray",
        "id": "4007050532627957381",
        "label": "(0, 0)",
        "shape": "rectangle"
       },
       "grabbable": true,
       "grabbed": false,
       "position": {
        "x": 729,
        "y": 35
       },
       "selectable": false
      }
     },
     "2cf4ac42da4143fcad2a6a30056c74d1": {
      "model_module": "jupyter-cytoscape",
      "model_module_version": "^1.3.3",
      "model_name": "EdgeModel",
      "state": {
       "_model_module_version": "^1.3.3",
       "_view_module_version": "^1.3.3",
       "classes": " directed ",
       "data": {
        "id": "4a377170-9bcc-4ba4-bf41-9093f8648214",
        "source": "-2096639438270986525",
        "target": "-2843519414721284291"
       },
       "selectable": false
      }
     },
     "2d8c91ad8a32426cb29610635d28405b": {
      "model_module": "jupyter-cytoscape",
      "model_module_version": "^1.3.3",
      "model_name": "EdgeModel",
      "state": {
       "_model_module_version": "^1.3.3",
       "_view_module_version": "^1.3.3",
       "classes": " directed ",
       "data": {
        "id": "adfa29d0-3bce-4059-a9d8-b3d363daa1f5",
        "source": "-4873302259584143306",
        "target": "3316935581664010410"
       },
       "selectable": false
      }
     },
     "2f0b5f32f1e94e36a7a40b69c6a7bf13": {
      "model_module": "jupyter-cytoscape",
      "model_module_version": "^1.3.3",
      "model_name": "NodeModel",
      "state": {
       "_model_module_version": "^1.3.3",
       "_view_module_version": "^1.3.3",
       "data": {
        "color": "gray",
        "id": "-2638438148746906173",
        "label": "0",
        "shape": "rectangle"
       },
       "grabbable": true,
       "grabbed": false,
       "position": {
        "x": 178.5,
        "y": 515
       },
       "selectable": false
      }
     },
     "31177496a8ee4755aca30ea369d84662": {
      "model_module": "jupyter-cytoscape",
      "model_module_version": "^1.3.3",
      "model_name": "NodeModel",
      "state": {
       "_model_module_version": "^1.3.3",
       "_view_module_version": "^1.3.3",
       "data": {
        "color": "gray",
        "id": "5190833689647490477",
        "label": "",
        "shape": "rectangle"
       },
       "grabbable": true,
       "grabbed": false,
       "position": {
        "x": 178.5,
        "y": 1715
       },
       "selectable": false
      }
     },
     "344d24581fae4b8687d2d3a39f5629bf": {
      "model_module": "jupyter-cytoscape",
      "model_module_version": "^1.3.3",
      "model_name": "NodeModel",
      "state": {
       "_model_module_version": "^1.3.3",
       "_view_module_version": "^1.3.3",
       "data": {
        "color": "gray",
        "id": "-4455112467544290847",
        "label": "extract_measurement",
        "shape": "ellipse"
       },
       "grabbable": true,
       "grabbed": false,
       "position": {
        "x": 912.5,
        "y": 1115
       },
       "selectable": false
      }
     },
     "3489ce478753400c8210ab55d564a20f": {
      "model_module": "jupyter-cytoscape",
      "model_module_version": "^1.3.3",
      "model_name": "EdgeModel",
      "state": {
       "_model_module_version": "^1.3.3",
       "_view_module_version": "^1.3.3",
       "classes": " directed ",
       "data": {
        "id": "dc39cb0f-5341-4ef5-aa02-9bc7bec5c83b",
        "source": "-7173382570491175912",
        "target": "2611607444891120936"
       },
       "selectable": false
      }
     },
     "353b0c0c2d324ffa986c9aa254cb73a3": {
      "model_module": "jupyter-cytoscape",
      "model_module_version": "^1.3.3",
      "model_name": "NodeModel",
      "state": {
       "_model_module_version": "^1.3.3",
       "_view_module_version": "^1.3.3",
       "data": {
        "color": "gray",
        "id": "8109201440656814751",
        "label": "",
        "shape": "rectangle"
       },
       "grabbable": true,
       "grabbed": false,
       "position": {
        "x": 1279.5,
        "y": 1955
       },
       "selectable": false
      }
     },
     "360438d1d02746ab923f548d14bc6437": {
      "model_module": "jupyter-cytoscape",
      "model_module_version": "^1.3.3",
      "model_name": "NodeModel",
      "state": {
       "_model_module_version": "^1.3.3",
       "_view_module_version": "^1.3.3",
       "data": {
        "color": "gray",
        "id": "6958159432146507029",
        "label": "",
        "shape": "rectangle"
       },
       "grabbable": true,
       "grabbed": false,
       "position": {
        "x": 912.5,
        "y": 1955
       },
       "selectable": false
      }
     },
     "36e8a683e1d74e4ca625b42b0b762174": {
      "model_module": "jupyter-cytoscape",
      "model_module_version": "^1.3.3",
      "model_name": "EdgeModel",
      "state": {
       "_model_module_version": "^1.3.3",
       "_view_module_version": "^1.3.3",
       "classes": " directed ",
       "data": {
        "id": "d62222c2-b86e-4c51-b3df-03a1f1c589cb",
        "source": "7927772020698749667",
        "target": "-6458404547314626517"
       },
       "selectable": false
      }
     },
     "3a02398cb0564ff98ab5ecf599476fb1": {
      "model_module": "jupyter-cytoscape",
      "model_module_version": "^1.3.3",
      "model_name": "EdgeModel",
      "state": {
       "_model_module_version": "^1.3.3",
       "_view_module_version": "^1.3.3",
       "classes": " directed ",
       "data": {
        "id": "68704ab6-50b0-471b-8514-df005a058168",
        "source": "997040717761818877",
        "target": "-4888149582364544781"
       },
       "selectable": false
      }
     },
     "3a426e3e72534a60a428ac9f2f78a634": {
      "model_module": "jupyter-cytoscape",
      "model_module_version": "^1.3.3",
      "model_name": "EdgeModel",
      "state": {
       "_model_module_version": "^1.3.3",
       "_view_module_version": "^1.3.3",
       "classes": " directed ",
       "data": {
        "id": "63cef1ce-63de-42e1-bee3-68e0331b2042",
        "source": "8543881921210405712",
        "target": "-2993913355004686177"
       },
       "selectable": false
      }
     },
     "3af9c9aa62be4301a74f53ede550deb1": {
      "model_module": "jupyter-cytoscape",
      "model_module_version": "^1.3.3",
      "model_name": "NodeModel",
      "state": {
       "_model_module_version": "^1.3.3",
       "_view_module_version": "^1.3.3",
       "data": {
        "color": "gray",
        "id": "8554607745120336249",
        "label": "frozen_phonon",
        "shape": "ellipse"
       },
       "grabbable": true,
       "grabbed": false,
       "position": {
        "x": 1279.5,
        "y": 875
       },
       "selectable": false
      }
     },
     "3b40fb831f7e42728a0c98c8ca569eda": {
      "model_module": "jupyter-cytoscape",
      "model_module_version": "^1.3.3",
      "model_name": "EdgeModel",
      "state": {
       "_model_module_version": "^1.3.3",
       "_view_module_version": "^1.3.3",
       "classes": " directed ",
       "data": {
        "id": "e2941eaf-5bcf-4414-9207-31b1b0e8b293",
        "source": "-5454616645910432204",
        "target": "1085411951500026183"
       },
       "selectable": false
      }
     },
     "3d0da29177074298861540c9ccc500e7": {
      "model_module": "jupyter-cytoscape",
      "model_module_version": "^1.3.3",
      "model_name": "EdgeModel",
      "state": {
       "_model_module_version": "^1.3.3",
       "_view_module_version": "^1.3.3",
       "classes": " directed ",
       "data": {
        "id": "ef2b4dcb-0a31-4056-838c-9928dd107589",
        "source": "5978485980472722549",
        "target": "-209718090337684999"
       },
       "selectable": false
      }
     },
     "3ddebd8c8f5a4bbcb86bfe147b8555f2": {
      "model_module": "jupyter-cytoscape",
      "model_module_version": "^1.3.3",
      "model_name": "CytoscapeModel",
      "state": {
       "_interaction_handlers": {},
       "_model_module_version": "^1.3.3",
       "_view_module_version": "^1.3.3",
       "auto_ungrabify": false,
       "autolock": false,
       "cytoscape_layout": {
        "edgeSep": 10,
        "name": "dagre",
        "nodeDimensionsIncludeLabels": true,
        "nodeSep": 10,
        "rankDir": "BT",
        "spacingFactor": 1
       },
       "cytoscape_style": [
        {
         "selector": "node",
         "style": {
          "background-color": "#eee",
          "border-color": "data(color)",
          "border-width": 4,
          "color": "black",
          "font-family": "helvetica",
          "font-size": "24px",
          "font-weight": "bold",
          "height": 64,
          "label": "data(label)",
          "opacity": "1.0",
          "shape": "data(shape)",
          "text-halign": "center",
          "text-valign": "center",
          "width": 64
         }
        },
        {
         "selector": "edge",
         "style": {
          "curve-style": "bezier",
          "line-color": "gray",
          "target-arrow-color": "gray",
          "target-arrow-shape": "triangle",
          "width": 8
         }
        }
       ],
       "desktop_tap_threshold": 4,
       "graph": "IPY_MODEL_f3ba2600d45042a480fa365a9e2455e7",
       "headless": false,
       "hide_edges_on_viewport": false,
       "layout": "IPY_MODEL_077e5524962d4a25a58c3082ba95820c",
       "max_zoom": 4,
       "min_zoom": 0.2,
       "motion_blur": false,
       "motion_blur_opacity": 0.2,
       "panning_enabled": true,
       "pixel_ratio": "auto",
       "rendered_position": {
        "renderedPosition": {
         "x": 100,
         "y": 100
        }
       },
       "selection_type": "single",
       "style_enabled": true,
       "texture_on_viewport": false,
       "tooltip_source": "tooltip",
       "touch_tap_threshold": 8,
       "user_panning_enabled": true,
       "user_zooming_enabled": true,
       "wheel_sensitivity": 0.1,
       "zoom": 2,
       "zooming_enabled": true
      }
     },
     "3e426ab2c3424c308c832e067052d3fa": {
      "model_module": "jupyter-cytoscape",
      "model_module_version": "^1.3.3",
      "model_name": "NodeModel",
      "state": {
       "_model_module_version": "^1.3.3",
       "_view_module_version": "^1.3.3",
       "data": {
        "color": "gray",
        "id": "3316935581664010410",
        "label": "mean_chunk",
        "shape": "ellipse"
       },
       "grabbable": true,
       "grabbed": false,
       "position": {
        "x": 545.5,
        "y": 635
       },
       "selectable": false
      }
     },
     "40d367de79c14a488bc7db0caec77ec3": {
      "model_module": "jupyter-cytoscape",
      "model_module_version": "^1.3.3",
      "model_name": "EdgeModel",
      "state": {
       "_model_module_version": "^1.3.3",
       "_view_module_version": "^1.3.3",
       "classes": " directed ",
       "data": {
        "id": "adf14f20-d397-452f-a4ab-79791b0a6f0f",
        "source": "-2809696302256404093",
        "target": "-4873302259584143306"
       },
       "selectable": false
      }
     },
     "4225962632c7486f84b3e70c7c30a54e": {
      "model_module": "jupyter-cytoscape",
      "model_module_version": "^1.3.3",
      "model_name": "NodeModel",
      "state": {
       "_model_module_version": "^1.3.3",
       "_view_module_version": "^1.3.3",
       "data": {
        "color": "gray",
        "id": "1723271752263943708",
        "label": "extract_measurement",
        "shape": "ellipse"
       },
       "grabbable": true,
       "grabbed": false,
       "position": {
        "x": 1279.5,
        "y": 155
       },
       "selectable": false
      }
     },
     "43120d64ca8e4ec8a48a0b815d55dffd": {
      "model_module": "jupyter-cytoscape",
      "model_module_version": "^1.3.3",
      "model_name": "EdgeModel",
      "state": {
       "_model_module_version": "^1.3.3",
       "_view_module_version": "^1.3.3",
       "classes": " directed ",
       "data": {
        "id": "59059aca-9f1d-418e-bc80-978f92bc2047",
        "source": "-529154775629275876",
        "target": "-5781255077600032181"
       },
       "selectable": false
      }
     },
     "447eb1ad0cc0497785f330350fb8f34b": {
      "model_module": "jupyter-cytoscape",
      "model_module_version": "^1.3.3",
      "model_name": "NodeModel",
      "state": {
       "_model_module_version": "^1.3.3",
       "_view_module_version": "^1.3.3",
       "data": {
        "color": "gray",
        "id": "8109201440656814751",
        "label": "",
        "shape": "rectangle"
       },
       "grabbable": true,
       "grabbed": false,
       "position": {
        "x": 545.5,
        "y": 995
       },
       "selectable": false
      }
     },
     "466f2c0dae7040ff8bc8320b2ca39ee1": {
      "model_module": "jupyter-cytoscape",
      "model_module_version": "^1.3.3",
      "model_name": "EdgeModel",
      "state": {
       "_model_module_version": "^1.3.3",
       "_view_module_version": "^1.3.3",
       "classes": " directed ",
       "data": {
        "id": "ec66fe74-0bd6-453b-a789-ef9a08ab3e03",
        "source": "-4888149582364544781",
        "target": "7678235076085439578"
       },
       "selectable": false
      }
     },
     "46aa55f6fff441c58797aa1087e247eb": {
      "model_module": "jupyter-cytoscape",
      "model_module_version": "^1.3.3",
      "model_name": "NodeModel",
      "state": {
       "_model_module_version": "^1.3.3",
       "_view_module_version": "^1.3.3",
       "data": {
        "color": "gray",
        "id": "-6458404547314626517",
        "label": "(0, 0, 0)",
        "shape": "rectangle"
       },
       "grabbable": true,
       "grabbed": false,
       "position": {
        "x": 1096,
        "y": 275
       },
       "selectable": false
      }
     },
     "46e43ccce5e34133b819c41b67048d08": {
      "model_module": "jupyter-cytoscape",
      "model_module_version": "^1.3.3",
      "model_name": "NodeModel",
      "state": {
       "_model_module_version": "^1.3.3",
       "_view_module_version": "^1.3.3",
       "data": {
        "color": "gray",
        "id": "-3896033311210877489",
        "label": "2",
        "shape": "rectangle"
       },
       "grabbable": true,
       "grabbed": false,
       "position": {
        "x": 178.5,
        "y": 1235
       },
       "selectable": false
      }
     },
     "4a8a887344d54d938a36a53c4bf86df5": {
      "model_module": "jupyter-cytoscape",
      "model_module_version": "^1.3.3",
      "model_name": "NodeModel",
      "state": {
       "_model_module_version": "^1.3.3",
       "_view_module_version": "^1.3.3",
       "data": {
        "color": "gray",
        "id": "-2096639438270986525",
        "label": "extract_measurement",
        "shape": "ellipse"
       },
       "grabbable": true,
       "grabbed": false,
       "position": {
        "x": 912.5,
        "y": 155
       },
       "selectable": false
      }
     },
     "4c9406be264a470aba739bf394c04d99": {
      "model_module": "jupyter-cytoscape",
      "model_module_version": "^1.3.3",
      "model_name": "EdgeModel",
      "state": {
       "_model_module_version": "^1.3.3",
       "_view_module_version": "^1.3.3",
       "classes": " directed ",
       "data": {
        "id": "c24a1691-0d03-4680-af72-e705effef488",
        "source": "8688960620195388608",
        "target": "-529154775629275876"
       },
       "selectable": false
      }
     },
     "4d99b9b17d5d4b66ad8927d8c436af5f": {
      "model_module": "jupyter-cytoscape",
      "model_module_version": "^1.3.3",
      "model_name": "EdgeModel",
      "state": {
       "_model_module_version": "^1.3.3",
       "_view_module_version": "^1.3.3",
       "classes": " directed ",
       "data": {
        "id": "0eff494c-fd50-4d2c-b59f-0d65077f2c71",
        "source": "3316935581664010410",
        "target": "8566637398729270391"
       },
       "selectable": false
      }
     },
     "4e79c9e352514f5aaad55acdc3df5ac9": {
      "model_module": "jupyter-cytoscape",
      "model_module_version": "^1.3.3",
      "model_name": "EdgeModel",
      "state": {
       "_model_module_version": "^1.3.3",
       "_view_module_version": "^1.3.3",
       "classes": " directed ",
       "data": {
        "id": "669a4ff6-7846-4bb4-9c29-4ac1f4d948e6",
        "source": "-8212648725776401941",
        "target": "5978485980472722549"
       },
       "selectable": false
      }
     },
     "505ff53631bb47dc942f01f5938428cc": {
      "model_module": "jupyter-cytoscape",
      "model_module_version": "^1.3.3",
      "model_name": "NodeModel",
      "state": {
       "_model_module_version": "^1.3.3",
       "_view_module_version": "^1.3.3",
       "data": {
        "color": "gray",
        "id": "6411248443375819870",
        "label": "(1, 0, 0)",
        "shape": "rectangle"
       },
       "grabbable": true,
       "grabbed": false,
       "position": {
        "x": 1279.5,
        "y": 755
       },
       "selectable": false
      }
     },
     "5073f05b837e4b77b261849039343317": {
      "model_module": "jupyter-cytoscape",
      "model_module_version": "^1.3.3",
      "model_name": "NodeModel",
      "state": {
       "_model_module_version": "^1.3.3",
       "_view_module_version": "^1.3.3",
       "data": {
        "color": "gray",
        "id": "7527841135802037692",
        "label": "(0, 0, 0)",
        "shape": "rectangle"
       },
       "grabbable": true,
       "grabbed": false,
       "position": {
        "x": 912.5,
        "y": 515
       },
       "selectable": false
      }
     },
     "50cef50ccc5442318558fe821fcd15fd": {
      "model_module": "jupyter-cytoscape",
      "model_module_version": "^1.3.3",
      "model_name": "NodeModel",
      "state": {
       "_model_module_version": "^1.3.3",
       "_view_module_version": "^1.3.3",
       "data": {
        "color": "gray",
        "id": "-3606315626874523598",
        "label": "(3, 0, 0)",
        "shape": "rectangle"
       },
       "grabbable": true,
       "grabbed": false,
       "position": {
        "x": 545.5,
        "y": 995
       },
       "selectable": false
      }
     },
     "534e291c18c140ad8573f05485a649e3": {
      "model_module": "jupyter-cytoscape",
      "model_module_version": "^1.3.3",
      "model_name": "NodeModel",
      "state": {
       "_model_module_version": "^1.3.3",
       "_view_module_version": "^1.3.3",
       "data": {
        "color": "gray",
        "id": "-209718090337684999",
        "label": "build_waves_multislice_detect",
        "shape": "ellipse"
       },
       "grabbable": true,
       "grabbed": false,
       "position": {
        "x": 912.5,
        "y": 395
       },
       "selectable": false
      }
     },
     "576831b338924bef909a28d6044fc0a8": {
      "model_module": "jupyter-cytoscape",
      "model_module_version": "^1.3.3",
      "model_name": "EdgeModel",
      "state": {
       "_model_module_version": "^1.3.3",
       "_view_module_version": "^1.3.3",
       "classes": " directed ",
       "data": {
        "id": "21009e74-f7ca-442d-a9ac-d6ba603a25b2",
        "source": "-2638438148746906173",
        "target": "6029605610067576814"
       },
       "selectable": false
      }
     },
     "57b7ea72609744bd972755e62135c7ad": {
      "model_module": "jupyter-cytoscape",
      "model_module_version": "^1.3.3",
      "model_name": "NodeModel",
      "state": {
       "_model_module_version": "^1.3.3",
       "_view_module_version": "^1.3.3",
       "data": {
        "color": "gray",
        "id": "5648452231222580563",
        "label": "(2, 0, 0)",
        "shape": "rectangle"
       },
       "grabbable": true,
       "grabbed": false,
       "position": {
        "x": 178.5,
        "y": 755
       },
       "selectable": false
      }
     },
     "58ba5763c01f4a0ebcdb13bfe88e688f": {
      "model_module": "jupyter-cytoscape",
      "model_module_version": "^1.3.3",
      "model_name": "EdgeModel",
      "state": {
       "_model_module_version": "^1.3.3",
       "_view_module_version": "^1.3.3",
       "classes": " directed ",
       "data": {
        "id": "dd68dc1c-e063-43a6-860a-cbc00a3f6fad",
        "source": "-1112242655355811420",
        "target": "-4455112467544290847"
       },
       "selectable": false
      }
     },
     "58ccda56ed8f49a8922298a9c47a402e": {
      "model_module": "jupyter-cytoscape",
      "model_module_version": "^1.3.3",
      "model_name": "EdgeModel",
      "state": {
       "_model_module_version": "^1.3.3",
       "_view_module_version": "^1.3.3",
       "classes": " directed ",
       "data": {
        "id": "3b081cbc-1a7e-456e-bf96-9e3769e7a864",
        "source": "1085411951500026183",
        "target": "-7173382570491175912"
       },
       "selectable": false
      }
     },
     "5a7520a8ed8d4b8c9db79eccac38a18a": {
      "model_module": "jupyter-cytoscape",
      "model_module_version": "^1.3.3",
      "model_name": "NodeModel",
      "state": {
       "_model_module_version": "^1.3.3",
       "_view_module_version": "^1.3.3",
       "data": {
        "color": "gray",
        "id": "2369830892600547874",
        "label": "frozen_phonon",
        "shape": "ellipse"
       },
       "grabbable": true,
       "grabbed": false,
       "position": {
        "x": 912.5,
        "y": 1835
       },
       "selectable": false
      }
     },
     "5d84be3e79dd464eb066837faa5e6896": {
      "model_module": "jupyter-cytoscape",
      "model_module_version": "^1.3.3",
      "model_name": "NodeModel",
      "state": {
       "_model_module_version": "^1.3.3",
       "_view_module_version": "^1.3.3",
       "data": {
        "color": "gray",
        "id": "-5022760253900524454",
        "label": "intensity",
        "shape": "ellipse"
       },
       "grabbable": true,
       "grabbed": false,
       "position": {
        "x": 1279.5,
        "y": 875
       },
       "selectable": false
      }
     },
     "5dea6cb4e3aa4078a8bede9792bb7114": {
      "model_module": "jupyter-cytoscape",
      "model_module_version": "^1.3.3",
      "model_name": "NodeModel",
      "state": {
       "_model_module_version": "^1.3.3",
       "_view_module_version": "^1.3.3",
       "data": {
        "color": "gray",
        "id": "-6274431168249504483",
        "label": "0",
        "shape": "rectangle"
       },
       "grabbable": true,
       "grabbed": false,
       "position": {
        "x": 178.5,
        "y": 635
       },
       "selectable": false
      }
     },
     "5e67baf8078c49ff8db2b6df9b7ead84": {
      "model_module": "jupyter-cytoscape",
      "model_module_version": "^1.3.3",
      "model_name": "EdgeModel",
      "state": {
       "_model_module_version": "^1.3.3",
       "_view_module_version": "^1.3.3",
       "classes": " directed ",
       "data": {
        "id": "8176e14d-0698-43de-bc56-4e08f8a7804b",
        "source": "-8911303611153779914",
        "target": "-147531381724615491"
       },
       "selectable": false
      }
     },
     "5ead1f2695ce4f6d919912c7cb3a2349": {
      "model_module": "jupyter-cytoscape",
      "model_module_version": "^1.3.3",
      "model_name": "NodeModel",
      "state": {
       "_model_module_version": "^1.3.3",
       "_view_module_version": "^1.3.3",
       "data": {
        "color": "gray",
        "id": "8543881921210405712",
        "label": "mean_chunk",
        "shape": "ellipse"
       },
       "grabbable": true,
       "grabbed": false,
       "position": {
        "x": 1279.5,
        "y": 635
       },
       "selectable": false
      }
     },
     "5f225efbbc6b4dd0bb5e527204c65ac7": {
      "model_module": "jupyter-cytoscape",
      "model_module_version": "^1.3.3",
      "model_name": "NodeModel",
      "state": {
       "_model_module_version": "^1.3.3",
       "_view_module_version": "^1.3.3",
       "data": {
        "color": "gray",
        "id": "-2843519414721284291",
        "label": "(2, 0, 0)",
        "shape": "rectangle"
       },
       "grabbable": true,
       "grabbed": false,
       "position": {
        "x": 912.5,
        "y": 35
       },
       "selectable": false
      }
     },
     "658c138924d84a37ae0ebacbf76dcc59": {
      "model_module": "jupyter-cytoscape",
      "model_module_version": "^1.3.3",
      "model_name": "EdgeModel",
      "state": {
       "_model_module_version": "^1.3.3",
       "_view_module_version": "^1.3.3",
       "classes": " directed ",
       "data": {
        "id": "e253fbec-c071-4812-a08f-7fad81843c45",
        "source": "7678235076085439578",
        "target": "-5022760253900524454"
       },
       "selectable": false
      }
     },
     "664246c9d73847a490d464cea2f4ae6e": {
      "model_module": "jupyter-cytoscape",
      "model_module_version": "^1.3.3",
      "model_name": "EdgeModel",
      "state": {
       "_model_module_version": "^1.3.3",
       "_view_module_version": "^1.3.3",
       "classes": " directed ",
       "data": {
        "id": "137c25f2-b446-4df3-8aba-02b4269c8bae",
        "source": "2369830892600547874",
        "target": "-3648763719720139567"
       },
       "selectable": false
      }
     },
     "66430b6bf8d047ed9fd47538f5b13dd2": {
      "model_module": "jupyter-cytoscape",
      "model_module_version": "^1.3.3",
      "model_name": "EdgeModel",
      "state": {
       "_model_module_version": "^1.3.3",
       "_view_module_version": "^1.3.3",
       "classes": " directed ",
       "data": {
        "id": "9d945897-2d04-44fa-bbce-c5b4e066cd7c",
        "source": "5899377041639488664",
        "target": "5190833689647490477"
       },
       "selectable": false
      }
     },
     "6746c62593a4457292a390a5a960949e": {
      "model_module": "jupyter-cytoscape",
      "model_module_version": "^1.3.3",
      "model_name": "NodeModel",
      "state": {
       "_model_module_version": "^1.3.3",
       "_view_module_version": "^1.3.3",
       "data": {
        "color": "gray",
        "id": "1468814177293301289",
        "label": "(0, 0, 0)",
        "shape": "rectangle"
       },
       "grabbable": true,
       "grabbed": false,
       "position": {
        "x": 178.5,
        "y": 35
       },
       "selectable": false
      }
     },
     "6802521290c747b09e6484ee74a3969d": {
      "model_module": "jupyter-cytoscape",
      "model_module_version": "^1.3.3",
      "model_name": "EdgeModel",
      "state": {
       "_model_module_version": "^1.3.3",
       "_view_module_version": "^1.3.3",
       "classes": " directed ",
       "data": {
        "id": "9c8e2163-9ef8-48e3-8b39-328dab063d4b",
        "source": "-2638438148746906173",
        "target": "6029605610067576814"
       },
       "selectable": false
      }
     },
     "6a1950e714de4449b6a9f65127b3ec98": {
      "model_module": "jupyter-cytoscape",
      "model_module_version": "^1.3.3",
      "model_name": "EdgeModel",
      "state": {
       "_model_module_version": "^1.3.3",
       "_view_module_version": "^1.3.3",
       "classes": " directed ",
       "data": {
        "id": "03cdf3ea-1694-4fbb-8fe3-6504bc825fae",
        "source": "8688960620195388608",
        "target": "-529154775629275876"
       },
       "selectable": false
      }
     },
     "6a72e1780ba84a46951e42e908d1eca4": {
      "model_module": "jupyter-cytoscape",
      "model_module_version": "^1.3.3",
      "model_name": "NodeModel",
      "state": {
       "_model_module_version": "^1.3.3",
       "_view_module_version": "^1.3.3",
       "data": {
        "color": "gray",
        "id": "-529154775629275876",
        "label": "1",
        "shape": "rectangle"
       },
       "grabbable": true,
       "grabbed": false,
       "position": {
        "x": 545.5,
        "y": 515
       },
       "selectable": false
      }
     },
     "6b6c0813e47f44c5b6cd8a6b8ca7f0b9": {
      "model_module": "jupyter-cytoscape",
      "model_module_version": "^1.3.3",
      "model_name": "EdgeModel",
      "state": {
       "_model_module_version": "^1.3.3",
       "_view_module_version": "^1.3.3",
       "classes": " directed ",
       "data": {
        "id": "faf5379c-feb9-470d-bc87-74cb917702c8",
        "source": "-2993913355004686177",
        "target": "7927772020698749667"
       },
       "selectable": false
      }
     },
     "6b8068806e234eeeba5fb84ae3ee9be6": {
      "model_module": "jupyter-cytoscape",
      "model_module_version": "^1.3.3",
      "model_name": "EdgeModel",
      "state": {
       "_model_module_version": "^1.3.3",
       "_view_module_version": "^1.3.3",
       "classes": " directed ",
       "data": {
        "id": "3919f9fa-39b1-4420-b24a-c9723cab9736",
        "source": "6958159432146507029",
        "target": "2369830892600547874"
       },
       "selectable": false
      }
     },
     "6cec3e8b7f094a2b8d6b76eb0b2c3b80": {
      "model_module": "jupyter-cytoscape",
      "model_module_version": "^1.3.3",
      "model_name": "NodeModel",
      "state": {
       "_model_module_version": "^1.3.3",
       "_view_module_version": "^1.3.3",
       "data": {
        "color": "gray",
        "id": "1468814177293301289",
        "label": "(0, 0, 0)",
        "shape": "rectangle"
       },
       "grabbable": true,
       "grabbed": false,
       "position": {
        "x": 912.5,
        "y": 995
       },
       "selectable": false
      }
     },
     "6ddae9d98986408aba04acf38f3dbb99": {
      "model_module": "jupyter-cytoscape",
      "model_module_version": "^1.3.3",
      "model_name": "EdgeModel",
      "state": {
       "_model_module_version": "^1.3.3",
       "_view_module_version": "^1.3.3",
       "classes": " directed ",
       "data": {
        "id": "46823a50-1064-467f-8287-f6811d1c7e14",
        "source": "-81111989138868833",
        "target": "-8559770428161864702"
       },
       "selectable": false
      }
     },
     "6e0d7bea103f4077942eb38e583f6f90": {
      "model_module": "jupyter-cytoscape",
      "model_module_version": "^1.3.3",
      "model_name": "NodeModel",
      "state": {
       "_model_module_version": "^1.3.3",
       "_view_module_version": "^1.3.3",
       "data": {
        "color": "gray",
        "id": "-4888149582364544781",
        "label": "extract_measurement",
        "shape": "ellipse"
       },
       "grabbable": true,
       "grabbed": false,
       "position": {
        "x": 1279.5,
        "y": 1115
       },
       "selectable": false
      }
     },
     "70568d12a32543b38f5e39d3ecf3d5fd": {
      "model_module": "jupyter-cytoscape",
      "model_module_version": "^1.3.3",
      "model_name": "EdgeModel",
      "state": {
       "_model_module_version": "^1.3.3",
       "_view_module_version": "^1.3.3",
       "classes": " directed ",
       "data": {
        "id": "f0eb47b9-2d64-481a-abb5-ad381983dbe6",
        "source": "641647815826442644",
        "target": "-1892055594409640941"
       },
       "selectable": false
      }
     },
     "737057adddaa493e9c1fdefa8869a09b": {
      "model_module": "jupyter-cytoscape",
      "model_module_version": "^1.3.3",
      "model_name": "EdgeModel",
      "state": {
       "_model_module_version": "^1.3.3",
       "_view_module_version": "^1.3.3",
       "classes": " directed ",
       "data": {
        "id": "c0421886-97c3-48ce-b55b-be56a28fd5ae",
        "source": "-5781255077600032181",
        "target": "997040717761818877"
       },
       "selectable": false
      }
     },
     "73717528bc624909bfba83fe5c22e71d": {
      "model_module": "jupyter-cytoscape",
      "model_module_version": "^1.3.3",
      "model_name": "NodeModel",
      "state": {
       "_model_module_version": "^1.3.3",
       "_view_module_version": "^1.3.3",
       "data": {
        "color": "gray",
        "id": "8554607745120336249",
        "label": "frozen_phonon",
        "shape": "ellipse"
       },
       "grabbable": true,
       "grabbed": false,
       "position": {
        "x": 545.5,
        "y": 1835
       },
       "selectable": false
      }
     },
     "75324db5b19348b2aef04ca08aaf7f33": {
      "model_module": "jupyter-cytoscape",
      "model_module_version": "^1.3.3",
      "model_name": "NodeModel",
      "state": {
       "_model_module_version": "^1.3.3",
       "_view_module_version": "^1.3.3",
       "data": {
        "color": "gray",
        "id": "-4455112467544290847",
        "label": "extract_measurement",
        "shape": "ellipse"
       },
       "grabbable": true,
       "grabbed": false,
       "position": {
        "x": 178.5,
        "y": 155
       },
       "selectable": false
      }
     },
     "7638def0b1df4363b1021341dfe699b3": {
      "model_module": "jupyter-cytoscape",
      "model_module_version": "^1.3.3",
      "model_name": "EdgeModel",
      "state": {
       "_model_module_version": "^1.3.3",
       "_view_module_version": "^1.3.3",
       "classes": " directed ",
       "data": {
        "id": "2286144f-9ba3-4308-a33c-36e805757249",
        "source": "5648452231222580563",
        "target": "525425437570452154"
       },
       "selectable": false
      }
     },
     "76ee91af9f2a4e34a3052eae18d91c81": {
      "model_module": "jupyter-cytoscape",
      "model_module_version": "^1.3.3",
      "model_name": "NodeModel",
      "state": {
       "_model_module_version": "^1.3.3",
       "_view_module_version": "^1.3.3",
       "data": {
        "color": "gray",
        "id": "5899377041639488664",
        "label": "frozen_phonon",
        "shape": "ellipse"
       },
       "grabbable": true,
       "grabbed": false,
       "position": {
        "x": 178.5,
        "y": 1835
       },
       "selectable": false
      }
     },
     "776ac2d7af3c475db98c187ed7e286fa": {
      "model_module": "jupyter-cytoscape",
      "model_module_version": "^1.3.3",
      "model_name": "NodeModel",
      "state": {
       "_model_module_version": "^1.3.3",
       "_view_module_version": "^1.3.3",
       "data": {
        "color": "gray",
        "id": "-1892055594409640941",
        "label": "mean_combine-partial",
        "shape": "ellipse"
       },
       "grabbable": true,
       "grabbed": false,
       "position": {
        "x": 362,
        "y": 395
       },
       "selectable": false
      }
     },
     "7779a1994aaf427f83f3647c58608a8c": {
      "model_module": "jupyter-cytoscape",
      "model_module_version": "^1.3.3",
      "model_name": "EdgeModel",
      "state": {
       "_model_module_version": "^1.3.3",
       "_view_module_version": "^1.3.3",
       "classes": " directed ",
       "data": {
        "id": "5b79dd5e-e207-4b9e-9462-3024553f5955",
        "source": "-6274431168249504483",
        "target": "-2638438148746906173"
       },
       "selectable": false
      }
     },
     "779d15a2c4b14cbf99cbab2c124d53d2": {
      "model_module": "jupyter-cytoscape",
      "model_module_version": "^1.3.3",
      "model_name": "NodeModel",
      "state": {
       "_model_module_version": "^1.3.3",
       "_view_module_version": "^1.3.3",
       "data": {
        "color": "gray",
        "id": "2611607444891120936",
        "label": "3",
        "shape": "rectangle"
       },
       "grabbable": true,
       "grabbed": false,
       "position": {
        "x": 1279.5,
        "y": 275
       },
       "selectable": false
      }
     },
     "78ea0a5f6c8e419a98a01af19741324b": {
      "model_module": "jupyter-cytoscape",
      "model_module_version": "^1.3.3",
      "model_name": "EdgeModel",
      "state": {
       "_model_module_version": "^1.3.3",
       "_view_module_version": "^1.3.3",
       "classes": " directed ",
       "data": {
        "id": "9c01c4a6-50ce-451b-9a76-0dc94c2d3931",
        "source": "-4455112467544290847",
        "target": "1468814177293301289"
       },
       "selectable": false
      }
     },
     "7a505b33b8134eaba14ffb60811c9e3c": {
      "model_module": "jupyter-cytoscape",
      "model_module_version": "^1.3.3",
      "model_name": "EdgeModel",
      "state": {
       "_model_module_version": "^1.3.3",
       "_view_module_version": "^1.3.3",
       "classes": " directed ",
       "data": {
        "id": "ab81838f-202a-4565-892e-5a971414f567",
        "source": "6029605610067576814",
        "target": "-1112242655355811420"
       },
       "selectable": false
      }
     },
     "7a811a266afe4dff87294e20f20a6176": {
      "model_module": "jupyter-cytoscape",
      "model_module_version": "^1.3.3",
      "model_name": "EdgeModel",
      "state": {
       "_model_module_version": "^1.3.3",
       "_view_module_version": "^1.3.3",
       "classes": " directed ",
       "data": {
        "id": "eaf151b5-69fd-47cf-a17f-700e8ac326c1",
        "source": "1723271752263943708",
        "target": "-3606315626874523598"
       },
       "selectable": false
      }
     },
     "7ad1077301ae4797815f14d2a0d47b59": {
      "model_module": "jupyter-cytoscape",
      "model_module_version": "^1.3.3",
      "model_name": "NodeModel",
      "state": {
       "_model_module_version": "^1.3.3",
       "_view_module_version": "^1.3.3",
       "data": {
        "color": "gray",
        "id": "-6274431168249504483",
        "label": "0",
        "shape": "rectangle"
       },
       "grabbable": true,
       "grabbed": false,
       "position": {
        "x": 912.5,
        "y": 1595
       },
       "selectable": false
      }
     },
     "7b0d012485aa47eab18195582b08049b": {
      "model_module": "jupyter-cytoscape",
      "model_module_version": "^1.3.3",
      "model_name": "GraphModel",
      "state": {
       "_adj": {},
       "_model_module_version": "^1.3.3",
       "_view_module": "jupyter-cytoscape",
       "_view_module_version": "^1.3.3"
      }
     },
     "80f846420d634481a0c4d66ea0d5b9b7": {
      "model_module": "jupyter-cytoscape",
      "model_module_version": "^1.3.3",
      "model_name": "EdgeModel",
      "state": {
       "_model_module_version": "^1.3.3",
       "_view_module_version": "^1.3.3",
       "classes": " directed ",
       "data": {
        "id": "cfb0e624-8e33-4118-a9e9-b2fe25a1b49d",
        "source": "5190833689647490477",
        "target": "-8212648725776401941"
       },
       "selectable": false
      }
     },
     "839a6f2b19384aa2bc62681284e5b602": {
      "model_module": "jupyter-cytoscape",
      "model_module_version": "^1.3.3",
      "model_name": "EdgeModel",
      "state": {
       "_model_module_version": "^1.3.3",
       "_view_module_version": "^1.3.3",
       "classes": " directed ",
       "data": {
        "id": "bed93781-cef4-43d5-a2a4-6cc2a81ef0e8",
        "source": "-4888149582364544781",
        "target": "7678235076085439578"
       },
       "selectable": false
      }
     },
     "83a3f5a44fac4d4da665db16b1549ba9": {
      "model_module": "jupyter-cytoscape",
      "model_module_version": "^1.3.3",
      "model_name": "EdgeModel",
      "state": {
       "_model_module_version": "^1.3.3",
       "_view_module_version": "^1.3.3",
       "classes": " directed ",
       "data": {
        "id": "89e17251-dd76-4635-8a08-a1f141a80864",
        "source": "5337896784629353535",
        "target": "5899377041639488664"
       },
       "selectable": false
      }
     },
     "83a564ea742d4eb9b4c296d70a00b9ea": {
      "model_module": "jupyter-cytoscape",
      "model_module_version": "^1.3.3",
      "model_name": "NodeModel",
      "state": {
       "_model_module_version": "^1.3.3",
       "_view_module_version": "^1.3.3",
       "data": {
        "color": "gray",
        "id": "5190833689647490477",
        "label": "",
        "shape": "rectangle"
       },
       "grabbable": true,
       "grabbed": false,
       "position": {
        "x": 912.5,
        "y": 755
       },
       "selectable": false
      }
     },
     "83f7f7397f3844c3af6abb922cf7eac4": {
      "model_module": "jupyter-cytoscape",
      "model_module_version": "^1.3.3",
      "model_name": "NodeModel",
      "state": {
       "_model_module_version": "^1.3.3",
       "_view_module_version": "^1.3.3",
       "data": {
        "color": "gray",
        "id": "-8212648725776401941",
        "label": "0",
        "shape": "rectangle"
       },
       "grabbable": true,
       "grabbed": false,
       "position": {
        "x": 178.5,
        "y": 1595
       },
       "selectable": false
      }
     },
     "85d5005b9e5942878a2f695b46743a14": {
      "model_module": "jupyter-cytoscape",
      "model_module_version": "^1.3.3",
      "model_name": "EdgeModel",
      "state": {
       "_model_module_version": "^1.3.3",
       "_view_module_version": "^1.3.3",
       "classes": " directed ",
       "data": {
        "id": "7e75f58f-3434-4806-afef-adac5bde6446",
        "source": "-5022760253900524454",
        "target": "6411248443375819870"
       },
       "selectable": false
      }
     },
     "872eec512f8b414d95a3fdc8ced511d7": {
      "model_module": "jupyter-cytoscape",
      "model_module_version": "^1.3.3",
      "model_name": "EdgeModel",
      "state": {
       "_model_module_version": "^1.3.3",
       "_view_module_version": "^1.3.3",
       "classes": " directed ",
       "data": {
        "id": "bea5f0af-6468-4e57-a8b6-1b8f1c0bd2b5",
        "source": "-8911303611153779914",
        "target": "-147531381724615491"
       },
       "selectable": false
      }
     },
     "87f7bf6e28d04032b943a1ac5c8ace85": {
      "model_module": "jupyter-cytoscape",
      "model_module_version": "^1.3.3",
      "model_name": "EdgeModel",
      "state": {
       "_model_module_version": "^1.3.3",
       "_view_module_version": "^1.3.3",
       "classes": " directed ",
       "data": {
        "id": "164707f8-3a3a-4b60-8705-877e6b613dce",
        "source": "5337896784629353535",
        "target": "5899377041639488664"
       },
       "selectable": false
      }
     },
     "882098914ae44dab9b512063bf504e66": {
      "model_module": "jupyter-cytoscape",
      "model_module_version": "^1.3.3",
      "model_name": "EdgeModel",
      "state": {
       "_model_module_version": "^1.3.3",
       "_view_module_version": "^1.3.3",
       "classes": " directed ",
       "data": {
        "id": "8b62aa90-b862-4ebe-8a67-572e2a15bef0",
        "source": "-2794818360831510968",
        "target": "8554607745120336249"
       },
       "selectable": false
      }
     },
     "8aa9782896944aa1ac592ee720722974": {
      "model_module": "jupyter-cytoscape",
      "model_module_version": "^1.3.3",
      "model_name": "EdgeModel",
      "state": {
       "_model_module_version": "^1.3.3",
       "_view_module_version": "^1.3.3",
       "classes": " directed ",
       "data": {
        "id": "b0be19de-3d83-427e-9380-aa3dd01d7963",
        "source": "5978485980472722549",
        "target": "-209718090337684999"
       },
       "selectable": false
      }
     },
     "8d2e38392f074f18ae976d5ff7b96361": {
      "model_module": "jupyter-cytoscape",
      "model_module_version": "^1.3.3",
      "model_name": "EdgeModel",
      "state": {
       "_model_module_version": "^1.3.3",
       "_view_module_version": "^1.3.3",
       "classes": " directed ",
       "data": {
        "id": "620a55b0-3991-421e-ba01-3291f2934bc3",
        "source": "2611607444891120936",
        "target": "1723271752263943708"
       },
       "selectable": false
      }
     },
     "8d4e7e9af69a444ca24a05cde8ee9db9": {
      "model_module": "jupyter-cytoscape",
      "model_module_version": "^1.3.3",
      "model_name": "EdgeModel",
      "state": {
       "_model_module_version": "^1.3.3",
       "_view_module_version": "^1.3.3",
       "classes": " directed ",
       "data": {
        "id": "e87484b1-218c-438a-9229-cb0a28d2b0e9",
        "source": "6958159432146507029",
        "target": "2369830892600547874"
       },
       "selectable": false
      }
     },
     "8e2e3bd68b264237844d1707179a1d9b": {
      "model_module": "jupyter-cytoscape",
      "model_module_version": "^1.3.3",
      "model_name": "NodeModel",
      "state": {
       "_model_module_version": "^1.3.3",
       "_view_module_version": "^1.3.3",
       "data": {
        "color": "gray",
        "id": "-7173382570491175912",
        "label": "build_waves_multislice_detect",
        "shape": "ellipse"
       },
       "grabbable": true,
       "grabbed": false,
       "position": {
        "x": 1279.5,
        "y": 395
       },
       "selectable": false
      }
     },
     "903b7d87e666447094c1d0efd3ed9f8a": {
      "model_module": "jupyter-cytoscape",
      "model_module_version": "^1.3.3",
      "model_name": "NodeModel",
      "state": {
       "_model_module_version": "^1.3.3",
       "_view_module_version": "^1.3.3",
       "data": {
        "color": "gray",
        "id": "-2638438148746906173",
        "label": "0",
        "shape": "rectangle"
       },
       "grabbable": true,
       "grabbed": false,
       "position": {
        "x": 912.5,
        "y": 1475
       },
       "selectable": false
      }
     },
     "913aed477ad348cd97a0d4b421bb720a": {
      "model_module": "jupyter-cytoscape",
      "model_module_version": "^1.3.3",
      "model_name": "EdgeModel",
      "state": {
       "_model_module_version": "^1.3.3",
       "_view_module_version": "^1.3.3",
       "classes": " directed ",
       "data": {
        "id": "0d8803bf-27fe-4d8c-99cb-9ecf1d159767",
        "source": "-529154775629275876",
        "target": "-5781255077600032181"
       },
       "selectable": false
      }
     },
     "91a14e5adb8a4e19a9c50e88773c02d8": {
      "model_module": "jupyter-cytoscape",
      "model_module_version": "^1.3.3",
      "model_name": "EdgeModel",
      "state": {
       "_model_module_version": "^1.3.3",
       "_view_module_version": "^1.3.3",
       "classes": " directed ",
       "data": {
        "id": "46815f41-a131-4848-b431-adf3f76f1b9f",
        "source": "8109201440656814751",
        "target": "-8911303611153779914"
       },
       "selectable": false
      }
     },
     "92a5fb3200cd43b5b69f03c799e0a185": {
      "model_module": "jupyter-cytoscape",
      "model_module_version": "^1.3.3",
      "model_name": "NodeModel",
      "state": {
       "_model_module_version": "^1.3.3",
       "_view_module_version": "^1.3.3",
       "data": {
        "color": "gray",
        "id": "-1551061172200993735",
        "label": "(1, 0, 0)",
        "shape": "rectangle"
       },
       "grabbable": true,
       "grabbed": false,
       "position": {
        "x": 362,
        "y": 275
       },
       "selectable": false
      }
     },
     "932bcbd5e90c4c5d8bf511da3eb6a9d4": {
      "model_module": "jupyter-cytoscape",
      "model_module_version": "^1.3.3",
      "model_name": "EdgeModel",
      "state": {
       "_model_module_version": "^1.3.3",
       "_view_module_version": "^1.3.3",
       "classes": " directed ",
       "data": {
        "id": "855c90d5-a40d-41d8-9801-abdee1964c20",
        "source": "-147531381724615491",
        "target": "8688960620195388608"
       },
       "selectable": false
      }
     },
     "9333500e49dd4b96bc1c86b75d74b5dd": {
      "model_module": "jupyter-cytoscape",
      "model_module_version": "^1.3.3",
      "model_name": "NodeModel",
      "state": {
       "_model_module_version": "^1.3.3",
       "_view_module_version": "^1.3.3",
       "data": {
        "color": "gray",
        "id": "-3488440626372327540",
        "label": "mean_agg-aggregate",
        "shape": "ellipse"
       },
       "grabbable": true,
       "grabbed": false,
       "position": {
        "x": 729,
        "y": 155
       },
       "selectable": false
      }
     },
     "94eaaf78b5b044ff8aa1b4ef0a8b2f7a": {
      "model_module": "jupyter-cytoscape",
      "model_module_version": "^1.3.3",
      "model_name": "EdgeModel",
      "state": {
       "_model_module_version": "^1.3.3",
       "_view_module_version": "^1.3.3",
       "classes": " directed ",
       "data": {
        "id": "a897c8f0-e98c-406b-b850-e7385d9b238b",
        "source": "-3648763719720139567",
        "target": "-6274431168249504483"
       },
       "selectable": false
      }
     },
     "98be9e5f63cc49119ffb27fa72261103": {
      "model_module": "jupyter-cytoscape",
      "model_module_version": "^1.3.3",
      "model_name": "NodeModel",
      "state": {
       "_model_module_version": "^1.3.3",
       "_view_module_version": "^1.3.3",
       "data": {
        "color": "gray",
        "id": "5978485980472722549",
        "label": "2",
        "shape": "rectangle"
       },
       "grabbable": true,
       "grabbed": false,
       "position": {
        "x": 912.5,
        "y": 515
       },
       "selectable": false
      }
     },
     "98c7d924a4cd4700a5623b264c3b2891": {
      "model_module": "jupyter-cytoscape",
      "model_module_version": "^1.3.3",
      "model_name": "EdgeModel",
      "state": {
       "_model_module_version": "^1.3.3",
       "_view_module_version": "^1.3.3",
       "classes": " directed ",
       "data": {
        "id": "ef29abef-b59d-4692-91e6-90419efe2db0",
        "source": "-2096639438270986525",
        "target": "-2843519414721284291"
       },
       "selectable": false
      }
     },
     "9e8c87c8898646ef92edfe0381324b9d": {
      "model_module": "jupyter-cytoscape",
      "model_module_version": "^1.3.3",
      "model_name": "EdgeModel",
      "state": {
       "_model_module_version": "^1.3.3",
       "_view_module_version": "^1.3.3",
       "classes": " directed ",
       "data": {
        "id": "acfe9051-dcaf-4449-bf62-15df0be34eeb",
        "source": "6029605610067576814",
        "target": "-1112242655355811420"
       },
       "selectable": false
      }
     },
     "a1c59d4749ee4632a2226ed330552add": {
      "model_module": "jupyter-cytoscape",
      "model_module_version": "^1.3.3",
      "model_name": "EdgeModel",
      "state": {
       "_model_module_version": "^1.3.3",
       "_view_module_version": "^1.3.3",
       "classes": " directed ",
       "data": {
        "id": "d946ce69-f125-4907-8763-a57ec2e4857c",
        "source": "-1112242655355811420",
        "target": "-4455112467544290847"
       },
       "selectable": false
      }
     },
     "a25fc171409546079910b5370f06405b": {
      "model_module": "jupyter-cytoscape",
      "model_module_version": "^1.3.3",
      "model_name": "EdgeModel",
      "state": {
       "_model_module_version": "^1.3.3",
       "_view_module_version": "^1.3.3",
       "classes": " directed ",
       "data": {
        "id": "c26997d5-aa5b-4538-8dc9-ec5e2b9be674",
        "source": "-209718090337684999",
        "target": "-3896033311210877489"
       },
       "selectable": false
      }
     },
     "a4155edacc6440e885b01a55f80a8659": {
      "model_module": "jupyter-cytoscape",
      "model_module_version": "^1.3.3",
      "model_name": "EdgeModel",
      "state": {
       "_model_module_version": "^1.3.3",
       "_view_module_version": "^1.3.3",
       "classes": " directed ",
       "data": {
        "id": "f07e8a72-e0f3-4d38-aa16-1967421b1178",
        "source": "-3896033311210877489",
        "target": "-2096639438270986525"
       },
       "selectable": false
      }
     },
     "a4cec0d988f9473899124881556e6c57": {
      "model_module": "jupyter-cytoscape",
      "model_module_version": "^1.3.3",
      "model_name": "EdgeModel",
      "state": {
       "_model_module_version": "^1.3.3",
       "_view_module_version": "^1.3.3",
       "classes": " directed ",
       "data": {
        "id": "5d46ba24-6285-4af3-b387-f915f8c26a4b",
        "source": "997040717761818877",
        "target": "-4888149582364544781"
       },
       "selectable": false
      }
     },
     "a5b34396c7024023a4cfed679e389920": {
      "model_module": "jupyter-cytoscape",
      "model_module_version": "^1.3.3",
      "model_name": "CytoscapeModel",
      "state": {
       "_interaction_handlers": {},
       "_model_module_version": "^1.3.3",
       "_view_module_version": "^1.3.3",
       "auto_ungrabify": false,
       "autolock": false,
       "cytoscape_layout": {
        "edgeSep": 10,
        "name": "dagre",
        "nodeDimensionsIncludeLabels": true,
        "nodeSep": 10,
        "rankDir": "BT",
        "spacingFactor": 1
       },
       "cytoscape_style": [
        {
         "selector": "node",
         "style": {
          "background-color": "#eee",
          "border-color": "data(color)",
          "border-width": 4,
          "color": "black",
          "font-family": "helvetica",
          "font-size": "24px",
          "font-weight": "bold",
          "height": 64,
          "label": "data(label)",
          "opacity": "1.0",
          "shape": "data(shape)",
          "text-halign": "center",
          "text-valign": "center",
          "width": 64
         }
        },
        {
         "selector": "edge",
         "style": {
          "curve-style": "bezier",
          "line-color": "gray",
          "target-arrow-color": "gray",
          "target-arrow-shape": "triangle",
          "width": 8
         }
        }
       ],
       "desktop_tap_threshold": 4,
       "graph": "IPY_MODEL_1a55d88f1b8c4efcb5f31cdd2b0d9f7d",
       "headless": false,
       "hide_edges_on_viewport": false,
       "layout": "IPY_MODEL_fe16a3914d3b442e8109e3accef076b9",
       "max_zoom": 4,
       "min_zoom": 0.2,
       "motion_blur": false,
       "motion_blur_opacity": 0.2,
       "panning_enabled": true,
       "pixel_ratio": "auto",
       "rendered_position": {
        "renderedPosition": {
         "x": 100,
         "y": 100
        }
       },
       "selection_type": "single",
       "style_enabled": true,
       "texture_on_viewport": false,
       "tooltip_source": "tooltip",
       "touch_tap_threshold": 8,
       "user_panning_enabled": true,
       "user_zooming_enabled": true,
       "wheel_sensitivity": 0.1,
       "zoom": 2,
       "zooming_enabled": true
      }
     },
     "a6173d5d59dc42bf95866bc06f62bb20": {
      "model_module": "jupyter-cytoscape",
      "model_module_version": "^1.3.3",
      "model_name": "NodeModel",
      "state": {
       "_model_module_version": "^1.3.3",
       "_view_module_version": "^1.3.3",
       "data": {
        "color": "gray",
        "id": "6958159432146507029",
        "label": "",
        "shape": "rectangle"
       },
       "grabbable": true,
       "grabbed": false,
       "position": {
        "x": 178.5,
        "y": 995
       },
       "selectable": false
      }
     },
     "a6375f76620a43d3a6d28f6b3a108e26": {
      "model_module": "jupyter-cytoscape",
      "model_module_version": "^1.3.3",
      "model_name": "EdgeModel",
      "state": {
       "_model_module_version": "^1.3.3",
       "_view_module_version": "^1.3.3",
       "classes": " directed ",
       "data": {
        "id": "48e546ff-54a9-4ddb-8858-89a58527df49",
        "source": "-3488440626372327540",
        "target": "4007050532627957381"
       },
       "selectable": false
      }
     },
     "a754eb9bb3b4427295914183bfb4b20b": {
      "model_module": "jupyter-cytoscape",
      "model_module_version": "^1.3.3",
      "model_name": "EdgeModel",
      "state": {
       "_model_module_version": "^1.3.3",
       "_view_module_version": "^1.3.3",
       "classes": " directed ",
       "data": {
        "id": "54c52d5f-ec43-4c7a-9ab4-af4c667b1278",
        "source": "-1551061172200993735",
        "target": "-3488440626372327540"
       },
       "selectable": false
      }
     },
     "a7de5189d5b64159b471017f871fc6e2": {
      "model_module": "jupyter-cytoscape",
      "model_module_version": "^1.3.3",
      "model_name": "NodeModel",
      "state": {
       "_model_module_version": "^1.3.3",
       "_view_module_version": "^1.3.3",
       "data": {
        "color": "gray",
        "id": "525425437570452154",
        "label": "mean_chunk",
        "shape": "ellipse"
       },
       "grabbable": true,
       "grabbed": false,
       "position": {
        "x": 178.5,
        "y": 635
       },
       "selectable": false
      }
     },
     "a8bb8b8ca4fc486ebc0e9ee7c8ed20f3": {
      "model_module": "jupyter-cytoscape",
      "model_module_version": "^1.3.3",
      "model_name": "NodeModel",
      "state": {
       "_model_module_version": "^1.3.3",
       "_view_module_version": "^1.3.3",
       "data": {
        "color": "gray",
        "id": "5899377041639488664",
        "label": "frozen_phonon",
        "shape": "ellipse"
       },
       "grabbable": true,
       "grabbed": false,
       "position": {
        "x": 912.5,
        "y": 875
       },
       "selectable": false
      }
     },
     "a8e2de1cd69b4583bcfdd13bfa311a48": {
      "model_module": "jupyter-cytoscape",
      "model_module_version": "^1.3.3",
      "model_name": "EdgeModel",
      "state": {
       "_model_module_version": "^1.3.3",
       "_view_module_version": "^1.3.3",
       "classes": " directed ",
       "data": {
        "id": "f6dcd563-a5dd-4ded-b1cf-56d5b98c96e5",
        "source": "-3896033311210877489",
        "target": "-2096639438270986525"
       },
       "selectable": false
      }
     },
     "aa7b299f6b4d48da9557d571e3c01aa1": {
      "model_module": "jupyter-cytoscape",
      "model_module_version": "^1.3.3",
      "model_name": "NodeModel",
      "state": {
       "_model_module_version": "^1.3.3",
       "_view_module_version": "^1.3.3",
       "data": {
        "color": "gray",
        "id": "997040717761818877",
        "label": "1",
        "shape": "rectangle"
       },
       "grabbable": true,
       "grabbed": false,
       "position": {
        "x": 1279.5,
        "y": 1235
       },
       "selectable": false
      }
     },
     "ad8890f5a95a424fac3a615a4b46c724": {
      "model_module": "jupyter-cytoscape",
      "model_module_version": "^1.3.3",
      "model_name": "GraphModel",
      "state": {
       "_adj": {},
       "_model_module_version": "^1.3.3",
       "_view_module": "jupyter-cytoscape",
       "_view_module_version": "^1.3.3"
      }
     },
     "ae45b58112ce48c891dc781d07e646e8": {
      "model_module": "jupyter-cytoscape",
      "model_module_version": "^1.3.3",
      "model_name": "EdgeModel",
      "state": {
       "_model_module_version": "^1.3.3",
       "_view_module_version": "^1.3.3",
       "classes": " directed ",
       "data": {
        "id": "8472bc64-6dc6-4882-bbe9-dbab5710c00c",
        "source": "-6458404547314626517",
        "target": "-3488440626372327540"
       },
       "selectable": false
      }
     },
     "ae4b5b6de49b4ea4a5821c86f0e65a0e": {
      "model_module": "jupyter-cytoscape",
      "model_module_version": "^1.3.3",
      "model_name": "NodeModel",
      "state": {
       "_model_module_version": "^1.3.3",
       "_view_module_version": "^1.3.3",
       "data": {
        "color": "gray",
        "id": "-1112242655355811420",
        "label": "0",
        "shape": "rectangle"
       },
       "grabbable": true,
       "grabbed": false,
       "position": {
        "x": 178.5,
        "y": 275
       },
       "selectable": false
      }
     },
     "b307db0d1a69413f8ca55aea070e2420": {
      "model_module": "jupyter-cytoscape",
      "model_module_version": "^1.3.3",
      "model_name": "NodeModel",
      "state": {
       "_model_module_version": "^1.3.3",
       "_view_module_version": "^1.3.3",
       "data": {
        "color": "gray",
        "id": "4527726134442228481",
        "label": "intensity",
        "shape": "ellipse"
       },
       "grabbable": true,
       "grabbed": false,
       "position": {
        "x": 178.5,
        "y": 875
       },
       "selectable": false
      }
     },
     "b4372ec4abbb4603bccd8fd9d95e4704": {
      "model_module": "jupyter-cytoscape",
      "model_module_version": "^1.3.3",
      "model_name": "NodeModel",
      "state": {
       "_model_module_version": "^1.3.3",
       "_view_module_version": "^1.3.3",
       "data": {
        "color": "gray",
        "id": "6029605610067576814",
        "label": "build_waves_multislice_detect",
        "shape": "ellipse"
       },
       "grabbable": true,
       "grabbed": false,
       "position": {
        "x": 178.5,
        "y": 395
       },
       "selectable": false
      }
     },
     "b4bded753b0546fdb876e725201887d0": {
      "model_module": "jupyter-cytoscape",
      "model_module_version": "^1.3.3",
      "model_name": "NodeModel",
      "state": {
       "_model_module_version": "^1.3.3",
       "_view_module_version": "^1.3.3",
       "data": {
        "color": "gray",
        "id": "-147531381724615491",
        "label": "",
        "shape": "rectangle"
       },
       "grabbable": true,
       "grabbed": false,
       "position": {
        "x": 1279.5,
        "y": 1715
       },
       "selectable": false
      }
     },
     "b569087921334e96aa7356641d940921": {
      "model_module": "jupyter-cytoscape",
      "model_module_version": "^1.3.3",
      "model_name": "NodeModel",
      "state": {
       "_model_module_version": "^1.3.3",
       "_view_module_version": "^1.3.3",
       "data": {
        "color": "gray",
        "id": "997040717761818877",
        "label": "1",
        "shape": "rectangle"
       },
       "grabbable": true,
       "grabbed": false,
       "position": {
        "x": 545.5,
        "y": 275
       },
       "selectable": false
      }
     },
     "b5707b6b0d5c4ff684a39d7df54ff2b8": {
      "model_module": "jupyter-cytoscape",
      "model_module_version": "^1.3.3",
      "model_name": "EdgeModel",
      "state": {
       "_model_module_version": "^1.3.3",
       "_view_module_version": "^1.3.3",
       "classes": " directed ",
       "data": {
        "id": "4daea1b0-c251-4fdd-a69c-fd7cae413c5d",
        "source": "82232189849975367",
        "target": "7527841135802037692"
       },
       "selectable": false
      }
     },
     "b80a4a078cfd478d88faf6c0a7c23ce1": {
      "model_module": "jupyter-cytoscape",
      "model_module_version": "^1.3.3",
      "model_name": "EdgeModel",
      "state": {
       "_model_module_version": "^1.3.3",
       "_view_module_version": "^1.3.3",
       "classes": " directed ",
       "data": {
        "id": "f41c44c0-d843-4d7b-b86b-56268bdef758",
        "source": "-3606315626874523598",
        "target": "-2809696302256404093"
       },
       "selectable": false
      }
     },
     "ba84041b4cd448469529fb31ed1b7d5f": {
      "model_module": "jupyter-cytoscape",
      "model_module_version": "^1.3.3",
      "model_name": "NodeModel",
      "state": {
       "_model_module_version": "^1.3.3",
       "_view_module_version": "^1.3.3",
       "data": {
        "color": "gray",
        "id": "-8559770428161864702",
        "label": "(0, 0, 0)",
        "shape": "rectangle"
       },
       "grabbable": true,
       "grabbed": false,
       "position": {
        "x": 912.5,
        "y": 755
       },
       "selectable": false
      }
     },
     "bc611271d89847c3a8cd558b34bc2954": {
      "model_module": "jupyter-cytoscape",
      "model_module_version": "^1.3.3",
      "model_name": "NodeModel",
      "state": {
       "_model_module_version": "^1.3.3",
       "_view_module_version": "^1.3.3",
       "data": {
        "color": "gray",
        "id": "-3648763719720139567",
        "label": "",
        "shape": "rectangle"
       },
       "grabbable": true,
       "grabbed": false,
       "position": {
        "x": 912.5,
        "y": 1715
       },
       "selectable": false
      }
     },
     "c083aee53b3a4b2b98dcfad40abcbbd4": {
      "model_module": "jupyter-cytoscape",
      "model_module_version": "^1.3.3",
      "model_name": "NodeModel",
      "state": {
       "_model_module_version": "^1.3.3",
       "_view_module_version": "^1.3.3",
       "data": {
        "color": "gray",
        "id": "641647815826442644",
        "label": "(2, 0, 0)",
        "shape": "rectangle"
       },
       "grabbable": true,
       "grabbed": false,
       "position": {
        "x": 178.5,
        "y": 515
       },
       "selectable": false
      }
     },
     "c17201f7a2ba485e8510bf40c496fc9f": {
      "model_module": "jupyter-cytoscape",
      "model_module_version": "^1.3.3",
      "model_name": "EdgeModel",
      "state": {
       "_model_module_version": "^1.3.3",
       "_view_module_version": "^1.3.3",
       "classes": " directed ",
       "data": {
        "id": "72731710-8d7d-45d4-ae4e-b222ddf070d5",
        "source": "-975648152280315770",
        "target": "-5454616645910432204"
       },
       "selectable": false
      }
     },
     "c206392c29b34d45838e404d5ab23398": {
      "model_module": "jupyter-cytoscape",
      "model_module_version": "^1.3.3",
      "model_name": "EdgeModel",
      "state": {
       "_model_module_version": "^1.3.3",
       "_view_module_version": "^1.3.3",
       "classes": " directed ",
       "data": {
        "id": "0e6742ce-bfd3-4658-aed8-f3fbd0ff7cb4",
        "source": "-147531381724615491",
        "target": "8688960620195388608"
       },
       "selectable": false
      }
     },
     "c23507194a754a5f93db65c99a90df8f": {
      "model_module": "jupyter-cytoscape",
      "model_module_version": "^1.3.3",
      "model_name": "EdgeModel",
      "state": {
       "_model_module_version": "^1.3.3",
       "_view_module_version": "^1.3.3",
       "classes": " directed ",
       "data": {
        "id": "58b25f38-9f6b-42f2-af2d-689eac58b6b3",
        "source": "2369830892600547874",
        "target": "-3648763719720139567"
       },
       "selectable": false
      }
     },
     "c2b14ebd73504b2781c6313bae5f3564": {
      "model_module": "jupyter-cytoscape",
      "model_module_version": "^1.3.3",
      "model_name": "NodeModel",
      "state": {
       "_model_module_version": "^1.3.3",
       "_view_module_version": "^1.3.3",
       "data": {
        "color": "gray",
        "id": "82232189849975367",
        "label": "mean_chunk",
        "shape": "ellipse"
       },
       "grabbable": true,
       "grabbed": false,
       "position": {
        "x": 912.5,
        "y": 635
       },
       "selectable": false
      }
     },
     "c424a9a28c8348e6b2c414be03170c80": {
      "model_module": "jupyter-cytoscape",
      "model_module_version": "^1.3.3",
      "model_name": "NodeModel",
      "state": {
       "_model_module_version": "^1.3.3",
       "_view_module_version": "^1.3.3",
       "data": {
        "color": "gray",
        "id": "8688960620195388608",
        "label": "0",
        "shape": "rectangle"
       },
       "grabbable": true,
       "grabbed": false,
       "position": {
        "x": 1279.5,
        "y": 1595
       },
       "selectable": false
      }
     },
     "c722b6051768479c86367a1f15ad5fe1": {
      "model_module": "jupyter-cytoscape",
      "model_module_version": "^1.3.3",
      "model_name": "EdgeModel",
      "state": {
       "_model_module_version": "^1.3.3",
       "_view_module_version": "^1.3.3",
       "classes": " directed ",
       "data": {
        "id": "cd6dcc1a-f852-4b55-b63e-69c615f1be48",
        "source": "-4455112467544290847",
        "target": "1468814177293301289"
       },
       "selectable": false
      }
     },
     "c730c9c5cb8f44709114b6a96c2685f0": {
      "model_module": "jupyter-cytoscape",
      "model_module_version": "^1.3.3",
      "model_name": "EdgeModel",
      "state": {
       "_model_module_version": "^1.3.3",
       "_view_module_version": "^1.3.3",
       "classes": " directed ",
       "data": {
        "id": "a43d28c7-fea8-40d9-97d5-3930c1225e87",
        "source": "5190833689647490477",
        "target": "-8212648725776401941"
       },
       "selectable": false
      }
     },
     "c9cb8b3181704b8c8debad3302eb84c9": {
      "model_module": "jupyter-cytoscape",
      "model_module_version": "^1.3.3",
      "model_name": "NodeModel",
      "state": {
       "_model_module_version": "^1.3.3",
       "_view_module_version": "^1.3.3",
       "data": {
        "color": "gray",
        "id": "-975648152280315770",
        "label": "",
        "shape": "rectangle"
       },
       "grabbable": true,
       "grabbed": false,
       "position": {
        "x": 545.5,
        "y": 1715
       },
       "selectable": false
      }
     },
     "ca364adf6d5844a8b0eb2aa048ed4f02": {
      "model_module": "jupyter-cytoscape",
      "model_module_version": "^1.3.3",
      "model_name": "NodeModel",
      "state": {
       "_model_module_version": "^1.3.3",
       "_view_module_version": "^1.3.3",
       "data": {
        "color": "gray",
        "id": "-3606315626874523598",
        "label": "(3, 0, 0)",
        "shape": "rectangle"
       },
       "grabbable": true,
       "grabbed": false,
       "position": {
        "x": 1279.5,
        "y": 35
       },
       "selectable": false
      }
     },
     "ca480753033c4eb88149367ef11dd84f": {
      "model_module": "jupyter-cytoscape",
      "model_module_version": "^1.3.3",
      "model_name": "EdgeModel",
      "state": {
       "_model_module_version": "^1.3.3",
       "_view_module_version": "^1.3.3",
       "classes": " directed ",
       "data": {
        "id": "e9075e03-3ede-4e5a-808a-152b7039d34d",
        "source": "8566637398729270391",
        "target": "-1892055594409640941"
       },
       "selectable": false
      }
     },
     "cc671573256d446cbb0bf44fcefe93b9": {
      "model_module": "jupyter-cytoscape",
      "model_module_version": "^1.3.3",
      "model_name": "NodeModel",
      "state": {
       "_model_module_version": "^1.3.3",
       "_view_module_version": "^1.3.3",
       "data": {
        "color": "gray",
        "id": "-147531381724615491",
        "label": "",
        "shape": "rectangle"
       },
       "grabbable": true,
       "grabbed": false,
       "position": {
        "x": 545.5,
        "y": 755
       },
       "selectable": false
      }
     },
     "ccec27ec00fa46ec8de7551e4ca76613": {
      "model_module": "jupyter-cytoscape",
      "model_module_version": "^1.3.3",
      "model_name": "NodeModel",
      "state": {
       "_model_module_version": "^1.3.3",
       "_view_module_version": "^1.3.3",
       "data": {
        "color": "gray",
        "id": "-975648152280315770",
        "label": "",
        "shape": "rectangle"
       },
       "grabbable": true,
       "grabbed": false,
       "position": {
        "x": 1279.5,
        "y": 755
       },
       "selectable": false
      }
     },
     "cdd176ca8a8440c5bfb080ee0b3e373f": {
      "model_module": "jupyter-cytoscape",
      "model_module_version": "^1.3.3",
      "model_name": "EdgeModel",
      "state": {
       "_model_module_version": "^1.3.3",
       "_view_module_version": "^1.3.3",
       "classes": " directed ",
       "data": {
        "id": "2117c5fb-30a2-4dad-99a2-117e7ccbda3e",
        "source": "7527841135802037692",
        "target": "7927772020698749667"
       },
       "selectable": false
      }
     },
     "cf329c7704f347cc9c4fb3b891600307": {
      "model_module": "jupyter-cytoscape",
      "model_module_version": "^1.3.3",
      "model_name": "NodeModel",
      "state": {
       "_model_module_version": "^1.3.3",
       "_view_module_version": "^1.3.3",
       "data": {
        "color": "gray",
        "id": "-2794818360831510968",
        "label": "",
        "shape": "rectangle"
       },
       "grabbable": true,
       "grabbed": false,
       "position": {
        "x": 545.5,
        "y": 1955
       },
       "selectable": false
      }
     },
     "d0309436547b4dfaa87123f84de54037": {
      "model_module": "jupyter-cytoscape",
      "model_module_version": "^1.3.3",
      "model_name": "EdgeModel",
      "state": {
       "_model_module_version": "^1.3.3",
       "_view_module_version": "^1.3.3",
       "classes": " directed ",
       "data": {
        "id": "3d38a5a0-48a8-448d-8c02-50b0fa9de0ac",
        "source": "-209718090337684999",
        "target": "-3896033311210877489"
       },
       "selectable": false
      }
     },
     "d136e3cde1964115a68877ec56697617": {
      "model_module": "jupyter-cytoscape",
      "model_module_version": "^1.3.3",
      "model_name": "NodeModel",
      "state": {
       "_model_module_version": "^1.3.3",
       "_view_module_version": "^1.3.3",
       "data": {
        "color": "gray",
        "id": "-5454616645910432204",
        "label": "0",
        "shape": "rectangle"
       },
       "grabbable": true,
       "grabbed": false,
       "position": {
        "x": 545.5,
        "y": 1595
       },
       "selectable": false
      }
     },
     "d1b33d4d5ff140868a4b63d9cc798ec6": {
      "model_module": "jupyter-cytoscape",
      "model_module_version": "^1.3.3",
      "model_name": "NodeModel",
      "state": {
       "_model_module_version": "^1.3.3",
       "_view_module_version": "^1.3.3",
       "data": {
        "color": "gray",
        "id": "2369830892600547874",
        "label": "frozen_phonon",
        "shape": "ellipse"
       },
       "grabbable": true,
       "grabbed": false,
       "position": {
        "x": 178.5,
        "y": 875
       },
       "selectable": false
      }
     },
     "d2b9e551acac47cf9e3441968488f5ac": {
      "model_module": "jupyter-cytoscape",
      "model_module_version": "^1.3.3",
      "model_name": "NodeModel",
      "state": {
       "_model_module_version": "^1.3.3",
       "_view_module_version": "^1.3.3",
       "data": {
        "color": "gray",
        "id": "5337896784629353535",
        "label": "",
        "shape": "rectangle"
       },
       "grabbable": true,
       "grabbed": false,
       "position": {
        "x": 178.5,
        "y": 1955
       },
       "selectable": false
      }
     },
     "d2ddc4d57864423884388a86e4635e86": {
      "model_module": "jupyter-cytoscape",
      "model_module_version": "^1.3.3",
      "model_name": "EdgeModel",
      "state": {
       "_model_module_version": "^1.3.3",
       "_view_module_version": "^1.3.3",
       "classes": " directed ",
       "data": {
        "id": "3f8ef368-b582-4df9-b8c7-12de9122121e",
        "source": "-2794818360831510968",
        "target": "8554607745120336249"
       },
       "selectable": false
      }
     },
     "d3252fda24644dd3ba1a27e385754d31": {
      "model_module": "jupyter-cytoscape",
      "model_module_version": "^1.3.3",
      "model_name": "NodeModel",
      "state": {
       "_model_module_version": "^1.3.3",
       "_view_module_version": "^1.3.3",
       "data": {
        "color": "gray",
        "id": "-4873302259584143306",
        "label": "(3, 0, 0)",
        "shape": "rectangle"
       },
       "grabbable": true,
       "grabbed": false,
       "position": {
        "x": 545.5,
        "y": 755
       },
       "selectable": false
      }
     },
     "d486e3c3fd254fdc89b405a77a0f6817": {
      "model_module": "jupyter-cytoscape",
      "model_module_version": "^1.3.3",
      "model_name": "EdgeModel",
      "state": {
       "_model_module_version": "^1.3.3",
       "_view_module_version": "^1.3.3",
       "classes": " directed ",
       "data": {
        "id": "91b9009b-190b-4494-881b-2fa930b8cdc7",
        "source": "5899377041639488664",
        "target": "5190833689647490477"
       },
       "selectable": false
      }
     },
     "d68f2a363d2b453db9e56911693a3fad": {
      "model_module": "jupyter-cytoscape",
      "model_module_version": "^1.3.3",
      "model_name": "NodeModel",
      "state": {
       "_model_module_version": "^1.3.3",
       "_view_module_version": "^1.3.3",
       "data": {
        "color": "gray",
        "id": "2611607444891120936",
        "label": "3",
        "shape": "rectangle"
       },
       "grabbable": true,
       "grabbed": false,
       "position": {
        "x": 545.5,
        "y": 1235
       },
       "selectable": false
      }
     },
     "d8497552606742e982131651fb107295": {
      "model_module": "jupyter-cytoscape",
      "model_module_version": "^1.3.3",
      "model_name": "NodeModel",
      "state": {
       "_model_module_version": "^1.3.3",
       "_view_module_version": "^1.3.3",
       "data": {
        "color": "gray",
        "id": "-7173382570491175912",
        "label": "build_waves_multislice_detect",
        "shape": "ellipse"
       },
       "grabbable": true,
       "grabbed": false,
       "position": {
        "x": 545.5,
        "y": 1355
       },
       "selectable": false
      }
     },
     "d945b5fb873945509593c4a535b29950": {
      "model_module": "jupyter-cytoscape",
      "model_module_version": "^1.3.3",
      "model_name": "NodeModel",
      "state": {
       "_model_module_version": "^1.3.3",
       "_view_module_version": "^1.3.3",
       "data": {
        "color": "gray",
        "id": "-2096639438270986525",
        "label": "extract_measurement",
        "shape": "ellipse"
       },
       "grabbable": true,
       "grabbed": false,
       "position": {
        "x": 178.5,
        "y": 1115
       },
       "selectable": false
      }
     },
     "dad046dd28ec4937b48c5532d3b4cb83": {
      "model_module": "jupyter-cytoscape",
      "model_module_version": "^1.3.3",
      "model_name": "EdgeModel",
      "state": {
       "_model_module_version": "^1.3.3",
       "_view_module_version": "^1.3.3",
       "classes": " directed ",
       "data": {
        "id": "2aaaabb7-f7e2-4d4b-92cf-0e5e2fb70a45",
        "source": "2611607444891120936",
        "target": "1723271752263943708"
       },
       "selectable": false
      }
     },
     "dc25ec87600f4fe1b6efb2f3a8cbca80": {
      "model_module": "jupyter-cytoscape",
      "model_module_version": "^1.3.3",
      "model_name": "NodeModel",
      "state": {
       "_model_module_version": "^1.3.3",
       "_view_module_version": "^1.3.3",
       "data": {
        "color": "gray",
        "id": "-5781255077600032181",
        "label": "build_waves_multislice_detect",
        "shape": "ellipse"
       },
       "grabbable": true,
       "grabbed": false,
       "position": {
        "x": 545.5,
        "y": 395
       },
       "selectable": false
      }
     },
     "ddeae7c255724ea79c792967dd6d39d8": {
      "model_module": "jupyter-cytoscape",
      "model_module_version": "^1.3.3",
      "model_name": "EdgeModel",
      "state": {
       "_model_module_version": "^1.3.3",
       "_view_module_version": "^1.3.3",
       "classes": " directed ",
       "data": {
        "id": "ddcdf051-b311-4ad6-a981-a16c774a37f4",
        "source": "-6274431168249504483",
        "target": "-2638438148746906173"
       },
       "selectable": false
      }
     },
     "e1406d805c1b4abaa67c4297ffb41c2c": {
      "model_module": "jupyter-cytoscape",
      "model_module_version": "^1.3.3",
      "model_name": "EdgeModel",
      "state": {
       "_model_module_version": "^1.3.3",
       "_view_module_version": "^1.3.3",
       "classes": " directed ",
       "data": {
        "id": "b88e0ffa-86a0-42dc-b80d-ccc16167a2d0",
        "source": "-1892055594409640941",
        "target": "-1551061172200993735"
       },
       "selectable": false
      }
     },
     "e30bd6c6edb848589f31805637a687b4": {
      "model_module": "jupyter-cytoscape",
      "model_module_version": "^1.3.3",
      "model_name": "EdgeModel",
      "state": {
       "_model_module_version": "^1.3.3",
       "_view_module_version": "^1.3.3",
       "classes": " directed ",
       "data": {
        "id": "11a9996c-2178-4c0a-9cd0-4ca5461a192d",
        "source": "4527726134442228481",
        "target": "5648452231222580563"
       },
       "selectable": false
      }
     },
     "e45d1da1aeb54bd8b55ec3579dbdef0f": {
      "model_module": "jupyter-cytoscape",
      "model_module_version": "^1.3.3",
      "model_name": "NodeModel",
      "state": {
       "_model_module_version": "^1.3.3",
       "_view_module_version": "^1.3.3",
       "data": {
        "color": "gray",
        "id": "7927772020698749667",
        "label": "mean_combine-partial",
        "shape": "ellipse"
       },
       "grabbable": true,
       "grabbed": false,
       "position": {
        "x": 1096,
        "y": 395
       },
       "selectable": false
      }
     },
     "e88f3bf82c864c929d2c954f17b5b080": {
      "model_module": "jupyter-cytoscape",
      "model_module_version": "^1.3.3",
      "model_name": "EdgeModel",
      "state": {
       "_model_module_version": "^1.3.3",
       "_view_module_version": "^1.3.3",
       "classes": " directed ",
       "data": {
        "id": "3be4a81a-a32f-4063-94f9-836f574fcd0f",
        "source": "-3648763719720139567",
        "target": "-6274431168249504483"
       },
       "selectable": false
      }
     },
     "e90eb2fdf6d141bdb131051c637d0a21": {
      "model_module": "jupyter-cytoscape",
      "model_module_version": "^1.3.3",
      "model_name": "NodeModel",
      "state": {
       "_model_module_version": "^1.3.3",
       "_view_module_version": "^1.3.3",
       "data": {
        "color": "gray",
        "id": "-8911303611153779914",
        "label": "frozen_phonon",
        "shape": "ellipse"
       },
       "grabbable": true,
       "grabbed": false,
       "position": {
        "x": 1279.5,
        "y": 1835
       },
       "selectable": false
      }
     },
     "ea79fcfb3cef49489b231ef060e5325d": {
      "model_module": "jupyter-cytoscape",
      "model_module_version": "^1.3.3",
      "model_name": "NodeModel",
      "state": {
       "_model_module_version": "^1.3.3",
       "_view_module_version": "^1.3.3",
       "data": {
        "color": "gray",
        "id": "7678235076085439578",
        "label": "(1, 0, 0)",
        "shape": "rectangle"
       },
       "grabbable": true,
       "grabbed": false,
       "position": {
        "x": 1279.5,
        "y": 995
       },
       "selectable": false
      }
     },
     "eb5561f8aa214677854f5a36a9ab718f": {
      "model_module": "jupyter-cytoscape",
      "model_module_version": "^1.3.3",
      "model_name": "EdgeModel",
      "state": {
       "_model_module_version": "^1.3.3",
       "_view_module_version": "^1.3.3",
       "classes": " directed ",
       "data": {
        "id": "e9ca4008-3e8e-4eb8-9524-936b36b07fdb",
        "source": "1085411951500026183",
        "target": "-7173382570491175912"
       },
       "selectable": false
      }
     },
     "ec963a1881524e838f5d3a8ce08cdb2a": {
      "model_module": "jupyter-cytoscape",
      "model_module_version": "^1.3.3",
      "model_name": "NodeModel",
      "state": {
       "_model_module_version": "^1.3.3",
       "_view_module_version": "^1.3.3",
       "data": {
        "color": "gray",
        "id": "1085411951500026183",
        "label": "3",
        "shape": "rectangle"
       },
       "grabbable": true,
       "grabbed": false,
       "position": {
        "x": 1279.5,
        "y": 515
       },
       "selectable": false
      }
     },
     "ecf6c5f3cfda49aab4aad0becb10210c": {
      "model_module": "jupyter-cytoscape",
      "model_module_version": "^1.3.3",
      "model_name": "NodeModel",
      "state": {
       "_model_module_version": "^1.3.3",
       "_view_module_version": "^1.3.3",
       "data": {
        "color": "gray",
        "id": "1723271752263943708",
        "label": "extract_measurement",
        "shape": "ellipse"
       },
       "grabbable": true,
       "grabbed": false,
       "position": {
        "x": 545.5,
        "y": 1115
       },
       "selectable": false
      }
     },
     "ee6cd1ed0450410eb703e87e635bf3d9": {
      "model_module": "jupyter-cytoscape",
      "model_module_version": "^1.3.3",
      "model_name": "EdgeModel",
      "state": {
       "_model_module_version": "^1.3.3",
       "_view_module_version": "^1.3.3",
       "classes": " directed ",
       "data": {
        "id": "9be0c39e-cd01-4c0c-a4ff-4900cd64ed1a",
        "source": "1468814177293301289",
        "target": "-81111989138868833"
       },
       "selectable": false
      }
     },
     "eee1dca483c44460942f8fd337da28cf": {
      "model_module": "jupyter-cytoscape",
      "model_module_version": "^1.3.3",
      "model_name": "NodeModel",
      "state": {
       "_model_module_version": "^1.3.3",
       "_view_module_version": "^1.3.3",
       "data": {
        "color": "gray",
        "id": "-3648763719720139567",
        "label": "",
        "shape": "rectangle"
       },
       "grabbable": true,
       "grabbed": false,
       "position": {
        "x": 178.5,
        "y": 755
       },
       "selectable": false
      }
     },
     "efd294cdbdfe4a89a63a0bc0e5b3f5c0": {
      "model_module": "jupyter-cytoscape",
      "model_module_version": "^1.3.3",
      "model_name": "EdgeModel",
      "state": {
       "_model_module_version": "^1.3.3",
       "_view_module_version": "^1.3.3",
       "classes": " directed ",
       "data": {
        "id": "b314adbe-8d2c-4865-97b9-79687169a2f4",
        "source": "8554607745120336249",
        "target": "-975648152280315770"
       },
       "selectable": false
      }
     },
     "f08783e19eae480990e121261841d87b": {
      "model_module": "jupyter-cytoscape",
      "model_module_version": "^1.3.3",
      "model_name": "EdgeModel",
      "state": {
       "_model_module_version": "^1.3.3",
       "_view_module_version": "^1.3.3",
       "classes": " directed ",
       "data": {
        "id": "2eee0041-7b5d-4eee-ba82-646dda2acf82",
        "source": "525425437570452154",
        "target": "641647815826442644"
       },
       "selectable": false
      }
     },
     "f3ba2600d45042a480fa365a9e2455e7": {
      "model_module": "jupyter-cytoscape",
      "model_module_version": "^1.3.3",
      "model_name": "GraphModel",
      "state": {
       "_adj": {
        "-1112242655355811420": {},
        "-147531381724615491": {},
        "-2096639438270986525": {},
        "-209718090337684999": {},
        "-2638438148746906173": {},
        "-2794818360831510968": {},
        "-2843519414721284291": {},
        "-3606315626874523598": {},
        "-3648763719720139567": {},
        "-3896033311210877489": {},
        "-4455112467544290847": {},
        "-4888149582364544781": {},
        "-529154775629275876": {},
        "-5454616645910432204": {},
        "-5781255077600032181": {},
        "-6274431168249504483": {},
        "-7173382570491175912": {},
        "-8212648725776401941": {},
        "-8911303611153779914": {},
        "-975648152280315770": {},
        "1085411951500026183": {},
        "1468814177293301289": {},
        "1723271752263943708": {},
        "2369830892600547874": {},
        "2611607444891120936": {},
        "5190833689647490477": {},
        "5337896784629353535": {},
        "5899377041639488664": {},
        "5978485980472722549": {},
        "6029605610067576814": {},
        "6958159432146507029": {},
        "7678235076085439578": {},
        "8109201440656814751": {},
        "8554607745120336249": {},
        "8688960620195388608": {},
        "997040717761818877": {}
       },
       "_model_module_version": "^1.3.3",
       "_view_module": "jupyter-cytoscape",
       "_view_module_version": "^1.3.3",
       "edges": [
        "IPY_MODEL_ddeae7c255724ea79c792967dd6d39d8",
        "IPY_MODEL_6a1950e714de4449b6a9f65127b3ec98",
        "IPY_MODEL_4e79c9e352514f5aaad55acdc3df5ac9",
        "IPY_MODEL_1d09727420f045b19d67817f2bf5c692",
        "IPY_MODEL_664246c9d73847a490d464cea2f4ae6e",
        "IPY_MODEL_6b8068806e234eeeba5fb84ae3ee9be6",
        "IPY_MODEL_94eaaf78b5b044ff8aa1b4ef0a8b2f7a",
        "IPY_MODEL_872eec512f8b414d95a3fdc8ced511d7",
        "IPY_MODEL_91a14e5adb8a4e19a9c50e88773c02d8",
        "IPY_MODEL_c206392c29b34d45838e404d5ab23398",
        "IPY_MODEL_d486e3c3fd254fdc89b405a77a0f6817",
        "IPY_MODEL_87f7bf6e28d04032b943a1ac5c8ace85",
        "IPY_MODEL_c730c9c5cb8f44709114b6a96c2685f0",
        "IPY_MODEL_275e05d841fc4bf9b049bb55617e9fdd",
        "IPY_MODEL_882098914ae44dab9b512063bf504e66",
        "IPY_MODEL_c17201f7a2ba485e8510bf40c496fc9f",
        "IPY_MODEL_7a505b33b8134eaba14ffb60811c9e3c",
        "IPY_MODEL_576831b338924bef909a28d6044fc0a8",
        "IPY_MODEL_737057adddaa493e9c1fdefa8869a09b",
        "IPY_MODEL_43120d64ca8e4ec8a48a0b815d55dffd",
        "IPY_MODEL_d0309436547b4dfaa87123f84de54037",
        "IPY_MODEL_3d0da29177074298861540c9ccc500e7",
        "IPY_MODEL_3489ce478753400c8210ab55d564a20f",
        "IPY_MODEL_eb5561f8aa214677854f5a36a9ab718f",
        "IPY_MODEL_c722b6051768479c86367a1f15ad5fe1",
        "IPY_MODEL_58ba5763c01f4a0ebcdb13bfe88e688f",
        "IPY_MODEL_466f2c0dae7040ff8bc8320b2ca39ee1",
        "IPY_MODEL_3a02398cb0564ff98ab5ecf599476fb1",
        "IPY_MODEL_98c7d924a4cd4700a5623b264c3b2891",
        "IPY_MODEL_a8e2de1cd69b4583bcfdd13bfa311a48",
        "IPY_MODEL_7a811a266afe4dff87294e20f20a6176",
        "IPY_MODEL_8d2e38392f074f18ae976d5ff7b96361"
       ],
       "nodes": [
        "IPY_MODEL_2f0b5f32f1e94e36a7a40b69c6a7bf13",
        "IPY_MODEL_6a72e1780ba84a46951e42e908d1eca4",
        "IPY_MODEL_98be9e5f63cc49119ffb27fa72261103",
        "IPY_MODEL_ec963a1881524e838f5d3a8ce08cdb2a",
        "IPY_MODEL_a6173d5d59dc42bf95866bc06f62bb20",
        "IPY_MODEL_d1b33d4d5ff140868a4b63d9cc798ec6",
        "IPY_MODEL_eee1dca483c44460942f8fd337da28cf",
        "IPY_MODEL_5dea6cb4e3aa4078a8bede9792bb7114",
        "IPY_MODEL_447eb1ad0cc0497785f330350fb8f34b",
        "IPY_MODEL_f49329871dff4b1a815a664651a65a1d",
        "IPY_MODEL_cc671573256d446cbb0bf44fcefe93b9",
        "IPY_MODEL_2572c409c41e4c6bbb3152f021dc9eb9",
        "IPY_MODEL_1094bdcc9e4d46f5b1e4a183667d1835",
        "IPY_MODEL_a8bb8b8ca4fc486ebc0e9ee7c8ed20f3",
        "IPY_MODEL_83a564ea742d4eb9b4c296d70a00b9ea",
        "IPY_MODEL_0715f0dacd4d4b5a8abf6587bf77654f",
        "IPY_MODEL_f4504975a0b245aa9746e4cd96f60aa0",
        "IPY_MODEL_3af9c9aa62be4301a74f53ede550deb1",
        "IPY_MODEL_ccec27ec00fa46ec8de7551e4ca76613",
        "IPY_MODEL_270bb470ecf749bc8eb4cd92a31f6d59",
        "IPY_MODEL_b4372ec4abbb4603bccd8fd9d95e4704",
        "IPY_MODEL_ae4b5b6de49b4ea4a5821c86f0e65a0e",
        "IPY_MODEL_dc25ec87600f4fe1b6efb2f3a8cbca80",
        "IPY_MODEL_b569087921334e96aa7356641d940921",
        "IPY_MODEL_534e291c18c140ad8573f05485a649e3",
        "IPY_MODEL_2b2b8e579f1d4c4b88d1e41562b1d76e",
        "IPY_MODEL_8e2e3bd68b264237844d1707179a1d9b",
        "IPY_MODEL_779d15a2c4b14cbf99cbab2c124d53d2",
        "IPY_MODEL_75324db5b19348b2aef04ca08aaf7f33",
        "IPY_MODEL_6746c62593a4457292a390a5a960949e",
        "IPY_MODEL_0d60301aa43a4b17a80b81978c59be49",
        "IPY_MODEL_0438c39260754275b41a5da345d9b3d5",
        "IPY_MODEL_4a8a887344d54d938a36a53c4bf86df5",
        "IPY_MODEL_5f225efbbc6b4dd0bb5e527204c65ac7",
        "IPY_MODEL_4225962632c7486f84b3e70c7c30a54e",
        "IPY_MODEL_ca364adf6d5844a8b0eb2aa048ed4f02"
       ]
      }
     },
     "f4504975a0b245aa9746e4cd96f60aa0": {
      "model_module": "jupyter-cytoscape",
      "model_module_version": "^1.3.3",
      "model_name": "NodeModel",
      "state": {
       "_model_module_version": "^1.3.3",
       "_view_module_version": "^1.3.3",
       "data": {
        "color": "gray",
        "id": "-2794818360831510968",
        "label": "",
        "shape": "rectangle"
       },
       "grabbable": true,
       "grabbed": false,
       "position": {
        "x": 1279.5,
        "y": 995
       },
       "selectable": false
      }
     },
     "f49329871dff4b1a815a664651a65a1d": {
      "model_module": "jupyter-cytoscape",
      "model_module_version": "^1.3.3",
      "model_name": "NodeModel",
      "state": {
       "_model_module_version": "^1.3.3",
       "_view_module_version": "^1.3.3",
       "data": {
        "color": "gray",
        "id": "-8911303611153779914",
        "label": "frozen_phonon",
        "shape": "ellipse"
       },
       "grabbable": true,
       "grabbed": false,
       "position": {
        "x": 545.5,
        "y": 875
       },
       "selectable": false
      }
     },
     "fad86f9bec6f4dd4998cd5cc23ec2178": {
      "model_module": "jupyter-cytoscape",
      "model_module_version": "^1.3.3",
      "model_name": "NodeModel",
      "state": {
       "_model_module_version": "^1.3.3",
       "_view_module_version": "^1.3.3",
       "data": {
        "color": "gray",
        "id": "-5781255077600032181",
        "label": "build_waves_multislice_detect",
        "shape": "ellipse"
       },
       "grabbable": true,
       "grabbed": false,
       "position": {
        "x": 1279.5,
        "y": 1355
       },
       "selectable": false
      }
     },
     "fbad697efc4a4d8fb2b5d02f5c391cde": {
      "model_module": "jupyter-cytoscape",
      "model_module_version": "^1.3.3",
      "model_name": "NodeModel",
      "state": {
       "_model_module_version": "^1.3.3",
       "_view_module_version": "^1.3.3",
       "data": {
        "color": "gray",
        "id": "-1112242655355811420",
        "label": "0",
        "shape": "rectangle"
       },
       "grabbable": true,
       "grabbed": false,
       "position": {
        "x": 912.5,
        "y": 1235
       },
       "selectable": false
      }
     },
     "fd1ce3869a0a4a5eb1bc98a2757ce8da": {
      "model_module": "jupyter-cytoscape",
      "model_module_version": "^1.3.3",
      "model_name": "EdgeModel",
      "state": {
       "_model_module_version": "^1.3.3",
       "_view_module_version": "^1.3.3",
       "classes": " directed ",
       "data": {
        "id": "4d1e92d1-d27c-4a80-ac2c-2ee5e67eacb3",
        "source": "6411248443375819870",
        "target": "8543881921210405712"
       },
       "selectable": false
      }
     },
     "fe16a3914d3b442e8109e3accef076b9": {
      "model_module": "@jupyter-widgets/base",
      "model_module_version": "2.0.0",
      "model_name": "LayoutModel",
      "state": {
       "height": "400px"
      }
     },
     "fec60ec6c42b491da85e71adef7ce87d": {
      "model_module": "jupyter-cytoscape",
      "model_module_version": "^1.3.3",
      "model_name": "NodeModel",
      "state": {
       "_model_module_version": "^1.3.3",
       "_view_module_version": "^1.3.3",
       "data": {
        "color": "gray",
        "id": "6029605610067576814",
        "label": "build_waves_multislice_detect",
        "shape": "ellipse"
       },
       "grabbable": true,
       "grabbed": false,
       "position": {
        "x": 912.5,
        "y": 1355
       },
       "selectable": false
      }
     }
    },
    "version_major": 2,
    "version_minor": 0
   }
  }
 },
 "nbformat": 4,
 "nbformat_minor": 5
}
