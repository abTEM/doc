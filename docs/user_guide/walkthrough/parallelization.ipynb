{
 "cells": [
  {
   "cell_type": "markdown",
   "id": "63acbfd0-4bb2-4873-a1b4-4db6ba9f57dd",
   "metadata": {
    "editable": true,
    "slideshow": {
     "slide_type": ""
    },
    "tags": []
   },
   "source": [
    "````{warning} Requires optional libraries\n",
    ":class: dropdown\n",
    "\n",
    "Running this notebook requires the optional packages [bokeh](http://bokeh.org/) and [ipycytoscape](https://ipycytoscape.readthedocs.io/en/latest/).\n",
    "\n",
    "Install using conda: \n",
    "\n",
    "```{code}\n",
    "conda install -c conda-forge bokeh ipycytoscape\n",
    "```\n",
    "\n",
    "Install using pip:\n",
    "```{code}\n",
    "pip install bokeh ipycytoscape\n",
    "```\n",
    "\n",
    "These libraries includes a server Jupyter server plugin, a restart of Jupyter is necessary if you have installed the libraries while it is running.\n",
    "````"
   ]
  },
  {
   "cell_type": "code",
   "execution_count": 1,
   "id": "c8a68d55-5e9b-4bab-b324-05b89a56cecd",
   "metadata": {
    "editable": true,
    "pycharm": {
     "name": "#%%\n"
    },
    "slideshow": {
     "slide_type": ""
    },
    "tags": [
     "hide-input"
    ]
   },
   "outputs": [
    {
     "data": {
      "text/html": [
       "<style>\n",
       "        .bk-notebook-logo {\n",
       "            display: block;\n",
       "            width: 20px;\n",
       "            height: 20px;\n",
       "            background-image: url(data:image/png;base64,iVBORw0KGgoAAAANSUhEUgAAABQAAAAUCAYAAACNiR0NAAAABHNCSVQICAgIfAhkiAAAAAlwSFlzAAALEgAACxIB0t1+/AAAABx0RVh0U29mdHdhcmUAQWRvYmUgRmlyZXdvcmtzIENTNui8sowAAAOkSURBVDiNjZRtaJVlGMd/1/08zzln5zjP1LWcU9N0NkN8m2CYjpgQYQXqSs0I84OLIC0hkEKoPtiH3gmKoiJDU7QpLgoLjLIQCpEsNJ1vqUOdO7ppbuec5+V+rj4ctwzd8IIbbi6u+8f1539dt3A78eXC7QizUF7gyV1fD1Yqg4JWz84yffhm0qkFqBogB9rM8tZdtwVsPUhWhGcFJngGeWrPzHm5oaMmkfEg1usvLFyc8jLRqDOMru7AyC8saQr7GG7f5fvDeH7Ej8CM66nIF+8yngt6HWaKh7k49Soy9nXurCi1o3qUbS3zWfrYeQDTB/Qj6kX6Ybhw4B+bOYoLKCC9H3Nu/leUTZ1JdRWkkn2ldcCamzrcf47KKXdAJllSlxAOkRgyHsGC/zRday5Qld9DyoM4/q/rUoy/CXh3jzOu3bHUVZeU+DEn8FInkPBFlu3+nW3Nw0mk6vCDiWg8CeJaxEwuHS3+z5RgY+YBR6V1Z1nxSOfoaPa4LASWxxdNp+VWTk7+4vzaou8v8PN+xo+KY2xsw6une2frhw05CTYOmQvsEhjhWjn0bmXPjpE1+kplmmkP3suftwTubK9Vq22qKmrBhpY4jvd5afdRA3wGjFAgcnTK2s4hY0/GPNIb0nErGMCRxWOOX64Z8RAC4oCXdklmEvcL8o0BfkNK4lUg9HTl+oPlQxdNo3Mg4Nv175e/1LDGzZen30MEjRUtmXSfiTVu1kK8W4txyV6BMKlbgk3lMwYCiusNy9fVfvvwMxv8Ynl6vxoByANLTWplvuj/nF9m2+PDtt1eiHPBr1oIfhCChQMBw6Aw0UulqTKZdfVvfG7VcfIqLG9bcldL/+pdWTLxLUy8Qq38heUIjh4XlzZxzQm19lLFlr8vdQ97rjZVOLf8nclzckbcD4wxXMidpX30sFd37Fv/GtwwhzhxGVAprjbg0gCAEeIgwCZyTV2Z1REEW8O4py0wsjeloKoMr6iCY6dP92H6Vw/oTyICIthibxjm/DfN9lVz8IqtqKYLUXfoKVMVQVVJOElGjrnnUt9T9wbgp8AyYKaGlqingHZU/uG2NTZSVqwHQTWkx9hxjkpWDaCg6Ckj5qebgBVbT3V3NNXMSiWSDdGV3hrtzla7J+duwPOToIg42ChPQOQjspnSlp1V+Gjdged7+8UN5CRAV7a5EdFNwCjEaBR27b3W890TE7g24NAP/mMDXRWrGoFPQI9ls/MWO2dWFAar/xcOIImbbpA3zgAAAABJRU5ErkJggg==);\n",
       "        }\n",
       "    </style>\n",
       "    <div>\n",
       "        <a href=\"https://bokeh.org\" target=\"_blank\" class=\"bk-notebook-logo\"></a>\n",
       "        <span id=\"c4c73712-3bac-44ee-a3e9-0d08181a8b2a\">Loading BokehJS ...</span>\n",
       "    </div>\n"
      ]
     },
     "metadata": {},
     "output_type": "display_data"
    },
    {
     "data": {
      "application/javascript": [
       "(function(root) {\n",
       "  function now() {\n",
       "    return new Date();\n",
       "  }\n",
       "\n",
       "  const force = true;\n",
       "\n",
       "  if (typeof root._bokeh_onload_callbacks === \"undefined\" || force === true) {\n",
       "    root._bokeh_onload_callbacks = [];\n",
       "    root._bokeh_is_loading = undefined;\n",
       "  }\n",
       "\n",
       "const JS_MIME_TYPE = 'application/javascript';\n",
       "  const HTML_MIME_TYPE = 'text/html';\n",
       "  const EXEC_MIME_TYPE = 'application/vnd.bokehjs_exec.v0+json';\n",
       "  const CLASS_NAME = 'output_bokeh rendered_html';\n",
       "\n",
       "  /**\n",
       "   * Render data to the DOM node\n",
       "   */\n",
       "  function render(props, node) {\n",
       "    const script = document.createElement(\"script\");\n",
       "    node.appendChild(script);\n",
       "  }\n",
       "\n",
       "  /**\n",
       "   * Handle when an output is cleared or removed\n",
       "   */\n",
       "  function handleClearOutput(event, handle) {\n",
       "    const cell = handle.cell;\n",
       "\n",
       "    const id = cell.output_area._bokeh_element_id;\n",
       "    const server_id = cell.output_area._bokeh_server_id;\n",
       "    // Clean up Bokeh references\n",
       "    if (id != null && id in Bokeh.index) {\n",
       "      Bokeh.index[id].model.document.clear();\n",
       "      delete Bokeh.index[id];\n",
       "    }\n",
       "\n",
       "    if (server_id !== undefined) {\n",
       "      // Clean up Bokeh references\n",
       "      const cmd_clean = \"from bokeh.io.state import curstate; print(curstate().uuid_to_server['\" + server_id + \"'].get_sessions()[0].document.roots[0]._id)\";\n",
       "      cell.notebook.kernel.execute(cmd_clean, {\n",
       "        iopub: {\n",
       "          output: function(msg) {\n",
       "            const id = msg.content.text.trim();\n",
       "            if (id in Bokeh.index) {\n",
       "              Bokeh.index[id].model.document.clear();\n",
       "              delete Bokeh.index[id];\n",
       "            }\n",
       "          }\n",
       "        }\n",
       "      });\n",
       "      // Destroy server and session\n",
       "      const cmd_destroy = \"import bokeh.io.notebook as ion; ion.destroy_server('\" + server_id + \"')\";\n",
       "      cell.notebook.kernel.execute(cmd_destroy);\n",
       "    }\n",
       "  }\n",
       "\n",
       "  /**\n",
       "   * Handle when a new output is added\n",
       "   */\n",
       "  function handleAddOutput(event, handle) {\n",
       "    const output_area = handle.output_area;\n",
       "    const output = handle.output;\n",
       "\n",
       "    // limit handleAddOutput to display_data with EXEC_MIME_TYPE content only\n",
       "    if ((output.output_type != \"display_data\") || (!Object.prototype.hasOwnProperty.call(output.data, EXEC_MIME_TYPE))) {\n",
       "      return\n",
       "    }\n",
       "\n",
       "    const toinsert = output_area.element.find(\".\" + CLASS_NAME.split(' ')[0]);\n",
       "\n",
       "    if (output.metadata[EXEC_MIME_TYPE][\"id\"] !== undefined) {\n",
       "      toinsert[toinsert.length - 1].firstChild.textContent = output.data[JS_MIME_TYPE];\n",
       "      // store reference to embed id on output_area\n",
       "      output_area._bokeh_element_id = output.metadata[EXEC_MIME_TYPE][\"id\"];\n",
       "    }\n",
       "    if (output.metadata[EXEC_MIME_TYPE][\"server_id\"] !== undefined) {\n",
       "      const bk_div = document.createElement(\"div\");\n",
       "      bk_div.innerHTML = output.data[HTML_MIME_TYPE];\n",
       "      const script_attrs = bk_div.children[0].attributes;\n",
       "      for (let i = 0; i < script_attrs.length; i++) {\n",
       "        toinsert[toinsert.length - 1].firstChild.setAttribute(script_attrs[i].name, script_attrs[i].value);\n",
       "        toinsert[toinsert.length - 1].firstChild.textContent = bk_div.children[0].textContent\n",
       "      }\n",
       "      // store reference to server id on output_area\n",
       "      output_area._bokeh_server_id = output.metadata[EXEC_MIME_TYPE][\"server_id\"];\n",
       "    }\n",
       "  }\n",
       "\n",
       "  function register_renderer(events, OutputArea) {\n",
       "\n",
       "    function append_mime(data, metadata, element) {\n",
       "      // create a DOM node to render to\n",
       "      const toinsert = this.create_output_subarea(\n",
       "        metadata,\n",
       "        CLASS_NAME,\n",
       "        EXEC_MIME_TYPE\n",
       "      );\n",
       "      this.keyboard_manager.register_events(toinsert);\n",
       "      // Render to node\n",
       "      const props = {data: data, metadata: metadata[EXEC_MIME_TYPE]};\n",
       "      render(props, toinsert[toinsert.length - 1]);\n",
       "      element.append(toinsert);\n",
       "      return toinsert\n",
       "    }\n",
       "\n",
       "    /* Handle when an output is cleared or removed */\n",
       "    events.on('clear_output.CodeCell', handleClearOutput);\n",
       "    events.on('delete.Cell', handleClearOutput);\n",
       "\n",
       "    /* Handle when a new output is added */\n",
       "    events.on('output_added.OutputArea', handleAddOutput);\n",
       "\n",
       "    /**\n",
       "     * Register the mime type and append_mime function with output_area\n",
       "     */\n",
       "    OutputArea.prototype.register_mime_type(EXEC_MIME_TYPE, append_mime, {\n",
       "      /* Is output safe? */\n",
       "      safe: true,\n",
       "      /* Index of renderer in `output_area.display_order` */\n",
       "      index: 0\n",
       "    });\n",
       "  }\n",
       "\n",
       "  // register the mime type if in Jupyter Notebook environment and previously unregistered\n",
       "  if (root.Jupyter !== undefined) {\n",
       "    const events = require('base/js/events');\n",
       "    const OutputArea = require('notebook/js/outputarea').OutputArea;\n",
       "\n",
       "    if (OutputArea.prototype.mime_types().indexOf(EXEC_MIME_TYPE) == -1) {\n",
       "      register_renderer(events, OutputArea);\n",
       "    }\n",
       "  }\n",
       "  if (typeof (root._bokeh_timeout) === \"undefined\" || force === true) {\n",
       "    root._bokeh_timeout = Date.now() + 5000;\n",
       "    root._bokeh_failed_load = false;\n",
       "  }\n",
       "\n",
       "  const NB_LOAD_WARNING = {'data': {'text/html':\n",
       "     \"<div style='background-color: #fdd'>\\n\"+\n",
       "     \"<p>\\n\"+\n",
       "     \"BokehJS does not appear to have successfully loaded. If loading BokehJS from CDN, this \\n\"+\n",
       "     \"may be due to a slow or bad network connection. Possible fixes:\\n\"+\n",
       "     \"</p>\\n\"+\n",
       "     \"<ul>\\n\"+\n",
       "     \"<li>re-rerun `output_notebook()` to attempt to load from CDN again, or</li>\\n\"+\n",
       "     \"<li>use INLINE resources instead, as so:</li>\\n\"+\n",
       "     \"</ul>\\n\"+\n",
       "     \"<code>\\n\"+\n",
       "     \"from bokeh.resources import INLINE\\n\"+\n",
       "     \"output_notebook(resources=INLINE)\\n\"+\n",
       "     \"</code>\\n\"+\n",
       "     \"</div>\"}};\n",
       "\n",
       "  function display_loaded() {\n",
       "    const el = document.getElementById(\"c4c73712-3bac-44ee-a3e9-0d08181a8b2a\");\n",
       "    if (el != null) {\n",
       "      el.textContent = \"BokehJS is loading...\";\n",
       "    }\n",
       "    if (root.Bokeh !== undefined) {\n",
       "      if (el != null) {\n",
       "        el.textContent = \"BokehJS \" + root.Bokeh.version + \" successfully loaded.\";\n",
       "      }\n",
       "    } else if (Date.now() < root._bokeh_timeout) {\n",
       "      setTimeout(display_loaded, 100)\n",
       "    }\n",
       "  }\n",
       "\n",
       "  function run_callbacks() {\n",
       "    try {\n",
       "      root._bokeh_onload_callbacks.forEach(function(callback) {\n",
       "        if (callback != null)\n",
       "          callback();\n",
       "      });\n",
       "    } finally {\n",
       "      delete root._bokeh_onload_callbacks\n",
       "    }\n",
       "    console.debug(\"Bokeh: all callbacks have finished\");\n",
       "  }\n",
       "\n",
       "  function load_libs(css_urls, js_urls, callback) {\n",
       "    if (css_urls == null) css_urls = [];\n",
       "    if (js_urls == null) js_urls = [];\n",
       "\n",
       "    root._bokeh_onload_callbacks.push(callback);\n",
       "    if (root._bokeh_is_loading > 0) {\n",
       "      console.debug(\"Bokeh: BokehJS is being loaded, scheduling callback at\", now());\n",
       "      return null;\n",
       "    }\n",
       "    if (js_urls == null || js_urls.length === 0) {\n",
       "      run_callbacks();\n",
       "      return null;\n",
       "    }\n",
       "    console.debug(\"Bokeh: BokehJS not loaded, scheduling load and callback at\", now());\n",
       "    root._bokeh_is_loading = css_urls.length + js_urls.length;\n",
       "\n",
       "    function on_load() {\n",
       "      root._bokeh_is_loading--;\n",
       "      if (root._bokeh_is_loading === 0) {\n",
       "        console.debug(\"Bokeh: all BokehJS libraries/stylesheets loaded\");\n",
       "        run_callbacks()\n",
       "      }\n",
       "    }\n",
       "\n",
       "    function on_error(url) {\n",
       "      console.error(\"failed to load \" + url);\n",
       "    }\n",
       "\n",
       "    for (let i = 0; i < css_urls.length; i++) {\n",
       "      const url = css_urls[i];\n",
       "      const element = document.createElement(\"link\");\n",
       "      element.onload = on_load;\n",
       "      element.onerror = on_error.bind(null, url);\n",
       "      element.rel = \"stylesheet\";\n",
       "      element.type = \"text/css\";\n",
       "      element.href = url;\n",
       "      console.debug(\"Bokeh: injecting link tag for BokehJS stylesheet: \", url);\n",
       "      document.body.appendChild(element);\n",
       "    }\n",
       "\n",
       "    for (let i = 0; i < js_urls.length; i++) {\n",
       "      const url = js_urls[i];\n",
       "      const element = document.createElement('script');\n",
       "      element.onload = on_load;\n",
       "      element.onerror = on_error.bind(null, url);\n",
       "      element.async = false;\n",
       "      element.src = url;\n",
       "      console.debug(\"Bokeh: injecting script tag for BokehJS library: \", url);\n",
       "      document.head.appendChild(element);\n",
       "    }\n",
       "  };\n",
       "\n",
       "  function inject_raw_css(css) {\n",
       "    const element = document.createElement(\"style\");\n",
       "    element.appendChild(document.createTextNode(css));\n",
       "    document.body.appendChild(element);\n",
       "  }\n",
       "\n",
       "  const js_urls = [\"https://cdn.bokeh.org/bokeh/release/bokeh-3.2.2.min.js\", \"https://cdn.bokeh.org/bokeh/release/bokeh-gl-3.2.2.min.js\", \"https://cdn.bokeh.org/bokeh/release/bokeh-widgets-3.2.2.min.js\", \"https://cdn.bokeh.org/bokeh/release/bokeh-tables-3.2.2.min.js\", \"https://cdn.bokeh.org/bokeh/release/bokeh-mathjax-3.2.2.min.js\"];\n",
       "  const css_urls = [];\n",
       "\n",
       "  const inline_js = [    function(Bokeh) {\n",
       "      Bokeh.set_log_level(\"info\");\n",
       "    },\n",
       "function(Bokeh) {\n",
       "    }\n",
       "  ];\n",
       "\n",
       "  function run_inline_js() {\n",
       "    if (root.Bokeh !== undefined || force === true) {\n",
       "          for (let i = 0; i < inline_js.length; i++) {\n",
       "      inline_js[i].call(root, root.Bokeh);\n",
       "    }\n",
       "if (force === true) {\n",
       "        display_loaded();\n",
       "      }} else if (Date.now() < root._bokeh_timeout) {\n",
       "      setTimeout(run_inline_js, 100);\n",
       "    } else if (!root._bokeh_failed_load) {\n",
       "      console.log(\"Bokeh: BokehJS failed to load within specified timeout.\");\n",
       "      root._bokeh_failed_load = true;\n",
       "    } else if (force !== true) {\n",
       "      const cell = $(document.getElementById(\"c4c73712-3bac-44ee-a3e9-0d08181a8b2a\")).parents('.cell').data().cell;\n",
       "      cell.output_area.append_execute_result(NB_LOAD_WARNING)\n",
       "    }\n",
       "  }\n",
       "\n",
       "  if (root._bokeh_is_loading === 0) {\n",
       "    console.debug(\"Bokeh: BokehJS loaded, going straight to plotting\");\n",
       "    run_inline_js();\n",
       "  } else {\n",
       "    load_libs(css_urls, js_urls, function() {\n",
       "      console.debug(\"Bokeh: BokehJS plotting callback run at\", now());\n",
       "      run_inline_js();\n",
       "    });\n",
       "  }\n",
       "}(window));"
      ],
      "application/vnd.bokehjs_load.v0+json": "(function(root) {\n  function now() {\n    return new Date();\n  }\n\n  const force = true;\n\n  if (typeof root._bokeh_onload_callbacks === \"undefined\" || force === true) {\n    root._bokeh_onload_callbacks = [];\n    root._bokeh_is_loading = undefined;\n  }\n\n\n  if (typeof (root._bokeh_timeout) === \"undefined\" || force === true) {\n    root._bokeh_timeout = Date.now() + 5000;\n    root._bokeh_failed_load = false;\n  }\n\n  const NB_LOAD_WARNING = {'data': {'text/html':\n     \"<div style='background-color: #fdd'>\\n\"+\n     \"<p>\\n\"+\n     \"BokehJS does not appear to have successfully loaded. If loading BokehJS from CDN, this \\n\"+\n     \"may be due to a slow or bad network connection. Possible fixes:\\n\"+\n     \"</p>\\n\"+\n     \"<ul>\\n\"+\n     \"<li>re-rerun `output_notebook()` to attempt to load from CDN again, or</li>\\n\"+\n     \"<li>use INLINE resources instead, as so:</li>\\n\"+\n     \"</ul>\\n\"+\n     \"<code>\\n\"+\n     \"from bokeh.resources import INLINE\\n\"+\n     \"output_notebook(resources=INLINE)\\n\"+\n     \"</code>\\n\"+\n     \"</div>\"}};\n\n  function display_loaded() {\n    const el = document.getElementById(\"c4c73712-3bac-44ee-a3e9-0d08181a8b2a\");\n    if (el != null) {\n      el.textContent = \"BokehJS is loading...\";\n    }\n    if (root.Bokeh !== undefined) {\n      if (el != null) {\n        el.textContent = \"BokehJS \" + root.Bokeh.version + \" successfully loaded.\";\n      }\n    } else if (Date.now() < root._bokeh_timeout) {\n      setTimeout(display_loaded, 100)\n    }\n  }\n\n  function run_callbacks() {\n    try {\n      root._bokeh_onload_callbacks.forEach(function(callback) {\n        if (callback != null)\n          callback();\n      });\n    } finally {\n      delete root._bokeh_onload_callbacks\n    }\n    console.debug(\"Bokeh: all callbacks have finished\");\n  }\n\n  function load_libs(css_urls, js_urls, callback) {\n    if (css_urls == null) css_urls = [];\n    if (js_urls == null) js_urls = [];\n\n    root._bokeh_onload_callbacks.push(callback);\n    if (root._bokeh_is_loading > 0) {\n      console.debug(\"Bokeh: BokehJS is being loaded, scheduling callback at\", now());\n      return null;\n    }\n    if (js_urls == null || js_urls.length === 0) {\n      run_callbacks();\n      return null;\n    }\n    console.debug(\"Bokeh: BokehJS not loaded, scheduling load and callback at\", now());\n    root._bokeh_is_loading = css_urls.length + js_urls.length;\n\n    function on_load() {\n      root._bokeh_is_loading--;\n      if (root._bokeh_is_loading === 0) {\n        console.debug(\"Bokeh: all BokehJS libraries/stylesheets loaded\");\n        run_callbacks()\n      }\n    }\n\n    function on_error(url) {\n      console.error(\"failed to load \" + url);\n    }\n\n    for (let i = 0; i < css_urls.length; i++) {\n      const url = css_urls[i];\n      const element = document.createElement(\"link\");\n      element.onload = on_load;\n      element.onerror = on_error.bind(null, url);\n      element.rel = \"stylesheet\";\n      element.type = \"text/css\";\n      element.href = url;\n      console.debug(\"Bokeh: injecting link tag for BokehJS stylesheet: \", url);\n      document.body.appendChild(element);\n    }\n\n    for (let i = 0; i < js_urls.length; i++) {\n      const url = js_urls[i];\n      const element = document.createElement('script');\n      element.onload = on_load;\n      element.onerror = on_error.bind(null, url);\n      element.async = false;\n      element.src = url;\n      console.debug(\"Bokeh: injecting script tag for BokehJS library: \", url);\n      document.head.appendChild(element);\n    }\n  };\n\n  function inject_raw_css(css) {\n    const element = document.createElement(\"style\");\n    element.appendChild(document.createTextNode(css));\n    document.body.appendChild(element);\n  }\n\n  const js_urls = [\"https://cdn.bokeh.org/bokeh/release/bokeh-3.2.2.min.js\", \"https://cdn.bokeh.org/bokeh/release/bokeh-gl-3.2.2.min.js\", \"https://cdn.bokeh.org/bokeh/release/bokeh-widgets-3.2.2.min.js\", \"https://cdn.bokeh.org/bokeh/release/bokeh-tables-3.2.2.min.js\", \"https://cdn.bokeh.org/bokeh/release/bokeh-mathjax-3.2.2.min.js\"];\n  const css_urls = [];\n\n  const inline_js = [    function(Bokeh) {\n      Bokeh.set_log_level(\"info\");\n    },\nfunction(Bokeh) {\n    }\n  ];\n\n  function run_inline_js() {\n    if (root.Bokeh !== undefined || force === true) {\n          for (let i = 0; i < inline_js.length; i++) {\n      inline_js[i].call(root, root.Bokeh);\n    }\nif (force === true) {\n        display_loaded();\n      }} else if (Date.now() < root._bokeh_timeout) {\n      setTimeout(run_inline_js, 100);\n    } else if (!root._bokeh_failed_load) {\n      console.log(\"Bokeh: BokehJS failed to load within specified timeout.\");\n      root._bokeh_failed_load = true;\n    } else if (force !== true) {\n      const cell = $(document.getElementById(\"c4c73712-3bac-44ee-a3e9-0d08181a8b2a\")).parents('.cell').data().cell;\n      cell.output_area.append_execute_result(NB_LOAD_WARNING)\n    }\n  }\n\n  if (root._bokeh_is_loading === 0) {\n    console.debug(\"Bokeh: BokehJS loaded, going straight to plotting\");\n    run_inline_js();\n  } else {\n    load_libs(css_urls, js_urls, function() {\n      console.debug(\"Bokeh: BokehJS plotting callback run at\", now());\n      run_inline_js();\n    });\n  }\n}(window));"
     },
     "metadata": {},
     "output_type": "display_data"
    }
   ],
   "source": [
    "import abtem\n",
    "import ase\n",
    "import dask\n",
    "from IPython.display import Image, display\n",
    "\n",
    "from bokeh.io import output_notebook\n",
    "output_notebook()"
   ]
  },
  {
   "cell_type": "markdown",
   "id": "2b2c74ed-dfb6-4426-898a-63110b6fb253",
   "metadata": {
    "pycharm": {
     "name": "#%% md\n"
    },
    "tags": []
   },
   "source": [
    "(walkthrough:parallelization)=\n",
    "# Parallelization\n",
    "\n",
    "The computational cost of running multislice simulations can become high depending on the size of the specimen, the number of probe positions, phonon images, and many other factors. This cost can be mitigated using parallelism. Many of the computations in *ab*TEM are [embarrasingly parallel](https://en.wikipedia.org/wiki/Embarrassingly_parallel): for example, every probe position is independent, thus each CPU core may calculate a batch of positions independently, only requiring communication after finishing a run of the multislice algorithm. \n",
    "\n",
    "*ab*TEM is parallelized using [Dask](https://www.dask.org/){cite}`dask`, which is a flexible library for parallel computing in Python. Dask allows scaling from a single laptop to hundreds of nodes at high-performance computing (HPC) facilities with minimal changes to the code. \n",
    "\n",
    "In this walkthrough, we introduce how *ab*TEM uses Dask. Althouhg this is not required knowledge for running simulations on a single machine, it may still help you optimize your simulations. If you are already an experienced Dask user, most of what you already know can be applied to using *ab*TEM. If you are new to Dask you may benefit from watching [this introduction](https://www.youtube.com/watch?v=nnndxbr_Xq4) before continuing.\n",
    "\n",
    "We note that Dask is used in several other libraries for the analysis of electron microscopy data, for example, [hyperspy](https://hyperspy.org/), [libertem](https://libertem.github.io/LiberTEM/) and [py4DSTEM](https://py4dstem.readthedocs.io/en/latest/), and thus we think that you may benefit from knowing this library more generally."
   ]
  },
  {
   "cell_type": "markdown",
   "id": "43b2aaf0-80a0-4058-99a2-faa12025ab42",
   "metadata": {
    "pycharm": {
     "name": "#%% md\n"
    }
   },
   "source": [
    "## Task graphs\n",
    "\n",
    "Simulating TEM experiments requires executing multiple *tasks* where each one may depend on the output of previous tasks. In Dask this is represented as a [*task graph*](https://docs.dask.org/en/stable/graphs.html), where each task is a *node*, with *edges* between nodes if it is dependent on another task. The simulation result is obtained by executing each task (node) in the graph with a Dask *scheduler* on a single machine or a cluster."
   ]
  },
  {
   "cell_type": "code",
   "execution_count": 2,
   "id": "fe6765fb-d0ea-4c35-b5bf-2eaadee69b0b",
   "metadata": {
    "tags": [
     "remove-input",
     "hide-input"
    ]
   },
   "outputs": [
    {
     "data": {
      "text/html": [
       "<img src=\"https://docs.dask.org/en/stable/_images/dask-overview.svg\" width=\"600\"/>"
      ],
      "text/plain": [
       "<IPython.core.display.Image object>"
      ]
     },
     "metadata": {},
     "output_type": "display_data"
    }
   ],
   "source": [
    "display(\n",
    "    Image(url=\"https://docs.dask.org/en/stable/_images/dask-overview.svg\", width=600)\n",
    ")"
   ]
  },
  {
   "cell_type": "markdown",
   "id": "95b10156-ee85-4600-92ed-b9c7c398dbdc",
   "metadata": {},
   "source": [
    "To illustrate this in practice, below we create the task graph for running a plane wave multislice simulation of gold in the $\\left<100\\right>$ zone axis with 4 frozen phonon configurations (please refer to previous walkthroughs for those details)."
   ]
  },
  {
   "cell_type": "code",
   "execution_count": 3,
   "id": "60ba5ba0-0d6d-4ecb-8fdd-fa80316a579b",
   "metadata": {},
   "outputs": [],
   "source": [
    "atoms = ase.build.bulk(\"Au\", cubic=True) * (5, 5, 2)\n",
    "\n",
    "frozen_phonons = abtem.FrozenPhonons(\n",
    "    atoms, num_configs=4, sigmas=0.1, ensemble_mean=False\n",
    ")\n",
    "\n",
    "potential = abtem.Potential(frozen_phonons, gpts=512, slice_thickness=2)\n",
    "\n",
    "probe = abtem.PlaneWave(energy=200e3)\n",
    "\n",
    "exit_waves = probe.multislice(potential)"
   ]
  },
  {
   "cell_type": "markdown",
   "id": "cbc97cd9-2777-4ef4-a0c4-c020517b708e",
   "metadata": {},
   "source": [
    "The result is an ensemble of $4$ wave functions of shape $512\\times512$, which may be represented as a 3D array, where the first dimension represents the phonon ensemble and the last two dimensions represents the 2D wave functions. \n",
    "\n",
    "As we have not executed the task graph yet, the wave functions are represented as a [Dask Array](https://docs.dask.org/en/stable/array.html). We can think of the *Dask array* as being composed of many smaller NumPy arrays, called *chunks*, and operations may be applied to each chunk rather than the full array. This enables: \n",
    "\n",
    "1. Parallelism over the chunks;\n",
    "2. Representing a larger-than-memory array as many smaller arrays, each of which fits in memory.\n",
    "\n",
    "The Dask array representation `__repr__` shows how the chunks are laid out."
   ]
  },
  {
   "cell_type": "code",
   "execution_count": 4,
   "id": "adc736d7-6ca1-47a7-baa5-eb6a9b0d69cb",
   "metadata": {},
   "outputs": [
    {
     "data": {
      "text/html": [
       "<table>\n",
       "    <tr>\n",
       "        <td>\n",
       "            <table style=\"border-collapse: collapse;\">\n",
       "                <thead>\n",
       "                    <tr>\n",
       "                        <td> </td>\n",
       "                        <th> Array </th>\n",
       "                        <th> Chunk </th>\n",
       "                    </tr>\n",
       "                </thead>\n",
       "                <tbody>\n",
       "                    \n",
       "                    <tr>\n",
       "                        <th> Bytes </th>\n",
       "                        <td> 8.00 MiB </td>\n",
       "                        <td> 2.00 MiB </td>\n",
       "                    </tr>\n",
       "                    \n",
       "                    <tr>\n",
       "                        <th> Shape </th>\n",
       "                        <td> (4, 512, 512) </td>\n",
       "                        <td> (1, 512, 512) </td>\n",
       "                    </tr>\n",
       "                    <tr>\n",
       "                        <th> Dask graph </th>\n",
       "                        <td colspan=\"2\"> 4 chunks in 18 graph layers </td>\n",
       "                    </tr>\n",
       "                    <tr>\n",
       "                        <th> Data type </th>\n",
       "                        <td colspan=\"2\"> complex64 numpy.ndarray </td>\n",
       "                    </tr>\n",
       "                </tbody>\n",
       "            </table>\n",
       "        </td>\n",
       "        <td>\n",
       "        <svg width=\"194\" height=\"184\" style=\"stroke:rgb(0,0,0);stroke-width:1\" >\n",
       "\n",
       "  <!-- Horizontal lines -->\n",
       "  <line x1=\"10\" y1=\"0\" x2=\"24\" y2=\"14\" style=\"stroke-width:2\" />\n",
       "  <line x1=\"10\" y1=\"120\" x2=\"24\" y2=\"134\" style=\"stroke-width:2\" />\n",
       "\n",
       "  <!-- Vertical lines -->\n",
       "  <line x1=\"10\" y1=\"0\" x2=\"10\" y2=\"120\" style=\"stroke-width:2\" />\n",
       "  <line x1=\"13\" y1=\"3\" x2=\"13\" y2=\"123\" />\n",
       "  <line x1=\"17\" y1=\"7\" x2=\"17\" y2=\"127\" />\n",
       "  <line x1=\"21\" y1=\"11\" x2=\"21\" y2=\"131\" />\n",
       "  <line x1=\"24\" y1=\"14\" x2=\"24\" y2=\"134\" style=\"stroke-width:2\" />\n",
       "\n",
       "  <!-- Colored Rectangle -->\n",
       "  <polygon points=\"10.0,0.0 24.9485979497544,14.948597949754403 24.9485979497544,134.9485979497544 10.0,120.0\" style=\"fill:#ECB172A0;stroke-width:0\"/>\n",
       "\n",
       "  <!-- Horizontal lines -->\n",
       "  <line x1=\"10\" y1=\"0\" x2=\"130\" y2=\"0\" style=\"stroke-width:2\" />\n",
       "  <line x1=\"13\" y1=\"3\" x2=\"133\" y2=\"3\" />\n",
       "  <line x1=\"17\" y1=\"7\" x2=\"137\" y2=\"7\" />\n",
       "  <line x1=\"21\" y1=\"11\" x2=\"141\" y2=\"11\" />\n",
       "  <line x1=\"24\" y1=\"14\" x2=\"144\" y2=\"14\" style=\"stroke-width:2\" />\n",
       "\n",
       "  <!-- Vertical lines -->\n",
       "  <line x1=\"10\" y1=\"0\" x2=\"24\" y2=\"14\" style=\"stroke-width:2\" />\n",
       "  <line x1=\"130\" y1=\"0\" x2=\"144\" y2=\"14\" style=\"stroke-width:2\" />\n",
       "\n",
       "  <!-- Colored Rectangle -->\n",
       "  <polygon points=\"10.0,0.0 130.0,0.0 144.9485979497544,14.948597949754403 24.9485979497544,14.948597949754403\" style=\"fill:#ECB172A0;stroke-width:0\"/>\n",
       "\n",
       "  <!-- Horizontal lines -->\n",
       "  <line x1=\"24\" y1=\"14\" x2=\"144\" y2=\"14\" style=\"stroke-width:2\" />\n",
       "  <line x1=\"24\" y1=\"134\" x2=\"144\" y2=\"134\" style=\"stroke-width:2\" />\n",
       "\n",
       "  <!-- Vertical lines -->\n",
       "  <line x1=\"24\" y1=\"14\" x2=\"24\" y2=\"134\" style=\"stroke-width:2\" />\n",
       "  <line x1=\"144\" y1=\"14\" x2=\"144\" y2=\"134\" style=\"stroke-width:2\" />\n",
       "\n",
       "  <!-- Colored Rectangle -->\n",
       "  <polygon points=\"24.9485979497544,14.948597949754403 144.9485979497544,14.948597949754403 144.9485979497544,134.9485979497544 24.9485979497544,134.9485979497544\" style=\"fill:#ECB172A0;stroke-width:0\"/>\n",
       "\n",
       "  <!-- Text -->\n",
       "  <text x=\"84.948598\" y=\"154.948598\" font-size=\"1.0rem\" font-weight=\"100\" text-anchor=\"middle\" >512</text>\n",
       "  <text x=\"164.948598\" y=\"74.948598\" font-size=\"1.0rem\" font-weight=\"100\" text-anchor=\"middle\" transform=\"rotate(-90,164.948598,74.948598)\">512</text>\n",
       "  <text x=\"7.474299\" y=\"147.474299\" font-size=\"1.0rem\" font-weight=\"100\" text-anchor=\"middle\" transform=\"rotate(45,7.474299,147.474299)\">4</text>\n",
       "</svg>\n",
       "        </td>\n",
       "    </tr>\n",
       "</table>"
      ],
      "text/plain": [
       "dask.array<getitem, shape=(4, 512, 512), dtype=complex64, chunksize=(1, 512, 512), chunktype=numpy.ndarray>"
      ]
     },
     "execution_count": 4,
     "metadata": {},
     "output_type": "execute_result"
    }
   ],
   "source": [
    "exit_waves.array"
   ]
  },
  {
   "cell_type": "markdown",
   "id": "07d22d90-2701-4d3e-bc91-ab2260232950",
   "metadata": {},
   "source": [
    "We see that this Dask array has the shape `(4, 512, 512)` requiring 8 MB of memory, and is composed of chunks with shape `(1, 512, 512)` requiring 2 MB each.\n",
    "\n",
    "```{important}\n",
    "The Dask array just represents a task graph, not the data itself, so memory is consumed only if it is computed!\n",
    "```\n",
    "\n",
    "Each chunk of the Dask array created above represents a wave function for a frozen phonon configuration. This reflects the fact that, in the multislice algorithm, each frozen phonon configuration is independent and may be calculated in parallel. On the other hand, we should not have chunks across wave functions, because each part of a wave function is affected by every other part.\n",
    "\n",
    "We can visualize the task graph using Dask's [`visualize`](https://docs.dask.org/en/stable/graphviz.html) method. We see that the task graph consists of 4 fully independent branches, one for each frozen phonon.\n",
    "\n",
    "````{note}\n",
    "Drawing Dask task graphs with the cytoscape engine requires the `ipycytoscape` python library. To reproduce the result below you need to:\n",
    "```\n",
    "  python -m pip install ipycytoscape\n",
    "```\n",
    "and restart jupyter.\n",
    "````"
   ]
  },
  {
   "cell_type": "code",
   "execution_count": 5,
   "id": "45d463ae-c282-4710-a05c-0817cb996457",
   "metadata": {
    "tags": [
     "skip-test"
    ]
   },
   "outputs": [
    {
     "data": {
      "application/vnd.jupyter.widget-view+json": {
       "model_id": "5f56ca5b8e4540dea182ab580a0dd3bb",
       "version_major": 2,
       "version_minor": 0
      },
      "text/plain": [
       "CytoscapeWidget(cytoscape_layout={'name': 'dagre', 'rankDir': 'BT', 'nodeSep': 10, 'edgeSep': 10, 'spacingFact…"
      ]
     },
     "execution_count": 5,
     "metadata": {},
     "output_type": "execute_result"
    }
   ],
   "source": [
    "exit_waves.array.visualize(engine=\"cytoscape\")"
   ]
  },
  {
   "cell_type": "markdown",
   "id": "20d970c0-56e5-4066-b1d8-f6c71f59fb46",
   "metadata": {},
   "source": [
    "We usually want to take the mean across the frozen phonon dimension, and thus end up with an image represented as a single chunk."
   ]
  },
  {
   "cell_type": "code",
   "execution_count": 6,
   "id": "907e3a1e-7132-4dc5-aa9b-bdeed01a6170",
   "metadata": {},
   "outputs": [
    {
     "data": {
      "text/html": [
       "<table>\n",
       "    <tr>\n",
       "        <td>\n",
       "            <table style=\"border-collapse: collapse;\">\n",
       "                <thead>\n",
       "                    <tr>\n",
       "                        <td> </td>\n",
       "                        <th> Array </th>\n",
       "                        <th> Chunk </th>\n",
       "                    </tr>\n",
       "                </thead>\n",
       "                <tbody>\n",
       "                    \n",
       "                    <tr>\n",
       "                        <th> Bytes </th>\n",
       "                        <td> 1.00 MiB </td>\n",
       "                        <td> 1.00 MiB </td>\n",
       "                    </tr>\n",
       "                    \n",
       "                    <tr>\n",
       "                        <th> Shape </th>\n",
       "                        <td> (512, 512) </td>\n",
       "                        <td> (512, 512) </td>\n",
       "                    </tr>\n",
       "                    <tr>\n",
       "                        <th> Dask graph </th>\n",
       "                        <td colspan=\"2\"> 1 chunks in 22 graph layers </td>\n",
       "                    </tr>\n",
       "                    <tr>\n",
       "                        <th> Data type </th>\n",
       "                        <td colspan=\"2\"> float32 numpy.ndarray </td>\n",
       "                    </tr>\n",
       "                </tbody>\n",
       "            </table>\n",
       "        </td>\n",
       "        <td>\n",
       "        <svg width=\"170\" height=\"170\" style=\"stroke:rgb(0,0,0);stroke-width:1\" >\n",
       "\n",
       "  <!-- Horizontal lines -->\n",
       "  <line x1=\"0\" y1=\"0\" x2=\"120\" y2=\"0\" style=\"stroke-width:2\" />\n",
       "  <line x1=\"0\" y1=\"120\" x2=\"120\" y2=\"120\" style=\"stroke-width:2\" />\n",
       "\n",
       "  <!-- Vertical lines -->\n",
       "  <line x1=\"0\" y1=\"0\" x2=\"0\" y2=\"120\" style=\"stroke-width:2\" />\n",
       "  <line x1=\"120\" y1=\"0\" x2=\"120\" y2=\"120\" style=\"stroke-width:2\" />\n",
       "\n",
       "  <!-- Colored Rectangle -->\n",
       "  <polygon points=\"0.0,0.0 120.0,0.0 120.0,120.0 0.0,120.0\" style=\"fill:#ECB172A0;stroke-width:0\"/>\n",
       "\n",
       "  <!-- Text -->\n",
       "  <text x=\"60.000000\" y=\"140.000000\" font-size=\"1.0rem\" font-weight=\"100\" text-anchor=\"middle\" >512</text>\n",
       "  <text x=\"140.000000\" y=\"60.000000\" font-size=\"1.0rem\" font-weight=\"100\" text-anchor=\"middle\" transform=\"rotate(-90,140.000000,60.000000)\">512</text>\n",
       "</svg>\n",
       "        </td>\n",
       "    </tr>\n",
       "</table>"
      ],
      "text/plain": [
       "dask.array<mean_agg-aggregate, shape=(512, 512), dtype=float32, chunksize=(512, 512), chunktype=numpy.ndarray>"
      ]
     },
     "execution_count": 6,
     "metadata": {},
     "output_type": "execute_result"
    }
   ],
   "source": [
    "hrtem_image = exit_waves.intensity().mean(0)\n",
    "\n",
    "hrtem_image.array"
   ]
  },
  {
   "cell_type": "markdown",
   "id": "b9661725-7a20-44f6-8415-52489e91259b",
   "metadata": {},
   "source": [
    "Taking the mean across frozen phonon chunks requires communicating the exit wave function intensity between the final nodes. Showing the task graph again we see how the branches are merged when the result have to be communicated between workers."
   ]
  },
  {
   "cell_type": "code",
   "execution_count": 7,
   "id": "27e8b98c-362e-4543-b6c2-e033a827143e",
   "metadata": {
    "tags": [
     "skip-test"
    ]
   },
   "outputs": [
    {
     "data": {
      "application/vnd.jupyter.widget-view+json": {
       "model_id": "1ec5a2940742418181b1d9735d18e74d",
       "version_major": 2,
       "version_minor": 0
      },
      "text/plain": [
       "CytoscapeWidget(cytoscape_layout={'name': 'dagre', 'rankDir': 'BT', 'nodeSep': 10, 'edgeSep': 10, 'spacingFact…"
      ]
     },
     "execution_count": 7,
     "metadata": {},
     "output_type": "execute_result"
    }
   ],
   "source": [
    "hrtem_image.array.visualize(engine=\"cytoscape\")"
   ]
  },
  {
   "cell_type": "markdown",
   "id": "7dcdbfb7-41d3-49ff-995f-bf17f01a120f",
   "metadata": {},
   "source": [
    "## Chunks\n",
    "To futher explore the role of chunks in abTEM, we create the task graph for running a STEM simulation with the same specimen, gold in the $\\left<100\\right>$ zone axis with 4 frozen phonons. We do not immediately apply a detector, so we obtain an ensemble of exit wave functions."
   ]
  },
  {
   "cell_type": "code",
   "execution_count": 8,
   "id": "5b9baf98-b088-4c6f-954d-8ae1a7d22c23",
   "metadata": {
    "pycharm": {
     "name": "#%%\n"
    }
   },
   "outputs": [
    {
     "data": {
      "text/plain": [
       "type               label           coordinates\n",
       "-----------------  --------------  -------------------\n",
       "FrozenPhononsAxis  Frozen phonons  -\n",
       "ScanAxis           x [Å]           0.00 0.29 ... 3.79\n",
       "ScanAxis           y [Å]           0.00 0.29 ... 3.79\n",
       "RealSpaceAxis      x [Å]           0.00 0.04 ... 20.36\n",
       "RealSpaceAxis      y [Å]           0.00 0.04 ... 20.36"
      ]
     },
     "execution_count": 8,
     "metadata": {},
     "output_type": "execute_result"
    }
   ],
   "source": [
    "probe = abtem.Probe(energy=200e3, semiangle_cutoff=20)\n",
    "\n",
    "scan = abtem.GridScan(\n",
    "    start=(0, 0),\n",
    "    end=(1 / 5, 1 / 5),\n",
    "    fractional=True,\n",
    "    potential=potential,\n",
    ")\n",
    "\n",
    "frozen_phonons = abtem.FrozenPhonons(\n",
    "    atoms, num_configs=4, sigmas=0.1, ensemble_mean=True\n",
    ")\n",
    "\n",
    "potential = abtem.Potential(frozen_phonons, gpts=512, slice_thickness=2)\n",
    "\n",
    "exit_waves_stem = probe.multislice(potential, scan=scan)\n",
    "\n",
    "exit_waves_stem.axes_metadata"
   ]
  },
  {
   "cell_type": "markdown",
   "id": "69036139-511e-482d-8f72-e66b71df0924",
   "metadata": {},
   "source": [
    "The wave functions are now represented as a 5D Dask array, a 3D ensemble of 2D wave functions, which is composed of one frozen phonon dimension and two scan dimensions, one for each of the $x$ and $y$ direction. \n",
    "\n",
    "The full array is of shape `(4, 15, 15, 512, 512)` requiring 1.76 GB of memory, which is cut into chunks of shape `(1, 8, 7, 512, 512)` of 112 MB. Hence, there are a total of $4 \\times 2 \\times 3 = 24$ chunks."
   ]
  },
  {
   "cell_type": "code",
   "execution_count": 9,
   "id": "0d0ab17b-53e3-4e79-856a-d734fe3c1cbe",
   "metadata": {},
   "outputs": [
    {
     "data": {
      "text/html": [
       "<table>\n",
       "    <tr>\n",
       "        <td>\n",
       "            <table style=\"border-collapse: collapse;\">\n",
       "                <thead>\n",
       "                    <tr>\n",
       "                        <td> </td>\n",
       "                        <th> Array </th>\n",
       "                        <th> Chunk </th>\n",
       "                    </tr>\n",
       "                </thead>\n",
       "                <tbody>\n",
       "                    \n",
       "                    <tr>\n",
       "                        <th> Bytes </th>\n",
       "                        <td> 1.53 GiB </td>\n",
       "                        <td> 112.00 MiB </td>\n",
       "                    </tr>\n",
       "                    \n",
       "                    <tr>\n",
       "                        <th> Shape </th>\n",
       "                        <td> (4, 14, 14, 512, 512) </td>\n",
       "                        <td> (1, 8, 7, 512, 512) </td>\n",
       "                    </tr>\n",
       "                    <tr>\n",
       "                        <th> Dask graph </th>\n",
       "                        <td colspan=\"2\"> 16 chunks in 22 graph layers </td>\n",
       "                    </tr>\n",
       "                    <tr>\n",
       "                        <th> Data type </th>\n",
       "                        <td colspan=\"2\"> complex64 numpy.ndarray </td>\n",
       "                    </tr>\n",
       "                </tbody>\n",
       "            </table>\n",
       "        </td>\n",
       "        <td>\n",
       "        <svg width=\"388\" height=\"188\" style=\"stroke:rgb(0,0,0);stroke-width:1\" >\n",
       "\n",
       "  <!-- Horizontal lines -->\n",
       "  <line x1=\"0\" y1=\"0\" x2=\"30\" y2=\"0\" style=\"stroke-width:2\" />\n",
       "  <line x1=\"0\" y1=\"6\" x2=\"30\" y2=\"6\" />\n",
       "  <line x1=\"0\" y1=\"12\" x2=\"30\" y2=\"12\" />\n",
       "  <line x1=\"0\" y1=\"19\" x2=\"30\" y2=\"19\" />\n",
       "  <line x1=\"0\" y1=\"25\" x2=\"30\" y2=\"25\" style=\"stroke-width:2\" />\n",
       "\n",
       "  <!-- Vertical lines -->\n",
       "  <line x1=\"0\" y1=\"0\" x2=\"0\" y2=\"25\" style=\"stroke-width:2\" />\n",
       "  <line x1=\"17\" y1=\"0\" x2=\"17\" y2=\"25\" />\n",
       "  <line x1=\"30\" y1=\"0\" x2=\"30\" y2=\"25\" style=\"stroke-width:2\" />\n",
       "\n",
       "  <!-- Colored Rectangle -->\n",
       "  <polygon points=\"0.0,0.0 30.838522258696894,0.0 30.838522258696894,25.412616514582485 0.0,25.412616514582485\" style=\"fill:#ECB172A0;stroke-width:0\"/>\n",
       "\n",
       "  <!-- Text -->\n",
       "  <text x=\"15.419261\" y=\"45.412617\" font-size=\"1.0rem\" font-weight=\"100\" text-anchor=\"middle\" >14</text>\n",
       "  <text x=\"50.838522\" y=\"12.706308\" font-size=\"1.0rem\" font-weight=\"100\" text-anchor=\"middle\" transform=\"rotate(0,50.838522,12.706308)\">4</text>\n",
       "\n",
       "\n",
       "  <!-- Horizontal lines -->\n",
       "  <line x1=\"100\" y1=\"0\" x2=\"118\" y2=\"18\" style=\"stroke-width:2\" />\n",
       "  <line x1=\"100\" y1=\"120\" x2=\"118\" y2=\"138\" style=\"stroke-width:2\" />\n",
       "\n",
       "  <!-- Vertical lines -->\n",
       "  <line x1=\"100\" y1=\"0\" x2=\"100\" y2=\"120\" style=\"stroke-width:2\" />\n",
       "  <line x1=\"109\" y1=\"9\" x2=\"109\" y2=\"129\" />\n",
       "  <line x1=\"118\" y1=\"18\" x2=\"118\" y2=\"138\" style=\"stroke-width:2\" />\n",
       "\n",
       "  <!-- Colored Rectangle -->\n",
       "  <polygon points=\"100.0,0.0 118.14030721099817,18.140307210998174 118.14030721099817,138.14030721099817 100.0,120.0\" style=\"fill:#ECB172A0;stroke-width:0\"/>\n",
       "\n",
       "  <!-- Horizontal lines -->\n",
       "  <line x1=\"100\" y1=\"0\" x2=\"220\" y2=\"0\" style=\"stroke-width:2\" />\n",
       "  <line x1=\"109\" y1=\"9\" x2=\"229\" y2=\"9\" />\n",
       "  <line x1=\"118\" y1=\"18\" x2=\"238\" y2=\"18\" style=\"stroke-width:2\" />\n",
       "\n",
       "  <!-- Vertical lines -->\n",
       "  <line x1=\"100\" y1=\"0\" x2=\"118\" y2=\"18\" style=\"stroke-width:2\" />\n",
       "  <line x1=\"220\" y1=\"0\" x2=\"238\" y2=\"18\" style=\"stroke-width:2\" />\n",
       "\n",
       "  <!-- Colored Rectangle -->\n",
       "  <polygon points=\"100.0,0.0 220.0,0.0 238.14030721099817,18.140307210998174 118.14030721099817,18.140307210998174\" style=\"fill:#ECB172A0;stroke-width:0\"/>\n",
       "\n",
       "  <!-- Horizontal lines -->\n",
       "  <line x1=\"118\" y1=\"18\" x2=\"238\" y2=\"18\" style=\"stroke-width:2\" />\n",
       "  <line x1=\"118\" y1=\"138\" x2=\"238\" y2=\"138\" style=\"stroke-width:2\" />\n",
       "\n",
       "  <!-- Vertical lines -->\n",
       "  <line x1=\"118\" y1=\"18\" x2=\"118\" y2=\"138\" style=\"stroke-width:2\" />\n",
       "  <line x1=\"238\" y1=\"18\" x2=\"238\" y2=\"138\" style=\"stroke-width:2\" />\n",
       "\n",
       "  <!-- Colored Rectangle -->\n",
       "  <polygon points=\"118.14030721099817,18.140307210998174 238.14030721099817,18.140307210998174 238.14030721099817,138.14030721099817 118.14030721099817,138.14030721099817\" style=\"fill:#ECB172A0;stroke-width:0\"/>\n",
       "\n",
       "  <!-- Text -->\n",
       "  <text x=\"178.140307\" y=\"158.140307\" font-size=\"1.0rem\" font-weight=\"100\" text-anchor=\"middle\" >512</text>\n",
       "  <text x=\"258.140307\" y=\"78.140307\" font-size=\"1.0rem\" font-weight=\"100\" text-anchor=\"middle\" transform=\"rotate(-90,258.140307,78.140307)\">512</text>\n",
       "  <text x=\"99.070154\" y=\"149.070154\" font-size=\"1.0rem\" font-weight=\"100\" text-anchor=\"middle\" transform=\"rotate(45,99.070154,149.070154)\">14</text>\n",
       "</svg>\n",
       "        </td>\n",
       "    </tr>\n",
       "</table>"
      ],
      "text/plain": [
       "dask.array<getitem, shape=(4, 14, 14, 512, 512), dtype=complex64, chunksize=(1, 8, 7, 512, 512), chunktype=numpy.ndarray>"
      ]
     },
     "execution_count": 9,
     "metadata": {},
     "output_type": "execute_result"
    }
   ],
   "source": [
    "exit_waves_stem.array"
   ]
  },
  {
   "cell_type": "markdown",
   "id": "00985534-3b37-458c-9cba-e5f6c783f334",
   "metadata": {},
   "source": [
    "Notice that we do not make a chunk for every probe position, but each chunk of the scan dimension instead represents a batch of wave functions. This is done partly to limit [the overhead](https://docs.dask.org/en/stable/best-practices.html#avoid-very-large-graphs) that every chunk comes with, but more importantly, larger batches enables efficient thread parallelization within each run of the multislice algorithm.\n",
    "\n",
    "We can change how many wave functions each batch should have using a keyword. Below we set `max_batch=4`, resulting in a total number of $4 \\times 8 \\times 8 = 256$ chunks."
   ]
  },
  {
   "cell_type": "code",
   "execution_count": 10,
   "id": "b1f9437b-ed6a-4836-8e6c-daa0ae526b21",
   "metadata": {},
   "outputs": [
    {
     "data": {
      "text/html": [
       "<table>\n",
       "    <tr>\n",
       "        <td>\n",
       "            <table style=\"border-collapse: collapse;\">\n",
       "                <thead>\n",
       "                    <tr>\n",
       "                        <td> </td>\n",
       "                        <th> Array </th>\n",
       "                        <th> Chunk </th>\n",
       "                    </tr>\n",
       "                </thead>\n",
       "                <tbody>\n",
       "                    \n",
       "                    <tr>\n",
       "                        <th> Bytes </th>\n",
       "                        <td> 1.53 GiB </td>\n",
       "                        <td> 8.00 MiB </td>\n",
       "                    </tr>\n",
       "                    \n",
       "                    <tr>\n",
       "                        <th> Shape </th>\n",
       "                        <td> (4, 14, 14, 512, 512) </td>\n",
       "                        <td> (1, 2, 2, 512, 512) </td>\n",
       "                    </tr>\n",
       "                    <tr>\n",
       "                        <th> Dask graph </th>\n",
       "                        <td colspan=\"2\"> 196 chunks in 21 graph layers </td>\n",
       "                    </tr>\n",
       "                    <tr>\n",
       "                        <th> Data type </th>\n",
       "                        <td colspan=\"2\"> complex64 numpy.ndarray </td>\n",
       "                    </tr>\n",
       "                </tbody>\n",
       "            </table>\n",
       "        </td>\n",
       "        <td>\n",
       "        <svg width=\"388\" height=\"188\" style=\"stroke:rgb(0,0,0);stroke-width:1\" >\n",
       "\n",
       "  <!-- Horizontal lines -->\n",
       "  <line x1=\"0\" y1=\"0\" x2=\"30\" y2=\"0\" style=\"stroke-width:2\" />\n",
       "  <line x1=\"0\" y1=\"6\" x2=\"30\" y2=\"6\" />\n",
       "  <line x1=\"0\" y1=\"12\" x2=\"30\" y2=\"12\" />\n",
       "  <line x1=\"0\" y1=\"19\" x2=\"30\" y2=\"19\" />\n",
       "  <line x1=\"0\" y1=\"25\" x2=\"30\" y2=\"25\" style=\"stroke-width:2\" />\n",
       "\n",
       "  <!-- Vertical lines -->\n",
       "  <line x1=\"0\" y1=\"0\" x2=\"0\" y2=\"25\" style=\"stroke-width:2\" />\n",
       "  <line x1=\"4\" y1=\"0\" x2=\"4\" y2=\"25\" />\n",
       "  <line x1=\"8\" y1=\"0\" x2=\"8\" y2=\"25\" />\n",
       "  <line x1=\"13\" y1=\"0\" x2=\"13\" y2=\"25\" />\n",
       "  <line x1=\"17\" y1=\"0\" x2=\"17\" y2=\"25\" />\n",
       "  <line x1=\"22\" y1=\"0\" x2=\"22\" y2=\"25\" />\n",
       "  <line x1=\"26\" y1=\"0\" x2=\"26\" y2=\"25\" />\n",
       "  <line x1=\"30\" y1=\"0\" x2=\"30\" y2=\"25\" style=\"stroke-width:2\" />\n",
       "\n",
       "  <!-- Colored Rectangle -->\n",
       "  <polygon points=\"0.0,0.0 30.838522258696894,0.0 30.838522258696894,25.412616514582485 0.0,25.412616514582485\" style=\"fill:#ECB172A0;stroke-width:0\"/>\n",
       "\n",
       "  <!-- Text -->\n",
       "  <text x=\"15.419261\" y=\"45.412617\" font-size=\"1.0rem\" font-weight=\"100\" text-anchor=\"middle\" >14</text>\n",
       "  <text x=\"50.838522\" y=\"12.706308\" font-size=\"1.0rem\" font-weight=\"100\" text-anchor=\"middle\" transform=\"rotate(0,50.838522,12.706308)\">4</text>\n",
       "\n",
       "\n",
       "  <!-- Horizontal lines -->\n",
       "  <line x1=\"100\" y1=\"0\" x2=\"118\" y2=\"18\" style=\"stroke-width:2\" />\n",
       "  <line x1=\"100\" y1=\"120\" x2=\"118\" y2=\"138\" style=\"stroke-width:2\" />\n",
       "\n",
       "  <!-- Vertical lines -->\n",
       "  <line x1=\"100\" y1=\"0\" x2=\"100\" y2=\"120\" style=\"stroke-width:2\" />\n",
       "  <line x1=\"102\" y1=\"2\" x2=\"102\" y2=\"122\" />\n",
       "  <line x1=\"105\" y1=\"5\" x2=\"105\" y2=\"125\" />\n",
       "  <line x1=\"107\" y1=\"7\" x2=\"107\" y2=\"127\" />\n",
       "  <line x1=\"110\" y1=\"10\" x2=\"110\" y2=\"130\" />\n",
       "  <line x1=\"112\" y1=\"12\" x2=\"112\" y2=\"132\" />\n",
       "  <line x1=\"115\" y1=\"15\" x2=\"115\" y2=\"135\" />\n",
       "  <line x1=\"118\" y1=\"18\" x2=\"118\" y2=\"138\" style=\"stroke-width:2\" />\n",
       "\n",
       "  <!-- Colored Rectangle -->\n",
       "  <polygon points=\"100.0,0.0 118.14030721099817,18.140307210998174 118.14030721099817,138.14030721099817 100.0,120.0\" style=\"fill:#ECB172A0;stroke-width:0\"/>\n",
       "\n",
       "  <!-- Horizontal lines -->\n",
       "  <line x1=\"100\" y1=\"0\" x2=\"220\" y2=\"0\" style=\"stroke-width:2\" />\n",
       "  <line x1=\"102\" y1=\"2\" x2=\"222\" y2=\"2\" />\n",
       "  <line x1=\"105\" y1=\"5\" x2=\"225\" y2=\"5\" />\n",
       "  <line x1=\"107\" y1=\"7\" x2=\"227\" y2=\"7\" />\n",
       "  <line x1=\"110\" y1=\"10\" x2=\"230\" y2=\"10\" />\n",
       "  <line x1=\"112\" y1=\"12\" x2=\"232\" y2=\"12\" />\n",
       "  <line x1=\"115\" y1=\"15\" x2=\"235\" y2=\"15\" />\n",
       "  <line x1=\"118\" y1=\"18\" x2=\"238\" y2=\"18\" style=\"stroke-width:2\" />\n",
       "\n",
       "  <!-- Vertical lines -->\n",
       "  <line x1=\"100\" y1=\"0\" x2=\"118\" y2=\"18\" style=\"stroke-width:2\" />\n",
       "  <line x1=\"220\" y1=\"0\" x2=\"238\" y2=\"18\" style=\"stroke-width:2\" />\n",
       "\n",
       "  <!-- Colored Rectangle -->\n",
       "  <polygon points=\"100.0,0.0 220.0,0.0 238.14030721099817,18.140307210998174 118.14030721099817,18.140307210998174\" style=\"fill:#ECB172A0;stroke-width:0\"/>\n",
       "\n",
       "  <!-- Horizontal lines -->\n",
       "  <line x1=\"118\" y1=\"18\" x2=\"238\" y2=\"18\" style=\"stroke-width:2\" />\n",
       "  <line x1=\"118\" y1=\"138\" x2=\"238\" y2=\"138\" style=\"stroke-width:2\" />\n",
       "\n",
       "  <!-- Vertical lines -->\n",
       "  <line x1=\"118\" y1=\"18\" x2=\"118\" y2=\"138\" style=\"stroke-width:2\" />\n",
       "  <line x1=\"238\" y1=\"18\" x2=\"238\" y2=\"138\" style=\"stroke-width:2\" />\n",
       "\n",
       "  <!-- Colored Rectangle -->\n",
       "  <polygon points=\"118.14030721099817,18.140307210998174 238.14030721099817,18.140307210998174 238.14030721099817,138.14030721099817 118.14030721099817,138.14030721099817\" style=\"fill:#ECB172A0;stroke-width:0\"/>\n",
       "\n",
       "  <!-- Text -->\n",
       "  <text x=\"178.140307\" y=\"158.140307\" font-size=\"1.0rem\" font-weight=\"100\" text-anchor=\"middle\" >512</text>\n",
       "  <text x=\"258.140307\" y=\"78.140307\" font-size=\"1.0rem\" font-weight=\"100\" text-anchor=\"middle\" transform=\"rotate(-90,258.140307,78.140307)\">512</text>\n",
       "  <text x=\"99.070154\" y=\"149.070154\" font-size=\"1.0rem\" font-weight=\"100\" text-anchor=\"middle\" transform=\"rotate(45,99.070154,149.070154)\">14</text>\n",
       "</svg>\n",
       "        </td>\n",
       "    </tr>\n",
       "</table>"
      ],
      "text/plain": [
       "dask.array<getitem, shape=(4, 14, 14, 512, 512), dtype=complex64, chunksize=(1, 2, 2, 512, 512), chunktype=numpy.ndarray>"
      ]
     },
     "execution_count": 10,
     "metadata": {},
     "output_type": "execute_result"
    }
   ],
   "source": [
    "exit_waves_stem = probe.multislice(potential, scan=scan, max_batch=4)\n",
    "\n",
    "exit_waves_stem.array"
   ]
  },
  {
   "cell_type": "markdown",
   "id": "28998800-0b81-49f7-b3c6-79aa355cf3dc",
   "metadata": {
    "pycharm": {
     "name": "#%% md\n"
    }
   },
   "source": [
    "The default value of `max_batch` is `\"auto\"`: with this setting the number of wave functions in each batch is determined such that the batch represents approximately `128 MB` of memory, although this number may be changed through the *ab*TEM [configuration](../../reference/config.md).\n",
    "\n",
    "Before computing this task graph, we apply a HAADF detector and calculate the ensemble mean, which reduces the total size of the output to just 900 B. We note that the 1.76 GB ensemble of wave functions never needs to be in memory simulateneously, as each chunk of exit wave functions are reduced immediately after completing the multislice algorithm."
   ]
  },
  {
   "cell_type": "code",
   "execution_count": 11,
   "id": "8664e8b2-4928-4c5e-bd48-fa854a465cec",
   "metadata": {
    "pycharm": {
     "name": "#%%\n"
    }
   },
   "outputs": [
    {
     "data": {
      "text/html": [
       "<table>\n",
       "    <tr>\n",
       "        <td>\n",
       "            <table style=\"border-collapse: collapse;\">\n",
       "                <thead>\n",
       "                    <tr>\n",
       "                        <td> </td>\n",
       "                        <th> Array </th>\n",
       "                        <th> Chunk </th>\n",
       "                    </tr>\n",
       "                </thead>\n",
       "                <tbody>\n",
       "                    \n",
       "                    <tr>\n",
       "                        <th> Bytes </th>\n",
       "                        <td> 784 B </td>\n",
       "                        <td> 16 B </td>\n",
       "                    </tr>\n",
       "                    \n",
       "                    <tr>\n",
       "                        <th> Shape </th>\n",
       "                        <td> (14, 14) </td>\n",
       "                        <td> (2, 2) </td>\n",
       "                    </tr>\n",
       "                    <tr>\n",
       "                        <th> Dask graph </th>\n",
       "                        <td colspan=\"2\"> 49 chunks in 26 graph layers </td>\n",
       "                    </tr>\n",
       "                    <tr>\n",
       "                        <th> Data type </th>\n",
       "                        <td colspan=\"2\"> float32 numpy.ndarray </td>\n",
       "                    </tr>\n",
       "                </tbody>\n",
       "            </table>\n",
       "        </td>\n",
       "        <td>\n",
       "        <svg width=\"170\" height=\"170\" style=\"stroke:rgb(0,0,0);stroke-width:1\" >\n",
       "\n",
       "  <!-- Horizontal lines -->\n",
       "  <line x1=\"0\" y1=\"0\" x2=\"120\" y2=\"0\" style=\"stroke-width:2\" />\n",
       "  <line x1=\"0\" y1=\"17\" x2=\"120\" y2=\"17\" />\n",
       "  <line x1=\"0\" y1=\"34\" x2=\"120\" y2=\"34\" />\n",
       "  <line x1=\"0\" y1=\"51\" x2=\"120\" y2=\"51\" />\n",
       "  <line x1=\"0\" y1=\"68\" x2=\"120\" y2=\"68\" />\n",
       "  <line x1=\"0\" y1=\"85\" x2=\"120\" y2=\"85\" />\n",
       "  <line x1=\"0\" y1=\"102\" x2=\"120\" y2=\"102\" />\n",
       "  <line x1=\"0\" y1=\"120\" x2=\"120\" y2=\"120\" style=\"stroke-width:2\" />\n",
       "\n",
       "  <!-- Vertical lines -->\n",
       "  <line x1=\"0\" y1=\"0\" x2=\"0\" y2=\"120\" style=\"stroke-width:2\" />\n",
       "  <line x1=\"17\" y1=\"0\" x2=\"17\" y2=\"120\" />\n",
       "  <line x1=\"34\" y1=\"0\" x2=\"34\" y2=\"120\" />\n",
       "  <line x1=\"51\" y1=\"0\" x2=\"51\" y2=\"120\" />\n",
       "  <line x1=\"68\" y1=\"0\" x2=\"68\" y2=\"120\" />\n",
       "  <line x1=\"85\" y1=\"0\" x2=\"85\" y2=\"120\" />\n",
       "  <line x1=\"102\" y1=\"0\" x2=\"102\" y2=\"120\" />\n",
       "  <line x1=\"120\" y1=\"0\" x2=\"120\" y2=\"120\" style=\"stroke-width:2\" />\n",
       "\n",
       "  <!-- Colored Rectangle -->\n",
       "  <polygon points=\"0.0,0.0 120.0,0.0 120.0,120.0 0.0,120.0\" style=\"fill:#ECB172A0;stroke-width:0\"/>\n",
       "\n",
       "  <!-- Text -->\n",
       "  <text x=\"60.000000\" y=\"140.000000\" font-size=\"1.0rem\" font-weight=\"100\" text-anchor=\"middle\" >14</text>\n",
       "  <text x=\"140.000000\" y=\"60.000000\" font-size=\"1.0rem\" font-weight=\"100\" text-anchor=\"middle\" transform=\"rotate(0,140.000000,60.000000)\">14</text>\n",
       "</svg>\n",
       "        </td>\n",
       "    </tr>\n",
       "</table>"
      ],
      "text/plain": [
       "dask.array<mean_agg-aggregate, shape=(14, 14), dtype=float32, chunksize=(2, 2), chunktype=numpy.ndarray>"
      ]
     },
     "execution_count": 11,
     "metadata": {},
     "output_type": "execute_result"
    }
   ],
   "source": [
    "detector = abtem.AnnularDetector(inner=65, outer=200)\n",
    "\n",
    "haadf_images = detector.detect(exit_waves_stem).reduce_ensemble()\n",
    "\n",
    "haadf_images.array"
   ]
  },
  {
   "cell_type": "markdown",
   "id": "c8167e51-1e8b-408d-9e08-ad00b6966ad5",
   "metadata": {
    "pycharm": {
     "name": "#%% md\n"
    },
    "tags": []
   },
   "source": [
    "## Schedulers\n",
    "\n",
    "After generating a task graph, it needs to be executed on (parallel) hardware. This is the job of a [task scheduler](https://docs.dask.org/en/stable/scheduler-overview.html). Dask provides several *task schedulers*: each of which will compute a task graph and give the same result, but with different performance characteristics.\n",
    "\n",
    "Every time you call the `compute` method a Dask scheduler is used. We adopt the default Dask scheduler configuration and every keyword argument used with the `compute` method in *ab*TEM is forwarded to the Dask `compute` function. \n",
    "\n",
    "### Local scheduler\n",
    "\n",
    "The default scheduler is the [`ThreadPoolExecutor`](https://docs.dask.org/en/stable/scheduling.html#local-threads). As an example of a keyword argument, the threaded scheduler takes `num_workers`, which sets the number of threads to use (by default, up to the number of computing cores). Let's run compute with 8 workers."
   ]
  },
  {
   "cell_type": "code",
   "execution_count": 12,
   "id": "4c507a96-5a6d-4e55-8775-200f66e26459",
   "metadata": {
    "tags": [
     "skip-test"
    ]
   },
   "outputs": [
    {
     "name": "stdout",
     "output_type": "stream",
     "text": [
      "[########################################] | 100% Completed | 21.65 s\n"
     ]
    },
    {
     "data": {
      "text/plain": [
       "<abtem.measurements.Images at 0x7fa21c6fb8b0>"
      ]
     },
     "execution_count": 12,
     "metadata": {},
     "output_type": "execute_result"
    }
   ],
   "source": [
    "haadf_images = detector.detect(exit_waves_stem).reduce_ensemble()\n",
    "\n",
    "haadf_images.compute(scheduler=\"threads\", num_workers=8)"
   ]
  },
  {
   "cell_type": "markdown",
   "id": "168c4090-255a-4705-85a8-afbf74c6320e",
   "metadata": {},
   "source": [
    "We can change the scheduler to using the `ProcessPoolExecutor` as below.\n",
    "\n",
    "```python\n",
    "haadf_images = detector.detect(exit_waves_stem).compute(scheduler=\"processes\", num_workers=4)\n",
    "```\n",
    "\n",
    "Using `abtem.config.set` the scheduler can be set either as a context manager or globally.\n",
    "```python\n",
    "# As a context manager\n",
    "with abtem.config.set(scheduler=\"processes\"):\n",
    "    haadf_images.compute()\n",
    "\n",
    "# Set globally\n",
    "abtem.config.set(scheduler=\"processes\")\n",
    "haadf_images.compute()\n",
    "```"
   ]
  },
  {
   "cell_type": "markdown",
   "id": "675a4c6c-338c-4c3a-90e2-8ad79ed63dd4",
   "metadata": {},
   "source": [
    "### Profiling"
   ]
  },
  {
   "cell_type": "markdown",
   "id": "945988ec-0d2b-422a-a84c-32f10d5a63af",
   "metadata": {},
   "source": [
    "To improve performance, we have to be able to profile it. Profiling parallel code can be challenging, but Dask provides functionality to aid in this and inspecting execution. The diagnostic tools are however quite different depending on whether you use a local or distributed scheduler.\n",
    "\n",
    "Dask allows local diagnostics by adding callbacks that collect information about your code execution. You can use the profilers as a context manager as described in the [Dask documentation](https://docs.dask.org/en/stable/diagnostics-local.html). For convenience, the *ab*TEM `compute` methods also implement keywords for adding Dask profilers.\n",
    "\n",
    "Below we use the [`Profiler`](https://docs.dask.org/en/stable/diagnostics-local.html#profiler) to monitor task execution by setting `profiler=True` and a [`ResourceProfiler`](https://docs.dask.org/en/stable/diagnostics-local.html#resourceprofiler) to monitor the CPU usage and memory consumption by setting `resource_profiler=True`. We rerun the simulation above with these profilers. "
   ]
  },
  {
   "cell_type": "code",
   "execution_count": 13,
   "id": "56cb3754-6cde-4f83-b058-6014356cefaf",
   "metadata": {
    "tags": [
     "skip-test"
    ]
   },
   "outputs": [
    {
     "name": "stdout",
     "output_type": "stream",
     "text": [
      "[########################################] | 100% Completed | 21.66 s\n"
     ]
    }
   ],
   "source": [
    "haadf_images = detector.detect(exit_waves_stem).reduce_ensemble()\n",
    "\n",
    "haadf_images, profilers = haadf_images.compute(profiler=True, resource_profiler=True)"
   ]
  },
  {
   "cell_type": "markdown",
   "id": "a3b63fd8-4e8b-4842-9c15-2fa8787da397",
   "metadata": {},
   "source": [
    "To display the results Dask uses the [Bokeh plotting library](https://bokeh.org/) (which is installed together with Dask). To display the plots in a Jupyter notebook we need to run the commands below."
   ]
  },
  {
   "cell_type": "markdown",
   "id": "89a100cb-9792-45bb-b855-42b53fb9db83",
   "metadata": {},
   "source": [
    "We first show the result from the `Profiler` object: This shows the execution time for each task as a rectangle, organized along the vertical axis by worker (in this case threads), and where white space represents times the worker was idle. The task types are grouped by color and, by hovering over each task, one can see the key and task that each block represents. For this calculation there is only one significant task shown in yellow; this encompasses building the wave function, running the multislice algorithm (calculating the potential on demand), and calculating and integrating the diffraction patterns. "
   ]
  },
  {
   "cell_type": "code",
   "execution_count": 14,
   "id": "0a420e98-6235-4e01-b079-fe34d913a436",
   "metadata": {
    "tags": [
     "skip-test"
    ]
   },
   "outputs": [
    {
     "data": {
      "text/html": [
       "\n",
       "  <div id=\"b00102f0-b43f-4bae-8a14-f961382df65d\" data-root-id=\"p1001\" style=\"display: contents;\"></div>\n"
      ]
     },
     "metadata": {},
     "output_type": "display_data"
    },
    {
     "data": {
      "application/javascript": [
       "(function(root) {\n",
       "  function embed_document(root) {\n",
       "  const docs_json = {\"634eab61-39a3-4183-af35-8bdb4065a0a6\":{\"version\":\"3.2.2\",\"title\":\"Bokeh Application\",\"roots\":[{\"type\":\"object\",\"name\":\"Figure\",\"id\":\"p1001\",\"attributes\":{\"width\":800,\"height\":300,\"x_range\":{\"type\":\"object\",\"name\":\"Range1d\",\"id\":\"p1011\",\"attributes\":{\"end\":22.541006301995367}},\"y_range\":{\"type\":\"object\",\"name\":\"FactorRange\",\"id\":\"p1012\",\"attributes\":{\"factors\":[\"0\",\"1\",\"2\",\"3\",\"4\",\"5\",\"6\",\"7\"]}},\"x_scale\":{\"type\":\"object\",\"name\":\"LinearScale\",\"id\":\"p1013\"},\"y_scale\":{\"type\":\"object\",\"name\":\"CategoricalScale\",\"id\":\"p1014\"},\"title\":{\"type\":\"object\",\"name\":\"Title\",\"id\":\"p1004\",\"attributes\":{\"text\":\"Profile Results\"}},\"renderers\":[{\"type\":\"object\",\"name\":\"GlyphRenderer\",\"id\":\"p1039\",\"attributes\":{\"data_source\":{\"type\":\"object\",\"name\":\"ColumnDataSource\",\"id\":\"p1030\",\"attributes\":{\"selected\":{\"type\":\"object\",\"name\":\"Selection\",\"id\":\"p1031\",\"attributes\":{\"indices\":[],\"line_indices\":[]}},\"selection_policy\":{\"type\":\"object\",\"name\":\"UnionRenderers\",\"id\":\"p1032\"},\"data\":{\"type\":\"map\",\"entries\":[[\"width\",[0.004036415833979845,0.003239563899114728,0.003116444917395711,0.0031530680134892464,0.00191683997400105,0.035485509084537625,0.050254123052582145,0.06034508580341935,0.9089824422262609,0.8737212270498276,0.9722649799659848,0.9224442089907825,0.8608592778909951,0.8829127110075206,0.8886902621015906,0.8843454369343817,0.0016140800435096025,0.8653504559770226,0.0029458459466695786,0.8668518818449229,0.010265841847285628,0.024028138956055045,0.9022705520037562,0.022576100192964077,0.00903818104416132,0.01605186308734119,0.036446694983169436,0.8884666359517723,0.8855415610596538,0.8505213600583375,0.013060718076303601,0.00668944395147264,0.7593446138780564,0.03401382500305772,0.8549692980013788,0.015822694869711995,0.015068916836753488,0.8413515540305525,0.021954593947157264,0.8811752879992127,0.8540493180043995,0.005617235088720918,0.8365547568537295,0.015775027219206095,0.007300575962290168,0.021122336853295565,0.8074218248948455,0.9384836980607361,0.9042717120610178,0.00608658604323864,0.8039970300160348,0.002882431959733367,0.9351051831617951,0.003314418951049447,0.8601894821040332,0.02016964601352811,0.02667192299850285,0.033279585884884,0.8967895999085158,0.8728976109996438,0.8492965560872108,0.036715507972985506,0.868750398978591,0.01729492307640612,0.7975957710295916,0.014577460009604692,0.8261126088909805,0.0007811740506440401,0.775612325174734,0.009131316794082522,0.002298949984833598,0.7557457778602839,0.998736792942509,0.01418011193163693,0.007292804075405002,0.8432761779986322,0.7919938310515136,0.017979220021516085,0.0021662029903382063,0.7035938280168921,0.7807392261456698,0.0068863751366734505,0.7341996559407562,0.0032802110072225332,0.9522802780847996,0.003286115126684308,1.0796255911700428,0.017792126862332225,1.0614763689227402,0.005115544889122248,0.004009416094049811,1.0435265719424933,0.9551951470784843,0.013331562979146838,0.9660980680491775,0.015026836190372705,0.919306379975751,0.0010054868180304766,0.899471262935549,0.0007818320300430059,1.003935136133805,0.005968101089820266,0.9375417421106249,0.015890245093032718,0.9424931691028178,0.0223799969535321,0.01561361993663013,0.017766403034329414,0.8414459531195462,0.9683588219340891,0.9344426509924233,0.062190979020670056,0.059437616961076856,0.8565929578617215,0.8822895230259746,0.004401031183078885,0.0012486109044402838,0.9230849321465939,0.9341065969783813,0.003674863837659359,0.8335572839714587,0.005210532806813717,0.919082866050303,0.02954742801375687,0.07374525489285588,0.878161643864587,0.04662959394045174,0.027452873066067696,0.8971306839957833,0.9076203529257327,0.8145743301138282,0.0010363690089434385,0.0014587589539587498,0.9486551659647375,0.0011457449290901423,0.0008630929514765739,0.9370297980494797,0.020663573872298002,0.004143866011872888,0.9021703719627112,0.0023531389888375998,0.0027838509995490313,0.004071499919518828,0.031181094935163856,0.951808821875602,0.043833076022565365,0.9293422740884125,0.002083247061818838,0.8739187999162823,0.0009882450103759766,0.0030754900071769953,0.8923746838700026,0.01978548406623304,0.002378786914050579,0.916812184965238,0.002133146859705448,0.007293994072824717,0.8640569359995425,0.004609165946021676,0.005787343950942159,0.002250037156045437,0.0015432809013873339,0.8638723650947213,0.9459097411017865,0.012434215052053332,0.01449695904739201,0.015191175043582916,0.8498671920970082,0.01834914507344365,0.026629371102899313,0.03735540993511677,0.05900966306217015,0.8004121980629861,0.030797640094533563,0.02904461696743965,0.8688356119673699,0.8638953238260001,0.017313120886683464,0.815710682189092,0.00431530294008553,0.0022547689732164145,0.8471849919296801,0.0007432990241795778,0.0012979619204998016,0.811361210886389,0.0007134019397199154,0.0006508799269795418,0.8079772698692977,0.02585393819026649,0.036178627982735634,0.029801954049617052,0.018978434149175882,0.7679289630614221,0.7301128539256752,0.017768196994438767,0.0028048770036548376,0.0023449361324310303,0.002718198113143444,0.002966474974527955,0.010006434051319957,0.8127862319815904,0.7857589239720255,0.782254250952974,0.008431389927864075,0.0029728179797530174,0.014066332951188087,0.7606657079886645,0.008751051966100931,0.7815223429352045,0.005359533941373229,0.0034427610225975513,0.004825495183467865,0.007739274995401502,0.748105765786022,0.7431913120672107,0.013679223833605647,0.00836549699306488,0.7328175730071962,0.0010348111391067505,0.003733548801392317,0.0012230111751705408,0.735206866171211,0.011684050085023046,0.7159371459856629,0.018834429094567895,0.005587550112977624,0.6887402560096234,0.006941121071577072,0.0009192409925162792,0.7881730259396136,0.0020892429165542126,0.0102861940395087,0.010452265851199627,0.013004970969632268,0.005325341131538153,0.024713028920814395,0.7768582990393043,0.8706158848945051,0.02185623999685049,0.8147415979765356,0.01338087604381144,0.7853949319105595,0.009993926156312227,0.006448747823014855,0.006835930980741978,0.005172756966203451,0.0038887138944119215,0.009179351152852178,0.7716488121077418,0.7672263290733099,0.7787669959943742,0.0012405598536133766,0.0008461889810860157,0.8177663998212665,0.0008747039828449488,0.0008172639645636082,0.7310518531594425,0.00864202599041164,0.0036435991059988737,0.010234619025141,0.011114249937236309,0.011358059011399746,0.031050614081323147,0.024604477919638157,0.7655632570385933,0.7277144079562277,0.01842685486190021,0.012229665881022811,0.01853244611993432,0.736103979870677,0.017169919097796082,0.018879904877394438,0.7677878690883517,0.7623986341059208,0.7103595929220319,0.0024022001307457685,0.0016187981236726046,0.0009743878617882729,0.7990017619449645,0.0014979420229792595,0.0026001131627708673,0.004010516917333007,0.7985482078511268,0.01022599684074521,0.014916584128513932,0.009935436071828008,0.014250857988372445,0.013973972061648965,0.815328658092767,0.02478992217220366,0.8408457001205534,0.8629890338052064,0.022126995027065277,0.00926497601903975,0.006234784843400121,0.012645648093894124,0.782665987033397,0.7682722238823771,0.729037961922586,0.0019570239819586277,0.8077166201546788,0.004667290952056646,0.8123823520727456,0.0010240839328616858,0.8200470681767911,0.003340044990181923,0.7985502979718149,0.014965251088142395,0.005160303087905049,0.7887402221094817,0.8307730839587748,0.01524729491211474,0.7560141149442643,0.010182952973991632,0.7940577510744333,0.0012264749966561794,0.8105507120490074,0.006596443010494113,0.7436520960181952,0.011354389833286405,0.02006941311992705,0.017289560986682773,0.8373202388174832,0.030625248095020652,0.8573159009683877,0.8478832740802318,0.8123417610768229,0.012066841125488281,0.0038182148709893227,0.8273828269448131,0.8763656399678439,0.0021751970052719116,0.006357360864058137,0.8277525790035725,0.7869437439367175,0.007576431846246123,0.012565759010612965,0.8284768350422382,0.7452680750284344,0.02312523010186851,0.016594660934060812,0.02372615714557469,0.7302382050547749,0.7469940229784697,0.7004339869599789,0.0024544859770685434,0.7650882638990879,0.0008012829348444939,0.7192276979330927,0.0015843079891055822,0.7452257859986275,0.01337324595078826,0.02663138904608786,0.766901055118069,0.019002509070560336,0.012564267963171005,0.7346610808745027,0.7818377979565412,0.7329067611135542,0.0025525419041514397,0.7061510169878602,0.005506718065589666,0.6452467630151659,0.0024185439106076956,0.7698091631755233,0.0023305679205805063,0.7127330959774554,0.003984513925388455,0.6750982750672847,0.011844100197777152,0.002455058041960001,0.011128100799396634,0.022433201083913445,0.7338028941303492,0.776789593975991,0.756739716976881,0.7191079070325941,0.01354570291005075,0.7093731658533216,0.0052283830009400845,0.0016532719600945711,0.0017108980100601912,0.0019878740422427654,0.0030996811110526323,0.004551658174023032,0.7127901080530137,0.747381302062422,0.002360173035413027,0.001114415004849434,0.000744975870475173,0.7156957751139998,0.00665690004825592,0.0012854400556534529,0.0010380169842392206,0.0009312520269304514,0.0007957629859447479,0.7493595930282027,0.015232820063829422,0.7391746218781918,0.015321088023483753,0.013835655059665442,0.007763406028971076,0.005737665109336376,0.002838196000084281,0.005086092045530677,0.00580462790094316,0.014988248003646731,0.6984473830088973,0.018206188920885324,0.7007326330058277,0.6660791200120002,0.0010909438133239746,0.0032082160469144583,0.0010666840244084597,0.8239629119634628,0.0007672931533306837,0.012867571786046028,0.0031935900915414095,0.0011466729920357466,0.0013246589805930853,0.7809792018961161,0.009549287147819996,0.7909930220339447,0.014203449944034219,0.009085753001272678,0.012835717992857099,0.008506980026140809,0.0070200469344854355,0.004915923811495304,0.007388798054307699,0.0088122240267694,0.00922342506237328,0.02293380000628531,0.028959946939721704,0.03528356202878058,0.7871351200155914,0.03640190605074167,0.7880270320456475,0.015643056016415358,0.014187274035066366,0.8285331029910594,0.7798988521099091,0.7508039590902627,0.003195936093106866,0.0015283918473869562,0.006674675038084388,0.00808642408810556,0.011973314918577671,1.1558029290754348,0.006845660042017698,0.0008162530139088631,0.0022147621493786573,0.003243729006499052,1.0965788010507822,1.167367786867544,0.01768960105255246,0.007492118049412966,0.003301881020888686,0.004265000112354755,0.010821480071172118,0.026933516142889857,0.025699482997879386,0.01871843310073018,0.02516173291951418,0.016982146073132753,1.2769295980688184,1.1617355439811945,0.03207999584265053,1.2258123680949211,0.0396737358532846,0.050965490052476525,0.0069257470313459635,0.0019739768467843533,1.1936255290638655,1.1281565269455314,0.0023367959074676037,0.0017495730426162481,0.0012850859202444553,1.1611630280967802,0.0037630528677254915,0.0017089310567826033,0.0028582809027284384,1.171674788929522,0.004603279056027532,0.002317067002877593,0.00284494087100029,1.1538104719948024,0.001452574972063303,0.0023960608523339033,0.003719910979270935,1.23404843499884,0.023949302034452558,0.03236635588109493,0.03130569099448621,0.005391372134909034,0.00505030108615756,0.005955698899924755,0.007903924910351634,0.014424210879951715,0.014334778999909759,1.029600203037262,0.011265396839007735,0.01038397685624659,1.0996467708609998,0.030165357049554586,1.0802647368982434,1.0831383059266955,0.0030567769426852465,0.0023245590273290873,0.009514983976259828,0.7765168168116361,0.003298424184322357,0.002189246006309986,0.007993098814040422,0.01379178510978818,0.7521339741069824,0.00571284000761807,0.002988381078466773,0.7239863821305335,0.0026532199699431658,0.014475864823907614,0.0022531189024448395,0.6860304740257561,0.012198833050206304,0.00473019084893167,0.002707518870010972,0.0048127309419214725,0.005071172025054693,0.00653697201050818,0.006212005857378244,0.002254549879580736,0.004358015954494476,0.0055338009260594845,0.006089197006076574,0.0032308490481227636,0.0017322648782283068,0.002920635975897312,0.0023061258252710104,0.003076807828620076,0.004036742961034179,0.0011903590057045221,0.0014209139626473188,0.0018341848626732826,0.0028959030751138926,0.0008243531920015812,0.0007886600214987993,0.0009407280012965202]],[\"x\",[0.07142952200956643,0.07236635289154947,0.07276837038807571,0.07309678592719138,0.07441498176194727,0.09173605940304697,0.09946332057006657,0.10485235997475684,0.5298730069771409,0.5126088075339794,0.5621682859491557,0.5376831435132772,0.5071266980376095,0.5509433026891202,0.5689450199715793,0.5772056754212826,0.9383790770079941,1.3718738560564816,0.9509500509593636,1.3858566221315414,0.9895098151173443,1.0044235882814974,1.4457845620345324,1.0102023009676486,1.0178181463852525,1.0244719495531172,1.0376114912796766,1.4657328708563,1.4651154153980315,1.4577674309257418,1.054839963791892,1.0591884541790932,1.441051754867658,1.0795484345871955,1.5240485570393503,1.8124758775811642,1.8268297396134585,2.2410720258485526,1.8317081967834383,2.2749610198661685,2.2697207999881357,1.8858475813176483,2.306946621509269,1.9048209604807198,1.9115462477784604,1.9205338924657553,2.316430520499125,2.3844476190861315,2.3832391230389476,1.9545857680495828,2.359635833883658,2.663200815906748,3.132207724498585,2.698412332450971,3.1301747299730778,2.7256448708940297,2.733486326644197,2.7418777521234006,3.184135474031791,3.1832809385377914,3.183174433885142,2.7800018989946693,3.232744429493323,2.8440385435242206,3.2514951603952795,2.8609862849116325,3.281342559494078,3.5606734429020435,3.9488796365913004,3.604333914583549,3.608981341822073,3.986783022992313,4.109508142573759,3.6268277599010617,3.6361839978490025,4.055564373964444,4.035839633317664,3.6592927479650825,3.668212207267061,4.0200881387572736,4.0596728750970215,3.6978551684878767,4.068409355124459,4.3383382053580135,4.816129675833508,4.366311248624697,4.9077769834548235,4.38079018262215,4.9204344605095685,4.434405178530142,4.437520102830604,4.958735830849037,4.917128952452913,4.456716472515836,4.946439393097535,4.48472835496068,4.951907024951652,4.609390017343685,5.059637453407049,5.29267090302892,5.795036263065413,5.39772419561632,5.869490036042407,5.419511903310195,5.898714730516076,5.440687866648659,5.4554063740652055,5.460064997430891,5.872609335463494,5.947404619073495,5.9361789675895125,5.5116051256190985,5.539102112641558,5.971007023938,6.009977329289541,6.295546678593382,6.297656122362241,6.759298924123868,6.765341640682891,6.340109932003543,6.758736212039366,6.372579918475822,6.8347386450041085,6.414089197991416,6.440284034470096,6.86795777012594,6.454923467943445,6.4648608304560184,6.925733362091705,6.932057548547164,6.88588210195303,7.17604579241015,7.1773051104974,7.652371995849535,7.221426780568436,7.222441144520417,7.691399765899405,7.242736543994397,7.255153111880645,7.708320358069614,7.294360218336806,7.295679006492719,7.297580897109583,7.312670374521986,7.775529921986163,7.328965032938868,7.792944086017087,7.351934542413801,7.789945326047018,7.3748039833735675,7.376845122082159,7.824583019828424,7.395769939059392,7.406860826537013,7.86646508355625,8.12777758645825,8.132501933025196,8.56818938604556,8.161719499854371,8.162814534036443,8.165160300442949,8.166490041418001,8.598227890441194,8.640224675415084,8.233130858512595,8.246608666377142,8.259041491430253,8.678802019916475,8.266798872500658,8.279958833474666,8.289457896957174,8.30548758036457,8.693489762954414,8.323549077147618,8.339408135507256,8.769421752775088,8.770905156852677,8.36259590042755,8.779120372841135,9.002387029351667,9.005679547553882,9.430409651016816,9.03054580767639,9.031575286993757,9.437915625516325,9.094063383061439,9.094752517994493,9.499074019957334,9.116669684881344,9.131278875982389,9.14451618399471,9.158867880003527,9.543390182545409,9.53342414391227,9.195869168499485,9.204264828702435,9.205019359942526,9.206119735958055,9.20715730660595,9.211202489910647,9.613880016142502,9.601526960963383,9.607343209674582,9.847820811904967,9.853532670997083,9.861044448567554,10.23536005592905,9.872464440995827,10.267613109434023,9.901172899873927,9.904792960500345,9.906273362459615,9.910394726553932,10.282747884979472,10.285870535997674,9.934203503886238,9.945237732492387,10.315841586561874,9.994935909518972,9.99732819548808,9.999089158372954,10.366806281963363,10.005550469039008,10.369369609979913,10.029696840560064,10.041917260037735,10.38909186120145,10.619174107443541,10.623115684371442,11.017672695918009,10.657857940532267,10.662617195164785,10.663608049973845,10.66541301435791,10.67042954149656,10.681198767619208,11.06035104044713,11.108407985651866,10.69318520789966,11.100933356909081,10.710812296019867,11.110213165869936,10.732341649010777,10.736693553859368,10.737834895495325,10.739935051416978,10.741872986080125,10.745851911371574,11.128355036955327,11.127439338481054,11.13983258814551,11.412393053993583,11.413445841521025,11.822761567076668,11.44922945392318,11.450085033895448,11.816043076338246,11.50724184489809,11.5101366576273,11.51618074439466,11.517128163948655,11.517644863575697,11.529710375936702,11.533607007935643,11.905473545426503,11.887187098851427,11.538436052622274,11.549841882893816,11.554508256958798,11.913970299996436,11.556243241531774,11.56540415645577,11.94767469749786,11.946033061016351,11.930034480523318,12.1827858958859,12.184806157136336,12.186113290023059,12.58611211902462,12.232407971983775,12.234466459369287,12.237785074627027,12.63907572790049,12.256168162450194,12.26875023287721,12.281187499174848,12.289158878149465,12.292212172178552,12.693827169016004,12.300657889107242,12.716717013856396,12.73070301511325,12.324125946499407,12.331874861149117,12.3346970283892,12.341522604925558,12.727849430404603,12.721959820017219,12.712371292989701,12.986604199046269,13.391452322946861,13.040692965500057,13.449228602927178,13.07741465815343,13.487959124846384,13.103174043586478,13.504128101048991,13.113587783416733,13.121772223385051,13.515538228908554,13.539751661010087,13.144770512590185,13.530422418611124,13.167299876455218,13.569430667441338,13.79593739239499,14.201836290070787,13.858728172490373,14.233863478060812,13.90367141389288,13.913447541417554,13.917081214254722,14.328017727471888,13.925229042069986,14.352151427650824,14.349674807162955,14.34672184032388,13.961179737467319,13.96837630844675,14.380912780528888,14.408478970872238,14.60678602848202,14.610300473636016,15.021758690476418,15.00696446490474,14.750481445109472,14.759187369374558,15.16851955652237,15.138114134548232,14.78518840787001,14.789115613559261,14.806477083591744,15.161879778606817,15.17091839457862,15.168568722670898,14.84789942088537,15.231681169942021,15.400849629426375,15.760872966842726,15.436439154902473,15.809855409199372,15.517447565915063,15.532112049637362,15.907595036318526,15.536506391363218,15.550706695998088,15.912766702473164,15.936933844117448,15.923452384537086,15.58404419803992,15.938407357549295,15.61699194391258,15.942382802488282,16.121707409853116,16.5078319394961,16.183647365076467,16.541191586991772,16.26700829504989,16.606560197426006,16.286031199852005,16.29114002501592,16.296618512598798,16.302708817413077,16.65886257099919,16.680770474951714,16.680558586493134,16.673488064436242,16.334633480524644,16.69610330602154,16.895364488475025,16.89839481911622,16.898841881891713,16.900224481942132,16.9012562984135,16.903505155118182,17.259210301795974,17.279480529017746,16.94530292553827,16.947049690410495,16.9479887180496,17.306218836456537,17.029102033935487,17.033081006025895,17.03356744744815,17.03419548016973,17.0344893054571,17.409346249653026,17.042507976992056,17.419721288839355,17.0584565079771,17.06585315754637,17.070007750065997,17.072044947417453,17.07420286280103,17.07644263491966,17.077824069885537,17.083123072749004,17.428215499501675,17.089837516425177,17.440991929499432,17.43198807979934,17.616159141995013,17.618316010804847,17.62046013888903,18.0329844430089,17.653567447559908,17.660393923986703,17.665672314120457,17.667410584399477,17.667939685517922,18.058482071151957,17.67338526644744,18.073664218885824,17.77214379585348,17.781992202391848,17.78567223600112,17.788287714822218,17.790053848410025,17.791774678975344,17.79506232496351,17.796504724072292,17.797161234309897,17.805038012797013,17.808720626635477,17.816405981080607,18.194488561013713,17.819982843939215,18.210527419811115,17.831029433989897,17.841149129904807,18.25245872954838,18.22880768100731,18.223654014524072,18.44657635805197,18.44894592813216,18.4523198956158,18.453761014854535,18.461651673540473,19.035713211400434,18.471068817889318,18.469574948539957,18.471096522873268,18.473836085526273,19.022789357462898,19.059150820365176,18.596915021538734,18.602812744909897,18.60620183334686,18.607900290982798,18.6119789511431,18.6213290898595,18.622891400707886,18.626758782425895,18.631346490466967,18.643296438036487,19.27421393082477,19.216992601985112,18.65997788705863,19.264704131986946,18.686571208992973,18.701511833118275,18.709881456336007,18.714342762483284,19.312155827647075,19.291085369419307,19.57226050295867,19.574314588448033,19.5758422750514,20.15707903704606,19.615508238552138,19.618254863424227,19.620548338396475,20.207824657438323,19.645149616291746,19.648618551669642,19.651209180476144,20.229549534851685,19.79859836748801,19.800532698398456,19.803599490551278,20.422493875492364,19.867150175152346,19.893803793936968,19.89478548965417,19.911676434101537,19.912519671488553,19.913423945428804,19.916639225324616,19.921592379454523,19.922220298321918,20.431214354466647,19.926232908619568,19.934005482355133,20.479218910448253,19.94695894839242,20.479341007536277,20.503621639916673,20.739201594376937,20.74190227757208,20.74783253413625,21.140861394582316,20.795325299957767,20.798085806891322,20.80318939848803,20.813362842425704,21.18326305388473,20.82312628882937,20.827484028646722,21.190983833977953,20.9473542671185,20.9559296334628,20.96430670749396,21.308461549924687,21.025584308663383,21.031418919330463,21.033049343386665,21.0361992334947,21.036948239896446,21.041886314051226,21.04263106593862,21.046324976952747,21.04792365990579,21.05023049749434,21.053158624563366,21.054622871568426,21.52999780862592,21.532335106050596,21.534959073876962,21.554528585867956,21.558095606276765,21.55993492458947,21.560832711169496,21.561455524526536,21.563831244362518,21.651902111480013,21.652718250872567,21.653593245893717]],[\"y\",[7,8,8,8,7,8,8,7,1,5,7,8,6,4,2,3,6,6,5,5,1,1,4,1,2,3,8,3,1,8,2,2,7,2,2,5,5,5,7,6,7,8,4,1,1,1,3,8,1,2,2,5,5,7,7,6,4,3,6,2,4,3,3,1,1,8,8,7,7,5,4,6,5,2,2,2,1,3,3,3,4,8,8,7,7,6,6,3,3,1,1,1,4,8,2,8,8,5,5,7,7,4,4,8,8,6,2,2,2,3,5,6,6,6,1,2,2,2,7,4,4,8,8,6,6,6,5,3,1,3,5,4,4,4,2,2,7,2,2,2,5,5,8,6,5,8,8,6,6,1,1,3,1,1,1,4,4,4,2,2,2,7,7,2,6,5,5,8,6,3,6,5,3,5,1,5,1,6,6,4,4,4,7,7,7,3,3,3,8,8,8,8,8,6,2,5,1,2,5,5,1,2,5,7,7,7,7,4,4,6,6,3,3,8,3,6,6,6,2,5,5,2,5,5,1,1,1,7,7,7,8,4,3,8,4,3,4,8,6,6,3,3,5,2,5,2,1,5,2,1,5,7,7,7,4,4,4,1,1,2,2,6,3,2,5,1,3,2,3,8,6,3,2,6,3,4,4,4,4,7,7,7,7,1,1,1,5,5,1,5,3,5,6,8,2,6,8,2,6,4,4,7,7,6,6,1,1,8,8,8,3,2,5,2,2,4,4,7,7,6,5,1,5,8,3,2,1,8,8,8,6,7,7,7,4,1,1,1,5,8,2,3,3,2,8,6,6,4,4,7,7,8,8,5,2,3,2,3,8,1,1,6,6,4,4,7,7,6,2,6,5,6,5,1,8,6,5,3,3,7,7,7,7,7,4,4,7,2,2,2,2,1,1,1,1,1,1,5,5,3,8,3,6,8,8,6,8,3,6,6,8,4,4,4,4,7,2,2,2,2,2,7,7,8,8,1,5,3,1,5,3,1,5,3,1,8,3,1,6,5,5,3,6,4,4,4,4,4,4,2,7,7,7,2,7,1,6,8,1,6,3,1,6,1,1,1,8,5,5,6,6,3,3,3,6,2,2,2,2,4,4,4,4,7,7,7,7,8,8,8,8,5,3,3,6,1,6,3,3,1,1,5,3,3,5,5,6,2,2,2,2,4,4,7,7,7,4,4,4,1,1,1,1,5,5,5,3,3,3,5,3,3,8,6,6,3,6,2,8,5,2,3,3,4,5,8,4]],[\"function\",[\"getitem(_wrap_with_array(..., ...), *)\",\"getitem(_wrap_with_array(..., ...), *)\",\"getitem(_wrap_with_array(..., ...), *)\",\"getitem(_wrap_with_array(..., ...), *)\",\"_\",\"_\",\"_\",\"_\",\"subgraph_callable-61592f42-1ea1-4c05-8af6-6bc624f0(subgraph_callable-541e934a-8d7a-4355-9923-9b3d31ba(...))\",\"subgraph_callable-61592f42-1ea1-4c05-8af6-6bc624f0(subgraph_callable-541e934a-8d7a-4355-9923-9b3d31ba(...))\",\"subgraph_callable-61592f42-1ea1-4c05-8af6-6bc624f0(subgraph_callable-541e934a-8d7a-4355-9923-9b3d31ba(...))\",\"subgraph_callable-61592f42-1ea1-4c05-8af6-6bc624f0(subgraph_callable-541e934a-8d7a-4355-9923-9b3d31ba(...))\",\"subgraph_callable-61592f42-1ea1-4c05-8af6-6bc624f0(subgraph_callable-541e934a-8d7a-4355-9923-9b3d31ba(...))\",\"subgraph_callable-61592f42-1ea1-4c05-8af6-6bc624f0(subgraph_callable-541e934a-8d7a-4355-9923-9b3d31ba(...))\",\"subgraph_callable-61592f42-1ea1-4c05-8af6-6bc624f0(subgraph_callable-541e934a-8d7a-4355-9923-9b3d31ba(...))\",\"subgraph_callable-61592f42-1ea1-4c05-8af6-6bc624f0(subgraph_callable-541e934a-8d7a-4355-9923-9b3d31ba(...))\",\"_\",\"subgraph_callable-61592f42-1ea1-4c05-8af6-6bc624f0(subgraph_callable-541e934a-8d7a-4355-9923-9b3d31ba(...))\",\"_\",\"subgraph_callable-61592f42-1ea1-4c05-8af6-6bc624f0(subgraph_callable-541e934a-8d7a-4355-9923-9b3d31ba(...))\",\"_\",\"_\",\"subgraph_callable-61592f42-1ea1-4c05-8af6-6bc624f0(subgraph_callable-541e934a-8d7a-4355-9923-9b3d31ba(...))\",\"_\",\"_\",\"mean_combine([_, _])\",\"_\",\"subgraph_callable-61592f42-1ea1-4c05-8af6-6bc624f0(subgraph_callable-541e934a-8d7a-4355-9923-9b3d31ba(...))\",\"subgraph_callable-61592f42-1ea1-4c05-8af6-6bc624f0(subgraph_callable-541e934a-8d7a-4355-9923-9b3d31ba(...))\",\"subgraph_callable-61592f42-1ea1-4c05-8af6-6bc624f0(subgraph_callable-541e934a-8d7a-4355-9923-9b3d31ba(...))\",\"_\",\"mean_combine([_, _])\",\"subgraph_callable-61592f42-1ea1-4c05-8af6-6bc624f0(subgraph_callable-541e934a-8d7a-4355-9923-9b3d31ba(...))\",\"mean_agg([_, _])\",\"subgraph_callable-61592f42-1ea1-4c05-8af6-6bc624f0(subgraph_callable-541e934a-8d7a-4355-9923-9b3d31ba(...))\",\"_\",\"_\",\"subgraph_callable-61592f42-1ea1-4c05-8af6-6bc624f0(subgraph_callable-541e934a-8d7a-4355-9923-9b3d31ba(...))\",\"_\",\"subgraph_callable-61592f42-1ea1-4c05-8af6-6bc624f0(subgraph_callable-541e934a-8d7a-4355-9923-9b3d31ba(...))\",\"subgraph_callable-61592f42-1ea1-4c05-8af6-6bc624f0(subgraph_callable-541e934a-8d7a-4355-9923-9b3d31ba(...))\",\"_\",\"subgraph_callable-61592f42-1ea1-4c05-8af6-6bc624f0(subgraph_callable-541e934a-8d7a-4355-9923-9b3d31ba(...))\",\"_\",\"_\",\"_\",\"subgraph_callable-61592f42-1ea1-4c05-8af6-6bc624f0(subgraph_callable-541e934a-8d7a-4355-9923-9b3d31ba(...))\",\"subgraph_callable-61592f42-1ea1-4c05-8af6-6bc624f0(subgraph_callable-541e934a-8d7a-4355-9923-9b3d31ba(...))\",\"subgraph_callable-61592f42-1ea1-4c05-8af6-6bc624f0(subgraph_callable-541e934a-8d7a-4355-9923-9b3d31ba(...))\",\"_\",\"subgraph_callable-61592f42-1ea1-4c05-8af6-6bc624f0(subgraph_callable-541e934a-8d7a-4355-9923-9b3d31ba(...))\",\"_\",\"subgraph_callable-61592f42-1ea1-4c05-8af6-6bc624f0(subgraph_callable-541e934a-8d7a-4355-9923-9b3d31ba(...))\",\"_\",\"subgraph_callable-61592f42-1ea1-4c05-8af6-6bc624f0(subgraph_callable-541e934a-8d7a-4355-9923-9b3d31ba(...))\",\"_\",\"_\",\"_\",\"subgraph_callable-61592f42-1ea1-4c05-8af6-6bc624f0(subgraph_callable-541e934a-8d7a-4355-9923-9b3d31ba(...))\",\"subgraph_callable-61592f42-1ea1-4c05-8af6-6bc624f0(subgraph_callable-541e934a-8d7a-4355-9923-9b3d31ba(...))\",\"subgraph_callable-61592f42-1ea1-4c05-8af6-6bc624f0(subgraph_callable-541e934a-8d7a-4355-9923-9b3d31ba(...))\",\"_\",\"subgraph_callable-61592f42-1ea1-4c05-8af6-6bc624f0(subgraph_callable-541e934a-8d7a-4355-9923-9b3d31ba(...))\",\"_\",\"subgraph_callable-61592f42-1ea1-4c05-8af6-6bc624f0(subgraph_callable-541e934a-8d7a-4355-9923-9b3d31ba(...))\",\"_\",\"subgraph_callable-61592f42-1ea1-4c05-8af6-6bc624f0(subgraph_callable-541e934a-8d7a-4355-9923-9b3d31ba(...))\",\"_\",\"subgraph_callable-61592f42-1ea1-4c05-8af6-6bc624f0(subgraph_callable-541e934a-8d7a-4355-9923-9b3d31ba(...))\",\"_\",\"_\",\"subgraph_callable-61592f42-1ea1-4c05-8af6-6bc624f0(subgraph_callable-541e934a-8d7a-4355-9923-9b3d31ba(...))\",\"subgraph_callable-61592f42-1ea1-4c05-8af6-6bc624f0(subgraph_callable-541e934a-8d7a-4355-9923-9b3d31ba(...))\",\"_\",\"_\",\"subgraph_callable-61592f42-1ea1-4c05-8af6-6bc624f0(subgraph_callable-541e934a-8d7a-4355-9923-9b3d31ba(...))\",\"subgraph_callable-61592f42-1ea1-4c05-8af6-6bc624f0(subgraph_callable-541e934a-8d7a-4355-9923-9b3d31ba(...))\",\"_\",\"_\",\"subgraph_callable-61592f42-1ea1-4c05-8af6-6bc624f0(subgraph_callable-541e934a-8d7a-4355-9923-9b3d31ba(...))\",\"subgraph_callable-61592f42-1ea1-4c05-8af6-6bc624f0(subgraph_callable-541e934a-8d7a-4355-9923-9b3d31ba(...))\",\"_\",\"subgraph_callable-61592f42-1ea1-4c05-8af6-6bc624f0(subgraph_callable-541e934a-8d7a-4355-9923-9b3d31ba(...))\",\"_\",\"subgraph_callable-61592f42-1ea1-4c05-8af6-6bc624f0(subgraph_callable-541e934a-8d7a-4355-9923-9b3d31ba(...))\",\"_\",\"subgraph_callable-61592f42-1ea1-4c05-8af6-6bc624f0(subgraph_callable-541e934a-8d7a-4355-9923-9b3d31ba(...))\",\"_\",\"subgraph_callable-61592f42-1ea1-4c05-8af6-6bc624f0(subgraph_callable-541e934a-8d7a-4355-9923-9b3d31ba(...))\",\"_\",\"_\",\"subgraph_callable-61592f42-1ea1-4c05-8af6-6bc624f0(subgraph_callable-541e934a-8d7a-4355-9923-9b3d31ba(...))\",\"subgraph_callable-61592f42-1ea1-4c05-8af6-6bc624f0(subgraph_callable-541e934a-8d7a-4355-9923-9b3d31ba(...))\",\"_\",\"subgraph_callable-61592f42-1ea1-4c05-8af6-6bc624f0(subgraph_callable-541e934a-8d7a-4355-9923-9b3d31ba(...))\",\"_\",\"subgraph_callable-61592f42-1ea1-4c05-8af6-6bc624f0(subgraph_callable-541e934a-8d7a-4355-9923-9b3d31ba(...))\",\"_\",\"subgraph_callable-61592f42-1ea1-4c05-8af6-6bc624f0(subgraph_callable-541e934a-8d7a-4355-9923-9b3d31ba(...))\",\"_\",\"subgraph_callable-61592f42-1ea1-4c05-8af6-6bc624f0(subgraph_callable-541e934a-8d7a-4355-9923-9b3d31ba(...))\",\"_\",\"subgraph_callable-61592f42-1ea1-4c05-8af6-6bc624f0(subgraph_callable-541e934a-8d7a-4355-9923-9b3d31ba(...))\",\"_\",\"subgraph_callable-61592f42-1ea1-4c05-8af6-6bc624f0(subgraph_callable-541e934a-8d7a-4355-9923-9b3d31ba(...))\",\"_\",\"_\",\"_\",\"subgraph_callable-61592f42-1ea1-4c05-8af6-6bc624f0(subgraph_callable-541e934a-8d7a-4355-9923-9b3d31ba(...))\",\"subgraph_callable-61592f42-1ea1-4c05-8af6-6bc624f0(subgraph_callable-541e934a-8d7a-4355-9923-9b3d31ba(...))\",\"subgraph_callable-61592f42-1ea1-4c05-8af6-6bc624f0(subgraph_callable-541e934a-8d7a-4355-9923-9b3d31ba(...))\",\"_\",\"_\",\"subgraph_callable-61592f42-1ea1-4c05-8af6-6bc624f0(subgraph_callable-541e934a-8d7a-4355-9923-9b3d31ba(...))\",\"subgraph_callable-61592f42-1ea1-4c05-8af6-6bc624f0(subgraph_callable-541e934a-8d7a-4355-9923-9b3d31ba(...))\",\"_\",\"_\",\"subgraph_callable-61592f42-1ea1-4c05-8af6-6bc624f0(subgraph_callable-541e934a-8d7a-4355-9923-9b3d31ba(...))\",\"subgraph_callable-61592f42-1ea1-4c05-8af6-6bc624f0(subgraph_callable-541e934a-8d7a-4355-9923-9b3d31ba(...))\",\"_\",\"subgraph_callable-61592f42-1ea1-4c05-8af6-6bc624f0(subgraph_callable-541e934a-8d7a-4355-9923-9b3d31ba(...))\",\"_\",\"subgraph_callable-61592f42-1ea1-4c05-8af6-6bc624f0(subgraph_callable-541e934a-8d7a-4355-9923-9b3d31ba(...))\",\"_\",\"_\",\"subgraph_callable-61592f42-1ea1-4c05-8af6-6bc624f0(subgraph_callable-541e934a-8d7a-4355-9923-9b3d31ba(...))\",\"_\",\"_\",\"subgraph_callable-61592f42-1ea1-4c05-8af6-6bc624f0(subgraph_callable-541e934a-8d7a-4355-9923-9b3d31ba(...))\",\"subgraph_callable-61592f42-1ea1-4c05-8af6-6bc624f0(subgraph_callable-541e934a-8d7a-4355-9923-9b3d31ba(...))\",\"subgraph_callable-61592f42-1ea1-4c05-8af6-6bc624f0(subgraph_callable-541e934a-8d7a-4355-9923-9b3d31ba(...))\",\"_\",\"mean_combine([_, _])\",\"subgraph_callable-61592f42-1ea1-4c05-8af6-6bc624f0(subgraph_callable-541e934a-8d7a-4355-9923-9b3d31ba(...))\",\"_\",\"mean_combine([_, _])\",\"subgraph_callable-61592f42-1ea1-4c05-8af6-6bc624f0(subgraph_callable-541e934a-8d7a-4355-9923-9b3d31ba(...))\",\"_\",\"mean_combine([_, _])\",\"subgraph_callable-61592f42-1ea1-4c05-8af6-6bc624f0(subgraph_callable-541e934a-8d7a-4355-9923-9b3d31ba(...))\",\"_\",\"_\",\"mean_combine([_, _])\",\"mean_combine([_, _])\",\"subgraph_callable-61592f42-1ea1-4c05-8af6-6bc624f0(subgraph_callable-541e934a-8d7a-4355-9923-9b3d31ba(...))\",\"_\",\"subgraph_callable-61592f42-1ea1-4c05-8af6-6bc624f0(subgraph_callable-541e934a-8d7a-4355-9923-9b3d31ba(...))\",\"mean_combine([_, _])\",\"subgraph_callable-61592f42-1ea1-4c05-8af6-6bc624f0(subgraph_callable-541e934a-8d7a-4355-9923-9b3d31ba(...))\",\"_\",\"mean_combine([_, _])\",\"subgraph_callable-61592f42-1ea1-4c05-8af6-6bc624f0(subgraph_callable-541e934a-8d7a-4355-9923-9b3d31ba(...))\",\"_\",\"mean_combine([_, _])\",\"subgraph_callable-61592f42-1ea1-4c05-8af6-6bc624f0(subgraph_callable-541e934a-8d7a-4355-9923-9b3d31ba(...))\",\"_\",\"mean_combine([_, _])\",\"subgraph_callable-61592f42-1ea1-4c05-8af6-6bc624f0(subgraph_callable-541e934a-8d7a-4355-9923-9b3d31ba(...))\",\"_\",\"_\",\"mean_combine([_, _])\",\"mean_combine([_, _])\",\"subgraph_callable-61592f42-1ea1-4c05-8af6-6bc624f0(subgraph_callable-541e934a-8d7a-4355-9923-9b3d31ba(...))\",\"subgraph_callable-61592f42-1ea1-4c05-8af6-6bc624f0(subgraph_callable-541e934a-8d7a-4355-9923-9b3d31ba(...))\",\"_\",\"mean_combine([_, _])\",\"_\",\"subgraph_callable-61592f42-1ea1-4c05-8af6-6bc624f0(subgraph_callable-541e934a-8d7a-4355-9923-9b3d31ba(...))\",\"_\",\"mean_combine([_, _])\",\"_\",\"mean_combine([_, _])\",\"subgraph_callable-61592f42-1ea1-4c05-8af6-6bc624f0(subgraph_callable-541e934a-8d7a-4355-9923-9b3d31ba(...))\",\"mean_combine([_, _])\",\"_\",\"subgraph_callable-61592f42-1ea1-4c05-8af6-6bc624f0(subgraph_callable-541e934a-8d7a-4355-9923-9b3d31ba(...))\",\"subgraph_callable-61592f42-1ea1-4c05-8af6-6bc624f0(subgraph_callable-541e934a-8d7a-4355-9923-9b3d31ba(...))\",\"mean_combine([_, _])\",\"subgraph_callable-61592f42-1ea1-4c05-8af6-6bc624f0(subgraph_callable-541e934a-8d7a-4355-9923-9b3d31ba(...))\",\"_\",\"mean_combine([_, _])\",\"subgraph_callable-61592f42-1ea1-4c05-8af6-6bc624f0(subgraph_callable-541e934a-8d7a-4355-9923-9b3d31ba(...))\",\"_\",\"mean_combine([_, _])\",\"subgraph_callable-61592f42-1ea1-4c05-8af6-6bc624f0(subgraph_callable-541e934a-8d7a-4355-9923-9b3d31ba(...))\",\"_\",\"mean_combine([_, _])\",\"subgraph_callable-61592f42-1ea1-4c05-8af6-6bc624f0(subgraph_callable-541e934a-8d7a-4355-9923-9b3d31ba(...))\",\"_\",\"_\",\"mean_combine([_, _])\",\"mean_combine([_, _])\",\"subgraph_callable-61592f42-1ea1-4c05-8af6-6bc624f0(subgraph_callable-541e934a-8d7a-4355-9923-9b3d31ba(...))\",\"subgraph_callable-61592f42-1ea1-4c05-8af6-6bc624f0(subgraph_callable-541e934a-8d7a-4355-9923-9b3d31ba(...))\",\"_\",\"_\",\"_\",\"mean_combine([_, _])\",\"mean_combine([_, _])\",\"mean_combine([_, _])\",\"subgraph_callable-61592f42-1ea1-4c05-8af6-6bc624f0(subgraph_callable-541e934a-8d7a-4355-9923-9b3d31ba(...))\",\"subgraph_callable-61592f42-1ea1-4c05-8af6-6bc624f0(subgraph_callable-541e934a-8d7a-4355-9923-9b3d31ba(...))\",\"subgraph_callable-61592f42-1ea1-4c05-8af6-6bc624f0(subgraph_callable-541e934a-8d7a-4355-9923-9b3d31ba(...))\",\"_\",\"mean_combine([_, _])\",\"_\",\"subgraph_callable-61592f42-1ea1-4c05-8af6-6bc624f0(subgraph_callable-541e934a-8d7a-4355-9923-9b3d31ba(...))\",\"mean_combine([_, _])\",\"subgraph_callable-61592f42-1ea1-4c05-8af6-6bc624f0(subgraph_callable-541e934a-8d7a-4355-9923-9b3d31ba(...))\",\"_\",\"_\",\"mean_combine([_, _])\",\"mean_combine([_, _])\",\"subgraph_callable-61592f42-1ea1-4c05-8af6-6bc624f0(subgraph_callable-541e934a-8d7a-4355-9923-9b3d31ba(...))\",\"subgraph_callable-61592f42-1ea1-4c05-8af6-6bc624f0(subgraph_callable-541e934a-8d7a-4355-9923-9b3d31ba(...))\",\"_\",\"mean_combine([_, _])\",\"subgraph_callable-61592f42-1ea1-4c05-8af6-6bc624f0(subgraph_callable-541e934a-8d7a-4355-9923-9b3d31ba(...))\",\"_\",\"mean_combine([_, _])\",\"_\",\"subgraph_callable-61592f42-1ea1-4c05-8af6-6bc624f0(subgraph_callable-541e934a-8d7a-4355-9923-9b3d31ba(...))\",\"mean_combine([_, _])\",\"subgraph_callable-61592f42-1ea1-4c05-8af6-6bc624f0(subgraph_callable-541e934a-8d7a-4355-9923-9b3d31ba(...))\",\"_\",\"mean_combine([_, _])\",\"subgraph_callable-61592f42-1ea1-4c05-8af6-6bc624f0(subgraph_callable-541e934a-8d7a-4355-9923-9b3d31ba(...))\",\"_\",\"mean_combine([_, _])\",\"subgraph_callable-61592f42-1ea1-4c05-8af6-6bc624f0(subgraph_callable-541e934a-8d7a-4355-9923-9b3d31ba(...))\",\"_\",\"_\",\"_\",\"mean_combine([_, _])\",\"mean_combine([_, _])\",\"mean_combine([_, _])\",\"subgraph_callable-61592f42-1ea1-4c05-8af6-6bc624f0(subgraph_callable-541e934a-8d7a-4355-9923-9b3d31ba(...))\",\"subgraph_callable-61592f42-1ea1-4c05-8af6-6bc624f0(subgraph_callable-541e934a-8d7a-4355-9923-9b3d31ba(...))\",\"_\",\"subgraph_callable-61592f42-1ea1-4c05-8af6-6bc624f0(subgraph_callable-541e934a-8d7a-4355-9923-9b3d31ba(...))\",\"mean_combine([_, _])\",\"subgraph_callable-61592f42-1ea1-4c05-8af6-6bc624f0(subgraph_callable-541e934a-8d7a-4355-9923-9b3d31ba(...))\",\"_\",\"_\",\"_\",\"mean_combine([_, _])\",\"mean_combine([_, _])\",\"mean_combine([_, _])\",\"subgraph_callable-61592f42-1ea1-4c05-8af6-6bc624f0(subgraph_callable-541e934a-8d7a-4355-9923-9b3d31ba(...))\",\"subgraph_callable-61592f42-1ea1-4c05-8af6-6bc624f0(subgraph_callable-541e934a-8d7a-4355-9923-9b3d31ba(...))\",\"subgraph_callable-61592f42-1ea1-4c05-8af6-6bc624f0(subgraph_callable-541e934a-8d7a-4355-9923-9b3d31ba(...))\",\"_\",\"mean_combine([_, _])\",\"subgraph_callable-61592f42-1ea1-4c05-8af6-6bc624f0(subgraph_callable-541e934a-8d7a-4355-9923-9b3d31ba(...))\",\"_\",\"mean_combine([_, _])\",\"subgraph_callable-61592f42-1ea1-4c05-8af6-6bc624f0(subgraph_callable-541e934a-8d7a-4355-9923-9b3d31ba(...))\",\"_\",\"_\",\"_\",\"mean_combine([_, _])\",\"mean_combine([_, _])\",\"_\",\"mean_combine([_, _])\",\"subgraph_callable-61592f42-1ea1-4c05-8af6-6bc624f0(subgraph_callable-541e934a-8d7a-4355-9923-9b3d31ba(...))\",\"subgraph_callable-61592f42-1ea1-4c05-8af6-6bc624f0(subgraph_callable-541e934a-8d7a-4355-9923-9b3d31ba(...))\",\"_\",\"_\",\"mean_combine([_, _])\",\"subgraph_callable-61592f42-1ea1-4c05-8af6-6bc624f0(subgraph_callable-541e934a-8d7a-4355-9923-9b3d31ba(...))\",\"mean_combine([_, _])\",\"mean_combine([_, _])\",\"subgraph_callable-61592f42-1ea1-4c05-8af6-6bc624f0(subgraph_callable-541e934a-8d7a-4355-9923-9b3d31ba(...))\",\"subgraph_callable-61592f42-1ea1-4c05-8af6-6bc624f0(subgraph_callable-541e934a-8d7a-4355-9923-9b3d31ba(...))\",\"subgraph_callable-61592f42-1ea1-4c05-8af6-6bc624f0(subgraph_callable-541e934a-8d7a-4355-9923-9b3d31ba(...))\",\"_\",\"mean_combine([_, _])\",\"mean_agg([_, _])\",\"subgraph_callable-61592f42-1ea1-4c05-8af6-6bc624f0(subgraph_callable-541e934a-8d7a-4355-9923-9b3d31ba(...))\",\"_\",\"mean_combine([_, _])\",\"mean_agg([_, _])\",\"subgraph_callable-61592f42-1ea1-4c05-8af6-6bc624f0(subgraph_callable-541e934a-8d7a-4355-9923-9b3d31ba(...))\",\"_\",\"mean_combine([_, _])\",\"mean_agg([_, _])\",\"_\",\"_\",\"subgraph_callable-61592f42-1ea1-4c05-8af6-6bc624f0(subgraph_callable-541e934a-8d7a-4355-9923-9b3d31ba(...))\",\"_\",\"subgraph_callable-61592f42-1ea1-4c05-8af6-6bc624f0(subgraph_callable-541e934a-8d7a-4355-9923-9b3d31ba(...))\",\"subgraph_callable-61592f42-1ea1-4c05-8af6-6bc624f0(subgraph_callable-541e934a-8d7a-4355-9923-9b3d31ba(...))\",\"mean_combine([_, _])\",\"_\",\"_\",\"mean_agg([_, _])\",\"subgraph_callable-61592f42-1ea1-4c05-8af6-6bc624f0(subgraph_callable-541e934a-8d7a-4355-9923-9b3d31ba(...))\",\"subgraph_callable-61592f42-1ea1-4c05-8af6-6bc624f0(subgraph_callable-541e934a-8d7a-4355-9923-9b3d31ba(...))\",\"subgraph_callable-61592f42-1ea1-4c05-8af6-6bc624f0(subgraph_callable-541e934a-8d7a-4355-9923-9b3d31ba(...))\",\"_\",\"subgraph_callable-61592f42-1ea1-4c05-8af6-6bc624f0(subgraph_callable-541e934a-8d7a-4355-9923-9b3d31ba(...))\",\"_\",\"subgraph_callable-61592f42-1ea1-4c05-8af6-6bc624f0(subgraph_callable-541e934a-8d7a-4355-9923-9b3d31ba(...))\",\"_\",\"subgraph_callable-61592f42-1ea1-4c05-8af6-6bc624f0(subgraph_callable-541e934a-8d7a-4355-9923-9b3d31ba(...))\",\"_\",\"subgraph_callable-61592f42-1ea1-4c05-8af6-6bc624f0(subgraph_callable-541e934a-8d7a-4355-9923-9b3d31ba(...))\",\"_\",\"_\",\"subgraph_callable-61592f42-1ea1-4c05-8af6-6bc624f0(subgraph_callable-541e934a-8d7a-4355-9923-9b3d31ba(...))\",\"subgraph_callable-61592f42-1ea1-4c05-8af6-6bc624f0(subgraph_callable-541e934a-8d7a-4355-9923-9b3d31ba(...))\",\"_\",\"subgraph_callable-61592f42-1ea1-4c05-8af6-6bc624f0(subgraph_callable-541e934a-8d7a-4355-9923-9b3d31ba(...))\",\"_\",\"subgraph_callable-61592f42-1ea1-4c05-8af6-6bc624f0(subgraph_callable-541e934a-8d7a-4355-9923-9b3d31ba(...))\",\"_\",\"subgraph_callable-61592f42-1ea1-4c05-8af6-6bc624f0(subgraph_callable-541e934a-8d7a-4355-9923-9b3d31ba(...))\",\"_\",\"subgraph_callable-61592f42-1ea1-4c05-8af6-6bc624f0(subgraph_callable-541e934a-8d7a-4355-9923-9b3d31ba(...))\",\"_\",\"_\",\"_\",\"subgraph_callable-61592f42-1ea1-4c05-8af6-6bc624f0(subgraph_callable-541e934a-8d7a-4355-9923-9b3d31ba(...))\",\"_\",\"subgraph_callable-61592f42-1ea1-4c05-8af6-6bc624f0(subgraph_callable-541e934a-8d7a-4355-9923-9b3d31ba(...))\",\"subgraph_callable-61592f42-1ea1-4c05-8af6-6bc624f0(subgraph_callable-541e934a-8d7a-4355-9923-9b3d31ba(...))\",\"subgraph_callable-61592f42-1ea1-4c05-8af6-6bc624f0(subgraph_callable-541e934a-8d7a-4355-9923-9b3d31ba(...))\",\"_\",\"_\",\"subgraph_callable-61592f42-1ea1-4c05-8af6-6bc624f0(subgraph_callable-541e934a-8d7a-4355-9923-9b3d31ba(...))\",\"subgraph_callable-61592f42-1ea1-4c05-8af6-6bc624f0(subgraph_callable-541e934a-8d7a-4355-9923-9b3d31ba(...))\",\"_\",\"_\",\"subgraph_callable-61592f42-1ea1-4c05-8af6-6bc624f0(subgraph_callable-541e934a-8d7a-4355-9923-9b3d31ba(...))\",\"subgraph_callable-61592f42-1ea1-4c05-8af6-6bc624f0(subgraph_callable-541e934a-8d7a-4355-9923-9b3d31ba(...))\",\"_\",\"_\",\"subgraph_callable-61592f42-1ea1-4c05-8af6-6bc624f0(subgraph_callable-541e934a-8d7a-4355-9923-9b3d31ba(...))\",\"subgraph_callable-61592f42-1ea1-4c05-8af6-6bc624f0(subgraph_callable-541e934a-8d7a-4355-9923-9b3d31ba(...))\",\"_\",\"_\",\"_\",\"subgraph_callable-61592f42-1ea1-4c05-8af6-6bc624f0(subgraph_callable-541e934a-8d7a-4355-9923-9b3d31ba(...))\",\"subgraph_callable-61592f42-1ea1-4c05-8af6-6bc624f0(subgraph_callable-541e934a-8d7a-4355-9923-9b3d31ba(...))\",\"subgraph_callable-61592f42-1ea1-4c05-8af6-6bc624f0(subgraph_callable-541e934a-8d7a-4355-9923-9b3d31ba(...))\",\"_\",\"subgraph_callable-61592f42-1ea1-4c05-8af6-6bc624f0(subgraph_callable-541e934a-8d7a-4355-9923-9b3d31ba(...))\",\"_\",\"subgraph_callable-61592f42-1ea1-4c05-8af6-6bc624f0(subgraph_callable-541e934a-8d7a-4355-9923-9b3d31ba(...))\",\"_\",\"subgraph_callable-61592f42-1ea1-4c05-8af6-6bc624f0(subgraph_callable-541e934a-8d7a-4355-9923-9b3d31ba(...))\",\"_\",\"_\",\"subgraph_callable-61592f42-1ea1-4c05-8af6-6bc624f0(subgraph_callable-541e934a-8d7a-4355-9923-9b3d31ba(...))\",\"_\",\"_\",\"subgraph_callable-61592f42-1ea1-4c05-8af6-6bc624f0(subgraph_callable-541e934a-8d7a-4355-9923-9b3d31ba(...))\",\"subgraph_callable-61592f42-1ea1-4c05-8af6-6bc624f0(subgraph_callable-541e934a-8d7a-4355-9923-9b3d31ba(...))\",\"subgraph_callable-61592f42-1ea1-4c05-8af6-6bc624f0(subgraph_callable-541e934a-8d7a-4355-9923-9b3d31ba(...))\",\"_\",\"subgraph_callable-61592f42-1ea1-4c05-8af6-6bc624f0(subgraph_callable-541e934a-8d7a-4355-9923-9b3d31ba(...))\",\"_\",\"subgraph_callable-61592f42-1ea1-4c05-8af6-6bc624f0(subgraph_callable-541e934a-8d7a-4355-9923-9b3d31ba(...))\",\"_\",\"subgraph_callable-61592f42-1ea1-4c05-8af6-6bc624f0(subgraph_callable-541e934a-8d7a-4355-9923-9b3d31ba(...))\",\"_\",\"subgraph_callable-61592f42-1ea1-4c05-8af6-6bc624f0(subgraph_callable-541e934a-8d7a-4355-9923-9b3d31ba(...))\",\"_\",\"subgraph_callable-61592f42-1ea1-4c05-8af6-6bc624f0(subgraph_callable-541e934a-8d7a-4355-9923-9b3d31ba(...))\",\"_\",\"_\",\"_\",\"_\",\"subgraph_callable-61592f42-1ea1-4c05-8af6-6bc624f0(subgraph_callable-541e934a-8d7a-4355-9923-9b3d31ba(...))\",\"subgraph_callable-61592f42-1ea1-4c05-8af6-6bc624f0(subgraph_callable-541e934a-8d7a-4355-9923-9b3d31ba(...))\",\"subgraph_callable-61592f42-1ea1-4c05-8af6-6bc624f0(subgraph_callable-541e934a-8d7a-4355-9923-9b3d31ba(...))\",\"subgraph_callable-61592f42-1ea1-4c05-8af6-6bc624f0(subgraph_callable-541e934a-8d7a-4355-9923-9b3d31ba(...))\",\"_\",\"subgraph_callable-61592f42-1ea1-4c05-8af6-6bc624f0(subgraph_callable-541e934a-8d7a-4355-9923-9b3d31ba(...))\",\"_\",\"_\",\"mean_combine([_, _])\",\"mean_combine([_, _])\",\"mean_agg([_, _])\",\"mean_agg([_, _])\",\"subgraph_callable-61592f42-1ea1-4c05-8af6-6bc624f0(subgraph_callable-541e934a-8d7a-4355-9923-9b3d31ba(...))\",\"subgraph_callable-61592f42-1ea1-4c05-8af6-6bc624f0(subgraph_callable-541e934a-8d7a-4355-9923-9b3d31ba(...))\",\"_\",\"mean_combine([_, _])\",\"mean_agg([_, _])\",\"subgraph_callable-61592f42-1ea1-4c05-8af6-6bc624f0(subgraph_callable-541e934a-8d7a-4355-9923-9b3d31ba(...))\",\"_\",\"mean_combine([_, _])\",\"_\",\"mean_agg([_, _])\",\"mean_combine([_, _])\",\"subgraph_callable-61592f42-1ea1-4c05-8af6-6bc624f0(subgraph_callable-541e934a-8d7a-4355-9923-9b3d31ba(...))\",\"mean_agg([_, _])\",\"subgraph_callable-61592f42-1ea1-4c05-8af6-6bc624f0(subgraph_callable-541e934a-8d7a-4355-9923-9b3d31ba(...))\",\"_\",\"_\",\"mean_combine([_, _])\",\"_\",\"mean_combine([_, _])\",\"mean_agg([_, _])\",\"mean_combine([_, _])\",\"mean_agg([_, _])\",\"subgraph_callable-61592f42-1ea1-4c05-8af6-6bc624f0(subgraph_callable-541e934a-8d7a-4355-9923-9b3d31ba(...))\",\"mean_agg([_, _])\",\"subgraph_callable-61592f42-1ea1-4c05-8af6-6bc624f0(subgraph_callable-541e934a-8d7a-4355-9923-9b3d31ba(...))\",\"subgraph_callable-61592f42-1ea1-4c05-8af6-6bc624f0(subgraph_callable-541e934a-8d7a-4355-9923-9b3d31ba(...))\",\"_\",\"mean_combine([_, _])\",\"mean_agg([_, _])\",\"subgraph_callable-61592f42-1ea1-4c05-8af6-6bc624f0(subgraph_callable-541e934a-8d7a-4355-9923-9b3d31ba(...))\",\"_\",\"mean_combine([_, _])\",\"_\",\"mean_agg([_, _])\",\"mean_combine([_, _])\",\"subgraph_callable-61592f42-1ea1-4c05-8af6-6bc624f0(subgraph_callable-541e934a-8d7a-4355-9923-9b3d31ba(...))\",\"mean_agg([_, _])\",\"subgraph_callable-61592f42-1ea1-4c05-8af6-6bc624f0(subgraph_callable-541e934a-8d7a-4355-9923-9b3d31ba(...))\",\"_\",\"_\",\"mean_combine([_, _])\",\"_\",\"mean_combine([_, _])\",\"_\",\"_\",\"mean_agg([_, _])\",\"mean_combine([_, _])\",\"mean_agg([_, _])\",\"mean_combine([_, _])\",\"mean_combine([_, _])\",\"subgraph_callable-61592f42-1ea1-4c05-8af6-6bc624f0(subgraph_callable-541e934a-8d7a-4355-9923-9b3d31ba(...))\",\"mean_agg([_, _])\",\"subgraph_callable-61592f42-1ea1-4c05-8af6-6bc624f0(subgraph_callable-541e934a-8d7a-4355-9923-9b3d31ba(...))\",\"mean_agg([_, _])\",\"mean_agg([_, _])\",\"subgraph_callable-61592f42-1ea1-4c05-8af6-6bc624f0(subgraph_callable-541e934a-8d7a-4355-9923-9b3d31ba(...))\",\"subgraph_callable-61592f42-1ea1-4c05-8af6-6bc624f0(subgraph_callable-541e934a-8d7a-4355-9923-9b3d31ba(...))\",\"subgraph_callable-61592f42-1ea1-4c05-8af6-6bc624f0(subgraph_callable-541e934a-8d7a-4355-9923-9b3d31ba(...))\",\"_\",\"mean_combine([_, _])\",\"_\",\"mean_agg([_, _])\",\"mean_combine([_, _])\",\"subgraph_callable-61592f42-1ea1-4c05-8af6-6bc624f0(subgraph_callable-541e934a-8d7a-4355-9923-9b3d31ba(...))\",\"mean_agg([_, _])\",\"_\",\"mean_combine([_, _])\",\"mean_agg([_, _])\",\"subgraph_callable-61592f42-1ea1-4c05-8af6-6bc624f0(subgraph_callable-541e934a-8d7a-4355-9923-9b3d31ba(...))\",\"subgraph_callable-61592f42-1ea1-4c05-8af6-6bc624f0(subgraph_callable-541e934a-8d7a-4355-9923-9b3d31ba(...))\",\"_\",\"_\",\"_\",\"mean_combine([_, _])\",\"mean_combine([_, _])\",\"mean_combine([_, _])\",\"mean_agg([_, _])\",\"mean_agg([_, _])\",\"_\",\"mean_agg([_, _])\",\"subgraph_callable-61592f42-1ea1-4c05-8af6-6bc624f0(subgraph_callable-541e934a-8d7a-4355-9923-9b3d31ba(...))\",\"subgraph_callable-61592f42-1ea1-4c05-8af6-6bc624f0(subgraph_callable-541e934a-8d7a-4355-9923-9b3d31ba(...))\",\"mean_combine([_, _])\",\"subgraph_callable-61592f42-1ea1-4c05-8af6-6bc624f0(subgraph_callable-541e934a-8d7a-4355-9923-9b3d31ba(...))\",\"_\",\"mean_agg([_, _])\",\"mean_combine([_, _])\",\"mean_agg([_, _])\",\"subgraph_callable-61592f42-1ea1-4c05-8af6-6bc624f0(subgraph_callable-541e934a-8d7a-4355-9923-9b3d31ba(...))\",\"subgraph_callable-61592f42-1ea1-4c05-8af6-6bc624f0(subgraph_callable-541e934a-8d7a-4355-9923-9b3d31ba(...))\",\"_\",\"mean_combine([_, _])\",\"mean_agg([_, _])\",\"subgraph_callable-61592f42-1ea1-4c05-8af6-6bc624f0(subgraph_callable-541e934a-8d7a-4355-9923-9b3d31ba(...))\",\"_\",\"mean_combine([_, _])\",\"mean_agg([_, _])\",\"subgraph_callable-61592f42-1ea1-4c05-8af6-6bc624f0(subgraph_callable-541e934a-8d7a-4355-9923-9b3d31ba(...))\",\"_\",\"mean_combine([_, _])\",\"mean_agg([_, _])\",\"subgraph_callable-61592f42-1ea1-4c05-8af6-6bc624f0(subgraph_callable-541e934a-8d7a-4355-9923-9b3d31ba(...))\",\"_\",\"mean_combine([_, _])\",\"mean_agg([_, _])\",\"subgraph_callable-61592f42-1ea1-4c05-8af6-6bc624f0(subgraph_callable-541e934a-8d7a-4355-9923-9b3d31ba(...))\",\"_\",\"_\",\"mean_combine([_, _])\",\"_\",\"mean_combine([_, _])\",\"mean_agg([_, _])\",\"_\",\"mean_combine([_, _])\",\"mean_agg([_, _])\",\"subgraph_callable-61592f42-1ea1-4c05-8af6-6bc624f0(subgraph_callable-541e934a-8d7a-4355-9923-9b3d31ba(...))\",\"mean_combine([_, _])\",\"mean_agg([_, _])\",\"subgraph_callable-61592f42-1ea1-4c05-8af6-6bc624f0(subgraph_callable-541e934a-8d7a-4355-9923-9b3d31ba(...))\",\"mean_agg([_, _])\",\"subgraph_callable-61592f42-1ea1-4c05-8af6-6bc624f0(subgraph_callable-541e934a-8d7a-4355-9923-9b3d31ba(...))\",\"subgraph_callable-61592f42-1ea1-4c05-8af6-6bc624f0(subgraph_callable-541e934a-8d7a-4355-9923-9b3d31ba(...))\",\"_\",\"mean_combine([_, _])\",\"mean_agg([_, _])\",\"subgraph_callable-61592f42-1ea1-4c05-8af6-6bc624f0(subgraph_callable-541e934a-8d7a-4355-9923-9b3d31ba(...))\",\"_\",\"mean_combine([_, _])\",\"mean_agg([_, _])\",\"_\",\"subgraph_callable-61592f42-1ea1-4c05-8af6-6bc624f0(subgraph_callable-541e934a-8d7a-4355-9923-9b3d31ba(...))\",\"mean_combine([_, _])\",\"mean_agg([_, _])\",\"subgraph_callable-61592f42-1ea1-4c05-8af6-6bc624f0(subgraph_callable-541e934a-8d7a-4355-9923-9b3d31ba(...))\",\"_\",\"mean_combine([_, _])\",\"mean_agg([_, _])\",\"subgraph_callable-61592f42-1ea1-4c05-8af6-6bc624f0(subgraph_callable-541e934a-8d7a-4355-9923-9b3d31ba(...))\",\"_\",\"_\",\"mean_combine([_, _])\",\"mean_combine([_, _])\",\"mean_agg([_, _])\",\"mean_agg([_, _])\",\"_\",\"_\",\"mean_combine([_, _])\",\"mean_combine([_, _])\",\"mean_agg([_, _])\",\"mean_agg([_, _])\",\"_\",\"mean_combine([_, _])\",\"mean_agg([_, _])\",\"_\",\"mean_combine([_, _])\",\"_\",\"mean_agg([_, _])\",\"mean_combine([_, _])\",\"mean_agg([_, _])\",\"_\",\"mean_combine([_, _])\",\"mean_agg([_, _])\"]],[\"color\",[\"#3B518A\",\"#3B518A\",\"#3B518A\",\"#3B518A\",\"#440154\",\"#440154\",\"#440154\",\"#440154\",\"#FDE724\",\"#FDE724\",\"#FDE724\",\"#FDE724\",\"#FDE724\",\"#FDE724\",\"#FDE724\",\"#FDE724\",\"#440154\",\"#FDE724\",\"#440154\",\"#FDE724\",\"#440154\",\"#440154\",\"#FDE724\",\"#440154\",\"#440154\",\"#5BC862\",\"#440154\",\"#FDE724\",\"#FDE724\",\"#FDE724\",\"#440154\",\"#5BC862\",\"#FDE724\",\"#208F8C\",\"#FDE724\",\"#440154\",\"#440154\",\"#FDE724\",\"#440154\",\"#FDE724\",\"#FDE724\",\"#440154\",\"#FDE724\",\"#440154\",\"#440154\",\"#440154\",\"#FDE724\",\"#FDE724\",\"#FDE724\",\"#440154\",\"#FDE724\",\"#440154\",\"#FDE724\",\"#440154\",\"#FDE724\",\"#440154\",\"#440154\",\"#440154\",\"#FDE724\",\"#FDE724\",\"#FDE724\",\"#440154\",\"#FDE724\",\"#440154\",\"#FDE724\",\"#440154\",\"#FDE724\",\"#440154\",\"#FDE724\",\"#440154\",\"#440154\",\"#FDE724\",\"#FDE724\",\"#440154\",\"#440154\",\"#FDE724\",\"#FDE724\",\"#440154\",\"#440154\",\"#FDE724\",\"#FDE724\",\"#440154\",\"#FDE724\",\"#440154\",\"#FDE724\",\"#440154\",\"#FDE724\",\"#440154\",\"#FDE724\",\"#440154\",\"#440154\",\"#FDE724\",\"#FDE724\",\"#440154\",\"#FDE724\",\"#440154\",\"#FDE724\",\"#440154\",\"#FDE724\",\"#440154\",\"#FDE724\",\"#440154\",\"#FDE724\",\"#440154\",\"#FDE724\",\"#440154\",\"#440154\",\"#440154\",\"#FDE724\",\"#FDE724\",\"#FDE724\",\"#440154\",\"#440154\",\"#FDE724\",\"#FDE724\",\"#440154\",\"#440154\",\"#FDE724\",\"#FDE724\",\"#440154\",\"#FDE724\",\"#440154\",\"#FDE724\",\"#440154\",\"#440154\",\"#FDE724\",\"#440154\",\"#440154\",\"#FDE724\",\"#FDE724\",\"#FDE724\",\"#440154\",\"#5BC862\",\"#FDE724\",\"#440154\",\"#5BC862\",\"#FDE724\",\"#440154\",\"#5BC862\",\"#FDE724\",\"#440154\",\"#440154\",\"#5BC862\",\"#5BC862\",\"#FDE724\",\"#440154\",\"#FDE724\",\"#5BC862\",\"#FDE724\",\"#440154\",\"#5BC862\",\"#FDE724\",\"#440154\",\"#5BC862\",\"#FDE724\",\"#440154\",\"#5BC862\",\"#FDE724\",\"#440154\",\"#440154\",\"#5BC862\",\"#5BC862\",\"#FDE724\",\"#FDE724\",\"#440154\",\"#5BC862\",\"#440154\",\"#FDE724\",\"#440154\",\"#5BC862\",\"#440154\",\"#5BC862\",\"#FDE724\",\"#5BC862\",\"#440154\",\"#FDE724\",\"#FDE724\",\"#5BC862\",\"#FDE724\",\"#440154\",\"#5BC862\",\"#FDE724\",\"#440154\",\"#5BC862\",\"#FDE724\",\"#440154\",\"#5BC862\",\"#FDE724\",\"#440154\",\"#440154\",\"#5BC862\",\"#5BC862\",\"#FDE724\",\"#FDE724\",\"#440154\",\"#440154\",\"#440154\",\"#5BC862\",\"#5BC862\",\"#5BC862\",\"#FDE724\",\"#FDE724\",\"#FDE724\",\"#440154\",\"#5BC862\",\"#440154\",\"#FDE724\",\"#5BC862\",\"#FDE724\",\"#440154\",\"#440154\",\"#5BC862\",\"#5BC862\",\"#FDE724\",\"#FDE724\",\"#440154\",\"#5BC862\",\"#FDE724\",\"#440154\",\"#5BC862\",\"#440154\",\"#FDE724\",\"#5BC862\",\"#FDE724\",\"#440154\",\"#5BC862\",\"#FDE724\",\"#440154\",\"#5BC862\",\"#FDE724\",\"#440154\",\"#440154\",\"#440154\",\"#5BC862\",\"#5BC862\",\"#5BC862\",\"#FDE724\",\"#FDE724\",\"#440154\",\"#FDE724\",\"#5BC862\",\"#FDE724\",\"#440154\",\"#440154\",\"#440154\",\"#5BC862\",\"#5BC862\",\"#5BC862\",\"#FDE724\",\"#FDE724\",\"#FDE724\",\"#440154\",\"#5BC862\",\"#FDE724\",\"#440154\",\"#5BC862\",\"#FDE724\",\"#440154\",\"#440154\",\"#440154\",\"#5BC862\",\"#5BC862\",\"#440154\",\"#5BC862\",\"#FDE724\",\"#FDE724\",\"#440154\",\"#440154\",\"#5BC862\",\"#FDE724\",\"#5BC862\",\"#5BC862\",\"#FDE724\",\"#FDE724\",\"#FDE724\",\"#440154\",\"#5BC862\",\"#208F8C\",\"#FDE724\",\"#440154\",\"#5BC862\",\"#208F8C\",\"#FDE724\",\"#440154\",\"#5BC862\",\"#208F8C\",\"#440154\",\"#440154\",\"#FDE724\",\"#440154\",\"#FDE724\",\"#FDE724\",\"#5BC862\",\"#440154\",\"#440154\",\"#208F8C\",\"#FDE724\",\"#FDE724\",\"#FDE724\",\"#440154\",\"#FDE724\",\"#440154\",\"#FDE724\",\"#440154\",\"#FDE724\",\"#440154\",\"#FDE724\",\"#440154\",\"#440154\",\"#FDE724\",\"#FDE724\",\"#440154\",\"#FDE724\",\"#440154\",\"#FDE724\",\"#440154\",\"#FDE724\",\"#440154\",\"#FDE724\",\"#440154\",\"#440154\",\"#440154\",\"#FDE724\",\"#440154\",\"#FDE724\",\"#FDE724\",\"#FDE724\",\"#440154\",\"#440154\",\"#FDE724\",\"#FDE724\",\"#440154\",\"#440154\",\"#FDE724\",\"#FDE724\",\"#440154\",\"#440154\",\"#FDE724\",\"#FDE724\",\"#440154\",\"#440154\",\"#440154\",\"#FDE724\",\"#FDE724\",\"#FDE724\",\"#440154\",\"#FDE724\",\"#440154\",\"#FDE724\",\"#440154\",\"#FDE724\",\"#440154\",\"#440154\",\"#FDE724\",\"#440154\",\"#440154\",\"#FDE724\",\"#FDE724\",\"#FDE724\",\"#440154\",\"#FDE724\",\"#440154\",\"#FDE724\",\"#440154\",\"#FDE724\",\"#440154\",\"#FDE724\",\"#440154\",\"#FDE724\",\"#440154\",\"#440154\",\"#440154\",\"#440154\",\"#FDE724\",\"#FDE724\",\"#FDE724\",\"#FDE724\",\"#440154\",\"#FDE724\",\"#440154\",\"#440154\",\"#5BC862\",\"#5BC862\",\"#208F8C\",\"#208F8C\",\"#FDE724\",\"#FDE724\",\"#440154\",\"#5BC862\",\"#208F8C\",\"#FDE724\",\"#440154\",\"#5BC862\",\"#440154\",\"#208F8C\",\"#5BC862\",\"#FDE724\",\"#208F8C\",\"#FDE724\",\"#440154\",\"#440154\",\"#5BC862\",\"#440154\",\"#5BC862\",\"#208F8C\",\"#5BC862\",\"#208F8C\",\"#FDE724\",\"#208F8C\",\"#FDE724\",\"#FDE724\",\"#440154\",\"#5BC862\",\"#208F8C\",\"#FDE724\",\"#440154\",\"#5BC862\",\"#440154\",\"#208F8C\",\"#5BC862\",\"#FDE724\",\"#208F8C\",\"#FDE724\",\"#440154\",\"#440154\",\"#5BC862\",\"#440154\",\"#5BC862\",\"#440154\",\"#440154\",\"#208F8C\",\"#5BC862\",\"#208F8C\",\"#5BC862\",\"#5BC862\",\"#FDE724\",\"#208F8C\",\"#FDE724\",\"#208F8C\",\"#208F8C\",\"#FDE724\",\"#FDE724\",\"#FDE724\",\"#440154\",\"#5BC862\",\"#440154\",\"#208F8C\",\"#5BC862\",\"#FDE724\",\"#208F8C\",\"#440154\",\"#5BC862\",\"#208F8C\",\"#FDE724\",\"#FDE724\",\"#440154\",\"#440154\",\"#440154\",\"#5BC862\",\"#5BC862\",\"#5BC862\",\"#208F8C\",\"#208F8C\",\"#440154\",\"#208F8C\",\"#FDE724\",\"#FDE724\",\"#5BC862\",\"#FDE724\",\"#440154\",\"#208F8C\",\"#5BC862\",\"#208F8C\",\"#FDE724\",\"#FDE724\",\"#440154\",\"#5BC862\",\"#208F8C\",\"#FDE724\",\"#440154\",\"#5BC862\",\"#208F8C\",\"#FDE724\",\"#440154\",\"#5BC862\",\"#208F8C\",\"#FDE724\",\"#440154\",\"#5BC862\",\"#208F8C\",\"#FDE724\",\"#440154\",\"#440154\",\"#5BC862\",\"#440154\",\"#5BC862\",\"#208F8C\",\"#440154\",\"#5BC862\",\"#208F8C\",\"#FDE724\",\"#5BC862\",\"#208F8C\",\"#FDE724\",\"#208F8C\",\"#FDE724\",\"#FDE724\",\"#440154\",\"#5BC862\",\"#208F8C\",\"#FDE724\",\"#440154\",\"#5BC862\",\"#208F8C\",\"#440154\",\"#FDE724\",\"#5BC862\",\"#208F8C\",\"#FDE724\",\"#440154\",\"#5BC862\",\"#208F8C\",\"#FDE724\",\"#440154\",\"#440154\",\"#5BC862\",\"#5BC862\",\"#208F8C\",\"#208F8C\",\"#440154\",\"#440154\",\"#5BC862\",\"#5BC862\",\"#208F8C\",\"#208F8C\",\"#440154\",\"#5BC862\",\"#208F8C\",\"#440154\",\"#5BC862\",\"#440154\",\"#208F8C\",\"#5BC862\",\"#208F8C\",\"#440154\",\"#5BC862\",\"#208F8C\"]],[\"key\",[\"('concatenate-from-value-wrap_with_array-getitem-76f4469ff13a9c18f23dd41d0c511b52', 2, 0)\",\"('concatenate-from-value-wrap_with_array-getitem-76f4469ff13a9c18f23dd41d0c511b52', 3, 0)\",\"('concatenate-from-value-wrap_with_array-getitem-76f4469ff13a9c18f23dd41d0c511b52', 0, 0)\",\"('concatenate-from-value-wrap_with_array-getitem-76f4469ff13a9c18f23dd41d0c511b52', 1, 0)\",\"('getitem-76f4469ff13a9c18f23dd41d0c511b52', 2, 0)\",\"('getitem-76f4469ff13a9c18f23dd41d0c511b52', 3, 0)\",\"('getitem-76f4469ff13a9c18f23dd41d0c511b52', 0, 0)\",\"('getitem-76f4469ff13a9c18f23dd41d0c511b52', 1, 0)\",\"('apply_transform-diffraction_pattern-getitem-integrate_fourier_space-mean_chunk-7c27699459f16da657e41b15feeef526', 2, 0, 0)\",\"('apply_transform-diffraction_pattern-getitem-integrate_fourier_space-mean_chunk-7c27699459f16da657e41b15feeef526', 2, 1, 1)\",\"('apply_transform-diffraction_pattern-getitem-integrate_fourier_space-mean_chunk-7c27699459f16da657e41b15feeef526', 2, 2, 2)\",\"('apply_transform-diffraction_pattern-getitem-integrate_fourier_space-mean_chunk-7c27699459f16da657e41b15feeef526', 2, 3, 3)\",\"('apply_transform-diffraction_pattern-getitem-integrate_fourier_space-mean_chunk-7c27699459f16da657e41b15feeef526', 2, 4, 4)\",\"('apply_transform-diffraction_pattern-getitem-integrate_fourier_space-mean_chunk-7c27699459f16da657e41b15feeef526', 3, 0, 0)\",\"('apply_transform-diffraction_pattern-getitem-integrate_fourier_space-mean_chunk-7c27699459f16da657e41b15feeef526', 0, 0, 0)\",\"('apply_transform-diffraction_pattern-getitem-integrate_fourier_space-mean_chunk-7c27699459f16da657e41b15feeef526', 1, 0, 0)\",\"('mean_chunk-7c27699459f16da657e41b15feeef526', 2, 4, 4)\",\"('apply_transform-diffraction_pattern-getitem-integrate_fourier_space-mean_chunk-7c27699459f16da657e41b15feeef526', 1, 1, 1)\",\"('mean_chunk-7c27699459f16da657e41b15feeef526', 2, 1, 1)\",\"('apply_transform-diffraction_pattern-getitem-integrate_fourier_space-mean_chunk-7c27699459f16da657e41b15feeef526', 1, 2, 2)\",\"('mean_chunk-7c27699459f16da657e41b15feeef526', 2, 0, 0)\",\"('mean_chunk-7c27699459f16da657e41b15feeef526', 3, 0, 0)\",\"('apply_transform-diffraction_pattern-getitem-integrate_fourier_space-mean_chunk-7c27699459f16da657e41b15feeef526', 1, 3, 3)\",\"('mean_chunk-7c27699459f16da657e41b15feeef526', 2, 3, 3)\",\"('mean_chunk-7c27699459f16da657e41b15feeef526', 0, 0, 0)\",\"('mean_combine-partial-050b968c8cd146d6456606e207b8ba53', 1, 0, 0)\",\"('mean_chunk-7c27699459f16da657e41b15feeef526', 1, 0, 0)\",\"('apply_transform-diffraction_pattern-getitem-integrate_fourier_space-mean_chunk-7c27699459f16da657e41b15feeef526', 1, 4, 4)\",\"('apply_transform-diffraction_pattern-getitem-integrate_fourier_space-mean_chunk-7c27699459f16da657e41b15feeef526', 1, 5, 5)\",\"('apply_transform-diffraction_pattern-getitem-integrate_fourier_space-mean_chunk-7c27699459f16da657e41b15feeef526', 1, 6, 6)\",\"('mean_chunk-7c27699459f16da657e41b15feeef526', 2, 2, 2)\",\"('mean_combine-partial-050b968c8cd146d6456606e207b8ba53', 0, 0, 0)\",\"('apply_transform-diffraction_pattern-getitem-integrate_fourier_space-mean_chunk-7c27699459f16da657e41b15feeef526', 1, 0, 1)\",\"('mean_agg-aggregate-82f1adcf7d772d0866354043584b49c0', 0, 0)\",\"('apply_transform-diffraction_pattern-getitem-integrate_fourier_space-mean_chunk-7c27699459f16da657e41b15feeef526', 1, 0, 2)\",\"('mean_chunk-7c27699459f16da657e41b15feeef526', 1, 1, 1)\",\"('mean_chunk-7c27699459f16da657e41b15feeef526', 1, 2, 2)\",\"('apply_transform-diffraction_pattern-getitem-integrate_fourier_space-mean_chunk-7c27699459f16da657e41b15feeef526', 1, 0, 3)\",\"('mean_chunk-7c27699459f16da657e41b15feeef526', 1, 0, 1)\",\"('apply_transform-diffraction_pattern-getitem-integrate_fourier_space-mean_chunk-7c27699459f16da657e41b15feeef526', 1, 0, 4)\",\"('apply_transform-diffraction_pattern-getitem-integrate_fourier_space-mean_chunk-7c27699459f16da657e41b15feeef526', 1, 0, 5)\",\"('mean_chunk-7c27699459f16da657e41b15feeef526', 1, 6, 6)\",\"('apply_transform-diffraction_pattern-getitem-integrate_fourier_space-mean_chunk-7c27699459f16da657e41b15feeef526', 1, 0, 6)\",\"('mean_chunk-7c27699459f16da657e41b15feeef526', 1, 3, 3)\",\"('mean_chunk-7c27699459f16da657e41b15feeef526', 1, 5, 5)\",\"('mean_chunk-7c27699459f16da657e41b15feeef526', 1, 4, 4)\",\"('apply_transform-diffraction_pattern-getitem-integrate_fourier_space-mean_chunk-7c27699459f16da657e41b15feeef526', 1, 1, 0)\",\"('apply_transform-diffraction_pattern-getitem-integrate_fourier_space-mean_chunk-7c27699459f16da657e41b15feeef526', 1, 1, 2)\",\"('apply_transform-diffraction_pattern-getitem-integrate_fourier_space-mean_chunk-7c27699459f16da657e41b15feeef526', 1, 1, 3)\",\"('mean_chunk-7c27699459f16da657e41b15feeef526', 1, 0, 2)\",\"('apply_transform-diffraction_pattern-getitem-integrate_fourier_space-mean_chunk-7c27699459f16da657e41b15feeef526', 1, 1, 4)\",\"('mean_chunk-7c27699459f16da657e41b15feeef526', 1, 0, 3)\",\"('apply_transform-diffraction_pattern-getitem-integrate_fourier_space-mean_chunk-7c27699459f16da657e41b15feeef526', 1, 1, 5)\",\"('mean_chunk-7c27699459f16da657e41b15feeef526', 1, 0, 5)\",\"('apply_transform-diffraction_pattern-getitem-integrate_fourier_space-mean_chunk-7c27699459f16da657e41b15feeef526', 1, 1, 6)\",\"('mean_chunk-7c27699459f16da657e41b15feeef526', 1, 0, 4)\",\"('mean_chunk-7c27699459f16da657e41b15feeef526', 1, 1, 0)\",\"('mean_chunk-7c27699459f16da657e41b15feeef526', 1, 0, 6)\",\"('apply_transform-diffraction_pattern-getitem-integrate_fourier_space-mean_chunk-7c27699459f16da657e41b15feeef526', 1, 2, 0)\",\"('apply_transform-diffraction_pattern-getitem-integrate_fourier_space-mean_chunk-7c27699459f16da657e41b15feeef526', 1, 2, 1)\",\"('apply_transform-diffraction_pattern-getitem-integrate_fourier_space-mean_chunk-7c27699459f16da657e41b15feeef526', 1, 2, 3)\",\"('mean_chunk-7c27699459f16da657e41b15feeef526', 1, 1, 4)\",\"('apply_transform-diffraction_pattern-getitem-integrate_fourier_space-mean_chunk-7c27699459f16da657e41b15feeef526', 1, 2, 4)\",\"('mean_chunk-7c27699459f16da657e41b15feeef526', 1, 1, 3)\",\"('apply_transform-diffraction_pattern-getitem-integrate_fourier_space-mean_chunk-7c27699459f16da657e41b15feeef526', 1, 2, 5)\",\"('mean_chunk-7c27699459f16da657e41b15feeef526', 1, 1, 2)\",\"('apply_transform-diffraction_pattern-getitem-integrate_fourier_space-mean_chunk-7c27699459f16da657e41b15feeef526', 1, 2, 6)\",\"('mean_chunk-7c27699459f16da657e41b15feeef526', 1, 1, 6)\",\"('apply_transform-diffraction_pattern-getitem-integrate_fourier_space-mean_chunk-7c27699459f16da657e41b15feeef526', 1, 3, 0)\",\"('mean_chunk-7c27699459f16da657e41b15feeef526', 1, 1, 5)\",\"('mean_chunk-7c27699459f16da657e41b15feeef526', 1, 2, 3)\",\"('apply_transform-diffraction_pattern-getitem-integrate_fourier_space-mean_chunk-7c27699459f16da657e41b15feeef526', 1, 3, 1)\",\"('apply_transform-diffraction_pattern-getitem-integrate_fourier_space-mean_chunk-7c27699459f16da657e41b15feeef526', 1, 3, 2)\",\"('mean_chunk-7c27699459f16da657e41b15feeef526', 1, 2, 1)\",\"('mean_chunk-7c27699459f16da657e41b15feeef526', 1, 2, 0)\",\"('apply_transform-diffraction_pattern-getitem-integrate_fourier_space-mean_chunk-7c27699459f16da657e41b15feeef526', 1, 3, 4)\",\"('apply_transform-diffraction_pattern-getitem-integrate_fourier_space-mean_chunk-7c27699459f16da657e41b15feeef526', 1, 3, 5)\",\"('mean_chunk-7c27699459f16da657e41b15feeef526', 1, 2, 5)\",\"('mean_chunk-7c27699459f16da657e41b15feeef526', 1, 2, 4)\",\"('apply_transform-diffraction_pattern-getitem-integrate_fourier_space-mean_chunk-7c27699459f16da657e41b15feeef526', 1, 3, 6)\",\"('apply_transform-diffraction_pattern-getitem-integrate_fourier_space-mean_chunk-7c27699459f16da657e41b15feeef526', 1, 4, 0)\",\"('mean_chunk-7c27699459f16da657e41b15feeef526', 1, 2, 6)\",\"('apply_transform-diffraction_pattern-getitem-integrate_fourier_space-mean_chunk-7c27699459f16da657e41b15feeef526', 1, 4, 1)\",\"('mean_chunk-7c27699459f16da657e41b15feeef526', 1, 3, 0)\",\"('apply_transform-diffraction_pattern-getitem-integrate_fourier_space-mean_chunk-7c27699459f16da657e41b15feeef526', 1, 4, 2)\",\"('mean_chunk-7c27699459f16da657e41b15feeef526', 1, 3, 1)\",\"('apply_transform-diffraction_pattern-getitem-integrate_fourier_space-mean_chunk-7c27699459f16da657e41b15feeef526', 1, 4, 3)\",\"('mean_chunk-7c27699459f16da657e41b15feeef526', 1, 3, 6)\",\"('apply_transform-diffraction_pattern-getitem-integrate_fourier_space-mean_chunk-7c27699459f16da657e41b15feeef526', 1, 4, 5)\",\"('mean_chunk-7c27699459f16da657e41b15feeef526', 1, 3, 5)\",\"('mean_chunk-7c27699459f16da657e41b15feeef526', 1, 4, 1)\",\"('apply_transform-diffraction_pattern-getitem-integrate_fourier_space-mean_chunk-7c27699459f16da657e41b15feeef526', 1, 4, 6)\",\"('apply_transform-diffraction_pattern-getitem-integrate_fourier_space-mean_chunk-7c27699459f16da657e41b15feeef526', 1, 5, 0)\",\"('mean_chunk-7c27699459f16da657e41b15feeef526', 1, 4, 0)\",\"('apply_transform-diffraction_pattern-getitem-integrate_fourier_space-mean_chunk-7c27699459f16da657e41b15feeef526', 1, 5, 1)\",\"('mean_chunk-7c27699459f16da657e41b15feeef526', 1, 3, 4)\",\"('apply_transform-diffraction_pattern-getitem-integrate_fourier_space-mean_chunk-7c27699459f16da657e41b15feeef526', 1, 5, 2)\",\"('mean_chunk-7c27699459f16da657e41b15feeef526', 1, 3, 2)\",\"('apply_transform-diffraction_pattern-getitem-integrate_fourier_space-mean_chunk-7c27699459f16da657e41b15feeef526', 1, 5, 3)\",\"('mean_chunk-7c27699459f16da657e41b15feeef526', 1, 4, 2)\",\"('apply_transform-diffraction_pattern-getitem-integrate_fourier_space-mean_chunk-7c27699459f16da657e41b15feeef526', 1, 5, 4)\",\"('mean_chunk-7c27699459f16da657e41b15feeef526', 1, 5, 0)\",\"('apply_transform-diffraction_pattern-getitem-integrate_fourier_space-mean_chunk-7c27699459f16da657e41b15feeef526', 1, 5, 6)\",\"('mean_chunk-7c27699459f16da657e41b15feeef526', 1, 5, 2)\",\"('apply_transform-diffraction_pattern-getitem-integrate_fourier_space-mean_chunk-7c27699459f16da657e41b15feeef526', 1, 6, 0)\",\"('mean_chunk-7c27699459f16da657e41b15feeef526', 1, 5, 1)\",\"('mean_chunk-7c27699459f16da657e41b15feeef526', 1, 4, 3)\",\"('mean_chunk-7c27699459f16da657e41b15feeef526', 1, 4, 5)\",\"('apply_transform-diffraction_pattern-getitem-integrate_fourier_space-mean_chunk-7c27699459f16da657e41b15feeef526', 1, 6, 1)\",\"('apply_transform-diffraction_pattern-getitem-integrate_fourier_space-mean_chunk-7c27699459f16da657e41b15feeef526', 1, 6, 2)\",\"('apply_transform-diffraction_pattern-getitem-integrate_fourier_space-mean_chunk-7c27699459f16da657e41b15feeef526', 1, 6, 3)\",\"('mean_chunk-7c27699459f16da657e41b15feeef526', 1, 4, 6)\",\"('mean_chunk-7c27699459f16da657e41b15feeef526', 1, 5, 3)\",\"('apply_transform-diffraction_pattern-getitem-integrate_fourier_space-mean_chunk-7c27699459f16da657e41b15feeef526', 1, 6, 4)\",\"('apply_transform-diffraction_pattern-getitem-integrate_fourier_space-mean_chunk-7c27699459f16da657e41b15feeef526', 1, 6, 5)\",\"('mean_chunk-7c27699459f16da657e41b15feeef526', 1, 6, 1)\",\"('mean_chunk-7c27699459f16da657e41b15feeef526', 1, 5, 4)\",\"('apply_transform-diffraction_pattern-getitem-integrate_fourier_space-mean_chunk-7c27699459f16da657e41b15feeef526', 0, 1, 1)\",\"('apply_transform-diffraction_pattern-getitem-integrate_fourier_space-mean_chunk-7c27699459f16da657e41b15feeef526', 0, 2, 2)\",\"('mean_chunk-7c27699459f16da657e41b15feeef526', 1, 5, 6)\",\"('apply_transform-diffraction_pattern-getitem-integrate_fourier_space-mean_chunk-7c27699459f16da657e41b15feeef526', 0, 3, 3)\",\"('mean_chunk-7c27699459f16da657e41b15feeef526', 1, 6, 0)\",\"('apply_transform-diffraction_pattern-getitem-integrate_fourier_space-mean_chunk-7c27699459f16da657e41b15feeef526', 0, 4, 4)\",\"('mean_chunk-7c27699459f16da657e41b15feeef526', 1, 6, 4)\",\"('mean_chunk-7c27699459f16da657e41b15feeef526', 1, 6, 3)\",\"('apply_transform-diffraction_pattern-getitem-integrate_fourier_space-mean_chunk-7c27699459f16da657e41b15feeef526', 0, 5, 5)\",\"('mean_chunk-7c27699459f16da657e41b15feeef526', 1, 6, 2)\",\"('mean_chunk-7c27699459f16da657e41b15feeef526', 1, 6, 5)\",\"('apply_transform-diffraction_pattern-getitem-integrate_fourier_space-mean_chunk-7c27699459f16da657e41b15feeef526', 0, 6, 6)\",\"('apply_transform-diffraction_pattern-getitem-integrate_fourier_space-mean_chunk-7c27699459f16da657e41b15feeef526', 0, 0, 1)\",\"('apply_transform-diffraction_pattern-getitem-integrate_fourier_space-mean_chunk-7c27699459f16da657e41b15feeef526', 0, 0, 2)\",\"('mean_chunk-7c27699459f16da657e41b15feeef526', 0, 3, 3)\",\"('mean_combine-partial-050b968c8cd146d6456606e207b8ba53', 0, 3, 3)\",\"('apply_transform-diffraction_pattern-getitem-integrate_fourier_space-mean_chunk-7c27699459f16da657e41b15feeef526', 0, 0, 3)\",\"('mean_chunk-7c27699459f16da657e41b15feeef526', 0, 1, 1)\",\"('mean_combine-partial-050b968c8cd146d6456606e207b8ba53', 0, 1, 1)\",\"('apply_transform-diffraction_pattern-getitem-integrate_fourier_space-mean_chunk-7c27699459f16da657e41b15feeef526', 0, 0, 4)\",\"('mean_chunk-7c27699459f16da657e41b15feeef526', 0, 2, 2)\",\"('mean_combine-partial-050b968c8cd146d6456606e207b8ba53', 0, 2, 2)\",\"('apply_transform-diffraction_pattern-getitem-integrate_fourier_space-mean_chunk-7c27699459f16da657e41b15feeef526', 0, 0, 5)\",\"('mean_chunk-7c27699459f16da657e41b15feeef526', 0, 0, 2)\",\"('mean_chunk-7c27699459f16da657e41b15feeef526', 0, 4, 4)\",\"('mean_combine-partial-050b968c8cd146d6456606e207b8ba53', 0, 0, 2)\",\"('mean_combine-partial-050b968c8cd146d6456606e207b8ba53', 0, 4, 4)\",\"('apply_transform-diffraction_pattern-getitem-integrate_fourier_space-mean_chunk-7c27699459f16da657e41b15feeef526', 0, 0, 6)\",\"('mean_chunk-7c27699459f16da657e41b15feeef526', 0, 5, 5)\",\"('apply_transform-diffraction_pattern-getitem-integrate_fourier_space-mean_chunk-7c27699459f16da657e41b15feeef526', 0, 1, 0)\",\"('mean_combine-partial-050b968c8cd146d6456606e207b8ba53', 0, 5, 5)\",\"('apply_transform-diffraction_pattern-getitem-integrate_fourier_space-mean_chunk-7c27699459f16da657e41b15feeef526', 0, 1, 2)\",\"('mean_chunk-7c27699459f16da657e41b15feeef526', 0, 6, 6)\",\"('mean_combine-partial-050b968c8cd146d6456606e207b8ba53', 0, 6, 6)\",\"('apply_transform-diffraction_pattern-getitem-integrate_fourier_space-mean_chunk-7c27699459f16da657e41b15feeef526', 0, 1, 3)\",\"('mean_chunk-7c27699459f16da657e41b15feeef526', 0, 0, 1)\",\"('mean_combine-partial-050b968c8cd146d6456606e207b8ba53', 0, 0, 1)\",\"('apply_transform-diffraction_pattern-getitem-integrate_fourier_space-mean_chunk-7c27699459f16da657e41b15feeef526', 0, 1, 4)\",\"('mean_chunk-7c27699459f16da657e41b15feeef526', 0, 0, 3)\",\"('mean_combine-partial-050b968c8cd146d6456606e207b8ba53', 0, 0, 3)\",\"('apply_transform-diffraction_pattern-getitem-integrate_fourier_space-mean_chunk-7c27699459f16da657e41b15feeef526', 0, 1, 5)\",\"('mean_chunk-7c27699459f16da657e41b15feeef526', 0, 0, 5)\",\"('mean_chunk-7c27699459f16da657e41b15feeef526', 0, 0, 4)\",\"('mean_combine-partial-050b968c8cd146d6456606e207b8ba53', 0, 0, 5)\",\"('mean_combine-partial-050b968c8cd146d6456606e207b8ba53', 0, 0, 4)\",\"('apply_transform-diffraction_pattern-getitem-integrate_fourier_space-mean_chunk-7c27699459f16da657e41b15feeef526', 0, 1, 6)\",\"('apply_transform-diffraction_pattern-getitem-integrate_fourier_space-mean_chunk-7c27699459f16da657e41b15feeef526', 0, 2, 0)\",\"('mean_chunk-7c27699459f16da657e41b15feeef526', 0, 1, 2)\",\"('mean_combine-partial-050b968c8cd146d6456606e207b8ba53', 0, 1, 2)\",\"('mean_chunk-7c27699459f16da657e41b15feeef526', 0, 0, 6)\",\"('apply_transform-diffraction_pattern-getitem-integrate_fourier_space-mean_chunk-7c27699459f16da657e41b15feeef526', 0, 2, 1)\",\"('mean_chunk-7c27699459f16da657e41b15feeef526', 0, 1, 0)\",\"('mean_combine-partial-050b968c8cd146d6456606e207b8ba53', 0, 0, 6)\",\"('mean_chunk-7c27699459f16da657e41b15feeef526', 0, 1, 3)\",\"('mean_combine-partial-050b968c8cd146d6456606e207b8ba53', 0, 1, 0)\",\"('apply_transform-diffraction_pattern-getitem-integrate_fourier_space-mean_chunk-7c27699459f16da657e41b15feeef526', 0, 2, 3)\",\"('mean_combine-partial-050b968c8cd146d6456606e207b8ba53', 0, 1, 3)\",\"('mean_chunk-7c27699459f16da657e41b15feeef526', 0, 1, 4)\",\"('apply_transform-diffraction_pattern-getitem-integrate_fourier_space-mean_chunk-7c27699459f16da657e41b15feeef526', 0, 2, 4)\",\"('apply_transform-diffraction_pattern-getitem-integrate_fourier_space-mean_chunk-7c27699459f16da657e41b15feeef526', 0, 2, 5)\",\"('mean_combine-partial-050b968c8cd146d6456606e207b8ba53', 0, 1, 4)\",\"('apply_transform-diffraction_pattern-getitem-integrate_fourier_space-mean_chunk-7c27699459f16da657e41b15feeef526', 0, 2, 6)\",\"('mean_chunk-7c27699459f16da657e41b15feeef526', 0, 1, 5)\",\"('mean_combine-partial-050b968c8cd146d6456606e207b8ba53', 0, 1, 5)\",\"('apply_transform-diffraction_pattern-getitem-integrate_fourier_space-mean_chunk-7c27699459f16da657e41b15feeef526', 0, 3, 0)\",\"('mean_chunk-7c27699459f16da657e41b15feeef526', 0, 1, 6)\",\"('mean_combine-partial-050b968c8cd146d6456606e207b8ba53', 0, 1, 6)\",\"('apply_transform-diffraction_pattern-getitem-integrate_fourier_space-mean_chunk-7c27699459f16da657e41b15feeef526', 0, 3, 1)\",\"('mean_chunk-7c27699459f16da657e41b15feeef526', 0, 2, 3)\",\"('mean_combine-partial-050b968c8cd146d6456606e207b8ba53', 0, 2, 3)\",\"('apply_transform-diffraction_pattern-getitem-integrate_fourier_space-mean_chunk-7c27699459f16da657e41b15feeef526', 0, 3, 2)\",\"('mean_chunk-7c27699459f16da657e41b15feeef526', 0, 2, 1)\",\"('mean_chunk-7c27699459f16da657e41b15feeef526', 0, 2, 0)\",\"('mean_combine-partial-050b968c8cd146d6456606e207b8ba53', 0, 2, 1)\",\"('mean_combine-partial-050b968c8cd146d6456606e207b8ba53', 0, 2, 0)\",\"('apply_transform-diffraction_pattern-getitem-integrate_fourier_space-mean_chunk-7c27699459f16da657e41b15feeef526', 0, 3, 4)\",\"('apply_transform-diffraction_pattern-getitem-integrate_fourier_space-mean_chunk-7c27699459f16da657e41b15feeef526', 0, 3, 5)\",\"('mean_chunk-7c27699459f16da657e41b15feeef526', 0, 2, 6)\",\"('mean_chunk-7c27699459f16da657e41b15feeef526', 0, 2, 5)\",\"('mean_chunk-7c27699459f16da657e41b15feeef526', 0, 2, 4)\",\"('mean_combine-partial-050b968c8cd146d6456606e207b8ba53', 0, 2, 6)\",\"('mean_combine-partial-050b968c8cd146d6456606e207b8ba53', 0, 2, 5)\",\"('mean_combine-partial-050b968c8cd146d6456606e207b8ba53', 0, 2, 4)\",\"('apply_transform-diffraction_pattern-getitem-integrate_fourier_space-mean_chunk-7c27699459f16da657e41b15feeef526', 0, 3, 6)\",\"('apply_transform-diffraction_pattern-getitem-integrate_fourier_space-mean_chunk-7c27699459f16da657e41b15feeef526', 0, 4, 0)\",\"('apply_transform-diffraction_pattern-getitem-integrate_fourier_space-mean_chunk-7c27699459f16da657e41b15feeef526', 0, 4, 1)\",\"('mean_chunk-7c27699459f16da657e41b15feeef526', 0, 3, 1)\",\"('mean_combine-partial-050b968c8cd146d6456606e207b8ba53', 0, 3, 1)\",\"('mean_chunk-7c27699459f16da657e41b15feeef526', 0, 3, 0)\",\"('apply_transform-diffraction_pattern-getitem-integrate_fourier_space-mean_chunk-7c27699459f16da657e41b15feeef526', 0, 4, 2)\",\"('mean_combine-partial-050b968c8cd146d6456606e207b8ba53', 0, 3, 0)\",\"('apply_transform-diffraction_pattern-getitem-integrate_fourier_space-mean_chunk-7c27699459f16da657e41b15feeef526', 0, 4, 3)\",\"('mean_chunk-7c27699459f16da657e41b15feeef526', 0, 3, 5)\",\"('mean_chunk-7c27699459f16da657e41b15feeef526', 0, 3, 2)\",\"('mean_combine-partial-050b968c8cd146d6456606e207b8ba53', 0, 3, 5)\",\"('mean_combine-partial-050b968c8cd146d6456606e207b8ba53', 0, 3, 2)\",\"('apply_transform-diffraction_pattern-getitem-integrate_fourier_space-mean_chunk-7c27699459f16da657e41b15feeef526', 0, 4, 5)\",\"('apply_transform-diffraction_pattern-getitem-integrate_fourier_space-mean_chunk-7c27699459f16da657e41b15feeef526', 0, 4, 6)\",\"('mean_chunk-7c27699459f16da657e41b15feeef526', 0, 3, 4)\",\"('mean_combine-partial-050b968c8cd146d6456606e207b8ba53', 0, 3, 4)\",\"('apply_transform-diffraction_pattern-getitem-integrate_fourier_space-mean_chunk-7c27699459f16da657e41b15feeef526', 0, 5, 0)\",\"('mean_chunk-7c27699459f16da657e41b15feeef526', 0, 4, 0)\",\"('mean_combine-partial-050b968c8cd146d6456606e207b8ba53', 0, 4, 0)\",\"('mean_chunk-7c27699459f16da657e41b15feeef526', 0, 4, 1)\",\"('apply_transform-diffraction_pattern-getitem-integrate_fourier_space-mean_chunk-7c27699459f16da657e41b15feeef526', 0, 5, 1)\",\"('mean_combine-partial-050b968c8cd146d6456606e207b8ba53', 0, 4, 1)\",\"('apply_transform-diffraction_pattern-getitem-integrate_fourier_space-mean_chunk-7c27699459f16da657e41b15feeef526', 0, 5, 2)\",\"('mean_chunk-7c27699459f16da657e41b15feeef526', 0, 3, 6)\",\"('mean_combine-partial-050b968c8cd146d6456606e207b8ba53', 0, 3, 6)\",\"('apply_transform-diffraction_pattern-getitem-integrate_fourier_space-mean_chunk-7c27699459f16da657e41b15feeef526', 0, 5, 3)\",\"('mean_chunk-7c27699459f16da657e41b15feeef526', 0, 4, 2)\",\"('mean_combine-partial-050b968c8cd146d6456606e207b8ba53', 0, 4, 2)\",\"('apply_transform-diffraction_pattern-getitem-integrate_fourier_space-mean_chunk-7c27699459f16da657e41b15feeef526', 0, 5, 4)\",\"('mean_chunk-7c27699459f16da657e41b15feeef526', 0, 4, 5)\",\"('mean_chunk-7c27699459f16da657e41b15feeef526', 0, 4, 6)\",\"('mean_chunk-7c27699459f16da657e41b15feeef526', 0, 4, 3)\",\"('mean_combine-partial-050b968c8cd146d6456606e207b8ba53', 0, 4, 5)\",\"('mean_combine-partial-050b968c8cd146d6456606e207b8ba53', 0, 4, 6)\",\"('mean_combine-partial-050b968c8cd146d6456606e207b8ba53', 0, 4, 3)\",\"('apply_transform-diffraction_pattern-getitem-integrate_fourier_space-mean_chunk-7c27699459f16da657e41b15feeef526', 0, 5, 6)\",\"('apply_transform-diffraction_pattern-getitem-integrate_fourier_space-mean_chunk-7c27699459f16da657e41b15feeef526', 0, 6, 0)\",\"('mean_chunk-7c27699459f16da657e41b15feeef526', 0, 5, 0)\",\"('apply_transform-diffraction_pattern-getitem-integrate_fourier_space-mean_chunk-7c27699459f16da657e41b15feeef526', 0, 6, 1)\",\"('mean_combine-partial-050b968c8cd146d6456606e207b8ba53', 0, 5, 0)\",\"('apply_transform-diffraction_pattern-getitem-integrate_fourier_space-mean_chunk-7c27699459f16da657e41b15feeef526', 0, 6, 2)\",\"('mean_chunk-7c27699459f16da657e41b15feeef526', 0, 5, 2)\",\"('mean_chunk-7c27699459f16da657e41b15feeef526', 0, 5, 3)\",\"('mean_chunk-7c27699459f16da657e41b15feeef526', 0, 5, 1)\",\"('mean_combine-partial-050b968c8cd146d6456606e207b8ba53', 0, 5, 2)\",\"('mean_combine-partial-050b968c8cd146d6456606e207b8ba53', 0, 5, 3)\",\"('mean_combine-partial-050b968c8cd146d6456606e207b8ba53', 0, 5, 1)\",\"('apply_transform-diffraction_pattern-getitem-integrate_fourier_space-mean_chunk-7c27699459f16da657e41b15feeef526', 0, 6, 3)\",\"('apply_transform-diffraction_pattern-getitem-integrate_fourier_space-mean_chunk-7c27699459f16da657e41b15feeef526', 0, 6, 4)\",\"('apply_transform-diffraction_pattern-getitem-integrate_fourier_space-mean_chunk-7c27699459f16da657e41b15feeef526', 0, 6, 5)\",\"('mean_chunk-7c27699459f16da657e41b15feeef526', 0, 5, 4)\",\"('mean_combine-partial-050b968c8cd146d6456606e207b8ba53', 0, 5, 4)\",\"('apply_transform-diffraction_pattern-getitem-integrate_fourier_space-mean_chunk-7c27699459f16da657e41b15feeef526', 3, 1, 1)\",\"('mean_chunk-7c27699459f16da657e41b15feeef526', 0, 5, 6)\",\"('mean_combine-partial-050b968c8cd146d6456606e207b8ba53', 0, 5, 6)\",\"('apply_transform-diffraction_pattern-getitem-integrate_fourier_space-mean_chunk-7c27699459f16da657e41b15feeef526', 3, 2, 2)\",\"('mean_chunk-7c27699459f16da657e41b15feeef526', 0, 6, 2)\",\"('mean_chunk-7c27699459f16da657e41b15feeef526', 0, 6, 1)\",\"('mean_chunk-7c27699459f16da657e41b15feeef526', 0, 6, 4)\",\"('mean_combine-partial-050b968c8cd146d6456606e207b8ba53', 0, 6, 2)\",\"('mean_combine-partial-050b968c8cd146d6456606e207b8ba53', 0, 6, 1)\",\"('mean_chunk-7c27699459f16da657e41b15feeef526', 0, 6, 3)\",\"('mean_combine-partial-050b968c8cd146d6456606e207b8ba53', 0, 6, 4)\",\"('apply_transform-diffraction_pattern-getitem-integrate_fourier_space-mean_chunk-7c27699459f16da657e41b15feeef526', 3, 3, 3)\",\"('apply_transform-diffraction_pattern-getitem-integrate_fourier_space-mean_chunk-7c27699459f16da657e41b15feeef526', 3, 4, 4)\",\"('mean_chunk-7c27699459f16da657e41b15feeef526', 0, 6, 5)\",\"('mean_chunk-7c27699459f16da657e41b15feeef526', 0, 6, 0)\",\"('mean_combine-partial-050b968c8cd146d6456606e207b8ba53', 0, 6, 3)\",\"('apply_transform-diffraction_pattern-getitem-integrate_fourier_space-mean_chunk-7c27699459f16da657e41b15feeef526', 3, 5, 5)\",\"('mean_combine-partial-050b968c8cd146d6456606e207b8ba53', 0, 6, 5)\",\"('mean_combine-partial-050b968c8cd146d6456606e207b8ba53', 0, 6, 0)\",\"('apply_transform-diffraction_pattern-getitem-integrate_fourier_space-mean_chunk-7c27699459f16da657e41b15feeef526', 3, 6, 6)\",\"('apply_transform-diffraction_pattern-getitem-integrate_fourier_space-mean_chunk-7c27699459f16da657e41b15feeef526', 3, 0, 1)\",\"('apply_transform-diffraction_pattern-getitem-integrate_fourier_space-mean_chunk-7c27699459f16da657e41b15feeef526', 3, 0, 2)\",\"('mean_chunk-7c27699459f16da657e41b15feeef526', 3, 2, 2)\",\"('mean_combine-partial-050b968c8cd146d6456606e207b8ba53', 1, 2, 2)\",\"('mean_agg-aggregate-82f1adcf7d772d0866354043584b49c0', 2, 2)\",\"('apply_transform-diffraction_pattern-getitem-integrate_fourier_space-mean_chunk-7c27699459f16da657e41b15feeef526', 3, 0, 3)\",\"('mean_chunk-7c27699459f16da657e41b15feeef526', 3, 1, 1)\",\"('mean_combine-partial-050b968c8cd146d6456606e207b8ba53', 1, 1, 1)\",\"('mean_agg-aggregate-82f1adcf7d772d0866354043584b49c0', 1, 1)\",\"('apply_transform-diffraction_pattern-getitem-integrate_fourier_space-mean_chunk-7c27699459f16da657e41b15feeef526', 3, 0, 4)\",\"('mean_chunk-7c27699459f16da657e41b15feeef526', 3, 4, 4)\",\"('mean_combine-partial-050b968c8cd146d6456606e207b8ba53', 1, 4, 4)\",\"('mean_agg-aggregate-82f1adcf7d772d0866354043584b49c0', 4, 4)\",\"('mean_chunk-7c27699459f16da657e41b15feeef526', 3, 5, 5)\",\"('mean_chunk-7c27699459f16da657e41b15feeef526', 3, 0, 2)\",\"('apply_transform-diffraction_pattern-getitem-integrate_fourier_space-mean_chunk-7c27699459f16da657e41b15feeef526', 3, 0, 5)\",\"('mean_chunk-7c27699459f16da657e41b15feeef526', 3, 3, 3)\",\"('apply_transform-diffraction_pattern-getitem-integrate_fourier_space-mean_chunk-7c27699459f16da657e41b15feeef526', 3, 0, 6)\",\"('apply_transform-diffraction_pattern-getitem-integrate_fourier_space-mean_chunk-7c27699459f16da657e41b15feeef526', 3, 1, 0)\",\"('mean_combine-partial-050b968c8cd146d6456606e207b8ba53', 1, 3, 3)\",\"('mean_chunk-7c27699459f16da657e41b15feeef526', 3, 0, 1)\",\"('mean_chunk-7c27699459f16da657e41b15feeef526', 3, 6, 6)\",\"('mean_agg-aggregate-82f1adcf7d772d0866354043584b49c0', 3, 3)\",\"('apply_transform-diffraction_pattern-getitem-integrate_fourier_space-mean_chunk-7c27699459f16da657e41b15feeef526', 3, 1, 2)\",\"('apply_transform-diffraction_pattern-getitem-integrate_fourier_space-mean_chunk-7c27699459f16da657e41b15feeef526', 3, 1, 3)\",\"('apply_transform-diffraction_pattern-getitem-integrate_fourier_space-mean_chunk-7c27699459f16da657e41b15feeef526', 3, 1, 4)\",\"('mean_chunk-7c27699459f16da657e41b15feeef526', 3, 0, 3)\",\"('apply_transform-diffraction_pattern-getitem-integrate_fourier_space-mean_chunk-7c27699459f16da657e41b15feeef526', 3, 1, 5)\",\"('mean_chunk-7c27699459f16da657e41b15feeef526', 3, 0, 4)\",\"('apply_transform-diffraction_pattern-getitem-integrate_fourier_space-mean_chunk-7c27699459f16da657e41b15feeef526', 3, 1, 6)\",\"('mean_chunk-7c27699459f16da657e41b15feeef526', 3, 1, 4)\",\"('apply_transform-diffraction_pattern-getitem-integrate_fourier_space-mean_chunk-7c27699459f16da657e41b15feeef526', 3, 2, 0)\",\"('mean_chunk-7c27699459f16da657e41b15feeef526', 3, 0, 5)\",\"('apply_transform-diffraction_pattern-getitem-integrate_fourier_space-mean_chunk-7c27699459f16da657e41b15feeef526', 3, 2, 1)\",\"('mean_chunk-7c27699459f16da657e41b15feeef526', 3, 1, 3)\",\"('mean_chunk-7c27699459f16da657e41b15feeef526', 3, 1, 2)\",\"('apply_transform-diffraction_pattern-getitem-integrate_fourier_space-mean_chunk-7c27699459f16da657e41b15feeef526', 3, 2, 3)\",\"('apply_transform-diffraction_pattern-getitem-integrate_fourier_space-mean_chunk-7c27699459f16da657e41b15feeef526', 3, 2, 4)\",\"('mean_chunk-7c27699459f16da657e41b15feeef526', 3, 0, 6)\",\"('apply_transform-diffraction_pattern-getitem-integrate_fourier_space-mean_chunk-7c27699459f16da657e41b15feeef526', 3, 2, 5)\",\"('mean_chunk-7c27699459f16da657e41b15feeef526', 3, 1, 0)\",\"('apply_transform-diffraction_pattern-getitem-integrate_fourier_space-mean_chunk-7c27699459f16da657e41b15feeef526', 3, 2, 6)\",\"('mean_chunk-7c27699459f16da657e41b15feeef526', 3, 1, 5)\",\"('apply_transform-diffraction_pattern-getitem-integrate_fourier_space-mean_chunk-7c27699459f16da657e41b15feeef526', 3, 3, 0)\",\"('mean_chunk-7c27699459f16da657e41b15feeef526', 3, 1, 6)\",\"('apply_transform-diffraction_pattern-getitem-integrate_fourier_space-mean_chunk-7c27699459f16da657e41b15feeef526', 3, 3, 1)\",\"('mean_chunk-7c27699459f16da657e41b15feeef526', 3, 2, 0)\",\"('mean_chunk-7c27699459f16da657e41b15feeef526', 3, 2, 1)\",\"('mean_chunk-7c27699459f16da657e41b15feeef526', 3, 2, 5)\",\"('apply_transform-diffraction_pattern-getitem-integrate_fourier_space-mean_chunk-7c27699459f16da657e41b15feeef526', 3, 3, 2)\",\"('mean_chunk-7c27699459f16da657e41b15feeef526', 3, 2, 3)\",\"('apply_transform-diffraction_pattern-getitem-integrate_fourier_space-mean_chunk-7c27699459f16da657e41b15feeef526', 3, 3, 4)\",\"('apply_transform-diffraction_pattern-getitem-integrate_fourier_space-mean_chunk-7c27699459f16da657e41b15feeef526', 3, 3, 5)\",\"('apply_transform-diffraction_pattern-getitem-integrate_fourier_space-mean_chunk-7c27699459f16da657e41b15feeef526', 3, 3, 6)\",\"('mean_chunk-7c27699459f16da657e41b15feeef526', 3, 2, 4)\",\"('mean_chunk-7c27699459f16da657e41b15feeef526', 3, 2, 6)\",\"('apply_transform-diffraction_pattern-getitem-integrate_fourier_space-mean_chunk-7c27699459f16da657e41b15feeef526', 3, 4, 0)\",\"('apply_transform-diffraction_pattern-getitem-integrate_fourier_space-mean_chunk-7c27699459f16da657e41b15feeef526', 3, 4, 1)\",\"('mean_chunk-7c27699459f16da657e41b15feeef526', 3, 3, 1)\",\"('mean_chunk-7c27699459f16da657e41b15feeef526', 3, 3, 0)\",\"('apply_transform-diffraction_pattern-getitem-integrate_fourier_space-mean_chunk-7c27699459f16da657e41b15feeef526', 3, 4, 2)\",\"('apply_transform-diffraction_pattern-getitem-integrate_fourier_space-mean_chunk-7c27699459f16da657e41b15feeef526', 3, 4, 3)\",\"('mean_chunk-7c27699459f16da657e41b15feeef526', 3, 3, 2)\",\"('mean_chunk-7c27699459f16da657e41b15feeef526', 3, 3, 6)\",\"('apply_transform-diffraction_pattern-getitem-integrate_fourier_space-mean_chunk-7c27699459f16da657e41b15feeef526', 3, 4, 5)\",\"('apply_transform-diffraction_pattern-getitem-integrate_fourier_space-mean_chunk-7c27699459f16da657e41b15feeef526', 3, 4, 6)\",\"('mean_chunk-7c27699459f16da657e41b15feeef526', 3, 3, 5)\",\"('mean_chunk-7c27699459f16da657e41b15feeef526', 3, 3, 4)\",\"('mean_chunk-7c27699459f16da657e41b15feeef526', 3, 4, 0)\",\"('apply_transform-diffraction_pattern-getitem-integrate_fourier_space-mean_chunk-7c27699459f16da657e41b15feeef526', 3, 5, 0)\",\"('apply_transform-diffraction_pattern-getitem-integrate_fourier_space-mean_chunk-7c27699459f16da657e41b15feeef526', 3, 5, 1)\",\"('apply_transform-diffraction_pattern-getitem-integrate_fourier_space-mean_chunk-7c27699459f16da657e41b15feeef526', 3, 5, 2)\",\"('mean_chunk-7c27699459f16da657e41b15feeef526', 3, 4, 1)\",\"('apply_transform-diffraction_pattern-getitem-integrate_fourier_space-mean_chunk-7c27699459f16da657e41b15feeef526', 3, 5, 3)\",\"('mean_chunk-7c27699459f16da657e41b15feeef526', 3, 4, 3)\",\"('apply_transform-diffraction_pattern-getitem-integrate_fourier_space-mean_chunk-7c27699459f16da657e41b15feeef526', 3, 5, 4)\",\"('mean_chunk-7c27699459f16da657e41b15feeef526', 3, 4, 2)\",\"('apply_transform-diffraction_pattern-getitem-integrate_fourier_space-mean_chunk-7c27699459f16da657e41b15feeef526', 3, 5, 6)\",\"('mean_chunk-7c27699459f16da657e41b15feeef526', 3, 4, 6)\",\"('mean_chunk-7c27699459f16da657e41b15feeef526', 3, 5, 2)\",\"('apply_transform-diffraction_pattern-getitem-integrate_fourier_space-mean_chunk-7c27699459f16da657e41b15feeef526', 3, 6, 0)\",\"('mean_chunk-7c27699459f16da657e41b15feeef526', 3, 5, 0)\",\"('mean_chunk-7c27699459f16da657e41b15feeef526', 3, 5, 1)\",\"('apply_transform-diffraction_pattern-getitem-integrate_fourier_space-mean_chunk-7c27699459f16da657e41b15feeef526', 3, 6, 1)\",\"('apply_transform-diffraction_pattern-getitem-integrate_fourier_space-mean_chunk-7c27699459f16da657e41b15feeef526', 3, 6, 2)\",\"('apply_transform-diffraction_pattern-getitem-integrate_fourier_space-mean_chunk-7c27699459f16da657e41b15feeef526', 3, 6, 3)\",\"('mean_chunk-7c27699459f16da657e41b15feeef526', 3, 4, 5)\",\"('apply_transform-diffraction_pattern-getitem-integrate_fourier_space-mean_chunk-7c27699459f16da657e41b15feeef526', 3, 6, 4)\",\"('mean_chunk-7c27699459f16da657e41b15feeef526', 3, 5, 3)\",\"('apply_transform-diffraction_pattern-getitem-integrate_fourier_space-mean_chunk-7c27699459f16da657e41b15feeef526', 3, 6, 5)\",\"('mean_chunk-7c27699459f16da657e41b15feeef526', 3, 5, 4)\",\"('apply_transform-diffraction_pattern-getitem-integrate_fourier_space-mean_chunk-7c27699459f16da657e41b15feeef526', 2, 5, 5)\",\"('mean_chunk-7c27699459f16da657e41b15feeef526', 3, 5, 6)\",\"('apply_transform-diffraction_pattern-getitem-integrate_fourier_space-mean_chunk-7c27699459f16da657e41b15feeef526', 2, 6, 6)\",\"('mean_chunk-7c27699459f16da657e41b15feeef526', 3, 6, 5)\",\"('apply_transform-diffraction_pattern-getitem-integrate_fourier_space-mean_chunk-7c27699459f16da657e41b15feeef526', 2, 0, 1)\",\"('mean_chunk-7c27699459f16da657e41b15feeef526', 3, 6, 1)\",\"('mean_chunk-7c27699459f16da657e41b15feeef526', 3, 6, 3)\",\"('mean_chunk-7c27699459f16da657e41b15feeef526', 3, 6, 0)\",\"('mean_chunk-7c27699459f16da657e41b15feeef526', 3, 6, 4)\",\"('apply_transform-diffraction_pattern-getitem-integrate_fourier_space-mean_chunk-7c27699459f16da657e41b15feeef526', 2, 0, 2)\",\"('apply_transform-diffraction_pattern-getitem-integrate_fourier_space-mean_chunk-7c27699459f16da657e41b15feeef526', 2, 0, 3)\",\"('apply_transform-diffraction_pattern-getitem-integrate_fourier_space-mean_chunk-7c27699459f16da657e41b15feeef526', 2, 0, 4)\",\"('apply_transform-diffraction_pattern-getitem-integrate_fourier_space-mean_chunk-7c27699459f16da657e41b15feeef526', 2, 0, 5)\",\"('mean_chunk-7c27699459f16da657e41b15feeef526', 3, 6, 2)\",\"('apply_transform-diffraction_pattern-getitem-integrate_fourier_space-mean_chunk-7c27699459f16da657e41b15feeef526', 2, 0, 6)\",\"('mean_chunk-7c27699459f16da657e41b15feeef526', 2, 5, 5)\",\"('mean_chunk-7c27699459f16da657e41b15feeef526', 2, 6, 6)\",\"('mean_combine-partial-050b968c8cd146d6456606e207b8ba53', 1, 5, 5)\",\"('mean_combine-partial-050b968c8cd146d6456606e207b8ba53', 1, 6, 6)\",\"('mean_agg-aggregate-82f1adcf7d772d0866354043584b49c0', 5, 5)\",\"('mean_agg-aggregate-82f1adcf7d772d0866354043584b49c0', 6, 6)\",\"('apply_transform-diffraction_pattern-getitem-integrate_fourier_space-mean_chunk-7c27699459f16da657e41b15feeef526', 2, 1, 0)\",\"('apply_transform-diffraction_pattern-getitem-integrate_fourier_space-mean_chunk-7c27699459f16da657e41b15feeef526', 2, 1, 2)\",\"('mean_chunk-7c27699459f16da657e41b15feeef526', 2, 0, 1)\",\"('mean_combine-partial-050b968c8cd146d6456606e207b8ba53', 1, 0, 1)\",\"('mean_agg-aggregate-82f1adcf7d772d0866354043584b49c0', 0, 1)\",\"('apply_transform-diffraction_pattern-getitem-integrate_fourier_space-mean_chunk-7c27699459f16da657e41b15feeef526', 2, 1, 3)\",\"('mean_chunk-7c27699459f16da657e41b15feeef526', 2, 0, 2)\",\"('mean_combine-partial-050b968c8cd146d6456606e207b8ba53', 1, 0, 2)\",\"('mean_chunk-7c27699459f16da657e41b15feeef526', 2, 0, 5)\",\"('mean_agg-aggregate-82f1adcf7d772d0866354043584b49c0', 0, 2)\",\"('mean_combine-partial-050b968c8cd146d6456606e207b8ba53', 1, 0, 5)\",\"('apply_transform-diffraction_pattern-getitem-integrate_fourier_space-mean_chunk-7c27699459f16da657e41b15feeef526', 2, 1, 4)\",\"('mean_agg-aggregate-82f1adcf7d772d0866354043584b49c0', 0, 5)\",\"('apply_transform-diffraction_pattern-getitem-integrate_fourier_space-mean_chunk-7c27699459f16da657e41b15feeef526', 2, 1, 5)\",\"('mean_chunk-7c27699459f16da657e41b15feeef526', 2, 0, 6)\",\"('mean_chunk-7c27699459f16da657e41b15feeef526', 2, 0, 4)\",\"('mean_combine-partial-050b968c8cd146d6456606e207b8ba53', 1, 0, 6)\",\"('mean_chunk-7c27699459f16da657e41b15feeef526', 2, 0, 3)\",\"('mean_combine-partial-050b968c8cd146d6456606e207b8ba53', 1, 0, 4)\",\"('mean_agg-aggregate-82f1adcf7d772d0866354043584b49c0', 0, 6)\",\"('mean_combine-partial-050b968c8cd146d6456606e207b8ba53', 1, 0, 3)\",\"('mean_agg-aggregate-82f1adcf7d772d0866354043584b49c0', 0, 4)\",\"('apply_transform-diffraction_pattern-getitem-integrate_fourier_space-mean_chunk-7c27699459f16da657e41b15feeef526', 2, 1, 6)\",\"('mean_agg-aggregate-82f1adcf7d772d0866354043584b49c0', 0, 3)\",\"('apply_transform-diffraction_pattern-getitem-integrate_fourier_space-mean_chunk-7c27699459f16da657e41b15feeef526', 2, 2, 0)\",\"('apply_transform-diffraction_pattern-getitem-integrate_fourier_space-mean_chunk-7c27699459f16da657e41b15feeef526', 2, 2, 1)\",\"('mean_chunk-7c27699459f16da657e41b15feeef526', 2, 1, 0)\",\"('mean_combine-partial-050b968c8cd146d6456606e207b8ba53', 1, 1, 0)\",\"('mean_agg-aggregate-82f1adcf7d772d0866354043584b49c0', 1, 0)\",\"('apply_transform-diffraction_pattern-getitem-integrate_fourier_space-mean_chunk-7c27699459f16da657e41b15feeef526', 2, 2, 3)\",\"('mean_chunk-7c27699459f16da657e41b15feeef526', 2, 1, 2)\",\"('mean_combine-partial-050b968c8cd146d6456606e207b8ba53', 1, 1, 2)\",\"('mean_chunk-7c27699459f16da657e41b15feeef526', 2, 1, 3)\",\"('mean_agg-aggregate-82f1adcf7d772d0866354043584b49c0', 1, 2)\",\"('mean_combine-partial-050b968c8cd146d6456606e207b8ba53', 1, 1, 3)\",\"('apply_transform-diffraction_pattern-getitem-integrate_fourier_space-mean_chunk-7c27699459f16da657e41b15feeef526', 2, 2, 4)\",\"('mean_agg-aggregate-82f1adcf7d772d0866354043584b49c0', 1, 3)\",\"('apply_transform-diffraction_pattern-getitem-integrate_fourier_space-mean_chunk-7c27699459f16da657e41b15feeef526', 2, 2, 5)\",\"('mean_chunk-7c27699459f16da657e41b15feeef526', 2, 2, 1)\",\"('mean_chunk-7c27699459f16da657e41b15feeef526', 2, 1, 6)\",\"('mean_combine-partial-050b968c8cd146d6456606e207b8ba53', 1, 2, 1)\",\"('mean_chunk-7c27699459f16da657e41b15feeef526', 2, 1, 4)\",\"('mean_combine-partial-050b968c8cd146d6456606e207b8ba53', 1, 1, 6)\",\"('mean_chunk-7c27699459f16da657e41b15feeef526', 2, 1, 5)\",\"('mean_chunk-7c27699459f16da657e41b15feeef526', 2, 2, 0)\",\"('mean_agg-aggregate-82f1adcf7d772d0866354043584b49c0', 2, 1)\",\"('mean_combine-partial-050b968c8cd146d6456606e207b8ba53', 1, 1, 4)\",\"('mean_agg-aggregate-82f1adcf7d772d0866354043584b49c0', 1, 6)\",\"('mean_combine-partial-050b968c8cd146d6456606e207b8ba53', 1, 1, 5)\",\"('mean_combine-partial-050b968c8cd146d6456606e207b8ba53', 1, 2, 0)\",\"('apply_transform-diffraction_pattern-getitem-integrate_fourier_space-mean_chunk-7c27699459f16da657e41b15feeef526', 2, 2, 6)\",\"('mean_agg-aggregate-82f1adcf7d772d0866354043584b49c0', 1, 4)\",\"('apply_transform-diffraction_pattern-getitem-integrate_fourier_space-mean_chunk-7c27699459f16da657e41b15feeef526', 2, 3, 0)\",\"('mean_agg-aggregate-82f1adcf7d772d0866354043584b49c0', 1, 5)\",\"('mean_agg-aggregate-82f1adcf7d772d0866354043584b49c0', 2, 0)\",\"('apply_transform-diffraction_pattern-getitem-integrate_fourier_space-mean_chunk-7c27699459f16da657e41b15feeef526', 2, 3, 1)\",\"('apply_transform-diffraction_pattern-getitem-integrate_fourier_space-mean_chunk-7c27699459f16da657e41b15feeef526', 2, 3, 2)\",\"('apply_transform-diffraction_pattern-getitem-integrate_fourier_space-mean_chunk-7c27699459f16da657e41b15feeef526', 2, 3, 4)\",\"('mean_chunk-7c27699459f16da657e41b15feeef526', 2, 2, 3)\",\"('mean_combine-partial-050b968c8cd146d6456606e207b8ba53', 1, 2, 3)\",\"('mean_chunk-7c27699459f16da657e41b15feeef526', 2, 2, 4)\",\"('mean_agg-aggregate-82f1adcf7d772d0866354043584b49c0', 2, 3)\",\"('mean_combine-partial-050b968c8cd146d6456606e207b8ba53', 1, 2, 4)\",\"('apply_transform-diffraction_pattern-getitem-integrate_fourier_space-mean_chunk-7c27699459f16da657e41b15feeef526', 2, 3, 5)\",\"('mean_agg-aggregate-82f1adcf7d772d0866354043584b49c0', 2, 4)\",\"('mean_chunk-7c27699459f16da657e41b15feeef526', 2, 2, 5)\",\"('mean_combine-partial-050b968c8cd146d6456606e207b8ba53', 1, 2, 5)\",\"('mean_agg-aggregate-82f1adcf7d772d0866354043584b49c0', 2, 5)\",\"('apply_transform-diffraction_pattern-getitem-integrate_fourier_space-mean_chunk-7c27699459f16da657e41b15feeef526', 2, 3, 6)\",\"('apply_transform-diffraction_pattern-getitem-integrate_fourier_space-mean_chunk-7c27699459f16da657e41b15feeef526', 2, 4, 0)\",\"('mean_chunk-7c27699459f16da657e41b15feeef526', 2, 2, 6)\",\"('mean_chunk-7c27699459f16da657e41b15feeef526', 2, 3, 4)\",\"('mean_chunk-7c27699459f16da657e41b15feeef526', 2, 3, 0)\",\"('mean_combine-partial-050b968c8cd146d6456606e207b8ba53', 1, 2, 6)\",\"('mean_combine-partial-050b968c8cd146d6456606e207b8ba53', 1, 3, 4)\",\"('mean_combine-partial-050b968c8cd146d6456606e207b8ba53', 1, 3, 0)\",\"('mean_agg-aggregate-82f1adcf7d772d0866354043584b49c0', 2, 6)\",\"('mean_agg-aggregate-82f1adcf7d772d0866354043584b49c0', 3, 4)\",\"('mean_chunk-7c27699459f16da657e41b15feeef526', 2, 3, 2)\",\"('mean_agg-aggregate-82f1adcf7d772d0866354043584b49c0', 3, 0)\",\"('apply_transform-diffraction_pattern-getitem-integrate_fourier_space-mean_chunk-7c27699459f16da657e41b15feeef526', 2, 4, 1)\",\"('apply_transform-diffraction_pattern-getitem-integrate_fourier_space-mean_chunk-7c27699459f16da657e41b15feeef526', 2, 4, 2)\",\"('mean_combine-partial-050b968c8cd146d6456606e207b8ba53', 1, 3, 2)\",\"('apply_transform-diffraction_pattern-getitem-integrate_fourier_space-mean_chunk-7c27699459f16da657e41b15feeef526', 2, 4, 3)\",\"('mean_chunk-7c27699459f16da657e41b15feeef526', 2, 3, 1)\",\"('mean_agg-aggregate-82f1adcf7d772d0866354043584b49c0', 3, 2)\",\"('mean_combine-partial-050b968c8cd146d6456606e207b8ba53', 1, 3, 1)\",\"('mean_agg-aggregate-82f1adcf7d772d0866354043584b49c0', 3, 1)\",\"('apply_transform-diffraction_pattern-getitem-integrate_fourier_space-mean_chunk-7c27699459f16da657e41b15feeef526', 2, 4, 5)\",\"('apply_transform-diffraction_pattern-getitem-integrate_fourier_space-mean_chunk-7c27699459f16da657e41b15feeef526', 2, 4, 6)\",\"('mean_chunk-7c27699459f16da657e41b15feeef526', 2, 3, 6)\",\"('mean_combine-partial-050b968c8cd146d6456606e207b8ba53', 1, 3, 6)\",\"('mean_agg-aggregate-82f1adcf7d772d0866354043584b49c0', 3, 6)\",\"('apply_transform-diffraction_pattern-getitem-integrate_fourier_space-mean_chunk-7c27699459f16da657e41b15feeef526', 2, 5, 0)\",\"('mean_chunk-7c27699459f16da657e41b15feeef526', 2, 3, 5)\",\"('mean_combine-partial-050b968c8cd146d6456606e207b8ba53', 1, 3, 5)\",\"('mean_agg-aggregate-82f1adcf7d772d0866354043584b49c0', 3, 5)\",\"('apply_transform-diffraction_pattern-getitem-integrate_fourier_space-mean_chunk-7c27699459f16da657e41b15feeef526', 2, 5, 1)\",\"('mean_chunk-7c27699459f16da657e41b15feeef526', 2, 4, 0)\",\"('mean_combine-partial-050b968c8cd146d6456606e207b8ba53', 1, 4, 0)\",\"('mean_agg-aggregate-82f1adcf7d772d0866354043584b49c0', 4, 0)\",\"('apply_transform-diffraction_pattern-getitem-integrate_fourier_space-mean_chunk-7c27699459f16da657e41b15feeef526', 2, 5, 2)\",\"('mean_chunk-7c27699459f16da657e41b15feeef526', 2, 4, 2)\",\"('mean_combine-partial-050b968c8cd146d6456606e207b8ba53', 1, 4, 2)\",\"('mean_agg-aggregate-82f1adcf7d772d0866354043584b49c0', 4, 2)\",\"('apply_transform-diffraction_pattern-getitem-integrate_fourier_space-mean_chunk-7c27699459f16da657e41b15feeef526', 2, 5, 3)\",\"('mean_chunk-7c27699459f16da657e41b15feeef526', 2, 4, 6)\",\"('mean_chunk-7c27699459f16da657e41b15feeef526', 2, 4, 3)\",\"('mean_combine-partial-050b968c8cd146d6456606e207b8ba53', 1, 4, 6)\",\"('mean_chunk-7c27699459f16da657e41b15feeef526', 2, 4, 5)\",\"('mean_combine-partial-050b968c8cd146d6456606e207b8ba53', 1, 4, 3)\",\"('mean_agg-aggregate-82f1adcf7d772d0866354043584b49c0', 4, 6)\",\"('mean_chunk-7c27699459f16da657e41b15feeef526', 2, 4, 1)\",\"('mean_combine-partial-050b968c8cd146d6456606e207b8ba53', 1, 4, 5)\",\"('mean_agg-aggregate-82f1adcf7d772d0866354043584b49c0', 4, 3)\",\"('apply_transform-diffraction_pattern-getitem-integrate_fourier_space-mean_chunk-7c27699459f16da657e41b15feeef526', 2, 5, 4)\",\"('mean_combine-partial-050b968c8cd146d6456606e207b8ba53', 1, 4, 1)\",\"('mean_agg-aggregate-82f1adcf7d772d0866354043584b49c0', 4, 5)\",\"('apply_transform-diffraction_pattern-getitem-integrate_fourier_space-mean_chunk-7c27699459f16da657e41b15feeef526', 2, 5, 6)\",\"('mean_agg-aggregate-82f1adcf7d772d0866354043584b49c0', 4, 1)\",\"('apply_transform-diffraction_pattern-getitem-integrate_fourier_space-mean_chunk-7c27699459f16da657e41b15feeef526', 2, 6, 0)\",\"('apply_transform-diffraction_pattern-getitem-integrate_fourier_space-mean_chunk-7c27699459f16da657e41b15feeef526', 2, 6, 1)\",\"('mean_chunk-7c27699459f16da657e41b15feeef526', 2, 5, 0)\",\"('mean_combine-partial-050b968c8cd146d6456606e207b8ba53', 1, 5, 0)\",\"('mean_agg-aggregate-82f1adcf7d772d0866354043584b49c0', 5, 0)\",\"('apply_transform-diffraction_pattern-getitem-integrate_fourier_space-mean_chunk-7c27699459f16da657e41b15feeef526', 2, 6, 2)\",\"('mean_chunk-7c27699459f16da657e41b15feeef526', 2, 5, 1)\",\"('mean_combine-partial-050b968c8cd146d6456606e207b8ba53', 1, 5, 1)\",\"('mean_agg-aggregate-82f1adcf7d772d0866354043584b49c0', 5, 1)\",\"('mean_chunk-7c27699459f16da657e41b15feeef526', 2, 5, 2)\",\"('apply_transform-diffraction_pattern-getitem-integrate_fourier_space-mean_chunk-7c27699459f16da657e41b15feeef526', 2, 6, 3)\",\"('mean_combine-partial-050b968c8cd146d6456606e207b8ba53', 1, 5, 2)\",\"('mean_agg-aggregate-82f1adcf7d772d0866354043584b49c0', 5, 2)\",\"('apply_transform-diffraction_pattern-getitem-integrate_fourier_space-mean_chunk-7c27699459f16da657e41b15feeef526', 2, 6, 4)\",\"('mean_chunk-7c27699459f16da657e41b15feeef526', 2, 5, 4)\",\"('mean_combine-partial-050b968c8cd146d6456606e207b8ba53', 1, 5, 4)\",\"('mean_agg-aggregate-82f1adcf7d772d0866354043584b49c0', 5, 4)\",\"('apply_transform-diffraction_pattern-getitem-integrate_fourier_space-mean_chunk-7c27699459f16da657e41b15feeef526', 2, 6, 5)\",\"('mean_chunk-7c27699459f16da657e41b15feeef526', 2, 6, 0)\",\"('mean_chunk-7c27699459f16da657e41b15feeef526', 2, 5, 6)\",\"('mean_combine-partial-050b968c8cd146d6456606e207b8ba53', 1, 6, 0)\",\"('mean_combine-partial-050b968c8cd146d6456606e207b8ba53', 1, 5, 6)\",\"('mean_agg-aggregate-82f1adcf7d772d0866354043584b49c0', 6, 0)\",\"('mean_agg-aggregate-82f1adcf7d772d0866354043584b49c0', 5, 6)\",\"('mean_chunk-7c27699459f16da657e41b15feeef526', 2, 5, 3)\",\"('mean_chunk-7c27699459f16da657e41b15feeef526', 2, 6, 1)\",\"('mean_combine-partial-050b968c8cd146d6456606e207b8ba53', 1, 5, 3)\",\"('mean_combine-partial-050b968c8cd146d6456606e207b8ba53', 1, 6, 1)\",\"('mean_agg-aggregate-82f1adcf7d772d0866354043584b49c0', 5, 3)\",\"('mean_agg-aggregate-82f1adcf7d772d0866354043584b49c0', 6, 1)\",\"('mean_chunk-7c27699459f16da657e41b15feeef526', 2, 6, 2)\",\"('mean_combine-partial-050b968c8cd146d6456606e207b8ba53', 1, 6, 2)\",\"('mean_agg-aggregate-82f1adcf7d772d0866354043584b49c0', 6, 2)\",\"('mean_chunk-7c27699459f16da657e41b15feeef526', 2, 6, 4)\",\"('mean_combine-partial-050b968c8cd146d6456606e207b8ba53', 1, 6, 4)\",\"('mean_chunk-7c27699459f16da657e41b15feeef526', 2, 6, 3)\",\"('mean_agg-aggregate-82f1adcf7d772d0866354043584b49c0', 6, 4)\",\"('mean_combine-partial-050b968c8cd146d6456606e207b8ba53', 1, 6, 3)\",\"('mean_agg-aggregate-82f1adcf7d772d0866354043584b49c0', 6, 3)\",\"('mean_chunk-7c27699459f16da657e41b15feeef526', 2, 6, 5)\",\"('mean_combine-partial-050b968c8cd146d6456606e207b8ba53', 1, 6, 5)\",\"('mean_agg-aggregate-82f1adcf7d772d0866354043584b49c0', 6, 5)\"]]]}}},\"view\":{\"type\":\"object\",\"name\":\"CDSView\",\"id\":\"p1040\",\"attributes\":{\"filter\":{\"type\":\"object\",\"name\":\"AllIndices\",\"id\":\"p1041\"}}},\"glyph\":{\"type\":\"object\",\"name\":\"Rect\",\"id\":\"p1036\",\"attributes\":{\"x\":{\"type\":\"field\",\"field\":\"x\"},\"y\":{\"type\":\"field\",\"field\":\"y\"},\"width\":{\"type\":\"field\",\"field\":\"width\"},\"height\":{\"type\":\"value\",\"value\":1},\"line_color\":{\"type\":\"value\",\"value\":\"gray\"},\"fill_color\":{\"type\":\"field\",\"field\":\"color\"},\"hatch_color\":{\"type\":\"field\",\"field\":\"color\"}}},\"nonselection_glyph\":{\"type\":\"object\",\"name\":\"Rect\",\"id\":\"p1037\",\"attributes\":{\"x\":{\"type\":\"field\",\"field\":\"x\"},\"y\":{\"type\":\"field\",\"field\":\"y\"},\"width\":{\"type\":\"field\",\"field\":\"width\"},\"height\":{\"type\":\"value\",\"value\":1},\"line_color\":{\"type\":\"value\",\"value\":\"gray\"},\"line_alpha\":{\"type\":\"value\",\"value\":0.1},\"fill_color\":{\"type\":\"field\",\"field\":\"color\"},\"fill_alpha\":{\"type\":\"value\",\"value\":0.1},\"hatch_color\":{\"type\":\"field\",\"field\":\"color\"},\"hatch_alpha\":{\"type\":\"value\",\"value\":0.1}}},\"muted_glyph\":{\"type\":\"object\",\"name\":\"Rect\",\"id\":\"p1038\",\"attributes\":{\"x\":{\"type\":\"field\",\"field\":\"x\"},\"y\":{\"type\":\"field\",\"field\":\"y\"},\"width\":{\"type\":\"field\",\"field\":\"width\"},\"height\":{\"type\":\"value\",\"value\":1},\"line_color\":{\"type\":\"value\",\"value\":\"gray\"},\"line_alpha\":{\"type\":\"value\",\"value\":0.2},\"fill_color\":{\"type\":\"field\",\"field\":\"color\"},\"fill_alpha\":{\"type\":\"value\",\"value\":0.2},\"hatch_color\":{\"type\":\"field\",\"field\":\"color\"},\"hatch_alpha\":{\"type\":\"value\",\"value\":0.2}}}}}],\"toolbar\":{\"type\":\"object\",\"name\":\"Toolbar\",\"id\":\"p1010\",\"attributes\":{\"tools\":[{\"type\":\"object\",\"name\":\"HoverTool\",\"id\":\"p1025\",\"attributes\":{\"renderers\":\"auto\",\"tooltips\":\"\\n    <div>\\n        <span style=\\\"font-size: 14px; font-weight: bold;\\\">Key:</span>&nbsp;\\n        <span style=\\\"font-size: 10px; font-family: Monaco, monospace;\\\">@key</span>\\n    </div>\\n    <div>\\n        <span style=\\\"font-size: 14px; font-weight: bold;\\\">Task:</span>&nbsp;\\n        <span style=\\\"font-size: 10px; font-family: Monaco, monospace;\\\">@function</span>\\n    </div>\\n    \",\"point_policy\":\"follow_mouse\"}},{\"type\":\"object\",\"name\":\"SaveTool\",\"id\":\"p1026\"},{\"type\":\"object\",\"name\":\"ResetTool\",\"id\":\"p1027\"},{\"type\":\"object\",\"name\":\"WheelZoomTool\",\"id\":\"p1028\",\"attributes\":{\"dimensions\":\"width\"}},{\"type\":\"object\",\"name\":\"PanTool\",\"id\":\"p1029\",\"attributes\":{\"dimensions\":\"width\"}}]}},\"toolbar_location\":\"above\",\"left\":[{\"type\":\"object\",\"name\":\"CategoricalAxis\",\"id\":\"p1020\",\"attributes\":{\"ticker\":{\"type\":\"object\",\"name\":\"CategoricalTicker\",\"id\":\"p1021\"},\"formatter\":{\"type\":\"object\",\"name\":\"CategoricalTickFormatter\",\"id\":\"p1022\"},\"axis_label\":\"Worker ID\",\"major_label_policy\":{\"type\":\"object\",\"name\":\"AllLabels\",\"id\":\"p1023\"},\"axis_line_color\":null,\"major_tick_line_color\":null}}],\"below\":[{\"type\":\"object\",\"name\":\"LinearAxis\",\"id\":\"p1015\",\"attributes\":{\"ticker\":{\"type\":\"object\",\"name\":\"BasicTicker\",\"id\":\"p1016\",\"attributes\":{\"mantissas\":[1,2,5]}},\"formatter\":{\"type\":\"object\",\"name\":\"BasicTickFormatter\",\"id\":\"p1017\"},\"axis_label\":\"Time (s)\",\"major_label_policy\":{\"type\":\"object\",\"name\":\"AllLabels\",\"id\":\"p1018\"},\"axis_line_color\":null,\"major_tick_line_color\":null}}],\"center\":[{\"type\":\"object\",\"name\":\"Grid\",\"id\":\"p1019\",\"attributes\":{\"axis\":{\"id\":\"p1015\"},\"grid_line_color\":null}},{\"type\":\"object\",\"name\":\"Grid\",\"id\":\"p1024\",\"attributes\":{\"dimension\":1,\"axis\":{\"id\":\"p1020\"},\"grid_line_color\":null}}]}}]}};\n",
       "  const render_items = [{\"docid\":\"634eab61-39a3-4183-af35-8bdb4065a0a6\",\"roots\":{\"p1001\":\"b00102f0-b43f-4bae-8a14-f961382df65d\"},\"root_ids\":[\"p1001\"]}];\n",
       "  root.Bokeh.embed.embed_items_notebook(docs_json, render_items);\n",
       "  }\n",
       "  if (root.Bokeh !== undefined) {\n",
       "    embed_document(root);\n",
       "  } else {\n",
       "    let attempts = 0;\n",
       "    const timer = setInterval(function(root) {\n",
       "      if (root.Bokeh !== undefined) {\n",
       "        clearInterval(timer);\n",
       "        embed_document(root);\n",
       "      } else {\n",
       "        attempts++;\n",
       "        if (attempts > 100) {\n",
       "          clearInterval(timer);\n",
       "          console.log(\"Bokeh: ERROR: Unable to run BokehJS code because BokehJS library is missing\");\n",
       "        }\n",
       "      }\n",
       "    }, 10, root)\n",
       "  }\n",
       "})(window);"
      ],
      "application/vnd.bokehjs_exec.v0+json": ""
     },
     "metadata": {
      "application/vnd.bokehjs_exec.v0+json": {
       "id": "p1001"
      }
     },
     "output_type": "display_data"
    }
   ],
   "source": [
    "profilers[0].visualize();"
   ]
  },
  {
   "cell_type": "markdown",
   "id": "9f7afda6-5b1d-4362-9495-4ad140716f5f",
   "metadata": {},
   "source": [
    "The result from the `ResourceProfiler` is shown below: This shows two lines, one for total CPU percentage used by all the workers, and one for total memory usage. The CPU usage is scaled so each worker contributes up to $100 \\ \\%$, i.e. two fully utilized workers use $200 \\ \\%$."
   ]
  },
  {
   "cell_type": "code",
   "execution_count": 15,
   "id": "42497cde-4e5c-4844-91e5-e8d91e1aafa9",
   "metadata": {
    "tags": [
     "skip-test"
    ]
   },
   "outputs": [
    {
     "data": {
      "text/html": [
       "\n",
       "  <div id=\"cd30d290-188c-4de7-8a61-bbfa5a3c8c52\" data-root-id=\"p1042\" style=\"display: contents;\"></div>\n"
      ]
     },
     "metadata": {},
     "output_type": "display_data"
    },
    {
     "data": {
      "application/javascript": [
       "(function(root) {\n",
       "  function embed_document(root) {\n",
       "  const docs_json = {\"0141bafd-167d-45da-a7e2-a16868fb0189\":{\"version\":\"3.2.2\",\"title\":\"Bokeh Application\",\"roots\":[{\"type\":\"object\",\"name\":\"Figure\",\"id\":\"p1042\",\"attributes\":{\"width\":800,\"height\":300,\"x_range\":{\"type\":\"object\",\"name\":\"Range1d\",\"id\":\"p1052\",\"attributes\":{\"end\":22.54097960307263}},\"y_range\":{\"type\":\"object\",\"name\":\"Range1d\",\"id\":\"p1053\",\"attributes\":{\"end\":518.6}},\"x_scale\":{\"type\":\"object\",\"name\":\"LinearScale\",\"id\":\"p1054\"},\"y_scale\":{\"type\":\"object\",\"name\":\"LinearScale\",\"id\":\"p1055\"},\"extra_y_ranges\":{\"type\":\"map\",\"entries\":[[\"memory\",{\"type\":\"object\",\"name\":\"Range1d\",\"id\":\"p1081\",\"attributes\":{\"start\":378.0608,\"end\":513.703936}}]]},\"title\":{\"type\":\"object\",\"name\":\"Title\",\"id\":\"p1045\",\"attributes\":{\"text\":\"Profile Results\"}},\"renderers\":[{\"type\":\"object\",\"name\":\"GlyphRenderer\",\"id\":\"p1076\",\"attributes\":{\"data_source\":{\"type\":\"object\",\"name\":\"ColumnDataSource\",\"id\":\"p1070\",\"attributes\":{\"selected\":{\"type\":\"object\",\"name\":\"Selection\",\"id\":\"p1071\",\"attributes\":{\"indices\":[],\"line_indices\":[]}},\"selection_policy\":{\"type\":\"object\",\"name\":\"UnionRenderers\",\"id\":\"p1072\"},\"data\":{\"type\":\"map\",\"entries\":[[\"x\",[0.4262514659203589,1.442048440920189,2.444457415957004,3.4454892289359123,4.449702763929963,5.450672588078305,6.457046040100977,7.462386084022,8.46278047398664,9.463173158001155,10.466075892094523,11.466746144928038,12.470979732926935,13.474656714126468,14.479339319979772,15.483215464046225,16.484501485945657,17.485255863983184,18.486936904024333,19.490622747922316,20.493384826928377,21.495456204051152]],[\"y\",[0.0,416.2,419.3,408.2,453.4,366.2,372.3,390.4,376.5,405.1,492.4,477.5,454.8,493.2,446.7,479.9,509.7,518.6,456.4,307.5,310.7,299.4]]]}}},\"view\":{\"type\":\"object\",\"name\":\"CDSView\",\"id\":\"p1077\",\"attributes\":{\"filter\":{\"type\":\"object\",\"name\":\"AllIndices\",\"id\":\"p1078\"}}},\"glyph\":{\"type\":\"object\",\"name\":\"Line\",\"id\":\"p1073\",\"attributes\":{\"x\":{\"type\":\"field\",\"field\":\"x\"},\"y\":{\"type\":\"field\",\"field\":\"y\"},\"line_color\":\"#440154\",\"line_width\":4}},\"nonselection_glyph\":{\"type\":\"object\",\"name\":\"Line\",\"id\":\"p1074\",\"attributes\":{\"x\":{\"type\":\"field\",\"field\":\"x\"},\"y\":{\"type\":\"field\",\"field\":\"y\"},\"line_color\":\"#440154\",\"line_alpha\":0.1,\"line_width\":4}},\"muted_glyph\":{\"type\":\"object\",\"name\":\"Line\",\"id\":\"p1075\",\"attributes\":{\"x\":{\"type\":\"field\",\"field\":\"x\"},\"y\":{\"type\":\"field\",\"field\":\"y\"},\"line_color\":\"#440154\",\"line_alpha\":0.2,\"line_width\":4}}}},{\"type\":\"object\",\"name\":\"GlyphRenderer\",\"id\":\"p1088\",\"attributes\":{\"y_range_name\":\"memory\",\"data_source\":{\"type\":\"object\",\"name\":\"ColumnDataSource\",\"id\":\"p1082\",\"attributes\":{\"selected\":{\"type\":\"object\",\"name\":\"Selection\",\"id\":\"p1083\",\"attributes\":{\"indices\":[],\"line_indices\":[]}},\"selection_policy\":{\"type\":\"object\",\"name\":\"UnionRenderers\",\"id\":\"p1084\"},\"data\":{\"type\":\"map\",\"entries\":[[\"x\",[0.4262514659203589,1.442048440920189,2.444457415957004,3.4454892289359123,4.449702763929963,5.450672588078305,6.457046040100977,7.462386084022,8.46278047398664,9.463173158001155,10.466075892094523,11.466746144928038,12.470979732926935,13.474656714126468,14.479339319979772,15.483215464046225,16.484501485945657,17.485255863983184,18.486936904024333,19.490622747922316,20.493384826928377,21.495456204051152]],[\"y\",[467.2512,467.841024,463.777792,464.54784,411.623424,378.0608,436.77696,503.189504,486.535168,485.666816,460.537856,430.727168,501.239808,475.451392,463.17568,471.400448,513.703936,467.369984,432.635904,460.546048,464.789504,392.761344]]]}}},\"view\":{\"type\":\"object\",\"name\":\"CDSView\",\"id\":\"p1089\",\"attributes\":{\"filter\":{\"type\":\"object\",\"name\":\"AllIndices\",\"id\":\"p1090\"}}},\"glyph\":{\"type\":\"object\",\"name\":\"Line\",\"id\":\"p1085\",\"attributes\":{\"x\":{\"type\":\"field\",\"field\":\"x\"},\"y\":{\"type\":\"field\",\"field\":\"y\"},\"line_color\":\"#29788E\",\"line_width\":4}},\"nonselection_glyph\":{\"type\":\"object\",\"name\":\"Line\",\"id\":\"p1086\",\"attributes\":{\"x\":{\"type\":\"field\",\"field\":\"x\"},\"y\":{\"type\":\"field\",\"field\":\"y\"},\"line_color\":\"#29788E\",\"line_alpha\":0.1,\"line_width\":4}},\"muted_glyph\":{\"type\":\"object\",\"name\":\"Line\",\"id\":\"p1087\",\"attributes\":{\"x\":{\"type\":\"field\",\"field\":\"x\"},\"y\":{\"type\":\"field\",\"field\":\"y\"},\"line_color\":\"#29788E\",\"line_alpha\":0.2,\"line_width\":4}}}}],\"toolbar\":{\"type\":\"object\",\"name\":\"Toolbar\",\"id\":\"p1051\",\"attributes\":{\"tools\":[{\"type\":\"object\",\"name\":\"SaveTool\",\"id\":\"p1066\"},{\"type\":\"object\",\"name\":\"ResetTool\",\"id\":\"p1067\"},{\"type\":\"object\",\"name\":\"WheelZoomTool\",\"id\":\"p1068\",\"attributes\":{\"dimensions\":\"width\"}},{\"type\":\"object\",\"name\":\"PanTool\",\"id\":\"p1069\",\"attributes\":{\"dimensions\":\"width\"}}]}},\"toolbar_location\":\"above\",\"left\":[{\"type\":\"object\",\"name\":\"LinearAxis\",\"id\":\"p1061\",\"attributes\":{\"ticker\":{\"type\":\"object\",\"name\":\"BasicTicker\",\"id\":\"p1062\",\"attributes\":{\"mantissas\":[1,2,5]}},\"formatter\":{\"type\":\"object\",\"name\":\"BasicTickFormatter\",\"id\":\"p1063\"},\"axis_label\":\"% CPU\",\"major_label_policy\":{\"type\":\"object\",\"name\":\"AllLabels\",\"id\":\"p1064\"}}}],\"right\":[{\"type\":\"object\",\"name\":\"LinearAxis\",\"id\":\"p1092\",\"attributes\":{\"y_range_name\":\"memory\",\"ticker\":{\"type\":\"object\",\"name\":\"BasicTicker\",\"id\":\"p1093\",\"attributes\":{\"mantissas\":[1,2,5]}},\"formatter\":{\"type\":\"object\",\"name\":\"BasicTickFormatter\",\"id\":\"p1094\"},\"axis_label\":\"Memory (MB)\",\"major_label_policy\":{\"type\":\"object\",\"name\":\"AllLabels\",\"id\":\"p1095\"}}}],\"below\":[{\"type\":\"object\",\"name\":\"LinearAxis\",\"id\":\"p1056\",\"attributes\":{\"ticker\":{\"type\":\"object\",\"name\":\"BasicTicker\",\"id\":\"p1057\",\"attributes\":{\"mantissas\":[1,2,5]}},\"formatter\":{\"type\":\"object\",\"name\":\"BasicTickFormatter\",\"id\":\"p1058\"},\"axis_label\":\"Time (s)\",\"major_label_policy\":{\"type\":\"object\",\"name\":\"AllLabels\",\"id\":\"p1059\"}}}],\"center\":[{\"type\":\"object\",\"name\":\"Grid\",\"id\":\"p1060\",\"attributes\":{\"axis\":{\"id\":\"p1056\"}}},{\"type\":\"object\",\"name\":\"Grid\",\"id\":\"p1065\",\"attributes\":{\"dimension\":1,\"axis\":{\"id\":\"p1061\"}}},{\"type\":\"object\",\"name\":\"Legend\",\"id\":\"p1079\",\"attributes\":{\"items\":[{\"type\":\"object\",\"name\":\"LegendItem\",\"id\":\"p1080\",\"attributes\":{\"label\":{\"type\":\"value\",\"value\":\"% CPU\"},\"renderers\":[{\"id\":\"p1076\"}]}},{\"type\":\"object\",\"name\":\"LegendItem\",\"id\":\"p1091\",\"attributes\":{\"label\":{\"type\":\"value\",\"value\":\"Memory\"},\"renderers\":[{\"id\":\"p1088\"}]}}]}}]}}]}};\n",
       "  const render_items = [{\"docid\":\"0141bafd-167d-45da-a7e2-a16868fb0189\",\"roots\":{\"p1042\":\"cd30d290-188c-4de7-8a61-bbfa5a3c8c52\"},\"root_ids\":[\"p1042\"]}];\n",
       "  root.Bokeh.embed.embed_items_notebook(docs_json, render_items);\n",
       "  }\n",
       "  if (root.Bokeh !== undefined) {\n",
       "    embed_document(root);\n",
       "  } else {\n",
       "    let attempts = 0;\n",
       "    const timer = setInterval(function(root) {\n",
       "      if (root.Bokeh !== undefined) {\n",
       "        clearInterval(timer);\n",
       "        embed_document(root);\n",
       "      } else {\n",
       "        attempts++;\n",
       "        if (attempts > 100) {\n",
       "          clearInterval(timer);\n",
       "          console.log(\"Bokeh: ERROR: Unable to run BokehJS code because BokehJS library is missing\");\n",
       "        }\n",
       "      }\n",
       "    }, 10, root)\n",
       "  }\n",
       "})(window);"
      ],
      "application/vnd.bokehjs_exec.v0+json": ""
     },
     "metadata": {
      "application/vnd.bokehjs_exec.v0+json": {
       "id": "p1042"
      }
     },
     "output_type": "display_data"
    }
   ],
   "source": [
    "profilers[1].visualize();"
   ]
  },
  {
   "cell_type": "markdown",
   "id": "95a9fa0a-f044-40cd-8964-9e4a1911fa87",
   "metadata": {},
   "source": [
    "We ran the calculation on a single computer with an 4-core CPU with 2 threads per core for 8 threads total. We see that our peak CPU usage was $\\sim 600 \\%$, this is a fairly typical usage statistic for a single machine, overhead and background processes limited us from reaching the $800 \\ \\%$ corresponding to using every available thread maximally.\n",
    "\n",
    "We also see that the total memory use reached around 800 MB. If you are running the calculation on a system with more threads your memory consumption may be larger – it may even exceed the total memory cost of all the wave functions, as every parallel run of the multislice algorithm requires a significant overhead for intermediate results (such as potential slices and Fresnel propagators). If your calculation runs out of memory you can lower the number of workers, thus trading away computational speed for lower memory consumption.\n",
    "\n",
    "We note that the overhead in both CPU usage and memory diminishes for larger simulation with more powerful hardware."
   ]
  },
  {
   "cell_type": "markdown",
   "id": "88a96448-5a2a-4c60-9ce7-7a2f43845d3c",
   "metadata": {},
   "source": [
    "### The (locally) distributed scheduler\n",
    "The Dask distributed scheduler is necessary for running your simulations on a cluster, but it also runs [locally on a personal machine](https://docs.dask.org/en/stable/scheduling.html#dask-distributed-local). You can find details in the Dask documentation, but we demonstrate the basics below.\n",
    "\n",
    "You can use the Dask distributed scheduler by just initializing a [Dask Client](https://distributed.dask.org/en/stable/client.html). The `Client` takes keyword arguments such as `n_workers` (note that this is different from `num_workers` above!)"
   ]
  },
  {
   "cell_type": "code",
   "execution_count": 16,
   "id": "2b7c37a3-909c-482e-99fb-72e4eb222a5a",
   "metadata": {},
   "outputs": [
    {
     "data": {
      "text/html": [
       "<div>\n",
       "    <div style=\"width: 24px; height: 24px; background-color: #e1e1e1; border: 3px solid #9D9D9D; border-radius: 5px; position: absolute;\"> </div>\n",
       "    <div style=\"margin-left: 48px;\">\n",
       "        <h3 style=\"margin-bottom: 0px;\">Client</h3>\n",
       "        <p style=\"color: #9D9D9D; margin-bottom: 0px;\">Client-18393fae-66ba-11ee-8dbf-f218984d7c80</p>\n",
       "        <table style=\"width: 100%; text-align: left;\">\n",
       "\n",
       "        <tr>\n",
       "        \n",
       "            <td style=\"text-align: left;\"><strong>Connection method:</strong> Cluster object</td>\n",
       "            <td style=\"text-align: left;\"><strong>Cluster type:</strong> distributed.LocalCluster</td>\n",
       "        \n",
       "        </tr>\n",
       "\n",
       "        \n",
       "            <tr>\n",
       "                <td style=\"text-align: left;\">\n",
       "                    <strong>Dashboard: </strong> <a href=\"http://127.0.0.1:8787/status\" target=\"_blank\">http://127.0.0.1:8787/status</a>\n",
       "                </td>\n",
       "                <td style=\"text-align: left;\"></td>\n",
       "            </tr>\n",
       "        \n",
       "\n",
       "        </table>\n",
       "\n",
       "        \n",
       "\n",
       "        \n",
       "            <details>\n",
       "            <summary style=\"margin-bottom: 20px;\"><h3 style=\"display: inline;\">Cluster Info</h3></summary>\n",
       "            <div class=\"jp-RenderedHTMLCommon jp-RenderedHTML jp-mod-trusted jp-OutputArea-output\">\n",
       "    <div style=\"width: 24px; height: 24px; background-color: #e1e1e1; border: 3px solid #9D9D9D; border-radius: 5px; position: absolute;\">\n",
       "    </div>\n",
       "    <div style=\"margin-left: 48px;\">\n",
       "        <h3 style=\"margin-bottom: 0px; margin-top: 0px;\">LocalCluster</h3>\n",
       "        <p style=\"color: #9D9D9D; margin-bottom: 0px;\">c17fc545</p>\n",
       "        <table style=\"width: 100%; text-align: left;\">\n",
       "            <tr>\n",
       "                <td style=\"text-align: left;\">\n",
       "                    <strong>Dashboard:</strong> <a href=\"http://127.0.0.1:8787/status\" target=\"_blank\">http://127.0.0.1:8787/status</a>\n",
       "                </td>\n",
       "                <td style=\"text-align: left;\">\n",
       "                    <strong>Workers:</strong> 6\n",
       "                </td>\n",
       "            </tr>\n",
       "            <tr>\n",
       "                <td style=\"text-align: left;\">\n",
       "                    <strong>Total threads:</strong> 12\n",
       "                </td>\n",
       "                <td style=\"text-align: left;\">\n",
       "                    <strong>Total memory:</strong> 16.00 GiB\n",
       "                </td>\n",
       "            </tr>\n",
       "            \n",
       "            <tr>\n",
       "    <td style=\"text-align: left;\"><strong>Status:</strong> running</td>\n",
       "    <td style=\"text-align: left;\"><strong>Using processes:</strong> True</td>\n",
       "</tr>\n",
       "\n",
       "            \n",
       "        </table>\n",
       "\n",
       "        <details>\n",
       "            <summary style=\"margin-bottom: 20px;\">\n",
       "                <h3 style=\"display: inline;\">Scheduler Info</h3>\n",
       "            </summary>\n",
       "\n",
       "            <div style=\"\">\n",
       "    <div>\n",
       "        <div style=\"width: 24px; height: 24px; background-color: #FFF7E5; border: 3px solid #FF6132; border-radius: 5px; position: absolute;\"> </div>\n",
       "        <div style=\"margin-left: 48px;\">\n",
       "            <h3 style=\"margin-bottom: 0px;\">Scheduler</h3>\n",
       "            <p style=\"color: #9D9D9D; margin-bottom: 0px;\">Scheduler-6962da7e-c48d-44bf-835b-43c6d4aa1c5c</p>\n",
       "            <table style=\"width: 100%; text-align: left;\">\n",
       "                <tr>\n",
       "                    <td style=\"text-align: left;\">\n",
       "                        <strong>Comm:</strong> tcp://127.0.0.1:51519\n",
       "                    </td>\n",
       "                    <td style=\"text-align: left;\">\n",
       "                        <strong>Workers:</strong> 6\n",
       "                    </td>\n",
       "                </tr>\n",
       "                <tr>\n",
       "                    <td style=\"text-align: left;\">\n",
       "                        <strong>Dashboard:</strong> <a href=\"http://127.0.0.1:8787/status\" target=\"_blank\">http://127.0.0.1:8787/status</a>\n",
       "                    </td>\n",
       "                    <td style=\"text-align: left;\">\n",
       "                        <strong>Total threads:</strong> 12\n",
       "                    </td>\n",
       "                </tr>\n",
       "                <tr>\n",
       "                    <td style=\"text-align: left;\">\n",
       "                        <strong>Started:</strong> Just now\n",
       "                    </td>\n",
       "                    <td style=\"text-align: left;\">\n",
       "                        <strong>Total memory:</strong> 16.00 GiB\n",
       "                    </td>\n",
       "                </tr>\n",
       "            </table>\n",
       "        </div>\n",
       "    </div>\n",
       "\n",
       "    <details style=\"margin-left: 48px;\">\n",
       "        <summary style=\"margin-bottom: 20px;\">\n",
       "            <h3 style=\"display: inline;\">Workers</h3>\n",
       "        </summary>\n",
       "\n",
       "        \n",
       "        <div style=\"margin-bottom: 20px;\">\n",
       "            <div style=\"width: 24px; height: 24px; background-color: #DBF5FF; border: 3px solid #4CC9FF; border-radius: 5px; position: absolute;\"> </div>\n",
       "            <div style=\"margin-left: 48px;\">\n",
       "            <details>\n",
       "                <summary>\n",
       "                    <h4 style=\"margin-bottom: 0px; display: inline;\">Worker: 0</h4>\n",
       "                </summary>\n",
       "                <table style=\"width: 100%; text-align: left;\">\n",
       "                    <tr>\n",
       "                        <td style=\"text-align: left;\">\n",
       "                            <strong>Comm: </strong> tcp://127.0.0.1:51534\n",
       "                        </td>\n",
       "                        <td style=\"text-align: left;\">\n",
       "                            <strong>Total threads: </strong> 2\n",
       "                        </td>\n",
       "                    </tr>\n",
       "                    <tr>\n",
       "                        <td style=\"text-align: left;\">\n",
       "                            <strong>Dashboard: </strong> <a href=\"http://127.0.0.1:51537/status\" target=\"_blank\">http://127.0.0.1:51537/status</a>\n",
       "                        </td>\n",
       "                        <td style=\"text-align: left;\">\n",
       "                            <strong>Memory: </strong> 2.67 GiB\n",
       "                        </td>\n",
       "                    </tr>\n",
       "                    <tr>\n",
       "                        <td style=\"text-align: left;\">\n",
       "                            <strong>Nanny: </strong> tcp://127.0.0.1:51522\n",
       "                        </td>\n",
       "                        <td style=\"text-align: left;\"></td>\n",
       "                    </tr>\n",
       "                    <tr>\n",
       "                        <td colspan=\"2\" style=\"text-align: left;\">\n",
       "                            <strong>Local directory: </strong> /var/folders/_p/k7hrlnh132n933827sxdjkrm0000gn/T/dask-scratch-space/worker-shd481gw\n",
       "                        </td>\n",
       "                    </tr>\n",
       "\n",
       "                    \n",
       "\n",
       "                    \n",
       "\n",
       "                </table>\n",
       "            </details>\n",
       "            </div>\n",
       "        </div>\n",
       "        \n",
       "        <div style=\"margin-bottom: 20px;\">\n",
       "            <div style=\"width: 24px; height: 24px; background-color: #DBF5FF; border: 3px solid #4CC9FF; border-radius: 5px; position: absolute;\"> </div>\n",
       "            <div style=\"margin-left: 48px;\">\n",
       "            <details>\n",
       "                <summary>\n",
       "                    <h4 style=\"margin-bottom: 0px; display: inline;\">Worker: 1</h4>\n",
       "                </summary>\n",
       "                <table style=\"width: 100%; text-align: left;\">\n",
       "                    <tr>\n",
       "                        <td style=\"text-align: left;\">\n",
       "                            <strong>Comm: </strong> tcp://127.0.0.1:51535\n",
       "                        </td>\n",
       "                        <td style=\"text-align: left;\">\n",
       "                            <strong>Total threads: </strong> 2\n",
       "                        </td>\n",
       "                    </tr>\n",
       "                    <tr>\n",
       "                        <td style=\"text-align: left;\">\n",
       "                            <strong>Dashboard: </strong> <a href=\"http://127.0.0.1:51536/status\" target=\"_blank\">http://127.0.0.1:51536/status</a>\n",
       "                        </td>\n",
       "                        <td style=\"text-align: left;\">\n",
       "                            <strong>Memory: </strong> 2.67 GiB\n",
       "                        </td>\n",
       "                    </tr>\n",
       "                    <tr>\n",
       "                        <td style=\"text-align: left;\">\n",
       "                            <strong>Nanny: </strong> tcp://127.0.0.1:51523\n",
       "                        </td>\n",
       "                        <td style=\"text-align: left;\"></td>\n",
       "                    </tr>\n",
       "                    <tr>\n",
       "                        <td colspan=\"2\" style=\"text-align: left;\">\n",
       "                            <strong>Local directory: </strong> /var/folders/_p/k7hrlnh132n933827sxdjkrm0000gn/T/dask-scratch-space/worker-tt77px6j\n",
       "                        </td>\n",
       "                    </tr>\n",
       "\n",
       "                    \n",
       "\n",
       "                    \n",
       "\n",
       "                </table>\n",
       "            </details>\n",
       "            </div>\n",
       "        </div>\n",
       "        \n",
       "        <div style=\"margin-bottom: 20px;\">\n",
       "            <div style=\"width: 24px; height: 24px; background-color: #DBF5FF; border: 3px solid #4CC9FF; border-radius: 5px; position: absolute;\"> </div>\n",
       "            <div style=\"margin-left: 48px;\">\n",
       "            <details>\n",
       "                <summary>\n",
       "                    <h4 style=\"margin-bottom: 0px; display: inline;\">Worker: 2</h4>\n",
       "                </summary>\n",
       "                <table style=\"width: 100%; text-align: left;\">\n",
       "                    <tr>\n",
       "                        <td style=\"text-align: left;\">\n",
       "                            <strong>Comm: </strong> tcp://127.0.0.1:51539\n",
       "                        </td>\n",
       "                        <td style=\"text-align: left;\">\n",
       "                            <strong>Total threads: </strong> 2\n",
       "                        </td>\n",
       "                    </tr>\n",
       "                    <tr>\n",
       "                        <td style=\"text-align: left;\">\n",
       "                            <strong>Dashboard: </strong> <a href=\"http://127.0.0.1:51541/status\" target=\"_blank\">http://127.0.0.1:51541/status</a>\n",
       "                        </td>\n",
       "                        <td style=\"text-align: left;\">\n",
       "                            <strong>Memory: </strong> 2.67 GiB\n",
       "                        </td>\n",
       "                    </tr>\n",
       "                    <tr>\n",
       "                        <td style=\"text-align: left;\">\n",
       "                            <strong>Nanny: </strong> tcp://127.0.0.1:51524\n",
       "                        </td>\n",
       "                        <td style=\"text-align: left;\"></td>\n",
       "                    </tr>\n",
       "                    <tr>\n",
       "                        <td colspan=\"2\" style=\"text-align: left;\">\n",
       "                            <strong>Local directory: </strong> /var/folders/_p/k7hrlnh132n933827sxdjkrm0000gn/T/dask-scratch-space/worker-tj5lud5k\n",
       "                        </td>\n",
       "                    </tr>\n",
       "\n",
       "                    \n",
       "\n",
       "                    \n",
       "\n",
       "                </table>\n",
       "            </details>\n",
       "            </div>\n",
       "        </div>\n",
       "        \n",
       "        <div style=\"margin-bottom: 20px;\">\n",
       "            <div style=\"width: 24px; height: 24px; background-color: #DBF5FF; border: 3px solid #4CC9FF; border-radius: 5px; position: absolute;\"> </div>\n",
       "            <div style=\"margin-left: 48px;\">\n",
       "            <details>\n",
       "                <summary>\n",
       "                    <h4 style=\"margin-bottom: 0px; display: inline;\">Worker: 3</h4>\n",
       "                </summary>\n",
       "                <table style=\"width: 100%; text-align: left;\">\n",
       "                    <tr>\n",
       "                        <td style=\"text-align: left;\">\n",
       "                            <strong>Comm: </strong> tcp://127.0.0.1:51543\n",
       "                        </td>\n",
       "                        <td style=\"text-align: left;\">\n",
       "                            <strong>Total threads: </strong> 2\n",
       "                        </td>\n",
       "                    </tr>\n",
       "                    <tr>\n",
       "                        <td style=\"text-align: left;\">\n",
       "                            <strong>Dashboard: </strong> <a href=\"http://127.0.0.1:51545/status\" target=\"_blank\">http://127.0.0.1:51545/status</a>\n",
       "                        </td>\n",
       "                        <td style=\"text-align: left;\">\n",
       "                            <strong>Memory: </strong> 2.67 GiB\n",
       "                        </td>\n",
       "                    </tr>\n",
       "                    <tr>\n",
       "                        <td style=\"text-align: left;\">\n",
       "                            <strong>Nanny: </strong> tcp://127.0.0.1:51525\n",
       "                        </td>\n",
       "                        <td style=\"text-align: left;\"></td>\n",
       "                    </tr>\n",
       "                    <tr>\n",
       "                        <td colspan=\"2\" style=\"text-align: left;\">\n",
       "                            <strong>Local directory: </strong> /var/folders/_p/k7hrlnh132n933827sxdjkrm0000gn/T/dask-scratch-space/worker-3p222m99\n",
       "                        </td>\n",
       "                    </tr>\n",
       "\n",
       "                    \n",
       "\n",
       "                    \n",
       "\n",
       "                </table>\n",
       "            </details>\n",
       "            </div>\n",
       "        </div>\n",
       "        \n",
       "        <div style=\"margin-bottom: 20px;\">\n",
       "            <div style=\"width: 24px; height: 24px; background-color: #DBF5FF; border: 3px solid #4CC9FF; border-radius: 5px; position: absolute;\"> </div>\n",
       "            <div style=\"margin-left: 48px;\">\n",
       "            <details>\n",
       "                <summary>\n",
       "                    <h4 style=\"margin-bottom: 0px; display: inline;\">Worker: 4</h4>\n",
       "                </summary>\n",
       "                <table style=\"width: 100%; text-align: left;\">\n",
       "                    <tr>\n",
       "                        <td style=\"text-align: left;\">\n",
       "                            <strong>Comm: </strong> tcp://127.0.0.1:51544\n",
       "                        </td>\n",
       "                        <td style=\"text-align: left;\">\n",
       "                            <strong>Total threads: </strong> 2\n",
       "                        </td>\n",
       "                    </tr>\n",
       "                    <tr>\n",
       "                        <td style=\"text-align: left;\">\n",
       "                            <strong>Dashboard: </strong> <a href=\"http://127.0.0.1:51547/status\" target=\"_blank\">http://127.0.0.1:51547/status</a>\n",
       "                        </td>\n",
       "                        <td style=\"text-align: left;\">\n",
       "                            <strong>Memory: </strong> 2.67 GiB\n",
       "                        </td>\n",
       "                    </tr>\n",
       "                    <tr>\n",
       "                        <td style=\"text-align: left;\">\n",
       "                            <strong>Nanny: </strong> tcp://127.0.0.1:51526\n",
       "                        </td>\n",
       "                        <td style=\"text-align: left;\"></td>\n",
       "                    </tr>\n",
       "                    <tr>\n",
       "                        <td colspan=\"2\" style=\"text-align: left;\">\n",
       "                            <strong>Local directory: </strong> /var/folders/_p/k7hrlnh132n933827sxdjkrm0000gn/T/dask-scratch-space/worker-oi9a59ab\n",
       "                        </td>\n",
       "                    </tr>\n",
       "\n",
       "                    \n",
       "\n",
       "                    \n",
       "\n",
       "                </table>\n",
       "            </details>\n",
       "            </div>\n",
       "        </div>\n",
       "        \n",
       "        <div style=\"margin-bottom: 20px;\">\n",
       "            <div style=\"width: 24px; height: 24px; background-color: #DBF5FF; border: 3px solid #4CC9FF; border-radius: 5px; position: absolute;\"> </div>\n",
       "            <div style=\"margin-left: 48px;\">\n",
       "            <details>\n",
       "                <summary>\n",
       "                    <h4 style=\"margin-bottom: 0px; display: inline;\">Worker: 5</h4>\n",
       "                </summary>\n",
       "                <table style=\"width: 100%; text-align: left;\">\n",
       "                    <tr>\n",
       "                        <td style=\"text-align: left;\">\n",
       "                            <strong>Comm: </strong> tcp://127.0.0.1:51549\n",
       "                        </td>\n",
       "                        <td style=\"text-align: left;\">\n",
       "                            <strong>Total threads: </strong> 2\n",
       "                        </td>\n",
       "                    </tr>\n",
       "                    <tr>\n",
       "                        <td style=\"text-align: left;\">\n",
       "                            <strong>Dashboard: </strong> <a href=\"http://127.0.0.1:51550/status\" target=\"_blank\">http://127.0.0.1:51550/status</a>\n",
       "                        </td>\n",
       "                        <td style=\"text-align: left;\">\n",
       "                            <strong>Memory: </strong> 2.67 GiB\n",
       "                        </td>\n",
       "                    </tr>\n",
       "                    <tr>\n",
       "                        <td style=\"text-align: left;\">\n",
       "                            <strong>Nanny: </strong> tcp://127.0.0.1:51527\n",
       "                        </td>\n",
       "                        <td style=\"text-align: left;\"></td>\n",
       "                    </tr>\n",
       "                    <tr>\n",
       "                        <td colspan=\"2\" style=\"text-align: left;\">\n",
       "                            <strong>Local directory: </strong> /var/folders/_p/k7hrlnh132n933827sxdjkrm0000gn/T/dask-scratch-space/worker-8b1ncor0\n",
       "                        </td>\n",
       "                    </tr>\n",
       "\n",
       "                    \n",
       "\n",
       "                    \n",
       "\n",
       "                </table>\n",
       "            </details>\n",
       "            </div>\n",
       "        </div>\n",
       "        \n",
       "\n",
       "    </details>\n",
       "</div>\n",
       "\n",
       "        </details>\n",
       "    </div>\n",
       "</div>\n",
       "            </details>\n",
       "        \n",
       "\n",
       "    </div>\n",
       "</div>"
      ],
      "text/plain": [
       "<Client: 'tcp://127.0.0.1:51519' processes=6 threads=12, memory=16.00 GiB>"
      ]
     },
     "execution_count": 16,
     "metadata": {},
     "output_type": "execute_result"
    }
   ],
   "source": [
    "from dask.distributed import Client\n",
    "\n",
    "client = Client(n_workers=6)\n",
    "client"
   ]
  },
  {
   "cell_type": "markdown",
   "id": "cd8cacd8-4c48-4eea-930c-33f3fe834410",
   "metadata": {},
   "source": [
    "After intializing the client object, any *ab*TEM computation will use the Dask distributed scheduler."
   ]
  },
  {
   "cell_type": "code",
   "execution_count": 17,
   "id": "2b0d7e8f-24dd-4ada-9650-874e750a3652",
   "metadata": {},
   "outputs": [
    {
     "data": {
      "text/plain": [
       "<abtem.measurements.Images at 0x7fa1ef8ee920>"
      ]
     },
     "execution_count": 17,
     "metadata": {},
     "output_type": "execute_result"
    }
   ],
   "source": [
    "haadf_images = detector.detect(exit_waves_stem).reduce_ensemble()\n",
    "haadf_images.compute()"
   ]
  },
  {
   "cell_type": "markdown",
   "id": "31a20506-7155-45f0-b641-3931bbb20029",
   "metadata": {},
   "source": [
    "A benefit of using the distributed scheduler on a single machine is the live diagnostic dashboard. You can access this through the Dashboard link shown in the `__repr__` for the `Client` above (for details you can watch [this](https://www.youtube.com/watch?v=N_GqzcuGLCY) video walkthrough). If you are using Jupyter Lab, the [Dask labextension](https://github.com/dask/dask-labextension) provides the same information as a panel inside the Jupyter Lab editor.\n",
    "\n",
    "We can get back to the local scheduler by closing the `Client`."
   ]
  },
  {
   "cell_type": "code",
   "execution_count": 18,
   "id": "e38de7a7-2b82-442e-8258-d9e2717a7b2b",
   "metadata": {},
   "outputs": [],
   "source": [
    "client.close()"
   ]
  },
  {
   "cell_type": "markdown",
   "id": "dffe61f7-43d8-47e6-a00a-3e73e33320ad",
   "metadata": {
    "editable": true,
    "slideshow": {
     "slide_type": ""
    },
    "tags": []
   },
   "source": [
    "### Running *ab*TEM on HPC clusters\n",
    "\n",
    "Dask (and thus *ab*TEM) has robust tools for deployment on high-performance compute clusters. We recommend consulting your HPC provider on how to deploy Dask applications on your available cluster. For general advice on deployment, please see the [Dask documentation](https://docs.dask.org/en/stable/deploying.html).\n",
    "\n",
    "#### Submitting job scripts \n",
    "\n",
    "As an overview, Dask provides a number of different cluster managers, so you can use distributed Dask on a range of platforms. These cluster managers deploy a scheduler and the necessary workers as determined by communicating with the resource manager. All cluster managers follow the same interface but have platform-specific configuration options.\n",
    "\n",
    "As an example, for deployment using [SLURM](https://slurm.schedmd.com/documentation.html), your script might look something like:\n",
    "\n",
    "```python\n",
    "from dask_jobqueue import SLURMCluster\n",
    "from dask.distributed import Client\n",
    "\n",
    "cluster = SLURMCluster(\n",
    "    queue=\"regular\",\n",
    "    account=\"myaccount\",\n",
    "    cores=32,\n",
    "    memory=\"128 GB\"\n",
    ")\n",
    "\n",
    "client = Client(cluster)\n",
    "\n",
    "# Your abTEM code goes here\n",
    "\n",
    "```\n",
    "\n",
    "Dask also supports deployment from within an existing MPI environment, such as one created with the common MPI command-line launcher `mpirun`, see [here](http://mpi.dask.org/en/latest/) for more information. You can turn your batch Python script into an MPI executable with the `dask_mpi.initialize` function. \n",
    "\n",
    "```python\n",
    "from dask_mpi import initialize\n",
    "initialize()\n",
    "\n",
    "from dask.distributed import Client\n",
    "client = Client()  # Connect this local process to remote workers\n",
    "\n",
    "# Your abTEM code goes here\n",
    "```\n",
    "\n",
    "This makes your Python script launchable directly with `mpirun`:\n",
    "```\n",
    "mpirun -np 4 python my_client_script.py\n",
    "```"
   ]
  },
  {
   "cell_type": "markdown",
   "id": "e39cb8d2-a898-478d-9831-275ac5f2f06b",
   "metadata": {
    "pycharm": {
     "name": "#%% md\n"
    }
   },
   "source": [
    "(walkthrough:parallelization:gpu)=\n",
    "## Using GPUs\n",
    "\n",
    "Almost every part of *ab*TEM can be accelerated using a GPU through the [CuPy](https://cupy.dev/) library. We have only tested CUDA-compatible GPUs, but any graphics card compatible with CuPy should work.\n",
    "\n",
    "If you have a compatible GPU and a working installation of CuPy, you can accelerate your image simulations by simply changing the configs at the top of your document as below:\n",
    "```python\n",
    "abtem.config.set({\"device\": \"gpu\"});\n",
    "```\n",
    "On a single GPU, you may also want to limit the number of workers to one, `num_workers=1`. As described above, this may be done through the Dask config:\n",
    "```python\n",
    "dask.config.set({\"num_workers\": 1});\n",
    "```\n",
    "\n",
    "Note that Dask does not manage GPU threads. This makes the choice of batch sizes (i.e. propagating multiple wave functions in a single batch) extremely important in order to fully utilize your GPU. The default batch size in GPU calculations in abTEM is $512\\ \\mathrm{MB}$, which is four times larger than the CPU batch size, but if your GPU has $8\\ \\mathrm{GB}$ or more memory, you will likely be able to increase this number to $2048\\ \\mathrm{MB}$.\n",
    "\n",
    "```python\n",
    "abtem.config.set({\"dask.chunk-size-gpu\" : \"512 MB\"})\n",
    "```\n",
    "\n",
    "```{note}\n",
    "The batch size only determines the maximum number of plane waves in a batch, so you need to leave room in the memory for any intermediate overhead. \n",
    "```\n",
    "\n",
    "Finally, *ab*TEM by default sets the [FFT plan cache](https://docs.cupy.dev/en/stable/user_guide/fft.html#fft-plan-cache) size of `cupy` to zero, as we find that in most cases the increased memory consumption of the plans are not worth the small speedup they provide. You can however also change this through the *ab*TEM config.\n",
    "\n",
    "```python\n",
    "abtem.config.set({\"cupy.fft-cache-size\" : \"1024 MB\"})\n",
    "```"
   ]
  },
  {
   "cell_type": "markdown",
   "id": "94cdb086-c8a9-4736-a345-311d47379f34",
   "metadata": {
    "editable": true,
    "slideshow": {
     "slide_type": ""
    },
    "tags": []
   },
   "source": [
    "### Multiple GPUs \n",
    "The above is enough for running *ab*TEM on a single GPU; if you are using an NVidia GPU, you may want to install `dask_cuda` (this is currently only supported on Linux). However, `dask_cuda` is currently necessary for multi-GPU calculations with *ab*TEM.\n",
    "\n",
    "```python\n",
    "from dask_cuda import LocalCUDACluster\n",
    "from dask.distributed import Client\n",
    "\n",
    "cluster = LocalCUDACluster()\n",
    "client = Client(cluster)\n",
    "```"
   ]
  }
 ],
 "metadata": {
  "kernelspec": {
   "display_name": "Python 3 (ipykernel)",
   "language": "python",
   "name": "python3"
  },
  "language_info": {
   "codemirror_mode": {
    "name": "ipython",
    "version": 3
   },
   "file_extension": ".py",
   "mimetype": "text/x-python",
   "name": "python",
   "nbconvert_exporter": "python",
   "pygments_lexer": "ipython3",
   "version": "3.10.11"
  },
  "widgets": {
   "application/vnd.jupyter.widget-state+json": {
    "state": {
     "0056ec2308dc4f3d9807203fb9d941a1": {
      "model_module": "jupyter-cytoscape",
      "model_module_version": "^1.3.3",
      "model_name": "NodeModel",
      "state": {
       "_model_module_version": "^1.3.3",
       "_view_module_version": "^1.3.3",
       "data": {
        "color": "gray",
        "id": "701280354727081612",
        "label": "getitem",
        "shape": "ellipse"
       },
       "grabbable": true,
       "grabbed": false,
       "position": {
        "x": 930,
        "y": 155
       },
       "selectable": false
      }
     },
     "00e6318062a94734a4c894ae565b7a3c": {
      "model_module": "jupyter-cytoscape",
      "model_module_version": "^1.3.3",
      "model_name": "NodeModel",
      "state": {
       "_model_module_version": "^1.3.3",
       "_view_module_version": "^1.3.3",
       "data": {
        "color": "gray",
        "id": "-2975413565300842946",
        "label": "(0, 0)",
        "shape": "rectangle"
       },
       "grabbable": true,
       "grabbed": false,
       "position": {
        "x": 98,
        "y": 1475
       },
       "selectable": false
      }
     },
     "0201ae7b2cd84c6d904e58ea219ac9af": {
      "model_module": "jupyter-cytoscape",
      "model_module_version": "^1.3.3",
      "model_name": "EdgeModel",
      "state": {
       "_model_module_version": "^1.3.3",
       "_view_module_version": "^1.3.3",
       "classes": " directed ",
       "data": {
        "id": "6da5e203-4939-4875-8fb9-ba49746390c4",
        "source": "2308127593617891484",
        "target": "6281638149788022502"
       },
       "selectable": false
      }
     },
     "0216a74b639543318c423e3f71e61c6d": {
      "model_module": "jupyter-cytoscape",
      "model_module_version": "^1.3.3",
      "model_name": "NodeModel",
      "state": {
       "_model_module_version": "^1.3.3",
       "_view_module_version": "^1.3.3",
       "data": {
        "color": "gray",
        "id": "3222807856066460555",
        "label": "(0, 0, 0)",
        "shape": "rectangle"
       },
       "grabbable": true,
       "grabbed": false,
       "position": {
        "x": 98,
        "y": 515
       },
       "selectable": false
      }
     },
     "0225b67802c546a9bcbd45b413e8adc9": {
      "model_module": "jupyter-cytoscape",
      "model_module_version": "^1.3.3",
      "model_name": "EdgeModel",
      "state": {
       "_model_module_version": "^1.3.3",
       "_view_module_version": "^1.3.3",
       "classes": " directed ",
       "data": {
        "id": "1b3248e8-7677-4f18-8c41-bc526492e58a",
        "source": "-8061742846893502621",
        "target": "-4699029605273376312"
       },
       "selectable": false
      }
     },
     "03133d49235645f994c7baae5b90ca37": {
      "model_module": "jupyter-cytoscape",
      "model_module_version": "^1.3.3",
      "model_name": "NodeModel",
      "state": {
       "_model_module_version": "^1.3.3",
       "_view_module_version": "^1.3.3",
       "data": {
        "color": "gray",
        "id": "-6763095465601743160",
        "label": "3",
        "shape": "rectangle"
       },
       "grabbable": true,
       "grabbed": false,
       "position": {
        "x": 724,
        "y": 1715
       },
       "selectable": false
      }
     },
     "046e24dd9ed042b58001a12f83aeb525": {
      "model_module": "jupyter-cytoscape",
      "model_module_version": "^1.3.3",
      "model_name": "EdgeModel",
      "state": {
       "_model_module_version": "^1.3.3",
       "_view_module_version": "^1.3.3",
       "classes": " directed ",
       "data": {
        "id": "dfdd1329-5f6f-4322-a9d1-5a4ca4c79529",
        "source": "-4198435126811595383",
        "target": "-8700921841961141619"
       },
       "selectable": false
      }
     },
     "05120ca17cb446a5b645beedcc87c121": {
      "model_module": "jupyter-cytoscape",
      "model_module_version": "^1.3.3",
      "model_name": "EdgeModel",
      "state": {
       "_model_module_version": "^1.3.3",
       "_view_module_version": "^1.3.3",
       "classes": " directed ",
       "data": {
        "id": "dcc98e26-fa2f-40d8-8ca4-320f12f2c163",
        "source": "-2975413565300842946",
        "target": "-1178123883497903718"
       },
       "selectable": false
      }
     },
     "07f0b217172a4262beccb5e10f011670": {
      "model_module": "jupyter-cytoscape",
      "model_module_version": "^1.3.3",
      "model_name": "EdgeModel",
      "state": {
       "_model_module_version": "^1.3.3",
       "_view_module_version": "^1.3.3",
       "classes": " directed ",
       "data": {
        "id": "56bff93f-0340-4181-b8fc-4227853c3da0",
        "source": "-2826700366998409577",
        "target": "2670174454968075468"
       },
       "selectable": false
      }
     },
     "08e3c44189214ed9a34cd844aa1a0278": {
      "model_module": "jupyter-cytoscape",
      "model_module_version": "^1.3.3",
      "model_name": "EdgeModel",
      "state": {
       "_model_module_version": "^1.3.3",
       "_view_module_version": "^1.3.3",
       "classes": " directed ",
       "data": {
        "id": "1ac20d62-36c8-4c4c-95fe-9b55eeedfb83",
        "source": "4041227500030140451",
        "target": "1231410209765582248"
       },
       "selectable": false
      }
     },
     "092a7ed2df5845afbd0b093be64d58ce": {
      "model_module": "jupyter-cytoscape",
      "model_module_version": "^1.3.3",
      "model_name": "NodeModel",
      "state": {
       "_model_module_version": "^1.3.3",
       "_view_module_version": "^1.3.3",
       "data": {
        "color": "gray",
        "id": "2505284449769781524",
        "label": "(1, 0, 0, 0)",
        "shape": "rectangle"
       },
       "grabbable": true,
       "grabbed": false,
       "position": {
        "x": 314,
        "y": 1235
       },
       "selectable": false
      }
     },
     "0af2adaf26ad4583a96bdf413fa9c1e3": {
      "model_module": "jupyter-cytoscape",
      "model_module_version": "^1.3.3",
      "model_name": "NodeModel",
      "state": {
       "_model_module_version": "^1.3.3",
       "_view_module_version": "^1.3.3",
       "data": {
        "color": "gray",
        "id": "5296372879665112554",
        "label": "(0, 0)",
        "shape": "rectangle"
       },
       "grabbable": true,
       "grabbed": false,
       "position": {
        "x": 516.5,
        "y": 515
       },
       "selectable": false
      }
     },
     "0b24505a02a5451eadf3775622742e36": {
      "model_module": "jupyter-cytoscape",
      "model_module_version": "^1.3.3",
      "model_name": "NodeModel",
      "state": {
       "_model_module_version": "^1.3.3",
       "_view_module_version": "^1.3.3",
       "data": {
        "color": "gray",
        "id": "811757048236134829",
        "label": "getitem",
        "shape": "ellipse"
       },
       "grabbable": true,
       "grabbed": false,
       "position": {
        "x": 314,
        "y": 155
       },
       "selectable": false
      }
     },
     "0bb695144f764fe9abceaabb53fb1048": {
      "model_module": "jupyter-cytoscape",
      "model_module_version": "^1.3.3",
      "model_name": "NodeModel",
      "state": {
       "_model_module_version": "^1.3.3",
       "_view_module_version": "^1.3.3",
       "data": {
        "color": "gray",
        "id": "1000048458353933746",
        "label": "mean_chunk",
        "shape": "ellipse"
       },
       "grabbable": true,
       "grabbed": false,
       "position": {
        "x": 98,
        "y": 635
       },
       "selectable": false
      }
     },
     "0ed7f04491c64cf088fa8bcaefdf2010": {
      "model_module": "jupyter-cytoscape",
      "model_module_version": "^1.3.3",
      "model_name": "NodeModel",
      "state": {
       "_model_module_version": "^1.3.3",
       "_view_module_version": "^1.3.3",
       "data": {
        "color": "gray",
        "id": "-7320865847771993438",
        "label": "from_partitioned_args_func",
        "shape": "ellipse"
       },
       "grabbable": true,
       "grabbed": false,
       "position": {
        "x": 516.5,
        "y": 1835
       },
       "selectable": false
      }
     },
     "10568190a22044f09785afcb37b7f8f2": {
      "model_module": "jupyter-cytoscape",
      "model_module_version": "^1.3.3",
      "model_name": "NodeModel",
      "state": {
       "_model_module_version": "^1.3.3",
       "_view_module_version": "^1.3.3",
       "data": {
        "color": "gray",
        "id": "2670174454968075468",
        "label": "apply_transform",
        "shape": "ellipse"
       },
       "grabbable": true,
       "grabbed": false,
       "position": {
        "x": 930,
        "y": 395
       },
       "selectable": false
      }
     },
     "105823efc77a40d19e3b9e3990fe5dbc": {
      "model_module": "jupyter-cytoscape",
      "model_module_version": "^1.3.3",
      "model_name": "EdgeModel",
      "state": {
       "_model_module_version": "^1.3.3",
       "_view_module_version": "^1.3.3",
       "classes": " directed ",
       "data": {
        "id": "af85c74b-ee25-436c-a563-87e65ef59a84",
        "source": "-6763095465601743160",
        "target": "-4469974169773607156"
       },
       "selectable": false
      }
     },
     "10cc2781c91b48eb80a19725c92754b4": {
      "model_module": "jupyter-cytoscape",
      "model_module_version": "^1.3.3",
      "model_name": "EdgeModel",
      "state": {
       "_model_module_version": "^1.3.3",
       "_view_module_version": "^1.3.3",
       "classes": " directed ",
       "data": {
        "id": "933cbb03-85b2-4400-b852-cef9a2631d39",
        "source": "6841699715425665493",
        "target": "1974286463436785773"
       },
       "selectable": false
      }
     },
     "142740c184384d9daa5b8cea9748dd2d": {
      "model_module": "jupyter-cytoscape",
      "model_module_version": "^1.3.3",
      "model_name": "EdgeModel",
      "state": {
       "_model_module_version": "^1.3.3",
       "_view_module_version": "^1.3.3",
       "classes": " directed ",
       "data": {
        "id": "15ee8da6-a8f9-4f56-8bde-0211e7d0ae01",
        "source": "6809821736793463531",
        "target": "7400850790964663779"
       },
       "selectable": false
      }
     },
     "151970daa03c4dc1a699960edb446edf": {
      "model_module": "jupyter-cytoscape",
      "model_module_version": "^1.3.3",
      "model_name": "NodeModel",
      "state": {
       "_model_module_version": "^1.3.3",
       "_view_module_version": "^1.3.3",
       "data": {
        "color": "gray",
        "id": "4738724326182646574",
        "label": "(2, 0, 0)",
        "shape": "rectangle"
       },
       "grabbable": true,
       "grabbed": false,
       "position": {
        "x": 930,
        "y": 755
       },
       "selectable": false
      }
     },
     "1564eba84e244eaaa9e2fceb797e0ab3": {
      "model_module": "jupyter-cytoscape",
      "model_module_version": "^1.3.3",
      "model_name": "EdgeModel",
      "state": {
       "_model_module_version": "^1.3.3",
       "_view_module_version": "^1.3.3",
       "classes": " directed ",
       "data": {
        "id": "ee5c0634-ec15-408f-a0b5-e417bc1652a8",
        "source": "6035261952596402961",
        "target": "701280354727081612"
       },
       "selectable": false
      }
     },
     "162d24c51f384e6184fd2accde415111": {
      "model_module": "jupyter-cytoscape",
      "model_module_version": "^1.3.3",
      "model_name": "EdgeModel",
      "state": {
       "_model_module_version": "^1.3.3",
       "_view_module_version": "^1.3.3",
       "classes": " directed ",
       "data": {
        "id": "b272ba04-7e26-4d9b-895e-47a6c6040619",
        "source": "-2826700366998409577",
        "target": "2670174454968075468"
       },
       "selectable": false
      }
     },
     "173f50c279c04474a5d015fe8e1061a5": {
      "model_module": "jupyter-cytoscape",
      "model_module_version": "^1.3.3",
      "model_name": "EdgeModel",
      "state": {
       "_model_module_version": "^1.3.3",
       "_view_module_version": "^1.3.3",
       "classes": " directed ",
       "data": {
        "id": "d8f6b576-33ba-45ce-ad1c-56a871e81e87",
        "source": "7686107117493160122",
        "target": "5176007852005810031"
       },
       "selectable": false
      }
     },
     "178856786e4c497593296d45491ec2c6": {
      "model_module": "jupyter-cytoscape",
      "model_module_version": "^1.3.3",
      "model_name": "NodeModel",
      "state": {
       "_model_module_version": "^1.3.3",
       "_view_module_version": "^1.3.3",
       "data": {
        "color": "gray",
        "id": "-8377662192731045219",
        "label": "1",
        "shape": "rectangle"
       },
       "grabbable": true,
       "grabbed": false,
       "position": {
        "x": 304,
        "y": 1715
       },
       "selectable": false
      }
     },
     "199a083e36354f13a419be5e2620b7ac": {
      "model_module": "jupyter-cytoscape",
      "model_module_version": "^1.3.3",
      "model_name": "EdgeModel",
      "state": {
       "_model_module_version": "^1.3.3",
       "_view_module_version": "^1.3.3",
       "classes": " directed ",
       "data": {
        "id": "0bfda1cd-5c29-44d7-9749-83c331669fa0",
        "source": "444412869919983919",
        "target": "4041227500030140451"
       },
       "selectable": false
      }
     },
     "1a92a7c95ae3492fb7e2a51ba5c17c0b": {
      "model_module": "jupyter-cytoscape",
      "model_module_version": "^1.3.3",
      "model_name": "NodeModel",
      "state": {
       "_model_module_version": "^1.3.3",
       "_view_module_version": "^1.3.3",
       "data": {
        "color": "gray",
        "id": "7686107117493160122",
        "label": "0",
        "shape": "rectangle"
       },
       "grabbable": true,
       "grabbed": false,
       "position": {
        "x": 930,
        "y": 1835
       },
       "selectable": false
      }
     },
     "1ab83fb39a9d48f190c86401abaffeb6": {
      "model_module": "jupyter-cytoscape",
      "model_module_version": "^1.3.3",
      "model_name": "EdgeModel",
      "state": {
       "_model_module_version": "^1.3.3",
       "_view_module_version": "^1.3.3",
       "classes": " directed ",
       "data": {
        "id": "3707282f-8072-490d-a25e-11532a8260ab",
        "source": "701280354727081612",
        "target": "-4240116341018701367"
       },
       "selectable": false
      }
     },
     "1b75d324461d43b8b9cb3ce5869c582b": {
      "model_module": "jupyter-cytoscape",
      "model_module_version": "^1.3.3",
      "model_name": "NodeModel",
      "state": {
       "_model_module_version": "^1.3.3",
       "_view_module_version": "^1.3.3",
       "data": {
        "color": "gray",
        "id": "-3327542623466849601",
        "label": "build_waves",
        "shape": "ellipse"
       },
       "grabbable": true,
       "grabbed": false,
       "position": {
        "x": 516.5,
        "y": 1595
       },
       "selectable": false
      }
     },
     "1b8f8090db034ce6a7d316797723ff39": {
      "model_module": "jupyter-cytoscape",
      "model_module_version": "^1.3.3",
      "model_name": "GraphModel",
      "state": {
       "_adj": {},
       "_model_module_version": "^1.3.3",
       "_view_module": "jupyter-cytoscape",
       "_view_module_version": "^1.3.3"
      }
     },
     "1bd6f4cbb87343dcbd57a0f10e437cfd": {
      "model_module": "jupyter-cytoscape",
      "model_module_version": "^1.3.3",
      "model_name": "EdgeModel",
      "state": {
       "_model_module_version": "^1.3.3",
       "_view_module_version": "^1.3.3",
       "classes": " directed ",
       "data": {
        "id": "3e5b0742-df36-4112-ae4e-857afb301f89",
        "source": "4026788154152066844",
        "target": "2174486169311756960"
       },
       "selectable": false
      }
     },
     "1c68948bb79f4749b2fdc1d0b6bb1fd8": {
      "model_module": "jupyter-cytoscape",
      "model_module_version": "^1.3.3",
      "model_name": "NodeModel",
      "state": {
       "_model_module_version": "^1.3.3",
       "_view_module_version": "^1.3.3",
       "data": {
        "color": "gray",
        "id": "-1069384154620023996",
        "label": "getitem",
        "shape": "ellipse"
       },
       "grabbable": true,
       "grabbed": false,
       "position": {
        "x": 304,
        "y": 635
       },
       "selectable": false
      }
     },
     "1d45aefd411c4fc48af5736a1e45e794": {
      "model_module": "jupyter-cytoscape",
      "model_module_version": "^1.3.3",
      "model_name": "NodeModel",
      "state": {
       "_model_module_version": "^1.3.3",
       "_view_module_version": "^1.3.3",
       "data": {
        "color": "gray",
        "id": "7959798507860876100",
        "label": "0",
        "shape": "rectangle"
       },
       "grabbable": true,
       "grabbed": false,
       "position": {
        "x": 98,
        "y": 755
       },
       "selectable": false
      }
     },
     "1ec5a2940742418181b1d9735d18e74d": {
      "model_module": "jupyter-cytoscape",
      "model_module_version": "^1.3.3",
      "model_name": "CytoscapeModel",
      "state": {
       "_interaction_handlers": {},
       "_model_module_version": "^1.3.3",
       "_view_module_version": "^1.3.3",
       "auto_ungrabify": false,
       "autolock": false,
       "cytoscape_layout": {
        "edgeSep": 10,
        "name": "dagre",
        "nodeDimensionsIncludeLabels": true,
        "nodeSep": 10,
        "rankDir": "BT",
        "spacingFactor": 1
       },
       "cytoscape_style": [
        {
         "selector": "node",
         "style": {
          "background-color": "#eee",
          "border-color": "data(color)",
          "border-width": 4,
          "color": "black",
          "font-family": "helvetica",
          "font-size": "24px",
          "font-weight": "bold",
          "height": 64,
          "label": "data(label)",
          "opacity": "1.0",
          "shape": "data(shape)",
          "text-halign": "center",
          "text-valign": "center",
          "width": 64
         }
        },
        {
         "selector": "edge",
         "style": {
          "curve-style": "bezier",
          "line-color": "gray",
          "target-arrow-color": "gray",
          "target-arrow-shape": "triangle",
          "width": 8
         }
        }
       ],
       "desktop_tap_threshold": 4,
       "graph": "IPY_MODEL_cc6fea9176d148eb8055a3a4a521859e",
       "headless": false,
       "hide_edges_on_viewport": false,
       "layout": "IPY_MODEL_d98330d50ce74544a622bbdc81487da5",
       "max_zoom": 4,
       "min_zoom": 0.2,
       "motion_blur": false,
       "motion_blur_opacity": 0.2,
       "panning_enabled": true,
       "pixel_ratio": "auto",
       "rendered_position": {
        "renderedPosition": {
         "x": 100,
         "y": 100
        }
       },
       "selection_type": "single",
       "style_enabled": true,
       "texture_on_viewport": false,
       "tooltip_source": "tooltip",
       "touch_tap_threshold": 8,
       "user_panning_enabled": true,
       "user_zooming_enabled": true,
       "wheel_sensitivity": 0.1,
       "zoom": 2,
       "zooming_enabled": true
      }
     },
     "203b97db0e2241598bf4744a649ed7d1": {
      "model_module": "jupyter-cytoscape",
      "model_module_version": "^1.3.3",
      "model_name": "NodeModel",
      "state": {
       "_model_module_version": "^1.3.3",
       "_view_module_version": "^1.3.3",
       "data": {
        "color": "gray",
        "id": "6874735086663545106",
        "label": "(1, 0)",
        "shape": "rectangle"
       },
       "grabbable": true,
       "grabbed": false,
       "position": {
        "x": 304,
        "y": 515
       },
       "selectable": false
      }
     },
     "2058b3a2f2e145ab8093d6fc497c62f1": {
      "model_module": "jupyter-cytoscape",
      "model_module_version": "^1.3.3",
      "model_name": "NodeModel",
      "state": {
       "_model_module_version": "^1.3.3",
       "_view_module_version": "^1.3.3",
       "data": {
        "color": "gray",
        "id": "2436186331000400215",
        "label": "getitem",
        "shape": "ellipse"
       },
       "grabbable": true,
       "grabbed": false,
       "position": {
        "x": 98,
        "y": 635
       },
       "selectable": false
      }
     },
     "20ab491c4ac645c8ad5d42da5f1199ad": {
      "model_module": "jupyter-cytoscape",
      "model_module_version": "^1.3.3",
      "model_name": "GraphModel",
      "state": {
       "_adj": {},
       "_model_module_version": "^1.3.3",
       "_view_module": "jupyter-cytoscape",
       "_view_module_version": "^1.3.3"
      }
     },
     "236347394b334cfabfd79841ab5fa1c5": {
      "model_module": "jupyter-cytoscape",
      "model_module_version": "^1.3.3",
      "model_name": "EdgeModel",
      "state": {
       "_model_module_version": "^1.3.3",
       "_view_module_version": "^1.3.3",
       "classes": " directed ",
       "data": {
        "id": "cea12186-9890-48ed-afa9-d8a8f4eca66b",
        "source": "565440504347565410",
        "target": "-8061742846893502621"
       },
       "selectable": false
      }
     },
     "24ccf4de24e2426391360363c66885af": {
      "model_module": "jupyter-cytoscape",
      "model_module_version": "^1.3.3",
      "model_name": "NodeModel",
      "state": {
       "_model_module_version": "^1.3.3",
       "_view_module_version": "^1.3.3",
       "data": {
        "color": "gray",
        "id": "-7815681723899409692",
        "label": "",
        "shape": "rectangle"
       },
       "grabbable": true,
       "grabbed": false,
       "position": {
        "x": 930,
        "y": 1955
       },
       "selectable": false
      }
     },
     "27a6f6c432ed4c95aedfe0c742a947da": {
      "model_module": "jupyter-cytoscape",
      "model_module_version": "^1.3.3",
      "model_name": "NodeModel",
      "state": {
       "_model_module_version": "^1.3.3",
       "_view_module_version": "^1.3.3",
       "data": {
        "color": "gray",
        "id": "-6403728975476740178",
        "label": "",
        "shape": "rectangle"
       },
       "grabbable": true,
       "grabbed": false,
       "position": {
        "x": 98,
        "y": 995
       },
       "selectable": false
      }
     },
     "29327bdb306e4fe196588a28eddb4aef": {
      "model_module": "jupyter-cytoscape",
      "model_module_version": "^1.3.3",
      "model_name": "NodeModel",
      "state": {
       "_model_module_version": "^1.3.3",
       "_view_module_version": "^1.3.3",
       "data": {
        "color": "gray",
        "id": "6809821736793463531",
        "label": "(0, 0, 0, 0)",
        "shape": "rectangle"
       },
       "grabbable": true,
       "grabbed": false,
       "position": {
        "x": 98,
        "y": 1235
       },
       "selectable": false
      }
     },
     "293d44aded0c434aaa187d18897657f3": {
      "model_module": "jupyter-cytoscape",
      "model_module_version": "^1.3.3",
      "model_name": "EdgeModel",
      "state": {
       "_model_module_version": "^1.3.3",
       "_view_module_version": "^1.3.3",
       "classes": " directed ",
       "data": {
        "id": "7052d762-4391-4f66-a1dc-72d5234dc057",
        "source": "5296372879665112554",
        "target": "-1178123883497903718"
       },
       "selectable": false
      }
     },
     "297fd5f9704044ca9d5aac0e810cd478": {
      "model_module": "jupyter-cytoscape",
      "model_module_version": "^1.3.3",
      "model_name": "GraphModel",
      "state": {
       "_adj": {
        "-1069384154620023996": {},
        "-1178123883497903718": {},
        "-2826700366998409577": {},
        "-2975413565300842946": {},
        "-3181504190127730270": {},
        "-3327542623466849601": {},
        "-3454414948922575406": {},
        "-4198435126811595383": {},
        "-4240116341018701367": {},
        "-4285238858218776981": {},
        "-4469974169773607156": {},
        "-6231323858362813098": {},
        "-6403728975476740178": {},
        "-6763095465601743160": {},
        "-7320865847771993438": {},
        "-750374208217397234": {},
        "-7587986330725577257": {},
        "-7815681723899409692": {},
        "-8377662192731045219": {},
        "-8700921841961141619": {},
        "1231410209765582248": {},
        "1899921469065848959": {},
        "2308127593617891484": {},
        "2436186331000400215": {},
        "2505284449769781524": {},
        "2670174454968075468": {},
        "4026788154152066844": {},
        "4041227500030140451": {},
        "4437677239923299413": {},
        "444412869919983919": {},
        "4670040985128536123": {},
        "5062505818741988461": {},
        "5176007852005810031": {},
        "5296372879665112554": {},
        "5332712636132827316": {},
        "5987558229160451658": {},
        "6035261952596402961": {},
        "6281638149788022502": {},
        "6312456356012405175": {},
        "654760481743083048": {},
        "6809821736793463531": {},
        "6874735086663545106": {},
        "701280354727081612": {},
        "7400850790964663779": {},
        "7618419047678179378": {},
        "7686107117493160122": {},
        "7959798507860876100": {},
        "811757048236134829": {}
       },
       "_model_module_version": "^1.3.3",
       "_view_module": "jupyter-cytoscape",
       "_view_module_version": "^1.3.3",
       "edges": [
        "IPY_MODEL_af91a9607ce8456bbb42167ed806facc",
        "IPY_MODEL_293d44aded0c434aaa187d18897657f3",
        "IPY_MODEL_05120ca17cb446a5b645beedcc87c121",
        "IPY_MODEL_52eb81bce7d34b81bede0e06313cfbfd",
        "IPY_MODEL_9d5ccf03b1cb4d409ce07427fa11fa80",
        "IPY_MODEL_7f2c6e0a412c4bf588f877ca0db7bc56",
        "IPY_MODEL_868b4e0461924091ac501adcd698df53",
        "IPY_MODEL_c9442608e6fa4b37a8db16ecb470182d",
        "IPY_MODEL_7f32601c72cd43edaaeed40491b7d261",
        "IPY_MODEL_68f69b94c26c4c21a046f884cf65b45c",
        "IPY_MODEL_e8464ed1d7b445c289791b806746961c",
        "IPY_MODEL_162d24c51f384e6184fd2accde415111",
        "IPY_MODEL_ae612bba904947b6a56345f049fee5ca",
        "IPY_MODEL_d8ca801e27c94245a62fb5f972317a36",
        "IPY_MODEL_78bad3ad13064175a2cb3be59be7ed1d",
        "IPY_MODEL_fa2b0d3dc09e49d3bf413b455659b946",
        "IPY_MODEL_70c95ee8a1e546bea7e3dbc8e48a1473",
        "IPY_MODEL_769e61c65bbd4c8097679303aa687ebb",
        "IPY_MODEL_2a05e8816abf4a8d8f39e47c138111d9",
        "IPY_MODEL_7ebe9829f96a4117a36d082e8780f7c4",
        "IPY_MODEL_199a083e36354f13a419be5e2620b7ac",
        "IPY_MODEL_53cd9345ede24127a217a0b9c7048cef",
        "IPY_MODEL_d78833a9e26a4b0f8141bcc30c798fd8",
        "IPY_MODEL_4b65118d4016428ab8fd864f65eeb96a",
        "IPY_MODEL_f8c2e6f4e7684f6b88769543b116f3d6",
        "IPY_MODEL_3e04c0a780464a699d1b759ff50e8503",
        "IPY_MODEL_75ca585fcec846cf869db4957e36c092",
        "IPY_MODEL_5756d24a81694e10a6f68c18840880ab",
        "IPY_MODEL_cdf3d3da9020479f8acea1a20150cc4f",
        "IPY_MODEL_c84132682bbb431585ae610de59015e1",
        "IPY_MODEL_e8f89eb3a90d466fbf932635a72149ee",
        "IPY_MODEL_5d81fd1249364ceeb30e275ccef9199b",
        "IPY_MODEL_757bcbf0869448fb8e957653283f10b9",
        "IPY_MODEL_758670ab607a46d9aff272241b9a7e74",
        "IPY_MODEL_555546adba8a4d098be8cb36ee719de0",
        "IPY_MODEL_105823efc77a40d19e3b9e3990fe5dbc",
        "IPY_MODEL_c108e2cf2c984bbf8f2c9b213def25d5",
        "IPY_MODEL_b505322c410542d3a153b9f83f5d0f63",
        "IPY_MODEL_454a458242e44c0496863636c160a50f",
        "IPY_MODEL_9fe5fd6acca6490098ada332b66ace05",
        "IPY_MODEL_142740c184384d9daa5b8cea9748dd2d",
        "IPY_MODEL_5468974c68cd4648ba43afdd71c93c34",
        "IPY_MODEL_6ad1121580f2465dbead73b91b97ca53",
        "IPY_MODEL_976dc33f7f32493498842c7a910d89bd",
        "IPY_MODEL_d5ff2b2327314f62904b3d1f92e52b3c",
        "IPY_MODEL_f49a86469fc24055a0d791e39531a507",
        "IPY_MODEL_1564eba84e244eaaa9e2fceb797e0ab3"
       ],
       "nodes": [
        "IPY_MODEL_ce72507a8b3744c5bd6ca424d136af1b",
        "IPY_MODEL_0af2adaf26ad4583a96bdf413fa9c1e3",
        "IPY_MODEL_9fd32e41354e47e4b036b88c6ba3aee7",
        "IPY_MODEL_e84f50d856044b458fd4a78255233fce",
        "IPY_MODEL_9bf64feabfda498b87339cde9739b08e",
        "IPY_MODEL_203b97db0e2241598bf4744a649ed7d1",
        "IPY_MODEL_a53f45abc39643bb86870d67bc810911",
        "IPY_MODEL_4be1633f025f464db7ebc143e557d830",
        "IPY_MODEL_f7e4256de7a545628e054d400d401072",
        "IPY_MODEL_aaaa7b192d874220bb4242f736d931bd",
        "IPY_MODEL_10568190a22044f09785afcb37b7f8f2",
        "IPY_MODEL_487c5430d33946cf8727cdcab7c6a556",
        "IPY_MODEL_8bbf252ca71646a39cb57bb002c37166",
        "IPY_MODEL_1d45aefd411c4fc48af5736a1e45e794",
        "IPY_MODEL_d414a16b05c64d8782513bb467700a77",
        "IPY_MODEL_b2b92f6005be4ea7b27f702c92d9c207",
        "IPY_MODEL_a7968653d5c84c6e9d723224a9103e2d",
        "IPY_MODEL_9288a9df9bd445ee855c3ce23e716fae",
        "IPY_MODEL_f7ac3b6817664533a73c7a43d8017b9c",
        "IPY_MODEL_27a6f6c432ed4c95aedfe0c742a947da",
        "IPY_MODEL_33b2a9ad433e4c8e90ad5021b071e00f",
        "IPY_MODEL_5f573596185a4e9a8658dfa3254d0ccc",
        "IPY_MODEL_46fb7ed720b143158acecdc233c12790",
        "IPY_MODEL_5712083f837e4ef9affaf20949cee4b8",
        "IPY_MODEL_c8c166f6b296490898bc6d3546b3776f",
        "IPY_MODEL_d53b87d734ea4e35ac28d5822c79f3b3",
        "IPY_MODEL_f98e0dd07328417480591ab8c75c4daf",
        "IPY_MODEL_764f5ef058904cfbbadb2ab7a7974ec9",
        "IPY_MODEL_9cbe89c584f24e1ca493827e0cbafe58",
        "IPY_MODEL_60d0bd7570764f0eae6d7a6acd3687b1",
        "IPY_MODEL_ae38e2fd5e7147478b25207e0a22e146",
        "IPY_MODEL_d7fd163549a94341894292439f65b41f",
        "IPY_MODEL_f09d529d980b458c94fe1c80413c3322",
        "IPY_MODEL_2058b3a2f2e145ab8093d6fc497c62f1",
        "IPY_MODEL_1c68948bb79f4749b2fdc1d0b6bb1fd8",
        "IPY_MODEL_9db284fc9479489db5dcf8663ad88628",
        "IPY_MODEL_ff361227e1b24d3e891582754c5cc3c6",
        "IPY_MODEL_8fc973181930445b956c6d66d28b444d",
        "IPY_MODEL_a6b857dca7e24d9b98b8dcf9378bfaa8",
        "IPY_MODEL_f4ca52ce32384a6d8da09b7638495019",
        "IPY_MODEL_49e01b7823394560a9a77f43e290089f",
        "IPY_MODEL_96f65b52feaf4018a663d54d2692fd96",
        "IPY_MODEL_0b24505a02a5451eadf3775622742e36",
        "IPY_MODEL_7c519a6a187a4439b6bc83e0c93aab7d",
        "IPY_MODEL_2f73df4165254c17bf3e2153807cf985",
        "IPY_MODEL_6eddfdf048144234a5c95f88903b752b",
        "IPY_MODEL_0056ec2308dc4f3d9807203fb9d941a1",
        "IPY_MODEL_2d4bef9276514789a92e058f87b6ddca"
       ]
      }
     },
     "2a05e8816abf4a8d8f39e47c138111d9": {
      "model_module": "jupyter-cytoscape",
      "model_module_version": "^1.3.3",
      "model_name": "EdgeModel",
      "state": {
       "_model_module_version": "^1.3.3",
       "_view_module_version": "^1.3.3",
       "classes": " directed ",
       "data": {
        "id": "63e5bf92-8251-475a-b8b8-7971f68de80a",
        "source": "-6403728975476740178",
        "target": "-3181504190127730270"
       },
       "selectable": false
      }
     },
     "2a55dd615f304bf799d667e899bf0004": {
      "model_module": "jupyter-cytoscape",
      "model_module_version": "^1.3.3",
      "model_name": "EdgeModel",
      "state": {
       "_model_module_version": "^1.3.3",
       "_view_module_version": "^1.3.3",
       "classes": " directed ",
       "data": {
        "id": "48d92fe2-f7bb-4ae8-8c51-65d97ecdb8b1",
        "source": "-2658479167678979504",
        "target": "-4450812349800622721"
       },
       "selectable": false
      }
     },
     "2d4bef9276514789a92e058f87b6ddca": {
      "model_module": "jupyter-cytoscape",
      "model_module_version": "^1.3.3",
      "model_name": "NodeModel",
      "state": {
       "_model_module_version": "^1.3.3",
       "_view_module_version": "^1.3.3",
       "data": {
        "color": "gray",
        "id": "-4240116341018701367",
        "label": "(3, 0, 0)",
        "shape": "rectangle"
       },
       "grabbable": true,
       "grabbed": false,
       "position": {
        "x": 930,
        "y": 35
       },
       "selectable": false
      }
     },
     "2d90935fd5774a06bc2b542872bf9502": {
      "model_module": "jupyter-cytoscape",
      "model_module_version": "^1.3.3",
      "model_name": "EdgeModel",
      "state": {
       "_model_module_version": "^1.3.3",
       "_view_module_version": "^1.3.3",
       "classes": " directed ",
       "data": {
        "id": "d748447a-7069-4140-9111-d83542e7f30a",
        "source": "5062505818741988461",
        "target": "-8377662192731045219"
       },
       "selectable": false
      }
     },
     "2e5a499cd9454db18a22f580496cf908": {
      "model_module": "jupyter-cytoscape",
      "model_module_version": "^1.3.3",
      "model_name": "EdgeModel",
      "state": {
       "_model_module_version": "^1.3.3",
       "_view_module_version": "^1.3.3",
       "classes": " directed ",
       "data": {
        "id": "f10326a1-a1b4-4cb3-9eb7-9a8faad3e4cc",
        "source": "-4699029605273376312",
        "target": "-8956995078896948059"
       },
       "selectable": false
      }
     },
     "2f73df4165254c17bf3e2153807cf985": {
      "model_module": "jupyter-cytoscape",
      "model_module_version": "^1.3.3",
      "model_name": "NodeModel",
      "state": {
       "_model_module_version": "^1.3.3",
       "_view_module_version": "^1.3.3",
       "data": {
        "color": "gray",
        "id": "2308127593617891484",
        "label": "getitem",
        "shape": "ellipse"
       },
       "grabbable": true,
       "grabbed": false,
       "position": {
        "x": 719,
        "y": 155
       },
       "selectable": false
      }
     },
     "32608ea780a448b599304103804142c0": {
      "model_module": "jupyter-cytoscape",
      "model_module_version": "^1.3.3",
      "model_name": "EdgeModel",
      "state": {
       "_model_module_version": "^1.3.3",
       "_view_module_version": "^1.3.3",
       "classes": " directed ",
       "data": {
        "id": "33660bc1-d0f9-4180-ac37-c271ee729594",
        "source": "4670040985128536123",
        "target": "5332712636132827316"
       },
       "selectable": false
      }
     },
     "33b2a9ad433e4c8e90ad5021b071e00f": {
      "model_module": "jupyter-cytoscape",
      "model_module_version": "^1.3.3",
      "model_name": "NodeModel",
      "state": {
       "_model_module_version": "^1.3.3",
       "_view_module_version": "^1.3.3",
       "data": {
        "color": "gray",
        "id": "-3181504190127730270",
        "label": "0",
        "shape": "rectangle"
       },
       "grabbable": true,
       "grabbed": false,
       "position": {
        "x": 98,
        "y": 875
       },
       "selectable": false
      }
     },
     "341ffa0e4aed48338f65df3915945214": {
      "model_module": "@jupyter-widgets/base",
      "model_module_version": "2.0.0",
      "model_name": "LayoutModel",
      "state": {
       "height": "400px"
      }
     },
     "386bf263eabe4a7db602ad5edc23729a": {
      "model_module": "jupyter-cytoscape",
      "model_module_version": "^1.3.3",
      "model_name": "EdgeModel",
      "state": {
       "_model_module_version": "^1.3.3",
       "_view_module_version": "^1.3.3",
       "classes": " directed ",
       "data": {
        "id": "eb78aff5-86e0-4893-9948-0fcbee02f8ff",
        "source": "6312456356012405175",
        "target": "2308127593617891484"
       },
       "selectable": false
      }
     },
     "39b815b307e74fd7a8d141d491e09be5": {
      "model_module": "jupyter-cytoscape",
      "model_module_version": "^1.3.3",
      "model_name": "NodeModel",
      "state": {
       "_model_module_version": "^1.3.3",
       "_view_module_version": "^1.3.3",
       "data": {
        "color": "gray",
        "id": "1896926867283227919",
        "label": "mean_chunk",
        "shape": "ellipse"
       },
       "grabbable": true,
       "grabbed": false,
       "position": {
        "x": 719,
        "y": 635
       },
       "selectable": false
      }
     },
     "3b1ecb17dad54a6e9f2b27debd483411": {
      "model_module": "jupyter-cytoscape",
      "model_module_version": "^1.3.3",
      "model_name": "EdgeModel",
      "state": {
       "_model_module_version": "^1.3.3",
       "_view_module_version": "^1.3.3",
       "classes": " directed ",
       "data": {
        "id": "1706014b-3b6d-462d-a77a-99d7d88b784b",
        "source": "-8700921841961141619",
        "target": "-7815681723899409692"
       },
       "selectable": false
      }
     },
     "3b25b93ed2fc4dfe8cf7ebdc84e13e1d": {
      "model_module": "jupyter-cytoscape",
      "model_module_version": "^1.3.3",
      "model_name": "NodeModel",
      "state": {
       "_model_module_version": "^1.3.3",
       "_view_module_version": "^1.3.3",
       "data": {
        "color": "gray",
        "id": "811757048236134829",
        "label": "getitem",
        "shape": "ellipse"
       },
       "grabbable": true,
       "grabbed": false,
       "position": {
        "x": 314,
        "y": 1115
       },
       "selectable": false
      }
     },
     "3b5ce549cb42470cb442fa0141097ef0": {
      "model_module": "jupyter-cytoscape",
      "model_module_version": "^1.3.3",
      "model_name": "NodeModel",
      "state": {
       "_model_module_version": "^1.3.3",
       "_view_module_version": "^1.3.3",
       "data": {
        "color": "gray",
        "id": "-1724094166482322875",
        "label": "intensity",
        "shape": "ellipse"
       },
       "grabbable": true,
       "grabbed": false,
       "position": {
        "x": 930,
        "y": 875
       },
       "selectable": false
      }
     },
     "3e04c0a780464a699d1b759ff50e8503": {
      "model_module": "jupyter-cytoscape",
      "model_module_version": "^1.3.3",
      "model_name": "EdgeModel",
      "state": {
       "_model_module_version": "^1.3.3",
       "_view_module_version": "^1.3.3",
       "classes": " directed ",
       "data": {
        "id": "1e518976-4c76-4338-84f2-3315e5b28872",
        "source": "4670040985128536123",
        "target": "5332712636132827316"
       },
       "selectable": false
      }
     },
     "3ff05450149d40168c1317485633d139": {
      "model_module": "jupyter-cytoscape",
      "model_module_version": "^1.3.3",
      "model_name": "EdgeModel",
      "state": {
       "_model_module_version": "^1.3.3",
       "_view_module_version": "^1.3.3",
       "classes": " directed ",
       "data": {
        "id": "0ff2a5c3-ac2f-4d54-9869-4fea88ddd802",
        "source": "6874735086663545106",
        "target": "1899921469065848959"
       },
       "selectable": false
      }
     },
     "4014c16ac844441981100e466751a8da": {
      "model_module": "jupyter-cytoscape",
      "model_module_version": "^1.3.3",
      "model_name": "EdgeModel",
      "state": {
       "_model_module_version": "^1.3.3",
       "_view_module_version": "^1.3.3",
       "classes": " directed ",
       "data": {
        "id": "6c7e00cc-6131-402d-a5a4-e14d73f49fc4",
        "source": "-7320865847771993438",
        "target": "-7587986330725577257"
       },
       "selectable": false
      }
     },
     "431df776c3ce4e1dbb710e09b8bdb951": {
      "model_module": "jupyter-cytoscape",
      "model_module_version": "^1.3.3",
      "model_name": "NodeModel",
      "state": {
       "_model_module_version": "^1.3.3",
       "_view_module_version": "^1.3.3",
       "data": {
        "color": "gray",
        "id": "-52898276908213756",
        "label": "mean_chunk",
        "shape": "ellipse"
       },
       "grabbable": true,
       "grabbed": false,
       "position": {
        "x": 314,
        "y": 635
       },
       "selectable": false
      }
     },
     "448588a836d74a2ba7473f67d1ec05e2": {
      "model_module": "jupyter-cytoscape",
      "model_module_version": "^1.3.3",
      "model_name": "NodeModel",
      "state": {
       "_model_module_version": "^1.3.3",
       "_view_module_version": "^1.3.3",
       "data": {
        "color": "gray",
        "id": "5176007852005810031",
        "label": "2",
        "shape": "rectangle"
       },
       "grabbable": true,
       "grabbed": false,
       "position": {
        "x": 930,
        "y": 1715
       },
       "selectable": false
      }
     },
     "454a458242e44c0496863636c160a50f": {
      "model_module": "jupyter-cytoscape",
      "model_module_version": "^1.3.3",
      "model_name": "EdgeModel",
      "state": {
       "_model_module_version": "^1.3.3",
       "_view_module_version": "^1.3.3",
       "classes": " directed ",
       "data": {
        "id": "1ba31414-6d57-4939-bf74-d0ead3c15248",
        "source": "-7587986330725577257",
        "target": "-3327542623466849601"
       },
       "selectable": false
      }
     },
     "456df7b8fa8b455aaf25172febcb0713": {
      "model_module": "jupyter-cytoscape",
      "model_module_version": "^1.3.3",
      "model_name": "EdgeModel",
      "state": {
       "_model_module_version": "^1.3.3",
       "_view_module_version": "^1.3.3",
       "classes": " directed ",
       "data": {
        "id": "81e57b0e-e88d-4e89-9612-1288b804443c",
        "source": "5987558229160451658",
        "target": "6312456356012405175"
       },
       "selectable": false
      }
     },
     "46fb7ed720b143158acecdc233c12790": {
      "model_module": "jupyter-cytoscape",
      "model_module_version": "^1.3.3",
      "model_name": "NodeModel",
      "state": {
       "_model_module_version": "^1.3.3",
       "_view_module_version": "^1.3.3",
       "data": {
        "color": "gray",
        "id": "4041227500030140451",
        "label": "wrap_with_array",
        "shape": "ellipse"
       },
       "grabbable": true,
       "grabbed": false,
       "position": {
        "x": 304,
        "y": 1115
       },
       "selectable": false
      }
     },
     "47d92a538f0242afb53aada9b4bc16ca": {
      "model_module": "jupyter-cytoscape",
      "model_module_version": "^1.3.3",
      "model_name": "NodeModel",
      "state": {
       "_model_module_version": "^1.3.3",
       "_view_module_version": "^1.3.3",
       "data": {
        "color": "gray",
        "id": "2670174454968075468",
        "label": "apply_transform",
        "shape": "ellipse"
       },
       "grabbable": true,
       "grabbed": false,
       "position": {
        "x": 719,
        "y": 1355
       },
       "selectable": false
      }
     },
     "487c5430d33946cf8727cdcab7c6a556": {
      "model_module": "jupyter-cytoscape",
      "model_module_version": "^1.3.3",
      "model_name": "NodeModel",
      "state": {
       "_model_module_version": "^1.3.3",
       "_view_module_version": "^1.3.3",
       "data": {
        "color": "gray",
        "id": "-2826700366998409577",
        "label": "(3, 0)",
        "shape": "rectangle"
       },
       "grabbable": true,
       "grabbed": false,
       "position": {
        "x": 930,
        "y": 515
       },
       "selectable": false
      }
     },
     "48bc9f7584cc4478b82a3b0952e49811": {
      "model_module": "jupyter-cytoscape",
      "model_module_version": "^1.3.3",
      "model_name": "NodeModel",
      "state": {
       "_model_module_version": "^1.3.3",
       "_view_module_version": "^1.3.3",
       "data": {
        "color": "gray",
        "id": "2308127593617891484",
        "label": "getitem",
        "shape": "ellipse"
       },
       "grabbable": true,
       "grabbed": false,
       "position": {
        "x": 930,
        "y": 1115
       },
       "selectable": false
      }
     },
     "496c0855141b43ab82c4756e5df70c34": {
      "model_module": "jupyter-cytoscape",
      "model_module_version": "^1.3.3",
      "model_name": "EdgeModel",
      "state": {
       "_model_module_version": "^1.3.3",
       "_view_module_version": "^1.3.3",
       "classes": " directed ",
       "data": {
        "id": "0051b888-275f-423d-8fe4-e341c1e4646e",
        "source": "6281638149788022502",
        "target": "-1724094166482322875"
       },
       "selectable": false
      }
     },
     "49e01b7823394560a9a77f43e290089f": {
      "model_module": "jupyter-cytoscape",
      "model_module_version": "^1.3.3",
      "model_name": "NodeModel",
      "state": {
       "_model_module_version": "^1.3.3",
       "_view_module_version": "^1.3.3",
       "data": {
        "color": "gray",
        "id": "7400850790964663779",
        "label": "getitem",
        "shape": "ellipse"
       },
       "grabbable": true,
       "grabbed": false,
       "position": {
        "x": 98,
        "y": 155
       },
       "selectable": false
      }
     },
     "4a40b32f6e42490ba4efdb7df0501fb0": {
      "model_module": "jupyter-cytoscape",
      "model_module_version": "^1.3.3",
      "model_name": "NodeModel",
      "state": {
       "_model_module_version": "^1.3.3",
       "_view_module_version": "^1.3.3",
       "data": {
        "color": "gray",
        "id": "-6403728975476740178",
        "label": "",
        "shape": "rectangle"
       },
       "grabbable": true,
       "grabbed": false,
       "position": {
        "x": 98,
        "y": 1955
       },
       "selectable": false
      }
     },
     "4ae5922a631f4b928b3fc4b9feb4121b": {
      "model_module": "jupyter-cytoscape",
      "model_module_version": "^1.3.3",
      "model_name": "EdgeModel",
      "state": {
       "_model_module_version": "^1.3.3",
       "_view_module_version": "^1.3.3",
       "classes": " directed ",
       "data": {
        "id": "630de29c-2264-487d-8b16-518640819a45",
        "source": "-2975413565300842946",
        "target": "-1178123883497903718"
       },
       "selectable": false
      }
     },
     "4b65118d4016428ab8fd864f65eeb96a": {
      "model_module": "jupyter-cytoscape",
      "model_module_version": "^1.3.3",
      "model_name": "EdgeModel",
      "state": {
       "_model_module_version": "^1.3.3",
       "_view_module_version": "^1.3.3",
       "classes": " directed ",
       "data": {
        "id": "d46521a0-38d7-4c17-a54c-2894f4f2da58",
        "source": "-4198435126811595383",
        "target": "-8700921841961141619"
       },
       "selectable": false
      }
     },
     "4be1633f025f464db7ebc143e557d830": {
      "model_module": "jupyter-cytoscape",
      "model_module_version": "^1.3.3",
      "model_name": "NodeModel",
      "state": {
       "_model_module_version": "^1.3.3",
       "_view_module_version": "^1.3.3",
       "data": {
        "color": "gray",
        "id": "5987558229160451658",
        "label": "apply_transform",
        "shape": "ellipse"
       },
       "grabbable": true,
       "grabbed": false,
       "position": {
        "x": 719,
        "y": 395
       },
       "selectable": false
      }
     },
     "4ecc08da7dd84b999358b004cc844c67": {
      "model_module": "jupyter-cytoscape",
      "model_module_version": "^1.3.3",
      "model_name": "EdgeModel",
      "state": {
       "_model_module_version": "^1.3.3",
       "_view_module_version": "^1.3.3",
       "classes": " directed ",
       "data": {
        "id": "645ca917-fdca-44c8-83f1-7a6f208c7ea8",
        "source": "2505284449769781524",
        "target": "811757048236134829"
       },
       "selectable": false
      }
     },
     "50231864ac6442e6b1e1954e0967ff45": {
      "model_module": "jupyter-cytoscape",
      "model_module_version": "^1.3.3",
      "model_name": "EdgeModel",
      "state": {
       "_model_module_version": "^1.3.3",
       "_view_module_version": "^1.3.3",
       "classes": " directed ",
       "data": {
        "id": "0322a68a-11db-430b-94b8-c2c4de0e8198",
        "source": "-7815681723899409692",
        "target": "7686107117493160122"
       },
       "selectable": false
      }
     },
     "50e84d19b187436e90f03b9cd17ab8ba": {
      "model_module": "jupyter-cytoscape",
      "model_module_version": "^1.3.3",
      "model_name": "NodeModel",
      "state": {
       "_model_module_version": "^1.3.3",
       "_view_module_version": "^1.3.3",
       "data": {
        "color": "gray",
        "id": "7678685479004833396",
        "label": "(0, 0, 0)",
        "shape": "rectangle"
       },
       "grabbable": true,
       "grabbed": false,
       "position": {
        "x": 310.25,
        "y": 275
       },
       "selectable": false
      }
     },
     "515306b98e1e4176a5edc97386046b35": {
      "model_module": "jupyter-cytoscape",
      "model_module_version": "^1.3.3",
      "model_name": "NodeModel",
      "state": {
       "_model_module_version": "^1.3.3",
       "_view_module_version": "^1.3.3",
       "data": {
        "color": "gray",
        "id": "1899921469065848959",
        "label": "apply_transform",
        "shape": "ellipse"
       },
       "grabbable": true,
       "grabbed": false,
       "position": {
        "x": 314,
        "y": 1355
       },
       "selectable": false
      }
     },
     "52eb81bce7d34b81bede0e06313cfbfd": {
      "model_module": "jupyter-cytoscape",
      "model_module_version": "^1.3.3",
      "model_name": "EdgeModel",
      "state": {
       "_model_module_version": "^1.3.3",
       "_view_module_version": "^1.3.3",
       "classes": " directed ",
       "data": {
        "id": "5361a983-f9c7-4efa-b9fb-dfddae66f825",
        "source": "1899921469065848959",
        "target": "2505284449769781524"
       },
       "selectable": false
      }
     },
     "5385b11221db4aa7bbc6ee5d970175b9": {
      "model_module": "jupyter-cytoscape",
      "model_module_version": "^1.3.3",
      "model_name": "NodeModel",
      "state": {
       "_model_module_version": "^1.3.3",
       "_view_module_version": "^1.3.3",
       "data": {
        "color": "gray",
        "id": "-4240116341018701367",
        "label": "(3, 0, 0)",
        "shape": "rectangle"
       },
       "grabbable": true,
       "grabbed": false,
       "position": {
        "x": 719,
        "y": 995
       },
       "selectable": false
      }
     },
     "53cab7c452ac4497aba3acf3b08002ff": {
      "model_module": "jupyter-cytoscape",
      "model_module_version": "^1.3.3",
      "model_name": "EdgeModel",
      "state": {
       "_model_module_version": "^1.3.3",
       "_view_module_version": "^1.3.3",
       "classes": " directed ",
       "data": {
        "id": "d91dd012-ecae-4cb2-807c-f8149c988c97",
        "source": "1899921469065848959",
        "target": "2505284449769781524"
       },
       "selectable": false
      }
     },
     "53cd9345ede24127a217a0b9c7048cef": {
      "model_module": "jupyter-cytoscape",
      "model_module_version": "^1.3.3",
      "model_name": "EdgeModel",
      "state": {
       "_model_module_version": "^1.3.3",
       "_view_module_version": "^1.3.3",
       "classes": " directed ",
       "data": {
        "id": "dbf6d16e-7090-48c6-8ef7-07f532339dce",
        "source": "1231410209765582248",
        "target": "5062505818741988461"
       },
       "selectable": false
      }
     },
     "54453bf662804929972a767631706928": {
      "model_module": "jupyter-cytoscape",
      "model_module_version": "^1.3.3",
      "model_name": "NodeModel",
      "state": {
       "_model_module_version": "^1.3.3",
       "_view_module_version": "^1.3.3",
       "data": {
        "color": "gray",
        "id": "701280354727081612",
        "label": "getitem",
        "shape": "ellipse"
       },
       "grabbable": true,
       "grabbed": false,
       "position": {
        "x": 719,
        "y": 1115
       },
       "selectable": false
      }
     },
     "5464c9cfebce483984ad0c22675a22ac": {
      "model_module": "jupyter-cytoscape",
      "model_module_version": "^1.3.3",
      "model_name": "EdgeModel",
      "state": {
       "_model_module_version": "^1.3.3",
       "_view_module_version": "^1.3.3",
       "classes": " directed ",
       "data": {
        "id": "36450a95-92f9-497f-938f-149bac41c962",
        "source": "-8377662192731045219",
        "target": "-1069384154620023996"
       },
       "selectable": false
      }
     },
     "5468974c68cd4648ba43afdd71c93c34": {
      "model_module": "jupyter-cytoscape",
      "model_module_version": "^1.3.3",
      "model_name": "EdgeModel",
      "state": {
       "_model_module_version": "^1.3.3",
       "_view_module_version": "^1.3.3",
       "classes": " directed ",
       "data": {
        "id": "ceba0e42-2080-4d5d-a271-53859447bdc3",
        "source": "811757048236134829",
        "target": "4026788154152066844"
       },
       "selectable": false
      }
     },
     "555546adba8a4d098be8cb36ee719de0": {
      "model_module": "jupyter-cytoscape",
      "model_module_version": "^1.3.3",
      "model_name": "EdgeModel",
      "state": {
       "_model_module_version": "^1.3.3",
       "_view_module_version": "^1.3.3",
       "classes": " directed ",
       "data": {
        "id": "747353fa-4348-493d-b1bb-a25ef6efe419",
        "source": "-4469974169773607156",
        "target": "-2826700366998409577"
       },
       "selectable": false
      }
     },
     "5712083f837e4ef9affaf20949cee4b8": {
      "model_module": "jupyter-cytoscape",
      "model_module_version": "^1.3.3",
      "model_name": "NodeModel",
      "state": {
       "_model_module_version": "^1.3.3",
       "_view_module_version": "^1.3.3",
       "data": {
        "color": "gray",
        "id": "1231410209765582248",
        "label": "",
        "shape": "rectangle"
       },
       "grabbable": true,
       "grabbed": false,
       "position": {
        "x": 304,
        "y": 995
       },
       "selectable": false
      }
     },
     "5756d24a81694e10a6f68c18840880ab": {
      "model_module": "jupyter-cytoscape",
      "model_module_version": "^1.3.3",
      "model_name": "EdgeModel",
      "state": {
       "_model_module_version": "^1.3.3",
       "_view_module_version": "^1.3.3",
       "classes": " directed ",
       "data": {
        "id": "564749b4-ae7f-4998-b5f8-446138780c22",
        "source": "5332712636132827316",
        "target": "-6231323858362813098"
       },
       "selectable": false
      }
     },
     "59d2df6196994efc8bcc3e95b442ed24": {
      "model_module": "jupyter-cytoscape",
      "model_module_version": "^1.3.3",
      "model_name": "NodeModel",
      "state": {
       "_model_module_version": "^1.3.3",
       "_view_module_version": "^1.3.3",
       "data": {
        "color": "gray",
        "id": "6281638149788022502",
        "label": "(2, 0, 0)",
        "shape": "rectangle"
       },
       "grabbable": true,
       "grabbed": false,
       "position": {
        "x": 930,
        "y": 995
       },
       "selectable": false
      }
     },
     "5d81fd1249364ceeb30e275ccef9199b": {
      "model_module": "jupyter-cytoscape",
      "model_module_version": "^1.3.3",
      "model_name": "EdgeModel",
      "state": {
       "_model_module_version": "^1.3.3",
       "_view_module_version": "^1.3.3",
       "classes": " directed ",
       "data": {
        "id": "e1f19945-be8c-4b04-b78c-fae03d4a95c4",
        "source": "-8377662192731045219",
        "target": "-1069384154620023996"
       },
       "selectable": false
      }
     },
     "5e10a789a20f440daa419db33287227d": {
      "model_module": "jupyter-cytoscape",
      "model_module_version": "^1.3.3",
      "model_name": "EdgeModel",
      "state": {
       "_model_module_version": "^1.3.3",
       "_view_module_version": "^1.3.3",
       "classes": " directed ",
       "data": {
        "id": "a2bca053-36ab-45ba-8792-9cef30815e6f",
        "source": "-750374208217397234",
        "target": "4437677239923299413"
       },
       "selectable": false
      }
     },
     "5f56ca5b8e4540dea182ab580a0dd3bb": {
      "model_module": "jupyter-cytoscape",
      "model_module_version": "^1.3.3",
      "model_name": "CytoscapeModel",
      "state": {
       "_interaction_handlers": {},
       "_model_module_version": "^1.3.3",
       "_view_module_version": "^1.3.3",
       "auto_ungrabify": false,
       "autolock": false,
       "cytoscape_layout": {
        "edgeSep": 10,
        "name": "dagre",
        "nodeDimensionsIncludeLabels": true,
        "nodeSep": 10,
        "rankDir": "BT",
        "spacingFactor": 1
       },
       "cytoscape_style": [
        {
         "selector": "node",
         "style": {
          "background-color": "#eee",
          "border-color": "data(color)",
          "border-width": 4,
          "color": "black",
          "font-family": "helvetica",
          "font-size": "24px",
          "font-weight": "bold",
          "height": 64,
          "label": "data(label)",
          "opacity": "1.0",
          "shape": "data(shape)",
          "text-halign": "center",
          "text-valign": "center",
          "width": 64
         }
        },
        {
         "selector": "edge",
         "style": {
          "curve-style": "bezier",
          "line-color": "gray",
          "target-arrow-color": "gray",
          "target-arrow-shape": "triangle",
          "width": 8
         }
        }
       ],
       "desktop_tap_threshold": 4,
       "graph": "IPY_MODEL_297fd5f9704044ca9d5aac0e810cd478",
       "headless": false,
       "hide_edges_on_viewport": false,
       "layout": "IPY_MODEL_341ffa0e4aed48338f65df3915945214",
       "max_zoom": 4,
       "min_zoom": 0.2,
       "motion_blur": false,
       "motion_blur_opacity": 0.2,
       "panning_enabled": true,
       "pixel_ratio": "auto",
       "rendered_position": {
        "renderedPosition": {
         "x": 100,
         "y": 100
        }
       },
       "selection_type": "single",
       "style_enabled": true,
       "texture_on_viewport": false,
       "tooltip_source": "tooltip",
       "touch_tap_threshold": 8,
       "user_panning_enabled": true,
       "user_zooming_enabled": true,
       "wheel_sensitivity": 0.1,
       "zoom": 2,
       "zooming_enabled": true
      }
     },
     "5f573596185a4e9a8658dfa3254d0ccc": {
      "model_module": "jupyter-cytoscape",
      "model_module_version": "^1.3.3",
      "model_name": "NodeModel",
      "state": {
       "_model_module_version": "^1.3.3",
       "_view_module_version": "^1.3.3",
       "data": {
        "color": "gray",
        "id": "444412869919983919",
        "label": "",
        "shape": "rectangle"
       },
       "grabbable": true,
       "grabbed": false,
       "position": {
        "x": 304,
        "y": 1235
       },
       "selectable": false
      }
     },
     "60d0bd7570764f0eae6d7a6acd3687b1": {
      "model_module": "jupyter-cytoscape",
      "model_module_version": "^1.3.3",
      "model_name": "NodeModel",
      "state": {
       "_model_module_version": "^1.3.3",
       "_view_module_version": "^1.3.3",
       "data": {
        "color": "gray",
        "id": "-4285238858218776981",
        "label": "",
        "shape": "rectangle"
       },
       "grabbable": true,
       "grabbed": false,
       "position": {
        "x": 930,
        "y": 1235
       },
       "selectable": false
      }
     },
     "61d37cc4bf9148e791f023dfb230444b": {
      "model_module": "jupyter-cytoscape",
      "model_module_version": "^1.3.3",
      "model_name": "EdgeModel",
      "state": {
       "_model_module_version": "^1.3.3",
       "_view_module_version": "^1.3.3",
       "classes": " directed ",
       "data": {
        "id": "e339f0a3-50a5-4b8c-a755-c990945e84a1",
        "source": "-1091251229743487292",
        "target": "1000048458353933746"
       },
       "selectable": false
      }
     },
     "62b2f7b64a2a4355bbec66e5d8e481fd": {
      "model_module": "jupyter-cytoscape",
      "model_module_version": "^1.3.3",
      "model_name": "NodeModel",
      "state": {
       "_model_module_version": "^1.3.3",
       "_view_module_version": "^1.3.3",
       "data": {
        "color": "gray",
        "id": "2174486169311756960",
        "label": "intensity",
        "shape": "ellipse"
       },
       "grabbable": true,
       "grabbed": false,
       "position": {
        "x": 314,
        "y": 875
       },
       "selectable": false
      }
     },
     "654856cdd5c84f12a2385a4eabbcad8a": {
      "model_module": "jupyter-cytoscape",
      "model_module_version": "^1.3.3",
      "model_name": "EdgeModel",
      "state": {
       "_model_module_version": "^1.3.3",
       "_view_module_version": "^1.3.3",
       "classes": " directed ",
       "data": {
        "id": "e0105b9a-264f-4ef4-8d82-1deb31ca9749",
        "source": "3781333408202566832",
        "target": "-1091251229743487292"
       },
       "selectable": false
      }
     },
     "65d6bb3423f94a0791bae1d131c52ed6": {
      "model_module": "jupyter-cytoscape",
      "model_module_version": "^1.3.3",
      "model_name": "NodeModel",
      "state": {
       "_model_module_version": "^1.3.3",
       "_view_module_version": "^1.3.3",
       "data": {
        "color": "gray",
        "id": "565440504347565410",
        "label": "mean_chunk",
        "shape": "ellipse"
       },
       "grabbable": true,
       "grabbed": false,
       "position": {
        "x": 930,
        "y": 635
       },
       "selectable": false
      }
     },
     "6845436fa9f64a079905d5ac4da96863": {
      "model_module": "jupyter-cytoscape",
      "model_module_version": "^1.3.3",
      "model_name": "EdgeModel",
      "state": {
       "_model_module_version": "^1.3.3",
       "_view_module_version": "^1.3.3",
       "classes": " directed ",
       "data": {
        "id": "05c4770c-f4ac-4308-bf55-1906cfef8475",
        "source": "3222807856066460555",
        "target": "-3388191288726277255"
       },
       "selectable": false
      }
     },
     "68f69b94c26c4c21a046f884cf65b45c": {
      "model_module": "jupyter-cytoscape",
      "model_module_version": "^1.3.3",
      "model_name": "EdgeModel",
      "state": {
       "_model_module_version": "^1.3.3",
       "_view_module_version": "^1.3.3",
       "classes": " directed ",
       "data": {
        "id": "47254c97-2913-42c8-b5cf-b1e6496a4001",
        "source": "2670174454968075468",
        "target": "6035261952596402961"
       },
       "selectable": false
      }
     },
     "6a182a6b54d04391ad1de9ca8113ab2d": {
      "model_module": "jupyter-cytoscape",
      "model_module_version": "^1.3.3",
      "model_name": "NodeModel",
      "state": {
       "_model_module_version": "^1.3.3",
       "_view_module_version": "^1.3.3",
       "data": {
        "color": "gray",
        "id": "5062505818741988461",
        "label": "0",
        "shape": "rectangle"
       },
       "grabbable": true,
       "grabbed": false,
       "position": {
        "x": 304,
        "y": 1835
       },
       "selectable": false
      }
     },
     "6ad1121580f2465dbead73b91b97ca53": {
      "model_module": "jupyter-cytoscape",
      "model_module_version": "^1.3.3",
      "model_name": "EdgeModel",
      "state": {
       "_model_module_version": "^1.3.3",
       "_view_module_version": "^1.3.3",
       "classes": " directed ",
       "data": {
        "id": "bf881e59-36f4-4eec-921c-9a21bb04aa2e",
        "source": "2505284449769781524",
        "target": "811757048236134829"
       },
       "selectable": false
      }
     },
     "6b8d59bad45249529b1fbcbd626246c1": {
      "model_module": "jupyter-cytoscape",
      "model_module_version": "^1.3.3",
      "model_name": "EdgeModel",
      "state": {
       "_model_module_version": "^1.3.3",
       "_view_module_version": "^1.3.3",
       "classes": " directed ",
       "data": {
        "id": "aecfab6f-69e2-4504-99a2-2f76c6a12ff6",
        "source": "-8956995078896948059",
        "target": "6841699715425665493"
       },
       "selectable": false
      }
     },
     "6c55c444204b4abd943d988b0421577c": {
      "model_module": "jupyter-cytoscape",
      "model_module_version": "^1.3.3",
      "model_name": "NodeModel",
      "state": {
       "_model_module_version": "^1.3.3",
       "_view_module_version": "^1.3.3",
       "data": {
        "color": "gray",
        "id": "6874735086663545106",
        "label": "(1, 0)",
        "shape": "rectangle"
       },
       "grabbable": true,
       "grabbed": false,
       "position": {
        "x": 304,
        "y": 1475
       },
       "selectable": false
      }
     },
     "6eddfdf048144234a5c95f88903b752b": {
      "model_module": "jupyter-cytoscape",
      "model_module_version": "^1.3.3",
      "model_name": "NodeModel",
      "state": {
       "_model_module_version": "^1.3.3",
       "_view_module_version": "^1.3.3",
       "data": {
        "color": "gray",
        "id": "6281638149788022502",
        "label": "(2, 0, 0)",
        "shape": "rectangle"
       },
       "grabbable": true,
       "grabbed": false,
       "position": {
        "x": 719,
        "y": 35
       },
       "selectable": false
      }
     },
     "702d28b777bd433599f2bf02df920813": {
      "model_module": "jupyter-cytoscape",
      "model_module_version": "^1.3.3",
      "model_name": "NodeModel",
      "state": {
       "_model_module_version": "^1.3.3",
       "_view_module_version": "^1.3.3",
       "data": {
        "color": "gray",
        "id": "-2826700366998409577",
        "label": "(3, 0)",
        "shape": "rectangle"
       },
       "grabbable": true,
       "grabbed": false,
       "position": {
        "x": 724,
        "y": 1475
       },
       "selectable": false
      }
     },
     "707703b1b4e34d0285186d8d41d3a09c": {
      "model_module": "jupyter-cytoscape",
      "model_module_version": "^1.3.3",
      "model_name": "NodeModel",
      "state": {
       "_model_module_version": "^1.3.3",
       "_view_module_version": "^1.3.3",
       "data": {
        "color": "gray",
        "id": "-1091251229743487292",
        "label": "(0, 0, 0)",
        "shape": "rectangle"
       },
       "grabbable": true,
       "grabbed": false,
       "position": {
        "x": 98,
        "y": 755
       },
       "selectable": false
      }
     },
     "70c95ee8a1e546bea7e3dbc8e48a1473": {
      "model_module": "jupyter-cytoscape",
      "model_module_version": "^1.3.3",
      "model_name": "EdgeModel",
      "state": {
       "_model_module_version": "^1.3.3",
       "_view_module_version": "^1.3.3",
       "classes": " directed ",
       "data": {
        "id": "75911b4a-1eb0-4637-af00-710c783f49c0",
        "source": "654760481743083048",
        "target": "-6403728975476740178"
       },
       "selectable": false
      }
     },
     "757bcbf0869448fb8e957653283f10b9": {
      "model_module": "jupyter-cytoscape",
      "model_module_version": "^1.3.3",
      "model_name": "EdgeModel",
      "state": {
       "_model_module_version": "^1.3.3",
       "_view_module_version": "^1.3.3",
       "classes": " directed ",
       "data": {
        "id": "8ff262ef-72bb-42a1-ae4b-d5b1a6a73db0",
        "source": "-750374208217397234",
        "target": "4437677239923299413"
       },
       "selectable": false
      }
     },
     "758670ab607a46d9aff272241b9a7e74": {
      "model_module": "jupyter-cytoscape",
      "model_module_version": "^1.3.3",
      "model_name": "EdgeModel",
      "state": {
       "_model_module_version": "^1.3.3",
       "_view_module_version": "^1.3.3",
       "classes": " directed ",
       "data": {
        "id": "ceae9751-ab13-4cd4-9bbe-ace5b4fb645f",
        "source": "5176007852005810031",
        "target": "-750374208217397234"
       },
       "selectable": false
      }
     },
     "75ca585fcec846cf869db4957e36c092": {
      "model_module": "jupyter-cytoscape",
      "model_module_version": "^1.3.3",
      "model_name": "EdgeModel",
      "state": {
       "_model_module_version": "^1.3.3",
       "_view_module_version": "^1.3.3",
       "classes": " directed ",
       "data": {
        "id": "af1ff398-8fb5-4efd-892c-46dc860d5f9e",
        "source": "-4285238858218776981",
        "target": "4670040985128536123"
       },
       "selectable": false
      }
     },
     "764f5ef058904cfbbadb2ab7a7974ec9": {
      "model_module": "jupyter-cytoscape",
      "model_module_version": "^1.3.3",
      "model_name": "NodeModel",
      "state": {
       "_model_module_version": "^1.3.3",
       "_view_module_version": "^1.3.3",
       "data": {
        "color": "gray",
        "id": "-7815681723899409692",
        "label": "",
        "shape": "rectangle"
       },
       "grabbable": true,
       "grabbed": false,
       "position": {
        "x": 724,
        "y": 995
       },
       "selectable": false
      }
     },
     "769e61c65bbd4c8097679303aa687ebb": {
      "model_module": "jupyter-cytoscape",
      "model_module_version": "^1.3.3",
      "model_name": "EdgeModel",
      "state": {
       "_model_module_version": "^1.3.3",
       "_view_module_version": "^1.3.3",
       "classes": " directed ",
       "data": {
        "id": "8d0acf0b-9fcf-440e-8708-5f56c388e664",
        "source": "7618419047678179378",
        "target": "654760481743083048"
       },
       "selectable": false
      }
     },
     "784e2a08e6ea477fbbb96d5c91ed575d": {
      "model_module": "jupyter-cytoscape",
      "model_module_version": "^1.3.3",
      "model_name": "NodeModel",
      "state": {
       "_model_module_version": "^1.3.3",
       "_view_module_version": "^1.3.3",
       "data": {
        "color": "gray",
        "id": "5332712636132827316",
        "label": "",
        "shape": "rectangle"
       },
       "grabbable": true,
       "grabbed": false,
       "position": {
        "x": 724,
        "y": 1955
       },
       "selectable": false
      }
     },
     "78bad3ad13064175a2cb3be59be7ed1d": {
      "model_module": "jupyter-cytoscape",
      "model_module_version": "^1.3.3",
      "model_name": "EdgeModel",
      "state": {
       "_model_module_version": "^1.3.3",
       "_view_module_version": "^1.3.3",
       "classes": " directed ",
       "data": {
        "id": "011ce14a-166c-408f-925f-fbf213d979a7",
        "source": "7686107117493160122",
        "target": "5176007852005810031"
       },
       "selectable": false
      }
     },
     "7915a6aaca534afe858e6a9c1b713c63": {
      "model_module": "jupyter-cytoscape",
      "model_module_version": "^1.3.3",
      "model_name": "EdgeModel",
      "state": {
       "_model_module_version": "^1.3.3",
       "_view_module_version": "^1.3.3",
       "classes": " directed ",
       "data": {
        "id": "91d038a4-cafd-475c-826b-0c830f629a8d",
        "source": "-1724094166482322875",
        "target": "4738724326182646574"
       },
       "selectable": false
      }
     },
     "7a7b174178de4429bb45971f4adb6186": {
      "model_module": "jupyter-cytoscape",
      "model_module_version": "^1.3.3",
      "model_name": "EdgeModel",
      "state": {
       "_model_module_version": "^1.3.3",
       "_view_module_version": "^1.3.3",
       "classes": " directed ",
       "data": {
        "id": "955c86dd-e0d0-41df-b7ba-d98f6114e83d",
        "source": "-4240116341018701367",
        "target": "-2658479167678979504"
       },
       "selectable": false
      }
     },
     "7c519a6a187a4439b6bc83e0c93aab7d": {
      "model_module": "jupyter-cytoscape",
      "model_module_version": "^1.3.3",
      "model_name": "NodeModel",
      "state": {
       "_model_module_version": "^1.3.3",
       "_view_module_version": "^1.3.3",
       "data": {
        "color": "gray",
        "id": "4026788154152066844",
        "label": "(1, 0, 0)",
        "shape": "rectangle"
       },
       "grabbable": true,
       "grabbed": false,
       "position": {
        "x": 314,
        "y": 35
       },
       "selectable": false
      }
     },
     "7ebe9829f96a4117a36d082e8780f7c4": {
      "model_module": "jupyter-cytoscape",
      "model_module_version": "^1.3.3",
      "model_name": "EdgeModel",
      "state": {
       "_model_module_version": "^1.3.3",
       "_view_module_version": "^1.3.3",
       "classes": " directed ",
       "data": {
        "id": "961034eb-1b66-4049-8367-d7540fdb5484",
        "source": "4041227500030140451",
        "target": "1231410209765582248"
       },
       "selectable": false
      }
     },
     "7eef5ed5238f4df08e0063e2b3778898": {
      "model_module": "jupyter-cytoscape",
      "model_module_version": "^1.3.3",
      "model_name": "EdgeModel",
      "state": {
       "_model_module_version": "^1.3.3",
       "_view_module_version": "^1.3.3",
       "classes": " directed ",
       "data": {
        "id": "c52a210e-8ef8-48eb-8801-5009a3717070",
        "source": "5176007852005810031",
        "target": "-750374208217397234"
       },
       "selectable": false
      }
     },
     "7ef74602689b4498a2e0a01a91d96459": {
      "model_module": "jupyter-cytoscape",
      "model_module_version": "^1.3.3",
      "model_name": "NodeModel",
      "state": {
       "_model_module_version": "^1.3.3",
       "_view_module_version": "^1.3.3",
       "data": {
        "color": "gray",
        "id": "5296372879665112554",
        "label": "(0, 0)",
        "shape": "rectangle"
       },
       "grabbable": true,
       "grabbed": false,
       "position": {
        "x": 516.5,
        "y": 1475
       },
       "selectable": false
      }
     },
     "7f2c6e0a412c4bf588f877ca0db7bc56": {
      "model_module": "jupyter-cytoscape",
      "model_module_version": "^1.3.3",
      "model_name": "EdgeModel",
      "state": {
       "_model_module_version": "^1.3.3",
       "_view_module_version": "^1.3.3",
       "classes": " directed ",
       "data": {
        "id": "22ba6e0c-9879-4ceb-9e5c-665342fce13f",
        "source": "5296372879665112554",
        "target": "1899921469065848959"
       },
       "selectable": false
      }
     },
     "7f32601c72cd43edaaeed40491b7d261": {
      "model_module": "jupyter-cytoscape",
      "model_module_version": "^1.3.3",
      "model_name": "EdgeModel",
      "state": {
       "_model_module_version": "^1.3.3",
       "_view_module_version": "^1.3.3",
       "classes": " directed ",
       "data": {
        "id": "edea6849-0a52-45e1-bd5e-16fa096ac2c8",
        "source": "4437677239923299413",
        "target": "5987558229160451658"
       },
       "selectable": false
      }
     },
     "80afebbc08eb4d1c970854317e3b4c4b": {
      "model_module": "jupyter-cytoscape",
      "model_module_version": "^1.3.3",
      "model_name": "EdgeModel",
      "state": {
       "_model_module_version": "^1.3.3",
       "_view_module_version": "^1.3.3",
       "classes": " directed ",
       "data": {
        "id": "3ad94ad0-9cfa-4f99-8b32-640040e5a21e",
        "source": "1896926867283227919",
        "target": "9054173375408096250"
       },
       "selectable": false
      }
     },
     "81d28422af7a49acba3d68872d586926": {
      "model_module": "jupyter-cytoscape",
      "model_module_version": "^1.3.3",
      "model_name": "EdgeModel",
      "state": {
       "_model_module_version": "^1.3.3",
       "_view_module_version": "^1.3.3",
       "classes": " directed ",
       "data": {
        "id": "cb9338b5-9e9b-43a4-ac43-dde5272995ac",
        "source": "6035261952596402961",
        "target": "701280354727081612"
       },
       "selectable": false
      }
     },
     "81e19b56ab674effb71201d98eae0ae9": {
      "model_module": "jupyter-cytoscape",
      "model_module_version": "^1.3.3",
      "model_name": "NodeModel",
      "state": {
       "_model_module_version": "^1.3.3",
       "_view_module_version": "^1.3.3",
       "data": {
        "color": "gray",
        "id": "5987558229160451658",
        "label": "apply_transform",
        "shape": "ellipse"
       },
       "grabbable": true,
       "grabbed": false,
       "position": {
        "x": 930,
        "y": 1355
       },
       "selectable": false
      }
     },
     "850926ff05ce48408b4f5efd0f51b693": {
      "model_module": "jupyter-cytoscape",
      "model_module_version": "^1.3.3",
      "model_name": "NodeModel",
      "state": {
       "_model_module_version": "^1.3.3",
       "_view_module_version": "^1.3.3",
       "data": {
        "color": "gray",
        "id": "4026788154152066844",
        "label": "(1, 0, 0)",
        "shape": "rectangle"
       },
       "grabbable": true,
       "grabbed": false,
       "position": {
        "x": 314,
        "y": 995
       },
       "selectable": false
      }
     },
     "8577802ecdba4e7ba54a0454d1af8383": {
      "model_module": "jupyter-cytoscape",
      "model_module_version": "^1.3.3",
      "model_name": "NodeModel",
      "state": {
       "_model_module_version": "^1.3.3",
       "_view_module_version": "^1.3.3",
       "data": {
        "color": "gray",
        "id": "-4285238858218776981",
        "label": "",
        "shape": "rectangle"
       },
       "grabbable": true,
       "grabbed": false,
       "position": {
        "x": 724,
        "y": 2195
       },
       "selectable": false
      }
     },
     "860b860406c04949a341185176946a9e": {
      "model_module": "jupyter-cytoscape",
      "model_module_version": "^1.3.3",
      "model_name": "EdgeModel",
      "state": {
       "_model_module_version": "^1.3.3",
       "_view_module_version": "^1.3.3",
       "classes": " directed ",
       "data": {
        "id": "5ad22cd1-5413-4a65-ac79-86d21df16d35",
        "source": "7618419047678179378",
        "target": "654760481743083048"
       },
       "selectable": false
      }
     },
     "864e518c389f4777886101f0a8bc5f6e": {
      "model_module": "jupyter-cytoscape",
      "model_module_version": "^1.3.3",
      "model_name": "NodeModel",
      "state": {
       "_model_module_version": "^1.3.3",
       "_view_module_version": "^1.3.3",
       "data": {
        "color": "gray",
        "id": "6312456356012405175",
        "label": "(2, 0, 0, 0)",
        "shape": "rectangle"
       },
       "grabbable": true,
       "grabbed": false,
       "position": {
        "x": 930,
        "y": 1235
       },
       "selectable": false
      }
     },
     "868b4e0461924091ac501adcd698df53": {
      "model_module": "jupyter-cytoscape",
      "model_module_version": "^1.3.3",
      "model_name": "EdgeModel",
      "state": {
       "_model_module_version": "^1.3.3",
       "_view_module_version": "^1.3.3",
       "classes": " directed ",
       "data": {
        "id": "db3b326c-2774-4e4f-8178-edaf12b75966",
        "source": "5987558229160451658",
        "target": "6312456356012405175"
       },
       "selectable": false
      }
     },
     "86be052d8ccb4677bedfe9d2f121ab22": {
      "model_module": "jupyter-cytoscape",
      "model_module_version": "^1.3.3",
      "model_name": "EdgeModel",
      "state": {
       "_model_module_version": "^1.3.3",
       "_view_module_version": "^1.3.3",
       "classes": " directed ",
       "data": {
        "id": "08669b1c-9f44-4dd4-83e7-bdb24dd6bc45",
        "source": "589902480980002303",
        "target": "-3388191288726277255"
       },
       "selectable": false
      }
     },
     "8784360f76cb4799b60f89c4b0f64d11": {
      "model_module": "jupyter-cytoscape",
      "model_module_version": "^1.3.3",
      "model_name": "NodeModel",
      "state": {
       "_model_module_version": "^1.3.3",
       "_view_module_version": "^1.3.3",
       "data": {
        "color": "gray",
        "id": "-8956995078896948059",
        "label": "(1, 0, 0)",
        "shape": "rectangle"
       },
       "grabbable": true,
       "grabbed": false,
       "position": {
        "x": 923.25,
        "y": 275
       },
       "selectable": false
      }
     },
     "87dc5b7dcbc24b3a845d30626c4abcbf": {
      "model_module": "jupyter-cytoscape",
      "model_module_version": "^1.3.3",
      "model_name": "NodeModel",
      "state": {
       "_model_module_version": "^1.3.3",
       "_view_module_version": "^1.3.3",
       "data": {
        "color": "gray",
        "id": "-3388191288726277255",
        "label": "mean_combine-partial",
        "shape": "ellipse"
       },
       "grabbable": true,
       "grabbed": false,
       "position": {
        "x": 310.25,
        "y": 395
       },
       "selectable": false
      }
     },
     "8849460e602847b9bda24d062b522d1b": {
      "model_module": "jupyter-cytoscape",
      "model_module_version": "^1.3.3",
      "model_name": "NodeModel",
      "state": {
       "_model_module_version": "^1.3.3",
       "_view_module_version": "^1.3.3",
       "data": {
        "color": "gray",
        "id": "7618419047678179378",
        "label": "",
        "shape": "rectangle"
       },
       "grabbable": true,
       "grabbed": false,
       "position": {
        "x": 98,
        "y": 2195
       },
       "selectable": false
      }
     },
     "8a43b87d7dcd46fb8944b61ca3ad6a3f": {
      "model_module": "jupyter-cytoscape",
      "model_module_version": "^1.3.3",
      "model_name": "NodeModel",
      "state": {
       "_model_module_version": "^1.3.3",
       "_view_module_version": "^1.3.3",
       "data": {
        "color": "gray",
        "id": "1231410209765582248",
        "label": "",
        "shape": "rectangle"
       },
       "grabbable": true,
       "grabbed": false,
       "position": {
        "x": 304,
        "y": 1955
       },
       "selectable": false
      }
     },
     "8bbf252ca71646a39cb57bb002c37166": {
      "model_module": "jupyter-cytoscape",
      "model_module_version": "^1.3.3",
      "model_name": "NodeModel",
      "state": {
       "_model_module_version": "^1.3.3",
       "_view_module_version": "^1.3.3",
       "data": {
        "color": "gray",
        "id": "6035261952596402961",
        "label": "(3, 0, 0, 0)",
        "shape": "rectangle"
       },
       "grabbable": true,
       "grabbed": false,
       "position": {
        "x": 930,
        "y": 275
       },
       "selectable": false
      }
     },
     "8ce733cc50c042a3aa4bc68758ed4c1f": {
      "model_module": "jupyter-cytoscape",
      "model_module_version": "^1.3.3",
      "model_name": "NodeModel",
      "state": {
       "_model_module_version": "^1.3.3",
       "_view_module_version": "^1.3.3",
       "data": {
        "color": "gray",
        "id": "7959798507860876100",
        "label": "0",
        "shape": "rectangle"
       },
       "grabbable": true,
       "grabbed": false,
       "position": {
        "x": 98,
        "y": 1715
       },
       "selectable": false
      }
     },
     "8fc973181930445b956c6d66d28b444d": {
      "model_module": "jupyter-cytoscape",
      "model_module_version": "^1.3.3",
      "model_name": "NodeModel",
      "state": {
       "_model_module_version": "^1.3.3",
       "_view_module_version": "^1.3.3",
       "data": {
        "color": "gray",
        "id": "-7320865847771993438",
        "label": "from_partitioned_args_func",
        "shape": "ellipse"
       },
       "grabbable": true,
       "grabbed": false,
       "position": {
        "x": 516.5,
        "y": 875
       },
       "selectable": false
      }
     },
     "9288a9df9bd445ee855c3ce23e716fae": {
      "model_module": "jupyter-cytoscape",
      "model_module_version": "^1.3.3",
      "model_name": "NodeModel",
      "state": {
       "_model_module_version": "^1.3.3",
       "_view_module_version": "^1.3.3",
       "data": {
        "color": "gray",
        "id": "7618419047678179378",
        "label": "",
        "shape": "rectangle"
       },
       "grabbable": true,
       "grabbed": false,
       "position": {
        "x": 98,
        "y": 1235
       },
       "selectable": false
      }
     },
     "96f65b52feaf4018a663d54d2692fd96": {
      "model_module": "jupyter-cytoscape",
      "model_module_version": "^1.3.3",
      "model_name": "NodeModel",
      "state": {
       "_model_module_version": "^1.3.3",
       "_view_module_version": "^1.3.3",
       "data": {
        "color": "gray",
        "id": "-3454414948922575406",
        "label": "(0, 0, 0)",
        "shape": "rectangle"
       },
       "grabbable": true,
       "grabbed": false,
       "position": {
        "x": 98,
        "y": 35
       },
       "selectable": false
      }
     },
     "976dc33f7f32493498842c7a910d89bd": {
      "model_module": "jupyter-cytoscape",
      "model_module_version": "^1.3.3",
      "model_name": "EdgeModel",
      "state": {
       "_model_module_version": "^1.3.3",
       "_view_module_version": "^1.3.3",
       "classes": " directed ",
       "data": {
        "id": "9b6e67e9-b090-4ec2-b7ab-ca00baeec625",
        "source": "2308127593617891484",
        "target": "6281638149788022502"
       },
       "selectable": false
      }
     },
     "986d7f04565a4410836d0ea0cd0f7614": {
      "model_module": "jupyter-cytoscape",
      "model_module_version": "^1.3.3",
      "model_name": "NodeModel",
      "state": {
       "_model_module_version": "^1.3.3",
       "_view_module_version": "^1.3.3",
       "data": {
        "color": "gray",
        "id": "589902480980002303",
        "label": "(1, 0, 0)",
        "shape": "rectangle"
       },
       "grabbable": true,
       "grabbed": false,
       "position": {
        "x": 314,
        "y": 515
       },
       "selectable": false
      }
     },
     "9b78acbbd2874918937e4acc5ff29f0d": {
      "model_module": "jupyter-cytoscape",
      "model_module_version": "^1.3.3",
      "model_name": "NodeModel",
      "state": {
       "_model_module_version": "^1.3.3",
       "_view_module_version": "^1.3.3",
       "data": {
        "color": "gray",
        "id": "1974286463436785773",
        "label": "(0, 0)",
        "shape": "rectangle"
       },
       "grabbable": true,
       "grabbed": false,
       "position": {
        "x": 718.25,
        "y": 35
       },
       "selectable": false
      }
     },
     "9bf64feabfda498b87339cde9739b08e": {
      "model_module": "jupyter-cytoscape",
      "model_module_version": "^1.3.3",
      "model_name": "NodeModel",
      "state": {
       "_model_module_version": "^1.3.3",
       "_view_module_version": "^1.3.3",
       "data": {
        "color": "gray",
        "id": "1899921469065848959",
        "label": "apply_transform",
        "shape": "ellipse"
       },
       "grabbable": true,
       "grabbed": false,
       "position": {
        "x": 314,
        "y": 395
       },
       "selectable": false
      }
     },
     "9cbe89c584f24e1ca493827e0cbafe58": {
      "model_module": "jupyter-cytoscape",
      "model_module_version": "^1.3.3",
      "model_name": "NodeModel",
      "state": {
       "_model_module_version": "^1.3.3",
       "_view_module_version": "^1.3.3",
       "data": {
        "color": "gray",
        "id": "7686107117493160122",
        "label": "0",
        "shape": "rectangle"
       },
       "grabbable": true,
       "grabbed": false,
       "position": {
        "x": 724,
        "y": 875
       },
       "selectable": false
      }
     },
     "9d064d766af043668b1dff91a0d5ee18": {
      "model_module": "jupyter-cytoscape",
      "model_module_version": "^1.3.3",
      "model_name": "NodeModel",
      "state": {
       "_model_module_version": "^1.3.3",
       "_view_module_version": "^1.3.3",
       "data": {
        "color": "gray",
        "id": "-4450812349800622721",
        "label": "(3, 0, 0)",
        "shape": "rectangle"
       },
       "grabbable": true,
       "grabbed": false,
       "position": {
        "x": 719,
        "y": 755
       },
       "selectable": false
      }
     },
     "9d5ccf03b1cb4d409ce07427fa11fa80": {
      "model_module": "jupyter-cytoscape",
      "model_module_version": "^1.3.3",
      "model_name": "EdgeModel",
      "state": {
       "_model_module_version": "^1.3.3",
       "_view_module_version": "^1.3.3",
       "classes": " directed ",
       "data": {
        "id": "c645ea48-c2e9-4b3f-9770-802fe2fe047b",
        "source": "6874735086663545106",
        "target": "1899921469065848959"
       },
       "selectable": false
      }
     },
     "9db284fc9479489db5dcf8663ad88628": {
      "model_module": "jupyter-cytoscape",
      "model_module_version": "^1.3.3",
      "model_name": "NodeModel",
      "state": {
       "_model_module_version": "^1.3.3",
       "_view_module_version": "^1.3.3",
       "data": {
        "color": "gray",
        "id": "-750374208217397234",
        "label": "getitem",
        "shape": "ellipse"
       },
       "grabbable": true,
       "grabbed": false,
       "position": {
        "x": 724,
        "y": 635
       },
       "selectable": false
      }
     },
     "9fd32e41354e47e4b036b88c6ba3aee7": {
      "model_module": "jupyter-cytoscape",
      "model_module_version": "^1.3.3",
      "model_name": "NodeModel",
      "state": {
       "_model_module_version": "^1.3.3",
       "_view_module_version": "^1.3.3",
       "data": {
        "color": "gray",
        "id": "-2975413565300842946",
        "label": "(0, 0)",
        "shape": "rectangle"
       },
       "grabbable": true,
       "grabbed": false,
       "position": {
        "x": 98,
        "y": 515
       },
       "selectable": false
      }
     },
     "9fe5fd6acca6490098ada332b66ace05": {
      "model_module": "jupyter-cytoscape",
      "model_module_version": "^1.3.3",
      "model_name": "EdgeModel",
      "state": {
       "_model_module_version": "^1.3.3",
       "_view_module_version": "^1.3.3",
       "classes": " directed ",
       "data": {
        "id": "940d9dad-6663-44cb-b664-7703b1960352",
        "source": "7400850790964663779",
        "target": "-3454414948922575406"
       },
       "selectable": false
      }
     },
     "a05011e2e1584b44b769a248ae8210ce": {
      "model_module": "jupyter-cytoscape",
      "model_module_version": "^1.3.3",
      "model_name": "EdgeModel",
      "state": {
       "_model_module_version": "^1.3.3",
       "_view_module_version": "^1.3.3",
       "classes": " directed ",
       "data": {
        "id": "c26d640d-1286-4861-a3e1-d3d14c36470d",
        "source": "2670174454968075468",
        "target": "6035261952596402961"
       },
       "selectable": false
      }
     },
     "a17590c0271f471283f6db02930f65fe": {
      "model_module": "jupyter-cytoscape",
      "model_module_version": "^1.3.3",
      "model_name": "EdgeModel",
      "state": {
       "_model_module_version": "^1.3.3",
       "_view_module_version": "^1.3.3",
       "classes": " directed ",
       "data": {
        "id": "8745157c-c3eb-486d-8799-207f510f68f8",
        "source": "7400850790964663779",
        "target": "-3454414948922575406"
       },
       "selectable": false
      }
     },
     "a211e3ae370c4a12a63c905aa7b1893f": {
      "model_module": "jupyter-cytoscape",
      "model_module_version": "^1.3.3",
      "model_name": "EdgeModel",
      "state": {
       "_model_module_version": "^1.3.3",
       "_view_module_version": "^1.3.3",
       "classes": " directed ",
       "data": {
        "id": "af7b1e6f-334a-457f-af47-ca9e30188635",
        "source": "7959798507860876100",
        "target": "2436186331000400215"
       },
       "selectable": false
      }
     },
     "a53f45abc39643bb86870d67bc810911": {
      "model_module": "jupyter-cytoscape",
      "model_module_version": "^1.3.3",
      "model_name": "NodeModel",
      "state": {
       "_model_module_version": "^1.3.3",
       "_view_module_version": "^1.3.3",
       "data": {
        "color": "gray",
        "id": "2505284449769781524",
        "label": "(1, 0, 0, 0)",
        "shape": "rectangle"
       },
       "grabbable": true,
       "grabbed": false,
       "position": {
        "x": 314,
        "y": 275
       },
       "selectable": false
      }
     },
     "a59a1c3940ec43b48e46cff28f1d8d90": {
      "model_module": "jupyter-cytoscape",
      "model_module_version": "^1.3.3",
      "model_name": "EdgeModel",
      "state": {
       "_model_module_version": "^1.3.3",
       "_view_module_version": "^1.3.3",
       "classes": " directed ",
       "data": {
        "id": "3f786ebd-ffd6-4213-a9f2-d78dc1b8ef67",
        "source": "5332712636132827316",
        "target": "-6231323858362813098"
       },
       "selectable": false
      }
     },
     "a62bb7b05a57428f929039138bc3ec81": {
      "model_module": "jupyter-cytoscape",
      "model_module_version": "^1.3.3",
      "model_name": "NodeModel",
      "state": {
       "_model_module_version": "^1.3.3",
       "_view_module_version": "^1.3.3",
       "data": {
        "color": "gray",
        "id": "3781333408202566832",
        "label": "intensity",
        "shape": "ellipse"
       },
       "grabbable": true,
       "grabbed": false,
       "position": {
        "x": 98,
        "y": 875
       },
       "selectable": false
      }
     },
     "a6b846f4fd6c49f8a03c7e78863d35e4": {
      "model_module": "jupyter-cytoscape",
      "model_module_version": "^1.3.3",
      "model_name": "NodeModel",
      "state": {
       "_model_module_version": "^1.3.3",
       "_view_module_version": "^1.3.3",
       "data": {
        "color": "gray",
        "id": "6035261952596402961",
        "label": "(3, 0, 0, 0)",
        "shape": "rectangle"
       },
       "grabbable": true,
       "grabbed": false,
       "position": {
        "x": 719,
        "y": 1235
       },
       "selectable": false
      }
     },
     "a6b857dca7e24d9b98b8dcf9378bfaa8": {
      "model_module": "jupyter-cytoscape",
      "model_module_version": "^1.3.3",
      "model_name": "NodeModel",
      "state": {
       "_model_module_version": "^1.3.3",
       "_view_module_version": "^1.3.3",
       "data": {
        "color": "gray",
        "id": "-7587986330725577257",
        "label": "()",
        "shape": "rectangle"
       },
       "grabbable": true,
       "grabbed": false,
       "position": {
        "x": 516.5,
        "y": 755
       },
       "selectable": false
      }
     },
     "a7968653d5c84c6e9d723224a9103e2d": {
      "model_module": "jupyter-cytoscape",
      "model_module_version": "^1.3.3",
      "model_name": "NodeModel",
      "state": {
       "_model_module_version": "^1.3.3",
       "_view_module_version": "^1.3.3",
       "data": {
        "color": "gray",
        "id": "-6763095465601743160",
        "label": "3",
        "shape": "rectangle"
       },
       "grabbable": true,
       "grabbed": false,
       "position": {
        "x": 930,
        "y": 755
       },
       "selectable": false
      }
     },
     "a7b038b541014c10877591af269adf52": {
      "model_module": "jupyter-cytoscape",
      "model_module_version": "^1.3.3",
      "model_name": "EdgeModel",
      "state": {
       "_model_module_version": "^1.3.3",
       "_view_module_version": "^1.3.3",
       "classes": " directed ",
       "data": {
        "id": "b4055a4b-f9d9-4a9a-a57f-ce5491d31e20",
        "source": "-6403728975476740178",
        "target": "-3181504190127730270"
       },
       "selectable": false
      }
     },
     "a9053e4a11f24dc9a64fe20dd7f06dfc": {
      "model_module": "jupyter-cytoscape",
      "model_module_version": "^1.3.3",
      "model_name": "EdgeModel",
      "state": {
       "_model_module_version": "^1.3.3",
       "_view_module_version": "^1.3.3",
       "classes": " directed ",
       "data": {
        "id": "fdb971b1-f62a-4b6e-9529-24786b2fe7bb",
        "source": "-3388191288726277255",
        "target": "7678685479004833396"
       },
       "selectable": false
      }
     },
     "aa9126c05b044cdab27c01d4956b0c07": {
      "model_module": "jupyter-cytoscape",
      "model_module_version": "^1.3.3",
      "model_name": "NodeModel",
      "state": {
       "_model_module_version": "^1.3.3",
       "_view_module_version": "^1.3.3",
       "data": {
        "color": "gray",
        "id": "-6231323858362813098",
        "label": "0",
        "shape": "rectangle"
       },
       "grabbable": true,
       "grabbed": false,
       "position": {
        "x": 724,
        "y": 1835
       },
       "selectable": false
      }
     },
     "aaaa7b192d874220bb4242f736d931bd": {
      "model_module": "jupyter-cytoscape",
      "model_module_version": "^1.3.3",
      "model_name": "NodeModel",
      "state": {
       "_model_module_version": "^1.3.3",
       "_view_module_version": "^1.3.3",
       "data": {
        "color": "gray",
        "id": "6312456356012405175",
        "label": "(2, 0, 0, 0)",
        "shape": "rectangle"
       },
       "grabbable": true,
       "grabbed": false,
       "position": {
        "x": 719,
        "y": 275
       },
       "selectable": false
      }
     },
     "ae38e2fd5e7147478b25207e0a22e146": {
      "model_module": "jupyter-cytoscape",
      "model_module_version": "^1.3.3",
      "model_name": "NodeModel",
      "state": {
       "_model_module_version": "^1.3.3",
       "_view_module_version": "^1.3.3",
       "data": {
        "color": "gray",
        "id": "4670040985128536123",
        "label": "wrap_with_array",
        "shape": "ellipse"
       },
       "grabbable": true,
       "grabbed": false,
       "position": {
        "x": 930,
        "y": 1115
       },
       "selectable": false
      }
     },
     "ae612bba904947b6a56345f049fee5ca": {
      "model_module": "jupyter-cytoscape",
      "model_module_version": "^1.3.3",
      "model_name": "EdgeModel",
      "state": {
       "_model_module_version": "^1.3.3",
       "_view_module_version": "^1.3.3",
       "classes": " directed ",
       "data": {
        "id": "dd4cb4f8-9648-441a-907d-92708700e7d3",
        "source": "-3181504190127730270",
        "target": "7959798507860876100"
       },
       "selectable": false
      }
     },
     "aedfa08abe8b43e78837da19efa8ba2f": {
      "model_module": "jupyter-cytoscape",
      "model_module_version": "^1.3.3",
      "model_name": "EdgeModel",
      "state": {
       "_model_module_version": "^1.3.3",
       "_view_module_version": "^1.3.3",
       "classes": " directed ",
       "data": {
        "id": "308253e7-b623-466b-9c53-d909dc6c4f34",
        "source": "-3454414948922575406",
        "target": "3781333408202566832"
       },
       "selectable": false
      }
     },
     "af2ab1e0a4bd434e866b6a3c106b1a2e": {
      "model_module": "jupyter-cytoscape",
      "model_module_version": "^1.3.3",
      "model_name": "NodeModel",
      "state": {
       "_model_module_version": "^1.3.3",
       "_view_module_version": "^1.3.3",
       "data": {
        "color": "gray",
        "id": "7400850790964663779",
        "label": "getitem",
        "shape": "ellipse"
       },
       "grabbable": true,
       "grabbed": false,
       "position": {
        "x": 98,
        "y": 1115
       },
       "selectable": false
      }
     },
     "af91a9607ce8456bbb42167ed806facc": {
      "model_module": "jupyter-cytoscape",
      "model_module_version": "^1.3.3",
      "model_name": "EdgeModel",
      "state": {
       "_model_module_version": "^1.3.3",
       "_view_module_version": "^1.3.3",
       "classes": " directed ",
       "data": {
        "id": "74e9d073-20dd-4ba4-9869-20fcc8a8c40d",
        "source": "-1178123883497903718",
        "target": "6809821736793463531"
       },
       "selectable": false
      }
     },
     "b09e767155144a8283f9e25c4a0d6ecb": {
      "model_module": "jupyter-cytoscape",
      "model_module_version": "^1.3.3",
      "model_name": "EdgeModel",
      "state": {
       "_model_module_version": "^1.3.3",
       "_view_module_version": "^1.3.3",
       "classes": " directed ",
       "data": {
        "id": "2979bc5b-c35c-4591-895b-20d5190fe684",
        "source": "-3181504190127730270",
        "target": "7959798507860876100"
       },
       "selectable": false
      }
     },
     "b2b92f6005be4ea7b27f702c92d9c207": {
      "model_module": "jupyter-cytoscape",
      "model_module_version": "^1.3.3",
      "model_name": "NodeModel",
      "state": {
       "_model_module_version": "^1.3.3",
       "_view_module_version": "^1.3.3",
       "data": {
        "color": "gray",
        "id": "5176007852005810031",
        "label": "2",
        "shape": "rectangle"
       },
       "grabbable": true,
       "grabbed": false,
       "position": {
        "x": 724,
        "y": 755
       },
       "selectable": false
      }
     },
     "b2ebad6777ce4b568e9359ec257d4b33": {
      "model_module": "jupyter-cytoscape",
      "model_module_version": "^1.3.3",
      "model_name": "EdgeModel",
      "state": {
       "_model_module_version": "^1.3.3",
       "_view_module_version": "^1.3.3",
       "classes": " directed ",
       "data": {
        "id": "30fda5e6-e16c-4d4d-a771-e4d4b888a37b",
        "source": "5296372879665112554",
        "target": "5987558229160451658"
       },
       "selectable": false
      }
     },
     "b4c1112fddca49ef91a9100ed9c0f20c": {
      "model_module": "jupyter-cytoscape",
      "model_module_version": "^1.3.3",
      "model_name": "EdgeModel",
      "state": {
       "_model_module_version": "^1.3.3",
       "_view_module_version": "^1.3.3",
       "classes": " directed ",
       "data": {
        "id": "5a83f2c1-4296-48e9-82e6-0df07ca1a751",
        "source": "-52898276908213756",
        "target": "589902480980002303"
       },
       "selectable": false
      }
     },
     "b505322c410542d3a153b9f83f5d0f63": {
      "model_module": "jupyter-cytoscape",
      "model_module_version": "^1.3.3",
      "model_name": "EdgeModel",
      "state": {
       "_model_module_version": "^1.3.3",
       "_view_module_version": "^1.3.3",
       "classes": " directed ",
       "data": {
        "id": "fd51d856-e8cc-4e0f-a928-38fa544f2acb",
        "source": "-3327542623466849601",
        "target": "5296372879665112554"
       },
       "selectable": false
      }
     },
     "b56447cd978d4e05be32228d89f81f48": {
      "model_module": "jupyter-cytoscape",
      "model_module_version": "^1.3.3",
      "model_name": "EdgeModel",
      "state": {
       "_model_module_version": "^1.3.3",
       "_view_module_version": "^1.3.3",
       "classes": " directed ",
       "data": {
        "id": "ef06045a-bac3-422c-a9cc-6a2930a7378d",
        "source": "1000048458353933746",
        "target": "3222807856066460555"
       },
       "selectable": false
      }
     },
     "b6454956a5ac403591e842ca36c87c46": {
      "model_module": "jupyter-cytoscape",
      "model_module_version": "^1.3.3",
      "model_name": "NodeModel",
      "state": {
       "_model_module_version": "^1.3.3",
       "_view_module_version": "^1.3.3",
       "data": {
        "color": "gray",
        "id": "9054173375408096250",
        "label": "(3, 0, 0)",
        "shape": "rectangle"
       },
       "grabbable": true,
       "grabbed": false,
       "position": {
        "x": 719,
        "y": 515
       },
       "selectable": false
      }
     },
     "b6d1c4b89f694f41a7a602896aedad26": {
      "model_module": "jupyter-cytoscape",
      "model_module_version": "^1.3.3",
      "model_name": "NodeModel",
      "state": {
       "_model_module_version": "^1.3.3",
       "_view_module_version": "^1.3.3",
       "data": {
        "color": "gray",
        "id": "6833738353159340455",
        "label": "(1, 0, 0)",
        "shape": "rectangle"
       },
       "grabbable": true,
       "grabbed": false,
       "position": {
        "x": 314,
        "y": 755
       },
       "selectable": false
      }
     },
     "b70bb5490a4843f68c26c7e502c6df86": {
      "model_module": "jupyter-cytoscape",
      "model_module_version": "^1.3.3",
      "model_name": "EdgeModel",
      "state": {
       "_model_module_version": "^1.3.3",
       "_view_module_version": "^1.3.3",
       "classes": " directed ",
       "data": {
        "id": "1109670c-9e88-4734-80ed-9f2a91aa1ab3",
        "source": "7678685479004833396",
        "target": "6841699715425665493"
       },
       "selectable": false
      }
     },
     "b93e5d94ebf641d286e900b29f5601a8": {
      "model_module": "jupyter-cytoscape",
      "model_module_version": "^1.3.3",
      "model_name": "NodeModel",
      "state": {
       "_model_module_version": "^1.3.3",
       "_view_module_version": "^1.3.3",
       "data": {
        "color": "gray",
        "id": "6841699715425665493",
        "label": "mean_agg-aggregate",
        "shape": "ellipse"
       },
       "grabbable": true,
       "grabbed": false,
       "position": {
        "x": 718.25,
        "y": 155
       },
       "selectable": false
      }
     },
     "b9eee2ba83d645a38964648c51ee30e6": {
      "model_module": "jupyter-cytoscape",
      "model_module_version": "^1.3.3",
      "model_name": "NodeModel",
      "state": {
       "_model_module_version": "^1.3.3",
       "_view_module_version": "^1.3.3",
       "data": {
        "color": "gray",
        "id": "4437677239923299413",
        "label": "(2, 0)",
        "shape": "rectangle"
       },
       "grabbable": true,
       "grabbed": false,
       "position": {
        "x": 930,
        "y": 1475
       },
       "selectable": false
      }
     },
     "ba6f7456ca8d43eebfb56f894fa044d7": {
      "model_module": "jupyter-cytoscape",
      "model_module_version": "^1.3.3",
      "model_name": "NodeModel",
      "state": {
       "_model_module_version": "^1.3.3",
       "_view_module_version": "^1.3.3",
       "data": {
        "color": "gray",
        "id": "-4469974169773607156",
        "label": "getitem",
        "shape": "ellipse"
       },
       "grabbable": true,
       "grabbed": false,
       "position": {
        "x": 724,
        "y": 1595
       },
       "selectable": false
      }
     },
     "bd0479b348b54c4daf3ff243dadbb63b": {
      "model_module": "jupyter-cytoscape",
      "model_module_version": "^1.3.3",
      "model_name": "EdgeModel",
      "state": {
       "_model_module_version": "^1.3.3",
       "_view_module_version": "^1.3.3",
       "classes": " directed ",
       "data": {
        "id": "5a4a2f72-c9d7-4844-9b12-8b6f65184e59",
        "source": "-3327542623466849601",
        "target": "5296372879665112554"
       },
       "selectable": false
      }
     },
     "bd6ff0a0abd84903bc12bbb2a3a190c1": {
      "model_module": "jupyter-cytoscape",
      "model_module_version": "^1.3.3",
      "model_name": "NodeModel",
      "state": {
       "_model_module_version": "^1.3.3",
       "_view_module_version": "^1.3.3",
       "data": {
        "color": "gray",
        "id": "-1069384154620023996",
        "label": "getitem",
        "shape": "ellipse"
       },
       "grabbable": true,
       "grabbed": false,
       "position": {
        "x": 304,
        "y": 1595
       },
       "selectable": false
      }
     },
     "bd835a7a65424e8c9e5fc93539afe334": {
      "model_module": "jupyter-cytoscape",
      "model_module_version": "^1.3.3",
      "model_name": "NodeModel",
      "state": {
       "_model_module_version": "^1.3.3",
       "_view_module_version": "^1.3.3",
       "data": {
        "color": "gray",
        "id": "-3181504190127730270",
        "label": "0",
        "shape": "rectangle"
       },
       "grabbable": true,
       "grabbed": false,
       "position": {
        "x": 98,
        "y": 1835
       },
       "selectable": false
      }
     },
     "be6f7559d589446a8c1b55e4aeba1ccc": {
      "model_module": "jupyter-cytoscape",
      "model_module_version": "^1.3.3",
      "model_name": "EdgeModel",
      "state": {
       "_model_module_version": "^1.3.3",
       "_view_module_version": "^1.3.3",
       "classes": " directed ",
       "data": {
        "id": "af640c8d-176f-4bcd-bb5c-8901f8f8078f",
        "source": "1231410209765582248",
        "target": "5062505818741988461"
       },
       "selectable": false
      }
     },
     "bf835b6d1ff24a769255fd100cc9b36e": {
      "model_module": "jupyter-cytoscape",
      "model_module_version": "^1.3.3",
      "model_name": "NodeModel",
      "state": {
       "_model_module_version": "^1.3.3",
       "_view_module_version": "^1.3.3",
       "data": {
        "color": "gray",
        "id": "-8061742846893502621",
        "label": "(2, 0, 0)",
        "shape": "rectangle"
       },
       "grabbable": true,
       "grabbed": false,
       "position": {
        "x": 930,
        "y": 515
       },
       "selectable": false
      }
     },
     "c108e2cf2c984bbf8f2c9b213def25d5": {
      "model_module": "jupyter-cytoscape",
      "model_module_version": "^1.3.3",
      "model_name": "EdgeModel",
      "state": {
       "_model_module_version": "^1.3.3",
       "_view_module_version": "^1.3.3",
       "classes": " directed ",
       "data": {
        "id": "59f0f543-0c69-47fd-b479-ffabd286cdb3",
        "source": "-7320865847771993438",
        "target": "-7587986330725577257"
       },
       "selectable": false
      }
     },
     "c4ad064a0ec94140a60f7d1016ab7501": {
      "model_module": "jupyter-cytoscape",
      "model_module_version": "^1.3.3",
      "model_name": "NodeModel",
      "state": {
       "_model_module_version": "^1.3.3",
       "_view_module_version": "^1.3.3",
       "data": {
        "color": "gray",
        "id": "-4699029605273376312",
        "label": "mean_combine-partial",
        "shape": "ellipse"
       },
       "grabbable": true,
       "grabbed": false,
       "position": {
        "x": 923.25,
        "y": 395
       },
       "selectable": false
      }
     },
     "c577aadce76a4a788861e34f17226017": {
      "model_module": "jupyter-cytoscape",
      "model_module_version": "^1.3.3",
      "model_name": "EdgeModel",
      "state": {
       "_model_module_version": "^1.3.3",
       "_view_module_version": "^1.3.3",
       "classes": " directed ",
       "data": {
        "id": "e050be64-a348-46ca-9b13-79112896d58d",
        "source": "5296372879665112554",
        "target": "1899921469065848959"
       },
       "selectable": false
      }
     },
     "c594cf1989cf4fc6a0f89835efa83375": {
      "model_module": "jupyter-cytoscape",
      "model_module_version": "^1.3.3",
      "model_name": "EdgeModel",
      "state": {
       "_model_module_version": "^1.3.3",
       "_view_module_version": "^1.3.3",
       "classes": " directed ",
       "data": {
        "id": "46ffadee-d9ed-4086-bbfb-1bb058bce34e",
        "source": "4738724326182646574",
        "target": "565440504347565410"
       },
       "selectable": false
      }
     },
     "c758ae89d5524da088384a6d305fc622": {
      "model_module": "jupyter-cytoscape",
      "model_module_version": "^1.3.3",
      "model_name": "EdgeModel",
      "state": {
       "_model_module_version": "^1.3.3",
       "_view_module_version": "^1.3.3",
       "classes": " directed ",
       "data": {
        "id": "9ef463a3-72ff-4c15-88b6-2618b72f9641",
        "source": "2174486169311756960",
        "target": "6833738353159340455"
       },
       "selectable": false
      }
     },
     "c80a47e1c8ae4679b4e3993b82efb815": {
      "model_module": "jupyter-cytoscape",
      "model_module_version": "^1.3.3",
      "model_name": "EdgeModel",
      "state": {
       "_model_module_version": "^1.3.3",
       "_view_module_version": "^1.3.3",
       "classes": " directed ",
       "data": {
        "id": "9b72fb41-27da-4898-8bfc-a1ffa606af3e",
        "source": "-6763095465601743160",
        "target": "-4469974169773607156"
       },
       "selectable": false
      }
     },
     "c84132682bbb431585ae610de59015e1": {
      "model_module": "jupyter-cytoscape",
      "model_module_version": "^1.3.3",
      "model_name": "EdgeModel",
      "state": {
       "_model_module_version": "^1.3.3",
       "_view_module_version": "^1.3.3",
       "classes": " directed ",
       "data": {
        "id": "89d4171a-1b69-4658-be09-50a4f8e23b00",
        "source": "7959798507860876100",
        "target": "2436186331000400215"
       },
       "selectable": false
      }
     },
     "c8800c4471024b098e29fd622711afa2": {
      "model_module": "jupyter-cytoscape",
      "model_module_version": "^1.3.3",
      "model_name": "NodeModel",
      "state": {
       "_model_module_version": "^1.3.3",
       "_view_module_version": "^1.3.3",
       "data": {
        "color": "gray",
        "id": "4041227500030140451",
        "label": "wrap_with_array",
        "shape": "ellipse"
       },
       "grabbable": true,
       "grabbed": false,
       "position": {
        "x": 304,
        "y": 2075
       },
       "selectable": false
      }
     },
     "c8c166f6b296490898bc6d3546b3776f": {
      "model_module": "jupyter-cytoscape",
      "model_module_version": "^1.3.3",
      "model_name": "NodeModel",
      "state": {
       "_model_module_version": "^1.3.3",
       "_view_module_version": "^1.3.3",
       "data": {
        "color": "gray",
        "id": "5062505818741988461",
        "label": "0",
        "shape": "rectangle"
       },
       "grabbable": true,
       "grabbed": false,
       "position": {
        "x": 304,
        "y": 875
       },
       "selectable": false
      }
     },
     "c9442608e6fa4b37a8db16ecb470182d": {
      "model_module": "jupyter-cytoscape",
      "model_module_version": "^1.3.3",
      "model_name": "EdgeModel",
      "state": {
       "_model_module_version": "^1.3.3",
       "_view_module_version": "^1.3.3",
       "classes": " directed ",
       "data": {
        "id": "97bcb796-904a-4e51-a128-55421b6e56e4",
        "source": "5296372879665112554",
        "target": "5987558229160451658"
       },
       "selectable": false
      }
     },
     "c9d94516773e476b8cc3c6d07c6b5729": {
      "model_module": "jupyter-cytoscape",
      "model_module_version": "^1.3.3",
      "model_name": "EdgeModel",
      "state": {
       "_model_module_version": "^1.3.3",
       "_view_module_version": "^1.3.3",
       "classes": " directed ",
       "data": {
        "id": "06bb545a-8b6c-48d3-89fc-1f1ee0b032b5",
        "source": "444412869919983919",
        "target": "4041227500030140451"
       },
       "selectable": false
      }
     },
     "cac44a73a9234f4aa769cebb2ba3fcfd": {
      "model_module": "jupyter-cytoscape",
      "model_module_version": "^1.3.3",
      "model_name": "NodeModel",
      "state": {
       "_model_module_version": "^1.3.3",
       "_view_module_version": "^1.3.3",
       "data": {
        "color": "gray",
        "id": "654760481743083048",
        "label": "wrap_with_array",
        "shape": "ellipse"
       },
       "grabbable": true,
       "grabbed": false,
       "position": {
        "x": 98,
        "y": 2075
       },
       "selectable": false
      }
     },
     "cc6fea9176d148eb8055a3a4a521859e": {
      "model_module": "jupyter-cytoscape",
      "model_module_version": "^1.3.3",
      "model_name": "GraphModel",
      "state": {
       "_adj": {
        "-1069384154620023996": {},
        "-1091251229743487292": {},
        "-1178123883497903718": {},
        "-1724094166482322875": {},
        "-2658479167678979504": {},
        "-2826700366998409577": {},
        "-2975413565300842946": {},
        "-3181504190127730270": {},
        "-3327542623466849601": {},
        "-3388191288726277255": {},
        "-3454414948922575406": {},
        "-4198435126811595383": {},
        "-4240116341018701367": {},
        "-4285238858218776981": {},
        "-4450812349800622721": {},
        "-4469974169773607156": {},
        "-4699029605273376312": {},
        "-52898276908213756": {},
        "-6231323858362813098": {},
        "-6403728975476740178": {},
        "-6763095465601743160": {},
        "-7320865847771993438": {},
        "-750374208217397234": {},
        "-7587986330725577257": {},
        "-7815681723899409692": {},
        "-8061742846893502621": {},
        "-8377662192731045219": {},
        "-8700921841961141619": {},
        "-8956995078896948059": {},
        "1000048458353933746": {},
        "1231410209765582248": {},
        "1896926867283227919": {},
        "1899921469065848959": {},
        "1974286463436785773": {},
        "2174486169311756960": {},
        "2308127593617891484": {},
        "2436186331000400215": {},
        "2505284449769781524": {},
        "2670174454968075468": {},
        "3222807856066460555": {},
        "3781333408202566832": {},
        "4026788154152066844": {},
        "4041227500030140451": {},
        "4437677239923299413": {},
        "444412869919983919": {},
        "4670040985128536123": {},
        "4738724326182646574": {},
        "5062505818741988461": {},
        "5176007852005810031": {},
        "5296372879665112554": {},
        "5332712636132827316": {},
        "565440504347565410": {},
        "589902480980002303": {},
        "5987558229160451658": {},
        "6035261952596402961": {},
        "6281638149788022502": {},
        "6312456356012405175": {},
        "654760481743083048": {},
        "6809821736793463531": {},
        "6833738353159340455": {},
        "6841699715425665493": {},
        "6874735086663545106": {},
        "701280354727081612": {},
        "7400850790964663779": {},
        "7618419047678179378": {},
        "7678685479004833396": {},
        "7686107117493160122": {},
        "7959798507860876100": {},
        "811757048236134829": {},
        "9054173375408096250": {}
       },
       "_model_module_version": "^1.3.3",
       "_view_module": "jupyter-cytoscape",
       "_view_module_version": "^1.3.3",
       "edges": [
        "IPY_MODEL_db91ad12827a4c6ea1b6d6fe01034d8f",
        "IPY_MODEL_cf7bf0a9db954a6f85e39b3d4b38ae1b",
        "IPY_MODEL_4ae5922a631f4b928b3fc4b9feb4121b",
        "IPY_MODEL_53cab7c452ac4497aba3acf3b08002ff",
        "IPY_MODEL_3ff05450149d40168c1317485633d139",
        "IPY_MODEL_c577aadce76a4a788861e34f17226017",
        "IPY_MODEL_456df7b8fa8b455aaf25172febcb0713",
        "IPY_MODEL_b2ebad6777ce4b568e9359ec257d4b33",
        "IPY_MODEL_d2aa48a5097f4f36ab0c6ee56808f78a",
        "IPY_MODEL_a05011e2e1584b44b769a248ae8210ce",
        "IPY_MODEL_e0ef88b911cf4878a399e3c151c1568c",
        "IPY_MODEL_07f0b217172a4262beccb5e10f011670",
        "IPY_MODEL_b09e767155144a8283f9e25c4a0d6ecb",
        "IPY_MODEL_2d90935fd5774a06bc2b542872bf9502",
        "IPY_MODEL_173f50c279c04474a5d015fe8e1061a5",
        "IPY_MODEL_f5bfbab260d34349bfb9479466de86f2",
        "IPY_MODEL_fa8e3721abf8400991367297f888b5da",
        "IPY_MODEL_860b860406c04949a341185176946a9e",
        "IPY_MODEL_a7b038b541014c10877591af269adf52",
        "IPY_MODEL_08e3c44189214ed9a34cd844aa1a0278",
        "IPY_MODEL_c9d94516773e476b8cc3c6d07c6b5729",
        "IPY_MODEL_be6f7559d589446a8c1b55e4aeba1ccc",
        "IPY_MODEL_3b1ecb17dad54a6e9f2b27debd483411",
        "IPY_MODEL_046e24dd9ed042b58001a12f83aeb525",
        "IPY_MODEL_50231864ac6442e6b1e1954e0967ff45",
        "IPY_MODEL_32608ea780a448b599304103804142c0",
        "IPY_MODEL_e84e9fb872ab498ca93e00c8b65b6385",
        "IPY_MODEL_a59a1c3940ec43b48e46cff28f1d8d90",
        "IPY_MODEL_d33df896b5864e05b87508775d863adf",
        "IPY_MODEL_a211e3ae370c4a12a63c905aa7b1893f",
        "IPY_MODEL_f71331c644654f4492f5807790381d2b",
        "IPY_MODEL_5464c9cfebce483984ad0c22675a22ac",
        "IPY_MODEL_5e10a789a20f440daa419db33287227d",
        "IPY_MODEL_7eef5ed5238f4df08e0063e2b3778898",
        "IPY_MODEL_d9a27cc6122145ffb5819847d74c2f94",
        "IPY_MODEL_c80a47e1c8ae4679b4e3993b82efb815",
        "IPY_MODEL_4014c16ac844441981100e466751a8da",
        "IPY_MODEL_bd0479b348b54c4daf3ff243dadbb63b",
        "IPY_MODEL_ea908d72410943b5a960ba6b4eea8bfd",
        "IPY_MODEL_a17590c0271f471283f6db02930f65fe",
        "IPY_MODEL_d97f77ae5d684ddaad158235bbdb8ef1",
        "IPY_MODEL_fbb95c2fdb07450ca9b5680ef04007b0",
        "IPY_MODEL_4ecc08da7dd84b999358b004cc844c67",
        "IPY_MODEL_0201ae7b2cd84c6d904e58ea219ac9af",
        "IPY_MODEL_386bf263eabe4a7db602ad5edc23729a",
        "IPY_MODEL_1ab83fb39a9d48f190c86401abaffeb6",
        "IPY_MODEL_81d28422af7a49acba3d68872d586926",
        "IPY_MODEL_654856cdd5c84f12a2385a4eabbcad8a",
        "IPY_MODEL_aedfa08abe8b43e78837da19efa8ba2f",
        "IPY_MODEL_c758ae89d5524da088384a6d305fc622",
        "IPY_MODEL_1bd6f4cbb87343dcbd57a0f10e437cfd",
        "IPY_MODEL_7915a6aaca534afe858e6a9c1b713c63",
        "IPY_MODEL_496c0855141b43ab82c4756e5df70c34",
        "IPY_MODEL_2a55dd615f304bf799d667e899bf0004",
        "IPY_MODEL_7a7b174178de4429bb45971f4adb6186",
        "IPY_MODEL_b56447cd978d4e05be32228d89f81f48",
        "IPY_MODEL_61d37cc4bf9148e791f023dfb230444b",
        "IPY_MODEL_b4c1112fddca49ef91a9100ed9c0f20c",
        "IPY_MODEL_df53a27250f747b190da757396e6eedd",
        "IPY_MODEL_236347394b334cfabfd79841ab5fa1c5",
        "IPY_MODEL_c594cf1989cf4fc6a0f89835efa83375",
        "IPY_MODEL_80afebbc08eb4d1c970854317e3b4c4b",
        "IPY_MODEL_dc999f715543460da80fb813ecf06332",
        "IPY_MODEL_a9053e4a11f24dc9a64fe20dd7f06dfc",
        "IPY_MODEL_6845436fa9f64a079905d5ac4da96863",
        "IPY_MODEL_86be052d8ccb4677bedfe9d2f121ab22",
        "IPY_MODEL_2e5a499cd9454db18a22f580496cf908",
        "IPY_MODEL_e1d0507ed3964059a1075240db2b3fc6",
        "IPY_MODEL_0225b67802c546a9bcbd45b413e8adc9",
        "IPY_MODEL_10cc2781c91b48eb80a19725c92754b4",
        "IPY_MODEL_b70bb5490a4843f68c26c7e502c6df86",
        "IPY_MODEL_6b8d59bad45249529b1fbcbd626246c1"
       ],
       "nodes": [
        "IPY_MODEL_d0363fe6b1e74eecbc088bd8a11e7f42",
        "IPY_MODEL_7ef74602689b4498a2e0a01a91d96459",
        "IPY_MODEL_00e6318062a94734a4c894ae565b7a3c",
        "IPY_MODEL_29327bdb306e4fe196588a28eddb4aef",
        "IPY_MODEL_515306b98e1e4176a5edc97386046b35",
        "IPY_MODEL_6c55c444204b4abd943d988b0421577c",
        "IPY_MODEL_092a7ed2df5845afbd0b093be64d58ce",
        "IPY_MODEL_81e19b56ab674effb71201d98eae0ae9",
        "IPY_MODEL_b9eee2ba83d645a38964648c51ee30e6",
        "IPY_MODEL_864e518c389f4777886101f0a8bc5f6e",
        "IPY_MODEL_47d92a538f0242afb53aada9b4bc16ca",
        "IPY_MODEL_702d28b777bd433599f2bf02df920813",
        "IPY_MODEL_a6b846f4fd6c49f8a03c7e78863d35e4",
        "IPY_MODEL_8ce733cc50c042a3aa4bc68758ed4c1f",
        "IPY_MODEL_178856786e4c497593296d45491ec2c6",
        "IPY_MODEL_448588a836d74a2ba7473f67d1ec05e2",
        "IPY_MODEL_03133d49235645f994c7baae5b90ca37",
        "IPY_MODEL_8849460e602847b9bda24d062b522d1b",
        "IPY_MODEL_cac44a73a9234f4aa769cebb2ba3fcfd",
        "IPY_MODEL_4a40b32f6e42490ba4efdb7df0501fb0",
        "IPY_MODEL_bd835a7a65424e8c9e5fc93539afe334",
        "IPY_MODEL_f5e361f3cf144ea1a2e3ab8bada99300",
        "IPY_MODEL_c8800c4471024b098e29fd622711afa2",
        "IPY_MODEL_8a43b87d7dcd46fb8944b61ca3ad6a3f",
        "IPY_MODEL_6a182a6b54d04391ad1de9ca8113ab2d",
        "IPY_MODEL_d18ea473fe31402283678f839493b5c7",
        "IPY_MODEL_ff422b8e92414a4b9e28bd2f9aa34931",
        "IPY_MODEL_24ccf4de24e2426391360363c66885af",
        "IPY_MODEL_1a92a7c95ae3492fb7e2a51ba5c17c0b",
        "IPY_MODEL_8577802ecdba4e7ba54a0454d1af8383",
        "IPY_MODEL_cd4ddb21339a4e1dbf3bfd44a746cff1",
        "IPY_MODEL_784e2a08e6ea477fbbb96d5c91ed575d",
        "IPY_MODEL_aa9126c05b044cdab27c01d4956b0c07",
        "IPY_MODEL_d37608cfbbf84bdabf45d437a7163217",
        "IPY_MODEL_bd6ff0a0abd84903bc12bbb2a3a190c1",
        "IPY_MODEL_ff65315efc034104b04b93ec7688b007",
        "IPY_MODEL_ba6f7456ca8d43eebfb56f894fa044d7",
        "IPY_MODEL_0ed7f04491c64cf088fa8bcaefdf2010",
        "IPY_MODEL_dc70444e8e4f4f28b0937bb0979ef15b",
        "IPY_MODEL_1b75d324461d43b8b9cb3ce5869c582b",
        "IPY_MODEL_af2ab1e0a4bd434e866b6a3c106b1a2e",
        "IPY_MODEL_f419a73cd16a4f1380a5fbcc5c97d7d6",
        "IPY_MODEL_3b25b93ed2fc4dfe8cf7ebdc84e13e1d",
        "IPY_MODEL_850926ff05ce48408b4f5efd0f51b693",
        "IPY_MODEL_48bc9f7584cc4478b82a3b0952e49811",
        "IPY_MODEL_59d2df6196994efc8bcc3e95b442ed24",
        "IPY_MODEL_54453bf662804929972a767631706928",
        "IPY_MODEL_5385b11221db4aa7bbc6ee5d970175b9",
        "IPY_MODEL_a62bb7b05a57428f929039138bc3ec81",
        "IPY_MODEL_707703b1b4e34d0285186d8d41d3a09c",
        "IPY_MODEL_62b2f7b64a2a4355bbec66e5d8e481fd",
        "IPY_MODEL_b6d1c4b89f694f41a7a602896aedad26",
        "IPY_MODEL_3b5ce549cb42470cb442fa0141097ef0",
        "IPY_MODEL_151970daa03c4dc1a699960edb446edf",
        "IPY_MODEL_ee89e6499cee4a87b22d88b5068f7490",
        "IPY_MODEL_9d064d766af043668b1dff91a0d5ee18",
        "IPY_MODEL_0bb695144f764fe9abceaabb53fb1048",
        "IPY_MODEL_0216a74b639543318c423e3f71e61c6d",
        "IPY_MODEL_431df776c3ce4e1dbb710e09b8bdb951",
        "IPY_MODEL_986d7f04565a4410836d0ea0cd0f7614",
        "IPY_MODEL_65d6bb3423f94a0791bae1d131c52ed6",
        "IPY_MODEL_bf835b6d1ff24a769255fd100cc9b36e",
        "IPY_MODEL_39b815b307e74fd7a8d141d491e09be5",
        "IPY_MODEL_b6454956a5ac403591e842ca36c87c46",
        "IPY_MODEL_87dc5b7dcbc24b3a845d30626c4abcbf",
        "IPY_MODEL_50e84d19b187436e90f03b9cd17ab8ba",
        "IPY_MODEL_c4ad064a0ec94140a60f7d1016ab7501",
        "IPY_MODEL_8784360f76cb4799b60f89c4b0f64d11",
        "IPY_MODEL_b93e5d94ebf641d286e900b29f5601a8",
        "IPY_MODEL_9b78acbbd2874918937e4acc5ff29f0d"
       ]
      }
     },
     "cd4ddb21339a4e1dbf3bfd44a746cff1": {
      "model_module": "jupyter-cytoscape",
      "model_module_version": "^1.3.3",
      "model_name": "NodeModel",
      "state": {
       "_model_module_version": "^1.3.3",
       "_view_module_version": "^1.3.3",
       "data": {
        "color": "gray",
        "id": "4670040985128536123",
        "label": "wrap_with_array",
        "shape": "ellipse"
       },
       "grabbable": true,
       "grabbed": false,
       "position": {
        "x": 724,
        "y": 2075
       },
       "selectable": false
      }
     },
     "cdf3d3da9020479f8acea1a20150cc4f": {
      "model_module": "jupyter-cytoscape",
      "model_module_version": "^1.3.3",
      "model_name": "EdgeModel",
      "state": {
       "_model_module_version": "^1.3.3",
       "_view_module_version": "^1.3.3",
       "classes": " directed ",
       "data": {
        "id": "846e8a5e-ff5b-4f1c-bc04-fd813cefdb7f",
        "source": "2436186331000400215",
        "target": "-2975413565300842946"
       },
       "selectable": false
      }
     },
     "ce72507a8b3744c5bd6ca424d136af1b": {
      "model_module": "jupyter-cytoscape",
      "model_module_version": "^1.3.3",
      "model_name": "NodeModel",
      "state": {
       "_model_module_version": "^1.3.3",
       "_view_module_version": "^1.3.3",
       "data": {
        "color": "gray",
        "id": "-1178123883497903718",
        "label": "apply_transform",
        "shape": "ellipse"
       },
       "grabbable": true,
       "grabbed": false,
       "position": {
        "x": 98,
        "y": 395
       },
       "selectable": false
      }
     },
     "cf7bf0a9db954a6f85e39b3d4b38ae1b": {
      "model_module": "jupyter-cytoscape",
      "model_module_version": "^1.3.3",
      "model_name": "EdgeModel",
      "state": {
       "_model_module_version": "^1.3.3",
       "_view_module_version": "^1.3.3",
       "classes": " directed ",
       "data": {
        "id": "cf1c26b0-4ece-4b51-87f3-33d4b63b071f",
        "source": "5296372879665112554",
        "target": "-1178123883497903718"
       },
       "selectable": false
      }
     },
     "d0363fe6b1e74eecbc088bd8a11e7f42": {
      "model_module": "jupyter-cytoscape",
      "model_module_version": "^1.3.3",
      "model_name": "NodeModel",
      "state": {
       "_model_module_version": "^1.3.3",
       "_view_module_version": "^1.3.3",
       "data": {
        "color": "gray",
        "id": "-1178123883497903718",
        "label": "apply_transform",
        "shape": "ellipse"
       },
       "grabbable": true,
       "grabbed": false,
       "position": {
        "x": 98,
        "y": 1355
       },
       "selectable": false
      }
     },
     "d18ea473fe31402283678f839493b5c7": {
      "model_module": "jupyter-cytoscape",
      "model_module_version": "^1.3.3",
      "model_name": "NodeModel",
      "state": {
       "_model_module_version": "^1.3.3",
       "_view_module_version": "^1.3.3",
       "data": {
        "color": "gray",
        "id": "-4198435126811595383",
        "label": "",
        "shape": "rectangle"
       },
       "grabbable": true,
       "grabbed": false,
       "position": {
        "x": 930,
        "y": 2195
       },
       "selectable": false
      }
     },
     "d2aa48a5097f4f36ab0c6ee56808f78a": {
      "model_module": "jupyter-cytoscape",
      "model_module_version": "^1.3.3",
      "model_name": "EdgeModel",
      "state": {
       "_model_module_version": "^1.3.3",
       "_view_module_version": "^1.3.3",
       "classes": " directed ",
       "data": {
        "id": "9dfe3142-3cba-412c-acc6-08e72e087742",
        "source": "4437677239923299413",
        "target": "5987558229160451658"
       },
       "selectable": false
      }
     },
     "d33df896b5864e05b87508775d863adf": {
      "model_module": "jupyter-cytoscape",
      "model_module_version": "^1.3.3",
      "model_name": "EdgeModel",
      "state": {
       "_model_module_version": "^1.3.3",
       "_view_module_version": "^1.3.3",
       "classes": " directed ",
       "data": {
        "id": "8f9ccccf-5f51-4768-bd24-633d64194955",
        "source": "2436186331000400215",
        "target": "-2975413565300842946"
       },
       "selectable": false
      }
     },
     "d37608cfbbf84bdabf45d437a7163217": {
      "model_module": "jupyter-cytoscape",
      "model_module_version": "^1.3.3",
      "model_name": "NodeModel",
      "state": {
       "_model_module_version": "^1.3.3",
       "_view_module_version": "^1.3.3",
       "data": {
        "color": "gray",
        "id": "2436186331000400215",
        "label": "getitem",
        "shape": "ellipse"
       },
       "grabbable": true,
       "grabbed": false,
       "position": {
        "x": 98,
        "y": 1595
       },
       "selectable": false
      }
     },
     "d414a16b05c64d8782513bb467700a77": {
      "model_module": "jupyter-cytoscape",
      "model_module_version": "^1.3.3",
      "model_name": "NodeModel",
      "state": {
       "_model_module_version": "^1.3.3",
       "_view_module_version": "^1.3.3",
       "data": {
        "color": "gray",
        "id": "-8377662192731045219",
        "label": "1",
        "shape": "rectangle"
       },
       "grabbable": true,
       "grabbed": false,
       "position": {
        "x": 304,
        "y": 755
       },
       "selectable": false
      }
     },
     "d53b87d734ea4e35ac28d5822c79f3b3": {
      "model_module": "jupyter-cytoscape",
      "model_module_version": "^1.3.3",
      "model_name": "NodeModel",
      "state": {
       "_model_module_version": "^1.3.3",
       "_view_module_version": "^1.3.3",
       "data": {
        "color": "gray",
        "id": "-4198435126811595383",
        "label": "",
        "shape": "rectangle"
       },
       "grabbable": true,
       "grabbed": false,
       "position": {
        "x": 724,
        "y": 1235
       },
       "selectable": false
      }
     },
     "d5ff2b2327314f62904b3d1f92e52b3c": {
      "model_module": "jupyter-cytoscape",
      "model_module_version": "^1.3.3",
      "model_name": "EdgeModel",
      "state": {
       "_model_module_version": "^1.3.3",
       "_view_module_version": "^1.3.3",
       "classes": " directed ",
       "data": {
        "id": "0d1c2b1c-e083-4384-9057-4ac5a0640d4a",
        "source": "6312456356012405175",
        "target": "2308127593617891484"
       },
       "selectable": false
      }
     },
     "d78833a9e26a4b0f8141bcc30c798fd8": {
      "model_module": "jupyter-cytoscape",
      "model_module_version": "^1.3.3",
      "model_name": "EdgeModel",
      "state": {
       "_model_module_version": "^1.3.3",
       "_view_module_version": "^1.3.3",
       "classes": " directed ",
       "data": {
        "id": "dd905116-0c94-4e68-9768-745a6ae3c948",
        "source": "-8700921841961141619",
        "target": "-7815681723899409692"
       },
       "selectable": false
      }
     },
     "d7fd163549a94341894292439f65b41f": {
      "model_module": "jupyter-cytoscape",
      "model_module_version": "^1.3.3",
      "model_name": "NodeModel",
      "state": {
       "_model_module_version": "^1.3.3",
       "_view_module_version": "^1.3.3",
       "data": {
        "color": "gray",
        "id": "5332712636132827316",
        "label": "",
        "shape": "rectangle"
       },
       "grabbable": true,
       "grabbed": false,
       "position": {
        "x": 930,
        "y": 995
       },
       "selectable": false
      }
     },
     "d8ca801e27c94245a62fb5f972317a36": {
      "model_module": "jupyter-cytoscape",
      "model_module_version": "^1.3.3",
      "model_name": "EdgeModel",
      "state": {
       "_model_module_version": "^1.3.3",
       "_view_module_version": "^1.3.3",
       "classes": " directed ",
       "data": {
        "id": "303b1e95-af63-4717-b52a-0b74becb1b3e",
        "source": "5062505818741988461",
        "target": "-8377662192731045219"
       },
       "selectable": false
      }
     },
     "d97f77ae5d684ddaad158235bbdb8ef1": {
      "model_module": "jupyter-cytoscape",
      "model_module_version": "^1.3.3",
      "model_name": "EdgeModel",
      "state": {
       "_model_module_version": "^1.3.3",
       "_view_module_version": "^1.3.3",
       "classes": " directed ",
       "data": {
        "id": "2df92b0b-8e6c-4aa1-ac29-fe2ab01002f6",
        "source": "6809821736793463531",
        "target": "7400850790964663779"
       },
       "selectable": false
      }
     },
     "d98330d50ce74544a622bbdc81487da5": {
      "model_module": "@jupyter-widgets/base",
      "model_module_version": "2.0.0",
      "model_name": "LayoutModel",
      "state": {
       "height": "400px"
      }
     },
     "d9a27cc6122145ffb5819847d74c2f94": {
      "model_module": "jupyter-cytoscape",
      "model_module_version": "^1.3.3",
      "model_name": "EdgeModel",
      "state": {
       "_model_module_version": "^1.3.3",
       "_view_module_version": "^1.3.3",
       "classes": " directed ",
       "data": {
        "id": "93e2ed12-0bf2-4967-a6e7-a59bea15aea1",
        "source": "-4469974169773607156",
        "target": "-2826700366998409577"
       },
       "selectable": false
      }
     },
     "db91ad12827a4c6ea1b6d6fe01034d8f": {
      "model_module": "jupyter-cytoscape",
      "model_module_version": "^1.3.3",
      "model_name": "EdgeModel",
      "state": {
       "_model_module_version": "^1.3.3",
       "_view_module_version": "^1.3.3",
       "classes": " directed ",
       "data": {
        "id": "4acfa2d0-df4b-403c-96b6-25f4f8db7f87",
        "source": "-1178123883497903718",
        "target": "6809821736793463531"
       },
       "selectable": false
      }
     },
     "dc70444e8e4f4f28b0937bb0979ef15b": {
      "model_module": "jupyter-cytoscape",
      "model_module_version": "^1.3.3",
      "model_name": "NodeModel",
      "state": {
       "_model_module_version": "^1.3.3",
       "_view_module_version": "^1.3.3",
       "data": {
        "color": "gray",
        "id": "-7587986330725577257",
        "label": "()",
        "shape": "rectangle"
       },
       "grabbable": true,
       "grabbed": false,
       "position": {
        "x": 516.5,
        "y": 1715
       },
       "selectable": false
      }
     },
     "dc999f715543460da80fb813ecf06332": {
      "model_module": "jupyter-cytoscape",
      "model_module_version": "^1.3.3",
      "model_name": "EdgeModel",
      "state": {
       "_model_module_version": "^1.3.3",
       "_view_module_version": "^1.3.3",
       "classes": " directed ",
       "data": {
        "id": "f76392dc-6159-47ef-9268-ac5db62366ab",
        "source": "-4450812349800622721",
        "target": "1896926867283227919"
       },
       "selectable": false
      }
     },
     "df53a27250f747b190da757396e6eedd": {
      "model_module": "jupyter-cytoscape",
      "model_module_version": "^1.3.3",
      "model_name": "EdgeModel",
      "state": {
       "_model_module_version": "^1.3.3",
       "_view_module_version": "^1.3.3",
       "classes": " directed ",
       "data": {
        "id": "169edcca-cc83-488e-9b2c-8a8b449b487b",
        "source": "6833738353159340455",
        "target": "-52898276908213756"
       },
       "selectable": false
      }
     },
     "e0ef88b911cf4878a399e3c151c1568c": {
      "model_module": "jupyter-cytoscape",
      "model_module_version": "^1.3.3",
      "model_name": "EdgeModel",
      "state": {
       "_model_module_version": "^1.3.3",
       "_view_module_version": "^1.3.3",
       "classes": " directed ",
       "data": {
        "id": "fc925783-e54a-4eec-9eac-574ca554aa99",
        "source": "5296372879665112554",
        "target": "2670174454968075468"
       },
       "selectable": false
      }
     },
     "e1d0507ed3964059a1075240db2b3fc6": {
      "model_module": "jupyter-cytoscape",
      "model_module_version": "^1.3.3",
      "model_name": "EdgeModel",
      "state": {
       "_model_module_version": "^1.3.3",
       "_view_module_version": "^1.3.3",
       "classes": " directed ",
       "data": {
        "id": "bf5189d5-cf0a-4b8c-bb6a-a03d84e32f83",
        "source": "9054173375408096250",
        "target": "-4699029605273376312"
       },
       "selectable": false
      }
     },
     "e8464ed1d7b445c289791b806746961c": {
      "model_module": "jupyter-cytoscape",
      "model_module_version": "^1.3.3",
      "model_name": "EdgeModel",
      "state": {
       "_model_module_version": "^1.3.3",
       "_view_module_version": "^1.3.3",
       "classes": " directed ",
       "data": {
        "id": "d0405b2d-cadd-464b-8d4a-d3dca585c1b3",
        "source": "5296372879665112554",
        "target": "2670174454968075468"
       },
       "selectable": false
      }
     },
     "e84e9fb872ab498ca93e00c8b65b6385": {
      "model_module": "jupyter-cytoscape",
      "model_module_version": "^1.3.3",
      "model_name": "EdgeModel",
      "state": {
       "_model_module_version": "^1.3.3",
       "_view_module_version": "^1.3.3",
       "classes": " directed ",
       "data": {
        "id": "b746b587-b43b-4054-9d7d-53f3af62a98f",
        "source": "-4285238858218776981",
        "target": "4670040985128536123"
       },
       "selectable": false
      }
     },
     "e84f50d856044b458fd4a78255233fce": {
      "model_module": "jupyter-cytoscape",
      "model_module_version": "^1.3.3",
      "model_name": "NodeModel",
      "state": {
       "_model_module_version": "^1.3.3",
       "_view_module_version": "^1.3.3",
       "data": {
        "color": "gray",
        "id": "6809821736793463531",
        "label": "(0, 0, 0, 0)",
        "shape": "rectangle"
       },
       "grabbable": true,
       "grabbed": false,
       "position": {
        "x": 98,
        "y": 275
       },
       "selectable": false
      }
     },
     "e8f89eb3a90d466fbf932635a72149ee": {
      "model_module": "jupyter-cytoscape",
      "model_module_version": "^1.3.3",
      "model_name": "EdgeModel",
      "state": {
       "_model_module_version": "^1.3.3",
       "_view_module_version": "^1.3.3",
       "classes": " directed ",
       "data": {
        "id": "2ef0b6da-70d0-46e8-b092-7e6982c8fc11",
        "source": "-1069384154620023996",
        "target": "6874735086663545106"
       },
       "selectable": false
      }
     },
     "ea908d72410943b5a960ba6b4eea8bfd": {
      "model_module": "jupyter-cytoscape",
      "model_module_version": "^1.3.3",
      "model_name": "EdgeModel",
      "state": {
       "_model_module_version": "^1.3.3",
       "_view_module_version": "^1.3.3",
       "classes": " directed ",
       "data": {
        "id": "c1b58a81-1a02-4590-ae43-c62e01ef11d0",
        "source": "-7587986330725577257",
        "target": "-3327542623466849601"
       },
       "selectable": false
      }
     },
     "ee89e6499cee4a87b22d88b5068f7490": {
      "model_module": "jupyter-cytoscape",
      "model_module_version": "^1.3.3",
      "model_name": "NodeModel",
      "state": {
       "_model_module_version": "^1.3.3",
       "_view_module_version": "^1.3.3",
       "data": {
        "color": "gray",
        "id": "-2658479167678979504",
        "label": "intensity",
        "shape": "ellipse"
       },
       "grabbable": true,
       "grabbed": false,
       "position": {
        "x": 719,
        "y": 875
       },
       "selectable": false
      }
     },
     "f09d529d980b458c94fe1c80413c3322": {
      "model_module": "jupyter-cytoscape",
      "model_module_version": "^1.3.3",
      "model_name": "NodeModel",
      "state": {
       "_model_module_version": "^1.3.3",
       "_view_module_version": "^1.3.3",
       "data": {
        "color": "gray",
        "id": "-6231323858362813098",
        "label": "0",
        "shape": "rectangle"
       },
       "grabbable": true,
       "grabbed": false,
       "position": {
        "x": 930,
        "y": 875
       },
       "selectable": false
      }
     },
     "f419a73cd16a4f1380a5fbcc5c97d7d6": {
      "model_module": "jupyter-cytoscape",
      "model_module_version": "^1.3.3",
      "model_name": "NodeModel",
      "state": {
       "_model_module_version": "^1.3.3",
       "_view_module_version": "^1.3.3",
       "data": {
        "color": "gray",
        "id": "-3454414948922575406",
        "label": "(0, 0, 0)",
        "shape": "rectangle"
       },
       "grabbable": true,
       "grabbed": false,
       "position": {
        "x": 98,
        "y": 995
       },
       "selectable": false
      }
     },
     "f49a86469fc24055a0d791e39531a507": {
      "model_module": "jupyter-cytoscape",
      "model_module_version": "^1.3.3",
      "model_name": "EdgeModel",
      "state": {
       "_model_module_version": "^1.3.3",
       "_view_module_version": "^1.3.3",
       "classes": " directed ",
       "data": {
        "id": "a814b3ce-2553-4a5e-a2a7-1bd25eaaa58a",
        "source": "701280354727081612",
        "target": "-4240116341018701367"
       },
       "selectable": false
      }
     },
     "f4ca52ce32384a6d8da09b7638495019": {
      "model_module": "jupyter-cytoscape",
      "model_module_version": "^1.3.3",
      "model_name": "NodeModel",
      "state": {
       "_model_module_version": "^1.3.3",
       "_view_module_version": "^1.3.3",
       "data": {
        "color": "gray",
        "id": "-3327542623466849601",
        "label": "build_waves",
        "shape": "ellipse"
       },
       "grabbable": true,
       "grabbed": false,
       "position": {
        "x": 516.5,
        "y": 635
       },
       "selectable": false
      }
     },
     "f5bfbab260d34349bfb9479466de86f2": {
      "model_module": "jupyter-cytoscape",
      "model_module_version": "^1.3.3",
      "model_name": "EdgeModel",
      "state": {
       "_model_module_version": "^1.3.3",
       "_view_module_version": "^1.3.3",
       "classes": " directed ",
       "data": {
        "id": "21ddd0d7-de23-46bb-9c80-37aa68a93095",
        "source": "-6231323858362813098",
        "target": "-6763095465601743160"
       },
       "selectable": false
      }
     },
     "f5e361f3cf144ea1a2e3ab8bada99300": {
      "model_module": "jupyter-cytoscape",
      "model_module_version": "^1.3.3",
      "model_name": "NodeModel",
      "state": {
       "_model_module_version": "^1.3.3",
       "_view_module_version": "^1.3.3",
       "data": {
        "color": "gray",
        "id": "444412869919983919",
        "label": "",
        "shape": "rectangle"
       },
       "grabbable": true,
       "grabbed": false,
       "position": {
        "x": 304,
        "y": 2195
       },
       "selectable": false
      }
     },
     "f71331c644654f4492f5807790381d2b": {
      "model_module": "jupyter-cytoscape",
      "model_module_version": "^1.3.3",
      "model_name": "EdgeModel",
      "state": {
       "_model_module_version": "^1.3.3",
       "_view_module_version": "^1.3.3",
       "classes": " directed ",
       "data": {
        "id": "5b41530f-8422-426d-a311-d4234462f2ca",
        "source": "-1069384154620023996",
        "target": "6874735086663545106"
       },
       "selectable": false
      }
     },
     "f7ac3b6817664533a73c7a43d8017b9c": {
      "model_module": "jupyter-cytoscape",
      "model_module_version": "^1.3.3",
      "model_name": "NodeModel",
      "state": {
       "_model_module_version": "^1.3.3",
       "_view_module_version": "^1.3.3",
       "data": {
        "color": "gray",
        "id": "654760481743083048",
        "label": "wrap_with_array",
        "shape": "ellipse"
       },
       "grabbable": true,
       "grabbed": false,
       "position": {
        "x": 98,
        "y": 1115
       },
       "selectable": false
      }
     },
     "f7e4256de7a545628e054d400d401072": {
      "model_module": "jupyter-cytoscape",
      "model_module_version": "^1.3.3",
      "model_name": "NodeModel",
      "state": {
       "_model_module_version": "^1.3.3",
       "_view_module_version": "^1.3.3",
       "data": {
        "color": "gray",
        "id": "4437677239923299413",
        "label": "(2, 0)",
        "shape": "rectangle"
       },
       "grabbable": true,
       "grabbed": false,
       "position": {
        "x": 724,
        "y": 515
       },
       "selectable": false
      }
     },
     "f8c2e6f4e7684f6b88769543b116f3d6": {
      "model_module": "jupyter-cytoscape",
      "model_module_version": "^1.3.3",
      "model_name": "EdgeModel",
      "state": {
       "_model_module_version": "^1.3.3",
       "_view_module_version": "^1.3.3",
       "classes": " directed ",
       "data": {
        "id": "772c8b35-a180-4a0a-9fa3-27c374069c55",
        "source": "-7815681723899409692",
        "target": "7686107117493160122"
       },
       "selectable": false
      }
     },
     "f98e0dd07328417480591ab8c75c4daf": {
      "model_module": "jupyter-cytoscape",
      "model_module_version": "^1.3.3",
      "model_name": "NodeModel",
      "state": {
       "_model_module_version": "^1.3.3",
       "_view_module_version": "^1.3.3",
       "data": {
        "color": "gray",
        "id": "-8700921841961141619",
        "label": "wrap_with_array",
        "shape": "ellipse"
       },
       "grabbable": true,
       "grabbed": false,
       "position": {
        "x": 724,
        "y": 1115
       },
       "selectable": false
      }
     },
     "fa2b0d3dc09e49d3bf413b455659b946": {
      "model_module": "jupyter-cytoscape",
      "model_module_version": "^1.3.3",
      "model_name": "EdgeModel",
      "state": {
       "_model_module_version": "^1.3.3",
       "_view_module_version": "^1.3.3",
       "classes": " directed ",
       "data": {
        "id": "2f85bf1c-d602-4c42-a58a-d274c5fc139d",
        "source": "-6231323858362813098",
        "target": "-6763095465601743160"
       },
       "selectable": false
      }
     },
     "fa8e3721abf8400991367297f888b5da": {
      "model_module": "jupyter-cytoscape",
      "model_module_version": "^1.3.3",
      "model_name": "EdgeModel",
      "state": {
       "_model_module_version": "^1.3.3",
       "_view_module_version": "^1.3.3",
       "classes": " directed ",
       "data": {
        "id": "dce2ecf5-9b91-4c75-8982-634f7d23ec81",
        "source": "654760481743083048",
        "target": "-6403728975476740178"
       },
       "selectable": false
      }
     },
     "fbb95c2fdb07450ca9b5680ef04007b0": {
      "model_module": "jupyter-cytoscape",
      "model_module_version": "^1.3.3",
      "model_name": "EdgeModel",
      "state": {
       "_model_module_version": "^1.3.3",
       "_view_module_version": "^1.3.3",
       "classes": " directed ",
       "data": {
        "id": "ce2a975d-0726-4bd0-a6a5-6b7fba1809a1",
        "source": "811757048236134829",
        "target": "4026788154152066844"
       },
       "selectable": false
      }
     },
     "ff361227e1b24d3e891582754c5cc3c6": {
      "model_module": "jupyter-cytoscape",
      "model_module_version": "^1.3.3",
      "model_name": "NodeModel",
      "state": {
       "_model_module_version": "^1.3.3",
       "_view_module_version": "^1.3.3",
       "data": {
        "color": "gray",
        "id": "-4469974169773607156",
        "label": "getitem",
        "shape": "ellipse"
       },
       "grabbable": true,
       "grabbed": false,
       "position": {
        "x": 930,
        "y": 635
       },
       "selectable": false
      }
     },
     "ff422b8e92414a4b9e28bd2f9aa34931": {
      "model_module": "jupyter-cytoscape",
      "model_module_version": "^1.3.3",
      "model_name": "NodeModel",
      "state": {
       "_model_module_version": "^1.3.3",
       "_view_module_version": "^1.3.3",
       "data": {
        "color": "gray",
        "id": "-8700921841961141619",
        "label": "wrap_with_array",
        "shape": "ellipse"
       },
       "grabbable": true,
       "grabbed": false,
       "position": {
        "x": 930,
        "y": 2075
       },
       "selectable": false
      }
     },
     "ff65315efc034104b04b93ec7688b007": {
      "model_module": "jupyter-cytoscape",
      "model_module_version": "^1.3.3",
      "model_name": "NodeModel",
      "state": {
       "_model_module_version": "^1.3.3",
       "_view_module_version": "^1.3.3",
       "data": {
        "color": "gray",
        "id": "-750374208217397234",
        "label": "getitem",
        "shape": "ellipse"
       },
       "grabbable": true,
       "grabbed": false,
       "position": {
        "x": 930,
        "y": 1595
       },
       "selectable": false
      }
     }
    },
    "version_major": 2,
    "version_minor": 0
   }
  }
 },
 "nbformat": 4,
 "nbformat_minor": 5
}
