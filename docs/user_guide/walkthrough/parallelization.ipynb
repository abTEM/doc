{
 "cells": [
  {
   "cell_type": "markdown",
   "id": "63acbfd0-4bb2-4873-a1b4-4db6ba9f57dd",
   "metadata": {
    "editable": true,
    "slideshow": {
     "slide_type": ""
    },
    "tags": []
   },
   "source": [
    "````{warning} Requires optional libraries\n",
    ":class: dropdown\n",
    "\n",
    "Running this notebook requires the optional packages [bokeh](http://bokeh.org/) and [ipycytoscape](https://ipycytoscape.readthedocs.io/en/latest/).\n",
    "\n",
    "Install using conda: \n",
    "\n",
    "```{code}\n",
    "conda install -c conda-forge bokeh ipycytoscape\n",
    "```\n",
    "\n",
    "Install using pip:\n",
    "```{code}\n",
    "pip install bokeh ipycytoscape\n",
    "```\n",
    "\n",
    "These libraries includes a server Jupyter server plugin, a restart of Jupyter is necessary if you have installed the libraries while it is running.\n",
    "````"
   ]
  },
  {
   "cell_type": "code",
   "execution_count": 1,
   "id": "c8a68d55-5e9b-4bab-b324-05b89a56cecd",
   "metadata": {
    "editable": true,
    "pycharm": {
     "name": "#%%\n"
    },
    "slideshow": {
     "slide_type": ""
    },
    "tags": [
     "hide-input"
    ]
   },
   "outputs": [
    {
     "data": {
      "text/html": [
       "    <style>\n",
       "        .bk-notebook-logo {\n",
       "            display: block;\n",
       "            width: 20px;\n",
       "            height: 20px;\n",
       "            background-image: url(data:image/png;base64,iVBORw0KGgoAAAANSUhEUgAAABQAAAAUCAYAAACNiR0NAAAABHNCSVQICAgIfAhkiAAAAAlwSFlzAAALEgAACxIB0t1+/AAAABx0RVh0U29mdHdhcmUAQWRvYmUgRmlyZXdvcmtzIENTNui8sowAAAOkSURBVDiNjZRtaJVlGMd/1/08zzln5zjP1LWcU9N0NkN8m2CYjpgQYQXqSs0I84OLIC0hkEKoPtiH3gmKoiJDU7QpLgoLjLIQCpEsNJ1vqUOdO7ppbuec5+V+rj4ctwzd8IIbbi6u+8f1539dt3A78eXC7QizUF7gyV1fD1Yqg4JWz84yffhm0qkFqBogB9rM8tZdtwVsPUhWhGcFJngGeWrPzHm5oaMmkfEg1usvLFyc8jLRqDOMru7AyC8saQr7GG7f5fvDeH7Ej8CM66nIF+8yngt6HWaKh7k49Soy9nXurCi1o3qUbS3zWfrYeQDTB/Qj6kX6Ybhw4B+bOYoLKCC9H3Nu/leUTZ1JdRWkkn2ldcCamzrcf47KKXdAJllSlxAOkRgyHsGC/zRday5Qld9DyoM4/q/rUoy/CXh3jzOu3bHUVZeU+DEn8FInkPBFlu3+nW3Nw0mk6vCDiWg8CeJaxEwuHS3+z5RgY+YBR6V1Z1nxSOfoaPa4LASWxxdNp+VWTk7+4vzaou8v8PN+xo+KY2xsw6une2frhw05CTYOmQvsEhjhWjn0bmXPjpE1+kplmmkP3suftwTubK9Vq22qKmrBhpY4jvd5afdRA3wGjFAgcnTK2s4hY0/GPNIb0nErGMCRxWOOX64Z8RAC4oCXdklmEvcL8o0BfkNK4lUg9HTl+oPlQxdNo3Mg4Nv175e/1LDGzZen30MEjRUtmXSfiTVu1kK8W4txyV6BMKlbgk3lMwYCiusNy9fVfvvwMxv8Ynl6vxoByANLTWplvuj/nF9m2+PDtt1eiHPBr1oIfhCChQMBw6Aw0UulqTKZdfVvfG7VcfIqLG9bcldL/+pdWTLxLUy8Qq38heUIjh4XlzZxzQm19lLFlr8vdQ97rjZVOLf8nclzckbcD4wxXMidpX30sFd37Fv/GtwwhzhxGVAprjbg0gCAEeIgwCZyTV2Z1REEW8O4py0wsjeloKoMr6iCY6dP92H6Vw/oTyICIthibxjm/DfN9lVz8IqtqKYLUXfoKVMVQVVJOElGjrnnUt9T9wbgp8AyYKaGlqingHZU/uG2NTZSVqwHQTWkx9hxjkpWDaCg6Ckj5qebgBVbT3V3NNXMSiWSDdGV3hrtzla7J+duwPOToIg42ChPQOQjspnSlp1V+Gjdged7+8UN5CRAV7a5EdFNwCjEaBR27b3W890TE7g24NAP/mMDXRWrGoFPQI9ls/MWO2dWFAar/xcOIImbbpA3zgAAAABJRU5ErkJggg==);\n",
       "        }\n",
       "    </style>\n",
       "    <div>\n",
       "        <a href=\"https://bokeh.org\" target=\"_blank\" class=\"bk-notebook-logo\"></a>\n",
       "        <span id=\"f0987ff4-7b8f-4a62-af5d-e803758d7929\">Loading BokehJS ...</span>\n",
       "    </div>\n"
      ]
     },
     "metadata": {},
     "output_type": "display_data"
    },
    {
     "data": {
      "application/javascript": [
       "'use strict';\n",
       "(function(root) {\n",
       "  function now() {\n",
       "    return new Date();\n",
       "  }\n",
       "\n",
       "  const force = true;\n",
       "\n",
       "  if (typeof root._bokeh_onload_callbacks === \"undefined\" || force === true) {\n",
       "    root._bokeh_onload_callbacks = [];\n",
       "    root._bokeh_is_loading = undefined;\n",
       "  }\n",
       "\n",
       "const JS_MIME_TYPE = 'application/javascript';\n",
       "  const HTML_MIME_TYPE = 'text/html';\n",
       "  const EXEC_MIME_TYPE = 'application/vnd.bokehjs_exec.v0+json';\n",
       "  const CLASS_NAME = 'output_bokeh rendered_html';\n",
       "\n",
       "  /**\n",
       "   * Render data to the DOM node\n",
       "   */\n",
       "  function render(props, node) {\n",
       "    const script = document.createElement(\"script\");\n",
       "    node.appendChild(script);\n",
       "  }\n",
       "\n",
       "  /**\n",
       "   * Handle when an output is cleared or removed\n",
       "   */\n",
       "  function handleClearOutput(event, handle) {\n",
       "    function drop(id) {\n",
       "      const view = Bokeh.index.get_by_id(id)\n",
       "      if (view != null) {\n",
       "        view.model.document.clear()\n",
       "        Bokeh.index.delete(view)\n",
       "      }\n",
       "    }\n",
       "\n",
       "    const cell = handle.cell;\n",
       "\n",
       "    const id = cell.output_area._bokeh_element_id;\n",
       "    const server_id = cell.output_area._bokeh_server_id;\n",
       "\n",
       "    // Clean up Bokeh references\n",
       "    if (id != null) {\n",
       "      drop(id)\n",
       "    }\n",
       "\n",
       "    if (server_id !== undefined) {\n",
       "      // Clean up Bokeh references\n",
       "      const cmd_clean = \"from bokeh.io.state import curstate; print(curstate().uuid_to_server['\" + server_id + \"'].get_sessions()[0].document.roots[0]._id)\";\n",
       "      cell.notebook.kernel.execute(cmd_clean, {\n",
       "        iopub: {\n",
       "          output: function(msg) {\n",
       "            const id = msg.content.text.trim()\n",
       "            drop(id)\n",
       "          }\n",
       "        }\n",
       "      });\n",
       "      // Destroy server and session\n",
       "      const cmd_destroy = \"import bokeh.io.notebook as ion; ion.destroy_server('\" + server_id + \"')\";\n",
       "      cell.notebook.kernel.execute(cmd_destroy);\n",
       "    }\n",
       "  }\n",
       "\n",
       "  /**\n",
       "   * Handle when a new output is added\n",
       "   */\n",
       "  function handleAddOutput(event, handle) {\n",
       "    const output_area = handle.output_area;\n",
       "    const output = handle.output;\n",
       "\n",
       "    // limit handleAddOutput to display_data with EXEC_MIME_TYPE content only\n",
       "    if ((output.output_type != \"display_data\") || (!Object.prototype.hasOwnProperty.call(output.data, EXEC_MIME_TYPE))) {\n",
       "      return\n",
       "    }\n",
       "\n",
       "    const toinsert = output_area.element.find(\".\" + CLASS_NAME.split(' ')[0]);\n",
       "\n",
       "    if (output.metadata[EXEC_MIME_TYPE][\"id\"] !== undefined) {\n",
       "      toinsert[toinsert.length - 1].firstChild.textContent = output.data[JS_MIME_TYPE];\n",
       "      // store reference to embed id on output_area\n",
       "      output_area._bokeh_element_id = output.metadata[EXEC_MIME_TYPE][\"id\"];\n",
       "    }\n",
       "    if (output.metadata[EXEC_MIME_TYPE][\"server_id\"] !== undefined) {\n",
       "      const bk_div = document.createElement(\"div\");\n",
       "      bk_div.innerHTML = output.data[HTML_MIME_TYPE];\n",
       "      const script_attrs = bk_div.children[0].attributes;\n",
       "      for (let i = 0; i < script_attrs.length; i++) {\n",
       "        toinsert[toinsert.length - 1].firstChild.setAttribute(script_attrs[i].name, script_attrs[i].value);\n",
       "        toinsert[toinsert.length - 1].firstChild.textContent = bk_div.children[0].textContent\n",
       "      }\n",
       "      // store reference to server id on output_area\n",
       "      output_area._bokeh_server_id = output.metadata[EXEC_MIME_TYPE][\"server_id\"];\n",
       "    }\n",
       "  }\n",
       "\n",
       "  function register_renderer(events, OutputArea) {\n",
       "\n",
       "    function append_mime(data, metadata, element) {\n",
       "      // create a DOM node to render to\n",
       "      const toinsert = this.create_output_subarea(\n",
       "        metadata,\n",
       "        CLASS_NAME,\n",
       "        EXEC_MIME_TYPE\n",
       "      );\n",
       "      this.keyboard_manager.register_events(toinsert);\n",
       "      // Render to node\n",
       "      const props = {data: data, metadata: metadata[EXEC_MIME_TYPE]};\n",
       "      render(props, toinsert[toinsert.length - 1]);\n",
       "      element.append(toinsert);\n",
       "      return toinsert\n",
       "    }\n",
       "\n",
       "    /* Handle when an output is cleared or removed */\n",
       "    events.on('clear_output.CodeCell', handleClearOutput);\n",
       "    events.on('delete.Cell', handleClearOutput);\n",
       "\n",
       "    /* Handle when a new output is added */\n",
       "    events.on('output_added.OutputArea', handleAddOutput);\n",
       "\n",
       "    /**\n",
       "     * Register the mime type and append_mime function with output_area\n",
       "     */\n",
       "    OutputArea.prototype.register_mime_type(EXEC_MIME_TYPE, append_mime, {\n",
       "      /* Is output safe? */\n",
       "      safe: true,\n",
       "      /* Index of renderer in `output_area.display_order` */\n",
       "      index: 0\n",
       "    });\n",
       "  }\n",
       "\n",
       "  // register the mime type if in Jupyter Notebook environment and previously unregistered\n",
       "  if (root.Jupyter !== undefined) {\n",
       "    const events = require('base/js/events');\n",
       "    const OutputArea = require('notebook/js/outputarea').OutputArea;\n",
       "\n",
       "    if (OutputArea.prototype.mime_types().indexOf(EXEC_MIME_TYPE) == -1) {\n",
       "      register_renderer(events, OutputArea);\n",
       "    }\n",
       "  }\n",
       "  if (typeof (root._bokeh_timeout) === \"undefined\" || force === true) {\n",
       "    root._bokeh_timeout = Date.now() + 5000;\n",
       "    root._bokeh_failed_load = false;\n",
       "  }\n",
       "\n",
       "  const NB_LOAD_WARNING = {'data': {'text/html':\n",
       "     \"<div style='background-color: #fdd'>\\n\"+\n",
       "     \"<p>\\n\"+\n",
       "     \"BokehJS does not appear to have successfully loaded. If loading BokehJS from CDN, this \\n\"+\n",
       "     \"may be due to a slow or bad network connection. Possible fixes:\\n\"+\n",
       "     \"</p>\\n\"+\n",
       "     \"<ul>\\n\"+\n",
       "     \"<li>re-rerun `output_notebook()` to attempt to load from CDN again, or</li>\\n\"+\n",
       "     \"<li>use INLINE resources instead, as so:</li>\\n\"+\n",
       "     \"</ul>\\n\"+\n",
       "     \"<code>\\n\"+\n",
       "     \"from bokeh.resources import INLINE\\n\"+\n",
       "     \"output_notebook(resources=INLINE)\\n\"+\n",
       "     \"</code>\\n\"+\n",
       "     \"</div>\"}};\n",
       "\n",
       "  function display_loaded(error = null) {\n",
       "    const el = document.getElementById(\"f0987ff4-7b8f-4a62-af5d-e803758d7929\");\n",
       "    if (el != null) {\n",
       "      const html = (() => {\n",
       "        if (typeof root.Bokeh === \"undefined\") {\n",
       "          if (error == null) {\n",
       "            return \"BokehJS is loading ...\";\n",
       "          } else {\n",
       "            return \"BokehJS failed to load.\";\n",
       "          }\n",
       "        } else {\n",
       "          const prefix = `BokehJS ${root.Bokeh.version}`;\n",
       "          if (error == null) {\n",
       "            return `${prefix} successfully loaded.`;\n",
       "          } else {\n",
       "            return `${prefix} <b>encountered errors</b> while loading and may not function as expected.`;\n",
       "          }\n",
       "        }\n",
       "      })();\n",
       "      el.innerHTML = html;\n",
       "\n",
       "      if (error != null) {\n",
       "        const wrapper = document.createElement(\"div\");\n",
       "        wrapper.style.overflow = \"auto\";\n",
       "        wrapper.style.height = \"5em\";\n",
       "        wrapper.style.resize = \"vertical\";\n",
       "        const content = document.createElement(\"div\");\n",
       "        content.style.fontFamily = \"monospace\";\n",
       "        content.style.whiteSpace = \"pre-wrap\";\n",
       "        content.style.backgroundColor = \"rgb(255, 221, 221)\";\n",
       "        content.textContent = error.stack ?? error.toString();\n",
       "        wrapper.append(content);\n",
       "        el.append(wrapper);\n",
       "      }\n",
       "    } else if (Date.now() < root._bokeh_timeout) {\n",
       "      setTimeout(() => display_loaded(error), 100);\n",
       "    }\n",
       "  }\n",
       "\n",
       "  function run_callbacks() {\n",
       "    try {\n",
       "      root._bokeh_onload_callbacks.forEach(function(callback) {\n",
       "        if (callback != null)\n",
       "          callback();\n",
       "      });\n",
       "    } finally {\n",
       "      delete root._bokeh_onload_callbacks\n",
       "    }\n",
       "    console.debug(\"Bokeh: all callbacks have finished\");\n",
       "  }\n",
       "\n",
       "  function load_libs(css_urls, js_urls, callback) {\n",
       "    if (css_urls == null) css_urls = [];\n",
       "    if (js_urls == null) js_urls = [];\n",
       "\n",
       "    root._bokeh_onload_callbacks.push(callback);\n",
       "    if (root._bokeh_is_loading > 0) {\n",
       "      console.debug(\"Bokeh: BokehJS is being loaded, scheduling callback at\", now());\n",
       "      return null;\n",
       "    }\n",
       "    if (js_urls == null || js_urls.length === 0) {\n",
       "      run_callbacks();\n",
       "      return null;\n",
       "    }\n",
       "    console.debug(\"Bokeh: BokehJS not loaded, scheduling load and callback at\", now());\n",
       "    root._bokeh_is_loading = css_urls.length + js_urls.length;\n",
       "\n",
       "    function on_load() {\n",
       "      root._bokeh_is_loading--;\n",
       "      if (root._bokeh_is_loading === 0) {\n",
       "        console.debug(\"Bokeh: all BokehJS libraries/stylesheets loaded\");\n",
       "        run_callbacks()\n",
       "      }\n",
       "    }\n",
       "\n",
       "    function on_error(url) {\n",
       "      console.error(\"failed to load \" + url);\n",
       "    }\n",
       "\n",
       "    for (let i = 0; i < css_urls.length; i++) {\n",
       "      const url = css_urls[i];\n",
       "      const element = document.createElement(\"link\");\n",
       "      element.onload = on_load;\n",
       "      element.onerror = on_error.bind(null, url);\n",
       "      element.rel = \"stylesheet\";\n",
       "      element.type = \"text/css\";\n",
       "      element.href = url;\n",
       "      console.debug(\"Bokeh: injecting link tag for BokehJS stylesheet: \", url);\n",
       "      document.body.appendChild(element);\n",
       "    }\n",
       "\n",
       "    for (let i = 0; i < js_urls.length; i++) {\n",
       "      const url = js_urls[i];\n",
       "      const element = document.createElement('script');\n",
       "      element.onload = on_load;\n",
       "      element.onerror = on_error.bind(null, url);\n",
       "      element.async = false;\n",
       "      element.src = url;\n",
       "      console.debug(\"Bokeh: injecting script tag for BokehJS library: \", url);\n",
       "      document.head.appendChild(element);\n",
       "    }\n",
       "  };\n",
       "\n",
       "  function inject_raw_css(css) {\n",
       "    const element = document.createElement(\"style\");\n",
       "    element.appendChild(document.createTextNode(css));\n",
       "    document.body.appendChild(element);\n",
       "  }\n",
       "\n",
       "  const js_urls = [\"https://cdn.bokeh.org/bokeh/release/bokeh-3.7.2.min.js\", \"https://cdn.bokeh.org/bokeh/release/bokeh-gl-3.7.2.min.js\", \"https://cdn.bokeh.org/bokeh/release/bokeh-widgets-3.7.2.min.js\", \"https://cdn.bokeh.org/bokeh/release/bokeh-tables-3.7.2.min.js\", \"https://cdn.bokeh.org/bokeh/release/bokeh-mathjax-3.7.2.min.js\"];\n",
       "  const css_urls = [];\n",
       "\n",
       "  const inline_js = [    function(Bokeh) {\n",
       "      Bokeh.set_log_level(\"info\");\n",
       "    },\n",
       "function(Bokeh) {\n",
       "    }\n",
       "  ];\n",
       "\n",
       "  function run_inline_js() {\n",
       "    if (root.Bokeh !== undefined || force === true) {\n",
       "      try {\n",
       "            for (let i = 0; i < inline_js.length; i++) {\n",
       "      inline_js[i].call(root, root.Bokeh);\n",
       "    }\n",
       "\n",
       "      } catch (error) {display_loaded(error);throw error;\n",
       "      }if (force === true) {\n",
       "        display_loaded();\n",
       "      }} else if (Date.now() < root._bokeh_timeout) {\n",
       "      setTimeout(run_inline_js, 100);\n",
       "    } else if (!root._bokeh_failed_load) {\n",
       "      console.log(\"Bokeh: BokehJS failed to load within specified timeout.\");\n",
       "      root._bokeh_failed_load = true;\n",
       "    } else if (force !== true) {\n",
       "      const cell = $(document.getElementById(\"f0987ff4-7b8f-4a62-af5d-e803758d7929\")).parents('.cell').data().cell;\n",
       "      cell.output_area.append_execute_result(NB_LOAD_WARNING)\n",
       "    }\n",
       "  }\n",
       "\n",
       "  if (root._bokeh_is_loading === 0) {\n",
       "    console.debug(\"Bokeh: BokehJS loaded, going straight to plotting\");\n",
       "    run_inline_js();\n",
       "  } else {\n",
       "    load_libs(css_urls, js_urls, function() {\n",
       "      console.debug(\"Bokeh: BokehJS plotting callback run at\", now());\n",
       "      run_inline_js();\n",
       "    });\n",
       "  }\n",
       "}(window));"
      ],
      "application/vnd.bokehjs_load.v0+json": "'use strict';\n(function(root) {\n  function now() {\n    return new Date();\n  }\n\n  const force = true;\n\n  if (typeof root._bokeh_onload_callbacks === \"undefined\" || force === true) {\n    root._bokeh_onload_callbacks = [];\n    root._bokeh_is_loading = undefined;\n  }\n\n\n  if (typeof (root._bokeh_timeout) === \"undefined\" || force === true) {\n    root._bokeh_timeout = Date.now() + 5000;\n    root._bokeh_failed_load = false;\n  }\n\n  const NB_LOAD_WARNING = {'data': {'text/html':\n     \"<div style='background-color: #fdd'>\\n\"+\n     \"<p>\\n\"+\n     \"BokehJS does not appear to have successfully loaded. If loading BokehJS from CDN, this \\n\"+\n     \"may be due to a slow or bad network connection. Possible fixes:\\n\"+\n     \"</p>\\n\"+\n     \"<ul>\\n\"+\n     \"<li>re-rerun `output_notebook()` to attempt to load from CDN again, or</li>\\n\"+\n     \"<li>use INLINE resources instead, as so:</li>\\n\"+\n     \"</ul>\\n\"+\n     \"<code>\\n\"+\n     \"from bokeh.resources import INLINE\\n\"+\n     \"output_notebook(resources=INLINE)\\n\"+\n     \"</code>\\n\"+\n     \"</div>\"}};\n\n  function display_loaded(error = null) {\n    const el = document.getElementById(\"f0987ff4-7b8f-4a62-af5d-e803758d7929\");\n    if (el != null) {\n      const html = (() => {\n        if (typeof root.Bokeh === \"undefined\") {\n          if (error == null) {\n            return \"BokehJS is loading ...\";\n          } else {\n            return \"BokehJS failed to load.\";\n          }\n        } else {\n          const prefix = `BokehJS ${root.Bokeh.version}`;\n          if (error == null) {\n            return `${prefix} successfully loaded.`;\n          } else {\n            return `${prefix} <b>encountered errors</b> while loading and may not function as expected.`;\n          }\n        }\n      })();\n      el.innerHTML = html;\n\n      if (error != null) {\n        const wrapper = document.createElement(\"div\");\n        wrapper.style.overflow = \"auto\";\n        wrapper.style.height = \"5em\";\n        wrapper.style.resize = \"vertical\";\n        const content = document.createElement(\"div\");\n        content.style.fontFamily = \"monospace\";\n        content.style.whiteSpace = \"pre-wrap\";\n        content.style.backgroundColor = \"rgb(255, 221, 221)\";\n        content.textContent = error.stack ?? error.toString();\n        wrapper.append(content);\n        el.append(wrapper);\n      }\n    } else if (Date.now() < root._bokeh_timeout) {\n      setTimeout(() => display_loaded(error), 100);\n    }\n  }\n\n  function run_callbacks() {\n    try {\n      root._bokeh_onload_callbacks.forEach(function(callback) {\n        if (callback != null)\n          callback();\n      });\n    } finally {\n      delete root._bokeh_onload_callbacks\n    }\n    console.debug(\"Bokeh: all callbacks have finished\");\n  }\n\n  function load_libs(css_urls, js_urls, callback) {\n    if (css_urls == null) css_urls = [];\n    if (js_urls == null) js_urls = [];\n\n    root._bokeh_onload_callbacks.push(callback);\n    if (root._bokeh_is_loading > 0) {\n      console.debug(\"Bokeh: BokehJS is being loaded, scheduling callback at\", now());\n      return null;\n    }\n    if (js_urls == null || js_urls.length === 0) {\n      run_callbacks();\n      return null;\n    }\n    console.debug(\"Bokeh: BokehJS not loaded, scheduling load and callback at\", now());\n    root._bokeh_is_loading = css_urls.length + js_urls.length;\n\n    function on_load() {\n      root._bokeh_is_loading--;\n      if (root._bokeh_is_loading === 0) {\n        console.debug(\"Bokeh: all BokehJS libraries/stylesheets loaded\");\n        run_callbacks()\n      }\n    }\n\n    function on_error(url) {\n      console.error(\"failed to load \" + url);\n    }\n\n    for (let i = 0; i < css_urls.length; i++) {\n      const url = css_urls[i];\n      const element = document.createElement(\"link\");\n      element.onload = on_load;\n      element.onerror = on_error.bind(null, url);\n      element.rel = \"stylesheet\";\n      element.type = \"text/css\";\n      element.href = url;\n      console.debug(\"Bokeh: injecting link tag for BokehJS stylesheet: \", url);\n      document.body.appendChild(element);\n    }\n\n    for (let i = 0; i < js_urls.length; i++) {\n      const url = js_urls[i];\n      const element = document.createElement('script');\n      element.onload = on_load;\n      element.onerror = on_error.bind(null, url);\n      element.async = false;\n      element.src = url;\n      console.debug(\"Bokeh: injecting script tag for BokehJS library: \", url);\n      document.head.appendChild(element);\n    }\n  };\n\n  function inject_raw_css(css) {\n    const element = document.createElement(\"style\");\n    element.appendChild(document.createTextNode(css));\n    document.body.appendChild(element);\n  }\n\n  const js_urls = [\"https://cdn.bokeh.org/bokeh/release/bokeh-3.7.2.min.js\", \"https://cdn.bokeh.org/bokeh/release/bokeh-gl-3.7.2.min.js\", \"https://cdn.bokeh.org/bokeh/release/bokeh-widgets-3.7.2.min.js\", \"https://cdn.bokeh.org/bokeh/release/bokeh-tables-3.7.2.min.js\", \"https://cdn.bokeh.org/bokeh/release/bokeh-mathjax-3.7.2.min.js\"];\n  const css_urls = [];\n\n  const inline_js = [    function(Bokeh) {\n      Bokeh.set_log_level(\"info\");\n    },\nfunction(Bokeh) {\n    }\n  ];\n\n  function run_inline_js() {\n    if (root.Bokeh !== undefined || force === true) {\n      try {\n            for (let i = 0; i < inline_js.length; i++) {\n      inline_js[i].call(root, root.Bokeh);\n    }\n\n      } catch (error) {display_loaded(error);throw error;\n      }if (force === true) {\n        display_loaded();\n      }} else if (Date.now() < root._bokeh_timeout) {\n      setTimeout(run_inline_js, 100);\n    } else if (!root._bokeh_failed_load) {\n      console.log(\"Bokeh: BokehJS failed to load within specified timeout.\");\n      root._bokeh_failed_load = true;\n    } else if (force !== true) {\n      const cell = $(document.getElementById(\"f0987ff4-7b8f-4a62-af5d-e803758d7929\")).parents('.cell').data().cell;\n      cell.output_area.append_execute_result(NB_LOAD_WARNING)\n    }\n  }\n\n  if (root._bokeh_is_loading === 0) {\n    console.debug(\"Bokeh: BokehJS loaded, going straight to plotting\");\n    run_inline_js();\n  } else {\n    load_libs(css_urls, js_urls, function() {\n      console.debug(\"Bokeh: BokehJS plotting callback run at\", now());\n      run_inline_js();\n    });\n  }\n}(window));"
     },
     "metadata": {},
     "output_type": "display_data"
    }
   ],
   "source": [
    "import ase\n",
    "import dask\n",
    "from bokeh.io import output_notebook\n",
    "from IPython.display import Image, display\n",
    "\n",
    "import abtem\n",
    "\n",
    "output_notebook()"
   ]
  },
  {
   "cell_type": "markdown",
   "id": "2b2c74ed-dfb6-4426-898a-63110b6fb253",
   "metadata": {
    "pycharm": {
     "name": "#%% md\n"
    },
    "tags": []
   },
   "source": [
    "(walkthrough:parallelization)=\n",
    "# Parallelization\n",
    "\n",
    "The computational cost of running multislice simulations can become high depending on the size of the specimen, the number of probe positions, phonon images, and many other factors. This cost can be mitigated using parallelism. Many of the computations in *ab*TEM are [embarrasingly parallel](https://en.wikipedia.org/wiki/Embarrassingly_parallel): for example, every probe position is independent, thus each CPU core may calculate a batch of positions independently, only requiring communication after finishing a run of the multislice algorithm. \n",
    "\n",
    "*ab*TEM is parallelized using [Dask](https://www.dask.org/) {cite}`dask`, which is a flexible library for parallel computing in Python. Dask allows scaling from a single laptop to hundreds of nodes at high-performance computing (HPC) facilities with minimal changes to the code. \n",
    "\n",
    "In this walkthrough, we introduce how *ab*TEM uses Dask. Althouhg this is not required knowledge for running simulations on a single machine, it may still help you optimize your simulations. If you are already an experienced Dask user, most of what you already know can be applied to using *ab*TEM. If you are new to Dask you may benefit from watching [this introduction](https://www.youtube.com/watch?v=nnndxbr_Xq4) before continuing.\n",
    "\n",
    "We note that Dask is used in several other libraries for the analysis of electron microscopy data, for example, [hyperspy](https://hyperspy.org/), [libertem](https://libertem.github.io/LiberTEM/) and [py4DSTEM](https://py4dstem.readthedocs.io/en/latest/), and thus we think that you may benefit from knowing this library more generally."
   ]
  },
  {
   "cell_type": "markdown",
   "id": "43b2aaf0-80a0-4058-99a2-faa12025ab42",
   "metadata": {
    "pycharm": {
     "name": "#%% md\n"
    }
   },
   "source": [
    "## Task graphs\n",
    "\n",
    "Simulating TEM experiments requires executing multiple *tasks* where each one may depend on the output of previous tasks. In Dask this is represented as a [*task graph*](https://docs.dask.org/en/stable/graphs.html), where each task is a *node*, with *edges* between nodes if it is dependent on another task. The simulation result is obtained by executing each task (node) in the graph with a Dask *scheduler* on a single machine or a cluster."
   ]
  },
  {
   "cell_type": "code",
   "execution_count": 2,
   "id": "fe6765fb-d0ea-4c35-b5bf-2eaadee69b0b",
   "metadata": {
    "tags": [
     "remove-input",
     "hide-input"
    ]
   },
   "outputs": [
    {
     "data": {
      "text/html": [
       "<img src=\"https://docs.dask.org/en/stable/_images/dask-overview.svg\" width=\"600\"/>"
      ],
      "text/plain": [
       "<IPython.core.display.Image object>"
      ]
     },
     "metadata": {},
     "output_type": "display_data"
    }
   ],
   "source": [
    "display(\n",
    "    Image(url=\"https://docs.dask.org/en/stable/_images/dask-overview.svg\", width=600)\n",
    ")"
   ]
  },
  {
   "cell_type": "markdown",
   "id": "95b10156-ee85-4600-92ed-b9c7c398dbdc",
   "metadata": {},
   "source": [
    "To illustrate this in practice, below we create the task graph for running a plane wave multislice simulation of gold in the $\\left<100\\right>$ zone axis with 4 frozen phonon configurations (please refer to previous walkthroughs for those details)."
   ]
  },
  {
   "cell_type": "code",
   "execution_count": 3,
   "id": "60ba5ba0-0d6d-4ecb-8fdd-fa80316a579b",
   "metadata": {},
   "outputs": [],
   "source": [
    "atoms = ase.build.bulk(\"Au\", cubic=True) * (5, 5, 2)\n",
    "\n",
    "frozen_phonons = abtem.FrozenPhonons(\n",
    "    atoms, num_configs=4, sigmas=0.1, ensemble_mean=False\n",
    ")\n",
    "\n",
    "potential = abtem.Potential(frozen_phonons, gpts=512, slice_thickness=2)\n",
    "\n",
    "probe = abtem.PlaneWave(energy=200e3)\n",
    "\n",
    "exit_waves = probe.multislice(potential)"
   ]
  },
  {
   "cell_type": "markdown",
   "id": "cbc97cd9-2777-4ef4-a0c4-c020517b708e",
   "metadata": {},
   "source": [
    "The result is an ensemble of $4$ wave functions of shape $512\\times512$, which may be represented as a 3D array, where the first dimension represents the phonon ensemble and the last two dimensions represents the 2D wave functions. \n",
    "\n",
    "As we have not executed the task graph yet, the wave functions are represented as a [Dask Array](https://docs.dask.org/en/stable/array.html). We can think of the *Dask array* as being composed of many smaller NumPy arrays, called *chunks*, and operations may be applied to each chunk rather than the full array. This enables: \n",
    "\n",
    "1. Parallelism over the chunks;\n",
    "2. Representing a larger-than-memory array as many smaller arrays, each of which fits in memory.\n",
    "\n",
    "The Dask array representation `__repr__` shows how the chunks are laid out."
   ]
  },
  {
   "cell_type": "code",
   "execution_count": 4,
   "id": "adc736d7-6ca1-47a7-baa5-eb6a9b0d69cb",
   "metadata": {},
   "outputs": [
    {
     "data": {
      "text/html": [
       "<table>\n",
       "    <tr>\n",
       "        <td>\n",
       "            <table style=\"border-collapse: collapse;\">\n",
       "                <thead>\n",
       "                    <tr>\n",
       "                        <td> </td>\n",
       "                        <th> Array </th>\n",
       "                        <th> Chunk </th>\n",
       "                    </tr>\n",
       "                </thead>\n",
       "                <tbody>\n",
       "                    \n",
       "                    <tr>\n",
       "                        <th> Bytes </th>\n",
       "                        <td> 8.00 MiB </td>\n",
       "                        <td> 2.00 MiB </td>\n",
       "                    </tr>\n",
       "                    \n",
       "                    <tr>\n",
       "                        <th> Shape </th>\n",
       "                        <td> (4, 512, 512) </td>\n",
       "                        <td> (1, 512, 512) </td>\n",
       "                    </tr>\n",
       "                    <tr>\n",
       "                        <th> Dask graph </th>\n",
       "                        <td colspan=\"2\"> 4 chunks in 18 graph layers </td>\n",
       "                    </tr>\n",
       "                    <tr>\n",
       "                        <th> Data type </th>\n",
       "                        <td colspan=\"2\"> complex64 numpy.ndarray </td>\n",
       "                    </tr>\n",
       "                </tbody>\n",
       "            </table>\n",
       "        </td>\n",
       "        <td>\n",
       "        <svg width=\"194\" height=\"184\" style=\"stroke:rgb(0,0,0);stroke-width:1\" >\n",
       "\n",
       "  <!-- Horizontal lines -->\n",
       "  <line x1=\"10\" y1=\"0\" x2=\"24\" y2=\"14\" style=\"stroke-width:2\" />\n",
       "  <line x1=\"10\" y1=\"120\" x2=\"24\" y2=\"134\" style=\"stroke-width:2\" />\n",
       "\n",
       "  <!-- Vertical lines -->\n",
       "  <line x1=\"10\" y1=\"0\" x2=\"10\" y2=\"120\" style=\"stroke-width:2\" />\n",
       "  <line x1=\"13\" y1=\"3\" x2=\"13\" y2=\"123\" />\n",
       "  <line x1=\"17\" y1=\"7\" x2=\"17\" y2=\"127\" />\n",
       "  <line x1=\"21\" y1=\"11\" x2=\"21\" y2=\"131\" />\n",
       "  <line x1=\"24\" y1=\"14\" x2=\"24\" y2=\"134\" style=\"stroke-width:2\" />\n",
       "\n",
       "  <!-- Colored Rectangle -->\n",
       "  <polygon points=\"10.0,0.0 24.9485979497544,14.948597949754403 24.9485979497544,134.9485979497544 10.0,120.0\" style=\"fill:#ECB172A0;stroke-width:0\"/>\n",
       "\n",
       "  <!-- Horizontal lines -->\n",
       "  <line x1=\"10\" y1=\"0\" x2=\"130\" y2=\"0\" style=\"stroke-width:2\" />\n",
       "  <line x1=\"13\" y1=\"3\" x2=\"133\" y2=\"3\" />\n",
       "  <line x1=\"17\" y1=\"7\" x2=\"137\" y2=\"7\" />\n",
       "  <line x1=\"21\" y1=\"11\" x2=\"141\" y2=\"11\" />\n",
       "  <line x1=\"24\" y1=\"14\" x2=\"144\" y2=\"14\" style=\"stroke-width:2\" />\n",
       "\n",
       "  <!-- Vertical lines -->\n",
       "  <line x1=\"10\" y1=\"0\" x2=\"24\" y2=\"14\" style=\"stroke-width:2\" />\n",
       "  <line x1=\"130\" y1=\"0\" x2=\"144\" y2=\"14\" style=\"stroke-width:2\" />\n",
       "\n",
       "  <!-- Colored Rectangle -->\n",
       "  <polygon points=\"10.0,0.0 130.0,0.0 144.9485979497544,14.948597949754403 24.9485979497544,14.948597949754403\" style=\"fill:#ECB172A0;stroke-width:0\"/>\n",
       "\n",
       "  <!-- Horizontal lines -->\n",
       "  <line x1=\"24\" y1=\"14\" x2=\"144\" y2=\"14\" style=\"stroke-width:2\" />\n",
       "  <line x1=\"24\" y1=\"134\" x2=\"144\" y2=\"134\" style=\"stroke-width:2\" />\n",
       "\n",
       "  <!-- Vertical lines -->\n",
       "  <line x1=\"24\" y1=\"14\" x2=\"24\" y2=\"134\" style=\"stroke-width:2\" />\n",
       "  <line x1=\"144\" y1=\"14\" x2=\"144\" y2=\"134\" style=\"stroke-width:2\" />\n",
       "\n",
       "  <!-- Colored Rectangle -->\n",
       "  <polygon points=\"24.9485979497544,14.948597949754403 144.9485979497544,14.948597949754403 144.9485979497544,134.9485979497544 24.9485979497544,134.9485979497544\" style=\"fill:#ECB172A0;stroke-width:0\"/>\n",
       "\n",
       "  <!-- Text -->\n",
       "  <text x=\"84.948598\" y=\"154.948598\" font-size=\"1.0rem\" font-weight=\"100\" text-anchor=\"middle\" >512</text>\n",
       "  <text x=\"164.948598\" y=\"74.948598\" font-size=\"1.0rem\" font-weight=\"100\" text-anchor=\"middle\" transform=\"rotate(-90,164.948598,74.948598)\">512</text>\n",
       "  <text x=\"7.474299\" y=\"147.474299\" font-size=\"1.0rem\" font-weight=\"100\" text-anchor=\"middle\" transform=\"rotate(45,7.474299,147.474299)\">4</text>\n",
       "</svg>\n",
       "        </td>\n",
       "    </tr>\n",
       "</table>"
      ],
      "text/plain": [
       "dask.array<getitem, shape=(4, 512, 512), dtype=complex64, chunksize=(1, 512, 512), chunktype=numpy.ndarray>"
      ]
     },
     "execution_count": 4,
     "metadata": {},
     "output_type": "execute_result"
    }
   ],
   "source": [
    "exit_waves.array"
   ]
  },
  {
   "cell_type": "markdown",
   "id": "07d22d90-2701-4d3e-bc91-ab2260232950",
   "metadata": {},
   "source": [
    "We see that this Dask array has the shape `(4, 512, 512)` requiring 8 MB of memory, and is composed of chunks with shape `(1, 512, 512)` requiring 2 MB each.\n",
    "\n",
    "```{important}\n",
    "The Dask array just represents a task graph, not the data itself, so memory is consumed only if it is computed!\n",
    "```\n",
    "\n",
    "Each chunk of the Dask array created above represents a wave function for a frozen phonon configuration. This reflects the fact that, in the multislice algorithm, each frozen phonon configuration is independent and may be calculated in parallel. On the other hand, we should not have chunks across wave functions, because each part of a wave function is affected by every other part.\n",
    "\n",
    "We can visualize the task graph using Dask's [`visualize`](https://docs.dask.org/en/stable/graphviz.html) method. We see that the task graph consists of 4 fully independent branches, one for each frozen phonon.\n",
    "\n",
    "````{note}\n",
    "Drawing Dask task graphs with the cytoscape engine requires the `ipycytoscape` python library. To reproduce the result below you need to:\n",
    "```\n",
    "  python -m pip install ipycytoscape\n",
    "```\n",
    "and restart jupyter.\n",
    "````"
   ]
  },
  {
   "cell_type": "code",
   "execution_count": 5,
   "id": "45d463ae-c282-4710-a05c-0817cb996457",
   "metadata": {
    "editable": true,
    "slideshow": {
     "slide_type": ""
    },
    "tags": [
     "skip-test"
    ]
   },
   "outputs": [
    {
     "data": {
      "application/vnd.jupyter.widget-view+json": {
       "model_id": "c1d50a0360f04858b0ecdd0c9a21765b",
       "version_major": 2,
       "version_minor": 0
      },
      "text/plain": [
       "CytoscapeWidget(cytoscape_layout={'name': 'dagre', 'rankDir': 'BT', 'nodeSep': 10, 'edgeSep': 10, 'spacingFact…"
      ]
     },
     "execution_count": 5,
     "metadata": {},
     "output_type": "execute_result"
    }
   ],
   "source": [
    "exit_waves.array.visualize(engine=\"cytoscape\")"
   ]
  },
  {
   "cell_type": "markdown",
   "id": "20d970c0-56e5-4066-b1d8-f6c71f59fb46",
   "metadata": {},
   "source": [
    "We usually want to take the mean across the frozen phonon dimension, and thus end up with an image represented as a single chunk."
   ]
  },
  {
   "cell_type": "code",
   "execution_count": 6,
   "id": "907e3a1e-7132-4dc5-aa9b-bdeed01a6170",
   "metadata": {},
   "outputs": [
    {
     "data": {
      "text/html": [
       "<table>\n",
       "    <tr>\n",
       "        <td>\n",
       "            <table style=\"border-collapse: collapse;\">\n",
       "                <thead>\n",
       "                    <tr>\n",
       "                        <td> </td>\n",
       "                        <th> Array </th>\n",
       "                        <th> Chunk </th>\n",
       "                    </tr>\n",
       "                </thead>\n",
       "                <tbody>\n",
       "                    \n",
       "                    <tr>\n",
       "                        <th> Bytes </th>\n",
       "                        <td> 1.00 MiB </td>\n",
       "                        <td> 1.00 MiB </td>\n",
       "                    </tr>\n",
       "                    \n",
       "                    <tr>\n",
       "                        <th> Shape </th>\n",
       "                        <td> (512, 512) </td>\n",
       "                        <td> (512, 512) </td>\n",
       "                    </tr>\n",
       "                    <tr>\n",
       "                        <th> Dask graph </th>\n",
       "                        <td colspan=\"2\"> 1 chunks in 22 graph layers </td>\n",
       "                    </tr>\n",
       "                    <tr>\n",
       "                        <th> Data type </th>\n",
       "                        <td colspan=\"2\"> float32 numpy.ndarray </td>\n",
       "                    </tr>\n",
       "                </tbody>\n",
       "            </table>\n",
       "        </td>\n",
       "        <td>\n",
       "        <svg width=\"170\" height=\"170\" style=\"stroke:rgb(0,0,0);stroke-width:1\" >\n",
       "\n",
       "  <!-- Horizontal lines -->\n",
       "  <line x1=\"0\" y1=\"0\" x2=\"120\" y2=\"0\" style=\"stroke-width:2\" />\n",
       "  <line x1=\"0\" y1=\"120\" x2=\"120\" y2=\"120\" style=\"stroke-width:2\" />\n",
       "\n",
       "  <!-- Vertical lines -->\n",
       "  <line x1=\"0\" y1=\"0\" x2=\"0\" y2=\"120\" style=\"stroke-width:2\" />\n",
       "  <line x1=\"120\" y1=\"0\" x2=\"120\" y2=\"120\" style=\"stroke-width:2\" />\n",
       "\n",
       "  <!-- Colored Rectangle -->\n",
       "  <polygon points=\"0.0,0.0 120.0,0.0 120.0,120.0 0.0,120.0\" style=\"fill:#ECB172A0;stroke-width:0\"/>\n",
       "\n",
       "  <!-- Text -->\n",
       "  <text x=\"60.000000\" y=\"140.000000\" font-size=\"1.0rem\" font-weight=\"100\" text-anchor=\"middle\" >512</text>\n",
       "  <text x=\"140.000000\" y=\"60.000000\" font-size=\"1.0rem\" font-weight=\"100\" text-anchor=\"middle\" transform=\"rotate(-90,140.000000,60.000000)\">512</text>\n",
       "</svg>\n",
       "        </td>\n",
       "    </tr>\n",
       "</table>"
      ],
      "text/plain": [
       "dask.array<mean_agg-aggregate, shape=(512, 512), dtype=float32, chunksize=(512, 512), chunktype=numpy.ndarray>"
      ]
     },
     "execution_count": 6,
     "metadata": {},
     "output_type": "execute_result"
    }
   ],
   "source": [
    "hrtem_image = exit_waves.intensity().mean(0)\n",
    "\n",
    "hrtem_image.array"
   ]
  },
  {
   "cell_type": "markdown",
   "id": "b9661725-7a20-44f6-8415-52489e91259b",
   "metadata": {},
   "source": [
    "Taking the mean across frozen phonon chunks requires communicating the exit wave function intensity between the final nodes. Showing the task graph again we see how the branches are merged when the result have to be communicated between workers."
   ]
  },
  {
   "cell_type": "code",
   "execution_count": 7,
   "id": "27e8b98c-362e-4543-b6c2-e033a827143e",
   "metadata": {
    "tags": [
     "skip-test"
    ]
   },
   "outputs": [
    {
     "data": {
      "application/vnd.jupyter.widget-view+json": {
       "model_id": "030af21cfcfe42d08ce5046119974d8d",
       "version_major": 2,
       "version_minor": 0
      },
      "text/plain": [
       "CytoscapeWidget(cytoscape_layout={'name': 'dagre', 'rankDir': 'BT', 'nodeSep': 10, 'edgeSep': 10, 'spacingFact…"
      ]
     },
     "execution_count": 7,
     "metadata": {},
     "output_type": "execute_result"
    }
   ],
   "source": [
    "hrtem_image.array.visualize(engine=\"cytoscape\")"
   ]
  },
  {
   "cell_type": "markdown",
   "id": "7dcdbfb7-41d3-49ff-995f-bf17f01a120f",
   "metadata": {},
   "source": [
    "## Chunks\n",
    "To futher explore the role of chunks in abTEM, we create the task graph for running a STEM simulation with the same specimen, gold in the $\\left<100\\right>$ zone axis with 4 frozen phonons. We do not immediately apply a detector, so we obtain an ensemble of exit wave functions."
   ]
  },
  {
   "cell_type": "code",
   "execution_count": 8,
   "id": "5b9baf98-b088-4c6f-954d-8ae1a7d22c23",
   "metadata": {
    "pycharm": {
     "name": "#%%\n"
    }
   },
   "outputs": [
    {
     "data": {
      "text/plain": [
       "type               label           coordinates\n",
       "-----------------  --------------  -------------------\n",
       "FrozenPhononsAxis  Frozen phonons  -\n",
       "ScanAxis           x [Å]           0.00 0.29 ... 3.79\n",
       "ScanAxis           y [Å]           0.00 0.29 ... 3.79\n",
       "RealSpaceAxis      x [Å]           0.00 0.04 ... 20.36\n",
       "RealSpaceAxis      y [Å]           0.00 0.04 ... 20.36"
      ]
     },
     "execution_count": 8,
     "metadata": {},
     "output_type": "execute_result"
    }
   ],
   "source": [
    "probe = abtem.Probe(energy=200e3, semiangle_cutoff=20)\n",
    "\n",
    "scan = abtem.GridScan(\n",
    "    start=(0, 0),\n",
    "    end=(1 / 5, 1 / 5),\n",
    "    fractional=True,\n",
    "    potential=potential,\n",
    ")\n",
    "\n",
    "frozen_phonons = abtem.FrozenPhonons(\n",
    "    atoms, num_configs=4, sigmas=0.1, ensemble_mean=True\n",
    ")\n",
    "\n",
    "potential = abtem.Potential(frozen_phonons, gpts=512, slice_thickness=2)\n",
    "\n",
    "exit_waves_stem = probe.multislice(potential, scan=scan)\n",
    "\n",
    "exit_waves_stem.axes_metadata"
   ]
  },
  {
   "cell_type": "markdown",
   "id": "69036139-511e-482d-8f72-e66b71df0924",
   "metadata": {},
   "source": [
    "The wave functions are now represented as a 5D Dask array, a 3D ensemble of 2D wave functions, which is composed of one frozen phonon dimension and two scan dimensions, one for each of the $x$ and $y$ direction. \n",
    "\n",
    "The full array is of shape `(4, 15, 15, 512, 512)` requiring 1.76 GB of memory, which is cut into chunks of shape `(1, 8, 7, 512, 512)` of 112 MB. Hence, there are a total of $4 \\times 2 \\times 3 = 24$ chunks."
   ]
  },
  {
   "cell_type": "code",
   "execution_count": 9,
   "id": "0d0ab17b-53e3-4e79-856a-d734fe3c1cbe",
   "metadata": {},
   "outputs": [
    {
     "data": {
      "text/html": [
       "<table>\n",
       "    <tr>\n",
       "        <td>\n",
       "            <table style=\"border-collapse: collapse;\">\n",
       "                <thead>\n",
       "                    <tr>\n",
       "                        <td> </td>\n",
       "                        <th> Array </th>\n",
       "                        <th> Chunk </th>\n",
       "                    </tr>\n",
       "                </thead>\n",
       "                <tbody>\n",
       "                    \n",
       "                    <tr>\n",
       "                        <th> Bytes </th>\n",
       "                        <td> 1.53 GiB </td>\n",
       "                        <td> 112.00 MiB </td>\n",
       "                    </tr>\n",
       "                    \n",
       "                    <tr>\n",
       "                        <th> Shape </th>\n",
       "                        <td> (4, 14, 14, 512, 512) </td>\n",
       "                        <td> (1, 8, 7, 512, 512) </td>\n",
       "                    </tr>\n",
       "                    <tr>\n",
       "                        <th> Dask graph </th>\n",
       "                        <td colspan=\"2\"> 16 chunks in 22 graph layers </td>\n",
       "                    </tr>\n",
       "                    <tr>\n",
       "                        <th> Data type </th>\n",
       "                        <td colspan=\"2\"> complex64 numpy.ndarray </td>\n",
       "                    </tr>\n",
       "                </tbody>\n",
       "            </table>\n",
       "        </td>\n",
       "        <td>\n",
       "        <svg width=\"388\" height=\"188\" style=\"stroke:rgb(0,0,0);stroke-width:1\" >\n",
       "\n",
       "  <!-- Horizontal lines -->\n",
       "  <line x1=\"0\" y1=\"0\" x2=\"30\" y2=\"0\" style=\"stroke-width:2\" />\n",
       "  <line x1=\"0\" y1=\"6\" x2=\"30\" y2=\"6\" />\n",
       "  <line x1=\"0\" y1=\"12\" x2=\"30\" y2=\"12\" />\n",
       "  <line x1=\"0\" y1=\"19\" x2=\"30\" y2=\"19\" />\n",
       "  <line x1=\"0\" y1=\"25\" x2=\"30\" y2=\"25\" style=\"stroke-width:2\" />\n",
       "\n",
       "  <!-- Vertical lines -->\n",
       "  <line x1=\"0\" y1=\"0\" x2=\"0\" y2=\"25\" style=\"stroke-width:2\" />\n",
       "  <line x1=\"17\" y1=\"0\" x2=\"17\" y2=\"25\" />\n",
       "  <line x1=\"30\" y1=\"0\" x2=\"30\" y2=\"25\" style=\"stroke-width:2\" />\n",
       "\n",
       "  <!-- Colored Rectangle -->\n",
       "  <polygon points=\"0.0,0.0 30.838522258696894,0.0 30.838522258696894,25.412616514582485 0.0,25.412616514582485\" style=\"fill:#ECB172A0;stroke-width:0\"/>\n",
       "\n",
       "  <!-- Text -->\n",
       "  <text x=\"15.419261\" y=\"45.412617\" font-size=\"1.0rem\" font-weight=\"100\" text-anchor=\"middle\" >14</text>\n",
       "  <text x=\"50.838522\" y=\"12.706308\" font-size=\"1.0rem\" font-weight=\"100\" text-anchor=\"middle\" transform=\"rotate(0,50.838522,12.706308)\">4</text>\n",
       "\n",
       "\n",
       "  <!-- Horizontal lines -->\n",
       "  <line x1=\"100\" y1=\"0\" x2=\"118\" y2=\"18\" style=\"stroke-width:2\" />\n",
       "  <line x1=\"100\" y1=\"120\" x2=\"118\" y2=\"138\" style=\"stroke-width:2\" />\n",
       "\n",
       "  <!-- Vertical lines -->\n",
       "  <line x1=\"100\" y1=\"0\" x2=\"100\" y2=\"120\" style=\"stroke-width:2\" />\n",
       "  <line x1=\"109\" y1=\"9\" x2=\"109\" y2=\"129\" />\n",
       "  <line x1=\"118\" y1=\"18\" x2=\"118\" y2=\"138\" style=\"stroke-width:2\" />\n",
       "\n",
       "  <!-- Colored Rectangle -->\n",
       "  <polygon points=\"100.0,0.0 118.14030721099817,18.140307210998174 118.14030721099817,138.14030721099817 100.0,120.0\" style=\"fill:#ECB172A0;stroke-width:0\"/>\n",
       "\n",
       "  <!-- Horizontal lines -->\n",
       "  <line x1=\"100\" y1=\"0\" x2=\"220\" y2=\"0\" style=\"stroke-width:2\" />\n",
       "  <line x1=\"109\" y1=\"9\" x2=\"229\" y2=\"9\" />\n",
       "  <line x1=\"118\" y1=\"18\" x2=\"238\" y2=\"18\" style=\"stroke-width:2\" />\n",
       "\n",
       "  <!-- Vertical lines -->\n",
       "  <line x1=\"100\" y1=\"0\" x2=\"118\" y2=\"18\" style=\"stroke-width:2\" />\n",
       "  <line x1=\"220\" y1=\"0\" x2=\"238\" y2=\"18\" style=\"stroke-width:2\" />\n",
       "\n",
       "  <!-- Colored Rectangle -->\n",
       "  <polygon points=\"100.0,0.0 220.0,0.0 238.14030721099817,18.140307210998174 118.14030721099817,18.140307210998174\" style=\"fill:#ECB172A0;stroke-width:0\"/>\n",
       "\n",
       "  <!-- Horizontal lines -->\n",
       "  <line x1=\"118\" y1=\"18\" x2=\"238\" y2=\"18\" style=\"stroke-width:2\" />\n",
       "  <line x1=\"118\" y1=\"138\" x2=\"238\" y2=\"138\" style=\"stroke-width:2\" />\n",
       "\n",
       "  <!-- Vertical lines -->\n",
       "  <line x1=\"118\" y1=\"18\" x2=\"118\" y2=\"138\" style=\"stroke-width:2\" />\n",
       "  <line x1=\"238\" y1=\"18\" x2=\"238\" y2=\"138\" style=\"stroke-width:2\" />\n",
       "\n",
       "  <!-- Colored Rectangle -->\n",
       "  <polygon points=\"118.14030721099817,18.140307210998174 238.14030721099817,18.140307210998174 238.14030721099817,138.14030721099817 118.14030721099817,138.14030721099817\" style=\"fill:#ECB172A0;stroke-width:0\"/>\n",
       "\n",
       "  <!-- Text -->\n",
       "  <text x=\"178.140307\" y=\"158.140307\" font-size=\"1.0rem\" font-weight=\"100\" text-anchor=\"middle\" >512</text>\n",
       "  <text x=\"258.140307\" y=\"78.140307\" font-size=\"1.0rem\" font-weight=\"100\" text-anchor=\"middle\" transform=\"rotate(-90,258.140307,78.140307)\">512</text>\n",
       "  <text x=\"99.070154\" y=\"149.070154\" font-size=\"1.0rem\" font-weight=\"100\" text-anchor=\"middle\" transform=\"rotate(45,99.070154,149.070154)\">14</text>\n",
       "</svg>\n",
       "        </td>\n",
       "    </tr>\n",
       "</table>"
      ],
      "text/plain": [
       "dask.array<getitem, shape=(4, 14, 14, 512, 512), dtype=complex64, chunksize=(1, 8, 7, 512, 512), chunktype=numpy.ndarray>"
      ]
     },
     "execution_count": 9,
     "metadata": {},
     "output_type": "execute_result"
    }
   ],
   "source": [
    "exit_waves_stem.array"
   ]
  },
  {
   "cell_type": "markdown",
   "id": "00985534-3b37-458c-9cba-e5f6c783f334",
   "metadata": {},
   "source": [
    "Notice that we do not make a chunk for every probe position, but each chunk of the scan dimension instead represents a batch of wave functions. This is done partly to limit [the overhead](https://docs.dask.org/en/stable/best-practices.html#avoid-very-large-graphs) that every chunk comes with, but more importantly, larger batches enables efficient thread parallelization within each run of the multislice algorithm.\n",
    "\n",
    "We can change how many wave functions each batch should have using a keyword. Below we set `max_batch=4`, resulting in a total number of $4 \\times 8 \\times 8 = 256$ chunks."
   ]
  },
  {
   "cell_type": "code",
   "execution_count": 10,
   "id": "b1f9437b-ed6a-4836-8e6c-daa0ae526b21",
   "metadata": {},
   "outputs": [
    {
     "data": {
      "text/html": [
       "<table>\n",
       "    <tr>\n",
       "        <td>\n",
       "            <table style=\"border-collapse: collapse;\">\n",
       "                <thead>\n",
       "                    <tr>\n",
       "                        <td> </td>\n",
       "                        <th> Array </th>\n",
       "                        <th> Chunk </th>\n",
       "                    </tr>\n",
       "                </thead>\n",
       "                <tbody>\n",
       "                    \n",
       "                    <tr>\n",
       "                        <th> Bytes </th>\n",
       "                        <td> 1.53 GiB </td>\n",
       "                        <td> 8.00 MiB </td>\n",
       "                    </tr>\n",
       "                    \n",
       "                    <tr>\n",
       "                        <th> Shape </th>\n",
       "                        <td> (4, 14, 14, 512, 512) </td>\n",
       "                        <td> (1, 2, 2, 512, 512) </td>\n",
       "                    </tr>\n",
       "                    <tr>\n",
       "                        <th> Dask graph </th>\n",
       "                        <td colspan=\"2\"> 196 chunks in 21 graph layers </td>\n",
       "                    </tr>\n",
       "                    <tr>\n",
       "                        <th> Data type </th>\n",
       "                        <td colspan=\"2\"> complex64 numpy.ndarray </td>\n",
       "                    </tr>\n",
       "                </tbody>\n",
       "            </table>\n",
       "        </td>\n",
       "        <td>\n",
       "        <svg width=\"388\" height=\"188\" style=\"stroke:rgb(0,0,0);stroke-width:1\" >\n",
       "\n",
       "  <!-- Horizontal lines -->\n",
       "  <line x1=\"0\" y1=\"0\" x2=\"30\" y2=\"0\" style=\"stroke-width:2\" />\n",
       "  <line x1=\"0\" y1=\"6\" x2=\"30\" y2=\"6\" />\n",
       "  <line x1=\"0\" y1=\"12\" x2=\"30\" y2=\"12\" />\n",
       "  <line x1=\"0\" y1=\"19\" x2=\"30\" y2=\"19\" />\n",
       "  <line x1=\"0\" y1=\"25\" x2=\"30\" y2=\"25\" style=\"stroke-width:2\" />\n",
       "\n",
       "  <!-- Vertical lines -->\n",
       "  <line x1=\"0\" y1=\"0\" x2=\"0\" y2=\"25\" style=\"stroke-width:2\" />\n",
       "  <line x1=\"4\" y1=\"0\" x2=\"4\" y2=\"25\" />\n",
       "  <line x1=\"8\" y1=\"0\" x2=\"8\" y2=\"25\" />\n",
       "  <line x1=\"13\" y1=\"0\" x2=\"13\" y2=\"25\" />\n",
       "  <line x1=\"17\" y1=\"0\" x2=\"17\" y2=\"25\" />\n",
       "  <line x1=\"22\" y1=\"0\" x2=\"22\" y2=\"25\" />\n",
       "  <line x1=\"26\" y1=\"0\" x2=\"26\" y2=\"25\" />\n",
       "  <line x1=\"30\" y1=\"0\" x2=\"30\" y2=\"25\" style=\"stroke-width:2\" />\n",
       "\n",
       "  <!-- Colored Rectangle -->\n",
       "  <polygon points=\"0.0,0.0 30.838522258696894,0.0 30.838522258696894,25.412616514582485 0.0,25.412616514582485\" style=\"fill:#ECB172A0;stroke-width:0\"/>\n",
       "\n",
       "  <!-- Text -->\n",
       "  <text x=\"15.419261\" y=\"45.412617\" font-size=\"1.0rem\" font-weight=\"100\" text-anchor=\"middle\" >14</text>\n",
       "  <text x=\"50.838522\" y=\"12.706308\" font-size=\"1.0rem\" font-weight=\"100\" text-anchor=\"middle\" transform=\"rotate(0,50.838522,12.706308)\">4</text>\n",
       "\n",
       "\n",
       "  <!-- Horizontal lines -->\n",
       "  <line x1=\"100\" y1=\"0\" x2=\"118\" y2=\"18\" style=\"stroke-width:2\" />\n",
       "  <line x1=\"100\" y1=\"120\" x2=\"118\" y2=\"138\" style=\"stroke-width:2\" />\n",
       "\n",
       "  <!-- Vertical lines -->\n",
       "  <line x1=\"100\" y1=\"0\" x2=\"100\" y2=\"120\" style=\"stroke-width:2\" />\n",
       "  <line x1=\"102\" y1=\"2\" x2=\"102\" y2=\"122\" />\n",
       "  <line x1=\"105\" y1=\"5\" x2=\"105\" y2=\"125\" />\n",
       "  <line x1=\"107\" y1=\"7\" x2=\"107\" y2=\"127\" />\n",
       "  <line x1=\"110\" y1=\"10\" x2=\"110\" y2=\"130\" />\n",
       "  <line x1=\"112\" y1=\"12\" x2=\"112\" y2=\"132\" />\n",
       "  <line x1=\"115\" y1=\"15\" x2=\"115\" y2=\"135\" />\n",
       "  <line x1=\"118\" y1=\"18\" x2=\"118\" y2=\"138\" style=\"stroke-width:2\" />\n",
       "\n",
       "  <!-- Colored Rectangle -->\n",
       "  <polygon points=\"100.0,0.0 118.14030721099817,18.140307210998174 118.14030721099817,138.14030721099817 100.0,120.0\" style=\"fill:#ECB172A0;stroke-width:0\"/>\n",
       "\n",
       "  <!-- Horizontal lines -->\n",
       "  <line x1=\"100\" y1=\"0\" x2=\"220\" y2=\"0\" style=\"stroke-width:2\" />\n",
       "  <line x1=\"102\" y1=\"2\" x2=\"222\" y2=\"2\" />\n",
       "  <line x1=\"105\" y1=\"5\" x2=\"225\" y2=\"5\" />\n",
       "  <line x1=\"107\" y1=\"7\" x2=\"227\" y2=\"7\" />\n",
       "  <line x1=\"110\" y1=\"10\" x2=\"230\" y2=\"10\" />\n",
       "  <line x1=\"112\" y1=\"12\" x2=\"232\" y2=\"12\" />\n",
       "  <line x1=\"115\" y1=\"15\" x2=\"235\" y2=\"15\" />\n",
       "  <line x1=\"118\" y1=\"18\" x2=\"238\" y2=\"18\" style=\"stroke-width:2\" />\n",
       "\n",
       "  <!-- Vertical lines -->\n",
       "  <line x1=\"100\" y1=\"0\" x2=\"118\" y2=\"18\" style=\"stroke-width:2\" />\n",
       "  <line x1=\"220\" y1=\"0\" x2=\"238\" y2=\"18\" style=\"stroke-width:2\" />\n",
       "\n",
       "  <!-- Colored Rectangle -->\n",
       "  <polygon points=\"100.0,0.0 220.0,0.0 238.14030721099817,18.140307210998174 118.14030721099817,18.140307210998174\" style=\"fill:#ECB172A0;stroke-width:0\"/>\n",
       "\n",
       "  <!-- Horizontal lines -->\n",
       "  <line x1=\"118\" y1=\"18\" x2=\"238\" y2=\"18\" style=\"stroke-width:2\" />\n",
       "  <line x1=\"118\" y1=\"138\" x2=\"238\" y2=\"138\" style=\"stroke-width:2\" />\n",
       "\n",
       "  <!-- Vertical lines -->\n",
       "  <line x1=\"118\" y1=\"18\" x2=\"118\" y2=\"138\" style=\"stroke-width:2\" />\n",
       "  <line x1=\"238\" y1=\"18\" x2=\"238\" y2=\"138\" style=\"stroke-width:2\" />\n",
       "\n",
       "  <!-- Colored Rectangle -->\n",
       "  <polygon points=\"118.14030721099817,18.140307210998174 238.14030721099817,18.140307210998174 238.14030721099817,138.14030721099817 118.14030721099817,138.14030721099817\" style=\"fill:#ECB172A0;stroke-width:0\"/>\n",
       "\n",
       "  <!-- Text -->\n",
       "  <text x=\"178.140307\" y=\"158.140307\" font-size=\"1.0rem\" font-weight=\"100\" text-anchor=\"middle\" >512</text>\n",
       "  <text x=\"258.140307\" y=\"78.140307\" font-size=\"1.0rem\" font-weight=\"100\" text-anchor=\"middle\" transform=\"rotate(-90,258.140307,78.140307)\">512</text>\n",
       "  <text x=\"99.070154\" y=\"149.070154\" font-size=\"1.0rem\" font-weight=\"100\" text-anchor=\"middle\" transform=\"rotate(45,99.070154,149.070154)\">14</text>\n",
       "</svg>\n",
       "        </td>\n",
       "    </tr>\n",
       "</table>"
      ],
      "text/plain": [
       "dask.array<getitem, shape=(4, 14, 14, 512, 512), dtype=complex64, chunksize=(1, 2, 2, 512, 512), chunktype=numpy.ndarray>"
      ]
     },
     "execution_count": 10,
     "metadata": {},
     "output_type": "execute_result"
    }
   ],
   "source": [
    "exit_waves_stem = probe.multislice(potential, scan=scan, max_batch=4)\n",
    "\n",
    "exit_waves_stem.array"
   ]
  },
  {
   "cell_type": "markdown",
   "id": "28998800-0b81-49f7-b3c6-79aa355cf3dc",
   "metadata": {
    "pycharm": {
     "name": "#%% md\n"
    }
   },
   "source": [
    "The default value of `max_batch` is `\"auto\"`: with this setting the number of wave functions in each batch is determined such that the batch represents approximately `128 MB` of memory, although this number may be changed through the *ab*TEM [configuration](../../reference/config.md).\n",
    "\n",
    "Before computing this task graph, we apply a HAADF detector and calculate the ensemble mean, which reduces the total size of the output to just 900 B. We note that the 1.76 GB ensemble of wave functions never needs to be in memory simulateneously, as each chunk of exit wave functions are reduced immediately after completing the multislice algorithm."
   ]
  },
  {
   "cell_type": "code",
   "execution_count": 11,
   "id": "8664e8b2-4928-4c5e-bd48-fa854a465cec",
   "metadata": {
    "pycharm": {
     "name": "#%%\n"
    }
   },
   "outputs": [
    {
     "data": {
      "text/html": [
       "<table>\n",
       "    <tr>\n",
       "        <td>\n",
       "            <table style=\"border-collapse: collapse;\">\n",
       "                <thead>\n",
       "                    <tr>\n",
       "                        <td> </td>\n",
       "                        <th> Array </th>\n",
       "                        <th> Chunk </th>\n",
       "                    </tr>\n",
       "                </thead>\n",
       "                <tbody>\n",
       "                    \n",
       "                    <tr>\n",
       "                        <th> Bytes </th>\n",
       "                        <td> 784 B </td>\n",
       "                        <td> 16 B </td>\n",
       "                    </tr>\n",
       "                    \n",
       "                    <tr>\n",
       "                        <th> Shape </th>\n",
       "                        <td> (14, 14) </td>\n",
       "                        <td> (2, 2) </td>\n",
       "                    </tr>\n",
       "                    <tr>\n",
       "                        <th> Dask graph </th>\n",
       "                        <td colspan=\"2\"> 49 chunks in 26 graph layers </td>\n",
       "                    </tr>\n",
       "                    <tr>\n",
       "                        <th> Data type </th>\n",
       "                        <td colspan=\"2\"> float32 numpy.ndarray </td>\n",
       "                    </tr>\n",
       "                </tbody>\n",
       "            </table>\n",
       "        </td>\n",
       "        <td>\n",
       "        <svg width=\"170\" height=\"170\" style=\"stroke:rgb(0,0,0);stroke-width:1\" >\n",
       "\n",
       "  <!-- Horizontal lines -->\n",
       "  <line x1=\"0\" y1=\"0\" x2=\"120\" y2=\"0\" style=\"stroke-width:2\" />\n",
       "  <line x1=\"0\" y1=\"17\" x2=\"120\" y2=\"17\" />\n",
       "  <line x1=\"0\" y1=\"34\" x2=\"120\" y2=\"34\" />\n",
       "  <line x1=\"0\" y1=\"51\" x2=\"120\" y2=\"51\" />\n",
       "  <line x1=\"0\" y1=\"68\" x2=\"120\" y2=\"68\" />\n",
       "  <line x1=\"0\" y1=\"85\" x2=\"120\" y2=\"85\" />\n",
       "  <line x1=\"0\" y1=\"102\" x2=\"120\" y2=\"102\" />\n",
       "  <line x1=\"0\" y1=\"120\" x2=\"120\" y2=\"120\" style=\"stroke-width:2\" />\n",
       "\n",
       "  <!-- Vertical lines -->\n",
       "  <line x1=\"0\" y1=\"0\" x2=\"0\" y2=\"120\" style=\"stroke-width:2\" />\n",
       "  <line x1=\"17\" y1=\"0\" x2=\"17\" y2=\"120\" />\n",
       "  <line x1=\"34\" y1=\"0\" x2=\"34\" y2=\"120\" />\n",
       "  <line x1=\"51\" y1=\"0\" x2=\"51\" y2=\"120\" />\n",
       "  <line x1=\"68\" y1=\"0\" x2=\"68\" y2=\"120\" />\n",
       "  <line x1=\"85\" y1=\"0\" x2=\"85\" y2=\"120\" />\n",
       "  <line x1=\"102\" y1=\"0\" x2=\"102\" y2=\"120\" />\n",
       "  <line x1=\"120\" y1=\"0\" x2=\"120\" y2=\"120\" style=\"stroke-width:2\" />\n",
       "\n",
       "  <!-- Colored Rectangle -->\n",
       "  <polygon points=\"0.0,0.0 120.0,0.0 120.0,120.0 0.0,120.0\" style=\"fill:#ECB172A0;stroke-width:0\"/>\n",
       "\n",
       "  <!-- Text -->\n",
       "  <text x=\"60.000000\" y=\"140.000000\" font-size=\"1.0rem\" font-weight=\"100\" text-anchor=\"middle\" >14</text>\n",
       "  <text x=\"140.000000\" y=\"60.000000\" font-size=\"1.0rem\" font-weight=\"100\" text-anchor=\"middle\" transform=\"rotate(0,140.000000,60.000000)\">14</text>\n",
       "</svg>\n",
       "        </td>\n",
       "    </tr>\n",
       "</table>"
      ],
      "text/plain": [
       "dask.array<mean_agg-aggregate, shape=(14, 14), dtype=float32, chunksize=(2, 2), chunktype=numpy.ndarray>"
      ]
     },
     "execution_count": 11,
     "metadata": {},
     "output_type": "execute_result"
    }
   ],
   "source": [
    "detector = abtem.AnnularDetector(inner=65, outer=200)\n",
    "\n",
    "haadf_images = detector.detect(exit_waves_stem).reduce_ensemble()\n",
    "\n",
    "haadf_images.array"
   ]
  },
  {
   "cell_type": "markdown",
   "id": "c8167e51-1e8b-408d-9e08-ad00b6966ad5",
   "metadata": {
    "pycharm": {
     "name": "#%% md\n"
    },
    "tags": []
   },
   "source": [
    "## Schedulers\n",
    "\n",
    "After generating a task graph, it needs to be executed on (parallel) hardware. This is the job of a [task scheduler](https://docs.dask.org/en/stable/scheduler-overview.html). Dask provides several *task schedulers*: each of which will compute a task graph and give the same result, but with different performance characteristics.\n",
    "\n",
    "Every time you call the `compute` method a Dask scheduler is used. We adopt the default Dask scheduler configuration and every keyword argument used with the `compute` method in *ab*TEM is forwarded to the Dask `compute` function. \n",
    "\n",
    "### Local scheduler\n",
    "\n",
    "The default scheduler is the [`ThreadPoolExecutor`](https://docs.dask.org/en/stable/scheduling.html#local-threads). As an example of a keyword argument, the threaded scheduler takes `num_workers`, which sets the number of threads to use (by default, up to the number of computing cores). Let's run compute with 8 workers."
   ]
  },
  {
   "cell_type": "code",
   "execution_count": 12,
   "id": "4c507a96-5a6d-4e55-8775-200f66e26459",
   "metadata": {
    "editable": true,
    "slideshow": {
     "slide_type": ""
    },
    "tags": [
     "skip-test"
    ]
   },
   "outputs": [
    {
     "name": "stdout",
     "output_type": "stream",
     "text": [
      "[########################################] | 100% Completed | 18.32 s\n"
     ]
    },
    {
     "data": {
      "text/plain": [
       "<abtem.measurements.Images at 0x11efabe30>"
      ]
     },
     "execution_count": 12,
     "metadata": {},
     "output_type": "execute_result"
    }
   ],
   "source": [
    "haadf_images = detector.detect(exit_waves_stem).reduce_ensemble()\n",
    "\n",
    "haadf_images.compute(scheduler=\"threads\", num_workers=8)"
   ]
  },
  {
   "cell_type": "markdown",
   "id": "168c4090-255a-4705-85a8-afbf74c6320e",
   "metadata": {},
   "source": [
    "We can change the scheduler to using the `ProcessPoolExecutor` as below.\n",
    "\n",
    "```python\n",
    "haadf_images = detector.detect(exit_waves_stem).compute(scheduler=\"processes\", num_workers=4)\n",
    "```\n",
    "\n",
    "Using `abtem.config.set` the scheduler can be set either as a context manager or globally.\n",
    "```python\n",
    "# As a context manager\n",
    "with abtem.config.set(scheduler=\"processes\"):\n",
    "    haadf_images.compute()\n",
    "\n",
    "# Set globally\n",
    "abtem.config.set(scheduler=\"processes\")\n",
    "haadf_images.compute()\n",
    "```"
   ]
  },
  {
   "cell_type": "markdown",
   "id": "675a4c6c-338c-4c3a-90e2-8ad79ed63dd4",
   "metadata": {},
   "source": [
    "### Profiling"
   ]
  },
  {
   "cell_type": "markdown",
   "id": "945988ec-0d2b-422a-a84c-32f10d5a63af",
   "metadata": {},
   "source": [
    "To improve performance, we have to be able to profile it. Profiling parallel code can be challenging, but Dask provides functionality to aid in this and inspecting execution. The diagnostic tools are however quite different depending on whether you use a local or distributed scheduler.\n",
    "\n",
    "Dask allows local diagnostics by adding callbacks that collect information about your code execution. You can use the profilers as a context manager as described in the [Dask documentation](https://docs.dask.org/en/stable/diagnostics-local.html). For convenience, the *ab*TEM `compute` methods also implement keywords for adding Dask profilers.\n",
    "\n",
    "Below we use the [`Profiler`](https://docs.dask.org/en/stable/diagnostics-local.html#profiler) to monitor task execution by setting `profiler=True` and a [`ResourceProfiler`](https://docs.dask.org/en/stable/diagnostics-local.html#resourceprofiler) to monitor the CPU usage and memory consumption by setting `resource_profiler=True`. We rerun the simulation above with these profilers. "
   ]
  },
  {
   "cell_type": "code",
   "execution_count": 13,
   "id": "56cb3754-6cde-4f83-b058-6014356cefaf",
   "metadata": {
    "tags": [
     "skip-test"
    ]
   },
   "outputs": [
    {
     "name": "stdout",
     "output_type": "stream",
     "text": [
      "[########################################] | 100% Completed | 14.85 s\n"
     ]
    }
   ],
   "source": [
    "haadf_images = detector.detect(exit_waves_stem).reduce_ensemble()\n",
    "\n",
    "haadf_images, profilers = haadf_images.compute(profiler=True, resource_profiler=True)"
   ]
  },
  {
   "cell_type": "markdown",
   "id": "a3b63fd8-4e8b-4842-9c15-2fa8787da397",
   "metadata": {},
   "source": [
    "To display the results Dask uses the [Bokeh plotting library](https://bokeh.org/) (which is installed together with Dask). To display the plots in a Jupyter notebook we need to run the commands below."
   ]
  },
  {
   "cell_type": "markdown",
   "id": "89a100cb-9792-45bb-b855-42b53fb9db83",
   "metadata": {},
   "source": [
    "We first show the result from the `Profiler` object: This shows the execution time for each task as a rectangle, organized along the vertical axis by worker (in this case threads), and where white space represents times the worker was idle. The task types are grouped by color and, by hovering over each task, one can see the key and task that each block represents. For this calculation there is only one significant task shown in yellow; this encompasses building the wave function, running the multislice algorithm (calculating the potential on demand), and calculating and integrating the diffraction patterns. "
   ]
  },
  {
   "cell_type": "code",
   "execution_count": 14,
   "id": "0a420e98-6235-4e01-b079-fe34d913a436",
   "metadata": {
    "editable": true,
    "slideshow": {
     "slide_type": ""
    },
    "tags": [
     "skip-test"
    ]
   },
   "outputs": [
    {
     "data": {
      "text/html": [
       "\n",
       "  <div id=\"dfc45b26-f356-4c1d-bd84-7adbcc346f26\" data-root-id=\"p1001\" style=\"display: contents;\"></div>\n"
      ]
     },
     "metadata": {},
     "output_type": "display_data"
    },
    {
     "data": {
      "application/javascript": [
       "(function(root) {\n",
       "  function embed_document(root) {\n",
       "  const docs_json = {\"8a919528-41d1-46c4-a16d-4c2a58be29b6\":{\"version\":\"3.7.2\",\"title\":\"Bokeh Application\",\"roots\":[{\"type\":\"object\",\"name\":\"Figure\",\"id\":\"p1001\",\"attributes\":{\"width\":800,\"height\":300,\"x_range\":{\"type\":\"object\",\"name\":\"Range1d\",\"id\":\"p1011\",\"attributes\":{\"end\":15.473069187952206}},\"y_range\":{\"type\":\"object\",\"name\":\"FactorRange\",\"id\":\"p1012\",\"attributes\":{\"factors\":[\"0\",\"1\",\"2\",\"3\",\"4\",\"5\",\"6\",\"7\",\"8\",\"9\",\"10\",\"11\",\"12\",\"13\",\"14\",\"15\",\"16\",\"17\",\"18\",\"19\"]}},\"x_scale\":{\"type\":\"object\",\"name\":\"LinearScale\",\"id\":\"p1013\"},\"y_scale\":{\"type\":\"object\",\"name\":\"CategoricalScale\",\"id\":\"p1014\"},\"title\":{\"type\":\"object\",\"name\":\"Title\",\"id\":\"p1004\",\"attributes\":{\"text\":\"Profile Results\"}},\"renderers\":[{\"type\":\"object\",\"name\":\"GlyphRenderer\",\"id\":\"p1039\",\"attributes\":{\"data_source\":{\"type\":\"object\",\"name\":\"ColumnDataSource\",\"id\":\"p1030\",\"attributes\":{\"selected\":{\"type\":\"object\",\"name\":\"Selection\",\"id\":\"p1031\",\"attributes\":{\"indices\":[],\"line_indices\":[]}},\"selection_policy\":{\"type\":\"object\",\"name\":\"UnionRenderers\",\"id\":\"p1032\"},\"data\":{\"type\":\"map\",\"entries\":[[\"width\",[0.002574627986177802,0.0023407540284097195,0.0022690859623253345,0.0022658591624349356,0.0009903120808303356,0.10927914315834641,0.1230070199817419,0.13306996086612344,1.401804470922798,1.609955752035603,1.363656953908503,1.3586382761131972,1.7853495827876031,1.5605585628654808,1.5654669099021703,1.790803549112752,1.599900425877422,1.4807740298565477,1.4789860069286078,1.394718884024769,1.6125687218736857,1.6097802389413118,1.79812574503012,1.7270116040017456,1.698915088083595,1.7263978431001306,1.6678150880616158,1.6960288530681282,0.00449985102750361,1.4557919350918382,0.01228861091658473,1.4609725961927325,0.0037978689651936293,1.4988913219422102,0.008109503891319036,1.4831154879648238,0.014738654950633645,0.02112957090139389,1.4453946510329843,1.4290767752099782,0.005742147099226713,0.01285287900827825,1.4553692659828812,1.558494625147432,0.011259641963988543,0.015026642009615898,0.01666313805617392,1.4080313709564507,0.023955737007781863,1.5528618819080293,1.4554255460388958,1.4971356210298836,0.0921575091779232,0.10900953412055969,0.05609259381890297,0.05933671700768173,0.07007426884956658,1.416319676907733,0.07617576909251511,0.0647315972018987,0.07514663599431515,1.4238914428278804,1.4962274369318038,1.3313355660066009,1.5429432189557701,1.411600141087547,0.02108828886412084,0.007140561006963253,1.4862464878242463,0.00982081308029592,1.293222141219303,0.001693706028163433,1.464860345935449,0.0007342707831412554,1.4675260509829968,0.006622477900236845,0.0033431551419198513,1.4494357299990952,1.4994441920425743,0.0007955960463732481,1.5058487688656896,0.0025553880259394646,1.4754335309844464,0.0057886040303856134,0.0049471689853817225,1.4775672741234303,1.474684861022979,0.00396273098886013,1.4106649439781904,0.006509756902232766,0.012376592960208654,1.5811153941322118,1.4158675279468298,0.00695939501747489,0.006326229078695178,1.5724342709872872,1.4715705818962306,0.00753044500015676,1.3586793281137943,0.017023126129060984,1.4292208550032228,0.01810867781750858,1.5822275029495358,0.026624037884175777,1.4984245179221034,0.0020672420505434275,1.4910152468364686,0.015227883122861385,0.013369485037401319,1.5131615581922233,1.4748796338681132,0.002711720997467637,1.451002551941201,0.0011983809527009726,1.503864498110488,0.0063148499466478825,1.4794081749860197,0.0008146550972014666,1.558766343863681,0.0009442518930882215,1.534535052953288,0.004424110986292362,1.4491193261928856,0.005840172991156578,0.004815062042325735,0.00597778707742691,1.6226891989354044,1.3984253720846027,1.4665070299524814,0.015260184882208705,0.006937450030818582,1.4607623489573598,1.4675667979754508,0.004966123960912228,1.43107310985215,0.010878063039854169,1.360429863911122,0.005719491979107261,1.3343856330029666,0.008464389014989138,1.3983628740534186,0.0220507038757205,0.004622915061190724,1.4207489369437099,1.5029392598662525,0.003426444949582219,1.4776718220673501,0.02609043917618692,1.4852729821577668,0.008848299039527774,1.543486732058227,0.0011635159607976675,1.4760460539255291,0.006748463027179241,1.4755295580253005,0.0021769569721072912,1.548382346983999,0.0012027069460600615,1.4104443190153688,0.0005916028749197721,1.5033193631097674,0.008967655943706632,0.007331538014113903,1.617915018927306,1.42992755305022,0.014701205072924495,0.022060749121010303,1.4447505730204284,0.006416316842660308,0.012294727843254805,0.011217295192182064,0.020387263037264347,0.018692455952987075,1.4714135620743036,0.010964300949126482,0.011656739981845021,1.413277501007542,0.03161779511719942,1.4599314068909734,0.017917115008458495,1.4791436630766839,0.019212048966437578,0.009781356900930405,1.4375550118274987,1.4174050700385123,0.023951268987730145,0.0037604428362101316,1.3931010658852756,0.0069539109244942665,0.006528178928419948,1.5371735449880362,0.009315446950495243,0.036007443908602,0.03332726191729307,0.010999739868566394,1.4839962488040328,1.4162002929951996,0.007396877044811845,0.0027641349006444216,1.379181504016742,0.014159386977553368,0.00585295888595283,1.4546626498922706,0.0024493199307471514,0.0020785559900105,1.4582279829774052,0.0038477168418467045,0.0013526130933314562,1.4664696180261672,0.004567586118355393,0.0010186450090259314,1.4504302840214223,0.013561340048909187,0.0018797749653458595,0.001851425040513277,0.0028874939307570457,1.5674658259376884,1.494389123050496,0.006673301104456186,0.004488155012950301,1.5604585078544915,0.008974774973466992,0.0012721780221909285,1.4150710690300912,0.0012710459996014833,0.0027592359110713005,1.425847145030275,0.009326402097940445,0.011040101060643792,0.025188012048602104,1.3634472480043769,0.030029932036995888,0.018204933032393456,0.015917877899482846,0.010389418108388782,0.018588691018521786,0.020097563974559307,0.02659090096130967,1.365596819901839,0.03237726190127432,0.03326358110643923,1.4745311529841274,0.020455891033634543,0.024278932018205523,1.379183905897662,1.480687306029722,1.5914451640564948,1.459748513996601,0.013122827978804708,0.0008409270085394382,0.0008966929744929075,0.0007893790025264025,0.0011157379485666752,0.006176732014864683,1.4615811200346798,1.3076190068386495,1.3902656978461891,0.00542406109161675,0.01697154203429818,1.5233304889407009,0.008389428025111556,0.00396511098369956,1.4969055431429297,0.005606153979897499,0.0020565721206367016,1.5331030702218413,0.003995367093011737,0.0017993950750678778,0.0018724249675869942,1.536132741952315,0.009151805192232132,1.5372425359673798,0.015660711098462343,0.003174107987433672,0.0026731130201369524,0.007293342147022486,1.4913766279350966,1.5702010111417621,0.005737286061048508,0.003790138056501746,0.0044652430806308985,0.0018437858670949936,1.4709282538387924,1.4629504748154432,0.006244650110602379,0.007988598197698593,1.4844260460231453,0.026681327959522605,0.032105120131745934,0.005896240007132292,0.05187250999733806,1.5819698648992926,0.04072074801661074,0.007339549949392676,1.557771208928898,1.3820698999334127,0.012547363992780447,0.01242556399665773,0.019249102100729942,1.4839902420062572,0.014990624040365219,0.0061496649868786335,0.008640543092042208,0.014478135854005814,1.60282381484285,0.022429612930864096,1.5600264710374177,0.022971597034484148,1.5796917229890823,0.01673089386895299,0.019527093041688204,0.024608952924609184,0.013169158948585391,0.015131450025364757,1.4794512109365314,1.397236553952098,0.006300085922703147,0.004864680115133524,1.5465032239444554,0.011480060871690512,0.008427750086411834,0.0030721588991582394,1.497309610946104,0.0018606670200824738,0.0010482098441570997,0.0018704298418015242,1.567141876090318,0.0036802550312131643,0.004478536080569029,0.0027442278806120157,1.4883450870402157,0.005052136955782771,0.006304566981270909,0.000793948071077466,0.0011735220905393362,0.0018181412015110254,1.5926531190052629,0.008386579807847738,1.5008457449730486,0.008338604122400284,0.001306312158703804,0.004156064009293914,0.004654288990423083,0.006154380040243268,0.004338950850069523,0.005443815141916275,0.004871475975960493,0.014224273152649403,1.4007612778805196,1.569026923039928,1.536314545897767,0.001033192966133356,0.0048327199183404446,0.004580785054713488,1.5238648119848222,0.015577648067846894,0.003732699900865555,0.010940585983917117,0.013148712925612926,1.5595477549359202,0.012615407118573785,0.016680540051311255,1.4349531568586826,0.01788528193719685,0.01890983898192644,0.005114713916555047,0.002816895954310894,0.0047915419563651085,0.015818131854757667,1.355034745996818,0.013252033852040768,1.595190729945898,0.015333638060837984,0.006289166864007711,1.3622190649621189,0.012387759052217007,1.3924658549949527,0.010938769206404686,1.3815353331156075,0.03222210705280304,0.029351031873375177,0.01460632192902267,1.4169784008990973,1.449106281856075,1.4050177519675344,0.004802118055522442,1.5447577589657158,0.008370003895834088,1.4578745658509433,0.0035078879445791245,1.38864741101861,0.0018451451323926449,1.4590866828802973,0.007039511110633612,1.4118734109215438,0.003663265146315098,1.4459397320169955,0.003448070026934147,1.4150390501599759,0.013663999969139695,0.019435065099969506,1.4662557039409876,0.015025642002001405,0.027457458898425102,0.04779989295639098,1.5362364810425788,1.3790585491806269,1.4152288718614727,0.04857726790942252,1.5471174840349704,0.02909376798197627,1.288824358023703,0.00938320579007268,1.4362255439627916,1.398208427010104,0.012272005900740623,1.4471992528997362,0.023944648914039135,0.04134672088548541,1.4269573849160224,0.027221541851758957,1.4253075278829783,0.01869406900368631,1.560839390847832,1.4969068940263242,0.000495760003104806,1.470931163057685,0.006966602057218552,1.4551954348571599,0.002473016967996955,1.4580864130984992,0.003257621079683304,1.2770073891151696,0.0004931529983878136,1.3260339279659092,0.0021079429425299168,1.264326805016026,0.0009374041110277176,1.3023405980784446,0.003921407042071223,0.004976636031642556,0.0056809920351952314,0.00819220207631588,1.2313921200111508,0.00926000508479774,0.008786985883489251,1.2147627950180322,0.003352594096213579,0.0011036188807338476,0.0008461379911750555,1.2112047250848264,0.0016763950698077679,0.0015296638011932373,0.009299227967858315,1.2889495179988444,0.020460274070501328,0.0026456480845808983,0.015732308151200414,0.020737299928441644,1.2547614141367376,0.021920983912423253,0.019180022878572345,0.030741644091904163,0.020562604069709778,0.022758575156331062,0.012200116878375411,1.1718383969273418,0.009087824961170554,0.013851511990651488,1.186832666862756,0.011887670960277319,0.006676574004814029,0.001094261882826686,1.2046598221641034,1.1733126770704985,0.011287275003269315,0.019720861921086907,0.024569286964833736,0.016019215108826756,0.011931078042834997,1.1511437769513577,0.023472195956856012,1.1239359499886632,0.0032900781370699406,0.002674427116289735,0.0005388590507209301,1.0810167491436005,0.0008729088585823774,0.004641342908143997,0.001139582833275199,0.004987043095752597,0.005455730017274618,0.005776294972747564,0.0026547289453446865,0.0047411981504410505,0.009169260039925575,0.002305384958162904,0.002111596055328846,0.0029229389037936926,0.007830079877749085,0.0018256839830428362,0.0013793290127068758,0.0037140119820833206,0.001989991869777441,0.001704289810732007,0.000967774074524641,0.0004187899176031351,0.0005143319722265005,0.002648040885105729,0.00682284589856863,0.010793050052598119,0.012588041136041284,0.002753001870587468,0.000531286932528019,0.004734516143798828,0.0031820391304790974,0.0022619611117988825,0.0009004701860249043,0.0017404239624738693,0.002008887007832527,0.02210412686690688,0.02697388199158013,0.009465206880122423,0.0019271501805633307,0.0017035009805113077,0.007775699952617288,0.010566293960437179,0.010488318977877498,0.01016036793589592,0.016069601057097316,0.02246271795593202,0.01975010591559112,0.025775688933208585,0.019613404059782624,0.00694662518799305,0.013134130043908954,0.011449300916865468,0.0010528150014579296,0.000584909925237298,0.000558946980163455,0.0023866668343544006,0.0019859049934893847,0.0003614120651036501,0.00040103704668581486,0.0005097759421914816,0.0006257388740777969,0.0006044830661267042]],[\"x\",[0.20097096706740558,0.2015602239407599,0.2017693668603897,0.20192989450879395,0.20275852386839688,0.257374981418252,0.2644100938923657,0.2696001813746989,0.9041583514772356,1.0083534449804574,0.8854158988688141,0.8830193767789751,1.0964944784063846,0.9841937695164233,0.9868043337482959,1.0995645325165242,1.0042154749389738,0.9447471557650715,0.9440287242177874,0.9019955708645284,1.0110253060702235,1.0097690604161471,1.104064240353182,1.068608822999522,1.054662864888087,1.175219728378579,1.1598289988469332,1.184156289556995,1.5646191814448684,2.294773884350434,1.5733939034398645,2.3100351768080145,1.6012633263599128,2.3526158118620515,1.609122094931081,2.3547427968587726,1.690901322523132,1.6957065113820136,2.4209756194613874,2.420815668301657,1.7673552073538303,1.7759723404888064,2.4979178870562464,2.561652317410335,1.8098020839970559,1.8208501159679145,1.8229983358178288,2.5194535083137453,1.8292917932849377,2.6048004699405283,2.559049452887848,2.589844780508429,1.9502074643969536,1.9866250839550048,2.0172218119259924,2.023412241367623,2.03001042525284,2.7044540082570165,2.041221441468224,2.0645421075168997,2.0759974408429116,2.753081736387685,2.793393782572821,2.7187563898041844,2.8365259335841984,2.7851162555161864,2.1074575663078576,2.117158909328282,2.861132353777066,2.1256470445077866,2.7771890375297517,3.0235288199037313,3.7568114439491183,3.040897672297433,3.7750347575638443,3.0996190109290183,3.103738369420171,3.827653664862737,3.855137668782845,3.135757596930489,3.8890853172633797,3.1449584879446775,3.8839604172389954,3.2263697118032724,3.2280839474406093,3.9680548498872668,3.967905637342483,3.2887503374367952,3.9960717419162393,3.3416742782574147,3.3470921863336116,4.135492687812075,4.06122006685473,3.384721393464133,3.387594603234902,4.174424023600295,4.126549917971715,3.416398785309866,4.099512450862676,3.4323173018638045,4.155446981312707,3.4740883198101074,4.274269635323435,3.504234663909301,4.2667723598424345,3.54254806204699,4.289101683301851,3.6118772653862834,3.614692155504599,4.376079476904124,4.358823120826855,4.490606484236196,5.217471685027704,4.509405218297616,5.261942834826186,4.555535892955959,5.2984051771927625,4.60527362045832,5.38506949483417,4.622155959019437,5.389902688330039,4.6442293133586645,5.37100894190371,4.704331414308399,4.707661937922239,4.709833612432703,5.51860137633048,5.40928811696358,5.446081873727962,4.776793163502589,4.782331316033378,5.514810886466876,5.519591240910813,4.864828530000523,5.582855663029477,4.875502205220982,5.561163906939328,4.9289193546865135,5.5989801494870335,4.964879484381527,5.6683010088745505,5.027016979875043,5.036926459288225,5.748423935379833,5.7907153747510165,5.067104644374922,5.8076651899609715,5.109315691282973,5.8650040628854185,5.137091715587303,5.9132660639006644,5.943563390756026,6.682181508978829,6.017255599377677,6.758401790866628,6.039205699460581,6.81449790741317,6.096179048297927,6.802011396503076,6.108802980510518,6.860764264361933,6.16166149196215,6.16812439984642,6.97510927147232,6.88676041434519,6.186691787326708,6.205087276408449,6.938501119380817,6.244594939285889,6.251344671938568,6.253417485393584,6.263574266340584,6.266843667021021,6.994741654954851,6.271660691360012,6.279603763716295,6.982834895374253,6.292956367367879,7.015403239289299,6.30735796620138,7.0483435455244035,6.325928445439786,6.3348417123779655,7.05431814189069,7.048440929735079,6.379464123630896,6.393327997298911,7.091769225895405,6.462286247406155,6.469043463235721,7.240902526304126,6.546855072490871,6.564509206917137,6.568181149894372,6.588017835980281,7.326850246405229,7.301624907413498,6.611344007542357,6.616430238587782,7.307408240856603,6.692095686448738,6.702108917525038,7.43237439985387,7.421436181059107,7.42371185682714,8.153873959323391,7.498095915419981,7.500702467514202,8.234619549941272,7.509524903027341,7.512329077580944,8.238065353827551,7.595484480960295,7.602670359425247,7.603194847470149,7.605058677960187,8.387857142835855,8.35370249231346,7.615765669383109,7.62135231657885,8.403834251919761,7.665371008450165,7.670501904794946,8.378679153276607,7.690120414132252,7.692142682848498,8.406453801551834,7.735118618933484,7.745309853227809,7.757969610858709,8.432558482978493,7.772164250956848,7.7796724564395845,7.7810608118306845,7.789267478743568,7.796478713396937,7.797969843959436,7.801620201440528,8.471577232005075,7.805211583850905,7.811099939281121,8.54304454359226,7.8182515513617545,7.827059949981049,8.51099736080505,8.568081886740401,8.624205505708233,8.569079592823982,8.003567491890863,8.009915697388351,8.010176681214944,8.010529537452385,8.010896812891588,8.013717193854973,8.741719459882006,8.665268662385643,8.711943610804155,8.071567863458768,8.08277712482959,8.852936750510707,8.163908561924472,8.170095889363438,8.920539919519797,8.885800242889673,8.889639485860243,9.657226017909124,8.9652860655915,8.968192140338942,8.968795042484999,9.737165223108605,8.974312987411395,9.74751667585224,9.094053078442812,9.102488993899897,9.103224528254941,9.107727329945192,9.850254134973511,9.896483025280759,9.117155291838571,9.121276841731742,9.122261041542515,9.124098822940141,9.859962587011978,9.856500074500218,9.157503940863535,9.164627936901525,9.910843786085024,9.184938258724287,9.200121416011825,9.2012343138922,9.226531001972035,9.995177671546116,9.236540877027437,9.256143362028524,10.035797165473923,9.950853866757825,9.286590308882296,9.299083980964497,9.30858501791954,10.04729892895557,9.315926763927564,9.321289550513029,9.323404979426414,9.330668699927628,10.125784251373261,9.338946506381035,10.117927331477404,9.361652553314343,10.162992327474058,9.415447959909216,9.42969911149703,9.436124825384468,9.44605465955101,9.456003995845094,10.192373276455328,10.162196673918515,9.47566611203365,9.481254594866186,10.256948201917112,9.620350502431393,9.630312185036018,9.636068549472839,10.386267608264461,9.669931829441339,9.671393099008128,9.672862116014585,10.457382557913661,10.42562331049703,10.429710076889023,10.433333988068625,11.178895380347967,10.507766687544063,10.513451780425385,10.516542815836146,10.517196255037561,10.517851612297818,11.31411219551228,10.52295755292289,11.277580013265833,10.592154092853889,10.596085073892027,10.598026565974578,10.59865526552312,10.599819712108001,10.602279340382665,10.603710078401491,10.605337508954108,10.61156610539183,11.306818085955456,11.392291909316555,11.386842132778838,10.642412795452401,10.645351256942376,10.650064187357202,11.41429398371838,10.660850516753271,10.670512406853959,10.677856465103105,10.688165000407025,11.46310706040822,10.701057143276557,10.715718218823895,11.44154282240197,10.795112909981981,10.798755017342046,10.806618383852765,10.809622163884342,10.811576046980917,10.818948964821175,11.49149483279325,10.821313693886623,11.62446186086163,10.835612621856853,10.846430864417925,11.530695743393153,10.867015496362,11.569449819391593,10.903416412416846,11.59966047341004,10.94331419444643,10.946780382888392,10.960148256039247,11.66792144230567,11.686019000830129,11.669966522837058,11.032608574954793,11.807401354191825,11.13911489606835,11.872247888939455,11.242724559968337,11.93881066236645,11.923997541423887,12.65446927328594,12.010727818356827,12.720204636454582,12.029847086407244,12.754659262718633,12.112171713961288,12.821422416018322,12.161839404841885,12.168744429247454,12.901805287925526,12.176529704825953,12.189960915362462,12.200709992321208,12.94658867153339,12.873579321429133,12.911309915827587,12.236099054804072,12.998174576787278,12.257432194892317,12.904805292841047,12.270381660899147,12.990097327856347,12.97418470052071,12.296569831902161,13.026314148446545,12.384453602368012,12.3970890364144,13.109912076266482,12.424188226927072,13.130421980051324,12.431409986456856,13.218225055374205,13.189217529958114,12.580036194762215,13.315754656447098,12.604678308824077,13.335773056373,12.634376734262332,13.364663332467899,13.385649449424818,14.025787617312744,13.42639551544562,14.089664240833372,13.47869117045775,14.11191846220754,13.529419597936794,14.181064499774948,13.551184215350077,13.555640381062403,13.560977136949077,13.56721214693971,14.179522118996829,13.57594616827555,13.584977595834062,14.196760842343792,13.620608999859542,13.622864443575963,13.623846930684522,14.229882585583255,13.63578393845819,13.637395846890286,13.64281821786426,14.291950987884775,13.683526622829959,13.695087530883029,13.704285932006314,13.71858600876294,14.339539934881032,13.725673227803782,13.738549855304882,13.752010030904785,13.758427059976384,13.761298918398097,13.77348646032624,14.354632616275921,13.7762818725314,13.77960838493891,14.37300926540047,13.786773341475055,13.789877925766632,13.79327111900784,14.395550996763632,14.38047845941037,13.829043324338272,13.84455658798106,13.855367422336712,13.862440404249355,13.873623481951654,14.446032161591575,13.891331906896085,14.465046457014978,13.939325216924772,13.942315600579605,13.943928907392547,14.484712591394782,13.99908909224905,14.001849525375292,14.004748071311042,14.053721995325759,14.058951630955562,14.064574248390272,14.064703507348895,14.068407146027312,14.075371617916971,14.094867973355576,14.097083946922794,14.09960732026957,14.668214055011049,14.673048780066893,14.674657380441204,14.745944524882361,14.748800627887249,14.750653678784147,14.753170979907736,14.753868062747642,14.754337719874457,14.796552550280467,14.801296768942848,14.809546552831307,14.811005929252133,14.816324280807748,14.817970361327752,14.834608248900622,14.83708115736954,14.838110211538151,14.839126403909177,14.840115153929219,14.840584504418075,14.947485962416977,14.954044110840186,14.963276113383472,14.96739362902008,14.967776789562777,14.97102594585158,14.972817151108757,14.97325726528652,14.973440850852057,14.976666079601273,14.986149273114279,14.98798048379831,14.991411386290565,14.994512452976778,15.000859476393089,15.00445096869953,15.016748025314882,15.022135093342513,15.022769349860027,15.022943902527913,15.024419003399089,15.026217827340588,15.027199720731005,15.02741386857815,15.02763750194572,15.027929768431932,15.028197040548548]],[\"y\",[19,19,20,20,19,20,19,20,19,20,17,18,3,13,12,2,11,14,15,16,9,10,1,4,6,5,8,7,18,18,17,17,16,16,19,19,15,14,15,14,13,12,13,12,11,20,10,11,9,20,10,9,6,4,3,8,2,6,1,7,5,4,3,8,2,1,7,5,7,5,5,18,18,17,17,19,16,19,16,14,14,15,15,11,13,11,13,10,10,9,12,9,12,20,8,20,8,6,6,5,5,4,4,1,1,3,3,7,2,7,2,18,18,17,17,19,19,16,16,15,15,14,14,10,13,11,10,13,11,12,6,12,6,8,8,5,5,9,9,20,20,1,3,1,3,4,4,2,2,7,7,18,18,17,17,19,19,14,14,13,13,15,16,15,16,11,11,11,5,12,5,6,12,5,9,6,12,9,6,8,9,8,10,8,10,20,20,20,1,1,1,3,4,3,4,3,4,2,2,2,7,7,7,18,18,18,17,17,17,14,14,14,19,16,19,16,19,16,13,13,13,11,11,11,12,12,12,5,5,6,5,10,6,8,15,10,9,20,6,8,15,10,9,20,8,15,9,20,2,1,4,2,1,4,2,1,4,3,3,3,7,7,7,18,18,18,14,14,17,14,17,17,11,16,11,16,11,16,5,12,5,12,5,12,6,6,6,19,13,19,8,19,13,8,13,8,10,10,20,10,15,20,1,15,20,1,15,1,1,4,9,4,9,4,9,4,2,2,2,3,3,3,3,7,7,7,7,18,18,18,18,14,14,17,14,17,14,17,17,12,5,11,12,5,11,12,5,11,12,5,11,8,8,8,8,6,6,6,16,6,16,16,16,19,10,19,10,19,10,19,13,10,13,13,13,4,4,15,15,20,9,1,20,9,1,2,2,3,3,7,7,18,18,12,12,17,17,14,14,11,16,11,19,8,5,16,19,8,13,5,6,13,4,6,4,15,15,1,20,1,9,20,10,9,10,2,2,3,3,7,7,18,18,12,12,17,17,14,14,13,13,13,19,13,19,19,19,8,8,8,8,11,11,11,11,4,4,4,6,4,16,6,16,6,15,16,6,5,15,16,5,15,5,15,5,1,1,20,1,20,1,20,20,10,10,10,10,9,9,9,9,2,9,2,3,2,9,3,2,7,9,3,2,18,7,9,3,17,2,18,7,12,9,3,17,13,2,19,18,7,12,9,3,14,8,17,13,2,19,18,7,11,6,12,16,4,5,9,3,14,8,17,13,2,19,18,7]],[\"function\",[\"<Task ('Atoms-concatenate-from-value-wrap_with_array-getitem-c5e998cf033f2b4f70369a491659d762', 3, 0) _execute_subgraph(...)>\",\"<Task ('Atoms-concatenate-from-value-wrap_with_array-getitem-c5e998cf033f2b4f70369a491659d762', 2, 0) _execute_subgraph(...)>\",\"<Task ('Atoms-concatenate-from-value-wrap_with_array-getitem-c5e998cf033f2b4f70369a491659d762', 1, 0) _execute_subgraph(...)>\",\"<Task ('Atoms-concatenate-from-value-wrap_with_array-getitem-c5e998cf033f2b4f70369a491659d762', 0, 0) _execute_subgraph(...)>\",\"Alias(('getitem-c5e998cf033f2b4f70369a491659d762', 3, 0)->('Atoms-concatenate-from-value-wrap_with_array-getitem-c5e998cf033f2b4f70369a491659d762', 3, 0))\",\"Alias(('getitem-c5e998cf033f2b4f70369a491659d762', 2, 0)->('Atoms-concatenate-from-value-wrap_with_array-getitem-c5e998cf033f2b4f70369a491659d762', 2, 0))\",\"Alias(('getitem-c5e998cf033f2b4f70369a491659d762', 1, 0)->('Atoms-concatenate-from-value-wrap_with_array-getitem-c5e998cf033f2b4f70369a491659d762', 1, 0))\",\"Alias(('getitem-c5e998cf033f2b4f70369a491659d762', 0, 0)->('Atoms-concatenate-from-value-wrap_with_array-getitem-c5e998cf033f2b4f70369a491659d762', 0, 0))\",\"<Task ('apply_transform-diffraction_pattern-getitem-integrate_fourier_space-mean_chunk-50c1667ba1c1655b5f32c316bc87f0d3', 3, 6, 6) _execute_subgraph(...)>\",\"<Task ('apply_transform-diffraction_pattern-getitem-integrate_fourier_space-mean_chunk-50c1667ba1c1655b5f32c316bc87f0d3', 3, 6, 4) _execute_subgraph(...)>\",\"<Task ('apply_transform-diffraction_pattern-getitem-integrate_fourier_space-mean_chunk-50c1667ba1c1655b5f32c316bc87f0d3', 3, 5, 2) _execute_subgraph(...)>\",\"<Task ('apply_transform-diffraction_pattern-getitem-integrate_fourier_space-mean_chunk-50c1667ba1c1655b5f32c316bc87f0d3', 3, 3, 5) _execute_subgraph(...)>\",\"<Task ('apply_transform-diffraction_pattern-getitem-integrate_fourier_space-mean_chunk-50c1667ba1c1655b5f32c316bc87f0d3', 3, 5, 5) _execute_subgraph(...)>\",\"<Task ('apply_transform-diffraction_pattern-getitem-integrate_fourier_space-mean_chunk-50c1667ba1c1655b5f32c316bc87f0d3', 3, 6, 1) _execute_subgraph(...)>\",\"<Task ('apply_transform-diffraction_pattern-getitem-integrate_fourier_space-mean_chunk-50c1667ba1c1655b5f32c316bc87f0d3', 3, 3, 2) _execute_subgraph(...)>\",\"<Task ('apply_transform-diffraction_pattern-getitem-integrate_fourier_space-mean_chunk-50c1667ba1c1655b5f32c316bc87f0d3', 3, 0, 6) _execute_subgraph(...)>\",\"<Task ('apply_transform-diffraction_pattern-getitem-integrate_fourier_space-mean_chunk-50c1667ba1c1655b5f32c316bc87f0d3', 3, 0, 0) _execute_subgraph(...)>\",\"<Task ('apply_transform-diffraction_pattern-getitem-integrate_fourier_space-mean_chunk-50c1667ba1c1655b5f32c316bc87f0d3', 3, 0, 3) _execute_subgraph(...)>\",\"<Task ('apply_transform-diffraction_pattern-getitem-integrate_fourier_space-mean_chunk-50c1667ba1c1655b5f32c316bc87f0d3', 3, 4, 4) _execute_subgraph(...)>\",\"<Task ('apply_transform-diffraction_pattern-getitem-integrate_fourier_space-mean_chunk-50c1667ba1c1655b5f32c316bc87f0d3', 3, 4, 1) _execute_subgraph(...)>\",\"<Task ('apply_transform-diffraction_pattern-getitem-integrate_fourier_space-mean_chunk-50c1667ba1c1655b5f32c316bc87f0d3', 3, 1, 2) _execute_subgraph(...)>\",\"<Task ('apply_transform-diffraction_pattern-getitem-integrate_fourier_space-mean_chunk-50c1667ba1c1655b5f32c316bc87f0d3', 3, 2, 4) _execute_subgraph(...)>\",\"<Task ('apply_transform-diffraction_pattern-getitem-integrate_fourier_space-mean_chunk-50c1667ba1c1655b5f32c316bc87f0d3', 3, 1, 5) _execute_subgraph(...)>\",\"<Task ('apply_transform-diffraction_pattern-getitem-integrate_fourier_space-mean_chunk-50c1667ba1c1655b5f32c316bc87f0d3', 3, 2, 1) _execute_subgraph(...)>\",\"<Task ('apply_transform-diffraction_pattern-getitem-integrate_fourier_space-mean_chunk-50c1667ba1c1655b5f32c316bc87f0d3', 3, 6, 5) _execute_subgraph(...)>\",\"<Task ('apply_transform-diffraction_pattern-getitem-integrate_fourier_space-mean_chunk-50c1667ba1c1655b5f32c316bc87f0d3', 2, 6, 6) _execute_subgraph(...)>\",\"<Task ('apply_transform-diffraction_pattern-getitem-integrate_fourier_space-mean_chunk-50c1667ba1c1655b5f32c316bc87f0d3', 1, 6, 6) _execute_subgraph(...)>\",\"<Task ('apply_transform-diffraction_pattern-getitem-integrate_fourier_space-mean_chunk-50c1667ba1c1655b5f32c316bc87f0d3', 0, 6, 6) _execute_subgraph(...)>\",\"Alias(('mean_chunk-50c1667ba1c1655b5f32c316bc87f0d3', 3, 3, 5)->('apply_transform-diffraction_pattern-getitem-integrate_fourier_space-mean_chunk-50c1667ba1c1655b5f32c316bc87f0d3', 3, 3, 5))\",\"<Task ('apply_transform-diffraction_pattern-getitem-integrate_fourier_space-mean_chunk-50c1667ba1c1655b5f32c316bc87f0d3', 0, 2, 1) _execute_subgraph(...)>\",\"Alias(('mean_chunk-50c1667ba1c1655b5f32c316bc87f0d3', 3, 5, 2)->('apply_transform-diffraction_pattern-getitem-integrate_fourier_space-mean_chunk-50c1667ba1c1655b5f32c316bc87f0d3', 3, 5, 2))\",\"<Task ('apply_transform-diffraction_pattern-getitem-integrate_fourier_space-mean_chunk-50c1667ba1c1655b5f32c316bc87f0d3', 0, 5, 3) _execute_subgraph(...)>\",\"Alias(('mean_chunk-50c1667ba1c1655b5f32c316bc87f0d3', 3, 4, 1)->('apply_transform-diffraction_pattern-getitem-integrate_fourier_space-mean_chunk-50c1667ba1c1655b5f32c316bc87f0d3', 3, 4, 1))\",\"<Task ('apply_transform-diffraction_pattern-getitem-integrate_fourier_space-mean_chunk-50c1667ba1c1655b5f32c316bc87f0d3', 0, 6, 5) _execute_subgraph(...)>\",\"Alias(('mean_chunk-50c1667ba1c1655b5f32c316bc87f0d3', 3, 6, 6)->('apply_transform-diffraction_pattern-getitem-integrate_fourier_space-mean_chunk-50c1667ba1c1655b5f32c316bc87f0d3', 3, 6, 6))\",\"<Task ('apply_transform-diffraction_pattern-getitem-integrate_fourier_space-mean_chunk-50c1667ba1c1655b5f32c316bc87f0d3', 0, 5, 6) _execute_subgraph(...)>\",\"Alias(('mean_chunk-50c1667ba1c1655b5f32c316bc87f0d3', 3, 4, 4)->('apply_transform-diffraction_pattern-getitem-integrate_fourier_space-mean_chunk-50c1667ba1c1655b5f32c316bc87f0d3', 3, 4, 4))\",\"Alias(('mean_chunk-50c1667ba1c1655b5f32c316bc87f0d3', 3, 0, 3)->('apply_transform-diffraction_pattern-getitem-integrate_fourier_space-mean_chunk-50c1667ba1c1655b5f32c316bc87f0d3', 3, 0, 3))\",\"<Task ('apply_transform-diffraction_pattern-getitem-integrate_fourier_space-mean_chunk-50c1667ba1c1655b5f32c316bc87f0d3', 0, 5, 0) _execute_subgraph(...)>\",\"<Task ('apply_transform-diffraction_pattern-getitem-integrate_fourier_space-mean_chunk-50c1667ba1c1655b5f32c316bc87f0d3', 0, 6, 2) _execute_subgraph(...)>\",\"Alias(('mean_chunk-50c1667ba1c1655b5f32c316bc87f0d3', 3, 6, 1)->('apply_transform-diffraction_pattern-getitem-integrate_fourier_space-mean_chunk-50c1667ba1c1655b5f32c316bc87f0d3', 3, 6, 1))\",\"Alias(('mean_chunk-50c1667ba1c1655b5f32c316bc87f0d3', 3, 3, 2)->('apply_transform-diffraction_pattern-getitem-integrate_fourier_space-mean_chunk-50c1667ba1c1655b5f32c316bc87f0d3', 3, 3, 2))\",\"<Task ('apply_transform-diffraction_pattern-getitem-integrate_fourier_space-mean_chunk-50c1667ba1c1655b5f32c316bc87f0d3', 0, 1, 3) _execute_subgraph(...)>\",\"<Task ('apply_transform-diffraction_pattern-getitem-integrate_fourier_space-mean_chunk-50c1667ba1c1655b5f32c316bc87f0d3', 0, 0, 4) _execute_subgraph(...)>\",\"Alias(('mean_chunk-50c1667ba1c1655b5f32c316bc87f0d3', 3, 0, 0)->('apply_transform-diffraction_pattern-getitem-integrate_fourier_space-mean_chunk-50c1667ba1c1655b5f32c316bc87f0d3', 3, 0, 0))\",\"Alias(('mean_chunk-50c1667ba1c1655b5f32c316bc87f0d3', 3, 6, 4)->('apply_transform-diffraction_pattern-getitem-integrate_fourier_space-mean_chunk-50c1667ba1c1655b5f32c316bc87f0d3', 3, 6, 4))\",\"Alias(('mean_chunk-50c1667ba1c1655b5f32c316bc87f0d3', 3, 2, 4)->('apply_transform-diffraction_pattern-getitem-integrate_fourier_space-mean_chunk-50c1667ba1c1655b5f32c316bc87f0d3', 3, 2, 4))\",\"<Task ('apply_transform-diffraction_pattern-getitem-integrate_fourier_space-mean_chunk-50c1667ba1c1655b5f32c316bc87f0d3', 0, 1, 6) _execute_subgraph(...)>\",\"Alias(('mean_chunk-50c1667ba1c1655b5f32c316bc87f0d3', 3, 1, 2)->('apply_transform-diffraction_pattern-getitem-integrate_fourier_space-mean_chunk-50c1667ba1c1655b5f32c316bc87f0d3', 3, 1, 2))\",\"<Task ('apply_transform-diffraction_pattern-getitem-integrate_fourier_space-mean_chunk-50c1667ba1c1655b5f32c316bc87f0d3', 0, 1, 0) _execute_subgraph(...)>\",\"<Task ('apply_transform-diffraction_pattern-getitem-integrate_fourier_space-mean_chunk-50c1667ba1c1655b5f32c316bc87f0d3', 0, 0, 1) _execute_subgraph(...)>\",\"<Task ('apply_transform-diffraction_pattern-getitem-integrate_fourier_space-mean_chunk-50c1667ba1c1655b5f32c316bc87f0d3', 0, 4, 5) _execute_subgraph(...)>\",\"Alias(('mean_chunk-50c1667ba1c1655b5f32c316bc87f0d3', 3, 6, 5)->('apply_transform-diffraction_pattern-getitem-integrate_fourier_space-mean_chunk-50c1667ba1c1655b5f32c316bc87f0d3', 3, 6, 5))\",\"Alias(('mean_chunk-50c1667ba1c1655b5f32c316bc87f0d3', 3, 2, 1)->('apply_transform-diffraction_pattern-getitem-integrate_fourier_space-mean_chunk-50c1667ba1c1655b5f32c316bc87f0d3', 3, 2, 1))\",\"Alias(('mean_chunk-50c1667ba1c1655b5f32c316bc87f0d3', 3, 5, 5)->('apply_transform-diffraction_pattern-getitem-integrate_fourier_space-mean_chunk-50c1667ba1c1655b5f32c316bc87f0d3', 3, 5, 5))\",\"Alias(('mean_chunk-50c1667ba1c1655b5f32c316bc87f0d3', 1, 6, 6)->('apply_transform-diffraction_pattern-getitem-integrate_fourier_space-mean_chunk-50c1667ba1c1655b5f32c316bc87f0d3', 1, 6, 6))\",\"Alias(('mean_chunk-50c1667ba1c1655b5f32c316bc87f0d3', 3, 0, 6)->('apply_transform-diffraction_pattern-getitem-integrate_fourier_space-mean_chunk-50c1667ba1c1655b5f32c316bc87f0d3', 3, 0, 6))\",\"<Task ('apply_transform-diffraction_pattern-getitem-integrate_fourier_space-mean_chunk-50c1667ba1c1655b5f32c316bc87f0d3', 0, 3, 6) _execute_subgraph(...)>\",\"Alias(('mean_chunk-50c1667ba1c1655b5f32c316bc87f0d3', 3, 1, 5)->('apply_transform-diffraction_pattern-getitem-integrate_fourier_space-mean_chunk-50c1667ba1c1655b5f32c316bc87f0d3', 3, 1, 5))\",\"Alias(('mean_chunk-50c1667ba1c1655b5f32c316bc87f0d3', 0, 6, 6)->('apply_transform-diffraction_pattern-getitem-integrate_fourier_space-mean_chunk-50c1667ba1c1655b5f32c316bc87f0d3', 0, 6, 6))\",\"Alias(('mean_chunk-50c1667ba1c1655b5f32c316bc87f0d3', 2, 6, 6)->('apply_transform-diffraction_pattern-getitem-integrate_fourier_space-mean_chunk-50c1667ba1c1655b5f32c316bc87f0d3', 2, 6, 6))\",\"<Task ('apply_transform-diffraction_pattern-getitem-integrate_fourier_space-mean_chunk-50c1667ba1c1655b5f32c316bc87f0d3', 0, 3, 0) _execute_subgraph(...)>\",\"<Task ('apply_transform-diffraction_pattern-getitem-integrate_fourier_space-mean_chunk-50c1667ba1c1655b5f32c316bc87f0d3', 0, 4, 2) _execute_subgraph(...)>\",\"<Task ('apply_transform-diffraction_pattern-getitem-integrate_fourier_space-mean_chunk-50c1667ba1c1655b5f32c316bc87f0d3', 0, 2, 5) _execute_subgraph(...)>\",\"<Task ('apply_transform-diffraction_pattern-getitem-integrate_fourier_space-mean_chunk-50c1667ba1c1655b5f32c316bc87f0d3', 0, 3, 3) _execute_subgraph(...)>\",\"<Task ('apply_transform-diffraction_pattern-getitem-integrate_fourier_space-mean_chunk-50c1667ba1c1655b5f32c316bc87f0d3', 0, 2, 2) _execute_subgraph(...)>\",\"<Task ('mean_combine-partial-d2adc60119093c72a261f4d86a6aef6a', 0, 6, 6) mean_combine(...)>\",\"<Task ('mean_combine-partial-d2adc60119093c72a261f4d86a6aef6a', 1, 6, 6) mean_combine(...)>\",\"<Task ('apply_transform-diffraction_pattern-getitem-integrate_fourier_space-mean_chunk-50c1667ba1c1655b5f32c316bc87f0d3', 0, 6, 3) _execute_subgraph(...)>\",\"<Task ('mean_agg-aggregate-74a08e76432add30879056ee5b013a32', 6, 6) mean_agg(...)>\",\"<Task ('apply_transform-diffraction_pattern-getitem-integrate_fourier_space-mean_chunk-50c1667ba1c1655b5f32c316bc87f0d3', 0, 5, 4) _execute_subgraph(...)>\",\"Alias(('mean_chunk-50c1667ba1c1655b5f32c316bc87f0d3', 0, 2, 1)->('apply_transform-diffraction_pattern-getitem-integrate_fourier_space-mean_chunk-50c1667ba1c1655b5f32c316bc87f0d3', 0, 2, 1))\",\"<Task ('apply_transform-diffraction_pattern-getitem-integrate_fourier_space-mean_chunk-50c1667ba1c1655b5f32c316bc87f0d3', 0, 6, 0) _execute_subgraph(...)>\",\"Alias(('mean_chunk-50c1667ba1c1655b5f32c316bc87f0d3', 0, 5, 3)->('apply_transform-diffraction_pattern-getitem-integrate_fourier_space-mean_chunk-50c1667ba1c1655b5f32c316bc87f0d3', 0, 5, 3))\",\"<Task ('apply_transform-diffraction_pattern-getitem-integrate_fourier_space-mean_chunk-50c1667ba1c1655b5f32c316bc87f0d3', 0, 5, 1) _execute_subgraph(...)>\",\"Alias(('mean_chunk-50c1667ba1c1655b5f32c316bc87f0d3', 0, 5, 6)->('apply_transform-diffraction_pattern-getitem-integrate_fourier_space-mean_chunk-50c1667ba1c1655b5f32c316bc87f0d3', 0, 5, 6))\",\"Alias(('mean_chunk-50c1667ba1c1655b5f32c316bc87f0d3', 0, 6, 5)->('apply_transform-diffraction_pattern-getitem-integrate_fourier_space-mean_chunk-50c1667ba1c1655b5f32c316bc87f0d3', 0, 6, 5))\",\"<Task ('apply_transform-diffraction_pattern-getitem-integrate_fourier_space-mean_chunk-50c1667ba1c1655b5f32c316bc87f0d3', 0, 0, 5) _execute_subgraph(...)>\",\"<Task ('apply_transform-diffraction_pattern-getitem-integrate_fourier_space-mean_chunk-50c1667ba1c1655b5f32c316bc87f0d3', 0, 1, 1) _execute_subgraph(...)>\",\"Alias(('mean_chunk-50c1667ba1c1655b5f32c316bc87f0d3', 0, 6, 2)->('apply_transform-diffraction_pattern-getitem-integrate_fourier_space-mean_chunk-50c1667ba1c1655b5f32c316bc87f0d3', 0, 6, 2))\",\"<Task ('apply_transform-diffraction_pattern-getitem-integrate_fourier_space-mean_chunk-50c1667ba1c1655b5f32c316bc87f0d3', 0, 0, 2) _execute_subgraph(...)>\",\"Alias(('mean_chunk-50c1667ba1c1655b5f32c316bc87f0d3', 0, 5, 0)->('apply_transform-diffraction_pattern-getitem-integrate_fourier_space-mean_chunk-50c1667ba1c1655b5f32c316bc87f0d3', 0, 5, 0))\",\"<Task ('apply_transform-diffraction_pattern-getitem-integrate_fourier_space-mean_chunk-50c1667ba1c1655b5f32c316bc87f0d3', 0, 1, 4) _execute_subgraph(...)>\",\"Alias(('mean_chunk-50c1667ba1c1655b5f32c316bc87f0d3', 0, 1, 6)->('apply_transform-diffraction_pattern-getitem-integrate_fourier_space-mean_chunk-50c1667ba1c1655b5f32c316bc87f0d3', 0, 1, 6))\",\"Alias(('mean_chunk-50c1667ba1c1655b5f32c316bc87f0d3', 0, 1, 3)->('apply_transform-diffraction_pattern-getitem-integrate_fourier_space-mean_chunk-50c1667ba1c1655b5f32c316bc87f0d3', 0, 1, 3))\",\"<Task ('apply_transform-diffraction_pattern-getitem-integrate_fourier_space-mean_chunk-50c1667ba1c1655b5f32c316bc87f0d3', 0, 4, 3) _execute_subgraph(...)>\",\"<Task ('apply_transform-diffraction_pattern-getitem-integrate_fourier_space-mean_chunk-50c1667ba1c1655b5f32c316bc87f0d3', 0, 3, 4) _execute_subgraph(...)>\",\"Alias(('mean_chunk-50c1667ba1c1655b5f32c316bc87f0d3', 0, 0, 1)->('apply_transform-diffraction_pattern-getitem-integrate_fourier_space-mean_chunk-50c1667ba1c1655b5f32c316bc87f0d3', 0, 0, 1))\",\"<Task ('apply_transform-diffraction_pattern-getitem-integrate_fourier_space-mean_chunk-50c1667ba1c1655b5f32c316bc87f0d3', 0, 4, 6) _execute_subgraph(...)>\",\"Alias(('mean_chunk-50c1667ba1c1655b5f32c316bc87f0d3', 0, 4, 5)->('apply_transform-diffraction_pattern-getitem-integrate_fourier_space-mean_chunk-50c1667ba1c1655b5f32c316bc87f0d3', 0, 4, 5))\",\"Alias(('mean_chunk-50c1667ba1c1655b5f32c316bc87f0d3', 0, 0, 4)->('apply_transform-diffraction_pattern-getitem-integrate_fourier_space-mean_chunk-50c1667ba1c1655b5f32c316bc87f0d3', 0, 0, 4))\",\"<Task ('apply_transform-diffraction_pattern-getitem-integrate_fourier_space-mean_chunk-50c1667ba1c1655b5f32c316bc87f0d3', 0, 4, 0) _execute_subgraph(...)>\",\"<Task ('apply_transform-diffraction_pattern-getitem-integrate_fourier_space-mean_chunk-50c1667ba1c1655b5f32c316bc87f0d3', 0, 2, 3) _execute_subgraph(...)>\",\"Alias(('mean_chunk-50c1667ba1c1655b5f32c316bc87f0d3', 0, 1, 0)->('apply_transform-diffraction_pattern-getitem-integrate_fourier_space-mean_chunk-50c1667ba1c1655b5f32c316bc87f0d3', 0, 1, 0))\",\"Alias(('mean_chunk-50c1667ba1c1655b5f32c316bc87f0d3', 0, 2, 5)->('apply_transform-diffraction_pattern-getitem-integrate_fourier_space-mean_chunk-50c1667ba1c1655b5f32c316bc87f0d3', 0, 2, 5))\",\"<Task ('apply_transform-diffraction_pattern-getitem-integrate_fourier_space-mean_chunk-50c1667ba1c1655b5f32c316bc87f0d3', 0, 3, 1) _execute_subgraph(...)>\",\"<Task ('apply_transform-diffraction_pattern-getitem-integrate_fourier_space-mean_chunk-50c1667ba1c1655b5f32c316bc87f0d3', 0, 2, 6) _execute_subgraph(...)>\",\"Alias(('mean_chunk-50c1667ba1c1655b5f32c316bc87f0d3', 0, 3, 6)->('apply_transform-diffraction_pattern-getitem-integrate_fourier_space-mean_chunk-50c1667ba1c1655b5f32c316bc87f0d3', 0, 3, 6))\",\"<Task ('apply_transform-diffraction_pattern-getitem-integrate_fourier_space-mean_chunk-50c1667ba1c1655b5f32c316bc87f0d3', 0, 2, 0) _execute_subgraph(...)>\",\"Alias(('mean_chunk-50c1667ba1c1655b5f32c316bc87f0d3', 0, 5, 4)->('apply_transform-diffraction_pattern-getitem-integrate_fourier_space-mean_chunk-50c1667ba1c1655b5f32c316bc87f0d3', 0, 5, 4))\",\"<Task ('apply_transform-diffraction_pattern-getitem-integrate_fourier_space-mean_chunk-50c1667ba1c1655b5f32c316bc87f0d3', 0, 5, 5) _execute_subgraph(...)>\",\"Alias(('mean_chunk-50c1667ba1c1655b5f32c316bc87f0d3', 0, 3, 0)->('apply_transform-diffraction_pattern-getitem-integrate_fourier_space-mean_chunk-50c1667ba1c1655b5f32c316bc87f0d3', 0, 3, 0))\",\"<Task ('apply_transform-diffraction_pattern-getitem-integrate_fourier_space-mean_chunk-50c1667ba1c1655b5f32c316bc87f0d3', 0, 6, 1) _execute_subgraph(...)>\",\"Alias(('mean_chunk-50c1667ba1c1655b5f32c316bc87f0d3', 0, 2, 2)->('apply_transform-diffraction_pattern-getitem-integrate_fourier_space-mean_chunk-50c1667ba1c1655b5f32c316bc87f0d3', 0, 2, 2))\",\"<Task ('apply_transform-diffraction_pattern-getitem-integrate_fourier_space-mean_chunk-50c1667ba1c1655b5f32c316bc87f0d3', 0, 5, 2) _execute_subgraph(...)>\",\"Alias(('mean_chunk-50c1667ba1c1655b5f32c316bc87f0d3', 0, 4, 2)->('apply_transform-diffraction_pattern-getitem-integrate_fourier_space-mean_chunk-50c1667ba1c1655b5f32c316bc87f0d3', 0, 4, 2))\",\"<Task ('apply_transform-diffraction_pattern-getitem-integrate_fourier_space-mean_chunk-50c1667ba1c1655b5f32c316bc87f0d3', 0, 6, 4) _execute_subgraph(...)>\",\"Alias(('mean_chunk-50c1667ba1c1655b5f32c316bc87f0d3', 0, 6, 3)->('apply_transform-diffraction_pattern-getitem-integrate_fourier_space-mean_chunk-50c1667ba1c1655b5f32c316bc87f0d3', 0, 6, 3))\",\"Alias(('mean_chunk-50c1667ba1c1655b5f32c316bc87f0d3', 0, 3, 3)->('apply_transform-diffraction_pattern-getitem-integrate_fourier_space-mean_chunk-50c1667ba1c1655b5f32c316bc87f0d3', 0, 3, 3))\",\"<Task ('apply_transform-diffraction_pattern-getitem-integrate_fourier_space-mean_chunk-50c1667ba1c1655b5f32c316bc87f0d3', 0, 0, 3) _execute_subgraph(...)>\",\"<Task ('apply_transform-diffraction_pattern-getitem-integrate_fourier_space-mean_chunk-50c1667ba1c1655b5f32c316bc87f0d3', 0, 1, 5) _execute_subgraph(...)>\",\"Alias(('mean_chunk-50c1667ba1c1655b5f32c316bc87f0d3', 0, 6, 0)->('apply_transform-diffraction_pattern-getitem-integrate_fourier_space-mean_chunk-50c1667ba1c1655b5f32c316bc87f0d3', 0, 6, 0))\",\"<Task ('apply_transform-diffraction_pattern-getitem-integrate_fourier_space-mean_chunk-50c1667ba1c1655b5f32c316bc87f0d3', 0, 0, 6) _execute_subgraph(...)>\",\"Alias(('mean_chunk-50c1667ba1c1655b5f32c316bc87f0d3', 0, 5, 1)->('apply_transform-diffraction_pattern-getitem-integrate_fourier_space-mean_chunk-50c1667ba1c1655b5f32c316bc87f0d3', 0, 5, 1))\",\"<Task ('apply_transform-diffraction_pattern-getitem-integrate_fourier_space-mean_chunk-50c1667ba1c1655b5f32c316bc87f0d3', 0, 0, 0) _execute_subgraph(...)>\",\"Alias(('mean_chunk-50c1667ba1c1655b5f32c316bc87f0d3', 0, 0, 5)->('apply_transform-diffraction_pattern-getitem-integrate_fourier_space-mean_chunk-50c1667ba1c1655b5f32c316bc87f0d3', 0, 0, 5))\",\"<Task ('apply_transform-diffraction_pattern-getitem-integrate_fourier_space-mean_chunk-50c1667ba1c1655b5f32c316bc87f0d3', 0, 1, 2) _execute_subgraph(...)>\",\"Alias(('mean_chunk-50c1667ba1c1655b5f32c316bc87f0d3', 0, 1, 1)->('apply_transform-diffraction_pattern-getitem-integrate_fourier_space-mean_chunk-50c1667ba1c1655b5f32c316bc87f0d3', 0, 1, 1))\",\"<Task ('apply_transform-diffraction_pattern-getitem-integrate_fourier_space-mean_chunk-50c1667ba1c1655b5f32c316bc87f0d3', 0, 3, 5) _execute_subgraph(...)>\",\"Alias(('mean_chunk-50c1667ba1c1655b5f32c316bc87f0d3', 0, 1, 4)->('apply_transform-diffraction_pattern-getitem-integrate_fourier_space-mean_chunk-50c1667ba1c1655b5f32c316bc87f0d3', 0, 1, 4))\",\"<Task ('apply_transform-diffraction_pattern-getitem-integrate_fourier_space-mean_chunk-50c1667ba1c1655b5f32c316bc87f0d3', 0, 3, 2) _execute_subgraph(...)>\",\"Alias(('mean_chunk-50c1667ba1c1655b5f32c316bc87f0d3', 0, 0, 2)->('apply_transform-diffraction_pattern-getitem-integrate_fourier_space-mean_chunk-50c1667ba1c1655b5f32c316bc87f0d3', 0, 0, 2))\",\"<Task ('apply_transform-diffraction_pattern-getitem-integrate_fourier_space-mean_chunk-50c1667ba1c1655b5f32c316bc87f0d3', 0, 4, 4) _execute_subgraph(...)>\",\"Alias(('mean_chunk-50c1667ba1c1655b5f32c316bc87f0d3', 0, 4, 6)->('apply_transform-diffraction_pattern-getitem-integrate_fourier_space-mean_chunk-50c1667ba1c1655b5f32c316bc87f0d3', 0, 4, 6))\",\"Alias(('mean_chunk-50c1667ba1c1655b5f32c316bc87f0d3', 0, 3, 4)->('apply_transform-diffraction_pattern-getitem-integrate_fourier_space-mean_chunk-50c1667ba1c1655b5f32c316bc87f0d3', 0, 3, 4))\",\"Alias(('mean_chunk-50c1667ba1c1655b5f32c316bc87f0d3', 0, 4, 3)->('apply_transform-diffraction_pattern-getitem-integrate_fourier_space-mean_chunk-50c1667ba1c1655b5f32c316bc87f0d3', 0, 4, 3))\",\"<Task ('apply_transform-diffraction_pattern-getitem-integrate_fourier_space-mean_chunk-50c1667ba1c1655b5f32c316bc87f0d3', 0, 4, 1) _execute_subgraph(...)>\",\"<Task ('apply_transform-diffraction_pattern-getitem-integrate_fourier_space-mean_chunk-50c1667ba1c1655b5f32c316bc87f0d3', 0, 2, 4) _execute_subgraph(...)>\",\"<Task ('apply_transform-diffraction_pattern-getitem-integrate_fourier_space-mean_chunk-50c1667ba1c1655b5f32c316bc87f0d3', 1, 2, 1) _execute_subgraph(...)>\",\"Alias(('mean_chunk-50c1667ba1c1655b5f32c316bc87f0d3', 0, 2, 3)->('apply_transform-diffraction_pattern-getitem-integrate_fourier_space-mean_chunk-50c1667ba1c1655b5f32c316bc87f0d3', 0, 2, 3))\",\"Alias(('mean_chunk-50c1667ba1c1655b5f32c316bc87f0d3', 0, 2, 0)->('apply_transform-diffraction_pattern-getitem-integrate_fourier_space-mean_chunk-50c1667ba1c1655b5f32c316bc87f0d3', 0, 2, 0))\",\"<Task ('apply_transform-diffraction_pattern-getitem-integrate_fourier_space-mean_chunk-50c1667ba1c1655b5f32c316bc87f0d3', 1, 5, 3) _execute_subgraph(...)>\",\"<Task ('apply_transform-diffraction_pattern-getitem-integrate_fourier_space-mean_chunk-50c1667ba1c1655b5f32c316bc87f0d3', 1, 6, 5) _execute_subgraph(...)>\",\"Alias(('mean_chunk-50c1667ba1c1655b5f32c316bc87f0d3', 0, 2, 6)->('apply_transform-diffraction_pattern-getitem-integrate_fourier_space-mean_chunk-50c1667ba1c1655b5f32c316bc87f0d3', 0, 2, 6))\",\"<Task ('apply_transform-diffraction_pattern-getitem-integrate_fourier_space-mean_chunk-50c1667ba1c1655b5f32c316bc87f0d3', 1, 5, 6) _execute_subgraph(...)>\",\"Alias(('mean_chunk-50c1667ba1c1655b5f32c316bc87f0d3', 0, 5, 5)->('apply_transform-diffraction_pattern-getitem-integrate_fourier_space-mean_chunk-50c1667ba1c1655b5f32c316bc87f0d3', 0, 5, 5))\",\"<Task ('apply_transform-diffraction_pattern-getitem-integrate_fourier_space-mean_chunk-50c1667ba1c1655b5f32c316bc87f0d3', 1, 5, 0) _execute_subgraph(...)>\",\"Alias(('mean_chunk-50c1667ba1c1655b5f32c316bc87f0d3', 0, 4, 0)->('apply_transform-diffraction_pattern-getitem-integrate_fourier_space-mean_chunk-50c1667ba1c1655b5f32c316bc87f0d3', 0, 4, 0))\",\"<Task ('apply_transform-diffraction_pattern-getitem-integrate_fourier_space-mean_chunk-50c1667ba1c1655b5f32c316bc87f0d3', 1, 6, 2) _execute_subgraph(...)>\",\"Alias(('mean_chunk-50c1667ba1c1655b5f32c316bc87f0d3', 0, 3, 1)->('apply_transform-diffraction_pattern-getitem-integrate_fourier_space-mean_chunk-50c1667ba1c1655b5f32c316bc87f0d3', 0, 3, 1))\",\"<Task ('apply_transform-diffraction_pattern-getitem-integrate_fourier_space-mean_chunk-50c1667ba1c1655b5f32c316bc87f0d3', 1, 1, 3) _execute_subgraph(...)>\",\"Alias(('mean_chunk-50c1667ba1c1655b5f32c316bc87f0d3', 0, 5, 2)->('apply_transform-diffraction_pattern-getitem-integrate_fourier_space-mean_chunk-50c1667ba1c1655b5f32c316bc87f0d3', 0, 5, 2))\",\"Alias(('mean_chunk-50c1667ba1c1655b5f32c316bc87f0d3', 0, 6, 4)->('apply_transform-diffraction_pattern-getitem-integrate_fourier_space-mean_chunk-50c1667ba1c1655b5f32c316bc87f0d3', 0, 6, 4))\",\"<Task ('apply_transform-diffraction_pattern-getitem-integrate_fourier_space-mean_chunk-50c1667ba1c1655b5f32c316bc87f0d3', 1, 0, 4) _execute_subgraph(...)>\",\"<Task ('apply_transform-diffraction_pattern-getitem-integrate_fourier_space-mean_chunk-50c1667ba1c1655b5f32c316bc87f0d3', 1, 1, 6) _execute_subgraph(...)>\",\"Alias(('mean_chunk-50c1667ba1c1655b5f32c316bc87f0d3', 0, 6, 1)->('apply_transform-diffraction_pattern-getitem-integrate_fourier_space-mean_chunk-50c1667ba1c1655b5f32c316bc87f0d3', 0, 6, 1))\",\"<Task ('apply_transform-diffraction_pattern-getitem-integrate_fourier_space-mean_chunk-50c1667ba1c1655b5f32c316bc87f0d3', 1, 1, 0) _execute_subgraph(...)>\",\"Alias(('mean_chunk-50c1667ba1c1655b5f32c316bc87f0d3', 0, 1, 5)->('apply_transform-diffraction_pattern-getitem-integrate_fourier_space-mean_chunk-50c1667ba1c1655b5f32c316bc87f0d3', 0, 1, 5))\",\"<Task ('apply_transform-diffraction_pattern-getitem-integrate_fourier_space-mean_chunk-50c1667ba1c1655b5f32c316bc87f0d3', 1, 0, 1) _execute_subgraph(...)>\",\"Alias(('mean_chunk-50c1667ba1c1655b5f32c316bc87f0d3', 0, 0, 3)->('apply_transform-diffraction_pattern-getitem-integrate_fourier_space-mean_chunk-50c1667ba1c1655b5f32c316bc87f0d3', 0, 0, 3))\",\"<Task ('apply_transform-diffraction_pattern-getitem-integrate_fourier_space-mean_chunk-50c1667ba1c1655b5f32c316bc87f0d3', 1, 4, 5) _execute_subgraph(...)>\",\"Alias(('mean_chunk-50c1667ba1c1655b5f32c316bc87f0d3', 0, 0, 6)->('apply_transform-diffraction_pattern-getitem-integrate_fourier_space-mean_chunk-50c1667ba1c1655b5f32c316bc87f0d3', 0, 0, 6))\",\"<Task ('apply_transform-diffraction_pattern-getitem-integrate_fourier_space-mean_chunk-50c1667ba1c1655b5f32c316bc87f0d3', 1, 3, 6) _execute_subgraph(...)>\",\"Alias(('mean_chunk-50c1667ba1c1655b5f32c316bc87f0d3', 0, 0, 0)->('apply_transform-diffraction_pattern-getitem-integrate_fourier_space-mean_chunk-50c1667ba1c1655b5f32c316bc87f0d3', 0, 0, 0))\",\"<Task ('apply_transform-diffraction_pattern-getitem-integrate_fourier_space-mean_chunk-50c1667ba1c1655b5f32c316bc87f0d3', 1, 3, 0) _execute_subgraph(...)>\",\"Alias(('mean_chunk-50c1667ba1c1655b5f32c316bc87f0d3', 0, 1, 2)->('apply_transform-diffraction_pattern-getitem-integrate_fourier_space-mean_chunk-50c1667ba1c1655b5f32c316bc87f0d3', 0, 1, 2))\",\"<Task ('apply_transform-diffraction_pattern-getitem-integrate_fourier_space-mean_chunk-50c1667ba1c1655b5f32c316bc87f0d3', 1, 4, 2) _execute_subgraph(...)>\",\"Alias(('mean_chunk-50c1667ba1c1655b5f32c316bc87f0d3', 0, 4, 4)->('apply_transform-diffraction_pattern-getitem-integrate_fourier_space-mean_chunk-50c1667ba1c1655b5f32c316bc87f0d3', 0, 4, 4))\",\"<Task ('apply_transform-diffraction_pattern-getitem-integrate_fourier_space-mean_chunk-50c1667ba1c1655b5f32c316bc87f0d3', 1, 2, 5) _execute_subgraph(...)>\",\"Alias(('mean_chunk-50c1667ba1c1655b5f32c316bc87f0d3', 0, 2, 4)->('apply_transform-diffraction_pattern-getitem-integrate_fourier_space-mean_chunk-50c1667ba1c1655b5f32c316bc87f0d3', 0, 2, 4))\",\"<Task ('apply_transform-diffraction_pattern-getitem-integrate_fourier_space-mean_chunk-50c1667ba1c1655b5f32c316bc87f0d3', 1, 3, 3) _execute_subgraph(...)>\",\"Alias(('mean_chunk-50c1667ba1c1655b5f32c316bc87f0d3', 0, 3, 2)->('apply_transform-diffraction_pattern-getitem-integrate_fourier_space-mean_chunk-50c1667ba1c1655b5f32c316bc87f0d3', 0, 3, 2))\",\"Alias(('mean_chunk-50c1667ba1c1655b5f32c316bc87f0d3', 0, 3, 5)->('apply_transform-diffraction_pattern-getitem-integrate_fourier_space-mean_chunk-50c1667ba1c1655b5f32c316bc87f0d3', 0, 3, 5))\",\"<Task ('apply_transform-diffraction_pattern-getitem-integrate_fourier_space-mean_chunk-50c1667ba1c1655b5f32c316bc87f0d3', 1, 2, 2) _execute_subgraph(...)>\",\"<Task ('apply_transform-diffraction_pattern-getitem-integrate_fourier_space-mean_chunk-50c1667ba1c1655b5f32c316bc87f0d3', 1, 6, 3) _execute_subgraph(...)>\",\"Alias(('mean_chunk-50c1667ba1c1655b5f32c316bc87f0d3', 1, 2, 1)->('apply_transform-diffraction_pattern-getitem-integrate_fourier_space-mean_chunk-50c1667ba1c1655b5f32c316bc87f0d3', 1, 2, 1))\",\"<Task ('mean_combine-partial-d2adc60119093c72a261f4d86a6aef6a', 0, 2, 1) mean_combine(...)>\",\"<Task ('apply_transform-diffraction_pattern-getitem-integrate_fourier_space-mean_chunk-50c1667ba1c1655b5f32c316bc87f0d3', 1, 5, 4) _execute_subgraph(...)>\",\"Alias(('mean_chunk-50c1667ba1c1655b5f32c316bc87f0d3', 1, 5, 0)->('apply_transform-diffraction_pattern-getitem-integrate_fourier_space-mean_chunk-50c1667ba1c1655b5f32c316bc87f0d3', 1, 5, 0))\",\"Alias(('mean_chunk-50c1667ba1c1655b5f32c316bc87f0d3', 1, 5, 3)->('apply_transform-diffraction_pattern-getitem-integrate_fourier_space-mean_chunk-50c1667ba1c1655b5f32c316bc87f0d3', 1, 5, 3))\",\"<Task ('mean_combine-partial-d2adc60119093c72a261f4d86a6aef6a', 0, 5, 0) mean_combine(...)>\",\"Alias(('mean_chunk-50c1667ba1c1655b5f32c316bc87f0d3', 1, 6, 5)->('apply_transform-diffraction_pattern-getitem-integrate_fourier_space-mean_chunk-50c1667ba1c1655b5f32c316bc87f0d3', 1, 6, 5))\",\"<Task ('mean_combine-partial-d2adc60119093c72a261f4d86a6aef6a', 0, 5, 3) mean_combine(...)>\",\"<Task ('apply_transform-diffraction_pattern-getitem-integrate_fourier_space-mean_chunk-50c1667ba1c1655b5f32c316bc87f0d3', 1, 6, 0) _execute_subgraph(...)>\",\"Alias(('mean_chunk-50c1667ba1c1655b5f32c316bc87f0d3', 1, 6, 2)->('apply_transform-diffraction_pattern-getitem-integrate_fourier_space-mean_chunk-50c1667ba1c1655b5f32c316bc87f0d3', 1, 6, 2))\",\"<Task ('mean_combine-partial-d2adc60119093c72a261f4d86a6aef6a', 0, 6, 5) mean_combine(...)>\",\"<Task ('apply_transform-diffraction_pattern-getitem-integrate_fourier_space-mean_chunk-50c1667ba1c1655b5f32c316bc87f0d3', 1, 5, 1) _execute_subgraph(...)>\",\"<Task ('mean_combine-partial-d2adc60119093c72a261f4d86a6aef6a', 0, 6, 2) mean_combine(...)>\",\"<Task ('apply_transform-diffraction_pattern-getitem-integrate_fourier_space-mean_chunk-50c1667ba1c1655b5f32c316bc87f0d3', 1, 0, 5) _execute_subgraph(...)>\",\"Alias(('mean_chunk-50c1667ba1c1655b5f32c316bc87f0d3', 1, 5, 6)->('apply_transform-diffraction_pattern-getitem-integrate_fourier_space-mean_chunk-50c1667ba1c1655b5f32c316bc87f0d3', 1, 5, 6))\",\"<Task ('apply_transform-diffraction_pattern-getitem-integrate_fourier_space-mean_chunk-50c1667ba1c1655b5f32c316bc87f0d3', 1, 1, 1) _execute_subgraph(...)>\",\"<Task ('mean_combine-partial-d2adc60119093c72a261f4d86a6aef6a', 0, 5, 6) mean_combine(...)>\",\"Alias(('mean_chunk-50c1667ba1c1655b5f32c316bc87f0d3', 0, 4, 1)->('apply_transform-diffraction_pattern-getitem-integrate_fourier_space-mean_chunk-50c1667ba1c1655b5f32c316bc87f0d3', 0, 4, 1))\",\"<Task ('apply_transform-diffraction_pattern-getitem-integrate_fourier_space-mean_chunk-50c1667ba1c1655b5f32c316bc87f0d3', 1, 0, 2) _execute_subgraph(...)>\",\"<Task ('apply_transform-diffraction_pattern-getitem-integrate_fourier_space-mean_chunk-50c1667ba1c1655b5f32c316bc87f0d3', 1, 1, 4) _execute_subgraph(...)>\",\"Alias(('mean_chunk-50c1667ba1c1655b5f32c316bc87f0d3', 1, 1, 3)->('apply_transform-diffraction_pattern-getitem-integrate_fourier_space-mean_chunk-50c1667ba1c1655b5f32c316bc87f0d3', 1, 1, 3))\",\"<Task ('mean_combine-partial-d2adc60119093c72a261f4d86a6aef6a', 0, 1, 3) mean_combine(...)>\",\"<Task ('apply_transform-diffraction_pattern-getitem-integrate_fourier_space-mean_chunk-50c1667ba1c1655b5f32c316bc87f0d3', 1, 4, 3) _execute_subgraph(...)>\",\"Alias(('mean_chunk-50c1667ba1c1655b5f32c316bc87f0d3', 1, 0, 4)->('apply_transform-diffraction_pattern-getitem-integrate_fourier_space-mean_chunk-50c1667ba1c1655b5f32c316bc87f0d3', 1, 0, 4))\",\"<Task ('mean_combine-partial-d2adc60119093c72a261f4d86a6aef6a', 0, 0, 4) mean_combine(...)>\",\"<Task ('apply_transform-diffraction_pattern-getitem-integrate_fourier_space-mean_chunk-50c1667ba1c1655b5f32c316bc87f0d3', 1, 3, 4) _execute_subgraph(...)>\",\"Alias(('mean_chunk-50c1667ba1c1655b5f32c316bc87f0d3', 1, 1, 6)->('apply_transform-diffraction_pattern-getitem-integrate_fourier_space-mean_chunk-50c1667ba1c1655b5f32c316bc87f0d3', 1, 1, 6))\",\"Alias(('mean_chunk-50c1667ba1c1655b5f32c316bc87f0d3', 1, 1, 0)->('apply_transform-diffraction_pattern-getitem-integrate_fourier_space-mean_chunk-50c1667ba1c1655b5f32c316bc87f0d3', 1, 1, 0))\",\"<Task ('mean_combine-partial-d2adc60119093c72a261f4d86a6aef6a', 0, 1, 6) mean_combine(...)>\",\"<Task ('mean_combine-partial-d2adc60119093c72a261f4d86a6aef6a', 0, 1, 0) mean_combine(...)>\",\"<Task ('apply_transform-diffraction_pattern-getitem-integrate_fourier_space-mean_chunk-50c1667ba1c1655b5f32c316bc87f0d3', 1, 4, 6) _execute_subgraph(...)>\",\"<Task ('apply_transform-diffraction_pattern-getitem-integrate_fourier_space-mean_chunk-50c1667ba1c1655b5f32c316bc87f0d3', 1, 4, 0) _execute_subgraph(...)>\",\"Alias(('mean_chunk-50c1667ba1c1655b5f32c316bc87f0d3', 1, 0, 1)->('apply_transform-diffraction_pattern-getitem-integrate_fourier_space-mean_chunk-50c1667ba1c1655b5f32c316bc87f0d3', 1, 0, 1))\",\"<Task ('mean_combine-partial-d2adc60119093c72a261f4d86a6aef6a', 0, 0, 1) mean_combine(...)>\",\"<Task ('apply_transform-diffraction_pattern-getitem-integrate_fourier_space-mean_chunk-50c1667ba1c1655b5f32c316bc87f0d3', 1, 2, 3) _execute_subgraph(...)>\",\"Alias(('mean_chunk-50c1667ba1c1655b5f32c316bc87f0d3', 1, 4, 5)->('apply_transform-diffraction_pattern-getitem-integrate_fourier_space-mean_chunk-50c1667ba1c1655b5f32c316bc87f0d3', 1, 4, 5))\",\"<Task ('mean_combine-partial-d2adc60119093c72a261f4d86a6aef6a', 0, 4, 5) mean_combine(...)>\",\"<Task ('apply_transform-diffraction_pattern-getitem-integrate_fourier_space-mean_chunk-50c1667ba1c1655b5f32c316bc87f0d3', 1, 3, 1) _execute_subgraph(...)>\",\"Alias(('mean_chunk-50c1667ba1c1655b5f32c316bc87f0d3', 1, 3, 6)->('apply_transform-diffraction_pattern-getitem-integrate_fourier_space-mean_chunk-50c1667ba1c1655b5f32c316bc87f0d3', 1, 3, 6))\",\"<Task ('mean_combine-partial-d2adc60119093c72a261f4d86a6aef6a', 0, 3, 6) mean_combine(...)>\",\"<Task ('apply_transform-diffraction_pattern-getitem-integrate_fourier_space-mean_chunk-50c1667ba1c1655b5f32c316bc87f0d3', 1, 2, 6) _execute_subgraph(...)>\",\"Alias(('mean_chunk-50c1667ba1c1655b5f32c316bc87f0d3', 1, 3, 0)->('apply_transform-diffraction_pattern-getitem-integrate_fourier_space-mean_chunk-50c1667ba1c1655b5f32c316bc87f0d3', 1, 3, 0))\",\"<Task ('mean_combine-partial-d2adc60119093c72a261f4d86a6aef6a', 0, 3, 0) mean_combine(...)>\",\"<Task ('apply_transform-diffraction_pattern-getitem-integrate_fourier_space-mean_chunk-50c1667ba1c1655b5f32c316bc87f0d3', 1, 2, 0) _execute_subgraph(...)>\",\"Alias(('mean_chunk-50c1667ba1c1655b5f32c316bc87f0d3', 1, 2, 5)->('apply_transform-diffraction_pattern-getitem-integrate_fourier_space-mean_chunk-50c1667ba1c1655b5f32c316bc87f0d3', 1, 2, 5))\",\"<Task ('mean_combine-partial-d2adc60119093c72a261f4d86a6aef6a', 0, 2, 5) mean_combine(...)>\",\"<Task ('apply_transform-diffraction_pattern-getitem-integrate_fourier_space-mean_chunk-50c1667ba1c1655b5f32c316bc87f0d3', 1, 5, 5) _execute_subgraph(...)>\",\"Alias(('mean_chunk-50c1667ba1c1655b5f32c316bc87f0d3', 1, 4, 2)->('apply_transform-diffraction_pattern-getitem-integrate_fourier_space-mean_chunk-50c1667ba1c1655b5f32c316bc87f0d3', 1, 4, 2))\",\"Alias(('mean_chunk-50c1667ba1c1655b5f32c316bc87f0d3', 1, 6, 3)->('apply_transform-diffraction_pattern-getitem-integrate_fourier_space-mean_chunk-50c1667ba1c1655b5f32c316bc87f0d3', 1, 6, 3))\",\"<Task ('mean_combine-partial-d2adc60119093c72a261f4d86a6aef6a', 0, 4, 2) mean_combine(...)>\",\"<Task ('mean_combine-partial-d2adc60119093c72a261f4d86a6aef6a', 0, 6, 3) mean_combine(...)>\",\"<Task ('apply_transform-diffraction_pattern-getitem-integrate_fourier_space-mean_chunk-50c1667ba1c1655b5f32c316bc87f0d3', 1, 6, 1) _execute_subgraph(...)>\",\"<Task ('apply_transform-diffraction_pattern-getitem-integrate_fourier_space-mean_chunk-50c1667ba1c1655b5f32c316bc87f0d3', 1, 5, 2) _execute_subgraph(...)>\",\"Alias(('mean_chunk-50c1667ba1c1655b5f32c316bc87f0d3', 1, 3, 3)->('apply_transform-diffraction_pattern-getitem-integrate_fourier_space-mean_chunk-50c1667ba1c1655b5f32c316bc87f0d3', 1, 3, 3))\",\"<Task ('mean_combine-partial-d2adc60119093c72a261f4d86a6aef6a', 0, 3, 3) mean_combine(...)>\",\"<Task ('apply_transform-diffraction_pattern-getitem-integrate_fourier_space-mean_chunk-50c1667ba1c1655b5f32c316bc87f0d3', 1, 6, 4) _execute_subgraph(...)>\",\"Alias(('mean_chunk-50c1667ba1c1655b5f32c316bc87f0d3', 1, 5, 4)->('apply_transform-diffraction_pattern-getitem-integrate_fourier_space-mean_chunk-50c1667ba1c1655b5f32c316bc87f0d3', 1, 5, 4))\",\"<Task ('mean_combine-partial-d2adc60119093c72a261f4d86a6aef6a', 0, 5, 4) mean_combine(...)>\",\"<Task ('apply_transform-diffraction_pattern-getitem-integrate_fourier_space-mean_chunk-50c1667ba1c1655b5f32c316bc87f0d3', 1, 0, 3) _execute_subgraph(...)>\",\"Alias(('mean_chunk-50c1667ba1c1655b5f32c316bc87f0d3', 1, 5, 1)->('apply_transform-diffraction_pattern-getitem-integrate_fourier_space-mean_chunk-50c1667ba1c1655b5f32c316bc87f0d3', 1, 5, 1))\",\"<Task ('mean_combine-partial-d2adc60119093c72a261f4d86a6aef6a', 0, 5, 1) mean_combine(...)>\",\"<Task ('apply_transform-diffraction_pattern-getitem-integrate_fourier_space-mean_chunk-50c1667ba1c1655b5f32c316bc87f0d3', 1, 1, 5) _execute_subgraph(...)>\",\"Alias(('mean_chunk-50c1667ba1c1655b5f32c316bc87f0d3', 1, 6, 0)->('apply_transform-diffraction_pattern-getitem-integrate_fourier_space-mean_chunk-50c1667ba1c1655b5f32c316bc87f0d3', 1, 6, 0))\",\"<Task ('mean_combine-partial-d2adc60119093c72a261f4d86a6aef6a', 0, 6, 0) mean_combine(...)>\",\"Alias(('mean_chunk-50c1667ba1c1655b5f32c316bc87f0d3', 1, 0, 5)->('apply_transform-diffraction_pattern-getitem-integrate_fourier_space-mean_chunk-50c1667ba1c1655b5f32c316bc87f0d3', 1, 0, 5))\",\"<Task ('apply_transform-diffraction_pattern-getitem-integrate_fourier_space-mean_chunk-50c1667ba1c1655b5f32c316bc87f0d3', 1, 0, 6) _execute_subgraph(...)>\",\"Alias(('mean_chunk-50c1667ba1c1655b5f32c316bc87f0d3', 1, 1, 4)->('apply_transform-diffraction_pattern-getitem-integrate_fourier_space-mean_chunk-50c1667ba1c1655b5f32c316bc87f0d3', 1, 1, 4))\",\"<Task ('mean_combine-partial-d2adc60119093c72a261f4d86a6aef6a', 0, 0, 5) mean_combine(...)>\",\"Alias(('mean_chunk-50c1667ba1c1655b5f32c316bc87f0d3', 1, 0, 2)->('apply_transform-diffraction_pattern-getitem-integrate_fourier_space-mean_chunk-50c1667ba1c1655b5f32c316bc87f0d3', 1, 0, 2))\",\"Alias(('mean_chunk-50c1667ba1c1655b5f32c316bc87f0d3', 1, 2, 2)->('apply_transform-diffraction_pattern-getitem-integrate_fourier_space-mean_chunk-50c1667ba1c1655b5f32c316bc87f0d3', 1, 2, 2))\",\"<Task ('mean_combine-partial-d2adc60119093c72a261f4d86a6aef6a', 0, 1, 4) mean_combine(...)>\",\"Alias(('mean_chunk-50c1667ba1c1655b5f32c316bc87f0d3', 1, 1, 1)->('apply_transform-diffraction_pattern-getitem-integrate_fourier_space-mean_chunk-50c1667ba1c1655b5f32c316bc87f0d3', 1, 1, 1))\",\"Alias(('mean_chunk-50c1667ba1c1655b5f32c316bc87f0d3', 1, 4, 3)->('apply_transform-diffraction_pattern-getitem-integrate_fourier_space-mean_chunk-50c1667ba1c1655b5f32c316bc87f0d3', 1, 4, 3))\",\"<Task ('apply_transform-diffraction_pattern-getitem-integrate_fourier_space-mean_chunk-50c1667ba1c1655b5f32c316bc87f0d3', 1, 0, 0) _execute_subgraph(...)>\",\"<Task ('mean_combine-partial-d2adc60119093c72a261f4d86a6aef6a', 0, 0, 2) mean_combine(...)>\",\"<Task ('mean_combine-partial-d2adc60119093c72a261f4d86a6aef6a', 0, 2, 2) mean_combine(...)>\",\"<Task ('apply_transform-diffraction_pattern-getitem-integrate_fourier_space-mean_chunk-50c1667ba1c1655b5f32c316bc87f0d3', 1, 1, 2) _execute_subgraph(...)>\",\"<Task ('mean_combine-partial-d2adc60119093c72a261f4d86a6aef6a', 0, 1, 1) mean_combine(...)>\",\"<Task ('mean_combine-partial-d2adc60119093c72a261f4d86a6aef6a', 0, 4, 3) mean_combine(...)>\",\"<Task ('apply_transform-diffraction_pattern-getitem-integrate_fourier_space-mean_chunk-50c1667ba1c1655b5f32c316bc87f0d3', 1, 3, 5) _execute_subgraph(...)>\",\"<Task ('apply_transform-diffraction_pattern-getitem-integrate_fourier_space-mean_chunk-50c1667ba1c1655b5f32c316bc87f0d3', 1, 3, 2) _execute_subgraph(...)>\",\"<Task ('apply_transform-diffraction_pattern-getitem-integrate_fourier_space-mean_chunk-50c1667ba1c1655b5f32c316bc87f0d3', 1, 4, 4) _execute_subgraph(...)>\",\"<Task ('apply_transform-diffraction_pattern-getitem-integrate_fourier_space-mean_chunk-50c1667ba1c1655b5f32c316bc87f0d3', 1, 4, 1) _execute_subgraph(...)>\",\"Alias(('mean_chunk-50c1667ba1c1655b5f32c316bc87f0d3', 1, 2, 3)->('apply_transform-diffraction_pattern-getitem-integrate_fourier_space-mean_chunk-50c1667ba1c1655b5f32c316bc87f0d3', 1, 2, 3))\",\"Alias(('mean_chunk-50c1667ba1c1655b5f32c316bc87f0d3', 1, 3, 4)->('apply_transform-diffraction_pattern-getitem-integrate_fourier_space-mean_chunk-50c1667ba1c1655b5f32c316bc87f0d3', 1, 3, 4))\",\"Alias(('mean_chunk-50c1667ba1c1655b5f32c316bc87f0d3', 1, 4, 0)->('apply_transform-diffraction_pattern-getitem-integrate_fourier_space-mean_chunk-50c1667ba1c1655b5f32c316bc87f0d3', 1, 4, 0))\",\"<Task ('mean_combine-partial-d2adc60119093c72a261f4d86a6aef6a', 0, 2, 3) mean_combine(...)>\",\"<Task ('mean_combine-partial-d2adc60119093c72a261f4d86a6aef6a', 0, 3, 4) mean_combine(...)>\",\"<Task ('mean_combine-partial-d2adc60119093c72a261f4d86a6aef6a', 0, 4, 0) mean_combine(...)>\",\"<Task ('apply_transform-diffraction_pattern-getitem-integrate_fourier_space-mean_chunk-50c1667ba1c1655b5f32c316bc87f0d3', 1, 2, 4) _execute_subgraph(...)>\",\"<Task ('apply_transform-diffraction_pattern-getitem-integrate_fourier_space-mean_chunk-50c1667ba1c1655b5f32c316bc87f0d3', 2, 6, 4) _execute_subgraph(...)>\",\"<Task ('apply_transform-diffraction_pattern-getitem-integrate_fourier_space-mean_chunk-50c1667ba1c1655b5f32c316bc87f0d3', 2, 5, 2) _execute_subgraph(...)>\",\"Alias(('mean_chunk-50c1667ba1c1655b5f32c316bc87f0d3', 1, 4, 6)->('apply_transform-diffraction_pattern-getitem-integrate_fourier_space-mean_chunk-50c1667ba1c1655b5f32c316bc87f0d3', 1, 4, 6))\",\"<Task ('mean_combine-partial-d2adc60119093c72a261f4d86a6aef6a', 0, 4, 6) mean_combine(...)>\",\"<Task ('apply_transform-diffraction_pattern-getitem-integrate_fourier_space-mean_chunk-50c1667ba1c1655b5f32c316bc87f0d3', 2, 3, 5) _execute_subgraph(...)>\",\"Alias(('mean_chunk-50c1667ba1c1655b5f32c316bc87f0d3', 1, 3, 1)->('apply_transform-diffraction_pattern-getitem-integrate_fourier_space-mean_chunk-50c1667ba1c1655b5f32c316bc87f0d3', 1, 3, 1))\",\"<Task ('mean_combine-partial-d2adc60119093c72a261f4d86a6aef6a', 0, 3, 1) mean_combine(...)>\",\"<Task ('apply_transform-diffraction_pattern-getitem-integrate_fourier_space-mean_chunk-50c1667ba1c1655b5f32c316bc87f0d3', 2, 5, 5) _execute_subgraph(...)>\",\"Alias(('mean_chunk-50c1667ba1c1655b5f32c316bc87f0d3', 1, 2, 6)->('apply_transform-diffraction_pattern-getitem-integrate_fourier_space-mean_chunk-50c1667ba1c1655b5f32c316bc87f0d3', 1, 2, 6))\",\"<Task ('mean_combine-partial-d2adc60119093c72a261f4d86a6aef6a', 0, 2, 6) mean_combine(...)>\",\"<Task ('apply_transform-diffraction_pattern-getitem-integrate_fourier_space-mean_chunk-50c1667ba1c1655b5f32c316bc87f0d3', 2, 6, 1) _execute_subgraph(...)>\",\"Alias(('mean_chunk-50c1667ba1c1655b5f32c316bc87f0d3', 1, 5, 5)->('apply_transform-diffraction_pattern-getitem-integrate_fourier_space-mean_chunk-50c1667ba1c1655b5f32c316bc87f0d3', 1, 5, 5))\",\"<Task ('mean_combine-partial-d2adc60119093c72a261f4d86a6aef6a', 0, 5, 5) mean_combine(...)>\",\"Alias(('mean_chunk-50c1667ba1c1655b5f32c316bc87f0d3', 1, 2, 0)->('apply_transform-diffraction_pattern-getitem-integrate_fourier_space-mean_chunk-50c1667ba1c1655b5f32c316bc87f0d3', 1, 2, 0))\",\"<Task ('apply_transform-diffraction_pattern-getitem-integrate_fourier_space-mean_chunk-50c1667ba1c1655b5f32c316bc87f0d3', 2, 3, 2) _execute_subgraph(...)>\",\"<Task ('mean_combine-partial-d2adc60119093c72a261f4d86a6aef6a', 0, 2, 0) mean_combine(...)>\",\"<Task ('apply_transform-diffraction_pattern-getitem-integrate_fourier_space-mean_chunk-50c1667ba1c1655b5f32c316bc87f0d3', 2, 0, 6) _execute_subgraph(...)>\",\"Alias(('mean_chunk-50c1667ba1c1655b5f32c316bc87f0d3', 1, 0, 3)->('apply_transform-diffraction_pattern-getitem-integrate_fourier_space-mean_chunk-50c1667ba1c1655b5f32c316bc87f0d3', 1, 0, 3))\",\"Alias(('mean_chunk-50c1667ba1c1655b5f32c316bc87f0d3', 1, 5, 2)->('apply_transform-diffraction_pattern-getitem-integrate_fourier_space-mean_chunk-50c1667ba1c1655b5f32c316bc87f0d3', 1, 5, 2))\",\"<Task ('mean_combine-partial-d2adc60119093c72a261f4d86a6aef6a', 0, 0, 3) mean_combine(...)>\",\"<Task ('mean_combine-partial-d2adc60119093c72a261f4d86a6aef6a', 0, 5, 2) mean_combine(...)>\",\"<Task ('apply_transform-diffraction_pattern-getitem-integrate_fourier_space-mean_chunk-50c1667ba1c1655b5f32c316bc87f0d3', 2, 0, 0) _execute_subgraph(...)>\",\"<Task ('apply_transform-diffraction_pattern-getitem-integrate_fourier_space-mean_chunk-50c1667ba1c1655b5f32c316bc87f0d3', 2, 0, 3) _execute_subgraph(...)>\",\"Alias(('mean_chunk-50c1667ba1c1655b5f32c316bc87f0d3', 1, 0, 6)->('apply_transform-diffraction_pattern-getitem-integrate_fourier_space-mean_chunk-50c1667ba1c1655b5f32c316bc87f0d3', 1, 0, 6))\",\"Alias(('mean_chunk-50c1667ba1c1655b5f32c316bc87f0d3', 1, 1, 5)->('apply_transform-diffraction_pattern-getitem-integrate_fourier_space-mean_chunk-50c1667ba1c1655b5f32c316bc87f0d3', 1, 1, 5))\",\"<Task ('mean_combine-partial-d2adc60119093c72a261f4d86a6aef6a', 0, 0, 6) mean_combine(...)>\",\"<Task ('mean_combine-partial-d2adc60119093c72a261f4d86a6aef6a', 0, 1, 5) mean_combine(...)>\",\"<Task ('apply_transform-diffraction_pattern-getitem-integrate_fourier_space-mean_chunk-50c1667ba1c1655b5f32c316bc87f0d3', 2, 4, 4) _execute_subgraph(...)>\",\"<Task ('apply_transform-diffraction_pattern-getitem-integrate_fourier_space-mean_chunk-50c1667ba1c1655b5f32c316bc87f0d3', 2, 4, 1) _execute_subgraph(...)>\",\"Alias(('mean_chunk-50c1667ba1c1655b5f32c316bc87f0d3', 1, 0, 0)->('apply_transform-diffraction_pattern-getitem-integrate_fourier_space-mean_chunk-50c1667ba1c1655b5f32c316bc87f0d3', 1, 0, 0))\",\"<Task ('mean_combine-partial-d2adc60119093c72a261f4d86a6aef6a', 0, 0, 0) mean_combine(...)>\",\"<Task ('apply_transform-diffraction_pattern-getitem-integrate_fourier_space-mean_chunk-50c1667ba1c1655b5f32c316bc87f0d3', 2, 1, 2) _execute_subgraph(...)>\",\"Alias(('mean_chunk-50c1667ba1c1655b5f32c316bc87f0d3', 1, 6, 1)->('apply_transform-diffraction_pattern-getitem-integrate_fourier_space-mean_chunk-50c1667ba1c1655b5f32c316bc87f0d3', 1, 6, 1))\",\"Alias(('mean_chunk-50c1667ba1c1655b5f32c316bc87f0d3', 1, 6, 4)->('apply_transform-diffraction_pattern-getitem-integrate_fourier_space-mean_chunk-50c1667ba1c1655b5f32c316bc87f0d3', 1, 6, 4))\",\"<Task ('mean_combine-partial-d2adc60119093c72a261f4d86a6aef6a', 0, 6, 1) mean_combine(...)>\",\"Alias(('mean_chunk-50c1667ba1c1655b5f32c316bc87f0d3', 1, 3, 5)->('apply_transform-diffraction_pattern-getitem-integrate_fourier_space-mean_chunk-50c1667ba1c1655b5f32c316bc87f0d3', 1, 3, 5))\",\"<Task ('apply_transform-diffraction_pattern-getitem-integrate_fourier_space-mean_chunk-50c1667ba1c1655b5f32c316bc87f0d3', 2, 2, 4) _execute_subgraph(...)>\",\"<Task ('mean_combine-partial-d2adc60119093c72a261f4d86a6aef6a', 0, 6, 4) mean_combine(...)>\",\"<Task ('mean_combine-partial-d2adc60119093c72a261f4d86a6aef6a', 0, 3, 5) mean_combine(...)>\",\"<Task ('apply_transform-diffraction_pattern-getitem-integrate_fourier_space-mean_chunk-50c1667ba1c1655b5f32c316bc87f0d3', 2, 1, 5) _execute_subgraph(...)>\",\"<Task ('apply_transform-diffraction_pattern-getitem-integrate_fourier_space-mean_chunk-50c1667ba1c1655b5f32c316bc87f0d3', 2, 2, 1) _execute_subgraph(...)>\",\"Alias(('mean_chunk-50c1667ba1c1655b5f32c316bc87f0d3', 1, 1, 2)->('apply_transform-diffraction_pattern-getitem-integrate_fourier_space-mean_chunk-50c1667ba1c1655b5f32c316bc87f0d3', 1, 1, 2))\",\"<Task ('mean_combine-partial-d2adc60119093c72a261f4d86a6aef6a', 0, 1, 2) mean_combine(...)>\",\"Alias(('mean_chunk-50c1667ba1c1655b5f32c316bc87f0d3', 1, 4, 1)->('apply_transform-diffraction_pattern-getitem-integrate_fourier_space-mean_chunk-50c1667ba1c1655b5f32c316bc87f0d3', 1, 4, 1))\",\"<Task ('apply_transform-diffraction_pattern-getitem-integrate_fourier_space-mean_chunk-50c1667ba1c1655b5f32c316bc87f0d3', 2, 6, 5) _execute_subgraph(...)>\",\"Alias(('mean_chunk-50c1667ba1c1655b5f32c316bc87f0d3', 1, 3, 2)->('apply_transform-diffraction_pattern-getitem-integrate_fourier_space-mean_chunk-50c1667ba1c1655b5f32c316bc87f0d3', 1, 3, 2))\",\"<Task ('mean_combine-partial-d2adc60119093c72a261f4d86a6aef6a', 0, 4, 1) mean_combine(...)>\",\"Alias(('mean_chunk-50c1667ba1c1655b5f32c316bc87f0d3', 2, 6, 4)->('apply_transform-diffraction_pattern-getitem-integrate_fourier_space-mean_chunk-50c1667ba1c1655b5f32c316bc87f0d3', 2, 6, 4))\",\"<Task ('mean_combine-partial-d2adc60119093c72a261f4d86a6aef6a', 0, 3, 2) mean_combine(...)>\",\"<Task ('apply_transform-diffraction_pattern-getitem-integrate_fourier_space-mean_chunk-50c1667ba1c1655b5f32c316bc87f0d3', 2, 5, 6) _execute_subgraph(...)>\",\"<Task ('mean_combine-partial-d2adc60119093c72a261f4d86a6aef6a', 1, 6, 4) mean_combine(...)>\",\"<Task ('apply_transform-diffraction_pattern-getitem-integrate_fourier_space-mean_chunk-50c1667ba1c1655b5f32c316bc87f0d3', 2, 5, 0) _execute_subgraph(...)>\",\"<Task ('mean_agg-aggregate-74a08e76432add30879056ee5b013a32', 6, 4) mean_agg(...)>\",\"<Task ('apply_transform-diffraction_pattern-getitem-integrate_fourier_space-mean_chunk-50c1667ba1c1655b5f32c316bc87f0d3', 2, 6, 2) _execute_subgraph(...)>\",\"Alias(('mean_chunk-50c1667ba1c1655b5f32c316bc87f0d3', 2, 5, 2)->('apply_transform-diffraction_pattern-getitem-integrate_fourier_space-mean_chunk-50c1667ba1c1655b5f32c316bc87f0d3', 2, 5, 2))\",\"Alias(('mean_chunk-50c1667ba1c1655b5f32c316bc87f0d3', 1, 4, 4)->('apply_transform-diffraction_pattern-getitem-integrate_fourier_space-mean_chunk-50c1667ba1c1655b5f32c316bc87f0d3', 1, 4, 4))\",\"<Task ('mean_combine-partial-d2adc60119093c72a261f4d86a6aef6a', 1, 5, 2) mean_combine(...)>\",\"<Task ('mean_combine-partial-d2adc60119093c72a261f4d86a6aef6a', 0, 4, 4) mean_combine(...)>\",\"<Task ('mean_agg-aggregate-74a08e76432add30879056ee5b013a32', 5, 2) mean_agg(...)>\",\"<Task ('apply_transform-diffraction_pattern-getitem-integrate_fourier_space-mean_chunk-50c1667ba1c1655b5f32c316bc87f0d3', 2, 5, 3) _execute_subgraph(...)>\",\"<Task ('apply_transform-diffraction_pattern-getitem-integrate_fourier_space-mean_chunk-50c1667ba1c1655b5f32c316bc87f0d3', 2, 3, 6) _execute_subgraph(...)>\",\"Alias(('mean_chunk-50c1667ba1c1655b5f32c316bc87f0d3', 1, 2, 4)->('apply_transform-diffraction_pattern-getitem-integrate_fourier_space-mean_chunk-50c1667ba1c1655b5f32c316bc87f0d3', 1, 2, 4))\",\"<Task ('mean_combine-partial-d2adc60119093c72a261f4d86a6aef6a', 0, 2, 4) mean_combine(...)>\",\"<Task ('apply_transform-diffraction_pattern-getitem-integrate_fourier_space-mean_chunk-50c1667ba1c1655b5f32c316bc87f0d3', 2, 3, 0) _execute_subgraph(...)>\",\"Alias(('mean_chunk-50c1667ba1c1655b5f32c316bc87f0d3', 2, 3, 5)->('apply_transform-diffraction_pattern-getitem-integrate_fourier_space-mean_chunk-50c1667ba1c1655b5f32c316bc87f0d3', 2, 3, 5))\",\"<Task ('mean_combine-partial-d2adc60119093c72a261f4d86a6aef6a', 1, 3, 5) mean_combine(...)>\",\"<Task ('mean_agg-aggregate-74a08e76432add30879056ee5b013a32', 3, 5) mean_agg(...)>\",\"<Task ('apply_transform-diffraction_pattern-getitem-integrate_fourier_space-mean_chunk-50c1667ba1c1655b5f32c316bc87f0d3', 2, 3, 3) _execute_subgraph(...)>\",\"Alias(('mean_chunk-50c1667ba1c1655b5f32c316bc87f0d3', 2, 5, 5)->('apply_transform-diffraction_pattern-getitem-integrate_fourier_space-mean_chunk-50c1667ba1c1655b5f32c316bc87f0d3', 2, 5, 5))\",\"<Task ('mean_combine-partial-d2adc60119093c72a261f4d86a6aef6a', 1, 5, 5) mean_combine(...)>\",\"<Task ('mean_agg-aggregate-74a08e76432add30879056ee5b013a32', 5, 5) mean_agg(...)>\",\"<Task ('apply_transform-diffraction_pattern-getitem-integrate_fourier_space-mean_chunk-50c1667ba1c1655b5f32c316bc87f0d3', 2, 0, 4) _execute_subgraph(...)>\",\"Alias(('mean_chunk-50c1667ba1c1655b5f32c316bc87f0d3', 2, 6, 1)->('apply_transform-diffraction_pattern-getitem-integrate_fourier_space-mean_chunk-50c1667ba1c1655b5f32c316bc87f0d3', 2, 6, 1))\",\"<Task ('mean_combine-partial-d2adc60119093c72a261f4d86a6aef6a', 1, 6, 1) mean_combine(...)>\",\"<Task ('mean_agg-aggregate-74a08e76432add30879056ee5b013a32', 6, 1) mean_agg(...)>\",\"<Task ('apply_transform-diffraction_pattern-getitem-integrate_fourier_space-mean_chunk-50c1667ba1c1655b5f32c316bc87f0d3', 2, 0, 1) _execute_subgraph(...)>\",\"Alias(('mean_chunk-50c1667ba1c1655b5f32c316bc87f0d3', 2, 3, 2)->('apply_transform-diffraction_pattern-getitem-integrate_fourier_space-mean_chunk-50c1667ba1c1655b5f32c316bc87f0d3', 2, 3, 2))\",\"<Task ('mean_combine-partial-d2adc60119093c72a261f4d86a6aef6a', 1, 3, 2) mean_combine(...)>\",\"Alias(('mean_chunk-50c1667ba1c1655b5f32c316bc87f0d3', 2, 0, 6)->('apply_transform-diffraction_pattern-getitem-integrate_fourier_space-mean_chunk-50c1667ba1c1655b5f32c316bc87f0d3', 2, 0, 6))\",\"<Task ('mean_agg-aggregate-74a08e76432add30879056ee5b013a32', 3, 2) mean_agg(...)>\",\"<Task ('mean_combine-partial-d2adc60119093c72a261f4d86a6aef6a', 1, 0, 6) mean_combine(...)>\",\"<Task ('apply_transform-diffraction_pattern-getitem-integrate_fourier_space-mean_chunk-50c1667ba1c1655b5f32c316bc87f0d3', 2, 4, 5) _execute_subgraph(...)>\",\"<Task ('mean_agg-aggregate-74a08e76432add30879056ee5b013a32', 0, 6) mean_agg(...)>\",\"<Task ('apply_transform-diffraction_pattern-getitem-integrate_fourier_space-mean_chunk-50c1667ba1c1655b5f32c316bc87f0d3', 2, 4, 2) _execute_subgraph(...)>\",\"Alias(('mean_chunk-50c1667ba1c1655b5f32c316bc87f0d3', 2, 4, 1)->('apply_transform-diffraction_pattern-getitem-integrate_fourier_space-mean_chunk-50c1667ba1c1655b5f32c316bc87f0d3', 2, 4, 1))\",\"Alias(('mean_chunk-50c1667ba1c1655b5f32c316bc87f0d3', 2, 4, 4)->('apply_transform-diffraction_pattern-getitem-integrate_fourier_space-mean_chunk-50c1667ba1c1655b5f32c316bc87f0d3', 2, 4, 4))\",\"Alias(('mean_chunk-50c1667ba1c1655b5f32c316bc87f0d3', 2, 0, 0)->('apply_transform-diffraction_pattern-getitem-integrate_fourier_space-mean_chunk-50c1667ba1c1655b5f32c316bc87f0d3', 2, 0, 0))\",\"<Task ('mean_combine-partial-d2adc60119093c72a261f4d86a6aef6a', 1, 4, 1) mean_combine(...)>\",\"<Task ('mean_combine-partial-d2adc60119093c72a261f4d86a6aef6a', 1, 4, 4) mean_combine(...)>\",\"<Task ('mean_combine-partial-d2adc60119093c72a261f4d86a6aef6a', 1, 0, 0) mean_combine(...)>\",\"<Task ('mean_agg-aggregate-74a08e76432add30879056ee5b013a32', 4, 1) mean_agg(...)>\",\"<Task ('mean_agg-aggregate-74a08e76432add30879056ee5b013a32', 4, 4) mean_agg(...)>\",\"<Task ('mean_agg-aggregate-74a08e76432add30879056ee5b013a32', 0, 0) mean_agg(...)>\",\"<Task ('apply_transform-diffraction_pattern-getitem-integrate_fourier_space-mean_chunk-50c1667ba1c1655b5f32c316bc87f0d3', 2, 2, 5) _execute_subgraph(...)>\",\"<Task ('apply_transform-diffraction_pattern-getitem-integrate_fourier_space-mean_chunk-50c1667ba1c1655b5f32c316bc87f0d3', 2, 1, 6) _execute_subgraph(...)>\",\"<Task ('apply_transform-diffraction_pattern-getitem-integrate_fourier_space-mean_chunk-50c1667ba1c1655b5f32c316bc87f0d3', 2, 1, 0) _execute_subgraph(...)>\",\"Alias(('mean_chunk-50c1667ba1c1655b5f32c316bc87f0d3', 2, 2, 1)->('apply_transform-diffraction_pattern-getitem-integrate_fourier_space-mean_chunk-50c1667ba1c1655b5f32c316bc87f0d3', 2, 2, 1))\",\"<Task ('mean_combine-partial-d2adc60119093c72a261f4d86a6aef6a', 1, 2, 1) mean_combine(...)>\",\"<Task ('mean_agg-aggregate-74a08e76432add30879056ee5b013a32', 2, 1) mean_agg(...)>\",\"<Task ('apply_transform-diffraction_pattern-getitem-integrate_fourier_space-mean_chunk-50c1667ba1c1655b5f32c316bc87f0d3', 2, 2, 2) _execute_subgraph(...)>\",\"Alias(('mean_chunk-50c1667ba1c1655b5f32c316bc87f0d3', 2, 1, 2)->('apply_transform-diffraction_pattern-getitem-integrate_fourier_space-mean_chunk-50c1667ba1c1655b5f32c316bc87f0d3', 2, 1, 2))\",\"<Task ('mean_combine-partial-d2adc60119093c72a261f4d86a6aef6a', 1, 1, 2) mean_combine(...)>\",\"<Task ('mean_agg-aggregate-74a08e76432add30879056ee5b013a32', 1, 2) mean_agg(...)>\",\"Alias(('mean_chunk-50c1667ba1c1655b5f32c316bc87f0d3', 2, 0, 3)->('apply_transform-diffraction_pattern-getitem-integrate_fourier_space-mean_chunk-50c1667ba1c1655b5f32c316bc87f0d3', 2, 0, 3))\",\"<Task ('apply_transform-diffraction_pattern-getitem-integrate_fourier_space-mean_chunk-50c1667ba1c1655b5f32c316bc87f0d3', 2, 1, 3) _execute_subgraph(...)>\",\"<Task ('mean_combine-partial-d2adc60119093c72a261f4d86a6aef6a', 1, 0, 3) mean_combine(...)>\",\"<Task ('mean_agg-aggregate-74a08e76432add30879056ee5b013a32', 0, 3) mean_agg(...)>\",\"<Task ('apply_transform-diffraction_pattern-getitem-integrate_fourier_space-mean_chunk-50c1667ba1c1655b5f32c316bc87f0d3', 2, 6, 3) _execute_subgraph(...)>\",\"Alias(('mean_chunk-50c1667ba1c1655b5f32c316bc87f0d3', 2, 2, 4)->('apply_transform-diffraction_pattern-getitem-integrate_fourier_space-mean_chunk-50c1667ba1c1655b5f32c316bc87f0d3', 2, 2, 4))\",\"Alias(('mean_chunk-50c1667ba1c1655b5f32c316bc87f0d3', 2, 6, 5)->('apply_transform-diffraction_pattern-getitem-integrate_fourier_space-mean_chunk-50c1667ba1c1655b5f32c316bc87f0d3', 2, 6, 5))\",\"<Task ('mean_combine-partial-d2adc60119093c72a261f4d86a6aef6a', 1, 2, 4) mean_combine(...)>\",\"<Task ('mean_combine-partial-d2adc60119093c72a261f4d86a6aef6a', 1, 6, 5) mean_combine(...)>\",\"<Task ('mean_agg-aggregate-74a08e76432add30879056ee5b013a32', 2, 4) mean_agg(...)>\",\"<Task ('mean_agg-aggregate-74a08e76432add30879056ee5b013a32', 6, 5) mean_agg(...)>\",\"<Task ('apply_transform-diffraction_pattern-getitem-integrate_fourier_space-mean_chunk-50c1667ba1c1655b5f32c316bc87f0d3', 2, 5, 4) _execute_subgraph(...)>\",\"Alias(('mean_chunk-50c1667ba1c1655b5f32c316bc87f0d3', 2, 1, 5)->('apply_transform-diffraction_pattern-getitem-integrate_fourier_space-mean_chunk-50c1667ba1c1655b5f32c316bc87f0d3', 2, 1, 5))\",\"<Task ('apply_transform-diffraction_pattern-getitem-integrate_fourier_space-mean_chunk-50c1667ba1c1655b5f32c316bc87f0d3', 2, 6, 0) _execute_subgraph(...)>\",\"<Task ('mean_combine-partial-d2adc60119093c72a261f4d86a6aef6a', 1, 1, 5) mean_combine(...)>\",\"<Task ('mean_agg-aggregate-74a08e76432add30879056ee5b013a32', 1, 5) mean_agg(...)>\",\"<Task ('apply_transform-diffraction_pattern-getitem-integrate_fourier_space-mean_chunk-50c1667ba1c1655b5f32c316bc87f0d3', 2, 5, 1) _execute_subgraph(...)>\",\"Alias(('mean_chunk-50c1667ba1c1655b5f32c316bc87f0d3', 2, 3, 6)->('apply_transform-diffraction_pattern-getitem-integrate_fourier_space-mean_chunk-50c1667ba1c1655b5f32c316bc87f0d3', 2, 3, 6))\",\"<Task ('apply_transform-diffraction_pattern-getitem-integrate_fourier_space-mean_chunk-50c1667ba1c1655b5f32c316bc87f0d3', 2, 3, 4) _execute_subgraph(...)>\",\"Alias(('mean_chunk-50c1667ba1c1655b5f32c316bc87f0d3', 2, 5, 0)->('apply_transform-diffraction_pattern-getitem-integrate_fourier_space-mean_chunk-50c1667ba1c1655b5f32c316bc87f0d3', 2, 5, 0))\",\"<Task ('apply_transform-diffraction_pattern-getitem-integrate_fourier_space-mean_chunk-50c1667ba1c1655b5f32c316bc87f0d3', 2, 3, 1) _execute_subgraph(...)>\",\"Alias(('mean_chunk-50c1667ba1c1655b5f32c316bc87f0d3', 2, 5, 6)->('apply_transform-diffraction_pattern-getitem-integrate_fourier_space-mean_chunk-50c1667ba1c1655b5f32c316bc87f0d3', 2, 5, 6))\",\"Alias(('mean_chunk-50c1667ba1c1655b5f32c316bc87f0d3', 2, 5, 3)->('apply_transform-diffraction_pattern-getitem-integrate_fourier_space-mean_chunk-50c1667ba1c1655b5f32c316bc87f0d3', 2, 5, 3))\",\"Alias(('mean_chunk-50c1667ba1c1655b5f32c316bc87f0d3', 2, 6, 2)->('apply_transform-diffraction_pattern-getitem-integrate_fourier_space-mean_chunk-50c1667ba1c1655b5f32c316bc87f0d3', 2, 6, 2))\",\"<Task ('apply_transform-diffraction_pattern-getitem-integrate_fourier_space-mean_chunk-50c1667ba1c1655b5f32c316bc87f0d3', 2, 0, 2) _execute_subgraph(...)>\",\"<Task ('apply_transform-diffraction_pattern-getitem-integrate_fourier_space-mean_chunk-50c1667ba1c1655b5f32c316bc87f0d3', 2, 0, 5) _execute_subgraph(...)>\",\"<Task ('apply_transform-diffraction_pattern-getitem-integrate_fourier_space-mean_chunk-50c1667ba1c1655b5f32c316bc87f0d3', 2, 4, 6) _execute_subgraph(...)>\",\"Alias(('mean_chunk-50c1667ba1c1655b5f32c316bc87f0d3', 2, 3, 0)->('apply_transform-diffraction_pattern-getitem-integrate_fourier_space-mean_chunk-50c1667ba1c1655b5f32c316bc87f0d3', 2, 3, 0))\",\"<Task ('apply_transform-diffraction_pattern-getitem-integrate_fourier_space-mean_chunk-50c1667ba1c1655b5f32c316bc87f0d3', 2, 4, 0) _execute_subgraph(...)>\",\"Alias(('mean_chunk-50c1667ba1c1655b5f32c316bc87f0d3', 2, 3, 3)->('apply_transform-diffraction_pattern-getitem-integrate_fourier_space-mean_chunk-50c1667ba1c1655b5f32c316bc87f0d3', 2, 3, 3))\",\"<Task ('apply_transform-diffraction_pattern-getitem-integrate_fourier_space-mean_chunk-50c1667ba1c1655b5f32c316bc87f0d3', 2, 4, 3) _execute_subgraph(...)>\",\"Alias(('mean_chunk-50c1667ba1c1655b5f32c316bc87f0d3', 2, 0, 4)->('apply_transform-diffraction_pattern-getitem-integrate_fourier_space-mean_chunk-50c1667ba1c1655b5f32c316bc87f0d3', 2, 0, 4))\",\"<Task ('apply_transform-diffraction_pattern-getitem-integrate_fourier_space-mean_chunk-50c1667ba1c1655b5f32c316bc87f0d3', 2, 1, 4) _execute_subgraph(...)>\",\"Alias(('mean_chunk-50c1667ba1c1655b5f32c316bc87f0d3', 2, 0, 1)->('apply_transform-diffraction_pattern-getitem-integrate_fourier_space-mean_chunk-50c1667ba1c1655b5f32c316bc87f0d3', 2, 0, 1))\",\"<Task ('apply_transform-diffraction_pattern-getitem-integrate_fourier_space-mean_chunk-50c1667ba1c1655b5f32c316bc87f0d3', 2, 2, 6) _execute_subgraph(...)>\",\"Alias(('mean_chunk-50c1667ba1c1655b5f32c316bc87f0d3', 2, 2, 5)->('apply_transform-diffraction_pattern-getitem-integrate_fourier_space-mean_chunk-50c1667ba1c1655b5f32c316bc87f0d3', 2, 2, 5))\",\"<Task ('apply_transform-diffraction_pattern-getitem-integrate_fourier_space-mean_chunk-50c1667ba1c1655b5f32c316bc87f0d3', 2, 2, 0) _execute_subgraph(...)>\",\"Alias(('mean_chunk-50c1667ba1c1655b5f32c316bc87f0d3', 2, 4, 2)->('apply_transform-diffraction_pattern-getitem-integrate_fourier_space-mean_chunk-50c1667ba1c1655b5f32c316bc87f0d3', 2, 4, 2))\",\"<Task ('apply_transform-diffraction_pattern-getitem-integrate_fourier_space-mean_chunk-50c1667ba1c1655b5f32c316bc87f0d3', 2, 1, 1) _execute_subgraph(...)>\",\"Alias(('mean_chunk-50c1667ba1c1655b5f32c316bc87f0d3', 2, 4, 5)->('apply_transform-diffraction_pattern-getitem-integrate_fourier_space-mean_chunk-50c1667ba1c1655b5f32c316bc87f0d3', 2, 4, 5))\",\"<Task ('apply_transform-diffraction_pattern-getitem-integrate_fourier_space-mean_chunk-50c1667ba1c1655b5f32c316bc87f0d3', 2, 2, 3) _execute_subgraph(...)>\",\"Alias(('mean_chunk-50c1667ba1c1655b5f32c316bc87f0d3', 2, 1, 0)->('apply_transform-diffraction_pattern-getitem-integrate_fourier_space-mean_chunk-50c1667ba1c1655b5f32c316bc87f0d3', 2, 1, 0))\",\"Alias(('mean_chunk-50c1667ba1c1655b5f32c316bc87f0d3', 2, 6, 3)->('apply_transform-diffraction_pattern-getitem-integrate_fourier_space-mean_chunk-50c1667ba1c1655b5f32c316bc87f0d3', 2, 6, 3))\",\"<Task ('apply_transform-diffraction_pattern-getitem-integrate_fourier_space-mean_chunk-50c1667ba1c1655b5f32c316bc87f0d3', 3, 5, 6) _execute_subgraph(...)>\",\"Alias(('mean_chunk-50c1667ba1c1655b5f32c316bc87f0d3', 2, 5, 4)->('apply_transform-diffraction_pattern-getitem-integrate_fourier_space-mean_chunk-50c1667ba1c1655b5f32c316bc87f0d3', 2, 5, 4))\",\"Alias(('mean_chunk-50c1667ba1c1655b5f32c316bc87f0d3', 2, 2, 2)->('apply_transform-diffraction_pattern-getitem-integrate_fourier_space-mean_chunk-50c1667ba1c1655b5f32c316bc87f0d3', 2, 2, 2))\",\"Alias(('mean_chunk-50c1667ba1c1655b5f32c316bc87f0d3', 2, 1, 6)->('apply_transform-diffraction_pattern-getitem-integrate_fourier_space-mean_chunk-50c1667ba1c1655b5f32c316bc87f0d3', 2, 1, 6))\",\"<Task ('apply_transform-diffraction_pattern-getitem-integrate_fourier_space-mean_chunk-50c1667ba1c1655b5f32c316bc87f0d3', 3, 5, 0) _execute_subgraph(...)>\",\"<Task ('apply_transform-diffraction_pattern-getitem-integrate_fourier_space-mean_chunk-50c1667ba1c1655b5f32c316bc87f0d3', 3, 6, 2) _execute_subgraph(...)>\",\"<Task ('apply_transform-diffraction_pattern-getitem-integrate_fourier_space-mean_chunk-50c1667ba1c1655b5f32c316bc87f0d3', 3, 5, 3) _execute_subgraph(...)>\",\"Alias(('mean_chunk-50c1667ba1c1655b5f32c316bc87f0d3', 2, 5, 1)->('apply_transform-diffraction_pattern-getitem-integrate_fourier_space-mean_chunk-50c1667ba1c1655b5f32c316bc87f0d3', 2, 5, 1))\",\"<Task ('apply_transform-diffraction_pattern-getitem-integrate_fourier_space-mean_chunk-50c1667ba1c1655b5f32c316bc87f0d3', 3, 3, 6) _execute_subgraph(...)>\",\"Alias(('mean_chunk-50c1667ba1c1655b5f32c316bc87f0d3', 2, 1, 3)->('apply_transform-diffraction_pattern-getitem-integrate_fourier_space-mean_chunk-50c1667ba1c1655b5f32c316bc87f0d3', 2, 1, 3))\",\"<Task ('apply_transform-diffraction_pattern-getitem-integrate_fourier_space-mean_chunk-50c1667ba1c1655b5f32c316bc87f0d3', 3, 3, 0) _execute_subgraph(...)>\",\"Alias(('mean_chunk-50c1667ba1c1655b5f32c316bc87f0d3', 2, 3, 4)->('apply_transform-diffraction_pattern-getitem-integrate_fourier_space-mean_chunk-50c1667ba1c1655b5f32c316bc87f0d3', 2, 3, 4))\",\"<Task ('apply_transform-diffraction_pattern-getitem-integrate_fourier_space-mean_chunk-50c1667ba1c1655b5f32c316bc87f0d3', 3, 3, 3) _execute_subgraph(...)>\",\"<Task ('apply_transform-diffraction_pattern-getitem-integrate_fourier_space-mean_chunk-50c1667ba1c1655b5f32c316bc87f0d3', 3, 0, 4) _execute_subgraph(...)>\",\"Alias(('mean_chunk-50c1667ba1c1655b5f32c316bc87f0d3', 2, 3, 1)->('apply_transform-diffraction_pattern-getitem-integrate_fourier_space-mean_chunk-50c1667ba1c1655b5f32c316bc87f0d3', 2, 3, 1))\",\"<Task ('apply_transform-diffraction_pattern-getitem-integrate_fourier_space-mean_chunk-50c1667ba1c1655b5f32c316bc87f0d3', 3, 0, 1) _execute_subgraph(...)>\",\"Alias(('mean_chunk-50c1667ba1c1655b5f32c316bc87f0d3', 2, 4, 6)->('apply_transform-diffraction_pattern-getitem-integrate_fourier_space-mean_chunk-50c1667ba1c1655b5f32c316bc87f0d3', 2, 4, 6))\",\"Alias(('mean_chunk-50c1667ba1c1655b5f32c316bc87f0d3', 2, 0, 2)->('apply_transform-diffraction_pattern-getitem-integrate_fourier_space-mean_chunk-50c1667ba1c1655b5f32c316bc87f0d3', 2, 0, 2))\",\"<Task ('apply_transform-diffraction_pattern-getitem-integrate_fourier_space-mean_chunk-50c1667ba1c1655b5f32c316bc87f0d3', 3, 4, 5) _execute_subgraph(...)>\",\"Alias(('mean_chunk-50c1667ba1c1655b5f32c316bc87f0d3', 2, 0, 5)->('apply_transform-diffraction_pattern-getitem-integrate_fourier_space-mean_chunk-50c1667ba1c1655b5f32c316bc87f0d3', 2, 0, 5))\",\"<Task ('apply_transform-diffraction_pattern-getitem-integrate_fourier_space-mean_chunk-50c1667ba1c1655b5f32c316bc87f0d3', 3, 4, 2) _execute_subgraph(...)>\",\"Alias(('mean_chunk-50c1667ba1c1655b5f32c316bc87f0d3', 2, 6, 0)->('apply_transform-diffraction_pattern-getitem-integrate_fourier_space-mean_chunk-50c1667ba1c1655b5f32c316bc87f0d3', 2, 6, 0))\",\"<Task ('apply_transform-diffraction_pattern-getitem-integrate_fourier_space-mean_chunk-50c1667ba1c1655b5f32c316bc87f0d3', 3, 2, 5) _execute_subgraph(...)>\",\"<Task ('apply_transform-diffraction_pattern-getitem-integrate_fourier_space-mean_chunk-50c1667ba1c1655b5f32c316bc87f0d3', 3, 1, 6) _execute_subgraph(...)>\",\"Alias(('mean_chunk-50c1667ba1c1655b5f32c316bc87f0d3', 2, 4, 0)->('apply_transform-diffraction_pattern-getitem-integrate_fourier_space-mean_chunk-50c1667ba1c1655b5f32c316bc87f0d3', 2, 4, 0))\",\"<Task ('apply_transform-diffraction_pattern-getitem-integrate_fourier_space-mean_chunk-50c1667ba1c1655b5f32c316bc87f0d3', 3, 1, 0) _execute_subgraph(...)>\",\"Alias(('mean_chunk-50c1667ba1c1655b5f32c316bc87f0d3', 2, 4, 3)->('apply_transform-diffraction_pattern-getitem-integrate_fourier_space-mean_chunk-50c1667ba1c1655b5f32c316bc87f0d3', 2, 4, 3))\",\"<Task ('apply_transform-diffraction_pattern-getitem-integrate_fourier_space-mean_chunk-50c1667ba1c1655b5f32c316bc87f0d3', 3, 2, 2) _execute_subgraph(...)>\",\"Alias(('mean_chunk-50c1667ba1c1655b5f32c316bc87f0d3', 2, 1, 4)->('apply_transform-diffraction_pattern-getitem-integrate_fourier_space-mean_chunk-50c1667ba1c1655b5f32c316bc87f0d3', 2, 1, 4))\",\"<Task ('apply_transform-diffraction_pattern-getitem-integrate_fourier_space-mean_chunk-50c1667ba1c1655b5f32c316bc87f0d3', 3, 1, 3) _execute_subgraph(...)>\",\"Alias(('mean_chunk-50c1667ba1c1655b5f32c316bc87f0d3', 2, 2, 6)->('apply_transform-diffraction_pattern-getitem-integrate_fourier_space-mean_chunk-50c1667ba1c1655b5f32c316bc87f0d3', 2, 2, 6))\",\"<Task ('apply_transform-diffraction_pattern-getitem-integrate_fourier_space-mean_chunk-50c1667ba1c1655b5f32c316bc87f0d3', 3, 6, 3) _execute_subgraph(...)>\",\"Alias(('mean_chunk-50c1667ba1c1655b5f32c316bc87f0d3', 2, 2, 0)->('apply_transform-diffraction_pattern-getitem-integrate_fourier_space-mean_chunk-50c1667ba1c1655b5f32c316bc87f0d3', 2, 2, 0))\",\"<Task ('apply_transform-diffraction_pattern-getitem-integrate_fourier_space-mean_chunk-50c1667ba1c1655b5f32c316bc87f0d3', 3, 5, 4) _execute_subgraph(...)>\",\"Alias(('mean_chunk-50c1667ba1c1655b5f32c316bc87f0d3', 2, 1, 1)->('apply_transform-diffraction_pattern-getitem-integrate_fourier_space-mean_chunk-50c1667ba1c1655b5f32c316bc87f0d3', 2, 1, 1))\",\"<Task ('apply_transform-diffraction_pattern-getitem-integrate_fourier_space-mean_chunk-50c1667ba1c1655b5f32c316bc87f0d3', 3, 6, 0) _execute_subgraph(...)>\",\"Alias(('mean_chunk-50c1667ba1c1655b5f32c316bc87f0d3', 2, 2, 3)->('apply_transform-diffraction_pattern-getitem-integrate_fourier_space-mean_chunk-50c1667ba1c1655b5f32c316bc87f0d3', 2, 2, 3))\",\"<Task ('apply_transform-diffraction_pattern-getitem-integrate_fourier_space-mean_chunk-50c1667ba1c1655b5f32c316bc87f0d3', 3, 5, 1) _execute_subgraph(...)>\",\"Alias(('mean_chunk-50c1667ba1c1655b5f32c316bc87f0d3', 3, 3, 0)->('apply_transform-diffraction_pattern-getitem-integrate_fourier_space-mean_chunk-50c1667ba1c1655b5f32c316bc87f0d3', 3, 3, 0))\",\"<Task ('mean_combine-partial-d2adc60119093c72a261f4d86a6aef6a', 1, 3, 0) mean_combine(...)>\",\"<Task ('mean_agg-aggregate-74a08e76432add30879056ee5b013a32', 3, 0) mean_agg(...)>\",\"Alias(('mean_chunk-50c1667ba1c1655b5f32c316bc87f0d3', 3, 6, 2)->('apply_transform-diffraction_pattern-getitem-integrate_fourier_space-mean_chunk-50c1667ba1c1655b5f32c316bc87f0d3', 3, 6, 2))\",\"<Task ('apply_transform-diffraction_pattern-getitem-integrate_fourier_space-mean_chunk-50c1667ba1c1655b5f32c316bc87f0d3', 3, 3, 4) _execute_subgraph(...)>\",\"<Task ('mean_combine-partial-d2adc60119093c72a261f4d86a6aef6a', 1, 6, 2) mean_combine(...)>\",\"<Task ('mean_agg-aggregate-74a08e76432add30879056ee5b013a32', 6, 2) mean_agg(...)>\",\"<Task ('apply_transform-diffraction_pattern-getitem-integrate_fourier_space-mean_chunk-50c1667ba1c1655b5f32c316bc87f0d3', 3, 3, 1) _execute_subgraph(...)>\",\"Alias(('mean_chunk-50c1667ba1c1655b5f32c316bc87f0d3', 3, 5, 3)->('apply_transform-diffraction_pattern-getitem-integrate_fourier_space-mean_chunk-50c1667ba1c1655b5f32c316bc87f0d3', 3, 5, 3))\",\"<Task ('mean_combine-partial-d2adc60119093c72a261f4d86a6aef6a', 1, 5, 3) mean_combine(...)>\",\"<Task ('mean_agg-aggregate-74a08e76432add30879056ee5b013a32', 5, 3) mean_agg(...)>\",\"<Task ('apply_transform-diffraction_pattern-getitem-integrate_fourier_space-mean_chunk-50c1667ba1c1655b5f32c316bc87f0d3', 3, 0, 2) _execute_subgraph(...)>\",\"Alias(('mean_chunk-50c1667ba1c1655b5f32c316bc87f0d3', 3, 5, 6)->('apply_transform-diffraction_pattern-getitem-integrate_fourier_space-mean_chunk-50c1667ba1c1655b5f32c316bc87f0d3', 3, 5, 6))\",\"<Task ('mean_combine-partial-d2adc60119093c72a261f4d86a6aef6a', 1, 5, 6) mean_combine(...)>\",\"<Task ('mean_agg-aggregate-74a08e76432add30879056ee5b013a32', 5, 6) mean_agg(...)>\",\"<Task ('apply_transform-diffraction_pattern-getitem-integrate_fourier_space-mean_chunk-50c1667ba1c1655b5f32c316bc87f0d3', 3, 0, 5) _execute_subgraph(...)>\",\"Alias(('mean_chunk-50c1667ba1c1655b5f32c316bc87f0d3', 3, 0, 4)->('apply_transform-diffraction_pattern-getitem-integrate_fourier_space-mean_chunk-50c1667ba1c1655b5f32c316bc87f0d3', 3, 0, 4))\",\"<Task ('mean_combine-partial-d2adc60119093c72a261f4d86a6aef6a', 1, 0, 4) mean_combine(...)>\",\"<Task ('mean_agg-aggregate-74a08e76432add30879056ee5b013a32', 0, 4) mean_agg(...)>\",\"Alias(('mean_chunk-50c1667ba1c1655b5f32c316bc87f0d3', 3, 3, 3)->('apply_transform-diffraction_pattern-getitem-integrate_fourier_space-mean_chunk-50c1667ba1c1655b5f32c316bc87f0d3', 3, 3, 3))\",\"<Task ('apply_transform-diffraction_pattern-getitem-integrate_fourier_space-mean_chunk-50c1667ba1c1655b5f32c316bc87f0d3', 3, 4, 6) _execute_subgraph(...)>\",\"Alias(('mean_chunk-50c1667ba1c1655b5f32c316bc87f0d3', 3, 5, 0)->('apply_transform-diffraction_pattern-getitem-integrate_fourier_space-mean_chunk-50c1667ba1c1655b5f32c316bc87f0d3', 3, 5, 0))\",\"<Task ('mean_combine-partial-d2adc60119093c72a261f4d86a6aef6a', 1, 3, 3) mean_combine(...)>\",\"<Task ('mean_combine-partial-d2adc60119093c72a261f4d86a6aef6a', 1, 5, 0) mean_combine(...)>\",\"<Task ('mean_agg-aggregate-74a08e76432add30879056ee5b013a32', 3, 3) mean_agg(...)>\",\"Alias(('mean_chunk-50c1667ba1c1655b5f32c316bc87f0d3', 3, 0, 1)->('apply_transform-diffraction_pattern-getitem-integrate_fourier_space-mean_chunk-50c1667ba1c1655b5f32c316bc87f0d3', 3, 0, 1))\",\"<Task ('mean_agg-aggregate-74a08e76432add30879056ee5b013a32', 5, 0) mean_agg(...)>\",\"<Task ('apply_transform-diffraction_pattern-getitem-integrate_fourier_space-mean_chunk-50c1667ba1c1655b5f32c316bc87f0d3', 3, 4, 0) _execute_subgraph(...)>\",\"Alias(('mean_chunk-50c1667ba1c1655b5f32c316bc87f0d3', 3, 3, 6)->('apply_transform-diffraction_pattern-getitem-integrate_fourier_space-mean_chunk-50c1667ba1c1655b5f32c316bc87f0d3', 3, 3, 6))\",\"<Task ('mean_combine-partial-d2adc60119093c72a261f4d86a6aef6a', 1, 0, 1) mean_combine(...)>\",\"<Task ('apply_transform-diffraction_pattern-getitem-integrate_fourier_space-mean_chunk-50c1667ba1c1655b5f32c316bc87f0d3', 3, 4, 3) _execute_subgraph(...)>\",\"<Task ('mean_combine-partial-d2adc60119093c72a261f4d86a6aef6a', 1, 3, 6) mean_combine(...)>\",\"<Task ('mean_agg-aggregate-74a08e76432add30879056ee5b013a32', 0, 1) mean_agg(...)>\",\"<Task ('mean_agg-aggregate-74a08e76432add30879056ee5b013a32', 3, 6) mean_agg(...)>\",\"<Task ('apply_transform-diffraction_pattern-getitem-integrate_fourier_space-mean_chunk-50c1667ba1c1655b5f32c316bc87f0d3', 3, 1, 4) _execute_subgraph(...)>\",\"<Task ('apply_transform-diffraction_pattern-getitem-integrate_fourier_space-mean_chunk-50c1667ba1c1655b5f32c316bc87f0d3', 3, 2, 6) _execute_subgraph(...)>\",\"Alias(('mean_chunk-50c1667ba1c1655b5f32c316bc87f0d3', 3, 4, 5)->('apply_transform-diffraction_pattern-getitem-integrate_fourier_space-mean_chunk-50c1667ba1c1655b5f32c316bc87f0d3', 3, 4, 5))\",\"<Task ('mean_combine-partial-d2adc60119093c72a261f4d86a6aef6a', 1, 4, 5) mean_combine(...)>\",\"Alias(('mean_chunk-50c1667ba1c1655b5f32c316bc87f0d3', 3, 4, 2)->('apply_transform-diffraction_pattern-getitem-integrate_fourier_space-mean_chunk-50c1667ba1c1655b5f32c316bc87f0d3', 3, 4, 2))\",\"<Task ('mean_agg-aggregate-74a08e76432add30879056ee5b013a32', 4, 5) mean_agg(...)>\",\"<Task ('mean_combine-partial-d2adc60119093c72a261f4d86a6aef6a', 1, 4, 2) mean_combine(...)>\",\"<Task ('apply_transform-diffraction_pattern-getitem-integrate_fourier_space-mean_chunk-50c1667ba1c1655b5f32c316bc87f0d3', 3, 2, 0) _execute_subgraph(...)>\",\"<Task ('mean_agg-aggregate-74a08e76432add30879056ee5b013a32', 4, 2) mean_agg(...)>\",\"<Task ('apply_transform-diffraction_pattern-getitem-integrate_fourier_space-mean_chunk-50c1667ba1c1655b5f32c316bc87f0d3', 3, 1, 1) _execute_subgraph(...)>\",\"Alias(('mean_chunk-50c1667ba1c1655b5f32c316bc87f0d3', 3, 1, 6)->('apply_transform-diffraction_pattern-getitem-integrate_fourier_space-mean_chunk-50c1667ba1c1655b5f32c316bc87f0d3', 3, 1, 6))\",\"<Task ('mean_combine-partial-d2adc60119093c72a261f4d86a6aef6a', 1, 1, 6) mean_combine(...)>\",\"<Task ('mean_agg-aggregate-74a08e76432add30879056ee5b013a32', 1, 6) mean_agg(...)>\",\"<Task ('apply_transform-diffraction_pattern-getitem-integrate_fourier_space-mean_chunk-50c1667ba1c1655b5f32c316bc87f0d3', 3, 2, 3) _execute_subgraph(...)>\",\"Alias(('mean_chunk-50c1667ba1c1655b5f32c316bc87f0d3', 3, 2, 5)->('apply_transform-diffraction_pattern-getitem-integrate_fourier_space-mean_chunk-50c1667ba1c1655b5f32c316bc87f0d3', 3, 2, 5))\",\"<Task ('mean_combine-partial-d2adc60119093c72a261f4d86a6aef6a', 1, 2, 5) mean_combine(...)>\",\"<Task ('mean_agg-aggregate-74a08e76432add30879056ee5b013a32', 2, 5) mean_agg(...)>\",\"Alias(('mean_chunk-50c1667ba1c1655b5f32c316bc87f0d3', 3, 1, 0)->('apply_transform-diffraction_pattern-getitem-integrate_fourier_space-mean_chunk-50c1667ba1c1655b5f32c316bc87f0d3', 3, 1, 0))\",\"<Task ('mean_combine-partial-d2adc60119093c72a261f4d86a6aef6a', 1, 1, 0) mean_combine(...)>\",\"<Task ('mean_agg-aggregate-74a08e76432add30879056ee5b013a32', 1, 0) mean_agg(...)>\",\"Alias(('mean_chunk-50c1667ba1c1655b5f32c316bc87f0d3', 3, 2, 2)->('apply_transform-diffraction_pattern-getitem-integrate_fourier_space-mean_chunk-50c1667ba1c1655b5f32c316bc87f0d3', 3, 2, 2))\",\"<Task ('mean_combine-partial-d2adc60119093c72a261f4d86a6aef6a', 1, 2, 2) mean_combine(...)>\",\"<Task ('mean_agg-aggregate-74a08e76432add30879056ee5b013a32', 2, 2) mean_agg(...)>\",\"Alias(('mean_chunk-50c1667ba1c1655b5f32c316bc87f0d3', 3, 1, 3)->('apply_transform-diffraction_pattern-getitem-integrate_fourier_space-mean_chunk-50c1667ba1c1655b5f32c316bc87f0d3', 3, 1, 3))\",\"<Task ('mean_combine-partial-d2adc60119093c72a261f4d86a6aef6a', 1, 1, 3) mean_combine(...)>\",\"<Task ('mean_agg-aggregate-74a08e76432add30879056ee5b013a32', 1, 3) mean_agg(...)>\",\"Alias(('mean_chunk-50c1667ba1c1655b5f32c316bc87f0d3', 3, 6, 3)->('apply_transform-diffraction_pattern-getitem-integrate_fourier_space-mean_chunk-50c1667ba1c1655b5f32c316bc87f0d3', 3, 6, 3))\",\"<Task ('mean_combine-partial-d2adc60119093c72a261f4d86a6aef6a', 1, 6, 3) mean_combine(...)>\",\"<Task ('mean_agg-aggregate-74a08e76432add30879056ee5b013a32', 6, 3) mean_agg(...)>\",\"Alias(('mean_chunk-50c1667ba1c1655b5f32c316bc87f0d3', 3, 6, 0)->('apply_transform-diffraction_pattern-getitem-integrate_fourier_space-mean_chunk-50c1667ba1c1655b5f32c316bc87f0d3', 3, 6, 0))\",\"<Task ('mean_combine-partial-d2adc60119093c72a261f4d86a6aef6a', 1, 6, 0) mean_combine(...)>\",\"<Task ('mean_agg-aggregate-74a08e76432add30879056ee5b013a32', 6, 0) mean_agg(...)>\",\"Alias(('mean_chunk-50c1667ba1c1655b5f32c316bc87f0d3', 3, 5, 4)->('apply_transform-diffraction_pattern-getitem-integrate_fourier_space-mean_chunk-50c1667ba1c1655b5f32c316bc87f0d3', 3, 5, 4))\",\"<Task ('mean_combine-partial-d2adc60119093c72a261f4d86a6aef6a', 1, 5, 4) mean_combine(...)>\",\"<Task ('mean_agg-aggregate-74a08e76432add30879056ee5b013a32', 5, 4) mean_agg(...)>\",\"Alias(('mean_chunk-50c1667ba1c1655b5f32c316bc87f0d3', 3, 3, 4)->('apply_transform-diffraction_pattern-getitem-integrate_fourier_space-mean_chunk-50c1667ba1c1655b5f32c316bc87f0d3', 3, 3, 4))\",\"<Task ('mean_combine-partial-d2adc60119093c72a261f4d86a6aef6a', 1, 3, 4) mean_combine(...)>\",\"Alias(('mean_chunk-50c1667ba1c1655b5f32c316bc87f0d3', 3, 3, 1)->('apply_transform-diffraction_pattern-getitem-integrate_fourier_space-mean_chunk-50c1667ba1c1655b5f32c316bc87f0d3', 3, 3, 1))\",\"<Task ('mean_agg-aggregate-74a08e76432add30879056ee5b013a32', 3, 4) mean_agg(...)>\",\"<Task ('mean_combine-partial-d2adc60119093c72a261f4d86a6aef6a', 1, 3, 1) mean_combine(...)>\",\"<Task ('mean_agg-aggregate-74a08e76432add30879056ee5b013a32', 3, 1) mean_agg(...)>\",\"Alias(('mean_chunk-50c1667ba1c1655b5f32c316bc87f0d3', 3, 5, 1)->('apply_transform-diffraction_pattern-getitem-integrate_fourier_space-mean_chunk-50c1667ba1c1655b5f32c316bc87f0d3', 3, 5, 1))\",\"Alias(('mean_chunk-50c1667ba1c1655b5f32c316bc87f0d3', 3, 0, 2)->('apply_transform-diffraction_pattern-getitem-integrate_fourier_space-mean_chunk-50c1667ba1c1655b5f32c316bc87f0d3', 3, 0, 2))\",\"<Task ('mean_combine-partial-d2adc60119093c72a261f4d86a6aef6a', 1, 5, 1) mean_combine(...)>\",\"<Task ('mean_combine-partial-d2adc60119093c72a261f4d86a6aef6a', 1, 0, 2) mean_combine(...)>\",\"<Task ('mean_agg-aggregate-74a08e76432add30879056ee5b013a32', 5, 1) mean_agg(...)>\",\"<Task ('mean_agg-aggregate-74a08e76432add30879056ee5b013a32', 0, 2) mean_agg(...)>\",\"Alias(('mean_chunk-50c1667ba1c1655b5f32c316bc87f0d3', 3, 0, 5)->('apply_transform-diffraction_pattern-getitem-integrate_fourier_space-mean_chunk-50c1667ba1c1655b5f32c316bc87f0d3', 3, 0, 5))\",\"Alias(('mean_chunk-50c1667ba1c1655b5f32c316bc87f0d3', 3, 4, 0)->('apply_transform-diffraction_pattern-getitem-integrate_fourier_space-mean_chunk-50c1667ba1c1655b5f32c316bc87f0d3', 3, 4, 0))\",\"<Task ('mean_combine-partial-d2adc60119093c72a261f4d86a6aef6a', 1, 0, 5) mean_combine(...)>\",\"Alias(('mean_chunk-50c1667ba1c1655b5f32c316bc87f0d3', 3, 4, 3)->('apply_transform-diffraction_pattern-getitem-integrate_fourier_space-mean_chunk-50c1667ba1c1655b5f32c316bc87f0d3', 3, 4, 3))\",\"Alias(('mean_chunk-50c1667ba1c1655b5f32c316bc87f0d3', 3, 4, 6)->('apply_transform-diffraction_pattern-getitem-integrate_fourier_space-mean_chunk-50c1667ba1c1655b5f32c316bc87f0d3', 3, 4, 6))\",\"Alias(('mean_chunk-50c1667ba1c1655b5f32c316bc87f0d3', 3, 2, 6)->('apply_transform-diffraction_pattern-getitem-integrate_fourier_space-mean_chunk-50c1667ba1c1655b5f32c316bc87f0d3', 3, 2, 6))\",\"<Task ('mean_combine-partial-d2adc60119093c72a261f4d86a6aef6a', 1, 4, 0) mean_combine(...)>\",\"<Task ('mean_agg-aggregate-74a08e76432add30879056ee5b013a32', 0, 5) mean_agg(...)>\",\"<Task ('mean_combine-partial-d2adc60119093c72a261f4d86a6aef6a', 1, 4, 3) mean_combine(...)>\",\"<Task ('mean_combine-partial-d2adc60119093c72a261f4d86a6aef6a', 1, 4, 6) mean_combine(...)>\",\"<Task ('mean_combine-partial-d2adc60119093c72a261f4d86a6aef6a', 1, 2, 6) mean_combine(...)>\",\"<Task ('mean_agg-aggregate-74a08e76432add30879056ee5b013a32', 4, 0) mean_agg(...)>\",\"<Task ('mean_agg-aggregate-74a08e76432add30879056ee5b013a32', 4, 3) mean_agg(...)>\",\"<Task ('mean_agg-aggregate-74a08e76432add30879056ee5b013a32', 4, 6) mean_agg(...)>\",\"<Task ('mean_agg-aggregate-74a08e76432add30879056ee5b013a32', 2, 6) mean_agg(...)>\",\"Alias(('mean_chunk-50c1667ba1c1655b5f32c316bc87f0d3', 3, 1, 4)->('apply_transform-diffraction_pattern-getitem-integrate_fourier_space-mean_chunk-50c1667ba1c1655b5f32c316bc87f0d3', 3, 1, 4))\",\"<Task ('mean_combine-partial-d2adc60119093c72a261f4d86a6aef6a', 1, 1, 4) mean_combine(...)>\",\"Alias(('mean_chunk-50c1667ba1c1655b5f32c316bc87f0d3', 3, 2, 0)->('apply_transform-diffraction_pattern-getitem-integrate_fourier_space-mean_chunk-50c1667ba1c1655b5f32c316bc87f0d3', 3, 2, 0))\",\"<Task ('mean_agg-aggregate-74a08e76432add30879056ee5b013a32', 1, 4) mean_agg(...)>\",\"<Task ('mean_combine-partial-d2adc60119093c72a261f4d86a6aef6a', 1, 2, 0) mean_combine(...)>\",\"<Task ('mean_agg-aggregate-74a08e76432add30879056ee5b013a32', 2, 0) mean_agg(...)>\",\"Alias(('mean_chunk-50c1667ba1c1655b5f32c316bc87f0d3', 3, 2, 3)->('apply_transform-diffraction_pattern-getitem-integrate_fourier_space-mean_chunk-50c1667ba1c1655b5f32c316bc87f0d3', 3, 2, 3))\",\"Alias(('mean_chunk-50c1667ba1c1655b5f32c316bc87f0d3', 3, 1, 1)->('apply_transform-diffraction_pattern-getitem-integrate_fourier_space-mean_chunk-50c1667ba1c1655b5f32c316bc87f0d3', 3, 1, 1))\",\"<Task ('mean_combine-partial-d2adc60119093c72a261f4d86a6aef6a', 1, 2, 3) mean_combine(...)>\",\"<Task ('mean_combine-partial-d2adc60119093c72a261f4d86a6aef6a', 1, 1, 1) mean_combine(...)>\",\"<Task ('mean_agg-aggregate-74a08e76432add30879056ee5b013a32', 2, 3) mean_agg(...)>\",\"<Task ('mean_agg-aggregate-74a08e76432add30879056ee5b013a32', 1, 1) mean_agg(...)>\"]],[\"color\",[\"#450558\",\"#440357\",\"#440255\",\"#440154\",\"#2C728E\",\"#2C718E\",\"#2C708E\",\"#2D6F8E\",\"#72CF55\",\"#6DCE58\",\"#59C764\",\"#44BE70\",\"#60C960\",\"#67CC5C\",\"#3EBC73\",\"#27AD80\",\"#22A784\",\"#24AA82\",\"#4FC369\",\"#49C16D\",\"#2AB07E\",\"#36B877\",\"#2EB27C\",\"#32B57A\",\"#70CE56\",\"#21A784\",\"#2A778E\",\"#404487\",\"#47186A\",\"#481C6E\",\"#472676\",\"#443982\",\"#481C6E\",\"#404387\",\"#45347F\",\"#433C84\",\"#482071\",\"#EEE51B\",\"#453580\",\"#424085\",\"#462D7C\",\"#471466\",\"#471567\",\"#460C5F\",\"#E7E419\",\"#46317E\",\"#460C5F\",\"#48196B\",\"#FDE724\",\"#471163\",\"#45085B\",\"#45327F\",\"#45327F\",\"#45085B\",\"#472A79\",\"#67CC5C\",\"#F6E61F\",\"#472B7A\",\"#440357\",\"#1FA286\",\"#E4E318\",\"#482374\",\"#462F7C\",\"#482172\",\"#472777\",\"#481D6F\",\"#433A83\",\"#2D6E8E\",\"#414186\",\"#F1E51C\",\"#433A83\",\"#25828E\",\"#423D84\",\"#1E988A\",\"#453681\",\"#1E9B89\",\"#1FA187\",\"#460E61\",\"#471265\",\"#1E9E88\",\"#46095C\",\"#1F958B\",\"#471669\",\"#26808E\",\"#277D8E\",\"#46307D\",\"#472878\",\"#2B748E\",\"#45347F\",\"#1F938B\",\"#2A778E\",\"#472C7B\",\"#481E70\",\"#287A8E\",\"#24868D\",\"#472575\",\"#482273\",\"#218D8C\",\"#481A6C\",\"#1E998A\",\"#433B83\",\"#23888D\",\"#423E85\",\"#25838D\",\"#443781\",\"#20908C\",\"#414286\",\"#1E9F88\",\"#228A8D\",\"#460B5E\",\"#47186A\",\"#1E9C89\",\"#470F62\",\"#1F968B\",\"#45065A\",\"#29788E\",\"#471466\",\"#287B8E\",\"#472A79\",\"#277E8E\",\"#472676\",\"#2A758E\",\"#46317E\",\"#1F948B\",\"#228B8D\",\"#20918C\",\"#462D7C\",\"#482071\",\"#38568B\",\"#24848D\",\"#26818E\",\"#2E6D8E\",\"#2A768E\",\"#23878D\",\"#2C708E\",\"#1E9A89\",\"#2F6A8D\",\"#218E8C\",\"#2B738E\",\"#23898D\",\"#3B518A\",\"#1E978A\",\"#1EA087\",\"#3D4A89\",\"#39548B\",\"#1E9D88\",\"#3C4D8A\",\"#267F8E\",\"#3F4788\",\"#2A768E\",\"#30688D\",\"#29798E\",\"#32628D\",\"#2B738E\",\"#355C8C\",\"#277C8E\",\"#31658D\",\"#1F928C\",\"#365A8C\",\"#24858D\",\"#345F8D\",\"#22898D\",\"#218C8D\",\"#38578C\",\"#2B748E\",\"#2BB17D\",\"#470F62\",\"#2D6E8E\",\"#4BC26C\",\"#51C468\",\"#472A79\",\"#64CB5D\",\"#462D7C\",\"#2C718E\",\"#5EC961\",\"#443982\",\"#2E6B8E\",\"#453580\",\"#3D4B89\",\"#57C665\",\"#3C4E8A\",\"#46317E\",\"#208F8C\",\"#3E4888\",\"#3A528B\",\"#26AC81\",\"#45085B\",\"#31668D\",\"#21A784\",\"#FDE724\",\"#33608D\",\"#29AF7F\",\"#23A982\",\"#460C5F\",\"#440357\",\"#2F698D\",\"#32638D\",\"#20A485\",\"#F6E61F\",\"#37588C\",\"#47C06E\",\"#472777\",\"#355D8C\",\"#3DBB74\",\"#482071\",\"#365B8C\",\"#33B679\",\"#47186A\",\"#39558B\",\"#30B47A\",\"#471567\",\"#2D6F8E\",\"#42BE71\",\"#60C960\",\"#482374\",\"#453681\",\"#2C728E\",\"#2E6C8E\",\"#38B976\",\"#481C6E\",\"#2A758E\",\"#53C567\",\"#462F7C\",\"#3E4989\",\"#4DC26B\",\"#472B7A\",\"#3A538B\",\"#59C764\",\"#45327F\",\"#22A784\",\"#3D4C89\",\"#27AD80\",\"#440154\",\"#20A585\",\"#2CB17D\",\"#46095C\",\"#24AA82\",\"#44BE70\",\"#3F4587\",\"#F8E621\",\"#471163\",\"#3B508A\",\"#450558\",\"#472575\",\"#33618D\",\"#345E8D\",\"#30678D\",\"#31648D\",\"#2EB27C\",\"#39B976\",\"#3EBC73\",\"#471265\",\"#481D6F\",\"#482172\",\"#37598C\",\"#20A585\",\"#1E9C89\",\"#49C16D\",\"#472878\",\"#20918C\",\"#35B778\",\"#48196B\",\"#1E9F88\",\"#32B57A\",\"#471669\",\"#1FA286\",\"#55C666\",\"#46307D\",\"#2AB07E\",\"#218E8C\",\"#460E61\",\"#277E8E\",\"#21A685\",\"#4FC369\",\"#FAE622\",\"#472C7B\",\"#29788E\",\"#287B8E\",\"#23A883\",\"#28AE7F\",\"#440255\",\"#460B5E\",\"#1E978A\",\"#1F948B\",\"#1FA386\",\"#F3E51E\",\"#26818E\",\"#5BC862\",\"#62CA5F\",\"#45347F\",\"#3BBA75\",\"#22898D\",\"#443781\",\"#481E70\",\"#24848D\",\"#23878D\",\"#25AB81\",\"#45065A\",\"#40BD72\",\"#21A685\",\"#36B877\",\"#482273\",\"#DFE318\",\"#481A6C\",\"#1EA087\",\"#2E6C8E\",\"#1E9A89\",\"#ECE41A\",\"#1FA386\",\"#C7E01F\",\"#45BF6F\",\"#32638D\",\"#472676\",\"#D4E11A\",\"#1E9D88\",\"#1F928C\",\"#2FB37B\",\"#471466\",\"#218C8D\",\"#AADB32\",\"#37588C\",\"#B7DD29\",\"#208F8C\",\"#CFE11C\",\"#31668D\",\"#DCE218\",\"#277C8E\",\"#D7E219\",\"#2F698D\",\"#E4E318\",\"#29798E\",\"#A2DA37\",\"#39558B\",\"#77D052\",\"#AFDC2E\",\"#414286\",\"#1E988A\",\"#83D34B\",\"#1F958B\",\"#B2DD2C\",\"#BADE27\",\"#69CC5B\",\"#365B8C\",\"#345E8D\",\"#433B83\",\"#BFDF24\",\"#C7E01F\",\"#74D054\",\"#228A8D\",\"#24858D\",\"#267F8E\",\"#8DD644\",\"#3D4C89\",\"#9AD83C\",\"#23888D\",\"#7ED24E\",\"#3F4587\",\"#8BD546\",\"#70CE56\",\"#25828E\",\"#423E85\",\"#7CD24F\",\"#20A485\",\"#95D73F\",\"#E1E318\",\"#3B508A\",\"#2E6D8E\",\"#A2DA37\",\"#EEE51B\",\"#1E9E88\",\"#86D449\",\"#1FA187\",\"#3E4989\",\"#92D741\",\"#1E9B89\",\"#ADDC30\",\"#20908C\",\"#C2DF22\",\"#218D8C\",\"#D2E11B\",\"#CAE01E\",\"#DAE218\",\"#287A8E\",\"#277D8E\",\"#1E998A\",\"#9DD93A\",\"#1F938B\",\"#A5DA35\",\"#1F968B\",\"#72CF55\",\"#25838D\",\"#6BCD59\",\"#228B8D\",\"#97D83E\",\"#24868D\",\"#B5DD2B\",\"#26808E\",\"#BDDE26\",\"#23898D\",\"#79D151\",\"#DCE218\",\"#62CA5F\",\"#CDE01D\",\"#90D643\",\"#88D547\",\"#55C666\",\"#69CC5B\",\"#5BC862\",\"#C5DF21\",\"#45BF6F\",\"#81D34C\",\"#3BBA75\",\"#A7DB33\",\"#40BD72\",\"#25AB81\",\"#9FD938\",\"#23A883\",\"#BFDF24\",\"#6DCE58\",\"#51C468\",\"#74D054\",\"#4BC26C\",\"#D4E11A\",\"#38B976\",\"#2FB37B\",\"#AFDC2E\",\"#28AE7F\",\"#B7DD29\",\"#33B679\",\"#83D34B\",\"#2BB17D\",\"#9AD83C\",\"#6BCD59\",\"#8BD546\",\"#5EC961\",\"#7CD24F\",\"#64CB5D\",\"#92D741\",\"#57C665\",\"#471163\",\"#3A538B\",\"#AADB32\",\"#462F7C\",\"#42BE71\",\"#2F6A8D\",\"#E7E419\",\"#3DBB74\",\"#472777\",\"#31648D\",\"#D7E219\",\"#23A982\",\"#472B7A\",\"#30678D\",\"#DFE318\",\"#26AC81\",\"#F1E51C\",\"#424085\",\"#7ED24E\",\"#471567\",\"#53C567\",\"#482374\",\"#38568B\",\"#33618D\",\"#B2DD2C\",\"#E9E419\",\"#CFE11C\",\"#47C06E\",\"#48196B\",\"#433C84\",\"#4DC26B\",\"#37598C\",\"#77D052\",\"#BADE27\",\"#2CB17D\",\"#39B976\",\"#482172\",\"#345F8D\",\"#481D6F\",\"#CAE01E\",\"#355C8C\",\"#30B47A\",\"#C2DF22\",\"#29AF7F\",\"#450558\",\"#3D4A89\",\"#95D73F\",\"#35B778\",\"#460E61\",\"#3B518A\",\"#A5DA35\",\"#F8E621\",\"#404387\",\"#86D449\",\"#46095C\",\"#3C4D8A\",\"#9DD93A\",\"#440154\",\"#3F4788\",\"#8DD644\",\"#46307D\",\"#2E6B8E\",\"#E9E419\",\"#472C7B\",\"#30688D\",\"#E1E318\",\"#472878\",\"#31658D\",\"#DAE218\",\"#471669\",\"#38578C\",\"#471265\",\"#B5DD2B\",\"#39548B\",\"#ADDC30\",\"#472575\",\"#ECE41A\",\"#32628D\",\"#423D84\",\"#D2E11B\",\"#79D151\",\"#F3E51E\",\"#481A6C\",\"#414186\",\"#481E70\",\"#482273\",\"#470F62\",\"#365A8C\",\"#81D34C\",\"#355D8C\",\"#33608D\",\"#3A528B\",\"#BDDE26\",\"#C5DF21\",\"#CDE01D\",\"#A7DB33\",\"#440255\",\"#3E4888\",\"#45065A\",\"#90D643\",\"#3D4B89\",\"#97D83E\",\"#460B5E\",\"#FAE622\",\"#3C4E8A\",\"#404487\",\"#9FD938\",\"#88D547\"]],[\"key\",[\"('Atoms-concatenate-from-value-wrap_with_array-getitem-c5e998cf033f2b4f70369a491659d762', 3, 0)\",\"('Atoms-concatenate-from-value-wrap_with_array-getitem-c5e998cf033f2b4f70369a491659d762', 2, 0)\",\"('Atoms-concatenate-from-value-wrap_with_array-getitem-c5e998cf033f2b4f70369a491659d762', 1, 0)\",\"('Atoms-concatenate-from-value-wrap_with_array-getitem-c5e998cf033f2b4f70369a491659d762', 0, 0)\",\"('getitem-c5e998cf033f2b4f70369a491659d762', 3, 0)\",\"('getitem-c5e998cf033f2b4f70369a491659d762', 2, 0)\",\"('getitem-c5e998cf033f2b4f70369a491659d762', 1, 0)\",\"('getitem-c5e998cf033f2b4f70369a491659d762', 0, 0)\",\"('apply_transform-diffraction_pattern-getitem-integrate_fourier_space-mean_chunk-50c1667ba1c1655b5f32c316bc87f0d3', 3, 6, 6)\",\"('apply_transform-diffraction_pattern-getitem-integrate_fourier_space-mean_chunk-50c1667ba1c1655b5f32c316bc87f0d3', 3, 6, 4)\",\"('apply_transform-diffraction_pattern-getitem-integrate_fourier_space-mean_chunk-50c1667ba1c1655b5f32c316bc87f0d3', 3, 5, 2)\",\"('apply_transform-diffraction_pattern-getitem-integrate_fourier_space-mean_chunk-50c1667ba1c1655b5f32c316bc87f0d3', 3, 3, 5)\",\"('apply_transform-diffraction_pattern-getitem-integrate_fourier_space-mean_chunk-50c1667ba1c1655b5f32c316bc87f0d3', 3, 5, 5)\",\"('apply_transform-diffraction_pattern-getitem-integrate_fourier_space-mean_chunk-50c1667ba1c1655b5f32c316bc87f0d3', 3, 6, 1)\",\"('apply_transform-diffraction_pattern-getitem-integrate_fourier_space-mean_chunk-50c1667ba1c1655b5f32c316bc87f0d3', 3, 3, 2)\",\"('apply_transform-diffraction_pattern-getitem-integrate_fourier_space-mean_chunk-50c1667ba1c1655b5f32c316bc87f0d3', 3, 0, 6)\",\"('apply_transform-diffraction_pattern-getitem-integrate_fourier_space-mean_chunk-50c1667ba1c1655b5f32c316bc87f0d3', 3, 0, 0)\",\"('apply_transform-diffraction_pattern-getitem-integrate_fourier_space-mean_chunk-50c1667ba1c1655b5f32c316bc87f0d3', 3, 0, 3)\",\"('apply_transform-diffraction_pattern-getitem-integrate_fourier_space-mean_chunk-50c1667ba1c1655b5f32c316bc87f0d3', 3, 4, 4)\",\"('apply_transform-diffraction_pattern-getitem-integrate_fourier_space-mean_chunk-50c1667ba1c1655b5f32c316bc87f0d3', 3, 4, 1)\",\"('apply_transform-diffraction_pattern-getitem-integrate_fourier_space-mean_chunk-50c1667ba1c1655b5f32c316bc87f0d3', 3, 1, 2)\",\"('apply_transform-diffraction_pattern-getitem-integrate_fourier_space-mean_chunk-50c1667ba1c1655b5f32c316bc87f0d3', 3, 2, 4)\",\"('apply_transform-diffraction_pattern-getitem-integrate_fourier_space-mean_chunk-50c1667ba1c1655b5f32c316bc87f0d3', 3, 1, 5)\",\"('apply_transform-diffraction_pattern-getitem-integrate_fourier_space-mean_chunk-50c1667ba1c1655b5f32c316bc87f0d3', 3, 2, 1)\",\"('apply_transform-diffraction_pattern-getitem-integrate_fourier_space-mean_chunk-50c1667ba1c1655b5f32c316bc87f0d3', 3, 6, 5)\",\"('apply_transform-diffraction_pattern-getitem-integrate_fourier_space-mean_chunk-50c1667ba1c1655b5f32c316bc87f0d3', 2, 6, 6)\",\"('apply_transform-diffraction_pattern-getitem-integrate_fourier_space-mean_chunk-50c1667ba1c1655b5f32c316bc87f0d3', 1, 6, 6)\",\"('apply_transform-diffraction_pattern-getitem-integrate_fourier_space-mean_chunk-50c1667ba1c1655b5f32c316bc87f0d3', 0, 6, 6)\",\"('mean_chunk-50c1667ba1c1655b5f32c316bc87f0d3', 3, 3, 5)\",\"('apply_transform-diffraction_pattern-getitem-integrate_fourier_space-mean_chunk-50c1667ba1c1655b5f32c316bc87f0d3', 0, 2, 1)\",\"('mean_chunk-50c1667ba1c1655b5f32c316bc87f0d3', 3, 5, 2)\",\"('apply_transform-diffraction_pattern-getitem-integrate_fourier_space-mean_chunk-50c1667ba1c1655b5f32c316bc87f0d3', 0, 5, 3)\",\"('mean_chunk-50c1667ba1c1655b5f32c316bc87f0d3', 3, 4, 1)\",\"('apply_transform-diffraction_pattern-getitem-integrate_fourier_space-mean_chunk-50c1667ba1c1655b5f32c316bc87f0d3', 0, 6, 5)\",\"('mean_chunk-50c1667ba1c1655b5f32c316bc87f0d3', 3, 6, 6)\",\"('apply_transform-diffraction_pattern-getitem-integrate_fourier_space-mean_chunk-50c1667ba1c1655b5f32c316bc87f0d3', 0, 5, 6)\",\"('mean_chunk-50c1667ba1c1655b5f32c316bc87f0d3', 3, 4, 4)\",\"('mean_chunk-50c1667ba1c1655b5f32c316bc87f0d3', 3, 0, 3)\",\"('apply_transform-diffraction_pattern-getitem-integrate_fourier_space-mean_chunk-50c1667ba1c1655b5f32c316bc87f0d3', 0, 5, 0)\",\"('apply_transform-diffraction_pattern-getitem-integrate_fourier_space-mean_chunk-50c1667ba1c1655b5f32c316bc87f0d3', 0, 6, 2)\",\"('mean_chunk-50c1667ba1c1655b5f32c316bc87f0d3', 3, 6, 1)\",\"('mean_chunk-50c1667ba1c1655b5f32c316bc87f0d3', 3, 3, 2)\",\"('apply_transform-diffraction_pattern-getitem-integrate_fourier_space-mean_chunk-50c1667ba1c1655b5f32c316bc87f0d3', 0, 1, 3)\",\"('apply_transform-diffraction_pattern-getitem-integrate_fourier_space-mean_chunk-50c1667ba1c1655b5f32c316bc87f0d3', 0, 0, 4)\",\"('mean_chunk-50c1667ba1c1655b5f32c316bc87f0d3', 3, 0, 0)\",\"('mean_chunk-50c1667ba1c1655b5f32c316bc87f0d3', 3, 6, 4)\",\"('mean_chunk-50c1667ba1c1655b5f32c316bc87f0d3', 3, 2, 4)\",\"('apply_transform-diffraction_pattern-getitem-integrate_fourier_space-mean_chunk-50c1667ba1c1655b5f32c316bc87f0d3', 0, 1, 6)\",\"('mean_chunk-50c1667ba1c1655b5f32c316bc87f0d3', 3, 1, 2)\",\"('apply_transform-diffraction_pattern-getitem-integrate_fourier_space-mean_chunk-50c1667ba1c1655b5f32c316bc87f0d3', 0, 1, 0)\",\"('apply_transform-diffraction_pattern-getitem-integrate_fourier_space-mean_chunk-50c1667ba1c1655b5f32c316bc87f0d3', 0, 0, 1)\",\"('apply_transform-diffraction_pattern-getitem-integrate_fourier_space-mean_chunk-50c1667ba1c1655b5f32c316bc87f0d3', 0, 4, 5)\",\"('mean_chunk-50c1667ba1c1655b5f32c316bc87f0d3', 3, 6, 5)\",\"('mean_chunk-50c1667ba1c1655b5f32c316bc87f0d3', 3, 2, 1)\",\"('mean_chunk-50c1667ba1c1655b5f32c316bc87f0d3', 3, 5, 5)\",\"('mean_chunk-50c1667ba1c1655b5f32c316bc87f0d3', 1, 6, 6)\",\"('mean_chunk-50c1667ba1c1655b5f32c316bc87f0d3', 3, 0, 6)\",\"('apply_transform-diffraction_pattern-getitem-integrate_fourier_space-mean_chunk-50c1667ba1c1655b5f32c316bc87f0d3', 0, 3, 6)\",\"('mean_chunk-50c1667ba1c1655b5f32c316bc87f0d3', 3, 1, 5)\",\"('mean_chunk-50c1667ba1c1655b5f32c316bc87f0d3', 0, 6, 6)\",\"('mean_chunk-50c1667ba1c1655b5f32c316bc87f0d3', 2, 6, 6)\",\"('apply_transform-diffraction_pattern-getitem-integrate_fourier_space-mean_chunk-50c1667ba1c1655b5f32c316bc87f0d3', 0, 3, 0)\",\"('apply_transform-diffraction_pattern-getitem-integrate_fourier_space-mean_chunk-50c1667ba1c1655b5f32c316bc87f0d3', 0, 4, 2)\",\"('apply_transform-diffraction_pattern-getitem-integrate_fourier_space-mean_chunk-50c1667ba1c1655b5f32c316bc87f0d3', 0, 2, 5)\",\"('apply_transform-diffraction_pattern-getitem-integrate_fourier_space-mean_chunk-50c1667ba1c1655b5f32c316bc87f0d3', 0, 3, 3)\",\"('apply_transform-diffraction_pattern-getitem-integrate_fourier_space-mean_chunk-50c1667ba1c1655b5f32c316bc87f0d3', 0, 2, 2)\",\"('mean_combine-partial-d2adc60119093c72a261f4d86a6aef6a', 0, 6, 6)\",\"('mean_combine-partial-d2adc60119093c72a261f4d86a6aef6a', 1, 6, 6)\",\"('apply_transform-diffraction_pattern-getitem-integrate_fourier_space-mean_chunk-50c1667ba1c1655b5f32c316bc87f0d3', 0, 6, 3)\",\"('mean_agg-aggregate-74a08e76432add30879056ee5b013a32', 6, 6)\",\"('apply_transform-diffraction_pattern-getitem-integrate_fourier_space-mean_chunk-50c1667ba1c1655b5f32c316bc87f0d3', 0, 5, 4)\",\"('mean_chunk-50c1667ba1c1655b5f32c316bc87f0d3', 0, 2, 1)\",\"('apply_transform-diffraction_pattern-getitem-integrate_fourier_space-mean_chunk-50c1667ba1c1655b5f32c316bc87f0d3', 0, 6, 0)\",\"('mean_chunk-50c1667ba1c1655b5f32c316bc87f0d3', 0, 5, 3)\",\"('apply_transform-diffraction_pattern-getitem-integrate_fourier_space-mean_chunk-50c1667ba1c1655b5f32c316bc87f0d3', 0, 5, 1)\",\"('mean_chunk-50c1667ba1c1655b5f32c316bc87f0d3', 0, 5, 6)\",\"('mean_chunk-50c1667ba1c1655b5f32c316bc87f0d3', 0, 6, 5)\",\"('apply_transform-diffraction_pattern-getitem-integrate_fourier_space-mean_chunk-50c1667ba1c1655b5f32c316bc87f0d3', 0, 0, 5)\",\"('apply_transform-diffraction_pattern-getitem-integrate_fourier_space-mean_chunk-50c1667ba1c1655b5f32c316bc87f0d3', 0, 1, 1)\",\"('mean_chunk-50c1667ba1c1655b5f32c316bc87f0d3', 0, 6, 2)\",\"('apply_transform-diffraction_pattern-getitem-integrate_fourier_space-mean_chunk-50c1667ba1c1655b5f32c316bc87f0d3', 0, 0, 2)\",\"('mean_chunk-50c1667ba1c1655b5f32c316bc87f0d3', 0, 5, 0)\",\"('apply_transform-diffraction_pattern-getitem-integrate_fourier_space-mean_chunk-50c1667ba1c1655b5f32c316bc87f0d3', 0, 1, 4)\",\"('mean_chunk-50c1667ba1c1655b5f32c316bc87f0d3', 0, 1, 6)\",\"('mean_chunk-50c1667ba1c1655b5f32c316bc87f0d3', 0, 1, 3)\",\"('apply_transform-diffraction_pattern-getitem-integrate_fourier_space-mean_chunk-50c1667ba1c1655b5f32c316bc87f0d3', 0, 4, 3)\",\"('apply_transform-diffraction_pattern-getitem-integrate_fourier_space-mean_chunk-50c1667ba1c1655b5f32c316bc87f0d3', 0, 3, 4)\",\"('mean_chunk-50c1667ba1c1655b5f32c316bc87f0d3', 0, 0, 1)\",\"('apply_transform-diffraction_pattern-getitem-integrate_fourier_space-mean_chunk-50c1667ba1c1655b5f32c316bc87f0d3', 0, 4, 6)\",\"('mean_chunk-50c1667ba1c1655b5f32c316bc87f0d3', 0, 4, 5)\",\"('mean_chunk-50c1667ba1c1655b5f32c316bc87f0d3', 0, 0, 4)\",\"('apply_transform-diffraction_pattern-getitem-integrate_fourier_space-mean_chunk-50c1667ba1c1655b5f32c316bc87f0d3', 0, 4, 0)\",\"('apply_transform-diffraction_pattern-getitem-integrate_fourier_space-mean_chunk-50c1667ba1c1655b5f32c316bc87f0d3', 0, 2, 3)\",\"('mean_chunk-50c1667ba1c1655b5f32c316bc87f0d3', 0, 1, 0)\",\"('mean_chunk-50c1667ba1c1655b5f32c316bc87f0d3', 0, 2, 5)\",\"('apply_transform-diffraction_pattern-getitem-integrate_fourier_space-mean_chunk-50c1667ba1c1655b5f32c316bc87f0d3', 0, 3, 1)\",\"('apply_transform-diffraction_pattern-getitem-integrate_fourier_space-mean_chunk-50c1667ba1c1655b5f32c316bc87f0d3', 0, 2, 6)\",\"('mean_chunk-50c1667ba1c1655b5f32c316bc87f0d3', 0, 3, 6)\",\"('apply_transform-diffraction_pattern-getitem-integrate_fourier_space-mean_chunk-50c1667ba1c1655b5f32c316bc87f0d3', 0, 2, 0)\",\"('mean_chunk-50c1667ba1c1655b5f32c316bc87f0d3', 0, 5, 4)\",\"('apply_transform-diffraction_pattern-getitem-integrate_fourier_space-mean_chunk-50c1667ba1c1655b5f32c316bc87f0d3', 0, 5, 5)\",\"('mean_chunk-50c1667ba1c1655b5f32c316bc87f0d3', 0, 3, 0)\",\"('apply_transform-diffraction_pattern-getitem-integrate_fourier_space-mean_chunk-50c1667ba1c1655b5f32c316bc87f0d3', 0, 6, 1)\",\"('mean_chunk-50c1667ba1c1655b5f32c316bc87f0d3', 0, 2, 2)\",\"('apply_transform-diffraction_pattern-getitem-integrate_fourier_space-mean_chunk-50c1667ba1c1655b5f32c316bc87f0d3', 0, 5, 2)\",\"('mean_chunk-50c1667ba1c1655b5f32c316bc87f0d3', 0, 4, 2)\",\"('apply_transform-diffraction_pattern-getitem-integrate_fourier_space-mean_chunk-50c1667ba1c1655b5f32c316bc87f0d3', 0, 6, 4)\",\"('mean_chunk-50c1667ba1c1655b5f32c316bc87f0d3', 0, 6, 3)\",\"('mean_chunk-50c1667ba1c1655b5f32c316bc87f0d3', 0, 3, 3)\",\"('apply_transform-diffraction_pattern-getitem-integrate_fourier_space-mean_chunk-50c1667ba1c1655b5f32c316bc87f0d3', 0, 0, 3)\",\"('apply_transform-diffraction_pattern-getitem-integrate_fourier_space-mean_chunk-50c1667ba1c1655b5f32c316bc87f0d3', 0, 1, 5)\",\"('mean_chunk-50c1667ba1c1655b5f32c316bc87f0d3', 0, 6, 0)\",\"('apply_transform-diffraction_pattern-getitem-integrate_fourier_space-mean_chunk-50c1667ba1c1655b5f32c316bc87f0d3', 0, 0, 6)\",\"('mean_chunk-50c1667ba1c1655b5f32c316bc87f0d3', 0, 5, 1)\",\"('apply_transform-diffraction_pattern-getitem-integrate_fourier_space-mean_chunk-50c1667ba1c1655b5f32c316bc87f0d3', 0, 0, 0)\",\"('mean_chunk-50c1667ba1c1655b5f32c316bc87f0d3', 0, 0, 5)\",\"('apply_transform-diffraction_pattern-getitem-integrate_fourier_space-mean_chunk-50c1667ba1c1655b5f32c316bc87f0d3', 0, 1, 2)\",\"('mean_chunk-50c1667ba1c1655b5f32c316bc87f0d3', 0, 1, 1)\",\"('apply_transform-diffraction_pattern-getitem-integrate_fourier_space-mean_chunk-50c1667ba1c1655b5f32c316bc87f0d3', 0, 3, 5)\",\"('mean_chunk-50c1667ba1c1655b5f32c316bc87f0d3', 0, 1, 4)\",\"('apply_transform-diffraction_pattern-getitem-integrate_fourier_space-mean_chunk-50c1667ba1c1655b5f32c316bc87f0d3', 0, 3, 2)\",\"('mean_chunk-50c1667ba1c1655b5f32c316bc87f0d3', 0, 0, 2)\",\"('apply_transform-diffraction_pattern-getitem-integrate_fourier_space-mean_chunk-50c1667ba1c1655b5f32c316bc87f0d3', 0, 4, 4)\",\"('mean_chunk-50c1667ba1c1655b5f32c316bc87f0d3', 0, 4, 6)\",\"('mean_chunk-50c1667ba1c1655b5f32c316bc87f0d3', 0, 3, 4)\",\"('mean_chunk-50c1667ba1c1655b5f32c316bc87f0d3', 0, 4, 3)\",\"('apply_transform-diffraction_pattern-getitem-integrate_fourier_space-mean_chunk-50c1667ba1c1655b5f32c316bc87f0d3', 0, 4, 1)\",\"('apply_transform-diffraction_pattern-getitem-integrate_fourier_space-mean_chunk-50c1667ba1c1655b5f32c316bc87f0d3', 0, 2, 4)\",\"('apply_transform-diffraction_pattern-getitem-integrate_fourier_space-mean_chunk-50c1667ba1c1655b5f32c316bc87f0d3', 1, 2, 1)\",\"('mean_chunk-50c1667ba1c1655b5f32c316bc87f0d3', 0, 2, 3)\",\"('mean_chunk-50c1667ba1c1655b5f32c316bc87f0d3', 0, 2, 0)\",\"('apply_transform-diffraction_pattern-getitem-integrate_fourier_space-mean_chunk-50c1667ba1c1655b5f32c316bc87f0d3', 1, 5, 3)\",\"('apply_transform-diffraction_pattern-getitem-integrate_fourier_space-mean_chunk-50c1667ba1c1655b5f32c316bc87f0d3', 1, 6, 5)\",\"('mean_chunk-50c1667ba1c1655b5f32c316bc87f0d3', 0, 2, 6)\",\"('apply_transform-diffraction_pattern-getitem-integrate_fourier_space-mean_chunk-50c1667ba1c1655b5f32c316bc87f0d3', 1, 5, 6)\",\"('mean_chunk-50c1667ba1c1655b5f32c316bc87f0d3', 0, 5, 5)\",\"('apply_transform-diffraction_pattern-getitem-integrate_fourier_space-mean_chunk-50c1667ba1c1655b5f32c316bc87f0d3', 1, 5, 0)\",\"('mean_chunk-50c1667ba1c1655b5f32c316bc87f0d3', 0, 4, 0)\",\"('apply_transform-diffraction_pattern-getitem-integrate_fourier_space-mean_chunk-50c1667ba1c1655b5f32c316bc87f0d3', 1, 6, 2)\",\"('mean_chunk-50c1667ba1c1655b5f32c316bc87f0d3', 0, 3, 1)\",\"('apply_transform-diffraction_pattern-getitem-integrate_fourier_space-mean_chunk-50c1667ba1c1655b5f32c316bc87f0d3', 1, 1, 3)\",\"('mean_chunk-50c1667ba1c1655b5f32c316bc87f0d3', 0, 5, 2)\",\"('mean_chunk-50c1667ba1c1655b5f32c316bc87f0d3', 0, 6, 4)\",\"('apply_transform-diffraction_pattern-getitem-integrate_fourier_space-mean_chunk-50c1667ba1c1655b5f32c316bc87f0d3', 1, 0, 4)\",\"('apply_transform-diffraction_pattern-getitem-integrate_fourier_space-mean_chunk-50c1667ba1c1655b5f32c316bc87f0d3', 1, 1, 6)\",\"('mean_chunk-50c1667ba1c1655b5f32c316bc87f0d3', 0, 6, 1)\",\"('apply_transform-diffraction_pattern-getitem-integrate_fourier_space-mean_chunk-50c1667ba1c1655b5f32c316bc87f0d3', 1, 1, 0)\",\"('mean_chunk-50c1667ba1c1655b5f32c316bc87f0d3', 0, 1, 5)\",\"('apply_transform-diffraction_pattern-getitem-integrate_fourier_space-mean_chunk-50c1667ba1c1655b5f32c316bc87f0d3', 1, 0, 1)\",\"('mean_chunk-50c1667ba1c1655b5f32c316bc87f0d3', 0, 0, 3)\",\"('apply_transform-diffraction_pattern-getitem-integrate_fourier_space-mean_chunk-50c1667ba1c1655b5f32c316bc87f0d3', 1, 4, 5)\",\"('mean_chunk-50c1667ba1c1655b5f32c316bc87f0d3', 0, 0, 6)\",\"('apply_transform-diffraction_pattern-getitem-integrate_fourier_space-mean_chunk-50c1667ba1c1655b5f32c316bc87f0d3', 1, 3, 6)\",\"('mean_chunk-50c1667ba1c1655b5f32c316bc87f0d3', 0, 0, 0)\",\"('apply_transform-diffraction_pattern-getitem-integrate_fourier_space-mean_chunk-50c1667ba1c1655b5f32c316bc87f0d3', 1, 3, 0)\",\"('mean_chunk-50c1667ba1c1655b5f32c316bc87f0d3', 0, 1, 2)\",\"('apply_transform-diffraction_pattern-getitem-integrate_fourier_space-mean_chunk-50c1667ba1c1655b5f32c316bc87f0d3', 1, 4, 2)\",\"('mean_chunk-50c1667ba1c1655b5f32c316bc87f0d3', 0, 4, 4)\",\"('apply_transform-diffraction_pattern-getitem-integrate_fourier_space-mean_chunk-50c1667ba1c1655b5f32c316bc87f0d3', 1, 2, 5)\",\"('mean_chunk-50c1667ba1c1655b5f32c316bc87f0d3', 0, 2, 4)\",\"('apply_transform-diffraction_pattern-getitem-integrate_fourier_space-mean_chunk-50c1667ba1c1655b5f32c316bc87f0d3', 1, 3, 3)\",\"('mean_chunk-50c1667ba1c1655b5f32c316bc87f0d3', 0, 3, 2)\",\"('mean_chunk-50c1667ba1c1655b5f32c316bc87f0d3', 0, 3, 5)\",\"('apply_transform-diffraction_pattern-getitem-integrate_fourier_space-mean_chunk-50c1667ba1c1655b5f32c316bc87f0d3', 1, 2, 2)\",\"('apply_transform-diffraction_pattern-getitem-integrate_fourier_space-mean_chunk-50c1667ba1c1655b5f32c316bc87f0d3', 1, 6, 3)\",\"('mean_chunk-50c1667ba1c1655b5f32c316bc87f0d3', 1, 2, 1)\",\"('mean_combine-partial-d2adc60119093c72a261f4d86a6aef6a', 0, 2, 1)\",\"('apply_transform-diffraction_pattern-getitem-integrate_fourier_space-mean_chunk-50c1667ba1c1655b5f32c316bc87f0d3', 1, 5, 4)\",\"('mean_chunk-50c1667ba1c1655b5f32c316bc87f0d3', 1, 5, 0)\",\"('mean_chunk-50c1667ba1c1655b5f32c316bc87f0d3', 1, 5, 3)\",\"('mean_combine-partial-d2adc60119093c72a261f4d86a6aef6a', 0, 5, 0)\",\"('mean_chunk-50c1667ba1c1655b5f32c316bc87f0d3', 1, 6, 5)\",\"('mean_combine-partial-d2adc60119093c72a261f4d86a6aef6a', 0, 5, 3)\",\"('apply_transform-diffraction_pattern-getitem-integrate_fourier_space-mean_chunk-50c1667ba1c1655b5f32c316bc87f0d3', 1, 6, 0)\",\"('mean_chunk-50c1667ba1c1655b5f32c316bc87f0d3', 1, 6, 2)\",\"('mean_combine-partial-d2adc60119093c72a261f4d86a6aef6a', 0, 6, 5)\",\"('apply_transform-diffraction_pattern-getitem-integrate_fourier_space-mean_chunk-50c1667ba1c1655b5f32c316bc87f0d3', 1, 5, 1)\",\"('mean_combine-partial-d2adc60119093c72a261f4d86a6aef6a', 0, 6, 2)\",\"('apply_transform-diffraction_pattern-getitem-integrate_fourier_space-mean_chunk-50c1667ba1c1655b5f32c316bc87f0d3', 1, 0, 5)\",\"('mean_chunk-50c1667ba1c1655b5f32c316bc87f0d3', 1, 5, 6)\",\"('apply_transform-diffraction_pattern-getitem-integrate_fourier_space-mean_chunk-50c1667ba1c1655b5f32c316bc87f0d3', 1, 1, 1)\",\"('mean_combine-partial-d2adc60119093c72a261f4d86a6aef6a', 0, 5, 6)\",\"('mean_chunk-50c1667ba1c1655b5f32c316bc87f0d3', 0, 4, 1)\",\"('apply_transform-diffraction_pattern-getitem-integrate_fourier_space-mean_chunk-50c1667ba1c1655b5f32c316bc87f0d3', 1, 0, 2)\",\"('apply_transform-diffraction_pattern-getitem-integrate_fourier_space-mean_chunk-50c1667ba1c1655b5f32c316bc87f0d3', 1, 1, 4)\",\"('mean_chunk-50c1667ba1c1655b5f32c316bc87f0d3', 1, 1, 3)\",\"('mean_combine-partial-d2adc60119093c72a261f4d86a6aef6a', 0, 1, 3)\",\"('apply_transform-diffraction_pattern-getitem-integrate_fourier_space-mean_chunk-50c1667ba1c1655b5f32c316bc87f0d3', 1, 4, 3)\",\"('mean_chunk-50c1667ba1c1655b5f32c316bc87f0d3', 1, 0, 4)\",\"('mean_combine-partial-d2adc60119093c72a261f4d86a6aef6a', 0, 0, 4)\",\"('apply_transform-diffraction_pattern-getitem-integrate_fourier_space-mean_chunk-50c1667ba1c1655b5f32c316bc87f0d3', 1, 3, 4)\",\"('mean_chunk-50c1667ba1c1655b5f32c316bc87f0d3', 1, 1, 6)\",\"('mean_chunk-50c1667ba1c1655b5f32c316bc87f0d3', 1, 1, 0)\",\"('mean_combine-partial-d2adc60119093c72a261f4d86a6aef6a', 0, 1, 6)\",\"('mean_combine-partial-d2adc60119093c72a261f4d86a6aef6a', 0, 1, 0)\",\"('apply_transform-diffraction_pattern-getitem-integrate_fourier_space-mean_chunk-50c1667ba1c1655b5f32c316bc87f0d3', 1, 4, 6)\",\"('apply_transform-diffraction_pattern-getitem-integrate_fourier_space-mean_chunk-50c1667ba1c1655b5f32c316bc87f0d3', 1, 4, 0)\",\"('mean_chunk-50c1667ba1c1655b5f32c316bc87f0d3', 1, 0, 1)\",\"('mean_combine-partial-d2adc60119093c72a261f4d86a6aef6a', 0, 0, 1)\",\"('apply_transform-diffraction_pattern-getitem-integrate_fourier_space-mean_chunk-50c1667ba1c1655b5f32c316bc87f0d3', 1, 2, 3)\",\"('mean_chunk-50c1667ba1c1655b5f32c316bc87f0d3', 1, 4, 5)\",\"('mean_combine-partial-d2adc60119093c72a261f4d86a6aef6a', 0, 4, 5)\",\"('apply_transform-diffraction_pattern-getitem-integrate_fourier_space-mean_chunk-50c1667ba1c1655b5f32c316bc87f0d3', 1, 3, 1)\",\"('mean_chunk-50c1667ba1c1655b5f32c316bc87f0d3', 1, 3, 6)\",\"('mean_combine-partial-d2adc60119093c72a261f4d86a6aef6a', 0, 3, 6)\",\"('apply_transform-diffraction_pattern-getitem-integrate_fourier_space-mean_chunk-50c1667ba1c1655b5f32c316bc87f0d3', 1, 2, 6)\",\"('mean_chunk-50c1667ba1c1655b5f32c316bc87f0d3', 1, 3, 0)\",\"('mean_combine-partial-d2adc60119093c72a261f4d86a6aef6a', 0, 3, 0)\",\"('apply_transform-diffraction_pattern-getitem-integrate_fourier_space-mean_chunk-50c1667ba1c1655b5f32c316bc87f0d3', 1, 2, 0)\",\"('mean_chunk-50c1667ba1c1655b5f32c316bc87f0d3', 1, 2, 5)\",\"('mean_combine-partial-d2adc60119093c72a261f4d86a6aef6a', 0, 2, 5)\",\"('apply_transform-diffraction_pattern-getitem-integrate_fourier_space-mean_chunk-50c1667ba1c1655b5f32c316bc87f0d3', 1, 5, 5)\",\"('mean_chunk-50c1667ba1c1655b5f32c316bc87f0d3', 1, 4, 2)\",\"('mean_chunk-50c1667ba1c1655b5f32c316bc87f0d3', 1, 6, 3)\",\"('mean_combine-partial-d2adc60119093c72a261f4d86a6aef6a', 0, 4, 2)\",\"('mean_combine-partial-d2adc60119093c72a261f4d86a6aef6a', 0, 6, 3)\",\"('apply_transform-diffraction_pattern-getitem-integrate_fourier_space-mean_chunk-50c1667ba1c1655b5f32c316bc87f0d3', 1, 6, 1)\",\"('apply_transform-diffraction_pattern-getitem-integrate_fourier_space-mean_chunk-50c1667ba1c1655b5f32c316bc87f0d3', 1, 5, 2)\",\"('mean_chunk-50c1667ba1c1655b5f32c316bc87f0d3', 1, 3, 3)\",\"('mean_combine-partial-d2adc60119093c72a261f4d86a6aef6a', 0, 3, 3)\",\"('apply_transform-diffraction_pattern-getitem-integrate_fourier_space-mean_chunk-50c1667ba1c1655b5f32c316bc87f0d3', 1, 6, 4)\",\"('mean_chunk-50c1667ba1c1655b5f32c316bc87f0d3', 1, 5, 4)\",\"('mean_combine-partial-d2adc60119093c72a261f4d86a6aef6a', 0, 5, 4)\",\"('apply_transform-diffraction_pattern-getitem-integrate_fourier_space-mean_chunk-50c1667ba1c1655b5f32c316bc87f0d3', 1, 0, 3)\",\"('mean_chunk-50c1667ba1c1655b5f32c316bc87f0d3', 1, 5, 1)\",\"('mean_combine-partial-d2adc60119093c72a261f4d86a6aef6a', 0, 5, 1)\",\"('apply_transform-diffraction_pattern-getitem-integrate_fourier_space-mean_chunk-50c1667ba1c1655b5f32c316bc87f0d3', 1, 1, 5)\",\"('mean_chunk-50c1667ba1c1655b5f32c316bc87f0d3', 1, 6, 0)\",\"('mean_combine-partial-d2adc60119093c72a261f4d86a6aef6a', 0, 6, 0)\",\"('mean_chunk-50c1667ba1c1655b5f32c316bc87f0d3', 1, 0, 5)\",\"('apply_transform-diffraction_pattern-getitem-integrate_fourier_space-mean_chunk-50c1667ba1c1655b5f32c316bc87f0d3', 1, 0, 6)\",\"('mean_chunk-50c1667ba1c1655b5f32c316bc87f0d3', 1, 1, 4)\",\"('mean_combine-partial-d2adc60119093c72a261f4d86a6aef6a', 0, 0, 5)\",\"('mean_chunk-50c1667ba1c1655b5f32c316bc87f0d3', 1, 0, 2)\",\"('mean_chunk-50c1667ba1c1655b5f32c316bc87f0d3', 1, 2, 2)\",\"('mean_combine-partial-d2adc60119093c72a261f4d86a6aef6a', 0, 1, 4)\",\"('mean_chunk-50c1667ba1c1655b5f32c316bc87f0d3', 1, 1, 1)\",\"('mean_chunk-50c1667ba1c1655b5f32c316bc87f0d3', 1, 4, 3)\",\"('apply_transform-diffraction_pattern-getitem-integrate_fourier_space-mean_chunk-50c1667ba1c1655b5f32c316bc87f0d3', 1, 0, 0)\",\"('mean_combine-partial-d2adc60119093c72a261f4d86a6aef6a', 0, 0, 2)\",\"('mean_combine-partial-d2adc60119093c72a261f4d86a6aef6a', 0, 2, 2)\",\"('apply_transform-diffraction_pattern-getitem-integrate_fourier_space-mean_chunk-50c1667ba1c1655b5f32c316bc87f0d3', 1, 1, 2)\",\"('mean_combine-partial-d2adc60119093c72a261f4d86a6aef6a', 0, 1, 1)\",\"('mean_combine-partial-d2adc60119093c72a261f4d86a6aef6a', 0, 4, 3)\",\"('apply_transform-diffraction_pattern-getitem-integrate_fourier_space-mean_chunk-50c1667ba1c1655b5f32c316bc87f0d3', 1, 3, 5)\",\"('apply_transform-diffraction_pattern-getitem-integrate_fourier_space-mean_chunk-50c1667ba1c1655b5f32c316bc87f0d3', 1, 3, 2)\",\"('apply_transform-diffraction_pattern-getitem-integrate_fourier_space-mean_chunk-50c1667ba1c1655b5f32c316bc87f0d3', 1, 4, 4)\",\"('apply_transform-diffraction_pattern-getitem-integrate_fourier_space-mean_chunk-50c1667ba1c1655b5f32c316bc87f0d3', 1, 4, 1)\",\"('mean_chunk-50c1667ba1c1655b5f32c316bc87f0d3', 1, 2, 3)\",\"('mean_chunk-50c1667ba1c1655b5f32c316bc87f0d3', 1, 3, 4)\",\"('mean_chunk-50c1667ba1c1655b5f32c316bc87f0d3', 1, 4, 0)\",\"('mean_combine-partial-d2adc60119093c72a261f4d86a6aef6a', 0, 2, 3)\",\"('mean_combine-partial-d2adc60119093c72a261f4d86a6aef6a', 0, 3, 4)\",\"('mean_combine-partial-d2adc60119093c72a261f4d86a6aef6a', 0, 4, 0)\",\"('apply_transform-diffraction_pattern-getitem-integrate_fourier_space-mean_chunk-50c1667ba1c1655b5f32c316bc87f0d3', 1, 2, 4)\",\"('apply_transform-diffraction_pattern-getitem-integrate_fourier_space-mean_chunk-50c1667ba1c1655b5f32c316bc87f0d3', 2, 6, 4)\",\"('apply_transform-diffraction_pattern-getitem-integrate_fourier_space-mean_chunk-50c1667ba1c1655b5f32c316bc87f0d3', 2, 5, 2)\",\"('mean_chunk-50c1667ba1c1655b5f32c316bc87f0d3', 1, 4, 6)\",\"('mean_combine-partial-d2adc60119093c72a261f4d86a6aef6a', 0, 4, 6)\",\"('apply_transform-diffraction_pattern-getitem-integrate_fourier_space-mean_chunk-50c1667ba1c1655b5f32c316bc87f0d3', 2, 3, 5)\",\"('mean_chunk-50c1667ba1c1655b5f32c316bc87f0d3', 1, 3, 1)\",\"('mean_combine-partial-d2adc60119093c72a261f4d86a6aef6a', 0, 3, 1)\",\"('apply_transform-diffraction_pattern-getitem-integrate_fourier_space-mean_chunk-50c1667ba1c1655b5f32c316bc87f0d3', 2, 5, 5)\",\"('mean_chunk-50c1667ba1c1655b5f32c316bc87f0d3', 1, 2, 6)\",\"('mean_combine-partial-d2adc60119093c72a261f4d86a6aef6a', 0, 2, 6)\",\"('apply_transform-diffraction_pattern-getitem-integrate_fourier_space-mean_chunk-50c1667ba1c1655b5f32c316bc87f0d3', 2, 6, 1)\",\"('mean_chunk-50c1667ba1c1655b5f32c316bc87f0d3', 1, 5, 5)\",\"('mean_combine-partial-d2adc60119093c72a261f4d86a6aef6a', 0, 5, 5)\",\"('mean_chunk-50c1667ba1c1655b5f32c316bc87f0d3', 1, 2, 0)\",\"('apply_transform-diffraction_pattern-getitem-integrate_fourier_space-mean_chunk-50c1667ba1c1655b5f32c316bc87f0d3', 2, 3, 2)\",\"('mean_combine-partial-d2adc60119093c72a261f4d86a6aef6a', 0, 2, 0)\",\"('apply_transform-diffraction_pattern-getitem-integrate_fourier_space-mean_chunk-50c1667ba1c1655b5f32c316bc87f0d3', 2, 0, 6)\",\"('mean_chunk-50c1667ba1c1655b5f32c316bc87f0d3', 1, 0, 3)\",\"('mean_chunk-50c1667ba1c1655b5f32c316bc87f0d3', 1, 5, 2)\",\"('mean_combine-partial-d2adc60119093c72a261f4d86a6aef6a', 0, 0, 3)\",\"('mean_combine-partial-d2adc60119093c72a261f4d86a6aef6a', 0, 5, 2)\",\"('apply_transform-diffraction_pattern-getitem-integrate_fourier_space-mean_chunk-50c1667ba1c1655b5f32c316bc87f0d3', 2, 0, 0)\",\"('apply_transform-diffraction_pattern-getitem-integrate_fourier_space-mean_chunk-50c1667ba1c1655b5f32c316bc87f0d3', 2, 0, 3)\",\"('mean_chunk-50c1667ba1c1655b5f32c316bc87f0d3', 1, 0, 6)\",\"('mean_chunk-50c1667ba1c1655b5f32c316bc87f0d3', 1, 1, 5)\",\"('mean_combine-partial-d2adc60119093c72a261f4d86a6aef6a', 0, 0, 6)\",\"('mean_combine-partial-d2adc60119093c72a261f4d86a6aef6a', 0, 1, 5)\",\"('apply_transform-diffraction_pattern-getitem-integrate_fourier_space-mean_chunk-50c1667ba1c1655b5f32c316bc87f0d3', 2, 4, 4)\",\"('apply_transform-diffraction_pattern-getitem-integrate_fourier_space-mean_chunk-50c1667ba1c1655b5f32c316bc87f0d3', 2, 4, 1)\",\"('mean_chunk-50c1667ba1c1655b5f32c316bc87f0d3', 1, 0, 0)\",\"('mean_combine-partial-d2adc60119093c72a261f4d86a6aef6a', 0, 0, 0)\",\"('apply_transform-diffraction_pattern-getitem-integrate_fourier_space-mean_chunk-50c1667ba1c1655b5f32c316bc87f0d3', 2, 1, 2)\",\"('mean_chunk-50c1667ba1c1655b5f32c316bc87f0d3', 1, 6, 1)\",\"('mean_chunk-50c1667ba1c1655b5f32c316bc87f0d3', 1, 6, 4)\",\"('mean_combine-partial-d2adc60119093c72a261f4d86a6aef6a', 0, 6, 1)\",\"('mean_chunk-50c1667ba1c1655b5f32c316bc87f0d3', 1, 3, 5)\",\"('apply_transform-diffraction_pattern-getitem-integrate_fourier_space-mean_chunk-50c1667ba1c1655b5f32c316bc87f0d3', 2, 2, 4)\",\"('mean_combine-partial-d2adc60119093c72a261f4d86a6aef6a', 0, 6, 4)\",\"('mean_combine-partial-d2adc60119093c72a261f4d86a6aef6a', 0, 3, 5)\",\"('apply_transform-diffraction_pattern-getitem-integrate_fourier_space-mean_chunk-50c1667ba1c1655b5f32c316bc87f0d3', 2, 1, 5)\",\"('apply_transform-diffraction_pattern-getitem-integrate_fourier_space-mean_chunk-50c1667ba1c1655b5f32c316bc87f0d3', 2, 2, 1)\",\"('mean_chunk-50c1667ba1c1655b5f32c316bc87f0d3', 1, 1, 2)\",\"('mean_combine-partial-d2adc60119093c72a261f4d86a6aef6a', 0, 1, 2)\",\"('mean_chunk-50c1667ba1c1655b5f32c316bc87f0d3', 1, 4, 1)\",\"('apply_transform-diffraction_pattern-getitem-integrate_fourier_space-mean_chunk-50c1667ba1c1655b5f32c316bc87f0d3', 2, 6, 5)\",\"('mean_chunk-50c1667ba1c1655b5f32c316bc87f0d3', 1, 3, 2)\",\"('mean_combine-partial-d2adc60119093c72a261f4d86a6aef6a', 0, 4, 1)\",\"('mean_chunk-50c1667ba1c1655b5f32c316bc87f0d3', 2, 6, 4)\",\"('mean_combine-partial-d2adc60119093c72a261f4d86a6aef6a', 0, 3, 2)\",\"('apply_transform-diffraction_pattern-getitem-integrate_fourier_space-mean_chunk-50c1667ba1c1655b5f32c316bc87f0d3', 2, 5, 6)\",\"('mean_combine-partial-d2adc60119093c72a261f4d86a6aef6a', 1, 6, 4)\",\"('apply_transform-diffraction_pattern-getitem-integrate_fourier_space-mean_chunk-50c1667ba1c1655b5f32c316bc87f0d3', 2, 5, 0)\",\"('mean_agg-aggregate-74a08e76432add30879056ee5b013a32', 6, 4)\",\"('apply_transform-diffraction_pattern-getitem-integrate_fourier_space-mean_chunk-50c1667ba1c1655b5f32c316bc87f0d3', 2, 6, 2)\",\"('mean_chunk-50c1667ba1c1655b5f32c316bc87f0d3', 2, 5, 2)\",\"('mean_chunk-50c1667ba1c1655b5f32c316bc87f0d3', 1, 4, 4)\",\"('mean_combine-partial-d2adc60119093c72a261f4d86a6aef6a', 1, 5, 2)\",\"('mean_combine-partial-d2adc60119093c72a261f4d86a6aef6a', 0, 4, 4)\",\"('mean_agg-aggregate-74a08e76432add30879056ee5b013a32', 5, 2)\",\"('apply_transform-diffraction_pattern-getitem-integrate_fourier_space-mean_chunk-50c1667ba1c1655b5f32c316bc87f0d3', 2, 5, 3)\",\"('apply_transform-diffraction_pattern-getitem-integrate_fourier_space-mean_chunk-50c1667ba1c1655b5f32c316bc87f0d3', 2, 3, 6)\",\"('mean_chunk-50c1667ba1c1655b5f32c316bc87f0d3', 1, 2, 4)\",\"('mean_combine-partial-d2adc60119093c72a261f4d86a6aef6a', 0, 2, 4)\",\"('apply_transform-diffraction_pattern-getitem-integrate_fourier_space-mean_chunk-50c1667ba1c1655b5f32c316bc87f0d3', 2, 3, 0)\",\"('mean_chunk-50c1667ba1c1655b5f32c316bc87f0d3', 2, 3, 5)\",\"('mean_combine-partial-d2adc60119093c72a261f4d86a6aef6a', 1, 3, 5)\",\"('mean_agg-aggregate-74a08e76432add30879056ee5b013a32', 3, 5)\",\"('apply_transform-diffraction_pattern-getitem-integrate_fourier_space-mean_chunk-50c1667ba1c1655b5f32c316bc87f0d3', 2, 3, 3)\",\"('mean_chunk-50c1667ba1c1655b5f32c316bc87f0d3', 2, 5, 5)\",\"('mean_combine-partial-d2adc60119093c72a261f4d86a6aef6a', 1, 5, 5)\",\"('mean_agg-aggregate-74a08e76432add30879056ee5b013a32', 5, 5)\",\"('apply_transform-diffraction_pattern-getitem-integrate_fourier_space-mean_chunk-50c1667ba1c1655b5f32c316bc87f0d3', 2, 0, 4)\",\"('mean_chunk-50c1667ba1c1655b5f32c316bc87f0d3', 2, 6, 1)\",\"('mean_combine-partial-d2adc60119093c72a261f4d86a6aef6a', 1, 6, 1)\",\"('mean_agg-aggregate-74a08e76432add30879056ee5b013a32', 6, 1)\",\"('apply_transform-diffraction_pattern-getitem-integrate_fourier_space-mean_chunk-50c1667ba1c1655b5f32c316bc87f0d3', 2, 0, 1)\",\"('mean_chunk-50c1667ba1c1655b5f32c316bc87f0d3', 2, 3, 2)\",\"('mean_combine-partial-d2adc60119093c72a261f4d86a6aef6a', 1, 3, 2)\",\"('mean_chunk-50c1667ba1c1655b5f32c316bc87f0d3', 2, 0, 6)\",\"('mean_agg-aggregate-74a08e76432add30879056ee5b013a32', 3, 2)\",\"('mean_combine-partial-d2adc60119093c72a261f4d86a6aef6a', 1, 0, 6)\",\"('apply_transform-diffraction_pattern-getitem-integrate_fourier_space-mean_chunk-50c1667ba1c1655b5f32c316bc87f0d3', 2, 4, 5)\",\"('mean_agg-aggregate-74a08e76432add30879056ee5b013a32', 0, 6)\",\"('apply_transform-diffraction_pattern-getitem-integrate_fourier_space-mean_chunk-50c1667ba1c1655b5f32c316bc87f0d3', 2, 4, 2)\",\"('mean_chunk-50c1667ba1c1655b5f32c316bc87f0d3', 2, 4, 1)\",\"('mean_chunk-50c1667ba1c1655b5f32c316bc87f0d3', 2, 4, 4)\",\"('mean_chunk-50c1667ba1c1655b5f32c316bc87f0d3', 2, 0, 0)\",\"('mean_combine-partial-d2adc60119093c72a261f4d86a6aef6a', 1, 4, 1)\",\"('mean_combine-partial-d2adc60119093c72a261f4d86a6aef6a', 1, 4, 4)\",\"('mean_combine-partial-d2adc60119093c72a261f4d86a6aef6a', 1, 0, 0)\",\"('mean_agg-aggregate-74a08e76432add30879056ee5b013a32', 4, 1)\",\"('mean_agg-aggregate-74a08e76432add30879056ee5b013a32', 4, 4)\",\"('mean_agg-aggregate-74a08e76432add30879056ee5b013a32', 0, 0)\",\"('apply_transform-diffraction_pattern-getitem-integrate_fourier_space-mean_chunk-50c1667ba1c1655b5f32c316bc87f0d3', 2, 2, 5)\",\"('apply_transform-diffraction_pattern-getitem-integrate_fourier_space-mean_chunk-50c1667ba1c1655b5f32c316bc87f0d3', 2, 1, 6)\",\"('apply_transform-diffraction_pattern-getitem-integrate_fourier_space-mean_chunk-50c1667ba1c1655b5f32c316bc87f0d3', 2, 1, 0)\",\"('mean_chunk-50c1667ba1c1655b5f32c316bc87f0d3', 2, 2, 1)\",\"('mean_combine-partial-d2adc60119093c72a261f4d86a6aef6a', 1, 2, 1)\",\"('mean_agg-aggregate-74a08e76432add30879056ee5b013a32', 2, 1)\",\"('apply_transform-diffraction_pattern-getitem-integrate_fourier_space-mean_chunk-50c1667ba1c1655b5f32c316bc87f0d3', 2, 2, 2)\",\"('mean_chunk-50c1667ba1c1655b5f32c316bc87f0d3', 2, 1, 2)\",\"('mean_combine-partial-d2adc60119093c72a261f4d86a6aef6a', 1, 1, 2)\",\"('mean_agg-aggregate-74a08e76432add30879056ee5b013a32', 1, 2)\",\"('mean_chunk-50c1667ba1c1655b5f32c316bc87f0d3', 2, 0, 3)\",\"('apply_transform-diffraction_pattern-getitem-integrate_fourier_space-mean_chunk-50c1667ba1c1655b5f32c316bc87f0d3', 2, 1, 3)\",\"('mean_combine-partial-d2adc60119093c72a261f4d86a6aef6a', 1, 0, 3)\",\"('mean_agg-aggregate-74a08e76432add30879056ee5b013a32', 0, 3)\",\"('apply_transform-diffraction_pattern-getitem-integrate_fourier_space-mean_chunk-50c1667ba1c1655b5f32c316bc87f0d3', 2, 6, 3)\",\"('mean_chunk-50c1667ba1c1655b5f32c316bc87f0d3', 2, 2, 4)\",\"('mean_chunk-50c1667ba1c1655b5f32c316bc87f0d3', 2, 6, 5)\",\"('mean_combine-partial-d2adc60119093c72a261f4d86a6aef6a', 1, 2, 4)\",\"('mean_combine-partial-d2adc60119093c72a261f4d86a6aef6a', 1, 6, 5)\",\"('mean_agg-aggregate-74a08e76432add30879056ee5b013a32', 2, 4)\",\"('mean_agg-aggregate-74a08e76432add30879056ee5b013a32', 6, 5)\",\"('apply_transform-diffraction_pattern-getitem-integrate_fourier_space-mean_chunk-50c1667ba1c1655b5f32c316bc87f0d3', 2, 5, 4)\",\"('mean_chunk-50c1667ba1c1655b5f32c316bc87f0d3', 2, 1, 5)\",\"('apply_transform-diffraction_pattern-getitem-integrate_fourier_space-mean_chunk-50c1667ba1c1655b5f32c316bc87f0d3', 2, 6, 0)\",\"('mean_combine-partial-d2adc60119093c72a261f4d86a6aef6a', 1, 1, 5)\",\"('mean_agg-aggregate-74a08e76432add30879056ee5b013a32', 1, 5)\",\"('apply_transform-diffraction_pattern-getitem-integrate_fourier_space-mean_chunk-50c1667ba1c1655b5f32c316bc87f0d3', 2, 5, 1)\",\"('mean_chunk-50c1667ba1c1655b5f32c316bc87f0d3', 2, 3, 6)\",\"('apply_transform-diffraction_pattern-getitem-integrate_fourier_space-mean_chunk-50c1667ba1c1655b5f32c316bc87f0d3', 2, 3, 4)\",\"('mean_chunk-50c1667ba1c1655b5f32c316bc87f0d3', 2, 5, 0)\",\"('apply_transform-diffraction_pattern-getitem-integrate_fourier_space-mean_chunk-50c1667ba1c1655b5f32c316bc87f0d3', 2, 3, 1)\",\"('mean_chunk-50c1667ba1c1655b5f32c316bc87f0d3', 2, 5, 6)\",\"('mean_chunk-50c1667ba1c1655b5f32c316bc87f0d3', 2, 5, 3)\",\"('mean_chunk-50c1667ba1c1655b5f32c316bc87f0d3', 2, 6, 2)\",\"('apply_transform-diffraction_pattern-getitem-integrate_fourier_space-mean_chunk-50c1667ba1c1655b5f32c316bc87f0d3', 2, 0, 2)\",\"('apply_transform-diffraction_pattern-getitem-integrate_fourier_space-mean_chunk-50c1667ba1c1655b5f32c316bc87f0d3', 2, 0, 5)\",\"('apply_transform-diffraction_pattern-getitem-integrate_fourier_space-mean_chunk-50c1667ba1c1655b5f32c316bc87f0d3', 2, 4, 6)\",\"('mean_chunk-50c1667ba1c1655b5f32c316bc87f0d3', 2, 3, 0)\",\"('apply_transform-diffraction_pattern-getitem-integrate_fourier_space-mean_chunk-50c1667ba1c1655b5f32c316bc87f0d3', 2, 4, 0)\",\"('mean_chunk-50c1667ba1c1655b5f32c316bc87f0d3', 2, 3, 3)\",\"('apply_transform-diffraction_pattern-getitem-integrate_fourier_space-mean_chunk-50c1667ba1c1655b5f32c316bc87f0d3', 2, 4, 3)\",\"('mean_chunk-50c1667ba1c1655b5f32c316bc87f0d3', 2, 0, 4)\",\"('apply_transform-diffraction_pattern-getitem-integrate_fourier_space-mean_chunk-50c1667ba1c1655b5f32c316bc87f0d3', 2, 1, 4)\",\"('mean_chunk-50c1667ba1c1655b5f32c316bc87f0d3', 2, 0, 1)\",\"('apply_transform-diffraction_pattern-getitem-integrate_fourier_space-mean_chunk-50c1667ba1c1655b5f32c316bc87f0d3', 2, 2, 6)\",\"('mean_chunk-50c1667ba1c1655b5f32c316bc87f0d3', 2, 2, 5)\",\"('apply_transform-diffraction_pattern-getitem-integrate_fourier_space-mean_chunk-50c1667ba1c1655b5f32c316bc87f0d3', 2, 2, 0)\",\"('mean_chunk-50c1667ba1c1655b5f32c316bc87f0d3', 2, 4, 2)\",\"('apply_transform-diffraction_pattern-getitem-integrate_fourier_space-mean_chunk-50c1667ba1c1655b5f32c316bc87f0d3', 2, 1, 1)\",\"('mean_chunk-50c1667ba1c1655b5f32c316bc87f0d3', 2, 4, 5)\",\"('apply_transform-diffraction_pattern-getitem-integrate_fourier_space-mean_chunk-50c1667ba1c1655b5f32c316bc87f0d3', 2, 2, 3)\",\"('mean_chunk-50c1667ba1c1655b5f32c316bc87f0d3', 2, 1, 0)\",\"('mean_chunk-50c1667ba1c1655b5f32c316bc87f0d3', 2, 6, 3)\",\"('apply_transform-diffraction_pattern-getitem-integrate_fourier_space-mean_chunk-50c1667ba1c1655b5f32c316bc87f0d3', 3, 5, 6)\",\"('mean_chunk-50c1667ba1c1655b5f32c316bc87f0d3', 2, 5, 4)\",\"('mean_chunk-50c1667ba1c1655b5f32c316bc87f0d3', 2, 2, 2)\",\"('mean_chunk-50c1667ba1c1655b5f32c316bc87f0d3', 2, 1, 6)\",\"('apply_transform-diffraction_pattern-getitem-integrate_fourier_space-mean_chunk-50c1667ba1c1655b5f32c316bc87f0d3', 3, 5, 0)\",\"('apply_transform-diffraction_pattern-getitem-integrate_fourier_space-mean_chunk-50c1667ba1c1655b5f32c316bc87f0d3', 3, 6, 2)\",\"('apply_transform-diffraction_pattern-getitem-integrate_fourier_space-mean_chunk-50c1667ba1c1655b5f32c316bc87f0d3', 3, 5, 3)\",\"('mean_chunk-50c1667ba1c1655b5f32c316bc87f0d3', 2, 5, 1)\",\"('apply_transform-diffraction_pattern-getitem-integrate_fourier_space-mean_chunk-50c1667ba1c1655b5f32c316bc87f0d3', 3, 3, 6)\",\"('mean_chunk-50c1667ba1c1655b5f32c316bc87f0d3', 2, 1, 3)\",\"('apply_transform-diffraction_pattern-getitem-integrate_fourier_space-mean_chunk-50c1667ba1c1655b5f32c316bc87f0d3', 3, 3, 0)\",\"('mean_chunk-50c1667ba1c1655b5f32c316bc87f0d3', 2, 3, 4)\",\"('apply_transform-diffraction_pattern-getitem-integrate_fourier_space-mean_chunk-50c1667ba1c1655b5f32c316bc87f0d3', 3, 3, 3)\",\"('apply_transform-diffraction_pattern-getitem-integrate_fourier_space-mean_chunk-50c1667ba1c1655b5f32c316bc87f0d3', 3, 0, 4)\",\"('mean_chunk-50c1667ba1c1655b5f32c316bc87f0d3', 2, 3, 1)\",\"('apply_transform-diffraction_pattern-getitem-integrate_fourier_space-mean_chunk-50c1667ba1c1655b5f32c316bc87f0d3', 3, 0, 1)\",\"('mean_chunk-50c1667ba1c1655b5f32c316bc87f0d3', 2, 4, 6)\",\"('mean_chunk-50c1667ba1c1655b5f32c316bc87f0d3', 2, 0, 2)\",\"('apply_transform-diffraction_pattern-getitem-integrate_fourier_space-mean_chunk-50c1667ba1c1655b5f32c316bc87f0d3', 3, 4, 5)\",\"('mean_chunk-50c1667ba1c1655b5f32c316bc87f0d3', 2, 0, 5)\",\"('apply_transform-diffraction_pattern-getitem-integrate_fourier_space-mean_chunk-50c1667ba1c1655b5f32c316bc87f0d3', 3, 4, 2)\",\"('mean_chunk-50c1667ba1c1655b5f32c316bc87f0d3', 2, 6, 0)\",\"('apply_transform-diffraction_pattern-getitem-integrate_fourier_space-mean_chunk-50c1667ba1c1655b5f32c316bc87f0d3', 3, 2, 5)\",\"('apply_transform-diffraction_pattern-getitem-integrate_fourier_space-mean_chunk-50c1667ba1c1655b5f32c316bc87f0d3', 3, 1, 6)\",\"('mean_chunk-50c1667ba1c1655b5f32c316bc87f0d3', 2, 4, 0)\",\"('apply_transform-diffraction_pattern-getitem-integrate_fourier_space-mean_chunk-50c1667ba1c1655b5f32c316bc87f0d3', 3, 1, 0)\",\"('mean_chunk-50c1667ba1c1655b5f32c316bc87f0d3', 2, 4, 3)\",\"('apply_transform-diffraction_pattern-getitem-integrate_fourier_space-mean_chunk-50c1667ba1c1655b5f32c316bc87f0d3', 3, 2, 2)\",\"('mean_chunk-50c1667ba1c1655b5f32c316bc87f0d3', 2, 1, 4)\",\"('apply_transform-diffraction_pattern-getitem-integrate_fourier_space-mean_chunk-50c1667ba1c1655b5f32c316bc87f0d3', 3, 1, 3)\",\"('mean_chunk-50c1667ba1c1655b5f32c316bc87f0d3', 2, 2, 6)\",\"('apply_transform-diffraction_pattern-getitem-integrate_fourier_space-mean_chunk-50c1667ba1c1655b5f32c316bc87f0d3', 3, 6, 3)\",\"('mean_chunk-50c1667ba1c1655b5f32c316bc87f0d3', 2, 2, 0)\",\"('apply_transform-diffraction_pattern-getitem-integrate_fourier_space-mean_chunk-50c1667ba1c1655b5f32c316bc87f0d3', 3, 5, 4)\",\"('mean_chunk-50c1667ba1c1655b5f32c316bc87f0d3', 2, 1, 1)\",\"('apply_transform-diffraction_pattern-getitem-integrate_fourier_space-mean_chunk-50c1667ba1c1655b5f32c316bc87f0d3', 3, 6, 0)\",\"('mean_chunk-50c1667ba1c1655b5f32c316bc87f0d3', 2, 2, 3)\",\"('apply_transform-diffraction_pattern-getitem-integrate_fourier_space-mean_chunk-50c1667ba1c1655b5f32c316bc87f0d3', 3, 5, 1)\",\"('mean_chunk-50c1667ba1c1655b5f32c316bc87f0d3', 3, 3, 0)\",\"('mean_combine-partial-d2adc60119093c72a261f4d86a6aef6a', 1, 3, 0)\",\"('mean_agg-aggregate-74a08e76432add30879056ee5b013a32', 3, 0)\",\"('mean_chunk-50c1667ba1c1655b5f32c316bc87f0d3', 3, 6, 2)\",\"('apply_transform-diffraction_pattern-getitem-integrate_fourier_space-mean_chunk-50c1667ba1c1655b5f32c316bc87f0d3', 3, 3, 4)\",\"('mean_combine-partial-d2adc60119093c72a261f4d86a6aef6a', 1, 6, 2)\",\"('mean_agg-aggregate-74a08e76432add30879056ee5b013a32', 6, 2)\",\"('apply_transform-diffraction_pattern-getitem-integrate_fourier_space-mean_chunk-50c1667ba1c1655b5f32c316bc87f0d3', 3, 3, 1)\",\"('mean_chunk-50c1667ba1c1655b5f32c316bc87f0d3', 3, 5, 3)\",\"('mean_combine-partial-d2adc60119093c72a261f4d86a6aef6a', 1, 5, 3)\",\"('mean_agg-aggregate-74a08e76432add30879056ee5b013a32', 5, 3)\",\"('apply_transform-diffraction_pattern-getitem-integrate_fourier_space-mean_chunk-50c1667ba1c1655b5f32c316bc87f0d3', 3, 0, 2)\",\"('mean_chunk-50c1667ba1c1655b5f32c316bc87f0d3', 3, 5, 6)\",\"('mean_combine-partial-d2adc60119093c72a261f4d86a6aef6a', 1, 5, 6)\",\"('mean_agg-aggregate-74a08e76432add30879056ee5b013a32', 5, 6)\",\"('apply_transform-diffraction_pattern-getitem-integrate_fourier_space-mean_chunk-50c1667ba1c1655b5f32c316bc87f0d3', 3, 0, 5)\",\"('mean_chunk-50c1667ba1c1655b5f32c316bc87f0d3', 3, 0, 4)\",\"('mean_combine-partial-d2adc60119093c72a261f4d86a6aef6a', 1, 0, 4)\",\"('mean_agg-aggregate-74a08e76432add30879056ee5b013a32', 0, 4)\",\"('mean_chunk-50c1667ba1c1655b5f32c316bc87f0d3', 3, 3, 3)\",\"('apply_transform-diffraction_pattern-getitem-integrate_fourier_space-mean_chunk-50c1667ba1c1655b5f32c316bc87f0d3', 3, 4, 6)\",\"('mean_chunk-50c1667ba1c1655b5f32c316bc87f0d3', 3, 5, 0)\",\"('mean_combine-partial-d2adc60119093c72a261f4d86a6aef6a', 1, 3, 3)\",\"('mean_combine-partial-d2adc60119093c72a261f4d86a6aef6a', 1, 5, 0)\",\"('mean_agg-aggregate-74a08e76432add30879056ee5b013a32', 3, 3)\",\"('mean_chunk-50c1667ba1c1655b5f32c316bc87f0d3', 3, 0, 1)\",\"('mean_agg-aggregate-74a08e76432add30879056ee5b013a32', 5, 0)\",\"('apply_transform-diffraction_pattern-getitem-integrate_fourier_space-mean_chunk-50c1667ba1c1655b5f32c316bc87f0d3', 3, 4, 0)\",\"('mean_chunk-50c1667ba1c1655b5f32c316bc87f0d3', 3, 3, 6)\",\"('mean_combine-partial-d2adc60119093c72a261f4d86a6aef6a', 1, 0, 1)\",\"('apply_transform-diffraction_pattern-getitem-integrate_fourier_space-mean_chunk-50c1667ba1c1655b5f32c316bc87f0d3', 3, 4, 3)\",\"('mean_combine-partial-d2adc60119093c72a261f4d86a6aef6a', 1, 3, 6)\",\"('mean_agg-aggregate-74a08e76432add30879056ee5b013a32', 0, 1)\",\"('mean_agg-aggregate-74a08e76432add30879056ee5b013a32', 3, 6)\",\"('apply_transform-diffraction_pattern-getitem-integrate_fourier_space-mean_chunk-50c1667ba1c1655b5f32c316bc87f0d3', 3, 1, 4)\",\"('apply_transform-diffraction_pattern-getitem-integrate_fourier_space-mean_chunk-50c1667ba1c1655b5f32c316bc87f0d3', 3, 2, 6)\",\"('mean_chunk-50c1667ba1c1655b5f32c316bc87f0d3', 3, 4, 5)\",\"('mean_combine-partial-d2adc60119093c72a261f4d86a6aef6a', 1, 4, 5)\",\"('mean_chunk-50c1667ba1c1655b5f32c316bc87f0d3', 3, 4, 2)\",\"('mean_agg-aggregate-74a08e76432add30879056ee5b013a32', 4, 5)\",\"('mean_combine-partial-d2adc60119093c72a261f4d86a6aef6a', 1, 4, 2)\",\"('apply_transform-diffraction_pattern-getitem-integrate_fourier_space-mean_chunk-50c1667ba1c1655b5f32c316bc87f0d3', 3, 2, 0)\",\"('mean_agg-aggregate-74a08e76432add30879056ee5b013a32', 4, 2)\",\"('apply_transform-diffraction_pattern-getitem-integrate_fourier_space-mean_chunk-50c1667ba1c1655b5f32c316bc87f0d3', 3, 1, 1)\",\"('mean_chunk-50c1667ba1c1655b5f32c316bc87f0d3', 3, 1, 6)\",\"('mean_combine-partial-d2adc60119093c72a261f4d86a6aef6a', 1, 1, 6)\",\"('mean_agg-aggregate-74a08e76432add30879056ee5b013a32', 1, 6)\",\"('apply_transform-diffraction_pattern-getitem-integrate_fourier_space-mean_chunk-50c1667ba1c1655b5f32c316bc87f0d3', 3, 2, 3)\",\"('mean_chunk-50c1667ba1c1655b5f32c316bc87f0d3', 3, 2, 5)\",\"('mean_combine-partial-d2adc60119093c72a261f4d86a6aef6a', 1, 2, 5)\",\"('mean_agg-aggregate-74a08e76432add30879056ee5b013a32', 2, 5)\",\"('mean_chunk-50c1667ba1c1655b5f32c316bc87f0d3', 3, 1, 0)\",\"('mean_combine-partial-d2adc60119093c72a261f4d86a6aef6a', 1, 1, 0)\",\"('mean_agg-aggregate-74a08e76432add30879056ee5b013a32', 1, 0)\",\"('mean_chunk-50c1667ba1c1655b5f32c316bc87f0d3', 3, 2, 2)\",\"('mean_combine-partial-d2adc60119093c72a261f4d86a6aef6a', 1, 2, 2)\",\"('mean_agg-aggregate-74a08e76432add30879056ee5b013a32', 2, 2)\",\"('mean_chunk-50c1667ba1c1655b5f32c316bc87f0d3', 3, 1, 3)\",\"('mean_combine-partial-d2adc60119093c72a261f4d86a6aef6a', 1, 1, 3)\",\"('mean_agg-aggregate-74a08e76432add30879056ee5b013a32', 1, 3)\",\"('mean_chunk-50c1667ba1c1655b5f32c316bc87f0d3', 3, 6, 3)\",\"('mean_combine-partial-d2adc60119093c72a261f4d86a6aef6a', 1, 6, 3)\",\"('mean_agg-aggregate-74a08e76432add30879056ee5b013a32', 6, 3)\",\"('mean_chunk-50c1667ba1c1655b5f32c316bc87f0d3', 3, 6, 0)\",\"('mean_combine-partial-d2adc60119093c72a261f4d86a6aef6a', 1, 6, 0)\",\"('mean_agg-aggregate-74a08e76432add30879056ee5b013a32', 6, 0)\",\"('mean_chunk-50c1667ba1c1655b5f32c316bc87f0d3', 3, 5, 4)\",\"('mean_combine-partial-d2adc60119093c72a261f4d86a6aef6a', 1, 5, 4)\",\"('mean_agg-aggregate-74a08e76432add30879056ee5b013a32', 5, 4)\",\"('mean_chunk-50c1667ba1c1655b5f32c316bc87f0d3', 3, 3, 4)\",\"('mean_combine-partial-d2adc60119093c72a261f4d86a6aef6a', 1, 3, 4)\",\"('mean_chunk-50c1667ba1c1655b5f32c316bc87f0d3', 3, 3, 1)\",\"('mean_agg-aggregate-74a08e76432add30879056ee5b013a32', 3, 4)\",\"('mean_combine-partial-d2adc60119093c72a261f4d86a6aef6a', 1, 3, 1)\",\"('mean_agg-aggregate-74a08e76432add30879056ee5b013a32', 3, 1)\",\"('mean_chunk-50c1667ba1c1655b5f32c316bc87f0d3', 3, 5, 1)\",\"('mean_chunk-50c1667ba1c1655b5f32c316bc87f0d3', 3, 0, 2)\",\"('mean_combine-partial-d2adc60119093c72a261f4d86a6aef6a', 1, 5, 1)\",\"('mean_combine-partial-d2adc60119093c72a261f4d86a6aef6a', 1, 0, 2)\",\"('mean_agg-aggregate-74a08e76432add30879056ee5b013a32', 5, 1)\",\"('mean_agg-aggregate-74a08e76432add30879056ee5b013a32', 0, 2)\",\"('mean_chunk-50c1667ba1c1655b5f32c316bc87f0d3', 3, 0, 5)\",\"('mean_chunk-50c1667ba1c1655b5f32c316bc87f0d3', 3, 4, 0)\",\"('mean_combine-partial-d2adc60119093c72a261f4d86a6aef6a', 1, 0, 5)\",\"('mean_chunk-50c1667ba1c1655b5f32c316bc87f0d3', 3, 4, 3)\",\"('mean_chunk-50c1667ba1c1655b5f32c316bc87f0d3', 3, 4, 6)\",\"('mean_chunk-50c1667ba1c1655b5f32c316bc87f0d3', 3, 2, 6)\",\"('mean_combine-partial-d2adc60119093c72a261f4d86a6aef6a', 1, 4, 0)\",\"('mean_agg-aggregate-74a08e76432add30879056ee5b013a32', 0, 5)\",\"('mean_combine-partial-d2adc60119093c72a261f4d86a6aef6a', 1, 4, 3)\",\"('mean_combine-partial-d2adc60119093c72a261f4d86a6aef6a', 1, 4, 6)\",\"('mean_combine-partial-d2adc60119093c72a261f4d86a6aef6a', 1, 2, 6)\",\"('mean_agg-aggregate-74a08e76432add30879056ee5b013a32', 4, 0)\",\"('mean_agg-aggregate-74a08e76432add30879056ee5b013a32', 4, 3)\",\"('mean_agg-aggregate-74a08e76432add30879056ee5b013a32', 4, 6)\",\"('mean_agg-aggregate-74a08e76432add30879056ee5b013a32', 2, 6)\",\"('mean_chunk-50c1667ba1c1655b5f32c316bc87f0d3', 3, 1, 4)\",\"('mean_combine-partial-d2adc60119093c72a261f4d86a6aef6a', 1, 1, 4)\",\"('mean_chunk-50c1667ba1c1655b5f32c316bc87f0d3', 3, 2, 0)\",\"('mean_agg-aggregate-74a08e76432add30879056ee5b013a32', 1, 4)\",\"('mean_combine-partial-d2adc60119093c72a261f4d86a6aef6a', 1, 2, 0)\",\"('mean_agg-aggregate-74a08e76432add30879056ee5b013a32', 2, 0)\",\"('mean_chunk-50c1667ba1c1655b5f32c316bc87f0d3', 3, 2, 3)\",\"('mean_chunk-50c1667ba1c1655b5f32c316bc87f0d3', 3, 1, 1)\",\"('mean_combine-partial-d2adc60119093c72a261f4d86a6aef6a', 1, 2, 3)\",\"('mean_combine-partial-d2adc60119093c72a261f4d86a6aef6a', 1, 1, 1)\",\"('mean_agg-aggregate-74a08e76432add30879056ee5b013a32', 2, 3)\",\"('mean_agg-aggregate-74a08e76432add30879056ee5b013a32', 1, 1)\"]]]}}},\"view\":{\"type\":\"object\",\"name\":\"CDSView\",\"id\":\"p1040\",\"attributes\":{\"filter\":{\"type\":\"object\",\"name\":\"AllIndices\",\"id\":\"p1041\"}}},\"glyph\":{\"type\":\"object\",\"name\":\"Rect\",\"id\":\"p1036\",\"attributes\":{\"x\":{\"type\":\"field\",\"field\":\"x\"},\"y\":{\"type\":\"field\",\"field\":\"y\"},\"width\":{\"type\":\"field\",\"field\":\"width\"},\"height\":{\"type\":\"value\",\"value\":1},\"line_color\":{\"type\":\"value\",\"value\":\"gray\"},\"fill_color\":{\"type\":\"field\",\"field\":\"color\"},\"hatch_color\":{\"type\":\"field\",\"field\":\"color\"}}},\"nonselection_glyph\":{\"type\":\"object\",\"name\":\"Rect\",\"id\":\"p1037\",\"attributes\":{\"x\":{\"type\":\"field\",\"field\":\"x\"},\"y\":{\"type\":\"field\",\"field\":\"y\"},\"width\":{\"type\":\"field\",\"field\":\"width\"},\"height\":{\"type\":\"value\",\"value\":1},\"line_color\":{\"type\":\"value\",\"value\":\"gray\"},\"line_alpha\":{\"type\":\"value\",\"value\":0.1},\"fill_color\":{\"type\":\"field\",\"field\":\"color\"},\"fill_alpha\":{\"type\":\"value\",\"value\":0.1},\"hatch_color\":{\"type\":\"field\",\"field\":\"color\"},\"hatch_alpha\":{\"type\":\"value\",\"value\":0.1}}},\"muted_glyph\":{\"type\":\"object\",\"name\":\"Rect\",\"id\":\"p1038\",\"attributes\":{\"x\":{\"type\":\"field\",\"field\":\"x\"},\"y\":{\"type\":\"field\",\"field\":\"y\"},\"width\":{\"type\":\"field\",\"field\":\"width\"},\"height\":{\"type\":\"value\",\"value\":1},\"line_color\":{\"type\":\"value\",\"value\":\"gray\"},\"line_alpha\":{\"type\":\"value\",\"value\":0.2},\"fill_color\":{\"type\":\"field\",\"field\":\"color\"},\"fill_alpha\":{\"type\":\"value\",\"value\":0.2},\"hatch_color\":{\"type\":\"field\",\"field\":\"color\"},\"hatch_alpha\":{\"type\":\"value\",\"value\":0.2}}}}}],\"toolbar\":{\"type\":\"object\",\"name\":\"Toolbar\",\"id\":\"p1010\",\"attributes\":{\"tools\":[{\"type\":\"object\",\"name\":\"HoverTool\",\"id\":\"p1025\",\"attributes\":{\"renderers\":\"auto\",\"tooltips\":\"\\n    <div>\\n        <span style=\\\"font-size: 14px; font-weight: bold;\\\">Key:</span>&nbsp;\\n        <span style=\\\"font-size: 10px; font-family: Monaco, monospace;\\\">@key</span>\\n    </div>\\n    <div>\\n        <span style=\\\"font-size: 14px; font-weight: bold;\\\">Task:</span>&nbsp;\\n        <span style=\\\"font-size: 10px; font-family: Monaco, monospace;\\\">@function</span>\\n    </div>\\n    \",\"point_policy\":\"follow_mouse\"}},{\"type\":\"object\",\"name\":\"SaveTool\",\"id\":\"p1026\"},{\"type\":\"object\",\"name\":\"ResetTool\",\"id\":\"p1027\"},{\"type\":\"object\",\"name\":\"WheelZoomTool\",\"id\":\"p1028\",\"attributes\":{\"dimensions\":\"width\",\"renderers\":\"auto\"}},{\"type\":\"object\",\"name\":\"PanTool\",\"id\":\"p1029\",\"attributes\":{\"dimensions\":\"width\"}}]}},\"toolbar_location\":\"above\",\"left\":[{\"type\":\"object\",\"name\":\"CategoricalAxis\",\"id\":\"p1020\",\"attributes\":{\"ticker\":{\"type\":\"object\",\"name\":\"CategoricalTicker\",\"id\":\"p1021\"},\"formatter\":{\"type\":\"object\",\"name\":\"CategoricalTickFormatter\",\"id\":\"p1022\"},\"axis_label\":\"Worker ID\",\"major_label_policy\":{\"type\":\"object\",\"name\":\"AllLabels\",\"id\":\"p1023\"},\"axis_line_color\":null,\"major_tick_line_color\":null}}],\"below\":[{\"type\":\"object\",\"name\":\"LinearAxis\",\"id\":\"p1015\",\"attributes\":{\"ticker\":{\"type\":\"object\",\"name\":\"BasicTicker\",\"id\":\"p1016\",\"attributes\":{\"mantissas\":[1,2,5]}},\"formatter\":{\"type\":\"object\",\"name\":\"BasicTickFormatter\",\"id\":\"p1017\"},\"axis_label\":\"Time (s)\",\"major_label_policy\":{\"type\":\"object\",\"name\":\"AllLabels\",\"id\":\"p1018\"},\"axis_line_color\":null,\"major_tick_line_color\":null}}],\"center\":[{\"type\":\"object\",\"name\":\"Grid\",\"id\":\"p1019\",\"attributes\":{\"axis\":{\"id\":\"p1015\"},\"grid_line_color\":null}},{\"type\":\"object\",\"name\":\"Grid\",\"id\":\"p1024\",\"attributes\":{\"dimension\":1,\"axis\":{\"id\":\"p1020\"},\"grid_line_color\":null}}]}}]}};\n",
       "  const render_items = [{\"docid\":\"8a919528-41d1-46c4-a16d-4c2a58be29b6\",\"roots\":{\"p1001\":\"dfc45b26-f356-4c1d-bd84-7adbcc346f26\"},\"root_ids\":[\"p1001\"]}];\n",
       "  void root.Bokeh.embed.embed_items_notebook(docs_json, render_items);\n",
       "  }\n",
       "  if (root.Bokeh !== undefined) {\n",
       "    embed_document(root);\n",
       "  } else {\n",
       "    let attempts = 0;\n",
       "    const timer = setInterval(function(root) {\n",
       "      if (root.Bokeh !== undefined) {\n",
       "        clearInterval(timer);\n",
       "        embed_document(root);\n",
       "      } else {\n",
       "        attempts++;\n",
       "        if (attempts > 100) {\n",
       "          clearInterval(timer);\n",
       "          console.log(\"Bokeh: ERROR: Unable to run BokehJS code because BokehJS library is missing\");\n",
       "        }\n",
       "      }\n",
       "    }, 10, root)\n",
       "  }\n",
       "})(window);"
      ],
      "application/vnd.bokehjs_exec.v0+json": ""
     },
     "metadata": {
      "application/vnd.bokehjs_exec.v0+json": {
       "id": "p1001"
      }
     },
     "output_type": "display_data"
    }
   ],
   "source": [
    "profilers[0].visualize();"
   ]
  },
  {
   "cell_type": "markdown",
   "id": "9f7afda6-5b1d-4362-9495-4ad140716f5f",
   "metadata": {},
   "source": [
    "The result from the `ResourceProfiler` is shown below: This shows two lines, one for total CPU percentage used by all the workers, and one for total memory usage. The CPU usage is scaled so each worker contributes up to $100 \\ \\%$, i.e. two fully utilized workers use $200 \\ \\%$."
   ]
  },
  {
   "cell_type": "code",
   "execution_count": 15,
   "id": "42497cde-4e5c-4844-91e5-e8d91e1aafa9",
   "metadata": {
    "editable": true,
    "slideshow": {
     "slide_type": ""
    },
    "tags": [
     "skip-test"
    ]
   },
   "outputs": [
    {
     "data": {
      "text/html": [
       "\n",
       "  <div id=\"e34f1c38-9d43-49af-8053-af9c84eeb727\" data-root-id=\"p1042\" style=\"display: contents;\"></div>\n"
      ]
     },
     "metadata": {},
     "output_type": "display_data"
    },
    {
     "data": {
      "application/javascript": [
       "(function(root) {\n",
       "  function embed_document(root) {\n",
       "  const docs_json = {\"c6e015b4-7171-405a-8164-9bd3fe48ded9\":{\"version\":\"3.7.2\",\"title\":\"Bokeh Application\",\"roots\":[{\"type\":\"object\",\"name\":\"Figure\",\"id\":\"p1042\",\"attributes\":{\"width\":800,\"height\":300,\"x_range\":{\"type\":\"object\",\"name\":\"Range1d\",\"id\":\"p1052\",\"attributes\":{\"end\":15.47304954007268}},\"y_range\":{\"type\":\"object\",\"name\":\"Range1d\",\"id\":\"p1053\",\"attributes\":{\"end\":744.3}},\"x_scale\":{\"type\":\"object\",\"name\":\"LinearScale\",\"id\":\"p1054\"},\"y_scale\":{\"type\":\"object\",\"name\":\"LinearScale\",\"id\":\"p1055\"},\"extra_y_ranges\":{\"type\":\"map\",\"entries\":[[\"memory\",{\"type\":\"object\",\"name\":\"Range1d\",\"id\":\"p1081\",\"attributes\":{\"start\":1244.291072,\"end\":1946.43968}}]]},\"title\":{\"type\":\"object\",\"name\":\"Title\",\"id\":\"p1045\",\"attributes\":{\"text\":\"Profile Results\"}},\"renderers\":[{\"type\":\"object\",\"name\":\"GlyphRenderer\",\"id\":\"p1076\",\"attributes\":{\"data_source\":{\"type\":\"object\",\"name\":\"ColumnDataSource\",\"id\":\"p1070\",\"attributes\":{\"selected\":{\"type\":\"object\",\"name\":\"Selection\",\"id\":\"p1071\",\"attributes\":{\"indices\":[],\"line_indices\":[]}},\"selection_policy\":{\"type\":\"object\",\"name\":\"UnionRenderers\",\"id\":\"p1072\"},\"data\":{\"type\":\"map\",\"entries\":[[\"x\",[0.38253162195906043,1.4114870910998434,2.415917433099821,3.4193524850998074,4.419719479978085,5.422179005108774,6.424914052011445,7.426294045057148,8.426699226954952,9.428520122077316,10.432914349017665,11.43357425602153,12.437731834128499,13.439194513019174,14.442708790069446]],[\"y\",[0.0,744.3,416.9,630.8,635.9,429.9,597.0,630.1,448.1,550.4,604.3,437.6,564.6,632.6,477.2]]]}}},\"view\":{\"type\":\"object\",\"name\":\"CDSView\",\"id\":\"p1077\",\"attributes\":{\"filter\":{\"type\":\"object\",\"name\":\"AllIndices\",\"id\":\"p1078\"}}},\"glyph\":{\"type\":\"object\",\"name\":\"Line\",\"id\":\"p1073\",\"attributes\":{\"x\":{\"type\":\"field\",\"field\":\"x\"},\"y\":{\"type\":\"field\",\"field\":\"y\"},\"line_color\":\"#440154\",\"line_width\":4}},\"nonselection_glyph\":{\"type\":\"object\",\"name\":\"Line\",\"id\":\"p1074\",\"attributes\":{\"x\":{\"type\":\"field\",\"field\":\"x\"},\"y\":{\"type\":\"field\",\"field\":\"y\"},\"line_color\":\"#440154\",\"line_alpha\":0.1,\"line_width\":4}},\"muted_glyph\":{\"type\":\"object\",\"name\":\"Line\",\"id\":\"p1075\",\"attributes\":{\"x\":{\"type\":\"field\",\"field\":\"x\"},\"y\":{\"type\":\"field\",\"field\":\"y\"},\"line_color\":\"#440154\",\"line_alpha\":0.2,\"line_width\":4}}}},{\"type\":\"object\",\"name\":\"GlyphRenderer\",\"id\":\"p1088\",\"attributes\":{\"y_range_name\":\"memory\",\"data_source\":{\"type\":\"object\",\"name\":\"ColumnDataSource\",\"id\":\"p1082\",\"attributes\":{\"selected\":{\"type\":\"object\",\"name\":\"Selection\",\"id\":\"p1083\",\"attributes\":{\"indices\":[],\"line_indices\":[]}},\"selection_policy\":{\"type\":\"object\",\"name\":\"UnionRenderers\",\"id\":\"p1084\"},\"data\":{\"type\":\"map\",\"entries\":[[\"x\",[0.38253162195906043,1.4114870910998434,2.415917433099821,3.4193524850998074,4.419719479978085,5.422179005108774,6.424914052011445,7.426294045057148,8.426699226954952,9.428520122077316,10.432914349017665,11.43357425602153,12.437731834128499,13.439194513019174,14.442708790069446]],[\"y\",[1244.291072,1515.503616,1608.474624,1725.571072,1815.351296,1867.8784,1893.19168,1910.009856,1919.54944,1944.727552,1944.76032,1945.300992,1945.387008,1946.43968,1946.43968]]]}}},\"view\":{\"type\":\"object\",\"name\":\"CDSView\",\"id\":\"p1089\",\"attributes\":{\"filter\":{\"type\":\"object\",\"name\":\"AllIndices\",\"id\":\"p1090\"}}},\"glyph\":{\"type\":\"object\",\"name\":\"Line\",\"id\":\"p1085\",\"attributes\":{\"x\":{\"type\":\"field\",\"field\":\"x\"},\"y\":{\"type\":\"field\",\"field\":\"y\"},\"line_color\":\"#29788E\",\"line_width\":4}},\"nonselection_glyph\":{\"type\":\"object\",\"name\":\"Line\",\"id\":\"p1086\",\"attributes\":{\"x\":{\"type\":\"field\",\"field\":\"x\"},\"y\":{\"type\":\"field\",\"field\":\"y\"},\"line_color\":\"#29788E\",\"line_alpha\":0.1,\"line_width\":4}},\"muted_glyph\":{\"type\":\"object\",\"name\":\"Line\",\"id\":\"p1087\",\"attributes\":{\"x\":{\"type\":\"field\",\"field\":\"x\"},\"y\":{\"type\":\"field\",\"field\":\"y\"},\"line_color\":\"#29788E\",\"line_alpha\":0.2,\"line_width\":4}}}}],\"toolbar\":{\"type\":\"object\",\"name\":\"Toolbar\",\"id\":\"p1051\",\"attributes\":{\"tools\":[{\"type\":\"object\",\"name\":\"SaveTool\",\"id\":\"p1066\"},{\"type\":\"object\",\"name\":\"ResetTool\",\"id\":\"p1067\"},{\"type\":\"object\",\"name\":\"WheelZoomTool\",\"id\":\"p1068\",\"attributes\":{\"dimensions\":\"width\",\"renderers\":\"auto\"}},{\"type\":\"object\",\"name\":\"PanTool\",\"id\":\"p1069\",\"attributes\":{\"dimensions\":\"width\"}}]}},\"toolbar_location\":\"above\",\"left\":[{\"type\":\"object\",\"name\":\"LinearAxis\",\"id\":\"p1061\",\"attributes\":{\"ticker\":{\"type\":\"object\",\"name\":\"BasicTicker\",\"id\":\"p1062\",\"attributes\":{\"mantissas\":[1,2,5]}},\"formatter\":{\"type\":\"object\",\"name\":\"BasicTickFormatter\",\"id\":\"p1063\"},\"axis_label\":\"% CPU\",\"major_label_policy\":{\"type\":\"object\",\"name\":\"AllLabels\",\"id\":\"p1064\"}}}],\"right\":[{\"type\":\"object\",\"name\":\"LinearAxis\",\"id\":\"p1092\",\"attributes\":{\"y_range_name\":\"memory\",\"ticker\":{\"type\":\"object\",\"name\":\"BasicTicker\",\"id\":\"p1093\",\"attributes\":{\"mantissas\":[1,2,5]}},\"formatter\":{\"type\":\"object\",\"name\":\"BasicTickFormatter\",\"id\":\"p1094\"},\"axis_label\":\"Memory (MB)\",\"major_label_policy\":{\"type\":\"object\",\"name\":\"AllLabels\",\"id\":\"p1095\"}}}],\"below\":[{\"type\":\"object\",\"name\":\"LinearAxis\",\"id\":\"p1056\",\"attributes\":{\"ticker\":{\"type\":\"object\",\"name\":\"BasicTicker\",\"id\":\"p1057\",\"attributes\":{\"mantissas\":[1,2,5]}},\"formatter\":{\"type\":\"object\",\"name\":\"BasicTickFormatter\",\"id\":\"p1058\"},\"axis_label\":\"Time (s)\",\"major_label_policy\":{\"type\":\"object\",\"name\":\"AllLabels\",\"id\":\"p1059\"}}}],\"center\":[{\"type\":\"object\",\"name\":\"Grid\",\"id\":\"p1060\",\"attributes\":{\"axis\":{\"id\":\"p1056\"}}},{\"type\":\"object\",\"name\":\"Grid\",\"id\":\"p1065\",\"attributes\":{\"dimension\":1,\"axis\":{\"id\":\"p1061\"}}},{\"type\":\"object\",\"name\":\"Legend\",\"id\":\"p1079\",\"attributes\":{\"items\":[{\"type\":\"object\",\"name\":\"LegendItem\",\"id\":\"p1080\",\"attributes\":{\"label\":{\"type\":\"value\",\"value\":\"% CPU\"},\"renderers\":[{\"id\":\"p1076\"}]}},{\"type\":\"object\",\"name\":\"LegendItem\",\"id\":\"p1091\",\"attributes\":{\"label\":{\"type\":\"value\",\"value\":\"Memory\"},\"renderers\":[{\"id\":\"p1088\"}]}}]}}]}}]}};\n",
       "  const render_items = [{\"docid\":\"c6e015b4-7171-405a-8164-9bd3fe48ded9\",\"roots\":{\"p1042\":\"e34f1c38-9d43-49af-8053-af9c84eeb727\"},\"root_ids\":[\"p1042\"]}];\n",
       "  void root.Bokeh.embed.embed_items_notebook(docs_json, render_items);\n",
       "  }\n",
       "  if (root.Bokeh !== undefined) {\n",
       "    embed_document(root);\n",
       "  } else {\n",
       "    let attempts = 0;\n",
       "    const timer = setInterval(function(root) {\n",
       "      if (root.Bokeh !== undefined) {\n",
       "        clearInterval(timer);\n",
       "        embed_document(root);\n",
       "      } else {\n",
       "        attempts++;\n",
       "        if (attempts > 100) {\n",
       "          clearInterval(timer);\n",
       "          console.log(\"Bokeh: ERROR: Unable to run BokehJS code because BokehJS library is missing\");\n",
       "        }\n",
       "      }\n",
       "    }, 10, root)\n",
       "  }\n",
       "})(window);"
      ],
      "application/vnd.bokehjs_exec.v0+json": ""
     },
     "metadata": {
      "application/vnd.bokehjs_exec.v0+json": {
       "id": "p1042"
      }
     },
     "output_type": "display_data"
    }
   ],
   "source": [
    "profilers[1].visualize();"
   ]
  },
  {
   "cell_type": "markdown",
   "id": "95a9fa0a-f044-40cd-8964-9e4a1911fa87",
   "metadata": {},
   "source": [
    "We ran the calculation on a single computer with an 4-core CPU with 2 threads per core for 8 threads total. We see that our peak CPU usage was $\\sim 600 \\%$, this is a fairly typical usage statistic for a single machine, overhead and background processes limited us from reaching the $800 \\ \\%$ corresponding to using every available thread maximally.\n",
    "\n",
    "We also see that the total memory use reached around 800 MB. If you are running the calculation on a system with more threads your memory consumption may be larger – it may even exceed the total memory cost of all the wave functions, as every parallel run of the multislice algorithm requires a significant overhead for intermediate results (such as potential slices and Fresnel propagators). If your calculation runs out of memory you can lower the number of workers, thus trading away computational speed for lower memory consumption.\n",
    "\n",
    "We note that the overhead in both CPU usage and memory diminishes for larger simulation with more powerful hardware."
   ]
  },
  {
   "cell_type": "markdown",
   "id": "88a96448-5a2a-4c60-9ce7-7a2f43845d3c",
   "metadata": {},
   "source": [
    "### The (locally) distributed scheduler\n",
    "The Dask distributed scheduler is necessary for running your simulations on a cluster, but it also runs [locally on a personal machine](https://docs.dask.org/en/stable/scheduling.html#dask-distributed-local). You can find details in the Dask documentation, but we demonstrate the basics below.\n",
    "\n",
    "You can use the Dask distributed scheduler by just initializing a [Dask Client](https://distributed.dask.org/en/stable/client.html). The `Client` takes keyword arguments such as `n_workers` (note that this is different from `num_workers` above!)"
   ]
  },
  {
   "cell_type": "code",
   "execution_count": 16,
   "id": "2b7c37a3-909c-482e-99fb-72e4eb222a5a",
   "metadata": {
    "editable": true,
    "slideshow": {
     "slide_type": ""
    },
    "tags": [
     "skip-test"
    ]
   },
   "outputs": [
    {
     "data": {
      "text/html": [
       "<div>\n",
       "    <div style=\"width: 24px; height: 24px; background-color: #e1e1e1; border: 3px solid #9D9D9D; border-radius: 5px; position: absolute;\"> </div>\n",
       "    <div style=\"margin-left: 48px;\">\n",
       "        <h3 style=\"margin-bottom: 0px;\">Client</h3>\n",
       "        <p style=\"color: #9D9D9D; margin-bottom: 0px;\">Client-0d2cbdd0-1ba8-11f0-91ef-d0817ad4a36d</p>\n",
       "        <table style=\"width: 100%; text-align: left;\">\n",
       "\n",
       "        <tr>\n",
       "        \n",
       "            <td style=\"text-align: left;\"><strong>Connection method:</strong> Cluster object</td>\n",
       "            <td style=\"text-align: left;\"><strong>Cluster type:</strong> distributed.LocalCluster</td>\n",
       "        \n",
       "        </tr>\n",
       "\n",
       "        \n",
       "            <tr>\n",
       "                <td style=\"text-align: left;\">\n",
       "                    <strong>Dashboard: </strong> <a href=\"http://127.0.0.1:8787/status\" target=\"_blank\">http://127.0.0.1:8787/status</a>\n",
       "                </td>\n",
       "                <td style=\"text-align: left;\"></td>\n",
       "            </tr>\n",
       "        \n",
       "\n",
       "        </table>\n",
       "\n",
       "        \n",
       "\n",
       "        \n",
       "            <details>\n",
       "            <summary style=\"margin-bottom: 20px;\"><h3 style=\"display: inline;\">Cluster Info</h3></summary>\n",
       "            <div class=\"jp-RenderedHTMLCommon jp-RenderedHTML jp-mod-trusted jp-OutputArea-output\">\n",
       "    <div style=\"width: 24px; height: 24px; background-color: #e1e1e1; border: 3px solid #9D9D9D; border-radius: 5px; position: absolute;\">\n",
       "    </div>\n",
       "    <div style=\"margin-left: 48px;\">\n",
       "        <h3 style=\"margin-bottom: 0px; margin-top: 0px;\">LocalCluster</h3>\n",
       "        <p style=\"color: #9D9D9D; margin-bottom: 0px;\">75455e11</p>\n",
       "        <table style=\"width: 100%; text-align: left;\">\n",
       "            <tr>\n",
       "                <td style=\"text-align: left;\">\n",
       "                    <strong>Dashboard:</strong> <a href=\"http://127.0.0.1:8787/status\" target=\"_blank\">http://127.0.0.1:8787/status</a>\n",
       "                </td>\n",
       "                <td style=\"text-align: left;\">\n",
       "                    <strong>Workers:</strong> 6\n",
       "                </td>\n",
       "            </tr>\n",
       "            <tr>\n",
       "                <td style=\"text-align: left;\">\n",
       "                    <strong>Total threads:</strong> 24\n",
       "                </td>\n",
       "                <td style=\"text-align: left;\">\n",
       "                    <strong>Total memory:</strong> 64.00 GiB\n",
       "                </td>\n",
       "            </tr>\n",
       "            \n",
       "            <tr>\n",
       "    <td style=\"text-align: left;\"><strong>Status:</strong> running</td>\n",
       "    <td style=\"text-align: left;\"><strong>Using processes:</strong> True</td>\n",
       "</tr>\n",
       "\n",
       "            \n",
       "        </table>\n",
       "\n",
       "        <details>\n",
       "            <summary style=\"margin-bottom: 20px;\">\n",
       "                <h3 style=\"display: inline;\">Scheduler Info</h3>\n",
       "            </summary>\n",
       "\n",
       "            <div style=\"\">\n",
       "    <div>\n",
       "        <div style=\"width: 24px; height: 24px; background-color: #FFF7E5; border: 3px solid #FF6132; border-radius: 5px; position: absolute;\"> </div>\n",
       "        <div style=\"margin-left: 48px;\">\n",
       "            <h3 style=\"margin-bottom: 0px;\">Scheduler</h3>\n",
       "            <p style=\"color: #9D9D9D; margin-bottom: 0px;\">Scheduler-21e45065-107f-4c45-a889-d79e0bd535a9</p>\n",
       "            <table style=\"width: 100%; text-align: left;\">\n",
       "                <tr>\n",
       "                    <td style=\"text-align: left;\">\n",
       "                        <strong>Comm:</strong> tcp://127.0.0.1:53176\n",
       "                    </td>\n",
       "                    <td style=\"text-align: left;\">\n",
       "                        <strong>Workers:</strong> 6\n",
       "                    </td>\n",
       "                </tr>\n",
       "                <tr>\n",
       "                    <td style=\"text-align: left;\">\n",
       "                        <strong>Dashboard:</strong> <a href=\"http://127.0.0.1:8787/status\" target=\"_blank\">http://127.0.0.1:8787/status</a>\n",
       "                    </td>\n",
       "                    <td style=\"text-align: left;\">\n",
       "                        <strong>Total threads:</strong> 24\n",
       "                    </td>\n",
       "                </tr>\n",
       "                <tr>\n",
       "                    <td style=\"text-align: left;\">\n",
       "                        <strong>Started:</strong> Just now\n",
       "                    </td>\n",
       "                    <td style=\"text-align: left;\">\n",
       "                        <strong>Total memory:</strong> 64.00 GiB\n",
       "                    </td>\n",
       "                </tr>\n",
       "            </table>\n",
       "        </div>\n",
       "    </div>\n",
       "\n",
       "    <details style=\"margin-left: 48px;\">\n",
       "        <summary style=\"margin-bottom: 20px;\">\n",
       "            <h3 style=\"display: inline;\">Workers</h3>\n",
       "        </summary>\n",
       "\n",
       "        \n",
       "        <div style=\"margin-bottom: 20px;\">\n",
       "            <div style=\"width: 24px; height: 24px; background-color: #DBF5FF; border: 3px solid #4CC9FF; border-radius: 5px; position: absolute;\"> </div>\n",
       "            <div style=\"margin-left: 48px;\">\n",
       "            <details>\n",
       "                <summary>\n",
       "                    <h4 style=\"margin-bottom: 0px; display: inline;\">Worker: 0</h4>\n",
       "                </summary>\n",
       "                <table style=\"width: 100%; text-align: left;\">\n",
       "                    <tr>\n",
       "                        <td style=\"text-align: left;\">\n",
       "                            <strong>Comm: </strong> tcp://127.0.0.1:53191\n",
       "                        </td>\n",
       "                        <td style=\"text-align: left;\">\n",
       "                            <strong>Total threads: </strong> 4\n",
       "                        </td>\n",
       "                    </tr>\n",
       "                    <tr>\n",
       "                        <td style=\"text-align: left;\">\n",
       "                            <strong>Dashboard: </strong> <a href=\"http://127.0.0.1:53192/status\" target=\"_blank\">http://127.0.0.1:53192/status</a>\n",
       "                        </td>\n",
       "                        <td style=\"text-align: left;\">\n",
       "                            <strong>Memory: </strong> 10.67 GiB\n",
       "                        </td>\n",
       "                    </tr>\n",
       "                    <tr>\n",
       "                        <td style=\"text-align: left;\">\n",
       "                            <strong>Nanny: </strong> tcp://127.0.0.1:53179\n",
       "                        </td>\n",
       "                        <td style=\"text-align: left;\"></td>\n",
       "                    </tr>\n",
       "                    <tr>\n",
       "                        <td colspan=\"2\" style=\"text-align: left;\">\n",
       "                            <strong>Local directory: </strong> /var/folders/8n/_v135h7x4dl2wfy0q4r_f7kh0000gp/T/dask-scratch-space/worker-fwa2vd65\n",
       "                        </td>\n",
       "                    </tr>\n",
       "\n",
       "                    \n",
       "\n",
       "                    \n",
       "\n",
       "                </table>\n",
       "            </details>\n",
       "            </div>\n",
       "        </div>\n",
       "        \n",
       "        <div style=\"margin-bottom: 20px;\">\n",
       "            <div style=\"width: 24px; height: 24px; background-color: #DBF5FF; border: 3px solid #4CC9FF; border-radius: 5px; position: absolute;\"> </div>\n",
       "            <div style=\"margin-left: 48px;\">\n",
       "            <details>\n",
       "                <summary>\n",
       "                    <h4 style=\"margin-bottom: 0px; display: inline;\">Worker: 1</h4>\n",
       "                </summary>\n",
       "                <table style=\"width: 100%; text-align: left;\">\n",
       "                    <tr>\n",
       "                        <td style=\"text-align: left;\">\n",
       "                            <strong>Comm: </strong> tcp://127.0.0.1:53194\n",
       "                        </td>\n",
       "                        <td style=\"text-align: left;\">\n",
       "                            <strong>Total threads: </strong> 4\n",
       "                        </td>\n",
       "                    </tr>\n",
       "                    <tr>\n",
       "                        <td style=\"text-align: left;\">\n",
       "                            <strong>Dashboard: </strong> <a href=\"http://127.0.0.1:53195/status\" target=\"_blank\">http://127.0.0.1:53195/status</a>\n",
       "                        </td>\n",
       "                        <td style=\"text-align: left;\">\n",
       "                            <strong>Memory: </strong> 10.67 GiB\n",
       "                        </td>\n",
       "                    </tr>\n",
       "                    <tr>\n",
       "                        <td style=\"text-align: left;\">\n",
       "                            <strong>Nanny: </strong> tcp://127.0.0.1:53181\n",
       "                        </td>\n",
       "                        <td style=\"text-align: left;\"></td>\n",
       "                    </tr>\n",
       "                    <tr>\n",
       "                        <td colspan=\"2\" style=\"text-align: left;\">\n",
       "                            <strong>Local directory: </strong> /var/folders/8n/_v135h7x4dl2wfy0q4r_f7kh0000gp/T/dask-scratch-space/worker-mnh5ci4a\n",
       "                        </td>\n",
       "                    </tr>\n",
       "\n",
       "                    \n",
       "\n",
       "                    \n",
       "\n",
       "                </table>\n",
       "            </details>\n",
       "            </div>\n",
       "        </div>\n",
       "        \n",
       "        <div style=\"margin-bottom: 20px;\">\n",
       "            <div style=\"width: 24px; height: 24px; background-color: #DBF5FF; border: 3px solid #4CC9FF; border-radius: 5px; position: absolute;\"> </div>\n",
       "            <div style=\"margin-left: 48px;\">\n",
       "            <details>\n",
       "                <summary>\n",
       "                    <h4 style=\"margin-bottom: 0px; display: inline;\">Worker: 2</h4>\n",
       "                </summary>\n",
       "                <table style=\"width: 100%; text-align: left;\">\n",
       "                    <tr>\n",
       "                        <td style=\"text-align: left;\">\n",
       "                            <strong>Comm: </strong> tcp://127.0.0.1:53197\n",
       "                        </td>\n",
       "                        <td style=\"text-align: left;\">\n",
       "                            <strong>Total threads: </strong> 4\n",
       "                        </td>\n",
       "                    </tr>\n",
       "                    <tr>\n",
       "                        <td style=\"text-align: left;\">\n",
       "                            <strong>Dashboard: </strong> <a href=\"http://127.0.0.1:53198/status\" target=\"_blank\">http://127.0.0.1:53198/status</a>\n",
       "                        </td>\n",
       "                        <td style=\"text-align: left;\">\n",
       "                            <strong>Memory: </strong> 10.67 GiB\n",
       "                        </td>\n",
       "                    </tr>\n",
       "                    <tr>\n",
       "                        <td style=\"text-align: left;\">\n",
       "                            <strong>Nanny: </strong> tcp://127.0.0.1:53183\n",
       "                        </td>\n",
       "                        <td style=\"text-align: left;\"></td>\n",
       "                    </tr>\n",
       "                    <tr>\n",
       "                        <td colspan=\"2\" style=\"text-align: left;\">\n",
       "                            <strong>Local directory: </strong> /var/folders/8n/_v135h7x4dl2wfy0q4r_f7kh0000gp/T/dask-scratch-space/worker-leunw8yj\n",
       "                        </td>\n",
       "                    </tr>\n",
       "\n",
       "                    \n",
       "\n",
       "                    \n",
       "\n",
       "                </table>\n",
       "            </details>\n",
       "            </div>\n",
       "        </div>\n",
       "        \n",
       "        <div style=\"margin-bottom: 20px;\">\n",
       "            <div style=\"width: 24px; height: 24px; background-color: #DBF5FF; border: 3px solid #4CC9FF; border-radius: 5px; position: absolute;\"> </div>\n",
       "            <div style=\"margin-left: 48px;\">\n",
       "            <details>\n",
       "                <summary>\n",
       "                    <h4 style=\"margin-bottom: 0px; display: inline;\">Worker: 3</h4>\n",
       "                </summary>\n",
       "                <table style=\"width: 100%; text-align: left;\">\n",
       "                    <tr>\n",
       "                        <td style=\"text-align: left;\">\n",
       "                            <strong>Comm: </strong> tcp://127.0.0.1:53200\n",
       "                        </td>\n",
       "                        <td style=\"text-align: left;\">\n",
       "                            <strong>Total threads: </strong> 4\n",
       "                        </td>\n",
       "                    </tr>\n",
       "                    <tr>\n",
       "                        <td style=\"text-align: left;\">\n",
       "                            <strong>Dashboard: </strong> <a href=\"http://127.0.0.1:53201/status\" target=\"_blank\">http://127.0.0.1:53201/status</a>\n",
       "                        </td>\n",
       "                        <td style=\"text-align: left;\">\n",
       "                            <strong>Memory: </strong> 10.67 GiB\n",
       "                        </td>\n",
       "                    </tr>\n",
       "                    <tr>\n",
       "                        <td style=\"text-align: left;\">\n",
       "                            <strong>Nanny: </strong> tcp://127.0.0.1:53185\n",
       "                        </td>\n",
       "                        <td style=\"text-align: left;\"></td>\n",
       "                    </tr>\n",
       "                    <tr>\n",
       "                        <td colspan=\"2\" style=\"text-align: left;\">\n",
       "                            <strong>Local directory: </strong> /var/folders/8n/_v135h7x4dl2wfy0q4r_f7kh0000gp/T/dask-scratch-space/worker-ruwtiblz\n",
       "                        </td>\n",
       "                    </tr>\n",
       "\n",
       "                    \n",
       "\n",
       "                    \n",
       "\n",
       "                </table>\n",
       "            </details>\n",
       "            </div>\n",
       "        </div>\n",
       "        \n",
       "        <div style=\"margin-bottom: 20px;\">\n",
       "            <div style=\"width: 24px; height: 24px; background-color: #DBF5FF; border: 3px solid #4CC9FF; border-radius: 5px; position: absolute;\"> </div>\n",
       "            <div style=\"margin-left: 48px;\">\n",
       "            <details>\n",
       "                <summary>\n",
       "                    <h4 style=\"margin-bottom: 0px; display: inline;\">Worker: 4</h4>\n",
       "                </summary>\n",
       "                <table style=\"width: 100%; text-align: left;\">\n",
       "                    <tr>\n",
       "                        <td style=\"text-align: left;\">\n",
       "                            <strong>Comm: </strong> tcp://127.0.0.1:53203\n",
       "                        </td>\n",
       "                        <td style=\"text-align: left;\">\n",
       "                            <strong>Total threads: </strong> 4\n",
       "                        </td>\n",
       "                    </tr>\n",
       "                    <tr>\n",
       "                        <td style=\"text-align: left;\">\n",
       "                            <strong>Dashboard: </strong> <a href=\"http://127.0.0.1:53204/status\" target=\"_blank\">http://127.0.0.1:53204/status</a>\n",
       "                        </td>\n",
       "                        <td style=\"text-align: left;\">\n",
       "                            <strong>Memory: </strong> 10.67 GiB\n",
       "                        </td>\n",
       "                    </tr>\n",
       "                    <tr>\n",
       "                        <td style=\"text-align: left;\">\n",
       "                            <strong>Nanny: </strong> tcp://127.0.0.1:53187\n",
       "                        </td>\n",
       "                        <td style=\"text-align: left;\"></td>\n",
       "                    </tr>\n",
       "                    <tr>\n",
       "                        <td colspan=\"2\" style=\"text-align: left;\">\n",
       "                            <strong>Local directory: </strong> /var/folders/8n/_v135h7x4dl2wfy0q4r_f7kh0000gp/T/dask-scratch-space/worker-4bntibda\n",
       "                        </td>\n",
       "                    </tr>\n",
       "\n",
       "                    \n",
       "\n",
       "                    \n",
       "\n",
       "                </table>\n",
       "            </details>\n",
       "            </div>\n",
       "        </div>\n",
       "        \n",
       "        <div style=\"margin-bottom: 20px;\">\n",
       "            <div style=\"width: 24px; height: 24px; background-color: #DBF5FF; border: 3px solid #4CC9FF; border-radius: 5px; position: absolute;\"> </div>\n",
       "            <div style=\"margin-left: 48px;\">\n",
       "            <details>\n",
       "                <summary>\n",
       "                    <h4 style=\"margin-bottom: 0px; display: inline;\">Worker: 5</h4>\n",
       "                </summary>\n",
       "                <table style=\"width: 100%; text-align: left;\">\n",
       "                    <tr>\n",
       "                        <td style=\"text-align: left;\">\n",
       "                            <strong>Comm: </strong> tcp://127.0.0.1:53206\n",
       "                        </td>\n",
       "                        <td style=\"text-align: left;\">\n",
       "                            <strong>Total threads: </strong> 4\n",
       "                        </td>\n",
       "                    </tr>\n",
       "                    <tr>\n",
       "                        <td style=\"text-align: left;\">\n",
       "                            <strong>Dashboard: </strong> <a href=\"http://127.0.0.1:53207/status\" target=\"_blank\">http://127.0.0.1:53207/status</a>\n",
       "                        </td>\n",
       "                        <td style=\"text-align: left;\">\n",
       "                            <strong>Memory: </strong> 10.67 GiB\n",
       "                        </td>\n",
       "                    </tr>\n",
       "                    <tr>\n",
       "                        <td style=\"text-align: left;\">\n",
       "                            <strong>Nanny: </strong> tcp://127.0.0.1:53189\n",
       "                        </td>\n",
       "                        <td style=\"text-align: left;\"></td>\n",
       "                    </tr>\n",
       "                    <tr>\n",
       "                        <td colspan=\"2\" style=\"text-align: left;\">\n",
       "                            <strong>Local directory: </strong> /var/folders/8n/_v135h7x4dl2wfy0q4r_f7kh0000gp/T/dask-scratch-space/worker-0k97plc7\n",
       "                        </td>\n",
       "                    </tr>\n",
       "\n",
       "                    \n",
       "\n",
       "                    \n",
       "\n",
       "                </table>\n",
       "            </details>\n",
       "            </div>\n",
       "        </div>\n",
       "        \n",
       "\n",
       "    </details>\n",
       "</div>\n",
       "\n",
       "        </details>\n",
       "    </div>\n",
       "</div>\n",
       "            </details>\n",
       "        \n",
       "\n",
       "    </div>\n",
       "</div>"
      ],
      "text/plain": [
       "<Client: 'tcp://127.0.0.1:53176' processes=6 threads=24, memory=64.00 GiB>"
      ]
     },
     "execution_count": 16,
     "metadata": {},
     "output_type": "execute_result"
    }
   ],
   "source": [
    "from dask.distributed import Client\n",
    "\n",
    "client = Client(n_workers=6)\n",
    "client"
   ]
  },
  {
   "cell_type": "markdown",
   "id": "cd8cacd8-4c48-4eea-930c-33f3fe834410",
   "metadata": {},
   "source": [
    "After intializing the client object, any *ab*TEM computation will use the Dask distributed scheduler."
   ]
  },
  {
   "cell_type": "code",
   "execution_count": 17,
   "id": "2b0d7e8f-24dd-4ada-9650-874e750a3652",
   "metadata": {},
   "outputs": [
    {
     "data": {
      "text/plain": [
       "<abtem.measurements.Images at 0x11f101de0>"
      ]
     },
     "execution_count": 17,
     "metadata": {},
     "output_type": "execute_result"
    }
   ],
   "source": [
    "haadf_images = detector.detect(exit_waves_stem).reduce_ensemble()\n",
    "haadf_images.compute()"
   ]
  },
  {
   "cell_type": "markdown",
   "id": "31a20506-7155-45f0-b641-3931bbb20029",
   "metadata": {},
   "source": [
    "A benefit of using the distributed scheduler on a single machine is the live diagnostic dashboard. You can access this through the Dashboard link shown in the `__repr__` for the `Client` above (for details you can watch [this](https://www.youtube.com/watch?v=N_GqzcuGLCY) video walkthrough). If you are using Jupyter Lab, the [Dask labextension](https://github.com/dask/dask-labextension) provides the same information as a panel inside the Jupyter Lab editor.\n",
    "\n",
    "We can get back to the local scheduler by closing the `Client`."
   ]
  },
  {
   "cell_type": "code",
   "execution_count": 18,
   "id": "e38de7a7-2b82-442e-8258-d9e2717a7b2b",
   "metadata": {},
   "outputs": [],
   "source": [
    "client.close()"
   ]
  },
  {
   "cell_type": "markdown",
   "id": "dffe61f7-43d8-47e6-a00a-3e73e33320ad",
   "metadata": {
    "editable": true,
    "slideshow": {
     "slide_type": ""
    },
    "tags": []
   },
   "source": [
    "### Running *ab*TEM on HPC clusters\n",
    "\n",
    "Dask (and thus *ab*TEM) has robust tools for deployment on high-performance compute clusters. We recommend consulting your HPC provider on how to deploy Dask applications on your available cluster. For general advice on deployment, please see the [Dask documentation](https://docs.dask.org/en/stable/deploying.html).\n",
    "\n",
    "#### Submitting job scripts \n",
    "\n",
    "As an overview, Dask provides a number of different cluster managers, so you can use distributed Dask on a range of platforms. These cluster managers deploy a scheduler and the necessary workers as determined by communicating with the resource manager. All cluster managers follow the same interface but have platform-specific configuration options.\n",
    "\n",
    "As an example, for deployment using [SLURM](https://slurm.schedmd.com/documentation.html), your script might look something like:\n",
    "\n",
    "```python\n",
    "from dask_jobqueue import SLURMCluster\n",
    "from dask.distributed import Client\n",
    "\n",
    "cluster = SLURMCluster(\n",
    "    queue=\"regular\",\n",
    "    account=\"myaccount\",\n",
    "    cores=32,\n",
    "    memory=\"128 GB\"\n",
    ")\n",
    "\n",
    "client = Client(cluster)\n",
    "\n",
    "# Your abTEM code goes here\n",
    "\n",
    "```\n",
    "\n",
    "Dask also supports deployment from within an existing MPI environment, such as one created with the common MPI command-line launcher `mpirun`, see [here](http://mpi.dask.org/en/latest/) for more information. You can turn your batch Python script into an MPI executable with the `dask_mpi.initialize` function. \n",
    "\n",
    "```python\n",
    "from dask_mpi import initialize\n",
    "initialize()\n",
    "\n",
    "from dask.distributed import Client\n",
    "client = Client()  # Connect this local process to remote workers\n",
    "\n",
    "# Your abTEM code goes here\n",
    "```\n",
    "\n",
    "This makes your Python script launchable directly with `mpirun`:\n",
    "```\n",
    "mpirun -np 4 python my_client_script.py\n",
    "```"
   ]
  },
  {
   "cell_type": "markdown",
   "id": "e39cb8d2-a898-478d-9831-275ac5f2f06b",
   "metadata": {
    "pycharm": {
     "name": "#%% md\n"
    }
   },
   "source": [
    "(walkthrough:parallelization:gpu)=\n",
    "## Using GPUs\n",
    "\n",
    "Almost every part of *ab*TEM can be accelerated using a GPU through the [CuPy](https://cupy.dev/) library. We have only tested CUDA-compatible GPUs, but any graphics card compatible with CuPy should work.\n",
    "\n",
    "If you have a compatible GPU and a working installation of CuPy, you can accelerate your image simulations by simply changing the configs at the top of your document as below:\n",
    "```python\n",
    "abtem.config.set({\"device\": \"gpu\"});\n",
    "```\n",
    "On a single GPU, you may also want to limit the number of workers to one, `num_workers=1`. As described above, this may be done through the Dask config:\n",
    "```python\n",
    "dask.config.set({\"num_workers\": 1});\n",
    "```\n",
    "\n",
    "Note that Dask does not manage GPU threads. This makes the choice of batch sizes (i.e. propagating multiple wave functions in a single batch) extremely important in order to fully utilize your GPU. The default batch size in GPU calculations in abTEM is $512\\ \\mathrm{MB}$, which is four times larger than the CPU batch size, but if your GPU has $8\\ \\mathrm{GB}$ or more memory, you will likely be able to increase this number to $2048\\ \\mathrm{MB}$.\n",
    "\n",
    "```python\n",
    "abtem.config.set({\"dask.chunk-size-gpu\" : \"512 MB\"})\n",
    "```\n",
    "\n",
    "```{note}\n",
    "The batch size only determines the maximum number of plane waves in a batch, so you need to leave room in the memory for any intermediate overhead. \n",
    "```\n",
    "\n",
    "Finally, *ab*TEM by default sets the [FFT plan cache](https://docs.cupy.dev/en/stable/user_guide/fft.html#fft-plan-cache) size of `cupy` to zero, as we find that in most cases the increased memory consumption of the plans are not worth the small speedup they provide. You can however also change this through the *ab*TEM config.\n",
    "\n",
    "```python\n",
    "abtem.config.set({\"cupy.fft-cache-size\" : \"1024 MB\"})\n",
    "```"
   ]
  },
  {
   "cell_type": "markdown",
   "id": "94cdb086-c8a9-4736-a345-311d47379f34",
   "metadata": {
    "editable": true,
    "slideshow": {
     "slide_type": ""
    },
    "tags": []
   },
   "source": [
    "### Multiple GPUs \n",
    "The above is enough for running *ab*TEM on a single GPU; if you are using an NVidia GPU, you may want to install `dask_cuda` (this is currently only supported on Linux). However, `dask_cuda` is currently necessary for multi-GPU calculations with *ab*TEM.\n",
    "\n",
    "```python\n",
    "from dask_cuda import LocalCUDACluster\n",
    "from dask.distributed import Client\n",
    "\n",
    "cluster = LocalCUDACluster()\n",
    "client = Client(cluster)\n",
    "```"
   ]
  }
 ],
 "metadata": {
  "kernelspec": {
   "display_name": "Python 3 (ipykernel)",
   "language": "python",
   "name": "python3"
  },
  "language_info": {
   "codemirror_mode": {
    "name": "ipython",
    "version": 3
   },
   "file_extension": ".py",
   "mimetype": "text/x-python",
   "name": "python",
   "nbconvert_exporter": "python",
   "pygments_lexer": "ipython3",
   "version": "3.13.3"
  },
  "widgets": {
   "application/vnd.jupyter.widget-state+json": {
    "state": {
     "0224375d275a45a9ae7ae8bc48fcbaf2": {
      "model_module": "jupyter-cytoscape",
      "model_module_version": "^1.3.3",
      "model_name": "EdgeModel",
      "state": {
       "_model_module_version": "^1.3.3",
       "_view_module_version": "^1.3.3",
       "classes": " directed ",
       "data": {
        "id": "cf599e0e-cd0a-41c0-aa81-0839154c82b9",
        "source": "-2342049904412802010",
        "target": "9071299937934193216"
       },
       "selectable": false
      }
     },
     "02b2abc6ad6f459ca768bab59400e0ed": {
      "model_module": "jupyter-cytoscape",
      "model_module_version": "^1.3.3",
      "model_name": "EdgeModel",
      "state": {
       "_model_module_version": "^1.3.3",
       "_view_module_version": "^1.3.3",
       "classes": " directed ",
       "data": {
        "id": "2d3140b0-9829-447a-a559-bd79827e30c5",
        "source": "2065410493791762658",
        "target": "3865486290529386074"
       },
       "selectable": false
      }
     },
     "02b7c6056ed646b390f1d6084cbf43e6": {
      "model_module": "jupyter-cytoscape",
      "model_module_version": "^1.3.3",
      "model_name": "EdgeModel",
      "state": {
       "_model_module_version": "^1.3.3",
       "_view_module_version": "^1.3.3",
       "classes": " directed ",
       "data": {
        "id": "fc025d01-7e79-47cb-8f31-8c40322c8cf2",
        "source": "-2591056080245297848",
        "target": "-8820517672212241231"
       },
       "selectable": false
      }
     },
     "060846b316704aa5bd04f683952aef86": {
      "model_module": "jupyter-cytoscape",
      "model_module_version": "^1.3.3",
      "model_name": "NodeModel",
      "state": {
       "_model_module_version": "^1.3.3",
       "_view_module_version": "^1.3.3",
       "data": {
        "color": "gray",
        "id": "3838090120907428870",
        "label": "(1, 0, 0, 0)",
        "shape": "rectangle"
       },
       "grabbable": true,
       "grabbed": false,
       "position": {
        "x": 314,
        "y": 275
       },
       "selectable": false
      }
     },
     "08cf966216564c928828191089c78d73": {
      "model_module": "jupyter-cytoscape",
      "model_module_version": "^1.3.3",
      "model_name": "EdgeModel",
      "state": {
       "_model_module_version": "^1.3.3",
       "_view_module_version": "^1.3.3",
       "classes": " directed ",
       "data": {
        "id": "019fa52c-3e3f-445f-ba81-4c9b0d6b069a",
        "source": "-3593708525088951428",
        "target": "23348537384176463"
       },
       "selectable": false
      }
     },
     "0a2566fccf5a496f823336ad24326aad": {
      "model_module": "jupyter-cytoscape",
      "model_module_version": "^1.3.3",
      "model_name": "NodeModel",
      "state": {
       "_model_module_version": "^1.3.3",
       "_view_module_version": "^1.3.3",
       "data": {
        "color": "gray",
        "id": "-1162988058898088753",
        "label": "getitem",
        "shape": "ellipse"
       },
       "grabbable": true,
       "grabbed": false,
       "position": {
        "x": 935,
        "y": 1115
       },
       "selectable": false
      }
     },
     "0a33faeacb3048e295b0aa79d53976a3": {
      "model_module": "jupyter-cytoscape",
      "model_module_version": "^1.3.3",
      "model_name": "NodeModel",
      "state": {
       "_model_module_version": "^1.3.3",
       "_view_module_version": "^1.3.3",
       "data": {
        "color": "gray",
        "id": "2603075591425295929",
        "label": "",
        "shape": "rectangle"
       },
       "grabbable": true,
       "grabbed": false,
       "position": {
        "x": 98,
        "y": 1235
       },
       "selectable": false
      }
     },
     "0cde6ac578cc4f85836c697cbb2b30d6": {
      "model_module": "jupyter-cytoscape",
      "model_module_version": "^1.3.3",
      "model_name": "EdgeModel",
      "state": {
       "_model_module_version": "^1.3.3",
       "_view_module_version": "^1.3.3",
       "classes": " directed ",
       "data": {
        "id": "515aeffd-3fea-4cc3-94bf-99bc451e2bbe",
        "source": "-8820517672212241231",
        "target": "7544172074734438115"
       },
       "selectable": false
      }
     },
     "0d8936bf32624ad9972155f9df9fdf21": {
      "model_module": "jupyter-cytoscape",
      "model_module_version": "^1.3.3",
      "model_name": "NodeModel",
      "state": {
       "_model_module_version": "^1.3.3",
       "_view_module_version": "^1.3.3",
       "data": {
        "color": "gray",
        "id": "3994302875326649304",
        "label": "",
        "shape": "rectangle"
       },
       "grabbable": true,
       "grabbed": false,
       "position": {
        "x": 98,
        "y": 1955
       },
       "selectable": false
      }
     },
     "0d90f1a490e24ec48040ad9bf441880b": {
      "model_module": "jupyter-cytoscape",
      "model_module_version": "^1.3.3",
      "model_name": "NodeModel",
      "state": {
       "_model_module_version": "^1.3.3",
       "_view_module_version": "^1.3.3",
       "data": {
        "color": "gray",
        "id": "-7344073837706355299",
        "label": "",
        "shape": "rectangle"
       },
       "grabbable": true,
       "grabbed": false,
       "position": {
        "x": 98,
        "y": 2195
       },
       "selectable": false
      }
     },
     "0e205d47f7c1463f8549fe9eb21ef23f": {
      "model_module": "jupyter-cytoscape",
      "model_module_version": "^1.3.3",
      "model_name": "EdgeModel",
      "state": {
       "_model_module_version": "^1.3.3",
       "_view_module_version": "^1.3.3",
       "classes": " directed ",
       "data": {
        "id": "21559a47-9820-4da5-9c9a-cac438a46715",
        "source": "-7344073837706355299",
        "target": "-4113482814637374724"
       },
       "selectable": false
      }
     },
     "0e539f77077c49148676d6f7c3545bef": {
      "model_module": "jupyter-cytoscape",
      "model_module_version": "^1.3.3",
      "model_name": "NodeModel",
      "state": {
       "_model_module_version": "^1.3.3",
       "_view_module_version": "^1.3.3",
       "data": {
        "color": "gray",
        "id": "2065410493791762658",
        "label": "getitem",
        "shape": "ellipse"
       },
       "grabbable": true,
       "grabbed": false,
       "position": {
        "x": 930,
        "y": 635
       },
       "selectable": false
      }
     },
     "0eda123450fd41bdbb571132cc5c3f61": {
      "model_module": "jupyter-cytoscape",
      "model_module_version": "^1.3.3",
      "model_name": "NodeModel",
      "state": {
       "_model_module_version": "^1.3.3",
       "_view_module_version": "^1.3.3",
       "data": {
        "color": "gray",
        "id": "2603075591425295929",
        "label": "",
        "shape": "rectangle"
       },
       "grabbable": true,
       "grabbed": false,
       "position": {
        "x": 304,
        "y": 2195
       },
       "selectable": false
      }
     },
     "0f2857b7ceab4d63b5bcd913c20510f1": {
      "model_module": "@jupyter-widgets/base",
      "model_module_version": "2.0.0",
      "model_name": "LayoutModel",
      "state": {
       "height": "400px"
      }
     },
     "10b7cb25394c4daf998c690e24330f68": {
      "model_module": "jupyter-cytoscape",
      "model_module_version": "^1.3.3",
      "model_name": "NodeModel",
      "state": {
       "_model_module_version": "^1.3.3",
       "_view_module_version": "^1.3.3",
       "data": {
        "color": "gray",
        "id": "-684227649182574446",
        "label": "(0, 0, 0, 0)",
        "shape": "rectangle"
       },
       "grabbable": true,
       "grabbed": false,
       "position": {
        "x": 98,
        "y": 275
       },
       "selectable": false
      }
     },
     "1111c1adb07148229e792571ba12de9c": {
      "model_module": "jupyter-cytoscape",
      "model_module_version": "^1.3.3",
      "model_name": "NodeModel",
      "state": {
       "_model_module_version": "^1.3.3",
       "_view_module_version": "^1.3.3",
       "data": {
        "color": "gray",
        "id": "-784299579356806161",
        "label": "mean_chunk",
        "shape": "ellipse"
       },
       "grabbable": true,
       "grabbed": false,
       "position": {
        "x": 412.75,
        "y": 635
       },
       "selectable": false
      }
     },
     "131ee6d450ea4292a941019ba9c68d38": {
      "model_module": "jupyter-cytoscape",
      "model_module_version": "^1.3.3",
      "model_name": "EdgeModel",
      "state": {
       "_model_module_version": "^1.3.3",
       "_view_module_version": "^1.3.3",
       "classes": " directed ",
       "data": {
        "id": "33ed39cf-7c8c-4f3c-adbc-7789c7e05a13",
        "source": "5913611167721914870",
        "target": "2897811036950413432"
       },
       "selectable": false
      }
     },
     "13e1d177b0234cd6af72f4530154461f": {
      "model_module": "jupyter-cytoscape",
      "model_module_version": "^1.3.3",
      "model_name": "NodeModel",
      "state": {
       "_model_module_version": "^1.3.3",
       "_view_module_version": "^1.3.3",
       "data": {
        "color": "gray",
        "id": "-7535929885956994589",
        "label": "(0, 0, 0)",
        "shape": "rectangle"
       },
       "grabbable": true,
       "grabbed": false,
       "position": {
        "x": 98,
        "y": 35
       },
       "selectable": false
      }
     },
     "15c5c31a24994d5b97ac78c59299d014": {
      "model_module": "jupyter-cytoscape",
      "model_module_version": "^1.3.3",
      "model_name": "EdgeModel",
      "state": {
       "_model_module_version": "^1.3.3",
       "_view_module_version": "^1.3.3",
       "classes": " directed ",
       "data": {
        "id": "2a308fc3-9abd-4e9c-ae28-a7ae614c54d8",
        "source": "-3314526326687534986",
        "target": "4037033082981367311"
       },
       "selectable": false
      }
     },
     "1709281d06f040b9aa64f07778d2faa7": {
      "model_module": "jupyter-cytoscape",
      "model_module_version": "^1.3.3",
      "model_name": "EdgeModel",
      "state": {
       "_model_module_version": "^1.3.3",
       "_view_module_version": "^1.3.3",
       "classes": " directed ",
       "data": {
        "id": "0f6d69e5-8deb-4713-9395-fe67cae10862",
        "source": "4559592919312361497",
        "target": "-5861860859088581121"
       },
       "selectable": false
      }
     },
     "18ebfdaad77f4b5d8895225539debcb7": {
      "model_module": "jupyter-cytoscape",
      "model_module_version": "^1.3.3",
      "model_name": "NodeModel",
      "state": {
       "_model_module_version": "^1.3.3",
       "_view_module_version": "^1.3.3",
       "data": {
        "color": "gray",
        "id": "-1677512154397951122",
        "label": "getitem",
        "shape": "ellipse"
       },
       "grabbable": true,
       "grabbed": false,
       "position": {
        "x": 304,
        "y": 1595
       },
       "selectable": false
      }
     },
     "192700666c8c4830b42ece8db433a83a": {
      "model_module": "jupyter-cytoscape",
      "model_module_version": "^1.3.3",
      "model_name": "NodeModel",
      "state": {
       "_model_module_version": "^1.3.3",
       "_view_module_version": "^1.3.3",
       "data": {
        "color": "gray",
        "id": "-1648361962754339320",
        "label": "abs2",
        "shape": "ellipse"
       },
       "grabbable": true,
       "grabbed": false,
       "position": {
        "x": 729,
        "y": 875
       },
       "selectable": false
      }
     },
     "192c2d5d9ce048b2adc488d73637c781": {
      "model_module": "jupyter-cytoscape",
      "model_module_version": "^1.3.3",
      "model_name": "NodeModel",
      "state": {
       "_model_module_version": "^1.3.3",
       "_view_module_version": "^1.3.3",
       "data": {
        "color": "gray",
        "id": "-6474060349173047760",
        "label": "(2, 0)",
        "shape": "rectangle"
       },
       "grabbable": true,
       "grabbed": false,
       "position": {
        "x": 724,
        "y": 515
       },
       "selectable": false
      }
     },
     "1a9c82c16c2d41cf8d27793be2ce9df8": {
      "model_module": "jupyter-cytoscape",
      "model_module_version": "^1.3.3",
      "model_name": "NodeModel",
      "state": {
       "_model_module_version": "^1.3.3",
       "_view_module_version": "^1.3.3",
       "data": {
        "color": "gray",
        "id": "2555837921515829398",
        "label": "",
        "shape": "rectangle"
       },
       "grabbable": true,
       "grabbed": false,
       "position": {
        "x": 729,
        "y": 1955
       },
       "selectable": false
      }
     },
     "1b0af05d8d7c47a0a1e90882ef56f7a9": {
      "model_module": "jupyter-cytoscape",
      "model_module_version": "^1.3.3",
      "model_name": "EdgeModel",
      "state": {
       "_model_module_version": "^1.3.3",
       "_view_module_version": "^1.3.3",
       "classes": " directed ",
       "data": {
        "id": "cd788d16-97ca-4a28-a5fd-0541a654473c",
        "source": "7848625483293829867",
        "target": "5112523144218638577"
       },
       "selectable": false
      }
     },
     "1b43ceaf83cb4df39f80c5ad1ae93c1b": {
      "model_module": "jupyter-cytoscape",
      "model_module_version": "^1.3.3",
      "model_name": "EdgeModel",
      "state": {
       "_model_module_version": "^1.3.3",
       "_view_module_version": "^1.3.3",
       "classes": " directed ",
       "data": {
        "id": "888df061-367c-4995-b0fa-e4cb7b640832",
        "source": "-3593708525088951428",
        "target": "-2342049904412802010"
       },
       "selectable": false
      }
     },
     "1cc0b6bf6989459298d5bfef2ac3d623": {
      "model_module": "jupyter-cytoscape",
      "model_module_version": "^1.3.3",
      "model_name": "CytoscapeModel",
      "state": {
       "_interaction_handlers": {},
       "_model_module_version": "^1.3.3",
       "_view_module_version": "^1.3.3",
       "auto_ungrabify": false,
       "autolock": false,
       "cytoscape_layout": {
        "edgeSep": 10,
        "name": "dagre",
        "nodeDimensionsIncludeLabels": true,
        "nodeSep": 10,
        "rankDir": "BT",
        "spacingFactor": 1
       },
       "cytoscape_style": [
        {
         "selector": "node",
         "style": {
          "background-color": "#eee",
          "border-color": "data(color)",
          "border-width": 4,
          "color": "black",
          "font-family": "helvetica",
          "font-size": "24px",
          "font-weight": "bold",
          "height": 64,
          "label": "data(label)",
          "opacity": "1.0",
          "shape": "data(shape)",
          "text-halign": "center",
          "text-valign": "center",
          "width": 64
         }
        },
        {
         "selector": "edge",
         "style": {
          "curve-style": "bezier",
          "line-color": "gray",
          "target-arrow-color": "gray",
          "target-arrow-shape": "triangle",
          "width": 8
         }
        }
       ],
       "desktop_tap_threshold": 4,
       "graph": "IPY_MODEL_885187ab5bbd4bf7ac8c90e5bd6d4bf7",
       "headless": false,
       "hide_edges_on_viewport": false,
       "layout": "IPY_MODEL_0f2857b7ceab4d63b5bcd913c20510f1",
       "max_zoom": 4,
       "min_zoom": 0.2,
       "motion_blur": false,
       "motion_blur_opacity": 0.2,
       "panning_enabled": true,
       "pixel_ratio": "auto",
       "rendered_position": {
        "renderedPosition": {
         "x": 100,
         "y": 100
        }
       },
       "selection_type": "single",
       "style_enabled": true,
       "texture_on_viewport": false,
       "tooltip_source": "tooltip",
       "touch_tap_threshold": 8,
       "user_panning_enabled": true,
       "user_zooming_enabled": true,
       "wheel_sensitivity": 0.1,
       "zoom": 2,
       "zooming_enabled": true
      }
     },
     "20477bbb11904f509a9e591b33309391": {
      "model_module": "jupyter-cytoscape",
      "model_module_version": "^1.3.3",
      "model_name": "NodeModel",
      "state": {
       "_model_module_version": "^1.3.3",
       "_view_module_version": "^1.3.3",
       "data": {
        "color": "gray",
        "id": "3994302875326649304",
        "label": "",
        "shape": "rectangle"
       },
       "grabbable": true,
       "grabbed": false,
       "position": {
        "x": 304,
        "y": 995
       },
       "selectable": false
      }
     },
     "20edca50fa274a8092e4bed64a99974c": {
      "model_module": "jupyter-cytoscape",
      "model_module_version": "^1.3.3",
      "model_name": "EdgeModel",
      "state": {
       "_model_module_version": "^1.3.3",
       "_view_module_version": "^1.3.3",
       "classes": " directed ",
       "data": {
        "id": "32948ed9-6f07-4e68-8f7e-af57789fbdf9",
        "source": "-7310603977497333709",
        "target": "-4879822329518210859"
       },
       "selectable": false
      }
     },
     "2199c10005744c1fbe3cc81eef6598f8": {
      "model_module": "jupyter-cytoscape",
      "model_module_version": "^1.3.3",
      "model_name": "EdgeModel",
      "state": {
       "_model_module_version": "^1.3.3",
       "_view_module_version": "^1.3.3",
       "classes": " directed ",
       "data": {
        "id": "8a64a1a5-0755-4be8-9eca-72dbed436fcc",
        "source": "-5861860859088581121",
        "target": "-684227649182574446"
       },
       "selectable": false
      }
     },
     "22e130c84eb84bb5857ca256c4ea0fb0": {
      "model_module": "jupyter-cytoscape",
      "model_module_version": "^1.3.3",
      "model_name": "EdgeModel",
      "state": {
       "_model_module_version": "^1.3.3",
       "_view_module_version": "^1.3.3",
       "classes": " directed ",
       "data": {
        "id": "baca7100-0bfe-4b13-b93c-9d15ab3f5481",
        "source": "-6796483773692113087",
        "target": "5913611167721914870"
       },
       "selectable": false
      }
     },
     "23248211f60d4207bef35a8f6d72403c": {
      "model_module": "jupyter-cytoscape",
      "model_module_version": "^1.3.3",
      "model_name": "NodeModel",
      "state": {
       "_model_module_version": "^1.3.3",
       "_view_module_version": "^1.3.3",
       "data": {
        "color": "gray",
        "id": "1658173419409573162",
        "label": "apply_transform",
        "shape": "ellipse"
       },
       "grabbable": true,
       "grabbed": false,
       "position": {
        "x": 314,
        "y": 395
       },
       "selectable": false
      }
     },
     "24639027cfc14a43b1a3244058fbe884": {
      "model_module": "jupyter-cytoscape",
      "model_module_version": "^1.3.3",
      "model_name": "NodeModel",
      "state": {
       "_model_module_version": "^1.3.3",
       "_view_module_version": "^1.3.3",
       "data": {
        "color": "gray",
        "id": "3865486290529386074",
        "label": "(3, 0)",
        "shape": "rectangle"
       },
       "grabbable": true,
       "grabbed": false,
       "position": {
        "x": 930,
        "y": 515
       },
       "selectable": false
      }
     },
     "277e476994bb468ea9290093c390ac09": {
      "model_module": "jupyter-cytoscape",
      "model_module_version": "^1.3.3",
      "model_name": "NodeModel",
      "state": {
       "_model_module_version": "^1.3.3",
       "_view_module_version": "^1.3.3",
       "data": {
        "color": "gray",
        "id": "-6732846305900421870",
        "label": "0",
        "shape": "rectangle"
       },
       "grabbable": true,
       "grabbed": false,
       "position": {
        "x": 304,
        "y": 1715
       },
       "selectable": false
      }
     },
     "293db1f622354ae2bd9d86defab43142": {
      "model_module": "jupyter-cytoscape",
      "model_module_version": "^1.3.3",
      "model_name": "EdgeModel",
      "state": {
       "_model_module_version": "^1.3.3",
       "_view_module_version": "^1.3.3",
       "classes": " directed ",
       "data": {
        "id": "e6fe61a8-aab8-4828-b789-a6f86edfd51e",
        "source": "-3593708525088951428",
        "target": "-5861860859088581121"
       },
       "selectable": false
      }
     },
     "2bf3dd2800804f96837241f532ee5bd2": {
      "model_module": "jupyter-cytoscape",
      "model_module_version": "^1.3.3",
      "model_name": "GraphModel",
      "state": {
       "_adj": {},
       "_model_module_version": "^1.3.3",
       "_view_module": "jupyter-cytoscape",
       "_view_module_version": "^1.3.3"
      }
     },
     "2d3b0453e8bd4fbc92df3a672d40326e": {
      "model_module": "jupyter-cytoscape",
      "model_module_version": "^1.3.3",
      "model_name": "EdgeModel",
      "state": {
       "_model_module_version": "^1.3.3",
       "_view_module_version": "^1.3.3",
       "classes": " directed ",
       "data": {
        "id": "3c8b5b69-3271-48c1-b96c-ba6da8b584d1",
        "source": "-7310603977497333709",
        "target": "-4879822329518210859"
       },
       "selectable": false
      }
     },
     "3018ed14e6c6489396de056fc34b9eb7": {
      "model_module": "jupyter-cytoscape",
      "model_module_version": "^1.3.3",
      "model_name": "EdgeModel",
      "state": {
       "_model_module_version": "^1.3.3",
       "_view_module_version": "^1.3.3",
       "classes": " directed ",
       "data": {
        "id": "cafad0e0-2d0a-4103-a5a5-eee37138c110",
        "source": "9071299937934193216",
        "target": "-1162988058898088753"
       },
       "selectable": false
      }
     },
     "30253d7876ae442b9c8c0193b047752b": {
      "model_module": "jupyter-cytoscape",
      "model_module_version": "^1.3.3",
      "model_name": "EdgeModel",
      "state": {
       "_model_module_version": "^1.3.3",
       "_view_module_version": "^1.3.3",
       "classes": " directed ",
       "data": {
        "id": "345796b4-0f77-4add-8117-d9c264244337",
        "source": "-7344073837706355299",
        "target": "-4113482814637374724"
       },
       "selectable": false
      }
     },
     "313ee8b4702144928f6a63d967af463d": {
      "model_module": "jupyter-cytoscape",
      "model_module_version": "^1.3.3",
      "model_name": "NodeModel",
      "state": {
       "_model_module_version": "^1.3.3",
       "_view_module_version": "^1.3.3",
       "data": {
        "color": "gray",
        "id": "-6112881003992038452",
        "label": "(0, 0, 0)",
        "shape": "rectangle"
       },
       "grabbable": true,
       "grabbed": false,
       "position": {
        "x": 412.75,
        "y": 515
       },
       "selectable": false
      }
     },
     "325e10d37c8342c7ad081285317d6686": {
      "model_module": "jupyter-cytoscape",
      "model_module_version": "^1.3.3",
      "model_name": "NodeModel",
      "state": {
       "_model_module_version": "^1.3.3",
       "_view_module_version": "^1.3.3",
       "data": {
        "color": "gray",
        "id": "-4189307551585611252",
        "label": "getitem",
        "shape": "ellipse"
       },
       "grabbable": true,
       "grabbed": false,
       "position": {
        "x": 719,
        "y": 155
       },
       "selectable": false
      }
     },
     "3457b5c0977142cc9eacf720608c1e3f": {
      "model_module": "jupyter-cytoscape",
      "model_module_version": "^1.3.3",
      "model_name": "EdgeModel",
      "state": {
       "_model_module_version": "^1.3.3",
       "_view_module_version": "^1.3.3",
       "classes": " directed ",
       "data": {
        "id": "d702ba63-1180-4ea9-bcae-0a8d509bae4e",
        "source": "-3593708525088951428",
        "target": "23348537384176463"
       },
       "selectable": false
      }
     },
     "36c3e60171df42ec909e23206172b871": {
      "model_module": "jupyter-cytoscape",
      "model_module_version": "^1.3.3",
      "model_name": "NodeModel",
      "state": {
       "_model_module_version": "^1.3.3",
       "_view_module_version": "^1.3.3",
       "data": {
        "color": "gray",
        "id": "8811836834344767488",
        "label": "mean_chunk",
        "shape": "ellipse"
       },
       "grabbable": true,
       "grabbed": false,
       "position": {
        "x": 98,
        "y": 635
       },
       "selectable": false
      }
     },
     "37fa7ec642e4412383e2d094d631d59e": {
      "model_module": "jupyter-cytoscape",
      "model_module_version": "^1.3.3",
      "model_name": "NodeModel",
      "state": {
       "_model_module_version": "^1.3.3",
       "_view_module_version": "^1.3.3",
       "data": {
        "color": "gray",
        "id": "-6796483773692113087",
        "label": "from_partitioned_args_func",
        "shape": "ellipse"
       },
       "grabbable": true,
       "grabbed": false,
       "position": {
        "x": 516.5,
        "y": 1835
       },
       "selectable": false
      }
     },
     "3907b0877e734388997952df473bda94": {
      "model_module": "jupyter-cytoscape",
      "model_module_version": "^1.3.3",
      "model_name": "EdgeModel",
      "state": {
       "_model_module_version": "^1.3.3",
       "_view_module_version": "^1.3.3",
       "classes": " directed ",
       "data": {
        "id": "7b67e118-b306-42ff-9538-f247119f15e4",
        "source": "-5861860859088581121",
        "target": "-684227649182574446"
       },
       "selectable": false
      }
     },
     "3a11d69215ab4310ba94f928b4fa880d": {
      "model_module": "jupyter-cytoscape",
      "model_module_version": "^1.3.3",
      "model_name": "NodeModel",
      "state": {
       "_model_module_version": "^1.3.3",
       "_view_module_version": "^1.3.3",
       "data": {
        "color": "gray",
        "id": "2065410493791762658",
        "label": "getitem",
        "shape": "ellipse"
       },
       "grabbable": true,
       "grabbed": false,
       "position": {
        "x": 935,
        "y": 1595
       },
       "selectable": false
      }
     },
     "3a6a617dba7b4574b8ca93310c9aded6": {
      "model_module": "jupyter-cytoscape",
      "model_module_version": "^1.3.3",
      "model_name": "EdgeModel",
      "state": {
       "_model_module_version": "^1.3.3",
       "_view_module_version": "^1.3.3",
       "classes": " directed ",
       "data": {
        "id": "ab59dac8-1989-498b-87b7-e5d777b8b99e",
        "source": "-4113482814637374724",
        "target": "3994302875326649304"
       },
       "selectable": false
      }
     },
     "3a74bed9f2664376808b681b51b13403": {
      "model_module": "jupyter-cytoscape",
      "model_module_version": "^1.3.3",
      "model_name": "NodeModel",
      "state": {
       "_model_module_version": "^1.3.3",
       "_view_module_version": "^1.3.3",
       "data": {
        "color": "gray",
        "id": "5124007198383200373",
        "label": "(0, 0, 0)",
        "shape": "rectangle"
       },
       "grabbable": true,
       "grabbed": false,
       "position": {
        "x": 311.5,
        "y": 275
       },
       "selectable": false
      }
     },
     "3a827f6389ac4d1c867afa47b484fc3d": {
      "model_module": "jupyter-cytoscape",
      "model_module_version": "^1.3.3",
      "model_name": "NodeModel",
      "state": {
       "_model_module_version": "^1.3.3",
       "_view_module_version": "^1.3.3",
       "data": {
        "color": "gray",
        "id": "-5861860859088581121",
        "label": "apply_transform",
        "shape": "ellipse"
       },
       "grabbable": true,
       "grabbed": false,
       "position": {
        "x": 98,
        "y": 395
       },
       "selectable": false
      }
     },
     "3b574cb88e0c4784aa87a7fcb529a21f": {
      "model_module": "jupyter-cytoscape",
      "model_module_version": "^1.3.3",
      "model_name": "GraphModel",
      "state": {
       "_adj": {
        "-1162988058898088753": {},
        "-1648361962754339320": {},
        "-1677512154397951122": {},
        "-230404921456622981": {},
        "-2342049904412802010": {},
        "-2591056080245297848": {},
        "-2815456313386763074": {},
        "-3083138079535866035": {},
        "-3314526326687534986": {},
        "-3593708525088951428": {},
        "-3667003760153278759": {},
        "-3987552335221504767": {},
        "-4113482814637374724": {},
        "-4144154358512503320": {},
        "-4189307551585611252": {},
        "-4879822329518210859": {},
        "-5076179833641889531": {},
        "-5861860859088581121": {},
        "-6112881003992038452": {},
        "-6196465266914034023": {},
        "-6474060349173047760": {},
        "-6531451423884885681": {},
        "-6732846305900421870": {},
        "-6796483773692113087": {},
        "-684227649182574446": {},
        "-6985433469959104574": {},
        "-7310603977497333709": {},
        "-7344073837706355299": {},
        "-7475103573312209962": {},
        "-7521909501782290201": {},
        "-7535929885956994589": {},
        "-784299579356806161": {},
        "-8298368627976420273": {},
        "-8820517672212241231": {},
        "-8827835913014507489": {},
        "1658173419409573162": {},
        "2065410493791762658": {},
        "2138284708474578092": {},
        "2200123212753603319": {},
        "23348537384176463": {},
        "2555837921515829398": {},
        "2603075591425295929": {},
        "2636828699620805333": {},
        "2897811036950413432": {},
        "3174104662205318362": {},
        "3216764353020735326": {},
        "381978703984849675": {},
        "3838090120907428870": {},
        "3865486290529386074": {},
        "3994302875326649304": {},
        "4037033082981367311": {},
        "4343630600102015789": {},
        "4386842957165667525": {},
        "4545804275531060540": {},
        "4559592919312361497": {},
        "5112523144218638577": {},
        "5116571362500262984": {},
        "5124007198383200373": {},
        "5173157996983750842": {},
        "5913611167721914870": {},
        "6820823738836433380": {},
        "6861631808981973157": {},
        "7378857194019156031": {},
        "7544172074734438115": {},
        "7848625483293829867": {},
        "8021529477702927584": {},
        "8811836834344767488": {},
        "8858137867545646120": {},
        "8930107111954063677": {},
        "9071299937934193216": {}
       },
       "_model_module_version": "^1.3.3",
       "_view_module": "jupyter-cytoscape",
       "_view_module_version": "^1.3.3",
       "edges": [
        "IPY_MODEL_2199c10005744c1fbe3cc81eef6598f8",
        "IPY_MODEL_1709281d06f040b9aa64f07778d2faa7",
        "IPY_MODEL_cf12431209c54166ae6ce7e3e5f9adc4",
        "IPY_MODEL_b0ae0e9df6e54350a8339b1d40fd2749",
        "IPY_MODEL_c67a1a8a241d4ab88f15c9d64eb69e60",
        "IPY_MODEL_f8e1b9c936c94d8881d440e1476f7ae0",
        "IPY_MODEL_f675dc9ffd904d05915b4aaf508c51e1",
        "IPY_MODEL_98db46f0148b464382f02121325fc253",
        "IPY_MODEL_08cf966216564c928828191089c78d73",
        "IPY_MODEL_e6498399467c4b7ca93635ecfdada44a",
        "IPY_MODEL_4e4fccf2c6f349919e91bc1109c268a4",
        "IPY_MODEL_5021985945a34f86921c2ddbd2acf801",
        "IPY_MODEL_7376180cd6464f9a83f949ce9a2d2ec8",
        "IPY_MODEL_40a4dcc604fb4e99b61c197563a3bed9",
        "IPY_MODEL_61d50382d3964d66953f654d5526f773",
        "IPY_MODEL_4268e862af434017957935f20db86e8b",
        "IPY_MODEL_9e09d6acc68e4014a58e69cef90d4e45",
        "IPY_MODEL_747c920037794997a1a37722a1376d75",
        "IPY_MODEL_88fe60cb64a44650864775fb3eafe1f2",
        "IPY_MODEL_4e0d80ec0a7740329c86b68d5dca7fe3",
        "IPY_MODEL_30253d7876ae442b9c8c0193b047752b",
        "IPY_MODEL_c8c67cc014c54dc3b6cb20436d4547d6",
        "IPY_MODEL_88459a0780404bab83f0fda557203695",
        "IPY_MODEL_b407466b402c4000a472379bf4af6cd1",
        "IPY_MODEL_b5c80ae867954c9dbc5245f985a2ecb5",
        "IPY_MODEL_b64c8dc9f0874ba9aa642814e6b8d383",
        "IPY_MODEL_46a8c40bbe614a81a012165640e9918d",
        "IPY_MODEL_56c8faf84fca40d5b6bdce43d3a90d9f",
        "IPY_MODEL_9ce4d0a63d274dfa9d59b28322f4dc2a",
        "IPY_MODEL_fbffaf8111754a919e39edad0d021bd0",
        "IPY_MODEL_20edca50fa274a8092e4bed64a99974c",
        "IPY_MODEL_64053bddaa65486d9576a4cc495b2435",
        "IPY_MODEL_b05f7235db1f4414b4d7ac2553ef15ac",
        "IPY_MODEL_ed73415a008043d089ab9df24be53058",
        "IPY_MODEL_02b2abc6ad6f459ca768bab59400e0ed",
        "IPY_MODEL_8ba8674dcec54288bf48c6362ee34bb5",
        "IPY_MODEL_61b28112552c4bb4800c46d36746ac34",
        "IPY_MODEL_cef2d3c029334f7b80b9d3dc7242c829",
        "IPY_MODEL_131ee6d450ea4292a941019ba9c68d38",
        "IPY_MODEL_a370f09eacb14c8eac14d08ca9c81862",
        "IPY_MODEL_5b1607d37c0f41f3933674a6e887a34f",
        "IPY_MODEL_c11cf8d59ccc4315908edc87fa1643cd",
        "IPY_MODEL_d025794a2e324372bdd120faf6da8297",
        "IPY_MODEL_cc9cb2c7aaaf49a69d3420cb1545f193",
        "IPY_MODEL_f71528e44bab469ab535ab778c700f9f",
        "IPY_MODEL_8b31eb8ef5ff4e25b98abcd49ba0d271",
        "IPY_MODEL_3018ed14e6c6489396de056fc34b9eb7",
        "IPY_MODEL_3ddbc35f9dc84a39bd53bb49fb9be668",
        "IPY_MODEL_ee71f2adfb15440092e91398aa028cbc",
        "IPY_MODEL_92d5e5e1f0464ab8a5909f6ca4850ec8",
        "IPY_MODEL_520af5a5764a4da58fed6d24c54a26b4",
        "IPY_MODEL_913d13d80a2d4611af3b4d61ef4ea131",
        "IPY_MODEL_606fe57df19046609cdff02a97c45400",
        "IPY_MODEL_0cde6ac578cc4f85836c697cbb2b30d6",
        "IPY_MODEL_02b7c6056ed646b390f1d6084cbf43e6",
        "IPY_MODEL_434001219b8e4e4aa72769741704f69a",
        "IPY_MODEL_4e2a6c5bbf134dd9a2342499e0e02c98",
        "IPY_MODEL_8f06665defcf43628413bf6bc18491ad",
        "IPY_MODEL_8217183248c24306a93815b2e4fd626f",
        "IPY_MODEL_8f2d554653d04fa18e675a254120443d",
        "IPY_MODEL_f892fc611d414a30b9278da103744054",
        "IPY_MODEL_a2ff1a5a54504070a9d23387e73ddf85",
        "IPY_MODEL_52f550743bc84f02a5fc2fcfcd4389c8",
        "IPY_MODEL_cb5abec7f19242f59f88b9c23bb9df73",
        "IPY_MODEL_c2fe9118e5e446abab52fe40a1b9451f",
        "IPY_MODEL_ebf71d79607d4900958ca6780b440a89",
        "IPY_MODEL_b179adfe3c774d5d80d4a74277bb5c98",
        "IPY_MODEL_c4d9723762ec4201ba2bac98d54c680a",
        "IPY_MODEL_76e6a5fae97542e9a99c7346b863050f",
        "IPY_MODEL_bcd39f9c23b14c4688424089d074cdae",
        "IPY_MODEL_3dd93497b04441ba8983f5466e6e569c",
        "IPY_MODEL_90104be59d76429287ea608701d475ee"
       ],
       "nodes": [
        "IPY_MODEL_86b486c81e5940f3a9f90a846e3ac0be",
        "IPY_MODEL_84234aba5661452b8a249f57ce68db6a",
        "IPY_MODEL_cc71ccbb9b724ace9f9c1461aa794d78",
        "IPY_MODEL_cafc98dce9b6418d8bf563004ed45ccb",
        "IPY_MODEL_b94dd4021074491ab65139c1ef7b0528",
        "IPY_MODEL_4985696c024f4e0da471a9bb2a3d5a7e",
        "IPY_MODEL_dbd5ec5beba74e8eb16a22495950155d",
        "IPY_MODEL_4232652a70fa472db7160f52cc889c0f",
        "IPY_MODEL_511c8bc5b73b498ab300f8fbdd1a750f",
        "IPY_MODEL_89cb2273545d4b07b6570d689c4472cd",
        "IPY_MODEL_f97525833a414716a2fdfe5263f9b9b1",
        "IPY_MODEL_460b785645d94501a317dbdbd3394bd8",
        "IPY_MODEL_88a96a830db24a37ad631d3f8aeb1b3c",
        "IPY_MODEL_277e476994bb468ea9290093c390ac09",
        "IPY_MODEL_7fcc3ad6d0004673aadb967caae7807d",
        "IPY_MODEL_637b2798286646dabd33ce14a5c0982d",
        "IPY_MODEL_6006d26bcf77408b9f82d085b6b8cb56",
        "IPY_MODEL_0eda123450fd41bdbb571132cc5c3f61",
        "IPY_MODEL_9657205677c848a48684b8ecd8fc8df6",
        "IPY_MODEL_72259ca8d36742cea832bf0117a82442",
        "IPY_MODEL_58b1d70d71cb4cac943a0bf3811e0731",
        "IPY_MODEL_0d90f1a490e24ec48040ad9bf441880b",
        "IPY_MODEL_5c70260504354f5d9fcb4636e1c718f3",
        "IPY_MODEL_0d8936bf32624ad9972155f9df9fdf21",
        "IPY_MODEL_9c4863522bd34565aeb842ad932120fe",
        "IPY_MODEL_87e6d630a89643fda9565fb6df75fbe4",
        "IPY_MODEL_e49f7a0055eb4253bdcd89610e04fc9c",
        "IPY_MODEL_1a9c82c16c2d41cf8d27793be2ce9df8",
        "IPY_MODEL_b04fba04ced6424fb631581b5b4d700f",
        "IPY_MODEL_9f43e830ce3c4a21a610676d25b3f934",
        "IPY_MODEL_bc1a30092f2a46ea89954edbb81e18a9",
        "IPY_MODEL_7beb8010a8f64a798ec30dfcbf939f94",
        "IPY_MODEL_de92aeac67c84d459e62b771508d4c02",
        "IPY_MODEL_18ebfdaad77f4b5d8895225539debcb7",
        "IPY_MODEL_5cd36e3a613a42278579364709d53aa3",
        "IPY_MODEL_f7f08f4670504f29aab2f88d976bc33d",
        "IPY_MODEL_3a11d69215ab4310ba94f928b4fa880d",
        "IPY_MODEL_37fa7ec642e4412383e2d094d631d59e",
        "IPY_MODEL_dc2ae94ca9104ba3b4edf073ddeae112",
        "IPY_MODEL_fb1c010a27254f36b6fda12eb85c0737",
        "IPY_MODEL_d4b6105e7a5e428799aec2d873396d7a",
        "IPY_MODEL_a858029fb12d4bb598a7853c19e37918",
        "IPY_MODEL_6ad9a93922114fc5970bba10e505223c",
        "IPY_MODEL_a005c5072bca461dbe5030be2cc1485d",
        "IPY_MODEL_a3e8b9b67761495e9b4f689314a811b9",
        "IPY_MODEL_9abf2950d59f4bf8b6d13415405973eb",
        "IPY_MODEL_0a2566fccf5a496f823336ad24326aad",
        "IPY_MODEL_fdaea8e8d6f944e3adcf12a43cad28b1",
        "IPY_MODEL_86748082cc6c4375b397355a7c108440",
        "IPY_MODEL_61243f22227441808f8c7ee6fef90043",
        "IPY_MODEL_e51a3670e6704e92b0f19649a58bb7ea",
        "IPY_MODEL_541b84bcfadd491397da9e225a66dbcc",
        "IPY_MODEL_192700666c8c4830b42ece8db433a83a",
        "IPY_MODEL_8f37b9f0174547808b3b849ed2e4156c",
        "IPY_MODEL_46e340c251d7448c939053eee6b08923",
        "IPY_MODEL_c081f9da42a140408f509d3a5ca75d0d",
        "IPY_MODEL_1111c1adb07148229e792571ba12de9c",
        "IPY_MODEL_313ee8b4702144928f6a63d967af463d",
        "IPY_MODEL_36c3e60171df42ec909e23206172b871",
        "IPY_MODEL_88d3fe60a1c042fca57604ff0580939d",
        "IPY_MODEL_82cb936a061d4b21908e5d72cb6f9a78",
        "IPY_MODEL_a93e3558330344459c998846ee2d880b",
        "IPY_MODEL_cc00284e5fc9417496097efbbf4db346",
        "IPY_MODEL_4224e3dabdf74e048c47302b23330ab8",
        "IPY_MODEL_53a4421d8fae46a8961791669cbd5057",
        "IPY_MODEL_3a74bed9f2664376808b681b51b13403",
        "IPY_MODEL_bf75b040106744d4aa5aefb86bb82c3b",
        "IPY_MODEL_cc67b47364444195ae5d8ee371719afe",
        "IPY_MODEL_e1e0930b71be4e5091664dd4944783e7",
        "IPY_MODEL_e365201b26814f7e83a147c9a3be945f"
       ]
      }
     },
     "3b603b21bec1475cac269d501186b712": {
      "model_module": "jupyter-cytoscape",
      "model_module_version": "^1.3.3",
      "model_name": "EdgeModel",
      "state": {
       "_model_module_version": "^1.3.3",
       "_view_module_version": "^1.3.3",
       "classes": " directed ",
       "data": {
        "id": "a3365d02-2092-4ad4-b50a-4c85bc2c8c79",
        "source": "3865486290529386074",
        "target": "-2342049904412802010"
       },
       "selectable": false
      }
     },
     "3dd93497b04441ba8983f5466e6e569c": {
      "model_module": "jupyter-cytoscape",
      "model_module_version": "^1.3.3",
      "model_name": "EdgeModel",
      "state": {
       "_model_module_version": "^1.3.3",
       "_view_module_version": "^1.3.3",
       "classes": " directed ",
       "data": {
        "id": "50d8fbb1-51d3-4f90-bf6e-cd71ca9d82ef",
        "source": "5124007198383200373",
        "target": "3174104662205318362"
       },
       "selectable": false
      }
     },
     "3ddbc35f9dc84a39bd53bb49fb9be668": {
      "model_module": "jupyter-cytoscape",
      "model_module_version": "^1.3.3",
      "model_name": "EdgeModel",
      "state": {
       "_model_module_version": "^1.3.3",
       "_view_module_version": "^1.3.3",
       "classes": " directed ",
       "data": {
        "id": "7a21e0b4-2de6-4bc4-a18f-2d47d2167f72",
        "source": "4386842957165667525",
        "target": "5173157996983750842"
       },
       "selectable": false
      }
     },
     "3ece56da653c405d8aa0bdf2cd54ea3c": {
      "model_module": "jupyter-cytoscape",
      "model_module_version": "^1.3.3",
      "model_name": "NodeModel",
      "state": {
       "_model_module_version": "^1.3.3",
       "_view_module_version": "^1.3.3",
       "data": {
        "color": "gray",
        "id": "-7521909501782290201",
        "label": "",
        "shape": "rectangle"
       },
       "grabbable": true,
       "grabbed": false,
       "position": {
        "x": 98,
        "y": 995
       },
       "selectable": false
      }
     },
     "40a4dcc604fb4e99b61c197563a3bed9": {
      "model_module": "jupyter-cytoscape",
      "model_module_version": "^1.3.3",
      "model_name": "EdgeModel",
      "state": {
       "_model_module_version": "^1.3.3",
       "_view_module_version": "^1.3.3",
       "classes": " directed ",
       "data": {
        "id": "5d231f1f-a8df-4fdc-8769-98e1d3562457",
        "source": "-5076179833641889531",
        "target": "6820823738836433380"
       },
       "selectable": false
      }
     },
     "4224e3dabdf74e048c47302b23330ab8": {
      "model_module": "jupyter-cytoscape",
      "model_module_version": "^1.3.3",
      "model_name": "NodeModel",
      "state": {
       "_model_module_version": "^1.3.3",
       "_view_module_version": "^1.3.3",
       "data": {
        "color": "gray",
        "id": "4545804275531060540",
        "label": "(3, 0, 0)",
        "shape": "rectangle"
       },
       "grabbable": true,
       "grabbed": false,
       "position": {
        "x": 935,
        "y": 515
       },
       "selectable": false
      }
     },
     "4232652a70fa472db7160f52cc889c0f": {
      "model_module": "jupyter-cytoscape",
      "model_module_version": "^1.3.3",
      "model_name": "NodeModel",
      "state": {
       "_model_module_version": "^1.3.3",
       "_view_module_version": "^1.3.3",
       "data": {
        "color": "gray",
        "id": "23348537384176463",
        "label": "apply_transform",
        "shape": "ellipse"
       },
       "grabbable": true,
       "grabbed": false,
       "position": {
        "x": 729,
        "y": 1355
       },
       "selectable": false
      }
     },
     "4268e862af434017957935f20db86e8b": {
      "model_module": "jupyter-cytoscape",
      "model_module_version": "^1.3.3",
      "model_name": "EdgeModel",
      "state": {
       "_model_module_version": "^1.3.3",
       "_view_module_version": "^1.3.3",
       "classes": " directed ",
       "data": {
        "id": "a5174bf8-19a8-4e65-a037-da4e33634fc2",
        "source": "-3314526326687534986",
        "target": "4037033082981367311"
       },
       "selectable": false
      }
     },
     "434001219b8e4e4aa72769741704f69a": {
      "model_module": "jupyter-cytoscape",
      "model_module_version": "^1.3.3",
      "model_name": "EdgeModel",
      "state": {
       "_model_module_version": "^1.3.3",
       "_view_module_version": "^1.3.3",
       "classes": " directed ",
       "data": {
        "id": "ed77b48f-730f-4511-8d56-f39e793dff81",
        "source": "-784299579356806161",
        "target": "-6112881003992038452"
       },
       "selectable": false
      }
     },
     "43d7ae03ebca446784875480ede0bc81": {
      "model_module": "jupyter-cytoscape",
      "model_module_version": "^1.3.3",
      "model_name": "EdgeModel",
      "state": {
       "_model_module_version": "^1.3.3",
       "_view_module_version": "^1.3.3",
       "classes": " directed ",
       "data": {
        "id": "095708ac-6782-4719-abe9-0e5314d3e8e0",
        "source": "3994302875326649304",
        "target": "-5076179833641889531"
       },
       "selectable": false
      }
     },
     "445d886fa8274fe387845459577c1636": {
      "model_module": "jupyter-cytoscape",
      "model_module_version": "^1.3.3",
      "model_name": "NodeModel",
      "state": {
       "_model_module_version": "^1.3.3",
       "_view_module_version": "^1.3.3",
       "data": {
        "color": "gray",
        "id": "-4879822329518210859",
        "label": "(1, 0)",
        "shape": "rectangle"
       },
       "grabbable": true,
       "grabbed": false,
       "position": {
        "x": 304,
        "y": 515
       },
       "selectable": false
      }
     },
     "44a60259790a4196a1304b0ee1e6b7be": {
      "model_module": "jupyter-cytoscape",
      "model_module_version": "^1.3.3",
      "model_name": "NodeModel",
      "state": {
       "_model_module_version": "^1.3.3",
       "_view_module_version": "^1.3.3",
       "data": {
        "color": "gray",
        "id": "2555837921515829398",
        "label": "",
        "shape": "rectangle"
       },
       "grabbable": true,
       "grabbed": false,
       "position": {
        "x": 724,
        "y": 995
       },
       "selectable": false
      }
     },
     "460b785645d94501a317dbdbd3394bd8": {
      "model_module": "jupyter-cytoscape",
      "model_module_version": "^1.3.3",
      "model_name": "NodeModel",
      "state": {
       "_model_module_version": "^1.3.3",
       "_view_module_version": "^1.3.3",
       "data": {
        "color": "gray",
        "id": "3865486290529386074",
        "label": "(3, 0)",
        "shape": "rectangle"
       },
       "grabbable": true,
       "grabbed": false,
       "position": {
        "x": 935,
        "y": 1475
       },
       "selectable": false
      }
     },
     "46a8c40bbe614a81a012165640e9918d": {
      "model_module": "jupyter-cytoscape",
      "model_module_version": "^1.3.3",
      "model_name": "EdgeModel",
      "state": {
       "_model_module_version": "^1.3.3",
       "_view_module_version": "^1.3.3",
       "classes": " directed ",
       "data": {
        "id": "ec8a056c-b6a9-4252-ad2a-d52c1acbe9f2",
        "source": "7848625483293829867",
        "target": "5112523144218638577"
       },
       "selectable": false
      }
     },
     "46e340c251d7448c939053eee6b08923": {
      "model_module": "jupyter-cytoscape",
      "model_module_version": "^1.3.3",
      "model_name": "NodeModel",
      "state": {
       "_model_module_version": "^1.3.3",
       "_view_module_version": "^1.3.3",
       "data": {
        "color": "gray",
        "id": "-8820517672212241231",
        "label": "abs2",
        "shape": "ellipse"
       },
       "grabbable": true,
       "grabbed": false,
       "position": {
        "x": 935,
        "y": 875
       },
       "selectable": false
      }
     },
     "4985696c024f4e0da471a9bb2a3d5a7e": {
      "model_module": "jupyter-cytoscape",
      "model_module_version": "^1.3.3",
      "model_name": "NodeModel",
      "state": {
       "_model_module_version": "^1.3.3",
       "_view_module_version": "^1.3.3",
       "data": {
        "color": "gray",
        "id": "-4879822329518210859",
        "label": "(1, 0)",
        "shape": "rectangle"
       },
       "grabbable": true,
       "grabbed": false,
       "position": {
        "x": 98,
        "y": 1475
       },
       "selectable": false
      }
     },
     "4a9a09169a2a45d9b9fe5bf7380c771f": {
      "model_module": "jupyter-cytoscape",
      "model_module_version": "^1.3.3",
      "model_name": "NodeModel",
      "state": {
       "_model_module_version": "^1.3.3",
       "_view_module_version": "^1.3.3",
       "data": {
        "color": "gray",
        "id": "5112523144218638577",
        "label": "wrap_with_array",
        "shape": "ellipse"
       },
       "grabbable": true,
       "grabbed": false,
       "position": {
        "x": 930,
        "y": 1115
       },
       "selectable": false
      }
     },
     "4e0d80ec0a7740329c86b68d5dca7fe3": {
      "model_module": "jupyter-cytoscape",
      "model_module_version": "^1.3.3",
      "model_name": "EdgeModel",
      "state": {
       "_model_module_version": "^1.3.3",
       "_view_module_version": "^1.3.3",
       "classes": " directed ",
       "data": {
        "id": "ce5f8b8e-f565-4ae9-af64-f0bd9ee42d63",
        "source": "-4113482814637374724",
        "target": "3994302875326649304"
       },
       "selectable": false
      }
     },
     "4e2a6c5bbf134dd9a2342499e0e02c98": {
      "model_module": "jupyter-cytoscape",
      "model_module_version": "^1.3.3",
      "model_name": "EdgeModel",
      "state": {
       "_model_module_version": "^1.3.3",
       "_view_module_version": "^1.3.3",
       "classes": " directed ",
       "data": {
        "id": "0bc80f68-316b-4bda-84ba-a4df1bc9e02e",
        "source": "5173157996983750842",
        "target": "-784299579356806161"
       },
       "selectable": false
      }
     },
     "4e4fccf2c6f349919e91bc1109c268a4": {
      "model_module": "jupyter-cytoscape",
      "model_module_version": "^1.3.3",
      "model_name": "EdgeModel",
      "state": {
       "_model_module_version": "^1.3.3",
       "_view_module_version": "^1.3.3",
       "classes": " directed ",
       "data": {
        "id": "c6fbc1dc-022c-4d10-a32d-41ed77c7b789",
        "source": "3865486290529386074",
        "target": "-2342049904412802010"
       },
       "selectable": false
      }
     },
     "4f058cd1b96942c8996f8fe5ec9230c4": {
      "model_module": "jupyter-cytoscape",
      "model_module_version": "^1.3.3",
      "model_name": "CytoscapeModel",
      "state": {
       "_interaction_handlers": {},
       "_model_module_version": "^1.3.3",
       "_view_module_version": "^1.3.3",
       "auto_ungrabify": false,
       "autolock": false,
       "cytoscape_layout": {
        "edgeSep": 10,
        "name": "dagre",
        "nodeDimensionsIncludeLabels": true,
        "nodeSep": 10,
        "rankDir": "BT",
        "spacingFactor": 1
       },
       "cytoscape_style": [
        {
         "selector": "node",
         "style": {
          "background-color": "#eee",
          "border-color": "data(color)",
          "border-width": 4,
          "color": "black",
          "font-family": "helvetica",
          "font-size": "24px",
          "font-weight": "bold",
          "height": 64,
          "label": "data(label)",
          "opacity": "1.0",
          "shape": "data(shape)",
          "text-halign": "center",
          "text-valign": "center",
          "width": 64
         }
        },
        {
         "selector": "edge",
         "style": {
          "curve-style": "bezier",
          "line-color": "gray",
          "target-arrow-color": "gray",
          "target-arrow-shape": "triangle",
          "width": 8
         }
        }
       ],
       "desktop_tap_threshold": 4,
       "graph": "IPY_MODEL_3b574cb88e0c4784aa87a7fcb529a21f",
       "headless": false,
       "hide_edges_on_viewport": false,
       "layout": "IPY_MODEL_af069268d9794688b7e759d2f54786a5",
       "max_zoom": 4,
       "min_zoom": 0.2,
       "motion_blur": false,
       "motion_blur_opacity": 0.2,
       "panning_enabled": true,
       "pixel_ratio": "auto",
       "rendered_position": {
        "renderedPosition": {
         "x": 100,
         "y": 100
        }
       },
       "selection_type": "single",
       "style_enabled": true,
       "texture_on_viewport": false,
       "tooltip_source": "tooltip",
       "touch_tap_threshold": 8,
       "user_panning_enabled": true,
       "user_zooming_enabled": true,
       "wheel_sensitivity": 0.1,
       "zoom": 2,
       "zooming_enabled": true
      }
     },
     "5021985945a34f86921c2ddbd2acf801": {
      "model_module": "jupyter-cytoscape",
      "model_module_version": "^1.3.3",
      "model_name": "EdgeModel",
      "state": {
       "_model_module_version": "^1.3.3",
       "_view_module_version": "^1.3.3",
       "classes": " directed ",
       "data": {
        "id": "fdda5cff-a97d-4489-b562-d7c2ec18fca2",
        "source": "-3593708525088951428",
        "target": "-2342049904412802010"
       },
       "selectable": false
      }
     },
     "50c4dc13ea4244ffa32e310acbe70fc1": {
      "model_module": "jupyter-cytoscape",
      "model_module_version": "^1.3.3",
      "model_name": "NodeModel",
      "state": {
       "_model_module_version": "^1.3.3",
       "_view_module_version": "^1.3.3",
       "data": {
        "color": "gray",
        "id": "-7344073837706355299",
        "label": "",
        "shape": "rectangle"
       },
       "grabbable": true,
       "grabbed": false,
       "position": {
        "x": 304,
        "y": 1235
       },
       "selectable": false
      }
     },
     "511c8bc5b73b498ab300f8fbdd1a750f": {
      "model_module": "jupyter-cytoscape",
      "model_module_version": "^1.3.3",
      "model_name": "NodeModel",
      "state": {
       "_model_module_version": "^1.3.3",
       "_view_module_version": "^1.3.3",
       "data": {
        "color": "gray",
        "id": "-6474060349173047760",
        "label": "(2, 0)",
        "shape": "rectangle"
       },
       "grabbable": true,
       "grabbed": false,
       "position": {
        "x": 729,
        "y": 1475
       },
       "selectable": false
      }
     },
     "51261f407cbd401081b02e1e8e1d3752": {
      "model_module": "jupyter-cytoscape",
      "model_module_version": "^1.3.3",
      "model_name": "NodeModel",
      "state": {
       "_model_module_version": "^1.3.3",
       "_view_module_version": "^1.3.3",
       "data": {
        "color": "gray",
        "id": "-8298368627976420273",
        "label": "getitem",
        "shape": "ellipse"
       },
       "grabbable": true,
       "grabbed": false,
       "position": {
        "x": 314,
        "y": 155
       },
       "selectable": false
      }
     },
     "520af5a5764a4da58fed6d24c54a26b4": {
      "model_module": "jupyter-cytoscape",
      "model_module_version": "^1.3.3",
      "model_name": "EdgeModel",
      "state": {
       "_model_module_version": "^1.3.3",
       "_view_module_version": "^1.3.3",
       "classes": " directed ",
       "data": {
        "id": "3064a0f1-2915-459a-8376-4066ac69e640",
        "source": "4343630600102015789",
        "target": "-3987552335221504767"
       },
       "selectable": false
      }
     },
     "52f550743bc84f02a5fc2fcfcd4389c8": {
      "model_module": "jupyter-cytoscape",
      "model_module_version": "^1.3.3",
      "model_name": "EdgeModel",
      "state": {
       "_model_module_version": "^1.3.3",
       "_view_module_version": "^1.3.3",
       "classes": " directed ",
       "data": {
        "id": "44270699-312b-4489-8beb-020542aa36ad",
        "source": "7544172074734438115",
        "target": "-230404921456622981"
       },
       "selectable": false
      }
     },
     "53a4421d8fae46a8961791669cbd5057": {
      "model_module": "jupyter-cytoscape",
      "model_module_version": "^1.3.3",
      "model_name": "NodeModel",
      "state": {
       "_model_module_version": "^1.3.3",
       "_view_module_version": "^1.3.3",
       "data": {
        "color": "gray",
        "id": "-4144154358512503320",
        "label": "mean_combine-partial",
        "shape": "ellipse"
       },
       "grabbable": true,
       "grabbed": false,
       "position": {
        "x": 311.5,
        "y": 395
       },
       "selectable": false
      }
     },
     "541b84bcfadd491397da9e225a66dbcc": {
      "model_module": "jupyter-cytoscape",
      "model_module_version": "^1.3.3",
      "model_name": "NodeModel",
      "state": {
       "_model_module_version": "^1.3.3",
       "_view_module_version": "^1.3.3",
       "data": {
        "color": "gray",
        "id": "381978703984849675",
        "label": "(1, 0, 0)",
        "shape": "rectangle"
       },
       "grabbable": true,
       "grabbed": false,
       "position": {
        "x": 98,
        "y": 755
       },
       "selectable": false
      }
     },
     "54fb2ca17bc0477dbe29e79c7e751fcc": {
      "model_module": "jupyter-cytoscape",
      "model_module_version": "^1.3.3",
      "model_name": "NodeModel",
      "state": {
       "_model_module_version": "^1.3.3",
       "_view_module_version": "^1.3.3",
       "data": {
        "color": "gray",
        "id": "2897811036950413432",
        "label": "build_waves",
        "shape": "ellipse"
       },
       "grabbable": true,
       "grabbed": false,
       "position": {
        "x": 516.5,
        "y": 635
       },
       "selectable": false
      }
     },
     "56c8faf84fca40d5b6bdce43d3a90d9f": {
      "model_module": "jupyter-cytoscape",
      "model_module_version": "^1.3.3",
      "model_name": "EdgeModel",
      "state": {
       "_model_module_version": "^1.3.3",
       "_view_module_version": "^1.3.3",
       "classes": " directed ",
       "data": {
        "id": "bbe7cb96-f022-43af-b935-a0f16dff4d56",
        "source": "-6196465266914034023",
        "target": "-3314526326687534986"
       },
       "selectable": false
      }
     },
     "56dbcf404969442b8c9770376e44dfb3": {
      "model_module": "jupyter-cytoscape",
      "model_module_version": "^1.3.3",
      "model_name": "NodeModel",
      "state": {
       "_model_module_version": "^1.3.3",
       "_view_module_version": "^1.3.3",
       "data": {
        "color": "gray",
        "id": "2138284708474578092",
        "label": "getitem",
        "shape": "ellipse"
       },
       "grabbable": true,
       "grabbed": false,
       "position": {
        "x": 724,
        "y": 635
       },
       "selectable": false
      }
     },
     "58b1d70d71cb4cac943a0bf3811e0731": {
      "model_module": "jupyter-cytoscape",
      "model_module_version": "^1.3.3",
      "model_name": "NodeModel",
      "state": {
       "_model_module_version": "^1.3.3",
       "_view_module_version": "^1.3.3",
       "data": {
        "color": "gray",
        "id": "-8827835913014507489",
        "label": "0",
        "shape": "rectangle"
       },
       "grabbable": true,
       "grabbed": false,
       "position": {
        "x": 304,
        "y": 1835
       },
       "selectable": false
      }
     },
     "5b1607d37c0f41f3933674a6e887a34f": {
      "model_module": "jupyter-cytoscape",
      "model_module_version": "^1.3.3",
      "model_name": "EdgeModel",
      "state": {
       "_model_module_version": "^1.3.3",
       "_view_module_version": "^1.3.3",
       "classes": " directed ",
       "data": {
        "id": "b0e9d0dd-06f6-4d36-a7b0-eaf9326fbe5f",
        "source": "-684227649182574446",
        "target": "-6985433469959104574"
       },
       "selectable": false
      }
     },
     "5c70260504354f5d9fcb4636e1c718f3": {
      "model_module": "jupyter-cytoscape",
      "model_module_version": "^1.3.3",
      "model_name": "NodeModel",
      "state": {
       "_model_module_version": "^1.3.3",
       "_view_module_version": "^1.3.3",
       "data": {
        "color": "gray",
        "id": "-4113482814637374724",
        "label": "wrap_with_array",
        "shape": "ellipse"
       },
       "grabbable": true,
       "grabbed": false,
       "position": {
        "x": 98,
        "y": 2075
       },
       "selectable": false
      }
     },
     "5cd36e3a613a42278579364709d53aa3": {
      "model_module": "jupyter-cytoscape",
      "model_module_version": "^1.3.3",
      "model_name": "NodeModel",
      "state": {
       "_model_module_version": "^1.3.3",
       "_view_module_version": "^1.3.3",
       "data": {
        "color": "gray",
        "id": "-7310603977497333709",
        "label": "getitem",
        "shape": "ellipse"
       },
       "grabbable": true,
       "grabbed": false,
       "position": {
        "x": 98,
        "y": 1595
       },
       "selectable": false
      }
     },
     "5e004b5d0e0f46e6a0defe72d0beb5ba": {
      "model_module": "jupyter-cytoscape",
      "model_module_version": "^1.3.3",
      "model_name": "EdgeModel",
      "state": {
       "_model_module_version": "^1.3.3",
       "_view_module_version": "^1.3.3",
       "classes": " directed ",
       "data": {
        "id": "8cf4b608-d06f-4220-a644-8ff895ec5cde",
        "source": "2065410493791762658",
        "target": "3865486290529386074"
       },
       "selectable": false
      }
     },
     "6006d26bcf77408b9f82d085b6b8cb56": {
      "model_module": "jupyter-cytoscape",
      "model_module_version": "^1.3.3",
      "model_name": "NodeModel",
      "state": {
       "_model_module_version": "^1.3.3",
       "_view_module_version": "^1.3.3",
       "data": {
        "color": "gray",
        "id": "4037033082981367311",
        "label": "3",
        "shape": "rectangle"
       },
       "grabbable": true,
       "grabbed": false,
       "position": {
        "x": 935,
        "y": 1715
       },
       "selectable": false
      }
     },
     "606fe57df19046609cdff02a97c45400": {
      "model_module": "jupyter-cytoscape",
      "model_module_version": "^1.3.3",
      "model_name": "EdgeModel",
      "state": {
       "_model_module_version": "^1.3.3",
       "_view_module_version": "^1.3.3",
       "classes": " directed ",
       "data": {
        "id": "5946551c-d0cc-4729-9105-1c8a8aad5385",
        "source": "2200123212753603319",
        "target": "-1648361962754339320"
       },
       "selectable": false
      }
     },
     "61243f22227441808f8c7ee6fef90043": {
      "model_module": "jupyter-cytoscape",
      "model_module_version": "^1.3.3",
      "model_name": "NodeModel",
      "state": {
       "_model_module_version": "^1.3.3",
       "_view_module_version": "^1.3.3",
       "data": {
        "color": "gray",
        "id": "5173157996983750842",
        "label": "(0, 0, 0)",
        "shape": "rectangle"
       },
       "grabbable": true,
       "grabbed": false,
       "position": {
        "x": 412.75,
        "y": 755
       },
       "selectable": false
      }
     },
     "61b28112552c4bb4800c46d36746ac34": {
      "model_module": "jupyter-cytoscape",
      "model_module_version": "^1.3.3",
      "model_name": "EdgeModel",
      "state": {
       "_model_module_version": "^1.3.3",
       "_view_module_version": "^1.3.3",
       "classes": " directed ",
       "data": {
        "id": "bc530197-232b-4d2b-9402-203e0ddf3d65",
        "source": "-6796483773692113087",
        "target": "5913611167721914870"
       },
       "selectable": false
      }
     },
     "61d50382d3964d66953f654d5526f773": {
      "model_module": "jupyter-cytoscape",
      "model_module_version": "^1.3.3",
      "model_name": "EdgeModel",
      "state": {
       "_model_module_version": "^1.3.3",
       "_view_module_version": "^1.3.3",
       "classes": " directed ",
       "data": {
        "id": "f869e1cc-967e-4c73-96e3-0c4e8d200e7c",
        "source": "5116571362500262984",
        "target": "8930107111954063677"
       },
       "selectable": false
      }
     },
     "637b2798286646dabd33ce14a5c0982d": {
      "model_module": "jupyter-cytoscape",
      "model_module_version": "^1.3.3",
      "model_name": "NodeModel",
      "state": {
       "_model_module_version": "^1.3.3",
       "_view_module_version": "^1.3.3",
       "data": {
        "color": "gray",
        "id": "8930107111954063677",
        "label": "2",
        "shape": "rectangle"
       },
       "grabbable": true,
       "grabbed": false,
       "position": {
        "x": 729,
        "y": 1715
       },
       "selectable": false
      }
     },
     "64053bddaa65486d9576a4cc495b2435": {
      "model_module": "jupyter-cytoscape",
      "model_module_version": "^1.3.3",
      "model_name": "EdgeModel",
      "state": {
       "_model_module_version": "^1.3.3",
       "_view_module_version": "^1.3.3",
       "classes": " directed ",
       "data": {
        "id": "71c0430a-6d3e-430e-a5bb-1b25e3be6a46",
        "source": "6820823738836433380",
        "target": "-7310603977497333709"
       },
       "selectable": false
      }
     },
     "665df28cbbc4483b9b8db18fc1362b6f": {
      "model_module": "jupyter-cytoscape",
      "model_module_version": "^1.3.3",
      "model_name": "NodeModel",
      "state": {
       "_model_module_version": "^1.3.3",
       "_view_module_version": "^1.3.3",
       "data": {
        "color": "gray",
        "id": "-2342049904412802010",
        "label": "apply_transform",
        "shape": "ellipse"
       },
       "grabbable": true,
       "grabbed": false,
       "position": {
        "x": 930,
        "y": 395
       },
       "selectable": false
      }
     },
     "66c1b7658db148f7b44c8e562983c31d": {
      "model_module": "jupyter-cytoscape",
      "model_module_version": "^1.3.3",
      "model_name": "NodeModel",
      "state": {
       "_model_module_version": "^1.3.3",
       "_view_module_version": "^1.3.3",
       "data": {
        "color": "gray",
        "id": "-3593708525088951428",
        "label": "(0, 0)",
        "shape": "rectangle"
       },
       "grabbable": true,
       "grabbed": false,
       "position": {
        "x": 516.5,
        "y": 515
       },
       "selectable": false
      }
     },
     "680fde01af4a4411b4827ed65400d4f8": {
      "model_module": "jupyter-cytoscape",
      "model_module_version": "^1.3.3",
      "model_name": "EdgeModel",
      "state": {
       "_model_module_version": "^1.3.3",
       "_view_module_version": "^1.3.3",
       "classes": " directed ",
       "data": {
        "id": "5f8b8bb1-b993-4c8a-b44a-7bfa5cb9028f",
        "source": "-4879822329518210859",
        "target": "1658173419409573162"
       },
       "selectable": false
      }
     },
     "68d1ae254f734781b2cf7fd7d5a11495": {
      "model_module": "jupyter-cytoscape",
      "model_module_version": "^1.3.3",
      "model_name": "EdgeModel",
      "state": {
       "_model_module_version": "^1.3.3",
       "_view_module_version": "^1.3.3",
       "classes": " directed ",
       "data": {
        "id": "0561c53a-bc1a-46d0-9957-c4bc534c92d7",
        "source": "-6985433469959104574",
        "target": "-7535929885956994589"
       },
       "selectable": false
      }
     },
     "691ed10df23346bca47febe2cfac3570": {
      "model_module": "jupyter-cytoscape",
      "model_module_version": "^1.3.3",
      "model_name": "NodeModel",
      "state": {
       "_model_module_version": "^1.3.3",
       "_view_module_version": "^1.3.3",
       "data": {
        "color": "gray",
        "id": "5913611167721914870",
        "label": "()",
        "shape": "rectangle"
       },
       "grabbable": true,
       "grabbed": false,
       "position": {
        "x": 516.5,
        "y": 755
       },
       "selectable": false
      }
     },
     "6ad9a93922114fc5970bba10e505223c": {
      "model_module": "jupyter-cytoscape",
      "model_module_version": "^1.3.3",
      "model_name": "NodeModel",
      "state": {
       "_model_module_version": "^1.3.3",
       "_view_module_version": "^1.3.3",
       "data": {
        "color": "gray",
        "id": "-8298368627976420273",
        "label": "getitem",
        "shape": "ellipse"
       },
       "grabbable": true,
       "grabbed": false,
       "position": {
        "x": 98,
        "y": 1115
       },
       "selectable": false
      }
     },
     "6e051b814cac4539bd199ddeb9b757e8": {
      "model_module": "jupyter-cytoscape",
      "model_module_version": "^1.3.3",
      "model_name": "EdgeModel",
      "state": {
       "_model_module_version": "^1.3.3",
       "_view_module_version": "^1.3.3",
       "classes": " directed ",
       "data": {
        "id": "8ccb60d4-0af2-44e0-b1a6-39ce2f8099d4",
        "source": "5116571362500262984",
        "target": "8930107111954063677"
       },
       "selectable": false
      }
     },
     "72259ca8d36742cea832bf0117a82442": {
      "model_module": "jupyter-cytoscape",
      "model_module_version": "^1.3.3",
      "model_name": "NodeModel",
      "state": {
       "_model_module_version": "^1.3.3",
       "_view_module_version": "^1.3.3",
       "data": {
        "color": "gray",
        "id": "-7521909501782290201",
        "label": "",
        "shape": "rectangle"
       },
       "grabbable": true,
       "grabbed": false,
       "position": {
        "x": 304,
        "y": 1955
       },
       "selectable": false
      }
     },
     "7376180cd6464f9a83f949ce9a2d2ec8": {
      "model_module": "jupyter-cytoscape",
      "model_module_version": "^1.3.3",
      "model_name": "EdgeModel",
      "state": {
       "_model_module_version": "^1.3.3",
       "_view_module_version": "^1.3.3",
       "classes": " directed ",
       "data": {
        "id": "39bd04f5-9e06-49e0-9ce9-3d03278b1e57",
        "source": "-8827835913014507489",
        "target": "-6732846305900421870"
       },
       "selectable": false
      }
     },
     "747c920037794997a1a37722a1376d75": {
      "model_module": "jupyter-cytoscape",
      "model_module_version": "^1.3.3",
      "model_name": "EdgeModel",
      "state": {
       "_model_module_version": "^1.3.3",
       "_view_module_version": "^1.3.3",
       "classes": " directed ",
       "data": {
        "id": "febf51dc-ae0f-4378-ac1b-85db5cfb1dbc",
        "source": "2603075591425295929",
        "target": "-3083138079535866035"
       },
       "selectable": false
      }
     },
     "76e6a5fae97542e9a99c7346b863050f": {
      "model_module": "jupyter-cytoscape",
      "model_module_version": "^1.3.3",
      "model_name": "EdgeModel",
      "state": {
       "_model_module_version": "^1.3.3",
       "_view_module_version": "^1.3.3",
       "classes": " directed ",
       "data": {
        "id": "749e504f-dbbf-4a65-bbf0-9e78ee899ac8",
        "source": "4545804275531060540",
        "target": "-7475103573312209962"
       },
       "selectable": false
      }
     },
     "7beb8010a8f64a798ec30dfcbf939f94": {
      "model_module": "jupyter-cytoscape",
      "model_module_version": "^1.3.3",
      "model_name": "NodeModel",
      "state": {
       "_model_module_version": "^1.3.3",
       "_view_module_version": "^1.3.3",
       "data": {
        "color": "gray",
        "id": "-6196465266914034023",
        "label": "",
        "shape": "rectangle"
       },
       "grabbable": true,
       "grabbed": false,
       "position": {
        "x": 935,
        "y": 1955
       },
       "selectable": false
      }
     },
     "7fcc3ad6d0004673aadb967caae7807d": {
      "model_module": "jupyter-cytoscape",
      "model_module_version": "^1.3.3",
      "model_name": "NodeModel",
      "state": {
       "_model_module_version": "^1.3.3",
       "_view_module_version": "^1.3.3",
       "data": {
        "color": "gray",
        "id": "6820823738836433380",
        "label": "1",
        "shape": "rectangle"
       },
       "grabbable": true,
       "grabbed": false,
       "position": {
        "x": 98,
        "y": 1715
       },
       "selectable": false
      }
     },
     "8217183248c24306a93815b2e4fd626f": {
      "model_module": "jupyter-cytoscape",
      "model_module_version": "^1.3.3",
      "model_name": "EdgeModel",
      "state": {
       "_model_module_version": "^1.3.3",
       "_view_module_version": "^1.3.3",
       "classes": " directed ",
       "data": {
        "id": "d5c2cb54-2762-4796-875e-43cfb51d49c6",
        "source": "381978703984849675",
        "target": "8811836834344767488"
       },
       "selectable": false
      }
     },
     "82cb936a061d4b21908e5d72cb6f9a78": {
      "model_module": "jupyter-cytoscape",
      "model_module_version": "^1.3.3",
      "model_name": "NodeModel",
      "state": {
       "_model_module_version": "^1.3.3",
       "_view_module_version": "^1.3.3",
       "data": {
        "color": "gray",
        "id": "-3667003760153278759",
        "label": "mean_chunk",
        "shape": "ellipse"
       },
       "grabbable": true,
       "grabbed": false,
       "position": {
        "x": 729,
        "y": 635
       },
       "selectable": false
      }
     },
     "830c19a5acc64cbab996a3b6ff37f5b6": {
      "model_module": "jupyter-cytoscape",
      "model_module_version": "^1.3.3",
      "model_name": "NodeModel",
      "state": {
       "_model_module_version": "^1.3.3",
       "_view_module_version": "^1.3.3",
       "data": {
        "color": "gray",
        "id": "-4113482814637374724",
        "label": "wrap_with_array",
        "shape": "ellipse"
       },
       "grabbable": true,
       "grabbed": false,
       "position": {
        "x": 304,
        "y": 1115
       },
       "selectable": false
      }
     },
     "84234aba5661452b8a249f57ce68db6a": {
      "model_module": "jupyter-cytoscape",
      "model_module_version": "^1.3.3",
      "model_name": "NodeModel",
      "state": {
       "_model_module_version": "^1.3.3",
       "_view_module_version": "^1.3.3",
       "data": {
        "color": "gray",
        "id": "4559592919312361497",
        "label": "(0, 0)",
        "shape": "rectangle"
       },
       "grabbable": true,
       "grabbed": false,
       "position": {
        "x": 304,
        "y": 1475
       },
       "selectable": false
      }
     },
     "86748082cc6c4375b397355a7c108440": {
      "model_module": "jupyter-cytoscape",
      "model_module_version": "^1.3.3",
      "model_name": "NodeModel",
      "state": {
       "_model_module_version": "^1.3.3",
       "_view_module_version": "^1.3.3",
       "data": {
        "color": "gray",
        "id": "4386842957165667525",
        "label": "abs2",
        "shape": "ellipse"
       },
       "grabbable": true,
       "grabbed": false,
       "position": {
        "x": 412.75,
        "y": 875
       },
       "selectable": false
      }
     },
     "86b486c81e5940f3a9f90a846e3ac0be": {
      "model_module": "jupyter-cytoscape",
      "model_module_version": "^1.3.3",
      "model_name": "NodeModel",
      "state": {
       "_model_module_version": "^1.3.3",
       "_view_module_version": "^1.3.3",
       "data": {
        "color": "gray",
        "id": "-5861860859088581121",
        "label": "apply_transform",
        "shape": "ellipse"
       },
       "grabbable": true,
       "grabbed": false,
       "position": {
        "x": 412.75,
        "y": 1355
       },
       "selectable": false
      }
     },
     "87e6d630a89643fda9565fb6df75fbe4": {
      "model_module": "jupyter-cytoscape",
      "model_module_version": "^1.3.3",
      "model_name": "NodeModel",
      "state": {
       "_model_module_version": "^1.3.3",
       "_view_module_version": "^1.3.3",
       "data": {
        "color": "gray",
        "id": "-6531451423884885681",
        "label": "",
        "shape": "rectangle"
       },
       "grabbable": true,
       "grabbed": false,
       "position": {
        "x": 729,
        "y": 2195
       },
       "selectable": false
      }
     },
     "88459a0780404bab83f0fda557203695": {
      "model_module": "jupyter-cytoscape",
      "model_module_version": "^1.3.3",
      "model_name": "EdgeModel",
      "state": {
       "_model_module_version": "^1.3.3",
       "_view_module_version": "^1.3.3",
       "classes": " directed ",
       "data": {
        "id": "1ce8fd0d-13b1-415f-932c-0a3180a0b57f",
        "source": "-2815456313386763074",
        "target": "2555837921515829398"
       },
       "selectable": false
      }
     },
     "885187ab5bbd4bf7ac8c90e5bd6d4bf7": {
      "model_module": "jupyter-cytoscape",
      "model_module_version": "^1.3.3",
      "model_name": "GraphModel",
      "state": {
       "_adj": {
        "-1162988058898088753": {},
        "-1677512154397951122": {},
        "-2342049904412802010": {},
        "-2591056080245297848": {},
        "-2815456313386763074": {},
        "-3083138079535866035": {},
        "-3314526326687534986": {},
        "-3593708525088951428": {},
        "-4113482814637374724": {},
        "-4189307551585611252": {},
        "-4879822329518210859": {},
        "-5076179833641889531": {},
        "-5861860859088581121": {},
        "-6196465266914034023": {},
        "-6474060349173047760": {},
        "-6531451423884885681": {},
        "-6732846305900421870": {},
        "-6796483773692113087": {},
        "-684227649182574446": {},
        "-6985433469959104574": {},
        "-7310603977497333709": {},
        "-7344073837706355299": {},
        "-7521909501782290201": {},
        "-7535929885956994589": {},
        "-8298368627976420273": {},
        "-8827835913014507489": {},
        "1658173419409573162": {},
        "2065410493791762658": {},
        "2138284708474578092": {},
        "2200123212753603319": {},
        "23348537384176463": {},
        "2555837921515829398": {},
        "2603075591425295929": {},
        "2897811036950413432": {},
        "3216764353020735326": {},
        "3838090120907428870": {},
        "3865486290529386074": {},
        "3994302875326649304": {},
        "4037033082981367311": {},
        "4343630600102015789": {},
        "4559592919312361497": {},
        "5112523144218638577": {},
        "5116571362500262984": {},
        "5913611167721914870": {},
        "6820823738836433380": {},
        "7848625483293829867": {},
        "8930107111954063677": {},
        "9071299937934193216": {}
       },
       "_model_module_version": "^1.3.3",
       "_view_module": "jupyter-cytoscape",
       "_view_module_version": "^1.3.3",
       "edges": [
        "IPY_MODEL_3907b0877e734388997952df473bda94",
        "IPY_MODEL_90eb9aba5a194b0d90b6903186051715",
        "IPY_MODEL_293db1f622354ae2bd9d86defab43142",
        "IPY_MODEL_d1ab4c852ba047208c6c7e18e6f0880e",
        "IPY_MODEL_bdfd6b79a5fd4b93bd0824db135d5d7c",
        "IPY_MODEL_680fde01af4a4411b4827ed65400d4f8",
        "IPY_MODEL_ea34a661b5824a378b2aee967c59d262",
        "IPY_MODEL_ddaa392249a34764b455ebe88262932e",
        "IPY_MODEL_3457b5c0977142cc9eacf720608c1e3f",
        "IPY_MODEL_0224375d275a45a9ae7ae8bc48fcbaf2",
        "IPY_MODEL_3b603b21bec1475cac269d501186b712",
        "IPY_MODEL_1b43ceaf83cb4df39f80c5ad1ae93c1b",
        "IPY_MODEL_b41b35fb65b9464f8d618e3f972d00d5",
        "IPY_MODEL_aaa0f9501aec42549d1b344c83f5f42c",
        "IPY_MODEL_6e051b814cac4539bd199ddeb9b757e8",
        "IPY_MODEL_15c5c31a24994d5b97ac78c59299d014",
        "IPY_MODEL_e82960bde2c244bcb2655587c3550227",
        "IPY_MODEL_eb28d869e12f4a9485d939dcc3443bab",
        "IPY_MODEL_db4875592c1e43628a96298913882880",
        "IPY_MODEL_3a6a617dba7b4574b8ca93310c9aded6",
        "IPY_MODEL_0e205d47f7c1463f8549fe9eb21ef23f",
        "IPY_MODEL_43d7ae03ebca446784875480ede0bc81",
        "IPY_MODEL_e22e8469d6324454956709ea5c4851ac",
        "IPY_MODEL_ae941f03d4a84dcd9cde0a68bbc58529",
        "IPY_MODEL_94a06028f6724335a67f2d6475af9377",
        "IPY_MODEL_b2a02521a1f44fd08b7864c2f6053b9b",
        "IPY_MODEL_1b0af05d8d7c47a0a1e90882ef56f7a9",
        "IPY_MODEL_9243c41d6d6f41cda36de8b0b90f8a12",
        "IPY_MODEL_acf303fb61a94551b82fcfa45c0e42fc",
        "IPY_MODEL_c0aa074b7117477da0846d4369bf9352",
        "IPY_MODEL_2d3b0453e8bd4fbc92df3a672d40326e",
        "IPY_MODEL_d6da9bdf6ea346f2b9458a2bb7a370db",
        "IPY_MODEL_8e7a244e872a4e78bba7f9280b2b3ad6",
        "IPY_MODEL_8c0568eff9b74e58b1daed5b6ae5698c",
        "IPY_MODEL_5e004b5d0e0f46e6a0defe72d0beb5ba",
        "IPY_MODEL_fb54ad3215c9485bb568b12827e48fba",
        "IPY_MODEL_22e130c84eb84bb5857ca256c4ea0fb0",
        "IPY_MODEL_f39f996ecd814cb0bccef645edd6bc68",
        "IPY_MODEL_d9b12111f9c54f9faa444ad208710776",
        "IPY_MODEL_68d1ae254f734781b2cf7fd7d5a11495",
        "IPY_MODEL_96387d74de224b8d8dff632372089609",
        "IPY_MODEL_b80ac13df96045adbd1adfc3f2f7448a",
        "IPY_MODEL_bb2299f7f02d423782d8bb96845ea42e",
        "IPY_MODEL_ee5782b56a2b438eaf0a37aa72c80b50",
        "IPY_MODEL_aface49b09ed4e9ba5377d65eec0a546",
        "IPY_MODEL_f5198c0d561e49258b830a192ac0f8a7",
        "IPY_MODEL_d6e2dd5932a24c9ab065d17211664cea"
       ],
       "nodes": [
        "IPY_MODEL_3a827f6389ac4d1c867afa47b484fc3d",
        "IPY_MODEL_ae9e2fecf1054b43a61f68c93f9da1c0",
        "IPY_MODEL_66c1b7658db148f7b44c8e562983c31d",
        "IPY_MODEL_10b7cb25394c4daf998c690e24330f68",
        "IPY_MODEL_23248211f60d4207bef35a8f6d72403c",
        "IPY_MODEL_445d886fa8274fe387845459577c1636",
        "IPY_MODEL_060846b316704aa5bd04f683952aef86",
        "IPY_MODEL_f3ee88337c9d455e9f398d20bbe22b40",
        "IPY_MODEL_192c2d5d9ce048b2adc488d73637c781",
        "IPY_MODEL_fc7918cfcdba4558906f5692ab11ef72",
        "IPY_MODEL_665df28cbbc4483b9b8db18fc1362b6f",
        "IPY_MODEL_24639027cfc14a43b1a3244058fbe884",
        "IPY_MODEL_e86dd3f1468e4cd38994ac1eb1ea85a0",
        "IPY_MODEL_9d70dfbfe0da436591e343c6a40834f9",
        "IPY_MODEL_ae6831840ad54886809f3fc4a38cd621",
        "IPY_MODEL_ebc4e8a4e6784ee59f14222535ca22ff",
        "IPY_MODEL_b61c286de9c244ba922a1924bf7743fc",
        "IPY_MODEL_0a33faeacb3048e295b0aa79d53976a3",
        "IPY_MODEL_f19173140fdf404d93fc823e053ce753",
        "IPY_MODEL_3ece56da653c405d8aa0bdf2cd54ea3c",
        "IPY_MODEL_d6e25c0d95d9436db4cf7632ab0a8ea7",
        "IPY_MODEL_50c4dc13ea4244ffa32e310acbe70fc1",
        "IPY_MODEL_830c19a5acc64cbab996a3b6ff37f5b6",
        "IPY_MODEL_20477bbb11904f509a9e591b33309391",
        "IPY_MODEL_b7f224227f8c46948c1e1d09989e983b",
        "IPY_MODEL_bec829de8d7a4b8593038208bcaea8fd",
        "IPY_MODEL_fe0694c169bb49469e05f078b6de230a",
        "IPY_MODEL_44a60259790a4196a1304b0ee1e6b7be",
        "IPY_MODEL_9f5cbdfa9db64fe3becf3b6b64697654",
        "IPY_MODEL_dfda567d45a34aa1b4de7f5b687603a5",
        "IPY_MODEL_4a9a09169a2a45d9b9fe5bf7380c771f",
        "IPY_MODEL_a0891c4df82b4af4b5f2db07b819f0f2",
        "IPY_MODEL_ec9a83153403466787b97adad31b4354",
        "IPY_MODEL_e21992e144794c7781b7a91fd8717690",
        "IPY_MODEL_ac5e4f42fe454b58a37274a626be86a7",
        "IPY_MODEL_56dbcf404969442b8c9770376e44dfb3",
        "IPY_MODEL_0e539f77077c49148676d6f7c3545bef",
        "IPY_MODEL_a06316978dbe47b18bf18ac147fffa7e",
        "IPY_MODEL_691ed10df23346bca47febe2cfac3570",
        "IPY_MODEL_54fb2ca17bc0477dbe29e79c7e751fcc",
        "IPY_MODEL_d1eddce2cef74a78836d11e463c2c9ff",
        "IPY_MODEL_13e1d177b0234cd6af72f4530154461f",
        "IPY_MODEL_51261f407cbd401081b02e1e8e1d3752",
        "IPY_MODEL_cf47907112d94e3f8ce64dd179371985",
        "IPY_MODEL_325e10d37c8342c7ad081285317d6686",
        "IPY_MODEL_89a9f0be4d054606be280834922d205f",
        "IPY_MODEL_e3bd936550714fcbaf159354bc4b3252",
        "IPY_MODEL_ab5ce5ee65c54587b9708933c1955685"
       ]
      }
     },
     "88a96a830db24a37ad631d3f8aeb1b3c": {
      "model_module": "jupyter-cytoscape",
      "model_module_version": "^1.3.3",
      "model_name": "NodeModel",
      "state": {
       "_model_module_version": "^1.3.3",
       "_view_module_version": "^1.3.3",
       "data": {
        "color": "gray",
        "id": "9071299937934193216",
        "label": "(3, 0, 0, 0)",
        "shape": "rectangle"
       },
       "grabbable": true,
       "grabbed": false,
       "position": {
        "x": 935,
        "y": 1235
       },
       "selectable": false
      }
     },
     "88d3fe60a1c042fca57604ff0580939d": {
      "model_module": "jupyter-cytoscape",
      "model_module_version": "^1.3.3",
      "model_name": "NodeModel",
      "state": {
       "_model_module_version": "^1.3.3",
       "_view_module_version": "^1.3.3",
       "data": {
        "color": "gray",
        "id": "8858137867545646120",
        "label": "(1, 0, 0)",
        "shape": "rectangle"
       },
       "grabbable": true,
       "grabbed": false,
       "position": {
        "x": 98,
        "y": 515
       },
       "selectable": false
      }
     },
     "88fe60cb64a44650864775fb3eafe1f2": {
      "model_module": "jupyter-cytoscape",
      "model_module_version": "^1.3.3",
      "model_name": "EdgeModel",
      "state": {
       "_model_module_version": "^1.3.3",
       "_view_module_version": "^1.3.3",
       "classes": " directed ",
       "data": {
        "id": "f72431e0-4458-42c6-8254-06e974e1e2a9",
        "source": "-7521909501782290201",
        "target": "-8827835913014507489"
       },
       "selectable": false
      }
     },
     "89a9f0be4d054606be280834922d205f": {
      "model_module": "jupyter-cytoscape",
      "model_module_version": "^1.3.3",
      "model_name": "NodeModel",
      "state": {
       "_model_module_version": "^1.3.3",
       "_view_module_version": "^1.3.3",
       "data": {
        "color": "gray",
        "id": "2200123212753603319",
        "label": "(2, 0, 0)",
        "shape": "rectangle"
       },
       "grabbable": true,
       "grabbed": false,
       "position": {
        "x": 719,
        "y": 35
       },
       "selectable": false
      }
     },
     "89cb2273545d4b07b6570d689c4472cd": {
      "model_module": "jupyter-cytoscape",
      "model_module_version": "^1.3.3",
      "model_name": "NodeModel",
      "state": {
       "_model_module_version": "^1.3.3",
       "_view_module_version": "^1.3.3",
       "data": {
        "color": "gray",
        "id": "3216764353020735326",
        "label": "(2, 0, 0, 0)",
        "shape": "rectangle"
       },
       "grabbable": true,
       "grabbed": false,
       "position": {
        "x": 729,
        "y": 1235
       },
       "selectable": false
      }
     },
     "8b31eb8ef5ff4e25b98abcd49ba0d271": {
      "model_module": "jupyter-cytoscape",
      "model_module_version": "^1.3.3",
      "model_name": "EdgeModel",
      "state": {
       "_model_module_version": "^1.3.3",
       "_view_module_version": "^1.3.3",
       "classes": " directed ",
       "data": {
        "id": "4c828a73-78d0-4441-9694-09f2e7c0c968",
        "source": "-1162988058898088753",
        "target": "-2591056080245297848"
       },
       "selectable": false
      }
     },
     "8ba8674dcec54288bf48c6362ee34bb5": {
      "model_module": "jupyter-cytoscape",
      "model_module_version": "^1.3.3",
      "model_name": "EdgeModel",
      "state": {
       "_model_module_version": "^1.3.3",
       "_view_module_version": "^1.3.3",
       "classes": " directed ",
       "data": {
        "id": "c5389392-e08d-440e-9452-809692ee14ed",
        "source": "4037033082981367311",
        "target": "2065410493791762658"
       },
       "selectable": false
      }
     },
     "8c0568eff9b74e58b1daed5b6ae5698c": {
      "model_module": "jupyter-cytoscape",
      "model_module_version": "^1.3.3",
      "model_name": "EdgeModel",
      "state": {
       "_model_module_version": "^1.3.3",
       "_view_module_version": "^1.3.3",
       "classes": " directed ",
       "data": {
        "id": "c42d4596-8a7a-410f-b2e5-fdb526c76a35",
        "source": "8930107111954063677",
        "target": "2138284708474578092"
       },
       "selectable": false
      }
     },
     "8e7a244e872a4e78bba7f9280b2b3ad6": {
      "model_module": "jupyter-cytoscape",
      "model_module_version": "^1.3.3",
      "model_name": "EdgeModel",
      "state": {
       "_model_module_version": "^1.3.3",
       "_view_module_version": "^1.3.3",
       "classes": " directed ",
       "data": {
        "id": "040968e3-95ab-4e9a-9e5a-5594f8ee8774",
        "source": "2138284708474578092",
        "target": "-6474060349173047760"
       },
       "selectable": false
      }
     },
     "8f06665defcf43628413bf6bc18491ad": {
      "model_module": "jupyter-cytoscape",
      "model_module_version": "^1.3.3",
      "model_name": "EdgeModel",
      "state": {
       "_model_module_version": "^1.3.3",
       "_view_module_version": "^1.3.3",
       "classes": " directed ",
       "data": {
        "id": "2527bfec-7c6a-4107-9cd3-46e67b517d08",
        "source": "8811836834344767488",
        "target": "8858137867545646120"
       },
       "selectable": false
      }
     },
     "8f2d554653d04fa18e675a254120443d": {
      "model_module": "jupyter-cytoscape",
      "model_module_version": "^1.3.3",
      "model_name": "EdgeModel",
      "state": {
       "_model_module_version": "^1.3.3",
       "_view_module_version": "^1.3.3",
       "classes": " directed ",
       "data": {
        "id": "02485c1d-e14c-4a23-817e-77f5eaa72fe6",
        "source": "-3667003760153278759",
        "target": "8021529477702927584"
       },
       "selectable": false
      }
     },
     "8f37b9f0174547808b3b849ed2e4156c": {
      "model_module": "jupyter-cytoscape",
      "model_module_version": "^1.3.3",
      "model_name": "NodeModel",
      "state": {
       "_model_module_version": "^1.3.3",
       "_view_module_version": "^1.3.3",
       "data": {
        "color": "gray",
        "id": "2636828699620805333",
        "label": "(2, 0, 0)",
        "shape": "rectangle"
       },
       "grabbable": true,
       "grabbed": false,
       "position": {
        "x": 729,
        "y": 755
       },
       "selectable": false
      }
     },
     "90104be59d76429287ea608701d475ee": {
      "model_module": "jupyter-cytoscape",
      "model_module_version": "^1.3.3",
      "model_name": "EdgeModel",
      "state": {
       "_model_module_version": "^1.3.3",
       "_view_module_version": "^1.3.3",
       "classes": " directed ",
       "data": {
        "id": "46570a97-babd-4d52-b45a-4191ab853732",
        "source": "7378857194019156031",
        "target": "3174104662205318362"
       },
       "selectable": false
      }
     },
     "90eb9aba5a194b0d90b6903186051715": {
      "model_module": "jupyter-cytoscape",
      "model_module_version": "^1.3.3",
      "model_name": "EdgeModel",
      "state": {
       "_model_module_version": "^1.3.3",
       "_view_module_version": "^1.3.3",
       "classes": " directed ",
       "data": {
        "id": "6d4f8e6f-d024-4c01-ac91-5412616f5b40",
        "source": "4559592919312361497",
        "target": "-5861860859088581121"
       },
       "selectable": false
      }
     },
     "913d13d80a2d4611af3b4d61ef4ea131": {
      "model_module": "jupyter-cytoscape",
      "model_module_version": "^1.3.3",
      "model_name": "EdgeModel",
      "state": {
       "_model_module_version": "^1.3.3",
       "_view_module_version": "^1.3.3",
       "classes": " directed ",
       "data": {
        "id": "86af0c48-638e-4fec-a678-4370a6c3708f",
        "source": "-1648361962754339320",
        "target": "2636828699620805333"
       },
       "selectable": false
      }
     },
     "9243c41d6d6f41cda36de8b0b90f8a12": {
      "model_module": "jupyter-cytoscape",
      "model_module_version": "^1.3.3",
      "model_name": "EdgeModel",
      "state": {
       "_model_module_version": "^1.3.3",
       "_view_module_version": "^1.3.3",
       "classes": " directed ",
       "data": {
        "id": "b3f338b5-6a7b-4d1e-9a37-064486a7d44a",
        "source": "-6196465266914034023",
        "target": "-3314526326687534986"
       },
       "selectable": false
      }
     },
     "92d5e5e1f0464ab8a5909f6ca4850ec8": {
      "model_module": "jupyter-cytoscape",
      "model_module_version": "^1.3.3",
      "model_name": "EdgeModel",
      "state": {
       "_model_module_version": "^1.3.3",
       "_view_module_version": "^1.3.3",
       "classes": " directed ",
       "data": {
        "id": "9b98ae2d-3988-4d50-8fc7-94ee891bed93",
        "source": "-3987552335221504767",
        "target": "381978703984849675"
       },
       "selectable": false
      }
     },
     "94a06028f6724335a67f2d6475af9377": {
      "model_module": "jupyter-cytoscape",
      "model_module_version": "^1.3.3",
      "model_name": "EdgeModel",
      "state": {
       "_model_module_version": "^1.3.3",
       "_view_module_version": "^1.3.3",
       "classes": " directed ",
       "data": {
        "id": "9b0c6823-9884-4fe4-ba97-8755df699f07",
        "source": "2555837921515829398",
        "target": "5116571362500262984"
       },
       "selectable": false
      }
     },
     "96387d74de224b8d8dff632372089609": {
      "model_module": "jupyter-cytoscape",
      "model_module_version": "^1.3.3",
      "model_name": "EdgeModel",
      "state": {
       "_model_module_version": "^1.3.3",
       "_view_module_version": "^1.3.3",
       "classes": " directed ",
       "data": {
        "id": "00c3df6e-2d4d-41f4-92b2-dcf526565b40",
        "source": "-684227649182574446",
        "target": "-6985433469959104574"
       },
       "selectable": false
      }
     },
     "9657205677c848a48684b8ecd8fc8df6": {
      "model_module": "jupyter-cytoscape",
      "model_module_version": "^1.3.3",
      "model_name": "NodeModel",
      "state": {
       "_model_module_version": "^1.3.3",
       "_view_module_version": "^1.3.3",
       "data": {
        "color": "gray",
        "id": "-3083138079535866035",
        "label": "wrap_with_array",
        "shape": "ellipse"
       },
       "grabbable": true,
       "grabbed": false,
       "position": {
        "x": 304,
        "y": 2075
       },
       "selectable": false
      }
     },
     "98db46f0148b464382f02121325fc253": {
      "model_module": "jupyter-cytoscape",
      "model_module_version": "^1.3.3",
      "model_name": "EdgeModel",
      "state": {
       "_model_module_version": "^1.3.3",
       "_view_module_version": "^1.3.3",
       "classes": " directed ",
       "data": {
        "id": "7dfb7f86-176e-45c8-9893-8c05ee28c32b",
        "source": "-6474060349173047760",
        "target": "23348537384176463"
       },
       "selectable": false
      }
     },
     "9abf2950d59f4bf8b6d13415405973eb": {
      "model_module": "jupyter-cytoscape",
      "model_module_version": "^1.3.3",
      "model_name": "NodeModel",
      "state": {
       "_model_module_version": "^1.3.3",
       "_view_module_version": "^1.3.3",
       "data": {
        "color": "gray",
        "id": "2200123212753603319",
        "label": "(2, 0, 0)",
        "shape": "rectangle"
       },
       "grabbable": true,
       "grabbed": false,
       "position": {
        "x": 729,
        "y": 995
       },
       "selectable": false
      }
     },
     "9c4863522bd34565aeb842ad932120fe": {
      "model_module": "jupyter-cytoscape",
      "model_module_version": "^1.3.3",
      "model_name": "NodeModel",
      "state": {
       "_model_module_version": "^1.3.3",
       "_view_module_version": "^1.3.3",
       "data": {
        "color": "gray",
        "id": "-5076179833641889531",
        "label": "0",
        "shape": "rectangle"
       },
       "grabbable": true,
       "grabbed": false,
       "position": {
        "x": 98,
        "y": 1835
       },
       "selectable": false
      }
     },
     "9ce4d0a63d274dfa9d59b28322f4dc2a": {
      "model_module": "jupyter-cytoscape",
      "model_module_version": "^1.3.3",
      "model_name": "EdgeModel",
      "state": {
       "_model_module_version": "^1.3.3",
       "_view_module_version": "^1.3.3",
       "classes": " directed ",
       "data": {
        "id": "d33d388b-5510-4f6e-bda2-8b13e3a9afef",
        "source": "-1677512154397951122",
        "target": "4559592919312361497"
       },
       "selectable": false
      }
     },
     "9d70dfbfe0da436591e343c6a40834f9": {
      "model_module": "jupyter-cytoscape",
      "model_module_version": "^1.3.3",
      "model_name": "NodeModel",
      "state": {
       "_model_module_version": "^1.3.3",
       "_view_module_version": "^1.3.3",
       "data": {
        "color": "gray",
        "id": "-6732846305900421870",
        "label": "0",
        "shape": "rectangle"
       },
       "grabbable": true,
       "grabbed": false,
       "position": {
        "x": 98,
        "y": 755
       },
       "selectable": false
      }
     },
     "9e09d6acc68e4014a58e69cef90d4e45": {
      "model_module": "jupyter-cytoscape",
      "model_module_version": "^1.3.3",
      "model_name": "EdgeModel",
      "state": {
       "_model_module_version": "^1.3.3",
       "_view_module_version": "^1.3.3",
       "classes": " directed ",
       "data": {
        "id": "3ce98f5d-ff9d-45ed-963e-5aba3f5a32dd",
        "source": "-3083138079535866035",
        "target": "-7521909501782290201"
       },
       "selectable": false
      }
     },
     "9f43e830ce3c4a21a610676d25b3f934": {
      "model_module": "jupyter-cytoscape",
      "model_module_version": "^1.3.3",
      "model_name": "NodeModel",
      "state": {
       "_model_module_version": "^1.3.3",
       "_view_module_version": "^1.3.3",
       "data": {
        "color": "gray",
        "id": "7848625483293829867",
        "label": "",
        "shape": "rectangle"
       },
       "grabbable": true,
       "grabbed": false,
       "position": {
        "x": 935,
        "y": 2195
       },
       "selectable": false
      }
     },
     "9f5cbdfa9db64fe3becf3b6b64697654": {
      "model_module": "jupyter-cytoscape",
      "model_module_version": "^1.3.3",
      "model_name": "NodeModel",
      "state": {
       "_model_module_version": "^1.3.3",
       "_view_module_version": "^1.3.3",
       "data": {
        "color": "gray",
        "id": "5116571362500262984",
        "label": "0",
        "shape": "rectangle"
       },
       "grabbable": true,
       "grabbed": false,
       "position": {
        "x": 724,
        "y": 875
       },
       "selectable": false
      }
     },
     "a005c5072bca461dbe5030be2cc1485d": {
      "model_module": "jupyter-cytoscape",
      "model_module_version": "^1.3.3",
      "model_name": "NodeModel",
      "state": {
       "_model_module_version": "^1.3.3",
       "_view_module_version": "^1.3.3",
       "data": {
        "color": "gray",
        "id": "4343630600102015789",
        "label": "(1, 0, 0)",
        "shape": "rectangle"
       },
       "grabbable": true,
       "grabbed": false,
       "position": {
        "x": 98,
        "y": 995
       },
       "selectable": false
      }
     },
     "a06316978dbe47b18bf18ac147fffa7e": {
      "model_module": "jupyter-cytoscape",
      "model_module_version": "^1.3.3",
      "model_name": "NodeModel",
      "state": {
       "_model_module_version": "^1.3.3",
       "_view_module_version": "^1.3.3",
       "data": {
        "color": "gray",
        "id": "-6796483773692113087",
        "label": "from_partitioned_args_func",
        "shape": "ellipse"
       },
       "grabbable": true,
       "grabbed": false,
       "position": {
        "x": 516.5,
        "y": 875
       },
       "selectable": false
      }
     },
     "a0891c4df82b4af4b5f2db07b819f0f2": {
      "model_module": "jupyter-cytoscape",
      "model_module_version": "^1.3.3",
      "model_name": "NodeModel",
      "state": {
       "_model_module_version": "^1.3.3",
       "_view_module_version": "^1.3.3",
       "data": {
        "color": "gray",
        "id": "-6196465266914034023",
        "label": "",
        "shape": "rectangle"
       },
       "grabbable": true,
       "grabbed": false,
       "position": {
        "x": 930,
        "y": 995
       },
       "selectable": false
      }
     },
     "a2ff1a5a54504070a9d23387e73ddf85": {
      "model_module": "jupyter-cytoscape",
      "model_module_version": "^1.3.3",
      "model_name": "EdgeModel",
      "state": {
       "_model_module_version": "^1.3.3",
       "_view_module_version": "^1.3.3",
       "classes": " directed ",
       "data": {
        "id": "cb73144e-9a32-4aed-a8fa-fb0a02b9d1e7",
        "source": "-230404921456622981",
        "target": "4545804275531060540"
       },
       "selectable": false
      }
     },
     "a370f09eacb14c8eac14d08ca9c81862": {
      "model_module": "jupyter-cytoscape",
      "model_module_version": "^1.3.3",
      "model_name": "EdgeModel",
      "state": {
       "_model_module_version": "^1.3.3",
       "_view_module_version": "^1.3.3",
       "classes": " directed ",
       "data": {
        "id": "2396bfa8-c6ed-4b77-b1e9-3092df64078e",
        "source": "-6985433469959104574",
        "target": "-7535929885956994589"
       },
       "selectable": false
      }
     },
     "a3e8b9b67761495e9b4f689314a811b9": {
      "model_module": "jupyter-cytoscape",
      "model_module_version": "^1.3.3",
      "model_name": "NodeModel",
      "state": {
       "_model_module_version": "^1.3.3",
       "_view_module_version": "^1.3.3",
       "data": {
        "color": "gray",
        "id": "-4189307551585611252",
        "label": "getitem",
        "shape": "ellipse"
       },
       "grabbable": true,
       "grabbed": false,
       "position": {
        "x": 729,
        "y": 1115
       },
       "selectable": false
      }
     },
     "a858029fb12d4bb598a7853c19e37918": {
      "model_module": "jupyter-cytoscape",
      "model_module_version": "^1.3.3",
      "model_name": "NodeModel",
      "state": {
       "_model_module_version": "^1.3.3",
       "_view_module_version": "^1.3.3",
       "data": {
        "color": "gray",
        "id": "-7535929885956994589",
        "label": "(0, 0, 0)",
        "shape": "rectangle"
       },
       "grabbable": true,
       "grabbed": false,
       "position": {
        "x": 412.75,
        "y": 995
       },
       "selectable": false
      }
     },
     "a93e3558330344459c998846ee2d880b": {
      "model_module": "jupyter-cytoscape",
      "model_module_version": "^1.3.3",
      "model_name": "NodeModel",
      "state": {
       "_model_module_version": "^1.3.3",
       "_view_module_version": "^1.3.3",
       "data": {
        "color": "gray",
        "id": "8021529477702927584",
        "label": "(2, 0, 0)",
        "shape": "rectangle"
       },
       "grabbable": true,
       "grabbed": false,
       "position": {
        "x": 729,
        "y": 515
       },
       "selectable": false
      }
     },
     "aaa0f9501aec42549d1b344c83f5f42c": {
      "model_module": "jupyter-cytoscape",
      "model_module_version": "^1.3.3",
      "model_name": "EdgeModel",
      "state": {
       "_model_module_version": "^1.3.3",
       "_view_module_version": "^1.3.3",
       "classes": " directed ",
       "data": {
        "id": "64d6aeb8-8818-492e-a88b-897575f10699",
        "source": "-5076179833641889531",
        "target": "6820823738836433380"
       },
       "selectable": false
      }
     },
     "ab5ce5ee65c54587b9708933c1955685": {
      "model_module": "jupyter-cytoscape",
      "model_module_version": "^1.3.3",
      "model_name": "NodeModel",
      "state": {
       "_model_module_version": "^1.3.3",
       "_view_module_version": "^1.3.3",
       "data": {
        "color": "gray",
        "id": "-2591056080245297848",
        "label": "(3, 0, 0)",
        "shape": "rectangle"
       },
       "grabbable": true,
       "grabbed": false,
       "position": {
        "x": 930,
        "y": 35
       },
       "selectable": false
      }
     },
     "ac5e4f42fe454b58a37274a626be86a7": {
      "model_module": "jupyter-cytoscape",
      "model_module_version": "^1.3.3",
      "model_name": "NodeModel",
      "state": {
       "_model_module_version": "^1.3.3",
       "_view_module_version": "^1.3.3",
       "data": {
        "color": "gray",
        "id": "-7310603977497333709",
        "label": "getitem",
        "shape": "ellipse"
       },
       "grabbable": true,
       "grabbed": false,
       "position": {
        "x": 304,
        "y": 635
       },
       "selectable": false
      }
     },
     "acf303fb61a94551b82fcfa45c0e42fc": {
      "model_module": "jupyter-cytoscape",
      "model_module_version": "^1.3.3",
      "model_name": "EdgeModel",
      "state": {
       "_model_module_version": "^1.3.3",
       "_view_module_version": "^1.3.3",
       "classes": " directed ",
       "data": {
        "id": "98365d6c-6c48-4069-ab32-a7d559325cb3",
        "source": "-1677512154397951122",
        "target": "4559592919312361497"
       },
       "selectable": false
      }
     },
     "ae6831840ad54886809f3fc4a38cd621": {
      "model_module": "jupyter-cytoscape",
      "model_module_version": "^1.3.3",
      "model_name": "NodeModel",
      "state": {
       "_model_module_version": "^1.3.3",
       "_view_module_version": "^1.3.3",
       "data": {
        "color": "gray",
        "id": "6820823738836433380",
        "label": "1",
        "shape": "rectangle"
       },
       "grabbable": true,
       "grabbed": false,
       "position": {
        "x": 304,
        "y": 755
       },
       "selectable": false
      }
     },
     "ae941f03d4a84dcd9cde0a68bbc58529": {
      "model_module": "jupyter-cytoscape",
      "model_module_version": "^1.3.3",
      "model_name": "EdgeModel",
      "state": {
       "_model_module_version": "^1.3.3",
       "_view_module_version": "^1.3.3",
       "classes": " directed ",
       "data": {
        "id": "1d01e8e8-2287-4a7f-9a6d-13a6194e6726",
        "source": "-6531451423884885681",
        "target": "-2815456313386763074"
       },
       "selectable": false
      }
     },
     "ae9e2fecf1054b43a61f68c93f9da1c0": {
      "model_module": "jupyter-cytoscape",
      "model_module_version": "^1.3.3",
      "model_name": "NodeModel",
      "state": {
       "_model_module_version": "^1.3.3",
       "_view_module_version": "^1.3.3",
       "data": {
        "color": "gray",
        "id": "4559592919312361497",
        "label": "(0, 0)",
        "shape": "rectangle"
       },
       "grabbable": true,
       "grabbed": false,
       "position": {
        "x": 98,
        "y": 515
       },
       "selectable": false
      }
     },
     "af069268d9794688b7e759d2f54786a5": {
      "model_module": "@jupyter-widgets/base",
      "model_module_version": "2.0.0",
      "model_name": "LayoutModel",
      "state": {
       "height": "400px"
      }
     },
     "aface49b09ed4e9ba5377d65eec0a546": {
      "model_module": "jupyter-cytoscape",
      "model_module_version": "^1.3.3",
      "model_name": "EdgeModel",
      "state": {
       "_model_module_version": "^1.3.3",
       "_view_module_version": "^1.3.3",
       "classes": " directed ",
       "data": {
        "id": "99e2f1a4-0be6-484a-bc5d-3f24f92764bc",
        "source": "3216764353020735326",
        "target": "-4189307551585611252"
       },
       "selectable": false
      }
     },
     "b04fba04ced6424fb631581b5b4d700f": {
      "model_module": "jupyter-cytoscape",
      "model_module_version": "^1.3.3",
      "model_name": "NodeModel",
      "state": {
       "_model_module_version": "^1.3.3",
       "_view_module_version": "^1.3.3",
       "data": {
        "color": "gray",
        "id": "5116571362500262984",
        "label": "0",
        "shape": "rectangle"
       },
       "grabbable": true,
       "grabbed": false,
       "position": {
        "x": 729,
        "y": 1835
       },
       "selectable": false
      }
     },
     "b05f7235db1f4414b4d7ac2553ef15ac": {
      "model_module": "jupyter-cytoscape",
      "model_module_version": "^1.3.3",
      "model_name": "EdgeModel",
      "state": {
       "_model_module_version": "^1.3.3",
       "_view_module_version": "^1.3.3",
       "classes": " directed ",
       "data": {
        "id": "987f6b37-a91f-4719-a95b-10242b5761a7",
        "source": "2138284708474578092",
        "target": "-6474060349173047760"
       },
       "selectable": false
      }
     },
     "b0ae0e9df6e54350a8339b1d40fd2749": {
      "model_module": "jupyter-cytoscape",
      "model_module_version": "^1.3.3",
      "model_name": "EdgeModel",
      "state": {
       "_model_module_version": "^1.3.3",
       "_view_module_version": "^1.3.3",
       "classes": " directed ",
       "data": {
        "id": "fe0bb090-df20-4cda-aa34-9a6f8c41a4a9",
        "source": "1658173419409573162",
        "target": "3838090120907428870"
       },
       "selectable": false
      }
     },
     "b179adfe3c774d5d80d4a74277bb5c98": {
      "model_module": "jupyter-cytoscape",
      "model_module_version": "^1.3.3",
      "model_name": "EdgeModel",
      "state": {
       "_model_module_version": "^1.3.3",
       "_view_module_version": "^1.3.3",
       "classes": " directed ",
       "data": {
        "id": "921071ab-9528-43be-be28-ba83243b161a",
        "source": "-7475103573312209962",
        "target": "7378857194019156031"
       },
       "selectable": false
      }
     },
     "b2a02521a1f44fd08b7864c2f6053b9b": {
      "model_module": "jupyter-cytoscape",
      "model_module_version": "^1.3.3",
      "model_name": "EdgeModel",
      "state": {
       "_model_module_version": "^1.3.3",
       "_view_module_version": "^1.3.3",
       "classes": " directed ",
       "data": {
        "id": "242cfcac-b467-42d7-af41-0c998ca481a5",
        "source": "5112523144218638577",
        "target": "-6196465266914034023"
       },
       "selectable": false
      }
     },
     "b407466b402c4000a472379bf4af6cd1": {
      "model_module": "jupyter-cytoscape",
      "model_module_version": "^1.3.3",
      "model_name": "EdgeModel",
      "state": {
       "_model_module_version": "^1.3.3",
       "_view_module_version": "^1.3.3",
       "classes": " directed ",
       "data": {
        "id": "5e684303-5829-48cd-8894-3903a3854131",
        "source": "-6531451423884885681",
        "target": "-2815456313386763074"
       },
       "selectable": false
      }
     },
     "b41b35fb65b9464f8d618e3f972d00d5": {
      "model_module": "jupyter-cytoscape",
      "model_module_version": "^1.3.3",
      "model_name": "EdgeModel",
      "state": {
       "_model_module_version": "^1.3.3",
       "_view_module_version": "^1.3.3",
       "classes": " directed ",
       "data": {
        "id": "74b97be6-83f7-4fe4-972f-a95f6f374e2c",
        "source": "-8827835913014507489",
        "target": "-6732846305900421870"
       },
       "selectable": false
      }
     },
     "b5c80ae867954c9dbc5245f985a2ecb5": {
      "model_module": "jupyter-cytoscape",
      "model_module_version": "^1.3.3",
      "model_name": "EdgeModel",
      "state": {
       "_model_module_version": "^1.3.3",
       "_view_module_version": "^1.3.3",
       "classes": " directed ",
       "data": {
        "id": "51b68a61-edda-4e8c-b5d3-5abc2768acf8",
        "source": "2555837921515829398",
        "target": "5116571362500262984"
       },
       "selectable": false
      }
     },
     "b61c286de9c244ba922a1924bf7743fc": {
      "model_module": "jupyter-cytoscape",
      "model_module_version": "^1.3.3",
      "model_name": "NodeModel",
      "state": {
       "_model_module_version": "^1.3.3",
       "_view_module_version": "^1.3.3",
       "data": {
        "color": "gray",
        "id": "4037033082981367311",
        "label": "3",
        "shape": "rectangle"
       },
       "grabbable": true,
       "grabbed": false,
       "position": {
        "x": 930,
        "y": 755
       },
       "selectable": false
      }
     },
     "b64c8dc9f0874ba9aa642814e6b8d383": {
      "model_module": "jupyter-cytoscape",
      "model_module_version": "^1.3.3",
      "model_name": "EdgeModel",
      "state": {
       "_model_module_version": "^1.3.3",
       "_view_module_version": "^1.3.3",
       "classes": " directed ",
       "data": {
        "id": "8f1d1127-3cd7-41b5-92bb-b6e479294d3c",
        "source": "5112523144218638577",
        "target": "-6196465266914034023"
       },
       "selectable": false
      }
     },
     "b7f224227f8c46948c1e1d09989e983b": {
      "model_module": "jupyter-cytoscape",
      "model_module_version": "^1.3.3",
      "model_name": "NodeModel",
      "state": {
       "_model_module_version": "^1.3.3",
       "_view_module_version": "^1.3.3",
       "data": {
        "color": "gray",
        "id": "-5076179833641889531",
        "label": "0",
        "shape": "rectangle"
       },
       "grabbable": true,
       "grabbed": false,
       "position": {
        "x": 304,
        "y": 875
       },
       "selectable": false
      }
     },
     "b80ac13df96045adbd1adfc3f2f7448a": {
      "model_module": "jupyter-cytoscape",
      "model_module_version": "^1.3.3",
      "model_name": "EdgeModel",
      "state": {
       "_model_module_version": "^1.3.3",
       "_view_module_version": "^1.3.3",
       "classes": " directed ",
       "data": {
        "id": "c5b6d952-6a74-4101-8b25-45ada1af2214",
        "source": "-8298368627976420273",
        "target": "4343630600102015789"
       },
       "selectable": false
      }
     },
     "b94dd4021074491ab65139c1ef7b0528": {
      "model_module": "jupyter-cytoscape",
      "model_module_version": "^1.3.3",
      "model_name": "NodeModel",
      "state": {
       "_model_module_version": "^1.3.3",
       "_view_module_version": "^1.3.3",
       "data": {
        "color": "gray",
        "id": "1658173419409573162",
        "label": "apply_transform",
        "shape": "ellipse"
       },
       "grabbable": true,
       "grabbed": false,
       "position": {
        "x": 98,
        "y": 1355
       },
       "selectable": false
      }
     },
     "bb2299f7f02d423782d8bb96845ea42e": {
      "model_module": "jupyter-cytoscape",
      "model_module_version": "^1.3.3",
      "model_name": "EdgeModel",
      "state": {
       "_model_module_version": "^1.3.3",
       "_view_module_version": "^1.3.3",
       "classes": " directed ",
       "data": {
        "id": "39c75837-008f-47a0-b378-969fcbc6a350",
        "source": "3838090120907428870",
        "target": "-8298368627976420273"
       },
       "selectable": false
      }
     },
     "bc1a30092f2a46ea89954edbb81e18a9": {
      "model_module": "jupyter-cytoscape",
      "model_module_version": "^1.3.3",
      "model_name": "NodeModel",
      "state": {
       "_model_module_version": "^1.3.3",
       "_view_module_version": "^1.3.3",
       "data": {
        "color": "gray",
        "id": "5112523144218638577",
        "label": "wrap_with_array",
        "shape": "ellipse"
       },
       "grabbable": true,
       "grabbed": false,
       "position": {
        "x": 935,
        "y": 2075
       },
       "selectable": false
      }
     },
     "bcd39f9c23b14c4688424089d074cdae": {
      "model_module": "jupyter-cytoscape",
      "model_module_version": "^1.3.3",
      "model_name": "EdgeModel",
      "state": {
       "_model_module_version": "^1.3.3",
       "_view_module_version": "^1.3.3",
       "classes": " directed ",
       "data": {
        "id": "ae35488b-6eb0-4461-ada0-8c93c159577d",
        "source": "3174104662205318362",
        "target": "6861631808981973157"
       },
       "selectable": false
      }
     },
     "bdfd6b79a5fd4b93bd0824db135d5d7c": {
      "model_module": "jupyter-cytoscape",
      "model_module_version": "^1.3.3",
      "model_name": "EdgeModel",
      "state": {
       "_model_module_version": "^1.3.3",
       "_view_module_version": "^1.3.3",
       "classes": " directed ",
       "data": {
        "id": "6af3e8f5-ba88-4e2e-bff7-dacad7b2b648",
        "source": "-3593708525088951428",
        "target": "1658173419409573162"
       },
       "selectable": false
      }
     },
     "bec829de8d7a4b8593038208bcaea8fd": {
      "model_module": "jupyter-cytoscape",
      "model_module_version": "^1.3.3",
      "model_name": "NodeModel",
      "state": {
       "_model_module_version": "^1.3.3",
       "_view_module_version": "^1.3.3",
       "data": {
        "color": "gray",
        "id": "-6531451423884885681",
        "label": "",
        "shape": "rectangle"
       },
       "grabbable": true,
       "grabbed": false,
       "position": {
        "x": 724,
        "y": 1235
       },
       "selectable": false
      }
     },
     "bf75b040106744d4aa5aefb86bb82c3b": {
      "model_module": "jupyter-cytoscape",
      "model_module_version": "^1.3.3",
      "model_name": "NodeModel",
      "state": {
       "_model_module_version": "^1.3.3",
       "_view_module_version": "^1.3.3",
       "data": {
        "color": "gray",
        "id": "-7475103573312209962",
        "label": "mean_combine-partial",
        "shape": "ellipse"
       },
       "grabbable": true,
       "grabbed": false,
       "position": {
        "x": 820.25,
        "y": 395
       },
       "selectable": false
      }
     },
     "c081f9da42a140408f509d3a5ca75d0d": {
      "model_module": "jupyter-cytoscape",
      "model_module_version": "^1.3.3",
      "model_name": "NodeModel",
      "state": {
       "_model_module_version": "^1.3.3",
       "_view_module_version": "^1.3.3",
       "data": {
        "color": "gray",
        "id": "7544172074734438115",
        "label": "(3, 0, 0)",
        "shape": "rectangle"
       },
       "grabbable": true,
       "grabbed": false,
       "position": {
        "x": 935,
        "y": 755
       },
       "selectable": false
      }
     },
     "c0aa074b7117477da0846d4369bf9352": {
      "model_module": "jupyter-cytoscape",
      "model_module_version": "^1.3.3",
      "model_name": "EdgeModel",
      "state": {
       "_model_module_version": "^1.3.3",
       "_view_module_version": "^1.3.3",
       "classes": " directed ",
       "data": {
        "id": "fe8ab213-a4db-4384-a17a-2d917aa60e50",
        "source": "-6732846305900421870",
        "target": "-1677512154397951122"
       },
       "selectable": false
      }
     },
     "c11cf8d59ccc4315908edc87fa1643cd": {
      "model_module": "jupyter-cytoscape",
      "model_module_version": "^1.3.3",
      "model_name": "EdgeModel",
      "state": {
       "_model_module_version": "^1.3.3",
       "_view_module_version": "^1.3.3",
       "classes": " directed ",
       "data": {
        "id": "54d1d844-20fe-4388-be04-519141688038",
        "source": "-8298368627976420273",
        "target": "4343630600102015789"
       },
       "selectable": false
      }
     },
     "c2fe9118e5e446abab52fe40a1b9451f": {
      "model_module": "jupyter-cytoscape",
      "model_module_version": "^1.3.3",
      "model_name": "EdgeModel",
      "state": {
       "_model_module_version": "^1.3.3",
       "_view_module_version": "^1.3.3",
       "classes": " directed ",
       "data": {
        "id": "7fb41833-3aa4-483c-b95d-10273984b134",
        "source": "8858137867545646120",
        "target": "-4144154358512503320"
       },
       "selectable": false
      }
     },
     "c4d9723762ec4201ba2bac98d54c680a": {
      "model_module": "jupyter-cytoscape",
      "model_module_version": "^1.3.3",
      "model_name": "EdgeModel",
      "state": {
       "_model_module_version": "^1.3.3",
       "_view_module_version": "^1.3.3",
       "classes": " directed ",
       "data": {
        "id": "76e8a119-d903-4bf0-b21b-c7e828f70e3b",
        "source": "8021529477702927584",
        "target": "-7475103573312209962"
       },
       "selectable": false
      }
     },
     "c67a1a8a241d4ab88f15c9d64eb69e60": {
      "model_module": "jupyter-cytoscape",
      "model_module_version": "^1.3.3",
      "model_name": "EdgeModel",
      "state": {
       "_model_module_version": "^1.3.3",
       "_view_module_version": "^1.3.3",
       "classes": " directed ",
       "data": {
        "id": "c5dbbce6-564d-436e-bf6f-12c4efaca77f",
        "source": "-3593708525088951428",
        "target": "1658173419409573162"
       },
       "selectable": false
      }
     },
     "c8c67cc014c54dc3b6cb20436d4547d6": {
      "model_module": "jupyter-cytoscape",
      "model_module_version": "^1.3.3",
      "model_name": "EdgeModel",
      "state": {
       "_model_module_version": "^1.3.3",
       "_view_module_version": "^1.3.3",
       "classes": " directed ",
       "data": {
        "id": "d9acf54f-0be5-4b90-b02b-01a73e5b3e3d",
        "source": "3994302875326649304",
        "target": "-5076179833641889531"
       },
       "selectable": false
      }
     },
     "cafc98dce9b6418d8bf563004ed45ccb": {
      "model_module": "jupyter-cytoscape",
      "model_module_version": "^1.3.3",
      "model_name": "NodeModel",
      "state": {
       "_model_module_version": "^1.3.3",
       "_view_module_version": "^1.3.3",
       "data": {
        "color": "gray",
        "id": "-684227649182574446",
        "label": "(0, 0, 0, 0)",
        "shape": "rectangle"
       },
       "grabbable": true,
       "grabbed": false,
       "position": {
        "x": 412.75,
        "y": 1235
       },
       "selectable": false
      }
     },
     "cb5abec7f19242f59f88b9c23bb9df73": {
      "model_module": "jupyter-cytoscape",
      "model_module_version": "^1.3.3",
      "model_name": "EdgeModel",
      "state": {
       "_model_module_version": "^1.3.3",
       "_view_module_version": "^1.3.3",
       "classes": " directed ",
       "data": {
        "id": "506b44ef-831a-4912-9889-396725371c82",
        "source": "-4144154358512503320",
        "target": "5124007198383200373"
       },
       "selectable": false
      }
     },
     "cc00284e5fc9417496097efbbf4db346": {
      "model_module": "jupyter-cytoscape",
      "model_module_version": "^1.3.3",
      "model_name": "NodeModel",
      "state": {
       "_model_module_version": "^1.3.3",
       "_view_module_version": "^1.3.3",
       "data": {
        "color": "gray",
        "id": "-230404921456622981",
        "label": "mean_chunk",
        "shape": "ellipse"
       },
       "grabbable": true,
       "grabbed": false,
       "position": {
        "x": 935,
        "y": 635
       },
       "selectable": false
      }
     },
     "cc67b47364444195ae5d8ee371719afe": {
      "model_module": "jupyter-cytoscape",
      "model_module_version": "^1.3.3",
      "model_name": "NodeModel",
      "state": {
       "_model_module_version": "^1.3.3",
       "_view_module_version": "^1.3.3",
       "data": {
        "color": "gray",
        "id": "7378857194019156031",
        "label": "(1, 0, 0)",
        "shape": "rectangle"
       },
       "grabbable": true,
       "grabbed": false,
       "position": {
        "x": 820.25,
        "y": 275
       },
       "selectable": false
      }
     },
     "cc71ccbb9b724ace9f9c1461aa794d78": {
      "model_module": "jupyter-cytoscape",
      "model_module_version": "^1.3.3",
      "model_name": "NodeModel",
      "state": {
       "_model_module_version": "^1.3.3",
       "_view_module_version": "^1.3.3",
       "data": {
        "color": "gray",
        "id": "-3593708525088951428",
        "label": "(0, 0)",
        "shape": "rectangle"
       },
       "grabbable": true,
       "grabbed": false,
       "position": {
        "x": 516.5,
        "y": 1475
       },
       "selectable": false
      }
     },
     "cc9cb2c7aaaf49a69d3420cb1545f193": {
      "model_module": "jupyter-cytoscape",
      "model_module_version": "^1.3.3",
      "model_name": "EdgeModel",
      "state": {
       "_model_module_version": "^1.3.3",
       "_view_module_version": "^1.3.3",
       "classes": " directed ",
       "data": {
        "id": "eacc4657-1c33-40b5-8397-c236a571fccf",
        "source": "-4189307551585611252",
        "target": "2200123212753603319"
       },
       "selectable": false
      }
     },
     "cef2d3c029334f7b80b9d3dc7242c829": {
      "model_module": "jupyter-cytoscape",
      "model_module_version": "^1.3.3",
      "model_name": "EdgeModel",
      "state": {
       "_model_module_version": "^1.3.3",
       "_view_module_version": "^1.3.3",
       "classes": " directed ",
       "data": {
        "id": "a994f4af-978f-4da5-ad46-28ed758e2201",
        "source": "2897811036950413432",
        "target": "-3593708525088951428"
       },
       "selectable": false
      }
     },
     "cf12431209c54166ae6ce7e3e5f9adc4": {
      "model_module": "jupyter-cytoscape",
      "model_module_version": "^1.3.3",
      "model_name": "EdgeModel",
      "state": {
       "_model_module_version": "^1.3.3",
       "_view_module_version": "^1.3.3",
       "classes": " directed ",
       "data": {
        "id": "b88149b3-bd45-490d-a996-717dbd1e6b0e",
        "source": "-3593708525088951428",
        "target": "-5861860859088581121"
       },
       "selectable": false
      }
     },
     "cf47907112d94e3f8ce64dd179371985": {
      "model_module": "jupyter-cytoscape",
      "model_module_version": "^1.3.3",
      "model_name": "NodeModel",
      "state": {
       "_model_module_version": "^1.3.3",
       "_view_module_version": "^1.3.3",
       "data": {
        "color": "gray",
        "id": "4343630600102015789",
        "label": "(1, 0, 0)",
        "shape": "rectangle"
       },
       "grabbable": true,
       "grabbed": false,
       "position": {
        "x": 314,
        "y": 35
       },
       "selectable": false
      }
     },
     "d025794a2e324372bdd120faf6da8297": {
      "model_module": "jupyter-cytoscape",
      "model_module_version": "^1.3.3",
      "model_name": "EdgeModel",
      "state": {
       "_model_module_version": "^1.3.3",
       "_view_module_version": "^1.3.3",
       "classes": " directed ",
       "data": {
        "id": "5eac80f6-8a61-445b-9586-51f69a4833c0",
        "source": "3838090120907428870",
        "target": "-8298368627976420273"
       },
       "selectable": false
      }
     },
     "d1ab4c852ba047208c6c7e18e6f0880e": {
      "model_module": "jupyter-cytoscape",
      "model_module_version": "^1.3.3",
      "model_name": "EdgeModel",
      "state": {
       "_model_module_version": "^1.3.3",
       "_view_module_version": "^1.3.3",
       "classes": " directed ",
       "data": {
        "id": "c8627840-2bed-4126-8363-873c1b6dcf8e",
        "source": "1658173419409573162",
        "target": "3838090120907428870"
       },
       "selectable": false
      }
     },
     "d1eddce2cef74a78836d11e463c2c9ff": {
      "model_module": "jupyter-cytoscape",
      "model_module_version": "^1.3.3",
      "model_name": "NodeModel",
      "state": {
       "_model_module_version": "^1.3.3",
       "_view_module_version": "^1.3.3",
       "data": {
        "color": "gray",
        "id": "-6985433469959104574",
        "label": "getitem",
        "shape": "ellipse"
       },
       "grabbable": true,
       "grabbed": false,
       "position": {
        "x": 98,
        "y": 155
       },
       "selectable": false
      }
     },
     "d4b6105e7a5e428799aec2d873396d7a": {
      "model_module": "jupyter-cytoscape",
      "model_module_version": "^1.3.3",
      "model_name": "NodeModel",
      "state": {
       "_model_module_version": "^1.3.3",
       "_view_module_version": "^1.3.3",
       "data": {
        "color": "gray",
        "id": "-6985433469959104574",
        "label": "getitem",
        "shape": "ellipse"
       },
       "grabbable": true,
       "grabbed": false,
       "position": {
        "x": 412.75,
        "y": 1115
       },
       "selectable": false
      }
     },
     "d6da9bdf6ea346f2b9458a2bb7a370db": {
      "model_module": "jupyter-cytoscape",
      "model_module_version": "^1.3.3",
      "model_name": "EdgeModel",
      "state": {
       "_model_module_version": "^1.3.3",
       "_view_module_version": "^1.3.3",
       "classes": " directed ",
       "data": {
        "id": "0af5d3fd-093d-4666-9f20-ceec1a9671aa",
        "source": "6820823738836433380",
        "target": "-7310603977497333709"
       },
       "selectable": false
      }
     },
     "d6e25c0d95d9436db4cf7632ab0a8ea7": {
      "model_module": "jupyter-cytoscape",
      "model_module_version": "^1.3.3",
      "model_name": "NodeModel",
      "state": {
       "_model_module_version": "^1.3.3",
       "_view_module_version": "^1.3.3",
       "data": {
        "color": "gray",
        "id": "-8827835913014507489",
        "label": "0",
        "shape": "rectangle"
       },
       "grabbable": true,
       "grabbed": false,
       "position": {
        "x": 98,
        "y": 875
       },
       "selectable": false
      }
     },
     "d6e2dd5932a24c9ab065d17211664cea": {
      "model_module": "jupyter-cytoscape",
      "model_module_version": "^1.3.3",
      "model_name": "EdgeModel",
      "state": {
       "_model_module_version": "^1.3.3",
       "_view_module_version": "^1.3.3",
       "classes": " directed ",
       "data": {
        "id": "314478af-42e4-4860-aa0a-5a3efcce166a",
        "source": "9071299937934193216",
        "target": "-1162988058898088753"
       },
       "selectable": false
      }
     },
     "d9b12111f9c54f9faa444ad208710776": {
      "model_module": "jupyter-cytoscape",
      "model_module_version": "^1.3.3",
      "model_name": "EdgeModel",
      "state": {
       "_model_module_version": "^1.3.3",
       "_view_module_version": "^1.3.3",
       "classes": " directed ",
       "data": {
        "id": "414a77cf-9723-4bf1-83e8-e309daa154d5",
        "source": "5913611167721914870",
        "target": "2897811036950413432"
       },
       "selectable": false
      }
     },
     "db4875592c1e43628a96298913882880": {
      "model_module": "jupyter-cytoscape",
      "model_module_version": "^1.3.3",
      "model_name": "EdgeModel",
      "state": {
       "_model_module_version": "^1.3.3",
       "_view_module_version": "^1.3.3",
       "classes": " directed ",
       "data": {
        "id": "8469f265-db23-4e31-8e28-c143280b4b79",
        "source": "-7521909501782290201",
        "target": "-8827835913014507489"
       },
       "selectable": false
      }
     },
     "dbd5ec5beba74e8eb16a22495950155d": {
      "model_module": "jupyter-cytoscape",
      "model_module_version": "^1.3.3",
      "model_name": "NodeModel",
      "state": {
       "_model_module_version": "^1.3.3",
       "_view_module_version": "^1.3.3",
       "data": {
        "color": "gray",
        "id": "3838090120907428870",
        "label": "(1, 0, 0, 0)",
        "shape": "rectangle"
       },
       "grabbable": true,
       "grabbed": false,
       "position": {
        "x": 98,
        "y": 1235
       },
       "selectable": false
      }
     },
     "dc2ae94ca9104ba3b4edf073ddeae112": {
      "model_module": "jupyter-cytoscape",
      "model_module_version": "^1.3.3",
      "model_name": "NodeModel",
      "state": {
       "_model_module_version": "^1.3.3",
       "_view_module_version": "^1.3.3",
       "data": {
        "color": "gray",
        "id": "5913611167721914870",
        "label": "()",
        "shape": "rectangle"
       },
       "grabbable": true,
       "grabbed": false,
       "position": {
        "x": 516.5,
        "y": 1715
       },
       "selectable": false
      }
     },
     "ddaa392249a34764b455ebe88262932e": {
      "model_module": "jupyter-cytoscape",
      "model_module_version": "^1.3.3",
      "model_name": "EdgeModel",
      "state": {
       "_model_module_version": "^1.3.3",
       "_view_module_version": "^1.3.3",
       "classes": " directed ",
       "data": {
        "id": "c77fccd8-2cac-4bf3-8fdc-7d49ea4fe842",
        "source": "-6474060349173047760",
        "target": "23348537384176463"
       },
       "selectable": false
      }
     },
     "de92aeac67c84d459e62b771508d4c02": {
      "model_module": "jupyter-cytoscape",
      "model_module_version": "^1.3.3",
      "model_name": "NodeModel",
      "state": {
       "_model_module_version": "^1.3.3",
       "_view_module_version": "^1.3.3",
       "data": {
        "color": "gray",
        "id": "-3314526326687534986",
        "label": "0",
        "shape": "rectangle"
       },
       "grabbable": true,
       "grabbed": false,
       "position": {
        "x": 935,
        "y": 1835
       },
       "selectable": false
      }
     },
     "dfda567d45a34aa1b4de7f5b687603a5": {
      "model_module": "jupyter-cytoscape",
      "model_module_version": "^1.3.3",
      "model_name": "NodeModel",
      "state": {
       "_model_module_version": "^1.3.3",
       "_view_module_version": "^1.3.3",
       "data": {
        "color": "gray",
        "id": "7848625483293829867",
        "label": "",
        "shape": "rectangle"
       },
       "grabbable": true,
       "grabbed": false,
       "position": {
        "x": 930,
        "y": 1235
       },
       "selectable": false
      }
     },
     "e1e0930b71be4e5091664dd4944783e7": {
      "model_module": "jupyter-cytoscape",
      "model_module_version": "^1.3.3",
      "model_name": "NodeModel",
      "state": {
       "_model_module_version": "^1.3.3",
       "_view_module_version": "^1.3.3",
       "data": {
        "color": "gray",
        "id": "3174104662205318362",
        "label": "mean_agg-aggregate",
        "shape": "ellipse"
       },
       "grabbable": true,
       "grabbed": false,
       "position": {
        "x": 516.5,
        "y": 155
       },
       "selectable": false
      }
     },
     "e20ec81fbfef42479f8d971b2ce68fd0": {
      "model_module": "jupyter-cytoscape",
      "model_module_version": "^1.3.3",
      "model_name": "GraphModel",
      "state": {
       "_adj": {},
       "_model_module_version": "^1.3.3",
       "_view_module": "jupyter-cytoscape",
       "_view_module_version": "^1.3.3"
      }
     },
     "e21992e144794c7781b7a91fd8717690": {
      "model_module": "jupyter-cytoscape",
      "model_module_version": "^1.3.3",
      "model_name": "NodeModel",
      "state": {
       "_model_module_version": "^1.3.3",
       "_view_module_version": "^1.3.3",
       "data": {
        "color": "gray",
        "id": "-1677512154397951122",
        "label": "getitem",
        "shape": "ellipse"
       },
       "grabbable": true,
       "grabbed": false,
       "position": {
        "x": 98,
        "y": 635
       },
       "selectable": false
      }
     },
     "e22e8469d6324454956709ea5c4851ac": {
      "model_module": "jupyter-cytoscape",
      "model_module_version": "^1.3.3",
      "model_name": "EdgeModel",
      "state": {
       "_model_module_version": "^1.3.3",
       "_view_module_version": "^1.3.3",
       "classes": " directed ",
       "data": {
        "id": "f02a1de5-8129-4a10-b14b-6bdd2a1bb4ff",
        "source": "-2815456313386763074",
        "target": "2555837921515829398"
       },
       "selectable": false
      }
     },
     "e365201b26814f7e83a147c9a3be945f": {
      "model_module": "jupyter-cytoscape",
      "model_module_version": "^1.3.3",
      "model_name": "NodeModel",
      "state": {
       "_model_module_version": "^1.3.3",
       "_view_module_version": "^1.3.3",
       "data": {
        "color": "gray",
        "id": "6861631808981973157",
        "label": "(0, 0)",
        "shape": "rectangle"
       },
       "grabbable": true,
       "grabbed": false,
       "position": {
        "x": 516.5,
        "y": 35
       },
       "selectable": false
      }
     },
     "e3bd936550714fcbaf159354bc4b3252": {
      "model_module": "jupyter-cytoscape",
      "model_module_version": "^1.3.3",
      "model_name": "NodeModel",
      "state": {
       "_model_module_version": "^1.3.3",
       "_view_module_version": "^1.3.3",
       "data": {
        "color": "gray",
        "id": "-1162988058898088753",
        "label": "getitem",
        "shape": "ellipse"
       },
       "grabbable": true,
       "grabbed": false,
       "position": {
        "x": 930,
        "y": 155
       },
       "selectable": false
      }
     },
     "e49f7a0055eb4253bdcd89610e04fc9c": {
      "model_module": "jupyter-cytoscape",
      "model_module_version": "^1.3.3",
      "model_name": "NodeModel",
      "state": {
       "_model_module_version": "^1.3.3",
       "_view_module_version": "^1.3.3",
       "data": {
        "color": "gray",
        "id": "-2815456313386763074",
        "label": "wrap_with_array",
        "shape": "ellipse"
       },
       "grabbable": true,
       "grabbed": false,
       "position": {
        "x": 729,
        "y": 2075
       },
       "selectable": false
      }
     },
     "e51a3670e6704e92b0f19649a58bb7ea": {
      "model_module": "jupyter-cytoscape",
      "model_module_version": "^1.3.3",
      "model_name": "NodeModel",
      "state": {
       "_model_module_version": "^1.3.3",
       "_view_module_version": "^1.3.3",
       "data": {
        "color": "gray",
        "id": "-3987552335221504767",
        "label": "abs2",
        "shape": "ellipse"
       },
       "grabbable": true,
       "grabbed": false,
       "position": {
        "x": 98,
        "y": 875
       },
       "selectable": false
      }
     },
     "e6498399467c4b7ca93635ecfdada44a": {
      "model_module": "jupyter-cytoscape",
      "model_module_version": "^1.3.3",
      "model_name": "EdgeModel",
      "state": {
       "_model_module_version": "^1.3.3",
       "_view_module_version": "^1.3.3",
       "classes": " directed ",
       "data": {
        "id": "a42efddb-4ad5-4712-a848-c51a3883d270",
        "source": "-2342049904412802010",
        "target": "9071299937934193216"
       },
       "selectable": false
      }
     },
     "e82960bde2c244bcb2655587c3550227": {
      "model_module": "jupyter-cytoscape",
      "model_module_version": "^1.3.3",
      "model_name": "EdgeModel",
      "state": {
       "_model_module_version": "^1.3.3",
       "_view_module_version": "^1.3.3",
       "classes": " directed ",
       "data": {
        "id": "70c6328f-76d5-4f4f-a0a0-0dbbe3c3fac7",
        "source": "-3083138079535866035",
        "target": "-7521909501782290201"
       },
       "selectable": false
      }
     },
     "e86dd3f1468e4cd38994ac1eb1ea85a0": {
      "model_module": "jupyter-cytoscape",
      "model_module_version": "^1.3.3",
      "model_name": "NodeModel",
      "state": {
       "_model_module_version": "^1.3.3",
       "_view_module_version": "^1.3.3",
       "data": {
        "color": "gray",
        "id": "9071299937934193216",
        "label": "(3, 0, 0, 0)",
        "shape": "rectangle"
       },
       "grabbable": true,
       "grabbed": false,
       "position": {
        "x": 930,
        "y": 275
       },
       "selectable": false
      }
     },
     "ea34a661b5824a378b2aee967c59d262": {
      "model_module": "jupyter-cytoscape",
      "model_module_version": "^1.3.3",
      "model_name": "EdgeModel",
      "state": {
       "_model_module_version": "^1.3.3",
       "_view_module_version": "^1.3.3",
       "classes": " directed ",
       "data": {
        "id": "bc214095-6c04-4586-a255-097be0e7f823",
        "source": "23348537384176463",
        "target": "3216764353020735326"
       },
       "selectable": false
      }
     },
     "eb28d869e12f4a9485d939dcc3443bab": {
      "model_module": "jupyter-cytoscape",
      "model_module_version": "^1.3.3",
      "model_name": "EdgeModel",
      "state": {
       "_model_module_version": "^1.3.3",
       "_view_module_version": "^1.3.3",
       "classes": " directed ",
       "data": {
        "id": "e5f3f03d-dae9-4f38-b4ae-e47dd127cb2f",
        "source": "2603075591425295929",
        "target": "-3083138079535866035"
       },
       "selectable": false
      }
     },
     "ebc4e8a4e6784ee59f14222535ca22ff": {
      "model_module": "jupyter-cytoscape",
      "model_module_version": "^1.3.3",
      "model_name": "NodeModel",
      "state": {
       "_model_module_version": "^1.3.3",
       "_view_module_version": "^1.3.3",
       "data": {
        "color": "gray",
        "id": "8930107111954063677",
        "label": "2",
        "shape": "rectangle"
       },
       "grabbable": true,
       "grabbed": false,
       "position": {
        "x": 724,
        "y": 755
       },
       "selectable": false
      }
     },
     "ebf71d79607d4900958ca6780b440a89": {
      "model_module": "jupyter-cytoscape",
      "model_module_version": "^1.3.3",
      "model_name": "EdgeModel",
      "state": {
       "_model_module_version": "^1.3.3",
       "_view_module_version": "^1.3.3",
       "classes": " directed ",
       "data": {
        "id": "138db52b-0d48-4bc7-9b4c-4a72b5b0cc19",
        "source": "-6112881003992038452",
        "target": "-4144154358512503320"
       },
       "selectable": false
      }
     },
     "ec9a83153403466787b97adad31b4354": {
      "model_module": "jupyter-cytoscape",
      "model_module_version": "^1.3.3",
      "model_name": "NodeModel",
      "state": {
       "_model_module_version": "^1.3.3",
       "_view_module_version": "^1.3.3",
       "data": {
        "color": "gray",
        "id": "-3314526326687534986",
        "label": "0",
        "shape": "rectangle"
       },
       "grabbable": true,
       "grabbed": false,
       "position": {
        "x": 930,
        "y": 875
       },
       "selectable": false
      }
     },
     "ed73415a008043d089ab9df24be53058": {
      "model_module": "jupyter-cytoscape",
      "model_module_version": "^1.3.3",
      "model_name": "EdgeModel",
      "state": {
       "_model_module_version": "^1.3.3",
       "_view_module_version": "^1.3.3",
       "classes": " directed ",
       "data": {
        "id": "2920ff81-9090-4ce3-828f-e36abd6c1866",
        "source": "8930107111954063677",
        "target": "2138284708474578092"
       },
       "selectable": false
      }
     },
     "ee5782b56a2b438eaf0a37aa72c80b50": {
      "model_module": "jupyter-cytoscape",
      "model_module_version": "^1.3.3",
      "model_name": "EdgeModel",
      "state": {
       "_model_module_version": "^1.3.3",
       "_view_module_version": "^1.3.3",
       "classes": " directed ",
       "data": {
        "id": "d4049965-f9aa-46e8-806b-127a857fddcf",
        "source": "-4189307551585611252",
        "target": "2200123212753603319"
       },
       "selectable": false
      }
     },
     "ee71f2adfb15440092e91398aa028cbc": {
      "model_module": "jupyter-cytoscape",
      "model_module_version": "^1.3.3",
      "model_name": "EdgeModel",
      "state": {
       "_model_module_version": "^1.3.3",
       "_view_module_version": "^1.3.3",
       "classes": " directed ",
       "data": {
        "id": "c56b9317-5c6a-471f-b9e6-b46a9c15183a",
        "source": "-7535929885956994589",
        "target": "4386842957165667525"
       },
       "selectable": false
      }
     },
     "f19173140fdf404d93fc823e053ce753": {
      "model_module": "jupyter-cytoscape",
      "model_module_version": "^1.3.3",
      "model_name": "NodeModel",
      "state": {
       "_model_module_version": "^1.3.3",
       "_view_module_version": "^1.3.3",
       "data": {
        "color": "gray",
        "id": "-3083138079535866035",
        "label": "wrap_with_array",
        "shape": "ellipse"
       },
       "grabbable": true,
       "grabbed": false,
       "position": {
        "x": 98,
        "y": 1115
       },
       "selectable": false
      }
     },
     "f39f996ecd814cb0bccef645edd6bc68": {
      "model_module": "jupyter-cytoscape",
      "model_module_version": "^1.3.3",
      "model_name": "EdgeModel",
      "state": {
       "_model_module_version": "^1.3.3",
       "_view_module_version": "^1.3.3",
       "classes": " directed ",
       "data": {
        "id": "ba0fb3d8-f7d7-4fb8-9bea-b2007cd09a6f",
        "source": "2897811036950413432",
        "target": "-3593708525088951428"
       },
       "selectable": false
      }
     },
     "f3ee88337c9d455e9f398d20bbe22b40": {
      "model_module": "jupyter-cytoscape",
      "model_module_version": "^1.3.3",
      "model_name": "NodeModel",
      "state": {
       "_model_module_version": "^1.3.3",
       "_view_module_version": "^1.3.3",
       "data": {
        "color": "gray",
        "id": "23348537384176463",
        "label": "apply_transform",
        "shape": "ellipse"
       },
       "grabbable": true,
       "grabbed": false,
       "position": {
        "x": 719,
        "y": 395
       },
       "selectable": false
      }
     },
     "f5198c0d561e49258b830a192ac0f8a7": {
      "model_module": "jupyter-cytoscape",
      "model_module_version": "^1.3.3",
      "model_name": "EdgeModel",
      "state": {
       "_model_module_version": "^1.3.3",
       "_view_module_version": "^1.3.3",
       "classes": " directed ",
       "data": {
        "id": "0ff3f813-57e8-4fee-ac28-5c26afda822a",
        "source": "-1162988058898088753",
        "target": "-2591056080245297848"
       },
       "selectable": false
      }
     },
     "f675dc9ffd904d05915b4aaf508c51e1": {
      "model_module": "jupyter-cytoscape",
      "model_module_version": "^1.3.3",
      "model_name": "EdgeModel",
      "state": {
       "_model_module_version": "^1.3.3",
       "_view_module_version": "^1.3.3",
       "classes": " directed ",
       "data": {
        "id": "a2d9b78e-b268-4d35-b7fc-4cc5eb731db0",
        "source": "23348537384176463",
        "target": "3216764353020735326"
       },
       "selectable": false
      }
     },
     "f71528e44bab469ab535ab778c700f9f": {
      "model_module": "jupyter-cytoscape",
      "model_module_version": "^1.3.3",
      "model_name": "EdgeModel",
      "state": {
       "_model_module_version": "^1.3.3",
       "_view_module_version": "^1.3.3",
       "classes": " directed ",
       "data": {
        "id": "8a80080d-df08-4d7d-894b-6d6ef515dc0b",
        "source": "3216764353020735326",
        "target": "-4189307551585611252"
       },
       "selectable": false
      }
     },
     "f7f08f4670504f29aab2f88d976bc33d": {
      "model_module": "jupyter-cytoscape",
      "model_module_version": "^1.3.3",
      "model_name": "NodeModel",
      "state": {
       "_model_module_version": "^1.3.3",
       "_view_module_version": "^1.3.3",
       "data": {
        "color": "gray",
        "id": "2138284708474578092",
        "label": "getitem",
        "shape": "ellipse"
       },
       "grabbable": true,
       "grabbed": false,
       "position": {
        "x": 729,
        "y": 1595
       },
       "selectable": false
      }
     },
     "f892fc611d414a30b9278da103744054": {
      "model_module": "jupyter-cytoscape",
      "model_module_version": "^1.3.3",
      "model_name": "EdgeModel",
      "state": {
       "_model_module_version": "^1.3.3",
       "_view_module_version": "^1.3.3",
       "classes": " directed ",
       "data": {
        "id": "96f94f15-b738-4ec9-8cf1-4e1417e7ca07",
        "source": "2636828699620805333",
        "target": "-3667003760153278759"
       },
       "selectable": false
      }
     },
     "f8e1b9c936c94d8881d440e1476f7ae0": {
      "model_module": "jupyter-cytoscape",
      "model_module_version": "^1.3.3",
      "model_name": "EdgeModel",
      "state": {
       "_model_module_version": "^1.3.3",
       "_view_module_version": "^1.3.3",
       "classes": " directed ",
       "data": {
        "id": "6ff1d38d-ca72-4358-9bab-9068222b1f09",
        "source": "-4879822329518210859",
        "target": "1658173419409573162"
       },
       "selectable": false
      }
     },
     "f97525833a414716a2fdfe5263f9b9b1": {
      "model_module": "jupyter-cytoscape",
      "model_module_version": "^1.3.3",
      "model_name": "NodeModel",
      "state": {
       "_model_module_version": "^1.3.3",
       "_view_module_version": "^1.3.3",
       "data": {
        "color": "gray",
        "id": "-2342049904412802010",
        "label": "apply_transform",
        "shape": "ellipse"
       },
       "grabbable": true,
       "grabbed": false,
       "position": {
        "x": 935,
        "y": 1355
       },
       "selectable": false
      }
     },
     "fb1c010a27254f36b6fda12eb85c0737": {
      "model_module": "jupyter-cytoscape",
      "model_module_version": "^1.3.3",
      "model_name": "NodeModel",
      "state": {
       "_model_module_version": "^1.3.3",
       "_view_module_version": "^1.3.3",
       "data": {
        "color": "gray",
        "id": "2897811036950413432",
        "label": "build_waves",
        "shape": "ellipse"
       },
       "grabbable": true,
       "grabbed": false,
       "position": {
        "x": 516.5,
        "y": 1595
       },
       "selectable": false
      }
     },
     "fb54ad3215c9485bb568b12827e48fba": {
      "model_module": "jupyter-cytoscape",
      "model_module_version": "^1.3.3",
      "model_name": "EdgeModel",
      "state": {
       "_model_module_version": "^1.3.3",
       "_view_module_version": "^1.3.3",
       "classes": " directed ",
       "data": {
        "id": "12ca301a-d9f3-40f9-8f63-64843e436a60",
        "source": "4037033082981367311",
        "target": "2065410493791762658"
       },
       "selectable": false
      }
     },
     "fbffaf8111754a919e39edad0d021bd0": {
      "model_module": "jupyter-cytoscape",
      "model_module_version": "^1.3.3",
      "model_name": "EdgeModel",
      "state": {
       "_model_module_version": "^1.3.3",
       "_view_module_version": "^1.3.3",
       "classes": " directed ",
       "data": {
        "id": "6302d8d6-9edf-42b0-b859-e7b49d9c8594",
        "source": "-6732846305900421870",
        "target": "-1677512154397951122"
       },
       "selectable": false
      }
     },
     "fc7918cfcdba4558906f5692ab11ef72": {
      "model_module": "jupyter-cytoscape",
      "model_module_version": "^1.3.3",
      "model_name": "NodeModel",
      "state": {
       "_model_module_version": "^1.3.3",
       "_view_module_version": "^1.3.3",
       "data": {
        "color": "gray",
        "id": "3216764353020735326",
        "label": "(2, 0, 0, 0)",
        "shape": "rectangle"
       },
       "grabbable": true,
       "grabbed": false,
       "position": {
        "x": 719,
        "y": 275
       },
       "selectable": false
      }
     },
     "fdaea8e8d6f944e3adcf12a43cad28b1": {
      "model_module": "jupyter-cytoscape",
      "model_module_version": "^1.3.3",
      "model_name": "NodeModel",
      "state": {
       "_model_module_version": "^1.3.3",
       "_view_module_version": "^1.3.3",
       "data": {
        "color": "gray",
        "id": "-2591056080245297848",
        "label": "(3, 0, 0)",
        "shape": "rectangle"
       },
       "grabbable": true,
       "grabbed": false,
       "position": {
        "x": 935,
        "y": 995
       },
       "selectable": false
      }
     },
     "fe0694c169bb49469e05f078b6de230a": {
      "model_module": "jupyter-cytoscape",
      "model_module_version": "^1.3.3",
      "model_name": "NodeModel",
      "state": {
       "_model_module_version": "^1.3.3",
       "_view_module_version": "^1.3.3",
       "data": {
        "color": "gray",
        "id": "-2815456313386763074",
        "label": "wrap_with_array",
        "shape": "ellipse"
       },
       "grabbable": true,
       "grabbed": false,
       "position": {
        "x": 724,
        "y": 1115
       },
       "selectable": false
      }
     }
    },
    "version_major": 2,
    "version_minor": 0
   }
  }
 },
 "nbformat": 4,
 "nbformat_minor": 5
}
