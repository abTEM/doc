{
 "cells": [
  {
   "cell_type": "code",
   "execution_count": 1,
   "id": "c8a68d55-5e9b-4bab-b324-05b89a56cecd",
   "metadata": {
    "pycharm": {
     "name": "#%%\n"
    },
    "tags": [
     "hide-input"
    ]
   },
   "outputs": [
    {
     "data": {
      "text/html": [
       "<div class=\"bk-root\">\n",
       "        <a href=\"https://bokeh.org\" target=\"_blank\" class=\"bk-logo bk-logo-small bk-logo-notebook\"></a>\n",
       "        <span id=\"1001\">Loading BokehJS ...</span>\n",
       "    </div>\n"
      ]
     },
     "metadata": {},
     "output_type": "display_data"
    },
    {
     "data": {
      "application/javascript": [
       "(function(root) {\n",
       "  function now() {\n",
       "    return new Date();\n",
       "  }\n",
       "\n",
       "  const force = true;\n",
       "\n",
       "  if (typeof root._bokeh_onload_callbacks === \"undefined\" || force === true) {\n",
       "    root._bokeh_onload_callbacks = [];\n",
       "    root._bokeh_is_loading = undefined;\n",
       "  }\n",
       "\n",
       "const JS_MIME_TYPE = 'application/javascript';\n",
       "  const HTML_MIME_TYPE = 'text/html';\n",
       "  const EXEC_MIME_TYPE = 'application/vnd.bokehjs_exec.v0+json';\n",
       "  const CLASS_NAME = 'output_bokeh rendered_html';\n",
       "\n",
       "  /**\n",
       "   * Render data to the DOM node\n",
       "   */\n",
       "  function render(props, node) {\n",
       "    const script = document.createElement(\"script\");\n",
       "    node.appendChild(script);\n",
       "  }\n",
       "\n",
       "  /**\n",
       "   * Handle when an output is cleared or removed\n",
       "   */\n",
       "  function handleClearOutput(event, handle) {\n",
       "    const cell = handle.cell;\n",
       "\n",
       "    const id = cell.output_area._bokeh_element_id;\n",
       "    const server_id = cell.output_area._bokeh_server_id;\n",
       "    // Clean up Bokeh references\n",
       "    if (id != null && id in Bokeh.index) {\n",
       "      Bokeh.index[id].model.document.clear();\n",
       "      delete Bokeh.index[id];\n",
       "    }\n",
       "\n",
       "    if (server_id !== undefined) {\n",
       "      // Clean up Bokeh references\n",
       "      const cmd_clean = \"from bokeh.io.state import curstate; print(curstate().uuid_to_server['\" + server_id + \"'].get_sessions()[0].document.roots[0]._id)\";\n",
       "      cell.notebook.kernel.execute(cmd_clean, {\n",
       "        iopub: {\n",
       "          output: function(msg) {\n",
       "            const id = msg.content.text.trim();\n",
       "            if (id in Bokeh.index) {\n",
       "              Bokeh.index[id].model.document.clear();\n",
       "              delete Bokeh.index[id];\n",
       "            }\n",
       "          }\n",
       "        }\n",
       "      });\n",
       "      // Destroy server and session\n",
       "      const cmd_destroy = \"import bokeh.io.notebook as ion; ion.destroy_server('\" + server_id + \"')\";\n",
       "      cell.notebook.kernel.execute(cmd_destroy);\n",
       "    }\n",
       "  }\n",
       "\n",
       "  /**\n",
       "   * Handle when a new output is added\n",
       "   */\n",
       "  function handleAddOutput(event, handle) {\n",
       "    const output_area = handle.output_area;\n",
       "    const output = handle.output;\n",
       "\n",
       "    // limit handleAddOutput to display_data with EXEC_MIME_TYPE content only\n",
       "    if ((output.output_type != \"display_data\") || (!Object.prototype.hasOwnProperty.call(output.data, EXEC_MIME_TYPE))) {\n",
       "      return\n",
       "    }\n",
       "\n",
       "    const toinsert = output_area.element.find(\".\" + CLASS_NAME.split(' ')[0]);\n",
       "\n",
       "    if (output.metadata[EXEC_MIME_TYPE][\"id\"] !== undefined) {\n",
       "      toinsert[toinsert.length - 1].firstChild.textContent = output.data[JS_MIME_TYPE];\n",
       "      // store reference to embed id on output_area\n",
       "      output_area._bokeh_element_id = output.metadata[EXEC_MIME_TYPE][\"id\"];\n",
       "    }\n",
       "    if (output.metadata[EXEC_MIME_TYPE][\"server_id\"] !== undefined) {\n",
       "      const bk_div = document.createElement(\"div\");\n",
       "      bk_div.innerHTML = output.data[HTML_MIME_TYPE];\n",
       "      const script_attrs = bk_div.children[0].attributes;\n",
       "      for (let i = 0; i < script_attrs.length; i++) {\n",
       "        toinsert[toinsert.length - 1].firstChild.setAttribute(script_attrs[i].name, script_attrs[i].value);\n",
       "        toinsert[toinsert.length - 1].firstChild.textContent = bk_div.children[0].textContent\n",
       "      }\n",
       "      // store reference to server id on output_area\n",
       "      output_area._bokeh_server_id = output.metadata[EXEC_MIME_TYPE][\"server_id\"];\n",
       "    }\n",
       "  }\n",
       "\n",
       "  function register_renderer(events, OutputArea) {\n",
       "\n",
       "    function append_mime(data, metadata, element) {\n",
       "      // create a DOM node to render to\n",
       "      const toinsert = this.create_output_subarea(\n",
       "        metadata,\n",
       "        CLASS_NAME,\n",
       "        EXEC_MIME_TYPE\n",
       "      );\n",
       "      this.keyboard_manager.register_events(toinsert);\n",
       "      // Render to node\n",
       "      const props = {data: data, metadata: metadata[EXEC_MIME_TYPE]};\n",
       "      render(props, toinsert[toinsert.length - 1]);\n",
       "      element.append(toinsert);\n",
       "      return toinsert\n",
       "    }\n",
       "\n",
       "    /* Handle when an output is cleared or removed */\n",
       "    events.on('clear_output.CodeCell', handleClearOutput);\n",
       "    events.on('delete.Cell', handleClearOutput);\n",
       "\n",
       "    /* Handle when a new output is added */\n",
       "    events.on('output_added.OutputArea', handleAddOutput);\n",
       "\n",
       "    /**\n",
       "     * Register the mime type and append_mime function with output_area\n",
       "     */\n",
       "    OutputArea.prototype.register_mime_type(EXEC_MIME_TYPE, append_mime, {\n",
       "      /* Is output safe? */\n",
       "      safe: true,\n",
       "      /* Index of renderer in `output_area.display_order` */\n",
       "      index: 0\n",
       "    });\n",
       "  }\n",
       "\n",
       "  // register the mime type if in Jupyter Notebook environment and previously unregistered\n",
       "  if (root.Jupyter !== undefined) {\n",
       "    const events = require('base/js/events');\n",
       "    const OutputArea = require('notebook/js/outputarea').OutputArea;\n",
       "\n",
       "    if (OutputArea.prototype.mime_types().indexOf(EXEC_MIME_TYPE) == -1) {\n",
       "      register_renderer(events, OutputArea);\n",
       "    }\n",
       "  }\n",
       "  if (typeof (root._bokeh_timeout) === \"undefined\" || force === true) {\n",
       "    root._bokeh_timeout = Date.now() + 5000;\n",
       "    root._bokeh_failed_load = false;\n",
       "  }\n",
       "\n",
       "  const NB_LOAD_WARNING = {'data': {'text/html':\n",
       "     \"<div style='background-color: #fdd'>\\n\"+\n",
       "     \"<p>\\n\"+\n",
       "     \"BokehJS does not appear to have successfully loaded. If loading BokehJS from CDN, this \\n\"+\n",
       "     \"may be due to a slow or bad network connection. Possible fixes:\\n\"+\n",
       "     \"</p>\\n\"+\n",
       "     \"<ul>\\n\"+\n",
       "     \"<li>re-rerun `output_notebook()` to attempt to load from CDN again, or</li>\\n\"+\n",
       "     \"<li>use INLINE resources instead, as so:</li>\\n\"+\n",
       "     \"</ul>\\n\"+\n",
       "     \"<code>\\n\"+\n",
       "     \"from bokeh.resources import INLINE\\n\"+\n",
       "     \"output_notebook(resources=INLINE)\\n\"+\n",
       "     \"</code>\\n\"+\n",
       "     \"</div>\"}};\n",
       "\n",
       "  function display_loaded() {\n",
       "    const el = document.getElementById(\"1001\");\n",
       "    if (el != null) {\n",
       "      el.textContent = \"BokehJS is loading...\";\n",
       "    }\n",
       "    if (root.Bokeh !== undefined) {\n",
       "      if (el != null) {\n",
       "        el.textContent = \"BokehJS \" + root.Bokeh.version + \" successfully loaded.\";\n",
       "      }\n",
       "    } else if (Date.now() < root._bokeh_timeout) {\n",
       "      setTimeout(display_loaded, 100)\n",
       "    }\n",
       "  }\n",
       "\n",
       "  function run_callbacks() {\n",
       "    try {\n",
       "      root._bokeh_onload_callbacks.forEach(function(callback) {\n",
       "        if (callback != null)\n",
       "          callback();\n",
       "      });\n",
       "    } finally {\n",
       "      delete root._bokeh_onload_callbacks\n",
       "    }\n",
       "    console.debug(\"Bokeh: all callbacks have finished\");\n",
       "  }\n",
       "\n",
       "  function load_libs(css_urls, js_urls, callback) {\n",
       "    if (css_urls == null) css_urls = [];\n",
       "    if (js_urls == null) js_urls = [];\n",
       "\n",
       "    root._bokeh_onload_callbacks.push(callback);\n",
       "    if (root._bokeh_is_loading > 0) {\n",
       "      console.debug(\"Bokeh: BokehJS is being loaded, scheduling callback at\", now());\n",
       "      return null;\n",
       "    }\n",
       "    if (js_urls == null || js_urls.length === 0) {\n",
       "      run_callbacks();\n",
       "      return null;\n",
       "    }\n",
       "    console.debug(\"Bokeh: BokehJS not loaded, scheduling load and callback at\", now());\n",
       "    root._bokeh_is_loading = css_urls.length + js_urls.length;\n",
       "\n",
       "    function on_load() {\n",
       "      root._bokeh_is_loading--;\n",
       "      if (root._bokeh_is_loading === 0) {\n",
       "        console.debug(\"Bokeh: all BokehJS libraries/stylesheets loaded\");\n",
       "        run_callbacks()\n",
       "      }\n",
       "    }\n",
       "\n",
       "    function on_error(url) {\n",
       "      console.error(\"failed to load \" + url);\n",
       "    }\n",
       "\n",
       "    for (let i = 0; i < css_urls.length; i++) {\n",
       "      const url = css_urls[i];\n",
       "      const element = document.createElement(\"link\");\n",
       "      element.onload = on_load;\n",
       "      element.onerror = on_error.bind(null, url);\n",
       "      element.rel = \"stylesheet\";\n",
       "      element.type = \"text/css\";\n",
       "      element.href = url;\n",
       "      console.debug(\"Bokeh: injecting link tag for BokehJS stylesheet: \", url);\n",
       "      document.body.appendChild(element);\n",
       "    }\n",
       "\n",
       "    for (let i = 0; i < js_urls.length; i++) {\n",
       "      const url = js_urls[i];\n",
       "      const element = document.createElement('script');\n",
       "      element.onload = on_load;\n",
       "      element.onerror = on_error.bind(null, url);\n",
       "      element.async = false;\n",
       "      element.src = url;\n",
       "      console.debug(\"Bokeh: injecting script tag for BokehJS library: \", url);\n",
       "      document.head.appendChild(element);\n",
       "    }\n",
       "  };\n",
       "\n",
       "  function inject_raw_css(css) {\n",
       "    const element = document.createElement(\"style\");\n",
       "    element.appendChild(document.createTextNode(css));\n",
       "    document.body.appendChild(element);\n",
       "  }\n",
       "\n",
       "  const js_urls = [\"https://cdn.bokeh.org/bokeh/release/bokeh-2.4.3.min.js\", \"https://cdn.bokeh.org/bokeh/release/bokeh-gl-2.4.3.min.js\", \"https://cdn.bokeh.org/bokeh/release/bokeh-widgets-2.4.3.min.js\", \"https://cdn.bokeh.org/bokeh/release/bokeh-tables-2.4.3.min.js\", \"https://cdn.bokeh.org/bokeh/release/bokeh-mathjax-2.4.3.min.js\"];\n",
       "  const css_urls = [];\n",
       "\n",
       "  const inline_js = [    function(Bokeh) {\n",
       "      Bokeh.set_log_level(\"info\");\n",
       "    },\n",
       "function(Bokeh) {\n",
       "    }\n",
       "  ];\n",
       "\n",
       "  function run_inline_js() {\n",
       "    if (root.Bokeh !== undefined || force === true) {\n",
       "          for (let i = 0; i < inline_js.length; i++) {\n",
       "      inline_js[i].call(root, root.Bokeh);\n",
       "    }\n",
       "if (force === true) {\n",
       "        display_loaded();\n",
       "      }} else if (Date.now() < root._bokeh_timeout) {\n",
       "      setTimeout(run_inline_js, 100);\n",
       "    } else if (!root._bokeh_failed_load) {\n",
       "      console.log(\"Bokeh: BokehJS failed to load within specified timeout.\");\n",
       "      root._bokeh_failed_load = true;\n",
       "    } else if (force !== true) {\n",
       "      const cell = $(document.getElementById(\"1001\")).parents('.cell').data().cell;\n",
       "      cell.output_area.append_execute_result(NB_LOAD_WARNING)\n",
       "    }\n",
       "  }\n",
       "\n",
       "  if (root._bokeh_is_loading === 0) {\n",
       "    console.debug(\"Bokeh: BokehJS loaded, going straight to plotting\");\n",
       "    run_inline_js();\n",
       "  } else {\n",
       "    load_libs(css_urls, js_urls, function() {\n",
       "      console.debug(\"Bokeh: BokehJS plotting callback run at\", now());\n",
       "      run_inline_js();\n",
       "    });\n",
       "  }\n",
       "}(window));"
      ],
      "application/vnd.bokehjs_load.v0+json": "(function(root) {\n  function now() {\n    return new Date();\n  }\n\n  const force = true;\n\n  if (typeof root._bokeh_onload_callbacks === \"undefined\" || force === true) {\n    root._bokeh_onload_callbacks = [];\n    root._bokeh_is_loading = undefined;\n  }\n\n\n  if (typeof (root._bokeh_timeout) === \"undefined\" || force === true) {\n    root._bokeh_timeout = Date.now() + 5000;\n    root._bokeh_failed_load = false;\n  }\n\n  const NB_LOAD_WARNING = {'data': {'text/html':\n     \"<div style='background-color: #fdd'>\\n\"+\n     \"<p>\\n\"+\n     \"BokehJS does not appear to have successfully loaded. If loading BokehJS from CDN, this \\n\"+\n     \"may be due to a slow or bad network connection. Possible fixes:\\n\"+\n     \"</p>\\n\"+\n     \"<ul>\\n\"+\n     \"<li>re-rerun `output_notebook()` to attempt to load from CDN again, or</li>\\n\"+\n     \"<li>use INLINE resources instead, as so:</li>\\n\"+\n     \"</ul>\\n\"+\n     \"<code>\\n\"+\n     \"from bokeh.resources import INLINE\\n\"+\n     \"output_notebook(resources=INLINE)\\n\"+\n     \"</code>\\n\"+\n     \"</div>\"}};\n\n  function display_loaded() {\n    const el = document.getElementById(\"1001\");\n    if (el != null) {\n      el.textContent = \"BokehJS is loading...\";\n    }\n    if (root.Bokeh !== undefined) {\n      if (el != null) {\n        el.textContent = \"BokehJS \" + root.Bokeh.version + \" successfully loaded.\";\n      }\n    } else if (Date.now() < root._bokeh_timeout) {\n      setTimeout(display_loaded, 100)\n    }\n  }\n\n  function run_callbacks() {\n    try {\n      root._bokeh_onload_callbacks.forEach(function(callback) {\n        if (callback != null)\n          callback();\n      });\n    } finally {\n      delete root._bokeh_onload_callbacks\n    }\n    console.debug(\"Bokeh: all callbacks have finished\");\n  }\n\n  function load_libs(css_urls, js_urls, callback) {\n    if (css_urls == null) css_urls = [];\n    if (js_urls == null) js_urls = [];\n\n    root._bokeh_onload_callbacks.push(callback);\n    if (root._bokeh_is_loading > 0) {\n      console.debug(\"Bokeh: BokehJS is being loaded, scheduling callback at\", now());\n      return null;\n    }\n    if (js_urls == null || js_urls.length === 0) {\n      run_callbacks();\n      return null;\n    }\n    console.debug(\"Bokeh: BokehJS not loaded, scheduling load and callback at\", now());\n    root._bokeh_is_loading = css_urls.length + js_urls.length;\n\n    function on_load() {\n      root._bokeh_is_loading--;\n      if (root._bokeh_is_loading === 0) {\n        console.debug(\"Bokeh: all BokehJS libraries/stylesheets loaded\");\n        run_callbacks()\n      }\n    }\n\n    function on_error(url) {\n      console.error(\"failed to load \" + url);\n    }\n\n    for (let i = 0; i < css_urls.length; i++) {\n      const url = css_urls[i];\n      const element = document.createElement(\"link\");\n      element.onload = on_load;\n      element.onerror = on_error.bind(null, url);\n      element.rel = \"stylesheet\";\n      element.type = \"text/css\";\n      element.href = url;\n      console.debug(\"Bokeh: injecting link tag for BokehJS stylesheet: \", url);\n      document.body.appendChild(element);\n    }\n\n    for (let i = 0; i < js_urls.length; i++) {\n      const url = js_urls[i];\n      const element = document.createElement('script');\n      element.onload = on_load;\n      element.onerror = on_error.bind(null, url);\n      element.async = false;\n      element.src = url;\n      console.debug(\"Bokeh: injecting script tag for BokehJS library: \", url);\n      document.head.appendChild(element);\n    }\n  };\n\n  function inject_raw_css(css) {\n    const element = document.createElement(\"style\");\n    element.appendChild(document.createTextNode(css));\n    document.body.appendChild(element);\n  }\n\n  const js_urls = [\"https://cdn.bokeh.org/bokeh/release/bokeh-2.4.3.min.js\", \"https://cdn.bokeh.org/bokeh/release/bokeh-gl-2.4.3.min.js\", \"https://cdn.bokeh.org/bokeh/release/bokeh-widgets-2.4.3.min.js\", \"https://cdn.bokeh.org/bokeh/release/bokeh-tables-2.4.3.min.js\", \"https://cdn.bokeh.org/bokeh/release/bokeh-mathjax-2.4.3.min.js\"];\n  const css_urls = [];\n\n  const inline_js = [    function(Bokeh) {\n      Bokeh.set_log_level(\"info\");\n    },\nfunction(Bokeh) {\n    }\n  ];\n\n  function run_inline_js() {\n    if (root.Bokeh !== undefined || force === true) {\n          for (let i = 0; i < inline_js.length; i++) {\n      inline_js[i].call(root, root.Bokeh);\n    }\nif (force === true) {\n        display_loaded();\n      }} else if (Date.now() < root._bokeh_timeout) {\n      setTimeout(run_inline_js, 100);\n    } else if (!root._bokeh_failed_load) {\n      console.log(\"Bokeh: BokehJS failed to load within specified timeout.\");\n      root._bokeh_failed_load = true;\n    } else if (force !== true) {\n      const cell = $(document.getElementById(\"1001\")).parents('.cell').data().cell;\n      cell.output_area.append_execute_result(NB_LOAD_WARNING)\n    }\n  }\n\n  if (root._bokeh_is_loading === 0) {\n    console.debug(\"Bokeh: BokehJS loaded, going straight to plotting\");\n    run_inline_js();\n  } else {\n    load_libs(css_urls, js_urls, function() {\n      console.debug(\"Bokeh: BokehJS plotting callback run at\", now());\n      run_inline_js();\n    });\n  }\n}(window));"
     },
     "metadata": {},
     "output_type": "display_data"
    }
   ],
   "source": [
    "import abtem\n",
    "import ase\n",
    "import dask\n",
    "from IPython.display import Image, display\n",
    "\n",
    "from bokeh.io import output_notebook\n",
    "output_notebook()"
   ]
  },
  {
   "cell_type": "markdown",
   "id": "2b2c74ed-dfb6-4426-898a-63110b6fb253",
   "metadata": {
    "pycharm": {
     "name": "#%% md\n"
    },
    "tags": []
   },
   "source": [
    "(walkthrough:parallelization)=\n",
    "# Parallelization\n",
    "\n",
    "The computational cost of running multislice simulations can become high depending on the size of the specimen, the number of probe positions, phonon images, and many other factors. This cost can be mitigated using parallelism. Many of the computations in *ab*TEM are [embarrasingly parallel](https://en.wikipedia.org/wiki/Embarrassingly_parallel): for example, every probe position is independent, thus each CPU core may calculate a batch of positions independently, only requiring communication after finishing a run of the multislice algorithm. \n",
    "\n",
    "*ab*TEM is parallelized using [Dask](https://www.dask.org/){cite}`dask`, which is a flexible library for parallel computing in Python. Dask allows scaling from a single laptop to hundreds of nodes at high-performance computing (HPC) facilities with minimal changes to the code. \n",
    "\n",
    "In this walkthrough, we introduce how *ab*TEM uses Dask. Althouhg this is not required knowledge for running simulations on a single machine, it may still help you optimize your simulations. If you are already an experienced Dask user, most of what you already know can be applied to using *ab*TEM. If you are new to Dask you may benefit from watching [this introduction](https://www.youtube.com/watch?v=nnndxbr_Xq4) before continuing.\n",
    "\n",
    "We note that Dask is used in several other libraries for the analysis of electron microscopy data, for example, [hyperspy](https://hyperspy.org/), [libertem](https://libertem.github.io/LiberTEM/) and [py4DSTEM](https://py4dstem.readthedocs.io/en/latest/), and thus we think that you may benefit from knowing this library more generally."
   ]
  },
  {
   "cell_type": "markdown",
   "id": "43b2aaf0-80a0-4058-99a2-faa12025ab42",
   "metadata": {
    "pycharm": {
     "name": "#%% md\n"
    }
   },
   "source": [
    "## Task graphs\n",
    "\n",
    "Simulating TEM experiments requires executing multiple *tasks* where each one may depend on the output of previous tasks. In Dask this is represented as a [*task graph*](https://docs.dask.org/en/stable/graphs.html), where each task is a *node*, with *edges* between nodes if it is dependent on another task. The simulation result is obtained by executing each task (node) in the graph with a Dask *scheduler* on a single machine or a cluster."
   ]
  },
  {
   "cell_type": "code",
   "execution_count": 2,
   "id": "fe6765fb-d0ea-4c35-b5bf-2eaadee69b0b",
   "metadata": {
    "tags": [
     "remove-input",
     "hide-input"
    ]
   },
   "outputs": [
    {
     "data": {
      "text/html": [
       "<img src=\"https://docs.dask.org/en/stable/_images/dask-overview.svg\" width=\"600\"/>"
      ],
      "text/plain": [
       "<IPython.core.display.Image object>"
      ]
     },
     "metadata": {},
     "output_type": "display_data"
    }
   ],
   "source": [
    "display(\n",
    "    Image(url=\"https://docs.dask.org/en/stable/_images/dask-overview.svg\", width=600)\n",
    ")"
   ]
  },
  {
   "cell_type": "markdown",
   "id": "95b10156-ee85-4600-92ed-b9c7c398dbdc",
   "metadata": {},
   "source": [
    "To illustrate this in practice, below we create the task graph for running a plane wave multislice simulation of gold in the $\\left<100\\right>$ zone axis with 4 frozen phonon configurations (please refer to previous walkthroughs for those details)."
   ]
  },
  {
   "cell_type": "code",
   "execution_count": 3,
   "id": "60ba5ba0-0d6d-4ecb-8fdd-fa80316a579b",
   "metadata": {},
   "outputs": [],
   "source": [
    "atoms = ase.build.bulk(\"Au\", cubic=True) * (5, 5, 2)\n",
    "\n",
    "frozen_phonons = abtem.FrozenPhonons(\n",
    "    atoms, num_configs=4, sigmas=0.1, ensemble_mean=False\n",
    ")\n",
    "\n",
    "potential = abtem.Potential(frozen_phonons, gpts=512, slice_thickness=2)\n",
    "\n",
    "probe = abtem.PlaneWave(energy=200e3)\n",
    "\n",
    "exit_waves = probe.multislice(potential)"
   ]
  },
  {
   "cell_type": "markdown",
   "id": "cbc97cd9-2777-4ef4-a0c4-c020517b708e",
   "metadata": {},
   "source": [
    "The result is an ensemble of $4$ wave functions of shape $512\\times512$, which may be represented as a 3D array, where the first dimension represents the phonon ensemble and the last two dimensions represents the 2D wave functions. \n",
    "\n",
    "As we have not executed the task graph yet, the wave functions are represented as a [Dask Array](https://docs.dask.org/en/stable/array.html). We can think of the *Dask array* as being composed of many smaller NumPy arrays, called *chunks*, and operations may be applied to each chunk rather than the full array. This enables: \n",
    "\n",
    "1. Parallelism over the chunks;\n",
    "2. Representing a larger-than-memory array as many smaller arrays, each of which fits in memory.\n",
    "\n",
    "The Dask array representation `__repr__` shows how the chunks are laid out."
   ]
  },
  {
   "cell_type": "code",
   "execution_count": 4,
   "id": "adc736d7-6ca1-47a7-baa5-eb6a9b0d69cb",
   "metadata": {},
   "outputs": [
    {
     "data": {
      "text/html": [
       "<table>\n",
       "    <tr>\n",
       "        <td>\n",
       "            <table style=\"border-collapse: collapse;\">\n",
       "                <thead>\n",
       "                    <tr>\n",
       "                        <td> </td>\n",
       "                        <th> Array </th>\n",
       "                        <th> Chunk </th>\n",
       "                    </tr>\n",
       "                </thead>\n",
       "                <tbody>\n",
       "                    \n",
       "                    <tr>\n",
       "                        <th> Bytes </th>\n",
       "                        <td> 8.00 MiB </td>\n",
       "                        <td> 2.00 MiB </td>\n",
       "                    </tr>\n",
       "                    \n",
       "                    <tr>\n",
       "                        <th> Shape </th>\n",
       "                        <td> (4, 512, 512) </td>\n",
       "                        <td> (1, 512, 512) </td>\n",
       "                    </tr>\n",
       "                    <tr>\n",
       "                        <th> Dask graph </th>\n",
       "                        <td colspan=\"2\"> 4 chunks in 18 graph layers </td>\n",
       "                    </tr>\n",
       "                    <tr>\n",
       "                        <th> Data type </th>\n",
       "                        <td colspan=\"2\"> complex64 numpy.ndarray </td>\n",
       "                    </tr>\n",
       "                </tbody>\n",
       "            </table>\n",
       "        </td>\n",
       "        <td>\n",
       "        <svg width=\"194\" height=\"184\" style=\"stroke:rgb(0,0,0);stroke-width:1\" >\n",
       "\n",
       "  <!-- Horizontal lines -->\n",
       "  <line x1=\"10\" y1=\"0\" x2=\"24\" y2=\"14\" style=\"stroke-width:2\" />\n",
       "  <line x1=\"10\" y1=\"120\" x2=\"24\" y2=\"134\" style=\"stroke-width:2\" />\n",
       "\n",
       "  <!-- Vertical lines -->\n",
       "  <line x1=\"10\" y1=\"0\" x2=\"10\" y2=\"120\" style=\"stroke-width:2\" />\n",
       "  <line x1=\"13\" y1=\"3\" x2=\"13\" y2=\"123\" />\n",
       "  <line x1=\"17\" y1=\"7\" x2=\"17\" y2=\"127\" />\n",
       "  <line x1=\"21\" y1=\"11\" x2=\"21\" y2=\"131\" />\n",
       "  <line x1=\"24\" y1=\"14\" x2=\"24\" y2=\"134\" style=\"stroke-width:2\" />\n",
       "\n",
       "  <!-- Colored Rectangle -->\n",
       "  <polygon points=\"10.0,0.0 24.9485979497544,14.948597949754403 24.9485979497544,134.9485979497544 10.0,120.0\" style=\"fill:#ECB172A0;stroke-width:0\"/>\n",
       "\n",
       "  <!-- Horizontal lines -->\n",
       "  <line x1=\"10\" y1=\"0\" x2=\"130\" y2=\"0\" style=\"stroke-width:2\" />\n",
       "  <line x1=\"13\" y1=\"3\" x2=\"133\" y2=\"3\" />\n",
       "  <line x1=\"17\" y1=\"7\" x2=\"137\" y2=\"7\" />\n",
       "  <line x1=\"21\" y1=\"11\" x2=\"141\" y2=\"11\" />\n",
       "  <line x1=\"24\" y1=\"14\" x2=\"144\" y2=\"14\" style=\"stroke-width:2\" />\n",
       "\n",
       "  <!-- Vertical lines -->\n",
       "  <line x1=\"10\" y1=\"0\" x2=\"24\" y2=\"14\" style=\"stroke-width:2\" />\n",
       "  <line x1=\"130\" y1=\"0\" x2=\"144\" y2=\"14\" style=\"stroke-width:2\" />\n",
       "\n",
       "  <!-- Colored Rectangle -->\n",
       "  <polygon points=\"10.0,0.0 130.0,0.0 144.9485979497544,14.948597949754403 24.9485979497544,14.948597949754403\" style=\"fill:#ECB172A0;stroke-width:0\"/>\n",
       "\n",
       "  <!-- Horizontal lines -->\n",
       "  <line x1=\"24\" y1=\"14\" x2=\"144\" y2=\"14\" style=\"stroke-width:2\" />\n",
       "  <line x1=\"24\" y1=\"134\" x2=\"144\" y2=\"134\" style=\"stroke-width:2\" />\n",
       "\n",
       "  <!-- Vertical lines -->\n",
       "  <line x1=\"24\" y1=\"14\" x2=\"24\" y2=\"134\" style=\"stroke-width:2\" />\n",
       "  <line x1=\"144\" y1=\"14\" x2=\"144\" y2=\"134\" style=\"stroke-width:2\" />\n",
       "\n",
       "  <!-- Colored Rectangle -->\n",
       "  <polygon points=\"24.9485979497544,14.948597949754403 144.9485979497544,14.948597949754403 144.9485979497544,134.9485979497544 24.9485979497544,134.9485979497544\" style=\"fill:#ECB172A0;stroke-width:0\"/>\n",
       "\n",
       "  <!-- Text -->\n",
       "  <text x=\"84.948598\" y=\"154.948598\" font-size=\"1.0rem\" font-weight=\"100\" text-anchor=\"middle\" >512</text>\n",
       "  <text x=\"164.948598\" y=\"74.948598\" font-size=\"1.0rem\" font-weight=\"100\" text-anchor=\"middle\" transform=\"rotate(-90,164.948598,74.948598)\">512</text>\n",
       "  <text x=\"7.474299\" y=\"147.474299\" font-size=\"1.0rem\" font-weight=\"100\" text-anchor=\"middle\" transform=\"rotate(45,7.474299,147.474299)\">4</text>\n",
       "</svg>\n",
       "        </td>\n",
       "    </tr>\n",
       "</table>"
      ],
      "text/plain": [
       "dask.array<getitem, shape=(4, 512, 512), dtype=complex64, chunksize=(1, 512, 512), chunktype=numpy.ndarray>"
      ]
     },
     "execution_count": 4,
     "metadata": {},
     "output_type": "execute_result"
    }
   ],
   "source": [
    "exit_waves.array"
   ]
  },
  {
   "cell_type": "markdown",
   "id": "07d22d90-2701-4d3e-bc91-ab2260232950",
   "metadata": {},
   "source": [
    "We see that this Dask array has the shape `(4, 512, 512)` requiring 8 MB of memory, and is composed of chunks with shape `(1, 512, 512)` requiring 2 MB each.\n",
    "\n",
    "```{important}\n",
    "The Dask array just represents a task graph, not the data itself, so memory is consumed only if it is computed!\n",
    "```\n",
    "\n",
    "Each chunk of the Dask array created above represents a wave function for a frozen phonon configuration. This reflects the fact that, in the multislice algorithm, each frozen phonon configuration is independent and may be calculated in parallel. On the other hand, we should not have chunks across wave functions, because each part of a wave function is affected by every other part.\n",
    "\n",
    "We can visualize the task graph using Dask's [`visualize`](https://docs.dask.org/en/stable/graphviz.html) method. We see that the task graph consists of 4 fully independent branches, one for each frozen phonon.\n",
    "\n",
    "````{note}\n",
    "Drawing Dask task graphs with the cytoscape engine requires the `ipycytoscape` python library. To reproduce the result below you need to:\n",
    "```\n",
    "  python -m pip install ipycytoscape\n",
    "```\n",
    "and restart jupyter.\n",
    "````"
   ]
  },
  {
   "cell_type": "code",
   "execution_count": 5,
   "id": "45d463ae-c282-4710-a05c-0817cb996457",
   "metadata": {
    "tags": [
     "skip-test"
    ]
   },
   "outputs": [
    {
     "data": {
      "application/vnd.jupyter.widget-view+json": {
       "model_id": "c637d19587744cebaa3368a0da7596a6",
       "version_major": 2,
       "version_minor": 0
      },
      "text/plain": [
       "CytoscapeWidget(cytoscape_layout={'name': 'dagre', 'rankDir': 'BT', 'nodeSep': 10, 'edgeSep': 10, 'spacingFact…"
      ]
     },
     "metadata": {},
     "output_type": "display_data"
    }
   ],
   "source": [
    "exit_waves.array.visualize(engine=\"cytoscape\")"
   ]
  },
  {
   "cell_type": "markdown",
   "id": "20d970c0-56e5-4066-b1d8-f6c71f59fb46",
   "metadata": {},
   "source": [
    "We usually want to take the mean across the frozen phonon dimension, and thus end up with an image represented as a single chunk."
   ]
  },
  {
   "cell_type": "code",
   "execution_count": 6,
   "id": "907e3a1e-7132-4dc5-aa9b-bdeed01a6170",
   "metadata": {},
   "outputs": [
    {
     "data": {
      "text/html": [
       "<table>\n",
       "    <tr>\n",
       "        <td>\n",
       "            <table style=\"border-collapse: collapse;\">\n",
       "                <thead>\n",
       "                    <tr>\n",
       "                        <td> </td>\n",
       "                        <th> Array </th>\n",
       "                        <th> Chunk </th>\n",
       "                    </tr>\n",
       "                </thead>\n",
       "                <tbody>\n",
       "                    \n",
       "                    <tr>\n",
       "                        <th> Bytes </th>\n",
       "                        <td> 1.00 MiB </td>\n",
       "                        <td> 1.00 MiB </td>\n",
       "                    </tr>\n",
       "                    \n",
       "                    <tr>\n",
       "                        <th> Shape </th>\n",
       "                        <td> (512, 512) </td>\n",
       "                        <td> (512, 512) </td>\n",
       "                    </tr>\n",
       "                    <tr>\n",
       "                        <th> Dask graph </th>\n",
       "                        <td colspan=\"2\"> 1 chunks in 22 graph layers </td>\n",
       "                    </tr>\n",
       "                    <tr>\n",
       "                        <th> Data type </th>\n",
       "                        <td colspan=\"2\"> float32 numpy.ndarray </td>\n",
       "                    </tr>\n",
       "                </tbody>\n",
       "            </table>\n",
       "        </td>\n",
       "        <td>\n",
       "        <svg width=\"170\" height=\"170\" style=\"stroke:rgb(0,0,0);stroke-width:1\" >\n",
       "\n",
       "  <!-- Horizontal lines -->\n",
       "  <line x1=\"0\" y1=\"0\" x2=\"120\" y2=\"0\" style=\"stroke-width:2\" />\n",
       "  <line x1=\"0\" y1=\"120\" x2=\"120\" y2=\"120\" style=\"stroke-width:2\" />\n",
       "\n",
       "  <!-- Vertical lines -->\n",
       "  <line x1=\"0\" y1=\"0\" x2=\"0\" y2=\"120\" style=\"stroke-width:2\" />\n",
       "  <line x1=\"120\" y1=\"0\" x2=\"120\" y2=\"120\" style=\"stroke-width:2\" />\n",
       "\n",
       "  <!-- Colored Rectangle -->\n",
       "  <polygon points=\"0.0,0.0 120.0,0.0 120.0,120.0 0.0,120.0\" style=\"fill:#ECB172A0;stroke-width:0\"/>\n",
       "\n",
       "  <!-- Text -->\n",
       "  <text x=\"60.000000\" y=\"140.000000\" font-size=\"1.0rem\" font-weight=\"100\" text-anchor=\"middle\" >512</text>\n",
       "  <text x=\"140.000000\" y=\"60.000000\" font-size=\"1.0rem\" font-weight=\"100\" text-anchor=\"middle\" transform=\"rotate(-90,140.000000,60.000000)\">512</text>\n",
       "</svg>\n",
       "        </td>\n",
       "    </tr>\n",
       "</table>"
      ],
      "text/plain": [
       "dask.array<mean_agg-aggregate, shape=(512, 512), dtype=float32, chunksize=(512, 512), chunktype=numpy.ndarray>"
      ]
     },
     "execution_count": 6,
     "metadata": {},
     "output_type": "execute_result"
    }
   ],
   "source": [
    "hrtem_image = exit_waves.intensity().mean(0)\n",
    "\n",
    "hrtem_image.array"
   ]
  },
  {
   "cell_type": "markdown",
   "id": "b9661725-7a20-44f6-8415-52489e91259b",
   "metadata": {},
   "source": [
    "Taking the mean across frozen phonon chunks requires communicating the exit wave function intensity between the final nodes. Showing the task graph again we see how the branches are merged when the result have to be communicated between workers."
   ]
  },
  {
   "cell_type": "code",
   "execution_count": 7,
   "id": "27e8b98c-362e-4543-b6c2-e033a827143e",
   "metadata": {
    "tags": [
     "skip-test"
    ]
   },
   "outputs": [
    {
     "data": {
      "application/vnd.jupyter.widget-view+json": {
       "model_id": "26f1a55343c94780b02991dabf05503b",
       "version_major": 2,
       "version_minor": 0
      },
      "text/plain": [
       "CytoscapeWidget(cytoscape_layout={'name': 'dagre', 'rankDir': 'BT', 'nodeSep': 10, 'edgeSep': 10, 'spacingFact…"
      ]
     },
     "metadata": {},
     "output_type": "display_data"
    }
   ],
   "source": [
    "hrtem_image.array.visualize(engine=\"cytoscape\")"
   ]
  },
  {
   "cell_type": "markdown",
   "id": "7dcdbfb7-41d3-49ff-995f-bf17f01a120f",
   "metadata": {},
   "source": [
    "## Chunks\n",
    "To futher explore the role of chunks in abTEM, we create the task graph for running a STEM simulation with the same specimen, gold in the $\\left<100\\right>$ zone axis with 4 frozen phonons. We do not immediately apply a detector, so we obtain an ensemble of exit wave functions."
   ]
  },
  {
   "cell_type": "code",
   "execution_count": 8,
   "id": "5b9baf98-b088-4c6f-954d-8ae1a7d22c23",
   "metadata": {
    "pycharm": {
     "name": "#%%\n"
    }
   },
   "outputs": [
    {
     "data": {
      "text/plain": [
       "type               label           coordinates\n",
       "-----------------  --------------  -------------------\n",
       "FrozenPhononsAxis  Frozen phonons  -\n",
       "ScanAxis           x [Å]           0.00 0.29 ... 3.79\n",
       "ScanAxis           y [Å]           0.00 0.29 ... 3.79\n",
       "RealSpaceAxis      x [Å]           0.00 0.04 ... 20.36\n",
       "RealSpaceAxis      y [Å]           0.00 0.04 ... 20.36"
      ]
     },
     "execution_count": 8,
     "metadata": {},
     "output_type": "execute_result"
    }
   ],
   "source": [
    "probe = abtem.Probe(energy=200e3, semiangle_cutoff=20)\n",
    "\n",
    "scan = abtem.GridScan(\n",
    "    start=(0, 0),\n",
    "    end=(1 / 5, 1 / 5),\n",
    "    fractional=True,\n",
    "    potential=potential,\n",
    ")\n",
    "\n",
    "frozen_phonons = abtem.FrozenPhonons(\n",
    "    atoms, num_configs=4, sigmas=0.1, ensemble_mean=True\n",
    ")\n",
    "\n",
    "potential = abtem.Potential(frozen_phonons, gpts=512, slice_thickness=2)\n",
    "\n",
    "exit_waves_stem = probe.multislice(potential, scan=scan)\n",
    "\n",
    "exit_waves_stem.axes_metadata"
   ]
  },
  {
   "cell_type": "markdown",
   "id": "69036139-511e-482d-8f72-e66b71df0924",
   "metadata": {},
   "source": [
    "The wave functions are now represented as a 5D Dask array, a 3D ensemble of 2D wave functions, which is composed of one frozen phonon dimension and two scan dimensions, one for each of the $x$ and $y$ direction. \n",
    "\n",
    "The full array is of shape `(4, 15, 15, 512, 512)` requiring 1.76 GB of memory, which is cut into chunks of shape `(1, 8, 7, 512, 512)` of 112 MB. Hence, there are a total of $4 \\times 2 \\times 3 = 24$ chunks."
   ]
  },
  {
   "cell_type": "code",
   "execution_count": 9,
   "id": "0d0ab17b-53e3-4e79-856a-d734fe3c1cbe",
   "metadata": {},
   "outputs": [
    {
     "data": {
      "text/html": [
       "<table>\n",
       "    <tr>\n",
       "        <td>\n",
       "            <table style=\"border-collapse: collapse;\">\n",
       "                <thead>\n",
       "                    <tr>\n",
       "                        <td> </td>\n",
       "                        <th> Array </th>\n",
       "                        <th> Chunk </th>\n",
       "                    </tr>\n",
       "                </thead>\n",
       "                <tbody>\n",
       "                    \n",
       "                    <tr>\n",
       "                        <th> Bytes </th>\n",
       "                        <td> 1.53 GiB </td>\n",
       "                        <td> 112.00 MiB </td>\n",
       "                    </tr>\n",
       "                    \n",
       "                    <tr>\n",
       "                        <th> Shape </th>\n",
       "                        <td> (4, 14, 14, 512, 512) </td>\n",
       "                        <td> (1, 8, 7, 512, 512) </td>\n",
       "                    </tr>\n",
       "                    <tr>\n",
       "                        <th> Dask graph </th>\n",
       "                        <td colspan=\"2\"> 16 chunks in 22 graph layers </td>\n",
       "                    </tr>\n",
       "                    <tr>\n",
       "                        <th> Data type </th>\n",
       "                        <td colspan=\"2\"> complex64 numpy.ndarray </td>\n",
       "                    </tr>\n",
       "                </tbody>\n",
       "            </table>\n",
       "        </td>\n",
       "        <td>\n",
       "        <svg width=\"388\" height=\"188\" style=\"stroke:rgb(0,0,0);stroke-width:1\" >\n",
       "\n",
       "  <!-- Horizontal lines -->\n",
       "  <line x1=\"0\" y1=\"0\" x2=\"30\" y2=\"0\" style=\"stroke-width:2\" />\n",
       "  <line x1=\"0\" y1=\"6\" x2=\"30\" y2=\"6\" />\n",
       "  <line x1=\"0\" y1=\"12\" x2=\"30\" y2=\"12\" />\n",
       "  <line x1=\"0\" y1=\"19\" x2=\"30\" y2=\"19\" />\n",
       "  <line x1=\"0\" y1=\"25\" x2=\"30\" y2=\"25\" style=\"stroke-width:2\" />\n",
       "\n",
       "  <!-- Vertical lines -->\n",
       "  <line x1=\"0\" y1=\"0\" x2=\"0\" y2=\"25\" style=\"stroke-width:2\" />\n",
       "  <line x1=\"17\" y1=\"0\" x2=\"17\" y2=\"25\" />\n",
       "  <line x1=\"30\" y1=\"0\" x2=\"30\" y2=\"25\" style=\"stroke-width:2\" />\n",
       "\n",
       "  <!-- Colored Rectangle -->\n",
       "  <polygon points=\"0.0,0.0 30.838522258696894,0.0 30.838522258696894,25.412616514582485 0.0,25.412616514582485\" style=\"fill:#ECB172A0;stroke-width:0\"/>\n",
       "\n",
       "  <!-- Text -->\n",
       "  <text x=\"15.419261\" y=\"45.412617\" font-size=\"1.0rem\" font-weight=\"100\" text-anchor=\"middle\" >14</text>\n",
       "  <text x=\"50.838522\" y=\"12.706308\" font-size=\"1.0rem\" font-weight=\"100\" text-anchor=\"middle\" transform=\"rotate(0,50.838522,12.706308)\">4</text>\n",
       "\n",
       "\n",
       "  <!-- Horizontal lines -->\n",
       "  <line x1=\"100\" y1=\"0\" x2=\"118\" y2=\"18\" style=\"stroke-width:2\" />\n",
       "  <line x1=\"100\" y1=\"120\" x2=\"118\" y2=\"138\" style=\"stroke-width:2\" />\n",
       "\n",
       "  <!-- Vertical lines -->\n",
       "  <line x1=\"100\" y1=\"0\" x2=\"100\" y2=\"120\" style=\"stroke-width:2\" />\n",
       "  <line x1=\"109\" y1=\"9\" x2=\"109\" y2=\"129\" />\n",
       "  <line x1=\"118\" y1=\"18\" x2=\"118\" y2=\"138\" style=\"stroke-width:2\" />\n",
       "\n",
       "  <!-- Colored Rectangle -->\n",
       "  <polygon points=\"100.0,0.0 118.14030721099817,18.140307210998174 118.14030721099817,138.14030721099817 100.0,120.0\" style=\"fill:#ECB172A0;stroke-width:0\"/>\n",
       "\n",
       "  <!-- Horizontal lines -->\n",
       "  <line x1=\"100\" y1=\"0\" x2=\"220\" y2=\"0\" style=\"stroke-width:2\" />\n",
       "  <line x1=\"109\" y1=\"9\" x2=\"229\" y2=\"9\" />\n",
       "  <line x1=\"118\" y1=\"18\" x2=\"238\" y2=\"18\" style=\"stroke-width:2\" />\n",
       "\n",
       "  <!-- Vertical lines -->\n",
       "  <line x1=\"100\" y1=\"0\" x2=\"118\" y2=\"18\" style=\"stroke-width:2\" />\n",
       "  <line x1=\"220\" y1=\"0\" x2=\"238\" y2=\"18\" style=\"stroke-width:2\" />\n",
       "\n",
       "  <!-- Colored Rectangle -->\n",
       "  <polygon points=\"100.0,0.0 220.0,0.0 238.14030721099817,18.140307210998174 118.14030721099817,18.140307210998174\" style=\"fill:#ECB172A0;stroke-width:0\"/>\n",
       "\n",
       "  <!-- Horizontal lines -->\n",
       "  <line x1=\"118\" y1=\"18\" x2=\"238\" y2=\"18\" style=\"stroke-width:2\" />\n",
       "  <line x1=\"118\" y1=\"138\" x2=\"238\" y2=\"138\" style=\"stroke-width:2\" />\n",
       "\n",
       "  <!-- Vertical lines -->\n",
       "  <line x1=\"118\" y1=\"18\" x2=\"118\" y2=\"138\" style=\"stroke-width:2\" />\n",
       "  <line x1=\"238\" y1=\"18\" x2=\"238\" y2=\"138\" style=\"stroke-width:2\" />\n",
       "\n",
       "  <!-- Colored Rectangle -->\n",
       "  <polygon points=\"118.14030721099817,18.140307210998174 238.14030721099817,18.140307210998174 238.14030721099817,138.14030721099817 118.14030721099817,138.14030721099817\" style=\"fill:#ECB172A0;stroke-width:0\"/>\n",
       "\n",
       "  <!-- Text -->\n",
       "  <text x=\"178.140307\" y=\"158.140307\" font-size=\"1.0rem\" font-weight=\"100\" text-anchor=\"middle\" >512</text>\n",
       "  <text x=\"258.140307\" y=\"78.140307\" font-size=\"1.0rem\" font-weight=\"100\" text-anchor=\"middle\" transform=\"rotate(-90,258.140307,78.140307)\">512</text>\n",
       "  <text x=\"99.070154\" y=\"149.070154\" font-size=\"1.0rem\" font-weight=\"100\" text-anchor=\"middle\" transform=\"rotate(45,99.070154,149.070154)\">14</text>\n",
       "</svg>\n",
       "        </td>\n",
       "    </tr>\n",
       "</table>"
      ],
      "text/plain": [
       "dask.array<getitem, shape=(4, 14, 14, 512, 512), dtype=complex64, chunksize=(1, 8, 7, 512, 512), chunktype=numpy.ndarray>"
      ]
     },
     "execution_count": 9,
     "metadata": {},
     "output_type": "execute_result"
    }
   ],
   "source": [
    "exit_waves_stem.array"
   ]
  },
  {
   "cell_type": "markdown",
   "id": "00985534-3b37-458c-9cba-e5f6c783f334",
   "metadata": {},
   "source": [
    "Notice that we do not make a chunk for every probe position, but each chunk of the scan dimension instead represents a batch of wave functions. This is done partly to limit [the overhead](https://docs.dask.org/en/stable/best-practices.html#avoid-very-large-graphs) that every chunk comes with, but more importantly, larger batches enables efficient thread parallelization within each run of the multislice algorithm.\n",
    "\n",
    "We can change how many wave functions each batch should have using a keyword. Below we set `max_batch=4`, resulting in a total number of $4 \\times 8 \\times 8 = 256$ chunks."
   ]
  },
  {
   "cell_type": "code",
   "execution_count": 10,
   "id": "b1f9437b-ed6a-4836-8e6c-daa0ae526b21",
   "metadata": {},
   "outputs": [
    {
     "data": {
      "text/html": [
       "<table>\n",
       "    <tr>\n",
       "        <td>\n",
       "            <table style=\"border-collapse: collapse;\">\n",
       "                <thead>\n",
       "                    <tr>\n",
       "                        <td> </td>\n",
       "                        <th> Array </th>\n",
       "                        <th> Chunk </th>\n",
       "                    </tr>\n",
       "                </thead>\n",
       "                <tbody>\n",
       "                    \n",
       "                    <tr>\n",
       "                        <th> Bytes </th>\n",
       "                        <td> 1.53 GiB </td>\n",
       "                        <td> 8.00 MiB </td>\n",
       "                    </tr>\n",
       "                    \n",
       "                    <tr>\n",
       "                        <th> Shape </th>\n",
       "                        <td> (4, 14, 14, 512, 512) </td>\n",
       "                        <td> (1, 2, 2, 512, 512) </td>\n",
       "                    </tr>\n",
       "                    <tr>\n",
       "                        <th> Dask graph </th>\n",
       "                        <td colspan=\"2\"> 196 chunks in 21 graph layers </td>\n",
       "                    </tr>\n",
       "                    <tr>\n",
       "                        <th> Data type </th>\n",
       "                        <td colspan=\"2\"> complex64 numpy.ndarray </td>\n",
       "                    </tr>\n",
       "                </tbody>\n",
       "            </table>\n",
       "        </td>\n",
       "        <td>\n",
       "        <svg width=\"388\" height=\"188\" style=\"stroke:rgb(0,0,0);stroke-width:1\" >\n",
       "\n",
       "  <!-- Horizontal lines -->\n",
       "  <line x1=\"0\" y1=\"0\" x2=\"30\" y2=\"0\" style=\"stroke-width:2\" />\n",
       "  <line x1=\"0\" y1=\"6\" x2=\"30\" y2=\"6\" />\n",
       "  <line x1=\"0\" y1=\"12\" x2=\"30\" y2=\"12\" />\n",
       "  <line x1=\"0\" y1=\"19\" x2=\"30\" y2=\"19\" />\n",
       "  <line x1=\"0\" y1=\"25\" x2=\"30\" y2=\"25\" style=\"stroke-width:2\" />\n",
       "\n",
       "  <!-- Vertical lines -->\n",
       "  <line x1=\"0\" y1=\"0\" x2=\"0\" y2=\"25\" style=\"stroke-width:2\" />\n",
       "  <line x1=\"4\" y1=\"0\" x2=\"4\" y2=\"25\" />\n",
       "  <line x1=\"8\" y1=\"0\" x2=\"8\" y2=\"25\" />\n",
       "  <line x1=\"13\" y1=\"0\" x2=\"13\" y2=\"25\" />\n",
       "  <line x1=\"17\" y1=\"0\" x2=\"17\" y2=\"25\" />\n",
       "  <line x1=\"22\" y1=\"0\" x2=\"22\" y2=\"25\" />\n",
       "  <line x1=\"26\" y1=\"0\" x2=\"26\" y2=\"25\" />\n",
       "  <line x1=\"30\" y1=\"0\" x2=\"30\" y2=\"25\" style=\"stroke-width:2\" />\n",
       "\n",
       "  <!-- Colored Rectangle -->\n",
       "  <polygon points=\"0.0,0.0 30.838522258696894,0.0 30.838522258696894,25.412616514582485 0.0,25.412616514582485\" style=\"fill:#ECB172A0;stroke-width:0\"/>\n",
       "\n",
       "  <!-- Text -->\n",
       "  <text x=\"15.419261\" y=\"45.412617\" font-size=\"1.0rem\" font-weight=\"100\" text-anchor=\"middle\" >14</text>\n",
       "  <text x=\"50.838522\" y=\"12.706308\" font-size=\"1.0rem\" font-weight=\"100\" text-anchor=\"middle\" transform=\"rotate(0,50.838522,12.706308)\">4</text>\n",
       "\n",
       "\n",
       "  <!-- Horizontal lines -->\n",
       "  <line x1=\"100\" y1=\"0\" x2=\"118\" y2=\"18\" style=\"stroke-width:2\" />\n",
       "  <line x1=\"100\" y1=\"120\" x2=\"118\" y2=\"138\" style=\"stroke-width:2\" />\n",
       "\n",
       "  <!-- Vertical lines -->\n",
       "  <line x1=\"100\" y1=\"0\" x2=\"100\" y2=\"120\" style=\"stroke-width:2\" />\n",
       "  <line x1=\"102\" y1=\"2\" x2=\"102\" y2=\"122\" />\n",
       "  <line x1=\"105\" y1=\"5\" x2=\"105\" y2=\"125\" />\n",
       "  <line x1=\"107\" y1=\"7\" x2=\"107\" y2=\"127\" />\n",
       "  <line x1=\"110\" y1=\"10\" x2=\"110\" y2=\"130\" />\n",
       "  <line x1=\"112\" y1=\"12\" x2=\"112\" y2=\"132\" />\n",
       "  <line x1=\"115\" y1=\"15\" x2=\"115\" y2=\"135\" />\n",
       "  <line x1=\"118\" y1=\"18\" x2=\"118\" y2=\"138\" style=\"stroke-width:2\" />\n",
       "\n",
       "  <!-- Colored Rectangle -->\n",
       "  <polygon points=\"100.0,0.0 118.14030721099817,18.140307210998174 118.14030721099817,138.14030721099817 100.0,120.0\" style=\"fill:#ECB172A0;stroke-width:0\"/>\n",
       "\n",
       "  <!-- Horizontal lines -->\n",
       "  <line x1=\"100\" y1=\"0\" x2=\"220\" y2=\"0\" style=\"stroke-width:2\" />\n",
       "  <line x1=\"102\" y1=\"2\" x2=\"222\" y2=\"2\" />\n",
       "  <line x1=\"105\" y1=\"5\" x2=\"225\" y2=\"5\" />\n",
       "  <line x1=\"107\" y1=\"7\" x2=\"227\" y2=\"7\" />\n",
       "  <line x1=\"110\" y1=\"10\" x2=\"230\" y2=\"10\" />\n",
       "  <line x1=\"112\" y1=\"12\" x2=\"232\" y2=\"12\" />\n",
       "  <line x1=\"115\" y1=\"15\" x2=\"235\" y2=\"15\" />\n",
       "  <line x1=\"118\" y1=\"18\" x2=\"238\" y2=\"18\" style=\"stroke-width:2\" />\n",
       "\n",
       "  <!-- Vertical lines -->\n",
       "  <line x1=\"100\" y1=\"0\" x2=\"118\" y2=\"18\" style=\"stroke-width:2\" />\n",
       "  <line x1=\"220\" y1=\"0\" x2=\"238\" y2=\"18\" style=\"stroke-width:2\" />\n",
       "\n",
       "  <!-- Colored Rectangle -->\n",
       "  <polygon points=\"100.0,0.0 220.0,0.0 238.14030721099817,18.140307210998174 118.14030721099817,18.140307210998174\" style=\"fill:#ECB172A0;stroke-width:0\"/>\n",
       "\n",
       "  <!-- Horizontal lines -->\n",
       "  <line x1=\"118\" y1=\"18\" x2=\"238\" y2=\"18\" style=\"stroke-width:2\" />\n",
       "  <line x1=\"118\" y1=\"138\" x2=\"238\" y2=\"138\" style=\"stroke-width:2\" />\n",
       "\n",
       "  <!-- Vertical lines -->\n",
       "  <line x1=\"118\" y1=\"18\" x2=\"118\" y2=\"138\" style=\"stroke-width:2\" />\n",
       "  <line x1=\"238\" y1=\"18\" x2=\"238\" y2=\"138\" style=\"stroke-width:2\" />\n",
       "\n",
       "  <!-- Colored Rectangle -->\n",
       "  <polygon points=\"118.14030721099817,18.140307210998174 238.14030721099817,18.140307210998174 238.14030721099817,138.14030721099817 118.14030721099817,138.14030721099817\" style=\"fill:#ECB172A0;stroke-width:0\"/>\n",
       "\n",
       "  <!-- Text -->\n",
       "  <text x=\"178.140307\" y=\"158.140307\" font-size=\"1.0rem\" font-weight=\"100\" text-anchor=\"middle\" >512</text>\n",
       "  <text x=\"258.140307\" y=\"78.140307\" font-size=\"1.0rem\" font-weight=\"100\" text-anchor=\"middle\" transform=\"rotate(-90,258.140307,78.140307)\">512</text>\n",
       "  <text x=\"99.070154\" y=\"149.070154\" font-size=\"1.0rem\" font-weight=\"100\" text-anchor=\"middle\" transform=\"rotate(45,99.070154,149.070154)\">14</text>\n",
       "</svg>\n",
       "        </td>\n",
       "    </tr>\n",
       "</table>"
      ],
      "text/plain": [
       "dask.array<getitem, shape=(4, 14, 14, 512, 512), dtype=complex64, chunksize=(1, 2, 2, 512, 512), chunktype=numpy.ndarray>"
      ]
     },
     "execution_count": 10,
     "metadata": {},
     "output_type": "execute_result"
    }
   ],
   "source": [
    "exit_waves_stem = probe.multislice(potential, scan=scan, max_batch=4)\n",
    "\n",
    "exit_waves_stem.array"
   ]
  },
  {
   "cell_type": "markdown",
   "id": "28998800-0b81-49f7-b3c6-79aa355cf3dc",
   "metadata": {
    "pycharm": {
     "name": "#%% md\n"
    }
   },
   "source": [
    "The default value of `max_batch` is `\"auto\"`: with this setting the number of wave functions in each batch is determined such that the batch represents approximately `128 MB` of memory, although this number may be changed through the *ab*TEM [configuration](../../reference/config.md).\n",
    "\n",
    "Before computing this task graph, we apply a HAADF detector and calculate the ensemble mean, which reduces the total size of the output to just 900 B. We note that the 1.76 GB ensemble of wave functions never needs to be in memory simulateneously, as each chunk of exit wave functions are reduced immediately after completing the multislice algorithm."
   ]
  },
  {
   "cell_type": "code",
   "execution_count": 11,
   "id": "8664e8b2-4928-4c5e-bd48-fa854a465cec",
   "metadata": {
    "pycharm": {
     "name": "#%%\n"
    }
   },
   "outputs": [
    {
     "data": {
      "text/html": [
       "<table>\n",
       "    <tr>\n",
       "        <td>\n",
       "            <table style=\"border-collapse: collapse;\">\n",
       "                <thead>\n",
       "                    <tr>\n",
       "                        <td> </td>\n",
       "                        <th> Array </th>\n",
       "                        <th> Chunk </th>\n",
       "                    </tr>\n",
       "                </thead>\n",
       "                <tbody>\n",
       "                    \n",
       "                    <tr>\n",
       "                        <th> Bytes </th>\n",
       "                        <td> 784 B </td>\n",
       "                        <td> 16 B </td>\n",
       "                    </tr>\n",
       "                    \n",
       "                    <tr>\n",
       "                        <th> Shape </th>\n",
       "                        <td> (14, 14) </td>\n",
       "                        <td> (2, 2) </td>\n",
       "                    </tr>\n",
       "                    <tr>\n",
       "                        <th> Dask graph </th>\n",
       "                        <td colspan=\"2\"> 49 chunks in 26 graph layers </td>\n",
       "                    </tr>\n",
       "                    <tr>\n",
       "                        <th> Data type </th>\n",
       "                        <td colspan=\"2\"> float32 numpy.ndarray </td>\n",
       "                    </tr>\n",
       "                </tbody>\n",
       "            </table>\n",
       "        </td>\n",
       "        <td>\n",
       "        <svg width=\"170\" height=\"170\" style=\"stroke:rgb(0,0,0);stroke-width:1\" >\n",
       "\n",
       "  <!-- Horizontal lines -->\n",
       "  <line x1=\"0\" y1=\"0\" x2=\"120\" y2=\"0\" style=\"stroke-width:2\" />\n",
       "  <line x1=\"0\" y1=\"17\" x2=\"120\" y2=\"17\" />\n",
       "  <line x1=\"0\" y1=\"34\" x2=\"120\" y2=\"34\" />\n",
       "  <line x1=\"0\" y1=\"51\" x2=\"120\" y2=\"51\" />\n",
       "  <line x1=\"0\" y1=\"68\" x2=\"120\" y2=\"68\" />\n",
       "  <line x1=\"0\" y1=\"85\" x2=\"120\" y2=\"85\" />\n",
       "  <line x1=\"0\" y1=\"102\" x2=\"120\" y2=\"102\" />\n",
       "  <line x1=\"0\" y1=\"120\" x2=\"120\" y2=\"120\" style=\"stroke-width:2\" />\n",
       "\n",
       "  <!-- Vertical lines -->\n",
       "  <line x1=\"0\" y1=\"0\" x2=\"0\" y2=\"120\" style=\"stroke-width:2\" />\n",
       "  <line x1=\"17\" y1=\"0\" x2=\"17\" y2=\"120\" />\n",
       "  <line x1=\"34\" y1=\"0\" x2=\"34\" y2=\"120\" />\n",
       "  <line x1=\"51\" y1=\"0\" x2=\"51\" y2=\"120\" />\n",
       "  <line x1=\"68\" y1=\"0\" x2=\"68\" y2=\"120\" />\n",
       "  <line x1=\"85\" y1=\"0\" x2=\"85\" y2=\"120\" />\n",
       "  <line x1=\"102\" y1=\"0\" x2=\"102\" y2=\"120\" />\n",
       "  <line x1=\"120\" y1=\"0\" x2=\"120\" y2=\"120\" style=\"stroke-width:2\" />\n",
       "\n",
       "  <!-- Colored Rectangle -->\n",
       "  <polygon points=\"0.0,0.0 120.0,0.0 120.0,120.0 0.0,120.0\" style=\"fill:#ECB172A0;stroke-width:0\"/>\n",
       "\n",
       "  <!-- Text -->\n",
       "  <text x=\"60.000000\" y=\"140.000000\" font-size=\"1.0rem\" font-weight=\"100\" text-anchor=\"middle\" >14</text>\n",
       "  <text x=\"140.000000\" y=\"60.000000\" font-size=\"1.0rem\" font-weight=\"100\" text-anchor=\"middle\" transform=\"rotate(0,140.000000,60.000000)\">14</text>\n",
       "</svg>\n",
       "        </td>\n",
       "    </tr>\n",
       "</table>"
      ],
      "text/plain": [
       "dask.array<mean_agg-aggregate, shape=(14, 14), dtype=float32, chunksize=(2, 2), chunktype=numpy.ndarray>"
      ]
     },
     "execution_count": 11,
     "metadata": {},
     "output_type": "execute_result"
    }
   ],
   "source": [
    "detector = abtem.AnnularDetector(inner=65, outer=200)\n",
    "\n",
    "haadf_images = detector.detect(exit_waves_stem).reduce_ensemble()\n",
    "\n",
    "haadf_images.array"
   ]
  },
  {
   "cell_type": "markdown",
   "id": "c8167e51-1e8b-408d-9e08-ad00b6966ad5",
   "metadata": {
    "pycharm": {
     "name": "#%% md\n"
    },
    "tags": []
   },
   "source": [
    "## Schedulers\n",
    "\n",
    "After generating a task graph, it needs to be executed on (parallel) hardware. This is the job of a [task scheduler](https://docs.dask.org/en/stable/scheduler-overview.html). Dask provides several *task schedulers*: each of which will compute a task graph and give the same result, but with different performance characteristics.\n",
    "\n",
    "Every time you call the `compute` method a Dask scheduler is used. We adopt the default Dask scheduler configuration and every keyword argument used with the `compute` method in *ab*TEM is forwarded to the Dask `compute` function. \n",
    "\n",
    "### Local scheduler\n",
    "\n",
    "The default scheduler is the [`ThreadPoolExecutor`](https://docs.dask.org/en/stable/scheduling.html#local-threads). As an example of a keyword argument, the threaded scheduler takes `num_workers`, which sets the number of threads to use (by default, up to the number of computing cores). Let's run compute with 8 workers."
   ]
  },
  {
   "cell_type": "code",
   "execution_count": 12,
   "id": "4c507a96-5a6d-4e55-8775-200f66e26459",
   "metadata": {
    "tags": [
     "skip-test"
    ]
   },
   "outputs": [
    {
     "name": "stdout",
     "output_type": "stream",
     "text": [
      "[########################################] | 100% Completed | 17.27 s\n"
     ]
    },
    {
     "data": {
      "text/plain": [
       "<abtem.measurements.Images at 0x7fcd12d99100>"
      ]
     },
     "execution_count": 12,
     "metadata": {},
     "output_type": "execute_result"
    }
   ],
   "source": [
    "haadf_images = detector.detect(exit_waves_stem).reduce_ensemble()\n",
    "\n",
    "haadf_images.compute(scheduler=\"threads\", num_workers=8)"
   ]
  },
  {
   "cell_type": "markdown",
   "id": "168c4090-255a-4705-85a8-afbf74c6320e",
   "metadata": {},
   "source": [
    "We can change the scheduler to using the `ProcessPoolExecutor` as below.\n",
    "\n",
    "```python\n",
    "haadf_images = detector.detect(exit_waves_stem).compute(scheduler=\"processes\", num_workers=4)\n",
    "```\n",
    "\n",
    "Using `abtem.config.set` the scheduler can be set either as a context manager or globally.\n",
    "```python\n",
    "# As a context manager\n",
    "with abtem.config.set(scheduler=\"processes\"):\n",
    "    haadf_images.compute()\n",
    "\n",
    "# Set globally\n",
    "abtem.config.set(scheduler=\"processes\")\n",
    "haadf_images.compute()\n",
    "```"
   ]
  },
  {
   "cell_type": "markdown",
   "id": "675a4c6c-338c-4c3a-90e2-8ad79ed63dd4",
   "metadata": {},
   "source": [
    "### Profiling"
   ]
  },
  {
   "cell_type": "markdown",
   "id": "945988ec-0d2b-422a-a84c-32f10d5a63af",
   "metadata": {},
   "source": [
    "To improve performance, we have to be able to profile it. Profiling parallel code can be challenging, but Dask provides functionality to aid in this and inspecting execution. The diagnostic tools are however quite different depending on whether you use a local or distributed scheduler.\n",
    "\n",
    "Dask allows local diagnostics by adding callbacks that collect information about your code execution. You can use the profilers as a context manager as described in the [Dask documentation](https://docs.dask.org/en/stable/diagnostics-local.html). For convenience, the *ab*TEM `compute` methods also implement keywords for adding Dask profilers.\n",
    "\n",
    "Below we use the [`Profiler`](https://docs.dask.org/en/stable/diagnostics-local.html#profiler) to monitor task execution by setting `profiler=True` and a [`ResourceProfiler`](https://docs.dask.org/en/stable/diagnostics-local.html#resourceprofiler) to monitor the CPU usage and memory consumption by setting `resource_profiler=True`. We rerun the simulation above with these profilers. "
   ]
  },
  {
   "cell_type": "code",
   "execution_count": 13,
   "id": "56cb3754-6cde-4f83-b058-6014356cefaf",
   "metadata": {
    "tags": [
     "skip-test"
    ]
   },
   "outputs": [
    {
     "name": "stdout",
     "output_type": "stream",
     "text": [
      "[########################################] | 100% Completed | 15.20 s\n"
     ]
    }
   ],
   "source": [
    "haadf_images = detector.detect(exit_waves_stem).reduce_ensemble()\n",
    "\n",
    "haadf_images, profilers = haadf_images.compute(profiler=True, resource_profiler=True)"
   ]
  },
  {
   "cell_type": "markdown",
   "id": "a3b63fd8-4e8b-4842-9c15-2fa8787da397",
   "metadata": {},
   "source": [
    "To display the results Dask uses the [Bokeh plotting library](https://bokeh.org/) (which is installed together with Dask). To display the plots in a Jupyter notebook we need to run the commands below."
   ]
  },
  {
   "cell_type": "markdown",
   "id": "89a100cb-9792-45bb-b855-42b53fb9db83",
   "metadata": {},
   "source": [
    "We first show the result from the `Profiler` object: This shows the execution time for each task as a rectangle, organized along the vertical axis by worker (in this case threads), and where white space represents times the worker was idle. The task types are grouped by color and, by hovering over each task, one can see the key and task that each block represents. For this calculation there is only one significant task shown in yellow; this encompasses building the wave function, running the multislice algorithm (calculating the potential on demand), and calculating and integrating the diffraction patterns. "
   ]
  },
  {
   "cell_type": "code",
   "execution_count": 14,
   "id": "0a420e98-6235-4e01-b079-fe34d913a436",
   "metadata": {
    "tags": [
     "skip-test"
    ]
   },
   "outputs": [
    {
     "data": {
      "text/html": [
       "\n",
       "  <div class=\"bk-root\" id=\"69cc93db-1001-4a93-9219-506ef301049f\" data-root-id=\"1003\"></div>\n"
      ]
     },
     "metadata": {},
     "output_type": "display_data"
    },
    {
     "data": {
      "application/javascript": [
       "(function(root) {\n",
       "  function embed_document(root) {\n",
       "  const docs_json = {\"6c706e33-6fbe-477e-9ff1-b6793f8731d1\":{\"defs\":[],\"roots\":{\"references\":[{\"attributes\":{\"below\":[{\"id\":\"1014\"}],\"center\":[{\"id\":\"1017\"},{\"id\":\"1020\"}],\"height\":300,\"left\":[{\"id\":\"1018\"}],\"renderers\":[{\"id\":\"1037\"}],\"title\":{\"id\":\"1004\"},\"toolbar\":{\"id\":\"1026\"},\"toolbar_location\":\"above\",\"width\":800,\"x_range\":{\"id\":\"1006\"},\"x_scale\":{\"id\":\"1010\"},\"y_range\":{\"id\":\"1008\"},\"y_scale\":{\"id\":\"1012\"}},\"id\":\"1003\",\"subtype\":\"Figure\",\"type\":\"Plot\"},{\"attributes\":{},\"id\":\"1019\",\"type\":\"CategoricalTicker\"},{\"attributes\":{},\"id\":\"1022\",\"type\":\"SaveTool\"},{\"attributes\":{\"axis\":{\"id\":\"1018\"},\"coordinates\":null,\"dimension\":1,\"grid_line_color\":null,\"group\":null,\"ticker\":null},\"id\":\"1020\",\"type\":\"Grid\"},{\"attributes\":{},\"id\":\"1010\",\"type\":\"LinearScale\"},{\"attributes\":{},\"id\":\"1047\",\"type\":\"Selection\"},{\"attributes\":{\"coordinates\":null,\"group\":null,\"text\":\"Profile Results\"},\"id\":\"1004\",\"type\":\"Title\"},{\"attributes\":{\"data\":{\"color\":[\"#3B518A\",\"#3B518A\",\"#3B518A\",\"#3B518A\",\"#440154\",\"#440154\",\"#440154\",\"#440154\",\"#FDE724\",\"#FDE724\",\"#FDE724\",\"#FDE724\",\"#FDE724\",\"#FDE724\",\"#FDE724\",\"#FDE724\",\"#440154\",\"#440154\",\"#440154\",\"#440154\",\"#FDE724\",\"#440154\",\"#440154\",\"#FDE724\",\"#440154\",\"#440154\",\"#FDE724\",\"#FDE724\",\"#FDE724\",\"#5BC862\",\"#FDE724\",\"#5BC862\",\"#FDE724\",\"#208F8C\",\"#FDE724\",\"#440154\",\"#440154\",\"#FDE724\",\"#FDE724\",\"#440154\",\"#440154\",\"#FDE724\",\"#440154\",\"#440154\",\"#440154\",\"#440154\",\"#FDE724\",\"#FDE724\",\"#FDE724\",\"#FDE724\",\"#FDE724\",\"#440154\",\"#440154\",\"#FDE724\",\"#440154\",\"#FDE724\",\"#440154\",\"#FDE724\",\"#440154\",\"#440154\",\"#440154\",\"#FDE724\",\"#440154\",\"#FDE724\",\"#FDE724\",\"#FDE724\",\"#FDE724\",\"#440154\",\"#FDE724\",\"#440154\",\"#FDE724\",\"#440154\",\"#FDE724\",\"#440154\",\"#440154\",\"#440154\",\"#FDE724\",\"#440154\",\"#FDE724\",\"#FDE724\",\"#440154\",\"#FDE724\",\"#FDE724\",\"#440154\",\"#FDE724\",\"#440154\",\"#FDE724\",\"#440154\",\"#440154\",\"#440154\",\"#440154\",\"#440154\",\"#FDE724\",\"#FDE724\",\"#FDE724\",\"#FDE724\",\"#FDE724\",\"#440154\",\"#FDE724\",\"#440154\",\"#440154\",\"#440154\",\"#FDE724\",\"#FDE724\",\"#FDE724\",\"#440154\",\"#FDE724\",\"#440154\",\"#440154\",\"#FDE724\",\"#440154\",\"#FDE724\",\"#440154\",\"#FDE724\",\"#FDE724\",\"#440154\",\"#FDE724\",\"#440154\",\"#FDE724\",\"#440154\",\"#FDE724\",\"#440154\",\"#440154\",\"#440154\",\"#440154\",\"#FDE724\",\"#440154\",\"#FDE724\",\"#FDE724\",\"#FDE724\",\"#FDE724\",\"#440154\",\"#440154\",\"#5BC862\",\"#5BC862\",\"#FDE724\",\"#FDE724\",\"#440154\",\"#440154\",\"#5BC862\",\"#440154\",\"#440154\",\"#440154\",\"#5BC862\",\"#440154\",\"#FDE724\",\"#5BC862\",\"#5BC862\",\"#5BC862\",\"#FDE724\",\"#5BC862\",\"#FDE724\",\"#FDE724\",\"#FDE724\",\"#FDE724\",\"#440154\",\"#440154\",\"#5BC862\",\"#5BC862\",\"#FDE724\",\"#440154\",\"#FDE724\",\"#440154\",\"#440154\",\"#5BC862\",\"#440154\",\"#5BC862\",\"#5BC862\",\"#FDE724\",\"#5BC862\",\"#FDE724\",\"#440154\",\"#FDE724\",\"#FDE724\",\"#5BC862\",\"#FDE724\",\"#440154\",\"#5BC862\",\"#FDE724\",\"#440154\",\"#5BC862\",\"#FDE724\",\"#440154\",\"#440154\",\"#440154\",\"#5BC862\",\"#440154\",\"#5BC862\",\"#5BC862\",\"#FDE724\",\"#5BC862\",\"#FDE724\",\"#FDE724\",\"#440154\",\"#FDE724\",\"#440154\",\"#440154\",\"#5BC862\",\"#5BC862\",\"#5BC862\",\"#FDE724\",\"#FDE724\",\"#FDE724\",\"#440154\",\"#5BC862\",\"#FDE724\",\"#440154\",\"#440154\",\"#5BC862\",\"#440154\",\"#440154\",\"#440154\",\"#5BC862\",\"#FDE724\",\"#440154\",\"#5BC862\",\"#440154\",\"#5BC862\",\"#5BC862\",\"#FDE724\",\"#5BC862\",\"#FDE724\",\"#5BC862\",\"#FDE724\",\"#FDE724\",\"#FDE724\",\"#FDE724\",\"#440154\",\"#5BC862\",\"#FDE724\",\"#440154\",\"#440154\",\"#440154\",\"#5BC862\",\"#5BC862\",\"#5BC862\",\"#FDE724\",\"#FDE724\",\"#440154\",\"#FDE724\",\"#440154\",\"#440154\",\"#5BC862\",\"#5BC862\",\"#440154\",\"#5BC862\",\"#FDE724\",\"#FDE724\",\"#5BC862\",\"#FDE724\",\"#FDE724\",\"#440154\",\"#5BC862\",\"#FDE724\",\"#440154\",\"#5BC862\",\"#FDE724\",\"#440154\",\"#5BC862\",\"#FDE724\",\"#440154\",\"#440154\",\"#440154\",\"#5BC862\",\"#440154\",\"#5BC862\",\"#5BC862\",\"#FDE724\",\"#5BC862\",\"#FDE724\",\"#440154\",\"#FDE724\",\"#FDE724\",\"#5BC862\",\"#FDE724\",\"#440154\",\"#5BC862\",\"#208F8C\",\"#FDE724\",\"#440154\",\"#5BC862\",\"#208F8C\",\"#FDE724\",\"#440154\",\"#FDE724\",\"#440154\",\"#440154\",\"#FDE724\",\"#5BC862\",\"#440154\",\"#208F8C\",\"#440154\",\"#440154\",\"#FDE724\",\"#FDE724\",\"#5BC862\",\"#FDE724\",\"#208F8C\",\"#FDE724\",\"#440154\",\"#FDE724\",\"#440154\",\"#440154\",\"#FDE724\",\"#FDE724\",\"#440154\",\"#FDE724\",\"#440154\",\"#440154\",\"#440154\",\"#440154\",\"#FDE724\",\"#FDE724\",\"#FDE724\",\"#FDE724\",\"#440154\",\"#FDE724\",\"#440154\",\"#FDE724\",\"#440154\",\"#440154\",\"#FDE724\",\"#440154\",\"#FDE724\",\"#440154\",\"#440154\",\"#440154\",\"#FDE724\",\"#FDE724\",\"#FDE724\",\"#FDE724\",\"#440154\",\"#FDE724\",\"#440154\",\"#440154\",\"#FDE724\",\"#FDE724\",\"#440154\",\"#440154\",\"#440154\",\"#440154\",\"#440154\",\"#FDE724\",\"#FDE724\",\"#FDE724\",\"#FDE724\",\"#FDE724\",\"#440154\",\"#FDE724\",\"#440154\",\"#440154\",\"#FDE724\",\"#FDE724\",\"#440154\",\"#440154\",\"#440154\",\"#440154\",\"#FDE724\",\"#FDE724\",\"#FDE724\",\"#FDE724\",\"#440154\",\"#FDE724\",\"#440154\",\"#FDE724\",\"#440154\",\"#440154\",\"#440154\",\"#FDE724\",\"#440154\",\"#440154\",\"#FDE724\",\"#FDE724\",\"#FDE724\",\"#FDE724\",\"#440154\",\"#440154\",\"#FDE724\",\"#FDE724\",\"#440154\",\"#5BC862\",\"#208F8C\",\"#FDE724\",\"#440154\",\"#5BC862\",\"#208F8C\",\"#FDE724\",\"#440154\",\"#440154\",\"#440154\",\"#440154\",\"#5BC862\",\"#440154\",\"#5BC862\",\"#5BC862\",\"#5BC862\",\"#208F8C\",\"#5BC862\",\"#208F8C\",\"#208F8C\",\"#440154\",\"#208F8C\",\"#FDE724\",\"#208F8C\",\"#FDE724\",\"#FDE724\",\"#5BC862\",\"#FDE724\",\"#FDE724\",\"#208F8C\",\"#FDE724\",\"#440154\",\"#5BC862\",\"#208F8C\",\"#FDE724\",\"#440154\",\"#5BC862\",\"#208F8C\",\"#FDE724\",\"#440154\",\"#440154\",\"#5BC862\",\"#5BC862\",\"#208F8C\",\"#208F8C\",\"#FDE724\",\"#FDE724\",\"#440154\",\"#440154\",\"#440154\",\"#440154\",\"#5BC862\",\"#5BC862\",\"#5BC862\",\"#5BC862\",\"#208F8C\",\"#208F8C\",\"#208F8C\",\"#208F8C\",\"#FDE724\",\"#FDE724\",\"#FDE724\",\"#FDE724\",\"#440154\",\"#5BC862\",\"#208F8C\",\"#FDE724\",\"#440154\",\"#5BC862\",\"#440154\",\"#208F8C\",\"#5BC862\",\"#208F8C\",\"#FDE724\",\"#FDE724\",\"#440154\",\"#440154\",\"#440154\",\"#5BC862\",\"#5BC862\",\"#5BC862\",\"#208F8C\",\"#440154\",\"#208F8C\",\"#440154\",\"#208F8C\",\"#FDE724\",\"#5BC862\",\"#FDE724\",\"#5BC862\",\"#FDE724\",\"#208F8C\",\"#208F8C\",\"#FDE724\",\"#FDE724\",\"#440154\",\"#5BC862\",\"#208F8C\",\"#FDE724\",\"#440154\",\"#5BC862\",\"#208F8C\",\"#FDE724\",\"#440154\",\"#5BC862\",\"#440154\",\"#440154\",\"#208F8C\",\"#5BC862\",\"#440154\",\"#5BC862\",\"#440154\",\"#FDE724\",\"#440154\",\"#5BC862\",\"#208F8C\",\"#5BC862\",\"#208F8C\",\"#5BC862\",\"#208F8C\",\"#208F8C\",\"#FDE724\",\"#FDE724\",\"#208F8C\",\"#FDE724\",\"#FDE724\",\"#FDE724\",\"#440154\",\"#5BC862\",\"#208F8C\",\"#FDE724\",\"#440154\",\"#5BC862\",\"#208F8C\",\"#FDE724\",\"#440154\",\"#5BC862\",\"#208F8C\",\"#440154\",\"#FDE724\",\"#5BC862\",\"#440154\",\"#208F8C\",\"#5BC862\",\"#FDE724\",\"#440154\",\"#208F8C\",\"#440154\",\"#440154\",\"#5BC862\",\"#5BC862\",\"#5BC862\",\"#208F8C\",\"#208F8C\",\"#208F8C\",\"#440154\",\"#5BC862\",\"#208F8C\",\"#440154\",\"#5BC862\",\"#440154\",\"#208F8C\",\"#5BC862\",\"#440154\",\"#208F8C\",\"#5BC862\",\"#208F8C\"],\"function\":[\"getitem(_wrap_with_array(..., ...), *)\",\"getitem(_wrap_with_array(..., ...), *)\",\"getitem(_wrap_with_array(..., ...), *)\",\"getitem(_wrap_with_array(..., ...), *)\",\"_\",\"_\",\"_\",\"_\",\"subgraph_callable-9fb4a81f-e1ad-4d07-9fab-b19b69d4(subgraph_callable-6c338919-d37b-48bb-8a67-06559de0(...))\",\"subgraph_callable-9fb4a81f-e1ad-4d07-9fab-b19b69d4(subgraph_callable-6c338919-d37b-48bb-8a67-06559de0(...))\",\"subgraph_callable-9fb4a81f-e1ad-4d07-9fab-b19b69d4(subgraph_callable-6c338919-d37b-48bb-8a67-06559de0(...))\",\"subgraph_callable-9fb4a81f-e1ad-4d07-9fab-b19b69d4(subgraph_callable-6c338919-d37b-48bb-8a67-06559de0(...))\",\"subgraph_callable-9fb4a81f-e1ad-4d07-9fab-b19b69d4(subgraph_callable-6c338919-d37b-48bb-8a67-06559de0(...))\",\"subgraph_callable-9fb4a81f-e1ad-4d07-9fab-b19b69d4(subgraph_callable-6c338919-d37b-48bb-8a67-06559de0(...))\",\"subgraph_callable-9fb4a81f-e1ad-4d07-9fab-b19b69d4(subgraph_callable-6c338919-d37b-48bb-8a67-06559de0(...))\",\"subgraph_callable-9fb4a81f-e1ad-4d07-9fab-b19b69d4(subgraph_callable-6c338919-d37b-48bb-8a67-06559de0(...))\",\"_\",\"_\",\"_\",\"_\",\"subgraph_callable-9fb4a81f-e1ad-4d07-9fab-b19b69d4(subgraph_callable-6c338919-d37b-48bb-8a67-06559de0(...))\",\"_\",\"_\",\"subgraph_callable-9fb4a81f-e1ad-4d07-9fab-b19b69d4(subgraph_callable-6c338919-d37b-48bb-8a67-06559de0(...))\",\"_\",\"_\",\"subgraph_callable-9fb4a81f-e1ad-4d07-9fab-b19b69d4(subgraph_callable-6c338919-d37b-48bb-8a67-06559de0(...))\",\"subgraph_callable-9fb4a81f-e1ad-4d07-9fab-b19b69d4(subgraph_callable-6c338919-d37b-48bb-8a67-06559de0(...))\",\"subgraph_callable-9fb4a81f-e1ad-4d07-9fab-b19b69d4(subgraph_callable-6c338919-d37b-48bb-8a67-06559de0(...))\",\"mean_combine([_, _])\",\"subgraph_callable-9fb4a81f-e1ad-4d07-9fab-b19b69d4(subgraph_callable-6c338919-d37b-48bb-8a67-06559de0(...))\",\"mean_combine([_, _])\",\"subgraph_callable-9fb4a81f-e1ad-4d07-9fab-b19b69d4(subgraph_callable-6c338919-d37b-48bb-8a67-06559de0(...))\",\"mean_agg([_, _])\",\"subgraph_callable-9fb4a81f-e1ad-4d07-9fab-b19b69d4(subgraph_callable-6c338919-d37b-48bb-8a67-06559de0(...))\",\"_\",\"_\",\"subgraph_callable-9fb4a81f-e1ad-4d07-9fab-b19b69d4(subgraph_callable-6c338919-d37b-48bb-8a67-06559de0(...))\",\"subgraph_callable-9fb4a81f-e1ad-4d07-9fab-b19b69d4(subgraph_callable-6c338919-d37b-48bb-8a67-06559de0(...))\",\"_\",\"_\",\"subgraph_callable-9fb4a81f-e1ad-4d07-9fab-b19b69d4(subgraph_callable-6c338919-d37b-48bb-8a67-06559de0(...))\",\"_\",\"_\",\"_\",\"_\",\"subgraph_callable-9fb4a81f-e1ad-4d07-9fab-b19b69d4(subgraph_callable-6c338919-d37b-48bb-8a67-06559de0(...))\",\"subgraph_callable-9fb4a81f-e1ad-4d07-9fab-b19b69d4(subgraph_callable-6c338919-d37b-48bb-8a67-06559de0(...))\",\"subgraph_callable-9fb4a81f-e1ad-4d07-9fab-b19b69d4(subgraph_callable-6c338919-d37b-48bb-8a67-06559de0(...))\",\"subgraph_callable-9fb4a81f-e1ad-4d07-9fab-b19b69d4(subgraph_callable-6c338919-d37b-48bb-8a67-06559de0(...))\",\"subgraph_callable-9fb4a81f-e1ad-4d07-9fab-b19b69d4(subgraph_callable-6c338919-d37b-48bb-8a67-06559de0(...))\",\"_\",\"_\",\"subgraph_callable-9fb4a81f-e1ad-4d07-9fab-b19b69d4(subgraph_callable-6c338919-d37b-48bb-8a67-06559de0(...))\",\"_\",\"subgraph_callable-9fb4a81f-e1ad-4d07-9fab-b19b69d4(subgraph_callable-6c338919-d37b-48bb-8a67-06559de0(...))\",\"_\",\"subgraph_callable-9fb4a81f-e1ad-4d07-9fab-b19b69d4(subgraph_callable-6c338919-d37b-48bb-8a67-06559de0(...))\",\"_\",\"_\",\"_\",\"subgraph_callable-9fb4a81f-e1ad-4d07-9fab-b19b69d4(subgraph_callable-6c338919-d37b-48bb-8a67-06559de0(...))\",\"_\",\"subgraph_callable-9fb4a81f-e1ad-4d07-9fab-b19b69d4(subgraph_callable-6c338919-d37b-48bb-8a67-06559de0(...))\",\"subgraph_callable-9fb4a81f-e1ad-4d07-9fab-b19b69d4(subgraph_callable-6c338919-d37b-48bb-8a67-06559de0(...))\",\"subgraph_callable-9fb4a81f-e1ad-4d07-9fab-b19b69d4(subgraph_callable-6c338919-d37b-48bb-8a67-06559de0(...))\",\"subgraph_callable-9fb4a81f-e1ad-4d07-9fab-b19b69d4(subgraph_callable-6c338919-d37b-48bb-8a67-06559de0(...))\",\"_\",\"subgraph_callable-9fb4a81f-e1ad-4d07-9fab-b19b69d4(subgraph_callable-6c338919-d37b-48bb-8a67-06559de0(...))\",\"_\",\"subgraph_callable-9fb4a81f-e1ad-4d07-9fab-b19b69d4(subgraph_callable-6c338919-d37b-48bb-8a67-06559de0(...))\",\"_\",\"subgraph_callable-9fb4a81f-e1ad-4d07-9fab-b19b69d4(subgraph_callable-6c338919-d37b-48bb-8a67-06559de0(...))\",\"_\",\"_\",\"_\",\"subgraph_callable-9fb4a81f-e1ad-4d07-9fab-b19b69d4(subgraph_callable-6c338919-d37b-48bb-8a67-06559de0(...))\",\"_\",\"subgraph_callable-9fb4a81f-e1ad-4d07-9fab-b19b69d4(subgraph_callable-6c338919-d37b-48bb-8a67-06559de0(...))\",\"subgraph_callable-9fb4a81f-e1ad-4d07-9fab-b19b69d4(subgraph_callable-6c338919-d37b-48bb-8a67-06559de0(...))\",\"_\",\"subgraph_callable-9fb4a81f-e1ad-4d07-9fab-b19b69d4(subgraph_callable-6c338919-d37b-48bb-8a67-06559de0(...))\",\"subgraph_callable-9fb4a81f-e1ad-4d07-9fab-b19b69d4(subgraph_callable-6c338919-d37b-48bb-8a67-06559de0(...))\",\"_\",\"subgraph_callable-9fb4a81f-e1ad-4d07-9fab-b19b69d4(subgraph_callable-6c338919-d37b-48bb-8a67-06559de0(...))\",\"_\",\"subgraph_callable-9fb4a81f-e1ad-4d07-9fab-b19b69d4(subgraph_callable-6c338919-d37b-48bb-8a67-06559de0(...))\",\"_\",\"_\",\"_\",\"_\",\"_\",\"subgraph_callable-9fb4a81f-e1ad-4d07-9fab-b19b69d4(subgraph_callable-6c338919-d37b-48bb-8a67-06559de0(...))\",\"subgraph_callable-9fb4a81f-e1ad-4d07-9fab-b19b69d4(subgraph_callable-6c338919-d37b-48bb-8a67-06559de0(...))\",\"subgraph_callable-9fb4a81f-e1ad-4d07-9fab-b19b69d4(subgraph_callable-6c338919-d37b-48bb-8a67-06559de0(...))\",\"subgraph_callable-9fb4a81f-e1ad-4d07-9fab-b19b69d4(subgraph_callable-6c338919-d37b-48bb-8a67-06559de0(...))\",\"subgraph_callable-9fb4a81f-e1ad-4d07-9fab-b19b69d4(subgraph_callable-6c338919-d37b-48bb-8a67-06559de0(...))\",\"_\",\"subgraph_callable-9fb4a81f-e1ad-4d07-9fab-b19b69d4(subgraph_callable-6c338919-d37b-48bb-8a67-06559de0(...))\",\"_\",\"_\",\"_\",\"subgraph_callable-9fb4a81f-e1ad-4d07-9fab-b19b69d4(subgraph_callable-6c338919-d37b-48bb-8a67-06559de0(...))\",\"subgraph_callable-9fb4a81f-e1ad-4d07-9fab-b19b69d4(subgraph_callable-6c338919-d37b-48bb-8a67-06559de0(...))\",\"subgraph_callable-9fb4a81f-e1ad-4d07-9fab-b19b69d4(subgraph_callable-6c338919-d37b-48bb-8a67-06559de0(...))\",\"_\",\"subgraph_callable-9fb4a81f-e1ad-4d07-9fab-b19b69d4(subgraph_callable-6c338919-d37b-48bb-8a67-06559de0(...))\",\"_\",\"_\",\"subgraph_callable-9fb4a81f-e1ad-4d07-9fab-b19b69d4(subgraph_callable-6c338919-d37b-48bb-8a67-06559de0(...))\",\"_\",\"subgraph_callable-9fb4a81f-e1ad-4d07-9fab-b19b69d4(subgraph_callable-6c338919-d37b-48bb-8a67-06559de0(...))\",\"_\",\"subgraph_callable-9fb4a81f-e1ad-4d07-9fab-b19b69d4(subgraph_callable-6c338919-d37b-48bb-8a67-06559de0(...))\",\"subgraph_callable-9fb4a81f-e1ad-4d07-9fab-b19b69d4(subgraph_callable-6c338919-d37b-48bb-8a67-06559de0(...))\",\"_\",\"subgraph_callable-9fb4a81f-e1ad-4d07-9fab-b19b69d4(subgraph_callable-6c338919-d37b-48bb-8a67-06559de0(...))\",\"_\",\"subgraph_callable-9fb4a81f-e1ad-4d07-9fab-b19b69d4(subgraph_callable-6c338919-d37b-48bb-8a67-06559de0(...))\",\"_\",\"subgraph_callable-9fb4a81f-e1ad-4d07-9fab-b19b69d4(subgraph_callable-6c338919-d37b-48bb-8a67-06559de0(...))\",\"_\",\"_\",\"_\",\"_\",\"subgraph_callable-9fb4a81f-e1ad-4d07-9fab-b19b69d4(subgraph_callable-6c338919-d37b-48bb-8a67-06559de0(...))\",\"_\",\"subgraph_callable-9fb4a81f-e1ad-4d07-9fab-b19b69d4(subgraph_callable-6c338919-d37b-48bb-8a67-06559de0(...))\",\"subgraph_callable-9fb4a81f-e1ad-4d07-9fab-b19b69d4(subgraph_callable-6c338919-d37b-48bb-8a67-06559de0(...))\",\"subgraph_callable-9fb4a81f-e1ad-4d07-9fab-b19b69d4(subgraph_callable-6c338919-d37b-48bb-8a67-06559de0(...))\",\"subgraph_callable-9fb4a81f-e1ad-4d07-9fab-b19b69d4(subgraph_callable-6c338919-d37b-48bb-8a67-06559de0(...))\",\"_\",\"_\",\"mean_combine([_, _])\",\"mean_combine([_, _])\",\"subgraph_callable-9fb4a81f-e1ad-4d07-9fab-b19b69d4(subgraph_callable-6c338919-d37b-48bb-8a67-06559de0(...))\",\"subgraph_callable-9fb4a81f-e1ad-4d07-9fab-b19b69d4(subgraph_callable-6c338919-d37b-48bb-8a67-06559de0(...))\",\"_\",\"_\",\"mean_combine([_, _])\",\"_\",\"_\",\"_\",\"mean_combine([_, _])\",\"_\",\"subgraph_callable-9fb4a81f-e1ad-4d07-9fab-b19b69d4(subgraph_callable-6c338919-d37b-48bb-8a67-06559de0(...))\",\"mean_combine([_, _])\",\"mean_combine([_, _])\",\"mean_combine([_, _])\",\"subgraph_callable-9fb4a81f-e1ad-4d07-9fab-b19b69d4(subgraph_callable-6c338919-d37b-48bb-8a67-06559de0(...))\",\"mean_combine([_, _])\",\"subgraph_callable-9fb4a81f-e1ad-4d07-9fab-b19b69d4(subgraph_callable-6c338919-d37b-48bb-8a67-06559de0(...))\",\"subgraph_callable-9fb4a81f-e1ad-4d07-9fab-b19b69d4(subgraph_callable-6c338919-d37b-48bb-8a67-06559de0(...))\",\"subgraph_callable-9fb4a81f-e1ad-4d07-9fab-b19b69d4(subgraph_callable-6c338919-d37b-48bb-8a67-06559de0(...))\",\"subgraph_callable-9fb4a81f-e1ad-4d07-9fab-b19b69d4(subgraph_callable-6c338919-d37b-48bb-8a67-06559de0(...))\",\"_\",\"_\",\"mean_combine([_, _])\",\"mean_combine([_, _])\",\"subgraph_callable-9fb4a81f-e1ad-4d07-9fab-b19b69d4(subgraph_callable-6c338919-d37b-48bb-8a67-06559de0(...))\",\"_\",\"subgraph_callable-9fb4a81f-e1ad-4d07-9fab-b19b69d4(subgraph_callable-6c338919-d37b-48bb-8a67-06559de0(...))\",\"_\",\"_\",\"mean_combine([_, _])\",\"_\",\"mean_combine([_, _])\",\"mean_combine([_, _])\",\"subgraph_callable-9fb4a81f-e1ad-4d07-9fab-b19b69d4(subgraph_callable-6c338919-d37b-48bb-8a67-06559de0(...))\",\"mean_combine([_, _])\",\"subgraph_callable-9fb4a81f-e1ad-4d07-9fab-b19b69d4(subgraph_callable-6c338919-d37b-48bb-8a67-06559de0(...))\",\"_\",\"subgraph_callable-9fb4a81f-e1ad-4d07-9fab-b19b69d4(subgraph_callable-6c338919-d37b-48bb-8a67-06559de0(...))\",\"subgraph_callable-9fb4a81f-e1ad-4d07-9fab-b19b69d4(subgraph_callable-6c338919-d37b-48bb-8a67-06559de0(...))\",\"mean_combine([_, _])\",\"subgraph_callable-9fb4a81f-e1ad-4d07-9fab-b19b69d4(subgraph_callable-6c338919-d37b-48bb-8a67-06559de0(...))\",\"_\",\"mean_combine([_, _])\",\"subgraph_callable-9fb4a81f-e1ad-4d07-9fab-b19b69d4(subgraph_callable-6c338919-d37b-48bb-8a67-06559de0(...))\",\"_\",\"mean_combine([_, _])\",\"subgraph_callable-9fb4a81f-e1ad-4d07-9fab-b19b69d4(subgraph_callable-6c338919-d37b-48bb-8a67-06559de0(...))\",\"_\",\"_\",\"_\",\"mean_combine([_, _])\",\"_\",\"mean_combine([_, _])\",\"mean_combine([_, _])\",\"subgraph_callable-9fb4a81f-e1ad-4d07-9fab-b19b69d4(subgraph_callable-6c338919-d37b-48bb-8a67-06559de0(...))\",\"mean_combine([_, _])\",\"subgraph_callable-9fb4a81f-e1ad-4d07-9fab-b19b69d4(subgraph_callable-6c338919-d37b-48bb-8a67-06559de0(...))\",\"subgraph_callable-9fb4a81f-e1ad-4d07-9fab-b19b69d4(subgraph_callable-6c338919-d37b-48bb-8a67-06559de0(...))\",\"_\",\"subgraph_callable-9fb4a81f-e1ad-4d07-9fab-b19b69d4(subgraph_callable-6c338919-d37b-48bb-8a67-06559de0(...))\",\"_\",\"_\",\"mean_combine([_, _])\",\"mean_combine([_, _])\",\"mean_combine([_, _])\",\"subgraph_callable-9fb4a81f-e1ad-4d07-9fab-b19b69d4(subgraph_callable-6c338919-d37b-48bb-8a67-06559de0(...))\",\"subgraph_callable-9fb4a81f-e1ad-4d07-9fab-b19b69d4(subgraph_callable-6c338919-d37b-48bb-8a67-06559de0(...))\",\"subgraph_callable-9fb4a81f-e1ad-4d07-9fab-b19b69d4(subgraph_callable-6c338919-d37b-48bb-8a67-06559de0(...))\",\"_\",\"mean_combine([_, _])\",\"subgraph_callable-9fb4a81f-e1ad-4d07-9fab-b19b69d4(subgraph_callable-6c338919-d37b-48bb-8a67-06559de0(...))\",\"_\",\"_\",\"mean_combine([_, _])\",\"_\",\"_\",\"_\",\"mean_combine([_, _])\",\"subgraph_callable-9fb4a81f-e1ad-4d07-9fab-b19b69d4(subgraph_callable-6c338919-d37b-48bb-8a67-06559de0(...))\",\"_\",\"mean_combine([_, _])\",\"_\",\"mean_combine([_, _])\",\"mean_combine([_, _])\",\"subgraph_callable-9fb4a81f-e1ad-4d07-9fab-b19b69d4(subgraph_callable-6c338919-d37b-48bb-8a67-06559de0(...))\",\"mean_combine([_, _])\",\"subgraph_callable-9fb4a81f-e1ad-4d07-9fab-b19b69d4(subgraph_callable-6c338919-d37b-48bb-8a67-06559de0(...))\",\"mean_combine([_, _])\",\"subgraph_callable-9fb4a81f-e1ad-4d07-9fab-b19b69d4(subgraph_callable-6c338919-d37b-48bb-8a67-06559de0(...))\",\"subgraph_callable-9fb4a81f-e1ad-4d07-9fab-b19b69d4(subgraph_callable-6c338919-d37b-48bb-8a67-06559de0(...))\",\"subgraph_callable-9fb4a81f-e1ad-4d07-9fab-b19b69d4(subgraph_callable-6c338919-d37b-48bb-8a67-06559de0(...))\",\"subgraph_callable-9fb4a81f-e1ad-4d07-9fab-b19b69d4(subgraph_callable-6c338919-d37b-48bb-8a67-06559de0(...))\",\"_\",\"mean_combine([_, _])\",\"subgraph_callable-9fb4a81f-e1ad-4d07-9fab-b19b69d4(subgraph_callable-6c338919-d37b-48bb-8a67-06559de0(...))\",\"_\",\"_\",\"_\",\"mean_combine([_, _])\",\"mean_combine([_, _])\",\"mean_combine([_, _])\",\"subgraph_callable-9fb4a81f-e1ad-4d07-9fab-b19b69d4(subgraph_callable-6c338919-d37b-48bb-8a67-06559de0(...))\",\"subgraph_callable-9fb4a81f-e1ad-4d07-9fab-b19b69d4(subgraph_callable-6c338919-d37b-48bb-8a67-06559de0(...))\",\"_\",\"subgraph_callable-9fb4a81f-e1ad-4d07-9fab-b19b69d4(subgraph_callable-6c338919-d37b-48bb-8a67-06559de0(...))\",\"_\",\"_\",\"mean_combine([_, _])\",\"mean_combine([_, _])\",\"_\",\"mean_combine([_, _])\",\"subgraph_callable-9fb4a81f-e1ad-4d07-9fab-b19b69d4(subgraph_callable-6c338919-d37b-48bb-8a67-06559de0(...))\",\"subgraph_callable-9fb4a81f-e1ad-4d07-9fab-b19b69d4(subgraph_callable-6c338919-d37b-48bb-8a67-06559de0(...))\",\"mean_combine([_, _])\",\"subgraph_callable-9fb4a81f-e1ad-4d07-9fab-b19b69d4(subgraph_callable-6c338919-d37b-48bb-8a67-06559de0(...))\",\"subgraph_callable-9fb4a81f-e1ad-4d07-9fab-b19b69d4(subgraph_callable-6c338919-d37b-48bb-8a67-06559de0(...))\",\"_\",\"mean_combine([_, _])\",\"subgraph_callable-9fb4a81f-e1ad-4d07-9fab-b19b69d4(subgraph_callable-6c338919-d37b-48bb-8a67-06559de0(...))\",\"_\",\"mean_combine([_, _])\",\"subgraph_callable-9fb4a81f-e1ad-4d07-9fab-b19b69d4(subgraph_callable-6c338919-d37b-48bb-8a67-06559de0(...))\",\"_\",\"mean_combine([_, _])\",\"subgraph_callable-9fb4a81f-e1ad-4d07-9fab-b19b69d4(subgraph_callable-6c338919-d37b-48bb-8a67-06559de0(...))\",\"_\",\"_\",\"_\",\"mean_combine([_, _])\",\"_\",\"mean_combine([_, _])\",\"mean_combine([_, _])\",\"subgraph_callable-9fb4a81f-e1ad-4d07-9fab-b19b69d4(subgraph_callable-6c338919-d37b-48bb-8a67-06559de0(...))\",\"mean_combine([_, _])\",\"subgraph_callable-9fb4a81f-e1ad-4d07-9fab-b19b69d4(subgraph_callable-6c338919-d37b-48bb-8a67-06559de0(...))\",\"_\",\"subgraph_callable-9fb4a81f-e1ad-4d07-9fab-b19b69d4(subgraph_callable-6c338919-d37b-48bb-8a67-06559de0(...))\",\"subgraph_callable-9fb4a81f-e1ad-4d07-9fab-b19b69d4(subgraph_callable-6c338919-d37b-48bb-8a67-06559de0(...))\",\"mean_combine([_, _])\",\"subgraph_callable-9fb4a81f-e1ad-4d07-9fab-b19b69d4(subgraph_callable-6c338919-d37b-48bb-8a67-06559de0(...))\",\"_\",\"mean_combine([_, _])\",\"mean_agg([_, _])\",\"subgraph_callable-9fb4a81f-e1ad-4d07-9fab-b19b69d4(subgraph_callable-6c338919-d37b-48bb-8a67-06559de0(...))\",\"_\",\"mean_combine([_, _])\",\"mean_agg([_, _])\",\"subgraph_callable-9fb4a81f-e1ad-4d07-9fab-b19b69d4(subgraph_callable-6c338919-d37b-48bb-8a67-06559de0(...))\",\"_\",\"subgraph_callable-9fb4a81f-e1ad-4d07-9fab-b19b69d4(subgraph_callable-6c338919-d37b-48bb-8a67-06559de0(...))\",\"_\",\"_\",\"subgraph_callable-9fb4a81f-e1ad-4d07-9fab-b19b69d4(subgraph_callable-6c338919-d37b-48bb-8a67-06559de0(...))\",\"mean_combine([_, _])\",\"_\",\"mean_agg([_, _])\",\"_\",\"_\",\"subgraph_callable-9fb4a81f-e1ad-4d07-9fab-b19b69d4(subgraph_callable-6c338919-d37b-48bb-8a67-06559de0(...))\",\"subgraph_callable-9fb4a81f-e1ad-4d07-9fab-b19b69d4(subgraph_callable-6c338919-d37b-48bb-8a67-06559de0(...))\",\"mean_combine([_, _])\",\"subgraph_callable-9fb4a81f-e1ad-4d07-9fab-b19b69d4(subgraph_callable-6c338919-d37b-48bb-8a67-06559de0(...))\",\"mean_agg([_, _])\",\"subgraph_callable-9fb4a81f-e1ad-4d07-9fab-b19b69d4(subgraph_callable-6c338919-d37b-48bb-8a67-06559de0(...))\",\"_\",\"subgraph_callable-9fb4a81f-e1ad-4d07-9fab-b19b69d4(subgraph_callable-6c338919-d37b-48bb-8a67-06559de0(...))\",\"_\",\"_\",\"subgraph_callable-9fb4a81f-e1ad-4d07-9fab-b19b69d4(subgraph_callable-6c338919-d37b-48bb-8a67-06559de0(...))\",\"subgraph_callable-9fb4a81f-e1ad-4d07-9fab-b19b69d4(subgraph_callable-6c338919-d37b-48bb-8a67-06559de0(...))\",\"_\",\"subgraph_callable-9fb4a81f-e1ad-4d07-9fab-b19b69d4(subgraph_callable-6c338919-d37b-48bb-8a67-06559de0(...))\",\"_\",\"_\",\"_\",\"_\",\"subgraph_callable-9fb4a81f-e1ad-4d07-9fab-b19b69d4(subgraph_callable-6c338919-d37b-48bb-8a67-06559de0(...))\",\"subgraph_callable-9fb4a81f-e1ad-4d07-9fab-b19b69d4(subgraph_callable-6c338919-d37b-48bb-8a67-06559de0(...))\",\"subgraph_callable-9fb4a81f-e1ad-4d07-9fab-b19b69d4(subgraph_callable-6c338919-d37b-48bb-8a67-06559de0(...))\",\"subgraph_callable-9fb4a81f-e1ad-4d07-9fab-b19b69d4(subgraph_callable-6c338919-d37b-48bb-8a67-06559de0(...))\",\"_\",\"subgraph_callable-9fb4a81f-e1ad-4d07-9fab-b19b69d4(subgraph_callable-6c338919-d37b-48bb-8a67-06559de0(...))\",\"_\",\"subgraph_callable-9fb4a81f-e1ad-4d07-9fab-b19b69d4(subgraph_callable-6c338919-d37b-48bb-8a67-06559de0(...))\",\"_\",\"_\",\"subgraph_callable-9fb4a81f-e1ad-4d07-9fab-b19b69d4(subgraph_callable-6c338919-d37b-48bb-8a67-06559de0(...))\",\"_\",\"subgraph_callable-9fb4a81f-e1ad-4d07-9fab-b19b69d4(subgraph_callable-6c338919-d37b-48bb-8a67-06559de0(...))\",\"_\",\"_\",\"_\",\"subgraph_callable-9fb4a81f-e1ad-4d07-9fab-b19b69d4(subgraph_callable-6c338919-d37b-48bb-8a67-06559de0(...))\",\"subgraph_callable-9fb4a81f-e1ad-4d07-9fab-b19b69d4(subgraph_callable-6c338919-d37b-48bb-8a67-06559de0(...))\",\"subgraph_callable-9fb4a81f-e1ad-4d07-9fab-b19b69d4(subgraph_callable-6c338919-d37b-48bb-8a67-06559de0(...))\",\"subgraph_callable-9fb4a81f-e1ad-4d07-9fab-b19b69d4(subgraph_callable-6c338919-d37b-48bb-8a67-06559de0(...))\",\"_\",\"subgraph_callable-9fb4a81f-e1ad-4d07-9fab-b19b69d4(subgraph_callable-6c338919-d37b-48bb-8a67-06559de0(...))\",\"_\",\"_\",\"subgraph_callable-9fb4a81f-e1ad-4d07-9fab-b19b69d4(subgraph_callable-6c338919-d37b-48bb-8a67-06559de0(...))\",\"subgraph_callable-9fb4a81f-e1ad-4d07-9fab-b19b69d4(subgraph_callable-6c338919-d37b-48bb-8a67-06559de0(...))\",\"_\",\"_\",\"_\",\"_\",\"_\",\"subgraph_callable-9fb4a81f-e1ad-4d07-9fab-b19b69d4(subgraph_callable-6c338919-d37b-48bb-8a67-06559de0(...))\",\"subgraph_callable-9fb4a81f-e1ad-4d07-9fab-b19b69d4(subgraph_callable-6c338919-d37b-48bb-8a67-06559de0(...))\",\"subgraph_callable-9fb4a81f-e1ad-4d07-9fab-b19b69d4(subgraph_callable-6c338919-d37b-48bb-8a67-06559de0(...))\",\"subgraph_callable-9fb4a81f-e1ad-4d07-9fab-b19b69d4(subgraph_callable-6c338919-d37b-48bb-8a67-06559de0(...))\",\"subgraph_callable-9fb4a81f-e1ad-4d07-9fab-b19b69d4(subgraph_callable-6c338919-d37b-48bb-8a67-06559de0(...))\",\"_\",\"subgraph_callable-9fb4a81f-e1ad-4d07-9fab-b19b69d4(subgraph_callable-6c338919-d37b-48bb-8a67-06559de0(...))\",\"_\",\"_\",\"subgraph_callable-9fb4a81f-e1ad-4d07-9fab-b19b69d4(subgraph_callable-6c338919-d37b-48bb-8a67-06559de0(...))\",\"subgraph_callable-9fb4a81f-e1ad-4d07-9fab-b19b69d4(subgraph_callable-6c338919-d37b-48bb-8a67-06559de0(...))\",\"_\",\"_\",\"_\",\"_\",\"subgraph_callable-9fb4a81f-e1ad-4d07-9fab-b19b69d4(subgraph_callable-6c338919-d37b-48bb-8a67-06559de0(...))\",\"subgraph_callable-9fb4a81f-e1ad-4d07-9fab-b19b69d4(subgraph_callable-6c338919-d37b-48bb-8a67-06559de0(...))\",\"subgraph_callable-9fb4a81f-e1ad-4d07-9fab-b19b69d4(subgraph_callable-6c338919-d37b-48bb-8a67-06559de0(...))\",\"subgraph_callable-9fb4a81f-e1ad-4d07-9fab-b19b69d4(subgraph_callable-6c338919-d37b-48bb-8a67-06559de0(...))\",\"_\",\"subgraph_callable-9fb4a81f-e1ad-4d07-9fab-b19b69d4(subgraph_callable-6c338919-d37b-48bb-8a67-06559de0(...))\",\"_\",\"subgraph_callable-9fb4a81f-e1ad-4d07-9fab-b19b69d4(subgraph_callable-6c338919-d37b-48bb-8a67-06559de0(...))\",\"_\",\"_\",\"_\",\"subgraph_callable-9fb4a81f-e1ad-4d07-9fab-b19b69d4(subgraph_callable-6c338919-d37b-48bb-8a67-06559de0(...))\",\"_\",\"_\",\"subgraph_callable-9fb4a81f-e1ad-4d07-9fab-b19b69d4(subgraph_callable-6c338919-d37b-48bb-8a67-06559de0(...))\",\"subgraph_callable-9fb4a81f-e1ad-4d07-9fab-b19b69d4(subgraph_callable-6c338919-d37b-48bb-8a67-06559de0(...))\",\"subgraph_callable-9fb4a81f-e1ad-4d07-9fab-b19b69d4(subgraph_callable-6c338919-d37b-48bb-8a67-06559de0(...))\",\"subgraph_callable-9fb4a81f-e1ad-4d07-9fab-b19b69d4(subgraph_callable-6c338919-d37b-48bb-8a67-06559de0(...))\",\"_\",\"_\",\"subgraph_callable-9fb4a81f-e1ad-4d07-9fab-b19b69d4(subgraph_callable-6c338919-d37b-48bb-8a67-06559de0(...))\",\"subgraph_callable-9fb4a81f-e1ad-4d07-9fab-b19b69d4(subgraph_callable-6c338919-d37b-48bb-8a67-06559de0(...))\",\"_\",\"mean_combine([_, _])\",\"mean_agg([_, _])\",\"subgraph_callable-9fb4a81f-e1ad-4d07-9fab-b19b69d4(subgraph_callable-6c338919-d37b-48bb-8a67-06559de0(...))\",\"_\",\"mean_combine([_, _])\",\"mean_agg([_, _])\",\"subgraph_callable-9fb4a81f-e1ad-4d07-9fab-b19b69d4(subgraph_callable-6c338919-d37b-48bb-8a67-06559de0(...))\",\"_\",\"_\",\"_\",\"_\",\"mean_combine([_, _])\",\"_\",\"mean_combine([_, _])\",\"mean_combine([_, _])\",\"mean_combine([_, _])\",\"mean_agg([_, _])\",\"mean_combine([_, _])\",\"mean_agg([_, _])\",\"mean_agg([_, _])\",\"_\",\"mean_agg([_, _])\",\"subgraph_callable-9fb4a81f-e1ad-4d07-9fab-b19b69d4(subgraph_callable-6c338919-d37b-48bb-8a67-06559de0(...))\",\"mean_agg([_, _])\",\"subgraph_callable-9fb4a81f-e1ad-4d07-9fab-b19b69d4(subgraph_callable-6c338919-d37b-48bb-8a67-06559de0(...))\",\"subgraph_callable-9fb4a81f-e1ad-4d07-9fab-b19b69d4(subgraph_callable-6c338919-d37b-48bb-8a67-06559de0(...))\",\"mean_combine([_, _])\",\"subgraph_callable-9fb4a81f-e1ad-4d07-9fab-b19b69d4(subgraph_callable-6c338919-d37b-48bb-8a67-06559de0(...))\",\"subgraph_callable-9fb4a81f-e1ad-4d07-9fab-b19b69d4(subgraph_callable-6c338919-d37b-48bb-8a67-06559de0(...))\",\"mean_agg([_, _])\",\"subgraph_callable-9fb4a81f-e1ad-4d07-9fab-b19b69d4(subgraph_callable-6c338919-d37b-48bb-8a67-06559de0(...))\",\"_\",\"mean_combine([_, _])\",\"mean_agg([_, _])\",\"subgraph_callable-9fb4a81f-e1ad-4d07-9fab-b19b69d4(subgraph_callable-6c338919-d37b-48bb-8a67-06559de0(...))\",\"_\",\"mean_combine([_, _])\",\"mean_agg([_, _])\",\"subgraph_callable-9fb4a81f-e1ad-4d07-9fab-b19b69d4(subgraph_callable-6c338919-d37b-48bb-8a67-06559de0(...))\",\"_\",\"_\",\"mean_combine([_, _])\",\"mean_combine([_, _])\",\"mean_agg([_, _])\",\"mean_agg([_, _])\",\"subgraph_callable-9fb4a81f-e1ad-4d07-9fab-b19b69d4(subgraph_callable-6c338919-d37b-48bb-8a67-06559de0(...))\",\"subgraph_callable-9fb4a81f-e1ad-4d07-9fab-b19b69d4(subgraph_callable-6c338919-d37b-48bb-8a67-06559de0(...))\",\"_\",\"_\",\"_\",\"_\",\"mean_combine([_, _])\",\"mean_combine([_, _])\",\"mean_combine([_, _])\",\"mean_combine([_, _])\",\"mean_agg([_, _])\",\"mean_agg([_, _])\",\"mean_agg([_, _])\",\"mean_agg([_, _])\",\"subgraph_callable-9fb4a81f-e1ad-4d07-9fab-b19b69d4(subgraph_callable-6c338919-d37b-48bb-8a67-06559de0(...))\",\"subgraph_callable-9fb4a81f-e1ad-4d07-9fab-b19b69d4(subgraph_callable-6c338919-d37b-48bb-8a67-06559de0(...))\",\"subgraph_callable-9fb4a81f-e1ad-4d07-9fab-b19b69d4(subgraph_callable-6c338919-d37b-48bb-8a67-06559de0(...))\",\"subgraph_callable-9fb4a81f-e1ad-4d07-9fab-b19b69d4(subgraph_callable-6c338919-d37b-48bb-8a67-06559de0(...))\",\"_\",\"mean_combine([_, _])\",\"mean_agg([_, _])\",\"subgraph_callable-9fb4a81f-e1ad-4d07-9fab-b19b69d4(subgraph_callable-6c338919-d37b-48bb-8a67-06559de0(...))\",\"_\",\"mean_combine([_, _])\",\"_\",\"mean_agg([_, _])\",\"mean_combine([_, _])\",\"mean_agg([_, _])\",\"subgraph_callable-9fb4a81f-e1ad-4d07-9fab-b19b69d4(subgraph_callable-6c338919-d37b-48bb-8a67-06559de0(...))\",\"subgraph_callable-9fb4a81f-e1ad-4d07-9fab-b19b69d4(subgraph_callable-6c338919-d37b-48bb-8a67-06559de0(...))\",\"_\",\"_\",\"_\",\"mean_combine([_, _])\",\"mean_combine([_, _])\",\"mean_combine([_, _])\",\"mean_agg([_, _])\",\"_\",\"mean_agg([_, _])\",\"_\",\"mean_agg([_, _])\",\"subgraph_callable-9fb4a81f-e1ad-4d07-9fab-b19b69d4(subgraph_callable-6c338919-d37b-48bb-8a67-06559de0(...))\",\"mean_combine([_, _])\",\"subgraph_callable-9fb4a81f-e1ad-4d07-9fab-b19b69d4(subgraph_callable-6c338919-d37b-48bb-8a67-06559de0(...))\",\"mean_combine([_, _])\",\"subgraph_callable-9fb4a81f-e1ad-4d07-9fab-b19b69d4(subgraph_callable-6c338919-d37b-48bb-8a67-06559de0(...))\",\"mean_agg([_, _])\",\"mean_agg([_, _])\",\"subgraph_callable-9fb4a81f-e1ad-4d07-9fab-b19b69d4(subgraph_callable-6c338919-d37b-48bb-8a67-06559de0(...))\",\"subgraph_callable-9fb4a81f-e1ad-4d07-9fab-b19b69d4(subgraph_callable-6c338919-d37b-48bb-8a67-06559de0(...))\",\"_\",\"mean_combine([_, _])\",\"mean_agg([_, _])\",\"subgraph_callable-9fb4a81f-e1ad-4d07-9fab-b19b69d4(subgraph_callable-6c338919-d37b-48bb-8a67-06559de0(...))\",\"_\",\"mean_combine([_, _])\",\"mean_agg([_, _])\",\"subgraph_callable-9fb4a81f-e1ad-4d07-9fab-b19b69d4(subgraph_callable-6c338919-d37b-48bb-8a67-06559de0(...))\",\"_\",\"mean_combine([_, _])\",\"_\",\"_\",\"mean_agg([_, _])\",\"mean_combine([_, _])\",\"_\",\"mean_combine([_, _])\",\"_\",\"subgraph_callable-9fb4a81f-e1ad-4d07-9fab-b19b69d4(subgraph_callable-6c338919-d37b-48bb-8a67-06559de0(...))\",\"_\",\"mean_combine([_, _])\",\"mean_agg([_, _])\",\"mean_combine([_, _])\",\"mean_agg([_, _])\",\"mean_combine([_, _])\",\"mean_agg([_, _])\",\"mean_agg([_, _])\",\"subgraph_callable-9fb4a81f-e1ad-4d07-9fab-b19b69d4(subgraph_callable-6c338919-d37b-48bb-8a67-06559de0(...))\",\"subgraph_callable-9fb4a81f-e1ad-4d07-9fab-b19b69d4(subgraph_callable-6c338919-d37b-48bb-8a67-06559de0(...))\",\"mean_agg([_, _])\",\"subgraph_callable-9fb4a81f-e1ad-4d07-9fab-b19b69d4(subgraph_callable-6c338919-d37b-48bb-8a67-06559de0(...))\",\"subgraph_callable-9fb4a81f-e1ad-4d07-9fab-b19b69d4(subgraph_callable-6c338919-d37b-48bb-8a67-06559de0(...))\",\"subgraph_callable-9fb4a81f-e1ad-4d07-9fab-b19b69d4(subgraph_callable-6c338919-d37b-48bb-8a67-06559de0(...))\",\"_\",\"mean_combine([_, _])\",\"mean_agg([_, _])\",\"subgraph_callable-9fb4a81f-e1ad-4d07-9fab-b19b69d4(subgraph_callable-6c338919-d37b-48bb-8a67-06559de0(...))\",\"_\",\"mean_combine([_, _])\",\"mean_agg([_, _])\",\"subgraph_callable-9fb4a81f-e1ad-4d07-9fab-b19b69d4(subgraph_callable-6c338919-d37b-48bb-8a67-06559de0(...))\",\"_\",\"mean_combine([_, _])\",\"mean_agg([_, _])\",\"_\",\"subgraph_callable-9fb4a81f-e1ad-4d07-9fab-b19b69d4(subgraph_callable-6c338919-d37b-48bb-8a67-06559de0(...))\",\"mean_combine([_, _])\",\"_\",\"mean_agg([_, _])\",\"mean_combine([_, _])\",\"subgraph_callable-9fb4a81f-e1ad-4d07-9fab-b19b69d4(subgraph_callable-6c338919-d37b-48bb-8a67-06559de0(...))\",\"_\",\"mean_agg([_, _])\",\"_\",\"_\",\"mean_combine([_, _])\",\"mean_combine([_, _])\",\"mean_combine([_, _])\",\"mean_agg([_, _])\",\"mean_agg([_, _])\",\"mean_agg([_, _])\",\"_\",\"mean_combine([_, _])\",\"mean_agg([_, _])\",\"_\",\"mean_combine([_, _])\",\"_\",\"mean_agg([_, _])\",\"mean_combine([_, _])\",\"_\",\"mean_agg([_, _])\",\"mean_combine([_, _])\",\"mean_agg([_, _])\"],\"key\":[\"('concatenate-from-value-wrap_with_array-getitem-4e62ff6f149c2ee49a43202f40966941', 3, 0)\",\"('concatenate-from-value-wrap_with_array-getitem-4e62ff6f149c2ee49a43202f40966941', 2, 0)\",\"('concatenate-from-value-wrap_with_array-getitem-4e62ff6f149c2ee49a43202f40966941', 0, 0)\",\"('concatenate-from-value-wrap_with_array-getitem-4e62ff6f149c2ee49a43202f40966941', 1, 0)\",\"('getitem-4e62ff6f149c2ee49a43202f40966941', 3, 0)\",\"('getitem-4e62ff6f149c2ee49a43202f40966941', 2, 0)\",\"('getitem-4e62ff6f149c2ee49a43202f40966941', 0, 0)\",\"('getitem-4e62ff6f149c2ee49a43202f40966941', 1, 0)\",\"('apply_transform-diffraction_pattern-getitem-integrate_fourier_space-mean_chunk-7c9ad2ef375ffd501fe93b18f6994048', 3, 0, 0)\",\"('apply_transform-diffraction_pattern-getitem-integrate_fourier_space-mean_chunk-7c9ad2ef375ffd501fe93b18f6994048', 3, 1, 1)\",\"('apply_transform-diffraction_pattern-getitem-integrate_fourier_space-mean_chunk-7c9ad2ef375ffd501fe93b18f6994048', 3, 2, 2)\",\"('apply_transform-diffraction_pattern-getitem-integrate_fourier_space-mean_chunk-7c9ad2ef375ffd501fe93b18f6994048', 3, 3, 3)\",\"('apply_transform-diffraction_pattern-getitem-integrate_fourier_space-mean_chunk-7c9ad2ef375ffd501fe93b18f6994048', 3, 4, 4)\",\"('apply_transform-diffraction_pattern-getitem-integrate_fourier_space-mean_chunk-7c9ad2ef375ffd501fe93b18f6994048', 2, 0, 0)\",\"('apply_transform-diffraction_pattern-getitem-integrate_fourier_space-mean_chunk-7c9ad2ef375ffd501fe93b18f6994048', 0, 0, 0)\",\"('apply_transform-diffraction_pattern-getitem-integrate_fourier_space-mean_chunk-7c9ad2ef375ffd501fe93b18f6994048', 1, 0, 0)\",\"('mean_chunk-7c9ad2ef375ffd501fe93b18f6994048', 3, 3, 3)\",\"('mean_chunk-7c9ad2ef375ffd501fe93b18f6994048', 3, 0, 0)\",\"('mean_chunk-7c9ad2ef375ffd501fe93b18f6994048', 3, 1, 1)\",\"('mean_chunk-7c9ad2ef375ffd501fe93b18f6994048', 3, 2, 2)\",\"('apply_transform-diffraction_pattern-getitem-integrate_fourier_space-mean_chunk-7c9ad2ef375ffd501fe93b18f6994048', 1, 1, 1)\",\"('mean_chunk-7c9ad2ef375ffd501fe93b18f6994048', 1, 0, 0)\",\"('mean_chunk-7c9ad2ef375ffd501fe93b18f6994048', 0, 0, 0)\",\"('apply_transform-diffraction_pattern-getitem-integrate_fourier_space-mean_chunk-7c9ad2ef375ffd501fe93b18f6994048', 1, 2, 2)\",\"('mean_chunk-7c9ad2ef375ffd501fe93b18f6994048', 3, 4, 4)\",\"('mean_chunk-7c9ad2ef375ffd501fe93b18f6994048', 2, 0, 0)\",\"('apply_transform-diffraction_pattern-getitem-integrate_fourier_space-mean_chunk-7c9ad2ef375ffd501fe93b18f6994048', 1, 3, 3)\",\"('apply_transform-diffraction_pattern-getitem-integrate_fourier_space-mean_chunk-7c9ad2ef375ffd501fe93b18f6994048', 1, 4, 4)\",\"('apply_transform-diffraction_pattern-getitem-integrate_fourier_space-mean_chunk-7c9ad2ef375ffd501fe93b18f6994048', 1, 5, 5)\",\"('mean_combine-partial-9a2d39d18184aa744afb7843e479c400', 0, 0, 0)\",\"('apply_transform-diffraction_pattern-getitem-integrate_fourier_space-mean_chunk-7c9ad2ef375ffd501fe93b18f6994048', 1, 6, 6)\",\"('mean_combine-partial-9a2d39d18184aa744afb7843e479c400', 1, 0, 0)\",\"('apply_transform-diffraction_pattern-getitem-integrate_fourier_space-mean_chunk-7c9ad2ef375ffd501fe93b18f6994048', 1, 0, 1)\",\"('mean_agg-aggregate-99b644f5d4d8d2407956303a853d4e86', 0, 0)\",\"('apply_transform-diffraction_pattern-getitem-integrate_fourier_space-mean_chunk-7c9ad2ef375ffd501fe93b18f6994048', 1, 0, 2)\",\"('mean_chunk-7c9ad2ef375ffd501fe93b18f6994048', 1, 5, 5)\",\"('mean_chunk-7c9ad2ef375ffd501fe93b18f6994048', 1, 1, 1)\",\"('apply_transform-diffraction_pattern-getitem-integrate_fourier_space-mean_chunk-7c9ad2ef375ffd501fe93b18f6994048', 1, 0, 3)\",\"('apply_transform-diffraction_pattern-getitem-integrate_fourier_space-mean_chunk-7c9ad2ef375ffd501fe93b18f6994048', 1, 0, 4)\",\"('mean_chunk-7c9ad2ef375ffd501fe93b18f6994048', 1, 6, 6)\",\"('mean_chunk-7c9ad2ef375ffd501fe93b18f6994048', 1, 2, 2)\",\"('apply_transform-diffraction_pattern-getitem-integrate_fourier_space-mean_chunk-7c9ad2ef375ffd501fe93b18f6994048', 1, 0, 5)\",\"('mean_chunk-7c9ad2ef375ffd501fe93b18f6994048', 1, 0, 2)\",\"('mean_chunk-7c9ad2ef375ffd501fe93b18f6994048', 1, 0, 1)\",\"('mean_chunk-7c9ad2ef375ffd501fe93b18f6994048', 1, 4, 4)\",\"('mean_chunk-7c9ad2ef375ffd501fe93b18f6994048', 1, 3, 3)\",\"('apply_transform-diffraction_pattern-getitem-integrate_fourier_space-mean_chunk-7c9ad2ef375ffd501fe93b18f6994048', 1, 0, 6)\",\"('apply_transform-diffraction_pattern-getitem-integrate_fourier_space-mean_chunk-7c9ad2ef375ffd501fe93b18f6994048', 1, 1, 0)\",\"('apply_transform-diffraction_pattern-getitem-integrate_fourier_space-mean_chunk-7c9ad2ef375ffd501fe93b18f6994048', 1, 1, 2)\",\"('apply_transform-diffraction_pattern-getitem-integrate_fourier_space-mean_chunk-7c9ad2ef375ffd501fe93b18f6994048', 1, 1, 3)\",\"('apply_transform-diffraction_pattern-getitem-integrate_fourier_space-mean_chunk-7c9ad2ef375ffd501fe93b18f6994048', 1, 1, 4)\",\"('mean_chunk-7c9ad2ef375ffd501fe93b18f6994048', 1, 0, 4)\",\"('mean_chunk-7c9ad2ef375ffd501fe93b18f6994048', 1, 1, 2)\",\"('apply_transform-diffraction_pattern-getitem-integrate_fourier_space-mean_chunk-7c9ad2ef375ffd501fe93b18f6994048', 1, 1, 5)\",\"('mean_chunk-7c9ad2ef375ffd501fe93b18f6994048', 1, 1, 4)\",\"('apply_transform-diffraction_pattern-getitem-integrate_fourier_space-mean_chunk-7c9ad2ef375ffd501fe93b18f6994048', 1, 1, 6)\",\"('mean_chunk-7c9ad2ef375ffd501fe93b18f6994048', 1, 1, 3)\",\"('apply_transform-diffraction_pattern-getitem-integrate_fourier_space-mean_chunk-7c9ad2ef375ffd501fe93b18f6994048', 1, 2, 0)\",\"('mean_chunk-7c9ad2ef375ffd501fe93b18f6994048', 1, 0, 3)\",\"('mean_chunk-7c9ad2ef375ffd501fe93b18f6994048', 1, 0, 5)\",\"('mean_chunk-7c9ad2ef375ffd501fe93b18f6994048', 1, 1, 0)\",\"('apply_transform-diffraction_pattern-getitem-integrate_fourier_space-mean_chunk-7c9ad2ef375ffd501fe93b18f6994048', 1, 2, 1)\",\"('mean_chunk-7c9ad2ef375ffd501fe93b18f6994048', 1, 0, 6)\",\"('apply_transform-diffraction_pattern-getitem-integrate_fourier_space-mean_chunk-7c9ad2ef375ffd501fe93b18f6994048', 1, 2, 3)\",\"('apply_transform-diffraction_pattern-getitem-integrate_fourier_space-mean_chunk-7c9ad2ef375ffd501fe93b18f6994048', 1, 2, 4)\",\"('apply_transform-diffraction_pattern-getitem-integrate_fourier_space-mean_chunk-7c9ad2ef375ffd501fe93b18f6994048', 1, 2, 5)\",\"('apply_transform-diffraction_pattern-getitem-integrate_fourier_space-mean_chunk-7c9ad2ef375ffd501fe93b18f6994048', 1, 2, 6)\",\"('mean_chunk-7c9ad2ef375ffd501fe93b18f6994048', 1, 1, 5)\",\"('apply_transform-diffraction_pattern-getitem-integrate_fourier_space-mean_chunk-7c9ad2ef375ffd501fe93b18f6994048', 1, 3, 0)\",\"('mean_chunk-7c9ad2ef375ffd501fe93b18f6994048', 1, 2, 0)\",\"('apply_transform-diffraction_pattern-getitem-integrate_fourier_space-mean_chunk-7c9ad2ef375ffd501fe93b18f6994048', 1, 3, 1)\",\"('mean_chunk-7c9ad2ef375ffd501fe93b18f6994048', 1, 2, 3)\",\"('apply_transform-diffraction_pattern-getitem-integrate_fourier_space-mean_chunk-7c9ad2ef375ffd501fe93b18f6994048', 1, 3, 2)\",\"('mean_chunk-7c9ad2ef375ffd501fe93b18f6994048', 1, 2, 4)\",\"('mean_chunk-7c9ad2ef375ffd501fe93b18f6994048', 1, 2, 1)\",\"('mean_chunk-7c9ad2ef375ffd501fe93b18f6994048', 1, 1, 6)\",\"('apply_transform-diffraction_pattern-getitem-integrate_fourier_space-mean_chunk-7c9ad2ef375ffd501fe93b18f6994048', 1, 3, 4)\",\"('mean_chunk-7c9ad2ef375ffd501fe93b18f6994048', 1, 2, 6)\",\"('apply_transform-diffraction_pattern-getitem-integrate_fourier_space-mean_chunk-7c9ad2ef375ffd501fe93b18f6994048', 1, 3, 5)\",\"('apply_transform-diffraction_pattern-getitem-integrate_fourier_space-mean_chunk-7c9ad2ef375ffd501fe93b18f6994048', 1, 3, 6)\",\"('mean_chunk-7c9ad2ef375ffd501fe93b18f6994048', 1, 2, 5)\",\"('apply_transform-diffraction_pattern-getitem-integrate_fourier_space-mean_chunk-7c9ad2ef375ffd501fe93b18f6994048', 1, 4, 0)\",\"('apply_transform-diffraction_pattern-getitem-integrate_fourier_space-mean_chunk-7c9ad2ef375ffd501fe93b18f6994048', 1, 4, 1)\",\"('mean_chunk-7c9ad2ef375ffd501fe93b18f6994048', 1, 3, 6)\",\"('apply_transform-diffraction_pattern-getitem-integrate_fourier_space-mean_chunk-7c9ad2ef375ffd501fe93b18f6994048', 1, 4, 2)\",\"('mean_chunk-7c9ad2ef375ffd501fe93b18f6994048', 1, 3, 4)\",\"('apply_transform-diffraction_pattern-getitem-integrate_fourier_space-mean_chunk-7c9ad2ef375ffd501fe93b18f6994048', 1, 4, 3)\",\"('mean_chunk-7c9ad2ef375ffd501fe93b18f6994048', 1, 3, 5)\",\"('mean_chunk-7c9ad2ef375ffd501fe93b18f6994048', 1, 4, 0)\",\"('mean_chunk-7c9ad2ef375ffd501fe93b18f6994048', 1, 3, 0)\",\"('mean_chunk-7c9ad2ef375ffd501fe93b18f6994048', 1, 3, 1)\",\"('mean_chunk-7c9ad2ef375ffd501fe93b18f6994048', 1, 3, 2)\",\"('apply_transform-diffraction_pattern-getitem-integrate_fourier_space-mean_chunk-7c9ad2ef375ffd501fe93b18f6994048', 1, 4, 5)\",\"('apply_transform-diffraction_pattern-getitem-integrate_fourier_space-mean_chunk-7c9ad2ef375ffd501fe93b18f6994048', 1, 4, 6)\",\"('apply_transform-diffraction_pattern-getitem-integrate_fourier_space-mean_chunk-7c9ad2ef375ffd501fe93b18f6994048', 1, 5, 0)\",\"('apply_transform-diffraction_pattern-getitem-integrate_fourier_space-mean_chunk-7c9ad2ef375ffd501fe93b18f6994048', 1, 5, 1)\",\"('apply_transform-diffraction_pattern-getitem-integrate_fourier_space-mean_chunk-7c9ad2ef375ffd501fe93b18f6994048', 1, 5, 2)\",\"('mean_chunk-7c9ad2ef375ffd501fe93b18f6994048', 1, 4, 1)\",\"('apply_transform-diffraction_pattern-getitem-integrate_fourier_space-mean_chunk-7c9ad2ef375ffd501fe93b18f6994048', 1, 5, 3)\",\"('mean_chunk-7c9ad2ef375ffd501fe93b18f6994048', 1, 4, 2)\",\"('mean_chunk-7c9ad2ef375ffd501fe93b18f6994048', 1, 4, 6)\",\"('mean_chunk-7c9ad2ef375ffd501fe93b18f6994048', 1, 4, 3)\",\"('apply_transform-diffraction_pattern-getitem-integrate_fourier_space-mean_chunk-7c9ad2ef375ffd501fe93b18f6994048', 1, 5, 4)\",\"('apply_transform-diffraction_pattern-getitem-integrate_fourier_space-mean_chunk-7c9ad2ef375ffd501fe93b18f6994048', 1, 5, 6)\",\"('apply_transform-diffraction_pattern-getitem-integrate_fourier_space-mean_chunk-7c9ad2ef375ffd501fe93b18f6994048', 1, 6, 0)\",\"('mean_chunk-7c9ad2ef375ffd501fe93b18f6994048', 1, 5, 0)\",\"('apply_transform-diffraction_pattern-getitem-integrate_fourier_space-mean_chunk-7c9ad2ef375ffd501fe93b18f6994048', 1, 6, 1)\",\"('mean_chunk-7c9ad2ef375ffd501fe93b18f6994048', 1, 5, 2)\",\"('mean_chunk-7c9ad2ef375ffd501fe93b18f6994048', 1, 4, 5)\",\"('apply_transform-diffraction_pattern-getitem-integrate_fourier_space-mean_chunk-7c9ad2ef375ffd501fe93b18f6994048', 1, 6, 2)\",\"('mean_chunk-7c9ad2ef375ffd501fe93b18f6994048', 1, 5, 1)\",\"('apply_transform-diffraction_pattern-getitem-integrate_fourier_space-mean_chunk-7c9ad2ef375ffd501fe93b18f6994048', 1, 6, 3)\",\"('mean_chunk-7c9ad2ef375ffd501fe93b18f6994048', 1, 5, 3)\",\"('apply_transform-diffraction_pattern-getitem-integrate_fourier_space-mean_chunk-7c9ad2ef375ffd501fe93b18f6994048', 1, 6, 4)\",\"('apply_transform-diffraction_pattern-getitem-integrate_fourier_space-mean_chunk-7c9ad2ef375ffd501fe93b18f6994048', 1, 6, 5)\",\"('mean_chunk-7c9ad2ef375ffd501fe93b18f6994048', 1, 6, 0)\",\"('apply_transform-diffraction_pattern-getitem-integrate_fourier_space-mean_chunk-7c9ad2ef375ffd501fe93b18f6994048', 0, 1, 1)\",\"('mean_chunk-7c9ad2ef375ffd501fe93b18f6994048', 1, 6, 3)\",\"('apply_transform-diffraction_pattern-getitem-integrate_fourier_space-mean_chunk-7c9ad2ef375ffd501fe93b18f6994048', 0, 2, 2)\",\"('mean_chunk-7c9ad2ef375ffd501fe93b18f6994048', 1, 6, 1)\",\"('apply_transform-diffraction_pattern-getitem-integrate_fourier_space-mean_chunk-7c9ad2ef375ffd501fe93b18f6994048', 0, 3, 3)\",\"('mean_chunk-7c9ad2ef375ffd501fe93b18f6994048', 1, 5, 4)\",\"('mean_chunk-7c9ad2ef375ffd501fe93b18f6994048', 1, 6, 4)\",\"('mean_chunk-7c9ad2ef375ffd501fe93b18f6994048', 1, 6, 2)\",\"('mean_chunk-7c9ad2ef375ffd501fe93b18f6994048', 1, 5, 6)\",\"('apply_transform-diffraction_pattern-getitem-integrate_fourier_space-mean_chunk-7c9ad2ef375ffd501fe93b18f6994048', 0, 4, 4)\",\"('mean_chunk-7c9ad2ef375ffd501fe93b18f6994048', 1, 6, 5)\",\"('apply_transform-diffraction_pattern-getitem-integrate_fourier_space-mean_chunk-7c9ad2ef375ffd501fe93b18f6994048', 0, 5, 5)\",\"('apply_transform-diffraction_pattern-getitem-integrate_fourier_space-mean_chunk-7c9ad2ef375ffd501fe93b18f6994048', 0, 6, 6)\",\"('apply_transform-diffraction_pattern-getitem-integrate_fourier_space-mean_chunk-7c9ad2ef375ffd501fe93b18f6994048', 0, 0, 1)\",\"('apply_transform-diffraction_pattern-getitem-integrate_fourier_space-mean_chunk-7c9ad2ef375ffd501fe93b18f6994048', 0, 0, 2)\",\"('mean_chunk-7c9ad2ef375ffd501fe93b18f6994048', 0, 1, 1)\",\"('mean_chunk-7c9ad2ef375ffd501fe93b18f6994048', 0, 2, 2)\",\"('mean_combine-partial-9a2d39d18184aa744afb7843e479c400', 0, 1, 1)\",\"('mean_combine-partial-9a2d39d18184aa744afb7843e479c400', 0, 2, 2)\",\"('apply_transform-diffraction_pattern-getitem-integrate_fourier_space-mean_chunk-7c9ad2ef375ffd501fe93b18f6994048', 0, 0, 3)\",\"('apply_transform-diffraction_pattern-getitem-integrate_fourier_space-mean_chunk-7c9ad2ef375ffd501fe93b18f6994048', 0, 0, 4)\",\"('mean_chunk-7c9ad2ef375ffd501fe93b18f6994048', 0, 4, 4)\",\"('mean_chunk-7c9ad2ef375ffd501fe93b18f6994048', 0, 0, 1)\",\"('mean_combine-partial-9a2d39d18184aa744afb7843e479c400', 0, 4, 4)\",\"('mean_chunk-7c9ad2ef375ffd501fe93b18f6994048', 0, 3, 3)\",\"('mean_chunk-7c9ad2ef375ffd501fe93b18f6994048', 0, 5, 5)\",\"('mean_chunk-7c9ad2ef375ffd501fe93b18f6994048', 0, 6, 6)\",\"('mean_combine-partial-9a2d39d18184aa744afb7843e479c400', 0, 0, 1)\",\"('mean_chunk-7c9ad2ef375ffd501fe93b18f6994048', 0, 0, 2)\",\"('apply_transform-diffraction_pattern-getitem-integrate_fourier_space-mean_chunk-7c9ad2ef375ffd501fe93b18f6994048', 0, 0, 5)\",\"('mean_combine-partial-9a2d39d18184aa744afb7843e479c400', 0, 3, 3)\",\"('mean_combine-partial-9a2d39d18184aa744afb7843e479c400', 0, 5, 5)\",\"('mean_combine-partial-9a2d39d18184aa744afb7843e479c400', 0, 6, 6)\",\"('apply_transform-diffraction_pattern-getitem-integrate_fourier_space-mean_chunk-7c9ad2ef375ffd501fe93b18f6994048', 0, 0, 6)\",\"('mean_combine-partial-9a2d39d18184aa744afb7843e479c400', 0, 0, 2)\",\"('apply_transform-diffraction_pattern-getitem-integrate_fourier_space-mean_chunk-7c9ad2ef375ffd501fe93b18f6994048', 0, 1, 0)\",\"('apply_transform-diffraction_pattern-getitem-integrate_fourier_space-mean_chunk-7c9ad2ef375ffd501fe93b18f6994048', 0, 1, 2)\",\"('apply_transform-diffraction_pattern-getitem-integrate_fourier_space-mean_chunk-7c9ad2ef375ffd501fe93b18f6994048', 0, 1, 3)\",\"('apply_transform-diffraction_pattern-getitem-integrate_fourier_space-mean_chunk-7c9ad2ef375ffd501fe93b18f6994048', 0, 1, 4)\",\"('mean_chunk-7c9ad2ef375ffd501fe93b18f6994048', 0, 0, 5)\",\"('mean_chunk-7c9ad2ef375ffd501fe93b18f6994048', 0, 0, 3)\",\"('mean_combine-partial-9a2d39d18184aa744afb7843e479c400', 0, 0, 5)\",\"('mean_combine-partial-9a2d39d18184aa744afb7843e479c400', 0, 0, 3)\",\"('apply_transform-diffraction_pattern-getitem-integrate_fourier_space-mean_chunk-7c9ad2ef375ffd501fe93b18f6994048', 0, 1, 5)\",\"('mean_chunk-7c9ad2ef375ffd501fe93b18f6994048', 0, 1, 2)\",\"('apply_transform-diffraction_pattern-getitem-integrate_fourier_space-mean_chunk-7c9ad2ef375ffd501fe93b18f6994048', 0, 1, 6)\",\"('mean_chunk-7c9ad2ef375ffd501fe93b18f6994048', 0, 0, 6)\",\"('mean_chunk-7c9ad2ef375ffd501fe93b18f6994048', 0, 1, 3)\",\"('mean_combine-partial-9a2d39d18184aa744afb7843e479c400', 0, 1, 2)\",\"('mean_chunk-7c9ad2ef375ffd501fe93b18f6994048', 0, 0, 4)\",\"('mean_combine-partial-9a2d39d18184aa744afb7843e479c400', 0, 0, 6)\",\"('mean_combine-partial-9a2d39d18184aa744afb7843e479c400', 0, 1, 3)\",\"('apply_transform-diffraction_pattern-getitem-integrate_fourier_space-mean_chunk-7c9ad2ef375ffd501fe93b18f6994048', 0, 2, 0)\",\"('mean_combine-partial-9a2d39d18184aa744afb7843e479c400', 0, 0, 4)\",\"('apply_transform-diffraction_pattern-getitem-integrate_fourier_space-mean_chunk-7c9ad2ef375ffd501fe93b18f6994048', 0, 2, 1)\",\"('mean_chunk-7c9ad2ef375ffd501fe93b18f6994048', 0, 1, 0)\",\"('apply_transform-diffraction_pattern-getitem-integrate_fourier_space-mean_chunk-7c9ad2ef375ffd501fe93b18f6994048', 0, 2, 3)\",\"('apply_transform-diffraction_pattern-getitem-integrate_fourier_space-mean_chunk-7c9ad2ef375ffd501fe93b18f6994048', 0, 2, 4)\",\"('mean_combine-partial-9a2d39d18184aa744afb7843e479c400', 0, 1, 0)\",\"('apply_transform-diffraction_pattern-getitem-integrate_fourier_space-mean_chunk-7c9ad2ef375ffd501fe93b18f6994048', 0, 2, 5)\",\"('mean_chunk-7c9ad2ef375ffd501fe93b18f6994048', 0, 1, 4)\",\"('mean_combine-partial-9a2d39d18184aa744afb7843e479c400', 0, 1, 4)\",\"('apply_transform-diffraction_pattern-getitem-integrate_fourier_space-mean_chunk-7c9ad2ef375ffd501fe93b18f6994048', 0, 2, 6)\",\"('mean_chunk-7c9ad2ef375ffd501fe93b18f6994048', 0, 1, 5)\",\"('mean_combine-partial-9a2d39d18184aa744afb7843e479c400', 0, 1, 5)\",\"('apply_transform-diffraction_pattern-getitem-integrate_fourier_space-mean_chunk-7c9ad2ef375ffd501fe93b18f6994048', 0, 3, 0)\",\"('mean_chunk-7c9ad2ef375ffd501fe93b18f6994048', 0, 1, 6)\",\"('mean_chunk-7c9ad2ef375ffd501fe93b18f6994048', 0, 2, 4)\",\"('mean_chunk-7c9ad2ef375ffd501fe93b18f6994048', 0, 2, 0)\",\"('mean_combine-partial-9a2d39d18184aa744afb7843e479c400', 0, 1, 6)\",\"('mean_chunk-7c9ad2ef375ffd501fe93b18f6994048', 0, 2, 1)\",\"('mean_combine-partial-9a2d39d18184aa744afb7843e479c400', 0, 2, 4)\",\"('mean_combine-partial-9a2d39d18184aa744afb7843e479c400', 0, 2, 0)\",\"('apply_transform-diffraction_pattern-getitem-integrate_fourier_space-mean_chunk-7c9ad2ef375ffd501fe93b18f6994048', 0, 3, 1)\",\"('mean_combine-partial-9a2d39d18184aa744afb7843e479c400', 0, 2, 1)\",\"('apply_transform-diffraction_pattern-getitem-integrate_fourier_space-mean_chunk-7c9ad2ef375ffd501fe93b18f6994048', 0, 3, 2)\",\"('apply_transform-diffraction_pattern-getitem-integrate_fourier_space-mean_chunk-7c9ad2ef375ffd501fe93b18f6994048', 0, 3, 4)\",\"('mean_chunk-7c9ad2ef375ffd501fe93b18f6994048', 0, 2, 3)\",\"('apply_transform-diffraction_pattern-getitem-integrate_fourier_space-mean_chunk-7c9ad2ef375ffd501fe93b18f6994048', 0, 3, 5)\",\"('mean_chunk-7c9ad2ef375ffd501fe93b18f6994048', 0, 2, 6)\",\"('mean_chunk-7c9ad2ef375ffd501fe93b18f6994048', 0, 2, 5)\",\"('mean_combine-partial-9a2d39d18184aa744afb7843e479c400', 0, 2, 3)\",\"('mean_combine-partial-9a2d39d18184aa744afb7843e479c400', 0, 2, 6)\",\"('mean_combine-partial-9a2d39d18184aa744afb7843e479c400', 0, 2, 5)\",\"('apply_transform-diffraction_pattern-getitem-integrate_fourier_space-mean_chunk-7c9ad2ef375ffd501fe93b18f6994048', 0, 3, 6)\",\"('apply_transform-diffraction_pattern-getitem-integrate_fourier_space-mean_chunk-7c9ad2ef375ffd501fe93b18f6994048', 0, 4, 0)\",\"('apply_transform-diffraction_pattern-getitem-integrate_fourier_space-mean_chunk-7c9ad2ef375ffd501fe93b18f6994048', 0, 4, 1)\",\"('mean_chunk-7c9ad2ef375ffd501fe93b18f6994048', 0, 3, 0)\",\"('mean_combine-partial-9a2d39d18184aa744afb7843e479c400', 0, 3, 0)\",\"('apply_transform-diffraction_pattern-getitem-integrate_fourier_space-mean_chunk-7c9ad2ef375ffd501fe93b18f6994048', 0, 4, 2)\",\"('mean_chunk-7c9ad2ef375ffd501fe93b18f6994048', 0, 3, 1)\",\"('mean_chunk-7c9ad2ef375ffd501fe93b18f6994048', 0, 3, 6)\",\"('mean_combine-partial-9a2d39d18184aa744afb7843e479c400', 0, 3, 1)\",\"('mean_chunk-7c9ad2ef375ffd501fe93b18f6994048', 0, 4, 0)\",\"('mean_chunk-7c9ad2ef375ffd501fe93b18f6994048', 0, 3, 4)\",\"('mean_chunk-7c9ad2ef375ffd501fe93b18f6994048', 0, 3, 2)\",\"('mean_combine-partial-9a2d39d18184aa744afb7843e479c400', 0, 3, 6)\",\"('apply_transform-diffraction_pattern-getitem-integrate_fourier_space-mean_chunk-7c9ad2ef375ffd501fe93b18f6994048', 0, 4, 3)\",\"('mean_chunk-7c9ad2ef375ffd501fe93b18f6994048', 0, 4, 1)\",\"('mean_combine-partial-9a2d39d18184aa744afb7843e479c400', 0, 4, 0)\",\"('mean_chunk-7c9ad2ef375ffd501fe93b18f6994048', 0, 3, 5)\",\"('mean_combine-partial-9a2d39d18184aa744afb7843e479c400', 0, 3, 4)\",\"('mean_combine-partial-9a2d39d18184aa744afb7843e479c400', 0, 3, 2)\",\"('apply_transform-diffraction_pattern-getitem-integrate_fourier_space-mean_chunk-7c9ad2ef375ffd501fe93b18f6994048', 0, 4, 5)\",\"('mean_combine-partial-9a2d39d18184aa744afb7843e479c400', 0, 4, 1)\",\"('apply_transform-diffraction_pattern-getitem-integrate_fourier_space-mean_chunk-7c9ad2ef375ffd501fe93b18f6994048', 0, 4, 6)\",\"('mean_combine-partial-9a2d39d18184aa744afb7843e479c400', 0, 3, 5)\",\"('apply_transform-diffraction_pattern-getitem-integrate_fourier_space-mean_chunk-7c9ad2ef375ffd501fe93b18f6994048', 0, 5, 0)\",\"('apply_transform-diffraction_pattern-getitem-integrate_fourier_space-mean_chunk-7c9ad2ef375ffd501fe93b18f6994048', 0, 5, 1)\",\"('apply_transform-diffraction_pattern-getitem-integrate_fourier_space-mean_chunk-7c9ad2ef375ffd501fe93b18f6994048', 0, 5, 2)\",\"('apply_transform-diffraction_pattern-getitem-integrate_fourier_space-mean_chunk-7c9ad2ef375ffd501fe93b18f6994048', 0, 5, 3)\",\"('mean_chunk-7c9ad2ef375ffd501fe93b18f6994048', 0, 4, 2)\",\"('mean_combine-partial-9a2d39d18184aa744afb7843e479c400', 0, 4, 2)\",\"('apply_transform-diffraction_pattern-getitem-integrate_fourier_space-mean_chunk-7c9ad2ef375ffd501fe93b18f6994048', 0, 5, 4)\",\"('mean_chunk-7c9ad2ef375ffd501fe93b18f6994048', 0, 5, 0)\",\"('mean_chunk-7c9ad2ef375ffd501fe93b18f6994048', 0, 5, 1)\",\"('mean_chunk-7c9ad2ef375ffd501fe93b18f6994048', 0, 4, 3)\",\"('mean_combine-partial-9a2d39d18184aa744afb7843e479c400', 0, 5, 0)\",\"('mean_combine-partial-9a2d39d18184aa744afb7843e479c400', 0, 5, 1)\",\"('mean_combine-partial-9a2d39d18184aa744afb7843e479c400', 0, 4, 3)\",\"('apply_transform-diffraction_pattern-getitem-integrate_fourier_space-mean_chunk-7c9ad2ef375ffd501fe93b18f6994048', 0, 5, 6)\",\"('apply_transform-diffraction_pattern-getitem-integrate_fourier_space-mean_chunk-7c9ad2ef375ffd501fe93b18f6994048', 0, 6, 0)\",\"('mean_chunk-7c9ad2ef375ffd501fe93b18f6994048', 0, 5, 2)\",\"('apply_transform-diffraction_pattern-getitem-integrate_fourier_space-mean_chunk-7c9ad2ef375ffd501fe93b18f6994048', 0, 6, 1)\",\"('mean_chunk-7c9ad2ef375ffd501fe93b18f6994048', 0, 4, 6)\",\"('mean_chunk-7c9ad2ef375ffd501fe93b18f6994048', 0, 4, 5)\",\"('mean_combine-partial-9a2d39d18184aa744afb7843e479c400', 0, 5, 2)\",\"('mean_combine-partial-9a2d39d18184aa744afb7843e479c400', 0, 4, 6)\",\"('mean_chunk-7c9ad2ef375ffd501fe93b18f6994048', 0, 5, 3)\",\"('mean_combine-partial-9a2d39d18184aa744afb7843e479c400', 0, 4, 5)\",\"('apply_transform-diffraction_pattern-getitem-integrate_fourier_space-mean_chunk-7c9ad2ef375ffd501fe93b18f6994048', 0, 6, 2)\",\"('apply_transform-diffraction_pattern-getitem-integrate_fourier_space-mean_chunk-7c9ad2ef375ffd501fe93b18f6994048', 0, 6, 3)\",\"('mean_combine-partial-9a2d39d18184aa744afb7843e479c400', 0, 5, 3)\",\"('apply_transform-diffraction_pattern-getitem-integrate_fourier_space-mean_chunk-7c9ad2ef375ffd501fe93b18f6994048', 0, 6, 4)\",\"('apply_transform-diffraction_pattern-getitem-integrate_fourier_space-mean_chunk-7c9ad2ef375ffd501fe93b18f6994048', 0, 6, 5)\",\"('mean_chunk-7c9ad2ef375ffd501fe93b18f6994048', 0, 5, 4)\",\"('mean_combine-partial-9a2d39d18184aa744afb7843e479c400', 0, 5, 4)\",\"('apply_transform-diffraction_pattern-getitem-integrate_fourier_space-mean_chunk-7c9ad2ef375ffd501fe93b18f6994048', 2, 1, 1)\",\"('mean_chunk-7c9ad2ef375ffd501fe93b18f6994048', 0, 6, 4)\",\"('mean_combine-partial-9a2d39d18184aa744afb7843e479c400', 0, 6, 4)\",\"('apply_transform-diffraction_pattern-getitem-integrate_fourier_space-mean_chunk-7c9ad2ef375ffd501fe93b18f6994048', 2, 2, 2)\",\"('mean_chunk-7c9ad2ef375ffd501fe93b18f6994048', 0, 6, 3)\",\"('mean_combine-partial-9a2d39d18184aa744afb7843e479c400', 0, 6, 3)\",\"('apply_transform-diffraction_pattern-getitem-integrate_fourier_space-mean_chunk-7c9ad2ef375ffd501fe93b18f6994048', 2, 3, 3)\",\"('mean_chunk-7c9ad2ef375ffd501fe93b18f6994048', 0, 6, 2)\",\"('mean_chunk-7c9ad2ef375ffd501fe93b18f6994048', 0, 6, 1)\",\"('mean_chunk-7c9ad2ef375ffd501fe93b18f6994048', 0, 6, 0)\",\"('mean_combine-partial-9a2d39d18184aa744afb7843e479c400', 0, 6, 2)\",\"('mean_chunk-7c9ad2ef375ffd501fe93b18f6994048', 0, 6, 5)\",\"('mean_combine-partial-9a2d39d18184aa744afb7843e479c400', 0, 6, 1)\",\"('mean_combine-partial-9a2d39d18184aa744afb7843e479c400', 0, 6, 0)\",\"('apply_transform-diffraction_pattern-getitem-integrate_fourier_space-mean_chunk-7c9ad2ef375ffd501fe93b18f6994048', 2, 4, 4)\",\"('mean_combine-partial-9a2d39d18184aa744afb7843e479c400', 0, 6, 5)\",\"('apply_transform-diffraction_pattern-getitem-integrate_fourier_space-mean_chunk-7c9ad2ef375ffd501fe93b18f6994048', 2, 5, 5)\",\"('mean_chunk-7c9ad2ef375ffd501fe93b18f6994048', 0, 5, 6)\",\"('apply_transform-diffraction_pattern-getitem-integrate_fourier_space-mean_chunk-7c9ad2ef375ffd501fe93b18f6994048', 2, 6, 6)\",\"('apply_transform-diffraction_pattern-getitem-integrate_fourier_space-mean_chunk-7c9ad2ef375ffd501fe93b18f6994048', 2, 0, 1)\",\"('mean_combine-partial-9a2d39d18184aa744afb7843e479c400', 0, 5, 6)\",\"('apply_transform-diffraction_pattern-getitem-integrate_fourier_space-mean_chunk-7c9ad2ef375ffd501fe93b18f6994048', 2, 0, 2)\",\"('mean_chunk-7c9ad2ef375ffd501fe93b18f6994048', 2, 1, 1)\",\"('mean_combine-partial-9a2d39d18184aa744afb7843e479c400', 1, 1, 1)\",\"('mean_agg-aggregate-99b644f5d4d8d2407956303a853d4e86', 1, 1)\",\"('apply_transform-diffraction_pattern-getitem-integrate_fourier_space-mean_chunk-7c9ad2ef375ffd501fe93b18f6994048', 2, 0, 3)\",\"('mean_chunk-7c9ad2ef375ffd501fe93b18f6994048', 2, 4, 4)\",\"('mean_combine-partial-9a2d39d18184aa744afb7843e479c400', 1, 4, 4)\",\"('mean_agg-aggregate-99b644f5d4d8d2407956303a853d4e86', 4, 4)\",\"('apply_transform-diffraction_pattern-getitem-integrate_fourier_space-mean_chunk-7c9ad2ef375ffd501fe93b18f6994048', 2, 0, 4)\",\"('mean_chunk-7c9ad2ef375ffd501fe93b18f6994048', 2, 5, 5)\",\"('apply_transform-diffraction_pattern-getitem-integrate_fourier_space-mean_chunk-7c9ad2ef375ffd501fe93b18f6994048', 2, 0, 5)\",\"('mean_chunk-7c9ad2ef375ffd501fe93b18f6994048', 2, 6, 6)\",\"('mean_chunk-7c9ad2ef375ffd501fe93b18f6994048', 2, 3, 3)\",\"('apply_transform-diffraction_pattern-getitem-integrate_fourier_space-mean_chunk-7c9ad2ef375ffd501fe93b18f6994048', 2, 0, 6)\",\"('mean_combine-partial-9a2d39d18184aa744afb7843e479c400', 1, 3, 3)\",\"('mean_chunk-7c9ad2ef375ffd501fe93b18f6994048', 2, 0, 1)\",\"('mean_agg-aggregate-99b644f5d4d8d2407956303a853d4e86', 3, 3)\",\"('mean_chunk-7c9ad2ef375ffd501fe93b18f6994048', 2, 2, 2)\",\"('mean_chunk-7c9ad2ef375ffd501fe93b18f6994048', 2, 0, 2)\",\"('apply_transform-diffraction_pattern-getitem-integrate_fourier_space-mean_chunk-7c9ad2ef375ffd501fe93b18f6994048', 2, 1, 0)\",\"('apply_transform-diffraction_pattern-getitem-integrate_fourier_space-mean_chunk-7c9ad2ef375ffd501fe93b18f6994048', 2, 1, 2)\",\"('mean_combine-partial-9a2d39d18184aa744afb7843e479c400', 1, 2, 2)\",\"('apply_transform-diffraction_pattern-getitem-integrate_fourier_space-mean_chunk-7c9ad2ef375ffd501fe93b18f6994048', 2, 1, 3)\",\"('mean_agg-aggregate-99b644f5d4d8d2407956303a853d4e86', 2, 2)\",\"('apply_transform-diffraction_pattern-getitem-integrate_fourier_space-mean_chunk-7c9ad2ef375ffd501fe93b18f6994048', 2, 1, 4)\",\"('mean_chunk-7c9ad2ef375ffd501fe93b18f6994048', 2, 0, 3)\",\"('apply_transform-diffraction_pattern-getitem-integrate_fourier_space-mean_chunk-7c9ad2ef375ffd501fe93b18f6994048', 2, 1, 5)\",\"('mean_chunk-7c9ad2ef375ffd501fe93b18f6994048', 2, 0, 4)\",\"('mean_chunk-7c9ad2ef375ffd501fe93b18f6994048', 2, 1, 2)\",\"('apply_transform-diffraction_pattern-getitem-integrate_fourier_space-mean_chunk-7c9ad2ef375ffd501fe93b18f6994048', 2, 1, 6)\",\"('apply_transform-diffraction_pattern-getitem-integrate_fourier_space-mean_chunk-7c9ad2ef375ffd501fe93b18f6994048', 2, 2, 0)\",\"('mean_chunk-7c9ad2ef375ffd501fe93b18f6994048', 2, 1, 4)\",\"('apply_transform-diffraction_pattern-getitem-integrate_fourier_space-mean_chunk-7c9ad2ef375ffd501fe93b18f6994048', 2, 2, 1)\",\"('mean_chunk-7c9ad2ef375ffd501fe93b18f6994048', 2, 1, 3)\",\"('mean_chunk-7c9ad2ef375ffd501fe93b18f6994048', 2, 0, 5)\",\"('mean_chunk-7c9ad2ef375ffd501fe93b18f6994048', 2, 1, 0)\",\"('mean_chunk-7c9ad2ef375ffd501fe93b18f6994048', 2, 0, 6)\",\"('apply_transform-diffraction_pattern-getitem-integrate_fourier_space-mean_chunk-7c9ad2ef375ffd501fe93b18f6994048', 2, 2, 3)\",\"('apply_transform-diffraction_pattern-getitem-integrate_fourier_space-mean_chunk-7c9ad2ef375ffd501fe93b18f6994048', 2, 2, 4)\",\"('apply_transform-diffraction_pattern-getitem-integrate_fourier_space-mean_chunk-7c9ad2ef375ffd501fe93b18f6994048', 2, 2, 5)\",\"('apply_transform-diffraction_pattern-getitem-integrate_fourier_space-mean_chunk-7c9ad2ef375ffd501fe93b18f6994048', 2, 2, 6)\",\"('mean_chunk-7c9ad2ef375ffd501fe93b18f6994048', 2, 1, 5)\",\"('apply_transform-diffraction_pattern-getitem-integrate_fourier_space-mean_chunk-7c9ad2ef375ffd501fe93b18f6994048', 2, 3, 0)\",\"('mean_chunk-7c9ad2ef375ffd501fe93b18f6994048', 2, 2, 3)\",\"('apply_transform-diffraction_pattern-getitem-integrate_fourier_space-mean_chunk-7c9ad2ef375ffd501fe93b18f6994048', 2, 3, 1)\",\"('mean_chunk-7c9ad2ef375ffd501fe93b18f6994048', 2, 1, 6)\",\"('mean_chunk-7c9ad2ef375ffd501fe93b18f6994048', 2, 2, 4)\",\"('apply_transform-diffraction_pattern-getitem-integrate_fourier_space-mean_chunk-7c9ad2ef375ffd501fe93b18f6994048', 2, 3, 2)\",\"('mean_chunk-7c9ad2ef375ffd501fe93b18f6994048', 2, 2, 6)\",\"('apply_transform-diffraction_pattern-getitem-integrate_fourier_space-mean_chunk-7c9ad2ef375ffd501fe93b18f6994048', 2, 3, 4)\",\"('mean_chunk-7c9ad2ef375ffd501fe93b18f6994048', 2, 2, 0)\",\"('mean_chunk-7c9ad2ef375ffd501fe93b18f6994048', 2, 2, 5)\",\"('mean_chunk-7c9ad2ef375ffd501fe93b18f6994048', 2, 2, 1)\",\"('apply_transform-diffraction_pattern-getitem-integrate_fourier_space-mean_chunk-7c9ad2ef375ffd501fe93b18f6994048', 2, 3, 5)\",\"('apply_transform-diffraction_pattern-getitem-integrate_fourier_space-mean_chunk-7c9ad2ef375ffd501fe93b18f6994048', 2, 3, 6)\",\"('apply_transform-diffraction_pattern-getitem-integrate_fourier_space-mean_chunk-7c9ad2ef375ffd501fe93b18f6994048', 2, 4, 0)\",\"('apply_transform-diffraction_pattern-getitem-integrate_fourier_space-mean_chunk-7c9ad2ef375ffd501fe93b18f6994048', 2, 4, 1)\",\"('mean_chunk-7c9ad2ef375ffd501fe93b18f6994048', 2, 3, 0)\",\"('apply_transform-diffraction_pattern-getitem-integrate_fourier_space-mean_chunk-7c9ad2ef375ffd501fe93b18f6994048', 2, 4, 2)\",\"('mean_chunk-7c9ad2ef375ffd501fe93b18f6994048', 2, 3, 2)\",\"('mean_chunk-7c9ad2ef375ffd501fe93b18f6994048', 2, 3, 1)\",\"('apply_transform-diffraction_pattern-getitem-integrate_fourier_space-mean_chunk-7c9ad2ef375ffd501fe93b18f6994048', 2, 4, 3)\",\"('apply_transform-diffraction_pattern-getitem-integrate_fourier_space-mean_chunk-7c9ad2ef375ffd501fe93b18f6994048', 2, 4, 5)\",\"('mean_chunk-7c9ad2ef375ffd501fe93b18f6994048', 2, 4, 0)\",\"('mean_chunk-7c9ad2ef375ffd501fe93b18f6994048', 2, 4, 1)\",\"('mean_chunk-7c9ad2ef375ffd501fe93b18f6994048', 2, 3, 4)\",\"('mean_chunk-7c9ad2ef375ffd501fe93b18f6994048', 2, 3, 5)\",\"('mean_chunk-7c9ad2ef375ffd501fe93b18f6994048', 2, 3, 6)\",\"('apply_transform-diffraction_pattern-getitem-integrate_fourier_space-mean_chunk-7c9ad2ef375ffd501fe93b18f6994048', 2, 4, 6)\",\"('apply_transform-diffraction_pattern-getitem-integrate_fourier_space-mean_chunk-7c9ad2ef375ffd501fe93b18f6994048', 2, 5, 0)\",\"('apply_transform-diffraction_pattern-getitem-integrate_fourier_space-mean_chunk-7c9ad2ef375ffd501fe93b18f6994048', 2, 5, 1)\",\"('apply_transform-diffraction_pattern-getitem-integrate_fourier_space-mean_chunk-7c9ad2ef375ffd501fe93b18f6994048', 2, 5, 2)\",\"('apply_transform-diffraction_pattern-getitem-integrate_fourier_space-mean_chunk-7c9ad2ef375ffd501fe93b18f6994048', 2, 5, 3)\",\"('mean_chunk-7c9ad2ef375ffd501fe93b18f6994048', 2, 4, 2)\",\"('apply_transform-diffraction_pattern-getitem-integrate_fourier_space-mean_chunk-7c9ad2ef375ffd501fe93b18f6994048', 2, 5, 4)\",\"('mean_chunk-7c9ad2ef375ffd501fe93b18f6994048', 2, 4, 5)\",\"('mean_chunk-7c9ad2ef375ffd501fe93b18f6994048', 2, 5, 1)\",\"('apply_transform-diffraction_pattern-getitem-integrate_fourier_space-mean_chunk-7c9ad2ef375ffd501fe93b18f6994048', 2, 5, 6)\",\"('apply_transform-diffraction_pattern-getitem-integrate_fourier_space-mean_chunk-7c9ad2ef375ffd501fe93b18f6994048', 2, 6, 0)\",\"('mean_chunk-7c9ad2ef375ffd501fe93b18f6994048', 2, 5, 3)\",\"('mean_chunk-7c9ad2ef375ffd501fe93b18f6994048', 2, 5, 0)\",\"('mean_chunk-7c9ad2ef375ffd501fe93b18f6994048', 2, 5, 2)\",\"('mean_chunk-7c9ad2ef375ffd501fe93b18f6994048', 2, 4, 6)\",\"('apply_transform-diffraction_pattern-getitem-integrate_fourier_space-mean_chunk-7c9ad2ef375ffd501fe93b18f6994048', 2, 6, 1)\",\"('apply_transform-diffraction_pattern-getitem-integrate_fourier_space-mean_chunk-7c9ad2ef375ffd501fe93b18f6994048', 2, 6, 2)\",\"('apply_transform-diffraction_pattern-getitem-integrate_fourier_space-mean_chunk-7c9ad2ef375ffd501fe93b18f6994048', 2, 6, 3)\",\"('apply_transform-diffraction_pattern-getitem-integrate_fourier_space-mean_chunk-7c9ad2ef375ffd501fe93b18f6994048', 2, 6, 4)\",\"('mean_chunk-7c9ad2ef375ffd501fe93b18f6994048', 2, 4, 3)\",\"('apply_transform-diffraction_pattern-getitem-integrate_fourier_space-mean_chunk-7c9ad2ef375ffd501fe93b18f6994048', 2, 6, 5)\",\"('mean_chunk-7c9ad2ef375ffd501fe93b18f6994048', 2, 5, 4)\",\"('apply_transform-diffraction_pattern-getitem-integrate_fourier_space-mean_chunk-7c9ad2ef375ffd501fe93b18f6994048', 3, 5, 5)\",\"('mean_chunk-7c9ad2ef375ffd501fe93b18f6994048', 2, 6, 3)\",\"('mean_chunk-7c9ad2ef375ffd501fe93b18f6994048', 2, 6, 0)\",\"('mean_chunk-7c9ad2ef375ffd501fe93b18f6994048', 2, 6, 4)\",\"('apply_transform-diffraction_pattern-getitem-integrate_fourier_space-mean_chunk-7c9ad2ef375ffd501fe93b18f6994048', 3, 6, 6)\",\"('mean_chunk-7c9ad2ef375ffd501fe93b18f6994048', 2, 6, 5)\",\"('mean_chunk-7c9ad2ef375ffd501fe93b18f6994048', 2, 6, 2)\",\"('apply_transform-diffraction_pattern-getitem-integrate_fourier_space-mean_chunk-7c9ad2ef375ffd501fe93b18f6994048', 3, 0, 1)\",\"('apply_transform-diffraction_pattern-getitem-integrate_fourier_space-mean_chunk-7c9ad2ef375ffd501fe93b18f6994048', 3, 0, 2)\",\"('apply_transform-diffraction_pattern-getitem-integrate_fourier_space-mean_chunk-7c9ad2ef375ffd501fe93b18f6994048', 3, 0, 3)\",\"('apply_transform-diffraction_pattern-getitem-integrate_fourier_space-mean_chunk-7c9ad2ef375ffd501fe93b18f6994048', 3, 0, 4)\",\"('mean_chunk-7c9ad2ef375ffd501fe93b18f6994048', 2, 5, 6)\",\"('mean_chunk-7c9ad2ef375ffd501fe93b18f6994048', 2, 6, 1)\",\"('apply_transform-diffraction_pattern-getitem-integrate_fourier_space-mean_chunk-7c9ad2ef375ffd501fe93b18f6994048', 3, 0, 5)\",\"('apply_transform-diffraction_pattern-getitem-integrate_fourier_space-mean_chunk-7c9ad2ef375ffd501fe93b18f6994048', 3, 0, 6)\",\"('mean_chunk-7c9ad2ef375ffd501fe93b18f6994048', 3, 5, 5)\",\"('mean_combine-partial-9a2d39d18184aa744afb7843e479c400', 1, 5, 5)\",\"('mean_agg-aggregate-99b644f5d4d8d2407956303a853d4e86', 5, 5)\",\"('apply_transform-diffraction_pattern-getitem-integrate_fourier_space-mean_chunk-7c9ad2ef375ffd501fe93b18f6994048', 3, 1, 0)\",\"('mean_chunk-7c9ad2ef375ffd501fe93b18f6994048', 3, 6, 6)\",\"('mean_combine-partial-9a2d39d18184aa744afb7843e479c400', 1, 6, 6)\",\"('mean_agg-aggregate-99b644f5d4d8d2407956303a853d4e86', 6, 6)\",\"('apply_transform-diffraction_pattern-getitem-integrate_fourier_space-mean_chunk-7c9ad2ef375ffd501fe93b18f6994048', 3, 1, 2)\",\"('mean_chunk-7c9ad2ef375ffd501fe93b18f6994048', 3, 0, 4)\",\"('mean_chunk-7c9ad2ef375ffd501fe93b18f6994048', 3, 0, 2)\",\"('mean_chunk-7c9ad2ef375ffd501fe93b18f6994048', 3, 0, 3)\",\"('mean_chunk-7c9ad2ef375ffd501fe93b18f6994048', 3, 0, 6)\",\"('mean_combine-partial-9a2d39d18184aa744afb7843e479c400', 1, 0, 4)\",\"('mean_chunk-7c9ad2ef375ffd501fe93b18f6994048', 3, 0, 1)\",\"('mean_combine-partial-9a2d39d18184aa744afb7843e479c400', 1, 0, 2)\",\"('mean_combine-partial-9a2d39d18184aa744afb7843e479c400', 1, 0, 3)\",\"('mean_combine-partial-9a2d39d18184aa744afb7843e479c400', 1, 0, 6)\",\"('mean_agg-aggregate-99b644f5d4d8d2407956303a853d4e86', 0, 4)\",\"('mean_combine-partial-9a2d39d18184aa744afb7843e479c400', 1, 0, 1)\",\"('mean_agg-aggregate-99b644f5d4d8d2407956303a853d4e86', 0, 2)\",\"('mean_agg-aggregate-99b644f5d4d8d2407956303a853d4e86', 0, 3)\",\"('mean_chunk-7c9ad2ef375ffd501fe93b18f6994048', 3, 0, 5)\",\"('mean_agg-aggregate-99b644f5d4d8d2407956303a853d4e86', 0, 6)\",\"('apply_transform-diffraction_pattern-getitem-integrate_fourier_space-mean_chunk-7c9ad2ef375ffd501fe93b18f6994048', 3, 1, 3)\",\"('mean_agg-aggregate-99b644f5d4d8d2407956303a853d4e86', 0, 1)\",\"('apply_transform-diffraction_pattern-getitem-integrate_fourier_space-mean_chunk-7c9ad2ef375ffd501fe93b18f6994048', 3, 1, 4)\",\"('apply_transform-diffraction_pattern-getitem-integrate_fourier_space-mean_chunk-7c9ad2ef375ffd501fe93b18f6994048', 3, 1, 5)\",\"('mean_combine-partial-9a2d39d18184aa744afb7843e479c400', 1, 0, 5)\",\"('apply_transform-diffraction_pattern-getitem-integrate_fourier_space-mean_chunk-7c9ad2ef375ffd501fe93b18f6994048', 3, 1, 6)\",\"('apply_transform-diffraction_pattern-getitem-integrate_fourier_space-mean_chunk-7c9ad2ef375ffd501fe93b18f6994048', 3, 2, 0)\",\"('mean_agg-aggregate-99b644f5d4d8d2407956303a853d4e86', 0, 5)\",\"('apply_transform-diffraction_pattern-getitem-integrate_fourier_space-mean_chunk-7c9ad2ef375ffd501fe93b18f6994048', 3, 2, 1)\",\"('mean_chunk-7c9ad2ef375ffd501fe93b18f6994048', 3, 1, 0)\",\"('mean_combine-partial-9a2d39d18184aa744afb7843e479c400', 1, 1, 0)\",\"('mean_agg-aggregate-99b644f5d4d8d2407956303a853d4e86', 1, 0)\",\"('apply_transform-diffraction_pattern-getitem-integrate_fourier_space-mean_chunk-7c9ad2ef375ffd501fe93b18f6994048', 3, 2, 3)\",\"('mean_chunk-7c9ad2ef375ffd501fe93b18f6994048', 3, 1, 2)\",\"('mean_combine-partial-9a2d39d18184aa744afb7843e479c400', 1, 1, 2)\",\"('mean_agg-aggregate-99b644f5d4d8d2407956303a853d4e86', 1, 2)\",\"('apply_transform-diffraction_pattern-getitem-integrate_fourier_space-mean_chunk-7c9ad2ef375ffd501fe93b18f6994048', 3, 2, 4)\",\"('mean_chunk-7c9ad2ef375ffd501fe93b18f6994048', 3, 1, 4)\",\"('mean_chunk-7c9ad2ef375ffd501fe93b18f6994048', 3, 2, 0)\",\"('mean_combine-partial-9a2d39d18184aa744afb7843e479c400', 1, 1, 4)\",\"('mean_combine-partial-9a2d39d18184aa744afb7843e479c400', 1, 2, 0)\",\"('mean_agg-aggregate-99b644f5d4d8d2407956303a853d4e86', 1, 4)\",\"('mean_agg-aggregate-99b644f5d4d8d2407956303a853d4e86', 2, 0)\",\"('apply_transform-diffraction_pattern-getitem-integrate_fourier_space-mean_chunk-7c9ad2ef375ffd501fe93b18f6994048', 3, 2, 5)\",\"('apply_transform-diffraction_pattern-getitem-integrate_fourier_space-mean_chunk-7c9ad2ef375ffd501fe93b18f6994048', 3, 2, 6)\",\"('mean_chunk-7c9ad2ef375ffd501fe93b18f6994048', 3, 1, 3)\",\"('mean_chunk-7c9ad2ef375ffd501fe93b18f6994048', 3, 1, 5)\",\"('mean_chunk-7c9ad2ef375ffd501fe93b18f6994048', 3, 1, 6)\",\"('mean_chunk-7c9ad2ef375ffd501fe93b18f6994048', 3, 2, 1)\",\"('mean_combine-partial-9a2d39d18184aa744afb7843e479c400', 1, 1, 3)\",\"('mean_combine-partial-9a2d39d18184aa744afb7843e479c400', 1, 1, 5)\",\"('mean_combine-partial-9a2d39d18184aa744afb7843e479c400', 1, 1, 6)\",\"('mean_combine-partial-9a2d39d18184aa744afb7843e479c400', 1, 2, 1)\",\"('mean_agg-aggregate-99b644f5d4d8d2407956303a853d4e86', 1, 3)\",\"('mean_agg-aggregate-99b644f5d4d8d2407956303a853d4e86', 1, 5)\",\"('mean_agg-aggregate-99b644f5d4d8d2407956303a853d4e86', 1, 6)\",\"('mean_agg-aggregate-99b644f5d4d8d2407956303a853d4e86', 2, 1)\",\"('apply_transform-diffraction_pattern-getitem-integrate_fourier_space-mean_chunk-7c9ad2ef375ffd501fe93b18f6994048', 3, 3, 0)\",\"('apply_transform-diffraction_pattern-getitem-integrate_fourier_space-mean_chunk-7c9ad2ef375ffd501fe93b18f6994048', 3, 3, 1)\",\"('apply_transform-diffraction_pattern-getitem-integrate_fourier_space-mean_chunk-7c9ad2ef375ffd501fe93b18f6994048', 3, 3, 2)\",\"('apply_transform-diffraction_pattern-getitem-integrate_fourier_space-mean_chunk-7c9ad2ef375ffd501fe93b18f6994048', 3, 3, 4)\",\"('mean_chunk-7c9ad2ef375ffd501fe93b18f6994048', 3, 2, 3)\",\"('mean_combine-partial-9a2d39d18184aa744afb7843e479c400', 1, 2, 3)\",\"('mean_agg-aggregate-99b644f5d4d8d2407956303a853d4e86', 2, 3)\",\"('apply_transform-diffraction_pattern-getitem-integrate_fourier_space-mean_chunk-7c9ad2ef375ffd501fe93b18f6994048', 3, 3, 5)\",\"('mean_chunk-7c9ad2ef375ffd501fe93b18f6994048', 3, 2, 4)\",\"('mean_combine-partial-9a2d39d18184aa744afb7843e479c400', 1, 2, 4)\",\"('mean_chunk-7c9ad2ef375ffd501fe93b18f6994048', 3, 2, 6)\",\"('mean_agg-aggregate-99b644f5d4d8d2407956303a853d4e86', 2, 4)\",\"('mean_combine-partial-9a2d39d18184aa744afb7843e479c400', 1, 2, 6)\",\"('mean_agg-aggregate-99b644f5d4d8d2407956303a853d4e86', 2, 6)\",\"('apply_transform-diffraction_pattern-getitem-integrate_fourier_space-mean_chunk-7c9ad2ef375ffd501fe93b18f6994048', 3, 3, 6)\",\"('apply_transform-diffraction_pattern-getitem-integrate_fourier_space-mean_chunk-7c9ad2ef375ffd501fe93b18f6994048', 3, 4, 0)\",\"('mean_chunk-7c9ad2ef375ffd501fe93b18f6994048', 3, 3, 4)\",\"('mean_chunk-7c9ad2ef375ffd501fe93b18f6994048', 3, 3, 2)\",\"('mean_chunk-7c9ad2ef375ffd501fe93b18f6994048', 3, 2, 5)\",\"('mean_combine-partial-9a2d39d18184aa744afb7843e479c400', 1, 3, 4)\",\"('mean_combine-partial-9a2d39d18184aa744afb7843e479c400', 1, 3, 2)\",\"('mean_combine-partial-9a2d39d18184aa744afb7843e479c400', 1, 2, 5)\",\"('mean_agg-aggregate-99b644f5d4d8d2407956303a853d4e86', 3, 4)\",\"('mean_chunk-7c9ad2ef375ffd501fe93b18f6994048', 3, 3, 0)\",\"('mean_agg-aggregate-99b644f5d4d8d2407956303a853d4e86', 2, 5)\",\"('mean_chunk-7c9ad2ef375ffd501fe93b18f6994048', 3, 3, 1)\",\"('mean_agg-aggregate-99b644f5d4d8d2407956303a853d4e86', 3, 2)\",\"('apply_transform-diffraction_pattern-getitem-integrate_fourier_space-mean_chunk-7c9ad2ef375ffd501fe93b18f6994048', 3, 4, 1)\",\"('mean_combine-partial-9a2d39d18184aa744afb7843e479c400', 1, 3, 0)\",\"('apply_transform-diffraction_pattern-getitem-integrate_fourier_space-mean_chunk-7c9ad2ef375ffd501fe93b18f6994048', 3, 4, 2)\",\"('mean_combine-partial-9a2d39d18184aa744afb7843e479c400', 1, 3, 1)\",\"('apply_transform-diffraction_pattern-getitem-integrate_fourier_space-mean_chunk-7c9ad2ef375ffd501fe93b18f6994048', 3, 4, 3)\",\"('mean_agg-aggregate-99b644f5d4d8d2407956303a853d4e86', 3, 0)\",\"('mean_agg-aggregate-99b644f5d4d8d2407956303a853d4e86', 3, 1)\",\"('apply_transform-diffraction_pattern-getitem-integrate_fourier_space-mean_chunk-7c9ad2ef375ffd501fe93b18f6994048', 3, 4, 5)\",\"('apply_transform-diffraction_pattern-getitem-integrate_fourier_space-mean_chunk-7c9ad2ef375ffd501fe93b18f6994048', 3, 4, 6)\",\"('mean_chunk-7c9ad2ef375ffd501fe93b18f6994048', 3, 3, 5)\",\"('mean_combine-partial-9a2d39d18184aa744afb7843e479c400', 1, 3, 5)\",\"('mean_agg-aggregate-99b644f5d4d8d2407956303a853d4e86', 3, 5)\",\"('apply_transform-diffraction_pattern-getitem-integrate_fourier_space-mean_chunk-7c9ad2ef375ffd501fe93b18f6994048', 3, 5, 0)\",\"('mean_chunk-7c9ad2ef375ffd501fe93b18f6994048', 3, 3, 6)\",\"('mean_combine-partial-9a2d39d18184aa744afb7843e479c400', 1, 3, 6)\",\"('mean_agg-aggregate-99b644f5d4d8d2407956303a853d4e86', 3, 6)\",\"('apply_transform-diffraction_pattern-getitem-integrate_fourier_space-mean_chunk-7c9ad2ef375ffd501fe93b18f6994048', 3, 5, 1)\",\"('mean_chunk-7c9ad2ef375ffd501fe93b18f6994048', 3, 4, 2)\",\"('mean_combine-partial-9a2d39d18184aa744afb7843e479c400', 1, 4, 2)\",\"('mean_chunk-7c9ad2ef375ffd501fe93b18f6994048', 3, 4, 1)\",\"('mean_chunk-7c9ad2ef375ffd501fe93b18f6994048', 3, 4, 0)\",\"('mean_agg-aggregate-99b644f5d4d8d2407956303a853d4e86', 4, 2)\",\"('mean_combine-partial-9a2d39d18184aa744afb7843e479c400', 1, 4, 1)\",\"('mean_chunk-7c9ad2ef375ffd501fe93b18f6994048', 3, 4, 3)\",\"('mean_combine-partial-9a2d39d18184aa744afb7843e479c400', 1, 4, 0)\",\"('mean_chunk-7c9ad2ef375ffd501fe93b18f6994048', 3, 4, 5)\",\"('apply_transform-diffraction_pattern-getitem-integrate_fourier_space-mean_chunk-7c9ad2ef375ffd501fe93b18f6994048', 3, 5, 2)\",\"('mean_chunk-7c9ad2ef375ffd501fe93b18f6994048', 3, 4, 6)\",\"('mean_combine-partial-9a2d39d18184aa744afb7843e479c400', 1, 4, 3)\",\"('mean_agg-aggregate-99b644f5d4d8d2407956303a853d4e86', 4, 1)\",\"('mean_combine-partial-9a2d39d18184aa744afb7843e479c400', 1, 4, 5)\",\"('mean_agg-aggregate-99b644f5d4d8d2407956303a853d4e86', 4, 0)\",\"('mean_combine-partial-9a2d39d18184aa744afb7843e479c400', 1, 4, 6)\",\"('mean_agg-aggregate-99b644f5d4d8d2407956303a853d4e86', 4, 3)\",\"('mean_agg-aggregate-99b644f5d4d8d2407956303a853d4e86', 4, 5)\",\"('apply_transform-diffraction_pattern-getitem-integrate_fourier_space-mean_chunk-7c9ad2ef375ffd501fe93b18f6994048', 3, 5, 3)\",\"('apply_transform-diffraction_pattern-getitem-integrate_fourier_space-mean_chunk-7c9ad2ef375ffd501fe93b18f6994048', 3, 5, 4)\",\"('mean_agg-aggregate-99b644f5d4d8d2407956303a853d4e86', 4, 6)\",\"('apply_transform-diffraction_pattern-getitem-integrate_fourier_space-mean_chunk-7c9ad2ef375ffd501fe93b18f6994048', 3, 5, 6)\",\"('apply_transform-diffraction_pattern-getitem-integrate_fourier_space-mean_chunk-7c9ad2ef375ffd501fe93b18f6994048', 3, 6, 0)\",\"('apply_transform-diffraction_pattern-getitem-integrate_fourier_space-mean_chunk-7c9ad2ef375ffd501fe93b18f6994048', 3, 6, 1)\",\"('mean_chunk-7c9ad2ef375ffd501fe93b18f6994048', 3, 5, 0)\",\"('mean_combine-partial-9a2d39d18184aa744afb7843e479c400', 1, 5, 0)\",\"('mean_agg-aggregate-99b644f5d4d8d2407956303a853d4e86', 5, 0)\",\"('apply_transform-diffraction_pattern-getitem-integrate_fourier_space-mean_chunk-7c9ad2ef375ffd501fe93b18f6994048', 3, 6, 2)\",\"('mean_chunk-7c9ad2ef375ffd501fe93b18f6994048', 3, 5, 1)\",\"('mean_combine-partial-9a2d39d18184aa744afb7843e479c400', 1, 5, 1)\",\"('mean_agg-aggregate-99b644f5d4d8d2407956303a853d4e86', 5, 1)\",\"('apply_transform-diffraction_pattern-getitem-integrate_fourier_space-mean_chunk-7c9ad2ef375ffd501fe93b18f6994048', 3, 6, 3)\",\"('mean_chunk-7c9ad2ef375ffd501fe93b18f6994048', 3, 6, 1)\",\"('mean_combine-partial-9a2d39d18184aa744afb7843e479c400', 1, 6, 1)\",\"('mean_agg-aggregate-99b644f5d4d8d2407956303a853d4e86', 6, 1)\",\"('mean_chunk-7c9ad2ef375ffd501fe93b18f6994048', 3, 6, 0)\",\"('apply_transform-diffraction_pattern-getitem-integrate_fourier_space-mean_chunk-7c9ad2ef375ffd501fe93b18f6994048', 3, 6, 4)\",\"('mean_combine-partial-9a2d39d18184aa744afb7843e479c400', 1, 6, 0)\",\"('mean_chunk-7c9ad2ef375ffd501fe93b18f6994048', 3, 5, 6)\",\"('mean_agg-aggregate-99b644f5d4d8d2407956303a853d4e86', 6, 0)\",\"('mean_combine-partial-9a2d39d18184aa744afb7843e479c400', 1, 5, 6)\",\"('apply_transform-diffraction_pattern-getitem-integrate_fourier_space-mean_chunk-7c9ad2ef375ffd501fe93b18f6994048', 3, 6, 5)\",\"('mean_chunk-7c9ad2ef375ffd501fe93b18f6994048', 3, 5, 2)\",\"('mean_agg-aggregate-99b644f5d4d8d2407956303a853d4e86', 5, 6)\",\"('mean_chunk-7c9ad2ef375ffd501fe93b18f6994048', 3, 5, 3)\",\"('mean_chunk-7c9ad2ef375ffd501fe93b18f6994048', 3, 5, 4)\",\"('mean_combine-partial-9a2d39d18184aa744afb7843e479c400', 1, 5, 2)\",\"('mean_combine-partial-9a2d39d18184aa744afb7843e479c400', 1, 5, 3)\",\"('mean_combine-partial-9a2d39d18184aa744afb7843e479c400', 1, 5, 4)\",\"('mean_agg-aggregate-99b644f5d4d8d2407956303a853d4e86', 5, 2)\",\"('mean_agg-aggregate-99b644f5d4d8d2407956303a853d4e86', 5, 3)\",\"('mean_agg-aggregate-99b644f5d4d8d2407956303a853d4e86', 5, 4)\",\"('mean_chunk-7c9ad2ef375ffd501fe93b18f6994048', 3, 6, 2)\",\"('mean_combine-partial-9a2d39d18184aa744afb7843e479c400', 1, 6, 2)\",\"('mean_agg-aggregate-99b644f5d4d8d2407956303a853d4e86', 6, 2)\",\"('mean_chunk-7c9ad2ef375ffd501fe93b18f6994048', 3, 6, 3)\",\"('mean_combine-partial-9a2d39d18184aa744afb7843e479c400', 1, 6, 3)\",\"('mean_chunk-7c9ad2ef375ffd501fe93b18f6994048', 3, 6, 4)\",\"('mean_agg-aggregate-99b644f5d4d8d2407956303a853d4e86', 6, 3)\",\"('mean_combine-partial-9a2d39d18184aa744afb7843e479c400', 1, 6, 4)\",\"('mean_chunk-7c9ad2ef375ffd501fe93b18f6994048', 3, 6, 5)\",\"('mean_agg-aggregate-99b644f5d4d8d2407956303a853d4e86', 6, 4)\",\"('mean_combine-partial-9a2d39d18184aa744afb7843e479c400', 1, 6, 5)\",\"('mean_agg-aggregate-99b644f5d4d8d2407956303a853d4e86', 6, 5)\"],\"width\":[0.0028692059999997355,0.0033557880000003593,0.0034659630000000163,0.0033011020000017766,0.0011930310000032307,0.037502194999998295,0.05218369700000025,0.06319432999999819,0.6384321380000024,0.6397182919999977,0.6423813789999997,0.6301271170000007,0.6501801330000028,0.6188871979999995,0.5978263340000005,0.5790682199999999,0.005127070000000344,0.011272957999999278,0.017189641999998173,0.017157333000000108,0.6207484210000018,0.017214317000000534,0.024076385999997285,0.6449601409999985,0.02398941800000287,0.024219360000000023,0.6509093820000018,0.6432926710000011,0.5881995230000001,0.011195218000001006,0.6083406430000018,0.0017641340000018602,0.6144913920000015,0.0008179689999998629,0.5953234579999993,0.0020159180000014487,0.007000631000000368,0.6084097160000006,0.5714862949999997,0.00834141300000013,0.00889292000000097,0.5840516909999991,0.0017346150000001614,0.001198474000002392,0.013004484000003202,0.013920144000000079,0.5790500020000025,0.5780564860000013,0.5338309310000007,0.5467253770000013,0.520273851999999,0.0019133690000003867,0.007633843000000695,0.5498893819999999,0.013225312999999517,0.5828958459999996,0.010031788999999236,0.5408097200000022,0.010252695999998451,0.008954073000001728,0.016117580999999603,0.5610883919999985,0.016396502999999285,0.5346131420000013,0.5419592479999977,0.5584684709999976,0.5343720539999985,0.0003066750000009222,0.6199661859999992,0.001421683000000229,0.6015753190000019,0.006379525999999913,0.5941319820000004,0.003963931000001253,0.003533642999997255,0.009869262000002266,0.5529375280000011,0.02144851699999961,0.5629551330000027,0.5151686170000005,0.0010380629999993118,0.5518150490000018,0.5915626690000018,0.0006387610000011534,0.5892531530000014,0.0011416560000014897,0.570260245,0.00405392800000115,0.0030419710000018085,0.011585177999997143,0.01793819500000282,0.025287472000002253,0.5968187259999986,0.5374284070000002,0.5574279820000001,0.5745306449999994,0.5581239500000024,0.001992613000002308,0.5426158190000017,0.004231605999997612,0.0016568170000006432,0.007975942000001623,0.6514131089999999,0.6572609679999992,0.5732915970000008,0.0004733990000005406,0.6066375149999992,0.001641088999999596,0.009549902999999915,0.6145526359999991,0.006904174999998958,0.573854793999999,0.0013893879999997694,0.5951356089999997,0.5944003580000015,0.00015300100000104067,0.5989771289999979,0.000607248000001448,0.5651347999999992,0.001504106999998811,0.5853375320000005,0.005801776000001979,0.011753101000000044,0.010497917000002133,0.016354915000000858,0.5551942819999987,0.01581038200000151,0.5631431909999982,0.5570635379999977,0.5386538069999993,0.5430497600000024,0.004105157000001469,0.000703943999997847,0.008342097999999964,0.005224937000001262,0.5626734189999993,0.5894673230000009,0.008063195000001855,0.003119977000000773,0.0036426029999994114,0.0025545200000003376,0.008376328000000655,0.008566148999999967,0.008568102000001687,0.008685737000000415,0.5312440000000009,0.00951571599999923,0.009598053999997802,0.017556610999999833,0.5522620509999996,0.019548565999997436,0.5656401429999995,0.5223541620000027,0.5342765479999976,0.5711067720000003,0.0013246450000004018,0.0019696669999973437,0.0032391019999984394,0.014685490000001522,0.5778123589999993,0.012376041999999643,0.5992077020000011,0.0013926629999971851,0.001664490999999657,0.002421956000002723,0.002772818000000399,0.009578902000001221,0.018467486999998783,0.5904633940000004,0.011042967000001624,0.585115867999999,0.007385584000001444,0.6006603799999972,0.5635026359999991,0.0006047319999993306,0.6018314969999992,0.0008827260000003889,0.0007456680000004212,0.5793340700000016,0.00038102899999969964,0.0005170250000006149,0.6118155959999996,0.0033353090000005636,0.006377947000000717,0.00803855599999892,0.0066121859999981325,0.004339786999999262,0.0072683349999991265,0.010696788000000623,0.6008264170000004,0.02333468900000213,0.6066361710000017,0.5974588599999962,0.011275366999999648,0.5959677130000003,0.004976668000001183,0.002114426999998642,0.0013935539999998525,0.0011879249999999786,0.009756407000001133,0.564742686999999,0.5616243960000027,0.5483334860000042,0.00043080400000405916,0.00379258899999968,0.5819699400000005,0.007960713000002784,0.004000227999995332,0.0036444339999945896,0.008105508999996403,0.010451461000002382,0.010404600999997626,0.010464577000000475,0.6103199159999946,0.0049609419999967486,0.012035904999997626,0.011714213999994172,0.01985333300000036,0.020368617999999117,0.6334888149999998,0.016795346000002098,0.6160250049999973,0.017916506999995363,0.5703910150000056,0.5695246679999997,0.5817814250000026,0.5999412769999992,0.0005890139999991106,0.0008000070000022674,0.5871888539999972,0.00524963499999842,0.0019248629999992772,0.002905023000003837,0.0027560139999991407,0.0036319089999992116,0.021090640000004157,0.6431134609999987,0.6155976589999952,0.016354644000003304,0.6057860859999948,0.011687477999998919,0.004653471000004572,0.0018472690000024272,0.0015494640000000004,0.010368425999999431,0.017524377000000868,0.5667036290000027,0.5408648550000024,0.001576276999998072,0.5247592359999942,0.5628859320000004,0.000556074999998657,0.0006110509999999181,0.5859395710000044,0.00039171299999907205,0.0021062069999970845,0.6545690749999977,0.0002809420000033924,0.0005186009999960106,0.6211571909999947,0.003483998999996629,0.002949057000002142,0.0021790519999953517,0.0017231530000003659,0.0044723910000001865,0.011836565999999493,0.019282444999994652,0.5352374630000014,0.008855021999998769,0.5489302750000036,0.008915202000004285,0.5681133519999975,0.5798481960000004,0.000998158000001581,0.577304251000001,0.000686030000004223,0.00025535700000034467,0.0005132600000052889,0.5895922229999968,0.00020699599999574048,0.00038131600000212984,0.005469630999996866,0.6206693270000017,0.00017462499999965075,0.6702369509999997,0.0008594669999979487,0.0007265050000029305,0.6369568009999966,0.008970104999995954,0.0029538759999994113,0.0030258429999960867,0.011727054000004955,0.017136159999999734,0.6180952950000034,0.547568842000004,0.0006606780000026902,0.5866548770000009,0.006629460999995729,0.5659467739999968,0.00043457900000021255,0.6207419349999981,0.0012324730000017325,0.006812586000002341,0.6373160190000036,0.6504135150000039,0.0007079909999987422,0.6292308709999972,0.0017837269999958494,0.0019590539999967405,0.01005172299999657,0.017389404000006436,0.5460375899999974,0.5687960249999975,0.5896916129999994,0.557320696000005,0.00011469500000060862,0.6702807590000006,0.007707113000002153,0.692673812999999,0.005622954000003233,0.009951257999993857,0.6511622960000025,0.016749509999996803,0.6901472300000009,0.0028538820000036935,0.010285543999998481,0.01934651300000212,0.6783366059999949,0.6700067959999956,0.6480174240000025,0.6502934839999952,0.0018151569999957928,0.5796629690000046,0.004385949999999639,0.0062826830000020095,0.6512473490000019,0.5746761959999986,0.0017712669999951913,0.0018207410000030677,0.012551367999996899,0.019708072999996773,0.027009155000001783,0.5958967120000054,0.5838071109999987,0.545495926000001,0.5688360850000009,0.5384427100000053,0.0010623110000054226,0.6393086390000065,0.0018839150000005134,0.0013424430000057441,0.6323554760000007,0.5838672450000004,0.0015860970000005636,0.001663593000003516,0.012473178999997003,0.01944298800000155,0.6112199579999995,0.5696184049999999,0.5367101160000018,0.5426084299999943,0.0004762159999955884,0.5368312569999958,0.0002455850000018245,0.7164792960000028,0.010686538999998163,0.012838331000004644,0.009554123000000914,0.7040922320000007,0.001350714000004416,0.011921843999999737,0.7517568350000019,0.7476072709999997,0.7387673520000035,0.7244740390000004,0.0013737909999989029,0.0007920640000023127,0.7268761230000038,0.7098675189999994,0.004535199999999406,0.000736873999997556,0.0005843659999982265,0.5854970210000019,0.00015283300000135114,0.0004275519999978883,0.0005042260000038823,0.5887479399999975,0.0034970500000000015,0.002215552999999204,0.001970380999999577,0.0029648110000053407,0.003605274999998187,0.0035280540000002247,0.003979063999999255,0.003026275999999939,0.003468003000001829,0.0034363940000048387,0.0030373869999991143,0.009236012999998877,0.010229717999997945,0.01683745100000067,0.024170835999996143,0.6091454769999984,0.018125750999999468,0.5579168949999982,0.6018982010000045,0.007470210000001032,0.593488556000004,0.5457684,0.0007174420000026771,0.5764761629999953,0.0002538990000005015,0.00042128100000127233,0.002380688000002351,0.6261428070000008,0.004400861000000589,0.0006067759999979216,0.0010835950000043226,0.6144528490000027,0.009889793999995788,0.002193411000000367,0.001774832000002391,0.0012342739999979813,0.0010061059999983968,0.0009555689999984907,0.6357712860000007,0.5770994120000026,0.0014526510000010262,0.001446192999999596,0.0018688919999974019,0.0025919250000043803,0.002492792000005295,0.002657538000001125,0.002338176999998609,0.0024142050000008908,0.002960534000003179,0.004880809999995961,0.014587343000002306,0.02095481100000285,0.6078798089999964,0.5984240219999961,0.5819543330000059,0.5689439129999982,0.00021497799999536937,0.0008097239999997896,0.0005388169999989145,0.5844333900000009,0.00016470700000326133,0.010290727999993976,0.0025015419999974142,0.002563649999999029,0.0010505819999977462,0.0011444900000014968,0.597241621000002,0.6231769130000018,0.0009522729999957846,0.0007881789999970579,0.001290071000006776,0.0014012319999991973,0.007332020999996303,0.005463865000002954,0.002100966000000426,0.0023228769999974475,0.009914631999997425,0.010021503000004373,0.016804880999998772,0.5984836949999988,0.009587798999994845,0.5754803580000001,0.012074923000000126,0.5875457630000014,0.0012648920000017938,0.0014463839999976358,0.5771889829999992,0.5636905540000043,0.0007703600000041888,0.0005356690000013486,0.000563866999996776,0.608423848000001,0.0002862449999980754,0.004227409999998599,0.0029000000000038995,0.5506211699999994,0.005224961999999778,0.0025045249999990915,0.0034018330000051833,0.006575144999999338,0.005974692000002335,0.013698748000003036,0.010057562000000075,0.013096618999995258,0.011716400000004512,0.5777912729999954,0.004083870999998851,0.0031978120000033528,0.0031888019999968265,0.0017214519999981803,0.002509530000004645,0.011918356000002461,0.01964460700000359,0.020032761999999593,0.573318368999999,0.564336216000001,0.007852935000002503,0.5401443709999967,0.5165910199999999,0.4961616509999942,0.0004023750000001769,0.0006083520000004228,0.0004026920000015366,0.4565561630000019,0.0019546019999978625,0.004367794000003755,0.0011278120000000058,0.4151838000000012,0.0004457209999984002,0.00045123700000004874,0.0042882950000020514,0.0016935219999965057,0.38781180499999834,0.0009460269999976845,0.0008852599999968902,0.0008492400000008615,0.010391688000005672,0.3735254390000051,0.0024448670000012385,0.0018402829999999426,0.0008248009999931583,0.0018361839999982976,0.0041999339999989616,0.0033420809999995527,0.0014155490000007376,0.0015899329999982115,0.0007676260000053503,0.0006027370000012411,0.0015886360000010313,0.00034689900000017815,0.000378679000000659,0.001044450999998503,0.00046752800000149364,0.0021378309999988687,0.0022262009999991506,0.0007075319999998442,0.0006882939999997006,0.0007167670000001181,0.0003112549999997327,0.0001924879999961604],\"x\":[0.0014346029999998677,0.0018866469999991864,0.0021308944999987034,0.0024980689999978267,0.004110659500000224,0.022567073499999424,0.03019201949999939,0.036211115000000405,0.3243142910000003,0.32522042799999795,0.32699331649999763,0.3211337644999972,0.3315082024999967,0.354987248999997,0.35697330899999713,0.3592935240000017,0.6459907259999973,0.6506631249999977,0.6567219129999984,0.6570925924999997,0.9591374174999991,0.6644307274999974,0.6682946279999982,0.9790201834999976,0.6763534019999966,0.6773782510000004,0.9910674039999989,0.9945969165000008,0.9743347114999992,0.6938717649999973,0.9935741574999994,0.7002601729999967,1.0082802700000002,0.7124928464999982,1.011042648,1.2704090729999962,1.2748583804999996,1.5824622820000016,1.5728972914999986,1.3038000204999989,1.3123626149999978,1.6006464724999994,1.3163225784999995,1.3167936349999962,1.3229811900000001,1.323724329000001,1.6066674379999988,1.606379368999999,1.5963253265000006,1.6039842454999977,1.6053506399999975,1.8641314744999988,1.8688576954999974,2.1403738320000016,1.8792303094999987,2.1687269199999974,1.8907581825000008,2.157010948,1.8977353739999998,1.8998289815000007,1.9037851634999967,2.1766649220000005,1.9110059254999996,2.171538360999996,2.1827250489999983,2.198357880499998,2.1958891709999975,2.4165288774999993,2.729411030999998,2.428995588500001,2.7395587305000006,2.442509140999995,2.743915476999998,2.4591273214999987,2.461863544499998,2.4659997939999982,2.739488228999999,2.4743080864999953,2.752335066499999,2.735088286499998,2.4854813624999963,2.761846221500001,2.790115588500001,2.9934614585000006,3.2887138014999984,3.020802104999998,3.3072082604999977,3.039715964999999,3.0408389784999983,3.0460713509999984,3.0498679365,3.054322846999998,3.3406838319999963,3.320495509499999,3.337457325999999,3.3541533705000006,3.355701803999999,3.0891906864999967,3.379275020499996,3.5912135399999983,3.593049849499998,3.597220661999998,3.9195024125000018,3.929711937999997,3.902735086499998,3.624619319499999,3.9319732554999973,3.6398344324999954,3.6453830044999975,3.948606355999999,3.6535444665000014,3.937446647999998,3.657624166999998,3.9558039424999976,3.9628153269999977,4.190167003499997,4.490017672499999,4.225318100999999,4.508595864,4.2393206335,4.537800368999996,4.256203389999996,4.2616978974999995,4.263535552499999,4.267227959499998,4.537542367999997,4.275416440999997,4.550294276499997,4.553853814,4.552573393499998,4.562001378999998,4.7923473265,4.794680483999997,4.799156960999998,4.805868610499999,5.089729107499998,5.109799435499998,4.8258839055,4.831412054499999,4.8321905715,4.833090929000001,4.836527504999999,4.837205502499998,4.837758971999996,4.838312020499998,5.099936830999997,4.845417628,4.846210481,4.850742852499998,5.1187281214999985,4.859857472999998,5.133738843499998,5.120612715,5.136649192,5.163597566,5.3716280505,5.373193852499998,5.375681424999996,5.384566663000001,5.670621418499998,5.398027484,5.694386820999998,5.404418047499998,5.4049803974999975,5.405684334999997,5.406458913999998,5.410545044999999,5.416073216499996,5.703004254,5.420744996499998,5.7090178249999965,5.428921619999997,5.726510548,5.714285486999998,5.441287327999998,5.744334499499999,5.455644420999999,5.458643849999998,5.749300261999998,5.960141673499997,5.9608616875,6.2712414249999995,5.997623319499997,6.001327483499999,6.003255355,6.004811744999998,6.006570638499998,6.010843505499999,6.013412324000001,6.309098309499998,6.0260726564999985,6.321980205499997,6.325488824999997,6.0433066895,6.336862159499997,6.0476543269999965,6.0499455665,6.050771552999997,6.051545005499996,6.056285040500001,6.334431789499998,6.341897289000002,6.352583906,6.577887365999999,6.580322678499996,6.874502618999998,6.617971426499999,6.623884951999997,6.624472238999999,6.628212628499995,6.630472105499997,6.631042916499993,6.631476001500005,6.931848895999998,6.634675082999998,6.640789532499994,6.641503272999998,6.646131983499998,6.646845174999996,6.953848883500001,6.655138593999993,6.955316123499998,6.664923235499998,6.942130270500002,6.948191907999998,6.964666614499997,6.9830455305,7.166246059999999,7.167291335499996,7.461658834999994,7.2355082025,7.2378934125,7.239534921499995,7.240187227,7.242743387499999,7.2520513439999945,7.5660248095,7.563276115500003,7.270708569,7.566156550999999,7.276367905999997,7.281151201499995,7.283049548500003,7.283713501999998,7.288605017999998,7.2926806514999996,7.567758856499999,7.564146446500004,7.302151078499996,7.565235526999999,7.591936800999996,7.7560742094999995,7.757060346499998,8.052331064499995,7.8282412505,7.829769363499999,8.161754096499998,7.845777489,7.849124201499997,8.161589144499999,7.8707074995,7.872489813499996,7.873457083999995,7.874175920500001,7.876140303499994,7.8804053909999965,7.884609456500002,8.145817451500001,7.890674554,8.161939817499999,7.898643530000001,8.179075712,8.192912563,7.911073635000001,8.201213754499996,8.346343187000002,8.3490706865,8.350303011999998,8.646679722499997,8.418997011000002,8.420310237999999,8.4236177425,8.737410379499998,8.438772652499999,8.774261793500003,8.4725250105,8.473252794499999,8.792019901499998,8.484077686500001,8.48995137,8.490472204499994,8.495664552999997,8.499923886000005,8.800926770499998,8.775230452999999,8.508740519999996,8.802318824499999,8.512684047500002,8.801993545999999,8.9421528445,9.253037802499996,9.048840928499999,9.052791568000004,9.368364510500001,9.383429305500002,9.0874534975,9.404654733499996,9.110182795499995,9.110886555999997,9.115456529499994,9.119711726999995,9.384806566999998,9.404801021499999,9.423135884499999,9.416359807,9.564434697500005,9.900193677499999,9.6659538655,10.017701867500001,9.690946804,9.698669901000002,10.020520199000003,9.711952801999999,10.053596056000004,9.719332690000002,9.724338754999998,9.729928714499998,10.059848552999995,10.064384247,10.063505919999997,10.073117530999994,10.237237642499998,10.529134313499995,10.366126315999999,10.369193766500004,10.697859872499997,10.66514077,10.399070147499998,10.399521980499998,10.405237728000003,10.409181052500003,10.413396204499996,10.698307029999995,10.703314824499998,10.69160678,10.7112100425,10.706068177999995,10.819962904500002,11.140460465499999,10.965201232499993,10.966756814500002,11.283511843999996,11.267145297499994,10.995926897499999,10.996407074499999,11.0024301395,11.006388931999993,11.302772275999999,11.293388788499996,11.284377996999993,11.294712700999995,11.031553856999999,11.3020314675,11.462708699499998,11.822747954,11.564341540499996,11.572368110499994,11.5744056765,11.922428928000002,11.578794868000003,11.584681879000001,11.954986222499997,11.953216945500003,11.959961937000003,11.9618395305,11.608991636499994,11.610010094999993,11.9737663545,11.975021571500001,12.183735721000005,12.186972982999997,12.188307520999999,12.481810181499995,12.275144762499998,12.275737995,12.282944882999999,12.578100605000003,12.32869119,12.330388791499999,12.330890919499993,12.331867144499995,12.332621963499996,12.333210901000001,12.333816927,12.334800895999997,12.3361003495,12.336627159999999,12.337254412500002,12.340869357499997,12.342248764000004,12.346193345499998,12.350369889,12.643276050499999,12.354483112499999,12.626251185499996,12.655451581500003,12.366108967000002,12.660203261999996,12.642618176999996,12.379590038000003,12.668993255499998,12.775479639499999,12.776335657499999,12.778093048999999,13.092962528499996,12.882226281499996,12.896726123999997,12.898918248499996,13.212335008499998,12.920359997999995,12.926325779500004,12.928227731999996,12.929654444,12.930711950000003,12.931617979499997,13.249865784999997,13.236312365999993,12.9570523015,12.957594059499996,12.958101216000003,12.958722714499999,12.959493339999995,12.960301536000003,12.961133764499998,12.961874994499993,12.963043240999994,12.964674630999994,12.970310078499999,12.974916537499993,13.270968463499997,13.276711370000001,13.276272276499995,13.281464783499999,13.407417843999994,13.408342993999995,13.409468242499997,13.702471609,13.520572408500001,13.527787544999995,13.534064072999996,13.536529811999998,13.536748594000002,13.538306114000001,13.837393929499996,13.865095541499997,13.567642275499999,13.568066221499997,13.568703270499995,13.569098134,13.572952462499998,13.572463120500004,13.575904508,13.5763091655,13.580814469999993,13.5815679655,13.585299867499998,13.8766422215,13.590484601499995,13.874237003000005,13.599663224499999,13.888965536499995,13.606237199999995,13.607506381999997,13.896724986499997,13.904594033999999,13.99559455,13.997030192499999,13.997932822499997,14.304831866,14.136591250499997,14.139138205999998,14.146116176999996,14.424423286,14.170169672999997,14.177056589499998,14.178319021500002,14.181525846500001,14.182938746999994,14.189513781000002,14.189779957999995,14.191804639499999,14.191719468000002,14.4752603485,14.196801512500002,14.197891466000002,14.199101188999997,14.199121364999996,14.200039974999996,14.205372189000002,14.209739347499998,14.210651073000001,14.4878784605,14.493404468999998,14.2234071245,14.490658215499998,14.485548069999993,14.484492352499998,14.609799979499996,14.610767674999998,14.611569211000003,14.8402888675,14.705331324,14.709128702999998,14.714229153999995,14.925383690000004,14.737496180500003,14.738573815500004,14.743241642499996,14.746167548999999,14.940842494499996,14.761110067499999,14.761951998,14.762751856999998,14.768310415000002,14.950835289499999,14.774647317499998,14.775377741499994,14.775908847499998,14.776732748,14.778329440999997,14.779263243499997,14.781064444499997,14.781661194500003,14.782088438000002,14.782706281499998,15.070062143000001,15.071379937499998,15.072033983499992,15.133844467499998,15.134924521999999,15.136181593499998,15.136454803500001,15.137861520000001,15.138126637999996,15.138781549499996,15.139251878499998,15.139690633999997],\"y\":[8,7,7,7,8,8,7,7,2,7,8,3,1,4,5,6,3,5,8,8,2,5,1,4,3,5,7,3,5,8,1,6,6,8,8,5,2,2,5,4,4,8,3,4,6,7,4,1,6,3,7,5,6,5,6,1,6,2,4,8,6,4,8,6,8,3,7,5,5,2,2,6,6,1,7,4,1,8,4,8,3,3,7,8,8,1,1,6,3,2,4,3,5,6,3,2,7,4,4,8,1,6,1,8,6,3,7,3,3,2,5,3,5,4,5,6,6,3,3,7,7,8,5,2,8,5,1,4,1,8,2,3,3,6,6,6,5,3,3,2,8,1,3,8,4,3,7,4,2,8,1,7,1,4,2,3,3,3,1,6,3,1,3,4,5,3,4,3,4,5,8,5,7,5,3,2,3,3,3,6,6,6,4,8,4,1,5,1,8,5,7,1,4,8,7,8,3,8,3,8,2,8,3,6,6,6,2,2,8,1,2,8,3,7,2,8,3,1,5,8,3,2,4,1,4,5,3,6,6,6,7,4,1,4,7,5,7,5,1,2,4,8,1,3,8,4,3,4,8,1,8,6,6,6,1,1,1,4,4,4,3,5,2,5,2,5,7,2,5,7,5,8,3,5,5,6,6,6,6,2,2,2,7,2,2,8,8,4,3,3,1,5,8,5,3,1,8,1,1,6,6,3,3,3,7,1,8,2,5,5,4,1,4,5,2,6,6,1,1,4,4,7,8,3,5,4,5,8,2,4,5,6,6,7,7,7,1,4,3,8,2,5,8,4,5,2,3,6,6,1,1,1,5,3,3,4,2,8,4,3,7,2,2,6,6,3,4,7,5,4,3,2,4,7,1,3,3,3,8,6,6,6,6,5,5,5,5,1,7,1,4,7,8,2,7,1,2,7,3,2,7,3,1,4,8,2,7,4,3,7,7,6,6,6,6,5,5,5,3,8,5,5,5,5,8,5,8,2,2,2,2,1,2,1,2,7,2,7,2,7,2,1,4,6,6,6,6,3,8,3,3,8,8,3,8,4,5,4,1,4,7,5,5,2,1,5,5,2,7,2,4,1,1,1,2,6,6,6,6,3,3,3,3,7,7,8,5,1,7,8,4,5,7,1,5,4,1,4,8,1,4,8,1,2,4,5,2,6,6,6,6,3,3,3,3,2,2,5,5,2,4,5,5,5,8,5,1,5,5,4,5,7,5,7,4,1,4,6,7,5,1,1,7,7,4,6,1]},\"selected\":{\"id\":\"1047\"},\"selection_policy\":{\"id\":\"1046\"}},\"id\":\"1032\",\"type\":\"ColumnDataSource\"},{\"attributes\":{\"end\":15.139786877999995},\"id\":\"1006\",\"type\":\"Range1d\"},{\"attributes\":{},\"id\":\"1042\",\"type\":\"AllLabels\"},{\"attributes\":{},\"id\":\"1045\",\"type\":\"AllLabels\"},{\"attributes\":{},\"id\":\"1015\",\"type\":\"BasicTicker\"},{\"attributes\":{},\"id\":\"1023\",\"type\":\"ResetTool\"},{\"attributes\":{\"factors\":[\"0\",\"1\",\"2\",\"3\",\"4\",\"5\",\"6\",\"7\"]},\"id\":\"1008\",\"type\":\"FactorRange\"},{\"attributes\":{\"dimensions\":\"width\"},\"id\":\"1024\",\"type\":\"WheelZoomTool\"},{\"attributes\":{\"fill_alpha\":{\"value\":0.1},\"fill_color\":{\"field\":\"color\"},\"hatch_alpha\":{\"value\":0.1},\"hatch_color\":{\"field\":\"color\"},\"height\":{\"value\":1},\"line_alpha\":{\"value\":0.1},\"line_color\":{\"value\":\"gray\"},\"width\":{\"field\":\"width\"},\"x\":{\"field\":\"x\"},\"y\":{\"field\":\"y\"}},\"id\":\"1035\",\"type\":\"Rect\"},{\"attributes\":{\"axis_label\":\"Worker ID\",\"axis_line_color\":null,\"coordinates\":null,\"formatter\":{\"id\":\"1041\"},\"group\":null,\"major_label_policy\":{\"id\":\"1042\"},\"major_tick_line_color\":null,\"ticker\":{\"id\":\"1019\"}},\"id\":\"1018\",\"type\":\"CategoricalAxis\"},{\"attributes\":{\"callback\":null,\"point_policy\":\"follow_mouse\",\"tooltips\":\"\\n    <div>\\n        <span style=\\\"font-size: 14px; font-weight: bold;\\\">Key:</span>&nbsp;\\n        <span style=\\\"font-size: 10px; font-family: Monaco, monospace;\\\">@key</span>\\n    </div>\\n    <div>\\n        <span style=\\\"font-size: 14px; font-weight: bold;\\\">Task:</span>&nbsp;\\n        <span style=\\\"font-size: 10px; font-family: Monaco, monospace;\\\">@function</span>\\n    </div>\\n    \"},\"id\":\"1021\",\"type\":\"HoverTool\"},{\"attributes\":{\"tools\":[{\"id\":\"1021\"},{\"id\":\"1022\"},{\"id\":\"1023\"},{\"id\":\"1024\"},{\"id\":\"1025\"}]},\"id\":\"1026\",\"type\":\"Toolbar\"},{\"attributes\":{\"fill_color\":{\"field\":\"color\"},\"hatch_color\":{\"field\":\"color\"},\"height\":{\"value\":1},\"line_color\":{\"value\":\"gray\"},\"width\":{\"field\":\"width\"},\"x\":{\"field\":\"x\"},\"y\":{\"field\":\"y\"}},\"id\":\"1034\",\"type\":\"Rect\"},{\"attributes\":{\"axis\":{\"id\":\"1014\"},\"coordinates\":null,\"grid_line_color\":null,\"group\":null,\"ticker\":null},\"id\":\"1017\",\"type\":\"Grid\"},{\"attributes\":{},\"id\":\"1041\",\"type\":\"CategoricalTickFormatter\"},{\"attributes\":{\"dimensions\":\"width\"},\"id\":\"1025\",\"type\":\"PanTool\"},{\"attributes\":{\"axis_label\":\"Time (s)\",\"axis_line_color\":null,\"coordinates\":null,\"formatter\":{\"id\":\"1044\"},\"group\":null,\"major_label_policy\":{\"id\":\"1045\"},\"major_tick_line_color\":null,\"ticker\":{\"id\":\"1015\"}},\"id\":\"1014\",\"type\":\"LinearAxis\"},{\"attributes\":{\"source\":{\"id\":\"1032\"}},\"id\":\"1038\",\"type\":\"CDSView\"},{\"attributes\":{},\"id\":\"1044\",\"type\":\"BasicTickFormatter\"},{\"attributes\":{},\"id\":\"1012\",\"type\":\"CategoricalScale\"},{\"attributes\":{\"coordinates\":null,\"data_source\":{\"id\":\"1032\"},\"glyph\":{\"id\":\"1034\"},\"group\":null,\"hover_glyph\":null,\"muted_glyph\":{\"id\":\"1036\"},\"nonselection_glyph\":{\"id\":\"1035\"},\"view\":{\"id\":\"1038\"}},\"id\":\"1037\",\"type\":\"GlyphRenderer\"},{\"attributes\":{},\"id\":\"1046\",\"type\":\"UnionRenderers\"},{\"attributes\":{\"fill_alpha\":{\"value\":0.2},\"fill_color\":{\"field\":\"color\"},\"hatch_alpha\":{\"value\":0.2},\"hatch_color\":{\"field\":\"color\"},\"height\":{\"value\":1},\"line_alpha\":{\"value\":0.2},\"line_color\":{\"value\":\"gray\"},\"width\":{\"field\":\"width\"},\"x\":{\"field\":\"x\"},\"y\":{\"field\":\"y\"}},\"id\":\"1036\",\"type\":\"Rect\"}],\"root_ids\":[\"1003\"]},\"title\":\"Bokeh Application\",\"version\":\"2.4.3\"}};\n",
       "  const render_items = [{\"docid\":\"6c706e33-6fbe-477e-9ff1-b6793f8731d1\",\"root_ids\":[\"1003\"],\"roots\":{\"1003\":\"69cc93db-1001-4a93-9219-506ef301049f\"}}];\n",
       "  root.Bokeh.embed.embed_items_notebook(docs_json, render_items);\n",
       "  }\n",
       "  if (root.Bokeh !== undefined) {\n",
       "    embed_document(root);\n",
       "  } else {\n",
       "    let attempts = 0;\n",
       "    const timer = setInterval(function(root) {\n",
       "      if (root.Bokeh !== undefined) {\n",
       "        clearInterval(timer);\n",
       "        embed_document(root);\n",
       "      } else {\n",
       "        attempts++;\n",
       "        if (attempts > 100) {\n",
       "          clearInterval(timer);\n",
       "          console.log(\"Bokeh: ERROR: Unable to run BokehJS code because BokehJS library is missing\");\n",
       "        }\n",
       "      }\n",
       "    }, 10, root)\n",
       "  }\n",
       "})(window);"
      ],
      "application/vnd.bokehjs_exec.v0+json": ""
     },
     "metadata": {
      "application/vnd.bokehjs_exec.v0+json": {
       "id": "1003"
      }
     },
     "output_type": "display_data"
    }
   ],
   "source": [
    "profilers[0].visualize();"
   ]
  },
  {
   "cell_type": "markdown",
   "id": "9f7afda6-5b1d-4362-9495-4ad140716f5f",
   "metadata": {},
   "source": [
    "The result from the `ResourceProfiler` is shown below: This shows two lines, one for total CPU percentage used by all the workers, and one for total memory usage. The CPU usage is scaled so each worker contributes up to $100 \\ \\%$, i.e. two fully utilized workers use $200 \\ \\%$."
   ]
  },
  {
   "cell_type": "code",
   "execution_count": 15,
   "id": "42497cde-4e5c-4844-91e5-e8d91e1aafa9",
   "metadata": {
    "tags": [
     "skip-test"
    ]
   },
   "outputs": [
    {
     "data": {
      "text/html": [
       "\n",
       "  <div class=\"bk-root\" id=\"224c4f6f-6659-4a20-8588-bb6f29576d24\" data-root-id=\"1102\"></div>\n"
      ]
     },
     "metadata": {},
     "output_type": "display_data"
    },
    {
     "data": {
      "application/javascript": [
       "(function(root) {\n",
       "  function embed_document(root) {\n",
       "  const docs_json = {\"02bc3f4c-e4de-4310-acdc-92c2671fb23f\":{\"defs\":[],\"roots\":{\"references\":[{\"attributes\":{\"below\":[{\"id\":\"1113\"}],\"center\":[{\"id\":\"1116\"},{\"id\":\"1120\"},{\"id\":\"1145\"}],\"extra_y_ranges\":{\"memory\":{\"id\":\"1147\"}},\"height\":300,\"left\":[{\"id\":\"1117\"}],\"renderers\":[{\"id\":\"1134\"},{\"id\":\"1152\"}],\"right\":[{\"id\":\"1166\"}],\"title\":{\"id\":\"1103\"},\"toolbar\":{\"id\":\"1125\"},\"toolbar_location\":\"above\",\"width\":800,\"x_range\":{\"id\":\"1105\"},\"x_scale\":{\"id\":\"1109\"},\"y_range\":{\"id\":\"1107\"},\"y_scale\":{\"id\":\"1111\"}},\"id\":\"1102\",\"subtype\":\"Figure\",\"type\":\"Plot\"},{\"attributes\":{},\"id\":\"1142\",\"type\":\"AllLabels\"},{\"attributes\":{\"line_color\":\"#440154\",\"line_width\":4,\"x\":{\"field\":\"x\"},\"y\":{\"field\":\"y\"}},\"id\":\"1131\",\"type\":\"Line\"},{\"attributes\":{\"axis_label\":\"% CPU\",\"coordinates\":null,\"formatter\":{\"id\":\"1138\"},\"group\":null,\"major_label_policy\":{\"id\":\"1139\"},\"ticker\":{\"id\":\"1118\"}},\"id\":\"1117\",\"type\":\"LinearAxis\"},{\"attributes\":{\"axis\":{\"id\":\"1117\"},\"coordinates\":null,\"dimension\":1,\"group\":null,\"ticker\":null},\"id\":\"1120\",\"type\":\"Grid\"},{\"attributes\":{\"end\":835.182592,\"start\":689.082368},\"id\":\"1147\",\"type\":\"Range1d\"},{\"attributes\":{},\"id\":\"1139\",\"type\":\"AllLabels\"},{\"attributes\":{},\"id\":\"1114\",\"type\":\"BasicTicker\"},{\"attributes\":{\"line_alpha\":0.2,\"line_color\":\"#29788E\",\"line_width\":4,\"x\":{\"field\":\"x\"},\"y\":{\"field\":\"y\"}},\"id\":\"1151\",\"type\":\"Line\"},{\"attributes\":{\"line_alpha\":0.2,\"line_color\":\"#440154\",\"line_width\":4,\"x\":{\"field\":\"x\"},\"y\":{\"field\":\"y\"}},\"id\":\"1133\",\"type\":\"Line\"},{\"attributes\":{},\"id\":\"1121\",\"type\":\"SaveTool\"},{\"attributes\":{\"coordinates\":null,\"data_source\":{\"id\":\"1148\"},\"glyph\":{\"id\":\"1149\"},\"group\":null,\"hover_glyph\":null,\"muted_glyph\":{\"id\":\"1151\"},\"nonselection_glyph\":{\"id\":\"1150\"},\"view\":{\"id\":\"1153\"},\"y_range_name\":\"memory\"},\"id\":\"1152\",\"type\":\"GlyphRenderer\"},{\"attributes\":{},\"id\":\"1111\",\"type\":\"LinearScale\"},{\"attributes\":{\"label\":{\"value\":\"Memory\"},\"renderers\":[{\"id\":\"1152\"}]},\"id\":\"1165\",\"type\":\"LegendItem\"},{\"attributes\":{},\"id\":\"1144\",\"type\":\"Selection\"},{\"attributes\":{\"data\":{\"x\":[0.0,1.014187797,2.0176529960000003,3.01823917,4.019897967,5.021351041,6.026391144,7.026902435,8.027380129,9.031448412,10.033281148,11.038454817,12.041037119,13.041426856,14.043223802],\"y\":[689.082368,759.570432,759.758848,802.045952,762.01984,767.803392,781.651968,764.1088,758.964224,835.182592,767.107072,799.49824,763.092992,782.168064,709.931008]},\"selected\":{\"id\":\"1164\"},\"selection_policy\":{\"id\":\"1163\"}},\"id\":\"1148\",\"type\":\"ColumnDataSource\"},{\"attributes\":{},\"id\":\"1164\",\"type\":\"Selection\"},{\"attributes\":{},\"id\":\"1163\",\"type\":\"UnionRenderers\"},{\"attributes\":{},\"id\":\"1141\",\"type\":\"BasicTickFormatter\"},{\"attributes\":{},\"id\":\"1118\",\"type\":\"BasicTicker\"},{\"attributes\":{},\"id\":\"1180\",\"type\":\"BasicTicker\"},{\"attributes\":{\"coordinates\":null,\"data_source\":{\"id\":\"1130\"},\"glyph\":{\"id\":\"1131\"},\"group\":null,\"hover_glyph\":null,\"muted_glyph\":{\"id\":\"1133\"},\"nonselection_glyph\":{\"id\":\"1132\"},\"view\":{\"id\":\"1135\"}},\"id\":\"1134\",\"type\":\"GlyphRenderer\"},{\"attributes\":{\"end\":14.043223802},\"id\":\"1105\",\"type\":\"Range1d\"},{\"attributes\":{},\"id\":\"1143\",\"type\":\"UnionRenderers\"},{\"attributes\":{},\"id\":\"1182\",\"type\":\"AllLabels\"},{\"attributes\":{\"axis_label\":\"Memory (MB)\",\"coordinates\":null,\"formatter\":{\"id\":\"1181\"},\"group\":null,\"major_label_policy\":{\"id\":\"1182\"},\"ticker\":{\"id\":\"1180\"},\"y_range_name\":\"memory\"},\"id\":\"1166\",\"type\":\"LinearAxis\"},{\"attributes\":{\"coordinates\":null,\"group\":null,\"text\":\"Profile Results\"},\"id\":\"1103\",\"type\":\"Title\"},{\"attributes\":{\"line_color\":\"#29788E\",\"line_width\":4,\"x\":{\"field\":\"x\"},\"y\":{\"field\":\"y\"}},\"id\":\"1149\",\"type\":\"Line\"},{\"attributes\":{\"end\":632.3},\"id\":\"1107\",\"type\":\"Range1d\"},{\"attributes\":{},\"id\":\"1181\",\"type\":\"BasicTickFormatter\"},{\"attributes\":{\"axis_label\":\"Time (s)\",\"coordinates\":null,\"formatter\":{\"id\":\"1141\"},\"group\":null,\"major_label_policy\":{\"id\":\"1142\"},\"ticker\":{\"id\":\"1114\"}},\"id\":\"1113\",\"type\":\"LinearAxis\"},{\"attributes\":{\"label\":{\"value\":\"% CPU\"},\"renderers\":[{\"id\":\"1134\"}]},\"id\":\"1146\",\"type\":\"LegendItem\"},{\"attributes\":{\"tools\":[{\"id\":\"1121\"},{\"id\":\"1122\"},{\"id\":\"1123\"},{\"id\":\"1124\"}]},\"id\":\"1125\",\"type\":\"Toolbar\"},{\"attributes\":{\"dimensions\":\"width\"},\"id\":\"1124\",\"type\":\"PanTool\"},{\"attributes\":{},\"id\":\"1109\",\"type\":\"LinearScale\"},{\"attributes\":{\"data\":{\"x\":[0.0,1.014187797,2.0176529960000003,3.01823917,4.019897967,5.021351041,6.026391144,7.026902435,8.027380129,9.031448412,10.033281148,11.038454817,12.041037119,13.041426856,14.043223802],\"y\":[0.0,583.8,581.5,582.2,615.3,585.7,561.8,626.1,602.9,602.1,598.1,614.0,628.4,620.5,632.3]},\"selected\":{\"id\":\"1144\"},\"selection_policy\":{\"id\":\"1143\"}},\"id\":\"1130\",\"type\":\"ColumnDataSource\"},{\"attributes\":{\"line_alpha\":0.1,\"line_color\":\"#440154\",\"line_width\":4,\"x\":{\"field\":\"x\"},\"y\":{\"field\":\"y\"}},\"id\":\"1132\",\"type\":\"Line\"},{\"attributes\":{\"source\":{\"id\":\"1148\"}},\"id\":\"1153\",\"type\":\"CDSView\"},{\"attributes\":{\"dimensions\":\"width\"},\"id\":\"1123\",\"type\":\"WheelZoomTool\"},{\"attributes\":{\"source\":{\"id\":\"1130\"}},\"id\":\"1135\",\"type\":\"CDSView\"},{\"attributes\":{\"axis\":{\"id\":\"1113\"},\"coordinates\":null,\"group\":null,\"ticker\":null},\"id\":\"1116\",\"type\":\"Grid\"},{\"attributes\":{\"line_alpha\":0.1,\"line_color\":\"#29788E\",\"line_width\":4,\"x\":{\"field\":\"x\"},\"y\":{\"field\":\"y\"}},\"id\":\"1150\",\"type\":\"Line\"},{\"attributes\":{\"coordinates\":null,\"group\":null,\"items\":[{\"id\":\"1146\"},{\"id\":\"1165\"}]},\"id\":\"1145\",\"type\":\"Legend\"},{\"attributes\":{},\"id\":\"1138\",\"type\":\"BasicTickFormatter\"},{\"attributes\":{},\"id\":\"1122\",\"type\":\"ResetTool\"}],\"root_ids\":[\"1102\"]},\"title\":\"Bokeh Application\",\"version\":\"2.4.3\"}};\n",
       "  const render_items = [{\"docid\":\"02bc3f4c-e4de-4310-acdc-92c2671fb23f\",\"root_ids\":[\"1102\"],\"roots\":{\"1102\":\"224c4f6f-6659-4a20-8588-bb6f29576d24\"}}];\n",
       "  root.Bokeh.embed.embed_items_notebook(docs_json, render_items);\n",
       "  }\n",
       "  if (root.Bokeh !== undefined) {\n",
       "    embed_document(root);\n",
       "  } else {\n",
       "    let attempts = 0;\n",
       "    const timer = setInterval(function(root) {\n",
       "      if (root.Bokeh !== undefined) {\n",
       "        clearInterval(timer);\n",
       "        embed_document(root);\n",
       "      } else {\n",
       "        attempts++;\n",
       "        if (attempts > 100) {\n",
       "          clearInterval(timer);\n",
       "          console.log(\"Bokeh: ERROR: Unable to run BokehJS code because BokehJS library is missing\");\n",
       "        }\n",
       "      }\n",
       "    }, 10, root)\n",
       "  }\n",
       "})(window);"
      ],
      "application/vnd.bokehjs_exec.v0+json": ""
     },
     "metadata": {
      "application/vnd.bokehjs_exec.v0+json": {
       "id": "1102"
      }
     },
     "output_type": "display_data"
    }
   ],
   "source": [
    "profilers[1].visualize();"
   ]
  },
  {
   "cell_type": "markdown",
   "id": "95a9fa0a-f044-40cd-8964-9e4a1911fa87",
   "metadata": {},
   "source": [
    "We ran the calculation on a single computer with an 4-core CPU with 2 threads per core for 8 threads total. We see that our peak CPU usage was $\\sim 600 \\%$, this is a fairly typical usage statistic for a single machine, overhead and background processes limited us from reaching the $800 \\ \\%$ corresponding to using every available thread maximally.\n",
    "\n",
    "We also see that the total memory use reached around 800 MB. If you are running the calculation on a system with more threads your memory consumption may be larger – it may even exceed the total memory cost of all the wave functions, as every parallel run of the multislice algorithm requires a significant overhead for intermediate results (such as potential slices and Fresnel propagators). If your calculation runs out of memory you can lower the number of workers, thus trading away computational speed for lower memory consumption.\n",
    "\n",
    "We note that the overhead in both CPU usage and memory diminishes for larger simulation with more powerful hardware."
   ]
  },
  {
   "cell_type": "markdown",
   "id": "88a96448-5a2a-4c60-9ce7-7a2f43845d3c",
   "metadata": {},
   "source": [
    "### The (locally) distributed scheduler\n",
    "The Dask distributed scheduler is necessary for running your simulations on a cluster, but it also runs [locally on a personal machine](https://docs.dask.org/en/stable/scheduling.html#dask-distributed-local). You can find details in the Dask documentation, but we demonstrate the basics below.\n",
    "\n",
    "You can use the Dask distributed scheduler by just initializing a [Dask Client](https://distributed.dask.org/en/stable/client.html). The `Client` takes keyword arguments such as `n_workers` (note that this is different from `num_workers` above!)"
   ]
  },
  {
   "cell_type": "code",
   "execution_count": 16,
   "id": "2b7c37a3-909c-482e-99fb-72e4eb222a5a",
   "metadata": {},
   "outputs": [
    {
     "data": {
      "text/html": [
       "<div>\n",
       "    <div style=\"width: 24px; height: 24px; background-color: #e1e1e1; border: 3px solid #9D9D9D; border-radius: 5px; position: absolute;\"> </div>\n",
       "    <div style=\"margin-left: 48px;\">\n",
       "        <h3 style=\"margin-bottom: 0px;\">Client</h3>\n",
       "        <p style=\"color: #9D9D9D; margin-bottom: 0px;\">Client-6b1b2cb2-1991-11ee-b477-f218984d7c80</p>\n",
       "        <table style=\"width: 100%; text-align: left;\">\n",
       "\n",
       "        <tr>\n",
       "        \n",
       "            <td style=\"text-align: left;\"><strong>Connection method:</strong> Cluster object</td>\n",
       "            <td style=\"text-align: left;\"><strong>Cluster type:</strong> distributed.LocalCluster</td>\n",
       "        \n",
       "        </tr>\n",
       "\n",
       "        \n",
       "            <tr>\n",
       "                <td style=\"text-align: left;\">\n",
       "                    <strong>Dashboard: </strong> <a href=\"http://127.0.0.1:8787/status\" target=\"_blank\">http://127.0.0.1:8787/status</a>\n",
       "                </td>\n",
       "                <td style=\"text-align: left;\"></td>\n",
       "            </tr>\n",
       "        \n",
       "\n",
       "        </table>\n",
       "\n",
       "        \n",
       "            <button style=\"margin-bottom: 12px;\" data-commandlinker-command=\"dask:populate-and-launch-layout\" data-commandlinker-args='{\"url\": \"http://127.0.0.1:8787/status\" }'>\n",
       "                Launch dashboard in JupyterLab\n",
       "            </button>\n",
       "        \n",
       "\n",
       "        \n",
       "            <details>\n",
       "            <summary style=\"margin-bottom: 20px;\"><h3 style=\"display: inline;\">Cluster Info</h3></summary>\n",
       "            <div class=\"jp-RenderedHTMLCommon jp-RenderedHTML jp-mod-trusted jp-OutputArea-output\">\n",
       "    <div style=\"width: 24px; height: 24px; background-color: #e1e1e1; border: 3px solid #9D9D9D; border-radius: 5px; position: absolute;\">\n",
       "    </div>\n",
       "    <div style=\"margin-left: 48px;\">\n",
       "        <h3 style=\"margin-bottom: 0px; margin-top: 0px;\">LocalCluster</h3>\n",
       "        <p style=\"color: #9D9D9D; margin-bottom: 0px;\">714a740a</p>\n",
       "        <table style=\"width: 100%; text-align: left;\">\n",
       "            <tr>\n",
       "                <td style=\"text-align: left;\">\n",
       "                    <strong>Dashboard:</strong> <a href=\"http://127.0.0.1:8787/status\" target=\"_blank\">http://127.0.0.1:8787/status</a>\n",
       "                </td>\n",
       "                <td style=\"text-align: left;\">\n",
       "                    <strong>Workers:</strong> 6\n",
       "                </td>\n",
       "            </tr>\n",
       "            <tr>\n",
       "                <td style=\"text-align: left;\">\n",
       "                    <strong>Total threads:</strong> 12\n",
       "                </td>\n",
       "                <td style=\"text-align: left;\">\n",
       "                    <strong>Total memory:</strong> 16.00 GiB\n",
       "                </td>\n",
       "            </tr>\n",
       "            \n",
       "            <tr>\n",
       "    <td style=\"text-align: left;\"><strong>Status:</strong> running</td>\n",
       "    <td style=\"text-align: left;\"><strong>Using processes:</strong> True</td>\n",
       "</tr>\n",
       "\n",
       "            \n",
       "        </table>\n",
       "\n",
       "        <details>\n",
       "            <summary style=\"margin-bottom: 20px;\">\n",
       "                <h3 style=\"display: inline;\">Scheduler Info</h3>\n",
       "            </summary>\n",
       "\n",
       "            <div style=\"\">\n",
       "    <div>\n",
       "        <div style=\"width: 24px; height: 24px; background-color: #FFF7E5; border: 3px solid #FF6132; border-radius: 5px; position: absolute;\"> </div>\n",
       "        <div style=\"margin-left: 48px;\">\n",
       "            <h3 style=\"margin-bottom: 0px;\">Scheduler</h3>\n",
       "            <p style=\"color: #9D9D9D; margin-bottom: 0px;\">Scheduler-327329c3-782c-4850-a879-148fd9436e44</p>\n",
       "            <table style=\"width: 100%; text-align: left;\">\n",
       "                <tr>\n",
       "                    <td style=\"text-align: left;\">\n",
       "                        <strong>Comm:</strong> tcp://127.0.0.1:60800\n",
       "                    </td>\n",
       "                    <td style=\"text-align: left;\">\n",
       "                        <strong>Workers:</strong> 6\n",
       "                    </td>\n",
       "                </tr>\n",
       "                <tr>\n",
       "                    <td style=\"text-align: left;\">\n",
       "                        <strong>Dashboard:</strong> <a href=\"http://127.0.0.1:8787/status\" target=\"_blank\">http://127.0.0.1:8787/status</a>\n",
       "                    </td>\n",
       "                    <td style=\"text-align: left;\">\n",
       "                        <strong>Total threads:</strong> 12\n",
       "                    </td>\n",
       "                </tr>\n",
       "                <tr>\n",
       "                    <td style=\"text-align: left;\">\n",
       "                        <strong>Started:</strong> Just now\n",
       "                    </td>\n",
       "                    <td style=\"text-align: left;\">\n",
       "                        <strong>Total memory:</strong> 16.00 GiB\n",
       "                    </td>\n",
       "                </tr>\n",
       "            </table>\n",
       "        </div>\n",
       "    </div>\n",
       "\n",
       "    <details style=\"margin-left: 48px;\">\n",
       "        <summary style=\"margin-bottom: 20px;\">\n",
       "            <h3 style=\"display: inline;\">Workers</h3>\n",
       "        </summary>\n",
       "\n",
       "        \n",
       "        <div style=\"margin-bottom: 20px;\">\n",
       "            <div style=\"width: 24px; height: 24px; background-color: #DBF5FF; border: 3px solid #4CC9FF; border-radius: 5px; position: absolute;\"> </div>\n",
       "            <div style=\"margin-left: 48px;\">\n",
       "            <details>\n",
       "                <summary>\n",
       "                    <h4 style=\"margin-bottom: 0px; display: inline;\">Worker: 0</h4>\n",
       "                </summary>\n",
       "                <table style=\"width: 100%; text-align: left;\">\n",
       "                    <tr>\n",
       "                        <td style=\"text-align: left;\">\n",
       "                            <strong>Comm: </strong> tcp://127.0.0.1:60816\n",
       "                        </td>\n",
       "                        <td style=\"text-align: left;\">\n",
       "                            <strong>Total threads: </strong> 2\n",
       "                        </td>\n",
       "                    </tr>\n",
       "                    <tr>\n",
       "                        <td style=\"text-align: left;\">\n",
       "                            <strong>Dashboard: </strong> <a href=\"http://127.0.0.1:60820/status\" target=\"_blank\">http://127.0.0.1:60820/status</a>\n",
       "                        </td>\n",
       "                        <td style=\"text-align: left;\">\n",
       "                            <strong>Memory: </strong> 2.67 GiB\n",
       "                        </td>\n",
       "                    </tr>\n",
       "                    <tr>\n",
       "                        <td style=\"text-align: left;\">\n",
       "                            <strong>Nanny: </strong> tcp://127.0.0.1:60803\n",
       "                        </td>\n",
       "                        <td style=\"text-align: left;\"></td>\n",
       "                    </tr>\n",
       "                    <tr>\n",
       "                        <td colspan=\"2\" style=\"text-align: left;\">\n",
       "                            <strong>Local directory: </strong> /var/folders/_p/k7hrlnh132n933827sxdjkrm0000gn/T/dask-worker-space/worker-bq_nzgdz\n",
       "                        </td>\n",
       "                    </tr>\n",
       "\n",
       "                    \n",
       "\n",
       "                    \n",
       "\n",
       "                </table>\n",
       "            </details>\n",
       "            </div>\n",
       "        </div>\n",
       "        \n",
       "        <div style=\"margin-bottom: 20px;\">\n",
       "            <div style=\"width: 24px; height: 24px; background-color: #DBF5FF; border: 3px solid #4CC9FF; border-radius: 5px; position: absolute;\"> </div>\n",
       "            <div style=\"margin-left: 48px;\">\n",
       "            <details>\n",
       "                <summary>\n",
       "                    <h4 style=\"margin-bottom: 0px; display: inline;\">Worker: 1</h4>\n",
       "                </summary>\n",
       "                <table style=\"width: 100%; text-align: left;\">\n",
       "                    <tr>\n",
       "                        <td style=\"text-align: left;\">\n",
       "                            <strong>Comm: </strong> tcp://127.0.0.1:60817\n",
       "                        </td>\n",
       "                        <td style=\"text-align: left;\">\n",
       "                            <strong>Total threads: </strong> 2\n",
       "                        </td>\n",
       "                    </tr>\n",
       "                    <tr>\n",
       "                        <td style=\"text-align: left;\">\n",
       "                            <strong>Dashboard: </strong> <a href=\"http://127.0.0.1:60822/status\" target=\"_blank\">http://127.0.0.1:60822/status</a>\n",
       "                        </td>\n",
       "                        <td style=\"text-align: left;\">\n",
       "                            <strong>Memory: </strong> 2.67 GiB\n",
       "                        </td>\n",
       "                    </tr>\n",
       "                    <tr>\n",
       "                        <td style=\"text-align: left;\">\n",
       "                            <strong>Nanny: </strong> tcp://127.0.0.1:60804\n",
       "                        </td>\n",
       "                        <td style=\"text-align: left;\"></td>\n",
       "                    </tr>\n",
       "                    <tr>\n",
       "                        <td colspan=\"2\" style=\"text-align: left;\">\n",
       "                            <strong>Local directory: </strong> /var/folders/_p/k7hrlnh132n933827sxdjkrm0000gn/T/dask-worker-space/worker-iuryptxk\n",
       "                        </td>\n",
       "                    </tr>\n",
       "\n",
       "                    \n",
       "\n",
       "                    \n",
       "\n",
       "                </table>\n",
       "            </details>\n",
       "            </div>\n",
       "        </div>\n",
       "        \n",
       "        <div style=\"margin-bottom: 20px;\">\n",
       "            <div style=\"width: 24px; height: 24px; background-color: #DBF5FF; border: 3px solid #4CC9FF; border-radius: 5px; position: absolute;\"> </div>\n",
       "            <div style=\"margin-left: 48px;\">\n",
       "            <details>\n",
       "                <summary>\n",
       "                    <h4 style=\"margin-bottom: 0px; display: inline;\">Worker: 2</h4>\n",
       "                </summary>\n",
       "                <table style=\"width: 100%; text-align: left;\">\n",
       "                    <tr>\n",
       "                        <td style=\"text-align: left;\">\n",
       "                            <strong>Comm: </strong> tcp://127.0.0.1:60815\n",
       "                        </td>\n",
       "                        <td style=\"text-align: left;\">\n",
       "                            <strong>Total threads: </strong> 2\n",
       "                        </td>\n",
       "                    </tr>\n",
       "                    <tr>\n",
       "                        <td style=\"text-align: left;\">\n",
       "                            <strong>Dashboard: </strong> <a href=\"http://127.0.0.1:60818/status\" target=\"_blank\">http://127.0.0.1:60818/status</a>\n",
       "                        </td>\n",
       "                        <td style=\"text-align: left;\">\n",
       "                            <strong>Memory: </strong> 2.67 GiB\n",
       "                        </td>\n",
       "                    </tr>\n",
       "                    <tr>\n",
       "                        <td style=\"text-align: left;\">\n",
       "                            <strong>Nanny: </strong> tcp://127.0.0.1:60805\n",
       "                        </td>\n",
       "                        <td style=\"text-align: left;\"></td>\n",
       "                    </tr>\n",
       "                    <tr>\n",
       "                        <td colspan=\"2\" style=\"text-align: left;\">\n",
       "                            <strong>Local directory: </strong> /var/folders/_p/k7hrlnh132n933827sxdjkrm0000gn/T/dask-worker-space/worker-dokmv0ce\n",
       "                        </td>\n",
       "                    </tr>\n",
       "\n",
       "                    \n",
       "\n",
       "                    \n",
       "\n",
       "                </table>\n",
       "            </details>\n",
       "            </div>\n",
       "        </div>\n",
       "        \n",
       "        <div style=\"margin-bottom: 20px;\">\n",
       "            <div style=\"width: 24px; height: 24px; background-color: #DBF5FF; border: 3px solid #4CC9FF; border-radius: 5px; position: absolute;\"> </div>\n",
       "            <div style=\"margin-left: 48px;\">\n",
       "            <details>\n",
       "                <summary>\n",
       "                    <h4 style=\"margin-bottom: 0px; display: inline;\">Worker: 3</h4>\n",
       "                </summary>\n",
       "                <table style=\"width: 100%; text-align: left;\">\n",
       "                    <tr>\n",
       "                        <td style=\"text-align: left;\">\n",
       "                            <strong>Comm: </strong> tcp://127.0.0.1:60824\n",
       "                        </td>\n",
       "                        <td style=\"text-align: left;\">\n",
       "                            <strong>Total threads: </strong> 2\n",
       "                        </td>\n",
       "                    </tr>\n",
       "                    <tr>\n",
       "                        <td style=\"text-align: left;\">\n",
       "                            <strong>Dashboard: </strong> <a href=\"http://127.0.0.1:60827/status\" target=\"_blank\">http://127.0.0.1:60827/status</a>\n",
       "                        </td>\n",
       "                        <td style=\"text-align: left;\">\n",
       "                            <strong>Memory: </strong> 2.67 GiB\n",
       "                        </td>\n",
       "                    </tr>\n",
       "                    <tr>\n",
       "                        <td style=\"text-align: left;\">\n",
       "                            <strong>Nanny: </strong> tcp://127.0.0.1:60806\n",
       "                        </td>\n",
       "                        <td style=\"text-align: left;\"></td>\n",
       "                    </tr>\n",
       "                    <tr>\n",
       "                        <td colspan=\"2\" style=\"text-align: left;\">\n",
       "                            <strong>Local directory: </strong> /var/folders/_p/k7hrlnh132n933827sxdjkrm0000gn/T/dask-worker-space/worker-b0im3x1q\n",
       "                        </td>\n",
       "                    </tr>\n",
       "\n",
       "                    \n",
       "\n",
       "                    \n",
       "\n",
       "                </table>\n",
       "            </details>\n",
       "            </div>\n",
       "        </div>\n",
       "        \n",
       "        <div style=\"margin-bottom: 20px;\">\n",
       "            <div style=\"width: 24px; height: 24px; background-color: #DBF5FF; border: 3px solid #4CC9FF; border-radius: 5px; position: absolute;\"> </div>\n",
       "            <div style=\"margin-left: 48px;\">\n",
       "            <details>\n",
       "                <summary>\n",
       "                    <h4 style=\"margin-bottom: 0px; display: inline;\">Worker: 4</h4>\n",
       "                </summary>\n",
       "                <table style=\"width: 100%; text-align: left;\">\n",
       "                    <tr>\n",
       "                        <td style=\"text-align: left;\">\n",
       "                            <strong>Comm: </strong> tcp://127.0.0.1:60825\n",
       "                        </td>\n",
       "                        <td style=\"text-align: left;\">\n",
       "                            <strong>Total threads: </strong> 2\n",
       "                        </td>\n",
       "                    </tr>\n",
       "                    <tr>\n",
       "                        <td style=\"text-align: left;\">\n",
       "                            <strong>Dashboard: </strong> <a href=\"http://127.0.0.1:60829/status\" target=\"_blank\">http://127.0.0.1:60829/status</a>\n",
       "                        </td>\n",
       "                        <td style=\"text-align: left;\">\n",
       "                            <strong>Memory: </strong> 2.67 GiB\n",
       "                        </td>\n",
       "                    </tr>\n",
       "                    <tr>\n",
       "                        <td style=\"text-align: left;\">\n",
       "                            <strong>Nanny: </strong> tcp://127.0.0.1:60807\n",
       "                        </td>\n",
       "                        <td style=\"text-align: left;\"></td>\n",
       "                    </tr>\n",
       "                    <tr>\n",
       "                        <td colspan=\"2\" style=\"text-align: left;\">\n",
       "                            <strong>Local directory: </strong> /var/folders/_p/k7hrlnh132n933827sxdjkrm0000gn/T/dask-worker-space/worker-dx5_ej97\n",
       "                        </td>\n",
       "                    </tr>\n",
       "\n",
       "                    \n",
       "\n",
       "                    \n",
       "\n",
       "                </table>\n",
       "            </details>\n",
       "            </div>\n",
       "        </div>\n",
       "        \n",
       "        <div style=\"margin-bottom: 20px;\">\n",
       "            <div style=\"width: 24px; height: 24px; background-color: #DBF5FF; border: 3px solid #4CC9FF; border-radius: 5px; position: absolute;\"> </div>\n",
       "            <div style=\"margin-left: 48px;\">\n",
       "            <details>\n",
       "                <summary>\n",
       "                    <h4 style=\"margin-bottom: 0px; display: inline;\">Worker: 5</h4>\n",
       "                </summary>\n",
       "                <table style=\"width: 100%; text-align: left;\">\n",
       "                    <tr>\n",
       "                        <td style=\"text-align: left;\">\n",
       "                            <strong>Comm: </strong> tcp://127.0.0.1:60826\n",
       "                        </td>\n",
       "                        <td style=\"text-align: left;\">\n",
       "                            <strong>Total threads: </strong> 2\n",
       "                        </td>\n",
       "                    </tr>\n",
       "                    <tr>\n",
       "                        <td style=\"text-align: left;\">\n",
       "                            <strong>Dashboard: </strong> <a href=\"http://127.0.0.1:60831/status\" target=\"_blank\">http://127.0.0.1:60831/status</a>\n",
       "                        </td>\n",
       "                        <td style=\"text-align: left;\">\n",
       "                            <strong>Memory: </strong> 2.67 GiB\n",
       "                        </td>\n",
       "                    </tr>\n",
       "                    <tr>\n",
       "                        <td style=\"text-align: left;\">\n",
       "                            <strong>Nanny: </strong> tcp://127.0.0.1:60808\n",
       "                        </td>\n",
       "                        <td style=\"text-align: left;\"></td>\n",
       "                    </tr>\n",
       "                    <tr>\n",
       "                        <td colspan=\"2\" style=\"text-align: left;\">\n",
       "                            <strong>Local directory: </strong> /var/folders/_p/k7hrlnh132n933827sxdjkrm0000gn/T/dask-worker-space/worker-x_wxmp_9\n",
       "                        </td>\n",
       "                    </tr>\n",
       "\n",
       "                    \n",
       "\n",
       "                    \n",
       "\n",
       "                </table>\n",
       "            </details>\n",
       "            </div>\n",
       "        </div>\n",
       "        \n",
       "\n",
       "    </details>\n",
       "</div>\n",
       "\n",
       "        </details>\n",
       "    </div>\n",
       "</div>\n",
       "            </details>\n",
       "        \n",
       "\n",
       "    </div>\n",
       "</div>"
      ],
      "text/plain": [
       "<Client: 'tcp://127.0.0.1:60800' processes=6 threads=12, memory=16.00 GiB>"
      ]
     },
     "execution_count": 16,
     "metadata": {},
     "output_type": "execute_result"
    }
   ],
   "source": [
    "from dask.distributed import Client\n",
    "\n",
    "client = Client(n_workers=6)\n",
    "client"
   ]
  },
  {
   "cell_type": "markdown",
   "id": "cd8cacd8-4c48-4eea-930c-33f3fe834410",
   "metadata": {},
   "source": [
    "After intializing the client object, any *ab*TEM computation will use the Dask distributed scheduler."
   ]
  },
  {
   "cell_type": "code",
   "execution_count": 17,
   "id": "2b0d7e8f-24dd-4ada-9650-874e750a3652",
   "metadata": {},
   "outputs": [
    {
     "data": {
      "text/plain": [
       "<abtem.measurements.Images at 0x7fccd55558e0>"
      ]
     },
     "execution_count": 17,
     "metadata": {},
     "output_type": "execute_result"
    }
   ],
   "source": [
    "haadf_images = detector.detect(exit_waves_stem).reduce_ensemble()\n",
    "haadf_images.compute()"
   ]
  },
  {
   "cell_type": "markdown",
   "id": "31a20506-7155-45f0-b641-3931bbb20029",
   "metadata": {},
   "source": [
    "A benefit of using the distributed scheduler on a single machine is the live diagnostic dashboard. You can access this through the Dashboard link shown in the `__repr__` for the `Client` above (for details you can watch [this](https://www.youtube.com/watch?v=N_GqzcuGLCY) video walkthrough). If you are using Jupyter Lab, the [Dask labextension](https://github.com/dask/dask-labextension) provides the same information as a panel inside the Jupyter Lab editor.\n",
    "\n",
    "We can get back to the local scheduler by closing the `Client`."
   ]
  },
  {
   "cell_type": "code",
   "execution_count": 18,
   "id": "e38de7a7-2b82-442e-8258-d9e2717a7b2b",
   "metadata": {},
   "outputs": [],
   "source": [
    "client.close()"
   ]
  },
  {
   "cell_type": "markdown",
   "id": "dffe61f7-43d8-47e6-a00a-3e73e33320ad",
   "metadata": {},
   "source": [
    "### Running *ab*TEM on HPC clusters\n",
    "\n",
    "Dask (and thus *ab*TEM) has robust tools for deployment on high-performance compute clusters. We recommend consulting your HPC provider on how to deploy Dask applications on your available cluster. For general advice on deployment, please see the [Dask documentation](https://docs.dask.org/en/stable/deploying.html).\n",
    "\n",
    "#### Submitting job scripts \n",
    "\n",
    "As an overview, Dask provides a number of different cluster managers, so you can use distributed Dask on a range of platforms. These cluster managers deploy a scheduler and the necessary workers as determined by communicating with the resource manager. All cluster managers follow the same interface but have platform-specific configuration options.\n",
    "\n",
    "As an example, for deployment using [SLURM](https://slurm.schedmd.com/documentation.html), your script might look something like:\n",
    "\n",
    "```python\n",
    "from dask_jobqueue import SLURMCluster\n",
    "from dask.distributed import Client\n",
    "\n",
    "cluster = SLURMCluster(\n",
    "    queue=\"regular\",\n",
    "    account=\"myaccount\",\n",
    "    cores=32,\n",
    "    memory=\"128 GB\"\n",
    ")\n",
    "\n",
    "client = Client(cluster)\n",
    "\n",
    "# Your abTEM code goes here\n",
    "\n",
    "```\n",
    "\n",
    "Dask also supports deployment from within an existing MPI environment, such as one created with the common MPI command-line launcher `mpirun`, see [here](http://mpi.dask.org/en/latest/) for more information. You can turn your batch Python script into an MPI executable with the `dask_mpi.initialize` function. \n",
    "\n",
    "```python\n",
    "from dask_mpi import initialize\n",
    "initialize()\n",
    "\n",
    "from dask.distributed import Client\n",
    "client = Client()  # Connect this local process to remote workers\n",
    "\n",
    "# Your abTEM code goes here\n",
    "```\n",
    "\n",
    "This makes your Python script launchable directly with `mpirun`:\n",
    "```\n",
    "mpirun -np 4 python my_client_script.py\n",
    "```"
   ]
  },
  {
   "cell_type": "markdown",
   "id": "e39cb8d2-a898-478d-9831-275ac5f2f06b",
   "metadata": {
    "pycharm": {
     "name": "#%% md\n"
    }
   },
   "source": [
    "(walkthrough:parallelization:gpu)=\n",
    "## Using GPUs\n",
    "\n",
    "Almost every part of *ab*TEM can be accelerated using a GPU through the [CuPy](https://cupy.dev/) library. We have only tested CUDA-compatible GPUs, but any graphics card compatible with CuPy should work.\n",
    "\n",
    "If you have a compatible GPU and a working installation of CuPy, you can accelerate your image simulations by simply changing the configs at the top of your document as below:\n",
    "```python\n",
    "abtem.config.set({\"device\": \"gpu\"});\n",
    "```\n",
    "On a single GPU, you may also want to limit the number of workers to one, `num_workers=1`. As described above, this may be done through the Dask config:\n",
    "```python\n",
    "dask.config.set({\"num_workers\": 1});\n",
    "```\n",
    "\n",
    "Note that Dask does not manage GPU threads. This makes the choice of batch sizes (i.e. propagating multiple wave functions in a single batch) extremely important in order to fully utilize your GPU. The default batch size in GPU calculations in abTEM is $512\\ \\mathrm{MB}$, which is four times larger than the CPU batch size, but if your GPU has $8\\ \\mathrm{GB}$ or more memory, you will likely be able to increase this number to $2048\\ \\mathrm{MB}$.\n",
    "\n",
    "```python\n",
    "abtem.config.set({\"dask.chunk-size-gpu\" : \"512 MB\"})\n",
    "```\n",
    "\n",
    "```{note}\n",
    "The batch size only determines the maximum number of plane waves in a batch, so you need to leave room in the memory for any intermediate overhead. \n",
    "```\n",
    "\n",
    "Finally, *ab*TEM by default sets the [FFT plan cache](https://docs.cupy.dev/en/stable/user_guide/fft.html#fft-plan-cache) size of `cupy` to zero, as we find that in most cases the increased memory consumption of the plans are not worth the small speedup they provide. You can however also change this through the *ab*TEM config.\n",
    "\n",
    "```python\n",
    "abtem.config.set({\"cupy.fft-cache-size\" : \"1024 MB\"})\n",
    "```"
   ]
  },
  {
   "cell_type": "markdown",
   "id": "94cdb086-c8a9-4736-a345-311d47379f34",
   "metadata": {},
   "source": [
    "### Multiple GPUs \n",
    "The above is enough for running *ab*TEM on a single GPU; if you are using an NVidia GPU, you may want to install `dask_cuda` (this is currently only supported on Linux). However, `dask_cuda` is currently necessary for multi-GPU calculations with *ab*TEM.\n",
    "\n",
    "```python\n",
    "from dask_cuda import LocalCUDACluster\n",
    "from dask.distributed import Client\n",
    "\n",
    "cluster = LocalCUDACluster()\n",
    "client = Client(cluster)\n",
    "```"
   ]
  }
 ],
 "metadata": {
  "kernelspec": {
   "display_name": "Python 3 (ipykernel)",
   "language": "python",
   "name": "python3"
  },
  "language_info": {
   "codemirror_mode": {
    "name": "ipython",
    "version": 3
   },
   "file_extension": ".py",
   "mimetype": "text/x-python",
   "name": "python",
   "nbconvert_exporter": "python",
   "pygments_lexer": "ipython3",
   "version": "3.9.15"
  },
  "widgets": {
   "application/vnd.jupyter.widget-state+json": {
    "state": {
     "008a017c09ca42a289bba68d050eaecf": {
      "model_module": "jupyter-cytoscape",
      "model_module_version": "^1.3.3",
      "model_name": "EdgeModel",
      "state": {
       "_model_module_version": "^1.3.3",
       "_view_module_version": "^1.3.3",
       "classes": " directed ",
       "data": {
        "id": "06046f00-da42-4796-a21f-5201cd54d467",
        "source": "-6818987558457334111",
        "target": "531821977607799369"
       },
       "selectable": false
      }
     },
     "02ae2cf1a904473ca20fbfb53ce5f9ec": {
      "model_module": "jupyter-cytoscape",
      "model_module_version": "^1.3.3",
      "model_name": "EdgeModel",
      "state": {
       "_model_module_version": "^1.3.3",
       "_view_module_version": "^1.3.3",
       "classes": " directed ",
       "data": {
        "id": "67fa3466-0895-40e7-8862-2ec50586a4f1",
        "source": "-685296562028925466",
        "target": "4452784048716689492"
       },
       "selectable": false
      }
     },
     "04236ee5b55942b4b81efadb358ba6f6": {
      "model_module": "jupyter-cytoscape",
      "model_module_version": "^1.3.3",
      "model_name": "NodeModel",
      "state": {
       "_model_module_version": "^1.3.3",
       "_view_module_version": "^1.3.3",
       "data": {
        "color": "gray",
        "id": "-7847489932778513906",
        "label": "(0, 0, 0)",
        "shape": "rectangle"
       },
       "grabbable": true,
       "grabbed": false,
       "position": {
        "x": 714,
        "y": 515
       },
       "selectable": false
      }
     },
     "05ee600d8b0f45a59f187d689afb0d43": {
      "model_module": "jupyter-cytoscape",
      "model_module_version": "^1.3.3",
      "model_name": "NodeModel",
      "state": {
       "_model_module_version": "^1.3.3",
       "_view_module_version": "^1.3.3",
       "data": {
        "color": "gray",
        "id": "5733978152462238103",
        "label": "(1, 0, 0)",
        "shape": "rectangle"
       },
       "grabbable": true,
       "grabbed": false,
       "position": {
        "x": 925,
        "y": 755
       },
       "selectable": false
      }
     },
     "0640b775d6f8477ba69cb9ba4a503b2c": {
      "model_module": "jupyter-cytoscape",
      "model_module_version": "^1.3.3",
      "model_name": "EdgeModel",
      "state": {
       "_model_module_version": "^1.3.3",
       "_view_module_version": "^1.3.3",
       "classes": " directed ",
       "data": {
        "id": "397ae4e9-d4e9-43a9-86f2-986d9598d517",
        "source": "-6221986612039717755",
        "target": "-2188166655199420618"
       },
       "selectable": false
      }
     },
     "06b81b049342469fb76a7927e19a3580": {
      "model_module": "jupyter-cytoscape",
      "model_module_version": "^1.3.3",
      "model_name": "EdgeModel",
      "state": {
       "_model_module_version": "^1.3.3",
       "_view_module_version": "^1.3.3",
       "classes": " directed ",
       "data": {
        "id": "b03992e5-dc06-41ff-9536-b043992b2a4a",
        "source": "-7405114033956463223",
        "target": "-2471138111821168799"
       },
       "selectable": false
      }
     },
     "0931b6a24a824c0898a392ff734badf9": {
      "model_module": "jupyter-cytoscape",
      "model_module_version": "^1.3.3",
      "model_name": "NodeModel",
      "state": {
       "_model_module_version": "^1.3.3",
       "_view_module_version": "^1.3.3",
       "data": {
        "color": "gray",
        "id": "-6221986612039717755",
        "label": "(1, 0, 0)",
        "shape": "rectangle"
       },
       "grabbable": true,
       "grabbed": false,
       "position": {
        "x": 925,
        "y": 995
       },
       "selectable": false
      }
     },
     "0985bef8187c420e880d8c88093e47a7": {
      "model_module": "jupyter-cytoscape",
      "model_module_version": "^1.3.3",
      "model_name": "NodeModel",
      "state": {
       "_model_module_version": "^1.3.3",
       "_view_module_version": "^1.3.3",
       "data": {
        "color": "gray",
        "id": "-4150148350894960289",
        "label": "(0, 0)",
        "shape": "rectangle"
       },
       "grabbable": true,
       "grabbed": false,
       "position": {
        "x": 98,
        "y": 515
       },
       "selectable": false
      }
     },
     "0a36908f10ab4757a9d6e790681466d0": {
      "model_module": "jupyter-cytoscape",
      "model_module_version": "^1.3.3",
      "model_name": "EdgeModel",
      "state": {
       "_model_module_version": "^1.3.3",
       "_view_module_version": "^1.3.3",
       "classes": " directed ",
       "data": {
        "id": "29e05044-cef1-4870-a317-b7bebe2c0919",
        "source": "-6226943348929456422",
        "target": "-3872884808735289106"
       },
       "selectable": false
      }
     },
     "0a99a2b1f2574e76ab828b05e4aad57c": {
      "model_module": "jupyter-cytoscape",
      "model_module_version": "^1.3.3",
      "model_name": "NodeModel",
      "state": {
       "_model_module_version": "^1.3.3",
       "_view_module_version": "^1.3.3",
       "data": {
        "color": "gray",
        "id": "4972333896257350157",
        "label": "mean_chunk",
        "shape": "ellipse"
       },
       "grabbable": true,
       "grabbed": false,
       "position": {
        "x": 714,
        "y": 635
       },
       "selectable": false
      }
     },
     "0c6898dc71834789b586dc7444324370": {
      "model_module": "jupyter-cytoscape",
      "model_module_version": "^1.3.3",
      "model_name": "EdgeModel",
      "state": {
       "_model_module_version": "^1.3.3",
       "_view_module_version": "^1.3.3",
       "classes": " directed ",
       "data": {
        "id": "d5a07d29-7cb0-48d4-97fe-2844c6c36016",
        "source": "-966650250555672437",
        "target": "6635843626673095679"
       },
       "selectable": false
      }
     },
     "0cc774b039e24ed3a1060b895c3ec8a4": {
      "model_module": "jupyter-cytoscape",
      "model_module_version": "^1.3.3",
      "model_name": "NodeModel",
      "state": {
       "_model_module_version": "^1.3.3",
       "_view_module_version": "^1.3.3",
       "data": {
        "color": "gray",
        "id": "-2258318081605987047",
        "label": "2",
        "shape": "rectangle"
       },
       "grabbable": true,
       "grabbed": false,
       "position": {
        "x": 516.75,
        "y": 1715
       },
       "selectable": false
      }
     },
     "0d9440b735d943b099903c0d10257d2c": {
      "model_module": "jupyter-cytoscape",
      "model_module_version": "^1.3.3",
      "model_name": "EdgeModel",
      "state": {
       "_model_module_version": "^1.3.3",
       "_view_module_version": "^1.3.3",
       "classes": " directed ",
       "data": {
        "id": "a191e31d-f84c-46e5-bbf1-028f7b83e47d",
        "source": "5733978152462238103",
        "target": "8436306278045061656"
       },
       "selectable": false
      }
     },
     "0dae1b359003406a8b6b8e292a569248": {
      "model_module": "jupyter-cytoscape",
      "model_module_version": "^1.3.3",
      "model_name": "EdgeModel",
      "state": {
       "_model_module_version": "^1.3.3",
       "_view_module_version": "^1.3.3",
       "classes": " directed ",
       "data": {
        "id": "f2fedfb9-d2e0-40ac-80d5-0f2d1bde174a",
        "source": "6886651168995929094",
        "target": "7687823107461041636"
       },
       "selectable": false
      }
     },
     "0ec4846fa29444c184c79de5e78d21f8": {
      "model_module": "jupyter-cytoscape",
      "model_module_version": "^1.3.3",
      "model_name": "NodeModel",
      "state": {
       "_model_module_version": "^1.3.3",
       "_view_module_version": "^1.3.3",
       "data": {
        "color": "gray",
        "id": "5382386161191416240",
        "label": "",
        "shape": "rectangle"
       },
       "grabbable": true,
       "grabbed": false,
       "position": {
        "x": 930,
        "y": 995
       },
       "selectable": false
      }
     },
     "0fdde82346734444bf7d946f08f0454e": {
      "model_module": "jupyter-cytoscape",
      "model_module_version": "^1.3.3",
      "model_name": "EdgeModel",
      "state": {
       "_model_module_version": "^1.3.3",
       "_view_module_version": "^1.3.3",
       "classes": " directed ",
       "data": {
        "id": "7da04b74-5a30-415b-a14b-596d92149da3",
        "source": "-1354418648340348833",
        "target": "7912423869655248281"
       },
       "selectable": false
      }
     },
     "10777afd0858412d8926e4659dcc99ef": {
      "model_module": "jupyter-cytoscape",
      "model_module_version": "^1.3.3",
      "model_name": "NodeModel",
      "state": {
       "_model_module_version": "^1.3.3",
       "_view_module_version": "^1.3.3",
       "data": {
        "color": "gray",
        "id": "7687823107461041636",
        "label": "getitem",
        "shape": "ellipse"
       },
       "grabbable": true,
       "grabbed": false,
       "position": {
        "x": 408,
        "y": 155
       },
       "selectable": false
      }
     },
     "121abcb8bc014324ac00db64d446b1db": {
      "model_module": "jupyter-cytoscape",
      "model_module_version": "^1.3.3",
      "model_name": "NodeModel",
      "state": {
       "_model_module_version": "^1.3.3",
       "_view_module_version": "^1.3.3",
       "data": {
        "color": "gray",
        "id": "2615485684162946022",
        "label": "apply_transform",
        "shape": "ellipse"
       },
       "grabbable": true,
       "grabbed": false,
       "position": {
        "x": 98,
        "y": 395
       },
       "selectable": false
      }
     },
     "125d70a848644d4091b40f7417ae1080": {
      "model_module": "jupyter-cytoscape",
      "model_module_version": "^1.3.3",
      "model_name": "EdgeModel",
      "state": {
       "_model_module_version": "^1.3.3",
       "_view_module_version": "^1.3.3",
       "classes": " directed ",
       "data": {
        "id": "f7d802fd-bee4-4fc3-8168-3a8d0729f097",
        "source": "-2258318081605987047",
        "target": "486068336377216963"
       },
       "selectable": false
      }
     },
     "13de247dc54e4ca580a9149c4a2118af": {
      "model_module": "jupyter-cytoscape",
      "model_module_version": "^1.3.3",
      "model_name": "EdgeModel",
      "state": {
       "_model_module_version": "^1.3.3",
       "_view_module_version": "^1.3.3",
       "classes": " directed ",
       "data": {
        "id": "de701caa-8817-4e2f-b661-88209ac0a531",
        "source": "-7371798517497359819",
        "target": "-8519513389625046867"
       },
       "selectable": false
      }
     },
     "14e67dd69e0b488798489aeb0db765ba": {
      "model_module": "jupyter-cytoscape",
      "model_module_version": "^1.3.3",
      "model_name": "EdgeModel",
      "state": {
       "_model_module_version": "^1.3.3",
       "_view_module_version": "^1.3.3",
       "classes": " directed ",
       "data": {
        "id": "97aaf62d-bfaa-4826-b12b-06b8ca677d31",
        "source": "-7427971751448803338",
        "target": "-8476836607675673413"
       },
       "selectable": false
      }
     },
     "16015b766bb34a148820062984b37af5": {
      "model_module": "jupyter-cytoscape",
      "model_module_version": "^1.3.3",
      "model_name": "EdgeModel",
      "state": {
       "_model_module_version": "^1.3.3",
       "_view_module_version": "^1.3.3",
       "classes": " directed ",
       "data": {
        "id": "07c6607f-4b74-4cdb-88cb-e79aa97f59ca",
        "source": "2226826989396619196",
        "target": "-2263312364964773600"
       },
       "selectable": false
      }
     },
     "1819e69f440c4234ab697200341d087a": {
      "model_module": "jupyter-cytoscape",
      "model_module_version": "^1.3.3",
      "model_name": "EdgeModel",
      "state": {
       "_model_module_version": "^1.3.3",
       "_view_module_version": "^1.3.3",
       "classes": " directed ",
       "data": {
        "id": "d640443b-2d58-4de4-bf5b-ae580cf2fd51",
        "source": "-2188166655199420618",
        "target": "5733978152462238103"
       },
       "selectable": false
      }
     },
     "187e1917725a4844996ef759261bb413": {
      "model_module": "jupyter-cytoscape",
      "model_module_version": "^1.3.3",
      "model_name": "NodeModel",
      "state": {
       "_model_module_version": "^1.3.3",
       "_view_module_version": "^1.3.3",
       "data": {
        "color": "gray",
        "id": "486068336377216963",
        "label": "getitem",
        "shape": "ellipse"
       },
       "grabbable": true,
       "grabbed": false,
       "position": {
        "x": 724,
        "y": 635
       },
       "selectable": false
      }
     },
     "1a278ca88ecd421098195d5b29921356": {
      "model_module": "jupyter-cytoscape",
      "model_module_version": "^1.3.3",
      "model_name": "NodeModel",
      "state": {
       "_model_module_version": "^1.3.3",
       "_view_module_version": "^1.3.3",
       "data": {
        "color": "gray",
        "id": "-8765958837707985472",
        "label": "1",
        "shape": "rectangle"
       },
       "grabbable": true,
       "grabbed": false,
       "position": {
        "x": 928.75,
        "y": 1715
       },
       "selectable": false
      }
     },
     "1a4dd6adccc64f8c8654b6d9772639b6": {
      "model_module": "jupyter-cytoscape",
      "model_module_version": "^1.3.3",
      "model_name": "NodeModel",
      "state": {
       "_model_module_version": "^1.3.3",
       "_view_module_version": "^1.3.3",
       "data": {
        "color": "gray",
        "id": "-7405114033956463223",
        "label": "",
        "shape": "rectangle"
       },
       "grabbable": true,
       "grabbed": false,
       "position": {
        "x": 516.75,
        "y": 2195
       },
       "selectable": false
      }
     },
     "1b3da8c2c5c7460ca09ee25864107bd0": {
      "model_module": "jupyter-cytoscape",
      "model_module_version": "^1.3.3",
      "model_name": "NodeModel",
      "state": {
       "_model_module_version": "^1.3.3",
       "_view_module_version": "^1.3.3",
       "data": {
        "color": "gray",
        "id": "-2196915638082993435",
        "label": "(1, 0, 0)",
        "shape": "rectangle"
       },
       "grabbable": true,
       "grabbed": false,
       "position": {
        "x": 198,
        "y": 275
       },
       "selectable": false
      }
     },
     "1b502afa5447454cb5bc81459ff9d483": {
      "model_module": "jupyter-cytoscape",
      "model_module_version": "^1.3.3",
      "model_name": "NodeModel",
      "state": {
       "_model_module_version": "^1.3.3",
       "_view_module_version": "^1.3.3",
       "data": {
        "color": "gray",
        "id": "-7371798517497359819",
        "label": "apply_transform",
        "shape": "ellipse"
       },
       "grabbable": true,
       "grabbed": false,
       "position": {
        "x": 98,
        "y": 1355
       },
       "selectable": false
      }
     },
     "1bd8d0a7c470461facc776f4ad2b9768": {
      "model_module": "@jupyter-widgets/base",
      "model_module_version": "1.2.0",
      "model_name": "LayoutModel",
      "state": {
       "height": "400px"
      }
     },
     "1ebc44cb4da0493c8e293ced35d590fc": {
      "model_module": "jupyter-cytoscape",
      "model_module_version": "^1.3.3",
      "model_name": "EdgeModel",
      "state": {
       "_model_module_version": "^1.3.3",
       "_view_module_version": "^1.3.3",
       "classes": " directed ",
       "data": {
        "id": "34957764-0897-41ef-a6ad-37f0426d975c",
        "source": "4423254679429067871",
        "target": "-5550572550497725073"
       },
       "selectable": false
      }
     },
     "20784c46d310480d870825ba1f591b22": {
      "model_module": "jupyter-cytoscape",
      "model_module_version": "^1.3.3",
      "model_name": "NodeModel",
      "state": {
       "_model_module_version": "^1.3.3",
       "_view_module_version": "^1.3.3",
       "data": {
        "color": "gray",
        "id": "-2258318081605987047",
        "label": "2",
        "shape": "rectangle"
       },
       "grabbable": true,
       "grabbed": false,
       "position": {
        "x": 724,
        "y": 755
       },
       "selectable": false
      }
     },
     "20a9764f6d624b5a97466e613154349c": {
      "model_module": "jupyter-cytoscape",
      "model_module_version": "^1.3.3",
      "model_name": "EdgeModel",
      "state": {
       "_model_module_version": "^1.3.3",
       "_view_module_version": "^1.3.3",
       "classes": " directed ",
       "data": {
        "id": "013f49f8-9387-414f-9a80-1ddbca41dc7e",
        "source": "-7151392110578683413",
        "target": "1807817610938256049"
       },
       "selectable": false
      }
     },
     "21415c1a332a4863b7b29c131f5867f4": {
      "model_module": "jupyter-cytoscape",
      "model_module_version": "^1.3.3",
      "model_name": "EdgeModel",
      "state": {
       "_model_module_version": "^1.3.3",
       "_view_module_version": "^1.3.3",
       "classes": " directed ",
       "data": {
        "id": "5e6603cd-612a-4bf5-928c-5a1918696ebe",
        "source": "6507325759032582960",
        "target": "-4491841209891657036"
       },
       "selectable": false
      }
     },
     "234e8f48c12a47429a612f04621eabd7": {
      "model_module": "jupyter-cytoscape",
      "model_module_version": "^1.3.3",
      "model_name": "NodeModel",
      "state": {
       "_model_module_version": "^1.3.3",
       "_view_module_version": "^1.3.3",
       "data": {
        "color": "gray",
        "id": "-6540409753842560850",
        "label": "(0, 0, 0, 0)",
        "shape": "rectangle"
       },
       "grabbable": true,
       "grabbed": false,
       "position": {
        "x": 98,
        "y": 275
       },
       "selectable": false
      }
     },
     "23b55edf720c42a387e0e117bb332133": {
      "model_module": "jupyter-cytoscape",
      "model_module_version": "^1.3.3",
      "model_name": "NodeModel",
      "state": {
       "_model_module_version": "^1.3.3",
       "_view_module_version": "^1.3.3",
       "data": {
        "color": "gray",
        "id": "-685296562028925466",
        "label": "(2, 0, 0)",
        "shape": "rectangle"
       },
       "grabbable": true,
       "grabbed": false,
       "position": {
        "x": 409.25,
        "y": 515
       },
       "selectable": false
      }
     },
     "2452d6ed6e79438192c68cb7845ac84b": {
      "model_module": "jupyter-cytoscape",
      "model_module_version": "^1.3.3",
      "model_name": "EdgeModel",
      "state": {
       "_model_module_version": "^1.3.3",
       "_view_module_version": "^1.3.3",
       "classes": " directed ",
       "data": {
        "id": "567b9300-1336-48cb-a88e-38bb1f98e8d6",
        "source": "1807817610938256049",
        "target": "-7491926885328424409"
       },
       "selectable": false
      }
     },
     "254258e187c944d9a59b68337e02f681": {
      "model_module": "jupyter-cytoscape",
      "model_module_version": "^1.3.3",
      "model_name": "EdgeModel",
      "state": {
       "_model_module_version": "^1.3.3",
       "_view_module_version": "^1.3.3",
       "classes": " directed ",
       "data": {
        "id": "3ce471ea-954d-4dfa-ac36-f7544b7e0d2a",
        "source": "354067505764356852",
        "target": "5382386161191416240"
       },
       "selectable": false
      }
     },
     "25605569cfaf4f158e94a93fc6986ef3": {
      "model_module": "jupyter-cytoscape",
      "model_module_version": "^1.3.3",
      "model_name": "NodeModel",
      "state": {
       "_model_module_version": "^1.3.3",
       "_view_module_version": "^1.3.3",
       "data": {
        "color": "gray",
        "id": "1807817610938256049",
        "label": "getitem",
        "shape": "ellipse"
       },
       "grabbable": true,
       "grabbed": false,
       "position": {
        "x": 930,
        "y": 635
       },
       "selectable": false
      }
     },
     "260cd666088c4e638900b3e01315460e": {
      "model_module": "jupyter-cytoscape",
      "model_module_version": "^1.3.3",
      "model_name": "EdgeModel",
      "state": {
       "_model_module_version": "^1.3.3",
       "_view_module_version": "^1.3.3",
       "classes": " directed ",
       "data": {
        "id": "36634f2a-75f9-4d48-ad10-a573d2f21a04",
        "source": "1807817610938256049",
        "target": "-7491926885328424409"
       },
       "selectable": false
      }
     },
     "265fbcf5667a473699bded88a09f4335": {
      "model_module": "jupyter-cytoscape",
      "model_module_version": "^1.3.3",
      "model_name": "EdgeModel",
      "state": {
       "_model_module_version": "^1.3.3",
       "_view_module_version": "^1.3.3",
       "classes": " directed ",
       "data": {
        "id": "8968c6e6-aa2b-4760-9f00-b7a6948d20ec",
        "source": "-8765866586205613436",
        "target": "4920914178337822388"
       },
       "selectable": false
      }
     },
     "266669c469aa4fb695c91eea80838d47": {
      "model_module": "jupyter-cytoscape",
      "model_module_version": "^1.3.3",
      "model_name": "NodeModel",
      "state": {
       "_model_module_version": "^1.3.3",
       "_view_module_version": "^1.3.3",
       "data": {
        "color": "gray",
        "id": "-7413740880925421720",
        "label": "getitem",
        "shape": "ellipse"
       },
       "grabbable": true,
       "grabbed": false,
       "position": {
        "x": 409.25,
        "y": 1115
       },
       "selectable": false
      }
     },
     "26f1a55343c94780b02991dabf05503b": {
      "model_module": "jupyter-cytoscape",
      "model_module_version": "^1.3.3",
      "model_name": "CytoscapeModel",
      "state": {
       "_interaction_handlers": {},
       "_model_module_version": "^1.3.3",
       "_view_module_version": "^1.3.3",
       "auto_ungrabify": false,
       "autolock": false,
       "cytoscape_layout": {
        "edgeSep": 10,
        "name": "dagre",
        "nodeDimensionsIncludeLabels": true,
        "nodeSep": 10,
        "rankDir": "BT",
        "spacingFactor": 1
       },
       "cytoscape_style": [
        {
         "selector": "node",
         "style": {
          "background-color": "#eee",
          "border-color": "data(color)",
          "border-width": 4,
          "color": "black",
          "font-family": "helvetica",
          "font-size": "24px",
          "font-weight": "bold",
          "height": 64,
          "label": "data(label)",
          "opacity": "1.0",
          "shape": "data(shape)",
          "text-halign": "center",
          "text-valign": "center",
          "width": 64
         }
        },
        {
         "selector": "edge",
         "style": {
          "curve-style": "bezier",
          "line-color": "gray",
          "target-arrow-color": "gray",
          "target-arrow-shape": "triangle",
          "width": 8
         }
        }
       ],
       "desktop_tap_threshold": 4,
       "graph": "IPY_MODEL_6badf970c87f4ff5a6b1ba143b1a10f5",
       "headless": false,
       "hide_edges_on_viewport": false,
       "layout": "IPY_MODEL_1bd8d0a7c470461facc776f4ad2b9768",
       "max_zoom": 4,
       "min_zoom": 0.2,
       "motion_blur": false,
       "motion_blur_opacity": 0.2,
       "panning_enabled": true,
       "pixel_ratio": "auto",
       "rendered_position": {
        "renderedPosition": {
         "x": 100,
         "y": 100
        }
       },
       "selection_type": "single",
       "style_enabled": true,
       "texture_on_viewport": false,
       "tooltip_source": "tooltip",
       "touch_tap_threshold": 8,
       "user_panning_enabled": true,
       "user_zooming_enabled": true,
       "wheel_sensitivity": 0.1,
       "zoom": 2,
       "zooming_enabled": true
      }
     },
     "28b6b6c5179146acbec19e9de5253f4b": {
      "model_module": "jupyter-cytoscape",
      "model_module_version": "^1.3.3",
      "model_name": "NodeModel",
      "state": {
       "_model_module_version": "^1.3.3",
       "_view_module_version": "^1.3.3",
       "data": {
        "color": "gray",
        "id": "401891827481530215",
        "label": "",
        "shape": "rectangle"
       },
       "grabbable": true,
       "grabbed": false,
       "position": {
        "x": 722.75,
        "y": 1955
       },
       "selectable": false
      }
     },
     "28ff8f6c352f4a048cfa7474de60d66c": {
      "model_module": "jupyter-cytoscape",
      "model_module_version": "^1.3.3",
      "model_name": "NodeModel",
      "state": {
       "_model_module_version": "^1.3.3",
       "_view_module_version": "^1.3.3",
       "data": {
        "color": "gray",
        "id": "1409717464947768415",
        "label": "(1, 0, 0)",
        "shape": "rectangle"
       },
       "grabbable": true,
       "grabbed": false,
       "position": {
        "x": 925,
        "y": 515
       },
       "selectable": false
      }
     },
     "2b48651c4d6642a3b652111fecb73fcc": {
      "model_module": "jupyter-cytoscape",
      "model_module_version": "^1.3.3",
      "model_name": "NodeModel",
      "state": {
       "_model_module_version": "^1.3.3",
       "_view_module_version": "^1.3.3",
       "data": {
        "color": "gray",
        "id": "-8765958837707985472",
        "label": "1",
        "shape": "rectangle"
       },
       "grabbable": true,
       "grabbed": false,
       "position": {
        "x": 518,
        "y": 755
       },
       "selectable": false
      }
     },
     "2cefa31cd59c4020867ffa11689c9e84": {
      "model_module": "jupyter-cytoscape",
      "model_module_version": "^1.3.3",
      "model_name": "NodeModel",
      "state": {
       "_model_module_version": "^1.3.3",
       "_view_module_version": "^1.3.3",
       "data": {
        "color": "gray",
        "id": "-7849695898873496908",
        "label": "mean_chunk",
        "shape": "ellipse"
       },
       "grabbable": true,
       "grabbed": false,
       "position": {
        "x": 98,
        "y": 635
       },
       "selectable": false
      }
     },
     "2d19dd84e89a4b9cbb1d1e6b6d44c7e7": {
      "model_module": "jupyter-cytoscape",
      "model_module_version": "^1.3.3",
      "model_name": "NodeModel",
      "state": {
       "_model_module_version": "^1.3.3",
       "_view_module_version": "^1.3.3",
       "data": {
        "color": "gray",
        "id": "-8476836607675673413",
        "label": "(0, 0, 0)",
        "shape": "rectangle"
       },
       "grabbable": true,
       "grabbed": false,
       "position": {
        "x": 98,
        "y": 35
       },
       "selectable": false
      }
     },
     "2e8d65cac82d4dd9b56fd51fee584428": {
      "model_module": "jupyter-cytoscape",
      "model_module_version": "^1.3.3",
      "model_name": "NodeModel",
      "state": {
       "_model_module_version": "^1.3.3",
       "_view_module_version": "^1.3.3",
       "data": {
        "color": "gray",
        "id": "-6226943348929456422",
        "label": "0",
        "shape": "rectangle"
       },
       "grabbable": true,
       "grabbed": false,
       "position": {
        "x": 98,
        "y": 875
       },
       "selectable": false
      }
     },
     "2eff96981fd84c12b291dd6756966acc": {
      "model_module": "jupyter-cytoscape",
      "model_module_version": "^1.3.3",
      "model_name": "NodeModel",
      "state": {
       "_model_module_version": "^1.3.3",
       "_view_module_version": "^1.3.3",
       "data": {
        "color": "gray",
        "id": "1104668536416739155",
        "label": "(2, 0)",
        "shape": "rectangle"
       },
       "grabbable": true,
       "grabbed": false,
       "position": {
        "x": 724,
        "y": 515
       },
       "selectable": false
      }
     },
     "2f317365ea3d4f618e00a87138ccaf0f": {
      "model_module": "jupyter-cytoscape",
      "model_module_version": "^1.3.3",
      "model_name": "NodeModel",
      "state": {
       "_model_module_version": "^1.3.3",
       "_view_module_version": "^1.3.3",
       "data": {
        "color": "gray",
        "id": "-7371798517497359819",
        "label": "apply_transform",
        "shape": "ellipse"
       },
       "grabbable": true,
       "grabbed": false,
       "position": {
        "x": 925,
        "y": 395
       },
       "selectable": false
      }
     },
     "2fbd0b665aa8464984ed2cb6a468ec22": {
      "model_module": "jupyter-cytoscape",
      "model_module_version": "^1.3.3",
      "model_name": "NodeModel",
      "state": {
       "_model_module_version": "^1.3.3",
       "_view_module_version": "^1.3.3",
       "data": {
        "color": "gray",
        "id": "-8765866586205613436",
        "label": "()",
        "shape": "rectangle"
       },
       "grabbable": true,
       "grabbed": false,
       "position": {
        "x": 310.5,
        "y": 755
       },
       "selectable": false
      }
     },
     "3037459fb26c4b89bbbfa54c3b43ac7c": {
      "model_module": "jupyter-cytoscape",
      "model_module_version": "^1.3.3",
      "model_name": "EdgeModel",
      "state": {
       "_model_module_version": "^1.3.3",
       "_view_module_version": "^1.3.3",
       "classes": " directed ",
       "data": {
        "id": "c2efdd3f-0a6d-451d-8ca2-dcb61cb7d5f3",
        "source": "7687823107461041636",
        "target": "-6221986612039717755"
       },
       "selectable": false
      }
     },
     "33b461d1febd4b519682a116cfb79474": {
      "model_module": "jupyter-cytoscape",
      "model_module_version": "^1.3.3",
      "model_name": "EdgeModel",
      "state": {
       "_model_module_version": "^1.3.3",
       "_view_module_version": "^1.3.3",
       "classes": " directed ",
       "data": {
        "id": "1bf2d594-7463-458d-9e37-2324d3bddc7c",
        "source": "-2263312364964773600",
        "target": "-2258318081605987047"
       },
       "selectable": false
      }
     },
     "352c49cd57e14bac953afed66b04c2e2": {
      "model_module": "jupyter-cytoscape",
      "model_module_version": "^1.3.3",
      "model_name": "NodeModel",
      "state": {
       "_model_module_version": "^1.3.3",
       "_view_module_version": "^1.3.3",
       "data": {
        "color": "gray",
        "id": "-4491841209891657036",
        "label": "wrap_with_array",
        "shape": "ellipse"
       },
       "grabbable": true,
       "grabbed": false,
       "position": {
        "x": 928.75,
        "y": 2075
       },
       "selectable": false
      }
     },
     "356392d6f7be4defa926002412744e70": {
      "model_module": "jupyter-cytoscape",
      "model_module_version": "^1.3.3",
      "model_name": "EdgeModel",
      "state": {
       "_model_module_version": "^1.3.3",
       "_view_module_version": "^1.3.3",
       "classes": " directed ",
       "data": {
        "id": "61969cc5-94af-4b97-8ada-99c2f7419957",
        "source": "4143413161568039660",
        "target": "4452784048716689492"
       },
       "selectable": false
      }
     },
     "35738dbf2cca481a87d48d276958deaf": {
      "model_module": "jupyter-cytoscape",
      "model_module_version": "^1.3.3",
      "model_name": "NodeModel",
      "state": {
       "_model_module_version": "^1.3.3",
       "_view_module_version": "^1.3.3",
       "data": {
        "color": "gray",
        "id": "-8643473776730682055",
        "label": "(2, 0, 0, 0)",
        "shape": "rectangle"
       },
       "grabbable": true,
       "grabbed": false,
       "position": {
        "x": 409.25,
        "y": 1235
       },
       "selectable": false
      }
     },
     "3646bd396c314450974cff991221ebc5": {
      "model_module": "jupyter-cytoscape",
      "model_module_version": "^1.3.3",
      "model_name": "NodeModel",
      "state": {
       "_model_module_version": "^1.3.3",
       "_view_module_version": "^1.3.3",
       "data": {
        "color": "gray",
        "id": "-3872884808735289106",
        "label": "0",
        "shape": "rectangle"
       },
       "grabbable": true,
       "grabbed": false,
       "position": {
        "x": 722.75,
        "y": 1715
       },
       "selectable": false
      }
     },
     "367e49c63dcc465b9f3666067da6d94d": {
      "model_module": "jupyter-cytoscape",
      "model_module_version": "^1.3.3",
      "model_name": "EdgeModel",
      "state": {
       "_model_module_version": "^1.3.3",
       "_view_module_version": "^1.3.3",
       "classes": " directed ",
       "data": {
        "id": "6593a1b0-f0e9-4a84-8e9f-57a6899e0681",
        "source": "-2263312364964773600",
        "target": "-2258318081605987047"
       },
       "selectable": false
      }
     },
     "39746293bd0640a88a846edd80beee63": {
      "model_module": "jupyter-cytoscape",
      "model_module_version": "^1.3.3",
      "model_name": "EdgeModel",
      "state": {
       "_model_module_version": "^1.3.3",
       "_view_module_version": "^1.3.3",
       "classes": " directed ",
       "data": {
        "id": "7589610e-d60e-4eab-b075-ac28294ee860",
        "source": "5382386161191416240",
        "target": "900402538118069601"
       },
       "selectable": false
      }
     },
     "3b64f1766f964c348e9d835e8e5750fd": {
      "model_module": "jupyter-cytoscape",
      "model_module_version": "^1.3.3",
      "model_name": "EdgeModel",
      "state": {
       "_model_module_version": "^1.3.3",
       "_view_module_version": "^1.3.3",
       "classes": " directed ",
       "data": {
        "id": "f43c9833-bcd4-4224-a87c-af36277be02b",
        "source": "-2196915638082993435",
        "target": "-2281638222933688069"
       },
       "selectable": false
      }
     },
     "3bae4ca2385945768c7b268535d04cad": {
      "model_module": "jupyter-cytoscape",
      "model_module_version": "^1.3.3",
      "model_name": "EdgeModel",
      "state": {
       "_model_module_version": "^1.3.3",
       "_view_module_version": "^1.3.3",
       "classes": " directed ",
       "data": {
        "id": "0e28be2b-eb8f-4e47-9450-ad61f8c9c6fb",
        "source": "479854361275283365",
        "target": "-4150148350894960289"
       },
       "selectable": false
      }
     },
     "3cee25901c9342e6a6823287b8d2d983": {
      "model_module": "jupyter-cytoscape",
      "model_module_version": "^1.3.3",
      "model_name": "EdgeModel",
      "state": {
       "_model_module_version": "^1.3.3",
       "_view_module_version": "^1.3.3",
       "classes": " directed ",
       "data": {
        "id": "51ee23a8-74a3-4d45-b2f2-8c9438283a9a",
        "source": "3083714146058283155",
        "target": "-5414284753299347210"
       },
       "selectable": false
      }
     },
     "3d1a0bc19efc41efa5b5bef0a63efc97": {
      "model_module": "jupyter-cytoscape",
      "model_module_version": "^1.3.3",
      "model_name": "NodeModel",
      "state": {
       "_model_module_version": "^1.3.3",
       "_view_module_version": "^1.3.3",
       "data": {
        "color": "gray",
        "id": "-8643473776730682055",
        "label": "(2, 0, 0, 0)",
        "shape": "rectangle"
       },
       "grabbable": true,
       "grabbed": false,
       "position": {
        "x": 712.75,
        "y": 275
       },
       "selectable": false
      }
     },
     "3d5cfc6293f34177a4af46573b5966a7": {
      "model_module": "jupyter-cytoscape",
      "model_module_version": "^1.3.3",
      "model_name": "NodeModel",
      "state": {
       "_model_module_version": "^1.3.3",
       "_view_module_version": "^1.3.3",
       "data": {
        "color": "gray",
        "id": "479854361275283365",
        "label": "getitem",
        "shape": "ellipse"
       },
       "grabbable": true,
       "grabbed": false,
       "position": {
        "x": 98,
        "y": 635
       },
       "selectable": false
      }
     },
     "3da060e1288f4d74b6e519d8917b76ad": {
      "model_module": "jupyter-cytoscape",
      "model_module_version": "^1.3.3",
      "model_name": "EdgeModel",
      "state": {
       "_model_module_version": "^1.3.3",
       "_view_module_version": "^1.3.3",
       "classes": " directed ",
       "data": {
        "id": "a2a5bf4c-6d77-4c99-bf02-8f84f8bc473a",
        "source": "531821977607799369",
        "target": "6886651168995929094"
       },
       "selectable": false
      }
     },
     "3e252be6e04a437f95954f8ca8b840a2": {
      "model_module": "jupyter-cytoscape",
      "model_module_version": "^1.3.3",
      "model_name": "EdgeModel",
      "state": {
       "_model_module_version": "^1.3.3",
       "_view_module_version": "^1.3.3",
       "classes": " directed ",
       "data": {
        "id": "f905857e-1018-4955-99ca-db80f09e1037",
        "source": "4464736378670909110",
        "target": "401891827481530215"
       },
       "selectable": false
      }
     },
     "407081b84772471685be617221d19cf6": {
      "model_module": "jupyter-cytoscape",
      "model_module_version": "^1.3.3",
      "model_name": "EdgeModel",
      "state": {
       "_model_module_version": "^1.3.3",
       "_view_module_version": "^1.3.3",
       "classes": " directed ",
       "data": {
        "id": "be564f0b-7cfd-4142-ba2d-32a2aa4ececa",
        "source": "-1354418648340348833",
        "target": "7912423869655248281"
       },
       "selectable": false
      }
     },
     "40fd7446963b4db6992f1a8ed8e969a4": {
      "model_module": "jupyter-cytoscape",
      "model_module_version": "^1.3.3",
      "model_name": "EdgeModel",
      "state": {
       "_model_module_version": "^1.3.3",
       "_view_module_version": "^1.3.3",
       "classes": " directed ",
       "data": {
        "id": "7e513a43-9fa2-4edb-9702-3985976b4bfe",
        "source": "6944127677528557271",
        "target": "-2281638222933688069"
       },
       "selectable": false
      }
     },
     "41d522938eb643fd8c25b1d3086cdfc8": {
      "model_module": "jupyter-cytoscape",
      "model_module_version": "^1.3.3",
      "model_name": "EdgeModel",
      "state": {
       "_model_module_version": "^1.3.3",
       "_view_module_version": "^1.3.3",
       "classes": " directed ",
       "data": {
        "id": "7a3f6e0e-aa29-4ef5-9366-3c24b144576f",
        "source": "-7413740880925421720",
        "target": "3083714146058283155"
       },
       "selectable": false
      }
     },
     "41d58c31fb3843e7b5667b02126a56e0": {
      "model_module": "jupyter-cytoscape",
      "model_module_version": "^1.3.3",
      "model_name": "NodeModel",
      "state": {
       "_model_module_version": "^1.3.3",
       "_view_module_version": "^1.3.3",
       "data": {
        "color": "gray",
        "id": "-2188848814650837854",
        "label": "(1, 0)",
        "shape": "rectangle"
       },
       "grabbable": true,
       "grabbed": false,
       "position": {
        "x": 518,
        "y": 515
       },
       "selectable": false
      }
     },
     "42101393ba244064a2111c0fbc697e11": {
      "model_module": "jupyter-cytoscape",
      "model_module_version": "^1.3.3",
      "model_name": "EdgeModel",
      "state": {
       "_model_module_version": "^1.3.3",
       "_view_module_version": "^1.3.3",
       "classes": " directed ",
       "data": {
        "id": "425cce46-9c76-4af2-b672-4e92d935f6d7",
        "source": "4464736378670909110",
        "target": "401891827481530215"
       },
       "selectable": false
      }
     },
     "4253117090f7479ca3130a4f27bda6ef": {
      "model_module": "jupyter-cytoscape",
      "model_module_version": "^1.3.3",
      "model_name": "EdgeModel",
      "state": {
       "_model_module_version": "^1.3.3",
       "_view_module_version": "^1.3.3",
       "classes": " directed ",
       "data": {
        "id": "a0b8617c-86e1-4080-98e1-1ceca83b4d60",
        "source": "1785040573790393940",
        "target": "-8643473776730682055"
       },
       "selectable": false
      }
     },
     "42a4f4dfe72c49519c0b41707fdd72d2": {
      "model_module": "jupyter-cytoscape",
      "model_module_version": "^1.3.3",
      "model_name": "EdgeModel",
      "state": {
       "_model_module_version": "^1.3.3",
       "_view_module_version": "^1.3.3",
       "classes": " directed ",
       "data": {
        "id": "02645166-8c6b-42ce-95be-7a8fa3a0f5c1",
        "source": "-8765958837707985472",
        "target": "-5798326156427196744"
       },
       "selectable": false
      }
     },
     "42da4a596f124ecb801d80fbb12b3780": {
      "model_module": "jupyter-cytoscape",
      "model_module_version": "^1.3.3",
      "model_name": "EdgeModel",
      "state": {
       "_model_module_version": "^1.3.3",
       "_view_module_version": "^1.3.3",
       "classes": " directed ",
       "data": {
        "id": "f31ee6ce-b12e-4e66-8409-a678e709b53d",
        "source": "-4491841209891657036",
        "target": "-5586583633444300365"
       },
       "selectable": false
      }
     },
     "43e6a900f99f426095b30bee404c03d6": {
      "model_module": "jupyter-cytoscape",
      "model_module_version": "^1.3.3",
      "model_name": "EdgeModel",
      "state": {
       "_model_module_version": "^1.3.3",
       "_view_module_version": "^1.3.3",
       "classes": " directed ",
       "data": {
        "id": "b7c28341-be69-4c95-8577-5e9c600f4a67",
        "source": "-8519513389625046867",
        "target": "-1354418648340348833"
       },
       "selectable": false
      }
     },
     "45641399e6384b22aca622fcd5561566": {
      "model_module": "jupyter-cytoscape",
      "model_module_version": "^1.3.3",
      "model_name": "EdgeModel",
      "state": {
       "_model_module_version": "^1.3.3",
       "_view_module_version": "^1.3.3",
       "classes": " directed ",
       "data": {
        "id": "4f85b6df-c69c-4ec4-837b-b648641ba957",
        "source": "-6818987558457334111",
        "target": "1785040573790393940"
       },
       "selectable": false
      }
     },
     "456bff306cfe45729fe4098c0a666b67": {
      "model_module": "jupyter-cytoscape",
      "model_module_version": "^1.3.3",
      "model_name": "EdgeModel",
      "state": {
       "_model_module_version": "^1.3.3",
       "_view_module_version": "^1.3.3",
       "classes": " directed ",
       "data": {
        "id": "3c1e6b81-cb9a-4275-9536-bc376ac51c64",
        "source": "8436306278045061656",
        "target": "1409717464947768415"
       },
       "selectable": false
      }
     },
     "45ad8c5a956e4229aa2c98eecd9b9303": {
      "model_module": "jupyter-cytoscape",
      "model_module_version": "^1.3.3",
      "model_name": "NodeModel",
      "state": {
       "_model_module_version": "^1.3.3",
       "_view_module_version": "^1.3.3",
       "data": {
        "color": "gray",
        "id": "-2281638222933688069",
        "label": "mean_agg-aggregate",
        "shape": "ellipse"
       },
       "grabbable": true,
       "grabbed": false,
       "position": {
        "x": 615.25,
        "y": 155
       },
       "selectable": false
      }
     },
     "46ac14a4f0724553b5b443ea62b1658d": {
      "model_module": "jupyter-cytoscape",
      "model_module_version": "^1.3.3",
      "model_name": "EdgeModel",
      "state": {
       "_model_module_version": "^1.3.3",
       "_view_module_version": "^1.3.3",
       "classes": " directed ",
       "data": {
        "id": "93f49f1d-c85b-4aa8-8736-d143bb08dbd2",
        "source": "-3872884808735289106",
        "target": "479854361275283365"
       },
       "selectable": false
      }
     },
     "4716980df306472b8c1ecd9a59ca4d30": {
      "model_module": "jupyter-cytoscape",
      "model_module_version": "^1.3.3",
      "model_name": "NodeModel",
      "state": {
       "_model_module_version": "^1.3.3",
       "_view_module_version": "^1.3.3",
       "data": {
        "color": "gray",
        "id": "4464736378670909110",
        "label": "wrap_with_array",
        "shape": "ellipse"
       },
       "grabbable": true,
       "grabbed": false,
       "position": {
        "x": 722.75,
        "y": 2075
       },
       "selectable": false
      }
     },
     "48554f998a334b849a9dd7aa891273a6": {
      "model_module": "jupyter-cytoscape",
      "model_module_version": "^1.3.3",
      "model_name": "NodeModel",
      "state": {
       "_model_module_version": "^1.3.3",
       "_view_module_version": "^1.3.3",
       "data": {
        "color": "gray",
        "id": "6100752967933182374",
        "label": "from_partitioned_args_func",
        "shape": "ellipse"
       },
       "grabbable": true,
       "grabbed": false,
       "position": {
        "x": 309.25,
        "y": 1835
       },
       "selectable": false
      }
     },
     "497812c50c3e4e9f9a36cf9e123da2e8": {
      "model_module": "jupyter-cytoscape",
      "model_module_version": "^1.3.3",
      "model_name": "NodeModel",
      "state": {
       "_model_module_version": "^1.3.3",
       "_view_module_version": "^1.3.3",
       "data": {
        "color": "gray",
        "id": "900402538118069601",
        "label": "0",
        "shape": "rectangle"
       },
       "grabbable": true,
       "grabbed": false,
       "position": {
        "x": 930,
        "y": 875
       },
       "selectable": false
      }
     },
     "4985001fb4b147ff883bee17b0b42784": {
      "model_module": "jupyter-cytoscape",
      "model_module_version": "^1.3.3",
      "model_name": "EdgeModel",
      "state": {
       "_model_module_version": "^1.3.3",
       "_view_module_version": "^1.3.3",
       "classes": " directed ",
       "data": {
        "id": "783cf3c7-56ef-41f0-92ef-83ca058123f0",
        "source": "-8765866586205613436",
        "target": "4920914178337822388"
       },
       "selectable": false
      }
     },
     "49ef833ef5db4b0d972874099f2444d3": {
      "model_module": "jupyter-cytoscape",
      "model_module_version": "^1.3.3",
      "model_name": "NodeModel",
      "state": {
       "_model_module_version": "^1.3.3",
       "_view_module_version": "^1.3.3",
       "data": {
        "color": "gray",
        "id": "-5414284753299347210",
        "label": "intensity",
        "shape": "ellipse"
       },
       "grabbable": true,
       "grabbed": false,
       "position": {
        "x": 409.25,
        "y": 875
       },
       "selectable": false
      }
     },
     "49fb0bc146244c59b6691ca1c52dea36": {
      "model_module": "jupyter-cytoscape",
      "model_module_version": "^1.3.3",
      "model_name": "EdgeModel",
      "state": {
       "_model_module_version": "^1.3.3",
       "_view_module_version": "^1.3.3",
       "classes": " directed ",
       "data": {
        "id": "a88cb08a-7134-4292-b9f2-4dfa9b79fdb5",
        "source": "2615485684162946022",
        "target": "-6540409753842560850"
       },
       "selectable": false
      }
     },
     "4b1113ea0afc4f5b9db0073ad8db9296": {
      "model_module": "jupyter-cytoscape",
      "model_module_version": "^1.3.3",
      "model_name": "EdgeModel",
      "state": {
       "_model_module_version": "^1.3.3",
       "_view_module_version": "^1.3.3",
       "classes": " directed ",
       "data": {
        "id": "bf9d97ab-0c1f-402d-a1c1-e1c5c78c852c",
        "source": "-6444234139406252793",
        "target": "4464736378670909110"
       },
       "selectable": false
      }
     },
     "4d053529c07d4a9e96ac4a778ed3164e": {
      "model_module": "jupyter-cytoscape",
      "model_module_version": "^1.3.3",
      "model_name": "EdgeModel",
      "state": {
       "_model_module_version": "^1.3.3",
       "_view_module_version": "^1.3.3",
       "classes": " directed ",
       "data": {
        "id": "1c77658a-4fe5-44a5-a1f3-34efea136788",
        "source": "900402538118069601",
        "target": "-7151392110578683413"
       },
       "selectable": false
      }
     },
     "4d30938ce26b4812b20b4ab08ad92da5": {
      "model_module": "jupyter-cytoscape",
      "model_module_version": "^1.3.3",
      "model_name": "NodeModel",
      "state": {
       "_model_module_version": "^1.3.3",
       "_view_module_version": "^1.3.3",
       "data": {
        "color": "gray",
        "id": "6507325759032582960",
        "label": "",
        "shape": "rectangle"
       },
       "grabbable": true,
       "grabbed": false,
       "position": {
        "x": 518,
        "y": 1235
       },
       "selectable": false
      }
     },
     "4d3b61bfff184c8b8983783041bbd2fb": {
      "model_module": "jupyter-cytoscape",
      "model_module_version": "^1.3.3",
      "model_name": "EdgeModel",
      "state": {
       "_model_module_version": "^1.3.3",
       "_view_module_version": "^1.3.3",
       "classes": " directed ",
       "data": {
        "id": "98e655a9-ffff-4bb5-848f-451aad9762c7",
        "source": "-2471138111821168799",
        "target": "2226826989396619196"
       },
       "selectable": false
      }
     },
     "501e30f13916499380f2636fd937b872": {
      "model_module": "jupyter-cytoscape",
      "model_module_version": "^1.3.3",
      "model_name": "NodeModel",
      "state": {
       "_model_module_version": "^1.3.3",
       "_view_module_version": "^1.3.3",
       "data": {
        "color": "gray",
        "id": "6635843626673095679",
        "label": "(0, 0, 0)",
        "shape": "rectangle"
       },
       "grabbable": true,
       "grabbed": false,
       "position": {
        "x": 714,
        "y": 755
       },
       "selectable": false
      }
     },
     "51cd8099da0f43af8675478ec480c551": {
      "model_module": "jupyter-cytoscape",
      "model_module_version": "^1.3.3",
      "model_name": "EdgeModel",
      "state": {
       "_model_module_version": "^1.3.3",
       "_view_module_version": "^1.3.3",
       "classes": " directed ",
       "data": {
        "id": "d0fb9ed8-16a4-4cff-be9c-609b11fbe316",
        "source": "7912423869655248281",
        "target": "4423254679429067871"
       },
       "selectable": false
      }
     },
     "5249e86e028a4f02afc176b23db1e08c": {
      "model_module": "jupyter-cytoscape",
      "model_module_version": "^1.3.3",
      "model_name": "EdgeModel",
      "state": {
       "_model_module_version": "^1.3.3",
       "_view_module_version": "^1.3.3",
       "classes": " directed ",
       "data": {
        "id": "e5eb0a18-59ef-42b3-bff8-eafde503d07b",
        "source": "-7151392110578683413",
        "target": "1807817610938256049"
       },
       "selectable": false
      }
     },
     "556a6a378a1c4f17b8242a16d835f330": {
      "model_module": "jupyter-cytoscape",
      "model_module_version": "^1.3.3",
      "model_name": "EdgeModel",
      "state": {
       "_model_module_version": "^1.3.3",
       "_view_module_version": "^1.3.3",
       "classes": " directed ",
       "data": {
        "id": "d74e8640-3a64-42aa-8991-26d586e3c519",
        "source": "-6818987558457334111",
        "target": "-7371798517497359819"
       },
       "selectable": false
      }
     },
     "5627a87b29f24f049b1bc19075f7dd9f": {
      "model_module": "jupyter-cytoscape",
      "model_module_version": "^1.3.3",
      "model_name": "EdgeModel",
      "state": {
       "_model_module_version": "^1.3.3",
       "_view_module_version": "^1.3.3",
       "classes": " directed ",
       "data": {
        "id": "7fef135e-12b1-4a42-95ad-0a78b18cde11",
        "source": "-3872884808735289106",
        "target": "479854361275283365"
       },
       "selectable": false
      }
     },
     "57b84a11ea0c4958b99d8e7682ccb3c0": {
      "model_module": "jupyter-cytoscape",
      "model_module_version": "^1.3.3",
      "model_name": "NodeModel",
      "state": {
       "_model_module_version": "^1.3.3",
       "_view_module_version": "^1.3.3",
       "data": {
        "color": "gray",
        "id": "531821977607799369",
        "label": "apply_transform",
        "shape": "ellipse"
       },
       "grabbable": true,
       "grabbed": false,
       "position": {
        "x": 925,
        "y": 1355
       },
       "selectable": false
      }
     },
     "57f2fc543e4745e1a21a9aa790ec8355": {
      "model_module": "jupyter-cytoscape",
      "model_module_version": "^1.3.3",
      "model_name": "NodeModel",
      "state": {
       "_model_module_version": "^1.3.3",
       "_view_module_version": "^1.3.3",
       "data": {
        "color": "gray",
        "id": "-7405114033956463223",
        "label": "",
        "shape": "rectangle"
       },
       "grabbable": true,
       "grabbed": false,
       "position": {
        "x": 724,
        "y": 1235
       },
       "selectable": false
      }
     },
     "59595274ebcd40a48175f2b629ec7134": {
      "model_module": "jupyter-cytoscape",
      "model_module_version": "^1.3.3",
      "model_name": "EdgeModel",
      "state": {
       "_model_module_version": "^1.3.3",
       "_view_module_version": "^1.3.3",
       "classes": " directed ",
       "data": {
        "id": "0974cd5d-8385-4cd8-90ac-2ba0f706610b",
        "source": "6100752967933182374",
        "target": "-8765866586205613436"
       },
       "selectable": false
      }
     },
     "597751f7859d4e0ba25ddadcdd5ae041": {
      "model_module": "jupyter-cytoscape",
      "model_module_version": "^1.3.3",
      "model_name": "EdgeModel",
      "state": {
       "_model_module_version": "^1.3.3",
       "_view_module_version": "^1.3.3",
       "classes": " directed ",
       "data": {
        "id": "7c0b2cb1-e73b-42af-8679-8c8409fb477f",
        "source": "-6540409753842560850",
        "target": "-7427971751448803338"
       },
       "selectable": false
      }
     },
     "59844fe39caa4de8801361add057f59a": {
      "model_module": "jupyter-cytoscape",
      "model_module_version": "^1.3.3",
      "model_name": "EdgeModel",
      "state": {
       "_model_module_version": "^1.3.3",
       "_view_module_version": "^1.3.3",
       "classes": " directed ",
       "data": {
        "id": "fad9b6d9-8164-4229-9f71-6b3b27440e2c",
        "source": "6886651168995929094",
        "target": "7687823107461041636"
       },
       "selectable": false
      }
     },
     "5de6a03b239c4a05b8c9b24a6b5fd183": {
      "model_module": "jupyter-cytoscape",
      "model_module_version": "^1.3.3",
      "model_name": "NodeModel",
      "state": {
       "_model_module_version": "^1.3.3",
       "_view_module_version": "^1.3.3",
       "data": {
        "color": "gray",
        "id": "2972249708443792251",
        "label": "0",
        "shape": "rectangle"
       },
       "grabbable": true,
       "grabbed": false,
       "position": {
        "x": 928.75,
        "y": 1835
       },
       "selectable": false
      }
     },
     "5e993a7faf2c45c68929a33ab366fe88": {
      "model_module": "jupyter-cytoscape",
      "model_module_version": "^1.3.3",
      "model_name": "GraphModel",
      "state": {
       "_adj": {
        "-1354418648340348833": {},
        "-2188848814650837854": {},
        "-2258318081605987047": {},
        "-2263312364964773600": {},
        "-2471138111821168799": {},
        "-3872884808735289106": {},
        "-4150148350894960289": {},
        "-4491841209891657036": {},
        "-5586583633444300365": {},
        "-5798326156427196744": {},
        "-6221986612039717755": {},
        "-6226943348929456422": {},
        "-6444234139406252793": {},
        "-6540409753842560850": {},
        "-6818987558457334111": {},
        "-7151392110578683413": {},
        "-7371798517497359819": {},
        "-7405114033956463223": {},
        "-7413740880925421720": {},
        "-7427971751448803338": {},
        "-7491926885328424409": {},
        "-8476836607675673413": {},
        "-8519513389625046867": {},
        "-8643473776730682055": {},
        "-8765866586205613436": {},
        "-8765958837707985472": {},
        "1104668536416739155": {},
        "1785040573790393940": {},
        "1807817610938256049": {},
        "2226826989396619196": {},
        "2615485684162946022": {},
        "2972249708443792251": {},
        "3083714146058283155": {},
        "354067505764356852": {},
        "401891827481530215": {},
        "4464736378670909110": {},
        "479854361275283365": {},
        "486068336377216963": {},
        "4920914178337822388": {},
        "531821977607799369": {},
        "5382386161191416240": {},
        "6100752967933182374": {},
        "6507325759032582960": {},
        "6886651168995929094": {},
        "7687823107461041636": {},
        "7912423869655248281": {},
        "8448539117469004226": {},
        "900402538118069601": {}
       },
       "_model_module_version": "^1.3.3",
       "_view_module": "jupyter-cytoscape",
       "_view_module_version": "^1.3.3",
       "edges": [
        "IPY_MODEL_5f6afb5f556a45fcbe4397d70e86e6ee",
        "IPY_MODEL_fea5f037afed4423b410493a7f7f5701",
        "IPY_MODEL_cd7ed2f1f6c84172bde70f936c9acb4b",
        "IPY_MODEL_cd95971028f44c95b27e5f7b74de3282",
        "IPY_MODEL_008a017c09ca42a289bba68d050eaecf",
        "IPY_MODEL_fac33c9879c049f48984ed29c745092e",
        "IPY_MODEL_4253117090f7479ca3130a4f27bda6ef",
        "IPY_MODEL_b96ecaa7278f497bbb06de6f002e6abd",
        "IPY_MODEL_ec12603f8edc4ffc884e5436a10fe9f7",
        "IPY_MODEL_90a8ed53ab8d44b089689096e96289c0",
        "IPY_MODEL_556a6a378a1c4f17b8242a16d835f330",
        "IPY_MODEL_dacb3cca7e2e4f299dbf5eff54f5cf76",
        "IPY_MODEL_0a36908f10ab4757a9d6e790681466d0",
        "IPY_MODEL_7917f07d729844ec9b4eb4e097edce48",
        "IPY_MODEL_33b461d1febd4b519682a116cfb79474",
        "IPY_MODEL_4d053529c07d4a9e96ac4a778ed3164e",
        "IPY_MODEL_42101393ba244064a2111c0fbc697e11",
        "IPY_MODEL_4b1113ea0afc4f5b9db0073ad8db9296",
        "IPY_MODEL_c1fde774b0d745bc84f6449463a9bf3a",
        "IPY_MODEL_42da4a596f124ecb801d80fbb12b3780",
        "IPY_MODEL_21415c1a332a4863b7b29c131f5867f4",
        "IPY_MODEL_98450a160d3743d5b3a3a1d9ffe7ee9e",
        "IPY_MODEL_4d3b61bfff184c8b8983783041bbd2fb",
        "IPY_MODEL_06b81b049342469fb76a7927e19a3580",
        "IPY_MODEL_f2bc7fbe45e84ef3bc44e3aa6ba82ec8",
        "IPY_MODEL_254258e187c944d9a59b68337e02f681",
        "IPY_MODEL_a7f35ea37fff421b95d1ae063d14e93c",
        "IPY_MODEL_39746293bd0640a88a846edd80beee63",
        "IPY_MODEL_90c72528c6e74a78bf3f882852829add",
        "IPY_MODEL_5627a87b29f24f049b1bc19075f7dd9f",
        "IPY_MODEL_6d5b58f67d2747f2a4e785d04a2e61d2",
        "IPY_MODEL_42a4f4dfe72c49519c0b41707fdd72d2",
        "IPY_MODEL_cce67833f19646a3a1376ca527f8dfcb",
        "IPY_MODEL_125d70a848644d4091b40f7417ae1080",
        "IPY_MODEL_2452d6ed6e79438192c68cb7845ac84b",
        "IPY_MODEL_5249e86e028a4f02afc176b23db1e08c",
        "IPY_MODEL_59595274ebcd40a48175f2b629ec7134",
        "IPY_MODEL_67748e77d96a4a8fa5f12510a877edf4",
        "IPY_MODEL_265fbcf5667a473699bded88a09f4335",
        "IPY_MODEL_60bb5f773b8a474499dfdaa8881c2ded",
        "IPY_MODEL_597751f7859d4e0ba25ddadcdd5ae041",
        "IPY_MODEL_3037459fb26c4b89bbbfa54c3b43ac7c",
        "IPY_MODEL_59844fe39caa4de8801361add057f59a",
        "IPY_MODEL_b4e887d3b16b4269811682d0cb4ac1be",
        "IPY_MODEL_c973f609e8664559879fc78f95244afc",
        "IPY_MODEL_0fdde82346734444bf7d946f08f0454e",
        "IPY_MODEL_9d7a44f7ecb942f8ab8ec38d74039d3e"
       ],
       "nodes": [
        "IPY_MODEL_121abcb8bc014324ac00db64d446b1db",
        "IPY_MODEL_ebadfb1f73e1445daba18fe9b3b4e0bb",
        "IPY_MODEL_0985bef8187c420e880d8c88093e47a7",
        "IPY_MODEL_234e8f48c12a47429a612f04621eabd7",
        "IPY_MODEL_cba7b6fdfa4d42f7a56675629fb8390c",
        "IPY_MODEL_41d58c31fb3843e7b5667b02126a56e0",
        "IPY_MODEL_d324f890e7984a9e808b203777454c15",
        "IPY_MODEL_b4960eb57e8c4a10ba4891f7cd86fa0d",
        "IPY_MODEL_2eff96981fd84c12b291dd6756966acc",
        "IPY_MODEL_3d1a0bc19efc41efa5b5bef0a63efc97",
        "IPY_MODEL_2f317365ea3d4f618e00a87138ccaf0f",
        "IPY_MODEL_c848c78f86114a63b9ad6eb036e376ed",
        "IPY_MODEL_785a657cc3df49fea85f563deb906ffe",
        "IPY_MODEL_f080752012ba48d587a3b8b140d14684",
        "IPY_MODEL_2b48651c4d6642a3b652111fecb73fcc",
        "IPY_MODEL_20784c46d310480d870825ba1f591b22",
        "IPY_MODEL_a85cd8a8948040aebd87f3461914b977",
        "IPY_MODEL_cb9203cf8a4d416194d67aa73232a363",
        "IPY_MODEL_8def76063e3043a2ad547da61ed5f31c",
        "IPY_MODEL_ed4d69c97ad947599172cf85068ddd84",
        "IPY_MODEL_2e8d65cac82d4dd9b56fd51fee584428",
        "IPY_MODEL_4d30938ce26b4812b20b4ab08ad92da5",
        "IPY_MODEL_77c53d3932664ec6aa77db893e7100e4",
        "IPY_MODEL_ccf0a94657fc459ba087db51f772ae29",
        "IPY_MODEL_d5dc7205712c46b392b84e154153aee7",
        "IPY_MODEL_57f2fc543e4745e1a21a9aa790ec8355",
        "IPY_MODEL_e22480998eb44521b3746de811115de1",
        "IPY_MODEL_d9e71c3d4640473f8d72ddda5d80af47",
        "IPY_MODEL_b1e7e5913a774ed9b4bebc1b585f165d",
        "IPY_MODEL_df1613286b2e4af08faea1e928462ca6",
        "IPY_MODEL_fa52005dc6174241a81f1e5fded1bc22",
        "IPY_MODEL_0ec4846fa29444c184c79de5e78d21f8",
        "IPY_MODEL_497812c50c3e4e9f9a36cf9e123da2e8",
        "IPY_MODEL_3d5cfc6293f34177a4af46573b5966a7",
        "IPY_MODEL_6ecb9120816847c5b64ba8ae81e700a8",
        "IPY_MODEL_187e1917725a4844996ef759261bb413",
        "IPY_MODEL_25605569cfaf4f158e94a93fc6986ef3",
        "IPY_MODEL_c9f9aef8f35846868f34e92455f51f7c",
        "IPY_MODEL_2fbd0b665aa8464984ed2cb6a468ec22",
        "IPY_MODEL_97ff7419b7d84bdeb44ff28d6018da09",
        "IPY_MODEL_fc1f6bec4fc8429db912265286367c05",
        "IPY_MODEL_2d19dd84e89a4b9cbb1d1e6b6d44c7e7",
        "IPY_MODEL_10777afd0858412d8926e4659dcc99ef",
        "IPY_MODEL_d7fd63a16620492394c24f54a68685e5",
        "IPY_MODEL_fcdf9219698a442283da80227be04d69",
        "IPY_MODEL_b9b20a1a901a4e1cba570dae80432e80",
        "IPY_MODEL_8f5c49cef38d4d9aa9a52a53ed4e1ea8",
        "IPY_MODEL_6d142a091fa745d1b811c9b3a15a27bc"
       ]
      }
     },
     "5f6afb5f556a45fcbe4397d70e86e6ee": {
      "model_module": "jupyter-cytoscape",
      "model_module_version": "^1.3.3",
      "model_name": "EdgeModel",
      "state": {
       "_model_module_version": "^1.3.3",
       "_view_module_version": "^1.3.3",
       "classes": " directed ",
       "data": {
        "id": "fa5284c5-9908-49e4-9930-74efb20f5864",
        "source": "2615485684162946022",
        "target": "-6540409753842560850"
       },
       "selectable": false
      }
     },
     "60bb5f773b8a474499dfdaa8881c2ded": {
      "model_module": "jupyter-cytoscape",
      "model_module_version": "^1.3.3",
      "model_name": "EdgeModel",
      "state": {
       "_model_module_version": "^1.3.3",
       "_view_module_version": "^1.3.3",
       "classes": " directed ",
       "data": {
        "id": "34b9b965-406d-4ff1-85e3-5914510f781f",
        "source": "-7427971751448803338",
        "target": "-8476836607675673413"
       },
       "selectable": false
      }
     },
     "60e27552d2b24d609b64b5e182173a1b": {
      "model_module": "jupyter-cytoscape",
      "model_module_version": "^1.3.3",
      "model_name": "NodeModel",
      "state": {
       "_model_module_version": "^1.3.3",
       "_view_module_version": "^1.3.3",
       "data": {
        "color": "gray",
        "id": "7912423869655248281",
        "label": "(3, 0, 0)",
        "shape": "rectangle"
       },
       "grabbable": true,
       "grabbed": false,
       "position": {
        "x": 98,
        "y": 995
       },
       "selectable": false
      }
     },
     "61483bcaf1f4439ab4b5409ce9605077": {
      "model_module": "jupyter-cytoscape",
      "model_module_version": "^1.3.3",
      "model_name": "NodeModel",
      "state": {
       "_model_module_version": "^1.3.3",
       "_view_module_version": "^1.3.3",
       "data": {
        "color": "gray",
        "id": "1104668536416739155",
        "label": "(2, 0)",
        "shape": "rectangle"
       },
       "grabbable": true,
       "grabbed": false,
       "position": {
        "x": 516.75,
        "y": 1475
       },
       "selectable": false
      }
     },
     "61753a364d6f4f869055b696bb266573": {
      "model_module": "jupyter-cytoscape",
      "model_module_version": "^1.3.3",
      "model_name": "EdgeModel",
      "state": {
       "_model_module_version": "^1.3.3",
       "_view_module_version": "^1.3.3",
       "classes": " directed ",
       "data": {
        "id": "6e6b1c6d-debb-4fd9-a389-54f9c44b32cd",
        "source": "5382386161191416240",
        "target": "900402538118069601"
       },
       "selectable": false
      }
     },
     "6230d44a4198437db11034d6ee26822b": {
      "model_module": "jupyter-cytoscape",
      "model_module_version": "^1.3.3",
      "model_name": "GraphModel",
      "state": {
       "_adj": {},
       "_model_module_version": "^1.3.3",
       "_view_module": "jupyter-cytoscape",
       "_view_module_version": "^1.3.3"
      }
     },
     "64c588a4779344d2ae49ffd55613c93b": {
      "model_module": "jupyter-cytoscape",
      "model_module_version": "^1.3.3",
      "model_name": "EdgeModel",
      "state": {
       "_model_module_version": "^1.3.3",
       "_view_module_version": "^1.3.3",
       "classes": " directed ",
       "data": {
        "id": "4a426e70-9366-45aa-972b-aa4feb2754c9",
        "source": "6348781173463378152",
        "target": "6944127677528557271"
       },
       "selectable": false
      }
     },
     "64e52552351a482da2cb3f5f9036a045": {
      "model_module": "jupyter-cytoscape",
      "model_module_version": "^1.3.3",
      "model_name": "NodeModel",
      "state": {
       "_model_module_version": "^1.3.3",
       "_view_module_version": "^1.3.3",
       "data": {
        "color": "gray",
        "id": "4452784048716689492",
        "label": "mean_combine-partial",
        "shape": "ellipse"
       },
       "grabbable": true,
       "grabbed": false,
       "position": {
        "x": 198,
        "y": 395
       },
       "selectable": false
      }
     },
     "65de79b2b5b7410da51a1c662fb59521": {
      "model_module": "jupyter-cytoscape",
      "model_module_version": "^1.3.3",
      "model_name": "NodeModel",
      "state": {
       "_model_module_version": "^1.3.3",
       "_view_module_version": "^1.3.3",
       "data": {
        "color": "gray",
        "id": "-6226943348929456422",
        "label": "0",
        "shape": "rectangle"
       },
       "grabbable": true,
       "grabbed": false,
       "position": {
        "x": 722.75,
        "y": 1835
       },
       "selectable": false
      }
     },
     "67748e77d96a4a8fa5f12510a877edf4": {
      "model_module": "jupyter-cytoscape",
      "model_module_version": "^1.3.3",
      "model_name": "EdgeModel",
      "state": {
       "_model_module_version": "^1.3.3",
       "_view_module_version": "^1.3.3",
       "classes": " directed ",
       "data": {
        "id": "b329cce6-59bd-4b1f-8781-80114a3358da",
        "source": "4920914178337822388",
        "target": "-6818987558457334111"
       },
       "selectable": false
      }
     },
     "6a6ca72b27f94fae9dd80469232fdf70": {
      "model_module": "jupyter-cytoscape",
      "model_module_version": "^1.3.3",
      "model_name": "NodeModel",
      "state": {
       "_model_module_version": "^1.3.3",
       "_view_module_version": "^1.3.3",
       "data": {
        "color": "gray",
        "id": "6886651168995929094",
        "label": "(1, 0, 0, 0)",
        "shape": "rectangle"
       },
       "grabbable": true,
       "grabbed": false,
       "position": {
        "x": 925,
        "y": 1235
       },
       "selectable": false
      }
     },
     "6badf970c87f4ff5a6b1ba143b1a10f5": {
      "model_module": "jupyter-cytoscape",
      "model_module_version": "^1.3.3",
      "model_name": "GraphModel",
      "state": {
       "_adj": {
        "-1354418648340348833": {},
        "-2188166655199420618": {},
        "-2188848814650837854": {},
        "-2196915638082993435": {},
        "-2258318081605987047": {},
        "-2263312364964773600": {},
        "-2281638222933688069": {},
        "-2471138111821168799": {},
        "-3872884808735289106": {},
        "-4150148350894960289": {},
        "-4491841209891657036": {},
        "-5414284753299347210": {},
        "-5550572550497725073": {},
        "-5586583633444300365": {},
        "-5798326156427196744": {},
        "-6221986612039717755": {},
        "-6226943348929456422": {},
        "-6444234139406252793": {},
        "-6540409753842560850": {},
        "-6818987558457334111": {},
        "-685296562028925466": {},
        "-6862988842823712970": {},
        "-7151392110578683413": {},
        "-7371798517497359819": {},
        "-7405114033956463223": {},
        "-7413740880925421720": {},
        "-7427971751448803338": {},
        "-7491926885328424409": {},
        "-7847489932778513906": {},
        "-7849695898873496908": {},
        "-8476836607675673413": {},
        "-8519513389625046867": {},
        "-8643473776730682055": {},
        "-8765866586205613436": {},
        "-8765958837707985472": {},
        "-966650250555672437": {},
        "1104668536416739155": {},
        "1409717464947768415": {},
        "1785040573790393940": {},
        "1807817610938256049": {},
        "2226826989396619196": {},
        "2615485684162946022": {},
        "2972249708443792251": {},
        "3083714146058283155": {},
        "354067505764356852": {},
        "401891827481530215": {},
        "4143413161568039660": {},
        "4423254679429067871": {},
        "4452784048716689492": {},
        "4464736378670909110": {},
        "479854361275283365": {},
        "486068336377216963": {},
        "4920914178337822388": {},
        "4971181940308998796": {},
        "4972333896257350157": {},
        "531821977607799369": {},
        "5382386161191416240": {},
        "5733978152462238103": {},
        "6100752967933182374": {},
        "6348781173463378152": {},
        "6507325759032582960": {},
        "6635843626673095679": {},
        "6886651168995929094": {},
        "6944127677528557271": {},
        "7687823107461041636": {},
        "7831346786930445293": {},
        "7912423869655248281": {},
        "8436306278045061656": {},
        "8448539117469004226": {},
        "900402538118069601": {}
       },
       "_model_module_version": "^1.3.3",
       "_view_module": "jupyter-cytoscape",
       "_view_module_version": "^1.3.3",
       "edges": [
        "IPY_MODEL_49fb0bc146244c59b6691ca1c52dea36",
        "IPY_MODEL_76c45dc1eead4acab7b0df534994769c",
        "IPY_MODEL_be7b54122ded4a9697d6d9f1700c14ff",
        "IPY_MODEL_3da060e1288f4d74b6e519d8917b76ad",
        "IPY_MODEL_855af766ab5540e1905ed5ed39e70c4a",
        "IPY_MODEL_809d33746cbb4bda9bcd3de9c6589a2b",
        "IPY_MODEL_e8cd8f16a9c442838225187893904777",
        "IPY_MODEL_45641399e6384b22aca622fcd5561566",
        "IPY_MODEL_b5d7b7ef70484c90801b9b7863fb74a0",
        "IPY_MODEL_13de247dc54e4ca580a9149c4a2118af",
        "IPY_MODEL_c41ce647cc45473d8b7fb5ae4043521f",
        "IPY_MODEL_e3d170108f694a26a587130a8e86a2c8",
        "IPY_MODEL_bf6d8b72cd0c46acb99d9c6b2a10438c",
        "IPY_MODEL_f19f7a7b2bef49d099be051f7bb931f5",
        "IPY_MODEL_367e49c63dcc465b9f3666067da6d94d",
        "IPY_MODEL_c25491b67a5f4d208f1a3e68f86bdb44",
        "IPY_MODEL_3e252be6e04a437f95954f8ca8b840a2",
        "IPY_MODEL_8b052fd721164e9db98c8c629aed46a6",
        "IPY_MODEL_d6166c62a3144ee7932645ee406e3bbf",
        "IPY_MODEL_cbb8677b6778402f8be8ba2c89f03163",
        "IPY_MODEL_7bc9ec1a36d1457c9a5ada070ed7ee03",
        "IPY_MODEL_92a550353cf8490984367945483289ea",
        "IPY_MODEL_a3b671d7118945d99a9841d2fbcdf61a",
        "IPY_MODEL_f87a4d43f8b340a5a3b364231ac4aa5b",
        "IPY_MODEL_16015b766bb34a148820062984b37af5",
        "IPY_MODEL_eaf88b6708ee4925a84b619404a7de87",
        "IPY_MODEL_7de61f16fa404068ae6145759988d067",
        "IPY_MODEL_61753a364d6f4f869055b696bb266573",
        "IPY_MODEL_3bae4ca2385945768c7b268535d04cad",
        "IPY_MODEL_46ac14a4f0724553b5b443ea62b1658d",
        "IPY_MODEL_e3d1c2e2dbc14d59a70b6d94c8ccbc6f",
        "IPY_MODEL_96197f305e6c413aa2539250bb14f081",
        "IPY_MODEL_ebb525d0b3c94d1c92993c689ad3da36",
        "IPY_MODEL_dcea21d547144c66b84513569835a5ad",
        "IPY_MODEL_260cd666088c4e638900b3e01315460e",
        "IPY_MODEL_20a9764f6d624b5a97466e613154349c",
        "IPY_MODEL_8024a8da1fc54d7b80381009c678ff32",
        "IPY_MODEL_d9be6f63c3ae4be2a1aa87cde03352df",
        "IPY_MODEL_4985001fb4b147ff883bee17b0b42784",
        "IPY_MODEL_14e67dd69e0b488798489aeb0db765ba",
        "IPY_MODEL_aa70d9800715489d9d161be473a84ffa",
        "IPY_MODEL_f376e7aa17f04fdabbf0476ca09db076",
        "IPY_MODEL_0dae1b359003406a8b6b8e292a569248",
        "IPY_MODEL_41d522938eb643fd8c25b1d3086cdfc8",
        "IPY_MODEL_c4003eba3438464da84a43f9765fc086",
        "IPY_MODEL_407081b84772471685be617221d19cf6",
        "IPY_MODEL_43e6a900f99f426095b30bee404c03d6",
        "IPY_MODEL_0c6898dc71834789b586dc7444324370",
        "IPY_MODEL_9efd409e7dc649139631212257042c3a",
        "IPY_MODEL_1819e69f440c4234ab697200341d087a",
        "IPY_MODEL_0640b775d6f8477ba69cb9ba4a503b2c",
        "IPY_MODEL_fdd62d1b012742a1b7102797dd41bfd9",
        "IPY_MODEL_3cee25901c9342e6a6823287b8d2d983",
        "IPY_MODEL_1ebc44cb4da0493c8e293ced35d590fc",
        "IPY_MODEL_51cd8099da0f43af8675478ec480c551",
        "IPY_MODEL_8ab199b5cab5459681c91f5c665d149f",
        "IPY_MODEL_854e0c3c030848018a6605e12da4ecd0",
        "IPY_MODEL_456bff306cfe45729fe4098c0a666b67",
        "IPY_MODEL_0d9440b735d943b099903c0d10257d2c",
        "IPY_MODEL_8a62e758fdbb4d979fea0deeeeb78a16",
        "IPY_MODEL_b38e7faf462e4051a400b82bb135b7da",
        "IPY_MODEL_912c88a47875437596f3b1a62de710cf",
        "IPY_MODEL_74d0895cafcc4d6c91dc97f180f03606",
        "IPY_MODEL_64c588a4779344d2ae49ffd55613c93b",
        "IPY_MODEL_a072a4ae2eb141ecb52bec4dda282ecd",
        "IPY_MODEL_e320166b26f14361b8340af8b2d70a70",
        "IPY_MODEL_845e1fa0790e4570b830186bb0e66edf",
        "IPY_MODEL_356392d6f7be4defa926002412744e70",
        "IPY_MODEL_02ae2cf1a904473ca20fbfb53ce5f9ec",
        "IPY_MODEL_700b00727de54071ac1f1bca41596ac8",
        "IPY_MODEL_3b64f1766f964c348e9d835e8e5750fd",
        "IPY_MODEL_40fd7446963b4db6992f1a8ed8e969a4"
       ],
       "nodes": [
        "IPY_MODEL_8c59f9d17d0c4cb685cfdd4ad23e3b06",
        "IPY_MODEL_d5e83da5e80d481a9bb59ac9e1a06aba",
        "IPY_MODEL_edd86a0726ec46febda46abe0b64b2d6",
        "IPY_MODEL_a8fa3933f0be44fabd5c37282dae6564",
        "IPY_MODEL_57b84a11ea0c4958b99d8e7682ccb3c0",
        "IPY_MODEL_eb366795925c46d4aa7abc7d44903e31",
        "IPY_MODEL_6a6ca72b27f94fae9dd80469232fdf70",
        "IPY_MODEL_8f6387feb5b84109a86df3e5aacd3c3b",
        "IPY_MODEL_61483bcaf1f4439ab4b5409ce9605077",
        "IPY_MODEL_35738dbf2cca481a87d48d276958deaf",
        "IPY_MODEL_1b502afa5447454cb5bc81459ff9d483",
        "IPY_MODEL_ff590d55dfe742f2b8d88bb3d9fc7a46",
        "IPY_MODEL_f6e6a71a7824438fb2d90ef24a2cc75e",
        "IPY_MODEL_3646bd396c314450974cff991221ebc5",
        "IPY_MODEL_1a278ca88ecd421098195d5b29921356",
        "IPY_MODEL_0cc774b039e24ed3a1060b895c3ec8a4",
        "IPY_MODEL_7ee9d7d4b4eb4ad9b414198a5bfaa18a",
        "IPY_MODEL_db168ff58cdb41b193d4d75a94c998c6",
        "IPY_MODEL_4716980df306472b8c1ecd9a59ca4d30",
        "IPY_MODEL_28b6b6c5179146acbec19e9de5253f4b",
        "IPY_MODEL_65de79b2b5b7410da51a1c662fb59521",
        "IPY_MODEL_9deb4a91ac5d4329b40e4c3d2d0fc298",
        "IPY_MODEL_352c49cd57e14bac953afed66b04c2e2",
        "IPY_MODEL_6fdb15a98d544d82a6d0420955a28a02",
        "IPY_MODEL_5de6a03b239c4a05b8c9b24a6b5fd183",
        "IPY_MODEL_1a4dd6adccc64f8c8654b6d9772639b6",
        "IPY_MODEL_f49e23b3d3d34eae897872ee75de9c1c",
        "IPY_MODEL_94bc27132ecd49f0a3d0ac2a33fbd06c",
        "IPY_MODEL_a999773bf3e5432f98cd1d860da94255",
        "IPY_MODEL_8609783a74534278b7d398cf18f6b172",
        "IPY_MODEL_812697413517490c934e034fc3d2c7d5",
        "IPY_MODEL_cc5fed7955cf4c6f9eaeebd43f6e6dff",
        "IPY_MODEL_c97cd97fbe0c48bcb1157a66be6a1bd3",
        "IPY_MODEL_d7952307f214457cacba9a04f18fe754",
        "IPY_MODEL_bd5a730750804cf1b592865cfe036752",
        "IPY_MODEL_831fd14ba891498d8731a595fdcce371",
        "IPY_MODEL_f4d93c900cba4669aef5cb4f5d7d0f45",
        "IPY_MODEL_48554f998a334b849a9dd7aa891273a6",
        "IPY_MODEL_bfcc4c0d21114e6da936fbe93ce302e4",
        "IPY_MODEL_7626d88d214c4666992bbebbe5f71004",
        "IPY_MODEL_8c406c99414e45588747a804d5473821",
        "IPY_MODEL_e2cda494528a4e30ada0d06695ebf864",
        "IPY_MODEL_802b5f960c3c46bca35e7d659c47a7c1",
        "IPY_MODEL_0931b6a24a824c0898a392ff734badf9",
        "IPY_MODEL_266669c469aa4fb695c91eea80838d47",
        "IPY_MODEL_f12a2202eb324e8284346ff84f0909fd",
        "IPY_MODEL_ab9fd57c89f2463699bc5cec04da0568",
        "IPY_MODEL_60e27552d2b24d609b64b5e182173a1b",
        "IPY_MODEL_6db6531c7889409789fdac5ed4676338",
        "IPY_MODEL_501e30f13916499380f2636fd937b872",
        "IPY_MODEL_84ab58b7bc3b4159b1d0acf67b824d3c",
        "IPY_MODEL_05ee600d8b0f45a59f187d689afb0d43",
        "IPY_MODEL_49ef833ef5db4b0d972874099f2444d3",
        "IPY_MODEL_b612bdea2d7d4280b618ae1cfd01b82c",
        "IPY_MODEL_d7397054bbe64787b2226b319294a671",
        "IPY_MODEL_8a7081b90a4a43d4b56df0a9ea2d3a79",
        "IPY_MODEL_0a99a2b1f2574e76ab828b05e4aad57c",
        "IPY_MODEL_04236ee5b55942b4b81efadb358ba6f6",
        "IPY_MODEL_dc019cd91af84a5b939bcc34ba62e9b3",
        "IPY_MODEL_28ff8f6c352f4a048cfa7474de60d66c",
        "IPY_MODEL_b5a9887b7b264cccaab212a0b7425f17",
        "IPY_MODEL_23b55edf720c42a387e0e117bb332133",
        "IPY_MODEL_2cefa31cd59c4020867ffa11689c9e84",
        "IPY_MODEL_a5932ccc90444e829e4319cf70553a61",
        "IPY_MODEL_f06f0559ad794501abcea47f90137182",
        "IPY_MODEL_e13860f5d2ef4436893023beb7a397e0",
        "IPY_MODEL_64e52552351a482da2cb3f5f9036a045",
        "IPY_MODEL_1b3da8c2c5c7460ca09ee25864107bd0",
        "IPY_MODEL_45ad8c5a956e4229aa2c98eecd9b9303",
        "IPY_MODEL_bf1202eb09324d7695d3a5ad78df761c"
       ]
      }
     },
     "6d142a091fa745d1b811c9b3a15a27bc": {
      "model_module": "jupyter-cytoscape",
      "model_module_version": "^1.3.3",
      "model_name": "NodeModel",
      "state": {
       "_model_module_version": "^1.3.3",
       "_view_module_version": "^1.3.3",
       "data": {
        "color": "gray",
        "id": "7912423869655248281",
        "label": "(3, 0, 0)",
        "shape": "rectangle"
       },
       "grabbable": true,
       "grabbed": false,
       "position": {
        "x": 925,
        "y": 35
       },
       "selectable": false
      }
     },
     "6d5b58f67d2747f2a4e785d04a2e61d2": {
      "model_module": "jupyter-cytoscape",
      "model_module_version": "^1.3.3",
      "model_name": "EdgeModel",
      "state": {
       "_model_module_version": "^1.3.3",
       "_view_module_version": "^1.3.3",
       "classes": " directed ",
       "data": {
        "id": "6e9fd557-a944-4381-a581-8d07e11d194e",
        "source": "-5798326156427196744",
        "target": "-2188848814650837854"
       },
       "selectable": false
      }
     },
     "6db6531c7889409789fdac5ed4676338": {
      "model_module": "jupyter-cytoscape",
      "model_module_version": "^1.3.3",
      "model_name": "NodeModel",
      "state": {
       "_model_module_version": "^1.3.3",
       "_view_module_version": "^1.3.3",
       "data": {
        "color": "gray",
        "id": "-966650250555672437",
        "label": "intensity",
        "shape": "ellipse"
       },
       "grabbable": true,
       "grabbed": false,
       "position": {
        "x": 714,
        "y": 875
       },
       "selectable": false
      }
     },
     "6ecb9120816847c5b64ba8ae81e700a8": {
      "model_module": "jupyter-cytoscape",
      "model_module_version": "^1.3.3",
      "model_name": "NodeModel",
      "state": {
       "_model_module_version": "^1.3.3",
       "_view_module_version": "^1.3.3",
       "data": {
        "color": "gray",
        "id": "-5798326156427196744",
        "label": "getitem",
        "shape": "ellipse"
       },
       "grabbable": true,
       "grabbed": false,
       "position": {
        "x": 518,
        "y": 635
       },
       "selectable": false
      }
     },
     "6fdb15a98d544d82a6d0420955a28a02": {
      "model_module": "jupyter-cytoscape",
      "model_module_version": "^1.3.3",
      "model_name": "NodeModel",
      "state": {
       "_model_module_version": "^1.3.3",
       "_view_module_version": "^1.3.3",
       "data": {
        "color": "gray",
        "id": "-5586583633444300365",
        "label": "",
        "shape": "rectangle"
       },
       "grabbable": true,
       "grabbed": false,
       "position": {
        "x": 928.75,
        "y": 1955
       },
       "selectable": false
      }
     },
     "700b00727de54071ac1f1bca41596ac8": {
      "model_module": "jupyter-cytoscape",
      "model_module_version": "^1.3.3",
      "model_name": "EdgeModel",
      "state": {
       "_model_module_version": "^1.3.3",
       "_view_module_version": "^1.3.3",
       "classes": " directed ",
       "data": {
        "id": "cb983f85-2e4a-4da9-b9b9-78f625acda42",
        "source": "-2281638222933688069",
        "target": "7831346786930445293"
       },
       "selectable": false
      }
     },
     "74d0895cafcc4d6c91dc97f180f03606": {
      "model_module": "jupyter-cytoscape",
      "model_module_version": "^1.3.3",
      "model_name": "EdgeModel",
      "state": {
       "_model_module_version": "^1.3.3",
       "_view_module_version": "^1.3.3",
       "classes": " directed ",
       "data": {
        "id": "10bf033c-f907-49ad-8440-c6ed036bca08",
        "source": "-5550572550497725073",
        "target": "-7849695898873496908"
       },
       "selectable": false
      }
     },
     "7626d88d214c4666992bbebbe5f71004": {
      "model_module": "jupyter-cytoscape",
      "model_module_version": "^1.3.3",
      "model_name": "NodeModel",
      "state": {
       "_model_module_version": "^1.3.3",
       "_view_module_version": "^1.3.3",
       "data": {
        "color": "gray",
        "id": "4920914178337822388",
        "label": "build_waves",
        "shape": "ellipse"
       },
       "grabbable": true,
       "grabbed": false,
       "position": {
        "x": 309.25,
        "y": 1595
       },
       "selectable": false
      }
     },
     "76c45dc1eead4acab7b0df534994769c": {
      "model_module": "jupyter-cytoscape",
      "model_module_version": "^1.3.3",
      "model_name": "EdgeModel",
      "state": {
       "_model_module_version": "^1.3.3",
       "_view_module_version": "^1.3.3",
       "classes": " directed ",
       "data": {
        "id": "290c59c3-ad22-414e-b51d-eddcc2e7dadb",
        "source": "-6818987558457334111",
        "target": "2615485684162946022"
       },
       "selectable": false
      }
     },
     "77c53d3932664ec6aa77db893e7100e4": {
      "model_module": "jupyter-cytoscape",
      "model_module_version": "^1.3.3",
      "model_name": "NodeModel",
      "state": {
       "_model_module_version": "^1.3.3",
       "_view_module_version": "^1.3.3",
       "data": {
        "color": "gray",
        "id": "-4491841209891657036",
        "label": "wrap_with_array",
        "shape": "ellipse"
       },
       "grabbable": true,
       "grabbed": false,
       "position": {
        "x": 518,
        "y": 1115
       },
       "selectable": false
      }
     },
     "785a657cc3df49fea85f563deb906ffe": {
      "model_module": "jupyter-cytoscape",
      "model_module_version": "^1.3.3",
      "model_name": "NodeModel",
      "state": {
       "_model_module_version": "^1.3.3",
       "_view_module_version": "^1.3.3",
       "data": {
        "color": "gray",
        "id": "-8519513389625046867",
        "label": "(3, 0, 0, 0)",
        "shape": "rectangle"
       },
       "grabbable": true,
       "grabbed": false,
       "position": {
        "x": 925,
        "y": 275
       },
       "selectable": false
      }
     },
     "7917f07d729844ec9b4eb4e097edce48": {
      "model_module": "jupyter-cytoscape",
      "model_module_version": "^1.3.3",
      "model_name": "EdgeModel",
      "state": {
       "_model_module_version": "^1.3.3",
       "_view_module_version": "^1.3.3",
       "classes": " directed ",
       "data": {
        "id": "8819ab1f-9840-4292-ae86-dccf920468b1",
        "source": "2972249708443792251",
        "target": "-8765958837707985472"
       },
       "selectable": false
      }
     },
     "7bc9ec1a36d1457c9a5ada070ed7ee03": {
      "model_module": "jupyter-cytoscape",
      "model_module_version": "^1.3.3",
      "model_name": "EdgeModel",
      "state": {
       "_model_module_version": "^1.3.3",
       "_view_module_version": "^1.3.3",
       "classes": " directed ",
       "data": {
        "id": "5c035b50-0355-4f13-b9b0-622a4b447958",
        "source": "6507325759032582960",
        "target": "-4491841209891657036"
       },
       "selectable": false
      }
     },
     "7de61f16fa404068ae6145759988d067": {
      "model_module": "jupyter-cytoscape",
      "model_module_version": "^1.3.3",
      "model_name": "EdgeModel",
      "state": {
       "_model_module_version": "^1.3.3",
       "_view_module_version": "^1.3.3",
       "classes": " directed ",
       "data": {
        "id": "e92e9445-40dd-4824-bf1b-f7a471d6334c",
        "source": "8448539117469004226",
        "target": "354067505764356852"
       },
       "selectable": false
      }
     },
     "7e9bd7dc79fb4b77a28626f3382defef": {
      "model_module": "jupyter-cytoscape",
      "model_module_version": "^1.3.3",
      "model_name": "GraphModel",
      "state": {
       "_adj": {},
       "_model_module_version": "^1.3.3",
       "_view_module": "jupyter-cytoscape",
       "_view_module_version": "^1.3.3"
      }
     },
     "7ee9d7d4b4eb4ad9b414198a5bfaa18a": {
      "model_module": "jupyter-cytoscape",
      "model_module_version": "^1.3.3",
      "model_name": "NodeModel",
      "state": {
       "_model_module_version": "^1.3.3",
       "_view_module_version": "^1.3.3",
       "data": {
        "color": "gray",
        "id": "-7151392110578683413",
        "label": "3",
        "shape": "rectangle"
       },
       "grabbable": true,
       "grabbed": false,
       "position": {
        "x": 98,
        "y": 1715
       },
       "selectable": false
      }
     },
     "8024a8da1fc54d7b80381009c678ff32": {
      "model_module": "jupyter-cytoscape",
      "model_module_version": "^1.3.3",
      "model_name": "EdgeModel",
      "state": {
       "_model_module_version": "^1.3.3",
       "_view_module_version": "^1.3.3",
       "classes": " directed ",
       "data": {
        "id": "60931db5-80e3-4033-9129-ef246f1721ea",
        "source": "6100752967933182374",
        "target": "-8765866586205613436"
       },
       "selectable": false
      }
     },
     "802b5f960c3c46bca35e7d659c47a7c1": {
      "model_module": "jupyter-cytoscape",
      "model_module_version": "^1.3.3",
      "model_name": "NodeModel",
      "state": {
       "_model_module_version": "^1.3.3",
       "_view_module_version": "^1.3.3",
       "data": {
        "color": "gray",
        "id": "7687823107461041636",
        "label": "getitem",
        "shape": "ellipse"
       },
       "grabbable": true,
       "grabbed": false,
       "position": {
        "x": 925,
        "y": 1115
       },
       "selectable": false
      }
     },
     "809d33746cbb4bda9bcd3de9c6589a2b": {
      "model_module": "jupyter-cytoscape",
      "model_module_version": "^1.3.3",
      "model_name": "EdgeModel",
      "state": {
       "_model_module_version": "^1.3.3",
       "_view_module_version": "^1.3.3",
       "classes": " directed ",
       "data": {
        "id": "0f59222b-fcb0-47db-b19f-ec33604ffe0a",
        "source": "-2188848814650837854",
        "target": "531821977607799369"
       },
       "selectable": false
      }
     },
     "812697413517490c934e034fc3d2c7d5": {
      "model_module": "jupyter-cytoscape",
      "model_module_version": "^1.3.3",
      "model_name": "NodeModel",
      "state": {
       "_model_module_version": "^1.3.3",
       "_view_module_version": "^1.3.3",
       "data": {
        "color": "gray",
        "id": "354067505764356852",
        "label": "wrap_with_array",
        "shape": "ellipse"
       },
       "grabbable": true,
       "grabbed": false,
       "position": {
        "x": 98,
        "y": 2075
       },
       "selectable": false
      }
     },
     "831fd14ba891498d8731a595fdcce371": {
      "model_module": "jupyter-cytoscape",
      "model_module_version": "^1.3.3",
      "model_name": "NodeModel",
      "state": {
       "_model_module_version": "^1.3.3",
       "_view_module_version": "^1.3.3",
       "data": {
        "color": "gray",
        "id": "486068336377216963",
        "label": "getitem",
        "shape": "ellipse"
       },
       "grabbable": true,
       "grabbed": false,
       "position": {
        "x": 516.75,
        "y": 1595
       },
       "selectable": false
      }
     },
     "845e1fa0790e4570b830186bb0e66edf": {
      "model_module": "jupyter-cytoscape",
      "model_module_version": "^1.3.3",
      "model_name": "EdgeModel",
      "state": {
       "_model_module_version": "^1.3.3",
       "_view_module_version": "^1.3.3",
       "classes": " directed ",
       "data": {
        "id": "aecd648a-1488-4201-b079-9ca2acea72fa",
        "source": "4452784048716689492",
        "target": "-2196915638082993435"
       },
       "selectable": false
      }
     },
     "84ab58b7bc3b4159b1d0acf67b824d3c": {
      "model_module": "jupyter-cytoscape",
      "model_module_version": "^1.3.3",
      "model_name": "NodeModel",
      "state": {
       "_model_module_version": "^1.3.3",
       "_view_module_version": "^1.3.3",
       "data": {
        "color": "gray",
        "id": "-2188166655199420618",
        "label": "intensity",
        "shape": "ellipse"
       },
       "grabbable": true,
       "grabbed": false,
       "position": {
        "x": 925,
        "y": 875
       },
       "selectable": false
      }
     },
     "854e0c3c030848018a6605e12da4ecd0": {
      "model_module": "jupyter-cytoscape",
      "model_module_version": "^1.3.3",
      "model_name": "EdgeModel",
      "state": {
       "_model_module_version": "^1.3.3",
       "_view_module_version": "^1.3.3",
       "classes": " directed ",
       "data": {
        "id": "2208fee2-6981-4e6c-9799-9127c0b8da99",
        "source": "6635843626673095679",
        "target": "4972333896257350157"
       },
       "selectable": false
      }
     },
     "855af766ab5540e1905ed5ed39e70c4a": {
      "model_module": "jupyter-cytoscape",
      "model_module_version": "^1.3.3",
      "model_name": "EdgeModel",
      "state": {
       "_model_module_version": "^1.3.3",
       "_view_module_version": "^1.3.3",
       "classes": " directed ",
       "data": {
        "id": "d676514d-890d-4ca1-843e-f10b17a32462",
        "source": "-6818987558457334111",
        "target": "531821977607799369"
       },
       "selectable": false
      }
     },
     "8609783a74534278b7d398cf18f6b172": {
      "model_module": "jupyter-cytoscape",
      "model_module_version": "^1.3.3",
      "model_name": "NodeModel",
      "state": {
       "_model_module_version": "^1.3.3",
       "_view_module_version": "^1.3.3",
       "data": {
        "color": "gray",
        "id": "8448539117469004226",
        "label": "",
        "shape": "rectangle"
       },
       "grabbable": true,
       "grabbed": false,
       "position": {
        "x": 98,
        "y": 2195
       },
       "selectable": false
      }
     },
     "8a62e758fdbb4d979fea0deeeeb78a16": {
      "model_module": "jupyter-cytoscape",
      "model_module_version": "^1.3.3",
      "model_name": "EdgeModel",
      "state": {
       "_model_module_version": "^1.3.3",
       "_view_module_version": "^1.3.3",
       "classes": " directed ",
       "data": {
        "id": "56972da2-4eae-45d5-9f5e-b72c489ba2d3",
        "source": "-6862988842823712970",
        "target": "-685296562028925466"
       },
       "selectable": false
      }
     },
     "8a7081b90a4a43d4b56df0a9ea2d3a79": {
      "model_module": "jupyter-cytoscape",
      "model_module_version": "^1.3.3",
      "model_name": "NodeModel",
      "state": {
       "_model_module_version": "^1.3.3",
       "_view_module_version": "^1.3.3",
       "data": {
        "color": "gray",
        "id": "-5550572550497725073",
        "label": "(3, 0, 0)",
        "shape": "rectangle"
       },
       "grabbable": true,
       "grabbed": false,
       "position": {
        "x": 98,
        "y": 755
       },
       "selectable": false
      }
     },
     "8ab199b5cab5459681c91f5c665d149f": {
      "model_module": "jupyter-cytoscape",
      "model_module_version": "^1.3.3",
      "model_name": "EdgeModel",
      "state": {
       "_model_module_version": "^1.3.3",
       "_view_module_version": "^1.3.3",
       "classes": " directed ",
       "data": {
        "id": "0813b9b8-dcbe-4dbf-b419-41bef69339b9",
        "source": "4972333896257350157",
        "target": "-7847489932778513906"
       },
       "selectable": false
      }
     },
     "8b052fd721164e9db98c8c629aed46a6": {
      "model_module": "jupyter-cytoscape",
      "model_module_version": "^1.3.3",
      "model_name": "EdgeModel",
      "state": {
       "_model_module_version": "^1.3.3",
       "_view_module_version": "^1.3.3",
       "classes": " directed ",
       "data": {
        "id": "e734d9d2-b6cd-4633-9cb3-37f4a3252957",
        "source": "-6444234139406252793",
        "target": "4464736378670909110"
       },
       "selectable": false
      }
     },
     "8c406c99414e45588747a804d5473821": {
      "model_module": "jupyter-cytoscape",
      "model_module_version": "^1.3.3",
      "model_name": "NodeModel",
      "state": {
       "_model_module_version": "^1.3.3",
       "_view_module_version": "^1.3.3",
       "data": {
        "color": "gray",
        "id": "-7427971751448803338",
        "label": "getitem",
        "shape": "ellipse"
       },
       "grabbable": true,
       "grabbed": false,
       "position": {
        "x": 714,
        "y": 1115
       },
       "selectable": false
      }
     },
     "8c59f9d17d0c4cb685cfdd4ad23e3b06": {
      "model_module": "jupyter-cytoscape",
      "model_module_version": "^1.3.3",
      "model_name": "NodeModel",
      "state": {
       "_model_module_version": "^1.3.3",
       "_view_module_version": "^1.3.3",
       "data": {
        "color": "gray",
        "id": "2615485684162946022",
        "label": "apply_transform",
        "shape": "ellipse"
       },
       "grabbable": true,
       "grabbed": false,
       "position": {
        "x": 714,
        "y": 1355
       },
       "selectable": false
      }
     },
     "8def76063e3043a2ad547da61ed5f31c": {
      "model_module": "jupyter-cytoscape",
      "model_module_version": "^1.3.3",
      "model_name": "NodeModel",
      "state": {
       "_model_module_version": "^1.3.3",
       "_view_module_version": "^1.3.3",
       "data": {
        "color": "gray",
        "id": "4464736378670909110",
        "label": "wrap_with_array",
        "shape": "ellipse"
       },
       "grabbable": true,
       "grabbed": false,
       "position": {
        "x": 98,
        "y": 1115
       },
       "selectable": false
      }
     },
     "8f5c49cef38d4d9aa9a52a53ed4e1ea8": {
      "model_module": "jupyter-cytoscape",
      "model_module_version": "^1.3.3",
      "model_name": "NodeModel",
      "state": {
       "_model_module_version": "^1.3.3",
       "_view_module_version": "^1.3.3",
       "data": {
        "color": "gray",
        "id": "-1354418648340348833",
        "label": "getitem",
        "shape": "ellipse"
       },
       "grabbable": true,
       "grabbed": false,
       "position": {
        "x": 925,
        "y": 155
       },
       "selectable": false
      }
     },
     "8f6387feb5b84109a86df3e5aacd3c3b": {
      "model_module": "jupyter-cytoscape",
      "model_module_version": "^1.3.3",
      "model_name": "NodeModel",
      "state": {
       "_model_module_version": "^1.3.3",
       "_view_module_version": "^1.3.3",
       "data": {
        "color": "gray",
        "id": "1785040573790393940",
        "label": "apply_transform",
        "shape": "ellipse"
       },
       "grabbable": true,
       "grabbed": false,
       "position": {
        "x": 409.25,
        "y": 1355
       },
       "selectable": false
      }
     },
     "90a8ed53ab8d44b089689096e96289c0": {
      "model_module": "jupyter-cytoscape",
      "model_module_version": "^1.3.3",
      "model_name": "EdgeModel",
      "state": {
       "_model_module_version": "^1.3.3",
       "_view_module_version": "^1.3.3",
       "classes": " directed ",
       "data": {
        "id": "6407e5e3-b341-4459-836c-c209b8183065",
        "source": "-7371798517497359819",
        "target": "-8519513389625046867"
       },
       "selectable": false
      }
     },
     "90c72528c6e74a78bf3f882852829add": {
      "model_module": "jupyter-cytoscape",
      "model_module_version": "^1.3.3",
      "model_name": "EdgeModel",
      "state": {
       "_model_module_version": "^1.3.3",
       "_view_module_version": "^1.3.3",
       "classes": " directed ",
       "data": {
        "id": "3ad99062-90aa-4770-85c4-aff7824cccc7",
        "source": "479854361275283365",
        "target": "-4150148350894960289"
       },
       "selectable": false
      }
     },
     "912c88a47875437596f3b1a62de710cf": {
      "model_module": "jupyter-cytoscape",
      "model_module_version": "^1.3.3",
      "model_name": "EdgeModel",
      "state": {
       "_model_module_version": "^1.3.3",
       "_view_module_version": "^1.3.3",
       "classes": " directed ",
       "data": {
        "id": "2cf8fd97-a9f9-411d-89fb-8f4c2d407087",
        "source": "-7849695898873496908",
        "target": "4143413161568039660"
       },
       "selectable": false
      }
     },
     "92a550353cf8490984367945483289ea": {
      "model_module": "jupyter-cytoscape",
      "model_module_version": "^1.3.3",
      "model_name": "EdgeModel",
      "state": {
       "_model_module_version": "^1.3.3",
       "_view_module_version": "^1.3.3",
       "classes": " directed ",
       "data": {
        "id": "998aba92-9817-4dd8-bd5a-f5b4d2d926c1",
        "source": "-5586583633444300365",
        "target": "2972249708443792251"
       },
       "selectable": false
      }
     },
     "94bc27132ecd49f0a3d0ac2a33fbd06c": {
      "model_module": "jupyter-cytoscape",
      "model_module_version": "^1.3.3",
      "model_name": "NodeModel",
      "state": {
       "_model_module_version": "^1.3.3",
       "_view_module_version": "^1.3.3",
       "data": {
        "color": "gray",
        "id": "2226826989396619196",
        "label": "",
        "shape": "rectangle"
       },
       "grabbable": true,
       "grabbed": false,
       "position": {
        "x": 516.75,
        "y": 1955
       },
       "selectable": false
      }
     },
     "96197f305e6c413aa2539250bb14f081": {
      "model_module": "jupyter-cytoscape",
      "model_module_version": "^1.3.3",
      "model_name": "EdgeModel",
      "state": {
       "_model_module_version": "^1.3.3",
       "_view_module_version": "^1.3.3",
       "classes": " directed ",
       "data": {
        "id": "bd769fb5-39d9-462c-af47-b0d122e85b68",
        "source": "-8765958837707985472",
        "target": "-5798326156427196744"
       },
       "selectable": false
      }
     },
     "97ff7419b7d84bdeb44ff28d6018da09": {
      "model_module": "jupyter-cytoscape",
      "model_module_version": "^1.3.3",
      "model_name": "NodeModel",
      "state": {
       "_model_module_version": "^1.3.3",
       "_view_module_version": "^1.3.3",
       "data": {
        "color": "gray",
        "id": "4920914178337822388",
        "label": "build_waves",
        "shape": "ellipse"
       },
       "grabbable": true,
       "grabbed": false,
       "position": {
        "x": 310.5,
        "y": 635
       },
       "selectable": false
      }
     },
     "98450a160d3743d5b3a3a1d9ffe7ee9e": {
      "model_module": "jupyter-cytoscape",
      "model_module_version": "^1.3.3",
      "model_name": "EdgeModel",
      "state": {
       "_model_module_version": "^1.3.3",
       "_view_module_version": "^1.3.3",
       "classes": " directed ",
       "data": {
        "id": "83955cc0-efe7-498c-92b3-d6a90617d058",
        "source": "-5586583633444300365",
        "target": "2972249708443792251"
       },
       "selectable": false
      }
     },
     "9d7a44f7ecb942f8ab8ec38d74039d3e": {
      "model_module": "jupyter-cytoscape",
      "model_module_version": "^1.3.3",
      "model_name": "EdgeModel",
      "state": {
       "_model_module_version": "^1.3.3",
       "_view_module_version": "^1.3.3",
       "classes": " directed ",
       "data": {
        "id": "3dbe9f78-049d-456e-b471-df555cfa09a2",
        "source": "-8519513389625046867",
        "target": "-1354418648340348833"
       },
       "selectable": false
      }
     },
     "9deb4a91ac5d4329b40e4c3d2d0fc298": {
      "model_module": "jupyter-cytoscape",
      "model_module_version": "^1.3.3",
      "model_name": "NodeModel",
      "state": {
       "_model_module_version": "^1.3.3",
       "_view_module_version": "^1.3.3",
       "data": {
        "color": "gray",
        "id": "6507325759032582960",
        "label": "",
        "shape": "rectangle"
       },
       "grabbable": true,
       "grabbed": false,
       "position": {
        "x": 928.75,
        "y": 2195
       },
       "selectable": false
      }
     },
     "9efd409e7dc649139631212257042c3a": {
      "model_module": "jupyter-cytoscape",
      "model_module_version": "^1.3.3",
      "model_name": "EdgeModel",
      "state": {
       "_model_module_version": "^1.3.3",
       "_view_module_version": "^1.3.3",
       "classes": " directed ",
       "data": {
        "id": "06eb1bdf-2eb8-487a-a170-35011ffc5176",
        "source": "-8476836607675673413",
        "target": "-966650250555672437"
       },
       "selectable": false
      }
     },
     "a072a4ae2eb141ecb52bec4dda282ecd": {
      "model_module": "jupyter-cytoscape",
      "model_module_version": "^1.3.3",
      "model_name": "EdgeModel",
      "state": {
       "_model_module_version": "^1.3.3",
       "_view_module_version": "^1.3.3",
       "classes": " directed ",
       "data": {
        "id": "d9416666-bacd-49c5-a812-8f7942b2e689",
        "source": "-7847489932778513906",
        "target": "6348781173463378152"
       },
       "selectable": false
      }
     },
     "a3b671d7118945d99a9841d2fbcdf61a": {
      "model_module": "jupyter-cytoscape",
      "model_module_version": "^1.3.3",
      "model_name": "EdgeModel",
      "state": {
       "_model_module_version": "^1.3.3",
       "_view_module_version": "^1.3.3",
       "classes": " directed ",
       "data": {
        "id": "eaf5a8eb-6562-4d69-9d76-06c295e33f1f",
        "source": "-2471138111821168799",
        "target": "2226826989396619196"
       },
       "selectable": false
      }
     },
     "a5932ccc90444e829e4319cf70553a61": {
      "model_module": "jupyter-cytoscape",
      "model_module_version": "^1.3.3",
      "model_name": "NodeModel",
      "state": {
       "_model_module_version": "^1.3.3",
       "_view_module_version": "^1.3.3",
       "data": {
        "color": "gray",
        "id": "4143413161568039660",
        "label": "(3, 0, 0)",
        "shape": "rectangle"
       },
       "grabbable": true,
       "grabbed": false,
       "position": {
        "x": 98,
        "y": 515
       },
       "selectable": false
      }
     },
     "a7f35ea37fff421b95d1ae063d14e93c": {
      "model_module": "jupyter-cytoscape",
      "model_module_version": "^1.3.3",
      "model_name": "EdgeModel",
      "state": {
       "_model_module_version": "^1.3.3",
       "_view_module_version": "^1.3.3",
       "classes": " directed ",
       "data": {
        "id": "53c55e82-ac06-4b6d-a11c-0e27b1670b44",
        "source": "8448539117469004226",
        "target": "354067505764356852"
       },
       "selectable": false
      }
     },
     "a85cd8a8948040aebd87f3461914b977": {
      "model_module": "jupyter-cytoscape",
      "model_module_version": "^1.3.3",
      "model_name": "NodeModel",
      "state": {
       "_model_module_version": "^1.3.3",
       "_view_module_version": "^1.3.3",
       "data": {
        "color": "gray",
        "id": "-7151392110578683413",
        "label": "3",
        "shape": "rectangle"
       },
       "grabbable": true,
       "grabbed": false,
       "position": {
        "x": 930,
        "y": 755
       },
       "selectable": false
      }
     },
     "a8fa3933f0be44fabd5c37282dae6564": {
      "model_module": "jupyter-cytoscape",
      "model_module_version": "^1.3.3",
      "model_name": "NodeModel",
      "state": {
       "_model_module_version": "^1.3.3",
       "_view_module_version": "^1.3.3",
       "data": {
        "color": "gray",
        "id": "-6540409753842560850",
        "label": "(0, 0, 0, 0)",
        "shape": "rectangle"
       },
       "grabbable": true,
       "grabbed": false,
       "position": {
        "x": 714,
        "y": 1235
       },
       "selectable": false
      }
     },
     "a999773bf3e5432f98cd1d860da94255": {
      "model_module": "jupyter-cytoscape",
      "model_module_version": "^1.3.3",
      "model_name": "NodeModel",
      "state": {
       "_model_module_version": "^1.3.3",
       "_view_module_version": "^1.3.3",
       "data": {
        "color": "gray",
        "id": "-2263312364964773600",
        "label": "0",
        "shape": "rectangle"
       },
       "grabbable": true,
       "grabbed": false,
       "position": {
        "x": 516.75,
        "y": 1835
       },
       "selectable": false
      }
     },
     "aa70d9800715489d9d161be473a84ffa": {
      "model_module": "jupyter-cytoscape",
      "model_module_version": "^1.3.3",
      "model_name": "EdgeModel",
      "state": {
       "_model_module_version": "^1.3.3",
       "_view_module_version": "^1.3.3",
       "classes": " directed ",
       "data": {
        "id": "8f68d2e8-f850-4c59-af3d-5429c0540645",
        "source": "-6540409753842560850",
        "target": "-7427971751448803338"
       },
       "selectable": false
      }
     },
     "ab9fd57c89f2463699bc5cec04da0568": {
      "model_module": "jupyter-cytoscape",
      "model_module_version": "^1.3.3",
      "model_name": "NodeModel",
      "state": {
       "_model_module_version": "^1.3.3",
       "_view_module_version": "^1.3.3",
       "data": {
        "color": "gray",
        "id": "-1354418648340348833",
        "label": "getitem",
        "shape": "ellipse"
       },
       "grabbable": true,
       "grabbed": false,
       "position": {
        "x": 98,
        "y": 1115
       },
       "selectable": false
      }
     },
     "b1e7e5913a774ed9b4bebc1b585f165d": {
      "model_module": "jupyter-cytoscape",
      "model_module_version": "^1.3.3",
      "model_name": "NodeModel",
      "state": {
       "_model_module_version": "^1.3.3",
       "_view_module_version": "^1.3.3",
       "data": {
        "color": "gray",
        "id": "-2263312364964773600",
        "label": "0",
        "shape": "rectangle"
       },
       "grabbable": true,
       "grabbed": false,
       "position": {
        "x": 724,
        "y": 875
       },
       "selectable": false
      }
     },
     "b38e7faf462e4051a400b82bb135b7da": {
      "model_module": "jupyter-cytoscape",
      "model_module_version": "^1.3.3",
      "model_name": "EdgeModel",
      "state": {
       "_model_module_version": "^1.3.3",
       "_view_module_version": "^1.3.3",
       "classes": " directed ",
       "data": {
        "id": "9c36cc06-9675-4af9-afd3-dec7d71b3684",
        "source": "4971181940308998796",
        "target": "-6862988842823712970"
       },
       "selectable": false
      }
     },
     "b4960eb57e8c4a10ba4891f7cd86fa0d": {
      "model_module": "jupyter-cytoscape",
      "model_module_version": "^1.3.3",
      "model_name": "NodeModel",
      "state": {
       "_model_module_version": "^1.3.3",
       "_view_module_version": "^1.3.3",
       "data": {
        "color": "gray",
        "id": "1785040573790393940",
        "label": "apply_transform",
        "shape": "ellipse"
       },
       "grabbable": true,
       "grabbed": false,
       "position": {
        "x": 712.75,
        "y": 395
       },
       "selectable": false
      }
     },
     "b4e887d3b16b4269811682d0cb4ac1be": {
      "model_module": "jupyter-cytoscape",
      "model_module_version": "^1.3.3",
      "model_name": "EdgeModel",
      "state": {
       "_model_module_version": "^1.3.3",
       "_view_module_version": "^1.3.3",
       "classes": " directed ",
       "data": {
        "id": "60d6622a-e9aa-448b-9cac-3e879c7ff7ec",
        "source": "-7413740880925421720",
        "target": "3083714146058283155"
       },
       "selectable": false
      }
     },
     "b5a9887b7b264cccaab212a0b7425f17": {
      "model_module": "jupyter-cytoscape",
      "model_module_version": "^1.3.3",
      "model_name": "NodeModel",
      "state": {
       "_model_module_version": "^1.3.3",
       "_view_module_version": "^1.3.3",
       "data": {
        "color": "gray",
        "id": "-6862988842823712970",
        "label": "mean_chunk",
        "shape": "ellipse"
       },
       "grabbable": true,
       "grabbed": false,
       "position": {
        "x": 409.25,
        "y": 635
       },
       "selectable": false
      }
     },
     "b5d7b7ef70484c90801b9b7863fb74a0": {
      "model_module": "jupyter-cytoscape",
      "model_module_version": "^1.3.3",
      "model_name": "EdgeModel",
      "state": {
       "_model_module_version": "^1.3.3",
       "_view_module_version": "^1.3.3",
       "classes": " directed ",
       "data": {
        "id": "7b21e4b0-78d2-4a72-89ce-c80cabd4bcdf",
        "source": "1104668536416739155",
        "target": "1785040573790393940"
       },
       "selectable": false
      }
     },
     "b612bdea2d7d4280b618ae1cfd01b82c": {
      "model_module": "jupyter-cytoscape",
      "model_module_version": "^1.3.3",
      "model_name": "NodeModel",
      "state": {
       "_model_module_version": "^1.3.3",
       "_view_module_version": "^1.3.3",
       "data": {
        "color": "gray",
        "id": "4971181940308998796",
        "label": "(2, 0, 0)",
        "shape": "rectangle"
       },
       "grabbable": true,
       "grabbed": false,
       "position": {
        "x": 409.25,
        "y": 755
       },
       "selectable": false
      }
     },
     "b96ecaa7278f497bbb06de6f002e6abd": {
      "model_module": "jupyter-cytoscape",
      "model_module_version": "^1.3.3",
      "model_name": "EdgeModel",
      "state": {
       "_model_module_version": "^1.3.3",
       "_view_module_version": "^1.3.3",
       "classes": " directed ",
       "data": {
        "id": "81422cec-0c54-46f6-b65f-a6395130dea1",
        "source": "-6818987558457334111",
        "target": "1785040573790393940"
       },
       "selectable": false
      }
     },
     "b9b20a1a901a4e1cba570dae80432e80": {
      "model_module": "jupyter-cytoscape",
      "model_module_version": "^1.3.3",
      "model_name": "NodeModel",
      "state": {
       "_model_module_version": "^1.3.3",
       "_view_module_version": "^1.3.3",
       "data": {
        "color": "gray",
        "id": "3083714146058283155",
        "label": "(2, 0, 0)",
        "shape": "rectangle"
       },
       "grabbable": true,
       "grabbed": false,
       "position": {
        "x": 712.75,
        "y": 35
       },
       "selectable": false
      }
     },
     "bd5a730750804cf1b592865cfe036752": {
      "model_module": "jupyter-cytoscape",
      "model_module_version": "^1.3.3",
      "model_name": "NodeModel",
      "state": {
       "_model_module_version": "^1.3.3",
       "_view_module_version": "^1.3.3",
       "data": {
        "color": "gray",
        "id": "-5798326156427196744",
        "label": "getitem",
        "shape": "ellipse"
       },
       "grabbable": true,
       "grabbed": false,
       "position": {
        "x": 928.75,
        "y": 1595
       },
       "selectable": false
      }
     },
     "be7b54122ded4a9697d6d9f1700c14ff": {
      "model_module": "jupyter-cytoscape",
      "model_module_version": "^1.3.3",
      "model_name": "EdgeModel",
      "state": {
       "_model_module_version": "^1.3.3",
       "_view_module_version": "^1.3.3",
       "classes": " directed ",
       "data": {
        "id": "b73e88ca-2ca2-4faf-ba27-87544bac8365",
        "source": "-4150148350894960289",
        "target": "2615485684162946022"
       },
       "selectable": false
      }
     },
     "bf1202eb09324d7695d3a5ad78df761c": {
      "model_module": "jupyter-cytoscape",
      "model_module_version": "^1.3.3",
      "model_name": "NodeModel",
      "state": {
       "_model_module_version": "^1.3.3",
       "_view_module_version": "^1.3.3",
       "data": {
        "color": "gray",
        "id": "7831346786930445293",
        "label": "(0, 0)",
        "shape": "rectangle"
       },
       "grabbable": true,
       "grabbed": false,
       "position": {
        "x": 615.25,
        "y": 35
       },
       "selectable": false
      }
     },
     "bf6d8b72cd0c46acb99d9c6b2a10438c": {
      "model_module": "jupyter-cytoscape",
      "model_module_version": "^1.3.3",
      "model_name": "EdgeModel",
      "state": {
       "_model_module_version": "^1.3.3",
       "_view_module_version": "^1.3.3",
       "classes": " directed ",
       "data": {
        "id": "a3f106fc-5d31-44b1-abb6-c685e7599b7d",
        "source": "-6226943348929456422",
        "target": "-3872884808735289106"
       },
       "selectable": false
      }
     },
     "bfcc4c0d21114e6da936fbe93ce302e4": {
      "model_module": "jupyter-cytoscape",
      "model_module_version": "^1.3.3",
      "model_name": "NodeModel",
      "state": {
       "_model_module_version": "^1.3.3",
       "_view_module_version": "^1.3.3",
       "data": {
        "color": "gray",
        "id": "-8765866586205613436",
        "label": "()",
        "shape": "rectangle"
       },
       "grabbable": true,
       "grabbed": false,
       "position": {
        "x": 309.25,
        "y": 1715
       },
       "selectable": false
      }
     },
     "c1fde774b0d745bc84f6449463a9bf3a": {
      "model_module": "jupyter-cytoscape",
      "model_module_version": "^1.3.3",
      "model_name": "EdgeModel",
      "state": {
       "_model_module_version": "^1.3.3",
       "_view_module_version": "^1.3.3",
       "classes": " directed ",
       "data": {
        "id": "099d694b-915e-4758-8a44-71c26c256e58",
        "source": "401891827481530215",
        "target": "-6226943348929456422"
       },
       "selectable": false
      }
     },
     "c25491b67a5f4d208f1a3e68f86bdb44": {
      "model_module": "jupyter-cytoscape",
      "model_module_version": "^1.3.3",
      "model_name": "EdgeModel",
      "state": {
       "_model_module_version": "^1.3.3",
       "_view_module_version": "^1.3.3",
       "classes": " directed ",
       "data": {
        "id": "f3b35d3c-aa82-4d34-b8e0-ed85061f7d9d",
        "source": "900402538118069601",
        "target": "-7151392110578683413"
       },
       "selectable": false
      }
     },
     "c4003eba3438464da84a43f9765fc086": {
      "model_module": "jupyter-cytoscape",
      "model_module_version": "^1.3.3",
      "model_name": "EdgeModel",
      "state": {
       "_model_module_version": "^1.3.3",
       "_view_module_version": "^1.3.3",
       "classes": " directed ",
       "data": {
        "id": "c18e1586-ff71-4870-b175-9f381c8e24ad",
        "source": "-8643473776730682055",
        "target": "-7413740880925421720"
       },
       "selectable": false
      }
     },
     "c41ce647cc45473d8b7fb5ae4043521f": {
      "model_module": "jupyter-cytoscape",
      "model_module_version": "^1.3.3",
      "model_name": "EdgeModel",
      "state": {
       "_model_module_version": "^1.3.3",
       "_view_module_version": "^1.3.3",
       "classes": " directed ",
       "data": {
        "id": "95b5597d-d361-428f-a027-7e36f2732941",
        "source": "-6818987558457334111",
        "target": "-7371798517497359819"
       },
       "selectable": false
      }
     },
     "c637d19587744cebaa3368a0da7596a6": {
      "model_module": "jupyter-cytoscape",
      "model_module_version": "^1.3.3",
      "model_name": "CytoscapeModel",
      "state": {
       "_interaction_handlers": {},
       "_model_module_version": "^1.3.3",
       "_view_module_version": "^1.3.3",
       "auto_ungrabify": false,
       "autolock": false,
       "cytoscape_layout": {
        "edgeSep": 10,
        "name": "dagre",
        "nodeDimensionsIncludeLabels": true,
        "nodeSep": 10,
        "rankDir": "BT",
        "spacingFactor": 1
       },
       "cytoscape_style": [
        {
         "selector": "node",
         "style": {
          "background-color": "#eee",
          "border-color": "data(color)",
          "border-width": 4,
          "color": "black",
          "font-family": "helvetica",
          "font-size": "24px",
          "font-weight": "bold",
          "height": 64,
          "label": "data(label)",
          "opacity": "1.0",
          "shape": "data(shape)",
          "text-halign": "center",
          "text-valign": "center",
          "width": 64
         }
        },
        {
         "selector": "edge",
         "style": {
          "curve-style": "bezier",
          "line-color": "gray",
          "target-arrow-color": "gray",
          "target-arrow-shape": "triangle",
          "width": 8
         }
        }
       ],
       "desktop_tap_threshold": 4,
       "graph": "IPY_MODEL_5e993a7faf2c45c68929a33ab366fe88",
       "headless": false,
       "hide_edges_on_viewport": false,
       "layout": "IPY_MODEL_c9b1504bb3f645b685d1ae73d97dd69c",
       "max_zoom": 4,
       "min_zoom": 0.2,
       "motion_blur": false,
       "motion_blur_opacity": 0.2,
       "panning_enabled": true,
       "pixel_ratio": "auto",
       "rendered_position": {
        "renderedPosition": {
         "x": 100,
         "y": 100
        }
       },
       "selection_type": "single",
       "style_enabled": true,
       "texture_on_viewport": false,
       "tooltip_source": "tooltip",
       "touch_tap_threshold": 8,
       "user_panning_enabled": true,
       "user_zooming_enabled": true,
       "wheel_sensitivity": 0.1,
       "zoom": 2,
       "zooming_enabled": true
      }
     },
     "c848c78f86114a63b9ad6eb036e376ed": {
      "model_module": "jupyter-cytoscape",
      "model_module_version": "^1.3.3",
      "model_name": "NodeModel",
      "state": {
       "_model_module_version": "^1.3.3",
       "_view_module_version": "^1.3.3",
       "data": {
        "color": "gray",
        "id": "-7491926885328424409",
        "label": "(3, 0)",
        "shape": "rectangle"
       },
       "grabbable": true,
       "grabbed": false,
       "position": {
        "x": 930,
        "y": 515
       },
       "selectable": false
      }
     },
     "c973f609e8664559879fc78f95244afc": {
      "model_module": "jupyter-cytoscape",
      "model_module_version": "^1.3.3",
      "model_name": "EdgeModel",
      "state": {
       "_model_module_version": "^1.3.3",
       "_view_module_version": "^1.3.3",
       "classes": " directed ",
       "data": {
        "id": "7125b8a5-b126-4b38-a320-580eb78929ce",
        "source": "-8643473776730682055",
        "target": "-7413740880925421720"
       },
       "selectable": false
      }
     },
     "c97cd97fbe0c48bcb1157a66be6a1bd3": {
      "model_module": "jupyter-cytoscape",
      "model_module_version": "^1.3.3",
      "model_name": "NodeModel",
      "state": {
       "_model_module_version": "^1.3.3",
       "_view_module_version": "^1.3.3",
       "data": {
        "color": "gray",
        "id": "900402538118069601",
        "label": "0",
        "shape": "rectangle"
       },
       "grabbable": true,
       "grabbed": false,
       "position": {
        "x": 98,
        "y": 1835
       },
       "selectable": false
      }
     },
     "c9b1504bb3f645b685d1ae73d97dd69c": {
      "model_module": "@jupyter-widgets/base",
      "model_module_version": "1.2.0",
      "model_name": "LayoutModel",
      "state": {
       "height": "400px"
      }
     },
     "c9f9aef8f35846868f34e92455f51f7c": {
      "model_module": "jupyter-cytoscape",
      "model_module_version": "^1.3.3",
      "model_name": "NodeModel",
      "state": {
       "_model_module_version": "^1.3.3",
       "_view_module_version": "^1.3.3",
       "data": {
        "color": "gray",
        "id": "6100752967933182374",
        "label": "from_partitioned_args_func",
        "shape": "ellipse"
       },
       "grabbable": true,
       "grabbed": false,
       "position": {
        "x": 310.5,
        "y": 875
       },
       "selectable": false
      }
     },
     "cb9203cf8a4d416194d67aa73232a363": {
      "model_module": "jupyter-cytoscape",
      "model_module_version": "^1.3.3",
      "model_name": "NodeModel",
      "state": {
       "_model_module_version": "^1.3.3",
       "_view_module_version": "^1.3.3",
       "data": {
        "color": "gray",
        "id": "-6444234139406252793",
        "label": "",
        "shape": "rectangle"
       },
       "grabbable": true,
       "grabbed": false,
       "position": {
        "x": 98,
        "y": 1235
       },
       "selectable": false
      }
     },
     "cba7b6fdfa4d42f7a56675629fb8390c": {
      "model_module": "jupyter-cytoscape",
      "model_module_version": "^1.3.3",
      "model_name": "NodeModel",
      "state": {
       "_model_module_version": "^1.3.3",
       "_view_module_version": "^1.3.3",
       "data": {
        "color": "gray",
        "id": "531821977607799369",
        "label": "apply_transform",
        "shape": "ellipse"
       },
       "grabbable": true,
       "grabbed": false,
       "position": {
        "x": 408,
        "y": 395
       },
       "selectable": false
      }
     },
     "cbb8677b6778402f8be8ba2c89f03163": {
      "model_module": "jupyter-cytoscape",
      "model_module_version": "^1.3.3",
      "model_name": "EdgeModel",
      "state": {
       "_model_module_version": "^1.3.3",
       "_view_module_version": "^1.3.3",
       "classes": " directed ",
       "data": {
        "id": "88b26d03-224a-46ee-90ac-c5b479206684",
        "source": "-4491841209891657036",
        "target": "-5586583633444300365"
       },
       "selectable": false
      }
     },
     "cc5fed7955cf4c6f9eaeebd43f6e6dff": {
      "model_module": "jupyter-cytoscape",
      "model_module_version": "^1.3.3",
      "model_name": "NodeModel",
      "state": {
       "_model_module_version": "^1.3.3",
       "_view_module_version": "^1.3.3",
       "data": {
        "color": "gray",
        "id": "5382386161191416240",
        "label": "",
        "shape": "rectangle"
       },
       "grabbable": true,
       "grabbed": false,
       "position": {
        "x": 98,
        "y": 1955
       },
       "selectable": false
      }
     },
     "cce67833f19646a3a1376ca527f8dfcb": {
      "model_module": "jupyter-cytoscape",
      "model_module_version": "^1.3.3",
      "model_name": "EdgeModel",
      "state": {
       "_model_module_version": "^1.3.3",
       "_view_module_version": "^1.3.3",
       "classes": " directed ",
       "data": {
        "id": "9094be67-3543-466b-a25f-189502e9ed26",
        "source": "486068336377216963",
        "target": "1104668536416739155"
       },
       "selectable": false
      }
     },
     "ccf0a94657fc459ba087db51f772ae29": {
      "model_module": "jupyter-cytoscape",
      "model_module_version": "^1.3.3",
      "model_name": "NodeModel",
      "state": {
       "_model_module_version": "^1.3.3",
       "_view_module_version": "^1.3.3",
       "data": {
        "color": "gray",
        "id": "-5586583633444300365",
        "label": "",
        "shape": "rectangle"
       },
       "grabbable": true,
       "grabbed": false,
       "position": {
        "x": 518,
        "y": 995
       },
       "selectable": false
      }
     },
     "cd7ed2f1f6c84172bde70f936c9acb4b": {
      "model_module": "jupyter-cytoscape",
      "model_module_version": "^1.3.3",
      "model_name": "EdgeModel",
      "state": {
       "_model_module_version": "^1.3.3",
       "_view_module_version": "^1.3.3",
       "classes": " directed ",
       "data": {
        "id": "2041c34a-0092-44e5-a21c-a9dabb674ea2",
        "source": "-4150148350894960289",
        "target": "2615485684162946022"
       },
       "selectable": false
      }
     },
     "cd95971028f44c95b27e5f7b74de3282": {
      "model_module": "jupyter-cytoscape",
      "model_module_version": "^1.3.3",
      "model_name": "EdgeModel",
      "state": {
       "_model_module_version": "^1.3.3",
       "_view_module_version": "^1.3.3",
       "classes": " directed ",
       "data": {
        "id": "290cc0b9-337f-4024-8259-ea1179c3ff2c",
        "source": "531821977607799369",
        "target": "6886651168995929094"
       },
       "selectable": false
      }
     },
     "d324f890e7984a9e808b203777454c15": {
      "model_module": "jupyter-cytoscape",
      "model_module_version": "^1.3.3",
      "model_name": "NodeModel",
      "state": {
       "_model_module_version": "^1.3.3",
       "_view_module_version": "^1.3.3",
       "data": {
        "color": "gray",
        "id": "6886651168995929094",
        "label": "(1, 0, 0, 0)",
        "shape": "rectangle"
       },
       "grabbable": true,
       "grabbed": false,
       "position": {
        "x": 408,
        "y": 275
       },
       "selectable": false
      }
     },
     "d5dc7205712c46b392b84e154153aee7": {
      "model_module": "jupyter-cytoscape",
      "model_module_version": "^1.3.3",
      "model_name": "NodeModel",
      "state": {
       "_model_module_version": "^1.3.3",
       "_view_module_version": "^1.3.3",
       "data": {
        "color": "gray",
        "id": "2972249708443792251",
        "label": "0",
        "shape": "rectangle"
       },
       "grabbable": true,
       "grabbed": false,
       "position": {
        "x": 518,
        "y": 875
       },
       "selectable": false
      }
     },
     "d5e83da5e80d481a9bb59ac9e1a06aba": {
      "model_module": "jupyter-cytoscape",
      "model_module_version": "^1.3.3",
      "model_name": "NodeModel",
      "state": {
       "_model_module_version": "^1.3.3",
       "_view_module_version": "^1.3.3",
       "data": {
        "color": "gray",
        "id": "-6818987558457334111",
        "label": "(0, 0)",
        "shape": "rectangle"
       },
       "grabbable": true,
       "grabbed": false,
       "position": {
        "x": 309.25,
        "y": 1475
       },
       "selectable": false
      }
     },
     "d6166c62a3144ee7932645ee406e3bbf": {
      "model_module": "jupyter-cytoscape",
      "model_module_version": "^1.3.3",
      "model_name": "EdgeModel",
      "state": {
       "_model_module_version": "^1.3.3",
       "_view_module_version": "^1.3.3",
       "classes": " directed ",
       "data": {
        "id": "5622bb01-79dc-4f7d-8e71-53209c152e33",
        "source": "401891827481530215",
        "target": "-6226943348929456422"
       },
       "selectable": false
      }
     },
     "d7397054bbe64787b2226b319294a671": {
      "model_module": "jupyter-cytoscape",
      "model_module_version": "^1.3.3",
      "model_name": "NodeModel",
      "state": {
       "_model_module_version": "^1.3.3",
       "_view_module_version": "^1.3.3",
       "data": {
        "color": "gray",
        "id": "4423254679429067871",
        "label": "intensity",
        "shape": "ellipse"
       },
       "grabbable": true,
       "grabbed": false,
       "position": {
        "x": 98,
        "y": 875
       },
       "selectable": false
      }
     },
     "d7952307f214457cacba9a04f18fe754": {
      "model_module": "jupyter-cytoscape",
      "model_module_version": "^1.3.3",
      "model_name": "NodeModel",
      "state": {
       "_model_module_version": "^1.3.3",
       "_view_module_version": "^1.3.3",
       "data": {
        "color": "gray",
        "id": "479854361275283365",
        "label": "getitem",
        "shape": "ellipse"
       },
       "grabbable": true,
       "grabbed": false,
       "position": {
        "x": 722.75,
        "y": 1595
       },
       "selectable": false
      }
     },
     "d7fd63a16620492394c24f54a68685e5": {
      "model_module": "jupyter-cytoscape",
      "model_module_version": "^1.3.3",
      "model_name": "NodeModel",
      "state": {
       "_model_module_version": "^1.3.3",
       "_view_module_version": "^1.3.3",
       "data": {
        "color": "gray",
        "id": "-6221986612039717755",
        "label": "(1, 0, 0)",
        "shape": "rectangle"
       },
       "grabbable": true,
       "grabbed": false,
       "position": {
        "x": 408,
        "y": 35
       },
       "selectable": false
      }
     },
     "d9be6f63c3ae4be2a1aa87cde03352df": {
      "model_module": "jupyter-cytoscape",
      "model_module_version": "^1.3.3",
      "model_name": "EdgeModel",
      "state": {
       "_model_module_version": "^1.3.3",
       "_view_module_version": "^1.3.3",
       "classes": " directed ",
       "data": {
        "id": "cf4ccfeb-15eb-4c35-b14e-9442de90a5d6",
        "source": "4920914178337822388",
        "target": "-6818987558457334111"
       },
       "selectable": false
      }
     },
     "d9e71c3d4640473f8d72ddda5d80af47": {
      "model_module": "jupyter-cytoscape",
      "model_module_version": "^1.3.3",
      "model_name": "NodeModel",
      "state": {
       "_model_module_version": "^1.3.3",
       "_view_module_version": "^1.3.3",
       "data": {
        "color": "gray",
        "id": "2226826989396619196",
        "label": "",
        "shape": "rectangle"
       },
       "grabbable": true,
       "grabbed": false,
       "position": {
        "x": 724,
        "y": 995
       },
       "selectable": false
      }
     },
     "dacb3cca7e2e4f299dbf5eff54f5cf76": {
      "model_module": "jupyter-cytoscape",
      "model_module_version": "^1.3.3",
      "model_name": "EdgeModel",
      "state": {
       "_model_module_version": "^1.3.3",
       "_view_module_version": "^1.3.3",
       "classes": " directed ",
       "data": {
        "id": "d9749cbd-ce00-4a9a-b741-40ecad59c8af",
        "source": "-7491926885328424409",
        "target": "-7371798517497359819"
       },
       "selectable": false
      }
     },
     "db168ff58cdb41b193d4d75a94c998c6": {
      "model_module": "jupyter-cytoscape",
      "model_module_version": "^1.3.3",
      "model_name": "NodeModel",
      "state": {
       "_model_module_version": "^1.3.3",
       "_view_module_version": "^1.3.3",
       "data": {
        "color": "gray",
        "id": "-6444234139406252793",
        "label": "",
        "shape": "rectangle"
       },
       "grabbable": true,
       "grabbed": false,
       "position": {
        "x": 722.75,
        "y": 2195
       },
       "selectable": false
      }
     },
     "dc019cd91af84a5b939bcc34ba62e9b3": {
      "model_module": "jupyter-cytoscape",
      "model_module_version": "^1.3.3",
      "model_name": "NodeModel",
      "state": {
       "_model_module_version": "^1.3.3",
       "_view_module_version": "^1.3.3",
       "data": {
        "color": "gray",
        "id": "8436306278045061656",
        "label": "mean_chunk",
        "shape": "ellipse"
       },
       "grabbable": true,
       "grabbed": false,
       "position": {
        "x": 925,
        "y": 635
       },
       "selectable": false
      }
     },
     "dcea21d547144c66b84513569835a5ad": {
      "model_module": "jupyter-cytoscape",
      "model_module_version": "^1.3.3",
      "model_name": "EdgeModel",
      "state": {
       "_model_module_version": "^1.3.3",
       "_view_module_version": "^1.3.3",
       "classes": " directed ",
       "data": {
        "id": "9e4da296-e209-4eae-a2dc-75d2185f3867",
        "source": "-2258318081605987047",
        "target": "486068336377216963"
       },
       "selectable": false
      }
     },
     "df1613286b2e4af08faea1e928462ca6": {
      "model_module": "jupyter-cytoscape",
      "model_module_version": "^1.3.3",
      "model_name": "NodeModel",
      "state": {
       "_model_module_version": "^1.3.3",
       "_view_module_version": "^1.3.3",
       "data": {
        "color": "gray",
        "id": "8448539117469004226",
        "label": "",
        "shape": "rectangle"
       },
       "grabbable": true,
       "grabbed": false,
       "position": {
        "x": 930,
        "y": 1235
       },
       "selectable": false
      }
     },
     "e13860f5d2ef4436893023beb7a397e0": {
      "model_module": "jupyter-cytoscape",
      "model_module_version": "^1.3.3",
      "model_name": "NodeModel",
      "state": {
       "_model_module_version": "^1.3.3",
       "_view_module_version": "^1.3.3",
       "data": {
        "color": "gray",
        "id": "6944127677528557271",
        "label": "(0, 0, 0)",
        "shape": "rectangle"
       },
       "grabbable": true,
       "grabbed": false,
       "position": {
        "x": 822,
        "y": 275
       },
       "selectable": false
      }
     },
     "e22480998eb44521b3746de811115de1": {
      "model_module": "jupyter-cytoscape",
      "model_module_version": "^1.3.3",
      "model_name": "NodeModel",
      "state": {
       "_model_module_version": "^1.3.3",
       "_view_module_version": "^1.3.3",
       "data": {
        "color": "gray",
        "id": "-2471138111821168799",
        "label": "wrap_with_array",
        "shape": "ellipse"
       },
       "grabbable": true,
       "grabbed": false,
       "position": {
        "x": 724,
        "y": 1115
       },
       "selectable": false
      }
     },
     "e2cda494528a4e30ada0d06695ebf864": {
      "model_module": "jupyter-cytoscape",
      "model_module_version": "^1.3.3",
      "model_name": "NodeModel",
      "state": {
       "_model_module_version": "^1.3.3",
       "_view_module_version": "^1.3.3",
       "data": {
        "color": "gray",
        "id": "-8476836607675673413",
        "label": "(0, 0, 0)",
        "shape": "rectangle"
       },
       "grabbable": true,
       "grabbed": false,
       "position": {
        "x": 714,
        "y": 995
       },
       "selectable": false
      }
     },
     "e320166b26f14361b8340af8b2d70a70": {
      "model_module": "jupyter-cytoscape",
      "model_module_version": "^1.3.3",
      "model_name": "EdgeModel",
      "state": {
       "_model_module_version": "^1.3.3",
       "_view_module_version": "^1.3.3",
       "classes": " directed ",
       "data": {
        "id": "968ee5c4-bdc8-447b-b189-90b154a24796",
        "source": "1409717464947768415",
        "target": "6348781173463378152"
       },
       "selectable": false
      }
     },
     "e3d170108f694a26a587130a8e86a2c8": {
      "model_module": "jupyter-cytoscape",
      "model_module_version": "^1.3.3",
      "model_name": "EdgeModel",
      "state": {
       "_model_module_version": "^1.3.3",
       "_view_module_version": "^1.3.3",
       "classes": " directed ",
       "data": {
        "id": "ee568d76-ae2e-4f6b-9b58-b62309a5721a",
        "source": "-7491926885328424409",
        "target": "-7371798517497359819"
       },
       "selectable": false
      }
     },
     "e3d1c2e2dbc14d59a70b6d94c8ccbc6f": {
      "model_module": "jupyter-cytoscape",
      "model_module_version": "^1.3.3",
      "model_name": "EdgeModel",
      "state": {
       "_model_module_version": "^1.3.3",
       "_view_module_version": "^1.3.3",
       "classes": " directed ",
       "data": {
        "id": "5da8e505-2517-4326-8773-5a43063b3dc7",
        "source": "-5798326156427196744",
        "target": "-2188848814650837854"
       },
       "selectable": false
      }
     },
     "e8cd8f16a9c442838225187893904777": {
      "model_module": "jupyter-cytoscape",
      "model_module_version": "^1.3.3",
      "model_name": "EdgeModel",
      "state": {
       "_model_module_version": "^1.3.3",
       "_view_module_version": "^1.3.3",
       "classes": " directed ",
       "data": {
        "id": "9c594b8b-088f-4642-8d2e-fa9e312e4fac",
        "source": "1785040573790393940",
        "target": "-8643473776730682055"
       },
       "selectable": false
      }
     },
     "eaf88b6708ee4925a84b619404a7de87": {
      "model_module": "jupyter-cytoscape",
      "model_module_version": "^1.3.3",
      "model_name": "EdgeModel",
      "state": {
       "_model_module_version": "^1.3.3",
       "_view_module_version": "^1.3.3",
       "classes": " directed ",
       "data": {
        "id": "d3353761-469a-426e-98f3-c8215ca6d127",
        "source": "354067505764356852",
        "target": "5382386161191416240"
       },
       "selectable": false
      }
     },
     "eb366795925c46d4aa7abc7d44903e31": {
      "model_module": "jupyter-cytoscape",
      "model_module_version": "^1.3.3",
      "model_name": "NodeModel",
      "state": {
       "_model_module_version": "^1.3.3",
       "_view_module_version": "^1.3.3",
       "data": {
        "color": "gray",
        "id": "-2188848814650837854",
        "label": "(1, 0)",
        "shape": "rectangle"
       },
       "grabbable": true,
       "grabbed": false,
       "position": {
        "x": 928.75,
        "y": 1475
       },
       "selectable": false
      }
     },
     "ebadfb1f73e1445daba18fe9b3b4e0bb": {
      "model_module": "jupyter-cytoscape",
      "model_module_version": "^1.3.3",
      "model_name": "NodeModel",
      "state": {
       "_model_module_version": "^1.3.3",
       "_view_module_version": "^1.3.3",
       "data": {
        "color": "gray",
        "id": "-6818987558457334111",
        "label": "(0, 0)",
        "shape": "rectangle"
       },
       "grabbable": true,
       "grabbed": false,
       "position": {
        "x": 310.5,
        "y": 515
       },
       "selectable": false
      }
     },
     "ebb525d0b3c94d1c92993c689ad3da36": {
      "model_module": "jupyter-cytoscape",
      "model_module_version": "^1.3.3",
      "model_name": "EdgeModel",
      "state": {
       "_model_module_version": "^1.3.3",
       "_view_module_version": "^1.3.3",
       "classes": " directed ",
       "data": {
        "id": "7a8af79b-7b31-4aa7-abf2-6dd509d47644",
        "source": "486068336377216963",
        "target": "1104668536416739155"
       },
       "selectable": false
      }
     },
     "ec12603f8edc4ffc884e5436a10fe9f7": {
      "model_module": "jupyter-cytoscape",
      "model_module_version": "^1.3.3",
      "model_name": "EdgeModel",
      "state": {
       "_model_module_version": "^1.3.3",
       "_view_module_version": "^1.3.3",
       "classes": " directed ",
       "data": {
        "id": "3896a480-bfbd-4373-ad8c-df89b79fcc23",
        "source": "1104668536416739155",
        "target": "1785040573790393940"
       },
       "selectable": false
      }
     },
     "ed4d69c97ad947599172cf85068ddd84": {
      "model_module": "jupyter-cytoscape",
      "model_module_version": "^1.3.3",
      "model_name": "NodeModel",
      "state": {
       "_model_module_version": "^1.3.3",
       "_view_module_version": "^1.3.3",
       "data": {
        "color": "gray",
        "id": "401891827481530215",
        "label": "",
        "shape": "rectangle"
       },
       "grabbable": true,
       "grabbed": false,
       "position": {
        "x": 98,
        "y": 995
       },
       "selectable": false
      }
     },
     "edd86a0726ec46febda46abe0b64b2d6": {
      "model_module": "jupyter-cytoscape",
      "model_module_version": "^1.3.3",
      "model_name": "NodeModel",
      "state": {
       "_model_module_version": "^1.3.3",
       "_view_module_version": "^1.3.3",
       "data": {
        "color": "gray",
        "id": "-4150148350894960289",
        "label": "(0, 0)",
        "shape": "rectangle"
       },
       "grabbable": true,
       "grabbed": false,
       "position": {
        "x": 722.75,
        "y": 1475
       },
       "selectable": false
      }
     },
     "f06f0559ad794501abcea47f90137182": {
      "model_module": "jupyter-cytoscape",
      "model_module_version": "^1.3.3",
      "model_name": "NodeModel",
      "state": {
       "_model_module_version": "^1.3.3",
       "_view_module_version": "^1.3.3",
       "data": {
        "color": "gray",
        "id": "6348781173463378152",
        "label": "mean_combine-partial",
        "shape": "ellipse"
       },
       "grabbable": true,
       "grabbed": false,
       "position": {
        "x": 822,
        "y": 395
       },
       "selectable": false
      }
     },
     "f080752012ba48d587a3b8b140d14684": {
      "model_module": "jupyter-cytoscape",
      "model_module_version": "^1.3.3",
      "model_name": "NodeModel",
      "state": {
       "_model_module_version": "^1.3.3",
       "_view_module_version": "^1.3.3",
       "data": {
        "color": "gray",
        "id": "-3872884808735289106",
        "label": "0",
        "shape": "rectangle"
       },
       "grabbable": true,
       "grabbed": false,
       "position": {
        "x": 98,
        "y": 755
       },
       "selectable": false
      }
     },
     "f12a2202eb324e8284346ff84f0909fd": {
      "model_module": "jupyter-cytoscape",
      "model_module_version": "^1.3.3",
      "model_name": "NodeModel",
      "state": {
       "_model_module_version": "^1.3.3",
       "_view_module_version": "^1.3.3",
       "data": {
        "color": "gray",
        "id": "3083714146058283155",
        "label": "(2, 0, 0)",
        "shape": "rectangle"
       },
       "grabbable": true,
       "grabbed": false,
       "position": {
        "x": 409.25,
        "y": 995
       },
       "selectable": false
      }
     },
     "f19f7a7b2bef49d099be051f7bb931f5": {
      "model_module": "jupyter-cytoscape",
      "model_module_version": "^1.3.3",
      "model_name": "EdgeModel",
      "state": {
       "_model_module_version": "^1.3.3",
       "_view_module_version": "^1.3.3",
       "classes": " directed ",
       "data": {
        "id": "f53ce2b9-b72c-4e58-8146-a0e732f214b7",
        "source": "2972249708443792251",
        "target": "-8765958837707985472"
       },
       "selectable": false
      }
     },
     "f2bc7fbe45e84ef3bc44e3aa6ba82ec8": {
      "model_module": "jupyter-cytoscape",
      "model_module_version": "^1.3.3",
      "model_name": "EdgeModel",
      "state": {
       "_model_module_version": "^1.3.3",
       "_view_module_version": "^1.3.3",
       "classes": " directed ",
       "data": {
        "id": "81238d38-af24-4079-926b-5202d6967be7",
        "source": "2226826989396619196",
        "target": "-2263312364964773600"
       },
       "selectable": false
      }
     },
     "f376e7aa17f04fdabbf0476ca09db076": {
      "model_module": "jupyter-cytoscape",
      "model_module_version": "^1.3.3",
      "model_name": "EdgeModel",
      "state": {
       "_model_module_version": "^1.3.3",
       "_view_module_version": "^1.3.3",
       "classes": " directed ",
       "data": {
        "id": "f677a1be-ed9b-4118-874a-79597650c3ac",
        "source": "7687823107461041636",
        "target": "-6221986612039717755"
       },
       "selectable": false
      }
     },
     "f49e23b3d3d34eae897872ee75de9c1c": {
      "model_module": "jupyter-cytoscape",
      "model_module_version": "^1.3.3",
      "model_name": "NodeModel",
      "state": {
       "_model_module_version": "^1.3.3",
       "_view_module_version": "^1.3.3",
       "data": {
        "color": "gray",
        "id": "-2471138111821168799",
        "label": "wrap_with_array",
        "shape": "ellipse"
       },
       "grabbable": true,
       "grabbed": false,
       "position": {
        "x": 516.75,
        "y": 2075
       },
       "selectable": false
      }
     },
     "f4d93c900cba4669aef5cb4f5d7d0f45": {
      "model_module": "jupyter-cytoscape",
      "model_module_version": "^1.3.3",
      "model_name": "NodeModel",
      "state": {
       "_model_module_version": "^1.3.3",
       "_view_module_version": "^1.3.3",
       "data": {
        "color": "gray",
        "id": "1807817610938256049",
        "label": "getitem",
        "shape": "ellipse"
       },
       "grabbable": true,
       "grabbed": false,
       "position": {
        "x": 98,
        "y": 1595
       },
       "selectable": false
      }
     },
     "f6e6a71a7824438fb2d90ef24a2cc75e": {
      "model_module": "jupyter-cytoscape",
      "model_module_version": "^1.3.3",
      "model_name": "NodeModel",
      "state": {
       "_model_module_version": "^1.3.3",
       "_view_module_version": "^1.3.3",
       "data": {
        "color": "gray",
        "id": "-8519513389625046867",
        "label": "(3, 0, 0, 0)",
        "shape": "rectangle"
       },
       "grabbable": true,
       "grabbed": false,
       "position": {
        "x": 98,
        "y": 1235
       },
       "selectable": false
      }
     },
     "f87a4d43f8b340a5a3b364231ac4aa5b": {
      "model_module": "jupyter-cytoscape",
      "model_module_version": "^1.3.3",
      "model_name": "EdgeModel",
      "state": {
       "_model_module_version": "^1.3.3",
       "_view_module_version": "^1.3.3",
       "classes": " directed ",
       "data": {
        "id": "2c400677-e593-4ac9-ab6c-b2e262aeaca6",
        "source": "-7405114033956463223",
        "target": "-2471138111821168799"
       },
       "selectable": false
      }
     },
     "fa52005dc6174241a81f1e5fded1bc22": {
      "model_module": "jupyter-cytoscape",
      "model_module_version": "^1.3.3",
      "model_name": "NodeModel",
      "state": {
       "_model_module_version": "^1.3.3",
       "_view_module_version": "^1.3.3",
       "data": {
        "color": "gray",
        "id": "354067505764356852",
        "label": "wrap_with_array",
        "shape": "ellipse"
       },
       "grabbable": true,
       "grabbed": false,
       "position": {
        "x": 930,
        "y": 1115
       },
       "selectable": false
      }
     },
     "fac33c9879c049f48984ed29c745092e": {
      "model_module": "jupyter-cytoscape",
      "model_module_version": "^1.3.3",
      "model_name": "EdgeModel",
      "state": {
       "_model_module_version": "^1.3.3",
       "_view_module_version": "^1.3.3",
       "classes": " directed ",
       "data": {
        "id": "85d9cdee-5d54-49b0-95f8-50b2c161c17c",
        "source": "-2188848814650837854",
        "target": "531821977607799369"
       },
       "selectable": false
      }
     },
     "fc1f6bec4fc8429db912265286367c05": {
      "model_module": "jupyter-cytoscape",
      "model_module_version": "^1.3.3",
      "model_name": "NodeModel",
      "state": {
       "_model_module_version": "^1.3.3",
       "_view_module_version": "^1.3.3",
       "data": {
        "color": "gray",
        "id": "-7427971751448803338",
        "label": "getitem",
        "shape": "ellipse"
       },
       "grabbable": true,
       "grabbed": false,
       "position": {
        "x": 98,
        "y": 155
       },
       "selectable": false
      }
     },
     "fcdf9219698a442283da80227be04d69": {
      "model_module": "jupyter-cytoscape",
      "model_module_version": "^1.3.3",
      "model_name": "NodeModel",
      "state": {
       "_model_module_version": "^1.3.3",
       "_view_module_version": "^1.3.3",
       "data": {
        "color": "gray",
        "id": "-7413740880925421720",
        "label": "getitem",
        "shape": "ellipse"
       },
       "grabbable": true,
       "grabbed": false,
       "position": {
        "x": 712.75,
        "y": 155
       },
       "selectable": false
      }
     },
     "fdd62d1b012742a1b7102797dd41bfd9": {
      "model_module": "jupyter-cytoscape",
      "model_module_version": "^1.3.3",
      "model_name": "EdgeModel",
      "state": {
       "_model_module_version": "^1.3.3",
       "_view_module_version": "^1.3.3",
       "classes": " directed ",
       "data": {
        "id": "bcb2162f-79d2-40b0-b56f-8de0542f4bba",
        "source": "-5414284753299347210",
        "target": "4971181940308998796"
       },
       "selectable": false
      }
     },
     "fea5f037afed4423b410493a7f7f5701": {
      "model_module": "jupyter-cytoscape",
      "model_module_version": "^1.3.3",
      "model_name": "EdgeModel",
      "state": {
       "_model_module_version": "^1.3.3",
       "_view_module_version": "^1.3.3",
       "classes": " directed ",
       "data": {
        "id": "b83931ad-8250-4cc1-819c-f89531988bef",
        "source": "-6818987558457334111",
        "target": "2615485684162946022"
       },
       "selectable": false
      }
     },
     "ff590d55dfe742f2b8d88bb3d9fc7a46": {
      "model_module": "jupyter-cytoscape",
      "model_module_version": "^1.3.3",
      "model_name": "NodeModel",
      "state": {
       "_model_module_version": "^1.3.3",
       "_view_module_version": "^1.3.3",
       "data": {
        "color": "gray",
        "id": "-7491926885328424409",
        "label": "(3, 0)",
        "shape": "rectangle"
       },
       "grabbable": true,
       "grabbed": false,
       "position": {
        "x": 98,
        "y": 1475
       },
       "selectable": false
      }
     }
    },
    "version_major": 2,
    "version_minor": 0
   }
  }
 },
 "nbformat": 4,
 "nbformat_minor": 5
}
