{
 "cells": [
  {
   "cell_type": "code",
   "execution_count": 1,
   "id": "c8a68d55-5e9b-4bab-b324-05b89a56cecd",
   "metadata": {
    "pycharm": {
     "name": "#%%\n"
    },
    "tags": [
     "hide-input"
    ]
   },
   "outputs": [],
   "source": [
    "import abtem\n",
    "import ase\n",
    "import dask\n",
    "from IPython.display import Image, display \n",
    "\n",
    "dask.config.set({\"array.svg.size\": 90});"
   ]
  },
  {
   "cell_type": "markdown",
   "id": "2b2c74ed-dfb6-4426-898a-63110b6fb253",
   "metadata": {
    "pycharm": {
     "name": "#%% md\n"
    },
    "tags": []
   },
   "source": [
    "(walkthrough:parallelization)=\n",
    "# Parallelization\n",
    "\n",
    "The computational cost of running multislice simulations can become high depending on the size of the specimen, the number of probe positions, phonon images, and many other factors. This cost can be mitigated using parallelism. Many of the computations in *ab*TEM are [embarrasingly parallel](https://en.wikipedia.org/wiki/Embarrassingly_parallel): for example, every probe position is independent, thus each CPU core may calculate a batch of positions independently, only requiring communication after finishing a run of the multislice algorithm. \n",
    "\n",
    "*ab*TEM is parallelized using [Dask](https://www.dask.org/){cite}`dask`, which is a flexible library for parallel computing in Python. Dask allows scaling from a single laptop to hundreds of nodes at high-performance computing (HPC) facilities with minimal changes to the code. \n",
    "\n",
    "In this walkthrough, we introduce how *ab*TEM uses Dask. Althouhg this is not required knowledge for running simulations on a single machine, it may still help you optimize your simulations. If you are already an experienced Dask user, most of what you already know can be applied to using *ab*TEM. If you are new to Dask you may benefit from watching [this introduction](https://www.youtube.com/watch?v=nnndxbr_Xq4) before continuing.\n",
    "\n",
    "We note that Dask is used in several other libraries for the analysis of electron microscopy data, for example, [hyperspy](https://hyperspy.org/), [libertem](https://libertem.github.io/LiberTEM/) and [py4DSTEM](https://py4dstem.readthedocs.io/en/latest/), and thus we think that you may benefit from knowing this library more generally."
   ]
  },
  {
   "cell_type": "markdown",
   "id": "43b2aaf0-80a0-4058-99a2-faa12025ab42",
   "metadata": {
    "pycharm": {
     "name": "#%% md\n"
    }
   },
   "source": [
    "## Task graphs\n",
    "\n",
    "Simulating TEM experiments requires executing multiple *tasks* where each one may depend on the output of previous tasks. In Dask this is represented as a [*task graph*](https://docs.dask.org/en/stable/graphs.html), where each task is a *node*, with *edges* between nodes if it is dependent on another task. The simulation result is obtained by executing each task (node) in the graph with a Dask *scheduler* on a single machine or a cluster."
   ]
  },
  {
   "cell_type": "code",
   "execution_count": 2,
   "id": "fe6765fb-d0ea-4c35-b5bf-2eaadee69b0b",
   "metadata": {
    "jupyter": {
     "source_hidden": true
    },
    "tags": [
     "remove-input",
     "hide-input"
    ]
   },
   "outputs": [
    {
     "data": {
      "text/html": [
       "<img src=\"https://docs.dask.org/en/stable/_images/dask-overview.svg\" width=\"600\"/>"
      ],
      "text/plain": [
       "<IPython.core.display.Image object>"
      ]
     },
     "metadata": {},
     "output_type": "display_data"
    }
   ],
   "source": [
    "display(\n",
    "    Image(url=\"https://docs.dask.org/en/stable/_images/dask-overview.svg\", width=600)\n",
    ")"
   ]
  },
  {
   "cell_type": "markdown",
   "id": "95b10156-ee85-4600-92ed-b9c7c398dbdc",
   "metadata": {},
   "source": [
    "To illustrate this in practice, below we create the task graph for running a plane wave multislice simulation of gold in the $\\left<100\\right>$ zone axis with 4 frozen phonon configurations (please refer to previous walkthroughs for those details)."
   ]
  },
  {
   "cell_type": "code",
   "execution_count": 3,
   "id": "60ba5ba0-0d6d-4ecb-8fdd-fa80316a579b",
   "metadata": {},
   "outputs": [],
   "source": [
    "atoms = ase.build.bulk(\"Au\", cubic=True) * (5, 5, 2)\n",
    "\n",
    "frozen_phonons = abtem.FrozenPhonons(\n",
    "    atoms, num_configs=4, sigmas=0.1, ensemble_mean=False\n",
    ")\n",
    "\n",
    "potential = abtem.Potential(frozen_phonons, gpts=512, slice_thickness=2)\n",
    "\n",
    "probe = abtem.PlaneWave(energy=200e3)\n",
    "\n",
    "exit_waves = probe.multislice(potential)"
   ]
  },
  {
   "cell_type": "markdown",
   "id": "cbc97cd9-2777-4ef4-a0c4-c020517b708e",
   "metadata": {},
   "source": [
    "The result is an ensemble of $4$ wave functions of shape $512\\times512$, which may be represented as a 3D array, where the first dimension represents the phonon ensemble and the last two dimensions represents the 2D wave functions. \n",
    "\n",
    "As we have not executed the task graph yet, the wave functions are represented as a [Dask Array](https://docs.dask.org/en/stable/array.html). We can think of the *Dask array* as being composed of many smaller NumPy arrays, called *chunks*, and operations may be applied to each chunk rather than the full array. This enables: \n",
    "\n",
    "1. Parallelism over the chunks;\n",
    "2. Representing a larger-than-memory array as many smaller arrays, each of which fits in memory.\n",
    "\n",
    "The Dask array representation `__repr__` shows how the chunks are laid out."
   ]
  },
  {
   "cell_type": "code",
   "execution_count": 4,
   "id": "adc736d7-6ca1-47a7-baa5-eb6a9b0d69cb",
   "metadata": {},
   "outputs": [
    {
     "data": {
      "text/html": [
       "<table>\n",
       "    <tr>\n",
       "        <td>\n",
       "            <table>\n",
       "                <thead>\n",
       "                    <tr>\n",
       "                        <td> </td>\n",
       "                        <th> Array </th>\n",
       "                        <th> Chunk </th>\n",
       "                    </tr>\n",
       "                </thead>\n",
       "                <tbody>\n",
       "                    \n",
       "                    <tr>\n",
       "                        <th> Bytes </th>\n",
       "                        <td> 8.00 MiB </td>\n",
       "                        <td> 2.00 MiB </td>\n",
       "                    </tr>\n",
       "                    \n",
       "                    <tr>\n",
       "                        <th> Shape </th>\n",
       "                        <td> (4, 512, 512) </td>\n",
       "                        <td> (1, 512, 512) </td>\n",
       "                    </tr>\n",
       "                    <tr>\n",
       "                        <th> Count </th>\n",
       "                        <td> 15 Graph Layers </td>\n",
       "                        <td> 4 Chunks </td>\n",
       "                    </tr>\n",
       "                    <tr>\n",
       "                    <th> Type </th>\n",
       "                    <td> complex64 </td>\n",
       "                    <td> numpy.ndarray </td>\n",
       "                    </tr>\n",
       "                </tbody>\n",
       "            </table>\n",
       "        </td>\n",
       "        <td>\n",
       "        <svg width=\"161\" height=\"151\" style=\"stroke:rgb(0,0,0);stroke-width:1\" >\n",
       "\n",
       "  <!-- Horizontal lines -->\n",
       "  <line x1=\"10\" y1=\"0\" x2=\"21\" y2=\"11\" style=\"stroke-width:2\" />\n",
       "  <line x1=\"10\" y1=\"90\" x2=\"21\" y2=\"101\" style=\"stroke-width:2\" />\n",
       "\n",
       "  <!-- Vertical lines -->\n",
       "  <line x1=\"10\" y1=\"0\" x2=\"10\" y2=\"90\" style=\"stroke-width:2\" />\n",
       "  <line x1=\"12\" y1=\"2\" x2=\"12\" y2=\"92\" />\n",
       "  <line x1=\"15\" y1=\"5\" x2=\"15\" y2=\"95\" />\n",
       "  <line x1=\"18\" y1=\"8\" x2=\"18\" y2=\"98\" />\n",
       "  <line x1=\"21\" y1=\"11\" x2=\"21\" y2=\"101\" style=\"stroke-width:2\" />\n",
       "\n",
       "  <!-- Colored Rectangle -->\n",
       "  <polygon points=\"10.0,0.0 21.2114484623158,11.211448462315802 21.2114484623158,101.2114484623158 10.0,90.0\" style=\"fill:#ECB172A0;stroke-width:0\"/>\n",
       "\n",
       "  <!-- Horizontal lines -->\n",
       "  <line x1=\"10\" y1=\"0\" x2=\"100\" y2=\"0\" style=\"stroke-width:2\" />\n",
       "  <line x1=\"12\" y1=\"2\" x2=\"102\" y2=\"2\" />\n",
       "  <line x1=\"15\" y1=\"5\" x2=\"105\" y2=\"5\" />\n",
       "  <line x1=\"18\" y1=\"8\" x2=\"108\" y2=\"8\" />\n",
       "  <line x1=\"21\" y1=\"11\" x2=\"111\" y2=\"11\" style=\"stroke-width:2\" />\n",
       "\n",
       "  <!-- Vertical lines -->\n",
       "  <line x1=\"10\" y1=\"0\" x2=\"21\" y2=\"11\" style=\"stroke-width:2\" />\n",
       "  <line x1=\"100\" y1=\"0\" x2=\"111\" y2=\"11\" style=\"stroke-width:2\" />\n",
       "\n",
       "  <!-- Colored Rectangle -->\n",
       "  <polygon points=\"10.0,0.0 100.0,0.0 111.2114484623158,11.211448462315802 21.2114484623158,11.211448462315802\" style=\"fill:#ECB172A0;stroke-width:0\"/>\n",
       "\n",
       "  <!-- Horizontal lines -->\n",
       "  <line x1=\"21\" y1=\"11\" x2=\"111\" y2=\"11\" style=\"stroke-width:2\" />\n",
       "  <line x1=\"21\" y1=\"101\" x2=\"111\" y2=\"101\" style=\"stroke-width:2\" />\n",
       "\n",
       "  <!-- Vertical lines -->\n",
       "  <line x1=\"21\" y1=\"11\" x2=\"21\" y2=\"101\" style=\"stroke-width:2\" />\n",
       "  <line x1=\"111\" y1=\"11\" x2=\"111\" y2=\"101\" style=\"stroke-width:2\" />\n",
       "\n",
       "  <!-- Colored Rectangle -->\n",
       "  <polygon points=\"21.2114484623158,11.211448462315802 111.2114484623158,11.211448462315802 111.2114484623158,101.2114484623158 21.2114484623158,101.2114484623158\" style=\"fill:#ECB172A0;stroke-width:0\"/>\n",
       "\n",
       "  <!-- Text -->\n",
       "  <text x=\"66.211448\" y=\"121.211448\" font-size=\"1.0rem\" font-weight=\"100\" text-anchor=\"middle\" >512</text>\n",
       "  <text x=\"131.211448\" y=\"56.211448\" font-size=\"1.0rem\" font-weight=\"100\" text-anchor=\"middle\" transform=\"rotate(-90,131.211448,56.211448)\">512</text>\n",
       "  <text x=\"5.605724\" y=\"115.605724\" font-size=\"1.0rem\" font-weight=\"100\" text-anchor=\"middle\" transform=\"rotate(45,5.605724,115.605724)\">4</text>\n",
       "</svg>\n",
       "        </td>\n",
       "    </tr>\n",
       "</table>"
      ],
      "text/plain": [
       "dask.array<_extract_measurement, shape=(4, 512, 512), dtype=complex64, chunksize=(1, 512, 512), chunktype=numpy.ndarray>"
      ]
     },
     "execution_count": 4,
     "metadata": {},
     "output_type": "execute_result"
    }
   ],
   "source": [
    "exit_waves.array"
   ]
  },
  {
   "cell_type": "markdown",
   "id": "07d22d90-2701-4d3e-bc91-ab2260232950",
   "metadata": {},
   "source": [
    "We see that this Dask array has the shape `(4, 512, 512)` requiring 8 MB of memory, and is composed of chunks with shape `(1, 512, 512)` requiring 2 MB each.\n",
    "\n",
    "```{important}\n",
    "The Dask array just represents a task graph, not the data itself, so memory is consumed only if it is computed!\n",
    "```\n",
    "\n",
    "Each chunk of the Dask array created above represents a wave function for a frozen phonon configuration. This reflects the fact that, in the multislice algorithm, each frozen phonon configuration is independent and may be calculated in parallel. On the other hand, we should not have chunks across wave functions, because each part of a wave function is affected by every other part.\n",
    "\n",
    "We can visualize the task graph using Dask's [`visualize`](https://docs.dask.org/en/stable/graphviz.html) method. We see that the task graph consists of 4 fully independent branches, one for each frozen phonon.\n",
    "\n",
    "````{note}\n",
    "Drawing Dask task graphs with the cytoscape engine requires the `ipycytoscape` python library. To reproduce the result below you need to:\n",
    "```\n",
    "  python -m pip install ipycytoscape\n",
    "```\n",
    "and restart jupyter.\n",
    "````"
   ]
  },
  {
   "cell_type": "code",
   "execution_count": 5,
   "id": "45d463ae-c282-4710-a05c-0817cb996457",
   "metadata": {
    "tags": [
     "skip-test"
    ]
   },
   "outputs": [
    {
     "data": {
      "application/vnd.jupyter.widget-view+json": {
       "model_id": "3ddebd8c8f5a4bbcb86bfe147b8555f2",
       "version_major": 2,
       "version_minor": 0
      },
      "text/plain": [
       "CytoscapeWidget(cytoscape_layout={'name': 'dagre', 'rankDir': 'BT', 'nodeSep': 10, 'edgeSep': 10, 'spacingFact…"
      ]
     },
     "execution_count": 5,
     "metadata": {},
     "output_type": "execute_result"
    }
   ],
   "source": [
    "exit_waves.array.visualize(engine=\"cytoscape\")"
   ]
  },
  {
   "cell_type": "markdown",
   "id": "20d970c0-56e5-4066-b1d8-f6c71f59fb46",
   "metadata": {},
   "source": [
    "We usually want to take the mean across the frozen phonon dimension, and thus end up with an image represented as a single chunk."
   ]
  },
  {
   "cell_type": "code",
   "execution_count": 6,
   "id": "907e3a1e-7132-4dc5-aa9b-bdeed01a6170",
   "metadata": {},
   "outputs": [
    {
     "data": {
      "text/html": [
       "<table>\n",
       "    <tr>\n",
       "        <td>\n",
       "            <table>\n",
       "                <thead>\n",
       "                    <tr>\n",
       "                        <td> </td>\n",
       "                        <th> Array </th>\n",
       "                        <th> Chunk </th>\n",
       "                    </tr>\n",
       "                </thead>\n",
       "                <tbody>\n",
       "                    \n",
       "                    <tr>\n",
       "                        <th> Bytes </th>\n",
       "                        <td> 1.00 MiB </td>\n",
       "                        <td> 1.00 MiB </td>\n",
       "                    </tr>\n",
       "                    \n",
       "                    <tr>\n",
       "                        <th> Shape </th>\n",
       "                        <td> (512, 512) </td>\n",
       "                        <td> (512, 512) </td>\n",
       "                    </tr>\n",
       "                    <tr>\n",
       "                        <th> Count </th>\n",
       "                        <td> 19 Graph Layers </td>\n",
       "                        <td> 1 Chunks </td>\n",
       "                    </tr>\n",
       "                    <tr>\n",
       "                    <th> Type </th>\n",
       "                    <td> float32 </td>\n",
       "                    <td> numpy.ndarray </td>\n",
       "                    </tr>\n",
       "                </tbody>\n",
       "            </table>\n",
       "        </td>\n",
       "        <td>\n",
       "        <svg width=\"140\" height=\"140\" style=\"stroke:rgb(0,0,0);stroke-width:1\" >\n",
       "\n",
       "  <!-- Horizontal lines -->\n",
       "  <line x1=\"0\" y1=\"0\" x2=\"90\" y2=\"0\" style=\"stroke-width:2\" />\n",
       "  <line x1=\"0\" y1=\"90\" x2=\"90\" y2=\"90\" style=\"stroke-width:2\" />\n",
       "\n",
       "  <!-- Vertical lines -->\n",
       "  <line x1=\"0\" y1=\"0\" x2=\"0\" y2=\"90\" style=\"stroke-width:2\" />\n",
       "  <line x1=\"90\" y1=\"0\" x2=\"90\" y2=\"90\" style=\"stroke-width:2\" />\n",
       "\n",
       "  <!-- Colored Rectangle -->\n",
       "  <polygon points=\"0.0,0.0 90.0,0.0 90.0,90.0 0.0,90.0\" style=\"fill:#ECB172A0;stroke-width:0\"/>\n",
       "\n",
       "  <!-- Text -->\n",
       "  <text x=\"45.000000\" y=\"110.000000\" font-size=\"1.0rem\" font-weight=\"100\" text-anchor=\"middle\" >512</text>\n",
       "  <text x=\"110.000000\" y=\"45.000000\" font-size=\"1.0rem\" font-weight=\"100\" text-anchor=\"middle\" transform=\"rotate(-90,110.000000,45.000000)\">512</text>\n",
       "</svg>\n",
       "        </td>\n",
       "    </tr>\n",
       "</table>"
      ],
      "text/plain": [
       "dask.array<mean_agg-aggregate, shape=(512, 512), dtype=float32, chunksize=(512, 512), chunktype=numpy.ndarray>"
      ]
     },
     "execution_count": 6,
     "metadata": {},
     "output_type": "execute_result"
    }
   ],
   "source": [
    "hrtem_image = exit_waves.intensity().mean(0)\n",
    "\n",
    "hrtem_image.array"
   ]
  },
  {
   "cell_type": "markdown",
   "id": "b9661725-7a20-44f6-8415-52489e91259b",
   "metadata": {},
   "source": [
    "Taking the mean across frozen phonon chunks requires communicating the exit wave function intensity between the final nodes. Showing the task graph again we see how the branches are merged when the result have to be communicated between workers."
   ]
  },
  {
   "cell_type": "code",
   "execution_count": 7,
   "id": "27e8b98c-362e-4543-b6c2-e033a827143e",
   "metadata": {
    "tags": [
     "skip-test"
    ]
   },
   "outputs": [
    {
     "data": {
      "application/vnd.jupyter.widget-view+json": {
       "model_id": "a5b34396c7024023a4cfed679e389920",
       "version_major": 2,
       "version_minor": 0
      },
      "text/plain": [
       "CytoscapeWidget(cytoscape_layout={'name': 'dagre', 'rankDir': 'BT', 'nodeSep': 10, 'edgeSep': 10, 'spacingFact…"
      ]
     },
     "execution_count": 7,
     "metadata": {},
     "output_type": "execute_result"
    }
   ],
   "source": [
    "hrtem_image.array.visualize(engine=\"cytoscape\")"
   ]
  },
  {
   "cell_type": "markdown",
   "id": "7dcdbfb7-41d3-49ff-995f-bf17f01a120f",
   "metadata": {},
   "source": [
    "## Chunks\n",
    "To futher explore the role of chunks in abTEM, we create the task graph for running a STEM simulation with the same specimen, gold in the $\\left<100\\right>$ zone axis with 4 frozen phonons. We do not immediately apply a detector, so we obtain an ensemble of exit wave functions."
   ]
  },
  {
   "cell_type": "code",
   "execution_count": 8,
   "id": "5b9baf98-b088-4c6f-954d-8ae1a7d22c23",
   "metadata": {
    "pycharm": {
     "name": "#%%\n"
    }
   },
   "outputs": [
    {
     "data": {
      "text/plain": [
       "type               label           coordinates\n",
       "-----------------  --------------  -------------------\n",
       "FrozenPhononsAxis  Frozen phonons  -\n",
       "ScanAxis           x [Å]           0.00 0.27 ... 3.81\n",
       "ScanAxis           y [Å]           0.00 0.27 ... 3.81\n",
       "RealSpaceAxis      x [Å]           0.00 0.04 ... 20.36\n",
       "RealSpaceAxis      y [Å]           0.00 0.04 ... 20.36"
      ]
     },
     "execution_count": 8,
     "metadata": {},
     "output_type": "execute_result"
    }
   ],
   "source": [
    "probe = abtem.Probe(energy=200e3, semiangle_cutoff=20)\n",
    "\n",
    "scan = abtem.GridScan.from_fractional_coordinates(\n",
    "    potential,\n",
    "    start=(0, 0),\n",
    "    end=(1 / 5, 1 / 5),\n",
    ")\n",
    "\n",
    "frozen_phonons = abtem.FrozenPhonons(\n",
    "    atoms, num_configs=4, sigmas=0.1, ensemble_mean=True\n",
    ")\n",
    "\n",
    "potential = abtem.Potential(frozen_phonons, gpts=512, slice_thickness=2)\n",
    "\n",
    "exit_waves_stem = probe.multislice(potential, scan=scan)\n",
    "\n",
    "exit_waves_stem.axes_metadata"
   ]
  },
  {
   "cell_type": "markdown",
   "id": "69036139-511e-482d-8f72-e66b71df0924",
   "metadata": {},
   "source": [
    "The wave functions are now represented as a 5D Dask array, a 3D ensemble of 2D wave functions, which is composed of one frozen phonon dimension and two scan dimensions, one for each of the $x$ and $y$ direction. \n",
    "\n",
    "The full array is of shape `(4, 15, 15, 512, 512)` requiring 1.76 GB of memory, which is cut into chunks of shape `(1, 8, 7, 512, 512)` of 112 MB. Hence, there are a total of $4 \\times 2 \\times 3 = 24$ chunks."
   ]
  },
  {
   "cell_type": "code",
   "execution_count": 9,
   "id": "0d0ab17b-53e3-4e79-856a-d734fe3c1cbe",
   "metadata": {},
   "outputs": [
    {
     "data": {
      "text/html": [
       "<table>\n",
       "    <tr>\n",
       "        <td>\n",
       "            <table>\n",
       "                <thead>\n",
       "                    <tr>\n",
       "                        <td> </td>\n",
       "                        <th> Array </th>\n",
       "                        <th> Chunk </th>\n",
       "                    </tr>\n",
       "                </thead>\n",
       "                <tbody>\n",
       "                    \n",
       "                    <tr>\n",
       "                        <th> Bytes </th>\n",
       "                        <td> 1.76 GiB </td>\n",
       "                        <td> 112.00 MiB </td>\n",
       "                    </tr>\n",
       "                    \n",
       "                    <tr>\n",
       "                        <th> Shape </th>\n",
       "                        <td> (4, 15, 15, 512, 512) </td>\n",
       "                        <td> (1, 8, 7, 512, 512) </td>\n",
       "                    </tr>\n",
       "                    <tr>\n",
       "                        <th> Count </th>\n",
       "                        <td> 17 Graph Layers </td>\n",
       "                        <td> 24 Chunks </td>\n",
       "                    </tr>\n",
       "                    <tr>\n",
       "                    <th> Type </th>\n",
       "                    <td> complex64 </td>\n",
       "                    <td> numpy.ndarray </td>\n",
       "                    </tr>\n",
       "                </tbody>\n",
       "            </table>\n",
       "        </td>\n",
       "        <td>\n",
       "        <svg width=\"339\" height=\"153\" style=\"stroke:rgb(0,0,0);stroke-width:1\" >\n",
       "\n",
       "  <!-- Horizontal lines -->\n",
       "  <line x1=\"0\" y1=\"0\" x2=\"23\" y2=\"0\" style=\"stroke-width:2\" />\n",
       "  <line x1=\"0\" y1=\"4\" x2=\"23\" y2=\"4\" />\n",
       "  <line x1=\"0\" y1=\"9\" x2=\"23\" y2=\"9\" />\n",
       "  <line x1=\"0\" y1=\"14\" x2=\"23\" y2=\"14\" />\n",
       "  <line x1=\"0\" y1=\"19\" x2=\"23\" y2=\"19\" style=\"stroke-width:2\" />\n",
       "\n",
       "  <!-- Vertical lines -->\n",
       "  <line x1=\"0\" y1=\"0\" x2=\"0\" y2=\"19\" style=\"stroke-width:2\" />\n",
       "  <line x1=\"12\" y1=\"0\" x2=\"12\" y2=\"19\" />\n",
       "  <line x1=\"23\" y1=\"0\" x2=\"23\" y2=\"19\" style=\"stroke-width:2\" />\n",
       "\n",
       "  <!-- Colored Rectangle -->\n",
       "  <polygon points=\"0.0,0.0 23.436469151419786,0.0 23.436469151419786,19.059462385936865 0.0,19.059462385936865\" style=\"fill:#ECB172A0;stroke-width:0\"/>\n",
       "\n",
       "  <!-- Text -->\n",
       "  <text x=\"11.718235\" y=\"39.059462\" font-size=\"1.0rem\" font-weight=\"100\" text-anchor=\"middle\" >15</text>\n",
       "  <text x=\"43.436469\" y=\"9.529731\" font-size=\"1.0rem\" font-weight=\"100\" text-anchor=\"middle\" transform=\"rotate(0,43.436469,9.529731)\">4</text>\n",
       "\n",
       "\n",
       "  <!-- Horizontal lines -->\n",
       "  <line x1=\"93\" y1=\"0\" x2=\"106\" y2=\"13\" style=\"stroke-width:2\" />\n",
       "  <line x1=\"93\" y1=\"90\" x2=\"106\" y2=\"103\" style=\"stroke-width:2\" />\n",
       "\n",
       "  <!-- Vertical lines -->\n",
       "  <line x1=\"93\" y1=\"0\" x2=\"93\" y2=\"90\" style=\"stroke-width:2\" />\n",
       "  <line x1=\"99\" y1=\"6\" x2=\"99\" y2=\"96\" />\n",
       "  <line x1=\"105\" y1=\"12\" x2=\"105\" y2=\"102\" />\n",
       "  <line x1=\"106\" y1=\"13\" x2=\"106\" y2=\"103\" style=\"stroke-width:2\" />\n",
       "\n",
       "  <!-- Colored Rectangle -->\n",
       "  <polygon points=\"93.0,0.0 106.78615832436458,13.78615832436458 106.78615832436458,103.78615832436458 93.0,90.0\" style=\"fill:#ECB172A0;stroke-width:0\"/>\n",
       "\n",
       "  <!-- Horizontal lines -->\n",
       "  <line x1=\"93\" y1=\"0\" x2=\"183\" y2=\"0\" style=\"stroke-width:2\" />\n",
       "  <line x1=\"99\" y1=\"6\" x2=\"189\" y2=\"6\" />\n",
       "  <line x1=\"105\" y1=\"12\" x2=\"195\" y2=\"12\" />\n",
       "  <line x1=\"106\" y1=\"13\" x2=\"196\" y2=\"13\" style=\"stroke-width:2\" />\n",
       "\n",
       "  <!-- Vertical lines -->\n",
       "  <line x1=\"93\" y1=\"0\" x2=\"106\" y2=\"13\" style=\"stroke-width:2\" />\n",
       "  <line x1=\"183\" y1=\"0\" x2=\"196\" y2=\"13\" style=\"stroke-width:2\" />\n",
       "\n",
       "  <!-- Colored Rectangle -->\n",
       "  <polygon points=\"93.0,0.0 183.0,0.0 196.78615832436458,13.78615832436458 106.78615832436458,13.78615832436458\" style=\"fill:#ECB172A0;stroke-width:0\"/>\n",
       "\n",
       "  <!-- Horizontal lines -->\n",
       "  <line x1=\"106\" y1=\"13\" x2=\"196\" y2=\"13\" style=\"stroke-width:2\" />\n",
       "  <line x1=\"106\" y1=\"103\" x2=\"196\" y2=\"103\" style=\"stroke-width:2\" />\n",
       "\n",
       "  <!-- Vertical lines -->\n",
       "  <line x1=\"106\" y1=\"13\" x2=\"106\" y2=\"103\" style=\"stroke-width:2\" />\n",
       "  <line x1=\"196\" y1=\"13\" x2=\"196\" y2=\"103\" style=\"stroke-width:2\" />\n",
       "\n",
       "  <!-- Colored Rectangle -->\n",
       "  <polygon points=\"106.78615832436458,13.78615832436458 196.78615832436458,13.78615832436458 196.78615832436458,103.78615832436458 106.78615832436458,103.78615832436458\" style=\"fill:#ECB172A0;stroke-width:0\"/>\n",
       "\n",
       "  <!-- Text -->\n",
       "  <text x=\"151.786158\" y=\"123.786158\" font-size=\"1.0rem\" font-weight=\"100\" text-anchor=\"middle\" >512</text>\n",
       "  <text x=\"216.786158\" y=\"58.786158\" font-size=\"1.0rem\" font-weight=\"100\" text-anchor=\"middle\" transform=\"rotate(-90,216.786158,58.786158)\">512</text>\n",
       "  <text x=\"89.893079\" y=\"116.893079\" font-size=\"1.0rem\" font-weight=\"100\" text-anchor=\"middle\" transform=\"rotate(45,89.893079,116.893079)\">15</text>\n",
       "</svg>\n",
       "        </td>\n",
       "    </tr>\n",
       "</table>"
      ],
      "text/plain": [
       "dask.array<_extract_measurement, shape=(4, 15, 15, 512, 512), dtype=complex64, chunksize=(1, 8, 7, 512, 512), chunktype=numpy.ndarray>"
      ]
     },
     "execution_count": 9,
     "metadata": {},
     "output_type": "execute_result"
    }
   ],
   "source": [
    "exit_waves_stem.array"
   ]
  },
  {
   "cell_type": "markdown",
   "id": "00985534-3b37-458c-9cba-e5f6c783f334",
   "metadata": {},
   "source": [
    "Notice that we do not make a chunk for every probe position, but each chunk of the scan dimension instead represents a batch of wave functions. This is done partly to limit [the overhead](https://docs.dask.org/en/stable/best-practices.html#avoid-very-large-graphs) that every chunk comes with, but more importantly, larger batches enables efficient thread parallelization within each run of the multislice algorithm.\n",
    "\n",
    "We can change how many wave functions each batch should have using a keyword. Below we set `max_batch=4`, resulting in a total number of $4 \\times 8 \\times 8 = 256$ chunks."
   ]
  },
  {
   "cell_type": "code",
   "execution_count": 10,
   "id": "b1f9437b-ed6a-4836-8e6c-daa0ae526b21",
   "metadata": {},
   "outputs": [
    {
     "data": {
      "text/html": [
       "<table>\n",
       "    <tr>\n",
       "        <td>\n",
       "            <table>\n",
       "                <thead>\n",
       "                    <tr>\n",
       "                        <td> </td>\n",
       "                        <th> Array </th>\n",
       "                        <th> Chunk </th>\n",
       "                    </tr>\n",
       "                </thead>\n",
       "                <tbody>\n",
       "                    \n",
       "                    <tr>\n",
       "                        <th> Bytes </th>\n",
       "                        <td> 1.76 GiB </td>\n",
       "                        <td> 8.00 MiB </td>\n",
       "                    </tr>\n",
       "                    \n",
       "                    <tr>\n",
       "                        <th> Shape </th>\n",
       "                        <td> (4, 15, 15, 512, 512) </td>\n",
       "                        <td> (1, 2, 2, 512, 512) </td>\n",
       "                    </tr>\n",
       "                    <tr>\n",
       "                        <th> Count </th>\n",
       "                        <td> 16 Graph Layers </td>\n",
       "                        <td> 256 Chunks </td>\n",
       "                    </tr>\n",
       "                    <tr>\n",
       "                    <th> Type </th>\n",
       "                    <td> complex64 </td>\n",
       "                    <td> numpy.ndarray </td>\n",
       "                    </tr>\n",
       "                </tbody>\n",
       "            </table>\n",
       "        </td>\n",
       "        <td>\n",
       "        <svg width=\"339\" height=\"153\" style=\"stroke:rgb(0,0,0);stroke-width:1\" >\n",
       "\n",
       "  <!-- Horizontal lines -->\n",
       "  <line x1=\"0\" y1=\"0\" x2=\"23\" y2=\"0\" style=\"stroke-width:2\" />\n",
       "  <line x1=\"0\" y1=\"4\" x2=\"23\" y2=\"4\" />\n",
       "  <line x1=\"0\" y1=\"9\" x2=\"23\" y2=\"9\" />\n",
       "  <line x1=\"0\" y1=\"14\" x2=\"23\" y2=\"14\" />\n",
       "  <line x1=\"0\" y1=\"19\" x2=\"23\" y2=\"19\" style=\"stroke-width:2\" />\n",
       "\n",
       "  <!-- Vertical lines -->\n",
       "  <line x1=\"0\" y1=\"0\" x2=\"0\" y2=\"19\" style=\"stroke-width:2\" />\n",
       "  <line x1=\"3\" y1=\"0\" x2=\"3\" y2=\"19\" />\n",
       "  <line x1=\"6\" y1=\"0\" x2=\"6\" y2=\"19\" />\n",
       "  <line x1=\"9\" y1=\"0\" x2=\"9\" y2=\"19\" />\n",
       "  <line x1=\"12\" y1=\"0\" x2=\"12\" y2=\"19\" />\n",
       "  <line x1=\"15\" y1=\"0\" x2=\"15\" y2=\"19\" />\n",
       "  <line x1=\"18\" y1=\"0\" x2=\"18\" y2=\"19\" />\n",
       "  <line x1=\"21\" y1=\"0\" x2=\"21\" y2=\"19\" />\n",
       "  <line x1=\"23\" y1=\"0\" x2=\"23\" y2=\"19\" style=\"stroke-width:2\" />\n",
       "\n",
       "  <!-- Colored Rectangle -->\n",
       "  <polygon points=\"0.0,0.0 23.436469151419786,0.0 23.436469151419786,19.059462385936865 0.0,19.059462385936865\" style=\"fill:#ECB172A0;stroke-width:0\"/>\n",
       "\n",
       "  <!-- Text -->\n",
       "  <text x=\"11.718235\" y=\"39.059462\" font-size=\"1.0rem\" font-weight=\"100\" text-anchor=\"middle\" >15</text>\n",
       "  <text x=\"43.436469\" y=\"9.529731\" font-size=\"1.0rem\" font-weight=\"100\" text-anchor=\"middle\" transform=\"rotate(0,43.436469,9.529731)\">4</text>\n",
       "\n",
       "\n",
       "  <!-- Horizontal lines -->\n",
       "  <line x1=\"93\" y1=\"0\" x2=\"106\" y2=\"13\" style=\"stroke-width:2\" />\n",
       "  <line x1=\"93\" y1=\"90\" x2=\"106\" y2=\"103\" style=\"stroke-width:2\" />\n",
       "\n",
       "  <!-- Vertical lines -->\n",
       "  <line x1=\"93\" y1=\"0\" x2=\"93\" y2=\"90\" style=\"stroke-width:2\" />\n",
       "  <line x1=\"94\" y1=\"1\" x2=\"94\" y2=\"91\" />\n",
       "  <line x1=\"96\" y1=\"3\" x2=\"96\" y2=\"93\" />\n",
       "  <line x1=\"98\" y1=\"5\" x2=\"98\" y2=\"95\" />\n",
       "  <line x1=\"100\" y1=\"7\" x2=\"100\" y2=\"97\" />\n",
       "  <line x1=\"102\" y1=\"9\" x2=\"102\" y2=\"99\" />\n",
       "  <line x1=\"104\" y1=\"11\" x2=\"104\" y2=\"101\" />\n",
       "  <line x1=\"105\" y1=\"12\" x2=\"105\" y2=\"102\" />\n",
       "  <line x1=\"106\" y1=\"13\" x2=\"106\" y2=\"103\" style=\"stroke-width:2\" />\n",
       "\n",
       "  <!-- Colored Rectangle -->\n",
       "  <polygon points=\"93.0,0.0 106.78615832436458,13.78615832436458 106.78615832436458,103.78615832436458 93.0,90.0\" style=\"fill:#ECB172A0;stroke-width:0\"/>\n",
       "\n",
       "  <!-- Horizontal lines -->\n",
       "  <line x1=\"93\" y1=\"0\" x2=\"183\" y2=\"0\" style=\"stroke-width:2\" />\n",
       "  <line x1=\"94\" y1=\"1\" x2=\"184\" y2=\"1\" />\n",
       "  <line x1=\"96\" y1=\"3\" x2=\"186\" y2=\"3\" />\n",
       "  <line x1=\"98\" y1=\"5\" x2=\"188\" y2=\"5\" />\n",
       "  <line x1=\"100\" y1=\"7\" x2=\"190\" y2=\"7\" />\n",
       "  <line x1=\"102\" y1=\"9\" x2=\"192\" y2=\"9\" />\n",
       "  <line x1=\"104\" y1=\"11\" x2=\"194\" y2=\"11\" />\n",
       "  <line x1=\"105\" y1=\"12\" x2=\"195\" y2=\"12\" />\n",
       "  <line x1=\"106\" y1=\"13\" x2=\"196\" y2=\"13\" style=\"stroke-width:2\" />\n",
       "\n",
       "  <!-- Vertical lines -->\n",
       "  <line x1=\"93\" y1=\"0\" x2=\"106\" y2=\"13\" style=\"stroke-width:2\" />\n",
       "  <line x1=\"183\" y1=\"0\" x2=\"196\" y2=\"13\" style=\"stroke-width:2\" />\n",
       "\n",
       "  <!-- Colored Rectangle -->\n",
       "  <polygon points=\"93.0,0.0 183.0,0.0 196.78615832436458,13.78615832436458 106.78615832436458,13.78615832436458\" style=\"fill:#ECB172A0;stroke-width:0\"/>\n",
       "\n",
       "  <!-- Horizontal lines -->\n",
       "  <line x1=\"106\" y1=\"13\" x2=\"196\" y2=\"13\" style=\"stroke-width:2\" />\n",
       "  <line x1=\"106\" y1=\"103\" x2=\"196\" y2=\"103\" style=\"stroke-width:2\" />\n",
       "\n",
       "  <!-- Vertical lines -->\n",
       "  <line x1=\"106\" y1=\"13\" x2=\"106\" y2=\"103\" style=\"stroke-width:2\" />\n",
       "  <line x1=\"196\" y1=\"13\" x2=\"196\" y2=\"103\" style=\"stroke-width:2\" />\n",
       "\n",
       "  <!-- Colored Rectangle -->\n",
       "  <polygon points=\"106.78615832436458,13.78615832436458 196.78615832436458,13.78615832436458 196.78615832436458,103.78615832436458 106.78615832436458,103.78615832436458\" style=\"fill:#ECB172A0;stroke-width:0\"/>\n",
       "\n",
       "  <!-- Text -->\n",
       "  <text x=\"151.786158\" y=\"123.786158\" font-size=\"1.0rem\" font-weight=\"100\" text-anchor=\"middle\" >512</text>\n",
       "  <text x=\"216.786158\" y=\"58.786158\" font-size=\"1.0rem\" font-weight=\"100\" text-anchor=\"middle\" transform=\"rotate(-90,216.786158,58.786158)\">512</text>\n",
       "  <text x=\"89.893079\" y=\"116.893079\" font-size=\"1.0rem\" font-weight=\"100\" text-anchor=\"middle\" transform=\"rotate(45,89.893079,116.893079)\">15</text>\n",
       "</svg>\n",
       "        </td>\n",
       "    </tr>\n",
       "</table>"
      ],
      "text/plain": [
       "dask.array<_extract_measurement, shape=(4, 15, 15, 512, 512), dtype=complex64, chunksize=(1, 2, 2, 512, 512), chunktype=numpy.ndarray>"
      ]
     },
     "execution_count": 10,
     "metadata": {},
     "output_type": "execute_result"
    }
   ],
   "source": [
    "exit_waves_stem = probe.multislice(potential, scan=scan, max_batch=4)\n",
    "\n",
    "exit_waves_stem.array"
   ]
  },
  {
   "cell_type": "markdown",
   "id": "28998800-0b81-49f7-b3c6-79aa355cf3dc",
   "metadata": {
    "pycharm": {
     "name": "#%% md\n"
    }
   },
   "source": [
    "The default value of `max_batch` is `\"auto\"`: with this setting the number of wave functions in each batch is determined such that the batch represents approximately `128 MB` of memory, although this number may be changed through the *ab*TEM [configuration](../../reference/config.md).\n",
    "\n",
    "Before computing this task graph, we apply a HAADF detector and calculate the ensemble mean, which reduces the total size of the output to just 900 B. We note that the 1.76 GB ensemble of wave functions never needs to be in memory simulateneously, as each chunk of exit wave functions are reduced immediately after completing the multislice algorithm."
   ]
  },
  {
   "cell_type": "code",
   "execution_count": 11,
   "id": "8664e8b2-4928-4c5e-bd48-fa854a465cec",
   "metadata": {
    "pycharm": {
     "name": "#%%\n"
    }
   },
   "outputs": [
    {
     "data": {
      "text/html": [
       "<table>\n",
       "    <tr>\n",
       "        <td>\n",
       "            <table>\n",
       "                <thead>\n",
       "                    <tr>\n",
       "                        <td> </td>\n",
       "                        <th> Array </th>\n",
       "                        <th> Chunk </th>\n",
       "                    </tr>\n",
       "                </thead>\n",
       "                <tbody>\n",
       "                    \n",
       "                    <tr>\n",
       "                        <th> Bytes </th>\n",
       "                        <td> 900 B </td>\n",
       "                        <td> 16 B </td>\n",
       "                    </tr>\n",
       "                    \n",
       "                    <tr>\n",
       "                        <th> Shape </th>\n",
       "                        <td> (15, 15) </td>\n",
       "                        <td> (2, 2) </td>\n",
       "                    </tr>\n",
       "                    <tr>\n",
       "                        <th> Count </th>\n",
       "                        <td> 21 Graph Layers </td>\n",
       "                        <td> 64 Chunks </td>\n",
       "                    </tr>\n",
       "                    <tr>\n",
       "                    <th> Type </th>\n",
       "                    <td> float32 </td>\n",
       "                    <td> numpy.ndarray </td>\n",
       "                    </tr>\n",
       "                </tbody>\n",
       "            </table>\n",
       "        </td>\n",
       "        <td>\n",
       "        <svg width=\"140\" height=\"140\" style=\"stroke:rgb(0,0,0);stroke-width:1\" >\n",
       "\n",
       "  <!-- Horizontal lines -->\n",
       "  <line x1=\"0\" y1=\"0\" x2=\"90\" y2=\"0\" style=\"stroke-width:2\" />\n",
       "  <line x1=\"0\" y1=\"12\" x2=\"90\" y2=\"12\" />\n",
       "  <line x1=\"0\" y1=\"24\" x2=\"90\" y2=\"24\" />\n",
       "  <line x1=\"0\" y1=\"36\" x2=\"90\" y2=\"36\" />\n",
       "  <line x1=\"0\" y1=\"48\" x2=\"90\" y2=\"48\" />\n",
       "  <line x1=\"0\" y1=\"60\" x2=\"90\" y2=\"60\" />\n",
       "  <line x1=\"0\" y1=\"72\" x2=\"90\" y2=\"72\" />\n",
       "  <line x1=\"0\" y1=\"84\" x2=\"90\" y2=\"84\" />\n",
       "  <line x1=\"0\" y1=\"90\" x2=\"90\" y2=\"90\" style=\"stroke-width:2\" />\n",
       "\n",
       "  <!-- Vertical lines -->\n",
       "  <line x1=\"0\" y1=\"0\" x2=\"0\" y2=\"90\" style=\"stroke-width:2\" />\n",
       "  <line x1=\"12\" y1=\"0\" x2=\"12\" y2=\"90\" />\n",
       "  <line x1=\"24\" y1=\"0\" x2=\"24\" y2=\"90\" />\n",
       "  <line x1=\"36\" y1=\"0\" x2=\"36\" y2=\"90\" />\n",
       "  <line x1=\"48\" y1=\"0\" x2=\"48\" y2=\"90\" />\n",
       "  <line x1=\"60\" y1=\"0\" x2=\"60\" y2=\"90\" />\n",
       "  <line x1=\"72\" y1=\"0\" x2=\"72\" y2=\"90\" />\n",
       "  <line x1=\"84\" y1=\"0\" x2=\"84\" y2=\"90\" />\n",
       "  <line x1=\"90\" y1=\"0\" x2=\"90\" y2=\"90\" style=\"stroke-width:2\" />\n",
       "\n",
       "  <!-- Colored Rectangle -->\n",
       "  <polygon points=\"0.0,0.0 90.0,0.0 90.0,90.0 0.0,90.0\" style=\"fill:#ECB172A0;stroke-width:0\"/>\n",
       "\n",
       "  <!-- Text -->\n",
       "  <text x=\"45.000000\" y=\"110.000000\" font-size=\"1.0rem\" font-weight=\"100\" text-anchor=\"middle\" >15</text>\n",
       "  <text x=\"110.000000\" y=\"45.000000\" font-size=\"1.0rem\" font-weight=\"100\" text-anchor=\"middle\" transform=\"rotate(0,110.000000,45.000000)\">15</text>\n",
       "</svg>\n",
       "        </td>\n",
       "    </tr>\n",
       "</table>"
      ],
      "text/plain": [
       "dask.array<mean_agg-aggregate, shape=(15, 15), dtype=float32, chunksize=(2, 2), chunktype=numpy.ndarray>"
      ]
     },
     "execution_count": 11,
     "metadata": {},
     "output_type": "execute_result"
    }
   ],
   "source": [
    "detector = abtem.AnnularDetector(inner=65, outer=200)\n",
    "\n",
    "haadf_images = detector.detect(exit_waves_stem).reduce_ensemble()\n",
    "\n",
    "haadf_images.array"
   ]
  },
  {
   "cell_type": "markdown",
   "id": "c8167e51-1e8b-408d-9e08-ad00b6966ad5",
   "metadata": {
    "pycharm": {
     "name": "#%% md\n"
    },
    "tags": []
   },
   "source": [
    "## Schedulers\n",
    "\n",
    "After generating a task graph, it needs to be executed on (parallel) hardware. This is the job of a [task scheduler](https://docs.dask.org/en/stable/scheduler-overview.html). Dask provides several *task schedulers*: each of which will compute a task graph and give the same result, but with different performance characteristics.\n",
    "\n",
    "Every time you call the `compute` method a Dask scheduler is used. We adopt the default Dask scheduler configuration and every keyword argument used with the `compute` method in *ab*TEM is forwarded to the Dask `compute` function. \n",
    "\n",
    "### Local scheduler\n",
    "\n",
    "The default scheduler is the [`ThreadPoolExecutor`](https://docs.dask.org/en/stable/scheduling.html#local-threads). As an example of a keyword argument, the threaded scheduler takes `num_workers`, which sets the number of threads to use (by default, up to the number of computing cores). Let's run compute with 8 workers."
   ]
  },
  {
   "cell_type": "code",
   "execution_count": 12,
   "id": "4c507a96-5a6d-4e55-8775-200f66e26459",
   "metadata": {
    "tags": [
     "skip-test"
    ]
   },
   "outputs": [
    {
     "name": "stdout",
     "output_type": "stream",
     "text": [
      "[########################################] | 100% Completed | 39.86 s\n"
     ]
    },
    {
     "data": {
      "text/plain": [
       "<abtem.measurements.Images object at 0x7f804c5750d0>"
      ]
     },
     "execution_count": 12,
     "metadata": {},
     "output_type": "execute_result"
    }
   ],
   "source": [
    "haadf_images = detector.detect(exit_waves_stem).reduce_ensemble()\n",
    "\n",
    "haadf_images.compute(\n",
    "    scheduler=\"threads\", num_workers=8\n",
    ")"
   ]
  },
  {
   "cell_type": "markdown",
   "id": "168c4090-255a-4705-85a8-afbf74c6320e",
   "metadata": {},
   "source": [
    "We can change the scheduler to using the `ProcessPoolExecutor` as below.\n",
    "\n",
    "```python\n",
    "haadf_images = detector.detect(exit_waves_stem).compute(scheduler=\"processes\", num_workers=4)\n",
    "```\n",
    "\n",
    "Using `abtem.config.set` the scheduler can be set either as a context manager or globally.\n",
    "```python\n",
    "# As a context manager\n",
    "with abtem.config.set(scheduler=\"processes\"):\n",
    "    haadf_images.compute()\n",
    "\n",
    "# Set globally\n",
    "abtem.config.set(scheduler=\"processes\")\n",
    "haadf_images.compute()\n",
    "```"
   ]
  },
  {
   "cell_type": "markdown",
   "id": "675a4c6c-338c-4c3a-90e2-8ad79ed63dd4",
   "metadata": {},
   "source": [
    "### Profiling"
   ]
  },
  {
   "cell_type": "markdown",
   "id": "945988ec-0d2b-422a-a84c-32f10d5a63af",
   "metadata": {},
   "source": [
    "To improve performance, we have to be able to profile it. Profiling parallel code can be challenging, but Dask provides functionality to aid in this and inspecting execution. The diagnostic tools are however quite different depending on whether you use a local or distributed scheduler.\n",
    "\n",
    "Dask allows local diagnostics by adding callbacks that collect information about your code execution. You can use the profilers as a context manager as described in the [Dask documentation](https://docs.dask.org/en/stable/diagnostics-local.html). For convenience, the *ab*TEM `compute` methods also implement keywords for adding Dask profilers.\n",
    "\n",
    "Below we use the [`Profiler`](https://docs.dask.org/en/stable/diagnostics-local.html#profiler) to monitor task execution by setting `profiler=True` and a [`ResourceProfiler`](https://docs.dask.org/en/stable/diagnostics-local.html#resourceprofiler) to monitor the CPU usage and memory consumption by setting `resource_profiler=True`. We rerun the simulation above with these profilers. "
   ]
  },
  {
   "cell_type": "code",
   "execution_count": 13,
   "id": "56cb3754-6cde-4f83-b058-6014356cefaf",
   "metadata": {},
   "outputs": [
    {
     "name": "stdout",
     "output_type": "stream",
     "text": [
      "[########################################] | 100% Completed | 43.26 s\n"
     ]
    }
   ],
   "source": [
    "haadf_images = detector.detect(exit_waves_stem).reduce_ensemble()\n",
    "\n",
    "haadf_images, profilers = haadf_images.compute(profiler=True, resource_profiler=True)"
   ]
  },
  {
   "cell_type": "markdown",
   "id": "a3b63fd8-4e8b-4842-9c15-2fa8787da397",
   "metadata": {},
   "source": [
    "To display the results Dask uses the [Bokeh plotting library](https://bokeh.org/) (which is installed together with Dask). To display the plots in a Jupyter notebook we need to run the commands below."
   ]
  },
  {
   "cell_type": "code",
   "execution_count": 14,
   "id": "bb2fc8ba-5288-4499-9090-35e8723c7930",
   "metadata": {
    "tags": [
     "skip-test"
    ]
   },
   "outputs": [
    {
     "data": {
      "text/html": [
       "<div class=\"bk-root\">\n",
       "        <a href=\"https://bokeh.org\" target=\"_blank\" class=\"bk-logo bk-logo-small bk-logo-notebook\"></a>\n",
       "        <span id=\"1001\">Loading BokehJS ...</span>\n",
       "    </div>\n"
      ]
     },
     "metadata": {},
     "output_type": "display_data"
    },
    {
     "data": {
      "application/javascript": [
       "(function(root) {\n",
       "  function now() {\n",
       "    return new Date();\n",
       "  }\n",
       "\n",
       "  const force = true;\n",
       "\n",
       "  if (typeof root._bokeh_onload_callbacks === \"undefined\" || force === true) {\n",
       "    root._bokeh_onload_callbacks = [];\n",
       "    root._bokeh_is_loading = undefined;\n",
       "  }\n",
       "\n",
       "const JS_MIME_TYPE = 'application/javascript';\n",
       "  const HTML_MIME_TYPE = 'text/html';\n",
       "  const EXEC_MIME_TYPE = 'application/vnd.bokehjs_exec.v0+json';\n",
       "  const CLASS_NAME = 'output_bokeh rendered_html';\n",
       "\n",
       "  /**\n",
       "   * Render data to the DOM node\n",
       "   */\n",
       "  function render(props, node) {\n",
       "    const script = document.createElement(\"script\");\n",
       "    node.appendChild(script);\n",
       "  }\n",
       "\n",
       "  /**\n",
       "   * Handle when an output is cleared or removed\n",
       "   */\n",
       "  function handleClearOutput(event, handle) {\n",
       "    const cell = handle.cell;\n",
       "\n",
       "    const id = cell.output_area._bokeh_element_id;\n",
       "    const server_id = cell.output_area._bokeh_server_id;\n",
       "    // Clean up Bokeh references\n",
       "    if (id != null && id in Bokeh.index) {\n",
       "      Bokeh.index[id].model.document.clear();\n",
       "      delete Bokeh.index[id];\n",
       "    }\n",
       "\n",
       "    if (server_id !== undefined) {\n",
       "      // Clean up Bokeh references\n",
       "      const cmd_clean = \"from bokeh.io.state import curstate; print(curstate().uuid_to_server['\" + server_id + \"'].get_sessions()[0].document.roots[0]._id)\";\n",
       "      cell.notebook.kernel.execute(cmd_clean, {\n",
       "        iopub: {\n",
       "          output: function(msg) {\n",
       "            const id = msg.content.text.trim();\n",
       "            if (id in Bokeh.index) {\n",
       "              Bokeh.index[id].model.document.clear();\n",
       "              delete Bokeh.index[id];\n",
       "            }\n",
       "          }\n",
       "        }\n",
       "      });\n",
       "      // Destroy server and session\n",
       "      const cmd_destroy = \"import bokeh.io.notebook as ion; ion.destroy_server('\" + server_id + \"')\";\n",
       "      cell.notebook.kernel.execute(cmd_destroy);\n",
       "    }\n",
       "  }\n",
       "\n",
       "  /**\n",
       "   * Handle when a new output is added\n",
       "   */\n",
       "  function handleAddOutput(event, handle) {\n",
       "    const output_area = handle.output_area;\n",
       "    const output = handle.output;\n",
       "\n",
       "    // limit handleAddOutput to display_data with EXEC_MIME_TYPE content only\n",
       "    if ((output.output_type != \"display_data\") || (!Object.prototype.hasOwnProperty.call(output.data, EXEC_MIME_TYPE))) {\n",
       "      return\n",
       "    }\n",
       "\n",
       "    const toinsert = output_area.element.find(\".\" + CLASS_NAME.split(' ')[0]);\n",
       "\n",
       "    if (output.metadata[EXEC_MIME_TYPE][\"id\"] !== undefined) {\n",
       "      toinsert[toinsert.length - 1].firstChild.textContent = output.data[JS_MIME_TYPE];\n",
       "      // store reference to embed id on output_area\n",
       "      output_area._bokeh_element_id = output.metadata[EXEC_MIME_TYPE][\"id\"];\n",
       "    }\n",
       "    if (output.metadata[EXEC_MIME_TYPE][\"server_id\"] !== undefined) {\n",
       "      const bk_div = document.createElement(\"div\");\n",
       "      bk_div.innerHTML = output.data[HTML_MIME_TYPE];\n",
       "      const script_attrs = bk_div.children[0].attributes;\n",
       "      for (let i = 0; i < script_attrs.length; i++) {\n",
       "        toinsert[toinsert.length - 1].firstChild.setAttribute(script_attrs[i].name, script_attrs[i].value);\n",
       "        toinsert[toinsert.length - 1].firstChild.textContent = bk_div.children[0].textContent\n",
       "      }\n",
       "      // store reference to server id on output_area\n",
       "      output_area._bokeh_server_id = output.metadata[EXEC_MIME_TYPE][\"server_id\"];\n",
       "    }\n",
       "  }\n",
       "\n",
       "  function register_renderer(events, OutputArea) {\n",
       "\n",
       "    function append_mime(data, metadata, element) {\n",
       "      // create a DOM node to render to\n",
       "      const toinsert = this.create_output_subarea(\n",
       "        metadata,\n",
       "        CLASS_NAME,\n",
       "        EXEC_MIME_TYPE\n",
       "      );\n",
       "      this.keyboard_manager.register_events(toinsert);\n",
       "      // Render to node\n",
       "      const props = {data: data, metadata: metadata[EXEC_MIME_TYPE]};\n",
       "      render(props, toinsert[toinsert.length - 1]);\n",
       "      element.append(toinsert);\n",
       "      return toinsert\n",
       "    }\n",
       "\n",
       "    /* Handle when an output is cleared or removed */\n",
       "    events.on('clear_output.CodeCell', handleClearOutput);\n",
       "    events.on('delete.Cell', handleClearOutput);\n",
       "\n",
       "    /* Handle when a new output is added */\n",
       "    events.on('output_added.OutputArea', handleAddOutput);\n",
       "\n",
       "    /**\n",
       "     * Register the mime type and append_mime function with output_area\n",
       "     */\n",
       "    OutputArea.prototype.register_mime_type(EXEC_MIME_TYPE, append_mime, {\n",
       "      /* Is output safe? */\n",
       "      safe: true,\n",
       "      /* Index of renderer in `output_area.display_order` */\n",
       "      index: 0\n",
       "    });\n",
       "  }\n",
       "\n",
       "  // register the mime type if in Jupyter Notebook environment and previously unregistered\n",
       "  if (root.Jupyter !== undefined) {\n",
       "    const events = require('base/js/events');\n",
       "    const OutputArea = require('notebook/js/outputarea').OutputArea;\n",
       "\n",
       "    if (OutputArea.prototype.mime_types().indexOf(EXEC_MIME_TYPE) == -1) {\n",
       "      register_renderer(events, OutputArea);\n",
       "    }\n",
       "  }\n",
       "  if (typeof (root._bokeh_timeout) === \"undefined\" || force === true) {\n",
       "    root._bokeh_timeout = Date.now() + 5000;\n",
       "    root._bokeh_failed_load = false;\n",
       "  }\n",
       "\n",
       "  const NB_LOAD_WARNING = {'data': {'text/html':\n",
       "     \"<div style='background-color: #fdd'>\\n\"+\n",
       "     \"<p>\\n\"+\n",
       "     \"BokehJS does not appear to have successfully loaded. If loading BokehJS from CDN, this \\n\"+\n",
       "     \"may be due to a slow or bad network connection. Possible fixes:\\n\"+\n",
       "     \"</p>\\n\"+\n",
       "     \"<ul>\\n\"+\n",
       "     \"<li>re-rerun `output_notebook()` to attempt to load from CDN again, or</li>\\n\"+\n",
       "     \"<li>use INLINE resources instead, as so:</li>\\n\"+\n",
       "     \"</ul>\\n\"+\n",
       "     \"<code>\\n\"+\n",
       "     \"from bokeh.resources import INLINE\\n\"+\n",
       "     \"output_notebook(resources=INLINE)\\n\"+\n",
       "     \"</code>\\n\"+\n",
       "     \"</div>\"}};\n",
       "\n",
       "  function display_loaded() {\n",
       "    const el = document.getElementById(\"1001\");\n",
       "    if (el != null) {\n",
       "      el.textContent = \"BokehJS is loading...\";\n",
       "    }\n",
       "    if (root.Bokeh !== undefined) {\n",
       "      if (el != null) {\n",
       "        el.textContent = \"BokehJS \" + root.Bokeh.version + \" successfully loaded.\";\n",
       "      }\n",
       "    } else if (Date.now() < root._bokeh_timeout) {\n",
       "      setTimeout(display_loaded, 100)\n",
       "    }\n",
       "  }\n",
       "\n",
       "  function run_callbacks() {\n",
       "    try {\n",
       "      root._bokeh_onload_callbacks.forEach(function(callback) {\n",
       "        if (callback != null)\n",
       "          callback();\n",
       "      });\n",
       "    } finally {\n",
       "      delete root._bokeh_onload_callbacks\n",
       "    }\n",
       "    console.debug(\"Bokeh: all callbacks have finished\");\n",
       "  }\n",
       "\n",
       "  function load_libs(css_urls, js_urls, callback) {\n",
       "    if (css_urls == null) css_urls = [];\n",
       "    if (js_urls == null) js_urls = [];\n",
       "\n",
       "    root._bokeh_onload_callbacks.push(callback);\n",
       "    if (root._bokeh_is_loading > 0) {\n",
       "      console.debug(\"Bokeh: BokehJS is being loaded, scheduling callback at\", now());\n",
       "      return null;\n",
       "    }\n",
       "    if (js_urls == null || js_urls.length === 0) {\n",
       "      run_callbacks();\n",
       "      return null;\n",
       "    }\n",
       "    console.debug(\"Bokeh: BokehJS not loaded, scheduling load and callback at\", now());\n",
       "    root._bokeh_is_loading = css_urls.length + js_urls.length;\n",
       "\n",
       "    function on_load() {\n",
       "      root._bokeh_is_loading--;\n",
       "      if (root._bokeh_is_loading === 0) {\n",
       "        console.debug(\"Bokeh: all BokehJS libraries/stylesheets loaded\");\n",
       "        run_callbacks()\n",
       "      }\n",
       "    }\n",
       "\n",
       "    function on_error(url) {\n",
       "      console.error(\"failed to load \" + url);\n",
       "    }\n",
       "\n",
       "    for (let i = 0; i < css_urls.length; i++) {\n",
       "      const url = css_urls[i];\n",
       "      const element = document.createElement(\"link\");\n",
       "      element.onload = on_load;\n",
       "      element.onerror = on_error.bind(null, url);\n",
       "      element.rel = \"stylesheet\";\n",
       "      element.type = \"text/css\";\n",
       "      element.href = url;\n",
       "      console.debug(\"Bokeh: injecting link tag for BokehJS stylesheet: \", url);\n",
       "      document.body.appendChild(element);\n",
       "    }\n",
       "\n",
       "    for (let i = 0; i < js_urls.length; i++) {\n",
       "      const url = js_urls[i];\n",
       "      const element = document.createElement('script');\n",
       "      element.onload = on_load;\n",
       "      element.onerror = on_error.bind(null, url);\n",
       "      element.async = false;\n",
       "      element.src = url;\n",
       "      console.debug(\"Bokeh: injecting script tag for BokehJS library: \", url);\n",
       "      document.head.appendChild(element);\n",
       "    }\n",
       "  };\n",
       "\n",
       "  function inject_raw_css(css) {\n",
       "    const element = document.createElement(\"style\");\n",
       "    element.appendChild(document.createTextNode(css));\n",
       "    document.body.appendChild(element);\n",
       "  }\n",
       "\n",
       "  const js_urls = [\"https://cdn.bokeh.org/bokeh/release/bokeh-2.4.3.min.js\", \"https://cdn.bokeh.org/bokeh/release/bokeh-gl-2.4.3.min.js\", \"https://cdn.bokeh.org/bokeh/release/bokeh-widgets-2.4.3.min.js\", \"https://cdn.bokeh.org/bokeh/release/bokeh-tables-2.4.3.min.js\", \"https://cdn.bokeh.org/bokeh/release/bokeh-mathjax-2.4.3.min.js\"];\n",
       "  const css_urls = [];\n",
       "\n",
       "  const inline_js = [    function(Bokeh) {\n",
       "      Bokeh.set_log_level(\"info\");\n",
       "    },\n",
       "function(Bokeh) {\n",
       "    }\n",
       "  ];\n",
       "\n",
       "  function run_inline_js() {\n",
       "    if (root.Bokeh !== undefined || force === true) {\n",
       "          for (let i = 0; i < inline_js.length; i++) {\n",
       "      inline_js[i].call(root, root.Bokeh);\n",
       "    }\n",
       "if (force === true) {\n",
       "        display_loaded();\n",
       "      }} else if (Date.now() < root._bokeh_timeout) {\n",
       "      setTimeout(run_inline_js, 100);\n",
       "    } else if (!root._bokeh_failed_load) {\n",
       "      console.log(\"Bokeh: BokehJS failed to load within specified timeout.\");\n",
       "      root._bokeh_failed_load = true;\n",
       "    } else if (force !== true) {\n",
       "      const cell = $(document.getElementById(\"1001\")).parents('.cell').data().cell;\n",
       "      cell.output_area.append_execute_result(NB_LOAD_WARNING)\n",
       "    }\n",
       "  }\n",
       "\n",
       "  if (root._bokeh_is_loading === 0) {\n",
       "    console.debug(\"Bokeh: BokehJS loaded, going straight to plotting\");\n",
       "    run_inline_js();\n",
       "  } else {\n",
       "    load_libs(css_urls, js_urls, function() {\n",
       "      console.debug(\"Bokeh: BokehJS plotting callback run at\", now());\n",
       "      run_inline_js();\n",
       "    });\n",
       "  }\n",
       "}(window));"
      ],
      "application/vnd.bokehjs_load.v0+json": "(function(root) {\n  function now() {\n    return new Date();\n  }\n\n  const force = true;\n\n  if (typeof root._bokeh_onload_callbacks === \"undefined\" || force === true) {\n    root._bokeh_onload_callbacks = [];\n    root._bokeh_is_loading = undefined;\n  }\n\n\n  if (typeof (root._bokeh_timeout) === \"undefined\" || force === true) {\n    root._bokeh_timeout = Date.now() + 5000;\n    root._bokeh_failed_load = false;\n  }\n\n  const NB_LOAD_WARNING = {'data': {'text/html':\n     \"<div style='background-color: #fdd'>\\n\"+\n     \"<p>\\n\"+\n     \"BokehJS does not appear to have successfully loaded. If loading BokehJS from CDN, this \\n\"+\n     \"may be due to a slow or bad network connection. Possible fixes:\\n\"+\n     \"</p>\\n\"+\n     \"<ul>\\n\"+\n     \"<li>re-rerun `output_notebook()` to attempt to load from CDN again, or</li>\\n\"+\n     \"<li>use INLINE resources instead, as so:</li>\\n\"+\n     \"</ul>\\n\"+\n     \"<code>\\n\"+\n     \"from bokeh.resources import INLINE\\n\"+\n     \"output_notebook(resources=INLINE)\\n\"+\n     \"</code>\\n\"+\n     \"</div>\"}};\n\n  function display_loaded() {\n    const el = document.getElementById(\"1001\");\n    if (el != null) {\n      el.textContent = \"BokehJS is loading...\";\n    }\n    if (root.Bokeh !== undefined) {\n      if (el != null) {\n        el.textContent = \"BokehJS \" + root.Bokeh.version + \" successfully loaded.\";\n      }\n    } else if (Date.now() < root._bokeh_timeout) {\n      setTimeout(display_loaded, 100)\n    }\n  }\n\n  function run_callbacks() {\n    try {\n      root._bokeh_onload_callbacks.forEach(function(callback) {\n        if (callback != null)\n          callback();\n      });\n    } finally {\n      delete root._bokeh_onload_callbacks\n    }\n    console.debug(\"Bokeh: all callbacks have finished\");\n  }\n\n  function load_libs(css_urls, js_urls, callback) {\n    if (css_urls == null) css_urls = [];\n    if (js_urls == null) js_urls = [];\n\n    root._bokeh_onload_callbacks.push(callback);\n    if (root._bokeh_is_loading > 0) {\n      console.debug(\"Bokeh: BokehJS is being loaded, scheduling callback at\", now());\n      return null;\n    }\n    if (js_urls == null || js_urls.length === 0) {\n      run_callbacks();\n      return null;\n    }\n    console.debug(\"Bokeh: BokehJS not loaded, scheduling load and callback at\", now());\n    root._bokeh_is_loading = css_urls.length + js_urls.length;\n\n    function on_load() {\n      root._bokeh_is_loading--;\n      if (root._bokeh_is_loading === 0) {\n        console.debug(\"Bokeh: all BokehJS libraries/stylesheets loaded\");\n        run_callbacks()\n      }\n    }\n\n    function on_error(url) {\n      console.error(\"failed to load \" + url);\n    }\n\n    for (let i = 0; i < css_urls.length; i++) {\n      const url = css_urls[i];\n      const element = document.createElement(\"link\");\n      element.onload = on_load;\n      element.onerror = on_error.bind(null, url);\n      element.rel = \"stylesheet\";\n      element.type = \"text/css\";\n      element.href = url;\n      console.debug(\"Bokeh: injecting link tag for BokehJS stylesheet: \", url);\n      document.body.appendChild(element);\n    }\n\n    for (let i = 0; i < js_urls.length; i++) {\n      const url = js_urls[i];\n      const element = document.createElement('script');\n      element.onload = on_load;\n      element.onerror = on_error.bind(null, url);\n      element.async = false;\n      element.src = url;\n      console.debug(\"Bokeh: injecting script tag for BokehJS library: \", url);\n      document.head.appendChild(element);\n    }\n  };\n\n  function inject_raw_css(css) {\n    const element = document.createElement(\"style\");\n    element.appendChild(document.createTextNode(css));\n    document.body.appendChild(element);\n  }\n\n  const js_urls = [\"https://cdn.bokeh.org/bokeh/release/bokeh-2.4.3.min.js\", \"https://cdn.bokeh.org/bokeh/release/bokeh-gl-2.4.3.min.js\", \"https://cdn.bokeh.org/bokeh/release/bokeh-widgets-2.4.3.min.js\", \"https://cdn.bokeh.org/bokeh/release/bokeh-tables-2.4.3.min.js\", \"https://cdn.bokeh.org/bokeh/release/bokeh-mathjax-2.4.3.min.js\"];\n  const css_urls = [];\n\n  const inline_js = [    function(Bokeh) {\n      Bokeh.set_log_level(\"info\");\n    },\nfunction(Bokeh) {\n    }\n  ];\n\n  function run_inline_js() {\n    if (root.Bokeh !== undefined || force === true) {\n          for (let i = 0; i < inline_js.length; i++) {\n      inline_js[i].call(root, root.Bokeh);\n    }\nif (force === true) {\n        display_loaded();\n      }} else if (Date.now() < root._bokeh_timeout) {\n      setTimeout(run_inline_js, 100);\n    } else if (!root._bokeh_failed_load) {\n      console.log(\"Bokeh: BokehJS failed to load within specified timeout.\");\n      root._bokeh_failed_load = true;\n    } else if (force !== true) {\n      const cell = $(document.getElementById(\"1001\")).parents('.cell').data().cell;\n      cell.output_area.append_execute_result(NB_LOAD_WARNING)\n    }\n  }\n\n  if (root._bokeh_is_loading === 0) {\n    console.debug(\"Bokeh: BokehJS loaded, going straight to plotting\");\n    run_inline_js();\n  } else {\n    load_libs(css_urls, js_urls, function() {\n      console.debug(\"Bokeh: BokehJS plotting callback run at\", now());\n      run_inline_js();\n    });\n  }\n}(window));"
     },
     "metadata": {},
     "output_type": "display_data"
    }
   ],
   "source": [
    "from bokeh.io import output_notebook\n",
    "output_notebook()"
   ]
  },
  {
   "cell_type": "markdown",
   "id": "89a100cb-9792-45bb-b855-42b53fb9db83",
   "metadata": {},
   "source": [
    "We first show the result from the `Profiler` object: This shows the execution time for each task as a rectangle, organized along the vertical axis by worker (in this case threads), and where white space represents times the worker was idle. The task types are grouped by color and, by hovering over each task, one can see the key and task that each block represents. For this calculation there is only one significant task shown in yellow; this encompasses building the wave function, running the multislice algorithm (calculating the potential on demand), and calculating and integrating the diffraction patterns. "
   ]
  },
  {
   "cell_type": "code",
   "execution_count": 15,
   "id": "0a420e98-6235-4e01-b079-fe34d913a436",
   "metadata": {
    "tags": [
     "skip-test"
    ]
   },
   "outputs": [
    {
     "data": {
      "text/html": [
       "\n",
       "  <div class=\"bk-root\" id=\"b30d12aa-48f7-4102-a791-70fcc0aaab27\" data-root-id=\"1003\"></div>\n"
      ]
     },
     "metadata": {},
     "output_type": "display_data"
    },
    {
     "data": {
      "application/javascript": [
       "(function(root) {\n",
       "  function embed_document(root) {\n",
       "  const docs_json = {\"9068a79d-be84-49b8-8d86-a118474b8dc3\":{\"defs\":[],\"roots\":{\"references\":[{\"attributes\":{\"below\":[{\"id\":\"1014\"}],\"center\":[{\"id\":\"1017\"},{\"id\":\"1020\"}],\"height\":300,\"left\":[{\"id\":\"1018\"}],\"renderers\":[{\"id\":\"1037\"}],\"title\":{\"id\":\"1004\"},\"toolbar\":{\"id\":\"1026\"},\"toolbar_location\":\"above\",\"width\":800,\"x_range\":{\"id\":\"1006\"},\"x_scale\":{\"id\":\"1010\"},\"y_range\":{\"id\":\"1008\"},\"y_scale\":{\"id\":\"1012\"}},\"id\":\"1003\",\"subtype\":\"Figure\",\"type\":\"Plot\"},{\"attributes\":{\"coordinates\":null,\"group\":null,\"text\":\"Profile Results\"},\"id\":\"1004\",\"type\":\"Title\"},{\"attributes\":{\"tools\":[{\"id\":\"1021\"},{\"id\":\"1022\"},{\"id\":\"1023\"},{\"id\":\"1024\"},{\"id\":\"1025\"}]},\"id\":\"1026\",\"type\":\"Toolbar\"},{\"attributes\":{\"source\":{\"id\":\"1032\"}},\"id\":\"1038\",\"type\":\"CDSView\"},{\"attributes\":{},\"id\":\"1015\",\"type\":\"BasicTicker\"},{\"attributes\":{\"axis\":{\"id\":\"1014\"},\"coordinates\":null,\"grid_line_color\":null,\"group\":null,\"ticker\":null},\"id\":\"1017\",\"type\":\"Grid\"},{\"attributes\":{\"factors\":[\"0\",\"1\",\"2\",\"3\",\"4\",\"5\",\"6\",\"7\"]},\"id\":\"1008\",\"type\":\"FactorRange\"},{\"attributes\":{\"fill_alpha\":{\"value\":0.1},\"fill_color\":{\"field\":\"color\"},\"hatch_alpha\":{\"value\":0.1},\"hatch_color\":{\"field\":\"color\"},\"height\":{\"value\":1},\"line_alpha\":{\"value\":0.1},\"line_color\":{\"value\":\"gray\"},\"width\":{\"field\":\"width\"},\"x\":{\"field\":\"x\"},\"y\":{\"field\":\"y\"}},\"id\":\"1035\",\"type\":\"Rect\"},{\"attributes\":{\"dimensions\":\"width\"},\"id\":\"1024\",\"type\":\"WheelZoomTool\"},{\"attributes\":{\"axis_label\":\"Worker ID\",\"axis_line_color\":null,\"coordinates\":null,\"formatter\":{\"id\":\"1041\"},\"group\":null,\"major_label_policy\":{\"id\":\"1042\"},\"major_tick_line_color\":null,\"ticker\":{\"id\":\"1019\"}},\"id\":\"1018\",\"type\":\"CategoricalAxis\"},{\"attributes\":{\"fill_alpha\":{\"value\":0.2},\"fill_color\":{\"field\":\"color\"},\"hatch_alpha\":{\"value\":0.2},\"hatch_color\":{\"field\":\"color\"},\"height\":{\"value\":1},\"line_alpha\":{\"value\":0.2},\"line_color\":{\"value\":\"gray\"},\"width\":{\"field\":\"width\"},\"x\":{\"field\":\"x\"},\"y\":{\"field\":\"y\"}},\"id\":\"1036\",\"type\":\"Rect\"},{\"attributes\":{\"axis\":{\"id\":\"1018\"},\"coordinates\":null,\"dimension\":1,\"grid_line_color\":null,\"group\":null,\"ticker\":null},\"id\":\"1020\",\"type\":\"Grid\"},{\"attributes\":{\"end\":43.177033298},\"id\":\"1006\",\"type\":\"Range1d\"},{\"attributes\":{},\"id\":\"1019\",\"type\":\"CategoricalTicker\"},{\"attributes\":{},\"id\":\"1045\",\"type\":\"AllLabels\"},{\"attributes\":{},\"id\":\"1022\",\"type\":\"SaveTool\"},{\"attributes\":{},\"id\":\"1023\",\"type\":\"ResetTool\"},{\"attributes\":{},\"id\":\"1044\",\"type\":\"BasicTickFormatter\"},{\"attributes\":{\"callback\":null,\"point_policy\":\"follow_mouse\",\"tooltips\":\"\\n    <div>\\n        <span style=\\\"font-size: 14px; font-weight: bold;\\\">Key:</span>&nbsp;\\n        <span style=\\\"font-size: 10px; font-family: Monaco, monospace;\\\">@key</span>\\n    </div>\\n    <div>\\n        <span style=\\\"font-size: 14px; font-weight: bold;\\\">Task:</span>&nbsp;\\n        <span style=\\\"font-size: 10px; font-family: Monaco, monospace;\\\">@function</span>\\n    </div>\\n    \"},\"id\":\"1021\",\"type\":\"HoverTool\"},{\"attributes\":{},\"id\":\"1012\",\"type\":\"CategoricalScale\"},{\"attributes\":{\"dimensions\":\"width\"},\"id\":\"1025\",\"type\":\"PanTool\"},{\"attributes\":{\"data\":{\"color\":[\"#3B518A\",\"#3B518A\",\"#3B518A\",\"#3B518A\",\"#440154\",\"#440154\",\"#440154\",\"#440154\",\"#FDE724\",\"#FDE724\",\"#FDE724\",\"#FDE724\",\"#FDE724\",\"#FDE724\",\"#FDE724\",\"#FDE724\",\"#440154\",\"#FDE724\",\"#440154\",\"#FDE724\",\"#440154\",\"#FDE724\",\"#440154\",\"#5BC862\",\"#440154\",\"#FDE724\",\"#440154\",\"#FDE724\",\"#FDE724\",\"#440154\",\"#FDE724\",\"#440154\",\"#5BC862\",\"#208F8C\",\"#FDE724\",\"#440154\",\"#FDE724\",\"#440154\",\"#FDE724\",\"#440154\",\"#FDE724\",\"#440154\",\"#440154\",\"#FDE724\",\"#440154\",\"#FDE724\",\"#FDE724\",\"#440154\",\"#440154\",\"#FDE724\",\"#FDE724\",\"#440154\",\"#FDE724\",\"#440154\",\"#FDE724\",\"#440154\",\"#FDE724\",\"#440154\",\"#FDE724\",\"#440154\",\"#FDE724\",\"#440154\",\"#FDE724\",\"#440154\",\"#FDE724\",\"#440154\",\"#FDE724\",\"#440154\",\"#FDE724\",\"#440154\",\"#FDE724\",\"#440154\",\"#FDE724\",\"#440154\",\"#FDE724\",\"#440154\",\"#FDE724\",\"#440154\",\"#FDE724\",\"#440154\",\"#FDE724\",\"#440154\",\"#FDE724\",\"#440154\",\"#FDE724\",\"#440154\",\"#FDE724\",\"#440154\",\"#FDE724\",\"#440154\",\"#FDE724\",\"#440154\",\"#FDE724\",\"#440154\",\"#FDE724\",\"#440154\",\"#FDE724\",\"#440154\",\"#FDE724\",\"#440154\",\"#FDE724\",\"#440154\",\"#FDE724\",\"#440154\",\"#FDE724\",\"#440154\",\"#FDE724\",\"#440154\",\"#FDE724\",\"#440154\",\"#FDE724\",\"#440154\",\"#FDE724\",\"#440154\",\"#FDE724\",\"#440154\",\"#FDE724\",\"#440154\",\"#FDE724\",\"#440154\",\"#FDE724\",\"#440154\",\"#FDE724\",\"#440154\",\"#FDE724\",\"#440154\",\"#440154\",\"#FDE724\",\"#FDE724\",\"#440154\",\"#440154\",\"#FDE724\",\"#FDE724\",\"#440154\",\"#FDE724\",\"#440154\",\"#FDE724\",\"#440154\",\"#FDE724\",\"#440154\",\"#FDE724\",\"#440154\",\"#FDE724\",\"#440154\",\"#FDE724\",\"#440154\",\"#FDE724\",\"#440154\",\"#FDE724\",\"#440154\",\"#FDE724\",\"#440154\",\"#FDE724\",\"#440154\",\"#FDE724\",\"#440154\",\"#FDE724\",\"#440154\",\"#FDE724\",\"#440154\",\"#FDE724\",\"#440154\",\"#5BC862\",\"#FDE724\",\"#440154\",\"#5BC862\",\"#FDE724\",\"#440154\",\"#440154\",\"#5BC862\",\"#5BC862\",\"#FDE724\",\"#FDE724\",\"#440154\",\"#5BC862\",\"#FDE724\",\"#440154\",\"#5BC862\",\"#FDE724\",\"#440154\",\"#5BC862\",\"#FDE724\",\"#440154\",\"#5BC862\",\"#FDE724\",\"#440154\",\"#5BC862\",\"#FDE724\",\"#440154\",\"#440154\",\"#5BC862\",\"#5BC862\",\"#FDE724\",\"#FDE724\",\"#440154\",\"#5BC862\",\"#FDE724\",\"#440154\",\"#5BC862\",\"#FDE724\",\"#440154\",\"#5BC862\",\"#FDE724\",\"#440154\",\"#5BC862\",\"#FDE724\",\"#440154\",\"#5BC862\",\"#FDE724\",\"#440154\",\"#5BC862\",\"#FDE724\",\"#440154\",\"#5BC862\",\"#FDE724\",\"#440154\",\"#5BC862\",\"#FDE724\",\"#440154\",\"#5BC862\",\"#FDE724\",\"#440154\",\"#5BC862\",\"#FDE724\",\"#440154\",\"#5BC862\",\"#FDE724\",\"#440154\",\"#5BC862\",\"#FDE724\",\"#440154\",\"#5BC862\",\"#FDE724\",\"#440154\",\"#5BC862\",\"#FDE724\",\"#440154\",\"#5BC862\",\"#FDE724\",\"#440154\",\"#5BC862\",\"#FDE724\",\"#440154\",\"#5BC862\",\"#FDE724\",\"#440154\",\"#5BC862\",\"#FDE724\",\"#440154\",\"#5BC862\",\"#FDE724\",\"#440154\",\"#5BC862\",\"#FDE724\",\"#440154\",\"#5BC862\",\"#FDE724\",\"#440154\",\"#5BC862\",\"#440154\",\"#FDE724\",\"#5BC862\",\"#FDE724\",\"#440154\",\"#5BC862\",\"#FDE724\",\"#440154\",\"#5BC862\",\"#FDE724\",\"#440154\",\"#5BC862\",\"#FDE724\",\"#440154\",\"#5BC862\",\"#FDE724\",\"#440154\",\"#5BC862\",\"#FDE724\",\"#440154\",\"#5BC862\",\"#FDE724\",\"#440154\",\"#5BC862\",\"#FDE724\",\"#440154\",\"#5BC862\",\"#FDE724\",\"#440154\",\"#5BC862\",\"#FDE724\",\"#440154\",\"#5BC862\",\"#440154\",\"#FDE724\",\"#5BC862\",\"#FDE724\",\"#440154\",\"#5BC862\",\"#FDE724\",\"#440154\",\"#5BC862\",\"#FDE724\",\"#440154\",\"#5BC862\",\"#FDE724\",\"#440154\",\"#5BC862\",\"#FDE724\",\"#440154\",\"#5BC862\",\"#FDE724\",\"#440154\",\"#5BC862\",\"#FDE724\",\"#440154\",\"#5BC862\",\"#FDE724\",\"#440154\",\"#5BC862\",\"#440154\",\"#FDE724\",\"#5BC862\",\"#FDE724\",\"#440154\",\"#5BC862\",\"#FDE724\",\"#440154\",\"#5BC862\",\"#FDE724\",\"#440154\",\"#5BC862\",\"#FDE724\",\"#440154\",\"#5BC862\",\"#FDE724\",\"#440154\",\"#5BC862\",\"#FDE724\",\"#440154\",\"#5BC862\",\"#FDE724\",\"#440154\",\"#5BC862\",\"#FDE724\",\"#440154\",\"#5BC862\",\"#FDE724\",\"#440154\",\"#5BC862\",\"#FDE724\",\"#440154\",\"#5BC862\",\"#208F8C\",\"#FDE724\",\"#440154\",\"#5BC862\",\"#208F8C\",\"#FDE724\",\"#440154\",\"#FDE724\",\"#440154\",\"#5BC862\",\"#208F8C\",\"#FDE724\",\"#440154\",\"#5BC862\",\"#208F8C\",\"#440154\",\"#FDE724\",\"#FDE724\",\"#440154\",\"#FDE724\",\"#440154\",\"#FDE724\",\"#440154\",\"#FDE724\",\"#440154\",\"#FDE724\",\"#440154\",\"#FDE724\",\"#440154\",\"#440154\",\"#FDE724\",\"#FDE724\",\"#440154\",\"#FDE724\",\"#440154\",\"#FDE724\",\"#440154\",\"#FDE724\",\"#440154\",\"#FDE724\",\"#440154\",\"#440154\",\"#FDE724\",\"#FDE724\",\"#440154\",\"#FDE724\",\"#440154\",\"#FDE724\",\"#440154\",\"#FDE724\",\"#440154\",\"#FDE724\",\"#440154\",\"#FDE724\",\"#440154\",\"#FDE724\",\"#440154\",\"#FDE724\",\"#440154\",\"#FDE724\",\"#440154\",\"#FDE724\",\"#440154\",\"#FDE724\",\"#440154\",\"#FDE724\",\"#440154\",\"#FDE724\",\"#440154\",\"#FDE724\",\"#440154\",\"#FDE724\",\"#440154\",\"#FDE724\",\"#440154\",\"#FDE724\",\"#440154\",\"#FDE724\",\"#440154\",\"#FDE724\",\"#440154\",\"#FDE724\",\"#440154\",\"#FDE724\",\"#440154\",\"#FDE724\",\"#440154\",\"#FDE724\",\"#440154\",\"#FDE724\",\"#440154\",\"#FDE724\",\"#440154\",\"#FDE724\",\"#440154\",\"#FDE724\",\"#440154\",\"#FDE724\",\"#440154\",\"#FDE724\",\"#440154\",\"#FDE724\",\"#440154\",\"#FDE724\",\"#440154\",\"#FDE724\",\"#440154\",\"#FDE724\",\"#440154\",\"#FDE724\",\"#440154\",\"#FDE724\",\"#440154\",\"#FDE724\",\"#440154\",\"#FDE724\",\"#440154\",\"#FDE724\",\"#440154\",\"#FDE724\",\"#440154\",\"#FDE724\",\"#440154\",\"#FDE724\",\"#440154\",\"#FDE724\",\"#440154\",\"#FDE724\",\"#440154\",\"#FDE724\",\"#440154\",\"#FDE724\",\"#440154\",\"#5BC862\",\"#208F8C\",\"#FDE724\",\"#440154\",\"#440154\",\"#5BC862\",\"#5BC862\",\"#208F8C\",\"#208F8C\",\"#FDE724\",\"#FDE724\",\"#440154\",\"#5BC862\",\"#208F8C\",\"#FDE724\",\"#440154\",\"#5BC862\",\"#208F8C\",\"#FDE724\",\"#440154\",\"#5BC862\",\"#208F8C\",\"#440154\",\"#FDE724\",\"#5BC862\",\"#208F8C\",\"#FDE724\",\"#440154\",\"#5BC862\",\"#208F8C\",\"#FDE724\",\"#440154\",\"#5BC862\",\"#208F8C\",\"#FDE724\",\"#440154\",\"#5BC862\",\"#208F8C\",\"#FDE724\",\"#440154\",\"#5BC862\",\"#208F8C\",\"#FDE724\",\"#440154\",\"#5BC862\",\"#208F8C\",\"#FDE724\",\"#440154\",\"#5BC862\",\"#208F8C\",\"#FDE724\",\"#440154\",\"#5BC862\",\"#208F8C\",\"#FDE724\",\"#440154\",\"#5BC862\",\"#208F8C\",\"#FDE724\",\"#440154\",\"#440154\",\"#5BC862\",\"#5BC862\",\"#208F8C\",\"#208F8C\",\"#FDE724\",\"#FDE724\",\"#440154\",\"#5BC862\",\"#208F8C\",\"#FDE724\",\"#440154\",\"#5BC862\",\"#208F8C\",\"#FDE724\",\"#440154\",\"#5BC862\",\"#208F8C\",\"#FDE724\",\"#440154\",\"#5BC862\",\"#208F8C\",\"#FDE724\",\"#440154\",\"#5BC862\",\"#208F8C\",\"#FDE724\",\"#440154\",\"#5BC862\",\"#208F8C\",\"#FDE724\",\"#440154\",\"#5BC862\",\"#208F8C\",\"#FDE724\",\"#440154\",\"#5BC862\",\"#208F8C\",\"#FDE724\",\"#440154\",\"#5BC862\",\"#208F8C\",\"#FDE724\",\"#440154\",\"#5BC862\",\"#208F8C\",\"#FDE724\",\"#440154\",\"#5BC862\",\"#440154\",\"#208F8C\",\"#5BC862\",\"#FDE724\",\"#208F8C\",\"#FDE724\",\"#440154\",\"#440154\",\"#5BC862\",\"#5BC862\",\"#208F8C\",\"#208F8C\",\"#FDE724\",\"#FDE724\",\"#440154\",\"#5BC862\",\"#208F8C\",\"#FDE724\",\"#440154\",\"#5BC862\",\"#208F8C\",\"#FDE724\",\"#440154\",\"#5BC862\",\"#208F8C\",\"#FDE724\",\"#440154\",\"#5BC862\",\"#208F8C\",\"#FDE724\",\"#440154\",\"#5BC862\",\"#208F8C\",\"#FDE724\",\"#440154\",\"#440154\",\"#5BC862\",\"#5BC862\",\"#208F8C\",\"#208F8C\",\"#FDE724\",\"#FDE724\",\"#440154\",\"#5BC862\",\"#208F8C\",\"#FDE724\",\"#440154\",\"#5BC862\",\"#208F8C\",\"#FDE724\",\"#440154\",\"#5BC862\",\"#208F8C\",\"#FDE724\",\"#440154\",\"#5BC862\",\"#208F8C\",\"#FDE724\",\"#440154\",\"#5BC862\",\"#208F8C\",\"#FDE724\",\"#440154\",\"#5BC862\",\"#208F8C\",\"#FDE724\",\"#440154\",\"#5BC862\",\"#208F8C\",\"#FDE724\",\"#440154\",\"#5BC862\",\"#208F8C\",\"#FDE724\",\"#440154\",\"#5BC862\",\"#208F8C\",\"#FDE724\",\"#440154\",\"#5BC862\",\"#208F8C\",\"#FDE724\",\"#440154\",\"#5BC862\",\"#208F8C\",\"#FDE724\",\"#440154\",\"#5BC862\",\"#208F8C\",\"#FDE724\",\"#440154\",\"#5BC862\",\"#208F8C\",\"#FDE724\",\"#440154\",\"#5BC862\",\"#208F8C\",\"#440154\",\"#5BC862\",\"#208F8C\",\"#440154\",\"#5BC862\",\"#208F8C\",\"#440154\",\"#5BC862\",\"#208F8C\",\"#440154\",\"#5BC862\",\"#208F8C\",\"#440154\",\"#5BC862\",\"#208F8C\",\"#440154\",\"#5BC862\",\"#208F8C\",\"#440154\",\"#5BC862\",\"#208F8C\"],\"function\":[\"_frozen_phonon(, atoms=_, seeds=tuple([*]))\",\"_frozen_phonon(, atoms=_, seeds=tuple([*]))\",\"_frozen_phonon(, atoms=_, seeds=tuple([*]))\",\"_frozen_phonon(, atoms=_, seeds=tuple([*]))\",\"_\",\"_\",\"_\",\"_\",\"subgraph_callable-2552b036-2f09-4617-9d19-d038050e(subgraph_callable-e480ef79-27fb-429a-b56d-6a8247a4(...))\",\"subgraph_callable-2552b036-2f09-4617-9d19-d038050e(subgraph_callable-e480ef79-27fb-429a-b56d-6a8247a4(...))\",\"subgraph_callable-2552b036-2f09-4617-9d19-d038050e(subgraph_callable-e480ef79-27fb-429a-b56d-6a8247a4(...))\",\"subgraph_callable-2552b036-2f09-4617-9d19-d038050e(subgraph_callable-e480ef79-27fb-429a-b56d-6a8247a4(...))\",\"subgraph_callable-2552b036-2f09-4617-9d19-d038050e(subgraph_callable-e480ef79-27fb-429a-b56d-6a8247a4(...))\",\"subgraph_callable-2552b036-2f09-4617-9d19-d038050e(subgraph_callable-e480ef79-27fb-429a-b56d-6a8247a4(...))\",\"subgraph_callable-2552b036-2f09-4617-9d19-d038050e(subgraph_callable-e480ef79-27fb-429a-b56d-6a8247a4(...))\",\"subgraph_callable-2552b036-2f09-4617-9d19-d038050e(subgraph_callable-e480ef79-27fb-429a-b56d-6a8247a4(...))\",\"_\",\"subgraph_callable-2552b036-2f09-4617-9d19-d038050e(subgraph_callable-e480ef79-27fb-429a-b56d-6a8247a4(...))\",\"_\",\"subgraph_callable-2552b036-2f09-4617-9d19-d038050e(subgraph_callable-e480ef79-27fb-429a-b56d-6a8247a4(...))\",\"_\",\"subgraph_callable-2552b036-2f09-4617-9d19-d038050e(subgraph_callable-e480ef79-27fb-429a-b56d-6a8247a4(...))\",\"_\",\"mean_combine([_, _])\",\"_\",\"subgraph_callable-2552b036-2f09-4617-9d19-d038050e(subgraph_callable-e480ef79-27fb-429a-b56d-6a8247a4(...))\",\"_\",\"subgraph_callable-2552b036-2f09-4617-9d19-d038050e(subgraph_callable-e480ef79-27fb-429a-b56d-6a8247a4(...))\",\"subgraph_callable-2552b036-2f09-4617-9d19-d038050e(subgraph_callable-e480ef79-27fb-429a-b56d-6a8247a4(...))\",\"_\",\"subgraph_callable-2552b036-2f09-4617-9d19-d038050e(subgraph_callable-e480ef79-27fb-429a-b56d-6a8247a4(...))\",\"_\",\"mean_combine([_, _])\",\"mean_agg([_, _])\",\"subgraph_callable-2552b036-2f09-4617-9d19-d038050e(subgraph_callable-e480ef79-27fb-429a-b56d-6a8247a4(...))\",\"_\",\"subgraph_callable-2552b036-2f09-4617-9d19-d038050e(subgraph_callable-e480ef79-27fb-429a-b56d-6a8247a4(...))\",\"_\",\"subgraph_callable-2552b036-2f09-4617-9d19-d038050e(subgraph_callable-e480ef79-27fb-429a-b56d-6a8247a4(...))\",\"_\",\"subgraph_callable-2552b036-2f09-4617-9d19-d038050e(subgraph_callable-e480ef79-27fb-429a-b56d-6a8247a4(...))\",\"_\",\"_\",\"subgraph_callable-2552b036-2f09-4617-9d19-d038050e(subgraph_callable-e480ef79-27fb-429a-b56d-6a8247a4(...))\",\"_\",\"subgraph_callable-2552b036-2f09-4617-9d19-d038050e(subgraph_callable-e480ef79-27fb-429a-b56d-6a8247a4(...))\",\"subgraph_callable-2552b036-2f09-4617-9d19-d038050e(subgraph_callable-e480ef79-27fb-429a-b56d-6a8247a4(...))\",\"_\",\"_\",\"subgraph_callable-2552b036-2f09-4617-9d19-d038050e(subgraph_callable-e480ef79-27fb-429a-b56d-6a8247a4(...))\",\"subgraph_callable-2552b036-2f09-4617-9d19-d038050e(subgraph_callable-e480ef79-27fb-429a-b56d-6a8247a4(...))\",\"_\",\"subgraph_callable-2552b036-2f09-4617-9d19-d038050e(subgraph_callable-e480ef79-27fb-429a-b56d-6a8247a4(...))\",\"_\",\"subgraph_callable-2552b036-2f09-4617-9d19-d038050e(subgraph_callable-e480ef79-27fb-429a-b56d-6a8247a4(...))\",\"_\",\"subgraph_callable-2552b036-2f09-4617-9d19-d038050e(subgraph_callable-e480ef79-27fb-429a-b56d-6a8247a4(...))\",\"_\",\"subgraph_callable-2552b036-2f09-4617-9d19-d038050e(subgraph_callable-e480ef79-27fb-429a-b56d-6a8247a4(...))\",\"_\",\"subgraph_callable-2552b036-2f09-4617-9d19-d038050e(subgraph_callable-e480ef79-27fb-429a-b56d-6a8247a4(...))\",\"_\",\"subgraph_callable-2552b036-2f09-4617-9d19-d038050e(subgraph_callable-e480ef79-27fb-429a-b56d-6a8247a4(...))\",\"_\",\"subgraph_callable-2552b036-2f09-4617-9d19-d038050e(subgraph_callable-e480ef79-27fb-429a-b56d-6a8247a4(...))\",\"_\",\"subgraph_callable-2552b036-2f09-4617-9d19-d038050e(subgraph_callable-e480ef79-27fb-429a-b56d-6a8247a4(...))\",\"_\",\"subgraph_callable-2552b036-2f09-4617-9d19-d038050e(subgraph_callable-e480ef79-27fb-429a-b56d-6a8247a4(...))\",\"_\",\"subgraph_callable-2552b036-2f09-4617-9d19-d038050e(subgraph_callable-e480ef79-27fb-429a-b56d-6a8247a4(...))\",\"_\",\"subgraph_callable-2552b036-2f09-4617-9d19-d038050e(subgraph_callable-e480ef79-27fb-429a-b56d-6a8247a4(...))\",\"_\",\"subgraph_callable-2552b036-2f09-4617-9d19-d038050e(subgraph_callable-e480ef79-27fb-429a-b56d-6a8247a4(...))\",\"_\",\"subgraph_callable-2552b036-2f09-4617-9d19-d038050e(subgraph_callable-e480ef79-27fb-429a-b56d-6a8247a4(...))\",\"_\",\"subgraph_callable-2552b036-2f09-4617-9d19-d038050e(subgraph_callable-e480ef79-27fb-429a-b56d-6a8247a4(...))\",\"_\",\"subgraph_callable-2552b036-2f09-4617-9d19-d038050e(subgraph_callable-e480ef79-27fb-429a-b56d-6a8247a4(...))\",\"_\",\"subgraph_callable-2552b036-2f09-4617-9d19-d038050e(subgraph_callable-e480ef79-27fb-429a-b56d-6a8247a4(...))\",\"_\",\"subgraph_callable-2552b036-2f09-4617-9d19-d038050e(subgraph_callable-e480ef79-27fb-429a-b56d-6a8247a4(...))\",\"_\",\"subgraph_callable-2552b036-2f09-4617-9d19-d038050e(subgraph_callable-e480ef79-27fb-429a-b56d-6a8247a4(...))\",\"_\",\"subgraph_callable-2552b036-2f09-4617-9d19-d038050e(subgraph_callable-e480ef79-27fb-429a-b56d-6a8247a4(...))\",\"_\",\"subgraph_callable-2552b036-2f09-4617-9d19-d038050e(subgraph_callable-e480ef79-27fb-429a-b56d-6a8247a4(...))\",\"_\",\"subgraph_callable-2552b036-2f09-4617-9d19-d038050e(subgraph_callable-e480ef79-27fb-429a-b56d-6a8247a4(...))\",\"_\",\"subgraph_callable-2552b036-2f09-4617-9d19-d038050e(subgraph_callable-e480ef79-27fb-429a-b56d-6a8247a4(...))\",\"_\",\"subgraph_callable-2552b036-2f09-4617-9d19-d038050e(subgraph_callable-e480ef79-27fb-429a-b56d-6a8247a4(...))\",\"_\",\"subgraph_callable-2552b036-2f09-4617-9d19-d038050e(subgraph_callable-e480ef79-27fb-429a-b56d-6a8247a4(...))\",\"_\",\"subgraph_callable-2552b036-2f09-4617-9d19-d038050e(subgraph_callable-e480ef79-27fb-429a-b56d-6a8247a4(...))\",\"_\",\"subgraph_callable-2552b036-2f09-4617-9d19-d038050e(subgraph_callable-e480ef79-27fb-429a-b56d-6a8247a4(...))\",\"_\",\"subgraph_callable-2552b036-2f09-4617-9d19-d038050e(subgraph_callable-e480ef79-27fb-429a-b56d-6a8247a4(...))\",\"_\",\"subgraph_callable-2552b036-2f09-4617-9d19-d038050e(subgraph_callable-e480ef79-27fb-429a-b56d-6a8247a4(...))\",\"_\",\"subgraph_callable-2552b036-2f09-4617-9d19-d038050e(subgraph_callable-e480ef79-27fb-429a-b56d-6a8247a4(...))\",\"_\",\"subgraph_callable-2552b036-2f09-4617-9d19-d038050e(subgraph_callable-e480ef79-27fb-429a-b56d-6a8247a4(...))\",\"_\",\"subgraph_callable-2552b036-2f09-4617-9d19-d038050e(subgraph_callable-e480ef79-27fb-429a-b56d-6a8247a4(...))\",\"_\",\"subgraph_callable-2552b036-2f09-4617-9d19-d038050e(subgraph_callable-e480ef79-27fb-429a-b56d-6a8247a4(...))\",\"_\",\"subgraph_callable-2552b036-2f09-4617-9d19-d038050e(subgraph_callable-e480ef79-27fb-429a-b56d-6a8247a4(...))\",\"_\",\"subgraph_callable-2552b036-2f09-4617-9d19-d038050e(subgraph_callable-e480ef79-27fb-429a-b56d-6a8247a4(...))\",\"_\",\"subgraph_callable-2552b036-2f09-4617-9d19-d038050e(subgraph_callable-e480ef79-27fb-429a-b56d-6a8247a4(...))\",\"_\",\"subgraph_callable-2552b036-2f09-4617-9d19-d038050e(subgraph_callable-e480ef79-27fb-429a-b56d-6a8247a4(...))\",\"_\",\"subgraph_callable-2552b036-2f09-4617-9d19-d038050e(subgraph_callable-e480ef79-27fb-429a-b56d-6a8247a4(...))\",\"_\",\"_\",\"subgraph_callable-2552b036-2f09-4617-9d19-d038050e(subgraph_callable-e480ef79-27fb-429a-b56d-6a8247a4(...))\",\"subgraph_callable-2552b036-2f09-4617-9d19-d038050e(subgraph_callable-e480ef79-27fb-429a-b56d-6a8247a4(...))\",\"_\",\"_\",\"subgraph_callable-2552b036-2f09-4617-9d19-d038050e(subgraph_callable-e480ef79-27fb-429a-b56d-6a8247a4(...))\",\"subgraph_callable-2552b036-2f09-4617-9d19-d038050e(subgraph_callable-e480ef79-27fb-429a-b56d-6a8247a4(...))\",\"_\",\"subgraph_callable-2552b036-2f09-4617-9d19-d038050e(subgraph_callable-e480ef79-27fb-429a-b56d-6a8247a4(...))\",\"_\",\"subgraph_callable-2552b036-2f09-4617-9d19-d038050e(subgraph_callable-e480ef79-27fb-429a-b56d-6a8247a4(...))\",\"_\",\"subgraph_callable-2552b036-2f09-4617-9d19-d038050e(subgraph_callable-e480ef79-27fb-429a-b56d-6a8247a4(...))\",\"_\",\"subgraph_callable-2552b036-2f09-4617-9d19-d038050e(subgraph_callable-e480ef79-27fb-429a-b56d-6a8247a4(...))\",\"_\",\"subgraph_callable-2552b036-2f09-4617-9d19-d038050e(subgraph_callable-e480ef79-27fb-429a-b56d-6a8247a4(...))\",\"_\",\"subgraph_callable-2552b036-2f09-4617-9d19-d038050e(subgraph_callable-e480ef79-27fb-429a-b56d-6a8247a4(...))\",\"_\",\"subgraph_callable-2552b036-2f09-4617-9d19-d038050e(subgraph_callable-e480ef79-27fb-429a-b56d-6a8247a4(...))\",\"_\",\"subgraph_callable-2552b036-2f09-4617-9d19-d038050e(subgraph_callable-e480ef79-27fb-429a-b56d-6a8247a4(...))\",\"_\",\"subgraph_callable-2552b036-2f09-4617-9d19-d038050e(subgraph_callable-e480ef79-27fb-429a-b56d-6a8247a4(...))\",\"_\",\"subgraph_callable-2552b036-2f09-4617-9d19-d038050e(subgraph_callable-e480ef79-27fb-429a-b56d-6a8247a4(...))\",\"_\",\"subgraph_callable-2552b036-2f09-4617-9d19-d038050e(subgraph_callable-e480ef79-27fb-429a-b56d-6a8247a4(...))\",\"_\",\"subgraph_callable-2552b036-2f09-4617-9d19-d038050e(subgraph_callable-e480ef79-27fb-429a-b56d-6a8247a4(...))\",\"_\",\"subgraph_callable-2552b036-2f09-4617-9d19-d038050e(subgraph_callable-e480ef79-27fb-429a-b56d-6a8247a4(...))\",\"_\",\"subgraph_callable-2552b036-2f09-4617-9d19-d038050e(subgraph_callable-e480ef79-27fb-429a-b56d-6a8247a4(...))\",\"_\",\"mean_combine([_, _])\",\"subgraph_callable-2552b036-2f09-4617-9d19-d038050e(subgraph_callable-e480ef79-27fb-429a-b56d-6a8247a4(...))\",\"_\",\"mean_combine([_, _])\",\"subgraph_callable-2552b036-2f09-4617-9d19-d038050e(subgraph_callable-e480ef79-27fb-429a-b56d-6a8247a4(...))\",\"_\",\"_\",\"mean_combine([_, _])\",\"mean_combine([_, _])\",\"subgraph_callable-2552b036-2f09-4617-9d19-d038050e(subgraph_callable-e480ef79-27fb-429a-b56d-6a8247a4(...))\",\"subgraph_callable-2552b036-2f09-4617-9d19-d038050e(subgraph_callable-e480ef79-27fb-429a-b56d-6a8247a4(...))\",\"_\",\"mean_combine([_, _])\",\"subgraph_callable-2552b036-2f09-4617-9d19-d038050e(subgraph_callable-e480ef79-27fb-429a-b56d-6a8247a4(...))\",\"_\",\"mean_combine([_, _])\",\"subgraph_callable-2552b036-2f09-4617-9d19-d038050e(subgraph_callable-e480ef79-27fb-429a-b56d-6a8247a4(...))\",\"_\",\"mean_combine([_, _])\",\"subgraph_callable-2552b036-2f09-4617-9d19-d038050e(subgraph_callable-e480ef79-27fb-429a-b56d-6a8247a4(...))\",\"_\",\"mean_combine([_, _])\",\"subgraph_callable-2552b036-2f09-4617-9d19-d038050e(subgraph_callable-e480ef79-27fb-429a-b56d-6a8247a4(...))\",\"_\",\"mean_combine([_, _])\",\"subgraph_callable-2552b036-2f09-4617-9d19-d038050e(subgraph_callable-e480ef79-27fb-429a-b56d-6a8247a4(...))\",\"_\",\"_\",\"mean_combine([_, _])\",\"mean_combine([_, _])\",\"subgraph_callable-2552b036-2f09-4617-9d19-d038050e(subgraph_callable-e480ef79-27fb-429a-b56d-6a8247a4(...))\",\"subgraph_callable-2552b036-2f09-4617-9d19-d038050e(subgraph_callable-e480ef79-27fb-429a-b56d-6a8247a4(...))\",\"_\",\"mean_combine([_, _])\",\"subgraph_callable-2552b036-2f09-4617-9d19-d038050e(subgraph_callable-e480ef79-27fb-429a-b56d-6a8247a4(...))\",\"_\",\"mean_combine([_, _])\",\"subgraph_callable-2552b036-2f09-4617-9d19-d038050e(subgraph_callable-e480ef79-27fb-429a-b56d-6a8247a4(...))\",\"_\",\"mean_combine([_, _])\",\"subgraph_callable-2552b036-2f09-4617-9d19-d038050e(subgraph_callable-e480ef79-27fb-429a-b56d-6a8247a4(...))\",\"_\",\"mean_combine([_, _])\",\"subgraph_callable-2552b036-2f09-4617-9d19-d038050e(subgraph_callable-e480ef79-27fb-429a-b56d-6a8247a4(...))\",\"_\",\"mean_combine([_, _])\",\"subgraph_callable-2552b036-2f09-4617-9d19-d038050e(subgraph_callable-e480ef79-27fb-429a-b56d-6a8247a4(...))\",\"_\",\"mean_combine([_, _])\",\"subgraph_callable-2552b036-2f09-4617-9d19-d038050e(subgraph_callable-e480ef79-27fb-429a-b56d-6a8247a4(...))\",\"_\",\"mean_combine([_, _])\",\"subgraph_callable-2552b036-2f09-4617-9d19-d038050e(subgraph_callable-e480ef79-27fb-429a-b56d-6a8247a4(...))\",\"_\",\"mean_combine([_, _])\",\"subgraph_callable-2552b036-2f09-4617-9d19-d038050e(subgraph_callable-e480ef79-27fb-429a-b56d-6a8247a4(...))\",\"_\",\"mean_combine([_, _])\",\"subgraph_callable-2552b036-2f09-4617-9d19-d038050e(subgraph_callable-e480ef79-27fb-429a-b56d-6a8247a4(...))\",\"_\",\"mean_combine([_, _])\",\"subgraph_callable-2552b036-2f09-4617-9d19-d038050e(subgraph_callable-e480ef79-27fb-429a-b56d-6a8247a4(...))\",\"_\",\"mean_combine([_, _])\",\"subgraph_callable-2552b036-2f09-4617-9d19-d038050e(subgraph_callable-e480ef79-27fb-429a-b56d-6a8247a4(...))\",\"_\",\"mean_combine([_, _])\",\"subgraph_callable-2552b036-2f09-4617-9d19-d038050e(subgraph_callable-e480ef79-27fb-429a-b56d-6a8247a4(...))\",\"_\",\"mean_combine([_, _])\",\"subgraph_callable-2552b036-2f09-4617-9d19-d038050e(subgraph_callable-e480ef79-27fb-429a-b56d-6a8247a4(...))\",\"_\",\"mean_combine([_, _])\",\"subgraph_callable-2552b036-2f09-4617-9d19-d038050e(subgraph_callable-e480ef79-27fb-429a-b56d-6a8247a4(...))\",\"_\",\"mean_combine([_, _])\",\"subgraph_callable-2552b036-2f09-4617-9d19-d038050e(subgraph_callable-e480ef79-27fb-429a-b56d-6a8247a4(...))\",\"_\",\"mean_combine([_, _])\",\"subgraph_callable-2552b036-2f09-4617-9d19-d038050e(subgraph_callable-e480ef79-27fb-429a-b56d-6a8247a4(...))\",\"_\",\"mean_combine([_, _])\",\"subgraph_callable-2552b036-2f09-4617-9d19-d038050e(subgraph_callable-e480ef79-27fb-429a-b56d-6a8247a4(...))\",\"_\",\"mean_combine([_, _])\",\"subgraph_callable-2552b036-2f09-4617-9d19-d038050e(subgraph_callable-e480ef79-27fb-429a-b56d-6a8247a4(...))\",\"_\",\"mean_combine([_, _])\",\"subgraph_callable-2552b036-2f09-4617-9d19-d038050e(subgraph_callable-e480ef79-27fb-429a-b56d-6a8247a4(...))\",\"_\",\"mean_combine([_, _])\",\"subgraph_callable-2552b036-2f09-4617-9d19-d038050e(subgraph_callable-e480ef79-27fb-429a-b56d-6a8247a4(...))\",\"_\",\"mean_combine([_, _])\",\"subgraph_callable-2552b036-2f09-4617-9d19-d038050e(subgraph_callable-e480ef79-27fb-429a-b56d-6a8247a4(...))\",\"_\",\"mean_combine([_, _])\",\"_\",\"subgraph_callable-2552b036-2f09-4617-9d19-d038050e(subgraph_callable-e480ef79-27fb-429a-b56d-6a8247a4(...))\",\"mean_combine([_, _])\",\"subgraph_callable-2552b036-2f09-4617-9d19-d038050e(subgraph_callable-e480ef79-27fb-429a-b56d-6a8247a4(...))\",\"_\",\"mean_combine([_, _])\",\"subgraph_callable-2552b036-2f09-4617-9d19-d038050e(subgraph_callable-e480ef79-27fb-429a-b56d-6a8247a4(...))\",\"_\",\"mean_combine([_, _])\",\"subgraph_callable-2552b036-2f09-4617-9d19-d038050e(subgraph_callable-e480ef79-27fb-429a-b56d-6a8247a4(...))\",\"_\",\"mean_combine([_, _])\",\"subgraph_callable-2552b036-2f09-4617-9d19-d038050e(subgraph_callable-e480ef79-27fb-429a-b56d-6a8247a4(...))\",\"_\",\"mean_combine([_, _])\",\"subgraph_callable-2552b036-2f09-4617-9d19-d038050e(subgraph_callable-e480ef79-27fb-429a-b56d-6a8247a4(...))\",\"_\",\"mean_combine([_, _])\",\"subgraph_callable-2552b036-2f09-4617-9d19-d038050e(subgraph_callable-e480ef79-27fb-429a-b56d-6a8247a4(...))\",\"_\",\"mean_combine([_, _])\",\"subgraph_callable-2552b036-2f09-4617-9d19-d038050e(subgraph_callable-e480ef79-27fb-429a-b56d-6a8247a4(...))\",\"_\",\"mean_combine([_, _])\",\"subgraph_callable-2552b036-2f09-4617-9d19-d038050e(subgraph_callable-e480ef79-27fb-429a-b56d-6a8247a4(...))\",\"_\",\"mean_combine([_, _])\",\"subgraph_callable-2552b036-2f09-4617-9d19-d038050e(subgraph_callable-e480ef79-27fb-429a-b56d-6a8247a4(...))\",\"_\",\"mean_combine([_, _])\",\"subgraph_callable-2552b036-2f09-4617-9d19-d038050e(subgraph_callable-e480ef79-27fb-429a-b56d-6a8247a4(...))\",\"_\",\"mean_combine([_, _])\",\"_\",\"subgraph_callable-2552b036-2f09-4617-9d19-d038050e(subgraph_callable-e480ef79-27fb-429a-b56d-6a8247a4(...))\",\"mean_combine([_, _])\",\"subgraph_callable-2552b036-2f09-4617-9d19-d038050e(subgraph_callable-e480ef79-27fb-429a-b56d-6a8247a4(...))\",\"_\",\"mean_combine([_, _])\",\"subgraph_callable-2552b036-2f09-4617-9d19-d038050e(subgraph_callable-e480ef79-27fb-429a-b56d-6a8247a4(...))\",\"_\",\"mean_combine([_, _])\",\"subgraph_callable-2552b036-2f09-4617-9d19-d038050e(subgraph_callable-e480ef79-27fb-429a-b56d-6a8247a4(...))\",\"_\",\"mean_combine([_, _])\",\"subgraph_callable-2552b036-2f09-4617-9d19-d038050e(subgraph_callable-e480ef79-27fb-429a-b56d-6a8247a4(...))\",\"_\",\"mean_combine([_, _])\",\"subgraph_callable-2552b036-2f09-4617-9d19-d038050e(subgraph_callable-e480ef79-27fb-429a-b56d-6a8247a4(...))\",\"_\",\"mean_combine([_, _])\",\"subgraph_callable-2552b036-2f09-4617-9d19-d038050e(subgraph_callable-e480ef79-27fb-429a-b56d-6a8247a4(...))\",\"_\",\"mean_combine([_, _])\",\"subgraph_callable-2552b036-2f09-4617-9d19-d038050e(subgraph_callable-e480ef79-27fb-429a-b56d-6a8247a4(...))\",\"_\",\"mean_combine([_, _])\",\"subgraph_callable-2552b036-2f09-4617-9d19-d038050e(subgraph_callable-e480ef79-27fb-429a-b56d-6a8247a4(...))\",\"_\",\"mean_combine([_, _])\",\"_\",\"subgraph_callable-2552b036-2f09-4617-9d19-d038050e(subgraph_callable-e480ef79-27fb-429a-b56d-6a8247a4(...))\",\"mean_combine([_, _])\",\"subgraph_callable-2552b036-2f09-4617-9d19-d038050e(subgraph_callable-e480ef79-27fb-429a-b56d-6a8247a4(...))\",\"_\",\"mean_combine([_, _])\",\"subgraph_callable-2552b036-2f09-4617-9d19-d038050e(subgraph_callable-e480ef79-27fb-429a-b56d-6a8247a4(...))\",\"_\",\"mean_combine([_, _])\",\"subgraph_callable-2552b036-2f09-4617-9d19-d038050e(subgraph_callable-e480ef79-27fb-429a-b56d-6a8247a4(...))\",\"_\",\"mean_combine([_, _])\",\"subgraph_callable-2552b036-2f09-4617-9d19-d038050e(subgraph_callable-e480ef79-27fb-429a-b56d-6a8247a4(...))\",\"_\",\"mean_combine([_, _])\",\"subgraph_callable-2552b036-2f09-4617-9d19-d038050e(subgraph_callable-e480ef79-27fb-429a-b56d-6a8247a4(...))\",\"_\",\"mean_combine([_, _])\",\"subgraph_callable-2552b036-2f09-4617-9d19-d038050e(subgraph_callable-e480ef79-27fb-429a-b56d-6a8247a4(...))\",\"_\",\"mean_combine([_, _])\",\"subgraph_callable-2552b036-2f09-4617-9d19-d038050e(subgraph_callable-e480ef79-27fb-429a-b56d-6a8247a4(...))\",\"_\",\"mean_combine([_, _])\",\"subgraph_callable-2552b036-2f09-4617-9d19-d038050e(subgraph_callable-e480ef79-27fb-429a-b56d-6a8247a4(...))\",\"_\",\"mean_combine([_, _])\",\"subgraph_callable-2552b036-2f09-4617-9d19-d038050e(subgraph_callable-e480ef79-27fb-429a-b56d-6a8247a4(...))\",\"_\",\"mean_combine([_, _])\",\"subgraph_callable-2552b036-2f09-4617-9d19-d038050e(subgraph_callable-e480ef79-27fb-429a-b56d-6a8247a4(...))\",\"_\",\"mean_combine([_, _])\",\"mean_agg([_, _])\",\"subgraph_callable-2552b036-2f09-4617-9d19-d038050e(subgraph_callable-e480ef79-27fb-429a-b56d-6a8247a4(...))\",\"_\",\"mean_combine([_, _])\",\"mean_agg([_, _])\",\"subgraph_callable-2552b036-2f09-4617-9d19-d038050e(subgraph_callable-e480ef79-27fb-429a-b56d-6a8247a4(...))\",\"_\",\"subgraph_callable-2552b036-2f09-4617-9d19-d038050e(subgraph_callable-e480ef79-27fb-429a-b56d-6a8247a4(...))\",\"_\",\"mean_combine([_, _])\",\"mean_agg([_, _])\",\"subgraph_callable-2552b036-2f09-4617-9d19-d038050e(subgraph_callable-e480ef79-27fb-429a-b56d-6a8247a4(...))\",\"_\",\"mean_combine([_, _])\",\"mean_agg([_, _])\",\"_\",\"subgraph_callable-2552b036-2f09-4617-9d19-d038050e(subgraph_callable-e480ef79-27fb-429a-b56d-6a8247a4(...))\",\"subgraph_callable-2552b036-2f09-4617-9d19-d038050e(subgraph_callable-e480ef79-27fb-429a-b56d-6a8247a4(...))\",\"_\",\"subgraph_callable-2552b036-2f09-4617-9d19-d038050e(subgraph_callable-e480ef79-27fb-429a-b56d-6a8247a4(...))\",\"_\",\"subgraph_callable-2552b036-2f09-4617-9d19-d038050e(subgraph_callable-e480ef79-27fb-429a-b56d-6a8247a4(...))\",\"_\",\"subgraph_callable-2552b036-2f09-4617-9d19-d038050e(subgraph_callable-e480ef79-27fb-429a-b56d-6a8247a4(...))\",\"_\",\"subgraph_callable-2552b036-2f09-4617-9d19-d038050e(subgraph_callable-e480ef79-27fb-429a-b56d-6a8247a4(...))\",\"_\",\"subgraph_callable-2552b036-2f09-4617-9d19-d038050e(subgraph_callable-e480ef79-27fb-429a-b56d-6a8247a4(...))\",\"_\",\"_\",\"subgraph_callable-2552b036-2f09-4617-9d19-d038050e(subgraph_callable-e480ef79-27fb-429a-b56d-6a8247a4(...))\",\"subgraph_callable-2552b036-2f09-4617-9d19-d038050e(subgraph_callable-e480ef79-27fb-429a-b56d-6a8247a4(...))\",\"_\",\"subgraph_callable-2552b036-2f09-4617-9d19-d038050e(subgraph_callable-e480ef79-27fb-429a-b56d-6a8247a4(...))\",\"_\",\"subgraph_callable-2552b036-2f09-4617-9d19-d038050e(subgraph_callable-e480ef79-27fb-429a-b56d-6a8247a4(...))\",\"_\",\"subgraph_callable-2552b036-2f09-4617-9d19-d038050e(subgraph_callable-e480ef79-27fb-429a-b56d-6a8247a4(...))\",\"_\",\"subgraph_callable-2552b036-2f09-4617-9d19-d038050e(subgraph_callable-e480ef79-27fb-429a-b56d-6a8247a4(...))\",\"_\",\"_\",\"subgraph_callable-2552b036-2f09-4617-9d19-d038050e(subgraph_callable-e480ef79-27fb-429a-b56d-6a8247a4(...))\",\"subgraph_callable-2552b036-2f09-4617-9d19-d038050e(subgraph_callable-e480ef79-27fb-429a-b56d-6a8247a4(...))\",\"_\",\"subgraph_callable-2552b036-2f09-4617-9d19-d038050e(subgraph_callable-e480ef79-27fb-429a-b56d-6a8247a4(...))\",\"_\",\"subgraph_callable-2552b036-2f09-4617-9d19-d038050e(subgraph_callable-e480ef79-27fb-429a-b56d-6a8247a4(...))\",\"_\",\"subgraph_callable-2552b036-2f09-4617-9d19-d038050e(subgraph_callable-e480ef79-27fb-429a-b56d-6a8247a4(...))\",\"_\",\"subgraph_callable-2552b036-2f09-4617-9d19-d038050e(subgraph_callable-e480ef79-27fb-429a-b56d-6a8247a4(...))\",\"_\",\"subgraph_callable-2552b036-2f09-4617-9d19-d038050e(subgraph_callable-e480ef79-27fb-429a-b56d-6a8247a4(...))\",\"_\",\"subgraph_callable-2552b036-2f09-4617-9d19-d038050e(subgraph_callable-e480ef79-27fb-429a-b56d-6a8247a4(...))\",\"_\",\"subgraph_callable-2552b036-2f09-4617-9d19-d038050e(subgraph_callable-e480ef79-27fb-429a-b56d-6a8247a4(...))\",\"_\",\"subgraph_callable-2552b036-2f09-4617-9d19-d038050e(subgraph_callable-e480ef79-27fb-429a-b56d-6a8247a4(...))\",\"_\",\"subgraph_callable-2552b036-2f09-4617-9d19-d038050e(subgraph_callable-e480ef79-27fb-429a-b56d-6a8247a4(...))\",\"_\",\"subgraph_callable-2552b036-2f09-4617-9d19-d038050e(subgraph_callable-e480ef79-27fb-429a-b56d-6a8247a4(...))\",\"_\",\"subgraph_callable-2552b036-2f09-4617-9d19-d038050e(subgraph_callable-e480ef79-27fb-429a-b56d-6a8247a4(...))\",\"_\",\"subgraph_callable-2552b036-2f09-4617-9d19-d038050e(subgraph_callable-e480ef79-27fb-429a-b56d-6a8247a4(...))\",\"_\",\"subgraph_callable-2552b036-2f09-4617-9d19-d038050e(subgraph_callable-e480ef79-27fb-429a-b56d-6a8247a4(...))\",\"_\",\"subgraph_callable-2552b036-2f09-4617-9d19-d038050e(subgraph_callable-e480ef79-27fb-429a-b56d-6a8247a4(...))\",\"_\",\"subgraph_callable-2552b036-2f09-4617-9d19-d038050e(subgraph_callable-e480ef79-27fb-429a-b56d-6a8247a4(...))\",\"_\",\"subgraph_callable-2552b036-2f09-4617-9d19-d038050e(subgraph_callable-e480ef79-27fb-429a-b56d-6a8247a4(...))\",\"_\",\"subgraph_callable-2552b036-2f09-4617-9d19-d038050e(subgraph_callable-e480ef79-27fb-429a-b56d-6a8247a4(...))\",\"_\",\"subgraph_callable-2552b036-2f09-4617-9d19-d038050e(subgraph_callable-e480ef79-27fb-429a-b56d-6a8247a4(...))\",\"_\",\"subgraph_callable-2552b036-2f09-4617-9d19-d038050e(subgraph_callable-e480ef79-27fb-429a-b56d-6a8247a4(...))\",\"_\",\"subgraph_callable-2552b036-2f09-4617-9d19-d038050e(subgraph_callable-e480ef79-27fb-429a-b56d-6a8247a4(...))\",\"_\",\"subgraph_callable-2552b036-2f09-4617-9d19-d038050e(subgraph_callable-e480ef79-27fb-429a-b56d-6a8247a4(...))\",\"_\",\"subgraph_callable-2552b036-2f09-4617-9d19-d038050e(subgraph_callable-e480ef79-27fb-429a-b56d-6a8247a4(...))\",\"_\",\"subgraph_callable-2552b036-2f09-4617-9d19-d038050e(subgraph_callable-e480ef79-27fb-429a-b56d-6a8247a4(...))\",\"_\",\"subgraph_callable-2552b036-2f09-4617-9d19-d038050e(subgraph_callable-e480ef79-27fb-429a-b56d-6a8247a4(...))\",\"_\",\"subgraph_callable-2552b036-2f09-4617-9d19-d038050e(subgraph_callable-e480ef79-27fb-429a-b56d-6a8247a4(...))\",\"_\",\"subgraph_callable-2552b036-2f09-4617-9d19-d038050e(subgraph_callable-e480ef79-27fb-429a-b56d-6a8247a4(...))\",\"_\",\"subgraph_callable-2552b036-2f09-4617-9d19-d038050e(subgraph_callable-e480ef79-27fb-429a-b56d-6a8247a4(...))\",\"_\",\"subgraph_callable-2552b036-2f09-4617-9d19-d038050e(subgraph_callable-e480ef79-27fb-429a-b56d-6a8247a4(...))\",\"_\",\"subgraph_callable-2552b036-2f09-4617-9d19-d038050e(subgraph_callable-e480ef79-27fb-429a-b56d-6a8247a4(...))\",\"_\",\"subgraph_callable-2552b036-2f09-4617-9d19-d038050e(subgraph_callable-e480ef79-27fb-429a-b56d-6a8247a4(...))\",\"_\",\"subgraph_callable-2552b036-2f09-4617-9d19-d038050e(subgraph_callable-e480ef79-27fb-429a-b56d-6a8247a4(...))\",\"_\",\"subgraph_callable-2552b036-2f09-4617-9d19-d038050e(subgraph_callable-e480ef79-27fb-429a-b56d-6a8247a4(...))\",\"_\",\"subgraph_callable-2552b036-2f09-4617-9d19-d038050e(subgraph_callable-e480ef79-27fb-429a-b56d-6a8247a4(...))\",\"_\",\"subgraph_callable-2552b036-2f09-4617-9d19-d038050e(subgraph_callable-e480ef79-27fb-429a-b56d-6a8247a4(...))\",\"_\",\"subgraph_callable-2552b036-2f09-4617-9d19-d038050e(subgraph_callable-e480ef79-27fb-429a-b56d-6a8247a4(...))\",\"_\",\"subgraph_callable-2552b036-2f09-4617-9d19-d038050e(subgraph_callable-e480ef79-27fb-429a-b56d-6a8247a4(...))\",\"_\",\"subgraph_callable-2552b036-2f09-4617-9d19-d038050e(subgraph_callable-e480ef79-27fb-429a-b56d-6a8247a4(...))\",\"_\",\"subgraph_callable-2552b036-2f09-4617-9d19-d038050e(subgraph_callable-e480ef79-27fb-429a-b56d-6a8247a4(...))\",\"_\",\"subgraph_callable-2552b036-2f09-4617-9d19-d038050e(subgraph_callable-e480ef79-27fb-429a-b56d-6a8247a4(...))\",\"_\",\"subgraph_callable-2552b036-2f09-4617-9d19-d038050e(subgraph_callable-e480ef79-27fb-429a-b56d-6a8247a4(...))\",\"_\",\"subgraph_callable-2552b036-2f09-4617-9d19-d038050e(subgraph_callable-e480ef79-27fb-429a-b56d-6a8247a4(...))\",\"_\",\"subgraph_callable-2552b036-2f09-4617-9d19-d038050e(subgraph_callable-e480ef79-27fb-429a-b56d-6a8247a4(...))\",\"_\",\"subgraph_callable-2552b036-2f09-4617-9d19-d038050e(subgraph_callable-e480ef79-27fb-429a-b56d-6a8247a4(...))\",\"_\",\"subgraph_callable-2552b036-2f09-4617-9d19-d038050e(subgraph_callable-e480ef79-27fb-429a-b56d-6a8247a4(...))\",\"_\",\"mean_combine([_, _])\",\"mean_agg([_, _])\",\"subgraph_callable-2552b036-2f09-4617-9d19-d038050e(subgraph_callable-e480ef79-27fb-429a-b56d-6a8247a4(...))\",\"_\",\"_\",\"mean_combine([_, _])\",\"mean_combine([_, _])\",\"mean_agg([_, _])\",\"mean_agg([_, _])\",\"subgraph_callable-2552b036-2f09-4617-9d19-d038050e(subgraph_callable-e480ef79-27fb-429a-b56d-6a8247a4(...))\",\"subgraph_callable-2552b036-2f09-4617-9d19-d038050e(subgraph_callable-e480ef79-27fb-429a-b56d-6a8247a4(...))\",\"_\",\"mean_combine([_, _])\",\"mean_agg([_, _])\",\"subgraph_callable-2552b036-2f09-4617-9d19-d038050e(subgraph_callable-e480ef79-27fb-429a-b56d-6a8247a4(...))\",\"_\",\"mean_combine([_, _])\",\"mean_agg([_, _])\",\"subgraph_callable-2552b036-2f09-4617-9d19-d038050e(subgraph_callable-e480ef79-27fb-429a-b56d-6a8247a4(...))\",\"_\",\"mean_combine([_, _])\",\"mean_agg([_, _])\",\"_\",\"subgraph_callable-2552b036-2f09-4617-9d19-d038050e(subgraph_callable-e480ef79-27fb-429a-b56d-6a8247a4(...))\",\"mean_combine([_, _])\",\"mean_agg([_, _])\",\"subgraph_callable-2552b036-2f09-4617-9d19-d038050e(subgraph_callable-e480ef79-27fb-429a-b56d-6a8247a4(...))\",\"_\",\"mean_combine([_, _])\",\"mean_agg([_, _])\",\"subgraph_callable-2552b036-2f09-4617-9d19-d038050e(subgraph_callable-e480ef79-27fb-429a-b56d-6a8247a4(...))\",\"_\",\"mean_combine([_, _])\",\"mean_agg([_, _])\",\"subgraph_callable-2552b036-2f09-4617-9d19-d038050e(subgraph_callable-e480ef79-27fb-429a-b56d-6a8247a4(...))\",\"_\",\"mean_combine([_, _])\",\"mean_agg([_, _])\",\"subgraph_callable-2552b036-2f09-4617-9d19-d038050e(subgraph_callable-e480ef79-27fb-429a-b56d-6a8247a4(...))\",\"_\",\"mean_combine([_, _])\",\"mean_agg([_, _])\",\"subgraph_callable-2552b036-2f09-4617-9d19-d038050e(subgraph_callable-e480ef79-27fb-429a-b56d-6a8247a4(...))\",\"_\",\"mean_combine([_, _])\",\"mean_agg([_, _])\",\"subgraph_callable-2552b036-2f09-4617-9d19-d038050e(subgraph_callable-e480ef79-27fb-429a-b56d-6a8247a4(...))\",\"_\",\"mean_combine([_, _])\",\"mean_agg([_, _])\",\"subgraph_callable-2552b036-2f09-4617-9d19-d038050e(subgraph_callable-e480ef79-27fb-429a-b56d-6a8247a4(...))\",\"_\",\"mean_combine([_, _])\",\"mean_agg([_, _])\",\"subgraph_callable-2552b036-2f09-4617-9d19-d038050e(subgraph_callable-e480ef79-27fb-429a-b56d-6a8247a4(...))\",\"_\",\"mean_combine([_, _])\",\"mean_agg([_, _])\",\"subgraph_callable-2552b036-2f09-4617-9d19-d038050e(subgraph_callable-e480ef79-27fb-429a-b56d-6a8247a4(...))\",\"_\",\"_\",\"mean_combine([_, _])\",\"mean_combine([_, _])\",\"mean_agg([_, _])\",\"mean_agg([_, _])\",\"subgraph_callable-2552b036-2f09-4617-9d19-d038050e(subgraph_callable-e480ef79-27fb-429a-b56d-6a8247a4(...))\",\"subgraph_callable-2552b036-2f09-4617-9d19-d038050e(subgraph_callable-e480ef79-27fb-429a-b56d-6a8247a4(...))\",\"_\",\"mean_combine([_, _])\",\"mean_agg([_, _])\",\"subgraph_callable-2552b036-2f09-4617-9d19-d038050e(subgraph_callable-e480ef79-27fb-429a-b56d-6a8247a4(...))\",\"_\",\"mean_combine([_, _])\",\"mean_agg([_, _])\",\"subgraph_callable-2552b036-2f09-4617-9d19-d038050e(subgraph_callable-e480ef79-27fb-429a-b56d-6a8247a4(...))\",\"_\",\"mean_combine([_, _])\",\"mean_agg([_, _])\",\"subgraph_callable-2552b036-2f09-4617-9d19-d038050e(subgraph_callable-e480ef79-27fb-429a-b56d-6a8247a4(...))\",\"_\",\"mean_combine([_, _])\",\"mean_agg([_, _])\",\"subgraph_callable-2552b036-2f09-4617-9d19-d038050e(subgraph_callable-e480ef79-27fb-429a-b56d-6a8247a4(...))\",\"_\",\"mean_combine([_, _])\",\"mean_agg([_, _])\",\"subgraph_callable-2552b036-2f09-4617-9d19-d038050e(subgraph_callable-e480ef79-27fb-429a-b56d-6a8247a4(...))\",\"_\",\"mean_combine([_, _])\",\"mean_agg([_, _])\",\"subgraph_callable-2552b036-2f09-4617-9d19-d038050e(subgraph_callable-e480ef79-27fb-429a-b56d-6a8247a4(...))\",\"_\",\"mean_combine([_, _])\",\"mean_agg([_, _])\",\"subgraph_callable-2552b036-2f09-4617-9d19-d038050e(subgraph_callable-e480ef79-27fb-429a-b56d-6a8247a4(...))\",\"_\",\"mean_combine([_, _])\",\"mean_agg([_, _])\",\"subgraph_callable-2552b036-2f09-4617-9d19-d038050e(subgraph_callable-e480ef79-27fb-429a-b56d-6a8247a4(...))\",\"_\",\"mean_combine([_, _])\",\"mean_agg([_, _])\",\"subgraph_callable-2552b036-2f09-4617-9d19-d038050e(subgraph_callable-e480ef79-27fb-429a-b56d-6a8247a4(...))\",\"_\",\"mean_combine([_, _])\",\"mean_agg([_, _])\",\"subgraph_callable-2552b036-2f09-4617-9d19-d038050e(subgraph_callable-e480ef79-27fb-429a-b56d-6a8247a4(...))\",\"_\",\"mean_combine([_, _])\",\"_\",\"mean_agg([_, _])\",\"mean_combine([_, _])\",\"subgraph_callable-2552b036-2f09-4617-9d19-d038050e(subgraph_callable-e480ef79-27fb-429a-b56d-6a8247a4(...))\",\"mean_agg([_, _])\",\"subgraph_callable-2552b036-2f09-4617-9d19-d038050e(subgraph_callable-e480ef79-27fb-429a-b56d-6a8247a4(...))\",\"_\",\"_\",\"mean_combine([_, _])\",\"mean_combine([_, _])\",\"mean_agg([_, _])\",\"mean_agg([_, _])\",\"subgraph_callable-2552b036-2f09-4617-9d19-d038050e(subgraph_callable-e480ef79-27fb-429a-b56d-6a8247a4(...))\",\"subgraph_callable-2552b036-2f09-4617-9d19-d038050e(subgraph_callable-e480ef79-27fb-429a-b56d-6a8247a4(...))\",\"_\",\"mean_combine([_, _])\",\"mean_agg([_, _])\",\"subgraph_callable-2552b036-2f09-4617-9d19-d038050e(subgraph_callable-e480ef79-27fb-429a-b56d-6a8247a4(...))\",\"_\",\"mean_combine([_, _])\",\"mean_agg([_, _])\",\"subgraph_callable-2552b036-2f09-4617-9d19-d038050e(subgraph_callable-e480ef79-27fb-429a-b56d-6a8247a4(...))\",\"_\",\"mean_combine([_, _])\",\"mean_agg([_, _])\",\"subgraph_callable-2552b036-2f09-4617-9d19-d038050e(subgraph_callable-e480ef79-27fb-429a-b56d-6a8247a4(...))\",\"_\",\"mean_combine([_, _])\",\"mean_agg([_, _])\",\"subgraph_callable-2552b036-2f09-4617-9d19-d038050e(subgraph_callable-e480ef79-27fb-429a-b56d-6a8247a4(...))\",\"_\",\"mean_combine([_, _])\",\"mean_agg([_, _])\",\"subgraph_callable-2552b036-2f09-4617-9d19-d038050e(subgraph_callable-e480ef79-27fb-429a-b56d-6a8247a4(...))\",\"_\",\"_\",\"mean_combine([_, _])\",\"mean_combine([_, _])\",\"mean_agg([_, _])\",\"mean_agg([_, _])\",\"subgraph_callable-2552b036-2f09-4617-9d19-d038050e(subgraph_callable-e480ef79-27fb-429a-b56d-6a8247a4(...))\",\"subgraph_callable-2552b036-2f09-4617-9d19-d038050e(subgraph_callable-e480ef79-27fb-429a-b56d-6a8247a4(...))\",\"_\",\"mean_combine([_, _])\",\"mean_agg([_, _])\",\"subgraph_callable-2552b036-2f09-4617-9d19-d038050e(subgraph_callable-e480ef79-27fb-429a-b56d-6a8247a4(...))\",\"_\",\"mean_combine([_, _])\",\"mean_agg([_, _])\",\"subgraph_callable-2552b036-2f09-4617-9d19-d038050e(subgraph_callable-e480ef79-27fb-429a-b56d-6a8247a4(...))\",\"_\",\"mean_combine([_, _])\",\"mean_agg([_, _])\",\"subgraph_callable-2552b036-2f09-4617-9d19-d038050e(subgraph_callable-e480ef79-27fb-429a-b56d-6a8247a4(...))\",\"_\",\"mean_combine([_, _])\",\"mean_agg([_, _])\",\"subgraph_callable-2552b036-2f09-4617-9d19-d038050e(subgraph_callable-e480ef79-27fb-429a-b56d-6a8247a4(...))\",\"_\",\"mean_combine([_, _])\",\"mean_agg([_, _])\",\"subgraph_callable-2552b036-2f09-4617-9d19-d038050e(subgraph_callable-e480ef79-27fb-429a-b56d-6a8247a4(...))\",\"_\",\"mean_combine([_, _])\",\"mean_agg([_, _])\",\"subgraph_callable-2552b036-2f09-4617-9d19-d038050e(subgraph_callable-e480ef79-27fb-429a-b56d-6a8247a4(...))\",\"_\",\"mean_combine([_, _])\",\"mean_agg([_, _])\",\"subgraph_callable-2552b036-2f09-4617-9d19-d038050e(subgraph_callable-e480ef79-27fb-429a-b56d-6a8247a4(...))\",\"_\",\"mean_combine([_, _])\",\"mean_agg([_, _])\",\"subgraph_callable-2552b036-2f09-4617-9d19-d038050e(subgraph_callable-e480ef79-27fb-429a-b56d-6a8247a4(...))\",\"_\",\"mean_combine([_, _])\",\"mean_agg([_, _])\",\"subgraph_callable-2552b036-2f09-4617-9d19-d038050e(subgraph_callable-e480ef79-27fb-429a-b56d-6a8247a4(...))\",\"_\",\"mean_combine([_, _])\",\"mean_agg([_, _])\",\"subgraph_callable-2552b036-2f09-4617-9d19-d038050e(subgraph_callable-e480ef79-27fb-429a-b56d-6a8247a4(...))\",\"_\",\"mean_combine([_, _])\",\"mean_agg([_, _])\",\"subgraph_callable-2552b036-2f09-4617-9d19-d038050e(subgraph_callable-e480ef79-27fb-429a-b56d-6a8247a4(...))\",\"_\",\"mean_combine([_, _])\",\"mean_agg([_, _])\",\"subgraph_callable-2552b036-2f09-4617-9d19-d038050e(subgraph_callable-e480ef79-27fb-429a-b56d-6a8247a4(...))\",\"_\",\"mean_combine([_, _])\",\"mean_agg([_, _])\",\"subgraph_callable-2552b036-2f09-4617-9d19-d038050e(subgraph_callable-e480ef79-27fb-429a-b56d-6a8247a4(...))\",\"_\",\"mean_combine([_, _])\",\"mean_agg([_, _])\",\"_\",\"mean_combine([_, _])\",\"mean_agg([_, _])\",\"_\",\"mean_combine([_, _])\",\"mean_agg([_, _])\",\"_\",\"mean_combine([_, _])\",\"mean_agg([_, _])\",\"_\",\"mean_combine([_, _])\",\"mean_agg([_, _])\",\"_\",\"mean_combine([_, _])\",\"mean_agg([_, _])\",\"_\",\"mean_combine([_, _])\",\"mean_agg([_, _])\",\"_\",\"mean_combine([_, _])\",\"mean_agg([_, _])\"],\"key\":[\"('from-value-frozen_phonon-concatenate-ec6f69b501448b1f7220e7e31ea2c8c9', 0)\",\"('from-value-frozen_phonon-concatenate-ec6f69b501448b1f7220e7e31ea2c8c9', 1)\",\"('from-value-frozen_phonon-concatenate-ec6f69b501448b1f7220e7e31ea2c8c9', 2)\",\"('from-value-frozen_phonon-concatenate-ec6f69b501448b1f7220e7e31ea2c8c9', 3)\",\"('concatenate-ec6f69b501448b1f7220e7e31ea2c8c9', 0)\",\"('concatenate-ec6f69b501448b1f7220e7e31ea2c8c9', 1)\",\"('concatenate-ec6f69b501448b1f7220e7e31ea2c8c9', 2)\",\"('concatenate-ec6f69b501448b1f7220e7e31ea2c8c9', 3)\",\"('diffraction_pattern-integrate_fourier_space-mean_chunk-68721205b5927e385fce276bb2c3877d', 0, 0, 0)\",\"('diffraction_pattern-integrate_fourier_space-mean_chunk-68721205b5927e385fce276bb2c3877d', 0, 1, 1)\",\"('diffraction_pattern-integrate_fourier_space-mean_chunk-68721205b5927e385fce276bb2c3877d', 0, 2, 2)\",\"('diffraction_pattern-integrate_fourier_space-mean_chunk-68721205b5927e385fce276bb2c3877d', 0, 3, 3)\",\"('diffraction_pattern-integrate_fourier_space-mean_chunk-68721205b5927e385fce276bb2c3877d', 0, 4, 4)\",\"('diffraction_pattern-integrate_fourier_space-mean_chunk-68721205b5927e385fce276bb2c3877d', 1, 0, 0)\",\"('diffraction_pattern-integrate_fourier_space-mean_chunk-68721205b5927e385fce276bb2c3877d', 2, 0, 0)\",\"('diffraction_pattern-integrate_fourier_space-mean_chunk-68721205b5927e385fce276bb2c3877d', 3, 0, 0)\",\"('mean_chunk-68721205b5927e385fce276bb2c3877d', 0, 2, 2)\",\"('diffraction_pattern-integrate_fourier_space-mean_chunk-68721205b5927e385fce276bb2c3877d', 3, 1, 1)\",\"('mean_chunk-68721205b5927e385fce276bb2c3877d', 0, 3, 3)\",\"('diffraction_pattern-integrate_fourier_space-mean_chunk-68721205b5927e385fce276bb2c3877d', 3, 2, 2)\",\"('mean_chunk-68721205b5927e385fce276bb2c3877d', 2, 0, 0)\",\"('diffraction_pattern-integrate_fourier_space-mean_chunk-68721205b5927e385fce276bb2c3877d', 3, 3, 3)\",\"('mean_chunk-68721205b5927e385fce276bb2c3877d', 3, 0, 0)\",\"('mean_combine-partial-86b5b29207933bee7d0115aeefd707eb', 1, 0, 0)\",\"('mean_chunk-68721205b5927e385fce276bb2c3877d', 0, 4, 4)\",\"('diffraction_pattern-integrate_fourier_space-mean_chunk-68721205b5927e385fce276bb2c3877d', 3, 4, 4)\",\"('mean_chunk-68721205b5927e385fce276bb2c3877d', 0, 0, 0)\",\"('diffraction_pattern-integrate_fourier_space-mean_chunk-68721205b5927e385fce276bb2c3877d', 3, 5, 5)\",\"('diffraction_pattern-integrate_fourier_space-mean_chunk-68721205b5927e385fce276bb2c3877d', 3, 6, 6)\",\"('mean_chunk-68721205b5927e385fce276bb2c3877d', 0, 1, 1)\",\"('diffraction_pattern-integrate_fourier_space-mean_chunk-68721205b5927e385fce276bb2c3877d', 3, 7, 7)\",\"('mean_chunk-68721205b5927e385fce276bb2c3877d', 1, 0, 0)\",\"('mean_combine-partial-86b5b29207933bee7d0115aeefd707eb', 0, 0, 0)\",\"('mean_agg-aggregate-ec256b678fc0193bb1d67d9884c4d1bb', 0, 0)\",\"('diffraction_pattern-integrate_fourier_space-mean_chunk-68721205b5927e385fce276bb2c3877d', 3, 0, 1)\",\"('mean_chunk-68721205b5927e385fce276bb2c3877d', 3, 7, 7)\",\"('diffraction_pattern-integrate_fourier_space-mean_chunk-68721205b5927e385fce276bb2c3877d', 3, 0, 2)\",\"('mean_chunk-68721205b5927e385fce276bb2c3877d', 3, 1, 1)\",\"('diffraction_pattern-integrate_fourier_space-mean_chunk-68721205b5927e385fce276bb2c3877d', 3, 0, 3)\",\"('mean_chunk-68721205b5927e385fce276bb2c3877d', 3, 2, 2)\",\"('diffraction_pattern-integrate_fourier_space-mean_chunk-68721205b5927e385fce276bb2c3877d', 3, 0, 4)\",\"('mean_chunk-68721205b5927e385fce276bb2c3877d', 3, 3, 3)\",\"('mean_chunk-68721205b5927e385fce276bb2c3877d', 3, 6, 6)\",\"('diffraction_pattern-integrate_fourier_space-mean_chunk-68721205b5927e385fce276bb2c3877d', 3, 0, 5)\",\"('mean_chunk-68721205b5927e385fce276bb2c3877d', 3, 5, 5)\",\"('diffraction_pattern-integrate_fourier_space-mean_chunk-68721205b5927e385fce276bb2c3877d', 3, 0, 6)\",\"('diffraction_pattern-integrate_fourier_space-mean_chunk-68721205b5927e385fce276bb2c3877d', 3, 0, 7)\",\"('mean_chunk-68721205b5927e385fce276bb2c3877d', 3, 4, 4)\",\"('mean_chunk-68721205b5927e385fce276bb2c3877d', 3, 0, 1)\",\"('diffraction_pattern-integrate_fourier_space-mean_chunk-68721205b5927e385fce276bb2c3877d', 3, 1, 0)\",\"('diffraction_pattern-integrate_fourier_space-mean_chunk-68721205b5927e385fce276bb2c3877d', 3, 1, 2)\",\"('mean_chunk-68721205b5927e385fce276bb2c3877d', 3, 0, 2)\",\"('diffraction_pattern-integrate_fourier_space-mean_chunk-68721205b5927e385fce276bb2c3877d', 3, 1, 3)\",\"('mean_chunk-68721205b5927e385fce276bb2c3877d', 3, 0, 7)\",\"('diffraction_pattern-integrate_fourier_space-mean_chunk-68721205b5927e385fce276bb2c3877d', 3, 1, 4)\",\"('mean_chunk-68721205b5927e385fce276bb2c3877d', 3, 0, 3)\",\"('diffraction_pattern-integrate_fourier_space-mean_chunk-68721205b5927e385fce276bb2c3877d', 3, 1, 5)\",\"('mean_chunk-68721205b5927e385fce276bb2c3877d', 3, 0, 5)\",\"('diffraction_pattern-integrate_fourier_space-mean_chunk-68721205b5927e385fce276bb2c3877d', 3, 1, 6)\",\"('mean_chunk-68721205b5927e385fce276bb2c3877d', 3, 0, 4)\",\"('diffraction_pattern-integrate_fourier_space-mean_chunk-68721205b5927e385fce276bb2c3877d', 3, 1, 7)\",\"('mean_chunk-68721205b5927e385fce276bb2c3877d', 3, 0, 6)\",\"('diffraction_pattern-integrate_fourier_space-mean_chunk-68721205b5927e385fce276bb2c3877d', 3, 2, 0)\",\"('mean_chunk-68721205b5927e385fce276bb2c3877d', 3, 1, 0)\",\"('diffraction_pattern-integrate_fourier_space-mean_chunk-68721205b5927e385fce276bb2c3877d', 3, 2, 1)\",\"('mean_chunk-68721205b5927e385fce276bb2c3877d', 3, 1, 2)\",\"('diffraction_pattern-integrate_fourier_space-mean_chunk-68721205b5927e385fce276bb2c3877d', 3, 2, 3)\",\"('mean_chunk-68721205b5927e385fce276bb2c3877d', 3, 1, 3)\",\"('diffraction_pattern-integrate_fourier_space-mean_chunk-68721205b5927e385fce276bb2c3877d', 3, 2, 4)\",\"('mean_chunk-68721205b5927e385fce276bb2c3877d', 3, 1, 7)\",\"('diffraction_pattern-integrate_fourier_space-mean_chunk-68721205b5927e385fce276bb2c3877d', 3, 2, 5)\",\"('mean_chunk-68721205b5927e385fce276bb2c3877d', 3, 1, 4)\",\"('diffraction_pattern-integrate_fourier_space-mean_chunk-68721205b5927e385fce276bb2c3877d', 3, 2, 6)\",\"('mean_chunk-68721205b5927e385fce276bb2c3877d', 3, 1, 5)\",\"('diffraction_pattern-integrate_fourier_space-mean_chunk-68721205b5927e385fce276bb2c3877d', 3, 2, 7)\",\"('mean_chunk-68721205b5927e385fce276bb2c3877d', 3, 1, 6)\",\"('diffraction_pattern-integrate_fourier_space-mean_chunk-68721205b5927e385fce276bb2c3877d', 3, 3, 0)\",\"('mean_chunk-68721205b5927e385fce276bb2c3877d', 3, 2, 0)\",\"('diffraction_pattern-integrate_fourier_space-mean_chunk-68721205b5927e385fce276bb2c3877d', 3, 3, 1)\",\"('mean_chunk-68721205b5927e385fce276bb2c3877d', 3, 2, 1)\",\"('diffraction_pattern-integrate_fourier_space-mean_chunk-68721205b5927e385fce276bb2c3877d', 3, 3, 2)\",\"('mean_chunk-68721205b5927e385fce276bb2c3877d', 3, 2, 3)\",\"('diffraction_pattern-integrate_fourier_space-mean_chunk-68721205b5927e385fce276bb2c3877d', 3, 3, 4)\",\"('mean_chunk-68721205b5927e385fce276bb2c3877d', 3, 2, 4)\",\"('diffraction_pattern-integrate_fourier_space-mean_chunk-68721205b5927e385fce276bb2c3877d', 3, 3, 5)\",\"('mean_chunk-68721205b5927e385fce276bb2c3877d', 3, 2, 7)\",\"('diffraction_pattern-integrate_fourier_space-mean_chunk-68721205b5927e385fce276bb2c3877d', 3, 3, 6)\",\"('mean_chunk-68721205b5927e385fce276bb2c3877d', 3, 2, 5)\",\"('diffraction_pattern-integrate_fourier_space-mean_chunk-68721205b5927e385fce276bb2c3877d', 3, 3, 7)\",\"('mean_chunk-68721205b5927e385fce276bb2c3877d', 3, 2, 6)\",\"('diffraction_pattern-integrate_fourier_space-mean_chunk-68721205b5927e385fce276bb2c3877d', 3, 4, 0)\",\"('mean_chunk-68721205b5927e385fce276bb2c3877d', 3, 3, 2)\",\"('diffraction_pattern-integrate_fourier_space-mean_chunk-68721205b5927e385fce276bb2c3877d', 3, 4, 1)\",\"('mean_chunk-68721205b5927e385fce276bb2c3877d', 3, 3, 0)\",\"('diffraction_pattern-integrate_fourier_space-mean_chunk-68721205b5927e385fce276bb2c3877d', 3, 4, 2)\",\"('mean_chunk-68721205b5927e385fce276bb2c3877d', 3, 3, 1)\",\"('diffraction_pattern-integrate_fourier_space-mean_chunk-68721205b5927e385fce276bb2c3877d', 3, 4, 3)\",\"('mean_chunk-68721205b5927e385fce276bb2c3877d', 3, 3, 4)\",\"('diffraction_pattern-integrate_fourier_space-mean_chunk-68721205b5927e385fce276bb2c3877d', 3, 4, 5)\",\"('mean_chunk-68721205b5927e385fce276bb2c3877d', 3, 3, 7)\",\"('diffraction_pattern-integrate_fourier_space-mean_chunk-68721205b5927e385fce276bb2c3877d', 3, 4, 6)\",\"('mean_chunk-68721205b5927e385fce276bb2c3877d', 3, 3, 5)\",\"('diffraction_pattern-integrate_fourier_space-mean_chunk-68721205b5927e385fce276bb2c3877d', 3, 4, 7)\",\"('mean_chunk-68721205b5927e385fce276bb2c3877d', 3, 3, 6)\",\"('diffraction_pattern-integrate_fourier_space-mean_chunk-68721205b5927e385fce276bb2c3877d', 3, 5, 0)\",\"('mean_chunk-68721205b5927e385fce276bb2c3877d', 3, 4, 0)\",\"('diffraction_pattern-integrate_fourier_space-mean_chunk-68721205b5927e385fce276bb2c3877d', 3, 5, 1)\",\"('mean_chunk-68721205b5927e385fce276bb2c3877d', 3, 4, 1)\",\"('diffraction_pattern-integrate_fourier_space-mean_chunk-68721205b5927e385fce276bb2c3877d', 3, 5, 2)\",\"('mean_chunk-68721205b5927e385fce276bb2c3877d', 3, 4, 2)\",\"('diffraction_pattern-integrate_fourier_space-mean_chunk-68721205b5927e385fce276bb2c3877d', 3, 5, 3)\",\"('mean_chunk-68721205b5927e385fce276bb2c3877d', 3, 4, 3)\",\"('diffraction_pattern-integrate_fourier_space-mean_chunk-68721205b5927e385fce276bb2c3877d', 3, 5, 4)\",\"('mean_chunk-68721205b5927e385fce276bb2c3877d', 3, 4, 5)\",\"('diffraction_pattern-integrate_fourier_space-mean_chunk-68721205b5927e385fce276bb2c3877d', 3, 5, 6)\",\"('mean_chunk-68721205b5927e385fce276bb2c3877d', 3, 4, 7)\",\"('diffraction_pattern-integrate_fourier_space-mean_chunk-68721205b5927e385fce276bb2c3877d', 3, 5, 7)\",\"('mean_chunk-68721205b5927e385fce276bb2c3877d', 3, 4, 6)\",\"('diffraction_pattern-integrate_fourier_space-mean_chunk-68721205b5927e385fce276bb2c3877d', 3, 6, 0)\",\"('mean_chunk-68721205b5927e385fce276bb2c3877d', 3, 5, 0)\",\"('diffraction_pattern-integrate_fourier_space-mean_chunk-68721205b5927e385fce276bb2c3877d', 3, 6, 1)\",\"('mean_chunk-68721205b5927e385fce276bb2c3877d', 3, 5, 1)\",\"('diffraction_pattern-integrate_fourier_space-mean_chunk-68721205b5927e385fce276bb2c3877d', 3, 6, 2)\",\"('mean_chunk-68721205b5927e385fce276bb2c3877d', 3, 5, 2)\",\"('diffraction_pattern-integrate_fourier_space-mean_chunk-68721205b5927e385fce276bb2c3877d', 3, 6, 3)\",\"('mean_chunk-68721205b5927e385fce276bb2c3877d', 3, 5, 4)\",\"('mean_chunk-68721205b5927e385fce276bb2c3877d', 3, 5, 7)\",\"('diffraction_pattern-integrate_fourier_space-mean_chunk-68721205b5927e385fce276bb2c3877d', 3, 6, 4)\",\"('diffraction_pattern-integrate_fourier_space-mean_chunk-68721205b5927e385fce276bb2c3877d', 3, 6, 5)\",\"('mean_chunk-68721205b5927e385fce276bb2c3877d', 3, 5, 3)\",\"('mean_chunk-68721205b5927e385fce276bb2c3877d', 3, 5, 6)\",\"('diffraction_pattern-integrate_fourier_space-mean_chunk-68721205b5927e385fce276bb2c3877d', 3, 6, 7)\",\"('diffraction_pattern-integrate_fourier_space-mean_chunk-68721205b5927e385fce276bb2c3877d', 3, 7, 0)\",\"('mean_chunk-68721205b5927e385fce276bb2c3877d', 3, 6, 0)\",\"('diffraction_pattern-integrate_fourier_space-mean_chunk-68721205b5927e385fce276bb2c3877d', 3, 7, 1)\",\"('mean_chunk-68721205b5927e385fce276bb2c3877d', 3, 6, 1)\",\"('diffraction_pattern-integrate_fourier_space-mean_chunk-68721205b5927e385fce276bb2c3877d', 3, 7, 2)\",\"('mean_chunk-68721205b5927e385fce276bb2c3877d', 3, 6, 2)\",\"('diffraction_pattern-integrate_fourier_space-mean_chunk-68721205b5927e385fce276bb2c3877d', 3, 7, 3)\",\"('mean_chunk-68721205b5927e385fce276bb2c3877d', 3, 6, 7)\",\"('diffraction_pattern-integrate_fourier_space-mean_chunk-68721205b5927e385fce276bb2c3877d', 3, 7, 4)\",\"('mean_chunk-68721205b5927e385fce276bb2c3877d', 3, 7, 0)\",\"('diffraction_pattern-integrate_fourier_space-mean_chunk-68721205b5927e385fce276bb2c3877d', 3, 7, 5)\",\"('mean_chunk-68721205b5927e385fce276bb2c3877d', 3, 6, 3)\",\"('diffraction_pattern-integrate_fourier_space-mean_chunk-68721205b5927e385fce276bb2c3877d', 3, 7, 6)\",\"('mean_chunk-68721205b5927e385fce276bb2c3877d', 3, 6, 4)\",\"('diffraction_pattern-integrate_fourier_space-mean_chunk-68721205b5927e385fce276bb2c3877d', 2, 1, 1)\",\"('mean_chunk-68721205b5927e385fce276bb2c3877d', 3, 6, 5)\",\"('diffraction_pattern-integrate_fourier_space-mean_chunk-68721205b5927e385fce276bb2c3877d', 2, 2, 2)\",\"('mean_chunk-68721205b5927e385fce276bb2c3877d', 3, 7, 1)\",\"('diffraction_pattern-integrate_fourier_space-mean_chunk-68721205b5927e385fce276bb2c3877d', 2, 3, 3)\",\"('mean_chunk-68721205b5927e385fce276bb2c3877d', 3, 7, 2)\",\"('diffraction_pattern-integrate_fourier_space-mean_chunk-68721205b5927e385fce276bb2c3877d', 2, 4, 4)\",\"('mean_chunk-68721205b5927e385fce276bb2c3877d', 3, 7, 3)\",\"('diffraction_pattern-integrate_fourier_space-mean_chunk-68721205b5927e385fce276bb2c3877d', 2, 5, 5)\",\"('mean_chunk-68721205b5927e385fce276bb2c3877d', 3, 7, 4)\",\"('diffraction_pattern-integrate_fourier_space-mean_chunk-68721205b5927e385fce276bb2c3877d', 2, 6, 6)\",\"('mean_chunk-68721205b5927e385fce276bb2c3877d', 3, 7, 5)\",\"('diffraction_pattern-integrate_fourier_space-mean_chunk-68721205b5927e385fce276bb2c3877d', 2, 7, 7)\",\"('mean_chunk-68721205b5927e385fce276bb2c3877d', 3, 7, 6)\",\"('diffraction_pattern-integrate_fourier_space-mean_chunk-68721205b5927e385fce276bb2c3877d', 2, 0, 1)\",\"('mean_chunk-68721205b5927e385fce276bb2c3877d', 2, 1, 1)\",\"('mean_combine-partial-86b5b29207933bee7d0115aeefd707eb', 1, 1, 1)\",\"('diffraction_pattern-integrate_fourier_space-mean_chunk-68721205b5927e385fce276bb2c3877d', 2, 0, 2)\",\"('mean_chunk-68721205b5927e385fce276bb2c3877d', 2, 2, 2)\",\"('mean_combine-partial-86b5b29207933bee7d0115aeefd707eb', 1, 2, 2)\",\"('diffraction_pattern-integrate_fourier_space-mean_chunk-68721205b5927e385fce276bb2c3877d', 2, 0, 3)\",\"('mean_chunk-68721205b5927e385fce276bb2c3877d', 2, 7, 7)\",\"('mean_chunk-68721205b5927e385fce276bb2c3877d', 2, 3, 3)\",\"('mean_combine-partial-86b5b29207933bee7d0115aeefd707eb', 1, 7, 7)\",\"('mean_combine-partial-86b5b29207933bee7d0115aeefd707eb', 1, 3, 3)\",\"('diffraction_pattern-integrate_fourier_space-mean_chunk-68721205b5927e385fce276bb2c3877d', 2, 0, 4)\",\"('diffraction_pattern-integrate_fourier_space-mean_chunk-68721205b5927e385fce276bb2c3877d', 2, 0, 5)\",\"('mean_chunk-68721205b5927e385fce276bb2c3877d', 2, 4, 4)\",\"('mean_combine-partial-86b5b29207933bee7d0115aeefd707eb', 1, 4, 4)\",\"('diffraction_pattern-integrate_fourier_space-mean_chunk-68721205b5927e385fce276bb2c3877d', 2, 0, 6)\",\"('mean_chunk-68721205b5927e385fce276bb2c3877d', 2, 5, 5)\",\"('mean_combine-partial-86b5b29207933bee7d0115aeefd707eb', 1, 5, 5)\",\"('diffraction_pattern-integrate_fourier_space-mean_chunk-68721205b5927e385fce276bb2c3877d', 2, 0, 7)\",\"('mean_chunk-68721205b5927e385fce276bb2c3877d', 2, 6, 6)\",\"('mean_combine-partial-86b5b29207933bee7d0115aeefd707eb', 1, 6, 6)\",\"('diffraction_pattern-integrate_fourier_space-mean_chunk-68721205b5927e385fce276bb2c3877d', 2, 1, 0)\",\"('mean_chunk-68721205b5927e385fce276bb2c3877d', 2, 0, 1)\",\"('mean_combine-partial-86b5b29207933bee7d0115aeefd707eb', 1, 0, 1)\",\"('diffraction_pattern-integrate_fourier_space-mean_chunk-68721205b5927e385fce276bb2c3877d', 2, 1, 2)\",\"('mean_chunk-68721205b5927e385fce276bb2c3877d', 2, 0, 5)\",\"('mean_combine-partial-86b5b29207933bee7d0115aeefd707eb', 1, 0, 5)\",\"('diffraction_pattern-integrate_fourier_space-mean_chunk-68721205b5927e385fce276bb2c3877d', 2, 1, 3)\",\"('mean_chunk-68721205b5927e385fce276bb2c3877d', 2, 0, 2)\",\"('mean_chunk-68721205b5927e385fce276bb2c3877d', 2, 0, 4)\",\"('mean_combine-partial-86b5b29207933bee7d0115aeefd707eb', 1, 0, 2)\",\"('mean_combine-partial-86b5b29207933bee7d0115aeefd707eb', 1, 0, 4)\",\"('diffraction_pattern-integrate_fourier_space-mean_chunk-68721205b5927e385fce276bb2c3877d', 2, 1, 4)\",\"('diffraction_pattern-integrate_fourier_space-mean_chunk-68721205b5927e385fce276bb2c3877d', 2, 1, 5)\",\"('mean_chunk-68721205b5927e385fce276bb2c3877d', 2, 0, 3)\",\"('mean_combine-partial-86b5b29207933bee7d0115aeefd707eb', 1, 0, 3)\",\"('diffraction_pattern-integrate_fourier_space-mean_chunk-68721205b5927e385fce276bb2c3877d', 2, 1, 6)\",\"('mean_chunk-68721205b5927e385fce276bb2c3877d', 2, 0, 7)\",\"('mean_combine-partial-86b5b29207933bee7d0115aeefd707eb', 1, 0, 7)\",\"('diffraction_pattern-integrate_fourier_space-mean_chunk-68721205b5927e385fce276bb2c3877d', 2, 1, 7)\",\"('mean_chunk-68721205b5927e385fce276bb2c3877d', 2, 0, 6)\",\"('mean_combine-partial-86b5b29207933bee7d0115aeefd707eb', 1, 0, 6)\",\"('diffraction_pattern-integrate_fourier_space-mean_chunk-68721205b5927e385fce276bb2c3877d', 2, 2, 0)\",\"('mean_chunk-68721205b5927e385fce276bb2c3877d', 2, 1, 0)\",\"('mean_combine-partial-86b5b29207933bee7d0115aeefd707eb', 1, 1, 0)\",\"('diffraction_pattern-integrate_fourier_space-mean_chunk-68721205b5927e385fce276bb2c3877d', 2, 2, 1)\",\"('mean_chunk-68721205b5927e385fce276bb2c3877d', 2, 1, 2)\",\"('mean_combine-partial-86b5b29207933bee7d0115aeefd707eb', 1, 1, 2)\",\"('diffraction_pattern-integrate_fourier_space-mean_chunk-68721205b5927e385fce276bb2c3877d', 2, 2, 3)\",\"('mean_chunk-68721205b5927e385fce276bb2c3877d', 2, 1, 7)\",\"('mean_combine-partial-86b5b29207933bee7d0115aeefd707eb', 1, 1, 7)\",\"('diffraction_pattern-integrate_fourier_space-mean_chunk-68721205b5927e385fce276bb2c3877d', 2, 2, 4)\",\"('mean_chunk-68721205b5927e385fce276bb2c3877d', 2, 1, 3)\",\"('mean_combine-partial-86b5b29207933bee7d0115aeefd707eb', 1, 1, 3)\",\"('diffraction_pattern-integrate_fourier_space-mean_chunk-68721205b5927e385fce276bb2c3877d', 2, 2, 5)\",\"('mean_chunk-68721205b5927e385fce276bb2c3877d', 2, 1, 6)\",\"('mean_combine-partial-86b5b29207933bee7d0115aeefd707eb', 1, 1, 6)\",\"('diffraction_pattern-integrate_fourier_space-mean_chunk-68721205b5927e385fce276bb2c3877d', 2, 2, 6)\",\"('mean_chunk-68721205b5927e385fce276bb2c3877d', 2, 1, 4)\",\"('mean_combine-partial-86b5b29207933bee7d0115aeefd707eb', 1, 1, 4)\",\"('diffraction_pattern-integrate_fourier_space-mean_chunk-68721205b5927e385fce276bb2c3877d', 2, 2, 7)\",\"('mean_chunk-68721205b5927e385fce276bb2c3877d', 2, 1, 5)\",\"('mean_combine-partial-86b5b29207933bee7d0115aeefd707eb', 1, 1, 5)\",\"('diffraction_pattern-integrate_fourier_space-mean_chunk-68721205b5927e385fce276bb2c3877d', 2, 3, 0)\",\"('mean_chunk-68721205b5927e385fce276bb2c3877d', 2, 2, 0)\",\"('mean_combine-partial-86b5b29207933bee7d0115aeefd707eb', 1, 2, 0)\",\"('diffraction_pattern-integrate_fourier_space-mean_chunk-68721205b5927e385fce276bb2c3877d', 2, 3, 1)\",\"('mean_chunk-68721205b5927e385fce276bb2c3877d', 2, 2, 1)\",\"('mean_combine-partial-86b5b29207933bee7d0115aeefd707eb', 1, 2, 1)\",\"('diffraction_pattern-integrate_fourier_space-mean_chunk-68721205b5927e385fce276bb2c3877d', 2, 3, 2)\",\"('mean_chunk-68721205b5927e385fce276bb2c3877d', 2, 2, 3)\",\"('mean_combine-partial-86b5b29207933bee7d0115aeefd707eb', 1, 2, 3)\",\"('diffraction_pattern-integrate_fourier_space-mean_chunk-68721205b5927e385fce276bb2c3877d', 2, 3, 4)\",\"('mean_chunk-68721205b5927e385fce276bb2c3877d', 2, 2, 7)\",\"('mean_combine-partial-86b5b29207933bee7d0115aeefd707eb', 1, 2, 7)\",\"('diffraction_pattern-integrate_fourier_space-mean_chunk-68721205b5927e385fce276bb2c3877d', 2, 3, 5)\",\"('mean_chunk-68721205b5927e385fce276bb2c3877d', 2, 2, 4)\",\"('mean_combine-partial-86b5b29207933bee7d0115aeefd707eb', 1, 2, 4)\",\"('diffraction_pattern-integrate_fourier_space-mean_chunk-68721205b5927e385fce276bb2c3877d', 2, 3, 6)\",\"('mean_chunk-68721205b5927e385fce276bb2c3877d', 2, 2, 5)\",\"('mean_combine-partial-86b5b29207933bee7d0115aeefd707eb', 1, 2, 5)\",\"('diffraction_pattern-integrate_fourier_space-mean_chunk-68721205b5927e385fce276bb2c3877d', 2, 3, 7)\",\"('mean_chunk-68721205b5927e385fce276bb2c3877d', 2, 2, 6)\",\"('mean_combine-partial-86b5b29207933bee7d0115aeefd707eb', 1, 2, 6)\",\"('diffraction_pattern-integrate_fourier_space-mean_chunk-68721205b5927e385fce276bb2c3877d', 2, 4, 0)\",\"('mean_chunk-68721205b5927e385fce276bb2c3877d', 2, 3, 0)\",\"('mean_combine-partial-86b5b29207933bee7d0115aeefd707eb', 1, 3, 0)\",\"('diffraction_pattern-integrate_fourier_space-mean_chunk-68721205b5927e385fce276bb2c3877d', 2, 4, 1)\",\"('mean_chunk-68721205b5927e385fce276bb2c3877d', 2, 3, 1)\",\"('mean_combine-partial-86b5b29207933bee7d0115aeefd707eb', 1, 3, 1)\",\"('diffraction_pattern-integrate_fourier_space-mean_chunk-68721205b5927e385fce276bb2c3877d', 2, 4, 2)\",\"('mean_chunk-68721205b5927e385fce276bb2c3877d', 2, 3, 2)\",\"('mean_combine-partial-86b5b29207933bee7d0115aeefd707eb', 1, 3, 2)\",\"('diffraction_pattern-integrate_fourier_space-mean_chunk-68721205b5927e385fce276bb2c3877d', 2, 4, 3)\",\"('mean_chunk-68721205b5927e385fce276bb2c3877d', 2, 3, 4)\",\"('mean_combine-partial-86b5b29207933bee7d0115aeefd707eb', 1, 3, 4)\",\"('diffraction_pattern-integrate_fourier_space-mean_chunk-68721205b5927e385fce276bb2c3877d', 2, 4, 5)\",\"('mean_chunk-68721205b5927e385fce276bb2c3877d', 2, 3, 5)\",\"('mean_combine-partial-86b5b29207933bee7d0115aeefd707eb', 1, 3, 5)\",\"('mean_chunk-68721205b5927e385fce276bb2c3877d', 2, 3, 7)\",\"('diffraction_pattern-integrate_fourier_space-mean_chunk-68721205b5927e385fce276bb2c3877d', 2, 4, 6)\",\"('mean_combine-partial-86b5b29207933bee7d0115aeefd707eb', 1, 3, 7)\",\"('diffraction_pattern-integrate_fourier_space-mean_chunk-68721205b5927e385fce276bb2c3877d', 2, 4, 7)\",\"('mean_chunk-68721205b5927e385fce276bb2c3877d', 2, 3, 6)\",\"('mean_combine-partial-86b5b29207933bee7d0115aeefd707eb', 1, 3, 6)\",\"('diffraction_pattern-integrate_fourier_space-mean_chunk-68721205b5927e385fce276bb2c3877d', 2, 5, 0)\",\"('mean_chunk-68721205b5927e385fce276bb2c3877d', 2, 4, 0)\",\"('mean_combine-partial-86b5b29207933bee7d0115aeefd707eb', 1, 4, 0)\",\"('diffraction_pattern-integrate_fourier_space-mean_chunk-68721205b5927e385fce276bb2c3877d', 2, 5, 1)\",\"('mean_chunk-68721205b5927e385fce276bb2c3877d', 2, 4, 2)\",\"('mean_combine-partial-86b5b29207933bee7d0115aeefd707eb', 1, 4, 2)\",\"('diffraction_pattern-integrate_fourier_space-mean_chunk-68721205b5927e385fce276bb2c3877d', 2, 5, 2)\",\"('mean_chunk-68721205b5927e385fce276bb2c3877d', 2, 4, 1)\",\"('mean_combine-partial-86b5b29207933bee7d0115aeefd707eb', 1, 4, 1)\",\"('diffraction_pattern-integrate_fourier_space-mean_chunk-68721205b5927e385fce276bb2c3877d', 2, 5, 3)\",\"('mean_chunk-68721205b5927e385fce276bb2c3877d', 2, 4, 3)\",\"('mean_combine-partial-86b5b29207933bee7d0115aeefd707eb', 1, 4, 3)\",\"('diffraction_pattern-integrate_fourier_space-mean_chunk-68721205b5927e385fce276bb2c3877d', 2, 5, 4)\",\"('mean_chunk-68721205b5927e385fce276bb2c3877d', 2, 4, 5)\",\"('mean_combine-partial-86b5b29207933bee7d0115aeefd707eb', 1, 4, 5)\",\"('diffraction_pattern-integrate_fourier_space-mean_chunk-68721205b5927e385fce276bb2c3877d', 2, 5, 6)\",\"('mean_chunk-68721205b5927e385fce276bb2c3877d', 2, 4, 7)\",\"('mean_combine-partial-86b5b29207933bee7d0115aeefd707eb', 1, 4, 7)\",\"('diffraction_pattern-integrate_fourier_space-mean_chunk-68721205b5927e385fce276bb2c3877d', 2, 5, 7)\",\"('mean_chunk-68721205b5927e385fce276bb2c3877d', 2, 4, 6)\",\"('mean_combine-partial-86b5b29207933bee7d0115aeefd707eb', 1, 4, 6)\",\"('diffraction_pattern-integrate_fourier_space-mean_chunk-68721205b5927e385fce276bb2c3877d', 2, 6, 0)\",\"('mean_chunk-68721205b5927e385fce276bb2c3877d', 2, 5, 0)\",\"('mean_combine-partial-86b5b29207933bee7d0115aeefd707eb', 1, 5, 0)\",\"('diffraction_pattern-integrate_fourier_space-mean_chunk-68721205b5927e385fce276bb2c3877d', 2, 6, 1)\",\"('mean_chunk-68721205b5927e385fce276bb2c3877d', 2, 5, 1)\",\"('mean_combine-partial-86b5b29207933bee7d0115aeefd707eb', 1, 5, 1)\",\"('mean_chunk-68721205b5927e385fce276bb2c3877d', 2, 5, 2)\",\"('diffraction_pattern-integrate_fourier_space-mean_chunk-68721205b5927e385fce276bb2c3877d', 2, 6, 2)\",\"('mean_combine-partial-86b5b29207933bee7d0115aeefd707eb', 1, 5, 2)\",\"('diffraction_pattern-integrate_fourier_space-mean_chunk-68721205b5927e385fce276bb2c3877d', 2, 6, 3)\",\"('mean_chunk-68721205b5927e385fce276bb2c3877d', 2, 5, 3)\",\"('mean_combine-partial-86b5b29207933bee7d0115aeefd707eb', 1, 5, 3)\",\"('diffraction_pattern-integrate_fourier_space-mean_chunk-68721205b5927e385fce276bb2c3877d', 2, 6, 4)\",\"('mean_chunk-68721205b5927e385fce276bb2c3877d', 2, 5, 7)\",\"('mean_combine-partial-86b5b29207933bee7d0115aeefd707eb', 1, 5, 7)\",\"('diffraction_pattern-integrate_fourier_space-mean_chunk-68721205b5927e385fce276bb2c3877d', 2, 6, 5)\",\"('mean_chunk-68721205b5927e385fce276bb2c3877d', 2, 5, 4)\",\"('mean_combine-partial-86b5b29207933bee7d0115aeefd707eb', 1, 5, 4)\",\"('diffraction_pattern-integrate_fourier_space-mean_chunk-68721205b5927e385fce276bb2c3877d', 2, 6, 7)\",\"('mean_chunk-68721205b5927e385fce276bb2c3877d', 2, 5, 6)\",\"('mean_combine-partial-86b5b29207933bee7d0115aeefd707eb', 1, 5, 6)\",\"('diffraction_pattern-integrate_fourier_space-mean_chunk-68721205b5927e385fce276bb2c3877d', 2, 7, 0)\",\"('mean_chunk-68721205b5927e385fce276bb2c3877d', 2, 6, 0)\",\"('mean_combine-partial-86b5b29207933bee7d0115aeefd707eb', 1, 6, 0)\",\"('diffraction_pattern-integrate_fourier_space-mean_chunk-68721205b5927e385fce276bb2c3877d', 2, 7, 1)\",\"('mean_chunk-68721205b5927e385fce276bb2c3877d', 2, 6, 1)\",\"('mean_combine-partial-86b5b29207933bee7d0115aeefd707eb', 1, 6, 1)\",\"('diffraction_pattern-integrate_fourier_space-mean_chunk-68721205b5927e385fce276bb2c3877d', 2, 7, 2)\",\"('mean_chunk-68721205b5927e385fce276bb2c3877d', 2, 6, 2)\",\"('mean_combine-partial-86b5b29207933bee7d0115aeefd707eb', 1, 6, 2)\",\"('diffraction_pattern-integrate_fourier_space-mean_chunk-68721205b5927e385fce276bb2c3877d', 2, 7, 3)\",\"('mean_chunk-68721205b5927e385fce276bb2c3877d', 2, 6, 3)\",\"('mean_combine-partial-86b5b29207933bee7d0115aeefd707eb', 1, 6, 3)\",\"('mean_chunk-68721205b5927e385fce276bb2c3877d', 2, 6, 4)\",\"('diffraction_pattern-integrate_fourier_space-mean_chunk-68721205b5927e385fce276bb2c3877d', 2, 7, 4)\",\"('mean_combine-partial-86b5b29207933bee7d0115aeefd707eb', 1, 6, 4)\",\"('diffraction_pattern-integrate_fourier_space-mean_chunk-68721205b5927e385fce276bb2c3877d', 2, 7, 5)\",\"('mean_chunk-68721205b5927e385fce276bb2c3877d', 2, 6, 7)\",\"('mean_combine-partial-86b5b29207933bee7d0115aeefd707eb', 1, 6, 7)\",\"('diffraction_pattern-integrate_fourier_space-mean_chunk-68721205b5927e385fce276bb2c3877d', 2, 7, 6)\",\"('mean_chunk-68721205b5927e385fce276bb2c3877d', 2, 7, 0)\",\"('mean_combine-partial-86b5b29207933bee7d0115aeefd707eb', 1, 7, 0)\",\"('diffraction_pattern-integrate_fourier_space-mean_chunk-68721205b5927e385fce276bb2c3877d', 1, 1, 1)\",\"('mean_chunk-68721205b5927e385fce276bb2c3877d', 2, 6, 5)\",\"('mean_combine-partial-86b5b29207933bee7d0115aeefd707eb', 1, 6, 5)\",\"('diffraction_pattern-integrate_fourier_space-mean_chunk-68721205b5927e385fce276bb2c3877d', 1, 2, 2)\",\"('mean_chunk-68721205b5927e385fce276bb2c3877d', 2, 7, 1)\",\"('mean_combine-partial-86b5b29207933bee7d0115aeefd707eb', 1, 7, 1)\",\"('diffraction_pattern-integrate_fourier_space-mean_chunk-68721205b5927e385fce276bb2c3877d', 1, 3, 3)\",\"('mean_chunk-68721205b5927e385fce276bb2c3877d', 2, 7, 2)\",\"('mean_combine-partial-86b5b29207933bee7d0115aeefd707eb', 1, 7, 2)\",\"('diffraction_pattern-integrate_fourier_space-mean_chunk-68721205b5927e385fce276bb2c3877d', 1, 4, 4)\",\"('mean_chunk-68721205b5927e385fce276bb2c3877d', 2, 7, 3)\",\"('mean_combine-partial-86b5b29207933bee7d0115aeefd707eb', 1, 7, 3)\",\"('diffraction_pattern-integrate_fourier_space-mean_chunk-68721205b5927e385fce276bb2c3877d', 1, 5, 5)\",\"('mean_chunk-68721205b5927e385fce276bb2c3877d', 2, 7, 4)\",\"('mean_combine-partial-86b5b29207933bee7d0115aeefd707eb', 1, 7, 4)\",\"('diffraction_pattern-integrate_fourier_space-mean_chunk-68721205b5927e385fce276bb2c3877d', 1, 6, 6)\",\"('mean_chunk-68721205b5927e385fce276bb2c3877d', 2, 7, 5)\",\"('mean_combine-partial-86b5b29207933bee7d0115aeefd707eb', 1, 7, 5)\",\"('diffraction_pattern-integrate_fourier_space-mean_chunk-68721205b5927e385fce276bb2c3877d', 1, 7, 7)\",\"('mean_chunk-68721205b5927e385fce276bb2c3877d', 2, 7, 6)\",\"('mean_combine-partial-86b5b29207933bee7d0115aeefd707eb', 1, 7, 6)\",\"('diffraction_pattern-integrate_fourier_space-mean_chunk-68721205b5927e385fce276bb2c3877d', 1, 0, 1)\",\"('mean_chunk-68721205b5927e385fce276bb2c3877d', 1, 1, 1)\",\"('mean_combine-partial-86b5b29207933bee7d0115aeefd707eb', 0, 1, 1)\",\"('mean_agg-aggregate-ec256b678fc0193bb1d67d9884c4d1bb', 1, 1)\",\"('diffraction_pattern-integrate_fourier_space-mean_chunk-68721205b5927e385fce276bb2c3877d', 1, 0, 2)\",\"('mean_chunk-68721205b5927e385fce276bb2c3877d', 1, 2, 2)\",\"('mean_combine-partial-86b5b29207933bee7d0115aeefd707eb', 0, 2, 2)\",\"('mean_agg-aggregate-ec256b678fc0193bb1d67d9884c4d1bb', 2, 2)\",\"('diffraction_pattern-integrate_fourier_space-mean_chunk-68721205b5927e385fce276bb2c3877d', 1, 0, 3)\",\"('mean_chunk-68721205b5927e385fce276bb2c3877d', 1, 7, 7)\",\"('diffraction_pattern-integrate_fourier_space-mean_chunk-68721205b5927e385fce276bb2c3877d', 1, 0, 4)\",\"('mean_chunk-68721205b5927e385fce276bb2c3877d', 1, 3, 3)\",\"('mean_combine-partial-86b5b29207933bee7d0115aeefd707eb', 0, 3, 3)\",\"('mean_agg-aggregate-ec256b678fc0193bb1d67d9884c4d1bb', 3, 3)\",\"('diffraction_pattern-integrate_fourier_space-mean_chunk-68721205b5927e385fce276bb2c3877d', 1, 0, 5)\",\"('mean_chunk-68721205b5927e385fce276bb2c3877d', 1, 4, 4)\",\"('mean_combine-partial-86b5b29207933bee7d0115aeefd707eb', 0, 4, 4)\",\"('mean_agg-aggregate-ec256b678fc0193bb1d67d9884c4d1bb', 4, 4)\",\"('mean_chunk-68721205b5927e385fce276bb2c3877d', 1, 5, 5)\",\"('diffraction_pattern-integrate_fourier_space-mean_chunk-68721205b5927e385fce276bb2c3877d', 1, 0, 6)\",\"('diffraction_pattern-integrate_fourier_space-mean_chunk-68721205b5927e385fce276bb2c3877d', 1, 0, 7)\",\"('mean_chunk-68721205b5927e385fce276bb2c3877d', 1, 6, 6)\",\"('diffraction_pattern-integrate_fourier_space-mean_chunk-68721205b5927e385fce276bb2c3877d', 1, 1, 0)\",\"('mean_chunk-68721205b5927e385fce276bb2c3877d', 1, 0, 1)\",\"('diffraction_pattern-integrate_fourier_space-mean_chunk-68721205b5927e385fce276bb2c3877d', 1, 1, 2)\",\"('mean_chunk-68721205b5927e385fce276bb2c3877d', 1, 0, 3)\",\"('diffraction_pattern-integrate_fourier_space-mean_chunk-68721205b5927e385fce276bb2c3877d', 1, 1, 3)\",\"('mean_chunk-68721205b5927e385fce276bb2c3877d', 1, 0, 2)\",\"('diffraction_pattern-integrate_fourier_space-mean_chunk-68721205b5927e385fce276bb2c3877d', 1, 1, 4)\",\"('mean_chunk-68721205b5927e385fce276bb2c3877d', 1, 0, 4)\",\"('diffraction_pattern-integrate_fourier_space-mean_chunk-68721205b5927e385fce276bb2c3877d', 1, 1, 5)\",\"('mean_chunk-68721205b5927e385fce276bb2c3877d', 1, 0, 7)\",\"('mean_chunk-68721205b5927e385fce276bb2c3877d', 1, 0, 5)\",\"('diffraction_pattern-integrate_fourier_space-mean_chunk-68721205b5927e385fce276bb2c3877d', 1, 1, 6)\",\"('diffraction_pattern-integrate_fourier_space-mean_chunk-68721205b5927e385fce276bb2c3877d', 1, 1, 7)\",\"('mean_chunk-68721205b5927e385fce276bb2c3877d', 1, 0, 6)\",\"('diffraction_pattern-integrate_fourier_space-mean_chunk-68721205b5927e385fce276bb2c3877d', 1, 2, 0)\",\"('mean_chunk-68721205b5927e385fce276bb2c3877d', 1, 1, 0)\",\"('diffraction_pattern-integrate_fourier_space-mean_chunk-68721205b5927e385fce276bb2c3877d', 1, 2, 1)\",\"('mean_chunk-68721205b5927e385fce276bb2c3877d', 1, 1, 2)\",\"('diffraction_pattern-integrate_fourier_space-mean_chunk-68721205b5927e385fce276bb2c3877d', 1, 2, 3)\",\"('mean_chunk-68721205b5927e385fce276bb2c3877d', 1, 1, 3)\",\"('diffraction_pattern-integrate_fourier_space-mean_chunk-68721205b5927e385fce276bb2c3877d', 1, 2, 4)\",\"('mean_chunk-68721205b5927e385fce276bb2c3877d', 1, 1, 4)\",\"('mean_chunk-68721205b5927e385fce276bb2c3877d', 1, 1, 7)\",\"('diffraction_pattern-integrate_fourier_space-mean_chunk-68721205b5927e385fce276bb2c3877d', 1, 2, 5)\",\"('diffraction_pattern-integrate_fourier_space-mean_chunk-68721205b5927e385fce276bb2c3877d', 1, 2, 6)\",\"('mean_chunk-68721205b5927e385fce276bb2c3877d', 1, 1, 5)\",\"('diffraction_pattern-integrate_fourier_space-mean_chunk-68721205b5927e385fce276bb2c3877d', 1, 2, 7)\",\"('mean_chunk-68721205b5927e385fce276bb2c3877d', 1, 1, 6)\",\"('diffraction_pattern-integrate_fourier_space-mean_chunk-68721205b5927e385fce276bb2c3877d', 1, 3, 0)\",\"('mean_chunk-68721205b5927e385fce276bb2c3877d', 1, 2, 0)\",\"('diffraction_pattern-integrate_fourier_space-mean_chunk-68721205b5927e385fce276bb2c3877d', 1, 3, 1)\",\"('mean_chunk-68721205b5927e385fce276bb2c3877d', 1, 2, 1)\",\"('diffraction_pattern-integrate_fourier_space-mean_chunk-68721205b5927e385fce276bb2c3877d', 1, 3, 2)\",\"('mean_chunk-68721205b5927e385fce276bb2c3877d', 1, 2, 3)\",\"('diffraction_pattern-integrate_fourier_space-mean_chunk-68721205b5927e385fce276bb2c3877d', 1, 3, 4)\",\"('mean_chunk-68721205b5927e385fce276bb2c3877d', 1, 2, 7)\",\"('diffraction_pattern-integrate_fourier_space-mean_chunk-68721205b5927e385fce276bb2c3877d', 1, 3, 5)\",\"('mean_chunk-68721205b5927e385fce276bb2c3877d', 1, 2, 4)\",\"('diffraction_pattern-integrate_fourier_space-mean_chunk-68721205b5927e385fce276bb2c3877d', 1, 3, 6)\",\"('mean_chunk-68721205b5927e385fce276bb2c3877d', 1, 2, 6)\",\"('diffraction_pattern-integrate_fourier_space-mean_chunk-68721205b5927e385fce276bb2c3877d', 1, 3, 7)\",\"('mean_chunk-68721205b5927e385fce276bb2c3877d', 1, 2, 5)\",\"('diffraction_pattern-integrate_fourier_space-mean_chunk-68721205b5927e385fce276bb2c3877d', 1, 4, 0)\",\"('mean_chunk-68721205b5927e385fce276bb2c3877d', 1, 3, 0)\",\"('diffraction_pattern-integrate_fourier_space-mean_chunk-68721205b5927e385fce276bb2c3877d', 1, 4, 1)\",\"('mean_chunk-68721205b5927e385fce276bb2c3877d', 1, 3, 1)\",\"('diffraction_pattern-integrate_fourier_space-mean_chunk-68721205b5927e385fce276bb2c3877d', 1, 4, 2)\",\"('mean_chunk-68721205b5927e385fce276bb2c3877d', 1, 3, 2)\",\"('diffraction_pattern-integrate_fourier_space-mean_chunk-68721205b5927e385fce276bb2c3877d', 1, 4, 3)\",\"('mean_chunk-68721205b5927e385fce276bb2c3877d', 1, 3, 4)\",\"('diffraction_pattern-integrate_fourier_space-mean_chunk-68721205b5927e385fce276bb2c3877d', 1, 4, 5)\",\"('mean_chunk-68721205b5927e385fce276bb2c3877d', 1, 3, 7)\",\"('diffraction_pattern-integrate_fourier_space-mean_chunk-68721205b5927e385fce276bb2c3877d', 1, 4, 6)\",\"('mean_chunk-68721205b5927e385fce276bb2c3877d', 1, 3, 5)\",\"('diffraction_pattern-integrate_fourier_space-mean_chunk-68721205b5927e385fce276bb2c3877d', 1, 4, 7)\",\"('mean_chunk-68721205b5927e385fce276bb2c3877d', 1, 3, 6)\",\"('diffraction_pattern-integrate_fourier_space-mean_chunk-68721205b5927e385fce276bb2c3877d', 1, 5, 0)\",\"('mean_chunk-68721205b5927e385fce276bb2c3877d', 1, 4, 0)\",\"('diffraction_pattern-integrate_fourier_space-mean_chunk-68721205b5927e385fce276bb2c3877d', 1, 5, 1)\",\"('mean_chunk-68721205b5927e385fce276bb2c3877d', 1, 4, 1)\",\"('diffraction_pattern-integrate_fourier_space-mean_chunk-68721205b5927e385fce276bb2c3877d', 1, 5, 2)\",\"('mean_chunk-68721205b5927e385fce276bb2c3877d', 1, 4, 2)\",\"('diffraction_pattern-integrate_fourier_space-mean_chunk-68721205b5927e385fce276bb2c3877d', 1, 5, 3)\",\"('mean_chunk-68721205b5927e385fce276bb2c3877d', 1, 4, 3)\",\"('diffraction_pattern-integrate_fourier_space-mean_chunk-68721205b5927e385fce276bb2c3877d', 1, 5, 4)\",\"('mean_chunk-68721205b5927e385fce276bb2c3877d', 1, 4, 5)\",\"('diffraction_pattern-integrate_fourier_space-mean_chunk-68721205b5927e385fce276bb2c3877d', 1, 5, 6)\",\"('mean_chunk-68721205b5927e385fce276bb2c3877d', 1, 4, 7)\",\"('diffraction_pattern-integrate_fourier_space-mean_chunk-68721205b5927e385fce276bb2c3877d', 1, 5, 7)\",\"('mean_chunk-68721205b5927e385fce276bb2c3877d', 1, 4, 6)\",\"('diffraction_pattern-integrate_fourier_space-mean_chunk-68721205b5927e385fce276bb2c3877d', 1, 6, 0)\",\"('mean_chunk-68721205b5927e385fce276bb2c3877d', 1, 5, 0)\",\"('diffraction_pattern-integrate_fourier_space-mean_chunk-68721205b5927e385fce276bb2c3877d', 1, 6, 1)\",\"('mean_chunk-68721205b5927e385fce276bb2c3877d', 1, 5, 1)\",\"('diffraction_pattern-integrate_fourier_space-mean_chunk-68721205b5927e385fce276bb2c3877d', 1, 6, 2)\",\"('mean_chunk-68721205b5927e385fce276bb2c3877d', 1, 5, 2)\",\"('diffraction_pattern-integrate_fourier_space-mean_chunk-68721205b5927e385fce276bb2c3877d', 1, 6, 3)\",\"('mean_chunk-68721205b5927e385fce276bb2c3877d', 1, 5, 7)\",\"('diffraction_pattern-integrate_fourier_space-mean_chunk-68721205b5927e385fce276bb2c3877d', 1, 6, 4)\",\"('mean_chunk-68721205b5927e385fce276bb2c3877d', 1, 5, 3)\",\"('diffraction_pattern-integrate_fourier_space-mean_chunk-68721205b5927e385fce276bb2c3877d', 1, 6, 5)\",\"('mean_chunk-68721205b5927e385fce276bb2c3877d', 1, 5, 4)\",\"('diffraction_pattern-integrate_fourier_space-mean_chunk-68721205b5927e385fce276bb2c3877d', 1, 6, 7)\",\"('mean_chunk-68721205b5927e385fce276bb2c3877d', 1, 5, 6)\",\"('diffraction_pattern-integrate_fourier_space-mean_chunk-68721205b5927e385fce276bb2c3877d', 1, 7, 0)\",\"('mean_chunk-68721205b5927e385fce276bb2c3877d', 1, 6, 0)\",\"('diffraction_pattern-integrate_fourier_space-mean_chunk-68721205b5927e385fce276bb2c3877d', 1, 7, 1)\",\"('mean_chunk-68721205b5927e385fce276bb2c3877d', 1, 6, 1)\",\"('diffraction_pattern-integrate_fourier_space-mean_chunk-68721205b5927e385fce276bb2c3877d', 1, 7, 2)\",\"('mean_chunk-68721205b5927e385fce276bb2c3877d', 1, 6, 2)\",\"('diffraction_pattern-integrate_fourier_space-mean_chunk-68721205b5927e385fce276bb2c3877d', 1, 7, 3)\",\"('mean_chunk-68721205b5927e385fce276bb2c3877d', 1, 6, 7)\",\"('diffraction_pattern-integrate_fourier_space-mean_chunk-68721205b5927e385fce276bb2c3877d', 1, 7, 4)\",\"('mean_chunk-68721205b5927e385fce276bb2c3877d', 1, 7, 0)\",\"('diffraction_pattern-integrate_fourier_space-mean_chunk-68721205b5927e385fce276bb2c3877d', 1, 7, 5)\",\"('mean_chunk-68721205b5927e385fce276bb2c3877d', 1, 6, 3)\",\"('diffraction_pattern-integrate_fourier_space-mean_chunk-68721205b5927e385fce276bb2c3877d', 1, 7, 6)\",\"('mean_chunk-68721205b5927e385fce276bb2c3877d', 1, 6, 5)\",\"('diffraction_pattern-integrate_fourier_space-mean_chunk-68721205b5927e385fce276bb2c3877d', 0, 5, 5)\",\"('mean_chunk-68721205b5927e385fce276bb2c3877d', 1, 6, 4)\",\"('diffraction_pattern-integrate_fourier_space-mean_chunk-68721205b5927e385fce276bb2c3877d', 0, 6, 6)\",\"('mean_chunk-68721205b5927e385fce276bb2c3877d', 1, 7, 1)\",\"('diffraction_pattern-integrate_fourier_space-mean_chunk-68721205b5927e385fce276bb2c3877d', 0, 7, 7)\",\"('mean_chunk-68721205b5927e385fce276bb2c3877d', 1, 7, 2)\",\"('diffraction_pattern-integrate_fourier_space-mean_chunk-68721205b5927e385fce276bb2c3877d', 0, 0, 1)\",\"('mean_chunk-68721205b5927e385fce276bb2c3877d', 1, 7, 4)\",\"('diffraction_pattern-integrate_fourier_space-mean_chunk-68721205b5927e385fce276bb2c3877d', 0, 0, 2)\",\"('mean_chunk-68721205b5927e385fce276bb2c3877d', 1, 7, 3)\",\"('diffraction_pattern-integrate_fourier_space-mean_chunk-68721205b5927e385fce276bb2c3877d', 0, 0, 3)\",\"('mean_chunk-68721205b5927e385fce276bb2c3877d', 1, 7, 5)\",\"('diffraction_pattern-integrate_fourier_space-mean_chunk-68721205b5927e385fce276bb2c3877d', 0, 0, 4)\",\"('mean_chunk-68721205b5927e385fce276bb2c3877d', 1, 7, 6)\",\"('diffraction_pattern-integrate_fourier_space-mean_chunk-68721205b5927e385fce276bb2c3877d', 0, 0, 5)\",\"('mean_chunk-68721205b5927e385fce276bb2c3877d', 0, 7, 7)\",\"('mean_combine-partial-86b5b29207933bee7d0115aeefd707eb', 0, 7, 7)\",\"('mean_agg-aggregate-ec256b678fc0193bb1d67d9884c4d1bb', 7, 7)\",\"('diffraction_pattern-integrate_fourier_space-mean_chunk-68721205b5927e385fce276bb2c3877d', 0, 0, 6)\",\"('mean_chunk-68721205b5927e385fce276bb2c3877d', 0, 6, 6)\",\"('mean_chunk-68721205b5927e385fce276bb2c3877d', 0, 5, 5)\",\"('mean_combine-partial-86b5b29207933bee7d0115aeefd707eb', 0, 6, 6)\",\"('mean_combine-partial-86b5b29207933bee7d0115aeefd707eb', 0, 5, 5)\",\"('mean_agg-aggregate-ec256b678fc0193bb1d67d9884c4d1bb', 6, 6)\",\"('mean_agg-aggregate-ec256b678fc0193bb1d67d9884c4d1bb', 5, 5)\",\"('diffraction_pattern-integrate_fourier_space-mean_chunk-68721205b5927e385fce276bb2c3877d', 0, 0, 7)\",\"('diffraction_pattern-integrate_fourier_space-mean_chunk-68721205b5927e385fce276bb2c3877d', 0, 1, 0)\",\"('mean_chunk-68721205b5927e385fce276bb2c3877d', 0, 0, 1)\",\"('mean_combine-partial-86b5b29207933bee7d0115aeefd707eb', 0, 0, 1)\",\"('mean_agg-aggregate-ec256b678fc0193bb1d67d9884c4d1bb', 0, 1)\",\"('diffraction_pattern-integrate_fourier_space-mean_chunk-68721205b5927e385fce276bb2c3877d', 0, 1, 2)\",\"('mean_chunk-68721205b5927e385fce276bb2c3877d', 0, 0, 2)\",\"('mean_combine-partial-86b5b29207933bee7d0115aeefd707eb', 0, 0, 2)\",\"('mean_agg-aggregate-ec256b678fc0193bb1d67d9884c4d1bb', 0, 2)\",\"('diffraction_pattern-integrate_fourier_space-mean_chunk-68721205b5927e385fce276bb2c3877d', 0, 1, 3)\",\"('mean_chunk-68721205b5927e385fce276bb2c3877d', 0, 0, 4)\",\"('mean_combine-partial-86b5b29207933bee7d0115aeefd707eb', 0, 0, 4)\",\"('mean_agg-aggregate-ec256b678fc0193bb1d67d9884c4d1bb', 0, 4)\",\"('mean_chunk-68721205b5927e385fce276bb2c3877d', 0, 0, 5)\",\"('diffraction_pattern-integrate_fourier_space-mean_chunk-68721205b5927e385fce276bb2c3877d', 0, 1, 4)\",\"('mean_combine-partial-86b5b29207933bee7d0115aeefd707eb', 0, 0, 5)\",\"('mean_agg-aggregate-ec256b678fc0193bb1d67d9884c4d1bb', 0, 5)\",\"('diffraction_pattern-integrate_fourier_space-mean_chunk-68721205b5927e385fce276bb2c3877d', 0, 1, 5)\",\"('mean_chunk-68721205b5927e385fce276bb2c3877d', 0, 0, 3)\",\"('mean_combine-partial-86b5b29207933bee7d0115aeefd707eb', 0, 0, 3)\",\"('mean_agg-aggregate-ec256b678fc0193bb1d67d9884c4d1bb', 0, 3)\",\"('diffraction_pattern-integrate_fourier_space-mean_chunk-68721205b5927e385fce276bb2c3877d', 0, 1, 6)\",\"('mean_chunk-68721205b5927e385fce276bb2c3877d', 0, 0, 6)\",\"('mean_combine-partial-86b5b29207933bee7d0115aeefd707eb', 0, 0, 6)\",\"('mean_agg-aggregate-ec256b678fc0193bb1d67d9884c4d1bb', 0, 6)\",\"('diffraction_pattern-integrate_fourier_space-mean_chunk-68721205b5927e385fce276bb2c3877d', 0, 1, 7)\",\"('mean_chunk-68721205b5927e385fce276bb2c3877d', 0, 0, 7)\",\"('mean_combine-partial-86b5b29207933bee7d0115aeefd707eb', 0, 0, 7)\",\"('mean_agg-aggregate-ec256b678fc0193bb1d67d9884c4d1bb', 0, 7)\",\"('diffraction_pattern-integrate_fourier_space-mean_chunk-68721205b5927e385fce276bb2c3877d', 0, 2, 0)\",\"('mean_chunk-68721205b5927e385fce276bb2c3877d', 0, 1, 0)\",\"('mean_combine-partial-86b5b29207933bee7d0115aeefd707eb', 0, 1, 0)\",\"('mean_agg-aggregate-ec256b678fc0193bb1d67d9884c4d1bb', 1, 0)\",\"('diffraction_pattern-integrate_fourier_space-mean_chunk-68721205b5927e385fce276bb2c3877d', 0, 2, 1)\",\"('mean_chunk-68721205b5927e385fce276bb2c3877d', 0, 1, 2)\",\"('mean_combine-partial-86b5b29207933bee7d0115aeefd707eb', 0, 1, 2)\",\"('mean_agg-aggregate-ec256b678fc0193bb1d67d9884c4d1bb', 1, 2)\",\"('diffraction_pattern-integrate_fourier_space-mean_chunk-68721205b5927e385fce276bb2c3877d', 0, 2, 3)\",\"('mean_chunk-68721205b5927e385fce276bb2c3877d', 0, 1, 3)\",\"('mean_combine-partial-86b5b29207933bee7d0115aeefd707eb', 0, 1, 3)\",\"('mean_agg-aggregate-ec256b678fc0193bb1d67d9884c4d1bb', 1, 3)\",\"('diffraction_pattern-integrate_fourier_space-mean_chunk-68721205b5927e385fce276bb2c3877d', 0, 2, 4)\",\"('mean_chunk-68721205b5927e385fce276bb2c3877d', 0, 1, 7)\",\"('mean_combine-partial-86b5b29207933bee7d0115aeefd707eb', 0, 1, 7)\",\"('mean_agg-aggregate-ec256b678fc0193bb1d67d9884c4d1bb', 1, 7)\",\"('diffraction_pattern-integrate_fourier_space-mean_chunk-68721205b5927e385fce276bb2c3877d', 0, 2, 5)\",\"('mean_chunk-68721205b5927e385fce276bb2c3877d', 0, 1, 5)\",\"('mean_combine-partial-86b5b29207933bee7d0115aeefd707eb', 0, 1, 5)\",\"('mean_agg-aggregate-ec256b678fc0193bb1d67d9884c4d1bb', 1, 5)\",\"('diffraction_pattern-integrate_fourier_space-mean_chunk-68721205b5927e385fce276bb2c3877d', 0, 2, 6)\",\"('mean_chunk-68721205b5927e385fce276bb2c3877d', 0, 1, 4)\",\"('mean_chunk-68721205b5927e385fce276bb2c3877d', 0, 1, 6)\",\"('mean_combine-partial-86b5b29207933bee7d0115aeefd707eb', 0, 1, 4)\",\"('mean_combine-partial-86b5b29207933bee7d0115aeefd707eb', 0, 1, 6)\",\"('mean_agg-aggregate-ec256b678fc0193bb1d67d9884c4d1bb', 1, 4)\",\"('mean_agg-aggregate-ec256b678fc0193bb1d67d9884c4d1bb', 1, 6)\",\"('diffraction_pattern-integrate_fourier_space-mean_chunk-68721205b5927e385fce276bb2c3877d', 0, 2, 7)\",\"('diffraction_pattern-integrate_fourier_space-mean_chunk-68721205b5927e385fce276bb2c3877d', 0, 3, 0)\",\"('mean_chunk-68721205b5927e385fce276bb2c3877d', 0, 2, 0)\",\"('mean_combine-partial-86b5b29207933bee7d0115aeefd707eb', 0, 2, 0)\",\"('mean_agg-aggregate-ec256b678fc0193bb1d67d9884c4d1bb', 2, 0)\",\"('diffraction_pattern-integrate_fourier_space-mean_chunk-68721205b5927e385fce276bb2c3877d', 0, 3, 1)\",\"('mean_chunk-68721205b5927e385fce276bb2c3877d', 0, 2, 1)\",\"('mean_combine-partial-86b5b29207933bee7d0115aeefd707eb', 0, 2, 1)\",\"('mean_agg-aggregate-ec256b678fc0193bb1d67d9884c4d1bb', 2, 1)\",\"('diffraction_pattern-integrate_fourier_space-mean_chunk-68721205b5927e385fce276bb2c3877d', 0, 3, 2)\",\"('mean_chunk-68721205b5927e385fce276bb2c3877d', 0, 2, 3)\",\"('mean_combine-partial-86b5b29207933bee7d0115aeefd707eb', 0, 2, 3)\",\"('mean_agg-aggregate-ec256b678fc0193bb1d67d9884c4d1bb', 2, 3)\",\"('diffraction_pattern-integrate_fourier_space-mean_chunk-68721205b5927e385fce276bb2c3877d', 0, 3, 4)\",\"('mean_chunk-68721205b5927e385fce276bb2c3877d', 0, 2, 7)\",\"('mean_combine-partial-86b5b29207933bee7d0115aeefd707eb', 0, 2, 7)\",\"('mean_agg-aggregate-ec256b678fc0193bb1d67d9884c4d1bb', 2, 7)\",\"('diffraction_pattern-integrate_fourier_space-mean_chunk-68721205b5927e385fce276bb2c3877d', 0, 3, 5)\",\"('mean_chunk-68721205b5927e385fce276bb2c3877d', 0, 2, 4)\",\"('mean_combine-partial-86b5b29207933bee7d0115aeefd707eb', 0, 2, 4)\",\"('mean_agg-aggregate-ec256b678fc0193bb1d67d9884c4d1bb', 2, 4)\",\"('diffraction_pattern-integrate_fourier_space-mean_chunk-68721205b5927e385fce276bb2c3877d', 0, 3, 6)\",\"('mean_chunk-68721205b5927e385fce276bb2c3877d', 0, 2, 5)\",\"('mean_combine-partial-86b5b29207933bee7d0115aeefd707eb', 0, 2, 5)\",\"('mean_agg-aggregate-ec256b678fc0193bb1d67d9884c4d1bb', 2, 5)\",\"('diffraction_pattern-integrate_fourier_space-mean_chunk-68721205b5927e385fce276bb2c3877d', 0, 3, 7)\",\"('mean_chunk-68721205b5927e385fce276bb2c3877d', 0, 3, 0)\",\"('mean_combine-partial-86b5b29207933bee7d0115aeefd707eb', 0, 3, 0)\",\"('mean_agg-aggregate-ec256b678fc0193bb1d67d9884c4d1bb', 3, 0)\",\"('diffraction_pattern-integrate_fourier_space-mean_chunk-68721205b5927e385fce276bb2c3877d', 0, 4, 0)\",\"('mean_chunk-68721205b5927e385fce276bb2c3877d', 0, 2, 6)\",\"('mean_combine-partial-86b5b29207933bee7d0115aeefd707eb', 0, 2, 6)\",\"('mean_agg-aggregate-ec256b678fc0193bb1d67d9884c4d1bb', 2, 6)\",\"('diffraction_pattern-integrate_fourier_space-mean_chunk-68721205b5927e385fce276bb2c3877d', 0, 4, 1)\",\"('mean_chunk-68721205b5927e385fce276bb2c3877d', 0, 3, 1)\",\"('mean_combine-partial-86b5b29207933bee7d0115aeefd707eb', 0, 3, 1)\",\"('mean_agg-aggregate-ec256b678fc0193bb1d67d9884c4d1bb', 3, 1)\",\"('diffraction_pattern-integrate_fourier_space-mean_chunk-68721205b5927e385fce276bb2c3877d', 0, 4, 2)\",\"('mean_chunk-68721205b5927e385fce276bb2c3877d', 0, 3, 2)\",\"('mean_combine-partial-86b5b29207933bee7d0115aeefd707eb', 0, 3, 2)\",\"('mean_agg-aggregate-ec256b678fc0193bb1d67d9884c4d1bb', 3, 2)\",\"('diffraction_pattern-integrate_fourier_space-mean_chunk-68721205b5927e385fce276bb2c3877d', 0, 4, 3)\",\"('mean_chunk-68721205b5927e385fce276bb2c3877d', 0, 3, 7)\",\"('mean_combine-partial-86b5b29207933bee7d0115aeefd707eb', 0, 3, 7)\",\"('mean_chunk-68721205b5927e385fce276bb2c3877d', 0, 3, 4)\",\"('mean_agg-aggregate-ec256b678fc0193bb1d67d9884c4d1bb', 3, 7)\",\"('mean_combine-partial-86b5b29207933bee7d0115aeefd707eb', 0, 3, 4)\",\"('diffraction_pattern-integrate_fourier_space-mean_chunk-68721205b5927e385fce276bb2c3877d', 0, 4, 5)\",\"('mean_agg-aggregate-ec256b678fc0193bb1d67d9884c4d1bb', 3, 4)\",\"('diffraction_pattern-integrate_fourier_space-mean_chunk-68721205b5927e385fce276bb2c3877d', 0, 4, 6)\",\"('mean_chunk-68721205b5927e385fce276bb2c3877d', 0, 3, 5)\",\"('mean_chunk-68721205b5927e385fce276bb2c3877d', 0, 3, 6)\",\"('mean_combine-partial-86b5b29207933bee7d0115aeefd707eb', 0, 3, 5)\",\"('mean_combine-partial-86b5b29207933bee7d0115aeefd707eb', 0, 3, 6)\",\"('mean_agg-aggregate-ec256b678fc0193bb1d67d9884c4d1bb', 3, 6)\",\"('mean_agg-aggregate-ec256b678fc0193bb1d67d9884c4d1bb', 3, 5)\",\"('diffraction_pattern-integrate_fourier_space-mean_chunk-68721205b5927e385fce276bb2c3877d', 0, 4, 7)\",\"('diffraction_pattern-integrate_fourier_space-mean_chunk-68721205b5927e385fce276bb2c3877d', 0, 5, 0)\",\"('mean_chunk-68721205b5927e385fce276bb2c3877d', 0, 4, 0)\",\"('mean_combine-partial-86b5b29207933bee7d0115aeefd707eb', 0, 4, 0)\",\"('mean_agg-aggregate-ec256b678fc0193bb1d67d9884c4d1bb', 4, 0)\",\"('diffraction_pattern-integrate_fourier_space-mean_chunk-68721205b5927e385fce276bb2c3877d', 0, 5, 1)\",\"('mean_chunk-68721205b5927e385fce276bb2c3877d', 0, 4, 1)\",\"('mean_combine-partial-86b5b29207933bee7d0115aeefd707eb', 0, 4, 1)\",\"('mean_agg-aggregate-ec256b678fc0193bb1d67d9884c4d1bb', 4, 1)\",\"('diffraction_pattern-integrate_fourier_space-mean_chunk-68721205b5927e385fce276bb2c3877d', 0, 5, 2)\",\"('mean_chunk-68721205b5927e385fce276bb2c3877d', 0, 4, 2)\",\"('mean_combine-partial-86b5b29207933bee7d0115aeefd707eb', 0, 4, 2)\",\"('mean_agg-aggregate-ec256b678fc0193bb1d67d9884c4d1bb', 4, 2)\",\"('diffraction_pattern-integrate_fourier_space-mean_chunk-68721205b5927e385fce276bb2c3877d', 0, 5, 3)\",\"('mean_chunk-68721205b5927e385fce276bb2c3877d', 0, 4, 3)\",\"('mean_combine-partial-86b5b29207933bee7d0115aeefd707eb', 0, 4, 3)\",\"('mean_agg-aggregate-ec256b678fc0193bb1d67d9884c4d1bb', 4, 3)\",\"('diffraction_pattern-integrate_fourier_space-mean_chunk-68721205b5927e385fce276bb2c3877d', 0, 5, 4)\",\"('mean_chunk-68721205b5927e385fce276bb2c3877d', 0, 4, 7)\",\"('mean_combine-partial-86b5b29207933bee7d0115aeefd707eb', 0, 4, 7)\",\"('mean_agg-aggregate-ec256b678fc0193bb1d67d9884c4d1bb', 4, 7)\",\"('diffraction_pattern-integrate_fourier_space-mean_chunk-68721205b5927e385fce276bb2c3877d', 0, 5, 6)\",\"('mean_chunk-68721205b5927e385fce276bb2c3877d', 0, 4, 6)\",\"('mean_chunk-68721205b5927e385fce276bb2c3877d', 0, 4, 5)\",\"('mean_combine-partial-86b5b29207933bee7d0115aeefd707eb', 0, 4, 6)\",\"('mean_combine-partial-86b5b29207933bee7d0115aeefd707eb', 0, 4, 5)\",\"('mean_agg-aggregate-ec256b678fc0193bb1d67d9884c4d1bb', 4, 6)\",\"('mean_agg-aggregate-ec256b678fc0193bb1d67d9884c4d1bb', 4, 5)\",\"('diffraction_pattern-integrate_fourier_space-mean_chunk-68721205b5927e385fce276bb2c3877d', 0, 5, 7)\",\"('diffraction_pattern-integrate_fourier_space-mean_chunk-68721205b5927e385fce276bb2c3877d', 0, 6, 0)\",\"('mean_chunk-68721205b5927e385fce276bb2c3877d', 0, 5, 0)\",\"('mean_combine-partial-86b5b29207933bee7d0115aeefd707eb', 0, 5, 0)\",\"('mean_agg-aggregate-ec256b678fc0193bb1d67d9884c4d1bb', 5, 0)\",\"('diffraction_pattern-integrate_fourier_space-mean_chunk-68721205b5927e385fce276bb2c3877d', 0, 6, 1)\",\"('mean_chunk-68721205b5927e385fce276bb2c3877d', 0, 5, 1)\",\"('mean_combine-partial-86b5b29207933bee7d0115aeefd707eb', 0, 5, 1)\",\"('mean_agg-aggregate-ec256b678fc0193bb1d67d9884c4d1bb', 5, 1)\",\"('diffraction_pattern-integrate_fourier_space-mean_chunk-68721205b5927e385fce276bb2c3877d', 0, 6, 2)\",\"('mean_chunk-68721205b5927e385fce276bb2c3877d', 0, 5, 2)\",\"('mean_combine-partial-86b5b29207933bee7d0115aeefd707eb', 0, 5, 2)\",\"('mean_agg-aggregate-ec256b678fc0193bb1d67d9884c4d1bb', 5, 2)\",\"('diffraction_pattern-integrate_fourier_space-mean_chunk-68721205b5927e385fce276bb2c3877d', 0, 6, 3)\",\"('mean_chunk-68721205b5927e385fce276bb2c3877d', 0, 5, 3)\",\"('mean_combine-partial-86b5b29207933bee7d0115aeefd707eb', 0, 5, 3)\",\"('mean_agg-aggregate-ec256b678fc0193bb1d67d9884c4d1bb', 5, 3)\",\"('diffraction_pattern-integrate_fourier_space-mean_chunk-68721205b5927e385fce276bb2c3877d', 0, 6, 4)\",\"('mean_chunk-68721205b5927e385fce276bb2c3877d', 0, 5, 4)\",\"('mean_combine-partial-86b5b29207933bee7d0115aeefd707eb', 0, 5, 4)\",\"('mean_agg-aggregate-ec256b678fc0193bb1d67d9884c4d1bb', 5, 4)\",\"('diffraction_pattern-integrate_fourier_space-mean_chunk-68721205b5927e385fce276bb2c3877d', 0, 6, 5)\",\"('mean_chunk-68721205b5927e385fce276bb2c3877d', 0, 5, 7)\",\"('mean_combine-partial-86b5b29207933bee7d0115aeefd707eb', 0, 5, 7)\",\"('mean_agg-aggregate-ec256b678fc0193bb1d67d9884c4d1bb', 5, 7)\",\"('diffraction_pattern-integrate_fourier_space-mean_chunk-68721205b5927e385fce276bb2c3877d', 0, 6, 7)\",\"('mean_chunk-68721205b5927e385fce276bb2c3877d', 0, 5, 6)\",\"('mean_combine-partial-86b5b29207933bee7d0115aeefd707eb', 0, 5, 6)\",\"('mean_agg-aggregate-ec256b678fc0193bb1d67d9884c4d1bb', 5, 6)\",\"('diffraction_pattern-integrate_fourier_space-mean_chunk-68721205b5927e385fce276bb2c3877d', 0, 7, 0)\",\"('mean_chunk-68721205b5927e385fce276bb2c3877d', 0, 6, 0)\",\"('mean_combine-partial-86b5b29207933bee7d0115aeefd707eb', 0, 6, 0)\",\"('mean_agg-aggregate-ec256b678fc0193bb1d67d9884c4d1bb', 6, 0)\",\"('diffraction_pattern-integrate_fourier_space-mean_chunk-68721205b5927e385fce276bb2c3877d', 0, 7, 1)\",\"('mean_chunk-68721205b5927e385fce276bb2c3877d', 0, 6, 1)\",\"('mean_combine-partial-86b5b29207933bee7d0115aeefd707eb', 0, 6, 1)\",\"('mean_agg-aggregate-ec256b678fc0193bb1d67d9884c4d1bb', 6, 1)\",\"('diffraction_pattern-integrate_fourier_space-mean_chunk-68721205b5927e385fce276bb2c3877d', 0, 7, 2)\",\"('mean_chunk-68721205b5927e385fce276bb2c3877d', 0, 6, 2)\",\"('mean_combine-partial-86b5b29207933bee7d0115aeefd707eb', 0, 6, 2)\",\"('mean_agg-aggregate-ec256b678fc0193bb1d67d9884c4d1bb', 6, 2)\",\"('diffraction_pattern-integrate_fourier_space-mean_chunk-68721205b5927e385fce276bb2c3877d', 0, 7, 3)\",\"('mean_chunk-68721205b5927e385fce276bb2c3877d', 0, 6, 3)\",\"('mean_combine-partial-86b5b29207933bee7d0115aeefd707eb', 0, 6, 3)\",\"('mean_agg-aggregate-ec256b678fc0193bb1d67d9884c4d1bb', 6, 3)\",\"('diffraction_pattern-integrate_fourier_space-mean_chunk-68721205b5927e385fce276bb2c3877d', 0, 7, 4)\",\"('mean_chunk-68721205b5927e385fce276bb2c3877d', 0, 6, 4)\",\"('mean_combine-partial-86b5b29207933bee7d0115aeefd707eb', 0, 6, 4)\",\"('mean_agg-aggregate-ec256b678fc0193bb1d67d9884c4d1bb', 6, 4)\",\"('diffraction_pattern-integrate_fourier_space-mean_chunk-68721205b5927e385fce276bb2c3877d', 0, 7, 5)\",\"('mean_chunk-68721205b5927e385fce276bb2c3877d', 0, 6, 7)\",\"('mean_combine-partial-86b5b29207933bee7d0115aeefd707eb', 0, 6, 7)\",\"('mean_agg-aggregate-ec256b678fc0193bb1d67d9884c4d1bb', 6, 7)\",\"('diffraction_pattern-integrate_fourier_space-mean_chunk-68721205b5927e385fce276bb2c3877d', 0, 7, 6)\",\"('mean_chunk-68721205b5927e385fce276bb2c3877d', 0, 6, 5)\",\"('mean_combine-partial-86b5b29207933bee7d0115aeefd707eb', 0, 6, 5)\",\"('mean_agg-aggregate-ec256b678fc0193bb1d67d9884c4d1bb', 6, 5)\",\"('mean_chunk-68721205b5927e385fce276bb2c3877d', 0, 7, 0)\",\"('mean_combine-partial-86b5b29207933bee7d0115aeefd707eb', 0, 7, 0)\",\"('mean_agg-aggregate-ec256b678fc0193bb1d67d9884c4d1bb', 7, 0)\",\"('mean_chunk-68721205b5927e385fce276bb2c3877d', 0, 7, 1)\",\"('mean_combine-partial-86b5b29207933bee7d0115aeefd707eb', 0, 7, 1)\",\"('mean_agg-aggregate-ec256b678fc0193bb1d67d9884c4d1bb', 7, 1)\",\"('mean_chunk-68721205b5927e385fce276bb2c3877d', 0, 7, 2)\",\"('mean_combine-partial-86b5b29207933bee7d0115aeefd707eb', 0, 7, 2)\",\"('mean_agg-aggregate-ec256b678fc0193bb1d67d9884c4d1bb', 7, 2)\",\"('mean_chunk-68721205b5927e385fce276bb2c3877d', 0, 7, 4)\",\"('mean_combine-partial-86b5b29207933bee7d0115aeefd707eb', 0, 7, 4)\",\"('mean_agg-aggregate-ec256b678fc0193bb1d67d9884c4d1bb', 7, 4)\",\"('mean_chunk-68721205b5927e385fce276bb2c3877d', 0, 7, 3)\",\"('mean_combine-partial-86b5b29207933bee7d0115aeefd707eb', 0, 7, 3)\",\"('mean_agg-aggregate-ec256b678fc0193bb1d67d9884c4d1bb', 7, 3)\",\"('mean_chunk-68721205b5927e385fce276bb2c3877d', 0, 7, 5)\",\"('mean_combine-partial-86b5b29207933bee7d0115aeefd707eb', 0, 7, 5)\",\"('mean_agg-aggregate-ec256b678fc0193bb1d67d9884c4d1bb', 7, 5)\",\"('mean_chunk-68721205b5927e385fce276bb2c3877d', 0, 7, 6)\",\"('mean_combine-partial-86b5b29207933bee7d0115aeefd707eb', 0, 7, 6)\",\"('mean_agg-aggregate-ec256b678fc0193bb1d67d9884c4d1bb', 7, 6)\"],\"width\":[0.0019286409999992316,0.0020711419999983605,0.0020881940000023747,0.0019175440000012145,0.0008427109999971094,0.030557433999995,0.03299257899999475,0.042610333999995476,1.510318626,1.5422152970000056,1.4268736889999971,1.475569692999997,1.5074406029999992,1.517559042000002,1.4567928800000018,1.4564494110000012,0.001959382999999093,1.2835194239999979,0.0019275629999953026,1.3202095360000001,0.0002537100000026271,1.3562829689999987,0.000277347000000816,0.003358857000002047,0.0017448049999941873,1.390828373000005,0.0005704149999985475,1.3438671120000052,1.3405371230000043,0.00011021899999974494,0.7414165969999971,0.00045232899999803067,0.0009057930000011538,0.0009995130000035601,1.336716640000006,0.00037718999999469816,1.3611978140000005,0.004873588999998901,1.3304617890000046,0.0015304730000025302,1.3809092229999962,0.001652616999997747,0.009865318999999317,1.3261342550000066,0.000944707000002154,1.330019329999999,1.0554396380000028,0.0010003590000025042,0.0021055979999999863,1.3139212990000004,1.3342940629999944,0.001825160999999298,1.2633918800000004,0.0006021279999970375,1.3367733810000004,0.0005617660000041269,1.2966546839999964,0.0005029399999969542,1.3525510289999971,0.0015723969999967835,1.007878183999999,0.006173656000001415,1.3404257549999983,0.00022555500000009943,1.3496523160000038,0.0003318600000028482,1.351493001999998,0.0002172680000001037,1.3064490100000015,0.0008236119999978087,1.3188466209999987,0.002626552000002391,1.2677536339999946,0.005484144999996943,1.0392440469999968,0.0025093729999952075,1.4053745530000015,0.006884880999997733,1.4178584630000017,0.0002448259999994207,1.3516906959999986,0.0004068860000003838,1.3977054510000002,0.003956598999998562,1.367381971999997,0.0003745749999950476,1.2583484929999997,0.0004809100000002786,0.9827552100000005,0.0016682320000001027,1.2881380329999956,0.00022224199999953953,1.3690358509999996,0.0002638110000034999,1.3614857750000056,0.0006034350000021504,1.3554434670000006,0.00025267799999539875,1.3437702359999975,0.0006271290000015028,1.4898090579999987,0.0018486960000032582,1.1439369170000049,0.0017816909999979202,1.3968205780000034,0.0008607809999929827,1.4495000719999993,0.0004244610000014859,1.4539980049999954,0.0019026570000022502,1.4838193959999941,0.0005086930000004486,1.436015366999996,0.002010841000000596,1.451703594999998,0.00034563100000184477,1.0123125949999974,0.00018448499999834667,1.2616990259999952,0.00012405900000089787,1.3714597889999993,0.0010463569999998867,1.2775108319999973,0.003960666999994089,1.3139070969999977,0.0006208329999992657,0.0008885329999941405,1.303968212000001,1.3214358550000043,0.0006316480000023716,0.0009760410000012598,1.0032257209999997,1.0275483019999996,0.0039178660000018795,0.9365138329999994,0.00042381399999413816,0.9778351160000014,0.00034820199999785473,0.9002304389999978,0.0018922470000006797,0.9096265869999982,0.001011892000001069,0.8917348129999993,0.0003084229999998911,0.9050825989999964,0.0007652669999984596,1.3021356169999976,0.0004343200000036518,1.3066916439999972,0.0009975130000015042,1.2200233970000056,0.000440277999999239,1.2481396029999985,0.00036297799999829294,1.3436326039999997,0.00016677200000003722,1.3345598889999977,0.0005961660000011193,0.6876334099999966,0.0003769239999940055,1.2422094559999977,0.00045222600000016655,0.0006447529999960011,1.4111889160000004,0.00016989000000222632,0.001766850999999292,1.4139257590000014,0.0028379009999994764,0.0009470080000042458,0.001125340000001529,0.0018529419999993024,1.3706344329999993,1.2531885109999976,0.0001574289999979328,0.0009845020000014415,1.3353562010000033,0.0015960619999972891,0.000859946000005607,1.0322244089999941,0.0003841890000018111,0.0003189410000032922,1.425440744999996,0.0025342499999965185,0.0016710900000020956,1.396110741000001,0.000684153000001686,0.0022608980000029533,1.5084839920000022,0.0007251570000050833,0.0007969159999987596,0.0006442249999949468,0.0008220600000043987,1.4929661009999933,1.5309540569999953,0.004150284999994369,0.0026981310000024905,1.4170433260000053,0.0005878950000024474,0.0006100809999978196,1.1314281249999993,0.0003233560000026614,0.0036133360000007997,1.416664658000009,0.0008250090000103683,0.0018036739999871543,1.510559207,0.0032807879999978695,0.0010012350000039305,1.4904625030000034,0.00043236199999796554,0.0037213180000037482,1.638693711000002,0.0007038199999982453,0.0006655509999973219,1.6177159079999939,0.0002738050000061776,0.0008808059999978468,1.6222233490000093,0.000424898000005669,0.0017682649999954947,1.2526770370000122,0.0002618659999882311,0.0016468930000002047,1.5938200800000004,0.00013422499999649062,0.0025154869999965968,1.522022948,0.000750087999989546,0.0005934280000019498,1.5268392370000043,0.0025890589999875147,0.0011669209999922714,1.5168559330000022,0.0032275060000017675,0.00046551399999827936,1.4922234679999917,0.004259820999990893,0.0023142560000053436,1.5891176479999984,0.0041797190000067985,0.0043825620000035315,1.2089338939999976,0.0019543209999994815,0.0016600740000001224,1.5419097609999994,0.0022312350000106562,0.0008356510000027129,1.5718453519999969,0.00017510700000400448,0.001096360999994772,1.4943680290000003,0.000587554999995632,0.00038846200000364206,1.422154926999994,0.0012350680000139391,0.0006007869999962168,1.448937149999992,0.0004373189999995475,0.0019068790000034141,0.0006582769999994298,1.4281007720000076,0.009362842999991017,1.1382863609999987,0.0036380409999878793,0.0012018999999980906,1.4460119799999944,0.0010383259999997563,0.002485247999999274,1.4875981429999996,0.0008613920000044573,0.0007482940000045346,1.4680515000000014,0.0019375090000011141,0.0029298369999963825,1.4876258809999996,0.0006902289999999311,0.001379426999989164,1.510408861000002,0.000690423999998302,0.008704097000006072,1.4737756920000038,0.000561988000001179,0.0006510069999876578,1.1094030329999924,0.0009362269999968476,0.0008219390000050453,1.489961159999993,0.0008366290000054732,0.0004927120000104424,1.505136751000009,0.0005659659999963651,0.0008804529999935085,0.0006026000000076692,1.3439963340000105,0.0027990049999999655,1.4677816230000076,0.004750136000012617,0.004096031000003109,1.3954484249999979,0.001492690999995716,0.0018112329999979693,1.3247585889999982,0.000344983999994497,0.0003551819999927375,1.036854433000002,0.0007724040000027799,0.0020032980000053158,1.0404960270000032,0.0006990109999946981,0.0003753149999994321,0.9845919520000024,0.0013516500000037013,0.001478114999997615,0.9517893500000127,0.0014789939999957369,0.000767150000001493,0.9482470899999953,0.0017836059999893905,0.002794742999995492,0.0021801969999870607,0.9775208650000025,0.006445774999988885,1.016138933999997,0.0002504039999990937,0.0035707290000033254,0.9702081209999989,0.0021939539999920044,0.0017043339999958107,1.4913857660000076,0.002110244999997235,0.0010206790000069077,1.5138594330000075,0.0008344790000052171,0.0006304049999954486,1.5626922169999915,0.0006938679999990427,0.0010489000000006854,1.6427441880000089,0.0030652779999940094,0.0010252240000028223,1.5710502529999957,0.0010871239999943327,0.0006907019999999875,1.5780513480000025,0.0013787560000082522,0.00038844499999868276,0.9278384170000038,0.002572398999987513,0.003409024000006866,1.5534862780000083,0.007426774000009573,0.00046857499999930496,0.006728315000003704,1.5430888740000057,0.0008807140000044456,0.0005531989999951747,0.007495470000009163,1.5075933890000073,0.0017207100000007358,1.4126698090000076,0.0002211529999982531,0.0005086099999971339,0.000519689000000767,1.4594178589999984,0.00031167200000936646,0.0015978450000062594,0.0015332239999992225,0.001092829000000961,1.4707990070000108,1.1659037410000082,0.0004687770000089131,1.3282420970000004,0.0015757200000052762,1.4412301090000028,0.0018161770000091337,1.3393499729999974,0.003030393000003073,1.3456681629999991,0.0022638579999920694,1.3487153320000118,0.0030101189999953704,0.0010802859999898828,1.310943838,1.0636682149999928,0.0006512369999995826,1.2963609239999982,0.005650584999997932,1.2997989260000082,0.00033849300000099447,1.310758270000008,0.0002692300000006753,1.3187154999999962,0.0006369369999958963,0.0007589459999906012,1.4143931190000103,1.3172479099999919,0.00591834099999744,1.0239616859999927,0.0004978810000011435,1.4020830949999947,0.0005006740000084164,1.3550517320000068,0.0015273909999962143,1.3431638929999963,0.0006049320000016678,1.3573594469999932,0.0006692129999947838,1.4108446110000017,0.0003920980000060581,1.3019410899999997,0.00025107700000148725,1.0472088369999994,0.0008722739999882378,1.3214599100000015,0.0010533889999919666,1.3390409570000088,0.0008237449999910496,1.3092853299999945,0.000501518000007195,1.3208826970000018,0.001358303999992927,1.2644454739999986,0.0008827839999980824,1.326525183000001,0.0017370340000013584,1.011033322000003,0.003160514000001058,1.3304851580000019,0.00043480899999792655,1.3747099520000035,0.0014958539999980758,1.3587754039999993,0.00018511400000420508,1.4163783780000045,0.0014397809999877609,1.3832512940000043,0.00012391100000286315,1.3679368760000017,0.00018764400000748083,1.0318625600000075,0.0012524919999918893,1.315667217000012,0.0009706989999926918,1.3340867180000089,0.001162917999991464,1.394400982999997,0.0005164039999954184,1.3899858820000048,0.0006348259999953143,1.3819143810000014,0.0022380040000058443,1.342385410999995,0.00024477499999875363,0.9709132790000012,0.0016467530000028319,0.889295740999998,0.0004830970000000434,0.9621566380000104,0.0003687729999910516,1.0010853360000027,0.0017396190000056322,1.0526736879999987,0.00022712099999466773,0.9661369979999961,0.0014080249999892658,0.9544093700000076,0.0005059340000030943,0.9248009829999972,0.000670706000008181,1.3777588849999916,0.0002881270000045788,1.3513821260000043,0.0010024989999948275,0.7976637499999981,0.00039633499999069954,1.33130242,0.00020944700000313787,1.3054515630000054,0.0006212949999877537,1.49766267199999,0.0014512979999921072,1.4265867900000018,0.0019752710000062734,1.368069934999994,0.0013017399999881718,0.0005148430000048165,0.003702090000004432,1.4961751630000037,0.0020377969999998413,0.001980824000000325,0.0006503279999918732,0.0012974539999959234,0.0006991220000003295,0.0021091549999994186,1.1519516299999992,1.4407791609999947,0.0007095629999867015,0.0013150039999914043,0.0007490790000019842,1.4800842040000077,0.0011392249999886417,0.0006907630000085874,0.0011113139999991972,1.4882385429999943,0.003795379999999682,0.0021387630000049285,0.0018717109999926151,0.00362718799999584,1.5165472169999958,0.005826483000006988,0.003972606999994355,1.4454621249999917,0.002728470999997512,0.0028152679999919883,0.0009030070000051182,1.4794599849999912,0.0030792270000006283,0.0009968899999961423,0.003414765999991687,1.1079880030000027,0.0005154879999906825,0.0008839649999998755,0.0007492550000023357,1.387781793000002,0.00035532799999771214,0.00043664800000442483,0.0004145040000054223,1.5013609690000038,0.0027468000000112625,0.003394306999993546,0.0011408729999971001,1.3947607989999966,0.0010211860000026718,0.0009795520000039915,0.0030276880000030815,1.4352763110000097,0.00112113999999508,0.0006158959999993385,0.0005156209999910288,1.4784540469999996,0.002384023999994156,0.0023035169999872096,0.005195746000012491,1.4418095719999968,0.00478581699999836,0.0012673890000058918,0.002770209999994222,0.0031186909999973977,0.0008816339999953016,0.0009018650000029993,1.1119315840000041,1.3481064959999998,0.0036626309999974183,0.0006746319999990646,0.0024203099999908773,1.3670012070000013,0.0035169869999975845,0.00398717999999576,0.0005877469999973073,1.4765060860000006,0.0038674470000046313,0.0005556110000100034,0.0006727819999952089,1.5264540999999952,0.0011734269999976732,0.0005882690000049706,0.0018845129999931487,1.6465698900000092,0.002392268999997782,0.0005280040000030795,0.003582838999989235,1.5249549259999924,0.00023393200000043635,0.0012764150000066365,0.004641672000005315,1.1108312379999887,0.0013140030000045044,0.0023944439999894485,0.0006779139999935069,1.646248201000006,0.0031948200000044835,0.0005510550000025205,0.0015523369999925762,1.6296418370000083,0.00020701999999062082,0.0011331499999869266,0.001420848999998725,1.5562686350000092,0.0008148900000009007,0.00021220399999322126,0.001991668000002278,1.4802621270000031,0.00075520199999346,0.0014204349999999977,0.00460909499999218,0.001358050000007438,0.0023017309999886493,1.5385830589999898,0.015523724999994215,1.517384321999998,0.004210134000004473,0.0009752090000034741,0.002541586000006646,0.0006162059999894609,0.0009459939999914013,0.0036638339999939262,1.1764294530000114,1.555286917999993,0.002080128000002901,0.0005280150000004369,0.0020189000000101487,1.5935021989999996,0.0006933469999950148,0.0010329539999958115,0.0009065590000005841,1.6029933970000059,0.0016864189999949986,0.0020056900000042788,0.00220000600000958,1.5440022230000068,0.00016951199999937216,0.000491914999997789,0.0008490980000033232,1.6032087849999925,0.0003928259999952388,0.0005129870000075698,0.00039360700000656834,1.710676938000006,0.0028664910000060217,0.0037017279999957964,0.005263471999995772,0.0017211399999865762,0.0016085750000058852,0.002463328999994019,1.3184283169999986,1.703085277999989,0.0006316869999949404,0.00526290999999901,0.00213305999999136,1.790158077000001,0.0012551720000004707,0.0005750119999987646,0.0003791879999965886,1.7329845049999903,0.00031620600000792365,0.0068414800000056175,0.0007062629999978753,1.7571511499999986,0.012111098000005427,0.004687781000001223,0.0019101700000021538,1.6891034789999964,0.00029007899999555775,0.00045521600000597573,0.0005476259999994681,1.6228864839999915,0.001722952000008604,0.0005393590000011272,0.00031498100000248996,1.3690614560000114,0.0033360529999981736,0.0007304159999961257,0.00059262399999227,1.2675043309999978,0.00023140099999352515,0.0006067639999969288,0.0014096199999897863,1.2648038250000013,0.0007154259999992973,0.0009014289999953462,0.0005593699999906221,1.039101498000008,0.0024477550000057136,0.005777490999989254,0.0029550440000036815,0.9823788709999945,0.009424038999995332,0.002222697999997081,0.0005633600000010119,0.8950563650000021,0.0007547480000056339,0.0035458220000066376,0.000639067999998133,0.8597756979999929,0.0021735720000037873,0.003083310000008055,0.0027297889999999825,0.737601196,0.00114892199999872,0.0029317969999880233,0.0020670509999973774,0.00023186299999622406,0.00257219200000236,0.0004204430000100956,0.0014635670000018308,0.0014485549999960767,0.0005490209999976514,0.0006181190000091874,0.0007164729999971087,0.0006910139999973808,0.0005805870000017421,0.0008744009999901436,0.0007488029999933588,0.00017435399999499168,0.000377984000010656,0.0007288439999939555,0.00028009100000758735,0.00029004399999621455,0.0003962730000068859,0.00021623499999634532,0.00027940399999693,0.00041047399999172285],\"x\":[0.0009643205000031685,0.0012677299999950264,0.001502149000003783,0.0018147130000016887,0.002688995499994462,0.01778541800000255,0.019239101499998412,0.02425352999999575,0.7585793869999975,0.7746755025000027,0.7171349915000036,0.7416105154999997,0.7576700335000055,0.7939377209999989,0.7654324819999943,0.7750252645000018,1.4357467264999997,2.080823514000002,1.4826649104999987,2.1443682949999925,1.4953122860000008,2.174093894500004,1.5073007995000012,1.5110760464999942,1.513546970500002,2.2090999804999996,1.5146407275000016,2.1867945970000022,2.1855390624999984,1.5491537854999962,1.923348817499999,1.5617708885,1.5639857004999982,1.566004292499997,2.2384693959999993,2.294953206999999,2.977100003000004,2.7266515405000007,3.395103876500002,2.805947915499999,3.5026825574999947,2.856568615499995,2.8622700044999974,3.521715731499995,2.8675927434999977,3.5329891410000016,3.397148439999995,2.9072606504999996,2.908745046,3.566669326499998,3.5776139175000026,3.659304883499999,4.293394366000001,3.930308705999998,4.602583558500001,4.0662843619999975,4.715720411999996,4.186048102000001,4.862904151499997,4.195277775500003,4.701834563000006,4.204780544999998,4.880041178500001,4.2250509705,4.9004937260000005,4.246491235999997,4.922841894999998,4.929012184000001,5.584467660000001,5.207247639000002,5.867561627499995,5.275964416999997,5.918067590999996,5.3678637505,5.8907382115,5.5443729154999986,6.2528072644999995,5.555464496499994,6.2687605705,5.577297866999999,6.253758586999993,5.599733830999995,6.299158912500005,6.246503660499997,6.933458075000004,6.411068810499998,7.040850611499998,6.528091261,7.020461588999993,6.556174116999998,7.211201868499998,6.930495081999993,7.618113373499995,6.956561821500003,7.6377838465,6.979447689499999,7.6592319864999965,7.000301577999998,7.672731239999997,7.516109638499998,8.262533086000005,7.621481622999994,8.1965155105,7.6755719935,8.376568393,7.856874638500003,8.582634760999994,8.304125008499994,9.032236390500003,8.3204939325,9.063754590000002,8.3389042095,9.0625579485,8.352999822499996,9.081841154499998,8.769135601499997,9.2757703065,9.010388978500004,9.641974187000002,9.076178562499997,9.766960418499998,9.311574895500002,9.952816541000004,9.762017000499995,10.425516131499997,9.7821758985,9.782882810499999,10.434932517999997,10.4500985265,9.807920303000003,9.808678373500001,10.310711533499997,10.329596799999997,10.275551754999995,10.746799904499994,10.453929224999996,10.944645989999998,10.592770672999997,11.0450344745,10.814147427499996,11.272123143499996,10.845471912999997,11.292556582499998,11.084292708500001,11.5374704185,11.092884051499993,11.745902762499995,11.112024609000002,11.766020034,11.216992523499997,11.8280760205,11.435414246999997,12.059986735499997,11.495813738999999,12.168105314000002,11.728400119999996,12.397630544500004,11.741030823000003,12.085641468999995,11.991292184999999,12.613194174,12.398287959000001,12.400973123499995,13.107840748000001,12.420467446000004,12.424916270499999,13.1363501875,12.438525984500004,12.440354955000004,12.441283640999998,12.442702101999998,13.128852920499995,13.0781057075,12.6848339175,12.685716671999998,13.354263861500002,12.841490945999993,12.845774474999999,13.365343397499998,13.065569848499997,13.0665511435,13.779745386499997,13.236609692999998,13.239368816999999,13.9401535425,13.706311708499996,13.70880424,14.465835342999995,13.814434402499998,13.815121216999998,13.815759557500002,13.816415112999998,14.56322843049999,14.582743677499991,13.846133839499998,13.8546138795,14.569282407000003,13.883773187499997,13.886045559500005,14.455717197499993,14.024359242000003,14.028662646,14.741963850000005,14.494565839499998,14.499108332000006,15.256980923499995,14.64164461899999,14.645933870500002,15.3921710945,15.022081243000002,15.024479854999996,15.8461161165,15.227829682000007,15.2320025195,16.044318926000003,15.280044775500002,15.282100913999997,16.09408722549999,15.316225044999996,15.319847582500003,15.949731736499999,15.349597136,15.351287196499996,16.153619229,15.459767200499996,15.462386996500001,16.225330365999994,16.013145435,16.016308499999994,16.780386082499987,16.146649442499992,16.1500477485,16.911950350499993,16.579388996999995,16.58507960499999,17.33213678,16.668605981499994,16.673500577,17.471973914000003,16.8607945925,16.86688401299999,17.476262984,16.908305720499996,16.911307843999992,17.6872819405,16.9545418715,16.957712328499994,17.744936552,16.989498828500004,16.991800083499996,17.740298028499993,17.546897496499994,17.547662482000007,18.26008194949999,17.678026642000006,17.6800679065,18.405611527999994,18.07941559550001,18.08162655950001,18.082823547500013,18.797127481000004,18.0885308445,18.66320732550001,18.2693498915,18.277610317999986,19.002222661000005,18.460528763,18.464250258999996,19.21041807249999,18.49099294700001,18.492951479,19.227681157999996,18.534439080500007,18.53782151649999,19.286700586500004,18.973413764499995,18.9786499815,19.7355174315,19.131314126999996,19.139797488500008,19.884556953,19.23586090900001,19.2370114915,19.792993149499992,19.512305595499996,19.516062964499994,20.262122837000007,19.727156465499988,19.728193040999997,20.4815281435,19.95827054499999,19.96204950650001,19.962737925,20.634956107000008,19.974342817499988,20.7109546775,20.041165072,20.05029050750001,20.753358141499987,20.350465354500002,20.3541830905,21.0186132825,20.493084284000005,20.493825635999997,21.018103494499996,20.622370099999998,20.624473144999996,21.15070537749999,21.0103297255,21.013449904500007,21.506662880999997,21.235417278,21.238005495500005,21.715656638,21.310343766000003,21.315849560000004,21.790801203,21.447448163999994,21.45240776749999,21.453739926500006,21.943481597499996,21.459263369499993,21.971478012999995,21.538872240000003,21.541439871500003,22.030961170499992,21.672916572999995,21.678378682,22.426617819,21.688418711500006,21.69290385449999,22.451854172500006,22.00041416949999,22.00228973050001,22.78542152749999,22.19408230500001,22.196473259,23.020435191000004,22.267626007999993,22.270586765000004,23.06294157149999,22.43702952599999,22.439488158999993,23.229400065999997,22.481814295999996,22.489775580499995,22.954586120499997,22.520748723500006,22.528226285000002,23.310077309999997,23.182486212,23.187548934499986,23.193513533499996,23.969901723999996,23.21064235,23.2122419225,23.216646919,23.97939316249999,23.421823387999993,24.133917508500005,23.567889486499993,23.568711085999993,23.569564523500006,24.29987536450001,23.845249615,23.846765455500005,23.849144452000004,23.850372060499993,24.5862389335,24.442196388499994,24.019729564499997,24.684632721499995,24.093970188,24.821164185499995,24.736389377500004,25.407378236499994,24.749530092499995,25.424790061500005,24.844776085999996,25.520835389,25.030947105500005,25.032920009999998,25.688867032999994,25.566562404500004,25.3252812475,25.974868189999995,25.35207179550001,26.006443739999995,25.5459067675,26.201963743999997,26.080279435999998,26.740224945999998,26.098611449499998,26.099223369,26.806680642499998,26.769224455,26.199795130499993,26.718581095000005,26.3452492925,27.047100122499998,26.624098829999994,27.302216368000003,26.6578473875,27.331272728499997,26.85865330099999,27.5390991175,27.232751612499996,27.94056075350001,27.400710998000008,28.054985452999986,27.434513807499997,27.9595485305,27.523536045,28.187288656999996,27.7508365165,28.4220712705,27.9821144605,28.638940903999995,28.004689701000004,28.667189725499995,28.220139481999993,28.854897011000006,28.485349439000004,29.149822964500004,28.650684892,29.157610566000002,28.711825504000004,29.380246874000008,28.848762774500003,29.536686856999992,29.097194138999996,29.779269702999997,29.295305665,30.004847228000003,29.3330806715,30.02631033600001,29.4895856105,30.174314544000012,29.663947738999994,30.180335278,29.814703029,30.47477980149999,30.050898289499997,30.718782796,30.227790291000005,30.9276919885,30.461112635999996,31.158605947999988,30.698990101999996,31.391816351499997,30.714633188000008,31.389011730500002,30.726572203499998,31.213722847499994,30.85992202749999,31.308011745499996,31.1433936925,31.62809068,31.3884965135,31.889592328000006,31.628042835499997,32.156452075999994,31.7029304565,32.186710665999996,31.7538878525,32.234451162,31.85671494399999,32.32315390250001,32.06267516999999,32.7528392775,32.0854976025,32.762117852,32.11300963949999,32.512941016,32.39133698650001,33.057513689000004,32.670911967500004,33.32494467849999,32.68654039650001,33.43666675,32.71338075199999,33.429463952000006,32.792169125499996,33.4802568475,32.914276318000006,32.918828331499995,32.92482995100001,33.6752167085,33.442667830499985,33.444615434,33.44584718099999,33.446741399000004,33.44766204400001,33.4489977775,34.02593840600001,34.1717001155,33.7255279125,33.727590682,33.7297835535,34.471843569,33.98136097449999,33.98576897950001,33.98964882599999,34.734941276499995,34.146840138,34.154326509499995,34.16512172249999,34.167768795,34.9277602925,34.174616018500004,34.18127411549999,34.90809907250001,34.18890517550001,34.201587645000004,34.2084334955,34.95049855250001,34.426184724500004,34.42896481999999,34.432889882,34.9902461395,34.606368538,34.6081973495,34.6095014445,35.305355374499996,34.89282507200001,34.89351114,34.894227388999994,35.64544427049999,35.214863306,35.218531962499995,35.2214351345,35.9197754595,35.483302914999996,35.48838849799999,35.491898163,36.212260112500005,35.54705744900001,35.54841411299999,35.549410094500004,36.2905837805,35.63298880800001,35.63630093249999,35.64178672600001,36.367168191000005,35.692504886500004,35.69533502349999,35.697258782999995,35.7000993625,35.70199187,35.702800709499996,36.25914137299999,36.38490304700001,36.0015544915,36.004539347999994,36.007134009,36.69225504750001,36.39868416750001,36.404769442,36.4080460805,37.146979466000005,36.625567347499995,36.6288433215,36.630158355000006,37.395770424999995,36.818813784499994,36.820596826499994,36.8227442285,37.652126816000006,36.935345970499995,36.94216584499999,36.9473211965,37.713936058,37.03188464099999,37.0336616045,37.037183337,37.59718367000001,37.0632160685,37.06592580499999,37.068293485,37.89355425949999,37.091205047,37.098890427499995,37.105194474499996,37.9232318815,37.376487221000005,37.378271051,37.3820183375,38.1615225315,37.89215586900001,37.896242388999994,37.899330441000004,38.6408934925,38.154972631999996,38.1596358915,38.16258135849999,38.165489421000004,38.1672574575,38.9376154525,38.17851683549999,38.946278754999994,38.478428885,38.48094987149999,38.482629312,38.482140961,38.484277121999995,38.48650692599999,39.07645013049999,39.26739121999999,38.718991360000004,38.72166927650001,38.72692633199999,39.5252569335,38.7409504175,38.743770486,38.7473596105,39.5502154835,38.942027525499995,38.945987992,38.949548397,39.7240325355,39.382011805999994,39.382653249499995,39.384024369,40.187131225499996,39.667079185999995,39.6678671145,39.6689194235,40.524690989999996,39.70825263249999,39.71147736799999,39.715891219,39.719281347000006,39.720851318499996,39.722822647499996,40.38319283649999,40.581889094000005,40.0572054025,40.063759352999995,40.07042873100001,40.9798187975,40.32339470000001,40.324857921,40.325837397,41.1937236065,40.352886364,40.35703175100001,40.36160756049999,41.241346632,40.50297629800001,40.511901055500005,40.52014797299999,41.36903114549999,40.9907490225,40.991668084,40.992603321999994,41.809948655,41.04475965100001,41.0468367925,41.0478195755,41.73285283599999,41.382213131499995,41.384688026000006,41.38845485899999,42.0228847355,41.43441495949999,41.438120912,41.43980161500001,42.0754879885,41.876372825999994,41.8811962635,41.882331635,42.402542349,42.06336750449999,42.075982735500006,42.090295045999994,42.587944540500004,42.128906754499994,42.137370594000004,42.139315096999994,42.5882974945,42.21430966300001,42.217111144,42.224969261,42.655584362,42.421608572,42.427545061000004,42.435300199500006,42.806584618,42.623014667999996,42.62586177749999,42.63047812449999,42.65752238750001,42.659331343999995,42.66150641750001,42.7103863265,42.7128560905,42.71422608350001,42.925092396500006,42.92613560950001,42.92731599,43.0374913805,43.03855190349999,43.0403802985,43.079838874000004,43.080468478,43.08317673699999,43.0859034735,43.086409277,43.0873320325,43.17582794350001,43.176297961,43.176828060999995],\"y\":[8,7,7,7,8,8,7,7,2,7,8,4,3,1,5,6,8,8,4,4,5,5,6,3,3,6,3,3,2,7,7,1,1,1,1,7,7,8,8,4,4,5,5,3,2,5,2,6,6,6,1,7,7,2,2,8,8,3,3,4,4,5,5,6,6,1,1,7,7,4,4,2,2,8,8,3,3,5,5,6,6,1,1,7,7,8,8,4,4,2,2,6,6,3,3,5,5,1,1,4,4,7,7,8,8,2,2,6,6,3,3,5,5,1,1,7,7,4,4,8,8,2,2,6,6,5,5,5,7,3,1,3,1,4,4,8,8,2,2,3,3,1,1,6,5,6,6,7,7,4,4,8,8,2,2,3,3,1,1,5,5,6,6,6,7,7,7,4,4,1,4,4,1,8,8,8,2,2,2,3,3,3,5,5,5,1,1,1,6,4,4,4,4,6,7,7,7,2,2,2,8,8,8,3,3,3,5,5,5,2,2,2,1,1,1,7,7,7,4,4,4,6,6,6,8,8,8,3,3,3,5,5,5,4,4,4,2,2,2,1,1,1,7,7,7,6,6,6,8,8,8,3,3,3,5,5,5,4,4,4,1,4,4,2,2,2,7,7,7,8,8,8,6,6,6,3,3,3,5,5,5,4,4,4,1,1,1,2,2,2,7,7,8,8,7,7,6,6,6,4,4,4,3,3,3,5,5,5,1,1,1,2,2,2,8,8,8,7,7,7,7,6,6,3,3,3,5,5,5,4,4,4,1,1,1,2,2,2,8,8,8,7,7,7,6,6,6,3,3,3,5,5,5,5,4,4,4,4,6,6,1,1,1,1,2,2,2,2,8,2,7,7,3,3,4,5,4,4,6,6,2,2,2,1,8,8,7,7,3,3,5,5,4,1,1,4,6,6,2,2,8,8,7,7,3,3,6,6,5,5,4,4,1,1,2,2,8,8,7,7,3,3,4,4,6,6,5,5,1,1,2,2,8,8,7,7,3,3,6,6,4,4,5,5,1,1,2,2,6,6,8,8,7,7,3,3,4,4,5,5,1,1,7,7,3,3,2,2,8,8,6,6,4,4,5,5,7,7,1,1,3,3,2,2,4,4,4,4,6,6,6,8,6,6,8,6,5,5,5,5,7,7,7,7,3,3,3,3,2,3,3,3,1,1,1,1,4,4,4,4,8,8,8,8,6,6,6,6,5,5,5,5,7,7,7,7,4,4,4,4,3,3,3,3,2,2,2,2,2,2,1,2,8,8,8,8,6,6,6,6,5,5,5,5,1,1,1,1,7,7,7,7,4,4,4,4,2,2,2,2,3,3,3,3,8,8,8,8,6,6,6,6,4,4,5,4,4,4,5,5,1,1,7,1,1,7,1,7,2,2,2,2,3,3,3,3,8,8,8,8,6,6,6,6,1,1,1,1,5,5,5,5,5,5,5,4,7,7,7,7,2,2,2,2,3,3,3,3,8,8,8,8,6,6,6,6,5,5,5,5,1,1,1,1,4,4,4,4,7,7,7,7,2,2,2,2,3,3,3,3,8,8,8,8,5,5,5,5,6,6,6,6,6,6,6,4,1,6,4,6,4,6,3,7,6,4,7,6,4,8,1,3]},\"selected\":{\"id\":\"1047\"},\"selection_policy\":{\"id\":\"1046\"}},\"id\":\"1032\",\"type\":\"ColumnDataSource\"},{\"attributes\":{},\"id\":\"1046\",\"type\":\"UnionRenderers\"},{\"attributes\":{},\"id\":\"1041\",\"type\":\"CategoricalTickFormatter\"},{\"attributes\":{},\"id\":\"1042\",\"type\":\"AllLabels\"},{\"attributes\":{},\"id\":\"1010\",\"type\":\"LinearScale\"},{\"attributes\":{},\"id\":\"1047\",\"type\":\"Selection\"},{\"attributes\":{\"coordinates\":null,\"data_source\":{\"id\":\"1032\"},\"glyph\":{\"id\":\"1034\"},\"group\":null,\"hover_glyph\":null,\"muted_glyph\":{\"id\":\"1036\"},\"nonselection_glyph\":{\"id\":\"1035\"},\"view\":{\"id\":\"1038\"}},\"id\":\"1037\",\"type\":\"GlyphRenderer\"},{\"attributes\":{\"axis_label\":\"Time (s)\",\"axis_line_color\":null,\"coordinates\":null,\"formatter\":{\"id\":\"1044\"},\"group\":null,\"major_label_policy\":{\"id\":\"1045\"},\"major_tick_line_color\":null,\"ticker\":{\"id\":\"1015\"}},\"id\":\"1014\",\"type\":\"LinearAxis\"},{\"attributes\":{\"fill_color\":{\"field\":\"color\"},\"hatch_color\":{\"field\":\"color\"},\"height\":{\"value\":1},\"line_color\":{\"value\":\"gray\"},\"width\":{\"field\":\"width\"},\"x\":{\"field\":\"x\"},\"y\":{\"field\":\"y\"}},\"id\":\"1034\",\"type\":\"Rect\"}],\"root_ids\":[\"1003\"]},\"title\":\"Bokeh Application\",\"version\":\"2.4.3\"}};\n",
       "  const render_items = [{\"docid\":\"9068a79d-be84-49b8-8d86-a118474b8dc3\",\"root_ids\":[\"1003\"],\"roots\":{\"1003\":\"b30d12aa-48f7-4102-a791-70fcc0aaab27\"}}];\n",
       "  root.Bokeh.embed.embed_items_notebook(docs_json, render_items);\n",
       "  }\n",
       "  if (root.Bokeh !== undefined) {\n",
       "    embed_document(root);\n",
       "  } else {\n",
       "    let attempts = 0;\n",
       "    const timer = setInterval(function(root) {\n",
       "      if (root.Bokeh !== undefined) {\n",
       "        clearInterval(timer);\n",
       "        embed_document(root);\n",
       "      } else {\n",
       "        attempts++;\n",
       "        if (attempts > 100) {\n",
       "          clearInterval(timer);\n",
       "          console.log(\"Bokeh: ERROR: Unable to run BokehJS code because BokehJS library is missing\");\n",
       "        }\n",
       "      }\n",
       "    }, 10, root)\n",
       "  }\n",
       "})(window);"
      ],
      "application/vnd.bokehjs_exec.v0+json": ""
     },
     "metadata": {
      "application/vnd.bokehjs_exec.v0+json": {
       "id": "1003"
      }
     },
     "output_type": "display_data"
    }
   ],
   "source": [
    "profilers[0].visualize();"
   ]
  },
  {
   "cell_type": "markdown",
   "id": "9f7afda6-5b1d-4362-9495-4ad140716f5f",
   "metadata": {},
   "source": [
    "The result from the `ResourceProfiler` is shown below: This shows two lines, one for total CPU percentage used by all the workers, and one for total memory usage. The CPU usage is scaled so each worker contributes up to $100 \\ \\%$, i.e. two fully utilized workers use $200 \\ \\%$."
   ]
  },
  {
   "cell_type": "code",
   "execution_count": 16,
   "id": "42497cde-4e5c-4844-91e5-e8d91e1aafa9",
   "metadata": {
    "tags": [
     "skip-test"
    ]
   },
   "outputs": [
    {
     "data": {
      "text/html": [
       "\n",
       "  <div class=\"bk-root\" id=\"058da2f7-dab1-4b35-bd38-3e4ef33c55cd\" data-root-id=\"1102\"></div>\n"
      ]
     },
     "metadata": {},
     "output_type": "display_data"
    },
    {
     "data": {
      "application/javascript": [
       "(function(root) {\n",
       "  function embed_document(root) {\n",
       "  const docs_json = {\"9509bf12-8f91-404c-b2df-fe854b258fb5\":{\"defs\":[],\"roots\":{\"references\":[{\"attributes\":{\"below\":[{\"id\":\"1113\"}],\"center\":[{\"id\":\"1116\"},{\"id\":\"1120\"},{\"id\":\"1145\"}],\"extra_y_ranges\":{\"memory\":{\"id\":\"1147\"}},\"height\":300,\"left\":[{\"id\":\"1117\"}],\"renderers\":[{\"id\":\"1134\"},{\"id\":\"1152\"}],\"right\":[{\"id\":\"1166\"}],\"title\":{\"id\":\"1103\"},\"toolbar\":{\"id\":\"1125\"},\"toolbar_location\":\"above\",\"width\":800,\"x_range\":{\"id\":\"1105\"},\"x_scale\":{\"id\":\"1109\"},\"y_range\":{\"id\":\"1107\"},\"y_scale\":{\"id\":\"1111\"}},\"id\":\"1102\",\"subtype\":\"Figure\",\"type\":\"Plot\"},{\"attributes\":{\"axis_label\":\"% CPU\",\"coordinates\":null,\"formatter\":{\"id\":\"1138\"},\"group\":null,\"major_label_policy\":{\"id\":\"1139\"},\"ticker\":{\"id\":\"1118\"}},\"id\":\"1117\",\"type\":\"LinearAxis\"},{\"attributes\":{},\"id\":\"1109\",\"type\":\"LinearScale\"},{\"attributes\":{},\"id\":\"1139\",\"type\":\"AllLabels\"},{\"attributes\":{\"line_alpha\":0.1,\"line_color\":\"#440154\",\"line_width\":4,\"x\":{\"field\":\"x\"},\"y\":{\"field\":\"y\"}},\"id\":\"1132\",\"type\":\"Line\"},{\"attributes\":{\"axis_label\":\"Time (s)\",\"coordinates\":null,\"formatter\":{\"id\":\"1141\"},\"group\":null,\"major_label_policy\":{\"id\":\"1142\"},\"ticker\":{\"id\":\"1114\"}},\"id\":\"1113\",\"type\":\"LinearAxis\"},{\"attributes\":{\"label\":{\"value\":\"Memory\"},\"renderers\":[{\"id\":\"1152\"}]},\"id\":\"1165\",\"type\":\"LegendItem\"},{\"attributes\":{\"data\":{\"x\":[0.0,1.012140945,2.014114571,3.01568784,4.0187211089999995,5.0196297009999995,6.0209030939999995,7.023746243,8.026647393,9.031319041,10.03267812,11.033016768,12.034729303,13.036319656,14.03692996,15.040222854,16.042617494,17.047976264000003,18.050716837000003,19.051220031000003,20.05353093,21.057580301,22.062136845,23.067141089000003,24.069247476,25.071950177,26.072701396000003,27.07322521,28.073627604000002,29.078158437000003,30.080089057000002,31.082378144000003,32.087168025,33.091751468999995,34.101046425999996,35.101467211,36.101954018,37.105336417,38.10847373,39.108919657,40.113303845,41.116718404,42.121705191],\"y\":[741.29408,857.903104,862.6176,908.140544,895.13984,942.01856,906.551296,858.042368,923.385856,936.177664,841.371648,823.713792,869.093376,930.705408,901.312512,912.359424,924.123136,845.774848,824.782848,814.362624,889.921536,835.362816,822.956032,859.8528,882.642944,867.815424,897.544192,897.048576,871.411712,878.01856,886.730752,926.67904,786.423808,989.81888,946.573312,929.734656,891.285504,852.455424,959.950848,905.035776,873.218048,919.822336,798.08512]},\"selected\":{\"id\":\"1164\"},\"selection_policy\":{\"id\":\"1163\"}},\"id\":\"1148\",\"type\":\"ColumnDataSource\"},{\"attributes\":{},\"id\":\"1163\",\"type\":\"UnionRenderers\"},{\"attributes\":{},\"id\":\"1121\",\"type\":\"SaveTool\"},{\"attributes\":{},\"id\":\"1182\",\"type\":\"AllLabels\"},{\"attributes\":{\"coordinates\":null,\"group\":null,\"items\":[{\"id\":\"1146\"},{\"id\":\"1165\"}]},\"id\":\"1145\",\"type\":\"Legend\"},{\"attributes\":{},\"id\":\"1143\",\"type\":\"UnionRenderers\"},{\"attributes\":{},\"id\":\"1144\",\"type\":\"Selection\"},{\"attributes\":{},\"id\":\"1164\",\"type\":\"Selection\"},{\"attributes\":{\"coordinates\":null,\"group\":null,\"text\":\"Profile Results\"},\"id\":\"1103\",\"type\":\"Title\"},{\"attributes\":{\"source\":{\"id\":\"1130\"}},\"id\":\"1135\",\"type\":\"CDSView\"},{\"attributes\":{\"line_color\":\"#29788E\",\"line_width\":4,\"x\":{\"field\":\"x\"},\"y\":{\"field\":\"y\"}},\"id\":\"1149\",\"type\":\"Line\"},{\"attributes\":{\"line_alpha\":0.2,\"line_color\":\"#29788E\",\"line_width\":4,\"x\":{\"field\":\"x\"},\"y\":{\"field\":\"y\"}},\"id\":\"1151\",\"type\":\"Line\"},{\"attributes\":{},\"id\":\"1118\",\"type\":\"BasicTicker\"},{\"attributes\":{\"axis\":{\"id\":\"1117\"},\"coordinates\":null,\"dimension\":1,\"group\":null,\"ticker\":null},\"id\":\"1120\",\"type\":\"Grid\"},{\"attributes\":{},\"id\":\"1142\",\"type\":\"AllLabels\"},{\"attributes\":{\"coordinates\":null,\"data_source\":{\"id\":\"1130\"},\"glyph\":{\"id\":\"1131\"},\"group\":null,\"hover_glyph\":null,\"muted_glyph\":{\"id\":\"1133\"},\"nonselection_glyph\":{\"id\":\"1132\"},\"view\":{\"id\":\"1135\"}},\"id\":\"1134\",\"type\":\"GlyphRenderer\"},{\"attributes\":{\"tools\":[{\"id\":\"1121\"},{\"id\":\"1122\"},{\"id\":\"1123\"},{\"id\":\"1124\"}]},\"id\":\"1125\",\"type\":\"Toolbar\"},{\"attributes\":{\"dimensions\":\"width\"},\"id\":\"1124\",\"type\":\"PanTool\"},{\"attributes\":{},\"id\":\"1111\",\"type\":\"LinearScale\"},{\"attributes\":{\"end\":989.81888,\"start\":741.29408},\"id\":\"1147\",\"type\":\"Range1d\"},{\"attributes\":{\"end\":608.5},\"id\":\"1107\",\"type\":\"Range1d\"},{\"attributes\":{\"label\":{\"value\":\"% CPU\"},\"renderers\":[{\"id\":\"1134\"}]},\"id\":\"1146\",\"type\":\"LegendItem\"},{\"attributes\":{},\"id\":\"1138\",\"type\":\"BasicTickFormatter\"},{\"attributes\":{\"axis\":{\"id\":\"1113\"},\"coordinates\":null,\"group\":null,\"ticker\":null},\"id\":\"1116\",\"type\":\"Grid\"},{\"attributes\":{},\"id\":\"1114\",\"type\":\"BasicTicker\"},{\"attributes\":{\"coordinates\":null,\"data_source\":{\"id\":\"1148\"},\"glyph\":{\"id\":\"1149\"},\"group\":null,\"hover_glyph\":null,\"muted_glyph\":{\"id\":\"1151\"},\"nonselection_glyph\":{\"id\":\"1150\"},\"view\":{\"id\":\"1153\"},\"y_range_name\":\"memory\"},\"id\":\"1152\",\"type\":\"GlyphRenderer\"},{\"attributes\":{\"axis_label\":\"Memory (MB)\",\"coordinates\":null,\"formatter\":{\"id\":\"1181\"},\"group\":null,\"major_label_policy\":{\"id\":\"1182\"},\"ticker\":{\"id\":\"1180\"},\"y_range_name\":\"memory\"},\"id\":\"1166\",\"type\":\"LinearAxis\"},{\"attributes\":{},\"id\":\"1122\",\"type\":\"ResetTool\"},{\"attributes\":{},\"id\":\"1141\",\"type\":\"BasicTickFormatter\"},{\"attributes\":{\"source\":{\"id\":\"1148\"}},\"id\":\"1153\",\"type\":\"CDSView\"},{\"attributes\":{\"dimensions\":\"width\"},\"id\":\"1123\",\"type\":\"WheelZoomTool\"},{\"attributes\":{\"line_alpha\":0.2,\"line_color\":\"#440154\",\"line_width\":4,\"x\":{\"field\":\"x\"},\"y\":{\"field\":\"y\"}},\"id\":\"1133\",\"type\":\"Line\"},{\"attributes\":{\"end\":42.121705191},\"id\":\"1105\",\"type\":\"Range1d\"},{\"attributes\":{\"data\":{\"x\":[0.0,1.012140945,2.014114571,3.01568784,4.0187211089999995,5.0196297009999995,6.0209030939999995,7.023746243,8.026647393,9.031319041,10.03267812,11.033016768,12.034729303,13.036319656,14.03692996,15.040222854,16.042617494,17.047976264000003,18.050716837000003,19.051220031000003,20.05353093,21.057580301,22.062136845,23.067141089000003,24.069247476,25.071950177,26.072701396000003,27.07322521,28.073627604000002,29.078158437000003,30.080089057000002,31.082378144000003,32.087168025,33.091751468999995,34.101046425999996,35.101467211,36.101954018,37.105336417,38.10847373,39.108919657,40.113303845,41.116718404,42.121705191],\"y\":[0.0,567.6,544.2,571.7,589.8,608.5,572.9,579.8,607.6,527.3,548.2,573.3,598.0,590.5,542.8,562.9,531.5,528.3,547.6,547.4,531.5,552.3,540.5,532.1,524.4,564.2,588.4,603.3,560.0,603.1,559.9,586.7,560.6,584.6,527.9,539.8,522.5,524.0,508.3,517.7,476.9,462.7,426.8]},\"selected\":{\"id\":\"1144\"},\"selection_policy\":{\"id\":\"1143\"}},\"id\":\"1130\",\"type\":\"ColumnDataSource\"},{\"attributes\":{},\"id\":\"1180\",\"type\":\"BasicTicker\"},{\"attributes\":{\"line_alpha\":0.1,\"line_color\":\"#29788E\",\"line_width\":4,\"x\":{\"field\":\"x\"},\"y\":{\"field\":\"y\"}},\"id\":\"1150\",\"type\":\"Line\"},{\"attributes\":{\"line_color\":\"#440154\",\"line_width\":4,\"x\":{\"field\":\"x\"},\"y\":{\"field\":\"y\"}},\"id\":\"1131\",\"type\":\"Line\"},{\"attributes\":{},\"id\":\"1181\",\"type\":\"BasicTickFormatter\"}],\"root_ids\":[\"1102\"]},\"title\":\"Bokeh Application\",\"version\":\"2.4.3\"}};\n",
       "  const render_items = [{\"docid\":\"9509bf12-8f91-404c-b2df-fe854b258fb5\",\"root_ids\":[\"1102\"],\"roots\":{\"1102\":\"058da2f7-dab1-4b35-bd38-3e4ef33c55cd\"}}];\n",
       "  root.Bokeh.embed.embed_items_notebook(docs_json, render_items);\n",
       "  }\n",
       "  if (root.Bokeh !== undefined) {\n",
       "    embed_document(root);\n",
       "  } else {\n",
       "    let attempts = 0;\n",
       "    const timer = setInterval(function(root) {\n",
       "      if (root.Bokeh !== undefined) {\n",
       "        clearInterval(timer);\n",
       "        embed_document(root);\n",
       "      } else {\n",
       "        attempts++;\n",
       "        if (attempts > 100) {\n",
       "          clearInterval(timer);\n",
       "          console.log(\"Bokeh: ERROR: Unable to run BokehJS code because BokehJS library is missing\");\n",
       "        }\n",
       "      }\n",
       "    }, 10, root)\n",
       "  }\n",
       "})(window);"
      ],
      "application/vnd.bokehjs_exec.v0+json": ""
     },
     "metadata": {
      "application/vnd.bokehjs_exec.v0+json": {
       "id": "1102"
      }
     },
     "output_type": "display_data"
    }
   ],
   "source": [
    "profilers[1].visualize();"
   ]
  },
  {
   "cell_type": "markdown",
   "id": "95a9fa0a-f044-40cd-8964-9e4a1911fa87",
   "metadata": {},
   "source": [
    "We ran the calculation on a single computer with an 4-core CPU with 2 threads per core for 8 threads total. We see that our peak CPU usage was $\\sim 600 \\%$, this is a fairly typical usage statistic for a single machine, overhead and background processes limited us from reaching the $800 \\ \\%$ corresponding to using every available thread maximally.\n",
    "\n",
    "We also see that the total memory use reached around 800 MB. If you are running the calculation on a system with more threads your memory consumption may be larger – it may even exceed the total memory cost of all the wave functions, as every parallel run of the multislice algorithm requires a significant overhead for intermediate results (such as potential slices and Fresnel propagators). If your calculation runs out of memory you can lower the number of workers, thus trading away computational speed for lower memory consumption.\n",
    "\n",
    "We note that the overhead in both CPU usage and memory diminishes for larger simulation with more powerful hardware."
   ]
  },
  {
   "cell_type": "markdown",
   "id": "88a96448-5a2a-4c60-9ce7-7a2f43845d3c",
   "metadata": {},
   "source": [
    "### The (locally) distributed scheduler\n",
    "The Dask distributed scheduler is necessary for running your simulations on a cluster, but it also runs [locally on a personal machine](https://docs.dask.org/en/stable/scheduling.html#dask-distributed-local). You can find details in the Dask documentation, but we demonstrate the basics below.\n",
    "\n",
    "You can use the Dask distributed scheduler by just initializing a [Dask Client](https://distributed.dask.org/en/stable/client.html). The `Client` takes keyword arguments such as `n_workers` (note that this is different from `num_workers` above!)"
   ]
  },
  {
   "cell_type": "code",
   "execution_count": 17,
   "id": "2b7c37a3-909c-482e-99fb-72e4eb222a5a",
   "metadata": {},
   "outputs": [
    {
     "data": {
      "text/html": [
       "<div>\n",
       "    <div style=\"width: 24px; height: 24px; background-color: #e1e1e1; border: 3px solid #9D9D9D; border-radius: 5px; position: absolute;\"> </div>\n",
       "    <div style=\"margin-left: 48px;\">\n",
       "        <h3 style=\"margin-bottom: 0px;\">Client</h3>\n",
       "        <p style=\"color: #9D9D9D; margin-bottom: 0px;\">Client-7b850dc4-7c8f-11ed-a0bd-f218984d7c80</p>\n",
       "        <table style=\"width: 100%; text-align: left;\">\n",
       "\n",
       "        <tr>\n",
       "        \n",
       "            <td style=\"text-align: left;\"><strong>Connection method:</strong> Cluster object</td>\n",
       "            <td style=\"text-align: left;\"><strong>Cluster type:</strong> distributed.LocalCluster</td>\n",
       "        \n",
       "        </tr>\n",
       "\n",
       "        \n",
       "            <tr>\n",
       "                <td style=\"text-align: left;\">\n",
       "                    <strong>Dashboard: </strong> <a href=\"http://127.0.0.1:8787/status\" target=\"_blank\">http://127.0.0.1:8787/status</a>\n",
       "                </td>\n",
       "                <td style=\"text-align: left;\"></td>\n",
       "            </tr>\n",
       "        \n",
       "\n",
       "        </table>\n",
       "\n",
       "        \n",
       "            <details>\n",
       "            <summary style=\"margin-bottom: 20px;\"><h3 style=\"display: inline;\">Cluster Info</h3></summary>\n",
       "            <div class=\"jp-RenderedHTMLCommon jp-RenderedHTML jp-mod-trusted jp-OutputArea-output\">\n",
       "    <div style=\"width: 24px; height: 24px; background-color: #e1e1e1; border: 3px solid #9D9D9D; border-radius: 5px; position: absolute;\">\n",
       "    </div>\n",
       "    <div style=\"margin-left: 48px;\">\n",
       "        <h3 style=\"margin-bottom: 0px; margin-top: 0px;\">LocalCluster</h3>\n",
       "        <p style=\"color: #9D9D9D; margin-bottom: 0px;\">ff75efb5</p>\n",
       "        <table style=\"width: 100%; text-align: left;\">\n",
       "            <tr>\n",
       "                <td style=\"text-align: left;\">\n",
       "                    <strong>Dashboard:</strong> <a href=\"http://127.0.0.1:8787/status\" target=\"_blank\">http://127.0.0.1:8787/status</a>\n",
       "                </td>\n",
       "                <td style=\"text-align: left;\">\n",
       "                    <strong>Workers:</strong> 6\n",
       "                </td>\n",
       "            </tr>\n",
       "            <tr>\n",
       "                <td style=\"text-align: left;\">\n",
       "                    <strong>Total threads:</strong> 12\n",
       "                </td>\n",
       "                <td style=\"text-align: left;\">\n",
       "                    <strong>Total memory:</strong> 16.00 GiB\n",
       "                </td>\n",
       "            </tr>\n",
       "            \n",
       "            <tr>\n",
       "    <td style=\"text-align: left;\"><strong>Status:</strong> running</td>\n",
       "    <td style=\"text-align: left;\"><strong>Using processes:</strong> True</td>\n",
       "</tr>\n",
       "\n",
       "            \n",
       "        </table>\n",
       "\n",
       "        <details>\n",
       "            <summary style=\"margin-bottom: 20px;\">\n",
       "                <h3 style=\"display: inline;\">Scheduler Info</h3>\n",
       "            </summary>\n",
       "\n",
       "            <div style=\"\">\n",
       "    <div>\n",
       "        <div style=\"width: 24px; height: 24px; background-color: #FFF7E5; border: 3px solid #FF6132; border-radius: 5px; position: absolute;\"> </div>\n",
       "        <div style=\"margin-left: 48px;\">\n",
       "            <h3 style=\"margin-bottom: 0px;\">Scheduler</h3>\n",
       "            <p style=\"color: #9D9D9D; margin-bottom: 0px;\">Scheduler-2bde1b37-dae3-4217-b130-1aa85fa687f2</p>\n",
       "            <table style=\"width: 100%; text-align: left;\">\n",
       "                <tr>\n",
       "                    <td style=\"text-align: left;\">\n",
       "                        <strong>Comm:</strong> tcp://127.0.0.1:52417\n",
       "                    </td>\n",
       "                    <td style=\"text-align: left;\">\n",
       "                        <strong>Workers:</strong> 6\n",
       "                    </td>\n",
       "                </tr>\n",
       "                <tr>\n",
       "                    <td style=\"text-align: left;\">\n",
       "                        <strong>Dashboard:</strong> <a href=\"http://127.0.0.1:8787/status\" target=\"_blank\">http://127.0.0.1:8787/status</a>\n",
       "                    </td>\n",
       "                    <td style=\"text-align: left;\">\n",
       "                        <strong>Total threads:</strong> 12\n",
       "                    </td>\n",
       "                </tr>\n",
       "                <tr>\n",
       "                    <td style=\"text-align: left;\">\n",
       "                        <strong>Started:</strong> Just now\n",
       "                    </td>\n",
       "                    <td style=\"text-align: left;\">\n",
       "                        <strong>Total memory:</strong> 16.00 GiB\n",
       "                    </td>\n",
       "                </tr>\n",
       "            </table>\n",
       "        </div>\n",
       "    </div>\n",
       "\n",
       "    <details style=\"margin-left: 48px;\">\n",
       "        <summary style=\"margin-bottom: 20px;\">\n",
       "            <h3 style=\"display: inline;\">Workers</h3>\n",
       "        </summary>\n",
       "\n",
       "        \n",
       "        <div style=\"margin-bottom: 20px;\">\n",
       "            <div style=\"width: 24px; height: 24px; background-color: #DBF5FF; border: 3px solid #4CC9FF; border-radius: 5px; position: absolute;\"> </div>\n",
       "            <div style=\"margin-left: 48px;\">\n",
       "            <details>\n",
       "                <summary>\n",
       "                    <h4 style=\"margin-bottom: 0px; display: inline;\">Worker: 0</h4>\n",
       "                </summary>\n",
       "                <table style=\"width: 100%; text-align: left;\">\n",
       "                    <tr>\n",
       "                        <td style=\"text-align: left;\">\n",
       "                            <strong>Comm: </strong> tcp://127.0.0.1:52439\n",
       "                        </td>\n",
       "                        <td style=\"text-align: left;\">\n",
       "                            <strong>Total threads: </strong> 2\n",
       "                        </td>\n",
       "                    </tr>\n",
       "                    <tr>\n",
       "                        <td style=\"text-align: left;\">\n",
       "                            <strong>Dashboard: </strong> <a href=\"http://127.0.0.1:52441/status\" target=\"_blank\">http://127.0.0.1:52441/status</a>\n",
       "                        </td>\n",
       "                        <td style=\"text-align: left;\">\n",
       "                            <strong>Memory: </strong> 2.67 GiB\n",
       "                        </td>\n",
       "                    </tr>\n",
       "                    <tr>\n",
       "                        <td style=\"text-align: left;\">\n",
       "                            <strong>Nanny: </strong> tcp://127.0.0.1:52422\n",
       "                        </td>\n",
       "                        <td style=\"text-align: left;\"></td>\n",
       "                    </tr>\n",
       "                    <tr>\n",
       "                        <td colspan=\"2\" style=\"text-align: left;\">\n",
       "                            <strong>Local directory: </strong> /var/folders/_p/k7hrlnh132n933827sxdjkrm0000gn/T/dask-worker-space/worker-l9k9v63r\n",
       "                        </td>\n",
       "                    </tr>\n",
       "\n",
       "                    \n",
       "\n",
       "                    \n",
       "\n",
       "                </table>\n",
       "            </details>\n",
       "            </div>\n",
       "        </div>\n",
       "        \n",
       "        <div style=\"margin-bottom: 20px;\">\n",
       "            <div style=\"width: 24px; height: 24px; background-color: #DBF5FF; border: 3px solid #4CC9FF; border-radius: 5px; position: absolute;\"> </div>\n",
       "            <div style=\"margin-left: 48px;\">\n",
       "            <details>\n",
       "                <summary>\n",
       "                    <h4 style=\"margin-bottom: 0px; display: inline;\">Worker: 1</h4>\n",
       "                </summary>\n",
       "                <table style=\"width: 100%; text-align: left;\">\n",
       "                    <tr>\n",
       "                        <td style=\"text-align: left;\">\n",
       "                            <strong>Comm: </strong> tcp://127.0.0.1:52438\n",
       "                        </td>\n",
       "                        <td style=\"text-align: left;\">\n",
       "                            <strong>Total threads: </strong> 2\n",
       "                        </td>\n",
       "                    </tr>\n",
       "                    <tr>\n",
       "                        <td style=\"text-align: left;\">\n",
       "                            <strong>Dashboard: </strong> <a href=\"http://127.0.0.1:52442/status\" target=\"_blank\">http://127.0.0.1:52442/status</a>\n",
       "                        </td>\n",
       "                        <td style=\"text-align: left;\">\n",
       "                            <strong>Memory: </strong> 2.67 GiB\n",
       "                        </td>\n",
       "                    </tr>\n",
       "                    <tr>\n",
       "                        <td style=\"text-align: left;\">\n",
       "                            <strong>Nanny: </strong> tcp://127.0.0.1:52421\n",
       "                        </td>\n",
       "                        <td style=\"text-align: left;\"></td>\n",
       "                    </tr>\n",
       "                    <tr>\n",
       "                        <td colspan=\"2\" style=\"text-align: left;\">\n",
       "                            <strong>Local directory: </strong> /var/folders/_p/k7hrlnh132n933827sxdjkrm0000gn/T/dask-worker-space/worker-fslfhr8n\n",
       "                        </td>\n",
       "                    </tr>\n",
       "\n",
       "                    \n",
       "\n",
       "                    \n",
       "\n",
       "                </table>\n",
       "            </details>\n",
       "            </div>\n",
       "        </div>\n",
       "        \n",
       "        <div style=\"margin-bottom: 20px;\">\n",
       "            <div style=\"width: 24px; height: 24px; background-color: #DBF5FF; border: 3px solid #4CC9FF; border-radius: 5px; position: absolute;\"> </div>\n",
       "            <div style=\"margin-left: 48px;\">\n",
       "            <details>\n",
       "                <summary>\n",
       "                    <h4 style=\"margin-bottom: 0px; display: inline;\">Worker: 2</h4>\n",
       "                </summary>\n",
       "                <table style=\"width: 100%; text-align: left;\">\n",
       "                    <tr>\n",
       "                        <td style=\"text-align: left;\">\n",
       "                            <strong>Comm: </strong> tcp://127.0.0.1:52444\n",
       "                        </td>\n",
       "                        <td style=\"text-align: left;\">\n",
       "                            <strong>Total threads: </strong> 2\n",
       "                        </td>\n",
       "                    </tr>\n",
       "                    <tr>\n",
       "                        <td style=\"text-align: left;\">\n",
       "                            <strong>Dashboard: </strong> <a href=\"http://127.0.0.1:52448/status\" target=\"_blank\">http://127.0.0.1:52448/status</a>\n",
       "                        </td>\n",
       "                        <td style=\"text-align: left;\">\n",
       "                            <strong>Memory: </strong> 2.67 GiB\n",
       "                        </td>\n",
       "                    </tr>\n",
       "                    <tr>\n",
       "                        <td style=\"text-align: left;\">\n",
       "                            <strong>Nanny: </strong> tcp://127.0.0.1:52423\n",
       "                        </td>\n",
       "                        <td style=\"text-align: left;\"></td>\n",
       "                    </tr>\n",
       "                    <tr>\n",
       "                        <td colspan=\"2\" style=\"text-align: left;\">\n",
       "                            <strong>Local directory: </strong> /var/folders/_p/k7hrlnh132n933827sxdjkrm0000gn/T/dask-worker-space/worker-iqkmx0pu\n",
       "                        </td>\n",
       "                    </tr>\n",
       "\n",
       "                    \n",
       "\n",
       "                    \n",
       "\n",
       "                </table>\n",
       "            </details>\n",
       "            </div>\n",
       "        </div>\n",
       "        \n",
       "        <div style=\"margin-bottom: 20px;\">\n",
       "            <div style=\"width: 24px; height: 24px; background-color: #DBF5FF; border: 3px solid #4CC9FF; border-radius: 5px; position: absolute;\"> </div>\n",
       "            <div style=\"margin-left: 48px;\">\n",
       "            <details>\n",
       "                <summary>\n",
       "                    <h4 style=\"margin-bottom: 0px; display: inline;\">Worker: 3</h4>\n",
       "                </summary>\n",
       "                <table style=\"width: 100%; text-align: left;\">\n",
       "                    <tr>\n",
       "                        <td style=\"text-align: left;\">\n",
       "                            <strong>Comm: </strong> tcp://127.0.0.1:52440\n",
       "                        </td>\n",
       "                        <td style=\"text-align: left;\">\n",
       "                            <strong>Total threads: </strong> 2\n",
       "                        </td>\n",
       "                    </tr>\n",
       "                    <tr>\n",
       "                        <td style=\"text-align: left;\">\n",
       "                            <strong>Dashboard: </strong> <a href=\"http://127.0.0.1:52446/status\" target=\"_blank\">http://127.0.0.1:52446/status</a>\n",
       "                        </td>\n",
       "                        <td style=\"text-align: left;\">\n",
       "                            <strong>Memory: </strong> 2.67 GiB\n",
       "                        </td>\n",
       "                    </tr>\n",
       "                    <tr>\n",
       "                        <td style=\"text-align: left;\">\n",
       "                            <strong>Nanny: </strong> tcp://127.0.0.1:52420\n",
       "                        </td>\n",
       "                        <td style=\"text-align: left;\"></td>\n",
       "                    </tr>\n",
       "                    <tr>\n",
       "                        <td colspan=\"2\" style=\"text-align: left;\">\n",
       "                            <strong>Local directory: </strong> /var/folders/_p/k7hrlnh132n933827sxdjkrm0000gn/T/dask-worker-space/worker-dehet6ac\n",
       "                        </td>\n",
       "                    </tr>\n",
       "\n",
       "                    \n",
       "\n",
       "                    \n",
       "\n",
       "                </table>\n",
       "            </details>\n",
       "            </div>\n",
       "        </div>\n",
       "        \n",
       "        <div style=\"margin-bottom: 20px;\">\n",
       "            <div style=\"width: 24px; height: 24px; background-color: #DBF5FF; border: 3px solid #4CC9FF; border-radius: 5px; position: absolute;\"> </div>\n",
       "            <div style=\"margin-left: 48px;\">\n",
       "            <details>\n",
       "                <summary>\n",
       "                    <h4 style=\"margin-bottom: 0px; display: inline;\">Worker: 4</h4>\n",
       "                </summary>\n",
       "                <table style=\"width: 100%; text-align: left;\">\n",
       "                    <tr>\n",
       "                        <td style=\"text-align: left;\">\n",
       "                            <strong>Comm: </strong> tcp://127.0.0.1:52453\n",
       "                        </td>\n",
       "                        <td style=\"text-align: left;\">\n",
       "                            <strong>Total threads: </strong> 2\n",
       "                        </td>\n",
       "                    </tr>\n",
       "                    <tr>\n",
       "                        <td style=\"text-align: left;\">\n",
       "                            <strong>Dashboard: </strong> <a href=\"http://127.0.0.1:52454/status\" target=\"_blank\">http://127.0.0.1:52454/status</a>\n",
       "                        </td>\n",
       "                        <td style=\"text-align: left;\">\n",
       "                            <strong>Memory: </strong> 2.67 GiB\n",
       "                        </td>\n",
       "                    </tr>\n",
       "                    <tr>\n",
       "                        <td style=\"text-align: left;\">\n",
       "                            <strong>Nanny: </strong> tcp://127.0.0.1:52425\n",
       "                        </td>\n",
       "                        <td style=\"text-align: left;\"></td>\n",
       "                    </tr>\n",
       "                    <tr>\n",
       "                        <td colspan=\"2\" style=\"text-align: left;\">\n",
       "                            <strong>Local directory: </strong> /var/folders/_p/k7hrlnh132n933827sxdjkrm0000gn/T/dask-worker-space/worker-cq28_tck\n",
       "                        </td>\n",
       "                    </tr>\n",
       "\n",
       "                    \n",
       "\n",
       "                    \n",
       "\n",
       "                </table>\n",
       "            </details>\n",
       "            </div>\n",
       "        </div>\n",
       "        \n",
       "        <div style=\"margin-bottom: 20px;\">\n",
       "            <div style=\"width: 24px; height: 24px; background-color: #DBF5FF; border: 3px solid #4CC9FF; border-radius: 5px; position: absolute;\"> </div>\n",
       "            <div style=\"margin-left: 48px;\">\n",
       "            <details>\n",
       "                <summary>\n",
       "                    <h4 style=\"margin-bottom: 0px; display: inline;\">Worker: 5</h4>\n",
       "                </summary>\n",
       "                <table style=\"width: 100%; text-align: left;\">\n",
       "                    <tr>\n",
       "                        <td style=\"text-align: left;\">\n",
       "                            <strong>Comm: </strong> tcp://127.0.0.1:52450\n",
       "                        </td>\n",
       "                        <td style=\"text-align: left;\">\n",
       "                            <strong>Total threads: </strong> 2\n",
       "                        </td>\n",
       "                    </tr>\n",
       "                    <tr>\n",
       "                        <td style=\"text-align: left;\">\n",
       "                            <strong>Dashboard: </strong> <a href=\"http://127.0.0.1:52451/status\" target=\"_blank\">http://127.0.0.1:52451/status</a>\n",
       "                        </td>\n",
       "                        <td style=\"text-align: left;\">\n",
       "                            <strong>Memory: </strong> 2.67 GiB\n",
       "                        </td>\n",
       "                    </tr>\n",
       "                    <tr>\n",
       "                        <td style=\"text-align: left;\">\n",
       "                            <strong>Nanny: </strong> tcp://127.0.0.1:52424\n",
       "                        </td>\n",
       "                        <td style=\"text-align: left;\"></td>\n",
       "                    </tr>\n",
       "                    <tr>\n",
       "                        <td colspan=\"2\" style=\"text-align: left;\">\n",
       "                            <strong>Local directory: </strong> /var/folders/_p/k7hrlnh132n933827sxdjkrm0000gn/T/dask-worker-space/worker-zkco6a81\n",
       "                        </td>\n",
       "                    </tr>\n",
       "\n",
       "                    \n",
       "\n",
       "                    \n",
       "\n",
       "                </table>\n",
       "            </details>\n",
       "            </div>\n",
       "        </div>\n",
       "        \n",
       "\n",
       "    </details>\n",
       "</div>\n",
       "\n",
       "        </details>\n",
       "    </div>\n",
       "</div>\n",
       "            </details>\n",
       "        \n",
       "\n",
       "    </div>\n",
       "</div>"
      ],
      "text/plain": [
       "<Client: 'tcp://127.0.0.1:52417' processes=6 threads=12, memory=16.00 GiB>"
      ]
     },
     "execution_count": 17,
     "metadata": {},
     "output_type": "execute_result"
    }
   ],
   "source": [
    "from dask.distributed import Client\n",
    "\n",
    "client = Client(n_workers=6)\n",
    "client"
   ]
  },
  {
   "cell_type": "markdown",
   "id": "cd8cacd8-4c48-4eea-930c-33f3fe834410",
   "metadata": {},
   "source": [
    "After intializing the client object, any *ab*TEM computation will use the Dask distributed scheduler."
   ]
  },
  {
   "cell_type": "code",
   "execution_count": 18,
   "id": "2b0d7e8f-24dd-4ada-9650-874e750a3652",
   "metadata": {},
   "outputs": [
    {
     "data": {
      "text/plain": [
       "<abtem.measurements.Images object at 0x7f804c3e06d0>"
      ]
     },
     "execution_count": 18,
     "metadata": {},
     "output_type": "execute_result"
    }
   ],
   "source": [
    "haadf_images = detector.detect(exit_waves_stem).reduce_ensemble()\n",
    "haadf_images.compute()"
   ]
  },
  {
   "cell_type": "markdown",
   "id": "31a20506-7155-45f0-b641-3931bbb20029",
   "metadata": {},
   "source": [
    "A benefit of using the distributed scheduler on a single machine is the live diagnostic dashboard. You can access this through the Dashboard link shown in the `__repr__` for the `Client` above (for details you can watch [this](https://www.youtube.com/watch?v=N_GqzcuGLCY) video walkthrough). If you are using Jupyter Lab, the [Dask labextension](https://github.com/dask/dask-labextension) provides the same information as a panel inside the Jupyter Lab editor.\n",
    "\n",
    "We can get back to the local scheduler by closing the `Client`."
   ]
  },
  {
   "cell_type": "code",
   "execution_count": 19,
   "id": "e38de7a7-2b82-442e-8258-d9e2717a7b2b",
   "metadata": {},
   "outputs": [],
   "source": [
    "client.close()"
   ]
  },
  {
   "cell_type": "markdown",
   "id": "dffe61f7-43d8-47e6-a00a-3e73e33320ad",
   "metadata": {},
   "source": [
    "### Running *ab*TEM on HPC clusters\n",
    "\n",
    "Dask (and thus *ab*TEM) has robust tools for deployment on high-performance compute clusters. We recommend consulting your HPC provider on how to deploy Dask applications on your available cluster. For general advice on deployment, please see the [Dask documentation](https://docs.dask.org/en/stable/deploying.html).\n",
    "\n",
    "#### Submitting job scripts \n",
    "\n",
    "As an overview, Dask provides a number of different cluster managers, so you can use distributed Dask on a range of platforms. These cluster managers deploy a scheduler and the necessary workers as determined by communicating with the resource manager. All cluster managers follow the same interface but have platform-specific configuration options.\n",
    "\n",
    "As an example, for deployment using [SLURM](https://slurm.schedmd.com/documentation.html), your script might look something like:\n",
    "\n",
    "```python\n",
    "from dask_jobqueue import SLURMCluster\n",
    "from dask.distributed import Client\n",
    "\n",
    "cluster = SLURMCluster(\n",
    "    queue=\"regular\",\n",
    "    account=\"myaccount\",\n",
    "    cores=32,\n",
    "    memory=\"128 GB\"\n",
    ")\n",
    "\n",
    "client = Client(cluster)\n",
    "\n",
    "# Your abTEM code goes here\n",
    "\n",
    "```\n",
    "\n",
    "Dask also supports deployment from within an existing MPI environment, such as one created with the common MPI command-line launcher `mpirun`, see [here](http://mpi.dask.org/en/latest/) for more information. You can turn your batch Python script into an MPI executable with the `dask_mpi.initialize` function. \n",
    "\n",
    "```python\n",
    "from dask_mpi import initialize\n",
    "initialize()\n",
    "\n",
    "from dask.distributed import Client\n",
    "client = Client()  # Connect this local process to remote workers\n",
    "\n",
    "# Your abTEM code goes here\n",
    "```\n",
    "\n",
    "This makes your Python script launchable directly with `mpirun`:\n",
    "```\n",
    "mpirun -np 4 python my_client_script.py\n",
    "```"
   ]
  },
  {
   "cell_type": "markdown",
   "id": "e39cb8d2-a898-478d-9831-275ac5f2f06b",
   "metadata": {
    "pycharm": {
     "name": "#%% md\n"
    }
   },
   "source": [
    "(walkthrough:parallelization:gpu)=\n",
    "## Using GPUs\n",
    "\n",
    "Almost every part of *ab*TEM can be accelerated using a GPU through the [CuPy](https://cupy.dev/) library. We have only tested CUDA-compatible GPUs, but any graphics card compatible with CuPy should work.\n",
    "\n",
    "If you have a compatible GPU and a working installation of CuPy, you can accelerate your image simulations by simply changing the configs at the top of your document as below:\n",
    "```python\n",
    "abtem.config.set({\"device\": \"gpu\"});\n",
    "```\n",
    "On a single GPU, you may also want to limit the number of workers to one, `num_workers=1`. As described above, this may be done through the Dask config:\n",
    "```python\n",
    "dask.config.set({\"num_workers\": 1});\n",
    "```\n",
    "\n",
    "Note that Dask does not manage GPU threads. This makes the choice of batch sizes (i.e. propagating multiple wave functions in a single batch) extremely important in order to fully utilize your GPU. The default batch size in GPU calculations in abTEM is $512\\ \\mathrm{MB}$, which is four times larger than the CPU batch size, but if your GPU has $8\\ \\mathrm{GB}$ or more memory, you will likely be able to increase this number to $2048\\ \\mathrm{MB}$.\n",
    "\n",
    "```python\n",
    "abtem.config.set({\"dask.chunk-size-gpu\" : \"512 MB\"})\n",
    "```\n",
    "\n",
    "```{note}\n",
    "The batch size only determines the maximum number of plane waves in a batch, so you need to leave room in the memory for any intermediate overhead. \n",
    "```\n",
    "\n",
    "Finally, *ab*TEM by default sets the [FFT plan cache](https://docs.cupy.dev/en/stable/user_guide/fft.html#fft-plan-cache) size of `cupy` to zero, as we find that in most cases the increased memory consumption of the plans are not worth the small speedup they provide. You can however also change this through the *ab*TEM config.\n",
    "\n",
    "```python\n",
    "abtem.config.set({\"cupy.fft-cache-size\" : \"1024 MB\"})\n",
    "```"
   ]
  },
  {
   "cell_type": "markdown",
   "id": "94cdb086-c8a9-4736-a345-311d47379f34",
   "metadata": {},
   "source": [
    "### Multiple GPUs \n",
    "The above is enough for running *ab*TEM on a single GPU; if you are using an NVidia GPU, you may want to install `dask_cuda` (this is currently only supported on Linux). However, `dask_cuda` is currently necessary for multi-GPU calculations with *ab*TEM.\n",
    "\n",
    "```python\n",
    "from dask_cuda import LocalCUDACluster\n",
    "from dask.distributed import Client\n",
    "\n",
    "cluster = LocalCUDACluster()\n",
    "client = Client(cluster)\n",
    "```"
   ]
  },
  {
   "cell_type": "code",
   "execution_count": null,
   "id": "fa8f869a-ec10-4126-afc5-4c0bfaff3179",
   "metadata": {},
   "outputs": [],
   "source": []
  }
 ],
 "metadata": {
  "kernelspec": {
   "display_name": "test_threads",
   "language": "python",
   "name": "test_threads"
  },
  "language_info": {
   "codemirror_mode": {
    "name": "ipython",
    "version": 3
   },
   "file_extension": ".py",
   "mimetype": "text/x-python",
   "name": "python",
   "nbconvert_exporter": "python",
   "pygments_lexer": "ipython3",
   "version": "3.9.13"
  },
  "widgets": {
   "application/vnd.jupyter.widget-state+json": {
    "state": {
     "01a1b1a182ab4717b0668cfd314dc82c": {
      "model_module": "jupyter-cytoscape",
      "model_module_version": "^1.3.3",
      "model_name": "NodeModel",
      "state": {
       "_model_module_version": "^1.3.3",
       "_view_module_version": "^1.3.3",
       "data": {
        "color": "gray",
        "id": "1085411951500026183",
        "label": "3",
        "shape": "rectangle"
       },
       "grabbable": true,
       "grabbed": false,
       "position": {
        "x": 545.5,
        "y": 1475
       },
       "selectable": false
      }
     },
     "03285788305e48a2957f97163af71c9d": {
      "model_module": "jupyter-cytoscape",
      "model_module_version": "^1.3.3",
      "model_name": "NodeModel",
      "state": {
       "_model_module_version": "^1.3.3",
       "_view_module_version": "^1.3.3",
       "data": {
        "color": "gray",
        "id": "-2809696302256404093",
        "label": "intensity",
        "shape": "ellipse"
       },
       "grabbable": true,
       "grabbed": false,
       "position": {
        "x": 545.5,
        "y": 875
       },
       "selectable": false
      }
     },
     "0438c39260754275b41a5da345d9b3d5": {
      "model_module": "jupyter-cytoscape",
      "model_module_version": "^1.3.3",
      "model_name": "NodeModel",
      "state": {
       "_model_module_version": "^1.3.3",
       "_view_module_version": "^1.3.3",
       "data": {
        "color": "gray",
        "id": "7678235076085439578",
        "label": "(1, 0, 0)",
        "shape": "rectangle"
       },
       "grabbable": true,
       "grabbed": false,
       "position": {
        "x": 545.5,
        "y": 35
       },
       "selectable": false
      }
     },
     "05229d530a104b74846569ad1c0cb75d": {
      "model_module": "jupyter-cytoscape",
      "model_module_version": "^1.3.3",
      "model_name": "NodeModel",
      "state": {
       "_model_module_version": "^1.3.3",
       "_view_module_version": "^1.3.3",
       "data": {
        "color": "gray",
        "id": "-529154775629275876",
        "label": "1",
        "shape": "rectangle"
       },
       "grabbable": true,
       "grabbed": false,
       "position": {
        "x": 1279.5,
        "y": 1475
       },
       "selectable": false
      }
     },
     "0715f0dacd4d4b5a8abf6587bf77654f": {
      "model_module": "jupyter-cytoscape",
      "model_module_version": "^1.3.3",
      "model_name": "NodeModel",
      "state": {
       "_model_module_version": "^1.3.3",
       "_view_module_version": "^1.3.3",
       "data": {
        "color": "gray",
        "id": "-8212648725776401941",
        "label": "0",
        "shape": "rectangle"
       },
       "grabbable": true,
       "grabbed": false,
       "position": {
        "x": 912.5,
        "y": 635
       },
       "selectable": false
      }
     },
     "077e5524962d4a25a58c3082ba95820c": {
      "model_module": "@jupyter-widgets/base",
      "model_module_version": "2.0.0",
      "model_name": "LayoutModel",
      "state": {
       "height": "400px"
      }
     },
     "0882d87a04c143108c668d0bb8c9baa5": {
      "model_module": "jupyter-cytoscape",
      "model_module_version": "^1.3.3",
      "model_name": "NodeModel",
      "state": {
       "_model_module_version": "^1.3.3",
       "_view_module_version": "^1.3.3",
       "data": {
        "color": "gray",
        "id": "-2843519414721284291",
        "label": "(2, 0, 0)",
        "shape": "rectangle"
       },
       "grabbable": true,
       "grabbed": false,
       "position": {
        "x": 178.5,
        "y": 995
       },
       "selectable": false
      }
     },
     "0c7407524bc249cba5fa5135b43cf5df": {
      "model_module": "jupyter-cytoscape",
      "model_module_version": "^1.3.3",
      "model_name": "EdgeModel",
      "state": {
       "_model_module_version": "^1.3.3",
       "_view_module_version": "^1.3.3",
       "classes": " directed ",
       "data": {
        "id": "a89dd2ee-b9c6-496d-b626-9e1d7595642e",
        "source": "1723271752263943708",
        "target": "-3606315626874523598"
       },
       "selectable": false
      }
     },
     "0d60301aa43a4b17a80b81978c59be49": {
      "model_module": "jupyter-cytoscape",
      "model_module_version": "^1.3.3",
      "model_name": "NodeModel",
      "state": {
       "_model_module_version": "^1.3.3",
       "_view_module_version": "^1.3.3",
       "data": {
        "color": "gray",
        "id": "-4888149582364544781",
        "label": "extract_measurement",
        "shape": "ellipse"
       },
       "grabbable": true,
       "grabbed": false,
       "position": {
        "x": 545.5,
        "y": 155
       },
       "selectable": false
      }
     },
     "0e212a9963cd4373b4396aa60b889f4e": {
      "model_module": "jupyter-cytoscape",
      "model_module_version": "^1.3.3",
      "model_name": "EdgeModel",
      "state": {
       "_model_module_version": "^1.3.3",
       "_view_module_version": "^1.3.3",
       "classes": " directed ",
       "data": {
        "id": "b6a0003c-0154-4014-b486-b2996bee3ebd",
        "source": "-5781255077600032181",
        "target": "997040717761818877"
       },
       "selectable": false
      }
     },
     "0f743def3aa0445db605d9ae09eeb863": {
      "model_module": "jupyter-cytoscape",
      "model_module_version": "^1.3.3",
      "model_name": "EdgeModel",
      "state": {
       "_model_module_version": "^1.3.3",
       "_view_module_version": "^1.3.3",
       "classes": " directed ",
       "data": {
        "id": "8f45d41b-89e2-48a5-9902-87825c61cca7",
        "source": "-975648152280315770",
        "target": "-5454616645910432204"
       },
       "selectable": false
      }
     },
     "1094bdcc9e4d46f5b1e4a183667d1835": {
      "model_module": "jupyter-cytoscape",
      "model_module_version": "^1.3.3",
      "model_name": "NodeModel",
      "state": {
       "_model_module_version": "^1.3.3",
       "_view_module_version": "^1.3.3",
       "data": {
        "color": "gray",
        "id": "5337896784629353535",
        "label": "",
        "shape": "rectangle"
       },
       "grabbable": true,
       "grabbed": false,
       "position": {
        "x": 912.5,
        "y": 995
       },
       "selectable": false
      }
     },
     "10e5b7661692469283aa27d3bc6e77b7": {
      "model_module": "jupyter-cytoscape",
      "model_module_version": "^1.3.3",
      "model_name": "EdgeModel",
      "state": {
       "_model_module_version": "^1.3.3",
       "_view_module_version": "^1.3.3",
       "classes": " directed ",
       "data": {
        "id": "4ad7977d-0207-4092-89fd-6831a4001db5",
        "source": "-8212648725776401941",
        "target": "5978485980472722549"
       },
       "selectable": false
      }
     },
     "19394db256b34199aafe61c08d004efa": {
      "model_module": "jupyter-cytoscape",
      "model_module_version": "^1.3.3",
      "model_name": "EdgeModel",
      "state": {
       "_model_module_version": "^1.3.3",
       "_view_module_version": "^1.3.3",
       "classes": " directed ",
       "data": {
        "id": "ce099467-f733-42b4-9a4c-c4b801835bff",
        "source": "8109201440656814751",
        "target": "-8911303611153779914"
       },
       "selectable": false
      }
     },
     "19a481eeae9f4b839680a5db2225deb2": {
      "model_module": "jupyter-cytoscape",
      "model_module_version": "^1.3.3",
      "model_name": "NodeModel",
      "state": {
       "_model_module_version": "^1.3.3",
       "_view_module_version": "^1.3.3",
       "data": {
        "color": "gray",
        "id": "5978485980472722549",
        "label": "2",
        "shape": "rectangle"
       },
       "grabbable": true,
       "grabbed": false,
       "position": {
        "x": 178.5,
        "y": 1475
       },
       "selectable": false
      }
     },
     "1a55d88f1b8c4efcb5f31cdd2b0d9f7d": {
      "model_module": "jupyter-cytoscape",
      "model_module_version": "^1.3.3",
      "model_name": "GraphModel",
      "state": {
       "_adj": {
        "-1112242655355811420": {},
        "-147531381724615491": {},
        "-1551061172200993735": {},
        "-1892055594409640941": {},
        "-2096639438270986525": {},
        "-209718090337684999": {},
        "-2638438148746906173": {},
        "-2794818360831510968": {},
        "-2809696302256404093": {},
        "-2843519414721284291": {},
        "-2993913355004686177": {},
        "-3488440626372327540": {},
        "-3606315626874523598": {},
        "-3648763719720139567": {},
        "-3896033311210877489": {},
        "-4455112467544290847": {},
        "-4873302259584143306": {},
        "-4888149582364544781": {},
        "-5022760253900524454": {},
        "-529154775629275876": {},
        "-5454616645910432204": {},
        "-5781255077600032181": {},
        "-6274431168249504483": {},
        "-6458404547314626517": {},
        "-7173382570491175912": {},
        "-81111989138868833": {},
        "-8212648725776401941": {},
        "-8559770428161864702": {},
        "-8911303611153779914": {},
        "-975648152280315770": {},
        "1085411951500026183": {},
        "1468814177293301289": {},
        "1723271752263943708": {},
        "2369830892600547874": {},
        "2611607444891120936": {},
        "3316935581664010410": {},
        "4007050532627957381": {},
        "4527726134442228481": {},
        "5190833689647490477": {},
        "525425437570452154": {},
        "5337896784629353535": {},
        "5648452231222580563": {},
        "5899377041639488664": {},
        "5978485980472722549": {},
        "6029605610067576814": {},
        "6411248443375819870": {},
        "641647815826442644": {},
        "6958159432146507029": {},
        "7527841135802037692": {},
        "7678235076085439578": {},
        "7927772020698749667": {},
        "8109201440656814751": {},
        "82232189849975367": {},
        "8543881921210405712": {},
        "8554607745120336249": {},
        "8566637398729270391": {},
        "8688960620195388608": {},
        "997040717761818877": {}
       },
       "_model_module_version": "^1.3.3",
       "_view_module": "jupyter-cytoscape",
       "_view_module_version": "^1.3.3",
       "edges": [
        "IPY_MODEL_7779a1994aaf427f83f3647c58608a8c",
        "IPY_MODEL_4c9406be264a470aba739bf394c04d99",
        "IPY_MODEL_10e5b7661692469283aa27d3bc6e77b7",
        "IPY_MODEL_3b40fb831f7e42728a0c98c8ca569eda",
        "IPY_MODEL_c23507194a754a5f93db65c99a90df8f",
        "IPY_MODEL_8d4e7e9af69a444ca24a05cde8ee9db9",
        "IPY_MODEL_e88f3bf82c864c929d2c954f17b5b080",
        "IPY_MODEL_5e67baf8078c49ff8db2b6df9b7ead84",
        "IPY_MODEL_19394db256b34199aafe61c08d004efa",
        "IPY_MODEL_932bcbd5e90c4c5d8bf511da3eb6a9d4",
        "IPY_MODEL_66430b6bf8d047ed9fd47538f5b13dd2",
        "IPY_MODEL_83a3f5a44fac4d4da665db16b1549ba9",
        "IPY_MODEL_80f846420d634481a0c4d66ea0d5b9b7",
        "IPY_MODEL_efd294cdbdfe4a89a63a0bc0e5b3f5c0",
        "IPY_MODEL_d2ddc4d57864423884388a86e4635e86",
        "IPY_MODEL_0f743def3aa0445db605d9ae09eeb863",
        "IPY_MODEL_9e8c87c8898646ef92edfe0381324b9d",
        "IPY_MODEL_6802521290c747b09e6484ee74a3969d",
        "IPY_MODEL_0e212a9963cd4373b4396aa60b889f4e",
        "IPY_MODEL_913aed477ad348cd97a0d4b421bb720a",
        "IPY_MODEL_a25fc171409546079910b5370f06405b",
        "IPY_MODEL_8aa9782896944aa1ac592ee720722974",
        "IPY_MODEL_1feadfe2d25347c4a52000498f1ee000",
        "IPY_MODEL_58ccda56ed8f49a8922298a9c47a402e",
        "IPY_MODEL_78ea0a5f6c8e419a98a01af19741324b",
        "IPY_MODEL_a1c59d4749ee4632a2226ed330552add",
        "IPY_MODEL_839a6f2b19384aa2bc62681284e5b602",
        "IPY_MODEL_a4cec0d988f9473899124881556e6c57",
        "IPY_MODEL_2cf4ac42da4143fcad2a6a30056c74d1",
        "IPY_MODEL_a4155edacc6440e885b01a55f80a8659",
        "IPY_MODEL_0c7407524bc249cba5fa5135b43cf5df",
        "IPY_MODEL_dad046dd28ec4937b48c5532d3b4cb83",
        "IPY_MODEL_6ddae9d98986408aba04acf38f3dbb99",
        "IPY_MODEL_ee6cd1ed0450410eb703e87e635bf3d9",
        "IPY_MODEL_85d5005b9e5942878a2f695b46743a14",
        "IPY_MODEL_658c138924d84a37ae0ebacbf76dcc59",
        "IPY_MODEL_e30bd6c6edb848589f31805637a687b4",
        "IPY_MODEL_1c9610c18825427c9b5a1ce10d5f7df1",
        "IPY_MODEL_40d367de79c14a488bc7db0caec77ec3",
        "IPY_MODEL_b80a4a078cfd478d88faf6c0a7c23ce1",
        "IPY_MODEL_b5707b6b0d5c4ff684a39d7df54ff2b8",
        "IPY_MODEL_27b24f657b85484c87cda626730be557",
        "IPY_MODEL_3a426e3e72534a60a428ac9f2f78a634",
        "IPY_MODEL_fd1ce3869a0a4a5eb1bc98a2757ce8da",
        "IPY_MODEL_f08783e19eae480990e121261841d87b",
        "IPY_MODEL_7638def0b1df4363b1021341dfe699b3",
        "IPY_MODEL_4d99b9b17d5d4b66ad8927d8c436af5f",
        "IPY_MODEL_2d8c91ad8a32426cb29610635d28405b",
        "IPY_MODEL_36e8a683e1d74e4ca625b42b0b762174",
        "IPY_MODEL_cdd176ca8a8440c5bfb080ee0b3e373f",
        "IPY_MODEL_6b6c0813e47f44c5b6cd8a6b8ca7f0b9",
        "IPY_MODEL_e1406d805c1b4abaa67c4297ffb41c2c",
        "IPY_MODEL_70568d12a32543b38f5e39d3ecf3d5fd",
        "IPY_MODEL_ca480753033c4eb88149367ef11dd84f",
        "IPY_MODEL_a6375f76620a43d3a6d28f6b3a108e26",
        "IPY_MODEL_a754eb9bb3b4427295914183bfb4b20b",
        "IPY_MODEL_ae45b58112ce48c891dc781d07e646e8"
       ],
       "nodes": [
        "IPY_MODEL_903b7d87e666447094c1d0efd3ed9f8a",
        "IPY_MODEL_05229d530a104b74846569ad1c0cb75d",
        "IPY_MODEL_19a481eeae9f4b839680a5db2225deb2",
        "IPY_MODEL_01a1b1a182ab4717b0668cfd314dc82c",
        "IPY_MODEL_360438d1d02746ab923f548d14bc6437",
        "IPY_MODEL_5a7520a8ed8d4b8c9db79eccac38a18a",
        "IPY_MODEL_bc611271d89847c3a8cd558b34bc2954",
        "IPY_MODEL_7ad1077301ae4797815f14d2a0d47b59",
        "IPY_MODEL_353b0c0c2d324ffa986c9aa254cb73a3",
        "IPY_MODEL_e90eb2fdf6d141bdb131051c637d0a21",
        "IPY_MODEL_b4bded753b0546fdb876e725201887d0",
        "IPY_MODEL_c424a9a28c8348e6b2c414be03170c80",
        "IPY_MODEL_d2b9e551acac47cf9e3441968488f5ac",
        "IPY_MODEL_76ee91af9f2a4e34a3052eae18d91c81",
        "IPY_MODEL_31177496a8ee4755aca30ea369d84662",
        "IPY_MODEL_83f7f7397f3844c3af6abb922cf7eac4",
        "IPY_MODEL_cf329c7704f347cc9c4fb3b891600307",
        "IPY_MODEL_73717528bc624909bfba83fe5c22e71d",
        "IPY_MODEL_c9cb8b3181704b8c8debad3302eb84c9",
        "IPY_MODEL_d136e3cde1964115a68877ec56697617",
        "IPY_MODEL_fec60ec6c42b491da85e71adef7ce87d",
        "IPY_MODEL_fbad697efc4a4d8fb2b5d02f5c391cde",
        "IPY_MODEL_fad86f9bec6f4dd4998cd5cc23ec2178",
        "IPY_MODEL_aa7b299f6b4d48da9557d571e3c01aa1",
        "IPY_MODEL_219ceff6dc4c4ceaac0b93fa663591c4",
        "IPY_MODEL_46e43ccce5e34133b819c41b67048d08",
        "IPY_MODEL_d8497552606742e982131651fb107295",
        "IPY_MODEL_d68f2a363d2b453db9e56911693a3fad",
        "IPY_MODEL_344d24581fae4b8687d2d3a39f5629bf",
        "IPY_MODEL_6cec3e8b7f094a2b8d6b76eb0b2c3b80",
        "IPY_MODEL_6e0d7bea103f4077942eb38e583f6f90",
        "IPY_MODEL_ea79fcfb3cef49489b231ef060e5325d",
        "IPY_MODEL_d945b5fb873945509593c4a535b29950",
        "IPY_MODEL_0882d87a04c143108c668d0bb8c9baa5",
        "IPY_MODEL_ecf6c5f3cfda49aab4aad0becb10210c",
        "IPY_MODEL_50cef50ccc5442318558fe821fcd15fd",
        "IPY_MODEL_24f1a71fbbc54493abae9272421e44c4",
        "IPY_MODEL_ba84041b4cd448469529fb31ed1b7d5f",
        "IPY_MODEL_5d84be3e79dd464eb066837faa5e6896",
        "IPY_MODEL_505ff53631bb47dc942f01f5938428cc",
        "IPY_MODEL_b307db0d1a69413f8ca55aea070e2420",
        "IPY_MODEL_57b7ea72609744bd972755e62135c7ad",
        "IPY_MODEL_03285788305e48a2957f97163af71c9d",
        "IPY_MODEL_d3252fda24644dd3ba1a27e385754d31",
        "IPY_MODEL_c2b14ebd73504b2781c6313bae5f3564",
        "IPY_MODEL_5073f05b837e4b77b261849039343317",
        "IPY_MODEL_5ead1f2695ce4f6d919912c7cb3a2349",
        "IPY_MODEL_1d57d432ada84aafb54f4253f79352ce",
        "IPY_MODEL_a7de5189d5b64159b471017f871fc6e2",
        "IPY_MODEL_c083aee53b3a4b2b98dcfad40abcbbd4",
        "IPY_MODEL_3e426ab2c3424c308c832e067052d3fa",
        "IPY_MODEL_1a60633069e544f6a973971f2040678e",
        "IPY_MODEL_e45d1da1aeb54bd8b55ec3579dbdef0f",
        "IPY_MODEL_46aa55f6fff441c58797aa1087e247eb",
        "IPY_MODEL_776ac2d7af3c475db98c187ed7e286fa",
        "IPY_MODEL_92a5fb3200cd43b5b69f03c799e0a185",
        "IPY_MODEL_9333500e49dd4b96bc1c86b75d74b5dd",
        "IPY_MODEL_2ba8bdf59cf64ac9afdfb7dbe60f5a06"
       ]
      }
     },
     "1a60633069e544f6a973971f2040678e": {
      "model_module": "jupyter-cytoscape",
      "model_module_version": "^1.3.3",
      "model_name": "NodeModel",
      "state": {
       "_model_module_version": "^1.3.3",
       "_view_module_version": "^1.3.3",
       "data": {
        "color": "gray",
        "id": "8566637398729270391",
        "label": "(3, 0, 0)",
        "shape": "rectangle"
       },
       "grabbable": true,
       "grabbed": false,
       "position": {
        "x": 545.5,
        "y": 515
       },
       "selectable": false
      }
     },
     "1c9610c18825427c9b5a1ce10d5f7df1": {
      "model_module": "jupyter-cytoscape",
      "model_module_version": "^1.3.3",
      "model_name": "EdgeModel",
      "state": {
       "_model_module_version": "^1.3.3",
       "_view_module_version": "^1.3.3",
       "classes": " directed ",
       "data": {
        "id": "59d81d10-e45a-4026-ad33-8b946368c3e0",
        "source": "-2843519414721284291",
        "target": "4527726134442228481"
       },
       "selectable": false
      }
     },
     "1d09727420f045b19d67817f2bf5c692": {
      "model_module": "jupyter-cytoscape",
      "model_module_version": "^1.3.3",
      "model_name": "EdgeModel",
      "state": {
       "_model_module_version": "^1.3.3",
       "_view_module_version": "^1.3.3",
       "classes": " directed ",
       "data": {
        "id": "50c36be3-7178-4004-8a48-e09c86d1225d",
        "source": "-5454616645910432204",
        "target": "1085411951500026183"
       },
       "selectable": false
      }
     },
     "1d57d432ada84aafb54f4253f79352ce": {
      "model_module": "jupyter-cytoscape",
      "model_module_version": "^1.3.3",
      "model_name": "NodeModel",
      "state": {
       "_model_module_version": "^1.3.3",
       "_view_module_version": "^1.3.3",
       "data": {
        "color": "gray",
        "id": "-2993913355004686177",
        "label": "(1, 0, 0)",
        "shape": "rectangle"
       },
       "grabbable": true,
       "grabbed": false,
       "position": {
        "x": 1279.5,
        "y": 515
       },
       "selectable": false
      }
     },
     "1feadfe2d25347c4a52000498f1ee000": {
      "model_module": "jupyter-cytoscape",
      "model_module_version": "^1.3.3",
      "model_name": "EdgeModel",
      "state": {
       "_model_module_version": "^1.3.3",
       "_view_module_version": "^1.3.3",
       "classes": " directed ",
       "data": {
        "id": "9b6f9cca-a860-40ff-ba2e-912d49f17842",
        "source": "-7173382570491175912",
        "target": "2611607444891120936"
       },
       "selectable": false
      }
     },
     "219ceff6dc4c4ceaac0b93fa663591c4": {
      "model_module": "jupyter-cytoscape",
      "model_module_version": "^1.3.3",
      "model_name": "NodeModel",
      "state": {
       "_model_module_version": "^1.3.3",
       "_view_module_version": "^1.3.3",
       "data": {
        "color": "gray",
        "id": "-209718090337684999",
        "label": "build_waves_multislice_detect",
        "shape": "ellipse"
       },
       "grabbable": true,
       "grabbed": false,
       "position": {
        "x": 178.5,
        "y": 1355
       },
       "selectable": false
      }
     },
     "24f1a71fbbc54493abae9272421e44c4": {
      "model_module": "jupyter-cytoscape",
      "model_module_version": "^1.3.3",
      "model_name": "NodeModel",
      "state": {
       "_model_module_version": "^1.3.3",
       "_view_module_version": "^1.3.3",
       "data": {
        "color": "gray",
        "id": "-81111989138868833",
        "label": "intensity",
        "shape": "ellipse"
       },
       "grabbable": true,
       "grabbed": false,
       "position": {
        "x": 912.5,
        "y": 875
       },
       "selectable": false
      }
     },
     "2572c409c41e4c6bbb3152f021dc9eb9": {
      "model_module": "jupyter-cytoscape",
      "model_module_version": "^1.3.3",
      "model_name": "NodeModel",
      "state": {
       "_model_module_version": "^1.3.3",
       "_view_module_version": "^1.3.3",
       "data": {
        "color": "gray",
        "id": "8688960620195388608",
        "label": "0",
        "shape": "rectangle"
       },
       "grabbable": true,
       "grabbed": false,
       "position": {
        "x": 545.5,
        "y": 635
       },
       "selectable": false
      }
     },
     "270bb470ecf749bc8eb4cd92a31f6d59": {
      "model_module": "jupyter-cytoscape",
      "model_module_version": "^1.3.3",
      "model_name": "NodeModel",
      "state": {
       "_model_module_version": "^1.3.3",
       "_view_module_version": "^1.3.3",
       "data": {
        "color": "gray",
        "id": "-5454616645910432204",
        "label": "0",
        "shape": "rectangle"
       },
       "grabbable": true,
       "grabbed": false,
       "position": {
        "x": 1279.5,
        "y": 635
       },
       "selectable": false
      }
     },
     "275e05d841fc4bf9b049bb55617e9fdd": {
      "model_module": "jupyter-cytoscape",
      "model_module_version": "^1.3.3",
      "model_name": "EdgeModel",
      "state": {
       "_model_module_version": "^1.3.3",
       "_view_module_version": "^1.3.3",
       "classes": " directed ",
       "data": {
        "id": "d4cdd820-cba5-4b49-b9ee-4facec64b581",
        "source": "8554607745120336249",
        "target": "-975648152280315770"
       },
       "selectable": false
      }
     },
     "27b24f657b85484c87cda626730be557": {
      "model_module": "jupyter-cytoscape",
      "model_module_version": "^1.3.3",
      "model_name": "EdgeModel",
      "state": {
       "_model_module_version": "^1.3.3",
       "_view_module_version": "^1.3.3",
       "classes": " directed ",
       "data": {
        "id": "fbdc339f-b09e-4a82-92ef-98b9e0e86034",
        "source": "-8559770428161864702",
        "target": "82232189849975367"
       },
       "selectable": false
      }
     },
     "2b2b8e579f1d4c4b88d1e41562b1d76e": {
      "model_module": "jupyter-cytoscape",
      "model_module_version": "^1.3.3",
      "model_name": "NodeModel",
      "state": {
       "_model_module_version": "^1.3.3",
       "_view_module_version": "^1.3.3",
       "data": {
        "color": "gray",
        "id": "-3896033311210877489",
        "label": "2",
        "shape": "rectangle"
       },
       "grabbable": true,
       "grabbed": false,
       "position": {
        "x": 912.5,
        "y": 275
       },
       "selectable": false
      }
     },
     "2ba8bdf59cf64ac9afdfb7dbe60f5a06": {
      "model_module": "jupyter-cytoscape",
      "model_module_version": "^1.3.3",
      "model_name": "NodeModel",
      "state": {
       "_model_module_version": "^1.3.3",
       "_view_module_version": "^1.3.3",
       "data": {
        "color": "gray",
        "id": "4007050532627957381",
        "label": "(0, 0)",
        "shape": "rectangle"
       },
       "grabbable": true,
       "grabbed": false,
       "position": {
        "x": 729,
        "y": 35
       },
       "selectable": false
      }
     },
     "2cf4ac42da4143fcad2a6a30056c74d1": {
      "model_module": "jupyter-cytoscape",
      "model_module_version": "^1.3.3",
      "model_name": "EdgeModel",
      "state": {
       "_model_module_version": "^1.3.3",
       "_view_module_version": "^1.3.3",
       "classes": " directed ",
       "data": {
        "id": "4a377170-9bcc-4ba4-bf41-9093f8648214",
        "source": "-2096639438270986525",
        "target": "-2843519414721284291"
       },
       "selectable": false
      }
     },
     "2d8c91ad8a32426cb29610635d28405b": {
      "model_module": "jupyter-cytoscape",
      "model_module_version": "^1.3.3",
      "model_name": "EdgeModel",
      "state": {
       "_model_module_version": "^1.3.3",
       "_view_module_version": "^1.3.3",
       "classes": " directed ",
       "data": {
        "id": "adfa29d0-3bce-4059-a9d8-b3d363daa1f5",
        "source": "-4873302259584143306",
        "target": "3316935581664010410"
       },
       "selectable": false
      }
     },
     "2f0b5f32f1e94e36a7a40b69c6a7bf13": {
      "model_module": "jupyter-cytoscape",
      "model_module_version": "^1.3.3",
      "model_name": "NodeModel",
      "state": {
       "_model_module_version": "^1.3.3",
       "_view_module_version": "^1.3.3",
       "data": {
        "color": "gray",
        "id": "-2638438148746906173",
        "label": "0",
        "shape": "rectangle"
       },
       "grabbable": true,
       "grabbed": false,
       "position": {
        "x": 178.5,
        "y": 515
       },
       "selectable": false
      }
     },
     "31177496a8ee4755aca30ea369d84662": {
      "model_module": "jupyter-cytoscape",
      "model_module_version": "^1.3.3",
      "model_name": "NodeModel",
      "state": {
       "_model_module_version": "^1.3.3",
       "_view_module_version": "^1.3.3",
       "data": {
        "color": "gray",
        "id": "5190833689647490477",
        "label": "",
        "shape": "rectangle"
       },
       "grabbable": true,
       "grabbed": false,
       "position": {
        "x": 178.5,
        "y": 1715
       },
       "selectable": false
      }
     },
     "344d24581fae4b8687d2d3a39f5629bf": {
      "model_module": "jupyter-cytoscape",
      "model_module_version": "^1.3.3",
      "model_name": "NodeModel",
      "state": {
       "_model_module_version": "^1.3.3",
       "_view_module_version": "^1.3.3",
       "data": {
        "color": "gray",
        "id": "-4455112467544290847",
        "label": "extract_measurement",
        "shape": "ellipse"
       },
       "grabbable": true,
       "grabbed": false,
       "position": {
        "x": 912.5,
        "y": 1115
       },
       "selectable": false
      }
     },
     "3489ce478753400c8210ab55d564a20f": {
      "model_module": "jupyter-cytoscape",
      "model_module_version": "^1.3.3",
      "model_name": "EdgeModel",
      "state": {
       "_model_module_version": "^1.3.3",
       "_view_module_version": "^1.3.3",
       "classes": " directed ",
       "data": {
        "id": "dc39cb0f-5341-4ef5-aa02-9bc7bec5c83b",
        "source": "-7173382570491175912",
        "target": "2611607444891120936"
       },
       "selectable": false
      }
     },
     "353b0c0c2d324ffa986c9aa254cb73a3": {
      "model_module": "jupyter-cytoscape",
      "model_module_version": "^1.3.3",
      "model_name": "NodeModel",
      "state": {
       "_model_module_version": "^1.3.3",
       "_view_module_version": "^1.3.3",
       "data": {
        "color": "gray",
        "id": "8109201440656814751",
        "label": "",
        "shape": "rectangle"
       },
       "grabbable": true,
       "grabbed": false,
       "position": {
        "x": 1279.5,
        "y": 1955
       },
       "selectable": false
      }
     },
     "360438d1d02746ab923f548d14bc6437": {
      "model_module": "jupyter-cytoscape",
      "model_module_version": "^1.3.3",
      "model_name": "NodeModel",
      "state": {
       "_model_module_version": "^1.3.3",
       "_view_module_version": "^1.3.3",
       "data": {
        "color": "gray",
        "id": "6958159432146507029",
        "label": "",
        "shape": "rectangle"
       },
       "grabbable": true,
       "grabbed": false,
       "position": {
        "x": 912.5,
        "y": 1955
       },
       "selectable": false
      }
     },
     "36e8a683e1d74e4ca625b42b0b762174": {
      "model_module": "jupyter-cytoscape",
      "model_module_version": "^1.3.3",
      "model_name": "EdgeModel",
      "state": {
       "_model_module_version": "^1.3.3",
       "_view_module_version": "^1.3.3",
       "classes": " directed ",
       "data": {
        "id": "d62222c2-b86e-4c51-b3df-03a1f1c589cb",
        "source": "7927772020698749667",
        "target": "-6458404547314626517"
       },
       "selectable": false
      }
     },
     "3a02398cb0564ff98ab5ecf599476fb1": {
      "model_module": "jupyter-cytoscape",
      "model_module_version": "^1.3.3",
      "model_name": "EdgeModel",
      "state": {
       "_model_module_version": "^1.3.3",
       "_view_module_version": "^1.3.3",
       "classes": " directed ",
       "data": {
        "id": "68704ab6-50b0-471b-8514-df005a058168",
        "source": "997040717761818877",
        "target": "-4888149582364544781"
       },
       "selectable": false
      }
     },
     "3a426e3e72534a60a428ac9f2f78a634": {
      "model_module": "jupyter-cytoscape",
      "model_module_version": "^1.3.3",
      "model_name": "EdgeModel",
      "state": {
       "_model_module_version": "^1.3.3",
       "_view_module_version": "^1.3.3",
       "classes": " directed ",
       "data": {
        "id": "63cef1ce-63de-42e1-bee3-68e0331b2042",
        "source": "8543881921210405712",
        "target": "-2993913355004686177"
       },
       "selectable": false
      }
     },
     "3af9c9aa62be4301a74f53ede550deb1": {
      "model_module": "jupyter-cytoscape",
      "model_module_version": "^1.3.3",
      "model_name": "NodeModel",
      "state": {
       "_model_module_version": "^1.3.3",
       "_view_module_version": "^1.3.3",
       "data": {
        "color": "gray",
        "id": "8554607745120336249",
        "label": "frozen_phonon",
        "shape": "ellipse"
       },
       "grabbable": true,
       "grabbed": false,
       "position": {
        "x": 1279.5,
        "y": 875
       },
       "selectable": false
      }
     },
     "3b40fb831f7e42728a0c98c8ca569eda": {
      "model_module": "jupyter-cytoscape",
      "model_module_version": "^1.3.3",
      "model_name": "EdgeModel",
      "state": {
       "_model_module_version": "^1.3.3",
       "_view_module_version": "^1.3.3",
       "classes": " directed ",
       "data": {
        "id": "e2941eaf-5bcf-4414-9207-31b1b0e8b293",
        "source": "-5454616645910432204",
        "target": "1085411951500026183"
       },
       "selectable": false
      }
     },
     "3d0da29177074298861540c9ccc500e7": {
      "model_module": "jupyter-cytoscape",
      "model_module_version": "^1.3.3",
      "model_name": "EdgeModel",
      "state": {
       "_model_module_version": "^1.3.3",
       "_view_module_version": "^1.3.3",
       "classes": " directed ",
       "data": {
        "id": "ef2b4dcb-0a31-4056-838c-9928dd107589",
        "source": "5978485980472722549",
        "target": "-209718090337684999"
       },
       "selectable": false
      }
     },
     "3ddebd8c8f5a4bbcb86bfe147b8555f2": {
      "model_module": "jupyter-cytoscape",
      "model_module_version": "^1.3.3",
      "model_name": "CytoscapeModel",
      "state": {
       "_interaction_handlers": {},
       "_model_module_version": "^1.3.3",
       "_view_module_version": "^1.3.3",
       "auto_ungrabify": false,
       "autolock": false,
       "cytoscape_layout": {
        "edgeSep": 10,
        "name": "dagre",
        "nodeDimensionsIncludeLabels": true,
        "nodeSep": 10,
        "rankDir": "BT",
        "spacingFactor": 1
       },
       "cytoscape_style": [
        {
         "selector": "node",
         "style": {
          "background-color": "#eee",
          "border-color": "data(color)",
          "border-width": 4,
          "color": "black",
          "font-family": "helvetica",
          "font-size": "24px",
          "font-weight": "bold",
          "height": 64,
          "label": "data(label)",
          "opacity": "1.0",
          "shape": "data(shape)",
          "text-halign": "center",
          "text-valign": "center",
          "width": 64
         }
        },
        {
         "selector": "edge",
         "style": {
          "curve-style": "bezier",
          "line-color": "gray",
          "target-arrow-color": "gray",
          "target-arrow-shape": "triangle",
          "width": 8
         }
        }
       ],
       "desktop_tap_threshold": 4,
       "graph": "IPY_MODEL_f3ba2600d45042a480fa365a9e2455e7",
       "headless": false,
       "hide_edges_on_viewport": false,
       "layout": "IPY_MODEL_077e5524962d4a25a58c3082ba95820c",
       "max_zoom": 4,
       "min_zoom": 0.2,
       "motion_blur": false,
       "motion_blur_opacity": 0.2,
       "panning_enabled": true,
       "pixel_ratio": "auto",
       "rendered_position": {
        "renderedPosition": {
         "x": 100,
         "y": 100
        }
       },
       "selection_type": "single",
       "style_enabled": true,
       "texture_on_viewport": false,
       "tooltip_source": "tooltip",
       "touch_tap_threshold": 8,
       "user_panning_enabled": true,
       "user_zooming_enabled": true,
       "wheel_sensitivity": 0.1,
       "zoom": 2,
       "zooming_enabled": true
      }
     },
     "3e426ab2c3424c308c832e067052d3fa": {
      "model_module": "jupyter-cytoscape",
      "model_module_version": "^1.3.3",
      "model_name": "NodeModel",
      "state": {
       "_model_module_version": "^1.3.3",
       "_view_module_version": "^1.3.3",
       "data": {
        "color": "gray",
        "id": "3316935581664010410",
        "label": "mean_chunk",
        "shape": "ellipse"
       },
       "grabbable": true,
       "grabbed": false,
       "position": {
        "x": 545.5,
        "y": 635
       },
       "selectable": false
      }
     },
     "40d367de79c14a488bc7db0caec77ec3": {
      "model_module": "jupyter-cytoscape",
      "model_module_version": "^1.3.3",
      "model_name": "EdgeModel",
      "state": {
       "_model_module_version": "^1.3.3",
       "_view_module_version": "^1.3.3",
       "classes": " directed ",
       "data": {
        "id": "adf14f20-d397-452f-a4ab-79791b0a6f0f",
        "source": "-2809696302256404093",
        "target": "-4873302259584143306"
       },
       "selectable": false
      }
     },
     "4225962632c7486f84b3e70c7c30a54e": {
      "model_module": "jupyter-cytoscape",
      "model_module_version": "^1.3.3",
      "model_name": "NodeModel",
      "state": {
       "_model_module_version": "^1.3.3",
       "_view_module_version": "^1.3.3",
       "data": {
        "color": "gray",
        "id": "1723271752263943708",
        "label": "extract_measurement",
        "shape": "ellipse"
       },
       "grabbable": true,
       "grabbed": false,
       "position": {
        "x": 1279.5,
        "y": 155
       },
       "selectable": false
      }
     },
     "43120d64ca8e4ec8a48a0b815d55dffd": {
      "model_module": "jupyter-cytoscape",
      "model_module_version": "^1.3.3",
      "model_name": "EdgeModel",
      "state": {
       "_model_module_version": "^1.3.3",
       "_view_module_version": "^1.3.3",
       "classes": " directed ",
       "data": {
        "id": "59059aca-9f1d-418e-bc80-978f92bc2047",
        "source": "-529154775629275876",
        "target": "-5781255077600032181"
       },
       "selectable": false
      }
     },
     "447eb1ad0cc0497785f330350fb8f34b": {
      "model_module": "jupyter-cytoscape",
      "model_module_version": "^1.3.3",
      "model_name": "NodeModel",
      "state": {
       "_model_module_version": "^1.3.3",
       "_view_module_version": "^1.3.3",
       "data": {
        "color": "gray",
        "id": "8109201440656814751",
        "label": "",
        "shape": "rectangle"
       },
       "grabbable": true,
       "grabbed": false,
       "position": {
        "x": 545.5,
        "y": 995
       },
       "selectable": false
      }
     },
     "466f2c0dae7040ff8bc8320b2ca39ee1": {
      "model_module": "jupyter-cytoscape",
      "model_module_version": "^1.3.3",
      "model_name": "EdgeModel",
      "state": {
       "_model_module_version": "^1.3.3",
       "_view_module_version": "^1.3.3",
       "classes": " directed ",
       "data": {
        "id": "ec66fe74-0bd6-453b-a789-ef9a08ab3e03",
        "source": "-4888149582364544781",
        "target": "7678235076085439578"
       },
       "selectable": false
      }
     },
     "46aa55f6fff441c58797aa1087e247eb": {
      "model_module": "jupyter-cytoscape",
      "model_module_version": "^1.3.3",
      "model_name": "NodeModel",
      "state": {
       "_model_module_version": "^1.3.3",
       "_view_module_version": "^1.3.3",
       "data": {
        "color": "gray",
        "id": "-6458404547314626517",
        "label": "(0, 0, 0)",
        "shape": "rectangle"
       },
       "grabbable": true,
       "grabbed": false,
       "position": {
        "x": 1096,
        "y": 275
       },
       "selectable": false
      }
     },
     "46e43ccce5e34133b819c41b67048d08": {
      "model_module": "jupyter-cytoscape",
      "model_module_version": "^1.3.3",
      "model_name": "NodeModel",
      "state": {
       "_model_module_version": "^1.3.3",
       "_view_module_version": "^1.3.3",
       "data": {
        "color": "gray",
        "id": "-3896033311210877489",
        "label": "2",
        "shape": "rectangle"
       },
       "grabbable": true,
       "grabbed": false,
       "position": {
        "x": 178.5,
        "y": 1235
       },
       "selectable": false
      }
     },
     "4a8a887344d54d938a36a53c4bf86df5": {
      "model_module": "jupyter-cytoscape",
      "model_module_version": "^1.3.3",
      "model_name": "NodeModel",
      "state": {
       "_model_module_version": "^1.3.3",
       "_view_module_version": "^1.3.3",
       "data": {
        "color": "gray",
        "id": "-2096639438270986525",
        "label": "extract_measurement",
        "shape": "ellipse"
       },
       "grabbable": true,
       "grabbed": false,
       "position": {
        "x": 912.5,
        "y": 155
       },
       "selectable": false
      }
     },
     "4c9406be264a470aba739bf394c04d99": {
      "model_module": "jupyter-cytoscape",
      "model_module_version": "^1.3.3",
      "model_name": "EdgeModel",
      "state": {
       "_model_module_version": "^1.3.3",
       "_view_module_version": "^1.3.3",
       "classes": " directed ",
       "data": {
        "id": "c24a1691-0d03-4680-af72-e705effef488",
        "source": "8688960620195388608",
        "target": "-529154775629275876"
       },
       "selectable": false
      }
     },
     "4d99b9b17d5d4b66ad8927d8c436af5f": {
      "model_module": "jupyter-cytoscape",
      "model_module_version": "^1.3.3",
      "model_name": "EdgeModel",
      "state": {
       "_model_module_version": "^1.3.3",
       "_view_module_version": "^1.3.3",
       "classes": " directed ",
       "data": {
        "id": "0eff494c-fd50-4d2c-b59f-0d65077f2c71",
        "source": "3316935581664010410",
        "target": "8566637398729270391"
       },
       "selectable": false
      }
     },
     "4e79c9e352514f5aaad55acdc3df5ac9": {
      "model_module": "jupyter-cytoscape",
      "model_module_version": "^1.3.3",
      "model_name": "EdgeModel",
      "state": {
       "_model_module_version": "^1.3.3",
       "_view_module_version": "^1.3.3",
       "classes": " directed ",
       "data": {
        "id": "669a4ff6-7846-4bb4-9c29-4ac1f4d948e6",
        "source": "-8212648725776401941",
        "target": "5978485980472722549"
       },
       "selectable": false
      }
     },
     "505ff53631bb47dc942f01f5938428cc": {
      "model_module": "jupyter-cytoscape",
      "model_module_version": "^1.3.3",
      "model_name": "NodeModel",
      "state": {
       "_model_module_version": "^1.3.3",
       "_view_module_version": "^1.3.3",
       "data": {
        "color": "gray",
        "id": "6411248443375819870",
        "label": "(1, 0, 0)",
        "shape": "rectangle"
       },
       "grabbable": true,
       "grabbed": false,
       "position": {
        "x": 1279.5,
        "y": 755
       },
       "selectable": false
      }
     },
     "5073f05b837e4b77b261849039343317": {
      "model_module": "jupyter-cytoscape",
      "model_module_version": "^1.3.3",
      "model_name": "NodeModel",
      "state": {
       "_model_module_version": "^1.3.3",
       "_view_module_version": "^1.3.3",
       "data": {
        "color": "gray",
        "id": "7527841135802037692",
        "label": "(0, 0, 0)",
        "shape": "rectangle"
       },
       "grabbable": true,
       "grabbed": false,
       "position": {
        "x": 912.5,
        "y": 515
       },
       "selectable": false
      }
     },
     "50cef50ccc5442318558fe821fcd15fd": {
      "model_module": "jupyter-cytoscape",
      "model_module_version": "^1.3.3",
      "model_name": "NodeModel",
      "state": {
       "_model_module_version": "^1.3.3",
       "_view_module_version": "^1.3.3",
       "data": {
        "color": "gray",
        "id": "-3606315626874523598",
        "label": "(3, 0, 0)",
        "shape": "rectangle"
       },
       "grabbable": true,
       "grabbed": false,
       "position": {
        "x": 545.5,
        "y": 995
       },
       "selectable": false
      }
     },
     "534e291c18c140ad8573f05485a649e3": {
      "model_module": "jupyter-cytoscape",
      "model_module_version": "^1.3.3",
      "model_name": "NodeModel",
      "state": {
       "_model_module_version": "^1.3.3",
       "_view_module_version": "^1.3.3",
       "data": {
        "color": "gray",
        "id": "-209718090337684999",
        "label": "build_waves_multislice_detect",
        "shape": "ellipse"
       },
       "grabbable": true,
       "grabbed": false,
       "position": {
        "x": 912.5,
        "y": 395
       },
       "selectable": false
      }
     },
     "576831b338924bef909a28d6044fc0a8": {
      "model_module": "jupyter-cytoscape",
      "model_module_version": "^1.3.3",
      "model_name": "EdgeModel",
      "state": {
       "_model_module_version": "^1.3.3",
       "_view_module_version": "^1.3.3",
       "classes": " directed ",
       "data": {
        "id": "21009e74-f7ca-442d-a9ac-d6ba603a25b2",
        "source": "-2638438148746906173",
        "target": "6029605610067576814"
       },
       "selectable": false
      }
     },
     "57b7ea72609744bd972755e62135c7ad": {
      "model_module": "jupyter-cytoscape",
      "model_module_version": "^1.3.3",
      "model_name": "NodeModel",
      "state": {
       "_model_module_version": "^1.3.3",
       "_view_module_version": "^1.3.3",
       "data": {
        "color": "gray",
        "id": "5648452231222580563",
        "label": "(2, 0, 0)",
        "shape": "rectangle"
       },
       "grabbable": true,
       "grabbed": false,
       "position": {
        "x": 178.5,
        "y": 755
       },
       "selectable": false
      }
     },
     "58ba5763c01f4a0ebcdb13bfe88e688f": {
      "model_module": "jupyter-cytoscape",
      "model_module_version": "^1.3.3",
      "model_name": "EdgeModel",
      "state": {
       "_model_module_version": "^1.3.3",
       "_view_module_version": "^1.3.3",
       "classes": " directed ",
       "data": {
        "id": "dd68dc1c-e063-43a6-860a-cbc00a3f6fad",
        "source": "-1112242655355811420",
        "target": "-4455112467544290847"
       },
       "selectable": false
      }
     },
     "58ccda56ed8f49a8922298a9c47a402e": {
      "model_module": "jupyter-cytoscape",
      "model_module_version": "^1.3.3",
      "model_name": "EdgeModel",
      "state": {
       "_model_module_version": "^1.3.3",
       "_view_module_version": "^1.3.3",
       "classes": " directed ",
       "data": {
        "id": "3b081cbc-1a7e-456e-bf96-9e3769e7a864",
        "source": "1085411951500026183",
        "target": "-7173382570491175912"
       },
       "selectable": false
      }
     },
     "5a7520a8ed8d4b8c9db79eccac38a18a": {
      "model_module": "jupyter-cytoscape",
      "model_module_version": "^1.3.3",
      "model_name": "NodeModel",
      "state": {
       "_model_module_version": "^1.3.3",
       "_view_module_version": "^1.3.3",
       "data": {
        "color": "gray",
        "id": "2369830892600547874",
        "label": "frozen_phonon",
        "shape": "ellipse"
       },
       "grabbable": true,
       "grabbed": false,
       "position": {
        "x": 912.5,
        "y": 1835
       },
       "selectable": false
      }
     },
     "5d84be3e79dd464eb066837faa5e6896": {
      "model_module": "jupyter-cytoscape",
      "model_module_version": "^1.3.3",
      "model_name": "NodeModel",
      "state": {
       "_model_module_version": "^1.3.3",
       "_view_module_version": "^1.3.3",
       "data": {
        "color": "gray",
        "id": "-5022760253900524454",
        "label": "intensity",
        "shape": "ellipse"
       },
       "grabbable": true,
       "grabbed": false,
       "position": {
        "x": 1279.5,
        "y": 875
       },
       "selectable": false
      }
     },
     "5dea6cb4e3aa4078a8bede9792bb7114": {
      "model_module": "jupyter-cytoscape",
      "model_module_version": "^1.3.3",
      "model_name": "NodeModel",
      "state": {
       "_model_module_version": "^1.3.3",
       "_view_module_version": "^1.3.3",
       "data": {
        "color": "gray",
        "id": "-6274431168249504483",
        "label": "0",
        "shape": "rectangle"
       },
       "grabbable": true,
       "grabbed": false,
       "position": {
        "x": 178.5,
        "y": 635
       },
       "selectable": false
      }
     },
     "5e67baf8078c49ff8db2b6df9b7ead84": {
      "model_module": "jupyter-cytoscape",
      "model_module_version": "^1.3.3",
      "model_name": "EdgeModel",
      "state": {
       "_model_module_version": "^1.3.3",
       "_view_module_version": "^1.3.3",
       "classes": " directed ",
       "data": {
        "id": "8176e14d-0698-43de-bc56-4e08f8a7804b",
        "source": "-8911303611153779914",
        "target": "-147531381724615491"
       },
       "selectable": false
      }
     },
     "5ead1f2695ce4f6d919912c7cb3a2349": {
      "model_module": "jupyter-cytoscape",
      "model_module_version": "^1.3.3",
      "model_name": "NodeModel",
      "state": {
       "_model_module_version": "^1.3.3",
       "_view_module_version": "^1.3.3",
       "data": {
        "color": "gray",
        "id": "8543881921210405712",
        "label": "mean_chunk",
        "shape": "ellipse"
       },
       "grabbable": true,
       "grabbed": false,
       "position": {
        "x": 1279.5,
        "y": 635
       },
       "selectable": false
      }
     },
     "5f225efbbc6b4dd0bb5e527204c65ac7": {
      "model_module": "jupyter-cytoscape",
      "model_module_version": "^1.3.3",
      "model_name": "NodeModel",
      "state": {
       "_model_module_version": "^1.3.3",
       "_view_module_version": "^1.3.3",
       "data": {
        "color": "gray",
        "id": "-2843519414721284291",
        "label": "(2, 0, 0)",
        "shape": "rectangle"
       },
       "grabbable": true,
       "grabbed": false,
       "position": {
        "x": 912.5,
        "y": 35
       },
       "selectable": false
      }
     },
     "658c138924d84a37ae0ebacbf76dcc59": {
      "model_module": "jupyter-cytoscape",
      "model_module_version": "^1.3.3",
      "model_name": "EdgeModel",
      "state": {
       "_model_module_version": "^1.3.3",
       "_view_module_version": "^1.3.3",
       "classes": " directed ",
       "data": {
        "id": "e253fbec-c071-4812-a08f-7fad81843c45",
        "source": "7678235076085439578",
        "target": "-5022760253900524454"
       },
       "selectable": false
      }
     },
     "664246c9d73847a490d464cea2f4ae6e": {
      "model_module": "jupyter-cytoscape",
      "model_module_version": "^1.3.3",
      "model_name": "EdgeModel",
      "state": {
       "_model_module_version": "^1.3.3",
       "_view_module_version": "^1.3.3",
       "classes": " directed ",
       "data": {
        "id": "137c25f2-b446-4df3-8aba-02b4269c8bae",
        "source": "2369830892600547874",
        "target": "-3648763719720139567"
       },
       "selectable": false
      }
     },
     "66430b6bf8d047ed9fd47538f5b13dd2": {
      "model_module": "jupyter-cytoscape",
      "model_module_version": "^1.3.3",
      "model_name": "EdgeModel",
      "state": {
       "_model_module_version": "^1.3.3",
       "_view_module_version": "^1.3.3",
       "classes": " directed ",
       "data": {
        "id": "9d945897-2d04-44fa-bbce-c5b4e066cd7c",
        "source": "5899377041639488664",
        "target": "5190833689647490477"
       },
       "selectable": false
      }
     },
     "6746c62593a4457292a390a5a960949e": {
      "model_module": "jupyter-cytoscape",
      "model_module_version": "^1.3.3",
      "model_name": "NodeModel",
      "state": {
       "_model_module_version": "^1.3.3",
       "_view_module_version": "^1.3.3",
       "data": {
        "color": "gray",
        "id": "1468814177293301289",
        "label": "(0, 0, 0)",
        "shape": "rectangle"
       },
       "grabbable": true,
       "grabbed": false,
       "position": {
        "x": 178.5,
        "y": 35
       },
       "selectable": false
      }
     },
     "6802521290c747b09e6484ee74a3969d": {
      "model_module": "jupyter-cytoscape",
      "model_module_version": "^1.3.3",
      "model_name": "EdgeModel",
      "state": {
       "_model_module_version": "^1.3.3",
       "_view_module_version": "^1.3.3",
       "classes": " directed ",
       "data": {
        "id": "9c8e2163-9ef8-48e3-8b39-328dab063d4b",
        "source": "-2638438148746906173",
        "target": "6029605610067576814"
       },
       "selectable": false
      }
     },
     "6a1950e714de4449b6a9f65127b3ec98": {
      "model_module": "jupyter-cytoscape",
      "model_module_version": "^1.3.3",
      "model_name": "EdgeModel",
      "state": {
       "_model_module_version": "^1.3.3",
       "_view_module_version": "^1.3.3",
       "classes": " directed ",
       "data": {
        "id": "03cdf3ea-1694-4fbb-8fe3-6504bc825fae",
        "source": "8688960620195388608",
        "target": "-529154775629275876"
       },
       "selectable": false
      }
     },
     "6a72e1780ba84a46951e42e908d1eca4": {
      "model_module": "jupyter-cytoscape",
      "model_module_version": "^1.3.3",
      "model_name": "NodeModel",
      "state": {
       "_model_module_version": "^1.3.3",
       "_view_module_version": "^1.3.3",
       "data": {
        "color": "gray",
        "id": "-529154775629275876",
        "label": "1",
        "shape": "rectangle"
       },
       "grabbable": true,
       "grabbed": false,
       "position": {
        "x": 545.5,
        "y": 515
       },
       "selectable": false
      }
     },
     "6b6c0813e47f44c5b6cd8a6b8ca7f0b9": {
      "model_module": "jupyter-cytoscape",
      "model_module_version": "^1.3.3",
      "model_name": "EdgeModel",
      "state": {
       "_model_module_version": "^1.3.3",
       "_view_module_version": "^1.3.3",
       "classes": " directed ",
       "data": {
        "id": "faf5379c-feb9-470d-bc87-74cb917702c8",
        "source": "-2993913355004686177",
        "target": "7927772020698749667"
       },
       "selectable": false
      }
     },
     "6b8068806e234eeeba5fb84ae3ee9be6": {
      "model_module": "jupyter-cytoscape",
      "model_module_version": "^1.3.3",
      "model_name": "EdgeModel",
      "state": {
       "_model_module_version": "^1.3.3",
       "_view_module_version": "^1.3.3",
       "classes": " directed ",
       "data": {
        "id": "3919f9fa-39b1-4420-b24a-c9723cab9736",
        "source": "6958159432146507029",
        "target": "2369830892600547874"
       },
       "selectable": false
      }
     },
     "6cec3e8b7f094a2b8d6b76eb0b2c3b80": {
      "model_module": "jupyter-cytoscape",
      "model_module_version": "^1.3.3",
      "model_name": "NodeModel",
      "state": {
       "_model_module_version": "^1.3.3",
       "_view_module_version": "^1.3.3",
       "data": {
        "color": "gray",
        "id": "1468814177293301289",
        "label": "(0, 0, 0)",
        "shape": "rectangle"
       },
       "grabbable": true,
       "grabbed": false,
       "position": {
        "x": 912.5,
        "y": 995
       },
       "selectable": false
      }
     },
     "6ddae9d98986408aba04acf38f3dbb99": {
      "model_module": "jupyter-cytoscape",
      "model_module_version": "^1.3.3",
      "model_name": "EdgeModel",
      "state": {
       "_model_module_version": "^1.3.3",
       "_view_module_version": "^1.3.3",
       "classes": " directed ",
       "data": {
        "id": "46823a50-1064-467f-8287-f6811d1c7e14",
        "source": "-81111989138868833",
        "target": "-8559770428161864702"
       },
       "selectable": false
      }
     },
     "6e0d7bea103f4077942eb38e583f6f90": {
      "model_module": "jupyter-cytoscape",
      "model_module_version": "^1.3.3",
      "model_name": "NodeModel",
      "state": {
       "_model_module_version": "^1.3.3",
       "_view_module_version": "^1.3.3",
       "data": {
        "color": "gray",
        "id": "-4888149582364544781",
        "label": "extract_measurement",
        "shape": "ellipse"
       },
       "grabbable": true,
       "grabbed": false,
       "position": {
        "x": 1279.5,
        "y": 1115
       },
       "selectable": false
      }
     },
     "70568d12a32543b38f5e39d3ecf3d5fd": {
      "model_module": "jupyter-cytoscape",
      "model_module_version": "^1.3.3",
      "model_name": "EdgeModel",
      "state": {
       "_model_module_version": "^1.3.3",
       "_view_module_version": "^1.3.3",
       "classes": " directed ",
       "data": {
        "id": "f0eb47b9-2d64-481a-abb5-ad381983dbe6",
        "source": "641647815826442644",
        "target": "-1892055594409640941"
       },
       "selectable": false
      }
     },
     "737057adddaa493e9c1fdefa8869a09b": {
      "model_module": "jupyter-cytoscape",
      "model_module_version": "^1.3.3",
      "model_name": "EdgeModel",
      "state": {
       "_model_module_version": "^1.3.3",
       "_view_module_version": "^1.3.3",
       "classes": " directed ",
       "data": {
        "id": "c0421886-97c3-48ce-b55b-be56a28fd5ae",
        "source": "-5781255077600032181",
        "target": "997040717761818877"
       },
       "selectable": false
      }
     },
     "73717528bc624909bfba83fe5c22e71d": {
      "model_module": "jupyter-cytoscape",
      "model_module_version": "^1.3.3",
      "model_name": "NodeModel",
      "state": {
       "_model_module_version": "^1.3.3",
       "_view_module_version": "^1.3.3",
       "data": {
        "color": "gray",
        "id": "8554607745120336249",
        "label": "frozen_phonon",
        "shape": "ellipse"
       },
       "grabbable": true,
       "grabbed": false,
       "position": {
        "x": 545.5,
        "y": 1835
       },
       "selectable": false
      }
     },
     "75324db5b19348b2aef04ca08aaf7f33": {
      "model_module": "jupyter-cytoscape",
      "model_module_version": "^1.3.3",
      "model_name": "NodeModel",
      "state": {
       "_model_module_version": "^1.3.3",
       "_view_module_version": "^1.3.3",
       "data": {
        "color": "gray",
        "id": "-4455112467544290847",
        "label": "extract_measurement",
        "shape": "ellipse"
       },
       "grabbable": true,
       "grabbed": false,
       "position": {
        "x": 178.5,
        "y": 155
       },
       "selectable": false
      }
     },
     "7638def0b1df4363b1021341dfe699b3": {
      "model_module": "jupyter-cytoscape",
      "model_module_version": "^1.3.3",
      "model_name": "EdgeModel",
      "state": {
       "_model_module_version": "^1.3.3",
       "_view_module_version": "^1.3.3",
       "classes": " directed ",
       "data": {
        "id": "2286144f-9ba3-4308-a33c-36e805757249",
        "source": "5648452231222580563",
        "target": "525425437570452154"
       },
       "selectable": false
      }
     },
     "76ee91af9f2a4e34a3052eae18d91c81": {
      "model_module": "jupyter-cytoscape",
      "model_module_version": "^1.3.3",
      "model_name": "NodeModel",
      "state": {
       "_model_module_version": "^1.3.3",
       "_view_module_version": "^1.3.3",
       "data": {
        "color": "gray",
        "id": "5899377041639488664",
        "label": "frozen_phonon",
        "shape": "ellipse"
       },
       "grabbable": true,
       "grabbed": false,
       "position": {
        "x": 178.5,
        "y": 1835
       },
       "selectable": false
      }
     },
     "776ac2d7af3c475db98c187ed7e286fa": {
      "model_module": "jupyter-cytoscape",
      "model_module_version": "^1.3.3",
      "model_name": "NodeModel",
      "state": {
       "_model_module_version": "^1.3.3",
       "_view_module_version": "^1.3.3",
       "data": {
        "color": "gray",
        "id": "-1892055594409640941",
        "label": "mean_combine-partial",
        "shape": "ellipse"
       },
       "grabbable": true,
       "grabbed": false,
       "position": {
        "x": 362,
        "y": 395
       },
       "selectable": false
      }
     },
     "7779a1994aaf427f83f3647c58608a8c": {
      "model_module": "jupyter-cytoscape",
      "model_module_version": "^1.3.3",
      "model_name": "EdgeModel",
      "state": {
       "_model_module_version": "^1.3.3",
       "_view_module_version": "^1.3.3",
       "classes": " directed ",
       "data": {
        "id": "5b79dd5e-e207-4b9e-9462-3024553f5955",
        "source": "-6274431168249504483",
        "target": "-2638438148746906173"
       },
       "selectable": false
      }
     },
     "779d15a2c4b14cbf99cbab2c124d53d2": {
      "model_module": "jupyter-cytoscape",
      "model_module_version": "^1.3.3",
      "model_name": "NodeModel",
      "state": {
       "_model_module_version": "^1.3.3",
       "_view_module_version": "^1.3.3",
       "data": {
        "color": "gray",
        "id": "2611607444891120936",
        "label": "3",
        "shape": "rectangle"
       },
       "grabbable": true,
       "grabbed": false,
       "position": {
        "x": 1279.5,
        "y": 275
       },
       "selectable": false
      }
     },
     "78ea0a5f6c8e419a98a01af19741324b": {
      "model_module": "jupyter-cytoscape",
      "model_module_version": "^1.3.3",
      "model_name": "EdgeModel",
      "state": {
       "_model_module_version": "^1.3.3",
       "_view_module_version": "^1.3.3",
       "classes": " directed ",
       "data": {
        "id": "9c01c4a6-50ce-451b-9a76-0dc94c2d3931",
        "source": "-4455112467544290847",
        "target": "1468814177293301289"
       },
       "selectable": false
      }
     },
     "7a505b33b8134eaba14ffb60811c9e3c": {
      "model_module": "jupyter-cytoscape",
      "model_module_version": "^1.3.3",
      "model_name": "EdgeModel",
      "state": {
       "_model_module_version": "^1.3.3",
       "_view_module_version": "^1.3.3",
       "classes": " directed ",
       "data": {
        "id": "ab81838f-202a-4565-892e-5a971414f567",
        "source": "6029605610067576814",
        "target": "-1112242655355811420"
       },
       "selectable": false
      }
     },
     "7a811a266afe4dff87294e20f20a6176": {
      "model_module": "jupyter-cytoscape",
      "model_module_version": "^1.3.3",
      "model_name": "EdgeModel",
      "state": {
       "_model_module_version": "^1.3.3",
       "_view_module_version": "^1.3.3",
       "classes": " directed ",
       "data": {
        "id": "eaf151b5-69fd-47cf-a17f-700e8ac326c1",
        "source": "1723271752263943708",
        "target": "-3606315626874523598"
       },
       "selectable": false
      }
     },
     "7ad1077301ae4797815f14d2a0d47b59": {
      "model_module": "jupyter-cytoscape",
      "model_module_version": "^1.3.3",
      "model_name": "NodeModel",
      "state": {
       "_model_module_version": "^1.3.3",
       "_view_module_version": "^1.3.3",
       "data": {
        "color": "gray",
        "id": "-6274431168249504483",
        "label": "0",
        "shape": "rectangle"
       },
       "grabbable": true,
       "grabbed": false,
       "position": {
        "x": 912.5,
        "y": 1595
       },
       "selectable": false
      }
     },
     "7b0d012485aa47eab18195582b08049b": {
      "model_module": "jupyter-cytoscape",
      "model_module_version": "^1.3.3",
      "model_name": "GraphModel",
      "state": {
       "_adj": {},
       "_model_module_version": "^1.3.3",
       "_view_module": "jupyter-cytoscape",
       "_view_module_version": "^1.3.3"
      }
     },
     "80f846420d634481a0c4d66ea0d5b9b7": {
      "model_module": "jupyter-cytoscape",
      "model_module_version": "^1.3.3",
      "model_name": "EdgeModel",
      "state": {
       "_model_module_version": "^1.3.3",
       "_view_module_version": "^1.3.3",
       "classes": " directed ",
       "data": {
        "id": "cfb0e624-8e33-4118-a9e9-b2fe25a1b49d",
        "source": "5190833689647490477",
        "target": "-8212648725776401941"
       },
       "selectable": false
      }
     },
     "839a6f2b19384aa2bc62681284e5b602": {
      "model_module": "jupyter-cytoscape",
      "model_module_version": "^1.3.3",
      "model_name": "EdgeModel",
      "state": {
       "_model_module_version": "^1.3.3",
       "_view_module_version": "^1.3.3",
       "classes": " directed ",
       "data": {
        "id": "bed93781-cef4-43d5-a2a4-6cc2a81ef0e8",
        "source": "-4888149582364544781",
        "target": "7678235076085439578"
       },
       "selectable": false
      }
     },
     "83a3f5a44fac4d4da665db16b1549ba9": {
      "model_module": "jupyter-cytoscape",
      "model_module_version": "^1.3.3",
      "model_name": "EdgeModel",
      "state": {
       "_model_module_version": "^1.3.3",
       "_view_module_version": "^1.3.3",
       "classes": " directed ",
       "data": {
        "id": "89e17251-dd76-4635-8a08-a1f141a80864",
        "source": "5337896784629353535",
        "target": "5899377041639488664"
       },
       "selectable": false
      }
     },
     "83a564ea742d4eb9b4c296d70a00b9ea": {
      "model_module": "jupyter-cytoscape",
      "model_module_version": "^1.3.3",
      "model_name": "NodeModel",
      "state": {
       "_model_module_version": "^1.3.3",
       "_view_module_version": "^1.3.3",
       "data": {
        "color": "gray",
        "id": "5190833689647490477",
        "label": "",
        "shape": "rectangle"
       },
       "grabbable": true,
       "grabbed": false,
       "position": {
        "x": 912.5,
        "y": 755
       },
       "selectable": false
      }
     },
     "83f7f7397f3844c3af6abb922cf7eac4": {
      "model_module": "jupyter-cytoscape",
      "model_module_version": "^1.3.3",
      "model_name": "NodeModel",
      "state": {
       "_model_module_version": "^1.3.3",
       "_view_module_version": "^1.3.3",
       "data": {
        "color": "gray",
        "id": "-8212648725776401941",
        "label": "0",
        "shape": "rectangle"
       },
       "grabbable": true,
       "grabbed": false,
       "position": {
        "x": 178.5,
        "y": 1595
       },
       "selectable": false
      }
     },
     "85d5005b9e5942878a2f695b46743a14": {
      "model_module": "jupyter-cytoscape",
      "model_module_version": "^1.3.3",
      "model_name": "EdgeModel",
      "state": {
       "_model_module_version": "^1.3.3",
       "_view_module_version": "^1.3.3",
       "classes": " directed ",
       "data": {
        "id": "7e75f58f-3434-4806-afef-adac5bde6446",
        "source": "-5022760253900524454",
        "target": "6411248443375819870"
       },
       "selectable": false
      }
     },
     "872eec512f8b414d95a3fdc8ced511d7": {
      "model_module": "jupyter-cytoscape",
      "model_module_version": "^1.3.3",
      "model_name": "EdgeModel",
      "state": {
       "_model_module_version": "^1.3.3",
       "_view_module_version": "^1.3.3",
       "classes": " directed ",
       "data": {
        "id": "bea5f0af-6468-4e57-a8b6-1b8f1c0bd2b5",
        "source": "-8911303611153779914",
        "target": "-147531381724615491"
       },
       "selectable": false
      }
     },
     "87f7bf6e28d04032b943a1ac5c8ace85": {
      "model_module": "jupyter-cytoscape",
      "model_module_version": "^1.3.3",
      "model_name": "EdgeModel",
      "state": {
       "_model_module_version": "^1.3.3",
       "_view_module_version": "^1.3.3",
       "classes": " directed ",
       "data": {
        "id": "164707f8-3a3a-4b60-8705-877e6b613dce",
        "source": "5337896784629353535",
        "target": "5899377041639488664"
       },
       "selectable": false
      }
     },
     "882098914ae44dab9b512063bf504e66": {
      "model_module": "jupyter-cytoscape",
      "model_module_version": "^1.3.3",
      "model_name": "EdgeModel",
      "state": {
       "_model_module_version": "^1.3.3",
       "_view_module_version": "^1.3.3",
       "classes": " directed ",
       "data": {
        "id": "8b62aa90-b862-4ebe-8a67-572e2a15bef0",
        "source": "-2794818360831510968",
        "target": "8554607745120336249"
       },
       "selectable": false
      }
     },
     "8aa9782896944aa1ac592ee720722974": {
      "model_module": "jupyter-cytoscape",
      "model_module_version": "^1.3.3",
      "model_name": "EdgeModel",
      "state": {
       "_model_module_version": "^1.3.3",
       "_view_module_version": "^1.3.3",
       "classes": " directed ",
       "data": {
        "id": "b0be19de-3d83-427e-9380-aa3dd01d7963",
        "source": "5978485980472722549",
        "target": "-209718090337684999"
       },
       "selectable": false
      }
     },
     "8d2e38392f074f18ae976d5ff7b96361": {
      "model_module": "jupyter-cytoscape",
      "model_module_version": "^1.3.3",
      "model_name": "EdgeModel",
      "state": {
       "_model_module_version": "^1.3.3",
       "_view_module_version": "^1.3.3",
       "classes": " directed ",
       "data": {
        "id": "620a55b0-3991-421e-ba01-3291f2934bc3",
        "source": "2611607444891120936",
        "target": "1723271752263943708"
       },
       "selectable": false
      }
     },
     "8d4e7e9af69a444ca24a05cde8ee9db9": {
      "model_module": "jupyter-cytoscape",
      "model_module_version": "^1.3.3",
      "model_name": "EdgeModel",
      "state": {
       "_model_module_version": "^1.3.3",
       "_view_module_version": "^1.3.3",
       "classes": " directed ",
       "data": {
        "id": "e87484b1-218c-438a-9229-cb0a28d2b0e9",
        "source": "6958159432146507029",
        "target": "2369830892600547874"
       },
       "selectable": false
      }
     },
     "8e2e3bd68b264237844d1707179a1d9b": {
      "model_module": "jupyter-cytoscape",
      "model_module_version": "^1.3.3",
      "model_name": "NodeModel",
      "state": {
       "_model_module_version": "^1.3.3",
       "_view_module_version": "^1.3.3",
       "data": {
        "color": "gray",
        "id": "-7173382570491175912",
        "label": "build_waves_multislice_detect",
        "shape": "ellipse"
       },
       "grabbable": true,
       "grabbed": false,
       "position": {
        "x": 1279.5,
        "y": 395
       },
       "selectable": false
      }
     },
     "903b7d87e666447094c1d0efd3ed9f8a": {
      "model_module": "jupyter-cytoscape",
      "model_module_version": "^1.3.3",
      "model_name": "NodeModel",
      "state": {
       "_model_module_version": "^1.3.3",
       "_view_module_version": "^1.3.3",
       "data": {
        "color": "gray",
        "id": "-2638438148746906173",
        "label": "0",
        "shape": "rectangle"
       },
       "grabbable": true,
       "grabbed": false,
       "position": {
        "x": 912.5,
        "y": 1475
       },
       "selectable": false
      }
     },
     "913aed477ad348cd97a0d4b421bb720a": {
      "model_module": "jupyter-cytoscape",
      "model_module_version": "^1.3.3",
      "model_name": "EdgeModel",
      "state": {
       "_model_module_version": "^1.3.3",
       "_view_module_version": "^1.3.3",
       "classes": " directed ",
       "data": {
        "id": "0d8803bf-27fe-4d8c-99cb-9ecf1d159767",
        "source": "-529154775629275876",
        "target": "-5781255077600032181"
       },
       "selectable": false
      }
     },
     "91a14e5adb8a4e19a9c50e88773c02d8": {
      "model_module": "jupyter-cytoscape",
      "model_module_version": "^1.3.3",
      "model_name": "EdgeModel",
      "state": {
       "_model_module_version": "^1.3.3",
       "_view_module_version": "^1.3.3",
       "classes": " directed ",
       "data": {
        "id": "46815f41-a131-4848-b431-adf3f76f1b9f",
        "source": "8109201440656814751",
        "target": "-8911303611153779914"
       },
       "selectable": false
      }
     },
     "92a5fb3200cd43b5b69f03c799e0a185": {
      "model_module": "jupyter-cytoscape",
      "model_module_version": "^1.3.3",
      "model_name": "NodeModel",
      "state": {
       "_model_module_version": "^1.3.3",
       "_view_module_version": "^1.3.3",
       "data": {
        "color": "gray",
        "id": "-1551061172200993735",
        "label": "(1, 0, 0)",
        "shape": "rectangle"
       },
       "grabbable": true,
       "grabbed": false,
       "position": {
        "x": 362,
        "y": 275
       },
       "selectable": false
      }
     },
     "932bcbd5e90c4c5d8bf511da3eb6a9d4": {
      "model_module": "jupyter-cytoscape",
      "model_module_version": "^1.3.3",
      "model_name": "EdgeModel",
      "state": {
       "_model_module_version": "^1.3.3",
       "_view_module_version": "^1.3.3",
       "classes": " directed ",
       "data": {
        "id": "855c90d5-a40d-41d8-9801-abdee1964c20",
        "source": "-147531381724615491",
        "target": "8688960620195388608"
       },
       "selectable": false
      }
     },
     "9333500e49dd4b96bc1c86b75d74b5dd": {
      "model_module": "jupyter-cytoscape",
      "model_module_version": "^1.3.3",
      "model_name": "NodeModel",
      "state": {
       "_model_module_version": "^1.3.3",
       "_view_module_version": "^1.3.3",
       "data": {
        "color": "gray",
        "id": "-3488440626372327540",
        "label": "mean_agg-aggregate",
        "shape": "ellipse"
       },
       "grabbable": true,
       "grabbed": false,
       "position": {
        "x": 729,
        "y": 155
       },
       "selectable": false
      }
     },
     "94eaaf78b5b044ff8aa1b4ef0a8b2f7a": {
      "model_module": "jupyter-cytoscape",
      "model_module_version": "^1.3.3",
      "model_name": "EdgeModel",
      "state": {
       "_model_module_version": "^1.3.3",
       "_view_module_version": "^1.3.3",
       "classes": " directed ",
       "data": {
        "id": "a897c8f0-e98c-406b-b850-e7385d9b238b",
        "source": "-3648763719720139567",
        "target": "-6274431168249504483"
       },
       "selectable": false
      }
     },
     "98be9e5f63cc49119ffb27fa72261103": {
      "model_module": "jupyter-cytoscape",
      "model_module_version": "^1.3.3",
      "model_name": "NodeModel",
      "state": {
       "_model_module_version": "^1.3.3",
       "_view_module_version": "^1.3.3",
       "data": {
        "color": "gray",
        "id": "5978485980472722549",
        "label": "2",
        "shape": "rectangle"
       },
       "grabbable": true,
       "grabbed": false,
       "position": {
        "x": 912.5,
        "y": 515
       },
       "selectable": false
      }
     },
     "98c7d924a4cd4700a5623b264c3b2891": {
      "model_module": "jupyter-cytoscape",
      "model_module_version": "^1.3.3",
      "model_name": "EdgeModel",
      "state": {
       "_model_module_version": "^1.3.3",
       "_view_module_version": "^1.3.3",
       "classes": " directed ",
       "data": {
        "id": "ef29abef-b59d-4692-91e6-90419efe2db0",
        "source": "-2096639438270986525",
        "target": "-2843519414721284291"
       },
       "selectable": false
      }
     },
     "9e8c87c8898646ef92edfe0381324b9d": {
      "model_module": "jupyter-cytoscape",
      "model_module_version": "^1.3.3",
      "model_name": "EdgeModel",
      "state": {
       "_model_module_version": "^1.3.3",
       "_view_module_version": "^1.3.3",
       "classes": " directed ",
       "data": {
        "id": "acfe9051-dcaf-4449-bf62-15df0be34eeb",
        "source": "6029605610067576814",
        "target": "-1112242655355811420"
       },
       "selectable": false
      }
     },
     "a1c59d4749ee4632a2226ed330552add": {
      "model_module": "jupyter-cytoscape",
      "model_module_version": "^1.3.3",
      "model_name": "EdgeModel",
      "state": {
       "_model_module_version": "^1.3.3",
       "_view_module_version": "^1.3.3",
       "classes": " directed ",
       "data": {
        "id": "d946ce69-f125-4907-8763-a57ec2e4857c",
        "source": "-1112242655355811420",
        "target": "-4455112467544290847"
       },
       "selectable": false
      }
     },
     "a25fc171409546079910b5370f06405b": {
      "model_module": "jupyter-cytoscape",
      "model_module_version": "^1.3.3",
      "model_name": "EdgeModel",
      "state": {
       "_model_module_version": "^1.3.3",
       "_view_module_version": "^1.3.3",
       "classes": " directed ",
       "data": {
        "id": "c26997d5-aa5b-4538-8dc9-ec5e2b9be674",
        "source": "-209718090337684999",
        "target": "-3896033311210877489"
       },
       "selectable": false
      }
     },
     "a4155edacc6440e885b01a55f80a8659": {
      "model_module": "jupyter-cytoscape",
      "model_module_version": "^1.3.3",
      "model_name": "EdgeModel",
      "state": {
       "_model_module_version": "^1.3.3",
       "_view_module_version": "^1.3.3",
       "classes": " directed ",
       "data": {
        "id": "f07e8a72-e0f3-4d38-aa16-1967421b1178",
        "source": "-3896033311210877489",
        "target": "-2096639438270986525"
       },
       "selectable": false
      }
     },
     "a4cec0d988f9473899124881556e6c57": {
      "model_module": "jupyter-cytoscape",
      "model_module_version": "^1.3.3",
      "model_name": "EdgeModel",
      "state": {
       "_model_module_version": "^1.3.3",
       "_view_module_version": "^1.3.3",
       "classes": " directed ",
       "data": {
        "id": "5d46ba24-6285-4af3-b387-f915f8c26a4b",
        "source": "997040717761818877",
        "target": "-4888149582364544781"
       },
       "selectable": false
      }
     },
     "a5b34396c7024023a4cfed679e389920": {
      "model_module": "jupyter-cytoscape",
      "model_module_version": "^1.3.3",
      "model_name": "CytoscapeModel",
      "state": {
       "_interaction_handlers": {},
       "_model_module_version": "^1.3.3",
       "_view_module_version": "^1.3.3",
       "auto_ungrabify": false,
       "autolock": false,
       "cytoscape_layout": {
        "edgeSep": 10,
        "name": "dagre",
        "nodeDimensionsIncludeLabels": true,
        "nodeSep": 10,
        "rankDir": "BT",
        "spacingFactor": 1
       },
       "cytoscape_style": [
        {
         "selector": "node",
         "style": {
          "background-color": "#eee",
          "border-color": "data(color)",
          "border-width": 4,
          "color": "black",
          "font-family": "helvetica",
          "font-size": "24px",
          "font-weight": "bold",
          "height": 64,
          "label": "data(label)",
          "opacity": "1.0",
          "shape": "data(shape)",
          "text-halign": "center",
          "text-valign": "center",
          "width": 64
         }
        },
        {
         "selector": "edge",
         "style": {
          "curve-style": "bezier",
          "line-color": "gray",
          "target-arrow-color": "gray",
          "target-arrow-shape": "triangle",
          "width": 8
         }
        }
       ],
       "desktop_tap_threshold": 4,
       "graph": "IPY_MODEL_1a55d88f1b8c4efcb5f31cdd2b0d9f7d",
       "headless": false,
       "hide_edges_on_viewport": false,
       "layout": "IPY_MODEL_fe16a3914d3b442e8109e3accef076b9",
       "max_zoom": 4,
       "min_zoom": 0.2,
       "motion_blur": false,
       "motion_blur_opacity": 0.2,
       "panning_enabled": true,
       "pixel_ratio": "auto",
       "rendered_position": {
        "renderedPosition": {
         "x": 100,
         "y": 100
        }
       },
       "selection_type": "single",
       "style_enabled": true,
       "texture_on_viewport": false,
       "tooltip_source": "tooltip",
       "touch_tap_threshold": 8,
       "user_panning_enabled": true,
       "user_zooming_enabled": true,
       "wheel_sensitivity": 0.1,
       "zoom": 2,
       "zooming_enabled": true
      }
     },
     "a6173d5d59dc42bf95866bc06f62bb20": {
      "model_module": "jupyter-cytoscape",
      "model_module_version": "^1.3.3",
      "model_name": "NodeModel",
      "state": {
       "_model_module_version": "^1.3.3",
       "_view_module_version": "^1.3.3",
       "data": {
        "color": "gray",
        "id": "6958159432146507029",
        "label": "",
        "shape": "rectangle"
       },
       "grabbable": true,
       "grabbed": false,
       "position": {
        "x": 178.5,
        "y": 995
       },
       "selectable": false
      }
     },
     "a6375f76620a43d3a6d28f6b3a108e26": {
      "model_module": "jupyter-cytoscape",
      "model_module_version": "^1.3.3",
      "model_name": "EdgeModel",
      "state": {
       "_model_module_version": "^1.3.3",
       "_view_module_version": "^1.3.3",
       "classes": " directed ",
       "data": {
        "id": "48e546ff-54a9-4ddb-8858-89a58527df49",
        "source": "-3488440626372327540",
        "target": "4007050532627957381"
       },
       "selectable": false
      }
     },
     "a754eb9bb3b4427295914183bfb4b20b": {
      "model_module": "jupyter-cytoscape",
      "model_module_version": "^1.3.3",
      "model_name": "EdgeModel",
      "state": {
       "_model_module_version": "^1.3.3",
       "_view_module_version": "^1.3.3",
       "classes": " directed ",
       "data": {
        "id": "54c52d5f-ec43-4c7a-9ab4-af4c667b1278",
        "source": "-1551061172200993735",
        "target": "-3488440626372327540"
       },
       "selectable": false
      }
     },
     "a7de5189d5b64159b471017f871fc6e2": {
      "model_module": "jupyter-cytoscape",
      "model_module_version": "^1.3.3",
      "model_name": "NodeModel",
      "state": {
       "_model_module_version": "^1.3.3",
       "_view_module_version": "^1.3.3",
       "data": {
        "color": "gray",
        "id": "525425437570452154",
        "label": "mean_chunk",
        "shape": "ellipse"
       },
       "grabbable": true,
       "grabbed": false,
       "position": {
        "x": 178.5,
        "y": 635
       },
       "selectable": false
      }
     },
     "a8bb8b8ca4fc486ebc0e9ee7c8ed20f3": {
      "model_module": "jupyter-cytoscape",
      "model_module_version": "^1.3.3",
      "model_name": "NodeModel",
      "state": {
       "_model_module_version": "^1.3.3",
       "_view_module_version": "^1.3.3",
       "data": {
        "color": "gray",
        "id": "5899377041639488664",
        "label": "frozen_phonon",
        "shape": "ellipse"
       },
       "grabbable": true,
       "grabbed": false,
       "position": {
        "x": 912.5,
        "y": 875
       },
       "selectable": false
      }
     },
     "a8e2de1cd69b4583bcfdd13bfa311a48": {
      "model_module": "jupyter-cytoscape",
      "model_module_version": "^1.3.3",
      "model_name": "EdgeModel",
      "state": {
       "_model_module_version": "^1.3.3",
       "_view_module_version": "^1.3.3",
       "classes": " directed ",
       "data": {
        "id": "f6dcd563-a5dd-4ded-b1cf-56d5b98c96e5",
        "source": "-3896033311210877489",
        "target": "-2096639438270986525"
       },
       "selectable": false
      }
     },
     "aa7b299f6b4d48da9557d571e3c01aa1": {
      "model_module": "jupyter-cytoscape",
      "model_module_version": "^1.3.3",
      "model_name": "NodeModel",
      "state": {
       "_model_module_version": "^1.3.3",
       "_view_module_version": "^1.3.3",
       "data": {
        "color": "gray",
        "id": "997040717761818877",
        "label": "1",
        "shape": "rectangle"
       },
       "grabbable": true,
       "grabbed": false,
       "position": {
        "x": 1279.5,
        "y": 1235
       },
       "selectable": false
      }
     },
     "ad8890f5a95a424fac3a615a4b46c724": {
      "model_module": "jupyter-cytoscape",
      "model_module_version": "^1.3.3",
      "model_name": "GraphModel",
      "state": {
       "_adj": {},
       "_model_module_version": "^1.3.3",
       "_view_module": "jupyter-cytoscape",
       "_view_module_version": "^1.3.3"
      }
     },
     "ae45b58112ce48c891dc781d07e646e8": {
      "model_module": "jupyter-cytoscape",
      "model_module_version": "^1.3.3",
      "model_name": "EdgeModel",
      "state": {
       "_model_module_version": "^1.3.3",
       "_view_module_version": "^1.3.3",
       "classes": " directed ",
       "data": {
        "id": "8472bc64-6dc6-4882-bbe9-dbab5710c00c",
        "source": "-6458404547314626517",
        "target": "-3488440626372327540"
       },
       "selectable": false
      }
     },
     "ae4b5b6de49b4ea4a5821c86f0e65a0e": {
      "model_module": "jupyter-cytoscape",
      "model_module_version": "^1.3.3",
      "model_name": "NodeModel",
      "state": {
       "_model_module_version": "^1.3.3",
       "_view_module_version": "^1.3.3",
       "data": {
        "color": "gray",
        "id": "-1112242655355811420",
        "label": "0",
        "shape": "rectangle"
       },
       "grabbable": true,
       "grabbed": false,
       "position": {
        "x": 178.5,
        "y": 275
       },
       "selectable": false
      }
     },
     "b307db0d1a69413f8ca55aea070e2420": {
      "model_module": "jupyter-cytoscape",
      "model_module_version": "^1.3.3",
      "model_name": "NodeModel",
      "state": {
       "_model_module_version": "^1.3.3",
       "_view_module_version": "^1.3.3",
       "data": {
        "color": "gray",
        "id": "4527726134442228481",
        "label": "intensity",
        "shape": "ellipse"
       },
       "grabbable": true,
       "grabbed": false,
       "position": {
        "x": 178.5,
        "y": 875
       },
       "selectable": false
      }
     },
     "b4372ec4abbb4603bccd8fd9d95e4704": {
      "model_module": "jupyter-cytoscape",
      "model_module_version": "^1.3.3",
      "model_name": "NodeModel",
      "state": {
       "_model_module_version": "^1.3.3",
       "_view_module_version": "^1.3.3",
       "data": {
        "color": "gray",
        "id": "6029605610067576814",
        "label": "build_waves_multislice_detect",
        "shape": "ellipse"
       },
       "grabbable": true,
       "grabbed": false,
       "position": {
        "x": 178.5,
        "y": 395
       },
       "selectable": false
      }
     },
     "b4bded753b0546fdb876e725201887d0": {
      "model_module": "jupyter-cytoscape",
      "model_module_version": "^1.3.3",
      "model_name": "NodeModel",
      "state": {
       "_model_module_version": "^1.3.3",
       "_view_module_version": "^1.3.3",
       "data": {
        "color": "gray",
        "id": "-147531381724615491",
        "label": "",
        "shape": "rectangle"
       },
       "grabbable": true,
       "grabbed": false,
       "position": {
        "x": 1279.5,
        "y": 1715
       },
       "selectable": false
      }
     },
     "b569087921334e96aa7356641d940921": {
      "model_module": "jupyter-cytoscape",
      "model_module_version": "^1.3.3",
      "model_name": "NodeModel",
      "state": {
       "_model_module_version": "^1.3.3",
       "_view_module_version": "^1.3.3",
       "data": {
        "color": "gray",
        "id": "997040717761818877",
        "label": "1",
        "shape": "rectangle"
       },
       "grabbable": true,
       "grabbed": false,
       "position": {
        "x": 545.5,
        "y": 275
       },
       "selectable": false
      }
     },
     "b5707b6b0d5c4ff684a39d7df54ff2b8": {
      "model_module": "jupyter-cytoscape",
      "model_module_version": "^1.3.3",
      "model_name": "EdgeModel",
      "state": {
       "_model_module_version": "^1.3.3",
       "_view_module_version": "^1.3.3",
       "classes": " directed ",
       "data": {
        "id": "4daea1b0-c251-4fdd-a69c-fd7cae413c5d",
        "source": "82232189849975367",
        "target": "7527841135802037692"
       },
       "selectable": false
      }
     },
     "b80a4a078cfd478d88faf6c0a7c23ce1": {
      "model_module": "jupyter-cytoscape",
      "model_module_version": "^1.3.3",
      "model_name": "EdgeModel",
      "state": {
       "_model_module_version": "^1.3.3",
       "_view_module_version": "^1.3.3",
       "classes": " directed ",
       "data": {
        "id": "f41c44c0-d843-4d7b-b86b-56268bdef758",
        "source": "-3606315626874523598",
        "target": "-2809696302256404093"
       },
       "selectable": false
      }
     },
     "ba84041b4cd448469529fb31ed1b7d5f": {
      "model_module": "jupyter-cytoscape",
      "model_module_version": "^1.3.3",
      "model_name": "NodeModel",
      "state": {
       "_model_module_version": "^1.3.3",
       "_view_module_version": "^1.3.3",
       "data": {
        "color": "gray",
        "id": "-8559770428161864702",
        "label": "(0, 0, 0)",
        "shape": "rectangle"
       },
       "grabbable": true,
       "grabbed": false,
       "position": {
        "x": 912.5,
        "y": 755
       },
       "selectable": false
      }
     },
     "bc611271d89847c3a8cd558b34bc2954": {
      "model_module": "jupyter-cytoscape",
      "model_module_version": "^1.3.3",
      "model_name": "NodeModel",
      "state": {
       "_model_module_version": "^1.3.3",
       "_view_module_version": "^1.3.3",
       "data": {
        "color": "gray",
        "id": "-3648763719720139567",
        "label": "",
        "shape": "rectangle"
       },
       "grabbable": true,
       "grabbed": false,
       "position": {
        "x": 912.5,
        "y": 1715
       },
       "selectable": false
      }
     },
     "c083aee53b3a4b2b98dcfad40abcbbd4": {
      "model_module": "jupyter-cytoscape",
      "model_module_version": "^1.3.3",
      "model_name": "NodeModel",
      "state": {
       "_model_module_version": "^1.3.3",
       "_view_module_version": "^1.3.3",
       "data": {
        "color": "gray",
        "id": "641647815826442644",
        "label": "(2, 0, 0)",
        "shape": "rectangle"
       },
       "grabbable": true,
       "grabbed": false,
       "position": {
        "x": 178.5,
        "y": 515
       },
       "selectable": false
      }
     },
     "c17201f7a2ba485e8510bf40c496fc9f": {
      "model_module": "jupyter-cytoscape",
      "model_module_version": "^1.3.3",
      "model_name": "EdgeModel",
      "state": {
       "_model_module_version": "^1.3.3",
       "_view_module_version": "^1.3.3",
       "classes": " directed ",
       "data": {
        "id": "72731710-8d7d-45d4-ae4e-b222ddf070d5",
        "source": "-975648152280315770",
        "target": "-5454616645910432204"
       },
       "selectable": false
      }
     },
     "c206392c29b34d45838e404d5ab23398": {
      "model_module": "jupyter-cytoscape",
      "model_module_version": "^1.3.3",
      "model_name": "EdgeModel",
      "state": {
       "_model_module_version": "^1.3.3",
       "_view_module_version": "^1.3.3",
       "classes": " directed ",
       "data": {
        "id": "0e6742ce-bfd3-4658-aed8-f3fbd0ff7cb4",
        "source": "-147531381724615491",
        "target": "8688960620195388608"
       },
       "selectable": false
      }
     },
     "c23507194a754a5f93db65c99a90df8f": {
      "model_module": "jupyter-cytoscape",
      "model_module_version": "^1.3.3",
      "model_name": "EdgeModel",
      "state": {
       "_model_module_version": "^1.3.3",
       "_view_module_version": "^1.3.3",
       "classes": " directed ",
       "data": {
        "id": "58b25f38-9f6b-42f2-af2d-689eac58b6b3",
        "source": "2369830892600547874",
        "target": "-3648763719720139567"
       },
       "selectable": false
      }
     },
     "c2b14ebd73504b2781c6313bae5f3564": {
      "model_module": "jupyter-cytoscape",
      "model_module_version": "^1.3.3",
      "model_name": "NodeModel",
      "state": {
       "_model_module_version": "^1.3.3",
       "_view_module_version": "^1.3.3",
       "data": {
        "color": "gray",
        "id": "82232189849975367",
        "label": "mean_chunk",
        "shape": "ellipse"
       },
       "grabbable": true,
       "grabbed": false,
       "position": {
        "x": 912.5,
        "y": 635
       },
       "selectable": false
      }
     },
     "c424a9a28c8348e6b2c414be03170c80": {
      "model_module": "jupyter-cytoscape",
      "model_module_version": "^1.3.3",
      "model_name": "NodeModel",
      "state": {
       "_model_module_version": "^1.3.3",
       "_view_module_version": "^1.3.3",
       "data": {
        "color": "gray",
        "id": "8688960620195388608",
        "label": "0",
        "shape": "rectangle"
       },
       "grabbable": true,
       "grabbed": false,
       "position": {
        "x": 1279.5,
        "y": 1595
       },
       "selectable": false
      }
     },
     "c722b6051768479c86367a1f15ad5fe1": {
      "model_module": "jupyter-cytoscape",
      "model_module_version": "^1.3.3",
      "model_name": "EdgeModel",
      "state": {
       "_model_module_version": "^1.3.3",
       "_view_module_version": "^1.3.3",
       "classes": " directed ",
       "data": {
        "id": "cd6dcc1a-f852-4b55-b63e-69c615f1be48",
        "source": "-4455112467544290847",
        "target": "1468814177293301289"
       },
       "selectable": false
      }
     },
     "c730c9c5cb8f44709114b6a96c2685f0": {
      "model_module": "jupyter-cytoscape",
      "model_module_version": "^1.3.3",
      "model_name": "EdgeModel",
      "state": {
       "_model_module_version": "^1.3.3",
       "_view_module_version": "^1.3.3",
       "classes": " directed ",
       "data": {
        "id": "a43d28c7-fea8-40d9-97d5-3930c1225e87",
        "source": "5190833689647490477",
        "target": "-8212648725776401941"
       },
       "selectable": false
      }
     },
     "c9cb8b3181704b8c8debad3302eb84c9": {
      "model_module": "jupyter-cytoscape",
      "model_module_version": "^1.3.3",
      "model_name": "NodeModel",
      "state": {
       "_model_module_version": "^1.3.3",
       "_view_module_version": "^1.3.3",
       "data": {
        "color": "gray",
        "id": "-975648152280315770",
        "label": "",
        "shape": "rectangle"
       },
       "grabbable": true,
       "grabbed": false,
       "position": {
        "x": 545.5,
        "y": 1715
       },
       "selectable": false
      }
     },
     "ca364adf6d5844a8b0eb2aa048ed4f02": {
      "model_module": "jupyter-cytoscape",
      "model_module_version": "^1.3.3",
      "model_name": "NodeModel",
      "state": {
       "_model_module_version": "^1.3.3",
       "_view_module_version": "^1.3.3",
       "data": {
        "color": "gray",
        "id": "-3606315626874523598",
        "label": "(3, 0, 0)",
        "shape": "rectangle"
       },
       "grabbable": true,
       "grabbed": false,
       "position": {
        "x": 1279.5,
        "y": 35
       },
       "selectable": false
      }
     },
     "ca480753033c4eb88149367ef11dd84f": {
      "model_module": "jupyter-cytoscape",
      "model_module_version": "^1.3.3",
      "model_name": "EdgeModel",
      "state": {
       "_model_module_version": "^1.3.3",
       "_view_module_version": "^1.3.3",
       "classes": " directed ",
       "data": {
        "id": "e9075e03-3ede-4e5a-808a-152b7039d34d",
        "source": "8566637398729270391",
        "target": "-1892055594409640941"
       },
       "selectable": false
      }
     },
     "cc671573256d446cbb0bf44fcefe93b9": {
      "model_module": "jupyter-cytoscape",
      "model_module_version": "^1.3.3",
      "model_name": "NodeModel",
      "state": {
       "_model_module_version": "^1.3.3",
       "_view_module_version": "^1.3.3",
       "data": {
        "color": "gray",
        "id": "-147531381724615491",
        "label": "",
        "shape": "rectangle"
       },
       "grabbable": true,
       "grabbed": false,
       "position": {
        "x": 545.5,
        "y": 755
       },
       "selectable": false
      }
     },
     "ccec27ec00fa46ec8de7551e4ca76613": {
      "model_module": "jupyter-cytoscape",
      "model_module_version": "^1.3.3",
      "model_name": "NodeModel",
      "state": {
       "_model_module_version": "^1.3.3",
       "_view_module_version": "^1.3.3",
       "data": {
        "color": "gray",
        "id": "-975648152280315770",
        "label": "",
        "shape": "rectangle"
       },
       "grabbable": true,
       "grabbed": false,
       "position": {
        "x": 1279.5,
        "y": 755
       },
       "selectable": false
      }
     },
     "cdd176ca8a8440c5bfb080ee0b3e373f": {
      "model_module": "jupyter-cytoscape",
      "model_module_version": "^1.3.3",
      "model_name": "EdgeModel",
      "state": {
       "_model_module_version": "^1.3.3",
       "_view_module_version": "^1.3.3",
       "classes": " directed ",
       "data": {
        "id": "2117c5fb-30a2-4dad-99a2-117e7ccbda3e",
        "source": "7527841135802037692",
        "target": "7927772020698749667"
       },
       "selectable": false
      }
     },
     "cf329c7704f347cc9c4fb3b891600307": {
      "model_module": "jupyter-cytoscape",
      "model_module_version": "^1.3.3",
      "model_name": "NodeModel",
      "state": {
       "_model_module_version": "^1.3.3",
       "_view_module_version": "^1.3.3",
       "data": {
        "color": "gray",
        "id": "-2794818360831510968",
        "label": "",
        "shape": "rectangle"
       },
       "grabbable": true,
       "grabbed": false,
       "position": {
        "x": 545.5,
        "y": 1955
       },
       "selectable": false
      }
     },
     "d0309436547b4dfaa87123f84de54037": {
      "model_module": "jupyter-cytoscape",
      "model_module_version": "^1.3.3",
      "model_name": "EdgeModel",
      "state": {
       "_model_module_version": "^1.3.3",
       "_view_module_version": "^1.3.3",
       "classes": " directed ",
       "data": {
        "id": "3d38a5a0-48a8-448d-8c02-50b0fa9de0ac",
        "source": "-209718090337684999",
        "target": "-3896033311210877489"
       },
       "selectable": false
      }
     },
     "d136e3cde1964115a68877ec56697617": {
      "model_module": "jupyter-cytoscape",
      "model_module_version": "^1.3.3",
      "model_name": "NodeModel",
      "state": {
       "_model_module_version": "^1.3.3",
       "_view_module_version": "^1.3.3",
       "data": {
        "color": "gray",
        "id": "-5454616645910432204",
        "label": "0",
        "shape": "rectangle"
       },
       "grabbable": true,
       "grabbed": false,
       "position": {
        "x": 545.5,
        "y": 1595
       },
       "selectable": false
      }
     },
     "d1b33d4d5ff140868a4b63d9cc798ec6": {
      "model_module": "jupyter-cytoscape",
      "model_module_version": "^1.3.3",
      "model_name": "NodeModel",
      "state": {
       "_model_module_version": "^1.3.3",
       "_view_module_version": "^1.3.3",
       "data": {
        "color": "gray",
        "id": "2369830892600547874",
        "label": "frozen_phonon",
        "shape": "ellipse"
       },
       "grabbable": true,
       "grabbed": false,
       "position": {
        "x": 178.5,
        "y": 875
       },
       "selectable": false
      }
     },
     "d2b9e551acac47cf9e3441968488f5ac": {
      "model_module": "jupyter-cytoscape",
      "model_module_version": "^1.3.3",
      "model_name": "NodeModel",
      "state": {
       "_model_module_version": "^1.3.3",
       "_view_module_version": "^1.3.3",
       "data": {
        "color": "gray",
        "id": "5337896784629353535",
        "label": "",
        "shape": "rectangle"
       },
       "grabbable": true,
       "grabbed": false,
       "position": {
        "x": 178.5,
        "y": 1955
       },
       "selectable": false
      }
     },
     "d2ddc4d57864423884388a86e4635e86": {
      "model_module": "jupyter-cytoscape",
      "model_module_version": "^1.3.3",
      "model_name": "EdgeModel",
      "state": {
       "_model_module_version": "^1.3.3",
       "_view_module_version": "^1.3.3",
       "classes": " directed ",
       "data": {
        "id": "3f8ef368-b582-4df9-b8c7-12de9122121e",
        "source": "-2794818360831510968",
        "target": "8554607745120336249"
       },
       "selectable": false
      }
     },
     "d3252fda24644dd3ba1a27e385754d31": {
      "model_module": "jupyter-cytoscape",
      "model_module_version": "^1.3.3",
      "model_name": "NodeModel",
      "state": {
       "_model_module_version": "^1.3.3",
       "_view_module_version": "^1.3.3",
       "data": {
        "color": "gray",
        "id": "-4873302259584143306",
        "label": "(3, 0, 0)",
        "shape": "rectangle"
       },
       "grabbable": true,
       "grabbed": false,
       "position": {
        "x": 545.5,
        "y": 755
       },
       "selectable": false
      }
     },
     "d486e3c3fd254fdc89b405a77a0f6817": {
      "model_module": "jupyter-cytoscape",
      "model_module_version": "^1.3.3",
      "model_name": "EdgeModel",
      "state": {
       "_model_module_version": "^1.3.3",
       "_view_module_version": "^1.3.3",
       "classes": " directed ",
       "data": {
        "id": "91b9009b-190b-4494-881b-2fa930b8cdc7",
        "source": "5899377041639488664",
        "target": "5190833689647490477"
       },
       "selectable": false
      }
     },
     "d68f2a363d2b453db9e56911693a3fad": {
      "model_module": "jupyter-cytoscape",
      "model_module_version": "^1.3.3",
      "model_name": "NodeModel",
      "state": {
       "_model_module_version": "^1.3.3",
       "_view_module_version": "^1.3.3",
       "data": {
        "color": "gray",
        "id": "2611607444891120936",
        "label": "3",
        "shape": "rectangle"
       },
       "grabbable": true,
       "grabbed": false,
       "position": {
        "x": 545.5,
        "y": 1235
       },
       "selectable": false
      }
     },
     "d8497552606742e982131651fb107295": {
      "model_module": "jupyter-cytoscape",
      "model_module_version": "^1.3.3",
      "model_name": "NodeModel",
      "state": {
       "_model_module_version": "^1.3.3",
       "_view_module_version": "^1.3.3",
       "data": {
        "color": "gray",
        "id": "-7173382570491175912",
        "label": "build_waves_multislice_detect",
        "shape": "ellipse"
       },
       "grabbable": true,
       "grabbed": false,
       "position": {
        "x": 545.5,
        "y": 1355
       },
       "selectable": false
      }
     },
     "d945b5fb873945509593c4a535b29950": {
      "model_module": "jupyter-cytoscape",
      "model_module_version": "^1.3.3",
      "model_name": "NodeModel",
      "state": {
       "_model_module_version": "^1.3.3",
       "_view_module_version": "^1.3.3",
       "data": {
        "color": "gray",
        "id": "-2096639438270986525",
        "label": "extract_measurement",
        "shape": "ellipse"
       },
       "grabbable": true,
       "grabbed": false,
       "position": {
        "x": 178.5,
        "y": 1115
       },
       "selectable": false
      }
     },
     "dad046dd28ec4937b48c5532d3b4cb83": {
      "model_module": "jupyter-cytoscape",
      "model_module_version": "^1.3.3",
      "model_name": "EdgeModel",
      "state": {
       "_model_module_version": "^1.3.3",
       "_view_module_version": "^1.3.3",
       "classes": " directed ",
       "data": {
        "id": "2aaaabb7-f7e2-4d4b-92cf-0e5e2fb70a45",
        "source": "2611607444891120936",
        "target": "1723271752263943708"
       },
       "selectable": false
      }
     },
     "dc25ec87600f4fe1b6efb2f3a8cbca80": {
      "model_module": "jupyter-cytoscape",
      "model_module_version": "^1.3.3",
      "model_name": "NodeModel",
      "state": {
       "_model_module_version": "^1.3.3",
       "_view_module_version": "^1.3.3",
       "data": {
        "color": "gray",
        "id": "-5781255077600032181",
        "label": "build_waves_multislice_detect",
        "shape": "ellipse"
       },
       "grabbable": true,
       "grabbed": false,
       "position": {
        "x": 545.5,
        "y": 395
       },
       "selectable": false
      }
     },
     "ddeae7c255724ea79c792967dd6d39d8": {
      "model_module": "jupyter-cytoscape",
      "model_module_version": "^1.3.3",
      "model_name": "EdgeModel",
      "state": {
       "_model_module_version": "^1.3.3",
       "_view_module_version": "^1.3.3",
       "classes": " directed ",
       "data": {
        "id": "ddcdf051-b311-4ad6-a981-a16c774a37f4",
        "source": "-6274431168249504483",
        "target": "-2638438148746906173"
       },
       "selectable": false
      }
     },
     "e1406d805c1b4abaa67c4297ffb41c2c": {
      "model_module": "jupyter-cytoscape",
      "model_module_version": "^1.3.3",
      "model_name": "EdgeModel",
      "state": {
       "_model_module_version": "^1.3.3",
       "_view_module_version": "^1.3.3",
       "classes": " directed ",
       "data": {
        "id": "b88e0ffa-86a0-42dc-b80d-ccc16167a2d0",
        "source": "-1892055594409640941",
        "target": "-1551061172200993735"
       },
       "selectable": false
      }
     },
     "e30bd6c6edb848589f31805637a687b4": {
      "model_module": "jupyter-cytoscape",
      "model_module_version": "^1.3.3",
      "model_name": "EdgeModel",
      "state": {
       "_model_module_version": "^1.3.3",
       "_view_module_version": "^1.3.3",
       "classes": " directed ",
       "data": {
        "id": "11a9996c-2178-4c0a-9cd0-4ca5461a192d",
        "source": "4527726134442228481",
        "target": "5648452231222580563"
       },
       "selectable": false
      }
     },
     "e45d1da1aeb54bd8b55ec3579dbdef0f": {
      "model_module": "jupyter-cytoscape",
      "model_module_version": "^1.3.3",
      "model_name": "NodeModel",
      "state": {
       "_model_module_version": "^1.3.3",
       "_view_module_version": "^1.3.3",
       "data": {
        "color": "gray",
        "id": "7927772020698749667",
        "label": "mean_combine-partial",
        "shape": "ellipse"
       },
       "grabbable": true,
       "grabbed": false,
       "position": {
        "x": 1096,
        "y": 395
       },
       "selectable": false
      }
     },
     "e88f3bf82c864c929d2c954f17b5b080": {
      "model_module": "jupyter-cytoscape",
      "model_module_version": "^1.3.3",
      "model_name": "EdgeModel",
      "state": {
       "_model_module_version": "^1.3.3",
       "_view_module_version": "^1.3.3",
       "classes": " directed ",
       "data": {
        "id": "3be4a81a-a32f-4063-94f9-836f574fcd0f",
        "source": "-3648763719720139567",
        "target": "-6274431168249504483"
       },
       "selectable": false
      }
     },
     "e90eb2fdf6d141bdb131051c637d0a21": {
      "model_module": "jupyter-cytoscape",
      "model_module_version": "^1.3.3",
      "model_name": "NodeModel",
      "state": {
       "_model_module_version": "^1.3.3",
       "_view_module_version": "^1.3.3",
       "data": {
        "color": "gray",
        "id": "-8911303611153779914",
        "label": "frozen_phonon",
        "shape": "ellipse"
       },
       "grabbable": true,
       "grabbed": false,
       "position": {
        "x": 1279.5,
        "y": 1835
       },
       "selectable": false
      }
     },
     "ea79fcfb3cef49489b231ef060e5325d": {
      "model_module": "jupyter-cytoscape",
      "model_module_version": "^1.3.3",
      "model_name": "NodeModel",
      "state": {
       "_model_module_version": "^1.3.3",
       "_view_module_version": "^1.3.3",
       "data": {
        "color": "gray",
        "id": "7678235076085439578",
        "label": "(1, 0, 0)",
        "shape": "rectangle"
       },
       "grabbable": true,
       "grabbed": false,
       "position": {
        "x": 1279.5,
        "y": 995
       },
       "selectable": false
      }
     },
     "eb5561f8aa214677854f5a36a9ab718f": {
      "model_module": "jupyter-cytoscape",
      "model_module_version": "^1.3.3",
      "model_name": "EdgeModel",
      "state": {
       "_model_module_version": "^1.3.3",
       "_view_module_version": "^1.3.3",
       "classes": " directed ",
       "data": {
        "id": "e9ca4008-3e8e-4eb8-9524-936b36b07fdb",
        "source": "1085411951500026183",
        "target": "-7173382570491175912"
       },
       "selectable": false
      }
     },
     "ec963a1881524e838f5d3a8ce08cdb2a": {
      "model_module": "jupyter-cytoscape",
      "model_module_version": "^1.3.3",
      "model_name": "NodeModel",
      "state": {
       "_model_module_version": "^1.3.3",
       "_view_module_version": "^1.3.3",
       "data": {
        "color": "gray",
        "id": "1085411951500026183",
        "label": "3",
        "shape": "rectangle"
       },
       "grabbable": true,
       "grabbed": false,
       "position": {
        "x": 1279.5,
        "y": 515
       },
       "selectable": false
      }
     },
     "ecf6c5f3cfda49aab4aad0becb10210c": {
      "model_module": "jupyter-cytoscape",
      "model_module_version": "^1.3.3",
      "model_name": "NodeModel",
      "state": {
       "_model_module_version": "^1.3.3",
       "_view_module_version": "^1.3.3",
       "data": {
        "color": "gray",
        "id": "1723271752263943708",
        "label": "extract_measurement",
        "shape": "ellipse"
       },
       "grabbable": true,
       "grabbed": false,
       "position": {
        "x": 545.5,
        "y": 1115
       },
       "selectable": false
      }
     },
     "ee6cd1ed0450410eb703e87e635bf3d9": {
      "model_module": "jupyter-cytoscape",
      "model_module_version": "^1.3.3",
      "model_name": "EdgeModel",
      "state": {
       "_model_module_version": "^1.3.3",
       "_view_module_version": "^1.3.3",
       "classes": " directed ",
       "data": {
        "id": "9be0c39e-cd01-4c0c-a4ff-4900cd64ed1a",
        "source": "1468814177293301289",
        "target": "-81111989138868833"
       },
       "selectable": false
      }
     },
     "eee1dca483c44460942f8fd337da28cf": {
      "model_module": "jupyter-cytoscape",
      "model_module_version": "^1.3.3",
      "model_name": "NodeModel",
      "state": {
       "_model_module_version": "^1.3.3",
       "_view_module_version": "^1.3.3",
       "data": {
        "color": "gray",
        "id": "-3648763719720139567",
        "label": "",
        "shape": "rectangle"
       },
       "grabbable": true,
       "grabbed": false,
       "position": {
        "x": 178.5,
        "y": 755
       },
       "selectable": false
      }
     },
     "efd294cdbdfe4a89a63a0bc0e5b3f5c0": {
      "model_module": "jupyter-cytoscape",
      "model_module_version": "^1.3.3",
      "model_name": "EdgeModel",
      "state": {
       "_model_module_version": "^1.3.3",
       "_view_module_version": "^1.3.3",
       "classes": " directed ",
       "data": {
        "id": "b314adbe-8d2c-4865-97b9-79687169a2f4",
        "source": "8554607745120336249",
        "target": "-975648152280315770"
       },
       "selectable": false
      }
     },
     "f08783e19eae480990e121261841d87b": {
      "model_module": "jupyter-cytoscape",
      "model_module_version": "^1.3.3",
      "model_name": "EdgeModel",
      "state": {
       "_model_module_version": "^1.3.3",
       "_view_module_version": "^1.3.3",
       "classes": " directed ",
       "data": {
        "id": "2eee0041-7b5d-4eee-ba82-646dda2acf82",
        "source": "525425437570452154",
        "target": "641647815826442644"
       },
       "selectable": false
      }
     },
     "f3ba2600d45042a480fa365a9e2455e7": {
      "model_module": "jupyter-cytoscape",
      "model_module_version": "^1.3.3",
      "model_name": "GraphModel",
      "state": {
       "_adj": {
        "-1112242655355811420": {},
        "-147531381724615491": {},
        "-2096639438270986525": {},
        "-209718090337684999": {},
        "-2638438148746906173": {},
        "-2794818360831510968": {},
        "-2843519414721284291": {},
        "-3606315626874523598": {},
        "-3648763719720139567": {},
        "-3896033311210877489": {},
        "-4455112467544290847": {},
        "-4888149582364544781": {},
        "-529154775629275876": {},
        "-5454616645910432204": {},
        "-5781255077600032181": {},
        "-6274431168249504483": {},
        "-7173382570491175912": {},
        "-8212648725776401941": {},
        "-8911303611153779914": {},
        "-975648152280315770": {},
        "1085411951500026183": {},
        "1468814177293301289": {},
        "1723271752263943708": {},
        "2369830892600547874": {},
        "2611607444891120936": {},
        "5190833689647490477": {},
        "5337896784629353535": {},
        "5899377041639488664": {},
        "5978485980472722549": {},
        "6029605610067576814": {},
        "6958159432146507029": {},
        "7678235076085439578": {},
        "8109201440656814751": {},
        "8554607745120336249": {},
        "8688960620195388608": {},
        "997040717761818877": {}
       },
       "_model_module_version": "^1.3.3",
       "_view_module": "jupyter-cytoscape",
       "_view_module_version": "^1.3.3",
       "edges": [
        "IPY_MODEL_ddeae7c255724ea79c792967dd6d39d8",
        "IPY_MODEL_6a1950e714de4449b6a9f65127b3ec98",
        "IPY_MODEL_4e79c9e352514f5aaad55acdc3df5ac9",
        "IPY_MODEL_1d09727420f045b19d67817f2bf5c692",
        "IPY_MODEL_664246c9d73847a490d464cea2f4ae6e",
        "IPY_MODEL_6b8068806e234eeeba5fb84ae3ee9be6",
        "IPY_MODEL_94eaaf78b5b044ff8aa1b4ef0a8b2f7a",
        "IPY_MODEL_872eec512f8b414d95a3fdc8ced511d7",
        "IPY_MODEL_91a14e5adb8a4e19a9c50e88773c02d8",
        "IPY_MODEL_c206392c29b34d45838e404d5ab23398",
        "IPY_MODEL_d486e3c3fd254fdc89b405a77a0f6817",
        "IPY_MODEL_87f7bf6e28d04032b943a1ac5c8ace85",
        "IPY_MODEL_c730c9c5cb8f44709114b6a96c2685f0",
        "IPY_MODEL_275e05d841fc4bf9b049bb55617e9fdd",
        "IPY_MODEL_882098914ae44dab9b512063bf504e66",
        "IPY_MODEL_c17201f7a2ba485e8510bf40c496fc9f",
        "IPY_MODEL_7a505b33b8134eaba14ffb60811c9e3c",
        "IPY_MODEL_576831b338924bef909a28d6044fc0a8",
        "IPY_MODEL_737057adddaa493e9c1fdefa8869a09b",
        "IPY_MODEL_43120d64ca8e4ec8a48a0b815d55dffd",
        "IPY_MODEL_d0309436547b4dfaa87123f84de54037",
        "IPY_MODEL_3d0da29177074298861540c9ccc500e7",
        "IPY_MODEL_3489ce478753400c8210ab55d564a20f",
        "IPY_MODEL_eb5561f8aa214677854f5a36a9ab718f",
        "IPY_MODEL_c722b6051768479c86367a1f15ad5fe1",
        "IPY_MODEL_58ba5763c01f4a0ebcdb13bfe88e688f",
        "IPY_MODEL_466f2c0dae7040ff8bc8320b2ca39ee1",
        "IPY_MODEL_3a02398cb0564ff98ab5ecf599476fb1",
        "IPY_MODEL_98c7d924a4cd4700a5623b264c3b2891",
        "IPY_MODEL_a8e2de1cd69b4583bcfdd13bfa311a48",
        "IPY_MODEL_7a811a266afe4dff87294e20f20a6176",
        "IPY_MODEL_8d2e38392f074f18ae976d5ff7b96361"
       ],
       "nodes": [
        "IPY_MODEL_2f0b5f32f1e94e36a7a40b69c6a7bf13",
        "IPY_MODEL_6a72e1780ba84a46951e42e908d1eca4",
        "IPY_MODEL_98be9e5f63cc49119ffb27fa72261103",
        "IPY_MODEL_ec963a1881524e838f5d3a8ce08cdb2a",
        "IPY_MODEL_a6173d5d59dc42bf95866bc06f62bb20",
        "IPY_MODEL_d1b33d4d5ff140868a4b63d9cc798ec6",
        "IPY_MODEL_eee1dca483c44460942f8fd337da28cf",
        "IPY_MODEL_5dea6cb4e3aa4078a8bede9792bb7114",
        "IPY_MODEL_447eb1ad0cc0497785f330350fb8f34b",
        "IPY_MODEL_f49329871dff4b1a815a664651a65a1d",
        "IPY_MODEL_cc671573256d446cbb0bf44fcefe93b9",
        "IPY_MODEL_2572c409c41e4c6bbb3152f021dc9eb9",
        "IPY_MODEL_1094bdcc9e4d46f5b1e4a183667d1835",
        "IPY_MODEL_a8bb8b8ca4fc486ebc0e9ee7c8ed20f3",
        "IPY_MODEL_83a564ea742d4eb9b4c296d70a00b9ea",
        "IPY_MODEL_0715f0dacd4d4b5a8abf6587bf77654f",
        "IPY_MODEL_f4504975a0b245aa9746e4cd96f60aa0",
        "IPY_MODEL_3af9c9aa62be4301a74f53ede550deb1",
        "IPY_MODEL_ccec27ec00fa46ec8de7551e4ca76613",
        "IPY_MODEL_270bb470ecf749bc8eb4cd92a31f6d59",
        "IPY_MODEL_b4372ec4abbb4603bccd8fd9d95e4704",
        "IPY_MODEL_ae4b5b6de49b4ea4a5821c86f0e65a0e",
        "IPY_MODEL_dc25ec87600f4fe1b6efb2f3a8cbca80",
        "IPY_MODEL_b569087921334e96aa7356641d940921",
        "IPY_MODEL_534e291c18c140ad8573f05485a649e3",
        "IPY_MODEL_2b2b8e579f1d4c4b88d1e41562b1d76e",
        "IPY_MODEL_8e2e3bd68b264237844d1707179a1d9b",
        "IPY_MODEL_779d15a2c4b14cbf99cbab2c124d53d2",
        "IPY_MODEL_75324db5b19348b2aef04ca08aaf7f33",
        "IPY_MODEL_6746c62593a4457292a390a5a960949e",
        "IPY_MODEL_0d60301aa43a4b17a80b81978c59be49",
        "IPY_MODEL_0438c39260754275b41a5da345d9b3d5",
        "IPY_MODEL_4a8a887344d54d938a36a53c4bf86df5",
        "IPY_MODEL_5f225efbbc6b4dd0bb5e527204c65ac7",
        "IPY_MODEL_4225962632c7486f84b3e70c7c30a54e",
        "IPY_MODEL_ca364adf6d5844a8b0eb2aa048ed4f02"
       ]
      }
     },
     "f4504975a0b245aa9746e4cd96f60aa0": {
      "model_module": "jupyter-cytoscape",
      "model_module_version": "^1.3.3",
      "model_name": "NodeModel",
      "state": {
       "_model_module_version": "^1.3.3",
       "_view_module_version": "^1.3.3",
       "data": {
        "color": "gray",
        "id": "-2794818360831510968",
        "label": "",
        "shape": "rectangle"
       },
       "grabbable": true,
       "grabbed": false,
       "position": {
        "x": 1279.5,
        "y": 995
       },
       "selectable": false
      }
     },
     "f49329871dff4b1a815a664651a65a1d": {
      "model_module": "jupyter-cytoscape",
      "model_module_version": "^1.3.3",
      "model_name": "NodeModel",
      "state": {
       "_model_module_version": "^1.3.3",
       "_view_module_version": "^1.3.3",
       "data": {
        "color": "gray",
        "id": "-8911303611153779914",
        "label": "frozen_phonon",
        "shape": "ellipse"
       },
       "grabbable": true,
       "grabbed": false,
       "position": {
        "x": 545.5,
        "y": 875
       },
       "selectable": false
      }
     },
     "fad86f9bec6f4dd4998cd5cc23ec2178": {
      "model_module": "jupyter-cytoscape",
      "model_module_version": "^1.3.3",
      "model_name": "NodeModel",
      "state": {
       "_model_module_version": "^1.3.3",
       "_view_module_version": "^1.3.3",
       "data": {
        "color": "gray",
        "id": "-5781255077600032181",
        "label": "build_waves_multislice_detect",
        "shape": "ellipse"
       },
       "grabbable": true,
       "grabbed": false,
       "position": {
        "x": 1279.5,
        "y": 1355
       },
       "selectable": false
      }
     },
     "fbad697efc4a4d8fb2b5d02f5c391cde": {
      "model_module": "jupyter-cytoscape",
      "model_module_version": "^1.3.3",
      "model_name": "NodeModel",
      "state": {
       "_model_module_version": "^1.3.3",
       "_view_module_version": "^1.3.3",
       "data": {
        "color": "gray",
        "id": "-1112242655355811420",
        "label": "0",
        "shape": "rectangle"
       },
       "grabbable": true,
       "grabbed": false,
       "position": {
        "x": 912.5,
        "y": 1235
       },
       "selectable": false
      }
     },
     "fd1ce3869a0a4a5eb1bc98a2757ce8da": {
      "model_module": "jupyter-cytoscape",
      "model_module_version": "^1.3.3",
      "model_name": "EdgeModel",
      "state": {
       "_model_module_version": "^1.3.3",
       "_view_module_version": "^1.3.3",
       "classes": " directed ",
       "data": {
        "id": "4d1e92d1-d27c-4a80-ac2c-2ee5e67eacb3",
        "source": "6411248443375819870",
        "target": "8543881921210405712"
       },
       "selectable": false
      }
     },
     "fe16a3914d3b442e8109e3accef076b9": {
      "model_module": "@jupyter-widgets/base",
      "model_module_version": "2.0.0",
      "model_name": "LayoutModel",
      "state": {
       "height": "400px"
      }
     },
     "fec60ec6c42b491da85e71adef7ce87d": {
      "model_module": "jupyter-cytoscape",
      "model_module_version": "^1.3.3",
      "model_name": "NodeModel",
      "state": {
       "_model_module_version": "^1.3.3",
       "_view_module_version": "^1.3.3",
       "data": {
        "color": "gray",
        "id": "6029605610067576814",
        "label": "build_waves_multislice_detect",
        "shape": "ellipse"
       },
       "grabbable": true,
       "grabbed": false,
       "position": {
        "x": 912.5,
        "y": 1355
       },
       "selectable": false
      }
     }
    },
    "version_major": 2,
    "version_minor": 0
   }
  }
 },
 "nbformat": 4,
 "nbformat_minor": 5
}
