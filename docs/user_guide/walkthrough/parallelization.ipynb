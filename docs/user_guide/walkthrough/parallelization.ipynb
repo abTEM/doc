{
 "cells": [
  {
   "cell_type": "code",
   "execution_count": 1,
   "id": "c8a68d55-5e9b-4bab-b324-05b89a56cecd",
   "metadata": {
    "pycharm": {
     "name": "#%%\n"
    },
    "tags": [
     "hide-input"
    ]
   },
   "outputs": [],
   "source": [
    "import abtem\n",
    "import ase\n",
    "import dask\n",
    "from IPython.display import Image, display \n",
    "\n",
    "dask.config.set({\"array.svg.size\": 90});"
   ]
  },
  {
   "cell_type": "markdown",
   "id": "2b2c74ed-dfb6-4426-898a-63110b6fb253",
   "metadata": {
    "pycharm": {
     "name": "#%% md\n"
    },
    "tags": []
   },
   "source": [
    "(walkthrough:parallelization)=\n",
    "# Parallelization\n",
    "\n",
    "The computational cost of running multislice simulations can become high depending on the size of the specimen, the number of probe positions, phonon images, and many other factors. This cost can be mitigated using parallelism. Many of the computations in *ab*TEM are [embarrasingly parallel](https://en.wikipedia.org/wiki/Embarrassingly_parallel): for example, every probe position is independent, thus each CPU core may calculate a batch of positions independently, only requiring communication after finishing a run of the multislice algorithm. \n",
    "\n",
    "*ab*TEM is parallelized using [Dask](https://www.dask.org/){cite}`dask`, which is a flexible library for parallel computing in Python. Dask allows scaling from a single laptop to hundreds of nodes at high-performance computing (HPC) facilities with minimal changes to the code. \n",
    "\n",
    "In this walkthrough, we introduce how *ab*TEM uses Dask. Althouhg this is not required knowledge for running simulations on a single machine, it may still help you optimize your simulations. If you are already an experienced Dask user, most of what you already know can be applied to using *ab*TEM. If you are new to Dask you may benefit from watching [this introduction](https://www.youtube.com/watch?v=nnndxbr_Xq4) before continuing.\n",
    "\n",
    "We note that Dask is used in several other libraries for the analysis of electron microscopy data, for example, [hyperspy](https://hyperspy.org/), [libertem](https://libertem.github.io/LiberTEM/) and [py4DSTEM](https://py4dstem.readthedocs.io/en/latest/), and thus we think that you may benefit from knowing this library more generally."
   ]
  },
  {
   "cell_type": "markdown",
   "id": "43b2aaf0-80a0-4058-99a2-faa12025ab42",
   "metadata": {
    "pycharm": {
     "name": "#%% md\n"
    }
   },
   "source": [
    "## Task graphs\n",
    "\n",
    "Simulating TEM experiments requires executing multiple *tasks* where each one may depend on the output of previous tasks. In Dask this is represented as a [*task graph*](https://docs.dask.org/en/stable/graphs.html), where each task is a *node*, with *edges* between nodes if it is dependent on another task. The simulation result is obtained by executing each task (node) in the graph with a Dask *scheduler* on a single machine or a cluster."
   ]
  },
  {
   "cell_type": "code",
   "execution_count": 2,
   "id": "fe6765fb-d0ea-4c35-b5bf-2eaadee69b0b",
   "metadata": {
    "jupyter": {
     "source_hidden": true
    },
    "tags": [
     "remove-input",
     "hide-input"
    ]
   },
   "outputs": [
    {
     "data": {
      "text/html": [
       "<img src=\"https://docs.dask.org/en/stable/_images/dask-overview.svg\" width=\"600\"/>"
      ],
      "text/plain": [
       "<IPython.core.display.Image object>"
      ]
     },
     "metadata": {},
     "output_type": "display_data"
    }
   ],
   "source": [
    "display(\n",
    "    Image(url=\"https://docs.dask.org/en/stable/_images/dask-overview.svg\", width=600)\n",
    ")"
   ]
  },
  {
   "cell_type": "markdown",
   "id": "95b10156-ee85-4600-92ed-b9c7c398dbdc",
   "metadata": {},
   "source": [
    "To illustrate this in practice, below we create the task graph for running a plane wave multislice simulation of gold in the $\\left<100\\right>$ zone axis with 4 frozen phonon configurations (please refer to previous walkthroughs for those details)."
   ]
  },
  {
   "cell_type": "code",
   "execution_count": 3,
   "id": "60ba5ba0-0d6d-4ecb-8fdd-fa80316a579b",
   "metadata": {},
   "outputs": [],
   "source": [
    "atoms = ase.build.bulk(\"Au\", cubic=True) * (5, 5, 2)\n",
    "\n",
    "frozen_phonons = abtem.FrozenPhonons(\n",
    "    atoms, num_configs=4, sigmas=0.1, ensemble_mean=False\n",
    ")\n",
    "\n",
    "potential = abtem.Potential(frozen_phonons, gpts=512, slice_thickness=2)\n",
    "\n",
    "probe = abtem.PlaneWave(energy=200e3)\n",
    "\n",
    "exit_waves = probe.multislice(potential)"
   ]
  },
  {
   "cell_type": "markdown",
   "id": "cbc97cd9-2777-4ef4-a0c4-c020517b708e",
   "metadata": {},
   "source": [
    "The result is an ensemble of $4$ wave functions of shape $512\\times512$, which may be represented as a 3D array, where the first dimension represents the phonon ensemble and the last two dimensions represents the 2D wave functions. \n",
    "\n",
    "As we have not executed the task graph yet, the wave functions are represented as a [Dask Array](https://docs.dask.org/en/stable/array.html). We can think of the *Dask array* as being composed of many smaller NumPy arrays, called *chunks*, and operations may be applied to each chunk rather than the full array. This enables: \n",
    "\n",
    "1. Parallelism over the chunks;\n",
    "2. Representing a larger-than-memory array as many smaller arrays, each of which fits in memory.\n",
    "\n",
    "The Dask array representation `__repr__` shows how the chunks are laid out."
   ]
  },
  {
   "cell_type": "code",
   "execution_count": 4,
   "id": "adc736d7-6ca1-47a7-baa5-eb6a9b0d69cb",
   "metadata": {},
   "outputs": [
    {
     "data": {
      "text/html": [
       "<table>\n",
       "    <tr>\n",
       "        <td>\n",
       "            <table style=\"border-collapse: collapse;\">\n",
       "                <thead>\n",
       "                    <tr>\n",
       "                        <td> </td>\n",
       "                        <th> Array </th>\n",
       "                        <th> Chunk </th>\n",
       "                    </tr>\n",
       "                </thead>\n",
       "                <tbody>\n",
       "                    \n",
       "                    <tr>\n",
       "                        <th> Bytes </th>\n",
       "                        <td> 8.00 MiB </td>\n",
       "                        <td> 2.00 MiB </td>\n",
       "                    </tr>\n",
       "                    \n",
       "                    <tr>\n",
       "                        <th> Shape </th>\n",
       "                        <td> (4, 512, 512) </td>\n",
       "                        <td> (1, 512, 512) </td>\n",
       "                    </tr>\n",
       "                    <tr>\n",
       "                        <th> Dask graph </th>\n",
       "                        <td colspan=\"2\"> 4 chunks in 15 graph layers </td>\n",
       "                    </tr>\n",
       "                    <tr>\n",
       "                        <th> Data type </th>\n",
       "                        <td colspan=\"2\"> complex64 numpy.ndarray </td>\n",
       "                    </tr>\n",
       "                </tbody>\n",
       "            </table>\n",
       "        </td>\n",
       "        <td>\n",
       "        <svg width=\"161\" height=\"151\" style=\"stroke:rgb(0,0,0);stroke-width:1\" >\n",
       "\n",
       "  <!-- Horizontal lines -->\n",
       "  <line x1=\"10\" y1=\"0\" x2=\"21\" y2=\"11\" style=\"stroke-width:2\" />\n",
       "  <line x1=\"10\" y1=\"90\" x2=\"21\" y2=\"101\" style=\"stroke-width:2\" />\n",
       "\n",
       "  <!-- Vertical lines -->\n",
       "  <line x1=\"10\" y1=\"0\" x2=\"10\" y2=\"90\" style=\"stroke-width:2\" />\n",
       "  <line x1=\"12\" y1=\"2\" x2=\"12\" y2=\"92\" />\n",
       "  <line x1=\"15\" y1=\"5\" x2=\"15\" y2=\"95\" />\n",
       "  <line x1=\"18\" y1=\"8\" x2=\"18\" y2=\"98\" />\n",
       "  <line x1=\"21\" y1=\"11\" x2=\"21\" y2=\"101\" style=\"stroke-width:2\" />\n",
       "\n",
       "  <!-- Colored Rectangle -->\n",
       "  <polygon points=\"10.0,0.0 21.2114484623158,11.211448462315802 21.2114484623158,101.2114484623158 10.0,90.0\" style=\"fill:#ECB172A0;stroke-width:0\"/>\n",
       "\n",
       "  <!-- Horizontal lines -->\n",
       "  <line x1=\"10\" y1=\"0\" x2=\"100\" y2=\"0\" style=\"stroke-width:2\" />\n",
       "  <line x1=\"12\" y1=\"2\" x2=\"102\" y2=\"2\" />\n",
       "  <line x1=\"15\" y1=\"5\" x2=\"105\" y2=\"5\" />\n",
       "  <line x1=\"18\" y1=\"8\" x2=\"108\" y2=\"8\" />\n",
       "  <line x1=\"21\" y1=\"11\" x2=\"111\" y2=\"11\" style=\"stroke-width:2\" />\n",
       "\n",
       "  <!-- Vertical lines -->\n",
       "  <line x1=\"10\" y1=\"0\" x2=\"21\" y2=\"11\" style=\"stroke-width:2\" />\n",
       "  <line x1=\"100\" y1=\"0\" x2=\"111\" y2=\"11\" style=\"stroke-width:2\" />\n",
       "\n",
       "  <!-- Colored Rectangle -->\n",
       "  <polygon points=\"10.0,0.0 100.0,0.0 111.2114484623158,11.211448462315802 21.2114484623158,11.211448462315802\" style=\"fill:#ECB172A0;stroke-width:0\"/>\n",
       "\n",
       "  <!-- Horizontal lines -->\n",
       "  <line x1=\"21\" y1=\"11\" x2=\"111\" y2=\"11\" style=\"stroke-width:2\" />\n",
       "  <line x1=\"21\" y1=\"101\" x2=\"111\" y2=\"101\" style=\"stroke-width:2\" />\n",
       "\n",
       "  <!-- Vertical lines -->\n",
       "  <line x1=\"21\" y1=\"11\" x2=\"21\" y2=\"101\" style=\"stroke-width:2\" />\n",
       "  <line x1=\"111\" y1=\"11\" x2=\"111\" y2=\"101\" style=\"stroke-width:2\" />\n",
       "\n",
       "  <!-- Colored Rectangle -->\n",
       "  <polygon points=\"21.2114484623158,11.211448462315802 111.2114484623158,11.211448462315802 111.2114484623158,101.2114484623158 21.2114484623158,101.2114484623158\" style=\"fill:#ECB172A0;stroke-width:0\"/>\n",
       "\n",
       "  <!-- Text -->\n",
       "  <text x=\"66.211448\" y=\"121.211448\" font-size=\"1.0rem\" font-weight=\"100\" text-anchor=\"middle\" >512</text>\n",
       "  <text x=\"131.211448\" y=\"56.211448\" font-size=\"1.0rem\" font-weight=\"100\" text-anchor=\"middle\" transform=\"rotate(-90,131.211448,56.211448)\">512</text>\n",
       "  <text x=\"5.605724\" y=\"115.605724\" font-size=\"1.0rem\" font-weight=\"100\" text-anchor=\"middle\" transform=\"rotate(45,5.605724,115.605724)\">4</text>\n",
       "</svg>\n",
       "        </td>\n",
       "    </tr>\n",
       "</table>"
      ],
      "text/plain": [
       "dask.array<_extract_measurement, shape=(4, 512, 512), dtype=complex64, chunksize=(1, 512, 512), chunktype=numpy.ndarray>"
      ]
     },
     "execution_count": 4,
     "metadata": {},
     "output_type": "execute_result"
    }
   ],
   "source": [
    "exit_waves.array"
   ]
  },
  {
   "cell_type": "markdown",
   "id": "07d22d90-2701-4d3e-bc91-ab2260232950",
   "metadata": {},
   "source": [
    "We see that this Dask array has the shape `(4, 512, 512)` requiring 8 MB of memory, and is composed of chunks with shape `(1, 512, 512)` requiring 2 MB each.\n",
    "\n",
    "```{important}\n",
    "The Dask array just represents a task graph, not the data itself, so memory is consumed only if it is computed!\n",
    "```\n",
    "\n",
    "Each chunk of the Dask array created above represents a wave function for a frozen phonon configuration. This reflects the fact that, in the multislice algorithm, each frozen phonon configuration is independent and may be calculated in parallel. On the other hand, we should not have chunks across wave functions, because each part of a wave function is affected by every other part.\n",
    "\n",
    "We can visualize the task graph using Dask's [`visualize`](https://docs.dask.org/en/stable/graphviz.html) method. We see that the task graph consists of 4 fully independent branches, one for each frozen phonon.\n",
    "\n",
    "````{note}\n",
    "Drawing Dask task graphs with the cytoscape engine requires the `ipycytoscape` python library. To reproduce the result below you need to:\n",
    "```\n",
    "  python -m pip install ipycytoscape\n",
    "```\n",
    "and restart jupyter.\n",
    "````"
   ]
  },
  {
   "cell_type": "code",
   "execution_count": 5,
   "id": "45d463ae-c282-4710-a05c-0817cb996457",
   "metadata": {
    "tags": [
     "skip-test"
    ]
   },
   "outputs": [
    {
     "data": {
      "application/vnd.jupyter.widget-view+json": {
       "model_id": "6fecfb329bf74da0a61843cf33f4aee5",
       "version_major": 2,
       "version_minor": 0
      },
      "text/plain": [
       "CytoscapeWidget(cytoscape_layout={'name': 'dagre', 'rankDir': 'BT', 'nodeSep': 10, 'edgeSep': 10, 'spacingFact…"
      ]
     },
     "execution_count": 5,
     "metadata": {},
     "output_type": "execute_result"
    }
   ],
   "source": [
    "exit_waves.array.visualize(engine=\"cytoscape\")"
   ]
  },
  {
   "cell_type": "markdown",
   "id": "20d970c0-56e5-4066-b1d8-f6c71f59fb46",
   "metadata": {},
   "source": [
    "We usually want to take the mean across the frozen phonon dimension, and thus end up with an image represented as a single chunk."
   ]
  },
  {
   "cell_type": "code",
   "execution_count": 6,
   "id": "907e3a1e-7132-4dc5-aa9b-bdeed01a6170",
   "metadata": {},
   "outputs": [
    {
     "data": {
      "text/html": [
       "<table>\n",
       "    <tr>\n",
       "        <td>\n",
       "            <table style=\"border-collapse: collapse;\">\n",
       "                <thead>\n",
       "                    <tr>\n",
       "                        <td> </td>\n",
       "                        <th> Array </th>\n",
       "                        <th> Chunk </th>\n",
       "                    </tr>\n",
       "                </thead>\n",
       "                <tbody>\n",
       "                    \n",
       "                    <tr>\n",
       "                        <th> Bytes </th>\n",
       "                        <td> 1.00 MiB </td>\n",
       "                        <td> 1.00 MiB </td>\n",
       "                    </tr>\n",
       "                    \n",
       "                    <tr>\n",
       "                        <th> Shape </th>\n",
       "                        <td> (512, 512) </td>\n",
       "                        <td> (512, 512) </td>\n",
       "                    </tr>\n",
       "                    <tr>\n",
       "                        <th> Dask graph </th>\n",
       "                        <td colspan=\"2\"> 1 chunks in 19 graph layers </td>\n",
       "                    </tr>\n",
       "                    <tr>\n",
       "                        <th> Data type </th>\n",
       "                        <td colspan=\"2\"> float32 numpy.ndarray </td>\n",
       "                    </tr>\n",
       "                </tbody>\n",
       "            </table>\n",
       "        </td>\n",
       "        <td>\n",
       "        <svg width=\"140\" height=\"140\" style=\"stroke:rgb(0,0,0);stroke-width:1\" >\n",
       "\n",
       "  <!-- Horizontal lines -->\n",
       "  <line x1=\"0\" y1=\"0\" x2=\"90\" y2=\"0\" style=\"stroke-width:2\" />\n",
       "  <line x1=\"0\" y1=\"90\" x2=\"90\" y2=\"90\" style=\"stroke-width:2\" />\n",
       "\n",
       "  <!-- Vertical lines -->\n",
       "  <line x1=\"0\" y1=\"0\" x2=\"0\" y2=\"90\" style=\"stroke-width:2\" />\n",
       "  <line x1=\"90\" y1=\"0\" x2=\"90\" y2=\"90\" style=\"stroke-width:2\" />\n",
       "\n",
       "  <!-- Colored Rectangle -->\n",
       "  <polygon points=\"0.0,0.0 90.0,0.0 90.0,90.0 0.0,90.0\" style=\"fill:#ECB172A0;stroke-width:0\"/>\n",
       "\n",
       "  <!-- Text -->\n",
       "  <text x=\"45.000000\" y=\"110.000000\" font-size=\"1.0rem\" font-weight=\"100\" text-anchor=\"middle\" >512</text>\n",
       "  <text x=\"110.000000\" y=\"45.000000\" font-size=\"1.0rem\" font-weight=\"100\" text-anchor=\"middle\" transform=\"rotate(-90,110.000000,45.000000)\">512</text>\n",
       "</svg>\n",
       "        </td>\n",
       "    </tr>\n",
       "</table>"
      ],
      "text/plain": [
       "dask.array<mean_agg-aggregate, shape=(512, 512), dtype=float32, chunksize=(512, 512), chunktype=numpy.ndarray>"
      ]
     },
     "execution_count": 6,
     "metadata": {},
     "output_type": "execute_result"
    }
   ],
   "source": [
    "hrtem_image = exit_waves.intensity().mean(0)\n",
    "\n",
    "hrtem_image.array"
   ]
  },
  {
   "cell_type": "markdown",
   "id": "b9661725-7a20-44f6-8415-52489e91259b",
   "metadata": {},
   "source": [
    "Taking the mean across frozen phonon chunks requires communicating the exit wave function intensity between the final nodes. Showing the task graph again we see how the branches are merged when the result have to be communicated between workers."
   ]
  },
  {
   "cell_type": "code",
   "execution_count": 7,
   "id": "27e8b98c-362e-4543-b6c2-e033a827143e",
   "metadata": {
    "tags": [
     "skip-test"
    ]
   },
   "outputs": [
    {
     "data": {
      "application/vnd.jupyter.widget-view+json": {
       "model_id": "6fd7765af48a4ff8959fa40f81936250",
       "version_major": 2,
       "version_minor": 0
      },
      "text/plain": [
       "CytoscapeWidget(cytoscape_layout={'name': 'dagre', 'rankDir': 'BT', 'nodeSep': 10, 'edgeSep': 10, 'spacingFact…"
      ]
     },
     "execution_count": 7,
     "metadata": {},
     "output_type": "execute_result"
    }
   ],
   "source": [
    "hrtem_image.array.visualize(engine=\"cytoscape\")"
   ]
  },
  {
   "cell_type": "markdown",
   "id": "7dcdbfb7-41d3-49ff-995f-bf17f01a120f",
   "metadata": {},
   "source": [
    "## Chunks\n",
    "To futher explore the role of chunks in abTEM, we create the task graph for running a STEM simulation with the same specimen, gold in the $\\left<100\\right>$ zone axis with 4 frozen phonons. We do not immediately apply a detector, so we obtain an ensemble of exit wave functions."
   ]
  },
  {
   "cell_type": "code",
   "execution_count": 8,
   "id": "5b9baf98-b088-4c6f-954d-8ae1a7d22c23",
   "metadata": {
    "pycharm": {
     "name": "#%%\n"
    }
   },
   "outputs": [
    {
     "data": {
      "text/plain": [
       "type               label                 coordinates\n",
       "-----------------  --------------------  -------------------\n",
       "FrozenPhononsAxis  Frozen phonons        -\n",
       "ScanAxis           $x \\ [\\mathrm{\\AA}]$  0.00 0.29 ... 3.79\n",
       "ScanAxis           $y \\ [\\mathrm{\\AA}]$  0.00 0.29 ... 3.79\n",
       "RealSpaceAxis      $x \\ [\\mathrm{\\AA}]$  0.00 0.04 ... 20.36\n",
       "RealSpaceAxis      $y \\ [\\mathrm{\\AA}]$  0.00 0.04 ... 20.36"
      ]
     },
     "execution_count": 8,
     "metadata": {},
     "output_type": "execute_result"
    }
   ],
   "source": [
    "probe = abtem.Probe(energy=200e3, semiangle_cutoff=20)\n",
    "\n",
    "scan = abtem.GridScan.from_fractional_coordinates(\n",
    "    potential,\n",
    "    start=(0, 0),\n",
    "    end=(1 / 5, 1 / 5),\n",
    ")\n",
    "\n",
    "frozen_phonons = abtem.FrozenPhonons(\n",
    "    atoms, num_configs=4, sigmas=0.1, ensemble_mean=True\n",
    ")\n",
    "\n",
    "potential = abtem.Potential(frozen_phonons, gpts=512, slice_thickness=2)\n",
    "\n",
    "exit_waves_stem = probe.multislice(potential, scan=scan)\n",
    "\n",
    "exit_waves_stem.axes_metadata"
   ]
  },
  {
   "cell_type": "markdown",
   "id": "69036139-511e-482d-8f72-e66b71df0924",
   "metadata": {},
   "source": [
    "The wave functions are now represented as a 5D Dask array, a 3D ensemble of 2D wave functions, which is composed of one frozen phonon dimension and two scan dimensions, one for each of the $x$ and $y$ direction. \n",
    "\n",
    "The full array is of shape `(4, 15, 15, 512, 512)` requiring 1.76 GB of memory, which is cut into chunks of shape `(1, 8, 7, 512, 512)` of 112 MB. Hence, there are a total of $4 \\times 2 \\times 3 = 24$ chunks."
   ]
  },
  {
   "cell_type": "code",
   "execution_count": 9,
   "id": "0d0ab17b-53e3-4e79-856a-d734fe3c1cbe",
   "metadata": {},
   "outputs": [
    {
     "data": {
      "text/html": [
       "<table>\n",
       "    <tr>\n",
       "        <td>\n",
       "            <table style=\"border-collapse: collapse;\">\n",
       "                <thead>\n",
       "                    <tr>\n",
       "                        <td> </td>\n",
       "                        <th> Array </th>\n",
       "                        <th> Chunk </th>\n",
       "                    </tr>\n",
       "                </thead>\n",
       "                <tbody>\n",
       "                    \n",
       "                    <tr>\n",
       "                        <th> Bytes </th>\n",
       "                        <td> 1.53 GiB </td>\n",
       "                        <td> 112.00 MiB </td>\n",
       "                    </tr>\n",
       "                    \n",
       "                    <tr>\n",
       "                        <th> Shape </th>\n",
       "                        <td> (4, 14, 14, 512, 512) </td>\n",
       "                        <td> (1, 8, 7, 512, 512) </td>\n",
       "                    </tr>\n",
       "                    <tr>\n",
       "                        <th> Dask graph </th>\n",
       "                        <td colspan=\"2\"> 16 chunks in 17 graph layers </td>\n",
       "                    </tr>\n",
       "                    <tr>\n",
       "                        <th> Data type </th>\n",
       "                        <td colspan=\"2\"> complex64 numpy.ndarray </td>\n",
       "                    </tr>\n",
       "                </tbody>\n",
       "            </table>\n",
       "        </td>\n",
       "        <td>\n",
       "        <svg width=\"339\" height=\"153\" style=\"stroke:rgb(0,0,0);stroke-width:1\" >\n",
       "\n",
       "  <!-- Horizontal lines -->\n",
       "  <line x1=\"0\" y1=\"0\" x2=\"23\" y2=\"0\" style=\"stroke-width:2\" />\n",
       "  <line x1=\"0\" y1=\"4\" x2=\"23\" y2=\"4\" />\n",
       "  <line x1=\"0\" y1=\"9\" x2=\"23\" y2=\"9\" />\n",
       "  <line x1=\"0\" y1=\"14\" x2=\"23\" y2=\"14\" />\n",
       "  <line x1=\"0\" y1=\"19\" x2=\"23\" y2=\"19\" style=\"stroke-width:2\" />\n",
       "\n",
       "  <!-- Vertical lines -->\n",
       "  <line x1=\"0\" y1=\"0\" x2=\"0\" y2=\"19\" style=\"stroke-width:2\" />\n",
       "  <line x1=\"13\" y1=\"0\" x2=\"13\" y2=\"19\" />\n",
       "  <line x1=\"23\" y1=\"0\" x2=\"23\" y2=\"19\" style=\"stroke-width:2\" />\n",
       "\n",
       "  <!-- Colored Rectangle -->\n",
       "  <polygon points=\"0.0,0.0 23.128891694022673,0.0 23.128891694022673,19.059462385936865 0.0,19.059462385936865\" style=\"fill:#ECB172A0;stroke-width:0\"/>\n",
       "\n",
       "  <!-- Text -->\n",
       "  <text x=\"11.564446\" y=\"39.059462\" font-size=\"1.0rem\" font-weight=\"100\" text-anchor=\"middle\" >14</text>\n",
       "  <text x=\"43.128892\" y=\"9.529731\" font-size=\"1.0rem\" font-weight=\"100\" text-anchor=\"middle\" transform=\"rotate(0,43.128892,9.529731)\">4</text>\n",
       "\n",
       "\n",
       "  <!-- Horizontal lines -->\n",
       "  <line x1=\"93\" y1=\"0\" x2=\"106\" y2=\"13\" style=\"stroke-width:2\" />\n",
       "  <line x1=\"93\" y1=\"90\" x2=\"106\" y2=\"103\" style=\"stroke-width:2\" />\n",
       "\n",
       "  <!-- Vertical lines -->\n",
       "  <line x1=\"93\" y1=\"0\" x2=\"93\" y2=\"90\" style=\"stroke-width:2\" />\n",
       "  <line x1=\"99\" y1=\"6\" x2=\"99\" y2=\"96\" />\n",
       "  <line x1=\"106\" y1=\"13\" x2=\"106\" y2=\"103\" style=\"stroke-width:2\" />\n",
       "\n",
       "  <!-- Colored Rectangle -->\n",
       "  <polygon points=\"93.0,0.0 106.60523040824863,13.605230408248632 106.60523040824863,103.60523040824863 93.0,90.0\" style=\"fill:#ECB172A0;stroke-width:0\"/>\n",
       "\n",
       "  <!-- Horizontal lines -->\n",
       "  <line x1=\"93\" y1=\"0\" x2=\"183\" y2=\"0\" style=\"stroke-width:2\" />\n",
       "  <line x1=\"99\" y1=\"6\" x2=\"189\" y2=\"6\" />\n",
       "  <line x1=\"106\" y1=\"13\" x2=\"196\" y2=\"13\" style=\"stroke-width:2\" />\n",
       "\n",
       "  <!-- Vertical lines -->\n",
       "  <line x1=\"93\" y1=\"0\" x2=\"106\" y2=\"13\" style=\"stroke-width:2\" />\n",
       "  <line x1=\"183\" y1=\"0\" x2=\"196\" y2=\"13\" style=\"stroke-width:2\" />\n",
       "\n",
       "  <!-- Colored Rectangle -->\n",
       "  <polygon points=\"93.0,0.0 183.0,0.0 196.60523040824864,13.605230408248632 106.60523040824863,13.605230408248632\" style=\"fill:#ECB172A0;stroke-width:0\"/>\n",
       "\n",
       "  <!-- Horizontal lines -->\n",
       "  <line x1=\"106\" y1=\"13\" x2=\"196\" y2=\"13\" style=\"stroke-width:2\" />\n",
       "  <line x1=\"106\" y1=\"103\" x2=\"196\" y2=\"103\" style=\"stroke-width:2\" />\n",
       "\n",
       "  <!-- Vertical lines -->\n",
       "  <line x1=\"106\" y1=\"13\" x2=\"106\" y2=\"103\" style=\"stroke-width:2\" />\n",
       "  <line x1=\"196\" y1=\"13\" x2=\"196\" y2=\"103\" style=\"stroke-width:2\" />\n",
       "\n",
       "  <!-- Colored Rectangle -->\n",
       "  <polygon points=\"106.60523040824863,13.605230408248632 196.60523040824864,13.605230408248632 196.60523040824864,103.60523040824863 106.60523040824863,103.60523040824863\" style=\"fill:#ECB172A0;stroke-width:0\"/>\n",
       "\n",
       "  <!-- Text -->\n",
       "  <text x=\"151.605230\" y=\"123.605230\" font-size=\"1.0rem\" font-weight=\"100\" text-anchor=\"middle\" >512</text>\n",
       "  <text x=\"216.605230\" y=\"58.605230\" font-size=\"1.0rem\" font-weight=\"100\" text-anchor=\"middle\" transform=\"rotate(-90,216.605230,58.605230)\">512</text>\n",
       "  <text x=\"89.802615\" y=\"116.802615\" font-size=\"1.0rem\" font-weight=\"100\" text-anchor=\"middle\" transform=\"rotate(45,89.802615,116.802615)\">14</text>\n",
       "</svg>\n",
       "        </td>\n",
       "    </tr>\n",
       "</table>"
      ],
      "text/plain": [
       "dask.array<_extract_measurement, shape=(4, 14, 14, 512, 512), dtype=complex64, chunksize=(1, 8, 7, 512, 512), chunktype=numpy.ndarray>"
      ]
     },
     "execution_count": 9,
     "metadata": {},
     "output_type": "execute_result"
    }
   ],
   "source": [
    "exit_waves_stem.array"
   ]
  },
  {
   "cell_type": "markdown",
   "id": "00985534-3b37-458c-9cba-e5f6c783f334",
   "metadata": {},
   "source": [
    "Notice that we do not make a chunk for every probe position, but each chunk of the scan dimension instead represents a batch of wave functions. This is done partly to limit [the overhead](https://docs.dask.org/en/stable/best-practices.html#avoid-very-large-graphs) that every chunk comes with, but more importantly, larger batches enables efficient thread parallelization within each run of the multislice algorithm.\n",
    "\n",
    "We can change how many wave functions each batch should have using a keyword. Below we set `max_batch=4`, resulting in a total number of $4 \\times 8 \\times 8 = 256$ chunks."
   ]
  },
  {
   "cell_type": "code",
   "execution_count": 10,
   "id": "b1f9437b-ed6a-4836-8e6c-daa0ae526b21",
   "metadata": {},
   "outputs": [
    {
     "data": {
      "text/html": [
       "<table>\n",
       "    <tr>\n",
       "        <td>\n",
       "            <table style=\"border-collapse: collapse;\">\n",
       "                <thead>\n",
       "                    <tr>\n",
       "                        <td> </td>\n",
       "                        <th> Array </th>\n",
       "                        <th> Chunk </th>\n",
       "                    </tr>\n",
       "                </thead>\n",
       "                <tbody>\n",
       "                    \n",
       "                    <tr>\n",
       "                        <th> Bytes </th>\n",
       "                        <td> 1.53 GiB </td>\n",
       "                        <td> 8.00 MiB </td>\n",
       "                    </tr>\n",
       "                    \n",
       "                    <tr>\n",
       "                        <th> Shape </th>\n",
       "                        <td> (4, 14, 14, 512, 512) </td>\n",
       "                        <td> (1, 2, 2, 512, 512) </td>\n",
       "                    </tr>\n",
       "                    <tr>\n",
       "                        <th> Dask graph </th>\n",
       "                        <td colspan=\"2\"> 196 chunks in 16 graph layers </td>\n",
       "                    </tr>\n",
       "                    <tr>\n",
       "                        <th> Data type </th>\n",
       "                        <td colspan=\"2\"> complex64 numpy.ndarray </td>\n",
       "                    </tr>\n",
       "                </tbody>\n",
       "            </table>\n",
       "        </td>\n",
       "        <td>\n",
       "        <svg width=\"339\" height=\"153\" style=\"stroke:rgb(0,0,0);stroke-width:1\" >\n",
       "\n",
       "  <!-- Horizontal lines -->\n",
       "  <line x1=\"0\" y1=\"0\" x2=\"23\" y2=\"0\" style=\"stroke-width:2\" />\n",
       "  <line x1=\"0\" y1=\"4\" x2=\"23\" y2=\"4\" />\n",
       "  <line x1=\"0\" y1=\"9\" x2=\"23\" y2=\"9\" />\n",
       "  <line x1=\"0\" y1=\"14\" x2=\"23\" y2=\"14\" />\n",
       "  <line x1=\"0\" y1=\"19\" x2=\"23\" y2=\"19\" style=\"stroke-width:2\" />\n",
       "\n",
       "  <!-- Vertical lines -->\n",
       "  <line x1=\"0\" y1=\"0\" x2=\"0\" y2=\"19\" style=\"stroke-width:2\" />\n",
       "  <line x1=\"3\" y1=\"0\" x2=\"3\" y2=\"19\" />\n",
       "  <line x1=\"6\" y1=\"0\" x2=\"6\" y2=\"19\" />\n",
       "  <line x1=\"9\" y1=\"0\" x2=\"9\" y2=\"19\" />\n",
       "  <line x1=\"13\" y1=\"0\" x2=\"13\" y2=\"19\" />\n",
       "  <line x1=\"16\" y1=\"0\" x2=\"16\" y2=\"19\" />\n",
       "  <line x1=\"19\" y1=\"0\" x2=\"19\" y2=\"19\" />\n",
       "  <line x1=\"23\" y1=\"0\" x2=\"23\" y2=\"19\" style=\"stroke-width:2\" />\n",
       "\n",
       "  <!-- Colored Rectangle -->\n",
       "  <polygon points=\"0.0,0.0 23.128891694022673,0.0 23.128891694022673,19.059462385936865 0.0,19.059462385936865\" style=\"fill:#ECB172A0;stroke-width:0\"/>\n",
       "\n",
       "  <!-- Text -->\n",
       "  <text x=\"11.564446\" y=\"39.059462\" font-size=\"1.0rem\" font-weight=\"100\" text-anchor=\"middle\" >14</text>\n",
       "  <text x=\"43.128892\" y=\"9.529731\" font-size=\"1.0rem\" font-weight=\"100\" text-anchor=\"middle\" transform=\"rotate(0,43.128892,9.529731)\">4</text>\n",
       "\n",
       "\n",
       "  <!-- Horizontal lines -->\n",
       "  <line x1=\"93\" y1=\"0\" x2=\"106\" y2=\"13\" style=\"stroke-width:2\" />\n",
       "  <line x1=\"93\" y1=\"90\" x2=\"106\" y2=\"103\" style=\"stroke-width:2\" />\n",
       "\n",
       "  <!-- Vertical lines -->\n",
       "  <line x1=\"93\" y1=\"0\" x2=\"93\" y2=\"90\" style=\"stroke-width:2\" />\n",
       "  <line x1=\"94\" y1=\"1\" x2=\"94\" y2=\"91\" />\n",
       "  <line x1=\"96\" y1=\"3\" x2=\"96\" y2=\"93\" />\n",
       "  <line x1=\"98\" y1=\"5\" x2=\"98\" y2=\"95\" />\n",
       "  <line x1=\"100\" y1=\"7\" x2=\"100\" y2=\"97\" />\n",
       "  <line x1=\"102\" y1=\"9\" x2=\"102\" y2=\"99\" />\n",
       "  <line x1=\"104\" y1=\"11\" x2=\"104\" y2=\"101\" />\n",
       "  <line x1=\"106\" y1=\"13\" x2=\"106\" y2=\"103\" style=\"stroke-width:2\" />\n",
       "\n",
       "  <!-- Colored Rectangle -->\n",
       "  <polygon points=\"93.0,0.0 106.60523040824863,13.605230408248632 106.60523040824863,103.60523040824863 93.0,90.0\" style=\"fill:#ECB172A0;stroke-width:0\"/>\n",
       "\n",
       "  <!-- Horizontal lines -->\n",
       "  <line x1=\"93\" y1=\"0\" x2=\"183\" y2=\"0\" style=\"stroke-width:2\" />\n",
       "  <line x1=\"94\" y1=\"1\" x2=\"184\" y2=\"1\" />\n",
       "  <line x1=\"96\" y1=\"3\" x2=\"186\" y2=\"3\" />\n",
       "  <line x1=\"98\" y1=\"5\" x2=\"188\" y2=\"5\" />\n",
       "  <line x1=\"100\" y1=\"7\" x2=\"190\" y2=\"7\" />\n",
       "  <line x1=\"102\" y1=\"9\" x2=\"192\" y2=\"9\" />\n",
       "  <line x1=\"104\" y1=\"11\" x2=\"194\" y2=\"11\" />\n",
       "  <line x1=\"106\" y1=\"13\" x2=\"196\" y2=\"13\" style=\"stroke-width:2\" />\n",
       "\n",
       "  <!-- Vertical lines -->\n",
       "  <line x1=\"93\" y1=\"0\" x2=\"106\" y2=\"13\" style=\"stroke-width:2\" />\n",
       "  <line x1=\"183\" y1=\"0\" x2=\"196\" y2=\"13\" style=\"stroke-width:2\" />\n",
       "\n",
       "  <!-- Colored Rectangle -->\n",
       "  <polygon points=\"93.0,0.0 183.0,0.0 196.60523040824864,13.605230408248632 106.60523040824863,13.605230408248632\" style=\"fill:#ECB172A0;stroke-width:0\"/>\n",
       "\n",
       "  <!-- Horizontal lines -->\n",
       "  <line x1=\"106\" y1=\"13\" x2=\"196\" y2=\"13\" style=\"stroke-width:2\" />\n",
       "  <line x1=\"106\" y1=\"103\" x2=\"196\" y2=\"103\" style=\"stroke-width:2\" />\n",
       "\n",
       "  <!-- Vertical lines -->\n",
       "  <line x1=\"106\" y1=\"13\" x2=\"106\" y2=\"103\" style=\"stroke-width:2\" />\n",
       "  <line x1=\"196\" y1=\"13\" x2=\"196\" y2=\"103\" style=\"stroke-width:2\" />\n",
       "\n",
       "  <!-- Colored Rectangle -->\n",
       "  <polygon points=\"106.60523040824863,13.605230408248632 196.60523040824864,13.605230408248632 196.60523040824864,103.60523040824863 106.60523040824863,103.60523040824863\" style=\"fill:#ECB172A0;stroke-width:0\"/>\n",
       "\n",
       "  <!-- Text -->\n",
       "  <text x=\"151.605230\" y=\"123.605230\" font-size=\"1.0rem\" font-weight=\"100\" text-anchor=\"middle\" >512</text>\n",
       "  <text x=\"216.605230\" y=\"58.605230\" font-size=\"1.0rem\" font-weight=\"100\" text-anchor=\"middle\" transform=\"rotate(-90,216.605230,58.605230)\">512</text>\n",
       "  <text x=\"89.802615\" y=\"116.802615\" font-size=\"1.0rem\" font-weight=\"100\" text-anchor=\"middle\" transform=\"rotate(45,89.802615,116.802615)\">14</text>\n",
       "</svg>\n",
       "        </td>\n",
       "    </tr>\n",
       "</table>"
      ],
      "text/plain": [
       "dask.array<_extract_measurement, shape=(4, 14, 14, 512, 512), dtype=complex64, chunksize=(1, 2, 2, 512, 512), chunktype=numpy.ndarray>"
      ]
     },
     "execution_count": 10,
     "metadata": {},
     "output_type": "execute_result"
    }
   ],
   "source": [
    "exit_waves_stem = probe.multislice(potential, scan=scan, max_batch=4)\n",
    "\n",
    "exit_waves_stem.array"
   ]
  },
  {
   "cell_type": "markdown",
   "id": "28998800-0b81-49f7-b3c6-79aa355cf3dc",
   "metadata": {
    "pycharm": {
     "name": "#%% md\n"
    }
   },
   "source": [
    "The default value of `max_batch` is `\"auto\"`: with this setting the number of wave functions in each batch is determined such that the batch represents approximately `128 MB` of memory, although this number may be changed through the *ab*TEM [configuration](../../reference/config.md).\n",
    "\n",
    "Before computing this task graph, we apply a HAADF detector and calculate the ensemble mean, which reduces the total size of the output to just 900 B. We note that the 1.76 GB ensemble of wave functions never needs to be in memory simulateneously, as each chunk of exit wave functions are reduced immediately after completing the multislice algorithm."
   ]
  },
  {
   "cell_type": "code",
   "execution_count": 11,
   "id": "8664e8b2-4928-4c5e-bd48-fa854a465cec",
   "metadata": {
    "pycharm": {
     "name": "#%%\n"
    }
   },
   "outputs": [
    {
     "data": {
      "text/html": [
       "<table>\n",
       "    <tr>\n",
       "        <td>\n",
       "            <table style=\"border-collapse: collapse;\">\n",
       "                <thead>\n",
       "                    <tr>\n",
       "                        <td> </td>\n",
       "                        <th> Array </th>\n",
       "                        <th> Chunk </th>\n",
       "                    </tr>\n",
       "                </thead>\n",
       "                <tbody>\n",
       "                    \n",
       "                    <tr>\n",
       "                        <th> Bytes </th>\n",
       "                        <td> 784 B </td>\n",
       "                        <td> 16 B </td>\n",
       "                    </tr>\n",
       "                    \n",
       "                    <tr>\n",
       "                        <th> Shape </th>\n",
       "                        <td> (14, 14) </td>\n",
       "                        <td> (2, 2) </td>\n",
       "                    </tr>\n",
       "                    <tr>\n",
       "                        <th> Dask graph </th>\n",
       "                        <td colspan=\"2\"> 49 chunks in 21 graph layers </td>\n",
       "                    </tr>\n",
       "                    <tr>\n",
       "                        <th> Data type </th>\n",
       "                        <td colspan=\"2\"> float32 numpy.ndarray </td>\n",
       "                    </tr>\n",
       "                </tbody>\n",
       "            </table>\n",
       "        </td>\n",
       "        <td>\n",
       "        <svg width=\"140\" height=\"140\" style=\"stroke:rgb(0,0,0);stroke-width:1\" >\n",
       "\n",
       "  <!-- Horizontal lines -->\n",
       "  <line x1=\"0\" y1=\"0\" x2=\"90\" y2=\"0\" style=\"stroke-width:2\" />\n",
       "  <line x1=\"0\" y1=\"12\" x2=\"90\" y2=\"12\" />\n",
       "  <line x1=\"0\" y1=\"25\" x2=\"90\" y2=\"25\" />\n",
       "  <line x1=\"0\" y1=\"38\" x2=\"90\" y2=\"38\" />\n",
       "  <line x1=\"0\" y1=\"51\" x2=\"90\" y2=\"51\" />\n",
       "  <line x1=\"0\" y1=\"64\" x2=\"90\" y2=\"64\" />\n",
       "  <line x1=\"0\" y1=\"77\" x2=\"90\" y2=\"77\" />\n",
       "  <line x1=\"0\" y1=\"90\" x2=\"90\" y2=\"90\" style=\"stroke-width:2\" />\n",
       "\n",
       "  <!-- Vertical lines -->\n",
       "  <line x1=\"0\" y1=\"0\" x2=\"0\" y2=\"90\" style=\"stroke-width:2\" />\n",
       "  <line x1=\"12\" y1=\"0\" x2=\"12\" y2=\"90\" />\n",
       "  <line x1=\"25\" y1=\"0\" x2=\"25\" y2=\"90\" />\n",
       "  <line x1=\"38\" y1=\"0\" x2=\"38\" y2=\"90\" />\n",
       "  <line x1=\"51\" y1=\"0\" x2=\"51\" y2=\"90\" />\n",
       "  <line x1=\"64\" y1=\"0\" x2=\"64\" y2=\"90\" />\n",
       "  <line x1=\"77\" y1=\"0\" x2=\"77\" y2=\"90\" />\n",
       "  <line x1=\"90\" y1=\"0\" x2=\"90\" y2=\"90\" style=\"stroke-width:2\" />\n",
       "\n",
       "  <!-- Colored Rectangle -->\n",
       "  <polygon points=\"0.0,0.0 90.0,0.0 90.0,90.0 0.0,90.0\" style=\"fill:#ECB172A0;stroke-width:0\"/>\n",
       "\n",
       "  <!-- Text -->\n",
       "  <text x=\"45.000000\" y=\"110.000000\" font-size=\"1.0rem\" font-weight=\"100\" text-anchor=\"middle\" >14</text>\n",
       "  <text x=\"110.000000\" y=\"45.000000\" font-size=\"1.0rem\" font-weight=\"100\" text-anchor=\"middle\" transform=\"rotate(0,110.000000,45.000000)\">14</text>\n",
       "</svg>\n",
       "        </td>\n",
       "    </tr>\n",
       "</table>"
      ],
      "text/plain": [
       "dask.array<mean_agg-aggregate, shape=(14, 14), dtype=float32, chunksize=(2, 2), chunktype=numpy.ndarray>"
      ]
     },
     "execution_count": 11,
     "metadata": {},
     "output_type": "execute_result"
    }
   ],
   "source": [
    "detector = abtem.AnnularDetector(inner=65, outer=200)\n",
    "\n",
    "haadf_images = detector.detect(exit_waves_stem).reduce_ensemble()\n",
    "\n",
    "haadf_images.array"
   ]
  },
  {
   "cell_type": "markdown",
   "id": "c8167e51-1e8b-408d-9e08-ad00b6966ad5",
   "metadata": {
    "pycharm": {
     "name": "#%% md\n"
    },
    "tags": []
   },
   "source": [
    "## Schedulers\n",
    "\n",
    "After generating a task graph, it needs to be executed on (parallel) hardware. This is the job of a [task scheduler](https://docs.dask.org/en/stable/scheduler-overview.html). Dask provides several *task schedulers*: each of which will compute a task graph and give the same result, but with different performance characteristics.\n",
    "\n",
    "Every time you call the `compute` method a Dask scheduler is used. We adopt the default Dask scheduler configuration and every keyword argument used with the `compute` method in *ab*TEM is forwarded to the Dask `compute` function. \n",
    "\n",
    "### Local scheduler\n",
    "\n",
    "The default scheduler is the [`ThreadPoolExecutor`](https://docs.dask.org/en/stable/scheduling.html#local-threads). As an example of a keyword argument, the threaded scheduler takes `num_workers`, which sets the number of threads to use (by default, up to the number of computing cores). Let's run compute with 8 workers."
   ]
  },
  {
   "cell_type": "code",
   "execution_count": 12,
   "id": "4c507a96-5a6d-4e55-8775-200f66e26459",
   "metadata": {
    "tags": [
     "skip-test"
    ]
   },
   "outputs": [
    {
     "name": "stdout",
     "output_type": "stream",
     "text": [
      "[########################################] | 100% Completed | 15.77 s\n"
     ]
    },
    {
     "data": {
      "text/plain": [
       "<abtem.measurements.Images object at 0x000001D038550910>"
      ]
     },
     "execution_count": 12,
     "metadata": {},
     "output_type": "execute_result"
    }
   ],
   "source": [
    "haadf_images = detector.detect(exit_waves_stem).reduce_ensemble()\n",
    "\n",
    "haadf_images.compute(\n",
    "    scheduler=\"threads\", num_workers=8\n",
    ")"
   ]
  },
  {
   "cell_type": "markdown",
   "id": "168c4090-255a-4705-85a8-afbf74c6320e",
   "metadata": {},
   "source": [
    "We can change the scheduler to using the `ProcessPoolExecutor` as below.\n",
    "\n",
    "```python\n",
    "haadf_images = detector.detect(exit_waves_stem).compute(scheduler=\"processes\", num_workers=4)\n",
    "```\n",
    "\n",
    "Using `abtem.config.set` the scheduler can be set either as a context manager or globally.\n",
    "```python\n",
    "# As a context manager\n",
    "with abtem.config.set(scheduler=\"processes\"):\n",
    "    haadf_images.compute()\n",
    "\n",
    "# Set globally\n",
    "abtem.config.set(scheduler=\"processes\")\n",
    "haadf_images.compute()\n",
    "```"
   ]
  },
  {
   "cell_type": "markdown",
   "id": "675a4c6c-338c-4c3a-90e2-8ad79ed63dd4",
   "metadata": {},
   "source": [
    "### Profiling"
   ]
  },
  {
   "cell_type": "markdown",
   "id": "945988ec-0d2b-422a-a84c-32f10d5a63af",
   "metadata": {},
   "source": [
    "To improve performance, we have to be able to profile it. Profiling parallel code can be challenging, but Dask provides functionality to aid in this and inspecting execution. The diagnostic tools are however quite different depending on whether you use a local or distributed scheduler.\n",
    "\n",
    "Dask allows local diagnostics by adding callbacks that collect information about your code execution. You can use the profilers as a context manager as described in the [Dask documentation](https://docs.dask.org/en/stable/diagnostics-local.html). For convenience, the *ab*TEM `compute` methods also implement keywords for adding Dask profilers.\n",
    "\n",
    "Below we use the [`Profiler`](https://docs.dask.org/en/stable/diagnostics-local.html#profiler) to monitor task execution by setting `profiler=True` and a [`ResourceProfiler`](https://docs.dask.org/en/stable/diagnostics-local.html#resourceprofiler) to monitor the CPU usage and memory consumption by setting `resource_profiler=True`. We rerun the simulation above with these profilers. "
   ]
  },
  {
   "cell_type": "code",
   "execution_count": 13,
   "id": "56cb3754-6cde-4f83-b058-6014356cefaf",
   "metadata": {},
   "outputs": [
    {
     "name": "stdout",
     "output_type": "stream",
     "text": [
      "[########################################] | 100% Completed | 14.59 s\n"
     ]
    }
   ],
   "source": [
    "haadf_images = detector.detect(exit_waves_stem).reduce_ensemble()\n",
    "\n",
    "haadf_images, profilers = haadf_images.compute(profiler=True, resource_profiler=True)"
   ]
  },
  {
   "cell_type": "markdown",
   "id": "a3b63fd8-4e8b-4842-9c15-2fa8787da397",
   "metadata": {},
   "source": [
    "To display the results Dask uses the [Bokeh plotting library](https://bokeh.org/) (which is installed together with Dask). To display the plots in a Jupyter notebook we need to run the commands below."
   ]
  },
  {
   "cell_type": "code",
   "execution_count": 14,
   "id": "bb2fc8ba-5288-4499-9090-35e8723c7930",
   "metadata": {
    "tags": [
     "skip-test"
    ]
   },
   "outputs": [
    {
     "data": {
      "text/html": [
       "<div class=\"bk-root\">\n",
       "        <a href=\"https://bokeh.org\" target=\"_blank\" class=\"bk-logo bk-logo-small bk-logo-notebook\"></a>\n",
       "        <span id=\"1001\">Loading BokehJS ...</span>\n",
       "    </div>\n"
      ]
     },
     "metadata": {},
     "output_type": "display_data"
    },
    {
     "data": {
      "application/javascript": [
       "(function(root) {\n",
       "  function now() {\n",
       "    return new Date();\n",
       "  }\n",
       "\n",
       "  const force = true;\n",
       "\n",
       "  if (typeof root._bokeh_onload_callbacks === \"undefined\" || force === true) {\n",
       "    root._bokeh_onload_callbacks = [];\n",
       "    root._bokeh_is_loading = undefined;\n",
       "  }\n",
       "\n",
       "const JS_MIME_TYPE = 'application/javascript';\n",
       "  const HTML_MIME_TYPE = 'text/html';\n",
       "  const EXEC_MIME_TYPE = 'application/vnd.bokehjs_exec.v0+json';\n",
       "  const CLASS_NAME = 'output_bokeh rendered_html';\n",
       "\n",
       "  /**\n",
       "   * Render data to the DOM node\n",
       "   */\n",
       "  function render(props, node) {\n",
       "    const script = document.createElement(\"script\");\n",
       "    node.appendChild(script);\n",
       "  }\n",
       "\n",
       "  /**\n",
       "   * Handle when an output is cleared or removed\n",
       "   */\n",
       "  function handleClearOutput(event, handle) {\n",
       "    const cell = handle.cell;\n",
       "\n",
       "    const id = cell.output_area._bokeh_element_id;\n",
       "    const server_id = cell.output_area._bokeh_server_id;\n",
       "    // Clean up Bokeh references\n",
       "    if (id != null && id in Bokeh.index) {\n",
       "      Bokeh.index[id].model.document.clear();\n",
       "      delete Bokeh.index[id];\n",
       "    }\n",
       "\n",
       "    if (server_id !== undefined) {\n",
       "      // Clean up Bokeh references\n",
       "      const cmd_clean = \"from bokeh.io.state import curstate; print(curstate().uuid_to_server['\" + server_id + \"'].get_sessions()[0].document.roots[0]._id)\";\n",
       "      cell.notebook.kernel.execute(cmd_clean, {\n",
       "        iopub: {\n",
       "          output: function(msg) {\n",
       "            const id = msg.content.text.trim();\n",
       "            if (id in Bokeh.index) {\n",
       "              Bokeh.index[id].model.document.clear();\n",
       "              delete Bokeh.index[id];\n",
       "            }\n",
       "          }\n",
       "        }\n",
       "      });\n",
       "      // Destroy server and session\n",
       "      const cmd_destroy = \"import bokeh.io.notebook as ion; ion.destroy_server('\" + server_id + \"')\";\n",
       "      cell.notebook.kernel.execute(cmd_destroy);\n",
       "    }\n",
       "  }\n",
       "\n",
       "  /**\n",
       "   * Handle when a new output is added\n",
       "   */\n",
       "  function handleAddOutput(event, handle) {\n",
       "    const output_area = handle.output_area;\n",
       "    const output = handle.output;\n",
       "\n",
       "    // limit handleAddOutput to display_data with EXEC_MIME_TYPE content only\n",
       "    if ((output.output_type != \"display_data\") || (!Object.prototype.hasOwnProperty.call(output.data, EXEC_MIME_TYPE))) {\n",
       "      return\n",
       "    }\n",
       "\n",
       "    const toinsert = output_area.element.find(\".\" + CLASS_NAME.split(' ')[0]);\n",
       "\n",
       "    if (output.metadata[EXEC_MIME_TYPE][\"id\"] !== undefined) {\n",
       "      toinsert[toinsert.length - 1].firstChild.textContent = output.data[JS_MIME_TYPE];\n",
       "      // store reference to embed id on output_area\n",
       "      output_area._bokeh_element_id = output.metadata[EXEC_MIME_TYPE][\"id\"];\n",
       "    }\n",
       "    if (output.metadata[EXEC_MIME_TYPE][\"server_id\"] !== undefined) {\n",
       "      const bk_div = document.createElement(\"div\");\n",
       "      bk_div.innerHTML = output.data[HTML_MIME_TYPE];\n",
       "      const script_attrs = bk_div.children[0].attributes;\n",
       "      for (let i = 0; i < script_attrs.length; i++) {\n",
       "        toinsert[toinsert.length - 1].firstChild.setAttribute(script_attrs[i].name, script_attrs[i].value);\n",
       "        toinsert[toinsert.length - 1].firstChild.textContent = bk_div.children[0].textContent\n",
       "      }\n",
       "      // store reference to server id on output_area\n",
       "      output_area._bokeh_server_id = output.metadata[EXEC_MIME_TYPE][\"server_id\"];\n",
       "    }\n",
       "  }\n",
       "\n",
       "  function register_renderer(events, OutputArea) {\n",
       "\n",
       "    function append_mime(data, metadata, element) {\n",
       "      // create a DOM node to render to\n",
       "      const toinsert = this.create_output_subarea(\n",
       "        metadata,\n",
       "        CLASS_NAME,\n",
       "        EXEC_MIME_TYPE\n",
       "      );\n",
       "      this.keyboard_manager.register_events(toinsert);\n",
       "      // Render to node\n",
       "      const props = {data: data, metadata: metadata[EXEC_MIME_TYPE]};\n",
       "      render(props, toinsert[toinsert.length - 1]);\n",
       "      element.append(toinsert);\n",
       "      return toinsert\n",
       "    }\n",
       "\n",
       "    /* Handle when an output is cleared or removed */\n",
       "    events.on('clear_output.CodeCell', handleClearOutput);\n",
       "    events.on('delete.Cell', handleClearOutput);\n",
       "\n",
       "    /* Handle when a new output is added */\n",
       "    events.on('output_added.OutputArea', handleAddOutput);\n",
       "\n",
       "    /**\n",
       "     * Register the mime type and append_mime function with output_area\n",
       "     */\n",
       "    OutputArea.prototype.register_mime_type(EXEC_MIME_TYPE, append_mime, {\n",
       "      /* Is output safe? */\n",
       "      safe: true,\n",
       "      /* Index of renderer in `output_area.display_order` */\n",
       "      index: 0\n",
       "    });\n",
       "  }\n",
       "\n",
       "  // register the mime type if in Jupyter Notebook environment and previously unregistered\n",
       "  if (root.Jupyter !== undefined) {\n",
       "    const events = require('base/js/events');\n",
       "    const OutputArea = require('notebook/js/outputarea').OutputArea;\n",
       "\n",
       "    if (OutputArea.prototype.mime_types().indexOf(EXEC_MIME_TYPE) == -1) {\n",
       "      register_renderer(events, OutputArea);\n",
       "    }\n",
       "  }\n",
       "  if (typeof (root._bokeh_timeout) === \"undefined\" || force === true) {\n",
       "    root._bokeh_timeout = Date.now() + 5000;\n",
       "    root._bokeh_failed_load = false;\n",
       "  }\n",
       "\n",
       "  const NB_LOAD_WARNING = {'data': {'text/html':\n",
       "     \"<div style='background-color: #fdd'>\\n\"+\n",
       "     \"<p>\\n\"+\n",
       "     \"BokehJS does not appear to have successfully loaded. If loading BokehJS from CDN, this \\n\"+\n",
       "     \"may be due to a slow or bad network connection. Possible fixes:\\n\"+\n",
       "     \"</p>\\n\"+\n",
       "     \"<ul>\\n\"+\n",
       "     \"<li>re-rerun `output_notebook()` to attempt to load from CDN again, or</li>\\n\"+\n",
       "     \"<li>use INLINE resources instead, as so:</li>\\n\"+\n",
       "     \"</ul>\\n\"+\n",
       "     \"<code>\\n\"+\n",
       "     \"from bokeh.resources import INLINE\\n\"+\n",
       "     \"output_notebook(resources=INLINE)\\n\"+\n",
       "     \"</code>\\n\"+\n",
       "     \"</div>\"}};\n",
       "\n",
       "  function display_loaded() {\n",
       "    const el = document.getElementById(\"1001\");\n",
       "    if (el != null) {\n",
       "      el.textContent = \"BokehJS is loading...\";\n",
       "    }\n",
       "    if (root.Bokeh !== undefined) {\n",
       "      if (el != null) {\n",
       "        el.textContent = \"BokehJS \" + root.Bokeh.version + \" successfully loaded.\";\n",
       "      }\n",
       "    } else if (Date.now() < root._bokeh_timeout) {\n",
       "      setTimeout(display_loaded, 100)\n",
       "    }\n",
       "  }\n",
       "\n",
       "  function run_callbacks() {\n",
       "    try {\n",
       "      root._bokeh_onload_callbacks.forEach(function(callback) {\n",
       "        if (callback != null)\n",
       "          callback();\n",
       "      });\n",
       "    } finally {\n",
       "      delete root._bokeh_onload_callbacks\n",
       "    }\n",
       "    console.debug(\"Bokeh: all callbacks have finished\");\n",
       "  }\n",
       "\n",
       "  function load_libs(css_urls, js_urls, callback) {\n",
       "    if (css_urls == null) css_urls = [];\n",
       "    if (js_urls == null) js_urls = [];\n",
       "\n",
       "    root._bokeh_onload_callbacks.push(callback);\n",
       "    if (root._bokeh_is_loading > 0) {\n",
       "      console.debug(\"Bokeh: BokehJS is being loaded, scheduling callback at\", now());\n",
       "      return null;\n",
       "    }\n",
       "    if (js_urls == null || js_urls.length === 0) {\n",
       "      run_callbacks();\n",
       "      return null;\n",
       "    }\n",
       "    console.debug(\"Bokeh: BokehJS not loaded, scheduling load and callback at\", now());\n",
       "    root._bokeh_is_loading = css_urls.length + js_urls.length;\n",
       "\n",
       "    function on_load() {\n",
       "      root._bokeh_is_loading--;\n",
       "      if (root._bokeh_is_loading === 0) {\n",
       "        console.debug(\"Bokeh: all BokehJS libraries/stylesheets loaded\");\n",
       "        run_callbacks()\n",
       "      }\n",
       "    }\n",
       "\n",
       "    function on_error(url) {\n",
       "      console.error(\"failed to load \" + url);\n",
       "    }\n",
       "\n",
       "    for (let i = 0; i < css_urls.length; i++) {\n",
       "      const url = css_urls[i];\n",
       "      const element = document.createElement(\"link\");\n",
       "      element.onload = on_load;\n",
       "      element.onerror = on_error.bind(null, url);\n",
       "      element.rel = \"stylesheet\";\n",
       "      element.type = \"text/css\";\n",
       "      element.href = url;\n",
       "      console.debug(\"Bokeh: injecting link tag for BokehJS stylesheet: \", url);\n",
       "      document.body.appendChild(element);\n",
       "    }\n",
       "\n",
       "    for (let i = 0; i < js_urls.length; i++) {\n",
       "      const url = js_urls[i];\n",
       "      const element = document.createElement('script');\n",
       "      element.onload = on_load;\n",
       "      element.onerror = on_error.bind(null, url);\n",
       "      element.async = false;\n",
       "      element.src = url;\n",
       "      console.debug(\"Bokeh: injecting script tag for BokehJS library: \", url);\n",
       "      document.head.appendChild(element);\n",
       "    }\n",
       "  };\n",
       "\n",
       "  function inject_raw_css(css) {\n",
       "    const element = document.createElement(\"style\");\n",
       "    element.appendChild(document.createTextNode(css));\n",
       "    document.body.appendChild(element);\n",
       "  }\n",
       "\n",
       "  const js_urls = [\"https://cdn.bokeh.org/bokeh/release/bokeh-2.4.3.min.js\", \"https://cdn.bokeh.org/bokeh/release/bokeh-gl-2.4.3.min.js\", \"https://cdn.bokeh.org/bokeh/release/bokeh-widgets-2.4.3.min.js\", \"https://cdn.bokeh.org/bokeh/release/bokeh-tables-2.4.3.min.js\", \"https://cdn.bokeh.org/bokeh/release/bokeh-mathjax-2.4.3.min.js\"];\n",
       "  const css_urls = [];\n",
       "\n",
       "  const inline_js = [    function(Bokeh) {\n",
       "      Bokeh.set_log_level(\"info\");\n",
       "    },\n",
       "function(Bokeh) {\n",
       "    }\n",
       "  ];\n",
       "\n",
       "  function run_inline_js() {\n",
       "    if (root.Bokeh !== undefined || force === true) {\n",
       "          for (let i = 0; i < inline_js.length; i++) {\n",
       "      inline_js[i].call(root, root.Bokeh);\n",
       "    }\n",
       "if (force === true) {\n",
       "        display_loaded();\n",
       "      }} else if (Date.now() < root._bokeh_timeout) {\n",
       "      setTimeout(run_inline_js, 100);\n",
       "    } else if (!root._bokeh_failed_load) {\n",
       "      console.log(\"Bokeh: BokehJS failed to load within specified timeout.\");\n",
       "      root._bokeh_failed_load = true;\n",
       "    } else if (force !== true) {\n",
       "      const cell = $(document.getElementById(\"1001\")).parents('.cell').data().cell;\n",
       "      cell.output_area.append_execute_result(NB_LOAD_WARNING)\n",
       "    }\n",
       "  }\n",
       "\n",
       "  if (root._bokeh_is_loading === 0) {\n",
       "    console.debug(\"Bokeh: BokehJS loaded, going straight to plotting\");\n",
       "    run_inline_js();\n",
       "  } else {\n",
       "    load_libs(css_urls, js_urls, function() {\n",
       "      console.debug(\"Bokeh: BokehJS plotting callback run at\", now());\n",
       "      run_inline_js();\n",
       "    });\n",
       "  }\n",
       "}(window));"
      ],
      "application/vnd.bokehjs_load.v0+json": "(function(root) {\n  function now() {\n    return new Date();\n  }\n\n  const force = true;\n\n  if (typeof root._bokeh_onload_callbacks === \"undefined\" || force === true) {\n    root._bokeh_onload_callbacks = [];\n    root._bokeh_is_loading = undefined;\n  }\n\n\n  if (typeof (root._bokeh_timeout) === \"undefined\" || force === true) {\n    root._bokeh_timeout = Date.now() + 5000;\n    root._bokeh_failed_load = false;\n  }\n\n  const NB_LOAD_WARNING = {'data': {'text/html':\n     \"<div style='background-color: #fdd'>\\n\"+\n     \"<p>\\n\"+\n     \"BokehJS does not appear to have successfully loaded. If loading BokehJS from CDN, this \\n\"+\n     \"may be due to a slow or bad network connection. Possible fixes:\\n\"+\n     \"</p>\\n\"+\n     \"<ul>\\n\"+\n     \"<li>re-rerun `output_notebook()` to attempt to load from CDN again, or</li>\\n\"+\n     \"<li>use INLINE resources instead, as so:</li>\\n\"+\n     \"</ul>\\n\"+\n     \"<code>\\n\"+\n     \"from bokeh.resources import INLINE\\n\"+\n     \"output_notebook(resources=INLINE)\\n\"+\n     \"</code>\\n\"+\n     \"</div>\"}};\n\n  function display_loaded() {\n    const el = document.getElementById(\"1001\");\n    if (el != null) {\n      el.textContent = \"BokehJS is loading...\";\n    }\n    if (root.Bokeh !== undefined) {\n      if (el != null) {\n        el.textContent = \"BokehJS \" + root.Bokeh.version + \" successfully loaded.\";\n      }\n    } else if (Date.now() < root._bokeh_timeout) {\n      setTimeout(display_loaded, 100)\n    }\n  }\n\n  function run_callbacks() {\n    try {\n      root._bokeh_onload_callbacks.forEach(function(callback) {\n        if (callback != null)\n          callback();\n      });\n    } finally {\n      delete root._bokeh_onload_callbacks\n    }\n    console.debug(\"Bokeh: all callbacks have finished\");\n  }\n\n  function load_libs(css_urls, js_urls, callback) {\n    if (css_urls == null) css_urls = [];\n    if (js_urls == null) js_urls = [];\n\n    root._bokeh_onload_callbacks.push(callback);\n    if (root._bokeh_is_loading > 0) {\n      console.debug(\"Bokeh: BokehJS is being loaded, scheduling callback at\", now());\n      return null;\n    }\n    if (js_urls == null || js_urls.length === 0) {\n      run_callbacks();\n      return null;\n    }\n    console.debug(\"Bokeh: BokehJS not loaded, scheduling load and callback at\", now());\n    root._bokeh_is_loading = css_urls.length + js_urls.length;\n\n    function on_load() {\n      root._bokeh_is_loading--;\n      if (root._bokeh_is_loading === 0) {\n        console.debug(\"Bokeh: all BokehJS libraries/stylesheets loaded\");\n        run_callbacks()\n      }\n    }\n\n    function on_error(url) {\n      console.error(\"failed to load \" + url);\n    }\n\n    for (let i = 0; i < css_urls.length; i++) {\n      const url = css_urls[i];\n      const element = document.createElement(\"link\");\n      element.onload = on_load;\n      element.onerror = on_error.bind(null, url);\n      element.rel = \"stylesheet\";\n      element.type = \"text/css\";\n      element.href = url;\n      console.debug(\"Bokeh: injecting link tag for BokehJS stylesheet: \", url);\n      document.body.appendChild(element);\n    }\n\n    for (let i = 0; i < js_urls.length; i++) {\n      const url = js_urls[i];\n      const element = document.createElement('script');\n      element.onload = on_load;\n      element.onerror = on_error.bind(null, url);\n      element.async = false;\n      element.src = url;\n      console.debug(\"Bokeh: injecting script tag for BokehJS library: \", url);\n      document.head.appendChild(element);\n    }\n  };\n\n  function inject_raw_css(css) {\n    const element = document.createElement(\"style\");\n    element.appendChild(document.createTextNode(css));\n    document.body.appendChild(element);\n  }\n\n  const js_urls = [\"https://cdn.bokeh.org/bokeh/release/bokeh-2.4.3.min.js\", \"https://cdn.bokeh.org/bokeh/release/bokeh-gl-2.4.3.min.js\", \"https://cdn.bokeh.org/bokeh/release/bokeh-widgets-2.4.3.min.js\", \"https://cdn.bokeh.org/bokeh/release/bokeh-tables-2.4.3.min.js\", \"https://cdn.bokeh.org/bokeh/release/bokeh-mathjax-2.4.3.min.js\"];\n  const css_urls = [];\n\n  const inline_js = [    function(Bokeh) {\n      Bokeh.set_log_level(\"info\");\n    },\nfunction(Bokeh) {\n    }\n  ];\n\n  function run_inline_js() {\n    if (root.Bokeh !== undefined || force === true) {\n          for (let i = 0; i < inline_js.length; i++) {\n      inline_js[i].call(root, root.Bokeh);\n    }\nif (force === true) {\n        display_loaded();\n      }} else if (Date.now() < root._bokeh_timeout) {\n      setTimeout(run_inline_js, 100);\n    } else if (!root._bokeh_failed_load) {\n      console.log(\"Bokeh: BokehJS failed to load within specified timeout.\");\n      root._bokeh_failed_load = true;\n    } else if (force !== true) {\n      const cell = $(document.getElementById(\"1001\")).parents('.cell').data().cell;\n      cell.output_area.append_execute_result(NB_LOAD_WARNING)\n    }\n  }\n\n  if (root._bokeh_is_loading === 0) {\n    console.debug(\"Bokeh: BokehJS loaded, going straight to plotting\");\n    run_inline_js();\n  } else {\n    load_libs(css_urls, js_urls, function() {\n      console.debug(\"Bokeh: BokehJS plotting callback run at\", now());\n      run_inline_js();\n    });\n  }\n}(window));"
     },
     "metadata": {},
     "output_type": "display_data"
    }
   ],
   "source": [
    "from bokeh.io import output_notebook\n",
    "output_notebook()"
   ]
  },
  {
   "cell_type": "markdown",
   "id": "89a100cb-9792-45bb-b855-42b53fb9db83",
   "metadata": {},
   "source": [
    "We first show the result from the `Profiler` object: This shows the execution time for each task as a rectangle, organized along the vertical axis by worker (in this case threads), and where white space represents times the worker was idle. The task types are grouped by color and, by hovering over each task, one can see the key and task that each block represents. For this calculation there is only one significant task shown in yellow; this encompasses building the wave function, running the multislice algorithm (calculating the potential on demand), and calculating and integrating the diffraction patterns. "
   ]
  },
  {
   "cell_type": "code",
   "execution_count": 15,
   "id": "0a420e98-6235-4e01-b079-fe34d913a436",
   "metadata": {
    "tags": [
     "skip-test"
    ]
   },
   "outputs": [
    {
     "data": {
      "text/html": [
       "\n",
       "  <div class=\"bk-root\" id=\"2df808cf-bbeb-4892-af03-d93daaf436bb\" data-root-id=\"1003\"></div>\n"
      ]
     },
     "metadata": {},
     "output_type": "display_data"
    },
    {
     "data": {
      "application/javascript": [
       "(function(root) {\n",
       "  function embed_document(root) {\n",
       "  const docs_json = {\"f87e938e-2a7c-41f9-a10a-bba69ea17759\":{\"defs\":[],\"roots\":{\"references\":[{\"attributes\":{\"below\":[{\"id\":\"1014\"}],\"center\":[{\"id\":\"1017\"},{\"id\":\"1020\"}],\"height\":300,\"left\":[{\"id\":\"1018\"}],\"renderers\":[{\"id\":\"1037\"}],\"title\":{\"id\":\"1004\"},\"toolbar\":{\"id\":\"1026\"},\"toolbar_location\":\"above\",\"width\":800,\"x_range\":{\"id\":\"1006\"},\"x_scale\":{\"id\":\"1010\"},\"y_range\":{\"id\":\"1008\"},\"y_scale\":{\"id\":\"1012\"}},\"id\":\"1003\",\"subtype\":\"Figure\",\"type\":\"Plot\"},{\"attributes\":{},\"id\":\"1010\",\"type\":\"LinearScale\"},{\"attributes\":{\"factors\":[\"0\",\"1\",\"2\",\"3\",\"4\",\"5\",\"6\",\"7\",\"8\",\"9\",\"10\",\"11\",\"12\",\"13\",\"14\",\"15\"]},\"id\":\"1008\",\"type\":\"FactorRange\"},{\"attributes\":{\"coordinates\":null,\"group\":null,\"text\":\"Profile Results\"},\"id\":\"1004\",\"type\":\"Title\"},{\"attributes\":{\"source\":{\"id\":\"1032\"}},\"id\":\"1038\",\"type\":\"CDSView\"},{\"attributes\":{\"dimensions\":\"width\"},\"id\":\"1024\",\"type\":\"WheelZoomTool\"},{\"attributes\":{\"fill_alpha\":{\"value\":0.2},\"fill_color\":{\"field\":\"color\"},\"hatch_alpha\":{\"value\":0.2},\"hatch_color\":{\"field\":\"color\"},\"height\":{\"value\":1},\"line_alpha\":{\"value\":0.2},\"line_color\":{\"value\":\"gray\"},\"width\":{\"field\":\"width\"},\"x\":{\"field\":\"x\"},\"y\":{\"field\":\"y\"}},\"id\":\"1036\",\"type\":\"Rect\"},{\"attributes\":{\"axis_label\":\"Worker ID\",\"axis_line_color\":null,\"coordinates\":null,\"formatter\":{\"id\":\"1041\"},\"group\":null,\"major_label_policy\":{\"id\":\"1042\"},\"major_tick_line_color\":null,\"ticker\":{\"id\":\"1019\"}},\"id\":\"1018\",\"type\":\"CategoricalAxis\"},{\"attributes\":{},\"id\":\"1015\",\"type\":\"BasicTicker\"},{\"attributes\":{\"axis\":{\"id\":\"1014\"},\"coordinates\":null,\"grid_line_color\":null,\"group\":null,\"ticker\":null},\"id\":\"1017\",\"type\":\"Grid\"},{\"attributes\":{\"axis\":{\"id\":\"1018\"},\"coordinates\":null,\"dimension\":1,\"grid_line_color\":null,\"group\":null,\"ticker\":null},\"id\":\"1020\",\"type\":\"Grid\"},{\"attributes\":{},\"id\":\"1019\",\"type\":\"CategoricalTicker\"},{\"attributes\":{},\"id\":\"1041\",\"type\":\"CategoricalTickFormatter\"},{\"attributes\":{},\"id\":\"1022\",\"type\":\"SaveTool\"},{\"attributes\":{\"callback\":null,\"point_policy\":\"follow_mouse\",\"tooltips\":\"\\n    <div>\\n        <span style=\\\"font-size: 14px; font-weight: bold;\\\">Key:</span>&nbsp;\\n        <span style=\\\"font-size: 10px; font-family: Monaco, monospace;\\\">@key</span>\\n    </div>\\n    <div>\\n        <span style=\\\"font-size: 14px; font-weight: bold;\\\">Task:</span>&nbsp;\\n        <span style=\\\"font-size: 10px; font-family: Monaco, monospace;\\\">@function</span>\\n    </div>\\n    \"},\"id\":\"1021\",\"type\":\"HoverTool\"},{\"attributes\":{},\"id\":\"1042\",\"type\":\"AllLabels\"},{\"attributes\":{},\"id\":\"1023\",\"type\":\"ResetTool\"},{\"attributes\":{\"dimensions\":\"width\"},\"id\":\"1025\",\"type\":\"PanTool\"},{\"attributes\":{},\"id\":\"1044\",\"type\":\"BasicTickFormatter\"},{\"attributes\":{},\"id\":\"1046\",\"type\":\"UnionRenderers\"},{\"attributes\":{\"fill_alpha\":{\"value\":0.1},\"fill_color\":{\"field\":\"color\"},\"hatch_alpha\":{\"value\":0.1},\"hatch_color\":{\"field\":\"color\"},\"height\":{\"value\":1},\"line_alpha\":{\"value\":0.1},\"line_color\":{\"value\":\"gray\"},\"width\":{\"field\":\"width\"},\"x\":{\"field\":\"x\"},\"y\":{\"field\":\"y\"}},\"id\":\"1035\",\"type\":\"Rect\"},{\"attributes\":{\"data\":{\"color\":[\"#3B518A\",\"#3B518A\",\"#3B518A\",\"#3B518A\",\"#440154\",\"#440154\",\"#440154\",\"#440154\",\"#FDE724\",\"#FDE724\",\"#FDE724\",\"#FDE724\",\"#FDE724\",\"#FDE724\",\"#FDE724\",\"#FDE724\",\"#FDE724\",\"#FDE724\",\"#FDE724\",\"#FDE724\",\"#FDE724\",\"#FDE724\",\"#FDE724\",\"#FDE724\",\"#440154\",\"#440154\",\"#440154\",\"#FDE724\",\"#FDE724\",\"#FDE724\",\"#440154\",\"#440154\",\"#440154\",\"#FDE724\",\"#FDE724\",\"#FDE724\",\"#440154\",\"#440154\",\"#FDE724\",\"#FDE724\",\"#440154\",\"#440154\",\"#440154\",\"#440154\",\"#FDE724\",\"#440154\",\"#440154\",\"#FDE724\",\"#5BC862\",\"#FDE724\",\"#FDE724\",\"#FDE724\",\"#FDE724\",\"#440154\",\"#440154\",\"#5BC862\",\"#FDE724\",\"#208F8C\",\"#FDE724\",\"#440154\",\"#FDE724\",\"#440154\",\"#440154\",\"#440154\",\"#440154\",\"#FDE724\",\"#440154\",\"#FDE724\",\"#FDE724\",\"#FDE724\",\"#FDE724\",\"#440154\",\"#440154\",\"#440154\",\"#FDE724\",\"#FDE724\",\"#FDE724\",\"#440154\",\"#440154\",\"#440154\",\"#440154\",\"#440154\",\"#FDE724\",\"#FDE724\",\"#FDE724\",\"#FDE724\",\"#FDE724\",\"#440154\",\"#FDE724\",\"#440154\",\"#FDE724\",\"#440154\",\"#440154\",\"#FDE724\",\"#FDE724\",\"#440154\",\"#FDE724\",\"#440154\",\"#FDE724\",\"#440154\",\"#440154\",\"#440154\",\"#440154\",\"#FDE724\",\"#440154\",\"#440154\",\"#440154\",\"#440154\",\"#FDE724\",\"#FDE724\",\"#FDE724\",\"#FDE724\",\"#FDE724\",\"#FDE724\",\"#440154\",\"#FDE724\",\"#440154\",\"#440154\",\"#FDE724\",\"#FDE724\",\"#FDE724\",\"#440154\",\"#FDE724\",\"#440154\",\"#FDE724\",\"#440154\",\"#FDE724\",\"#440154\",\"#FDE724\",\"#440154\",\"#440154\",\"#440154\",\"#440154\",\"#440154\",\"#440154\",\"#440154\",\"#440154\",\"#440154\",\"#FDE724\",\"#FDE724\",\"#FDE724\",\"#FDE724\",\"#FDE724\",\"#FDE724\",\"#FDE724\",\"#FDE724\",\"#FDE724\",\"#440154\",\"#440154\",\"#440154\",\"#440154\",\"#FDE724\",\"#FDE724\",\"#FDE724\",\"#FDE724\",\"#440154\",\"#440154\",\"#440154\",\"#5BC862\",\"#5BC862\",\"#5BC862\",\"#FDE724\",\"#FDE724\",\"#440154\",\"#FDE724\",\"#5BC862\",\"#FDE724\",\"#440154\",\"#440154\",\"#5BC862\",\"#5BC862\",\"#440154\",\"#FDE724\",\"#FDE724\",\"#440154\",\"#5BC862\",\"#440154\",\"#440154\",\"#440154\",\"#440154\",\"#440154\",\"#5BC862\",\"#FDE724\",\"#5BC862\",\"#5BC862\",\"#440154\",\"#440154\",\"#5BC862\",\"#5BC862\",\"#5BC862\",\"#FDE724\",\"#440154\",\"#FDE724\",\"#FDE724\",\"#5BC862\",\"#5BC862\",\"#FDE724\",\"#FDE724\",\"#FDE724\",\"#5BC862\",\"#FDE724\",\"#FDE724\",\"#FDE724\",\"#440154\",\"#5BC862\",\"#FDE724\",\"#440154\",\"#440154\",\"#5BC862\",\"#5BC862\",\"#FDE724\",\"#FDE724\",\"#440154\",\"#440154\",\"#440154\",\"#5BC862\",\"#440154\",\"#5BC862\",\"#5BC862\",\"#FDE724\",\"#5BC862\",\"#FDE724\",\"#440154\",\"#FDE724\",\"#440154\",\"#440154\",\"#FDE724\",\"#5BC862\",\"#5BC862\",\"#5BC862\",\"#FDE724\",\"#FDE724\",\"#FDE724\",\"#440154\",\"#440154\",\"#440154\",\"#440154\",\"#440154\",\"#5BC862\",\"#5BC862\",\"#5BC862\",\"#5BC862\",\"#5BC862\",\"#FDE724\",\"#440154\",\"#FDE724\",\"#FDE724\",\"#FDE724\",\"#FDE724\",\"#5BC862\",\"#FDE724\",\"#440154\",\"#5BC862\",\"#FDE724\",\"#440154\",\"#440154\",\"#5BC862\",\"#5BC862\",\"#FDE724\",\"#FDE724\",\"#440154\",\"#5BC862\",\"#FDE724\",\"#440154\",\"#440154\",\"#5BC862\",\"#5BC862\",\"#FDE724\",\"#FDE724\",\"#440154\",\"#5BC862\",\"#FDE724\",\"#440154\",\"#440154\",\"#440154\",\"#440154\",\"#440154\",\"#5BC862\",\"#5BC862\",\"#5BC862\",\"#5BC862\",\"#5BC862\",\"#FDE724\",\"#FDE724\",\"#FDE724\",\"#440154\",\"#FDE724\",\"#FDE724\",\"#440154\",\"#5BC862\",\"#440154\",\"#5BC862\",\"#FDE724\",\"#5BC862\",\"#440154\",\"#FDE724\",\"#5BC862\",\"#FDE724\",\"#FDE724\",\"#440154\",\"#5BC862\",\"#208F8C\",\"#FDE724\",\"#440154\",\"#5BC862\",\"#208F8C\",\"#440154\",\"#440154\",\"#FDE724\",\"#5BC862\",\"#5BC862\",\"#208F8C\",\"#440154\",\"#208F8C\",\"#FDE724\",\"#5BC862\",\"#FDE724\",\"#440154\",\"#208F8C\",\"#5BC862\",\"#FDE724\",\"#208F8C\",\"#440154\",\"#FDE724\",\"#440154\",\"#5BC862\",\"#440154\",\"#5BC862\",\"#208F8C\",\"#5BC862\",\"#440154\",\"#208F8C\",\"#FDE724\",\"#208F8C\",\"#FDE724\",\"#FDE724\",\"#440154\",\"#440154\",\"#FDE724\",\"#5BC862\",\"#5BC862\",\"#440154\",\"#440154\",\"#208F8C\",\"#208F8C\",\"#440154\",\"#FDE724\",\"#5BC862\",\"#FDE724\",\"#FDE724\",\"#FDE724\",\"#440154\",\"#208F8C\",\"#FDE724\",\"#FDE724\",\"#440154\",\"#FDE724\",\"#440154\",\"#FDE724\",\"#440154\",\"#440154\",\"#FDE724\",\"#FDE724\",\"#440154\",\"#FDE724\",\"#440154\",\"#440154\",\"#440154\",\"#440154\",\"#440154\",\"#FDE724\",\"#FDE724\",\"#FDE724\",\"#FDE724\",\"#FDE724\",\"#440154\",\"#FDE724\",\"#440154\",\"#FDE724\",\"#440154\",\"#FDE724\",\"#440154\",\"#440154\",\"#440154\",\"#FDE724\",\"#FDE724\",\"#FDE724\",\"#440154\",\"#FDE724\",\"#440154\",\"#FDE724\",\"#440154\",\"#FDE724\",\"#440154\",\"#FDE724\",\"#440154\",\"#440154\",\"#440154\",\"#440154\",\"#FDE724\",\"#FDE724\",\"#FDE724\",\"#440154\",\"#FDE724\",\"#FDE724\",\"#440154\",\"#440154\",\"#FDE724\",\"#FDE724\",\"#440154\",\"#FDE724\",\"#440154\",\"#FDE724\",\"#440154\",\"#440154\",\"#FDE724\",\"#FDE724\",\"#440154\",\"#FDE724\",\"#440154\",\"#5BC862\",\"#208F8C\",\"#FDE724\",\"#440154\",\"#5BC862\",\"#208F8C\",\"#FDE724\",\"#440154\",\"#440154\",\"#5BC862\",\"#5BC862\",\"#208F8C\",\"#FDE724\",\"#208F8C\",\"#FDE724\",\"#440154\",\"#440154\",\"#5BC862\",\"#5BC862\",\"#208F8C\",\"#208F8C\",\"#FDE724\",\"#FDE724\",\"#440154\",\"#5BC862\",\"#208F8C\",\"#440154\",\"#FDE724\",\"#440154\",\"#5BC862\",\"#440154\",\"#440154\",\"#5BC862\",\"#208F8C\",\"#5BC862\",\"#5BC862\",\"#208F8C\",\"#FDE724\",\"#208F8C\",\"#208F8C\",\"#FDE724\",\"#440154\",\"#FDE724\",\"#FDE724\",\"#5BC862\",\"#440154\",\"#5BC862\",\"#208F8C\",\"#FDE724\",\"#208F8C\",\"#440154\",\"#FDE724\",\"#5BC862\",\"#208F8C\",\"#FDE724\",\"#440154\",\"#5BC862\",\"#208F8C\",\"#440154\",\"#FDE724\",\"#5BC862\",\"#208F8C\",\"#FDE724\",\"#440154\",\"#5BC862\",\"#208F8C\",\"#FDE724\",\"#440154\",\"#5BC862\",\"#208F8C\",\"#FDE724\",\"#440154\",\"#5BC862\",\"#208F8C\",\"#440154\",\"#FDE724\",\"#5BC862\",\"#440154\",\"#440154\",\"#208F8C\",\"#5BC862\",\"#5BC862\",\"#FDE724\",\"#208F8C\",\"#208F8C\",\"#440154\",\"#5BC862\",\"#208F8C\",\"#440154\",\"#5BC862\",\"#208F8C\",\"#440154\",\"#5BC862\",\"#208F8C\",\"#440154\",\"#440154\",\"#5BC862\",\"#5BC862\",\"#440154\",\"#208F8C\",\"#208F8C\",\"#440154\",\"#440154\",\"#5BC862\",\"#5BC862\",\"#5BC862\",\"#208F8C\",\"#208F8C\",\"#208F8C\",\"#440154\",\"#5BC862\",\"#208F8C\",\"#440154\",\"#5BC862\",\"#208F8C\",\"#440154\",\"#440154\",\"#5BC862\",\"#5BC862\",\"#208F8C\",\"#208F8C\",\"#440154\",\"#440154\",\"#5BC862\",\"#5BC862\",\"#208F8C\",\"#208F8C\"],\"function\":[\"_frozen_phonon(, atoms=_, seeds=tuple([*]))\",\"_frozen_phonon(, atoms=_, seeds=tuple([*]))\",\"_frozen_phonon(, atoms=_, seeds=tuple([*]))\",\"_frozen_phonon(, atoms=_, seeds=tuple([*]))\",\"_\",\"_\",\"_\",\"_\",\"subgraph_callable-45bb7dbd-a6cc-4e78-9bf7-c5bfa80b(subgraph_callable-d6be692c-4a49-4116-aac2-acbba712(...))\",\"subgraph_callable-45bb7dbd-a6cc-4e78-9bf7-c5bfa80b(subgraph_callable-d6be692c-4a49-4116-aac2-acbba712(...))\",\"subgraph_callable-45bb7dbd-a6cc-4e78-9bf7-c5bfa80b(subgraph_callable-d6be692c-4a49-4116-aac2-acbba712(...))\",\"subgraph_callable-45bb7dbd-a6cc-4e78-9bf7-c5bfa80b(subgraph_callable-d6be692c-4a49-4116-aac2-acbba712(...))\",\"subgraph_callable-45bb7dbd-a6cc-4e78-9bf7-c5bfa80b(subgraph_callable-d6be692c-4a49-4116-aac2-acbba712(...))\",\"subgraph_callable-45bb7dbd-a6cc-4e78-9bf7-c5bfa80b(subgraph_callable-d6be692c-4a49-4116-aac2-acbba712(...))\",\"subgraph_callable-45bb7dbd-a6cc-4e78-9bf7-c5bfa80b(subgraph_callable-d6be692c-4a49-4116-aac2-acbba712(...))\",\"subgraph_callable-45bb7dbd-a6cc-4e78-9bf7-c5bfa80b(subgraph_callable-d6be692c-4a49-4116-aac2-acbba712(...))\",\"subgraph_callable-45bb7dbd-a6cc-4e78-9bf7-c5bfa80b(subgraph_callable-d6be692c-4a49-4116-aac2-acbba712(...))\",\"subgraph_callable-45bb7dbd-a6cc-4e78-9bf7-c5bfa80b(subgraph_callable-d6be692c-4a49-4116-aac2-acbba712(...))\",\"subgraph_callable-45bb7dbd-a6cc-4e78-9bf7-c5bfa80b(subgraph_callable-d6be692c-4a49-4116-aac2-acbba712(...))\",\"subgraph_callable-45bb7dbd-a6cc-4e78-9bf7-c5bfa80b(subgraph_callable-d6be692c-4a49-4116-aac2-acbba712(...))\",\"subgraph_callable-45bb7dbd-a6cc-4e78-9bf7-c5bfa80b(subgraph_callable-d6be692c-4a49-4116-aac2-acbba712(...))\",\"subgraph_callable-45bb7dbd-a6cc-4e78-9bf7-c5bfa80b(subgraph_callable-d6be692c-4a49-4116-aac2-acbba712(...))\",\"subgraph_callable-45bb7dbd-a6cc-4e78-9bf7-c5bfa80b(subgraph_callable-d6be692c-4a49-4116-aac2-acbba712(...))\",\"subgraph_callable-45bb7dbd-a6cc-4e78-9bf7-c5bfa80b(subgraph_callable-d6be692c-4a49-4116-aac2-acbba712(...))\",\"_\",\"_\",\"_\",\"subgraph_callable-45bb7dbd-a6cc-4e78-9bf7-c5bfa80b(subgraph_callable-d6be692c-4a49-4116-aac2-acbba712(...))\",\"subgraph_callable-45bb7dbd-a6cc-4e78-9bf7-c5bfa80b(subgraph_callable-d6be692c-4a49-4116-aac2-acbba712(...))\",\"subgraph_callable-45bb7dbd-a6cc-4e78-9bf7-c5bfa80b(subgraph_callable-d6be692c-4a49-4116-aac2-acbba712(...))\",\"_\",\"_\",\"_\",\"subgraph_callable-45bb7dbd-a6cc-4e78-9bf7-c5bfa80b(subgraph_callable-d6be692c-4a49-4116-aac2-acbba712(...))\",\"subgraph_callable-45bb7dbd-a6cc-4e78-9bf7-c5bfa80b(subgraph_callable-d6be692c-4a49-4116-aac2-acbba712(...))\",\"subgraph_callable-45bb7dbd-a6cc-4e78-9bf7-c5bfa80b(subgraph_callable-d6be692c-4a49-4116-aac2-acbba712(...))\",\"_\",\"_\",\"subgraph_callable-45bb7dbd-a6cc-4e78-9bf7-c5bfa80b(subgraph_callable-d6be692c-4a49-4116-aac2-acbba712(...))\",\"subgraph_callable-45bb7dbd-a6cc-4e78-9bf7-c5bfa80b(subgraph_callable-d6be692c-4a49-4116-aac2-acbba712(...))\",\"_\",\"_\",\"_\",\"_\",\"subgraph_callable-45bb7dbd-a6cc-4e78-9bf7-c5bfa80b(subgraph_callable-d6be692c-4a49-4116-aac2-acbba712(...))\",\"_\",\"_\",\"subgraph_callable-45bb7dbd-a6cc-4e78-9bf7-c5bfa80b(subgraph_callable-d6be692c-4a49-4116-aac2-acbba712(...))\",\"mean_combine([_, _])\",\"subgraph_callable-45bb7dbd-a6cc-4e78-9bf7-c5bfa80b(subgraph_callable-d6be692c-4a49-4116-aac2-acbba712(...))\",\"subgraph_callable-45bb7dbd-a6cc-4e78-9bf7-c5bfa80b(subgraph_callable-d6be692c-4a49-4116-aac2-acbba712(...))\",\"subgraph_callable-45bb7dbd-a6cc-4e78-9bf7-c5bfa80b(subgraph_callable-d6be692c-4a49-4116-aac2-acbba712(...))\",\"subgraph_callable-45bb7dbd-a6cc-4e78-9bf7-c5bfa80b(subgraph_callable-d6be692c-4a49-4116-aac2-acbba712(...))\",\"_\",\"_\",\"mean_combine([_, _])\",\"subgraph_callable-45bb7dbd-a6cc-4e78-9bf7-c5bfa80b(subgraph_callable-d6be692c-4a49-4116-aac2-acbba712(...))\",\"mean_agg([_, _])\",\"subgraph_callable-45bb7dbd-a6cc-4e78-9bf7-c5bfa80b(subgraph_callable-d6be692c-4a49-4116-aac2-acbba712(...))\",\"_\",\"subgraph_callable-45bb7dbd-a6cc-4e78-9bf7-c5bfa80b(subgraph_callable-d6be692c-4a49-4116-aac2-acbba712(...))\",\"_\",\"_\",\"_\",\"_\",\"subgraph_callable-45bb7dbd-a6cc-4e78-9bf7-c5bfa80b(subgraph_callable-d6be692c-4a49-4116-aac2-acbba712(...))\",\"_\",\"subgraph_callable-45bb7dbd-a6cc-4e78-9bf7-c5bfa80b(subgraph_callable-d6be692c-4a49-4116-aac2-acbba712(...))\",\"subgraph_callable-45bb7dbd-a6cc-4e78-9bf7-c5bfa80b(subgraph_callable-d6be692c-4a49-4116-aac2-acbba712(...))\",\"subgraph_callable-45bb7dbd-a6cc-4e78-9bf7-c5bfa80b(subgraph_callable-d6be692c-4a49-4116-aac2-acbba712(...))\",\"subgraph_callable-45bb7dbd-a6cc-4e78-9bf7-c5bfa80b(subgraph_callable-d6be692c-4a49-4116-aac2-acbba712(...))\",\"_\",\"_\",\"_\",\"subgraph_callable-45bb7dbd-a6cc-4e78-9bf7-c5bfa80b(subgraph_callable-d6be692c-4a49-4116-aac2-acbba712(...))\",\"subgraph_callable-45bb7dbd-a6cc-4e78-9bf7-c5bfa80b(subgraph_callable-d6be692c-4a49-4116-aac2-acbba712(...))\",\"subgraph_callable-45bb7dbd-a6cc-4e78-9bf7-c5bfa80b(subgraph_callable-d6be692c-4a49-4116-aac2-acbba712(...))\",\"_\",\"_\",\"_\",\"_\",\"_\",\"subgraph_callable-45bb7dbd-a6cc-4e78-9bf7-c5bfa80b(subgraph_callable-d6be692c-4a49-4116-aac2-acbba712(...))\",\"subgraph_callable-45bb7dbd-a6cc-4e78-9bf7-c5bfa80b(subgraph_callable-d6be692c-4a49-4116-aac2-acbba712(...))\",\"subgraph_callable-45bb7dbd-a6cc-4e78-9bf7-c5bfa80b(subgraph_callable-d6be692c-4a49-4116-aac2-acbba712(...))\",\"subgraph_callable-45bb7dbd-a6cc-4e78-9bf7-c5bfa80b(subgraph_callable-d6be692c-4a49-4116-aac2-acbba712(...))\",\"subgraph_callable-45bb7dbd-a6cc-4e78-9bf7-c5bfa80b(subgraph_callable-d6be692c-4a49-4116-aac2-acbba712(...))\",\"_\",\"subgraph_callable-45bb7dbd-a6cc-4e78-9bf7-c5bfa80b(subgraph_callable-d6be692c-4a49-4116-aac2-acbba712(...))\",\"_\",\"subgraph_callable-45bb7dbd-a6cc-4e78-9bf7-c5bfa80b(subgraph_callable-d6be692c-4a49-4116-aac2-acbba712(...))\",\"_\",\"_\",\"subgraph_callable-45bb7dbd-a6cc-4e78-9bf7-c5bfa80b(subgraph_callable-d6be692c-4a49-4116-aac2-acbba712(...))\",\"subgraph_callable-45bb7dbd-a6cc-4e78-9bf7-c5bfa80b(subgraph_callable-d6be692c-4a49-4116-aac2-acbba712(...))\",\"_\",\"subgraph_callable-45bb7dbd-a6cc-4e78-9bf7-c5bfa80b(subgraph_callable-d6be692c-4a49-4116-aac2-acbba712(...))\",\"_\",\"subgraph_callable-45bb7dbd-a6cc-4e78-9bf7-c5bfa80b(subgraph_callable-d6be692c-4a49-4116-aac2-acbba712(...))\",\"_\",\"_\",\"_\",\"_\",\"subgraph_callable-45bb7dbd-a6cc-4e78-9bf7-c5bfa80b(subgraph_callable-d6be692c-4a49-4116-aac2-acbba712(...))\",\"_\",\"_\",\"_\",\"_\",\"subgraph_callable-45bb7dbd-a6cc-4e78-9bf7-c5bfa80b(subgraph_callable-d6be692c-4a49-4116-aac2-acbba712(...))\",\"subgraph_callable-45bb7dbd-a6cc-4e78-9bf7-c5bfa80b(subgraph_callable-d6be692c-4a49-4116-aac2-acbba712(...))\",\"subgraph_callable-45bb7dbd-a6cc-4e78-9bf7-c5bfa80b(subgraph_callable-d6be692c-4a49-4116-aac2-acbba712(...))\",\"subgraph_callable-45bb7dbd-a6cc-4e78-9bf7-c5bfa80b(subgraph_callable-d6be692c-4a49-4116-aac2-acbba712(...))\",\"subgraph_callable-45bb7dbd-a6cc-4e78-9bf7-c5bfa80b(subgraph_callable-d6be692c-4a49-4116-aac2-acbba712(...))\",\"subgraph_callable-45bb7dbd-a6cc-4e78-9bf7-c5bfa80b(subgraph_callable-d6be692c-4a49-4116-aac2-acbba712(...))\",\"_\",\"subgraph_callable-45bb7dbd-a6cc-4e78-9bf7-c5bfa80b(subgraph_callable-d6be692c-4a49-4116-aac2-acbba712(...))\",\"_\",\"_\",\"subgraph_callable-45bb7dbd-a6cc-4e78-9bf7-c5bfa80b(subgraph_callable-d6be692c-4a49-4116-aac2-acbba712(...))\",\"subgraph_callable-45bb7dbd-a6cc-4e78-9bf7-c5bfa80b(subgraph_callable-d6be692c-4a49-4116-aac2-acbba712(...))\",\"subgraph_callable-45bb7dbd-a6cc-4e78-9bf7-c5bfa80b(subgraph_callable-d6be692c-4a49-4116-aac2-acbba712(...))\",\"_\",\"subgraph_callable-45bb7dbd-a6cc-4e78-9bf7-c5bfa80b(subgraph_callable-d6be692c-4a49-4116-aac2-acbba712(...))\",\"_\",\"subgraph_callable-45bb7dbd-a6cc-4e78-9bf7-c5bfa80b(subgraph_callable-d6be692c-4a49-4116-aac2-acbba712(...))\",\"_\",\"subgraph_callable-45bb7dbd-a6cc-4e78-9bf7-c5bfa80b(subgraph_callable-d6be692c-4a49-4116-aac2-acbba712(...))\",\"_\",\"subgraph_callable-45bb7dbd-a6cc-4e78-9bf7-c5bfa80b(subgraph_callable-d6be692c-4a49-4116-aac2-acbba712(...))\",\"_\",\"_\",\"_\",\"_\",\"_\",\"_\",\"_\",\"_\",\"_\",\"subgraph_callable-45bb7dbd-a6cc-4e78-9bf7-c5bfa80b(subgraph_callable-d6be692c-4a49-4116-aac2-acbba712(...))\",\"subgraph_callable-45bb7dbd-a6cc-4e78-9bf7-c5bfa80b(subgraph_callable-d6be692c-4a49-4116-aac2-acbba712(...))\",\"subgraph_callable-45bb7dbd-a6cc-4e78-9bf7-c5bfa80b(subgraph_callable-d6be692c-4a49-4116-aac2-acbba712(...))\",\"subgraph_callable-45bb7dbd-a6cc-4e78-9bf7-c5bfa80b(subgraph_callable-d6be692c-4a49-4116-aac2-acbba712(...))\",\"subgraph_callable-45bb7dbd-a6cc-4e78-9bf7-c5bfa80b(subgraph_callable-d6be692c-4a49-4116-aac2-acbba712(...))\",\"subgraph_callable-45bb7dbd-a6cc-4e78-9bf7-c5bfa80b(subgraph_callable-d6be692c-4a49-4116-aac2-acbba712(...))\",\"subgraph_callable-45bb7dbd-a6cc-4e78-9bf7-c5bfa80b(subgraph_callable-d6be692c-4a49-4116-aac2-acbba712(...))\",\"subgraph_callable-45bb7dbd-a6cc-4e78-9bf7-c5bfa80b(subgraph_callable-d6be692c-4a49-4116-aac2-acbba712(...))\",\"subgraph_callable-45bb7dbd-a6cc-4e78-9bf7-c5bfa80b(subgraph_callable-d6be692c-4a49-4116-aac2-acbba712(...))\",\"_\",\"_\",\"_\",\"_\",\"subgraph_callable-45bb7dbd-a6cc-4e78-9bf7-c5bfa80b(subgraph_callable-d6be692c-4a49-4116-aac2-acbba712(...))\",\"subgraph_callable-45bb7dbd-a6cc-4e78-9bf7-c5bfa80b(subgraph_callable-d6be692c-4a49-4116-aac2-acbba712(...))\",\"subgraph_callable-45bb7dbd-a6cc-4e78-9bf7-c5bfa80b(subgraph_callable-d6be692c-4a49-4116-aac2-acbba712(...))\",\"subgraph_callable-45bb7dbd-a6cc-4e78-9bf7-c5bfa80b(subgraph_callable-d6be692c-4a49-4116-aac2-acbba712(...))\",\"_\",\"_\",\"_\",\"mean_combine([_, _])\",\"mean_combine([_, _])\",\"mean_combine([_, _])\",\"subgraph_callable-45bb7dbd-a6cc-4e78-9bf7-c5bfa80b(subgraph_callable-d6be692c-4a49-4116-aac2-acbba712(...))\",\"subgraph_callable-45bb7dbd-a6cc-4e78-9bf7-c5bfa80b(subgraph_callable-d6be692c-4a49-4116-aac2-acbba712(...))\",\"_\",\"subgraph_callable-45bb7dbd-a6cc-4e78-9bf7-c5bfa80b(subgraph_callable-d6be692c-4a49-4116-aac2-acbba712(...))\",\"mean_combine([_, _])\",\"subgraph_callable-45bb7dbd-a6cc-4e78-9bf7-c5bfa80b(subgraph_callable-d6be692c-4a49-4116-aac2-acbba712(...))\",\"_\",\"_\",\"mean_combine([_, _])\",\"mean_combine([_, _])\",\"_\",\"subgraph_callable-45bb7dbd-a6cc-4e78-9bf7-c5bfa80b(subgraph_callable-d6be692c-4a49-4116-aac2-acbba712(...))\",\"subgraph_callable-45bb7dbd-a6cc-4e78-9bf7-c5bfa80b(subgraph_callable-d6be692c-4a49-4116-aac2-acbba712(...))\",\"_\",\"mean_combine([_, _])\",\"_\",\"_\",\"_\",\"_\",\"_\",\"mean_combine([_, _])\",\"subgraph_callable-45bb7dbd-a6cc-4e78-9bf7-c5bfa80b(subgraph_callable-d6be692c-4a49-4116-aac2-acbba712(...))\",\"mean_combine([_, _])\",\"mean_combine([_, _])\",\"_\",\"_\",\"mean_combine([_, _])\",\"mean_combine([_, _])\",\"mean_combine([_, _])\",\"subgraph_callable-45bb7dbd-a6cc-4e78-9bf7-c5bfa80b(subgraph_callable-d6be692c-4a49-4116-aac2-acbba712(...))\",\"_\",\"subgraph_callable-45bb7dbd-a6cc-4e78-9bf7-c5bfa80b(subgraph_callable-d6be692c-4a49-4116-aac2-acbba712(...))\",\"subgraph_callable-45bb7dbd-a6cc-4e78-9bf7-c5bfa80b(subgraph_callable-d6be692c-4a49-4116-aac2-acbba712(...))\",\"mean_combine([_, _])\",\"mean_combine([_, _])\",\"subgraph_callable-45bb7dbd-a6cc-4e78-9bf7-c5bfa80b(subgraph_callable-d6be692c-4a49-4116-aac2-acbba712(...))\",\"subgraph_callable-45bb7dbd-a6cc-4e78-9bf7-c5bfa80b(subgraph_callable-d6be692c-4a49-4116-aac2-acbba712(...))\",\"subgraph_callable-45bb7dbd-a6cc-4e78-9bf7-c5bfa80b(subgraph_callable-d6be692c-4a49-4116-aac2-acbba712(...))\",\"mean_combine([_, _])\",\"subgraph_callable-45bb7dbd-a6cc-4e78-9bf7-c5bfa80b(subgraph_callable-d6be692c-4a49-4116-aac2-acbba712(...))\",\"subgraph_callable-45bb7dbd-a6cc-4e78-9bf7-c5bfa80b(subgraph_callable-d6be692c-4a49-4116-aac2-acbba712(...))\",\"subgraph_callable-45bb7dbd-a6cc-4e78-9bf7-c5bfa80b(subgraph_callable-d6be692c-4a49-4116-aac2-acbba712(...))\",\"_\",\"mean_combine([_, _])\",\"subgraph_callable-45bb7dbd-a6cc-4e78-9bf7-c5bfa80b(subgraph_callable-d6be692c-4a49-4116-aac2-acbba712(...))\",\"_\",\"_\",\"mean_combine([_, _])\",\"mean_combine([_, _])\",\"subgraph_callable-45bb7dbd-a6cc-4e78-9bf7-c5bfa80b(subgraph_callable-d6be692c-4a49-4116-aac2-acbba712(...))\",\"subgraph_callable-45bb7dbd-a6cc-4e78-9bf7-c5bfa80b(subgraph_callable-d6be692c-4a49-4116-aac2-acbba712(...))\",\"_\",\"_\",\"_\",\"mean_combine([_, _])\",\"_\",\"mean_combine([_, _])\",\"mean_combine([_, _])\",\"subgraph_callable-45bb7dbd-a6cc-4e78-9bf7-c5bfa80b(subgraph_callable-d6be692c-4a49-4116-aac2-acbba712(...))\",\"mean_combine([_, _])\",\"subgraph_callable-45bb7dbd-a6cc-4e78-9bf7-c5bfa80b(subgraph_callable-d6be692c-4a49-4116-aac2-acbba712(...))\",\"_\",\"subgraph_callable-45bb7dbd-a6cc-4e78-9bf7-c5bfa80b(subgraph_callable-d6be692c-4a49-4116-aac2-acbba712(...))\",\"_\",\"_\",\"subgraph_callable-45bb7dbd-a6cc-4e78-9bf7-c5bfa80b(subgraph_callable-d6be692c-4a49-4116-aac2-acbba712(...))\",\"mean_combine([_, _])\",\"mean_combine([_, _])\",\"mean_combine([_, _])\",\"subgraph_callable-45bb7dbd-a6cc-4e78-9bf7-c5bfa80b(subgraph_callable-d6be692c-4a49-4116-aac2-acbba712(...))\",\"subgraph_callable-45bb7dbd-a6cc-4e78-9bf7-c5bfa80b(subgraph_callable-d6be692c-4a49-4116-aac2-acbba712(...))\",\"subgraph_callable-45bb7dbd-a6cc-4e78-9bf7-c5bfa80b(subgraph_callable-d6be692c-4a49-4116-aac2-acbba712(...))\",\"_\",\"_\",\"_\",\"_\",\"_\",\"mean_combine([_, _])\",\"mean_combine([_, _])\",\"mean_combine([_, _])\",\"mean_combine([_, _])\",\"mean_combine([_, _])\",\"subgraph_callable-45bb7dbd-a6cc-4e78-9bf7-c5bfa80b(subgraph_callable-d6be692c-4a49-4116-aac2-acbba712(...))\",\"_\",\"subgraph_callable-45bb7dbd-a6cc-4e78-9bf7-c5bfa80b(subgraph_callable-d6be692c-4a49-4116-aac2-acbba712(...))\",\"subgraph_callable-45bb7dbd-a6cc-4e78-9bf7-c5bfa80b(subgraph_callable-d6be692c-4a49-4116-aac2-acbba712(...))\",\"subgraph_callable-45bb7dbd-a6cc-4e78-9bf7-c5bfa80b(subgraph_callable-d6be692c-4a49-4116-aac2-acbba712(...))\",\"subgraph_callable-45bb7dbd-a6cc-4e78-9bf7-c5bfa80b(subgraph_callable-d6be692c-4a49-4116-aac2-acbba712(...))\",\"mean_combine([_, _])\",\"subgraph_callable-45bb7dbd-a6cc-4e78-9bf7-c5bfa80b(subgraph_callable-d6be692c-4a49-4116-aac2-acbba712(...))\",\"_\",\"mean_combine([_, _])\",\"subgraph_callable-45bb7dbd-a6cc-4e78-9bf7-c5bfa80b(subgraph_callable-d6be692c-4a49-4116-aac2-acbba712(...))\",\"_\",\"_\",\"mean_combine([_, _])\",\"mean_combine([_, _])\",\"subgraph_callable-45bb7dbd-a6cc-4e78-9bf7-c5bfa80b(subgraph_callable-d6be692c-4a49-4116-aac2-acbba712(...))\",\"subgraph_callable-45bb7dbd-a6cc-4e78-9bf7-c5bfa80b(subgraph_callable-d6be692c-4a49-4116-aac2-acbba712(...))\",\"_\",\"mean_combine([_, _])\",\"subgraph_callable-45bb7dbd-a6cc-4e78-9bf7-c5bfa80b(subgraph_callable-d6be692c-4a49-4116-aac2-acbba712(...))\",\"_\",\"_\",\"mean_combine([_, _])\",\"mean_combine([_, _])\",\"subgraph_callable-45bb7dbd-a6cc-4e78-9bf7-c5bfa80b(subgraph_callable-d6be692c-4a49-4116-aac2-acbba712(...))\",\"subgraph_callable-45bb7dbd-a6cc-4e78-9bf7-c5bfa80b(subgraph_callable-d6be692c-4a49-4116-aac2-acbba712(...))\",\"_\",\"mean_combine([_, _])\",\"subgraph_callable-45bb7dbd-a6cc-4e78-9bf7-c5bfa80b(subgraph_callable-d6be692c-4a49-4116-aac2-acbba712(...))\",\"_\",\"_\",\"_\",\"_\",\"_\",\"mean_combine([_, _])\",\"mean_combine([_, _])\",\"mean_combine([_, _])\",\"mean_combine([_, _])\",\"mean_combine([_, _])\",\"subgraph_callable-45bb7dbd-a6cc-4e78-9bf7-c5bfa80b(subgraph_callable-d6be692c-4a49-4116-aac2-acbba712(...))\",\"subgraph_callable-45bb7dbd-a6cc-4e78-9bf7-c5bfa80b(subgraph_callable-d6be692c-4a49-4116-aac2-acbba712(...))\",\"subgraph_callable-45bb7dbd-a6cc-4e78-9bf7-c5bfa80b(subgraph_callable-d6be692c-4a49-4116-aac2-acbba712(...))\",\"_\",\"subgraph_callable-45bb7dbd-a6cc-4e78-9bf7-c5bfa80b(subgraph_callable-d6be692c-4a49-4116-aac2-acbba712(...))\",\"subgraph_callable-45bb7dbd-a6cc-4e78-9bf7-c5bfa80b(subgraph_callable-d6be692c-4a49-4116-aac2-acbba712(...))\",\"_\",\"mean_combine([_, _])\",\"_\",\"mean_combine([_, _])\",\"subgraph_callable-45bb7dbd-a6cc-4e78-9bf7-c5bfa80b(subgraph_callable-d6be692c-4a49-4116-aac2-acbba712(...))\",\"mean_combine([_, _])\",\"_\",\"subgraph_callable-45bb7dbd-a6cc-4e78-9bf7-c5bfa80b(subgraph_callable-d6be692c-4a49-4116-aac2-acbba712(...))\",\"mean_combine([_, _])\",\"subgraph_callable-45bb7dbd-a6cc-4e78-9bf7-c5bfa80b(subgraph_callable-d6be692c-4a49-4116-aac2-acbba712(...))\",\"subgraph_callable-45bb7dbd-a6cc-4e78-9bf7-c5bfa80b(subgraph_callable-d6be692c-4a49-4116-aac2-acbba712(...))\",\"_\",\"mean_combine([_, _])\",\"mean_agg([_, _])\",\"subgraph_callable-45bb7dbd-a6cc-4e78-9bf7-c5bfa80b(subgraph_callable-d6be692c-4a49-4116-aac2-acbba712(...))\",\"_\",\"mean_combine([_, _])\",\"mean_agg([_, _])\",\"_\",\"_\",\"subgraph_callable-45bb7dbd-a6cc-4e78-9bf7-c5bfa80b(subgraph_callable-d6be692c-4a49-4116-aac2-acbba712(...))\",\"mean_combine([_, _])\",\"mean_combine([_, _])\",\"mean_agg([_, _])\",\"_\",\"mean_agg([_, _])\",\"subgraph_callable-45bb7dbd-a6cc-4e78-9bf7-c5bfa80b(subgraph_callable-d6be692c-4a49-4116-aac2-acbba712(...))\",\"mean_combine([_, _])\",\"subgraph_callable-45bb7dbd-a6cc-4e78-9bf7-c5bfa80b(subgraph_callable-d6be692c-4a49-4116-aac2-acbba712(...))\",\"_\",\"mean_agg([_, _])\",\"mean_combine([_, _])\",\"subgraph_callable-45bb7dbd-a6cc-4e78-9bf7-c5bfa80b(subgraph_callable-d6be692c-4a49-4116-aac2-acbba712(...))\",\"mean_agg([_, _])\",\"_\",\"subgraph_callable-45bb7dbd-a6cc-4e78-9bf7-c5bfa80b(subgraph_callable-d6be692c-4a49-4116-aac2-acbba712(...))\",\"_\",\"mean_combine([_, _])\",\"_\",\"mean_combine([_, _])\",\"mean_agg([_, _])\",\"mean_combine([_, _])\",\"_\",\"mean_agg([_, _])\",\"subgraph_callable-45bb7dbd-a6cc-4e78-9bf7-c5bfa80b(subgraph_callable-d6be692c-4a49-4116-aac2-acbba712(...))\",\"mean_agg([_, _])\",\"subgraph_callable-45bb7dbd-a6cc-4e78-9bf7-c5bfa80b(subgraph_callable-d6be692c-4a49-4116-aac2-acbba712(...))\",\"subgraph_callable-45bb7dbd-a6cc-4e78-9bf7-c5bfa80b(subgraph_callable-d6be692c-4a49-4116-aac2-acbba712(...))\",\"_\",\"_\",\"subgraph_callable-45bb7dbd-a6cc-4e78-9bf7-c5bfa80b(subgraph_callable-d6be692c-4a49-4116-aac2-acbba712(...))\",\"mean_combine([_, _])\",\"mean_combine([_, _])\",\"_\",\"_\",\"mean_agg([_, _])\",\"mean_agg([_, _])\",\"_\",\"subgraph_callable-45bb7dbd-a6cc-4e78-9bf7-c5bfa80b(subgraph_callable-d6be692c-4a49-4116-aac2-acbba712(...))\",\"mean_combine([_, _])\",\"subgraph_callable-45bb7dbd-a6cc-4e78-9bf7-c5bfa80b(subgraph_callable-d6be692c-4a49-4116-aac2-acbba712(...))\",\"subgraph_callable-45bb7dbd-a6cc-4e78-9bf7-c5bfa80b(subgraph_callable-d6be692c-4a49-4116-aac2-acbba712(...))\",\"subgraph_callable-45bb7dbd-a6cc-4e78-9bf7-c5bfa80b(subgraph_callable-d6be692c-4a49-4116-aac2-acbba712(...))\",\"_\",\"mean_agg([_, _])\",\"subgraph_callable-45bb7dbd-a6cc-4e78-9bf7-c5bfa80b(subgraph_callable-d6be692c-4a49-4116-aac2-acbba712(...))\",\"subgraph_callable-45bb7dbd-a6cc-4e78-9bf7-c5bfa80b(subgraph_callable-d6be692c-4a49-4116-aac2-acbba712(...))\",\"_\",\"subgraph_callable-45bb7dbd-a6cc-4e78-9bf7-c5bfa80b(subgraph_callable-d6be692c-4a49-4116-aac2-acbba712(...))\",\"_\",\"subgraph_callable-45bb7dbd-a6cc-4e78-9bf7-c5bfa80b(subgraph_callable-d6be692c-4a49-4116-aac2-acbba712(...))\",\"_\",\"_\",\"subgraph_callable-45bb7dbd-a6cc-4e78-9bf7-c5bfa80b(subgraph_callable-d6be692c-4a49-4116-aac2-acbba712(...))\",\"subgraph_callable-45bb7dbd-a6cc-4e78-9bf7-c5bfa80b(subgraph_callable-d6be692c-4a49-4116-aac2-acbba712(...))\",\"_\",\"subgraph_callable-45bb7dbd-a6cc-4e78-9bf7-c5bfa80b(subgraph_callable-d6be692c-4a49-4116-aac2-acbba712(...))\",\"_\",\"_\",\"_\",\"_\",\"_\",\"subgraph_callable-45bb7dbd-a6cc-4e78-9bf7-c5bfa80b(subgraph_callable-d6be692c-4a49-4116-aac2-acbba712(...))\",\"subgraph_callable-45bb7dbd-a6cc-4e78-9bf7-c5bfa80b(subgraph_callable-d6be692c-4a49-4116-aac2-acbba712(...))\",\"subgraph_callable-45bb7dbd-a6cc-4e78-9bf7-c5bfa80b(subgraph_callable-d6be692c-4a49-4116-aac2-acbba712(...))\",\"subgraph_callable-45bb7dbd-a6cc-4e78-9bf7-c5bfa80b(subgraph_callable-d6be692c-4a49-4116-aac2-acbba712(...))\",\"subgraph_callable-45bb7dbd-a6cc-4e78-9bf7-c5bfa80b(subgraph_callable-d6be692c-4a49-4116-aac2-acbba712(...))\",\"_\",\"subgraph_callable-45bb7dbd-a6cc-4e78-9bf7-c5bfa80b(subgraph_callable-d6be692c-4a49-4116-aac2-acbba712(...))\",\"_\",\"subgraph_callable-45bb7dbd-a6cc-4e78-9bf7-c5bfa80b(subgraph_callable-d6be692c-4a49-4116-aac2-acbba712(...))\",\"_\",\"subgraph_callable-45bb7dbd-a6cc-4e78-9bf7-c5bfa80b(subgraph_callable-d6be692c-4a49-4116-aac2-acbba712(...))\",\"_\",\"_\",\"_\",\"subgraph_callable-45bb7dbd-a6cc-4e78-9bf7-c5bfa80b(subgraph_callable-d6be692c-4a49-4116-aac2-acbba712(...))\",\"subgraph_callable-45bb7dbd-a6cc-4e78-9bf7-c5bfa80b(subgraph_callable-d6be692c-4a49-4116-aac2-acbba712(...))\",\"subgraph_callable-45bb7dbd-a6cc-4e78-9bf7-c5bfa80b(subgraph_callable-d6be692c-4a49-4116-aac2-acbba712(...))\",\"_\",\"subgraph_callable-45bb7dbd-a6cc-4e78-9bf7-c5bfa80b(subgraph_callable-d6be692c-4a49-4116-aac2-acbba712(...))\",\"_\",\"subgraph_callable-45bb7dbd-a6cc-4e78-9bf7-c5bfa80b(subgraph_callable-d6be692c-4a49-4116-aac2-acbba712(...))\",\"_\",\"subgraph_callable-45bb7dbd-a6cc-4e78-9bf7-c5bfa80b(subgraph_callable-d6be692c-4a49-4116-aac2-acbba712(...))\",\"_\",\"subgraph_callable-45bb7dbd-a6cc-4e78-9bf7-c5bfa80b(subgraph_callable-d6be692c-4a49-4116-aac2-acbba712(...))\",\"_\",\"_\",\"_\",\"_\",\"subgraph_callable-45bb7dbd-a6cc-4e78-9bf7-c5bfa80b(subgraph_callable-d6be692c-4a49-4116-aac2-acbba712(...))\",\"subgraph_callable-45bb7dbd-a6cc-4e78-9bf7-c5bfa80b(subgraph_callable-d6be692c-4a49-4116-aac2-acbba712(...))\",\"subgraph_callable-45bb7dbd-a6cc-4e78-9bf7-c5bfa80b(subgraph_callable-d6be692c-4a49-4116-aac2-acbba712(...))\",\"_\",\"subgraph_callable-45bb7dbd-a6cc-4e78-9bf7-c5bfa80b(subgraph_callable-d6be692c-4a49-4116-aac2-acbba712(...))\",\"subgraph_callable-45bb7dbd-a6cc-4e78-9bf7-c5bfa80b(subgraph_callable-d6be692c-4a49-4116-aac2-acbba712(...))\",\"_\",\"_\",\"subgraph_callable-45bb7dbd-a6cc-4e78-9bf7-c5bfa80b(subgraph_callable-d6be692c-4a49-4116-aac2-acbba712(...))\",\"subgraph_callable-45bb7dbd-a6cc-4e78-9bf7-c5bfa80b(subgraph_callable-d6be692c-4a49-4116-aac2-acbba712(...))\",\"_\",\"subgraph_callable-45bb7dbd-a6cc-4e78-9bf7-c5bfa80b(subgraph_callable-d6be692c-4a49-4116-aac2-acbba712(...))\",\"_\",\"subgraph_callable-45bb7dbd-a6cc-4e78-9bf7-c5bfa80b(subgraph_callable-d6be692c-4a49-4116-aac2-acbba712(...))\",\"_\",\"_\",\"subgraph_callable-45bb7dbd-a6cc-4e78-9bf7-c5bfa80b(subgraph_callable-d6be692c-4a49-4116-aac2-acbba712(...))\",\"subgraph_callable-45bb7dbd-a6cc-4e78-9bf7-c5bfa80b(subgraph_callable-d6be692c-4a49-4116-aac2-acbba712(...))\",\"_\",\"subgraph_callable-45bb7dbd-a6cc-4e78-9bf7-c5bfa80b(subgraph_callable-d6be692c-4a49-4116-aac2-acbba712(...))\",\"_\",\"mean_combine([_, _])\",\"mean_agg([_, _])\",\"subgraph_callable-45bb7dbd-a6cc-4e78-9bf7-c5bfa80b(subgraph_callable-d6be692c-4a49-4116-aac2-acbba712(...))\",\"_\",\"mean_combine([_, _])\",\"mean_agg([_, _])\",\"subgraph_callable-45bb7dbd-a6cc-4e78-9bf7-c5bfa80b(subgraph_callable-d6be692c-4a49-4116-aac2-acbba712(...))\",\"_\",\"_\",\"mean_combine([_, _])\",\"mean_combine([_, _])\",\"mean_agg([_, _])\",\"subgraph_callable-45bb7dbd-a6cc-4e78-9bf7-c5bfa80b(subgraph_callable-d6be692c-4a49-4116-aac2-acbba712(...))\",\"mean_agg([_, _])\",\"subgraph_callable-45bb7dbd-a6cc-4e78-9bf7-c5bfa80b(subgraph_callable-d6be692c-4a49-4116-aac2-acbba712(...))\",\"_\",\"_\",\"mean_combine([_, _])\",\"mean_combine([_, _])\",\"mean_agg([_, _])\",\"mean_agg([_, _])\",\"subgraph_callable-45bb7dbd-a6cc-4e78-9bf7-c5bfa80b(subgraph_callable-d6be692c-4a49-4116-aac2-acbba712(...))\",\"subgraph_callable-45bb7dbd-a6cc-4e78-9bf7-c5bfa80b(subgraph_callable-d6be692c-4a49-4116-aac2-acbba712(...))\",\"_\",\"mean_combine([_, _])\",\"mean_agg([_, _])\",\"_\",\"subgraph_callable-45bb7dbd-a6cc-4e78-9bf7-c5bfa80b(subgraph_callable-d6be692c-4a49-4116-aac2-acbba712(...))\",\"_\",\"mean_combine([_, _])\",\"_\",\"_\",\"mean_combine([_, _])\",\"mean_agg([_, _])\",\"mean_combine([_, _])\",\"mean_combine([_, _])\",\"mean_agg([_, _])\",\"subgraph_callable-45bb7dbd-a6cc-4e78-9bf7-c5bfa80b(subgraph_callable-d6be692c-4a49-4116-aac2-acbba712(...))\",\"mean_agg([_, _])\",\"mean_agg([_, _])\",\"subgraph_callable-45bb7dbd-a6cc-4e78-9bf7-c5bfa80b(subgraph_callable-d6be692c-4a49-4116-aac2-acbba712(...))\",\"_\",\"subgraph_callable-45bb7dbd-a6cc-4e78-9bf7-c5bfa80b(subgraph_callable-d6be692c-4a49-4116-aac2-acbba712(...))\",\"subgraph_callable-45bb7dbd-a6cc-4e78-9bf7-c5bfa80b(subgraph_callable-d6be692c-4a49-4116-aac2-acbba712(...))\",\"mean_combine([_, _])\",\"_\",\"mean_combine([_, _])\",\"mean_agg([_, _])\",\"subgraph_callable-45bb7dbd-a6cc-4e78-9bf7-c5bfa80b(subgraph_callable-d6be692c-4a49-4116-aac2-acbba712(...))\",\"mean_agg([_, _])\",\"_\",\"subgraph_callable-45bb7dbd-a6cc-4e78-9bf7-c5bfa80b(subgraph_callable-d6be692c-4a49-4116-aac2-acbba712(...))\",\"mean_combine([_, _])\",\"mean_agg([_, _])\",\"subgraph_callable-45bb7dbd-a6cc-4e78-9bf7-c5bfa80b(subgraph_callable-d6be692c-4a49-4116-aac2-acbba712(...))\",\"_\",\"mean_combine([_, _])\",\"mean_agg([_, _])\",\"_\",\"subgraph_callable-45bb7dbd-a6cc-4e78-9bf7-c5bfa80b(subgraph_callable-d6be692c-4a49-4116-aac2-acbba712(...))\",\"mean_combine([_, _])\",\"mean_agg([_, _])\",\"subgraph_callable-45bb7dbd-a6cc-4e78-9bf7-c5bfa80b(subgraph_callable-d6be692c-4a49-4116-aac2-acbba712(...))\",\"_\",\"mean_combine([_, _])\",\"mean_agg([_, _])\",\"subgraph_callable-45bb7dbd-a6cc-4e78-9bf7-c5bfa80b(subgraph_callable-d6be692c-4a49-4116-aac2-acbba712(...))\",\"_\",\"mean_combine([_, _])\",\"mean_agg([_, _])\",\"subgraph_callable-45bb7dbd-a6cc-4e78-9bf7-c5bfa80b(subgraph_callable-d6be692c-4a49-4116-aac2-acbba712(...))\",\"_\",\"mean_combine([_, _])\",\"mean_agg([_, _])\",\"_\",\"subgraph_callable-45bb7dbd-a6cc-4e78-9bf7-c5bfa80b(subgraph_callable-d6be692c-4a49-4116-aac2-acbba712(...))\",\"mean_combine([_, _])\",\"_\",\"_\",\"mean_agg([_, _])\",\"mean_combine([_, _])\",\"mean_combine([_, _])\",\"subgraph_callable-45bb7dbd-a6cc-4e78-9bf7-c5bfa80b(subgraph_callable-d6be692c-4a49-4116-aac2-acbba712(...))\",\"mean_agg([_, _])\",\"mean_agg([_, _])\",\"_\",\"mean_combine([_, _])\",\"mean_agg([_, _])\",\"_\",\"mean_combine([_, _])\",\"mean_agg([_, _])\",\"_\",\"mean_combine([_, _])\",\"mean_agg([_, _])\",\"_\",\"_\",\"mean_combine([_, _])\",\"mean_combine([_, _])\",\"_\",\"mean_agg([_, _])\",\"mean_agg([_, _])\",\"_\",\"_\",\"mean_combine([_, _])\",\"mean_combine([_, _])\",\"mean_combine([_, _])\",\"mean_agg([_, _])\",\"mean_agg([_, _])\",\"mean_agg([_, _])\",\"_\",\"mean_combine([_, _])\",\"mean_agg([_, _])\",\"_\",\"mean_combine([_, _])\",\"mean_agg([_, _])\",\"_\",\"_\",\"mean_combine([_, _])\",\"mean_combine([_, _])\",\"mean_agg([_, _])\",\"mean_agg([_, _])\",\"_\",\"_\",\"mean_combine([_, _])\",\"mean_combine([_, _])\",\"mean_agg([_, _])\",\"mean_agg([_, _])\"],\"key\":[\"('from-value-frozen_phonon-concatenate-0ba25ca24044c14cd0f13b978557b0c0', 2)\",\"('from-value-frozen_phonon-concatenate-0ba25ca24044c14cd0f13b978557b0c0', 3)\",\"('from-value-frozen_phonon-concatenate-0ba25ca24044c14cd0f13b978557b0c0', 0)\",\"('from-value-frozen_phonon-concatenate-0ba25ca24044c14cd0f13b978557b0c0', 1)\",\"('concatenate-0ba25ca24044c14cd0f13b978557b0c0', 2)\",\"('concatenate-0ba25ca24044c14cd0f13b978557b0c0', 3)\",\"('concatenate-0ba25ca24044c14cd0f13b978557b0c0', 0)\",\"('concatenate-0ba25ca24044c14cd0f13b978557b0c0', 1)\",\"('diffraction_pattern-integrate_fourier_space-mean_chunk-1656a30819b1fa72e2c1e1b10b8818c5', 2, 0, 0)\",\"('diffraction_pattern-integrate_fourier_space-mean_chunk-1656a30819b1fa72e2c1e1b10b8818c5', 2, 1, 1)\",\"('diffraction_pattern-integrate_fourier_space-mean_chunk-1656a30819b1fa72e2c1e1b10b8818c5', 2, 2, 2)\",\"('diffraction_pattern-integrate_fourier_space-mean_chunk-1656a30819b1fa72e2c1e1b10b8818c5', 2, 3, 3)\",\"('diffraction_pattern-integrate_fourier_space-mean_chunk-1656a30819b1fa72e2c1e1b10b8818c5', 2, 4, 4)\",\"('diffraction_pattern-integrate_fourier_space-mean_chunk-1656a30819b1fa72e2c1e1b10b8818c5', 2, 5, 5)\",\"('diffraction_pattern-integrate_fourier_space-mean_chunk-1656a30819b1fa72e2c1e1b10b8818c5', 2, 6, 6)\",\"('diffraction_pattern-integrate_fourier_space-mean_chunk-1656a30819b1fa72e2c1e1b10b8818c5', 2, 0, 1)\",\"('diffraction_pattern-integrate_fourier_space-mean_chunk-1656a30819b1fa72e2c1e1b10b8818c5', 2, 0, 2)\",\"('diffraction_pattern-integrate_fourier_space-mean_chunk-1656a30819b1fa72e2c1e1b10b8818c5', 2, 0, 3)\",\"('diffraction_pattern-integrate_fourier_space-mean_chunk-1656a30819b1fa72e2c1e1b10b8818c5', 2, 0, 4)\",\"('diffraction_pattern-integrate_fourier_space-mean_chunk-1656a30819b1fa72e2c1e1b10b8818c5', 2, 0, 5)\",\"('diffraction_pattern-integrate_fourier_space-mean_chunk-1656a30819b1fa72e2c1e1b10b8818c5', 2, 0, 6)\",\"('diffraction_pattern-integrate_fourier_space-mean_chunk-1656a30819b1fa72e2c1e1b10b8818c5', 3, 0, 0)\",\"('diffraction_pattern-integrate_fourier_space-mean_chunk-1656a30819b1fa72e2c1e1b10b8818c5', 0, 0, 0)\",\"('diffraction_pattern-integrate_fourier_space-mean_chunk-1656a30819b1fa72e2c1e1b10b8818c5', 1, 0, 0)\",\"('mean_chunk-1656a30819b1fa72e2c1e1b10b8818c5', 2, 3, 3)\",\"('mean_chunk-1656a30819b1fa72e2c1e1b10b8818c5', 2, 0, 2)\",\"('mean_chunk-1656a30819b1fa72e2c1e1b10b8818c5', 2, 1, 1)\",\"('diffraction_pattern-integrate_fourier_space-mean_chunk-1656a30819b1fa72e2c1e1b10b8818c5', 1, 1, 1)\",\"('diffraction_pattern-integrate_fourier_space-mean_chunk-1656a30819b1fa72e2c1e1b10b8818c5', 1, 2, 2)\",\"('diffraction_pattern-integrate_fourier_space-mean_chunk-1656a30819b1fa72e2c1e1b10b8818c5', 1, 3, 3)\",\"('mean_chunk-1656a30819b1fa72e2c1e1b10b8818c5', 2, 2, 2)\",\"('mean_chunk-1656a30819b1fa72e2c1e1b10b8818c5', 2, 6, 6)\",\"('mean_chunk-1656a30819b1fa72e2c1e1b10b8818c5', 2, 0, 0)\",\"('diffraction_pattern-integrate_fourier_space-mean_chunk-1656a30819b1fa72e2c1e1b10b8818c5', 1, 4, 4)\",\"('diffraction_pattern-integrate_fourier_space-mean_chunk-1656a30819b1fa72e2c1e1b10b8818c5', 1, 5, 5)\",\"('diffraction_pattern-integrate_fourier_space-mean_chunk-1656a30819b1fa72e2c1e1b10b8818c5', 1, 6, 6)\",\"('mean_chunk-1656a30819b1fa72e2c1e1b10b8818c5', 2, 0, 3)\",\"('mean_chunk-1656a30819b1fa72e2c1e1b10b8818c5', 2, 0, 4)\",\"('diffraction_pattern-integrate_fourier_space-mean_chunk-1656a30819b1fa72e2c1e1b10b8818c5', 1, 0, 1)\",\"('diffraction_pattern-integrate_fourier_space-mean_chunk-1656a30819b1fa72e2c1e1b10b8818c5', 1, 0, 2)\",\"('mean_chunk-1656a30819b1fa72e2c1e1b10b8818c5', 0, 0, 0)\",\"('mean_chunk-1656a30819b1fa72e2c1e1b10b8818c5', 2, 0, 1)\",\"('mean_chunk-1656a30819b1fa72e2c1e1b10b8818c5', 1, 0, 0)\",\"('mean_chunk-1656a30819b1fa72e2c1e1b10b8818c5', 2, 5, 5)\",\"('diffraction_pattern-integrate_fourier_space-mean_chunk-1656a30819b1fa72e2c1e1b10b8818c5', 1, 0, 3)\",\"('mean_chunk-1656a30819b1fa72e2c1e1b10b8818c5', 2, 0, 5)\",\"('mean_chunk-1656a30819b1fa72e2c1e1b10b8818c5', 2, 4, 4)\",\"('diffraction_pattern-integrate_fourier_space-mean_chunk-1656a30819b1fa72e2c1e1b10b8818c5', 1, 0, 4)\",\"('mean_combine-partial-dfc8ba217ea2feab91c474f12ce0522c', 0, 0, 0)\",\"('diffraction_pattern-integrate_fourier_space-mean_chunk-1656a30819b1fa72e2c1e1b10b8818c5', 1, 0, 5)\",\"('diffraction_pattern-integrate_fourier_space-mean_chunk-1656a30819b1fa72e2c1e1b10b8818c5', 1, 0, 6)\",\"('diffraction_pattern-integrate_fourier_space-mean_chunk-1656a30819b1fa72e2c1e1b10b8818c5', 1, 1, 0)\",\"('diffraction_pattern-integrate_fourier_space-mean_chunk-1656a30819b1fa72e2c1e1b10b8818c5', 1, 1, 2)\",\"('mean_chunk-1656a30819b1fa72e2c1e1b10b8818c5', 3, 0, 0)\",\"('mean_chunk-1656a30819b1fa72e2c1e1b10b8818c5', 2, 0, 6)\",\"('mean_combine-partial-dfc8ba217ea2feab91c474f12ce0522c', 1, 0, 0)\",\"('diffraction_pattern-integrate_fourier_space-mean_chunk-1656a30819b1fa72e2c1e1b10b8818c5', 1, 1, 3)\",\"('mean_agg-aggregate-4cf405068f6d70f81c49dc862cc27b38', 0, 0)\",\"('diffraction_pattern-integrate_fourier_space-mean_chunk-1656a30819b1fa72e2c1e1b10b8818c5', 1, 1, 4)\",\"('mean_chunk-1656a30819b1fa72e2c1e1b10b8818c5', 1, 4, 4)\",\"('diffraction_pattern-integrate_fourier_space-mean_chunk-1656a30819b1fa72e2c1e1b10b8818c5', 1, 1, 5)\",\"('mean_chunk-1656a30819b1fa72e2c1e1b10b8818c5', 1, 3, 3)\",\"('mean_chunk-1656a30819b1fa72e2c1e1b10b8818c5', 1, 6, 6)\",\"('mean_chunk-1656a30819b1fa72e2c1e1b10b8818c5', 1, 1, 1)\",\"('mean_chunk-1656a30819b1fa72e2c1e1b10b8818c5', 1, 2, 2)\",\"('diffraction_pattern-integrate_fourier_space-mean_chunk-1656a30819b1fa72e2c1e1b10b8818c5', 1, 1, 6)\",\"('mean_chunk-1656a30819b1fa72e2c1e1b10b8818c5', 1, 5, 5)\",\"('diffraction_pattern-integrate_fourier_space-mean_chunk-1656a30819b1fa72e2c1e1b10b8818c5', 1, 2, 0)\",\"('diffraction_pattern-integrate_fourier_space-mean_chunk-1656a30819b1fa72e2c1e1b10b8818c5', 1, 2, 1)\",\"('diffraction_pattern-integrate_fourier_space-mean_chunk-1656a30819b1fa72e2c1e1b10b8818c5', 1, 2, 3)\",\"('diffraction_pattern-integrate_fourier_space-mean_chunk-1656a30819b1fa72e2c1e1b10b8818c5', 1, 2, 4)\",\"('mean_chunk-1656a30819b1fa72e2c1e1b10b8818c5', 1, 0, 6)\",\"('mean_chunk-1656a30819b1fa72e2c1e1b10b8818c5', 1, 0, 1)\",\"('mean_chunk-1656a30819b1fa72e2c1e1b10b8818c5', 1, 0, 4)\",\"('diffraction_pattern-integrate_fourier_space-mean_chunk-1656a30819b1fa72e2c1e1b10b8818c5', 1, 2, 5)\",\"('diffraction_pattern-integrate_fourier_space-mean_chunk-1656a30819b1fa72e2c1e1b10b8818c5', 1, 2, 6)\",\"('diffraction_pattern-integrate_fourier_space-mean_chunk-1656a30819b1fa72e2c1e1b10b8818c5', 1, 3, 0)\",\"('mean_chunk-1656a30819b1fa72e2c1e1b10b8818c5', 1, 0, 2)\",\"('mean_chunk-1656a30819b1fa72e2c1e1b10b8818c5', 1, 1, 0)\",\"('mean_chunk-1656a30819b1fa72e2c1e1b10b8818c5', 1, 1, 3)\",\"('mean_chunk-1656a30819b1fa72e2c1e1b10b8818c5', 1, 0, 5)\",\"('mean_chunk-1656a30819b1fa72e2c1e1b10b8818c5', 1, 0, 3)\",\"('diffraction_pattern-integrate_fourier_space-mean_chunk-1656a30819b1fa72e2c1e1b10b8818c5', 1, 3, 1)\",\"('diffraction_pattern-integrate_fourier_space-mean_chunk-1656a30819b1fa72e2c1e1b10b8818c5', 1, 3, 2)\",\"('diffraction_pattern-integrate_fourier_space-mean_chunk-1656a30819b1fa72e2c1e1b10b8818c5', 1, 3, 4)\",\"('diffraction_pattern-integrate_fourier_space-mean_chunk-1656a30819b1fa72e2c1e1b10b8818c5', 1, 3, 5)\",\"('diffraction_pattern-integrate_fourier_space-mean_chunk-1656a30819b1fa72e2c1e1b10b8818c5', 1, 3, 6)\",\"('mean_chunk-1656a30819b1fa72e2c1e1b10b8818c5', 1, 1, 2)\",\"('diffraction_pattern-integrate_fourier_space-mean_chunk-1656a30819b1fa72e2c1e1b10b8818c5', 1, 4, 0)\",\"('mean_chunk-1656a30819b1fa72e2c1e1b10b8818c5', 1, 1, 4)\",\"('diffraction_pattern-integrate_fourier_space-mean_chunk-1656a30819b1fa72e2c1e1b10b8818c5', 1, 4, 1)\",\"('mean_chunk-1656a30819b1fa72e2c1e1b10b8818c5', 1, 2, 1)\",\"('mean_chunk-1656a30819b1fa72e2c1e1b10b8818c5', 1, 1, 5)\",\"('diffraction_pattern-integrate_fourier_space-mean_chunk-1656a30819b1fa72e2c1e1b10b8818c5', 1, 4, 2)\",\"('diffraction_pattern-integrate_fourier_space-mean_chunk-1656a30819b1fa72e2c1e1b10b8818c5', 1, 4, 3)\",\"('mean_chunk-1656a30819b1fa72e2c1e1b10b8818c5', 1, 2, 0)\",\"('diffraction_pattern-integrate_fourier_space-mean_chunk-1656a30819b1fa72e2c1e1b10b8818c5', 1, 4, 5)\",\"('mean_chunk-1656a30819b1fa72e2c1e1b10b8818c5', 1, 2, 4)\",\"('diffraction_pattern-integrate_fourier_space-mean_chunk-1656a30819b1fa72e2c1e1b10b8818c5', 1, 4, 6)\",\"('mean_chunk-1656a30819b1fa72e2c1e1b10b8818c5', 1, 3, 0)\",\"('mean_chunk-1656a30819b1fa72e2c1e1b10b8818c5', 1, 3, 6)\",\"('mean_chunk-1656a30819b1fa72e2c1e1b10b8818c5', 1, 3, 2)\",\"('mean_chunk-1656a30819b1fa72e2c1e1b10b8818c5', 1, 3, 1)\",\"('diffraction_pattern-integrate_fourier_space-mean_chunk-1656a30819b1fa72e2c1e1b10b8818c5', 1, 5, 0)\",\"('mean_chunk-1656a30819b1fa72e2c1e1b10b8818c5', 1, 3, 5)\",\"('mean_chunk-1656a30819b1fa72e2c1e1b10b8818c5', 1, 1, 6)\",\"('mean_chunk-1656a30819b1fa72e2c1e1b10b8818c5', 1, 2, 5)\",\"('mean_chunk-1656a30819b1fa72e2c1e1b10b8818c5', 1, 2, 6)\",\"('diffraction_pattern-integrate_fourier_space-mean_chunk-1656a30819b1fa72e2c1e1b10b8818c5', 1, 5, 1)\",\"('diffraction_pattern-integrate_fourier_space-mean_chunk-1656a30819b1fa72e2c1e1b10b8818c5', 1, 5, 2)\",\"('diffraction_pattern-integrate_fourier_space-mean_chunk-1656a30819b1fa72e2c1e1b10b8818c5', 1, 5, 3)\",\"('diffraction_pattern-integrate_fourier_space-mean_chunk-1656a30819b1fa72e2c1e1b10b8818c5', 1, 5, 4)\",\"('diffraction_pattern-integrate_fourier_space-mean_chunk-1656a30819b1fa72e2c1e1b10b8818c5', 1, 5, 6)\",\"('diffraction_pattern-integrate_fourier_space-mean_chunk-1656a30819b1fa72e2c1e1b10b8818c5', 1, 6, 0)\",\"('mean_chunk-1656a30819b1fa72e2c1e1b10b8818c5', 1, 3, 4)\",\"('diffraction_pattern-integrate_fourier_space-mean_chunk-1656a30819b1fa72e2c1e1b10b8818c5', 1, 6, 1)\",\"('mean_chunk-1656a30819b1fa72e2c1e1b10b8818c5', 1, 2, 3)\",\"('mean_chunk-1656a30819b1fa72e2c1e1b10b8818c5', 1, 4, 0)\",\"('diffraction_pattern-integrate_fourier_space-mean_chunk-1656a30819b1fa72e2c1e1b10b8818c5', 1, 6, 2)\",\"('diffraction_pattern-integrate_fourier_space-mean_chunk-1656a30819b1fa72e2c1e1b10b8818c5', 1, 6, 3)\",\"('diffraction_pattern-integrate_fourier_space-mean_chunk-1656a30819b1fa72e2c1e1b10b8818c5', 1, 6, 4)\",\"('mean_chunk-1656a30819b1fa72e2c1e1b10b8818c5', 1, 4, 1)\",\"('diffraction_pattern-integrate_fourier_space-mean_chunk-1656a30819b1fa72e2c1e1b10b8818c5', 1, 6, 5)\",\"('mean_chunk-1656a30819b1fa72e2c1e1b10b8818c5', 1, 4, 3)\",\"('diffraction_pattern-integrate_fourier_space-mean_chunk-1656a30819b1fa72e2c1e1b10b8818c5', 0, 1, 1)\",\"('mean_chunk-1656a30819b1fa72e2c1e1b10b8818c5', 1, 4, 2)\",\"('diffraction_pattern-integrate_fourier_space-mean_chunk-1656a30819b1fa72e2c1e1b10b8818c5', 0, 2, 2)\",\"('mean_chunk-1656a30819b1fa72e2c1e1b10b8818c5', 1, 4, 5)\",\"('diffraction_pattern-integrate_fourier_space-mean_chunk-1656a30819b1fa72e2c1e1b10b8818c5', 0, 3, 3)\",\"('mean_chunk-1656a30819b1fa72e2c1e1b10b8818c5', 1, 4, 6)\",\"('mean_chunk-1656a30819b1fa72e2c1e1b10b8818c5', 1, 5, 6)\",\"('mean_chunk-1656a30819b1fa72e2c1e1b10b8818c5', 1, 5, 1)\",\"('mean_chunk-1656a30819b1fa72e2c1e1b10b8818c5', 1, 6, 0)\",\"('mean_chunk-1656a30819b1fa72e2c1e1b10b8818c5', 1, 5, 4)\",\"('mean_chunk-1656a30819b1fa72e2c1e1b10b8818c5', 1, 6, 1)\",\"('mean_chunk-1656a30819b1fa72e2c1e1b10b8818c5', 1, 5, 3)\",\"('mean_chunk-1656a30819b1fa72e2c1e1b10b8818c5', 1, 5, 0)\",\"('mean_chunk-1656a30819b1fa72e2c1e1b10b8818c5', 1, 5, 2)\",\"('diffraction_pattern-integrate_fourier_space-mean_chunk-1656a30819b1fa72e2c1e1b10b8818c5', 0, 4, 4)\",\"('diffraction_pattern-integrate_fourier_space-mean_chunk-1656a30819b1fa72e2c1e1b10b8818c5', 0, 5, 5)\",\"('diffraction_pattern-integrate_fourier_space-mean_chunk-1656a30819b1fa72e2c1e1b10b8818c5', 0, 6, 6)\",\"('diffraction_pattern-integrate_fourier_space-mean_chunk-1656a30819b1fa72e2c1e1b10b8818c5', 0, 0, 1)\",\"('diffraction_pattern-integrate_fourier_space-mean_chunk-1656a30819b1fa72e2c1e1b10b8818c5', 0, 0, 2)\",\"('diffraction_pattern-integrate_fourier_space-mean_chunk-1656a30819b1fa72e2c1e1b10b8818c5', 0, 0, 3)\",\"('diffraction_pattern-integrate_fourier_space-mean_chunk-1656a30819b1fa72e2c1e1b10b8818c5', 0, 0, 4)\",\"('diffraction_pattern-integrate_fourier_space-mean_chunk-1656a30819b1fa72e2c1e1b10b8818c5', 0, 0, 5)\",\"('diffraction_pattern-integrate_fourier_space-mean_chunk-1656a30819b1fa72e2c1e1b10b8818c5', 0, 0, 6)\",\"('mean_chunk-1656a30819b1fa72e2c1e1b10b8818c5', 1, 6, 3)\",\"('mean_chunk-1656a30819b1fa72e2c1e1b10b8818c5', 1, 6, 2)\",\"('mean_chunk-1656a30819b1fa72e2c1e1b10b8818c5', 1, 6, 4)\",\"('mean_chunk-1656a30819b1fa72e2c1e1b10b8818c5', 1, 6, 5)\",\"('diffraction_pattern-integrate_fourier_space-mean_chunk-1656a30819b1fa72e2c1e1b10b8818c5', 0, 1, 0)\",\"('diffraction_pattern-integrate_fourier_space-mean_chunk-1656a30819b1fa72e2c1e1b10b8818c5', 0, 1, 2)\",\"('diffraction_pattern-integrate_fourier_space-mean_chunk-1656a30819b1fa72e2c1e1b10b8818c5', 0, 1, 3)\",\"('diffraction_pattern-integrate_fourier_space-mean_chunk-1656a30819b1fa72e2c1e1b10b8818c5', 0, 1, 4)\",\"('mean_chunk-1656a30819b1fa72e2c1e1b10b8818c5', 0, 3, 3)\",\"('mean_chunk-1656a30819b1fa72e2c1e1b10b8818c5', 0, 2, 2)\",\"('mean_chunk-1656a30819b1fa72e2c1e1b10b8818c5', 0, 1, 1)\",\"('mean_combine-partial-dfc8ba217ea2feab91c474f12ce0522c', 0, 3, 3)\",\"('mean_combine-partial-dfc8ba217ea2feab91c474f12ce0522c', 0, 2, 2)\",\"('mean_combine-partial-dfc8ba217ea2feab91c474f12ce0522c', 0, 1, 1)\",\"('diffraction_pattern-integrate_fourier_space-mean_chunk-1656a30819b1fa72e2c1e1b10b8818c5', 0, 1, 5)\",\"('diffraction_pattern-integrate_fourier_space-mean_chunk-1656a30819b1fa72e2c1e1b10b8818c5', 0, 1, 6)\",\"('mean_chunk-1656a30819b1fa72e2c1e1b10b8818c5', 0, 5, 5)\",\"('diffraction_pattern-integrate_fourier_space-mean_chunk-1656a30819b1fa72e2c1e1b10b8818c5', 0, 2, 0)\",\"('mean_combine-partial-dfc8ba217ea2feab91c474f12ce0522c', 0, 5, 5)\",\"('diffraction_pattern-integrate_fourier_space-mean_chunk-1656a30819b1fa72e2c1e1b10b8818c5', 0, 2, 1)\",\"('mean_chunk-1656a30819b1fa72e2c1e1b10b8818c5', 0, 0, 2)\",\"('mean_chunk-1656a30819b1fa72e2c1e1b10b8818c5', 0, 6, 6)\",\"('mean_combine-partial-dfc8ba217ea2feab91c474f12ce0522c', 0, 0, 2)\",\"('mean_combine-partial-dfc8ba217ea2feab91c474f12ce0522c', 0, 6, 6)\",\"('mean_chunk-1656a30819b1fa72e2c1e1b10b8818c5', 0, 4, 4)\",\"('diffraction_pattern-integrate_fourier_space-mean_chunk-1656a30819b1fa72e2c1e1b10b8818c5', 0, 2, 3)\",\"('diffraction_pattern-integrate_fourier_space-mean_chunk-1656a30819b1fa72e2c1e1b10b8818c5', 0, 2, 4)\",\"('mean_chunk-1656a30819b1fa72e2c1e1b10b8818c5', 0, 0, 6)\",\"('mean_combine-partial-dfc8ba217ea2feab91c474f12ce0522c', 0, 4, 4)\",\"('mean_chunk-1656a30819b1fa72e2c1e1b10b8818c5', 0, 0, 3)\",\"('mean_chunk-1656a30819b1fa72e2c1e1b10b8818c5', 0, 1, 2)\",\"('mean_chunk-1656a30819b1fa72e2c1e1b10b8818c5', 0, 0, 5)\",\"('mean_chunk-1656a30819b1fa72e2c1e1b10b8818c5', 0, 1, 4)\",\"('mean_chunk-1656a30819b1fa72e2c1e1b10b8818c5', 0, 0, 1)\",\"('mean_combine-partial-dfc8ba217ea2feab91c474f12ce0522c', 0, 0, 6)\",\"('diffraction_pattern-integrate_fourier_space-mean_chunk-1656a30819b1fa72e2c1e1b10b8818c5', 0, 2, 5)\",\"('mean_combine-partial-dfc8ba217ea2feab91c474f12ce0522c', 0, 0, 3)\",\"('mean_combine-partial-dfc8ba217ea2feab91c474f12ce0522c', 0, 1, 2)\",\"('mean_chunk-1656a30819b1fa72e2c1e1b10b8818c5', 0, 1, 3)\",\"('mean_chunk-1656a30819b1fa72e2c1e1b10b8818c5', 0, 0, 4)\",\"('mean_combine-partial-dfc8ba217ea2feab91c474f12ce0522c', 0, 0, 5)\",\"('mean_combine-partial-dfc8ba217ea2feab91c474f12ce0522c', 0, 1, 4)\",\"('mean_combine-partial-dfc8ba217ea2feab91c474f12ce0522c', 0, 0, 1)\",\"('diffraction_pattern-integrate_fourier_space-mean_chunk-1656a30819b1fa72e2c1e1b10b8818c5', 0, 2, 6)\",\"('mean_chunk-1656a30819b1fa72e2c1e1b10b8818c5', 0, 1, 0)\",\"('diffraction_pattern-integrate_fourier_space-mean_chunk-1656a30819b1fa72e2c1e1b10b8818c5', 0, 3, 0)\",\"('diffraction_pattern-integrate_fourier_space-mean_chunk-1656a30819b1fa72e2c1e1b10b8818c5', 0, 3, 1)\",\"('mean_combine-partial-dfc8ba217ea2feab91c474f12ce0522c', 0, 1, 3)\",\"('mean_combine-partial-dfc8ba217ea2feab91c474f12ce0522c', 0, 0, 4)\",\"('diffraction_pattern-integrate_fourier_space-mean_chunk-1656a30819b1fa72e2c1e1b10b8818c5', 0, 3, 2)\",\"('diffraction_pattern-integrate_fourier_space-mean_chunk-1656a30819b1fa72e2c1e1b10b8818c5', 0, 3, 4)\",\"('diffraction_pattern-integrate_fourier_space-mean_chunk-1656a30819b1fa72e2c1e1b10b8818c5', 0, 3, 5)\",\"('mean_combine-partial-dfc8ba217ea2feab91c474f12ce0522c', 0, 1, 0)\",\"('diffraction_pattern-integrate_fourier_space-mean_chunk-1656a30819b1fa72e2c1e1b10b8818c5', 0, 3, 6)\",\"('diffraction_pattern-integrate_fourier_space-mean_chunk-1656a30819b1fa72e2c1e1b10b8818c5', 0, 4, 0)\",\"('diffraction_pattern-integrate_fourier_space-mean_chunk-1656a30819b1fa72e2c1e1b10b8818c5', 0, 4, 1)\",\"('mean_chunk-1656a30819b1fa72e2c1e1b10b8818c5', 0, 1, 5)\",\"('mean_combine-partial-dfc8ba217ea2feab91c474f12ce0522c', 0, 1, 5)\",\"('diffraction_pattern-integrate_fourier_space-mean_chunk-1656a30819b1fa72e2c1e1b10b8818c5', 0, 4, 2)\",\"('mean_chunk-1656a30819b1fa72e2c1e1b10b8818c5', 0, 2, 4)\",\"('mean_chunk-1656a30819b1fa72e2c1e1b10b8818c5', 0, 2, 0)\",\"('mean_combine-partial-dfc8ba217ea2feab91c474f12ce0522c', 0, 2, 4)\",\"('mean_combine-partial-dfc8ba217ea2feab91c474f12ce0522c', 0, 2, 0)\",\"('diffraction_pattern-integrate_fourier_space-mean_chunk-1656a30819b1fa72e2c1e1b10b8818c5', 0, 4, 3)\",\"('diffraction_pattern-integrate_fourier_space-mean_chunk-1656a30819b1fa72e2c1e1b10b8818c5', 0, 4, 5)\",\"('mean_chunk-1656a30819b1fa72e2c1e1b10b8818c5', 0, 1, 6)\",\"('mean_chunk-1656a30819b1fa72e2c1e1b10b8818c5', 0, 2, 3)\",\"('mean_chunk-1656a30819b1fa72e2c1e1b10b8818c5', 0, 2, 1)\",\"('mean_combine-partial-dfc8ba217ea2feab91c474f12ce0522c', 0, 1, 6)\",\"('mean_chunk-1656a30819b1fa72e2c1e1b10b8818c5', 0, 3, 0)\",\"('mean_combine-partial-dfc8ba217ea2feab91c474f12ce0522c', 0, 2, 3)\",\"('mean_combine-partial-dfc8ba217ea2feab91c474f12ce0522c', 0, 2, 1)\",\"('diffraction_pattern-integrate_fourier_space-mean_chunk-1656a30819b1fa72e2c1e1b10b8818c5', 0, 4, 6)\",\"('mean_combine-partial-dfc8ba217ea2feab91c474f12ce0522c', 0, 3, 0)\",\"('diffraction_pattern-integrate_fourier_space-mean_chunk-1656a30819b1fa72e2c1e1b10b8818c5', 0, 5, 0)\",\"('mean_chunk-1656a30819b1fa72e2c1e1b10b8818c5', 0, 2, 6)\",\"('diffraction_pattern-integrate_fourier_space-mean_chunk-1656a30819b1fa72e2c1e1b10b8818c5', 0, 5, 1)\",\"('mean_chunk-1656a30819b1fa72e2c1e1b10b8818c5', 0, 2, 5)\",\"('mean_chunk-1656a30819b1fa72e2c1e1b10b8818c5', 0, 3, 2)\",\"('diffraction_pattern-integrate_fourier_space-mean_chunk-1656a30819b1fa72e2c1e1b10b8818c5', 0, 5, 2)\",\"('mean_combine-partial-dfc8ba217ea2feab91c474f12ce0522c', 0, 2, 6)\",\"('mean_combine-partial-dfc8ba217ea2feab91c474f12ce0522c', 0, 2, 5)\",\"('mean_combine-partial-dfc8ba217ea2feab91c474f12ce0522c', 0, 3, 2)\",\"('diffraction_pattern-integrate_fourier_space-mean_chunk-1656a30819b1fa72e2c1e1b10b8818c5', 0, 5, 3)\",\"('diffraction_pattern-integrate_fourier_space-mean_chunk-1656a30819b1fa72e2c1e1b10b8818c5', 0, 5, 4)\",\"('diffraction_pattern-integrate_fourier_space-mean_chunk-1656a30819b1fa72e2c1e1b10b8818c5', 0, 5, 6)\",\"('mean_chunk-1656a30819b1fa72e2c1e1b10b8818c5', 0, 3, 6)\",\"('mean_chunk-1656a30819b1fa72e2c1e1b10b8818c5', 0, 3, 4)\",\"('mean_chunk-1656a30819b1fa72e2c1e1b10b8818c5', 0, 4, 0)\",\"('mean_chunk-1656a30819b1fa72e2c1e1b10b8818c5', 0, 3, 1)\",\"('mean_chunk-1656a30819b1fa72e2c1e1b10b8818c5', 0, 3, 5)\",\"('mean_combine-partial-dfc8ba217ea2feab91c474f12ce0522c', 0, 3, 6)\",\"('mean_combine-partial-dfc8ba217ea2feab91c474f12ce0522c', 0, 3, 4)\",\"('mean_combine-partial-dfc8ba217ea2feab91c474f12ce0522c', 0, 4, 0)\",\"('mean_combine-partial-dfc8ba217ea2feab91c474f12ce0522c', 0, 3, 1)\",\"('mean_combine-partial-dfc8ba217ea2feab91c474f12ce0522c', 0, 3, 5)\",\"('diffraction_pattern-integrate_fourier_space-mean_chunk-1656a30819b1fa72e2c1e1b10b8818c5', 0, 6, 0)\",\"('mean_chunk-1656a30819b1fa72e2c1e1b10b8818c5', 0, 4, 1)\",\"('diffraction_pattern-integrate_fourier_space-mean_chunk-1656a30819b1fa72e2c1e1b10b8818c5', 0, 6, 1)\",\"('diffraction_pattern-integrate_fourier_space-mean_chunk-1656a30819b1fa72e2c1e1b10b8818c5', 0, 6, 2)\",\"('diffraction_pattern-integrate_fourier_space-mean_chunk-1656a30819b1fa72e2c1e1b10b8818c5', 0, 6, 3)\",\"('diffraction_pattern-integrate_fourier_space-mean_chunk-1656a30819b1fa72e2c1e1b10b8818c5', 0, 6, 4)\",\"('mean_combine-partial-dfc8ba217ea2feab91c474f12ce0522c', 0, 4, 1)\",\"('diffraction_pattern-integrate_fourier_space-mean_chunk-1656a30819b1fa72e2c1e1b10b8818c5', 0, 6, 5)\",\"('mean_chunk-1656a30819b1fa72e2c1e1b10b8818c5', 0, 4, 3)\",\"('mean_combine-partial-dfc8ba217ea2feab91c474f12ce0522c', 0, 4, 3)\",\"('diffraction_pattern-integrate_fourier_space-mean_chunk-1656a30819b1fa72e2c1e1b10b8818c5', 3, 1, 1)\",\"('mean_chunk-1656a30819b1fa72e2c1e1b10b8818c5', 0, 4, 5)\",\"('mean_chunk-1656a30819b1fa72e2c1e1b10b8818c5', 0, 4, 2)\",\"('mean_combine-partial-dfc8ba217ea2feab91c474f12ce0522c', 0, 4, 5)\",\"('mean_combine-partial-dfc8ba217ea2feab91c474f12ce0522c', 0, 4, 2)\",\"('diffraction_pattern-integrate_fourier_space-mean_chunk-1656a30819b1fa72e2c1e1b10b8818c5', 3, 2, 2)\",\"('diffraction_pattern-integrate_fourier_space-mean_chunk-1656a30819b1fa72e2c1e1b10b8818c5', 3, 3, 3)\",\"('mean_chunk-1656a30819b1fa72e2c1e1b10b8818c5', 0, 5, 0)\",\"('mean_combine-partial-dfc8ba217ea2feab91c474f12ce0522c', 0, 5, 0)\",\"('diffraction_pattern-integrate_fourier_space-mean_chunk-1656a30819b1fa72e2c1e1b10b8818c5', 3, 4, 4)\",\"('mean_chunk-1656a30819b1fa72e2c1e1b10b8818c5', 0, 4, 6)\",\"('mean_chunk-1656a30819b1fa72e2c1e1b10b8818c5', 0, 5, 2)\",\"('mean_combine-partial-dfc8ba217ea2feab91c474f12ce0522c', 0, 4, 6)\",\"('mean_combine-partial-dfc8ba217ea2feab91c474f12ce0522c', 0, 5, 2)\",\"('diffraction_pattern-integrate_fourier_space-mean_chunk-1656a30819b1fa72e2c1e1b10b8818c5', 3, 5, 5)\",\"('diffraction_pattern-integrate_fourier_space-mean_chunk-1656a30819b1fa72e2c1e1b10b8818c5', 3, 6, 6)\",\"('mean_chunk-1656a30819b1fa72e2c1e1b10b8818c5', 0, 5, 6)\",\"('mean_combine-partial-dfc8ba217ea2feab91c474f12ce0522c', 0, 5, 6)\",\"('diffraction_pattern-integrate_fourier_space-mean_chunk-1656a30819b1fa72e2c1e1b10b8818c5', 3, 0, 1)\",\"('mean_chunk-1656a30819b1fa72e2c1e1b10b8818c5', 0, 5, 4)\",\"('mean_chunk-1656a30819b1fa72e2c1e1b10b8818c5', 0, 6, 1)\",\"('mean_chunk-1656a30819b1fa72e2c1e1b10b8818c5', 0, 5, 1)\",\"('mean_chunk-1656a30819b1fa72e2c1e1b10b8818c5', 0, 5, 3)\",\"('mean_chunk-1656a30819b1fa72e2c1e1b10b8818c5', 0, 6, 3)\",\"('mean_combine-partial-dfc8ba217ea2feab91c474f12ce0522c', 0, 5, 4)\",\"('mean_combine-partial-dfc8ba217ea2feab91c474f12ce0522c', 0, 6, 1)\",\"('mean_combine-partial-dfc8ba217ea2feab91c474f12ce0522c', 0, 5, 1)\",\"('mean_combine-partial-dfc8ba217ea2feab91c474f12ce0522c', 0, 5, 3)\",\"('mean_combine-partial-dfc8ba217ea2feab91c474f12ce0522c', 0, 6, 3)\",\"('diffraction_pattern-integrate_fourier_space-mean_chunk-1656a30819b1fa72e2c1e1b10b8818c5', 3, 0, 2)\",\"('diffraction_pattern-integrate_fourier_space-mean_chunk-1656a30819b1fa72e2c1e1b10b8818c5', 3, 0, 3)\",\"('diffraction_pattern-integrate_fourier_space-mean_chunk-1656a30819b1fa72e2c1e1b10b8818c5', 3, 0, 4)\",\"('mean_chunk-1656a30819b1fa72e2c1e1b10b8818c5', 0, 6, 2)\",\"('diffraction_pattern-integrate_fourier_space-mean_chunk-1656a30819b1fa72e2c1e1b10b8818c5', 3, 0, 5)\",\"('diffraction_pattern-integrate_fourier_space-mean_chunk-1656a30819b1fa72e2c1e1b10b8818c5', 3, 0, 6)\",\"('mean_chunk-1656a30819b1fa72e2c1e1b10b8818c5', 0, 6, 0)\",\"('mean_combine-partial-dfc8ba217ea2feab91c474f12ce0522c', 0, 6, 2)\",\"('mean_chunk-1656a30819b1fa72e2c1e1b10b8818c5', 0, 6, 4)\",\"('mean_combine-partial-dfc8ba217ea2feab91c474f12ce0522c', 0, 6, 0)\",\"('diffraction_pattern-integrate_fourier_space-mean_chunk-1656a30819b1fa72e2c1e1b10b8818c5', 3, 1, 0)\",\"('mean_combine-partial-dfc8ba217ea2feab91c474f12ce0522c', 0, 6, 4)\",\"('mean_chunk-1656a30819b1fa72e2c1e1b10b8818c5', 0, 6, 5)\",\"('diffraction_pattern-integrate_fourier_space-mean_chunk-1656a30819b1fa72e2c1e1b10b8818c5', 3, 1, 2)\",\"('mean_combine-partial-dfc8ba217ea2feab91c474f12ce0522c', 0, 6, 5)\",\"('diffraction_pattern-integrate_fourier_space-mean_chunk-1656a30819b1fa72e2c1e1b10b8818c5', 3, 1, 3)\",\"('diffraction_pattern-integrate_fourier_space-mean_chunk-1656a30819b1fa72e2c1e1b10b8818c5', 3, 1, 4)\",\"('mean_chunk-1656a30819b1fa72e2c1e1b10b8818c5', 3, 1, 1)\",\"('mean_combine-partial-dfc8ba217ea2feab91c474f12ce0522c', 1, 1, 1)\",\"('mean_agg-aggregate-4cf405068f6d70f81c49dc862cc27b38', 1, 1)\",\"('diffraction_pattern-integrate_fourier_space-mean_chunk-1656a30819b1fa72e2c1e1b10b8818c5', 3, 1, 5)\",\"('mean_chunk-1656a30819b1fa72e2c1e1b10b8818c5', 3, 2, 2)\",\"('mean_combine-partial-dfc8ba217ea2feab91c474f12ce0522c', 1, 2, 2)\",\"('mean_agg-aggregate-4cf405068f6d70f81c49dc862cc27b38', 2, 2)\",\"('mean_chunk-1656a30819b1fa72e2c1e1b10b8818c5', 3, 3, 3)\",\"('mean_chunk-1656a30819b1fa72e2c1e1b10b8818c5', 3, 0, 1)\",\"('diffraction_pattern-integrate_fourier_space-mean_chunk-1656a30819b1fa72e2c1e1b10b8818c5', 3, 1, 6)\",\"('mean_combine-partial-dfc8ba217ea2feab91c474f12ce0522c', 1, 3, 3)\",\"('mean_combine-partial-dfc8ba217ea2feab91c474f12ce0522c', 1, 0, 1)\",\"('mean_agg-aggregate-4cf405068f6d70f81c49dc862cc27b38', 3, 3)\",\"('mean_chunk-1656a30819b1fa72e2c1e1b10b8818c5', 3, 4, 4)\",\"('mean_agg-aggregate-4cf405068f6d70f81c49dc862cc27b38', 0, 1)\",\"('diffraction_pattern-integrate_fourier_space-mean_chunk-1656a30819b1fa72e2c1e1b10b8818c5', 3, 2, 0)\",\"('mean_combine-partial-dfc8ba217ea2feab91c474f12ce0522c', 1, 4, 4)\",\"('diffraction_pattern-integrate_fourier_space-mean_chunk-1656a30819b1fa72e2c1e1b10b8818c5', 3, 2, 1)\",\"('mean_chunk-1656a30819b1fa72e2c1e1b10b8818c5', 3, 5, 5)\",\"('mean_agg-aggregate-4cf405068f6d70f81c49dc862cc27b38', 4, 4)\",\"('mean_combine-partial-dfc8ba217ea2feab91c474f12ce0522c', 1, 5, 5)\",\"('diffraction_pattern-integrate_fourier_space-mean_chunk-1656a30819b1fa72e2c1e1b10b8818c5', 3, 2, 3)\",\"('mean_agg-aggregate-4cf405068f6d70f81c49dc862cc27b38', 5, 5)\",\"('mean_chunk-1656a30819b1fa72e2c1e1b10b8818c5', 3, 6, 6)\",\"('diffraction_pattern-integrate_fourier_space-mean_chunk-1656a30819b1fa72e2c1e1b10b8818c5', 3, 2, 4)\",\"('mean_chunk-1656a30819b1fa72e2c1e1b10b8818c5', 3, 0, 6)\",\"('mean_combine-partial-dfc8ba217ea2feab91c474f12ce0522c', 1, 6, 6)\",\"('mean_chunk-1656a30819b1fa72e2c1e1b10b8818c5', 3, 0, 4)\",\"('mean_combine-partial-dfc8ba217ea2feab91c474f12ce0522c', 1, 0, 6)\",\"('mean_agg-aggregate-4cf405068f6d70f81c49dc862cc27b38', 6, 6)\",\"('mean_combine-partial-dfc8ba217ea2feab91c474f12ce0522c', 1, 0, 4)\",\"('mean_chunk-1656a30819b1fa72e2c1e1b10b8818c5', 3, 1, 0)\",\"('mean_agg-aggregate-4cf405068f6d70f81c49dc862cc27b38', 0, 6)\",\"('diffraction_pattern-integrate_fourier_space-mean_chunk-1656a30819b1fa72e2c1e1b10b8818c5', 3, 2, 5)\",\"('mean_agg-aggregate-4cf405068f6d70f81c49dc862cc27b38', 0, 4)\",\"('diffraction_pattern-integrate_fourier_space-mean_chunk-1656a30819b1fa72e2c1e1b10b8818c5', 3, 2, 6)\",\"('diffraction_pattern-integrate_fourier_space-mean_chunk-1656a30819b1fa72e2c1e1b10b8818c5', 3, 3, 0)\",\"('mean_chunk-1656a30819b1fa72e2c1e1b10b8818c5', 3, 0, 5)\",\"('mean_chunk-1656a30819b1fa72e2c1e1b10b8818c5', 3, 0, 2)\",\"('diffraction_pattern-integrate_fourier_space-mean_chunk-1656a30819b1fa72e2c1e1b10b8818c5', 3, 3, 1)\",\"('mean_combine-partial-dfc8ba217ea2feab91c474f12ce0522c', 1, 0, 5)\",\"('mean_combine-partial-dfc8ba217ea2feab91c474f12ce0522c', 1, 0, 2)\",\"('mean_chunk-1656a30819b1fa72e2c1e1b10b8818c5', 3, 1, 4)\",\"('mean_chunk-1656a30819b1fa72e2c1e1b10b8818c5', 3, 0, 3)\",\"('mean_agg-aggregate-4cf405068f6d70f81c49dc862cc27b38', 0, 5)\",\"('mean_agg-aggregate-4cf405068f6d70f81c49dc862cc27b38', 0, 2)\",\"('mean_chunk-1656a30819b1fa72e2c1e1b10b8818c5', 3, 1, 2)\",\"('diffraction_pattern-integrate_fourier_space-mean_chunk-1656a30819b1fa72e2c1e1b10b8818c5', 3, 3, 2)\",\"('mean_combine-partial-dfc8ba217ea2feab91c474f12ce0522c', 1, 0, 3)\",\"('diffraction_pattern-integrate_fourier_space-mean_chunk-1656a30819b1fa72e2c1e1b10b8818c5', 3, 3, 4)\",\"('diffraction_pattern-integrate_fourier_space-mean_chunk-1656a30819b1fa72e2c1e1b10b8818c5', 3, 3, 5)\",\"('diffraction_pattern-integrate_fourier_space-mean_chunk-1656a30819b1fa72e2c1e1b10b8818c5', 3, 3, 6)\",\"('mean_chunk-1656a30819b1fa72e2c1e1b10b8818c5', 3, 1, 3)\",\"('mean_agg-aggregate-4cf405068f6d70f81c49dc862cc27b38', 0, 3)\",\"('diffraction_pattern-integrate_fourier_space-mean_chunk-1656a30819b1fa72e2c1e1b10b8818c5', 3, 4, 0)\",\"('diffraction_pattern-integrate_fourier_space-mean_chunk-1656a30819b1fa72e2c1e1b10b8818c5', 3, 4, 1)\",\"('mean_chunk-1656a30819b1fa72e2c1e1b10b8818c5', 3, 1, 5)\",\"('diffraction_pattern-integrate_fourier_space-mean_chunk-1656a30819b1fa72e2c1e1b10b8818c5', 3, 4, 2)\",\"('mean_chunk-1656a30819b1fa72e2c1e1b10b8818c5', 3, 2, 1)\",\"('diffraction_pattern-integrate_fourier_space-mean_chunk-1656a30819b1fa72e2c1e1b10b8818c5', 3, 4, 3)\",\"('mean_chunk-1656a30819b1fa72e2c1e1b10b8818c5', 3, 2, 0)\",\"('mean_chunk-1656a30819b1fa72e2c1e1b10b8818c5', 3, 1, 6)\",\"('diffraction_pattern-integrate_fourier_space-mean_chunk-1656a30819b1fa72e2c1e1b10b8818c5', 3, 4, 5)\",\"('diffraction_pattern-integrate_fourier_space-mean_chunk-1656a30819b1fa72e2c1e1b10b8818c5', 3, 4, 6)\",\"('mean_chunk-1656a30819b1fa72e2c1e1b10b8818c5', 3, 2, 3)\",\"('diffraction_pattern-integrate_fourier_space-mean_chunk-1656a30819b1fa72e2c1e1b10b8818c5', 3, 5, 0)\",\"('mean_chunk-1656a30819b1fa72e2c1e1b10b8818c5', 3, 2, 4)\",\"('mean_chunk-1656a30819b1fa72e2c1e1b10b8818c5', 3, 3, 4)\",\"('mean_chunk-1656a30819b1fa72e2c1e1b10b8818c5', 3, 2, 5)\",\"('mean_chunk-1656a30819b1fa72e2c1e1b10b8818c5', 3, 3, 0)\",\"('mean_chunk-1656a30819b1fa72e2c1e1b10b8818c5', 3, 3, 1)\",\"('diffraction_pattern-integrate_fourier_space-mean_chunk-1656a30819b1fa72e2c1e1b10b8818c5', 3, 5, 1)\",\"('diffraction_pattern-integrate_fourier_space-mean_chunk-1656a30819b1fa72e2c1e1b10b8818c5', 3, 5, 2)\",\"('diffraction_pattern-integrate_fourier_space-mean_chunk-1656a30819b1fa72e2c1e1b10b8818c5', 3, 5, 3)\",\"('diffraction_pattern-integrate_fourier_space-mean_chunk-1656a30819b1fa72e2c1e1b10b8818c5', 3, 5, 4)\",\"('diffraction_pattern-integrate_fourier_space-mean_chunk-1656a30819b1fa72e2c1e1b10b8818c5', 3, 5, 6)\",\"('mean_chunk-1656a30819b1fa72e2c1e1b10b8818c5', 3, 3, 2)\",\"('diffraction_pattern-integrate_fourier_space-mean_chunk-1656a30819b1fa72e2c1e1b10b8818c5', 3, 6, 0)\",\"('mean_chunk-1656a30819b1fa72e2c1e1b10b8818c5', 3, 3, 5)\",\"('diffraction_pattern-integrate_fourier_space-mean_chunk-1656a30819b1fa72e2c1e1b10b8818c5', 3, 6, 1)\",\"('mean_chunk-1656a30819b1fa72e2c1e1b10b8818c5', 3, 2, 6)\",\"('diffraction_pattern-integrate_fourier_space-mean_chunk-1656a30819b1fa72e2c1e1b10b8818c5', 3, 6, 2)\",\"('mean_chunk-1656a30819b1fa72e2c1e1b10b8818c5', 3, 3, 6)\",\"('mean_chunk-1656a30819b1fa72e2c1e1b10b8818c5', 3, 4, 0)\",\"('mean_chunk-1656a30819b1fa72e2c1e1b10b8818c5', 3, 4, 1)\",\"('diffraction_pattern-integrate_fourier_space-mean_chunk-1656a30819b1fa72e2c1e1b10b8818c5', 3, 6, 3)\",\"('diffraction_pattern-integrate_fourier_space-mean_chunk-1656a30819b1fa72e2c1e1b10b8818c5', 3, 6, 4)\",\"('diffraction_pattern-integrate_fourier_space-mean_chunk-1656a30819b1fa72e2c1e1b10b8818c5', 3, 6, 5)\",\"('mean_chunk-1656a30819b1fa72e2c1e1b10b8818c5', 3, 4, 2)\",\"('diffraction_pattern-integrate_fourier_space-mean_chunk-1656a30819b1fa72e2c1e1b10b8818c5', 2, 1, 0)\",\"('mean_chunk-1656a30819b1fa72e2c1e1b10b8818c5', 3, 5, 0)\",\"('diffraction_pattern-integrate_fourier_space-mean_chunk-1656a30819b1fa72e2c1e1b10b8818c5', 2, 1, 2)\",\"('mean_chunk-1656a30819b1fa72e2c1e1b10b8818c5', 3, 4, 3)\",\"('diffraction_pattern-integrate_fourier_space-mean_chunk-1656a30819b1fa72e2c1e1b10b8818c5', 2, 1, 3)\",\"('mean_chunk-1656a30819b1fa72e2c1e1b10b8818c5', 3, 4, 5)\",\"('diffraction_pattern-integrate_fourier_space-mean_chunk-1656a30819b1fa72e2c1e1b10b8818c5', 2, 1, 4)\",\"('mean_chunk-1656a30819b1fa72e2c1e1b10b8818c5', 3, 5, 1)\",\"('mean_chunk-1656a30819b1fa72e2c1e1b10b8818c5', 3, 5, 6)\",\"('mean_chunk-1656a30819b1fa72e2c1e1b10b8818c5', 3, 5, 4)\",\"('mean_chunk-1656a30819b1fa72e2c1e1b10b8818c5', 3, 5, 3)\",\"('diffraction_pattern-integrate_fourier_space-mean_chunk-1656a30819b1fa72e2c1e1b10b8818c5', 2, 1, 5)\",\"('diffraction_pattern-integrate_fourier_space-mean_chunk-1656a30819b1fa72e2c1e1b10b8818c5', 2, 1, 6)\",\"('diffraction_pattern-integrate_fourier_space-mean_chunk-1656a30819b1fa72e2c1e1b10b8818c5', 2, 2, 0)\",\"('mean_chunk-1656a30819b1fa72e2c1e1b10b8818c5', 3, 4, 6)\",\"('diffraction_pattern-integrate_fourier_space-mean_chunk-1656a30819b1fa72e2c1e1b10b8818c5', 2, 2, 1)\",\"('diffraction_pattern-integrate_fourier_space-mean_chunk-1656a30819b1fa72e2c1e1b10b8818c5', 2, 2, 3)\",\"('mean_chunk-1656a30819b1fa72e2c1e1b10b8818c5', 3, 5, 2)\",\"('mean_chunk-1656a30819b1fa72e2c1e1b10b8818c5', 3, 6, 0)\",\"('diffraction_pattern-integrate_fourier_space-mean_chunk-1656a30819b1fa72e2c1e1b10b8818c5', 2, 2, 4)\",\"('diffraction_pattern-integrate_fourier_space-mean_chunk-1656a30819b1fa72e2c1e1b10b8818c5', 2, 2, 5)\",\"('mean_chunk-1656a30819b1fa72e2c1e1b10b8818c5', 3, 6, 1)\",\"('diffraction_pattern-integrate_fourier_space-mean_chunk-1656a30819b1fa72e2c1e1b10b8818c5', 2, 2, 6)\",\"('mean_chunk-1656a30819b1fa72e2c1e1b10b8818c5', 3, 6, 4)\",\"('diffraction_pattern-integrate_fourier_space-mean_chunk-1656a30819b1fa72e2c1e1b10b8818c5', 2, 3, 0)\",\"('mean_chunk-1656a30819b1fa72e2c1e1b10b8818c5', 3, 6, 5)\",\"('mean_chunk-1656a30819b1fa72e2c1e1b10b8818c5', 3, 6, 3)\",\"('diffraction_pattern-integrate_fourier_space-mean_chunk-1656a30819b1fa72e2c1e1b10b8818c5', 2, 3, 1)\",\"('diffraction_pattern-integrate_fourier_space-mean_chunk-1656a30819b1fa72e2c1e1b10b8818c5', 2, 3, 2)\",\"('mean_chunk-1656a30819b1fa72e2c1e1b10b8818c5', 3, 6, 2)\",\"('diffraction_pattern-integrate_fourier_space-mean_chunk-1656a30819b1fa72e2c1e1b10b8818c5', 2, 3, 4)\",\"('mean_chunk-1656a30819b1fa72e2c1e1b10b8818c5', 2, 1, 0)\",\"('mean_combine-partial-dfc8ba217ea2feab91c474f12ce0522c', 1, 1, 0)\",\"('mean_agg-aggregate-4cf405068f6d70f81c49dc862cc27b38', 1, 0)\",\"('diffraction_pattern-integrate_fourier_space-mean_chunk-1656a30819b1fa72e2c1e1b10b8818c5', 2, 3, 5)\",\"('mean_chunk-1656a30819b1fa72e2c1e1b10b8818c5', 2, 1, 3)\",\"('mean_combine-partial-dfc8ba217ea2feab91c474f12ce0522c', 1, 1, 3)\",\"('mean_agg-aggregate-4cf405068f6d70f81c49dc862cc27b38', 1, 3)\",\"('diffraction_pattern-integrate_fourier_space-mean_chunk-1656a30819b1fa72e2c1e1b10b8818c5', 2, 3, 6)\",\"('mean_chunk-1656a30819b1fa72e2c1e1b10b8818c5', 2, 1, 5)\",\"('mean_chunk-1656a30819b1fa72e2c1e1b10b8818c5', 2, 1, 2)\",\"('mean_combine-partial-dfc8ba217ea2feab91c474f12ce0522c', 1, 1, 5)\",\"('mean_combine-partial-dfc8ba217ea2feab91c474f12ce0522c', 1, 1, 2)\",\"('mean_agg-aggregate-4cf405068f6d70f81c49dc862cc27b38', 1, 5)\",\"('diffraction_pattern-integrate_fourier_space-mean_chunk-1656a30819b1fa72e2c1e1b10b8818c5', 2, 4, 0)\",\"('mean_agg-aggregate-4cf405068f6d70f81c49dc862cc27b38', 1, 2)\",\"('diffraction_pattern-integrate_fourier_space-mean_chunk-1656a30819b1fa72e2c1e1b10b8818c5', 2, 4, 1)\",\"('mean_chunk-1656a30819b1fa72e2c1e1b10b8818c5', 2, 1, 6)\",\"('mean_chunk-1656a30819b1fa72e2c1e1b10b8818c5', 2, 1, 4)\",\"('mean_combine-partial-dfc8ba217ea2feab91c474f12ce0522c', 1, 1, 6)\",\"('mean_combine-partial-dfc8ba217ea2feab91c474f12ce0522c', 1, 1, 4)\",\"('mean_agg-aggregate-4cf405068f6d70f81c49dc862cc27b38', 1, 6)\",\"('mean_agg-aggregate-4cf405068f6d70f81c49dc862cc27b38', 1, 4)\",\"('diffraction_pattern-integrate_fourier_space-mean_chunk-1656a30819b1fa72e2c1e1b10b8818c5', 2, 4, 2)\",\"('diffraction_pattern-integrate_fourier_space-mean_chunk-1656a30819b1fa72e2c1e1b10b8818c5', 2, 4, 3)\",\"('mean_chunk-1656a30819b1fa72e2c1e1b10b8818c5', 2, 2, 1)\",\"('mean_combine-partial-dfc8ba217ea2feab91c474f12ce0522c', 1, 2, 1)\",\"('mean_agg-aggregate-4cf405068f6d70f81c49dc862cc27b38', 2, 1)\",\"('mean_chunk-1656a30819b1fa72e2c1e1b10b8818c5', 2, 2, 3)\",\"('diffraction_pattern-integrate_fourier_space-mean_chunk-1656a30819b1fa72e2c1e1b10b8818c5', 2, 4, 5)\",\"('mean_chunk-1656a30819b1fa72e2c1e1b10b8818c5', 2, 2, 0)\",\"('mean_combine-partial-dfc8ba217ea2feab91c474f12ce0522c', 1, 2, 3)\",\"('mean_chunk-1656a30819b1fa72e2c1e1b10b8818c5', 2, 2, 4)\",\"('mean_chunk-1656a30819b1fa72e2c1e1b10b8818c5', 2, 2, 5)\",\"('mean_combine-partial-dfc8ba217ea2feab91c474f12ce0522c', 1, 2, 0)\",\"('mean_agg-aggregate-4cf405068f6d70f81c49dc862cc27b38', 2, 3)\",\"('mean_combine-partial-dfc8ba217ea2feab91c474f12ce0522c', 1, 2, 4)\",\"('mean_combine-partial-dfc8ba217ea2feab91c474f12ce0522c', 1, 2, 5)\",\"('mean_agg-aggregate-4cf405068f6d70f81c49dc862cc27b38', 2, 0)\",\"('diffraction_pattern-integrate_fourier_space-mean_chunk-1656a30819b1fa72e2c1e1b10b8818c5', 2, 4, 6)\",\"('mean_agg-aggregate-4cf405068f6d70f81c49dc862cc27b38', 2, 4)\",\"('mean_agg-aggregate-4cf405068f6d70f81c49dc862cc27b38', 2, 5)\",\"('diffraction_pattern-integrate_fourier_space-mean_chunk-1656a30819b1fa72e2c1e1b10b8818c5', 2, 5, 0)\",\"('mean_chunk-1656a30819b1fa72e2c1e1b10b8818c5', 2, 3, 0)\",\"('diffraction_pattern-integrate_fourier_space-mean_chunk-1656a30819b1fa72e2c1e1b10b8818c5', 2, 5, 1)\",\"('diffraction_pattern-integrate_fourier_space-mean_chunk-1656a30819b1fa72e2c1e1b10b8818c5', 2, 5, 2)\",\"('mean_combine-partial-dfc8ba217ea2feab91c474f12ce0522c', 1, 3, 0)\",\"('mean_chunk-1656a30819b1fa72e2c1e1b10b8818c5', 2, 2, 6)\",\"('mean_combine-partial-dfc8ba217ea2feab91c474f12ce0522c', 1, 2, 6)\",\"('mean_agg-aggregate-4cf405068f6d70f81c49dc862cc27b38', 3, 0)\",\"('diffraction_pattern-integrate_fourier_space-mean_chunk-1656a30819b1fa72e2c1e1b10b8818c5', 2, 5, 3)\",\"('mean_agg-aggregate-4cf405068f6d70f81c49dc862cc27b38', 2, 6)\",\"('mean_chunk-1656a30819b1fa72e2c1e1b10b8818c5', 2, 3, 2)\",\"('diffraction_pattern-integrate_fourier_space-mean_chunk-1656a30819b1fa72e2c1e1b10b8818c5', 2, 5, 4)\",\"('mean_combine-partial-dfc8ba217ea2feab91c474f12ce0522c', 1, 3, 2)\",\"('mean_agg-aggregate-4cf405068f6d70f81c49dc862cc27b38', 3, 2)\",\"('diffraction_pattern-integrate_fourier_space-mean_chunk-1656a30819b1fa72e2c1e1b10b8818c5', 2, 5, 6)\",\"('mean_chunk-1656a30819b1fa72e2c1e1b10b8818c5', 2, 3, 4)\",\"('mean_combine-partial-dfc8ba217ea2feab91c474f12ce0522c', 1, 3, 4)\",\"('mean_agg-aggregate-4cf405068f6d70f81c49dc862cc27b38', 3, 4)\",\"('mean_chunk-1656a30819b1fa72e2c1e1b10b8818c5', 2, 3, 1)\",\"('diffraction_pattern-integrate_fourier_space-mean_chunk-1656a30819b1fa72e2c1e1b10b8818c5', 2, 6, 0)\",\"('mean_combine-partial-dfc8ba217ea2feab91c474f12ce0522c', 1, 3, 1)\",\"('mean_agg-aggregate-4cf405068f6d70f81c49dc862cc27b38', 3, 1)\",\"('diffraction_pattern-integrate_fourier_space-mean_chunk-1656a30819b1fa72e2c1e1b10b8818c5', 2, 6, 1)\",\"('mean_chunk-1656a30819b1fa72e2c1e1b10b8818c5', 2, 3, 5)\",\"('mean_combine-partial-dfc8ba217ea2feab91c474f12ce0522c', 1, 3, 5)\",\"('mean_agg-aggregate-4cf405068f6d70f81c49dc862cc27b38', 3, 5)\",\"('diffraction_pattern-integrate_fourier_space-mean_chunk-1656a30819b1fa72e2c1e1b10b8818c5', 2, 6, 2)\",\"('mean_chunk-1656a30819b1fa72e2c1e1b10b8818c5', 2, 3, 6)\",\"('mean_combine-partial-dfc8ba217ea2feab91c474f12ce0522c', 1, 3, 6)\",\"('mean_agg-aggregate-4cf405068f6d70f81c49dc862cc27b38', 3, 6)\",\"('diffraction_pattern-integrate_fourier_space-mean_chunk-1656a30819b1fa72e2c1e1b10b8818c5', 2, 6, 3)\",\"('mean_chunk-1656a30819b1fa72e2c1e1b10b8818c5', 2, 4, 0)\",\"('mean_combine-partial-dfc8ba217ea2feab91c474f12ce0522c', 1, 4, 0)\",\"('mean_agg-aggregate-4cf405068f6d70f81c49dc862cc27b38', 4, 0)\",\"('mean_chunk-1656a30819b1fa72e2c1e1b10b8818c5', 2, 4, 3)\",\"('diffraction_pattern-integrate_fourier_space-mean_chunk-1656a30819b1fa72e2c1e1b10b8818c5', 2, 6, 4)\",\"('mean_combine-partial-dfc8ba217ea2feab91c474f12ce0522c', 1, 4, 3)\",\"('mean_chunk-1656a30819b1fa72e2c1e1b10b8818c5', 2, 4, 2)\",\"('mean_chunk-1656a30819b1fa72e2c1e1b10b8818c5', 2, 4, 1)\",\"('mean_agg-aggregate-4cf405068f6d70f81c49dc862cc27b38', 4, 3)\",\"('mean_combine-partial-dfc8ba217ea2feab91c474f12ce0522c', 1, 4, 2)\",\"('mean_combine-partial-dfc8ba217ea2feab91c474f12ce0522c', 1, 4, 1)\",\"('diffraction_pattern-integrate_fourier_space-mean_chunk-1656a30819b1fa72e2c1e1b10b8818c5', 2, 6, 5)\",\"('mean_agg-aggregate-4cf405068f6d70f81c49dc862cc27b38', 4, 2)\",\"('mean_agg-aggregate-4cf405068f6d70f81c49dc862cc27b38', 4, 1)\",\"('mean_chunk-1656a30819b1fa72e2c1e1b10b8818c5', 2, 4, 5)\",\"('mean_combine-partial-dfc8ba217ea2feab91c474f12ce0522c', 1, 4, 5)\",\"('mean_agg-aggregate-4cf405068f6d70f81c49dc862cc27b38', 4, 5)\",\"('mean_chunk-1656a30819b1fa72e2c1e1b10b8818c5', 2, 4, 6)\",\"('mean_combine-partial-dfc8ba217ea2feab91c474f12ce0522c', 1, 4, 6)\",\"('mean_agg-aggregate-4cf405068f6d70f81c49dc862cc27b38', 4, 6)\",\"('mean_chunk-1656a30819b1fa72e2c1e1b10b8818c5', 2, 5, 1)\",\"('mean_combine-partial-dfc8ba217ea2feab91c474f12ce0522c', 1, 5, 1)\",\"('mean_agg-aggregate-4cf405068f6d70f81c49dc862cc27b38', 5, 1)\",\"('mean_chunk-1656a30819b1fa72e2c1e1b10b8818c5', 2, 5, 0)\",\"('mean_chunk-1656a30819b1fa72e2c1e1b10b8818c5', 2, 5, 2)\",\"('mean_combine-partial-dfc8ba217ea2feab91c474f12ce0522c', 1, 5, 0)\",\"('mean_combine-partial-dfc8ba217ea2feab91c474f12ce0522c', 1, 5, 2)\",\"('mean_chunk-1656a30819b1fa72e2c1e1b10b8818c5', 2, 5, 6)\",\"('mean_agg-aggregate-4cf405068f6d70f81c49dc862cc27b38', 5, 2)\",\"('mean_agg-aggregate-4cf405068f6d70f81c49dc862cc27b38', 5, 0)\",\"('mean_chunk-1656a30819b1fa72e2c1e1b10b8818c5', 2, 5, 3)\",\"('mean_chunk-1656a30819b1fa72e2c1e1b10b8818c5', 2, 5, 4)\",\"('mean_combine-partial-dfc8ba217ea2feab91c474f12ce0522c', 1, 5, 6)\",\"('mean_combine-partial-dfc8ba217ea2feab91c474f12ce0522c', 1, 5, 3)\",\"('mean_combine-partial-dfc8ba217ea2feab91c474f12ce0522c', 1, 5, 4)\",\"('mean_agg-aggregate-4cf405068f6d70f81c49dc862cc27b38', 5, 6)\",\"('mean_agg-aggregate-4cf405068f6d70f81c49dc862cc27b38', 5, 4)\",\"('mean_agg-aggregate-4cf405068f6d70f81c49dc862cc27b38', 5, 3)\",\"('mean_chunk-1656a30819b1fa72e2c1e1b10b8818c5', 2, 6, 0)\",\"('mean_combine-partial-dfc8ba217ea2feab91c474f12ce0522c', 1, 6, 0)\",\"('mean_agg-aggregate-4cf405068f6d70f81c49dc862cc27b38', 6, 0)\",\"('mean_chunk-1656a30819b1fa72e2c1e1b10b8818c5', 2, 6, 1)\",\"('mean_combine-partial-dfc8ba217ea2feab91c474f12ce0522c', 1, 6, 1)\",\"('mean_agg-aggregate-4cf405068f6d70f81c49dc862cc27b38', 6, 1)\",\"('mean_chunk-1656a30819b1fa72e2c1e1b10b8818c5', 2, 6, 2)\",\"('mean_chunk-1656a30819b1fa72e2c1e1b10b8818c5', 2, 6, 3)\",\"('mean_combine-partial-dfc8ba217ea2feab91c474f12ce0522c', 1, 6, 2)\",\"('mean_combine-partial-dfc8ba217ea2feab91c474f12ce0522c', 1, 6, 3)\",\"('mean_agg-aggregate-4cf405068f6d70f81c49dc862cc27b38', 6, 2)\",\"('mean_agg-aggregate-4cf405068f6d70f81c49dc862cc27b38', 6, 3)\",\"('mean_chunk-1656a30819b1fa72e2c1e1b10b8818c5', 2, 6, 5)\",\"('mean_chunk-1656a30819b1fa72e2c1e1b10b8818c5', 2, 6, 4)\",\"('mean_combine-partial-dfc8ba217ea2feab91c474f12ce0522c', 1, 6, 5)\",\"('mean_combine-partial-dfc8ba217ea2feab91c474f12ce0522c', 1, 6, 4)\",\"('mean_agg-aggregate-4cf405068f6d70f81c49dc862cc27b38', 6, 5)\",\"('mean_agg-aggregate-4cf405068f6d70f81c49dc862cc27b38', 6, 4)\"],\"width\":[0.0021282999996401486,0.002031800000622752,0.0020322999998825253,0.0019867999999405583,0.0011936999999306863,0.08797060000051715,0.10364419999950769,0.12191549999988638,1.160161099999641,1.1213863000002675,1.1271260999992592,1.1144936999999118,1.261202100000446,1.2495853000000352,1.1559075999994093,1.2425871999994342,1.114912999999433,1.1990314999993643,1.2085184999996272,1.249465599999894,1.3059309000000212,1.2105640999998286,1.1205039999995279,1.126482699999542,0.00756939999973838,0.006718300000102317,0.003621299999394978,1.191956399999981,1.192457199999808,1.1655437999997957,0.034218800000417104,0.005936900000051537,0.003978700000516255,1.101457499999924,1.1558706000005259,1.1457921999999598,0.013848999999936495,0.007984699999724398,1.1486956999997346,1.1809863999997106,0.027581000000282074,0.019553500000256463,0.01638230000025942,0.014609800000471296,1.1673006999999416,0.013923299999987648,0.0042293999995308695,1.1073716000000786,0.02687170000081096,1.146352200000365,1.0901895999995759,1.1391665999999532,1.1949377000000823,0.037040900000647525,0.038960700000643556,0.01667249999991327,1.061785900000359,0.018776099999740836,1.1398305000002438,0.015838600000279257,1.1558992000000217,0.025977199999942968,0.010846900000615278,0.018701499999224325,0.02140400000007503,1.2443616999998994,0.01914050000050338,1.165754300000117,1.0983602999995128,1.3102601000000504,1.1838198999994347,0.01689040000019304,0.011140999999952328,0.005106700000396813,1.18912679999994,1.198620099999971,1.1732396999996126,0.02089460000024701,0.016608699999778764,0.017716599999403115,0.03401730000041425,0.03033580000010261,1.1383344000005309,1.136491300000671,1.198927299999923,1.115122600000177,1.1044934999999896,0.008498700000018289,1.1539738000001307,0.032109099999615864,1.1591918000003716,0.0043188999998164945,0.003980799999226292,1.1997554999998101,1.156024800000523,0.02060299999993731,1.1583659999996598,0.009821099999498983,1.1715366999997059,0.010412699999506003,0.0250661999998556,0.021006699999816192,0.026535799999692244,1.1635733000002801,0.04150519999984681,0.04302670000015496,0.06091279999964172,0.05337210000016057,1.1361186000003727,1.14467760000025,1.1357284000005166,1.1168696000004275,1.108950800000457,1.0942912000000433,0.028060399999958463,1.0935615999997026,0.01724709999962215,0.0350427999992462,1.1679752999998527,1.1394538000004104,1.1407855999996173,0.014161900000544847,1.1112864999995509,0.002054600000519713,1.1974653000006583,0.0033227000003535068,1.1530715999997483,0.013177199999518052,1.1084651000001031,0.021417900000415102,0.012401500000123633,0.012104799999178795,0.017834600000242062,0.029954199999338016,0.03902780000044004,0.05644040000061068,0.05493690000002971,0.055414399999790476,1.1586471000000529,1.1077814000000217,1.1433674999998402,1.1864342999997461,1.115461399999731,1.1540963999996166,1.158791900000324,1.1369595000005575,1.1153918999998496,0.02726390000043466,0.012997200000427256,0.019433200000094075,0.022436799999923096,1.1090917999999874,1.0797867999999653,1.0813032000005478,1.070557799999733,0.007992599999852246,0.003530299999511044,0.006260699999984354,0.017760799999450683,0.019226700000217534,0.036218600000211154,1.0623999999997977,1.1672859999998764,0.011216299999432522,1.1053093000000445,0.012176900000667956,1.1438899999993737,0.013439299999845389,0.011330399999678775,0.012613099999725819,0.010299400000803871,0.028626899999835587,1.10470450000048,1.0436479999998483,0.026962199999616132,0.010346299999582698,0.01018720000047324,0.00995839999995951,0.02164009999978589,0.018849500000214903,0.01763279999977385,0.0177797999995164,1.114578600000641,0.017782499999157153,0.01723409999976866,0.01712749999933294,0.03573880000021745,0.040735700000368524,0.040983500000038475,0.04282350000084989,1.0948545000001104,0.049381499999981315,1.0639264000001276,1.2111494999999195,0.07190099999934318,0.049049899999772606,1.0751403000003847,1.171534099999917,1.1729377999999997,0.044014099999913014,1.1316370999993524,1.130702200000087,1.1413293999994494,0.0015931999996610102,0.008439700000053563,1.2134525999999823,0.017275499999414023,0.013444100000015169,0.00693059999957768,0.008881799999471696,1.1186108000001695,1.1303676999996242,0.021100999999362102,0.01221480000003794,0.007461700000021665,0.009886499999993248,0.016617199999927834,0.01711310000064259,0.02750019999984943,1.1667516999996224,0.032428699999400123,1.1215229999997973,0.020910299999741255,1.2607324999999037,0.019242499999563734,0.0069837000000916305,1.1305429000003642,0.005632199999126897,0.018975300000420248,0.02485640000031708,1.2398702000000412,1.2069310000006226,1.1588646999998673,0.009814900000492344,0.0056355999995503225,0.006266600000344624,0.012562500000058208,0.014390000000275904,0.018330400000195368,0.02585540000018227,0.03763700000035897,0.03237820000049396,0.040346100000533625,1.1855985000001965,0.0668043999994552,1.1103471999995236,1.1390171000002738,1.1041801999999734,1.1723169000006237,0.015305200000511832,1.1472024999993664,0.005644100000608887,0.0065547000003789435,1.1131301000004896,0.016117799999847193,0.01373559999956342,0.0074308999992354074,0.00948190000053728,1.1686177999999927,1.1918473000005179,0.006924899999830814,0.010446600000250328,1.1770306999997047,0.008925299999646086,0.014274199999817938,0.01804290000018227,0.010849700000107987,1.167754999999488,1.2114281999993182,0.009961499999917578,0.0036162000005788286,1.0607543000005535,0.02073370000016439,0.012419499999850814,0.010015100000600796,0.006020300000272982,0.00580679999984568,0.009245500000361062,0.01713090000066586,0.019080899999607936,0.04673579999962385,0.05011449999983597,1.212544600000001,1.2285453000004054,1.1151844999994864,0.04549640000004729,1.1511462999997093,1.0675272999997105,0.027364399999896705,0.011726799999451032,0.020072700000127952,0.029988700000103563,1.065738400000555,0.035993299999972805,0.01435719999972207,1.1384582000000592,0.02279290000024048,1.155923399999665,1.0928786999993463,0.006628099999943515,0.006733799999892653,0.003249899999900663,1.2113964000000124,0.006324400000266905,0.01785490000020218,0.011091299999861803,0.01075230000060401,0.008774399999310845,1.3027946000001975,0.012371700000585406,0.015310300000237476,0.006685700000161887,0.006797000000005937,0.00816450000002078,1.2785960999999588,0.04502390000016021,1.2439436000004207,0.019425099999352824,0.005589800000052492,0.008674499999870022,1.2497246000002633,0.02121439999973518,0.015450300000338757,1.2595866000001479,0.01900030000069819,0.010949299999992945,0.014750700000149664,0.015368899999884889,0.01294170000073791,0.013889500000004773,0.018303500000001804,0.03033099999993283,1.2381849000003058,0.060145500000544416,1.3832415999995646,1.2108547999996517,0.02519639999991341,0.0072116000001187786,1.1728272000000288,0.02327510000031907,0.022745299999769486,0.02457700000013574,0.011835100000098464,0.013809699999910663,0.023317999999562744,0.03608859999985725,1.2428463999995074,0.057099700000435405,1.1287529000001086,1.2720828999999867,1.2976443999996263,0.02995569999984582,0.00751010000021779,1.2670523999995567,1.2649842000000717,0.005555099999583035,1.1771301999997377,0.007509700000809971,1.148664800000006,0.005056199999671662,0.008131000000503263,1.1441815999996834,1.2434181999997236,0.01027539999995497,1.0603633000000627,0.018999799999619427,0.009428499999557971,0.009926899999300076,0.020157299999482348,0.0312644999994518,1.1340980999993917,1.1911988000001656,1.1351488000000245,1.1215775999999096,1.1069535999995423,0.017356399999698624,1.097410100000161,0.004361600000265753,1.117582400000174,0.012430800000402087,1.2418124999994689,0.013003000000026077,0.020294499999181426,0.03575430000000779,1.162018199999693,1.1135418000003483,1.1268724000001384,0.0029936999999335967,1.1694957999998223,0.007853000000068278,1.180884999999762,0.012248099999851547,1.0739167000001544,0.030571100000088336,1.1521841000003405,0.01230420000047161,0.00981320000028063,0.009456200000386161,0.03484149999985675,1.0544936000005691,1.0909235000008266,1.188154200000099,0.01356370000030438,1.119980000000396,1.1430179999997563,0.023579800000334217,0.005244699999821023,1.1412922999998045,1.1402808000002551,0.013468500000271888,1.1583557000003566,0.0022386000000551576,1.079149199999847,0.01769160000003467,0.01368209999964165,1.2103611000002275,1.1052198999996108,0.005866800000148942,1.1389232000001357,0.010198300000411109,0.003328299999338924,0.0012882000000900007,1.2016165000004548,0.0019892000000254484,0.004191699999864795,0.0036385000003065215,1.1963605000000825,0.011008200000105717,0.009745700000166835,0.005430300000625721,0.009028399999806425,0.002639600000293285,1.158038000000488,0.003282499999841093,1.1957743000002665,0.026997099999789498,0.016745999999329797,0.004296399999475398,0.0042465999995329184,0.00533369999993738,0.003999300000032235,1.1417807000007087,1.1197718000003078,0.012525600000117265,0.01742599999943195,0.010518900000533904,0.023722400000224297,1.1050146999996286,0.023341800000707735,0.007629300000189687,0.005741700000726269,0.006505700000161596,0.0063643000003139605,0.006218200000148499,0.010810900000251422,0.010124000000359956,0.027664199999890116,1.1022674999994706,0.028798100000130944,0.04133040000033361,1.146244000000479,0.03565969999999652,1.1171033000000534,1.1301644000004671,0.015838500000427302,0.012310900000557012,0.006084700000428711,0.003343000000313623,1.0996668000007048,0.02238870000019233,0.003197799999725248,1.0778981000003114,0.01718440000058763,0.00741699999980483,1.0447027999998681,0.006707599999572267,0.011610900000050606,0.012891500000478118,0.00858790000074805,0.9938746000007086,0.015206200000648096,0.0041204999997717096,1.0011457000000519,0.012216499999340158,0.005492799999956333,0.0063420999995287275,0.49086719999922934,0.002015400000345835,0.003195399999640358,0.0069382000001496635,0.46367989999998827,0.011496500000248489,0.0027321000006850227,0.007082499999341962,0.007179600000199571,0.42609710000033374,0.019973299999946903,0.008249700000305893,0.004774199999701523,0.004165800000009767,0.004083699999682722,0.003985700000157522,0.3968549000001076,0.012248400000316906,0.01285120000011375,0.003683899999487039,0.0016809999997349223,0.0015337000004365109,0.010157900000194786,0.006337900000289665,0.020207900000059453,0.008264999999482825,0.001995099999476224,0.016245599999820115,0.009321900000031746,0.004622100000233331,0.006057300000065879,0.003490600000077393,0.007809199999428529,0.006823100000474369,0.006010699999933422,0.004967900000337977,0.003547899999830406,0.0030247000004237634,0.0030230000002120505,0.0015838999997868086,0.002647600000273087,0.002356300000428746,0.0015239000003930414,0.0012034000001222012,0.0014646999998149113,0.0008596999996370869,0.0007163000000218744,0.0005972999997538864,0.0005970000001980225,0.0008453000000372413,0.0008808000002318295,0.0008588999999119551,0.0007320000004256144,0.0008580000003348687,0.0005551000003833906,0.0012139999998908024,0.000644099999590253,0.0008534999997209525,0.0009947999997166335,0.0008069000004979898,0.0005277999998725136],\"x\":[0.03142995000052906,0.03176309999980731,0.03201515000000654,0.032251300000098126,0.03309594999973342,0.07676759999958449,0.08485660000042117,0.09420554999996966,0.6137769500001014,0.5946064500003558,0.597630250000293,0.5914679500001512,0.6649885500000892,0.6593371500002831,0.6128386999998838,0.656468400000449,0.592822999999953,0.6350709500002267,0.6400079499999265,0.6606259999998656,0.6890498499997193,0.7260431499998958,0.6969451999993908,0.7184210499999608,1.152524999999514,1.1536526500003674,1.1571261499993852,1.7522989999997662,1.7532534999991185,1.741718299999775,1.1783111999993707,1.193777250000494,1.1958671499996854,1.7461764500003483,1.7747070000004896,1.7707654999994702,1.2415187000005972,1.2482705499996882,1.8228173500001503,1.84278649999942,1.2710164999998597,1.2875436499998614,1.2898584499998833,1.2914388999997755,1.8684612500001094,1.292324349999035,1.2977160000000367,1.8510162999991735,1.311492549999457,1.8719275999992533,1.8443963999998232,1.869420799999716,1.9224038499996823,1.3498599499998818,1.3615080500003387,1.376724650000142,1.9118895499996142,1.39445754999997,1.9737731499999427,2.3048557000001892,2.8907419000006485,2.3374946000003547,2.3490907499999594,2.357662049999817,2.3602014999996754,2.9726838499991572,2.3622357499998543,2.937410849999651,2.91621694999958,3.026049750000311,2.963728749999973,2.397942499999772,2.4027416999997513,2.4072629499996765,3.0009609999997338,3.0076326500002324,2.9964508499997464,2.443742800000109,2.4473237499996685,2.4516505999999936,2.4621210499999506,2.467288599999847,3.023369999999886,3.023899550000351,3.0599828499998694,3.0366978000001836,3.034712149999905,2.5241327500007174,3.105383399999482,2.5597563499995886,3.155414799999562,3.4675926500003698,3.470700300000317,4.069659150000007,4.050728199999867,3.530607599999712,4.12011849999999,3.5605569500003185,4.151248549999764,3.5882926499998575,3.5994998999995005,3.602656549999665,3.6058101999997234,4.175291649999963,3.6150221999996575,3.6163835499992274,3.625987299999906,3.6336461499995494,4.180104400000346,4.1855099000003975,4.186956900000041,4.194219699999849,4.192379899999651,4.203597100000479,3.6734832000001916,4.207119299999249,3.6898110500005714,3.6998977000002924,4.271517549999771,4.268168399999922,4.287818999999217,3.7420994499998415,4.304833449999933,4.629802699999345,5.2295851500002755,4.671227750000071,5.249445200000082,4.705907800000205,5.26675245000024,4.747745549999308,4.75307365000026,4.754235000000335,4.759668099999544,4.767641899999944,4.773429299999407,4.783051700000215,4.784555649999675,4.785564699999668,5.337786250000136,5.313173100000313,5.331980850000036,5.36180824999974,5.340355599999384,5.369999999999891,5.390673750000133,5.38051004999943,5.370977450000282,4.851539749999574,4.862010200000441,4.867935700000089,4.87170309999965,5.419725399999152,5.408409699999538,5.418310600000041,5.418212499999754,5.824993399999585,5.827766950000296,5.83146884999951,5.8378789999997025,5.8391569499999605,5.852734299999611,6.377980100000059,6.432438099999672,5.8726879499999995,6.423514849999265,5.8843932500003575,6.462438999999904,5.904814850000548,5.909347900000284,5.91784854999969,5.9201702999998815,5.9314296499997,6.476512949999233,6.447149300000092,5.942159899999751,5.9509243499996956,5.95215029999963,5.953291199999512,5.959816550000141,5.962924149999708,5.96384769999986,5.964539700000387,6.513394800000242,5.9661394499999005,5.966893650000202,5.967530949999855,5.987944700000298,5.991008850000071,5.992845950000628,5.994080349999422,6.520863449999524,5.998970749998989,6.507001699999819,6.581092050000734,6.012052799999765,6.030345650000527,6.548953850000544,6.599112949999835,6.601969700000154,6.045684650000112,6.613830549999875,6.620229799999834,6.638364899999942,6.910000199999558,6.915032249999058,7.526003999999375,6.97763655000017,6.982917049999742,6.98974730000009,6.994093499999508,7.552533799999765,7.563729550000062,7.026648999999452,7.034985300000699,7.038126850000481,7.0421601500002,7.047283399999287,7.049657149999803,7.055614500000047,7.6304952499995125,7.071823250000307,7.618988299999728,7.07875735000016,7.699736549999216,7.08031524999933,7.090027950000149,7.6533291499999905,7.092041300000346,7.099435750000339,7.105966900000567,7.714809699999023,7.712394700000004,7.697835650000343,7.18456255000001,7.1877055000004475,7.188720300000568,7.192953849999867,7.195638999999574,7.198641099999804,7.203456900000674,7.210679800000435,7.215432999999393,7.22301514999981,7.800615449999896,7.24244009999984,7.771565600000031,7.799015849999705,7.783721499999956,7.829361649999555,7.283503399999972,7.864770149999458,8.114694550000422,8.12083044999963,8.680692850000014,8.136984400000074,8.139610700000048,8.148768449999807,8.151233049999973,8.736805499999718,8.75191464999989,8.183229750000464,8.191942100000233,8.785711250000531,8.218356150000545,8.225752700000157,8.231854249999742,8.238322549999793,8.824795099999392,8.849482699999498,8.28226364999955,8.289069099999324,8.821268249999775,8.326237249999394,8.332955849999053,8.335131849999925,8.33776455000043,8.338721899999655,8.341235149999193,8.347742050000306,8.34969104999982,8.364148700000442,8.366690750000089,8.952139299999544,8.97058724999988,8.916830149999441,8.39128030000029,8.963098250000257,8.925518949999969,8.407103800000186,8.419900599999892,8.42556655000044,8.435789449999902,8.958641799999896,8.453607149999698,8.445558800000072,9.020030199999383,8.46414084999924,9.04957370000011,9.021986249999827,9.240593149999768,9.24730830000044,9.252322950000234,9.859675499999867,9.324293600000601,9.336411649999718,9.350902250000217,9.353225849999944,9.356048499999815,10.00786160000007,9.364808649999759,9.368106050000279,9.374350449999838,9.377644099999998,9.379858750000494,10.017010850000588,9.403576050000083,10.005975099999887,9.418408049999925,9.428892500000075,9.432466050000585,10.056563600000118,9.447420899999997,9.46293605000028,10.087826599999971,9.468791549999878,9.47614805000012,9.481814349999695,9.485986949999642,9.488106849999895,9.496144949999689,9.500675249999404,9.50885180000023,10.113684050000302,9.533168550000482,10.201467799999591,10.12945469999977,9.551279700000123,9.562049000000115,10.149661399999786,9.575521650000155,9.577035649999743,9.580723600000056,9.590796450000198,9.594074050000017,9.600076400000034,9.6073123999995,10.214443299999402,9.625270549999186,10.165361849999499,10.247784249999313,10.274186399999962,9.642519449999782,9.657585349999863,10.29104770000049,10.293840500000442,10.468170849999296,11.059529899999688,10.631723649999913,11.209833400000207,10.658843100000013,10.663332199999786,11.233469299999342,11.28912339999988,10.686577800000123,11.221904149999318,10.727141699999265,10.73446315000001,10.737753249999514,10.74497324999993,10.751716949999718,11.303698749999967,11.334786699999313,11.310303100000056,11.315854500000569,11.320848299999852,10.844555300000138,11.401947149999614,10.886016499999641,11.446999400000095,10.899313800000527,11.526444150000316,10.929518599999938,10.934730650000347,10.944218749998981,11.517038300000422,11.501656099999309,11.525540300000102,11.649612850000267,12.235884399999122,11.756032699999196,12.350432700000056,11.79031914999996,12.333449550000296,11.82086154999979,12.412250249999488,11.876914000000397,11.879244699999617,11.881379099999322,11.895306549999077,12.410323699999935,12.4296212499994,12.48019419999946,11.917621650000001,12.472726300000431,12.495922000000064,11.94218550000005,11.953284350000104,12.52464024999972,12.526057199999741,12.012549150000268,12.598470650000309,12.059562100000221,12.600270999999339,12.09783139999945,12.104894950000016,12.711867449999772,12.664355749999231,12.150294299999587,12.722712099999626,12.825757650000014,12.832549749999998,12.83487629999945,13.436350449999736,12.871446899999683,12.874551549999524,12.878491550000035,13.478504550000252,12.943096400000286,12.945764649999546,12.951336050000464,12.955175600000075,12.955379499999253,13.53573200000028,12.961367549999522,13.560913450000044,12.988593850000143,12.996721999999863,13.004255300000295,13.007241299999805,13.009080050000193,13.011377950000679,13.582651450000412,13.573276299999634,13.038996400000542,13.053983300000255,13.067971149999721,13.079305699999168,13.625750049999624,13.085951099999875,13.094989350000105,13.098165649999828,13.099457849999453,13.100812450000376,13.101923700000043,13.106455650000498,13.10778339999979,13.117836199999147,13.656176450000203,13.12627534999956,13.133520499999577,13.704801199999565,13.157683550000002,13.699234649999198,13.719278700000359,13.18344045000049,13.183812249999391,13.19302134999998,13.193040299999666,13.744556499999817,13.207269250000536,13.218573500000275,13.75742265000008,13.228772599999502,13.24108779999915,13.767171399999825,13.295537599999989,13.304708649999156,13.316969550000067,13.321352650000335,13.820364199999858,13.333262500000274,13.342937849999544,13.845595050000156,14.043297449999955,14.052164599999742,14.05809384999975,14.30674100000033,14.077704400000584,14.080319700000473,14.085406399999556,14.320749550000073,14.12052014999972,14.127661349999471,14.132585850000396,14.136763200000132,14.349201449999782,14.150348749999466,14.157687850000002,14.16120360000059,14.162430099999256,14.163877349999893,14.165598850000606,14.362953750000088,14.172054599999683,14.174037099999623,14.180111449999458,14.182811399999991,14.184436049999931,14.212414050000007,14.220679349999955,14.233981549999953,14.261933199999476,14.267072749999897,14.276205000000118,14.282599849999315,14.286677149999377,14.290298649999386,14.290740899999946,14.293433799999548,14.295906649999779,14.296338550000655,14.296879749999789,14.298152749999645,14.29885694999939,14.30087950000052,14.30072404999919,14.301698399999623,14.302700050000567,14.303158650000114,14.317912700000306,14.319253550000212,14.320423649999611,14.346535650000078,14.347199750000073,14.3478041999997,14.552604649999921,14.553034900000057,14.55346185000053,14.553845200000069,14.554324099999576,14.554492150000442,14.561993999999686,14.56257695000022,14.563031849999788,14.563399799999388,14.563865250000163,14.564164800000071],\"y\":[15,15,15,15,16,16,16,16,16,15,10,14,2,3,9,5,13,8,7,4,1,6,12,11,15,13,15,13,14,10,15,9,16,15,16,9,8,8,12,8,3,7,3,4,4,2,11,5,7,3,7,2,6,1,1,1,11,1,1,15,15,14,9,14,16,13,10,9,10,16,7,14,5,12,14,5,12,8,11,3,8,11,4,2,3,8,11,6,1,6,6,10,10,15,10,9,9,7,7,4,11,2,8,13,5,11,4,14,16,11,4,8,5,12,3,14,2,1,6,1,3,2,2,10,10,15,15,9,9,7,16,12,14,13,11,5,16,8,4,11,6,16,8,13,7,5,12,1,14,2,3,2,3,1,14,9,10,15,9,10,15,9,15,11,11,10,10,8,6,6,8,6,13,4,6,3,14,16,8,8,5,12,6,7,3,14,16,1,1,8,5,12,2,1,3,3,16,8,14,3,12,3,7,9,9,9,4,4,4,4,4,11,10,2,10,2,10,2,5,10,16,13,5,15,2,6,6,16,16,5,2,16,5,12,8,3,14,8,1,7,8,14,12,12,8,14,7,8,1,3,3,4,4,9,11,4,4,4,4,11,13,13,13,10,10,10,10,10,6,5,5,5,8,14,2,16,15,2,16,16,7,2,14,15,8,16,2,16,12,1,1,12,7,1,3,3,1,1,12,9,9,9,9,4,4,4,5,11,4,5,5,13,13,11,5,10,11,10,10,10,10,6,6,16,6,13,8,7,8,7,8,7,14,13,2,8,13,6,12,15,6,13,7,3,3,15,7,3,13,1,3,6,15,6,15,9,9,11,11,5,4,4,10,5,5,16,14,12,16,13,13,8,16,14,12,7,7,1,1,2,2,6,3,15,3,15,6,9,9,5,5,11,11,4,4,16,12,14,13,12,10,13,16,16,8,14,14,7,14,1,1,15,15,6,6,6,3,2,2,9,9,9,9,11,11,11,11,12,12,5,5,12,12,5,5,4,4,4,4,4,4,10,4,16,16,16,8,7,8,14,8,13,8,13,13,8,13,8,13,15,14,16,13,16,1,15,15,1,3,15,1,1,15,15,15,2,2,2,2,2,6,6,6,9,9,9,9,11,11,11,11,12,12,12,12,4,10,5,12,10,5,12,10,12,12,7,5,12,7,5,7,8,7,14,8,12,14,13,8,12,7,7,16,3,3,8,15,13,7,14,8,5,15,16,2,1,3,12,15,16,16,2,9,1,3,12,15]},\"selected\":{\"id\":\"1047\"},\"selection_policy\":{\"id\":\"1046\"}},\"id\":\"1032\",\"type\":\"ColumnDataSource\"},{\"attributes\":{\"coordinates\":null,\"data_source\":{\"id\":\"1032\"},\"glyph\":{\"id\":\"1034\"},\"group\":null,\"hover_glyph\":null,\"muted_glyph\":{\"id\":\"1036\"},\"nonselection_glyph\":{\"id\":\"1035\"},\"view\":{\"id\":\"1038\"}},\"id\":\"1037\",\"type\":\"GlyphRenderer\"},{\"attributes\":{},\"id\":\"1047\",\"type\":\"Selection\"},{\"attributes\":{\"tools\":[{\"id\":\"1021\"},{\"id\":\"1022\"},{\"id\":\"1023\"},{\"id\":\"1024\"},{\"id\":\"1025\"}]},\"id\":\"1026\",\"type\":\"Toolbar\"},{\"attributes\":{},\"id\":\"1012\",\"type\":\"CategoricalScale\"},{\"attributes\":{},\"id\":\"1045\",\"type\":\"AllLabels\"},{\"attributes\":{\"end\":15.006362799999806},\"id\":\"1006\",\"type\":\"Range1d\"},{\"attributes\":{\"fill_color\":{\"field\":\"color\"},\"hatch_color\":{\"field\":\"color\"},\"height\":{\"value\":1},\"line_color\":{\"value\":\"gray\"},\"width\":{\"field\":\"width\"},\"x\":{\"field\":\"x\"},\"y\":{\"field\":\"y\"}},\"id\":\"1034\",\"type\":\"Rect\"},{\"attributes\":{\"axis_label\":\"Time (s)\",\"axis_line_color\":null,\"coordinates\":null,\"formatter\":{\"id\":\"1044\"},\"group\":null,\"major_label_policy\":{\"id\":\"1045\"},\"major_tick_line_color\":null,\"ticker\":{\"id\":\"1015\"}},\"id\":\"1014\",\"type\":\"LinearAxis\"}],\"root_ids\":[\"1003\"]},\"title\":\"Bokeh Application\",\"version\":\"2.4.3\"}};\n",
       "  const render_items = [{\"docid\":\"f87e938e-2a7c-41f9-a10a-bba69ea17759\",\"root_ids\":[\"1003\"],\"roots\":{\"1003\":\"2df808cf-bbeb-4892-af03-d93daaf436bb\"}}];\n",
       "  root.Bokeh.embed.embed_items_notebook(docs_json, render_items);\n",
       "  }\n",
       "  if (root.Bokeh !== undefined) {\n",
       "    embed_document(root);\n",
       "  } else {\n",
       "    let attempts = 0;\n",
       "    const timer = setInterval(function(root) {\n",
       "      if (root.Bokeh !== undefined) {\n",
       "        clearInterval(timer);\n",
       "        embed_document(root);\n",
       "      } else {\n",
       "        attempts++;\n",
       "        if (attempts > 100) {\n",
       "          clearInterval(timer);\n",
       "          console.log(\"Bokeh: ERROR: Unable to run BokehJS code because BokehJS library is missing\");\n",
       "        }\n",
       "      }\n",
       "    }, 10, root)\n",
       "  }\n",
       "})(window);"
      ],
      "application/vnd.bokehjs_exec.v0+json": ""
     },
     "metadata": {
      "application/vnd.bokehjs_exec.v0+json": {
       "id": "1003"
      }
     },
     "output_type": "display_data"
    }
   ],
   "source": [
    "profilers[0].visualize();"
   ]
  },
  {
   "cell_type": "markdown",
   "id": "9f7afda6-5b1d-4362-9495-4ad140716f5f",
   "metadata": {},
   "source": [
    "The result from the `ResourceProfiler` is shown below: This shows two lines, one for total CPU percentage used by all the workers, and one for total memory usage. The CPU usage is scaled so each worker contributes up to $100 \\ \\%$, i.e. two fully utilized workers use $200 \\ \\%$."
   ]
  },
  {
   "cell_type": "code",
   "execution_count": 16,
   "id": "42497cde-4e5c-4844-91e5-e8d91e1aafa9",
   "metadata": {
    "tags": [
     "skip-test"
    ]
   },
   "outputs": [
    {
     "data": {
      "text/html": [
       "\n",
       "  <div class=\"bk-root\" id=\"a8adf160-d259-4bf3-860e-493d52db39f0\" data-root-id=\"1102\"></div>\n"
      ]
     },
     "metadata": {},
     "output_type": "display_data"
    },
    {
     "data": {
      "application/javascript": [
       "(function(root) {\n",
       "  function embed_document(root) {\n",
       "  const docs_json = {\"19aea2c3-71e6-4be2-b793-eddcc4d8c975\":{\"defs\":[],\"roots\":{\"references\":[{\"attributes\":{\"below\":[{\"id\":\"1113\"}],\"center\":[{\"id\":\"1116\"},{\"id\":\"1120\"},{\"id\":\"1145\"}],\"extra_y_ranges\":{\"memory\":{\"id\":\"1147\"}},\"height\":300,\"left\":[{\"id\":\"1117\"}],\"renderers\":[{\"id\":\"1134\"},{\"id\":\"1152\"}],\"right\":[{\"id\":\"1166\"}],\"title\":{\"id\":\"1103\"},\"toolbar\":{\"id\":\"1125\"},\"toolbar_location\":\"above\",\"width\":800,\"x_range\":{\"id\":\"1105\"},\"x_scale\":{\"id\":\"1109\"},\"y_range\":{\"id\":\"1107\"},\"y_scale\":{\"id\":\"1111\"}},\"id\":\"1102\",\"subtype\":\"Figure\",\"type\":\"Plot\"},{\"attributes\":{\"line_color\":\"#440154\",\"line_width\":4,\"x\":{\"field\":\"x\"},\"y\":{\"field\":\"y\"}},\"id\":\"1131\",\"type\":\"Line\"},{\"attributes\":{},\"id\":\"1163\",\"type\":\"UnionRenderers\"},{\"attributes\":{\"axis_label\":\"% CPU\",\"coordinates\":null,\"formatter\":{\"id\":\"1138\"},\"group\":null,\"major_label_policy\":{\"id\":\"1139\"},\"ticker\":{\"id\":\"1118\"}},\"id\":\"1117\",\"type\":\"LinearAxis\"},{\"attributes\":{\"dimensions\":\"width\"},\"id\":\"1124\",\"type\":\"PanTool\"},{\"attributes\":{\"coordinates\":null,\"data_source\":{\"id\":\"1130\"},\"glyph\":{\"id\":\"1131\"},\"group\":null,\"hover_glyph\":null,\"muted_glyph\":{\"id\":\"1133\"},\"nonselection_glyph\":{\"id\":\"1132\"},\"view\":{\"id\":\"1135\"}},\"id\":\"1134\",\"type\":\"GlyphRenderer\"},{\"attributes\":{},\"id\":\"1114\",\"type\":\"BasicTicker\"},{\"attributes\":{\"axis\":{\"id\":\"1113\"},\"coordinates\":null,\"group\":null,\"ticker\":null},\"id\":\"1116\",\"type\":\"Grid\"},{\"attributes\":{\"axis\":{\"id\":\"1117\"},\"coordinates\":null,\"dimension\":1,\"group\":null,\"ticker\":null},\"id\":\"1120\",\"type\":\"Grid\"},{\"attributes\":{},\"id\":\"1138\",\"type\":\"BasicTickFormatter\"},{\"attributes\":{},\"id\":\"1118\",\"type\":\"BasicTicker\"},{\"attributes\":{\"line_alpha\":0.2,\"line_color\":\"#440154\",\"line_width\":4,\"x\":{\"field\":\"x\"},\"y\":{\"field\":\"y\"}},\"id\":\"1133\",\"type\":\"Line\"},{\"attributes\":{\"dimensions\":\"width\"},\"id\":\"1123\",\"type\":\"WheelZoomTool\"},{\"attributes\":{},\"id\":\"1139\",\"type\":\"AllLabels\"},{\"attributes\":{\"line_alpha\":0.1,\"line_color\":\"#440154\",\"line_width\":4,\"x\":{\"field\":\"x\"},\"y\":{\"field\":\"y\"}},\"id\":\"1132\",\"type\":\"Line\"},{\"attributes\":{},\"id\":\"1122\",\"type\":\"ResetTool\"},{\"attributes\":{\"label\":{\"value\":\"% CPU\"},\"renderers\":[{\"id\":\"1134\"}]},\"id\":\"1146\",\"type\":\"LegendItem\"},{\"attributes\":{},\"id\":\"1164\",\"type\":\"Selection\"},{\"attributes\":{\"source\":{\"id\":\"1148\"}},\"id\":\"1153\",\"type\":\"CDSView\"},{\"attributes\":{\"axis_label\":\"Memory (MB)\",\"coordinates\":null,\"formatter\":{\"id\":\"1181\"},\"group\":null,\"major_label_policy\":{\"id\":\"1182\"},\"ticker\":{\"id\":\"1180\"},\"y_range_name\":\"memory\"},\"id\":\"1166\",\"type\":\"LinearAxis\"},{\"attributes\":{},\"id\":\"1121\",\"type\":\"SaveTool\"},{\"attributes\":{\"end\":743.272448,\"start\":623.726592},\"id\":\"1147\",\"type\":\"Range1d\"},{\"attributes\":{},\"id\":\"1141\",\"type\":\"BasicTickFormatter\"},{\"attributes\":{\"coordinates\":null,\"data_source\":{\"id\":\"1148\"},\"glyph\":{\"id\":\"1149\"},\"group\":null,\"hover_glyph\":null,\"muted_glyph\":{\"id\":\"1151\"},\"nonselection_glyph\":{\"id\":\"1150\"},\"view\":{\"id\":\"1153\"},\"y_range_name\":\"memory\"},\"id\":\"1152\",\"type\":\"GlyphRenderer\"},{\"attributes\":{},\"id\":\"1143\",\"type\":\"UnionRenderers\"},{\"attributes\":{\"line_color\":\"#29788E\",\"line_width\":4,\"x\":{\"field\":\"x\"},\"y\":{\"field\":\"y\"}},\"id\":\"1149\",\"type\":\"Line\"},{\"attributes\":{},\"id\":\"1182\",\"type\":\"AllLabels\"},{\"attributes\":{},\"id\":\"1142\",\"type\":\"AllLabels\"},{\"attributes\":{},\"id\":\"1180\",\"type\":\"BasicTicker\"},{\"attributes\":{},\"id\":\"1144\",\"type\":\"Selection\"},{\"attributes\":{\"tools\":[{\"id\":\"1121\"},{\"id\":\"1122\"},{\"id\":\"1123\"},{\"id\":\"1124\"}]},\"id\":\"1125\",\"type\":\"Toolbar\"},{\"attributes\":{\"line_alpha\":0.2,\"line_color\":\"#29788E\",\"line_width\":4,\"x\":{\"field\":\"x\"},\"y\":{\"field\":\"y\"}},\"id\":\"1151\",\"type\":\"Line\"},{\"attributes\":{\"line_alpha\":0.1,\"line_color\":\"#29788E\",\"line_width\":4,\"x\":{\"field\":\"x\"},\"y\":{\"field\":\"y\"}},\"id\":\"1150\",\"type\":\"Line\"},{\"attributes\":{},\"id\":\"1181\",\"type\":\"BasicTickFormatter\"},{\"attributes\":{\"label\":{\"value\":\"Memory\"},\"renderers\":[{\"id\":\"1152\"}]},\"id\":\"1165\",\"type\":\"LegendItem\"},{\"attributes\":{\"data\":{\"x\":[0.8296824999997625,1.874661300000298,2.882031199999801,3.889589700000215,4.891626499999802,5.896348500000386,6.901876800000537,7.915480100000423,8.935397000000194,9.938993900000241,10.948859000000084,11.956190900000365,12.959717400000045,13.978127000000313],\"y\":[736.231424,735.739904,732.921856,698.69568,681.058304,637.50144,722.272256,743.272448,734.777344,700.780544,623.726592,655.839232,671.715328,733.507584]},\"selected\":{\"id\":\"1164\"},\"selection_policy\":{\"id\":\"1163\"}},\"id\":\"1148\",\"type\":\"ColumnDataSource\"},{\"attributes\":{\"source\":{\"id\":\"1130\"}},\"id\":\"1135\",\"type\":\"CDSView\"},{\"attributes\":{\"end\":15.0063454000001},\"id\":\"1105\",\"type\":\"Range1d\"},{\"attributes\":{\"data\":{\"x\":[0.8296824999997625,1.874661300000298,2.882031199999801,3.889589700000215,4.891626499999802,5.896348500000386,6.901876800000537,7.915480100000423,8.935397000000194,9.938993900000241,10.948859000000084,11.956190900000365,12.959717400000045,13.978127000000313],\"y\":[0.0,665.6,637.5,627.5,628.1,651.6,745.1,765.9,871.3,712.5,656.7,614.1,843.8,901.7]},\"selected\":{\"id\":\"1144\"},\"selection_policy\":{\"id\":\"1143\"}},\"id\":\"1130\",\"type\":\"ColumnDataSource\"},{\"attributes\":{\"axis_label\":\"Time (s)\",\"coordinates\":null,\"formatter\":{\"id\":\"1141\"},\"group\":null,\"major_label_policy\":{\"id\":\"1142\"},\"ticker\":{\"id\":\"1114\"}},\"id\":\"1113\",\"type\":\"LinearAxis\"},{\"attributes\":{},\"id\":\"1109\",\"type\":\"LinearScale\"},{\"attributes\":{\"end\":901.7},\"id\":\"1107\",\"type\":\"Range1d\"},{\"attributes\":{},\"id\":\"1111\",\"type\":\"LinearScale\"},{\"attributes\":{\"coordinates\":null,\"group\":null,\"items\":[{\"id\":\"1146\"},{\"id\":\"1165\"}]},\"id\":\"1145\",\"type\":\"Legend\"},{\"attributes\":{\"coordinates\":null,\"group\":null,\"text\":\"Profile Results\"},\"id\":\"1103\",\"type\":\"Title\"}],\"root_ids\":[\"1102\"]},\"title\":\"Bokeh Application\",\"version\":\"2.4.3\"}};\n",
       "  const render_items = [{\"docid\":\"19aea2c3-71e6-4be2-b793-eddcc4d8c975\",\"root_ids\":[\"1102\"],\"roots\":{\"1102\":\"a8adf160-d259-4bf3-860e-493d52db39f0\"}}];\n",
       "  root.Bokeh.embed.embed_items_notebook(docs_json, render_items);\n",
       "  }\n",
       "  if (root.Bokeh !== undefined) {\n",
       "    embed_document(root);\n",
       "  } else {\n",
       "    let attempts = 0;\n",
       "    const timer = setInterval(function(root) {\n",
       "      if (root.Bokeh !== undefined) {\n",
       "        clearInterval(timer);\n",
       "        embed_document(root);\n",
       "      } else {\n",
       "        attempts++;\n",
       "        if (attempts > 100) {\n",
       "          clearInterval(timer);\n",
       "          console.log(\"Bokeh: ERROR: Unable to run BokehJS code because BokehJS library is missing\");\n",
       "        }\n",
       "      }\n",
       "    }, 10, root)\n",
       "  }\n",
       "})(window);"
      ],
      "application/vnd.bokehjs_exec.v0+json": ""
     },
     "metadata": {
      "application/vnd.bokehjs_exec.v0+json": {
       "id": "1102"
      }
     },
     "output_type": "display_data"
    }
   ],
   "source": [
    "profilers[1].visualize();"
   ]
  },
  {
   "cell_type": "markdown",
   "id": "95a9fa0a-f044-40cd-8964-9e4a1911fa87",
   "metadata": {},
   "source": [
    "We ran the calculation on a single computer with an 4-core CPU with 2 threads per core for 8 threads total. We see that our peak CPU usage was $\\sim 600 \\%$, this is a fairly typical usage statistic for a single machine, overhead and background processes limited us from reaching the $800 \\ \\%$ corresponding to using every available thread maximally.\n",
    "\n",
    "We also see that the total memory use reached around 800 MB. If you are running the calculation on a system with more threads your memory consumption may be larger – it may even exceed the total memory cost of all the wave functions, as every parallel run of the multislice algorithm requires a significant overhead for intermediate results (such as potential slices and Fresnel propagators). If your calculation runs out of memory you can lower the number of workers, thus trading away computational speed for lower memory consumption.\n",
    "\n",
    "We note that the overhead in both CPU usage and memory diminishes for larger simulation with more powerful hardware."
   ]
  },
  {
   "cell_type": "markdown",
   "id": "88a96448-5a2a-4c60-9ce7-7a2f43845d3c",
   "metadata": {},
   "source": [
    "### The (locally) distributed scheduler\n",
    "The Dask distributed scheduler is necessary for running your simulations on a cluster, but it also runs [locally on a personal machine](https://docs.dask.org/en/stable/scheduling.html#dask-distributed-local). You can find details in the Dask documentation, but we demonstrate the basics below.\n",
    "\n",
    "You can use the Dask distributed scheduler by just initializing a [Dask Client](https://distributed.dask.org/en/stable/client.html). The `Client` takes keyword arguments such as `n_workers` (note that this is different from `num_workers` above!)"
   ]
  },
  {
   "cell_type": "code",
   "execution_count": 17,
   "id": "2b7c37a3-909c-482e-99fb-72e4eb222a5a",
   "metadata": {},
   "outputs": [
    {
     "data": {
      "text/html": [
       "<div>\n",
       "    <div style=\"width: 24px; height: 24px; background-color: #e1e1e1; border: 3px solid #9D9D9D; border-radius: 5px; position: absolute;\"> </div>\n",
       "    <div style=\"margin-left: 48px;\">\n",
       "        <h3 style=\"margin-bottom: 0px;\">Client</h3>\n",
       "        <p style=\"color: #9D9D9D; margin-bottom: 0px;\">Client-c6e7142f-c755-11ed-8e10-3800259eb785</p>\n",
       "        <table style=\"width: 100%; text-align: left;\">\n",
       "\n",
       "        <tr>\n",
       "        \n",
       "            <td style=\"text-align: left;\"><strong>Connection method:</strong> Cluster object</td>\n",
       "            <td style=\"text-align: left;\"><strong>Cluster type:</strong> distributed.LocalCluster</td>\n",
       "        \n",
       "        </tr>\n",
       "\n",
       "        \n",
       "            <tr>\n",
       "                <td style=\"text-align: left;\">\n",
       "                    <strong>Dashboard: </strong> <a href=\"http://127.0.0.1:8787/status\" target=\"_blank\">http://127.0.0.1:8787/status</a>\n",
       "                </td>\n",
       "                <td style=\"text-align: left;\"></td>\n",
       "            </tr>\n",
       "        \n",
       "\n",
       "        </table>\n",
       "\n",
       "        \n",
       "            <button style=\"margin-bottom: 12px;\" data-commandlinker-command=\"dask:populate-and-launch-layout\" data-commandlinker-args='{\"url\": \"http://127.0.0.1:8787/status\" }'>\n",
       "                Launch dashboard in JupyterLab\n",
       "            </button>\n",
       "        \n",
       "\n",
       "        \n",
       "            <details>\n",
       "            <summary style=\"margin-bottom: 20px;\"><h3 style=\"display: inline;\">Cluster Info</h3></summary>\n",
       "            <div class=\"jp-RenderedHTMLCommon jp-RenderedHTML jp-mod-trusted jp-OutputArea-output\">\n",
       "    <div style=\"width: 24px; height: 24px; background-color: #e1e1e1; border: 3px solid #9D9D9D; border-radius: 5px; position: absolute;\">\n",
       "    </div>\n",
       "    <div style=\"margin-left: 48px;\">\n",
       "        <h3 style=\"margin-bottom: 0px; margin-top: 0px;\">LocalCluster</h3>\n",
       "        <p style=\"color: #9D9D9D; margin-bottom: 0px;\">35a64d7d</p>\n",
       "        <table style=\"width: 100%; text-align: left;\">\n",
       "            <tr>\n",
       "                <td style=\"text-align: left;\">\n",
       "                    <strong>Dashboard:</strong> <a href=\"http://127.0.0.1:8787/status\" target=\"_blank\">http://127.0.0.1:8787/status</a>\n",
       "                </td>\n",
       "                <td style=\"text-align: left;\">\n",
       "                    <strong>Workers:</strong> 6\n",
       "                </td>\n",
       "            </tr>\n",
       "            <tr>\n",
       "                <td style=\"text-align: left;\">\n",
       "                    <strong>Total threads:</strong> 18\n",
       "                </td>\n",
       "                <td style=\"text-align: left;\">\n",
       "                    <strong>Total memory:</strong> 31.93 GiB\n",
       "                </td>\n",
       "            </tr>\n",
       "            \n",
       "            <tr>\n",
       "    <td style=\"text-align: left;\"><strong>Status:</strong> running</td>\n",
       "    <td style=\"text-align: left;\"><strong>Using processes:</strong> True</td>\n",
       "</tr>\n",
       "\n",
       "            \n",
       "        </table>\n",
       "\n",
       "        <details>\n",
       "            <summary style=\"margin-bottom: 20px;\">\n",
       "                <h3 style=\"display: inline;\">Scheduler Info</h3>\n",
       "            </summary>\n",
       "\n",
       "            <div style=\"\">\n",
       "    <div>\n",
       "        <div style=\"width: 24px; height: 24px; background-color: #FFF7E5; border: 3px solid #FF6132; border-radius: 5px; position: absolute;\"> </div>\n",
       "        <div style=\"margin-left: 48px;\">\n",
       "            <h3 style=\"margin-bottom: 0px;\">Scheduler</h3>\n",
       "            <p style=\"color: #9D9D9D; margin-bottom: 0px;\">Scheduler-926c1815-adfd-462c-8ab8-3b09067c62a8</p>\n",
       "            <table style=\"width: 100%; text-align: left;\">\n",
       "                <tr>\n",
       "                    <td style=\"text-align: left;\">\n",
       "                        <strong>Comm:</strong> tcp://127.0.0.1:65243\n",
       "                    </td>\n",
       "                    <td style=\"text-align: left;\">\n",
       "                        <strong>Workers:</strong> 6\n",
       "                    </td>\n",
       "                </tr>\n",
       "                <tr>\n",
       "                    <td style=\"text-align: left;\">\n",
       "                        <strong>Dashboard:</strong> <a href=\"http://127.0.0.1:8787/status\" target=\"_blank\">http://127.0.0.1:8787/status</a>\n",
       "                    </td>\n",
       "                    <td style=\"text-align: left;\">\n",
       "                        <strong>Total threads:</strong> 18\n",
       "                    </td>\n",
       "                </tr>\n",
       "                <tr>\n",
       "                    <td style=\"text-align: left;\">\n",
       "                        <strong>Started:</strong> Just now\n",
       "                    </td>\n",
       "                    <td style=\"text-align: left;\">\n",
       "                        <strong>Total memory:</strong> 31.93 GiB\n",
       "                    </td>\n",
       "                </tr>\n",
       "            </table>\n",
       "        </div>\n",
       "    </div>\n",
       "\n",
       "    <details style=\"margin-left: 48px;\">\n",
       "        <summary style=\"margin-bottom: 20px;\">\n",
       "            <h3 style=\"display: inline;\">Workers</h3>\n",
       "        </summary>\n",
       "\n",
       "        \n",
       "        <div style=\"margin-bottom: 20px;\">\n",
       "            <div style=\"width: 24px; height: 24px; background-color: #DBF5FF; border: 3px solid #4CC9FF; border-radius: 5px; position: absolute;\"> </div>\n",
       "            <div style=\"margin-left: 48px;\">\n",
       "            <details>\n",
       "                <summary>\n",
       "                    <h4 style=\"margin-bottom: 0px; display: inline;\">Worker: 0</h4>\n",
       "                </summary>\n",
       "                <table style=\"width: 100%; text-align: left;\">\n",
       "                    <tr>\n",
       "                        <td style=\"text-align: left;\">\n",
       "                            <strong>Comm: </strong> tcp://127.0.0.1:65280\n",
       "                        </td>\n",
       "                        <td style=\"text-align: left;\">\n",
       "                            <strong>Total threads: </strong> 3\n",
       "                        </td>\n",
       "                    </tr>\n",
       "                    <tr>\n",
       "                        <td style=\"text-align: left;\">\n",
       "                            <strong>Dashboard: </strong> <a href=\"http://127.0.0.1:65283/status\" target=\"_blank\">http://127.0.0.1:65283/status</a>\n",
       "                        </td>\n",
       "                        <td style=\"text-align: left;\">\n",
       "                            <strong>Memory: </strong> 5.32 GiB\n",
       "                        </td>\n",
       "                    </tr>\n",
       "                    <tr>\n",
       "                        <td style=\"text-align: left;\">\n",
       "                            <strong>Nanny: </strong> tcp://127.0.0.1:65246\n",
       "                        </td>\n",
       "                        <td style=\"text-align: left;\"></td>\n",
       "                    </tr>\n",
       "                    <tr>\n",
       "                        <td colspan=\"2\" style=\"text-align: left;\">\n",
       "                            <strong>Local directory: </strong> C:\\Users\\jacob\\AppData\\Local\\Temp\\dask-worker-space\\worker-p3npxo2r\n",
       "                        </td>\n",
       "                    </tr>\n",
       "\n",
       "                    \n",
       "\n",
       "                    \n",
       "\n",
       "                </table>\n",
       "            </details>\n",
       "            </div>\n",
       "        </div>\n",
       "        \n",
       "        <div style=\"margin-bottom: 20px;\">\n",
       "            <div style=\"width: 24px; height: 24px; background-color: #DBF5FF; border: 3px solid #4CC9FF; border-radius: 5px; position: absolute;\"> </div>\n",
       "            <div style=\"margin-left: 48px;\">\n",
       "            <details>\n",
       "                <summary>\n",
       "                    <h4 style=\"margin-bottom: 0px; display: inline;\">Worker: 1</h4>\n",
       "                </summary>\n",
       "                <table style=\"width: 100%; text-align: left;\">\n",
       "                    <tr>\n",
       "                        <td style=\"text-align: left;\">\n",
       "                            <strong>Comm: </strong> tcp://127.0.0.1:65276\n",
       "                        </td>\n",
       "                        <td style=\"text-align: left;\">\n",
       "                            <strong>Total threads: </strong> 3\n",
       "                        </td>\n",
       "                    </tr>\n",
       "                    <tr>\n",
       "                        <td style=\"text-align: left;\">\n",
       "                            <strong>Dashboard: </strong> <a href=\"http://127.0.0.1:65277/status\" target=\"_blank\">http://127.0.0.1:65277/status</a>\n",
       "                        </td>\n",
       "                        <td style=\"text-align: left;\">\n",
       "                            <strong>Memory: </strong> 5.32 GiB\n",
       "                        </td>\n",
       "                    </tr>\n",
       "                    <tr>\n",
       "                        <td style=\"text-align: left;\">\n",
       "                            <strong>Nanny: </strong> tcp://127.0.0.1:65247\n",
       "                        </td>\n",
       "                        <td style=\"text-align: left;\"></td>\n",
       "                    </tr>\n",
       "                    <tr>\n",
       "                        <td colspan=\"2\" style=\"text-align: left;\">\n",
       "                            <strong>Local directory: </strong> C:\\Users\\jacob\\AppData\\Local\\Temp\\dask-worker-space\\worker-db3pd6r8\n",
       "                        </td>\n",
       "                    </tr>\n",
       "\n",
       "                    \n",
       "\n",
       "                    \n",
       "\n",
       "                </table>\n",
       "            </details>\n",
       "            </div>\n",
       "        </div>\n",
       "        \n",
       "        <div style=\"margin-bottom: 20px;\">\n",
       "            <div style=\"width: 24px; height: 24px; background-color: #DBF5FF; border: 3px solid #4CC9FF; border-radius: 5px; position: absolute;\"> </div>\n",
       "            <div style=\"margin-left: 48px;\">\n",
       "            <details>\n",
       "                <summary>\n",
       "                    <h4 style=\"margin-bottom: 0px; display: inline;\">Worker: 2</h4>\n",
       "                </summary>\n",
       "                <table style=\"width: 100%; text-align: left;\">\n",
       "                    <tr>\n",
       "                        <td style=\"text-align: left;\">\n",
       "                            <strong>Comm: </strong> tcp://127.0.0.1:65288\n",
       "                        </td>\n",
       "                        <td style=\"text-align: left;\">\n",
       "                            <strong>Total threads: </strong> 3\n",
       "                        </td>\n",
       "                    </tr>\n",
       "                    <tr>\n",
       "                        <td style=\"text-align: left;\">\n",
       "                            <strong>Dashboard: </strong> <a href=\"http://127.0.0.1:65289/status\" target=\"_blank\">http://127.0.0.1:65289/status</a>\n",
       "                        </td>\n",
       "                        <td style=\"text-align: left;\">\n",
       "                            <strong>Memory: </strong> 5.32 GiB\n",
       "                        </td>\n",
       "                    </tr>\n",
       "                    <tr>\n",
       "                        <td style=\"text-align: left;\">\n",
       "                            <strong>Nanny: </strong> tcp://127.0.0.1:65248\n",
       "                        </td>\n",
       "                        <td style=\"text-align: left;\"></td>\n",
       "                    </tr>\n",
       "                    <tr>\n",
       "                        <td colspan=\"2\" style=\"text-align: left;\">\n",
       "                            <strong>Local directory: </strong> C:\\Users\\jacob\\AppData\\Local\\Temp\\dask-worker-space\\worker-0yecqhsa\n",
       "                        </td>\n",
       "                    </tr>\n",
       "\n",
       "                    \n",
       "\n",
       "                    \n",
       "\n",
       "                </table>\n",
       "            </details>\n",
       "            </div>\n",
       "        </div>\n",
       "        \n",
       "        <div style=\"margin-bottom: 20px;\">\n",
       "            <div style=\"width: 24px; height: 24px; background-color: #DBF5FF; border: 3px solid #4CC9FF; border-radius: 5px; position: absolute;\"> </div>\n",
       "            <div style=\"margin-left: 48px;\">\n",
       "            <details>\n",
       "                <summary>\n",
       "                    <h4 style=\"margin-bottom: 0px; display: inline;\">Worker: 3</h4>\n",
       "                </summary>\n",
       "                <table style=\"width: 100%; text-align: left;\">\n",
       "                    <tr>\n",
       "                        <td style=\"text-align: left;\">\n",
       "                            <strong>Comm: </strong> tcp://127.0.0.1:65285\n",
       "                        </td>\n",
       "                        <td style=\"text-align: left;\">\n",
       "                            <strong>Total threads: </strong> 3\n",
       "                        </td>\n",
       "                    </tr>\n",
       "                    <tr>\n",
       "                        <td style=\"text-align: left;\">\n",
       "                            <strong>Dashboard: </strong> <a href=\"http://127.0.0.1:65286/status\" target=\"_blank\">http://127.0.0.1:65286/status</a>\n",
       "                        </td>\n",
       "                        <td style=\"text-align: left;\">\n",
       "                            <strong>Memory: </strong> 5.32 GiB\n",
       "                        </td>\n",
       "                    </tr>\n",
       "                    <tr>\n",
       "                        <td style=\"text-align: left;\">\n",
       "                            <strong>Nanny: </strong> tcp://127.0.0.1:65249\n",
       "                        </td>\n",
       "                        <td style=\"text-align: left;\"></td>\n",
       "                    </tr>\n",
       "                    <tr>\n",
       "                        <td colspan=\"2\" style=\"text-align: left;\">\n",
       "                            <strong>Local directory: </strong> C:\\Users\\jacob\\AppData\\Local\\Temp\\dask-worker-space\\worker-xk6emckk\n",
       "                        </td>\n",
       "                    </tr>\n",
       "\n",
       "                    \n",
       "\n",
       "                    \n",
       "\n",
       "                </table>\n",
       "            </details>\n",
       "            </div>\n",
       "        </div>\n",
       "        \n",
       "        <div style=\"margin-bottom: 20px;\">\n",
       "            <div style=\"width: 24px; height: 24px; background-color: #DBF5FF; border: 3px solid #4CC9FF; border-radius: 5px; position: absolute;\"> </div>\n",
       "            <div style=\"margin-left: 48px;\">\n",
       "            <details>\n",
       "                <summary>\n",
       "                    <h4 style=\"margin-bottom: 0px; display: inline;\">Worker: 4</h4>\n",
       "                </summary>\n",
       "                <table style=\"width: 100%; text-align: left;\">\n",
       "                    <tr>\n",
       "                        <td style=\"text-align: left;\">\n",
       "                            <strong>Comm: </strong> tcp://127.0.0.1:65279\n",
       "                        </td>\n",
       "                        <td style=\"text-align: left;\">\n",
       "                            <strong>Total threads: </strong> 3\n",
       "                        </td>\n",
       "                    </tr>\n",
       "                    <tr>\n",
       "                        <td style=\"text-align: left;\">\n",
       "                            <strong>Dashboard: </strong> <a href=\"http://127.0.0.1:65281/status\" target=\"_blank\">http://127.0.0.1:65281/status</a>\n",
       "                        </td>\n",
       "                        <td style=\"text-align: left;\">\n",
       "                            <strong>Memory: </strong> 5.32 GiB\n",
       "                        </td>\n",
       "                    </tr>\n",
       "                    <tr>\n",
       "                        <td style=\"text-align: left;\">\n",
       "                            <strong>Nanny: </strong> tcp://127.0.0.1:65250\n",
       "                        </td>\n",
       "                        <td style=\"text-align: left;\"></td>\n",
       "                    </tr>\n",
       "                    <tr>\n",
       "                        <td colspan=\"2\" style=\"text-align: left;\">\n",
       "                            <strong>Local directory: </strong> C:\\Users\\jacob\\AppData\\Local\\Temp\\dask-worker-space\\worker-402y6uy9\n",
       "                        </td>\n",
       "                    </tr>\n",
       "\n",
       "                    \n",
       "\n",
       "                    \n",
       "\n",
       "                </table>\n",
       "            </details>\n",
       "            </div>\n",
       "        </div>\n",
       "        \n",
       "        <div style=\"margin-bottom: 20px;\">\n",
       "            <div style=\"width: 24px; height: 24px; background-color: #DBF5FF; border: 3px solid #4CC9FF; border-radius: 5px; position: absolute;\"> </div>\n",
       "            <div style=\"margin-left: 48px;\">\n",
       "            <details>\n",
       "                <summary>\n",
       "                    <h4 style=\"margin-bottom: 0px; display: inline;\">Worker: 5</h4>\n",
       "                </summary>\n",
       "                <table style=\"width: 100%; text-align: left;\">\n",
       "                    <tr>\n",
       "                        <td style=\"text-align: left;\">\n",
       "                            <strong>Comm: </strong> tcp://127.0.0.1:65273\n",
       "                        </td>\n",
       "                        <td style=\"text-align: left;\">\n",
       "                            <strong>Total threads: </strong> 3\n",
       "                        </td>\n",
       "                    </tr>\n",
       "                    <tr>\n",
       "                        <td style=\"text-align: left;\">\n",
       "                            <strong>Dashboard: </strong> <a href=\"http://127.0.0.1:65274/status\" target=\"_blank\">http://127.0.0.1:65274/status</a>\n",
       "                        </td>\n",
       "                        <td style=\"text-align: left;\">\n",
       "                            <strong>Memory: </strong> 5.32 GiB\n",
       "                        </td>\n",
       "                    </tr>\n",
       "                    <tr>\n",
       "                        <td style=\"text-align: left;\">\n",
       "                            <strong>Nanny: </strong> tcp://127.0.0.1:65251\n",
       "                        </td>\n",
       "                        <td style=\"text-align: left;\"></td>\n",
       "                    </tr>\n",
       "                    <tr>\n",
       "                        <td colspan=\"2\" style=\"text-align: left;\">\n",
       "                            <strong>Local directory: </strong> C:\\Users\\jacob\\AppData\\Local\\Temp\\dask-worker-space\\worker-97rjcy5r\n",
       "                        </td>\n",
       "                    </tr>\n",
       "\n",
       "                    \n",
       "\n",
       "                    \n",
       "\n",
       "                </table>\n",
       "            </details>\n",
       "            </div>\n",
       "        </div>\n",
       "        \n",
       "\n",
       "    </details>\n",
       "</div>\n",
       "\n",
       "        </details>\n",
       "    </div>\n",
       "</div>\n",
       "            </details>\n",
       "        \n",
       "\n",
       "    </div>\n",
       "</div>"
      ],
      "text/plain": [
       "<Client: 'tcp://127.0.0.1:65243' processes=6 threads=18, memory=31.93 GiB>"
      ]
     },
     "execution_count": 17,
     "metadata": {},
     "output_type": "execute_result"
    }
   ],
   "source": [
    "from dask.distributed import Client\n",
    "\n",
    "client = Client(n_workers=6)\n",
    "client"
   ]
  },
  {
   "cell_type": "markdown",
   "id": "cd8cacd8-4c48-4eea-930c-33f3fe834410",
   "metadata": {},
   "source": [
    "After intializing the client object, any *ab*TEM computation will use the Dask distributed scheduler."
   ]
  },
  {
   "cell_type": "code",
   "execution_count": 18,
   "id": "2b0d7e8f-24dd-4ada-9650-874e750a3652",
   "metadata": {},
   "outputs": [
    {
     "data": {
      "text/plain": [
       "<abtem.measurements.Images object at 0x000001D03A939330>"
      ]
     },
     "execution_count": 18,
     "metadata": {},
     "output_type": "execute_result"
    }
   ],
   "source": [
    "haadf_images = detector.detect(exit_waves_stem).reduce_ensemble()\n",
    "haadf_images.compute() #compute()"
   ]
  },
  {
   "cell_type": "markdown",
   "id": "31a20506-7155-45f0-b641-3931bbb20029",
   "metadata": {},
   "source": [
    "A benefit of using the distributed scheduler on a single machine is the live diagnostic dashboard. You can access this through the Dashboard link shown in the `__repr__` for the `Client` above (for details you can watch [this](https://www.youtube.com/watch?v=N_GqzcuGLCY) video walkthrough). If you are using Jupyter Lab, the [Dask labextension](https://github.com/dask/dask-labextension) provides the same information as a panel inside the Jupyter Lab editor.\n",
    "\n",
    "We can get back to the local scheduler by closing the `Client`."
   ]
  },
  {
   "cell_type": "code",
   "execution_count": 19,
   "id": "e38de7a7-2b82-442e-8258-d9e2717a7b2b",
   "metadata": {},
   "outputs": [],
   "source": [
    "client.close()"
   ]
  },
  {
   "cell_type": "markdown",
   "id": "dffe61f7-43d8-47e6-a00a-3e73e33320ad",
   "metadata": {},
   "source": [
    "### Running *ab*TEM on HPC clusters\n",
    "\n",
    "Dask (and thus *ab*TEM) has robust tools for deployment on high-performance compute clusters. We recommend consulting your HPC provider on how to deploy Dask applications on your available cluster. For general advice on deployment, please see the [Dask documentation](https://docs.dask.org/en/stable/deploying.html).\n",
    "\n",
    "#### Submitting job scripts \n",
    "\n",
    "As an overview, Dask provides a number of different cluster managers, so you can use distributed Dask on a range of platforms. These cluster managers deploy a scheduler and the necessary workers as determined by communicating with the resource manager. All cluster managers follow the same interface but have platform-specific configuration options.\n",
    "\n",
    "As an example, for deployment using [SLURM](https://slurm.schedmd.com/documentation.html), your script might look something like:\n",
    "\n",
    "```python\n",
    "from dask_jobqueue import SLURMCluster\n",
    "from dask.distributed import Client\n",
    "\n",
    "cluster = SLURMCluster(\n",
    "    queue=\"regular\",\n",
    "    account=\"myaccount\",\n",
    "    cores=32,\n",
    "    memory=\"128 GB\"\n",
    ")\n",
    "\n",
    "client = Client(cluster)\n",
    "\n",
    "# Your abTEM code goes here\n",
    "\n",
    "```\n",
    "\n",
    "Dask also supports deployment from within an existing MPI environment, such as one created with the common MPI command-line launcher `mpirun`, see [here](http://mpi.dask.org/en/latest/) for more information. You can turn your batch Python script into an MPI executable with the `dask_mpi.initialize` function. \n",
    "\n",
    "```python\n",
    "from dask_mpi import initialize\n",
    "initialize()\n",
    "\n",
    "from dask.distributed import Client\n",
    "client = Client()  # Connect this local process to remote workers\n",
    "\n",
    "# Your abTEM code goes here\n",
    "```\n",
    "\n",
    "This makes your Python script launchable directly with `mpirun`:\n",
    "```\n",
    "mpirun -np 4 python my_client_script.py\n",
    "```"
   ]
  },
  {
   "cell_type": "markdown",
   "id": "e39cb8d2-a898-478d-9831-275ac5f2f06b",
   "metadata": {
    "pycharm": {
     "name": "#%% md\n"
    }
   },
   "source": [
    "(walkthrough:parallelization:gpu)=\n",
    "## Using GPUs\n",
    "\n",
    "Almost every part of *ab*TEM can be accelerated using a GPU through the [CuPy](https://cupy.dev/) library. We have only tested CUDA-compatible GPUs, but any graphics card compatible with CuPy should work.\n",
    "\n",
    "If you have a compatible GPU and a working installation of CuPy, you can accelerate your image simulations by simply changing the configs at the top of your document as below:\n",
    "```python\n",
    "abtem.config.set({\"device\": \"gpu\"});\n",
    "```\n",
    "On a single GPU, you may also want to limit the number of workers to one, `num_workers=1`. As described above, this may be done through the Dask config:\n",
    "```python\n",
    "dask.config.set({\"num_workers\": 1});\n",
    "```\n",
    "\n",
    "Note that Dask does not manage GPU threads. This makes the choice of batch sizes (i.e. propagating multiple wave functions in a single batch) extremely important in order to fully utilize your GPU. The default batch size in GPU calculations in abTEM is $512\\ \\mathrm{MB}$, which is four times larger than the CPU batch size, but if your GPU has $8\\ \\mathrm{GB}$ or more memory, you will likely be able to increase this number to $2048\\ \\mathrm{MB}$.\n",
    "\n",
    "```python\n",
    "abtem.config.set({\"dask.chunk-size-gpu\" : \"512 MB\"})\n",
    "```\n",
    "\n",
    "```{note}\n",
    "The batch size only determines the maximum number of plane waves in a batch, so you need to leave room in the memory for any intermediate overhead. \n",
    "```\n",
    "\n",
    "Finally, *ab*TEM by default sets the [FFT plan cache](https://docs.cupy.dev/en/stable/user_guide/fft.html#fft-plan-cache) size of `cupy` to zero, as we find that in most cases the increased memory consumption of the plans are not worth the small speedup they provide. You can however also change this through the *ab*TEM config.\n",
    "\n",
    "```python\n",
    "abtem.config.set({\"cupy.fft-cache-size\" : \"1024 MB\"})\n",
    "```"
   ]
  },
  {
   "cell_type": "markdown",
   "id": "94cdb086-c8a9-4736-a345-311d47379f34",
   "metadata": {},
   "source": [
    "### Multiple GPUs \n",
    "The above is enough for running *ab*TEM on a single GPU; if you are using an NVidia GPU, you may want to install `dask_cuda` (this is currently only supported on Linux). However, `dask_cuda` is currently necessary for multi-GPU calculations with *ab*TEM.\n",
    "\n",
    "```python\n",
    "from dask_cuda import LocalCUDACluster\n",
    "from dask.distributed import Client\n",
    "\n",
    "cluster = LocalCUDACluster()\n",
    "client = Client(cluster)\n",
    "```"
   ]
  },
  {
   "cell_type": "code",
   "execution_count": null,
   "id": "fa8f869a-ec10-4126-afc5-4c0bfaff3179",
   "metadata": {},
   "outputs": [],
   "source": []
  }
 ],
 "metadata": {
  "kernelspec": {
   "display_name": "abtem-dask",
   "language": "python",
   "name": "abtem-dask"
  },
  "language_info": {
   "codemirror_mode": {
    "name": "ipython",
    "version": 3
   },
   "file_extension": ".py",
   "mimetype": "text/x-python",
   "name": "python",
   "nbconvert_exporter": "python",
   "pygments_lexer": "ipython3",
   "version": "3.10.8"
  },
  "widgets": {
   "application/vnd.jupyter.widget-state+json": {
    "state": {
     "01a1b1a182ab4717b0668cfd314dc82c": {
      "model_module": "jupyter-cytoscape",
      "model_module_version": "^1.3.3",
      "model_name": "NodeModel",
      "state": {
       "_model_module_version": "^1.3.3",
       "_view_module_version": "^1.3.3",
       "data": {
        "color": "gray",
        "id": "1085411951500026183",
        "label": "3",
        "shape": "rectangle"
       },
       "grabbable": true,
       "grabbed": false,
       "position": {
        "x": 545.5,
        "y": 1475
       },
       "selectable": false
      }
     },
     "03285788305e48a2957f97163af71c9d": {
      "model_module": "jupyter-cytoscape",
      "model_module_version": "^1.3.3",
      "model_name": "NodeModel",
      "state": {
       "_model_module_version": "^1.3.3",
       "_view_module_version": "^1.3.3",
       "data": {
        "color": "gray",
        "id": "-2809696302256404093",
        "label": "intensity",
        "shape": "ellipse"
       },
       "grabbable": true,
       "grabbed": false,
       "position": {
        "x": 545.5,
        "y": 875
       },
       "selectable": false
      }
     },
     "0438c39260754275b41a5da345d9b3d5": {
      "model_module": "jupyter-cytoscape",
      "model_module_version": "^1.3.3",
      "model_name": "NodeModel",
      "state": {
       "_model_module_version": "^1.3.3",
       "_view_module_version": "^1.3.3",
       "data": {
        "color": "gray",
        "id": "7678235076085439578",
        "label": "(1, 0, 0)",
        "shape": "rectangle"
       },
       "grabbable": true,
       "grabbed": false,
       "position": {
        "x": 545.5,
        "y": 35
       },
       "selectable": false
      }
     },
     "05229d530a104b74846569ad1c0cb75d": {
      "model_module": "jupyter-cytoscape",
      "model_module_version": "^1.3.3",
      "model_name": "NodeModel",
      "state": {
       "_model_module_version": "^1.3.3",
       "_view_module_version": "^1.3.3",
       "data": {
        "color": "gray",
        "id": "-529154775629275876",
        "label": "1",
        "shape": "rectangle"
       },
       "grabbable": true,
       "grabbed": false,
       "position": {
        "x": 1279.5,
        "y": 1475
       },
       "selectable": false
      }
     },
     "0715f0dacd4d4b5a8abf6587bf77654f": {
      "model_module": "jupyter-cytoscape",
      "model_module_version": "^1.3.3",
      "model_name": "NodeModel",
      "state": {
       "_model_module_version": "^1.3.3",
       "_view_module_version": "^1.3.3",
       "data": {
        "color": "gray",
        "id": "-8212648725776401941",
        "label": "0",
        "shape": "rectangle"
       },
       "grabbable": true,
       "grabbed": false,
       "position": {
        "x": 912.5,
        "y": 635
       },
       "selectable": false
      }
     },
     "077e5524962d4a25a58c3082ba95820c": {
      "model_module": "@jupyter-widgets/base",
      "model_module_version": "2.0.0",
      "model_name": "LayoutModel",
      "state": {
       "height": "400px"
      }
     },
     "0882d87a04c143108c668d0bb8c9baa5": {
      "model_module": "jupyter-cytoscape",
      "model_module_version": "^1.3.3",
      "model_name": "NodeModel",
      "state": {
       "_model_module_version": "^1.3.3",
       "_view_module_version": "^1.3.3",
       "data": {
        "color": "gray",
        "id": "-2843519414721284291",
        "label": "(2, 0, 0)",
        "shape": "rectangle"
       },
       "grabbable": true,
       "grabbed": false,
       "position": {
        "x": 178.5,
        "y": 995
       },
       "selectable": false
      }
     },
     "0c7407524bc249cba5fa5135b43cf5df": {
      "model_module": "jupyter-cytoscape",
      "model_module_version": "^1.3.3",
      "model_name": "EdgeModel",
      "state": {
       "_model_module_version": "^1.3.3",
       "_view_module_version": "^1.3.3",
       "classes": " directed ",
       "data": {
        "id": "a89dd2ee-b9c6-496d-b626-9e1d7595642e",
        "source": "1723271752263943708",
        "target": "-3606315626874523598"
       },
       "selectable": false
      }
     },
     "0d60301aa43a4b17a80b81978c59be49": {
      "model_module": "jupyter-cytoscape",
      "model_module_version": "^1.3.3",
      "model_name": "NodeModel",
      "state": {
       "_model_module_version": "^1.3.3",
       "_view_module_version": "^1.3.3",
       "data": {
        "color": "gray",
        "id": "-4888149582364544781",
        "label": "extract_measurement",
        "shape": "ellipse"
       },
       "grabbable": true,
       "grabbed": false,
       "position": {
        "x": 545.5,
        "y": 155
       },
       "selectable": false
      }
     },
     "0e212a9963cd4373b4396aa60b889f4e": {
      "model_module": "jupyter-cytoscape",
      "model_module_version": "^1.3.3",
      "model_name": "EdgeModel",
      "state": {
       "_model_module_version": "^1.3.3",
       "_view_module_version": "^1.3.3",
       "classes": " directed ",
       "data": {
        "id": "b6a0003c-0154-4014-b486-b2996bee3ebd",
        "source": "-5781255077600032181",
        "target": "997040717761818877"
       },
       "selectable": false
      }
     },
     "0f743def3aa0445db605d9ae09eeb863": {
      "model_module": "jupyter-cytoscape",
      "model_module_version": "^1.3.3",
      "model_name": "EdgeModel",
      "state": {
       "_model_module_version": "^1.3.3",
       "_view_module_version": "^1.3.3",
       "classes": " directed ",
       "data": {
        "id": "8f45d41b-89e2-48a5-9902-87825c61cca7",
        "source": "-975648152280315770",
        "target": "-5454616645910432204"
       },
       "selectable": false
      }
     },
     "1094bdcc9e4d46f5b1e4a183667d1835": {
      "model_module": "jupyter-cytoscape",
      "model_module_version": "^1.3.3",
      "model_name": "NodeModel",
      "state": {
       "_model_module_version": "^1.3.3",
       "_view_module_version": "^1.3.3",
       "data": {
        "color": "gray",
        "id": "5337896784629353535",
        "label": "",
        "shape": "rectangle"
       },
       "grabbable": true,
       "grabbed": false,
       "position": {
        "x": 912.5,
        "y": 995
       },
       "selectable": false
      }
     },
     "10e5b7661692469283aa27d3bc6e77b7": {
      "model_module": "jupyter-cytoscape",
      "model_module_version": "^1.3.3",
      "model_name": "EdgeModel",
      "state": {
       "_model_module_version": "^1.3.3",
       "_view_module_version": "^1.3.3",
       "classes": " directed ",
       "data": {
        "id": "4ad7977d-0207-4092-89fd-6831a4001db5",
        "source": "-8212648725776401941",
        "target": "5978485980472722549"
       },
       "selectable": false
      }
     },
     "19394db256b34199aafe61c08d004efa": {
      "model_module": "jupyter-cytoscape",
      "model_module_version": "^1.3.3",
      "model_name": "EdgeModel",
      "state": {
       "_model_module_version": "^1.3.3",
       "_view_module_version": "^1.3.3",
       "classes": " directed ",
       "data": {
        "id": "ce099467-f733-42b4-9a4c-c4b801835bff",
        "source": "8109201440656814751",
        "target": "-8911303611153779914"
       },
       "selectable": false
      }
     },
     "19a481eeae9f4b839680a5db2225deb2": {
      "model_module": "jupyter-cytoscape",
      "model_module_version": "^1.3.3",
      "model_name": "NodeModel",
      "state": {
       "_model_module_version": "^1.3.3",
       "_view_module_version": "^1.3.3",
       "data": {
        "color": "gray",
        "id": "5978485980472722549",
        "label": "2",
        "shape": "rectangle"
       },
       "grabbable": true,
       "grabbed": false,
       "position": {
        "x": 178.5,
        "y": 1475
       },
       "selectable": false
      }
     },
     "1a55d88f1b8c4efcb5f31cdd2b0d9f7d": {
      "model_module": "jupyter-cytoscape",
      "model_module_version": "^1.3.3",
      "model_name": "GraphModel",
      "state": {
       "_adj": {
        "-1112242655355811420": {},
        "-147531381724615491": {},
        "-1551061172200993735": {},
        "-1892055594409640941": {},
        "-2096639438270986525": {},
        "-209718090337684999": {},
        "-2638438148746906173": {},
        "-2794818360831510968": {},
        "-2809696302256404093": {},
        "-2843519414721284291": {},
        "-2993913355004686177": {},
        "-3488440626372327540": {},
        "-3606315626874523598": {},
        "-3648763719720139567": {},
        "-3896033311210877489": {},
        "-4455112467544290847": {},
        "-4873302259584143306": {},
        "-4888149582364544781": {},
        "-5022760253900524454": {},
        "-529154775629275876": {},
        "-5454616645910432204": {},
        "-5781255077600032181": {},
        "-6274431168249504483": {},
        "-6458404547314626517": {},
        "-7173382570491175912": {},
        "-81111989138868833": {},
        "-8212648725776401941": {},
        "-8559770428161864702": {},
        "-8911303611153779914": {},
        "-975648152280315770": {},
        "1085411951500026183": {},
        "1468814177293301289": {},
        "1723271752263943708": {},
        "2369830892600547874": {},
        "2611607444891120936": {},
        "3316935581664010410": {},
        "4007050532627957381": {},
        "4527726134442228481": {},
        "5190833689647490477": {},
        "525425437570452154": {},
        "5337896784629353535": {},
        "5648452231222580563": {},
        "5899377041639488664": {},
        "5978485980472722549": {},
        "6029605610067576814": {},
        "6411248443375819870": {},
        "641647815826442644": {},
        "6958159432146507029": {},
        "7527841135802037692": {},
        "7678235076085439578": {},
        "7927772020698749667": {},
        "8109201440656814751": {},
        "82232189849975367": {},
        "8543881921210405712": {},
        "8554607745120336249": {},
        "8566637398729270391": {},
        "8688960620195388608": {},
        "997040717761818877": {}
       },
       "_model_module_version": "^1.3.3",
       "_view_module": "jupyter-cytoscape",
       "_view_module_version": "^1.3.3",
       "edges": [
        "IPY_MODEL_7779a1994aaf427f83f3647c58608a8c",
        "IPY_MODEL_4c9406be264a470aba739bf394c04d99",
        "IPY_MODEL_10e5b7661692469283aa27d3bc6e77b7",
        "IPY_MODEL_3b40fb831f7e42728a0c98c8ca569eda",
        "IPY_MODEL_c23507194a754a5f93db65c99a90df8f",
        "IPY_MODEL_8d4e7e9af69a444ca24a05cde8ee9db9",
        "IPY_MODEL_e88f3bf82c864c929d2c954f17b5b080",
        "IPY_MODEL_5e67baf8078c49ff8db2b6df9b7ead84",
        "IPY_MODEL_19394db256b34199aafe61c08d004efa",
        "IPY_MODEL_932bcbd5e90c4c5d8bf511da3eb6a9d4",
        "IPY_MODEL_66430b6bf8d047ed9fd47538f5b13dd2",
        "IPY_MODEL_83a3f5a44fac4d4da665db16b1549ba9",
        "IPY_MODEL_80f846420d634481a0c4d66ea0d5b9b7",
        "IPY_MODEL_efd294cdbdfe4a89a63a0bc0e5b3f5c0",
        "IPY_MODEL_d2ddc4d57864423884388a86e4635e86",
        "IPY_MODEL_0f743def3aa0445db605d9ae09eeb863",
        "IPY_MODEL_9e8c87c8898646ef92edfe0381324b9d",
        "IPY_MODEL_6802521290c747b09e6484ee74a3969d",
        "IPY_MODEL_0e212a9963cd4373b4396aa60b889f4e",
        "IPY_MODEL_913aed477ad348cd97a0d4b421bb720a",
        "IPY_MODEL_a25fc171409546079910b5370f06405b",
        "IPY_MODEL_8aa9782896944aa1ac592ee720722974",
        "IPY_MODEL_1feadfe2d25347c4a52000498f1ee000",
        "IPY_MODEL_58ccda56ed8f49a8922298a9c47a402e",
        "IPY_MODEL_78ea0a5f6c8e419a98a01af19741324b",
        "IPY_MODEL_a1c59d4749ee4632a2226ed330552add",
        "IPY_MODEL_839a6f2b19384aa2bc62681284e5b602",
        "IPY_MODEL_a4cec0d988f9473899124881556e6c57",
        "IPY_MODEL_2cf4ac42da4143fcad2a6a30056c74d1",
        "IPY_MODEL_a4155edacc6440e885b01a55f80a8659",
        "IPY_MODEL_0c7407524bc249cba5fa5135b43cf5df",
        "IPY_MODEL_dad046dd28ec4937b48c5532d3b4cb83",
        "IPY_MODEL_6ddae9d98986408aba04acf38f3dbb99",
        "IPY_MODEL_ee6cd1ed0450410eb703e87e635bf3d9",
        "IPY_MODEL_85d5005b9e5942878a2f695b46743a14",
        "IPY_MODEL_658c138924d84a37ae0ebacbf76dcc59",
        "IPY_MODEL_e30bd6c6edb848589f31805637a687b4",
        "IPY_MODEL_1c9610c18825427c9b5a1ce10d5f7df1",
        "IPY_MODEL_40d367de79c14a488bc7db0caec77ec3",
        "IPY_MODEL_b80a4a078cfd478d88faf6c0a7c23ce1",
        "IPY_MODEL_b5707b6b0d5c4ff684a39d7df54ff2b8",
        "IPY_MODEL_27b24f657b85484c87cda626730be557",
        "IPY_MODEL_3a426e3e72534a60a428ac9f2f78a634",
        "IPY_MODEL_fd1ce3869a0a4a5eb1bc98a2757ce8da",
        "IPY_MODEL_f08783e19eae480990e121261841d87b",
        "IPY_MODEL_7638def0b1df4363b1021341dfe699b3",
        "IPY_MODEL_4d99b9b17d5d4b66ad8927d8c436af5f",
        "IPY_MODEL_2d8c91ad8a32426cb29610635d28405b",
        "IPY_MODEL_36e8a683e1d74e4ca625b42b0b762174",
        "IPY_MODEL_cdd176ca8a8440c5bfb080ee0b3e373f",
        "IPY_MODEL_6b6c0813e47f44c5b6cd8a6b8ca7f0b9",
        "IPY_MODEL_e1406d805c1b4abaa67c4297ffb41c2c",
        "IPY_MODEL_70568d12a32543b38f5e39d3ecf3d5fd",
        "IPY_MODEL_ca480753033c4eb88149367ef11dd84f",
        "IPY_MODEL_a6375f76620a43d3a6d28f6b3a108e26",
        "IPY_MODEL_a754eb9bb3b4427295914183bfb4b20b",
        "IPY_MODEL_ae45b58112ce48c891dc781d07e646e8"
       ],
       "nodes": [
        "IPY_MODEL_903b7d87e666447094c1d0efd3ed9f8a",
        "IPY_MODEL_05229d530a104b74846569ad1c0cb75d",
        "IPY_MODEL_19a481eeae9f4b839680a5db2225deb2",
        "IPY_MODEL_01a1b1a182ab4717b0668cfd314dc82c",
        "IPY_MODEL_360438d1d02746ab923f548d14bc6437",
        "IPY_MODEL_5a7520a8ed8d4b8c9db79eccac38a18a",
        "IPY_MODEL_bc611271d89847c3a8cd558b34bc2954",
        "IPY_MODEL_7ad1077301ae4797815f14d2a0d47b59",
        "IPY_MODEL_353b0c0c2d324ffa986c9aa254cb73a3",
        "IPY_MODEL_e90eb2fdf6d141bdb131051c637d0a21",
        "IPY_MODEL_b4bded753b0546fdb876e725201887d0",
        "IPY_MODEL_c424a9a28c8348e6b2c414be03170c80",
        "IPY_MODEL_d2b9e551acac47cf9e3441968488f5ac",
        "IPY_MODEL_76ee91af9f2a4e34a3052eae18d91c81",
        "IPY_MODEL_31177496a8ee4755aca30ea369d84662",
        "IPY_MODEL_83f7f7397f3844c3af6abb922cf7eac4",
        "IPY_MODEL_cf329c7704f347cc9c4fb3b891600307",
        "IPY_MODEL_73717528bc624909bfba83fe5c22e71d",
        "IPY_MODEL_c9cb8b3181704b8c8debad3302eb84c9",
        "IPY_MODEL_d136e3cde1964115a68877ec56697617",
        "IPY_MODEL_fec60ec6c42b491da85e71adef7ce87d",
        "IPY_MODEL_fbad697efc4a4d8fb2b5d02f5c391cde",
        "IPY_MODEL_fad86f9bec6f4dd4998cd5cc23ec2178",
        "IPY_MODEL_aa7b299f6b4d48da9557d571e3c01aa1",
        "IPY_MODEL_219ceff6dc4c4ceaac0b93fa663591c4",
        "IPY_MODEL_46e43ccce5e34133b819c41b67048d08",
        "IPY_MODEL_d8497552606742e982131651fb107295",
        "IPY_MODEL_d68f2a363d2b453db9e56911693a3fad",
        "IPY_MODEL_344d24581fae4b8687d2d3a39f5629bf",
        "IPY_MODEL_6cec3e8b7f094a2b8d6b76eb0b2c3b80",
        "IPY_MODEL_6e0d7bea103f4077942eb38e583f6f90",
        "IPY_MODEL_ea79fcfb3cef49489b231ef060e5325d",
        "IPY_MODEL_d945b5fb873945509593c4a535b29950",
        "IPY_MODEL_0882d87a04c143108c668d0bb8c9baa5",
        "IPY_MODEL_ecf6c5f3cfda49aab4aad0becb10210c",
        "IPY_MODEL_50cef50ccc5442318558fe821fcd15fd",
        "IPY_MODEL_24f1a71fbbc54493abae9272421e44c4",
        "IPY_MODEL_ba84041b4cd448469529fb31ed1b7d5f",
        "IPY_MODEL_5d84be3e79dd464eb066837faa5e6896",
        "IPY_MODEL_505ff53631bb47dc942f01f5938428cc",
        "IPY_MODEL_b307db0d1a69413f8ca55aea070e2420",
        "IPY_MODEL_57b7ea72609744bd972755e62135c7ad",
        "IPY_MODEL_03285788305e48a2957f97163af71c9d",
        "IPY_MODEL_d3252fda24644dd3ba1a27e385754d31",
        "IPY_MODEL_c2b14ebd73504b2781c6313bae5f3564",
        "IPY_MODEL_5073f05b837e4b77b261849039343317",
        "IPY_MODEL_5ead1f2695ce4f6d919912c7cb3a2349",
        "IPY_MODEL_1d57d432ada84aafb54f4253f79352ce",
        "IPY_MODEL_a7de5189d5b64159b471017f871fc6e2",
        "IPY_MODEL_c083aee53b3a4b2b98dcfad40abcbbd4",
        "IPY_MODEL_3e426ab2c3424c308c832e067052d3fa",
        "IPY_MODEL_1a60633069e544f6a973971f2040678e",
        "IPY_MODEL_e45d1da1aeb54bd8b55ec3579dbdef0f",
        "IPY_MODEL_46aa55f6fff441c58797aa1087e247eb",
        "IPY_MODEL_776ac2d7af3c475db98c187ed7e286fa",
        "IPY_MODEL_92a5fb3200cd43b5b69f03c799e0a185",
        "IPY_MODEL_9333500e49dd4b96bc1c86b75d74b5dd",
        "IPY_MODEL_2ba8bdf59cf64ac9afdfb7dbe60f5a06"
       ]
      }
     },
     "1a60633069e544f6a973971f2040678e": {
      "model_module": "jupyter-cytoscape",
      "model_module_version": "^1.3.3",
      "model_name": "NodeModel",
      "state": {
       "_model_module_version": "^1.3.3",
       "_view_module_version": "^1.3.3",
       "data": {
        "color": "gray",
        "id": "8566637398729270391",
        "label": "(3, 0, 0)",
        "shape": "rectangle"
       },
       "grabbable": true,
       "grabbed": false,
       "position": {
        "x": 545.5,
        "y": 515
       },
       "selectable": false
      }
     },
     "1c9610c18825427c9b5a1ce10d5f7df1": {
      "model_module": "jupyter-cytoscape",
      "model_module_version": "^1.3.3",
      "model_name": "EdgeModel",
      "state": {
       "_model_module_version": "^1.3.3",
       "_view_module_version": "^1.3.3",
       "classes": " directed ",
       "data": {
        "id": "59d81d10-e45a-4026-ad33-8b946368c3e0",
        "source": "-2843519414721284291",
        "target": "4527726134442228481"
       },
       "selectable": false
      }
     },
     "1d09727420f045b19d67817f2bf5c692": {
      "model_module": "jupyter-cytoscape",
      "model_module_version": "^1.3.3",
      "model_name": "EdgeModel",
      "state": {
       "_model_module_version": "^1.3.3",
       "_view_module_version": "^1.3.3",
       "classes": " directed ",
       "data": {
        "id": "50c36be3-7178-4004-8a48-e09c86d1225d",
        "source": "-5454616645910432204",
        "target": "1085411951500026183"
       },
       "selectable": false
      }
     },
     "1d57d432ada84aafb54f4253f79352ce": {
      "model_module": "jupyter-cytoscape",
      "model_module_version": "^1.3.3",
      "model_name": "NodeModel",
      "state": {
       "_model_module_version": "^1.3.3",
       "_view_module_version": "^1.3.3",
       "data": {
        "color": "gray",
        "id": "-2993913355004686177",
        "label": "(1, 0, 0)",
        "shape": "rectangle"
       },
       "grabbable": true,
       "grabbed": false,
       "position": {
        "x": 1279.5,
        "y": 515
       },
       "selectable": false
      }
     },
     "1feadfe2d25347c4a52000498f1ee000": {
      "model_module": "jupyter-cytoscape",
      "model_module_version": "^1.3.3",
      "model_name": "EdgeModel",
      "state": {
       "_model_module_version": "^1.3.3",
       "_view_module_version": "^1.3.3",
       "classes": " directed ",
       "data": {
        "id": "9b6f9cca-a860-40ff-ba2e-912d49f17842",
        "source": "-7173382570491175912",
        "target": "2611607444891120936"
       },
       "selectable": false
      }
     },
     "219ceff6dc4c4ceaac0b93fa663591c4": {
      "model_module": "jupyter-cytoscape",
      "model_module_version": "^1.3.3",
      "model_name": "NodeModel",
      "state": {
       "_model_module_version": "^1.3.3",
       "_view_module_version": "^1.3.3",
       "data": {
        "color": "gray",
        "id": "-209718090337684999",
        "label": "build_waves_multislice_detect",
        "shape": "ellipse"
       },
       "grabbable": true,
       "grabbed": false,
       "position": {
        "x": 178.5,
        "y": 1355
       },
       "selectable": false
      }
     },
     "24f1a71fbbc54493abae9272421e44c4": {
      "model_module": "jupyter-cytoscape",
      "model_module_version": "^1.3.3",
      "model_name": "NodeModel",
      "state": {
       "_model_module_version": "^1.3.3",
       "_view_module_version": "^1.3.3",
       "data": {
        "color": "gray",
        "id": "-81111989138868833",
        "label": "intensity",
        "shape": "ellipse"
       },
       "grabbable": true,
       "grabbed": false,
       "position": {
        "x": 912.5,
        "y": 875
       },
       "selectable": false
      }
     },
     "2572c409c41e4c6bbb3152f021dc9eb9": {
      "model_module": "jupyter-cytoscape",
      "model_module_version": "^1.3.3",
      "model_name": "NodeModel",
      "state": {
       "_model_module_version": "^1.3.3",
       "_view_module_version": "^1.3.3",
       "data": {
        "color": "gray",
        "id": "8688960620195388608",
        "label": "0",
        "shape": "rectangle"
       },
       "grabbable": true,
       "grabbed": false,
       "position": {
        "x": 545.5,
        "y": 635
       },
       "selectable": false
      }
     },
     "270bb470ecf749bc8eb4cd92a31f6d59": {
      "model_module": "jupyter-cytoscape",
      "model_module_version": "^1.3.3",
      "model_name": "NodeModel",
      "state": {
       "_model_module_version": "^1.3.3",
       "_view_module_version": "^1.3.3",
       "data": {
        "color": "gray",
        "id": "-5454616645910432204",
        "label": "0",
        "shape": "rectangle"
       },
       "grabbable": true,
       "grabbed": false,
       "position": {
        "x": 1279.5,
        "y": 635
       },
       "selectable": false
      }
     },
     "275e05d841fc4bf9b049bb55617e9fdd": {
      "model_module": "jupyter-cytoscape",
      "model_module_version": "^1.3.3",
      "model_name": "EdgeModel",
      "state": {
       "_model_module_version": "^1.3.3",
       "_view_module_version": "^1.3.3",
       "classes": " directed ",
       "data": {
        "id": "d4cdd820-cba5-4b49-b9ee-4facec64b581",
        "source": "8554607745120336249",
        "target": "-975648152280315770"
       },
       "selectable": false
      }
     },
     "27b24f657b85484c87cda626730be557": {
      "model_module": "jupyter-cytoscape",
      "model_module_version": "^1.3.3",
      "model_name": "EdgeModel",
      "state": {
       "_model_module_version": "^1.3.3",
       "_view_module_version": "^1.3.3",
       "classes": " directed ",
       "data": {
        "id": "fbdc339f-b09e-4a82-92ef-98b9e0e86034",
        "source": "-8559770428161864702",
        "target": "82232189849975367"
       },
       "selectable": false
      }
     },
     "2b2b8e579f1d4c4b88d1e41562b1d76e": {
      "model_module": "jupyter-cytoscape",
      "model_module_version": "^1.3.3",
      "model_name": "NodeModel",
      "state": {
       "_model_module_version": "^1.3.3",
       "_view_module_version": "^1.3.3",
       "data": {
        "color": "gray",
        "id": "-3896033311210877489",
        "label": "2",
        "shape": "rectangle"
       },
       "grabbable": true,
       "grabbed": false,
       "position": {
        "x": 912.5,
        "y": 275
       },
       "selectable": false
      }
     },
     "2ba8bdf59cf64ac9afdfb7dbe60f5a06": {
      "model_module": "jupyter-cytoscape",
      "model_module_version": "^1.3.3",
      "model_name": "NodeModel",
      "state": {
       "_model_module_version": "^1.3.3",
       "_view_module_version": "^1.3.3",
       "data": {
        "color": "gray",
        "id": "4007050532627957381",
        "label": "(0, 0)",
        "shape": "rectangle"
       },
       "grabbable": true,
       "grabbed": false,
       "position": {
        "x": 729,
        "y": 35
       },
       "selectable": false
      }
     },
     "2cf4ac42da4143fcad2a6a30056c74d1": {
      "model_module": "jupyter-cytoscape",
      "model_module_version": "^1.3.3",
      "model_name": "EdgeModel",
      "state": {
       "_model_module_version": "^1.3.3",
       "_view_module_version": "^1.3.3",
       "classes": " directed ",
       "data": {
        "id": "4a377170-9bcc-4ba4-bf41-9093f8648214",
        "source": "-2096639438270986525",
        "target": "-2843519414721284291"
       },
       "selectable": false
      }
     },
     "2d8c91ad8a32426cb29610635d28405b": {
      "model_module": "jupyter-cytoscape",
      "model_module_version": "^1.3.3",
      "model_name": "EdgeModel",
      "state": {
       "_model_module_version": "^1.3.3",
       "_view_module_version": "^1.3.3",
       "classes": " directed ",
       "data": {
        "id": "adfa29d0-3bce-4059-a9d8-b3d363daa1f5",
        "source": "-4873302259584143306",
        "target": "3316935581664010410"
       },
       "selectable": false
      }
     },
     "2f0b5f32f1e94e36a7a40b69c6a7bf13": {
      "model_module": "jupyter-cytoscape",
      "model_module_version": "^1.3.3",
      "model_name": "NodeModel",
      "state": {
       "_model_module_version": "^1.3.3",
       "_view_module_version": "^1.3.3",
       "data": {
        "color": "gray",
        "id": "-2638438148746906173",
        "label": "0",
        "shape": "rectangle"
       },
       "grabbable": true,
       "grabbed": false,
       "position": {
        "x": 178.5,
        "y": 515
       },
       "selectable": false
      }
     },
     "31177496a8ee4755aca30ea369d84662": {
      "model_module": "jupyter-cytoscape",
      "model_module_version": "^1.3.3",
      "model_name": "NodeModel",
      "state": {
       "_model_module_version": "^1.3.3",
       "_view_module_version": "^1.3.3",
       "data": {
        "color": "gray",
        "id": "5190833689647490477",
        "label": "",
        "shape": "rectangle"
       },
       "grabbable": true,
       "grabbed": false,
       "position": {
        "x": 178.5,
        "y": 1715
       },
       "selectable": false
      }
     },
     "344d24581fae4b8687d2d3a39f5629bf": {
      "model_module": "jupyter-cytoscape",
      "model_module_version": "^1.3.3",
      "model_name": "NodeModel",
      "state": {
       "_model_module_version": "^1.3.3",
       "_view_module_version": "^1.3.3",
       "data": {
        "color": "gray",
        "id": "-4455112467544290847",
        "label": "extract_measurement",
        "shape": "ellipse"
       },
       "grabbable": true,
       "grabbed": false,
       "position": {
        "x": 912.5,
        "y": 1115
       },
       "selectable": false
      }
     },
     "3489ce478753400c8210ab55d564a20f": {
      "model_module": "jupyter-cytoscape",
      "model_module_version": "^1.3.3",
      "model_name": "EdgeModel",
      "state": {
       "_model_module_version": "^1.3.3",
       "_view_module_version": "^1.3.3",
       "classes": " directed ",
       "data": {
        "id": "dc39cb0f-5341-4ef5-aa02-9bc7bec5c83b",
        "source": "-7173382570491175912",
        "target": "2611607444891120936"
       },
       "selectable": false
      }
     },
     "353b0c0c2d324ffa986c9aa254cb73a3": {
      "model_module": "jupyter-cytoscape",
      "model_module_version": "^1.3.3",
      "model_name": "NodeModel",
      "state": {
       "_model_module_version": "^1.3.3",
       "_view_module_version": "^1.3.3",
       "data": {
        "color": "gray",
        "id": "8109201440656814751",
        "label": "",
        "shape": "rectangle"
       },
       "grabbable": true,
       "grabbed": false,
       "position": {
        "x": 1279.5,
        "y": 1955
       },
       "selectable": false
      }
     },
     "360438d1d02746ab923f548d14bc6437": {
      "model_module": "jupyter-cytoscape",
      "model_module_version": "^1.3.3",
      "model_name": "NodeModel",
      "state": {
       "_model_module_version": "^1.3.3",
       "_view_module_version": "^1.3.3",
       "data": {
        "color": "gray",
        "id": "6958159432146507029",
        "label": "",
        "shape": "rectangle"
       },
       "grabbable": true,
       "grabbed": false,
       "position": {
        "x": 912.5,
        "y": 1955
       },
       "selectable": false
      }
     },
     "36e8a683e1d74e4ca625b42b0b762174": {
      "model_module": "jupyter-cytoscape",
      "model_module_version": "^1.3.3",
      "model_name": "EdgeModel",
      "state": {
       "_model_module_version": "^1.3.3",
       "_view_module_version": "^1.3.3",
       "classes": " directed ",
       "data": {
        "id": "d62222c2-b86e-4c51-b3df-03a1f1c589cb",
        "source": "7927772020698749667",
        "target": "-6458404547314626517"
       },
       "selectable": false
      }
     },
     "3a02398cb0564ff98ab5ecf599476fb1": {
      "model_module": "jupyter-cytoscape",
      "model_module_version": "^1.3.3",
      "model_name": "EdgeModel",
      "state": {
       "_model_module_version": "^1.3.3",
       "_view_module_version": "^1.3.3",
       "classes": " directed ",
       "data": {
        "id": "68704ab6-50b0-471b-8514-df005a058168",
        "source": "997040717761818877",
        "target": "-4888149582364544781"
       },
       "selectable": false
      }
     },
     "3a426e3e72534a60a428ac9f2f78a634": {
      "model_module": "jupyter-cytoscape",
      "model_module_version": "^1.3.3",
      "model_name": "EdgeModel",
      "state": {
       "_model_module_version": "^1.3.3",
       "_view_module_version": "^1.3.3",
       "classes": " directed ",
       "data": {
        "id": "63cef1ce-63de-42e1-bee3-68e0331b2042",
        "source": "8543881921210405712",
        "target": "-2993913355004686177"
       },
       "selectable": false
      }
     },
     "3af9c9aa62be4301a74f53ede550deb1": {
      "model_module": "jupyter-cytoscape",
      "model_module_version": "^1.3.3",
      "model_name": "NodeModel",
      "state": {
       "_model_module_version": "^1.3.3",
       "_view_module_version": "^1.3.3",
       "data": {
        "color": "gray",
        "id": "8554607745120336249",
        "label": "frozen_phonon",
        "shape": "ellipse"
       },
       "grabbable": true,
       "grabbed": false,
       "position": {
        "x": 1279.5,
        "y": 875
       },
       "selectable": false
      }
     },
     "3b40fb831f7e42728a0c98c8ca569eda": {
      "model_module": "jupyter-cytoscape",
      "model_module_version": "^1.3.3",
      "model_name": "EdgeModel",
      "state": {
       "_model_module_version": "^1.3.3",
       "_view_module_version": "^1.3.3",
       "classes": " directed ",
       "data": {
        "id": "e2941eaf-5bcf-4414-9207-31b1b0e8b293",
        "source": "-5454616645910432204",
        "target": "1085411951500026183"
       },
       "selectable": false
      }
     },
     "3d0da29177074298861540c9ccc500e7": {
      "model_module": "jupyter-cytoscape",
      "model_module_version": "^1.3.3",
      "model_name": "EdgeModel",
      "state": {
       "_model_module_version": "^1.3.3",
       "_view_module_version": "^1.3.3",
       "classes": " directed ",
       "data": {
        "id": "ef2b4dcb-0a31-4056-838c-9928dd107589",
        "source": "5978485980472722549",
        "target": "-209718090337684999"
       },
       "selectable": false
      }
     },
     "3ddebd8c8f5a4bbcb86bfe147b8555f2": {
      "model_module": "jupyter-cytoscape",
      "model_module_version": "^1.3.3",
      "model_name": "CytoscapeModel",
      "state": {
       "_interaction_handlers": {},
       "_model_module_version": "^1.3.3",
       "_view_module_version": "^1.3.3",
       "auto_ungrabify": false,
       "autolock": false,
       "cytoscape_layout": {
        "edgeSep": 10,
        "name": "dagre",
        "nodeDimensionsIncludeLabels": true,
        "nodeSep": 10,
        "rankDir": "BT",
        "spacingFactor": 1
       },
       "cytoscape_style": [
        {
         "selector": "node",
         "style": {
          "background-color": "#eee",
          "border-color": "data(color)",
          "border-width": 4,
          "color": "black",
          "font-family": "helvetica",
          "font-size": "24px",
          "font-weight": "bold",
          "height": 64,
          "label": "data(label)",
          "opacity": "1.0",
          "shape": "data(shape)",
          "text-halign": "center",
          "text-valign": "center",
          "width": 64
         }
        },
        {
         "selector": "edge",
         "style": {
          "curve-style": "bezier",
          "line-color": "gray",
          "target-arrow-color": "gray",
          "target-arrow-shape": "triangle",
          "width": 8
         }
        }
       ],
       "desktop_tap_threshold": 4,
       "graph": "IPY_MODEL_f3ba2600d45042a480fa365a9e2455e7",
       "headless": false,
       "hide_edges_on_viewport": false,
       "layout": "IPY_MODEL_077e5524962d4a25a58c3082ba95820c",
       "max_zoom": 4,
       "min_zoom": 0.2,
       "motion_blur": false,
       "motion_blur_opacity": 0.2,
       "panning_enabled": true,
       "pixel_ratio": "auto",
       "rendered_position": {
        "renderedPosition": {
         "x": 100,
         "y": 100
        }
       },
       "selection_type": "single",
       "style_enabled": true,
       "texture_on_viewport": false,
       "tooltip_source": "tooltip",
       "touch_tap_threshold": 8,
       "user_panning_enabled": true,
       "user_zooming_enabled": true,
       "wheel_sensitivity": 0.1,
       "zoom": 2,
       "zooming_enabled": true
      }
     },
     "3e426ab2c3424c308c832e067052d3fa": {
      "model_module": "jupyter-cytoscape",
      "model_module_version": "^1.3.3",
      "model_name": "NodeModel",
      "state": {
       "_model_module_version": "^1.3.3",
       "_view_module_version": "^1.3.3",
       "data": {
        "color": "gray",
        "id": "3316935581664010410",
        "label": "mean_chunk",
        "shape": "ellipse"
       },
       "grabbable": true,
       "grabbed": false,
       "position": {
        "x": 545.5,
        "y": 635
       },
       "selectable": false
      }
     },
     "40d367de79c14a488bc7db0caec77ec3": {
      "model_module": "jupyter-cytoscape",
      "model_module_version": "^1.3.3",
      "model_name": "EdgeModel",
      "state": {
       "_model_module_version": "^1.3.3",
       "_view_module_version": "^1.3.3",
       "classes": " directed ",
       "data": {
        "id": "adf14f20-d397-452f-a4ab-79791b0a6f0f",
        "source": "-2809696302256404093",
        "target": "-4873302259584143306"
       },
       "selectable": false
      }
     },
     "4225962632c7486f84b3e70c7c30a54e": {
      "model_module": "jupyter-cytoscape",
      "model_module_version": "^1.3.3",
      "model_name": "NodeModel",
      "state": {
       "_model_module_version": "^1.3.3",
       "_view_module_version": "^1.3.3",
       "data": {
        "color": "gray",
        "id": "1723271752263943708",
        "label": "extract_measurement",
        "shape": "ellipse"
       },
       "grabbable": true,
       "grabbed": false,
       "position": {
        "x": 1279.5,
        "y": 155
       },
       "selectable": false
      }
     },
     "43120d64ca8e4ec8a48a0b815d55dffd": {
      "model_module": "jupyter-cytoscape",
      "model_module_version": "^1.3.3",
      "model_name": "EdgeModel",
      "state": {
       "_model_module_version": "^1.3.3",
       "_view_module_version": "^1.3.3",
       "classes": " directed ",
       "data": {
        "id": "59059aca-9f1d-418e-bc80-978f92bc2047",
        "source": "-529154775629275876",
        "target": "-5781255077600032181"
       },
       "selectable": false
      }
     },
     "447eb1ad0cc0497785f330350fb8f34b": {
      "model_module": "jupyter-cytoscape",
      "model_module_version": "^1.3.3",
      "model_name": "NodeModel",
      "state": {
       "_model_module_version": "^1.3.3",
       "_view_module_version": "^1.3.3",
       "data": {
        "color": "gray",
        "id": "8109201440656814751",
        "label": "",
        "shape": "rectangle"
       },
       "grabbable": true,
       "grabbed": false,
       "position": {
        "x": 545.5,
        "y": 995
       },
       "selectable": false
      }
     },
     "466f2c0dae7040ff8bc8320b2ca39ee1": {
      "model_module": "jupyter-cytoscape",
      "model_module_version": "^1.3.3",
      "model_name": "EdgeModel",
      "state": {
       "_model_module_version": "^1.3.3",
       "_view_module_version": "^1.3.3",
       "classes": " directed ",
       "data": {
        "id": "ec66fe74-0bd6-453b-a789-ef9a08ab3e03",
        "source": "-4888149582364544781",
        "target": "7678235076085439578"
       },
       "selectable": false
      }
     },
     "46aa55f6fff441c58797aa1087e247eb": {
      "model_module": "jupyter-cytoscape",
      "model_module_version": "^1.3.3",
      "model_name": "NodeModel",
      "state": {
       "_model_module_version": "^1.3.3",
       "_view_module_version": "^1.3.3",
       "data": {
        "color": "gray",
        "id": "-6458404547314626517",
        "label": "(0, 0, 0)",
        "shape": "rectangle"
       },
       "grabbable": true,
       "grabbed": false,
       "position": {
        "x": 1096,
        "y": 275
       },
       "selectable": false
      }
     },
     "46e43ccce5e34133b819c41b67048d08": {
      "model_module": "jupyter-cytoscape",
      "model_module_version": "^1.3.3",
      "model_name": "NodeModel",
      "state": {
       "_model_module_version": "^1.3.3",
       "_view_module_version": "^1.3.3",
       "data": {
        "color": "gray",
        "id": "-3896033311210877489",
        "label": "2",
        "shape": "rectangle"
       },
       "grabbable": true,
       "grabbed": false,
       "position": {
        "x": 178.5,
        "y": 1235
       },
       "selectable": false
      }
     },
     "4a8a887344d54d938a36a53c4bf86df5": {
      "model_module": "jupyter-cytoscape",
      "model_module_version": "^1.3.3",
      "model_name": "NodeModel",
      "state": {
       "_model_module_version": "^1.3.3",
       "_view_module_version": "^1.3.3",
       "data": {
        "color": "gray",
        "id": "-2096639438270986525",
        "label": "extract_measurement",
        "shape": "ellipse"
       },
       "grabbable": true,
       "grabbed": false,
       "position": {
        "x": 912.5,
        "y": 155
       },
       "selectable": false
      }
     },
     "4c9406be264a470aba739bf394c04d99": {
      "model_module": "jupyter-cytoscape",
      "model_module_version": "^1.3.3",
      "model_name": "EdgeModel",
      "state": {
       "_model_module_version": "^1.3.3",
       "_view_module_version": "^1.3.3",
       "classes": " directed ",
       "data": {
        "id": "c24a1691-0d03-4680-af72-e705effef488",
        "source": "8688960620195388608",
        "target": "-529154775629275876"
       },
       "selectable": false
      }
     },
     "4d99b9b17d5d4b66ad8927d8c436af5f": {
      "model_module": "jupyter-cytoscape",
      "model_module_version": "^1.3.3",
      "model_name": "EdgeModel",
      "state": {
       "_model_module_version": "^1.3.3",
       "_view_module_version": "^1.3.3",
       "classes": " directed ",
       "data": {
        "id": "0eff494c-fd50-4d2c-b59f-0d65077f2c71",
        "source": "3316935581664010410",
        "target": "8566637398729270391"
       },
       "selectable": false
      }
     },
     "4e79c9e352514f5aaad55acdc3df5ac9": {
      "model_module": "jupyter-cytoscape",
      "model_module_version": "^1.3.3",
      "model_name": "EdgeModel",
      "state": {
       "_model_module_version": "^1.3.3",
       "_view_module_version": "^1.3.3",
       "classes": " directed ",
       "data": {
        "id": "669a4ff6-7846-4bb4-9c29-4ac1f4d948e6",
        "source": "-8212648725776401941",
        "target": "5978485980472722549"
       },
       "selectable": false
      }
     },
     "505ff53631bb47dc942f01f5938428cc": {
      "model_module": "jupyter-cytoscape",
      "model_module_version": "^1.3.3",
      "model_name": "NodeModel",
      "state": {
       "_model_module_version": "^1.3.3",
       "_view_module_version": "^1.3.3",
       "data": {
        "color": "gray",
        "id": "6411248443375819870",
        "label": "(1, 0, 0)",
        "shape": "rectangle"
       },
       "grabbable": true,
       "grabbed": false,
       "position": {
        "x": 1279.5,
        "y": 755
       },
       "selectable": false
      }
     },
     "5073f05b837e4b77b261849039343317": {
      "model_module": "jupyter-cytoscape",
      "model_module_version": "^1.3.3",
      "model_name": "NodeModel",
      "state": {
       "_model_module_version": "^1.3.3",
       "_view_module_version": "^1.3.3",
       "data": {
        "color": "gray",
        "id": "7527841135802037692",
        "label": "(0, 0, 0)",
        "shape": "rectangle"
       },
       "grabbable": true,
       "grabbed": false,
       "position": {
        "x": 912.5,
        "y": 515
       },
       "selectable": false
      }
     },
     "50cef50ccc5442318558fe821fcd15fd": {
      "model_module": "jupyter-cytoscape",
      "model_module_version": "^1.3.3",
      "model_name": "NodeModel",
      "state": {
       "_model_module_version": "^1.3.3",
       "_view_module_version": "^1.3.3",
       "data": {
        "color": "gray",
        "id": "-3606315626874523598",
        "label": "(3, 0, 0)",
        "shape": "rectangle"
       },
       "grabbable": true,
       "grabbed": false,
       "position": {
        "x": 545.5,
        "y": 995
       },
       "selectable": false
      }
     },
     "534e291c18c140ad8573f05485a649e3": {
      "model_module": "jupyter-cytoscape",
      "model_module_version": "^1.3.3",
      "model_name": "NodeModel",
      "state": {
       "_model_module_version": "^1.3.3",
       "_view_module_version": "^1.3.3",
       "data": {
        "color": "gray",
        "id": "-209718090337684999",
        "label": "build_waves_multislice_detect",
        "shape": "ellipse"
       },
       "grabbable": true,
       "grabbed": false,
       "position": {
        "x": 912.5,
        "y": 395
       },
       "selectable": false
      }
     },
     "576831b338924bef909a28d6044fc0a8": {
      "model_module": "jupyter-cytoscape",
      "model_module_version": "^1.3.3",
      "model_name": "EdgeModel",
      "state": {
       "_model_module_version": "^1.3.3",
       "_view_module_version": "^1.3.3",
       "classes": " directed ",
       "data": {
        "id": "21009e74-f7ca-442d-a9ac-d6ba603a25b2",
        "source": "-2638438148746906173",
        "target": "6029605610067576814"
       },
       "selectable": false
      }
     },
     "57b7ea72609744bd972755e62135c7ad": {
      "model_module": "jupyter-cytoscape",
      "model_module_version": "^1.3.3",
      "model_name": "NodeModel",
      "state": {
       "_model_module_version": "^1.3.3",
       "_view_module_version": "^1.3.3",
       "data": {
        "color": "gray",
        "id": "5648452231222580563",
        "label": "(2, 0, 0)",
        "shape": "rectangle"
       },
       "grabbable": true,
       "grabbed": false,
       "position": {
        "x": 178.5,
        "y": 755
       },
       "selectable": false
      }
     },
     "58ba5763c01f4a0ebcdb13bfe88e688f": {
      "model_module": "jupyter-cytoscape",
      "model_module_version": "^1.3.3",
      "model_name": "EdgeModel",
      "state": {
       "_model_module_version": "^1.3.3",
       "_view_module_version": "^1.3.3",
       "classes": " directed ",
       "data": {
        "id": "dd68dc1c-e063-43a6-860a-cbc00a3f6fad",
        "source": "-1112242655355811420",
        "target": "-4455112467544290847"
       },
       "selectable": false
      }
     },
     "58ccda56ed8f49a8922298a9c47a402e": {
      "model_module": "jupyter-cytoscape",
      "model_module_version": "^1.3.3",
      "model_name": "EdgeModel",
      "state": {
       "_model_module_version": "^1.3.3",
       "_view_module_version": "^1.3.3",
       "classes": " directed ",
       "data": {
        "id": "3b081cbc-1a7e-456e-bf96-9e3769e7a864",
        "source": "1085411951500026183",
        "target": "-7173382570491175912"
       },
       "selectable": false
      }
     },
     "5a7520a8ed8d4b8c9db79eccac38a18a": {
      "model_module": "jupyter-cytoscape",
      "model_module_version": "^1.3.3",
      "model_name": "NodeModel",
      "state": {
       "_model_module_version": "^1.3.3",
       "_view_module_version": "^1.3.3",
       "data": {
        "color": "gray",
        "id": "2369830892600547874",
        "label": "frozen_phonon",
        "shape": "ellipse"
       },
       "grabbable": true,
       "grabbed": false,
       "position": {
        "x": 912.5,
        "y": 1835
       },
       "selectable": false
      }
     },
     "5d84be3e79dd464eb066837faa5e6896": {
      "model_module": "jupyter-cytoscape",
      "model_module_version": "^1.3.3",
      "model_name": "NodeModel",
      "state": {
       "_model_module_version": "^1.3.3",
       "_view_module_version": "^1.3.3",
       "data": {
        "color": "gray",
        "id": "-5022760253900524454",
        "label": "intensity",
        "shape": "ellipse"
       },
       "grabbable": true,
       "grabbed": false,
       "position": {
        "x": 1279.5,
        "y": 875
       },
       "selectable": false
      }
     },
     "5dea6cb4e3aa4078a8bede9792bb7114": {
      "model_module": "jupyter-cytoscape",
      "model_module_version": "^1.3.3",
      "model_name": "NodeModel",
      "state": {
       "_model_module_version": "^1.3.3",
       "_view_module_version": "^1.3.3",
       "data": {
        "color": "gray",
        "id": "-6274431168249504483",
        "label": "0",
        "shape": "rectangle"
       },
       "grabbable": true,
       "grabbed": false,
       "position": {
        "x": 178.5,
        "y": 635
       },
       "selectable": false
      }
     },
     "5e67baf8078c49ff8db2b6df9b7ead84": {
      "model_module": "jupyter-cytoscape",
      "model_module_version": "^1.3.3",
      "model_name": "EdgeModel",
      "state": {
       "_model_module_version": "^1.3.3",
       "_view_module_version": "^1.3.3",
       "classes": " directed ",
       "data": {
        "id": "8176e14d-0698-43de-bc56-4e08f8a7804b",
        "source": "-8911303611153779914",
        "target": "-147531381724615491"
       },
       "selectable": false
      }
     },
     "5ead1f2695ce4f6d919912c7cb3a2349": {
      "model_module": "jupyter-cytoscape",
      "model_module_version": "^1.3.3",
      "model_name": "NodeModel",
      "state": {
       "_model_module_version": "^1.3.3",
       "_view_module_version": "^1.3.3",
       "data": {
        "color": "gray",
        "id": "8543881921210405712",
        "label": "mean_chunk",
        "shape": "ellipse"
       },
       "grabbable": true,
       "grabbed": false,
       "position": {
        "x": 1279.5,
        "y": 635
       },
       "selectable": false
      }
     },
     "5f225efbbc6b4dd0bb5e527204c65ac7": {
      "model_module": "jupyter-cytoscape",
      "model_module_version": "^1.3.3",
      "model_name": "NodeModel",
      "state": {
       "_model_module_version": "^1.3.3",
       "_view_module_version": "^1.3.3",
       "data": {
        "color": "gray",
        "id": "-2843519414721284291",
        "label": "(2, 0, 0)",
        "shape": "rectangle"
       },
       "grabbable": true,
       "grabbed": false,
       "position": {
        "x": 912.5,
        "y": 35
       },
       "selectable": false
      }
     },
     "658c138924d84a37ae0ebacbf76dcc59": {
      "model_module": "jupyter-cytoscape",
      "model_module_version": "^1.3.3",
      "model_name": "EdgeModel",
      "state": {
       "_model_module_version": "^1.3.3",
       "_view_module_version": "^1.3.3",
       "classes": " directed ",
       "data": {
        "id": "e253fbec-c071-4812-a08f-7fad81843c45",
        "source": "7678235076085439578",
        "target": "-5022760253900524454"
       },
       "selectable": false
      }
     },
     "664246c9d73847a490d464cea2f4ae6e": {
      "model_module": "jupyter-cytoscape",
      "model_module_version": "^1.3.3",
      "model_name": "EdgeModel",
      "state": {
       "_model_module_version": "^1.3.3",
       "_view_module_version": "^1.3.3",
       "classes": " directed ",
       "data": {
        "id": "137c25f2-b446-4df3-8aba-02b4269c8bae",
        "source": "2369830892600547874",
        "target": "-3648763719720139567"
       },
       "selectable": false
      }
     },
     "66430b6bf8d047ed9fd47538f5b13dd2": {
      "model_module": "jupyter-cytoscape",
      "model_module_version": "^1.3.3",
      "model_name": "EdgeModel",
      "state": {
       "_model_module_version": "^1.3.3",
       "_view_module_version": "^1.3.3",
       "classes": " directed ",
       "data": {
        "id": "9d945897-2d04-44fa-bbce-c5b4e066cd7c",
        "source": "5899377041639488664",
        "target": "5190833689647490477"
       },
       "selectable": false
      }
     },
     "6746c62593a4457292a390a5a960949e": {
      "model_module": "jupyter-cytoscape",
      "model_module_version": "^1.3.3",
      "model_name": "NodeModel",
      "state": {
       "_model_module_version": "^1.3.3",
       "_view_module_version": "^1.3.3",
       "data": {
        "color": "gray",
        "id": "1468814177293301289",
        "label": "(0, 0, 0)",
        "shape": "rectangle"
       },
       "grabbable": true,
       "grabbed": false,
       "position": {
        "x": 178.5,
        "y": 35
       },
       "selectable": false
      }
     },
     "6802521290c747b09e6484ee74a3969d": {
      "model_module": "jupyter-cytoscape",
      "model_module_version": "^1.3.3",
      "model_name": "EdgeModel",
      "state": {
       "_model_module_version": "^1.3.3",
       "_view_module_version": "^1.3.3",
       "classes": " directed ",
       "data": {
        "id": "9c8e2163-9ef8-48e3-8b39-328dab063d4b",
        "source": "-2638438148746906173",
        "target": "6029605610067576814"
       },
       "selectable": false
      }
     },
     "6a1950e714de4449b6a9f65127b3ec98": {
      "model_module": "jupyter-cytoscape",
      "model_module_version": "^1.3.3",
      "model_name": "EdgeModel",
      "state": {
       "_model_module_version": "^1.3.3",
       "_view_module_version": "^1.3.3",
       "classes": " directed ",
       "data": {
        "id": "03cdf3ea-1694-4fbb-8fe3-6504bc825fae",
        "source": "8688960620195388608",
        "target": "-529154775629275876"
       },
       "selectable": false
      }
     },
     "6a72e1780ba84a46951e42e908d1eca4": {
      "model_module": "jupyter-cytoscape",
      "model_module_version": "^1.3.3",
      "model_name": "NodeModel",
      "state": {
       "_model_module_version": "^1.3.3",
       "_view_module_version": "^1.3.3",
       "data": {
        "color": "gray",
        "id": "-529154775629275876",
        "label": "1",
        "shape": "rectangle"
       },
       "grabbable": true,
       "grabbed": false,
       "position": {
        "x": 545.5,
        "y": 515
       },
       "selectable": false
      }
     },
     "6b6c0813e47f44c5b6cd8a6b8ca7f0b9": {
      "model_module": "jupyter-cytoscape",
      "model_module_version": "^1.3.3",
      "model_name": "EdgeModel",
      "state": {
       "_model_module_version": "^1.3.3",
       "_view_module_version": "^1.3.3",
       "classes": " directed ",
       "data": {
        "id": "faf5379c-feb9-470d-bc87-74cb917702c8",
        "source": "-2993913355004686177",
        "target": "7927772020698749667"
       },
       "selectable": false
      }
     },
     "6b8068806e234eeeba5fb84ae3ee9be6": {
      "model_module": "jupyter-cytoscape",
      "model_module_version": "^1.3.3",
      "model_name": "EdgeModel",
      "state": {
       "_model_module_version": "^1.3.3",
       "_view_module_version": "^1.3.3",
       "classes": " directed ",
       "data": {
        "id": "3919f9fa-39b1-4420-b24a-c9723cab9736",
        "source": "6958159432146507029",
        "target": "2369830892600547874"
       },
       "selectable": false
      }
     },
     "6cec3e8b7f094a2b8d6b76eb0b2c3b80": {
      "model_module": "jupyter-cytoscape",
      "model_module_version": "^1.3.3",
      "model_name": "NodeModel",
      "state": {
       "_model_module_version": "^1.3.3",
       "_view_module_version": "^1.3.3",
       "data": {
        "color": "gray",
        "id": "1468814177293301289",
        "label": "(0, 0, 0)",
        "shape": "rectangle"
       },
       "grabbable": true,
       "grabbed": false,
       "position": {
        "x": 912.5,
        "y": 995
       },
       "selectable": false
      }
     },
     "6ddae9d98986408aba04acf38f3dbb99": {
      "model_module": "jupyter-cytoscape",
      "model_module_version": "^1.3.3",
      "model_name": "EdgeModel",
      "state": {
       "_model_module_version": "^1.3.3",
       "_view_module_version": "^1.3.3",
       "classes": " directed ",
       "data": {
        "id": "46823a50-1064-467f-8287-f6811d1c7e14",
        "source": "-81111989138868833",
        "target": "-8559770428161864702"
       },
       "selectable": false
      }
     },
     "6e0d7bea103f4077942eb38e583f6f90": {
      "model_module": "jupyter-cytoscape",
      "model_module_version": "^1.3.3",
      "model_name": "NodeModel",
      "state": {
       "_model_module_version": "^1.3.3",
       "_view_module_version": "^1.3.3",
       "data": {
        "color": "gray",
        "id": "-4888149582364544781",
        "label": "extract_measurement",
        "shape": "ellipse"
       },
       "grabbable": true,
       "grabbed": false,
       "position": {
        "x": 1279.5,
        "y": 1115
       },
       "selectable": false
      }
     },
     "70568d12a32543b38f5e39d3ecf3d5fd": {
      "model_module": "jupyter-cytoscape",
      "model_module_version": "^1.3.3",
      "model_name": "EdgeModel",
      "state": {
       "_model_module_version": "^1.3.3",
       "_view_module_version": "^1.3.3",
       "classes": " directed ",
       "data": {
        "id": "f0eb47b9-2d64-481a-abb5-ad381983dbe6",
        "source": "641647815826442644",
        "target": "-1892055594409640941"
       },
       "selectable": false
      }
     },
     "737057adddaa493e9c1fdefa8869a09b": {
      "model_module": "jupyter-cytoscape",
      "model_module_version": "^1.3.3",
      "model_name": "EdgeModel",
      "state": {
       "_model_module_version": "^1.3.3",
       "_view_module_version": "^1.3.3",
       "classes": " directed ",
       "data": {
        "id": "c0421886-97c3-48ce-b55b-be56a28fd5ae",
        "source": "-5781255077600032181",
        "target": "997040717761818877"
       },
       "selectable": false
      }
     },
     "73717528bc624909bfba83fe5c22e71d": {
      "model_module": "jupyter-cytoscape",
      "model_module_version": "^1.3.3",
      "model_name": "NodeModel",
      "state": {
       "_model_module_version": "^1.3.3",
       "_view_module_version": "^1.3.3",
       "data": {
        "color": "gray",
        "id": "8554607745120336249",
        "label": "frozen_phonon",
        "shape": "ellipse"
       },
       "grabbable": true,
       "grabbed": false,
       "position": {
        "x": 545.5,
        "y": 1835
       },
       "selectable": false
      }
     },
     "75324db5b19348b2aef04ca08aaf7f33": {
      "model_module": "jupyter-cytoscape",
      "model_module_version": "^1.3.3",
      "model_name": "NodeModel",
      "state": {
       "_model_module_version": "^1.3.3",
       "_view_module_version": "^1.3.3",
       "data": {
        "color": "gray",
        "id": "-4455112467544290847",
        "label": "extract_measurement",
        "shape": "ellipse"
       },
       "grabbable": true,
       "grabbed": false,
       "position": {
        "x": 178.5,
        "y": 155
       },
       "selectable": false
      }
     },
     "7638def0b1df4363b1021341dfe699b3": {
      "model_module": "jupyter-cytoscape",
      "model_module_version": "^1.3.3",
      "model_name": "EdgeModel",
      "state": {
       "_model_module_version": "^1.3.3",
       "_view_module_version": "^1.3.3",
       "classes": " directed ",
       "data": {
        "id": "2286144f-9ba3-4308-a33c-36e805757249",
        "source": "5648452231222580563",
        "target": "525425437570452154"
       },
       "selectable": false
      }
     },
     "76ee91af9f2a4e34a3052eae18d91c81": {
      "model_module": "jupyter-cytoscape",
      "model_module_version": "^1.3.3",
      "model_name": "NodeModel",
      "state": {
       "_model_module_version": "^1.3.3",
       "_view_module_version": "^1.3.3",
       "data": {
        "color": "gray",
        "id": "5899377041639488664",
        "label": "frozen_phonon",
        "shape": "ellipse"
       },
       "grabbable": true,
       "grabbed": false,
       "position": {
        "x": 178.5,
        "y": 1835
       },
       "selectable": false
      }
     },
     "776ac2d7af3c475db98c187ed7e286fa": {
      "model_module": "jupyter-cytoscape",
      "model_module_version": "^1.3.3",
      "model_name": "NodeModel",
      "state": {
       "_model_module_version": "^1.3.3",
       "_view_module_version": "^1.3.3",
       "data": {
        "color": "gray",
        "id": "-1892055594409640941",
        "label": "mean_combine-partial",
        "shape": "ellipse"
       },
       "grabbable": true,
       "grabbed": false,
       "position": {
        "x": 362,
        "y": 395
       },
       "selectable": false
      }
     },
     "7779a1994aaf427f83f3647c58608a8c": {
      "model_module": "jupyter-cytoscape",
      "model_module_version": "^1.3.3",
      "model_name": "EdgeModel",
      "state": {
       "_model_module_version": "^1.3.3",
       "_view_module_version": "^1.3.3",
       "classes": " directed ",
       "data": {
        "id": "5b79dd5e-e207-4b9e-9462-3024553f5955",
        "source": "-6274431168249504483",
        "target": "-2638438148746906173"
       },
       "selectable": false
      }
     },
     "779d15a2c4b14cbf99cbab2c124d53d2": {
      "model_module": "jupyter-cytoscape",
      "model_module_version": "^1.3.3",
      "model_name": "NodeModel",
      "state": {
       "_model_module_version": "^1.3.3",
       "_view_module_version": "^1.3.3",
       "data": {
        "color": "gray",
        "id": "2611607444891120936",
        "label": "3",
        "shape": "rectangle"
       },
       "grabbable": true,
       "grabbed": false,
       "position": {
        "x": 1279.5,
        "y": 275
       },
       "selectable": false
      }
     },
     "78ea0a5f6c8e419a98a01af19741324b": {
      "model_module": "jupyter-cytoscape",
      "model_module_version": "^1.3.3",
      "model_name": "EdgeModel",
      "state": {
       "_model_module_version": "^1.3.3",
       "_view_module_version": "^1.3.3",
       "classes": " directed ",
       "data": {
        "id": "9c01c4a6-50ce-451b-9a76-0dc94c2d3931",
        "source": "-4455112467544290847",
        "target": "1468814177293301289"
       },
       "selectable": false
      }
     },
     "7a505b33b8134eaba14ffb60811c9e3c": {
      "model_module": "jupyter-cytoscape",
      "model_module_version": "^1.3.3",
      "model_name": "EdgeModel",
      "state": {
       "_model_module_version": "^1.3.3",
       "_view_module_version": "^1.3.3",
       "classes": " directed ",
       "data": {
        "id": "ab81838f-202a-4565-892e-5a971414f567",
        "source": "6029605610067576814",
        "target": "-1112242655355811420"
       },
       "selectable": false
      }
     },
     "7a811a266afe4dff87294e20f20a6176": {
      "model_module": "jupyter-cytoscape",
      "model_module_version": "^1.3.3",
      "model_name": "EdgeModel",
      "state": {
       "_model_module_version": "^1.3.3",
       "_view_module_version": "^1.3.3",
       "classes": " directed ",
       "data": {
        "id": "eaf151b5-69fd-47cf-a17f-700e8ac326c1",
        "source": "1723271752263943708",
        "target": "-3606315626874523598"
       },
       "selectable": false
      }
     },
     "7ad1077301ae4797815f14d2a0d47b59": {
      "model_module": "jupyter-cytoscape",
      "model_module_version": "^1.3.3",
      "model_name": "NodeModel",
      "state": {
       "_model_module_version": "^1.3.3",
       "_view_module_version": "^1.3.3",
       "data": {
        "color": "gray",
        "id": "-6274431168249504483",
        "label": "0",
        "shape": "rectangle"
       },
       "grabbable": true,
       "grabbed": false,
       "position": {
        "x": 912.5,
        "y": 1595
       },
       "selectable": false
      }
     },
     "7b0d012485aa47eab18195582b08049b": {
      "model_module": "jupyter-cytoscape",
      "model_module_version": "^1.3.3",
      "model_name": "GraphModel",
      "state": {
       "_adj": {},
       "_model_module_version": "^1.3.3",
       "_view_module": "jupyter-cytoscape",
       "_view_module_version": "^1.3.3"
      }
     },
     "80f846420d634481a0c4d66ea0d5b9b7": {
      "model_module": "jupyter-cytoscape",
      "model_module_version": "^1.3.3",
      "model_name": "EdgeModel",
      "state": {
       "_model_module_version": "^1.3.3",
       "_view_module_version": "^1.3.3",
       "classes": " directed ",
       "data": {
        "id": "cfb0e624-8e33-4118-a9e9-b2fe25a1b49d",
        "source": "5190833689647490477",
        "target": "-8212648725776401941"
       },
       "selectable": false
      }
     },
     "839a6f2b19384aa2bc62681284e5b602": {
      "model_module": "jupyter-cytoscape",
      "model_module_version": "^1.3.3",
      "model_name": "EdgeModel",
      "state": {
       "_model_module_version": "^1.3.3",
       "_view_module_version": "^1.3.3",
       "classes": " directed ",
       "data": {
        "id": "bed93781-cef4-43d5-a2a4-6cc2a81ef0e8",
        "source": "-4888149582364544781",
        "target": "7678235076085439578"
       },
       "selectable": false
      }
     },
     "83a3f5a44fac4d4da665db16b1549ba9": {
      "model_module": "jupyter-cytoscape",
      "model_module_version": "^1.3.3",
      "model_name": "EdgeModel",
      "state": {
       "_model_module_version": "^1.3.3",
       "_view_module_version": "^1.3.3",
       "classes": " directed ",
       "data": {
        "id": "89e17251-dd76-4635-8a08-a1f141a80864",
        "source": "5337896784629353535",
        "target": "5899377041639488664"
       },
       "selectable": false
      }
     },
     "83a564ea742d4eb9b4c296d70a00b9ea": {
      "model_module": "jupyter-cytoscape",
      "model_module_version": "^1.3.3",
      "model_name": "NodeModel",
      "state": {
       "_model_module_version": "^1.3.3",
       "_view_module_version": "^1.3.3",
       "data": {
        "color": "gray",
        "id": "5190833689647490477",
        "label": "",
        "shape": "rectangle"
       },
       "grabbable": true,
       "grabbed": false,
       "position": {
        "x": 912.5,
        "y": 755
       },
       "selectable": false
      }
     },
     "83f7f7397f3844c3af6abb922cf7eac4": {
      "model_module": "jupyter-cytoscape",
      "model_module_version": "^1.3.3",
      "model_name": "NodeModel",
      "state": {
       "_model_module_version": "^1.3.3",
       "_view_module_version": "^1.3.3",
       "data": {
        "color": "gray",
        "id": "-8212648725776401941",
        "label": "0",
        "shape": "rectangle"
       },
       "grabbable": true,
       "grabbed": false,
       "position": {
        "x": 178.5,
        "y": 1595
       },
       "selectable": false
      }
     },
     "85d5005b9e5942878a2f695b46743a14": {
      "model_module": "jupyter-cytoscape",
      "model_module_version": "^1.3.3",
      "model_name": "EdgeModel",
      "state": {
       "_model_module_version": "^1.3.3",
       "_view_module_version": "^1.3.3",
       "classes": " directed ",
       "data": {
        "id": "7e75f58f-3434-4806-afef-adac5bde6446",
        "source": "-5022760253900524454",
        "target": "6411248443375819870"
       },
       "selectable": false
      }
     },
     "872eec512f8b414d95a3fdc8ced511d7": {
      "model_module": "jupyter-cytoscape",
      "model_module_version": "^1.3.3",
      "model_name": "EdgeModel",
      "state": {
       "_model_module_version": "^1.3.3",
       "_view_module_version": "^1.3.3",
       "classes": " directed ",
       "data": {
        "id": "bea5f0af-6468-4e57-a8b6-1b8f1c0bd2b5",
        "source": "-8911303611153779914",
        "target": "-147531381724615491"
       },
       "selectable": false
      }
     },
     "87f7bf6e28d04032b943a1ac5c8ace85": {
      "model_module": "jupyter-cytoscape",
      "model_module_version": "^1.3.3",
      "model_name": "EdgeModel",
      "state": {
       "_model_module_version": "^1.3.3",
       "_view_module_version": "^1.3.3",
       "classes": " directed ",
       "data": {
        "id": "164707f8-3a3a-4b60-8705-877e6b613dce",
        "source": "5337896784629353535",
        "target": "5899377041639488664"
       },
       "selectable": false
      }
     },
     "882098914ae44dab9b512063bf504e66": {
      "model_module": "jupyter-cytoscape",
      "model_module_version": "^1.3.3",
      "model_name": "EdgeModel",
      "state": {
       "_model_module_version": "^1.3.3",
       "_view_module_version": "^1.3.3",
       "classes": " directed ",
       "data": {
        "id": "8b62aa90-b862-4ebe-8a67-572e2a15bef0",
        "source": "-2794818360831510968",
        "target": "8554607745120336249"
       },
       "selectable": false
      }
     },
     "8aa9782896944aa1ac592ee720722974": {
      "model_module": "jupyter-cytoscape",
      "model_module_version": "^1.3.3",
      "model_name": "EdgeModel",
      "state": {
       "_model_module_version": "^1.3.3",
       "_view_module_version": "^1.3.3",
       "classes": " directed ",
       "data": {
        "id": "b0be19de-3d83-427e-9380-aa3dd01d7963",
        "source": "5978485980472722549",
        "target": "-209718090337684999"
       },
       "selectable": false
      }
     },
     "8d2e38392f074f18ae976d5ff7b96361": {
      "model_module": "jupyter-cytoscape",
      "model_module_version": "^1.3.3",
      "model_name": "EdgeModel",
      "state": {
       "_model_module_version": "^1.3.3",
       "_view_module_version": "^1.3.3",
       "classes": " directed ",
       "data": {
        "id": "620a55b0-3991-421e-ba01-3291f2934bc3",
        "source": "2611607444891120936",
        "target": "1723271752263943708"
       },
       "selectable": false
      }
     },
     "8d4e7e9af69a444ca24a05cde8ee9db9": {
      "model_module": "jupyter-cytoscape",
      "model_module_version": "^1.3.3",
      "model_name": "EdgeModel",
      "state": {
       "_model_module_version": "^1.3.3",
       "_view_module_version": "^1.3.3",
       "classes": " directed ",
       "data": {
        "id": "e87484b1-218c-438a-9229-cb0a28d2b0e9",
        "source": "6958159432146507029",
        "target": "2369830892600547874"
       },
       "selectable": false
      }
     },
     "8e2e3bd68b264237844d1707179a1d9b": {
      "model_module": "jupyter-cytoscape",
      "model_module_version": "^1.3.3",
      "model_name": "NodeModel",
      "state": {
       "_model_module_version": "^1.3.3",
       "_view_module_version": "^1.3.3",
       "data": {
        "color": "gray",
        "id": "-7173382570491175912",
        "label": "build_waves_multislice_detect",
        "shape": "ellipse"
       },
       "grabbable": true,
       "grabbed": false,
       "position": {
        "x": 1279.5,
        "y": 395
       },
       "selectable": false
      }
     },
     "903b7d87e666447094c1d0efd3ed9f8a": {
      "model_module": "jupyter-cytoscape",
      "model_module_version": "^1.3.3",
      "model_name": "NodeModel",
      "state": {
       "_model_module_version": "^1.3.3",
       "_view_module_version": "^1.3.3",
       "data": {
        "color": "gray",
        "id": "-2638438148746906173",
        "label": "0",
        "shape": "rectangle"
       },
       "grabbable": true,
       "grabbed": false,
       "position": {
        "x": 912.5,
        "y": 1475
       },
       "selectable": false
      }
     },
     "913aed477ad348cd97a0d4b421bb720a": {
      "model_module": "jupyter-cytoscape",
      "model_module_version": "^1.3.3",
      "model_name": "EdgeModel",
      "state": {
       "_model_module_version": "^1.3.3",
       "_view_module_version": "^1.3.3",
       "classes": " directed ",
       "data": {
        "id": "0d8803bf-27fe-4d8c-99cb-9ecf1d159767",
        "source": "-529154775629275876",
        "target": "-5781255077600032181"
       },
       "selectable": false
      }
     },
     "91a14e5adb8a4e19a9c50e88773c02d8": {
      "model_module": "jupyter-cytoscape",
      "model_module_version": "^1.3.3",
      "model_name": "EdgeModel",
      "state": {
       "_model_module_version": "^1.3.3",
       "_view_module_version": "^1.3.3",
       "classes": " directed ",
       "data": {
        "id": "46815f41-a131-4848-b431-adf3f76f1b9f",
        "source": "8109201440656814751",
        "target": "-8911303611153779914"
       },
       "selectable": false
      }
     },
     "92a5fb3200cd43b5b69f03c799e0a185": {
      "model_module": "jupyter-cytoscape",
      "model_module_version": "^1.3.3",
      "model_name": "NodeModel",
      "state": {
       "_model_module_version": "^1.3.3",
       "_view_module_version": "^1.3.3",
       "data": {
        "color": "gray",
        "id": "-1551061172200993735",
        "label": "(1, 0, 0)",
        "shape": "rectangle"
       },
       "grabbable": true,
       "grabbed": false,
       "position": {
        "x": 362,
        "y": 275
       },
       "selectable": false
      }
     },
     "932bcbd5e90c4c5d8bf511da3eb6a9d4": {
      "model_module": "jupyter-cytoscape",
      "model_module_version": "^1.3.3",
      "model_name": "EdgeModel",
      "state": {
       "_model_module_version": "^1.3.3",
       "_view_module_version": "^1.3.3",
       "classes": " directed ",
       "data": {
        "id": "855c90d5-a40d-41d8-9801-abdee1964c20",
        "source": "-147531381724615491",
        "target": "8688960620195388608"
       },
       "selectable": false
      }
     },
     "9333500e49dd4b96bc1c86b75d74b5dd": {
      "model_module": "jupyter-cytoscape",
      "model_module_version": "^1.3.3",
      "model_name": "NodeModel",
      "state": {
       "_model_module_version": "^1.3.3",
       "_view_module_version": "^1.3.3",
       "data": {
        "color": "gray",
        "id": "-3488440626372327540",
        "label": "mean_agg-aggregate",
        "shape": "ellipse"
       },
       "grabbable": true,
       "grabbed": false,
       "position": {
        "x": 729,
        "y": 155
       },
       "selectable": false
      }
     },
     "94eaaf78b5b044ff8aa1b4ef0a8b2f7a": {
      "model_module": "jupyter-cytoscape",
      "model_module_version": "^1.3.3",
      "model_name": "EdgeModel",
      "state": {
       "_model_module_version": "^1.3.3",
       "_view_module_version": "^1.3.3",
       "classes": " directed ",
       "data": {
        "id": "a897c8f0-e98c-406b-b850-e7385d9b238b",
        "source": "-3648763719720139567",
        "target": "-6274431168249504483"
       },
       "selectable": false
      }
     },
     "98be9e5f63cc49119ffb27fa72261103": {
      "model_module": "jupyter-cytoscape",
      "model_module_version": "^1.3.3",
      "model_name": "NodeModel",
      "state": {
       "_model_module_version": "^1.3.3",
       "_view_module_version": "^1.3.3",
       "data": {
        "color": "gray",
        "id": "5978485980472722549",
        "label": "2",
        "shape": "rectangle"
       },
       "grabbable": true,
       "grabbed": false,
       "position": {
        "x": 912.5,
        "y": 515
       },
       "selectable": false
      }
     },
     "98c7d924a4cd4700a5623b264c3b2891": {
      "model_module": "jupyter-cytoscape",
      "model_module_version": "^1.3.3",
      "model_name": "EdgeModel",
      "state": {
       "_model_module_version": "^1.3.3",
       "_view_module_version": "^1.3.3",
       "classes": " directed ",
       "data": {
        "id": "ef29abef-b59d-4692-91e6-90419efe2db0",
        "source": "-2096639438270986525",
        "target": "-2843519414721284291"
       },
       "selectable": false
      }
     },
     "9e8c87c8898646ef92edfe0381324b9d": {
      "model_module": "jupyter-cytoscape",
      "model_module_version": "^1.3.3",
      "model_name": "EdgeModel",
      "state": {
       "_model_module_version": "^1.3.3",
       "_view_module_version": "^1.3.3",
       "classes": " directed ",
       "data": {
        "id": "acfe9051-dcaf-4449-bf62-15df0be34eeb",
        "source": "6029605610067576814",
        "target": "-1112242655355811420"
       },
       "selectable": false
      }
     },
     "a1c59d4749ee4632a2226ed330552add": {
      "model_module": "jupyter-cytoscape",
      "model_module_version": "^1.3.3",
      "model_name": "EdgeModel",
      "state": {
       "_model_module_version": "^1.3.3",
       "_view_module_version": "^1.3.3",
       "classes": " directed ",
       "data": {
        "id": "d946ce69-f125-4907-8763-a57ec2e4857c",
        "source": "-1112242655355811420",
        "target": "-4455112467544290847"
       },
       "selectable": false
      }
     },
     "a25fc171409546079910b5370f06405b": {
      "model_module": "jupyter-cytoscape",
      "model_module_version": "^1.3.3",
      "model_name": "EdgeModel",
      "state": {
       "_model_module_version": "^1.3.3",
       "_view_module_version": "^1.3.3",
       "classes": " directed ",
       "data": {
        "id": "c26997d5-aa5b-4538-8dc9-ec5e2b9be674",
        "source": "-209718090337684999",
        "target": "-3896033311210877489"
       },
       "selectable": false
      }
     },
     "a4155edacc6440e885b01a55f80a8659": {
      "model_module": "jupyter-cytoscape",
      "model_module_version": "^1.3.3",
      "model_name": "EdgeModel",
      "state": {
       "_model_module_version": "^1.3.3",
       "_view_module_version": "^1.3.3",
       "classes": " directed ",
       "data": {
        "id": "f07e8a72-e0f3-4d38-aa16-1967421b1178",
        "source": "-3896033311210877489",
        "target": "-2096639438270986525"
       },
       "selectable": false
      }
     },
     "a4cec0d988f9473899124881556e6c57": {
      "model_module": "jupyter-cytoscape",
      "model_module_version": "^1.3.3",
      "model_name": "EdgeModel",
      "state": {
       "_model_module_version": "^1.3.3",
       "_view_module_version": "^1.3.3",
       "classes": " directed ",
       "data": {
        "id": "5d46ba24-6285-4af3-b387-f915f8c26a4b",
        "source": "997040717761818877",
        "target": "-4888149582364544781"
       },
       "selectable": false
      }
     },
     "a5b34396c7024023a4cfed679e389920": {
      "model_module": "jupyter-cytoscape",
      "model_module_version": "^1.3.3",
      "model_name": "CytoscapeModel",
      "state": {
       "_interaction_handlers": {},
       "_model_module_version": "^1.3.3",
       "_view_module_version": "^1.3.3",
       "auto_ungrabify": false,
       "autolock": false,
       "cytoscape_layout": {
        "edgeSep": 10,
        "name": "dagre",
        "nodeDimensionsIncludeLabels": true,
        "nodeSep": 10,
        "rankDir": "BT",
        "spacingFactor": 1
       },
       "cytoscape_style": [
        {
         "selector": "node",
         "style": {
          "background-color": "#eee",
          "border-color": "data(color)",
          "border-width": 4,
          "color": "black",
          "font-family": "helvetica",
          "font-size": "24px",
          "font-weight": "bold",
          "height": 64,
          "label": "data(label)",
          "opacity": "1.0",
          "shape": "data(shape)",
          "text-halign": "center",
          "text-valign": "center",
          "width": 64
         }
        },
        {
         "selector": "edge",
         "style": {
          "curve-style": "bezier",
          "line-color": "gray",
          "target-arrow-color": "gray",
          "target-arrow-shape": "triangle",
          "width": 8
         }
        }
       ],
       "desktop_tap_threshold": 4,
       "graph": "IPY_MODEL_1a55d88f1b8c4efcb5f31cdd2b0d9f7d",
       "headless": false,
       "hide_edges_on_viewport": false,
       "layout": "IPY_MODEL_fe16a3914d3b442e8109e3accef076b9",
       "max_zoom": 4,
       "min_zoom": 0.2,
       "motion_blur": false,
       "motion_blur_opacity": 0.2,
       "panning_enabled": true,
       "pixel_ratio": "auto",
       "rendered_position": {
        "renderedPosition": {
         "x": 100,
         "y": 100
        }
       },
       "selection_type": "single",
       "style_enabled": true,
       "texture_on_viewport": false,
       "tooltip_source": "tooltip",
       "touch_tap_threshold": 8,
       "user_panning_enabled": true,
       "user_zooming_enabled": true,
       "wheel_sensitivity": 0.1,
       "zoom": 2,
       "zooming_enabled": true
      }
     },
     "a6173d5d59dc42bf95866bc06f62bb20": {
      "model_module": "jupyter-cytoscape",
      "model_module_version": "^1.3.3",
      "model_name": "NodeModel",
      "state": {
       "_model_module_version": "^1.3.3",
       "_view_module_version": "^1.3.3",
       "data": {
        "color": "gray",
        "id": "6958159432146507029",
        "label": "",
        "shape": "rectangle"
       },
       "grabbable": true,
       "grabbed": false,
       "position": {
        "x": 178.5,
        "y": 995
       },
       "selectable": false
      }
     },
     "a6375f76620a43d3a6d28f6b3a108e26": {
      "model_module": "jupyter-cytoscape",
      "model_module_version": "^1.3.3",
      "model_name": "EdgeModel",
      "state": {
       "_model_module_version": "^1.3.3",
       "_view_module_version": "^1.3.3",
       "classes": " directed ",
       "data": {
        "id": "48e546ff-54a9-4ddb-8858-89a58527df49",
        "source": "-3488440626372327540",
        "target": "4007050532627957381"
       },
       "selectable": false
      }
     },
     "a754eb9bb3b4427295914183bfb4b20b": {
      "model_module": "jupyter-cytoscape",
      "model_module_version": "^1.3.3",
      "model_name": "EdgeModel",
      "state": {
       "_model_module_version": "^1.3.3",
       "_view_module_version": "^1.3.3",
       "classes": " directed ",
       "data": {
        "id": "54c52d5f-ec43-4c7a-9ab4-af4c667b1278",
        "source": "-1551061172200993735",
        "target": "-3488440626372327540"
       },
       "selectable": false
      }
     },
     "a7de5189d5b64159b471017f871fc6e2": {
      "model_module": "jupyter-cytoscape",
      "model_module_version": "^1.3.3",
      "model_name": "NodeModel",
      "state": {
       "_model_module_version": "^1.3.3",
       "_view_module_version": "^1.3.3",
       "data": {
        "color": "gray",
        "id": "525425437570452154",
        "label": "mean_chunk",
        "shape": "ellipse"
       },
       "grabbable": true,
       "grabbed": false,
       "position": {
        "x": 178.5,
        "y": 635
       },
       "selectable": false
      }
     },
     "a8bb8b8ca4fc486ebc0e9ee7c8ed20f3": {
      "model_module": "jupyter-cytoscape",
      "model_module_version": "^1.3.3",
      "model_name": "NodeModel",
      "state": {
       "_model_module_version": "^1.3.3",
       "_view_module_version": "^1.3.3",
       "data": {
        "color": "gray",
        "id": "5899377041639488664",
        "label": "frozen_phonon",
        "shape": "ellipse"
       },
       "grabbable": true,
       "grabbed": false,
       "position": {
        "x": 912.5,
        "y": 875
       },
       "selectable": false
      }
     },
     "a8e2de1cd69b4583bcfdd13bfa311a48": {
      "model_module": "jupyter-cytoscape",
      "model_module_version": "^1.3.3",
      "model_name": "EdgeModel",
      "state": {
       "_model_module_version": "^1.3.3",
       "_view_module_version": "^1.3.3",
       "classes": " directed ",
       "data": {
        "id": "f6dcd563-a5dd-4ded-b1cf-56d5b98c96e5",
        "source": "-3896033311210877489",
        "target": "-2096639438270986525"
       },
       "selectable": false
      }
     },
     "aa7b299f6b4d48da9557d571e3c01aa1": {
      "model_module": "jupyter-cytoscape",
      "model_module_version": "^1.3.3",
      "model_name": "NodeModel",
      "state": {
       "_model_module_version": "^1.3.3",
       "_view_module_version": "^1.3.3",
       "data": {
        "color": "gray",
        "id": "997040717761818877",
        "label": "1",
        "shape": "rectangle"
       },
       "grabbable": true,
       "grabbed": false,
       "position": {
        "x": 1279.5,
        "y": 1235
       },
       "selectable": false
      }
     },
     "ad8890f5a95a424fac3a615a4b46c724": {
      "model_module": "jupyter-cytoscape",
      "model_module_version": "^1.3.3",
      "model_name": "GraphModel",
      "state": {
       "_adj": {},
       "_model_module_version": "^1.3.3",
       "_view_module": "jupyter-cytoscape",
       "_view_module_version": "^1.3.3"
      }
     },
     "ae45b58112ce48c891dc781d07e646e8": {
      "model_module": "jupyter-cytoscape",
      "model_module_version": "^1.3.3",
      "model_name": "EdgeModel",
      "state": {
       "_model_module_version": "^1.3.3",
       "_view_module_version": "^1.3.3",
       "classes": " directed ",
       "data": {
        "id": "8472bc64-6dc6-4882-bbe9-dbab5710c00c",
        "source": "-6458404547314626517",
        "target": "-3488440626372327540"
       },
       "selectable": false
      }
     },
     "ae4b5b6de49b4ea4a5821c86f0e65a0e": {
      "model_module": "jupyter-cytoscape",
      "model_module_version": "^1.3.3",
      "model_name": "NodeModel",
      "state": {
       "_model_module_version": "^1.3.3",
       "_view_module_version": "^1.3.3",
       "data": {
        "color": "gray",
        "id": "-1112242655355811420",
        "label": "0",
        "shape": "rectangle"
       },
       "grabbable": true,
       "grabbed": false,
       "position": {
        "x": 178.5,
        "y": 275
       },
       "selectable": false
      }
     },
     "b307db0d1a69413f8ca55aea070e2420": {
      "model_module": "jupyter-cytoscape",
      "model_module_version": "^1.3.3",
      "model_name": "NodeModel",
      "state": {
       "_model_module_version": "^1.3.3",
       "_view_module_version": "^1.3.3",
       "data": {
        "color": "gray",
        "id": "4527726134442228481",
        "label": "intensity",
        "shape": "ellipse"
       },
       "grabbable": true,
       "grabbed": false,
       "position": {
        "x": 178.5,
        "y": 875
       },
       "selectable": false
      }
     },
     "b4372ec4abbb4603bccd8fd9d95e4704": {
      "model_module": "jupyter-cytoscape",
      "model_module_version": "^1.3.3",
      "model_name": "NodeModel",
      "state": {
       "_model_module_version": "^1.3.3",
       "_view_module_version": "^1.3.3",
       "data": {
        "color": "gray",
        "id": "6029605610067576814",
        "label": "build_waves_multislice_detect",
        "shape": "ellipse"
       },
       "grabbable": true,
       "grabbed": false,
       "position": {
        "x": 178.5,
        "y": 395
       },
       "selectable": false
      }
     },
     "b4bded753b0546fdb876e725201887d0": {
      "model_module": "jupyter-cytoscape",
      "model_module_version": "^1.3.3",
      "model_name": "NodeModel",
      "state": {
       "_model_module_version": "^1.3.3",
       "_view_module_version": "^1.3.3",
       "data": {
        "color": "gray",
        "id": "-147531381724615491",
        "label": "",
        "shape": "rectangle"
       },
       "grabbable": true,
       "grabbed": false,
       "position": {
        "x": 1279.5,
        "y": 1715
       },
       "selectable": false
      }
     },
     "b569087921334e96aa7356641d940921": {
      "model_module": "jupyter-cytoscape",
      "model_module_version": "^1.3.3",
      "model_name": "NodeModel",
      "state": {
       "_model_module_version": "^1.3.3",
       "_view_module_version": "^1.3.3",
       "data": {
        "color": "gray",
        "id": "997040717761818877",
        "label": "1",
        "shape": "rectangle"
       },
       "grabbable": true,
       "grabbed": false,
       "position": {
        "x": 545.5,
        "y": 275
       },
       "selectable": false
      }
     },
     "b5707b6b0d5c4ff684a39d7df54ff2b8": {
      "model_module": "jupyter-cytoscape",
      "model_module_version": "^1.3.3",
      "model_name": "EdgeModel",
      "state": {
       "_model_module_version": "^1.3.3",
       "_view_module_version": "^1.3.3",
       "classes": " directed ",
       "data": {
        "id": "4daea1b0-c251-4fdd-a69c-fd7cae413c5d",
        "source": "82232189849975367",
        "target": "7527841135802037692"
       },
       "selectable": false
      }
     },
     "b80a4a078cfd478d88faf6c0a7c23ce1": {
      "model_module": "jupyter-cytoscape",
      "model_module_version": "^1.3.3",
      "model_name": "EdgeModel",
      "state": {
       "_model_module_version": "^1.3.3",
       "_view_module_version": "^1.3.3",
       "classes": " directed ",
       "data": {
        "id": "f41c44c0-d843-4d7b-b86b-56268bdef758",
        "source": "-3606315626874523598",
        "target": "-2809696302256404093"
       },
       "selectable": false
      }
     },
     "ba84041b4cd448469529fb31ed1b7d5f": {
      "model_module": "jupyter-cytoscape",
      "model_module_version": "^1.3.3",
      "model_name": "NodeModel",
      "state": {
       "_model_module_version": "^1.3.3",
       "_view_module_version": "^1.3.3",
       "data": {
        "color": "gray",
        "id": "-8559770428161864702",
        "label": "(0, 0, 0)",
        "shape": "rectangle"
       },
       "grabbable": true,
       "grabbed": false,
       "position": {
        "x": 912.5,
        "y": 755
       },
       "selectable": false
      }
     },
     "bc611271d89847c3a8cd558b34bc2954": {
      "model_module": "jupyter-cytoscape",
      "model_module_version": "^1.3.3",
      "model_name": "NodeModel",
      "state": {
       "_model_module_version": "^1.3.3",
       "_view_module_version": "^1.3.3",
       "data": {
        "color": "gray",
        "id": "-3648763719720139567",
        "label": "",
        "shape": "rectangle"
       },
       "grabbable": true,
       "grabbed": false,
       "position": {
        "x": 912.5,
        "y": 1715
       },
       "selectable": false
      }
     },
     "c083aee53b3a4b2b98dcfad40abcbbd4": {
      "model_module": "jupyter-cytoscape",
      "model_module_version": "^1.3.3",
      "model_name": "NodeModel",
      "state": {
       "_model_module_version": "^1.3.3",
       "_view_module_version": "^1.3.3",
       "data": {
        "color": "gray",
        "id": "641647815826442644",
        "label": "(2, 0, 0)",
        "shape": "rectangle"
       },
       "grabbable": true,
       "grabbed": false,
       "position": {
        "x": 178.5,
        "y": 515
       },
       "selectable": false
      }
     },
     "c17201f7a2ba485e8510bf40c496fc9f": {
      "model_module": "jupyter-cytoscape",
      "model_module_version": "^1.3.3",
      "model_name": "EdgeModel",
      "state": {
       "_model_module_version": "^1.3.3",
       "_view_module_version": "^1.3.3",
       "classes": " directed ",
       "data": {
        "id": "72731710-8d7d-45d4-ae4e-b222ddf070d5",
        "source": "-975648152280315770",
        "target": "-5454616645910432204"
       },
       "selectable": false
      }
     },
     "c206392c29b34d45838e404d5ab23398": {
      "model_module": "jupyter-cytoscape",
      "model_module_version": "^1.3.3",
      "model_name": "EdgeModel",
      "state": {
       "_model_module_version": "^1.3.3",
       "_view_module_version": "^1.3.3",
       "classes": " directed ",
       "data": {
        "id": "0e6742ce-bfd3-4658-aed8-f3fbd0ff7cb4",
        "source": "-147531381724615491",
        "target": "8688960620195388608"
       },
       "selectable": false
      }
     },
     "c23507194a754a5f93db65c99a90df8f": {
      "model_module": "jupyter-cytoscape",
      "model_module_version": "^1.3.3",
      "model_name": "EdgeModel",
      "state": {
       "_model_module_version": "^1.3.3",
       "_view_module_version": "^1.3.3",
       "classes": " directed ",
       "data": {
        "id": "58b25f38-9f6b-42f2-af2d-689eac58b6b3",
        "source": "2369830892600547874",
        "target": "-3648763719720139567"
       },
       "selectable": false
      }
     },
     "c2b14ebd73504b2781c6313bae5f3564": {
      "model_module": "jupyter-cytoscape",
      "model_module_version": "^1.3.3",
      "model_name": "NodeModel",
      "state": {
       "_model_module_version": "^1.3.3",
       "_view_module_version": "^1.3.3",
       "data": {
        "color": "gray",
        "id": "82232189849975367",
        "label": "mean_chunk",
        "shape": "ellipse"
       },
       "grabbable": true,
       "grabbed": false,
       "position": {
        "x": 912.5,
        "y": 635
       },
       "selectable": false
      }
     },
     "c424a9a28c8348e6b2c414be03170c80": {
      "model_module": "jupyter-cytoscape",
      "model_module_version": "^1.3.3",
      "model_name": "NodeModel",
      "state": {
       "_model_module_version": "^1.3.3",
       "_view_module_version": "^1.3.3",
       "data": {
        "color": "gray",
        "id": "8688960620195388608",
        "label": "0",
        "shape": "rectangle"
       },
       "grabbable": true,
       "grabbed": false,
       "position": {
        "x": 1279.5,
        "y": 1595
       },
       "selectable": false
      }
     },
     "c722b6051768479c86367a1f15ad5fe1": {
      "model_module": "jupyter-cytoscape",
      "model_module_version": "^1.3.3",
      "model_name": "EdgeModel",
      "state": {
       "_model_module_version": "^1.3.3",
       "_view_module_version": "^1.3.3",
       "classes": " directed ",
       "data": {
        "id": "cd6dcc1a-f852-4b55-b63e-69c615f1be48",
        "source": "-4455112467544290847",
        "target": "1468814177293301289"
       },
       "selectable": false
      }
     },
     "c730c9c5cb8f44709114b6a96c2685f0": {
      "model_module": "jupyter-cytoscape",
      "model_module_version": "^1.3.3",
      "model_name": "EdgeModel",
      "state": {
       "_model_module_version": "^1.3.3",
       "_view_module_version": "^1.3.3",
       "classes": " directed ",
       "data": {
        "id": "a43d28c7-fea8-40d9-97d5-3930c1225e87",
        "source": "5190833689647490477",
        "target": "-8212648725776401941"
       },
       "selectable": false
      }
     },
     "c9cb8b3181704b8c8debad3302eb84c9": {
      "model_module": "jupyter-cytoscape",
      "model_module_version": "^1.3.3",
      "model_name": "NodeModel",
      "state": {
       "_model_module_version": "^1.3.3",
       "_view_module_version": "^1.3.3",
       "data": {
        "color": "gray",
        "id": "-975648152280315770",
        "label": "",
        "shape": "rectangle"
       },
       "grabbable": true,
       "grabbed": false,
       "position": {
        "x": 545.5,
        "y": 1715
       },
       "selectable": false
      }
     },
     "ca364adf6d5844a8b0eb2aa048ed4f02": {
      "model_module": "jupyter-cytoscape",
      "model_module_version": "^1.3.3",
      "model_name": "NodeModel",
      "state": {
       "_model_module_version": "^1.3.3",
       "_view_module_version": "^1.3.3",
       "data": {
        "color": "gray",
        "id": "-3606315626874523598",
        "label": "(3, 0, 0)",
        "shape": "rectangle"
       },
       "grabbable": true,
       "grabbed": false,
       "position": {
        "x": 1279.5,
        "y": 35
       },
       "selectable": false
      }
     },
     "ca480753033c4eb88149367ef11dd84f": {
      "model_module": "jupyter-cytoscape",
      "model_module_version": "^1.3.3",
      "model_name": "EdgeModel",
      "state": {
       "_model_module_version": "^1.3.3",
       "_view_module_version": "^1.3.3",
       "classes": " directed ",
       "data": {
        "id": "e9075e03-3ede-4e5a-808a-152b7039d34d",
        "source": "8566637398729270391",
        "target": "-1892055594409640941"
       },
       "selectable": false
      }
     },
     "cc671573256d446cbb0bf44fcefe93b9": {
      "model_module": "jupyter-cytoscape",
      "model_module_version": "^1.3.3",
      "model_name": "NodeModel",
      "state": {
       "_model_module_version": "^1.3.3",
       "_view_module_version": "^1.3.3",
       "data": {
        "color": "gray",
        "id": "-147531381724615491",
        "label": "",
        "shape": "rectangle"
       },
       "grabbable": true,
       "grabbed": false,
       "position": {
        "x": 545.5,
        "y": 755
       },
       "selectable": false
      }
     },
     "ccec27ec00fa46ec8de7551e4ca76613": {
      "model_module": "jupyter-cytoscape",
      "model_module_version": "^1.3.3",
      "model_name": "NodeModel",
      "state": {
       "_model_module_version": "^1.3.3",
       "_view_module_version": "^1.3.3",
       "data": {
        "color": "gray",
        "id": "-975648152280315770",
        "label": "",
        "shape": "rectangle"
       },
       "grabbable": true,
       "grabbed": false,
       "position": {
        "x": 1279.5,
        "y": 755
       },
       "selectable": false
      }
     },
     "cdd176ca8a8440c5bfb080ee0b3e373f": {
      "model_module": "jupyter-cytoscape",
      "model_module_version": "^1.3.3",
      "model_name": "EdgeModel",
      "state": {
       "_model_module_version": "^1.3.3",
       "_view_module_version": "^1.3.3",
       "classes": " directed ",
       "data": {
        "id": "2117c5fb-30a2-4dad-99a2-117e7ccbda3e",
        "source": "7527841135802037692",
        "target": "7927772020698749667"
       },
       "selectable": false
      }
     },
     "cf329c7704f347cc9c4fb3b891600307": {
      "model_module": "jupyter-cytoscape",
      "model_module_version": "^1.3.3",
      "model_name": "NodeModel",
      "state": {
       "_model_module_version": "^1.3.3",
       "_view_module_version": "^1.3.3",
       "data": {
        "color": "gray",
        "id": "-2794818360831510968",
        "label": "",
        "shape": "rectangle"
       },
       "grabbable": true,
       "grabbed": false,
       "position": {
        "x": 545.5,
        "y": 1955
       },
       "selectable": false
      }
     },
     "d0309436547b4dfaa87123f84de54037": {
      "model_module": "jupyter-cytoscape",
      "model_module_version": "^1.3.3",
      "model_name": "EdgeModel",
      "state": {
       "_model_module_version": "^1.3.3",
       "_view_module_version": "^1.3.3",
       "classes": " directed ",
       "data": {
        "id": "3d38a5a0-48a8-448d-8c02-50b0fa9de0ac",
        "source": "-209718090337684999",
        "target": "-3896033311210877489"
       },
       "selectable": false
      }
     },
     "d136e3cde1964115a68877ec56697617": {
      "model_module": "jupyter-cytoscape",
      "model_module_version": "^1.3.3",
      "model_name": "NodeModel",
      "state": {
       "_model_module_version": "^1.3.3",
       "_view_module_version": "^1.3.3",
       "data": {
        "color": "gray",
        "id": "-5454616645910432204",
        "label": "0",
        "shape": "rectangle"
       },
       "grabbable": true,
       "grabbed": false,
       "position": {
        "x": 545.5,
        "y": 1595
       },
       "selectable": false
      }
     },
     "d1b33d4d5ff140868a4b63d9cc798ec6": {
      "model_module": "jupyter-cytoscape",
      "model_module_version": "^1.3.3",
      "model_name": "NodeModel",
      "state": {
       "_model_module_version": "^1.3.3",
       "_view_module_version": "^1.3.3",
       "data": {
        "color": "gray",
        "id": "2369830892600547874",
        "label": "frozen_phonon",
        "shape": "ellipse"
       },
       "grabbable": true,
       "grabbed": false,
       "position": {
        "x": 178.5,
        "y": 875
       },
       "selectable": false
      }
     },
     "d2b9e551acac47cf9e3441968488f5ac": {
      "model_module": "jupyter-cytoscape",
      "model_module_version": "^1.3.3",
      "model_name": "NodeModel",
      "state": {
       "_model_module_version": "^1.3.3",
       "_view_module_version": "^1.3.3",
       "data": {
        "color": "gray",
        "id": "5337896784629353535",
        "label": "",
        "shape": "rectangle"
       },
       "grabbable": true,
       "grabbed": false,
       "position": {
        "x": 178.5,
        "y": 1955
       },
       "selectable": false
      }
     },
     "d2ddc4d57864423884388a86e4635e86": {
      "model_module": "jupyter-cytoscape",
      "model_module_version": "^1.3.3",
      "model_name": "EdgeModel",
      "state": {
       "_model_module_version": "^1.3.3",
       "_view_module_version": "^1.3.3",
       "classes": " directed ",
       "data": {
        "id": "3f8ef368-b582-4df9-b8c7-12de9122121e",
        "source": "-2794818360831510968",
        "target": "8554607745120336249"
       },
       "selectable": false
      }
     },
     "d3252fda24644dd3ba1a27e385754d31": {
      "model_module": "jupyter-cytoscape",
      "model_module_version": "^1.3.3",
      "model_name": "NodeModel",
      "state": {
       "_model_module_version": "^1.3.3",
       "_view_module_version": "^1.3.3",
       "data": {
        "color": "gray",
        "id": "-4873302259584143306",
        "label": "(3, 0, 0)",
        "shape": "rectangle"
       },
       "grabbable": true,
       "grabbed": false,
       "position": {
        "x": 545.5,
        "y": 755
       },
       "selectable": false
      }
     },
     "d486e3c3fd254fdc89b405a77a0f6817": {
      "model_module": "jupyter-cytoscape",
      "model_module_version": "^1.3.3",
      "model_name": "EdgeModel",
      "state": {
       "_model_module_version": "^1.3.3",
       "_view_module_version": "^1.3.3",
       "classes": " directed ",
       "data": {
        "id": "91b9009b-190b-4494-881b-2fa930b8cdc7",
        "source": "5899377041639488664",
        "target": "5190833689647490477"
       },
       "selectable": false
      }
     },
     "d68f2a363d2b453db9e56911693a3fad": {
      "model_module": "jupyter-cytoscape",
      "model_module_version": "^1.3.3",
      "model_name": "NodeModel",
      "state": {
       "_model_module_version": "^1.3.3",
       "_view_module_version": "^1.3.3",
       "data": {
        "color": "gray",
        "id": "2611607444891120936",
        "label": "3",
        "shape": "rectangle"
       },
       "grabbable": true,
       "grabbed": false,
       "position": {
        "x": 545.5,
        "y": 1235
       },
       "selectable": false
      }
     },
     "d8497552606742e982131651fb107295": {
      "model_module": "jupyter-cytoscape",
      "model_module_version": "^1.3.3",
      "model_name": "NodeModel",
      "state": {
       "_model_module_version": "^1.3.3",
       "_view_module_version": "^1.3.3",
       "data": {
        "color": "gray",
        "id": "-7173382570491175912",
        "label": "build_waves_multislice_detect",
        "shape": "ellipse"
       },
       "grabbable": true,
       "grabbed": false,
       "position": {
        "x": 545.5,
        "y": 1355
       },
       "selectable": false
      }
     },
     "d945b5fb873945509593c4a535b29950": {
      "model_module": "jupyter-cytoscape",
      "model_module_version": "^1.3.3",
      "model_name": "NodeModel",
      "state": {
       "_model_module_version": "^1.3.3",
       "_view_module_version": "^1.3.3",
       "data": {
        "color": "gray",
        "id": "-2096639438270986525",
        "label": "extract_measurement",
        "shape": "ellipse"
       },
       "grabbable": true,
       "grabbed": false,
       "position": {
        "x": 178.5,
        "y": 1115
       },
       "selectable": false
      }
     },
     "dad046dd28ec4937b48c5532d3b4cb83": {
      "model_module": "jupyter-cytoscape",
      "model_module_version": "^1.3.3",
      "model_name": "EdgeModel",
      "state": {
       "_model_module_version": "^1.3.3",
       "_view_module_version": "^1.3.3",
       "classes": " directed ",
       "data": {
        "id": "2aaaabb7-f7e2-4d4b-92cf-0e5e2fb70a45",
        "source": "2611607444891120936",
        "target": "1723271752263943708"
       },
       "selectable": false
      }
     },
     "dc25ec87600f4fe1b6efb2f3a8cbca80": {
      "model_module": "jupyter-cytoscape",
      "model_module_version": "^1.3.3",
      "model_name": "NodeModel",
      "state": {
       "_model_module_version": "^1.3.3",
       "_view_module_version": "^1.3.3",
       "data": {
        "color": "gray",
        "id": "-5781255077600032181",
        "label": "build_waves_multislice_detect",
        "shape": "ellipse"
       },
       "grabbable": true,
       "grabbed": false,
       "position": {
        "x": 545.5,
        "y": 395
       },
       "selectable": false
      }
     },
     "ddeae7c255724ea79c792967dd6d39d8": {
      "model_module": "jupyter-cytoscape",
      "model_module_version": "^1.3.3",
      "model_name": "EdgeModel",
      "state": {
       "_model_module_version": "^1.3.3",
       "_view_module_version": "^1.3.3",
       "classes": " directed ",
       "data": {
        "id": "ddcdf051-b311-4ad6-a981-a16c774a37f4",
        "source": "-6274431168249504483",
        "target": "-2638438148746906173"
       },
       "selectable": false
      }
     },
     "e1406d805c1b4abaa67c4297ffb41c2c": {
      "model_module": "jupyter-cytoscape",
      "model_module_version": "^1.3.3",
      "model_name": "EdgeModel",
      "state": {
       "_model_module_version": "^1.3.3",
       "_view_module_version": "^1.3.3",
       "classes": " directed ",
       "data": {
        "id": "b88e0ffa-86a0-42dc-b80d-ccc16167a2d0",
        "source": "-1892055594409640941",
        "target": "-1551061172200993735"
       },
       "selectable": false
      }
     },
     "e30bd6c6edb848589f31805637a687b4": {
      "model_module": "jupyter-cytoscape",
      "model_module_version": "^1.3.3",
      "model_name": "EdgeModel",
      "state": {
       "_model_module_version": "^1.3.3",
       "_view_module_version": "^1.3.3",
       "classes": " directed ",
       "data": {
        "id": "11a9996c-2178-4c0a-9cd0-4ca5461a192d",
        "source": "4527726134442228481",
        "target": "5648452231222580563"
       },
       "selectable": false
      }
     },
     "e45d1da1aeb54bd8b55ec3579dbdef0f": {
      "model_module": "jupyter-cytoscape",
      "model_module_version": "^1.3.3",
      "model_name": "NodeModel",
      "state": {
       "_model_module_version": "^1.3.3",
       "_view_module_version": "^1.3.3",
       "data": {
        "color": "gray",
        "id": "7927772020698749667",
        "label": "mean_combine-partial",
        "shape": "ellipse"
       },
       "grabbable": true,
       "grabbed": false,
       "position": {
        "x": 1096,
        "y": 395
       },
       "selectable": false
      }
     },
     "e88f3bf82c864c929d2c954f17b5b080": {
      "model_module": "jupyter-cytoscape",
      "model_module_version": "^1.3.3",
      "model_name": "EdgeModel",
      "state": {
       "_model_module_version": "^1.3.3",
       "_view_module_version": "^1.3.3",
       "classes": " directed ",
       "data": {
        "id": "3be4a81a-a32f-4063-94f9-836f574fcd0f",
        "source": "-3648763719720139567",
        "target": "-6274431168249504483"
       },
       "selectable": false
      }
     },
     "e90eb2fdf6d141bdb131051c637d0a21": {
      "model_module": "jupyter-cytoscape",
      "model_module_version": "^1.3.3",
      "model_name": "NodeModel",
      "state": {
       "_model_module_version": "^1.3.3",
       "_view_module_version": "^1.3.3",
       "data": {
        "color": "gray",
        "id": "-8911303611153779914",
        "label": "frozen_phonon",
        "shape": "ellipse"
       },
       "grabbable": true,
       "grabbed": false,
       "position": {
        "x": 1279.5,
        "y": 1835
       },
       "selectable": false
      }
     },
     "ea79fcfb3cef49489b231ef060e5325d": {
      "model_module": "jupyter-cytoscape",
      "model_module_version": "^1.3.3",
      "model_name": "NodeModel",
      "state": {
       "_model_module_version": "^1.3.3",
       "_view_module_version": "^1.3.3",
       "data": {
        "color": "gray",
        "id": "7678235076085439578",
        "label": "(1, 0, 0)",
        "shape": "rectangle"
       },
       "grabbable": true,
       "grabbed": false,
       "position": {
        "x": 1279.5,
        "y": 995
       },
       "selectable": false
      }
     },
     "eb5561f8aa214677854f5a36a9ab718f": {
      "model_module": "jupyter-cytoscape",
      "model_module_version": "^1.3.3",
      "model_name": "EdgeModel",
      "state": {
       "_model_module_version": "^1.3.3",
       "_view_module_version": "^1.3.3",
       "classes": " directed ",
       "data": {
        "id": "e9ca4008-3e8e-4eb8-9524-936b36b07fdb",
        "source": "1085411951500026183",
        "target": "-7173382570491175912"
       },
       "selectable": false
      }
     },
     "ec963a1881524e838f5d3a8ce08cdb2a": {
      "model_module": "jupyter-cytoscape",
      "model_module_version": "^1.3.3",
      "model_name": "NodeModel",
      "state": {
       "_model_module_version": "^1.3.3",
       "_view_module_version": "^1.3.3",
       "data": {
        "color": "gray",
        "id": "1085411951500026183",
        "label": "3",
        "shape": "rectangle"
       },
       "grabbable": true,
       "grabbed": false,
       "position": {
        "x": 1279.5,
        "y": 515
       },
       "selectable": false
      }
     },
     "ecf6c5f3cfda49aab4aad0becb10210c": {
      "model_module": "jupyter-cytoscape",
      "model_module_version": "^1.3.3",
      "model_name": "NodeModel",
      "state": {
       "_model_module_version": "^1.3.3",
       "_view_module_version": "^1.3.3",
       "data": {
        "color": "gray",
        "id": "1723271752263943708",
        "label": "extract_measurement",
        "shape": "ellipse"
       },
       "grabbable": true,
       "grabbed": false,
       "position": {
        "x": 545.5,
        "y": 1115
       },
       "selectable": false
      }
     },
     "ee6cd1ed0450410eb703e87e635bf3d9": {
      "model_module": "jupyter-cytoscape",
      "model_module_version": "^1.3.3",
      "model_name": "EdgeModel",
      "state": {
       "_model_module_version": "^1.3.3",
       "_view_module_version": "^1.3.3",
       "classes": " directed ",
       "data": {
        "id": "9be0c39e-cd01-4c0c-a4ff-4900cd64ed1a",
        "source": "1468814177293301289",
        "target": "-81111989138868833"
       },
       "selectable": false
      }
     },
     "eee1dca483c44460942f8fd337da28cf": {
      "model_module": "jupyter-cytoscape",
      "model_module_version": "^1.3.3",
      "model_name": "NodeModel",
      "state": {
       "_model_module_version": "^1.3.3",
       "_view_module_version": "^1.3.3",
       "data": {
        "color": "gray",
        "id": "-3648763719720139567",
        "label": "",
        "shape": "rectangle"
       },
       "grabbable": true,
       "grabbed": false,
       "position": {
        "x": 178.5,
        "y": 755
       },
       "selectable": false
      }
     },
     "efd294cdbdfe4a89a63a0bc0e5b3f5c0": {
      "model_module": "jupyter-cytoscape",
      "model_module_version": "^1.3.3",
      "model_name": "EdgeModel",
      "state": {
       "_model_module_version": "^1.3.3",
       "_view_module_version": "^1.3.3",
       "classes": " directed ",
       "data": {
        "id": "b314adbe-8d2c-4865-97b9-79687169a2f4",
        "source": "8554607745120336249",
        "target": "-975648152280315770"
       },
       "selectable": false
      }
     },
     "f08783e19eae480990e121261841d87b": {
      "model_module": "jupyter-cytoscape",
      "model_module_version": "^1.3.3",
      "model_name": "EdgeModel",
      "state": {
       "_model_module_version": "^1.3.3",
       "_view_module_version": "^1.3.3",
       "classes": " directed ",
       "data": {
        "id": "2eee0041-7b5d-4eee-ba82-646dda2acf82",
        "source": "525425437570452154",
        "target": "641647815826442644"
       },
       "selectable": false
      }
     },
     "f3ba2600d45042a480fa365a9e2455e7": {
      "model_module": "jupyter-cytoscape",
      "model_module_version": "^1.3.3",
      "model_name": "GraphModel",
      "state": {
       "_adj": {
        "-1112242655355811420": {},
        "-147531381724615491": {},
        "-2096639438270986525": {},
        "-209718090337684999": {},
        "-2638438148746906173": {},
        "-2794818360831510968": {},
        "-2843519414721284291": {},
        "-3606315626874523598": {},
        "-3648763719720139567": {},
        "-3896033311210877489": {},
        "-4455112467544290847": {},
        "-4888149582364544781": {},
        "-529154775629275876": {},
        "-5454616645910432204": {},
        "-5781255077600032181": {},
        "-6274431168249504483": {},
        "-7173382570491175912": {},
        "-8212648725776401941": {},
        "-8911303611153779914": {},
        "-975648152280315770": {},
        "1085411951500026183": {},
        "1468814177293301289": {},
        "1723271752263943708": {},
        "2369830892600547874": {},
        "2611607444891120936": {},
        "5190833689647490477": {},
        "5337896784629353535": {},
        "5899377041639488664": {},
        "5978485980472722549": {},
        "6029605610067576814": {},
        "6958159432146507029": {},
        "7678235076085439578": {},
        "8109201440656814751": {},
        "8554607745120336249": {},
        "8688960620195388608": {},
        "997040717761818877": {}
       },
       "_model_module_version": "^1.3.3",
       "_view_module": "jupyter-cytoscape",
       "_view_module_version": "^1.3.3",
       "edges": [
        "IPY_MODEL_ddeae7c255724ea79c792967dd6d39d8",
        "IPY_MODEL_6a1950e714de4449b6a9f65127b3ec98",
        "IPY_MODEL_4e79c9e352514f5aaad55acdc3df5ac9",
        "IPY_MODEL_1d09727420f045b19d67817f2bf5c692",
        "IPY_MODEL_664246c9d73847a490d464cea2f4ae6e",
        "IPY_MODEL_6b8068806e234eeeba5fb84ae3ee9be6",
        "IPY_MODEL_94eaaf78b5b044ff8aa1b4ef0a8b2f7a",
        "IPY_MODEL_872eec512f8b414d95a3fdc8ced511d7",
        "IPY_MODEL_91a14e5adb8a4e19a9c50e88773c02d8",
        "IPY_MODEL_c206392c29b34d45838e404d5ab23398",
        "IPY_MODEL_d486e3c3fd254fdc89b405a77a0f6817",
        "IPY_MODEL_87f7bf6e28d04032b943a1ac5c8ace85",
        "IPY_MODEL_c730c9c5cb8f44709114b6a96c2685f0",
        "IPY_MODEL_275e05d841fc4bf9b049bb55617e9fdd",
        "IPY_MODEL_882098914ae44dab9b512063bf504e66",
        "IPY_MODEL_c17201f7a2ba485e8510bf40c496fc9f",
        "IPY_MODEL_7a505b33b8134eaba14ffb60811c9e3c",
        "IPY_MODEL_576831b338924bef909a28d6044fc0a8",
        "IPY_MODEL_737057adddaa493e9c1fdefa8869a09b",
        "IPY_MODEL_43120d64ca8e4ec8a48a0b815d55dffd",
        "IPY_MODEL_d0309436547b4dfaa87123f84de54037",
        "IPY_MODEL_3d0da29177074298861540c9ccc500e7",
        "IPY_MODEL_3489ce478753400c8210ab55d564a20f",
        "IPY_MODEL_eb5561f8aa214677854f5a36a9ab718f",
        "IPY_MODEL_c722b6051768479c86367a1f15ad5fe1",
        "IPY_MODEL_58ba5763c01f4a0ebcdb13bfe88e688f",
        "IPY_MODEL_466f2c0dae7040ff8bc8320b2ca39ee1",
        "IPY_MODEL_3a02398cb0564ff98ab5ecf599476fb1",
        "IPY_MODEL_98c7d924a4cd4700a5623b264c3b2891",
        "IPY_MODEL_a8e2de1cd69b4583bcfdd13bfa311a48",
        "IPY_MODEL_7a811a266afe4dff87294e20f20a6176",
        "IPY_MODEL_8d2e38392f074f18ae976d5ff7b96361"
       ],
       "nodes": [
        "IPY_MODEL_2f0b5f32f1e94e36a7a40b69c6a7bf13",
        "IPY_MODEL_6a72e1780ba84a46951e42e908d1eca4",
        "IPY_MODEL_98be9e5f63cc49119ffb27fa72261103",
        "IPY_MODEL_ec963a1881524e838f5d3a8ce08cdb2a",
        "IPY_MODEL_a6173d5d59dc42bf95866bc06f62bb20",
        "IPY_MODEL_d1b33d4d5ff140868a4b63d9cc798ec6",
        "IPY_MODEL_eee1dca483c44460942f8fd337da28cf",
        "IPY_MODEL_5dea6cb4e3aa4078a8bede9792bb7114",
        "IPY_MODEL_447eb1ad0cc0497785f330350fb8f34b",
        "IPY_MODEL_f49329871dff4b1a815a664651a65a1d",
        "IPY_MODEL_cc671573256d446cbb0bf44fcefe93b9",
        "IPY_MODEL_2572c409c41e4c6bbb3152f021dc9eb9",
        "IPY_MODEL_1094bdcc9e4d46f5b1e4a183667d1835",
        "IPY_MODEL_a8bb8b8ca4fc486ebc0e9ee7c8ed20f3",
        "IPY_MODEL_83a564ea742d4eb9b4c296d70a00b9ea",
        "IPY_MODEL_0715f0dacd4d4b5a8abf6587bf77654f",
        "IPY_MODEL_f4504975a0b245aa9746e4cd96f60aa0",
        "IPY_MODEL_3af9c9aa62be4301a74f53ede550deb1",
        "IPY_MODEL_ccec27ec00fa46ec8de7551e4ca76613",
        "IPY_MODEL_270bb470ecf749bc8eb4cd92a31f6d59",
        "IPY_MODEL_b4372ec4abbb4603bccd8fd9d95e4704",
        "IPY_MODEL_ae4b5b6de49b4ea4a5821c86f0e65a0e",
        "IPY_MODEL_dc25ec87600f4fe1b6efb2f3a8cbca80",
        "IPY_MODEL_b569087921334e96aa7356641d940921",
        "IPY_MODEL_534e291c18c140ad8573f05485a649e3",
        "IPY_MODEL_2b2b8e579f1d4c4b88d1e41562b1d76e",
        "IPY_MODEL_8e2e3bd68b264237844d1707179a1d9b",
        "IPY_MODEL_779d15a2c4b14cbf99cbab2c124d53d2",
        "IPY_MODEL_75324db5b19348b2aef04ca08aaf7f33",
        "IPY_MODEL_6746c62593a4457292a390a5a960949e",
        "IPY_MODEL_0d60301aa43a4b17a80b81978c59be49",
        "IPY_MODEL_0438c39260754275b41a5da345d9b3d5",
        "IPY_MODEL_4a8a887344d54d938a36a53c4bf86df5",
        "IPY_MODEL_5f225efbbc6b4dd0bb5e527204c65ac7",
        "IPY_MODEL_4225962632c7486f84b3e70c7c30a54e",
        "IPY_MODEL_ca364adf6d5844a8b0eb2aa048ed4f02"
       ]
      }
     },
     "f4504975a0b245aa9746e4cd96f60aa0": {
      "model_module": "jupyter-cytoscape",
      "model_module_version": "^1.3.3",
      "model_name": "NodeModel",
      "state": {
       "_model_module_version": "^1.3.3",
       "_view_module_version": "^1.3.3",
       "data": {
        "color": "gray",
        "id": "-2794818360831510968",
        "label": "",
        "shape": "rectangle"
       },
       "grabbable": true,
       "grabbed": false,
       "position": {
        "x": 1279.5,
        "y": 995
       },
       "selectable": false
      }
     },
     "f49329871dff4b1a815a664651a65a1d": {
      "model_module": "jupyter-cytoscape",
      "model_module_version": "^1.3.3",
      "model_name": "NodeModel",
      "state": {
       "_model_module_version": "^1.3.3",
       "_view_module_version": "^1.3.3",
       "data": {
        "color": "gray",
        "id": "-8911303611153779914",
        "label": "frozen_phonon",
        "shape": "ellipse"
       },
       "grabbable": true,
       "grabbed": false,
       "position": {
        "x": 545.5,
        "y": 875
       },
       "selectable": false
      }
     },
     "fad86f9bec6f4dd4998cd5cc23ec2178": {
      "model_module": "jupyter-cytoscape",
      "model_module_version": "^1.3.3",
      "model_name": "NodeModel",
      "state": {
       "_model_module_version": "^1.3.3",
       "_view_module_version": "^1.3.3",
       "data": {
        "color": "gray",
        "id": "-5781255077600032181",
        "label": "build_waves_multislice_detect",
        "shape": "ellipse"
       },
       "grabbable": true,
       "grabbed": false,
       "position": {
        "x": 1279.5,
        "y": 1355
       },
       "selectable": false
      }
     },
     "fbad697efc4a4d8fb2b5d02f5c391cde": {
      "model_module": "jupyter-cytoscape",
      "model_module_version": "^1.3.3",
      "model_name": "NodeModel",
      "state": {
       "_model_module_version": "^1.3.3",
       "_view_module_version": "^1.3.3",
       "data": {
        "color": "gray",
        "id": "-1112242655355811420",
        "label": "0",
        "shape": "rectangle"
       },
       "grabbable": true,
       "grabbed": false,
       "position": {
        "x": 912.5,
        "y": 1235
       },
       "selectable": false
      }
     },
     "fd1ce3869a0a4a5eb1bc98a2757ce8da": {
      "model_module": "jupyter-cytoscape",
      "model_module_version": "^1.3.3",
      "model_name": "EdgeModel",
      "state": {
       "_model_module_version": "^1.3.3",
       "_view_module_version": "^1.3.3",
       "classes": " directed ",
       "data": {
        "id": "4d1e92d1-d27c-4a80-ac2c-2ee5e67eacb3",
        "source": "6411248443375819870",
        "target": "8543881921210405712"
       },
       "selectable": false
      }
     },
     "fe16a3914d3b442e8109e3accef076b9": {
      "model_module": "@jupyter-widgets/base",
      "model_module_version": "2.0.0",
      "model_name": "LayoutModel",
      "state": {
       "height": "400px"
      }
     },
     "fec60ec6c42b491da85e71adef7ce87d": {
      "model_module": "jupyter-cytoscape",
      "model_module_version": "^1.3.3",
      "model_name": "NodeModel",
      "state": {
       "_model_module_version": "^1.3.3",
       "_view_module_version": "^1.3.3",
       "data": {
        "color": "gray",
        "id": "6029605610067576814",
        "label": "build_waves_multislice_detect",
        "shape": "ellipse"
       },
       "grabbable": true,
       "grabbed": false,
       "position": {
        "x": 912.5,
        "y": 1355
       },
       "selectable": false
      }
     }
    },
    "version_major": 2,
    "version_minor": 0
   }
  }
 },
 "nbformat": 4,
 "nbformat_minor": 5
}
