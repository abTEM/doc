{
 "cells": [
  {
   "cell_type": "code",
   "execution_count": 1,
   "id": "c8a68d55-5e9b-4bab-b324-05b89a56cecd",
   "metadata": {
    "pycharm": {
     "name": "#%%\n"
    },
    "tags": [
     "hide-input"
    ]
   },
   "outputs": [],
   "source": [
    "import abtem\n",
    "import ase\n",
    "import dask\n",
    "from IPython.display import Image, display \n",
    "\n",
    "dask.config.set({\"array.svg.size\": 90});"
   ]
  },
  {
   "cell_type": "markdown",
   "id": "2b2c74ed-dfb6-4426-898a-63110b6fb253",
   "metadata": {
    "pycharm": {
     "name": "#%% md\n"
    },
    "tags": []
   },
   "source": [
    "(walkthrough:parallelization)=\n",
    "# Parallelization\n",
    "\n",
    "The computational cost of running multislice simulations can become high depending on the size of the specimen, the number of probe positions, phonon images, and many other factors. This cost can be mitigated using parallelism. Many of the computations in *ab*TEM are [embarrasingly parallel](https://en.wikipedia.org/wiki/Embarrassingly_parallel): for example, every probe position is independent, thus each CPU core may calculate a batch of positions independently, only requiring communication after finishing a run of the multislice algorithm. \n",
    "\n",
    "*ab*TEM is parallelized using [Dask](https://www.dask.org/){cite}`dask`, which is a flexible library for parallel computing in Python. Dask allows scaling from a single laptop to hundreds of nodes at high-performance computing (HPC) facilities with minimal changes to the code. \n",
    "\n",
    "In this walkthrough, we introduce how *ab*TEM uses Dask. Althouhg this is not required knowledge for running simulations on a single machine, it may still help you optimize your simulations. If you are already an experienced Dask user, most of what you already know can be applied to using *ab*TEM. If you are new to Dask you may benefit from watching [this introduction](https://www.youtube.com/watch?v=nnndxbr_Xq4) before continuing.\n",
    "\n",
    "We note that Dask is used in several other libraries for the analysis of electron microscopy data, for example, [hyperspy](https://hyperspy.org/), [libertem](https://libertem.github.io/LiberTEM/) and [py4DSTEM](https://py4dstem.readthedocs.io/en/latest/), and thus we think that you may benefit from knowing this library more generally."
   ]
  },
  {
   "cell_type": "markdown",
   "id": "43b2aaf0-80a0-4058-99a2-faa12025ab42",
   "metadata": {
    "pycharm": {
     "name": "#%% md\n"
    }
   },
   "source": [
    "## Task graphs\n",
    "\n",
    "Simulating TEM experiments requires executing multiple *tasks* where each one may depend on the output of previous tasks. In Dask this is represented as a [*task graph*](https://docs.dask.org/en/stable/graphs.html), where each task is a *node*, with *edges* between nodes if it is dependent on another task. The simulation result is obtained by executing each task (node) in the graph with a Dask *scheduler* on a single machine or a cluster."
   ]
  },
  {
   "cell_type": "code",
   "execution_count": 2,
   "id": "fe6765fb-d0ea-4c35-b5bf-2eaadee69b0b",
   "metadata": {
    "jupyter": {
     "source_hidden": true
    },
    "tags": [
     "remove-input",
     "hide-input"
    ]
   },
   "outputs": [
    {
     "data": {
      "text/html": [
       "<img src=\"https://docs.dask.org/en/stable/_images/dask-overview.svg\" width=\"600\"/>"
      ],
      "text/plain": [
       "<IPython.core.display.Image object>"
      ]
     },
     "metadata": {},
     "output_type": "display_data"
    }
   ],
   "source": [
    "display(\n",
    "    Image(url=\"https://docs.dask.org/en/stable/_images/dask-overview.svg\", width=600)\n",
    ")"
   ]
  },
  {
   "cell_type": "markdown",
   "id": "95b10156-ee85-4600-92ed-b9c7c398dbdc",
   "metadata": {},
   "source": [
    "To illustrate this in practice, below we create the task graph for running a plane wave multislice simulation of gold in the $\\left<100\\right>$ zone axis with 4 frozen phonon configurations (please refer to previous walkthroughs for those details)."
   ]
  },
  {
   "cell_type": "code",
   "execution_count": 3,
   "id": "60ba5ba0-0d6d-4ecb-8fdd-fa80316a579b",
   "metadata": {},
   "outputs": [],
   "source": [
    "atoms = ase.build.bulk(\"Au\", cubic=True) * (5, 5, 2)\n",
    "\n",
    "frozen_phonons = abtem.FrozenPhonons(\n",
    "    atoms, num_configs=4, sigmas=0.1, ensemble_mean=False\n",
    ")\n",
    "\n",
    "potential = abtem.Potential(frozen_phonons, gpts=512, slice_thickness=2)\n",
    "\n",
    "probe = abtem.PlaneWave(energy=200e3)\n",
    "\n",
    "exit_waves = probe.multislice(potential)"
   ]
  },
  {
   "cell_type": "markdown",
   "id": "cbc97cd9-2777-4ef4-a0c4-c020517b708e",
   "metadata": {},
   "source": [
    "The result is an ensemble of $4$ wave functions of shape $512\\times512$, which may be represented as a 3D array, where the first dimension represents the phonon ensemble and the last two dimensions represents the 2D wave functions. \n",
    "\n",
    "As we have not executed the task graph yet, the wave functions are represented as a [Dask Array](https://docs.dask.org/en/stable/array.html). We can think of the *Dask array* as being composed of many smaller NumPy arrays, called *chunks*, and operations may be applied to each chunk rather than the full array. This enables: \n",
    "\n",
    "1. Parallelism over the chunks;\n",
    "2. Representing a larger-than-memory array as many smaller arrays, each of which fits in memory.\n",
    "\n",
    "The Dask array representation `__repr__` shows how the chunks are laid out."
   ]
  },
  {
   "cell_type": "code",
   "execution_count": 4,
   "id": "adc736d7-6ca1-47a7-baa5-eb6a9b0d69cb",
   "metadata": {},
   "outputs": [
    {
     "data": {
      "text/html": [
       "<table>\n",
       "    <tr>\n",
       "        <td>\n",
       "            <table style=\"border-collapse: collapse;\">\n",
       "                <thead>\n",
       "                    <tr>\n",
       "                        <td> </td>\n",
       "                        <th> Array </th>\n",
       "                        <th> Chunk </th>\n",
       "                    </tr>\n",
       "                </thead>\n",
       "                <tbody>\n",
       "                    \n",
       "                    <tr>\n",
       "                        <th> Bytes </th>\n",
       "                        <td> 8.00 MiB </td>\n",
       "                        <td> 2.00 MiB </td>\n",
       "                    </tr>\n",
       "                    \n",
       "                    <tr>\n",
       "                        <th> Shape </th>\n",
       "                        <td> (4, 512, 512) </td>\n",
       "                        <td> (1, 512, 512) </td>\n",
       "                    </tr>\n",
       "                    <tr>\n",
       "                        <th> Dask graph </th>\n",
       "                        <td colspan=\"2\"> 4 chunks in 15 graph layers </td>\n",
       "                    </tr>\n",
       "                    <tr>\n",
       "                        <th> Data type </th>\n",
       "                        <td colspan=\"2\"> complex64 numpy.ndarray </td>\n",
       "                    </tr>\n",
       "                </tbody>\n",
       "            </table>\n",
       "        </td>\n",
       "        <td>\n",
       "        <svg width=\"161\" height=\"151\" style=\"stroke:rgb(0,0,0);stroke-width:1\" >\n",
       "\n",
       "  <!-- Horizontal lines -->\n",
       "  <line x1=\"10\" y1=\"0\" x2=\"21\" y2=\"11\" style=\"stroke-width:2\" />\n",
       "  <line x1=\"10\" y1=\"90\" x2=\"21\" y2=\"101\" style=\"stroke-width:2\" />\n",
       "\n",
       "  <!-- Vertical lines -->\n",
       "  <line x1=\"10\" y1=\"0\" x2=\"10\" y2=\"90\" style=\"stroke-width:2\" />\n",
       "  <line x1=\"12\" y1=\"2\" x2=\"12\" y2=\"92\" />\n",
       "  <line x1=\"15\" y1=\"5\" x2=\"15\" y2=\"95\" />\n",
       "  <line x1=\"18\" y1=\"8\" x2=\"18\" y2=\"98\" />\n",
       "  <line x1=\"21\" y1=\"11\" x2=\"21\" y2=\"101\" style=\"stroke-width:2\" />\n",
       "\n",
       "  <!-- Colored Rectangle -->\n",
       "  <polygon points=\"10.0,0.0 21.2114484623158,11.211448462315802 21.2114484623158,101.2114484623158 10.0,90.0\" style=\"fill:#ECB172A0;stroke-width:0\"/>\n",
       "\n",
       "  <!-- Horizontal lines -->\n",
       "  <line x1=\"10\" y1=\"0\" x2=\"100\" y2=\"0\" style=\"stroke-width:2\" />\n",
       "  <line x1=\"12\" y1=\"2\" x2=\"102\" y2=\"2\" />\n",
       "  <line x1=\"15\" y1=\"5\" x2=\"105\" y2=\"5\" />\n",
       "  <line x1=\"18\" y1=\"8\" x2=\"108\" y2=\"8\" />\n",
       "  <line x1=\"21\" y1=\"11\" x2=\"111\" y2=\"11\" style=\"stroke-width:2\" />\n",
       "\n",
       "  <!-- Vertical lines -->\n",
       "  <line x1=\"10\" y1=\"0\" x2=\"21\" y2=\"11\" style=\"stroke-width:2\" />\n",
       "  <line x1=\"100\" y1=\"0\" x2=\"111\" y2=\"11\" style=\"stroke-width:2\" />\n",
       "\n",
       "  <!-- Colored Rectangle -->\n",
       "  <polygon points=\"10.0,0.0 100.0,0.0 111.2114484623158,11.211448462315802 21.2114484623158,11.211448462315802\" style=\"fill:#ECB172A0;stroke-width:0\"/>\n",
       "\n",
       "  <!-- Horizontal lines -->\n",
       "  <line x1=\"21\" y1=\"11\" x2=\"111\" y2=\"11\" style=\"stroke-width:2\" />\n",
       "  <line x1=\"21\" y1=\"101\" x2=\"111\" y2=\"101\" style=\"stroke-width:2\" />\n",
       "\n",
       "  <!-- Vertical lines -->\n",
       "  <line x1=\"21\" y1=\"11\" x2=\"21\" y2=\"101\" style=\"stroke-width:2\" />\n",
       "  <line x1=\"111\" y1=\"11\" x2=\"111\" y2=\"101\" style=\"stroke-width:2\" />\n",
       "\n",
       "  <!-- Colored Rectangle -->\n",
       "  <polygon points=\"21.2114484623158,11.211448462315802 111.2114484623158,11.211448462315802 111.2114484623158,101.2114484623158 21.2114484623158,101.2114484623158\" style=\"fill:#ECB172A0;stroke-width:0\"/>\n",
       "\n",
       "  <!-- Text -->\n",
       "  <text x=\"66.211448\" y=\"121.211448\" font-size=\"1.0rem\" font-weight=\"100\" text-anchor=\"middle\" >512</text>\n",
       "  <text x=\"131.211448\" y=\"56.211448\" font-size=\"1.0rem\" font-weight=\"100\" text-anchor=\"middle\" transform=\"rotate(-90,131.211448,56.211448)\">512</text>\n",
       "  <text x=\"5.605724\" y=\"115.605724\" font-size=\"1.0rem\" font-weight=\"100\" text-anchor=\"middle\" transform=\"rotate(45,5.605724,115.605724)\">4</text>\n",
       "</svg>\n",
       "        </td>\n",
       "    </tr>\n",
       "</table>"
      ],
      "text/plain": [
       "dask.array<_extract_measurement, shape=(4, 512, 512), dtype=complex64, chunksize=(1, 512, 512), chunktype=numpy.ndarray>"
      ]
     },
     "execution_count": 4,
     "metadata": {},
     "output_type": "execute_result"
    }
   ],
   "source": [
    "exit_waves.array"
   ]
  },
  {
   "cell_type": "markdown",
   "id": "07d22d90-2701-4d3e-bc91-ab2260232950",
   "metadata": {},
   "source": [
    "We see that this Dask array has the shape `(4, 512, 512)` requiring 8 MB of memory, and is composed of chunks with shape `(1, 512, 512)` requiring 2 MB each.\n",
    "\n",
    "```{important}\n",
    "The Dask array just represents a task graph, not the data itself, so memory is consumed only if it is computed!\n",
    "```\n",
    "\n",
    "Each chunk of the Dask array created above represents a wave function for a frozen phonon configuration. This reflects the fact that, in the multislice algorithm, each frozen phonon configuration is independent and may be calculated in parallel. On the other hand, we should not have chunks across wave functions, because each part of a wave function is affected by every other part.\n",
    "\n",
    "We can visualize the task graph using Dask's [`visualize`](https://docs.dask.org/en/stable/graphviz.html) method. We see that the task graph consists of 4 fully independent branches, one for each frozen phonon.\n",
    "\n",
    "````{note}\n",
    "Drawing Dask task graphs with the cytoscape engine requires the `ipycytoscape` python library. To reproduce the result below you need to:\n",
    "```\n",
    "  python -m pip install ipycytoscape\n",
    "```\n",
    "and restart jupyter.\n",
    "````"
   ]
  },
  {
   "cell_type": "code",
   "execution_count": 5,
   "id": "45d463ae-c282-4710-a05c-0817cb996457",
   "metadata": {
    "tags": [
     "skip-test"
    ]
   },
   "outputs": [
    {
     "data": {
      "application/vnd.jupyter.widget-view+json": {
       "model_id": "7791146712544dd18c38f43494684a1c",
       "version_major": 2,
       "version_minor": 0
      },
      "text/plain": [
       "CytoscapeWidget(cytoscape_layout={'name': 'dagre', 'rankDir': 'BT', 'nodeSep': 10, 'edgeSep': 10, 'spacingFact…"
      ]
     },
     "execution_count": 5,
     "metadata": {},
     "output_type": "execute_result"
    }
   ],
   "source": [
    "exit_waves.array.visualize(engine=\"cytoscape\")"
   ]
  },
  {
   "cell_type": "markdown",
   "id": "20d970c0-56e5-4066-b1d8-f6c71f59fb46",
   "metadata": {},
   "source": [
    "We usually want to take the mean across the frozen phonon dimension, and thus end up with an image represented as a single chunk."
   ]
  },
  {
   "cell_type": "code",
   "execution_count": 6,
   "id": "907e3a1e-7132-4dc5-aa9b-bdeed01a6170",
   "metadata": {},
   "outputs": [
    {
     "data": {
      "text/html": [
       "<table>\n",
       "    <tr>\n",
       "        <td>\n",
       "            <table style=\"border-collapse: collapse;\">\n",
       "                <thead>\n",
       "                    <tr>\n",
       "                        <td> </td>\n",
       "                        <th> Array </th>\n",
       "                        <th> Chunk </th>\n",
       "                    </tr>\n",
       "                </thead>\n",
       "                <tbody>\n",
       "                    \n",
       "                    <tr>\n",
       "                        <th> Bytes </th>\n",
       "                        <td> 1.00 MiB </td>\n",
       "                        <td> 1.00 MiB </td>\n",
       "                    </tr>\n",
       "                    \n",
       "                    <tr>\n",
       "                        <th> Shape </th>\n",
       "                        <td> (512, 512) </td>\n",
       "                        <td> (512, 512) </td>\n",
       "                    </tr>\n",
       "                    <tr>\n",
       "                        <th> Dask graph </th>\n",
       "                        <td colspan=\"2\"> 1 chunks in 19 graph layers </td>\n",
       "                    </tr>\n",
       "                    <tr>\n",
       "                        <th> Data type </th>\n",
       "                        <td colspan=\"2\"> float32 numpy.ndarray </td>\n",
       "                    </tr>\n",
       "                </tbody>\n",
       "            </table>\n",
       "        </td>\n",
       "        <td>\n",
       "        <svg width=\"140\" height=\"140\" style=\"stroke:rgb(0,0,0);stroke-width:1\" >\n",
       "\n",
       "  <!-- Horizontal lines -->\n",
       "  <line x1=\"0\" y1=\"0\" x2=\"90\" y2=\"0\" style=\"stroke-width:2\" />\n",
       "  <line x1=\"0\" y1=\"90\" x2=\"90\" y2=\"90\" style=\"stroke-width:2\" />\n",
       "\n",
       "  <!-- Vertical lines -->\n",
       "  <line x1=\"0\" y1=\"0\" x2=\"0\" y2=\"90\" style=\"stroke-width:2\" />\n",
       "  <line x1=\"90\" y1=\"0\" x2=\"90\" y2=\"90\" style=\"stroke-width:2\" />\n",
       "\n",
       "  <!-- Colored Rectangle -->\n",
       "  <polygon points=\"0.0,0.0 90.0,0.0 90.0,90.0 0.0,90.0\" style=\"fill:#ECB172A0;stroke-width:0\"/>\n",
       "\n",
       "  <!-- Text -->\n",
       "  <text x=\"45.000000\" y=\"110.000000\" font-size=\"1.0rem\" font-weight=\"100\" text-anchor=\"middle\" >512</text>\n",
       "  <text x=\"110.000000\" y=\"45.000000\" font-size=\"1.0rem\" font-weight=\"100\" text-anchor=\"middle\" transform=\"rotate(-90,110.000000,45.000000)\">512</text>\n",
       "</svg>\n",
       "        </td>\n",
       "    </tr>\n",
       "</table>"
      ],
      "text/plain": [
       "dask.array<mean_agg-aggregate, shape=(512, 512), dtype=float32, chunksize=(512, 512), chunktype=numpy.ndarray>"
      ]
     },
     "execution_count": 6,
     "metadata": {},
     "output_type": "execute_result"
    }
   ],
   "source": [
    "hrtem_image = exit_waves.intensity().mean(0)\n",
    "\n",
    "hrtem_image.array"
   ]
  },
  {
   "cell_type": "markdown",
   "id": "b9661725-7a20-44f6-8415-52489e91259b",
   "metadata": {},
   "source": [
    "Taking the mean across frozen phonon chunks requires communicating the exit wave function intensity between the final nodes. Showing the task graph again we see how the branches are merged when the result have to be communicated between workers."
   ]
  },
  {
   "cell_type": "code",
   "execution_count": 7,
   "id": "27e8b98c-362e-4543-b6c2-e033a827143e",
   "metadata": {
    "tags": [
     "skip-test"
    ]
   },
   "outputs": [
    {
     "data": {
      "application/vnd.jupyter.widget-view+json": {
       "model_id": "6c452936a9c144679f950c8e158ff98c",
       "version_major": 2,
       "version_minor": 0
      },
      "text/plain": [
       "CytoscapeWidget(cytoscape_layout={'name': 'dagre', 'rankDir': 'BT', 'nodeSep': 10, 'edgeSep': 10, 'spacingFact…"
      ]
     },
     "execution_count": 7,
     "metadata": {},
     "output_type": "execute_result"
    }
   ],
   "source": [
    "hrtem_image.array.visualize(engine=\"cytoscape\")"
   ]
  },
  {
   "cell_type": "markdown",
   "id": "7dcdbfb7-41d3-49ff-995f-bf17f01a120f",
   "metadata": {},
   "source": [
    "## Chunks\n",
    "To futher explore the role of chunks in abTEM, we create the task graph for running a STEM simulation with the same specimen, gold in the $\\left<100\\right>$ zone axis with 4 frozen phonons. We do not immediately apply a detector, so we obtain an ensemble of exit wave functions."
   ]
  },
  {
   "cell_type": "code",
   "execution_count": 8,
   "id": "5b9baf98-b088-4c6f-954d-8ae1a7d22c23",
   "metadata": {
    "pycharm": {
     "name": "#%%\n"
    }
   },
   "outputs": [
    {
     "data": {
      "text/plain": [
       "type               label           coordinates\n",
       "-----------------  --------------  -------------------\n",
       "FrozenPhononsAxis  Frozen phonons  -\n",
       "ScanAxis           x [Å]           0.00 0.29 ... 3.79\n",
       "ScanAxis           y [Å]           0.00 0.29 ... 3.79\n",
       "RealSpaceAxis      x [Å]           0.00 0.04 ... 20.36\n",
       "RealSpaceAxis      y [Å]           0.00 0.04 ... 20.36"
      ]
     },
     "execution_count": 8,
     "metadata": {},
     "output_type": "execute_result"
    }
   ],
   "source": [
    "probe = abtem.Probe(energy=200e3, semiangle_cutoff=20)\n",
    "\n",
    "scan = abtem.GridScan.from_fractional_coordinates(\n",
    "    potential,\n",
    "    start=(0, 0),\n",
    "    end=(1 / 5, 1 / 5),\n",
    ")\n",
    "\n",
    "frozen_phonons = abtem.FrozenPhonons(\n",
    "    atoms, num_configs=4, sigmas=0.1, ensemble_mean=True\n",
    ")\n",
    "\n",
    "potential = abtem.Potential(frozen_phonons, gpts=512, slice_thickness=2)\n",
    "\n",
    "exit_waves_stem = probe.multislice(potential, scan=scan)\n",
    "\n",
    "exit_waves_stem.axes_metadata"
   ]
  },
  {
   "cell_type": "markdown",
   "id": "69036139-511e-482d-8f72-e66b71df0924",
   "metadata": {},
   "source": [
    "The wave functions are now represented as a 5D Dask array, a 3D ensemble of 2D wave functions, which is composed of one frozen phonon dimension and two scan dimensions, one for each of the $x$ and $y$ direction. \n",
    "\n",
    "The full array is of shape `(4, 15, 15, 512, 512)` requiring 1.76 GB of memory, which is cut into chunks of shape `(1, 8, 7, 512, 512)` of 112 MB. Hence, there are a total of $4 \\times 2 \\times 3 = 24$ chunks."
   ]
  },
  {
   "cell_type": "code",
   "execution_count": 9,
   "id": "0d0ab17b-53e3-4e79-856a-d734fe3c1cbe",
   "metadata": {},
   "outputs": [
    {
     "data": {
      "text/html": [
       "<table>\n",
       "    <tr>\n",
       "        <td>\n",
       "            <table style=\"border-collapse: collapse;\">\n",
       "                <thead>\n",
       "                    <tr>\n",
       "                        <td> </td>\n",
       "                        <th> Array </th>\n",
       "                        <th> Chunk </th>\n",
       "                    </tr>\n",
       "                </thead>\n",
       "                <tbody>\n",
       "                    \n",
       "                    <tr>\n",
       "                        <th> Bytes </th>\n",
       "                        <td> 1.53 GiB </td>\n",
       "                        <td> 112.00 MiB </td>\n",
       "                    </tr>\n",
       "                    \n",
       "                    <tr>\n",
       "                        <th> Shape </th>\n",
       "                        <td> (4, 14, 14, 512, 512) </td>\n",
       "                        <td> (1, 8, 7, 512, 512) </td>\n",
       "                    </tr>\n",
       "                    <tr>\n",
       "                        <th> Dask graph </th>\n",
       "                        <td colspan=\"2\"> 16 chunks in 17 graph layers </td>\n",
       "                    </tr>\n",
       "                    <tr>\n",
       "                        <th> Data type </th>\n",
       "                        <td colspan=\"2\"> complex64 numpy.ndarray </td>\n",
       "                    </tr>\n",
       "                </tbody>\n",
       "            </table>\n",
       "        </td>\n",
       "        <td>\n",
       "        <svg width=\"339\" height=\"153\" style=\"stroke:rgb(0,0,0);stroke-width:1\" >\n",
       "\n",
       "  <!-- Horizontal lines -->\n",
       "  <line x1=\"0\" y1=\"0\" x2=\"23\" y2=\"0\" style=\"stroke-width:2\" />\n",
       "  <line x1=\"0\" y1=\"4\" x2=\"23\" y2=\"4\" />\n",
       "  <line x1=\"0\" y1=\"9\" x2=\"23\" y2=\"9\" />\n",
       "  <line x1=\"0\" y1=\"14\" x2=\"23\" y2=\"14\" />\n",
       "  <line x1=\"0\" y1=\"19\" x2=\"23\" y2=\"19\" style=\"stroke-width:2\" />\n",
       "\n",
       "  <!-- Vertical lines -->\n",
       "  <line x1=\"0\" y1=\"0\" x2=\"0\" y2=\"19\" style=\"stroke-width:2\" />\n",
       "  <line x1=\"13\" y1=\"0\" x2=\"13\" y2=\"19\" />\n",
       "  <line x1=\"23\" y1=\"0\" x2=\"23\" y2=\"19\" style=\"stroke-width:2\" />\n",
       "\n",
       "  <!-- Colored Rectangle -->\n",
       "  <polygon points=\"0.0,0.0 23.128891694022673,0.0 23.128891694022673,19.059462385936865 0.0,19.059462385936865\" style=\"fill:#ECB172A0;stroke-width:0\"/>\n",
       "\n",
       "  <!-- Text -->\n",
       "  <text x=\"11.564446\" y=\"39.059462\" font-size=\"1.0rem\" font-weight=\"100\" text-anchor=\"middle\" >14</text>\n",
       "  <text x=\"43.128892\" y=\"9.529731\" font-size=\"1.0rem\" font-weight=\"100\" text-anchor=\"middle\" transform=\"rotate(0,43.128892,9.529731)\">4</text>\n",
       "\n",
       "\n",
       "  <!-- Horizontal lines -->\n",
       "  <line x1=\"93\" y1=\"0\" x2=\"106\" y2=\"13\" style=\"stroke-width:2\" />\n",
       "  <line x1=\"93\" y1=\"90\" x2=\"106\" y2=\"103\" style=\"stroke-width:2\" />\n",
       "\n",
       "  <!-- Vertical lines -->\n",
       "  <line x1=\"93\" y1=\"0\" x2=\"93\" y2=\"90\" style=\"stroke-width:2\" />\n",
       "  <line x1=\"99\" y1=\"6\" x2=\"99\" y2=\"96\" />\n",
       "  <line x1=\"106\" y1=\"13\" x2=\"106\" y2=\"103\" style=\"stroke-width:2\" />\n",
       "\n",
       "  <!-- Colored Rectangle -->\n",
       "  <polygon points=\"93.0,0.0 106.60523040824863,13.605230408248632 106.60523040824863,103.60523040824863 93.0,90.0\" style=\"fill:#ECB172A0;stroke-width:0\"/>\n",
       "\n",
       "  <!-- Horizontal lines -->\n",
       "  <line x1=\"93\" y1=\"0\" x2=\"183\" y2=\"0\" style=\"stroke-width:2\" />\n",
       "  <line x1=\"99\" y1=\"6\" x2=\"189\" y2=\"6\" />\n",
       "  <line x1=\"106\" y1=\"13\" x2=\"196\" y2=\"13\" style=\"stroke-width:2\" />\n",
       "\n",
       "  <!-- Vertical lines -->\n",
       "  <line x1=\"93\" y1=\"0\" x2=\"106\" y2=\"13\" style=\"stroke-width:2\" />\n",
       "  <line x1=\"183\" y1=\"0\" x2=\"196\" y2=\"13\" style=\"stroke-width:2\" />\n",
       "\n",
       "  <!-- Colored Rectangle -->\n",
       "  <polygon points=\"93.0,0.0 183.0,0.0 196.60523040824864,13.605230408248632 106.60523040824863,13.605230408248632\" style=\"fill:#ECB172A0;stroke-width:0\"/>\n",
       "\n",
       "  <!-- Horizontal lines -->\n",
       "  <line x1=\"106\" y1=\"13\" x2=\"196\" y2=\"13\" style=\"stroke-width:2\" />\n",
       "  <line x1=\"106\" y1=\"103\" x2=\"196\" y2=\"103\" style=\"stroke-width:2\" />\n",
       "\n",
       "  <!-- Vertical lines -->\n",
       "  <line x1=\"106\" y1=\"13\" x2=\"106\" y2=\"103\" style=\"stroke-width:2\" />\n",
       "  <line x1=\"196\" y1=\"13\" x2=\"196\" y2=\"103\" style=\"stroke-width:2\" />\n",
       "\n",
       "  <!-- Colored Rectangle -->\n",
       "  <polygon points=\"106.60523040824863,13.605230408248632 196.60523040824864,13.605230408248632 196.60523040824864,103.60523040824863 106.60523040824863,103.60523040824863\" style=\"fill:#ECB172A0;stroke-width:0\"/>\n",
       "\n",
       "  <!-- Text -->\n",
       "  <text x=\"151.605230\" y=\"123.605230\" font-size=\"1.0rem\" font-weight=\"100\" text-anchor=\"middle\" >512</text>\n",
       "  <text x=\"216.605230\" y=\"58.605230\" font-size=\"1.0rem\" font-weight=\"100\" text-anchor=\"middle\" transform=\"rotate(-90,216.605230,58.605230)\">512</text>\n",
       "  <text x=\"89.802615\" y=\"116.802615\" font-size=\"1.0rem\" font-weight=\"100\" text-anchor=\"middle\" transform=\"rotate(45,89.802615,116.802615)\">14</text>\n",
       "</svg>\n",
       "        </td>\n",
       "    </tr>\n",
       "</table>"
      ],
      "text/plain": [
       "dask.array<_extract_measurement, shape=(4, 14, 14, 512, 512), dtype=complex64, chunksize=(1, 8, 7, 512, 512), chunktype=numpy.ndarray>"
      ]
     },
     "execution_count": 9,
     "metadata": {},
     "output_type": "execute_result"
    }
   ],
   "source": [
    "exit_waves_stem.array"
   ]
  },
  {
   "cell_type": "markdown",
   "id": "00985534-3b37-458c-9cba-e5f6c783f334",
   "metadata": {},
   "source": [
    "Notice that we do not make a chunk for every probe position, but each chunk of the scan dimension instead represents a batch of wave functions. This is done partly to limit [the overhead](https://docs.dask.org/en/stable/best-practices.html#avoid-very-large-graphs) that every chunk comes with, but more importantly, larger batches enables efficient thread parallelization within each run of the multislice algorithm.\n",
    "\n",
    "We can change how many wave functions each batch should have using a keyword. Below we set `max_batch=4`, resulting in a total number of $4 \\times 8 \\times 8 = 256$ chunks."
   ]
  },
  {
   "cell_type": "code",
   "execution_count": 10,
   "id": "b1f9437b-ed6a-4836-8e6c-daa0ae526b21",
   "metadata": {},
   "outputs": [
    {
     "data": {
      "text/html": [
       "<table>\n",
       "    <tr>\n",
       "        <td>\n",
       "            <table style=\"border-collapse: collapse;\">\n",
       "                <thead>\n",
       "                    <tr>\n",
       "                        <td> </td>\n",
       "                        <th> Array </th>\n",
       "                        <th> Chunk </th>\n",
       "                    </tr>\n",
       "                </thead>\n",
       "                <tbody>\n",
       "                    \n",
       "                    <tr>\n",
       "                        <th> Bytes </th>\n",
       "                        <td> 1.53 GiB </td>\n",
       "                        <td> 8.00 MiB </td>\n",
       "                    </tr>\n",
       "                    \n",
       "                    <tr>\n",
       "                        <th> Shape </th>\n",
       "                        <td> (4, 14, 14, 512, 512) </td>\n",
       "                        <td> (1, 2, 2, 512, 512) </td>\n",
       "                    </tr>\n",
       "                    <tr>\n",
       "                        <th> Dask graph </th>\n",
       "                        <td colspan=\"2\"> 196 chunks in 16 graph layers </td>\n",
       "                    </tr>\n",
       "                    <tr>\n",
       "                        <th> Data type </th>\n",
       "                        <td colspan=\"2\"> complex64 numpy.ndarray </td>\n",
       "                    </tr>\n",
       "                </tbody>\n",
       "            </table>\n",
       "        </td>\n",
       "        <td>\n",
       "        <svg width=\"339\" height=\"153\" style=\"stroke:rgb(0,0,0);stroke-width:1\" >\n",
       "\n",
       "  <!-- Horizontal lines -->\n",
       "  <line x1=\"0\" y1=\"0\" x2=\"23\" y2=\"0\" style=\"stroke-width:2\" />\n",
       "  <line x1=\"0\" y1=\"4\" x2=\"23\" y2=\"4\" />\n",
       "  <line x1=\"0\" y1=\"9\" x2=\"23\" y2=\"9\" />\n",
       "  <line x1=\"0\" y1=\"14\" x2=\"23\" y2=\"14\" />\n",
       "  <line x1=\"0\" y1=\"19\" x2=\"23\" y2=\"19\" style=\"stroke-width:2\" />\n",
       "\n",
       "  <!-- Vertical lines -->\n",
       "  <line x1=\"0\" y1=\"0\" x2=\"0\" y2=\"19\" style=\"stroke-width:2\" />\n",
       "  <line x1=\"3\" y1=\"0\" x2=\"3\" y2=\"19\" />\n",
       "  <line x1=\"6\" y1=\"0\" x2=\"6\" y2=\"19\" />\n",
       "  <line x1=\"9\" y1=\"0\" x2=\"9\" y2=\"19\" />\n",
       "  <line x1=\"13\" y1=\"0\" x2=\"13\" y2=\"19\" />\n",
       "  <line x1=\"16\" y1=\"0\" x2=\"16\" y2=\"19\" />\n",
       "  <line x1=\"19\" y1=\"0\" x2=\"19\" y2=\"19\" />\n",
       "  <line x1=\"23\" y1=\"0\" x2=\"23\" y2=\"19\" style=\"stroke-width:2\" />\n",
       "\n",
       "  <!-- Colored Rectangle -->\n",
       "  <polygon points=\"0.0,0.0 23.128891694022673,0.0 23.128891694022673,19.059462385936865 0.0,19.059462385936865\" style=\"fill:#ECB172A0;stroke-width:0\"/>\n",
       "\n",
       "  <!-- Text -->\n",
       "  <text x=\"11.564446\" y=\"39.059462\" font-size=\"1.0rem\" font-weight=\"100\" text-anchor=\"middle\" >14</text>\n",
       "  <text x=\"43.128892\" y=\"9.529731\" font-size=\"1.0rem\" font-weight=\"100\" text-anchor=\"middle\" transform=\"rotate(0,43.128892,9.529731)\">4</text>\n",
       "\n",
       "\n",
       "  <!-- Horizontal lines -->\n",
       "  <line x1=\"93\" y1=\"0\" x2=\"106\" y2=\"13\" style=\"stroke-width:2\" />\n",
       "  <line x1=\"93\" y1=\"90\" x2=\"106\" y2=\"103\" style=\"stroke-width:2\" />\n",
       "\n",
       "  <!-- Vertical lines -->\n",
       "  <line x1=\"93\" y1=\"0\" x2=\"93\" y2=\"90\" style=\"stroke-width:2\" />\n",
       "  <line x1=\"94\" y1=\"1\" x2=\"94\" y2=\"91\" />\n",
       "  <line x1=\"96\" y1=\"3\" x2=\"96\" y2=\"93\" />\n",
       "  <line x1=\"98\" y1=\"5\" x2=\"98\" y2=\"95\" />\n",
       "  <line x1=\"100\" y1=\"7\" x2=\"100\" y2=\"97\" />\n",
       "  <line x1=\"102\" y1=\"9\" x2=\"102\" y2=\"99\" />\n",
       "  <line x1=\"104\" y1=\"11\" x2=\"104\" y2=\"101\" />\n",
       "  <line x1=\"106\" y1=\"13\" x2=\"106\" y2=\"103\" style=\"stroke-width:2\" />\n",
       "\n",
       "  <!-- Colored Rectangle -->\n",
       "  <polygon points=\"93.0,0.0 106.60523040824863,13.605230408248632 106.60523040824863,103.60523040824863 93.0,90.0\" style=\"fill:#ECB172A0;stroke-width:0\"/>\n",
       "\n",
       "  <!-- Horizontal lines -->\n",
       "  <line x1=\"93\" y1=\"0\" x2=\"183\" y2=\"0\" style=\"stroke-width:2\" />\n",
       "  <line x1=\"94\" y1=\"1\" x2=\"184\" y2=\"1\" />\n",
       "  <line x1=\"96\" y1=\"3\" x2=\"186\" y2=\"3\" />\n",
       "  <line x1=\"98\" y1=\"5\" x2=\"188\" y2=\"5\" />\n",
       "  <line x1=\"100\" y1=\"7\" x2=\"190\" y2=\"7\" />\n",
       "  <line x1=\"102\" y1=\"9\" x2=\"192\" y2=\"9\" />\n",
       "  <line x1=\"104\" y1=\"11\" x2=\"194\" y2=\"11\" />\n",
       "  <line x1=\"106\" y1=\"13\" x2=\"196\" y2=\"13\" style=\"stroke-width:2\" />\n",
       "\n",
       "  <!-- Vertical lines -->\n",
       "  <line x1=\"93\" y1=\"0\" x2=\"106\" y2=\"13\" style=\"stroke-width:2\" />\n",
       "  <line x1=\"183\" y1=\"0\" x2=\"196\" y2=\"13\" style=\"stroke-width:2\" />\n",
       "\n",
       "  <!-- Colored Rectangle -->\n",
       "  <polygon points=\"93.0,0.0 183.0,0.0 196.60523040824864,13.605230408248632 106.60523040824863,13.605230408248632\" style=\"fill:#ECB172A0;stroke-width:0\"/>\n",
       "\n",
       "  <!-- Horizontal lines -->\n",
       "  <line x1=\"106\" y1=\"13\" x2=\"196\" y2=\"13\" style=\"stroke-width:2\" />\n",
       "  <line x1=\"106\" y1=\"103\" x2=\"196\" y2=\"103\" style=\"stroke-width:2\" />\n",
       "\n",
       "  <!-- Vertical lines -->\n",
       "  <line x1=\"106\" y1=\"13\" x2=\"106\" y2=\"103\" style=\"stroke-width:2\" />\n",
       "  <line x1=\"196\" y1=\"13\" x2=\"196\" y2=\"103\" style=\"stroke-width:2\" />\n",
       "\n",
       "  <!-- Colored Rectangle -->\n",
       "  <polygon points=\"106.60523040824863,13.605230408248632 196.60523040824864,13.605230408248632 196.60523040824864,103.60523040824863 106.60523040824863,103.60523040824863\" style=\"fill:#ECB172A0;stroke-width:0\"/>\n",
       "\n",
       "  <!-- Text -->\n",
       "  <text x=\"151.605230\" y=\"123.605230\" font-size=\"1.0rem\" font-weight=\"100\" text-anchor=\"middle\" >512</text>\n",
       "  <text x=\"216.605230\" y=\"58.605230\" font-size=\"1.0rem\" font-weight=\"100\" text-anchor=\"middle\" transform=\"rotate(-90,216.605230,58.605230)\">512</text>\n",
       "  <text x=\"89.802615\" y=\"116.802615\" font-size=\"1.0rem\" font-weight=\"100\" text-anchor=\"middle\" transform=\"rotate(45,89.802615,116.802615)\">14</text>\n",
       "</svg>\n",
       "        </td>\n",
       "    </tr>\n",
       "</table>"
      ],
      "text/plain": [
       "dask.array<_extract_measurement, shape=(4, 14, 14, 512, 512), dtype=complex64, chunksize=(1, 2, 2, 512, 512), chunktype=numpy.ndarray>"
      ]
     },
     "execution_count": 10,
     "metadata": {},
     "output_type": "execute_result"
    }
   ],
   "source": [
    "exit_waves_stem = probe.multislice(potential, scan=scan, max_batch=4)\n",
    "\n",
    "exit_waves_stem.array"
   ]
  },
  {
   "cell_type": "markdown",
   "id": "28998800-0b81-49f7-b3c6-79aa355cf3dc",
   "metadata": {
    "pycharm": {
     "name": "#%% md\n"
    }
   },
   "source": [
    "The default value of `max_batch` is `\"auto\"`: with this setting the number of wave functions in each batch is determined such that the batch represents approximately `128 MB` of memory, although this number may be changed through the *ab*TEM [configuration](../../reference/config.md).\n",
    "\n",
    "Before computing this task graph, we apply a HAADF detector and calculate the ensemble mean, which reduces the total size of the output to just 900 B. We note that the 1.76 GB ensemble of wave functions never needs to be in memory simulateneously, as each chunk of exit wave functions are reduced immediately after completing the multislice algorithm."
   ]
  },
  {
   "cell_type": "code",
   "execution_count": 11,
   "id": "8664e8b2-4928-4c5e-bd48-fa854a465cec",
   "metadata": {
    "pycharm": {
     "name": "#%%\n"
    }
   },
   "outputs": [
    {
     "data": {
      "text/html": [
       "<table>\n",
       "    <tr>\n",
       "        <td>\n",
       "            <table style=\"border-collapse: collapse;\">\n",
       "                <thead>\n",
       "                    <tr>\n",
       "                        <td> </td>\n",
       "                        <th> Array </th>\n",
       "                        <th> Chunk </th>\n",
       "                    </tr>\n",
       "                </thead>\n",
       "                <tbody>\n",
       "                    \n",
       "                    <tr>\n",
       "                        <th> Bytes </th>\n",
       "                        <td> 784 B </td>\n",
       "                        <td> 16 B </td>\n",
       "                    </tr>\n",
       "                    \n",
       "                    <tr>\n",
       "                        <th> Shape </th>\n",
       "                        <td> (14, 14) </td>\n",
       "                        <td> (2, 2) </td>\n",
       "                    </tr>\n",
       "                    <tr>\n",
       "                        <th> Dask graph </th>\n",
       "                        <td colspan=\"2\"> 49 chunks in 21 graph layers </td>\n",
       "                    </tr>\n",
       "                    <tr>\n",
       "                        <th> Data type </th>\n",
       "                        <td colspan=\"2\"> float32 numpy.ndarray </td>\n",
       "                    </tr>\n",
       "                </tbody>\n",
       "            </table>\n",
       "        </td>\n",
       "        <td>\n",
       "        <svg width=\"140\" height=\"140\" style=\"stroke:rgb(0,0,0);stroke-width:1\" >\n",
       "\n",
       "  <!-- Horizontal lines -->\n",
       "  <line x1=\"0\" y1=\"0\" x2=\"90\" y2=\"0\" style=\"stroke-width:2\" />\n",
       "  <line x1=\"0\" y1=\"12\" x2=\"90\" y2=\"12\" />\n",
       "  <line x1=\"0\" y1=\"25\" x2=\"90\" y2=\"25\" />\n",
       "  <line x1=\"0\" y1=\"38\" x2=\"90\" y2=\"38\" />\n",
       "  <line x1=\"0\" y1=\"51\" x2=\"90\" y2=\"51\" />\n",
       "  <line x1=\"0\" y1=\"64\" x2=\"90\" y2=\"64\" />\n",
       "  <line x1=\"0\" y1=\"77\" x2=\"90\" y2=\"77\" />\n",
       "  <line x1=\"0\" y1=\"90\" x2=\"90\" y2=\"90\" style=\"stroke-width:2\" />\n",
       "\n",
       "  <!-- Vertical lines -->\n",
       "  <line x1=\"0\" y1=\"0\" x2=\"0\" y2=\"90\" style=\"stroke-width:2\" />\n",
       "  <line x1=\"12\" y1=\"0\" x2=\"12\" y2=\"90\" />\n",
       "  <line x1=\"25\" y1=\"0\" x2=\"25\" y2=\"90\" />\n",
       "  <line x1=\"38\" y1=\"0\" x2=\"38\" y2=\"90\" />\n",
       "  <line x1=\"51\" y1=\"0\" x2=\"51\" y2=\"90\" />\n",
       "  <line x1=\"64\" y1=\"0\" x2=\"64\" y2=\"90\" />\n",
       "  <line x1=\"77\" y1=\"0\" x2=\"77\" y2=\"90\" />\n",
       "  <line x1=\"90\" y1=\"0\" x2=\"90\" y2=\"90\" style=\"stroke-width:2\" />\n",
       "\n",
       "  <!-- Colored Rectangle -->\n",
       "  <polygon points=\"0.0,0.0 90.0,0.0 90.0,90.0 0.0,90.0\" style=\"fill:#ECB172A0;stroke-width:0\"/>\n",
       "\n",
       "  <!-- Text -->\n",
       "  <text x=\"45.000000\" y=\"110.000000\" font-size=\"1.0rem\" font-weight=\"100\" text-anchor=\"middle\" >14</text>\n",
       "  <text x=\"110.000000\" y=\"45.000000\" font-size=\"1.0rem\" font-weight=\"100\" text-anchor=\"middle\" transform=\"rotate(0,110.000000,45.000000)\">14</text>\n",
       "</svg>\n",
       "        </td>\n",
       "    </tr>\n",
       "</table>"
      ],
      "text/plain": [
       "dask.array<mean_agg-aggregate, shape=(14, 14), dtype=float32, chunksize=(2, 2), chunktype=numpy.ndarray>"
      ]
     },
     "execution_count": 11,
     "metadata": {},
     "output_type": "execute_result"
    }
   ],
   "source": [
    "detector = abtem.AnnularDetector(inner=65, outer=200)\n",
    "\n",
    "haadf_images = detector.detect(exit_waves_stem).reduce_ensemble()\n",
    "\n",
    "haadf_images.array"
   ]
  },
  {
   "cell_type": "markdown",
   "id": "c8167e51-1e8b-408d-9e08-ad00b6966ad5",
   "metadata": {
    "pycharm": {
     "name": "#%% md\n"
    },
    "tags": []
   },
   "source": [
    "## Schedulers\n",
    "\n",
    "After generating a task graph, it needs to be executed on (parallel) hardware. This is the job of a [task scheduler](https://docs.dask.org/en/stable/scheduler-overview.html). Dask provides several *task schedulers*: each of which will compute a task graph and give the same result, but with different performance characteristics.\n",
    "\n",
    "Every time you call the `compute` method a Dask scheduler is used. We adopt the default Dask scheduler configuration and every keyword argument used with the `compute` method in *ab*TEM is forwarded to the Dask `compute` function. \n",
    "\n",
    "### Local scheduler\n",
    "\n",
    "The default scheduler is the [`ThreadPoolExecutor`](https://docs.dask.org/en/stable/scheduling.html#local-threads). As an example of a keyword argument, the threaded scheduler takes `num_workers`, which sets the number of threads to use (by default, up to the number of computing cores). Let's run compute with 8 workers."
   ]
  },
  {
   "cell_type": "code",
   "execution_count": 12,
   "id": "4c507a96-5a6d-4e55-8775-200f66e26459",
   "metadata": {
    "tags": [
     "skip-test"
    ]
   },
   "outputs": [
    {
     "name": "stdout",
     "output_type": "stream",
     "text": [
      "[########################################] | 100% Completed | 16.62 s\n"
     ]
    },
    {
     "data": {
      "text/plain": [
       "<abtem.measurements.Images object at 0x000001C33746C5B0>"
      ]
     },
     "execution_count": 12,
     "metadata": {},
     "output_type": "execute_result"
    }
   ],
   "source": [
    "haadf_images = detector.detect(exit_waves_stem).reduce_ensemble()\n",
    "\n",
    "haadf_images.compute(\n",
    "    scheduler=\"threads\", num_workers=8\n",
    ")"
   ]
  },
  {
   "cell_type": "markdown",
   "id": "168c4090-255a-4705-85a8-afbf74c6320e",
   "metadata": {},
   "source": [
    "We can change the scheduler to using the `ProcessPoolExecutor` as below.\n",
    "\n",
    "```python\n",
    "haadf_images = detector.detect(exit_waves_stem).compute(scheduler=\"processes\", num_workers=4)\n",
    "```\n",
    "\n",
    "Using `abtem.config.set` the scheduler can be set either as a context manager or globally.\n",
    "```python\n",
    "# As a context manager\n",
    "with abtem.config.set(scheduler=\"processes\"):\n",
    "    haadf_images.compute()\n",
    "\n",
    "# Set globally\n",
    "abtem.config.set(scheduler=\"processes\")\n",
    "haadf_images.compute()\n",
    "```"
   ]
  },
  {
   "cell_type": "markdown",
   "id": "675a4c6c-338c-4c3a-90e2-8ad79ed63dd4",
   "metadata": {},
   "source": [
    "### Profiling"
   ]
  },
  {
   "cell_type": "markdown",
   "id": "945988ec-0d2b-422a-a84c-32f10d5a63af",
   "metadata": {},
   "source": [
    "To improve performance, we have to be able to profile it. Profiling parallel code can be challenging, but Dask provides functionality to aid in this and inspecting execution. The diagnostic tools are however quite different depending on whether you use a local or distributed scheduler.\n",
    "\n",
    "Dask allows local diagnostics by adding callbacks that collect information about your code execution. You can use the profilers as a context manager as described in the [Dask documentation](https://docs.dask.org/en/stable/diagnostics-local.html). For convenience, the *ab*TEM `compute` methods also implement keywords for adding Dask profilers.\n",
    "\n",
    "Below we use the [`Profiler`](https://docs.dask.org/en/stable/diagnostics-local.html#profiler) to monitor task execution by setting `profiler=True` and a [`ResourceProfiler`](https://docs.dask.org/en/stable/diagnostics-local.html#resourceprofiler) to monitor the CPU usage and memory consumption by setting `resource_profiler=True`. We rerun the simulation above with these profilers. "
   ]
  },
  {
   "cell_type": "code",
   "execution_count": 13,
   "id": "56cb3754-6cde-4f83-b058-6014356cefaf",
   "metadata": {},
   "outputs": [
    {
     "name": "stdout",
     "output_type": "stream",
     "text": [
      "[########################################] | 100% Completed | 15.42 s\n"
     ]
    }
   ],
   "source": [
    "haadf_images = detector.detect(exit_waves_stem).reduce_ensemble()\n",
    "\n",
    "haadf_images, profilers = haadf_images.compute(profiler=True, resource_profiler=True)"
   ]
  },
  {
   "cell_type": "markdown",
   "id": "a3b63fd8-4e8b-4842-9c15-2fa8787da397",
   "metadata": {},
   "source": [
    "To display the results Dask uses the [Bokeh plotting library](https://bokeh.org/) (which is installed together with Dask). To display the plots in a Jupyter notebook we need to run the commands below."
   ]
  },
  {
   "cell_type": "code",
   "execution_count": 14,
   "id": "bb2fc8ba-5288-4499-9090-35e8723c7930",
   "metadata": {
    "tags": [
     "skip-test"
    ]
   },
   "outputs": [
    {
     "data": {
      "text/html": [
       "<div class=\"bk-root\">\n",
       "        <a href=\"https://bokeh.org\" target=\"_blank\" class=\"bk-logo bk-logo-small bk-logo-notebook\"></a>\n",
       "        <span id=\"1001\">Loading BokehJS ...</span>\n",
       "    </div>\n"
      ]
     },
     "metadata": {},
     "output_type": "display_data"
    },
    {
     "data": {
      "application/javascript": [
       "(function(root) {\n",
       "  function now() {\n",
       "    return new Date();\n",
       "  }\n",
       "\n",
       "  const force = true;\n",
       "\n",
       "  if (typeof root._bokeh_onload_callbacks === \"undefined\" || force === true) {\n",
       "    root._bokeh_onload_callbacks = [];\n",
       "    root._bokeh_is_loading = undefined;\n",
       "  }\n",
       "\n",
       "const JS_MIME_TYPE = 'application/javascript';\n",
       "  const HTML_MIME_TYPE = 'text/html';\n",
       "  const EXEC_MIME_TYPE = 'application/vnd.bokehjs_exec.v0+json';\n",
       "  const CLASS_NAME = 'output_bokeh rendered_html';\n",
       "\n",
       "  /**\n",
       "   * Render data to the DOM node\n",
       "   */\n",
       "  function render(props, node) {\n",
       "    const script = document.createElement(\"script\");\n",
       "    node.appendChild(script);\n",
       "  }\n",
       "\n",
       "  /**\n",
       "   * Handle when an output is cleared or removed\n",
       "   */\n",
       "  function handleClearOutput(event, handle) {\n",
       "    const cell = handle.cell;\n",
       "\n",
       "    const id = cell.output_area._bokeh_element_id;\n",
       "    const server_id = cell.output_area._bokeh_server_id;\n",
       "    // Clean up Bokeh references\n",
       "    if (id != null && id in Bokeh.index) {\n",
       "      Bokeh.index[id].model.document.clear();\n",
       "      delete Bokeh.index[id];\n",
       "    }\n",
       "\n",
       "    if (server_id !== undefined) {\n",
       "      // Clean up Bokeh references\n",
       "      const cmd_clean = \"from bokeh.io.state import curstate; print(curstate().uuid_to_server['\" + server_id + \"'].get_sessions()[0].document.roots[0]._id)\";\n",
       "      cell.notebook.kernel.execute(cmd_clean, {\n",
       "        iopub: {\n",
       "          output: function(msg) {\n",
       "            const id = msg.content.text.trim();\n",
       "            if (id in Bokeh.index) {\n",
       "              Bokeh.index[id].model.document.clear();\n",
       "              delete Bokeh.index[id];\n",
       "            }\n",
       "          }\n",
       "        }\n",
       "      });\n",
       "      // Destroy server and session\n",
       "      const cmd_destroy = \"import bokeh.io.notebook as ion; ion.destroy_server('\" + server_id + \"')\";\n",
       "      cell.notebook.kernel.execute(cmd_destroy);\n",
       "    }\n",
       "  }\n",
       "\n",
       "  /**\n",
       "   * Handle when a new output is added\n",
       "   */\n",
       "  function handleAddOutput(event, handle) {\n",
       "    const output_area = handle.output_area;\n",
       "    const output = handle.output;\n",
       "\n",
       "    // limit handleAddOutput to display_data with EXEC_MIME_TYPE content only\n",
       "    if ((output.output_type != \"display_data\") || (!Object.prototype.hasOwnProperty.call(output.data, EXEC_MIME_TYPE))) {\n",
       "      return\n",
       "    }\n",
       "\n",
       "    const toinsert = output_area.element.find(\".\" + CLASS_NAME.split(' ')[0]);\n",
       "\n",
       "    if (output.metadata[EXEC_MIME_TYPE][\"id\"] !== undefined) {\n",
       "      toinsert[toinsert.length - 1].firstChild.textContent = output.data[JS_MIME_TYPE];\n",
       "      // store reference to embed id on output_area\n",
       "      output_area._bokeh_element_id = output.metadata[EXEC_MIME_TYPE][\"id\"];\n",
       "    }\n",
       "    if (output.metadata[EXEC_MIME_TYPE][\"server_id\"] !== undefined) {\n",
       "      const bk_div = document.createElement(\"div\");\n",
       "      bk_div.innerHTML = output.data[HTML_MIME_TYPE];\n",
       "      const script_attrs = bk_div.children[0].attributes;\n",
       "      for (let i = 0; i < script_attrs.length; i++) {\n",
       "        toinsert[toinsert.length - 1].firstChild.setAttribute(script_attrs[i].name, script_attrs[i].value);\n",
       "        toinsert[toinsert.length - 1].firstChild.textContent = bk_div.children[0].textContent\n",
       "      }\n",
       "      // store reference to server id on output_area\n",
       "      output_area._bokeh_server_id = output.metadata[EXEC_MIME_TYPE][\"server_id\"];\n",
       "    }\n",
       "  }\n",
       "\n",
       "  function register_renderer(events, OutputArea) {\n",
       "\n",
       "    function append_mime(data, metadata, element) {\n",
       "      // create a DOM node to render to\n",
       "      const toinsert = this.create_output_subarea(\n",
       "        metadata,\n",
       "        CLASS_NAME,\n",
       "        EXEC_MIME_TYPE\n",
       "      );\n",
       "      this.keyboard_manager.register_events(toinsert);\n",
       "      // Render to node\n",
       "      const props = {data: data, metadata: metadata[EXEC_MIME_TYPE]};\n",
       "      render(props, toinsert[toinsert.length - 1]);\n",
       "      element.append(toinsert);\n",
       "      return toinsert\n",
       "    }\n",
       "\n",
       "    /* Handle when an output is cleared or removed */\n",
       "    events.on('clear_output.CodeCell', handleClearOutput);\n",
       "    events.on('delete.Cell', handleClearOutput);\n",
       "\n",
       "    /* Handle when a new output is added */\n",
       "    events.on('output_added.OutputArea', handleAddOutput);\n",
       "\n",
       "    /**\n",
       "     * Register the mime type and append_mime function with output_area\n",
       "     */\n",
       "    OutputArea.prototype.register_mime_type(EXEC_MIME_TYPE, append_mime, {\n",
       "      /* Is output safe? */\n",
       "      safe: true,\n",
       "      /* Index of renderer in `output_area.display_order` */\n",
       "      index: 0\n",
       "    });\n",
       "  }\n",
       "\n",
       "  // register the mime type if in Jupyter Notebook environment and previously unregistered\n",
       "  if (root.Jupyter !== undefined) {\n",
       "    const events = require('base/js/events');\n",
       "    const OutputArea = require('notebook/js/outputarea').OutputArea;\n",
       "\n",
       "    if (OutputArea.prototype.mime_types().indexOf(EXEC_MIME_TYPE) == -1) {\n",
       "      register_renderer(events, OutputArea);\n",
       "    }\n",
       "  }\n",
       "  if (typeof (root._bokeh_timeout) === \"undefined\" || force === true) {\n",
       "    root._bokeh_timeout = Date.now() + 5000;\n",
       "    root._bokeh_failed_load = false;\n",
       "  }\n",
       "\n",
       "  const NB_LOAD_WARNING = {'data': {'text/html':\n",
       "     \"<div style='background-color: #fdd'>\\n\"+\n",
       "     \"<p>\\n\"+\n",
       "     \"BokehJS does not appear to have successfully loaded. If loading BokehJS from CDN, this \\n\"+\n",
       "     \"may be due to a slow or bad network connection. Possible fixes:\\n\"+\n",
       "     \"</p>\\n\"+\n",
       "     \"<ul>\\n\"+\n",
       "     \"<li>re-rerun `output_notebook()` to attempt to load from CDN again, or</li>\\n\"+\n",
       "     \"<li>use INLINE resources instead, as so:</li>\\n\"+\n",
       "     \"</ul>\\n\"+\n",
       "     \"<code>\\n\"+\n",
       "     \"from bokeh.resources import INLINE\\n\"+\n",
       "     \"output_notebook(resources=INLINE)\\n\"+\n",
       "     \"</code>\\n\"+\n",
       "     \"</div>\"}};\n",
       "\n",
       "  function display_loaded() {\n",
       "    const el = document.getElementById(\"1001\");\n",
       "    if (el != null) {\n",
       "      el.textContent = \"BokehJS is loading...\";\n",
       "    }\n",
       "    if (root.Bokeh !== undefined) {\n",
       "      if (el != null) {\n",
       "        el.textContent = \"BokehJS \" + root.Bokeh.version + \" successfully loaded.\";\n",
       "      }\n",
       "    } else if (Date.now() < root._bokeh_timeout) {\n",
       "      setTimeout(display_loaded, 100)\n",
       "    }\n",
       "  }\n",
       "\n",
       "  function run_callbacks() {\n",
       "    try {\n",
       "      root._bokeh_onload_callbacks.forEach(function(callback) {\n",
       "        if (callback != null)\n",
       "          callback();\n",
       "      });\n",
       "    } finally {\n",
       "      delete root._bokeh_onload_callbacks\n",
       "    }\n",
       "    console.debug(\"Bokeh: all callbacks have finished\");\n",
       "  }\n",
       "\n",
       "  function load_libs(css_urls, js_urls, callback) {\n",
       "    if (css_urls == null) css_urls = [];\n",
       "    if (js_urls == null) js_urls = [];\n",
       "\n",
       "    root._bokeh_onload_callbacks.push(callback);\n",
       "    if (root._bokeh_is_loading > 0) {\n",
       "      console.debug(\"Bokeh: BokehJS is being loaded, scheduling callback at\", now());\n",
       "      return null;\n",
       "    }\n",
       "    if (js_urls == null || js_urls.length === 0) {\n",
       "      run_callbacks();\n",
       "      return null;\n",
       "    }\n",
       "    console.debug(\"Bokeh: BokehJS not loaded, scheduling load and callback at\", now());\n",
       "    root._bokeh_is_loading = css_urls.length + js_urls.length;\n",
       "\n",
       "    function on_load() {\n",
       "      root._bokeh_is_loading--;\n",
       "      if (root._bokeh_is_loading === 0) {\n",
       "        console.debug(\"Bokeh: all BokehJS libraries/stylesheets loaded\");\n",
       "        run_callbacks()\n",
       "      }\n",
       "    }\n",
       "\n",
       "    function on_error(url) {\n",
       "      console.error(\"failed to load \" + url);\n",
       "    }\n",
       "\n",
       "    for (let i = 0; i < css_urls.length; i++) {\n",
       "      const url = css_urls[i];\n",
       "      const element = document.createElement(\"link\");\n",
       "      element.onload = on_load;\n",
       "      element.onerror = on_error.bind(null, url);\n",
       "      element.rel = \"stylesheet\";\n",
       "      element.type = \"text/css\";\n",
       "      element.href = url;\n",
       "      console.debug(\"Bokeh: injecting link tag for BokehJS stylesheet: \", url);\n",
       "      document.body.appendChild(element);\n",
       "    }\n",
       "\n",
       "    for (let i = 0; i < js_urls.length; i++) {\n",
       "      const url = js_urls[i];\n",
       "      const element = document.createElement('script');\n",
       "      element.onload = on_load;\n",
       "      element.onerror = on_error.bind(null, url);\n",
       "      element.async = false;\n",
       "      element.src = url;\n",
       "      console.debug(\"Bokeh: injecting script tag for BokehJS library: \", url);\n",
       "      document.head.appendChild(element);\n",
       "    }\n",
       "  };\n",
       "\n",
       "  function inject_raw_css(css) {\n",
       "    const element = document.createElement(\"style\");\n",
       "    element.appendChild(document.createTextNode(css));\n",
       "    document.body.appendChild(element);\n",
       "  }\n",
       "\n",
       "  const js_urls = [\"https://cdn.bokeh.org/bokeh/release/bokeh-2.4.3.min.js\", \"https://cdn.bokeh.org/bokeh/release/bokeh-gl-2.4.3.min.js\", \"https://cdn.bokeh.org/bokeh/release/bokeh-widgets-2.4.3.min.js\", \"https://cdn.bokeh.org/bokeh/release/bokeh-tables-2.4.3.min.js\", \"https://cdn.bokeh.org/bokeh/release/bokeh-mathjax-2.4.3.min.js\"];\n",
       "  const css_urls = [];\n",
       "\n",
       "  const inline_js = [    function(Bokeh) {\n",
       "      Bokeh.set_log_level(\"info\");\n",
       "    },\n",
       "function(Bokeh) {\n",
       "    }\n",
       "  ];\n",
       "\n",
       "  function run_inline_js() {\n",
       "    if (root.Bokeh !== undefined || force === true) {\n",
       "          for (let i = 0; i < inline_js.length; i++) {\n",
       "      inline_js[i].call(root, root.Bokeh);\n",
       "    }\n",
       "if (force === true) {\n",
       "        display_loaded();\n",
       "      }} else if (Date.now() < root._bokeh_timeout) {\n",
       "      setTimeout(run_inline_js, 100);\n",
       "    } else if (!root._bokeh_failed_load) {\n",
       "      console.log(\"Bokeh: BokehJS failed to load within specified timeout.\");\n",
       "      root._bokeh_failed_load = true;\n",
       "    } else if (force !== true) {\n",
       "      const cell = $(document.getElementById(\"1001\")).parents('.cell').data().cell;\n",
       "      cell.output_area.append_execute_result(NB_LOAD_WARNING)\n",
       "    }\n",
       "  }\n",
       "\n",
       "  if (root._bokeh_is_loading === 0) {\n",
       "    console.debug(\"Bokeh: BokehJS loaded, going straight to plotting\");\n",
       "    run_inline_js();\n",
       "  } else {\n",
       "    load_libs(css_urls, js_urls, function() {\n",
       "      console.debug(\"Bokeh: BokehJS plotting callback run at\", now());\n",
       "      run_inline_js();\n",
       "    });\n",
       "  }\n",
       "}(window));"
      ],
      "application/vnd.bokehjs_load.v0+json": "(function(root) {\n  function now() {\n    return new Date();\n  }\n\n  const force = true;\n\n  if (typeof root._bokeh_onload_callbacks === \"undefined\" || force === true) {\n    root._bokeh_onload_callbacks = [];\n    root._bokeh_is_loading = undefined;\n  }\n\n\n  if (typeof (root._bokeh_timeout) === \"undefined\" || force === true) {\n    root._bokeh_timeout = Date.now() + 5000;\n    root._bokeh_failed_load = false;\n  }\n\n  const NB_LOAD_WARNING = {'data': {'text/html':\n     \"<div style='background-color: #fdd'>\\n\"+\n     \"<p>\\n\"+\n     \"BokehJS does not appear to have successfully loaded. If loading BokehJS from CDN, this \\n\"+\n     \"may be due to a slow or bad network connection. Possible fixes:\\n\"+\n     \"</p>\\n\"+\n     \"<ul>\\n\"+\n     \"<li>re-rerun `output_notebook()` to attempt to load from CDN again, or</li>\\n\"+\n     \"<li>use INLINE resources instead, as so:</li>\\n\"+\n     \"</ul>\\n\"+\n     \"<code>\\n\"+\n     \"from bokeh.resources import INLINE\\n\"+\n     \"output_notebook(resources=INLINE)\\n\"+\n     \"</code>\\n\"+\n     \"</div>\"}};\n\n  function display_loaded() {\n    const el = document.getElementById(\"1001\");\n    if (el != null) {\n      el.textContent = \"BokehJS is loading...\";\n    }\n    if (root.Bokeh !== undefined) {\n      if (el != null) {\n        el.textContent = \"BokehJS \" + root.Bokeh.version + \" successfully loaded.\";\n      }\n    } else if (Date.now() < root._bokeh_timeout) {\n      setTimeout(display_loaded, 100)\n    }\n  }\n\n  function run_callbacks() {\n    try {\n      root._bokeh_onload_callbacks.forEach(function(callback) {\n        if (callback != null)\n          callback();\n      });\n    } finally {\n      delete root._bokeh_onload_callbacks\n    }\n    console.debug(\"Bokeh: all callbacks have finished\");\n  }\n\n  function load_libs(css_urls, js_urls, callback) {\n    if (css_urls == null) css_urls = [];\n    if (js_urls == null) js_urls = [];\n\n    root._bokeh_onload_callbacks.push(callback);\n    if (root._bokeh_is_loading > 0) {\n      console.debug(\"Bokeh: BokehJS is being loaded, scheduling callback at\", now());\n      return null;\n    }\n    if (js_urls == null || js_urls.length === 0) {\n      run_callbacks();\n      return null;\n    }\n    console.debug(\"Bokeh: BokehJS not loaded, scheduling load and callback at\", now());\n    root._bokeh_is_loading = css_urls.length + js_urls.length;\n\n    function on_load() {\n      root._bokeh_is_loading--;\n      if (root._bokeh_is_loading === 0) {\n        console.debug(\"Bokeh: all BokehJS libraries/stylesheets loaded\");\n        run_callbacks()\n      }\n    }\n\n    function on_error(url) {\n      console.error(\"failed to load \" + url);\n    }\n\n    for (let i = 0; i < css_urls.length; i++) {\n      const url = css_urls[i];\n      const element = document.createElement(\"link\");\n      element.onload = on_load;\n      element.onerror = on_error.bind(null, url);\n      element.rel = \"stylesheet\";\n      element.type = \"text/css\";\n      element.href = url;\n      console.debug(\"Bokeh: injecting link tag for BokehJS stylesheet: \", url);\n      document.body.appendChild(element);\n    }\n\n    for (let i = 0; i < js_urls.length; i++) {\n      const url = js_urls[i];\n      const element = document.createElement('script');\n      element.onload = on_load;\n      element.onerror = on_error.bind(null, url);\n      element.async = false;\n      element.src = url;\n      console.debug(\"Bokeh: injecting script tag for BokehJS library: \", url);\n      document.head.appendChild(element);\n    }\n  };\n\n  function inject_raw_css(css) {\n    const element = document.createElement(\"style\");\n    element.appendChild(document.createTextNode(css));\n    document.body.appendChild(element);\n  }\n\n  const js_urls = [\"https://cdn.bokeh.org/bokeh/release/bokeh-2.4.3.min.js\", \"https://cdn.bokeh.org/bokeh/release/bokeh-gl-2.4.3.min.js\", \"https://cdn.bokeh.org/bokeh/release/bokeh-widgets-2.4.3.min.js\", \"https://cdn.bokeh.org/bokeh/release/bokeh-tables-2.4.3.min.js\", \"https://cdn.bokeh.org/bokeh/release/bokeh-mathjax-2.4.3.min.js\"];\n  const css_urls = [];\n\n  const inline_js = [    function(Bokeh) {\n      Bokeh.set_log_level(\"info\");\n    },\nfunction(Bokeh) {\n    }\n  ];\n\n  function run_inline_js() {\n    if (root.Bokeh !== undefined || force === true) {\n          for (let i = 0; i < inline_js.length; i++) {\n      inline_js[i].call(root, root.Bokeh);\n    }\nif (force === true) {\n        display_loaded();\n      }} else if (Date.now() < root._bokeh_timeout) {\n      setTimeout(run_inline_js, 100);\n    } else if (!root._bokeh_failed_load) {\n      console.log(\"Bokeh: BokehJS failed to load within specified timeout.\");\n      root._bokeh_failed_load = true;\n    } else if (force !== true) {\n      const cell = $(document.getElementById(\"1001\")).parents('.cell').data().cell;\n      cell.output_area.append_execute_result(NB_LOAD_WARNING)\n    }\n  }\n\n  if (root._bokeh_is_loading === 0) {\n    console.debug(\"Bokeh: BokehJS loaded, going straight to plotting\");\n    run_inline_js();\n  } else {\n    load_libs(css_urls, js_urls, function() {\n      console.debug(\"Bokeh: BokehJS plotting callback run at\", now());\n      run_inline_js();\n    });\n  }\n}(window));"
     },
     "metadata": {},
     "output_type": "display_data"
    }
   ],
   "source": [
    "from bokeh.io import output_notebook\n",
    "output_notebook()"
   ]
  },
  {
   "cell_type": "markdown",
   "id": "89a100cb-9792-45bb-b855-42b53fb9db83",
   "metadata": {},
   "source": [
    "We first show the result from the `Profiler` object: This shows the execution time for each task as a rectangle, organized along the vertical axis by worker (in this case threads), and where white space represents times the worker was idle. The task types are grouped by color and, by hovering over each task, one can see the key and task that each block represents. For this calculation there is only one significant task shown in yellow; this encompasses building the wave function, running the multislice algorithm (calculating the potential on demand), and calculating and integrating the diffraction patterns. "
   ]
  },
  {
   "cell_type": "code",
   "execution_count": 15,
   "id": "0a420e98-6235-4e01-b079-fe34d913a436",
   "metadata": {
    "tags": [
     "skip-test"
    ]
   },
   "outputs": [
    {
     "data": {
      "text/html": [
       "\n",
       "  <div class=\"bk-root\" id=\"b41ffed8-1a66-4d92-8949-c9cab2caad70\" data-root-id=\"1003\"></div>\n"
      ]
     },
     "metadata": {},
     "output_type": "display_data"
    },
    {
     "data": {
      "application/javascript": [
       "(function(root) {\n",
       "  function embed_document(root) {\n",
       "  const docs_json = {\"63bddf5e-5404-4dcf-9d99-6ac64e4fb448\":{\"defs\":[],\"roots\":{\"references\":[{\"attributes\":{\"below\":[{\"id\":\"1014\"}],\"center\":[{\"id\":\"1017\"},{\"id\":\"1020\"}],\"height\":300,\"left\":[{\"id\":\"1018\"}],\"renderers\":[{\"id\":\"1037\"}],\"title\":{\"id\":\"1004\"},\"toolbar\":{\"id\":\"1026\"},\"toolbar_location\":\"above\",\"width\":800,\"x_range\":{\"id\":\"1006\"},\"x_scale\":{\"id\":\"1010\"},\"y_range\":{\"id\":\"1008\"},\"y_scale\":{\"id\":\"1012\"}},\"id\":\"1003\",\"subtype\":\"Figure\",\"type\":\"Plot\"},{\"attributes\":{\"axis_label\":\"Time (s)\",\"axis_line_color\":null,\"coordinates\":null,\"formatter\":{\"id\":\"1044\"},\"group\":null,\"major_label_policy\":{\"id\":\"1045\"},\"major_tick_line_color\":null,\"ticker\":{\"id\":\"1015\"}},\"id\":\"1014\",\"type\":\"LinearAxis\"},{\"attributes\":{},\"id\":\"1010\",\"type\":\"LinearScale\"},{\"attributes\":{\"factors\":[\"0\",\"1\",\"2\",\"3\",\"4\",\"5\",\"6\",\"7\",\"8\",\"9\",\"10\",\"11\",\"12\",\"13\",\"14\",\"15\"]},\"id\":\"1008\",\"type\":\"FactorRange\"},{\"attributes\":{\"coordinates\":null,\"group\":null,\"text\":\"Profile Results\"},\"id\":\"1004\",\"type\":\"Title\"},{\"attributes\":{\"source\":{\"id\":\"1032\"}},\"id\":\"1038\",\"type\":\"CDSView\"},{\"attributes\":{\"dimensions\":\"width\"},\"id\":\"1024\",\"type\":\"WheelZoomTool\"},{\"attributes\":{\"fill_alpha\":{\"value\":0.2},\"fill_color\":{\"field\":\"color\"},\"hatch_alpha\":{\"value\":0.2},\"hatch_color\":{\"field\":\"color\"},\"height\":{\"value\":1},\"line_alpha\":{\"value\":0.2},\"line_color\":{\"value\":\"gray\"},\"width\":{\"field\":\"width\"},\"x\":{\"field\":\"x\"},\"y\":{\"field\":\"y\"}},\"id\":\"1036\",\"type\":\"Rect\"},{\"attributes\":{\"axis_label\":\"Worker ID\",\"axis_line_color\":null,\"coordinates\":null,\"formatter\":{\"id\":\"1041\"},\"group\":null,\"major_label_policy\":{\"id\":\"1042\"},\"major_tick_line_color\":null,\"ticker\":{\"id\":\"1019\"}},\"id\":\"1018\",\"type\":\"CategoricalAxis\"},{\"attributes\":{},\"id\":\"1015\",\"type\":\"BasicTicker\"},{\"attributes\":{\"axis\":{\"id\":\"1014\"},\"coordinates\":null,\"grid_line_color\":null,\"group\":null,\"ticker\":null},\"id\":\"1017\",\"type\":\"Grid\"},{\"attributes\":{\"axis\":{\"id\":\"1018\"},\"coordinates\":null,\"dimension\":1,\"grid_line_color\":null,\"group\":null,\"ticker\":null},\"id\":\"1020\",\"type\":\"Grid\"},{\"attributes\":{},\"id\":\"1019\",\"type\":\"CategoricalTicker\"},{\"attributes\":{},\"id\":\"1041\",\"type\":\"CategoricalTickFormatter\"},{\"attributes\":{},\"id\":\"1022\",\"type\":\"SaveTool\"},{\"attributes\":{\"fill_alpha\":{\"value\":0.1},\"fill_color\":{\"field\":\"color\"},\"hatch_alpha\":{\"value\":0.1},\"hatch_color\":{\"field\":\"color\"},\"height\":{\"value\":1},\"line_alpha\":{\"value\":0.1},\"line_color\":{\"value\":\"gray\"},\"width\":{\"field\":\"width\"},\"x\":{\"field\":\"x\"},\"y\":{\"field\":\"y\"}},\"id\":\"1035\",\"type\":\"Rect\"},{\"attributes\":{\"callback\":null,\"point_policy\":\"follow_mouse\",\"tooltips\":\"\\n    <div>\\n        <span style=\\\"font-size: 14px; font-weight: bold;\\\">Key:</span>&nbsp;\\n        <span style=\\\"font-size: 10px; font-family: Monaco, monospace;\\\">@key</span>\\n    </div>\\n    <div>\\n        <span style=\\\"font-size: 14px; font-weight: bold;\\\">Task:</span>&nbsp;\\n        <span style=\\\"font-size: 10px; font-family: Monaco, monospace;\\\">@function</span>\\n    </div>\\n    \"},\"id\":\"1021\",\"type\":\"HoverTool\"},{\"attributes\":{},\"id\":\"1042\",\"type\":\"AllLabels\"},{\"attributes\":{},\"id\":\"1023\",\"type\":\"ResetTool\"},{\"attributes\":{\"dimensions\":\"width\"},\"id\":\"1025\",\"type\":\"PanTool\"},{\"attributes\":{},\"id\":\"1044\",\"type\":\"BasicTickFormatter\"},{\"attributes\":{},\"id\":\"1046\",\"type\":\"UnionRenderers\"},{\"attributes\":{\"fill_color\":{\"field\":\"color\"},\"hatch_color\":{\"field\":\"color\"},\"height\":{\"value\":1},\"line_color\":{\"value\":\"gray\"},\"width\":{\"field\":\"width\"},\"x\":{\"field\":\"x\"},\"y\":{\"field\":\"y\"}},\"id\":\"1034\",\"type\":\"Rect\"},{\"attributes\":{\"data\":{\"color\":[\"#3B518A\",\"#3B518A\",\"#3B518A\",\"#3B518A\",\"#440154\",\"#440154\",\"#440154\",\"#440154\",\"#FDE724\",\"#FDE724\",\"#FDE724\",\"#FDE724\",\"#FDE724\",\"#FDE724\",\"#FDE724\",\"#FDE724\",\"#FDE724\",\"#FDE724\",\"#FDE724\",\"#FDE724\",\"#FDE724\",\"#FDE724\",\"#FDE724\",\"#FDE724\",\"#440154\",\"#440154\",\"#440154\",\"#FDE724\",\"#FDE724\",\"#FDE724\",\"#440154\",\"#440154\",\"#440154\",\"#FDE724\",\"#FDE724\",\"#FDE724\",\"#440154\",\"#440154\",\"#440154\",\"#FDE724\",\"#FDE724\",\"#FDE724\",\"#440154\",\"#440154\",\"#440154\",\"#440154\",\"#440154\",\"#FDE724\",\"#FDE724\",\"#FDE724\",\"#5BC862\",\"#FDE724\",\"#440154\",\"#440154\",\"#FDE724\",\"#5BC862\",\"#FDE724\",\"#208F8C\",\"#FDE724\",\"#440154\",\"#440154\",\"#FDE724\",\"#FDE724\",\"#440154\",\"#FDE724\",\"#440154\",\"#FDE724\",\"#440154\",\"#440154\",\"#440154\",\"#440154\",\"#440154\",\"#FDE724\",\"#FDE724\",\"#440154\",\"#FDE724\",\"#FDE724\",\"#440154\",\"#FDE724\",\"#440154\",\"#FDE724\",\"#440154\",\"#FDE724\",\"#440154\",\"#FDE724\",\"#440154\",\"#FDE724\",\"#FDE724\",\"#FDE724\",\"#440154\",\"#FDE724\",\"#440154\",\"#FDE724\",\"#440154\",\"#440154\",\"#FDE724\",\"#FDE724\",\"#440154\",\"#FDE724\",\"#440154\",\"#440154\",\"#440154\",\"#FDE724\",\"#FDE724\",\"#FDE724\",\"#440154\",\"#440154\",\"#440154\",\"#FDE724\",\"#440154\",\"#FDE724\",\"#FDE724\",\"#440154\",\"#FDE724\",\"#440154\",\"#440154\",\"#FDE724\",\"#FDE724\",\"#FDE724\",\"#440154\",\"#440154\",\"#FDE724\",\"#FDE724\",\"#440154\",\"#FDE724\",\"#440154\",\"#440154\",\"#FDE724\",\"#FDE724\",\"#440154\",\"#440154\",\"#FDE724\",\"#FDE724\",\"#440154\",\"#FDE724\",\"#440154\",\"#FDE724\",\"#440154\",\"#440154\",\"#FDE724\",\"#FDE724\",\"#440154\",\"#440154\",\"#FDE724\",\"#FDE724\",\"#440154\",\"#440154\",\"#FDE724\",\"#FDE724\",\"#440154\",\"#FDE724\",\"#440154\",\"#FDE724\",\"#440154\",\"#FDE724\",\"#440154\",\"#5BC862\",\"#FDE724\",\"#440154\",\"#5BC862\",\"#FDE724\",\"#440154\",\"#5BC862\",\"#FDE724\",\"#440154\",\"#440154\",\"#5BC862\",\"#440154\",\"#5BC862\",\"#440154\",\"#FDE724\",\"#440154\",\"#5BC862\",\"#5BC862\",\"#FDE724\",\"#5BC862\",\"#440154\",\"#440154\",\"#FDE724\",\"#FDE724\",\"#FDE724\",\"#5BC862\",\"#440154\",\"#5BC862\",\"#5BC862\",\"#FDE724\",\"#FDE724\",\"#FDE724\",\"#440154\",\"#440154\",\"#440154\",\"#440154\",\"#5BC862\",\"#5BC862\",\"#5BC862\",\"#5BC862\",\"#FDE724\",\"#FDE724\",\"#FDE724\",\"#FDE724\",\"#440154\",\"#5BC862\",\"#FDE724\",\"#440154\",\"#5BC862\",\"#FDE724\",\"#440154\",\"#5BC862\",\"#FDE724\",\"#440154\",\"#5BC862\",\"#FDE724\",\"#440154\",\"#5BC862\",\"#FDE724\",\"#440154\",\"#440154\",\"#5BC862\",\"#5BC862\",\"#440154\",\"#440154\",\"#440154\",\"#FDE724\",\"#5BC862\",\"#FDE724\",\"#440154\",\"#440154\",\"#5BC862\",\"#5BC862\",\"#FDE724\",\"#5BC862\",\"#5BC862\",\"#440154\",\"#440154\",\"#FDE724\",\"#FDE724\",\"#FDE724\",\"#FDE724\",\"#5BC862\",\"#440154\",\"#5BC862\",\"#FDE724\",\"#5BC862\",\"#FDE724\",\"#FDE724\",\"#440154\",\"#440154\",\"#5BC862\",\"#5BC862\",\"#FDE724\",\"#FDE724\",\"#440154\",\"#5BC862\",\"#FDE724\",\"#440154\",\"#5BC862\",\"#FDE724\",\"#440154\",\"#5BC862\",\"#FDE724\",\"#440154\",\"#5BC862\",\"#FDE724\",\"#440154\",\"#5BC862\",\"#FDE724\",\"#440154\",\"#440154\",\"#440154\",\"#5BC862\",\"#5BC862\",\"#5BC862\",\"#FDE724\",\"#FDE724\",\"#FDE724\",\"#440154\",\"#5BC862\",\"#FDE724\",\"#440154\",\"#440154\",\"#5BC862\",\"#5BC862\",\"#FDE724\",\"#440154\",\"#440154\",\"#440154\",\"#FDE724\",\"#440154\",\"#440154\",\"#5BC862\",\"#5BC862\",\"#5BC862\",\"#5BC862\",\"#5BC862\",\"#FDE724\",\"#FDE724\",\"#FDE724\",\"#FDE724\",\"#FDE724\",\"#440154\",\"#5BC862\",\"#208F8C\",\"#FDE724\",\"#440154\",\"#5BC862\",\"#208F8C\",\"#FDE724\",\"#440154\",\"#5BC862\",\"#208F8C\",\"#FDE724\",\"#440154\",\"#440154\",\"#5BC862\",\"#5BC862\",\"#208F8C\",\"#FDE724\",\"#208F8C\",\"#FDE724\",\"#440154\",\"#440154\",\"#5BC862\",\"#5BC862\",\"#440154\",\"#208F8C\",\"#208F8C\",\"#5BC862\",\"#FDE724\",\"#208F8C\",\"#440154\",\"#440154\",\"#FDE724\",\"#440154\",\"#FDE724\",\"#5BC862\",\"#5BC862\",\"#5BC862\",\"#208F8C\",\"#208F8C\",\"#208F8C\",\"#FDE724\",\"#FDE724\",\"#FDE724\",\"#440154\",\"#440154\",\"#440154\",\"#440154\",\"#FDE724\",\"#FDE724\",\"#440154\",\"#FDE724\",\"#5BC862\",\"#FDE724\",\"#208F8C\",\"#FDE724\",\"#440154\",\"#FDE724\",\"#440154\",\"#FDE724\",\"#440154\",\"#FDE724\",\"#440154\",\"#FDE724\",\"#440154\",\"#FDE724\",\"#440154\",\"#FDE724\",\"#440154\",\"#440154\",\"#FDE724\",\"#FDE724\",\"#440154\",\"#440154\",\"#FDE724\",\"#440154\",\"#440154\",\"#FDE724\",\"#440154\",\"#440154\",\"#440154\",\"#FDE724\",\"#FDE724\",\"#FDE724\",\"#FDE724\",\"#FDE724\",\"#440154\",\"#FDE724\",\"#440154\",\"#FDE724\",\"#440154\",\"#FDE724\",\"#440154\",\"#FDE724\",\"#440154\",\"#FDE724\",\"#440154\",\"#FDE724\",\"#440154\",\"#FDE724\",\"#440154\",\"#FDE724\",\"#440154\",\"#FDE724\",\"#440154\",\"#440154\",\"#440154\",\"#440154\",\"#FDE724\",\"#FDE724\",\"#FDE724\",\"#440154\",\"#FDE724\",\"#440154\",\"#FDE724\",\"#440154\",\"#FDE724\",\"#FDE724\",\"#440154\",\"#FDE724\",\"#440154\",\"#5BC862\",\"#208F8C\",\"#FDE724\",\"#440154\",\"#5BC862\",\"#208F8C\",\"#FDE724\",\"#440154\",\"#440154\",\"#5BC862\",\"#5BC862\",\"#440154\",\"#208F8C\",\"#208F8C\",\"#5BC862\",\"#440154\",\"#FDE724\",\"#FDE724\",\"#208F8C\",\"#5BC862\",\"#FDE724\",\"#440154\",\"#208F8C\",\"#5BC862\",\"#440154\",\"#FDE724\",\"#208F8C\",\"#5BC862\",\"#FDE724\",\"#208F8C\",\"#FDE724\",\"#440154\",\"#5BC862\",\"#440154\",\"#440154\",\"#208F8C\",\"#5BC862\",\"#5BC862\",\"#FDE724\",\"#440154\",\"#440154\",\"#208F8C\",\"#208F8C\",\"#440154\",\"#5BC862\",\"#5BC862\",\"#440154\",\"#FDE724\",\"#FDE724\",\"#5BC862\",\"#440154\",\"#208F8C\",\"#208F8C\",\"#5BC862\",\"#208F8C\",\"#5BC862\",\"#FDE724\",\"#FDE724\",\"#208F8C\",\"#FDE724\",\"#208F8C\",\"#FDE724\",\"#FDE724\",\"#440154\",\"#5BC862\",\"#208F8C\",\"#FDE724\",\"#440154\",\"#5BC862\",\"#208F8C\",\"#FDE724\",\"#440154\",\"#5BC862\",\"#208F8C\",\"#FDE724\",\"#440154\",\"#440154\",\"#5BC862\",\"#5BC862\",\"#208F8C\",\"#208F8C\",\"#FDE724\",\"#440154\",\"#440154\",\"#5BC862\",\"#5BC862\",\"#440154\",\"#208F8C\",\"#208F8C\",\"#5BC862\",\"#208F8C\",\"#440154\",\"#5BC862\",\"#208F8C\",\"#440154\",\"#440154\",\"#5BC862\",\"#5BC862\",\"#440154\",\"#208F8C\",\"#440154\",\"#208F8C\",\"#5BC862\",\"#5BC862\",\"#208F8C\",\"#208F8C\",\"#440154\",\"#440154\",\"#5BC862\",\"#5BC862\",\"#208F8C\",\"#208F8C\",\"#440154\",\"#5BC862\",\"#208F8C\",\"#440154\",\"#5BC862\",\"#208F8C\",\"#440154\",\"#5BC862\",\"#208F8C\",\"#440154\",\"#5BC862\",\"#208F8C\",\"#440154\",\"#5BC862\",\"#208F8C\"],\"function\":[\"_frozen_phonon(, atoms=_, seeds=tuple([*]))\",\"_frozen_phonon(, atoms=_, seeds=tuple([*]))\",\"_frozen_phonon(, atoms=_, seeds=tuple([*]))\",\"_frozen_phonon(, atoms=_, seeds=tuple([*]))\",\"_\",\"_\",\"_\",\"_\",\"subgraph_callable-0ba17822-d375-46e9-baa0-30aaa03f(subgraph_callable-96ff8cbb-fc56-454c-ab50-a598596c(...))\",\"subgraph_callable-0ba17822-d375-46e9-baa0-30aaa03f(subgraph_callable-96ff8cbb-fc56-454c-ab50-a598596c(...))\",\"subgraph_callable-0ba17822-d375-46e9-baa0-30aaa03f(subgraph_callable-96ff8cbb-fc56-454c-ab50-a598596c(...))\",\"subgraph_callable-0ba17822-d375-46e9-baa0-30aaa03f(subgraph_callable-96ff8cbb-fc56-454c-ab50-a598596c(...))\",\"subgraph_callable-0ba17822-d375-46e9-baa0-30aaa03f(subgraph_callable-96ff8cbb-fc56-454c-ab50-a598596c(...))\",\"subgraph_callable-0ba17822-d375-46e9-baa0-30aaa03f(subgraph_callable-96ff8cbb-fc56-454c-ab50-a598596c(...))\",\"subgraph_callable-0ba17822-d375-46e9-baa0-30aaa03f(subgraph_callable-96ff8cbb-fc56-454c-ab50-a598596c(...))\",\"subgraph_callable-0ba17822-d375-46e9-baa0-30aaa03f(subgraph_callable-96ff8cbb-fc56-454c-ab50-a598596c(...))\",\"subgraph_callable-0ba17822-d375-46e9-baa0-30aaa03f(subgraph_callable-96ff8cbb-fc56-454c-ab50-a598596c(...))\",\"subgraph_callable-0ba17822-d375-46e9-baa0-30aaa03f(subgraph_callable-96ff8cbb-fc56-454c-ab50-a598596c(...))\",\"subgraph_callable-0ba17822-d375-46e9-baa0-30aaa03f(subgraph_callable-96ff8cbb-fc56-454c-ab50-a598596c(...))\",\"subgraph_callable-0ba17822-d375-46e9-baa0-30aaa03f(subgraph_callable-96ff8cbb-fc56-454c-ab50-a598596c(...))\",\"subgraph_callable-0ba17822-d375-46e9-baa0-30aaa03f(subgraph_callable-96ff8cbb-fc56-454c-ab50-a598596c(...))\",\"subgraph_callable-0ba17822-d375-46e9-baa0-30aaa03f(subgraph_callable-96ff8cbb-fc56-454c-ab50-a598596c(...))\",\"subgraph_callable-0ba17822-d375-46e9-baa0-30aaa03f(subgraph_callable-96ff8cbb-fc56-454c-ab50-a598596c(...))\",\"subgraph_callable-0ba17822-d375-46e9-baa0-30aaa03f(subgraph_callable-96ff8cbb-fc56-454c-ab50-a598596c(...))\",\"_\",\"_\",\"_\",\"subgraph_callable-0ba17822-d375-46e9-baa0-30aaa03f(subgraph_callable-96ff8cbb-fc56-454c-ab50-a598596c(...))\",\"subgraph_callable-0ba17822-d375-46e9-baa0-30aaa03f(subgraph_callable-96ff8cbb-fc56-454c-ab50-a598596c(...))\",\"subgraph_callable-0ba17822-d375-46e9-baa0-30aaa03f(subgraph_callable-96ff8cbb-fc56-454c-ab50-a598596c(...))\",\"_\",\"_\",\"_\",\"subgraph_callable-0ba17822-d375-46e9-baa0-30aaa03f(subgraph_callable-96ff8cbb-fc56-454c-ab50-a598596c(...))\",\"subgraph_callable-0ba17822-d375-46e9-baa0-30aaa03f(subgraph_callable-96ff8cbb-fc56-454c-ab50-a598596c(...))\",\"subgraph_callable-0ba17822-d375-46e9-baa0-30aaa03f(subgraph_callable-96ff8cbb-fc56-454c-ab50-a598596c(...))\",\"_\",\"_\",\"_\",\"subgraph_callable-0ba17822-d375-46e9-baa0-30aaa03f(subgraph_callable-96ff8cbb-fc56-454c-ab50-a598596c(...))\",\"subgraph_callable-0ba17822-d375-46e9-baa0-30aaa03f(subgraph_callable-96ff8cbb-fc56-454c-ab50-a598596c(...))\",\"subgraph_callable-0ba17822-d375-46e9-baa0-30aaa03f(subgraph_callable-96ff8cbb-fc56-454c-ab50-a598596c(...))\",\"_\",\"_\",\"_\",\"_\",\"_\",\"subgraph_callable-0ba17822-d375-46e9-baa0-30aaa03f(subgraph_callable-96ff8cbb-fc56-454c-ab50-a598596c(...))\",\"subgraph_callable-0ba17822-d375-46e9-baa0-30aaa03f(subgraph_callable-96ff8cbb-fc56-454c-ab50-a598596c(...))\",\"subgraph_callable-0ba17822-d375-46e9-baa0-30aaa03f(subgraph_callable-96ff8cbb-fc56-454c-ab50-a598596c(...))\",\"mean_combine([_, _])\",\"subgraph_callable-0ba17822-d375-46e9-baa0-30aaa03f(subgraph_callable-96ff8cbb-fc56-454c-ab50-a598596c(...))\",\"_\",\"_\",\"subgraph_callable-0ba17822-d375-46e9-baa0-30aaa03f(subgraph_callable-96ff8cbb-fc56-454c-ab50-a598596c(...))\",\"mean_combine([_, _])\",\"subgraph_callable-0ba17822-d375-46e9-baa0-30aaa03f(subgraph_callable-96ff8cbb-fc56-454c-ab50-a598596c(...))\",\"mean_agg([_, _])\",\"subgraph_callable-0ba17822-d375-46e9-baa0-30aaa03f(subgraph_callable-96ff8cbb-fc56-454c-ab50-a598596c(...))\",\"_\",\"_\",\"subgraph_callable-0ba17822-d375-46e9-baa0-30aaa03f(subgraph_callable-96ff8cbb-fc56-454c-ab50-a598596c(...))\",\"subgraph_callable-0ba17822-d375-46e9-baa0-30aaa03f(subgraph_callable-96ff8cbb-fc56-454c-ab50-a598596c(...))\",\"_\",\"subgraph_callable-0ba17822-d375-46e9-baa0-30aaa03f(subgraph_callable-96ff8cbb-fc56-454c-ab50-a598596c(...))\",\"_\",\"subgraph_callable-0ba17822-d375-46e9-baa0-30aaa03f(subgraph_callable-96ff8cbb-fc56-454c-ab50-a598596c(...))\",\"_\",\"_\",\"_\",\"_\",\"_\",\"subgraph_callable-0ba17822-d375-46e9-baa0-30aaa03f(subgraph_callable-96ff8cbb-fc56-454c-ab50-a598596c(...))\",\"subgraph_callable-0ba17822-d375-46e9-baa0-30aaa03f(subgraph_callable-96ff8cbb-fc56-454c-ab50-a598596c(...))\",\"_\",\"subgraph_callable-0ba17822-d375-46e9-baa0-30aaa03f(subgraph_callable-96ff8cbb-fc56-454c-ab50-a598596c(...))\",\"subgraph_callable-0ba17822-d375-46e9-baa0-30aaa03f(subgraph_callable-96ff8cbb-fc56-454c-ab50-a598596c(...))\",\"_\",\"subgraph_callable-0ba17822-d375-46e9-baa0-30aaa03f(subgraph_callable-96ff8cbb-fc56-454c-ab50-a598596c(...))\",\"_\",\"subgraph_callable-0ba17822-d375-46e9-baa0-30aaa03f(subgraph_callable-96ff8cbb-fc56-454c-ab50-a598596c(...))\",\"_\",\"subgraph_callable-0ba17822-d375-46e9-baa0-30aaa03f(subgraph_callable-96ff8cbb-fc56-454c-ab50-a598596c(...))\",\"_\",\"subgraph_callable-0ba17822-d375-46e9-baa0-30aaa03f(subgraph_callable-96ff8cbb-fc56-454c-ab50-a598596c(...))\",\"_\",\"subgraph_callable-0ba17822-d375-46e9-baa0-30aaa03f(subgraph_callable-96ff8cbb-fc56-454c-ab50-a598596c(...))\",\"subgraph_callable-0ba17822-d375-46e9-baa0-30aaa03f(subgraph_callable-96ff8cbb-fc56-454c-ab50-a598596c(...))\",\"subgraph_callable-0ba17822-d375-46e9-baa0-30aaa03f(subgraph_callable-96ff8cbb-fc56-454c-ab50-a598596c(...))\",\"_\",\"subgraph_callable-0ba17822-d375-46e9-baa0-30aaa03f(subgraph_callable-96ff8cbb-fc56-454c-ab50-a598596c(...))\",\"_\",\"subgraph_callable-0ba17822-d375-46e9-baa0-30aaa03f(subgraph_callable-96ff8cbb-fc56-454c-ab50-a598596c(...))\",\"_\",\"_\",\"subgraph_callable-0ba17822-d375-46e9-baa0-30aaa03f(subgraph_callable-96ff8cbb-fc56-454c-ab50-a598596c(...))\",\"subgraph_callable-0ba17822-d375-46e9-baa0-30aaa03f(subgraph_callable-96ff8cbb-fc56-454c-ab50-a598596c(...))\",\"_\",\"subgraph_callable-0ba17822-d375-46e9-baa0-30aaa03f(subgraph_callable-96ff8cbb-fc56-454c-ab50-a598596c(...))\",\"_\",\"_\",\"_\",\"subgraph_callable-0ba17822-d375-46e9-baa0-30aaa03f(subgraph_callable-96ff8cbb-fc56-454c-ab50-a598596c(...))\",\"subgraph_callable-0ba17822-d375-46e9-baa0-30aaa03f(subgraph_callable-96ff8cbb-fc56-454c-ab50-a598596c(...))\",\"subgraph_callable-0ba17822-d375-46e9-baa0-30aaa03f(subgraph_callable-96ff8cbb-fc56-454c-ab50-a598596c(...))\",\"_\",\"_\",\"_\",\"subgraph_callable-0ba17822-d375-46e9-baa0-30aaa03f(subgraph_callable-96ff8cbb-fc56-454c-ab50-a598596c(...))\",\"_\",\"subgraph_callable-0ba17822-d375-46e9-baa0-30aaa03f(subgraph_callable-96ff8cbb-fc56-454c-ab50-a598596c(...))\",\"subgraph_callable-0ba17822-d375-46e9-baa0-30aaa03f(subgraph_callable-96ff8cbb-fc56-454c-ab50-a598596c(...))\",\"_\",\"subgraph_callable-0ba17822-d375-46e9-baa0-30aaa03f(subgraph_callable-96ff8cbb-fc56-454c-ab50-a598596c(...))\",\"_\",\"_\",\"subgraph_callable-0ba17822-d375-46e9-baa0-30aaa03f(subgraph_callable-96ff8cbb-fc56-454c-ab50-a598596c(...))\",\"subgraph_callable-0ba17822-d375-46e9-baa0-30aaa03f(subgraph_callable-96ff8cbb-fc56-454c-ab50-a598596c(...))\",\"subgraph_callable-0ba17822-d375-46e9-baa0-30aaa03f(subgraph_callable-96ff8cbb-fc56-454c-ab50-a598596c(...))\",\"_\",\"_\",\"subgraph_callable-0ba17822-d375-46e9-baa0-30aaa03f(subgraph_callable-96ff8cbb-fc56-454c-ab50-a598596c(...))\",\"subgraph_callable-0ba17822-d375-46e9-baa0-30aaa03f(subgraph_callable-96ff8cbb-fc56-454c-ab50-a598596c(...))\",\"_\",\"subgraph_callable-0ba17822-d375-46e9-baa0-30aaa03f(subgraph_callable-96ff8cbb-fc56-454c-ab50-a598596c(...))\",\"_\",\"_\",\"subgraph_callable-0ba17822-d375-46e9-baa0-30aaa03f(subgraph_callable-96ff8cbb-fc56-454c-ab50-a598596c(...))\",\"subgraph_callable-0ba17822-d375-46e9-baa0-30aaa03f(subgraph_callable-96ff8cbb-fc56-454c-ab50-a598596c(...))\",\"_\",\"_\",\"subgraph_callable-0ba17822-d375-46e9-baa0-30aaa03f(subgraph_callable-96ff8cbb-fc56-454c-ab50-a598596c(...))\",\"subgraph_callable-0ba17822-d375-46e9-baa0-30aaa03f(subgraph_callable-96ff8cbb-fc56-454c-ab50-a598596c(...))\",\"_\",\"subgraph_callable-0ba17822-d375-46e9-baa0-30aaa03f(subgraph_callable-96ff8cbb-fc56-454c-ab50-a598596c(...))\",\"_\",\"subgraph_callable-0ba17822-d375-46e9-baa0-30aaa03f(subgraph_callable-96ff8cbb-fc56-454c-ab50-a598596c(...))\",\"_\",\"_\",\"subgraph_callable-0ba17822-d375-46e9-baa0-30aaa03f(subgraph_callable-96ff8cbb-fc56-454c-ab50-a598596c(...))\",\"subgraph_callable-0ba17822-d375-46e9-baa0-30aaa03f(subgraph_callable-96ff8cbb-fc56-454c-ab50-a598596c(...))\",\"_\",\"_\",\"subgraph_callable-0ba17822-d375-46e9-baa0-30aaa03f(subgraph_callable-96ff8cbb-fc56-454c-ab50-a598596c(...))\",\"subgraph_callable-0ba17822-d375-46e9-baa0-30aaa03f(subgraph_callable-96ff8cbb-fc56-454c-ab50-a598596c(...))\",\"_\",\"_\",\"subgraph_callable-0ba17822-d375-46e9-baa0-30aaa03f(subgraph_callable-96ff8cbb-fc56-454c-ab50-a598596c(...))\",\"subgraph_callable-0ba17822-d375-46e9-baa0-30aaa03f(subgraph_callable-96ff8cbb-fc56-454c-ab50-a598596c(...))\",\"_\",\"subgraph_callable-0ba17822-d375-46e9-baa0-30aaa03f(subgraph_callable-96ff8cbb-fc56-454c-ab50-a598596c(...))\",\"_\",\"subgraph_callable-0ba17822-d375-46e9-baa0-30aaa03f(subgraph_callable-96ff8cbb-fc56-454c-ab50-a598596c(...))\",\"_\",\"subgraph_callable-0ba17822-d375-46e9-baa0-30aaa03f(subgraph_callable-96ff8cbb-fc56-454c-ab50-a598596c(...))\",\"_\",\"mean_combine([_, _])\",\"subgraph_callable-0ba17822-d375-46e9-baa0-30aaa03f(subgraph_callable-96ff8cbb-fc56-454c-ab50-a598596c(...))\",\"_\",\"mean_combine([_, _])\",\"subgraph_callable-0ba17822-d375-46e9-baa0-30aaa03f(subgraph_callable-96ff8cbb-fc56-454c-ab50-a598596c(...))\",\"_\",\"mean_combine([_, _])\",\"subgraph_callable-0ba17822-d375-46e9-baa0-30aaa03f(subgraph_callable-96ff8cbb-fc56-454c-ab50-a598596c(...))\",\"_\",\"_\",\"mean_combine([_, _])\",\"_\",\"mean_combine([_, _])\",\"_\",\"subgraph_callable-0ba17822-d375-46e9-baa0-30aaa03f(subgraph_callable-96ff8cbb-fc56-454c-ab50-a598596c(...))\",\"_\",\"mean_combine([_, _])\",\"mean_combine([_, _])\",\"subgraph_callable-0ba17822-d375-46e9-baa0-30aaa03f(subgraph_callable-96ff8cbb-fc56-454c-ab50-a598596c(...))\",\"mean_combine([_, _])\",\"_\",\"_\",\"subgraph_callable-0ba17822-d375-46e9-baa0-30aaa03f(subgraph_callable-96ff8cbb-fc56-454c-ab50-a598596c(...))\",\"subgraph_callable-0ba17822-d375-46e9-baa0-30aaa03f(subgraph_callable-96ff8cbb-fc56-454c-ab50-a598596c(...))\",\"subgraph_callable-0ba17822-d375-46e9-baa0-30aaa03f(subgraph_callable-96ff8cbb-fc56-454c-ab50-a598596c(...))\",\"mean_combine([_, _])\",\"_\",\"mean_combine([_, _])\",\"mean_combine([_, _])\",\"subgraph_callable-0ba17822-d375-46e9-baa0-30aaa03f(subgraph_callable-96ff8cbb-fc56-454c-ab50-a598596c(...))\",\"subgraph_callable-0ba17822-d375-46e9-baa0-30aaa03f(subgraph_callable-96ff8cbb-fc56-454c-ab50-a598596c(...))\",\"subgraph_callable-0ba17822-d375-46e9-baa0-30aaa03f(subgraph_callable-96ff8cbb-fc56-454c-ab50-a598596c(...))\",\"_\",\"_\",\"_\",\"_\",\"mean_combine([_, _])\",\"mean_combine([_, _])\",\"mean_combine([_, _])\",\"mean_combine([_, _])\",\"subgraph_callable-0ba17822-d375-46e9-baa0-30aaa03f(subgraph_callable-96ff8cbb-fc56-454c-ab50-a598596c(...))\",\"subgraph_callable-0ba17822-d375-46e9-baa0-30aaa03f(subgraph_callable-96ff8cbb-fc56-454c-ab50-a598596c(...))\",\"subgraph_callable-0ba17822-d375-46e9-baa0-30aaa03f(subgraph_callable-96ff8cbb-fc56-454c-ab50-a598596c(...))\",\"subgraph_callable-0ba17822-d375-46e9-baa0-30aaa03f(subgraph_callable-96ff8cbb-fc56-454c-ab50-a598596c(...))\",\"_\",\"mean_combine([_, _])\",\"subgraph_callable-0ba17822-d375-46e9-baa0-30aaa03f(subgraph_callable-96ff8cbb-fc56-454c-ab50-a598596c(...))\",\"_\",\"mean_combine([_, _])\",\"subgraph_callable-0ba17822-d375-46e9-baa0-30aaa03f(subgraph_callable-96ff8cbb-fc56-454c-ab50-a598596c(...))\",\"_\",\"mean_combine([_, _])\",\"subgraph_callable-0ba17822-d375-46e9-baa0-30aaa03f(subgraph_callable-96ff8cbb-fc56-454c-ab50-a598596c(...))\",\"_\",\"mean_combine([_, _])\",\"subgraph_callable-0ba17822-d375-46e9-baa0-30aaa03f(subgraph_callable-96ff8cbb-fc56-454c-ab50-a598596c(...))\",\"_\",\"mean_combine([_, _])\",\"subgraph_callable-0ba17822-d375-46e9-baa0-30aaa03f(subgraph_callable-96ff8cbb-fc56-454c-ab50-a598596c(...))\",\"_\",\"_\",\"mean_combine([_, _])\",\"mean_combine([_, _])\",\"_\",\"_\",\"_\",\"subgraph_callable-0ba17822-d375-46e9-baa0-30aaa03f(subgraph_callable-96ff8cbb-fc56-454c-ab50-a598596c(...))\",\"mean_combine([_, _])\",\"subgraph_callable-0ba17822-d375-46e9-baa0-30aaa03f(subgraph_callable-96ff8cbb-fc56-454c-ab50-a598596c(...))\",\"_\",\"_\",\"mean_combine([_, _])\",\"mean_combine([_, _])\",\"subgraph_callable-0ba17822-d375-46e9-baa0-30aaa03f(subgraph_callable-96ff8cbb-fc56-454c-ab50-a598596c(...))\",\"mean_combine([_, _])\",\"mean_combine([_, _])\",\"_\",\"_\",\"subgraph_callable-0ba17822-d375-46e9-baa0-30aaa03f(subgraph_callable-96ff8cbb-fc56-454c-ab50-a598596c(...))\",\"subgraph_callable-0ba17822-d375-46e9-baa0-30aaa03f(subgraph_callable-96ff8cbb-fc56-454c-ab50-a598596c(...))\",\"subgraph_callable-0ba17822-d375-46e9-baa0-30aaa03f(subgraph_callable-96ff8cbb-fc56-454c-ab50-a598596c(...))\",\"subgraph_callable-0ba17822-d375-46e9-baa0-30aaa03f(subgraph_callable-96ff8cbb-fc56-454c-ab50-a598596c(...))\",\"mean_combine([_, _])\",\"_\",\"mean_combine([_, _])\",\"subgraph_callable-0ba17822-d375-46e9-baa0-30aaa03f(subgraph_callable-96ff8cbb-fc56-454c-ab50-a598596c(...))\",\"mean_combine([_, _])\",\"subgraph_callable-0ba17822-d375-46e9-baa0-30aaa03f(subgraph_callable-96ff8cbb-fc56-454c-ab50-a598596c(...))\",\"subgraph_callable-0ba17822-d375-46e9-baa0-30aaa03f(subgraph_callable-96ff8cbb-fc56-454c-ab50-a598596c(...))\",\"_\",\"_\",\"mean_combine([_, _])\",\"mean_combine([_, _])\",\"subgraph_callable-0ba17822-d375-46e9-baa0-30aaa03f(subgraph_callable-96ff8cbb-fc56-454c-ab50-a598596c(...))\",\"subgraph_callable-0ba17822-d375-46e9-baa0-30aaa03f(subgraph_callable-96ff8cbb-fc56-454c-ab50-a598596c(...))\",\"_\",\"mean_combine([_, _])\",\"subgraph_callable-0ba17822-d375-46e9-baa0-30aaa03f(subgraph_callable-96ff8cbb-fc56-454c-ab50-a598596c(...))\",\"_\",\"mean_combine([_, _])\",\"subgraph_callable-0ba17822-d375-46e9-baa0-30aaa03f(subgraph_callable-96ff8cbb-fc56-454c-ab50-a598596c(...))\",\"_\",\"mean_combine([_, _])\",\"subgraph_callable-0ba17822-d375-46e9-baa0-30aaa03f(subgraph_callable-96ff8cbb-fc56-454c-ab50-a598596c(...))\",\"_\",\"mean_combine([_, _])\",\"subgraph_callable-0ba17822-d375-46e9-baa0-30aaa03f(subgraph_callable-96ff8cbb-fc56-454c-ab50-a598596c(...))\",\"_\",\"mean_combine([_, _])\",\"subgraph_callable-0ba17822-d375-46e9-baa0-30aaa03f(subgraph_callable-96ff8cbb-fc56-454c-ab50-a598596c(...))\",\"_\",\"_\",\"_\",\"mean_combine([_, _])\",\"mean_combine([_, _])\",\"mean_combine([_, _])\",\"subgraph_callable-0ba17822-d375-46e9-baa0-30aaa03f(subgraph_callable-96ff8cbb-fc56-454c-ab50-a598596c(...))\",\"subgraph_callable-0ba17822-d375-46e9-baa0-30aaa03f(subgraph_callable-96ff8cbb-fc56-454c-ab50-a598596c(...))\",\"subgraph_callable-0ba17822-d375-46e9-baa0-30aaa03f(subgraph_callable-96ff8cbb-fc56-454c-ab50-a598596c(...))\",\"_\",\"mean_combine([_, _])\",\"subgraph_callable-0ba17822-d375-46e9-baa0-30aaa03f(subgraph_callable-96ff8cbb-fc56-454c-ab50-a598596c(...))\",\"_\",\"_\",\"mean_combine([_, _])\",\"mean_combine([_, _])\",\"subgraph_callable-0ba17822-d375-46e9-baa0-30aaa03f(subgraph_callable-96ff8cbb-fc56-454c-ab50-a598596c(...))\",\"_\",\"_\",\"_\",\"subgraph_callable-0ba17822-d375-46e9-baa0-30aaa03f(subgraph_callable-96ff8cbb-fc56-454c-ab50-a598596c(...))\",\"_\",\"_\",\"mean_combine([_, _])\",\"mean_combine([_, _])\",\"mean_combine([_, _])\",\"mean_combine([_, _])\",\"mean_combine([_, _])\",\"subgraph_callable-0ba17822-d375-46e9-baa0-30aaa03f(subgraph_callable-96ff8cbb-fc56-454c-ab50-a598596c(...))\",\"subgraph_callable-0ba17822-d375-46e9-baa0-30aaa03f(subgraph_callable-96ff8cbb-fc56-454c-ab50-a598596c(...))\",\"subgraph_callable-0ba17822-d375-46e9-baa0-30aaa03f(subgraph_callable-96ff8cbb-fc56-454c-ab50-a598596c(...))\",\"subgraph_callable-0ba17822-d375-46e9-baa0-30aaa03f(subgraph_callable-96ff8cbb-fc56-454c-ab50-a598596c(...))\",\"subgraph_callable-0ba17822-d375-46e9-baa0-30aaa03f(subgraph_callable-96ff8cbb-fc56-454c-ab50-a598596c(...))\",\"_\",\"mean_combine([_, _])\",\"mean_agg([_, _])\",\"subgraph_callable-0ba17822-d375-46e9-baa0-30aaa03f(subgraph_callable-96ff8cbb-fc56-454c-ab50-a598596c(...))\",\"_\",\"mean_combine([_, _])\",\"mean_agg([_, _])\",\"subgraph_callable-0ba17822-d375-46e9-baa0-30aaa03f(subgraph_callable-96ff8cbb-fc56-454c-ab50-a598596c(...))\",\"_\",\"mean_combine([_, _])\",\"mean_agg([_, _])\",\"subgraph_callable-0ba17822-d375-46e9-baa0-30aaa03f(subgraph_callable-96ff8cbb-fc56-454c-ab50-a598596c(...))\",\"_\",\"_\",\"mean_combine([_, _])\",\"mean_combine([_, _])\",\"mean_agg([_, _])\",\"subgraph_callable-0ba17822-d375-46e9-baa0-30aaa03f(subgraph_callable-96ff8cbb-fc56-454c-ab50-a598596c(...))\",\"mean_agg([_, _])\",\"subgraph_callable-0ba17822-d375-46e9-baa0-30aaa03f(subgraph_callable-96ff8cbb-fc56-454c-ab50-a598596c(...))\",\"_\",\"_\",\"mean_combine([_, _])\",\"mean_combine([_, _])\",\"_\",\"mean_agg([_, _])\",\"mean_agg([_, _])\",\"mean_combine([_, _])\",\"subgraph_callable-0ba17822-d375-46e9-baa0-30aaa03f(subgraph_callable-96ff8cbb-fc56-454c-ab50-a598596c(...))\",\"mean_agg([_, _])\",\"_\",\"_\",\"subgraph_callable-0ba17822-d375-46e9-baa0-30aaa03f(subgraph_callable-96ff8cbb-fc56-454c-ab50-a598596c(...))\",\"_\",\"subgraph_callable-0ba17822-d375-46e9-baa0-30aaa03f(subgraph_callable-96ff8cbb-fc56-454c-ab50-a598596c(...))\",\"mean_combine([_, _])\",\"mean_combine([_, _])\",\"mean_combine([_, _])\",\"mean_agg([_, _])\",\"mean_agg([_, _])\",\"mean_agg([_, _])\",\"subgraph_callable-0ba17822-d375-46e9-baa0-30aaa03f(subgraph_callable-96ff8cbb-fc56-454c-ab50-a598596c(...))\",\"subgraph_callable-0ba17822-d375-46e9-baa0-30aaa03f(subgraph_callable-96ff8cbb-fc56-454c-ab50-a598596c(...))\",\"subgraph_callable-0ba17822-d375-46e9-baa0-30aaa03f(subgraph_callable-96ff8cbb-fc56-454c-ab50-a598596c(...))\",\"_\",\"_\",\"_\",\"_\",\"subgraph_callable-0ba17822-d375-46e9-baa0-30aaa03f(subgraph_callable-96ff8cbb-fc56-454c-ab50-a598596c(...))\",\"subgraph_callable-0ba17822-d375-46e9-baa0-30aaa03f(subgraph_callable-96ff8cbb-fc56-454c-ab50-a598596c(...))\",\"_\",\"subgraph_callable-0ba17822-d375-46e9-baa0-30aaa03f(subgraph_callable-96ff8cbb-fc56-454c-ab50-a598596c(...))\",\"mean_combine([_, _])\",\"subgraph_callable-0ba17822-d375-46e9-baa0-30aaa03f(subgraph_callable-96ff8cbb-fc56-454c-ab50-a598596c(...))\",\"mean_agg([_, _])\",\"subgraph_callable-0ba17822-d375-46e9-baa0-30aaa03f(subgraph_callable-96ff8cbb-fc56-454c-ab50-a598596c(...))\",\"_\",\"subgraph_callable-0ba17822-d375-46e9-baa0-30aaa03f(subgraph_callable-96ff8cbb-fc56-454c-ab50-a598596c(...))\",\"_\",\"subgraph_callable-0ba17822-d375-46e9-baa0-30aaa03f(subgraph_callable-96ff8cbb-fc56-454c-ab50-a598596c(...))\",\"_\",\"subgraph_callable-0ba17822-d375-46e9-baa0-30aaa03f(subgraph_callable-96ff8cbb-fc56-454c-ab50-a598596c(...))\",\"_\",\"subgraph_callable-0ba17822-d375-46e9-baa0-30aaa03f(subgraph_callable-96ff8cbb-fc56-454c-ab50-a598596c(...))\",\"_\",\"subgraph_callable-0ba17822-d375-46e9-baa0-30aaa03f(subgraph_callable-96ff8cbb-fc56-454c-ab50-a598596c(...))\",\"_\",\"subgraph_callable-0ba17822-d375-46e9-baa0-30aaa03f(subgraph_callable-96ff8cbb-fc56-454c-ab50-a598596c(...))\",\"_\",\"_\",\"subgraph_callable-0ba17822-d375-46e9-baa0-30aaa03f(subgraph_callable-96ff8cbb-fc56-454c-ab50-a598596c(...))\",\"subgraph_callable-0ba17822-d375-46e9-baa0-30aaa03f(subgraph_callable-96ff8cbb-fc56-454c-ab50-a598596c(...))\",\"_\",\"_\",\"subgraph_callable-0ba17822-d375-46e9-baa0-30aaa03f(subgraph_callable-96ff8cbb-fc56-454c-ab50-a598596c(...))\",\"_\",\"_\",\"subgraph_callable-0ba17822-d375-46e9-baa0-30aaa03f(subgraph_callable-96ff8cbb-fc56-454c-ab50-a598596c(...))\",\"_\",\"_\",\"_\",\"subgraph_callable-0ba17822-d375-46e9-baa0-30aaa03f(subgraph_callable-96ff8cbb-fc56-454c-ab50-a598596c(...))\",\"subgraph_callable-0ba17822-d375-46e9-baa0-30aaa03f(subgraph_callable-96ff8cbb-fc56-454c-ab50-a598596c(...))\",\"subgraph_callable-0ba17822-d375-46e9-baa0-30aaa03f(subgraph_callable-96ff8cbb-fc56-454c-ab50-a598596c(...))\",\"subgraph_callable-0ba17822-d375-46e9-baa0-30aaa03f(subgraph_callable-96ff8cbb-fc56-454c-ab50-a598596c(...))\",\"subgraph_callable-0ba17822-d375-46e9-baa0-30aaa03f(subgraph_callable-96ff8cbb-fc56-454c-ab50-a598596c(...))\",\"_\",\"subgraph_callable-0ba17822-d375-46e9-baa0-30aaa03f(subgraph_callable-96ff8cbb-fc56-454c-ab50-a598596c(...))\",\"_\",\"subgraph_callable-0ba17822-d375-46e9-baa0-30aaa03f(subgraph_callable-96ff8cbb-fc56-454c-ab50-a598596c(...))\",\"_\",\"subgraph_callable-0ba17822-d375-46e9-baa0-30aaa03f(subgraph_callable-96ff8cbb-fc56-454c-ab50-a598596c(...))\",\"_\",\"subgraph_callable-0ba17822-d375-46e9-baa0-30aaa03f(subgraph_callable-96ff8cbb-fc56-454c-ab50-a598596c(...))\",\"_\",\"subgraph_callable-0ba17822-d375-46e9-baa0-30aaa03f(subgraph_callable-96ff8cbb-fc56-454c-ab50-a598596c(...))\",\"_\",\"subgraph_callable-0ba17822-d375-46e9-baa0-30aaa03f(subgraph_callable-96ff8cbb-fc56-454c-ab50-a598596c(...))\",\"_\",\"subgraph_callable-0ba17822-d375-46e9-baa0-30aaa03f(subgraph_callable-96ff8cbb-fc56-454c-ab50-a598596c(...))\",\"_\",\"subgraph_callable-0ba17822-d375-46e9-baa0-30aaa03f(subgraph_callable-96ff8cbb-fc56-454c-ab50-a598596c(...))\",\"_\",\"subgraph_callable-0ba17822-d375-46e9-baa0-30aaa03f(subgraph_callable-96ff8cbb-fc56-454c-ab50-a598596c(...))\",\"_\",\"_\",\"_\",\"_\",\"subgraph_callable-0ba17822-d375-46e9-baa0-30aaa03f(subgraph_callable-96ff8cbb-fc56-454c-ab50-a598596c(...))\",\"subgraph_callable-0ba17822-d375-46e9-baa0-30aaa03f(subgraph_callable-96ff8cbb-fc56-454c-ab50-a598596c(...))\",\"subgraph_callable-0ba17822-d375-46e9-baa0-30aaa03f(subgraph_callable-96ff8cbb-fc56-454c-ab50-a598596c(...))\",\"_\",\"subgraph_callable-0ba17822-d375-46e9-baa0-30aaa03f(subgraph_callable-96ff8cbb-fc56-454c-ab50-a598596c(...))\",\"_\",\"subgraph_callable-0ba17822-d375-46e9-baa0-30aaa03f(subgraph_callable-96ff8cbb-fc56-454c-ab50-a598596c(...))\",\"_\",\"subgraph_callable-0ba17822-d375-46e9-baa0-30aaa03f(subgraph_callable-96ff8cbb-fc56-454c-ab50-a598596c(...))\",\"subgraph_callable-0ba17822-d375-46e9-baa0-30aaa03f(subgraph_callable-96ff8cbb-fc56-454c-ab50-a598596c(...))\",\"_\",\"subgraph_callable-0ba17822-d375-46e9-baa0-30aaa03f(subgraph_callable-96ff8cbb-fc56-454c-ab50-a598596c(...))\",\"_\",\"mean_combine([_, _])\",\"mean_agg([_, _])\",\"subgraph_callable-0ba17822-d375-46e9-baa0-30aaa03f(subgraph_callable-96ff8cbb-fc56-454c-ab50-a598596c(...))\",\"_\",\"mean_combine([_, _])\",\"mean_agg([_, _])\",\"subgraph_callable-0ba17822-d375-46e9-baa0-30aaa03f(subgraph_callable-96ff8cbb-fc56-454c-ab50-a598596c(...))\",\"_\",\"_\",\"mean_combine([_, _])\",\"mean_combine([_, _])\",\"_\",\"mean_agg([_, _])\",\"mean_agg([_, _])\",\"mean_combine([_, _])\",\"_\",\"subgraph_callable-0ba17822-d375-46e9-baa0-30aaa03f(subgraph_callable-96ff8cbb-fc56-454c-ab50-a598596c(...))\",\"subgraph_callable-0ba17822-d375-46e9-baa0-30aaa03f(subgraph_callable-96ff8cbb-fc56-454c-ab50-a598596c(...))\",\"mean_agg([_, _])\",\"mean_combine([_, _])\",\"subgraph_callable-0ba17822-d375-46e9-baa0-30aaa03f(subgraph_callable-96ff8cbb-fc56-454c-ab50-a598596c(...))\",\"_\",\"mean_agg([_, _])\",\"mean_combine([_, _])\",\"_\",\"subgraph_callable-0ba17822-d375-46e9-baa0-30aaa03f(subgraph_callable-96ff8cbb-fc56-454c-ab50-a598596c(...))\",\"mean_agg([_, _])\",\"mean_combine([_, _])\",\"subgraph_callable-0ba17822-d375-46e9-baa0-30aaa03f(subgraph_callable-96ff8cbb-fc56-454c-ab50-a598596c(...))\",\"mean_agg([_, _])\",\"subgraph_callable-0ba17822-d375-46e9-baa0-30aaa03f(subgraph_callable-96ff8cbb-fc56-454c-ab50-a598596c(...))\",\"_\",\"mean_combine([_, _])\",\"_\",\"_\",\"mean_agg([_, _])\",\"mean_combine([_, _])\",\"mean_combine([_, _])\",\"subgraph_callable-0ba17822-d375-46e9-baa0-30aaa03f(subgraph_callable-96ff8cbb-fc56-454c-ab50-a598596c(...))\",\"_\",\"_\",\"mean_agg([_, _])\",\"mean_agg([_, _])\",\"_\",\"mean_combine([_, _])\",\"mean_combine([_, _])\",\"_\",\"subgraph_callable-0ba17822-d375-46e9-baa0-30aaa03f(subgraph_callable-96ff8cbb-fc56-454c-ab50-a598596c(...))\",\"subgraph_callable-0ba17822-d375-46e9-baa0-30aaa03f(subgraph_callable-96ff8cbb-fc56-454c-ab50-a598596c(...))\",\"mean_combine([_, _])\",\"_\",\"mean_agg([_, _])\",\"mean_agg([_, _])\",\"mean_combine([_, _])\",\"mean_agg([_, _])\",\"mean_combine([_, _])\",\"subgraph_callable-0ba17822-d375-46e9-baa0-30aaa03f(subgraph_callable-96ff8cbb-fc56-454c-ab50-a598596c(...))\",\"subgraph_callable-0ba17822-d375-46e9-baa0-30aaa03f(subgraph_callable-96ff8cbb-fc56-454c-ab50-a598596c(...))\",\"mean_agg([_, _])\",\"subgraph_callable-0ba17822-d375-46e9-baa0-30aaa03f(subgraph_callable-96ff8cbb-fc56-454c-ab50-a598596c(...))\",\"mean_agg([_, _])\",\"subgraph_callable-0ba17822-d375-46e9-baa0-30aaa03f(subgraph_callable-96ff8cbb-fc56-454c-ab50-a598596c(...))\",\"subgraph_callable-0ba17822-d375-46e9-baa0-30aaa03f(subgraph_callable-96ff8cbb-fc56-454c-ab50-a598596c(...))\",\"_\",\"mean_combine([_, _])\",\"mean_agg([_, _])\",\"subgraph_callable-0ba17822-d375-46e9-baa0-30aaa03f(subgraph_callable-96ff8cbb-fc56-454c-ab50-a598596c(...))\",\"_\",\"mean_combine([_, _])\",\"mean_agg([_, _])\",\"subgraph_callable-0ba17822-d375-46e9-baa0-30aaa03f(subgraph_callable-96ff8cbb-fc56-454c-ab50-a598596c(...))\",\"_\",\"mean_combine([_, _])\",\"mean_agg([_, _])\",\"subgraph_callable-0ba17822-d375-46e9-baa0-30aaa03f(subgraph_callable-96ff8cbb-fc56-454c-ab50-a598596c(...))\",\"_\",\"_\",\"mean_combine([_, _])\",\"mean_combine([_, _])\",\"mean_agg([_, _])\",\"mean_agg([_, _])\",\"subgraph_callable-0ba17822-d375-46e9-baa0-30aaa03f(subgraph_callable-96ff8cbb-fc56-454c-ab50-a598596c(...))\",\"_\",\"_\",\"mean_combine([_, _])\",\"mean_combine([_, _])\",\"_\",\"mean_agg([_, _])\",\"mean_agg([_, _])\",\"mean_combine([_, _])\",\"mean_agg([_, _])\",\"_\",\"mean_combine([_, _])\",\"mean_agg([_, _])\",\"_\",\"_\",\"mean_combine([_, _])\",\"mean_combine([_, _])\",\"_\",\"mean_agg([_, _])\",\"_\",\"mean_agg([_, _])\",\"mean_combine([_, _])\",\"mean_combine([_, _])\",\"mean_agg([_, _])\",\"mean_agg([_, _])\",\"_\",\"_\",\"mean_combine([_, _])\",\"mean_combine([_, _])\",\"mean_agg([_, _])\",\"mean_agg([_, _])\",\"_\",\"mean_combine([_, _])\",\"mean_agg([_, _])\",\"_\",\"mean_combine([_, _])\",\"mean_agg([_, _])\",\"_\",\"mean_combine([_, _])\",\"mean_agg([_, _])\",\"_\",\"mean_combine([_, _])\",\"mean_agg([_, _])\",\"_\",\"mean_combine([_, _])\",\"mean_agg([_, _])\"],\"key\":[\"('from-value-frozen_phonon-concatenate-b6c5a62d4b3074d62545a6675d8d800e', 1)\",\"('from-value-frozen_phonon-concatenate-b6c5a62d4b3074d62545a6675d8d800e', 0)\",\"('from-value-frozen_phonon-concatenate-b6c5a62d4b3074d62545a6675d8d800e', 2)\",\"('from-value-frozen_phonon-concatenate-b6c5a62d4b3074d62545a6675d8d800e', 3)\",\"('concatenate-b6c5a62d4b3074d62545a6675d8d800e', 1)\",\"('concatenate-b6c5a62d4b3074d62545a6675d8d800e', 0)\",\"('concatenate-b6c5a62d4b3074d62545a6675d8d800e', 2)\",\"('concatenate-b6c5a62d4b3074d62545a6675d8d800e', 3)\",\"('diffraction_pattern-integrate_fourier_space-mean_chunk-0899aa9593130ad1ff630a151a8a15de', 1, 0, 0)\",\"('diffraction_pattern-integrate_fourier_space-mean_chunk-0899aa9593130ad1ff630a151a8a15de', 1, 1, 1)\",\"('diffraction_pattern-integrate_fourier_space-mean_chunk-0899aa9593130ad1ff630a151a8a15de', 1, 2, 2)\",\"('diffraction_pattern-integrate_fourier_space-mean_chunk-0899aa9593130ad1ff630a151a8a15de', 1, 3, 3)\",\"('diffraction_pattern-integrate_fourier_space-mean_chunk-0899aa9593130ad1ff630a151a8a15de', 1, 4, 4)\",\"('diffraction_pattern-integrate_fourier_space-mean_chunk-0899aa9593130ad1ff630a151a8a15de', 1, 5, 5)\",\"('diffraction_pattern-integrate_fourier_space-mean_chunk-0899aa9593130ad1ff630a151a8a15de', 1, 6, 6)\",\"('diffraction_pattern-integrate_fourier_space-mean_chunk-0899aa9593130ad1ff630a151a8a15de', 1, 0, 1)\",\"('diffraction_pattern-integrate_fourier_space-mean_chunk-0899aa9593130ad1ff630a151a8a15de', 1, 0, 2)\",\"('diffraction_pattern-integrate_fourier_space-mean_chunk-0899aa9593130ad1ff630a151a8a15de', 1, 0, 3)\",\"('diffraction_pattern-integrate_fourier_space-mean_chunk-0899aa9593130ad1ff630a151a8a15de', 1, 0, 4)\",\"('diffraction_pattern-integrate_fourier_space-mean_chunk-0899aa9593130ad1ff630a151a8a15de', 1, 0, 5)\",\"('diffraction_pattern-integrate_fourier_space-mean_chunk-0899aa9593130ad1ff630a151a8a15de', 1, 0, 6)\",\"('diffraction_pattern-integrate_fourier_space-mean_chunk-0899aa9593130ad1ff630a151a8a15de', 0, 0, 0)\",\"('diffraction_pattern-integrate_fourier_space-mean_chunk-0899aa9593130ad1ff630a151a8a15de', 2, 0, 0)\",\"('diffraction_pattern-integrate_fourier_space-mean_chunk-0899aa9593130ad1ff630a151a8a15de', 3, 0, 0)\",\"('mean_chunk-0899aa9593130ad1ff630a151a8a15de', 1, 6, 6)\",\"('mean_chunk-0899aa9593130ad1ff630a151a8a15de', 1, 2, 2)\",\"('mean_chunk-0899aa9593130ad1ff630a151a8a15de', 1, 0, 0)\",\"('diffraction_pattern-integrate_fourier_space-mean_chunk-0899aa9593130ad1ff630a151a8a15de', 3, 1, 1)\",\"('diffraction_pattern-integrate_fourier_space-mean_chunk-0899aa9593130ad1ff630a151a8a15de', 3, 2, 2)\",\"('diffraction_pattern-integrate_fourier_space-mean_chunk-0899aa9593130ad1ff630a151a8a15de', 3, 3, 3)\",\"('mean_chunk-0899aa9593130ad1ff630a151a8a15de', 1, 0, 5)\",\"('mean_chunk-0899aa9593130ad1ff630a151a8a15de', 1, 0, 1)\",\"('mean_chunk-0899aa9593130ad1ff630a151a8a15de', 1, 0, 2)\",\"('diffraction_pattern-integrate_fourier_space-mean_chunk-0899aa9593130ad1ff630a151a8a15de', 3, 4, 4)\",\"('diffraction_pattern-integrate_fourier_space-mean_chunk-0899aa9593130ad1ff630a151a8a15de', 3, 5, 5)\",\"('diffraction_pattern-integrate_fourier_space-mean_chunk-0899aa9593130ad1ff630a151a8a15de', 3, 6, 6)\",\"('mean_chunk-0899aa9593130ad1ff630a151a8a15de', 1, 1, 1)\",\"('mean_chunk-0899aa9593130ad1ff630a151a8a15de', 1, 0, 6)\",\"('mean_chunk-0899aa9593130ad1ff630a151a8a15de', 1, 0, 3)\",\"('diffraction_pattern-integrate_fourier_space-mean_chunk-0899aa9593130ad1ff630a151a8a15de', 3, 0, 1)\",\"('diffraction_pattern-integrate_fourier_space-mean_chunk-0899aa9593130ad1ff630a151a8a15de', 3, 0, 2)\",\"('diffraction_pattern-integrate_fourier_space-mean_chunk-0899aa9593130ad1ff630a151a8a15de', 3, 0, 3)\",\"('mean_chunk-0899aa9593130ad1ff630a151a8a15de', 1, 3, 3)\",\"('mean_chunk-0899aa9593130ad1ff630a151a8a15de', 1, 4, 4)\",\"('mean_chunk-0899aa9593130ad1ff630a151a8a15de', 3, 0, 0)\",\"('mean_chunk-0899aa9593130ad1ff630a151a8a15de', 2, 0, 0)\",\"('mean_chunk-0899aa9593130ad1ff630a151a8a15de', 1, 0, 4)\",\"('diffraction_pattern-integrate_fourier_space-mean_chunk-0899aa9593130ad1ff630a151a8a15de', 3, 0, 4)\",\"('diffraction_pattern-integrate_fourier_space-mean_chunk-0899aa9593130ad1ff630a151a8a15de', 3, 0, 5)\",\"('diffraction_pattern-integrate_fourier_space-mean_chunk-0899aa9593130ad1ff630a151a8a15de', 3, 0, 6)\",\"('mean_combine-partial-d1e106343e77b9c7fe9bc4e8c7908227', 1, 0, 0)\",\"('diffraction_pattern-integrate_fourier_space-mean_chunk-0899aa9593130ad1ff630a151a8a15de', 3, 1, 0)\",\"('mean_chunk-0899aa9593130ad1ff630a151a8a15de', 0, 0, 0)\",\"('mean_chunk-0899aa9593130ad1ff630a151a8a15de', 1, 5, 5)\",\"('diffraction_pattern-integrate_fourier_space-mean_chunk-0899aa9593130ad1ff630a151a8a15de', 3, 1, 2)\",\"('mean_combine-partial-d1e106343e77b9c7fe9bc4e8c7908227', 0, 0, 0)\",\"('diffraction_pattern-integrate_fourier_space-mean_chunk-0899aa9593130ad1ff630a151a8a15de', 3, 1, 3)\",\"('mean_agg-aggregate-2f6b9426d0f4e6eb459c3bb2d05c2d81', 0, 0)\",\"('diffraction_pattern-integrate_fourier_space-mean_chunk-0899aa9593130ad1ff630a151a8a15de', 3, 1, 4)\",\"('mean_chunk-0899aa9593130ad1ff630a151a8a15de', 3, 2, 2)\",\"('mean_chunk-0899aa9593130ad1ff630a151a8a15de', 3, 3, 3)\",\"('diffraction_pattern-integrate_fourier_space-mean_chunk-0899aa9593130ad1ff630a151a8a15de', 3, 1, 5)\",\"('diffraction_pattern-integrate_fourier_space-mean_chunk-0899aa9593130ad1ff630a151a8a15de', 3, 1, 6)\",\"('mean_chunk-0899aa9593130ad1ff630a151a8a15de', 3, 6, 6)\",\"('diffraction_pattern-integrate_fourier_space-mean_chunk-0899aa9593130ad1ff630a151a8a15de', 3, 2, 0)\",\"('mean_chunk-0899aa9593130ad1ff630a151a8a15de', 3, 1, 1)\",\"('diffraction_pattern-integrate_fourier_space-mean_chunk-0899aa9593130ad1ff630a151a8a15de', 3, 2, 1)\",\"('mean_chunk-0899aa9593130ad1ff630a151a8a15de', 3, 0, 4)\",\"('mean_chunk-0899aa9593130ad1ff630a151a8a15de', 3, 5, 5)\",\"('mean_chunk-0899aa9593130ad1ff630a151a8a15de', 3, 0, 3)\",\"('mean_chunk-0899aa9593130ad1ff630a151a8a15de', 3, 4, 4)\",\"('mean_chunk-0899aa9593130ad1ff630a151a8a15de', 3, 0, 1)\",\"('diffraction_pattern-integrate_fourier_space-mean_chunk-0899aa9593130ad1ff630a151a8a15de', 3, 2, 3)\",\"('diffraction_pattern-integrate_fourier_space-mean_chunk-0899aa9593130ad1ff630a151a8a15de', 3, 2, 4)\",\"('mean_chunk-0899aa9593130ad1ff630a151a8a15de', 3, 0, 6)\",\"('diffraction_pattern-integrate_fourier_space-mean_chunk-0899aa9593130ad1ff630a151a8a15de', 3, 2, 5)\",\"('diffraction_pattern-integrate_fourier_space-mean_chunk-0899aa9593130ad1ff630a151a8a15de', 3, 2, 6)\",\"('mean_chunk-0899aa9593130ad1ff630a151a8a15de', 3, 0, 2)\",\"('diffraction_pattern-integrate_fourier_space-mean_chunk-0899aa9593130ad1ff630a151a8a15de', 3, 3, 0)\",\"('mean_chunk-0899aa9593130ad1ff630a151a8a15de', 3, 0, 5)\",\"('diffraction_pattern-integrate_fourier_space-mean_chunk-0899aa9593130ad1ff630a151a8a15de', 3, 3, 1)\",\"('mean_chunk-0899aa9593130ad1ff630a151a8a15de', 3, 1, 3)\",\"('diffraction_pattern-integrate_fourier_space-mean_chunk-0899aa9593130ad1ff630a151a8a15de', 3, 3, 2)\",\"('mean_chunk-0899aa9593130ad1ff630a151a8a15de', 3, 1, 0)\",\"('diffraction_pattern-integrate_fourier_space-mean_chunk-0899aa9593130ad1ff630a151a8a15de', 3, 3, 4)\",\"('mean_chunk-0899aa9593130ad1ff630a151a8a15de', 3, 1, 2)\",\"('diffraction_pattern-integrate_fourier_space-mean_chunk-0899aa9593130ad1ff630a151a8a15de', 3, 3, 5)\",\"('diffraction_pattern-integrate_fourier_space-mean_chunk-0899aa9593130ad1ff630a151a8a15de', 3, 3, 6)\",\"('diffraction_pattern-integrate_fourier_space-mean_chunk-0899aa9593130ad1ff630a151a8a15de', 3, 4, 0)\",\"('mean_chunk-0899aa9593130ad1ff630a151a8a15de', 3, 1, 4)\",\"('diffraction_pattern-integrate_fourier_space-mean_chunk-0899aa9593130ad1ff630a151a8a15de', 3, 4, 1)\",\"('mean_chunk-0899aa9593130ad1ff630a151a8a15de', 3, 1, 5)\",\"('diffraction_pattern-integrate_fourier_space-mean_chunk-0899aa9593130ad1ff630a151a8a15de', 3, 4, 2)\",\"('mean_chunk-0899aa9593130ad1ff630a151a8a15de', 3, 2, 0)\",\"('mean_chunk-0899aa9593130ad1ff630a151a8a15de', 3, 1, 6)\",\"('diffraction_pattern-integrate_fourier_space-mean_chunk-0899aa9593130ad1ff630a151a8a15de', 3, 4, 3)\",\"('diffraction_pattern-integrate_fourier_space-mean_chunk-0899aa9593130ad1ff630a151a8a15de', 3, 4, 5)\",\"('mean_chunk-0899aa9593130ad1ff630a151a8a15de', 3, 2, 4)\",\"('diffraction_pattern-integrate_fourier_space-mean_chunk-0899aa9593130ad1ff630a151a8a15de', 3, 4, 6)\",\"('mean_chunk-0899aa9593130ad1ff630a151a8a15de', 3, 2, 3)\",\"('mean_chunk-0899aa9593130ad1ff630a151a8a15de', 3, 3, 0)\",\"('mean_chunk-0899aa9593130ad1ff630a151a8a15de', 3, 2, 1)\",\"('diffraction_pattern-integrate_fourier_space-mean_chunk-0899aa9593130ad1ff630a151a8a15de', 3, 5, 0)\",\"('diffraction_pattern-integrate_fourier_space-mean_chunk-0899aa9593130ad1ff630a151a8a15de', 3, 5, 1)\",\"('diffraction_pattern-integrate_fourier_space-mean_chunk-0899aa9593130ad1ff630a151a8a15de', 3, 5, 2)\",\"('mean_chunk-0899aa9593130ad1ff630a151a8a15de', 3, 2, 5)\",\"('mean_chunk-0899aa9593130ad1ff630a151a8a15de', 3, 3, 2)\",\"('mean_chunk-0899aa9593130ad1ff630a151a8a15de', 3, 3, 1)\",\"('diffraction_pattern-integrate_fourier_space-mean_chunk-0899aa9593130ad1ff630a151a8a15de', 3, 5, 3)\",\"('mean_chunk-0899aa9593130ad1ff630a151a8a15de', 3, 3, 6)\",\"('diffraction_pattern-integrate_fourier_space-mean_chunk-0899aa9593130ad1ff630a151a8a15de', 3, 5, 4)\",\"('diffraction_pattern-integrate_fourier_space-mean_chunk-0899aa9593130ad1ff630a151a8a15de', 3, 5, 6)\",\"('mean_chunk-0899aa9593130ad1ff630a151a8a15de', 3, 4, 1)\",\"('diffraction_pattern-integrate_fourier_space-mean_chunk-0899aa9593130ad1ff630a151a8a15de', 3, 6, 0)\",\"('mean_chunk-0899aa9593130ad1ff630a151a8a15de', 3, 3, 4)\",\"('mean_chunk-0899aa9593130ad1ff630a151a8a15de', 3, 4, 0)\",\"('diffraction_pattern-integrate_fourier_space-mean_chunk-0899aa9593130ad1ff630a151a8a15de', 3, 6, 1)\",\"('diffraction_pattern-integrate_fourier_space-mean_chunk-0899aa9593130ad1ff630a151a8a15de', 3, 6, 2)\",\"('diffraction_pattern-integrate_fourier_space-mean_chunk-0899aa9593130ad1ff630a151a8a15de', 3, 6, 3)\",\"('mean_chunk-0899aa9593130ad1ff630a151a8a15de', 3, 3, 5)\",\"('mean_chunk-0899aa9593130ad1ff630a151a8a15de', 3, 2, 6)\",\"('diffraction_pattern-integrate_fourier_space-mean_chunk-0899aa9593130ad1ff630a151a8a15de', 3, 6, 4)\",\"('diffraction_pattern-integrate_fourier_space-mean_chunk-0899aa9593130ad1ff630a151a8a15de', 3, 6, 5)\",\"('mean_chunk-0899aa9593130ad1ff630a151a8a15de', 3, 4, 2)\",\"('diffraction_pattern-integrate_fourier_space-mean_chunk-0899aa9593130ad1ff630a151a8a15de', 2, 1, 1)\",\"('mean_chunk-0899aa9593130ad1ff630a151a8a15de', 3, 4, 6)\",\"('mean_chunk-0899aa9593130ad1ff630a151a8a15de', 3, 4, 5)\",\"('diffraction_pattern-integrate_fourier_space-mean_chunk-0899aa9593130ad1ff630a151a8a15de', 2, 2, 2)\",\"('diffraction_pattern-integrate_fourier_space-mean_chunk-0899aa9593130ad1ff630a151a8a15de', 2, 3, 3)\",\"('mean_chunk-0899aa9593130ad1ff630a151a8a15de', 3, 5, 0)\",\"('mean_chunk-0899aa9593130ad1ff630a151a8a15de', 3, 5, 1)\",\"('diffraction_pattern-integrate_fourier_space-mean_chunk-0899aa9593130ad1ff630a151a8a15de', 2, 4, 4)\",\"('diffraction_pattern-integrate_fourier_space-mean_chunk-0899aa9593130ad1ff630a151a8a15de', 2, 5, 5)\",\"('mean_chunk-0899aa9593130ad1ff630a151a8a15de', 3, 4, 3)\",\"('diffraction_pattern-integrate_fourier_space-mean_chunk-0899aa9593130ad1ff630a151a8a15de', 2, 6, 6)\",\"('mean_chunk-0899aa9593130ad1ff630a151a8a15de', 3, 5, 2)\",\"('diffraction_pattern-integrate_fourier_space-mean_chunk-0899aa9593130ad1ff630a151a8a15de', 2, 0, 1)\",\"('mean_chunk-0899aa9593130ad1ff630a151a8a15de', 3, 5, 4)\",\"('mean_chunk-0899aa9593130ad1ff630a151a8a15de', 3, 5, 6)\",\"('diffraction_pattern-integrate_fourier_space-mean_chunk-0899aa9593130ad1ff630a151a8a15de', 2, 0, 2)\",\"('diffraction_pattern-integrate_fourier_space-mean_chunk-0899aa9593130ad1ff630a151a8a15de', 2, 0, 3)\",\"('mean_chunk-0899aa9593130ad1ff630a151a8a15de', 3, 6, 1)\",\"('mean_chunk-0899aa9593130ad1ff630a151a8a15de', 3, 5, 3)\",\"('diffraction_pattern-integrate_fourier_space-mean_chunk-0899aa9593130ad1ff630a151a8a15de', 2, 0, 4)\",\"('diffraction_pattern-integrate_fourier_space-mean_chunk-0899aa9593130ad1ff630a151a8a15de', 2, 0, 5)\",\"('mean_chunk-0899aa9593130ad1ff630a151a8a15de', 3, 6, 3)\",\"('mean_chunk-0899aa9593130ad1ff630a151a8a15de', 3, 6, 4)\",\"('diffraction_pattern-integrate_fourier_space-mean_chunk-0899aa9593130ad1ff630a151a8a15de', 2, 0, 6)\",\"('diffraction_pattern-integrate_fourier_space-mean_chunk-0899aa9593130ad1ff630a151a8a15de', 2, 1, 0)\",\"('mean_chunk-0899aa9593130ad1ff630a151a8a15de', 3, 6, 0)\",\"('diffraction_pattern-integrate_fourier_space-mean_chunk-0899aa9593130ad1ff630a151a8a15de', 2, 1, 2)\",\"('mean_chunk-0899aa9593130ad1ff630a151a8a15de', 3, 6, 5)\",\"('diffraction_pattern-integrate_fourier_space-mean_chunk-0899aa9593130ad1ff630a151a8a15de', 2, 1, 3)\",\"('mean_chunk-0899aa9593130ad1ff630a151a8a15de', 3, 6, 2)\",\"('diffraction_pattern-integrate_fourier_space-mean_chunk-0899aa9593130ad1ff630a151a8a15de', 2, 1, 4)\",\"('mean_chunk-0899aa9593130ad1ff630a151a8a15de', 2, 1, 1)\",\"('mean_combine-partial-d1e106343e77b9c7fe9bc4e8c7908227', 1, 1, 1)\",\"('diffraction_pattern-integrate_fourier_space-mean_chunk-0899aa9593130ad1ff630a151a8a15de', 2, 1, 5)\",\"('mean_chunk-0899aa9593130ad1ff630a151a8a15de', 2, 2, 2)\",\"('mean_combine-partial-d1e106343e77b9c7fe9bc4e8c7908227', 1, 2, 2)\",\"('diffraction_pattern-integrate_fourier_space-mean_chunk-0899aa9593130ad1ff630a151a8a15de', 2, 1, 6)\",\"('mean_chunk-0899aa9593130ad1ff630a151a8a15de', 2, 3, 3)\",\"('mean_combine-partial-d1e106343e77b9c7fe9bc4e8c7908227', 1, 3, 3)\",\"('diffraction_pattern-integrate_fourier_space-mean_chunk-0899aa9593130ad1ff630a151a8a15de', 2, 2, 0)\",\"('mean_chunk-0899aa9593130ad1ff630a151a8a15de', 2, 0, 1)\",\"('mean_chunk-0899aa9593130ad1ff630a151a8a15de', 2, 6, 6)\",\"('mean_combine-partial-d1e106343e77b9c7fe9bc4e8c7908227', 1, 0, 1)\",\"('mean_chunk-0899aa9593130ad1ff630a151a8a15de', 2, 5, 5)\",\"('mean_combine-partial-d1e106343e77b9c7fe9bc4e8c7908227', 1, 6, 6)\",\"('mean_chunk-0899aa9593130ad1ff630a151a8a15de', 2, 4, 4)\",\"('diffraction_pattern-integrate_fourier_space-mean_chunk-0899aa9593130ad1ff630a151a8a15de', 2, 2, 1)\",\"('mean_chunk-0899aa9593130ad1ff630a151a8a15de', 2, 0, 2)\",\"('mean_combine-partial-d1e106343e77b9c7fe9bc4e8c7908227', 1, 5, 5)\",\"('mean_combine-partial-d1e106343e77b9c7fe9bc4e8c7908227', 1, 4, 4)\",\"('diffraction_pattern-integrate_fourier_space-mean_chunk-0899aa9593130ad1ff630a151a8a15de', 2, 2, 3)\",\"('mean_combine-partial-d1e106343e77b9c7fe9bc4e8c7908227', 1, 0, 2)\",\"('mean_chunk-0899aa9593130ad1ff630a151a8a15de', 2, 0, 4)\",\"('mean_chunk-0899aa9593130ad1ff630a151a8a15de', 2, 0, 3)\",\"('diffraction_pattern-integrate_fourier_space-mean_chunk-0899aa9593130ad1ff630a151a8a15de', 2, 2, 4)\",\"('diffraction_pattern-integrate_fourier_space-mean_chunk-0899aa9593130ad1ff630a151a8a15de', 2, 2, 5)\",\"('diffraction_pattern-integrate_fourier_space-mean_chunk-0899aa9593130ad1ff630a151a8a15de', 2, 2, 6)\",\"('mean_combine-partial-d1e106343e77b9c7fe9bc4e8c7908227', 1, 0, 4)\",\"('mean_chunk-0899aa9593130ad1ff630a151a8a15de', 2, 1, 0)\",\"('mean_combine-partial-d1e106343e77b9c7fe9bc4e8c7908227', 1, 0, 3)\",\"('mean_combine-partial-d1e106343e77b9c7fe9bc4e8c7908227', 1, 1, 0)\",\"('diffraction_pattern-integrate_fourier_space-mean_chunk-0899aa9593130ad1ff630a151a8a15de', 2, 3, 0)\",\"('diffraction_pattern-integrate_fourier_space-mean_chunk-0899aa9593130ad1ff630a151a8a15de', 2, 3, 1)\",\"('diffraction_pattern-integrate_fourier_space-mean_chunk-0899aa9593130ad1ff630a151a8a15de', 2, 3, 2)\",\"('mean_chunk-0899aa9593130ad1ff630a151a8a15de', 2, 1, 2)\",\"('mean_chunk-0899aa9593130ad1ff630a151a8a15de', 2, 1, 3)\",\"('mean_chunk-0899aa9593130ad1ff630a151a8a15de', 2, 0, 5)\",\"('mean_chunk-0899aa9593130ad1ff630a151a8a15de', 2, 0, 6)\",\"('mean_combine-partial-d1e106343e77b9c7fe9bc4e8c7908227', 1, 1, 2)\",\"('mean_combine-partial-d1e106343e77b9c7fe9bc4e8c7908227', 1, 1, 3)\",\"('mean_combine-partial-d1e106343e77b9c7fe9bc4e8c7908227', 1, 0, 5)\",\"('mean_combine-partial-d1e106343e77b9c7fe9bc4e8c7908227', 1, 0, 6)\",\"('diffraction_pattern-integrate_fourier_space-mean_chunk-0899aa9593130ad1ff630a151a8a15de', 2, 3, 4)\",\"('diffraction_pattern-integrate_fourier_space-mean_chunk-0899aa9593130ad1ff630a151a8a15de', 2, 3, 5)\",\"('diffraction_pattern-integrate_fourier_space-mean_chunk-0899aa9593130ad1ff630a151a8a15de', 2, 3, 6)\",\"('diffraction_pattern-integrate_fourier_space-mean_chunk-0899aa9593130ad1ff630a151a8a15de', 2, 4, 0)\",\"('mean_chunk-0899aa9593130ad1ff630a151a8a15de', 2, 1, 4)\",\"('mean_combine-partial-d1e106343e77b9c7fe9bc4e8c7908227', 1, 1, 4)\",\"('diffraction_pattern-integrate_fourier_space-mean_chunk-0899aa9593130ad1ff630a151a8a15de', 2, 4, 1)\",\"('mean_chunk-0899aa9593130ad1ff630a151a8a15de', 2, 1, 6)\",\"('mean_combine-partial-d1e106343e77b9c7fe9bc4e8c7908227', 1, 1, 6)\",\"('diffraction_pattern-integrate_fourier_space-mean_chunk-0899aa9593130ad1ff630a151a8a15de', 2, 4, 2)\",\"('mean_chunk-0899aa9593130ad1ff630a151a8a15de', 2, 1, 5)\",\"('mean_combine-partial-d1e106343e77b9c7fe9bc4e8c7908227', 1, 1, 5)\",\"('diffraction_pattern-integrate_fourier_space-mean_chunk-0899aa9593130ad1ff630a151a8a15de', 2, 4, 3)\",\"('mean_chunk-0899aa9593130ad1ff630a151a8a15de', 2, 2, 0)\",\"('mean_combine-partial-d1e106343e77b9c7fe9bc4e8c7908227', 1, 2, 0)\",\"('diffraction_pattern-integrate_fourier_space-mean_chunk-0899aa9593130ad1ff630a151a8a15de', 2, 4, 5)\",\"('mean_chunk-0899aa9593130ad1ff630a151a8a15de', 2, 2, 1)\",\"('mean_combine-partial-d1e106343e77b9c7fe9bc4e8c7908227', 1, 2, 1)\",\"('diffraction_pattern-integrate_fourier_space-mean_chunk-0899aa9593130ad1ff630a151a8a15de', 2, 4, 6)\",\"('mean_chunk-0899aa9593130ad1ff630a151a8a15de', 2, 2, 5)\",\"('mean_chunk-0899aa9593130ad1ff630a151a8a15de', 2, 2, 4)\",\"('mean_combine-partial-d1e106343e77b9c7fe9bc4e8c7908227', 1, 2, 5)\",\"('mean_combine-partial-d1e106343e77b9c7fe9bc4e8c7908227', 1, 2, 4)\",\"('mean_chunk-0899aa9593130ad1ff630a151a8a15de', 2, 3, 2)\",\"('mean_chunk-0899aa9593130ad1ff630a151a8a15de', 2, 2, 6)\",\"('mean_chunk-0899aa9593130ad1ff630a151a8a15de', 2, 3, 0)\",\"('diffraction_pattern-integrate_fourier_space-mean_chunk-0899aa9593130ad1ff630a151a8a15de', 2, 5, 0)\",\"('mean_combine-partial-d1e106343e77b9c7fe9bc4e8c7908227', 1, 3, 2)\",\"('diffraction_pattern-integrate_fourier_space-mean_chunk-0899aa9593130ad1ff630a151a8a15de', 2, 5, 1)\",\"('mean_chunk-0899aa9593130ad1ff630a151a8a15de', 2, 2, 3)\",\"('mean_chunk-0899aa9593130ad1ff630a151a8a15de', 2, 3, 1)\",\"('mean_combine-partial-d1e106343e77b9c7fe9bc4e8c7908227', 1, 2, 6)\",\"('mean_combine-partial-d1e106343e77b9c7fe9bc4e8c7908227', 1, 3, 0)\",\"('diffraction_pattern-integrate_fourier_space-mean_chunk-0899aa9593130ad1ff630a151a8a15de', 2, 5, 2)\",\"('mean_combine-partial-d1e106343e77b9c7fe9bc4e8c7908227', 1, 2, 3)\",\"('mean_combine-partial-d1e106343e77b9c7fe9bc4e8c7908227', 1, 3, 1)\",\"('mean_chunk-0899aa9593130ad1ff630a151a8a15de', 2, 3, 4)\",\"('mean_chunk-0899aa9593130ad1ff630a151a8a15de', 2, 3, 5)\",\"('diffraction_pattern-integrate_fourier_space-mean_chunk-0899aa9593130ad1ff630a151a8a15de', 2, 5, 3)\",\"('diffraction_pattern-integrate_fourier_space-mean_chunk-0899aa9593130ad1ff630a151a8a15de', 2, 5, 4)\",\"('diffraction_pattern-integrate_fourier_space-mean_chunk-0899aa9593130ad1ff630a151a8a15de', 2, 5, 6)\",\"('diffraction_pattern-integrate_fourier_space-mean_chunk-0899aa9593130ad1ff630a151a8a15de', 2, 6, 0)\",\"('mean_combine-partial-d1e106343e77b9c7fe9bc4e8c7908227', 1, 3, 4)\",\"('mean_chunk-0899aa9593130ad1ff630a151a8a15de', 2, 4, 1)\",\"('mean_combine-partial-d1e106343e77b9c7fe9bc4e8c7908227', 1, 3, 5)\",\"('diffraction_pattern-integrate_fourier_space-mean_chunk-0899aa9593130ad1ff630a151a8a15de', 2, 6, 1)\",\"('mean_combine-partial-d1e106343e77b9c7fe9bc4e8c7908227', 1, 4, 1)\",\"('diffraction_pattern-integrate_fourier_space-mean_chunk-0899aa9593130ad1ff630a151a8a15de', 2, 6, 2)\",\"('diffraction_pattern-integrate_fourier_space-mean_chunk-0899aa9593130ad1ff630a151a8a15de', 2, 6, 3)\",\"('mean_chunk-0899aa9593130ad1ff630a151a8a15de', 2, 4, 0)\",\"('mean_chunk-0899aa9593130ad1ff630a151a8a15de', 2, 3, 6)\",\"('mean_combine-partial-d1e106343e77b9c7fe9bc4e8c7908227', 1, 4, 0)\",\"('mean_combine-partial-d1e106343e77b9c7fe9bc4e8c7908227', 1, 3, 6)\",\"('diffraction_pattern-integrate_fourier_space-mean_chunk-0899aa9593130ad1ff630a151a8a15de', 2, 6, 4)\",\"('diffraction_pattern-integrate_fourier_space-mean_chunk-0899aa9593130ad1ff630a151a8a15de', 2, 6, 5)\",\"('mean_chunk-0899aa9593130ad1ff630a151a8a15de', 2, 4, 2)\",\"('mean_combine-partial-d1e106343e77b9c7fe9bc4e8c7908227', 1, 4, 2)\",\"('diffraction_pattern-integrate_fourier_space-mean_chunk-0899aa9593130ad1ff630a151a8a15de', 0, 1, 1)\",\"('mean_chunk-0899aa9593130ad1ff630a151a8a15de', 2, 4, 3)\",\"('mean_combine-partial-d1e106343e77b9c7fe9bc4e8c7908227', 1, 4, 3)\",\"('diffraction_pattern-integrate_fourier_space-mean_chunk-0899aa9593130ad1ff630a151a8a15de', 0, 2, 2)\",\"('mean_chunk-0899aa9593130ad1ff630a151a8a15de', 2, 4, 5)\",\"('mean_combine-partial-d1e106343e77b9c7fe9bc4e8c7908227', 1, 4, 5)\",\"('diffraction_pattern-integrate_fourier_space-mean_chunk-0899aa9593130ad1ff630a151a8a15de', 0, 3, 3)\",\"('mean_chunk-0899aa9593130ad1ff630a151a8a15de', 2, 4, 6)\",\"('mean_combine-partial-d1e106343e77b9c7fe9bc4e8c7908227', 1, 4, 6)\",\"('diffraction_pattern-integrate_fourier_space-mean_chunk-0899aa9593130ad1ff630a151a8a15de', 0, 4, 4)\",\"('mean_chunk-0899aa9593130ad1ff630a151a8a15de', 2, 5, 1)\",\"('mean_combine-partial-d1e106343e77b9c7fe9bc4e8c7908227', 1, 5, 1)\",\"('diffraction_pattern-integrate_fourier_space-mean_chunk-0899aa9593130ad1ff630a151a8a15de', 0, 5, 5)\",\"('mean_chunk-0899aa9593130ad1ff630a151a8a15de', 2, 6, 0)\",\"('mean_chunk-0899aa9593130ad1ff630a151a8a15de', 2, 5, 3)\",\"('mean_chunk-0899aa9593130ad1ff630a151a8a15de', 2, 5, 2)\",\"('mean_combine-partial-d1e106343e77b9c7fe9bc4e8c7908227', 1, 6, 0)\",\"('mean_combine-partial-d1e106343e77b9c7fe9bc4e8c7908227', 1, 5, 3)\",\"('mean_combine-partial-d1e106343e77b9c7fe9bc4e8c7908227', 1, 5, 2)\",\"('diffraction_pattern-integrate_fourier_space-mean_chunk-0899aa9593130ad1ff630a151a8a15de', 0, 6, 6)\",\"('diffraction_pattern-integrate_fourier_space-mean_chunk-0899aa9593130ad1ff630a151a8a15de', 0, 0, 1)\",\"('diffraction_pattern-integrate_fourier_space-mean_chunk-0899aa9593130ad1ff630a151a8a15de', 0, 0, 2)\",\"('mean_chunk-0899aa9593130ad1ff630a151a8a15de', 2, 5, 6)\",\"('mean_combine-partial-d1e106343e77b9c7fe9bc4e8c7908227', 1, 5, 6)\",\"('diffraction_pattern-integrate_fourier_space-mean_chunk-0899aa9593130ad1ff630a151a8a15de', 0, 0, 3)\",\"('mean_chunk-0899aa9593130ad1ff630a151a8a15de', 2, 5, 0)\",\"('mean_chunk-0899aa9593130ad1ff630a151a8a15de', 2, 5, 4)\",\"('mean_combine-partial-d1e106343e77b9c7fe9bc4e8c7908227', 1, 5, 0)\",\"('mean_combine-partial-d1e106343e77b9c7fe9bc4e8c7908227', 1, 5, 4)\",\"('diffraction_pattern-integrate_fourier_space-mean_chunk-0899aa9593130ad1ff630a151a8a15de', 0, 0, 4)\",\"('mean_chunk-0899aa9593130ad1ff630a151a8a15de', 2, 6, 1)\",\"('mean_chunk-0899aa9593130ad1ff630a151a8a15de', 2, 6, 4)\",\"('mean_chunk-0899aa9593130ad1ff630a151a8a15de', 2, 6, 3)\",\"('diffraction_pattern-integrate_fourier_space-mean_chunk-0899aa9593130ad1ff630a151a8a15de', 0, 0, 5)\",\"('mean_chunk-0899aa9593130ad1ff630a151a8a15de', 2, 6, 2)\",\"('mean_chunk-0899aa9593130ad1ff630a151a8a15de', 2, 6, 5)\",\"('mean_combine-partial-d1e106343e77b9c7fe9bc4e8c7908227', 1, 6, 1)\",\"('mean_combine-partial-d1e106343e77b9c7fe9bc4e8c7908227', 1, 6, 4)\",\"('mean_combine-partial-d1e106343e77b9c7fe9bc4e8c7908227', 1, 6, 3)\",\"('mean_combine-partial-d1e106343e77b9c7fe9bc4e8c7908227', 1, 6, 2)\",\"('mean_combine-partial-d1e106343e77b9c7fe9bc4e8c7908227', 1, 6, 5)\",\"('diffraction_pattern-integrate_fourier_space-mean_chunk-0899aa9593130ad1ff630a151a8a15de', 0, 0, 6)\",\"('diffraction_pattern-integrate_fourier_space-mean_chunk-0899aa9593130ad1ff630a151a8a15de', 0, 1, 0)\",\"('diffraction_pattern-integrate_fourier_space-mean_chunk-0899aa9593130ad1ff630a151a8a15de', 0, 1, 2)\",\"('diffraction_pattern-integrate_fourier_space-mean_chunk-0899aa9593130ad1ff630a151a8a15de', 0, 1, 3)\",\"('diffraction_pattern-integrate_fourier_space-mean_chunk-0899aa9593130ad1ff630a151a8a15de', 0, 1, 4)\",\"('mean_chunk-0899aa9593130ad1ff630a151a8a15de', 0, 1, 1)\",\"('mean_combine-partial-d1e106343e77b9c7fe9bc4e8c7908227', 0, 1, 1)\",\"('mean_agg-aggregate-2f6b9426d0f4e6eb459c3bb2d05c2d81', 1, 1)\",\"('diffraction_pattern-integrate_fourier_space-mean_chunk-0899aa9593130ad1ff630a151a8a15de', 0, 1, 5)\",\"('mean_chunk-0899aa9593130ad1ff630a151a8a15de', 0, 2, 2)\",\"('mean_combine-partial-d1e106343e77b9c7fe9bc4e8c7908227', 0, 2, 2)\",\"('mean_agg-aggregate-2f6b9426d0f4e6eb459c3bb2d05c2d81', 2, 2)\",\"('diffraction_pattern-integrate_fourier_space-mean_chunk-0899aa9593130ad1ff630a151a8a15de', 0, 1, 6)\",\"('mean_chunk-0899aa9593130ad1ff630a151a8a15de', 0, 3, 3)\",\"('mean_combine-partial-d1e106343e77b9c7fe9bc4e8c7908227', 0, 3, 3)\",\"('mean_agg-aggregate-2f6b9426d0f4e6eb459c3bb2d05c2d81', 3, 3)\",\"('diffraction_pattern-integrate_fourier_space-mean_chunk-0899aa9593130ad1ff630a151a8a15de', 0, 2, 0)\",\"('mean_chunk-0899aa9593130ad1ff630a151a8a15de', 0, 4, 4)\",\"('mean_chunk-0899aa9593130ad1ff630a151a8a15de', 0, 5, 5)\",\"('mean_combine-partial-d1e106343e77b9c7fe9bc4e8c7908227', 0, 4, 4)\",\"('mean_combine-partial-d1e106343e77b9c7fe9bc4e8c7908227', 0, 5, 5)\",\"('mean_agg-aggregate-2f6b9426d0f4e6eb459c3bb2d05c2d81', 4, 4)\",\"('diffraction_pattern-integrate_fourier_space-mean_chunk-0899aa9593130ad1ff630a151a8a15de', 0, 2, 1)\",\"('mean_agg-aggregate-2f6b9426d0f4e6eb459c3bb2d05c2d81', 5, 5)\",\"('diffraction_pattern-integrate_fourier_space-mean_chunk-0899aa9593130ad1ff630a151a8a15de', 0, 2, 3)\",\"('mean_chunk-0899aa9593130ad1ff630a151a8a15de', 0, 6, 6)\",\"('mean_chunk-0899aa9593130ad1ff630a151a8a15de', 0, 0, 3)\",\"('mean_combine-partial-d1e106343e77b9c7fe9bc4e8c7908227', 0, 6, 6)\",\"('mean_combine-partial-d1e106343e77b9c7fe9bc4e8c7908227', 0, 0, 3)\",\"('mean_chunk-0899aa9593130ad1ff630a151a8a15de', 0, 0, 1)\",\"('mean_agg-aggregate-2f6b9426d0f4e6eb459c3bb2d05c2d81', 6, 6)\",\"('mean_agg-aggregate-2f6b9426d0f4e6eb459c3bb2d05c2d81', 0, 3)\",\"('mean_combine-partial-d1e106343e77b9c7fe9bc4e8c7908227', 0, 0, 1)\",\"('diffraction_pattern-integrate_fourier_space-mean_chunk-0899aa9593130ad1ff630a151a8a15de', 0, 2, 4)\",\"('mean_agg-aggregate-2f6b9426d0f4e6eb459c3bb2d05c2d81', 0, 1)\",\"('mean_chunk-0899aa9593130ad1ff630a151a8a15de', 0, 0, 5)\",\"('mean_chunk-0899aa9593130ad1ff630a151a8a15de', 0, 0, 2)\",\"('diffraction_pattern-integrate_fourier_space-mean_chunk-0899aa9593130ad1ff630a151a8a15de', 0, 2, 5)\",\"('mean_chunk-0899aa9593130ad1ff630a151a8a15de', 0, 0, 4)\",\"('diffraction_pattern-integrate_fourier_space-mean_chunk-0899aa9593130ad1ff630a151a8a15de', 0, 2, 6)\",\"('mean_combine-partial-d1e106343e77b9c7fe9bc4e8c7908227', 0, 0, 5)\",\"('mean_combine-partial-d1e106343e77b9c7fe9bc4e8c7908227', 0, 0, 2)\",\"('mean_combine-partial-d1e106343e77b9c7fe9bc4e8c7908227', 0, 0, 4)\",\"('mean_agg-aggregate-2f6b9426d0f4e6eb459c3bb2d05c2d81', 0, 5)\",\"('mean_agg-aggregate-2f6b9426d0f4e6eb459c3bb2d05c2d81', 0, 2)\",\"('mean_agg-aggregate-2f6b9426d0f4e6eb459c3bb2d05c2d81', 0, 4)\",\"('diffraction_pattern-integrate_fourier_space-mean_chunk-0899aa9593130ad1ff630a151a8a15de', 0, 3, 0)\",\"('diffraction_pattern-integrate_fourier_space-mean_chunk-0899aa9593130ad1ff630a151a8a15de', 0, 3, 1)\",\"('diffraction_pattern-integrate_fourier_space-mean_chunk-0899aa9593130ad1ff630a151a8a15de', 0, 3, 2)\",\"('mean_chunk-0899aa9593130ad1ff630a151a8a15de', 0, 1, 4)\",\"('mean_chunk-0899aa9593130ad1ff630a151a8a15de', 0, 1, 3)\",\"('mean_chunk-0899aa9593130ad1ff630a151a8a15de', 0, 1, 0)\",\"('mean_chunk-0899aa9593130ad1ff630a151a8a15de', 0, 0, 6)\",\"('diffraction_pattern-integrate_fourier_space-mean_chunk-0899aa9593130ad1ff630a151a8a15de', 0, 3, 4)\",\"('diffraction_pattern-integrate_fourier_space-mean_chunk-0899aa9593130ad1ff630a151a8a15de', 0, 3, 5)\",\"('mean_chunk-0899aa9593130ad1ff630a151a8a15de', 0, 1, 2)\",\"('diffraction_pattern-integrate_fourier_space-mean_chunk-0899aa9593130ad1ff630a151a8a15de', 0, 3, 6)\",\"('mean_combine-partial-d1e106343e77b9c7fe9bc4e8c7908227', 0, 0, 6)\",\"('diffraction_pattern-integrate_fourier_space-mean_chunk-0899aa9593130ad1ff630a151a8a15de', 0, 4, 0)\",\"('mean_agg-aggregate-2f6b9426d0f4e6eb459c3bb2d05c2d81', 0, 6)\",\"('diffraction_pattern-integrate_fourier_space-mean_chunk-0899aa9593130ad1ff630a151a8a15de', 0, 4, 1)\",\"('mean_chunk-0899aa9593130ad1ff630a151a8a15de', 0, 1, 5)\",\"('diffraction_pattern-integrate_fourier_space-mean_chunk-0899aa9593130ad1ff630a151a8a15de', 0, 4, 2)\",\"('mean_chunk-0899aa9593130ad1ff630a151a8a15de', 0, 1, 6)\",\"('diffraction_pattern-integrate_fourier_space-mean_chunk-0899aa9593130ad1ff630a151a8a15de', 0, 4, 3)\",\"('mean_chunk-0899aa9593130ad1ff630a151a8a15de', 0, 2, 0)\",\"('diffraction_pattern-integrate_fourier_space-mean_chunk-0899aa9593130ad1ff630a151a8a15de', 0, 4, 5)\",\"('mean_chunk-0899aa9593130ad1ff630a151a8a15de', 0, 2, 3)\",\"('diffraction_pattern-integrate_fourier_space-mean_chunk-0899aa9593130ad1ff630a151a8a15de', 0, 4, 6)\",\"('mean_chunk-0899aa9593130ad1ff630a151a8a15de', 0, 2, 1)\",\"('diffraction_pattern-integrate_fourier_space-mean_chunk-0899aa9593130ad1ff630a151a8a15de', 0, 5, 0)\",\"('mean_chunk-0899aa9593130ad1ff630a151a8a15de', 0, 2, 5)\",\"('diffraction_pattern-integrate_fourier_space-mean_chunk-0899aa9593130ad1ff630a151a8a15de', 0, 5, 1)\",\"('mean_chunk-0899aa9593130ad1ff630a151a8a15de', 0, 2, 6)\",\"('mean_chunk-0899aa9593130ad1ff630a151a8a15de', 0, 2, 4)\",\"('diffraction_pattern-integrate_fourier_space-mean_chunk-0899aa9593130ad1ff630a151a8a15de', 0, 5, 2)\",\"('diffraction_pattern-integrate_fourier_space-mean_chunk-0899aa9593130ad1ff630a151a8a15de', 0, 5, 3)\",\"('mean_chunk-0899aa9593130ad1ff630a151a8a15de', 0, 3, 0)\",\"('mean_chunk-0899aa9593130ad1ff630a151a8a15de', 0, 3, 6)\",\"('diffraction_pattern-integrate_fourier_space-mean_chunk-0899aa9593130ad1ff630a151a8a15de', 0, 5, 4)\",\"('mean_chunk-0899aa9593130ad1ff630a151a8a15de', 0, 3, 1)\",\"('mean_chunk-0899aa9593130ad1ff630a151a8a15de', 0, 4, 1)\",\"('diffraction_pattern-integrate_fourier_space-mean_chunk-0899aa9593130ad1ff630a151a8a15de', 0, 5, 6)\",\"('mean_chunk-0899aa9593130ad1ff630a151a8a15de', 0, 3, 2)\",\"('mean_chunk-0899aa9593130ad1ff630a151a8a15de', 0, 3, 5)\",\"('mean_chunk-0899aa9593130ad1ff630a151a8a15de', 0, 3, 4)\",\"('diffraction_pattern-integrate_fourier_space-mean_chunk-0899aa9593130ad1ff630a151a8a15de', 0, 6, 0)\",\"('diffraction_pattern-integrate_fourier_space-mean_chunk-0899aa9593130ad1ff630a151a8a15de', 0, 6, 1)\",\"('diffraction_pattern-integrate_fourier_space-mean_chunk-0899aa9593130ad1ff630a151a8a15de', 0, 6, 2)\",\"('diffraction_pattern-integrate_fourier_space-mean_chunk-0899aa9593130ad1ff630a151a8a15de', 0, 6, 3)\",\"('diffraction_pattern-integrate_fourier_space-mean_chunk-0899aa9593130ad1ff630a151a8a15de', 0, 6, 4)\",\"('mean_chunk-0899aa9593130ad1ff630a151a8a15de', 0, 4, 0)\",\"('diffraction_pattern-integrate_fourier_space-mean_chunk-0899aa9593130ad1ff630a151a8a15de', 0, 6, 5)\",\"('mean_chunk-0899aa9593130ad1ff630a151a8a15de', 0, 4, 2)\",\"('diffraction_pattern-integrate_fourier_space-mean_chunk-0899aa9593130ad1ff630a151a8a15de', 1, 1, 0)\",\"('mean_chunk-0899aa9593130ad1ff630a151a8a15de', 0, 4, 3)\",\"('diffraction_pattern-integrate_fourier_space-mean_chunk-0899aa9593130ad1ff630a151a8a15de', 1, 1, 2)\",\"('mean_chunk-0899aa9593130ad1ff630a151a8a15de', 0, 4, 5)\",\"('diffraction_pattern-integrate_fourier_space-mean_chunk-0899aa9593130ad1ff630a151a8a15de', 1, 1, 3)\",\"('mean_chunk-0899aa9593130ad1ff630a151a8a15de', 0, 4, 6)\",\"('diffraction_pattern-integrate_fourier_space-mean_chunk-0899aa9593130ad1ff630a151a8a15de', 1, 1, 4)\",\"('mean_chunk-0899aa9593130ad1ff630a151a8a15de', 0, 5, 0)\",\"('diffraction_pattern-integrate_fourier_space-mean_chunk-0899aa9593130ad1ff630a151a8a15de', 1, 1, 5)\",\"('mean_chunk-0899aa9593130ad1ff630a151a8a15de', 0, 5, 2)\",\"('diffraction_pattern-integrate_fourier_space-mean_chunk-0899aa9593130ad1ff630a151a8a15de', 1, 1, 6)\",\"('mean_chunk-0899aa9593130ad1ff630a151a8a15de', 0, 5, 3)\",\"('diffraction_pattern-integrate_fourier_space-mean_chunk-0899aa9593130ad1ff630a151a8a15de', 1, 2, 0)\",\"('mean_chunk-0899aa9593130ad1ff630a151a8a15de', 0, 5, 1)\",\"('diffraction_pattern-integrate_fourier_space-mean_chunk-0899aa9593130ad1ff630a151a8a15de', 1, 2, 1)\",\"('mean_chunk-0899aa9593130ad1ff630a151a8a15de', 0, 5, 6)\",\"('mean_chunk-0899aa9593130ad1ff630a151a8a15de', 0, 6, 0)\",\"('mean_chunk-0899aa9593130ad1ff630a151a8a15de', 0, 6, 4)\",\"('mean_chunk-0899aa9593130ad1ff630a151a8a15de', 0, 6, 3)\",\"('diffraction_pattern-integrate_fourier_space-mean_chunk-0899aa9593130ad1ff630a151a8a15de', 1, 2, 3)\",\"('diffraction_pattern-integrate_fourier_space-mean_chunk-0899aa9593130ad1ff630a151a8a15de', 1, 2, 4)\",\"('diffraction_pattern-integrate_fourier_space-mean_chunk-0899aa9593130ad1ff630a151a8a15de', 1, 2, 5)\",\"('mean_chunk-0899aa9593130ad1ff630a151a8a15de', 0, 5, 4)\",\"('diffraction_pattern-integrate_fourier_space-mean_chunk-0899aa9593130ad1ff630a151a8a15de', 1, 2, 6)\",\"('mean_chunk-0899aa9593130ad1ff630a151a8a15de', 0, 6, 1)\",\"('diffraction_pattern-integrate_fourier_space-mean_chunk-0899aa9593130ad1ff630a151a8a15de', 1, 3, 0)\",\"('mean_chunk-0899aa9593130ad1ff630a151a8a15de', 0, 6, 2)\",\"('diffraction_pattern-integrate_fourier_space-mean_chunk-0899aa9593130ad1ff630a151a8a15de', 1, 3, 1)\",\"('diffraction_pattern-integrate_fourier_space-mean_chunk-0899aa9593130ad1ff630a151a8a15de', 1, 3, 2)\",\"('mean_chunk-0899aa9593130ad1ff630a151a8a15de', 0, 6, 5)\",\"('diffraction_pattern-integrate_fourier_space-mean_chunk-0899aa9593130ad1ff630a151a8a15de', 1, 3, 4)\",\"('mean_chunk-0899aa9593130ad1ff630a151a8a15de', 1, 1, 0)\",\"('mean_combine-partial-d1e106343e77b9c7fe9bc4e8c7908227', 0, 1, 0)\",\"('mean_agg-aggregate-2f6b9426d0f4e6eb459c3bb2d05c2d81', 1, 0)\",\"('diffraction_pattern-integrate_fourier_space-mean_chunk-0899aa9593130ad1ff630a151a8a15de', 1, 3, 5)\",\"('mean_chunk-0899aa9593130ad1ff630a151a8a15de', 1, 1, 2)\",\"('mean_combine-partial-d1e106343e77b9c7fe9bc4e8c7908227', 0, 1, 2)\",\"('mean_agg-aggregate-2f6b9426d0f4e6eb459c3bb2d05c2d81', 1, 2)\",\"('diffraction_pattern-integrate_fourier_space-mean_chunk-0899aa9593130ad1ff630a151a8a15de', 1, 3, 6)\",\"('mean_chunk-0899aa9593130ad1ff630a151a8a15de', 1, 1, 4)\",\"('mean_chunk-0899aa9593130ad1ff630a151a8a15de', 1, 1, 3)\",\"('mean_combine-partial-d1e106343e77b9c7fe9bc4e8c7908227', 0, 1, 4)\",\"('mean_combine-partial-d1e106343e77b9c7fe9bc4e8c7908227', 0, 1, 3)\",\"('mean_chunk-0899aa9593130ad1ff630a151a8a15de', 1, 2, 0)\",\"('mean_agg-aggregate-2f6b9426d0f4e6eb459c3bb2d05c2d81', 1, 4)\",\"('mean_agg-aggregate-2f6b9426d0f4e6eb459c3bb2d05c2d81', 1, 3)\",\"('mean_combine-partial-d1e106343e77b9c7fe9bc4e8c7908227', 0, 2, 0)\",\"('mean_chunk-0899aa9593130ad1ff630a151a8a15de', 1, 1, 5)\",\"('diffraction_pattern-integrate_fourier_space-mean_chunk-0899aa9593130ad1ff630a151a8a15de', 1, 4, 0)\",\"('diffraction_pattern-integrate_fourier_space-mean_chunk-0899aa9593130ad1ff630a151a8a15de', 1, 4, 1)\",\"('mean_agg-aggregate-2f6b9426d0f4e6eb459c3bb2d05c2d81', 2, 0)\",\"('mean_combine-partial-d1e106343e77b9c7fe9bc4e8c7908227', 0, 1, 5)\",\"('diffraction_pattern-integrate_fourier_space-mean_chunk-0899aa9593130ad1ff630a151a8a15de', 1, 4, 2)\",\"('mean_chunk-0899aa9593130ad1ff630a151a8a15de', 1, 1, 6)\",\"('mean_agg-aggregate-2f6b9426d0f4e6eb459c3bb2d05c2d81', 1, 5)\",\"('mean_combine-partial-d1e106343e77b9c7fe9bc4e8c7908227', 0, 1, 6)\",\"('mean_chunk-0899aa9593130ad1ff630a151a8a15de', 1, 2, 1)\",\"('diffraction_pattern-integrate_fourier_space-mean_chunk-0899aa9593130ad1ff630a151a8a15de', 1, 4, 3)\",\"('mean_agg-aggregate-2f6b9426d0f4e6eb459c3bb2d05c2d81', 1, 6)\",\"('mean_combine-partial-d1e106343e77b9c7fe9bc4e8c7908227', 0, 2, 1)\",\"('diffraction_pattern-integrate_fourier_space-mean_chunk-0899aa9593130ad1ff630a151a8a15de', 1, 4, 5)\",\"('mean_agg-aggregate-2f6b9426d0f4e6eb459c3bb2d05c2d81', 2, 1)\",\"('diffraction_pattern-integrate_fourier_space-mean_chunk-0899aa9593130ad1ff630a151a8a15de', 1, 4, 6)\",\"('mean_chunk-0899aa9593130ad1ff630a151a8a15de', 1, 2, 6)\",\"('mean_combine-partial-d1e106343e77b9c7fe9bc4e8c7908227', 0, 2, 6)\",\"('mean_chunk-0899aa9593130ad1ff630a151a8a15de', 1, 3, 0)\",\"('mean_chunk-0899aa9593130ad1ff630a151a8a15de', 1, 3, 1)\",\"('mean_agg-aggregate-2f6b9426d0f4e6eb459c3bb2d05c2d81', 2, 6)\",\"('mean_combine-partial-d1e106343e77b9c7fe9bc4e8c7908227', 0, 3, 0)\",\"('mean_combine-partial-d1e106343e77b9c7fe9bc4e8c7908227', 0, 3, 1)\",\"('diffraction_pattern-integrate_fourier_space-mean_chunk-0899aa9593130ad1ff630a151a8a15de', 1, 5, 0)\",\"('mean_chunk-0899aa9593130ad1ff630a151a8a15de', 1, 2, 3)\",\"('mean_chunk-0899aa9593130ad1ff630a151a8a15de', 1, 2, 4)\",\"('mean_agg-aggregate-2f6b9426d0f4e6eb459c3bb2d05c2d81', 3, 0)\",\"('mean_agg-aggregate-2f6b9426d0f4e6eb459c3bb2d05c2d81', 3, 1)\",\"('mean_chunk-0899aa9593130ad1ff630a151a8a15de', 1, 2, 5)\",\"('mean_combine-partial-d1e106343e77b9c7fe9bc4e8c7908227', 0, 2, 3)\",\"('mean_combine-partial-d1e106343e77b9c7fe9bc4e8c7908227', 0, 2, 4)\",\"('mean_chunk-0899aa9593130ad1ff630a151a8a15de', 1, 3, 4)\",\"('diffraction_pattern-integrate_fourier_space-mean_chunk-0899aa9593130ad1ff630a151a8a15de', 1, 5, 1)\",\"('diffraction_pattern-integrate_fourier_space-mean_chunk-0899aa9593130ad1ff630a151a8a15de', 1, 5, 2)\",\"('mean_combine-partial-d1e106343e77b9c7fe9bc4e8c7908227', 0, 2, 5)\",\"('mean_chunk-0899aa9593130ad1ff630a151a8a15de', 1, 3, 2)\",\"('mean_agg-aggregate-2f6b9426d0f4e6eb459c3bb2d05c2d81', 2, 3)\",\"('mean_agg-aggregate-2f6b9426d0f4e6eb459c3bb2d05c2d81', 2, 4)\",\"('mean_combine-partial-d1e106343e77b9c7fe9bc4e8c7908227', 0, 3, 4)\",\"('mean_agg-aggregate-2f6b9426d0f4e6eb459c3bb2d05c2d81', 2, 5)\",\"('mean_combine-partial-d1e106343e77b9c7fe9bc4e8c7908227', 0, 3, 2)\",\"('diffraction_pattern-integrate_fourier_space-mean_chunk-0899aa9593130ad1ff630a151a8a15de', 1, 5, 3)\",\"('diffraction_pattern-integrate_fourier_space-mean_chunk-0899aa9593130ad1ff630a151a8a15de', 1, 5, 4)\",\"('mean_agg-aggregate-2f6b9426d0f4e6eb459c3bb2d05c2d81', 3, 4)\",\"('diffraction_pattern-integrate_fourier_space-mean_chunk-0899aa9593130ad1ff630a151a8a15de', 1, 5, 6)\",\"('mean_agg-aggregate-2f6b9426d0f4e6eb459c3bb2d05c2d81', 3, 2)\",\"('diffraction_pattern-integrate_fourier_space-mean_chunk-0899aa9593130ad1ff630a151a8a15de', 1, 6, 0)\",\"('diffraction_pattern-integrate_fourier_space-mean_chunk-0899aa9593130ad1ff630a151a8a15de', 1, 6, 1)\",\"('mean_chunk-0899aa9593130ad1ff630a151a8a15de', 1, 3, 5)\",\"('mean_combine-partial-d1e106343e77b9c7fe9bc4e8c7908227', 0, 3, 5)\",\"('mean_agg-aggregate-2f6b9426d0f4e6eb459c3bb2d05c2d81', 3, 5)\",\"('diffraction_pattern-integrate_fourier_space-mean_chunk-0899aa9593130ad1ff630a151a8a15de', 1, 6, 2)\",\"('mean_chunk-0899aa9593130ad1ff630a151a8a15de', 1, 3, 6)\",\"('mean_combine-partial-d1e106343e77b9c7fe9bc4e8c7908227', 0, 3, 6)\",\"('mean_agg-aggregate-2f6b9426d0f4e6eb459c3bb2d05c2d81', 3, 6)\",\"('diffraction_pattern-integrate_fourier_space-mean_chunk-0899aa9593130ad1ff630a151a8a15de', 1, 6, 3)\",\"('mean_chunk-0899aa9593130ad1ff630a151a8a15de', 1, 4, 0)\",\"('mean_combine-partial-d1e106343e77b9c7fe9bc4e8c7908227', 0, 4, 0)\",\"('mean_agg-aggregate-2f6b9426d0f4e6eb459c3bb2d05c2d81', 4, 0)\",\"('diffraction_pattern-integrate_fourier_space-mean_chunk-0899aa9593130ad1ff630a151a8a15de', 1, 6, 4)\",\"('mean_chunk-0899aa9593130ad1ff630a151a8a15de', 1, 4, 3)\",\"('mean_chunk-0899aa9593130ad1ff630a151a8a15de', 1, 4, 5)\",\"('mean_combine-partial-d1e106343e77b9c7fe9bc4e8c7908227', 0, 4, 3)\",\"('mean_combine-partial-d1e106343e77b9c7fe9bc4e8c7908227', 0, 4, 5)\",\"('mean_agg-aggregate-2f6b9426d0f4e6eb459c3bb2d05c2d81', 4, 3)\",\"('mean_agg-aggregate-2f6b9426d0f4e6eb459c3bb2d05c2d81', 4, 5)\",\"('diffraction_pattern-integrate_fourier_space-mean_chunk-0899aa9593130ad1ff630a151a8a15de', 1, 6, 5)\",\"('mean_chunk-0899aa9593130ad1ff630a151a8a15de', 1, 4, 2)\",\"('mean_chunk-0899aa9593130ad1ff630a151a8a15de', 1, 4, 1)\",\"('mean_combine-partial-d1e106343e77b9c7fe9bc4e8c7908227', 0, 4, 2)\",\"('mean_combine-partial-d1e106343e77b9c7fe9bc4e8c7908227', 0, 4, 1)\",\"('mean_chunk-0899aa9593130ad1ff630a151a8a15de', 1, 4, 6)\",\"('mean_agg-aggregate-2f6b9426d0f4e6eb459c3bb2d05c2d81', 4, 2)\",\"('mean_agg-aggregate-2f6b9426d0f4e6eb459c3bb2d05c2d81', 4, 1)\",\"('mean_combine-partial-d1e106343e77b9c7fe9bc4e8c7908227', 0, 4, 6)\",\"('mean_agg-aggregate-2f6b9426d0f4e6eb459c3bb2d05c2d81', 4, 6)\",\"('mean_chunk-0899aa9593130ad1ff630a151a8a15de', 1, 5, 0)\",\"('mean_combine-partial-d1e106343e77b9c7fe9bc4e8c7908227', 0, 5, 0)\",\"('mean_agg-aggregate-2f6b9426d0f4e6eb459c3bb2d05c2d81', 5, 0)\",\"('mean_chunk-0899aa9593130ad1ff630a151a8a15de', 1, 5, 2)\",\"('mean_chunk-0899aa9593130ad1ff630a151a8a15de', 1, 5, 1)\",\"('mean_combine-partial-d1e106343e77b9c7fe9bc4e8c7908227', 0, 5, 2)\",\"('mean_combine-partial-d1e106343e77b9c7fe9bc4e8c7908227', 0, 5, 1)\",\"('mean_chunk-0899aa9593130ad1ff630a151a8a15de', 1, 6, 1)\",\"('mean_agg-aggregate-2f6b9426d0f4e6eb459c3bb2d05c2d81', 5, 2)\",\"('mean_chunk-0899aa9593130ad1ff630a151a8a15de', 1, 5, 4)\",\"('mean_agg-aggregate-2f6b9426d0f4e6eb459c3bb2d05c2d81', 5, 1)\",\"('mean_combine-partial-d1e106343e77b9c7fe9bc4e8c7908227', 0, 6, 1)\",\"('mean_combine-partial-d1e106343e77b9c7fe9bc4e8c7908227', 0, 5, 4)\",\"('mean_agg-aggregate-2f6b9426d0f4e6eb459c3bb2d05c2d81', 6, 1)\",\"('mean_agg-aggregate-2f6b9426d0f4e6eb459c3bb2d05c2d81', 5, 4)\",\"('mean_chunk-0899aa9593130ad1ff630a151a8a15de', 1, 5, 6)\",\"('mean_chunk-0899aa9593130ad1ff630a151a8a15de', 1, 5, 3)\",\"('mean_combine-partial-d1e106343e77b9c7fe9bc4e8c7908227', 0, 5, 6)\",\"('mean_combine-partial-d1e106343e77b9c7fe9bc4e8c7908227', 0, 5, 3)\",\"('mean_agg-aggregate-2f6b9426d0f4e6eb459c3bb2d05c2d81', 5, 6)\",\"('mean_agg-aggregate-2f6b9426d0f4e6eb459c3bb2d05c2d81', 5, 3)\",\"('mean_chunk-0899aa9593130ad1ff630a151a8a15de', 1, 6, 0)\",\"('mean_combine-partial-d1e106343e77b9c7fe9bc4e8c7908227', 0, 6, 0)\",\"('mean_agg-aggregate-2f6b9426d0f4e6eb459c3bb2d05c2d81', 6, 0)\",\"('mean_chunk-0899aa9593130ad1ff630a151a8a15de', 1, 6, 2)\",\"('mean_combine-partial-d1e106343e77b9c7fe9bc4e8c7908227', 0, 6, 2)\",\"('mean_agg-aggregate-2f6b9426d0f4e6eb459c3bb2d05c2d81', 6, 2)\",\"('mean_chunk-0899aa9593130ad1ff630a151a8a15de', 1, 6, 3)\",\"('mean_combine-partial-d1e106343e77b9c7fe9bc4e8c7908227', 0, 6, 3)\",\"('mean_agg-aggregate-2f6b9426d0f4e6eb459c3bb2d05c2d81', 6, 3)\",\"('mean_chunk-0899aa9593130ad1ff630a151a8a15de', 1, 6, 4)\",\"('mean_combine-partial-d1e106343e77b9c7fe9bc4e8c7908227', 0, 6, 4)\",\"('mean_agg-aggregate-2f6b9426d0f4e6eb459c3bb2d05c2d81', 6, 4)\",\"('mean_chunk-0899aa9593130ad1ff630a151a8a15de', 1, 6, 5)\",\"('mean_combine-partial-d1e106343e77b9c7fe9bc4e8c7908227', 0, 6, 5)\",\"('mean_agg-aggregate-2f6b9426d0f4e6eb459c3bb2d05c2d81', 6, 5)\"],\"width\":[0.002346299937926233,0.0022342000156641006,0.0021997999865561724,0.0022956000175327063,0.0012886000331491232,0.1016102998983115,0.10447349993046373,0.12198749999515712,1.1729585999855772,1.2546785000013188,1.1695803999900818,1.2886355000082403,1.310598500072956,1.4067619999404997,1.1577837999211624,1.2125528000760823,1.2192891999147832,1.2724479000316933,1.316804900066927,1.185998099972494,1.2680430000182241,1.291475599980913,1.2138971000676975,1.1943990000290796,0.019057400058954954,0.015299500082619488,0.014188700006343424,1.2654237999813631,1.1801829999312758,1.1826731999171898,0.03755270002875477,0.013253199984319508,0.008392399991862476,1.2861500000581145,1.277792499982752,1.187520599924028,0.02099579991772771,0.006674599950201809,0.004417599993757904,1.2373393999878317,1.2848755000159144,1.2309337999904528,0.032553200027905405,0.014023900032043457,0.020122800022363663,0.05280060006771237,0.06447640003170818,1.17911779996939,1.2551933999639004,1.198417800012976,0.04211719997692853,1.2329535000026226,0.024791200063191354,0.02746899996418506,1.2278720999602228,0.023541999980807304,1.164538100012578,0.02315150003414601,1.2419367999536917,0.005493000033311546,0.0024981999304145575,1.1439690999686718,1.2894779000198469,0.006624399917200208,1.2281024000840262,0.01852759998291731,1.29861970001366,0.017803399940021336,0.01779259997420013,0.027275400003418326,0.03637960006017238,0.05155089998152107,1.2229607999324799,1.1653913999907672,0.06365479994565248,1.2551825999980792,1.3804957000538707,0.05309920001309365,1.1870083999820054,0.039726899936795235,1.221718900022097,0.0562094000633806,1.2010968999238685,0.041408499935641885,1.2557899999665096,0.018904300057329237,1.2528688999591395,1.169999299920164,1.2176837000297382,0.004721499979496002,1.138543299981393,0.0030423999996855855,1.2859646999277174,0.012021400034427643,0.0031835000263527036,1.3261333999689668,1.2401869999011979,0.006924899993464351,1.2082337000174448,0.021863200003281236,0.016234699985943735,0.012024100054986775,1.189786700066179,1.1866121001075953,1.2407268999377266,0.03474499995354563,0.012582600000314415,0.023622100008651614,1.2457122999476269,0.044933500001206994,1.2002894000615925,1.1873728999635205,0.030092199915088713,1.2983928000321612,0.016388999996706843,0.02599019999615848,1.1703441999852657,1.315547600039281,1.2027252999832854,0.025304700015112758,0.007064100005663931,1.173410200048238,1.2479748000623658,0.002056300058029592,1.21643660007976,0.008878100081346929,0.010677000042051077,1.146777500049211,1.254631599993445,0.004954200005158782,0.0047682999866083264,1.2710932000773028,1.25757480005268,0.004894400015473366,1.2090389999793842,0.007102799951098859,1.1813547000056133,0.0030433000065386295,0.014279299997724593,1.2007116000168025,1.215415499988012,0.029278400004841387,0.016314300009980798,1.1802095000166446,1.2827419999521226,0.010908700060099363,0.02395279996562749,1.2595979000907391,1.1610931999748573,0.007933099986985326,1.1527719999430701,0.004795300075784326,1.1794521000701934,0.012738100020214915,1.2456287000095472,0.007187600014731288,0.006948000052943826,1.2479747000616044,0.014305899967439473,0.006963199935853481,1.134724500006996,0.01047800004016608,0.009181200060993433,1.1471885000355542,0.011480299988761544,0.022313999943435192,0.017747199977748096,0.017742900061421096,0.031106999958865345,0.021717000054195523,1.164232699899003,0.024912299937568605,0.04015929996967316,0.025017199921421707,1.258883300004527,0.019935599993914366,0.03115819999948144,0.053240699926391244,1.193616999895312,1.186402100021951,1.2102398000424728,0.032245100010186434,0.022920000017620623,0.01093999994918704,0.013711399980820715,1.1823063000338152,1.1925509000429884,1.157348299981095,0.04510180000215769,0.009404900018125772,0.01915249996818602,0.023608500021509826,0.03040700010024011,0.032566299894824624,0.022668999969027936,0.04343590000644326,1.1516484000021592,1.1500360999489203,1.2444990000221878,1.2125103001017123,0.017952200025320053,0.005384300020523369,1.133744899998419,0.007747599971480668,0.0036504999734461308,1.1866204000543803,0.004178600036539137,0.005379799986258149,1.174794499995187,0.008438099990598857,0.0032828999683260918,1.2164702999871224,0.012581199989654124,0.021036699996329844,1.1855873999884352,0.016739900107495487,0.01713769999332726,0.03413659997750074,0.029810899985022843,0.028022099984809756,0.030037700082175434,0.035190399968996644,1.321440799976699,0.028714500018395483,1.1620068000629544,0.029333500075154006,0.029999100021086633,0.051370900007896125,0.03227520000655204,1.1868195000570267,0.042987899971194565,0.05184720002580434,0.04271289997268468,0.06600849993992597,1.1597160999663174,1.2670123999705538,1.1744278999976814,1.1188557000132278,0.027935300022363663,0.007620500051416457,0.011327299987897277,1.231627200031653,0.022370100021362305,1.245591799961403,1.2251710999989882,0.030695099965669215,0.032455300097353756,0.007281999918632209,0.007003100006841123,1.1806032999884337,1.1992285000160336,0.011460799956694245,0.015132600092329085,1.0877480999333784,0.0034324999433010817,0.008215800044126809,1.2018309000413865,0.002104199957102537,0.0029047999996691942,1.2113166999770328,0.012347199954092503,0.004866900038905442,1.1737276000203565,0.0063937000231817365,0.013533200020901859,1.1119250000920147,0.012729000067338347,0.002177600050345063,0.0028144000098109245,0.0042446000734344125,0.004954300005920231,0.004502099938690662,1.1983345999615267,1.2163321999832988,1.2600863999687135,0.01692460000049323,0.007330399937927723,1.1488802999956533,0.01019940001424402,0.009846000000834465,0.006839000037871301,0.031056400039233267,1.146868500043638,0.03646520001348108,0.03245469997636974,0.030394500005058944,1.101139200036414,0.02863489999435842,0.020325099932961166,0.028486500028520823,0.026072699925862253,0.020843799924477935,0.03190229996107519,0.04896649997681379,1.186482600052841,1.178254000027664,1.1834287999663502,1.1596878999844193,1.1244299999671057,0.005552100017666817,0.003551800036802888,0.006039600004442036,1.164812200004235,0.002434800029732287,0.0023762999335303903,0.002307299990206957,1.1811324999434873,0.007174200029112399,0.0028997999615967274,0.007779199979268014,1.2036693999543786,0.01580139994621277,0.012930799974128604,0.0014951000921428204,0.013821600005030632,0.00846429995726794,1.2345488000428304,0.018788599991239607,1.1650898000225425,0.00418249994982034,0.01031789998523891,0.01709910004865378,0.018742699990980327,0.019812799990177155,0.020226299995556474,0.03326040005777031,0.007173400023020804,1.2044963000807911,0.04655800003092736,0.047354500042274594,0.03375790000427514,1.1501529000233859,0.04602050001267344,1.143168400041759,0.017865900066681206,0.016267500002868474,0.00831469998229295,0.01367220003157854,0.014157199999317527,0.024582300102338195,1.1951432999921963,1.218758299946785,1.2226133999647573,0.023608800023794174,0.01145000010728836,0.008901200024411082,0.01809490006417036,1.2017057999037206,1.1894318999256939,0.01675559999421239,1.1484291999367997,0.022475100005976856,1.287514099967666,0.028641300043091178,1.1146940001053736,0.005225500091910362,1.184395999996923,0.004506699973717332,1.290602899971418,0.012781099998392165,1.3645274000009522,0.010858900030143559,1.3628208000445738,0.007419500034302473,1.3601069999858737,0.01544280000962317,1.3330288999713957,0.025984999956563115,0.02434890007134527,1.2513634999049827,1.2812232000287622,0.02322119998279959,0.03366770001593977,1.3740889000473544,0.039402700029313564,0.024403000017628074,1.2981496999273077,0.04530549992341548,0.04568049998488277,0.05890279996674508,1.2821500999853015,1.3557247000280768,1.345237199915573,1.2560453999321908,1.229808200034313,0.007719599991105497,1.2779681000392884,0.003140800050459802,1.1854911000700668,0.006979500059969723,1.2379371999995783,0.003752900054678321,1.247064399998635,0.020586300059221685,1.2139192000031471,0.0061910999938845634,1.2198675000108778,0.013971999986097217,1.230567799997516,0.009241899941116571,1.156332500046119,0.00198679999448359,1.2055673999711871,0.029792599962092936,0.026659199967980385,0.03287270001601428,0.06407309998758137,1.2656490000663325,1.2664139999542385,1.2758590000448748,0.02651470003183931,1.1632834000047296,0.015981500037014484,1.1823173000011593,0.012029899982735515,1.1733955000527203,1.2440151000628248,0.02462999999988824,1.1893420999404043,0.0030598000157624483,0.0037423999747261405,0.0029349999967962503,1.0266844000434503,0.004414399969391525,0.0024822999257594347,0.0012790000764653087,1.132242999970913,0.006235299981199205,0.012071699951775372,0.01818860007915646,0.011726600001566112,0.007323400001041591,0.012760199955664575,0.011766399955376983,0.018720299936830997,0.019127000006847084,1.1347196999704465,1.2575659999856725,0.013240000000223517,0.014302799943834543,1.2288721000077203,0.010102700092829764,0.012242899974808097,0.004788000020198524,0.002561299945227802,1.160448900074698,0.014351499965414405,0.01635109994094819,1.1508169000735506,0.004269500030204654,1.2018142000306398,0.022322800010442734,0.017235100036486983,0.014679099898785353,0.015868699993006885,0.01159050001297146,0.029667999944649637,0.02844809996895492,1.1343040999490768,0.021594100049696863,0.02388459991198033,0.01563959999475628,0.012000799993984401,0.011051100096665323,0.03473620000295341,0.03209610003978014,0.03235280001536012,1.1498452000087127,1.1476216999581084,0.03230449999682605,0.011223500012420118,0.010998500045388937,0.009872699971310794,0.011020499980077147,0.029286500066518784,0.03293989994563162,1.134971300023608,1.125713900080882,0.041681300033815205,1.1070246000308543,0.01614100008737296,1.102561500039883,1.074068299960345,0.004181400057859719,0.004362499923445284,0.003477599937468767,0.9877794999629259,0.0053591999458149076,0.007893400033935905,0.00495600001886487,0.6701523000374436,0.005970700061880052,0.003272400004789233,0.003426400013267994,0.45785000000614673,0.00927319994661957,0.005215700017288327,0.012056100065819919,0.012828400009311736,0.007916599977761507,0.011288499925285578,0.40301250002812594,0.007869899971410632,0.004031799966469407,0.004178700037300587,0.0031490999972447753,0.0047916000476107,0.005266200052574277,0.004041100037284195,0.0037225999403744936,0.0024683999363332987,0.004813599982298911,0.0030523999594151974,0.0033251000568270683,0.0026406999677419662,0.005736700026318431,0.011478899978101254,0.010824900004081428,0.007354000001214445,0.005685299984179437,0.003118900000117719,0.002902699983678758,0.0018903999589383602,0.0011874999618157744,0.0013062000507488847,0.004015599959529936,0.0030698999762535095,0.001168999937362969,0.0029137999517843127,0.005310599924996495,0.003488800022751093,0.0011475000064820051,0.0006989999674260616,0.0005844999104738235,0.0018720000516623259,0.0010975999757647514,0.0006682999664917588,0.0005935999797657132,0.0005110999336466193,0.00044899992644786835,0.0006201000651344657,0.0005326000973582268,0.0004088000860065222,0.00041610002517700195,0.0006641000509262085,0.00113800005055964,0.0005613999674096704],\"x\":[0.0011731499107554555,0.0015917000127956271,0.0018526000203564763,0.002077599987387657,0.0029952999902889132,0.05351784999947995,0.05519304994959384,0.06422255001962185,0.590122599969618,0.6312356499256566,0.5889196000061929,0.6486545499647036,0.6598515500081703,0.7081386999925599,0.5838193000527099,0.6114380999933928,0.6149693999905139,0.6417246499331668,0.6641903499839827,0.5990372499218211,0.6403161999769509,0.7500719000818208,0.714394050068222,0.722428199951537,1.172254899982363,1.1813701499486342,1.1837085500592366,1.8145140999695286,1.779125800007023,1.7821590000530705,1.2108267500298098,1.224349300027825,1.22882649989333,1.8726915000006557,1.8698898499133065,1.8267946999985725,1.2690801999997348,1.277680900064297,1.2801770999794826,1.8982627999503165,1.9234656499465927,1.8978678000858054,1.309266300057061,1.3221694499952719,1.329712799983099,1.3477478999411687,1.3548440000740811,1.9151126999640837,1.9567924999864772,1.9389950999757275,1.3952153999125585,2.003566649975255,1.4082165999570861,1.425262099946849,2.030218050000258,1.4323930999962613,2.021283649955876,1.4557526499265805,2.0883131000446156,2.3719922000309452,2.3747684999834746,2.9467385499738157,3.02077294990886,2.4238771999953315,3.0412569000618532,2.4565046000061557,3.1150898499181494,2.513579799910076,2.517693900037557,2.526982599985786,2.533965800073929,2.5427157500525936,3.133972999989055,3.109296299982816,2.5700400000205263,3.1682242000242695,3.242411550018005,2.592466799891554,3.162003400037065,2.604259549989365,3.212738149915822,2.631665399996564,3.2195758499437943,2.640754249994643,3.252025399939157,2.6536161500262097,3.286213949904777,3.2464697499526665,3.2719210499199107,2.7116571499500424,3.2833000499522313,3.5202642999356613,4.164786249981262,3.661335499957204,3.667138950084336,4.330437500029802,4.288839300046675,3.6954666499514133,4.303071650094353,3.7563996999524534,3.7636386499507353,3.770421649911441,4.362237549968995,4.365084349992685,4.396819050074555,3.8131964000640437,3.8264278998831287,3.8354222499765456,4.453443450038321,3.8539481499465182,4.432880799984559,4.440924950060435,3.8676224999362603,4.5256192000815645,3.8881226000376046,3.893766599940136,4.467848000000231,4.554098100052215,4.508131849928759,3.9253084500087425,3.936198949930258,4.524673399981111,4.563727700035088,4.808832950075157,5.418098599999212,4.911648149951361,4.914287999970838,5.489492450025864,5.546959899947979,4.959619199973531,4.960783549933694,5.597655600053258,5.5919642999069765,4.995964300003834,5.60294240002986,5.020751400035806,5.614993349998258,5.034565450041555,5.0417605499969795,5.63645670004189,5.656614150037058,5.067667499999516,5.084465550025925,5.672429049969651,5.734007699997164,5.114959949976765,5.123367400025018,5.75022235000506,5.715899299946614,5.178812950034626,5.759177799918689,5.19012034998741,5.782264549983665,5.218247349956073,5.847442649886943,6.02993509999942,6.0370269999839365,6.664510549977422,6.070050950045697,6.080726600019261,6.651592749985866,6.179538400028832,6.189393399981782,6.767588949995115,6.211423550033942,6.218640099978074,6.226047600037418,6.229636950069107,6.245362999965437,6.244070800021291,6.817047849996015,6.249280650052242,6.258599849999882,6.267448899918236,6.890371249988675,6.27172800002154,6.2781224000500515,6.290951250004582,6.875496599939652,6.873167249956168,6.886825899942778,6.309831849997863,6.307917500031181,6.323061799979769,6.326242300099693,6.917116149910726,6.92482185002882,6.911783750052564,6.358122400008142,6.37670064996928,6.384963050018996,6.391833949950524,6.39588399999775,6.397694649989717,6.405888199922629,6.42536564997863,6.9869247999740764,6.98900334991049,7.0394838999491185,7.0533491499954835,6.479240700020455,6.490919249947183,7.060496149933897,7.222844499978237,7.228570849983953,7.823736899998039,7.290600899956189,7.295394700020552,7.885498150018975,7.34542715002317,7.351308949990198,7.961210750043392,7.4054961000801995,7.42232744989451,8.025664999964647,7.474757050047629,7.4808878500480205,7.500202699913643,7.504373449948616,7.504477650043555,7.5069727500667796,7.525877399952151,8.178001599968411,7.532856050063856,8.100293099996634,7.534492950071581,7.536106750019826,7.547688949969597,7.5596192999510095,8.140632049995475,7.57066164992284,7.577045299927704,7.58412215008866,7.597037549945526,8.153245549998246,8.20927499991376,8.179376950021833,8.162404349888675,7.619455449981615,7.631186850019731,7.6357135500293225,8.24925480003003,7.646196649991907,8.264189600013196,8.269981949939393,7.674963750061579,7.677974650054239,7.693959199939854,7.6977098499191925,8.287912150030024,8.300835949950852,8.422794600017369,8.436116200056858,8.987585550057702,8.474639949970879,8.480486800079234,9.085532450000755,8.570529200020246,8.573050900013186,9.180181749979965,8.62466690002475,8.633288750075735,9.222600000095554,8.684512850013562,8.694497000076808,9.257246599998325,8.728211399982683,8.734220399986953,8.735457899980247,8.736705100047402,8.737794049899094,8.739122850005515,9.33800899994094,9.348453299957328,9.371435799985193,8.77507299988065,8.787211899994873,9.365343849989586,8.843832400045358,8.847723499988206,8.852361600031145,8.868186999927275,9.429224250023253,8.883311000070535,8.894449149956927,8.897773849894293,9.434292300022207,8.901313649956137,8.91062335006427,8.915795049979351,8.923722549923696,8.923403799999505,8.931603249977343,8.945277250022627,9.523288099910133,9.522960600093938,9.528481899993494,9.527406350011006,9.53198930004146,9.534273350029252,9.538858099956997,9.543673500069417,10.129122599959373,9.687688700039871,9.69011585006956,9.692475949996151,10.284218649961986,9.789440899970941,9.794489399995655,9.799848999944516,10.405590599984862,9.81737649999559,9.819688400020823,9.826038250001147,9.833075699978508,9.831026049912907,10.452547900029458,9.849397600046359,10.441351199988276,9.939287549932487,9.944957350031473,9.94994395005051,9.959498850046657,9.966535400017165,9.968619249993935,9.985512599931099,9.980040599941276,10.580991650000215,10.006916799931787,10.00855234998744,10.018373049912043,10.577232550014742,10.02568884997163,10.601788699976169,10.041170250042342,10.043399349902757,10.052869550068863,10.05694909999147,10.058617700007744,10.06932594999671,10.661372149945237,10.675095350015908,10.692933699931018,10.106016000034288,10.112982699996792,10.116545400000177,10.125591050018556,10.718688900000416,10.713437950005755,10.128586699953303,10.69522989995312,10.145886350073852,10.780729849939235,10.171452249982394,10.743142699939199,10.714170649996959,11.309003000031225,10.877059850026853,11.524642950040288,11.013831250020303,11.702504400047474,11.029338549938984,11.716185500030406,11.073564950027503,11.75734749995172,11.160055399988778,11.834302649949677,11.186381499981508,11.195434149936773,11.825067350058816,11.848232900025323,11.27057029993739,11.286292750039138,11.969241649960168,11.30418804998044,11.312703600036912,11.952250650036149,11.32690075004939,11.331007050001062,11.349004499963485,11.964976149960421,12.002779350033961,12.02218269999139,11.98188159998972,11.9933673000196,11.428357799886726,12.071217949967831,11.902801900054328,12.497155750053935,12.173447050037794,12.79592460009735,12.38666065002326,13.012089899973944,12.407902750070207,13.025169100030325,12.44050284998957,13.05355305003468,12.457746700034477,13.080077000078745,12.493479249998927,13.07627814996522,12.501822800026275,13.105610999977216,12.616233700071461,12.61940029996913,12.624723150045611,12.641951950034127,13.263966499944218,13.26594670000486,13.279099000035785,12.669552649953403,13.25563729996793,12.68863925000187,13.273976049968041,12.70082625001669,13.28333795000799,13.328856150037609,12.722524700104259,13.329522249987349,13.09145319997333,13.094889700063504,13.098242099978961,13.613078300026245,13.417125800042413,13.420598750002682,13.42249379993882,13.989265599986538,13.635259650065564,13.641678850050084,13.647480799932964,13.653590700007044,13.658114999881946,13.662965299910866,13.665344799985178,13.671148549998179,13.67306040006224,14.23672515002545,14.300022099982016,13.687134400010109,13.689780400018208,14.308204850065522,13.700419450062327,13.703061250038445,13.707874599960633,13.709683850058354,14.289415550068952,13.717455049976707,13.719149350072257,14.30006925005,13.729487349977717,14.332547100028023,13.848463000031188,13.868252250016667,13.872483949991874,13.877980850054882,13.882675750064664,13.894665700034238,13.900145950028673,14.455635049962439,13.907595550059341,13.911102200043388,13.917326700058766,13.920380300027318,13.922562949941494,13.935769699979573,13.93910085002426,13.940376900020055,14.500078499899246,14.500201549963094,13.944248649990186,13.956483249901794,13.958648749976419,13.96009635005612,13.96207604999654,13.975058250012808,13.978575050015934,14.53164675005246,14.527899349923246,13.988443849957548,14.543222400010563,14.003125199931674,14.560576350078918,14.54824264999479,14.128521100035869,14.132813549949788,14.1367573000025,14.632410050020553,14.558085899916478,14.564742099959403,14.571187800029293,14.908761649974622,14.807089849957265,14.811740300036035,14.8151107999729,15.04576700006146,14.87430070003029,14.878097350010648,14.884982349933125,14.887134299962781,14.89498750003986,14.899206049973145,15.100522450054996,14.926609350019135,14.930829799966887,14.932644149987027,14.934433149988763,14.935859300079755,14.937379700015299,14.938038250082172,14.940130200004205,14.943245799979195,15.025216299924068,15.02916809997987,15.03237645002082,15.075347949983552,15.077883249963634,15.082418750040233,15.086175549891777,15.088961999979801,15.09101285005454,15.09232614992652,15.093051150091924,15.093593499972485,15.094485550071113,15.095198199967854,15.09709430008661,15.098276249947958,15.099722799961455,15.101276199915446,15.102968899998814,15.104498600005172,15.106206450029276,15.112217099987902,15.112866149982437,15.114100300008431,15.126858599949628,15.127749950042926,15.128387299948372,15.244100350071676,15.244585299980827,15.245124349952675,15.274966199998744,15.275441400008276,15.275858349981718,15.302368249977008,15.30327589996159,15.304130500066094],\"y\":[16,16,16,16,16,16,16,16,16,8,14,5,3,1,15,11,9,6,2,13,7,4,10,12,15,16,15,16,14,13,15,9,15,11,8,15,7,9,6,7,9,5,3,12,10,3,6,10,1,6,4,3,2,12,4,2,12,2,2,14,14,14,13,15,15,16,16,10,5,7,8,9,11,10,8,12,1,7,5,6,8,3,6,7,4,7,3,7,9,2,2,14,14,15,15,15,13,10,10,11,16,5,11,16,12,6,7,6,7,2,8,9,2,4,5,2,5,1,6,3,2,3,2,14,14,10,10,10,13,11,11,11,16,15,15,12,12,8,8,8,9,5,7,7,3,5,5,5,6,4,4,2,2,1,1,14,14,14,10,10,10,13,13,13,15,16,11,16,16,15,8,12,11,12,12,15,9,11,15,9,6,16,11,16,7,4,3,16,2,2,7,7,7,5,11,7,11,5,2,1,7,7,7,10,10,10,14,14,14,13,13,13,8,8,8,9,9,9,6,4,16,4,4,6,15,6,6,3,9,12,5,3,3,11,5,3,9,11,6,6,7,7,6,6,16,2,1,1,2,1,2,10,10,10,14,14,14,13,13,13,8,8,8,15,15,15,11,5,12,5,11,5,11,12,5,9,9,9,4,4,3,16,7,4,3,2,4,3,3,2,2,16,3,1,2,3,1,16,6,10,10,10,10,14,14,14,14,13,13,13,13,15,15,15,15,8,8,15,15,11,11,11,12,9,12,11,12,9,4,11,12,12,5,11,5,7,4,5,4,5,6,7,3,4,5,4,5,1,4,16,16,5,2,5,5,10,10,14,14,13,13,15,15,8,8,12,9,12,12,12,11,16,16,4,5,3,7,5,3,1,5,3,6,16,1,2,2,10,10,14,14,13,13,15,15,8,8,12,12,11,11,9,9,7,1,16,5,1,3,4,5,7,6,5,6,6,16,2,2,10,10,10,10,14,14,14,14,15,15,15,11,13,11,11,8,11,11,13,15,15,8,12,9,15,9,15,9,9,12,9,9,7,6,5,7,5,1,5,4,1,1,5,3,3,2,6,6,1,16,7,6,3,7,5,2,7,3,2,5,5,6,7,6,10,10,10,10,14,14,14,14,11,11,11,11,15,15,15,15,12,15,15,12,8,12,12,13,12,13,8,9,8,9,4,12,13,8,1,1,12,12,13,6,16,1,5,9,13,8,2,2,5,9,13,8,1,12,3,9,13,16,10,2,5,7,9,13]},\"selected\":{\"id\":\"1047\"},\"selection_policy\":{\"id\":\"1046\"}},\"id\":\"1032\",\"type\":\"ColumnDataSource\"},{\"attributes\":{},\"id\":\"1047\",\"type\":\"Selection\"},{\"attributes\":{\"tools\":[{\"id\":\"1021\"},{\"id\":\"1022\"},{\"id\":\"1023\"},{\"id\":\"1024\"},{\"id\":\"1025\"}]},\"id\":\"1026\",\"type\":\"Toolbar\"},{\"attributes\":{},\"id\":\"1012\",\"type\":\"CategoricalScale\"},{\"attributes\":{},\"id\":\"1045\",\"type\":\"AllLabels\"},{\"attributes\":{\"end\":15.304411199991591},\"id\":\"1006\",\"type\":\"Range1d\"},{\"attributes\":{\"coordinates\":null,\"data_source\":{\"id\":\"1032\"},\"glyph\":{\"id\":\"1034\"},\"group\":null,\"hover_glyph\":null,\"muted_glyph\":{\"id\":\"1036\"},\"nonselection_glyph\":{\"id\":\"1035\"},\"view\":{\"id\":\"1038\"}},\"id\":\"1037\",\"type\":\"GlyphRenderer\"}],\"root_ids\":[\"1003\"]},\"title\":\"Bokeh Application\",\"version\":\"2.4.3\"}};\n",
       "  const render_items = [{\"docid\":\"63bddf5e-5404-4dcf-9d99-6ac64e4fb448\",\"root_ids\":[\"1003\"],\"roots\":{\"1003\":\"b41ffed8-1a66-4d92-8949-c9cab2caad70\"}}];\n",
       "  root.Bokeh.embed.embed_items_notebook(docs_json, render_items);\n",
       "  }\n",
       "  if (root.Bokeh !== undefined) {\n",
       "    embed_document(root);\n",
       "  } else {\n",
       "    let attempts = 0;\n",
       "    const timer = setInterval(function(root) {\n",
       "      if (root.Bokeh !== undefined) {\n",
       "        clearInterval(timer);\n",
       "        embed_document(root);\n",
       "      } else {\n",
       "        attempts++;\n",
       "        if (attempts > 100) {\n",
       "          clearInterval(timer);\n",
       "          console.log(\"Bokeh: ERROR: Unable to run BokehJS code because BokehJS library is missing\");\n",
       "        }\n",
       "      }\n",
       "    }, 10, root)\n",
       "  }\n",
       "})(window);"
      ],
      "application/vnd.bokehjs_exec.v0+json": ""
     },
     "metadata": {
      "application/vnd.bokehjs_exec.v0+json": {
       "id": "1003"
      }
     },
     "output_type": "display_data"
    }
   ],
   "source": [
    "profilers[0].visualize();"
   ]
  },
  {
   "cell_type": "markdown",
   "id": "9f7afda6-5b1d-4362-9495-4ad140716f5f",
   "metadata": {},
   "source": [
    "The result from the `ResourceProfiler` is shown below: This shows two lines, one for total CPU percentage used by all the workers, and one for total memory usage. The CPU usage is scaled so each worker contributes up to $100 \\ \\%$, i.e. two fully utilized workers use $200 \\ \\%$."
   ]
  },
  {
   "cell_type": "code",
   "execution_count": 16,
   "id": "42497cde-4e5c-4844-91e5-e8d91e1aafa9",
   "metadata": {
    "tags": [
     "skip-test"
    ]
   },
   "outputs": [
    {
     "data": {
      "text/html": [
       "\n",
       "  <div class=\"bk-root\" id=\"5d91759b-d97d-480d-94b9-8d9c93480e30\" data-root-id=\"1102\"></div>\n"
      ]
     },
     "metadata": {},
     "output_type": "display_data"
    },
    {
     "data": {
      "application/javascript": [
       "(function(root) {\n",
       "  function embed_document(root) {\n",
       "  const docs_json = {\"d3b7fc81-0609-4682-affa-26ad083a1ff4\":{\"defs\":[],\"roots\":{\"references\":[{\"attributes\":{\"below\":[{\"id\":\"1113\"}],\"center\":[{\"id\":\"1116\"},{\"id\":\"1120\"},{\"id\":\"1145\"}],\"extra_y_ranges\":{\"memory\":{\"id\":\"1147\"}},\"height\":300,\"left\":[{\"id\":\"1117\"}],\"renderers\":[{\"id\":\"1134\"},{\"id\":\"1152\"}],\"right\":[{\"id\":\"1166\"}],\"title\":{\"id\":\"1103\"},\"toolbar\":{\"id\":\"1125\"},\"toolbar_location\":\"above\",\"width\":800,\"x_range\":{\"id\":\"1105\"},\"x_scale\":{\"id\":\"1109\"},\"y_range\":{\"id\":\"1107\"},\"y_scale\":{\"id\":\"1111\"}},\"id\":\"1102\",\"subtype\":\"Figure\",\"type\":\"Plot\"},{\"attributes\":{\"coordinates\":null,\"group\":null,\"text\":\"Profile Results\"},\"id\":\"1103\",\"type\":\"Title\"},{\"attributes\":{\"dimensions\":\"width\"},\"id\":\"1124\",\"type\":\"PanTool\"},{\"attributes\":{\"coordinates\":null,\"group\":null,\"items\":[{\"id\":\"1146\"},{\"id\":\"1165\"}]},\"id\":\"1145\",\"type\":\"Legend\"},{\"attributes\":{\"axis_label\":\"% CPU\",\"coordinates\":null,\"formatter\":{\"id\":\"1138\"},\"group\":null,\"major_label_policy\":{\"id\":\"1139\"},\"ticker\":{\"id\":\"1118\"}},\"id\":\"1117\",\"type\":\"LinearAxis\"},{\"attributes\":{},\"id\":\"1114\",\"type\":\"BasicTicker\"},{\"attributes\":{\"axis\":{\"id\":\"1113\"},\"coordinates\":null,\"group\":null,\"ticker\":null},\"id\":\"1116\",\"type\":\"Grid\"},{\"attributes\":{\"axis\":{\"id\":\"1117\"},\"coordinates\":null,\"dimension\":1,\"group\":null,\"ticker\":null},\"id\":\"1120\",\"type\":\"Grid\"},{\"attributes\":{},\"id\":\"1118\",\"type\":\"BasicTicker\"},{\"attributes\":{\"tools\":[{\"id\":\"1121\"},{\"id\":\"1122\"},{\"id\":\"1123\"},{\"id\":\"1124\"}]},\"id\":\"1125\",\"type\":\"Toolbar\"},{\"attributes\":{\"dimensions\":\"width\"},\"id\":\"1123\",\"type\":\"WheelZoomTool\"},{\"attributes\":{},\"id\":\"1138\",\"type\":\"BasicTickFormatter\"},{\"attributes\":{\"line_alpha\":0.1,\"line_color\":\"#440154\",\"line_width\":4,\"x\":{\"field\":\"x\"},\"y\":{\"field\":\"y\"}},\"id\":\"1132\",\"type\":\"Line\"},{\"attributes\":{},\"id\":\"1122\",\"type\":\"ResetTool\"},{\"attributes\":{},\"id\":\"1121\",\"type\":\"SaveTool\"},{\"attributes\":{},\"id\":\"1144\",\"type\":\"Selection\"},{\"attributes\":{\"source\":{\"id\":\"1148\"}},\"id\":\"1153\",\"type\":\"CDSView\"},{\"attributes\":{},\"id\":\"1139\",\"type\":\"AllLabels\"},{\"attributes\":{\"label\":{\"value\":\"% CPU\"},\"renderers\":[{\"id\":\"1134\"}]},\"id\":\"1146\",\"type\":\"LegendItem\"},{\"attributes\":{\"coordinates\":null,\"data_source\":{\"id\":\"1148\"},\"glyph\":{\"id\":\"1149\"},\"group\":null,\"hover_glyph\":null,\"muted_glyph\":{\"id\":\"1151\"},\"nonselection_glyph\":{\"id\":\"1150\"},\"view\":{\"id\":\"1153\"},\"y_range_name\":\"memory\"},\"id\":\"1152\",\"type\":\"GlyphRenderer\"},{\"attributes\":{\"end\":743.60832,\"start\":587.911168},\"id\":\"1147\",\"type\":\"Range1d\"},{\"attributes\":{},\"id\":\"1141\",\"type\":\"BasicTickFormatter\"},{\"attributes\":{},\"id\":\"1143\",\"type\":\"UnionRenderers\"},{\"attributes\":{\"line_color\":\"#29788E\",\"line_width\":4,\"x\":{\"field\":\"x\"},\"y\":{\"field\":\"y\"}},\"id\":\"1149\",\"type\":\"Line\"},{\"attributes\":{\"axis_label\":\"Memory (MB)\",\"coordinates\":null,\"formatter\":{\"id\":\"1181\"},\"group\":null,\"major_label_policy\":{\"id\":\"1182\"},\"ticker\":{\"id\":\"1180\"},\"y_range_name\":\"memory\"},\"id\":\"1166\",\"type\":\"LinearAxis\"},{\"attributes\":{\"line_alpha\":0.2,\"line_color\":\"#29788E\",\"line_width\":4,\"x\":{\"field\":\"x\"},\"y\":{\"field\":\"y\"}},\"id\":\"1151\",\"type\":\"Line\"},{\"attributes\":{\"data\":{\"x\":[0.0,1.1073278000112623,2.1150099999504164,3.117834100034088,4.130729399970733,5.147017500014044,6.15955149999354,7.17693810001947,8.179487199988216,9.185583699960262,10.192928200005554,11.209768800064921,12.222219799994491,13.236241100006737,14.243544299970381],\"y\":[739.651584,738.443264,677.605376,587.911168,731.594752,734.437376,741.404672,727.011328,630.104064,729.772032,742.346752,743.60832,708.698112,662.1184,663.171072]},\"selected\":{\"id\":\"1164\"},\"selection_policy\":{\"id\":\"1163\"}},\"id\":\"1148\",\"type\":\"ColumnDataSource\"},{\"attributes\":{\"line_alpha\":0.1,\"line_color\":\"#29788E\",\"line_width\":4,\"x\":{\"field\":\"x\"},\"y\":{\"field\":\"y\"}},\"id\":\"1150\",\"type\":\"Line\"},{\"attributes\":{},\"id\":\"1181\",\"type\":\"BasicTickFormatter\"},{\"attributes\":{\"coordinates\":null,\"data_source\":{\"id\":\"1130\"},\"glyph\":{\"id\":\"1131\"},\"group\":null,\"hover_glyph\":null,\"muted_glyph\":{\"id\":\"1133\"},\"nonselection_glyph\":{\"id\":\"1132\"},\"view\":{\"id\":\"1135\"}},\"id\":\"1134\",\"type\":\"GlyphRenderer\"},{\"attributes\":{},\"id\":\"1182\",\"type\":\"AllLabels\"},{\"attributes\":{\"label\":{\"value\":\"Memory\"},\"renderers\":[{\"id\":\"1152\"}]},\"id\":\"1165\",\"type\":\"LegendItem\"},{\"attributes\":{},\"id\":\"1180\",\"type\":\"BasicTicker\"},{\"attributes\":{\"end\":14.243544299970381},\"id\":\"1105\",\"type\":\"Range1d\"},{\"attributes\":{\"source\":{\"id\":\"1130\"}},\"id\":\"1135\",\"type\":\"CDSView\"},{\"attributes\":{},\"id\":\"1142\",\"type\":\"AllLabels\"},{\"attributes\":{\"line_alpha\":0.2,\"line_color\":\"#440154\",\"line_width\":4,\"x\":{\"field\":\"x\"},\"y\":{\"field\":\"y\"}},\"id\":\"1133\",\"type\":\"Line\"},{\"attributes\":{\"axis_label\":\"Time (s)\",\"coordinates\":null,\"formatter\":{\"id\":\"1141\"},\"group\":null,\"major_label_policy\":{\"id\":\"1142\"},\"ticker\":{\"id\":\"1114\"}},\"id\":\"1113\",\"type\":\"LinearAxis\"},{\"attributes\":{},\"id\":\"1109\",\"type\":\"LinearScale\"},{\"attributes\":{\"end\":1144.2},\"id\":\"1107\",\"type\":\"Range1d\"},{\"attributes\":{},\"id\":\"1163\",\"type\":\"UnionRenderers\"},{\"attributes\":{\"line_color\":\"#440154\",\"line_width\":4,\"x\":{\"field\":\"x\"},\"y\":{\"field\":\"y\"}},\"id\":\"1131\",\"type\":\"Line\"},{\"attributes\":{},\"id\":\"1111\",\"type\":\"LinearScale\"},{\"attributes\":{},\"id\":\"1164\",\"type\":\"Selection\"},{\"attributes\":{\"data\":{\"x\":[0.0,1.1073278000112623,2.1150099999504164,3.117834100034088,4.130729399970733,5.147017500014044,6.15955149999354,7.17693810001947,8.179487199988216,9.185583699960262,10.192928200005554,11.209768800064921,12.222219799994491,13.236241100006737,14.243544299970381],\"y\":[0.0,619.0,582.9,659.4,1008.9,979.1,956.6,765.1,812.5,846.9,895.1,1144.2,822.0,827.4,985.9]},\"selected\":{\"id\":\"1144\"},\"selection_policy\":{\"id\":\"1143\"}},\"id\":\"1130\",\"type\":\"ColumnDataSource\"}],\"root_ids\":[\"1102\"]},\"title\":\"Bokeh Application\",\"version\":\"2.4.3\"}};\n",
       "  const render_items = [{\"docid\":\"d3b7fc81-0609-4682-affa-26ad083a1ff4\",\"root_ids\":[\"1102\"],\"roots\":{\"1102\":\"5d91759b-d97d-480d-94b9-8d9c93480e30\"}}];\n",
       "  root.Bokeh.embed.embed_items_notebook(docs_json, render_items);\n",
       "  }\n",
       "  if (root.Bokeh !== undefined) {\n",
       "    embed_document(root);\n",
       "  } else {\n",
       "    let attempts = 0;\n",
       "    const timer = setInterval(function(root) {\n",
       "      if (root.Bokeh !== undefined) {\n",
       "        clearInterval(timer);\n",
       "        embed_document(root);\n",
       "      } else {\n",
       "        attempts++;\n",
       "        if (attempts > 100) {\n",
       "          clearInterval(timer);\n",
       "          console.log(\"Bokeh: ERROR: Unable to run BokehJS code because BokehJS library is missing\");\n",
       "        }\n",
       "      }\n",
       "    }, 10, root)\n",
       "  }\n",
       "})(window);"
      ],
      "application/vnd.bokehjs_exec.v0+json": ""
     },
     "metadata": {
      "application/vnd.bokehjs_exec.v0+json": {
       "id": "1102"
      }
     },
     "output_type": "display_data"
    }
   ],
   "source": [
    "profilers[1].visualize();"
   ]
  },
  {
   "cell_type": "markdown",
   "id": "95a9fa0a-f044-40cd-8964-9e4a1911fa87",
   "metadata": {},
   "source": [
    "We ran the calculation on a single computer with an 4-core CPU with 2 threads per core for 8 threads total. We see that our peak CPU usage was $\\sim 600 \\%$, this is a fairly typical usage statistic for a single machine, overhead and background processes limited us from reaching the $800 \\ \\%$ corresponding to using every available thread maximally.\n",
    "\n",
    "We also see that the total memory use reached around 800 MB. If you are running the calculation on a system with more threads your memory consumption may be larger – it may even exceed the total memory cost of all the wave functions, as every parallel run of the multislice algorithm requires a significant overhead for intermediate results (such as potential slices and Fresnel propagators). If your calculation runs out of memory you can lower the number of workers, thus trading away computational speed for lower memory consumption.\n",
    "\n",
    "We note that the overhead in both CPU usage and memory diminishes for larger simulation with more powerful hardware."
   ]
  },
  {
   "cell_type": "markdown",
   "id": "88a96448-5a2a-4c60-9ce7-7a2f43845d3c",
   "metadata": {},
   "source": [
    "### The (locally) distributed scheduler\n",
    "The Dask distributed scheduler is necessary for running your simulations on a cluster, but it also runs [locally on a personal machine](https://docs.dask.org/en/stable/scheduling.html#dask-distributed-local). You can find details in the Dask documentation, but we demonstrate the basics below.\n",
    "\n",
    "You can use the Dask distributed scheduler by just initializing a [Dask Client](https://distributed.dask.org/en/stable/client.html). The `Client` takes keyword arguments such as `n_workers` (note that this is different from `num_workers` above!)"
   ]
  },
  {
   "cell_type": "code",
   "execution_count": 17,
   "id": "2b7c37a3-909c-482e-99fb-72e4eb222a5a",
   "metadata": {},
   "outputs": [
    {
     "data": {
      "text/html": [
       "<div>\n",
       "    <div style=\"width: 24px; height: 24px; background-color: #e1e1e1; border: 3px solid #9D9D9D; border-radius: 5px; position: absolute;\"> </div>\n",
       "    <div style=\"margin-left: 48px;\">\n",
       "        <h3 style=\"margin-bottom: 0px;\">Client</h3>\n",
       "        <p style=\"color: #9D9D9D; margin-bottom: 0px;\">Client-7fc8bf42-ef26-11ed-ad08-3800259eb785</p>\n",
       "        <table style=\"width: 100%; text-align: left;\">\n",
       "\n",
       "        <tr>\n",
       "        \n",
       "            <td style=\"text-align: left;\"><strong>Connection method:</strong> Cluster object</td>\n",
       "            <td style=\"text-align: left;\"><strong>Cluster type:</strong> distributed.LocalCluster</td>\n",
       "        \n",
       "        </tr>\n",
       "\n",
       "        \n",
       "            <tr>\n",
       "                <td style=\"text-align: left;\">\n",
       "                    <strong>Dashboard: </strong> <a href=\"http://127.0.0.1:8787/status\" target=\"_blank\">http://127.0.0.1:8787/status</a>\n",
       "                </td>\n",
       "                <td style=\"text-align: left;\"></td>\n",
       "            </tr>\n",
       "        \n",
       "\n",
       "        </table>\n",
       "\n",
       "        \n",
       "            <button style=\"margin-bottom: 12px;\" data-commandlinker-command=\"dask:populate-and-launch-layout\" data-commandlinker-args='{\"url\": \"http://127.0.0.1:8787/status\" }'>\n",
       "                Launch dashboard in JupyterLab\n",
       "            </button>\n",
       "        \n",
       "\n",
       "        \n",
       "            <details>\n",
       "            <summary style=\"margin-bottom: 20px;\"><h3 style=\"display: inline;\">Cluster Info</h3></summary>\n",
       "            <div class=\"jp-RenderedHTMLCommon jp-RenderedHTML jp-mod-trusted jp-OutputArea-output\">\n",
       "    <div style=\"width: 24px; height: 24px; background-color: #e1e1e1; border: 3px solid #9D9D9D; border-radius: 5px; position: absolute;\">\n",
       "    </div>\n",
       "    <div style=\"margin-left: 48px;\">\n",
       "        <h3 style=\"margin-bottom: 0px; margin-top: 0px;\">LocalCluster</h3>\n",
       "        <p style=\"color: #9D9D9D; margin-bottom: 0px;\">0475e75e</p>\n",
       "        <table style=\"width: 100%; text-align: left;\">\n",
       "            <tr>\n",
       "                <td style=\"text-align: left;\">\n",
       "                    <strong>Dashboard:</strong> <a href=\"http://127.0.0.1:8787/status\" target=\"_blank\">http://127.0.0.1:8787/status</a>\n",
       "                </td>\n",
       "                <td style=\"text-align: left;\">\n",
       "                    <strong>Workers:</strong> 6\n",
       "                </td>\n",
       "            </tr>\n",
       "            <tr>\n",
       "                <td style=\"text-align: left;\">\n",
       "                    <strong>Total threads:</strong> 18\n",
       "                </td>\n",
       "                <td style=\"text-align: left;\">\n",
       "                    <strong>Total memory:</strong> 31.93 GiB\n",
       "                </td>\n",
       "            </tr>\n",
       "            \n",
       "            <tr>\n",
       "    <td style=\"text-align: left;\"><strong>Status:</strong> running</td>\n",
       "    <td style=\"text-align: left;\"><strong>Using processes:</strong> True</td>\n",
       "</tr>\n",
       "\n",
       "            \n",
       "        </table>\n",
       "\n",
       "        <details>\n",
       "            <summary style=\"margin-bottom: 20px;\">\n",
       "                <h3 style=\"display: inline;\">Scheduler Info</h3>\n",
       "            </summary>\n",
       "\n",
       "            <div style=\"\">\n",
       "    <div>\n",
       "        <div style=\"width: 24px; height: 24px; background-color: #FFF7E5; border: 3px solid #FF6132; border-radius: 5px; position: absolute;\"> </div>\n",
       "        <div style=\"margin-left: 48px;\">\n",
       "            <h3 style=\"margin-bottom: 0px;\">Scheduler</h3>\n",
       "            <p style=\"color: #9D9D9D; margin-bottom: 0px;\">Scheduler-152c9f7a-f78c-4d56-832e-34b941cc5e9f</p>\n",
       "            <table style=\"width: 100%; text-align: left;\">\n",
       "                <tr>\n",
       "                    <td style=\"text-align: left;\">\n",
       "                        <strong>Comm:</strong> tcp://127.0.0.1:56978\n",
       "                    </td>\n",
       "                    <td style=\"text-align: left;\">\n",
       "                        <strong>Workers:</strong> 6\n",
       "                    </td>\n",
       "                </tr>\n",
       "                <tr>\n",
       "                    <td style=\"text-align: left;\">\n",
       "                        <strong>Dashboard:</strong> <a href=\"http://127.0.0.1:8787/status\" target=\"_blank\">http://127.0.0.1:8787/status</a>\n",
       "                    </td>\n",
       "                    <td style=\"text-align: left;\">\n",
       "                        <strong>Total threads:</strong> 18\n",
       "                    </td>\n",
       "                </tr>\n",
       "                <tr>\n",
       "                    <td style=\"text-align: left;\">\n",
       "                        <strong>Started:</strong> Just now\n",
       "                    </td>\n",
       "                    <td style=\"text-align: left;\">\n",
       "                        <strong>Total memory:</strong> 31.93 GiB\n",
       "                    </td>\n",
       "                </tr>\n",
       "            </table>\n",
       "        </div>\n",
       "    </div>\n",
       "\n",
       "    <details style=\"margin-left: 48px;\">\n",
       "        <summary style=\"margin-bottom: 20px;\">\n",
       "            <h3 style=\"display: inline;\">Workers</h3>\n",
       "        </summary>\n",
       "\n",
       "        \n",
       "        <div style=\"margin-bottom: 20px;\">\n",
       "            <div style=\"width: 24px; height: 24px; background-color: #DBF5FF; border: 3px solid #4CC9FF; border-radius: 5px; position: absolute;\"> </div>\n",
       "            <div style=\"margin-left: 48px;\">\n",
       "            <details>\n",
       "                <summary>\n",
       "                    <h4 style=\"margin-bottom: 0px; display: inline;\">Worker: 0</h4>\n",
       "                </summary>\n",
       "                <table style=\"width: 100%; text-align: left;\">\n",
       "                    <tr>\n",
       "                        <td style=\"text-align: left;\">\n",
       "                            <strong>Comm: </strong> tcp://127.0.0.1:57009\n",
       "                        </td>\n",
       "                        <td style=\"text-align: left;\">\n",
       "                            <strong>Total threads: </strong> 3\n",
       "                        </td>\n",
       "                    </tr>\n",
       "                    <tr>\n",
       "                        <td style=\"text-align: left;\">\n",
       "                            <strong>Dashboard: </strong> <a href=\"http://127.0.0.1:57012/status\" target=\"_blank\">http://127.0.0.1:57012/status</a>\n",
       "                        </td>\n",
       "                        <td style=\"text-align: left;\">\n",
       "                            <strong>Memory: </strong> 5.32 GiB\n",
       "                        </td>\n",
       "                    </tr>\n",
       "                    <tr>\n",
       "                        <td style=\"text-align: left;\">\n",
       "                            <strong>Nanny: </strong> tcp://127.0.0.1:56981\n",
       "                        </td>\n",
       "                        <td style=\"text-align: left;\"></td>\n",
       "                    </tr>\n",
       "                    <tr>\n",
       "                        <td colspan=\"2\" style=\"text-align: left;\">\n",
       "                            <strong>Local directory: </strong> C:\\Users\\jacob\\AppData\\Local\\Temp\\dask-worker-space\\worker-vnq3ke31\n",
       "                        </td>\n",
       "                    </tr>\n",
       "\n",
       "                    \n",
       "\n",
       "                    \n",
       "\n",
       "                </table>\n",
       "            </details>\n",
       "            </div>\n",
       "        </div>\n",
       "        \n",
       "        <div style=\"margin-bottom: 20px;\">\n",
       "            <div style=\"width: 24px; height: 24px; background-color: #DBF5FF; border: 3px solid #4CC9FF; border-radius: 5px; position: absolute;\"> </div>\n",
       "            <div style=\"margin-left: 48px;\">\n",
       "            <details>\n",
       "                <summary>\n",
       "                    <h4 style=\"margin-bottom: 0px; display: inline;\">Worker: 1</h4>\n",
       "                </summary>\n",
       "                <table style=\"width: 100%; text-align: left;\">\n",
       "                    <tr>\n",
       "                        <td style=\"text-align: left;\">\n",
       "                            <strong>Comm: </strong> tcp://127.0.0.1:57005\n",
       "                        </td>\n",
       "                        <td style=\"text-align: left;\">\n",
       "                            <strong>Total threads: </strong> 3\n",
       "                        </td>\n",
       "                    </tr>\n",
       "                    <tr>\n",
       "                        <td style=\"text-align: left;\">\n",
       "                            <strong>Dashboard: </strong> <a href=\"http://127.0.0.1:57006/status\" target=\"_blank\">http://127.0.0.1:57006/status</a>\n",
       "                        </td>\n",
       "                        <td style=\"text-align: left;\">\n",
       "                            <strong>Memory: </strong> 5.32 GiB\n",
       "                        </td>\n",
       "                    </tr>\n",
       "                    <tr>\n",
       "                        <td style=\"text-align: left;\">\n",
       "                            <strong>Nanny: </strong> tcp://127.0.0.1:56982\n",
       "                        </td>\n",
       "                        <td style=\"text-align: left;\"></td>\n",
       "                    </tr>\n",
       "                    <tr>\n",
       "                        <td colspan=\"2\" style=\"text-align: left;\">\n",
       "                            <strong>Local directory: </strong> C:\\Users\\jacob\\AppData\\Local\\Temp\\dask-worker-space\\worker-dlzxlt3k\n",
       "                        </td>\n",
       "                    </tr>\n",
       "\n",
       "                    \n",
       "\n",
       "                    \n",
       "\n",
       "                </table>\n",
       "            </details>\n",
       "            </div>\n",
       "        </div>\n",
       "        \n",
       "        <div style=\"margin-bottom: 20px;\">\n",
       "            <div style=\"width: 24px; height: 24px; background-color: #DBF5FF; border: 3px solid #4CC9FF; border-radius: 5px; position: absolute;\"> </div>\n",
       "            <div style=\"margin-left: 48px;\">\n",
       "            <details>\n",
       "                <summary>\n",
       "                    <h4 style=\"margin-bottom: 0px; display: inline;\">Worker: 2</h4>\n",
       "                </summary>\n",
       "                <table style=\"width: 100%; text-align: left;\">\n",
       "                    <tr>\n",
       "                        <td style=\"text-align: left;\">\n",
       "                            <strong>Comm: </strong> tcp://127.0.0.1:57008\n",
       "                        </td>\n",
       "                        <td style=\"text-align: left;\">\n",
       "                            <strong>Total threads: </strong> 3\n",
       "                        </td>\n",
       "                    </tr>\n",
       "                    <tr>\n",
       "                        <td style=\"text-align: left;\">\n",
       "                            <strong>Dashboard: </strong> <a href=\"http://127.0.0.1:57010/status\" target=\"_blank\">http://127.0.0.1:57010/status</a>\n",
       "                        </td>\n",
       "                        <td style=\"text-align: left;\">\n",
       "                            <strong>Memory: </strong> 5.32 GiB\n",
       "                        </td>\n",
       "                    </tr>\n",
       "                    <tr>\n",
       "                        <td style=\"text-align: left;\">\n",
       "                            <strong>Nanny: </strong> tcp://127.0.0.1:56983\n",
       "                        </td>\n",
       "                        <td style=\"text-align: left;\"></td>\n",
       "                    </tr>\n",
       "                    <tr>\n",
       "                        <td colspan=\"2\" style=\"text-align: left;\">\n",
       "                            <strong>Local directory: </strong> C:\\Users\\jacob\\AppData\\Local\\Temp\\dask-worker-space\\worker-q7u9vqr6\n",
       "                        </td>\n",
       "                    </tr>\n",
       "\n",
       "                    \n",
       "\n",
       "                    \n",
       "\n",
       "                </table>\n",
       "            </details>\n",
       "            </div>\n",
       "        </div>\n",
       "        \n",
       "        <div style=\"margin-bottom: 20px;\">\n",
       "            <div style=\"width: 24px; height: 24px; background-color: #DBF5FF; border: 3px solid #4CC9FF; border-radius: 5px; position: absolute;\"> </div>\n",
       "            <div style=\"margin-left: 48px;\">\n",
       "            <details>\n",
       "                <summary>\n",
       "                    <h4 style=\"margin-bottom: 0px; display: inline;\">Worker: 3</h4>\n",
       "                </summary>\n",
       "                <table style=\"width: 100%; text-align: left;\">\n",
       "                    <tr>\n",
       "                        <td style=\"text-align: left;\">\n",
       "                            <strong>Comm: </strong> tcp://127.0.0.1:57014\n",
       "                        </td>\n",
       "                        <td style=\"text-align: left;\">\n",
       "                            <strong>Total threads: </strong> 3\n",
       "                        </td>\n",
       "                    </tr>\n",
       "                    <tr>\n",
       "                        <td style=\"text-align: left;\">\n",
       "                            <strong>Dashboard: </strong> <a href=\"http://127.0.0.1:57016/status\" target=\"_blank\">http://127.0.0.1:57016/status</a>\n",
       "                        </td>\n",
       "                        <td style=\"text-align: left;\">\n",
       "                            <strong>Memory: </strong> 5.32 GiB\n",
       "                        </td>\n",
       "                    </tr>\n",
       "                    <tr>\n",
       "                        <td style=\"text-align: left;\">\n",
       "                            <strong>Nanny: </strong> tcp://127.0.0.1:56984\n",
       "                        </td>\n",
       "                        <td style=\"text-align: left;\"></td>\n",
       "                    </tr>\n",
       "                    <tr>\n",
       "                        <td colspan=\"2\" style=\"text-align: left;\">\n",
       "                            <strong>Local directory: </strong> C:\\Users\\jacob\\AppData\\Local\\Temp\\dask-worker-space\\worker-b31idelv\n",
       "                        </td>\n",
       "                    </tr>\n",
       "\n",
       "                    \n",
       "\n",
       "                    \n",
       "\n",
       "                </table>\n",
       "            </details>\n",
       "            </div>\n",
       "        </div>\n",
       "        \n",
       "        <div style=\"margin-bottom: 20px;\">\n",
       "            <div style=\"width: 24px; height: 24px; background-color: #DBF5FF; border: 3px solid #4CC9FF; border-radius: 5px; position: absolute;\"> </div>\n",
       "            <div style=\"margin-left: 48px;\">\n",
       "            <details>\n",
       "                <summary>\n",
       "                    <h4 style=\"margin-bottom: 0px; display: inline;\">Worker: 4</h4>\n",
       "                </summary>\n",
       "                <table style=\"width: 100%; text-align: left;\">\n",
       "                    <tr>\n",
       "                        <td style=\"text-align: left;\">\n",
       "                            <strong>Comm: </strong> tcp://127.0.0.1:57015\n",
       "                        </td>\n",
       "                        <td style=\"text-align: left;\">\n",
       "                            <strong>Total threads: </strong> 3\n",
       "                        </td>\n",
       "                    </tr>\n",
       "                    <tr>\n",
       "                        <td style=\"text-align: left;\">\n",
       "                            <strong>Dashboard: </strong> <a href=\"http://127.0.0.1:57018/status\" target=\"_blank\">http://127.0.0.1:57018/status</a>\n",
       "                        </td>\n",
       "                        <td style=\"text-align: left;\">\n",
       "                            <strong>Memory: </strong> 5.32 GiB\n",
       "                        </td>\n",
       "                    </tr>\n",
       "                    <tr>\n",
       "                        <td style=\"text-align: left;\">\n",
       "                            <strong>Nanny: </strong> tcp://127.0.0.1:56985\n",
       "                        </td>\n",
       "                        <td style=\"text-align: left;\"></td>\n",
       "                    </tr>\n",
       "                    <tr>\n",
       "                        <td colspan=\"2\" style=\"text-align: left;\">\n",
       "                            <strong>Local directory: </strong> C:\\Users\\jacob\\AppData\\Local\\Temp\\dask-worker-space\\worker-uhn4fokg\n",
       "                        </td>\n",
       "                    </tr>\n",
       "\n",
       "                    \n",
       "\n",
       "                    \n",
       "\n",
       "                </table>\n",
       "            </details>\n",
       "            </div>\n",
       "        </div>\n",
       "        \n",
       "        <div style=\"margin-bottom: 20px;\">\n",
       "            <div style=\"width: 24px; height: 24px; background-color: #DBF5FF; border: 3px solid #4CC9FF; border-radius: 5px; position: absolute;\"> </div>\n",
       "            <div style=\"margin-left: 48px;\">\n",
       "            <details>\n",
       "                <summary>\n",
       "                    <h4 style=\"margin-bottom: 0px; display: inline;\">Worker: 5</h4>\n",
       "                </summary>\n",
       "                <table style=\"width: 100%; text-align: left;\">\n",
       "                    <tr>\n",
       "                        <td style=\"text-align: left;\">\n",
       "                            <strong>Comm: </strong> tcp://127.0.0.1:57020\n",
       "                        </td>\n",
       "                        <td style=\"text-align: left;\">\n",
       "                            <strong>Total threads: </strong> 3\n",
       "                        </td>\n",
       "                    </tr>\n",
       "                    <tr>\n",
       "                        <td style=\"text-align: left;\">\n",
       "                            <strong>Dashboard: </strong> <a href=\"http://127.0.0.1:57021/status\" target=\"_blank\">http://127.0.0.1:57021/status</a>\n",
       "                        </td>\n",
       "                        <td style=\"text-align: left;\">\n",
       "                            <strong>Memory: </strong> 5.32 GiB\n",
       "                        </td>\n",
       "                    </tr>\n",
       "                    <tr>\n",
       "                        <td style=\"text-align: left;\">\n",
       "                            <strong>Nanny: </strong> tcp://127.0.0.1:56986\n",
       "                        </td>\n",
       "                        <td style=\"text-align: left;\"></td>\n",
       "                    </tr>\n",
       "                    <tr>\n",
       "                        <td colspan=\"2\" style=\"text-align: left;\">\n",
       "                            <strong>Local directory: </strong> C:\\Users\\jacob\\AppData\\Local\\Temp\\dask-worker-space\\worker-dejjxdfk\n",
       "                        </td>\n",
       "                    </tr>\n",
       "\n",
       "                    \n",
       "\n",
       "                    \n",
       "\n",
       "                </table>\n",
       "            </details>\n",
       "            </div>\n",
       "        </div>\n",
       "        \n",
       "\n",
       "    </details>\n",
       "</div>\n",
       "\n",
       "        </details>\n",
       "    </div>\n",
       "</div>\n",
       "            </details>\n",
       "        \n",
       "\n",
       "    </div>\n",
       "</div>"
      ],
      "text/plain": [
       "<Client: 'tcp://127.0.0.1:56978' processes=6 threads=18, memory=31.93 GiB>"
      ]
     },
     "execution_count": 17,
     "metadata": {},
     "output_type": "execute_result"
    }
   ],
   "source": [
    "from dask.distributed import Client\n",
    "\n",
    "client = Client(n_workers=6)\n",
    "client"
   ]
  },
  {
   "cell_type": "markdown",
   "id": "cd8cacd8-4c48-4eea-930c-33f3fe834410",
   "metadata": {},
   "source": [
    "After intializing the client object, any *ab*TEM computation will use the Dask distributed scheduler."
   ]
  },
  {
   "cell_type": "code",
   "execution_count": 18,
   "id": "2b0d7e8f-24dd-4ada-9650-874e750a3652",
   "metadata": {},
   "outputs": [
    {
     "data": {
      "text/plain": [
       "<abtem.measurements.Images object at 0x000001C30009FC10>"
      ]
     },
     "execution_count": 18,
     "metadata": {},
     "output_type": "execute_result"
    }
   ],
   "source": [
    "haadf_images = detector.detect(exit_waves_stem).reduce_ensemble()\n",
    "haadf_images.compute() #compute()"
   ]
  },
  {
   "cell_type": "markdown",
   "id": "31a20506-7155-45f0-b641-3931bbb20029",
   "metadata": {},
   "source": [
    "A benefit of using the distributed scheduler on a single machine is the live diagnostic dashboard. You can access this through the Dashboard link shown in the `__repr__` for the `Client` above (for details you can watch [this](https://www.youtube.com/watch?v=N_GqzcuGLCY) video walkthrough). If you are using Jupyter Lab, the [Dask labextension](https://github.com/dask/dask-labextension) provides the same information as a panel inside the Jupyter Lab editor.\n",
    "\n",
    "We can get back to the local scheduler by closing the `Client`."
   ]
  },
  {
   "cell_type": "code",
   "execution_count": 19,
   "id": "e38de7a7-2b82-442e-8258-d9e2717a7b2b",
   "metadata": {},
   "outputs": [],
   "source": [
    "client.close()"
   ]
  },
  {
   "cell_type": "markdown",
   "id": "dffe61f7-43d8-47e6-a00a-3e73e33320ad",
   "metadata": {},
   "source": [
    "### Running *ab*TEM on HPC clusters\n",
    "\n",
    "Dask (and thus *ab*TEM) has robust tools for deployment on high-performance compute clusters. We recommend consulting your HPC provider on how to deploy Dask applications on your available cluster. For general advice on deployment, please see the [Dask documentation](https://docs.dask.org/en/stable/deploying.html).\n",
    "\n",
    "#### Submitting job scripts \n",
    "\n",
    "As an overview, Dask provides a number of different cluster managers, so you can use distributed Dask on a range of platforms. These cluster managers deploy a scheduler and the necessary workers as determined by communicating with the resource manager. All cluster managers follow the same interface but have platform-specific configuration options.\n",
    "\n",
    "As an example, for deployment using [SLURM](https://slurm.schedmd.com/documentation.html), your script might look something like:\n",
    "\n",
    "```python\n",
    "from dask_jobqueue import SLURMCluster\n",
    "from dask.distributed import Client\n",
    "\n",
    "cluster = SLURMCluster(\n",
    "    queue=\"regular\",\n",
    "    account=\"myaccount\",\n",
    "    cores=32,\n",
    "    memory=\"128 GB\"\n",
    ")\n",
    "\n",
    "client = Client(cluster)\n",
    "\n",
    "# Your abTEM code goes here\n",
    "\n",
    "```\n",
    "\n",
    "Dask also supports deployment from within an existing MPI environment, such as one created with the common MPI command-line launcher `mpirun`, see [here](http://mpi.dask.org/en/latest/) for more information. You can turn your batch Python script into an MPI executable with the `dask_mpi.initialize` function. \n",
    "\n",
    "```python\n",
    "from dask_mpi import initialize\n",
    "initialize()\n",
    "\n",
    "from dask.distributed import Client\n",
    "client = Client()  # Connect this local process to remote workers\n",
    "\n",
    "# Your abTEM code goes here\n",
    "```\n",
    "\n",
    "This makes your Python script launchable directly with `mpirun`:\n",
    "```\n",
    "mpirun -np 4 python my_client_script.py\n",
    "```"
   ]
  },
  {
   "cell_type": "markdown",
   "id": "e39cb8d2-a898-478d-9831-275ac5f2f06b",
   "metadata": {
    "pycharm": {
     "name": "#%% md\n"
    }
   },
   "source": [
    "(walkthrough:parallelization:gpu)=\n",
    "## Using GPUs\n",
    "\n",
    "Almost every part of *ab*TEM can be accelerated using a GPU through the [CuPy](https://cupy.dev/) library. We have only tested CUDA-compatible GPUs, but any graphics card compatible with CuPy should work.\n",
    "\n",
    "If you have a compatible GPU and a working installation of CuPy, you can accelerate your image simulations by simply changing the configs at the top of your document as below:\n",
    "```python\n",
    "abtem.config.set({\"device\": \"gpu\"});\n",
    "```\n",
    "On a single GPU, you may also want to limit the number of workers to one, `num_workers=1`. As described above, this may be done through the Dask config:\n",
    "```python\n",
    "dask.config.set({\"num_workers\": 1});\n",
    "```\n",
    "\n",
    "Note that Dask does not manage GPU threads. This makes the choice of batch sizes (i.e. propagating multiple wave functions in a single batch) extremely important in order to fully utilize your GPU. The default batch size in GPU calculations in abTEM is $512\\ \\mathrm{MB}$, which is four times larger than the CPU batch size, but if your GPU has $8\\ \\mathrm{GB}$ or more memory, you will likely be able to increase this number to $2048\\ \\mathrm{MB}$.\n",
    "\n",
    "```python\n",
    "abtem.config.set({\"dask.chunk-size-gpu\" : \"512 MB\"})\n",
    "```\n",
    "\n",
    "```{note}\n",
    "The batch size only determines the maximum number of plane waves in a batch, so you need to leave room in the memory for any intermediate overhead. \n",
    "```\n",
    "\n",
    "Finally, *ab*TEM by default sets the [FFT plan cache](https://docs.cupy.dev/en/stable/user_guide/fft.html#fft-plan-cache) size of `cupy` to zero, as we find that in most cases the increased memory consumption of the plans are not worth the small speedup they provide. You can however also change this through the *ab*TEM config.\n",
    "\n",
    "```python\n",
    "abtem.config.set({\"cupy.fft-cache-size\" : \"1024 MB\"})\n",
    "```"
   ]
  },
  {
   "cell_type": "markdown",
   "id": "94cdb086-c8a9-4736-a345-311d47379f34",
   "metadata": {},
   "source": [
    "### Multiple GPUs \n",
    "The above is enough for running *ab*TEM on a single GPU; if you are using an NVidia GPU, you may want to install `dask_cuda` (this is currently only supported on Linux). However, `dask_cuda` is currently necessary for multi-GPU calculations with *ab*TEM.\n",
    "\n",
    "```python\n",
    "from dask_cuda import LocalCUDACluster\n",
    "from dask.distributed import Client\n",
    "\n",
    "cluster = LocalCUDACluster()\n",
    "client = Client(cluster)\n",
    "```"
   ]
  },
  {
   "cell_type": "code",
   "execution_count": null,
   "id": "fa8f869a-ec10-4126-afc5-4c0bfaff3179",
   "metadata": {},
   "outputs": [],
   "source": []
  }
 ],
 "metadata": {
  "kernelspec": {
   "display_name": "abtem-dask",
   "language": "python",
   "name": "abtem-dask"
  },
  "language_info": {
   "codemirror_mode": {
    "name": "ipython",
    "version": 3
   },
   "file_extension": ".py",
   "mimetype": "text/x-python",
   "name": "python",
   "nbconvert_exporter": "python",
   "pygments_lexer": "ipython3",
   "version": "3.10.8"
  },
  "widgets": {
   "application/vnd.jupyter.widget-state+json": {
    "state": {
     "01843b901fe54796a9f1784c10b5ebe3": {
      "model_module": "jupyter-cytoscape",
      "model_module_version": "^1.3.3",
      "model_name": "EdgeModel",
      "state": {
       "_model_module_version": "^1.3.3",
       "_view_module_version": "^1.3.3",
       "classes": " directed ",
       "data": {
        "id": "2ea6ff51-e417-4f69-9b47-937391e27fec",
        "source": "810078179203581685",
        "target": "2361782142903575003"
       },
       "selectable": false
      }
     },
     "032bafb3ce2c4b678fbb163e35d2fc0b": {
      "model_module": "jupyter-cytoscape",
      "model_module_version": "^1.3.3",
      "model_name": "NodeModel",
      "state": {
       "_model_module_version": "^1.3.3",
       "_view_module_version": "^1.3.3",
       "data": {
        "color": "gray",
        "id": "1070549639486173199",
        "label": "(0, 0, 0)",
        "shape": "rectangle"
       },
       "grabbable": true,
       "grabbed": false,
       "position": {
        "x": 1279.5,
        "y": 515
       },
       "selectable": false
      }
     },
     "039d5dabec3f43d2a9daac33d954f817": {
      "model_module": "jupyter-cytoscape",
      "model_module_version": "^1.3.3",
      "model_name": "EdgeModel",
      "state": {
       "_model_module_version": "^1.3.3",
       "_view_module_version": "^1.3.3",
       "classes": " directed ",
       "data": {
        "id": "03ceeefa-ba39-427b-8c93-37f94461e8f4",
        "source": "499500750340367329",
        "target": "-5422821770474888810"
       },
       "selectable": false
      }
     },
     "095ab464137e4122a0ea87de9e1de890": {
      "model_module": "jupyter-cytoscape",
      "model_module_version": "^1.3.3",
      "model_name": "EdgeModel",
      "state": {
       "_model_module_version": "^1.3.3",
       "_view_module_version": "^1.3.3",
       "classes": " directed ",
       "data": {
        "id": "a3ed9aa2-97e5-4766-b144-811cffdf8de6",
        "source": "-4209520620448540298",
        "target": "-5857836881160752947"
       },
       "selectable": false
      }
     },
     "0a12f914f5ff4dffb830d6d066435cfc": {
      "model_module": "jupyter-cytoscape",
      "model_module_version": "^1.3.3",
      "model_name": "NodeModel",
      "state": {
       "_model_module_version": "^1.3.3",
       "_view_module_version": "^1.3.3",
       "data": {
        "color": "gray",
        "id": "3541767686187153126",
        "label": "extract_measurement",
        "shape": "ellipse"
       },
       "grabbable": true,
       "grabbed": false,
       "position": {
        "x": 545.5,
        "y": 155
       },
       "selectable": false
      }
     },
     "0ac03b9ed1ad463d97798dad42651920": {
      "model_module": "jupyter-cytoscape",
      "model_module_version": "^1.3.3",
      "model_name": "NodeModel",
      "state": {
       "_model_module_version": "^1.3.3",
       "_view_module_version": "^1.3.3",
       "data": {
        "color": "gray",
        "id": "2361782142903575003",
        "label": "intensity",
        "shape": "ellipse"
       },
       "grabbable": true,
       "grabbed": false,
       "position": {
        "x": 545.5,
        "y": 875
       },
       "selectable": false
      }
     },
     "0e656d402df0460caf7def7c553a6985": {
      "model_module": "jupyter-cytoscape",
      "model_module_version": "^1.3.3",
      "model_name": "EdgeModel",
      "state": {
       "_model_module_version": "^1.3.3",
       "_view_module_version": "^1.3.3",
       "classes": " directed ",
       "data": {
        "id": "fa3180d0-be7d-4309-a01f-7c345f565e5f",
        "source": "2406282145703000690",
        "target": "-6944243828321486697"
       },
       "selectable": false
      }
     },
     "0e9a48e6a4184b8080c7d6c2ceed098f": {
      "model_module": "jupyter-cytoscape",
      "model_module_version": "^1.3.3",
      "model_name": "EdgeModel",
      "state": {
       "_model_module_version": "^1.3.3",
       "_view_module_version": "^1.3.3",
       "classes": " directed ",
       "data": {
        "id": "d1d186a0-0b51-4fc7-845f-483570fe8bdc",
        "source": "-1703922727898310791",
        "target": "6051580670608713345"
       },
       "selectable": false
      }
     },
     "0ebd52703b8a457fb9899100b8b2bf84": {
      "model_module": "jupyter-cytoscape",
      "model_module_version": "^1.3.3",
      "model_name": "NodeModel",
      "state": {
       "_model_module_version": "^1.3.3",
       "_view_module_version": "^1.3.3",
       "data": {
        "color": "gray",
        "id": "6835505694027893383",
        "label": "",
        "shape": "rectangle"
       },
       "grabbable": true,
       "grabbed": false,
       "position": {
        "x": 178.5,
        "y": 1715
       },
       "selectable": false
      }
     },
     "1026ee6e56834bb9b0b7ff347e9c20f8": {
      "model_module": "jupyter-cytoscape",
      "model_module_version": "^1.3.3",
      "model_name": "EdgeModel",
      "state": {
       "_model_module_version": "^1.3.3",
       "_view_module_version": "^1.3.3",
       "classes": " directed ",
       "data": {
        "id": "def6d3a6-1bec-4109-8031-2147eb146e66",
        "source": "-1653929257316273405",
        "target": "5895277402577873808"
       },
       "selectable": false
      }
     },
     "10845894ee4c42f68c30850be32c4408": {
      "model_module": "jupyter-cytoscape",
      "model_module_version": "^1.3.3",
      "model_name": "NodeModel",
      "state": {
       "_model_module_version": "^1.3.3",
       "_view_module_version": "^1.3.3",
       "data": {
        "color": "gray",
        "id": "-7693542226415232514",
        "label": "0",
        "shape": "rectangle"
       },
       "grabbable": true,
       "grabbed": false,
       "position": {
        "x": 545.5,
        "y": 1595
       },
       "selectable": false
      }
     },
     "138e1e78ab524647876067072f70dace": {
      "model_module": "jupyter-cytoscape",
      "model_module_version": "^1.3.3",
      "model_name": "NodeModel",
      "state": {
       "_model_module_version": "^1.3.3",
       "_view_module_version": "^1.3.3",
       "data": {
        "color": "gray",
        "id": "-6944243828321486697",
        "label": "2",
        "shape": "rectangle"
       },
       "grabbable": true,
       "grabbed": false,
       "position": {
        "x": 912.5,
        "y": 515
       },
       "selectable": false
      }
     },
     "13ac284b3508469abd455551dc33a902": {
      "model_module": "jupyter-cytoscape",
      "model_module_version": "^1.3.3",
      "model_name": "NodeModel",
      "state": {
       "_model_module_version": "^1.3.3",
       "_view_module_version": "^1.3.3",
       "data": {
        "color": "gray",
        "id": "-1653929257316273405",
        "label": "frozen_phonon",
        "shape": "ellipse"
       },
       "grabbable": true,
       "grabbed": false,
       "position": {
        "x": 1279.5,
        "y": 1835
       },
       "selectable": false
      }
     },
     "1422a7ecf7da4e8590ca9b583655f628": {
      "model_module": "jupyter-cytoscape",
      "model_module_version": "^1.3.3",
      "model_name": "EdgeModel",
      "state": {
       "_model_module_version": "^1.3.3",
       "_view_module_version": "^1.3.3",
       "classes": " directed ",
       "data": {
        "id": "2ccfb555-f34d-4ff8-bd39-3500b0d0bbda",
        "source": "-3354387358256430148",
        "target": "-8542741005461023140"
       },
       "selectable": false
      }
     },
     "14c8943c6e1f4b9082e717d8a43a93c2": {
      "model_module": "jupyter-cytoscape",
      "model_module_version": "^1.3.3",
      "model_name": "EdgeModel",
      "state": {
       "_model_module_version": "^1.3.3",
       "_view_module_version": "^1.3.3",
       "classes": " directed ",
       "data": {
        "id": "3de5c7ca-a5be-4dd6-ba89-39b58c472bff",
        "source": "4300370699154126212",
        "target": "3630328286622679179"
       },
       "selectable": false
      }
     },
     "151cc072acf044f1b7e30e4ef9d1e882": {
      "model_module": "jupyter-cytoscape",
      "model_module_version": "^1.3.3",
      "model_name": "EdgeModel",
      "state": {
       "_model_module_version": "^1.3.3",
       "_view_module_version": "^1.3.3",
       "classes": " directed ",
       "data": {
        "id": "14b872f2-a75d-4e9d-8226-659e592f0e7c",
        "source": "464052315898536293",
        "target": "7616041141932927690"
       },
       "selectable": false
      }
     },
     "166a8ae40eda4f49880894fc0c8636f6": {
      "model_module": "jupyter-cytoscape",
      "model_module_version": "^1.3.3",
      "model_name": "NodeModel",
      "state": {
       "_model_module_version": "^1.3.3",
       "_view_module_version": "^1.3.3",
       "data": {
        "color": "gray",
        "id": "8856009679378780306",
        "label": "0",
        "shape": "rectangle"
       },
       "grabbable": true,
       "grabbed": false,
       "position": {
        "x": 1279.5,
        "y": 1595
       },
       "selectable": false
      }
     },
     "1701cf2188814f11abd53bc779a90b7c": {
      "model_module": "jupyter-cytoscape",
      "model_module_version": "^1.3.3",
      "model_name": "GraphModel",
      "state": {
       "_adj": {
        "-1296903761877800226": {},
        "-1653929257316273405": {},
        "-1703922727898310791": {},
        "-1862960938443786311": {},
        "-2051169799348790331": {},
        "-238250915541435836": {},
        "-2627731613285752971": {},
        "-2845578825766917715": {},
        "-3167971774838933152": {},
        "-3293617555864705465": {},
        "-3354387358256430148": {},
        "-4209520620448540298": {},
        "-456060085493285080": {},
        "-4834960455203856400": {},
        "-5343108670373922505": {},
        "-5422821770474888810": {},
        "-5857836881160752947": {},
        "-608163426589655437": {},
        "-6718206369712634508": {},
        "-6944243828321486697": {},
        "-7315417112224804855": {},
        "-7418910906284654138": {},
        "-7693542226415232514": {},
        "-8533153009492483184": {},
        "-8542741005461023140": {},
        "-8558810555450788756": {},
        "-8562023662267162015": {},
        "-899795822749737749": {},
        "1070549639486173199": {},
        "1158506641636016979": {},
        "137043589522582894": {},
        "1780364567614583725": {},
        "1825626203386745851": {},
        "2018804237602943200": {},
        "2361782142903575003": {},
        "2406282145703000690": {},
        "2637686347445298990": {},
        "2699234435108871492": {},
        "3217519610378635959": {},
        "3541767686187153126": {},
        "3630328286622679179": {},
        "4300370699154126212": {},
        "464052315898536293": {},
        "499500750340367329": {},
        "5275882287861292287": {},
        "5895277402577873808": {},
        "6051580670608713345": {},
        "6633429999649193878": {},
        "6835505694027893383": {},
        "7315583410895249853": {},
        "750257542093594870": {},
        "7616041141932927690": {},
        "810078179203581685": {},
        "8711588711220077226": {},
        "8835371326463779414": {},
        "8856009679378780306": {},
        "9024281998876616905": {},
        "9186935319246391255": {}
       },
       "_model_module_version": "^1.3.3",
       "_view_module": "jupyter-cytoscape",
       "_view_module_version": "^1.3.3",
       "edges": [
        "IPY_MODEL_bb19acc6068649e3b01b141177ad3df7",
        "IPY_MODEL_27ad713ed68b442b9b85d8bc7116c954",
        "IPY_MODEL_0e656d402df0460caf7def7c553a6985",
        "IPY_MODEL_3ce8e05df32143e2a1b48cc4922a28a7",
        "IPY_MODEL_1026ee6e56834bb9b0b7ff347e9c20f8",
        "IPY_MODEL_fc19d767e45f41b8878c02ba0727375e",
        "IPY_MODEL_30e4a25de66a4a1d8d56eeddc1337ca7",
        "IPY_MODEL_bc1fc081993f44c3822bf94b74dc1da0",
        "IPY_MODEL_e5875028780d487e8f273bbcf018ec11",
        "IPY_MODEL_ab99f4e6cd0b4248be8667b303267031",
        "IPY_MODEL_cb042373e8f84a819fa08da54fe1a63c",
        "IPY_MODEL_2c8d28ed691d4c08b69fa4e103b9edb2",
        "IPY_MODEL_f2f9c9efb86d46209386c80a13046be0",
        "IPY_MODEL_f15a7fd3c1b745078984850199516583",
        "IPY_MODEL_24eaab5b78ca4032afd3ba520242aa46",
        "IPY_MODEL_72df3836e1684c598d4cb22048bd9f88",
        "IPY_MODEL_1c9499c88d18494891e47b3b9c509941",
        "IPY_MODEL_6024dc83cf10406cb5cab6cb81d7c76e",
        "IPY_MODEL_776441a54f944efcb43931991bb47929",
        "IPY_MODEL_e42fe4dec8d34926b10cc610c531edc6",
        "IPY_MODEL_305bed84aeb74b0188f366a5edf2bb3f",
        "IPY_MODEL_c3f71e4cca864f6480933c332f586cba",
        "IPY_MODEL_4cad78bfe3554fc5a02ef9af164006c2",
        "IPY_MODEL_ac245bf5ea614698a677dfe1a251a94c",
        "IPY_MODEL_4b99b5531d624c80989388476acddd53",
        "IPY_MODEL_b2fba908095f45c68976976e5108dde6",
        "IPY_MODEL_e9585df860a543aba69c57a3edbf0dfc",
        "IPY_MODEL_808163197f3d4f41b9edcae68ef21e46",
        "IPY_MODEL_5196b7e90f6e40a4964a69dce9481095",
        "IPY_MODEL_8d4ba11a254e43e7a7230071956718eb",
        "IPY_MODEL_62b53e40e29847c1b49c72403fd4c7ef",
        "IPY_MODEL_ed0032a0255d4c74b39a9606649d92ab",
        "IPY_MODEL_5504e96bdf4c4ade9a84eccc9db1d33e",
        "IPY_MODEL_8175c704beb64fd2a118caa00ebeb84e",
        "IPY_MODEL_84c1d291842b49058f0f9cd653ec5cd6",
        "IPY_MODEL_6f406f8a73ea4f2ea2f4c5d366ad04ec",
        "IPY_MODEL_bd6f0c6d9ac44653ae57cd82a9a59f41",
        "IPY_MODEL_dc485a506ca8458aae2d5554cd87d8f1",
        "IPY_MODEL_50a1532897f54e89baaa563c051349f3",
        "IPY_MODEL_01843b901fe54796a9f1784c10b5ebe3",
        "IPY_MODEL_b67427b8dcac4122a43011e92a73dca3",
        "IPY_MODEL_559a5612154c44dea1361786129ace25",
        "IPY_MODEL_039d5dabec3f43d2a9daac33d954f817",
        "IPY_MODEL_6000167bb2804d51ba87616dc34d9e56",
        "IPY_MODEL_df526d277c704fc7b154c5a23c6bce18",
        "IPY_MODEL_1831b89201c04d74a8d5ec22a7a4c8eb",
        "IPY_MODEL_afcf2e643910485684c584e32f1f3c6d",
        "IPY_MODEL_1422a7ecf7da4e8590ca9b583655f628",
        "IPY_MODEL_780b58107338461dbca68bae69c7f567",
        "IPY_MODEL_1a5db13f473043fc835381ac616dfd6a",
        "IPY_MODEL_5cc4bf6ed9284d5ba7882126e9f425eb",
        "IPY_MODEL_efbabf14f6e04c83bdaec993937faaff",
        "IPY_MODEL_5caecf8f44b34f0b9bda8e3c161b1bbd",
        "IPY_MODEL_18db0c6b6bc34cff9c87ca697ccb046a",
        "IPY_MODEL_095ab464137e4122a0ea87de9e1de890",
        "IPY_MODEL_66e59f58a6da4f68ab3c7c578d3cce39",
        "IPY_MODEL_7ecd023a818849299981cb909c13c237"
       ],
       "nodes": [
        "IPY_MODEL_321900d8a218464caa3696e1c211a1b7",
        "IPY_MODEL_41004a645379462ba43c4f7237298df5",
        "IPY_MODEL_1de59478cdf240148691d00ec96a8284",
        "IPY_MODEL_abbd6551d41f4b7d99f15892db9bc369",
        "IPY_MODEL_5135c38ec859476c845e4afa8f7ae2dc",
        "IPY_MODEL_13ac284b3508469abd455551dc33a902",
        "IPY_MODEL_6949cd77fb9b434a84bdc800c31ce5ef",
        "IPY_MODEL_166a8ae40eda4f49880894fc0c8636f6",
        "IPY_MODEL_824065040da147d18695a76630951efb",
        "IPY_MODEL_f1fac33860444cde919d0d0989642afb",
        "IPY_MODEL_98deb4d6db4c4100b50b1253882fa64b",
        "IPY_MODEL_2c81b7c4104648c1ab4ed1bd5a77c5f8",
        "IPY_MODEL_c434a421756940c18fc8d8daa1f8b068",
        "IPY_MODEL_8bc2f10cdcb8460a8bd53f0095e9398c",
        "IPY_MODEL_0ebd52703b8a457fb9899100b8b2bf84",
        "IPY_MODEL_db1d21d4da684d76b2520ed6d72b6833",
        "IPY_MODEL_bc448a8a9c40468e98ff54eebeced6aa",
        "IPY_MODEL_f0d7593e8d6e40a88e4ac947bf0d5c5c",
        "IPY_MODEL_86b1bbc313464ffa8eaf6e56707e2eca",
        "IPY_MODEL_10845894ee4c42f68c30850be32c4408",
        "IPY_MODEL_d2df2b200a894342873710a370da5c45",
        "IPY_MODEL_b7b203d7dc974914881f7c0bf8b9028b",
        "IPY_MODEL_ebdfa03f80474349b8859b6b9a99d017",
        "IPY_MODEL_544d697ed0834e46932d2950a98ca876",
        "IPY_MODEL_591d6517e5b94e0790b62ac63434c43a",
        "IPY_MODEL_d95c8506fdc6497f9aa736125043bf0d",
        "IPY_MODEL_3d66a6b88ad94b8a8f9921dea4de6084",
        "IPY_MODEL_529f870a6048412681e064449b7d6877",
        "IPY_MODEL_ff4b9a7b647041e697f410b4884a0d6e",
        "IPY_MODEL_959f33679ce244a1a5448d779599ed56",
        "IPY_MODEL_9dc7c98c093a4351af43f9c37a87e0c2",
        "IPY_MODEL_4a8117b2617b46b0a3b36d18529255b5",
        "IPY_MODEL_891cf7d02240451a9f93ccad6034ce97",
        "IPY_MODEL_53a2a9df4c47486581124040fb8ea3c9",
        "IPY_MODEL_435c0e956add43ed95f2d948fa86d3fc",
        "IPY_MODEL_fe45cd7946914a1b93b1878795dec838",
        "IPY_MODEL_e49aded2468248a3b79e9ba5408bc568",
        "IPY_MODEL_a13dd256803142a58b417655fd0c8535",
        "IPY_MODEL_c8029fb8b4c24cefa6bd1afbb7dbadca",
        "IPY_MODEL_2770aa4d2cc84758b1037732e9ba4ebe",
        "IPY_MODEL_b0ef64632b9a4875a1647f9ca1a1cb7c",
        "IPY_MODEL_de97d719f05642608220a042c3af749c",
        "IPY_MODEL_0ac03b9ed1ad463d97798dad42651920",
        "IPY_MODEL_31c4089313b349a1b60c9e5976637584",
        "IPY_MODEL_59423a1d917e4f56abb10fdef63ccfec",
        "IPY_MODEL_032bafb3ce2c4b678fbb163e35d2fc0b",
        "IPY_MODEL_6f1ded9f2afb41c49b62ca0226cad647",
        "IPY_MODEL_66dcfe29fc94466c8ccca8a0925a8822",
        "IPY_MODEL_6fd790122ec040e3af4eca919f9d9efb",
        "IPY_MODEL_8776f61b3b6c48b9b65406efe3963417",
        "IPY_MODEL_eab43e1a1b494c9db7dee467e7745e03",
        "IPY_MODEL_d513033df67a4baa9cdf6b6b0e3b4272",
        "IPY_MODEL_8f6ed695d2374a17924aa3112453cd49",
        "IPY_MODEL_8e7b0bf07d07473489b20e3f515ee8bd",
        "IPY_MODEL_d2d7cbfa8b624e81a7239d7cf75a03ff",
        "IPY_MODEL_8caf781feef0462fa970cae25c3332a7",
        "IPY_MODEL_b71786a8279d442e84b9169bd0114923",
        "IPY_MODEL_768d881198f24a6f8067abaf9f28aed9"
       ]
      }
     },
     "1831b89201c04d74a8d5ec22a7a4c8eb": {
      "model_module": "jupyter-cytoscape",
      "model_module_version": "^1.3.3",
      "model_name": "EdgeModel",
      "state": {
       "_model_module_version": "^1.3.3",
       "_view_module_version": "^1.3.3",
       "classes": " directed ",
       "data": {
        "id": "7a5dd2ea-ff25-4627-8294-768848328520",
        "source": "-7418910906284654138",
        "target": "-8562023662267162015"
       },
       "selectable": false
      }
     },
     "18db0c6b6bc34cff9c87ca697ccb046a": {
      "model_module": "jupyter-cytoscape",
      "model_module_version": "^1.3.3",
      "model_name": "EdgeModel",
      "state": {
       "_model_module_version": "^1.3.3",
       "_view_module_version": "^1.3.3",
       "classes": " directed ",
       "data": {
        "id": "90d749e4-ec75-45e6-8d61-006969217c43",
        "source": "8711588711220077226",
        "target": "2699234435108871492"
       },
       "selectable": false
      }
     },
     "1a5db13f473043fc835381ac616dfd6a": {
      "model_module": "jupyter-cytoscape",
      "model_module_version": "^1.3.3",
      "model_name": "EdgeModel",
      "state": {
       "_model_module_version": "^1.3.3",
       "_view_module_version": "^1.3.3",
       "classes": " directed ",
       "data": {
        "id": "03085fd9-2fa8-4535-98d7-0b5a9d6756fb",
        "source": "-5422821770474888810",
        "target": "-3293617555864705465"
       },
       "selectable": false
      }
     },
     "1c9499c88d18494891e47b3b9c509941": {
      "model_module": "jupyter-cytoscape",
      "model_module_version": "^1.3.3",
      "model_name": "EdgeModel",
      "state": {
       "_model_module_version": "^1.3.3",
       "_view_module_version": "^1.3.3",
       "classes": " directed ",
       "data": {
        "id": "f3a0bd81-47f3-494c-8979-26749f54de41",
        "source": "137043589522582894",
        "target": "8835371326463779414"
       },
       "selectable": false
      }
     },
     "1d61a36db54d4d87acb0c1bc16c7721a": {
      "model_module": "jupyter-cytoscape",
      "model_module_version": "^1.3.3",
      "model_name": "NodeModel",
      "state": {
       "_model_module_version": "^1.3.3",
       "_view_module_version": "^1.3.3",
       "data": {
        "color": "gray",
        "id": "8856009679378780306",
        "label": "0",
        "shape": "rectangle"
       },
       "grabbable": true,
       "grabbed": false,
       "position": {
        "x": 178.5,
        "y": 635
       },
       "selectable": false
      }
     },
     "1dc09be7b8fd42c69d81d3b65446faf1": {
      "model_module": "jupyter-cytoscape",
      "model_module_version": "^1.3.3",
      "model_name": "EdgeModel",
      "state": {
       "_model_module_version": "^1.3.3",
       "_view_module_version": "^1.3.3",
       "classes": " directed ",
       "data": {
        "id": "b7047ae5-f8e9-4fdd-ab39-d6eae6e308fe",
        "source": "750257542093594870",
        "target": "-8533153009492483184"
       },
       "selectable": false
      }
     },
     "1de59478cdf240148691d00ec96a8284": {
      "model_module": "jupyter-cytoscape",
      "model_module_version": "^1.3.3",
      "model_name": "NodeModel",
      "state": {
       "_model_module_version": "^1.3.3",
       "_view_module_version": "^1.3.3",
       "data": {
        "color": "gray",
        "id": "-6944243828321486697",
        "label": "2",
        "shape": "rectangle"
       },
       "grabbable": true,
       "grabbed": false,
       "position": {
        "x": 178.5,
        "y": 1475
       },
       "selectable": false
      }
     },
     "24eaab5b78ca4032afd3ba520242aa46": {
      "model_module": "jupyter-cytoscape",
      "model_module_version": "^1.3.3",
      "model_name": "EdgeModel",
      "state": {
       "_model_module_version": "^1.3.3",
       "_view_module_version": "^1.3.3",
       "classes": " directed ",
       "data": {
        "id": "eae1f810-19d6-422e-a2f6-6e0f61b97e2b",
        "source": "-2845578825766917715",
        "target": "3217519610378635959"
       },
       "selectable": false
      }
     },
     "2770aa4d2cc84758b1037732e9ba4ebe": {
      "model_module": "jupyter-cytoscape",
      "model_module_version": "^1.3.3",
      "model_name": "NodeModel",
      "state": {
       "_model_module_version": "^1.3.3",
       "_view_module_version": "^1.3.3",
       "data": {
        "color": "gray",
        "id": "-2627731613285752971",
        "label": "(1, 0, 0)",
        "shape": "rectangle"
       },
       "grabbable": true,
       "grabbed": false,
       "position": {
        "x": 912.5,
        "y": 755
       },
       "selectable": false
      }
     },
     "27ad713ed68b442b9b85d8bc7116c954": {
      "model_module": "jupyter-cytoscape",
      "model_module_version": "^1.3.3",
      "model_name": "EdgeModel",
      "state": {
       "_model_module_version": "^1.3.3",
       "_view_module_version": "^1.3.3",
       "classes": " directed ",
       "data": {
        "id": "82783d5e-07e7-4cdf-accb-d27a5f21d4a2",
        "source": "7315583410895249853",
        "target": "-2051169799348790331"
       },
       "selectable": false
      }
     },
     "29dfd39a70814c3a8a40300590c06f68": {
      "model_module": "jupyter-cytoscape",
      "model_module_version": "^1.3.3",
      "model_name": "NodeModel",
      "state": {
       "_model_module_version": "^1.3.3",
       "_view_module_version": "^1.3.3",
       "data": {
        "color": "gray",
        "id": "-1653929257316273405",
        "label": "frozen_phonon",
        "shape": "ellipse"
       },
       "grabbable": true,
       "grabbed": false,
       "position": {
        "x": 178.5,
        "y": 875
       },
       "selectable": false
      }
     },
     "2c81b7c4104648c1ab4ed1bd5a77c5f8": {
      "model_module": "jupyter-cytoscape",
      "model_module_version": "^1.3.3",
      "model_name": "NodeModel",
      "state": {
       "_model_module_version": "^1.3.3",
       "_view_module_version": "^1.3.3",
       "data": {
        "color": "gray",
        "id": "7315583410895249853",
        "label": "0",
        "shape": "rectangle"
       },
       "grabbable": true,
       "grabbed": false,
       "position": {
        "x": 912.5,
        "y": 1595
       },
       "selectable": false
      }
     },
     "2c8d28ed691d4c08b69fa4e103b9edb2": {
      "model_module": "jupyter-cytoscape",
      "model_module_version": "^1.3.3",
      "model_name": "EdgeModel",
      "state": {
       "_model_module_version": "^1.3.3",
       "_view_module_version": "^1.3.3",
       "classes": " directed ",
       "data": {
        "id": "5756fc6d-cc89-466a-90cd-fb460ebb0ad3",
        "source": "464052315898536293",
        "target": "7616041141932927690"
       },
       "selectable": false
      }
     },
     "2ff5a74c059041b79e6e4817af4a6e10": {
      "model_module": "jupyter-cytoscape",
      "model_module_version": "^1.3.3",
      "model_name": "NodeModel",
      "state": {
       "_model_module_version": "^1.3.3",
       "_view_module_version": "^1.3.3",
       "data": {
        "color": "gray",
        "id": "-4834960455203856400",
        "label": "3",
        "shape": "rectangle"
       },
       "grabbable": true,
       "grabbed": false,
       "position": {
        "x": 1279.5,
        "y": 515
       },
       "selectable": false
      }
     },
     "305bed84aeb74b0188f366a5edf2bb3f": {
      "model_module": "jupyter-cytoscape",
      "model_module_version": "^1.3.3",
      "model_name": "EdgeModel",
      "state": {
       "_model_module_version": "^1.3.3",
       "_view_module_version": "^1.3.3",
       "classes": " directed ",
       "data": {
        "id": "f0a24272-462a-4670-8202-992680779093",
        "source": "-1703922727898310791",
        "target": "6051580670608713345"
       },
       "selectable": false
      }
     },
     "30e4a25de66a4a1d8d56eeddc1337ca7": {
      "model_module": "jupyter-cytoscape",
      "model_module_version": "^1.3.3",
      "model_name": "EdgeModel",
      "state": {
       "_model_module_version": "^1.3.3",
       "_view_module_version": "^1.3.3",
       "classes": " directed ",
       "data": {
        "id": "0dd2c203-c999-49e3-9f59-44a4bebce162",
        "source": "5895277402577873808",
        "target": "8856009679378780306"
       },
       "selectable": false
      }
     },
     "31c4089313b349a1b60c9e5976637584": {
      "model_module": "jupyter-cytoscape",
      "model_module_version": "^1.3.3",
      "model_name": "NodeModel",
      "state": {
       "_model_module_version": "^1.3.3",
       "_view_module_version": "^1.3.3",
       "data": {
        "color": "gray",
        "id": "-3354387358256430148",
        "label": "(3, 0, 0)",
        "shape": "rectangle"
       },
       "grabbable": true,
       "grabbed": false,
       "position": {
        "x": 545.5,
        "y": 755
       },
       "selectable": false
      }
     },
     "321900d8a218464caa3696e1c211a1b7": {
      "model_module": "jupyter-cytoscape",
      "model_module_version": "^1.3.3",
      "model_name": "NodeModel",
      "state": {
       "_model_module_version": "^1.3.3",
       "_view_module_version": "^1.3.3",
       "data": {
        "color": "gray",
        "id": "-8558810555450788756",
        "label": "0",
        "shape": "rectangle"
       },
       "grabbable": true,
       "grabbed": false,
       "position": {
        "x": 1279.5,
        "y": 1475
       },
       "selectable": false
      }
     },
     "35615df6024143c395ec760a89d6b207": {
      "model_module": "jupyter-cytoscape",
      "model_module_version": "^1.3.3",
      "model_name": "NodeModel",
      "state": {
       "_model_module_version": "^1.3.3",
       "_view_module_version": "^1.3.3",
       "data": {
        "color": "gray",
        "id": "7616041141932927690",
        "label": "frozen_phonon",
        "shape": "ellipse"
       },
       "grabbable": true,
       "grabbed": false,
       "position": {
        "x": 912.5,
        "y": 875
       },
       "selectable": false
      }
     },
     "380068525f3c4e7d94d9873421acc682": {
      "model_module": "jupyter-cytoscape",
      "model_module_version": "^1.3.3",
      "model_name": "EdgeModel",
      "state": {
       "_model_module_version": "^1.3.3",
       "_view_module_version": "^1.3.3",
       "classes": " directed ",
       "data": {
        "id": "d4fc97b6-ed75-45de-9eeb-7109302e393b",
        "source": "3217519610378635959",
        "target": "2637686347445298990"
       },
       "selectable": false
      }
     },
     "3a3d559bb5b84e0fb5001bd9cf1ef424": {
      "model_module": "jupyter-cytoscape",
      "model_module_version": "^1.3.3",
      "model_name": "NodeModel",
      "state": {
       "_model_module_version": "^1.3.3",
       "_view_module_version": "^1.3.3",
       "data": {
        "color": "gray",
        "id": "-8558810555450788756",
        "label": "0",
        "shape": "rectangle"
       },
       "grabbable": true,
       "grabbed": false,
       "position": {
        "x": 178.5,
        "y": 515
       },
       "selectable": false
      }
     },
     "3c775915b4b244e8b7794cbb7f5e08ce": {
      "model_module": "jupyter-cytoscape",
      "model_module_version": "^1.3.3",
      "model_name": "NodeModel",
      "state": {
       "_model_module_version": "^1.3.3",
       "_view_module_version": "^1.3.3",
       "data": {
        "color": "gray",
        "id": "7315583410895249853",
        "label": "0",
        "shape": "rectangle"
       },
       "grabbable": true,
       "grabbed": false,
       "position": {
        "x": 545.5,
        "y": 635
       },
       "selectable": false
      }
     },
     "3ce8e05df32143e2a1b48cc4922a28a7": {
      "model_module": "jupyter-cytoscape",
      "model_module_version": "^1.3.3",
      "model_name": "EdgeModel",
      "state": {
       "_model_module_version": "^1.3.3",
       "_view_module_version": "^1.3.3",
       "classes": " directed ",
       "data": {
        "id": "b5a8a259-636a-49de-85f8-34274204c1c5",
        "source": "-7693542226415232514",
        "target": "-4834960455203856400"
       },
       "selectable": false
      }
     },
     "3d66a6b88ad94b8a8f9921dea4de6084": {
      "model_module": "jupyter-cytoscape",
      "model_module_version": "^1.3.3",
      "model_name": "NodeModel",
      "state": {
       "_model_module_version": "^1.3.3",
       "_view_module_version": "^1.3.3",
       "data": {
        "color": "gray",
        "id": "-1862960938443786311",
        "label": "build_waves_multislice_detect",
        "shape": "ellipse"
       },
       "grabbable": true,
       "grabbed": false,
       "position": {
        "x": 545.5,
        "y": 1355
       },
       "selectable": false
      }
     },
     "41004a645379462ba43c4f7237298df5": {
      "model_module": "jupyter-cytoscape",
      "model_module_version": "^1.3.3",
      "model_name": "NodeModel",
      "state": {
       "_model_module_version": "^1.3.3",
       "_view_module_version": "^1.3.3",
       "data": {
        "color": "gray",
        "id": "-2051169799348790331",
        "label": "1",
        "shape": "rectangle"
       },
       "grabbable": true,
       "grabbed": false,
       "position": {
        "x": 912.5,
        "y": 1475
       },
       "selectable": false
      }
     },
     "41e2e9b1a9e84cf9bcce92e1ef160f74": {
      "model_module": "jupyter-cytoscape",
      "model_module_version": "^1.3.3",
      "model_name": "EdgeModel",
      "state": {
       "_model_module_version": "^1.3.3",
       "_view_module_version": "^1.3.3",
       "classes": " directed ",
       "data": {
        "id": "7f83c397-bf9d-4806-8807-f5e37bd16427",
        "source": "-4834960455203856400",
        "target": "-1862960938443786311"
       },
       "selectable": false
      }
     },
     "42b4f02f01764b7198b433b60c081003": {
      "model_module": "jupyter-cytoscape",
      "model_module_version": "^1.3.3",
      "model_name": "EdgeModel",
      "state": {
       "_model_module_version": "^1.3.3",
       "_view_module_version": "^1.3.3",
       "classes": " directed ",
       "data": {
        "id": "a3c8458f-ed75-438b-8377-a921b717a154",
        "source": "2406282145703000690",
        "target": "-6944243828321486697"
       },
       "selectable": false
      }
     },
     "435c0e956add43ed95f2d948fa86d3fc": {
      "model_module": "jupyter-cytoscape",
      "model_module_version": "^1.3.3",
      "model_name": "NodeModel",
      "state": {
       "_model_module_version": "^1.3.3",
       "_view_module_version": "^1.3.3",
       "data": {
        "color": "gray",
        "id": "1780364567614583725",
        "label": "extract_measurement",
        "shape": "ellipse"
       },
       "grabbable": true,
       "grabbed": false,
       "position": {
        "x": 545.5,
        "y": 1115
       },
       "selectable": false
      }
     },
     "4a8117b2617b46b0a3b36d18529255b5": {
      "model_module": "jupyter-cytoscape",
      "model_module_version": "^1.3.3",
      "model_name": "NodeModel",
      "state": {
       "_model_module_version": "^1.3.3",
       "_view_module_version": "^1.3.3",
       "data": {
        "color": "gray",
        "id": "-608163426589655437",
        "label": "(1, 0, 0)",
        "shape": "rectangle"
       },
       "grabbable": true,
       "grabbed": false,
       "position": {
        "x": 912.5,
        "y": 995
       },
       "selectable": false
      }
     },
     "4af7bae87b0a4742afc5906f412039aa": {
      "model_module": "jupyter-cytoscape",
      "model_module_version": "^1.3.3",
      "model_name": "EdgeModel",
      "state": {
       "_model_module_version": "^1.3.3",
       "_view_module_version": "^1.3.3",
       "classes": " directed ",
       "data": {
        "id": "7cfb665f-ef92-4b45-af31-97576fe7d3d4",
        "source": "-8558810555450788756",
        "target": "137043589522582894"
       },
       "selectable": false
      }
     },
     "4afc1ccd8db44debade8e825771946f7": {
      "model_module": "jupyter-cytoscape",
      "model_module_version": "^1.3.3",
      "model_name": "NodeModel",
      "state": {
       "_model_module_version": "^1.3.3",
       "_view_module_version": "^1.3.3",
       "data": {
        "color": "gray",
        "id": "-456060085493285080",
        "label": "1",
        "shape": "rectangle"
       },
       "grabbable": true,
       "grabbed": false,
       "position": {
        "x": 545.5,
        "y": 275
       },
       "selectable": false
      }
     },
     "4b99b5531d624c80989388476acddd53": {
      "model_module": "jupyter-cytoscape",
      "model_module_version": "^1.3.3",
      "model_name": "EdgeModel",
      "state": {
       "_model_module_version": "^1.3.3",
       "_view_module_version": "^1.3.3",
       "classes": " directed ",
       "data": {
        "id": "91a33de0-26a5-432f-b6bd-86257194846e",
        "source": "750257542093594870",
        "target": "-8533153009492483184"
       },
       "selectable": false
      }
     },
     "4cad78bfe3554fc5a02ef9af164006c2": {
      "model_module": "jupyter-cytoscape",
      "model_module_version": "^1.3.3",
      "model_name": "EdgeModel",
      "state": {
       "_model_module_version": "^1.3.3",
       "_view_module_version": "^1.3.3",
       "classes": " directed ",
       "data": {
        "id": "93135c69-a18a-411a-ace5-e6d7bc2939b9",
        "source": "-1862960938443786311",
        "target": "1158506641636016979"
       },
       "selectable": false
      }
     },
     "4ceeb6b2f80e443d85c7d8623b99d9c1": {
      "model_module": "jupyter-cytoscape",
      "model_module_version": "^1.3.3",
      "model_name": "NodeModel",
      "state": {
       "_model_module_version": "^1.3.3",
       "_view_module_version": "^1.3.3",
       "data": {
        "color": "gray",
        "id": "1158506641636016979",
        "label": "3",
        "shape": "rectangle"
       },
       "grabbable": true,
       "grabbed": false,
       "position": {
        "x": 1279.5,
        "y": 275
       },
       "selectable": false
      }
     },
     "50a1532897f54e89baaa563c051349f3": {
      "model_module": "jupyter-cytoscape",
      "model_module_version": "^1.3.3",
      "model_name": "EdgeModel",
      "state": {
       "_model_module_version": "^1.3.3",
       "_view_module_version": "^1.3.3",
       "classes": " directed ",
       "data": {
        "id": "458a37af-17c6-42b3-b43d-119876edb018",
        "source": "2361782142903575003",
        "target": "-3354387358256430148"
       },
       "selectable": false
      }
     },
     "5135c38ec859476c845e4afa8f7ae2dc": {
      "model_module": "jupyter-cytoscape",
      "model_module_version": "^1.3.3",
      "model_name": "NodeModel",
      "state": {
       "_model_module_version": "^1.3.3",
       "_view_module_version": "^1.3.3",
       "data": {
        "color": "gray",
        "id": "6633429999649193878",
        "label": "",
        "shape": "rectangle"
       },
       "grabbable": true,
       "grabbed": false,
       "position": {
        "x": 1279.5,
        "y": 1955
       },
       "selectable": false
      }
     },
     "5196b7e90f6e40a4964a69dce9481095": {
      "model_module": "jupyter-cytoscape",
      "model_module_version": "^1.3.3",
      "model_name": "EdgeModel",
      "state": {
       "_model_module_version": "^1.3.3",
       "_view_module_version": "^1.3.3",
       "classes": " directed ",
       "data": {
        "id": "dea9b09c-9d96-4809-86ec-5e335a983297",
        "source": "-238250915541435836",
        "target": "9186935319246391255"
       },
       "selectable": false
      }
     },
     "529f870a6048412681e064449b7d6877": {
      "model_module": "jupyter-cytoscape",
      "model_module_version": "^1.3.3",
      "model_name": "NodeModel",
      "state": {
       "_model_module_version": "^1.3.3",
       "_view_module_version": "^1.3.3",
       "data": {
        "color": "gray",
        "id": "1158506641636016979",
        "label": "3",
        "shape": "rectangle"
       },
       "grabbable": true,
       "grabbed": false,
       "position": {
        "x": 545.5,
        "y": 1235
       },
       "selectable": false
      }
     },
     "53a2a9df4c47486581124040fb8ea3c9": {
      "model_module": "jupyter-cytoscape",
      "model_module_version": "^1.3.3",
      "model_name": "NodeModel",
      "state": {
       "_model_module_version": "^1.3.3",
       "_view_module_version": "^1.3.3",
       "data": {
        "color": "gray",
        "id": "9186935319246391255",
        "label": "(2, 0, 0)",
        "shape": "rectangle"
       },
       "grabbable": true,
       "grabbed": false,
       "position": {
        "x": 178.5,
        "y": 995
       },
       "selectable": false
      }
     },
     "53fbaee1542c4218916217addbd9fd3b": {
      "model_module": "jupyter-cytoscape",
      "model_module_version": "^1.3.3",
      "model_name": "NodeModel",
      "state": {
       "_model_module_version": "^1.3.3",
       "_view_module_version": "^1.3.3",
       "data": {
        "color": "gray",
        "id": "-608163426589655437",
        "label": "(1, 0, 0)",
        "shape": "rectangle"
       },
       "grabbable": true,
       "grabbed": false,
       "position": {
        "x": 545.5,
        "y": 35
       },
       "selectable": false
      }
     },
     "544d697ed0834e46932d2950a98ca876": {
      "model_module": "jupyter-cytoscape",
      "model_module_version": "^1.3.3",
      "model_name": "NodeModel",
      "state": {
       "_model_module_version": "^1.3.3",
       "_view_module_version": "^1.3.3",
       "data": {
        "color": "gray",
        "id": "-456060085493285080",
        "label": "1",
        "shape": "rectangle"
       },
       "grabbable": true,
       "grabbed": false,
       "position": {
        "x": 912.5,
        "y": 1235
       },
       "selectable": false
      }
     },
     "54df3b67a7154bae9c6c2c00a1c57533": {
      "model_module": "jupyter-cytoscape",
      "model_module_version": "^1.3.3",
      "model_name": "EdgeModel",
      "state": {
       "_model_module_version": "^1.3.3",
       "_view_module_version": "^1.3.3",
       "classes": " directed ",
       "data": {
        "id": "05670a0d-6ba4-4b2d-994e-d79d6168cdc8",
        "source": "-456060085493285080",
        "target": "3541767686187153126"
       },
       "selectable": false
      }
     },
     "5504e96bdf4c4ade9a84eccc9db1d33e": {
      "model_module": "jupyter-cytoscape",
      "model_module_version": "^1.3.3",
      "model_name": "EdgeModel",
      "state": {
       "_model_module_version": "^1.3.3",
       "_view_module_version": "^1.3.3",
       "classes": " directed ",
       "data": {
        "id": "baa3b5e1-27a8-4b1d-98d7-406e1f721c77",
        "source": "2018804237602943200",
        "target": "-1296903761877800226"
       },
       "selectable": false
      }
     },
     "559a5612154c44dea1361786129ace25": {
      "model_module": "jupyter-cytoscape",
      "model_module_version": "^1.3.3",
      "model_name": "EdgeModel",
      "state": {
       "_model_module_version": "^1.3.3",
       "_view_module_version": "^1.3.3",
       "classes": " directed ",
       "data": {
        "id": "8bff5048-6e6e-4199-b04a-3b590c14b072",
        "source": "-1296903761877800226",
        "target": "5275882287861292287"
       },
       "selectable": false
      }
     },
     "591d6517e5b94e0790b62ac63434c43a": {
      "model_module": "jupyter-cytoscape",
      "model_module_version": "^1.3.3",
      "model_name": "NodeModel",
      "state": {
       "_model_module_version": "^1.3.3",
       "_view_module_version": "^1.3.3",
       "data": {
        "color": "gray",
        "id": "-1703922727898310791",
        "label": "build_waves_multislice_detect",
        "shape": "ellipse"
       },
       "grabbable": true,
       "grabbed": false,
       "position": {
        "x": 178.5,
        "y": 1355
       },
       "selectable": false
      }
     },
     "59423a1d917e4f56abb10fdef63ccfec": {
      "model_module": "jupyter-cytoscape",
      "model_module_version": "^1.3.3",
      "model_name": "NodeModel",
      "state": {
       "_model_module_version": "^1.3.3",
       "_view_module_version": "^1.3.3",
       "data": {
        "color": "gray",
        "id": "5275882287861292287",
        "label": "mean_chunk",
        "shape": "ellipse"
       },
       "grabbable": true,
       "grabbed": false,
       "position": {
        "x": 1279.5,
        "y": 635
       },
       "selectable": false
      }
     },
     "5befbffec30d45e1bfc9023e38beccb2": {
      "model_module": "jupyter-cytoscape",
      "model_module_version": "^1.3.3",
      "model_name": "EdgeModel",
      "state": {
       "_model_module_version": "^1.3.3",
       "_view_module_version": "^1.3.3",
       "classes": " directed ",
       "data": {
        "id": "7a26cd6d-21ec-43c8-92ba-3dc23835af2e",
        "source": "-6944243828321486697",
        "target": "-1703922727898310791"
       },
       "selectable": false
      }
     },
     "5caecf8f44b34f0b9bda8e3c161b1bbd": {
      "model_module": "jupyter-cytoscape",
      "model_module_version": "^1.3.3",
      "model_name": "EdgeModel",
      "state": {
       "_model_module_version": "^1.3.3",
       "_view_module_version": "^1.3.3",
       "classes": " directed ",
       "data": {
        "id": "10db44b2-2c1e-486d-b802-bf7b317a9006",
        "source": "-3167971774838933152",
        "target": "2699234435108871492"
       },
       "selectable": false
      }
     },
     "5cc4bf6ed9284d5ba7882126e9f425eb": {
      "model_module": "jupyter-cytoscape",
      "model_module_version": "^1.3.3",
      "model_name": "EdgeModel",
      "state": {
       "_model_module_version": "^1.3.3",
       "_view_module_version": "^1.3.3",
       "classes": " directed ",
       "data": {
        "id": "5dd72f49-397a-4a0a-b948-c0d8902b23c5",
        "source": "1070549639486173199",
        "target": "-3293617555864705465"
       },
       "selectable": false
      }
     },
     "6000167bb2804d51ba87616dc34d9e56": {
      "model_module": "jupyter-cytoscape",
      "model_module_version": "^1.3.3",
      "model_name": "EdgeModel",
      "state": {
       "_model_module_version": "^1.3.3",
       "_view_module_version": "^1.3.3",
       "classes": " directed ",
       "data": {
        "id": "55fcb7f3-7dcf-47af-bcb6-d1745b5e0593",
        "source": "-2627731613285752971",
        "target": "499500750340367329"
       },
       "selectable": false
      }
     },
     "601872e9ce58455f9da5cc2cb450022a": {
      "model_module": "jupyter-cytoscape",
      "model_module_version": "^1.3.3",
      "model_name": "NodeModel",
      "state": {
       "_model_module_version": "^1.3.3",
       "_view_module_version": "^1.3.3",
       "data": {
        "color": "gray",
        "id": "750257542093594870",
        "label": "extract_measurement",
        "shape": "ellipse"
       },
       "grabbable": true,
       "grabbed": false,
       "position": {
        "x": 178.5,
        "y": 155
       },
       "selectable": false
      }
     },
     "6024dc83cf10406cb5cab6cb81d7c76e": {
      "model_module": "jupyter-cytoscape",
      "model_module_version": "^1.3.3",
      "model_name": "EdgeModel",
      "state": {
       "_model_module_version": "^1.3.3",
       "_view_module_version": "^1.3.3",
       "classes": " directed ",
       "data": {
        "id": "4e2360a1-8e37-4267-b8f3-bd7cdd2def1b",
        "source": "-8558810555450788756",
        "target": "137043589522582894"
       },
       "selectable": false
      }
     },
     "62b53e40e29847c1b49c72403fd4c7ef": {
      "model_module": "jupyter-cytoscape",
      "model_module_version": "^1.3.3",
      "model_name": "EdgeModel",
      "state": {
       "_model_module_version": "^1.3.3",
       "_view_module_version": "^1.3.3",
       "classes": " directed ",
       "data": {
        "id": "b442a7e5-ed69-42ea-8f3d-680d34ecfd65",
        "source": "1780364567614583725",
        "target": "810078179203581685"
       },
       "selectable": false
      }
     },
     "62f1f951f8c245e18d731a35dc9b9a4c": {
      "model_module": "jupyter-cytoscape",
      "model_module_version": "^1.3.3",
      "model_name": "EdgeModel",
      "state": {
       "_model_module_version": "^1.3.3",
       "_view_module_version": "^1.3.3",
       "classes": " directed ",
       "data": {
        "id": "7a90adab-1d4a-476b-ab3e-6798fdd0464b",
        "source": "-1653929257316273405",
        "target": "5895277402577873808"
       },
       "selectable": false
      }
     },
     "63222882ba124355bb2d91eb866df102": {
      "model_module": "jupyter-cytoscape",
      "model_module_version": "^1.3.3",
      "model_name": "NodeModel",
      "state": {
       "_model_module_version": "^1.3.3",
       "_view_module_version": "^1.3.3",
       "data": {
        "color": "gray",
        "id": "2406282145703000690",
        "label": "0",
        "shape": "rectangle"
       },
       "grabbable": true,
       "grabbed": false,
       "position": {
        "x": 912.5,
        "y": 635
       },
       "selectable": false
      }
     },
     "635c855a29274ca0807c5695629b9987": {
      "model_module": "jupyter-cytoscape",
      "model_module_version": "^1.3.3",
      "model_name": "EdgeModel",
      "state": {
       "_model_module_version": "^1.3.3",
       "_view_module_version": "^1.3.3",
       "classes": " directed ",
       "data": {
        "id": "f4b89920-62d6-4191-ba0e-e654b7b552ac",
        "source": "-2051169799348790331",
        "target": "-899795822749737749"
       },
       "selectable": false
      }
     },
     "63a0be7a04da4b808d4c827635e024c5": {
      "model_module": "jupyter-cytoscape",
      "model_module_version": "^1.3.3",
      "model_name": "NodeModel",
      "state": {
       "_model_module_version": "^1.3.3",
       "_view_module_version": "^1.3.3",
       "data": {
        "color": "gray",
        "id": "-8533153009492483184",
        "label": "(0, 0, 0)",
        "shape": "rectangle"
       },
       "grabbable": true,
       "grabbed": false,
       "position": {
        "x": 178.5,
        "y": 35
       },
       "selectable": false
      }
     },
     "662ed7970d174299a7b41c8488189d88": {
      "model_module": "jupyter-cytoscape",
      "model_module_version": "^1.3.3",
      "model_name": "EdgeModel",
      "state": {
       "_model_module_version": "^1.3.3",
       "_view_module_version": "^1.3.3",
       "classes": " directed ",
       "data": {
        "id": "339320ce-5d3c-4d22-b158-78de2d3f4a96",
        "source": "-7693542226415232514",
        "target": "-4834960455203856400"
       },
       "selectable": false
      }
     },
     "66dcfe29fc94466c8ccca8a0925a8822": {
      "model_module": "jupyter-cytoscape",
      "model_module_version": "^1.3.3",
      "model_name": "NodeModel",
      "state": {
       "_model_module_version": "^1.3.3",
       "_view_module_version": "^1.3.3",
       "data": {
        "color": "gray",
        "id": "-5422821770474888810",
        "label": "(1, 0, 0)",
        "shape": "rectangle"
       },
       "grabbable": true,
       "grabbed": false,
       "position": {
        "x": 912.5,
        "y": 515
       },
       "selectable": false
      }
     },
     "66e59f58a6da4f68ab3c7c578d3cce39": {
      "model_module": "jupyter-cytoscape",
      "model_module_version": "^1.3.3",
      "model_name": "EdgeModel",
      "state": {
       "_model_module_version": "^1.3.3",
       "_view_module_version": "^1.3.3",
       "classes": " directed ",
       "data": {
        "id": "e050c840-fe84-4eef-bd54-6a97a349ab93",
        "source": "-7315417112224804855",
        "target": "-4209520620448540298"
       },
       "selectable": false
      }
     },
     "67590fb0ef184523b687930431ed22c8": {
      "model_module": "jupyter-cytoscape",
      "model_module_version": "^1.3.3",
      "model_name": "NodeModel",
      "state": {
       "_model_module_version": "^1.3.3",
       "_view_module_version": "^1.3.3",
       "data": {
        "color": "gray",
        "id": "6633429999649193878",
        "label": "",
        "shape": "rectangle"
       },
       "grabbable": true,
       "grabbed": false,
       "position": {
        "x": 178.5,
        "y": 995
       },
       "selectable": false
      }
     },
     "6880b5debe764797b861e1ff656819f0": {
      "model_module": "jupyter-cytoscape",
      "model_module_version": "^1.3.3",
      "model_name": "NodeModel",
      "state": {
       "_model_module_version": "^1.3.3",
       "_view_module_version": "^1.3.3",
       "data": {
        "color": "gray",
        "id": "-2845578825766917715",
        "label": "",
        "shape": "rectangle"
       },
       "grabbable": true,
       "grabbed": false,
       "position": {
        "x": 1279.5,
        "y": 995
       },
       "selectable": false
      }
     },
     "6949cd77fb9b434a84bdc800c31ce5ef": {
      "model_module": "jupyter-cytoscape",
      "model_module_version": "^1.3.3",
      "model_name": "NodeModel",
      "state": {
       "_model_module_version": "^1.3.3",
       "_view_module_version": "^1.3.3",
       "data": {
        "color": "gray",
        "id": "5895277402577873808",
        "label": "",
        "shape": "rectangle"
       },
       "grabbable": true,
       "grabbed": false,
       "position": {
        "x": 1279.5,
        "y": 1715
       },
       "selectable": false
      }
     },
     "6c452936a9c144679f950c8e158ff98c": {
      "model_module": "jupyter-cytoscape",
      "model_module_version": "^1.3.3",
      "model_name": "CytoscapeModel",
      "state": {
       "_interaction_handlers": {},
       "_model_module_version": "^1.3.3",
       "_view_module_version": "^1.3.3",
       "auto_ungrabify": false,
       "autolock": false,
       "cytoscape_layout": {
        "edgeSep": 10,
        "name": "dagre",
        "nodeDimensionsIncludeLabels": true,
        "nodeSep": 10,
        "rankDir": "BT",
        "spacingFactor": 1
       },
       "cytoscape_style": [
        {
         "selector": "node",
         "style": {
          "background-color": "#eee",
          "border-color": "data(color)",
          "border-width": 4,
          "color": "black",
          "font-family": "helvetica",
          "font-size": "24px",
          "font-weight": "bold",
          "height": 64,
          "label": "data(label)",
          "opacity": "1.0",
          "shape": "data(shape)",
          "text-halign": "center",
          "text-valign": "center",
          "width": 64
         }
        },
        {
         "selector": "edge",
         "style": {
          "curve-style": "bezier",
          "line-color": "gray",
          "target-arrow-color": "gray",
          "target-arrow-shape": "triangle",
          "width": 8
         }
        }
       ],
       "desktop_tap_threshold": 4,
       "graph": "IPY_MODEL_1701cf2188814f11abd53bc779a90b7c",
       "headless": false,
       "hide_edges_on_viewport": false,
       "layout": "IPY_MODEL_c7ecf946ec7d4d01864f7e143ee60c57",
       "max_zoom": 4,
       "min_zoom": 0.2,
       "motion_blur": false,
       "motion_blur_opacity": 0.2,
       "panning_enabled": true,
       "pixel_ratio": "auto",
       "rendered_position": {
        "renderedPosition": {
         "x": 100,
         "y": 100
        }
       },
       "selection_type": "single",
       "style_enabled": true,
       "texture_on_viewport": false,
       "tooltip_source": "tooltip",
       "touch_tap_threshold": 8,
       "user_panning_enabled": true,
       "user_zooming_enabled": true,
       "wheel_sensitivity": 0.1,
       "zoom": 2,
       "zooming_enabled": true
      }
     },
     "6f1ded9f2afb41c49b62ca0226cad647": {
      "model_module": "jupyter-cytoscape",
      "model_module_version": "^1.3.3",
      "model_name": "NodeModel",
      "state": {
       "_model_module_version": "^1.3.3",
       "_view_module_version": "^1.3.3",
       "data": {
        "color": "gray",
        "id": "499500750340367329",
        "label": "mean_chunk",
        "shape": "ellipse"
       },
       "grabbable": true,
       "grabbed": false,
       "position": {
        "x": 912.5,
        "y": 635
       },
       "selectable": false
      }
     },
     "6f406f8a73ea4f2ea2f4c5d366ad04ec": {
      "model_module": "jupyter-cytoscape",
      "model_module_version": "^1.3.3",
      "model_name": "EdgeModel",
      "state": {
       "_model_module_version": "^1.3.3",
       "_view_module_version": "^1.3.3",
       "classes": " directed ",
       "data": {
        "id": "579b58e5-b621-4033-b2cc-93b48a1d5067",
        "source": "-608163426589655437",
        "target": "-6718206369712634508"
       },
       "selectable": false
      }
     },
     "6fd790122ec040e3af4eca919f9d9efb": {
      "model_module": "jupyter-cytoscape",
      "model_module_version": "^1.3.3",
      "model_name": "NodeModel",
      "state": {
       "_model_module_version": "^1.3.3",
       "_view_module_version": "^1.3.3",
       "data": {
        "color": "gray",
        "id": "-8562023662267162015",
        "label": "mean_chunk",
        "shape": "ellipse"
       },
       "grabbable": true,
       "grabbed": false,
       "position": {
        "x": 178.5,
        "y": 635
       },
       "selectable": false
      }
     },
     "6fd8ed80f38a41e69070818bff893616": {
      "model_module": "jupyter-cytoscape",
      "model_module_version": "^1.3.3",
      "model_name": "EdgeModel",
      "state": {
       "_model_module_version": "^1.3.3",
       "_view_module_version": "^1.3.3",
       "classes": " directed ",
       "data": {
        "id": "6cfb012c-7ccc-47a4-b5de-c5eb251d3d0d",
        "source": "3630328286622679179",
        "target": "7315583410895249853"
       },
       "selectable": false
      }
     },
     "72df3836e1684c598d4cb22048bd9f88": {
      "model_module": "jupyter-cytoscape",
      "model_module_version": "^1.3.3",
      "model_name": "EdgeModel",
      "state": {
       "_model_module_version": "^1.3.3",
       "_view_module_version": "^1.3.3",
       "classes": " directed ",
       "data": {
        "id": "21fa49b4-1873-45cc-8542-2bf0de8bb52b",
        "source": "2637686347445298990",
        "target": "-7693542226415232514"
       },
       "selectable": false
      }
     },
     "7320a3b9ba014157b0c6d9306e0ec5cb": {
      "model_module": "jupyter-cytoscape",
      "model_module_version": "^1.3.3",
      "model_name": "NodeModel",
      "state": {
       "_model_module_version": "^1.3.3",
       "_view_module_version": "^1.3.3",
       "data": {
        "color": "gray",
        "id": "5895277402577873808",
        "label": "",
        "shape": "rectangle"
       },
       "grabbable": true,
       "grabbed": false,
       "position": {
        "x": 178.5,
        "y": 755
       },
       "selectable": false
      }
     },
     "768d881198f24a6f8067abaf9f28aed9": {
      "model_module": "jupyter-cytoscape",
      "model_module_version": "^1.3.3",
      "model_name": "NodeModel",
      "state": {
       "_model_module_version": "^1.3.3",
       "_view_module_version": "^1.3.3",
       "data": {
        "color": "gray",
        "id": "-5857836881160752947",
        "label": "(0, 0)",
        "shape": "rectangle"
       },
       "grabbable": true,
       "grabbed": false,
       "position": {
        "x": 729,
        "y": 35
       },
       "selectable": false
      }
     },
     "776441a54f944efcb43931991bb47929": {
      "model_module": "jupyter-cytoscape",
      "model_module_version": "^1.3.3",
      "model_name": "EdgeModel",
      "state": {
       "_model_module_version": "^1.3.3",
       "_view_module_version": "^1.3.3",
       "classes": " directed ",
       "data": {
        "id": "dfd25dc8-2e5d-4af7-aa4b-a11d57469032",
        "source": "-899795822749737749",
        "target": "-456060085493285080"
       },
       "selectable": false
      }
     },
     "7791146712544dd18c38f43494684a1c": {
      "model_module": "jupyter-cytoscape",
      "model_module_version": "^1.3.3",
      "model_name": "CytoscapeModel",
      "state": {
       "_interaction_handlers": {},
       "_model_module_version": "^1.3.3",
       "_view_module_version": "^1.3.3",
       "auto_ungrabify": false,
       "autolock": false,
       "cytoscape_layout": {
        "edgeSep": 10,
        "name": "dagre",
        "nodeDimensionsIncludeLabels": true,
        "nodeSep": 10,
        "rankDir": "BT",
        "spacingFactor": 1
       },
       "cytoscape_style": [
        {
         "selector": "node",
         "style": {
          "background-color": "#eee",
          "border-color": "data(color)",
          "border-width": 4,
          "color": "black",
          "font-family": "helvetica",
          "font-size": "24px",
          "font-weight": "bold",
          "height": 64,
          "label": "data(label)",
          "opacity": "1.0",
          "shape": "data(shape)",
          "text-halign": "center",
          "text-valign": "center",
          "width": 64
         }
        },
        {
         "selector": "edge",
         "style": {
          "curve-style": "bezier",
          "line-color": "gray",
          "target-arrow-color": "gray",
          "target-arrow-shape": "triangle",
          "width": 8
         }
        }
       ],
       "desktop_tap_threshold": 4,
       "graph": "IPY_MODEL_d09f356e1a31452d8af96f127c07cfdf",
       "headless": false,
       "hide_edges_on_viewport": false,
       "layout": "IPY_MODEL_f6d32d273d05485b86d269545924b54e",
       "max_zoom": 4,
       "min_zoom": 0.2,
       "motion_blur": false,
       "motion_blur_opacity": 0.2,
       "panning_enabled": true,
       "pixel_ratio": "auto",
       "rendered_position": {
        "renderedPosition": {
         "x": 100,
         "y": 100
        }
       },
       "selection_type": "single",
       "style_enabled": true,
       "texture_on_viewport": false,
       "tooltip_source": "tooltip",
       "touch_tap_threshold": 8,
       "user_panning_enabled": true,
       "user_zooming_enabled": true,
       "wheel_sensitivity": 0.1,
       "zoom": 2,
       "zooming_enabled": true
      }
     },
     "780b58107338461dbca68bae69c7f567": {
      "model_module": "jupyter-cytoscape",
      "model_module_version": "^1.3.3",
      "model_name": "EdgeModel",
      "state": {
       "_model_module_version": "^1.3.3",
       "_view_module_version": "^1.3.3",
       "classes": " directed ",
       "data": {
        "id": "6a172db8-f87c-457b-9eb9-48665ba72dfe",
        "source": "-3293617555864705465",
        "target": "1825626203386745851"
       },
       "selectable": false
      }
     },
     "7926d0667936426ea6b9dce7ce5e4815": {
      "model_module": "jupyter-cytoscape",
      "model_module_version": "^1.3.3",
      "model_name": "NodeModel",
      "state": {
       "_model_module_version": "^1.3.3",
       "_view_module_version": "^1.3.3",
       "data": {
        "color": "gray",
        "id": "-1862960938443786311",
        "label": "build_waves_multislice_detect",
        "shape": "ellipse"
       },
       "grabbable": true,
       "grabbed": false,
       "position": {
        "x": 1279.5,
        "y": 395
       },
       "selectable": false
      }
     },
     "798c0c9d8086464bae47be208f1d30e6": {
      "model_module": "jupyter-cytoscape",
      "model_module_version": "^1.3.3",
      "model_name": "NodeModel",
      "state": {
       "_model_module_version": "^1.3.3",
       "_view_module_version": "^1.3.3",
       "data": {
        "color": "gray",
        "id": "-899795822749737749",
        "label": "build_waves_multislice_detect",
        "shape": "ellipse"
       },
       "grabbable": true,
       "grabbed": false,
       "position": {
        "x": 545.5,
        "y": 395
       },
       "selectable": false
      }
     },
     "7c6a15f7ee334bae997ac5533f1f4cf4": {
      "model_module": "jupyter-cytoscape",
      "model_module_version": "^1.3.3",
      "model_name": "EdgeModel",
      "state": {
       "_model_module_version": "^1.3.3",
       "_view_module_version": "^1.3.3",
       "classes": " directed ",
       "data": {
        "id": "d1528948-fe59-4b87-9b74-1062251487d5",
        "source": "1158506641636016979",
        "target": "1780364567614583725"
       },
       "selectable": false
      }
     },
     "7ecd023a818849299981cb909c13c237": {
      "model_module": "jupyter-cytoscape",
      "model_module_version": "^1.3.3",
      "model_name": "EdgeModel",
      "state": {
       "_model_module_version": "^1.3.3",
       "_view_module_version": "^1.3.3",
       "classes": " directed ",
       "data": {
        "id": "d382c215-86b1-4d75-95d5-adb2d425ed80",
        "source": "1825626203386745851",
        "target": "-4209520620448540298"
       },
       "selectable": false
      }
     },
     "808163197f3d4f41b9edcae68ef21e46": {
      "model_module": "jupyter-cytoscape",
      "model_module_version": "^1.3.3",
      "model_name": "EdgeModel",
      "state": {
       "_model_module_version": "^1.3.3",
       "_view_module_version": "^1.3.3",
       "classes": " directed ",
       "data": {
        "id": "8d57b60b-2be8-470f-a44a-9cbf2e39615e",
        "source": "-456060085493285080",
        "target": "3541767686187153126"
       },
       "selectable": false
      }
     },
     "8175c704beb64fd2a118caa00ebeb84e": {
      "model_module": "jupyter-cytoscape",
      "model_module_version": "^1.3.3",
      "model_name": "EdgeModel",
      "state": {
       "_model_module_version": "^1.3.3",
       "_view_module_version": "^1.3.3",
       "classes": " directed ",
       "data": {
        "id": "290a607d-4992-4b67-8a09-c2cabae85790",
        "source": "-8533153009492483184",
        "target": "2018804237602943200"
       },
       "selectable": false
      }
     },
     "824065040da147d18695a76630951efb": {
      "model_module": "jupyter-cytoscape",
      "model_module_version": "^1.3.3",
      "model_name": "NodeModel",
      "state": {
       "_model_module_version": "^1.3.3",
       "_view_module_version": "^1.3.3",
       "data": {
        "color": "gray",
        "id": "-5343108670373922505",
        "label": "",
        "shape": "rectangle"
       },
       "grabbable": true,
       "grabbed": false,
       "position": {
        "x": 912.5,
        "y": 1955
       },
       "selectable": false
      }
     },
     "84c1d291842b49058f0f9cd653ec5cd6": {
      "model_module": "jupyter-cytoscape",
      "model_module_version": "^1.3.3",
      "model_name": "EdgeModel",
      "state": {
       "_model_module_version": "^1.3.3",
       "_view_module_version": "^1.3.3",
       "classes": " directed ",
       "data": {
        "id": "60277981-c294-4a38-a226-1e01a2053074",
        "source": "-6718206369712634508",
        "target": "-2627731613285752971"
       },
       "selectable": false
      }
     },
     "86b1bbc313464ffa8eaf6e56707e2eca": {
      "model_module": "jupyter-cytoscape",
      "model_module_version": "^1.3.3",
      "model_name": "NodeModel",
      "state": {
       "_model_module_version": "^1.3.3",
       "_view_module_version": "^1.3.3",
       "data": {
        "color": "gray",
        "id": "2637686347445298990",
        "label": "",
        "shape": "rectangle"
       },
       "grabbable": true,
       "grabbed": false,
       "position": {
        "x": 545.5,
        "y": 1715
       },
       "selectable": false
      }
     },
     "873add1cabdb472c80f6b0ffdfb4663a": {
      "model_module": "jupyter-cytoscape",
      "model_module_version": "^1.3.3",
      "model_name": "NodeModel",
      "state": {
       "_model_module_version": "^1.3.3",
       "_view_module_version": "^1.3.3",
       "data": {
        "color": "gray",
        "id": "-2051169799348790331",
        "label": "1",
        "shape": "rectangle"
       },
       "grabbable": true,
       "grabbed": false,
       "position": {
        "x": 545.5,
        "y": 515
       },
       "selectable": false
      }
     },
     "8776f61b3b6c48b9b65406efe3963417": {
      "model_module": "jupyter-cytoscape",
      "model_module_version": "^1.3.3",
      "model_name": "NodeModel",
      "state": {
       "_model_module_version": "^1.3.3",
       "_view_module_version": "^1.3.3",
       "data": {
        "color": "gray",
        "id": "-3167971774838933152",
        "label": "(2, 0, 0)",
        "shape": "rectangle"
       },
       "grabbable": true,
       "grabbed": false,
       "position": {
        "x": 178.5,
        "y": 515
       },
       "selectable": false
      }
     },
     "88b910f2a6ac41d2b5642ae99928844c": {
      "model_module": "jupyter-cytoscape",
      "model_module_version": "^1.3.3",
      "model_name": "NodeModel",
      "state": {
       "_model_module_version": "^1.3.3",
       "_view_module_version": "^1.3.3",
       "data": {
        "color": "gray",
        "id": "810078179203581685",
        "label": "(3, 0, 0)",
        "shape": "rectangle"
       },
       "grabbable": true,
       "grabbed": false,
       "position": {
        "x": 1279.5,
        "y": 35
       },
       "selectable": false
      }
     },
     "891cf7d02240451a9f93ccad6034ce97": {
      "model_module": "jupyter-cytoscape",
      "model_module_version": "^1.3.3",
      "model_name": "NodeModel",
      "state": {
       "_model_module_version": "^1.3.3",
       "_view_module_version": "^1.3.3",
       "data": {
        "color": "gray",
        "id": "-238250915541435836",
        "label": "extract_measurement",
        "shape": "ellipse"
       },
       "grabbable": true,
       "grabbed": false,
       "position": {
        "x": 178.5,
        "y": 1115
       },
       "selectable": false
      }
     },
     "8bc2f10cdcb8460a8bd53f0095e9398c": {
      "model_module": "jupyter-cytoscape",
      "model_module_version": "^1.3.3",
      "model_name": "NodeModel",
      "state": {
       "_model_module_version": "^1.3.3",
       "_view_module_version": "^1.3.3",
       "data": {
        "color": "gray",
        "id": "7616041141932927690",
        "label": "frozen_phonon",
        "shape": "ellipse"
       },
       "grabbable": true,
       "grabbed": false,
       "position": {
        "x": 178.5,
        "y": 1835
       },
       "selectable": false
      }
     },
     "8caf781feef0462fa970cae25c3332a7": {
      "model_module": "jupyter-cytoscape",
      "model_module_version": "^1.3.3",
      "model_name": "NodeModel",
      "state": {
       "_model_module_version": "^1.3.3",
       "_view_module_version": "^1.3.3",
       "data": {
        "color": "gray",
        "id": "-7315417112224804855",
        "label": "(1, 0, 0)",
        "shape": "rectangle"
       },
       "grabbable": true,
       "grabbed": false,
       "position": {
        "x": 362,
        "y": 275
       },
       "selectable": false
      }
     },
     "8d4ba11a254e43e7a7230071956718eb": {
      "model_module": "jupyter-cytoscape",
      "model_module_version": "^1.3.3",
      "model_name": "EdgeModel",
      "state": {
       "_model_module_version": "^1.3.3",
       "_view_module_version": "^1.3.3",
       "classes": " directed ",
       "data": {
        "id": "f55124f2-2a29-4b28-9297-917137588f69",
        "source": "6051580670608713345",
        "target": "-238250915541435836"
       },
       "selectable": false
      }
     },
     "8e7a54aceede4a0685b0eb5253dfdb7d": {
      "model_module": "jupyter-cytoscape",
      "model_module_version": "^1.3.3",
      "model_name": "EdgeModel",
      "state": {
       "_model_module_version": "^1.3.3",
       "_view_module_version": "^1.3.3",
       "classes": " directed ",
       "data": {
        "id": "64dddafc-c6b9-40d0-b279-b741a92a4809",
        "source": "2637686347445298990",
        "target": "-7693542226415232514"
       },
       "selectable": false
      }
     },
     "8e7b0bf07d07473489b20e3f515ee8bd": {
      "model_module": "jupyter-cytoscape",
      "model_module_version": "^1.3.3",
      "model_name": "NodeModel",
      "state": {
       "_model_module_version": "^1.3.3",
       "_view_module_version": "^1.3.3",
       "data": {
        "color": "gray",
        "id": "1825626203386745851",
        "label": "(0, 0, 0)",
        "shape": "rectangle"
       },
       "grabbable": true,
       "grabbed": false,
       "position": {
        "x": 1096,
        "y": 275
       },
       "selectable": false
      }
     },
     "8f6ed695d2374a17924aa3112453cd49": {
      "model_module": "jupyter-cytoscape",
      "model_module_version": "^1.3.3",
      "model_name": "NodeModel",
      "state": {
       "_model_module_version": "^1.3.3",
       "_view_module_version": "^1.3.3",
       "data": {
        "color": "gray",
        "id": "-3293617555864705465",
        "label": "mean_combine-partial",
        "shape": "ellipse"
       },
       "grabbable": true,
       "grabbed": false,
       "position": {
        "x": 1096,
        "y": 395
       },
       "selectable": false
      }
     },
     "93e7b43dbb514c4bbcb3e1aa5fb3bbf5": {
      "model_module": "jupyter-cytoscape",
      "model_module_version": "^1.3.3",
      "model_name": "NodeModel",
      "state": {
       "_model_module_version": "^1.3.3",
       "_view_module_version": "^1.3.3",
       "data": {
        "color": "gray",
        "id": "2637686347445298990",
        "label": "",
        "shape": "rectangle"
       },
       "grabbable": true,
       "grabbed": false,
       "position": {
        "x": 1279.5,
        "y": 755
       },
       "selectable": false
      }
     },
     "959f33679ce244a1a5448d779599ed56": {
      "model_module": "jupyter-cytoscape",
      "model_module_version": "^1.3.3",
      "model_name": "NodeModel",
      "state": {
       "_model_module_version": "^1.3.3",
       "_view_module_version": "^1.3.3",
       "data": {
        "color": "gray",
        "id": "-8533153009492483184",
        "label": "(0, 0, 0)",
        "shape": "rectangle"
       },
       "grabbable": true,
       "grabbed": false,
       "position": {
        "x": 1279.5,
        "y": 995
       },
       "selectable": false
      }
     },
     "95bd150374a646daa93a22ba54c5c8d8": {
      "model_module": "jupyter-cytoscape",
      "model_module_version": "^1.3.3",
      "model_name": "NodeModel",
      "state": {
       "_model_module_version": "^1.3.3",
       "_view_module_version": "^1.3.3",
       "data": {
        "color": "gray",
        "id": "-1703922727898310791",
        "label": "build_waves_multislice_detect",
        "shape": "ellipse"
       },
       "grabbable": true,
       "grabbed": false,
       "position": {
        "x": 912.5,
        "y": 395
       },
       "selectable": false
      }
     },
     "98deb4d6db4c4100b50b1253882fa64b": {
      "model_module": "jupyter-cytoscape",
      "model_module_version": "^1.3.3",
      "model_name": "NodeModel",
      "state": {
       "_model_module_version": "^1.3.3",
       "_view_module_version": "^1.3.3",
       "data": {
        "color": "gray",
        "id": "3630328286622679179",
        "label": "",
        "shape": "rectangle"
       },
       "grabbable": true,
       "grabbed": false,
       "position": {
        "x": 912.5,
        "y": 1715
       },
       "selectable": false
      }
     },
     "9afb2f0e0d6e475aab9081c77ff41b2f": {
      "model_module": "jupyter-cytoscape",
      "model_module_version": "^1.3.3",
      "model_name": "EdgeModel",
      "state": {
       "_model_module_version": "^1.3.3",
       "_view_module_version": "^1.3.3",
       "classes": " directed ",
       "data": {
        "id": "8d6cab1f-5b9c-4e7a-a756-f923ab84342d",
        "source": "-1862960938443786311",
        "target": "1158506641636016979"
       },
       "selectable": false
      }
     },
     "9dc7c98c093a4351af43f9c37a87e0c2": {
      "model_module": "jupyter-cytoscape",
      "model_module_version": "^1.3.3",
      "model_name": "NodeModel",
      "state": {
       "_model_module_version": "^1.3.3",
       "_view_module_version": "^1.3.3",
       "data": {
        "color": "gray",
        "id": "3541767686187153126",
        "label": "extract_measurement",
        "shape": "ellipse"
       },
       "grabbable": true,
       "grabbed": false,
       "position": {
        "x": 912.5,
        "y": 1115
       },
       "selectable": false
      }
     },
     "a021705c98e54630a442f9097e0790cb": {
      "model_module": "jupyter-cytoscape",
      "model_module_version": "^1.3.3",
      "model_name": "NodeModel",
      "state": {
       "_model_module_version": "^1.3.3",
       "_view_module_version": "^1.3.3",
       "data": {
        "color": "gray",
        "id": "4300370699154126212",
        "label": "frozen_phonon",
        "shape": "ellipse"
       },
       "grabbable": true,
       "grabbed": false,
       "position": {
        "x": 545.5,
        "y": 875
       },
       "selectable": false
      }
     },
     "a13dd256803142a58b417655fd0c8535": {
      "model_module": "jupyter-cytoscape",
      "model_module_version": "^1.3.3",
      "model_name": "NodeModel",
      "state": {
       "_model_module_version": "^1.3.3",
       "_view_module_version": "^1.3.3",
       "data": {
        "color": "gray",
        "id": "-1296903761877800226",
        "label": "(0, 0, 0)",
        "shape": "rectangle"
       },
       "grabbable": true,
       "grabbed": false,
       "position": {
        "x": 1279.5,
        "y": 755
       },
       "selectable": false
      }
     },
     "a3fa2d1b6c50431a9a7eacf8ecd84bf3": {
      "model_module": "jupyter-cytoscape",
      "model_module_version": "^1.3.3",
      "model_name": "EdgeModel",
      "state": {
       "_model_module_version": "^1.3.3",
       "_view_module_version": "^1.3.3",
       "classes": " directed ",
       "data": {
        "id": "f591bb0f-985d-4e0e-9de3-9b8a954ab9b8",
        "source": "137043589522582894",
        "target": "8835371326463779414"
       },
       "selectable": false
      }
     },
     "a5c3ea78f3b14f76950ba735029229d5": {
      "model_module": "jupyter-cytoscape",
      "model_module_version": "^1.3.3",
      "model_name": "EdgeModel",
      "state": {
       "_model_module_version": "^1.3.3",
       "_view_module_version": "^1.3.3",
       "classes": " directed ",
       "data": {
        "id": "864fa81a-9a92-4241-9be4-92d262733ae8",
        "source": "-5343108670373922505",
        "target": "4300370699154126212"
       },
       "selectable": false
      }
     },
     "ab99f4e6cd0b4248be8667b303267031": {
      "model_module": "jupyter-cytoscape",
      "model_module_version": "^1.3.3",
      "model_name": "EdgeModel",
      "state": {
       "_model_module_version": "^1.3.3",
       "_view_module_version": "^1.3.3",
       "classes": " directed ",
       "data": {
        "id": "8a32dd8a-cae6-4bb8-a704-4ee8f075af3e",
        "source": "3630328286622679179",
        "target": "7315583410895249853"
       },
       "selectable": false
      }
     },
     "abbd6551d41f4b7d99f15892db9bc369": {
      "model_module": "jupyter-cytoscape",
      "model_module_version": "^1.3.3",
      "model_name": "NodeModel",
      "state": {
       "_model_module_version": "^1.3.3",
       "_view_module_version": "^1.3.3",
       "data": {
        "color": "gray",
        "id": "-4834960455203856400",
        "label": "3",
        "shape": "rectangle"
       },
       "grabbable": true,
       "grabbed": false,
       "position": {
        "x": 545.5,
        "y": 1475
       },
       "selectable": false
      }
     },
     "ac245bf5ea614698a677dfe1a251a94c": {
      "model_module": "jupyter-cytoscape",
      "model_module_version": "^1.3.3",
      "model_name": "EdgeModel",
      "state": {
       "_model_module_version": "^1.3.3",
       "_view_module_version": "^1.3.3",
       "classes": " directed ",
       "data": {
        "id": "da03135c-edee-43f8-a1a9-2793d52d6dbf",
        "source": "-4834960455203856400",
        "target": "-1862960938443786311"
       },
       "selectable": false
      }
     },
     "ad49b98e9d4943a6880643244a127ded": {
      "model_module": "jupyter-cytoscape",
      "model_module_version": "^1.3.3",
      "model_name": "EdgeModel",
      "state": {
       "_model_module_version": "^1.3.3",
       "_view_module_version": "^1.3.3",
       "classes": " directed ",
       "data": {
        "id": "606868d3-20da-410b-953f-71d093dd59ce",
        "source": "6051580670608713345",
        "target": "-238250915541435836"
       },
       "selectable": false
      }
     },
     "afcf2e643910485684c584e32f1f3c6d": {
      "model_module": "jupyter-cytoscape",
      "model_module_version": "^1.3.3",
      "model_name": "EdgeModel",
      "state": {
       "_model_module_version": "^1.3.3",
       "_view_module_version": "^1.3.3",
       "classes": " directed ",
       "data": {
        "id": "381e03a9-8398-4ce5-aefa-ab21285aacf6",
        "source": "-8542741005461023140",
        "target": "8711588711220077226"
       },
       "selectable": false
      }
     },
     "b0ef64632b9a4875a1647f9ca1a1cb7c": {
      "model_module": "jupyter-cytoscape",
      "model_module_version": "^1.3.3",
      "model_name": "NodeModel",
      "state": {
       "_model_module_version": "^1.3.3",
       "_view_module_version": "^1.3.3",
       "data": {
        "color": "gray",
        "id": "9024281998876616905",
        "label": "intensity",
        "shape": "ellipse"
       },
       "grabbable": true,
       "grabbed": false,
       "position": {
        "x": 178.5,
        "y": 875
       },
       "selectable": false
      }
     },
     "b24eea546c5940c7b06d9a6829df5904": {
      "model_module": "jupyter-cytoscape",
      "model_module_version": "^1.3.3",
      "model_name": "NodeModel",
      "state": {
       "_model_module_version": "^1.3.3",
       "_view_module_version": "^1.3.3",
       "data": {
        "color": "gray",
        "id": "137043589522582894",
        "label": "build_waves_multislice_detect",
        "shape": "ellipse"
       },
       "grabbable": true,
       "grabbed": false,
       "position": {
        "x": 178.5,
        "y": 395
       },
       "selectable": false
      }
     },
     "b2fba908095f45c68976976e5108dde6": {
      "model_module": "jupyter-cytoscape",
      "model_module_version": "^1.3.3",
      "model_name": "EdgeModel",
      "state": {
       "_model_module_version": "^1.3.3",
       "_view_module_version": "^1.3.3",
       "classes": " directed ",
       "data": {
        "id": "577587ae-0082-4fea-bd7c-163f2611c15f",
        "source": "8835371326463779414",
        "target": "750257542093594870"
       },
       "selectable": false
      }
     },
     "b67427b8dcac4122a43011e92a73dca3": {
      "model_module": "jupyter-cytoscape",
      "model_module_version": "^1.3.3",
      "model_name": "EdgeModel",
      "state": {
       "_model_module_version": "^1.3.3",
       "_view_module_version": "^1.3.3",
       "classes": " directed ",
       "data": {
        "id": "9f01e3e6-680d-4cbe-ad02-b200e6e8f242",
        "source": "5275882287861292287",
        "target": "1070549639486173199"
       },
       "selectable": false
      }
     },
     "b71786a8279d442e84b9169bd0114923": {
      "model_module": "jupyter-cytoscape",
      "model_module_version": "^1.3.3",
      "model_name": "NodeModel",
      "state": {
       "_model_module_version": "^1.3.3",
       "_view_module_version": "^1.3.3",
       "data": {
        "color": "gray",
        "id": "-4209520620448540298",
        "label": "mean_agg-aggregate",
        "shape": "ellipse"
       },
       "grabbable": true,
       "grabbed": false,
       "position": {
        "x": 729,
        "y": 155
       },
       "selectable": false
      }
     },
     "b7b203d7dc974914881f7c0bf8b9028b": {
      "model_module": "jupyter-cytoscape",
      "model_module_version": "^1.3.3",
      "model_name": "NodeModel",
      "state": {
       "_model_module_version": "^1.3.3",
       "_view_module_version": "^1.3.3",
       "data": {
        "color": "gray",
        "id": "8835371326463779414",
        "label": "0",
        "shape": "rectangle"
       },
       "grabbable": true,
       "grabbed": false,
       "position": {
        "x": 1279.5,
        "y": 1235
       },
       "selectable": false
      }
     },
     "b9b7a68612b34bf4b268090dc715c8e0": {
      "model_module": "jupyter-cytoscape",
      "model_module_version": "^1.3.3",
      "model_name": "NodeModel",
      "state": {
       "_model_module_version": "^1.3.3",
       "_view_module_version": "^1.3.3",
       "data": {
        "color": "gray",
        "id": "9186935319246391255",
        "label": "(2, 0, 0)",
        "shape": "rectangle"
       },
       "grabbable": true,
       "grabbed": false,
       "position": {
        "x": 912.5,
        "y": 35
       },
       "selectable": false
      }
     },
     "ba8c29240ee1401bb3a215f016d99471": {
      "model_module": "jupyter-cytoscape",
      "model_module_version": "^1.3.3",
      "model_name": "EdgeModel",
      "state": {
       "_model_module_version": "^1.3.3",
       "_view_module_version": "^1.3.3",
       "classes": " directed ",
       "data": {
        "id": "8b13413b-5265-4353-a4de-5f71743bc2ad",
        "source": "3541767686187153126",
        "target": "-608163426589655437"
       },
       "selectable": false
      }
     },
     "bb19acc6068649e3b01b141177ad3df7": {
      "model_module": "jupyter-cytoscape",
      "model_module_version": "^1.3.3",
      "model_name": "EdgeModel",
      "state": {
       "_model_module_version": "^1.3.3",
       "_view_module_version": "^1.3.3",
       "classes": " directed ",
       "data": {
        "id": "a587d71f-633f-4487-8ba9-52461144a4ca",
        "source": "8856009679378780306",
        "target": "-8558810555450788756"
       },
       "selectable": false
      }
     },
     "bbed3c0dc2d34b9797b1f77c18c14e0c": {
      "model_module": "jupyter-cytoscape",
      "model_module_version": "^1.3.3",
      "model_name": "GraphModel",
      "state": {
       "_adj": {},
       "_model_module_version": "^1.3.3",
       "_view_module": "jupyter-cytoscape",
       "_view_module_version": "^1.3.3"
      }
     },
     "bc1fc081993f44c3822bf94b74dc1da0": {
      "model_module": "jupyter-cytoscape",
      "model_module_version": "^1.3.3",
      "model_name": "EdgeModel",
      "state": {
       "_model_module_version": "^1.3.3",
       "_view_module_version": "^1.3.3",
       "classes": " directed ",
       "data": {
        "id": "4fce3da0-825e-44d2-a4b8-ec781da47b1b",
        "source": "4300370699154126212",
        "target": "3630328286622679179"
       },
       "selectable": false
      }
     },
     "bc448a8a9c40468e98ff54eebeced6aa": {
      "model_module": "jupyter-cytoscape",
      "model_module_version": "^1.3.3",
      "model_name": "NodeModel",
      "state": {
       "_model_module_version": "^1.3.3",
       "_view_module_version": "^1.3.3",
       "data": {
        "color": "gray",
        "id": "-2845578825766917715",
        "label": "",
        "shape": "rectangle"
       },
       "grabbable": true,
       "grabbed": false,
       "position": {
        "x": 545.5,
        "y": 1955
       },
       "selectable": false
      }
     },
     "bd6f0c6d9ac44653ae57cd82a9a59f41": {
      "model_module": "jupyter-cytoscape",
      "model_module_version": "^1.3.3",
      "model_name": "EdgeModel",
      "state": {
       "_model_module_version": "^1.3.3",
       "_view_module_version": "^1.3.3",
       "classes": " directed ",
       "data": {
        "id": "5e4056a5-b5ad-499a-a6a2-e92549e9788f",
        "source": "9024281998876616905",
        "target": "-7418910906284654138"
       },
       "selectable": false
      }
     },
     "bee034ee86c749ae94d16390b4edea51": {
      "model_module": "jupyter-cytoscape",
      "model_module_version": "^1.3.3",
      "model_name": "NodeModel",
      "state": {
       "_model_module_version": "^1.3.3",
       "_view_module_version": "^1.3.3",
       "data": {
        "color": "gray",
        "id": "8835371326463779414",
        "label": "0",
        "shape": "rectangle"
       },
       "grabbable": true,
       "grabbed": false,
       "position": {
        "x": 178.5,
        "y": 275
       },
       "selectable": false
      }
     },
     "c0fd2da6cbc0486ab0037344bc87c5df": {
      "model_module": "jupyter-cytoscape",
      "model_module_version": "^1.3.3",
      "model_name": "GraphModel",
      "state": {
       "_adj": {},
       "_model_module_version": "^1.3.3",
       "_view_module": "jupyter-cytoscape",
       "_view_module_version": "^1.3.3"
      }
     },
     "c262be3a8eb84b16822b4d2dcb857742": {
      "model_module": "jupyter-cytoscape",
      "model_module_version": "^1.3.3",
      "model_name": "EdgeModel",
      "state": {
       "_model_module_version": "^1.3.3",
       "_view_module_version": "^1.3.3",
       "classes": " directed ",
       "data": {
        "id": "895c6a22-b1db-498f-9a4b-603af0fd4932",
        "source": "-238250915541435836",
        "target": "9186935319246391255"
       },
       "selectable": false
      }
     },
     "c39e6cab551c4d4faf175d7fa508ddba": {
      "model_module": "jupyter-cytoscape",
      "model_module_version": "^1.3.3",
      "model_name": "NodeModel",
      "state": {
       "_model_module_version": "^1.3.3",
       "_view_module_version": "^1.3.3",
       "data": {
        "color": "gray",
        "id": "464052315898536293",
        "label": "",
        "shape": "rectangle"
       },
       "grabbable": true,
       "grabbed": false,
       "position": {
        "x": 912.5,
        "y": 995
       },
       "selectable": false
      }
     },
     "c39eefe1b421433280e24232e26936f8": {
      "model_module": "jupyter-cytoscape",
      "model_module_version": "^1.3.3",
      "model_name": "NodeModel",
      "state": {
       "_model_module_version": "^1.3.3",
       "_view_module_version": "^1.3.3",
       "data": {
        "color": "gray",
        "id": "6835505694027893383",
        "label": "",
        "shape": "rectangle"
       },
       "grabbable": true,
       "grabbed": false,
       "position": {
        "x": 912.5,
        "y": 755
       },
       "selectable": false
      }
     },
     "c3f71e4cca864f6480933c332f586cba": {
      "model_module": "jupyter-cytoscape",
      "model_module_version": "^1.3.3",
      "model_name": "EdgeModel",
      "state": {
       "_model_module_version": "^1.3.3",
       "_view_module_version": "^1.3.3",
       "classes": " directed ",
       "data": {
        "id": "3ce8afb0-7478-4579-894a-7d880104f576",
        "source": "-6944243828321486697",
        "target": "-1703922727898310791"
       },
       "selectable": false
      }
     },
     "c434a421756940c18fc8d8daa1f8b068": {
      "model_module": "jupyter-cytoscape",
      "model_module_version": "^1.3.3",
      "model_name": "NodeModel",
      "state": {
       "_model_module_version": "^1.3.3",
       "_view_module_version": "^1.3.3",
       "data": {
        "color": "gray",
        "id": "464052315898536293",
        "label": "",
        "shape": "rectangle"
       },
       "grabbable": true,
       "grabbed": false,
       "position": {
        "x": 178.5,
        "y": 1955
       },
       "selectable": false
      }
     },
     "c47fa072ba1a43ecad1df1cf84bdcf12": {
      "model_module": "jupyter-cytoscape",
      "model_module_version": "^1.3.3",
      "model_name": "EdgeModel",
      "state": {
       "_model_module_version": "^1.3.3",
       "_view_module_version": "^1.3.3",
       "classes": " directed ",
       "data": {
        "id": "38f9e644-3630-4862-b3e4-f2cb363d6414",
        "source": "6835505694027893383",
        "target": "2406282145703000690"
       },
       "selectable": false
      }
     },
     "c5270cd783af4cc9ae76a0afa8bf47a1": {
      "model_module": "jupyter-cytoscape",
      "model_module_version": "^1.3.3",
      "model_name": "NodeModel",
      "state": {
       "_model_module_version": "^1.3.3",
       "_view_module_version": "^1.3.3",
       "data": {
        "color": "gray",
        "id": "6051580670608713345",
        "label": "2",
        "shape": "rectangle"
       },
       "grabbable": true,
       "grabbed": false,
       "position": {
        "x": 912.5,
        "y": 275
       },
       "selectable": false
      }
     },
     "c56974eb249b4cd1a49518639edc0e09": {
      "model_module": "jupyter-cytoscape",
      "model_module_version": "^1.3.3",
      "model_name": "NodeModel",
      "state": {
       "_model_module_version": "^1.3.3",
       "_view_module_version": "^1.3.3",
       "data": {
        "color": "gray",
        "id": "-7693542226415232514",
        "label": "0",
        "shape": "rectangle"
       },
       "grabbable": true,
       "grabbed": false,
       "position": {
        "x": 1279.5,
        "y": 635
       },
       "selectable": false
      }
     },
     "c7ecf946ec7d4d01864f7e143ee60c57": {
      "model_module": "@jupyter-widgets/base",
      "model_module_version": "2.0.0",
      "model_name": "LayoutModel",
      "state": {
       "height": "400px"
      }
     },
     "c8029fb8b4c24cefa6bd1afbb7dbadca": {
      "model_module": "jupyter-cytoscape",
      "model_module_version": "^1.3.3",
      "model_name": "NodeModel",
      "state": {
       "_model_module_version": "^1.3.3",
       "_view_module_version": "^1.3.3",
       "data": {
        "color": "gray",
        "id": "-6718206369712634508",
        "label": "intensity",
        "shape": "ellipse"
       },
       "grabbable": true,
       "grabbed": false,
       "position": {
        "x": 912.5,
        "y": 875
       },
       "selectable": false
      }
     },
     "cb042373e8f84a819fa08da54fe1a63c": {
      "model_module": "jupyter-cytoscape",
      "model_module_version": "^1.3.3",
      "model_name": "EdgeModel",
      "state": {
       "_model_module_version": "^1.3.3",
       "_view_module_version": "^1.3.3",
       "classes": " directed ",
       "data": {
        "id": "71f0ce7b-8849-44bb-9d8e-40761fe1929c",
        "source": "7616041141932927690",
        "target": "6835505694027893383"
       },
       "selectable": false
      }
     },
     "d09f356e1a31452d8af96f127c07cfdf": {
      "model_module": "jupyter-cytoscape",
      "model_module_version": "^1.3.3",
      "model_name": "GraphModel",
      "state": {
       "_adj": {
        "-1653929257316273405": {},
        "-1703922727898310791": {},
        "-1862960938443786311": {},
        "-2051169799348790331": {},
        "-238250915541435836": {},
        "-2845578825766917715": {},
        "-456060085493285080": {},
        "-4834960455203856400": {},
        "-5343108670373922505": {},
        "-608163426589655437": {},
        "-6944243828321486697": {},
        "-7693542226415232514": {},
        "-8533153009492483184": {},
        "-8558810555450788756": {},
        "-899795822749737749": {},
        "1158506641636016979": {},
        "137043589522582894": {},
        "1780364567614583725": {},
        "2406282145703000690": {},
        "2637686347445298990": {},
        "3217519610378635959": {},
        "3541767686187153126": {},
        "3630328286622679179": {},
        "4300370699154126212": {},
        "464052315898536293": {},
        "5895277402577873808": {},
        "6051580670608713345": {},
        "6633429999649193878": {},
        "6835505694027893383": {},
        "7315583410895249853": {},
        "750257542093594870": {},
        "7616041141932927690": {},
        "810078179203581685": {},
        "8835371326463779414": {},
        "8856009679378780306": {},
        "9186935319246391255": {}
       },
       "_model_module_version": "^1.3.3",
       "_view_module": "jupyter-cytoscape",
       "_view_module_version": "^1.3.3",
       "edges": [
        "IPY_MODEL_d3566be6a0774304a19e38baa649ad2d",
        "IPY_MODEL_e753900448434fc8a2559f30846f0ab2",
        "IPY_MODEL_42b4f02f01764b7198b433b60c081003",
        "IPY_MODEL_662ed7970d174299a7b41c8488189d88",
        "IPY_MODEL_62f1f951f8c245e18d731a35dc9b9a4c",
        "IPY_MODEL_e457a78de33741a79618049da7c2d943",
        "IPY_MODEL_d2921187607c46a89baf87cbf1c47738",
        "IPY_MODEL_14c8943c6e1f4b9082e717d8a43a93c2",
        "IPY_MODEL_a5c3ea78f3b14f76950ba735029229d5",
        "IPY_MODEL_6fd8ed80f38a41e69070818bff893616",
        "IPY_MODEL_f5aae085c83249ce894c944b30bc8be2",
        "IPY_MODEL_151cc072acf044f1b7e30e4ef9d1e882",
        "IPY_MODEL_c47fa072ba1a43ecad1df1cf84bdcf12",
        "IPY_MODEL_380068525f3c4e7d94d9873421acc682",
        "IPY_MODEL_d7e4675d857449518eeacd860379d5e6",
        "IPY_MODEL_8e7a54aceede4a0685b0eb5253dfdb7d",
        "IPY_MODEL_a3fa2d1b6c50431a9a7eacf8ecd84bf3",
        "IPY_MODEL_4af7bae87b0a4742afc5906f412039aa",
        "IPY_MODEL_ec194c3fd7d54d7f8144e749678cf59a",
        "IPY_MODEL_635c855a29274ca0807c5695629b9987",
        "IPY_MODEL_0e9a48e6a4184b8080c7d6c2ceed098f",
        "IPY_MODEL_5befbffec30d45e1bfc9023e38beccb2",
        "IPY_MODEL_9afb2f0e0d6e475aab9081c77ff41b2f",
        "IPY_MODEL_41e2e9b1a9e84cf9bcce92e1ef160f74",
        "IPY_MODEL_1dc09be7b8fd42c69d81d3b65446faf1",
        "IPY_MODEL_df6f2a86037f4e71883414960de515c0",
        "IPY_MODEL_ba8c29240ee1401bb3a215f016d99471",
        "IPY_MODEL_54df3b67a7154bae9c6c2c00a1c57533",
        "IPY_MODEL_c262be3a8eb84b16822b4d2dcb857742",
        "IPY_MODEL_ad49b98e9d4943a6880643244a127ded",
        "IPY_MODEL_f48ffc6d8ba34ca89f03a26d7eb52bae",
        "IPY_MODEL_7c6a15f7ee334bae997ac5533f1f4cf4"
       ],
       "nodes": [
        "IPY_MODEL_3a3d559bb5b84e0fb5001bd9cf1ef424",
        "IPY_MODEL_873add1cabdb472c80f6b0ffdfb4663a",
        "IPY_MODEL_138e1e78ab524647876067072f70dace",
        "IPY_MODEL_2ff5a74c059041b79e6e4817af4a6e10",
        "IPY_MODEL_67590fb0ef184523b687930431ed22c8",
        "IPY_MODEL_29dfd39a70814c3a8a40300590c06f68",
        "IPY_MODEL_7320a3b9ba014157b0c6d9306e0ec5cb",
        "IPY_MODEL_1d61a36db54d4d87acb0c1bc16c7721a",
        "IPY_MODEL_fe036f624db14c88b342043d6f9ceae0",
        "IPY_MODEL_a021705c98e54630a442f9097e0790cb",
        "IPY_MODEL_fdeb3932679a4c999a3938bd7f3142d8",
        "IPY_MODEL_3c775915b4b244e8b7794cbb7f5e08ce",
        "IPY_MODEL_c39e6cab551c4d4faf175d7fa508ddba",
        "IPY_MODEL_35615df6024143c395ec760a89d6b207",
        "IPY_MODEL_c39eefe1b421433280e24232e26936f8",
        "IPY_MODEL_63222882ba124355bb2d91eb866df102",
        "IPY_MODEL_6880b5debe764797b861e1ff656819f0",
        "IPY_MODEL_e8ec4a9d91434b43865eec24450f1f82",
        "IPY_MODEL_93e7b43dbb514c4bbcb3e1aa5fb3bbf5",
        "IPY_MODEL_c56974eb249b4cd1a49518639edc0e09",
        "IPY_MODEL_b24eea546c5940c7b06d9a6829df5904",
        "IPY_MODEL_bee034ee86c749ae94d16390b4edea51",
        "IPY_MODEL_798c0c9d8086464bae47be208f1d30e6",
        "IPY_MODEL_4afc1ccd8db44debade8e825771946f7",
        "IPY_MODEL_95bd150374a646daa93a22ba54c5c8d8",
        "IPY_MODEL_c5270cd783af4cc9ae76a0afa8bf47a1",
        "IPY_MODEL_7926d0667936426ea6b9dce7ce5e4815",
        "IPY_MODEL_4ceeb6b2f80e443d85c7d8623b99d9c1",
        "IPY_MODEL_601872e9ce58455f9da5cc2cb450022a",
        "IPY_MODEL_63a0be7a04da4b808d4c827635e024c5",
        "IPY_MODEL_0a12f914f5ff4dffb830d6d066435cfc",
        "IPY_MODEL_53fbaee1542c4218916217addbd9fd3b",
        "IPY_MODEL_f76721dae1e44514b9b92227ee8855bb",
        "IPY_MODEL_b9b7a68612b34bf4b268090dc715c8e0",
        "IPY_MODEL_f1939127774a41d4a3da9e01c6348ae8",
        "IPY_MODEL_88b910f2a6ac41d2b5642ae99928844c"
       ]
      }
     },
     "d2921187607c46a89baf87cbf1c47738": {
      "model_module": "jupyter-cytoscape",
      "model_module_version": "^1.3.3",
      "model_name": "EdgeModel",
      "state": {
       "_model_module_version": "^1.3.3",
       "_view_module_version": "^1.3.3",
       "classes": " directed ",
       "data": {
        "id": "11784f29-cc97-4d5c-b2f1-9c68338df1c1",
        "source": "5895277402577873808",
        "target": "8856009679378780306"
       },
       "selectable": false
      }
     },
     "d2d7cbfa8b624e81a7239d7cf75a03ff": {
      "model_module": "jupyter-cytoscape",
      "model_module_version": "^1.3.3",
      "model_name": "NodeModel",
      "state": {
       "_model_module_version": "^1.3.3",
       "_view_module_version": "^1.3.3",
       "data": {
        "color": "gray",
        "id": "2699234435108871492",
        "label": "mean_combine-partial",
        "shape": "ellipse"
       },
       "grabbable": true,
       "grabbed": false,
       "position": {
        "x": 362,
        "y": 395
       },
       "selectable": false
      }
     },
     "d2df2b200a894342873710a370da5c45": {
      "model_module": "jupyter-cytoscape",
      "model_module_version": "^1.3.3",
      "model_name": "NodeModel",
      "state": {
       "_model_module_version": "^1.3.3",
       "_view_module_version": "^1.3.3",
       "data": {
        "color": "gray",
        "id": "137043589522582894",
        "label": "build_waves_multislice_detect",
        "shape": "ellipse"
       },
       "grabbable": true,
       "grabbed": false,
       "position": {
        "x": 1279.5,
        "y": 1355
       },
       "selectable": false
      }
     },
     "d3566be6a0774304a19e38baa649ad2d": {
      "model_module": "jupyter-cytoscape",
      "model_module_version": "^1.3.3",
      "model_name": "EdgeModel",
      "state": {
       "_model_module_version": "^1.3.3",
       "_view_module_version": "^1.3.3",
       "classes": " directed ",
       "data": {
        "id": "ce0771f0-5e91-447a-9a64-faae167523ce",
        "source": "8856009679378780306",
        "target": "-8558810555450788756"
       },
       "selectable": false
      }
     },
     "d513033df67a4baa9cdf6b6b0e3b4272": {
      "model_module": "jupyter-cytoscape",
      "model_module_version": "^1.3.3",
      "model_name": "NodeModel",
      "state": {
       "_model_module_version": "^1.3.3",
       "_view_module_version": "^1.3.3",
       "data": {
        "color": "gray",
        "id": "8711588711220077226",
        "label": "(3, 0, 0)",
        "shape": "rectangle"
       },
       "grabbable": true,
       "grabbed": false,
       "position": {
        "x": 545.5,
        "y": 515
       },
       "selectable": false
      }
     },
     "d7e4675d857449518eeacd860379d5e6": {
      "model_module": "jupyter-cytoscape",
      "model_module_version": "^1.3.3",
      "model_name": "EdgeModel",
      "state": {
       "_model_module_version": "^1.3.3",
       "_view_module_version": "^1.3.3",
       "classes": " directed ",
       "data": {
        "id": "ac1eac68-2144-44ab-9ffb-5a45f7c7f85d",
        "source": "-2845578825766917715",
        "target": "3217519610378635959"
       },
       "selectable": false
      }
     },
     "d95c8506fdc6497f9aa736125043bf0d": {
      "model_module": "jupyter-cytoscape",
      "model_module_version": "^1.3.3",
      "model_name": "NodeModel",
      "state": {
       "_model_module_version": "^1.3.3",
       "_view_module_version": "^1.3.3",
       "data": {
        "color": "gray",
        "id": "6051580670608713345",
        "label": "2",
        "shape": "rectangle"
       },
       "grabbable": true,
       "grabbed": false,
       "position": {
        "x": 178.5,
        "y": 1235
       },
       "selectable": false
      }
     },
     "db1d21d4da684d76b2520ed6d72b6833": {
      "model_module": "jupyter-cytoscape",
      "model_module_version": "^1.3.3",
      "model_name": "NodeModel",
      "state": {
       "_model_module_version": "^1.3.3",
       "_view_module_version": "^1.3.3",
       "data": {
        "color": "gray",
        "id": "2406282145703000690",
        "label": "0",
        "shape": "rectangle"
       },
       "grabbable": true,
       "grabbed": false,
       "position": {
        "x": 178.5,
        "y": 1595
       },
       "selectable": false
      }
     },
     "dc485a506ca8458aae2d5554cd87d8f1": {
      "model_module": "jupyter-cytoscape",
      "model_module_version": "^1.3.3",
      "model_name": "EdgeModel",
      "state": {
       "_model_module_version": "^1.3.3",
       "_view_module_version": "^1.3.3",
       "classes": " directed ",
       "data": {
        "id": "ab7fae09-92cd-43bd-b404-c6645033a6ae",
        "source": "9186935319246391255",
        "target": "9024281998876616905"
       },
       "selectable": false
      }
     },
     "de97d719f05642608220a042c3af749c": {
      "model_module": "jupyter-cytoscape",
      "model_module_version": "^1.3.3",
      "model_name": "NodeModel",
      "state": {
       "_model_module_version": "^1.3.3",
       "_view_module_version": "^1.3.3",
       "data": {
        "color": "gray",
        "id": "-7418910906284654138",
        "label": "(2, 0, 0)",
        "shape": "rectangle"
       },
       "grabbable": true,
       "grabbed": false,
       "position": {
        "x": 178.5,
        "y": 755
       },
       "selectable": false
      }
     },
     "df526d277c704fc7b154c5a23c6bce18": {
      "model_module": "jupyter-cytoscape",
      "model_module_version": "^1.3.3",
      "model_name": "EdgeModel",
      "state": {
       "_model_module_version": "^1.3.3",
       "_view_module_version": "^1.3.3",
       "classes": " directed ",
       "data": {
        "id": "8261a2a0-6e26-437b-acab-58049a55d081",
        "source": "-8562023662267162015",
        "target": "-3167971774838933152"
       },
       "selectable": false
      }
     },
     "df6f2a86037f4e71883414960de515c0": {
      "model_module": "jupyter-cytoscape",
      "model_module_version": "^1.3.3",
      "model_name": "EdgeModel",
      "state": {
       "_model_module_version": "^1.3.3",
       "_view_module_version": "^1.3.3",
       "classes": " directed ",
       "data": {
        "id": "62aca75a-8211-4bef-aad5-1e4b82040d97",
        "source": "8835371326463779414",
        "target": "750257542093594870"
       },
       "selectable": false
      }
     },
     "e42fe4dec8d34926b10cc610c531edc6": {
      "model_module": "jupyter-cytoscape",
      "model_module_version": "^1.3.3",
      "model_name": "EdgeModel",
      "state": {
       "_model_module_version": "^1.3.3",
       "_view_module_version": "^1.3.3",
       "classes": " directed ",
       "data": {
        "id": "852119e3-c4a9-4197-8d3e-a81d8834f2a8",
        "source": "-2051169799348790331",
        "target": "-899795822749737749"
       },
       "selectable": false
      }
     },
     "e457a78de33741a79618049da7c2d943": {
      "model_module": "jupyter-cytoscape",
      "model_module_version": "^1.3.3",
      "model_name": "EdgeModel",
      "state": {
       "_model_module_version": "^1.3.3",
       "_view_module_version": "^1.3.3",
       "classes": " directed ",
       "data": {
        "id": "c069ea29-44b9-4fb5-8cd6-4da3846cdf8d",
        "source": "6633429999649193878",
        "target": "-1653929257316273405"
       },
       "selectable": false
      }
     },
     "e49aded2468248a3b79e9ba5408bc568": {
      "model_module": "jupyter-cytoscape",
      "model_module_version": "^1.3.3",
      "model_name": "NodeModel",
      "state": {
       "_model_module_version": "^1.3.3",
       "_view_module_version": "^1.3.3",
       "data": {
        "color": "gray",
        "id": "2018804237602943200",
        "label": "intensity",
        "shape": "ellipse"
       },
       "grabbable": true,
       "grabbed": false,
       "position": {
        "x": 1279.5,
        "y": 875
       },
       "selectable": false
      }
     },
     "e5875028780d487e8f273bbcf018ec11": {
      "model_module": "jupyter-cytoscape",
      "model_module_version": "^1.3.3",
      "model_name": "EdgeModel",
      "state": {
       "_model_module_version": "^1.3.3",
       "_view_module_version": "^1.3.3",
       "classes": " directed ",
       "data": {
        "id": "4de81366-9f74-4bd6-a21f-cacf07d5896b",
        "source": "-5343108670373922505",
        "target": "4300370699154126212"
       },
       "selectable": false
      }
     },
     "e753900448434fc8a2559f30846f0ab2": {
      "model_module": "jupyter-cytoscape",
      "model_module_version": "^1.3.3",
      "model_name": "EdgeModel",
      "state": {
       "_model_module_version": "^1.3.3",
       "_view_module_version": "^1.3.3",
       "classes": " directed ",
       "data": {
        "id": "61253ac2-7e14-4f83-85d3-0d35fb4a83b2",
        "source": "7315583410895249853",
        "target": "-2051169799348790331"
       },
       "selectable": false
      }
     },
     "e8ec4a9d91434b43865eec24450f1f82": {
      "model_module": "jupyter-cytoscape",
      "model_module_version": "^1.3.3",
      "model_name": "NodeModel",
      "state": {
       "_model_module_version": "^1.3.3",
       "_view_module_version": "^1.3.3",
       "data": {
        "color": "gray",
        "id": "3217519610378635959",
        "label": "frozen_phonon",
        "shape": "ellipse"
       },
       "grabbable": true,
       "grabbed": false,
       "position": {
        "x": 1279.5,
        "y": 875
       },
       "selectable": false
      }
     },
     "e9585df860a543aba69c57a3edbf0dfc": {
      "model_module": "jupyter-cytoscape",
      "model_module_version": "^1.3.3",
      "model_name": "EdgeModel",
      "state": {
       "_model_module_version": "^1.3.3",
       "_view_module_version": "^1.3.3",
       "classes": " directed ",
       "data": {
        "id": "741ef0c7-8be6-4e5b-93e7-6089382f960e",
        "source": "3541767686187153126",
        "target": "-608163426589655437"
       },
       "selectable": false
      }
     },
     "eab43e1a1b494c9db7dee467e7745e03": {
      "model_module": "jupyter-cytoscape",
      "model_module_version": "^1.3.3",
      "model_name": "NodeModel",
      "state": {
       "_model_module_version": "^1.3.3",
       "_view_module_version": "^1.3.3",
       "data": {
        "color": "gray",
        "id": "-8542741005461023140",
        "label": "mean_chunk",
        "shape": "ellipse"
       },
       "grabbable": true,
       "grabbed": false,
       "position": {
        "x": 545.5,
        "y": 635
       },
       "selectable": false
      }
     },
     "ebdfa03f80474349b8859b6b9a99d017": {
      "model_module": "jupyter-cytoscape",
      "model_module_version": "^1.3.3",
      "model_name": "NodeModel",
      "state": {
       "_model_module_version": "^1.3.3",
       "_view_module_version": "^1.3.3",
       "data": {
        "color": "gray",
        "id": "-899795822749737749",
        "label": "build_waves_multislice_detect",
        "shape": "ellipse"
       },
       "grabbable": true,
       "grabbed": false,
       "position": {
        "x": 912.5,
        "y": 1355
       },
       "selectable": false
      }
     },
     "ec194c3fd7d54d7f8144e749678cf59a": {
      "model_module": "jupyter-cytoscape",
      "model_module_version": "^1.3.3",
      "model_name": "EdgeModel",
      "state": {
       "_model_module_version": "^1.3.3",
       "_view_module_version": "^1.3.3",
       "classes": " directed ",
       "data": {
        "id": "915f8012-270a-40da-88c3-c40e8a66f195",
        "source": "-899795822749737749",
        "target": "-456060085493285080"
       },
       "selectable": false
      }
     },
     "ed0032a0255d4c74b39a9606649d92ab": {
      "model_module": "jupyter-cytoscape",
      "model_module_version": "^1.3.3",
      "model_name": "EdgeModel",
      "state": {
       "_model_module_version": "^1.3.3",
       "_view_module_version": "^1.3.3",
       "classes": " directed ",
       "data": {
        "id": "7dfc88ea-055b-484f-8e21-93f0a4bd952d",
        "source": "1158506641636016979",
        "target": "1780364567614583725"
       },
       "selectable": false
      }
     },
     "efbabf14f6e04c83bdaec993937faaff": {
      "model_module": "jupyter-cytoscape",
      "model_module_version": "^1.3.3",
      "model_name": "EdgeModel",
      "state": {
       "_model_module_version": "^1.3.3",
       "_view_module_version": "^1.3.3",
       "classes": " directed ",
       "data": {
        "id": "a516f04a-8a3d-4c98-b621-29f563fb4165",
        "source": "2699234435108871492",
        "target": "-7315417112224804855"
       },
       "selectable": false
      }
     },
     "f0d7593e8d6e40a88e4ac947bf0d5c5c": {
      "model_module": "jupyter-cytoscape",
      "model_module_version": "^1.3.3",
      "model_name": "NodeModel",
      "state": {
       "_model_module_version": "^1.3.3",
       "_view_module_version": "^1.3.3",
       "data": {
        "color": "gray",
        "id": "3217519610378635959",
        "label": "frozen_phonon",
        "shape": "ellipse"
       },
       "grabbable": true,
       "grabbed": false,
       "position": {
        "x": 545.5,
        "y": 1835
       },
       "selectable": false
      }
     },
     "f15a7fd3c1b745078984850199516583": {
      "model_module": "jupyter-cytoscape",
      "model_module_version": "^1.3.3",
      "model_name": "EdgeModel",
      "state": {
       "_model_module_version": "^1.3.3",
       "_view_module_version": "^1.3.3",
       "classes": " directed ",
       "data": {
        "id": "81e7096d-4cfb-4836-b428-e1b2e55e4459",
        "source": "3217519610378635959",
        "target": "2637686347445298990"
       },
       "selectable": false
      }
     },
     "f1939127774a41d4a3da9e01c6348ae8": {
      "model_module": "jupyter-cytoscape",
      "model_module_version": "^1.3.3",
      "model_name": "NodeModel",
      "state": {
       "_model_module_version": "^1.3.3",
       "_view_module_version": "^1.3.3",
       "data": {
        "color": "gray",
        "id": "1780364567614583725",
        "label": "extract_measurement",
        "shape": "ellipse"
       },
       "grabbable": true,
       "grabbed": false,
       "position": {
        "x": 1279.5,
        "y": 155
       },
       "selectable": false
      }
     },
     "f1fac33860444cde919d0d0989642afb": {
      "model_module": "jupyter-cytoscape",
      "model_module_version": "^1.3.3",
      "model_name": "NodeModel",
      "state": {
       "_model_module_version": "^1.3.3",
       "_view_module_version": "^1.3.3",
       "data": {
        "color": "gray",
        "id": "4300370699154126212",
        "label": "frozen_phonon",
        "shape": "ellipse"
       },
       "grabbable": true,
       "grabbed": false,
       "position": {
        "x": 912.5,
        "y": 1835
       },
       "selectable": false
      }
     },
     "f2f9c9efb86d46209386c80a13046be0": {
      "model_module": "jupyter-cytoscape",
      "model_module_version": "^1.3.3",
      "model_name": "EdgeModel",
      "state": {
       "_model_module_version": "^1.3.3",
       "_view_module_version": "^1.3.3",
       "classes": " directed ",
       "data": {
        "id": "a5fa4b3a-6ba1-4a7a-acf9-b0c0bbbaa046",
        "source": "6835505694027893383",
        "target": "2406282145703000690"
       },
       "selectable": false
      }
     },
     "f48ffc6d8ba34ca89f03a26d7eb52bae": {
      "model_module": "jupyter-cytoscape",
      "model_module_version": "^1.3.3",
      "model_name": "EdgeModel",
      "state": {
       "_model_module_version": "^1.3.3",
       "_view_module_version": "^1.3.3",
       "classes": " directed ",
       "data": {
        "id": "7a17c050-cc04-496c-bf4b-bde85c4b9d9a",
        "source": "1780364567614583725",
        "target": "810078179203581685"
       },
       "selectable": false
      }
     },
     "f5aae085c83249ce894c944b30bc8be2": {
      "model_module": "jupyter-cytoscape",
      "model_module_version": "^1.3.3",
      "model_name": "EdgeModel",
      "state": {
       "_model_module_version": "^1.3.3",
       "_view_module_version": "^1.3.3",
       "classes": " directed ",
       "data": {
        "id": "f2b6de07-0994-404a-9b99-ba600a3d489f",
        "source": "7616041141932927690",
        "target": "6835505694027893383"
       },
       "selectable": false
      }
     },
     "f6d32d273d05485b86d269545924b54e": {
      "model_module": "@jupyter-widgets/base",
      "model_module_version": "2.0.0",
      "model_name": "LayoutModel",
      "state": {
       "height": "400px"
      }
     },
     "f76721dae1e44514b9b92227ee8855bb": {
      "model_module": "jupyter-cytoscape",
      "model_module_version": "^1.3.3",
      "model_name": "NodeModel",
      "state": {
       "_model_module_version": "^1.3.3",
       "_view_module_version": "^1.3.3",
       "data": {
        "color": "gray",
        "id": "-238250915541435836",
        "label": "extract_measurement",
        "shape": "ellipse"
       },
       "grabbable": true,
       "grabbed": false,
       "position": {
        "x": 912.5,
        "y": 155
       },
       "selectable": false
      }
     },
     "fc19d767e45f41b8878c02ba0727375e": {
      "model_module": "jupyter-cytoscape",
      "model_module_version": "^1.3.3",
      "model_name": "EdgeModel",
      "state": {
       "_model_module_version": "^1.3.3",
       "_view_module_version": "^1.3.3",
       "classes": " directed ",
       "data": {
        "id": "b8c72863-6a58-43a8-ba7d-29a741458abb",
        "source": "6633429999649193878",
        "target": "-1653929257316273405"
       },
       "selectable": false
      }
     },
     "fdeb3932679a4c999a3938bd7f3142d8": {
      "model_module": "jupyter-cytoscape",
      "model_module_version": "^1.3.3",
      "model_name": "NodeModel",
      "state": {
       "_model_module_version": "^1.3.3",
       "_view_module_version": "^1.3.3",
       "data": {
        "color": "gray",
        "id": "3630328286622679179",
        "label": "",
        "shape": "rectangle"
       },
       "grabbable": true,
       "grabbed": false,
       "position": {
        "x": 545.5,
        "y": 755
       },
       "selectable": false
      }
     },
     "fe036f624db14c88b342043d6f9ceae0": {
      "model_module": "jupyter-cytoscape",
      "model_module_version": "^1.3.3",
      "model_name": "NodeModel",
      "state": {
       "_model_module_version": "^1.3.3",
       "_view_module_version": "^1.3.3",
       "data": {
        "color": "gray",
        "id": "-5343108670373922505",
        "label": "",
        "shape": "rectangle"
       },
       "grabbable": true,
       "grabbed": false,
       "position": {
        "x": 545.5,
        "y": 995
       },
       "selectable": false
      }
     },
     "fe45cd7946914a1b93b1878795dec838": {
      "model_module": "jupyter-cytoscape",
      "model_module_version": "^1.3.3",
      "model_name": "NodeModel",
      "state": {
       "_model_module_version": "^1.3.3",
       "_view_module_version": "^1.3.3",
       "data": {
        "color": "gray",
        "id": "810078179203581685",
        "label": "(3, 0, 0)",
        "shape": "rectangle"
       },
       "grabbable": true,
       "grabbed": false,
       "position": {
        "x": 545.5,
        "y": 995
       },
       "selectable": false
      }
     },
     "ff4b9a7b647041e697f410b4884a0d6e": {
      "model_module": "jupyter-cytoscape",
      "model_module_version": "^1.3.3",
      "model_name": "NodeModel",
      "state": {
       "_model_module_version": "^1.3.3",
       "_view_module_version": "^1.3.3",
       "data": {
        "color": "gray",
        "id": "750257542093594870",
        "label": "extract_measurement",
        "shape": "ellipse"
       },
       "grabbable": true,
       "grabbed": false,
       "position": {
        "x": 1279.5,
        "y": 1115
       },
       "selectable": false
      }
     }
    },
    "version_major": 2,
    "version_minor": 0
   }
  }
 },
 "nbformat": 4,
 "nbformat_minor": 5
}
