{
 "cells": [
  {
   "cell_type": "markdown",
   "id": "63acbfd0-4bb2-4873-a1b4-4db6ba9f57dd",
   "metadata": {},
   "source": [
    "````{warning} Requires optional libraries\n",
    ":class: dropdown\n",
    "\n",
    "Running this notebook requires the optional packages [bokeh](http://bokeh.org/) and [ipycytoscape](https://ipycytoscape.readthedocs.io/en/latest/).\n",
    "\n",
    "Install using conda: \n",
    "\n",
    "```{code}\n",
    "conda install -c conda-forge bokeh ipycytoscape\n",
    "```\n",
    "\n",
    "Install using pip:\n",
    "```{code}\n",
    "pip install bokeh ipycytoscape\n",
    "```\n",
    "\n",
    "These libraries includes a server Jupyter server plugin, a restart of Jupyter is necessary if you have installed the libraries while it is running.\n",
    "````"
   ]
  },
  {
   "cell_type": "code",
   "execution_count": 1,
   "id": "c8a68d55-5e9b-4bab-b324-05b89a56cecd",
   "metadata": {
    "pycharm": {
     "name": "#%%\n"
    },
    "tags": [
     "hide-input"
    ]
   },
   "outputs": [
    {
     "data": {
      "text/html": [
       "<style>\n",
       "        .bk-notebook-logo {\n",
       "            display: block;\n",
       "            width: 20px;\n",
       "            height: 20px;\n",
       "            background-image: url(data:image/png;base64,iVBORw0KGgoAAAANSUhEUgAAABQAAAAUCAYAAACNiR0NAAAABHNCSVQICAgIfAhkiAAAAAlwSFlzAAALEgAACxIB0t1+/AAAABx0RVh0U29mdHdhcmUAQWRvYmUgRmlyZXdvcmtzIENTNui8sowAAAOkSURBVDiNjZRtaJVlGMd/1/08zzln5zjP1LWcU9N0NkN8m2CYjpgQYQXqSs0I84OLIC0hkEKoPtiH3gmKoiJDU7QpLgoLjLIQCpEsNJ1vqUOdO7ppbuec5+V+rj4ctwzd8IIbbi6u+8f1539dt3A78eXC7QizUF7gyV1fD1Yqg4JWz84yffhm0qkFqBogB9rM8tZdtwVsPUhWhGcFJngGeWrPzHm5oaMmkfEg1usvLFyc8jLRqDOMru7AyC8saQr7GG7f5fvDeH7Ej8CM66nIF+8yngt6HWaKh7k49Soy9nXurCi1o3qUbS3zWfrYeQDTB/Qj6kX6Ybhw4B+bOYoLKCC9H3Nu/leUTZ1JdRWkkn2ldcCamzrcf47KKXdAJllSlxAOkRgyHsGC/zRday5Qld9DyoM4/q/rUoy/CXh3jzOu3bHUVZeU+DEn8FInkPBFlu3+nW3Nw0mk6vCDiWg8CeJaxEwuHS3+z5RgY+YBR6V1Z1nxSOfoaPa4LASWxxdNp+VWTk7+4vzaou8v8PN+xo+KY2xsw6une2frhw05CTYOmQvsEhjhWjn0bmXPjpE1+kplmmkP3suftwTubK9Vq22qKmrBhpY4jvd5afdRA3wGjFAgcnTK2s4hY0/GPNIb0nErGMCRxWOOX64Z8RAC4oCXdklmEvcL8o0BfkNK4lUg9HTl+oPlQxdNo3Mg4Nv175e/1LDGzZen30MEjRUtmXSfiTVu1kK8W4txyV6BMKlbgk3lMwYCiusNy9fVfvvwMxv8Ynl6vxoByANLTWplvuj/nF9m2+PDtt1eiHPBr1oIfhCChQMBw6Aw0UulqTKZdfVvfG7VcfIqLG9bcldL/+pdWTLxLUy8Qq38heUIjh4XlzZxzQm19lLFlr8vdQ97rjZVOLf8nclzckbcD4wxXMidpX30sFd37Fv/GtwwhzhxGVAprjbg0gCAEeIgwCZyTV2Z1REEW8O4py0wsjeloKoMr6iCY6dP92H6Vw/oTyICIthibxjm/DfN9lVz8IqtqKYLUXfoKVMVQVVJOElGjrnnUt9T9wbgp8AyYKaGlqingHZU/uG2NTZSVqwHQTWkx9hxjkpWDaCg6Ckj5qebgBVbT3V3NNXMSiWSDdGV3hrtzla7J+duwPOToIg42ChPQOQjspnSlp1V+Gjdged7+8UN5CRAV7a5EdFNwCjEaBR27b3W890TE7g24NAP/mMDXRWrGoFPQI9ls/MWO2dWFAar/xcOIImbbpA3zgAAAABJRU5ErkJggg==);\n",
       "        }\n",
       "    </style>\n",
       "    <div>\n",
       "        <a href=\"https://bokeh.org\" target=\"_blank\" class=\"bk-notebook-logo\"></a>\n",
       "        <span id=\"d16bb25e-c967-4d0c-8273-8cd09afcc4e7\">Loading BokehJS ...</span>\n",
       "    </div>\n"
      ]
     },
     "metadata": {},
     "output_type": "display_data"
    },
    {
     "data": {
      "application/javascript": [
       "(function(root) {\n",
       "  function now() {\n",
       "    return new Date();\n",
       "  }\n",
       "\n",
       "  const force = true;\n",
       "\n",
       "  if (typeof root._bokeh_onload_callbacks === \"undefined\" || force === true) {\n",
       "    root._bokeh_onload_callbacks = [];\n",
       "    root._bokeh_is_loading = undefined;\n",
       "  }\n",
       "\n",
       "const JS_MIME_TYPE = 'application/javascript';\n",
       "  const HTML_MIME_TYPE = 'text/html';\n",
       "  const EXEC_MIME_TYPE = 'application/vnd.bokehjs_exec.v0+json';\n",
       "  const CLASS_NAME = 'output_bokeh rendered_html';\n",
       "\n",
       "  /**\n",
       "   * Render data to the DOM node\n",
       "   */\n",
       "  function render(props, node) {\n",
       "    const script = document.createElement(\"script\");\n",
       "    node.appendChild(script);\n",
       "  }\n",
       "\n",
       "  /**\n",
       "   * Handle when an output is cleared or removed\n",
       "   */\n",
       "  function handleClearOutput(event, handle) {\n",
       "    const cell = handle.cell;\n",
       "\n",
       "    const id = cell.output_area._bokeh_element_id;\n",
       "    const server_id = cell.output_area._bokeh_server_id;\n",
       "    // Clean up Bokeh references\n",
       "    if (id != null && id in Bokeh.index) {\n",
       "      Bokeh.index[id].model.document.clear();\n",
       "      delete Bokeh.index[id];\n",
       "    }\n",
       "\n",
       "    if (server_id !== undefined) {\n",
       "      // Clean up Bokeh references\n",
       "      const cmd_clean = \"from bokeh.io.state import curstate; print(curstate().uuid_to_server['\" + server_id + \"'].get_sessions()[0].document.roots[0]._id)\";\n",
       "      cell.notebook.kernel.execute(cmd_clean, {\n",
       "        iopub: {\n",
       "          output: function(msg) {\n",
       "            const id = msg.content.text.trim();\n",
       "            if (id in Bokeh.index) {\n",
       "              Bokeh.index[id].model.document.clear();\n",
       "              delete Bokeh.index[id];\n",
       "            }\n",
       "          }\n",
       "        }\n",
       "      });\n",
       "      // Destroy server and session\n",
       "      const cmd_destroy = \"import bokeh.io.notebook as ion; ion.destroy_server('\" + server_id + \"')\";\n",
       "      cell.notebook.kernel.execute(cmd_destroy);\n",
       "    }\n",
       "  }\n",
       "\n",
       "  /**\n",
       "   * Handle when a new output is added\n",
       "   */\n",
       "  function handleAddOutput(event, handle) {\n",
       "    const output_area = handle.output_area;\n",
       "    const output = handle.output;\n",
       "\n",
       "    // limit handleAddOutput to display_data with EXEC_MIME_TYPE content only\n",
       "    if ((output.output_type != \"display_data\") || (!Object.prototype.hasOwnProperty.call(output.data, EXEC_MIME_TYPE))) {\n",
       "      return\n",
       "    }\n",
       "\n",
       "    const toinsert = output_area.element.find(\".\" + CLASS_NAME.split(' ')[0]);\n",
       "\n",
       "    if (output.metadata[EXEC_MIME_TYPE][\"id\"] !== undefined) {\n",
       "      toinsert[toinsert.length - 1].firstChild.textContent = output.data[JS_MIME_TYPE];\n",
       "      // store reference to embed id on output_area\n",
       "      output_area._bokeh_element_id = output.metadata[EXEC_MIME_TYPE][\"id\"];\n",
       "    }\n",
       "    if (output.metadata[EXEC_MIME_TYPE][\"server_id\"] !== undefined) {\n",
       "      const bk_div = document.createElement(\"div\");\n",
       "      bk_div.innerHTML = output.data[HTML_MIME_TYPE];\n",
       "      const script_attrs = bk_div.children[0].attributes;\n",
       "      for (let i = 0; i < script_attrs.length; i++) {\n",
       "        toinsert[toinsert.length - 1].firstChild.setAttribute(script_attrs[i].name, script_attrs[i].value);\n",
       "        toinsert[toinsert.length - 1].firstChild.textContent = bk_div.children[0].textContent\n",
       "      }\n",
       "      // store reference to server id on output_area\n",
       "      output_area._bokeh_server_id = output.metadata[EXEC_MIME_TYPE][\"server_id\"];\n",
       "    }\n",
       "  }\n",
       "\n",
       "  function register_renderer(events, OutputArea) {\n",
       "\n",
       "    function append_mime(data, metadata, element) {\n",
       "      // create a DOM node to render to\n",
       "      const toinsert = this.create_output_subarea(\n",
       "        metadata,\n",
       "        CLASS_NAME,\n",
       "        EXEC_MIME_TYPE\n",
       "      );\n",
       "      this.keyboard_manager.register_events(toinsert);\n",
       "      // Render to node\n",
       "      const props = {data: data, metadata: metadata[EXEC_MIME_TYPE]};\n",
       "      render(props, toinsert[toinsert.length - 1]);\n",
       "      element.append(toinsert);\n",
       "      return toinsert\n",
       "    }\n",
       "\n",
       "    /* Handle when an output is cleared or removed */\n",
       "    events.on('clear_output.CodeCell', handleClearOutput);\n",
       "    events.on('delete.Cell', handleClearOutput);\n",
       "\n",
       "    /* Handle when a new output is added */\n",
       "    events.on('output_added.OutputArea', handleAddOutput);\n",
       "\n",
       "    /**\n",
       "     * Register the mime type and append_mime function with output_area\n",
       "     */\n",
       "    OutputArea.prototype.register_mime_type(EXEC_MIME_TYPE, append_mime, {\n",
       "      /* Is output safe? */\n",
       "      safe: true,\n",
       "      /* Index of renderer in `output_area.display_order` */\n",
       "      index: 0\n",
       "    });\n",
       "  }\n",
       "\n",
       "  // register the mime type if in Jupyter Notebook environment and previously unregistered\n",
       "  if (root.Jupyter !== undefined) {\n",
       "    const events = require('base/js/events');\n",
       "    const OutputArea = require('notebook/js/outputarea').OutputArea;\n",
       "\n",
       "    if (OutputArea.prototype.mime_types().indexOf(EXEC_MIME_TYPE) == -1) {\n",
       "      register_renderer(events, OutputArea);\n",
       "    }\n",
       "  }\n",
       "  if (typeof (root._bokeh_timeout) === \"undefined\" || force === true) {\n",
       "    root._bokeh_timeout = Date.now() + 5000;\n",
       "    root._bokeh_failed_load = false;\n",
       "  }\n",
       "\n",
       "  const NB_LOAD_WARNING = {'data': {'text/html':\n",
       "     \"<div style='background-color: #fdd'>\\n\"+\n",
       "     \"<p>\\n\"+\n",
       "     \"BokehJS does not appear to have successfully loaded. If loading BokehJS from CDN, this \\n\"+\n",
       "     \"may be due to a slow or bad network connection. Possible fixes:\\n\"+\n",
       "     \"</p>\\n\"+\n",
       "     \"<ul>\\n\"+\n",
       "     \"<li>re-rerun `output_notebook()` to attempt to load from CDN again, or</li>\\n\"+\n",
       "     \"<li>use INLINE resources instead, as so:</li>\\n\"+\n",
       "     \"</ul>\\n\"+\n",
       "     \"<code>\\n\"+\n",
       "     \"from bokeh.resources import INLINE\\n\"+\n",
       "     \"output_notebook(resources=INLINE)\\n\"+\n",
       "     \"</code>\\n\"+\n",
       "     \"</div>\"}};\n",
       "\n",
       "  function display_loaded() {\n",
       "    const el = document.getElementById(\"d16bb25e-c967-4d0c-8273-8cd09afcc4e7\");\n",
       "    if (el != null) {\n",
       "      el.textContent = \"BokehJS is loading...\";\n",
       "    }\n",
       "    if (root.Bokeh !== undefined) {\n",
       "      if (el != null) {\n",
       "        el.textContent = \"BokehJS \" + root.Bokeh.version + \" successfully loaded.\";\n",
       "      }\n",
       "    } else if (Date.now() < root._bokeh_timeout) {\n",
       "      setTimeout(display_loaded, 100)\n",
       "    }\n",
       "  }\n",
       "\n",
       "  function run_callbacks() {\n",
       "    try {\n",
       "      root._bokeh_onload_callbacks.forEach(function(callback) {\n",
       "        if (callback != null)\n",
       "          callback();\n",
       "      });\n",
       "    } finally {\n",
       "      delete root._bokeh_onload_callbacks\n",
       "    }\n",
       "    console.debug(\"Bokeh: all callbacks have finished\");\n",
       "  }\n",
       "\n",
       "  function load_libs(css_urls, js_urls, callback) {\n",
       "    if (css_urls == null) css_urls = [];\n",
       "    if (js_urls == null) js_urls = [];\n",
       "\n",
       "    root._bokeh_onload_callbacks.push(callback);\n",
       "    if (root._bokeh_is_loading > 0) {\n",
       "      console.debug(\"Bokeh: BokehJS is being loaded, scheduling callback at\", now());\n",
       "      return null;\n",
       "    }\n",
       "    if (js_urls == null || js_urls.length === 0) {\n",
       "      run_callbacks();\n",
       "      return null;\n",
       "    }\n",
       "    console.debug(\"Bokeh: BokehJS not loaded, scheduling load and callback at\", now());\n",
       "    root._bokeh_is_loading = css_urls.length + js_urls.length;\n",
       "\n",
       "    function on_load() {\n",
       "      root._bokeh_is_loading--;\n",
       "      if (root._bokeh_is_loading === 0) {\n",
       "        console.debug(\"Bokeh: all BokehJS libraries/stylesheets loaded\");\n",
       "        run_callbacks()\n",
       "      }\n",
       "    }\n",
       "\n",
       "    function on_error(url) {\n",
       "      console.error(\"failed to load \" + url);\n",
       "    }\n",
       "\n",
       "    for (let i = 0; i < css_urls.length; i++) {\n",
       "      const url = css_urls[i];\n",
       "      const element = document.createElement(\"link\");\n",
       "      element.onload = on_load;\n",
       "      element.onerror = on_error.bind(null, url);\n",
       "      element.rel = \"stylesheet\";\n",
       "      element.type = \"text/css\";\n",
       "      element.href = url;\n",
       "      console.debug(\"Bokeh: injecting link tag for BokehJS stylesheet: \", url);\n",
       "      document.body.appendChild(element);\n",
       "    }\n",
       "\n",
       "    for (let i = 0; i < js_urls.length; i++) {\n",
       "      const url = js_urls[i];\n",
       "      const element = document.createElement('script');\n",
       "      element.onload = on_load;\n",
       "      element.onerror = on_error.bind(null, url);\n",
       "      element.async = false;\n",
       "      element.src = url;\n",
       "      console.debug(\"Bokeh: injecting script tag for BokehJS library: \", url);\n",
       "      document.head.appendChild(element);\n",
       "    }\n",
       "  };\n",
       "\n",
       "  function inject_raw_css(css) {\n",
       "    const element = document.createElement(\"style\");\n",
       "    element.appendChild(document.createTextNode(css));\n",
       "    document.body.appendChild(element);\n",
       "  }\n",
       "\n",
       "  const js_urls = [\"https://cdn.bokeh.org/bokeh/release/bokeh-3.2.2.min.js\", \"https://cdn.bokeh.org/bokeh/release/bokeh-gl-3.2.2.min.js\", \"https://cdn.bokeh.org/bokeh/release/bokeh-widgets-3.2.2.min.js\", \"https://cdn.bokeh.org/bokeh/release/bokeh-tables-3.2.2.min.js\", \"https://cdn.bokeh.org/bokeh/release/bokeh-mathjax-3.2.2.min.js\"];\n",
       "  const css_urls = [];\n",
       "\n",
       "  const inline_js = [    function(Bokeh) {\n",
       "      Bokeh.set_log_level(\"info\");\n",
       "    },\n",
       "function(Bokeh) {\n",
       "    }\n",
       "  ];\n",
       "\n",
       "  function run_inline_js() {\n",
       "    if (root.Bokeh !== undefined || force === true) {\n",
       "          for (let i = 0; i < inline_js.length; i++) {\n",
       "      inline_js[i].call(root, root.Bokeh);\n",
       "    }\n",
       "if (force === true) {\n",
       "        display_loaded();\n",
       "      }} else if (Date.now() < root._bokeh_timeout) {\n",
       "      setTimeout(run_inline_js, 100);\n",
       "    } else if (!root._bokeh_failed_load) {\n",
       "      console.log(\"Bokeh: BokehJS failed to load within specified timeout.\");\n",
       "      root._bokeh_failed_load = true;\n",
       "    } else if (force !== true) {\n",
       "      const cell = $(document.getElementById(\"d16bb25e-c967-4d0c-8273-8cd09afcc4e7\")).parents('.cell').data().cell;\n",
       "      cell.output_area.append_execute_result(NB_LOAD_WARNING)\n",
       "    }\n",
       "  }\n",
       "\n",
       "  if (root._bokeh_is_loading === 0) {\n",
       "    console.debug(\"Bokeh: BokehJS loaded, going straight to plotting\");\n",
       "    run_inline_js();\n",
       "  } else {\n",
       "    load_libs(css_urls, js_urls, function() {\n",
       "      console.debug(\"Bokeh: BokehJS plotting callback run at\", now());\n",
       "      run_inline_js();\n",
       "    });\n",
       "  }\n",
       "}(window));"
      ],
      "application/vnd.bokehjs_load.v0+json": "(function(root) {\n  function now() {\n    return new Date();\n  }\n\n  const force = true;\n\n  if (typeof root._bokeh_onload_callbacks === \"undefined\" || force === true) {\n    root._bokeh_onload_callbacks = [];\n    root._bokeh_is_loading = undefined;\n  }\n\n\n  if (typeof (root._bokeh_timeout) === \"undefined\" || force === true) {\n    root._bokeh_timeout = Date.now() + 5000;\n    root._bokeh_failed_load = false;\n  }\n\n  const NB_LOAD_WARNING = {'data': {'text/html':\n     \"<div style='background-color: #fdd'>\\n\"+\n     \"<p>\\n\"+\n     \"BokehJS does not appear to have successfully loaded. If loading BokehJS from CDN, this \\n\"+\n     \"may be due to a slow or bad network connection. Possible fixes:\\n\"+\n     \"</p>\\n\"+\n     \"<ul>\\n\"+\n     \"<li>re-rerun `output_notebook()` to attempt to load from CDN again, or</li>\\n\"+\n     \"<li>use INLINE resources instead, as so:</li>\\n\"+\n     \"</ul>\\n\"+\n     \"<code>\\n\"+\n     \"from bokeh.resources import INLINE\\n\"+\n     \"output_notebook(resources=INLINE)\\n\"+\n     \"</code>\\n\"+\n     \"</div>\"}};\n\n  function display_loaded() {\n    const el = document.getElementById(\"d16bb25e-c967-4d0c-8273-8cd09afcc4e7\");\n    if (el != null) {\n      el.textContent = \"BokehJS is loading...\";\n    }\n    if (root.Bokeh !== undefined) {\n      if (el != null) {\n        el.textContent = \"BokehJS \" + root.Bokeh.version + \" successfully loaded.\";\n      }\n    } else if (Date.now() < root._bokeh_timeout) {\n      setTimeout(display_loaded, 100)\n    }\n  }\n\n  function run_callbacks() {\n    try {\n      root._bokeh_onload_callbacks.forEach(function(callback) {\n        if (callback != null)\n          callback();\n      });\n    } finally {\n      delete root._bokeh_onload_callbacks\n    }\n    console.debug(\"Bokeh: all callbacks have finished\");\n  }\n\n  function load_libs(css_urls, js_urls, callback) {\n    if (css_urls == null) css_urls = [];\n    if (js_urls == null) js_urls = [];\n\n    root._bokeh_onload_callbacks.push(callback);\n    if (root._bokeh_is_loading > 0) {\n      console.debug(\"Bokeh: BokehJS is being loaded, scheduling callback at\", now());\n      return null;\n    }\n    if (js_urls == null || js_urls.length === 0) {\n      run_callbacks();\n      return null;\n    }\n    console.debug(\"Bokeh: BokehJS not loaded, scheduling load and callback at\", now());\n    root._bokeh_is_loading = css_urls.length + js_urls.length;\n\n    function on_load() {\n      root._bokeh_is_loading--;\n      if (root._bokeh_is_loading === 0) {\n        console.debug(\"Bokeh: all BokehJS libraries/stylesheets loaded\");\n        run_callbacks()\n      }\n    }\n\n    function on_error(url) {\n      console.error(\"failed to load \" + url);\n    }\n\n    for (let i = 0; i < css_urls.length; i++) {\n      const url = css_urls[i];\n      const element = document.createElement(\"link\");\n      element.onload = on_load;\n      element.onerror = on_error.bind(null, url);\n      element.rel = \"stylesheet\";\n      element.type = \"text/css\";\n      element.href = url;\n      console.debug(\"Bokeh: injecting link tag for BokehJS stylesheet: \", url);\n      document.body.appendChild(element);\n    }\n\n    for (let i = 0; i < js_urls.length; i++) {\n      const url = js_urls[i];\n      const element = document.createElement('script');\n      element.onload = on_load;\n      element.onerror = on_error.bind(null, url);\n      element.async = false;\n      element.src = url;\n      console.debug(\"Bokeh: injecting script tag for BokehJS library: \", url);\n      document.head.appendChild(element);\n    }\n  };\n\n  function inject_raw_css(css) {\n    const element = document.createElement(\"style\");\n    element.appendChild(document.createTextNode(css));\n    document.body.appendChild(element);\n  }\n\n  const js_urls = [\"https://cdn.bokeh.org/bokeh/release/bokeh-3.2.2.min.js\", \"https://cdn.bokeh.org/bokeh/release/bokeh-gl-3.2.2.min.js\", \"https://cdn.bokeh.org/bokeh/release/bokeh-widgets-3.2.2.min.js\", \"https://cdn.bokeh.org/bokeh/release/bokeh-tables-3.2.2.min.js\", \"https://cdn.bokeh.org/bokeh/release/bokeh-mathjax-3.2.2.min.js\"];\n  const css_urls = [];\n\n  const inline_js = [    function(Bokeh) {\n      Bokeh.set_log_level(\"info\");\n    },\nfunction(Bokeh) {\n    }\n  ];\n\n  function run_inline_js() {\n    if (root.Bokeh !== undefined || force === true) {\n          for (let i = 0; i < inline_js.length; i++) {\n      inline_js[i].call(root, root.Bokeh);\n    }\nif (force === true) {\n        display_loaded();\n      }} else if (Date.now() < root._bokeh_timeout) {\n      setTimeout(run_inline_js, 100);\n    } else if (!root._bokeh_failed_load) {\n      console.log(\"Bokeh: BokehJS failed to load within specified timeout.\");\n      root._bokeh_failed_load = true;\n    } else if (force !== true) {\n      const cell = $(document.getElementById(\"d16bb25e-c967-4d0c-8273-8cd09afcc4e7\")).parents('.cell').data().cell;\n      cell.output_area.append_execute_result(NB_LOAD_WARNING)\n    }\n  }\n\n  if (root._bokeh_is_loading === 0) {\n    console.debug(\"Bokeh: BokehJS loaded, going straight to plotting\");\n    run_inline_js();\n  } else {\n    load_libs(css_urls, js_urls, function() {\n      console.debug(\"Bokeh: BokehJS plotting callback run at\", now());\n      run_inline_js();\n    });\n  }\n}(window));"
     },
     "metadata": {},
     "output_type": "display_data"
    }
   ],
   "source": [
    "import abtem\n",
    "import ase\n",
    "import dask\n",
    "from IPython.display import Image, display\n",
    "\n",
    "from bokeh.io import output_notebook\n",
    "output_notebook()"
   ]
  },
  {
   "cell_type": "markdown",
   "id": "2b2c74ed-dfb6-4426-898a-63110b6fb253",
   "metadata": {
    "pycharm": {
     "name": "#%% md\n"
    },
    "tags": []
   },
   "source": [
    "(walkthrough:parallelization)=\n",
    "# Parallelization\n",
    "\n",
    "The computational cost of running multislice simulations can become high depending on the size of the specimen, the number of probe positions, phonon images, and many other factors. This cost can be mitigated using parallelism. Many of the computations in *ab*TEM are [embarrasingly parallel](https://en.wikipedia.org/wiki/Embarrassingly_parallel): for example, every probe position is independent, thus each CPU core may calculate a batch of positions independently, only requiring communication after finishing a run of the multislice algorithm. \n",
    "\n",
    "*ab*TEM is parallelized using [Dask](https://www.dask.org/){cite}`dask`, which is a flexible library for parallel computing in Python. Dask allows scaling from a single laptop to hundreds of nodes at high-performance computing (HPC) facilities with minimal changes to the code. \n",
    "\n",
    "In this walkthrough, we introduce how *ab*TEM uses Dask. Althouhg this is not required knowledge for running simulations on a single machine, it may still help you optimize your simulations. If you are already an experienced Dask user, most of what you already know can be applied to using *ab*TEM. If you are new to Dask you may benefit from watching [this introduction](https://www.youtube.com/watch?v=nnndxbr_Xq4) before continuing.\n",
    "\n",
    "We note that Dask is used in several other libraries for the analysis of electron microscopy data, for example, [hyperspy](https://hyperspy.org/), [libertem](https://libertem.github.io/LiberTEM/) and [py4DSTEM](https://py4dstem.readthedocs.io/en/latest/), and thus we think that you may benefit from knowing this library more generally."
   ]
  },
  {
   "cell_type": "markdown",
   "id": "43b2aaf0-80a0-4058-99a2-faa12025ab42",
   "metadata": {
    "pycharm": {
     "name": "#%% md\n"
    }
   },
   "source": [
    "## Task graphs\n",
    "\n",
    "Simulating TEM experiments requires executing multiple *tasks* where each one may depend on the output of previous tasks. In Dask this is represented as a [*task graph*](https://docs.dask.org/en/stable/graphs.html), where each task is a *node*, with *edges* between nodes if it is dependent on another task. The simulation result is obtained by executing each task (node) in the graph with a Dask *scheduler* on a single machine or a cluster."
   ]
  },
  {
   "cell_type": "code",
   "execution_count": 2,
   "id": "fe6765fb-d0ea-4c35-b5bf-2eaadee69b0b",
   "metadata": {
    "tags": [
     "remove-input",
     "hide-input"
    ]
   },
   "outputs": [
    {
     "data": {
      "text/html": [
       "<img src=\"https://docs.dask.org/en/stable/_images/dask-overview.svg\" width=\"600\"/>"
      ],
      "text/plain": [
       "<IPython.core.display.Image object>"
      ]
     },
     "metadata": {},
     "output_type": "display_data"
    }
   ],
   "source": [
    "display(\n",
    "    Image(url=\"https://docs.dask.org/en/stable/_images/dask-overview.svg\", width=600)\n",
    ")"
   ]
  },
  {
   "cell_type": "markdown",
   "id": "95b10156-ee85-4600-92ed-b9c7c398dbdc",
   "metadata": {},
   "source": [
    "To illustrate this in practice, below we create the task graph for running a plane wave multislice simulation of gold in the $\\left<100\\right>$ zone axis with 4 frozen phonon configurations (please refer to previous walkthroughs for those details)."
   ]
  },
  {
   "cell_type": "code",
   "execution_count": 3,
   "id": "60ba5ba0-0d6d-4ecb-8fdd-fa80316a579b",
   "metadata": {},
   "outputs": [],
   "source": [
    "atoms = ase.build.bulk(\"Au\", cubic=True) * (5, 5, 2)\n",
    "\n",
    "frozen_phonons = abtem.FrozenPhonons(\n",
    "    atoms, num_configs=4, sigmas=0.1, ensemble_mean=False\n",
    ")\n",
    "\n",
    "potential = abtem.Potential(frozen_phonons, gpts=512, slice_thickness=2)\n",
    "\n",
    "probe = abtem.PlaneWave(energy=200e3)\n",
    "\n",
    "exit_waves = probe.multislice(potential)"
   ]
  },
  {
   "cell_type": "markdown",
   "id": "cbc97cd9-2777-4ef4-a0c4-c020517b708e",
   "metadata": {},
   "source": [
    "The result is an ensemble of $4$ wave functions of shape $512\\times512$, which may be represented as a 3D array, where the first dimension represents the phonon ensemble and the last two dimensions represents the 2D wave functions. \n",
    "\n",
    "As we have not executed the task graph yet, the wave functions are represented as a [Dask Array](https://docs.dask.org/en/stable/array.html). We can think of the *Dask array* as being composed of many smaller NumPy arrays, called *chunks*, and operations may be applied to each chunk rather than the full array. This enables: \n",
    "\n",
    "1. Parallelism over the chunks;\n",
    "2. Representing a larger-than-memory array as many smaller arrays, each of which fits in memory.\n",
    "\n",
    "The Dask array representation `__repr__` shows how the chunks are laid out."
   ]
  },
  {
   "cell_type": "code",
   "execution_count": 4,
   "id": "adc736d7-6ca1-47a7-baa5-eb6a9b0d69cb",
   "metadata": {},
   "outputs": [
    {
     "data": {
      "text/html": [
       "<table>\n",
       "    <tr>\n",
       "        <td>\n",
       "            <table style=\"border-collapse: collapse;\">\n",
       "                <thead>\n",
       "                    <tr>\n",
       "                        <td> </td>\n",
       "                        <th> Array </th>\n",
       "                        <th> Chunk </th>\n",
       "                    </tr>\n",
       "                </thead>\n",
       "                <tbody>\n",
       "                    \n",
       "                    <tr>\n",
       "                        <th> Bytes </th>\n",
       "                        <td> 8.00 MiB </td>\n",
       "                        <td> 2.00 MiB </td>\n",
       "                    </tr>\n",
       "                    \n",
       "                    <tr>\n",
       "                        <th> Shape </th>\n",
       "                        <td> (4, 512, 512) </td>\n",
       "                        <td> (1, 512, 512) </td>\n",
       "                    </tr>\n",
       "                    <tr>\n",
       "                        <th> Dask graph </th>\n",
       "                        <td colspan=\"2\"> 4 chunks in 18 graph layers </td>\n",
       "                    </tr>\n",
       "                    <tr>\n",
       "                        <th> Data type </th>\n",
       "                        <td colspan=\"2\"> complex64 numpy.ndarray </td>\n",
       "                    </tr>\n",
       "                </tbody>\n",
       "            </table>\n",
       "        </td>\n",
       "        <td>\n",
       "        <svg width=\"194\" height=\"184\" style=\"stroke:rgb(0,0,0);stroke-width:1\" >\n",
       "\n",
       "  <!-- Horizontal lines -->\n",
       "  <line x1=\"10\" y1=\"0\" x2=\"24\" y2=\"14\" style=\"stroke-width:2\" />\n",
       "  <line x1=\"10\" y1=\"120\" x2=\"24\" y2=\"134\" style=\"stroke-width:2\" />\n",
       "\n",
       "  <!-- Vertical lines -->\n",
       "  <line x1=\"10\" y1=\"0\" x2=\"10\" y2=\"120\" style=\"stroke-width:2\" />\n",
       "  <line x1=\"13\" y1=\"3\" x2=\"13\" y2=\"123\" />\n",
       "  <line x1=\"17\" y1=\"7\" x2=\"17\" y2=\"127\" />\n",
       "  <line x1=\"21\" y1=\"11\" x2=\"21\" y2=\"131\" />\n",
       "  <line x1=\"24\" y1=\"14\" x2=\"24\" y2=\"134\" style=\"stroke-width:2\" />\n",
       "\n",
       "  <!-- Colored Rectangle -->\n",
       "  <polygon points=\"10.0,0.0 24.9485979497544,14.948597949754403 24.9485979497544,134.9485979497544 10.0,120.0\" style=\"fill:#ECB172A0;stroke-width:0\"/>\n",
       "\n",
       "  <!-- Horizontal lines -->\n",
       "  <line x1=\"10\" y1=\"0\" x2=\"130\" y2=\"0\" style=\"stroke-width:2\" />\n",
       "  <line x1=\"13\" y1=\"3\" x2=\"133\" y2=\"3\" />\n",
       "  <line x1=\"17\" y1=\"7\" x2=\"137\" y2=\"7\" />\n",
       "  <line x1=\"21\" y1=\"11\" x2=\"141\" y2=\"11\" />\n",
       "  <line x1=\"24\" y1=\"14\" x2=\"144\" y2=\"14\" style=\"stroke-width:2\" />\n",
       "\n",
       "  <!-- Vertical lines -->\n",
       "  <line x1=\"10\" y1=\"0\" x2=\"24\" y2=\"14\" style=\"stroke-width:2\" />\n",
       "  <line x1=\"130\" y1=\"0\" x2=\"144\" y2=\"14\" style=\"stroke-width:2\" />\n",
       "\n",
       "  <!-- Colored Rectangle -->\n",
       "  <polygon points=\"10.0,0.0 130.0,0.0 144.9485979497544,14.948597949754403 24.9485979497544,14.948597949754403\" style=\"fill:#ECB172A0;stroke-width:0\"/>\n",
       "\n",
       "  <!-- Horizontal lines -->\n",
       "  <line x1=\"24\" y1=\"14\" x2=\"144\" y2=\"14\" style=\"stroke-width:2\" />\n",
       "  <line x1=\"24\" y1=\"134\" x2=\"144\" y2=\"134\" style=\"stroke-width:2\" />\n",
       "\n",
       "  <!-- Vertical lines -->\n",
       "  <line x1=\"24\" y1=\"14\" x2=\"24\" y2=\"134\" style=\"stroke-width:2\" />\n",
       "  <line x1=\"144\" y1=\"14\" x2=\"144\" y2=\"134\" style=\"stroke-width:2\" />\n",
       "\n",
       "  <!-- Colored Rectangle -->\n",
       "  <polygon points=\"24.9485979497544,14.948597949754403 144.9485979497544,14.948597949754403 144.9485979497544,134.9485979497544 24.9485979497544,134.9485979497544\" style=\"fill:#ECB172A0;stroke-width:0\"/>\n",
       "\n",
       "  <!-- Text -->\n",
       "  <text x=\"84.948598\" y=\"154.948598\" font-size=\"1.0rem\" font-weight=\"100\" text-anchor=\"middle\" >512</text>\n",
       "  <text x=\"164.948598\" y=\"74.948598\" font-size=\"1.0rem\" font-weight=\"100\" text-anchor=\"middle\" transform=\"rotate(-90,164.948598,74.948598)\">512</text>\n",
       "  <text x=\"7.474299\" y=\"147.474299\" font-size=\"1.0rem\" font-weight=\"100\" text-anchor=\"middle\" transform=\"rotate(45,7.474299,147.474299)\">4</text>\n",
       "</svg>\n",
       "        </td>\n",
       "    </tr>\n",
       "</table>"
      ],
      "text/plain": [
       "dask.array<getitem, shape=(4, 512, 512), dtype=complex64, chunksize=(1, 512, 512), chunktype=numpy.ndarray>"
      ]
     },
     "execution_count": 4,
     "metadata": {},
     "output_type": "execute_result"
    }
   ],
   "source": [
    "exit_waves.array"
   ]
  },
  {
   "cell_type": "markdown",
   "id": "07d22d90-2701-4d3e-bc91-ab2260232950",
   "metadata": {},
   "source": [
    "We see that this Dask array has the shape `(4, 512, 512)` requiring 8 MB of memory, and is composed of chunks with shape `(1, 512, 512)` requiring 2 MB each.\n",
    "\n",
    "```{important}\n",
    "The Dask array just represents a task graph, not the data itself, so memory is consumed only if it is computed!\n",
    "```\n",
    "\n",
    "Each chunk of the Dask array created above represents a wave function for a frozen phonon configuration. This reflects the fact that, in the multislice algorithm, each frozen phonon configuration is independent and may be calculated in parallel. On the other hand, we should not have chunks across wave functions, because each part of a wave function is affected by every other part.\n",
    "\n",
    "We can visualize the task graph using Dask's [`visualize`](https://docs.dask.org/en/stable/graphviz.html) method. We see that the task graph consists of 4 fully independent branches, one for each frozen phonon.\n",
    "\n",
    "````{note}\n",
    "Drawing Dask task graphs with the cytoscape engine requires the `ipycytoscape` python library. To reproduce the result below you need to:\n",
    "```\n",
    "  python -m pip install ipycytoscape\n",
    "```\n",
    "and restart jupyter.\n",
    "````"
   ]
  },
  {
   "cell_type": "code",
   "execution_count": 5,
   "id": "45d463ae-c282-4710-a05c-0817cb996457",
   "metadata": {
    "tags": [
     "skip-test"
    ]
   },
   "outputs": [
    {
     "data": {
      "application/vnd.jupyter.widget-view+json": {
       "model_id": "cb621f0c5e78464894dfd8743a4e7c12",
       "version_major": 2,
       "version_minor": 0
      },
      "text/plain": [
       "CytoscapeWidget(cytoscape_layout={'name': 'dagre', 'rankDir': 'BT', 'nodeSep': 10, 'edgeSep': 10, 'spacingFact…"
      ]
     },
     "execution_count": 5,
     "metadata": {},
     "output_type": "execute_result"
    }
   ],
   "source": [
    "exit_waves.array.visualize(engine=\"cytoscape\")"
   ]
  },
  {
   "cell_type": "markdown",
   "id": "20d970c0-56e5-4066-b1d8-f6c71f59fb46",
   "metadata": {},
   "source": [
    "We usually want to take the mean across the frozen phonon dimension, and thus end up with an image represented as a single chunk."
   ]
  },
  {
   "cell_type": "code",
   "execution_count": 6,
   "id": "907e3a1e-7132-4dc5-aa9b-bdeed01a6170",
   "metadata": {},
   "outputs": [
    {
     "data": {
      "text/html": [
       "<table>\n",
       "    <tr>\n",
       "        <td>\n",
       "            <table style=\"border-collapse: collapse;\">\n",
       "                <thead>\n",
       "                    <tr>\n",
       "                        <td> </td>\n",
       "                        <th> Array </th>\n",
       "                        <th> Chunk </th>\n",
       "                    </tr>\n",
       "                </thead>\n",
       "                <tbody>\n",
       "                    \n",
       "                    <tr>\n",
       "                        <th> Bytes </th>\n",
       "                        <td> 1.00 MiB </td>\n",
       "                        <td> 1.00 MiB </td>\n",
       "                    </tr>\n",
       "                    \n",
       "                    <tr>\n",
       "                        <th> Shape </th>\n",
       "                        <td> (512, 512) </td>\n",
       "                        <td> (512, 512) </td>\n",
       "                    </tr>\n",
       "                    <tr>\n",
       "                        <th> Dask graph </th>\n",
       "                        <td colspan=\"2\"> 1 chunks in 22 graph layers </td>\n",
       "                    </tr>\n",
       "                    <tr>\n",
       "                        <th> Data type </th>\n",
       "                        <td colspan=\"2\"> float32 numpy.ndarray </td>\n",
       "                    </tr>\n",
       "                </tbody>\n",
       "            </table>\n",
       "        </td>\n",
       "        <td>\n",
       "        <svg width=\"170\" height=\"170\" style=\"stroke:rgb(0,0,0);stroke-width:1\" >\n",
       "\n",
       "  <!-- Horizontal lines -->\n",
       "  <line x1=\"0\" y1=\"0\" x2=\"120\" y2=\"0\" style=\"stroke-width:2\" />\n",
       "  <line x1=\"0\" y1=\"120\" x2=\"120\" y2=\"120\" style=\"stroke-width:2\" />\n",
       "\n",
       "  <!-- Vertical lines -->\n",
       "  <line x1=\"0\" y1=\"0\" x2=\"0\" y2=\"120\" style=\"stroke-width:2\" />\n",
       "  <line x1=\"120\" y1=\"0\" x2=\"120\" y2=\"120\" style=\"stroke-width:2\" />\n",
       "\n",
       "  <!-- Colored Rectangle -->\n",
       "  <polygon points=\"0.0,0.0 120.0,0.0 120.0,120.0 0.0,120.0\" style=\"fill:#ECB172A0;stroke-width:0\"/>\n",
       "\n",
       "  <!-- Text -->\n",
       "  <text x=\"60.000000\" y=\"140.000000\" font-size=\"1.0rem\" font-weight=\"100\" text-anchor=\"middle\" >512</text>\n",
       "  <text x=\"140.000000\" y=\"60.000000\" font-size=\"1.0rem\" font-weight=\"100\" text-anchor=\"middle\" transform=\"rotate(-90,140.000000,60.000000)\">512</text>\n",
       "</svg>\n",
       "        </td>\n",
       "    </tr>\n",
       "</table>"
      ],
      "text/plain": [
       "dask.array<mean_agg-aggregate, shape=(512, 512), dtype=float32, chunksize=(512, 512), chunktype=numpy.ndarray>"
      ]
     },
     "execution_count": 6,
     "metadata": {},
     "output_type": "execute_result"
    }
   ],
   "source": [
    "hrtem_image = exit_waves.intensity().mean(0)\n",
    "\n",
    "hrtem_image.array"
   ]
  },
  {
   "cell_type": "markdown",
   "id": "b9661725-7a20-44f6-8415-52489e91259b",
   "metadata": {},
   "source": [
    "Taking the mean across frozen phonon chunks requires communicating the exit wave function intensity between the final nodes. Showing the task graph again we see how the branches are merged when the result have to be communicated between workers."
   ]
  },
  {
   "cell_type": "code",
   "execution_count": 7,
   "id": "27e8b98c-362e-4543-b6c2-e033a827143e",
   "metadata": {
    "tags": [
     "skip-test"
    ]
   },
   "outputs": [
    {
     "data": {
      "application/vnd.jupyter.widget-view+json": {
       "model_id": "3d65e221068c479a8c59ed71ae6ee8e7",
       "version_major": 2,
       "version_minor": 0
      },
      "text/plain": [
       "CytoscapeWidget(cytoscape_layout={'name': 'dagre', 'rankDir': 'BT', 'nodeSep': 10, 'edgeSep': 10, 'spacingFact…"
      ]
     },
     "execution_count": 7,
     "metadata": {},
     "output_type": "execute_result"
    }
   ],
   "source": [
    "hrtem_image.array.visualize(engine=\"cytoscape\")"
   ]
  },
  {
   "cell_type": "markdown",
   "id": "7dcdbfb7-41d3-49ff-995f-bf17f01a120f",
   "metadata": {},
   "source": [
    "## Chunks\n",
    "To futher explore the role of chunks in abTEM, we create the task graph for running a STEM simulation with the same specimen, gold in the $\\left<100\\right>$ zone axis with 4 frozen phonons. We do not immediately apply a detector, so we obtain an ensemble of exit wave functions."
   ]
  },
  {
   "cell_type": "code",
   "execution_count": 8,
   "id": "5b9baf98-b088-4c6f-954d-8ae1a7d22c23",
   "metadata": {
    "pycharm": {
     "name": "#%%\n"
    }
   },
   "outputs": [
    {
     "data": {
      "text/plain": [
       "type               label           coordinates\n",
       "-----------------  --------------  -------------------\n",
       "FrozenPhononsAxis  Frozen phonons  -\n",
       "ScanAxis           x [Å]           0.00 0.29 ... 3.79\n",
       "ScanAxis           y [Å]           0.00 0.29 ... 3.79\n",
       "RealSpaceAxis      x [Å]           0.00 0.04 ... 20.36\n",
       "RealSpaceAxis      y [Å]           0.00 0.04 ... 20.36"
      ]
     },
     "execution_count": 8,
     "metadata": {},
     "output_type": "execute_result"
    }
   ],
   "source": [
    "probe = abtem.Probe(energy=200e3, semiangle_cutoff=20)\n",
    "\n",
    "scan = abtem.GridScan(\n",
    "    start=(0, 0),\n",
    "    end=(1 / 5, 1 / 5),\n",
    "    fractional=True,\n",
    "    potential=potential,\n",
    ")\n",
    "\n",
    "frozen_phonons = abtem.FrozenPhonons(\n",
    "    atoms, num_configs=4, sigmas=0.1, ensemble_mean=True\n",
    ")\n",
    "\n",
    "potential = abtem.Potential(frozen_phonons, gpts=512, slice_thickness=2)\n",
    "\n",
    "exit_waves_stem = probe.multislice(potential, scan=scan)\n",
    "\n",
    "exit_waves_stem.axes_metadata"
   ]
  },
  {
   "cell_type": "markdown",
   "id": "69036139-511e-482d-8f72-e66b71df0924",
   "metadata": {},
   "source": [
    "The wave functions are now represented as a 5D Dask array, a 3D ensemble of 2D wave functions, which is composed of one frozen phonon dimension and two scan dimensions, one for each of the $x$ and $y$ direction. \n",
    "\n",
    "The full array is of shape `(4, 15, 15, 512, 512)` requiring 1.76 GB of memory, which is cut into chunks of shape `(1, 8, 7, 512, 512)` of 112 MB. Hence, there are a total of $4 \\times 2 \\times 3 = 24$ chunks."
   ]
  },
  {
   "cell_type": "code",
   "execution_count": 9,
   "id": "0d0ab17b-53e3-4e79-856a-d734fe3c1cbe",
   "metadata": {},
   "outputs": [
    {
     "data": {
      "text/html": [
       "<table>\n",
       "    <tr>\n",
       "        <td>\n",
       "            <table style=\"border-collapse: collapse;\">\n",
       "                <thead>\n",
       "                    <tr>\n",
       "                        <td> </td>\n",
       "                        <th> Array </th>\n",
       "                        <th> Chunk </th>\n",
       "                    </tr>\n",
       "                </thead>\n",
       "                <tbody>\n",
       "                    \n",
       "                    <tr>\n",
       "                        <th> Bytes </th>\n",
       "                        <td> 1.53 GiB </td>\n",
       "                        <td> 112.00 MiB </td>\n",
       "                    </tr>\n",
       "                    \n",
       "                    <tr>\n",
       "                        <th> Shape </th>\n",
       "                        <td> (4, 14, 14, 512, 512) </td>\n",
       "                        <td> (1, 8, 7, 512, 512) </td>\n",
       "                    </tr>\n",
       "                    <tr>\n",
       "                        <th> Dask graph </th>\n",
       "                        <td colspan=\"2\"> 16 chunks in 22 graph layers </td>\n",
       "                    </tr>\n",
       "                    <tr>\n",
       "                        <th> Data type </th>\n",
       "                        <td colspan=\"2\"> complex64 numpy.ndarray </td>\n",
       "                    </tr>\n",
       "                </tbody>\n",
       "            </table>\n",
       "        </td>\n",
       "        <td>\n",
       "        <svg width=\"388\" height=\"188\" style=\"stroke:rgb(0,0,0);stroke-width:1\" >\n",
       "\n",
       "  <!-- Horizontal lines -->\n",
       "  <line x1=\"0\" y1=\"0\" x2=\"30\" y2=\"0\" style=\"stroke-width:2\" />\n",
       "  <line x1=\"0\" y1=\"6\" x2=\"30\" y2=\"6\" />\n",
       "  <line x1=\"0\" y1=\"12\" x2=\"30\" y2=\"12\" />\n",
       "  <line x1=\"0\" y1=\"19\" x2=\"30\" y2=\"19\" />\n",
       "  <line x1=\"0\" y1=\"25\" x2=\"30\" y2=\"25\" style=\"stroke-width:2\" />\n",
       "\n",
       "  <!-- Vertical lines -->\n",
       "  <line x1=\"0\" y1=\"0\" x2=\"0\" y2=\"25\" style=\"stroke-width:2\" />\n",
       "  <line x1=\"17\" y1=\"0\" x2=\"17\" y2=\"25\" />\n",
       "  <line x1=\"30\" y1=\"0\" x2=\"30\" y2=\"25\" style=\"stroke-width:2\" />\n",
       "\n",
       "  <!-- Colored Rectangle -->\n",
       "  <polygon points=\"0.0,0.0 30.838522258696894,0.0 30.838522258696894,25.412616514582485 0.0,25.412616514582485\" style=\"fill:#ECB172A0;stroke-width:0\"/>\n",
       "\n",
       "  <!-- Text -->\n",
       "  <text x=\"15.419261\" y=\"45.412617\" font-size=\"1.0rem\" font-weight=\"100\" text-anchor=\"middle\" >14</text>\n",
       "  <text x=\"50.838522\" y=\"12.706308\" font-size=\"1.0rem\" font-weight=\"100\" text-anchor=\"middle\" transform=\"rotate(0,50.838522,12.706308)\">4</text>\n",
       "\n",
       "\n",
       "  <!-- Horizontal lines -->\n",
       "  <line x1=\"100\" y1=\"0\" x2=\"118\" y2=\"18\" style=\"stroke-width:2\" />\n",
       "  <line x1=\"100\" y1=\"120\" x2=\"118\" y2=\"138\" style=\"stroke-width:2\" />\n",
       "\n",
       "  <!-- Vertical lines -->\n",
       "  <line x1=\"100\" y1=\"0\" x2=\"100\" y2=\"120\" style=\"stroke-width:2\" />\n",
       "  <line x1=\"109\" y1=\"9\" x2=\"109\" y2=\"129\" />\n",
       "  <line x1=\"118\" y1=\"18\" x2=\"118\" y2=\"138\" style=\"stroke-width:2\" />\n",
       "\n",
       "  <!-- Colored Rectangle -->\n",
       "  <polygon points=\"100.0,0.0 118.14030721099817,18.140307210998174 118.14030721099817,138.14030721099817 100.0,120.0\" style=\"fill:#ECB172A0;stroke-width:0\"/>\n",
       "\n",
       "  <!-- Horizontal lines -->\n",
       "  <line x1=\"100\" y1=\"0\" x2=\"220\" y2=\"0\" style=\"stroke-width:2\" />\n",
       "  <line x1=\"109\" y1=\"9\" x2=\"229\" y2=\"9\" />\n",
       "  <line x1=\"118\" y1=\"18\" x2=\"238\" y2=\"18\" style=\"stroke-width:2\" />\n",
       "\n",
       "  <!-- Vertical lines -->\n",
       "  <line x1=\"100\" y1=\"0\" x2=\"118\" y2=\"18\" style=\"stroke-width:2\" />\n",
       "  <line x1=\"220\" y1=\"0\" x2=\"238\" y2=\"18\" style=\"stroke-width:2\" />\n",
       "\n",
       "  <!-- Colored Rectangle -->\n",
       "  <polygon points=\"100.0,0.0 220.0,0.0 238.14030721099817,18.140307210998174 118.14030721099817,18.140307210998174\" style=\"fill:#ECB172A0;stroke-width:0\"/>\n",
       "\n",
       "  <!-- Horizontal lines -->\n",
       "  <line x1=\"118\" y1=\"18\" x2=\"238\" y2=\"18\" style=\"stroke-width:2\" />\n",
       "  <line x1=\"118\" y1=\"138\" x2=\"238\" y2=\"138\" style=\"stroke-width:2\" />\n",
       "\n",
       "  <!-- Vertical lines -->\n",
       "  <line x1=\"118\" y1=\"18\" x2=\"118\" y2=\"138\" style=\"stroke-width:2\" />\n",
       "  <line x1=\"238\" y1=\"18\" x2=\"238\" y2=\"138\" style=\"stroke-width:2\" />\n",
       "\n",
       "  <!-- Colored Rectangle -->\n",
       "  <polygon points=\"118.14030721099817,18.140307210998174 238.14030721099817,18.140307210998174 238.14030721099817,138.14030721099817 118.14030721099817,138.14030721099817\" style=\"fill:#ECB172A0;stroke-width:0\"/>\n",
       "\n",
       "  <!-- Text -->\n",
       "  <text x=\"178.140307\" y=\"158.140307\" font-size=\"1.0rem\" font-weight=\"100\" text-anchor=\"middle\" >512</text>\n",
       "  <text x=\"258.140307\" y=\"78.140307\" font-size=\"1.0rem\" font-weight=\"100\" text-anchor=\"middle\" transform=\"rotate(-90,258.140307,78.140307)\">512</text>\n",
       "  <text x=\"99.070154\" y=\"149.070154\" font-size=\"1.0rem\" font-weight=\"100\" text-anchor=\"middle\" transform=\"rotate(45,99.070154,149.070154)\">14</text>\n",
       "</svg>\n",
       "        </td>\n",
       "    </tr>\n",
       "</table>"
      ],
      "text/plain": [
       "dask.array<getitem, shape=(4, 14, 14, 512, 512), dtype=complex64, chunksize=(1, 8, 7, 512, 512), chunktype=numpy.ndarray>"
      ]
     },
     "execution_count": 9,
     "metadata": {},
     "output_type": "execute_result"
    }
   ],
   "source": [
    "exit_waves_stem.array"
   ]
  },
  {
   "cell_type": "markdown",
   "id": "00985534-3b37-458c-9cba-e5f6c783f334",
   "metadata": {},
   "source": [
    "Notice that we do not make a chunk for every probe position, but each chunk of the scan dimension instead represents a batch of wave functions. This is done partly to limit [the overhead](https://docs.dask.org/en/stable/best-practices.html#avoid-very-large-graphs) that every chunk comes with, but more importantly, larger batches enables efficient thread parallelization within each run of the multislice algorithm.\n",
    "\n",
    "We can change how many wave functions each batch should have using a keyword. Below we set `max_batch=4`, resulting in a total number of $4 \\times 8 \\times 8 = 256$ chunks."
   ]
  },
  {
   "cell_type": "code",
   "execution_count": 10,
   "id": "b1f9437b-ed6a-4836-8e6c-daa0ae526b21",
   "metadata": {},
   "outputs": [
    {
     "data": {
      "text/html": [
       "<table>\n",
       "    <tr>\n",
       "        <td>\n",
       "            <table style=\"border-collapse: collapse;\">\n",
       "                <thead>\n",
       "                    <tr>\n",
       "                        <td> </td>\n",
       "                        <th> Array </th>\n",
       "                        <th> Chunk </th>\n",
       "                    </tr>\n",
       "                </thead>\n",
       "                <tbody>\n",
       "                    \n",
       "                    <tr>\n",
       "                        <th> Bytes </th>\n",
       "                        <td> 1.53 GiB </td>\n",
       "                        <td> 8.00 MiB </td>\n",
       "                    </tr>\n",
       "                    \n",
       "                    <tr>\n",
       "                        <th> Shape </th>\n",
       "                        <td> (4, 14, 14, 512, 512) </td>\n",
       "                        <td> (1, 2, 2, 512, 512) </td>\n",
       "                    </tr>\n",
       "                    <tr>\n",
       "                        <th> Dask graph </th>\n",
       "                        <td colspan=\"2\"> 196 chunks in 21 graph layers </td>\n",
       "                    </tr>\n",
       "                    <tr>\n",
       "                        <th> Data type </th>\n",
       "                        <td colspan=\"2\"> complex64 numpy.ndarray </td>\n",
       "                    </tr>\n",
       "                </tbody>\n",
       "            </table>\n",
       "        </td>\n",
       "        <td>\n",
       "        <svg width=\"388\" height=\"188\" style=\"stroke:rgb(0,0,0);stroke-width:1\" >\n",
       "\n",
       "  <!-- Horizontal lines -->\n",
       "  <line x1=\"0\" y1=\"0\" x2=\"30\" y2=\"0\" style=\"stroke-width:2\" />\n",
       "  <line x1=\"0\" y1=\"6\" x2=\"30\" y2=\"6\" />\n",
       "  <line x1=\"0\" y1=\"12\" x2=\"30\" y2=\"12\" />\n",
       "  <line x1=\"0\" y1=\"19\" x2=\"30\" y2=\"19\" />\n",
       "  <line x1=\"0\" y1=\"25\" x2=\"30\" y2=\"25\" style=\"stroke-width:2\" />\n",
       "\n",
       "  <!-- Vertical lines -->\n",
       "  <line x1=\"0\" y1=\"0\" x2=\"0\" y2=\"25\" style=\"stroke-width:2\" />\n",
       "  <line x1=\"4\" y1=\"0\" x2=\"4\" y2=\"25\" />\n",
       "  <line x1=\"8\" y1=\"0\" x2=\"8\" y2=\"25\" />\n",
       "  <line x1=\"13\" y1=\"0\" x2=\"13\" y2=\"25\" />\n",
       "  <line x1=\"17\" y1=\"0\" x2=\"17\" y2=\"25\" />\n",
       "  <line x1=\"22\" y1=\"0\" x2=\"22\" y2=\"25\" />\n",
       "  <line x1=\"26\" y1=\"0\" x2=\"26\" y2=\"25\" />\n",
       "  <line x1=\"30\" y1=\"0\" x2=\"30\" y2=\"25\" style=\"stroke-width:2\" />\n",
       "\n",
       "  <!-- Colored Rectangle -->\n",
       "  <polygon points=\"0.0,0.0 30.838522258696894,0.0 30.838522258696894,25.412616514582485 0.0,25.412616514582485\" style=\"fill:#ECB172A0;stroke-width:0\"/>\n",
       "\n",
       "  <!-- Text -->\n",
       "  <text x=\"15.419261\" y=\"45.412617\" font-size=\"1.0rem\" font-weight=\"100\" text-anchor=\"middle\" >14</text>\n",
       "  <text x=\"50.838522\" y=\"12.706308\" font-size=\"1.0rem\" font-weight=\"100\" text-anchor=\"middle\" transform=\"rotate(0,50.838522,12.706308)\">4</text>\n",
       "\n",
       "\n",
       "  <!-- Horizontal lines -->\n",
       "  <line x1=\"100\" y1=\"0\" x2=\"118\" y2=\"18\" style=\"stroke-width:2\" />\n",
       "  <line x1=\"100\" y1=\"120\" x2=\"118\" y2=\"138\" style=\"stroke-width:2\" />\n",
       "\n",
       "  <!-- Vertical lines -->\n",
       "  <line x1=\"100\" y1=\"0\" x2=\"100\" y2=\"120\" style=\"stroke-width:2\" />\n",
       "  <line x1=\"102\" y1=\"2\" x2=\"102\" y2=\"122\" />\n",
       "  <line x1=\"105\" y1=\"5\" x2=\"105\" y2=\"125\" />\n",
       "  <line x1=\"107\" y1=\"7\" x2=\"107\" y2=\"127\" />\n",
       "  <line x1=\"110\" y1=\"10\" x2=\"110\" y2=\"130\" />\n",
       "  <line x1=\"112\" y1=\"12\" x2=\"112\" y2=\"132\" />\n",
       "  <line x1=\"115\" y1=\"15\" x2=\"115\" y2=\"135\" />\n",
       "  <line x1=\"118\" y1=\"18\" x2=\"118\" y2=\"138\" style=\"stroke-width:2\" />\n",
       "\n",
       "  <!-- Colored Rectangle -->\n",
       "  <polygon points=\"100.0,0.0 118.14030721099817,18.140307210998174 118.14030721099817,138.14030721099817 100.0,120.0\" style=\"fill:#ECB172A0;stroke-width:0\"/>\n",
       "\n",
       "  <!-- Horizontal lines -->\n",
       "  <line x1=\"100\" y1=\"0\" x2=\"220\" y2=\"0\" style=\"stroke-width:2\" />\n",
       "  <line x1=\"102\" y1=\"2\" x2=\"222\" y2=\"2\" />\n",
       "  <line x1=\"105\" y1=\"5\" x2=\"225\" y2=\"5\" />\n",
       "  <line x1=\"107\" y1=\"7\" x2=\"227\" y2=\"7\" />\n",
       "  <line x1=\"110\" y1=\"10\" x2=\"230\" y2=\"10\" />\n",
       "  <line x1=\"112\" y1=\"12\" x2=\"232\" y2=\"12\" />\n",
       "  <line x1=\"115\" y1=\"15\" x2=\"235\" y2=\"15\" />\n",
       "  <line x1=\"118\" y1=\"18\" x2=\"238\" y2=\"18\" style=\"stroke-width:2\" />\n",
       "\n",
       "  <!-- Vertical lines -->\n",
       "  <line x1=\"100\" y1=\"0\" x2=\"118\" y2=\"18\" style=\"stroke-width:2\" />\n",
       "  <line x1=\"220\" y1=\"0\" x2=\"238\" y2=\"18\" style=\"stroke-width:2\" />\n",
       "\n",
       "  <!-- Colored Rectangle -->\n",
       "  <polygon points=\"100.0,0.0 220.0,0.0 238.14030721099817,18.140307210998174 118.14030721099817,18.140307210998174\" style=\"fill:#ECB172A0;stroke-width:0\"/>\n",
       "\n",
       "  <!-- Horizontal lines -->\n",
       "  <line x1=\"118\" y1=\"18\" x2=\"238\" y2=\"18\" style=\"stroke-width:2\" />\n",
       "  <line x1=\"118\" y1=\"138\" x2=\"238\" y2=\"138\" style=\"stroke-width:2\" />\n",
       "\n",
       "  <!-- Vertical lines -->\n",
       "  <line x1=\"118\" y1=\"18\" x2=\"118\" y2=\"138\" style=\"stroke-width:2\" />\n",
       "  <line x1=\"238\" y1=\"18\" x2=\"238\" y2=\"138\" style=\"stroke-width:2\" />\n",
       "\n",
       "  <!-- Colored Rectangle -->\n",
       "  <polygon points=\"118.14030721099817,18.140307210998174 238.14030721099817,18.140307210998174 238.14030721099817,138.14030721099817 118.14030721099817,138.14030721099817\" style=\"fill:#ECB172A0;stroke-width:0\"/>\n",
       "\n",
       "  <!-- Text -->\n",
       "  <text x=\"178.140307\" y=\"158.140307\" font-size=\"1.0rem\" font-weight=\"100\" text-anchor=\"middle\" >512</text>\n",
       "  <text x=\"258.140307\" y=\"78.140307\" font-size=\"1.0rem\" font-weight=\"100\" text-anchor=\"middle\" transform=\"rotate(-90,258.140307,78.140307)\">512</text>\n",
       "  <text x=\"99.070154\" y=\"149.070154\" font-size=\"1.0rem\" font-weight=\"100\" text-anchor=\"middle\" transform=\"rotate(45,99.070154,149.070154)\">14</text>\n",
       "</svg>\n",
       "        </td>\n",
       "    </tr>\n",
       "</table>"
      ],
      "text/plain": [
       "dask.array<getitem, shape=(4, 14, 14, 512, 512), dtype=complex64, chunksize=(1, 2, 2, 512, 512), chunktype=numpy.ndarray>"
      ]
     },
     "execution_count": 10,
     "metadata": {},
     "output_type": "execute_result"
    }
   ],
   "source": [
    "exit_waves_stem = probe.multislice(potential, scan=scan, max_batch=4)\n",
    "\n",
    "exit_waves_stem.array"
   ]
  },
  {
   "cell_type": "markdown",
   "id": "28998800-0b81-49f7-b3c6-79aa355cf3dc",
   "metadata": {
    "pycharm": {
     "name": "#%% md\n"
    }
   },
   "source": [
    "The default value of `max_batch` is `\"auto\"`: with this setting the number of wave functions in each batch is determined such that the batch represents approximately `128 MB` of memory, although this number may be changed through the *ab*TEM [configuration](../../reference/config.md).\n",
    "\n",
    "Before computing this task graph, we apply a HAADF detector and calculate the ensemble mean, which reduces the total size of the output to just 900 B. We note that the 1.76 GB ensemble of wave functions never needs to be in memory simulateneously, as each chunk of exit wave functions are reduced immediately after completing the multislice algorithm."
   ]
  },
  {
   "cell_type": "code",
   "execution_count": 11,
   "id": "8664e8b2-4928-4c5e-bd48-fa854a465cec",
   "metadata": {
    "pycharm": {
     "name": "#%%\n"
    }
   },
   "outputs": [
    {
     "data": {
      "text/html": [
       "<table>\n",
       "    <tr>\n",
       "        <td>\n",
       "            <table style=\"border-collapse: collapse;\">\n",
       "                <thead>\n",
       "                    <tr>\n",
       "                        <td> </td>\n",
       "                        <th> Array </th>\n",
       "                        <th> Chunk </th>\n",
       "                    </tr>\n",
       "                </thead>\n",
       "                <tbody>\n",
       "                    \n",
       "                    <tr>\n",
       "                        <th> Bytes </th>\n",
       "                        <td> 784 B </td>\n",
       "                        <td> 16 B </td>\n",
       "                    </tr>\n",
       "                    \n",
       "                    <tr>\n",
       "                        <th> Shape </th>\n",
       "                        <td> (14, 14) </td>\n",
       "                        <td> (2, 2) </td>\n",
       "                    </tr>\n",
       "                    <tr>\n",
       "                        <th> Dask graph </th>\n",
       "                        <td colspan=\"2\"> 49 chunks in 26 graph layers </td>\n",
       "                    </tr>\n",
       "                    <tr>\n",
       "                        <th> Data type </th>\n",
       "                        <td colspan=\"2\"> float32 numpy.ndarray </td>\n",
       "                    </tr>\n",
       "                </tbody>\n",
       "            </table>\n",
       "        </td>\n",
       "        <td>\n",
       "        <svg width=\"170\" height=\"170\" style=\"stroke:rgb(0,0,0);stroke-width:1\" >\n",
       "\n",
       "  <!-- Horizontal lines -->\n",
       "  <line x1=\"0\" y1=\"0\" x2=\"120\" y2=\"0\" style=\"stroke-width:2\" />\n",
       "  <line x1=\"0\" y1=\"17\" x2=\"120\" y2=\"17\" />\n",
       "  <line x1=\"0\" y1=\"34\" x2=\"120\" y2=\"34\" />\n",
       "  <line x1=\"0\" y1=\"51\" x2=\"120\" y2=\"51\" />\n",
       "  <line x1=\"0\" y1=\"68\" x2=\"120\" y2=\"68\" />\n",
       "  <line x1=\"0\" y1=\"85\" x2=\"120\" y2=\"85\" />\n",
       "  <line x1=\"0\" y1=\"102\" x2=\"120\" y2=\"102\" />\n",
       "  <line x1=\"0\" y1=\"120\" x2=\"120\" y2=\"120\" style=\"stroke-width:2\" />\n",
       "\n",
       "  <!-- Vertical lines -->\n",
       "  <line x1=\"0\" y1=\"0\" x2=\"0\" y2=\"120\" style=\"stroke-width:2\" />\n",
       "  <line x1=\"17\" y1=\"0\" x2=\"17\" y2=\"120\" />\n",
       "  <line x1=\"34\" y1=\"0\" x2=\"34\" y2=\"120\" />\n",
       "  <line x1=\"51\" y1=\"0\" x2=\"51\" y2=\"120\" />\n",
       "  <line x1=\"68\" y1=\"0\" x2=\"68\" y2=\"120\" />\n",
       "  <line x1=\"85\" y1=\"0\" x2=\"85\" y2=\"120\" />\n",
       "  <line x1=\"102\" y1=\"0\" x2=\"102\" y2=\"120\" />\n",
       "  <line x1=\"120\" y1=\"0\" x2=\"120\" y2=\"120\" style=\"stroke-width:2\" />\n",
       "\n",
       "  <!-- Colored Rectangle -->\n",
       "  <polygon points=\"0.0,0.0 120.0,0.0 120.0,120.0 0.0,120.0\" style=\"fill:#ECB172A0;stroke-width:0\"/>\n",
       "\n",
       "  <!-- Text -->\n",
       "  <text x=\"60.000000\" y=\"140.000000\" font-size=\"1.0rem\" font-weight=\"100\" text-anchor=\"middle\" >14</text>\n",
       "  <text x=\"140.000000\" y=\"60.000000\" font-size=\"1.0rem\" font-weight=\"100\" text-anchor=\"middle\" transform=\"rotate(0,140.000000,60.000000)\">14</text>\n",
       "</svg>\n",
       "        </td>\n",
       "    </tr>\n",
       "</table>"
      ],
      "text/plain": [
       "dask.array<mean_agg-aggregate, shape=(14, 14), dtype=float32, chunksize=(2, 2), chunktype=numpy.ndarray>"
      ]
     },
     "execution_count": 11,
     "metadata": {},
     "output_type": "execute_result"
    }
   ],
   "source": [
    "detector = abtem.AnnularDetector(inner=65, outer=200)\n",
    "\n",
    "haadf_images = detector.detect(exit_waves_stem).reduce_ensemble()\n",
    "\n",
    "haadf_images.array"
   ]
  },
  {
   "cell_type": "markdown",
   "id": "c8167e51-1e8b-408d-9e08-ad00b6966ad5",
   "metadata": {
    "pycharm": {
     "name": "#%% md\n"
    },
    "tags": []
   },
   "source": [
    "## Schedulers\n",
    "\n",
    "After generating a task graph, it needs to be executed on (parallel) hardware. This is the job of a [task scheduler](https://docs.dask.org/en/stable/scheduler-overview.html). Dask provides several *task schedulers*: each of which will compute a task graph and give the same result, but with different performance characteristics.\n",
    "\n",
    "Every time you call the `compute` method a Dask scheduler is used. We adopt the default Dask scheduler configuration and every keyword argument used with the `compute` method in *ab*TEM is forwarded to the Dask `compute` function. \n",
    "\n",
    "### Local scheduler\n",
    "\n",
    "The default scheduler is the [`ThreadPoolExecutor`](https://docs.dask.org/en/stable/scheduling.html#local-threads). As an example of a keyword argument, the threaded scheduler takes `num_workers`, which sets the number of threads to use (by default, up to the number of computing cores). Let's run compute with 8 workers."
   ]
  },
  {
   "cell_type": "code",
   "execution_count": 12,
   "id": "4c507a96-5a6d-4e55-8775-200f66e26459",
   "metadata": {
    "tags": [
     "skip-test"
    ]
   },
   "outputs": [
    {
     "name": "stdout",
     "output_type": "stream",
     "text": [
      "[########################################] | 100% Completed | 17.95 s\n"
     ]
    },
    {
     "data": {
      "text/plain": [
       "<abtem.measurements.Images at 0x7fd0f24ec550>"
      ]
     },
     "execution_count": 12,
     "metadata": {},
     "output_type": "execute_result"
    }
   ],
   "source": [
    "haadf_images = detector.detect(exit_waves_stem).reduce_ensemble()\n",
    "\n",
    "haadf_images.compute(scheduler=\"threads\", num_workers=8)"
   ]
  },
  {
   "cell_type": "markdown",
   "id": "168c4090-255a-4705-85a8-afbf74c6320e",
   "metadata": {},
   "source": [
    "We can change the scheduler to using the `ProcessPoolExecutor` as below.\n",
    "\n",
    "```python\n",
    "haadf_images = detector.detect(exit_waves_stem).compute(scheduler=\"processes\", num_workers=4)\n",
    "```\n",
    "\n",
    "Using `abtem.config.set` the scheduler can be set either as a context manager or globally.\n",
    "```python\n",
    "# As a context manager\n",
    "with abtem.config.set(scheduler=\"processes\"):\n",
    "    haadf_images.compute()\n",
    "\n",
    "# Set globally\n",
    "abtem.config.set(scheduler=\"processes\")\n",
    "haadf_images.compute()\n",
    "```"
   ]
  },
  {
   "cell_type": "markdown",
   "id": "675a4c6c-338c-4c3a-90e2-8ad79ed63dd4",
   "metadata": {},
   "source": [
    "### Profiling"
   ]
  },
  {
   "cell_type": "markdown",
   "id": "945988ec-0d2b-422a-a84c-32f10d5a63af",
   "metadata": {},
   "source": [
    "To improve performance, we have to be able to profile it. Profiling parallel code can be challenging, but Dask provides functionality to aid in this and inspecting execution. The diagnostic tools are however quite different depending on whether you use a local or distributed scheduler.\n",
    "\n",
    "Dask allows local diagnostics by adding callbacks that collect information about your code execution. You can use the profilers as a context manager as described in the [Dask documentation](https://docs.dask.org/en/stable/diagnostics-local.html). For convenience, the *ab*TEM `compute` methods also implement keywords for adding Dask profilers.\n",
    "\n",
    "Below we use the [`Profiler`](https://docs.dask.org/en/stable/diagnostics-local.html#profiler) to monitor task execution by setting `profiler=True` and a [`ResourceProfiler`](https://docs.dask.org/en/stable/diagnostics-local.html#resourceprofiler) to monitor the CPU usage and memory consumption by setting `resource_profiler=True`. We rerun the simulation above with these profilers. "
   ]
  },
  {
   "cell_type": "code",
   "execution_count": 13,
   "id": "56cb3754-6cde-4f83-b058-6014356cefaf",
   "metadata": {
    "tags": [
     "skip-test"
    ]
   },
   "outputs": [
    {
     "name": "stdout",
     "output_type": "stream",
     "text": [
      "[########################################] | 100% Completed | 17.76 s\n"
     ]
    }
   ],
   "source": [
    "haadf_images = detector.detect(exit_waves_stem).reduce_ensemble()\n",
    "\n",
    "haadf_images, profilers = haadf_images.compute(profiler=True, resource_profiler=True)"
   ]
  },
  {
   "cell_type": "markdown",
   "id": "a3b63fd8-4e8b-4842-9c15-2fa8787da397",
   "metadata": {},
   "source": [
    "To display the results Dask uses the [Bokeh plotting library](https://bokeh.org/) (which is installed together with Dask). To display the plots in a Jupyter notebook we need to run the commands below."
   ]
  },
  {
   "cell_type": "markdown",
   "id": "89a100cb-9792-45bb-b855-42b53fb9db83",
   "metadata": {},
   "source": [
    "We first show the result from the `Profiler` object: This shows the execution time for each task as a rectangle, organized along the vertical axis by worker (in this case threads), and where white space represents times the worker was idle. The task types are grouped by color and, by hovering over each task, one can see the key and task that each block represents. For this calculation there is only one significant task shown in yellow; this encompasses building the wave function, running the multislice algorithm (calculating the potential on demand), and calculating and integrating the diffraction patterns. "
   ]
  },
  {
   "cell_type": "code",
   "execution_count": 14,
   "id": "0a420e98-6235-4e01-b079-fe34d913a436",
   "metadata": {
    "tags": [
     "skip-test"
    ]
   },
   "outputs": [
    {
     "data": {
      "text/html": [
       "\n",
       "  <div id=\"e4ec1395-5114-4873-81ca-65f852fe2584\" data-root-id=\"p1001\" style=\"display: contents;\"></div>\n"
      ]
     },
     "metadata": {},
     "output_type": "display_data"
    },
    {
     "data": {
      "application/javascript": [
       "(function(root) {\n",
       "  function embed_document(root) {\n",
       "  const docs_json = {\"29c8f8ee-3c94-4fed-ab20-104320c32399\":{\"version\":\"3.2.2\",\"title\":\"Bokeh Application\",\"roots\":[{\"type\":\"object\",\"name\":\"Figure\",\"id\":\"p1001\",\"attributes\":{\"width\":800,\"height\":300,\"x_range\":{\"type\":\"object\",\"name\":\"Range1d\",\"id\":\"p1011\",\"attributes\":{\"end\":18.338237375952303}},\"y_range\":{\"type\":\"object\",\"name\":\"FactorRange\",\"id\":\"p1012\",\"attributes\":{\"factors\":[\"0\",\"1\",\"2\",\"3\",\"4\",\"5\",\"6\",\"7\"]}},\"x_scale\":{\"type\":\"object\",\"name\":\"LinearScale\",\"id\":\"p1013\"},\"y_scale\":{\"type\":\"object\",\"name\":\"CategoricalScale\",\"id\":\"p1014\"},\"title\":{\"type\":\"object\",\"name\":\"Title\",\"id\":\"p1004\",\"attributes\":{\"text\":\"Profile Results\"}},\"renderers\":[{\"type\":\"object\",\"name\":\"GlyphRenderer\",\"id\":\"p1039\",\"attributes\":{\"data_source\":{\"type\":\"object\",\"name\":\"ColumnDataSource\",\"id\":\"p1030\",\"attributes\":{\"selected\":{\"type\":\"object\",\"name\":\"Selection\",\"id\":\"p1031\",\"attributes\":{\"indices\":[],\"line_indices\":[]}},\"selection_policy\":{\"type\":\"object\",\"name\":\"UnionRenderers\",\"id\":\"p1032\"},\"data\":{\"type\":\"map\",\"entries\":[[\"width\",[0.0025239940732717514,0.0022289338521659374,0.0023080818355083466,0.0023757098242640495,0.0013064828235656023,0.030679468996822834,0.050803319085389376,0.058748479932546616,0.6424441728740931,0.6860489579848945,0.6490127791184932,0.7000247880350798,0.6759370318613946,0.6734051550738513,0.5850334819406271,0.6605992168188095,0.0023936890065670013,0.6127550841774791,0.01542587811127305,0.010156025178730488,0.5710932440124452,0.6141707908827811,0.0017715620342642069,0.547912297071889,0.007306430023163557,0.6048567518591881,0.005943752126768231,0.004171669017523527,0.5735502690076828,0.008603006834164262,0.589983489131555,0.01494545117020607,0.001764161977916956,0.00400503515265882,0.5410978950094432,0.002775436034426093,0.0008671598043292761,0.6230552908964455,0.6268837410025299,0.005019111093133688,0.5683159029576927,0.007777366088703275,0.0023817201144993305,0.00832445896230638,0.6115700011141598,0.5808849390596151,0.5972701469436288,0.009482791880145669,0.002542736940085888,0.5926302438601851,0.5991675450932235,0.0007710671052336693,0.6241552249994129,0.008862486109137535,0.01411402691155672,0.6096418187953532,0.012461257167160511,0.5855967570096254,0.6508778028655797,0.01068559498526156,0.015429649967700243,0.5946460361592472,0.008437048876658082,0.007689452031627297,0.5936321110930294,0.5916208880953491,0.5834018788300455,0.008337348001077771,0.0013808750081807375,0.6287756550591439,0.7176463149953634,0.009160644141957164,0.6977052898146212,0.011296582873910666,0.0050580850802361965,0.009166083065792918,0.01718110404908657,0.7054976229555905,0.7029746980406344,0.6685780349653214,0.6786802089773118,0.011599414050579071,0.6191270588897169,0.00597163219936192,0.5967657321598381,0.0008941930718719959,0.5756302988156676,0.0036827020812779665,0.00183986802585423,0.012676867889240384,0.6659931989852339,0.590438816929236,0.5841007970739156,0.010750177083536983,0.0024653628934174776,0.001042619813233614,0.6086635859683156,0.6120863710530102,0.5651325660292059,0.0014924509450793266,0.7268487161491066,0.0015786918811500072,0.7671578950248659,0.005589429056271911,0.0015859098639339209,0.010322435060516,0.7720432889182121,0.7667702219914645,0.7649352909065783,0.005805488908663392,0.018399807158857584,0.7044887009542435,0.7194158921483904,0.01422583987005055,0.7143378669861704,0.003121359972283244,0.7977067970205098,0.004837188171222806,0.7716839779168367,0.0024522249586880207,0.7606965929735452,0.008382431929931045,0.004307145951315761,0.020899081137031317,0.7028432691004127,0.7065906310454011,0.023673995165154338,0.7243317789398134,0.011167598888278008,0.6974609449971467,0.6661877238657326,0.0012409619521349669,0.0008068769238889217,0.6330907919909805,0.004191635875031352,0.003813760820776224,0.004408648004755378,0.0035701249726116657,0.009808721020817757,0.6193374050781131,0.7070746459066868,0.013638254953548312,0.004104682011529803,0.013310248963534832,0.6005475658457726,0.011223150184378028,0.013989246916025877,0.01296964380890131,0.6762556259054691,0.01162071991711855,0.009553942130878568,0.6152708439622074,0.008126190165057778,0.612067884998396,0.6239290200173855,0.0008404699619859457,0.0009644899982959032,0.6555643049068749,0.0009193459991365671,0.003234416013583541,0.0012932040262967348,0.6687766939867288,0.008769934996962547,0.6060507611837238,0.004249050049111247,0.0012905991170555353,0.0033492320217192173,0.5871268780902028,0.01364680496044457,0.005403249058872461,0.5892005627974868,0.009283449035137892,0.6076508401893079,0.003949145087972283,0.0025934060104191303,0.0016628450248390436,0.002189250895753503,0.5799300048965961,0.5542123140767217,0.008170213084667921,0.0063835137989372015,0.01444485504180193,0.6498551568947732,0.01728278212249279,0.0087115119677037,0.004010004922747612,0.009065316058695316,0.01236169901676476,0.6416828641667962,0.019613124197348952,0.6170120500028133,0.017747629899531603,0.01154988189227879,0.6399873211048543,0.018343087984248996,0.01254871184937656,0.6387060300912708,0.011706407181918621,0.003384093986824155,0.013874419964849949,0.631270393030718,0.6387177919968963,0.6153906658291817,0.008377711055800319,0.005779976025223732,0.010180617915466428,0.011768427211791277,0.01725740311667323,0.7031109968665987,0.6761391349136829,0.013584770960733294,0.01966450922191143,0.0124112069606781,0.011699815047904849,0.6885903428774327,0.009154561208561063,0.0027876950334757566,0.0024625069927424192,0.008657712955027819,0.008960191858932376,0.014521170873194933,0.658886878984049,0.6566464840434492,0.014645053073763847,0.667657813988626,0.665686700027436,0.6658085570670664,0.00786996609531343,0.010917281033471227,0.007308661006391048,0.013120439136400819,0.742220520041883,0.015363029902800918,0.014802785124629736,0.014743156963959336,0.020769979106262326,0.019631861010566354,0.020124704111367464,0.7190144141204655,0.01988064986653626,0.6958297020755708,0.01930508902296424,0.011531952768564224,0.010549444006755948,0.7053398329298943,0.015756116015836596,0.017175924964249134,0.7194240328390151,0.6412735679186881,0.703755971044302,0.7040935810655355,0.002484082942828536,0.009100693045184016,0.8676167340017855,0.01765817985869944,0.004373040050268173,0.007361235097050667,0.009868506109341979,0.015832114964723587,0.022655044915154576,0.9096254839096218,0.017132647801190615,0.8644477990455925,0.010485267033800483,0.009769221069291234,0.009742507012560964,0.01558806304819882,0.8408334939740598,0.015675426926463842,0.8955110558308661,0.00961996684782207,0.01323037687689066,0.8088910570368171,0.9121365519240499,0.8532130080275238,0.0008315590675920248,0.006582115078344941,0.00332352495752275,0.8855516500771046,0.005912767956033349,0.988142411923036,0.01470185094512999,0.0025138230994343758,0.002534002996981144,0.002156011061742902,0.0024549479130655527,0.0037568260449916124,0.9546941120643169,0.9627574989572167,0.01788458414375782,0.023895079037174582,0.8499282479751855,0.03662603721022606,0.029226263985037804,0.026313002919778228,0.925812701927498,0.01587130199186504,0.9985776771791279,0.8715321479830891,0.0012932741083204746,0.9201395739801228,0.009964453056454659,0.8344489680603147,0.01099201082251966,0.009835463017225266,0.00423868210054934,0.8788575888611376,0.013924483908340335,0.8949790829792619,0.8871069420129061,0.830492545152083,0.0022351110819727182,0.8423058360349387,0.019540836103260517,0.8232700990047306,0.0017596110701560974,0.9824427280109376,0.020517355063930154,1.0659958070609719,0.051390793872997165,0.023374011972919106,0.032781507819890976,0.048621066845953465,0.05221239500679076,1.0589776600245386,1.0991291389800608,1.10458377096802,1.0450010930653661,1.0400447060819715,0.0008759540505707264,1.0517620050814003,0.0008271948900073767,0.911850247066468,0.004005477065220475,0.7996731419116259,0.01233144011348486,0.8201100309379399,0.007047287886962295,0.0014247861690819263,0.7894377170596272,0.8074511960148811,0.02475715195760131,0.004911430878564715,0.013554343022406101,0.8104534479789436,0.7259167830925435,0.7086641080677509,0.0015421858988702297,0.7179570840671659,0.0027301290538161993,0.7407521270215511,0.007340282900258899,0.006731722969561815,0.6840564899612218,0.6500244259368628,0.011264855973422527,0.0024713969323784113,0.6841602809727192,0.6517818360589445,0.021365358028560877,0.650678131962195,0.004264896037057042,0.7122231589164585,0.0013686669990420341,0.7099772940855473,0.001979656983166933,0.689389307051897,0.0032851500436663628,0.7142395470291376,0.012893937062472105,0.007341587916016579,0.6764481889549643,0.6566839518491179,0.00589564093388617,0.0017224717885255814,0.6671742019243538,0.7112488029524684,0.009378244867548347,0.6348258680664003,0.005734309088438749,0.002033873926848173,0.0032482079695910215,0.009743173141032457,0.009720261907204986,0.006287924014031887,0.011388947954401374,0.6495449389331043,0.013796713901683688,0.6755415161605924,0.007896619150415063,0.01562651596032083,0.009281361009925604,0.010963458102196455,0.622018262045458,0.010361009044572711,0.011563180945813656,0.003101737005636096,0.01033367682248354,0.6587621229700744,0.011008542962372303,0.009921807097271085,0.6215974199585617,0.6488317279145122,0.0030560509767383337,0.0061812628991901875,0.0013372150715440512,0.001508479006588459,0.007200573803856969,0.6279877449851483,0.009452807018533349,0.6141181520652026,0.009212831035256386,0.007449687924236059,0.001121726119890809,0.0014129560440778732,0.016560831107199192,0.0010293140076100826,0.6189071380067617,0.0019350009970366955,0.6139444129075855,0.010771261062473059,0.00624481588602066,0.004078597063198686,0.00239479704760015,0.5610549631528556,0.008487313985824585,0.0021475988905876875,0.6021461070049554,0.01190116791985929,0.0065284299198538065,0.003194158896803856,0.002395523013547063,0.0027373800985515118,0.007893241010606289,0.009386488934978843,0.5807011900469661,0.008738216012716293,0.003993733087554574,0.0027683579828590155,0.009406909113749862,0.5844260680023581,0.6030319510027766,0.5769379129633307,0.0030253531876951456,0.005874332040548325,0.0010207770392298698,0.6051537878811359,0.004182365024462342,0.0038496649358421564,0.005697798915207386,0.014762878883630037,0.6027148119173944,0.009238898986950517,0.004726347979158163,0.0064526270143687725,0.006253843894228339,0.004413306014612317,0.0023806060198694468,0.0019887101370841265,0.009475931990891695,0.01072265300899744,0.01122358487918973,0.6383598598185927,0.027014151914045215,0.019310538191348314,0.6483647329732776,0.6602566239889711,0.010725508909672499,0.0025814189575612545,0.0033003620337694883,0.010337234940379858,0.6424051381181926,0.6144000459462404,0.009575996082276106,0.6232769000343978,0.0038618789985775948,0.001142812194302678,0.0010306069161742926,0.6861158348619938,0.025998297845944762,0.007834806106984615,0.0015005860477685928,0.6481396178714931,0.0021076349075883627,0.013719109119847417,0.00959701300598681,0.0034131158608943224,0.015023386105895042,0.6307585102040321,0.014460238860920072,0.003154412843286991,0.002846251940354705,0.008648269111290574,0.00949370814487338,0.009655116824433208,0.7154167941771448,0.009328302927315235,0.008700812002643943,0.008548852987587452,0.011045172810554504,0.01209614286199212,0.011777526931837201,0.028367313090711832,0.6467612921260297,0.6468309580814093,0.6430078740231693,0.6717829620465636,0.00413444684818387,0.00788285699672997,0.002395880874246359,0.46942709712311625,0.01175693585537374,0.006960037862882018,0.005289550870656967,0.005351037019863725,0.4392905670683831,0.007422535913065076,0.0023283842019736767,0.43179233418777585,0.004067457048222423,0.003066910896450281,0.003984912997111678,0.004534618929028511,0.004182441160082817,0.004240102134644985,0.002157095819711685,0.011972373118624091,0.40558729600161314,0.01532278792001307,0.002174143213778734,0.0007850059773772955,0.0011774771846830845,0.0012383710127323866,0.0010925380047410727,0.0011917080264538527,0.0011714259162545204,0.0010840478353202343,0.001052851090207696,0.001006408827379346,0.006316683022305369,0.005826473934575915,0.0033945010509341955,0.0010420738253742456,0.0007680950220674276,0.0005705270450562239,0.0005004371050745249,0.0004798069130629301]],[\"x\",[0.05819306499324739,0.05879795690998435,0.05904741492122412,0.05926710297353566,0.060114131309092045,0.07525705336593091,0.08560764649882913,0.08983336691744626,0.3819936984218657,0.4041848729830235,0.385903793387115,0.4116141707636416,0.3997657219879329,0.42730725440196693,0.4035364689771086,0.44951453246176243,0.6972623334731907,1.0048490590415895,0.7109348669182509,0.715494524454698,1.004201185889542,1.0276639815419912,0.7386264018714428,1.0134790246374905,0.7508709218818694,1.0569599899463356,0.7646080018021166,0.7661015645135194,1.0543611424509436,0.7724969433620572,1.0717974263243377,0.7872926264535636,0.7956590410321951,0.7985521303489804,1.0711134714074433,1.2888349117711186,1.2901910138316453,1.601758970413357,1.6040737344883382,1.3137449934147298,1.600423605646938,1.3386450191028416,1.3423345419578254,1.3458319175988436,1.648324687499553,1.6339744634460658,1.648635197430849,1.364135452080518,1.368067245464772,1.6652006469666958,1.668929712381214,1.8849791823886335,2.1974512874148786,1.9177262960001826,1.9245808764826506,2.226985771441832,1.9306541674304754,2.224442488513887,2.262333305552602,1.9526195526123047,1.9618304639589041,2.255291512934491,1.9657430853694677,1.9723639348521829,2.2663687323220074,2.2657789608929306,2.2679158074315637,2.5137116690166295,2.517938189674169,2.83227457664907,2.8774576112627983,2.5363959558308125,2.889838336966932,2.5582697493955493,2.562151890480891,2.5661782333627343,2.5717838490381837,2.916672525461763,2.916176789905876,2.9050567992962897,2.919721318408847,2.5935780110303313,2.908954077400267,3.1496626888401806,3.451044133864343,3.218975897412747,3.5072469224687666,3.23813031706959,3.2396171428263187,3.2456898698583245,3.5729735204949975,3.5357621093280613,3.544085133355111,3.264442793559283,3.2689026296138763,3.269948740955442,3.574155380949378,3.576183751458302,3.5530432388186455,3.750185105483979,4.114366985857487,3.7958656719420105,4.180244746385142,3.833789867348969,3.836412218865007,3.8413046672940254,4.2226155092939734,4.220596104860306,4.2289400023873895,3.881405013613403,3.891433059470728,4.236562120262533,4.260363121051341,3.913095009047538,4.277388625312597,4.479363643098623,4.879787801299244,4.566254117060453,4.954530854942277,4.590039613423869,4.971621697302908,4.608180554118007,4.610797411762178,4.621864520478994,4.9637992712669075,4.966254455503076,4.631914168596268,4.994485988514498,4.640147602418438,4.992491423618048,4.978833144064993,5.279274796135724,5.2803083853796124,5.597265801858157,5.31403216579929,5.317134372424334,5.318338620010763,5.320831983350217,5.324459082446992,5.630218667443842,5.676160109927878,5.336188245564699,5.342431136872619,5.347884097369388,5.643288476858288,5.350100346840918,5.35897046350874,5.3610319129657,5.693847651127726,5.362469563959166,5.37074811803177,5.675160366110504,5.372351007070392,5.681565475650132,5.688384401844814,5.914243577979505,5.9151553781703115,6.243431167444214,5.940356764011085,5.942443276755512,5.944217997137457,6.278460876084864,5.949258245527744,6.256678712554276,5.98492799513042,5.987705052364618,5.9892797828651965,6.281920043984428,5.997783909551799,6.0030568074435,6.2992140194401145,6.0104058005381376,6.318880897946656,6.031680924352258,6.0332781749311835,6.0344930263236165,6.035676791332662,6.325298071373254,6.313886483898386,6.5637969924137,6.571084682829678,6.578445338411257,6.899210860487074,6.584134426899254,6.5900299390777946,6.5930035864003,6.597313679987565,6.600000505335629,6.915232657920569,6.604820121079683,6.910358635010198,6.615060904994607,6.618629845790565,6.934626353438944,6.62444004509598,6.62898695608601,6.9432961428537965,6.630265333456919,6.635329055134207,6.642206830903888,6.9517623372375965,6.956388318911195,6.956846409942955,7.223067368380725,7.227035464020446,7.232353717088699,7.235817645443603,7.244711492443457,7.589009229559451,7.579778224462643,7.260138315614313,7.264461078448221,7.268861156422645,7.270396645646542,7.611231961287558,7.271980042569339,7.275692609604448,7.276303978636861,7.280081155477092,7.280731576029211,7.283822547411546,7.606535252649337,7.605863376986235,7.291738667525351,7.619046160951257,7.623932163929567,7.631975031457841,7.921796971000731,7.931197974365205,7.937847542343661,7.942545016296208,8.307774239918217,7.9482522290199995,7.9489085983950645,7.956482862588018,7.9632664592936635,7.965348685625941,7.966000881977379,8.315822196891531,7.966721200849861,8.311775787966326,7.974538499489427,7.9794259164482355,7.980444491840899,8.328742132522166,7.984544522128999,7.992787207476795,8.344911460299045,8.306364537915215,8.34430844639428,8.353428620379418,8.628259661607444,8.63406145060435,9.072430558968335,8.6685328790918,8.677528604865074,8.681050047511235,8.683827350847423,8.687636513495818,8.692745566368103,9.139549858868122,8.697333802934736,9.127782678464428,8.701434302609414,8.708963743411005,8.709502559620887,8.713276740629226,9.126322656869888,8.71452260040678,9.161610377952456,8.719189101364464,8.727692087413743,9.12681523244828,9.180077082011849,9.160922169918194,9.506669379305094,9.510386631358415,9.515350368339568,9.959799821022898,9.53422579774633,10.031260509043932,9.554103584494442,9.56127022439614,9.562727673444897,9.563614387530833,9.565231062006205,9.566576838027686,10.043815537821501,10.049840584397316,9.596483822911978,9.606317757628858,10.03039761306718,9.62768801045604,9.632887969957665,9.649312301538885,10.1089201210998,9.655445988755673,10.161766981473193,10.099154334049672,10.40323635097593,10.86396188288927,10.460355589399114,10.882572471862659,10.52667726855725,10.530258944490924,10.533349536824971,10.97161150444299,10.541889086831361,10.98267172044143,10.979028754867613,10.964104233309627,10.572952155489475,10.995233454741538,10.670839241938666,11.092259938362986,11.300689831376076,11.792803283780813,11.334299579262733,11.877570741344243,11.405055930837989,11.422738389112055,11.43278723792173,11.446902165422216,11.45627704448998,11.960250122006983,11.983999196439981,12.001481732353568,11.99372223764658,12.002412362024188,11.50434350501746,12.030671375337988,12.284450662322342,12.740801713429391,12.412605267483741,12.814454552950338,12.495920758927241,12.912153559504077,12.519755708053708,12.523156072944403,12.918006647378206,12.92759970203042,12.54595067189075,12.556244125589728,12.563339986372739,12.963564377976581,12.921665653586388,12.924459578003734,13.197530204895884,13.55729099502787,13.215668742544949,13.587417028378695,13.282474945299327,13.287999444408342,13.628184888977557,13.616384896915406,13.318369501037523,13.323454724624753,13.666091752471402,13.650590338977054,13.342014288995415,13.678047038149089,13.370935496874154,13.729189173318446,13.916968174511567,14.27265256876126,13.942395219346508,14.288090714486316,13.959444579901174,14.318216509418562,13.97667050245218,13.98015818791464,14.321348006371409,14.312177573796362,14.006344306282699,14.00904199294746,14.342887434875593,14.36553504737094,14.090004217345268,14.412117599975318,14.630525073502213,14.633813706925139,14.635026513133198,14.639711200492457,14.641516901087016,14.643671510973945,14.650286852847785,14.971159875392914,14.653721769805998,14.99375865003094,14.663527331314981,14.66843920899555,14.67212259140797,14.68082498991862,14.987269545905292,14.681659625377506,14.682548945536837,14.68786495551467,14.692012765444815,15.017718894407153,14.694925667485222,14.702146910596639,15.011234747013077,15.031531970016658,14.722694701515138,14.727322608465329,14.730210807640105,14.731176059460267,14.734486987814307,15.045932202599943,14.742821327410638,15.054614779073745,15.300548012368381,15.302009860984981,15.305721731856465,15.306448807008564,15.314571565482765,15.307679177960381,15.617654535919428,15.323008883511648,15.629831633530557,15.329367192462087,15.334658032981679,15.336798780597746,15.338984796311706,15.619371827458963,15.344433960039169,15.348180029541254,15.649756983388215,15.355212653055787,15.359217851888388,15.361529399408028,15.36236750939861,15.363047586986795,15.3664346835576,15.367825931403786,15.653921806951985,15.368792111054063,15.372384952381253,15.373909730929881,15.377872229553759,15.666600984055549,15.676836571423337,15.671051712473854,15.90142532857135,15.905887786997482,15.909346253378317,16.21244399691932,15.929208485409617,15.933234606403857,15.938016776461154,15.944194410461932,16.24222979787737,15.948898139409721,15.953199408948421,15.954807623522356,15.956651229877025,15.95777484914288,15.959229778964072,15.959814195055515,15.964264353038743,15.965144413523376,15.965597935486585,16.279605037067086,15.974320341832936,15.978664116933942,16.29469357151538,16.301343658939004,15.983721141470596,15.989124414511025,15.989977620076388,15.994259510422125,16.311623178888112,16.298834471963346,16.004225112963468,16.320663122925907,16.51696500647813,16.519477808848023,16.520574951544404,16.864158964483067,16.556600086856633,16.57353074895218,16.57821035501547,16.903041793964803,16.599849535617977,16.60777451330796,16.61084475647658,16.616346697788686,16.623162938980386,16.933441070839763,16.62611365132034,16.632257266435772,16.632903059013188,16.636631960514933,16.63759030494839,16.63817822933197,16.99154971493408,16.638997996458784,16.645312267821282,16.64661890035495,16.648535372456536,16.649717012420297,16.65555901126936,16.66508372547105,16.97744489298202,16.97918893583119,16.98296215501614,17.01516767591238,17.20929556642659,17.21531604928896,17.220465319463983,17.456388549413532,17.23299965308979,17.24236847786233,17.248505977448076,17.25150462333113,17.470808278303593,17.25789747107774,17.26278312294744,17.479857245925814,17.302870156243443,17.304147322429344,17.306467694230378,17.307178147369996,17.307778189424425,17.310591941932216,17.310532700968906,17.315862910356373,17.51441530394368,17.320382394827902,17.35035334643908,17.351461043115705,17.352037214441225,17.352482207585126,17.35317952092737,17.35370416380465,17.691050638910383,17.691654277965426,17.69217176735401,17.69270503334701,17.695861742366105,17.696128976065665,17.69745628349483,17.699681539088488,17.7005926752463,17.717501612380147,17.718043161556125,17.718538995366544]],[\"y\",[7,8,8,8,7,7,8,7,5,2,7,1,8,3,6,4,6,7,6,6,6,5,8,8,2,1,2,2,2,3,3,4,4,4,4,6,6,8,7,6,6,5,4,2,5,1,4,3,3,3,2,6,6,7,7,8,7,7,1,4,2,3,5,4,2,4,5,6,6,6,8,7,7,3,4,3,5,2,1,5,3,4,4,6,6,4,4,8,7,8,5,7,2,3,8,3,1,8,3,6,6,4,4,7,2,3,3,2,7,1,1,1,5,8,8,6,6,4,4,1,1,7,7,3,5,3,7,8,2,2,7,6,6,6,7,7,5,7,5,7,2,5,3,4,1,4,5,4,3,4,5,8,4,5,4,6,6,6,7,1,1,1,7,7,8,8,8,5,4,4,4,8,8,2,2,2,2,2,3,7,7,7,5,6,4,6,4,3,7,1,6,8,3,4,1,2,8,3,1,2,3,2,1,6,6,7,7,5,6,7,1,5,8,4,3,8,2,4,8,1,5,4,1,2,2,5,8,7,4,6,6,4,3,3,6,1,3,7,6,2,1,5,8,3,7,2,5,8,3,5,2,3,3,3,6,6,7,7,7,6,7,4,6,8,4,1,2,5,8,2,1,4,8,1,4,3,3,3,3,8,5,6,6,6,6,8,8,6,4,8,8,7,8,1,2,8,1,1,2,3,3,7,7,4,2,2,4,6,6,2,5,8,8,1,1,7,7,3,2,6,4,3,5,8,3,5,8,4,6,1,1,7,7,2,2,3,4,3,6,5,1,3,6,8,8,6,3,7,7,2,2,3,3,6,3,4,4,4,5,1,1,8,8,7,7,3,2,3,6,3,5,5,3,1,1,1,4,8,8,2,2,2,2,3,2,7,2,5,3,5,7,6,5,5,1,1,7,1,1,7,6,6,7,4,8,4,8,8,4,8,8,2,2,5,5,5,2,6,5,5,2,2,2,2,2,3,3,3,4,7,8,7,8,1,7,8,1,4,1,4,7,1,4,2,2,2,2,6,6,6,6,8,6,3,5,4,5,3,6,5,5,3,6,7,7,4,1,7,3,5,3,5,7,3,3,2,2,2,2,8,8,8,8,6,7,7,7,6,6,4,1,5,7,3,5,7,1,5,1,5,1,3,4,3,5,1,4,2,2,2,2,8,8,8,8,8,6,6,6,1,5,5,1,5,1,5,5,1,3,5,3,4,5,7,5,7,4,3,5,2,2,4,5,7,2,3,8]],[\"function\",[\"getitem(_wrap_with_array(..., ...), *)\",\"getitem(_wrap_with_array(..., ...), *)\",\"getitem(_wrap_with_array(..., ...), *)\",\"getitem(_wrap_with_array(..., ...), *)\",\"_\",\"_\",\"_\",\"_\",\"subgraph_callable-e441921a-b98c-4305-82f1-de1b2ba0(subgraph_callable-4e806165-3ea6-4bef-a64a-5ee3f0f9(...))\",\"subgraph_callable-e441921a-b98c-4305-82f1-de1b2ba0(subgraph_callable-4e806165-3ea6-4bef-a64a-5ee3f0f9(...))\",\"subgraph_callable-e441921a-b98c-4305-82f1-de1b2ba0(subgraph_callable-4e806165-3ea6-4bef-a64a-5ee3f0f9(...))\",\"subgraph_callable-e441921a-b98c-4305-82f1-de1b2ba0(subgraph_callable-4e806165-3ea6-4bef-a64a-5ee3f0f9(...))\",\"subgraph_callable-e441921a-b98c-4305-82f1-de1b2ba0(subgraph_callable-4e806165-3ea6-4bef-a64a-5ee3f0f9(...))\",\"subgraph_callable-e441921a-b98c-4305-82f1-de1b2ba0(subgraph_callable-4e806165-3ea6-4bef-a64a-5ee3f0f9(...))\",\"subgraph_callable-e441921a-b98c-4305-82f1-de1b2ba0(subgraph_callable-4e806165-3ea6-4bef-a64a-5ee3f0f9(...))\",\"subgraph_callable-e441921a-b98c-4305-82f1-de1b2ba0(subgraph_callable-4e806165-3ea6-4bef-a64a-5ee3f0f9(...))\",\"_\",\"subgraph_callable-e441921a-b98c-4305-82f1-de1b2ba0(subgraph_callable-4e806165-3ea6-4bef-a64a-5ee3f0f9(...))\",\"_\",\"_\",\"subgraph_callable-e441921a-b98c-4305-82f1-de1b2ba0(subgraph_callable-4e806165-3ea6-4bef-a64a-5ee3f0f9(...))\",\"subgraph_callable-e441921a-b98c-4305-82f1-de1b2ba0(subgraph_callable-4e806165-3ea6-4bef-a64a-5ee3f0f9(...))\",\"_\",\"subgraph_callable-e441921a-b98c-4305-82f1-de1b2ba0(subgraph_callable-4e806165-3ea6-4bef-a64a-5ee3f0f9(...))\",\"_\",\"subgraph_callable-e441921a-b98c-4305-82f1-de1b2ba0(subgraph_callable-4e806165-3ea6-4bef-a64a-5ee3f0f9(...))\",\"_\",\"_\",\"subgraph_callable-e441921a-b98c-4305-82f1-de1b2ba0(subgraph_callable-4e806165-3ea6-4bef-a64a-5ee3f0f9(...))\",\"mean_combine([_, _])\",\"subgraph_callable-e441921a-b98c-4305-82f1-de1b2ba0(subgraph_callable-4e806165-3ea6-4bef-a64a-5ee3f0f9(...))\",\"_\",\"mean_combine([_, _])\",\"mean_agg([_, _])\",\"subgraph_callable-e441921a-b98c-4305-82f1-de1b2ba0(subgraph_callable-4e806165-3ea6-4bef-a64a-5ee3f0f9(...))\",\"_\",\"_\",\"subgraph_callable-e441921a-b98c-4305-82f1-de1b2ba0(subgraph_callable-4e806165-3ea6-4bef-a64a-5ee3f0f9(...))\",\"subgraph_callable-e441921a-b98c-4305-82f1-de1b2ba0(subgraph_callable-4e806165-3ea6-4bef-a64a-5ee3f0f9(...))\",\"_\",\"subgraph_callable-e441921a-b98c-4305-82f1-de1b2ba0(subgraph_callable-4e806165-3ea6-4bef-a64a-5ee3f0f9(...))\",\"_\",\"_\",\"_\",\"subgraph_callable-e441921a-b98c-4305-82f1-de1b2ba0(subgraph_callable-4e806165-3ea6-4bef-a64a-5ee3f0f9(...))\",\"subgraph_callable-e441921a-b98c-4305-82f1-de1b2ba0(subgraph_callable-4e806165-3ea6-4bef-a64a-5ee3f0f9(...))\",\"subgraph_callable-e441921a-b98c-4305-82f1-de1b2ba0(subgraph_callable-4e806165-3ea6-4bef-a64a-5ee3f0f9(...))\",\"_\",\"_\",\"subgraph_callable-e441921a-b98c-4305-82f1-de1b2ba0(subgraph_callable-4e806165-3ea6-4bef-a64a-5ee3f0f9(...))\",\"subgraph_callable-e441921a-b98c-4305-82f1-de1b2ba0(subgraph_callable-4e806165-3ea6-4bef-a64a-5ee3f0f9(...))\",\"_\",\"subgraph_callable-e441921a-b98c-4305-82f1-de1b2ba0(subgraph_callable-4e806165-3ea6-4bef-a64a-5ee3f0f9(...))\",\"_\",\"_\",\"subgraph_callable-e441921a-b98c-4305-82f1-de1b2ba0(subgraph_callable-4e806165-3ea6-4bef-a64a-5ee3f0f9(...))\",\"_\",\"subgraph_callable-e441921a-b98c-4305-82f1-de1b2ba0(subgraph_callable-4e806165-3ea6-4bef-a64a-5ee3f0f9(...))\",\"subgraph_callable-e441921a-b98c-4305-82f1-de1b2ba0(subgraph_callable-4e806165-3ea6-4bef-a64a-5ee3f0f9(...))\",\"_\",\"_\",\"subgraph_callable-e441921a-b98c-4305-82f1-de1b2ba0(subgraph_callable-4e806165-3ea6-4bef-a64a-5ee3f0f9(...))\",\"_\",\"_\",\"subgraph_callable-e441921a-b98c-4305-82f1-de1b2ba0(subgraph_callable-4e806165-3ea6-4bef-a64a-5ee3f0f9(...))\",\"subgraph_callable-e441921a-b98c-4305-82f1-de1b2ba0(subgraph_callable-4e806165-3ea6-4bef-a64a-5ee3f0f9(...))\",\"subgraph_callable-e441921a-b98c-4305-82f1-de1b2ba0(subgraph_callable-4e806165-3ea6-4bef-a64a-5ee3f0f9(...))\",\"_\",\"_\",\"subgraph_callable-e441921a-b98c-4305-82f1-de1b2ba0(subgraph_callable-4e806165-3ea6-4bef-a64a-5ee3f0f9(...))\",\"subgraph_callable-e441921a-b98c-4305-82f1-de1b2ba0(subgraph_callable-4e806165-3ea6-4bef-a64a-5ee3f0f9(...))\",\"_\",\"subgraph_callable-e441921a-b98c-4305-82f1-de1b2ba0(subgraph_callable-4e806165-3ea6-4bef-a64a-5ee3f0f9(...))\",\"_\",\"_\",\"_\",\"_\",\"subgraph_callable-e441921a-b98c-4305-82f1-de1b2ba0(subgraph_callable-4e806165-3ea6-4bef-a64a-5ee3f0f9(...))\",\"subgraph_callable-e441921a-b98c-4305-82f1-de1b2ba0(subgraph_callable-4e806165-3ea6-4bef-a64a-5ee3f0f9(...))\",\"subgraph_callable-e441921a-b98c-4305-82f1-de1b2ba0(subgraph_callable-4e806165-3ea6-4bef-a64a-5ee3f0f9(...))\",\"subgraph_callable-e441921a-b98c-4305-82f1-de1b2ba0(subgraph_callable-4e806165-3ea6-4bef-a64a-5ee3f0f9(...))\",\"_\",\"subgraph_callable-e441921a-b98c-4305-82f1-de1b2ba0(subgraph_callable-4e806165-3ea6-4bef-a64a-5ee3f0f9(...))\",\"_\",\"subgraph_callable-e441921a-b98c-4305-82f1-de1b2ba0(subgraph_callable-4e806165-3ea6-4bef-a64a-5ee3f0f9(...))\",\"_\",\"subgraph_callable-e441921a-b98c-4305-82f1-de1b2ba0(subgraph_callable-4e806165-3ea6-4bef-a64a-5ee3f0f9(...))\",\"_\",\"_\",\"_\",\"subgraph_callable-e441921a-b98c-4305-82f1-de1b2ba0(subgraph_callable-4e806165-3ea6-4bef-a64a-5ee3f0f9(...))\",\"subgraph_callable-e441921a-b98c-4305-82f1-de1b2ba0(subgraph_callable-4e806165-3ea6-4bef-a64a-5ee3f0f9(...))\",\"subgraph_callable-e441921a-b98c-4305-82f1-de1b2ba0(subgraph_callable-4e806165-3ea6-4bef-a64a-5ee3f0f9(...))\",\"_\",\"_\",\"_\",\"subgraph_callable-e441921a-b98c-4305-82f1-de1b2ba0(subgraph_callable-4e806165-3ea6-4bef-a64a-5ee3f0f9(...))\",\"subgraph_callable-e441921a-b98c-4305-82f1-de1b2ba0(subgraph_callable-4e806165-3ea6-4bef-a64a-5ee3f0f9(...))\",\"subgraph_callable-e441921a-b98c-4305-82f1-de1b2ba0(subgraph_callable-4e806165-3ea6-4bef-a64a-5ee3f0f9(...))\",\"_\",\"subgraph_callable-e441921a-b98c-4305-82f1-de1b2ba0(subgraph_callable-4e806165-3ea6-4bef-a64a-5ee3f0f9(...))\",\"_\",\"subgraph_callable-e441921a-b98c-4305-82f1-de1b2ba0(subgraph_callable-4e806165-3ea6-4bef-a64a-5ee3f0f9(...))\",\"_\",\"_\",\"_\",\"subgraph_callable-e441921a-b98c-4305-82f1-de1b2ba0(subgraph_callable-4e806165-3ea6-4bef-a64a-5ee3f0f9(...))\",\"subgraph_callable-e441921a-b98c-4305-82f1-de1b2ba0(subgraph_callable-4e806165-3ea6-4bef-a64a-5ee3f0f9(...))\",\"subgraph_callable-e441921a-b98c-4305-82f1-de1b2ba0(subgraph_callable-4e806165-3ea6-4bef-a64a-5ee3f0f9(...))\",\"_\",\"_\",\"subgraph_callable-e441921a-b98c-4305-82f1-de1b2ba0(subgraph_callable-4e806165-3ea6-4bef-a64a-5ee3f0f9(...))\",\"subgraph_callable-e441921a-b98c-4305-82f1-de1b2ba0(subgraph_callable-4e806165-3ea6-4bef-a64a-5ee3f0f9(...))\",\"_\",\"subgraph_callable-e441921a-b98c-4305-82f1-de1b2ba0(subgraph_callable-4e806165-3ea6-4bef-a64a-5ee3f0f9(...))\",\"_\",\"subgraph_callable-e441921a-b98c-4305-82f1-de1b2ba0(subgraph_callable-4e806165-3ea6-4bef-a64a-5ee3f0f9(...))\",\"_\",\"subgraph_callable-e441921a-b98c-4305-82f1-de1b2ba0(subgraph_callable-4e806165-3ea6-4bef-a64a-5ee3f0f9(...))\",\"_\",\"subgraph_callable-e441921a-b98c-4305-82f1-de1b2ba0(subgraph_callable-4e806165-3ea6-4bef-a64a-5ee3f0f9(...))\",\"_\",\"_\",\"_\",\"subgraph_callable-e441921a-b98c-4305-82f1-de1b2ba0(subgraph_callable-4e806165-3ea6-4bef-a64a-5ee3f0f9(...))\",\"subgraph_callable-e441921a-b98c-4305-82f1-de1b2ba0(subgraph_callable-4e806165-3ea6-4bef-a64a-5ee3f0f9(...))\",\"_\",\"subgraph_callable-e441921a-b98c-4305-82f1-de1b2ba0(subgraph_callable-4e806165-3ea6-4bef-a64a-5ee3f0f9(...))\",\"_\",\"subgraph_callable-e441921a-b98c-4305-82f1-de1b2ba0(subgraph_callable-4e806165-3ea6-4bef-a64a-5ee3f0f9(...))\",\"subgraph_callable-e441921a-b98c-4305-82f1-de1b2ba0(subgraph_callable-4e806165-3ea6-4bef-a64a-5ee3f0f9(...))\",\"_\",\"mean_combine([_, _])\",\"subgraph_callable-e441921a-b98c-4305-82f1-de1b2ba0(subgraph_callable-4e806165-3ea6-4bef-a64a-5ee3f0f9(...))\",\"_\",\"_\",\"mean_combine([_, _])\",\"mean_combine([_, _])\",\"_\",\"subgraph_callable-e441921a-b98c-4305-82f1-de1b2ba0(subgraph_callable-4e806165-3ea6-4bef-a64a-5ee3f0f9(...))\",\"subgraph_callable-e441921a-b98c-4305-82f1-de1b2ba0(subgraph_callable-4e806165-3ea6-4bef-a64a-5ee3f0f9(...))\",\"mean_combine([_, _])\",\"_\",\"_\",\"subgraph_callable-e441921a-b98c-4305-82f1-de1b2ba0(subgraph_callable-4e806165-3ea6-4bef-a64a-5ee3f0f9(...))\",\"mean_combine([_, _])\",\"_\",\"mean_combine([_, _])\",\"subgraph_callable-e441921a-b98c-4305-82f1-de1b2ba0(subgraph_callable-4e806165-3ea6-4bef-a64a-5ee3f0f9(...))\",\"_\",\"mean_combine([_, _])\",\"subgraph_callable-e441921a-b98c-4305-82f1-de1b2ba0(subgraph_callable-4e806165-3ea6-4bef-a64a-5ee3f0f9(...))\",\"mean_combine([_, _])\",\"subgraph_callable-e441921a-b98c-4305-82f1-de1b2ba0(subgraph_callable-4e806165-3ea6-4bef-a64a-5ee3f0f9(...))\",\"subgraph_callable-e441921a-b98c-4305-82f1-de1b2ba0(subgraph_callable-4e806165-3ea6-4bef-a64a-5ee3f0f9(...))\",\"_\",\"mean_combine([_, _])\",\"subgraph_callable-e441921a-b98c-4305-82f1-de1b2ba0(subgraph_callable-4e806165-3ea6-4bef-a64a-5ee3f0f9(...))\",\"_\",\"mean_combine([_, _])\",\"_\",\"subgraph_callable-e441921a-b98c-4305-82f1-de1b2ba0(subgraph_callable-4e806165-3ea6-4bef-a64a-5ee3f0f9(...))\",\"mean_combine([_, _])\",\"subgraph_callable-e441921a-b98c-4305-82f1-de1b2ba0(subgraph_callable-4e806165-3ea6-4bef-a64a-5ee3f0f9(...))\",\"_\",\"mean_combine([_, _])\",\"_\",\"subgraph_callable-e441921a-b98c-4305-82f1-de1b2ba0(subgraph_callable-4e806165-3ea6-4bef-a64a-5ee3f0f9(...))\",\"mean_combine([_, _])\",\"_\",\"subgraph_callable-e441921a-b98c-4305-82f1-de1b2ba0(subgraph_callable-4e806165-3ea6-4bef-a64a-5ee3f0f9(...))\",\"mean_combine([_, _])\",\"subgraph_callable-e441921a-b98c-4305-82f1-de1b2ba0(subgraph_callable-4e806165-3ea6-4bef-a64a-5ee3f0f9(...))\",\"_\",\"_\",\"mean_combine([_, _])\",\"mean_combine([_, _])\",\"subgraph_callable-e441921a-b98c-4305-82f1-de1b2ba0(subgraph_callable-4e806165-3ea6-4bef-a64a-5ee3f0f9(...))\",\"subgraph_callable-e441921a-b98c-4305-82f1-de1b2ba0(subgraph_callable-4e806165-3ea6-4bef-a64a-5ee3f0f9(...))\",\"_\",\"mean_combine([_, _])\",\"_\",\"subgraph_callable-e441921a-b98c-4305-82f1-de1b2ba0(subgraph_callable-4e806165-3ea6-4bef-a64a-5ee3f0f9(...))\",\"_\",\"mean_combine([_, _])\",\"_\",\"mean_combine([_, _])\",\"_\",\"subgraph_callable-e441921a-b98c-4305-82f1-de1b2ba0(subgraph_callable-4e806165-3ea6-4bef-a64a-5ee3f0f9(...))\",\"mean_combine([_, _])\",\"subgraph_callable-e441921a-b98c-4305-82f1-de1b2ba0(subgraph_callable-4e806165-3ea6-4bef-a64a-5ee3f0f9(...))\",\"mean_combine([_, _])\",\"_\",\"subgraph_callable-e441921a-b98c-4305-82f1-de1b2ba0(subgraph_callable-4e806165-3ea6-4bef-a64a-5ee3f0f9(...))\",\"_\",\"_\",\"subgraph_callable-e441921a-b98c-4305-82f1-de1b2ba0(subgraph_callable-4e806165-3ea6-4bef-a64a-5ee3f0f9(...))\",\"mean_combine([_, _])\",\"mean_combine([_, _])\",\"mean_combine([_, _])\",\"subgraph_callable-e441921a-b98c-4305-82f1-de1b2ba0(subgraph_callable-4e806165-3ea6-4bef-a64a-5ee3f0f9(...))\",\"subgraph_callable-e441921a-b98c-4305-82f1-de1b2ba0(subgraph_callable-4e806165-3ea6-4bef-a64a-5ee3f0f9(...))\",\"subgraph_callable-e441921a-b98c-4305-82f1-de1b2ba0(subgraph_callable-4e806165-3ea6-4bef-a64a-5ee3f0f9(...))\",\"_\",\"_\",\"mean_combine([_, _])\",\"mean_combine([_, _])\",\"_\",\"subgraph_callable-e441921a-b98c-4305-82f1-de1b2ba0(subgraph_callable-4e806165-3ea6-4bef-a64a-5ee3f0f9(...))\",\"subgraph_callable-e441921a-b98c-4305-82f1-de1b2ba0(subgraph_callable-4e806165-3ea6-4bef-a64a-5ee3f0f9(...))\",\"mean_combine([_, _])\",\"_\",\"_\",\"_\",\"subgraph_callable-e441921a-b98c-4305-82f1-de1b2ba0(subgraph_callable-4e806165-3ea6-4bef-a64a-5ee3f0f9(...))\",\"_\",\"mean_combine([_, _])\",\"mean_combine([_, _])\",\"_\",\"mean_combine([_, _])\",\"mean_combine([_, _])\",\"subgraph_callable-e441921a-b98c-4305-82f1-de1b2ba0(subgraph_callable-4e806165-3ea6-4bef-a64a-5ee3f0f9(...))\",\"subgraph_callable-e441921a-b98c-4305-82f1-de1b2ba0(subgraph_callable-4e806165-3ea6-4bef-a64a-5ee3f0f9(...))\",\"mean_combine([_, _])\",\"subgraph_callable-e441921a-b98c-4305-82f1-de1b2ba0(subgraph_callable-4e806165-3ea6-4bef-a64a-5ee3f0f9(...))\",\"subgraph_callable-e441921a-b98c-4305-82f1-de1b2ba0(subgraph_callable-4e806165-3ea6-4bef-a64a-5ee3f0f9(...))\",\"subgraph_callable-e441921a-b98c-4305-82f1-de1b2ba0(subgraph_callable-4e806165-3ea6-4bef-a64a-5ee3f0f9(...))\",\"_\",\"mean_combine([_, _])\",\"_\",\"_\",\"subgraph_callable-e441921a-b98c-4305-82f1-de1b2ba0(subgraph_callable-4e806165-3ea6-4bef-a64a-5ee3f0f9(...))\",\"_\",\"mean_combine([_, _])\",\"mean_combine([_, _])\",\"_\",\"_\",\"mean_combine([_, _])\",\"subgraph_callable-e441921a-b98c-4305-82f1-de1b2ba0(subgraph_callable-4e806165-3ea6-4bef-a64a-5ee3f0f9(...))\",\"_\",\"subgraph_callable-e441921a-b98c-4305-82f1-de1b2ba0(subgraph_callable-4e806165-3ea6-4bef-a64a-5ee3f0f9(...))\",\"_\",\"mean_combine([_, _])\",\"mean_combine([_, _])\",\"subgraph_callable-e441921a-b98c-4305-82f1-de1b2ba0(subgraph_callable-4e806165-3ea6-4bef-a64a-5ee3f0f9(...))\",\"mean_combine([_, _])\",\"mean_combine([_, _])\",\"subgraph_callable-e441921a-b98c-4305-82f1-de1b2ba0(subgraph_callable-4e806165-3ea6-4bef-a64a-5ee3f0f9(...))\",\"subgraph_callable-e441921a-b98c-4305-82f1-de1b2ba0(subgraph_callable-4e806165-3ea6-4bef-a64a-5ee3f0f9(...))\",\"subgraph_callable-e441921a-b98c-4305-82f1-de1b2ba0(subgraph_callable-4e806165-3ea6-4bef-a64a-5ee3f0f9(...))\",\"subgraph_callable-e441921a-b98c-4305-82f1-de1b2ba0(subgraph_callable-4e806165-3ea6-4bef-a64a-5ee3f0f9(...))\",\"_\",\"mean_combine([_, _])\",\"subgraph_callable-e441921a-b98c-4305-82f1-de1b2ba0(subgraph_callable-4e806165-3ea6-4bef-a64a-5ee3f0f9(...))\",\"_\",\"_\",\"mean_combine([_, _])\",\"_\",\"mean_combine([_, _])\",\"_\",\"subgraph_callable-e441921a-b98c-4305-82f1-de1b2ba0(subgraph_callable-4e806165-3ea6-4bef-a64a-5ee3f0f9(...))\",\"mean_combine([_, _])\",\"subgraph_callable-e441921a-b98c-4305-82f1-de1b2ba0(subgraph_callable-4e806165-3ea6-4bef-a64a-5ee3f0f9(...))\",\"_\",\"mean_combine([_, _])\",\"_\",\"_\",\"subgraph_callable-e441921a-b98c-4305-82f1-de1b2ba0(subgraph_callable-4e806165-3ea6-4bef-a64a-5ee3f0f9(...))\",\"mean_combine([_, _])\",\"subgraph_callable-e441921a-b98c-4305-82f1-de1b2ba0(subgraph_callable-4e806165-3ea6-4bef-a64a-5ee3f0f9(...))\",\"mean_combine([_, _])\",\"mean_combine([_, _])\",\"subgraph_callable-e441921a-b98c-4305-82f1-de1b2ba0(subgraph_callable-4e806165-3ea6-4bef-a64a-5ee3f0f9(...))\",\"subgraph_callable-e441921a-b98c-4305-82f1-de1b2ba0(subgraph_callable-4e806165-3ea6-4bef-a64a-5ee3f0f9(...))\",\"subgraph_callable-e441921a-b98c-4305-82f1-de1b2ba0(subgraph_callable-4e806165-3ea6-4bef-a64a-5ee3f0f9(...))\",\"_\",\"mean_combine([_, _])\",\"mean_agg([_, _])\",\"subgraph_callable-e441921a-b98c-4305-82f1-de1b2ba0(subgraph_callable-4e806165-3ea6-4bef-a64a-5ee3f0f9(...))\",\"_\",\"subgraph_callable-e441921a-b98c-4305-82f1-de1b2ba0(subgraph_callable-4e806165-3ea6-4bef-a64a-5ee3f0f9(...))\",\"_\",\"_\",\"mean_combine([_, _])\",\"mean_combine([_, _])\",\"mean_agg([_, _])\",\"mean_agg([_, _])\",\"subgraph_callable-e441921a-b98c-4305-82f1-de1b2ba0(subgraph_callable-4e806165-3ea6-4bef-a64a-5ee3f0f9(...))\",\"subgraph_callable-e441921a-b98c-4305-82f1-de1b2ba0(subgraph_callable-4e806165-3ea6-4bef-a64a-5ee3f0f9(...))\",\"_\",\"_\",\"subgraph_callable-e441921a-b98c-4305-82f1-de1b2ba0(subgraph_callable-4e806165-3ea6-4bef-a64a-5ee3f0f9(...))\",\"_\",\"mean_combine([_, _])\",\"_\",\"subgraph_callable-e441921a-b98c-4305-82f1-de1b2ba0(subgraph_callable-4e806165-3ea6-4bef-a64a-5ee3f0f9(...))\",\"mean_agg([_, _])\",\"subgraph_callable-e441921a-b98c-4305-82f1-de1b2ba0(subgraph_callable-4e806165-3ea6-4bef-a64a-5ee3f0f9(...))\",\"subgraph_callable-e441921a-b98c-4305-82f1-de1b2ba0(subgraph_callable-4e806165-3ea6-4bef-a64a-5ee3f0f9(...))\",\"_\",\"subgraph_callable-e441921a-b98c-4305-82f1-de1b2ba0(subgraph_callable-4e806165-3ea6-4bef-a64a-5ee3f0f9(...))\",\"_\",\"subgraph_callable-e441921a-b98c-4305-82f1-de1b2ba0(subgraph_callable-4e806165-3ea6-4bef-a64a-5ee3f0f9(...))\",\"_\",\"_\",\"_\",\"subgraph_callable-e441921a-b98c-4305-82f1-de1b2ba0(subgraph_callable-4e806165-3ea6-4bef-a64a-5ee3f0f9(...))\",\"_\",\"subgraph_callable-e441921a-b98c-4305-82f1-de1b2ba0(subgraph_callable-4e806165-3ea6-4bef-a64a-5ee3f0f9(...))\",\"subgraph_callable-e441921a-b98c-4305-82f1-de1b2ba0(subgraph_callable-4e806165-3ea6-4bef-a64a-5ee3f0f9(...))\",\"subgraph_callable-e441921a-b98c-4305-82f1-de1b2ba0(subgraph_callable-4e806165-3ea6-4bef-a64a-5ee3f0f9(...))\",\"_\",\"subgraph_callable-e441921a-b98c-4305-82f1-de1b2ba0(subgraph_callable-4e806165-3ea6-4bef-a64a-5ee3f0f9(...))\",\"_\",\"subgraph_callable-e441921a-b98c-4305-82f1-de1b2ba0(subgraph_callable-4e806165-3ea6-4bef-a64a-5ee3f0f9(...))\",\"_\",\"subgraph_callable-e441921a-b98c-4305-82f1-de1b2ba0(subgraph_callable-4e806165-3ea6-4bef-a64a-5ee3f0f9(...))\",\"_\",\"subgraph_callable-e441921a-b98c-4305-82f1-de1b2ba0(subgraph_callable-4e806165-3ea6-4bef-a64a-5ee3f0f9(...))\",\"_\",\"_\",\"_\",\"_\",\"_\",\"subgraph_callable-e441921a-b98c-4305-82f1-de1b2ba0(subgraph_callable-4e806165-3ea6-4bef-a64a-5ee3f0f9(...))\",\"subgraph_callable-e441921a-b98c-4305-82f1-de1b2ba0(subgraph_callable-4e806165-3ea6-4bef-a64a-5ee3f0f9(...))\",\"subgraph_callable-e441921a-b98c-4305-82f1-de1b2ba0(subgraph_callable-4e806165-3ea6-4bef-a64a-5ee3f0f9(...))\",\"subgraph_callable-e441921a-b98c-4305-82f1-de1b2ba0(subgraph_callable-4e806165-3ea6-4bef-a64a-5ee3f0f9(...))\",\"subgraph_callable-e441921a-b98c-4305-82f1-de1b2ba0(subgraph_callable-4e806165-3ea6-4bef-a64a-5ee3f0f9(...))\",\"_\",\"subgraph_callable-e441921a-b98c-4305-82f1-de1b2ba0(subgraph_callable-4e806165-3ea6-4bef-a64a-5ee3f0f9(...))\",\"_\",\"subgraph_callable-e441921a-b98c-4305-82f1-de1b2ba0(subgraph_callable-4e806165-3ea6-4bef-a64a-5ee3f0f9(...))\",\"_\",\"subgraph_callable-e441921a-b98c-4305-82f1-de1b2ba0(subgraph_callable-4e806165-3ea6-4bef-a64a-5ee3f0f9(...))\",\"_\",\"subgraph_callable-e441921a-b98c-4305-82f1-de1b2ba0(subgraph_callable-4e806165-3ea6-4bef-a64a-5ee3f0f9(...))\",\"_\",\"_\",\"subgraph_callable-e441921a-b98c-4305-82f1-de1b2ba0(subgraph_callable-4e806165-3ea6-4bef-a64a-5ee3f0f9(...))\",\"subgraph_callable-e441921a-b98c-4305-82f1-de1b2ba0(subgraph_callable-4e806165-3ea6-4bef-a64a-5ee3f0f9(...))\",\"_\",\"_\",\"_\",\"subgraph_callable-e441921a-b98c-4305-82f1-de1b2ba0(subgraph_callable-4e806165-3ea6-4bef-a64a-5ee3f0f9(...))\",\"subgraph_callable-e441921a-b98c-4305-82f1-de1b2ba0(subgraph_callable-4e806165-3ea6-4bef-a64a-5ee3f0f9(...))\",\"subgraph_callable-e441921a-b98c-4305-82f1-de1b2ba0(subgraph_callable-4e806165-3ea6-4bef-a64a-5ee3f0f9(...))\",\"_\",\"subgraph_callable-e441921a-b98c-4305-82f1-de1b2ba0(subgraph_callable-4e806165-3ea6-4bef-a64a-5ee3f0f9(...))\",\"_\",\"subgraph_callable-e441921a-b98c-4305-82f1-de1b2ba0(subgraph_callable-4e806165-3ea6-4bef-a64a-5ee3f0f9(...))\",\"_\",\"_\",\"subgraph_callable-e441921a-b98c-4305-82f1-de1b2ba0(subgraph_callable-4e806165-3ea6-4bef-a64a-5ee3f0f9(...))\",\"subgraph_callable-e441921a-b98c-4305-82f1-de1b2ba0(subgraph_callable-4e806165-3ea6-4bef-a64a-5ee3f0f9(...))\",\"_\",\"_\",\"subgraph_callable-e441921a-b98c-4305-82f1-de1b2ba0(subgraph_callable-4e806165-3ea6-4bef-a64a-5ee3f0f9(...))\",\"subgraph_callable-e441921a-b98c-4305-82f1-de1b2ba0(subgraph_callable-4e806165-3ea6-4bef-a64a-5ee3f0f9(...))\",\"_\",\"subgraph_callable-e441921a-b98c-4305-82f1-de1b2ba0(subgraph_callable-4e806165-3ea6-4bef-a64a-5ee3f0f9(...))\",\"_\",\"subgraph_callable-e441921a-b98c-4305-82f1-de1b2ba0(subgraph_callable-4e806165-3ea6-4bef-a64a-5ee3f0f9(...))\",\"_\",\"subgraph_callable-e441921a-b98c-4305-82f1-de1b2ba0(subgraph_callable-4e806165-3ea6-4bef-a64a-5ee3f0f9(...))\",\"_\",\"subgraph_callable-e441921a-b98c-4305-82f1-de1b2ba0(subgraph_callable-4e806165-3ea6-4bef-a64a-5ee3f0f9(...))\",\"_\",\"subgraph_callable-e441921a-b98c-4305-82f1-de1b2ba0(subgraph_callable-4e806165-3ea6-4bef-a64a-5ee3f0f9(...))\",\"_\",\"_\",\"subgraph_callable-e441921a-b98c-4305-82f1-de1b2ba0(subgraph_callable-4e806165-3ea6-4bef-a64a-5ee3f0f9(...))\",\"subgraph_callable-e441921a-b98c-4305-82f1-de1b2ba0(subgraph_callable-4e806165-3ea6-4bef-a64a-5ee3f0f9(...))\",\"_\",\"_\",\"subgraph_callable-e441921a-b98c-4305-82f1-de1b2ba0(subgraph_callable-4e806165-3ea6-4bef-a64a-5ee3f0f9(...))\",\"subgraph_callable-e441921a-b98c-4305-82f1-de1b2ba0(subgraph_callable-4e806165-3ea6-4bef-a64a-5ee3f0f9(...))\",\"_\",\"subgraph_callable-e441921a-b98c-4305-82f1-de1b2ba0(subgraph_callable-4e806165-3ea6-4bef-a64a-5ee3f0f9(...))\",\"_\",\"_\",\"mean_combine([_, _])\",\"mean_combine([_, _])\",\"mean_agg([_, _])\",\"_\",\"mean_agg([_, _])\",\"subgraph_callable-e441921a-b98c-4305-82f1-de1b2ba0(subgraph_callable-4e806165-3ea6-4bef-a64a-5ee3f0f9(...))\",\"mean_combine([_, _])\",\"subgraph_callable-e441921a-b98c-4305-82f1-de1b2ba0(subgraph_callable-4e806165-3ea6-4bef-a64a-5ee3f0f9(...))\",\"_\",\"mean_agg([_, _])\",\"mean_combine([_, _])\",\"_\",\"subgraph_callable-e441921a-b98c-4305-82f1-de1b2ba0(subgraph_callable-4e806165-3ea6-4bef-a64a-5ee3f0f9(...))\",\"_\",\"mean_agg([_, _])\",\"mean_combine([_, _])\",\"mean_combine([_, _])\",\"subgraph_callable-e441921a-b98c-4305-82f1-de1b2ba0(subgraph_callable-4e806165-3ea6-4bef-a64a-5ee3f0f9(...))\",\"mean_agg([_, _])\",\"mean_agg([_, _])\",\"subgraph_callable-e441921a-b98c-4305-82f1-de1b2ba0(subgraph_callable-4e806165-3ea6-4bef-a64a-5ee3f0f9(...))\",\"subgraph_callable-e441921a-b98c-4305-82f1-de1b2ba0(subgraph_callable-4e806165-3ea6-4bef-a64a-5ee3f0f9(...))\",\"_\",\"mean_combine([_, _])\",\"_\",\"mean_agg([_, _])\",\"mean_combine([_, _])\",\"subgraph_callable-e441921a-b98c-4305-82f1-de1b2ba0(subgraph_callable-4e806165-3ea6-4bef-a64a-5ee3f0f9(...))\",\"mean_agg([_, _])\",\"subgraph_callable-e441921a-b98c-4305-82f1-de1b2ba0(subgraph_callable-4e806165-3ea6-4bef-a64a-5ee3f0f9(...))\",\"_\",\"_\",\"mean_combine([_, _])\",\"mean_combine([_, _])\",\"mean_agg([_, _])\",\"mean_agg([_, _])\",\"subgraph_callable-e441921a-b98c-4305-82f1-de1b2ba0(subgraph_callable-4e806165-3ea6-4bef-a64a-5ee3f0f9(...))\",\"_\",\"subgraph_callable-e441921a-b98c-4305-82f1-de1b2ba0(subgraph_callable-4e806165-3ea6-4bef-a64a-5ee3f0f9(...))\",\"mean_combine([_, _])\",\"_\",\"mean_agg([_, _])\",\"mean_combine([_, _])\",\"subgraph_callable-e441921a-b98c-4305-82f1-de1b2ba0(subgraph_callable-4e806165-3ea6-4bef-a64a-5ee3f0f9(...))\",\"mean_agg([_, _])\",\"_\",\"subgraph_callable-e441921a-b98c-4305-82f1-de1b2ba0(subgraph_callable-4e806165-3ea6-4bef-a64a-5ee3f0f9(...))\",\"mean_combine([_, _])\",\"_\",\"_\",\"mean_agg([_, _])\",\"_\",\"mean_combine([_, _])\",\"mean_combine([_, _])\",\"subgraph_callable-e441921a-b98c-4305-82f1-de1b2ba0(subgraph_callable-4e806165-3ea6-4bef-a64a-5ee3f0f9(...))\",\"mean_combine([_, _])\",\"mean_agg([_, _])\",\"mean_agg([_, _])\",\"mean_agg([_, _])\",\"subgraph_callable-e441921a-b98c-4305-82f1-de1b2ba0(subgraph_callable-4e806165-3ea6-4bef-a64a-5ee3f0f9(...))\",\"subgraph_callable-e441921a-b98c-4305-82f1-de1b2ba0(subgraph_callable-4e806165-3ea6-4bef-a64a-5ee3f0f9(...))\",\"subgraph_callable-e441921a-b98c-4305-82f1-de1b2ba0(subgraph_callable-4e806165-3ea6-4bef-a64a-5ee3f0f9(...))\",\"_\",\"mean_combine([_, _])\",\"mean_agg([_, _])\",\"subgraph_callable-e441921a-b98c-4305-82f1-de1b2ba0(subgraph_callable-4e806165-3ea6-4bef-a64a-5ee3f0f9(...))\",\"_\",\"mean_combine([_, _])\",\"mean_agg([_, _])\",\"_\",\"subgraph_callable-e441921a-b98c-4305-82f1-de1b2ba0(subgraph_callable-4e806165-3ea6-4bef-a64a-5ee3f0f9(...))\",\"_\",\"_\",\"mean_combine([_, _])\",\"mean_combine([_, _])\",\"mean_combine([_, _])\",\"mean_agg([_, _])\",\"_\",\"_\",\"mean_agg([_, _])\",\"mean_agg([_, _])\",\"subgraph_callable-e441921a-b98c-4305-82f1-de1b2ba0(subgraph_callable-4e806165-3ea6-4bef-a64a-5ee3f0f9(...))\",\"mean_combine([_, _])\",\"mean_combine([_, _])\",\"subgraph_callable-e441921a-b98c-4305-82f1-de1b2ba0(subgraph_callable-4e806165-3ea6-4bef-a64a-5ee3f0f9(...))\",\"subgraph_callable-e441921a-b98c-4305-82f1-de1b2ba0(subgraph_callable-4e806165-3ea6-4bef-a64a-5ee3f0f9(...))\",\"_\",\"mean_agg([_, _])\",\"mean_agg([_, _])\",\"mean_combine([_, _])\",\"subgraph_callable-e441921a-b98c-4305-82f1-de1b2ba0(subgraph_callable-4e806165-3ea6-4bef-a64a-5ee3f0f9(...))\",\"subgraph_callable-e441921a-b98c-4305-82f1-de1b2ba0(subgraph_callable-4e806165-3ea6-4bef-a64a-5ee3f0f9(...))\",\"mean_agg([_, _])\",\"subgraph_callable-e441921a-b98c-4305-82f1-de1b2ba0(subgraph_callable-4e806165-3ea6-4bef-a64a-5ee3f0f9(...))\",\"_\",\"mean_combine([_, _])\",\"mean_agg([_, _])\",\"subgraph_callable-e441921a-b98c-4305-82f1-de1b2ba0(subgraph_callable-4e806165-3ea6-4bef-a64a-5ee3f0f9(...))\",\"_\",\"mean_combine([_, _])\",\"mean_agg([_, _])\",\"subgraph_callable-e441921a-b98c-4305-82f1-de1b2ba0(subgraph_callable-4e806165-3ea6-4bef-a64a-5ee3f0f9(...))\",\"_\",\"mean_combine([_, _])\",\"_\",\"mean_agg([_, _])\",\"mean_combine([_, _])\",\"subgraph_callable-e441921a-b98c-4305-82f1-de1b2ba0(subgraph_callable-4e806165-3ea6-4bef-a64a-5ee3f0f9(...))\",\"_\",\"mean_agg([_, _])\",\"_\",\"_\",\"_\",\"mean_combine([_, _])\",\"subgraph_callable-e441921a-b98c-4305-82f1-de1b2ba0(subgraph_callable-4e806165-3ea6-4bef-a64a-5ee3f0f9(...))\",\"mean_combine([_, _])\",\"mean_combine([_, _])\",\"mean_combine([_, _])\",\"mean_agg([_, _])\",\"mean_agg([_, _])\",\"mean_agg([_, _])\",\"mean_agg([_, _])\",\"subgraph_callable-e441921a-b98c-4305-82f1-de1b2ba0(subgraph_callable-4e806165-3ea6-4bef-a64a-5ee3f0f9(...))\",\"subgraph_callable-e441921a-b98c-4305-82f1-de1b2ba0(subgraph_callable-4e806165-3ea6-4bef-a64a-5ee3f0f9(...))\",\"subgraph_callable-e441921a-b98c-4305-82f1-de1b2ba0(subgraph_callable-4e806165-3ea6-4bef-a64a-5ee3f0f9(...))\",\"subgraph_callable-e441921a-b98c-4305-82f1-de1b2ba0(subgraph_callable-4e806165-3ea6-4bef-a64a-5ee3f0f9(...))\",\"_\",\"mean_combine([_, _])\",\"mean_agg([_, _])\",\"subgraph_callable-e441921a-b98c-4305-82f1-de1b2ba0(subgraph_callable-4e806165-3ea6-4bef-a64a-5ee3f0f9(...))\",\"_\",\"mean_combine([_, _])\",\"mean_agg([_, _])\",\"_\",\"subgraph_callable-e441921a-b98c-4305-82f1-de1b2ba0(subgraph_callable-4e806165-3ea6-4bef-a64a-5ee3f0f9(...))\",\"mean_combine([_, _])\",\"mean_agg([_, _])\",\"subgraph_callable-e441921a-b98c-4305-82f1-de1b2ba0(subgraph_callable-4e806165-3ea6-4bef-a64a-5ee3f0f9(...))\",\"_\",\"_\",\"_\",\"mean_combine([_, _])\",\"mean_combine([_, _])\",\"mean_combine([_, _])\",\"mean_agg([_, _])\",\"mean_agg([_, _])\",\"subgraph_callable-e441921a-b98c-4305-82f1-de1b2ba0(subgraph_callable-4e806165-3ea6-4bef-a64a-5ee3f0f9(...))\",\"mean_agg([_, _])\",\"_\",\"_\",\"mean_combine([_, _])\",\"mean_combine([_, _])\",\"mean_agg([_, _])\",\"mean_agg([_, _])\",\"_\",\"_\",\"mean_combine([_, _])\",\"mean_combine([_, _])\",\"mean_agg([_, _])\",\"mean_agg([_, _])\",\"_\",\"mean_combine([_, _])\",\"mean_agg([_, _])\",\"_\",\"mean_combine([_, _])\",\"mean_agg([_, _])\"]],[\"color\",[\"#3B518A\",\"#3B518A\",\"#3B518A\",\"#3B518A\",\"#440154\",\"#440154\",\"#440154\",\"#440154\",\"#FDE724\",\"#FDE724\",\"#FDE724\",\"#FDE724\",\"#FDE724\",\"#FDE724\",\"#FDE724\",\"#FDE724\",\"#440154\",\"#FDE724\",\"#440154\",\"#440154\",\"#FDE724\",\"#FDE724\",\"#440154\",\"#FDE724\",\"#440154\",\"#FDE724\",\"#440154\",\"#440154\",\"#FDE724\",\"#5BC862\",\"#FDE724\",\"#440154\",\"#5BC862\",\"#208F8C\",\"#FDE724\",\"#440154\",\"#440154\",\"#FDE724\",\"#FDE724\",\"#440154\",\"#FDE724\",\"#440154\",\"#440154\",\"#440154\",\"#FDE724\",\"#FDE724\",\"#FDE724\",\"#440154\",\"#440154\",\"#FDE724\",\"#FDE724\",\"#440154\",\"#FDE724\",\"#440154\",\"#440154\",\"#FDE724\",\"#440154\",\"#FDE724\",\"#FDE724\",\"#440154\",\"#440154\",\"#FDE724\",\"#440154\",\"#440154\",\"#FDE724\",\"#FDE724\",\"#FDE724\",\"#440154\",\"#440154\",\"#FDE724\",\"#FDE724\",\"#440154\",\"#FDE724\",\"#440154\",\"#440154\",\"#440154\",\"#440154\",\"#FDE724\",\"#FDE724\",\"#FDE724\",\"#FDE724\",\"#440154\",\"#FDE724\",\"#440154\",\"#FDE724\",\"#440154\",\"#FDE724\",\"#440154\",\"#440154\",\"#440154\",\"#FDE724\",\"#FDE724\",\"#FDE724\",\"#440154\",\"#440154\",\"#440154\",\"#FDE724\",\"#FDE724\",\"#FDE724\",\"#440154\",\"#FDE724\",\"#440154\",\"#FDE724\",\"#440154\",\"#440154\",\"#440154\",\"#FDE724\",\"#FDE724\",\"#FDE724\",\"#440154\",\"#440154\",\"#FDE724\",\"#FDE724\",\"#440154\",\"#FDE724\",\"#440154\",\"#FDE724\",\"#440154\",\"#FDE724\",\"#440154\",\"#FDE724\",\"#440154\",\"#440154\",\"#440154\",\"#FDE724\",\"#FDE724\",\"#440154\",\"#FDE724\",\"#440154\",\"#FDE724\",\"#FDE724\",\"#440154\",\"#5BC862\",\"#FDE724\",\"#440154\",\"#440154\",\"#5BC862\",\"#5BC862\",\"#440154\",\"#FDE724\",\"#FDE724\",\"#5BC862\",\"#440154\",\"#440154\",\"#FDE724\",\"#5BC862\",\"#440154\",\"#5BC862\",\"#FDE724\",\"#440154\",\"#5BC862\",\"#FDE724\",\"#5BC862\",\"#FDE724\",\"#FDE724\",\"#440154\",\"#5BC862\",\"#FDE724\",\"#440154\",\"#5BC862\",\"#440154\",\"#FDE724\",\"#5BC862\",\"#FDE724\",\"#440154\",\"#5BC862\",\"#440154\",\"#FDE724\",\"#5BC862\",\"#440154\",\"#FDE724\",\"#5BC862\",\"#FDE724\",\"#440154\",\"#440154\",\"#5BC862\",\"#5BC862\",\"#FDE724\",\"#FDE724\",\"#440154\",\"#5BC862\",\"#440154\",\"#FDE724\",\"#440154\",\"#5BC862\",\"#440154\",\"#5BC862\",\"#440154\",\"#FDE724\",\"#5BC862\",\"#FDE724\",\"#5BC862\",\"#440154\",\"#FDE724\",\"#440154\",\"#440154\",\"#FDE724\",\"#5BC862\",\"#5BC862\",\"#5BC862\",\"#FDE724\",\"#FDE724\",\"#FDE724\",\"#440154\",\"#440154\",\"#5BC862\",\"#5BC862\",\"#440154\",\"#FDE724\",\"#FDE724\",\"#5BC862\",\"#440154\",\"#440154\",\"#440154\",\"#FDE724\",\"#440154\",\"#5BC862\",\"#5BC862\",\"#440154\",\"#5BC862\",\"#5BC862\",\"#FDE724\",\"#FDE724\",\"#5BC862\",\"#FDE724\",\"#FDE724\",\"#FDE724\",\"#440154\",\"#5BC862\",\"#440154\",\"#440154\",\"#FDE724\",\"#440154\",\"#5BC862\",\"#5BC862\",\"#440154\",\"#440154\",\"#5BC862\",\"#FDE724\",\"#440154\",\"#FDE724\",\"#440154\",\"#5BC862\",\"#5BC862\",\"#FDE724\",\"#5BC862\",\"#5BC862\",\"#FDE724\",\"#FDE724\",\"#FDE724\",\"#FDE724\",\"#440154\",\"#5BC862\",\"#FDE724\",\"#440154\",\"#440154\",\"#5BC862\",\"#440154\",\"#5BC862\",\"#440154\",\"#FDE724\",\"#5BC862\",\"#FDE724\",\"#440154\",\"#5BC862\",\"#440154\",\"#440154\",\"#FDE724\",\"#5BC862\",\"#FDE724\",\"#5BC862\",\"#5BC862\",\"#FDE724\",\"#FDE724\",\"#FDE724\",\"#440154\",\"#5BC862\",\"#208F8C\",\"#FDE724\",\"#440154\",\"#FDE724\",\"#440154\",\"#440154\",\"#5BC862\",\"#5BC862\",\"#208F8C\",\"#208F8C\",\"#FDE724\",\"#FDE724\",\"#440154\",\"#440154\",\"#FDE724\",\"#440154\",\"#5BC862\",\"#440154\",\"#FDE724\",\"#208F8C\",\"#FDE724\",\"#FDE724\",\"#440154\",\"#FDE724\",\"#440154\",\"#FDE724\",\"#440154\",\"#440154\",\"#440154\",\"#FDE724\",\"#440154\",\"#FDE724\",\"#FDE724\",\"#FDE724\",\"#440154\",\"#FDE724\",\"#440154\",\"#FDE724\",\"#440154\",\"#FDE724\",\"#440154\",\"#FDE724\",\"#440154\",\"#440154\",\"#440154\",\"#440154\",\"#440154\",\"#FDE724\",\"#FDE724\",\"#FDE724\",\"#FDE724\",\"#FDE724\",\"#440154\",\"#FDE724\",\"#440154\",\"#FDE724\",\"#440154\",\"#FDE724\",\"#440154\",\"#FDE724\",\"#440154\",\"#440154\",\"#FDE724\",\"#FDE724\",\"#440154\",\"#440154\",\"#440154\",\"#FDE724\",\"#FDE724\",\"#FDE724\",\"#440154\",\"#FDE724\",\"#440154\",\"#FDE724\",\"#440154\",\"#440154\",\"#FDE724\",\"#FDE724\",\"#440154\",\"#440154\",\"#FDE724\",\"#FDE724\",\"#440154\",\"#FDE724\",\"#440154\",\"#FDE724\",\"#440154\",\"#FDE724\",\"#440154\",\"#FDE724\",\"#440154\",\"#FDE724\",\"#440154\",\"#440154\",\"#FDE724\",\"#FDE724\",\"#440154\",\"#440154\",\"#FDE724\",\"#FDE724\",\"#440154\",\"#FDE724\",\"#440154\",\"#440154\",\"#5BC862\",\"#5BC862\",\"#208F8C\",\"#440154\",\"#208F8C\",\"#FDE724\",\"#5BC862\",\"#FDE724\",\"#440154\",\"#208F8C\",\"#5BC862\",\"#440154\",\"#FDE724\",\"#440154\",\"#208F8C\",\"#5BC862\",\"#5BC862\",\"#FDE724\",\"#208F8C\",\"#208F8C\",\"#FDE724\",\"#FDE724\",\"#440154\",\"#5BC862\",\"#440154\",\"#208F8C\",\"#5BC862\",\"#FDE724\",\"#208F8C\",\"#FDE724\",\"#440154\",\"#440154\",\"#5BC862\",\"#5BC862\",\"#208F8C\",\"#208F8C\",\"#FDE724\",\"#440154\",\"#FDE724\",\"#5BC862\",\"#440154\",\"#208F8C\",\"#5BC862\",\"#FDE724\",\"#208F8C\",\"#440154\",\"#FDE724\",\"#5BC862\",\"#440154\",\"#440154\",\"#208F8C\",\"#440154\",\"#5BC862\",\"#5BC862\",\"#FDE724\",\"#5BC862\",\"#208F8C\",\"#208F8C\",\"#208F8C\",\"#FDE724\",\"#FDE724\",\"#FDE724\",\"#440154\",\"#5BC862\",\"#208F8C\",\"#FDE724\",\"#440154\",\"#5BC862\",\"#208F8C\",\"#440154\",\"#FDE724\",\"#440154\",\"#440154\",\"#5BC862\",\"#5BC862\",\"#5BC862\",\"#208F8C\",\"#440154\",\"#440154\",\"#208F8C\",\"#208F8C\",\"#FDE724\",\"#5BC862\",\"#5BC862\",\"#FDE724\",\"#FDE724\",\"#440154\",\"#208F8C\",\"#208F8C\",\"#5BC862\",\"#FDE724\",\"#FDE724\",\"#208F8C\",\"#FDE724\",\"#440154\",\"#5BC862\",\"#208F8C\",\"#FDE724\",\"#440154\",\"#5BC862\",\"#208F8C\",\"#FDE724\",\"#440154\",\"#5BC862\",\"#440154\",\"#208F8C\",\"#5BC862\",\"#FDE724\",\"#440154\",\"#208F8C\",\"#440154\",\"#440154\",\"#440154\",\"#5BC862\",\"#FDE724\",\"#5BC862\",\"#5BC862\",\"#5BC862\",\"#208F8C\",\"#208F8C\",\"#208F8C\",\"#208F8C\",\"#FDE724\",\"#FDE724\",\"#FDE724\",\"#FDE724\",\"#440154\",\"#5BC862\",\"#208F8C\",\"#FDE724\",\"#440154\",\"#5BC862\",\"#208F8C\",\"#440154\",\"#FDE724\",\"#5BC862\",\"#208F8C\",\"#FDE724\",\"#440154\",\"#440154\",\"#440154\",\"#5BC862\",\"#5BC862\",\"#5BC862\",\"#208F8C\",\"#208F8C\",\"#FDE724\",\"#208F8C\",\"#440154\",\"#440154\",\"#5BC862\",\"#5BC862\",\"#208F8C\",\"#208F8C\",\"#440154\",\"#440154\",\"#5BC862\",\"#5BC862\",\"#208F8C\",\"#208F8C\",\"#440154\",\"#5BC862\",\"#208F8C\",\"#440154\",\"#5BC862\",\"#208F8C\"]],[\"key\",[\"('concatenate-from-value-wrap_with_array-getitem-6a08419995f8e463e701ac91a3ef0d0f', 1, 0)\",\"('concatenate-from-value-wrap_with_array-getitem-6a08419995f8e463e701ac91a3ef0d0f', 0, 0)\",\"('concatenate-from-value-wrap_with_array-getitem-6a08419995f8e463e701ac91a3ef0d0f', 2, 0)\",\"('concatenate-from-value-wrap_with_array-getitem-6a08419995f8e463e701ac91a3ef0d0f', 3, 0)\",\"('getitem-6a08419995f8e463e701ac91a3ef0d0f', 1, 0)\",\"('getitem-6a08419995f8e463e701ac91a3ef0d0f', 0, 0)\",\"('getitem-6a08419995f8e463e701ac91a3ef0d0f', 2, 0)\",\"('getitem-6a08419995f8e463e701ac91a3ef0d0f', 3, 0)\",\"('apply_transform-diffraction_pattern-getitem-integrate_fourier_space-mean_chunk-d2fb13c60786b1e09f47cdb04629cdbe', 1, 0, 0)\",\"('apply_transform-diffraction_pattern-getitem-integrate_fourier_space-mean_chunk-d2fb13c60786b1e09f47cdb04629cdbe', 1, 1, 1)\",\"('apply_transform-diffraction_pattern-getitem-integrate_fourier_space-mean_chunk-d2fb13c60786b1e09f47cdb04629cdbe', 1, 2, 2)\",\"('apply_transform-diffraction_pattern-getitem-integrate_fourier_space-mean_chunk-d2fb13c60786b1e09f47cdb04629cdbe', 1, 3, 3)\",\"('apply_transform-diffraction_pattern-getitem-integrate_fourier_space-mean_chunk-d2fb13c60786b1e09f47cdb04629cdbe', 1, 4, 4)\",\"('apply_transform-diffraction_pattern-getitem-integrate_fourier_space-mean_chunk-d2fb13c60786b1e09f47cdb04629cdbe', 0, 0, 0)\",\"('apply_transform-diffraction_pattern-getitem-integrate_fourier_space-mean_chunk-d2fb13c60786b1e09f47cdb04629cdbe', 2, 0, 0)\",\"('apply_transform-diffraction_pattern-getitem-integrate_fourier_space-mean_chunk-d2fb13c60786b1e09f47cdb04629cdbe', 3, 0, 0)\",\"('mean_chunk-d2fb13c60786b1e09f47cdb04629cdbe', 2, 0, 0)\",\"('apply_transform-diffraction_pattern-getitem-integrate_fourier_space-mean_chunk-d2fb13c60786b1e09f47cdb04629cdbe', 3, 1, 1)\",\"('mean_chunk-d2fb13c60786b1e09f47cdb04629cdbe', 1, 0, 0)\",\"('mean_chunk-d2fb13c60786b1e09f47cdb04629cdbe', 1, 2, 2)\",\"('apply_transform-diffraction_pattern-getitem-integrate_fourier_space-mean_chunk-d2fb13c60786b1e09f47cdb04629cdbe', 3, 2, 2)\",\"('apply_transform-diffraction_pattern-getitem-integrate_fourier_space-mean_chunk-d2fb13c60786b1e09f47cdb04629cdbe', 3, 3, 3)\",\"('mean_chunk-d2fb13c60786b1e09f47cdb04629cdbe', 1, 4, 4)\",\"('apply_transform-diffraction_pattern-getitem-integrate_fourier_space-mean_chunk-d2fb13c60786b1e09f47cdb04629cdbe', 3, 4, 4)\",\"('mean_chunk-d2fb13c60786b1e09f47cdb04629cdbe', 1, 1, 1)\",\"('apply_transform-diffraction_pattern-getitem-integrate_fourier_space-mean_chunk-d2fb13c60786b1e09f47cdb04629cdbe', 3, 5, 5)\",\"('mean_chunk-d2fb13c60786b1e09f47cdb04629cdbe', 1, 3, 3)\",\"('mean_chunk-d2fb13c60786b1e09f47cdb04629cdbe', 0, 0, 0)\",\"('apply_transform-diffraction_pattern-getitem-integrate_fourier_space-mean_chunk-d2fb13c60786b1e09f47cdb04629cdbe', 3, 6, 6)\",\"('mean_combine-partial-717c6d8e52e79abdccc2476af93828b1', 0, 0, 0)\",\"('apply_transform-diffraction_pattern-getitem-integrate_fourier_space-mean_chunk-d2fb13c60786b1e09f47cdb04629cdbe', 3, 0, 1)\",\"('mean_chunk-d2fb13c60786b1e09f47cdb04629cdbe', 3, 0, 0)\",\"('mean_combine-partial-717c6d8e52e79abdccc2476af93828b1', 1, 0, 0)\",\"('mean_agg-aggregate-3dfbceea41b814e0bfe733373a5b3ac5', 0, 0)\",\"('apply_transform-diffraction_pattern-getitem-integrate_fourier_space-mean_chunk-d2fb13c60786b1e09f47cdb04629cdbe', 3, 0, 2)\",\"('mean_chunk-d2fb13c60786b1e09f47cdb04629cdbe', 3, 4, 4)\",\"('mean_chunk-d2fb13c60786b1e09f47cdb04629cdbe', 3, 2, 2)\",\"('apply_transform-diffraction_pattern-getitem-integrate_fourier_space-mean_chunk-d2fb13c60786b1e09f47cdb04629cdbe', 3, 0, 3)\",\"('apply_transform-diffraction_pattern-getitem-integrate_fourier_space-mean_chunk-d2fb13c60786b1e09f47cdb04629cdbe', 3, 0, 4)\",\"('mean_chunk-d2fb13c60786b1e09f47cdb04629cdbe', 3, 1, 1)\",\"('apply_transform-diffraction_pattern-getitem-integrate_fourier_space-mean_chunk-d2fb13c60786b1e09f47cdb04629cdbe', 3, 0, 5)\",\"('mean_chunk-d2fb13c60786b1e09f47cdb04629cdbe', 3, 3, 3)\",\"('mean_chunk-d2fb13c60786b1e09f47cdb04629cdbe', 3, 6, 6)\",\"('mean_chunk-d2fb13c60786b1e09f47cdb04629cdbe', 3, 0, 2)\",\"('apply_transform-diffraction_pattern-getitem-integrate_fourier_space-mean_chunk-d2fb13c60786b1e09f47cdb04629cdbe', 3, 0, 6)\",\"('apply_transform-diffraction_pattern-getitem-integrate_fourier_space-mean_chunk-d2fb13c60786b1e09f47cdb04629cdbe', 3, 1, 0)\",\"('apply_transform-diffraction_pattern-getitem-integrate_fourier_space-mean_chunk-d2fb13c60786b1e09f47cdb04629cdbe', 3, 1, 2)\",\"('mean_chunk-d2fb13c60786b1e09f47cdb04629cdbe', 3, 5, 5)\",\"('mean_chunk-d2fb13c60786b1e09f47cdb04629cdbe', 3, 0, 1)\",\"('apply_transform-diffraction_pattern-getitem-integrate_fourier_space-mean_chunk-d2fb13c60786b1e09f47cdb04629cdbe', 3, 1, 3)\",\"('apply_transform-diffraction_pattern-getitem-integrate_fourier_space-mean_chunk-d2fb13c60786b1e09f47cdb04629cdbe', 3, 1, 4)\",\"('mean_chunk-d2fb13c60786b1e09f47cdb04629cdbe', 3, 0, 5)\",\"('apply_transform-diffraction_pattern-getitem-integrate_fourier_space-mean_chunk-d2fb13c60786b1e09f47cdb04629cdbe', 3, 1, 5)\",\"('mean_chunk-d2fb13c60786b1e09f47cdb04629cdbe', 3, 0, 3)\",\"('mean_chunk-d2fb13c60786b1e09f47cdb04629cdbe', 3, 0, 4)\",\"('apply_transform-diffraction_pattern-getitem-integrate_fourier_space-mean_chunk-d2fb13c60786b1e09f47cdb04629cdbe', 3, 1, 6)\",\"('mean_chunk-d2fb13c60786b1e09f47cdb04629cdbe', 3, 1, 0)\",\"('apply_transform-diffraction_pattern-getitem-integrate_fourier_space-mean_chunk-d2fb13c60786b1e09f47cdb04629cdbe', 3, 2, 0)\",\"('apply_transform-diffraction_pattern-getitem-integrate_fourier_space-mean_chunk-d2fb13c60786b1e09f47cdb04629cdbe', 3, 2, 1)\",\"('mean_chunk-d2fb13c60786b1e09f47cdb04629cdbe', 3, 1, 2)\",\"('mean_chunk-d2fb13c60786b1e09f47cdb04629cdbe', 3, 0, 6)\",\"('apply_transform-diffraction_pattern-getitem-integrate_fourier_space-mean_chunk-d2fb13c60786b1e09f47cdb04629cdbe', 3, 2, 3)\",\"('mean_chunk-d2fb13c60786b1e09f47cdb04629cdbe', 3, 1, 3)\",\"('mean_chunk-d2fb13c60786b1e09f47cdb04629cdbe', 3, 1, 4)\",\"('apply_transform-diffraction_pattern-getitem-integrate_fourier_space-mean_chunk-d2fb13c60786b1e09f47cdb04629cdbe', 3, 2, 4)\",\"('apply_transform-diffraction_pattern-getitem-integrate_fourier_space-mean_chunk-d2fb13c60786b1e09f47cdb04629cdbe', 3, 2, 5)\",\"('apply_transform-diffraction_pattern-getitem-integrate_fourier_space-mean_chunk-d2fb13c60786b1e09f47cdb04629cdbe', 3, 2, 6)\",\"('mean_chunk-d2fb13c60786b1e09f47cdb04629cdbe', 3, 1, 5)\",\"('mean_chunk-d2fb13c60786b1e09f47cdb04629cdbe', 3, 2, 0)\",\"('apply_transform-diffraction_pattern-getitem-integrate_fourier_space-mean_chunk-d2fb13c60786b1e09f47cdb04629cdbe', 3, 3, 0)\",\"('apply_transform-diffraction_pattern-getitem-integrate_fourier_space-mean_chunk-d2fb13c60786b1e09f47cdb04629cdbe', 3, 3, 1)\",\"('mean_chunk-d2fb13c60786b1e09f47cdb04629cdbe', 3, 1, 6)\",\"('apply_transform-diffraction_pattern-getitem-integrate_fourier_space-mean_chunk-d2fb13c60786b1e09f47cdb04629cdbe', 3, 3, 2)\",\"('mean_chunk-d2fb13c60786b1e09f47cdb04629cdbe', 3, 2, 3)\",\"('mean_chunk-d2fb13c60786b1e09f47cdb04629cdbe', 3, 2, 6)\",\"('mean_chunk-d2fb13c60786b1e09f47cdb04629cdbe', 3, 2, 5)\",\"('mean_chunk-d2fb13c60786b1e09f47cdb04629cdbe', 3, 2, 4)\",\"('apply_transform-diffraction_pattern-getitem-integrate_fourier_space-mean_chunk-d2fb13c60786b1e09f47cdb04629cdbe', 3, 3, 4)\",\"('apply_transform-diffraction_pattern-getitem-integrate_fourier_space-mean_chunk-d2fb13c60786b1e09f47cdb04629cdbe', 3, 3, 5)\",\"('apply_transform-diffraction_pattern-getitem-integrate_fourier_space-mean_chunk-d2fb13c60786b1e09f47cdb04629cdbe', 3, 3, 6)\",\"('apply_transform-diffraction_pattern-getitem-integrate_fourier_space-mean_chunk-d2fb13c60786b1e09f47cdb04629cdbe', 3, 4, 0)\",\"('mean_chunk-d2fb13c60786b1e09f47cdb04629cdbe', 3, 2, 1)\",\"('apply_transform-diffraction_pattern-getitem-integrate_fourier_space-mean_chunk-d2fb13c60786b1e09f47cdb04629cdbe', 3, 4, 1)\",\"('mean_chunk-d2fb13c60786b1e09f47cdb04629cdbe', 3, 3, 0)\",\"('apply_transform-diffraction_pattern-getitem-integrate_fourier_space-mean_chunk-d2fb13c60786b1e09f47cdb04629cdbe', 3, 4, 2)\",\"('mean_chunk-d2fb13c60786b1e09f47cdb04629cdbe', 3, 4, 1)\",\"('apply_transform-diffraction_pattern-getitem-integrate_fourier_space-mean_chunk-d2fb13c60786b1e09f47cdb04629cdbe', 3, 4, 3)\",\"('mean_chunk-d2fb13c60786b1e09f47cdb04629cdbe', 3, 3, 1)\",\"('mean_chunk-d2fb13c60786b1e09f47cdb04629cdbe', 3, 3, 2)\",\"('mean_chunk-d2fb13c60786b1e09f47cdb04629cdbe', 3, 3, 6)\",\"('apply_transform-diffraction_pattern-getitem-integrate_fourier_space-mean_chunk-d2fb13c60786b1e09f47cdb04629cdbe', 3, 4, 5)\",\"('apply_transform-diffraction_pattern-getitem-integrate_fourier_space-mean_chunk-d2fb13c60786b1e09f47cdb04629cdbe', 3, 4, 6)\",\"('apply_transform-diffraction_pattern-getitem-integrate_fourier_space-mean_chunk-d2fb13c60786b1e09f47cdb04629cdbe', 3, 5, 0)\",\"('mean_chunk-d2fb13c60786b1e09f47cdb04629cdbe', 3, 4, 0)\",\"('mean_chunk-d2fb13c60786b1e09f47cdb04629cdbe', 3, 3, 5)\",\"('mean_chunk-d2fb13c60786b1e09f47cdb04629cdbe', 3, 3, 4)\",\"('apply_transform-diffraction_pattern-getitem-integrate_fourier_space-mean_chunk-d2fb13c60786b1e09f47cdb04629cdbe', 3, 5, 1)\",\"('apply_transform-diffraction_pattern-getitem-integrate_fourier_space-mean_chunk-d2fb13c60786b1e09f47cdb04629cdbe', 3, 5, 2)\",\"('apply_transform-diffraction_pattern-getitem-integrate_fourier_space-mean_chunk-d2fb13c60786b1e09f47cdb04629cdbe', 3, 5, 3)\",\"('mean_chunk-d2fb13c60786b1e09f47cdb04629cdbe', 3, 4, 2)\",\"('apply_transform-diffraction_pattern-getitem-integrate_fourier_space-mean_chunk-d2fb13c60786b1e09f47cdb04629cdbe', 3, 5, 4)\",\"('mean_chunk-d2fb13c60786b1e09f47cdb04629cdbe', 3, 4, 3)\",\"('apply_transform-diffraction_pattern-getitem-integrate_fourier_space-mean_chunk-d2fb13c60786b1e09f47cdb04629cdbe', 3, 5, 6)\",\"('mean_chunk-d2fb13c60786b1e09f47cdb04629cdbe', 3, 4, 6)\",\"('mean_chunk-d2fb13c60786b1e09f47cdb04629cdbe', 3, 5, 3)\",\"('mean_chunk-d2fb13c60786b1e09f47cdb04629cdbe', 3, 5, 0)\",\"('apply_transform-diffraction_pattern-getitem-integrate_fourier_space-mean_chunk-d2fb13c60786b1e09f47cdb04629cdbe', 3, 6, 0)\",\"('apply_transform-diffraction_pattern-getitem-integrate_fourier_space-mean_chunk-d2fb13c60786b1e09f47cdb04629cdbe', 3, 6, 1)\",\"('apply_transform-diffraction_pattern-getitem-integrate_fourier_space-mean_chunk-d2fb13c60786b1e09f47cdb04629cdbe', 3, 6, 2)\",\"('mean_chunk-d2fb13c60786b1e09f47cdb04629cdbe', 3, 5, 1)\",\"('mean_chunk-d2fb13c60786b1e09f47cdb04629cdbe', 3, 5, 2)\",\"('apply_transform-diffraction_pattern-getitem-integrate_fourier_space-mean_chunk-d2fb13c60786b1e09f47cdb04629cdbe', 3, 6, 3)\",\"('apply_transform-diffraction_pattern-getitem-integrate_fourier_space-mean_chunk-d2fb13c60786b1e09f47cdb04629cdbe', 3, 6, 4)\",\"('mean_chunk-d2fb13c60786b1e09f47cdb04629cdbe', 3, 4, 5)\",\"('apply_transform-diffraction_pattern-getitem-integrate_fourier_space-mean_chunk-d2fb13c60786b1e09f47cdb04629cdbe', 3, 6, 5)\",\"('mean_chunk-d2fb13c60786b1e09f47cdb04629cdbe', 3, 5, 4)\",\"('apply_transform-diffraction_pattern-getitem-integrate_fourier_space-mean_chunk-d2fb13c60786b1e09f47cdb04629cdbe', 2, 1, 1)\",\"('mean_chunk-d2fb13c60786b1e09f47cdb04629cdbe', 3, 5, 6)\",\"('apply_transform-diffraction_pattern-getitem-integrate_fourier_space-mean_chunk-d2fb13c60786b1e09f47cdb04629cdbe', 2, 2, 2)\",\"('mean_chunk-d2fb13c60786b1e09f47cdb04629cdbe', 3, 6, 3)\",\"('apply_transform-diffraction_pattern-getitem-integrate_fourier_space-mean_chunk-d2fb13c60786b1e09f47cdb04629cdbe', 2, 3, 3)\",\"('mean_chunk-d2fb13c60786b1e09f47cdb04629cdbe', 3, 6, 1)\",\"('mean_chunk-d2fb13c60786b1e09f47cdb04629cdbe', 3, 6, 0)\",\"('mean_chunk-d2fb13c60786b1e09f47cdb04629cdbe', 3, 6, 2)\",\"('apply_transform-diffraction_pattern-getitem-integrate_fourier_space-mean_chunk-d2fb13c60786b1e09f47cdb04629cdbe', 2, 4, 4)\",\"('apply_transform-diffraction_pattern-getitem-integrate_fourier_space-mean_chunk-d2fb13c60786b1e09f47cdb04629cdbe', 2, 5, 5)\",\"('mean_chunk-d2fb13c60786b1e09f47cdb04629cdbe', 3, 6, 4)\",\"('apply_transform-diffraction_pattern-getitem-integrate_fourier_space-mean_chunk-d2fb13c60786b1e09f47cdb04629cdbe', 2, 6, 6)\",\"('mean_chunk-d2fb13c60786b1e09f47cdb04629cdbe', 3, 6, 5)\",\"('apply_transform-diffraction_pattern-getitem-integrate_fourier_space-mean_chunk-d2fb13c60786b1e09f47cdb04629cdbe', 2, 0, 1)\",\"('apply_transform-diffraction_pattern-getitem-integrate_fourier_space-mean_chunk-d2fb13c60786b1e09f47cdb04629cdbe', 2, 0, 2)\",\"('mean_chunk-d2fb13c60786b1e09f47cdb04629cdbe', 2, 1, 1)\",\"('mean_combine-partial-717c6d8e52e79abdccc2476af93828b1', 1, 1, 1)\",\"('apply_transform-diffraction_pattern-getitem-integrate_fourier_space-mean_chunk-d2fb13c60786b1e09f47cdb04629cdbe', 2, 0, 3)\",\"('mean_chunk-d2fb13c60786b1e09f47cdb04629cdbe', 2, 0, 2)\",\"('mean_chunk-d2fb13c60786b1e09f47cdb04629cdbe', 2, 4, 4)\",\"('mean_combine-partial-717c6d8e52e79abdccc2476af93828b1', 1, 0, 2)\",\"('mean_combine-partial-717c6d8e52e79abdccc2476af93828b1', 1, 4, 4)\",\"('mean_chunk-d2fb13c60786b1e09f47cdb04629cdbe', 2, 5, 5)\",\"('apply_transform-diffraction_pattern-getitem-integrate_fourier_space-mean_chunk-d2fb13c60786b1e09f47cdb04629cdbe', 2, 0, 4)\",\"('apply_transform-diffraction_pattern-getitem-integrate_fourier_space-mean_chunk-d2fb13c60786b1e09f47cdb04629cdbe', 2, 0, 5)\",\"('mean_combine-partial-717c6d8e52e79abdccc2476af93828b1', 1, 5, 5)\",\"('mean_chunk-d2fb13c60786b1e09f47cdb04629cdbe', 2, 2, 2)\",\"('mean_chunk-d2fb13c60786b1e09f47cdb04629cdbe', 2, 0, 1)\",\"('apply_transform-diffraction_pattern-getitem-integrate_fourier_space-mean_chunk-d2fb13c60786b1e09f47cdb04629cdbe', 2, 0, 6)\",\"('mean_combine-partial-717c6d8e52e79abdccc2476af93828b1', 1, 2, 2)\",\"('mean_chunk-d2fb13c60786b1e09f47cdb04629cdbe', 2, 3, 3)\",\"('mean_combine-partial-717c6d8e52e79abdccc2476af93828b1', 1, 0, 1)\",\"('apply_transform-diffraction_pattern-getitem-integrate_fourier_space-mean_chunk-d2fb13c60786b1e09f47cdb04629cdbe', 2, 1, 0)\",\"('mean_chunk-d2fb13c60786b1e09f47cdb04629cdbe', 2, 6, 6)\",\"('mean_combine-partial-717c6d8e52e79abdccc2476af93828b1', 1, 3, 3)\",\"('apply_transform-diffraction_pattern-getitem-integrate_fourier_space-mean_chunk-d2fb13c60786b1e09f47cdb04629cdbe', 2, 1, 2)\",\"('mean_combine-partial-717c6d8e52e79abdccc2476af93828b1', 1, 6, 6)\",\"('apply_transform-diffraction_pattern-getitem-integrate_fourier_space-mean_chunk-d2fb13c60786b1e09f47cdb04629cdbe', 2, 1, 3)\",\"('apply_transform-diffraction_pattern-getitem-integrate_fourier_space-mean_chunk-d2fb13c60786b1e09f47cdb04629cdbe', 2, 1, 4)\",\"('mean_chunk-d2fb13c60786b1e09f47cdb04629cdbe', 2, 0, 3)\",\"('mean_combine-partial-717c6d8e52e79abdccc2476af93828b1', 1, 0, 3)\",\"('apply_transform-diffraction_pattern-getitem-integrate_fourier_space-mean_chunk-d2fb13c60786b1e09f47cdb04629cdbe', 2, 1, 5)\",\"('mean_chunk-d2fb13c60786b1e09f47cdb04629cdbe', 2, 0, 4)\",\"('mean_combine-partial-717c6d8e52e79abdccc2476af93828b1', 1, 0, 4)\",\"('mean_chunk-d2fb13c60786b1e09f47cdb04629cdbe', 2, 0, 6)\",\"('apply_transform-diffraction_pattern-getitem-integrate_fourier_space-mean_chunk-d2fb13c60786b1e09f47cdb04629cdbe', 2, 1, 6)\",\"('mean_combine-partial-717c6d8e52e79abdccc2476af93828b1', 1, 0, 6)\",\"('apply_transform-diffraction_pattern-getitem-integrate_fourier_space-mean_chunk-d2fb13c60786b1e09f47cdb04629cdbe', 2, 2, 0)\",\"('mean_chunk-d2fb13c60786b1e09f47cdb04629cdbe', 2, 1, 2)\",\"('mean_combine-partial-717c6d8e52e79abdccc2476af93828b1', 1, 1, 2)\",\"('mean_chunk-d2fb13c60786b1e09f47cdb04629cdbe', 2, 1, 3)\",\"('apply_transform-diffraction_pattern-getitem-integrate_fourier_space-mean_chunk-d2fb13c60786b1e09f47cdb04629cdbe', 2, 2, 1)\",\"('mean_combine-partial-717c6d8e52e79abdccc2476af93828b1', 1, 1, 3)\",\"('mean_chunk-d2fb13c60786b1e09f47cdb04629cdbe', 2, 1, 4)\",\"('apply_transform-diffraction_pattern-getitem-integrate_fourier_space-mean_chunk-d2fb13c60786b1e09f47cdb04629cdbe', 2, 2, 3)\",\"('mean_combine-partial-717c6d8e52e79abdccc2476af93828b1', 1, 1, 4)\",\"('apply_transform-diffraction_pattern-getitem-integrate_fourier_space-mean_chunk-d2fb13c60786b1e09f47cdb04629cdbe', 2, 2, 4)\",\"('mean_chunk-d2fb13c60786b1e09f47cdb04629cdbe', 2, 0, 5)\",\"('mean_chunk-d2fb13c60786b1e09f47cdb04629cdbe', 2, 1, 0)\",\"('mean_combine-partial-717c6d8e52e79abdccc2476af93828b1', 1, 0, 5)\",\"('mean_combine-partial-717c6d8e52e79abdccc2476af93828b1', 1, 1, 0)\",\"('apply_transform-diffraction_pattern-getitem-integrate_fourier_space-mean_chunk-d2fb13c60786b1e09f47cdb04629cdbe', 2, 2, 5)\",\"('apply_transform-diffraction_pattern-getitem-integrate_fourier_space-mean_chunk-d2fb13c60786b1e09f47cdb04629cdbe', 2, 2, 6)\",\"('mean_chunk-d2fb13c60786b1e09f47cdb04629cdbe', 2, 2, 0)\",\"('mean_combine-partial-717c6d8e52e79abdccc2476af93828b1', 1, 2, 0)\",\"('mean_chunk-d2fb13c60786b1e09f47cdb04629cdbe', 2, 1, 5)\",\"('apply_transform-diffraction_pattern-getitem-integrate_fourier_space-mean_chunk-d2fb13c60786b1e09f47cdb04629cdbe', 2, 3, 0)\",\"('mean_chunk-d2fb13c60786b1e09f47cdb04629cdbe', 2, 2, 1)\",\"('mean_combine-partial-717c6d8e52e79abdccc2476af93828b1', 1, 1, 5)\",\"('mean_chunk-d2fb13c60786b1e09f47cdb04629cdbe', 2, 2, 6)\",\"('mean_combine-partial-717c6d8e52e79abdccc2476af93828b1', 1, 2, 1)\",\"('mean_chunk-d2fb13c60786b1e09f47cdb04629cdbe', 2, 2, 3)\",\"('apply_transform-diffraction_pattern-getitem-integrate_fourier_space-mean_chunk-d2fb13c60786b1e09f47cdb04629cdbe', 2, 3, 1)\",\"('mean_combine-partial-717c6d8e52e79abdccc2476af93828b1', 1, 2, 6)\",\"('apply_transform-diffraction_pattern-getitem-integrate_fourier_space-mean_chunk-d2fb13c60786b1e09f47cdb04629cdbe', 2, 3, 2)\",\"('mean_combine-partial-717c6d8e52e79abdccc2476af93828b1', 1, 2, 3)\",\"('mean_chunk-d2fb13c60786b1e09f47cdb04629cdbe', 2, 1, 6)\",\"('apply_transform-diffraction_pattern-getitem-integrate_fourier_space-mean_chunk-d2fb13c60786b1e09f47cdb04629cdbe', 2, 3, 4)\",\"('mean_chunk-d2fb13c60786b1e09f47cdb04629cdbe', 2, 2, 5)\",\"('mean_chunk-d2fb13c60786b1e09f47cdb04629cdbe', 2, 2, 4)\",\"('apply_transform-diffraction_pattern-getitem-integrate_fourier_space-mean_chunk-d2fb13c60786b1e09f47cdb04629cdbe', 2, 3, 5)\",\"('mean_combine-partial-717c6d8e52e79abdccc2476af93828b1', 1, 1, 6)\",\"('mean_combine-partial-717c6d8e52e79abdccc2476af93828b1', 1, 2, 5)\",\"('mean_combine-partial-717c6d8e52e79abdccc2476af93828b1', 1, 2, 4)\",\"('apply_transform-diffraction_pattern-getitem-integrate_fourier_space-mean_chunk-d2fb13c60786b1e09f47cdb04629cdbe', 2, 3, 6)\",\"('apply_transform-diffraction_pattern-getitem-integrate_fourier_space-mean_chunk-d2fb13c60786b1e09f47cdb04629cdbe', 2, 4, 0)\",\"('apply_transform-diffraction_pattern-getitem-integrate_fourier_space-mean_chunk-d2fb13c60786b1e09f47cdb04629cdbe', 2, 4, 1)\",\"('mean_chunk-d2fb13c60786b1e09f47cdb04629cdbe', 2, 3, 2)\",\"('mean_chunk-d2fb13c60786b1e09f47cdb04629cdbe', 2, 3, 0)\",\"('mean_combine-partial-717c6d8e52e79abdccc2476af93828b1', 1, 3, 2)\",\"('mean_combine-partial-717c6d8e52e79abdccc2476af93828b1', 1, 3, 0)\",\"('mean_chunk-d2fb13c60786b1e09f47cdb04629cdbe', 2, 3, 1)\",\"('apply_transform-diffraction_pattern-getitem-integrate_fourier_space-mean_chunk-d2fb13c60786b1e09f47cdb04629cdbe', 2, 4, 2)\",\"('apply_transform-diffraction_pattern-getitem-integrate_fourier_space-mean_chunk-d2fb13c60786b1e09f47cdb04629cdbe', 2, 4, 3)\",\"('mean_combine-partial-717c6d8e52e79abdccc2476af93828b1', 1, 3, 1)\",\"('mean_chunk-d2fb13c60786b1e09f47cdb04629cdbe', 2, 3, 4)\",\"('mean_chunk-d2fb13c60786b1e09f47cdb04629cdbe', 2, 3, 5)\",\"('mean_chunk-d2fb13c60786b1e09f47cdb04629cdbe', 2, 4, 1)\",\"('apply_transform-diffraction_pattern-getitem-integrate_fourier_space-mean_chunk-d2fb13c60786b1e09f47cdb04629cdbe', 2, 4, 5)\",\"('mean_chunk-d2fb13c60786b1e09f47cdb04629cdbe', 2, 3, 6)\",\"('mean_combine-partial-717c6d8e52e79abdccc2476af93828b1', 1, 3, 4)\",\"('mean_combine-partial-717c6d8e52e79abdccc2476af93828b1', 1, 3, 5)\",\"('mean_chunk-d2fb13c60786b1e09f47cdb04629cdbe', 2, 4, 0)\",\"('mean_combine-partial-717c6d8e52e79abdccc2476af93828b1', 1, 4, 1)\",\"('mean_combine-partial-717c6d8e52e79abdccc2476af93828b1', 1, 3, 6)\",\"('apply_transform-diffraction_pattern-getitem-integrate_fourier_space-mean_chunk-d2fb13c60786b1e09f47cdb04629cdbe', 2, 4, 6)\",\"('apply_transform-diffraction_pattern-getitem-integrate_fourier_space-mean_chunk-d2fb13c60786b1e09f47cdb04629cdbe', 2, 5, 0)\",\"('mean_combine-partial-717c6d8e52e79abdccc2476af93828b1', 1, 4, 0)\",\"('apply_transform-diffraction_pattern-getitem-integrate_fourier_space-mean_chunk-d2fb13c60786b1e09f47cdb04629cdbe', 2, 5, 1)\",\"('apply_transform-diffraction_pattern-getitem-integrate_fourier_space-mean_chunk-d2fb13c60786b1e09f47cdb04629cdbe', 2, 5, 2)\",\"('apply_transform-diffraction_pattern-getitem-integrate_fourier_space-mean_chunk-d2fb13c60786b1e09f47cdb04629cdbe', 2, 5, 3)\",\"('mean_chunk-d2fb13c60786b1e09f47cdb04629cdbe', 2, 4, 3)\",\"('mean_combine-partial-717c6d8e52e79abdccc2476af93828b1', 1, 4, 3)\",\"('mean_chunk-d2fb13c60786b1e09f47cdb04629cdbe', 2, 5, 0)\",\"('mean_chunk-d2fb13c60786b1e09f47cdb04629cdbe', 2, 4, 6)\",\"('apply_transform-diffraction_pattern-getitem-integrate_fourier_space-mean_chunk-d2fb13c60786b1e09f47cdb04629cdbe', 2, 5, 4)\",\"('mean_chunk-d2fb13c60786b1e09f47cdb04629cdbe', 2, 4, 2)\",\"('mean_combine-partial-717c6d8e52e79abdccc2476af93828b1', 1, 5, 0)\",\"('mean_combine-partial-717c6d8e52e79abdccc2476af93828b1', 1, 4, 6)\",\"('mean_chunk-d2fb13c60786b1e09f47cdb04629cdbe', 2, 5, 1)\",\"('mean_chunk-d2fb13c60786b1e09f47cdb04629cdbe', 2, 4, 5)\",\"('mean_combine-partial-717c6d8e52e79abdccc2476af93828b1', 1, 4, 2)\",\"('apply_transform-diffraction_pattern-getitem-integrate_fourier_space-mean_chunk-d2fb13c60786b1e09f47cdb04629cdbe', 2, 5, 6)\",\"('mean_chunk-d2fb13c60786b1e09f47cdb04629cdbe', 2, 5, 2)\",\"('apply_transform-diffraction_pattern-getitem-integrate_fourier_space-mean_chunk-d2fb13c60786b1e09f47cdb04629cdbe', 2, 6, 0)\",\"('mean_chunk-d2fb13c60786b1e09f47cdb04629cdbe', 2, 5, 3)\",\"('mean_combine-partial-717c6d8e52e79abdccc2476af93828b1', 1, 5, 1)\",\"('mean_combine-partial-717c6d8e52e79abdccc2476af93828b1', 1, 4, 5)\",\"('apply_transform-diffraction_pattern-getitem-integrate_fourier_space-mean_chunk-d2fb13c60786b1e09f47cdb04629cdbe', 2, 6, 1)\",\"('mean_combine-partial-717c6d8e52e79abdccc2476af93828b1', 1, 5, 2)\",\"('mean_combine-partial-717c6d8e52e79abdccc2476af93828b1', 1, 5, 3)\",\"('apply_transform-diffraction_pattern-getitem-integrate_fourier_space-mean_chunk-d2fb13c60786b1e09f47cdb04629cdbe', 2, 6, 2)\",\"('apply_transform-diffraction_pattern-getitem-integrate_fourier_space-mean_chunk-d2fb13c60786b1e09f47cdb04629cdbe', 2, 6, 3)\",\"('apply_transform-diffraction_pattern-getitem-integrate_fourier_space-mean_chunk-d2fb13c60786b1e09f47cdb04629cdbe', 2, 6, 4)\",\"('apply_transform-diffraction_pattern-getitem-integrate_fourier_space-mean_chunk-d2fb13c60786b1e09f47cdb04629cdbe', 2, 6, 5)\",\"('mean_chunk-d2fb13c60786b1e09f47cdb04629cdbe', 2, 6, 3)\",\"('mean_combine-partial-717c6d8e52e79abdccc2476af93828b1', 1, 6, 3)\",\"('apply_transform-diffraction_pattern-getitem-integrate_fourier_space-mean_chunk-d2fb13c60786b1e09f47cdb04629cdbe', 0, 1, 1)\",\"('mean_chunk-d2fb13c60786b1e09f47cdb04629cdbe', 2, 6, 0)\",\"('mean_chunk-d2fb13c60786b1e09f47cdb04629cdbe', 2, 5, 6)\",\"('mean_combine-partial-717c6d8e52e79abdccc2476af93828b1', 1, 6, 0)\",\"('mean_chunk-d2fb13c60786b1e09f47cdb04629cdbe', 2, 5, 4)\",\"('mean_combine-partial-717c6d8e52e79abdccc2476af93828b1', 1, 5, 6)\",\"('mean_chunk-d2fb13c60786b1e09f47cdb04629cdbe', 2, 6, 1)\",\"('apply_transform-diffraction_pattern-getitem-integrate_fourier_space-mean_chunk-d2fb13c60786b1e09f47cdb04629cdbe', 0, 2, 2)\",\"('mean_combine-partial-717c6d8e52e79abdccc2476af93828b1', 1, 5, 4)\",\"('apply_transform-diffraction_pattern-getitem-integrate_fourier_space-mean_chunk-d2fb13c60786b1e09f47cdb04629cdbe', 0, 3, 3)\",\"('mean_chunk-d2fb13c60786b1e09f47cdb04629cdbe', 2, 6, 4)\",\"('mean_combine-partial-717c6d8e52e79abdccc2476af93828b1', 1, 6, 1)\",\"('mean_chunk-d2fb13c60786b1e09f47cdb04629cdbe', 2, 6, 2)\",\"('mean_chunk-d2fb13c60786b1e09f47cdb04629cdbe', 2, 6, 5)\",\"('apply_transform-diffraction_pattern-getitem-integrate_fourier_space-mean_chunk-d2fb13c60786b1e09f47cdb04629cdbe', 0, 4, 4)\",\"('mean_combine-partial-717c6d8e52e79abdccc2476af93828b1', 1, 6, 4)\",\"('apply_transform-diffraction_pattern-getitem-integrate_fourier_space-mean_chunk-d2fb13c60786b1e09f47cdb04629cdbe', 0, 5, 5)\",\"('mean_combine-partial-717c6d8e52e79abdccc2476af93828b1', 1, 6, 2)\",\"('mean_combine-partial-717c6d8e52e79abdccc2476af93828b1', 1, 6, 5)\",\"('apply_transform-diffraction_pattern-getitem-integrate_fourier_space-mean_chunk-d2fb13c60786b1e09f47cdb04629cdbe', 0, 6, 6)\",\"('apply_transform-diffraction_pattern-getitem-integrate_fourier_space-mean_chunk-d2fb13c60786b1e09f47cdb04629cdbe', 0, 0, 1)\",\"('apply_transform-diffraction_pattern-getitem-integrate_fourier_space-mean_chunk-d2fb13c60786b1e09f47cdb04629cdbe', 0, 0, 2)\",\"('mean_chunk-d2fb13c60786b1e09f47cdb04629cdbe', 0, 1, 1)\",\"('mean_combine-partial-717c6d8e52e79abdccc2476af93828b1', 0, 1, 1)\",\"('mean_agg-aggregate-3dfbceea41b814e0bfe733373a5b3ac5', 1, 1)\",\"('apply_transform-diffraction_pattern-getitem-integrate_fourier_space-mean_chunk-d2fb13c60786b1e09f47cdb04629cdbe', 0, 0, 3)\",\"('mean_chunk-d2fb13c60786b1e09f47cdb04629cdbe', 0, 6, 6)\",\"('apply_transform-diffraction_pattern-getitem-integrate_fourier_space-mean_chunk-d2fb13c60786b1e09f47cdb04629cdbe', 0, 0, 4)\",\"('mean_chunk-d2fb13c60786b1e09f47cdb04629cdbe', 0, 4, 4)\",\"('mean_chunk-d2fb13c60786b1e09f47cdb04629cdbe', 0, 3, 3)\",\"('mean_combine-partial-717c6d8e52e79abdccc2476af93828b1', 0, 4, 4)\",\"('mean_combine-partial-717c6d8e52e79abdccc2476af93828b1', 0, 3, 3)\",\"('mean_agg-aggregate-3dfbceea41b814e0bfe733373a5b3ac5', 4, 4)\",\"('mean_agg-aggregate-3dfbceea41b814e0bfe733373a5b3ac5', 3, 3)\",\"('apply_transform-diffraction_pattern-getitem-integrate_fourier_space-mean_chunk-d2fb13c60786b1e09f47cdb04629cdbe', 0, 0, 5)\",\"('apply_transform-diffraction_pattern-getitem-integrate_fourier_space-mean_chunk-d2fb13c60786b1e09f47cdb04629cdbe', 0, 0, 6)\",\"('mean_chunk-d2fb13c60786b1e09f47cdb04629cdbe', 0, 0, 2)\",\"('mean_chunk-d2fb13c60786b1e09f47cdb04629cdbe', 0, 2, 2)\",\"('apply_transform-diffraction_pattern-getitem-integrate_fourier_space-mean_chunk-d2fb13c60786b1e09f47cdb04629cdbe', 0, 1, 0)\",\"('mean_chunk-d2fb13c60786b1e09f47cdb04629cdbe', 0, 5, 5)\",\"('mean_combine-partial-717c6d8e52e79abdccc2476af93828b1', 0, 2, 2)\",\"('mean_chunk-d2fb13c60786b1e09f47cdb04629cdbe', 0, 0, 1)\",\"('apply_transform-diffraction_pattern-getitem-integrate_fourier_space-mean_chunk-d2fb13c60786b1e09f47cdb04629cdbe', 0, 1, 2)\",\"('mean_agg-aggregate-3dfbceea41b814e0bfe733373a5b3ac5', 2, 2)\",\"('apply_transform-diffraction_pattern-getitem-integrate_fourier_space-mean_chunk-d2fb13c60786b1e09f47cdb04629cdbe', 0, 1, 3)\",\"('apply_transform-diffraction_pattern-getitem-integrate_fourier_space-mean_chunk-d2fb13c60786b1e09f47cdb04629cdbe', 0, 1, 4)\",\"('mean_chunk-d2fb13c60786b1e09f47cdb04629cdbe', 0, 0, 3)\",\"('apply_transform-diffraction_pattern-getitem-integrate_fourier_space-mean_chunk-d2fb13c60786b1e09f47cdb04629cdbe', 0, 1, 5)\",\"('mean_chunk-d2fb13c60786b1e09f47cdb04629cdbe', 0, 1, 0)\",\"('apply_transform-diffraction_pattern-getitem-integrate_fourier_space-mean_chunk-d2fb13c60786b1e09f47cdb04629cdbe', 0, 1, 6)\",\"('mean_chunk-d2fb13c60786b1e09f47cdb04629cdbe', 0, 0, 5)\",\"('mean_chunk-d2fb13c60786b1e09f47cdb04629cdbe', 0, 0, 4)\",\"('mean_chunk-d2fb13c60786b1e09f47cdb04629cdbe', 0, 0, 6)\",\"('apply_transform-diffraction_pattern-getitem-integrate_fourier_space-mean_chunk-d2fb13c60786b1e09f47cdb04629cdbe', 0, 2, 0)\",\"('mean_chunk-d2fb13c60786b1e09f47cdb04629cdbe', 0, 1, 4)\",\"('apply_transform-diffraction_pattern-getitem-integrate_fourier_space-mean_chunk-d2fb13c60786b1e09f47cdb04629cdbe', 0, 2, 1)\",\"('apply_transform-diffraction_pattern-getitem-integrate_fourier_space-mean_chunk-d2fb13c60786b1e09f47cdb04629cdbe', 0, 2, 3)\",\"('apply_transform-diffraction_pattern-getitem-integrate_fourier_space-mean_chunk-d2fb13c60786b1e09f47cdb04629cdbe', 0, 2, 4)\",\"('mean_chunk-d2fb13c60786b1e09f47cdb04629cdbe', 0, 1, 2)\",\"('apply_transform-diffraction_pattern-getitem-integrate_fourier_space-mean_chunk-d2fb13c60786b1e09f47cdb04629cdbe', 0, 2, 5)\",\"('mean_chunk-d2fb13c60786b1e09f47cdb04629cdbe', 0, 1, 3)\",\"('apply_transform-diffraction_pattern-getitem-integrate_fourier_space-mean_chunk-d2fb13c60786b1e09f47cdb04629cdbe', 0, 2, 6)\",\"('mean_chunk-d2fb13c60786b1e09f47cdb04629cdbe', 0, 1, 6)\",\"('apply_transform-diffraction_pattern-getitem-integrate_fourier_space-mean_chunk-d2fb13c60786b1e09f47cdb04629cdbe', 0, 3, 0)\",\"('mean_chunk-d2fb13c60786b1e09f47cdb04629cdbe', 0, 1, 5)\",\"('apply_transform-diffraction_pattern-getitem-integrate_fourier_space-mean_chunk-d2fb13c60786b1e09f47cdb04629cdbe', 0, 3, 1)\",\"('mean_chunk-d2fb13c60786b1e09f47cdb04629cdbe', 0, 2, 4)\",\"('mean_chunk-d2fb13c60786b1e09f47cdb04629cdbe', 0, 2, 0)\",\"('mean_chunk-d2fb13c60786b1e09f47cdb04629cdbe', 0, 2, 5)\",\"('mean_chunk-d2fb13c60786b1e09f47cdb04629cdbe', 0, 2, 3)\",\"('mean_chunk-d2fb13c60786b1e09f47cdb04629cdbe', 0, 2, 1)\",\"('apply_transform-diffraction_pattern-getitem-integrate_fourier_space-mean_chunk-d2fb13c60786b1e09f47cdb04629cdbe', 0, 3, 2)\",\"('apply_transform-diffraction_pattern-getitem-integrate_fourier_space-mean_chunk-d2fb13c60786b1e09f47cdb04629cdbe', 0, 3, 4)\",\"('apply_transform-diffraction_pattern-getitem-integrate_fourier_space-mean_chunk-d2fb13c60786b1e09f47cdb04629cdbe', 0, 3, 5)\",\"('apply_transform-diffraction_pattern-getitem-integrate_fourier_space-mean_chunk-d2fb13c60786b1e09f47cdb04629cdbe', 0, 3, 6)\",\"('apply_transform-diffraction_pattern-getitem-integrate_fourier_space-mean_chunk-d2fb13c60786b1e09f47cdb04629cdbe', 0, 4, 0)\",\"('mean_chunk-d2fb13c60786b1e09f47cdb04629cdbe', 0, 2, 6)\",\"('apply_transform-diffraction_pattern-getitem-integrate_fourier_space-mean_chunk-d2fb13c60786b1e09f47cdb04629cdbe', 0, 4, 1)\",\"('mean_chunk-d2fb13c60786b1e09f47cdb04629cdbe', 0, 3, 0)\",\"('apply_transform-diffraction_pattern-getitem-integrate_fourier_space-mean_chunk-d2fb13c60786b1e09f47cdb04629cdbe', 0, 4, 2)\",\"('mean_chunk-d2fb13c60786b1e09f47cdb04629cdbe', 0, 3, 1)\",\"('apply_transform-diffraction_pattern-getitem-integrate_fourier_space-mean_chunk-d2fb13c60786b1e09f47cdb04629cdbe', 0, 4, 3)\",\"('mean_chunk-d2fb13c60786b1e09f47cdb04629cdbe', 0, 3, 2)\",\"('apply_transform-diffraction_pattern-getitem-integrate_fourier_space-mean_chunk-d2fb13c60786b1e09f47cdb04629cdbe', 0, 4, 5)\",\"('mean_chunk-d2fb13c60786b1e09f47cdb04629cdbe', 0, 3, 6)\",\"('mean_chunk-d2fb13c60786b1e09f47cdb04629cdbe', 0, 4, 0)\",\"('apply_transform-diffraction_pattern-getitem-integrate_fourier_space-mean_chunk-d2fb13c60786b1e09f47cdb04629cdbe', 0, 4, 6)\",\"('apply_transform-diffraction_pattern-getitem-integrate_fourier_space-mean_chunk-d2fb13c60786b1e09f47cdb04629cdbe', 0, 5, 0)\",\"('mean_chunk-d2fb13c60786b1e09f47cdb04629cdbe', 0, 3, 4)\",\"('mean_chunk-d2fb13c60786b1e09f47cdb04629cdbe', 0, 3, 5)\",\"('mean_chunk-d2fb13c60786b1e09f47cdb04629cdbe', 0, 4, 1)\",\"('apply_transform-diffraction_pattern-getitem-integrate_fourier_space-mean_chunk-d2fb13c60786b1e09f47cdb04629cdbe', 0, 5, 1)\",\"('apply_transform-diffraction_pattern-getitem-integrate_fourier_space-mean_chunk-d2fb13c60786b1e09f47cdb04629cdbe', 0, 5, 2)\",\"('apply_transform-diffraction_pattern-getitem-integrate_fourier_space-mean_chunk-d2fb13c60786b1e09f47cdb04629cdbe', 0, 5, 3)\",\"('mean_chunk-d2fb13c60786b1e09f47cdb04629cdbe', 0, 4, 2)\",\"('apply_transform-diffraction_pattern-getitem-integrate_fourier_space-mean_chunk-d2fb13c60786b1e09f47cdb04629cdbe', 0, 5, 4)\",\"('mean_chunk-d2fb13c60786b1e09f47cdb04629cdbe', 0, 4, 3)\",\"('apply_transform-diffraction_pattern-getitem-integrate_fourier_space-mean_chunk-d2fb13c60786b1e09f47cdb04629cdbe', 0, 5, 6)\",\"('mean_chunk-d2fb13c60786b1e09f47cdb04629cdbe', 0, 5, 3)\",\"('mean_chunk-d2fb13c60786b1e09f47cdb04629cdbe', 0, 5, 2)\",\"('apply_transform-diffraction_pattern-getitem-integrate_fourier_space-mean_chunk-d2fb13c60786b1e09f47cdb04629cdbe', 0, 6, 0)\",\"('apply_transform-diffraction_pattern-getitem-integrate_fourier_space-mean_chunk-d2fb13c60786b1e09f47cdb04629cdbe', 0, 6, 1)\",\"('mean_chunk-d2fb13c60786b1e09f47cdb04629cdbe', 0, 4, 6)\",\"('mean_chunk-d2fb13c60786b1e09f47cdb04629cdbe', 0, 4, 5)\",\"('apply_transform-diffraction_pattern-getitem-integrate_fourier_space-mean_chunk-d2fb13c60786b1e09f47cdb04629cdbe', 0, 6, 2)\",\"('apply_transform-diffraction_pattern-getitem-integrate_fourier_space-mean_chunk-d2fb13c60786b1e09f47cdb04629cdbe', 0, 6, 3)\",\"('mean_chunk-d2fb13c60786b1e09f47cdb04629cdbe', 0, 5, 0)\",\"('apply_transform-diffraction_pattern-getitem-integrate_fourier_space-mean_chunk-d2fb13c60786b1e09f47cdb04629cdbe', 0, 6, 4)\",\"('mean_chunk-d2fb13c60786b1e09f47cdb04629cdbe', 0, 5, 1)\",\"('apply_transform-diffraction_pattern-getitem-integrate_fourier_space-mean_chunk-d2fb13c60786b1e09f47cdb04629cdbe', 0, 6, 5)\",\"('mean_chunk-d2fb13c60786b1e09f47cdb04629cdbe', 0, 5, 4)\",\"('apply_transform-diffraction_pattern-getitem-integrate_fourier_space-mean_chunk-d2fb13c60786b1e09f47cdb04629cdbe', 1, 5, 5)\",\"('mean_chunk-d2fb13c60786b1e09f47cdb04629cdbe', 0, 6, 1)\",\"('apply_transform-diffraction_pattern-getitem-integrate_fourier_space-mean_chunk-d2fb13c60786b1e09f47cdb04629cdbe', 1, 6, 6)\",\"('mean_chunk-d2fb13c60786b1e09f47cdb04629cdbe', 0, 5, 6)\",\"('apply_transform-diffraction_pattern-getitem-integrate_fourier_space-mean_chunk-d2fb13c60786b1e09f47cdb04629cdbe', 1, 0, 1)\",\"('mean_chunk-d2fb13c60786b1e09f47cdb04629cdbe', 0, 6, 0)\",\"('mean_chunk-d2fb13c60786b1e09f47cdb04629cdbe', 0, 6, 3)\",\"('apply_transform-diffraction_pattern-getitem-integrate_fourier_space-mean_chunk-d2fb13c60786b1e09f47cdb04629cdbe', 1, 0, 2)\",\"('apply_transform-diffraction_pattern-getitem-integrate_fourier_space-mean_chunk-d2fb13c60786b1e09f47cdb04629cdbe', 1, 0, 3)\",\"('mean_chunk-d2fb13c60786b1e09f47cdb04629cdbe', 0, 6, 4)\",\"('mean_chunk-d2fb13c60786b1e09f47cdb04629cdbe', 0, 6, 2)\",\"('apply_transform-diffraction_pattern-getitem-integrate_fourier_space-mean_chunk-d2fb13c60786b1e09f47cdb04629cdbe', 1, 0, 4)\",\"('apply_transform-diffraction_pattern-getitem-integrate_fourier_space-mean_chunk-d2fb13c60786b1e09f47cdb04629cdbe', 1, 0, 5)\",\"('mean_chunk-d2fb13c60786b1e09f47cdb04629cdbe', 0, 6, 5)\",\"('apply_transform-diffraction_pattern-getitem-integrate_fourier_space-mean_chunk-d2fb13c60786b1e09f47cdb04629cdbe', 1, 0, 6)\",\"('mean_chunk-d2fb13c60786b1e09f47cdb04629cdbe', 1, 5, 5)\",\"('mean_chunk-d2fb13c60786b1e09f47cdb04629cdbe', 1, 6, 6)\",\"('mean_combine-partial-717c6d8e52e79abdccc2476af93828b1', 0, 5, 5)\",\"('mean_combine-partial-717c6d8e52e79abdccc2476af93828b1', 0, 6, 6)\",\"('mean_agg-aggregate-3dfbceea41b814e0bfe733373a5b3ac5', 5, 5)\",\"('mean_chunk-d2fb13c60786b1e09f47cdb04629cdbe', 1, 0, 3)\",\"('mean_agg-aggregate-3dfbceea41b814e0bfe733373a5b3ac5', 6, 6)\",\"('apply_transform-diffraction_pattern-getitem-integrate_fourier_space-mean_chunk-d2fb13c60786b1e09f47cdb04629cdbe', 1, 1, 0)\",\"('mean_combine-partial-717c6d8e52e79abdccc2476af93828b1', 0, 0, 3)\",\"('apply_transform-diffraction_pattern-getitem-integrate_fourier_space-mean_chunk-d2fb13c60786b1e09f47cdb04629cdbe', 1, 1, 2)\",\"('mean_chunk-d2fb13c60786b1e09f47cdb04629cdbe', 1, 0, 2)\",\"('mean_agg-aggregate-3dfbceea41b814e0bfe733373a5b3ac5', 0, 3)\",\"('mean_combine-partial-717c6d8e52e79abdccc2476af93828b1', 0, 0, 2)\",\"('mean_chunk-d2fb13c60786b1e09f47cdb04629cdbe', 1, 0, 1)\",\"('apply_transform-diffraction_pattern-getitem-integrate_fourier_space-mean_chunk-d2fb13c60786b1e09f47cdb04629cdbe', 1, 1, 3)\",\"('mean_chunk-d2fb13c60786b1e09f47cdb04629cdbe', 1, 0, 4)\",\"('mean_agg-aggregate-3dfbceea41b814e0bfe733373a5b3ac5', 0, 2)\",\"('mean_combine-partial-717c6d8e52e79abdccc2476af93828b1', 0, 0, 1)\",\"('mean_combine-partial-717c6d8e52e79abdccc2476af93828b1', 0, 0, 4)\",\"('apply_transform-diffraction_pattern-getitem-integrate_fourier_space-mean_chunk-d2fb13c60786b1e09f47cdb04629cdbe', 1, 1, 4)\",\"('mean_agg-aggregate-3dfbceea41b814e0bfe733373a5b3ac5', 0, 1)\",\"('mean_agg-aggregate-3dfbceea41b814e0bfe733373a5b3ac5', 0, 4)\",\"('apply_transform-diffraction_pattern-getitem-integrate_fourier_space-mean_chunk-d2fb13c60786b1e09f47cdb04629cdbe', 1, 1, 5)\",\"('apply_transform-diffraction_pattern-getitem-integrate_fourier_space-mean_chunk-d2fb13c60786b1e09f47cdb04629cdbe', 1, 1, 6)\",\"('mean_chunk-d2fb13c60786b1e09f47cdb04629cdbe', 1, 0, 5)\",\"('mean_combine-partial-717c6d8e52e79abdccc2476af93828b1', 0, 0, 5)\",\"('mean_chunk-d2fb13c60786b1e09f47cdb04629cdbe', 1, 0, 6)\",\"('mean_agg-aggregate-3dfbceea41b814e0bfe733373a5b3ac5', 0, 5)\",\"('mean_combine-partial-717c6d8e52e79abdccc2476af93828b1', 0, 0, 6)\",\"('apply_transform-diffraction_pattern-getitem-integrate_fourier_space-mean_chunk-d2fb13c60786b1e09f47cdb04629cdbe', 1, 2, 0)\",\"('mean_agg-aggregate-3dfbceea41b814e0bfe733373a5b3ac5', 0, 6)\",\"('apply_transform-diffraction_pattern-getitem-integrate_fourier_space-mean_chunk-d2fb13c60786b1e09f47cdb04629cdbe', 1, 2, 1)\",\"('mean_chunk-d2fb13c60786b1e09f47cdb04629cdbe', 1, 1, 0)\",\"('mean_chunk-d2fb13c60786b1e09f47cdb04629cdbe', 1, 1, 3)\",\"('mean_combine-partial-717c6d8e52e79abdccc2476af93828b1', 0, 1, 0)\",\"('mean_combine-partial-717c6d8e52e79abdccc2476af93828b1', 0, 1, 3)\",\"('mean_agg-aggregate-3dfbceea41b814e0bfe733373a5b3ac5', 1, 0)\",\"('mean_agg-aggregate-3dfbceea41b814e0bfe733373a5b3ac5', 1, 3)\",\"('apply_transform-diffraction_pattern-getitem-integrate_fourier_space-mean_chunk-d2fb13c60786b1e09f47cdb04629cdbe', 1, 2, 3)\",\"('mean_chunk-d2fb13c60786b1e09f47cdb04629cdbe', 1, 1, 5)\",\"('apply_transform-diffraction_pattern-getitem-integrate_fourier_space-mean_chunk-d2fb13c60786b1e09f47cdb04629cdbe', 1, 2, 4)\",\"('mean_combine-partial-717c6d8e52e79abdccc2476af93828b1', 0, 1, 5)\",\"('mean_chunk-d2fb13c60786b1e09f47cdb04629cdbe', 1, 1, 2)\",\"('mean_agg-aggregate-3dfbceea41b814e0bfe733373a5b3ac5', 1, 5)\",\"('mean_combine-partial-717c6d8e52e79abdccc2476af93828b1', 0, 1, 2)\",\"('apply_transform-diffraction_pattern-getitem-integrate_fourier_space-mean_chunk-d2fb13c60786b1e09f47cdb04629cdbe', 1, 2, 5)\",\"('mean_agg-aggregate-3dfbceea41b814e0bfe733373a5b3ac5', 1, 2)\",\"('mean_chunk-d2fb13c60786b1e09f47cdb04629cdbe', 1, 1, 4)\",\"('apply_transform-diffraction_pattern-getitem-integrate_fourier_space-mean_chunk-d2fb13c60786b1e09f47cdb04629cdbe', 1, 2, 6)\",\"('mean_combine-partial-717c6d8e52e79abdccc2476af93828b1', 0, 1, 4)\",\"('mean_chunk-d2fb13c60786b1e09f47cdb04629cdbe', 1, 1, 6)\",\"('mean_chunk-d2fb13c60786b1e09f47cdb04629cdbe', 1, 2, 0)\",\"('mean_agg-aggregate-3dfbceea41b814e0bfe733373a5b3ac5', 1, 4)\",\"('mean_chunk-d2fb13c60786b1e09f47cdb04629cdbe', 1, 2, 1)\",\"('mean_combine-partial-717c6d8e52e79abdccc2476af93828b1', 0, 1, 6)\",\"('mean_combine-partial-717c6d8e52e79abdccc2476af93828b1', 0, 2, 0)\",\"('apply_transform-diffraction_pattern-getitem-integrate_fourier_space-mean_chunk-d2fb13c60786b1e09f47cdb04629cdbe', 1, 3, 0)\",\"('mean_combine-partial-717c6d8e52e79abdccc2476af93828b1', 0, 2, 1)\",\"('mean_agg-aggregate-3dfbceea41b814e0bfe733373a5b3ac5', 1, 6)\",\"('mean_agg-aggregate-3dfbceea41b814e0bfe733373a5b3ac5', 2, 0)\",\"('mean_agg-aggregate-3dfbceea41b814e0bfe733373a5b3ac5', 2, 1)\",\"('apply_transform-diffraction_pattern-getitem-integrate_fourier_space-mean_chunk-d2fb13c60786b1e09f47cdb04629cdbe', 1, 3, 1)\",\"('apply_transform-diffraction_pattern-getitem-integrate_fourier_space-mean_chunk-d2fb13c60786b1e09f47cdb04629cdbe', 1, 3, 2)\",\"('apply_transform-diffraction_pattern-getitem-integrate_fourier_space-mean_chunk-d2fb13c60786b1e09f47cdb04629cdbe', 1, 3, 4)\",\"('mean_chunk-d2fb13c60786b1e09f47cdb04629cdbe', 1, 2, 5)\",\"('mean_combine-partial-717c6d8e52e79abdccc2476af93828b1', 0, 2, 5)\",\"('mean_agg-aggregate-3dfbceea41b814e0bfe733373a5b3ac5', 2, 5)\",\"('apply_transform-diffraction_pattern-getitem-integrate_fourier_space-mean_chunk-d2fb13c60786b1e09f47cdb04629cdbe', 1, 3, 5)\",\"('mean_chunk-d2fb13c60786b1e09f47cdb04629cdbe', 1, 2, 3)\",\"('mean_combine-partial-717c6d8e52e79abdccc2476af93828b1', 0, 2, 3)\",\"('mean_agg-aggregate-3dfbceea41b814e0bfe733373a5b3ac5', 2, 3)\",\"('mean_chunk-d2fb13c60786b1e09f47cdb04629cdbe', 1, 2, 4)\",\"('apply_transform-diffraction_pattern-getitem-integrate_fourier_space-mean_chunk-d2fb13c60786b1e09f47cdb04629cdbe', 1, 3, 6)\",\"('mean_chunk-d2fb13c60786b1e09f47cdb04629cdbe', 1, 3, 0)\",\"('mean_chunk-d2fb13c60786b1e09f47cdb04629cdbe', 1, 2, 6)\",\"('mean_combine-partial-717c6d8e52e79abdccc2476af93828b1', 0, 2, 4)\",\"('mean_combine-partial-717c6d8e52e79abdccc2476af93828b1', 0, 3, 0)\",\"('mean_combine-partial-717c6d8e52e79abdccc2476af93828b1', 0, 2, 6)\",\"('mean_agg-aggregate-3dfbceea41b814e0bfe733373a5b3ac5', 2, 4)\",\"('mean_chunk-d2fb13c60786b1e09f47cdb04629cdbe', 1, 3, 1)\",\"('mean_chunk-d2fb13c60786b1e09f47cdb04629cdbe', 1, 3, 4)\",\"('mean_agg-aggregate-3dfbceea41b814e0bfe733373a5b3ac5', 3, 0)\",\"('mean_agg-aggregate-3dfbceea41b814e0bfe733373a5b3ac5', 2, 6)\",\"('apply_transform-diffraction_pattern-getitem-integrate_fourier_space-mean_chunk-d2fb13c60786b1e09f47cdb04629cdbe', 1, 4, 0)\",\"('mean_combine-partial-717c6d8e52e79abdccc2476af93828b1', 0, 3, 1)\",\"('mean_combine-partial-717c6d8e52e79abdccc2476af93828b1', 0, 3, 4)\",\"('apply_transform-diffraction_pattern-getitem-integrate_fourier_space-mean_chunk-d2fb13c60786b1e09f47cdb04629cdbe', 1, 4, 1)\",\"('apply_transform-diffraction_pattern-getitem-integrate_fourier_space-mean_chunk-d2fb13c60786b1e09f47cdb04629cdbe', 1, 4, 2)\",\"('mean_chunk-d2fb13c60786b1e09f47cdb04629cdbe', 1, 3, 2)\",\"('mean_agg-aggregate-3dfbceea41b814e0bfe733373a5b3ac5', 3, 1)\",\"('mean_agg-aggregate-3dfbceea41b814e0bfe733373a5b3ac5', 3, 4)\",\"('mean_combine-partial-717c6d8e52e79abdccc2476af93828b1', 0, 3, 2)\",\"('apply_transform-diffraction_pattern-getitem-integrate_fourier_space-mean_chunk-d2fb13c60786b1e09f47cdb04629cdbe', 1, 4, 3)\",\"('apply_transform-diffraction_pattern-getitem-integrate_fourier_space-mean_chunk-d2fb13c60786b1e09f47cdb04629cdbe', 1, 4, 5)\",\"('mean_agg-aggregate-3dfbceea41b814e0bfe733373a5b3ac5', 3, 2)\",\"('apply_transform-diffraction_pattern-getitem-integrate_fourier_space-mean_chunk-d2fb13c60786b1e09f47cdb04629cdbe', 1, 4, 6)\",\"('mean_chunk-d2fb13c60786b1e09f47cdb04629cdbe', 1, 3, 5)\",\"('mean_combine-partial-717c6d8e52e79abdccc2476af93828b1', 0, 3, 5)\",\"('mean_agg-aggregate-3dfbceea41b814e0bfe733373a5b3ac5', 3, 5)\",\"('apply_transform-diffraction_pattern-getitem-integrate_fourier_space-mean_chunk-d2fb13c60786b1e09f47cdb04629cdbe', 1, 5, 0)\",\"('mean_chunk-d2fb13c60786b1e09f47cdb04629cdbe', 1, 3, 6)\",\"('mean_combine-partial-717c6d8e52e79abdccc2476af93828b1', 0, 3, 6)\",\"('mean_agg-aggregate-3dfbceea41b814e0bfe733373a5b3ac5', 3, 6)\",\"('apply_transform-diffraction_pattern-getitem-integrate_fourier_space-mean_chunk-d2fb13c60786b1e09f47cdb04629cdbe', 1, 5, 1)\",\"('mean_chunk-d2fb13c60786b1e09f47cdb04629cdbe', 1, 4, 0)\",\"('mean_combine-partial-717c6d8e52e79abdccc2476af93828b1', 0, 4, 0)\",\"('mean_chunk-d2fb13c60786b1e09f47cdb04629cdbe', 1, 4, 5)\",\"('mean_agg-aggregate-3dfbceea41b814e0bfe733373a5b3ac5', 4, 0)\",\"('mean_combine-partial-717c6d8e52e79abdccc2476af93828b1', 0, 4, 5)\",\"('apply_transform-diffraction_pattern-getitem-integrate_fourier_space-mean_chunk-d2fb13c60786b1e09f47cdb04629cdbe', 1, 5, 2)\",\"('mean_chunk-d2fb13c60786b1e09f47cdb04629cdbe', 1, 4, 1)\",\"('mean_agg-aggregate-3dfbceea41b814e0bfe733373a5b3ac5', 4, 5)\",\"('mean_chunk-d2fb13c60786b1e09f47cdb04629cdbe', 1, 4, 2)\",\"('mean_chunk-d2fb13c60786b1e09f47cdb04629cdbe', 1, 4, 6)\",\"('mean_chunk-d2fb13c60786b1e09f47cdb04629cdbe', 1, 4, 3)\",\"('mean_combine-partial-717c6d8e52e79abdccc2476af93828b1', 0, 4, 1)\",\"('apply_transform-diffraction_pattern-getitem-integrate_fourier_space-mean_chunk-d2fb13c60786b1e09f47cdb04629cdbe', 1, 5, 3)\",\"('mean_combine-partial-717c6d8e52e79abdccc2476af93828b1', 0, 4, 2)\",\"('mean_combine-partial-717c6d8e52e79abdccc2476af93828b1', 0, 4, 6)\",\"('mean_combine-partial-717c6d8e52e79abdccc2476af93828b1', 0, 4, 3)\",\"('mean_agg-aggregate-3dfbceea41b814e0bfe733373a5b3ac5', 4, 1)\",\"('mean_agg-aggregate-3dfbceea41b814e0bfe733373a5b3ac5', 4, 2)\",\"('mean_agg-aggregate-3dfbceea41b814e0bfe733373a5b3ac5', 4, 6)\",\"('mean_agg-aggregate-3dfbceea41b814e0bfe733373a5b3ac5', 4, 3)\",\"('apply_transform-diffraction_pattern-getitem-integrate_fourier_space-mean_chunk-d2fb13c60786b1e09f47cdb04629cdbe', 1, 5, 4)\",\"('apply_transform-diffraction_pattern-getitem-integrate_fourier_space-mean_chunk-d2fb13c60786b1e09f47cdb04629cdbe', 1, 5, 6)\",\"('apply_transform-diffraction_pattern-getitem-integrate_fourier_space-mean_chunk-d2fb13c60786b1e09f47cdb04629cdbe', 1, 6, 0)\",\"('apply_transform-diffraction_pattern-getitem-integrate_fourier_space-mean_chunk-d2fb13c60786b1e09f47cdb04629cdbe', 1, 6, 1)\",\"('mean_chunk-d2fb13c60786b1e09f47cdb04629cdbe', 1, 5, 0)\",\"('mean_combine-partial-717c6d8e52e79abdccc2476af93828b1', 0, 5, 0)\",\"('mean_agg-aggregate-3dfbceea41b814e0bfe733373a5b3ac5', 5, 0)\",\"('apply_transform-diffraction_pattern-getitem-integrate_fourier_space-mean_chunk-d2fb13c60786b1e09f47cdb04629cdbe', 1, 6, 2)\",\"('mean_chunk-d2fb13c60786b1e09f47cdb04629cdbe', 1, 5, 1)\",\"('mean_combine-partial-717c6d8e52e79abdccc2476af93828b1', 0, 5, 1)\",\"('mean_agg-aggregate-3dfbceea41b814e0bfe733373a5b3ac5', 5, 1)\",\"('mean_chunk-d2fb13c60786b1e09f47cdb04629cdbe', 1, 5, 2)\",\"('apply_transform-diffraction_pattern-getitem-integrate_fourier_space-mean_chunk-d2fb13c60786b1e09f47cdb04629cdbe', 1, 6, 3)\",\"('mean_combine-partial-717c6d8e52e79abdccc2476af93828b1', 0, 5, 2)\",\"('mean_agg-aggregate-3dfbceea41b814e0bfe733373a5b3ac5', 5, 2)\",\"('apply_transform-diffraction_pattern-getitem-integrate_fourier_space-mean_chunk-d2fb13c60786b1e09f47cdb04629cdbe', 1, 6, 4)\",\"('mean_chunk-d2fb13c60786b1e09f47cdb04629cdbe', 1, 5, 4)\",\"('mean_chunk-d2fb13c60786b1e09f47cdb04629cdbe', 1, 5, 6)\",\"('mean_chunk-d2fb13c60786b1e09f47cdb04629cdbe', 1, 6, 0)\",\"('mean_combine-partial-717c6d8e52e79abdccc2476af93828b1', 0, 5, 4)\",\"('mean_combine-partial-717c6d8e52e79abdccc2476af93828b1', 0, 5, 6)\",\"('mean_combine-partial-717c6d8e52e79abdccc2476af93828b1', 0, 6, 0)\",\"('mean_agg-aggregate-3dfbceea41b814e0bfe733373a5b3ac5', 5, 4)\",\"('mean_agg-aggregate-3dfbceea41b814e0bfe733373a5b3ac5', 5, 6)\",\"('apply_transform-diffraction_pattern-getitem-integrate_fourier_space-mean_chunk-d2fb13c60786b1e09f47cdb04629cdbe', 1, 6, 5)\",\"('mean_agg-aggregate-3dfbceea41b814e0bfe733373a5b3ac5', 6, 0)\",\"('mean_chunk-d2fb13c60786b1e09f47cdb04629cdbe', 1, 5, 3)\",\"('mean_chunk-d2fb13c60786b1e09f47cdb04629cdbe', 1, 6, 1)\",\"('mean_combine-partial-717c6d8e52e79abdccc2476af93828b1', 0, 5, 3)\",\"('mean_combine-partial-717c6d8e52e79abdccc2476af93828b1', 0, 6, 1)\",\"('mean_agg-aggregate-3dfbceea41b814e0bfe733373a5b3ac5', 5, 3)\",\"('mean_agg-aggregate-3dfbceea41b814e0bfe733373a5b3ac5', 6, 1)\",\"('mean_chunk-d2fb13c60786b1e09f47cdb04629cdbe', 1, 6, 3)\",\"('mean_chunk-d2fb13c60786b1e09f47cdb04629cdbe', 1, 6, 2)\",\"('mean_combine-partial-717c6d8e52e79abdccc2476af93828b1', 0, 6, 3)\",\"('mean_combine-partial-717c6d8e52e79abdccc2476af93828b1', 0, 6, 2)\",\"('mean_agg-aggregate-3dfbceea41b814e0bfe733373a5b3ac5', 6, 3)\",\"('mean_agg-aggregate-3dfbceea41b814e0bfe733373a5b3ac5', 6, 2)\",\"('mean_chunk-d2fb13c60786b1e09f47cdb04629cdbe', 1, 6, 4)\",\"('mean_combine-partial-717c6d8e52e79abdccc2476af93828b1', 0, 6, 4)\",\"('mean_agg-aggregate-3dfbceea41b814e0bfe733373a5b3ac5', 6, 4)\",\"('mean_chunk-d2fb13c60786b1e09f47cdb04629cdbe', 1, 6, 5)\",\"('mean_combine-partial-717c6d8e52e79abdccc2476af93828b1', 0, 6, 5)\",\"('mean_agg-aggregate-3dfbceea41b814e0bfe733373a5b3ac5', 6, 5)\"]]]}}},\"view\":{\"type\":\"object\",\"name\":\"CDSView\",\"id\":\"p1040\",\"attributes\":{\"filter\":{\"type\":\"object\",\"name\":\"AllIndices\",\"id\":\"p1041\"}}},\"glyph\":{\"type\":\"object\",\"name\":\"Rect\",\"id\":\"p1036\",\"attributes\":{\"x\":{\"type\":\"field\",\"field\":\"x\"},\"y\":{\"type\":\"field\",\"field\":\"y\"},\"width\":{\"type\":\"field\",\"field\":\"width\"},\"height\":{\"type\":\"value\",\"value\":1},\"line_color\":{\"type\":\"value\",\"value\":\"gray\"},\"fill_color\":{\"type\":\"field\",\"field\":\"color\"},\"hatch_color\":{\"type\":\"field\",\"field\":\"color\"}}},\"nonselection_glyph\":{\"type\":\"object\",\"name\":\"Rect\",\"id\":\"p1037\",\"attributes\":{\"x\":{\"type\":\"field\",\"field\":\"x\"},\"y\":{\"type\":\"field\",\"field\":\"y\"},\"width\":{\"type\":\"field\",\"field\":\"width\"},\"height\":{\"type\":\"value\",\"value\":1},\"line_color\":{\"type\":\"value\",\"value\":\"gray\"},\"line_alpha\":{\"type\":\"value\",\"value\":0.1},\"fill_color\":{\"type\":\"field\",\"field\":\"color\"},\"fill_alpha\":{\"type\":\"value\",\"value\":0.1},\"hatch_color\":{\"type\":\"field\",\"field\":\"color\"},\"hatch_alpha\":{\"type\":\"value\",\"value\":0.1}}},\"muted_glyph\":{\"type\":\"object\",\"name\":\"Rect\",\"id\":\"p1038\",\"attributes\":{\"x\":{\"type\":\"field\",\"field\":\"x\"},\"y\":{\"type\":\"field\",\"field\":\"y\"},\"width\":{\"type\":\"field\",\"field\":\"width\"},\"height\":{\"type\":\"value\",\"value\":1},\"line_color\":{\"type\":\"value\",\"value\":\"gray\"},\"line_alpha\":{\"type\":\"value\",\"value\":0.2},\"fill_color\":{\"type\":\"field\",\"field\":\"color\"},\"fill_alpha\":{\"type\":\"value\",\"value\":0.2},\"hatch_color\":{\"type\":\"field\",\"field\":\"color\"},\"hatch_alpha\":{\"type\":\"value\",\"value\":0.2}}}}}],\"toolbar\":{\"type\":\"object\",\"name\":\"Toolbar\",\"id\":\"p1010\",\"attributes\":{\"tools\":[{\"type\":\"object\",\"name\":\"HoverTool\",\"id\":\"p1025\",\"attributes\":{\"renderers\":\"auto\",\"tooltips\":\"\\n    <div>\\n        <span style=\\\"font-size: 14px; font-weight: bold;\\\">Key:</span>&nbsp;\\n        <span style=\\\"font-size: 10px; font-family: Monaco, monospace;\\\">@key</span>\\n    </div>\\n    <div>\\n        <span style=\\\"font-size: 14px; font-weight: bold;\\\">Task:</span>&nbsp;\\n        <span style=\\\"font-size: 10px; font-family: Monaco, monospace;\\\">@function</span>\\n    </div>\\n    \",\"point_policy\":\"follow_mouse\"}},{\"type\":\"object\",\"name\":\"SaveTool\",\"id\":\"p1026\"},{\"type\":\"object\",\"name\":\"ResetTool\",\"id\":\"p1027\"},{\"type\":\"object\",\"name\":\"WheelZoomTool\",\"id\":\"p1028\",\"attributes\":{\"dimensions\":\"width\"}},{\"type\":\"object\",\"name\":\"PanTool\",\"id\":\"p1029\",\"attributes\":{\"dimensions\":\"width\"}}]}},\"toolbar_location\":\"above\",\"left\":[{\"type\":\"object\",\"name\":\"CategoricalAxis\",\"id\":\"p1020\",\"attributes\":{\"ticker\":{\"type\":\"object\",\"name\":\"CategoricalTicker\",\"id\":\"p1021\"},\"formatter\":{\"type\":\"object\",\"name\":\"CategoricalTickFormatter\",\"id\":\"p1022\"},\"axis_label\":\"Worker ID\",\"major_label_policy\":{\"type\":\"object\",\"name\":\"AllLabels\",\"id\":\"p1023\"},\"axis_line_color\":null,\"major_tick_line_color\":null}}],\"below\":[{\"type\":\"object\",\"name\":\"LinearAxis\",\"id\":\"p1015\",\"attributes\":{\"ticker\":{\"type\":\"object\",\"name\":\"BasicTicker\",\"id\":\"p1016\",\"attributes\":{\"mantissas\":[1,2,5]}},\"formatter\":{\"type\":\"object\",\"name\":\"BasicTickFormatter\",\"id\":\"p1017\"},\"axis_label\":\"Time (s)\",\"major_label_policy\":{\"type\":\"object\",\"name\":\"AllLabels\",\"id\":\"p1018\"},\"axis_line_color\":null,\"major_tick_line_color\":null}}],\"center\":[{\"type\":\"object\",\"name\":\"Grid\",\"id\":\"p1019\",\"attributes\":{\"axis\":{\"id\":\"p1015\"},\"grid_line_color\":null}},{\"type\":\"object\",\"name\":\"Grid\",\"id\":\"p1024\",\"attributes\":{\"dimension\":1,\"axis\":{\"id\":\"p1020\"},\"grid_line_color\":null}}]}}]}};\n",
       "  const render_items = [{\"docid\":\"29c8f8ee-3c94-4fed-ab20-104320c32399\",\"roots\":{\"p1001\":\"e4ec1395-5114-4873-81ca-65f852fe2584\"},\"root_ids\":[\"p1001\"]}];\n",
       "  root.Bokeh.embed.embed_items_notebook(docs_json, render_items);\n",
       "  }\n",
       "  if (root.Bokeh !== undefined) {\n",
       "    embed_document(root);\n",
       "  } else {\n",
       "    let attempts = 0;\n",
       "    const timer = setInterval(function(root) {\n",
       "      if (root.Bokeh !== undefined) {\n",
       "        clearInterval(timer);\n",
       "        embed_document(root);\n",
       "      } else {\n",
       "        attempts++;\n",
       "        if (attempts > 100) {\n",
       "          clearInterval(timer);\n",
       "          console.log(\"Bokeh: ERROR: Unable to run BokehJS code because BokehJS library is missing\");\n",
       "        }\n",
       "      }\n",
       "    }, 10, root)\n",
       "  }\n",
       "})(window);"
      ],
      "application/vnd.bokehjs_exec.v0+json": ""
     },
     "metadata": {
      "application/vnd.bokehjs_exec.v0+json": {
       "id": "p1001"
      }
     },
     "output_type": "display_data"
    }
   ],
   "source": [
    "profilers[0].visualize();"
   ]
  },
  {
   "cell_type": "markdown",
   "id": "9f7afda6-5b1d-4362-9495-4ad140716f5f",
   "metadata": {},
   "source": [
    "The result from the `ResourceProfiler` is shown below: This shows two lines, one for total CPU percentage used by all the workers, and one for total memory usage. The CPU usage is scaled so each worker contributes up to $100 \\ \\%$, i.e. two fully utilized workers use $200 \\ \\%$."
   ]
  },
  {
   "cell_type": "code",
   "execution_count": 15,
   "id": "42497cde-4e5c-4844-91e5-e8d91e1aafa9",
   "metadata": {
    "tags": [
     "skip-test"
    ]
   },
   "outputs": [
    {
     "data": {
      "text/html": [
       "\n",
       "  <div id=\"e53b902f-43c5-4b88-a36c-a2d06b467fbe\" data-root-id=\"p1042\" style=\"display: contents;\"></div>\n"
      ]
     },
     "metadata": {},
     "output_type": "display_data"
    },
    {
     "data": {
      "application/javascript": [
       "(function(root) {\n",
       "  function embed_document(root) {\n",
       "  const docs_json = {\"55bf5575-8a2e-4ce2-9bc7-aa8d115ceaf1\":{\"version\":\"3.2.2\",\"title\":\"Bokeh Application\",\"roots\":[{\"type\":\"object\",\"name\":\"Figure\",\"id\":\"p1042\",\"attributes\":{\"width\":800,\"height\":300,\"x_range\":{\"type\":\"object\",\"name\":\"Range1d\",\"id\":\"p1052\",\"attributes\":{\"end\":18.33821521513164}},\"y_range\":{\"type\":\"object\",\"name\":\"Range1d\",\"id\":\"p1053\",\"attributes\":{\"end\":593.4}},\"x_scale\":{\"type\":\"object\",\"name\":\"LinearScale\",\"id\":\"p1054\"},\"y_scale\":{\"type\":\"object\",\"name\":\"LinearScale\",\"id\":\"p1055\"},\"extra_y_ranges\":{\"type\":\"map\",\"entries\":[[\"memory\",{\"type\":\"object\",\"name\":\"Range1d\",\"id\":\"p1081\",\"attributes\":{\"start\":362.110976,\"end\":505.540608}}]]},\"title\":{\"type\":\"object\",\"name\":\"Title\",\"id\":\"p1045\",\"attributes\":{\"text\":\"Profile Results\"}},\"renderers\":[{\"type\":\"object\",\"name\":\"GlyphRenderer\",\"id\":\"p1076\",\"attributes\":{\"data_source\":{\"type\":\"object\",\"name\":\"ColumnDataSource\",\"id\":\"p1070\",\"attributes\":{\"selected\":{\"type\":\"object\",\"name\":\"Selection\",\"id\":\"p1071\",\"attributes\":{\"indices\":[],\"line_indices\":[]}},\"selection_policy\":{\"type\":\"object\",\"name\":\"UnionRenderers\",\"id\":\"p1072\"},\"data\":{\"type\":\"map\",\"entries\":[[\"x\",[0.2633446790277958,1.2778341809753329,2.2830647609662265,3.287587705999613,4.288746958132833,5.28909475193359,6.291927285026759,7.293046107981354,8.293605407932773,9.294247271958739,10.296784243080765,11.298031032085419,12.30062462692149,13.300996226957068,14.301423717988655,15.30297522014007,16.303729413077235,17.306172671029344]],[\"y\",[0.0,593.4,534.4,523.5,565.6,493.8,524.8,541.8,511.4,457.5,359.4,408.9,317.3,432.2,513.9,522.0,546.0,512.2]]]}}},\"view\":{\"type\":\"object\",\"name\":\"CDSView\",\"id\":\"p1077\",\"attributes\":{\"filter\":{\"type\":\"object\",\"name\":\"AllIndices\",\"id\":\"p1078\"}}},\"glyph\":{\"type\":\"object\",\"name\":\"Line\",\"id\":\"p1073\",\"attributes\":{\"x\":{\"type\":\"field\",\"field\":\"x\"},\"y\":{\"type\":\"field\",\"field\":\"y\"},\"line_color\":\"#440154\",\"line_width\":4}},\"nonselection_glyph\":{\"type\":\"object\",\"name\":\"Line\",\"id\":\"p1074\",\"attributes\":{\"x\":{\"type\":\"field\",\"field\":\"x\"},\"y\":{\"type\":\"field\",\"field\":\"y\"},\"line_color\":\"#440154\",\"line_alpha\":0.1,\"line_width\":4}},\"muted_glyph\":{\"type\":\"object\",\"name\":\"Line\",\"id\":\"p1075\",\"attributes\":{\"x\":{\"type\":\"field\",\"field\":\"x\"},\"y\":{\"type\":\"field\",\"field\":\"y\"},\"line_color\":\"#440154\",\"line_alpha\":0.2,\"line_width\":4}}}},{\"type\":\"object\",\"name\":\"GlyphRenderer\",\"id\":\"p1088\",\"attributes\":{\"y_range_name\":\"memory\",\"data_source\":{\"type\":\"object\",\"name\":\"ColumnDataSource\",\"id\":\"p1082\",\"attributes\":{\"selected\":{\"type\":\"object\",\"name\":\"Selection\",\"id\":\"p1083\",\"attributes\":{\"indices\":[],\"line_indices\":[]}},\"selection_policy\":{\"type\":\"object\",\"name\":\"UnionRenderers\",\"id\":\"p1084\"},\"data\":{\"type\":\"map\",\"entries\":[[\"x\",[0.2633446790277958,1.2778341809753329,2.2830647609662265,3.287587705999613,4.288746958132833,5.28909475193359,6.291927285026759,7.293046107981354,8.293605407932773,9.294247271958739,10.296784243080765,11.298031032085419,12.30062462692149,13.300996226957068,14.301423717988655,15.30297522014007,16.303729413077235,17.306172671029344]],[\"y\",[505.540608,455.180288,455.774208,394.551296,455.766016,445.497344,481.71008,362.110976,501.47328,459.149312,458.022912,425.84064,458.616832,454.856704,459.943936,430.821376,457.519104,413.560832]]]}}},\"view\":{\"type\":\"object\",\"name\":\"CDSView\",\"id\":\"p1089\",\"attributes\":{\"filter\":{\"type\":\"object\",\"name\":\"AllIndices\",\"id\":\"p1090\"}}},\"glyph\":{\"type\":\"object\",\"name\":\"Line\",\"id\":\"p1085\",\"attributes\":{\"x\":{\"type\":\"field\",\"field\":\"x\"},\"y\":{\"type\":\"field\",\"field\":\"y\"},\"line_color\":\"#29788E\",\"line_width\":4}},\"nonselection_glyph\":{\"type\":\"object\",\"name\":\"Line\",\"id\":\"p1086\",\"attributes\":{\"x\":{\"type\":\"field\",\"field\":\"x\"},\"y\":{\"type\":\"field\",\"field\":\"y\"},\"line_color\":\"#29788E\",\"line_alpha\":0.1,\"line_width\":4}},\"muted_glyph\":{\"type\":\"object\",\"name\":\"Line\",\"id\":\"p1087\",\"attributes\":{\"x\":{\"type\":\"field\",\"field\":\"x\"},\"y\":{\"type\":\"field\",\"field\":\"y\"},\"line_color\":\"#29788E\",\"line_alpha\":0.2,\"line_width\":4}}}}],\"toolbar\":{\"type\":\"object\",\"name\":\"Toolbar\",\"id\":\"p1051\",\"attributes\":{\"tools\":[{\"type\":\"object\",\"name\":\"SaveTool\",\"id\":\"p1066\"},{\"type\":\"object\",\"name\":\"ResetTool\",\"id\":\"p1067\"},{\"type\":\"object\",\"name\":\"WheelZoomTool\",\"id\":\"p1068\",\"attributes\":{\"dimensions\":\"width\"}},{\"type\":\"object\",\"name\":\"PanTool\",\"id\":\"p1069\",\"attributes\":{\"dimensions\":\"width\"}}]}},\"toolbar_location\":\"above\",\"left\":[{\"type\":\"object\",\"name\":\"LinearAxis\",\"id\":\"p1061\",\"attributes\":{\"ticker\":{\"type\":\"object\",\"name\":\"BasicTicker\",\"id\":\"p1062\",\"attributes\":{\"mantissas\":[1,2,5]}},\"formatter\":{\"type\":\"object\",\"name\":\"BasicTickFormatter\",\"id\":\"p1063\"},\"axis_label\":\"% CPU\",\"major_label_policy\":{\"type\":\"object\",\"name\":\"AllLabels\",\"id\":\"p1064\"}}}],\"right\":[{\"type\":\"object\",\"name\":\"LinearAxis\",\"id\":\"p1092\",\"attributes\":{\"y_range_name\":\"memory\",\"ticker\":{\"type\":\"object\",\"name\":\"BasicTicker\",\"id\":\"p1093\",\"attributes\":{\"mantissas\":[1,2,5]}},\"formatter\":{\"type\":\"object\",\"name\":\"BasicTickFormatter\",\"id\":\"p1094\"},\"axis_label\":\"Memory (MB)\",\"major_label_policy\":{\"type\":\"object\",\"name\":\"AllLabels\",\"id\":\"p1095\"}}}],\"below\":[{\"type\":\"object\",\"name\":\"LinearAxis\",\"id\":\"p1056\",\"attributes\":{\"ticker\":{\"type\":\"object\",\"name\":\"BasicTicker\",\"id\":\"p1057\",\"attributes\":{\"mantissas\":[1,2,5]}},\"formatter\":{\"type\":\"object\",\"name\":\"BasicTickFormatter\",\"id\":\"p1058\"},\"axis_label\":\"Time (s)\",\"major_label_policy\":{\"type\":\"object\",\"name\":\"AllLabels\",\"id\":\"p1059\"}}}],\"center\":[{\"type\":\"object\",\"name\":\"Grid\",\"id\":\"p1060\",\"attributes\":{\"axis\":{\"id\":\"p1056\"}}},{\"type\":\"object\",\"name\":\"Grid\",\"id\":\"p1065\",\"attributes\":{\"dimension\":1,\"axis\":{\"id\":\"p1061\"}}},{\"type\":\"object\",\"name\":\"Legend\",\"id\":\"p1079\",\"attributes\":{\"items\":[{\"type\":\"object\",\"name\":\"LegendItem\",\"id\":\"p1080\",\"attributes\":{\"label\":{\"type\":\"value\",\"value\":\"% CPU\"},\"renderers\":[{\"id\":\"p1076\"}]}},{\"type\":\"object\",\"name\":\"LegendItem\",\"id\":\"p1091\",\"attributes\":{\"label\":{\"type\":\"value\",\"value\":\"Memory\"},\"renderers\":[{\"id\":\"p1088\"}]}}]}}]}}]}};\n",
       "  const render_items = [{\"docid\":\"55bf5575-8a2e-4ce2-9bc7-aa8d115ceaf1\",\"roots\":{\"p1042\":\"e53b902f-43c5-4b88-a36c-a2d06b467fbe\"},\"root_ids\":[\"p1042\"]}];\n",
       "  root.Bokeh.embed.embed_items_notebook(docs_json, render_items);\n",
       "  }\n",
       "  if (root.Bokeh !== undefined) {\n",
       "    embed_document(root);\n",
       "  } else {\n",
       "    let attempts = 0;\n",
       "    const timer = setInterval(function(root) {\n",
       "      if (root.Bokeh !== undefined) {\n",
       "        clearInterval(timer);\n",
       "        embed_document(root);\n",
       "      } else {\n",
       "        attempts++;\n",
       "        if (attempts > 100) {\n",
       "          clearInterval(timer);\n",
       "          console.log(\"Bokeh: ERROR: Unable to run BokehJS code because BokehJS library is missing\");\n",
       "        }\n",
       "      }\n",
       "    }, 10, root)\n",
       "  }\n",
       "})(window);"
      ],
      "application/vnd.bokehjs_exec.v0+json": ""
     },
     "metadata": {
      "application/vnd.bokehjs_exec.v0+json": {
       "id": "p1042"
      }
     },
     "output_type": "display_data"
    }
   ],
   "source": [
    "profilers[1].visualize();"
   ]
  },
  {
   "cell_type": "markdown",
   "id": "95a9fa0a-f044-40cd-8964-9e4a1911fa87",
   "metadata": {},
   "source": [
    "We ran the calculation on a single computer with an 4-core CPU with 2 threads per core for 8 threads total. We see that our peak CPU usage was $\\sim 600 \\%$, this is a fairly typical usage statistic for a single machine, overhead and background processes limited us from reaching the $800 \\ \\%$ corresponding to using every available thread maximally.\n",
    "\n",
    "We also see that the total memory use reached around 800 MB. If you are running the calculation on a system with more threads your memory consumption may be larger – it may even exceed the total memory cost of all the wave functions, as every parallel run of the multislice algorithm requires a significant overhead for intermediate results (such as potential slices and Fresnel propagators). If your calculation runs out of memory you can lower the number of workers, thus trading away computational speed for lower memory consumption.\n",
    "\n",
    "We note that the overhead in both CPU usage and memory diminishes for larger simulation with more powerful hardware."
   ]
  },
  {
   "cell_type": "markdown",
   "id": "88a96448-5a2a-4c60-9ce7-7a2f43845d3c",
   "metadata": {},
   "source": [
    "### The (locally) distributed scheduler\n",
    "The Dask distributed scheduler is necessary for running your simulations on a cluster, but it also runs [locally on a personal machine](https://docs.dask.org/en/stable/scheduling.html#dask-distributed-local). You can find details in the Dask documentation, but we demonstrate the basics below.\n",
    "\n",
    "You can use the Dask distributed scheduler by just initializing a [Dask Client](https://distributed.dask.org/en/stable/client.html). The `Client` takes keyword arguments such as `n_workers` (note that this is different from `num_workers` above!)"
   ]
  },
  {
   "cell_type": "code",
   "execution_count": 16,
   "id": "2b7c37a3-909c-482e-99fb-72e4eb222a5a",
   "metadata": {},
   "outputs": [
    {
     "data": {
      "text/html": [
       "<div>\n",
       "    <div style=\"width: 24px; height: 24px; background-color: #e1e1e1; border: 3px solid #9D9D9D; border-radius: 5px; position: absolute;\"> </div>\n",
       "    <div style=\"margin-left: 48px;\">\n",
       "        <h3 style=\"margin-bottom: 0px;\">Client</h3>\n",
       "        <p style=\"color: #9D9D9D; margin-bottom: 0px;\">Client-2546057a-610f-11ee-80db-f218984d7c80</p>\n",
       "        <table style=\"width: 100%; text-align: left;\">\n",
       "\n",
       "        <tr>\n",
       "        \n",
       "            <td style=\"text-align: left;\"><strong>Connection method:</strong> Cluster object</td>\n",
       "            <td style=\"text-align: left;\"><strong>Cluster type:</strong> distributed.LocalCluster</td>\n",
       "        \n",
       "        </tr>\n",
       "\n",
       "        \n",
       "            <tr>\n",
       "                <td style=\"text-align: left;\">\n",
       "                    <strong>Dashboard: </strong> <a href=\"http://127.0.0.1:8787/status\" target=\"_blank\">http://127.0.0.1:8787/status</a>\n",
       "                </td>\n",
       "                <td style=\"text-align: left;\"></td>\n",
       "            </tr>\n",
       "        \n",
       "\n",
       "        </table>\n",
       "\n",
       "        \n",
       "\n",
       "        \n",
       "            <details>\n",
       "            <summary style=\"margin-bottom: 20px;\"><h3 style=\"display: inline;\">Cluster Info</h3></summary>\n",
       "            <div class=\"jp-RenderedHTMLCommon jp-RenderedHTML jp-mod-trusted jp-OutputArea-output\">\n",
       "    <div style=\"width: 24px; height: 24px; background-color: #e1e1e1; border: 3px solid #9D9D9D; border-radius: 5px; position: absolute;\">\n",
       "    </div>\n",
       "    <div style=\"margin-left: 48px;\">\n",
       "        <h3 style=\"margin-bottom: 0px; margin-top: 0px;\">LocalCluster</h3>\n",
       "        <p style=\"color: #9D9D9D; margin-bottom: 0px;\">348f6f24</p>\n",
       "        <table style=\"width: 100%; text-align: left;\">\n",
       "            <tr>\n",
       "                <td style=\"text-align: left;\">\n",
       "                    <strong>Dashboard:</strong> <a href=\"http://127.0.0.1:8787/status\" target=\"_blank\">http://127.0.0.1:8787/status</a>\n",
       "                </td>\n",
       "                <td style=\"text-align: left;\">\n",
       "                    <strong>Workers:</strong> 6\n",
       "                </td>\n",
       "            </tr>\n",
       "            <tr>\n",
       "                <td style=\"text-align: left;\">\n",
       "                    <strong>Total threads:</strong> 12\n",
       "                </td>\n",
       "                <td style=\"text-align: left;\">\n",
       "                    <strong>Total memory:</strong> 16.00 GiB\n",
       "                </td>\n",
       "            </tr>\n",
       "            \n",
       "            <tr>\n",
       "    <td style=\"text-align: left;\"><strong>Status:</strong> running</td>\n",
       "    <td style=\"text-align: left;\"><strong>Using processes:</strong> True</td>\n",
       "</tr>\n",
       "\n",
       "            \n",
       "        </table>\n",
       "\n",
       "        <details>\n",
       "            <summary style=\"margin-bottom: 20px;\">\n",
       "                <h3 style=\"display: inline;\">Scheduler Info</h3>\n",
       "            </summary>\n",
       "\n",
       "            <div style=\"\">\n",
       "    <div>\n",
       "        <div style=\"width: 24px; height: 24px; background-color: #FFF7E5; border: 3px solid #FF6132; border-radius: 5px; position: absolute;\"> </div>\n",
       "        <div style=\"margin-left: 48px;\">\n",
       "            <h3 style=\"margin-bottom: 0px;\">Scheduler</h3>\n",
       "            <p style=\"color: #9D9D9D; margin-bottom: 0px;\">Scheduler-2d6dfbac-68f1-4959-af79-cd470b5678d3</p>\n",
       "            <table style=\"width: 100%; text-align: left;\">\n",
       "                <tr>\n",
       "                    <td style=\"text-align: left;\">\n",
       "                        <strong>Comm:</strong> tcp://127.0.0.1:64418\n",
       "                    </td>\n",
       "                    <td style=\"text-align: left;\">\n",
       "                        <strong>Workers:</strong> 6\n",
       "                    </td>\n",
       "                </tr>\n",
       "                <tr>\n",
       "                    <td style=\"text-align: left;\">\n",
       "                        <strong>Dashboard:</strong> <a href=\"http://127.0.0.1:8787/status\" target=\"_blank\">http://127.0.0.1:8787/status</a>\n",
       "                    </td>\n",
       "                    <td style=\"text-align: left;\">\n",
       "                        <strong>Total threads:</strong> 12\n",
       "                    </td>\n",
       "                </tr>\n",
       "                <tr>\n",
       "                    <td style=\"text-align: left;\">\n",
       "                        <strong>Started:</strong> Just now\n",
       "                    </td>\n",
       "                    <td style=\"text-align: left;\">\n",
       "                        <strong>Total memory:</strong> 16.00 GiB\n",
       "                    </td>\n",
       "                </tr>\n",
       "            </table>\n",
       "        </div>\n",
       "    </div>\n",
       "\n",
       "    <details style=\"margin-left: 48px;\">\n",
       "        <summary style=\"margin-bottom: 20px;\">\n",
       "            <h3 style=\"display: inline;\">Workers</h3>\n",
       "        </summary>\n",
       "\n",
       "        \n",
       "        <div style=\"margin-bottom: 20px;\">\n",
       "            <div style=\"width: 24px; height: 24px; background-color: #DBF5FF; border: 3px solid #4CC9FF; border-radius: 5px; position: absolute;\"> </div>\n",
       "            <div style=\"margin-left: 48px;\">\n",
       "            <details>\n",
       "                <summary>\n",
       "                    <h4 style=\"margin-bottom: 0px; display: inline;\">Worker: 0</h4>\n",
       "                </summary>\n",
       "                <table style=\"width: 100%; text-align: left;\">\n",
       "                    <tr>\n",
       "                        <td style=\"text-align: left;\">\n",
       "                            <strong>Comm: </strong> tcp://127.0.0.1:64434\n",
       "                        </td>\n",
       "                        <td style=\"text-align: left;\">\n",
       "                            <strong>Total threads: </strong> 2\n",
       "                        </td>\n",
       "                    </tr>\n",
       "                    <tr>\n",
       "                        <td style=\"text-align: left;\">\n",
       "                            <strong>Dashboard: </strong> <a href=\"http://127.0.0.1:64435/status\" target=\"_blank\">http://127.0.0.1:64435/status</a>\n",
       "                        </td>\n",
       "                        <td style=\"text-align: left;\">\n",
       "                            <strong>Memory: </strong> 2.67 GiB\n",
       "                        </td>\n",
       "                    </tr>\n",
       "                    <tr>\n",
       "                        <td style=\"text-align: left;\">\n",
       "                            <strong>Nanny: </strong> tcp://127.0.0.1:64421\n",
       "                        </td>\n",
       "                        <td style=\"text-align: left;\"></td>\n",
       "                    </tr>\n",
       "                    <tr>\n",
       "                        <td colspan=\"2\" style=\"text-align: left;\">\n",
       "                            <strong>Local directory: </strong> /var/folders/_p/k7hrlnh132n933827sxdjkrm0000gn/T/dask-scratch-space/worker-ee8ipypl\n",
       "                        </td>\n",
       "                    </tr>\n",
       "\n",
       "                    \n",
       "\n",
       "                    \n",
       "\n",
       "                </table>\n",
       "            </details>\n",
       "            </div>\n",
       "        </div>\n",
       "        \n",
       "        <div style=\"margin-bottom: 20px;\">\n",
       "            <div style=\"width: 24px; height: 24px; background-color: #DBF5FF; border: 3px solid #4CC9FF; border-radius: 5px; position: absolute;\"> </div>\n",
       "            <div style=\"margin-left: 48px;\">\n",
       "            <details>\n",
       "                <summary>\n",
       "                    <h4 style=\"margin-bottom: 0px; display: inline;\">Worker: 1</h4>\n",
       "                </summary>\n",
       "                <table style=\"width: 100%; text-align: left;\">\n",
       "                    <tr>\n",
       "                        <td style=\"text-align: left;\">\n",
       "                            <strong>Comm: </strong> tcp://127.0.0.1:64437\n",
       "                        </td>\n",
       "                        <td style=\"text-align: left;\">\n",
       "                            <strong>Total threads: </strong> 2\n",
       "                        </td>\n",
       "                    </tr>\n",
       "                    <tr>\n",
       "                        <td style=\"text-align: left;\">\n",
       "                            <strong>Dashboard: </strong> <a href=\"http://127.0.0.1:64439/status\" target=\"_blank\">http://127.0.0.1:64439/status</a>\n",
       "                        </td>\n",
       "                        <td style=\"text-align: left;\">\n",
       "                            <strong>Memory: </strong> 2.67 GiB\n",
       "                        </td>\n",
       "                    </tr>\n",
       "                    <tr>\n",
       "                        <td style=\"text-align: left;\">\n",
       "                            <strong>Nanny: </strong> tcp://127.0.0.1:64422\n",
       "                        </td>\n",
       "                        <td style=\"text-align: left;\"></td>\n",
       "                    </tr>\n",
       "                    <tr>\n",
       "                        <td colspan=\"2\" style=\"text-align: left;\">\n",
       "                            <strong>Local directory: </strong> /var/folders/_p/k7hrlnh132n933827sxdjkrm0000gn/T/dask-scratch-space/worker-lp9fwadp\n",
       "                        </td>\n",
       "                    </tr>\n",
       "\n",
       "                    \n",
       "\n",
       "                    \n",
       "\n",
       "                </table>\n",
       "            </details>\n",
       "            </div>\n",
       "        </div>\n",
       "        \n",
       "        <div style=\"margin-bottom: 20px;\">\n",
       "            <div style=\"width: 24px; height: 24px; background-color: #DBF5FF; border: 3px solid #4CC9FF; border-radius: 5px; position: absolute;\"> </div>\n",
       "            <div style=\"margin-left: 48px;\">\n",
       "            <details>\n",
       "                <summary>\n",
       "                    <h4 style=\"margin-bottom: 0px; display: inline;\">Worker: 2</h4>\n",
       "                </summary>\n",
       "                <table style=\"width: 100%; text-align: left;\">\n",
       "                    <tr>\n",
       "                        <td style=\"text-align: left;\">\n",
       "                            <strong>Comm: </strong> tcp://127.0.0.1:64438\n",
       "                        </td>\n",
       "                        <td style=\"text-align: left;\">\n",
       "                            <strong>Total threads: </strong> 2\n",
       "                        </td>\n",
       "                    </tr>\n",
       "                    <tr>\n",
       "                        <td style=\"text-align: left;\">\n",
       "                            <strong>Dashboard: </strong> <a href=\"http://127.0.0.1:64441/status\" target=\"_blank\">http://127.0.0.1:64441/status</a>\n",
       "                        </td>\n",
       "                        <td style=\"text-align: left;\">\n",
       "                            <strong>Memory: </strong> 2.67 GiB\n",
       "                        </td>\n",
       "                    </tr>\n",
       "                    <tr>\n",
       "                        <td style=\"text-align: left;\">\n",
       "                            <strong>Nanny: </strong> tcp://127.0.0.1:64423\n",
       "                        </td>\n",
       "                        <td style=\"text-align: left;\"></td>\n",
       "                    </tr>\n",
       "                    <tr>\n",
       "                        <td colspan=\"2\" style=\"text-align: left;\">\n",
       "                            <strong>Local directory: </strong> /var/folders/_p/k7hrlnh132n933827sxdjkrm0000gn/T/dask-scratch-space/worker-c3x8ozdw\n",
       "                        </td>\n",
       "                    </tr>\n",
       "\n",
       "                    \n",
       "\n",
       "                    \n",
       "\n",
       "                </table>\n",
       "            </details>\n",
       "            </div>\n",
       "        </div>\n",
       "        \n",
       "        <div style=\"margin-bottom: 20px;\">\n",
       "            <div style=\"width: 24px; height: 24px; background-color: #DBF5FF; border: 3px solid #4CC9FF; border-radius: 5px; position: absolute;\"> </div>\n",
       "            <div style=\"margin-left: 48px;\">\n",
       "            <details>\n",
       "                <summary>\n",
       "                    <h4 style=\"margin-bottom: 0px; display: inline;\">Worker: 3</h4>\n",
       "                </summary>\n",
       "                <table style=\"width: 100%; text-align: left;\">\n",
       "                    <tr>\n",
       "                        <td style=\"text-align: left;\">\n",
       "                            <strong>Comm: </strong> tcp://127.0.0.1:64443\n",
       "                        </td>\n",
       "                        <td style=\"text-align: left;\">\n",
       "                            <strong>Total threads: </strong> 2\n",
       "                        </td>\n",
       "                    </tr>\n",
       "                    <tr>\n",
       "                        <td style=\"text-align: left;\">\n",
       "                            <strong>Dashboard: </strong> <a href=\"http://127.0.0.1:64445/status\" target=\"_blank\">http://127.0.0.1:64445/status</a>\n",
       "                        </td>\n",
       "                        <td style=\"text-align: left;\">\n",
       "                            <strong>Memory: </strong> 2.67 GiB\n",
       "                        </td>\n",
       "                    </tr>\n",
       "                    <tr>\n",
       "                        <td style=\"text-align: left;\">\n",
       "                            <strong>Nanny: </strong> tcp://127.0.0.1:64424\n",
       "                        </td>\n",
       "                        <td style=\"text-align: left;\"></td>\n",
       "                    </tr>\n",
       "                    <tr>\n",
       "                        <td colspan=\"2\" style=\"text-align: left;\">\n",
       "                            <strong>Local directory: </strong> /var/folders/_p/k7hrlnh132n933827sxdjkrm0000gn/T/dask-scratch-space/worker-cqghyhk3\n",
       "                        </td>\n",
       "                    </tr>\n",
       "\n",
       "                    \n",
       "\n",
       "                    \n",
       "\n",
       "                </table>\n",
       "            </details>\n",
       "            </div>\n",
       "        </div>\n",
       "        \n",
       "        <div style=\"margin-bottom: 20px;\">\n",
       "            <div style=\"width: 24px; height: 24px; background-color: #DBF5FF; border: 3px solid #4CC9FF; border-radius: 5px; position: absolute;\"> </div>\n",
       "            <div style=\"margin-left: 48px;\">\n",
       "            <details>\n",
       "                <summary>\n",
       "                    <h4 style=\"margin-bottom: 0px; display: inline;\">Worker: 4</h4>\n",
       "                </summary>\n",
       "                <table style=\"width: 100%; text-align: left;\">\n",
       "                    <tr>\n",
       "                        <td style=\"text-align: left;\">\n",
       "                            <strong>Comm: </strong> tcp://127.0.0.1:64444\n",
       "                        </td>\n",
       "                        <td style=\"text-align: left;\">\n",
       "                            <strong>Total threads: </strong> 2\n",
       "                        </td>\n",
       "                    </tr>\n",
       "                    <tr>\n",
       "                        <td style=\"text-align: left;\">\n",
       "                            <strong>Dashboard: </strong> <a href=\"http://127.0.0.1:64447/status\" target=\"_blank\">http://127.0.0.1:64447/status</a>\n",
       "                        </td>\n",
       "                        <td style=\"text-align: left;\">\n",
       "                            <strong>Memory: </strong> 2.67 GiB\n",
       "                        </td>\n",
       "                    </tr>\n",
       "                    <tr>\n",
       "                        <td style=\"text-align: left;\">\n",
       "                            <strong>Nanny: </strong> tcp://127.0.0.1:64425\n",
       "                        </td>\n",
       "                        <td style=\"text-align: left;\"></td>\n",
       "                    </tr>\n",
       "                    <tr>\n",
       "                        <td colspan=\"2\" style=\"text-align: left;\">\n",
       "                            <strong>Local directory: </strong> /var/folders/_p/k7hrlnh132n933827sxdjkrm0000gn/T/dask-scratch-space/worker-d7jk4iao\n",
       "                        </td>\n",
       "                    </tr>\n",
       "\n",
       "                    \n",
       "\n",
       "                    \n",
       "\n",
       "                </table>\n",
       "            </details>\n",
       "            </div>\n",
       "        </div>\n",
       "        \n",
       "        <div style=\"margin-bottom: 20px;\">\n",
       "            <div style=\"width: 24px; height: 24px; background-color: #DBF5FF; border: 3px solid #4CC9FF; border-radius: 5px; position: absolute;\"> </div>\n",
       "            <div style=\"margin-left: 48px;\">\n",
       "            <details>\n",
       "                <summary>\n",
       "                    <h4 style=\"margin-bottom: 0px; display: inline;\">Worker: 5</h4>\n",
       "                </summary>\n",
       "                <table style=\"width: 100%; text-align: left;\">\n",
       "                    <tr>\n",
       "                        <td style=\"text-align: left;\">\n",
       "                            <strong>Comm: </strong> tcp://127.0.0.1:64449\n",
       "                        </td>\n",
       "                        <td style=\"text-align: left;\">\n",
       "                            <strong>Total threads: </strong> 2\n",
       "                        </td>\n",
       "                    </tr>\n",
       "                    <tr>\n",
       "                        <td style=\"text-align: left;\">\n",
       "                            <strong>Dashboard: </strong> <a href=\"http://127.0.0.1:64450/status\" target=\"_blank\">http://127.0.0.1:64450/status</a>\n",
       "                        </td>\n",
       "                        <td style=\"text-align: left;\">\n",
       "                            <strong>Memory: </strong> 2.67 GiB\n",
       "                        </td>\n",
       "                    </tr>\n",
       "                    <tr>\n",
       "                        <td style=\"text-align: left;\">\n",
       "                            <strong>Nanny: </strong> tcp://127.0.0.1:64426\n",
       "                        </td>\n",
       "                        <td style=\"text-align: left;\"></td>\n",
       "                    </tr>\n",
       "                    <tr>\n",
       "                        <td colspan=\"2\" style=\"text-align: left;\">\n",
       "                            <strong>Local directory: </strong> /var/folders/_p/k7hrlnh132n933827sxdjkrm0000gn/T/dask-scratch-space/worker-spcy3jvh\n",
       "                        </td>\n",
       "                    </tr>\n",
       "\n",
       "                    \n",
       "\n",
       "                    \n",
       "\n",
       "                </table>\n",
       "            </details>\n",
       "            </div>\n",
       "        </div>\n",
       "        \n",
       "\n",
       "    </details>\n",
       "</div>\n",
       "\n",
       "        </details>\n",
       "    </div>\n",
       "</div>\n",
       "            </details>\n",
       "        \n",
       "\n",
       "    </div>\n",
       "</div>"
      ],
      "text/plain": [
       "<Client: 'tcp://127.0.0.1:64418' processes=6 threads=12, memory=16.00 GiB>"
      ]
     },
     "execution_count": 16,
     "metadata": {},
     "output_type": "execute_result"
    }
   ],
   "source": [
    "from dask.distributed import Client\n",
    "\n",
    "client = Client(n_workers=6)\n",
    "client"
   ]
  },
  {
   "cell_type": "markdown",
   "id": "cd8cacd8-4c48-4eea-930c-33f3fe834410",
   "metadata": {},
   "source": [
    "After intializing the client object, any *ab*TEM computation will use the Dask distributed scheduler."
   ]
  },
  {
   "cell_type": "code",
   "execution_count": 17,
   "id": "2b0d7e8f-24dd-4ada-9650-874e750a3652",
   "metadata": {},
   "outputs": [
    {
     "data": {
      "text/plain": [
       "<abtem.measurements.Images at 0x7fd0f3ccd030>"
      ]
     },
     "execution_count": 17,
     "metadata": {},
     "output_type": "execute_result"
    }
   ],
   "source": [
    "haadf_images = detector.detect(exit_waves_stem).reduce_ensemble()\n",
    "haadf_images.compute()"
   ]
  },
  {
   "cell_type": "markdown",
   "id": "31a20506-7155-45f0-b641-3931bbb20029",
   "metadata": {},
   "source": [
    "A benefit of using the distributed scheduler on a single machine is the live diagnostic dashboard. You can access this through the Dashboard link shown in the `__repr__` for the `Client` above (for details you can watch [this](https://www.youtube.com/watch?v=N_GqzcuGLCY) video walkthrough). If you are using Jupyter Lab, the [Dask labextension](https://github.com/dask/dask-labextension) provides the same information as a panel inside the Jupyter Lab editor.\n",
    "\n",
    "We can get back to the local scheduler by closing the `Client`."
   ]
  },
  {
   "cell_type": "code",
   "execution_count": 18,
   "id": "e38de7a7-2b82-442e-8258-d9e2717a7b2b",
   "metadata": {},
   "outputs": [],
   "source": [
    "client.close()"
   ]
  },
  {
   "cell_type": "markdown",
   "id": "dffe61f7-43d8-47e6-a00a-3e73e33320ad",
   "metadata": {},
   "source": [
    "### Running *ab*TEM on HPC clusters\n",
    "\n",
    "Dask (and thus *ab*TEM) has robust tools for deployment on high-performance compute clusters. We recommend consulting your HPC provider on how to deploy Dask applications on your available cluster. For general advice on deployment, please see the [Dask documentation](https://docs.dask.org/en/stable/deploying.html).\n",
    "\n",
    "#### Submitting job scripts \n",
    "\n",
    "As an overview, Dask provides a number of different cluster managers, so you can use distributed Dask on a range of platforms. These cluster managers deploy a scheduler and the necessary workers as determined by communicating with the resource manager. All cluster managers follow the same interface but have platform-specific configuration options.\n",
    "\n",
    "As an example, for deployment using [SLURM](https://slurm.schedmd.com/documentation.html), your script might look something like:\n",
    "\n",
    "```python\n",
    "from dask_jobqueue import SLURMCluster\n",
    "from dask.distributed import Client\n",
    "\n",
    "cluster = SLURMCluster(\n",
    "    queue=\"regular\",\n",
    "    account=\"myaccount\",\n",
    "    cores=32,\n",
    "    memory=\"128 GB\"\n",
    ")\n",
    "\n",
    "client = Client(cluster)\n",
    "\n",
    "# Your abTEM code goes here\n",
    "\n",
    "```\n",
    "\n",
    "Dask also supports deployment from within an existing MPI environment, such as one created with the common MPI command-line launcher `mpirun`, see [here](http://mpi.dask.org/en/latest/) for more information. You can turn your batch Python script into an MPI executable with the `dask_mpi.initialize` function. \n",
    "\n",
    "```python\n",
    "from dask_mpi import initialize\n",
    "initialize()\n",
    "\n",
    "from dask.distributed import Client\n",
    "client = Client()  # Connect this local process to remote workers\n",
    "\n",
    "# Your abTEM code goes here\n",
    "```\n",
    "\n",
    "This makes your Python script launchable directly with `mpirun`:\n",
    "```\n",
    "mpirun -np 4 python my_client_script.py\n",
    "```"
   ]
  },
  {
   "cell_type": "markdown",
   "id": "e39cb8d2-a898-478d-9831-275ac5f2f06b",
   "metadata": {
    "pycharm": {
     "name": "#%% md\n"
    }
   },
   "source": [
    "(walkthrough:parallelization:gpu)=\n",
    "## Using GPUs\n",
    "\n",
    "Almost every part of *ab*TEM can be accelerated using a GPU through the [CuPy](https://cupy.dev/) library. We have only tested CUDA-compatible GPUs, but any graphics card compatible with CuPy should work.\n",
    "\n",
    "If you have a compatible GPU and a working installation of CuPy, you can accelerate your image simulations by simply changing the configs at the top of your document as below:\n",
    "```python\n",
    "abtem.config.set({\"device\": \"gpu\"});\n",
    "```\n",
    "On a single GPU, you may also want to limit the number of workers to one, `num_workers=1`. As described above, this may be done through the Dask config:\n",
    "```python\n",
    "dask.config.set({\"num_workers\": 1});\n",
    "```\n",
    "\n",
    "Note that Dask does not manage GPU threads. This makes the choice of batch sizes (i.e. propagating multiple wave functions in a single batch) extremely important in order to fully utilize your GPU. The default batch size in GPU calculations in abTEM is $512\\ \\mathrm{MB}$, which is four times larger than the CPU batch size, but if your GPU has $8\\ \\mathrm{GB}$ or more memory, you will likely be able to increase this number to $2048\\ \\mathrm{MB}$.\n",
    "\n",
    "```python\n",
    "abtem.config.set({\"dask.chunk-size-gpu\" : \"512 MB\"})\n",
    "```\n",
    "\n",
    "```{note}\n",
    "The batch size only determines the maximum number of plane waves in a batch, so you need to leave room in the memory for any intermediate overhead. \n",
    "```\n",
    "\n",
    "Finally, *ab*TEM by default sets the [FFT plan cache](https://docs.cupy.dev/en/stable/user_guide/fft.html#fft-plan-cache) size of `cupy` to zero, as we find that in most cases the increased memory consumption of the plans are not worth the small speedup they provide. You can however also change this through the *ab*TEM config.\n",
    "\n",
    "```python\n",
    "abtem.config.set({\"cupy.fft-cache-size\" : \"1024 MB\"})\n",
    "```"
   ]
  },
  {
   "cell_type": "markdown",
   "id": "94cdb086-c8a9-4736-a345-311d47379f34",
   "metadata": {},
   "source": [
    "### Multiple GPUs \n",
    "The above is enough for running *ab*TEM on a single GPU; if you are using an NVidia GPU, you may want to install `dask_cuda` (this is currently only supported on Linux). However, `dask_cuda` is currently necessary for multi-GPU calculations with *ab*TEM.\n",
    "\n",
    "```python\n",
    "from dask_cuda import LocalCUDACluster\n",
    "from dask.distributed import Client\n",
    "\n",
    "cluster = LocalCUDACluster()\n",
    "client = Client(cluster)\n",
    "```"
   ]
  }
 ],
 "metadata": {
  "kernelspec": {
   "display_name": "Python 3 (ipykernel)",
   "language": "python",
   "name": "python3"
  },
  "language_info": {
   "codemirror_mode": {
    "name": "ipython",
    "version": 3
   },
   "file_extension": ".py",
   "mimetype": "text/x-python",
   "name": "python",
   "nbconvert_exporter": "python",
   "pygments_lexer": "ipython3",
   "version": "3.10.11"
  },
  "widgets": {
   "application/vnd.jupyter.widget-state+json": {
    "state": {
     "00458cdfdb4b454783abbf73214eb38d": {
      "model_module": "jupyter-cytoscape",
      "model_module_version": "^1.3.3",
      "model_name": "NodeModel",
      "state": {
       "_model_module_version": "^1.3.3",
       "_view_module_version": "^1.3.3",
       "data": {
        "color": "gray",
        "id": "-4633378280018691195",
        "label": "(2, 0, 0)",
        "shape": "rectangle"
       },
       "grabbable": true,
       "grabbed": false,
       "position": {
        "x": 938.25,
        "y": 995
       },
       "selectable": false
      }
     },
     "006bb40b5c6c4052aeada99b67bf0ae3": {
      "model_module": "jupyter-cytoscape",
      "model_module_version": "^1.3.3",
      "model_name": "NodeModel",
      "state": {
       "_model_module_version": "^1.3.3",
       "_view_module_version": "^1.3.3",
       "data": {
        "color": "gray",
        "id": "6400487052080449181",
        "label": "",
        "shape": "rectangle"
       },
       "grabbable": true,
       "grabbed": false,
       "position": {
        "x": 727.75,
        "y": 1955
       },
       "selectable": false
      }
     },
     "00c27a58b1584b53bceb560743162d95": {
      "model_module": "jupyter-cytoscape",
      "model_module_version": "^1.3.3",
      "model_name": "NodeModel",
      "state": {
       "_model_module_version": "^1.3.3",
       "_view_module_version": "^1.3.3",
       "data": {
        "color": "gray",
        "id": "7583327050442078625",
        "label": "getitem",
        "shape": "ellipse"
       },
       "grabbable": true,
       "grabbed": false,
       "position": {
        "x": 98,
        "y": 1115
       },
       "selectable": false
      }
     },
     "025bb834df534e39be9fd8abd7d5219c": {
      "model_module": "jupyter-cytoscape",
      "model_module_version": "^1.3.3",
      "model_name": "NodeModel",
      "state": {
       "_model_module_version": "^1.3.3",
       "_view_module_version": "^1.3.3",
       "data": {
        "color": "gray",
        "id": "3088764688101585121",
        "label": "0",
        "shape": "rectangle"
       },
       "grabbable": true,
       "grabbed": false,
       "position": {
        "x": 938.25,
        "y": 1835
       },
       "selectable": false
      }
     },
     "029b38693d03495da57e54fca4200f29": {
      "model_module": "jupyter-cytoscape",
      "model_module_version": "^1.3.3",
      "model_name": "NodeModel",
      "state": {
       "_model_module_version": "^1.3.3",
       "_view_module_version": "^1.3.3",
       "data": {
        "color": "gray",
        "id": "-2764025106015535249",
        "label": "wrap_with_array",
        "shape": "ellipse"
       },
       "grabbable": true,
       "grabbed": false,
       "position": {
        "x": 727.75,
        "y": 2075
       },
       "selectable": false
      }
     },
     "02e620dabbe54b04be6498b73ee2f408": {
      "model_module": "jupyter-cytoscape",
      "model_module_version": "^1.3.3",
      "model_name": "NodeModel",
      "state": {
       "_model_module_version": "^1.3.3",
       "_view_module_version": "^1.3.3",
       "data": {
        "color": "gray",
        "id": "-6352851238962669772",
        "label": "apply_transform",
        "shape": "ellipse"
       },
       "grabbable": true,
       "grabbed": false,
       "position": {
        "x": 314,
        "y": 395
       },
       "selectable": false
      }
     },
     "0354c44c23c3477495e0c663ad1c83dc": {
      "model_module": "jupyter-cytoscape",
      "model_module_version": "^1.3.3",
      "model_name": "EdgeModel",
      "state": {
       "_model_module_version": "^1.3.3",
       "_view_module_version": "^1.3.3",
       "classes": " directed ",
       "data": {
        "id": "59c2f64d-6ac5-4f08-b403-671c1590406a",
        "source": "-8628972586876148174",
        "target": "-2181692662867171182"
       },
       "selectable": false
      }
     },
     "03c81f1f567240829e453b11fd08034f": {
      "model_module": "jupyter-cytoscape",
      "model_module_version": "^1.3.3",
      "model_name": "NodeModel",
      "state": {
       "_model_module_version": "^1.3.3",
       "_view_module_version": "^1.3.3",
       "data": {
        "color": "gray",
        "id": "5361702006548743999",
        "label": "(1, 0, 0, 0)",
        "shape": "rectangle"
       },
       "grabbable": true,
       "grabbed": false,
       "position": {
        "x": 412.75,
        "y": 1235
       },
       "selectable": false
      }
     },
     "043ba6bb52424e36a5d45468eaa5765c": {
      "model_module": "jupyter-cytoscape",
      "model_module_version": "^1.3.3",
      "model_name": "EdgeModel",
      "state": {
       "_model_module_version": "^1.3.3",
       "_view_module_version": "^1.3.3",
       "classes": " directed ",
       "data": {
        "id": "7aab8d48-fd88-463f-aea6-56cbe69760f9",
        "source": "-5645729971000478200",
        "target": "-3295662982683114287"
       },
       "selectable": false
      }
     },
     "049442bd74df440f973955641d7fade5": {
      "model_module": "jupyter-cytoscape",
      "model_module_version": "^1.3.3",
      "model_name": "NodeModel",
      "state": {
       "_model_module_version": "^1.3.3",
       "_view_module_version": "^1.3.3",
       "data": {
        "color": "gray",
        "id": "8809161913446549569",
        "label": "0",
        "shape": "rectangle"
       },
       "grabbable": true,
       "grabbed": false,
       "position": {
        "x": 727.75,
        "y": 1835
       },
       "selectable": false
      }
     },
     "07223dde970c417285d96473bc12d69e": {
      "model_module": "jupyter-cytoscape",
      "model_module_version": "^1.3.3",
      "model_name": "EdgeModel",
      "state": {
       "_model_module_version": "^1.3.3",
       "_view_module_version": "^1.3.3",
       "classes": " directed ",
       "data": {
        "id": "769f80d0-fb13-464e-a7c9-2404be4b496f",
        "source": "3211977773418884138",
        "target": "6355445888161660327"
       },
       "selectable": false
      }
     },
     "0c4a7e94e92b499cac2956f953989782": {
      "model_module": "jupyter-cytoscape",
      "model_module_version": "^1.3.3",
      "model_name": "NodeModel",
      "state": {
       "_model_module_version": "^1.3.3",
       "_view_module_version": "^1.3.3",
       "data": {
        "color": "gray",
        "id": "7569125811984949591",
        "label": "",
        "shape": "rectangle"
       },
       "grabbable": true,
       "grabbed": false,
       "position": {
        "x": 304,
        "y": 2195
       },
       "selectable": false
      }
     },
     "0d000f3deda7472bbbb7b2ab8c61f89d": {
      "model_module": "jupyter-cytoscape",
      "model_module_version": "^1.3.3",
      "model_name": "NodeModel",
      "state": {
       "_model_module_version": "^1.3.3",
       "_view_module_version": "^1.3.3",
       "data": {
        "color": "gray",
        "id": "2729367511716245002",
        "label": "mean_chunk",
        "shape": "ellipse"
       },
       "grabbable": true,
       "grabbed": false,
       "position": {
        "x": 412.75,
        "y": 635
       },
       "selectable": false
      }
     },
     "0d49e061619e4efebd244d7aaaa337a3": {
      "model_module": "jupyter-cytoscape",
      "model_module_version": "^1.3.3",
      "model_name": "NodeModel",
      "state": {
       "_model_module_version": "^1.3.3",
       "_view_module_version": "^1.3.3",
       "data": {
        "color": "gray",
        "id": "-7553528532650097432",
        "label": "",
        "shape": "rectangle"
       },
       "grabbable": true,
       "grabbed": false,
       "position": {
        "x": 938.25,
        "y": 2195
       },
       "selectable": false
      }
     },
     "0d908892f4b3470a949b5e4d6f7587dd": {
      "model_module": "jupyter-cytoscape",
      "model_module_version": "^1.3.3",
      "model_name": "NodeModel",
      "state": {
       "_model_module_version": "^1.3.3",
       "_view_module_version": "^1.3.3",
       "data": {
        "color": "gray",
        "id": "-4485154418182438496",
        "label": "getitem",
        "shape": "ellipse"
       },
       "grabbable": true,
       "grabbed": false,
       "position": {
        "x": 935,
        "y": 635
       },
       "selectable": false
      }
     },
     "0d9cf1d86b564b788f19ec3a8c4f84f3": {
      "model_module": "jupyter-cytoscape",
      "model_module_version": "^1.3.3",
      "model_name": "NodeModel",
      "state": {
       "_model_module_version": "^1.3.3",
       "_view_module_version": "^1.3.3",
       "data": {
        "color": "gray",
        "id": "2770177398001351363",
        "label": "wrap_with_array",
        "shape": "ellipse"
       },
       "grabbable": true,
       "grabbed": false,
       "position": {
        "x": 98,
        "y": 2075
       },
       "selectable": false
      }
     },
     "0eb611600ed44297ab3bce20621323a6": {
      "model_module": "jupyter-cytoscape",
      "model_module_version": "^1.3.3",
      "model_name": "NodeModel",
      "state": {
       "_model_module_version": "^1.3.3",
       "_view_module_version": "^1.3.3",
       "data": {
        "color": "gray",
        "id": "-7098068387393164977",
        "label": "(0, 0)",
        "shape": "rectangle"
       },
       "grabbable": true,
       "grabbed": false,
       "position": {
        "x": 98,
        "y": 1475
       },
       "selectable": false
      }
     },
     "1042adabb8974cfab1e6095424660f75": {
      "model_module": "jupyter-cytoscape",
      "model_module_version": "^1.3.3",
      "model_name": "NodeModel",
      "state": {
       "_model_module_version": "^1.3.3",
       "_view_module_version": "^1.3.3",
       "data": {
        "color": "gray",
        "id": "1745559636348230920",
        "label": "intensity",
        "shape": "ellipse"
       },
       "grabbable": true,
       "grabbed": false,
       "position": {
        "x": 728.25,
        "y": 875
       },
       "selectable": false
      }
     },
     "10fd4489980241c08f813be36929f0df": {
      "model_module": "jupyter-cytoscape",
      "model_module_version": "^1.3.3",
      "model_name": "NodeModel",
      "state": {
       "_model_module_version": "^1.3.3",
       "_view_module_version": "^1.3.3",
       "data": {
        "color": "gray",
        "id": "2161184395296273586",
        "label": "getitem",
        "shape": "ellipse"
       },
       "grabbable": true,
       "grabbed": false,
       "position": {
        "x": 412.75,
        "y": 1115
       },
       "selectable": false
      }
     },
     "130c18eb930f4d0790a3902f1bdec8da": {
      "model_module": "jupyter-cytoscape",
      "model_module_version": "^1.3.3",
      "model_name": "NodeModel",
      "state": {
       "_model_module_version": "^1.3.3",
       "_view_module_version": "^1.3.3",
       "data": {
        "color": "gray",
        "id": "-8268939450849820016",
        "label": "(1, 0, 0)",
        "shape": "rectangle"
       },
       "grabbable": true,
       "grabbed": false,
       "position": {
        "x": 314,
        "y": 35
       },
       "selectable": false
      }
     },
     "130d7431e09f46239c32d44ad8f8bb01": {
      "model_module": "jupyter-cytoscape",
      "model_module_version": "^1.3.3",
      "model_name": "NodeModel",
      "state": {
       "_model_module_version": "^1.3.3",
       "_view_module_version": "^1.3.3",
       "data": {
        "color": "gray",
        "id": "-1218509990055383426",
        "label": "(0, 0, 0)",
        "shape": "rectangle"
       },
       "grabbable": true,
       "grabbed": false,
       "position": {
        "x": 98,
        "y": 515
       },
       "selectable": false
      }
     },
     "1351ddb9e5d5451e91b75ff9ea1f2900": {
      "model_module": "jupyter-cytoscape",
      "model_module_version": "^1.3.3",
      "model_name": "EdgeModel",
      "state": {
       "_model_module_version": "^1.3.3",
       "_view_module_version": "^1.3.3",
       "classes": " directed ",
       "data": {
        "id": "8c3745ee-1be5-4fc7-9ccb-b6099eab257d",
        "source": "8679321251970945206",
        "target": "-3386515541091970270"
       },
       "selectable": false
      }
     },
     "15fed25fb56441d699b39aa799d9df6c": {
      "model_module": "jupyter-cytoscape",
      "model_module_version": "^1.3.3",
      "model_name": "EdgeModel",
      "state": {
       "_model_module_version": "^1.3.3",
       "_view_module_version": "^1.3.3",
       "classes": " directed ",
       "data": {
        "id": "fa7af7d2-5083-4c0b-ad2b-2dfd90675617",
        "source": "-321044688004105615",
        "target": "-8537269885570877590"
       },
       "selectable": false
      }
     },
     "190fbadae0444c91bef6d1b228ea1eea": {
      "model_module": "jupyter-cytoscape",
      "model_module_version": "^1.3.3",
      "model_name": "EdgeModel",
      "state": {
       "_model_module_version": "^1.3.3",
       "_view_module_version": "^1.3.3",
       "classes": " directed ",
       "data": {
        "id": "5a919d62-1c36-4dc8-afb4-b8305875e9ec",
        "source": "6053123379094276244",
        "target": "-7551546998126762499"
       },
       "selectable": false
      }
     },
     "1a3fa3a1757b4a82b79d331593a2c9bc": {
      "model_module": "jupyter-cytoscape",
      "model_module_version": "^1.3.3",
      "model_name": "NodeModel",
      "state": {
       "_model_module_version": "^1.3.3",
       "_view_module_version": "^1.3.3",
       "data": {
        "color": "gray",
        "id": "-321044688004105615",
        "label": "(0, 0, 0)",
        "shape": "rectangle"
       },
       "grabbable": true,
       "grabbed": false,
       "position": {
        "x": 98,
        "y": 995
       },
       "selectable": false
      }
     },
     "1b08e1f2d6484bfd814018f9c41a8dc9": {
      "model_module": "jupyter-cytoscape",
      "model_module_version": "^1.3.3",
      "model_name": "NodeModel",
      "state": {
       "_model_module_version": "^1.3.3",
       "_view_module_version": "^1.3.3",
       "data": {
        "color": "gray",
        "id": "-4658344091649641651",
        "label": "()",
        "shape": "rectangle"
       },
       "grabbable": true,
       "grabbed": false,
       "position": {
        "x": 515.75,
        "y": 1715
       },
       "selectable": false
      }
     },
     "1b1f7250d49c4adabcd8f85a72ba9732": {
      "model_module": "jupyter-cytoscape",
      "model_module_version": "^1.3.3",
      "model_name": "EdgeModel",
      "state": {
       "_model_module_version": "^1.3.3",
       "_view_module_version": "^1.3.3",
       "classes": " directed ",
       "data": {
        "id": "d54ce942-504e-4510-81df-e427f5778813",
        "source": "-3295662982683114287",
        "target": "-3344550489857690158"
       },
       "selectable": false
      }
     },
     "1b99c61072e043209361a30c3098e340": {
      "model_module": "jupyter-cytoscape",
      "model_module_version": "^1.3.3",
      "model_name": "NodeModel",
      "state": {
       "_model_module_version": "^1.3.3",
       "_view_module_version": "^1.3.3",
       "data": {
        "color": "gray",
        "id": "3291611302884136552",
        "label": "(3, 0, 0)",
        "shape": "rectangle"
       },
       "grabbable": true,
       "grabbed": false,
       "position": {
        "x": 728.25,
        "y": 995
       },
       "selectable": false
      }
     },
     "1bacf60bccfc4f0896e2b89325d6f623": {
      "model_module": "jupyter-cytoscape",
      "model_module_version": "^1.3.3",
      "model_name": "EdgeModel",
      "state": {
       "_model_module_version": "^1.3.3",
       "_view_module_version": "^1.3.3",
       "classes": " directed ",
       "data": {
        "id": "13b80f56-9ccd-4d6c-9672-4093c4992342",
        "source": "8679321251970945206",
        "target": "7955502078889264538"
       },
       "selectable": false
      }
     },
     "1bd5003d0149408897d54870561b86e9": {
      "model_module": "jupyter-cytoscape",
      "model_module_version": "^1.3.3",
      "model_name": "EdgeModel",
      "state": {
       "_model_module_version": "^1.3.3",
       "_view_module_version": "^1.3.3",
       "classes": " directed ",
       "data": {
        "id": "78062417-a84f-4254-9128-d8d27c70c666",
        "source": "-2181692662867171182",
        "target": "-3065761944250121716"
       },
       "selectable": false
      }
     },
     "1bf9f045a4fc4a5fac02b03af48f35ab": {
      "model_module": "jupyter-cytoscape",
      "model_module_version": "^1.3.3",
      "model_name": "NodeModel",
      "state": {
       "_model_module_version": "^1.3.3",
       "_view_module_version": "^1.3.3",
       "data": {
        "color": "gray",
        "id": "428187117563818069",
        "label": "3",
        "shape": "rectangle"
       },
       "grabbable": true,
       "grabbed": false,
       "position": {
        "x": 727.75,
        "y": 1715
       },
       "selectable": false
      }
     },
     "1c00f75eb30f44419010c63299a4b4c7": {
      "model_module": "jupyter-cytoscape",
      "model_module_version": "^1.3.3",
      "model_name": "NodeModel",
      "state": {
       "_model_module_version": "^1.3.3",
       "_view_module_version": "^1.3.3",
       "data": {
        "color": "gray",
        "id": "-4600946410069053293",
        "label": "(0, 0, 0, 0)",
        "shape": "rectangle"
       },
       "grabbable": true,
       "grabbed": false,
       "position": {
        "x": 98,
        "y": 1235
       },
       "selectable": false
      }
     },
     "1c459e3989b047a18577d20228f4d0f8": {
      "model_module": "jupyter-cytoscape",
      "model_module_version": "^1.3.3",
      "model_name": "EdgeModel",
      "state": {
       "_model_module_version": "^1.3.3",
       "_view_module_version": "^1.3.3",
       "classes": " directed ",
       "data": {
        "id": "1ce795c1-d0fb-4261-bcff-995bf137b229",
        "source": "5433623216836545205",
        "target": "-1218509990055383426"
       },
       "selectable": false
      }
     },
     "1ea5ae692ba743daa73020f218cc2723": {
      "model_module": "jupyter-cytoscape",
      "model_module_version": "^1.3.3",
      "model_name": "NodeModel",
      "state": {
       "_model_module_version": "^1.3.3",
       "_view_module_version": "^1.3.3",
       "data": {
        "color": "gray",
        "id": "8809161913446549569",
        "label": "0",
        "shape": "rectangle"
       },
       "grabbable": true,
       "grabbed": false,
       "position": {
        "x": 935,
        "y": 875
       },
       "selectable": false
      }
     },
     "1f4f3d88a0824c7fb1c5ffed52f89385": {
      "model_module": "jupyter-cytoscape",
      "model_module_version": "^1.3.3",
      "model_name": "NodeModel",
      "state": {
       "_model_module_version": "^1.3.3",
       "_view_module_version": "^1.3.3",
       "data": {
        "color": "gray",
        "id": "6355445888161660327",
        "label": "getitem",
        "shape": "ellipse"
       },
       "grabbable": true,
       "grabbed": false,
       "position": {
        "x": 304,
        "y": 1595
       },
       "selectable": false
      }
     },
     "1fd14088e48a460992b99fbf8da3e335": {
      "model_module": "jupyter-cytoscape",
      "model_module_version": "^1.3.3",
      "model_name": "EdgeModel",
      "state": {
       "_model_module_version": "^1.3.3",
       "_view_module_version": "^1.3.3",
       "classes": " directed ",
       "data": {
        "id": "ebe7b856-56bb-47da-93dd-4cfd7e4abd54",
        "source": "-2401193227864883118",
        "target": "-4658344091649641651"
       },
       "selectable": false
      }
     },
     "21a1bfe9e5eb4e4ca6b26c73f6554c27": {
      "model_module": "jupyter-cytoscape",
      "model_module_version": "^1.3.3",
      "model_name": "EdgeModel",
      "state": {
       "_model_module_version": "^1.3.3",
       "_view_module_version": "^1.3.3",
       "classes": " directed ",
       "data": {
        "id": "aa1e84ef-dead-4936-ad17-c4fb64379574",
        "source": "6355445888161660327",
        "target": "2752080264571223075"
       },
       "selectable": false
      }
     },
     "2300bd28c5654c34aad01047ee5a3237": {
      "model_module": "jupyter-cytoscape",
      "model_module_version": "^1.3.3",
      "model_name": "EdgeModel",
      "state": {
       "_model_module_version": "^1.3.3",
       "_view_module_version": "^1.3.3",
       "classes": " directed ",
       "data": {
        "id": "d6660a00-b9dc-4297-992c-273732eb4731",
        "source": "8809161913446549569",
        "target": "428187117563818069"
       },
       "selectable": false
      }
     },
     "2364ae6d398346178d45050838b0924d": {
      "model_module": "jupyter-cytoscape",
      "model_module_version": "^1.3.3",
      "model_name": "EdgeModel",
      "state": {
       "_model_module_version": "^1.3.3",
       "_view_module_version": "^1.3.3",
       "classes": " directed ",
       "data": {
        "id": "9038ec90-86c2-4ee3-b1d5-08888a82fee2",
        "source": "6400487052080449181",
        "target": "8809161913446549569"
       },
       "selectable": false
      }
     },
     "23a9103f56c14bc9844e1de56efa07a7": {
      "model_module": "jupyter-cytoscape",
      "model_module_version": "^1.3.3",
      "model_name": "EdgeModel",
      "state": {
       "_model_module_version": "^1.3.3",
       "_view_module_version": "^1.3.3",
       "classes": " directed ",
       "data": {
        "id": "0b5ebbf1-6955-4d85-aedb-5196105d6d70",
        "source": "-7674350969418381476",
        "target": "6053123379094276244"
       },
       "selectable": false
      }
     },
     "25e866bc0611486480c6796bdb218148": {
      "model_module": "jupyter-cytoscape",
      "model_module_version": "^1.3.3",
      "model_name": "EdgeModel",
      "state": {
       "_model_module_version": "^1.3.3",
       "_view_module_version": "^1.3.3",
       "classes": " directed ",
       "data": {
        "id": "44568efa-dccf-450c-b6e0-6e438640188e",
        "source": "7583327050442078625",
        "target": "-321044688004105615"
       },
       "selectable": false
      }
     },
     "2621688330e34572ad7282c03ad5a92a": {
      "model_module": "jupyter-cytoscape",
      "model_module_version": "^1.3.3",
      "model_name": "EdgeModel",
      "state": {
       "_model_module_version": "^1.3.3",
       "_view_module_version": "^1.3.3",
       "classes": " directed ",
       "data": {
        "id": "8d894b73-c38a-4fcb-8733-4d7632431844",
        "source": "6403833773942229874",
        "target": "8088897934273211597"
       },
       "selectable": false
      }
     },
     "27d918fb5f5546a1acbd6b07532130bb": {
      "model_module": "jupyter-cytoscape",
      "model_module_version": "^1.3.3",
      "model_name": "EdgeModel",
      "state": {
       "_model_module_version": "^1.3.3",
       "_view_module_version": "^1.3.3",
       "classes": " directed ",
       "data": {
        "id": "1d11f165-28e6-41b6-a3cb-07b5c6f7f7ec",
        "source": "-3344550489857690158",
        "target": "-7098068387393164977"
       },
       "selectable": false
      }
     },
     "290b70b95ad14eeabe7cd9dc1308b890": {
      "model_module": "jupyter-cytoscape",
      "model_module_version": "^1.3.3",
      "model_name": "NodeModel",
      "state": {
       "_model_module_version": "^1.3.3",
       "_view_module_version": "^1.3.3",
       "data": {
        "color": "gray",
        "id": "-5214337360120380884",
        "label": "",
        "shape": "rectangle"
       },
       "grabbable": true,
       "grabbed": false,
       "position": {
        "x": 304,
        "y": 1955
       },
       "selectable": false
      }
     },
     "2c9fcfa74e134a7f88eeac5db1b06435": {
      "model_module": "jupyter-cytoscape",
      "model_module_version": "^1.3.3",
      "model_name": "NodeModel",
      "state": {
       "_model_module_version": "^1.3.3",
       "_view_module_version": "^1.3.3",
       "data": {
        "color": "gray",
        "id": "7569125811984949591",
        "label": "",
        "shape": "rectangle"
       },
       "grabbable": true,
       "grabbed": false,
       "position": {
        "x": 304,
        "y": 1235
       },
       "selectable": false
      }
     },
     "2cf45ab663fd43d1a2dff45a70f9e90c": {
      "model_module": "jupyter-cytoscape",
      "model_module_version": "^1.3.3",
      "model_name": "EdgeModel",
      "state": {
       "_model_module_version": "^1.3.3",
       "_view_module_version": "^1.3.3",
       "classes": " directed ",
       "data": {
        "id": "3b9161e5-70ce-4fe0-a7cf-cdc4045860d9",
        "source": "8679321251970945206",
        "target": "-8628972586876148174"
       },
       "selectable": false
      }
     },
     "2d2d463aebea4c0da614884b0642cae8": {
      "model_module": "jupyter-cytoscape",
      "model_module_version": "^1.3.3",
      "model_name": "NodeModel",
      "state": {
       "_model_module_version": "^1.3.3",
       "_view_module_version": "^1.3.3",
       "data": {
        "color": "gray",
        "id": "6400487052080449181",
        "label": "",
        "shape": "rectangle"
       },
       "grabbable": true,
       "grabbed": false,
       "position": {
        "x": 935,
        "y": 995
       },
       "selectable": false
      }
     },
     "2d973dc71dc44f96aff916058f10ff7c": {
      "model_module": "jupyter-cytoscape",
      "model_module_version": "^1.3.3",
      "model_name": "EdgeModel",
      "state": {
       "_model_module_version": "^1.3.3",
       "_view_module_version": "^1.3.3",
       "classes": " directed ",
       "data": {
        "id": "f026051c-4c91-42ce-aa20-3af43f656ca6",
        "source": "-3295662982683114287",
        "target": "-3344550489857690158"
       },
       "selectable": false
      }
     },
     "2eafd27c97b74d9dae902871025b0dea": {
      "model_module": "jupyter-cytoscape",
      "model_module_version": "^1.3.3",
      "model_name": "NodeModel",
      "state": {
       "_model_module_version": "^1.3.3",
       "_view_module_version": "^1.3.3",
       "data": {
        "color": "gray",
        "id": "2770177398001351363",
        "label": "wrap_with_array",
        "shape": "ellipse"
       },
       "grabbable": true,
       "grabbed": false,
       "position": {
        "x": 98,
        "y": 1115
       },
       "selectable": false
      }
     },
     "2f431e72befa4d56bfd0c216d70c1ea3": {
      "model_module": "jupyter-cytoscape",
      "model_module_version": "^1.3.3",
      "model_name": "NodeModel",
      "state": {
       "_model_module_version": "^1.3.3",
       "_view_module_version": "^1.3.3",
       "data": {
        "color": "gray",
        "id": "8679321251970945206",
        "label": "(0, 0)",
        "shape": "rectangle"
       },
       "grabbable": true,
       "grabbed": false,
       "position": {
        "x": 515.75,
        "y": 1475
       },
       "selectable": false
      }
     },
     "3024344f63fe450bb1e92111cc85e33d": {
      "model_module": "jupyter-cytoscape",
      "model_module_version": "^1.3.3",
      "model_name": "NodeModel",
      "state": {
       "_model_module_version": "^1.3.3",
       "_view_module_version": "^1.3.3",
       "data": {
        "color": "gray",
        "id": "6355445888161660327",
        "label": "getitem",
        "shape": "ellipse"
       },
       "grabbable": true,
       "grabbed": false,
       "position": {
        "x": 304,
        "y": 635
       },
       "selectable": false
      }
     },
     "31668530273c4267b422849d97952677": {
      "model_module": "jupyter-cytoscape",
      "model_module_version": "^1.3.3",
      "model_name": "EdgeModel",
      "state": {
       "_model_module_version": "^1.3.3",
       "_view_module_version": "^1.3.3",
       "classes": " directed ",
       "data": {
        "id": "80d505d1-4cec-45bb-8123-30ed84472828",
        "source": "3932623954934416386",
        "target": "-5214337360120380884"
       },
       "selectable": false
      }
     },
     "32619ee6aefb47e3a52ca0708610bfc2": {
      "model_module": "jupyter-cytoscape",
      "model_module_version": "^1.3.3",
      "model_name": "EdgeModel",
      "state": {
       "_model_module_version": "^1.3.3",
       "_view_module_version": "^1.3.3",
       "classes": " directed ",
       "data": {
        "id": "4ed8c220-46d7-4479-874c-f58826ed8aa1",
        "source": "-7388406578294301860",
        "target": "-7674350969418381476"
       },
       "selectable": false
      }
     },
     "33310ee6dfe843ae9fcede7eb98d8943": {
      "model_module": "jupyter-cytoscape",
      "model_module_version": "^1.3.3",
      "model_name": "NodeModel",
      "state": {
       "_model_module_version": "^1.3.3",
       "_view_module_version": "^1.3.3",
       "data": {
        "color": "gray",
        "id": "-3065761944250121716",
        "label": "getitem",
        "shape": "ellipse"
       },
       "grabbable": true,
       "grabbed": false,
       "position": {
        "x": 728.25,
        "y": 1115
       },
       "selectable": false
      }
     },
     "341c5a11e5d24967a07e0b38a0fec7dd": {
      "model_module": "jupyter-cytoscape",
      "model_module_version": "^1.3.3",
      "model_name": "EdgeModel",
      "state": {
       "_model_module_version": "^1.3.3",
       "_view_module_version": "^1.3.3",
       "classes": " directed ",
       "data": {
        "id": "df35bcb6-d8cd-4fd2-98c9-866550e68717",
        "source": "3211977773418884138",
        "target": "6355445888161660327"
       },
       "selectable": false
      }
     },
     "355ccd1096154575919aea3e09bb1b37": {
      "model_module": "jupyter-cytoscape",
      "model_module_version": "^1.3.3",
      "model_name": "EdgeModel",
      "state": {
       "_model_module_version": "^1.3.3",
       "_view_module_version": "^1.3.3",
       "classes": " directed ",
       "data": {
        "id": "e371590e-509d-48a5-bf5f-b074aa0b1863",
        "source": "-4658344091649641651",
        "target": "-6398719801904312020"
       },
       "selectable": false
      }
     },
     "3598728ebf334b9c90a1a9cd8c5bfe6c": {
      "model_module": "jupyter-cytoscape",
      "model_module_version": "^1.3.3",
      "model_name": "NodeModel",
      "state": {
       "_model_module_version": "^1.3.3",
       "_view_module_version": "^1.3.3",
       "data": {
        "color": "gray",
        "id": "3211977773418884138",
        "label": "1",
        "shape": "rectangle"
       },
       "grabbable": true,
       "grabbed": false,
       "position": {
        "x": 304,
        "y": 1715
       },
       "selectable": false
      }
     },
     "387b9094f795408384c354a9f4573d99": {
      "model_module": "jupyter-cytoscape",
      "model_module_version": "^1.3.3",
      "model_name": "EdgeModel",
      "state": {
       "_model_module_version": "^1.3.3",
       "_view_module_version": "^1.3.3",
       "classes": " directed ",
       "data": {
        "id": "70d5262a-494c-48be-94e3-fb12b5380238",
        "source": "3096592054009723045",
        "target": "-7623006230979371239"
       },
       "selectable": false
      }
     },
     "38b5440fe63e44299c22259dca2c905c": {
      "model_module": "jupyter-cytoscape",
      "model_module_version": "^1.3.3",
      "model_name": "EdgeModel",
      "state": {
       "_model_module_version": "^1.3.3",
       "_view_module_version": "^1.3.3",
       "classes": " directed ",
       "data": {
        "id": "99665a56-f4ff-4975-8088-f841885e8943",
        "source": "-7551546998126762499",
        "target": "6403833773942229874"
       },
       "selectable": false
      }
     },
     "3ce45981b566414ca3acfd0a9fce66c9": {
      "model_module": "jupyter-cytoscape",
      "model_module_version": "^1.3.3",
      "model_name": "NodeModel",
      "state": {
       "_model_module_version": "^1.3.3",
       "_view_module_version": "^1.3.3",
       "data": {
        "color": "gray",
        "id": "-6479075354348791664",
        "label": "(3, 0, 0)",
        "shape": "rectangle"
       },
       "grabbable": true,
       "grabbed": false,
       "position": {
        "x": 728.25,
        "y": 755
       },
       "selectable": false
      }
     },
     "3d65e221068c479a8c59ed71ae6ee8e7": {
      "model_module": "jupyter-cytoscape",
      "model_module_version": "^1.3.3",
      "model_name": "CytoscapeModel",
      "state": {
       "_interaction_handlers": {},
       "_model_module_version": "^1.3.3",
       "_view_module_version": "^1.3.3",
       "auto_ungrabify": false,
       "autolock": false,
       "cytoscape_layout": {
        "edgeSep": 10,
        "name": "dagre",
        "nodeDimensionsIncludeLabels": true,
        "nodeSep": 10,
        "rankDir": "BT",
        "spacingFactor": 1
       },
       "cytoscape_style": [
        {
         "selector": "node",
         "style": {
          "background-color": "#eee",
          "border-color": "data(color)",
          "border-width": 4,
          "color": "black",
          "font-family": "helvetica",
          "font-size": "24px",
          "font-weight": "bold",
          "height": 64,
          "label": "data(label)",
          "opacity": "1.0",
          "shape": "data(shape)",
          "text-halign": "center",
          "text-valign": "center",
          "width": 64
         }
        },
        {
         "selector": "edge",
         "style": {
          "curve-style": "bezier",
          "line-color": "gray",
          "target-arrow-color": "gray",
          "target-arrow-shape": "triangle",
          "width": 8
         }
        }
       ],
       "desktop_tap_threshold": 4,
       "graph": "IPY_MODEL_420cd3b1632b4e3db9f4e44b9a2aad00",
       "headless": false,
       "hide_edges_on_viewport": false,
       "layout": "IPY_MODEL_5ce076c7b8aa428e84e267846452a0df",
       "max_zoom": 4,
       "min_zoom": 0.2,
       "motion_blur": false,
       "motion_blur_opacity": 0.2,
       "panning_enabled": true,
       "pixel_ratio": "auto",
       "rendered_position": {
        "renderedPosition": {
         "x": 100,
         "y": 100
        }
       },
       "selection_type": "single",
       "style_enabled": true,
       "texture_on_viewport": false,
       "tooltip_source": "tooltip",
       "touch_tap_threshold": 8,
       "user_panning_enabled": true,
       "user_zooming_enabled": true,
       "wheel_sensitivity": 0.1,
       "zoom": 2,
       "zooming_enabled": true
      }
     },
     "3fdfd7ea8c83424ba68cdc25e06dd6b2": {
      "model_module": "jupyter-cytoscape",
      "model_module_version": "^1.3.3",
      "model_name": "NodeModel",
      "state": {
       "_model_module_version": "^1.3.3",
       "_view_module_version": "^1.3.3",
       "data": {
        "color": "gray",
        "id": "-4658344091649641651",
        "label": "()",
        "shape": "rectangle"
       },
       "grabbable": true,
       "grabbed": false,
       "position": {
        "x": 516.5,
        "y": 755
       },
       "selectable": false
      }
     },
     "407a6c4067a04ccc91404d3ff46eed0a": {
      "model_module": "jupyter-cytoscape",
      "model_module_version": "^1.3.3",
      "model_name": "EdgeModel",
      "state": {
       "_model_module_version": "^1.3.3",
       "_view_module_version": "^1.3.3",
       "classes": " directed ",
       "data": {
        "id": "cf766320-9e0f-4b84-85f9-bc0d74607d17",
        "source": "-4485154418182438496",
        "target": "-2550997806106363480"
       },
       "selectable": false
      }
     },
     "40da445e21df4a67b34ac2d19cd59534": {
      "model_module": "jupyter-cytoscape",
      "model_module_version": "^1.3.3",
      "model_name": "NodeModel",
      "state": {
       "_model_module_version": "^1.3.3",
       "_view_module_version": "^1.3.3",
       "data": {
        "color": "gray",
        "id": "-6352851238962669772",
        "label": "apply_transform",
        "shape": "ellipse"
       },
       "grabbable": true,
       "grabbed": false,
       "position": {
        "x": 412.75,
        "y": 1355
       },
       "selectable": false
      }
     },
     "420cd3b1632b4e3db9f4e44b9a2aad00": {
      "model_module": "jupyter-cytoscape",
      "model_module_version": "^1.3.3",
      "model_name": "GraphModel",
      "state": {
       "_adj": {
        "-1218509990055383426": {},
        "-1458914705359311844": {},
        "-1681096255553812228": {},
        "-2181692662867171182": {},
        "-2401193227864883118": {},
        "-2550997806106363480": {},
        "-2764025106015535249": {},
        "-3065761944250121716": {},
        "-321044688004105615": {},
        "-3295662982683114287": {},
        "-3344550489857690158": {},
        "-3386515541091970270": {},
        "-3942746056985846155": {},
        "-4075821795954895455": {},
        "-4485154418182438496": {},
        "-4600946410069053293": {},
        "-4633378280018691195": {},
        "-4658344091649641651": {},
        "-4802313742835863934": {},
        "-5214337360120380884": {},
        "-5645729971000478200": {},
        "-6009689283054284593": {},
        "-6352084207916844631": {},
        "-6352851238962669772": {},
        "-6398719801904312020": {},
        "-6479075354348791664": {},
        "-7098068387393164977": {},
        "-7388406578294301860": {},
        "-7551546998126762499": {},
        "-7553528532650097432": {},
        "-7623006230979371239": {},
        "-7674350969418381476": {},
        "-8268939450849820016": {},
        "-8537269885570877590": {},
        "-8628972586876148174": {},
        "-8733925349984747322": {},
        "1745559636348230920": {},
        "2043299395476905912": {},
        "2161184395296273586": {},
        "2550625352975215854": {},
        "2729367511716245002": {},
        "2752080264571223075": {},
        "2770177398001351363": {},
        "3088764688101585121": {},
        "3096592054009723045": {},
        "315022417830977382": {},
        "3211977773418884138": {},
        "3291611302884136552": {},
        "3438298714983544948": {},
        "3450144630694137243": {},
        "3932623954934416386": {},
        "428187117563818069": {},
        "5076508851147937562": {},
        "5359001743737252966": {},
        "5361702006548743999": {},
        "5433623216836545205": {},
        "5943683380694205014": {},
        "600657879845808741": {},
        "6053123379094276244": {},
        "6355445888161660327": {},
        "6400487052080449181": {},
        "6403833773942229874": {},
        "7569125811984949591": {},
        "7583327050442078625": {},
        "7780764556268237765": {},
        "7955502078889264538": {},
        "8088897934273211597": {},
        "8347099738205443168": {},
        "8679321251970945206": {},
        "8809161913446549569": {}
       },
       "_model_module_version": "^1.3.3",
       "_view_module": "jupyter-cytoscape",
       "_view_module_version": "^1.3.3",
       "edges": [
        "IPY_MODEL_e371fd1634b449a0b82b0f9754990668",
        "IPY_MODEL_8bb4bebe166e41e8b51b7d93a3006d8f",
        "IPY_MODEL_a2f4eaef481343fa98d20d6b765582bf",
        "IPY_MODEL_5e564487145942e68dfc343c4d9bfd43",
        "IPY_MODEL_8114b9c5206840e0895ac1933d925b1e",
        "IPY_MODEL_5b0858aea4e04da6913e7dbd32464500",
        "IPY_MODEL_c3529f2864174d6cbe542641c4a4133a",
        "IPY_MODEL_77372af5645b4ed7a39fa3d9321703ea",
        "IPY_MODEL_8f646d93aff544d7bca4a124910894d7",
        "IPY_MODEL_6b08062fdc1c4498ba3e6293f7b71cf0",
        "IPY_MODEL_6011d3302e05460ab47146f7736d2ec4",
        "IPY_MODEL_5af411494ea841dc9857abf4e049a3c3",
        "IPY_MODEL_043ba6bb52424e36a5d45468eaa5765c",
        "IPY_MODEL_6b8e35318cd24ce7b87f1eb7565b0c14",
        "IPY_MODEL_f15ec8e1fa0a4d118d941726463be850",
        "IPY_MODEL_2300bd28c5654c34aad01047ee5a3237",
        "IPY_MODEL_ed998d5ab5834bc6bdf32d715f31df68",
        "IPY_MODEL_b6fffd97ee274702b037b354510c71c1",
        "IPY_MODEL_ddd89c6bfc1842c484adca5de8bcf617",
        "IPY_MODEL_31668530273c4267b422849d97952677",
        "IPY_MODEL_d25539ce4309484a9af2e6b1a95ac3d6",
        "IPY_MODEL_e5a14edf863143e9b4dc78d6aadc6614",
        "IPY_MODEL_82778946e6f8422087f07017b3d198e3",
        "IPY_MODEL_df99691a4aec4e4db7b2416fe3886cea",
        "IPY_MODEL_ee5c64f41a5a4089a49aa2f09e88d61b",
        "IPY_MODEL_9e884738c09a4fa5bb978c95d0599a28",
        "IPY_MODEL_d89ddd8a0e464ce2b67bea19249a9dd6",
        "IPY_MODEL_b6f1a2bbba0c4fc0a6c9122e66cf069a",
        "IPY_MODEL_c339709359fb431cb4a6b2b55a540cc6",
        "IPY_MODEL_1b1f7250d49c4adabcd8f85a72ba9732",
        "IPY_MODEL_eb63ffd11aa747a29ea245a04ed8198e",
        "IPY_MODEL_341c5a11e5d24967a07e0b38a0fec7dd",
        "IPY_MODEL_b4f384715d8f4c7ab11b551e569d1b3a",
        "IPY_MODEL_9f889af8865646d49592628e23d05da5",
        "IPY_MODEL_84ae2d905713427585cee882c5372930",
        "IPY_MODEL_7eb3bb1771174b989b2a8526ec43453b",
        "IPY_MODEL_44286350a7bd46ae8fbe987b01e015a8",
        "IPY_MODEL_69abfc3aaa68439f8c0cfdbb1b079eca",
        "IPY_MODEL_6a4baa80d77b4a4d884796cb45a2fd09",
        "IPY_MODEL_7a780b77210e4769b9deb2a888f8abd7",
        "IPY_MODEL_9c5815ac55cc426ca9dcf62da635ba12",
        "IPY_MODEL_bc5f2a3b579645c8806b81428ec09d2f",
        "IPY_MODEL_45af04864b5644589094a7abc57dc49f",
        "IPY_MODEL_dbc85bf823ef4f138cea58e4369d0be1",
        "IPY_MODEL_8cb08a6fdbab47538e52686af9a07b4c",
        "IPY_MODEL_4f50d97924974fb491ce273bd991fcaf",
        "IPY_MODEL_cb5d1551dc3546c6beb23e3c4f3ea26d",
        "IPY_MODEL_b62d175a40634b969c378243d1af1038",
        "IPY_MODEL_15fed25fb56441d699b39aa799d9df6c",
        "IPY_MODEL_83cfaa84e49f437c820debac92981089",
        "IPY_MODEL_a013bfaf51fc42cd91ec7ce89af1dbd0",
        "IPY_MODEL_bd1d06780a05420bbf513779f51438d2",
        "IPY_MODEL_b6d20a169d9e42aa8574c084b5d51f47",
        "IPY_MODEL_78746e0c3fd14c3892cc6a2267d240ec",
        "IPY_MODEL_a8652226d70d4503a414447099e4dc51",
        "IPY_MODEL_1c459e3989b047a18577d20228f4d0f8",
        "IPY_MODEL_f074b07a272f4c549f0c704ae884801d",
        "IPY_MODEL_8c7c1374bcff4b01b233d8e9701434b8",
        "IPY_MODEL_5bb95d662d5e46799ada8a368e4a055f",
        "IPY_MODEL_e2594cee0f24419683ee9d33bb2cb1ff",
        "IPY_MODEL_ea5aa5be4296425ab2926d786557385d",
        "IPY_MODEL_32619ee6aefb47e3a52ca0708610bfc2",
        "IPY_MODEL_c189df79a150438c8ea71fb4dfc6c3b6",
        "IPY_MODEL_96757832d306442490aa594cba040df4",
        "IPY_MODEL_6bf9f9e48eef4aac9f981580428bbacf",
        "IPY_MODEL_cfe5e496a6c54003a3b099225abce6f5",
        "IPY_MODEL_190fbadae0444c91bef6d1b228ea1eea",
        "IPY_MODEL_23a9103f56c14bc9844e1de56efa07a7",
        "IPY_MODEL_a9e6e731bd3c47dbbb36ff9b13441b47",
        "IPY_MODEL_2621688330e34572ad7282c03ad5a92a",
        "IPY_MODEL_812426d99d944940a43cc1298283b4dc",
        "IPY_MODEL_38b5440fe63e44299c22259dca2c905c"
       ],
       "nodes": [
        "IPY_MODEL_a33d286a8fb9490ba7ceb712cfa7c11f",
        "IPY_MODEL_2f431e72befa4d56bfd0c216d70c1ea3",
        "IPY_MODEL_0eb611600ed44297ab3bce20621323a6",
        "IPY_MODEL_1c00f75eb30f44419010c63299a4b4c7",
        "IPY_MODEL_40da445e21df4a67b34ac2d19cd59534",
        "IPY_MODEL_fb4df4c019584db391a4bb528e88e543",
        "IPY_MODEL_03c81f1f567240829e453b11fd08034f",
        "IPY_MODEL_aff99bcac4cd499d8cbfa5fbf3592a69",
        "IPY_MODEL_98d3540155d44b8f840506aeee5654c9",
        "IPY_MODEL_75ed82d203db4de891b497d531c60642",
        "IPY_MODEL_6ab82534332a4cf5a7945576c24ed721",
        "IPY_MODEL_b4f59e5763914ecf82b1e6d8262329d3",
        "IPY_MODEL_6e2128b8de0140438a638293852cd391",
        "IPY_MODEL_5c745c026ebf435c8dffb38fb58f5302",
        "IPY_MODEL_3598728ebf334b9c90a1a9cd8c5bfe6c",
        "IPY_MODEL_7b4736bfadcd40d59d86910741d1ea73",
        "IPY_MODEL_1bf9f045a4fc4a5fac02b03af48f35ab",
        "IPY_MODEL_cf09e0f91f044db0b8b6d18fdd145387",
        "IPY_MODEL_0d9cf1d86b564b788f19ec3a8c4f84f3",
        "IPY_MODEL_824e32aa85f248fd83a3142c10b59d20",
        "IPY_MODEL_ebc23d0398e34ae9bb1c46e02ea11ead",
        "IPY_MODEL_0c4a7e94e92b499cac2956f953989782",
        "IPY_MODEL_5fb2e36f696d4d49a457c323f4fbb49a",
        "IPY_MODEL_290b70b95ad14eeabe7cd9dc1308b890",
        "IPY_MODEL_cc4878a0125a490586d26f0425a7640f",
        "IPY_MODEL_0d49e061619e4efebd244d7aaaa337a3",
        "IPY_MODEL_858243fe9885427a9b3c75b161dc2ec0",
        "IPY_MODEL_eee4e8ac97c5429d9b6588ee8ae160f0",
        "IPY_MODEL_025bb834df534e39be9fd8abd7d5219c",
        "IPY_MODEL_a8f20946ec6040db991b5b228ed95228",
        "IPY_MODEL_029b38693d03495da57e54fca4200f29",
        "IPY_MODEL_006bb40b5c6c4052aeada99b67bf0ae3",
        "IPY_MODEL_049442bd74df440f973955641d7fade5",
        "IPY_MODEL_fe8c6caad91d451bbdc2904665130261",
        "IPY_MODEL_1f4f3d88a0824c7fb1c5ffed52f89385",
        "IPY_MODEL_92d09db570f145aca62256a37875a8f3",
        "IPY_MODEL_d8c9a8fd7a9f4626abfe297f6cbfaa8f",
        "IPY_MODEL_fdb327b05e3344498ef15c674a6a1734",
        "IPY_MODEL_1b08e1f2d6484bfd814018f9c41a8dc9",
        "IPY_MODEL_4fc7ef10fbec46dba990aef44898dbc5",
        "IPY_MODEL_00c27a58b1584b53bceb560743162d95",
        "IPY_MODEL_1a3fa3a1757b4a82b79d331593a2c9bc",
        "IPY_MODEL_10fd4489980241c08f813be36929f0df",
        "IPY_MODEL_9fe7ba7a13d84d3ea20664cf31a31527",
        "IPY_MODEL_60834664d03d4c27a2b99d7ba6cdc30f",
        "IPY_MODEL_00458cdfdb4b454783abbf73214eb38d",
        "IPY_MODEL_33310ee6dfe843ae9fcede7eb98d8943",
        "IPY_MODEL_1b99c61072e043209361a30c3098e340",
        "IPY_MODEL_f79071de1c504318b39cf5f5382dfee2",
        "IPY_MODEL_785edc3872ae4aa59cb2c720c04caf80",
        "IPY_MODEL_85d87cc1f7584f9c9696da807b2d407d",
        "IPY_MODEL_7a7bd677ec3341eeae3e1a8c4c03ea3f",
        "IPY_MODEL_c79c599d3dfd49fab517a572921ca0db",
        "IPY_MODEL_96dd362d29be427a8ff8d2f4b05b7f5e",
        "IPY_MODEL_1042adabb8974cfab1e6095424660f75",
        "IPY_MODEL_3ce45981b566414ca3acfd0a9fce66c9",
        "IPY_MODEL_d7557654b8434514813bdef7fd35e9d3",
        "IPY_MODEL_130d7431e09f46239c32d44ad8f8bb01",
        "IPY_MODEL_0d000f3deda7472bbbb7b2ab8c61f89d",
        "IPY_MODEL_7f59915eaf6b40d1b8ff5e2e2e4cb460",
        "IPY_MODEL_58f24c06b1f54a5b9e5d3e01bcf28bd6",
        "IPY_MODEL_8f2503d670d74d9a8f669e3137753c8f",
        "IPY_MODEL_a463014971c24ec3b43e6b794a81bc87",
        "IPY_MODEL_73a676bd87a14ceeb8467cc9faf4080e",
        "IPY_MODEL_52179217c9d54296afb817e4c01ee06b",
        "IPY_MODEL_537b79234ef442d7afa7b5cad90cc934",
        "IPY_MODEL_9ce28afdf5844bbfbcad7fa18cfbdad7",
        "IPY_MODEL_faf90c713eea4f309281db6a5e64a573",
        "IPY_MODEL_6300d89857394d5fa488271f9c3c6036",
        "IPY_MODEL_fb66ba5451ce4ed1b3dee2481b8b5911"
       ]
      }
     },
     "43e653e4ab49437a9ba491e4ec183b76": {
      "model_module": "jupyter-cytoscape",
      "model_module_version": "^1.3.3",
      "model_name": "NodeModel",
      "state": {
       "_model_module_version": "^1.3.3",
       "_view_module_version": "^1.3.3",
       "data": {
        "color": "gray",
        "id": "-6398719801904312020",
        "label": "build_waves",
        "shape": "ellipse"
       },
       "grabbable": true,
       "grabbed": false,
       "position": {
        "x": 516.5,
        "y": 635
       },
       "selectable": false
      }
     },
     "44286350a7bd46ae8fbe987b01e015a8": {
      "model_module": "jupyter-cytoscape",
      "model_module_version": "^1.3.3",
      "model_name": "EdgeModel",
      "state": {
       "_model_module_version": "^1.3.3",
       "_view_module_version": "^1.3.3",
       "classes": " directed ",
       "data": {
        "id": "8df2aecf-24f8-4e8d-bc9a-503569ff3306",
        "source": "-2401193227864883118",
        "target": "-4658344091649641651"
       },
       "selectable": false
      }
     },
     "45af04864b5644589094a7abc57dc49f": {
      "model_module": "jupyter-cytoscape",
      "model_module_version": "^1.3.3",
      "model_name": "EdgeModel",
      "state": {
       "_model_module_version": "^1.3.3",
       "_view_module_version": "^1.3.3",
       "classes": " directed ",
       "data": {
        "id": "2086801e-360c-4a59-bc6e-10b36c55a401",
        "source": "5361702006548743999",
        "target": "2161184395296273586"
       },
       "selectable": false
      }
     },
     "4d564e26832b4df6a5276cadc3a5f613": {
      "model_module": "jupyter-cytoscape",
      "model_module_version": "^1.3.3",
      "model_name": "NodeModel",
      "state": {
       "_model_module_version": "^1.3.3",
       "_view_module_version": "^1.3.3",
       "data": {
        "color": "gray",
        "id": "-321044688004105615",
        "label": "(0, 0, 0)",
        "shape": "rectangle"
       },
       "grabbable": true,
       "grabbed": false,
       "position": {
        "x": 98,
        "y": 35
       },
       "selectable": false
      }
     },
     "4f50d97924974fb491ce273bd991fcaf": {
      "model_module": "jupyter-cytoscape",
      "model_module_version": "^1.3.3",
      "model_name": "EdgeModel",
      "state": {
       "_model_module_version": "^1.3.3",
       "_view_module_version": "^1.3.3",
       "classes": " directed ",
       "data": {
        "id": "b301131d-85af-4965-80b9-19587618d946",
        "source": "-3065761944250121716",
        "target": "3291611302884136552"
       },
       "selectable": false
      }
     },
     "4fc7ef10fbec46dba990aef44898dbc5": {
      "model_module": "jupyter-cytoscape",
      "model_module_version": "^1.3.3",
      "model_name": "NodeModel",
      "state": {
       "_model_module_version": "^1.3.3",
       "_view_module_version": "^1.3.3",
       "data": {
        "color": "gray",
        "id": "-6398719801904312020",
        "label": "build_waves",
        "shape": "ellipse"
       },
       "grabbable": true,
       "grabbed": false,
       "position": {
        "x": 515.75,
        "y": 1595
       },
       "selectable": false
      }
     },
     "52179217c9d54296afb817e4c01ee06b": {
      "model_module": "jupyter-cytoscape",
      "model_module_version": "^1.3.3",
      "model_name": "NodeModel",
      "state": {
       "_model_module_version": "^1.3.3",
       "_view_module_version": "^1.3.3",
       "data": {
        "color": "gray",
        "id": "8347099738205443168",
        "label": "mean_combine-partial",
        "shape": "ellipse"
       },
       "grabbable": true,
       "grabbed": false,
       "position": {
        "x": 407.75,
        "y": 395
       },
       "selectable": false
      }
     },
     "537b79234ef442d7afa7b5cad90cc934": {
      "model_module": "jupyter-cytoscape",
      "model_module_version": "^1.3.3",
      "model_name": "NodeModel",
      "state": {
       "_model_module_version": "^1.3.3",
       "_view_module_version": "^1.3.3",
       "data": {
        "color": "gray",
        "id": "-4075821795954895455",
        "label": "(0, 0, 0)",
        "shape": "rectangle"
       },
       "grabbable": true,
       "grabbed": false,
       "position": {
        "x": 407.75,
        "y": 275
       },
       "selectable": false
      }
     },
     "559f6fe06b17445ebd6cfc29a2eea8ce": {
      "model_module": "jupyter-cytoscape",
      "model_module_version": "^1.3.3",
      "model_name": "EdgeModel",
      "state": {
       "_model_module_version": "^1.3.3",
       "_view_module_version": "^1.3.3",
       "classes": " directed ",
       "data": {
        "id": "d624b0a2-1b62-4159-8ee4-9414c86626e5",
        "source": "8679321251970945206",
        "target": "-6352851238962669772"
       },
       "selectable": false
      }
     },
     "586eed34b81b4a31a4c440f25d5ac553": {
      "model_module": "jupyter-cytoscape",
      "model_module_version": "^1.3.3",
      "model_name": "NodeModel",
      "state": {
       "_model_module_version": "^1.3.3",
       "_view_module_version": "^1.3.3",
       "data": {
        "color": "gray",
        "id": "-7553528532650097432",
        "label": "",
        "shape": "rectangle"
       },
       "grabbable": true,
       "grabbed": false,
       "position": {
        "x": 729,
        "y": 1235
       },
       "selectable": false
      }
     },
     "58f24c06b1f54a5b9e5d3e01bcf28bd6": {
      "model_module": "jupyter-cytoscape",
      "model_module_version": "^1.3.3",
      "model_name": "NodeModel",
      "state": {
       "_model_module_version": "^1.3.3",
       "_view_module_version": "^1.3.3",
       "data": {
        "color": "gray",
        "id": "600657879845808741",
        "label": "mean_chunk",
        "shape": "ellipse"
       },
       "grabbable": true,
       "grabbed": false,
       "position": {
        "x": 938.25,
        "y": 635
       },
       "selectable": false
      }
     },
     "5a3b37b327d647cba7af115dbcc089de": {
      "model_module": "jupyter-cytoscape",
      "model_module_version": "^1.3.3",
      "model_name": "NodeModel",
      "state": {
       "_model_module_version": "^1.3.3",
       "_view_module_version": "^1.3.3",
       "data": {
        "color": "gray",
        "id": "3450144630694137243",
        "label": "",
        "shape": "rectangle"
       },
       "grabbable": true,
       "grabbed": false,
       "position": {
        "x": 935,
        "y": 1235
       },
       "selectable": false
      }
     },
     "5a8acb160e144433bd26731f87b1903c": {
      "model_module": "jupyter-cytoscape",
      "model_module_version": "^1.3.3",
      "model_name": "NodeModel",
      "state": {
       "_model_module_version": "^1.3.3",
       "_view_module_version": "^1.3.3",
       "data": {
        "color": "gray",
        "id": "-3065761944250121716",
        "label": "getitem",
        "shape": "ellipse"
       },
       "grabbable": true,
       "grabbed": false,
       "position": {
        "x": 935,
        "y": 155
       },
       "selectable": false
      }
     },
     "5af411494ea841dc9857abf4e049a3c3": {
      "model_module": "jupyter-cytoscape",
      "model_module_version": "^1.3.3",
      "model_name": "EdgeModel",
      "state": {
       "_model_module_version": "^1.3.3",
       "_view_module_version": "^1.3.3",
       "classes": " directed ",
       "data": {
        "id": "3e31f439-993d-4119-8a75-07d9549a6beb",
        "source": "8679321251970945206",
        "target": "-8628972586876148174"
       },
       "selectable": false
      }
     },
     "5b0858aea4e04da6913e7dbd32464500": {
      "model_module": "jupyter-cytoscape",
      "model_module_version": "^1.3.3",
      "model_name": "EdgeModel",
      "state": {
       "_model_module_version": "^1.3.3",
       "_view_module_version": "^1.3.3",
       "classes": " directed ",
       "data": {
        "id": "ba96579d-a9dd-4852-b244-ee68824660e8",
        "source": "8679321251970945206",
        "target": "-6352851238962669772"
       },
       "selectable": false
      }
     },
     "5bb95d662d5e46799ada8a368e4a055f": {
      "model_module": "jupyter-cytoscape",
      "model_module_version": "^1.3.3",
      "model_name": "EdgeModel",
      "state": {
       "_model_module_version": "^1.3.3",
       "_view_module_version": "^1.3.3",
       "classes": " directed ",
       "data": {
        "id": "8439f96a-cbc7-4a39-82e8-2a1b491accee",
        "source": "-3942746056985846155",
        "target": "2729367511716245002"
       },
       "selectable": false
      }
     },
     "5c745c026ebf435c8dffb38fb58f5302": {
      "model_module": "jupyter-cytoscape",
      "model_module_version": "^1.3.3",
      "model_name": "NodeModel",
      "state": {
       "_model_module_version": "^1.3.3",
       "_view_module_version": "^1.3.3",
       "data": {
        "color": "gray",
        "id": "-3295662982683114287",
        "label": "0",
        "shape": "rectangle"
       },
       "grabbable": true,
       "grabbed": false,
       "position": {
        "x": 98,
        "y": 1715
       },
       "selectable": false
      }
     },
     "5ce076c7b8aa428e84e267846452a0df": {
      "model_module": "@jupyter-widgets/base",
      "model_module_version": "2.0.0",
      "model_name": "LayoutModel",
      "state": {
       "height": "400px"
      }
     },
     "5e564487145942e68dfc343c4d9bfd43": {
      "model_module": "jupyter-cytoscape",
      "model_module_version": "^1.3.3",
      "model_name": "EdgeModel",
      "state": {
       "_model_module_version": "^1.3.3",
       "_view_module_version": "^1.3.3",
       "classes": " directed ",
       "data": {
        "id": "a40f127e-1e76-4639-978f-9ec2c91a2146",
        "source": "-6352851238962669772",
        "target": "5361702006548743999"
       },
       "selectable": false
      }
     },
     "5e703c1bc07d42e686ddd873c63862d9": {
      "model_module": "jupyter-cytoscape",
      "model_module_version": "^1.3.3",
      "model_name": "NodeModel",
      "state": {
       "_model_module_version": "^1.3.3",
       "_view_module_version": "^1.3.3",
       "data": {
        "color": "gray",
        "id": "-3344550489857690158",
        "label": "getitem",
        "shape": "ellipse"
       },
       "grabbable": true,
       "grabbed": false,
       "position": {
        "x": 98,
        "y": 635
       },
       "selectable": false
      }
     },
     "5f36dc7fc6e24e918771ad559f489813": {
      "model_module": "jupyter-cytoscape",
      "model_module_version": "^1.3.3",
      "model_name": "NodeModel",
      "state": {
       "_model_module_version": "^1.3.3",
       "_view_module_version": "^1.3.3",
       "data": {
        "color": "gray",
        "id": "5361702006548743999",
        "label": "(1, 0, 0, 0)",
        "shape": "rectangle"
       },
       "grabbable": true,
       "grabbed": false,
       "position": {
        "x": 314,
        "y": 275
       },
       "selectable": false
      }
     },
     "5fb2e36f696d4d49a457c323f4fbb49a": {
      "model_module": "jupyter-cytoscape",
      "model_module_version": "^1.3.3",
      "model_name": "NodeModel",
      "state": {
       "_model_module_version": "^1.3.3",
       "_view_module_version": "^1.3.3",
       "data": {
        "color": "gray",
        "id": "3932623954934416386",
        "label": "wrap_with_array",
        "shape": "ellipse"
       },
       "grabbable": true,
       "grabbed": false,
       "position": {
        "x": 304,
        "y": 2075
       },
       "selectable": false
      }
     },
     "6010e9e896e8420c8c5bbd71777fd1ee": {
      "model_module": "jupyter-cytoscape",
      "model_module_version": "^1.3.3",
      "model_name": "NodeModel",
      "state": {
       "_model_module_version": "^1.3.3",
       "_view_module_version": "^1.3.3",
       "data": {
        "color": "gray",
        "id": "3438298714983544948",
        "label": "(2, 0, 0, 0)",
        "shape": "rectangle"
       },
       "grabbable": true,
       "grabbed": false,
       "position": {
        "x": 719,
        "y": 275
       },
       "selectable": false
      }
     },
     "6011d3302e05460ab47146f7736d2ec4": {
      "model_module": "jupyter-cytoscape",
      "model_module_version": "^1.3.3",
      "model_name": "EdgeModel",
      "state": {
       "_model_module_version": "^1.3.3",
       "_view_module_version": "^1.3.3",
       "classes": " directed ",
       "data": {
        "id": "0ee7dec9-3956-4a0e-8a20-dfc7ae616abe",
        "source": "-2550997806106363480",
        "target": "-8628972586876148174"
       },
       "selectable": false
      }
     },
     "60834664d03d4c27a2b99d7ba6cdc30f": {
      "model_module": "jupyter-cytoscape",
      "model_module_version": "^1.3.3",
      "model_name": "NodeModel",
      "state": {
       "_model_module_version": "^1.3.3",
       "_view_module_version": "^1.3.3",
       "data": {
        "color": "gray",
        "id": "-1458914705359311844",
        "label": "getitem",
        "shape": "ellipse"
       },
       "grabbable": true,
       "grabbed": false,
       "position": {
        "x": 938.25,
        "y": 1115
       },
       "selectable": false
      }
     },
     "6300d89857394d5fa488271f9c3c6036": {
      "model_module": "jupyter-cytoscape",
      "model_module_version": "^1.3.3",
      "model_name": "NodeModel",
      "state": {
       "_model_module_version": "^1.3.3",
       "_view_module_version": "^1.3.3",
       "data": {
        "color": "gray",
        "id": "6403833773942229874",
        "label": "mean_agg-aggregate",
        "shape": "ellipse"
       },
       "grabbable": true,
       "grabbed": false,
       "position": {
        "x": 722,
        "y": 155
       },
       "selectable": false
      }
     },
     "65fb0e98587d445fa83919709f758e4c": {
      "model_module": "jupyter-cytoscape",
      "model_module_version": "^1.3.3",
      "model_name": "EdgeModel",
      "state": {
       "_model_module_version": "^1.3.3",
       "_view_module_version": "^1.3.3",
       "classes": " directed ",
       "data": {
        "id": "4be6e9f0-72ea-4f6e-b827-acd6b5cd7b0f",
        "source": "-4802313742835863934",
        "target": "2770177398001351363"
       },
       "selectable": false
      }
     },
     "68b70ea9500c4ce7b1ab7bddfaacf09e": {
      "model_module": "jupyter-cytoscape",
      "model_module_version": "^1.3.3",
      "model_name": "NodeModel",
      "state": {
       "_model_module_version": "^1.3.3",
       "_view_module_version": "^1.3.3",
       "data": {
        "color": "gray",
        "id": "-2550997806106363480",
        "label": "(3, 0)",
        "shape": "rectangle"
       },
       "grabbable": true,
       "grabbed": false,
       "position": {
        "x": 935,
        "y": 515
       },
       "selectable": false
      }
     },
     "68db5159b9bf4ba680828d8667721da2": {
      "model_module": "jupyter-cytoscape",
      "model_module_version": "^1.3.3",
      "model_name": "NodeModel",
      "state": {
       "_model_module_version": "^1.3.3",
       "_view_module_version": "^1.3.3",
       "data": {
        "color": "gray",
        "id": "-5645729971000478200",
        "label": "0",
        "shape": "rectangle"
       },
       "grabbable": true,
       "grabbed": false,
       "position": {
        "x": 98,
        "y": 875
       },
       "selectable": false
      }
     },
     "69abfc3aaa68439f8c0cfdbb1b079eca": {
      "model_module": "jupyter-cytoscape",
      "model_module_version": "^1.3.3",
      "model_name": "EdgeModel",
      "state": {
       "_model_module_version": "^1.3.3",
       "_view_module_version": "^1.3.3",
       "classes": " directed ",
       "data": {
        "id": "4c788567-981a-4ba8-a5b9-7a4f23dd6506",
        "source": "-6398719801904312020",
        "target": "8679321251970945206"
       },
       "selectable": false
      }
     },
     "6a4baa80d77b4a4d884796cb45a2fd09": {
      "model_module": "jupyter-cytoscape",
      "model_module_version": "^1.3.3",
      "model_name": "EdgeModel",
      "state": {
       "_model_module_version": "^1.3.3",
       "_view_module_version": "^1.3.3",
       "classes": " directed ",
       "data": {
        "id": "feef79b8-771f-4553-a6d8-859a87d41229",
        "source": "-4658344091649641651",
        "target": "-6398719801904312020"
       },
       "selectable": false
      }
     },
     "6a90bc300d544fef96c42eaf31c51110": {
      "model_module": "jupyter-cytoscape",
      "model_module_version": "^1.3.3",
      "model_name": "NodeModel",
      "state": {
       "_model_module_version": "^1.3.3",
       "_view_module_version": "^1.3.3",
       "data": {
        "color": "gray",
        "id": "8679321251970945206",
        "label": "(0, 0)",
        "shape": "rectangle"
       },
       "grabbable": true,
       "grabbed": false,
       "position": {
        "x": 516.5,
        "y": 515
       },
       "selectable": false
      }
     },
     "6ab82534332a4cf5a7945576c24ed721": {
      "model_module": "jupyter-cytoscape",
      "model_module_version": "^1.3.3",
      "model_name": "NodeModel",
      "state": {
       "_model_module_version": "^1.3.3",
       "_view_module_version": "^1.3.3",
       "data": {
        "color": "gray",
        "id": "-8628972586876148174",
        "label": "apply_transform",
        "shape": "ellipse"
       },
       "grabbable": true,
       "grabbed": false,
       "position": {
        "x": 728.25,
        "y": 1355
       },
       "selectable": false
      }
     },
     "6ab9b0ef2ef5446087e5eab36d6d0f9b": {
      "model_module": "jupyter-cytoscape",
      "model_module_version": "^1.3.3",
      "model_name": "EdgeModel",
      "state": {
       "_model_module_version": "^1.3.3",
       "_view_module_version": "^1.3.3",
       "classes": " directed ",
       "data": {
        "id": "f7ee54d2-2c99-4793-85b5-0b1cf388eb49",
        "source": "-4600946410069053293",
        "target": "7583327050442078625"
       },
       "selectable": false
      }
     },
     "6b08062fdc1c4498ba3e6293f7b71cf0": {
      "model_module": "jupyter-cytoscape",
      "model_module_version": "^1.3.3",
      "model_name": "EdgeModel",
      "state": {
       "_model_module_version": "^1.3.3",
       "_view_module_version": "^1.3.3",
       "classes": " directed ",
       "data": {
        "id": "ef058325-955e-4cb2-a3a6-992fa35de48f",
        "source": "-8628972586876148174",
        "target": "-2181692662867171182"
       },
       "selectable": false
      }
     },
     "6b67e4e205fe47bb81e8289e250ab83b": {
      "model_module": "jupyter-cytoscape",
      "model_module_version": "^1.3.3",
      "model_name": "NodeModel",
      "state": {
       "_model_module_version": "^1.3.3",
       "_view_module_version": "^1.3.3",
       "data": {
        "color": "gray",
        "id": "-4600946410069053293",
        "label": "(0, 0, 0, 0)",
        "shape": "rectangle"
       },
       "grabbable": true,
       "grabbed": false,
       "position": {
        "x": 98,
        "y": 275
       },
       "selectable": false
      }
     },
     "6b8e35318cd24ce7b87f1eb7565b0c14": {
      "model_module": "jupyter-cytoscape",
      "model_module_version": "^1.3.3",
      "model_name": "EdgeModel",
      "state": {
       "_model_module_version": "^1.3.3",
       "_view_module_version": "^1.3.3",
       "classes": " directed ",
       "data": {
        "id": "bc092078-67dd-4da8-9742-de9bfb98e787",
        "source": "2043299395476905912",
        "target": "3211977773418884138"
       },
       "selectable": false
      }
     },
     "6bf9f9e48eef4aac9f981580428bbacf": {
      "model_module": "jupyter-cytoscape",
      "model_module_version": "^1.3.3",
      "model_name": "EdgeModel",
      "state": {
       "_model_module_version": "^1.3.3",
       "_view_module_version": "^1.3.3",
       "classes": " directed ",
       "data": {
        "id": "585d7f67-dc4b-4337-9790-a3528996bf8e",
        "source": "-1218509990055383426",
        "target": "8347099738205443168"
       },
       "selectable": false
      }
     },
     "6e2128b8de0140438a638293852cd391": {
      "model_module": "jupyter-cytoscape",
      "model_module_version": "^1.3.3",
      "model_name": "NodeModel",
      "state": {
       "_model_module_version": "^1.3.3",
       "_view_module_version": "^1.3.3",
       "data": {
        "color": "gray",
        "id": "-2181692662867171182",
        "label": "(3, 0, 0, 0)",
        "shape": "rectangle"
       },
       "grabbable": true,
       "grabbed": false,
       "position": {
        "x": 728.25,
        "y": 1235
       },
       "selectable": false
      }
     },
     "73a676bd87a14ceeb8467cc9faf4080e": {
      "model_module": "jupyter-cytoscape",
      "model_module_version": "^1.3.3",
      "model_name": "NodeModel",
      "state": {
       "_model_module_version": "^1.3.3",
       "_view_module_version": "^1.3.3",
       "data": {
        "color": "gray",
        "id": "-7674350969418381476",
        "label": "(3, 0, 0)",
        "shape": "rectangle"
       },
       "grabbable": true,
       "grabbed": false,
       "position": {
        "x": 728.25,
        "y": 515
       },
       "selectable": false
      }
     },
     "75ed82d203db4de891b497d531c60642": {
      "model_module": "jupyter-cytoscape",
      "model_module_version": "^1.3.3",
      "model_name": "NodeModel",
      "state": {
       "_model_module_version": "^1.3.3",
       "_view_module_version": "^1.3.3",
       "data": {
        "color": "gray",
        "id": "3438298714983544948",
        "label": "(2, 0, 0, 0)",
        "shape": "rectangle"
       },
       "grabbable": true,
       "grabbed": false,
       "position": {
        "x": 938.25,
        "y": 1235
       },
       "selectable": false
      }
     },
     "77372af5645b4ed7a39fa3d9321703ea": {
      "model_module": "jupyter-cytoscape",
      "model_module_version": "^1.3.3",
      "model_name": "EdgeModel",
      "state": {
       "_model_module_version": "^1.3.3",
       "_view_module_version": "^1.3.3",
       "classes": " directed ",
       "data": {
        "id": "144c51e5-9dab-4925-8478-1deb645ecc82",
        "source": "8679321251970945206",
        "target": "-3386515541091970270"
       },
       "selectable": false
      }
     },
     "785edc3872ae4aa59cb2c720c04caf80": {
      "model_module": "jupyter-cytoscape",
      "model_module_version": "^1.3.3",
      "model_name": "NodeModel",
      "state": {
       "_model_module_version": "^1.3.3",
       "_view_module_version": "^1.3.3",
       "data": {
        "color": "gray",
        "id": "2550625352975215854",
        "label": "(0, 0, 0)",
        "shape": "rectangle"
       },
       "grabbable": true,
       "grabbed": false,
       "position": {
        "x": 98,
        "y": 755
       },
       "selectable": false
      }
     },
     "78746e0c3fd14c3892cc6a2267d240ec": {
      "model_module": "jupyter-cytoscape",
      "model_module_version": "^1.3.3",
      "model_name": "EdgeModel",
      "state": {
       "_model_module_version": "^1.3.3",
       "_view_module_version": "^1.3.3",
       "classes": " directed ",
       "data": {
        "id": "00160cd2-1dd0-4351-a5d5-f3670718c849",
        "source": "1745559636348230920",
        "target": "-6479075354348791664"
       },
       "selectable": false
      }
     },
     "7a780b77210e4769b9deb2a888f8abd7": {
      "model_module": "jupyter-cytoscape",
      "model_module_version": "^1.3.3",
      "model_name": "EdgeModel",
      "state": {
       "_model_module_version": "^1.3.3",
       "_view_module_version": "^1.3.3",
       "classes": " directed ",
       "data": {
        "id": "781b22a7-0af8-4460-88e4-d630a5f285f6",
        "source": "7583327050442078625",
        "target": "-321044688004105615"
       },
       "selectable": false
      }
     },
     "7a7bd677ec3341eeae3e1a8c4c03ea3f": {
      "model_module": "jupyter-cytoscape",
      "model_module_version": "^1.3.3",
      "model_name": "NodeModel",
      "state": {
       "_model_module_version": "^1.3.3",
       "_view_module_version": "^1.3.3",
       "data": {
        "color": "gray",
        "id": "-3942746056985846155",
        "label": "(1, 0, 0)",
        "shape": "rectangle"
       },
       "grabbable": true,
       "grabbed": false,
       "position": {
        "x": 412.75,
        "y": 755
       },
       "selectable": false
      }
     },
     "7b4736bfadcd40d59d86910741d1ea73": {
      "model_module": "jupyter-cytoscape",
      "model_module_version": "^1.3.3",
      "model_name": "NodeModel",
      "state": {
       "_model_module_version": "^1.3.3",
       "_view_module_version": "^1.3.3",
       "data": {
        "color": "gray",
        "id": "-1681096255553812228",
        "label": "2",
        "shape": "rectangle"
       },
       "grabbable": true,
       "grabbed": false,
       "position": {
        "x": 938.25,
        "y": 1715
       },
       "selectable": false
      }
     },
     "7c55cdf728a941638cfa8931dd3ef8a4": {
      "model_module": "jupyter-cytoscape",
      "model_module_version": "^1.3.3",
      "model_name": "NodeModel",
      "state": {
       "_model_module_version": "^1.3.3",
       "_view_module_version": "^1.3.3",
       "data": {
        "color": "gray",
        "id": "3211977773418884138",
        "label": "1",
        "shape": "rectangle"
       },
       "grabbable": true,
       "grabbed": false,
       "position": {
        "x": 304,
        "y": 755
       },
       "selectable": false
      }
     },
     "7c852c5442f04ce78fbe497059c975cb": {
      "model_module": "jupyter-cytoscape",
      "model_module_version": "^1.3.3",
      "model_name": "GraphModel",
      "state": {
       "_adj": {},
       "_model_module_version": "^1.3.3",
       "_view_module": "jupyter-cytoscape",
       "_view_module_version": "^1.3.3"
      }
     },
     "7eb3bb1771174b989b2a8526ec43453b": {
      "model_module": "jupyter-cytoscape",
      "model_module_version": "^1.3.3",
      "model_name": "EdgeModel",
      "state": {
       "_model_module_version": "^1.3.3",
       "_view_module_version": "^1.3.3",
       "classes": " directed ",
       "data": {
        "id": "65042d0d-79eb-4825-a1b7-3eda2fd32b2d",
        "source": "428187117563818069",
        "target": "-4485154418182438496"
       },
       "selectable": false
      }
     },
     "7f59915eaf6b40d1b8ff5e2e2e4cb460": {
      "model_module": "jupyter-cytoscape",
      "model_module_version": "^1.3.3",
      "model_name": "NodeModel",
      "state": {
       "_model_module_version": "^1.3.3",
       "_view_module_version": "^1.3.3",
       "data": {
        "color": "gray",
        "id": "-6009689283054284593",
        "label": "(1, 0, 0)",
        "shape": "rectangle"
       },
       "grabbable": true,
       "grabbed": false,
       "position": {
        "x": 412.75,
        "y": 515
       },
       "selectable": false
      }
     },
     "80e97ef503154f30be42b1e7b737251e": {
      "model_module": "jupyter-cytoscape",
      "model_module_version": "^1.3.3",
      "model_name": "EdgeModel",
      "state": {
       "_model_module_version": "^1.3.3",
       "_view_module_version": "^1.3.3",
       "classes": " directed ",
       "data": {
        "id": "7d82643f-05e3-40df-81a2-5d55ccd1d204",
        "source": "-3065761944250121716",
        "target": "3291611302884136552"
       },
       "selectable": false
      }
     },
     "8114b9c5206840e0895ac1933d925b1e": {
      "model_module": "jupyter-cytoscape",
      "model_module_version": "^1.3.3",
      "model_name": "EdgeModel",
      "state": {
       "_model_module_version": "^1.3.3",
       "_view_module_version": "^1.3.3",
       "classes": " directed ",
       "data": {
        "id": "45bc7ee7-9ea5-4269-977c-d8efabb678b0",
        "source": "2752080264571223075",
        "target": "-6352851238962669772"
       },
       "selectable": false
      }
     },
     "812426d99d944940a43cc1298283b4dc": {
      "model_module": "jupyter-cytoscape",
      "model_module_version": "^1.3.3",
      "model_name": "EdgeModel",
      "state": {
       "_model_module_version": "^1.3.3",
       "_view_module_version": "^1.3.3",
       "classes": " directed ",
       "data": {
        "id": "f83f8023-0eab-4388-9c2b-539c16656f78",
        "source": "-4075821795954895455",
        "target": "6403833773942229874"
       },
       "selectable": false
      }
     },
     "824e32aa85f248fd83a3142c10b59d20": {
      "model_module": "jupyter-cytoscape",
      "model_module_version": "^1.3.3",
      "model_name": "NodeModel",
      "state": {
       "_model_module_version": "^1.3.3",
       "_view_module_version": "^1.3.3",
       "data": {
        "color": "gray",
        "id": "-6352084207916844631",
        "label": "",
        "shape": "rectangle"
       },
       "grabbable": true,
       "grabbed": false,
       "position": {
        "x": 98,
        "y": 1955
       },
       "selectable": false
      }
     },
     "82778946e6f8422087f07017b3d198e3": {
      "model_module": "jupyter-cytoscape",
      "model_module_version": "^1.3.3",
      "model_name": "EdgeModel",
      "state": {
       "_model_module_version": "^1.3.3",
       "_view_module_version": "^1.3.3",
       "classes": " directed ",
       "data": {
        "id": "22dd2073-61c8-4b7b-b9ef-72af87c0d768",
        "source": "3096592054009723045",
        "target": "-7623006230979371239"
       },
       "selectable": false
      }
     },
     "83cfaa84e49f437c820debac92981089": {
      "model_module": "jupyter-cytoscape",
      "model_module_version": "^1.3.3",
      "model_name": "EdgeModel",
      "state": {
       "_model_module_version": "^1.3.3",
       "_view_module_version": "^1.3.3",
       "classes": " directed ",
       "data": {
        "id": "6f182eb7-0876-4266-9a53-c9736d2d3dfb",
        "source": "7780764556268237765",
        "target": "-3942746056985846155"
       },
       "selectable": false
      }
     },
     "84ae2d905713427585cee882c5372930": {
      "model_module": "jupyter-cytoscape",
      "model_module_version": "^1.3.3",
      "model_name": "EdgeModel",
      "state": {
       "_model_module_version": "^1.3.3",
       "_view_module_version": "^1.3.3",
       "classes": " directed ",
       "data": {
        "id": "f9735e9a-c668-4124-811a-8805b456e106",
        "source": "-4485154418182438496",
        "target": "-2550997806106363480"
       },
       "selectable": false
      }
     },
     "8528106abf43409aac14f86dcc6d1162": {
      "model_module": "jupyter-cytoscape",
      "model_module_version": "^1.3.3",
      "model_name": "NodeModel",
      "state": {
       "_model_module_version": "^1.3.3",
       "_view_module_version": "^1.3.3",
       "data": {
        "color": "gray",
        "id": "7583327050442078625",
        "label": "getitem",
        "shape": "ellipse"
       },
       "grabbable": true,
       "grabbed": false,
       "position": {
        "x": 98,
        "y": 155
       },
       "selectable": false
      }
     },
     "858243fe9885427a9b3c75b161dc2ec0": {
      "model_module": "jupyter-cytoscape",
      "model_module_version": "^1.3.3",
      "model_name": "NodeModel",
      "state": {
       "_model_module_version": "^1.3.3",
       "_view_module_version": "^1.3.3",
       "data": {
        "color": "gray",
        "id": "3096592054009723045",
        "label": "wrap_with_array",
        "shape": "ellipse"
       },
       "grabbable": true,
       "grabbed": false,
       "position": {
        "x": 938.25,
        "y": 2075
       },
       "selectable": false
      }
     },
     "85d87cc1f7584f9c9696da807b2d407d": {
      "model_module": "jupyter-cytoscape",
      "model_module_version": "^1.3.3",
      "model_name": "NodeModel",
      "state": {
       "_model_module_version": "^1.3.3",
       "_view_module_version": "^1.3.3",
       "data": {
        "color": "gray",
        "id": "7780764556268237765",
        "label": "intensity",
        "shape": "ellipse"
       },
       "grabbable": true,
       "grabbed": false,
       "position": {
        "x": 412.75,
        "y": 875
       },
       "selectable": false
      }
     },
     "865058daf224472ab7ea4c47a516c9b1": {
      "model_module": "jupyter-cytoscape",
      "model_module_version": "^1.3.3",
      "model_name": "EdgeModel",
      "state": {
       "_model_module_version": "^1.3.3",
       "_view_module_version": "^1.3.3",
       "classes": " directed ",
       "data": {
        "id": "dc11b7f2-9a18-4050-8df7-47f4b5209bc4",
        "source": "-5645729971000478200",
        "target": "-3295662982683114287"
       },
       "selectable": false
      }
     },
     "893047e3c7a94dd3abfed47f32b65f46": {
      "model_module": "jupyter-cytoscape",
      "model_module_version": "^1.3.3",
      "model_name": "EdgeModel",
      "state": {
       "_model_module_version": "^1.3.3",
       "_view_module_version": "^1.3.3",
       "classes": " directed ",
       "data": {
        "id": "26c38967-1f01-4a73-9c96-a3735142752f",
        "source": "-7553528532650097432",
        "target": "3096592054009723045"
       },
       "selectable": false
      }
     },
     "8bb4bebe166e41e8b51b7d93a3006d8f": {
      "model_module": "jupyter-cytoscape",
      "model_module_version": "^1.3.3",
      "model_name": "EdgeModel",
      "state": {
       "_model_module_version": "^1.3.3",
       "_view_module_version": "^1.3.3",
       "classes": " directed ",
       "data": {
        "id": "ba27caec-8c27-425d-aa52-be597531fbd2",
        "source": "8679321251970945206",
        "target": "7955502078889264538"
       },
       "selectable": false
      }
     },
     "8c7c1374bcff4b01b233d8e9701434b8": {
      "model_module": "jupyter-cytoscape",
      "model_module_version": "^1.3.3",
      "model_name": "EdgeModel",
      "state": {
       "_model_module_version": "^1.3.3",
       "_view_module_version": "^1.3.3",
       "classes": " directed ",
       "data": {
        "id": "d2af412a-3834-450b-8fed-5b010a6abf8d",
        "source": "2729367511716245002",
        "target": "-6009689283054284593"
       },
       "selectable": false
      }
     },
     "8cb08a6fdbab47538e52686af9a07b4c": {
      "model_module": "jupyter-cytoscape",
      "model_module_version": "^1.3.3",
      "model_name": "EdgeModel",
      "state": {
       "_model_module_version": "^1.3.3",
       "_view_module_version": "^1.3.3",
       "classes": " directed ",
       "data": {
        "id": "4f474777-0d2a-4da3-8966-1ab3f3bea6a8",
        "source": "3438298714983544948",
        "target": "-1458914705359311844"
       },
       "selectable": false
      }
     },
     "8f2503d670d74d9a8f669e3137753c8f": {
      "model_module": "jupyter-cytoscape",
      "model_module_version": "^1.3.3",
      "model_name": "NodeModel",
      "state": {
       "_model_module_version": "^1.3.3",
       "_view_module_version": "^1.3.3",
       "data": {
        "color": "gray",
        "id": "5943683380694205014",
        "label": "(2, 0, 0)",
        "shape": "rectangle"
       },
       "grabbable": true,
       "grabbed": false,
       "position": {
        "x": 938.25,
        "y": 515
       },
       "selectable": false
      }
     },
     "8f646d93aff544d7bca4a124910894d7": {
      "model_module": "jupyter-cytoscape",
      "model_module_version": "^1.3.3",
      "model_name": "EdgeModel",
      "state": {
       "_model_module_version": "^1.3.3",
       "_view_module_version": "^1.3.3",
       "classes": " directed ",
       "data": {
        "id": "473ef6e8-a5ad-42e7-b1fb-e86f273538c6",
        "source": "315022417830977382",
        "target": "-3386515541091970270"
       },
       "selectable": false
      }
     },
     "92d09db570f145aca62256a37875a8f3": {
      "model_module": "jupyter-cytoscape",
      "model_module_version": "^1.3.3",
      "model_name": "NodeModel",
      "state": {
       "_model_module_version": "^1.3.3",
       "_view_module_version": "^1.3.3",
       "data": {
        "color": "gray",
        "id": "5359001743737252966",
        "label": "getitem",
        "shape": "ellipse"
       },
       "grabbable": true,
       "grabbed": false,
       "position": {
        "x": 938.25,
        "y": 1595
       },
       "selectable": false
      }
     },
     "965cdd13600d49419f64c1db1094e276": {
      "model_module": "jupyter-cytoscape",
      "model_module_version": "^1.3.3",
      "model_name": "EdgeModel",
      "state": {
       "_model_module_version": "^1.3.3",
       "_view_module_version": "^1.3.3",
       "classes": " directed ",
       "data": {
        "id": "f60009fb-d3e6-4a75-b658-9b78921cf315",
        "source": "-3386515541091970270",
        "target": "3438298714983544948"
       },
       "selectable": false
      }
     },
     "96757832d306442490aa594cba040df4": {
      "model_module": "jupyter-cytoscape",
      "model_module_version": "^1.3.3",
      "model_name": "EdgeModel",
      "state": {
       "_model_module_version": "^1.3.3",
       "_view_module_version": "^1.3.3",
       "classes": " directed ",
       "data": {
        "id": "82b6cb5b-459f-4acc-bf6e-314fd28092fd",
        "source": "8347099738205443168",
        "target": "-4075821795954895455"
       },
       "selectable": false
      }
     },
     "96dd362d29be427a8ff8d2f4b05b7f5e": {
      "model_module": "jupyter-cytoscape",
      "model_module_version": "^1.3.3",
      "model_name": "NodeModel",
      "state": {
       "_model_module_version": "^1.3.3",
       "_view_module_version": "^1.3.3",
       "data": {
        "color": "gray",
        "id": "-8733925349984747322",
        "label": "(2, 0, 0)",
        "shape": "rectangle"
       },
       "grabbable": true,
       "grabbed": false,
       "position": {
        "x": 938.25,
        "y": 755
       },
       "selectable": false
      }
     },
     "97bcbc0ff341421397995e907149cf39": {
      "model_module": "jupyter-cytoscape",
      "model_module_version": "^1.3.3",
      "model_name": "NodeModel",
      "state": {
       "_model_module_version": "^1.3.3",
       "_view_module_version": "^1.3.3",
       "data": {
        "color": "gray",
        "id": "-4802313742835863934",
        "label": "",
        "shape": "rectangle"
       },
       "grabbable": true,
       "grabbed": false,
       "position": {
        "x": 98,
        "y": 1235
       },
       "selectable": false
      }
     },
     "98777e83f52e49439616d80faa2a6b94": {
      "model_module": "jupyter-cytoscape",
      "model_module_version": "^1.3.3",
      "model_name": "NodeModel",
      "state": {
       "_model_module_version": "^1.3.3",
       "_view_module_version": "^1.3.3",
       "data": {
        "color": "gray",
        "id": "3291611302884136552",
        "label": "(3, 0, 0)",
        "shape": "rectangle"
       },
       "grabbable": true,
       "grabbed": false,
       "position": {
        "x": 935,
        "y": 35
       },
       "selectable": false
      }
     },
     "98d3540155d44b8f840506aeee5654c9": {
      "model_module": "jupyter-cytoscape",
      "model_module_version": "^1.3.3",
      "model_name": "NodeModel",
      "state": {
       "_model_module_version": "^1.3.3",
       "_view_module_version": "^1.3.3",
       "data": {
        "color": "gray",
        "id": "315022417830977382",
        "label": "(2, 0)",
        "shape": "rectangle"
       },
       "grabbable": true,
       "grabbed": false,
       "position": {
        "x": 938.25,
        "y": 1475
       },
       "selectable": false
      }
     },
     "9b04abd5171e486fa364ac27da0be97b": {
      "model_module": "jupyter-cytoscape",
      "model_module_version": "^1.3.3",
      "model_name": "EdgeModel",
      "state": {
       "_model_module_version": "^1.3.3",
       "_view_module_version": "^1.3.3",
       "classes": " directed ",
       "data": {
        "id": "6c167af0-e48e-4471-aaac-9dd1534aca63",
        "source": "315022417830977382",
        "target": "-3386515541091970270"
       },
       "selectable": false
      }
     },
     "9b7647e6b9f0466a80fb723b7e145d84": {
      "model_module": "jupyter-cytoscape",
      "model_module_version": "^1.3.3",
      "model_name": "NodeModel",
      "state": {
       "_model_module_version": "^1.3.3",
       "_view_module_version": "^1.3.3",
       "data": {
        "color": "gray",
        "id": "-5214337360120380884",
        "label": "",
        "shape": "rectangle"
       },
       "grabbable": true,
       "grabbed": false,
       "position": {
        "x": 304,
        "y": 995
       },
       "selectable": false
      }
     },
     "9c1cd2888cc04384b784750f62f27bac": {
      "model_module": "jupyter-cytoscape",
      "model_module_version": "^1.3.3",
      "model_name": "EdgeModel",
      "state": {
       "_model_module_version": "^1.3.3",
       "_view_module_version": "^1.3.3",
       "classes": " directed ",
       "data": {
        "id": "f7d89546-8fa6-4e22-9647-d499f3af7d8b",
        "source": "-5214337360120380884",
        "target": "2043299395476905912"
       },
       "selectable": false
      }
     },
     "9c5815ac55cc426ca9dcf62da635ba12": {
      "model_module": "jupyter-cytoscape",
      "model_module_version": "^1.3.3",
      "model_name": "EdgeModel",
      "state": {
       "_model_module_version": "^1.3.3",
       "_view_module_version": "^1.3.3",
       "classes": " directed ",
       "data": {
        "id": "478b3323-bf9c-4057-ae57-b8f22d7155f1",
        "source": "-4600946410069053293",
        "target": "7583327050442078625"
       },
       "selectable": false
      }
     },
     "9ce28afdf5844bbfbcad7fa18cfbdad7": {
      "model_module": "jupyter-cytoscape",
      "model_module_version": "^1.3.3",
      "model_name": "NodeModel",
      "state": {
       "_model_module_version": "^1.3.3",
       "_view_module_version": "^1.3.3",
       "data": {
        "color": "gray",
        "id": "6053123379094276244",
        "label": "mean_combine-partial",
        "shape": "ellipse"
       },
       "grabbable": true,
       "grabbed": false,
       "position": {
        "x": 927,
        "y": 395
       },
       "selectable": false
      }
     },
     "9e884738c09a4fa5bb978c95d0599a28": {
      "model_module": "jupyter-cytoscape",
      "model_module_version": "^1.3.3",
      "model_name": "EdgeModel",
      "state": {
       "_model_module_version": "^1.3.3",
       "_view_module_version": "^1.3.3",
       "classes": " directed ",
       "data": {
        "id": "f477bebd-846f-4a41-a8d3-748371704b92",
        "source": "-2764025106015535249",
        "target": "6400487052080449181"
       },
       "selectable": false
      }
     },
     "9f889af8865646d49592628e23d05da5": {
      "model_module": "jupyter-cytoscape",
      "model_module_version": "^1.3.3",
      "model_name": "EdgeModel",
      "state": {
       "_model_module_version": "^1.3.3",
       "_view_module_version": "^1.3.3",
       "classes": " directed ",
       "data": {
        "id": "74690e58-219e-49a1-894c-d29fc607e2a5",
        "source": "-1681096255553812228",
        "target": "5359001743737252966"
       },
       "selectable": false
      }
     },
     "9fe7ba7a13d84d3ea20664cf31a31527": {
      "model_module": "jupyter-cytoscape",
      "model_module_version": "^1.3.3",
      "model_name": "NodeModel",
      "state": {
       "_model_module_version": "^1.3.3",
       "_view_module_version": "^1.3.3",
       "data": {
        "color": "gray",
        "id": "-8268939450849820016",
        "label": "(1, 0, 0)",
        "shape": "rectangle"
       },
       "grabbable": true,
       "grabbed": false,
       "position": {
        "x": 412.75,
        "y": 995
       },
       "selectable": false
      }
     },
     "a013bfaf51fc42cd91ec7ce89af1dbd0": {
      "model_module": "jupyter-cytoscape",
      "model_module_version": "^1.3.3",
      "model_name": "EdgeModel",
      "state": {
       "_model_module_version": "^1.3.3",
       "_view_module_version": "^1.3.3",
       "classes": " directed ",
       "data": {
        "id": "15e5089d-fdfd-4c69-b7b3-dadc1af51b54",
        "source": "-8268939450849820016",
        "target": "7780764556268237765"
       },
       "selectable": false
      }
     },
     "a2f4eaef481343fa98d20d6b765582bf": {
      "model_module": "jupyter-cytoscape",
      "model_module_version": "^1.3.3",
      "model_name": "EdgeModel",
      "state": {
       "_model_module_version": "^1.3.3",
       "_view_module_version": "^1.3.3",
       "classes": " directed ",
       "data": {
        "id": "d14aae8c-bf3b-4ba3-8bca-0f7bcdfb9877",
        "source": "-7098068387393164977",
        "target": "7955502078889264538"
       },
       "selectable": false
      }
     },
     "a33d286a8fb9490ba7ceb712cfa7c11f": {
      "model_module": "jupyter-cytoscape",
      "model_module_version": "^1.3.3",
      "model_name": "NodeModel",
      "state": {
       "_model_module_version": "^1.3.3",
       "_view_module_version": "^1.3.3",
       "data": {
        "color": "gray",
        "id": "7955502078889264538",
        "label": "apply_transform",
        "shape": "ellipse"
       },
       "grabbable": true,
       "grabbed": false,
       "position": {
        "x": 98,
        "y": 1355
       },
       "selectable": false
      }
     },
     "a3a3ec7a2ee84a7fb7ec62f543a2c214": {
      "model_module": "jupyter-cytoscape",
      "model_module_version": "^1.3.3",
      "model_name": "EdgeModel",
      "state": {
       "_model_module_version": "^1.3.3",
       "_view_module_version": "^1.3.3",
       "classes": " directed ",
       "data": {
        "id": "1dea83cb-3704-4492-af59-378a6eb75326",
        "source": "-1458914705359311844",
        "target": "-4633378280018691195"
       },
       "selectable": false
      }
     },
     "a41186a3b4af4d11a3398a09cf643408": {
      "model_module": "jupyter-cytoscape",
      "model_module_version": "^1.3.3",
      "model_name": "EdgeModel",
      "state": {
       "_model_module_version": "^1.3.3",
       "_view_module_version": "^1.3.3",
       "classes": " directed ",
       "data": {
        "id": "c0f36179-11e5-4c3b-ac6b-2a36924a7aec",
        "source": "-1681096255553812228",
        "target": "5359001743737252966"
       },
       "selectable": false
      }
     },
     "a43620ecaecb47469f7a81aa16967df0": {
      "model_module": "jupyter-cytoscape",
      "model_module_version": "^1.3.3",
      "model_name": "NodeModel",
      "state": {
       "_model_module_version": "^1.3.3",
       "_view_module_version": "^1.3.3",
       "data": {
        "color": "gray",
        "id": "-3386515541091970270",
        "label": "apply_transform",
        "shape": "ellipse"
       },
       "grabbable": true,
       "grabbed": false,
       "position": {
        "x": 719,
        "y": 395
       },
       "selectable": false
      }
     },
     "a463014971c24ec3b43e6b794a81bc87": {
      "model_module": "jupyter-cytoscape",
      "model_module_version": "^1.3.3",
      "model_name": "NodeModel",
      "state": {
       "_model_module_version": "^1.3.3",
       "_view_module_version": "^1.3.3",
       "data": {
        "color": "gray",
        "id": "-7388406578294301860",
        "label": "mean_chunk",
        "shape": "ellipse"
       },
       "grabbable": true,
       "grabbed": false,
       "position": {
        "x": 728.25,
        "y": 635
       },
       "selectable": false
      }
     },
     "a4932caf7f5f4b02af4b704f6e80796e": {
      "model_module": "jupyter-cytoscape",
      "model_module_version": "^1.3.3",
      "model_name": "EdgeModel",
      "state": {
       "_model_module_version": "^1.3.3",
       "_view_module_version": "^1.3.3",
       "classes": " directed ",
       "data": {
        "id": "ee8e8d7b-d2e7-42d5-8b31-ca4938ed3c20",
        "source": "-6352084207916844631",
        "target": "-5645729971000478200"
       },
       "selectable": false
      }
     },
     "a8652226d70d4503a414447099e4dc51": {
      "model_module": "jupyter-cytoscape",
      "model_module_version": "^1.3.3",
      "model_name": "EdgeModel",
      "state": {
       "_model_module_version": "^1.3.3",
       "_view_module_version": "^1.3.3",
       "classes": " directed ",
       "data": {
        "id": "a3b24ee8-35b3-46d4-87c2-cf4fa17294fe",
        "source": "3291611302884136552",
        "target": "1745559636348230920"
       },
       "selectable": false
      }
     },
     "a8f20946ec6040db991b5b228ed95228": {
      "model_module": "jupyter-cytoscape",
      "model_module_version": "^1.3.3",
      "model_name": "NodeModel",
      "state": {
       "_model_module_version": "^1.3.3",
       "_view_module_version": "^1.3.3",
       "data": {
        "color": "gray",
        "id": "3450144630694137243",
        "label": "",
        "shape": "rectangle"
       },
       "grabbable": true,
       "grabbed": false,
       "position": {
        "x": 727.75,
        "y": 2195
       },
       "selectable": false
      }
     },
     "a9be40a21df944379db859e5132edaeb": {
      "model_module": "jupyter-cytoscape",
      "model_module_version": "^1.3.3",
      "model_name": "NodeModel",
      "state": {
       "_model_module_version": "^1.3.3",
       "_view_module_version": "^1.3.3",
       "data": {
        "color": "gray",
        "id": "428187117563818069",
        "label": "3",
        "shape": "rectangle"
       },
       "grabbable": true,
       "grabbed": false,
       "position": {
        "x": 935,
        "y": 755
       },
       "selectable": false
      }
     },
     "a9e6e731bd3c47dbbb36ff9b13441b47": {
      "model_module": "jupyter-cytoscape",
      "model_module_version": "^1.3.3",
      "model_name": "EdgeModel",
      "state": {
       "_model_module_version": "^1.3.3",
       "_view_module_version": "^1.3.3",
       "classes": " directed ",
       "data": {
        "id": "e8b7967a-9d72-4c69-9101-c73481f0f201",
        "source": "5943683380694205014",
        "target": "6053123379094276244"
       },
       "selectable": false
      }
     },
     "aa5290be9c0d49779eace394c60f5e49": {
      "model_module": "jupyter-cytoscape",
      "model_module_version": "^1.3.3",
      "model_name": "EdgeModel",
      "state": {
       "_model_module_version": "^1.3.3",
       "_view_module_version": "^1.3.3",
       "classes": " directed ",
       "data": {
        "id": "7d57e8f5-04e8-44fe-a6dc-0d9e9340f2dd",
        "source": "2043299395476905912",
        "target": "3211977773418884138"
       },
       "selectable": false
      }
     },
     "aaee2198db334c4ea83b731196a05ff9": {
      "model_module": "jupyter-cytoscape",
      "model_module_version": "^1.3.3",
      "model_name": "NodeModel",
      "state": {
       "_model_module_version": "^1.3.3",
       "_view_module_version": "^1.3.3",
       "data": {
        "color": "gray",
        "id": "-1458914705359311844",
        "label": "getitem",
        "shape": "ellipse"
       },
       "grabbable": true,
       "grabbed": false,
       "position": {
        "x": 719,
        "y": 155
       },
       "selectable": false
      }
     },
     "acd6f83272564d95997faf9ec43b484c": {
      "model_module": "jupyter-cytoscape",
      "model_module_version": "^1.3.3",
      "model_name": "EdgeModel",
      "state": {
       "_model_module_version": "^1.3.3",
       "_view_module_version": "^1.3.3",
       "classes": " directed ",
       "data": {
        "id": "9f3fe15a-39a1-42ca-9b3f-c17001e509cb",
        "source": "3088764688101585121",
        "target": "-1681096255553812228"
       },
       "selectable": false
      }
     },
     "acfd30ba84e8449cb0ad10b20ad26e94": {
      "model_module": "jupyter-cytoscape",
      "model_module_version": "^1.3.3",
      "model_name": "EdgeModel",
      "state": {
       "_model_module_version": "^1.3.3",
       "_view_module_version": "^1.3.3",
       "classes": " directed ",
       "data": {
        "id": "1ca0f58c-17d6-4308-8889-cd4dda5f54ea",
        "source": "5361702006548743999",
        "target": "2161184395296273586"
       },
       "selectable": false
      }
     },
     "ad4a4dbb401a48e3b8ad09ca2a39e734": {
      "model_module": "jupyter-cytoscape",
      "model_module_version": "^1.3.3",
      "model_name": "GraphModel",
      "state": {
       "_adj": {},
       "_model_module_version": "^1.3.3",
       "_view_module": "jupyter-cytoscape",
       "_view_module_version": "^1.3.3"
      }
     },
     "af3431af894747cbb0faedf2ebbf5fec": {
      "model_module": "jupyter-cytoscape",
      "model_module_version": "^1.3.3",
      "model_name": "NodeModel",
      "state": {
       "_model_module_version": "^1.3.3",
       "_view_module_version": "^1.3.3",
       "data": {
        "color": "gray",
        "id": "-8628972586876148174",
        "label": "apply_transform",
        "shape": "ellipse"
       },
       "grabbable": true,
       "grabbed": false,
       "position": {
        "x": 935,
        "y": 395
       },
       "selectable": false
      }
     },
     "aff99bcac4cd499d8cbfa5fbf3592a69": {
      "model_module": "jupyter-cytoscape",
      "model_module_version": "^1.3.3",
      "model_name": "NodeModel",
      "state": {
       "_model_module_version": "^1.3.3",
       "_view_module_version": "^1.3.3",
       "data": {
        "color": "gray",
        "id": "-3386515541091970270",
        "label": "apply_transform",
        "shape": "ellipse"
       },
       "grabbable": true,
       "grabbed": false,
       "position": {
        "x": 938.25,
        "y": 1355
       },
       "selectable": false
      }
     },
     "b178eb5ba80d442f99973e8b385d72c6": {
      "model_module": "jupyter-cytoscape",
      "model_module_version": "^1.3.3",
      "model_name": "NodeModel",
      "state": {
       "_model_module_version": "^1.3.3",
       "_view_module_version": "^1.3.3",
       "data": {
        "color": "gray",
        "id": "-2401193227864883118",
        "label": "from_partitioned_args_func",
        "shape": "ellipse"
       },
       "grabbable": true,
       "grabbed": false,
       "position": {
        "x": 516.5,
        "y": 875
       },
       "selectable": false
      }
     },
     "b20024849eb14f5583894248e8e92366": {
      "model_module": "jupyter-cytoscape",
      "model_module_version": "^1.3.3",
      "model_name": "NodeModel",
      "state": {
       "_model_module_version": "^1.3.3",
       "_view_module_version": "^1.3.3",
       "data": {
        "color": "gray",
        "id": "-1681096255553812228",
        "label": "2",
        "shape": "rectangle"
       },
       "grabbable": true,
       "grabbed": false,
       "position": {
        "x": 729,
        "y": 755
       },
       "selectable": false
      }
     },
     "b4f384715d8f4c7ab11b551e569d1b3a": {
      "model_module": "jupyter-cytoscape",
      "model_module_version": "^1.3.3",
      "model_name": "EdgeModel",
      "state": {
       "_model_module_version": "^1.3.3",
       "_view_module_version": "^1.3.3",
       "classes": " directed ",
       "data": {
        "id": "7b4b648c-9c81-4ace-b231-34127269c8eb",
        "source": "5359001743737252966",
        "target": "315022417830977382"
       },
       "selectable": false
      }
     },
     "b4f59e5763914ecf82b1e6d8262329d3": {
      "model_module": "jupyter-cytoscape",
      "model_module_version": "^1.3.3",
      "model_name": "NodeModel",
      "state": {
       "_model_module_version": "^1.3.3",
       "_view_module_version": "^1.3.3",
       "data": {
        "color": "gray",
        "id": "-2550997806106363480",
        "label": "(3, 0)",
        "shape": "rectangle"
       },
       "grabbable": true,
       "grabbed": false,
       "position": {
        "x": 727.75,
        "y": 1475
       },
       "selectable": false
      }
     },
     "b62d175a40634b969c378243d1af1038": {
      "model_module": "jupyter-cytoscape",
      "model_module_version": "^1.3.3",
      "model_name": "EdgeModel",
      "state": {
       "_model_module_version": "^1.3.3",
       "_view_module_version": "^1.3.3",
       "classes": " directed ",
       "data": {
        "id": "d9fc1d11-f462-465a-b6c1-91b62b243475",
        "source": "-8537269885570877590",
        "target": "2550625352975215854"
       },
       "selectable": false
      }
     },
     "b67209be56f9449b9f3c9bdd37723b64": {
      "model_module": "jupyter-cytoscape",
      "model_module_version": "^1.3.3",
      "model_name": "EdgeModel",
      "state": {
       "_model_module_version": "^1.3.3",
       "_view_module_version": "^1.3.3",
       "classes": " directed ",
       "data": {
        "id": "f81b97fb-47eb-4b1f-b9b3-584f147880ae",
        "source": "-7623006230979371239",
        "target": "3088764688101585121"
       },
       "selectable": false
      }
     },
     "b6bfa90b09454ca5a086e6b629b45568": {
      "model_module": "jupyter-cytoscape",
      "model_module_version": "^1.3.3",
      "model_name": "NodeModel",
      "state": {
       "_model_module_version": "^1.3.3",
       "_view_module_version": "^1.3.3",
       "data": {
        "color": "gray",
        "id": "2161184395296273586",
        "label": "getitem",
        "shape": "ellipse"
       },
       "grabbable": true,
       "grabbed": false,
       "position": {
        "x": 314,
        "y": 155
       },
       "selectable": false
      }
     },
     "b6d20a169d9e42aa8574c084b5d51f47": {
      "model_module": "jupyter-cytoscape",
      "model_module_version": "^1.3.3",
      "model_name": "EdgeModel",
      "state": {
       "_model_module_version": "^1.3.3",
       "_view_module_version": "^1.3.3",
       "classes": " directed ",
       "data": {
        "id": "c8e279d9-79a1-448a-b3c2-43557cd0d628",
        "source": "-4633378280018691195",
        "target": "5076508851147937562"
       },
       "selectable": false
      }
     },
     "b6f1a2bbba0c4fc0a6c9122e66cf069a": {
      "model_module": "jupyter-cytoscape",
      "model_module_version": "^1.3.3",
      "model_name": "EdgeModel",
      "state": {
       "_model_module_version": "^1.3.3",
       "_view_module_version": "^1.3.3",
       "classes": " directed ",
       "data": {
        "id": "467924ce-ac1f-4882-a363-ee17183704e9",
        "source": "6400487052080449181",
        "target": "8809161913446549569"
       },
       "selectable": false
      }
     },
     "b6f4c1f608474382918251dd9b2852ff": {
      "model_module": "@jupyter-widgets/base",
      "model_module_version": "2.0.0",
      "model_name": "LayoutModel",
      "state": {
       "height": "400px"
      }
     },
     "b6fffd97ee274702b037b354510c71c1": {
      "model_module": "jupyter-cytoscape",
      "model_module_version": "^1.3.3",
      "model_name": "EdgeModel",
      "state": {
       "_model_module_version": "^1.3.3",
       "_view_module_version": "^1.3.3",
       "classes": " directed ",
       "data": {
        "id": "773c0c35-d6c8-4b34-b448-d00f936ccaff",
        "source": "-4802313742835863934",
        "target": "2770177398001351363"
       },
       "selectable": false
      }
     },
     "b9a939a73a0d41d3b53d4addb1a9a889": {
      "model_module": "jupyter-cytoscape",
      "model_module_version": "^1.3.3",
      "model_name": "NodeModel",
      "state": {
       "_model_module_version": "^1.3.3",
       "_view_module_version": "^1.3.3",
       "data": {
        "color": "gray",
        "id": "3932623954934416386",
        "label": "wrap_with_array",
        "shape": "ellipse"
       },
       "grabbable": true,
       "grabbed": false,
       "position": {
        "x": 304,
        "y": 1115
       },
       "selectable": false
      }
     },
     "bc5f2a3b579645c8806b81428ec09d2f": {
      "model_module": "jupyter-cytoscape",
      "model_module_version": "^1.3.3",
      "model_name": "EdgeModel",
      "state": {
       "_model_module_version": "^1.3.3",
       "_view_module_version": "^1.3.3",
       "classes": " directed ",
       "data": {
        "id": "44a32dbe-4e72-40c9-812b-3201c20bf2b7",
        "source": "2161184395296273586",
        "target": "-8268939450849820016"
       },
       "selectable": false
      }
     },
     "bccddfaba95a48d6ad2421acabdf97e2": {
      "model_module": "jupyter-cytoscape",
      "model_module_version": "^1.3.3",
      "model_name": "EdgeModel",
      "state": {
       "_model_module_version": "^1.3.3",
       "_view_module_version": "^1.3.3",
       "classes": " directed ",
       "data": {
        "id": "b809173a-1900-4c5c-8575-0561964833ef",
        "source": "7955502078889264538",
        "target": "-4600946410069053293"
       },
       "selectable": false
      }
     },
     "bd1d06780a05420bbf513779f51438d2": {
      "model_module": "jupyter-cytoscape",
      "model_module_version": "^1.3.3",
      "model_name": "EdgeModel",
      "state": {
       "_model_module_version": "^1.3.3",
       "_view_module_version": "^1.3.3",
       "classes": " directed ",
       "data": {
        "id": "52fd766a-1c29-4ce2-94b2-560fb59b5504",
        "source": "5076508851147937562",
        "target": "-8733925349984747322"
       },
       "selectable": false
      }
     },
     "bd97d6c228e144ee839221587e4f695a": {
      "model_module": "jupyter-cytoscape",
      "model_module_version": "^1.3.3",
      "model_name": "NodeModel",
      "state": {
       "_model_module_version": "^1.3.3",
       "_view_module_version": "^1.3.3",
       "data": {
        "color": "gray",
        "id": "-2181692662867171182",
        "label": "(3, 0, 0, 0)",
        "shape": "rectangle"
       },
       "grabbable": true,
       "grabbed": false,
       "position": {
        "x": 935,
        "y": 275
       },
       "selectable": false
      }
     },
     "bda4f243952a4d0481cdaf2ee85d7390": {
      "model_module": "jupyter-cytoscape",
      "model_module_version": "^1.3.3",
      "model_name": "EdgeModel",
      "state": {
       "_model_module_version": "^1.3.3",
       "_view_module_version": "^1.3.3",
       "classes": " directed ",
       "data": {
        "id": "51883880-6be3-42f9-8603-48e4c13dd8b9",
        "source": "2770177398001351363",
        "target": "-6352084207916844631"
       },
       "selectable": false
      }
     },
     "bdc85f5aa54a464d998229ef6e6b71db": {
      "model_module": "jupyter-cytoscape",
      "model_module_version": "^1.3.3",
      "model_name": "NodeModel",
      "state": {
       "_model_module_version": "^1.3.3",
       "_view_module_version": "^1.3.3",
       "data": {
        "color": "gray",
        "id": "5359001743737252966",
        "label": "getitem",
        "shape": "ellipse"
       },
       "grabbable": true,
       "grabbed": false,
       "position": {
        "x": 729,
        "y": 635
       },
       "selectable": false
      }
     },
     "bea1f9b21b614d88bde5a94b28741280": {
      "model_module": "jupyter-cytoscape",
      "model_module_version": "^1.3.3",
      "model_name": "NodeModel",
      "state": {
       "_model_module_version": "^1.3.3",
       "_view_module_version": "^1.3.3",
       "data": {
        "color": "gray",
        "id": "-4633378280018691195",
        "label": "(2, 0, 0)",
        "shape": "rectangle"
       },
       "grabbable": true,
       "grabbed": false,
       "position": {
        "x": 719,
        "y": 35
       },
       "selectable": false
      }
     },
     "bedcd85c80a843b496af33de7e050445": {
      "model_module": "jupyter-cytoscape",
      "model_module_version": "^1.3.3",
      "model_name": "EdgeModel",
      "state": {
       "_model_module_version": "^1.3.3",
       "_view_module_version": "^1.3.3",
       "classes": " directed ",
       "data": {
        "id": "be92cad2-2374-4b93-a581-1a3150899881",
        "source": "-6398719801904312020",
        "target": "8679321251970945206"
       },
       "selectable": false
      }
     },
     "bf322db1eef74f89bf2d46f0e463497e": {
      "model_module": "jupyter-cytoscape",
      "model_module_version": "^1.3.3",
      "model_name": "NodeModel",
      "state": {
       "_model_module_version": "^1.3.3",
       "_view_module_version": "^1.3.3",
       "data": {
        "color": "gray",
        "id": "2752080264571223075",
        "label": "(1, 0)",
        "shape": "rectangle"
       },
       "grabbable": true,
       "grabbed": false,
       "position": {
        "x": 304,
        "y": 515
       },
       "selectable": false
      }
     },
     "c189df79a150438c8ea71fb4dfc6c3b6": {
      "model_module": "jupyter-cytoscape",
      "model_module_version": "^1.3.3",
      "model_name": "EdgeModel",
      "state": {
       "_model_module_version": "^1.3.3",
       "_view_module_version": "^1.3.3",
       "classes": " directed ",
       "data": {
        "id": "4c980d5f-5664-41a5-9c19-e2807b0907cd",
        "source": "-6479075354348791664",
        "target": "-7388406578294301860"
       },
       "selectable": false
      }
     },
     "c217aa10d4c74cf8af6afb9b83f2e54a": {
      "model_module": "jupyter-cytoscape",
      "model_module_version": "^1.3.3",
      "model_name": "NodeModel",
      "state": {
       "_model_module_version": "^1.3.3",
       "_view_module_version": "^1.3.3",
       "data": {
        "color": "gray",
        "id": "-6352084207916844631",
        "label": "",
        "shape": "rectangle"
       },
       "grabbable": true,
       "grabbed": false,
       "position": {
        "x": 98,
        "y": 995
       },
       "selectable": false
      }
     },
     "c302573d7c49479b93f3710e326166bb": {
      "model_module": "jupyter-cytoscape",
      "model_module_version": "^1.3.3",
      "model_name": "NodeModel",
      "state": {
       "_model_module_version": "^1.3.3",
       "_view_module_version": "^1.3.3",
       "data": {
        "color": "gray",
        "id": "-7098068387393164977",
        "label": "(0, 0)",
        "shape": "rectangle"
       },
       "grabbable": true,
       "grabbed": false,
       "position": {
        "x": 98,
        "y": 515
       },
       "selectable": false
      }
     },
     "c339709359fb431cb4a6b2b55a540cc6": {
      "model_module": "jupyter-cytoscape",
      "model_module_version": "^1.3.3",
      "model_name": "EdgeModel",
      "state": {
       "_model_module_version": "^1.3.3",
       "_view_module_version": "^1.3.3",
       "classes": " directed ",
       "data": {
        "id": "e123e9d2-5811-41df-bfcb-e8b0232f3af4",
        "source": "-3344550489857690158",
        "target": "-7098068387393164977"
       },
       "selectable": false
      }
     },
     "c3529f2864174d6cbe542641c4a4133a": {
      "model_module": "jupyter-cytoscape",
      "model_module_version": "^1.3.3",
      "model_name": "EdgeModel",
      "state": {
       "_model_module_version": "^1.3.3",
       "_view_module_version": "^1.3.3",
       "classes": " directed ",
       "data": {
        "id": "1ab5dd00-e8f1-4a29-bbd4-2ab5540e227b",
        "source": "-3386515541091970270",
        "target": "3438298714983544948"
       },
       "selectable": false
      }
     },
     "c537d429b9fa4d9a90def1eec1690442": {
      "model_module": "jupyter-cytoscape",
      "model_module_version": "^1.3.3",
      "model_name": "EdgeModel",
      "state": {
       "_model_module_version": "^1.3.3",
       "_view_module_version": "^1.3.3",
       "classes": " directed ",
       "data": {
        "id": "0cac8a05-a6bb-4957-94e1-3467993ac87b",
        "source": "2752080264571223075",
        "target": "-6352851238962669772"
       },
       "selectable": false
      }
     },
     "c79c599d3dfd49fab517a572921ca0db": {
      "model_module": "jupyter-cytoscape",
      "model_module_version": "^1.3.3",
      "model_name": "NodeModel",
      "state": {
       "_model_module_version": "^1.3.3",
       "_view_module_version": "^1.3.3",
       "data": {
        "color": "gray",
        "id": "5076508851147937562",
        "label": "intensity",
        "shape": "ellipse"
       },
       "grabbable": true,
       "grabbed": false,
       "position": {
        "x": 938.25,
        "y": 875
       },
       "selectable": false
      }
     },
     "ca242e407e2d48a1b85cb243f929eff2": {
      "model_module": "jupyter-cytoscape",
      "model_module_version": "^1.3.3",
      "model_name": "EdgeModel",
      "state": {
       "_model_module_version": "^1.3.3",
       "_view_module_version": "^1.3.3",
       "classes": " directed ",
       "data": {
        "id": "46602593-7d9c-4fcf-811e-aadbc7e45a24",
        "source": "-6352851238962669772",
        "target": "5361702006548743999"
       },
       "selectable": false
      }
     },
     "cb5d1551dc3546c6beb23e3c4f3ea26d": {
      "model_module": "jupyter-cytoscape",
      "model_module_version": "^1.3.3",
      "model_name": "EdgeModel",
      "state": {
       "_model_module_version": "^1.3.3",
       "_view_module_version": "^1.3.3",
       "classes": " directed ",
       "data": {
        "id": "e245f838-5f91-473c-89f1-d3c7cf6cae7a",
        "source": "-2181692662867171182",
        "target": "-3065761944250121716"
       },
       "selectable": false
      }
     },
     "cb621f0c5e78464894dfd8743a4e7c12": {
      "model_module": "jupyter-cytoscape",
      "model_module_version": "^1.3.3",
      "model_name": "CytoscapeModel",
      "state": {
       "_interaction_handlers": {},
       "_model_module_version": "^1.3.3",
       "_view_module_version": "^1.3.3",
       "auto_ungrabify": false,
       "autolock": false,
       "cytoscape_layout": {
        "edgeSep": 10,
        "name": "dagre",
        "nodeDimensionsIncludeLabels": true,
        "nodeSep": 10,
        "rankDir": "BT",
        "spacingFactor": 1
       },
       "cytoscape_style": [
        {
         "selector": "node",
         "style": {
          "background-color": "#eee",
          "border-color": "data(color)",
          "border-width": 4,
          "color": "black",
          "font-family": "helvetica",
          "font-size": "24px",
          "font-weight": "bold",
          "height": 64,
          "label": "data(label)",
          "opacity": "1.0",
          "shape": "data(shape)",
          "text-halign": "center",
          "text-valign": "center",
          "width": 64
         }
        },
        {
         "selector": "edge",
         "style": {
          "curve-style": "bezier",
          "line-color": "gray",
          "target-arrow-color": "gray",
          "target-arrow-shape": "triangle",
          "width": 8
         }
        }
       ],
       "desktop_tap_threshold": 4,
       "graph": "IPY_MODEL_fd6c0db794104e4b8ebb0d01b6312f53",
       "headless": false,
       "hide_edges_on_viewport": false,
       "layout": "IPY_MODEL_b6f4c1f608474382918251dd9b2852ff",
       "max_zoom": 4,
       "min_zoom": 0.2,
       "motion_blur": false,
       "motion_blur_opacity": 0.2,
       "panning_enabled": true,
       "pixel_ratio": "auto",
       "rendered_position": {
        "renderedPosition": {
         "x": 100,
         "y": 100
        }
       },
       "selection_type": "single",
       "style_enabled": true,
       "texture_on_viewport": false,
       "tooltip_source": "tooltip",
       "touch_tap_threshold": 8,
       "user_panning_enabled": true,
       "user_zooming_enabled": true,
       "wheel_sensitivity": 0.1,
       "zoom": 2,
       "zooming_enabled": true
      }
     },
     "cc4878a0125a490586d26f0425a7640f": {
      "model_module": "jupyter-cytoscape",
      "model_module_version": "^1.3.3",
      "model_name": "NodeModel",
      "state": {
       "_model_module_version": "^1.3.3",
       "_view_module_version": "^1.3.3",
       "data": {
        "color": "gray",
        "id": "2043299395476905912",
        "label": "0",
        "shape": "rectangle"
       },
       "grabbable": true,
       "grabbed": false,
       "position": {
        "x": 304,
        "y": 1835
       },
       "selectable": false
      }
     },
     "cc83dee83b7d4015afd03873d1e95eca": {
      "model_module": "jupyter-cytoscape",
      "model_module_version": "^1.3.3",
      "model_name": "NodeModel",
      "state": {
       "_model_module_version": "^1.3.3",
       "_view_module_version": "^1.3.3",
       "data": {
        "color": "gray",
        "id": "-3295662982683114287",
        "label": "0",
        "shape": "rectangle"
       },
       "grabbable": true,
       "grabbed": false,
       "position": {
        "x": 98,
        "y": 755
       },
       "selectable": false
      }
     },
     "ccf12beec5244aefbc9b0b36e27b86e8": {
      "model_module": "jupyter-cytoscape",
      "model_module_version": "^1.3.3",
      "model_name": "NodeModel",
      "state": {
       "_model_module_version": "^1.3.3",
       "_view_module_version": "^1.3.3",
       "data": {
        "color": "gray",
        "id": "-2764025106015535249",
        "label": "wrap_with_array",
        "shape": "ellipse"
       },
       "grabbable": true,
       "grabbed": false,
       "position": {
        "x": 935,
        "y": 1115
       },
       "selectable": false
      }
     },
     "cd39f53b48d5405cb525720f8938c1d6": {
      "model_module": "jupyter-cytoscape",
      "model_module_version": "^1.3.3",
      "model_name": "EdgeModel",
      "state": {
       "_model_module_version": "^1.3.3",
       "_view_module_version": "^1.3.3",
       "classes": " directed ",
       "data": {
        "id": "2d3d2cd2-67cd-42ee-b551-9c15f5003d6c",
        "source": "-2550997806106363480",
        "target": "-8628972586876148174"
       },
       "selectable": false
      }
     },
     "cea00b18e25c4b0f98fae43e7a583e85": {
      "model_module": "jupyter-cytoscape",
      "model_module_version": "^1.3.3",
      "model_name": "NodeModel",
      "state": {
       "_model_module_version": "^1.3.3",
       "_view_module_version": "^1.3.3",
       "data": {
        "color": "gray",
        "id": "2043299395476905912",
        "label": "0",
        "shape": "rectangle"
       },
       "grabbable": true,
       "grabbed": false,
       "position": {
        "x": 304,
        "y": 875
       },
       "selectable": false
      }
     },
     "cf09e0f91f044db0b8b6d18fdd145387": {
      "model_module": "jupyter-cytoscape",
      "model_module_version": "^1.3.3",
      "model_name": "NodeModel",
      "state": {
       "_model_module_version": "^1.3.3",
       "_view_module_version": "^1.3.3",
       "data": {
        "color": "gray",
        "id": "-4802313742835863934",
        "label": "",
        "shape": "rectangle"
       },
       "grabbable": true,
       "grabbed": false,
       "position": {
        "x": 98,
        "y": 2195
       },
       "selectable": false
      }
     },
     "cfe5e496a6c54003a3b099225abce6f5": {
      "model_module": "jupyter-cytoscape",
      "model_module_version": "^1.3.3",
      "model_name": "EdgeModel",
      "state": {
       "_model_module_version": "^1.3.3",
       "_view_module_version": "^1.3.3",
       "classes": " directed ",
       "data": {
        "id": "9f65390a-d7d5-41a0-ba63-59e8f32346a0",
        "source": "-6009689283054284593",
        "target": "8347099738205443168"
       },
       "selectable": false
      }
     },
     "d04c5eae2e2448d0bca8426b87560384": {
      "model_module": "jupyter-cytoscape",
      "model_module_version": "^1.3.3",
      "model_name": "NodeModel",
      "state": {
       "_model_module_version": "^1.3.3",
       "_view_module_version": "^1.3.3",
       "data": {
        "color": "gray",
        "id": "7955502078889264538",
        "label": "apply_transform",
        "shape": "ellipse"
       },
       "grabbable": true,
       "grabbed": false,
       "position": {
        "x": 98,
        "y": 395
       },
       "selectable": false
      }
     },
     "d0ac53dc634e46319bccef3a4418e023": {
      "model_module": "jupyter-cytoscape",
      "model_module_version": "^1.3.3",
      "model_name": "EdgeModel",
      "state": {
       "_model_module_version": "^1.3.3",
       "_view_module_version": "^1.3.3",
       "classes": " directed ",
       "data": {
        "id": "68980540-2a0a-476d-8990-cac759e07b31",
        "source": "3932623954934416386",
        "target": "-5214337360120380884"
       },
       "selectable": false
      }
     },
     "d0fac588140249aa88d382a9def27184": {
      "model_module": "jupyter-cytoscape",
      "model_module_version": "^1.3.3",
      "model_name": "EdgeModel",
      "state": {
       "_model_module_version": "^1.3.3",
       "_view_module_version": "^1.3.3",
       "classes": " directed ",
       "data": {
        "id": "b46b40ff-32f9-403c-9e37-564711cc6d91",
        "source": "-7098068387393164977",
        "target": "7955502078889264538"
       },
       "selectable": false
      }
     },
     "d15bb759b3864e6cb2cef50a786e7509": {
      "model_module": "jupyter-cytoscape",
      "model_module_version": "^1.3.3",
      "model_name": "EdgeModel",
      "state": {
       "_model_module_version": "^1.3.3",
       "_view_module_version": "^1.3.3",
       "classes": " directed ",
       "data": {
        "id": "2ea50f5c-65d8-4e86-9fa8-917e73d75aa1",
        "source": "-2764025106015535249",
        "target": "6400487052080449181"
       },
       "selectable": false
      }
     },
     "d1cd9eb2c18a4cdc82086c97d4e27082": {
      "model_module": "jupyter-cytoscape",
      "model_module_version": "^1.3.3",
      "model_name": "NodeModel",
      "state": {
       "_model_module_version": "^1.3.3",
       "_view_module_version": "^1.3.3",
       "data": {
        "color": "gray",
        "id": "-7623006230979371239",
        "label": "",
        "shape": "rectangle"
       },
       "grabbable": true,
       "grabbed": false,
       "position": {
        "x": 729,
        "y": 995
       },
       "selectable": false
      }
     },
     "d25539ce4309484a9af2e6b1a95ac3d6": {
      "model_module": "jupyter-cytoscape",
      "model_module_version": "^1.3.3",
      "model_name": "EdgeModel",
      "state": {
       "_model_module_version": "^1.3.3",
       "_view_module_version": "^1.3.3",
       "classes": " directed ",
       "data": {
        "id": "56df1d8a-abc8-4f36-afce-eb4c81c81d3e",
        "source": "7569125811984949591",
        "target": "3932623954934416386"
       },
       "selectable": false
      }
     },
     "d2d9b7ec14674f1ab9bf4752871d6047": {
      "model_module": "jupyter-cytoscape",
      "model_module_version": "^1.3.3",
      "model_name": "NodeModel",
      "state": {
       "_model_module_version": "^1.3.3",
       "_view_module_version": "^1.3.3",
       "data": {
        "color": "gray",
        "id": "315022417830977382",
        "label": "(2, 0)",
        "shape": "rectangle"
       },
       "grabbable": true,
       "grabbed": false,
       "position": {
        "x": 729,
        "y": 515
       },
       "selectable": false
      }
     },
     "d7557654b8434514813bdef7fd35e9d3": {
      "model_module": "jupyter-cytoscape",
      "model_module_version": "^1.3.3",
      "model_name": "NodeModel",
      "state": {
       "_model_module_version": "^1.3.3",
       "_view_module_version": "^1.3.3",
       "data": {
        "color": "gray",
        "id": "5433623216836545205",
        "label": "mean_chunk",
        "shape": "ellipse"
       },
       "grabbable": true,
       "grabbed": false,
       "position": {
        "x": 98,
        "y": 635
       },
       "selectable": false
      }
     },
     "d89ddd8a0e464ce2b67bea19249a9dd6": {
      "model_module": "jupyter-cytoscape",
      "model_module_version": "^1.3.3",
      "model_name": "EdgeModel",
      "state": {
       "_model_module_version": "^1.3.3",
       "_view_module_version": "^1.3.3",
       "classes": " directed ",
       "data": {
        "id": "e65fd4aa-1410-4d3f-bf9e-6ede473c4e17",
        "source": "3450144630694137243",
        "target": "-2764025106015535249"
       },
       "selectable": false
      }
     },
     "d8c9a8fd7a9f4626abfe297f6cbfaa8f": {
      "model_module": "jupyter-cytoscape",
      "model_module_version": "^1.3.3",
      "model_name": "NodeModel",
      "state": {
       "_model_module_version": "^1.3.3",
       "_view_module_version": "^1.3.3",
       "data": {
        "color": "gray",
        "id": "-4485154418182438496",
        "label": "getitem",
        "shape": "ellipse"
       },
       "grabbable": true,
       "grabbed": false,
       "position": {
        "x": 727.75,
        "y": 1595
       },
       "selectable": false
      }
     },
     "da4432c5ffcc4b71981a2a3f46b46e54": {
      "model_module": "jupyter-cytoscape",
      "model_module_version": "^1.3.3",
      "model_name": "EdgeModel",
      "state": {
       "_model_module_version": "^1.3.3",
       "_view_module_version": "^1.3.3",
       "classes": " directed ",
       "data": {
        "id": "a14d0d4e-6062-48d7-9d18-7c326fd7a0f6",
        "source": "3438298714983544948",
        "target": "-1458914705359311844"
       },
       "selectable": false
      }
     },
     "dba108fd0a4942b48b2f39f17112fea9": {
      "model_module": "jupyter-cytoscape",
      "model_module_version": "^1.3.3",
      "model_name": "NodeModel",
      "state": {
       "_model_module_version": "^1.3.3",
       "_view_module_version": "^1.3.3",
       "data": {
        "color": "gray",
        "id": "3096592054009723045",
        "label": "wrap_with_array",
        "shape": "ellipse"
       },
       "grabbable": true,
       "grabbed": false,
       "position": {
        "x": 729,
        "y": 1115
       },
       "selectable": false
      }
     },
     "dbc492cdec134cfc9355b98e046c4fb6": {
      "model_module": "jupyter-cytoscape",
      "model_module_version": "^1.3.3",
      "model_name": "EdgeModel",
      "state": {
       "_model_module_version": "^1.3.3",
       "_view_module_version": "^1.3.3",
       "classes": " directed ",
       "data": {
        "id": "f7da9b31-f723-4467-9fb0-2cbe4713551c",
        "source": "3450144630694137243",
        "target": "-2764025106015535249"
       },
       "selectable": false
      }
     },
     "dbc85bf823ef4f138cea58e4369d0be1": {
      "model_module": "jupyter-cytoscape",
      "model_module_version": "^1.3.3",
      "model_name": "EdgeModel",
      "state": {
       "_model_module_version": "^1.3.3",
       "_view_module_version": "^1.3.3",
       "classes": " directed ",
       "data": {
        "id": "ffd1d215-21a4-4c89-b32a-6842c97a9ffd",
        "source": "-1458914705359311844",
        "target": "-4633378280018691195"
       },
       "selectable": false
      }
     },
     "ddd89c6bfc1842c484adca5de8bcf617": {
      "model_module": "jupyter-cytoscape",
      "model_module_version": "^1.3.3",
      "model_name": "EdgeModel",
      "state": {
       "_model_module_version": "^1.3.3",
       "_view_module_version": "^1.3.3",
       "classes": " directed ",
       "data": {
        "id": "1f7053ee-7cb9-413d-800e-c556c04f0fca",
        "source": "-6352084207916844631",
        "target": "-5645729971000478200"
       },
       "selectable": false
      }
     },
     "df99691a4aec4e4db7b2416fe3886cea": {
      "model_module": "jupyter-cytoscape",
      "model_module_version": "^1.3.3",
      "model_name": "EdgeModel",
      "state": {
       "_model_module_version": "^1.3.3",
       "_view_module_version": "^1.3.3",
       "classes": " directed ",
       "data": {
        "id": "ad9e346b-9709-43b2-97e1-c3bf36198eff",
        "source": "-7553528532650097432",
        "target": "3096592054009723045"
       },
       "selectable": false
      }
     },
     "e2594cee0f24419683ee9d33bb2cb1ff": {
      "model_module": "jupyter-cytoscape",
      "model_module_version": "^1.3.3",
      "model_name": "EdgeModel",
      "state": {
       "_model_module_version": "^1.3.3",
       "_view_module_version": "^1.3.3",
       "classes": " directed ",
       "data": {
        "id": "04fe63b5-fc93-42c1-804e-80d039680e2f",
        "source": "600657879845808741",
        "target": "5943683380694205014"
       },
       "selectable": false
      }
     },
     "e29fc8c596e54973863b77c781955f1b": {
      "model_module": "jupyter-cytoscape",
      "model_module_version": "^1.3.3",
      "model_name": "EdgeModel",
      "state": {
       "_model_module_version": "^1.3.3",
       "_view_module_version": "^1.3.3",
       "classes": " directed ",
       "data": {
        "id": "2fbeb80e-4f81-490d-b97e-46d916ef61e2",
        "source": "8809161913446549569",
        "target": "428187117563818069"
       },
       "selectable": false
      }
     },
     "e371fd1634b449a0b82b0f9754990668": {
      "model_module": "jupyter-cytoscape",
      "model_module_version": "^1.3.3",
      "model_name": "EdgeModel",
      "state": {
       "_model_module_version": "^1.3.3",
       "_view_module_version": "^1.3.3",
       "classes": " directed ",
       "data": {
        "id": "c0d3ef7e-9cc4-4367-8134-1e5098168917",
        "source": "7955502078889264538",
        "target": "-4600946410069053293"
       },
       "selectable": false
      }
     },
     "e5a14edf863143e9b4dc78d6aadc6614": {
      "model_module": "jupyter-cytoscape",
      "model_module_version": "^1.3.3",
      "model_name": "EdgeModel",
      "state": {
       "_model_module_version": "^1.3.3",
       "_view_module_version": "^1.3.3",
       "classes": " directed ",
       "data": {
        "id": "5aa69fe4-ec14-42ae-abc1-541389f62174",
        "source": "-5214337360120380884",
        "target": "2043299395476905912"
       },
       "selectable": false
      }
     },
     "e5eb0c53734b451986a14790276671d4": {
      "model_module": "jupyter-cytoscape",
      "model_module_version": "^1.3.3",
      "model_name": "EdgeModel",
      "state": {
       "_model_module_version": "^1.3.3",
       "_view_module_version": "^1.3.3",
       "classes": " directed ",
       "data": {
        "id": "e8f3856d-874c-4779-93e8-e2e1ba34a4cc",
        "source": "7569125811984949591",
        "target": "3932623954934416386"
       },
       "selectable": false
      }
     },
     "e7684ae25fe043e9bbd6acc4c91cfb66": {
      "model_module": "jupyter-cytoscape",
      "model_module_version": "^1.3.3",
      "model_name": "EdgeModel",
      "state": {
       "_model_module_version": "^1.3.3",
       "_view_module_version": "^1.3.3",
       "classes": " directed ",
       "data": {
        "id": "cb7ae086-922e-459d-acc8-591973091249",
        "source": "5359001743737252966",
        "target": "315022417830977382"
       },
       "selectable": false
      }
     },
     "ea5aa5be4296425ab2926d786557385d": {
      "model_module": "jupyter-cytoscape",
      "model_module_version": "^1.3.3",
      "model_name": "EdgeModel",
      "state": {
       "_model_module_version": "^1.3.3",
       "_view_module_version": "^1.3.3",
       "classes": " directed ",
       "data": {
        "id": "f73339d3-1803-4435-a982-6cdb83e5622a",
        "source": "-8733925349984747322",
        "target": "600657879845808741"
       },
       "selectable": false
      }
     },
     "eb63ffd11aa747a29ea245a04ed8198e": {
      "model_module": "jupyter-cytoscape",
      "model_module_version": "^1.3.3",
      "model_name": "EdgeModel",
      "state": {
       "_model_module_version": "^1.3.3",
       "_view_module_version": "^1.3.3",
       "classes": " directed ",
       "data": {
        "id": "9db42572-373e-4dfe-9006-399d2cde7944",
        "source": "6355445888161660327",
        "target": "2752080264571223075"
       },
       "selectable": false
      }
     },
     "ebc23d0398e34ae9bb1c46e02ea11ead": {
      "model_module": "jupyter-cytoscape",
      "model_module_version": "^1.3.3",
      "model_name": "NodeModel",
      "state": {
       "_model_module_version": "^1.3.3",
       "_view_module_version": "^1.3.3",
       "data": {
        "color": "gray",
        "id": "-5645729971000478200",
        "label": "0",
        "shape": "rectangle"
       },
       "grabbable": true,
       "grabbed": false,
       "position": {
        "x": 98,
        "y": 1835
       },
       "selectable": false
      }
     },
     "ebc707d8362b48c5bb0a173f4dfd28af": {
      "model_module": "jupyter-cytoscape",
      "model_module_version": "^1.3.3",
      "model_name": "NodeModel",
      "state": {
       "_model_module_version": "^1.3.3",
       "_view_module_version": "^1.3.3",
       "data": {
        "color": "gray",
        "id": "3088764688101585121",
        "label": "0",
        "shape": "rectangle"
       },
       "grabbable": true,
       "grabbed": false,
       "position": {
        "x": 729,
        "y": 875
       },
       "selectable": false
      }
     },
     "ed998d5ab5834bc6bdf32d715f31df68": {
      "model_module": "jupyter-cytoscape",
      "model_module_version": "^1.3.3",
      "model_name": "EdgeModel",
      "state": {
       "_model_module_version": "^1.3.3",
       "_view_module_version": "^1.3.3",
       "classes": " directed ",
       "data": {
        "id": "ad78d7f5-9b0e-48c8-b385-14df76ee637d",
        "source": "2770177398001351363",
        "target": "-6352084207916844631"
       },
       "selectable": false
      }
     },
     "ee5c64f41a5a4089a49aa2f09e88d61b": {
      "model_module": "jupyter-cytoscape",
      "model_module_version": "^1.3.3",
      "model_name": "EdgeModel",
      "state": {
       "_model_module_version": "^1.3.3",
       "_view_module_version": "^1.3.3",
       "classes": " directed ",
       "data": {
        "id": "c4153a25-7dbd-424d-8b5e-80721183702e",
        "source": "-7623006230979371239",
        "target": "3088764688101585121"
       },
       "selectable": false
      }
     },
     "eee4e8ac97c5429d9b6588ee8ae160f0": {
      "model_module": "jupyter-cytoscape",
      "model_module_version": "^1.3.3",
      "model_name": "NodeModel",
      "state": {
       "_model_module_version": "^1.3.3",
       "_view_module_version": "^1.3.3",
       "data": {
        "color": "gray",
        "id": "-7623006230979371239",
        "label": "",
        "shape": "rectangle"
       },
       "grabbable": true,
       "grabbed": false,
       "position": {
        "x": 938.25,
        "y": 1955
       },
       "selectable": false
      }
     },
     "efcbf8b73e424e7bb4aace29183590ca": {
      "model_module": "jupyter-cytoscape",
      "model_module_version": "^1.3.3",
      "model_name": "EdgeModel",
      "state": {
       "_model_module_version": "^1.3.3",
       "_view_module_version": "^1.3.3",
       "classes": " directed ",
       "data": {
        "id": "7c8cd685-144d-4ac1-9e19-625052fe2743",
        "source": "428187117563818069",
        "target": "-4485154418182438496"
       },
       "selectable": false
      }
     },
     "f074b07a272f4c549f0c704ae884801d": {
      "model_module": "jupyter-cytoscape",
      "model_module_version": "^1.3.3",
      "model_name": "EdgeModel",
      "state": {
       "_model_module_version": "^1.3.3",
       "_view_module_version": "^1.3.3",
       "classes": " directed ",
       "data": {
        "id": "3fa3eee2-d7cc-462f-8969-fae769c2c2bf",
        "source": "2550625352975215854",
        "target": "5433623216836545205"
       },
       "selectable": false
      }
     },
     "f15ec8e1fa0a4d118d941726463be850": {
      "model_module": "jupyter-cytoscape",
      "model_module_version": "^1.3.3",
      "model_name": "EdgeModel",
      "state": {
       "_model_module_version": "^1.3.3",
       "_view_module_version": "^1.3.3",
       "classes": " directed ",
       "data": {
        "id": "0211cb76-7449-49e4-b83d-ffbdf76f8b21",
        "source": "3088764688101585121",
        "target": "-1681096255553812228"
       },
       "selectable": false
      }
     },
     "f35c576808e54fe8aec5c4110e1314d2": {
      "model_module": "jupyter-cytoscape",
      "model_module_version": "^1.3.3",
      "model_name": "EdgeModel",
      "state": {
       "_model_module_version": "^1.3.3",
       "_view_module_version": "^1.3.3",
       "classes": " directed ",
       "data": {
        "id": "b4f8e4dd-74ce-4bd4-94e6-5b5f7e03da35",
        "source": "2161184395296273586",
        "target": "-8268939450849820016"
       },
       "selectable": false
      }
     },
     "f79071de1c504318b39cf5f5382dfee2": {
      "model_module": "jupyter-cytoscape",
      "model_module_version": "^1.3.3",
      "model_name": "NodeModel",
      "state": {
       "_model_module_version": "^1.3.3",
       "_view_module_version": "^1.3.3",
       "data": {
        "color": "gray",
        "id": "-8537269885570877590",
        "label": "intensity",
        "shape": "ellipse"
       },
       "grabbable": true,
       "grabbed": false,
       "position": {
        "x": 98,
        "y": 875
       },
       "selectable": false
      }
     },
     "faf90c713eea4f309281db6a5e64a573": {
      "model_module": "jupyter-cytoscape",
      "model_module_version": "^1.3.3",
      "model_name": "NodeModel",
      "state": {
       "_model_module_version": "^1.3.3",
       "_view_module_version": "^1.3.3",
       "data": {
        "color": "gray",
        "id": "-7551546998126762499",
        "label": "(1, 0, 0)",
        "shape": "rectangle"
       },
       "grabbable": true,
       "grabbed": false,
       "position": {
        "x": 927,
        "y": 275
       },
       "selectable": false
      }
     },
     "fb4df4c019584db391a4bb528e88e543": {
      "model_module": "jupyter-cytoscape",
      "model_module_version": "^1.3.3",
      "model_name": "NodeModel",
      "state": {
       "_model_module_version": "^1.3.3",
       "_view_module_version": "^1.3.3",
       "data": {
        "color": "gray",
        "id": "2752080264571223075",
        "label": "(1, 0)",
        "shape": "rectangle"
       },
       "grabbable": true,
       "grabbed": false,
       "position": {
        "x": 304,
        "y": 1475
       },
       "selectable": false
      }
     },
     "fb66ba5451ce4ed1b3dee2481b8b5911": {
      "model_module": "jupyter-cytoscape",
      "model_module_version": "^1.3.3",
      "model_name": "NodeModel",
      "state": {
       "_model_module_version": "^1.3.3",
       "_view_module_version": "^1.3.3",
       "data": {
        "color": "gray",
        "id": "8088897934273211597",
        "label": "(0, 0)",
        "shape": "rectangle"
       },
       "grabbable": true,
       "grabbed": false,
       "position": {
        "x": 722,
        "y": 35
       },
       "selectable": false
      }
     },
     "fd6c0db794104e4b8ebb0d01b6312f53": {
      "model_module": "jupyter-cytoscape",
      "model_module_version": "^1.3.3",
      "model_name": "GraphModel",
      "state": {
       "_adj": {
        "-1458914705359311844": {},
        "-1681096255553812228": {},
        "-2181692662867171182": {},
        "-2401193227864883118": {},
        "-2550997806106363480": {},
        "-2764025106015535249": {},
        "-3065761944250121716": {},
        "-321044688004105615": {},
        "-3295662982683114287": {},
        "-3344550489857690158": {},
        "-3386515541091970270": {},
        "-4485154418182438496": {},
        "-4600946410069053293": {},
        "-4633378280018691195": {},
        "-4658344091649641651": {},
        "-4802313742835863934": {},
        "-5214337360120380884": {},
        "-5645729971000478200": {},
        "-6352084207916844631": {},
        "-6352851238962669772": {},
        "-6398719801904312020": {},
        "-7098068387393164977": {},
        "-7553528532650097432": {},
        "-7623006230979371239": {},
        "-8268939450849820016": {},
        "-8628972586876148174": {},
        "2043299395476905912": {},
        "2161184395296273586": {},
        "2752080264571223075": {},
        "2770177398001351363": {},
        "3088764688101585121": {},
        "3096592054009723045": {},
        "315022417830977382": {},
        "3211977773418884138": {},
        "3291611302884136552": {},
        "3438298714983544948": {},
        "3450144630694137243": {},
        "3932623954934416386": {},
        "428187117563818069": {},
        "5359001743737252966": {},
        "5361702006548743999": {},
        "6355445888161660327": {},
        "6400487052080449181": {},
        "7569125811984949591": {},
        "7583327050442078625": {},
        "7955502078889264538": {},
        "8679321251970945206": {},
        "8809161913446549569": {}
       },
       "_model_module_version": "^1.3.3",
       "_view_module": "jupyter-cytoscape",
       "_view_module_version": "^1.3.3",
       "edges": [
        "IPY_MODEL_bccddfaba95a48d6ad2421acabdf97e2",
        "IPY_MODEL_1bacf60bccfc4f0896e2b89325d6f623",
        "IPY_MODEL_d0fac588140249aa88d382a9def27184",
        "IPY_MODEL_ca242e407e2d48a1b85cb243f929eff2",
        "IPY_MODEL_c537d429b9fa4d9a90def1eec1690442",
        "IPY_MODEL_559f6fe06b17445ebd6cfc29a2eea8ce",
        "IPY_MODEL_965cdd13600d49419f64c1db1094e276",
        "IPY_MODEL_1351ddb9e5d5451e91b75ff9ea1f2900",
        "IPY_MODEL_9b04abd5171e486fa364ac27da0be97b",
        "IPY_MODEL_0354c44c23c3477495e0c663ad1c83dc",
        "IPY_MODEL_cd39f53b48d5405cb525720f8938c1d6",
        "IPY_MODEL_2cf45ab663fd43d1a2dff45a70f9e90c",
        "IPY_MODEL_865058daf224472ab7ea4c47a516c9b1",
        "IPY_MODEL_aa5290be9c0d49779eace394c60f5e49",
        "IPY_MODEL_acd6f83272564d95997faf9ec43b484c",
        "IPY_MODEL_e29fc8c596e54973863b77c781955f1b",
        "IPY_MODEL_bda4f243952a4d0481cdaf2ee85d7390",
        "IPY_MODEL_65fb0e98587d445fa83919709f758e4c",
        "IPY_MODEL_a4932caf7f5f4b02af4b704f6e80796e",
        "IPY_MODEL_d0ac53dc634e46319bccef3a4418e023",
        "IPY_MODEL_e5eb0c53734b451986a14790276671d4",
        "IPY_MODEL_9c1cd2888cc04384b784750f62f27bac",
        "IPY_MODEL_387b9094f795408384c354a9f4573d99",
        "IPY_MODEL_893047e3c7a94dd3abfed47f32b65f46",
        "IPY_MODEL_b67209be56f9449b9f3c9bdd37723b64",
        "IPY_MODEL_d15bb759b3864e6cb2cef50a786e7509",
        "IPY_MODEL_dbc492cdec134cfc9355b98e046c4fb6",
        "IPY_MODEL_2364ae6d398346178d45050838b0924d",
        "IPY_MODEL_27d918fb5f5546a1acbd6b07532130bb",
        "IPY_MODEL_2d973dc71dc44f96aff916058f10ff7c",
        "IPY_MODEL_21a1bfe9e5eb4e4ca6b26c73f6554c27",
        "IPY_MODEL_07223dde970c417285d96473bc12d69e",
        "IPY_MODEL_e7684ae25fe043e9bbd6acc4c91cfb66",
        "IPY_MODEL_a41186a3b4af4d11a3398a09cf643408",
        "IPY_MODEL_407a6c4067a04ccc91404d3ff46eed0a",
        "IPY_MODEL_efcbf8b73e424e7bb4aace29183590ca",
        "IPY_MODEL_1fd14088e48a460992b99fbf8da3e335",
        "IPY_MODEL_bedcd85c80a843b496af33de7e050445",
        "IPY_MODEL_355ccd1096154575919aea3e09bb1b37",
        "IPY_MODEL_25e866bc0611486480c6796bdb218148",
        "IPY_MODEL_6ab9b0ef2ef5446087e5eab36d6d0f9b",
        "IPY_MODEL_f35c576808e54fe8aec5c4110e1314d2",
        "IPY_MODEL_acfd30ba84e8449cb0ad10b20ad26e94",
        "IPY_MODEL_a3a3ec7a2ee84a7fb7ec62f543a2c214",
        "IPY_MODEL_da4432c5ffcc4b71981a2a3f46b46e54",
        "IPY_MODEL_80e97ef503154f30be42b1e7b737251e",
        "IPY_MODEL_1bd5003d0149408897d54870561b86e9"
       ],
       "nodes": [
        "IPY_MODEL_d04c5eae2e2448d0bca8426b87560384",
        "IPY_MODEL_6a90bc300d544fef96c42eaf31c51110",
        "IPY_MODEL_c302573d7c49479b93f3710e326166bb",
        "IPY_MODEL_6b67e4e205fe47bb81e8289e250ab83b",
        "IPY_MODEL_02e620dabbe54b04be6498b73ee2f408",
        "IPY_MODEL_bf322db1eef74f89bf2d46f0e463497e",
        "IPY_MODEL_5f36dc7fc6e24e918771ad559f489813",
        "IPY_MODEL_a43620ecaecb47469f7a81aa16967df0",
        "IPY_MODEL_d2d9b7ec14674f1ab9bf4752871d6047",
        "IPY_MODEL_6010e9e896e8420c8c5bbd71777fd1ee",
        "IPY_MODEL_af3431af894747cbb0faedf2ebbf5fec",
        "IPY_MODEL_68b70ea9500c4ce7b1ab7bddfaacf09e",
        "IPY_MODEL_bd97d6c228e144ee839221587e4f695a",
        "IPY_MODEL_cc83dee83b7d4015afd03873d1e95eca",
        "IPY_MODEL_7c55cdf728a941638cfa8931dd3ef8a4",
        "IPY_MODEL_b20024849eb14f5583894248e8e92366",
        "IPY_MODEL_a9be40a21df944379db859e5132edaeb",
        "IPY_MODEL_97bcbc0ff341421397995e907149cf39",
        "IPY_MODEL_2eafd27c97b74d9dae902871025b0dea",
        "IPY_MODEL_c217aa10d4c74cf8af6afb9b83f2e54a",
        "IPY_MODEL_68db5159b9bf4ba680828d8667721da2",
        "IPY_MODEL_2c9fcfa74e134a7f88eeac5db1b06435",
        "IPY_MODEL_b9a939a73a0d41d3b53d4addb1a9a889",
        "IPY_MODEL_9b7647e6b9f0466a80fb723b7e145d84",
        "IPY_MODEL_cea00b18e25c4b0f98fae43e7a583e85",
        "IPY_MODEL_586eed34b81b4a31a4c440f25d5ac553",
        "IPY_MODEL_dba108fd0a4942b48b2f39f17112fea9",
        "IPY_MODEL_d1cd9eb2c18a4cdc82086c97d4e27082",
        "IPY_MODEL_ebc707d8362b48c5bb0a173f4dfd28af",
        "IPY_MODEL_5a3b37b327d647cba7af115dbcc089de",
        "IPY_MODEL_ccf12beec5244aefbc9b0b36e27b86e8",
        "IPY_MODEL_2d2d463aebea4c0da614884b0642cae8",
        "IPY_MODEL_1ea5ae692ba743daa73020f218cc2723",
        "IPY_MODEL_5e703c1bc07d42e686ddd873c63862d9",
        "IPY_MODEL_3024344f63fe450bb1e92111cc85e33d",
        "IPY_MODEL_bdc85f5aa54a464d998229ef6e6b71db",
        "IPY_MODEL_0d908892f4b3470a949b5e4d6f7587dd",
        "IPY_MODEL_b178eb5ba80d442f99973e8b385d72c6",
        "IPY_MODEL_3fdfd7ea8c83424ba68cdc25e06dd6b2",
        "IPY_MODEL_43e653e4ab49437a9ba491e4ec183b76",
        "IPY_MODEL_8528106abf43409aac14f86dcc6d1162",
        "IPY_MODEL_4d564e26832b4df6a5276cadc3a5f613",
        "IPY_MODEL_b6bfa90b09454ca5a086e6b629b45568",
        "IPY_MODEL_130c18eb930f4d0790a3902f1bdec8da",
        "IPY_MODEL_aaee2198db334c4ea83b731196a05ff9",
        "IPY_MODEL_bea1f9b21b614d88bde5a94b28741280",
        "IPY_MODEL_5a8acb160e144433bd26731f87b1903c",
        "IPY_MODEL_98777e83f52e49439616d80faa2a6b94"
       ]
      }
     },
     "fdb327b05e3344498ef15c674a6a1734": {
      "model_module": "jupyter-cytoscape",
      "model_module_version": "^1.3.3",
      "model_name": "NodeModel",
      "state": {
       "_model_module_version": "^1.3.3",
       "_view_module_version": "^1.3.3",
       "data": {
        "color": "gray",
        "id": "-2401193227864883118",
        "label": "from_partitioned_args_func",
        "shape": "ellipse"
       },
       "grabbable": true,
       "grabbed": false,
       "position": {
        "x": 515.75,
        "y": 1835
       },
       "selectable": false
      }
     },
     "fe8c6caad91d451bbdc2904665130261": {
      "model_module": "jupyter-cytoscape",
      "model_module_version": "^1.3.3",
      "model_name": "NodeModel",
      "state": {
       "_model_module_version": "^1.3.3",
       "_view_module_version": "^1.3.3",
       "data": {
        "color": "gray",
        "id": "-3344550489857690158",
        "label": "getitem",
        "shape": "ellipse"
       },
       "grabbable": true,
       "grabbed": false,
       "position": {
        "x": 98,
        "y": 1595
       },
       "selectable": false
      }
     }
    },
    "version_major": 2,
    "version_minor": 0
   }
  }
 },
 "nbformat": 4,
 "nbformat_minor": 5
}
