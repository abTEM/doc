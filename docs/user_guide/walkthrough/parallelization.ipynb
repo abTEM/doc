{
 "cells": [
  {
   "cell_type": "markdown",
   "id": "63acbfd0-4bb2-4873-a1b4-4db6ba9f57dd",
   "metadata": {
    "editable": true,
    "slideshow": {
     "slide_type": ""
    },
    "tags": []
   },
   "source": [
    "````{warning} Requires optional libraries\n",
    ":class: dropdown\n",
    "\n",
    "Running this notebook requires the optional packages [bokeh](http://bokeh.org/) and [ipycytoscape](https://ipycytoscape.readthedocs.io/en/latest/).\n",
    "\n",
    "Install using conda: \n",
    "\n",
    "```{code}\n",
    "conda install -c conda-forge bokeh ipycytoscape\n",
    "```\n",
    "\n",
    "Install using pip:\n",
    "```{code}\n",
    "pip install bokeh ipycytoscape\n",
    "```\n",
    "\n",
    "These libraries includes a server Jupyter server plugin, a restart of Jupyter is necessary if you have installed the libraries while it is running.\n",
    "````"
   ]
  },
  {
   "cell_type": "code",
   "execution_count": 1,
   "id": "c8a68d55-5e9b-4bab-b324-05b89a56cecd",
   "metadata": {
    "editable": true,
    "pycharm": {
     "name": "#%%\n"
    },
    "slideshow": {
     "slide_type": ""
    },
    "tags": [
     "hide-input"
    ]
   },
   "outputs": [
    {
     "data": {
      "text/html": [
       "    <style>\n",
       "        .bk-notebook-logo {\n",
       "            display: block;\n",
       "            width: 20px;\n",
       "            height: 20px;\n",
       "            background-image: url(data:image/png;base64,iVBORw0KGgoAAAANSUhEUgAAABQAAAAUCAYAAACNiR0NAAAABHNCSVQICAgIfAhkiAAAAAlwSFlzAAALEgAACxIB0t1+/AAAABx0RVh0U29mdHdhcmUAQWRvYmUgRmlyZXdvcmtzIENTNui8sowAAAOkSURBVDiNjZRtaJVlGMd/1/08zzln5zjP1LWcU9N0NkN8m2CYjpgQYQXqSs0I84OLIC0hkEKoPtiH3gmKoiJDU7QpLgoLjLIQCpEsNJ1vqUOdO7ppbuec5+V+rj4ctwzd8IIbbi6u+8f1539dt3A78eXC7QizUF7gyV1fD1Yqg4JWz84yffhm0qkFqBogB9rM8tZdtwVsPUhWhGcFJngGeWrPzHm5oaMmkfEg1usvLFyc8jLRqDOMru7AyC8saQr7GG7f5fvDeH7Ej8CM66nIF+8yngt6HWaKh7k49Soy9nXurCi1o3qUbS3zWfrYeQDTB/Qj6kX6Ybhw4B+bOYoLKCC9H3Nu/leUTZ1JdRWkkn2ldcCamzrcf47KKXdAJllSlxAOkRgyHsGC/zRday5Qld9DyoM4/q/rUoy/CXh3jzOu3bHUVZeU+DEn8FInkPBFlu3+nW3Nw0mk6vCDiWg8CeJaxEwuHS3+z5RgY+YBR6V1Z1nxSOfoaPa4LASWxxdNp+VWTk7+4vzaou8v8PN+xo+KY2xsw6une2frhw05CTYOmQvsEhjhWjn0bmXPjpE1+kplmmkP3suftwTubK9Vq22qKmrBhpY4jvd5afdRA3wGjFAgcnTK2s4hY0/GPNIb0nErGMCRxWOOX64Z8RAC4oCXdklmEvcL8o0BfkNK4lUg9HTl+oPlQxdNo3Mg4Nv175e/1LDGzZen30MEjRUtmXSfiTVu1kK8W4txyV6BMKlbgk3lMwYCiusNy9fVfvvwMxv8Ynl6vxoByANLTWplvuj/nF9m2+PDtt1eiHPBr1oIfhCChQMBw6Aw0UulqTKZdfVvfG7VcfIqLG9bcldL/+pdWTLxLUy8Qq38heUIjh4XlzZxzQm19lLFlr8vdQ97rjZVOLf8nclzckbcD4wxXMidpX30sFd37Fv/GtwwhzhxGVAprjbg0gCAEeIgwCZyTV2Z1REEW8O4py0wsjeloKoMr6iCY6dP92H6Vw/oTyICIthibxjm/DfN9lVz8IqtqKYLUXfoKVMVQVVJOElGjrnnUt9T9wbgp8AyYKaGlqingHZU/uG2NTZSVqwHQTWkx9hxjkpWDaCg6Ckj5qebgBVbT3V3NNXMSiWSDdGV3hrtzla7J+duwPOToIg42ChPQOQjspnSlp1V+Gjdged7+8UN5CRAV7a5EdFNwCjEaBR27b3W890TE7g24NAP/mMDXRWrGoFPQI9ls/MWO2dWFAar/xcOIImbbpA3zgAAAABJRU5ErkJggg==);\n",
       "        }\n",
       "    </style>\n",
       "    <div>\n",
       "        <a href=\"https://bokeh.org\" target=\"_blank\" class=\"bk-notebook-logo\"></a>\n",
       "        <span id=\"c9d9d369-23e4-434a-bbc1-e5ef7afcaaf9\">Loading BokehJS ...</span>\n",
       "    </div>\n"
      ]
     },
     "metadata": {},
     "output_type": "display_data"
    },
    {
     "data": {
      "application/javascript": [
       "(function(root) {\n",
       "  function now() {\n",
       "    return new Date();\n",
       "  }\n",
       "\n",
       "  const force = true;\n",
       "\n",
       "  if (typeof root._bokeh_onload_callbacks === \"undefined\" || force === true) {\n",
       "    root._bokeh_onload_callbacks = [];\n",
       "    root._bokeh_is_loading = undefined;\n",
       "  }\n",
       "\n",
       "const JS_MIME_TYPE = 'application/javascript';\n",
       "  const HTML_MIME_TYPE = 'text/html';\n",
       "  const EXEC_MIME_TYPE = 'application/vnd.bokehjs_exec.v0+json';\n",
       "  const CLASS_NAME = 'output_bokeh rendered_html';\n",
       "\n",
       "  /**\n",
       "   * Render data to the DOM node\n",
       "   */\n",
       "  function render(props, node) {\n",
       "    const script = document.createElement(\"script\");\n",
       "    node.appendChild(script);\n",
       "  }\n",
       "\n",
       "  /**\n",
       "   * Handle when an output is cleared or removed\n",
       "   */\n",
       "  function handleClearOutput(event, handle) {\n",
       "    function drop(id) {\n",
       "      const view = Bokeh.index.get_by_id(id)\n",
       "      if (view != null) {\n",
       "        view.model.document.clear()\n",
       "        Bokeh.index.delete(view)\n",
       "      }\n",
       "    }\n",
       "\n",
       "    const cell = handle.cell;\n",
       "\n",
       "    const id = cell.output_area._bokeh_element_id;\n",
       "    const server_id = cell.output_area._bokeh_server_id;\n",
       "\n",
       "    // Clean up Bokeh references\n",
       "    if (id != null) {\n",
       "      drop(id)\n",
       "    }\n",
       "\n",
       "    if (server_id !== undefined) {\n",
       "      // Clean up Bokeh references\n",
       "      const cmd_clean = \"from bokeh.io.state import curstate; print(curstate().uuid_to_server['\" + server_id + \"'].get_sessions()[0].document.roots[0]._id)\";\n",
       "      cell.notebook.kernel.execute(cmd_clean, {\n",
       "        iopub: {\n",
       "          output: function(msg) {\n",
       "            const id = msg.content.text.trim()\n",
       "            drop(id)\n",
       "          }\n",
       "        }\n",
       "      });\n",
       "      // Destroy server and session\n",
       "      const cmd_destroy = \"import bokeh.io.notebook as ion; ion.destroy_server('\" + server_id + \"')\";\n",
       "      cell.notebook.kernel.execute(cmd_destroy);\n",
       "    }\n",
       "  }\n",
       "\n",
       "  /**\n",
       "   * Handle when a new output is added\n",
       "   */\n",
       "  function handleAddOutput(event, handle) {\n",
       "    const output_area = handle.output_area;\n",
       "    const output = handle.output;\n",
       "\n",
       "    // limit handleAddOutput to display_data with EXEC_MIME_TYPE content only\n",
       "    if ((output.output_type != \"display_data\") || (!Object.prototype.hasOwnProperty.call(output.data, EXEC_MIME_TYPE))) {\n",
       "      return\n",
       "    }\n",
       "\n",
       "    const toinsert = output_area.element.find(\".\" + CLASS_NAME.split(' ')[0]);\n",
       "\n",
       "    if (output.metadata[EXEC_MIME_TYPE][\"id\"] !== undefined) {\n",
       "      toinsert[toinsert.length - 1].firstChild.textContent = output.data[JS_MIME_TYPE];\n",
       "      // store reference to embed id on output_area\n",
       "      output_area._bokeh_element_id = output.metadata[EXEC_MIME_TYPE][\"id\"];\n",
       "    }\n",
       "    if (output.metadata[EXEC_MIME_TYPE][\"server_id\"] !== undefined) {\n",
       "      const bk_div = document.createElement(\"div\");\n",
       "      bk_div.innerHTML = output.data[HTML_MIME_TYPE];\n",
       "      const script_attrs = bk_div.children[0].attributes;\n",
       "      for (let i = 0; i < script_attrs.length; i++) {\n",
       "        toinsert[toinsert.length - 1].firstChild.setAttribute(script_attrs[i].name, script_attrs[i].value);\n",
       "        toinsert[toinsert.length - 1].firstChild.textContent = bk_div.children[0].textContent\n",
       "      }\n",
       "      // store reference to server id on output_area\n",
       "      output_area._bokeh_server_id = output.metadata[EXEC_MIME_TYPE][\"server_id\"];\n",
       "    }\n",
       "  }\n",
       "\n",
       "  function register_renderer(events, OutputArea) {\n",
       "\n",
       "    function append_mime(data, metadata, element) {\n",
       "      // create a DOM node to render to\n",
       "      const toinsert = this.create_output_subarea(\n",
       "        metadata,\n",
       "        CLASS_NAME,\n",
       "        EXEC_MIME_TYPE\n",
       "      );\n",
       "      this.keyboard_manager.register_events(toinsert);\n",
       "      // Render to node\n",
       "      const props = {data: data, metadata: metadata[EXEC_MIME_TYPE]};\n",
       "      render(props, toinsert[toinsert.length - 1]);\n",
       "      element.append(toinsert);\n",
       "      return toinsert\n",
       "    }\n",
       "\n",
       "    /* Handle when an output is cleared or removed */\n",
       "    events.on('clear_output.CodeCell', handleClearOutput);\n",
       "    events.on('delete.Cell', handleClearOutput);\n",
       "\n",
       "    /* Handle when a new output is added */\n",
       "    events.on('output_added.OutputArea', handleAddOutput);\n",
       "\n",
       "    /**\n",
       "     * Register the mime type and append_mime function with output_area\n",
       "     */\n",
       "    OutputArea.prototype.register_mime_type(EXEC_MIME_TYPE, append_mime, {\n",
       "      /* Is output safe? */\n",
       "      safe: true,\n",
       "      /* Index of renderer in `output_area.display_order` */\n",
       "      index: 0\n",
       "    });\n",
       "  }\n",
       "\n",
       "  // register the mime type if in Jupyter Notebook environment and previously unregistered\n",
       "  if (root.Jupyter !== undefined) {\n",
       "    const events = require('base/js/events');\n",
       "    const OutputArea = require('notebook/js/outputarea').OutputArea;\n",
       "\n",
       "    if (OutputArea.prototype.mime_types().indexOf(EXEC_MIME_TYPE) == -1) {\n",
       "      register_renderer(events, OutputArea);\n",
       "    }\n",
       "  }\n",
       "  if (typeof (root._bokeh_timeout) === \"undefined\" || force === true) {\n",
       "    root._bokeh_timeout = Date.now() + 5000;\n",
       "    root._bokeh_failed_load = false;\n",
       "  }\n",
       "\n",
       "  const NB_LOAD_WARNING = {'data': {'text/html':\n",
       "     \"<div style='background-color: #fdd'>\\n\"+\n",
       "     \"<p>\\n\"+\n",
       "     \"BokehJS does not appear to have successfully loaded. If loading BokehJS from CDN, this \\n\"+\n",
       "     \"may be due to a slow or bad network connection. Possible fixes:\\n\"+\n",
       "     \"</p>\\n\"+\n",
       "     \"<ul>\\n\"+\n",
       "     \"<li>re-rerun `output_notebook()` to attempt to load from CDN again, or</li>\\n\"+\n",
       "     \"<li>use INLINE resources instead, as so:</li>\\n\"+\n",
       "     \"</ul>\\n\"+\n",
       "     \"<code>\\n\"+\n",
       "     \"from bokeh.resources import INLINE\\n\"+\n",
       "     \"output_notebook(resources=INLINE)\\n\"+\n",
       "     \"</code>\\n\"+\n",
       "     \"</div>\"}};\n",
       "\n",
       "  function display_loaded() {\n",
       "    const el = document.getElementById(\"c9d9d369-23e4-434a-bbc1-e5ef7afcaaf9\");\n",
       "    if (el != null) {\n",
       "      el.textContent = \"BokehJS is loading...\";\n",
       "    }\n",
       "    if (root.Bokeh !== undefined) {\n",
       "      if (el != null) {\n",
       "        el.textContent = \"BokehJS \" + root.Bokeh.version + \" successfully loaded.\";\n",
       "      }\n",
       "    } else if (Date.now() < root._bokeh_timeout) {\n",
       "      setTimeout(display_loaded, 100)\n",
       "    }\n",
       "  }\n",
       "\n",
       "  function run_callbacks() {\n",
       "    try {\n",
       "      root._bokeh_onload_callbacks.forEach(function(callback) {\n",
       "        if (callback != null)\n",
       "          callback();\n",
       "      });\n",
       "    } finally {\n",
       "      delete root._bokeh_onload_callbacks\n",
       "    }\n",
       "    console.debug(\"Bokeh: all callbacks have finished\");\n",
       "  }\n",
       "\n",
       "  function load_libs(css_urls, js_urls, callback) {\n",
       "    if (css_urls == null) css_urls = [];\n",
       "    if (js_urls == null) js_urls = [];\n",
       "\n",
       "    root._bokeh_onload_callbacks.push(callback);\n",
       "    if (root._bokeh_is_loading > 0) {\n",
       "      console.debug(\"Bokeh: BokehJS is being loaded, scheduling callback at\", now());\n",
       "      return null;\n",
       "    }\n",
       "    if (js_urls == null || js_urls.length === 0) {\n",
       "      run_callbacks();\n",
       "      return null;\n",
       "    }\n",
       "    console.debug(\"Bokeh: BokehJS not loaded, scheduling load and callback at\", now());\n",
       "    root._bokeh_is_loading = css_urls.length + js_urls.length;\n",
       "\n",
       "    function on_load() {\n",
       "      root._bokeh_is_loading--;\n",
       "      if (root._bokeh_is_loading === 0) {\n",
       "        console.debug(\"Bokeh: all BokehJS libraries/stylesheets loaded\");\n",
       "        run_callbacks()\n",
       "      }\n",
       "    }\n",
       "\n",
       "    function on_error(url) {\n",
       "      console.error(\"failed to load \" + url);\n",
       "    }\n",
       "\n",
       "    for (let i = 0; i < css_urls.length; i++) {\n",
       "      const url = css_urls[i];\n",
       "      const element = document.createElement(\"link\");\n",
       "      element.onload = on_load;\n",
       "      element.onerror = on_error.bind(null, url);\n",
       "      element.rel = \"stylesheet\";\n",
       "      element.type = \"text/css\";\n",
       "      element.href = url;\n",
       "      console.debug(\"Bokeh: injecting link tag for BokehJS stylesheet: \", url);\n",
       "      document.body.appendChild(element);\n",
       "    }\n",
       "\n",
       "    for (let i = 0; i < js_urls.length; i++) {\n",
       "      const url = js_urls[i];\n",
       "      const element = document.createElement('script');\n",
       "      element.onload = on_load;\n",
       "      element.onerror = on_error.bind(null, url);\n",
       "      element.async = false;\n",
       "      element.src = url;\n",
       "      console.debug(\"Bokeh: injecting script tag for BokehJS library: \", url);\n",
       "      document.head.appendChild(element);\n",
       "    }\n",
       "  };\n",
       "\n",
       "  function inject_raw_css(css) {\n",
       "    const element = document.createElement(\"style\");\n",
       "    element.appendChild(document.createTextNode(css));\n",
       "    document.body.appendChild(element);\n",
       "  }\n",
       "\n",
       "  const js_urls = [\"https://cdn.bokeh.org/bokeh/release/bokeh-3.3.2.min.js\", \"https://cdn.bokeh.org/bokeh/release/bokeh-gl-3.3.2.min.js\", \"https://cdn.bokeh.org/bokeh/release/bokeh-widgets-3.3.2.min.js\", \"https://cdn.bokeh.org/bokeh/release/bokeh-tables-3.3.2.min.js\", \"https://cdn.bokeh.org/bokeh/release/bokeh-mathjax-3.3.2.min.js\"];\n",
       "  const css_urls = [];\n",
       "\n",
       "  const inline_js = [    function(Bokeh) {\n",
       "      Bokeh.set_log_level(\"info\");\n",
       "    },\n",
       "function(Bokeh) {\n",
       "    }\n",
       "  ];\n",
       "\n",
       "  function run_inline_js() {\n",
       "    if (root.Bokeh !== undefined || force === true) {\n",
       "          for (let i = 0; i < inline_js.length; i++) {\n",
       "      inline_js[i].call(root, root.Bokeh);\n",
       "    }\n",
       "if (force === true) {\n",
       "        display_loaded();\n",
       "      }} else if (Date.now() < root._bokeh_timeout) {\n",
       "      setTimeout(run_inline_js, 100);\n",
       "    } else if (!root._bokeh_failed_load) {\n",
       "      console.log(\"Bokeh: BokehJS failed to load within specified timeout.\");\n",
       "      root._bokeh_failed_load = true;\n",
       "    } else if (force !== true) {\n",
       "      const cell = $(document.getElementById(\"c9d9d369-23e4-434a-bbc1-e5ef7afcaaf9\")).parents('.cell').data().cell;\n",
       "      cell.output_area.append_execute_result(NB_LOAD_WARNING)\n",
       "    }\n",
       "  }\n",
       "\n",
       "  if (root._bokeh_is_loading === 0) {\n",
       "    console.debug(\"Bokeh: BokehJS loaded, going straight to plotting\");\n",
       "    run_inline_js();\n",
       "  } else {\n",
       "    load_libs(css_urls, js_urls, function() {\n",
       "      console.debug(\"Bokeh: BokehJS plotting callback run at\", now());\n",
       "      run_inline_js();\n",
       "    });\n",
       "  }\n",
       "}(window));"
      ],
      "application/vnd.bokehjs_load.v0+json": "(function(root) {\n  function now() {\n    return new Date();\n  }\n\n  const force = true;\n\n  if (typeof root._bokeh_onload_callbacks === \"undefined\" || force === true) {\n    root._bokeh_onload_callbacks = [];\n    root._bokeh_is_loading = undefined;\n  }\n\n\n  if (typeof (root._bokeh_timeout) === \"undefined\" || force === true) {\n    root._bokeh_timeout = Date.now() + 5000;\n    root._bokeh_failed_load = false;\n  }\n\n  const NB_LOAD_WARNING = {'data': {'text/html':\n     \"<div style='background-color: #fdd'>\\n\"+\n     \"<p>\\n\"+\n     \"BokehJS does not appear to have successfully loaded. If loading BokehJS from CDN, this \\n\"+\n     \"may be due to a slow or bad network connection. Possible fixes:\\n\"+\n     \"</p>\\n\"+\n     \"<ul>\\n\"+\n     \"<li>re-rerun `output_notebook()` to attempt to load from CDN again, or</li>\\n\"+\n     \"<li>use INLINE resources instead, as so:</li>\\n\"+\n     \"</ul>\\n\"+\n     \"<code>\\n\"+\n     \"from bokeh.resources import INLINE\\n\"+\n     \"output_notebook(resources=INLINE)\\n\"+\n     \"</code>\\n\"+\n     \"</div>\"}};\n\n  function display_loaded() {\n    const el = document.getElementById(\"c9d9d369-23e4-434a-bbc1-e5ef7afcaaf9\");\n    if (el != null) {\n      el.textContent = \"BokehJS is loading...\";\n    }\n    if (root.Bokeh !== undefined) {\n      if (el != null) {\n        el.textContent = \"BokehJS \" + root.Bokeh.version + \" successfully loaded.\";\n      }\n    } else if (Date.now() < root._bokeh_timeout) {\n      setTimeout(display_loaded, 100)\n    }\n  }\n\n  function run_callbacks() {\n    try {\n      root._bokeh_onload_callbacks.forEach(function(callback) {\n        if (callback != null)\n          callback();\n      });\n    } finally {\n      delete root._bokeh_onload_callbacks\n    }\n    console.debug(\"Bokeh: all callbacks have finished\");\n  }\n\n  function load_libs(css_urls, js_urls, callback) {\n    if (css_urls == null) css_urls = [];\n    if (js_urls == null) js_urls = [];\n\n    root._bokeh_onload_callbacks.push(callback);\n    if (root._bokeh_is_loading > 0) {\n      console.debug(\"Bokeh: BokehJS is being loaded, scheduling callback at\", now());\n      return null;\n    }\n    if (js_urls == null || js_urls.length === 0) {\n      run_callbacks();\n      return null;\n    }\n    console.debug(\"Bokeh: BokehJS not loaded, scheduling load and callback at\", now());\n    root._bokeh_is_loading = css_urls.length + js_urls.length;\n\n    function on_load() {\n      root._bokeh_is_loading--;\n      if (root._bokeh_is_loading === 0) {\n        console.debug(\"Bokeh: all BokehJS libraries/stylesheets loaded\");\n        run_callbacks()\n      }\n    }\n\n    function on_error(url) {\n      console.error(\"failed to load \" + url);\n    }\n\n    for (let i = 0; i < css_urls.length; i++) {\n      const url = css_urls[i];\n      const element = document.createElement(\"link\");\n      element.onload = on_load;\n      element.onerror = on_error.bind(null, url);\n      element.rel = \"stylesheet\";\n      element.type = \"text/css\";\n      element.href = url;\n      console.debug(\"Bokeh: injecting link tag for BokehJS stylesheet: \", url);\n      document.body.appendChild(element);\n    }\n\n    for (let i = 0; i < js_urls.length; i++) {\n      const url = js_urls[i];\n      const element = document.createElement('script');\n      element.onload = on_load;\n      element.onerror = on_error.bind(null, url);\n      element.async = false;\n      element.src = url;\n      console.debug(\"Bokeh: injecting script tag for BokehJS library: \", url);\n      document.head.appendChild(element);\n    }\n  };\n\n  function inject_raw_css(css) {\n    const element = document.createElement(\"style\");\n    element.appendChild(document.createTextNode(css));\n    document.body.appendChild(element);\n  }\n\n  const js_urls = [\"https://cdn.bokeh.org/bokeh/release/bokeh-3.3.2.min.js\", \"https://cdn.bokeh.org/bokeh/release/bokeh-gl-3.3.2.min.js\", \"https://cdn.bokeh.org/bokeh/release/bokeh-widgets-3.3.2.min.js\", \"https://cdn.bokeh.org/bokeh/release/bokeh-tables-3.3.2.min.js\", \"https://cdn.bokeh.org/bokeh/release/bokeh-mathjax-3.3.2.min.js\"];\n  const css_urls = [];\n\n  const inline_js = [    function(Bokeh) {\n      Bokeh.set_log_level(\"info\");\n    },\nfunction(Bokeh) {\n    }\n  ];\n\n  function run_inline_js() {\n    if (root.Bokeh !== undefined || force === true) {\n          for (let i = 0; i < inline_js.length; i++) {\n      inline_js[i].call(root, root.Bokeh);\n    }\nif (force === true) {\n        display_loaded();\n      }} else if (Date.now() < root._bokeh_timeout) {\n      setTimeout(run_inline_js, 100);\n    } else if (!root._bokeh_failed_load) {\n      console.log(\"Bokeh: BokehJS failed to load within specified timeout.\");\n      root._bokeh_failed_load = true;\n    } else if (force !== true) {\n      const cell = $(document.getElementById(\"c9d9d369-23e4-434a-bbc1-e5ef7afcaaf9\")).parents('.cell').data().cell;\n      cell.output_area.append_execute_result(NB_LOAD_WARNING)\n    }\n  }\n\n  if (root._bokeh_is_loading === 0) {\n    console.debug(\"Bokeh: BokehJS loaded, going straight to plotting\");\n    run_inline_js();\n  } else {\n    load_libs(css_urls, js_urls, function() {\n      console.debug(\"Bokeh: BokehJS plotting callback run at\", now());\n      run_inline_js();\n    });\n  }\n}(window));"
     },
     "metadata": {},
     "output_type": "display_data"
    }
   ],
   "source": [
    "import ase\n",
    "import dask\n",
    "from bokeh.io import output_notebook\n",
    "from IPython.display import Image, display\n",
    "\n",
    "import abtem\n",
    "\n",
    "output_notebook()"
   ]
  },
  {
   "cell_type": "markdown",
   "id": "2b2c74ed-dfb6-4426-898a-63110b6fb253",
   "metadata": {
    "pycharm": {
     "name": "#%% md\n"
    },
    "tags": []
   },
   "source": [
    "(walkthrough:parallelization)=\n",
    "# Parallelization\n",
    "\n",
    "The computational cost of running multislice simulations can become high depending on the size of the specimen, the number of probe positions, phonon images, and many other factors. This cost can be mitigated using parallelism. Many of the computations in *ab*TEM are [embarrasingly parallel](https://en.wikipedia.org/wiki/Embarrassingly_parallel): for example, every probe position is independent, thus each CPU core may calculate a batch of positions independently, only requiring communication after finishing a run of the multislice algorithm. \n",
    "\n",
    "*ab*TEM is parallelized using [Dask](https://www.dask.org/){cite}`dask`, which is a flexible library for parallel computing in Python. Dask allows scaling from a single laptop to hundreds of nodes at high-performance computing (HPC) facilities with minimal changes to the code. \n",
    "\n",
    "In this walkthrough, we introduce how *ab*TEM uses Dask. Althouhg this is not required knowledge for running simulations on a single machine, it may still help you optimize your simulations. If you are already an experienced Dask user, most of what you already know can be applied to using *ab*TEM. If you are new to Dask you may benefit from watching [this introduction](https://www.youtube.com/watch?v=nnndxbr_Xq4) before continuing.\n",
    "\n",
    "We note that Dask is used in several other libraries for the analysis of electron microscopy data, for example, [hyperspy](https://hyperspy.org/), [libertem](https://libertem.github.io/LiberTEM/) and [py4DSTEM](https://py4dstem.readthedocs.io/en/latest/), and thus we think that you may benefit from knowing this library more generally."
   ]
  },
  {
   "cell_type": "markdown",
   "id": "43b2aaf0-80a0-4058-99a2-faa12025ab42",
   "metadata": {
    "pycharm": {
     "name": "#%% md\n"
    }
   },
   "source": [
    "## Task graphs\n",
    "\n",
    "Simulating TEM experiments requires executing multiple *tasks* where each one may depend on the output of previous tasks. In Dask this is represented as a [*task graph*](https://docs.dask.org/en/stable/graphs.html), where each task is a *node*, with *edges* between nodes if it is dependent on another task. The simulation result is obtained by executing each task (node) in the graph with a Dask *scheduler* on a single machine or a cluster."
   ]
  },
  {
   "cell_type": "code",
   "execution_count": 2,
   "id": "fe6765fb-d0ea-4c35-b5bf-2eaadee69b0b",
   "metadata": {
    "tags": [
     "remove-input",
     "hide-input"
    ]
   },
   "outputs": [
    {
     "data": {
      "text/html": [
       "<img src=\"https://docs.dask.org/en/stable/_images/dask-overview.svg\" width=\"600\"/>"
      ],
      "text/plain": [
       "<IPython.core.display.Image object>"
      ]
     },
     "metadata": {},
     "output_type": "display_data"
    }
   ],
   "source": [
    "display(\n",
    "    Image(url=\"https://docs.dask.org/en/stable/_images/dask-overview.svg\", width=600)\n",
    ")"
   ]
  },
  {
   "cell_type": "markdown",
   "id": "95b10156-ee85-4600-92ed-b9c7c398dbdc",
   "metadata": {},
   "source": [
    "To illustrate this in practice, below we create the task graph for running a plane wave multislice simulation of gold in the $\\left<100\\right>$ zone axis with 4 frozen phonon configurations (please refer to previous walkthroughs for those details)."
   ]
  },
  {
   "cell_type": "code",
   "execution_count": 3,
   "id": "60ba5ba0-0d6d-4ecb-8fdd-fa80316a579b",
   "metadata": {},
   "outputs": [],
   "source": [
    "atoms = ase.build.bulk(\"Au\", cubic=True) * (5, 5, 2)\n",
    "\n",
    "frozen_phonons = abtem.FrozenPhonons(\n",
    "    atoms, num_configs=4, sigmas=0.1, ensemble_mean=False\n",
    ")\n",
    "\n",
    "potential = abtem.Potential(frozen_phonons, gpts=512, slice_thickness=2)\n",
    "\n",
    "probe = abtem.PlaneWave(energy=200e3)\n",
    "\n",
    "exit_waves = probe.multislice(potential)"
   ]
  },
  {
   "cell_type": "markdown",
   "id": "cbc97cd9-2777-4ef4-a0c4-c020517b708e",
   "metadata": {},
   "source": [
    "The result is an ensemble of $4$ wave functions of shape $512\\times512$, which may be represented as a 3D array, where the first dimension represents the phonon ensemble and the last two dimensions represents the 2D wave functions. \n",
    "\n",
    "As we have not executed the task graph yet, the wave functions are represented as a [Dask Array](https://docs.dask.org/en/stable/array.html). We can think of the *Dask array* as being composed of many smaller NumPy arrays, called *chunks*, and operations may be applied to each chunk rather than the full array. This enables: \n",
    "\n",
    "1. Parallelism over the chunks;\n",
    "2. Representing a larger-than-memory array as many smaller arrays, each of which fits in memory.\n",
    "\n",
    "The Dask array representation `__repr__` shows how the chunks are laid out."
   ]
  },
  {
   "cell_type": "code",
   "execution_count": 4,
   "id": "adc736d7-6ca1-47a7-baa5-eb6a9b0d69cb",
   "metadata": {},
   "outputs": [
    {
     "data": {
      "text/html": [
       "<table>\n",
       "    <tr>\n",
       "        <td>\n",
       "            <table style=\"border-collapse: collapse;\">\n",
       "                <thead>\n",
       "                    <tr>\n",
       "                        <td> </td>\n",
       "                        <th> Array </th>\n",
       "                        <th> Chunk </th>\n",
       "                    </tr>\n",
       "                </thead>\n",
       "                <tbody>\n",
       "                    \n",
       "                    <tr>\n",
       "                        <th> Bytes </th>\n",
       "                        <td> 8.00 MiB </td>\n",
       "                        <td> 2.00 MiB </td>\n",
       "                    </tr>\n",
       "                    \n",
       "                    <tr>\n",
       "                        <th> Shape </th>\n",
       "                        <td> (4, 512, 512) </td>\n",
       "                        <td> (1, 512, 512) </td>\n",
       "                    </tr>\n",
       "                    <tr>\n",
       "                        <th> Dask graph </th>\n",
       "                        <td colspan=\"2\"> 4 chunks in 18 graph layers </td>\n",
       "                    </tr>\n",
       "                    <tr>\n",
       "                        <th> Data type </th>\n",
       "                        <td colspan=\"2\"> complex64 numpy.ndarray </td>\n",
       "                    </tr>\n",
       "                </tbody>\n",
       "            </table>\n",
       "        </td>\n",
       "        <td>\n",
       "        <svg width=\"194\" height=\"184\" style=\"stroke:rgb(0,0,0);stroke-width:1\" >\n",
       "\n",
       "  <!-- Horizontal lines -->\n",
       "  <line x1=\"10\" y1=\"0\" x2=\"24\" y2=\"14\" style=\"stroke-width:2\" />\n",
       "  <line x1=\"10\" y1=\"120\" x2=\"24\" y2=\"134\" style=\"stroke-width:2\" />\n",
       "\n",
       "  <!-- Vertical lines -->\n",
       "  <line x1=\"10\" y1=\"0\" x2=\"10\" y2=\"120\" style=\"stroke-width:2\" />\n",
       "  <line x1=\"13\" y1=\"3\" x2=\"13\" y2=\"123\" />\n",
       "  <line x1=\"17\" y1=\"7\" x2=\"17\" y2=\"127\" />\n",
       "  <line x1=\"21\" y1=\"11\" x2=\"21\" y2=\"131\" />\n",
       "  <line x1=\"24\" y1=\"14\" x2=\"24\" y2=\"134\" style=\"stroke-width:2\" />\n",
       "\n",
       "  <!-- Colored Rectangle -->\n",
       "  <polygon points=\"10.0,0.0 24.9485979497544,14.948597949754403 24.9485979497544,134.9485979497544 10.0,120.0\" style=\"fill:#ECB172A0;stroke-width:0\"/>\n",
       "\n",
       "  <!-- Horizontal lines -->\n",
       "  <line x1=\"10\" y1=\"0\" x2=\"130\" y2=\"0\" style=\"stroke-width:2\" />\n",
       "  <line x1=\"13\" y1=\"3\" x2=\"133\" y2=\"3\" />\n",
       "  <line x1=\"17\" y1=\"7\" x2=\"137\" y2=\"7\" />\n",
       "  <line x1=\"21\" y1=\"11\" x2=\"141\" y2=\"11\" />\n",
       "  <line x1=\"24\" y1=\"14\" x2=\"144\" y2=\"14\" style=\"stroke-width:2\" />\n",
       "\n",
       "  <!-- Vertical lines -->\n",
       "  <line x1=\"10\" y1=\"0\" x2=\"24\" y2=\"14\" style=\"stroke-width:2\" />\n",
       "  <line x1=\"130\" y1=\"0\" x2=\"144\" y2=\"14\" style=\"stroke-width:2\" />\n",
       "\n",
       "  <!-- Colored Rectangle -->\n",
       "  <polygon points=\"10.0,0.0 130.0,0.0 144.9485979497544,14.948597949754403 24.9485979497544,14.948597949754403\" style=\"fill:#ECB172A0;stroke-width:0\"/>\n",
       "\n",
       "  <!-- Horizontal lines -->\n",
       "  <line x1=\"24\" y1=\"14\" x2=\"144\" y2=\"14\" style=\"stroke-width:2\" />\n",
       "  <line x1=\"24\" y1=\"134\" x2=\"144\" y2=\"134\" style=\"stroke-width:2\" />\n",
       "\n",
       "  <!-- Vertical lines -->\n",
       "  <line x1=\"24\" y1=\"14\" x2=\"24\" y2=\"134\" style=\"stroke-width:2\" />\n",
       "  <line x1=\"144\" y1=\"14\" x2=\"144\" y2=\"134\" style=\"stroke-width:2\" />\n",
       "\n",
       "  <!-- Colored Rectangle -->\n",
       "  <polygon points=\"24.9485979497544,14.948597949754403 144.9485979497544,14.948597949754403 144.9485979497544,134.9485979497544 24.9485979497544,134.9485979497544\" style=\"fill:#ECB172A0;stroke-width:0\"/>\n",
       "\n",
       "  <!-- Text -->\n",
       "  <text x=\"84.948598\" y=\"154.948598\" font-size=\"1.0rem\" font-weight=\"100\" text-anchor=\"middle\" >512</text>\n",
       "  <text x=\"164.948598\" y=\"74.948598\" font-size=\"1.0rem\" font-weight=\"100\" text-anchor=\"middle\" transform=\"rotate(-90,164.948598,74.948598)\">512</text>\n",
       "  <text x=\"7.474299\" y=\"147.474299\" font-size=\"1.0rem\" font-weight=\"100\" text-anchor=\"middle\" transform=\"rotate(45,7.474299,147.474299)\">4</text>\n",
       "</svg>\n",
       "        </td>\n",
       "    </tr>\n",
       "</table>"
      ],
      "text/plain": [
       "dask.array<getitem, shape=(4, 512, 512), dtype=complex64, chunksize=(1, 512, 512), chunktype=numpy.ndarray>"
      ]
     },
     "execution_count": 4,
     "metadata": {},
     "output_type": "execute_result"
    }
   ],
   "source": [
    "exit_waves.array"
   ]
  },
  {
   "cell_type": "markdown",
   "id": "07d22d90-2701-4d3e-bc91-ab2260232950",
   "metadata": {},
   "source": [
    "We see that this Dask array has the shape `(4, 512, 512)` requiring 8 MB of memory, and is composed of chunks with shape `(1, 512, 512)` requiring 2 MB each.\n",
    "\n",
    "```{important}\n",
    "The Dask array just represents a task graph, not the data itself, so memory is consumed only if it is computed!\n",
    "```\n",
    "\n",
    "Each chunk of the Dask array created above represents a wave function for a frozen phonon configuration. This reflects the fact that, in the multislice algorithm, each frozen phonon configuration is independent and may be calculated in parallel. On the other hand, we should not have chunks across wave functions, because each part of a wave function is affected by every other part.\n",
    "\n",
    "We can visualize the task graph using Dask's [`visualize`](https://docs.dask.org/en/stable/graphviz.html) method. We see that the task graph consists of 4 fully independent branches, one for each frozen phonon.\n",
    "\n",
    "````{note}\n",
    "Drawing Dask task graphs with the cytoscape engine requires the `ipycytoscape` python library. To reproduce the result below you need to:\n",
    "```\n",
    "  python -m pip install ipycytoscape\n",
    "```\n",
    "and restart jupyter.\n",
    "````"
   ]
  },
  {
   "cell_type": "code",
   "execution_count": 5,
   "id": "45d463ae-c282-4710-a05c-0817cb996457",
   "metadata": {
    "editable": true,
    "slideshow": {
     "slide_type": ""
    },
    "tags": [
     "skip-test"
    ]
   },
   "outputs": [
    {
     "data": {
      "application/vnd.jupyter.widget-view+json": {
       "model_id": "1cc0b6bf6989459298d5bfef2ac3d623",
       "version_major": 2,
       "version_minor": 0
      },
      "text/plain": [
       "CytoscapeWidget(cytoscape_layout={'name': 'dagre', 'rankDir': 'BT', 'nodeSep': 10, 'edgeSep': 10, 'spacingFact…"
      ]
     },
     "execution_count": 5,
     "metadata": {},
     "output_type": "execute_result"
    }
   ],
   "source": [
    "exit_waves.array.visualize(engine=\"cytoscape\")"
   ]
  },
  {
   "cell_type": "markdown",
   "id": "20d970c0-56e5-4066-b1d8-f6c71f59fb46",
   "metadata": {},
   "source": [
    "We usually want to take the mean across the frozen phonon dimension, and thus end up with an image represented as a single chunk."
   ]
  },
  {
   "cell_type": "code",
   "execution_count": 6,
   "id": "907e3a1e-7132-4dc5-aa9b-bdeed01a6170",
   "metadata": {},
   "outputs": [
    {
     "data": {
      "text/html": [
       "<table>\n",
       "    <tr>\n",
       "        <td>\n",
       "            <table style=\"border-collapse: collapse;\">\n",
       "                <thead>\n",
       "                    <tr>\n",
       "                        <td> </td>\n",
       "                        <th> Array </th>\n",
       "                        <th> Chunk </th>\n",
       "                    </tr>\n",
       "                </thead>\n",
       "                <tbody>\n",
       "                    \n",
       "                    <tr>\n",
       "                        <th> Bytes </th>\n",
       "                        <td> 1.00 MiB </td>\n",
       "                        <td> 1.00 MiB </td>\n",
       "                    </tr>\n",
       "                    \n",
       "                    <tr>\n",
       "                        <th> Shape </th>\n",
       "                        <td> (512, 512) </td>\n",
       "                        <td> (512, 512) </td>\n",
       "                    </tr>\n",
       "                    <tr>\n",
       "                        <th> Dask graph </th>\n",
       "                        <td colspan=\"2\"> 1 chunks in 22 graph layers </td>\n",
       "                    </tr>\n",
       "                    <tr>\n",
       "                        <th> Data type </th>\n",
       "                        <td colspan=\"2\"> float32 numpy.ndarray </td>\n",
       "                    </tr>\n",
       "                </tbody>\n",
       "            </table>\n",
       "        </td>\n",
       "        <td>\n",
       "        <svg width=\"170\" height=\"170\" style=\"stroke:rgb(0,0,0);stroke-width:1\" >\n",
       "\n",
       "  <!-- Horizontal lines -->\n",
       "  <line x1=\"0\" y1=\"0\" x2=\"120\" y2=\"0\" style=\"stroke-width:2\" />\n",
       "  <line x1=\"0\" y1=\"120\" x2=\"120\" y2=\"120\" style=\"stroke-width:2\" />\n",
       "\n",
       "  <!-- Vertical lines -->\n",
       "  <line x1=\"0\" y1=\"0\" x2=\"0\" y2=\"120\" style=\"stroke-width:2\" />\n",
       "  <line x1=\"120\" y1=\"0\" x2=\"120\" y2=\"120\" style=\"stroke-width:2\" />\n",
       "\n",
       "  <!-- Colored Rectangle -->\n",
       "  <polygon points=\"0.0,0.0 120.0,0.0 120.0,120.0 0.0,120.0\" style=\"fill:#ECB172A0;stroke-width:0\"/>\n",
       "\n",
       "  <!-- Text -->\n",
       "  <text x=\"60.000000\" y=\"140.000000\" font-size=\"1.0rem\" font-weight=\"100\" text-anchor=\"middle\" >512</text>\n",
       "  <text x=\"140.000000\" y=\"60.000000\" font-size=\"1.0rem\" font-weight=\"100\" text-anchor=\"middle\" transform=\"rotate(-90,140.000000,60.000000)\">512</text>\n",
       "</svg>\n",
       "        </td>\n",
       "    </tr>\n",
       "</table>"
      ],
      "text/plain": [
       "dask.array<mean_agg-aggregate, shape=(512, 512), dtype=float32, chunksize=(512, 512), chunktype=numpy.ndarray>"
      ]
     },
     "execution_count": 6,
     "metadata": {},
     "output_type": "execute_result"
    }
   ],
   "source": [
    "hrtem_image = exit_waves.intensity().mean(0)\n",
    "\n",
    "hrtem_image.array"
   ]
  },
  {
   "cell_type": "markdown",
   "id": "b9661725-7a20-44f6-8415-52489e91259b",
   "metadata": {},
   "source": [
    "Taking the mean across frozen phonon chunks requires communicating the exit wave function intensity between the final nodes. Showing the task graph again we see how the branches are merged when the result have to be communicated between workers."
   ]
  },
  {
   "cell_type": "code",
   "execution_count": 7,
   "id": "27e8b98c-362e-4543-b6c2-e033a827143e",
   "metadata": {
    "tags": [
     "skip-test"
    ]
   },
   "outputs": [
    {
     "data": {
      "application/vnd.jupyter.widget-view+json": {
       "model_id": "4f058cd1b96942c8996f8fe5ec9230c4",
       "version_major": 2,
       "version_minor": 0
      },
      "text/plain": [
       "CytoscapeWidget(cytoscape_layout={'name': 'dagre', 'rankDir': 'BT', 'nodeSep': 10, 'edgeSep': 10, 'spacingFact…"
      ]
     },
     "execution_count": 7,
     "metadata": {},
     "output_type": "execute_result"
    }
   ],
   "source": [
    "hrtem_image.array.visualize(engine=\"cytoscape\")"
   ]
  },
  {
   "cell_type": "markdown",
   "id": "7dcdbfb7-41d3-49ff-995f-bf17f01a120f",
   "metadata": {},
   "source": [
    "## Chunks\n",
    "To futher explore the role of chunks in abTEM, we create the task graph for running a STEM simulation with the same specimen, gold in the $\\left<100\\right>$ zone axis with 4 frozen phonons. We do not immediately apply a detector, so we obtain an ensemble of exit wave functions."
   ]
  },
  {
   "cell_type": "code",
   "execution_count": 8,
   "id": "5b9baf98-b088-4c6f-954d-8ae1a7d22c23",
   "metadata": {
    "pycharm": {
     "name": "#%%\n"
    }
   },
   "outputs": [
    {
     "data": {
      "text/plain": [
       "type               label           coordinates\n",
       "-----------------  --------------  -------------------\n",
       "FrozenPhononsAxis  Frozen phonons  -\n",
       "ScanAxis           x [Å]           0.00 0.29 ... 3.79\n",
       "ScanAxis           y [Å]           0.00 0.29 ... 3.79\n",
       "RealSpaceAxis      x [Å]           0.00 0.04 ... 20.36\n",
       "RealSpaceAxis      y [Å]           0.00 0.04 ... 20.36"
      ]
     },
     "execution_count": 8,
     "metadata": {},
     "output_type": "execute_result"
    }
   ],
   "source": [
    "probe = abtem.Probe(energy=200e3, semiangle_cutoff=20)\n",
    "\n",
    "scan = abtem.GridScan(\n",
    "    start=(0, 0),\n",
    "    end=(1 / 5, 1 / 5),\n",
    "    fractional=True,\n",
    "    potential=potential,\n",
    ")\n",
    "\n",
    "frozen_phonons = abtem.FrozenPhonons(\n",
    "    atoms, num_configs=4, sigmas=0.1, ensemble_mean=True\n",
    ")\n",
    "\n",
    "potential = abtem.Potential(frozen_phonons, gpts=512, slice_thickness=2)\n",
    "\n",
    "exit_waves_stem = probe.multislice(potential, scan=scan)\n",
    "\n",
    "exit_waves_stem.axes_metadata"
   ]
  },
  {
   "cell_type": "markdown",
   "id": "69036139-511e-482d-8f72-e66b71df0924",
   "metadata": {},
   "source": [
    "The wave functions are now represented as a 5D Dask array, a 3D ensemble of 2D wave functions, which is composed of one frozen phonon dimension and two scan dimensions, one for each of the $x$ and $y$ direction. \n",
    "\n",
    "The full array is of shape `(4, 15, 15, 512, 512)` requiring 1.76 GB of memory, which is cut into chunks of shape `(1, 8, 7, 512, 512)` of 112 MB. Hence, there are a total of $4 \\times 2 \\times 3 = 24$ chunks."
   ]
  },
  {
   "cell_type": "code",
   "execution_count": 9,
   "id": "0d0ab17b-53e3-4e79-856a-d734fe3c1cbe",
   "metadata": {},
   "outputs": [
    {
     "data": {
      "text/html": [
       "<table>\n",
       "    <tr>\n",
       "        <td>\n",
       "            <table style=\"border-collapse: collapse;\">\n",
       "                <thead>\n",
       "                    <tr>\n",
       "                        <td> </td>\n",
       "                        <th> Array </th>\n",
       "                        <th> Chunk </th>\n",
       "                    </tr>\n",
       "                </thead>\n",
       "                <tbody>\n",
       "                    \n",
       "                    <tr>\n",
       "                        <th> Bytes </th>\n",
       "                        <td> 1.53 GiB </td>\n",
       "                        <td> 112.00 MiB </td>\n",
       "                    </tr>\n",
       "                    \n",
       "                    <tr>\n",
       "                        <th> Shape </th>\n",
       "                        <td> (4, 14, 14, 512, 512) </td>\n",
       "                        <td> (1, 8, 7, 512, 512) </td>\n",
       "                    </tr>\n",
       "                    <tr>\n",
       "                        <th> Dask graph </th>\n",
       "                        <td colspan=\"2\"> 16 chunks in 22 graph layers </td>\n",
       "                    </tr>\n",
       "                    <tr>\n",
       "                        <th> Data type </th>\n",
       "                        <td colspan=\"2\"> complex64 numpy.ndarray </td>\n",
       "                    </tr>\n",
       "                </tbody>\n",
       "            </table>\n",
       "        </td>\n",
       "        <td>\n",
       "        <svg width=\"388\" height=\"188\" style=\"stroke:rgb(0,0,0);stroke-width:1\" >\n",
       "\n",
       "  <!-- Horizontal lines -->\n",
       "  <line x1=\"0\" y1=\"0\" x2=\"30\" y2=\"0\" style=\"stroke-width:2\" />\n",
       "  <line x1=\"0\" y1=\"6\" x2=\"30\" y2=\"6\" />\n",
       "  <line x1=\"0\" y1=\"12\" x2=\"30\" y2=\"12\" />\n",
       "  <line x1=\"0\" y1=\"19\" x2=\"30\" y2=\"19\" />\n",
       "  <line x1=\"0\" y1=\"25\" x2=\"30\" y2=\"25\" style=\"stroke-width:2\" />\n",
       "\n",
       "  <!-- Vertical lines -->\n",
       "  <line x1=\"0\" y1=\"0\" x2=\"0\" y2=\"25\" style=\"stroke-width:2\" />\n",
       "  <line x1=\"17\" y1=\"0\" x2=\"17\" y2=\"25\" />\n",
       "  <line x1=\"30\" y1=\"0\" x2=\"30\" y2=\"25\" style=\"stroke-width:2\" />\n",
       "\n",
       "  <!-- Colored Rectangle -->\n",
       "  <polygon points=\"0.0,0.0 30.838522258696894,0.0 30.838522258696894,25.412616514582485 0.0,25.412616514582485\" style=\"fill:#ECB172A0;stroke-width:0\"/>\n",
       "\n",
       "  <!-- Text -->\n",
       "  <text x=\"15.419261\" y=\"45.412617\" font-size=\"1.0rem\" font-weight=\"100\" text-anchor=\"middle\" >14</text>\n",
       "  <text x=\"50.838522\" y=\"12.706308\" font-size=\"1.0rem\" font-weight=\"100\" text-anchor=\"middle\" transform=\"rotate(0,50.838522,12.706308)\">4</text>\n",
       "\n",
       "\n",
       "  <!-- Horizontal lines -->\n",
       "  <line x1=\"100\" y1=\"0\" x2=\"118\" y2=\"18\" style=\"stroke-width:2\" />\n",
       "  <line x1=\"100\" y1=\"120\" x2=\"118\" y2=\"138\" style=\"stroke-width:2\" />\n",
       "\n",
       "  <!-- Vertical lines -->\n",
       "  <line x1=\"100\" y1=\"0\" x2=\"100\" y2=\"120\" style=\"stroke-width:2\" />\n",
       "  <line x1=\"109\" y1=\"9\" x2=\"109\" y2=\"129\" />\n",
       "  <line x1=\"118\" y1=\"18\" x2=\"118\" y2=\"138\" style=\"stroke-width:2\" />\n",
       "\n",
       "  <!-- Colored Rectangle -->\n",
       "  <polygon points=\"100.0,0.0 118.14030721099817,18.140307210998174 118.14030721099817,138.14030721099817 100.0,120.0\" style=\"fill:#ECB172A0;stroke-width:0\"/>\n",
       "\n",
       "  <!-- Horizontal lines -->\n",
       "  <line x1=\"100\" y1=\"0\" x2=\"220\" y2=\"0\" style=\"stroke-width:2\" />\n",
       "  <line x1=\"109\" y1=\"9\" x2=\"229\" y2=\"9\" />\n",
       "  <line x1=\"118\" y1=\"18\" x2=\"238\" y2=\"18\" style=\"stroke-width:2\" />\n",
       "\n",
       "  <!-- Vertical lines -->\n",
       "  <line x1=\"100\" y1=\"0\" x2=\"118\" y2=\"18\" style=\"stroke-width:2\" />\n",
       "  <line x1=\"220\" y1=\"0\" x2=\"238\" y2=\"18\" style=\"stroke-width:2\" />\n",
       "\n",
       "  <!-- Colored Rectangle -->\n",
       "  <polygon points=\"100.0,0.0 220.0,0.0 238.14030721099817,18.140307210998174 118.14030721099817,18.140307210998174\" style=\"fill:#ECB172A0;stroke-width:0\"/>\n",
       "\n",
       "  <!-- Horizontal lines -->\n",
       "  <line x1=\"118\" y1=\"18\" x2=\"238\" y2=\"18\" style=\"stroke-width:2\" />\n",
       "  <line x1=\"118\" y1=\"138\" x2=\"238\" y2=\"138\" style=\"stroke-width:2\" />\n",
       "\n",
       "  <!-- Vertical lines -->\n",
       "  <line x1=\"118\" y1=\"18\" x2=\"118\" y2=\"138\" style=\"stroke-width:2\" />\n",
       "  <line x1=\"238\" y1=\"18\" x2=\"238\" y2=\"138\" style=\"stroke-width:2\" />\n",
       "\n",
       "  <!-- Colored Rectangle -->\n",
       "  <polygon points=\"118.14030721099817,18.140307210998174 238.14030721099817,18.140307210998174 238.14030721099817,138.14030721099817 118.14030721099817,138.14030721099817\" style=\"fill:#ECB172A0;stroke-width:0\"/>\n",
       "\n",
       "  <!-- Text -->\n",
       "  <text x=\"178.140307\" y=\"158.140307\" font-size=\"1.0rem\" font-weight=\"100\" text-anchor=\"middle\" >512</text>\n",
       "  <text x=\"258.140307\" y=\"78.140307\" font-size=\"1.0rem\" font-weight=\"100\" text-anchor=\"middle\" transform=\"rotate(-90,258.140307,78.140307)\">512</text>\n",
       "  <text x=\"99.070154\" y=\"149.070154\" font-size=\"1.0rem\" font-weight=\"100\" text-anchor=\"middle\" transform=\"rotate(45,99.070154,149.070154)\">14</text>\n",
       "</svg>\n",
       "        </td>\n",
       "    </tr>\n",
       "</table>"
      ],
      "text/plain": [
       "dask.array<getitem, shape=(4, 14, 14, 512, 512), dtype=complex64, chunksize=(1, 8, 7, 512, 512), chunktype=numpy.ndarray>"
      ]
     },
     "execution_count": 9,
     "metadata": {},
     "output_type": "execute_result"
    }
   ],
   "source": [
    "exit_waves_stem.array"
   ]
  },
  {
   "cell_type": "markdown",
   "id": "00985534-3b37-458c-9cba-e5f6c783f334",
   "metadata": {},
   "source": [
    "Notice that we do not make a chunk for every probe position, but each chunk of the scan dimension instead represents a batch of wave functions. This is done partly to limit [the overhead](https://docs.dask.org/en/stable/best-practices.html#avoid-very-large-graphs) that every chunk comes with, but more importantly, larger batches enables efficient thread parallelization within each run of the multislice algorithm.\n",
    "\n",
    "We can change how many wave functions each batch should have using a keyword. Below we set `max_batch=4`, resulting in a total number of $4 \\times 8 \\times 8 = 256$ chunks."
   ]
  },
  {
   "cell_type": "code",
   "execution_count": 10,
   "id": "b1f9437b-ed6a-4836-8e6c-daa0ae526b21",
   "metadata": {},
   "outputs": [
    {
     "data": {
      "text/html": [
       "<table>\n",
       "    <tr>\n",
       "        <td>\n",
       "            <table style=\"border-collapse: collapse;\">\n",
       "                <thead>\n",
       "                    <tr>\n",
       "                        <td> </td>\n",
       "                        <th> Array </th>\n",
       "                        <th> Chunk </th>\n",
       "                    </tr>\n",
       "                </thead>\n",
       "                <tbody>\n",
       "                    \n",
       "                    <tr>\n",
       "                        <th> Bytes </th>\n",
       "                        <td> 1.53 GiB </td>\n",
       "                        <td> 8.00 MiB </td>\n",
       "                    </tr>\n",
       "                    \n",
       "                    <tr>\n",
       "                        <th> Shape </th>\n",
       "                        <td> (4, 14, 14, 512, 512) </td>\n",
       "                        <td> (1, 2, 2, 512, 512) </td>\n",
       "                    </tr>\n",
       "                    <tr>\n",
       "                        <th> Dask graph </th>\n",
       "                        <td colspan=\"2\"> 196 chunks in 21 graph layers </td>\n",
       "                    </tr>\n",
       "                    <tr>\n",
       "                        <th> Data type </th>\n",
       "                        <td colspan=\"2\"> complex64 numpy.ndarray </td>\n",
       "                    </tr>\n",
       "                </tbody>\n",
       "            </table>\n",
       "        </td>\n",
       "        <td>\n",
       "        <svg width=\"388\" height=\"188\" style=\"stroke:rgb(0,0,0);stroke-width:1\" >\n",
       "\n",
       "  <!-- Horizontal lines -->\n",
       "  <line x1=\"0\" y1=\"0\" x2=\"30\" y2=\"0\" style=\"stroke-width:2\" />\n",
       "  <line x1=\"0\" y1=\"6\" x2=\"30\" y2=\"6\" />\n",
       "  <line x1=\"0\" y1=\"12\" x2=\"30\" y2=\"12\" />\n",
       "  <line x1=\"0\" y1=\"19\" x2=\"30\" y2=\"19\" />\n",
       "  <line x1=\"0\" y1=\"25\" x2=\"30\" y2=\"25\" style=\"stroke-width:2\" />\n",
       "\n",
       "  <!-- Vertical lines -->\n",
       "  <line x1=\"0\" y1=\"0\" x2=\"0\" y2=\"25\" style=\"stroke-width:2\" />\n",
       "  <line x1=\"4\" y1=\"0\" x2=\"4\" y2=\"25\" />\n",
       "  <line x1=\"8\" y1=\"0\" x2=\"8\" y2=\"25\" />\n",
       "  <line x1=\"13\" y1=\"0\" x2=\"13\" y2=\"25\" />\n",
       "  <line x1=\"17\" y1=\"0\" x2=\"17\" y2=\"25\" />\n",
       "  <line x1=\"22\" y1=\"0\" x2=\"22\" y2=\"25\" />\n",
       "  <line x1=\"26\" y1=\"0\" x2=\"26\" y2=\"25\" />\n",
       "  <line x1=\"30\" y1=\"0\" x2=\"30\" y2=\"25\" style=\"stroke-width:2\" />\n",
       "\n",
       "  <!-- Colored Rectangle -->\n",
       "  <polygon points=\"0.0,0.0 30.838522258696894,0.0 30.838522258696894,25.412616514582485 0.0,25.412616514582485\" style=\"fill:#ECB172A0;stroke-width:0\"/>\n",
       "\n",
       "  <!-- Text -->\n",
       "  <text x=\"15.419261\" y=\"45.412617\" font-size=\"1.0rem\" font-weight=\"100\" text-anchor=\"middle\" >14</text>\n",
       "  <text x=\"50.838522\" y=\"12.706308\" font-size=\"1.0rem\" font-weight=\"100\" text-anchor=\"middle\" transform=\"rotate(0,50.838522,12.706308)\">4</text>\n",
       "\n",
       "\n",
       "  <!-- Horizontal lines -->\n",
       "  <line x1=\"100\" y1=\"0\" x2=\"118\" y2=\"18\" style=\"stroke-width:2\" />\n",
       "  <line x1=\"100\" y1=\"120\" x2=\"118\" y2=\"138\" style=\"stroke-width:2\" />\n",
       "\n",
       "  <!-- Vertical lines -->\n",
       "  <line x1=\"100\" y1=\"0\" x2=\"100\" y2=\"120\" style=\"stroke-width:2\" />\n",
       "  <line x1=\"102\" y1=\"2\" x2=\"102\" y2=\"122\" />\n",
       "  <line x1=\"105\" y1=\"5\" x2=\"105\" y2=\"125\" />\n",
       "  <line x1=\"107\" y1=\"7\" x2=\"107\" y2=\"127\" />\n",
       "  <line x1=\"110\" y1=\"10\" x2=\"110\" y2=\"130\" />\n",
       "  <line x1=\"112\" y1=\"12\" x2=\"112\" y2=\"132\" />\n",
       "  <line x1=\"115\" y1=\"15\" x2=\"115\" y2=\"135\" />\n",
       "  <line x1=\"118\" y1=\"18\" x2=\"118\" y2=\"138\" style=\"stroke-width:2\" />\n",
       "\n",
       "  <!-- Colored Rectangle -->\n",
       "  <polygon points=\"100.0,0.0 118.14030721099817,18.140307210998174 118.14030721099817,138.14030721099817 100.0,120.0\" style=\"fill:#ECB172A0;stroke-width:0\"/>\n",
       "\n",
       "  <!-- Horizontal lines -->\n",
       "  <line x1=\"100\" y1=\"0\" x2=\"220\" y2=\"0\" style=\"stroke-width:2\" />\n",
       "  <line x1=\"102\" y1=\"2\" x2=\"222\" y2=\"2\" />\n",
       "  <line x1=\"105\" y1=\"5\" x2=\"225\" y2=\"5\" />\n",
       "  <line x1=\"107\" y1=\"7\" x2=\"227\" y2=\"7\" />\n",
       "  <line x1=\"110\" y1=\"10\" x2=\"230\" y2=\"10\" />\n",
       "  <line x1=\"112\" y1=\"12\" x2=\"232\" y2=\"12\" />\n",
       "  <line x1=\"115\" y1=\"15\" x2=\"235\" y2=\"15\" />\n",
       "  <line x1=\"118\" y1=\"18\" x2=\"238\" y2=\"18\" style=\"stroke-width:2\" />\n",
       "\n",
       "  <!-- Vertical lines -->\n",
       "  <line x1=\"100\" y1=\"0\" x2=\"118\" y2=\"18\" style=\"stroke-width:2\" />\n",
       "  <line x1=\"220\" y1=\"0\" x2=\"238\" y2=\"18\" style=\"stroke-width:2\" />\n",
       "\n",
       "  <!-- Colored Rectangle -->\n",
       "  <polygon points=\"100.0,0.0 220.0,0.0 238.14030721099817,18.140307210998174 118.14030721099817,18.140307210998174\" style=\"fill:#ECB172A0;stroke-width:0\"/>\n",
       "\n",
       "  <!-- Horizontal lines -->\n",
       "  <line x1=\"118\" y1=\"18\" x2=\"238\" y2=\"18\" style=\"stroke-width:2\" />\n",
       "  <line x1=\"118\" y1=\"138\" x2=\"238\" y2=\"138\" style=\"stroke-width:2\" />\n",
       "\n",
       "  <!-- Vertical lines -->\n",
       "  <line x1=\"118\" y1=\"18\" x2=\"118\" y2=\"138\" style=\"stroke-width:2\" />\n",
       "  <line x1=\"238\" y1=\"18\" x2=\"238\" y2=\"138\" style=\"stroke-width:2\" />\n",
       "\n",
       "  <!-- Colored Rectangle -->\n",
       "  <polygon points=\"118.14030721099817,18.140307210998174 238.14030721099817,18.140307210998174 238.14030721099817,138.14030721099817 118.14030721099817,138.14030721099817\" style=\"fill:#ECB172A0;stroke-width:0\"/>\n",
       "\n",
       "  <!-- Text -->\n",
       "  <text x=\"178.140307\" y=\"158.140307\" font-size=\"1.0rem\" font-weight=\"100\" text-anchor=\"middle\" >512</text>\n",
       "  <text x=\"258.140307\" y=\"78.140307\" font-size=\"1.0rem\" font-weight=\"100\" text-anchor=\"middle\" transform=\"rotate(-90,258.140307,78.140307)\">512</text>\n",
       "  <text x=\"99.070154\" y=\"149.070154\" font-size=\"1.0rem\" font-weight=\"100\" text-anchor=\"middle\" transform=\"rotate(45,99.070154,149.070154)\">14</text>\n",
       "</svg>\n",
       "        </td>\n",
       "    </tr>\n",
       "</table>"
      ],
      "text/plain": [
       "dask.array<getitem, shape=(4, 14, 14, 512, 512), dtype=complex64, chunksize=(1, 2, 2, 512, 512), chunktype=numpy.ndarray>"
      ]
     },
     "execution_count": 10,
     "metadata": {},
     "output_type": "execute_result"
    }
   ],
   "source": [
    "exit_waves_stem = probe.multislice(potential, scan=scan, max_batch=4)\n",
    "\n",
    "exit_waves_stem.array"
   ]
  },
  {
   "cell_type": "markdown",
   "id": "28998800-0b81-49f7-b3c6-79aa355cf3dc",
   "metadata": {
    "pycharm": {
     "name": "#%% md\n"
    }
   },
   "source": [
    "The default value of `max_batch` is `\"auto\"`: with this setting the number of wave functions in each batch is determined such that the batch represents approximately `128 MB` of memory, although this number may be changed through the *ab*TEM [configuration](../../reference/config.md).\n",
    "\n",
    "Before computing this task graph, we apply a HAADF detector and calculate the ensemble mean, which reduces the total size of the output to just 900 B. We note that the 1.76 GB ensemble of wave functions never needs to be in memory simulateneously, as each chunk of exit wave functions are reduced immediately after completing the multislice algorithm."
   ]
  },
  {
   "cell_type": "code",
   "execution_count": 11,
   "id": "8664e8b2-4928-4c5e-bd48-fa854a465cec",
   "metadata": {
    "pycharm": {
     "name": "#%%\n"
    }
   },
   "outputs": [
    {
     "data": {
      "text/html": [
       "<table>\n",
       "    <tr>\n",
       "        <td>\n",
       "            <table style=\"border-collapse: collapse;\">\n",
       "                <thead>\n",
       "                    <tr>\n",
       "                        <td> </td>\n",
       "                        <th> Array </th>\n",
       "                        <th> Chunk </th>\n",
       "                    </tr>\n",
       "                </thead>\n",
       "                <tbody>\n",
       "                    \n",
       "                    <tr>\n",
       "                        <th> Bytes </th>\n",
       "                        <td> 784 B </td>\n",
       "                        <td> 16 B </td>\n",
       "                    </tr>\n",
       "                    \n",
       "                    <tr>\n",
       "                        <th> Shape </th>\n",
       "                        <td> (14, 14) </td>\n",
       "                        <td> (2, 2) </td>\n",
       "                    </tr>\n",
       "                    <tr>\n",
       "                        <th> Dask graph </th>\n",
       "                        <td colspan=\"2\"> 49 chunks in 26 graph layers </td>\n",
       "                    </tr>\n",
       "                    <tr>\n",
       "                        <th> Data type </th>\n",
       "                        <td colspan=\"2\"> float32 numpy.ndarray </td>\n",
       "                    </tr>\n",
       "                </tbody>\n",
       "            </table>\n",
       "        </td>\n",
       "        <td>\n",
       "        <svg width=\"170\" height=\"170\" style=\"stroke:rgb(0,0,0);stroke-width:1\" >\n",
       "\n",
       "  <!-- Horizontal lines -->\n",
       "  <line x1=\"0\" y1=\"0\" x2=\"120\" y2=\"0\" style=\"stroke-width:2\" />\n",
       "  <line x1=\"0\" y1=\"17\" x2=\"120\" y2=\"17\" />\n",
       "  <line x1=\"0\" y1=\"34\" x2=\"120\" y2=\"34\" />\n",
       "  <line x1=\"0\" y1=\"51\" x2=\"120\" y2=\"51\" />\n",
       "  <line x1=\"0\" y1=\"68\" x2=\"120\" y2=\"68\" />\n",
       "  <line x1=\"0\" y1=\"85\" x2=\"120\" y2=\"85\" />\n",
       "  <line x1=\"0\" y1=\"102\" x2=\"120\" y2=\"102\" />\n",
       "  <line x1=\"0\" y1=\"120\" x2=\"120\" y2=\"120\" style=\"stroke-width:2\" />\n",
       "\n",
       "  <!-- Vertical lines -->\n",
       "  <line x1=\"0\" y1=\"0\" x2=\"0\" y2=\"120\" style=\"stroke-width:2\" />\n",
       "  <line x1=\"17\" y1=\"0\" x2=\"17\" y2=\"120\" />\n",
       "  <line x1=\"34\" y1=\"0\" x2=\"34\" y2=\"120\" />\n",
       "  <line x1=\"51\" y1=\"0\" x2=\"51\" y2=\"120\" />\n",
       "  <line x1=\"68\" y1=\"0\" x2=\"68\" y2=\"120\" />\n",
       "  <line x1=\"85\" y1=\"0\" x2=\"85\" y2=\"120\" />\n",
       "  <line x1=\"102\" y1=\"0\" x2=\"102\" y2=\"120\" />\n",
       "  <line x1=\"120\" y1=\"0\" x2=\"120\" y2=\"120\" style=\"stroke-width:2\" />\n",
       "\n",
       "  <!-- Colored Rectangle -->\n",
       "  <polygon points=\"0.0,0.0 120.0,0.0 120.0,120.0 0.0,120.0\" style=\"fill:#ECB172A0;stroke-width:0\"/>\n",
       "\n",
       "  <!-- Text -->\n",
       "  <text x=\"60.000000\" y=\"140.000000\" font-size=\"1.0rem\" font-weight=\"100\" text-anchor=\"middle\" >14</text>\n",
       "  <text x=\"140.000000\" y=\"60.000000\" font-size=\"1.0rem\" font-weight=\"100\" text-anchor=\"middle\" transform=\"rotate(0,140.000000,60.000000)\">14</text>\n",
       "</svg>\n",
       "        </td>\n",
       "    </tr>\n",
       "</table>"
      ],
      "text/plain": [
       "dask.array<mean_agg-aggregate, shape=(14, 14), dtype=float32, chunksize=(2, 2), chunktype=numpy.ndarray>"
      ]
     },
     "execution_count": 11,
     "metadata": {},
     "output_type": "execute_result"
    }
   ],
   "source": [
    "detector = abtem.AnnularDetector(inner=65, outer=200)\n",
    "\n",
    "haadf_images = detector.detect(exit_waves_stem).reduce_ensemble()\n",
    "\n",
    "haadf_images.array"
   ]
  },
  {
   "cell_type": "markdown",
   "id": "c8167e51-1e8b-408d-9e08-ad00b6966ad5",
   "metadata": {
    "pycharm": {
     "name": "#%% md\n"
    },
    "tags": []
   },
   "source": [
    "## Schedulers\n",
    "\n",
    "After generating a task graph, it needs to be executed on (parallel) hardware. This is the job of a [task scheduler](https://docs.dask.org/en/stable/scheduler-overview.html). Dask provides several *task schedulers*: each of which will compute a task graph and give the same result, but with different performance characteristics.\n",
    "\n",
    "Every time you call the `compute` method a Dask scheduler is used. We adopt the default Dask scheduler configuration and every keyword argument used with the `compute` method in *ab*TEM is forwarded to the Dask `compute` function. \n",
    "\n",
    "### Local scheduler\n",
    "\n",
    "The default scheduler is the [`ThreadPoolExecutor`](https://docs.dask.org/en/stable/scheduling.html#local-threads). As an example of a keyword argument, the threaded scheduler takes `num_workers`, which sets the number of threads to use (by default, up to the number of computing cores). Let's run compute with 8 workers."
   ]
  },
  {
   "cell_type": "code",
   "execution_count": 12,
   "id": "4c507a96-5a6d-4e55-8775-200f66e26459",
   "metadata": {
    "editable": true,
    "slideshow": {
     "slide_type": ""
    },
    "tags": [
     "skip-test"
    ]
   },
   "outputs": [
    {
     "name": "stdout",
     "output_type": "stream",
     "text": [
      "[########################################] | 100% Completed | 20.51 s\n"
     ]
    },
    {
     "data": {
      "text/plain": [
       "<abtem.measurements.Images at 0x194e1013150>"
      ]
     },
     "execution_count": 12,
     "metadata": {},
     "output_type": "execute_result"
    }
   ],
   "source": [
    "haadf_images = detector.detect(exit_waves_stem).reduce_ensemble()\n",
    "\n",
    "haadf_images.compute(scheduler=\"threads\", num_workers=8)"
   ]
  },
  {
   "cell_type": "markdown",
   "id": "168c4090-255a-4705-85a8-afbf74c6320e",
   "metadata": {},
   "source": [
    "We can change the scheduler to using the `ProcessPoolExecutor` as below.\n",
    "\n",
    "```python\n",
    "haadf_images = detector.detect(exit_waves_stem).compute(scheduler=\"processes\", num_workers=4)\n",
    "```\n",
    "\n",
    "Using `abtem.config.set` the scheduler can be set either as a context manager or globally.\n",
    "```python\n",
    "# As a context manager\n",
    "with abtem.config.set(scheduler=\"processes\"):\n",
    "    haadf_images.compute()\n",
    "\n",
    "# Set globally\n",
    "abtem.config.set(scheduler=\"processes\")\n",
    "haadf_images.compute()\n",
    "```"
   ]
  },
  {
   "cell_type": "markdown",
   "id": "675a4c6c-338c-4c3a-90e2-8ad79ed63dd4",
   "metadata": {},
   "source": [
    "### Profiling"
   ]
  },
  {
   "cell_type": "markdown",
   "id": "945988ec-0d2b-422a-a84c-32f10d5a63af",
   "metadata": {},
   "source": [
    "To improve performance, we have to be able to profile it. Profiling parallel code can be challenging, but Dask provides functionality to aid in this and inspecting execution. The diagnostic tools are however quite different depending on whether you use a local or distributed scheduler.\n",
    "\n",
    "Dask allows local diagnostics by adding callbacks that collect information about your code execution. You can use the profilers as a context manager as described in the [Dask documentation](https://docs.dask.org/en/stable/diagnostics-local.html). For convenience, the *ab*TEM `compute` methods also implement keywords for adding Dask profilers.\n",
    "\n",
    "Below we use the [`Profiler`](https://docs.dask.org/en/stable/diagnostics-local.html#profiler) to monitor task execution by setting `profiler=True` and a [`ResourceProfiler`](https://docs.dask.org/en/stable/diagnostics-local.html#resourceprofiler) to monitor the CPU usage and memory consumption by setting `resource_profiler=True`. We rerun the simulation above with these profilers. "
   ]
  },
  {
   "cell_type": "code",
   "execution_count": 13,
   "id": "56cb3754-6cde-4f83-b058-6014356cefaf",
   "metadata": {
    "tags": [
     "skip-test"
    ]
   },
   "outputs": [
    {
     "name": "stdout",
     "output_type": "stream",
     "text": [
      "[########################################] | 100% Completed | 19.13 s\n"
     ]
    }
   ],
   "source": [
    "haadf_images = detector.detect(exit_waves_stem).reduce_ensemble()\n",
    "\n",
    "haadf_images, profilers = haadf_images.compute(profiler=True, resource_profiler=True)"
   ]
  },
  {
   "cell_type": "markdown",
   "id": "a3b63fd8-4e8b-4842-9c15-2fa8787da397",
   "metadata": {},
   "source": [
    "To display the results Dask uses the [Bokeh plotting library](https://bokeh.org/) (which is installed together with Dask). To display the plots in a Jupyter notebook we need to run the commands below."
   ]
  },
  {
   "cell_type": "markdown",
   "id": "89a100cb-9792-45bb-b855-42b53fb9db83",
   "metadata": {},
   "source": [
    "We first show the result from the `Profiler` object: This shows the execution time for each task as a rectangle, organized along the vertical axis by worker (in this case threads), and where white space represents times the worker was idle. The task types are grouped by color and, by hovering over each task, one can see the key and task that each block represents. For this calculation there is only one significant task shown in yellow; this encompasses building the wave function, running the multislice algorithm (calculating the potential on demand), and calculating and integrating the diffraction patterns. "
   ]
  },
  {
   "cell_type": "code",
   "execution_count": 14,
   "id": "0a420e98-6235-4e01-b079-fe34d913a436",
   "metadata": {
    "editable": true,
    "slideshow": {
     "slide_type": ""
    },
    "tags": [
     "skip-test"
    ]
   },
   "outputs": [
    {
     "data": {
      "text/html": [
       "\n",
       "  <div id=\"d43e4e43-d27a-4a83-9e0b-c90c474dedba\" data-root-id=\"p1001\" style=\"display: contents;\"></div>\n"
      ]
     },
     "metadata": {},
     "output_type": "display_data"
    },
    {
     "data": {
      "application/javascript": [
       "(function(root) {\n",
       "  function embed_document(root) {\n",
       "  const docs_json = {\"3a32beb8-6ac4-45d6-b48f-9225a2db5e47\":{\"version\":\"3.3.2\",\"title\":\"Bokeh Application\",\"roots\":[{\"type\":\"object\",\"name\":\"Figure\",\"id\":\"p1001\",\"attributes\":{\"width\":800,\"height\":300,\"x_range\":{\"type\":\"object\",\"name\":\"Range1d\",\"id\":\"p1011\",\"attributes\":{\"end\":19.497372400015593}},\"y_range\":{\"type\":\"object\",\"name\":\"FactorRange\",\"id\":\"p1012\",\"attributes\":{\"factors\":[\"0\",\"1\",\"2\",\"3\",\"4\",\"5\",\"6\",\"7\",\"8\",\"9\",\"10\",\"11\",\"12\",\"13\",\"14\",\"15\"]}},\"x_scale\":{\"type\":\"object\",\"name\":\"LinearScale\",\"id\":\"p1013\"},\"y_scale\":{\"type\":\"object\",\"name\":\"CategoricalScale\",\"id\":\"p1014\"},\"title\":{\"type\":\"object\",\"name\":\"Title\",\"id\":\"p1004\",\"attributes\":{\"text\":\"Profile Results\"}},\"renderers\":[{\"type\":\"object\",\"name\":\"GlyphRenderer\",\"id\":\"p1039\",\"attributes\":{\"data_source\":{\"type\":\"object\",\"name\":\"ColumnDataSource\",\"id\":\"p1030\",\"attributes\":{\"selected\":{\"type\":\"object\",\"name\":\"Selection\",\"id\":\"p1031\",\"attributes\":{\"indices\":[],\"line_indices\":[]}},\"selection_policy\":{\"type\":\"object\",\"name\":\"UnionRenderers\",\"id\":\"p1032\"},\"data\":{\"type\":\"map\",\"entries\":[[\"width\",[0.0019194999476894736,0.001962800044566393,0.0019571000011637807,0.0020401000510901213,0.0010800999589264393,0.08196599991060793,0.09159169998019934,0.10660970001481473,1.4169206999940798,1.3709118999540806,1.3666112000355497,1.3482683999463916,1.4174476000480354,1.448725500027649,1.4378160999622196,1.5114806001074612,1.412009899970144,1.4578834000276402,1.4604155000997707,1.5595366000197828,1.4995177000528201,1.443957700044848,1.4260208000196144,1.4365972999949008,0.0020261999452486634,1.4128651999635622,0.019167699967510998,0.014818400028161705,1.4439219000050798,1.5164892000611871,0.005487299989908934,0.008250400074757636,0.02463569992687553,1.4659202999901026,1.3912238999037072,0.02430419996380806,1.4444476999342442,0.016860100091435015,0.026032699970528483,0.033997399965301156,1.5104078999720514,1.5096031000139192,1.4544588999124244,0.019279800006188452,1.4980488000437617,0.018442200031131506,0.01898389996495098,1.4423216000432149,0.02933139994274825,1.48717759991996,1.4518662999616936,0.011760300025343895,0.007504099979996681,0.008308500051498413,0.022201600018888712,1.5316286999732256,1.5279800000134856,0.006917600054293871,1.4335361999692395,0.0010840999893844128,1.4474891000427306,0.0043981000781059265,0.0076240000780671835,1.53984019998461,1.5855456000426784,0.011262600077316165,0.023565599927678704,1.5539651999715716,0.011927100014872849,1.5126689999597147,1.5952755000907928,0.016465799999423325,0.023312299977988005,1.5068558999337256,0.02938200009521097,0.035155100049450994,0.04174959997180849,1.5207132999785244,0.048355799983255565,1.5157724000746384,0.03580930002499372,1.4881970999995247,1.4878699999535456,0.024631300009787083,1.479255300015211,1.5584387000417337,1.5586476000025868,0.0013578999787569046,0.009829699993133545,1.5184899000450969,1.4460185000207275,0.001965399947948754,1.4898306999821216,0.011066199978813529,1.4022316000191495,0.0023222999880090356,0.0009397999383509159,1.3907195000210777,1.3877887999406084,0.008125699940137565,0.00437370000872761,1.445294599980116,1.5133495000191033,0.020916200010105968,0.01614490000065416,0.022309000021778047,0.04535169992595911,0.045426800032146275,0.06309890002012253,1.4898727999534458,1.411761400057003,1.519501099945046,0.03574479999952018,1.4600020999787375,1.2941127000376582,1.3385227000107989,1.5644934000447392,0.008904300048016012,0.023705300060100853,1.459659400046803,0.00806440005544573,1.5087998999515548,1.4468090999871492,0.001770899980328977,1.5478874000255018,0.002817800035700202,1.589068099972792,0.0006906999042257667,1.6169893000042066,0.002172099892050028,1.6012901000212878,0.0006580000044777989,1.6032417999813333,0.00213789998088032,1.5301931001013145,0.004377699922770262,0.0027578999288380146,1.6113938000053167,1.534440000075847,0.018208099994808435,0.01172079995740205,0.022256999975070357,1.707724399981089,1.6652537999907508,1.570221500005573,0.006294999970123172,0.006415599957108498,1.634054100024514,1.6619035000912845,0.003845200059004128,1.5558649000013247,0.0064353999914601445,0.0066983000142499804,1.5869503999128938,1.6207736000651494,0.003969599958509207,0.0023981000995263457,1.4141607000492513,0.0007762000896036625,0.002397499978542328,1.482424300047569,0.016199700068682432,0.009855699958279729,0.008714600000530481,0.005050500039942563,0.011702300049364567,1.4870321999769658,0.00479889998678118,1.3926861999789253,1.4434140000957996,0.008166400017216802,0.003360799979418516,0.009960400057025254,0.0038014999590814114,1.4905732000479475,1.4368025000439957,0.0024037000257521868,0.0016830000095069408,1.394174400018528,0.004862000001594424,0.010355900041759014,1.4988595000468194,0.009616700001060963,0.009614599985070527,0.014448300004005432,0.010766300023533404,0.018791500013321638,0.02477659995201975,1.3894141000928357,1.5209827000508085,0.008450400084257126,0.03907319996505976,0.025478399940766394,1.5342503000283614,0.011117500020191073,0.02398439997341484,1.4534428999759257,0.013776700012385845,0.01835529995150864,1.487708400003612,1.5176658999407664,0.007632300024852157,1.4583544000051916,0.001740399980917573,0.0026946000289171934,1.4788323000539094,0.004268900025635958,0.0016293999506160617,0.005131799960508943,0.005724599934183061,1.4536033000331372,1.486987499985844,0.00466410000808537,0.0021863000001758337,0.0031627999851480126,1.4979062000056729,0.012598300003446639,0.004181199939921498,0.013020700076594949,1.4624773999676108,0.008715800009667873,0.002445699996314943,1.5033221999183297,1.489023600006476,0.0037810999201610684,0.0015170000260695815,1.4509455000516027,0.002746199956163764,0.000800000037997961,1.4462642999133095,0.0006005000323057175,0.0008864999981597066,1.518205799977295,0.004407200030982494,0.0061515000415965915,0.004138199961744249,0.0040598000632599,1.476751400041394,1.3858611999312416,0.010621200082823634,0.007753700017929077,0.008710000081919134,0.0110663000959903,0.008589699980802834,0.02830609993543476,1.4649788999231532,1.4661199999973178,0.006642199936322868,1.4252179999602959,0.0023548000026494265,1.4535014999564737,0.0031730999471619725,0.003962600021623075,1.4907006999710575,0.007258799974806607,0.0038270000368356705,1.5161138999974355,0.000781899900175631,0.0055729999439790845,1.5170662999153137,0.011831799987703562,0.009511000011116266,0.004629199975170195,0.017831899924203753,1.5818147999234498,1.5049081000033766,0.011749000055715442,0.010205699945800006,0.006056000012904406,0.009305099956691265,0.008452099980786443,0.013157000066712499,1.5577494000317529,1.465900699957274,1.70065029989928,0.014268200029619038,0.0011973000364378095,1.5787199001060799,0.02277489996049553,0.008753800066187978,0.007080200011841953,0.017391900066286325,1.5286367000080645,1.538753499975428,0.002131399931386113,0.004294299986213446,0.01958979992195964,1.8242100999923423,0.00865570001769811,0.009579900070093572,0.005857800017111003,0.018013800028711557,1.5431473000207916,0.005492800031788647,0.017826399998739362,1.7883703999686986,1.931875899899751,0.005083099938929081,1.9497995999408886,0.0033361000241711736,0.0030608000233769417,0.001581899938173592,1.4967692999634892,0.004798999987542629,0.0007186000002548099,0.003195099998265505,1.5237672000657767,0.0027016999665647745,0.004467900027520955,0.0037136999890208244,1.5604734000517055,0.010989999980665743,0.011253800010308623,0.005210599978454411,0.0028650000458583236,0.0015421999851241708,0.009457399952225387,1.5199886000482365,1.4989044000394642,0.004384100087918341,0.0007374999113380909,0.001501200022175908,1.540693899965845,0.0016862000338733196,0.0012948999647051096,0.0014316999586299062,1.511892499984242,0.005795500008389354,0.009021300007589161,0.0009800000116229057,0.008391499985009432,0.003714699996635318,0.0034899000311270356,1.5100440999958664,1.5038477999623865,0.012066199909895658,0.01136829995084554,0.005579299991950393,0.0007071000291034579,0.0025086000096052885,0.0030410001054406166,1.522632500040345,1.536256399936974,0.0029542000265792012,1.475732299964875,0.005562000093050301,0.006427799933589995,0.007660800009034574,1.8639697000617161,0.0019712999928742647,1.8985907000023872,0.008011400001123548,1.9804823000449687,0.003383200033567846,1.937197900027968,0.002034400007687509,1.4609269000357017,0.007215699995867908,1.578556300024502,0.006135999923571944,1.5759902000427246,0.005500199971720576,0.0066914999624714255,1.490349299972877,1.594733600039035,0.004794300068169832,0.004083800013177097,1.476773300091736,1.5492717999732122,0.0036527999909594655,0.002145799924619496,1.550829700077884,1.5284189999802038,0.00081769993994385,1.4931062000105157,0.0018931999802589417,0.009169799974188209,1.5554026999743655,1.6403662998927757,0.0056096999906003475,1.6880526000168175,0.003615100053139031,1.6015035000164062,0.0007471999851986766,1.591351900016889,0.007316299946978688,0.006106600048951805,1.6683136000065133,1.7106719999574125,0.0005607000784948468,1.5319133000448346,0.0005397000350058079,1.6172101999400184,0.002246999996714294,1.5159728999715298,0.0020132999634370208,1.4894222998991609,0.005263500032015145,1.5286745999474078,0.004570299992337823,1.4633873999118805,0.013731300015933812,0.013049100060015917,0.0227563000516966,1.447553600068204,1.480038500041701,1.4334986000321805,0.00637840002309531,1.5923433999996632,0.002502799965441227,1.5685652999673039,0.004800900002010167,1.5929912000428885,0.0006547999801114202,1.6167535000713542,0.005323900026269257,1.4964264000300318,0.0008076999802142382,1.6094110000412911,0.000753499916754663,0.0013544999528676271,0.0014633000828325748,1.7004626000998542,0.006932400050573051,0.0021388999884948134,0.00581969995982945,1.4807541000191122,0.005109500023536384,0.002662300015799701,0.0056393000995740294,0.006830300088040531,0.0035957000218331814,0.0036790999583899975,1.5484187001129612,1.4978232000721619,0.0024311000015586615,0.009322600089944899,0.006833399995230138,0.005572800058871508,0.009305199957452714,1.4936508999671787,0.007465400034561753,0.0026134999934583902,1.4762378999730572,0.008106900029815733,0.006006599985994399,1.4593162999954075,0.006195300025865436,0.006317200022749603,0.013424000004306436,0.016371399979107082,0.00839319999795407,0.01013710000552237,0.02111420000437647,1.495625299983658,0.006428299937397242,1.4366277999943122,0.002464700024574995,1.4531732000177726,0.00048369995784014463,0.00665850006043911,0.0017444000113755465,1.3529699000064284,0.0012185999657958746,0.001601099967956543,0.0009086000500246882,1.3531017999630421,0.0016339999856427312,0.0031206998974084854,0.004320699954405427,0.001421299995854497,1.016443399945274,0.0029661000007763505,0.0022658000234514475,1.1018418000312522,0.001407100004144013,0.0024664000375196338,0.0045291000278666615,1.0682450999738649,0.0006401999853551388,0.0007876000599935651,0.0024325998965650797,0.8390574000077322,0.010540900053456426,0.002650100039318204,0.002022300031967461,0.8490477999439463,0.005083599942736328,0.007495000027120113,0.00647289992775768,0.00309070001821965,0.7606979999691248,0.0062074000015854836,0.0067480000434443355,0.014414799981750548,0.01530339999590069,0.02308889990672469,0.02335159992799163,0.7242223001085222,0.007093599997460842,0.00826000003144145,0.01058620004914701,0.0221178000792861,0.01982229994609952,0.6815227998886257,0.0069367999676615,0.010054000071249902,0.013124000048264861,0.0005782999796792865,0.00849249993916601,0.0031946999952197075,0.0015932000242173672,0.0008678000885993242,0.008596499916166067,0.01371530001051724,0.004765899968333542,0.001137099927291274,0.0032036000629886985,0.0022975000320002437,0.00196020002476871,0.0003396000247448683,0.0004729999927803874,0.0010500999633222818,0.0004662999417632818,0.0006466000340878963,0.00035280000884085894,0.004361799918115139,0.0007380999159067869,0.0005723999347537756,0.0014007999561727047,0.0006972000701352954,0.00026949995663017035,0.00018239999189972878,0.0007493000011891127,0.0008041999535635114,0.0004032000433653593,0.0003618999617174268,0.00047010008711367846,0.00039410009048879147,0.00042079994454979897,0.0001832999987527728,0.0001868000254034996,0.00014579994603991508,0.00016660010442137718,0.0001674999948590994,0.000152299995534122,0.0001708000199869275]],[\"x\",[0.04127795004751533,0.04174749995581806,0.04201335005927831,0.04230774997267872,0.04322484997101128,0.0839451999636367,0.08909454999957234,0.09699454996734858,0.7525029500247911,0.7299476499902084,0.7280277999816462,0.7190984999760985,0.7539702999638394,0.7698721500346437,0.7646841499954462,0.8017921999562532,0.7523161499993876,0.7755220999242738,0.7770552498986945,0.8268850999884307,0.797144049894996,0.8490623499965295,0.8534702999750152,0.8813048499869183,1.3957623000023887,2.104634699993767,1.4248925499850884,1.4284247999312356,2.1576295498525724,2.204037699964829,1.4636552499141544,1.4667314999969676,1.4786388500360772,2.203640849911608,2.1790242498973384,1.5030076999682933,2.2163379499688745,1.5127609499031678,1.5200867499224842,1.5320751999970526,2.276251549948938,2.2878150498727337,2.273952650022693,1.55865439993795,2.3064859999576584,1.575592799927108,1.5777093499200419,2.2920871999813244,1.59932099992875,2.330704199965112,2.3254609500290826,1.6124172499403358,1.6175870499573648,1.6223229499300942,1.631461999961175,2.3921107499627396,2.4064538999227807,1.6692363999318331,2.394582299864851,2.816956750000827,3.5426093499409035,2.8816231499658898,2.8874839999480173,3.6609935999149457,3.7013086000224575,2.943994399975054,2.9611594999441877,3.7391218999400735,2.9787764499196783,3.7408725999994203,3.790258349967189,3.021315300022252,3.0410886500030756,3.784736149944365,3.057181999902241,3.0688731499249116,3.0735385000007227,3.8157442499650642,3.0959802999859676,3.8320560000138357,3.1042000498855487,3.838288650033064,3.8551994998706505,3.1324150499422103,3.861653249943629,3.9238542498787865,3.937084299977869,3.1710342499427497,3.1765488499077037,3.932377449935302,3.910358649911359,4.277372300042771,5.029827049933374,4.43969729996752,5.150534300017171,4.49824234994594,4.4997364999726415,5.195428850012831,5.209765199921094,4.542068150010891,4.548189550056122,5.272836299962364,5.319288149941713,4.592730699921958,4.5957958499202505,4.600997100002132,4.621699349954724,4.623855299898423,4.634621049975976,5.348685199976899,5.317818299983628,5.39289464999456,4.662142599932849,5.376437750062905,5.313069049967453,5.349167549866252,5.473739799926989,4.707429849891923,4.723648949875496,5.446120499982499,4.739408499910496,5.497761550010182,5.483689549961127,5.782624150044285,6.558454399928451,5.854588599991985,6.657893349998631,5.892560650012456,6.703594149905257,5.918422149959952,6.725662949960679,5.966622199979611,6.77225040004123,5.9997609498677775,6.771643350017257,6.025688649970107,6.0290823499672115,6.836003999924287,6.817615799955092,6.1026162499329075,6.112208600039594,6.122613299987279,6.971754999947734,6.966212100000121,6.937570550013334,6.179004299920052,6.185234599979594,7.005347150028683,7.037949849967845,6.22165659989696,7.012590350001119,6.259041499928571,6.265496150008403,7.062143399962224,7.101195399998687,7.337364899925888,7.349171250010841,8.063023249967955,7.454925199970603,7.459757849923335,8.210210449877195,7.5246770499506965,7.537592249922454,7.540900699910708,7.544881649897434,7.550894849933684,8.29068219999317,7.558946249890141,8.257570200017653,8.295294499956071,7.588842099998146,7.594519299920648,7.6010715999873355,7.607834649970755,8.3548843000317,8.345184750040062,7.649952249950729,7.659598199999891,8.358960899990052,7.731213999912143,7.761928249965422,8.525905449991114,7.801822250010446,7.8112654000287876,7.823203249950893,7.827609249972738,7.834928349941038,7.842709699994884,8.527561149909161,8.60469515004661,7.859171599964611,7.8750810999190435,7.876043100026436,8.635915449936874,7.894225349999033,7.906479299883358,8.626388849923387,7.918304149992764,7.9275462499354035,8.668721799971536,8.6954736498883,7.954101549927145,8.689984299940988,8.773620299994946,8.780164399999194,9.52473744994495,8.955912449979223,8.958673399989493,8.961883599986322,8.967036599875428,9.696459349943325,9.725002549937926,9.022006249986589,9.03496274992358,9.03700199990999,9.787292499910109,9.059147749911062,9.065536299953237,9.071873749955557,9.798717699944973,9.082598899956793,9.088030849932693,9.840747299953364,9.844598399940878,9.113298250013031,9.12082509987522,9.853565349942073,9.229019499965943,9.25890979997348,9.98473795002792,9.278532749973238,9.282010049908422,10.04508640000131,9.367314499919303,9.372471650014631,9.377521899878047,9.381498600007035,10.121680299867876,10.095861799898557,9.417818299960345,9.422898749937303,9.427363899885677,9.432212949963287,9.435740250046365,9.45179125003051,10.17240545002278,10.187228499911726,9.469151999917813,10.18486080004368,9.48885560000781,10.21806054993067,10.268814949900843,10.274867300060578,11.026457349886186,10.429540800047107,10.454879199969582,11.21624195005279,10.479338850011118,10.485491200000979,11.248916449956596,10.539765699999407,10.550334499916062,10.55724339990411,10.568267549970187,11.35264349996578,11.331326949992217,10.594879299984314,10.597416449920274,10.603623399976641,10.607034549931996,10.610740849981084,10.618068799958564,11.39367149991449,11.357475249911658,11.485110649955459,10.720596499857493,10.736399349872954,11.529715649900027,10.806160049862228,10.821741199935786,10.82955080003012,10.8416897499701,11.614576549967751,11.629345249966718,10.888420599978417,10.896453749970533,10.908321699942462,11.816901550046168,10.922345349914394,10.924929249915294,10.929519999888726,10.93863769993186,11.703902250039391,10.947397099924274,10.95640949998051,11.844108799938112,11.93092864996288,10.980983849964105,11.961766800028272,11.77669284993317,11.789212899981067,11.796764850034378,12.557042449945584,11.980924399918877,11.98879760003183,11.992215249920264,12.760161499958485,12.010371849988587,12.015081149875186,12.026300249970518,12.811571699916385,12.095819299924187,12.106820699991658,12.114882599911653,12.118673199904151,12.120730699854903,12.126088699907996,12.890641299891286,12.892810399993323,12.161136950016953,12.164843649952672,12.166822799947113,12.942724350024946,12.18613639997784,12.19005954999011,12.200930549879558,12.962585149914958,12.325855550006963,12.339660549885593,12.341249999939464,12.348271949915215,12.354151549981907,12.357637149863876,13.11424625001382,13.130590599961579,12.3989062999608,12.410480749909766,12.418806349975057,12.419178249896504,12.422763000009581,12.424896899960004,13.18754434993025,13.208912499947473,12.485232100007124,13.229285849956796,12.738274499890395,12.744055000017397,12.750861199921928,13.686391449882649,12.766700349980965,13.71814034995623,12.904110500006936,13.902257649926469,12.942776400013827,13.917873949860223,13.309365599998273,14.045386850018986,13.531990449992009,14.336665749899112,13.596160699962638,14.38863569998648,13.653185299946927,13.659105050028302,14.407428749953397,14.475178799941204,13.720773349981755,13.725048799882643,14.465257150004618,14.523331500007771,13.884159400011413,13.886879800003953,14.663169949897565,14.680880400002934,13.951406849897467,14.70388709998224,13.977877099998295,13.983318399987184,14.756967249908485,14.809726949897595,14.627276149927638,15.478615299914964,14.67379535001237,15.49044394993689,14.779572799918242,15.583556649973616,14.895951049984433,14.902493300032802,15.739579100045376,15.775480799959041,15.127687150030397,15.895277349976823,15.158375349943526,15.969943799893372,15.180429800064303,15.943575149984099,15.211484749917872,15.959885249962099,15.28451264987234,16.062202799948864,15.316949949949048,16.055692499969155,15.45181514986325,15.456826049950905,15.469934649881907,16.186875099898316,16.22123244998511,16.211481799953617,15.54258020000998,16.345735699986108,15.63735179998912,16.425209949957207,16.306014350033365,17.108758799964562,16.324468999984674,17.140603850013576,16.38567184994463,17.14023769996129,16.577871949994005,17.38554369995836,16.63439845002722,16.640700249932706,16.64476824994199,17.499330300022848,16.66791339998599,16.675881249946542,16.682794449967332,17.430480449926108,16.707028949982487,16.7107667500386,16.714754850021563,16.720838549896143,16.725949949934147,16.729465649928898,17.50529965001624,17.494957100017928,16.782121849944815,16.79186379991006,16.799870099988766,16.805978899938054,16.81334709993098,17.558240049984306,16.826684099971317,16.831459049950354,17.57074835000094,16.850828149938025,16.86618220002856,17.60463554994203,16.93126854998991,16.935547500033863,16.94520029996056,16.95997699990403,16.96529759990517,16.97312714997679,16.97998279996682,17.725874950061552,16.993686249945313,17.715077699976973,17.011367150000297,17.743147099972703,17.15018754999619,17.165183949982747,17.175877599976957,17.86053834995255,17.217856099945493,17.222708249930292,17.224696699879132,17.903342099976726,17.892104199971072,17.899678349960595,17.90730264992453,17.909973550005816,18.41871939995326,17.924602449988015,17.929112699930556,18.484076599939726,17.954045649967156,17.958402600022964,17.963428449933417,18.508973650052212,18.172271399991587,18.173572200001217,18.17582839995157,18.609559999895282,18.19915584998671,18.208719349931926,18.21569704997819,18.642495599924587,18.253026999882422,18.268682299996726,18.27933334989939,18.283968150033616,18.66568219999317,18.308088599937037,18.312137399916537,18.31821009994019,18.323050399892963,18.336856749956496,18.34224359993823,18.696185949957,18.351872099912725,18.353607299970463,18.35895459994208,18.366312199970707,18.36752944998443,18.70486219995655,18.380622599972412,18.388931400026195,18.400360699975863,18.44737444992643,18.45544695004355,18.463922349968925,18.474296599975787,18.47538119996898,18.480033749947324,18.48437494994141,18.493500650045462,18.495370249962434,18.54461659991648,18.549757749889977,18.55376089992933,18.58287369995378,18.58428259997163,18.585714349988848,18.92797724995762,18.92906759993639,18.93020359997172,19.034025299944915,19.036510349949822,19.03712839994114,19.03806299995631,19.039048700011335,19.03947304992471,19.043535299948417,19.04432955000084,19.045979299931787,19.046192799927667,19.046528749982826,19.046901249908842,19.047290249960497,19.047646099934354,19.047914950060658,19.058682399918325,19.05909769993741,19.059497599955648,19.06737284990959,19.067766849999316,19.068177600041963]],[\"y\",[16,16,16,16,16,16,16,16,16,13,14,15,11,6,8,2,12,5,4,1,3,7,10,9,15,15,14,14,14,13,12,11,8,11,8,6,5,4,6,3,16,12,4,10,2,10,3,10,3,6,1,7,3,3,3,9,3,7,7,15,15,8,8,8,14,11,11,5,13,13,4,11,11,2,12,11,16,12,6,16,1,6,10,7,11,7,9,1,3,3,1,15,15,8,8,14,14,14,13,5,5,5,12,6,16,10,1,4,2,11,6,16,10,4,7,10,2,1,3,9,1,1,3,15,15,8,8,14,13,14,14,7,7,5,5,10,10,10,6,12,4,12,4,11,16,12,9,9,12,3,3,1,1,1,2,15,15,15,8,8,8,14,14,13,5,13,5,14,6,13,14,14,14,14,14,7,10,10,10,16,16,16,11,11,11,3,9,3,4,11,1,1,9,12,3,9,1,9,2,9,2,3,3,15,15,15,8,8,8,8,8,6,13,13,13,13,10,5,10,5,10,7,14,10,7,7,7,4,4,4,16,16,16,1,1,1,1,11,1,12,3,9,12,3,2,9,12,3,3,2,2,15,15,15,8,8,8,6,6,6,13,13,13,13,5,13,10,7,14,10,7,10,7,10,14,4,4,4,16,16,16,1,1,11,16,16,9,16,3,9,12,9,3,9,2,12,9,2,2,15,15,15,15,8,8,8,6,8,8,8,8,13,13,13,13,13,10,13,5,10,10,10,10,7,7,7,7,4,4,14,14,14,4,14,4,11,11,1,11,11,11,1,11,3,3,12,12,12,16,12,12,9,9,2,2,15,15,6,6,8,8,5,5,5,13,10,10,10,7,14,14,14,4,1,3,11,11,11,1,16,16,12,12,15,15,2,2,2,9,6,6,5,5,8,8,10,10,13,13,7,7,14,3,4,14,3,4,11,11,1,1,12,12,16,16,15,15,2,2,9,9,9,9,6,6,6,6,8,8,8,8,8,8,8,10,5,5,5,7,7,7,13,13,5,13,13,13,14,14,14,4,3,3,14,3,4,14,4,4,11,11,11,11,1,1,1,1,15,15,15,15,15,12,12,12,16,16,16,16,6,6,6,6,2,2,2,2,10,10,10,8,7,10,5,8,10,5,10,8,9,10,5,13,5,13,9,10,9,5,9,5,14,10,5,4,14,14,10,5,9,11,3,5,14,11,4,12,9,15,1,10,3,12,9,14,11,4,6,12,5,9,13,14,11,4,6,12]],[\"function\",[\"getitem(_wrap_with_array(..., ...), *)\",\"getitem(_wrap_with_array(..., ...), *)\",\"getitem(_wrap_with_array(..., ...), *)\",\"getitem(_wrap_with_array(..., ...), *)\",\"_\",\"_\",\"_\",\"_\",\"subgraph_callable-181ae9f5-6ae7-4253-9958-fbb9b258(subgraph_callable-9c68981c-e41b-4493-ad58-861823d7(...))\",\"subgraph_callable-181ae9f5-6ae7-4253-9958-fbb9b258(subgraph_callable-9c68981c-e41b-4493-ad58-861823d7(...))\",\"subgraph_callable-181ae9f5-6ae7-4253-9958-fbb9b258(subgraph_callable-9c68981c-e41b-4493-ad58-861823d7(...))\",\"subgraph_callable-181ae9f5-6ae7-4253-9958-fbb9b258(subgraph_callable-9c68981c-e41b-4493-ad58-861823d7(...))\",\"subgraph_callable-181ae9f5-6ae7-4253-9958-fbb9b258(subgraph_callable-9c68981c-e41b-4493-ad58-861823d7(...))\",\"subgraph_callable-181ae9f5-6ae7-4253-9958-fbb9b258(subgraph_callable-9c68981c-e41b-4493-ad58-861823d7(...))\",\"subgraph_callable-181ae9f5-6ae7-4253-9958-fbb9b258(subgraph_callable-9c68981c-e41b-4493-ad58-861823d7(...))\",\"subgraph_callable-181ae9f5-6ae7-4253-9958-fbb9b258(subgraph_callable-9c68981c-e41b-4493-ad58-861823d7(...))\",\"subgraph_callable-181ae9f5-6ae7-4253-9958-fbb9b258(subgraph_callable-9c68981c-e41b-4493-ad58-861823d7(...))\",\"subgraph_callable-181ae9f5-6ae7-4253-9958-fbb9b258(subgraph_callable-9c68981c-e41b-4493-ad58-861823d7(...))\",\"subgraph_callable-181ae9f5-6ae7-4253-9958-fbb9b258(subgraph_callable-9c68981c-e41b-4493-ad58-861823d7(...))\",\"subgraph_callable-181ae9f5-6ae7-4253-9958-fbb9b258(subgraph_callable-9c68981c-e41b-4493-ad58-861823d7(...))\",\"subgraph_callable-181ae9f5-6ae7-4253-9958-fbb9b258(subgraph_callable-9c68981c-e41b-4493-ad58-861823d7(...))\",\"subgraph_callable-181ae9f5-6ae7-4253-9958-fbb9b258(subgraph_callable-9c68981c-e41b-4493-ad58-861823d7(...))\",\"subgraph_callable-181ae9f5-6ae7-4253-9958-fbb9b258(subgraph_callable-9c68981c-e41b-4493-ad58-861823d7(...))\",\"subgraph_callable-181ae9f5-6ae7-4253-9958-fbb9b258(subgraph_callable-9c68981c-e41b-4493-ad58-861823d7(...))\",\"_\",\"subgraph_callable-181ae9f5-6ae7-4253-9958-fbb9b258(subgraph_callable-9c68981c-e41b-4493-ad58-861823d7(...))\",\"_\",\"_\",\"subgraph_callable-181ae9f5-6ae7-4253-9958-fbb9b258(subgraph_callable-9c68981c-e41b-4493-ad58-861823d7(...))\",\"subgraph_callable-181ae9f5-6ae7-4253-9958-fbb9b258(subgraph_callable-9c68981c-e41b-4493-ad58-861823d7(...))\",\"_\",\"_\",\"_\",\"subgraph_callable-181ae9f5-6ae7-4253-9958-fbb9b258(subgraph_callable-9c68981c-e41b-4493-ad58-861823d7(...))\",\"subgraph_callable-181ae9f5-6ae7-4253-9958-fbb9b258(subgraph_callable-9c68981c-e41b-4493-ad58-861823d7(...))\",\"_\",\"subgraph_callable-181ae9f5-6ae7-4253-9958-fbb9b258(subgraph_callable-9c68981c-e41b-4493-ad58-861823d7(...))\",\"_\",\"_\",\"_\",\"subgraph_callable-181ae9f5-6ae7-4253-9958-fbb9b258(subgraph_callable-9c68981c-e41b-4493-ad58-861823d7(...))\",\"subgraph_callable-181ae9f5-6ae7-4253-9958-fbb9b258(subgraph_callable-9c68981c-e41b-4493-ad58-861823d7(...))\",\"subgraph_callable-181ae9f5-6ae7-4253-9958-fbb9b258(subgraph_callable-9c68981c-e41b-4493-ad58-861823d7(...))\",\"_\",\"subgraph_callable-181ae9f5-6ae7-4253-9958-fbb9b258(subgraph_callable-9c68981c-e41b-4493-ad58-861823d7(...))\",\"_\",\"_\",\"subgraph_callable-181ae9f5-6ae7-4253-9958-fbb9b258(subgraph_callable-9c68981c-e41b-4493-ad58-861823d7(...))\",\"_\",\"subgraph_callable-181ae9f5-6ae7-4253-9958-fbb9b258(subgraph_callable-9c68981c-e41b-4493-ad58-861823d7(...))\",\"subgraph_callable-181ae9f5-6ae7-4253-9958-fbb9b258(subgraph_callable-9c68981c-e41b-4493-ad58-861823d7(...))\",\"_\",\"_\",\"mean_combine([_, _])\",\"mean_combine([_, _])\",\"subgraph_callable-181ae9f5-6ae7-4253-9958-fbb9b258(subgraph_callable-9c68981c-e41b-4493-ad58-861823d7(...))\",\"subgraph_callable-181ae9f5-6ae7-4253-9958-fbb9b258(subgraph_callable-9c68981c-e41b-4493-ad58-861823d7(...))\",\"mean_agg([_, _])\",\"subgraph_callable-181ae9f5-6ae7-4253-9958-fbb9b258(subgraph_callable-9c68981c-e41b-4493-ad58-861823d7(...))\",\"_\",\"subgraph_callable-181ae9f5-6ae7-4253-9958-fbb9b258(subgraph_callable-9c68981c-e41b-4493-ad58-861823d7(...))\",\"_\",\"_\",\"subgraph_callable-181ae9f5-6ae7-4253-9958-fbb9b258(subgraph_callable-9c68981c-e41b-4493-ad58-861823d7(...))\",\"subgraph_callable-181ae9f5-6ae7-4253-9958-fbb9b258(subgraph_callable-9c68981c-e41b-4493-ad58-861823d7(...))\",\"_\",\"_\",\"subgraph_callable-181ae9f5-6ae7-4253-9958-fbb9b258(subgraph_callable-9c68981c-e41b-4493-ad58-861823d7(...))\",\"_\",\"subgraph_callable-181ae9f5-6ae7-4253-9958-fbb9b258(subgraph_callable-9c68981c-e41b-4493-ad58-861823d7(...))\",\"subgraph_callable-181ae9f5-6ae7-4253-9958-fbb9b258(subgraph_callable-9c68981c-e41b-4493-ad58-861823d7(...))\",\"_\",\"_\",\"subgraph_callable-181ae9f5-6ae7-4253-9958-fbb9b258(subgraph_callable-9c68981c-e41b-4493-ad58-861823d7(...))\",\"_\",\"_\",\"_\",\"subgraph_callable-181ae9f5-6ae7-4253-9958-fbb9b258(subgraph_callable-9c68981c-e41b-4493-ad58-861823d7(...))\",\"_\",\"subgraph_callable-181ae9f5-6ae7-4253-9958-fbb9b258(subgraph_callable-9c68981c-e41b-4493-ad58-861823d7(...))\",\"_\",\"subgraph_callable-181ae9f5-6ae7-4253-9958-fbb9b258(subgraph_callable-9c68981c-e41b-4493-ad58-861823d7(...))\",\"subgraph_callable-181ae9f5-6ae7-4253-9958-fbb9b258(subgraph_callable-9c68981c-e41b-4493-ad58-861823d7(...))\",\"_\",\"subgraph_callable-181ae9f5-6ae7-4253-9958-fbb9b258(subgraph_callable-9c68981c-e41b-4493-ad58-861823d7(...))\",\"subgraph_callable-181ae9f5-6ae7-4253-9958-fbb9b258(subgraph_callable-9c68981c-e41b-4493-ad58-861823d7(...))\",\"subgraph_callable-181ae9f5-6ae7-4253-9958-fbb9b258(subgraph_callable-9c68981c-e41b-4493-ad58-861823d7(...))\",\"_\",\"_\",\"subgraph_callable-181ae9f5-6ae7-4253-9958-fbb9b258(subgraph_callable-9c68981c-e41b-4493-ad58-861823d7(...))\",\"subgraph_callable-181ae9f5-6ae7-4253-9958-fbb9b258(subgraph_callable-9c68981c-e41b-4493-ad58-861823d7(...))\",\"_\",\"subgraph_callable-181ae9f5-6ae7-4253-9958-fbb9b258(subgraph_callable-9c68981c-e41b-4493-ad58-861823d7(...))\",\"_\",\"subgraph_callable-181ae9f5-6ae7-4253-9958-fbb9b258(subgraph_callable-9c68981c-e41b-4493-ad58-861823d7(...))\",\"_\",\"_\",\"subgraph_callable-181ae9f5-6ae7-4253-9958-fbb9b258(subgraph_callable-9c68981c-e41b-4493-ad58-861823d7(...))\",\"subgraph_callable-181ae9f5-6ae7-4253-9958-fbb9b258(subgraph_callable-9c68981c-e41b-4493-ad58-861823d7(...))\",\"_\",\"_\",\"subgraph_callable-181ae9f5-6ae7-4253-9958-fbb9b258(subgraph_callable-9c68981c-e41b-4493-ad58-861823d7(...))\",\"subgraph_callable-181ae9f5-6ae7-4253-9958-fbb9b258(subgraph_callable-9c68981c-e41b-4493-ad58-861823d7(...))\",\"_\",\"_\",\"_\",\"_\",\"_\",\"_\",\"subgraph_callable-181ae9f5-6ae7-4253-9958-fbb9b258(subgraph_callable-9c68981c-e41b-4493-ad58-861823d7(...))\",\"subgraph_callable-181ae9f5-6ae7-4253-9958-fbb9b258(subgraph_callable-9c68981c-e41b-4493-ad58-861823d7(...))\",\"subgraph_callable-181ae9f5-6ae7-4253-9958-fbb9b258(subgraph_callable-9c68981c-e41b-4493-ad58-861823d7(...))\",\"_\",\"subgraph_callable-181ae9f5-6ae7-4253-9958-fbb9b258(subgraph_callable-9c68981c-e41b-4493-ad58-861823d7(...))\",\"subgraph_callable-181ae9f5-6ae7-4253-9958-fbb9b258(subgraph_callable-9c68981c-e41b-4493-ad58-861823d7(...))\",\"subgraph_callable-181ae9f5-6ae7-4253-9958-fbb9b258(subgraph_callable-9c68981c-e41b-4493-ad58-861823d7(...))\",\"subgraph_callable-181ae9f5-6ae7-4253-9958-fbb9b258(subgraph_callable-9c68981c-e41b-4493-ad58-861823d7(...))\",\"_\",\"_\",\"subgraph_callable-181ae9f5-6ae7-4253-9958-fbb9b258(subgraph_callable-9c68981c-e41b-4493-ad58-861823d7(...))\",\"_\",\"subgraph_callable-181ae9f5-6ae7-4253-9958-fbb9b258(subgraph_callable-9c68981c-e41b-4493-ad58-861823d7(...))\",\"subgraph_callable-181ae9f5-6ae7-4253-9958-fbb9b258(subgraph_callable-9c68981c-e41b-4493-ad58-861823d7(...))\",\"_\",\"subgraph_callable-181ae9f5-6ae7-4253-9958-fbb9b258(subgraph_callable-9c68981c-e41b-4493-ad58-861823d7(...))\",\"_\",\"subgraph_callable-181ae9f5-6ae7-4253-9958-fbb9b258(subgraph_callable-9c68981c-e41b-4493-ad58-861823d7(...))\",\"_\",\"subgraph_callable-181ae9f5-6ae7-4253-9958-fbb9b258(subgraph_callable-9c68981c-e41b-4493-ad58-861823d7(...))\",\"_\",\"subgraph_callable-181ae9f5-6ae7-4253-9958-fbb9b258(subgraph_callable-9c68981c-e41b-4493-ad58-861823d7(...))\",\"_\",\"subgraph_callable-181ae9f5-6ae7-4253-9958-fbb9b258(subgraph_callable-9c68981c-e41b-4493-ad58-861823d7(...))\",\"_\",\"subgraph_callable-181ae9f5-6ae7-4253-9958-fbb9b258(subgraph_callable-9c68981c-e41b-4493-ad58-861823d7(...))\",\"_\",\"_\",\"subgraph_callable-181ae9f5-6ae7-4253-9958-fbb9b258(subgraph_callable-9c68981c-e41b-4493-ad58-861823d7(...))\",\"subgraph_callable-181ae9f5-6ae7-4253-9958-fbb9b258(subgraph_callable-9c68981c-e41b-4493-ad58-861823d7(...))\",\"_\",\"_\",\"_\",\"subgraph_callable-181ae9f5-6ae7-4253-9958-fbb9b258(subgraph_callable-9c68981c-e41b-4493-ad58-861823d7(...))\",\"subgraph_callable-181ae9f5-6ae7-4253-9958-fbb9b258(subgraph_callable-9c68981c-e41b-4493-ad58-861823d7(...))\",\"subgraph_callable-181ae9f5-6ae7-4253-9958-fbb9b258(subgraph_callable-9c68981c-e41b-4493-ad58-861823d7(...))\",\"_\",\"_\",\"subgraph_callable-181ae9f5-6ae7-4253-9958-fbb9b258(subgraph_callable-9c68981c-e41b-4493-ad58-861823d7(...))\",\"subgraph_callable-181ae9f5-6ae7-4253-9958-fbb9b258(subgraph_callable-9c68981c-e41b-4493-ad58-861823d7(...))\",\"_\",\"subgraph_callable-181ae9f5-6ae7-4253-9958-fbb9b258(subgraph_callable-9c68981c-e41b-4493-ad58-861823d7(...))\",\"_\",\"_\",\"subgraph_callable-181ae9f5-6ae7-4253-9958-fbb9b258(subgraph_callable-9c68981c-e41b-4493-ad58-861823d7(...))\",\"subgraph_callable-181ae9f5-6ae7-4253-9958-fbb9b258(subgraph_callable-9c68981c-e41b-4493-ad58-861823d7(...))\",\"_\",\"mean_combine([_, _])\",\"subgraph_callable-181ae9f5-6ae7-4253-9958-fbb9b258(subgraph_callable-9c68981c-e41b-4493-ad58-861823d7(...))\",\"_\",\"mean_combine([_, _])\",\"subgraph_callable-181ae9f5-6ae7-4253-9958-fbb9b258(subgraph_callable-9c68981c-e41b-4493-ad58-861823d7(...))\",\"_\",\"_\",\"mean_combine([_, _])\",\"_\",\"mean_combine([_, _])\",\"subgraph_callable-181ae9f5-6ae7-4253-9958-fbb9b258(subgraph_callable-9c68981c-e41b-4493-ad58-861823d7(...))\",\"mean_combine([_, _])\",\"subgraph_callable-181ae9f5-6ae7-4253-9958-fbb9b258(subgraph_callable-9c68981c-e41b-4493-ad58-861823d7(...))\",\"subgraph_callable-181ae9f5-6ae7-4253-9958-fbb9b258(subgraph_callable-9c68981c-e41b-4493-ad58-861823d7(...))\",\"_\",\"_\",\"mean_combine([_, _])\",\"mean_combine([_, _])\",\"subgraph_callable-181ae9f5-6ae7-4253-9958-fbb9b258(subgraph_callable-9c68981c-e41b-4493-ad58-861823d7(...))\",\"subgraph_callable-181ae9f5-6ae7-4253-9958-fbb9b258(subgraph_callable-9c68981c-e41b-4493-ad58-861823d7(...))\",\"_\",\"mean_combine([_, _])\",\"subgraph_callable-181ae9f5-6ae7-4253-9958-fbb9b258(subgraph_callable-9c68981c-e41b-4493-ad58-861823d7(...))\",\"_\",\"mean_combine([_, _])\",\"subgraph_callable-181ae9f5-6ae7-4253-9958-fbb9b258(subgraph_callable-9c68981c-e41b-4493-ad58-861823d7(...))\",\"_\",\"_\",\"mean_combine([_, _])\",\"mean_combine([_, _])\",\"_\",\"_\",\"subgraph_callable-181ae9f5-6ae7-4253-9958-fbb9b258(subgraph_callable-9c68981c-e41b-4493-ad58-861823d7(...))\",\"subgraph_callable-181ae9f5-6ae7-4253-9958-fbb9b258(subgraph_callable-9c68981c-e41b-4493-ad58-861823d7(...))\",\"mean_combine([_, _])\",\"mean_combine([_, _])\",\"_\",\"subgraph_callable-181ae9f5-6ae7-4253-9958-fbb9b258(subgraph_callable-9c68981c-e41b-4493-ad58-861823d7(...))\",\"_\",\"mean_combine([_, _])\",\"subgraph_callable-181ae9f5-6ae7-4253-9958-fbb9b258(subgraph_callable-9c68981c-e41b-4493-ad58-861823d7(...))\",\"mean_combine([_, _])\",\"_\",\"subgraph_callable-181ae9f5-6ae7-4253-9958-fbb9b258(subgraph_callable-9c68981c-e41b-4493-ad58-861823d7(...))\",\"subgraph_callable-181ae9f5-6ae7-4253-9958-fbb9b258(subgraph_callable-9c68981c-e41b-4493-ad58-861823d7(...))\",\"mean_combine([_, _])\",\"subgraph_callable-181ae9f5-6ae7-4253-9958-fbb9b258(subgraph_callable-9c68981c-e41b-4493-ad58-861823d7(...))\",\"_\",\"mean_combine([_, _])\",\"subgraph_callable-181ae9f5-6ae7-4253-9958-fbb9b258(subgraph_callable-9c68981c-e41b-4493-ad58-861823d7(...))\",\"_\",\"_\",\"mean_combine([_, _])\",\"mean_combine([_, _])\",\"subgraph_callable-181ae9f5-6ae7-4253-9958-fbb9b258(subgraph_callable-9c68981c-e41b-4493-ad58-861823d7(...))\",\"subgraph_callable-181ae9f5-6ae7-4253-9958-fbb9b258(subgraph_callable-9c68981c-e41b-4493-ad58-861823d7(...))\",\"_\",\"mean_combine([_, _])\",\"_\",\"subgraph_callable-181ae9f5-6ae7-4253-9958-fbb9b258(subgraph_callable-9c68981c-e41b-4493-ad58-861823d7(...))\",\"mean_combine([_, _])\",\"_\",\"_\",\"subgraph_callable-181ae9f5-6ae7-4253-9958-fbb9b258(subgraph_callable-9c68981c-e41b-4493-ad58-861823d7(...))\",\"mean_combine([_, _])\",\"mean_combine([_, _])\",\"subgraph_callable-181ae9f5-6ae7-4253-9958-fbb9b258(subgraph_callable-9c68981c-e41b-4493-ad58-861823d7(...))\",\"subgraph_callable-181ae9f5-6ae7-4253-9958-fbb9b258(subgraph_callable-9c68981c-e41b-4493-ad58-861823d7(...))\",\"_\",\"mean_combine([_, _])\",\"subgraph_callable-181ae9f5-6ae7-4253-9958-fbb9b258(subgraph_callable-9c68981c-e41b-4493-ad58-861823d7(...))\",\"_\",\"mean_combine([_, _])\",\"subgraph_callable-181ae9f5-6ae7-4253-9958-fbb9b258(subgraph_callable-9c68981c-e41b-4493-ad58-861823d7(...))\",\"_\",\"mean_combine([_, _])\",\"subgraph_callable-181ae9f5-6ae7-4253-9958-fbb9b258(subgraph_callable-9c68981c-e41b-4493-ad58-861823d7(...))\",\"_\",\"_\",\"mean_combine([_, _])\",\"mean_combine([_, _])\",\"subgraph_callable-181ae9f5-6ae7-4253-9958-fbb9b258(subgraph_callable-9c68981c-e41b-4493-ad58-861823d7(...))\",\"subgraph_callable-181ae9f5-6ae7-4253-9958-fbb9b258(subgraph_callable-9c68981c-e41b-4493-ad58-861823d7(...))\",\"_\",\"_\",\"_\",\"mean_combine([_, _])\",\"mean_combine([_, _])\",\"mean_combine([_, _])\",\"subgraph_callable-181ae9f5-6ae7-4253-9958-fbb9b258(subgraph_callable-9c68981c-e41b-4493-ad58-861823d7(...))\",\"subgraph_callable-181ae9f5-6ae7-4253-9958-fbb9b258(subgraph_callable-9c68981c-e41b-4493-ad58-861823d7(...))\",\"_\",\"subgraph_callable-181ae9f5-6ae7-4253-9958-fbb9b258(subgraph_callable-9c68981c-e41b-4493-ad58-861823d7(...))\",\"mean_combine([_, _])\",\"subgraph_callable-181ae9f5-6ae7-4253-9958-fbb9b258(subgraph_callable-9c68981c-e41b-4493-ad58-861823d7(...))\",\"_\",\"mean_combine([_, _])\",\"subgraph_callable-181ae9f5-6ae7-4253-9958-fbb9b258(subgraph_callable-9c68981c-e41b-4493-ad58-861823d7(...))\",\"_\",\"mean_combine([_, _])\",\"subgraph_callable-181ae9f5-6ae7-4253-9958-fbb9b258(subgraph_callable-9c68981c-e41b-4493-ad58-861823d7(...))\",\"_\",\"mean_combine([_, _])\",\"subgraph_callable-181ae9f5-6ae7-4253-9958-fbb9b258(subgraph_callable-9c68981c-e41b-4493-ad58-861823d7(...))\",\"_\",\"_\",\"mean_combine([_, _])\",\"mean_combine([_, _])\",\"subgraph_callable-181ae9f5-6ae7-4253-9958-fbb9b258(subgraph_callable-9c68981c-e41b-4493-ad58-861823d7(...))\",\"subgraph_callable-181ae9f5-6ae7-4253-9958-fbb9b258(subgraph_callable-9c68981c-e41b-4493-ad58-861823d7(...))\",\"_\",\"_\",\"_\",\"mean_combine([_, _])\",\"mean_combine([_, _])\",\"mean_combine([_, _])\",\"subgraph_callable-181ae9f5-6ae7-4253-9958-fbb9b258(subgraph_callable-9c68981c-e41b-4493-ad58-861823d7(...))\",\"subgraph_callable-181ae9f5-6ae7-4253-9958-fbb9b258(subgraph_callable-9c68981c-e41b-4493-ad58-861823d7(...))\",\"subgraph_callable-181ae9f5-6ae7-4253-9958-fbb9b258(subgraph_callable-9c68981c-e41b-4493-ad58-861823d7(...))\",\"_\",\"mean_combine([_, _])\",\"subgraph_callable-181ae9f5-6ae7-4253-9958-fbb9b258(subgraph_callable-9c68981c-e41b-4493-ad58-861823d7(...))\",\"_\",\"_\",\"mean_combine([_, _])\",\"mean_combine([_, _])\",\"subgraph_callable-181ae9f5-6ae7-4253-9958-fbb9b258(subgraph_callable-9c68981c-e41b-4493-ad58-861823d7(...))\",\"subgraph_callable-181ae9f5-6ae7-4253-9958-fbb9b258(subgraph_callable-9c68981c-e41b-4493-ad58-861823d7(...))\",\"_\",\"mean_combine([_, _])\",\"_\",\"subgraph_callable-181ae9f5-6ae7-4253-9958-fbb9b258(subgraph_callable-9c68981c-e41b-4493-ad58-861823d7(...))\",\"_\",\"mean_combine([_, _])\",\"_\",\"mean_combine([_, _])\",\"subgraph_callable-181ae9f5-6ae7-4253-9958-fbb9b258(subgraph_callable-9c68981c-e41b-4493-ad58-861823d7(...))\",\"mean_combine([_, _])\",\"_\",\"subgraph_callable-181ae9f5-6ae7-4253-9958-fbb9b258(subgraph_callable-9c68981c-e41b-4493-ad58-861823d7(...))\",\"subgraph_callable-181ae9f5-6ae7-4253-9958-fbb9b258(subgraph_callable-9c68981c-e41b-4493-ad58-861823d7(...))\",\"mean_combine([_, _])\",\"subgraph_callable-181ae9f5-6ae7-4253-9958-fbb9b258(subgraph_callable-9c68981c-e41b-4493-ad58-861823d7(...))\",\"_\",\"mean_combine([_, _])\",\"mean_agg([_, _])\",\"subgraph_callable-181ae9f5-6ae7-4253-9958-fbb9b258(subgraph_callable-9c68981c-e41b-4493-ad58-861823d7(...))\",\"_\",\"mean_combine([_, _])\",\"mean_agg([_, _])\",\"subgraph_callable-181ae9f5-6ae7-4253-9958-fbb9b258(subgraph_callable-9c68981c-e41b-4493-ad58-861823d7(...))\",\"_\",\"mean_combine([_, _])\",\"mean_agg([_, _])\",\"subgraph_callable-181ae9f5-6ae7-4253-9958-fbb9b258(subgraph_callable-9c68981c-e41b-4493-ad58-861823d7(...))\",\"_\",\"_\",\"mean_combine([_, _])\",\"mean_combine([_, _])\",\"mean_agg([_, _])\",\"mean_agg([_, _])\",\"subgraph_callable-181ae9f5-6ae7-4253-9958-fbb9b258(subgraph_callable-9c68981c-e41b-4493-ad58-861823d7(...))\",\"subgraph_callable-181ae9f5-6ae7-4253-9958-fbb9b258(subgraph_callable-9c68981c-e41b-4493-ad58-861823d7(...))\",\"_\",\"mean_combine([_, _])\",\"mean_agg([_, _])\",\"subgraph_callable-181ae9f5-6ae7-4253-9958-fbb9b258(subgraph_callable-9c68981c-e41b-4493-ad58-861823d7(...))\",\"_\",\"mean_combine([_, _])\",\"mean_agg([_, _])\",\"subgraph_callable-181ae9f5-6ae7-4253-9958-fbb9b258(subgraph_callable-9c68981c-e41b-4493-ad58-861823d7(...))\",\"_\",\"mean_combine([_, _])\",\"_\",\"mean_combine([_, _])\",\"mean_agg([_, _])\",\"mean_agg([_, _])\",\"subgraph_callable-181ae9f5-6ae7-4253-9958-fbb9b258(subgraph_callable-9c68981c-e41b-4493-ad58-861823d7(...))\",\"subgraph_callable-181ae9f5-6ae7-4253-9958-fbb9b258(subgraph_callable-9c68981c-e41b-4493-ad58-861823d7(...))\",\"_\",\"_\",\"mean_combine([_, _])\",\"mean_combine([_, _])\",\"mean_agg([_, _])\",\"mean_agg([_, _])\",\"subgraph_callable-181ae9f5-6ae7-4253-9958-fbb9b258(subgraph_callable-9c68981c-e41b-4493-ad58-861823d7(...))\",\"subgraph_callable-181ae9f5-6ae7-4253-9958-fbb9b258(subgraph_callable-9c68981c-e41b-4493-ad58-861823d7(...))\",\"_\",\"subgraph_callable-181ae9f5-6ae7-4253-9958-fbb9b258(subgraph_callable-9c68981c-e41b-4493-ad58-861823d7(...))\",\"_\",\"_\",\"mean_combine([_, _])\",\"subgraph_callable-181ae9f5-6ae7-4253-9958-fbb9b258(subgraph_callable-9c68981c-e41b-4493-ad58-861823d7(...))\",\"mean_agg([_, _])\",\"subgraph_callable-181ae9f5-6ae7-4253-9958-fbb9b258(subgraph_callable-9c68981c-e41b-4493-ad58-861823d7(...))\",\"_\",\"subgraph_callable-181ae9f5-6ae7-4253-9958-fbb9b258(subgraph_callable-9c68981c-e41b-4493-ad58-861823d7(...))\",\"_\",\"subgraph_callable-181ae9f5-6ae7-4253-9958-fbb9b258(subgraph_callable-9c68981c-e41b-4493-ad58-861823d7(...))\",\"_\",\"subgraph_callable-181ae9f5-6ae7-4253-9958-fbb9b258(subgraph_callable-9c68981c-e41b-4493-ad58-861823d7(...))\",\"_\",\"subgraph_callable-181ae9f5-6ae7-4253-9958-fbb9b258(subgraph_callable-9c68981c-e41b-4493-ad58-861823d7(...))\",\"_\",\"subgraph_callable-181ae9f5-6ae7-4253-9958-fbb9b258(subgraph_callable-9c68981c-e41b-4493-ad58-861823d7(...))\",\"_\",\"_\",\"subgraph_callable-181ae9f5-6ae7-4253-9958-fbb9b258(subgraph_callable-9c68981c-e41b-4493-ad58-861823d7(...))\",\"subgraph_callable-181ae9f5-6ae7-4253-9958-fbb9b258(subgraph_callable-9c68981c-e41b-4493-ad58-861823d7(...))\",\"_\",\"_\",\"subgraph_callable-181ae9f5-6ae7-4253-9958-fbb9b258(subgraph_callable-9c68981c-e41b-4493-ad58-861823d7(...))\",\"subgraph_callable-181ae9f5-6ae7-4253-9958-fbb9b258(subgraph_callable-9c68981c-e41b-4493-ad58-861823d7(...))\",\"_\",\"_\",\"subgraph_callable-181ae9f5-6ae7-4253-9958-fbb9b258(subgraph_callable-9c68981c-e41b-4493-ad58-861823d7(...))\",\"subgraph_callable-181ae9f5-6ae7-4253-9958-fbb9b258(subgraph_callable-9c68981c-e41b-4493-ad58-861823d7(...))\",\"_\",\"subgraph_callable-181ae9f5-6ae7-4253-9958-fbb9b258(subgraph_callable-9c68981c-e41b-4493-ad58-861823d7(...))\",\"_\",\"_\",\"subgraph_callable-181ae9f5-6ae7-4253-9958-fbb9b258(subgraph_callable-9c68981c-e41b-4493-ad58-861823d7(...))\",\"subgraph_callable-181ae9f5-6ae7-4253-9958-fbb9b258(subgraph_callable-9c68981c-e41b-4493-ad58-861823d7(...))\",\"_\",\"subgraph_callable-181ae9f5-6ae7-4253-9958-fbb9b258(subgraph_callable-9c68981c-e41b-4493-ad58-861823d7(...))\",\"_\",\"subgraph_callable-181ae9f5-6ae7-4253-9958-fbb9b258(subgraph_callable-9c68981c-e41b-4493-ad58-861823d7(...))\",\"_\",\"subgraph_callable-181ae9f5-6ae7-4253-9958-fbb9b258(subgraph_callable-9c68981c-e41b-4493-ad58-861823d7(...))\",\"_\",\"_\",\"subgraph_callable-181ae9f5-6ae7-4253-9958-fbb9b258(subgraph_callable-9c68981c-e41b-4493-ad58-861823d7(...))\",\"subgraph_callable-181ae9f5-6ae7-4253-9958-fbb9b258(subgraph_callable-9c68981c-e41b-4493-ad58-861823d7(...))\",\"_\",\"subgraph_callable-181ae9f5-6ae7-4253-9958-fbb9b258(subgraph_callable-9c68981c-e41b-4493-ad58-861823d7(...))\",\"_\",\"subgraph_callable-181ae9f5-6ae7-4253-9958-fbb9b258(subgraph_callable-9c68981c-e41b-4493-ad58-861823d7(...))\",\"_\",\"subgraph_callable-181ae9f5-6ae7-4253-9958-fbb9b258(subgraph_callable-9c68981c-e41b-4493-ad58-861823d7(...))\",\"_\",\"subgraph_callable-181ae9f5-6ae7-4253-9958-fbb9b258(subgraph_callable-9c68981c-e41b-4493-ad58-861823d7(...))\",\"_\",\"subgraph_callable-181ae9f5-6ae7-4253-9958-fbb9b258(subgraph_callable-9c68981c-e41b-4493-ad58-861823d7(...))\",\"_\",\"subgraph_callable-181ae9f5-6ae7-4253-9958-fbb9b258(subgraph_callable-9c68981c-e41b-4493-ad58-861823d7(...))\",\"_\",\"_\",\"_\",\"subgraph_callable-181ae9f5-6ae7-4253-9958-fbb9b258(subgraph_callable-9c68981c-e41b-4493-ad58-861823d7(...))\",\"subgraph_callable-181ae9f5-6ae7-4253-9958-fbb9b258(subgraph_callable-9c68981c-e41b-4493-ad58-861823d7(...))\",\"subgraph_callable-181ae9f5-6ae7-4253-9958-fbb9b258(subgraph_callable-9c68981c-e41b-4493-ad58-861823d7(...))\",\"_\",\"subgraph_callable-181ae9f5-6ae7-4253-9958-fbb9b258(subgraph_callable-9c68981c-e41b-4493-ad58-861823d7(...))\",\"_\",\"subgraph_callable-181ae9f5-6ae7-4253-9958-fbb9b258(subgraph_callable-9c68981c-e41b-4493-ad58-861823d7(...))\",\"_\",\"subgraph_callable-181ae9f5-6ae7-4253-9958-fbb9b258(subgraph_callable-9c68981c-e41b-4493-ad58-861823d7(...))\",\"_\",\"subgraph_callable-181ae9f5-6ae7-4253-9958-fbb9b258(subgraph_callable-9c68981c-e41b-4493-ad58-861823d7(...))\",\"_\",\"subgraph_callable-181ae9f5-6ae7-4253-9958-fbb9b258(subgraph_callable-9c68981c-e41b-4493-ad58-861823d7(...))\",\"_\",\"subgraph_callable-181ae9f5-6ae7-4253-9958-fbb9b258(subgraph_callable-9c68981c-e41b-4493-ad58-861823d7(...))\",\"_\",\"mean_combine([_, _])\",\"mean_agg([_, _])\",\"subgraph_callable-181ae9f5-6ae7-4253-9958-fbb9b258(subgraph_callable-9c68981c-e41b-4493-ad58-861823d7(...))\",\"_\",\"mean_combine([_, _])\",\"mean_agg([_, _])\",\"subgraph_callable-181ae9f5-6ae7-4253-9958-fbb9b258(subgraph_callable-9c68981c-e41b-4493-ad58-861823d7(...))\",\"_\",\"_\",\"mean_combine([_, _])\",\"mean_combine([_, _])\",\"mean_agg([_, _])\",\"mean_agg([_, _])\",\"subgraph_callable-181ae9f5-6ae7-4253-9958-fbb9b258(subgraph_callable-9c68981c-e41b-4493-ad58-861823d7(...))\",\"subgraph_callable-181ae9f5-6ae7-4253-9958-fbb9b258(subgraph_callable-9c68981c-e41b-4493-ad58-861823d7(...))\",\"_\",\"mean_combine([_, _])\",\"_\",\"mean_agg([_, _])\",\"mean_combine([_, _])\",\"subgraph_callable-181ae9f5-6ae7-4253-9958-fbb9b258(subgraph_callable-9c68981c-e41b-4493-ad58-861823d7(...))\",\"mean_agg([_, _])\",\"_\",\"subgraph_callable-181ae9f5-6ae7-4253-9958-fbb9b258(subgraph_callable-9c68981c-e41b-4493-ad58-861823d7(...))\",\"mean_combine([_, _])\",\"mean_agg([_, _])\",\"subgraph_callable-181ae9f5-6ae7-4253-9958-fbb9b258(subgraph_callable-9c68981c-e41b-4493-ad58-861823d7(...))\",\"_\",\"_\",\"mean_combine([_, _])\",\"mean_combine([_, _])\",\"mean_agg([_, _])\",\"_\",\"mean_agg([_, _])\",\"subgraph_callable-181ae9f5-6ae7-4253-9958-fbb9b258(subgraph_callable-9c68981c-e41b-4493-ad58-861823d7(...))\",\"mean_combine([_, _])\",\"subgraph_callable-181ae9f5-6ae7-4253-9958-fbb9b258(subgraph_callable-9c68981c-e41b-4493-ad58-861823d7(...))\",\"mean_agg([_, _])\",\"subgraph_callable-181ae9f5-6ae7-4253-9958-fbb9b258(subgraph_callable-9c68981c-e41b-4493-ad58-861823d7(...))\",\"_\",\"mean_combine([_, _])\",\"mean_agg([_, _])\",\"subgraph_callable-181ae9f5-6ae7-4253-9958-fbb9b258(subgraph_callable-9c68981c-e41b-4493-ad58-861823d7(...))\",\"_\",\"mean_combine([_, _])\",\"mean_agg([_, _])\",\"subgraph_callable-181ae9f5-6ae7-4253-9958-fbb9b258(subgraph_callable-9c68981c-e41b-4493-ad58-861823d7(...))\",\"_\",\"mean_combine([_, _])\",\"mean_agg([_, _])\",\"_\",\"subgraph_callable-181ae9f5-6ae7-4253-9958-fbb9b258(subgraph_callable-9c68981c-e41b-4493-ad58-861823d7(...))\",\"mean_combine([_, _])\",\"mean_agg([_, _])\",\"subgraph_callable-181ae9f5-6ae7-4253-9958-fbb9b258(subgraph_callable-9c68981c-e41b-4493-ad58-861823d7(...))\",\"_\",\"mean_combine([_, _])\",\"mean_agg([_, _])\",\"subgraph_callable-181ae9f5-6ae7-4253-9958-fbb9b258(subgraph_callable-9c68981c-e41b-4493-ad58-861823d7(...))\",\"_\",\"mean_combine([_, _])\",\"mean_agg([_, _])\",\"subgraph_callable-181ae9f5-6ae7-4253-9958-fbb9b258(subgraph_callable-9c68981c-e41b-4493-ad58-861823d7(...))\",\"_\",\"mean_combine([_, _])\",\"mean_agg([_, _])\",\"subgraph_callable-181ae9f5-6ae7-4253-9958-fbb9b258(subgraph_callable-9c68981c-e41b-4493-ad58-861823d7(...))\",\"_\",\"mean_combine([_, _])\",\"mean_agg([_, _])\",\"_\",\"subgraph_callable-181ae9f5-6ae7-4253-9958-fbb9b258(subgraph_callable-9c68981c-e41b-4493-ad58-861823d7(...))\",\"mean_combine([_, _])\",\"_\",\"_\",\"mean_agg([_, _])\",\"mean_combine([_, _])\",\"mean_combine([_, _])\",\"subgraph_callable-181ae9f5-6ae7-4253-9958-fbb9b258(subgraph_callable-9c68981c-e41b-4493-ad58-861823d7(...))\",\"_\",\"mean_agg([_, _])\",\"_\",\"mean_agg([_, _])\",\"mean_combine([_, _])\",\"subgraph_callable-181ae9f5-6ae7-4253-9958-fbb9b258(subgraph_callable-9c68981c-e41b-4493-ad58-861823d7(...))\",\"mean_combine([_, _])\",\"mean_agg([_, _])\",\"mean_agg([_, _])\",\"_\",\"mean_combine([_, _])\",\"mean_agg([_, _])\",\"_\",\"_\",\"mean_combine([_, _])\",\"mean_combine([_, _])\",\"mean_agg([_, _])\",\"mean_agg([_, _])\",\"_\",\"mean_combine([_, _])\",\"mean_agg([_, _])\",\"_\",\"mean_combine([_, _])\",\"mean_agg([_, _])\",\"_\",\"mean_combine([_, _])\",\"mean_agg([_, _])\",\"_\",\"_\",\"mean_combine([_, _])\",\"mean_combine([_, _])\",\"mean_agg([_, _])\",\"mean_agg([_, _])\",\"_\",\"mean_combine([_, _])\",\"mean_agg([_, _])\",\"_\",\"_\",\"mean_combine([_, _])\",\"mean_combine([_, _])\",\"mean_agg([_, _])\",\"mean_agg([_, _])\",\"_\",\"mean_combine([_, _])\",\"mean_agg([_, _])\",\"_\",\"mean_combine([_, _])\",\"mean_agg([_, _])\"]],[\"color\",[\"#3B518A\",\"#3B518A\",\"#3B518A\",\"#3B518A\",\"#440154\",\"#440154\",\"#440154\",\"#440154\",\"#FDE724\",\"#FDE724\",\"#FDE724\",\"#FDE724\",\"#FDE724\",\"#FDE724\",\"#FDE724\",\"#FDE724\",\"#FDE724\",\"#FDE724\",\"#FDE724\",\"#FDE724\",\"#FDE724\",\"#FDE724\",\"#FDE724\",\"#FDE724\",\"#440154\",\"#FDE724\",\"#440154\",\"#440154\",\"#FDE724\",\"#FDE724\",\"#440154\",\"#440154\",\"#440154\",\"#FDE724\",\"#FDE724\",\"#440154\",\"#FDE724\",\"#440154\",\"#440154\",\"#440154\",\"#FDE724\",\"#FDE724\",\"#FDE724\",\"#440154\",\"#FDE724\",\"#440154\",\"#440154\",\"#FDE724\",\"#440154\",\"#FDE724\",\"#FDE724\",\"#440154\",\"#440154\",\"#5BC862\",\"#5BC862\",\"#FDE724\",\"#FDE724\",\"#208F8C\",\"#FDE724\",\"#440154\",\"#FDE724\",\"#440154\",\"#440154\",\"#FDE724\",\"#FDE724\",\"#440154\",\"#440154\",\"#FDE724\",\"#440154\",\"#FDE724\",\"#FDE724\",\"#440154\",\"#440154\",\"#FDE724\",\"#440154\",\"#440154\",\"#440154\",\"#FDE724\",\"#440154\",\"#FDE724\",\"#440154\",\"#FDE724\",\"#FDE724\",\"#440154\",\"#FDE724\",\"#FDE724\",\"#FDE724\",\"#440154\",\"#440154\",\"#FDE724\",\"#FDE724\",\"#440154\",\"#FDE724\",\"#440154\",\"#FDE724\",\"#440154\",\"#440154\",\"#FDE724\",\"#FDE724\",\"#440154\",\"#440154\",\"#FDE724\",\"#FDE724\",\"#440154\",\"#440154\",\"#440154\",\"#440154\",\"#440154\",\"#440154\",\"#FDE724\",\"#FDE724\",\"#FDE724\",\"#440154\",\"#FDE724\",\"#FDE724\",\"#FDE724\",\"#FDE724\",\"#440154\",\"#440154\",\"#FDE724\",\"#440154\",\"#FDE724\",\"#FDE724\",\"#440154\",\"#FDE724\",\"#440154\",\"#FDE724\",\"#440154\",\"#FDE724\",\"#440154\",\"#FDE724\",\"#440154\",\"#FDE724\",\"#440154\",\"#FDE724\",\"#440154\",\"#440154\",\"#FDE724\",\"#FDE724\",\"#440154\",\"#440154\",\"#440154\",\"#FDE724\",\"#FDE724\",\"#FDE724\",\"#440154\",\"#440154\",\"#FDE724\",\"#FDE724\",\"#440154\",\"#FDE724\",\"#440154\",\"#440154\",\"#FDE724\",\"#FDE724\",\"#440154\",\"#5BC862\",\"#FDE724\",\"#440154\",\"#5BC862\",\"#FDE724\",\"#440154\",\"#440154\",\"#5BC862\",\"#440154\",\"#5BC862\",\"#FDE724\",\"#5BC862\",\"#FDE724\",\"#FDE724\",\"#440154\",\"#440154\",\"#5BC862\",\"#5BC862\",\"#FDE724\",\"#FDE724\",\"#440154\",\"#5BC862\",\"#FDE724\",\"#440154\",\"#5BC862\",\"#FDE724\",\"#440154\",\"#440154\",\"#5BC862\",\"#5BC862\",\"#440154\",\"#440154\",\"#FDE724\",\"#FDE724\",\"#5BC862\",\"#5BC862\",\"#440154\",\"#FDE724\",\"#440154\",\"#5BC862\",\"#FDE724\",\"#5BC862\",\"#440154\",\"#FDE724\",\"#FDE724\",\"#5BC862\",\"#FDE724\",\"#440154\",\"#5BC862\",\"#FDE724\",\"#440154\",\"#440154\",\"#5BC862\",\"#5BC862\",\"#FDE724\",\"#FDE724\",\"#440154\",\"#5BC862\",\"#440154\",\"#FDE724\",\"#5BC862\",\"#440154\",\"#440154\",\"#FDE724\",\"#5BC862\",\"#5BC862\",\"#FDE724\",\"#FDE724\",\"#440154\",\"#5BC862\",\"#FDE724\",\"#440154\",\"#5BC862\",\"#FDE724\",\"#440154\",\"#5BC862\",\"#FDE724\",\"#440154\",\"#440154\",\"#5BC862\",\"#5BC862\",\"#FDE724\",\"#FDE724\",\"#440154\",\"#440154\",\"#440154\",\"#5BC862\",\"#5BC862\",\"#5BC862\",\"#FDE724\",\"#FDE724\",\"#440154\",\"#FDE724\",\"#5BC862\",\"#FDE724\",\"#440154\",\"#5BC862\",\"#FDE724\",\"#440154\",\"#5BC862\",\"#FDE724\",\"#440154\",\"#5BC862\",\"#FDE724\",\"#440154\",\"#440154\",\"#5BC862\",\"#5BC862\",\"#FDE724\",\"#FDE724\",\"#440154\",\"#440154\",\"#440154\",\"#5BC862\",\"#5BC862\",\"#5BC862\",\"#FDE724\",\"#FDE724\",\"#FDE724\",\"#440154\",\"#5BC862\",\"#FDE724\",\"#440154\",\"#440154\",\"#5BC862\",\"#5BC862\",\"#FDE724\",\"#FDE724\",\"#440154\",\"#5BC862\",\"#440154\",\"#FDE724\",\"#440154\",\"#5BC862\",\"#440154\",\"#5BC862\",\"#FDE724\",\"#5BC862\",\"#440154\",\"#FDE724\",\"#FDE724\",\"#5BC862\",\"#FDE724\",\"#440154\",\"#5BC862\",\"#208F8C\",\"#FDE724\",\"#440154\",\"#5BC862\",\"#208F8C\",\"#FDE724\",\"#440154\",\"#5BC862\",\"#208F8C\",\"#FDE724\",\"#440154\",\"#440154\",\"#5BC862\",\"#5BC862\",\"#208F8C\",\"#208F8C\",\"#FDE724\",\"#FDE724\",\"#440154\",\"#5BC862\",\"#208F8C\",\"#FDE724\",\"#440154\",\"#5BC862\",\"#208F8C\",\"#FDE724\",\"#440154\",\"#5BC862\",\"#440154\",\"#5BC862\",\"#208F8C\",\"#208F8C\",\"#FDE724\",\"#FDE724\",\"#440154\",\"#440154\",\"#5BC862\",\"#5BC862\",\"#208F8C\",\"#208F8C\",\"#FDE724\",\"#FDE724\",\"#440154\",\"#FDE724\",\"#440154\",\"#440154\",\"#5BC862\",\"#FDE724\",\"#208F8C\",\"#FDE724\",\"#440154\",\"#FDE724\",\"#440154\",\"#FDE724\",\"#440154\",\"#FDE724\",\"#440154\",\"#FDE724\",\"#440154\",\"#FDE724\",\"#440154\",\"#440154\",\"#FDE724\",\"#FDE724\",\"#440154\",\"#440154\",\"#FDE724\",\"#FDE724\",\"#440154\",\"#440154\",\"#FDE724\",\"#FDE724\",\"#440154\",\"#FDE724\",\"#440154\",\"#440154\",\"#FDE724\",\"#FDE724\",\"#440154\",\"#FDE724\",\"#440154\",\"#FDE724\",\"#440154\",\"#FDE724\",\"#440154\",\"#440154\",\"#FDE724\",\"#FDE724\",\"#440154\",\"#FDE724\",\"#440154\",\"#FDE724\",\"#440154\",\"#FDE724\",\"#440154\",\"#FDE724\",\"#440154\",\"#FDE724\",\"#440154\",\"#FDE724\",\"#440154\",\"#440154\",\"#440154\",\"#FDE724\",\"#FDE724\",\"#FDE724\",\"#440154\",\"#FDE724\",\"#440154\",\"#FDE724\",\"#440154\",\"#FDE724\",\"#440154\",\"#FDE724\",\"#440154\",\"#FDE724\",\"#440154\",\"#FDE724\",\"#440154\",\"#5BC862\",\"#208F8C\",\"#FDE724\",\"#440154\",\"#5BC862\",\"#208F8C\",\"#FDE724\",\"#440154\",\"#440154\",\"#5BC862\",\"#5BC862\",\"#208F8C\",\"#208F8C\",\"#FDE724\",\"#FDE724\",\"#440154\",\"#5BC862\",\"#440154\",\"#208F8C\",\"#5BC862\",\"#FDE724\",\"#208F8C\",\"#440154\",\"#FDE724\",\"#5BC862\",\"#208F8C\",\"#FDE724\",\"#440154\",\"#440154\",\"#5BC862\",\"#5BC862\",\"#208F8C\",\"#440154\",\"#208F8C\",\"#FDE724\",\"#5BC862\",\"#FDE724\",\"#208F8C\",\"#FDE724\",\"#440154\",\"#5BC862\",\"#208F8C\",\"#FDE724\",\"#440154\",\"#5BC862\",\"#208F8C\",\"#FDE724\",\"#440154\",\"#5BC862\",\"#208F8C\",\"#440154\",\"#FDE724\",\"#5BC862\",\"#208F8C\",\"#FDE724\",\"#440154\",\"#5BC862\",\"#208F8C\",\"#FDE724\",\"#440154\",\"#5BC862\",\"#208F8C\",\"#FDE724\",\"#440154\",\"#5BC862\",\"#208F8C\",\"#FDE724\",\"#440154\",\"#5BC862\",\"#208F8C\",\"#440154\",\"#FDE724\",\"#5BC862\",\"#440154\",\"#440154\",\"#208F8C\",\"#5BC862\",\"#5BC862\",\"#FDE724\",\"#440154\",\"#208F8C\",\"#440154\",\"#208F8C\",\"#5BC862\",\"#FDE724\",\"#5BC862\",\"#208F8C\",\"#208F8C\",\"#440154\",\"#5BC862\",\"#208F8C\",\"#440154\",\"#440154\",\"#5BC862\",\"#5BC862\",\"#208F8C\",\"#208F8C\",\"#440154\",\"#5BC862\",\"#208F8C\",\"#440154\",\"#5BC862\",\"#208F8C\",\"#440154\",\"#5BC862\",\"#208F8C\",\"#440154\",\"#440154\",\"#5BC862\",\"#5BC862\",\"#208F8C\",\"#208F8C\",\"#440154\",\"#5BC862\",\"#208F8C\",\"#440154\",\"#440154\",\"#5BC862\",\"#5BC862\",\"#208F8C\",\"#208F8C\",\"#440154\",\"#5BC862\",\"#208F8C\",\"#440154\",\"#5BC862\",\"#208F8C\"]],[\"key\",[\"('concatenate-from-value-wrap_with_array-getitem-bcffa7818f61a098ee1202f4bf1df378', 3, 0)\",\"('concatenate-from-value-wrap_with_array-getitem-bcffa7818f61a098ee1202f4bf1df378', 2, 0)\",\"('concatenate-from-value-wrap_with_array-getitem-bcffa7818f61a098ee1202f4bf1df378', 1, 0)\",\"('concatenate-from-value-wrap_with_array-getitem-bcffa7818f61a098ee1202f4bf1df378', 0, 0)\",\"('getitem-bcffa7818f61a098ee1202f4bf1df378', 3, 0)\",\"('getitem-bcffa7818f61a098ee1202f4bf1df378', 2, 0)\",\"('getitem-bcffa7818f61a098ee1202f4bf1df378', 1, 0)\",\"('getitem-bcffa7818f61a098ee1202f4bf1df378', 0, 0)\",\"('apply_transform-diffraction_pattern-getitem-integrate_fourier_space-mean_chunk-ef70a4df97c75ec87fa101fa6cf2693a', 3, 6, 5)\",\"('apply_transform-diffraction_pattern-getitem-integrate_fourier_space-mean_chunk-ef70a4df97c75ec87fa101fa6cf2693a', 3, 6, 4)\",\"('apply_transform-diffraction_pattern-getitem-integrate_fourier_space-mean_chunk-ef70a4df97c75ec87fa101fa6cf2693a', 3, 6, 3)\",\"('apply_transform-diffraction_pattern-getitem-integrate_fourier_space-mean_chunk-ef70a4df97c75ec87fa101fa6cf2693a', 3, 6, 2)\",\"('apply_transform-diffraction_pattern-getitem-integrate_fourier_space-mean_chunk-ef70a4df97c75ec87fa101fa6cf2693a', 3, 6, 1)\",\"('apply_transform-diffraction_pattern-getitem-integrate_fourier_space-mean_chunk-ef70a4df97c75ec87fa101fa6cf2693a', 3, 6, 0)\",\"('apply_transform-diffraction_pattern-getitem-integrate_fourier_space-mean_chunk-ef70a4df97c75ec87fa101fa6cf2693a', 3, 5, 6)\",\"('apply_transform-diffraction_pattern-getitem-integrate_fourier_space-mean_chunk-ef70a4df97c75ec87fa101fa6cf2693a', 3, 6, 6)\",\"('apply_transform-diffraction_pattern-getitem-integrate_fourier_space-mean_chunk-ef70a4df97c75ec87fa101fa6cf2693a', 3, 5, 3)\",\"('apply_transform-diffraction_pattern-getitem-integrate_fourier_space-mean_chunk-ef70a4df97c75ec87fa101fa6cf2693a', 3, 5, 0)\",\"('apply_transform-diffraction_pattern-getitem-integrate_fourier_space-mean_chunk-ef70a4df97c75ec87fa101fa6cf2693a', 3, 5, 4)\",\"('apply_transform-diffraction_pattern-getitem-integrate_fourier_space-mean_chunk-ef70a4df97c75ec87fa101fa6cf2693a', 3, 5, 1)\",\"('apply_transform-diffraction_pattern-getitem-integrate_fourier_space-mean_chunk-ef70a4df97c75ec87fa101fa6cf2693a', 3, 5, 2)\",\"('apply_transform-diffraction_pattern-getitem-integrate_fourier_space-mean_chunk-ef70a4df97c75ec87fa101fa6cf2693a', 2, 6, 5)\",\"('apply_transform-diffraction_pattern-getitem-integrate_fourier_space-mean_chunk-ef70a4df97c75ec87fa101fa6cf2693a', 1, 6, 5)\",\"('apply_transform-diffraction_pattern-getitem-integrate_fourier_space-mean_chunk-ef70a4df97c75ec87fa101fa6cf2693a', 0, 6, 5)\",\"('mean_chunk-ef70a4df97c75ec87fa101fa6cf2693a', 3, 6, 2)\",\"('apply_transform-diffraction_pattern-getitem-integrate_fourier_space-mean_chunk-ef70a4df97c75ec87fa101fa6cf2693a', 0, 6, 4)\",\"('mean_chunk-ef70a4df97c75ec87fa101fa6cf2693a', 3, 6, 3)\",\"('mean_chunk-ef70a4df97c75ec87fa101fa6cf2693a', 3, 6, 4)\",\"('apply_transform-diffraction_pattern-getitem-integrate_fourier_space-mean_chunk-ef70a4df97c75ec87fa101fa6cf2693a', 0, 6, 3)\",\"('apply_transform-diffraction_pattern-getitem-integrate_fourier_space-mean_chunk-ef70a4df97c75ec87fa101fa6cf2693a', 0, 6, 2)\",\"('mean_chunk-ef70a4df97c75ec87fa101fa6cf2693a', 3, 5, 3)\",\"('mean_chunk-ef70a4df97c75ec87fa101fa6cf2693a', 3, 6, 5)\",\"('mean_chunk-ef70a4df97c75ec87fa101fa6cf2693a', 3, 6, 1)\",\"('apply_transform-diffraction_pattern-getitem-integrate_fourier_space-mean_chunk-ef70a4df97c75ec87fa101fa6cf2693a', 0, 6, 1)\",\"('apply_transform-diffraction_pattern-getitem-integrate_fourier_space-mean_chunk-ef70a4df97c75ec87fa101fa6cf2693a', 0, 6, 0)\",\"('mean_chunk-ef70a4df97c75ec87fa101fa6cf2693a', 3, 5, 6)\",\"('apply_transform-diffraction_pattern-getitem-integrate_fourier_space-mean_chunk-ef70a4df97c75ec87fa101fa6cf2693a', 0, 5, 6)\",\"('mean_chunk-ef70a4df97c75ec87fa101fa6cf2693a', 3, 6, 0)\",\"('mean_chunk-ef70a4df97c75ec87fa101fa6cf2693a', 3, 5, 0)\",\"('mean_chunk-ef70a4df97c75ec87fa101fa6cf2693a', 3, 5, 4)\",\"('apply_transform-diffraction_pattern-getitem-integrate_fourier_space-mean_chunk-ef70a4df97c75ec87fa101fa6cf2693a', 0, 6, 6)\",\"('apply_transform-diffraction_pattern-getitem-integrate_fourier_space-mean_chunk-ef70a4df97c75ec87fa101fa6cf2693a', 0, 5, 3)\",\"('apply_transform-diffraction_pattern-getitem-integrate_fourier_space-mean_chunk-ef70a4df97c75ec87fa101fa6cf2693a', 0, 5, 0)\",\"('mean_chunk-ef70a4df97c75ec87fa101fa6cf2693a', 3, 5, 2)\",\"('apply_transform-diffraction_pattern-getitem-integrate_fourier_space-mean_chunk-ef70a4df97c75ec87fa101fa6cf2693a', 0, 5, 4)\",\"('mean_chunk-ef70a4df97c75ec87fa101fa6cf2693a', 3, 6, 6)\",\"('mean_chunk-ef70a4df97c75ec87fa101fa6cf2693a', 1, 6, 5)\",\"('apply_transform-diffraction_pattern-getitem-integrate_fourier_space-mean_chunk-ef70a4df97c75ec87fa101fa6cf2693a', 0, 5, 1)\",\"('mean_chunk-ef70a4df97c75ec87fa101fa6cf2693a', 2, 6, 5)\",\"('apply_transform-diffraction_pattern-getitem-integrate_fourier_space-mean_chunk-ef70a4df97c75ec87fa101fa6cf2693a', 0, 5, 5)\",\"('apply_transform-diffraction_pattern-getitem-integrate_fourier_space-mean_chunk-ef70a4df97c75ec87fa101fa6cf2693a', 0, 5, 2)\",\"('mean_chunk-ef70a4df97c75ec87fa101fa6cf2693a', 0, 6, 5)\",\"('mean_chunk-ef70a4df97c75ec87fa101fa6cf2693a', 3, 5, 1)\",\"('mean_combine-partial-ffefe4e19170c1d658f0c1f82087b8ce', 1, 6, 5)\",\"('mean_combine-partial-ffefe4e19170c1d658f0c1f82087b8ce', 0, 6, 5)\",\"('apply_transform-diffraction_pattern-getitem-integrate_fourier_space-mean_chunk-ef70a4df97c75ec87fa101fa6cf2693a', 0, 4, 6)\",\"('apply_transform-diffraction_pattern-getitem-integrate_fourier_space-mean_chunk-ef70a4df97c75ec87fa101fa6cf2693a', 0, 4, 4)\",\"('mean_agg-aggregate-e8f51f633b481f2304fe22f7556be1bf', 6, 5)\",\"('apply_transform-diffraction_pattern-getitem-integrate_fourier_space-mean_chunk-ef70a4df97c75ec87fa101fa6cf2693a', 0, 4, 1)\",\"('mean_chunk-ef70a4df97c75ec87fa101fa6cf2693a', 0, 6, 4)\",\"('apply_transform-diffraction_pattern-getitem-integrate_fourier_space-mean_chunk-ef70a4df97c75ec87fa101fa6cf2693a', 0, 4, 2)\",\"('mean_chunk-ef70a4df97c75ec87fa101fa6cf2693a', 0, 6, 0)\",\"('mean_chunk-ef70a4df97c75ec87fa101fa6cf2693a', 0, 6, 3)\",\"('apply_transform-diffraction_pattern-getitem-integrate_fourier_space-mean_chunk-ef70a4df97c75ec87fa101fa6cf2693a', 0, 4, 5)\",\"('apply_transform-diffraction_pattern-getitem-integrate_fourier_space-mean_chunk-ef70a4df97c75ec87fa101fa6cf2693a', 0, 4, 0)\",\"('mean_chunk-ef70a4df97c75ec87fa101fa6cf2693a', 0, 6, 1)\",\"('mean_chunk-ef70a4df97c75ec87fa101fa6cf2693a', 0, 5, 6)\",\"('apply_transform-diffraction_pattern-getitem-integrate_fourier_space-mean_chunk-ef70a4df97c75ec87fa101fa6cf2693a', 0, 4, 3)\",\"('mean_chunk-ef70a4df97c75ec87fa101fa6cf2693a', 0, 6, 2)\",\"('apply_transform-diffraction_pattern-getitem-integrate_fourier_space-mean_chunk-ef70a4df97c75ec87fa101fa6cf2693a', 0, 3, 6)\",\"('apply_transform-diffraction_pattern-getitem-integrate_fourier_space-mean_chunk-ef70a4df97c75ec87fa101fa6cf2693a', 0, 3, 3)\",\"('mean_chunk-ef70a4df97c75ec87fa101fa6cf2693a', 0, 5, 0)\",\"('mean_chunk-ef70a4df97c75ec87fa101fa6cf2693a', 0, 5, 1)\",\"('apply_transform-diffraction_pattern-getitem-integrate_fourier_space-mean_chunk-ef70a4df97c75ec87fa101fa6cf2693a', 0, 3, 0)\",\"('mean_chunk-ef70a4df97c75ec87fa101fa6cf2693a', 0, 6, 6)\",\"('mean_chunk-ef70a4df97c75ec87fa101fa6cf2693a', 0, 5, 3)\",\"('mean_chunk-ef70a4df97c75ec87fa101fa6cf2693a', 0, 5, 2)\",\"('apply_transform-diffraction_pattern-getitem-integrate_fourier_space-mean_chunk-ef70a4df97c75ec87fa101fa6cf2693a', 0, 3, 4)\",\"('mean_chunk-ef70a4df97c75ec87fa101fa6cf2693a', 0, 5, 4)\",\"('apply_transform-diffraction_pattern-getitem-integrate_fourier_space-mean_chunk-ef70a4df97c75ec87fa101fa6cf2693a', 0, 3, 1)\",\"('mean_chunk-ef70a4df97c75ec87fa101fa6cf2693a', 0, 5, 5)\",\"('apply_transform-diffraction_pattern-getitem-integrate_fourier_space-mean_chunk-ef70a4df97c75ec87fa101fa6cf2693a', 0, 3, 2)\",\"('apply_transform-diffraction_pattern-getitem-integrate_fourier_space-mean_chunk-ef70a4df97c75ec87fa101fa6cf2693a', 0, 3, 5)\",\"('mean_chunk-ef70a4df97c75ec87fa101fa6cf2693a', 0, 4, 1)\",\"('apply_transform-diffraction_pattern-getitem-integrate_fourier_space-mean_chunk-ef70a4df97c75ec87fa101fa6cf2693a', 0, 2, 6)\",\"('apply_transform-diffraction_pattern-getitem-integrate_fourier_space-mean_chunk-ef70a4df97c75ec87fa101fa6cf2693a', 0, 2, 4)\",\"('apply_transform-diffraction_pattern-getitem-integrate_fourier_space-mean_chunk-ef70a4df97c75ec87fa101fa6cf2693a', 0, 2, 1)\",\"('mean_chunk-ef70a4df97c75ec87fa101fa6cf2693a', 0, 4, 6)\",\"('mean_chunk-ef70a4df97c75ec87fa101fa6cf2693a', 0, 4, 4)\",\"('apply_transform-diffraction_pattern-getitem-integrate_fourier_space-mean_chunk-ef70a4df97c75ec87fa101fa6cf2693a', 0, 2, 2)\",\"('apply_transform-diffraction_pattern-getitem-integrate_fourier_space-mean_chunk-ef70a4df97c75ec87fa101fa6cf2693a', 0, 2, 5)\",\"('mean_chunk-ef70a4df97c75ec87fa101fa6cf2693a', 0, 4, 2)\",\"('apply_transform-diffraction_pattern-getitem-integrate_fourier_space-mean_chunk-ef70a4df97c75ec87fa101fa6cf2693a', 0, 2, 0)\",\"('mean_chunk-ef70a4df97c75ec87fa101fa6cf2693a', 0, 4, 5)\",\"('apply_transform-diffraction_pattern-getitem-integrate_fourier_space-mean_chunk-ef70a4df97c75ec87fa101fa6cf2693a', 0, 2, 3)\",\"('mean_chunk-ef70a4df97c75ec87fa101fa6cf2693a', 0, 4, 0)\",\"('mean_chunk-ef70a4df97c75ec87fa101fa6cf2693a', 0, 3, 6)\",\"('apply_transform-diffraction_pattern-getitem-integrate_fourier_space-mean_chunk-ef70a4df97c75ec87fa101fa6cf2693a', 0, 1, 6)\",\"('apply_transform-diffraction_pattern-getitem-integrate_fourier_space-mean_chunk-ef70a4df97c75ec87fa101fa6cf2693a', 0, 1, 5)\",\"('mean_chunk-ef70a4df97c75ec87fa101fa6cf2693a', 0, 4, 3)\",\"('mean_chunk-ef70a4df97c75ec87fa101fa6cf2693a', 0, 3, 0)\",\"('apply_transform-diffraction_pattern-getitem-integrate_fourier_space-mean_chunk-ef70a4df97c75ec87fa101fa6cf2693a', 0, 1, 2)\",\"('apply_transform-diffraction_pattern-getitem-integrate_fourier_space-mean_chunk-ef70a4df97c75ec87fa101fa6cf2693a', 0, 1, 3)\",\"('mean_chunk-ef70a4df97c75ec87fa101fa6cf2693a', 0, 3, 4)\",\"('mean_chunk-ef70a4df97c75ec87fa101fa6cf2693a', 0, 3, 2)\",\"('mean_chunk-ef70a4df97c75ec87fa101fa6cf2693a', 0, 3, 3)\",\"('mean_chunk-ef70a4df97c75ec87fa101fa6cf2693a', 0, 3, 1)\",\"('mean_chunk-ef70a4df97c75ec87fa101fa6cf2693a', 0, 3, 5)\",\"('mean_chunk-ef70a4df97c75ec87fa101fa6cf2693a', 0, 2, 6)\",\"('apply_transform-diffraction_pattern-getitem-integrate_fourier_space-mean_chunk-ef70a4df97c75ec87fa101fa6cf2693a', 0, 1, 0)\",\"('apply_transform-diffraction_pattern-getitem-integrate_fourier_space-mean_chunk-ef70a4df97c75ec87fa101fa6cf2693a', 0, 1, 4)\",\"('apply_transform-diffraction_pattern-getitem-integrate_fourier_space-mean_chunk-ef70a4df97c75ec87fa101fa6cf2693a', 0, 1, 1)\",\"('mean_chunk-ef70a4df97c75ec87fa101fa6cf2693a', 0, 2, 5)\",\"('apply_transform-diffraction_pattern-getitem-integrate_fourier_space-mean_chunk-ef70a4df97c75ec87fa101fa6cf2693a', 0, 0, 6)\",\"('apply_transform-diffraction_pattern-getitem-integrate_fourier_space-mean_chunk-ef70a4df97c75ec87fa101fa6cf2693a', 0, 0, 4)\",\"('apply_transform-diffraction_pattern-getitem-integrate_fourier_space-mean_chunk-ef70a4df97c75ec87fa101fa6cf2693a', 0, 0, 1)\",\"('apply_transform-diffraction_pattern-getitem-integrate_fourier_space-mean_chunk-ef70a4df97c75ec87fa101fa6cf2693a', 0, 0, 2)\",\"('mean_chunk-ef70a4df97c75ec87fa101fa6cf2693a', 0, 2, 2)\",\"('mean_chunk-ef70a4df97c75ec87fa101fa6cf2693a', 0, 2, 4)\",\"('apply_transform-diffraction_pattern-getitem-integrate_fourier_space-mean_chunk-ef70a4df97c75ec87fa101fa6cf2693a', 0, 0, 5)\",\"('mean_chunk-ef70a4df97c75ec87fa101fa6cf2693a', 0, 2, 1)\",\"('apply_transform-diffraction_pattern-getitem-integrate_fourier_space-mean_chunk-ef70a4df97c75ec87fa101fa6cf2693a', 0, 0, 0)\",\"('apply_transform-diffraction_pattern-getitem-integrate_fourier_space-mean_chunk-ef70a4df97c75ec87fa101fa6cf2693a', 0, 0, 3)\",\"('mean_chunk-ef70a4df97c75ec87fa101fa6cf2693a', 0, 2, 0)\",\"('apply_transform-diffraction_pattern-getitem-integrate_fourier_space-mean_chunk-ef70a4df97c75ec87fa101fa6cf2693a', 1, 6, 4)\",\"('mean_chunk-ef70a4df97c75ec87fa101fa6cf2693a', 0, 2, 3)\",\"('apply_transform-diffraction_pattern-getitem-integrate_fourier_space-mean_chunk-ef70a4df97c75ec87fa101fa6cf2693a', 1, 6, 3)\",\"('mean_chunk-ef70a4df97c75ec87fa101fa6cf2693a', 0, 1, 6)\",\"('apply_transform-diffraction_pattern-getitem-integrate_fourier_space-mean_chunk-ef70a4df97c75ec87fa101fa6cf2693a', 1, 6, 2)\",\"('mean_chunk-ef70a4df97c75ec87fa101fa6cf2693a', 0, 1, 5)\",\"('apply_transform-diffraction_pattern-getitem-integrate_fourier_space-mean_chunk-ef70a4df97c75ec87fa101fa6cf2693a', 1, 6, 1)\",\"('mean_chunk-ef70a4df97c75ec87fa101fa6cf2693a', 0, 0, 4)\",\"('apply_transform-diffraction_pattern-getitem-integrate_fourier_space-mean_chunk-ef70a4df97c75ec87fa101fa6cf2693a', 1, 6, 0)\",\"('mean_chunk-ef70a4df97c75ec87fa101fa6cf2693a', 0, 1, 2)\",\"('apply_transform-diffraction_pattern-getitem-integrate_fourier_space-mean_chunk-ef70a4df97c75ec87fa101fa6cf2693a', 1, 5, 6)\",\"('mean_chunk-ef70a4df97c75ec87fa101fa6cf2693a', 0, 0, 1)\",\"('mean_chunk-ef70a4df97c75ec87fa101fa6cf2693a', 0, 1, 4)\",\"('apply_transform-diffraction_pattern-getitem-integrate_fourier_space-mean_chunk-ef70a4df97c75ec87fa101fa6cf2693a', 1, 6, 6)\",\"('apply_transform-diffraction_pattern-getitem-integrate_fourier_space-mean_chunk-ef70a4df97c75ec87fa101fa6cf2693a', 1, 5, 3)\",\"('mean_chunk-ef70a4df97c75ec87fa101fa6cf2693a', 0, 1, 3)\",\"('mean_chunk-ef70a4df97c75ec87fa101fa6cf2693a', 0, 1, 0)\",\"('mean_chunk-ef70a4df97c75ec87fa101fa6cf2693a', 0, 0, 6)\",\"('apply_transform-diffraction_pattern-getitem-integrate_fourier_space-mean_chunk-ef70a4df97c75ec87fa101fa6cf2693a', 1, 5, 0)\",\"('apply_transform-diffraction_pattern-getitem-integrate_fourier_space-mean_chunk-ef70a4df97c75ec87fa101fa6cf2693a', 1, 5, 4)\",\"('apply_transform-diffraction_pattern-getitem-integrate_fourier_space-mean_chunk-ef70a4df97c75ec87fa101fa6cf2693a', 1, 5, 1)\",\"('mean_chunk-ef70a4df97c75ec87fa101fa6cf2693a', 0, 1, 1)\",\"('mean_chunk-ef70a4df97c75ec87fa101fa6cf2693a', 0, 0, 5)\",\"('apply_transform-diffraction_pattern-getitem-integrate_fourier_space-mean_chunk-ef70a4df97c75ec87fa101fa6cf2693a', 1, 5, 5)\",\"('apply_transform-diffraction_pattern-getitem-integrate_fourier_space-mean_chunk-ef70a4df97c75ec87fa101fa6cf2693a', 1, 5, 2)\",\"('mean_chunk-ef70a4df97c75ec87fa101fa6cf2693a', 0, 0, 3)\",\"('apply_transform-diffraction_pattern-getitem-integrate_fourier_space-mean_chunk-ef70a4df97c75ec87fa101fa6cf2693a', 1, 4, 6)\",\"('mean_chunk-ef70a4df97c75ec87fa101fa6cf2693a', 0, 0, 0)\",\"('mean_chunk-ef70a4df97c75ec87fa101fa6cf2693a', 0, 0, 2)\",\"('apply_transform-diffraction_pattern-getitem-integrate_fourier_space-mean_chunk-ef70a4df97c75ec87fa101fa6cf2693a', 1, 4, 4)\",\"('apply_transform-diffraction_pattern-getitem-integrate_fourier_space-mean_chunk-ef70a4df97c75ec87fa101fa6cf2693a', 1, 4, 1)\",\"('mean_chunk-ef70a4df97c75ec87fa101fa6cf2693a', 1, 6, 4)\",\"('mean_combine-partial-ffefe4e19170c1d658f0c1f82087b8ce', 0, 6, 4)\",\"('apply_transform-diffraction_pattern-getitem-integrate_fourier_space-mean_chunk-ef70a4df97c75ec87fa101fa6cf2693a', 1, 4, 2)\",\"('mean_chunk-ef70a4df97c75ec87fa101fa6cf2693a', 1, 6, 3)\",\"('mean_combine-partial-ffefe4e19170c1d658f0c1f82087b8ce', 0, 6, 3)\",\"('apply_transform-diffraction_pattern-getitem-integrate_fourier_space-mean_chunk-ef70a4df97c75ec87fa101fa6cf2693a', 1, 4, 5)\",\"('mean_chunk-ef70a4df97c75ec87fa101fa6cf2693a', 1, 6, 2)\",\"('mean_chunk-ef70a4df97c75ec87fa101fa6cf2693a', 1, 6, 1)\",\"('mean_combine-partial-ffefe4e19170c1d658f0c1f82087b8ce', 0, 6, 2)\",\"('mean_chunk-ef70a4df97c75ec87fa101fa6cf2693a', 1, 5, 6)\",\"('mean_combine-partial-ffefe4e19170c1d658f0c1f82087b8ce', 0, 6, 1)\",\"('apply_transform-diffraction_pattern-getitem-integrate_fourier_space-mean_chunk-ef70a4df97c75ec87fa101fa6cf2693a', 1, 4, 0)\",\"('mean_combine-partial-ffefe4e19170c1d658f0c1f82087b8ce', 0, 5, 6)\",\"('apply_transform-diffraction_pattern-getitem-integrate_fourier_space-mean_chunk-ef70a4df97c75ec87fa101fa6cf2693a', 1, 4, 3)\",\"('apply_transform-diffraction_pattern-getitem-integrate_fourier_space-mean_chunk-ef70a4df97c75ec87fa101fa6cf2693a', 1, 3, 6)\",\"('mean_chunk-ef70a4df97c75ec87fa101fa6cf2693a', 1, 6, 0)\",\"('mean_chunk-ef70a4df97c75ec87fa101fa6cf2693a', 1, 5, 3)\",\"('mean_combine-partial-ffefe4e19170c1d658f0c1f82087b8ce', 0, 6, 0)\",\"('mean_combine-partial-ffefe4e19170c1d658f0c1f82087b8ce', 0, 5, 3)\",\"('apply_transform-diffraction_pattern-getitem-integrate_fourier_space-mean_chunk-ef70a4df97c75ec87fa101fa6cf2693a', 1, 3, 3)\",\"('apply_transform-diffraction_pattern-getitem-integrate_fourier_space-mean_chunk-ef70a4df97c75ec87fa101fa6cf2693a', 1, 3, 0)\",\"('mean_chunk-ef70a4df97c75ec87fa101fa6cf2693a', 1, 6, 6)\",\"('mean_combine-partial-ffefe4e19170c1d658f0c1f82087b8ce', 0, 6, 6)\",\"('apply_transform-diffraction_pattern-getitem-integrate_fourier_space-mean_chunk-ef70a4df97c75ec87fa101fa6cf2693a', 1, 3, 4)\",\"('mean_chunk-ef70a4df97c75ec87fa101fa6cf2693a', 1, 5, 1)\",\"('mean_combine-partial-ffefe4e19170c1d658f0c1f82087b8ce', 0, 5, 1)\",\"('apply_transform-diffraction_pattern-getitem-integrate_fourier_space-mean_chunk-ef70a4df97c75ec87fa101fa6cf2693a', 1, 3, 1)\",\"('mean_chunk-ef70a4df97c75ec87fa101fa6cf2693a', 1, 4, 6)\",\"('mean_chunk-ef70a4df97c75ec87fa101fa6cf2693a', 1, 5, 4)\",\"('mean_combine-partial-ffefe4e19170c1d658f0c1f82087b8ce', 0, 4, 6)\",\"('mean_combine-partial-ffefe4e19170c1d658f0c1f82087b8ce', 0, 5, 4)\",\"('mean_chunk-ef70a4df97c75ec87fa101fa6cf2693a', 1, 5, 5)\",\"('mean_chunk-ef70a4df97c75ec87fa101fa6cf2693a', 1, 5, 0)\",\"('apply_transform-diffraction_pattern-getitem-integrate_fourier_space-mean_chunk-ef70a4df97c75ec87fa101fa6cf2693a', 1, 3, 2)\",\"('apply_transform-diffraction_pattern-getitem-integrate_fourier_space-mean_chunk-ef70a4df97c75ec87fa101fa6cf2693a', 1, 3, 5)\",\"('mean_combine-partial-ffefe4e19170c1d658f0c1f82087b8ce', 0, 5, 5)\",\"('mean_combine-partial-ffefe4e19170c1d658f0c1f82087b8ce', 0, 5, 0)\",\"('mean_chunk-ef70a4df97c75ec87fa101fa6cf2693a', 1, 4, 4)\",\"('apply_transform-diffraction_pattern-getitem-integrate_fourier_space-mean_chunk-ef70a4df97c75ec87fa101fa6cf2693a', 1, 2, 6)\",\"('mean_chunk-ef70a4df97c75ec87fa101fa6cf2693a', 1, 5, 2)\",\"('mean_combine-partial-ffefe4e19170c1d658f0c1f82087b8ce', 0, 4, 4)\",\"('apply_transform-diffraction_pattern-getitem-integrate_fourier_space-mean_chunk-ef70a4df97c75ec87fa101fa6cf2693a', 1, 2, 4)\",\"('mean_combine-partial-ffefe4e19170c1d658f0c1f82087b8ce', 0, 5, 2)\",\"('mean_chunk-ef70a4df97c75ec87fa101fa6cf2693a', 1, 4, 1)\",\"('apply_transform-diffraction_pattern-getitem-integrate_fourier_space-mean_chunk-ef70a4df97c75ec87fa101fa6cf2693a', 1, 2, 1)\",\"('apply_transform-diffraction_pattern-getitem-integrate_fourier_space-mean_chunk-ef70a4df97c75ec87fa101fa6cf2693a', 1, 2, 2)\",\"('mean_combine-partial-ffefe4e19170c1d658f0c1f82087b8ce', 0, 4, 1)\",\"('apply_transform-diffraction_pattern-getitem-integrate_fourier_space-mean_chunk-ef70a4df97c75ec87fa101fa6cf2693a', 1, 2, 5)\",\"('mean_chunk-ef70a4df97c75ec87fa101fa6cf2693a', 1, 4, 2)\",\"('mean_combine-partial-ffefe4e19170c1d658f0c1f82087b8ce', 0, 4, 2)\",\"('apply_transform-diffraction_pattern-getitem-integrate_fourier_space-mean_chunk-ef70a4df97c75ec87fa101fa6cf2693a', 1, 2, 0)\",\"('mean_chunk-ef70a4df97c75ec87fa101fa6cf2693a', 1, 4, 5)\",\"('mean_chunk-ef70a4df97c75ec87fa101fa6cf2693a', 1, 4, 3)\",\"('mean_combine-partial-ffefe4e19170c1d658f0c1f82087b8ce', 0, 4, 5)\",\"('mean_combine-partial-ffefe4e19170c1d658f0c1f82087b8ce', 0, 4, 3)\",\"('apply_transform-diffraction_pattern-getitem-integrate_fourier_space-mean_chunk-ef70a4df97c75ec87fa101fa6cf2693a', 1, 2, 3)\",\"('apply_transform-diffraction_pattern-getitem-integrate_fourier_space-mean_chunk-ef70a4df97c75ec87fa101fa6cf2693a', 1, 1, 6)\",\"('mean_chunk-ef70a4df97c75ec87fa101fa6cf2693a', 1, 3, 6)\",\"('mean_combine-partial-ffefe4e19170c1d658f0c1f82087b8ce', 0, 3, 6)\",\"('mean_chunk-ef70a4df97c75ec87fa101fa6cf2693a', 1, 4, 0)\",\"('apply_transform-diffraction_pattern-getitem-integrate_fourier_space-mean_chunk-ef70a4df97c75ec87fa101fa6cf2693a', 1, 1, 5)\",\"('mean_combine-partial-ffefe4e19170c1d658f0c1f82087b8ce', 0, 4, 0)\",\"('mean_chunk-ef70a4df97c75ec87fa101fa6cf2693a', 1, 3, 4)\",\"('mean_chunk-ef70a4df97c75ec87fa101fa6cf2693a', 1, 3, 0)\",\"('apply_transform-diffraction_pattern-getitem-integrate_fourier_space-mean_chunk-ef70a4df97c75ec87fa101fa6cf2693a', 1, 1, 2)\",\"('mean_combine-partial-ffefe4e19170c1d658f0c1f82087b8ce', 0, 3, 4)\",\"('mean_combine-partial-ffefe4e19170c1d658f0c1f82087b8ce', 0, 3, 0)\",\"('apply_transform-diffraction_pattern-getitem-integrate_fourier_space-mean_chunk-ef70a4df97c75ec87fa101fa6cf2693a', 1, 1, 3)\",\"('apply_transform-diffraction_pattern-getitem-integrate_fourier_space-mean_chunk-ef70a4df97c75ec87fa101fa6cf2693a', 1, 1, 0)\",\"('mean_chunk-ef70a4df97c75ec87fa101fa6cf2693a', 1, 3, 3)\",\"('mean_combine-partial-ffefe4e19170c1d658f0c1f82087b8ce', 0, 3, 3)\",\"('apply_transform-diffraction_pattern-getitem-integrate_fourier_space-mean_chunk-ef70a4df97c75ec87fa101fa6cf2693a', 1, 1, 4)\",\"('mean_chunk-ef70a4df97c75ec87fa101fa6cf2693a', 1, 3, 2)\",\"('mean_combine-partial-ffefe4e19170c1d658f0c1f82087b8ce', 0, 3, 2)\",\"('apply_transform-diffraction_pattern-getitem-integrate_fourier_space-mean_chunk-ef70a4df97c75ec87fa101fa6cf2693a', 1, 1, 1)\",\"('mean_chunk-ef70a4df97c75ec87fa101fa6cf2693a', 1, 3, 1)\",\"('mean_combine-partial-ffefe4e19170c1d658f0c1f82087b8ce', 0, 3, 1)\",\"('apply_transform-diffraction_pattern-getitem-integrate_fourier_space-mean_chunk-ef70a4df97c75ec87fa101fa6cf2693a', 1, 0, 6)\",\"('mean_chunk-ef70a4df97c75ec87fa101fa6cf2693a', 1, 2, 4)\",\"('mean_chunk-ef70a4df97c75ec87fa101fa6cf2693a', 1, 3, 5)\",\"('mean_combine-partial-ffefe4e19170c1d658f0c1f82087b8ce', 0, 2, 4)\",\"('mean_combine-partial-ffefe4e19170c1d658f0c1f82087b8ce', 0, 3, 5)\",\"('apply_transform-diffraction_pattern-getitem-integrate_fourier_space-mean_chunk-ef70a4df97c75ec87fa101fa6cf2693a', 1, 0, 4)\",\"('apply_transform-diffraction_pattern-getitem-integrate_fourier_space-mean_chunk-ef70a4df97c75ec87fa101fa6cf2693a', 1, 0, 1)\",\"('mean_chunk-ef70a4df97c75ec87fa101fa6cf2693a', 1, 2, 6)\",\"('mean_chunk-ef70a4df97c75ec87fa101fa6cf2693a', 1, 2, 1)\",\"('mean_chunk-ef70a4df97c75ec87fa101fa6cf2693a', 1, 2, 5)\",\"('mean_combine-partial-ffefe4e19170c1d658f0c1f82087b8ce', 0, 2, 6)\",\"('mean_combine-partial-ffefe4e19170c1d658f0c1f82087b8ce', 0, 2, 1)\",\"('mean_combine-partial-ffefe4e19170c1d658f0c1f82087b8ce', 0, 2, 5)\",\"('apply_transform-diffraction_pattern-getitem-integrate_fourier_space-mean_chunk-ef70a4df97c75ec87fa101fa6cf2693a', 1, 0, 2)\",\"('apply_transform-diffraction_pattern-getitem-integrate_fourier_space-mean_chunk-ef70a4df97c75ec87fa101fa6cf2693a', 1, 0, 5)\",\"('mean_chunk-ef70a4df97c75ec87fa101fa6cf2693a', 1, 2, 2)\",\"('apply_transform-diffraction_pattern-getitem-integrate_fourier_space-mean_chunk-ef70a4df97c75ec87fa101fa6cf2693a', 1, 0, 0)\",\"('mean_combine-partial-ffefe4e19170c1d658f0c1f82087b8ce', 0, 2, 2)\",\"('apply_transform-diffraction_pattern-getitem-integrate_fourier_space-mean_chunk-ef70a4df97c75ec87fa101fa6cf2693a', 1, 0, 3)\",\"('mean_chunk-ef70a4df97c75ec87fa101fa6cf2693a', 1, 2, 0)\",\"('mean_combine-partial-ffefe4e19170c1d658f0c1f82087b8ce', 0, 2, 0)\",\"('apply_transform-diffraction_pattern-getitem-integrate_fourier_space-mean_chunk-ef70a4df97c75ec87fa101fa6cf2693a', 2, 6, 4)\",\"('mean_chunk-ef70a4df97c75ec87fa101fa6cf2693a', 1, 2, 3)\",\"('mean_combine-partial-ffefe4e19170c1d658f0c1f82087b8ce', 0, 2, 3)\",\"('apply_transform-diffraction_pattern-getitem-integrate_fourier_space-mean_chunk-ef70a4df97c75ec87fa101fa6cf2693a', 2, 6, 3)\",\"('mean_chunk-ef70a4df97c75ec87fa101fa6cf2693a', 1, 1, 6)\",\"('mean_combine-partial-ffefe4e19170c1d658f0c1f82087b8ce', 0, 1, 6)\",\"('apply_transform-diffraction_pattern-getitem-integrate_fourier_space-mean_chunk-ef70a4df97c75ec87fa101fa6cf2693a', 2, 6, 2)\",\"('mean_chunk-ef70a4df97c75ec87fa101fa6cf2693a', 1, 1, 2)\",\"('mean_chunk-ef70a4df97c75ec87fa101fa6cf2693a', 1, 1, 5)\",\"('mean_combine-partial-ffefe4e19170c1d658f0c1f82087b8ce', 0, 1, 2)\",\"('mean_combine-partial-ffefe4e19170c1d658f0c1f82087b8ce', 0, 1, 5)\",\"('apply_transform-diffraction_pattern-getitem-integrate_fourier_space-mean_chunk-ef70a4df97c75ec87fa101fa6cf2693a', 2, 6, 1)\",\"('apply_transform-diffraction_pattern-getitem-integrate_fourier_space-mean_chunk-ef70a4df97c75ec87fa101fa6cf2693a', 2, 6, 0)\",\"('mean_chunk-ef70a4df97c75ec87fa101fa6cf2693a', 1, 1, 4)\",\"('mean_chunk-ef70a4df97c75ec87fa101fa6cf2693a', 1, 1, 0)\",\"('mean_chunk-ef70a4df97c75ec87fa101fa6cf2693a', 1, 1, 3)\",\"('mean_combine-partial-ffefe4e19170c1d658f0c1f82087b8ce', 0, 1, 4)\",\"('mean_combine-partial-ffefe4e19170c1d658f0c1f82087b8ce', 0, 1, 0)\",\"('mean_combine-partial-ffefe4e19170c1d658f0c1f82087b8ce', 0, 1, 3)\",\"('apply_transform-diffraction_pattern-getitem-integrate_fourier_space-mean_chunk-ef70a4df97c75ec87fa101fa6cf2693a', 2, 5, 6)\",\"('apply_transform-diffraction_pattern-getitem-integrate_fourier_space-mean_chunk-ef70a4df97c75ec87fa101fa6cf2693a', 2, 6, 6)\",\"('apply_transform-diffraction_pattern-getitem-integrate_fourier_space-mean_chunk-ef70a4df97c75ec87fa101fa6cf2693a', 2, 5, 3)\",\"('mean_chunk-ef70a4df97c75ec87fa101fa6cf2693a', 1, 1, 1)\",\"('mean_combine-partial-ffefe4e19170c1d658f0c1f82087b8ce', 0, 1, 1)\",\"('apply_transform-diffraction_pattern-getitem-integrate_fourier_space-mean_chunk-ef70a4df97c75ec87fa101fa6cf2693a', 2, 5, 0)\",\"('mean_chunk-ef70a4df97c75ec87fa101fa6cf2693a', 1, 0, 1)\",\"('mean_chunk-ef70a4df97c75ec87fa101fa6cf2693a', 1, 0, 6)\",\"('mean_combine-partial-ffefe4e19170c1d658f0c1f82087b8ce', 0, 0, 1)\",\"('mean_combine-partial-ffefe4e19170c1d658f0c1f82087b8ce', 0, 0, 6)\",\"('apply_transform-diffraction_pattern-getitem-integrate_fourier_space-mean_chunk-ef70a4df97c75ec87fa101fa6cf2693a', 2, 5, 4)\",\"('apply_transform-diffraction_pattern-getitem-integrate_fourier_space-mean_chunk-ef70a4df97c75ec87fa101fa6cf2693a', 2, 5, 1)\",\"('mean_chunk-ef70a4df97c75ec87fa101fa6cf2693a', 1, 0, 4)\",\"('mean_combine-partial-ffefe4e19170c1d658f0c1f82087b8ce', 0, 0, 4)\",\"('mean_chunk-ef70a4df97c75ec87fa101fa6cf2693a', 1, 0, 0)\",\"('apply_transform-diffraction_pattern-getitem-integrate_fourier_space-mean_chunk-ef70a4df97c75ec87fa101fa6cf2693a', 2, 5, 2)\",\"('mean_chunk-ef70a4df97c75ec87fa101fa6cf2693a', 1, 0, 2)\",\"('mean_combine-partial-ffefe4e19170c1d658f0c1f82087b8ce', 0, 0, 0)\",\"('mean_chunk-ef70a4df97c75ec87fa101fa6cf2693a', 1, 0, 5)\",\"('mean_combine-partial-ffefe4e19170c1d658f0c1f82087b8ce', 0, 0, 2)\",\"('apply_transform-diffraction_pattern-getitem-integrate_fourier_space-mean_chunk-ef70a4df97c75ec87fa101fa6cf2693a', 2, 5, 5)\",\"('mean_combine-partial-ffefe4e19170c1d658f0c1f82087b8ce', 0, 0, 5)\",\"('mean_chunk-ef70a4df97c75ec87fa101fa6cf2693a', 1, 0, 3)\",\"('apply_transform-diffraction_pattern-getitem-integrate_fourier_space-mean_chunk-ef70a4df97c75ec87fa101fa6cf2693a', 2, 4, 6)\",\"('apply_transform-diffraction_pattern-getitem-integrate_fourier_space-mean_chunk-ef70a4df97c75ec87fa101fa6cf2693a', 2, 4, 5)\",\"('mean_combine-partial-ffefe4e19170c1d658f0c1f82087b8ce', 0, 0, 3)\",\"('apply_transform-diffraction_pattern-getitem-integrate_fourier_space-mean_chunk-ef70a4df97c75ec87fa101fa6cf2693a', 2, 4, 2)\",\"('mean_chunk-ef70a4df97c75ec87fa101fa6cf2693a', 2, 6, 4)\",\"('mean_combine-partial-ffefe4e19170c1d658f0c1f82087b8ce', 1, 6, 4)\",\"('mean_agg-aggregate-e8f51f633b481f2304fe22f7556be1bf', 6, 4)\",\"('apply_transform-diffraction_pattern-getitem-integrate_fourier_space-mean_chunk-ef70a4df97c75ec87fa101fa6cf2693a', 2, 4, 3)\",\"('mean_chunk-ef70a4df97c75ec87fa101fa6cf2693a', 2, 6, 3)\",\"('mean_combine-partial-ffefe4e19170c1d658f0c1f82087b8ce', 1, 6, 3)\",\"('mean_agg-aggregate-e8f51f633b481f2304fe22f7556be1bf', 6, 3)\",\"('apply_transform-diffraction_pattern-getitem-integrate_fourier_space-mean_chunk-ef70a4df97c75ec87fa101fa6cf2693a', 2, 4, 0)\",\"('mean_chunk-ef70a4df97c75ec87fa101fa6cf2693a', 2, 6, 2)\",\"('mean_combine-partial-ffefe4e19170c1d658f0c1f82087b8ce', 1, 6, 2)\",\"('mean_agg-aggregate-e8f51f633b481f2304fe22f7556be1bf', 6, 2)\",\"('apply_transform-diffraction_pattern-getitem-integrate_fourier_space-mean_chunk-ef70a4df97c75ec87fa101fa6cf2693a', 2, 4, 1)\",\"('mean_chunk-ef70a4df97c75ec87fa101fa6cf2693a', 2, 6, 0)\",\"('mean_chunk-ef70a4df97c75ec87fa101fa6cf2693a', 2, 6, 6)\",\"('mean_combine-partial-ffefe4e19170c1d658f0c1f82087b8ce', 1, 6, 0)\",\"('mean_combine-partial-ffefe4e19170c1d658f0c1f82087b8ce', 1, 6, 6)\",\"('mean_agg-aggregate-e8f51f633b481f2304fe22f7556be1bf', 6, 0)\",\"('mean_agg-aggregate-e8f51f633b481f2304fe22f7556be1bf', 6, 6)\",\"('apply_transform-diffraction_pattern-getitem-integrate_fourier_space-mean_chunk-ef70a4df97c75ec87fa101fa6cf2693a', 2, 4, 4)\",\"('apply_transform-diffraction_pattern-getitem-integrate_fourier_space-mean_chunk-ef70a4df97c75ec87fa101fa6cf2693a', 2, 3, 6)\",\"('mean_chunk-ef70a4df97c75ec87fa101fa6cf2693a', 2, 6, 1)\",\"('mean_combine-partial-ffefe4e19170c1d658f0c1f82087b8ce', 1, 6, 1)\",\"('mean_agg-aggregate-e8f51f633b481f2304fe22f7556be1bf', 6, 1)\",\"('apply_transform-diffraction_pattern-getitem-integrate_fourier_space-mean_chunk-ef70a4df97c75ec87fa101fa6cf2693a', 2, 3, 0)\",\"('mean_chunk-ef70a4df97c75ec87fa101fa6cf2693a', 2, 5, 6)\",\"('mean_combine-partial-ffefe4e19170c1d658f0c1f82087b8ce', 1, 5, 6)\",\"('mean_agg-aggregate-e8f51f633b481f2304fe22f7556be1bf', 5, 6)\",\"('apply_transform-diffraction_pattern-getitem-integrate_fourier_space-mean_chunk-ef70a4df97c75ec87fa101fa6cf2693a', 2, 3, 3)\",\"('mean_chunk-ef70a4df97c75ec87fa101fa6cf2693a', 2, 5, 0)\",\"('mean_combine-partial-ffefe4e19170c1d658f0c1f82087b8ce', 1, 5, 0)\",\"('mean_chunk-ef70a4df97c75ec87fa101fa6cf2693a', 2, 5, 3)\",\"('mean_combine-partial-ffefe4e19170c1d658f0c1f82087b8ce', 1, 5, 3)\",\"('mean_agg-aggregate-e8f51f633b481f2304fe22f7556be1bf', 5, 0)\",\"('mean_agg-aggregate-e8f51f633b481f2304fe22f7556be1bf', 5, 3)\",\"('apply_transform-diffraction_pattern-getitem-integrate_fourier_space-mean_chunk-ef70a4df97c75ec87fa101fa6cf2693a', 2, 3, 5)\",\"('apply_transform-diffraction_pattern-getitem-integrate_fourier_space-mean_chunk-ef70a4df97c75ec87fa101fa6cf2693a', 2, 3, 2)\",\"('mean_chunk-ef70a4df97c75ec87fa101fa6cf2693a', 2, 5, 4)\",\"('mean_chunk-ef70a4df97c75ec87fa101fa6cf2693a', 2, 5, 1)\",\"('mean_combine-partial-ffefe4e19170c1d658f0c1f82087b8ce', 1, 5, 4)\",\"('mean_combine-partial-ffefe4e19170c1d658f0c1f82087b8ce', 1, 5, 1)\",\"('mean_agg-aggregate-e8f51f633b481f2304fe22f7556be1bf', 5, 1)\",\"('mean_agg-aggregate-e8f51f633b481f2304fe22f7556be1bf', 5, 4)\",\"('apply_transform-diffraction_pattern-getitem-integrate_fourier_space-mean_chunk-ef70a4df97c75ec87fa101fa6cf2693a', 2, 3, 4)\",\"('apply_transform-diffraction_pattern-getitem-integrate_fourier_space-mean_chunk-ef70a4df97c75ec87fa101fa6cf2693a', 2, 3, 1)\",\"('mean_chunk-ef70a4df97c75ec87fa101fa6cf2693a', 2, 5, 5)\",\"('apply_transform-diffraction_pattern-getitem-integrate_fourier_space-mean_chunk-ef70a4df97c75ec87fa101fa6cf2693a', 2, 2, 6)\",\"('mean_chunk-ef70a4df97c75ec87fa101fa6cf2693a', 2, 5, 2)\",\"('mean_chunk-ef70a4df97c75ec87fa101fa6cf2693a', 2, 4, 6)\",\"('mean_combine-partial-ffefe4e19170c1d658f0c1f82087b8ce', 1, 5, 2)\",\"('apply_transform-diffraction_pattern-getitem-integrate_fourier_space-mean_chunk-ef70a4df97c75ec87fa101fa6cf2693a', 2, 2, 1)\",\"('mean_agg-aggregate-e8f51f633b481f2304fe22f7556be1bf', 5, 2)\",\"('apply_transform-diffraction_pattern-getitem-integrate_fourier_space-mean_chunk-ef70a4df97c75ec87fa101fa6cf2693a', 2, 2, 3)\",\"('mean_chunk-ef70a4df97c75ec87fa101fa6cf2693a', 2, 4, 5)\",\"('apply_transform-diffraction_pattern-getitem-integrate_fourier_space-mean_chunk-ef70a4df97c75ec87fa101fa6cf2693a', 2, 2, 5)\",\"('mean_chunk-ef70a4df97c75ec87fa101fa6cf2693a', 2, 4, 2)\",\"('apply_transform-diffraction_pattern-getitem-integrate_fourier_space-mean_chunk-ef70a4df97c75ec87fa101fa6cf2693a', 2, 2, 0)\",\"('mean_chunk-ef70a4df97c75ec87fa101fa6cf2693a', 2, 4, 3)\",\"('apply_transform-diffraction_pattern-getitem-integrate_fourier_space-mean_chunk-ef70a4df97c75ec87fa101fa6cf2693a', 2, 2, 2)\",\"('mean_chunk-ef70a4df97c75ec87fa101fa6cf2693a', 2, 4, 0)\",\"('apply_transform-diffraction_pattern-getitem-integrate_fourier_space-mean_chunk-ef70a4df97c75ec87fa101fa6cf2693a', 2, 2, 4)\",\"('mean_chunk-ef70a4df97c75ec87fa101fa6cf2693a', 2, 4, 1)\",\"('apply_transform-diffraction_pattern-getitem-integrate_fourier_space-mean_chunk-ef70a4df97c75ec87fa101fa6cf2693a', 2, 1, 6)\",\"('mean_chunk-ef70a4df97c75ec87fa101fa6cf2693a', 2, 3, 6)\",\"('mean_chunk-ef70a4df97c75ec87fa101fa6cf2693a', 2, 4, 4)\",\"('apply_transform-diffraction_pattern-getitem-integrate_fourier_space-mean_chunk-ef70a4df97c75ec87fa101fa6cf2693a', 2, 1, 2)\",\"('apply_transform-diffraction_pattern-getitem-integrate_fourier_space-mean_chunk-ef70a4df97c75ec87fa101fa6cf2693a', 2, 1, 0)\",\"('mean_chunk-ef70a4df97c75ec87fa101fa6cf2693a', 2, 3, 0)\",\"('mean_chunk-ef70a4df97c75ec87fa101fa6cf2693a', 2, 3, 3)\",\"('apply_transform-diffraction_pattern-getitem-integrate_fourier_space-mean_chunk-ef70a4df97c75ec87fa101fa6cf2693a', 2, 1, 3)\",\"('apply_transform-diffraction_pattern-getitem-integrate_fourier_space-mean_chunk-ef70a4df97c75ec87fa101fa6cf2693a', 2, 1, 4)\",\"('mean_chunk-ef70a4df97c75ec87fa101fa6cf2693a', 2, 3, 5)\",\"('mean_chunk-ef70a4df97c75ec87fa101fa6cf2693a', 2, 3, 2)\",\"('apply_transform-diffraction_pattern-getitem-integrate_fourier_space-mean_chunk-ef70a4df97c75ec87fa101fa6cf2693a', 2, 1, 1)\",\"('apply_transform-diffraction_pattern-getitem-integrate_fourier_space-mean_chunk-ef70a4df97c75ec87fa101fa6cf2693a', 2, 1, 5)\",\"('mean_chunk-ef70a4df97c75ec87fa101fa6cf2693a', 2, 3, 4)\",\"('apply_transform-diffraction_pattern-getitem-integrate_fourier_space-mean_chunk-ef70a4df97c75ec87fa101fa6cf2693a', 2, 0, 6)\",\"('mean_chunk-ef70a4df97c75ec87fa101fa6cf2693a', 2, 2, 6)\",\"('mean_chunk-ef70a4df97c75ec87fa101fa6cf2693a', 2, 3, 1)\",\"('apply_transform-diffraction_pattern-getitem-integrate_fourier_space-mean_chunk-ef70a4df97c75ec87fa101fa6cf2693a', 2, 0, 4)\",\"('apply_transform-diffraction_pattern-getitem-integrate_fourier_space-mean_chunk-ef70a4df97c75ec87fa101fa6cf2693a', 2, 0, 1)\",\"('mean_chunk-ef70a4df97c75ec87fa101fa6cf2693a', 2, 2, 1)\",\"('apply_transform-diffraction_pattern-getitem-integrate_fourier_space-mean_chunk-ef70a4df97c75ec87fa101fa6cf2693a', 2, 0, 5)\",\"('mean_chunk-ef70a4df97c75ec87fa101fa6cf2693a', 2, 2, 3)\",\"('apply_transform-diffraction_pattern-getitem-integrate_fourier_space-mean_chunk-ef70a4df97c75ec87fa101fa6cf2693a', 2, 0, 2)\",\"('mean_chunk-ef70a4df97c75ec87fa101fa6cf2693a', 2, 2, 2)\",\"('apply_transform-diffraction_pattern-getitem-integrate_fourier_space-mean_chunk-ef70a4df97c75ec87fa101fa6cf2693a', 2, 0, 3)\",\"('mean_chunk-ef70a4df97c75ec87fa101fa6cf2693a', 2, 2, 0)\",\"('mean_chunk-ef70a4df97c75ec87fa101fa6cf2693a', 2, 2, 5)\",\"('apply_transform-diffraction_pattern-getitem-integrate_fourier_space-mean_chunk-ef70a4df97c75ec87fa101fa6cf2693a', 2, 0, 0)\",\"('apply_transform-diffraction_pattern-getitem-integrate_fourier_space-mean_chunk-ef70a4df97c75ec87fa101fa6cf2693a', 3, 5, 5)\",\"('mean_chunk-ef70a4df97c75ec87fa101fa6cf2693a', 2, 2, 4)\",\"('apply_transform-diffraction_pattern-getitem-integrate_fourier_space-mean_chunk-ef70a4df97c75ec87fa101fa6cf2693a', 3, 4, 6)\",\"('mean_chunk-ef70a4df97c75ec87fa101fa6cf2693a', 2, 1, 2)\",\"('apply_transform-diffraction_pattern-getitem-integrate_fourier_space-mean_chunk-ef70a4df97c75ec87fa101fa6cf2693a', 3, 4, 5)\",\"('mean_chunk-ef70a4df97c75ec87fa101fa6cf2693a', 2, 1, 6)\",\"('apply_transform-diffraction_pattern-getitem-integrate_fourier_space-mean_chunk-ef70a4df97c75ec87fa101fa6cf2693a', 3, 4, 2)\",\"('mean_chunk-ef70a4df97c75ec87fa101fa6cf2693a', 2, 1, 3)\",\"('apply_transform-diffraction_pattern-getitem-integrate_fourier_space-mean_chunk-ef70a4df97c75ec87fa101fa6cf2693a', 3, 4, 3)\",\"('mean_chunk-ef70a4df97c75ec87fa101fa6cf2693a', 2, 1, 0)\",\"('apply_transform-diffraction_pattern-getitem-integrate_fourier_space-mean_chunk-ef70a4df97c75ec87fa101fa6cf2693a', 3, 4, 0)\",\"('mean_chunk-ef70a4df97c75ec87fa101fa6cf2693a', 2, 1, 4)\",\"('apply_transform-diffraction_pattern-getitem-integrate_fourier_space-mean_chunk-ef70a4df97c75ec87fa101fa6cf2693a', 3, 4, 1)\",\"('mean_chunk-ef70a4df97c75ec87fa101fa6cf2693a', 2, 1, 1)\",\"('mean_chunk-ef70a4df97c75ec87fa101fa6cf2693a', 2, 1, 5)\",\"('mean_chunk-ef70a4df97c75ec87fa101fa6cf2693a', 2, 0, 6)\",\"('apply_transform-diffraction_pattern-getitem-integrate_fourier_space-mean_chunk-ef70a4df97c75ec87fa101fa6cf2693a', 3, 4, 4)\",\"('apply_transform-diffraction_pattern-getitem-integrate_fourier_space-mean_chunk-ef70a4df97c75ec87fa101fa6cf2693a', 3, 3, 6)\",\"('apply_transform-diffraction_pattern-getitem-integrate_fourier_space-mean_chunk-ef70a4df97c75ec87fa101fa6cf2693a', 3, 3, 0)\",\"('mean_chunk-ef70a4df97c75ec87fa101fa6cf2693a', 2, 0, 4)\",\"('apply_transform-diffraction_pattern-getitem-integrate_fourier_space-mean_chunk-ef70a4df97c75ec87fa101fa6cf2693a', 3, 3, 3)\",\"('mean_chunk-ef70a4df97c75ec87fa101fa6cf2693a', 2, 0, 1)\",\"('apply_transform-diffraction_pattern-getitem-integrate_fourier_space-mean_chunk-ef70a4df97c75ec87fa101fa6cf2693a', 3, 3, 5)\",\"('mean_chunk-ef70a4df97c75ec87fa101fa6cf2693a', 2, 0, 2)\",\"('apply_transform-diffraction_pattern-getitem-integrate_fourier_space-mean_chunk-ef70a4df97c75ec87fa101fa6cf2693a', 3, 3, 2)\",\"('mean_chunk-ef70a4df97c75ec87fa101fa6cf2693a', 2, 0, 5)\",\"('apply_transform-diffraction_pattern-getitem-integrate_fourier_space-mean_chunk-ef70a4df97c75ec87fa101fa6cf2693a', 3, 3, 4)\",\"('mean_chunk-ef70a4df97c75ec87fa101fa6cf2693a', 2, 0, 3)\",\"('apply_transform-diffraction_pattern-getitem-integrate_fourier_space-mean_chunk-ef70a4df97c75ec87fa101fa6cf2693a', 3, 3, 1)\",\"('mean_chunk-ef70a4df97c75ec87fa101fa6cf2693a', 2, 0, 0)\",\"('apply_transform-diffraction_pattern-getitem-integrate_fourier_space-mean_chunk-ef70a4df97c75ec87fa101fa6cf2693a', 3, 2, 6)\",\"('mean_chunk-ef70a4df97c75ec87fa101fa6cf2693a', 3, 5, 5)\",\"('mean_combine-partial-ffefe4e19170c1d658f0c1f82087b8ce', 1, 5, 5)\",\"('mean_agg-aggregate-e8f51f633b481f2304fe22f7556be1bf', 5, 5)\",\"('apply_transform-diffraction_pattern-getitem-integrate_fourier_space-mean_chunk-ef70a4df97c75ec87fa101fa6cf2693a', 3, 2, 1)\",\"('mean_chunk-ef70a4df97c75ec87fa101fa6cf2693a', 3, 4, 6)\",\"('mean_combine-partial-ffefe4e19170c1d658f0c1f82087b8ce', 1, 4, 6)\",\"('mean_agg-aggregate-e8f51f633b481f2304fe22f7556be1bf', 4, 6)\",\"('apply_transform-diffraction_pattern-getitem-integrate_fourier_space-mean_chunk-ef70a4df97c75ec87fa101fa6cf2693a', 3, 2, 3)\",\"('mean_chunk-ef70a4df97c75ec87fa101fa6cf2693a', 3, 4, 2)\",\"('mean_chunk-ef70a4df97c75ec87fa101fa6cf2693a', 3, 4, 3)\",\"('mean_combine-partial-ffefe4e19170c1d658f0c1f82087b8ce', 1, 4, 2)\",\"('mean_combine-partial-ffefe4e19170c1d658f0c1f82087b8ce', 1, 4, 3)\",\"('mean_agg-aggregate-e8f51f633b481f2304fe22f7556be1bf', 4, 2)\",\"('mean_agg-aggregate-e8f51f633b481f2304fe22f7556be1bf', 4, 3)\",\"('apply_transform-diffraction_pattern-getitem-integrate_fourier_space-mean_chunk-ef70a4df97c75ec87fa101fa6cf2693a', 3, 2, 5)\",\"('apply_transform-diffraction_pattern-getitem-integrate_fourier_space-mean_chunk-ef70a4df97c75ec87fa101fa6cf2693a', 3, 2, 0)\",\"('mean_chunk-ef70a4df97c75ec87fa101fa6cf2693a', 3, 4, 5)\",\"('mean_combine-partial-ffefe4e19170c1d658f0c1f82087b8ce', 1, 4, 5)\",\"('mean_chunk-ef70a4df97c75ec87fa101fa6cf2693a', 3, 4, 1)\",\"('mean_agg-aggregate-e8f51f633b481f2304fe22f7556be1bf', 4, 5)\",\"('mean_combine-partial-ffefe4e19170c1d658f0c1f82087b8ce', 1, 4, 1)\",\"('apply_transform-diffraction_pattern-getitem-integrate_fourier_space-mean_chunk-ef70a4df97c75ec87fa101fa6cf2693a', 3, 2, 2)\",\"('mean_agg-aggregate-e8f51f633b481f2304fe22f7556be1bf', 4, 1)\",\"('mean_chunk-ef70a4df97c75ec87fa101fa6cf2693a', 3, 4, 0)\",\"('apply_transform-diffraction_pattern-getitem-integrate_fourier_space-mean_chunk-ef70a4df97c75ec87fa101fa6cf2693a', 3, 2, 4)\",\"('mean_combine-partial-ffefe4e19170c1d658f0c1f82087b8ce', 1, 4, 0)\",\"('mean_agg-aggregate-e8f51f633b481f2304fe22f7556be1bf', 4, 0)\",\"('apply_transform-diffraction_pattern-getitem-integrate_fourier_space-mean_chunk-ef70a4df97c75ec87fa101fa6cf2693a', 3, 1, 6)\",\"('mean_chunk-ef70a4df97c75ec87fa101fa6cf2693a', 3, 4, 4)\",\"('mean_chunk-ef70a4df97c75ec87fa101fa6cf2693a', 3, 3, 0)\",\"('mean_combine-partial-ffefe4e19170c1d658f0c1f82087b8ce', 1, 4, 4)\",\"('mean_combine-partial-ffefe4e19170c1d658f0c1f82087b8ce', 1, 3, 0)\",\"('mean_agg-aggregate-e8f51f633b481f2304fe22f7556be1bf', 4, 4)\",\"('mean_chunk-ef70a4df97c75ec87fa101fa6cf2693a', 3, 3, 6)\",\"('mean_agg-aggregate-e8f51f633b481f2304fe22f7556be1bf', 3, 0)\",\"('apply_transform-diffraction_pattern-getitem-integrate_fourier_space-mean_chunk-ef70a4df97c75ec87fa101fa6cf2693a', 3, 1, 2)\",\"('mean_combine-partial-ffefe4e19170c1d658f0c1f82087b8ce', 1, 3, 6)\",\"('apply_transform-diffraction_pattern-getitem-integrate_fourier_space-mean_chunk-ef70a4df97c75ec87fa101fa6cf2693a', 3, 1, 0)\",\"('mean_agg-aggregate-e8f51f633b481f2304fe22f7556be1bf', 3, 6)\",\"('apply_transform-diffraction_pattern-getitem-integrate_fourier_space-mean_chunk-ef70a4df97c75ec87fa101fa6cf2693a', 3, 1, 3)\",\"('mean_chunk-ef70a4df97c75ec87fa101fa6cf2693a', 3, 3, 3)\",\"('mean_combine-partial-ffefe4e19170c1d658f0c1f82087b8ce', 1, 3, 3)\",\"('mean_agg-aggregate-e8f51f633b481f2304fe22f7556be1bf', 3, 3)\",\"('apply_transform-diffraction_pattern-getitem-integrate_fourier_space-mean_chunk-ef70a4df97c75ec87fa101fa6cf2693a', 3, 1, 4)\",\"('mean_chunk-ef70a4df97c75ec87fa101fa6cf2693a', 3, 3, 5)\",\"('mean_combine-partial-ffefe4e19170c1d658f0c1f82087b8ce', 1, 3, 5)\",\"('mean_agg-aggregate-e8f51f633b481f2304fe22f7556be1bf', 3, 5)\",\"('apply_transform-diffraction_pattern-getitem-integrate_fourier_space-mean_chunk-ef70a4df97c75ec87fa101fa6cf2693a', 3, 1, 1)\",\"('mean_chunk-ef70a4df97c75ec87fa101fa6cf2693a', 3, 3, 1)\",\"('mean_combine-partial-ffefe4e19170c1d658f0c1f82087b8ce', 1, 3, 1)\",\"('mean_agg-aggregate-e8f51f633b481f2304fe22f7556be1bf', 3, 1)\",\"('mean_chunk-ef70a4df97c75ec87fa101fa6cf2693a', 3, 3, 2)\",\"('apply_transform-diffraction_pattern-getitem-integrate_fourier_space-mean_chunk-ef70a4df97c75ec87fa101fa6cf2693a', 3, 1, 5)\",\"('mean_combine-partial-ffefe4e19170c1d658f0c1f82087b8ce', 1, 3, 2)\",\"('mean_agg-aggregate-e8f51f633b481f2304fe22f7556be1bf', 3, 2)\",\"('apply_transform-diffraction_pattern-getitem-integrate_fourier_space-mean_chunk-ef70a4df97c75ec87fa101fa6cf2693a', 3, 0, 6)\",\"('mean_chunk-ef70a4df97c75ec87fa101fa6cf2693a', 3, 3, 4)\",\"('mean_combine-partial-ffefe4e19170c1d658f0c1f82087b8ce', 1, 3, 4)\",\"('mean_agg-aggregate-e8f51f633b481f2304fe22f7556be1bf', 3, 4)\",\"('apply_transform-diffraction_pattern-getitem-integrate_fourier_space-mean_chunk-ef70a4df97c75ec87fa101fa6cf2693a', 3, 0, 4)\",\"('mean_chunk-ef70a4df97c75ec87fa101fa6cf2693a', 3, 2, 3)\",\"('mean_combine-partial-ffefe4e19170c1d658f0c1f82087b8ce', 1, 2, 3)\",\"('mean_agg-aggregate-e8f51f633b481f2304fe22f7556be1bf', 2, 3)\",\"('apply_transform-diffraction_pattern-getitem-integrate_fourier_space-mean_chunk-ef70a4df97c75ec87fa101fa6cf2693a', 3, 0, 1)\",\"('mean_chunk-ef70a4df97c75ec87fa101fa6cf2693a', 3, 2, 6)\",\"('mean_combine-partial-ffefe4e19170c1d658f0c1f82087b8ce', 1, 2, 6)\",\"('mean_agg-aggregate-e8f51f633b481f2304fe22f7556be1bf', 2, 6)\",\"('apply_transform-diffraction_pattern-getitem-integrate_fourier_space-mean_chunk-ef70a4df97c75ec87fa101fa6cf2693a', 3, 0, 5)\",\"('mean_chunk-ef70a4df97c75ec87fa101fa6cf2693a', 3, 2, 0)\",\"('mean_combine-partial-ffefe4e19170c1d658f0c1f82087b8ce', 1, 2, 0)\",\"('mean_agg-aggregate-e8f51f633b481f2304fe22f7556be1bf', 2, 0)\",\"('mean_chunk-ef70a4df97c75ec87fa101fa6cf2693a', 3, 2, 5)\",\"('apply_transform-diffraction_pattern-getitem-integrate_fourier_space-mean_chunk-ef70a4df97c75ec87fa101fa6cf2693a', 3, 0, 2)\",\"('mean_combine-partial-ffefe4e19170c1d658f0c1f82087b8ce', 1, 2, 5)\",\"('mean_chunk-ef70a4df97c75ec87fa101fa6cf2693a', 3, 2, 2)\",\"('mean_chunk-ef70a4df97c75ec87fa101fa6cf2693a', 3, 2, 4)\",\"('mean_agg-aggregate-e8f51f633b481f2304fe22f7556be1bf', 2, 5)\",\"('mean_combine-partial-ffefe4e19170c1d658f0c1f82087b8ce', 1, 2, 2)\",\"('mean_combine-partial-ffefe4e19170c1d658f0c1f82087b8ce', 1, 2, 4)\",\"('apply_transform-diffraction_pattern-getitem-integrate_fourier_space-mean_chunk-ef70a4df97c75ec87fa101fa6cf2693a', 3, 0, 3)\",\"('mean_chunk-ef70a4df97c75ec87fa101fa6cf2693a', 3, 1, 6)\",\"('mean_agg-aggregate-e8f51f633b481f2304fe22f7556be1bf', 2, 2)\",\"('mean_chunk-ef70a4df97c75ec87fa101fa6cf2693a', 3, 2, 1)\",\"('mean_agg-aggregate-e8f51f633b481f2304fe22f7556be1bf', 2, 4)\",\"('mean_combine-partial-ffefe4e19170c1d658f0c1f82087b8ce', 1, 1, 6)\",\"('apply_transform-diffraction_pattern-getitem-integrate_fourier_space-mean_chunk-ef70a4df97c75ec87fa101fa6cf2693a', 3, 0, 0)\",\"('mean_combine-partial-ffefe4e19170c1d658f0c1f82087b8ce', 1, 2, 1)\",\"('mean_agg-aggregate-e8f51f633b481f2304fe22f7556be1bf', 1, 6)\",\"('mean_agg-aggregate-e8f51f633b481f2304fe22f7556be1bf', 2, 1)\",\"('mean_chunk-ef70a4df97c75ec87fa101fa6cf2693a', 3, 1, 0)\",\"('mean_combine-partial-ffefe4e19170c1d658f0c1f82087b8ce', 1, 1, 0)\",\"('mean_agg-aggregate-e8f51f633b481f2304fe22f7556be1bf', 1, 0)\",\"('mean_chunk-ef70a4df97c75ec87fa101fa6cf2693a', 3, 1, 3)\",\"('mean_chunk-ef70a4df97c75ec87fa101fa6cf2693a', 3, 1, 2)\",\"('mean_combine-partial-ffefe4e19170c1d658f0c1f82087b8ce', 1, 1, 3)\",\"('mean_combine-partial-ffefe4e19170c1d658f0c1f82087b8ce', 1, 1, 2)\",\"('mean_agg-aggregate-e8f51f633b481f2304fe22f7556be1bf', 1, 3)\",\"('mean_agg-aggregate-e8f51f633b481f2304fe22f7556be1bf', 1, 2)\",\"('mean_chunk-ef70a4df97c75ec87fa101fa6cf2693a', 3, 1, 4)\",\"('mean_combine-partial-ffefe4e19170c1d658f0c1f82087b8ce', 1, 1, 4)\",\"('mean_agg-aggregate-e8f51f633b481f2304fe22f7556be1bf', 1, 4)\",\"('mean_chunk-ef70a4df97c75ec87fa101fa6cf2693a', 3, 1, 1)\",\"('mean_combine-partial-ffefe4e19170c1d658f0c1f82087b8ce', 1, 1, 1)\",\"('mean_agg-aggregate-e8f51f633b481f2304fe22f7556be1bf', 1, 1)\",\"('mean_chunk-ef70a4df97c75ec87fa101fa6cf2693a', 3, 1, 5)\",\"('mean_combine-partial-ffefe4e19170c1d658f0c1f82087b8ce', 1, 1, 5)\",\"('mean_agg-aggregate-e8f51f633b481f2304fe22f7556be1bf', 1, 5)\",\"('mean_chunk-ef70a4df97c75ec87fa101fa6cf2693a', 3, 0, 1)\",\"('mean_chunk-ef70a4df97c75ec87fa101fa6cf2693a', 3, 0, 6)\",\"('mean_combine-partial-ffefe4e19170c1d658f0c1f82087b8ce', 1, 0, 1)\",\"('mean_combine-partial-ffefe4e19170c1d658f0c1f82087b8ce', 1, 0, 6)\",\"('mean_agg-aggregate-e8f51f633b481f2304fe22f7556be1bf', 0, 1)\",\"('mean_agg-aggregate-e8f51f633b481f2304fe22f7556be1bf', 0, 6)\",\"('mean_chunk-ef70a4df97c75ec87fa101fa6cf2693a', 3, 0, 4)\",\"('mean_combine-partial-ffefe4e19170c1d658f0c1f82087b8ce', 1, 0, 4)\",\"('mean_agg-aggregate-e8f51f633b481f2304fe22f7556be1bf', 0, 4)\",\"('mean_chunk-ef70a4df97c75ec87fa101fa6cf2693a', 3, 0, 0)\",\"('mean_chunk-ef70a4df97c75ec87fa101fa6cf2693a', 3, 0, 2)\",\"('mean_combine-partial-ffefe4e19170c1d658f0c1f82087b8ce', 1, 0, 0)\",\"('mean_combine-partial-ffefe4e19170c1d658f0c1f82087b8ce', 1, 0, 2)\",\"('mean_agg-aggregate-e8f51f633b481f2304fe22f7556be1bf', 0, 0)\",\"('mean_agg-aggregate-e8f51f633b481f2304fe22f7556be1bf', 0, 2)\",\"('mean_chunk-ef70a4df97c75ec87fa101fa6cf2693a', 3, 0, 3)\",\"('mean_combine-partial-ffefe4e19170c1d658f0c1f82087b8ce', 1, 0, 3)\",\"('mean_agg-aggregate-e8f51f633b481f2304fe22f7556be1bf', 0, 3)\",\"('mean_chunk-ef70a4df97c75ec87fa101fa6cf2693a', 3, 0, 5)\",\"('mean_combine-partial-ffefe4e19170c1d658f0c1f82087b8ce', 1, 0, 5)\",\"('mean_agg-aggregate-e8f51f633b481f2304fe22f7556be1bf', 0, 5)\"]]]}}},\"view\":{\"type\":\"object\",\"name\":\"CDSView\",\"id\":\"p1040\",\"attributes\":{\"filter\":{\"type\":\"object\",\"name\":\"AllIndices\",\"id\":\"p1041\"}}},\"glyph\":{\"type\":\"object\",\"name\":\"Rect\",\"id\":\"p1036\",\"attributes\":{\"x\":{\"type\":\"field\",\"field\":\"x\"},\"y\":{\"type\":\"field\",\"field\":\"y\"},\"width\":{\"type\":\"field\",\"field\":\"width\"},\"height\":{\"type\":\"value\",\"value\":1},\"line_color\":{\"type\":\"value\",\"value\":\"gray\"},\"fill_color\":{\"type\":\"field\",\"field\":\"color\"},\"hatch_color\":{\"type\":\"field\",\"field\":\"color\"}}},\"nonselection_glyph\":{\"type\":\"object\",\"name\":\"Rect\",\"id\":\"p1037\",\"attributes\":{\"x\":{\"type\":\"field\",\"field\":\"x\"},\"y\":{\"type\":\"field\",\"field\":\"y\"},\"width\":{\"type\":\"field\",\"field\":\"width\"},\"height\":{\"type\":\"value\",\"value\":1},\"line_color\":{\"type\":\"value\",\"value\":\"gray\"},\"line_alpha\":{\"type\":\"value\",\"value\":0.1},\"fill_color\":{\"type\":\"field\",\"field\":\"color\"},\"fill_alpha\":{\"type\":\"value\",\"value\":0.1},\"hatch_color\":{\"type\":\"field\",\"field\":\"color\"},\"hatch_alpha\":{\"type\":\"value\",\"value\":0.1}}},\"muted_glyph\":{\"type\":\"object\",\"name\":\"Rect\",\"id\":\"p1038\",\"attributes\":{\"x\":{\"type\":\"field\",\"field\":\"x\"},\"y\":{\"type\":\"field\",\"field\":\"y\"},\"width\":{\"type\":\"field\",\"field\":\"width\"},\"height\":{\"type\":\"value\",\"value\":1},\"line_color\":{\"type\":\"value\",\"value\":\"gray\"},\"line_alpha\":{\"type\":\"value\",\"value\":0.2},\"fill_color\":{\"type\":\"field\",\"field\":\"color\"},\"fill_alpha\":{\"type\":\"value\",\"value\":0.2},\"hatch_color\":{\"type\":\"field\",\"field\":\"color\"},\"hatch_alpha\":{\"type\":\"value\",\"value\":0.2}}}}}],\"toolbar\":{\"type\":\"object\",\"name\":\"Toolbar\",\"id\":\"p1010\",\"attributes\":{\"tools\":[{\"type\":\"object\",\"name\":\"HoverTool\",\"id\":\"p1025\",\"attributes\":{\"renderers\":\"auto\",\"tooltips\":\"\\n    <div>\\n        <span style=\\\"font-size: 14px; font-weight: bold;\\\">Key:</span>&nbsp;\\n        <span style=\\\"font-size: 10px; font-family: Monaco, monospace;\\\">@key</span>\\n    </div>\\n    <div>\\n        <span style=\\\"font-size: 14px; font-weight: bold;\\\">Task:</span>&nbsp;\\n        <span style=\\\"font-size: 10px; font-family: Monaco, monospace;\\\">@function</span>\\n    </div>\\n    \",\"point_policy\":\"follow_mouse\"}},{\"type\":\"object\",\"name\":\"SaveTool\",\"id\":\"p1026\"},{\"type\":\"object\",\"name\":\"ResetTool\",\"id\":\"p1027\"},{\"type\":\"object\",\"name\":\"WheelZoomTool\",\"id\":\"p1028\",\"attributes\":{\"dimensions\":\"width\",\"renderers\":\"auto\"}},{\"type\":\"object\",\"name\":\"PanTool\",\"id\":\"p1029\",\"attributes\":{\"dimensions\":\"width\"}}]}},\"toolbar_location\":\"above\",\"left\":[{\"type\":\"object\",\"name\":\"CategoricalAxis\",\"id\":\"p1020\",\"attributes\":{\"ticker\":{\"type\":\"object\",\"name\":\"CategoricalTicker\",\"id\":\"p1021\"},\"formatter\":{\"type\":\"object\",\"name\":\"CategoricalTickFormatter\",\"id\":\"p1022\"},\"axis_label\":\"Worker ID\",\"major_label_policy\":{\"type\":\"object\",\"name\":\"AllLabels\",\"id\":\"p1023\"},\"axis_line_color\":null,\"major_tick_line_color\":null}}],\"below\":[{\"type\":\"object\",\"name\":\"LinearAxis\",\"id\":\"p1015\",\"attributes\":{\"ticker\":{\"type\":\"object\",\"name\":\"BasicTicker\",\"id\":\"p1016\",\"attributes\":{\"mantissas\":[1,2,5]}},\"formatter\":{\"type\":\"object\",\"name\":\"BasicTickFormatter\",\"id\":\"p1017\"},\"axis_label\":\"Time (s)\",\"major_label_policy\":{\"type\":\"object\",\"name\":\"AllLabels\",\"id\":\"p1018\"},\"axis_line_color\":null,\"major_tick_line_color\":null}}],\"center\":[{\"type\":\"object\",\"name\":\"Grid\",\"id\":\"p1019\",\"attributes\":{\"axis\":{\"id\":\"p1015\"},\"grid_line_color\":null}},{\"type\":\"object\",\"name\":\"Grid\",\"id\":\"p1024\",\"attributes\":{\"dimension\":1,\"axis\":{\"id\":\"p1020\"},\"grid_line_color\":null}}]}}]}};\n",
       "  const render_items = [{\"docid\":\"3a32beb8-6ac4-45d6-b48f-9225a2db5e47\",\"roots\":{\"p1001\":\"d43e4e43-d27a-4a83-9e0b-c90c474dedba\"},\"root_ids\":[\"p1001\"]}];\n",
       "  root.Bokeh.embed.embed_items_notebook(docs_json, render_items);\n",
       "  }\n",
       "  if (root.Bokeh !== undefined) {\n",
       "    embed_document(root);\n",
       "  } else {\n",
       "    let attempts = 0;\n",
       "    const timer = setInterval(function(root) {\n",
       "      if (root.Bokeh !== undefined) {\n",
       "        clearInterval(timer);\n",
       "        embed_document(root);\n",
       "      } else {\n",
       "        attempts++;\n",
       "        if (attempts > 100) {\n",
       "          clearInterval(timer);\n",
       "          console.log(\"Bokeh: ERROR: Unable to run BokehJS code because BokehJS library is missing\");\n",
       "        }\n",
       "      }\n",
       "    }, 10, root)\n",
       "  }\n",
       "})(window);"
      ],
      "application/vnd.bokehjs_exec.v0+json": ""
     },
     "metadata": {
      "application/vnd.bokehjs_exec.v0+json": {
       "id": "p1001"
      }
     },
     "output_type": "display_data"
    }
   ],
   "source": [
    "profilers[0].visualize();"
   ]
  },
  {
   "cell_type": "markdown",
   "id": "9f7afda6-5b1d-4362-9495-4ad140716f5f",
   "metadata": {},
   "source": [
    "The result from the `ResourceProfiler` is shown below: This shows two lines, one for total CPU percentage used by all the workers, and one for total memory usage. The CPU usage is scaled so each worker contributes up to $100 \\ \\%$, i.e. two fully utilized workers use $200 \\ \\%$."
   ]
  },
  {
   "cell_type": "code",
   "execution_count": 15,
   "id": "42497cde-4e5c-4844-91e5-e8d91e1aafa9",
   "metadata": {
    "editable": true,
    "slideshow": {
     "slide_type": ""
    },
    "tags": [
     "skip-test"
    ]
   },
   "outputs": [
    {
     "data": {
      "text/html": [
       "\n",
       "  <div id=\"aee4ca29-6f18-46fa-81cd-3fb752ba82bb\" data-root-id=\"p1042\" style=\"display: contents;\"></div>\n"
      ]
     },
     "metadata": {},
     "output_type": "display_data"
    },
    {
     "data": {
      "application/javascript": [
       "(function(root) {\n",
       "  function embed_document(root) {\n",
       "  const docs_json = {\"583699ff-ecae-4722-ad70-ff4bb2ca0abd\":{\"version\":\"3.3.2\",\"title\":\"Bokeh Application\",\"roots\":[{\"type\":\"object\",\"name\":\"Figure\",\"id\":\"p1042\",\"attributes\":{\"width\":800,\"height\":300,\"x_range\":{\"type\":\"object\",\"name\":\"Range1d\",\"id\":\"p1052\",\"attributes\":{\"end\":19.4973553000018}},\"y_range\":{\"type\":\"object\",\"name\":\"Range1d\",\"id\":\"p1053\",\"attributes\":{\"end\":1178.1999999999998}},\"x_scale\":{\"type\":\"object\",\"name\":\"LinearScale\",\"id\":\"p1054\"},\"y_scale\":{\"type\":\"object\",\"name\":\"LinearScale\",\"id\":\"p1055\"},\"extra_y_ranges\":{\"type\":\"map\",\"entries\":[[\"memory\",{\"type\":\"object\",\"name\":\"Range1d\",\"id\":\"p1081\",\"attributes\":{\"start\":766.959616,\"end\":957.497344}}]]},\"title\":{\"type\":\"object\",\"name\":\"Title\",\"id\":\"p1045\",\"attributes\":{\"text\":\"Profile Results\"}},\"renderers\":[{\"type\":\"object\",\"name\":\"GlyphRenderer\",\"id\":\"p1076\",\"attributes\":{\"data_source\":{\"type\":\"object\",\"name\":\"ColumnDataSource\",\"id\":\"p1070\",\"attributes\":{\"selected\":{\"type\":\"object\",\"name\":\"Selection\",\"id\":\"p1071\",\"attributes\":{\"indices\":[],\"line_indices\":[]}},\"selection_policy\":{\"type\":\"object\",\"name\":\"UnionRenderers\",\"id\":\"p1072\"},\"data\":{\"type\":\"map\",\"entries\":[[\"x\",[0.4350117000285536,1.4517151999752969,2.452240200014785,3.453091499977745,4.45412520004902,5.455400399980135,6.456153400009498,7.456655299989507,8.458021100028418,9.458930000080727,10.459634399972856,11.467135400045663,12.468042300082743,13.470005200011656,14.47144480003044,15.471952600055374,16.47244290006347,17.4734138000058,18.474357799976133]],[\"y\",[0.0,935.0,950.0,982.8,1040.6,1000.6,1037.5,956.3000000000001,1100.0,1007.8,1043.8,1089.1,879.7,1028.1,987.3,953.1,996.9,1178.1999999999998,1018.8]]]}}},\"view\":{\"type\":\"object\",\"name\":\"CDSView\",\"id\":\"p1077\",\"attributes\":{\"filter\":{\"type\":\"object\",\"name\":\"AllIndices\",\"id\":\"p1078\"}}},\"glyph\":{\"type\":\"object\",\"name\":\"Line\",\"id\":\"p1073\",\"attributes\":{\"x\":{\"type\":\"field\",\"field\":\"x\"},\"y\":{\"type\":\"field\",\"field\":\"y\"},\"line_color\":\"#440154\",\"line_width\":4}},\"nonselection_glyph\":{\"type\":\"object\",\"name\":\"Line\",\"id\":\"p1074\",\"attributes\":{\"x\":{\"type\":\"field\",\"field\":\"x\"},\"y\":{\"type\":\"field\",\"field\":\"y\"},\"line_color\":\"#440154\",\"line_alpha\":0.1,\"line_width\":4}},\"muted_glyph\":{\"type\":\"object\",\"name\":\"Line\",\"id\":\"p1075\",\"attributes\":{\"x\":{\"type\":\"field\",\"field\":\"x\"},\"y\":{\"type\":\"field\",\"field\":\"y\"},\"line_color\":\"#440154\",\"line_alpha\":0.2,\"line_width\":4}}}},{\"type\":\"object\",\"name\":\"GlyphRenderer\",\"id\":\"p1088\",\"attributes\":{\"y_range_name\":\"memory\",\"data_source\":{\"type\":\"object\",\"name\":\"ColumnDataSource\",\"id\":\"p1082\",\"attributes\":{\"selected\":{\"type\":\"object\",\"name\":\"Selection\",\"id\":\"p1083\",\"attributes\":{\"indices\":[],\"line_indices\":[]}},\"selection_policy\":{\"type\":\"object\",\"name\":\"UnionRenderers\",\"id\":\"p1084\"},\"data\":{\"type\":\"map\",\"entries\":[[\"x\",[0.4350117000285536,1.4517151999752969,2.452240200014785,3.453091499977745,4.45412520004902,5.455400399980135,6.456153400009498,7.456655299989507,8.458021100028418,9.458930000080727,10.459634399972856,11.467135400045663,12.468042300082743,13.470005200011656,14.47144480003044,15.471952600055374,16.47244290006347,17.4734138000058,18.474357799976133]],[\"y\",[837.279744,790.528,945.508352,888.086528,862.674944,957.497344,884.883456,894.09536,938.369024,777.76896,902.447104,918.30272,839.872512,923.01312,945.09056,849.702912,925.32736,932.2496,766.959616]]]}}},\"view\":{\"type\":\"object\",\"name\":\"CDSView\",\"id\":\"p1089\",\"attributes\":{\"filter\":{\"type\":\"object\",\"name\":\"AllIndices\",\"id\":\"p1090\"}}},\"glyph\":{\"type\":\"object\",\"name\":\"Line\",\"id\":\"p1085\",\"attributes\":{\"x\":{\"type\":\"field\",\"field\":\"x\"},\"y\":{\"type\":\"field\",\"field\":\"y\"},\"line_color\":\"#29788E\",\"line_width\":4}},\"nonselection_glyph\":{\"type\":\"object\",\"name\":\"Line\",\"id\":\"p1086\",\"attributes\":{\"x\":{\"type\":\"field\",\"field\":\"x\"},\"y\":{\"type\":\"field\",\"field\":\"y\"},\"line_color\":\"#29788E\",\"line_alpha\":0.1,\"line_width\":4}},\"muted_glyph\":{\"type\":\"object\",\"name\":\"Line\",\"id\":\"p1087\",\"attributes\":{\"x\":{\"type\":\"field\",\"field\":\"x\"},\"y\":{\"type\":\"field\",\"field\":\"y\"},\"line_color\":\"#29788E\",\"line_alpha\":0.2,\"line_width\":4}}}}],\"toolbar\":{\"type\":\"object\",\"name\":\"Toolbar\",\"id\":\"p1051\",\"attributes\":{\"tools\":[{\"type\":\"object\",\"name\":\"SaveTool\",\"id\":\"p1066\"},{\"type\":\"object\",\"name\":\"ResetTool\",\"id\":\"p1067\"},{\"type\":\"object\",\"name\":\"WheelZoomTool\",\"id\":\"p1068\",\"attributes\":{\"dimensions\":\"width\",\"renderers\":\"auto\"}},{\"type\":\"object\",\"name\":\"PanTool\",\"id\":\"p1069\",\"attributes\":{\"dimensions\":\"width\"}}]}},\"toolbar_location\":\"above\",\"left\":[{\"type\":\"object\",\"name\":\"LinearAxis\",\"id\":\"p1061\",\"attributes\":{\"ticker\":{\"type\":\"object\",\"name\":\"BasicTicker\",\"id\":\"p1062\",\"attributes\":{\"mantissas\":[1,2,5]}},\"formatter\":{\"type\":\"object\",\"name\":\"BasicTickFormatter\",\"id\":\"p1063\"},\"axis_label\":\"% CPU\",\"major_label_policy\":{\"type\":\"object\",\"name\":\"AllLabels\",\"id\":\"p1064\"}}}],\"right\":[{\"type\":\"object\",\"name\":\"LinearAxis\",\"id\":\"p1092\",\"attributes\":{\"y_range_name\":\"memory\",\"ticker\":{\"type\":\"object\",\"name\":\"BasicTicker\",\"id\":\"p1093\",\"attributes\":{\"mantissas\":[1,2,5]}},\"formatter\":{\"type\":\"object\",\"name\":\"BasicTickFormatter\",\"id\":\"p1094\"},\"axis_label\":\"Memory (MB)\",\"major_label_policy\":{\"type\":\"object\",\"name\":\"AllLabels\",\"id\":\"p1095\"}}}],\"below\":[{\"type\":\"object\",\"name\":\"LinearAxis\",\"id\":\"p1056\",\"attributes\":{\"ticker\":{\"type\":\"object\",\"name\":\"BasicTicker\",\"id\":\"p1057\",\"attributes\":{\"mantissas\":[1,2,5]}},\"formatter\":{\"type\":\"object\",\"name\":\"BasicTickFormatter\",\"id\":\"p1058\"},\"axis_label\":\"Time (s)\",\"major_label_policy\":{\"type\":\"object\",\"name\":\"AllLabels\",\"id\":\"p1059\"}}}],\"center\":[{\"type\":\"object\",\"name\":\"Grid\",\"id\":\"p1060\",\"attributes\":{\"axis\":{\"id\":\"p1056\"}}},{\"type\":\"object\",\"name\":\"Grid\",\"id\":\"p1065\",\"attributes\":{\"dimension\":1,\"axis\":{\"id\":\"p1061\"}}},{\"type\":\"object\",\"name\":\"Legend\",\"id\":\"p1079\",\"attributes\":{\"items\":[{\"type\":\"object\",\"name\":\"LegendItem\",\"id\":\"p1080\",\"attributes\":{\"label\":{\"type\":\"value\",\"value\":\"% CPU\"},\"renderers\":[{\"id\":\"p1076\"}]}},{\"type\":\"object\",\"name\":\"LegendItem\",\"id\":\"p1091\",\"attributes\":{\"label\":{\"type\":\"value\",\"value\":\"Memory\"},\"renderers\":[{\"id\":\"p1088\"}]}}]}}]}}]}};\n",
       "  const render_items = [{\"docid\":\"583699ff-ecae-4722-ad70-ff4bb2ca0abd\",\"roots\":{\"p1042\":\"aee4ca29-6f18-46fa-81cd-3fb752ba82bb\"},\"root_ids\":[\"p1042\"]}];\n",
       "  root.Bokeh.embed.embed_items_notebook(docs_json, render_items);\n",
       "  }\n",
       "  if (root.Bokeh !== undefined) {\n",
       "    embed_document(root);\n",
       "  } else {\n",
       "    let attempts = 0;\n",
       "    const timer = setInterval(function(root) {\n",
       "      if (root.Bokeh !== undefined) {\n",
       "        clearInterval(timer);\n",
       "        embed_document(root);\n",
       "      } else {\n",
       "        attempts++;\n",
       "        if (attempts > 100) {\n",
       "          clearInterval(timer);\n",
       "          console.log(\"Bokeh: ERROR: Unable to run BokehJS code because BokehJS library is missing\");\n",
       "        }\n",
       "      }\n",
       "    }, 10, root)\n",
       "  }\n",
       "})(window);"
      ],
      "application/vnd.bokehjs_exec.v0+json": ""
     },
     "metadata": {
      "application/vnd.bokehjs_exec.v0+json": {
       "id": "p1042"
      }
     },
     "output_type": "display_data"
    }
   ],
   "source": [
    "profilers[1].visualize();"
   ]
  },
  {
   "cell_type": "markdown",
   "id": "95a9fa0a-f044-40cd-8964-9e4a1911fa87",
   "metadata": {},
   "source": [
    "We ran the calculation on a single computer with an 4-core CPU with 2 threads per core for 8 threads total. We see that our peak CPU usage was $\\sim 600 \\%$, this is a fairly typical usage statistic for a single machine, overhead and background processes limited us from reaching the $800 \\ \\%$ corresponding to using every available thread maximally.\n",
    "\n",
    "We also see that the total memory use reached around 800 MB. If you are running the calculation on a system with more threads your memory consumption may be larger – it may even exceed the total memory cost of all the wave functions, as every parallel run of the multislice algorithm requires a significant overhead for intermediate results (such as potential slices and Fresnel propagators). If your calculation runs out of memory you can lower the number of workers, thus trading away computational speed for lower memory consumption.\n",
    "\n",
    "We note that the overhead in both CPU usage and memory diminishes for larger simulation with more powerful hardware."
   ]
  },
  {
   "cell_type": "markdown",
   "id": "88a96448-5a2a-4c60-9ce7-7a2f43845d3c",
   "metadata": {},
   "source": [
    "### The (locally) distributed scheduler\n",
    "The Dask distributed scheduler is necessary for running your simulations on a cluster, but it also runs [locally on a personal machine](https://docs.dask.org/en/stable/scheduling.html#dask-distributed-local). You can find details in the Dask documentation, but we demonstrate the basics below.\n",
    "\n",
    "You can use the Dask distributed scheduler by just initializing a [Dask Client](https://distributed.dask.org/en/stable/client.html). The `Client` takes keyword arguments such as `n_workers` (note that this is different from `num_workers` above!)"
   ]
  },
  {
   "cell_type": "code",
   "execution_count": 16,
   "id": "2b7c37a3-909c-482e-99fb-72e4eb222a5a",
   "metadata": {
    "editable": true,
    "slideshow": {
     "slide_type": ""
    },
    "tags": [
     "skip-test"
    ]
   },
   "outputs": [
    {
     "name": "stderr",
     "output_type": "stream",
     "text": [
      "C:\\Users\\jacob\\miniconda3\\envs\\abtem\\Lib\\site-packages\\distributed\\node.py:182: UserWarning: Port 8787 is already in use.\n",
      "Perhaps you already have a cluster running?\n",
      "Hosting the HTTP server on port 53560 instead\n",
      "  warnings.warn(\n"
     ]
    },
    {
     "data": {
      "text/html": [
       "<div>\n",
       "    <div style=\"width: 24px; height: 24px; background-color: #e1e1e1; border: 3px solid #9D9D9D; border-radius: 5px; position: absolute;\"> </div>\n",
       "    <div style=\"margin-left: 48px;\">\n",
       "        <h3 style=\"margin-bottom: 0px;\">Client</h3>\n",
       "        <p style=\"color: #9D9D9D; margin-bottom: 0px;\">Client-658402ba-32ff-11ef-9c94-3800259eb785</p>\n",
       "        <table style=\"width: 100%; text-align: left;\">\n",
       "\n",
       "        <tr>\n",
       "        \n",
       "            <td style=\"text-align: left;\"><strong>Connection method:</strong> Cluster object</td>\n",
       "            <td style=\"text-align: left;\"><strong>Cluster type:</strong> distributed.LocalCluster</td>\n",
       "        \n",
       "        </tr>\n",
       "\n",
       "        \n",
       "            <tr>\n",
       "                <td style=\"text-align: left;\">\n",
       "                    <strong>Dashboard: </strong> <a href=\"http://127.0.0.1:53560/status\" target=\"_blank\">http://127.0.0.1:53560/status</a>\n",
       "                </td>\n",
       "                <td style=\"text-align: left;\"></td>\n",
       "            </tr>\n",
       "        \n",
       "\n",
       "        </table>\n",
       "\n",
       "        \n",
       "\n",
       "        \n",
       "            <details>\n",
       "            <summary style=\"margin-bottom: 20px;\"><h3 style=\"display: inline;\">Cluster Info</h3></summary>\n",
       "            <div class=\"jp-RenderedHTMLCommon jp-RenderedHTML jp-mod-trusted jp-OutputArea-output\">\n",
       "    <div style=\"width: 24px; height: 24px; background-color: #e1e1e1; border: 3px solid #9D9D9D; border-radius: 5px; position: absolute;\">\n",
       "    </div>\n",
       "    <div style=\"margin-left: 48px;\">\n",
       "        <h3 style=\"margin-bottom: 0px; margin-top: 0px;\">LocalCluster</h3>\n",
       "        <p style=\"color: #9D9D9D; margin-bottom: 0px;\">1333d267</p>\n",
       "        <table style=\"width: 100%; text-align: left;\">\n",
       "            <tr>\n",
       "                <td style=\"text-align: left;\">\n",
       "                    <strong>Dashboard:</strong> <a href=\"http://127.0.0.1:53560/status\" target=\"_blank\">http://127.0.0.1:53560/status</a>\n",
       "                </td>\n",
       "                <td style=\"text-align: left;\">\n",
       "                    <strong>Workers:</strong> 6\n",
       "                </td>\n",
       "            </tr>\n",
       "            <tr>\n",
       "                <td style=\"text-align: left;\">\n",
       "                    <strong>Total threads:</strong> 18\n",
       "                </td>\n",
       "                <td style=\"text-align: left;\">\n",
       "                    <strong>Total memory:</strong> 31.93 GiB\n",
       "                </td>\n",
       "            </tr>\n",
       "            \n",
       "            <tr>\n",
       "    <td style=\"text-align: left;\"><strong>Status:</strong> running</td>\n",
       "    <td style=\"text-align: left;\"><strong>Using processes:</strong> True</td>\n",
       "</tr>\n",
       "\n",
       "            \n",
       "        </table>\n",
       "\n",
       "        <details>\n",
       "            <summary style=\"margin-bottom: 20px;\">\n",
       "                <h3 style=\"display: inline;\">Scheduler Info</h3>\n",
       "            </summary>\n",
       "\n",
       "            <div style=\"\">\n",
       "    <div>\n",
       "        <div style=\"width: 24px; height: 24px; background-color: #FFF7E5; border: 3px solid #FF6132; border-radius: 5px; position: absolute;\"> </div>\n",
       "        <div style=\"margin-left: 48px;\">\n",
       "            <h3 style=\"margin-bottom: 0px;\">Scheduler</h3>\n",
       "            <p style=\"color: #9D9D9D; margin-bottom: 0px;\">Scheduler-1ab48463-ebfc-4a4a-9b3f-7e8214bbdf5b</p>\n",
       "            <table style=\"width: 100%; text-align: left;\">\n",
       "                <tr>\n",
       "                    <td style=\"text-align: left;\">\n",
       "                        <strong>Comm:</strong> tcp://127.0.0.1:53563\n",
       "                    </td>\n",
       "                    <td style=\"text-align: left;\">\n",
       "                        <strong>Workers:</strong> 6\n",
       "                    </td>\n",
       "                </tr>\n",
       "                <tr>\n",
       "                    <td style=\"text-align: left;\">\n",
       "                        <strong>Dashboard:</strong> <a href=\"http://127.0.0.1:53560/status\" target=\"_blank\">http://127.0.0.1:53560/status</a>\n",
       "                    </td>\n",
       "                    <td style=\"text-align: left;\">\n",
       "                        <strong>Total threads:</strong> 18\n",
       "                    </td>\n",
       "                </tr>\n",
       "                <tr>\n",
       "                    <td style=\"text-align: left;\">\n",
       "                        <strong>Started:</strong> Just now\n",
       "                    </td>\n",
       "                    <td style=\"text-align: left;\">\n",
       "                        <strong>Total memory:</strong> 31.93 GiB\n",
       "                    </td>\n",
       "                </tr>\n",
       "            </table>\n",
       "        </div>\n",
       "    </div>\n",
       "\n",
       "    <details style=\"margin-left: 48px;\">\n",
       "        <summary style=\"margin-bottom: 20px;\">\n",
       "            <h3 style=\"display: inline;\">Workers</h3>\n",
       "        </summary>\n",
       "\n",
       "        \n",
       "        <div style=\"margin-bottom: 20px;\">\n",
       "            <div style=\"width: 24px; height: 24px; background-color: #DBF5FF; border: 3px solid #4CC9FF; border-radius: 5px; position: absolute;\"> </div>\n",
       "            <div style=\"margin-left: 48px;\">\n",
       "            <details>\n",
       "                <summary>\n",
       "                    <h4 style=\"margin-bottom: 0px; display: inline;\">Worker: 0</h4>\n",
       "                </summary>\n",
       "                <table style=\"width: 100%; text-align: left;\">\n",
       "                    <tr>\n",
       "                        <td style=\"text-align: left;\">\n",
       "                            <strong>Comm: </strong> tcp://127.0.0.1:53598\n",
       "                        </td>\n",
       "                        <td style=\"text-align: left;\">\n",
       "                            <strong>Total threads: </strong> 3\n",
       "                        </td>\n",
       "                    </tr>\n",
       "                    <tr>\n",
       "                        <td style=\"text-align: left;\">\n",
       "                            <strong>Dashboard: </strong> <a href=\"http://127.0.0.1:53607/status\" target=\"_blank\">http://127.0.0.1:53607/status</a>\n",
       "                        </td>\n",
       "                        <td style=\"text-align: left;\">\n",
       "                            <strong>Memory: </strong> 5.32 GiB\n",
       "                        </td>\n",
       "                    </tr>\n",
       "                    <tr>\n",
       "                        <td style=\"text-align: left;\">\n",
       "                            <strong>Nanny: </strong> tcp://127.0.0.1:53566\n",
       "                        </td>\n",
       "                        <td style=\"text-align: left;\"></td>\n",
       "                    </tr>\n",
       "                    <tr>\n",
       "                        <td colspan=\"2\" style=\"text-align: left;\">\n",
       "                            <strong>Local directory: </strong> C:\\Users\\jacob\\AppData\\Local\\Temp\\dask-scratch-space\\worker-vv1i651d\n",
       "                        </td>\n",
       "                    </tr>\n",
       "\n",
       "                    \n",
       "\n",
       "                    \n",
       "\n",
       "                </table>\n",
       "            </details>\n",
       "            </div>\n",
       "        </div>\n",
       "        \n",
       "        <div style=\"margin-bottom: 20px;\">\n",
       "            <div style=\"width: 24px; height: 24px; background-color: #DBF5FF; border: 3px solid #4CC9FF; border-radius: 5px; position: absolute;\"> </div>\n",
       "            <div style=\"margin-left: 48px;\">\n",
       "            <details>\n",
       "                <summary>\n",
       "                    <h4 style=\"margin-bottom: 0px; display: inline;\">Worker: 1</h4>\n",
       "                </summary>\n",
       "                <table style=\"width: 100%; text-align: left;\">\n",
       "                    <tr>\n",
       "                        <td style=\"text-align: left;\">\n",
       "                            <strong>Comm: </strong> tcp://127.0.0.1:53595\n",
       "                        </td>\n",
       "                        <td style=\"text-align: left;\">\n",
       "                            <strong>Total threads: </strong> 3\n",
       "                        </td>\n",
       "                    </tr>\n",
       "                    <tr>\n",
       "                        <td style=\"text-align: left;\">\n",
       "                            <strong>Dashboard: </strong> <a href=\"http://127.0.0.1:53599/status\" target=\"_blank\">http://127.0.0.1:53599/status</a>\n",
       "                        </td>\n",
       "                        <td style=\"text-align: left;\">\n",
       "                            <strong>Memory: </strong> 5.32 GiB\n",
       "                        </td>\n",
       "                    </tr>\n",
       "                    <tr>\n",
       "                        <td style=\"text-align: left;\">\n",
       "                            <strong>Nanny: </strong> tcp://127.0.0.1:53568\n",
       "                        </td>\n",
       "                        <td style=\"text-align: left;\"></td>\n",
       "                    </tr>\n",
       "                    <tr>\n",
       "                        <td colspan=\"2\" style=\"text-align: left;\">\n",
       "                            <strong>Local directory: </strong> C:\\Users\\jacob\\AppData\\Local\\Temp\\dask-scratch-space\\worker-ices75x1\n",
       "                        </td>\n",
       "                    </tr>\n",
       "\n",
       "                    \n",
       "\n",
       "                    \n",
       "\n",
       "                </table>\n",
       "            </details>\n",
       "            </div>\n",
       "        </div>\n",
       "        \n",
       "        <div style=\"margin-bottom: 20px;\">\n",
       "            <div style=\"width: 24px; height: 24px; background-color: #DBF5FF; border: 3px solid #4CC9FF; border-radius: 5px; position: absolute;\"> </div>\n",
       "            <div style=\"margin-left: 48px;\">\n",
       "            <details>\n",
       "                <summary>\n",
       "                    <h4 style=\"margin-bottom: 0px; display: inline;\">Worker: 2</h4>\n",
       "                </summary>\n",
       "                <table style=\"width: 100%; text-align: left;\">\n",
       "                    <tr>\n",
       "                        <td style=\"text-align: left;\">\n",
       "                            <strong>Comm: </strong> tcp://127.0.0.1:53594\n",
       "                        </td>\n",
       "                        <td style=\"text-align: left;\">\n",
       "                            <strong>Total threads: </strong> 3\n",
       "                        </td>\n",
       "                    </tr>\n",
       "                    <tr>\n",
       "                        <td style=\"text-align: left;\">\n",
       "                            <strong>Dashboard: </strong> <a href=\"http://127.0.0.1:53600/status\" target=\"_blank\">http://127.0.0.1:53600/status</a>\n",
       "                        </td>\n",
       "                        <td style=\"text-align: left;\">\n",
       "                            <strong>Memory: </strong> 5.32 GiB\n",
       "                        </td>\n",
       "                    </tr>\n",
       "                    <tr>\n",
       "                        <td style=\"text-align: left;\">\n",
       "                            <strong>Nanny: </strong> tcp://127.0.0.1:53570\n",
       "                        </td>\n",
       "                        <td style=\"text-align: left;\"></td>\n",
       "                    </tr>\n",
       "                    <tr>\n",
       "                        <td colspan=\"2\" style=\"text-align: left;\">\n",
       "                            <strong>Local directory: </strong> C:\\Users\\jacob\\AppData\\Local\\Temp\\dask-scratch-space\\worker-_kkg475p\n",
       "                        </td>\n",
       "                    </tr>\n",
       "\n",
       "                    \n",
       "\n",
       "                    \n",
       "\n",
       "                </table>\n",
       "            </details>\n",
       "            </div>\n",
       "        </div>\n",
       "        \n",
       "        <div style=\"margin-bottom: 20px;\">\n",
       "            <div style=\"width: 24px; height: 24px; background-color: #DBF5FF; border: 3px solid #4CC9FF; border-radius: 5px; position: absolute;\"> </div>\n",
       "            <div style=\"margin-left: 48px;\">\n",
       "            <details>\n",
       "                <summary>\n",
       "                    <h4 style=\"margin-bottom: 0px; display: inline;\">Worker: 3</h4>\n",
       "                </summary>\n",
       "                <table style=\"width: 100%; text-align: left;\">\n",
       "                    <tr>\n",
       "                        <td style=\"text-align: left;\">\n",
       "                            <strong>Comm: </strong> tcp://127.0.0.1:53597\n",
       "                        </td>\n",
       "                        <td style=\"text-align: left;\">\n",
       "                            <strong>Total threads: </strong> 3\n",
       "                        </td>\n",
       "                    </tr>\n",
       "                    <tr>\n",
       "                        <td style=\"text-align: left;\">\n",
       "                            <strong>Dashboard: </strong> <a href=\"http://127.0.0.1:53605/status\" target=\"_blank\">http://127.0.0.1:53605/status</a>\n",
       "                        </td>\n",
       "                        <td style=\"text-align: left;\">\n",
       "                            <strong>Memory: </strong> 5.32 GiB\n",
       "                        </td>\n",
       "                    </tr>\n",
       "                    <tr>\n",
       "                        <td style=\"text-align: left;\">\n",
       "                            <strong>Nanny: </strong> tcp://127.0.0.1:53572\n",
       "                        </td>\n",
       "                        <td style=\"text-align: left;\"></td>\n",
       "                    </tr>\n",
       "                    <tr>\n",
       "                        <td colspan=\"2\" style=\"text-align: left;\">\n",
       "                            <strong>Local directory: </strong> C:\\Users\\jacob\\AppData\\Local\\Temp\\dask-scratch-space\\worker-p8ahuufb\n",
       "                        </td>\n",
       "                    </tr>\n",
       "\n",
       "                    \n",
       "\n",
       "                    \n",
       "\n",
       "                </table>\n",
       "            </details>\n",
       "            </div>\n",
       "        </div>\n",
       "        \n",
       "        <div style=\"margin-bottom: 20px;\">\n",
       "            <div style=\"width: 24px; height: 24px; background-color: #DBF5FF; border: 3px solid #4CC9FF; border-radius: 5px; position: absolute;\"> </div>\n",
       "            <div style=\"margin-left: 48px;\">\n",
       "            <details>\n",
       "                <summary>\n",
       "                    <h4 style=\"margin-bottom: 0px; display: inline;\">Worker: 4</h4>\n",
       "                </summary>\n",
       "                <table style=\"width: 100%; text-align: left;\">\n",
       "                    <tr>\n",
       "                        <td style=\"text-align: left;\">\n",
       "                            <strong>Comm: </strong> tcp://127.0.0.1:53596\n",
       "                        </td>\n",
       "                        <td style=\"text-align: left;\">\n",
       "                            <strong>Total threads: </strong> 3\n",
       "                        </td>\n",
       "                    </tr>\n",
       "                    <tr>\n",
       "                        <td style=\"text-align: left;\">\n",
       "                            <strong>Dashboard: </strong> <a href=\"http://127.0.0.1:53603/status\" target=\"_blank\">http://127.0.0.1:53603/status</a>\n",
       "                        </td>\n",
       "                        <td style=\"text-align: left;\">\n",
       "                            <strong>Memory: </strong> 5.32 GiB\n",
       "                        </td>\n",
       "                    </tr>\n",
       "                    <tr>\n",
       "                        <td style=\"text-align: left;\">\n",
       "                            <strong>Nanny: </strong> tcp://127.0.0.1:53574\n",
       "                        </td>\n",
       "                        <td style=\"text-align: left;\"></td>\n",
       "                    </tr>\n",
       "                    <tr>\n",
       "                        <td colspan=\"2\" style=\"text-align: left;\">\n",
       "                            <strong>Local directory: </strong> C:\\Users\\jacob\\AppData\\Local\\Temp\\dask-scratch-space\\worker-3_zgj9uf\n",
       "                        </td>\n",
       "                    </tr>\n",
       "\n",
       "                    \n",
       "\n",
       "                    \n",
       "\n",
       "                </table>\n",
       "            </details>\n",
       "            </div>\n",
       "        </div>\n",
       "        \n",
       "        <div style=\"margin-bottom: 20px;\">\n",
       "            <div style=\"width: 24px; height: 24px; background-color: #DBF5FF; border: 3px solid #4CC9FF; border-radius: 5px; position: absolute;\"> </div>\n",
       "            <div style=\"margin-left: 48px;\">\n",
       "            <details>\n",
       "                <summary>\n",
       "                    <h4 style=\"margin-bottom: 0px; display: inline;\">Worker: 5</h4>\n",
       "                </summary>\n",
       "                <table style=\"width: 100%; text-align: left;\">\n",
       "                    <tr>\n",
       "                        <td style=\"text-align: left;\">\n",
       "                            <strong>Comm: </strong> tcp://127.0.0.1:53611\n",
       "                        </td>\n",
       "                        <td style=\"text-align: left;\">\n",
       "                            <strong>Total threads: </strong> 3\n",
       "                        </td>\n",
       "                    </tr>\n",
       "                    <tr>\n",
       "                        <td style=\"text-align: left;\">\n",
       "                            <strong>Dashboard: </strong> <a href=\"http://127.0.0.1:53612/status\" target=\"_blank\">http://127.0.0.1:53612/status</a>\n",
       "                        </td>\n",
       "                        <td style=\"text-align: left;\">\n",
       "                            <strong>Memory: </strong> 5.32 GiB\n",
       "                        </td>\n",
       "                    </tr>\n",
       "                    <tr>\n",
       "                        <td style=\"text-align: left;\">\n",
       "                            <strong>Nanny: </strong> tcp://127.0.0.1:53576\n",
       "                        </td>\n",
       "                        <td style=\"text-align: left;\"></td>\n",
       "                    </tr>\n",
       "                    <tr>\n",
       "                        <td colspan=\"2\" style=\"text-align: left;\">\n",
       "                            <strong>Local directory: </strong> C:\\Users\\jacob\\AppData\\Local\\Temp\\dask-scratch-space\\worker-ty0agk6l\n",
       "                        </td>\n",
       "                    </tr>\n",
       "\n",
       "                    \n",
       "\n",
       "                    \n",
       "\n",
       "                </table>\n",
       "            </details>\n",
       "            </div>\n",
       "        </div>\n",
       "        \n",
       "\n",
       "    </details>\n",
       "</div>\n",
       "\n",
       "        </details>\n",
       "    </div>\n",
       "</div>\n",
       "            </details>\n",
       "        \n",
       "\n",
       "    </div>\n",
       "</div>"
      ],
      "text/plain": [
       "<Client: 'tcp://127.0.0.1:53563' processes=6 threads=18, memory=31.93 GiB>"
      ]
     },
     "execution_count": 16,
     "metadata": {},
     "output_type": "execute_result"
    }
   ],
   "source": [
    "from dask.distributed import Client\n",
    "\n",
    "client = Client(n_workers=6)\n",
    "client"
   ]
  },
  {
   "cell_type": "markdown",
   "id": "cd8cacd8-4c48-4eea-930c-33f3fe834410",
   "metadata": {},
   "source": [
    "After intializing the client object, any *ab*TEM computation will use the Dask distributed scheduler."
   ]
  },
  {
   "cell_type": "code",
   "execution_count": 17,
   "id": "2b0d7e8f-24dd-4ada-9650-874e750a3652",
   "metadata": {},
   "outputs": [
    {
     "data": {
      "text/plain": [
       "<abtem.measurements.Images at 0x194fcd97110>"
      ]
     },
     "execution_count": 17,
     "metadata": {},
     "output_type": "execute_result"
    }
   ],
   "source": [
    "haadf_images = detector.detect(exit_waves_stem).reduce_ensemble()\n",
    "haadf_images.compute()"
   ]
  },
  {
   "cell_type": "markdown",
   "id": "31a20506-7155-45f0-b641-3931bbb20029",
   "metadata": {},
   "source": [
    "A benefit of using the distributed scheduler on a single machine is the live diagnostic dashboard. You can access this through the Dashboard link shown in the `__repr__` for the `Client` above (for details you can watch [this](https://www.youtube.com/watch?v=N_GqzcuGLCY) video walkthrough). If you are using Jupyter Lab, the [Dask labextension](https://github.com/dask/dask-labextension) provides the same information as a panel inside the Jupyter Lab editor.\n",
    "\n",
    "We can get back to the local scheduler by closing the `Client`."
   ]
  },
  {
   "cell_type": "code",
   "execution_count": 18,
   "id": "e38de7a7-2b82-442e-8258-d9e2717a7b2b",
   "metadata": {},
   "outputs": [],
   "source": [
    "client.close()"
   ]
  },
  {
   "cell_type": "markdown",
   "id": "dffe61f7-43d8-47e6-a00a-3e73e33320ad",
   "metadata": {
    "editable": true,
    "slideshow": {
     "slide_type": ""
    },
    "tags": []
   },
   "source": [
    "### Running *ab*TEM on HPC clusters\n",
    "\n",
    "Dask (and thus *ab*TEM) has robust tools for deployment on high-performance compute clusters. We recommend consulting your HPC provider on how to deploy Dask applications on your available cluster. For general advice on deployment, please see the [Dask documentation](https://docs.dask.org/en/stable/deploying.html).\n",
    "\n",
    "#### Submitting job scripts \n",
    "\n",
    "As an overview, Dask provides a number of different cluster managers, so you can use distributed Dask on a range of platforms. These cluster managers deploy a scheduler and the necessary workers as determined by communicating with the resource manager. All cluster managers follow the same interface but have platform-specific configuration options.\n",
    "\n",
    "As an example, for deployment using [SLURM](https://slurm.schedmd.com/documentation.html), your script might look something like:\n",
    "\n",
    "```python\n",
    "from dask_jobqueue import SLURMCluster\n",
    "from dask.distributed import Client\n",
    "\n",
    "cluster = SLURMCluster(\n",
    "    queue=\"regular\",\n",
    "    account=\"myaccount\",\n",
    "    cores=32,\n",
    "    memory=\"128 GB\"\n",
    ")\n",
    "\n",
    "client = Client(cluster)\n",
    "\n",
    "# Your abTEM code goes here\n",
    "\n",
    "```\n",
    "\n",
    "Dask also supports deployment from within an existing MPI environment, such as one created with the common MPI command-line launcher `mpirun`, see [here](http://mpi.dask.org/en/latest/) for more information. You can turn your batch Python script into an MPI executable with the `dask_mpi.initialize` function. \n",
    "\n",
    "```python\n",
    "from dask_mpi import initialize\n",
    "initialize()\n",
    "\n",
    "from dask.distributed import Client\n",
    "client = Client()  # Connect this local process to remote workers\n",
    "\n",
    "# Your abTEM code goes here\n",
    "```\n",
    "\n",
    "This makes your Python script launchable directly with `mpirun`:\n",
    "```\n",
    "mpirun -np 4 python my_client_script.py\n",
    "```"
   ]
  },
  {
   "cell_type": "markdown",
   "id": "e39cb8d2-a898-478d-9831-275ac5f2f06b",
   "metadata": {
    "pycharm": {
     "name": "#%% md\n"
    }
   },
   "source": [
    "(walkthrough:parallelization:gpu)=\n",
    "## Using GPUs\n",
    "\n",
    "Almost every part of *ab*TEM can be accelerated using a GPU through the [CuPy](https://cupy.dev/) library. We have only tested CUDA-compatible GPUs, but any graphics card compatible with CuPy should work.\n",
    "\n",
    "If you have a compatible GPU and a working installation of CuPy, you can accelerate your image simulations by simply changing the configs at the top of your document as below:\n",
    "```python\n",
    "abtem.config.set({\"device\": \"gpu\"});\n",
    "```\n",
    "On a single GPU, you may also want to limit the number of workers to one, `num_workers=1`. As described above, this may be done through the Dask config:\n",
    "```python\n",
    "dask.config.set({\"num_workers\": 1});\n",
    "```\n",
    "\n",
    "Note that Dask does not manage GPU threads. This makes the choice of batch sizes (i.e. propagating multiple wave functions in a single batch) extremely important in order to fully utilize your GPU. The default batch size in GPU calculations in abTEM is $512\\ \\mathrm{MB}$, which is four times larger than the CPU batch size, but if your GPU has $8\\ \\mathrm{GB}$ or more memory, you will likely be able to increase this number to $2048\\ \\mathrm{MB}$.\n",
    "\n",
    "```python\n",
    "abtem.config.set({\"dask.chunk-size-gpu\" : \"512 MB\"})\n",
    "```\n",
    "\n",
    "```{note}\n",
    "The batch size only determines the maximum number of plane waves in a batch, so you need to leave room in the memory for any intermediate overhead. \n",
    "```\n",
    "\n",
    "Finally, *ab*TEM by default sets the [FFT plan cache](https://docs.cupy.dev/en/stable/user_guide/fft.html#fft-plan-cache) size of `cupy` to zero, as we find that in most cases the increased memory consumption of the plans are not worth the small speedup they provide. You can however also change this through the *ab*TEM config.\n",
    "\n",
    "```python\n",
    "abtem.config.set({\"cupy.fft-cache-size\" : \"1024 MB\"})\n",
    "```"
   ]
  },
  {
   "cell_type": "markdown",
   "id": "94cdb086-c8a9-4736-a345-311d47379f34",
   "metadata": {
    "editable": true,
    "slideshow": {
     "slide_type": ""
    },
    "tags": []
   },
   "source": [
    "### Multiple GPUs \n",
    "The above is enough for running *ab*TEM on a single GPU; if you are using an NVidia GPU, you may want to install `dask_cuda` (this is currently only supported on Linux). However, `dask_cuda` is currently necessary for multi-GPU calculations with *ab*TEM.\n",
    "\n",
    "```python\n",
    "from dask_cuda import LocalCUDACluster\n",
    "from dask.distributed import Client\n",
    "\n",
    "cluster = LocalCUDACluster()\n",
    "client = Client(cluster)\n",
    "```"
   ]
  }
 ],
 "metadata": {
  "kernelspec": {
   "display_name": "Python 3 (ipykernel)",
   "language": "python",
   "name": "python3"
  },
  "language_info": {
   "codemirror_mode": {
    "name": "ipython",
    "version": 3
   },
   "file_extension": ".py",
   "mimetype": "text/x-python",
   "name": "python",
   "nbconvert_exporter": "python",
   "pygments_lexer": "ipython3",
   "version": "3.11.7"
  },
  "widgets": {
   "application/vnd.jupyter.widget-state+json": {
    "state": {
     "0224375d275a45a9ae7ae8bc48fcbaf2": {
      "model_module": "jupyter-cytoscape",
      "model_module_version": "^1.3.3",
      "model_name": "EdgeModel",
      "state": {
       "_model_module_version": "^1.3.3",
       "_view_module_version": "^1.3.3",
       "classes": " directed ",
       "data": {
        "id": "cf599e0e-cd0a-41c0-aa81-0839154c82b9",
        "source": "-2342049904412802010",
        "target": "9071299937934193216"
       },
       "selectable": false
      }
     },
     "02b2abc6ad6f459ca768bab59400e0ed": {
      "model_module": "jupyter-cytoscape",
      "model_module_version": "^1.3.3",
      "model_name": "EdgeModel",
      "state": {
       "_model_module_version": "^1.3.3",
       "_view_module_version": "^1.3.3",
       "classes": " directed ",
       "data": {
        "id": "2d3140b0-9829-447a-a559-bd79827e30c5",
        "source": "2065410493791762658",
        "target": "3865486290529386074"
       },
       "selectable": false
      }
     },
     "02b7c6056ed646b390f1d6084cbf43e6": {
      "model_module": "jupyter-cytoscape",
      "model_module_version": "^1.3.3",
      "model_name": "EdgeModel",
      "state": {
       "_model_module_version": "^1.3.3",
       "_view_module_version": "^1.3.3",
       "classes": " directed ",
       "data": {
        "id": "fc025d01-7e79-47cb-8f31-8c40322c8cf2",
        "source": "-2591056080245297848",
        "target": "-8820517672212241231"
       },
       "selectable": false
      }
     },
     "060846b316704aa5bd04f683952aef86": {
      "model_module": "jupyter-cytoscape",
      "model_module_version": "^1.3.3",
      "model_name": "NodeModel",
      "state": {
       "_model_module_version": "^1.3.3",
       "_view_module_version": "^1.3.3",
       "data": {
        "color": "gray",
        "id": "3838090120907428870",
        "label": "(1, 0, 0, 0)",
        "shape": "rectangle"
       },
       "grabbable": true,
       "grabbed": false,
       "position": {
        "x": 314,
        "y": 275
       },
       "selectable": false
      }
     },
     "08cf966216564c928828191089c78d73": {
      "model_module": "jupyter-cytoscape",
      "model_module_version": "^1.3.3",
      "model_name": "EdgeModel",
      "state": {
       "_model_module_version": "^1.3.3",
       "_view_module_version": "^1.3.3",
       "classes": " directed ",
       "data": {
        "id": "019fa52c-3e3f-445f-ba81-4c9b0d6b069a",
        "source": "-3593708525088951428",
        "target": "23348537384176463"
       },
       "selectable": false
      }
     },
     "0a2566fccf5a496f823336ad24326aad": {
      "model_module": "jupyter-cytoscape",
      "model_module_version": "^1.3.3",
      "model_name": "NodeModel",
      "state": {
       "_model_module_version": "^1.3.3",
       "_view_module_version": "^1.3.3",
       "data": {
        "color": "gray",
        "id": "-1162988058898088753",
        "label": "getitem",
        "shape": "ellipse"
       },
       "grabbable": true,
       "grabbed": false,
       "position": {
        "x": 935,
        "y": 1115
       },
       "selectable": false
      }
     },
     "0a33faeacb3048e295b0aa79d53976a3": {
      "model_module": "jupyter-cytoscape",
      "model_module_version": "^1.3.3",
      "model_name": "NodeModel",
      "state": {
       "_model_module_version": "^1.3.3",
       "_view_module_version": "^1.3.3",
       "data": {
        "color": "gray",
        "id": "2603075591425295929",
        "label": "",
        "shape": "rectangle"
       },
       "grabbable": true,
       "grabbed": false,
       "position": {
        "x": 98,
        "y": 1235
       },
       "selectable": false
      }
     },
     "0cde6ac578cc4f85836c697cbb2b30d6": {
      "model_module": "jupyter-cytoscape",
      "model_module_version": "^1.3.3",
      "model_name": "EdgeModel",
      "state": {
       "_model_module_version": "^1.3.3",
       "_view_module_version": "^1.3.3",
       "classes": " directed ",
       "data": {
        "id": "515aeffd-3fea-4cc3-94bf-99bc451e2bbe",
        "source": "-8820517672212241231",
        "target": "7544172074734438115"
       },
       "selectable": false
      }
     },
     "0d8936bf32624ad9972155f9df9fdf21": {
      "model_module": "jupyter-cytoscape",
      "model_module_version": "^1.3.3",
      "model_name": "NodeModel",
      "state": {
       "_model_module_version": "^1.3.3",
       "_view_module_version": "^1.3.3",
       "data": {
        "color": "gray",
        "id": "3994302875326649304",
        "label": "",
        "shape": "rectangle"
       },
       "grabbable": true,
       "grabbed": false,
       "position": {
        "x": 98,
        "y": 1955
       },
       "selectable": false
      }
     },
     "0d90f1a490e24ec48040ad9bf441880b": {
      "model_module": "jupyter-cytoscape",
      "model_module_version": "^1.3.3",
      "model_name": "NodeModel",
      "state": {
       "_model_module_version": "^1.3.3",
       "_view_module_version": "^1.3.3",
       "data": {
        "color": "gray",
        "id": "-7344073837706355299",
        "label": "",
        "shape": "rectangle"
       },
       "grabbable": true,
       "grabbed": false,
       "position": {
        "x": 98,
        "y": 2195
       },
       "selectable": false
      }
     },
     "0e205d47f7c1463f8549fe9eb21ef23f": {
      "model_module": "jupyter-cytoscape",
      "model_module_version": "^1.3.3",
      "model_name": "EdgeModel",
      "state": {
       "_model_module_version": "^1.3.3",
       "_view_module_version": "^1.3.3",
       "classes": " directed ",
       "data": {
        "id": "21559a47-9820-4da5-9c9a-cac438a46715",
        "source": "-7344073837706355299",
        "target": "-4113482814637374724"
       },
       "selectable": false
      }
     },
     "0e539f77077c49148676d6f7c3545bef": {
      "model_module": "jupyter-cytoscape",
      "model_module_version": "^1.3.3",
      "model_name": "NodeModel",
      "state": {
       "_model_module_version": "^1.3.3",
       "_view_module_version": "^1.3.3",
       "data": {
        "color": "gray",
        "id": "2065410493791762658",
        "label": "getitem",
        "shape": "ellipse"
       },
       "grabbable": true,
       "grabbed": false,
       "position": {
        "x": 930,
        "y": 635
       },
       "selectable": false
      }
     },
     "0eda123450fd41bdbb571132cc5c3f61": {
      "model_module": "jupyter-cytoscape",
      "model_module_version": "^1.3.3",
      "model_name": "NodeModel",
      "state": {
       "_model_module_version": "^1.3.3",
       "_view_module_version": "^1.3.3",
       "data": {
        "color": "gray",
        "id": "2603075591425295929",
        "label": "",
        "shape": "rectangle"
       },
       "grabbable": true,
       "grabbed": false,
       "position": {
        "x": 304,
        "y": 2195
       },
       "selectable": false
      }
     },
     "0f2857b7ceab4d63b5bcd913c20510f1": {
      "model_module": "@jupyter-widgets/base",
      "model_module_version": "2.0.0",
      "model_name": "LayoutModel",
      "state": {
       "height": "400px"
      }
     },
     "10b7cb25394c4daf998c690e24330f68": {
      "model_module": "jupyter-cytoscape",
      "model_module_version": "^1.3.3",
      "model_name": "NodeModel",
      "state": {
       "_model_module_version": "^1.3.3",
       "_view_module_version": "^1.3.3",
       "data": {
        "color": "gray",
        "id": "-684227649182574446",
        "label": "(0, 0, 0, 0)",
        "shape": "rectangle"
       },
       "grabbable": true,
       "grabbed": false,
       "position": {
        "x": 98,
        "y": 275
       },
       "selectable": false
      }
     },
     "1111c1adb07148229e792571ba12de9c": {
      "model_module": "jupyter-cytoscape",
      "model_module_version": "^1.3.3",
      "model_name": "NodeModel",
      "state": {
       "_model_module_version": "^1.3.3",
       "_view_module_version": "^1.3.3",
       "data": {
        "color": "gray",
        "id": "-784299579356806161",
        "label": "mean_chunk",
        "shape": "ellipse"
       },
       "grabbable": true,
       "grabbed": false,
       "position": {
        "x": 412.75,
        "y": 635
       },
       "selectable": false
      }
     },
     "131ee6d450ea4292a941019ba9c68d38": {
      "model_module": "jupyter-cytoscape",
      "model_module_version": "^1.3.3",
      "model_name": "EdgeModel",
      "state": {
       "_model_module_version": "^1.3.3",
       "_view_module_version": "^1.3.3",
       "classes": " directed ",
       "data": {
        "id": "33ed39cf-7c8c-4f3c-adbc-7789c7e05a13",
        "source": "5913611167721914870",
        "target": "2897811036950413432"
       },
       "selectable": false
      }
     },
     "13e1d177b0234cd6af72f4530154461f": {
      "model_module": "jupyter-cytoscape",
      "model_module_version": "^1.3.3",
      "model_name": "NodeModel",
      "state": {
       "_model_module_version": "^1.3.3",
       "_view_module_version": "^1.3.3",
       "data": {
        "color": "gray",
        "id": "-7535929885956994589",
        "label": "(0, 0, 0)",
        "shape": "rectangle"
       },
       "grabbable": true,
       "grabbed": false,
       "position": {
        "x": 98,
        "y": 35
       },
       "selectable": false
      }
     },
     "15c5c31a24994d5b97ac78c59299d014": {
      "model_module": "jupyter-cytoscape",
      "model_module_version": "^1.3.3",
      "model_name": "EdgeModel",
      "state": {
       "_model_module_version": "^1.3.3",
       "_view_module_version": "^1.3.3",
       "classes": " directed ",
       "data": {
        "id": "2a308fc3-9abd-4e9c-ae28-a7ae614c54d8",
        "source": "-3314526326687534986",
        "target": "4037033082981367311"
       },
       "selectable": false
      }
     },
     "1709281d06f040b9aa64f07778d2faa7": {
      "model_module": "jupyter-cytoscape",
      "model_module_version": "^1.3.3",
      "model_name": "EdgeModel",
      "state": {
       "_model_module_version": "^1.3.3",
       "_view_module_version": "^1.3.3",
       "classes": " directed ",
       "data": {
        "id": "0f6d69e5-8deb-4713-9395-fe67cae10862",
        "source": "4559592919312361497",
        "target": "-5861860859088581121"
       },
       "selectable": false
      }
     },
     "18ebfdaad77f4b5d8895225539debcb7": {
      "model_module": "jupyter-cytoscape",
      "model_module_version": "^1.3.3",
      "model_name": "NodeModel",
      "state": {
       "_model_module_version": "^1.3.3",
       "_view_module_version": "^1.3.3",
       "data": {
        "color": "gray",
        "id": "-1677512154397951122",
        "label": "getitem",
        "shape": "ellipse"
       },
       "grabbable": true,
       "grabbed": false,
       "position": {
        "x": 304,
        "y": 1595
       },
       "selectable": false
      }
     },
     "192700666c8c4830b42ece8db433a83a": {
      "model_module": "jupyter-cytoscape",
      "model_module_version": "^1.3.3",
      "model_name": "NodeModel",
      "state": {
       "_model_module_version": "^1.3.3",
       "_view_module_version": "^1.3.3",
       "data": {
        "color": "gray",
        "id": "-1648361962754339320",
        "label": "abs2",
        "shape": "ellipse"
       },
       "grabbable": true,
       "grabbed": false,
       "position": {
        "x": 729,
        "y": 875
       },
       "selectable": false
      }
     },
     "192c2d5d9ce048b2adc488d73637c781": {
      "model_module": "jupyter-cytoscape",
      "model_module_version": "^1.3.3",
      "model_name": "NodeModel",
      "state": {
       "_model_module_version": "^1.3.3",
       "_view_module_version": "^1.3.3",
       "data": {
        "color": "gray",
        "id": "-6474060349173047760",
        "label": "(2, 0)",
        "shape": "rectangle"
       },
       "grabbable": true,
       "grabbed": false,
       "position": {
        "x": 724,
        "y": 515
       },
       "selectable": false
      }
     },
     "1a9c82c16c2d41cf8d27793be2ce9df8": {
      "model_module": "jupyter-cytoscape",
      "model_module_version": "^1.3.3",
      "model_name": "NodeModel",
      "state": {
       "_model_module_version": "^1.3.3",
       "_view_module_version": "^1.3.3",
       "data": {
        "color": "gray",
        "id": "2555837921515829398",
        "label": "",
        "shape": "rectangle"
       },
       "grabbable": true,
       "grabbed": false,
       "position": {
        "x": 729,
        "y": 1955
       },
       "selectable": false
      }
     },
     "1b0af05d8d7c47a0a1e90882ef56f7a9": {
      "model_module": "jupyter-cytoscape",
      "model_module_version": "^1.3.3",
      "model_name": "EdgeModel",
      "state": {
       "_model_module_version": "^1.3.3",
       "_view_module_version": "^1.3.3",
       "classes": " directed ",
       "data": {
        "id": "cd788d16-97ca-4a28-a5fd-0541a654473c",
        "source": "7848625483293829867",
        "target": "5112523144218638577"
       },
       "selectable": false
      }
     },
     "1b43ceaf83cb4df39f80c5ad1ae93c1b": {
      "model_module": "jupyter-cytoscape",
      "model_module_version": "^1.3.3",
      "model_name": "EdgeModel",
      "state": {
       "_model_module_version": "^1.3.3",
       "_view_module_version": "^1.3.3",
       "classes": " directed ",
       "data": {
        "id": "888df061-367c-4995-b0fa-e4cb7b640832",
        "source": "-3593708525088951428",
        "target": "-2342049904412802010"
       },
       "selectable": false
      }
     },
     "1cc0b6bf6989459298d5bfef2ac3d623": {
      "model_module": "jupyter-cytoscape",
      "model_module_version": "^1.3.3",
      "model_name": "CytoscapeModel",
      "state": {
       "_interaction_handlers": {},
       "_model_module_version": "^1.3.3",
       "_view_module_version": "^1.3.3",
       "auto_ungrabify": false,
       "autolock": false,
       "cytoscape_layout": {
        "edgeSep": 10,
        "name": "dagre",
        "nodeDimensionsIncludeLabels": true,
        "nodeSep": 10,
        "rankDir": "BT",
        "spacingFactor": 1
       },
       "cytoscape_style": [
        {
         "selector": "node",
         "style": {
          "background-color": "#eee",
          "border-color": "data(color)",
          "border-width": 4,
          "color": "black",
          "font-family": "helvetica",
          "font-size": "24px",
          "font-weight": "bold",
          "height": 64,
          "label": "data(label)",
          "opacity": "1.0",
          "shape": "data(shape)",
          "text-halign": "center",
          "text-valign": "center",
          "width": 64
         }
        },
        {
         "selector": "edge",
         "style": {
          "curve-style": "bezier",
          "line-color": "gray",
          "target-arrow-color": "gray",
          "target-arrow-shape": "triangle",
          "width": 8
         }
        }
       ],
       "desktop_tap_threshold": 4,
       "graph": "IPY_MODEL_885187ab5bbd4bf7ac8c90e5bd6d4bf7",
       "headless": false,
       "hide_edges_on_viewport": false,
       "layout": "IPY_MODEL_0f2857b7ceab4d63b5bcd913c20510f1",
       "max_zoom": 4,
       "min_zoom": 0.2,
       "motion_blur": false,
       "motion_blur_opacity": 0.2,
       "panning_enabled": true,
       "pixel_ratio": "auto",
       "rendered_position": {
        "renderedPosition": {
         "x": 100,
         "y": 100
        }
       },
       "selection_type": "single",
       "style_enabled": true,
       "texture_on_viewport": false,
       "tooltip_source": "tooltip",
       "touch_tap_threshold": 8,
       "user_panning_enabled": true,
       "user_zooming_enabled": true,
       "wheel_sensitivity": 0.1,
       "zoom": 2,
       "zooming_enabled": true
      }
     },
     "20477bbb11904f509a9e591b33309391": {
      "model_module": "jupyter-cytoscape",
      "model_module_version": "^1.3.3",
      "model_name": "NodeModel",
      "state": {
       "_model_module_version": "^1.3.3",
       "_view_module_version": "^1.3.3",
       "data": {
        "color": "gray",
        "id": "3994302875326649304",
        "label": "",
        "shape": "rectangle"
       },
       "grabbable": true,
       "grabbed": false,
       "position": {
        "x": 304,
        "y": 995
       },
       "selectable": false
      }
     },
     "20edca50fa274a8092e4bed64a99974c": {
      "model_module": "jupyter-cytoscape",
      "model_module_version": "^1.3.3",
      "model_name": "EdgeModel",
      "state": {
       "_model_module_version": "^1.3.3",
       "_view_module_version": "^1.3.3",
       "classes": " directed ",
       "data": {
        "id": "32948ed9-6f07-4e68-8f7e-af57789fbdf9",
        "source": "-7310603977497333709",
        "target": "-4879822329518210859"
       },
       "selectable": false
      }
     },
     "2199c10005744c1fbe3cc81eef6598f8": {
      "model_module": "jupyter-cytoscape",
      "model_module_version": "^1.3.3",
      "model_name": "EdgeModel",
      "state": {
       "_model_module_version": "^1.3.3",
       "_view_module_version": "^1.3.3",
       "classes": " directed ",
       "data": {
        "id": "8a64a1a5-0755-4be8-9eca-72dbed436fcc",
        "source": "-5861860859088581121",
        "target": "-684227649182574446"
       },
       "selectable": false
      }
     },
     "22e130c84eb84bb5857ca256c4ea0fb0": {
      "model_module": "jupyter-cytoscape",
      "model_module_version": "^1.3.3",
      "model_name": "EdgeModel",
      "state": {
       "_model_module_version": "^1.3.3",
       "_view_module_version": "^1.3.3",
       "classes": " directed ",
       "data": {
        "id": "baca7100-0bfe-4b13-b93c-9d15ab3f5481",
        "source": "-6796483773692113087",
        "target": "5913611167721914870"
       },
       "selectable": false
      }
     },
     "23248211f60d4207bef35a8f6d72403c": {
      "model_module": "jupyter-cytoscape",
      "model_module_version": "^1.3.3",
      "model_name": "NodeModel",
      "state": {
       "_model_module_version": "^1.3.3",
       "_view_module_version": "^1.3.3",
       "data": {
        "color": "gray",
        "id": "1658173419409573162",
        "label": "apply_transform",
        "shape": "ellipse"
       },
       "grabbable": true,
       "grabbed": false,
       "position": {
        "x": 314,
        "y": 395
       },
       "selectable": false
      }
     },
     "24639027cfc14a43b1a3244058fbe884": {
      "model_module": "jupyter-cytoscape",
      "model_module_version": "^1.3.3",
      "model_name": "NodeModel",
      "state": {
       "_model_module_version": "^1.3.3",
       "_view_module_version": "^1.3.3",
       "data": {
        "color": "gray",
        "id": "3865486290529386074",
        "label": "(3, 0)",
        "shape": "rectangle"
       },
       "grabbable": true,
       "grabbed": false,
       "position": {
        "x": 930,
        "y": 515
       },
       "selectable": false
      }
     },
     "277e476994bb468ea9290093c390ac09": {
      "model_module": "jupyter-cytoscape",
      "model_module_version": "^1.3.3",
      "model_name": "NodeModel",
      "state": {
       "_model_module_version": "^1.3.3",
       "_view_module_version": "^1.3.3",
       "data": {
        "color": "gray",
        "id": "-6732846305900421870",
        "label": "0",
        "shape": "rectangle"
       },
       "grabbable": true,
       "grabbed": false,
       "position": {
        "x": 304,
        "y": 1715
       },
       "selectable": false
      }
     },
     "293db1f622354ae2bd9d86defab43142": {
      "model_module": "jupyter-cytoscape",
      "model_module_version": "^1.3.3",
      "model_name": "EdgeModel",
      "state": {
       "_model_module_version": "^1.3.3",
       "_view_module_version": "^1.3.3",
       "classes": " directed ",
       "data": {
        "id": "e6fe61a8-aab8-4828-b789-a6f86edfd51e",
        "source": "-3593708525088951428",
        "target": "-5861860859088581121"
       },
       "selectable": false
      }
     },
     "2bf3dd2800804f96837241f532ee5bd2": {
      "model_module": "jupyter-cytoscape",
      "model_module_version": "^1.3.3",
      "model_name": "GraphModel",
      "state": {
       "_adj": {},
       "_model_module_version": "^1.3.3",
       "_view_module": "jupyter-cytoscape",
       "_view_module_version": "^1.3.3"
      }
     },
     "2d3b0453e8bd4fbc92df3a672d40326e": {
      "model_module": "jupyter-cytoscape",
      "model_module_version": "^1.3.3",
      "model_name": "EdgeModel",
      "state": {
       "_model_module_version": "^1.3.3",
       "_view_module_version": "^1.3.3",
       "classes": " directed ",
       "data": {
        "id": "3c8b5b69-3271-48c1-b96c-ba6da8b584d1",
        "source": "-7310603977497333709",
        "target": "-4879822329518210859"
       },
       "selectable": false
      }
     },
     "3018ed14e6c6489396de056fc34b9eb7": {
      "model_module": "jupyter-cytoscape",
      "model_module_version": "^1.3.3",
      "model_name": "EdgeModel",
      "state": {
       "_model_module_version": "^1.3.3",
       "_view_module_version": "^1.3.3",
       "classes": " directed ",
       "data": {
        "id": "cafad0e0-2d0a-4103-a5a5-eee37138c110",
        "source": "9071299937934193216",
        "target": "-1162988058898088753"
       },
       "selectable": false
      }
     },
     "30253d7876ae442b9c8c0193b047752b": {
      "model_module": "jupyter-cytoscape",
      "model_module_version": "^1.3.3",
      "model_name": "EdgeModel",
      "state": {
       "_model_module_version": "^1.3.3",
       "_view_module_version": "^1.3.3",
       "classes": " directed ",
       "data": {
        "id": "345796b4-0f77-4add-8117-d9c264244337",
        "source": "-7344073837706355299",
        "target": "-4113482814637374724"
       },
       "selectable": false
      }
     },
     "313ee8b4702144928f6a63d967af463d": {
      "model_module": "jupyter-cytoscape",
      "model_module_version": "^1.3.3",
      "model_name": "NodeModel",
      "state": {
       "_model_module_version": "^1.3.3",
       "_view_module_version": "^1.3.3",
       "data": {
        "color": "gray",
        "id": "-6112881003992038452",
        "label": "(0, 0, 0)",
        "shape": "rectangle"
       },
       "grabbable": true,
       "grabbed": false,
       "position": {
        "x": 412.75,
        "y": 515
       },
       "selectable": false
      }
     },
     "325e10d37c8342c7ad081285317d6686": {
      "model_module": "jupyter-cytoscape",
      "model_module_version": "^1.3.3",
      "model_name": "NodeModel",
      "state": {
       "_model_module_version": "^1.3.3",
       "_view_module_version": "^1.3.3",
       "data": {
        "color": "gray",
        "id": "-4189307551585611252",
        "label": "getitem",
        "shape": "ellipse"
       },
       "grabbable": true,
       "grabbed": false,
       "position": {
        "x": 719,
        "y": 155
       },
       "selectable": false
      }
     },
     "3457b5c0977142cc9eacf720608c1e3f": {
      "model_module": "jupyter-cytoscape",
      "model_module_version": "^1.3.3",
      "model_name": "EdgeModel",
      "state": {
       "_model_module_version": "^1.3.3",
       "_view_module_version": "^1.3.3",
       "classes": " directed ",
       "data": {
        "id": "d702ba63-1180-4ea9-bcae-0a8d509bae4e",
        "source": "-3593708525088951428",
        "target": "23348537384176463"
       },
       "selectable": false
      }
     },
     "36c3e60171df42ec909e23206172b871": {
      "model_module": "jupyter-cytoscape",
      "model_module_version": "^1.3.3",
      "model_name": "NodeModel",
      "state": {
       "_model_module_version": "^1.3.3",
       "_view_module_version": "^1.3.3",
       "data": {
        "color": "gray",
        "id": "8811836834344767488",
        "label": "mean_chunk",
        "shape": "ellipse"
       },
       "grabbable": true,
       "grabbed": false,
       "position": {
        "x": 98,
        "y": 635
       },
       "selectable": false
      }
     },
     "37fa7ec642e4412383e2d094d631d59e": {
      "model_module": "jupyter-cytoscape",
      "model_module_version": "^1.3.3",
      "model_name": "NodeModel",
      "state": {
       "_model_module_version": "^1.3.3",
       "_view_module_version": "^1.3.3",
       "data": {
        "color": "gray",
        "id": "-6796483773692113087",
        "label": "from_partitioned_args_func",
        "shape": "ellipse"
       },
       "grabbable": true,
       "grabbed": false,
       "position": {
        "x": 516.5,
        "y": 1835
       },
       "selectable": false
      }
     },
     "3907b0877e734388997952df473bda94": {
      "model_module": "jupyter-cytoscape",
      "model_module_version": "^1.3.3",
      "model_name": "EdgeModel",
      "state": {
       "_model_module_version": "^1.3.3",
       "_view_module_version": "^1.3.3",
       "classes": " directed ",
       "data": {
        "id": "7b67e118-b306-42ff-9538-f247119f15e4",
        "source": "-5861860859088581121",
        "target": "-684227649182574446"
       },
       "selectable": false
      }
     },
     "3a11d69215ab4310ba94f928b4fa880d": {
      "model_module": "jupyter-cytoscape",
      "model_module_version": "^1.3.3",
      "model_name": "NodeModel",
      "state": {
       "_model_module_version": "^1.3.3",
       "_view_module_version": "^1.3.3",
       "data": {
        "color": "gray",
        "id": "2065410493791762658",
        "label": "getitem",
        "shape": "ellipse"
       },
       "grabbable": true,
       "grabbed": false,
       "position": {
        "x": 935,
        "y": 1595
       },
       "selectable": false
      }
     },
     "3a6a617dba7b4574b8ca93310c9aded6": {
      "model_module": "jupyter-cytoscape",
      "model_module_version": "^1.3.3",
      "model_name": "EdgeModel",
      "state": {
       "_model_module_version": "^1.3.3",
       "_view_module_version": "^1.3.3",
       "classes": " directed ",
       "data": {
        "id": "ab59dac8-1989-498b-87b7-e5d777b8b99e",
        "source": "-4113482814637374724",
        "target": "3994302875326649304"
       },
       "selectable": false
      }
     },
     "3a74bed9f2664376808b681b51b13403": {
      "model_module": "jupyter-cytoscape",
      "model_module_version": "^1.3.3",
      "model_name": "NodeModel",
      "state": {
       "_model_module_version": "^1.3.3",
       "_view_module_version": "^1.3.3",
       "data": {
        "color": "gray",
        "id": "5124007198383200373",
        "label": "(0, 0, 0)",
        "shape": "rectangle"
       },
       "grabbable": true,
       "grabbed": false,
       "position": {
        "x": 311.5,
        "y": 275
       },
       "selectable": false
      }
     },
     "3a827f6389ac4d1c867afa47b484fc3d": {
      "model_module": "jupyter-cytoscape",
      "model_module_version": "^1.3.3",
      "model_name": "NodeModel",
      "state": {
       "_model_module_version": "^1.3.3",
       "_view_module_version": "^1.3.3",
       "data": {
        "color": "gray",
        "id": "-5861860859088581121",
        "label": "apply_transform",
        "shape": "ellipse"
       },
       "grabbable": true,
       "grabbed": false,
       "position": {
        "x": 98,
        "y": 395
       },
       "selectable": false
      }
     },
     "3b574cb88e0c4784aa87a7fcb529a21f": {
      "model_module": "jupyter-cytoscape",
      "model_module_version": "^1.3.3",
      "model_name": "GraphModel",
      "state": {
       "_adj": {
        "-1162988058898088753": {},
        "-1648361962754339320": {},
        "-1677512154397951122": {},
        "-230404921456622981": {},
        "-2342049904412802010": {},
        "-2591056080245297848": {},
        "-2815456313386763074": {},
        "-3083138079535866035": {},
        "-3314526326687534986": {},
        "-3593708525088951428": {},
        "-3667003760153278759": {},
        "-3987552335221504767": {},
        "-4113482814637374724": {},
        "-4144154358512503320": {},
        "-4189307551585611252": {},
        "-4879822329518210859": {},
        "-5076179833641889531": {},
        "-5861860859088581121": {},
        "-6112881003992038452": {},
        "-6196465266914034023": {},
        "-6474060349173047760": {},
        "-6531451423884885681": {},
        "-6732846305900421870": {},
        "-6796483773692113087": {},
        "-684227649182574446": {},
        "-6985433469959104574": {},
        "-7310603977497333709": {},
        "-7344073837706355299": {},
        "-7475103573312209962": {},
        "-7521909501782290201": {},
        "-7535929885956994589": {},
        "-784299579356806161": {},
        "-8298368627976420273": {},
        "-8820517672212241231": {},
        "-8827835913014507489": {},
        "1658173419409573162": {},
        "2065410493791762658": {},
        "2138284708474578092": {},
        "2200123212753603319": {},
        "23348537384176463": {},
        "2555837921515829398": {},
        "2603075591425295929": {},
        "2636828699620805333": {},
        "2897811036950413432": {},
        "3174104662205318362": {},
        "3216764353020735326": {},
        "381978703984849675": {},
        "3838090120907428870": {},
        "3865486290529386074": {},
        "3994302875326649304": {},
        "4037033082981367311": {},
        "4343630600102015789": {},
        "4386842957165667525": {},
        "4545804275531060540": {},
        "4559592919312361497": {},
        "5112523144218638577": {},
        "5116571362500262984": {},
        "5124007198383200373": {},
        "5173157996983750842": {},
        "5913611167721914870": {},
        "6820823738836433380": {},
        "6861631808981973157": {},
        "7378857194019156031": {},
        "7544172074734438115": {},
        "7848625483293829867": {},
        "8021529477702927584": {},
        "8811836834344767488": {},
        "8858137867545646120": {},
        "8930107111954063677": {},
        "9071299937934193216": {}
       },
       "_model_module_version": "^1.3.3",
       "_view_module": "jupyter-cytoscape",
       "_view_module_version": "^1.3.3",
       "edges": [
        "IPY_MODEL_2199c10005744c1fbe3cc81eef6598f8",
        "IPY_MODEL_1709281d06f040b9aa64f07778d2faa7",
        "IPY_MODEL_cf12431209c54166ae6ce7e3e5f9adc4",
        "IPY_MODEL_b0ae0e9df6e54350a8339b1d40fd2749",
        "IPY_MODEL_c67a1a8a241d4ab88f15c9d64eb69e60",
        "IPY_MODEL_f8e1b9c936c94d8881d440e1476f7ae0",
        "IPY_MODEL_f675dc9ffd904d05915b4aaf508c51e1",
        "IPY_MODEL_98db46f0148b464382f02121325fc253",
        "IPY_MODEL_08cf966216564c928828191089c78d73",
        "IPY_MODEL_e6498399467c4b7ca93635ecfdada44a",
        "IPY_MODEL_4e4fccf2c6f349919e91bc1109c268a4",
        "IPY_MODEL_5021985945a34f86921c2ddbd2acf801",
        "IPY_MODEL_7376180cd6464f9a83f949ce9a2d2ec8",
        "IPY_MODEL_40a4dcc604fb4e99b61c197563a3bed9",
        "IPY_MODEL_61d50382d3964d66953f654d5526f773",
        "IPY_MODEL_4268e862af434017957935f20db86e8b",
        "IPY_MODEL_9e09d6acc68e4014a58e69cef90d4e45",
        "IPY_MODEL_747c920037794997a1a37722a1376d75",
        "IPY_MODEL_88fe60cb64a44650864775fb3eafe1f2",
        "IPY_MODEL_4e0d80ec0a7740329c86b68d5dca7fe3",
        "IPY_MODEL_30253d7876ae442b9c8c0193b047752b",
        "IPY_MODEL_c8c67cc014c54dc3b6cb20436d4547d6",
        "IPY_MODEL_88459a0780404bab83f0fda557203695",
        "IPY_MODEL_b407466b402c4000a472379bf4af6cd1",
        "IPY_MODEL_b5c80ae867954c9dbc5245f985a2ecb5",
        "IPY_MODEL_b64c8dc9f0874ba9aa642814e6b8d383",
        "IPY_MODEL_46a8c40bbe614a81a012165640e9918d",
        "IPY_MODEL_56c8faf84fca40d5b6bdce43d3a90d9f",
        "IPY_MODEL_9ce4d0a63d274dfa9d59b28322f4dc2a",
        "IPY_MODEL_fbffaf8111754a919e39edad0d021bd0",
        "IPY_MODEL_20edca50fa274a8092e4bed64a99974c",
        "IPY_MODEL_64053bddaa65486d9576a4cc495b2435",
        "IPY_MODEL_b05f7235db1f4414b4d7ac2553ef15ac",
        "IPY_MODEL_ed73415a008043d089ab9df24be53058",
        "IPY_MODEL_02b2abc6ad6f459ca768bab59400e0ed",
        "IPY_MODEL_8ba8674dcec54288bf48c6362ee34bb5",
        "IPY_MODEL_61b28112552c4bb4800c46d36746ac34",
        "IPY_MODEL_cef2d3c029334f7b80b9d3dc7242c829",
        "IPY_MODEL_131ee6d450ea4292a941019ba9c68d38",
        "IPY_MODEL_a370f09eacb14c8eac14d08ca9c81862",
        "IPY_MODEL_5b1607d37c0f41f3933674a6e887a34f",
        "IPY_MODEL_c11cf8d59ccc4315908edc87fa1643cd",
        "IPY_MODEL_d025794a2e324372bdd120faf6da8297",
        "IPY_MODEL_cc9cb2c7aaaf49a69d3420cb1545f193",
        "IPY_MODEL_f71528e44bab469ab535ab778c700f9f",
        "IPY_MODEL_8b31eb8ef5ff4e25b98abcd49ba0d271",
        "IPY_MODEL_3018ed14e6c6489396de056fc34b9eb7",
        "IPY_MODEL_3ddbc35f9dc84a39bd53bb49fb9be668",
        "IPY_MODEL_ee71f2adfb15440092e91398aa028cbc",
        "IPY_MODEL_92d5e5e1f0464ab8a5909f6ca4850ec8",
        "IPY_MODEL_520af5a5764a4da58fed6d24c54a26b4",
        "IPY_MODEL_913d13d80a2d4611af3b4d61ef4ea131",
        "IPY_MODEL_606fe57df19046609cdff02a97c45400",
        "IPY_MODEL_0cde6ac578cc4f85836c697cbb2b30d6",
        "IPY_MODEL_02b7c6056ed646b390f1d6084cbf43e6",
        "IPY_MODEL_434001219b8e4e4aa72769741704f69a",
        "IPY_MODEL_4e2a6c5bbf134dd9a2342499e0e02c98",
        "IPY_MODEL_8f06665defcf43628413bf6bc18491ad",
        "IPY_MODEL_8217183248c24306a93815b2e4fd626f",
        "IPY_MODEL_8f2d554653d04fa18e675a254120443d",
        "IPY_MODEL_f892fc611d414a30b9278da103744054",
        "IPY_MODEL_a2ff1a5a54504070a9d23387e73ddf85",
        "IPY_MODEL_52f550743bc84f02a5fc2fcfcd4389c8",
        "IPY_MODEL_cb5abec7f19242f59f88b9c23bb9df73",
        "IPY_MODEL_c2fe9118e5e446abab52fe40a1b9451f",
        "IPY_MODEL_ebf71d79607d4900958ca6780b440a89",
        "IPY_MODEL_b179adfe3c774d5d80d4a74277bb5c98",
        "IPY_MODEL_c4d9723762ec4201ba2bac98d54c680a",
        "IPY_MODEL_76e6a5fae97542e9a99c7346b863050f",
        "IPY_MODEL_bcd39f9c23b14c4688424089d074cdae",
        "IPY_MODEL_3dd93497b04441ba8983f5466e6e569c",
        "IPY_MODEL_90104be59d76429287ea608701d475ee"
       ],
       "nodes": [
        "IPY_MODEL_86b486c81e5940f3a9f90a846e3ac0be",
        "IPY_MODEL_84234aba5661452b8a249f57ce68db6a",
        "IPY_MODEL_cc71ccbb9b724ace9f9c1461aa794d78",
        "IPY_MODEL_cafc98dce9b6418d8bf563004ed45ccb",
        "IPY_MODEL_b94dd4021074491ab65139c1ef7b0528",
        "IPY_MODEL_4985696c024f4e0da471a9bb2a3d5a7e",
        "IPY_MODEL_dbd5ec5beba74e8eb16a22495950155d",
        "IPY_MODEL_4232652a70fa472db7160f52cc889c0f",
        "IPY_MODEL_511c8bc5b73b498ab300f8fbdd1a750f",
        "IPY_MODEL_89cb2273545d4b07b6570d689c4472cd",
        "IPY_MODEL_f97525833a414716a2fdfe5263f9b9b1",
        "IPY_MODEL_460b785645d94501a317dbdbd3394bd8",
        "IPY_MODEL_88a96a830db24a37ad631d3f8aeb1b3c",
        "IPY_MODEL_277e476994bb468ea9290093c390ac09",
        "IPY_MODEL_7fcc3ad6d0004673aadb967caae7807d",
        "IPY_MODEL_637b2798286646dabd33ce14a5c0982d",
        "IPY_MODEL_6006d26bcf77408b9f82d085b6b8cb56",
        "IPY_MODEL_0eda123450fd41bdbb571132cc5c3f61",
        "IPY_MODEL_9657205677c848a48684b8ecd8fc8df6",
        "IPY_MODEL_72259ca8d36742cea832bf0117a82442",
        "IPY_MODEL_58b1d70d71cb4cac943a0bf3811e0731",
        "IPY_MODEL_0d90f1a490e24ec48040ad9bf441880b",
        "IPY_MODEL_5c70260504354f5d9fcb4636e1c718f3",
        "IPY_MODEL_0d8936bf32624ad9972155f9df9fdf21",
        "IPY_MODEL_9c4863522bd34565aeb842ad932120fe",
        "IPY_MODEL_87e6d630a89643fda9565fb6df75fbe4",
        "IPY_MODEL_e49f7a0055eb4253bdcd89610e04fc9c",
        "IPY_MODEL_1a9c82c16c2d41cf8d27793be2ce9df8",
        "IPY_MODEL_b04fba04ced6424fb631581b5b4d700f",
        "IPY_MODEL_9f43e830ce3c4a21a610676d25b3f934",
        "IPY_MODEL_bc1a30092f2a46ea89954edbb81e18a9",
        "IPY_MODEL_7beb8010a8f64a798ec30dfcbf939f94",
        "IPY_MODEL_de92aeac67c84d459e62b771508d4c02",
        "IPY_MODEL_18ebfdaad77f4b5d8895225539debcb7",
        "IPY_MODEL_5cd36e3a613a42278579364709d53aa3",
        "IPY_MODEL_f7f08f4670504f29aab2f88d976bc33d",
        "IPY_MODEL_3a11d69215ab4310ba94f928b4fa880d",
        "IPY_MODEL_37fa7ec642e4412383e2d094d631d59e",
        "IPY_MODEL_dc2ae94ca9104ba3b4edf073ddeae112",
        "IPY_MODEL_fb1c010a27254f36b6fda12eb85c0737",
        "IPY_MODEL_d4b6105e7a5e428799aec2d873396d7a",
        "IPY_MODEL_a858029fb12d4bb598a7853c19e37918",
        "IPY_MODEL_6ad9a93922114fc5970bba10e505223c",
        "IPY_MODEL_a005c5072bca461dbe5030be2cc1485d",
        "IPY_MODEL_a3e8b9b67761495e9b4f689314a811b9",
        "IPY_MODEL_9abf2950d59f4bf8b6d13415405973eb",
        "IPY_MODEL_0a2566fccf5a496f823336ad24326aad",
        "IPY_MODEL_fdaea8e8d6f944e3adcf12a43cad28b1",
        "IPY_MODEL_86748082cc6c4375b397355a7c108440",
        "IPY_MODEL_61243f22227441808f8c7ee6fef90043",
        "IPY_MODEL_e51a3670e6704e92b0f19649a58bb7ea",
        "IPY_MODEL_541b84bcfadd491397da9e225a66dbcc",
        "IPY_MODEL_192700666c8c4830b42ece8db433a83a",
        "IPY_MODEL_8f37b9f0174547808b3b849ed2e4156c",
        "IPY_MODEL_46e340c251d7448c939053eee6b08923",
        "IPY_MODEL_c081f9da42a140408f509d3a5ca75d0d",
        "IPY_MODEL_1111c1adb07148229e792571ba12de9c",
        "IPY_MODEL_313ee8b4702144928f6a63d967af463d",
        "IPY_MODEL_36c3e60171df42ec909e23206172b871",
        "IPY_MODEL_88d3fe60a1c042fca57604ff0580939d",
        "IPY_MODEL_82cb936a061d4b21908e5d72cb6f9a78",
        "IPY_MODEL_a93e3558330344459c998846ee2d880b",
        "IPY_MODEL_cc00284e5fc9417496097efbbf4db346",
        "IPY_MODEL_4224e3dabdf74e048c47302b23330ab8",
        "IPY_MODEL_53a4421d8fae46a8961791669cbd5057",
        "IPY_MODEL_3a74bed9f2664376808b681b51b13403",
        "IPY_MODEL_bf75b040106744d4aa5aefb86bb82c3b",
        "IPY_MODEL_cc67b47364444195ae5d8ee371719afe",
        "IPY_MODEL_e1e0930b71be4e5091664dd4944783e7",
        "IPY_MODEL_e365201b26814f7e83a147c9a3be945f"
       ]
      }
     },
     "3b603b21bec1475cac269d501186b712": {
      "model_module": "jupyter-cytoscape",
      "model_module_version": "^1.3.3",
      "model_name": "EdgeModel",
      "state": {
       "_model_module_version": "^1.3.3",
       "_view_module_version": "^1.3.3",
       "classes": " directed ",
       "data": {
        "id": "a3365d02-2092-4ad4-b50a-4c85bc2c8c79",
        "source": "3865486290529386074",
        "target": "-2342049904412802010"
       },
       "selectable": false
      }
     },
     "3dd93497b04441ba8983f5466e6e569c": {
      "model_module": "jupyter-cytoscape",
      "model_module_version": "^1.3.3",
      "model_name": "EdgeModel",
      "state": {
       "_model_module_version": "^1.3.3",
       "_view_module_version": "^1.3.3",
       "classes": " directed ",
       "data": {
        "id": "50d8fbb1-51d3-4f90-bf6e-cd71ca9d82ef",
        "source": "5124007198383200373",
        "target": "3174104662205318362"
       },
       "selectable": false
      }
     },
     "3ddbc35f9dc84a39bd53bb49fb9be668": {
      "model_module": "jupyter-cytoscape",
      "model_module_version": "^1.3.3",
      "model_name": "EdgeModel",
      "state": {
       "_model_module_version": "^1.3.3",
       "_view_module_version": "^1.3.3",
       "classes": " directed ",
       "data": {
        "id": "7a21e0b4-2de6-4bc4-a18f-2d47d2167f72",
        "source": "4386842957165667525",
        "target": "5173157996983750842"
       },
       "selectable": false
      }
     },
     "3ece56da653c405d8aa0bdf2cd54ea3c": {
      "model_module": "jupyter-cytoscape",
      "model_module_version": "^1.3.3",
      "model_name": "NodeModel",
      "state": {
       "_model_module_version": "^1.3.3",
       "_view_module_version": "^1.3.3",
       "data": {
        "color": "gray",
        "id": "-7521909501782290201",
        "label": "",
        "shape": "rectangle"
       },
       "grabbable": true,
       "grabbed": false,
       "position": {
        "x": 98,
        "y": 995
       },
       "selectable": false
      }
     },
     "40a4dcc604fb4e99b61c197563a3bed9": {
      "model_module": "jupyter-cytoscape",
      "model_module_version": "^1.3.3",
      "model_name": "EdgeModel",
      "state": {
       "_model_module_version": "^1.3.3",
       "_view_module_version": "^1.3.3",
       "classes": " directed ",
       "data": {
        "id": "5d231f1f-a8df-4fdc-8769-98e1d3562457",
        "source": "-5076179833641889531",
        "target": "6820823738836433380"
       },
       "selectable": false
      }
     },
     "4224e3dabdf74e048c47302b23330ab8": {
      "model_module": "jupyter-cytoscape",
      "model_module_version": "^1.3.3",
      "model_name": "NodeModel",
      "state": {
       "_model_module_version": "^1.3.3",
       "_view_module_version": "^1.3.3",
       "data": {
        "color": "gray",
        "id": "4545804275531060540",
        "label": "(3, 0, 0)",
        "shape": "rectangle"
       },
       "grabbable": true,
       "grabbed": false,
       "position": {
        "x": 935,
        "y": 515
       },
       "selectable": false
      }
     },
     "4232652a70fa472db7160f52cc889c0f": {
      "model_module": "jupyter-cytoscape",
      "model_module_version": "^1.3.3",
      "model_name": "NodeModel",
      "state": {
       "_model_module_version": "^1.3.3",
       "_view_module_version": "^1.3.3",
       "data": {
        "color": "gray",
        "id": "23348537384176463",
        "label": "apply_transform",
        "shape": "ellipse"
       },
       "grabbable": true,
       "grabbed": false,
       "position": {
        "x": 729,
        "y": 1355
       },
       "selectable": false
      }
     },
     "4268e862af434017957935f20db86e8b": {
      "model_module": "jupyter-cytoscape",
      "model_module_version": "^1.3.3",
      "model_name": "EdgeModel",
      "state": {
       "_model_module_version": "^1.3.3",
       "_view_module_version": "^1.3.3",
       "classes": " directed ",
       "data": {
        "id": "a5174bf8-19a8-4e65-a037-da4e33634fc2",
        "source": "-3314526326687534986",
        "target": "4037033082981367311"
       },
       "selectable": false
      }
     },
     "434001219b8e4e4aa72769741704f69a": {
      "model_module": "jupyter-cytoscape",
      "model_module_version": "^1.3.3",
      "model_name": "EdgeModel",
      "state": {
       "_model_module_version": "^1.3.3",
       "_view_module_version": "^1.3.3",
       "classes": " directed ",
       "data": {
        "id": "ed77b48f-730f-4511-8d56-f39e793dff81",
        "source": "-784299579356806161",
        "target": "-6112881003992038452"
       },
       "selectable": false
      }
     },
     "43d7ae03ebca446784875480ede0bc81": {
      "model_module": "jupyter-cytoscape",
      "model_module_version": "^1.3.3",
      "model_name": "EdgeModel",
      "state": {
       "_model_module_version": "^1.3.3",
       "_view_module_version": "^1.3.3",
       "classes": " directed ",
       "data": {
        "id": "095708ac-6782-4719-abe9-0e5314d3e8e0",
        "source": "3994302875326649304",
        "target": "-5076179833641889531"
       },
       "selectable": false
      }
     },
     "445d886fa8274fe387845459577c1636": {
      "model_module": "jupyter-cytoscape",
      "model_module_version": "^1.3.3",
      "model_name": "NodeModel",
      "state": {
       "_model_module_version": "^1.3.3",
       "_view_module_version": "^1.3.3",
       "data": {
        "color": "gray",
        "id": "-4879822329518210859",
        "label": "(1, 0)",
        "shape": "rectangle"
       },
       "grabbable": true,
       "grabbed": false,
       "position": {
        "x": 304,
        "y": 515
       },
       "selectable": false
      }
     },
     "44a60259790a4196a1304b0ee1e6b7be": {
      "model_module": "jupyter-cytoscape",
      "model_module_version": "^1.3.3",
      "model_name": "NodeModel",
      "state": {
       "_model_module_version": "^1.3.3",
       "_view_module_version": "^1.3.3",
       "data": {
        "color": "gray",
        "id": "2555837921515829398",
        "label": "",
        "shape": "rectangle"
       },
       "grabbable": true,
       "grabbed": false,
       "position": {
        "x": 724,
        "y": 995
       },
       "selectable": false
      }
     },
     "460b785645d94501a317dbdbd3394bd8": {
      "model_module": "jupyter-cytoscape",
      "model_module_version": "^1.3.3",
      "model_name": "NodeModel",
      "state": {
       "_model_module_version": "^1.3.3",
       "_view_module_version": "^1.3.3",
       "data": {
        "color": "gray",
        "id": "3865486290529386074",
        "label": "(3, 0)",
        "shape": "rectangle"
       },
       "grabbable": true,
       "grabbed": false,
       "position": {
        "x": 935,
        "y": 1475
       },
       "selectable": false
      }
     },
     "46a8c40bbe614a81a012165640e9918d": {
      "model_module": "jupyter-cytoscape",
      "model_module_version": "^1.3.3",
      "model_name": "EdgeModel",
      "state": {
       "_model_module_version": "^1.3.3",
       "_view_module_version": "^1.3.3",
       "classes": " directed ",
       "data": {
        "id": "ec8a056c-b6a9-4252-ad2a-d52c1acbe9f2",
        "source": "7848625483293829867",
        "target": "5112523144218638577"
       },
       "selectable": false
      }
     },
     "46e340c251d7448c939053eee6b08923": {
      "model_module": "jupyter-cytoscape",
      "model_module_version": "^1.3.3",
      "model_name": "NodeModel",
      "state": {
       "_model_module_version": "^1.3.3",
       "_view_module_version": "^1.3.3",
       "data": {
        "color": "gray",
        "id": "-8820517672212241231",
        "label": "abs2",
        "shape": "ellipse"
       },
       "grabbable": true,
       "grabbed": false,
       "position": {
        "x": 935,
        "y": 875
       },
       "selectable": false
      }
     },
     "4985696c024f4e0da471a9bb2a3d5a7e": {
      "model_module": "jupyter-cytoscape",
      "model_module_version": "^1.3.3",
      "model_name": "NodeModel",
      "state": {
       "_model_module_version": "^1.3.3",
       "_view_module_version": "^1.3.3",
       "data": {
        "color": "gray",
        "id": "-4879822329518210859",
        "label": "(1, 0)",
        "shape": "rectangle"
       },
       "grabbable": true,
       "grabbed": false,
       "position": {
        "x": 98,
        "y": 1475
       },
       "selectable": false
      }
     },
     "4a9a09169a2a45d9b9fe5bf7380c771f": {
      "model_module": "jupyter-cytoscape",
      "model_module_version": "^1.3.3",
      "model_name": "NodeModel",
      "state": {
       "_model_module_version": "^1.3.3",
       "_view_module_version": "^1.3.3",
       "data": {
        "color": "gray",
        "id": "5112523144218638577",
        "label": "wrap_with_array",
        "shape": "ellipse"
       },
       "grabbable": true,
       "grabbed": false,
       "position": {
        "x": 930,
        "y": 1115
       },
       "selectable": false
      }
     },
     "4e0d80ec0a7740329c86b68d5dca7fe3": {
      "model_module": "jupyter-cytoscape",
      "model_module_version": "^1.3.3",
      "model_name": "EdgeModel",
      "state": {
       "_model_module_version": "^1.3.3",
       "_view_module_version": "^1.3.3",
       "classes": " directed ",
       "data": {
        "id": "ce5f8b8e-f565-4ae9-af64-f0bd9ee42d63",
        "source": "-4113482814637374724",
        "target": "3994302875326649304"
       },
       "selectable": false
      }
     },
     "4e2a6c5bbf134dd9a2342499e0e02c98": {
      "model_module": "jupyter-cytoscape",
      "model_module_version": "^1.3.3",
      "model_name": "EdgeModel",
      "state": {
       "_model_module_version": "^1.3.3",
       "_view_module_version": "^1.3.3",
       "classes": " directed ",
       "data": {
        "id": "0bc80f68-316b-4bda-84ba-a4df1bc9e02e",
        "source": "5173157996983750842",
        "target": "-784299579356806161"
       },
       "selectable": false
      }
     },
     "4e4fccf2c6f349919e91bc1109c268a4": {
      "model_module": "jupyter-cytoscape",
      "model_module_version": "^1.3.3",
      "model_name": "EdgeModel",
      "state": {
       "_model_module_version": "^1.3.3",
       "_view_module_version": "^1.3.3",
       "classes": " directed ",
       "data": {
        "id": "c6fbc1dc-022c-4d10-a32d-41ed77c7b789",
        "source": "3865486290529386074",
        "target": "-2342049904412802010"
       },
       "selectable": false
      }
     },
     "4f058cd1b96942c8996f8fe5ec9230c4": {
      "model_module": "jupyter-cytoscape",
      "model_module_version": "^1.3.3",
      "model_name": "CytoscapeModel",
      "state": {
       "_interaction_handlers": {},
       "_model_module_version": "^1.3.3",
       "_view_module_version": "^1.3.3",
       "auto_ungrabify": false,
       "autolock": false,
       "cytoscape_layout": {
        "edgeSep": 10,
        "name": "dagre",
        "nodeDimensionsIncludeLabels": true,
        "nodeSep": 10,
        "rankDir": "BT",
        "spacingFactor": 1
       },
       "cytoscape_style": [
        {
         "selector": "node",
         "style": {
          "background-color": "#eee",
          "border-color": "data(color)",
          "border-width": 4,
          "color": "black",
          "font-family": "helvetica",
          "font-size": "24px",
          "font-weight": "bold",
          "height": 64,
          "label": "data(label)",
          "opacity": "1.0",
          "shape": "data(shape)",
          "text-halign": "center",
          "text-valign": "center",
          "width": 64
         }
        },
        {
         "selector": "edge",
         "style": {
          "curve-style": "bezier",
          "line-color": "gray",
          "target-arrow-color": "gray",
          "target-arrow-shape": "triangle",
          "width": 8
         }
        }
       ],
       "desktop_tap_threshold": 4,
       "graph": "IPY_MODEL_3b574cb88e0c4784aa87a7fcb529a21f",
       "headless": false,
       "hide_edges_on_viewport": false,
       "layout": "IPY_MODEL_af069268d9794688b7e759d2f54786a5",
       "max_zoom": 4,
       "min_zoom": 0.2,
       "motion_blur": false,
       "motion_blur_opacity": 0.2,
       "panning_enabled": true,
       "pixel_ratio": "auto",
       "rendered_position": {
        "renderedPosition": {
         "x": 100,
         "y": 100
        }
       },
       "selection_type": "single",
       "style_enabled": true,
       "texture_on_viewport": false,
       "tooltip_source": "tooltip",
       "touch_tap_threshold": 8,
       "user_panning_enabled": true,
       "user_zooming_enabled": true,
       "wheel_sensitivity": 0.1,
       "zoom": 2,
       "zooming_enabled": true
      }
     },
     "5021985945a34f86921c2ddbd2acf801": {
      "model_module": "jupyter-cytoscape",
      "model_module_version": "^1.3.3",
      "model_name": "EdgeModel",
      "state": {
       "_model_module_version": "^1.3.3",
       "_view_module_version": "^1.3.3",
       "classes": " directed ",
       "data": {
        "id": "fdda5cff-a97d-4489-b562-d7c2ec18fca2",
        "source": "-3593708525088951428",
        "target": "-2342049904412802010"
       },
       "selectable": false
      }
     },
     "50c4dc13ea4244ffa32e310acbe70fc1": {
      "model_module": "jupyter-cytoscape",
      "model_module_version": "^1.3.3",
      "model_name": "NodeModel",
      "state": {
       "_model_module_version": "^1.3.3",
       "_view_module_version": "^1.3.3",
       "data": {
        "color": "gray",
        "id": "-7344073837706355299",
        "label": "",
        "shape": "rectangle"
       },
       "grabbable": true,
       "grabbed": false,
       "position": {
        "x": 304,
        "y": 1235
       },
       "selectable": false
      }
     },
     "511c8bc5b73b498ab300f8fbdd1a750f": {
      "model_module": "jupyter-cytoscape",
      "model_module_version": "^1.3.3",
      "model_name": "NodeModel",
      "state": {
       "_model_module_version": "^1.3.3",
       "_view_module_version": "^1.3.3",
       "data": {
        "color": "gray",
        "id": "-6474060349173047760",
        "label": "(2, 0)",
        "shape": "rectangle"
       },
       "grabbable": true,
       "grabbed": false,
       "position": {
        "x": 729,
        "y": 1475
       },
       "selectable": false
      }
     },
     "51261f407cbd401081b02e1e8e1d3752": {
      "model_module": "jupyter-cytoscape",
      "model_module_version": "^1.3.3",
      "model_name": "NodeModel",
      "state": {
       "_model_module_version": "^1.3.3",
       "_view_module_version": "^1.3.3",
       "data": {
        "color": "gray",
        "id": "-8298368627976420273",
        "label": "getitem",
        "shape": "ellipse"
       },
       "grabbable": true,
       "grabbed": false,
       "position": {
        "x": 314,
        "y": 155
       },
       "selectable": false
      }
     },
     "520af5a5764a4da58fed6d24c54a26b4": {
      "model_module": "jupyter-cytoscape",
      "model_module_version": "^1.3.3",
      "model_name": "EdgeModel",
      "state": {
       "_model_module_version": "^1.3.3",
       "_view_module_version": "^1.3.3",
       "classes": " directed ",
       "data": {
        "id": "3064a0f1-2915-459a-8376-4066ac69e640",
        "source": "4343630600102015789",
        "target": "-3987552335221504767"
       },
       "selectable": false
      }
     },
     "52f550743bc84f02a5fc2fcfcd4389c8": {
      "model_module": "jupyter-cytoscape",
      "model_module_version": "^1.3.3",
      "model_name": "EdgeModel",
      "state": {
       "_model_module_version": "^1.3.3",
       "_view_module_version": "^1.3.3",
       "classes": " directed ",
       "data": {
        "id": "44270699-312b-4489-8beb-020542aa36ad",
        "source": "7544172074734438115",
        "target": "-230404921456622981"
       },
       "selectable": false
      }
     },
     "53a4421d8fae46a8961791669cbd5057": {
      "model_module": "jupyter-cytoscape",
      "model_module_version": "^1.3.3",
      "model_name": "NodeModel",
      "state": {
       "_model_module_version": "^1.3.3",
       "_view_module_version": "^1.3.3",
       "data": {
        "color": "gray",
        "id": "-4144154358512503320",
        "label": "mean_combine-partial",
        "shape": "ellipse"
       },
       "grabbable": true,
       "grabbed": false,
       "position": {
        "x": 311.5,
        "y": 395
       },
       "selectable": false
      }
     },
     "541b84bcfadd491397da9e225a66dbcc": {
      "model_module": "jupyter-cytoscape",
      "model_module_version": "^1.3.3",
      "model_name": "NodeModel",
      "state": {
       "_model_module_version": "^1.3.3",
       "_view_module_version": "^1.3.3",
       "data": {
        "color": "gray",
        "id": "381978703984849675",
        "label": "(1, 0, 0)",
        "shape": "rectangle"
       },
       "grabbable": true,
       "grabbed": false,
       "position": {
        "x": 98,
        "y": 755
       },
       "selectable": false
      }
     },
     "54fb2ca17bc0477dbe29e79c7e751fcc": {
      "model_module": "jupyter-cytoscape",
      "model_module_version": "^1.3.3",
      "model_name": "NodeModel",
      "state": {
       "_model_module_version": "^1.3.3",
       "_view_module_version": "^1.3.3",
       "data": {
        "color": "gray",
        "id": "2897811036950413432",
        "label": "build_waves",
        "shape": "ellipse"
       },
       "grabbable": true,
       "grabbed": false,
       "position": {
        "x": 516.5,
        "y": 635
       },
       "selectable": false
      }
     },
     "56c8faf84fca40d5b6bdce43d3a90d9f": {
      "model_module": "jupyter-cytoscape",
      "model_module_version": "^1.3.3",
      "model_name": "EdgeModel",
      "state": {
       "_model_module_version": "^1.3.3",
       "_view_module_version": "^1.3.3",
       "classes": " directed ",
       "data": {
        "id": "bbe7cb96-f022-43af-b935-a0f16dff4d56",
        "source": "-6196465266914034023",
        "target": "-3314526326687534986"
       },
       "selectable": false
      }
     },
     "56dbcf404969442b8c9770376e44dfb3": {
      "model_module": "jupyter-cytoscape",
      "model_module_version": "^1.3.3",
      "model_name": "NodeModel",
      "state": {
       "_model_module_version": "^1.3.3",
       "_view_module_version": "^1.3.3",
       "data": {
        "color": "gray",
        "id": "2138284708474578092",
        "label": "getitem",
        "shape": "ellipse"
       },
       "grabbable": true,
       "grabbed": false,
       "position": {
        "x": 724,
        "y": 635
       },
       "selectable": false
      }
     },
     "58b1d70d71cb4cac943a0bf3811e0731": {
      "model_module": "jupyter-cytoscape",
      "model_module_version": "^1.3.3",
      "model_name": "NodeModel",
      "state": {
       "_model_module_version": "^1.3.3",
       "_view_module_version": "^1.3.3",
       "data": {
        "color": "gray",
        "id": "-8827835913014507489",
        "label": "0",
        "shape": "rectangle"
       },
       "grabbable": true,
       "grabbed": false,
       "position": {
        "x": 304,
        "y": 1835
       },
       "selectable": false
      }
     },
     "5b1607d37c0f41f3933674a6e887a34f": {
      "model_module": "jupyter-cytoscape",
      "model_module_version": "^1.3.3",
      "model_name": "EdgeModel",
      "state": {
       "_model_module_version": "^1.3.3",
       "_view_module_version": "^1.3.3",
       "classes": " directed ",
       "data": {
        "id": "b0e9d0dd-06f6-4d36-a7b0-eaf9326fbe5f",
        "source": "-684227649182574446",
        "target": "-6985433469959104574"
       },
       "selectable": false
      }
     },
     "5c70260504354f5d9fcb4636e1c718f3": {
      "model_module": "jupyter-cytoscape",
      "model_module_version": "^1.3.3",
      "model_name": "NodeModel",
      "state": {
       "_model_module_version": "^1.3.3",
       "_view_module_version": "^1.3.3",
       "data": {
        "color": "gray",
        "id": "-4113482814637374724",
        "label": "wrap_with_array",
        "shape": "ellipse"
       },
       "grabbable": true,
       "grabbed": false,
       "position": {
        "x": 98,
        "y": 2075
       },
       "selectable": false
      }
     },
     "5cd36e3a613a42278579364709d53aa3": {
      "model_module": "jupyter-cytoscape",
      "model_module_version": "^1.3.3",
      "model_name": "NodeModel",
      "state": {
       "_model_module_version": "^1.3.3",
       "_view_module_version": "^1.3.3",
       "data": {
        "color": "gray",
        "id": "-7310603977497333709",
        "label": "getitem",
        "shape": "ellipse"
       },
       "grabbable": true,
       "grabbed": false,
       "position": {
        "x": 98,
        "y": 1595
       },
       "selectable": false
      }
     },
     "5e004b5d0e0f46e6a0defe72d0beb5ba": {
      "model_module": "jupyter-cytoscape",
      "model_module_version": "^1.3.3",
      "model_name": "EdgeModel",
      "state": {
       "_model_module_version": "^1.3.3",
       "_view_module_version": "^1.3.3",
       "classes": " directed ",
       "data": {
        "id": "8cf4b608-d06f-4220-a644-8ff895ec5cde",
        "source": "2065410493791762658",
        "target": "3865486290529386074"
       },
       "selectable": false
      }
     },
     "6006d26bcf77408b9f82d085b6b8cb56": {
      "model_module": "jupyter-cytoscape",
      "model_module_version": "^1.3.3",
      "model_name": "NodeModel",
      "state": {
       "_model_module_version": "^1.3.3",
       "_view_module_version": "^1.3.3",
       "data": {
        "color": "gray",
        "id": "4037033082981367311",
        "label": "3",
        "shape": "rectangle"
       },
       "grabbable": true,
       "grabbed": false,
       "position": {
        "x": 935,
        "y": 1715
       },
       "selectable": false
      }
     },
     "606fe57df19046609cdff02a97c45400": {
      "model_module": "jupyter-cytoscape",
      "model_module_version": "^1.3.3",
      "model_name": "EdgeModel",
      "state": {
       "_model_module_version": "^1.3.3",
       "_view_module_version": "^1.3.3",
       "classes": " directed ",
       "data": {
        "id": "5946551c-d0cc-4729-9105-1c8a8aad5385",
        "source": "2200123212753603319",
        "target": "-1648361962754339320"
       },
       "selectable": false
      }
     },
     "61243f22227441808f8c7ee6fef90043": {
      "model_module": "jupyter-cytoscape",
      "model_module_version": "^1.3.3",
      "model_name": "NodeModel",
      "state": {
       "_model_module_version": "^1.3.3",
       "_view_module_version": "^1.3.3",
       "data": {
        "color": "gray",
        "id": "5173157996983750842",
        "label": "(0, 0, 0)",
        "shape": "rectangle"
       },
       "grabbable": true,
       "grabbed": false,
       "position": {
        "x": 412.75,
        "y": 755
       },
       "selectable": false
      }
     },
     "61b28112552c4bb4800c46d36746ac34": {
      "model_module": "jupyter-cytoscape",
      "model_module_version": "^1.3.3",
      "model_name": "EdgeModel",
      "state": {
       "_model_module_version": "^1.3.3",
       "_view_module_version": "^1.3.3",
       "classes": " directed ",
       "data": {
        "id": "bc530197-232b-4d2b-9402-203e0ddf3d65",
        "source": "-6796483773692113087",
        "target": "5913611167721914870"
       },
       "selectable": false
      }
     },
     "61d50382d3964d66953f654d5526f773": {
      "model_module": "jupyter-cytoscape",
      "model_module_version": "^1.3.3",
      "model_name": "EdgeModel",
      "state": {
       "_model_module_version": "^1.3.3",
       "_view_module_version": "^1.3.3",
       "classes": " directed ",
       "data": {
        "id": "f869e1cc-967e-4c73-96e3-0c4e8d200e7c",
        "source": "5116571362500262984",
        "target": "8930107111954063677"
       },
       "selectable": false
      }
     },
     "637b2798286646dabd33ce14a5c0982d": {
      "model_module": "jupyter-cytoscape",
      "model_module_version": "^1.3.3",
      "model_name": "NodeModel",
      "state": {
       "_model_module_version": "^1.3.3",
       "_view_module_version": "^1.3.3",
       "data": {
        "color": "gray",
        "id": "8930107111954063677",
        "label": "2",
        "shape": "rectangle"
       },
       "grabbable": true,
       "grabbed": false,
       "position": {
        "x": 729,
        "y": 1715
       },
       "selectable": false
      }
     },
     "64053bddaa65486d9576a4cc495b2435": {
      "model_module": "jupyter-cytoscape",
      "model_module_version": "^1.3.3",
      "model_name": "EdgeModel",
      "state": {
       "_model_module_version": "^1.3.3",
       "_view_module_version": "^1.3.3",
       "classes": " directed ",
       "data": {
        "id": "71c0430a-6d3e-430e-a5bb-1b25e3be6a46",
        "source": "6820823738836433380",
        "target": "-7310603977497333709"
       },
       "selectable": false
      }
     },
     "665df28cbbc4483b9b8db18fc1362b6f": {
      "model_module": "jupyter-cytoscape",
      "model_module_version": "^1.3.3",
      "model_name": "NodeModel",
      "state": {
       "_model_module_version": "^1.3.3",
       "_view_module_version": "^1.3.3",
       "data": {
        "color": "gray",
        "id": "-2342049904412802010",
        "label": "apply_transform",
        "shape": "ellipse"
       },
       "grabbable": true,
       "grabbed": false,
       "position": {
        "x": 930,
        "y": 395
       },
       "selectable": false
      }
     },
     "66c1b7658db148f7b44c8e562983c31d": {
      "model_module": "jupyter-cytoscape",
      "model_module_version": "^1.3.3",
      "model_name": "NodeModel",
      "state": {
       "_model_module_version": "^1.3.3",
       "_view_module_version": "^1.3.3",
       "data": {
        "color": "gray",
        "id": "-3593708525088951428",
        "label": "(0, 0)",
        "shape": "rectangle"
       },
       "grabbable": true,
       "grabbed": false,
       "position": {
        "x": 516.5,
        "y": 515
       },
       "selectable": false
      }
     },
     "680fde01af4a4411b4827ed65400d4f8": {
      "model_module": "jupyter-cytoscape",
      "model_module_version": "^1.3.3",
      "model_name": "EdgeModel",
      "state": {
       "_model_module_version": "^1.3.3",
       "_view_module_version": "^1.3.3",
       "classes": " directed ",
       "data": {
        "id": "5f8b8bb1-b993-4c8a-b44a-7bfa5cb9028f",
        "source": "-4879822329518210859",
        "target": "1658173419409573162"
       },
       "selectable": false
      }
     },
     "68d1ae254f734781b2cf7fd7d5a11495": {
      "model_module": "jupyter-cytoscape",
      "model_module_version": "^1.3.3",
      "model_name": "EdgeModel",
      "state": {
       "_model_module_version": "^1.3.3",
       "_view_module_version": "^1.3.3",
       "classes": " directed ",
       "data": {
        "id": "0561c53a-bc1a-46d0-9957-c4bc534c92d7",
        "source": "-6985433469959104574",
        "target": "-7535929885956994589"
       },
       "selectable": false
      }
     },
     "691ed10df23346bca47febe2cfac3570": {
      "model_module": "jupyter-cytoscape",
      "model_module_version": "^1.3.3",
      "model_name": "NodeModel",
      "state": {
       "_model_module_version": "^1.3.3",
       "_view_module_version": "^1.3.3",
       "data": {
        "color": "gray",
        "id": "5913611167721914870",
        "label": "()",
        "shape": "rectangle"
       },
       "grabbable": true,
       "grabbed": false,
       "position": {
        "x": 516.5,
        "y": 755
       },
       "selectable": false
      }
     },
     "6ad9a93922114fc5970bba10e505223c": {
      "model_module": "jupyter-cytoscape",
      "model_module_version": "^1.3.3",
      "model_name": "NodeModel",
      "state": {
       "_model_module_version": "^1.3.3",
       "_view_module_version": "^1.3.3",
       "data": {
        "color": "gray",
        "id": "-8298368627976420273",
        "label": "getitem",
        "shape": "ellipse"
       },
       "grabbable": true,
       "grabbed": false,
       "position": {
        "x": 98,
        "y": 1115
       },
       "selectable": false
      }
     },
     "6e051b814cac4539bd199ddeb9b757e8": {
      "model_module": "jupyter-cytoscape",
      "model_module_version": "^1.3.3",
      "model_name": "EdgeModel",
      "state": {
       "_model_module_version": "^1.3.3",
       "_view_module_version": "^1.3.3",
       "classes": " directed ",
       "data": {
        "id": "8ccb60d4-0af2-44e0-b1a6-39ce2f8099d4",
        "source": "5116571362500262984",
        "target": "8930107111954063677"
       },
       "selectable": false
      }
     },
     "72259ca8d36742cea832bf0117a82442": {
      "model_module": "jupyter-cytoscape",
      "model_module_version": "^1.3.3",
      "model_name": "NodeModel",
      "state": {
       "_model_module_version": "^1.3.3",
       "_view_module_version": "^1.3.3",
       "data": {
        "color": "gray",
        "id": "-7521909501782290201",
        "label": "",
        "shape": "rectangle"
       },
       "grabbable": true,
       "grabbed": false,
       "position": {
        "x": 304,
        "y": 1955
       },
       "selectable": false
      }
     },
     "7376180cd6464f9a83f949ce9a2d2ec8": {
      "model_module": "jupyter-cytoscape",
      "model_module_version": "^1.3.3",
      "model_name": "EdgeModel",
      "state": {
       "_model_module_version": "^1.3.3",
       "_view_module_version": "^1.3.3",
       "classes": " directed ",
       "data": {
        "id": "39bd04f5-9e06-49e0-9ce9-3d03278b1e57",
        "source": "-8827835913014507489",
        "target": "-6732846305900421870"
       },
       "selectable": false
      }
     },
     "747c920037794997a1a37722a1376d75": {
      "model_module": "jupyter-cytoscape",
      "model_module_version": "^1.3.3",
      "model_name": "EdgeModel",
      "state": {
       "_model_module_version": "^1.3.3",
       "_view_module_version": "^1.3.3",
       "classes": " directed ",
       "data": {
        "id": "febf51dc-ae0f-4378-ac1b-85db5cfb1dbc",
        "source": "2603075591425295929",
        "target": "-3083138079535866035"
       },
       "selectable": false
      }
     },
     "76e6a5fae97542e9a99c7346b863050f": {
      "model_module": "jupyter-cytoscape",
      "model_module_version": "^1.3.3",
      "model_name": "EdgeModel",
      "state": {
       "_model_module_version": "^1.3.3",
       "_view_module_version": "^1.3.3",
       "classes": " directed ",
       "data": {
        "id": "749e504f-dbbf-4a65-bbf0-9e78ee899ac8",
        "source": "4545804275531060540",
        "target": "-7475103573312209962"
       },
       "selectable": false
      }
     },
     "7beb8010a8f64a798ec30dfcbf939f94": {
      "model_module": "jupyter-cytoscape",
      "model_module_version": "^1.3.3",
      "model_name": "NodeModel",
      "state": {
       "_model_module_version": "^1.3.3",
       "_view_module_version": "^1.3.3",
       "data": {
        "color": "gray",
        "id": "-6196465266914034023",
        "label": "",
        "shape": "rectangle"
       },
       "grabbable": true,
       "grabbed": false,
       "position": {
        "x": 935,
        "y": 1955
       },
       "selectable": false
      }
     },
     "7fcc3ad6d0004673aadb967caae7807d": {
      "model_module": "jupyter-cytoscape",
      "model_module_version": "^1.3.3",
      "model_name": "NodeModel",
      "state": {
       "_model_module_version": "^1.3.3",
       "_view_module_version": "^1.3.3",
       "data": {
        "color": "gray",
        "id": "6820823738836433380",
        "label": "1",
        "shape": "rectangle"
       },
       "grabbable": true,
       "grabbed": false,
       "position": {
        "x": 98,
        "y": 1715
       },
       "selectable": false
      }
     },
     "8217183248c24306a93815b2e4fd626f": {
      "model_module": "jupyter-cytoscape",
      "model_module_version": "^1.3.3",
      "model_name": "EdgeModel",
      "state": {
       "_model_module_version": "^1.3.3",
       "_view_module_version": "^1.3.3",
       "classes": " directed ",
       "data": {
        "id": "d5c2cb54-2762-4796-875e-43cfb51d49c6",
        "source": "381978703984849675",
        "target": "8811836834344767488"
       },
       "selectable": false
      }
     },
     "82cb936a061d4b21908e5d72cb6f9a78": {
      "model_module": "jupyter-cytoscape",
      "model_module_version": "^1.3.3",
      "model_name": "NodeModel",
      "state": {
       "_model_module_version": "^1.3.3",
       "_view_module_version": "^1.3.3",
       "data": {
        "color": "gray",
        "id": "-3667003760153278759",
        "label": "mean_chunk",
        "shape": "ellipse"
       },
       "grabbable": true,
       "grabbed": false,
       "position": {
        "x": 729,
        "y": 635
       },
       "selectable": false
      }
     },
     "830c19a5acc64cbab996a3b6ff37f5b6": {
      "model_module": "jupyter-cytoscape",
      "model_module_version": "^1.3.3",
      "model_name": "NodeModel",
      "state": {
       "_model_module_version": "^1.3.3",
       "_view_module_version": "^1.3.3",
       "data": {
        "color": "gray",
        "id": "-4113482814637374724",
        "label": "wrap_with_array",
        "shape": "ellipse"
       },
       "grabbable": true,
       "grabbed": false,
       "position": {
        "x": 304,
        "y": 1115
       },
       "selectable": false
      }
     },
     "84234aba5661452b8a249f57ce68db6a": {
      "model_module": "jupyter-cytoscape",
      "model_module_version": "^1.3.3",
      "model_name": "NodeModel",
      "state": {
       "_model_module_version": "^1.3.3",
       "_view_module_version": "^1.3.3",
       "data": {
        "color": "gray",
        "id": "4559592919312361497",
        "label": "(0, 0)",
        "shape": "rectangle"
       },
       "grabbable": true,
       "grabbed": false,
       "position": {
        "x": 304,
        "y": 1475
       },
       "selectable": false
      }
     },
     "86748082cc6c4375b397355a7c108440": {
      "model_module": "jupyter-cytoscape",
      "model_module_version": "^1.3.3",
      "model_name": "NodeModel",
      "state": {
       "_model_module_version": "^1.3.3",
       "_view_module_version": "^1.3.3",
       "data": {
        "color": "gray",
        "id": "4386842957165667525",
        "label": "abs2",
        "shape": "ellipse"
       },
       "grabbable": true,
       "grabbed": false,
       "position": {
        "x": 412.75,
        "y": 875
       },
       "selectable": false
      }
     },
     "86b486c81e5940f3a9f90a846e3ac0be": {
      "model_module": "jupyter-cytoscape",
      "model_module_version": "^1.3.3",
      "model_name": "NodeModel",
      "state": {
       "_model_module_version": "^1.3.3",
       "_view_module_version": "^1.3.3",
       "data": {
        "color": "gray",
        "id": "-5861860859088581121",
        "label": "apply_transform",
        "shape": "ellipse"
       },
       "grabbable": true,
       "grabbed": false,
       "position": {
        "x": 412.75,
        "y": 1355
       },
       "selectable": false
      }
     },
     "87e6d630a89643fda9565fb6df75fbe4": {
      "model_module": "jupyter-cytoscape",
      "model_module_version": "^1.3.3",
      "model_name": "NodeModel",
      "state": {
       "_model_module_version": "^1.3.3",
       "_view_module_version": "^1.3.3",
       "data": {
        "color": "gray",
        "id": "-6531451423884885681",
        "label": "",
        "shape": "rectangle"
       },
       "grabbable": true,
       "grabbed": false,
       "position": {
        "x": 729,
        "y": 2195
       },
       "selectable": false
      }
     },
     "88459a0780404bab83f0fda557203695": {
      "model_module": "jupyter-cytoscape",
      "model_module_version": "^1.3.3",
      "model_name": "EdgeModel",
      "state": {
       "_model_module_version": "^1.3.3",
       "_view_module_version": "^1.3.3",
       "classes": " directed ",
       "data": {
        "id": "1ce8fd0d-13b1-415f-932c-0a3180a0b57f",
        "source": "-2815456313386763074",
        "target": "2555837921515829398"
       },
       "selectable": false
      }
     },
     "885187ab5bbd4bf7ac8c90e5bd6d4bf7": {
      "model_module": "jupyter-cytoscape",
      "model_module_version": "^1.3.3",
      "model_name": "GraphModel",
      "state": {
       "_adj": {
        "-1162988058898088753": {},
        "-1677512154397951122": {},
        "-2342049904412802010": {},
        "-2591056080245297848": {},
        "-2815456313386763074": {},
        "-3083138079535866035": {},
        "-3314526326687534986": {},
        "-3593708525088951428": {},
        "-4113482814637374724": {},
        "-4189307551585611252": {},
        "-4879822329518210859": {},
        "-5076179833641889531": {},
        "-5861860859088581121": {},
        "-6196465266914034023": {},
        "-6474060349173047760": {},
        "-6531451423884885681": {},
        "-6732846305900421870": {},
        "-6796483773692113087": {},
        "-684227649182574446": {},
        "-6985433469959104574": {},
        "-7310603977497333709": {},
        "-7344073837706355299": {},
        "-7521909501782290201": {},
        "-7535929885956994589": {},
        "-8298368627976420273": {},
        "-8827835913014507489": {},
        "1658173419409573162": {},
        "2065410493791762658": {},
        "2138284708474578092": {},
        "2200123212753603319": {},
        "23348537384176463": {},
        "2555837921515829398": {},
        "2603075591425295929": {},
        "2897811036950413432": {},
        "3216764353020735326": {},
        "3838090120907428870": {},
        "3865486290529386074": {},
        "3994302875326649304": {},
        "4037033082981367311": {},
        "4343630600102015789": {},
        "4559592919312361497": {},
        "5112523144218638577": {},
        "5116571362500262984": {},
        "5913611167721914870": {},
        "6820823738836433380": {},
        "7848625483293829867": {},
        "8930107111954063677": {},
        "9071299937934193216": {}
       },
       "_model_module_version": "^1.3.3",
       "_view_module": "jupyter-cytoscape",
       "_view_module_version": "^1.3.3",
       "edges": [
        "IPY_MODEL_3907b0877e734388997952df473bda94",
        "IPY_MODEL_90eb9aba5a194b0d90b6903186051715",
        "IPY_MODEL_293db1f622354ae2bd9d86defab43142",
        "IPY_MODEL_d1ab4c852ba047208c6c7e18e6f0880e",
        "IPY_MODEL_bdfd6b79a5fd4b93bd0824db135d5d7c",
        "IPY_MODEL_680fde01af4a4411b4827ed65400d4f8",
        "IPY_MODEL_ea34a661b5824a378b2aee967c59d262",
        "IPY_MODEL_ddaa392249a34764b455ebe88262932e",
        "IPY_MODEL_3457b5c0977142cc9eacf720608c1e3f",
        "IPY_MODEL_0224375d275a45a9ae7ae8bc48fcbaf2",
        "IPY_MODEL_3b603b21bec1475cac269d501186b712",
        "IPY_MODEL_1b43ceaf83cb4df39f80c5ad1ae93c1b",
        "IPY_MODEL_b41b35fb65b9464f8d618e3f972d00d5",
        "IPY_MODEL_aaa0f9501aec42549d1b344c83f5f42c",
        "IPY_MODEL_6e051b814cac4539bd199ddeb9b757e8",
        "IPY_MODEL_15c5c31a24994d5b97ac78c59299d014",
        "IPY_MODEL_e82960bde2c244bcb2655587c3550227",
        "IPY_MODEL_eb28d869e12f4a9485d939dcc3443bab",
        "IPY_MODEL_db4875592c1e43628a96298913882880",
        "IPY_MODEL_3a6a617dba7b4574b8ca93310c9aded6",
        "IPY_MODEL_0e205d47f7c1463f8549fe9eb21ef23f",
        "IPY_MODEL_43d7ae03ebca446784875480ede0bc81",
        "IPY_MODEL_e22e8469d6324454956709ea5c4851ac",
        "IPY_MODEL_ae941f03d4a84dcd9cde0a68bbc58529",
        "IPY_MODEL_94a06028f6724335a67f2d6475af9377",
        "IPY_MODEL_b2a02521a1f44fd08b7864c2f6053b9b",
        "IPY_MODEL_1b0af05d8d7c47a0a1e90882ef56f7a9",
        "IPY_MODEL_9243c41d6d6f41cda36de8b0b90f8a12",
        "IPY_MODEL_acf303fb61a94551b82fcfa45c0e42fc",
        "IPY_MODEL_c0aa074b7117477da0846d4369bf9352",
        "IPY_MODEL_2d3b0453e8bd4fbc92df3a672d40326e",
        "IPY_MODEL_d6da9bdf6ea346f2b9458a2bb7a370db",
        "IPY_MODEL_8e7a244e872a4e78bba7f9280b2b3ad6",
        "IPY_MODEL_8c0568eff9b74e58b1daed5b6ae5698c",
        "IPY_MODEL_5e004b5d0e0f46e6a0defe72d0beb5ba",
        "IPY_MODEL_fb54ad3215c9485bb568b12827e48fba",
        "IPY_MODEL_22e130c84eb84bb5857ca256c4ea0fb0",
        "IPY_MODEL_f39f996ecd814cb0bccef645edd6bc68",
        "IPY_MODEL_d9b12111f9c54f9faa444ad208710776",
        "IPY_MODEL_68d1ae254f734781b2cf7fd7d5a11495",
        "IPY_MODEL_96387d74de224b8d8dff632372089609",
        "IPY_MODEL_b80ac13df96045adbd1adfc3f2f7448a",
        "IPY_MODEL_bb2299f7f02d423782d8bb96845ea42e",
        "IPY_MODEL_ee5782b56a2b438eaf0a37aa72c80b50",
        "IPY_MODEL_aface49b09ed4e9ba5377d65eec0a546",
        "IPY_MODEL_f5198c0d561e49258b830a192ac0f8a7",
        "IPY_MODEL_d6e2dd5932a24c9ab065d17211664cea"
       ],
       "nodes": [
        "IPY_MODEL_3a827f6389ac4d1c867afa47b484fc3d",
        "IPY_MODEL_ae9e2fecf1054b43a61f68c93f9da1c0",
        "IPY_MODEL_66c1b7658db148f7b44c8e562983c31d",
        "IPY_MODEL_10b7cb25394c4daf998c690e24330f68",
        "IPY_MODEL_23248211f60d4207bef35a8f6d72403c",
        "IPY_MODEL_445d886fa8274fe387845459577c1636",
        "IPY_MODEL_060846b316704aa5bd04f683952aef86",
        "IPY_MODEL_f3ee88337c9d455e9f398d20bbe22b40",
        "IPY_MODEL_192c2d5d9ce048b2adc488d73637c781",
        "IPY_MODEL_fc7918cfcdba4558906f5692ab11ef72",
        "IPY_MODEL_665df28cbbc4483b9b8db18fc1362b6f",
        "IPY_MODEL_24639027cfc14a43b1a3244058fbe884",
        "IPY_MODEL_e86dd3f1468e4cd38994ac1eb1ea85a0",
        "IPY_MODEL_9d70dfbfe0da436591e343c6a40834f9",
        "IPY_MODEL_ae6831840ad54886809f3fc4a38cd621",
        "IPY_MODEL_ebc4e8a4e6784ee59f14222535ca22ff",
        "IPY_MODEL_b61c286de9c244ba922a1924bf7743fc",
        "IPY_MODEL_0a33faeacb3048e295b0aa79d53976a3",
        "IPY_MODEL_f19173140fdf404d93fc823e053ce753",
        "IPY_MODEL_3ece56da653c405d8aa0bdf2cd54ea3c",
        "IPY_MODEL_d6e25c0d95d9436db4cf7632ab0a8ea7",
        "IPY_MODEL_50c4dc13ea4244ffa32e310acbe70fc1",
        "IPY_MODEL_830c19a5acc64cbab996a3b6ff37f5b6",
        "IPY_MODEL_20477bbb11904f509a9e591b33309391",
        "IPY_MODEL_b7f224227f8c46948c1e1d09989e983b",
        "IPY_MODEL_bec829de8d7a4b8593038208bcaea8fd",
        "IPY_MODEL_fe0694c169bb49469e05f078b6de230a",
        "IPY_MODEL_44a60259790a4196a1304b0ee1e6b7be",
        "IPY_MODEL_9f5cbdfa9db64fe3becf3b6b64697654",
        "IPY_MODEL_dfda567d45a34aa1b4de7f5b687603a5",
        "IPY_MODEL_4a9a09169a2a45d9b9fe5bf7380c771f",
        "IPY_MODEL_a0891c4df82b4af4b5f2db07b819f0f2",
        "IPY_MODEL_ec9a83153403466787b97adad31b4354",
        "IPY_MODEL_e21992e144794c7781b7a91fd8717690",
        "IPY_MODEL_ac5e4f42fe454b58a37274a626be86a7",
        "IPY_MODEL_56dbcf404969442b8c9770376e44dfb3",
        "IPY_MODEL_0e539f77077c49148676d6f7c3545bef",
        "IPY_MODEL_a06316978dbe47b18bf18ac147fffa7e",
        "IPY_MODEL_691ed10df23346bca47febe2cfac3570",
        "IPY_MODEL_54fb2ca17bc0477dbe29e79c7e751fcc",
        "IPY_MODEL_d1eddce2cef74a78836d11e463c2c9ff",
        "IPY_MODEL_13e1d177b0234cd6af72f4530154461f",
        "IPY_MODEL_51261f407cbd401081b02e1e8e1d3752",
        "IPY_MODEL_cf47907112d94e3f8ce64dd179371985",
        "IPY_MODEL_325e10d37c8342c7ad081285317d6686",
        "IPY_MODEL_89a9f0be4d054606be280834922d205f",
        "IPY_MODEL_e3bd936550714fcbaf159354bc4b3252",
        "IPY_MODEL_ab5ce5ee65c54587b9708933c1955685"
       ]
      }
     },
     "88a96a830db24a37ad631d3f8aeb1b3c": {
      "model_module": "jupyter-cytoscape",
      "model_module_version": "^1.3.3",
      "model_name": "NodeModel",
      "state": {
       "_model_module_version": "^1.3.3",
       "_view_module_version": "^1.3.3",
       "data": {
        "color": "gray",
        "id": "9071299937934193216",
        "label": "(3, 0, 0, 0)",
        "shape": "rectangle"
       },
       "grabbable": true,
       "grabbed": false,
       "position": {
        "x": 935,
        "y": 1235
       },
       "selectable": false
      }
     },
     "88d3fe60a1c042fca57604ff0580939d": {
      "model_module": "jupyter-cytoscape",
      "model_module_version": "^1.3.3",
      "model_name": "NodeModel",
      "state": {
       "_model_module_version": "^1.3.3",
       "_view_module_version": "^1.3.3",
       "data": {
        "color": "gray",
        "id": "8858137867545646120",
        "label": "(1, 0, 0)",
        "shape": "rectangle"
       },
       "grabbable": true,
       "grabbed": false,
       "position": {
        "x": 98,
        "y": 515
       },
       "selectable": false
      }
     },
     "88fe60cb64a44650864775fb3eafe1f2": {
      "model_module": "jupyter-cytoscape",
      "model_module_version": "^1.3.3",
      "model_name": "EdgeModel",
      "state": {
       "_model_module_version": "^1.3.3",
       "_view_module_version": "^1.3.3",
       "classes": " directed ",
       "data": {
        "id": "f72431e0-4458-42c6-8254-06e974e1e2a9",
        "source": "-7521909501782290201",
        "target": "-8827835913014507489"
       },
       "selectable": false
      }
     },
     "89a9f0be4d054606be280834922d205f": {
      "model_module": "jupyter-cytoscape",
      "model_module_version": "^1.3.3",
      "model_name": "NodeModel",
      "state": {
       "_model_module_version": "^1.3.3",
       "_view_module_version": "^1.3.3",
       "data": {
        "color": "gray",
        "id": "2200123212753603319",
        "label": "(2, 0, 0)",
        "shape": "rectangle"
       },
       "grabbable": true,
       "grabbed": false,
       "position": {
        "x": 719,
        "y": 35
       },
       "selectable": false
      }
     },
     "89cb2273545d4b07b6570d689c4472cd": {
      "model_module": "jupyter-cytoscape",
      "model_module_version": "^1.3.3",
      "model_name": "NodeModel",
      "state": {
       "_model_module_version": "^1.3.3",
       "_view_module_version": "^1.3.3",
       "data": {
        "color": "gray",
        "id": "3216764353020735326",
        "label": "(2, 0, 0, 0)",
        "shape": "rectangle"
       },
       "grabbable": true,
       "grabbed": false,
       "position": {
        "x": 729,
        "y": 1235
       },
       "selectable": false
      }
     },
     "8b31eb8ef5ff4e25b98abcd49ba0d271": {
      "model_module": "jupyter-cytoscape",
      "model_module_version": "^1.3.3",
      "model_name": "EdgeModel",
      "state": {
       "_model_module_version": "^1.3.3",
       "_view_module_version": "^1.3.3",
       "classes": " directed ",
       "data": {
        "id": "4c828a73-78d0-4441-9694-09f2e7c0c968",
        "source": "-1162988058898088753",
        "target": "-2591056080245297848"
       },
       "selectable": false
      }
     },
     "8ba8674dcec54288bf48c6362ee34bb5": {
      "model_module": "jupyter-cytoscape",
      "model_module_version": "^1.3.3",
      "model_name": "EdgeModel",
      "state": {
       "_model_module_version": "^1.3.3",
       "_view_module_version": "^1.3.3",
       "classes": " directed ",
       "data": {
        "id": "c5389392-e08d-440e-9452-809692ee14ed",
        "source": "4037033082981367311",
        "target": "2065410493791762658"
       },
       "selectable": false
      }
     },
     "8c0568eff9b74e58b1daed5b6ae5698c": {
      "model_module": "jupyter-cytoscape",
      "model_module_version": "^1.3.3",
      "model_name": "EdgeModel",
      "state": {
       "_model_module_version": "^1.3.3",
       "_view_module_version": "^1.3.3",
       "classes": " directed ",
       "data": {
        "id": "c42d4596-8a7a-410f-b2e5-fdb526c76a35",
        "source": "8930107111954063677",
        "target": "2138284708474578092"
       },
       "selectable": false
      }
     },
     "8e7a244e872a4e78bba7f9280b2b3ad6": {
      "model_module": "jupyter-cytoscape",
      "model_module_version": "^1.3.3",
      "model_name": "EdgeModel",
      "state": {
       "_model_module_version": "^1.3.3",
       "_view_module_version": "^1.3.3",
       "classes": " directed ",
       "data": {
        "id": "040968e3-95ab-4e9a-9e5a-5594f8ee8774",
        "source": "2138284708474578092",
        "target": "-6474060349173047760"
       },
       "selectable": false
      }
     },
     "8f06665defcf43628413bf6bc18491ad": {
      "model_module": "jupyter-cytoscape",
      "model_module_version": "^1.3.3",
      "model_name": "EdgeModel",
      "state": {
       "_model_module_version": "^1.3.3",
       "_view_module_version": "^1.3.3",
       "classes": " directed ",
       "data": {
        "id": "2527bfec-7c6a-4107-9cd3-46e67b517d08",
        "source": "8811836834344767488",
        "target": "8858137867545646120"
       },
       "selectable": false
      }
     },
     "8f2d554653d04fa18e675a254120443d": {
      "model_module": "jupyter-cytoscape",
      "model_module_version": "^1.3.3",
      "model_name": "EdgeModel",
      "state": {
       "_model_module_version": "^1.3.3",
       "_view_module_version": "^1.3.3",
       "classes": " directed ",
       "data": {
        "id": "02485c1d-e14c-4a23-817e-77f5eaa72fe6",
        "source": "-3667003760153278759",
        "target": "8021529477702927584"
       },
       "selectable": false
      }
     },
     "8f37b9f0174547808b3b849ed2e4156c": {
      "model_module": "jupyter-cytoscape",
      "model_module_version": "^1.3.3",
      "model_name": "NodeModel",
      "state": {
       "_model_module_version": "^1.3.3",
       "_view_module_version": "^1.3.3",
       "data": {
        "color": "gray",
        "id": "2636828699620805333",
        "label": "(2, 0, 0)",
        "shape": "rectangle"
       },
       "grabbable": true,
       "grabbed": false,
       "position": {
        "x": 729,
        "y": 755
       },
       "selectable": false
      }
     },
     "90104be59d76429287ea608701d475ee": {
      "model_module": "jupyter-cytoscape",
      "model_module_version": "^1.3.3",
      "model_name": "EdgeModel",
      "state": {
       "_model_module_version": "^1.3.3",
       "_view_module_version": "^1.3.3",
       "classes": " directed ",
       "data": {
        "id": "46570a97-babd-4d52-b45a-4191ab853732",
        "source": "7378857194019156031",
        "target": "3174104662205318362"
       },
       "selectable": false
      }
     },
     "90eb9aba5a194b0d90b6903186051715": {
      "model_module": "jupyter-cytoscape",
      "model_module_version": "^1.3.3",
      "model_name": "EdgeModel",
      "state": {
       "_model_module_version": "^1.3.3",
       "_view_module_version": "^1.3.3",
       "classes": " directed ",
       "data": {
        "id": "6d4f8e6f-d024-4c01-ac91-5412616f5b40",
        "source": "4559592919312361497",
        "target": "-5861860859088581121"
       },
       "selectable": false
      }
     },
     "913d13d80a2d4611af3b4d61ef4ea131": {
      "model_module": "jupyter-cytoscape",
      "model_module_version": "^1.3.3",
      "model_name": "EdgeModel",
      "state": {
       "_model_module_version": "^1.3.3",
       "_view_module_version": "^1.3.3",
       "classes": " directed ",
       "data": {
        "id": "86af0c48-638e-4fec-a678-4370a6c3708f",
        "source": "-1648361962754339320",
        "target": "2636828699620805333"
       },
       "selectable": false
      }
     },
     "9243c41d6d6f41cda36de8b0b90f8a12": {
      "model_module": "jupyter-cytoscape",
      "model_module_version": "^1.3.3",
      "model_name": "EdgeModel",
      "state": {
       "_model_module_version": "^1.3.3",
       "_view_module_version": "^1.3.3",
       "classes": " directed ",
       "data": {
        "id": "b3f338b5-6a7b-4d1e-9a37-064486a7d44a",
        "source": "-6196465266914034023",
        "target": "-3314526326687534986"
       },
       "selectable": false
      }
     },
     "92d5e5e1f0464ab8a5909f6ca4850ec8": {
      "model_module": "jupyter-cytoscape",
      "model_module_version": "^1.3.3",
      "model_name": "EdgeModel",
      "state": {
       "_model_module_version": "^1.3.3",
       "_view_module_version": "^1.3.3",
       "classes": " directed ",
       "data": {
        "id": "9b98ae2d-3988-4d50-8fc7-94ee891bed93",
        "source": "-3987552335221504767",
        "target": "381978703984849675"
       },
       "selectable": false
      }
     },
     "94a06028f6724335a67f2d6475af9377": {
      "model_module": "jupyter-cytoscape",
      "model_module_version": "^1.3.3",
      "model_name": "EdgeModel",
      "state": {
       "_model_module_version": "^1.3.3",
       "_view_module_version": "^1.3.3",
       "classes": " directed ",
       "data": {
        "id": "9b0c6823-9884-4fe4-ba97-8755df699f07",
        "source": "2555837921515829398",
        "target": "5116571362500262984"
       },
       "selectable": false
      }
     },
     "96387d74de224b8d8dff632372089609": {
      "model_module": "jupyter-cytoscape",
      "model_module_version": "^1.3.3",
      "model_name": "EdgeModel",
      "state": {
       "_model_module_version": "^1.3.3",
       "_view_module_version": "^1.3.3",
       "classes": " directed ",
       "data": {
        "id": "00c3df6e-2d4d-41f4-92b2-dcf526565b40",
        "source": "-684227649182574446",
        "target": "-6985433469959104574"
       },
       "selectable": false
      }
     },
     "9657205677c848a48684b8ecd8fc8df6": {
      "model_module": "jupyter-cytoscape",
      "model_module_version": "^1.3.3",
      "model_name": "NodeModel",
      "state": {
       "_model_module_version": "^1.3.3",
       "_view_module_version": "^1.3.3",
       "data": {
        "color": "gray",
        "id": "-3083138079535866035",
        "label": "wrap_with_array",
        "shape": "ellipse"
       },
       "grabbable": true,
       "grabbed": false,
       "position": {
        "x": 304,
        "y": 2075
       },
       "selectable": false
      }
     },
     "98db46f0148b464382f02121325fc253": {
      "model_module": "jupyter-cytoscape",
      "model_module_version": "^1.3.3",
      "model_name": "EdgeModel",
      "state": {
       "_model_module_version": "^1.3.3",
       "_view_module_version": "^1.3.3",
       "classes": " directed ",
       "data": {
        "id": "7dfb7f86-176e-45c8-9893-8c05ee28c32b",
        "source": "-6474060349173047760",
        "target": "23348537384176463"
       },
       "selectable": false
      }
     },
     "9abf2950d59f4bf8b6d13415405973eb": {
      "model_module": "jupyter-cytoscape",
      "model_module_version": "^1.3.3",
      "model_name": "NodeModel",
      "state": {
       "_model_module_version": "^1.3.3",
       "_view_module_version": "^1.3.3",
       "data": {
        "color": "gray",
        "id": "2200123212753603319",
        "label": "(2, 0, 0)",
        "shape": "rectangle"
       },
       "grabbable": true,
       "grabbed": false,
       "position": {
        "x": 729,
        "y": 995
       },
       "selectable": false
      }
     },
     "9c4863522bd34565aeb842ad932120fe": {
      "model_module": "jupyter-cytoscape",
      "model_module_version": "^1.3.3",
      "model_name": "NodeModel",
      "state": {
       "_model_module_version": "^1.3.3",
       "_view_module_version": "^1.3.3",
       "data": {
        "color": "gray",
        "id": "-5076179833641889531",
        "label": "0",
        "shape": "rectangle"
       },
       "grabbable": true,
       "grabbed": false,
       "position": {
        "x": 98,
        "y": 1835
       },
       "selectable": false
      }
     },
     "9ce4d0a63d274dfa9d59b28322f4dc2a": {
      "model_module": "jupyter-cytoscape",
      "model_module_version": "^1.3.3",
      "model_name": "EdgeModel",
      "state": {
       "_model_module_version": "^1.3.3",
       "_view_module_version": "^1.3.3",
       "classes": " directed ",
       "data": {
        "id": "d33d388b-5510-4f6e-bda2-8b13e3a9afef",
        "source": "-1677512154397951122",
        "target": "4559592919312361497"
       },
       "selectable": false
      }
     },
     "9d70dfbfe0da436591e343c6a40834f9": {
      "model_module": "jupyter-cytoscape",
      "model_module_version": "^1.3.3",
      "model_name": "NodeModel",
      "state": {
       "_model_module_version": "^1.3.3",
       "_view_module_version": "^1.3.3",
       "data": {
        "color": "gray",
        "id": "-6732846305900421870",
        "label": "0",
        "shape": "rectangle"
       },
       "grabbable": true,
       "grabbed": false,
       "position": {
        "x": 98,
        "y": 755
       },
       "selectable": false
      }
     },
     "9e09d6acc68e4014a58e69cef90d4e45": {
      "model_module": "jupyter-cytoscape",
      "model_module_version": "^1.3.3",
      "model_name": "EdgeModel",
      "state": {
       "_model_module_version": "^1.3.3",
       "_view_module_version": "^1.3.3",
       "classes": " directed ",
       "data": {
        "id": "3ce98f5d-ff9d-45ed-963e-5aba3f5a32dd",
        "source": "-3083138079535866035",
        "target": "-7521909501782290201"
       },
       "selectable": false
      }
     },
     "9f43e830ce3c4a21a610676d25b3f934": {
      "model_module": "jupyter-cytoscape",
      "model_module_version": "^1.3.3",
      "model_name": "NodeModel",
      "state": {
       "_model_module_version": "^1.3.3",
       "_view_module_version": "^1.3.3",
       "data": {
        "color": "gray",
        "id": "7848625483293829867",
        "label": "",
        "shape": "rectangle"
       },
       "grabbable": true,
       "grabbed": false,
       "position": {
        "x": 935,
        "y": 2195
       },
       "selectable": false
      }
     },
     "9f5cbdfa9db64fe3becf3b6b64697654": {
      "model_module": "jupyter-cytoscape",
      "model_module_version": "^1.3.3",
      "model_name": "NodeModel",
      "state": {
       "_model_module_version": "^1.3.3",
       "_view_module_version": "^1.3.3",
       "data": {
        "color": "gray",
        "id": "5116571362500262984",
        "label": "0",
        "shape": "rectangle"
       },
       "grabbable": true,
       "grabbed": false,
       "position": {
        "x": 724,
        "y": 875
       },
       "selectable": false
      }
     },
     "a005c5072bca461dbe5030be2cc1485d": {
      "model_module": "jupyter-cytoscape",
      "model_module_version": "^1.3.3",
      "model_name": "NodeModel",
      "state": {
       "_model_module_version": "^1.3.3",
       "_view_module_version": "^1.3.3",
       "data": {
        "color": "gray",
        "id": "4343630600102015789",
        "label": "(1, 0, 0)",
        "shape": "rectangle"
       },
       "grabbable": true,
       "grabbed": false,
       "position": {
        "x": 98,
        "y": 995
       },
       "selectable": false
      }
     },
     "a06316978dbe47b18bf18ac147fffa7e": {
      "model_module": "jupyter-cytoscape",
      "model_module_version": "^1.3.3",
      "model_name": "NodeModel",
      "state": {
       "_model_module_version": "^1.3.3",
       "_view_module_version": "^1.3.3",
       "data": {
        "color": "gray",
        "id": "-6796483773692113087",
        "label": "from_partitioned_args_func",
        "shape": "ellipse"
       },
       "grabbable": true,
       "grabbed": false,
       "position": {
        "x": 516.5,
        "y": 875
       },
       "selectable": false
      }
     },
     "a0891c4df82b4af4b5f2db07b819f0f2": {
      "model_module": "jupyter-cytoscape",
      "model_module_version": "^1.3.3",
      "model_name": "NodeModel",
      "state": {
       "_model_module_version": "^1.3.3",
       "_view_module_version": "^1.3.3",
       "data": {
        "color": "gray",
        "id": "-6196465266914034023",
        "label": "",
        "shape": "rectangle"
       },
       "grabbable": true,
       "grabbed": false,
       "position": {
        "x": 930,
        "y": 995
       },
       "selectable": false
      }
     },
     "a2ff1a5a54504070a9d23387e73ddf85": {
      "model_module": "jupyter-cytoscape",
      "model_module_version": "^1.3.3",
      "model_name": "EdgeModel",
      "state": {
       "_model_module_version": "^1.3.3",
       "_view_module_version": "^1.3.3",
       "classes": " directed ",
       "data": {
        "id": "cb73144e-9a32-4aed-a8fa-fb0a02b9d1e7",
        "source": "-230404921456622981",
        "target": "4545804275531060540"
       },
       "selectable": false
      }
     },
     "a370f09eacb14c8eac14d08ca9c81862": {
      "model_module": "jupyter-cytoscape",
      "model_module_version": "^1.3.3",
      "model_name": "EdgeModel",
      "state": {
       "_model_module_version": "^1.3.3",
       "_view_module_version": "^1.3.3",
       "classes": " directed ",
       "data": {
        "id": "2396bfa8-c6ed-4b77-b1e9-3092df64078e",
        "source": "-6985433469959104574",
        "target": "-7535929885956994589"
       },
       "selectable": false
      }
     },
     "a3e8b9b67761495e9b4f689314a811b9": {
      "model_module": "jupyter-cytoscape",
      "model_module_version": "^1.3.3",
      "model_name": "NodeModel",
      "state": {
       "_model_module_version": "^1.3.3",
       "_view_module_version": "^1.3.3",
       "data": {
        "color": "gray",
        "id": "-4189307551585611252",
        "label": "getitem",
        "shape": "ellipse"
       },
       "grabbable": true,
       "grabbed": false,
       "position": {
        "x": 729,
        "y": 1115
       },
       "selectable": false
      }
     },
     "a858029fb12d4bb598a7853c19e37918": {
      "model_module": "jupyter-cytoscape",
      "model_module_version": "^1.3.3",
      "model_name": "NodeModel",
      "state": {
       "_model_module_version": "^1.3.3",
       "_view_module_version": "^1.3.3",
       "data": {
        "color": "gray",
        "id": "-7535929885956994589",
        "label": "(0, 0, 0)",
        "shape": "rectangle"
       },
       "grabbable": true,
       "grabbed": false,
       "position": {
        "x": 412.75,
        "y": 995
       },
       "selectable": false
      }
     },
     "a93e3558330344459c998846ee2d880b": {
      "model_module": "jupyter-cytoscape",
      "model_module_version": "^1.3.3",
      "model_name": "NodeModel",
      "state": {
       "_model_module_version": "^1.3.3",
       "_view_module_version": "^1.3.3",
       "data": {
        "color": "gray",
        "id": "8021529477702927584",
        "label": "(2, 0, 0)",
        "shape": "rectangle"
       },
       "grabbable": true,
       "grabbed": false,
       "position": {
        "x": 729,
        "y": 515
       },
       "selectable": false
      }
     },
     "aaa0f9501aec42549d1b344c83f5f42c": {
      "model_module": "jupyter-cytoscape",
      "model_module_version": "^1.3.3",
      "model_name": "EdgeModel",
      "state": {
       "_model_module_version": "^1.3.3",
       "_view_module_version": "^1.3.3",
       "classes": " directed ",
       "data": {
        "id": "64d6aeb8-8818-492e-a88b-897575f10699",
        "source": "-5076179833641889531",
        "target": "6820823738836433380"
       },
       "selectable": false
      }
     },
     "ab5ce5ee65c54587b9708933c1955685": {
      "model_module": "jupyter-cytoscape",
      "model_module_version": "^1.3.3",
      "model_name": "NodeModel",
      "state": {
       "_model_module_version": "^1.3.3",
       "_view_module_version": "^1.3.3",
       "data": {
        "color": "gray",
        "id": "-2591056080245297848",
        "label": "(3, 0, 0)",
        "shape": "rectangle"
       },
       "grabbable": true,
       "grabbed": false,
       "position": {
        "x": 930,
        "y": 35
       },
       "selectable": false
      }
     },
     "ac5e4f42fe454b58a37274a626be86a7": {
      "model_module": "jupyter-cytoscape",
      "model_module_version": "^1.3.3",
      "model_name": "NodeModel",
      "state": {
       "_model_module_version": "^1.3.3",
       "_view_module_version": "^1.3.3",
       "data": {
        "color": "gray",
        "id": "-7310603977497333709",
        "label": "getitem",
        "shape": "ellipse"
       },
       "grabbable": true,
       "grabbed": false,
       "position": {
        "x": 304,
        "y": 635
       },
       "selectable": false
      }
     },
     "acf303fb61a94551b82fcfa45c0e42fc": {
      "model_module": "jupyter-cytoscape",
      "model_module_version": "^1.3.3",
      "model_name": "EdgeModel",
      "state": {
       "_model_module_version": "^1.3.3",
       "_view_module_version": "^1.3.3",
       "classes": " directed ",
       "data": {
        "id": "98365d6c-6c48-4069-ab32-a7d559325cb3",
        "source": "-1677512154397951122",
        "target": "4559592919312361497"
       },
       "selectable": false
      }
     },
     "ae6831840ad54886809f3fc4a38cd621": {
      "model_module": "jupyter-cytoscape",
      "model_module_version": "^1.3.3",
      "model_name": "NodeModel",
      "state": {
       "_model_module_version": "^1.3.3",
       "_view_module_version": "^1.3.3",
       "data": {
        "color": "gray",
        "id": "6820823738836433380",
        "label": "1",
        "shape": "rectangle"
       },
       "grabbable": true,
       "grabbed": false,
       "position": {
        "x": 304,
        "y": 755
       },
       "selectable": false
      }
     },
     "ae941f03d4a84dcd9cde0a68bbc58529": {
      "model_module": "jupyter-cytoscape",
      "model_module_version": "^1.3.3",
      "model_name": "EdgeModel",
      "state": {
       "_model_module_version": "^1.3.3",
       "_view_module_version": "^1.3.3",
       "classes": " directed ",
       "data": {
        "id": "1d01e8e8-2287-4a7f-9a6d-13a6194e6726",
        "source": "-6531451423884885681",
        "target": "-2815456313386763074"
       },
       "selectable": false
      }
     },
     "ae9e2fecf1054b43a61f68c93f9da1c0": {
      "model_module": "jupyter-cytoscape",
      "model_module_version": "^1.3.3",
      "model_name": "NodeModel",
      "state": {
       "_model_module_version": "^1.3.3",
       "_view_module_version": "^1.3.3",
       "data": {
        "color": "gray",
        "id": "4559592919312361497",
        "label": "(0, 0)",
        "shape": "rectangle"
       },
       "grabbable": true,
       "grabbed": false,
       "position": {
        "x": 98,
        "y": 515
       },
       "selectable": false
      }
     },
     "af069268d9794688b7e759d2f54786a5": {
      "model_module": "@jupyter-widgets/base",
      "model_module_version": "2.0.0",
      "model_name": "LayoutModel",
      "state": {
       "height": "400px"
      }
     },
     "aface49b09ed4e9ba5377d65eec0a546": {
      "model_module": "jupyter-cytoscape",
      "model_module_version": "^1.3.3",
      "model_name": "EdgeModel",
      "state": {
       "_model_module_version": "^1.3.3",
       "_view_module_version": "^1.3.3",
       "classes": " directed ",
       "data": {
        "id": "99e2f1a4-0be6-484a-bc5d-3f24f92764bc",
        "source": "3216764353020735326",
        "target": "-4189307551585611252"
       },
       "selectable": false
      }
     },
     "b04fba04ced6424fb631581b5b4d700f": {
      "model_module": "jupyter-cytoscape",
      "model_module_version": "^1.3.3",
      "model_name": "NodeModel",
      "state": {
       "_model_module_version": "^1.3.3",
       "_view_module_version": "^1.3.3",
       "data": {
        "color": "gray",
        "id": "5116571362500262984",
        "label": "0",
        "shape": "rectangle"
       },
       "grabbable": true,
       "grabbed": false,
       "position": {
        "x": 729,
        "y": 1835
       },
       "selectable": false
      }
     },
     "b05f7235db1f4414b4d7ac2553ef15ac": {
      "model_module": "jupyter-cytoscape",
      "model_module_version": "^1.3.3",
      "model_name": "EdgeModel",
      "state": {
       "_model_module_version": "^1.3.3",
       "_view_module_version": "^1.3.3",
       "classes": " directed ",
       "data": {
        "id": "987f6b37-a91f-4719-a95b-10242b5761a7",
        "source": "2138284708474578092",
        "target": "-6474060349173047760"
       },
       "selectable": false
      }
     },
     "b0ae0e9df6e54350a8339b1d40fd2749": {
      "model_module": "jupyter-cytoscape",
      "model_module_version": "^1.3.3",
      "model_name": "EdgeModel",
      "state": {
       "_model_module_version": "^1.3.3",
       "_view_module_version": "^1.3.3",
       "classes": " directed ",
       "data": {
        "id": "fe0bb090-df20-4cda-aa34-9a6f8c41a4a9",
        "source": "1658173419409573162",
        "target": "3838090120907428870"
       },
       "selectable": false
      }
     },
     "b179adfe3c774d5d80d4a74277bb5c98": {
      "model_module": "jupyter-cytoscape",
      "model_module_version": "^1.3.3",
      "model_name": "EdgeModel",
      "state": {
       "_model_module_version": "^1.3.3",
       "_view_module_version": "^1.3.3",
       "classes": " directed ",
       "data": {
        "id": "921071ab-9528-43be-be28-ba83243b161a",
        "source": "-7475103573312209962",
        "target": "7378857194019156031"
       },
       "selectable": false
      }
     },
     "b2a02521a1f44fd08b7864c2f6053b9b": {
      "model_module": "jupyter-cytoscape",
      "model_module_version": "^1.3.3",
      "model_name": "EdgeModel",
      "state": {
       "_model_module_version": "^1.3.3",
       "_view_module_version": "^1.3.3",
       "classes": " directed ",
       "data": {
        "id": "242cfcac-b467-42d7-af41-0c998ca481a5",
        "source": "5112523144218638577",
        "target": "-6196465266914034023"
       },
       "selectable": false
      }
     },
     "b407466b402c4000a472379bf4af6cd1": {
      "model_module": "jupyter-cytoscape",
      "model_module_version": "^1.3.3",
      "model_name": "EdgeModel",
      "state": {
       "_model_module_version": "^1.3.3",
       "_view_module_version": "^1.3.3",
       "classes": " directed ",
       "data": {
        "id": "5e684303-5829-48cd-8894-3903a3854131",
        "source": "-6531451423884885681",
        "target": "-2815456313386763074"
       },
       "selectable": false
      }
     },
     "b41b35fb65b9464f8d618e3f972d00d5": {
      "model_module": "jupyter-cytoscape",
      "model_module_version": "^1.3.3",
      "model_name": "EdgeModel",
      "state": {
       "_model_module_version": "^1.3.3",
       "_view_module_version": "^1.3.3",
       "classes": " directed ",
       "data": {
        "id": "74b97be6-83f7-4fe4-972f-a95f6f374e2c",
        "source": "-8827835913014507489",
        "target": "-6732846305900421870"
       },
       "selectable": false
      }
     },
     "b5c80ae867954c9dbc5245f985a2ecb5": {
      "model_module": "jupyter-cytoscape",
      "model_module_version": "^1.3.3",
      "model_name": "EdgeModel",
      "state": {
       "_model_module_version": "^1.3.3",
       "_view_module_version": "^1.3.3",
       "classes": " directed ",
       "data": {
        "id": "51b68a61-edda-4e8c-b5d3-5abc2768acf8",
        "source": "2555837921515829398",
        "target": "5116571362500262984"
       },
       "selectable": false
      }
     },
     "b61c286de9c244ba922a1924bf7743fc": {
      "model_module": "jupyter-cytoscape",
      "model_module_version": "^1.3.3",
      "model_name": "NodeModel",
      "state": {
       "_model_module_version": "^1.3.3",
       "_view_module_version": "^1.3.3",
       "data": {
        "color": "gray",
        "id": "4037033082981367311",
        "label": "3",
        "shape": "rectangle"
       },
       "grabbable": true,
       "grabbed": false,
       "position": {
        "x": 930,
        "y": 755
       },
       "selectable": false
      }
     },
     "b64c8dc9f0874ba9aa642814e6b8d383": {
      "model_module": "jupyter-cytoscape",
      "model_module_version": "^1.3.3",
      "model_name": "EdgeModel",
      "state": {
       "_model_module_version": "^1.3.3",
       "_view_module_version": "^1.3.3",
       "classes": " directed ",
       "data": {
        "id": "8f1d1127-3cd7-41b5-92bb-b6e479294d3c",
        "source": "5112523144218638577",
        "target": "-6196465266914034023"
       },
       "selectable": false
      }
     },
     "b7f224227f8c46948c1e1d09989e983b": {
      "model_module": "jupyter-cytoscape",
      "model_module_version": "^1.3.3",
      "model_name": "NodeModel",
      "state": {
       "_model_module_version": "^1.3.3",
       "_view_module_version": "^1.3.3",
       "data": {
        "color": "gray",
        "id": "-5076179833641889531",
        "label": "0",
        "shape": "rectangle"
       },
       "grabbable": true,
       "grabbed": false,
       "position": {
        "x": 304,
        "y": 875
       },
       "selectable": false
      }
     },
     "b80ac13df96045adbd1adfc3f2f7448a": {
      "model_module": "jupyter-cytoscape",
      "model_module_version": "^1.3.3",
      "model_name": "EdgeModel",
      "state": {
       "_model_module_version": "^1.3.3",
       "_view_module_version": "^1.3.3",
       "classes": " directed ",
       "data": {
        "id": "c5b6d952-6a74-4101-8b25-45ada1af2214",
        "source": "-8298368627976420273",
        "target": "4343630600102015789"
       },
       "selectable": false
      }
     },
     "b94dd4021074491ab65139c1ef7b0528": {
      "model_module": "jupyter-cytoscape",
      "model_module_version": "^1.3.3",
      "model_name": "NodeModel",
      "state": {
       "_model_module_version": "^1.3.3",
       "_view_module_version": "^1.3.3",
       "data": {
        "color": "gray",
        "id": "1658173419409573162",
        "label": "apply_transform",
        "shape": "ellipse"
       },
       "grabbable": true,
       "grabbed": false,
       "position": {
        "x": 98,
        "y": 1355
       },
       "selectable": false
      }
     },
     "bb2299f7f02d423782d8bb96845ea42e": {
      "model_module": "jupyter-cytoscape",
      "model_module_version": "^1.3.3",
      "model_name": "EdgeModel",
      "state": {
       "_model_module_version": "^1.3.3",
       "_view_module_version": "^1.3.3",
       "classes": " directed ",
       "data": {
        "id": "39c75837-008f-47a0-b378-969fcbc6a350",
        "source": "3838090120907428870",
        "target": "-8298368627976420273"
       },
       "selectable": false
      }
     },
     "bc1a30092f2a46ea89954edbb81e18a9": {
      "model_module": "jupyter-cytoscape",
      "model_module_version": "^1.3.3",
      "model_name": "NodeModel",
      "state": {
       "_model_module_version": "^1.3.3",
       "_view_module_version": "^1.3.3",
       "data": {
        "color": "gray",
        "id": "5112523144218638577",
        "label": "wrap_with_array",
        "shape": "ellipse"
       },
       "grabbable": true,
       "grabbed": false,
       "position": {
        "x": 935,
        "y": 2075
       },
       "selectable": false
      }
     },
     "bcd39f9c23b14c4688424089d074cdae": {
      "model_module": "jupyter-cytoscape",
      "model_module_version": "^1.3.3",
      "model_name": "EdgeModel",
      "state": {
       "_model_module_version": "^1.3.3",
       "_view_module_version": "^1.3.3",
       "classes": " directed ",
       "data": {
        "id": "ae35488b-6eb0-4461-ada0-8c93c159577d",
        "source": "3174104662205318362",
        "target": "6861631808981973157"
       },
       "selectable": false
      }
     },
     "bdfd6b79a5fd4b93bd0824db135d5d7c": {
      "model_module": "jupyter-cytoscape",
      "model_module_version": "^1.3.3",
      "model_name": "EdgeModel",
      "state": {
       "_model_module_version": "^1.3.3",
       "_view_module_version": "^1.3.3",
       "classes": " directed ",
       "data": {
        "id": "6af3e8f5-ba88-4e2e-bff7-dacad7b2b648",
        "source": "-3593708525088951428",
        "target": "1658173419409573162"
       },
       "selectable": false
      }
     },
     "bec829de8d7a4b8593038208bcaea8fd": {
      "model_module": "jupyter-cytoscape",
      "model_module_version": "^1.3.3",
      "model_name": "NodeModel",
      "state": {
       "_model_module_version": "^1.3.3",
       "_view_module_version": "^1.3.3",
       "data": {
        "color": "gray",
        "id": "-6531451423884885681",
        "label": "",
        "shape": "rectangle"
       },
       "grabbable": true,
       "grabbed": false,
       "position": {
        "x": 724,
        "y": 1235
       },
       "selectable": false
      }
     },
     "bf75b040106744d4aa5aefb86bb82c3b": {
      "model_module": "jupyter-cytoscape",
      "model_module_version": "^1.3.3",
      "model_name": "NodeModel",
      "state": {
       "_model_module_version": "^1.3.3",
       "_view_module_version": "^1.3.3",
       "data": {
        "color": "gray",
        "id": "-7475103573312209962",
        "label": "mean_combine-partial",
        "shape": "ellipse"
       },
       "grabbable": true,
       "grabbed": false,
       "position": {
        "x": 820.25,
        "y": 395
       },
       "selectable": false
      }
     },
     "c081f9da42a140408f509d3a5ca75d0d": {
      "model_module": "jupyter-cytoscape",
      "model_module_version": "^1.3.3",
      "model_name": "NodeModel",
      "state": {
       "_model_module_version": "^1.3.3",
       "_view_module_version": "^1.3.3",
       "data": {
        "color": "gray",
        "id": "7544172074734438115",
        "label": "(3, 0, 0)",
        "shape": "rectangle"
       },
       "grabbable": true,
       "grabbed": false,
       "position": {
        "x": 935,
        "y": 755
       },
       "selectable": false
      }
     },
     "c0aa074b7117477da0846d4369bf9352": {
      "model_module": "jupyter-cytoscape",
      "model_module_version": "^1.3.3",
      "model_name": "EdgeModel",
      "state": {
       "_model_module_version": "^1.3.3",
       "_view_module_version": "^1.3.3",
       "classes": " directed ",
       "data": {
        "id": "fe8ab213-a4db-4384-a17a-2d917aa60e50",
        "source": "-6732846305900421870",
        "target": "-1677512154397951122"
       },
       "selectable": false
      }
     },
     "c11cf8d59ccc4315908edc87fa1643cd": {
      "model_module": "jupyter-cytoscape",
      "model_module_version": "^1.3.3",
      "model_name": "EdgeModel",
      "state": {
       "_model_module_version": "^1.3.3",
       "_view_module_version": "^1.3.3",
       "classes": " directed ",
       "data": {
        "id": "54d1d844-20fe-4388-be04-519141688038",
        "source": "-8298368627976420273",
        "target": "4343630600102015789"
       },
       "selectable": false
      }
     },
     "c2fe9118e5e446abab52fe40a1b9451f": {
      "model_module": "jupyter-cytoscape",
      "model_module_version": "^1.3.3",
      "model_name": "EdgeModel",
      "state": {
       "_model_module_version": "^1.3.3",
       "_view_module_version": "^1.3.3",
       "classes": " directed ",
       "data": {
        "id": "7fb41833-3aa4-483c-b95d-10273984b134",
        "source": "8858137867545646120",
        "target": "-4144154358512503320"
       },
       "selectable": false
      }
     },
     "c4d9723762ec4201ba2bac98d54c680a": {
      "model_module": "jupyter-cytoscape",
      "model_module_version": "^1.3.3",
      "model_name": "EdgeModel",
      "state": {
       "_model_module_version": "^1.3.3",
       "_view_module_version": "^1.3.3",
       "classes": " directed ",
       "data": {
        "id": "76e8a119-d903-4bf0-b21b-c7e828f70e3b",
        "source": "8021529477702927584",
        "target": "-7475103573312209962"
       },
       "selectable": false
      }
     },
     "c67a1a8a241d4ab88f15c9d64eb69e60": {
      "model_module": "jupyter-cytoscape",
      "model_module_version": "^1.3.3",
      "model_name": "EdgeModel",
      "state": {
       "_model_module_version": "^1.3.3",
       "_view_module_version": "^1.3.3",
       "classes": " directed ",
       "data": {
        "id": "c5dbbce6-564d-436e-bf6f-12c4efaca77f",
        "source": "-3593708525088951428",
        "target": "1658173419409573162"
       },
       "selectable": false
      }
     },
     "c8c67cc014c54dc3b6cb20436d4547d6": {
      "model_module": "jupyter-cytoscape",
      "model_module_version": "^1.3.3",
      "model_name": "EdgeModel",
      "state": {
       "_model_module_version": "^1.3.3",
       "_view_module_version": "^1.3.3",
       "classes": " directed ",
       "data": {
        "id": "d9acf54f-0be5-4b90-b02b-01a73e5b3e3d",
        "source": "3994302875326649304",
        "target": "-5076179833641889531"
       },
       "selectable": false
      }
     },
     "cafc98dce9b6418d8bf563004ed45ccb": {
      "model_module": "jupyter-cytoscape",
      "model_module_version": "^1.3.3",
      "model_name": "NodeModel",
      "state": {
       "_model_module_version": "^1.3.3",
       "_view_module_version": "^1.3.3",
       "data": {
        "color": "gray",
        "id": "-684227649182574446",
        "label": "(0, 0, 0, 0)",
        "shape": "rectangle"
       },
       "grabbable": true,
       "grabbed": false,
       "position": {
        "x": 412.75,
        "y": 1235
       },
       "selectable": false
      }
     },
     "cb5abec7f19242f59f88b9c23bb9df73": {
      "model_module": "jupyter-cytoscape",
      "model_module_version": "^1.3.3",
      "model_name": "EdgeModel",
      "state": {
       "_model_module_version": "^1.3.3",
       "_view_module_version": "^1.3.3",
       "classes": " directed ",
       "data": {
        "id": "506b44ef-831a-4912-9889-396725371c82",
        "source": "-4144154358512503320",
        "target": "5124007198383200373"
       },
       "selectable": false
      }
     },
     "cc00284e5fc9417496097efbbf4db346": {
      "model_module": "jupyter-cytoscape",
      "model_module_version": "^1.3.3",
      "model_name": "NodeModel",
      "state": {
       "_model_module_version": "^1.3.3",
       "_view_module_version": "^1.3.3",
       "data": {
        "color": "gray",
        "id": "-230404921456622981",
        "label": "mean_chunk",
        "shape": "ellipse"
       },
       "grabbable": true,
       "grabbed": false,
       "position": {
        "x": 935,
        "y": 635
       },
       "selectable": false
      }
     },
     "cc67b47364444195ae5d8ee371719afe": {
      "model_module": "jupyter-cytoscape",
      "model_module_version": "^1.3.3",
      "model_name": "NodeModel",
      "state": {
       "_model_module_version": "^1.3.3",
       "_view_module_version": "^1.3.3",
       "data": {
        "color": "gray",
        "id": "7378857194019156031",
        "label": "(1, 0, 0)",
        "shape": "rectangle"
       },
       "grabbable": true,
       "grabbed": false,
       "position": {
        "x": 820.25,
        "y": 275
       },
       "selectable": false
      }
     },
     "cc71ccbb9b724ace9f9c1461aa794d78": {
      "model_module": "jupyter-cytoscape",
      "model_module_version": "^1.3.3",
      "model_name": "NodeModel",
      "state": {
       "_model_module_version": "^1.3.3",
       "_view_module_version": "^1.3.3",
       "data": {
        "color": "gray",
        "id": "-3593708525088951428",
        "label": "(0, 0)",
        "shape": "rectangle"
       },
       "grabbable": true,
       "grabbed": false,
       "position": {
        "x": 516.5,
        "y": 1475
       },
       "selectable": false
      }
     },
     "cc9cb2c7aaaf49a69d3420cb1545f193": {
      "model_module": "jupyter-cytoscape",
      "model_module_version": "^1.3.3",
      "model_name": "EdgeModel",
      "state": {
       "_model_module_version": "^1.3.3",
       "_view_module_version": "^1.3.3",
       "classes": " directed ",
       "data": {
        "id": "eacc4657-1c33-40b5-8397-c236a571fccf",
        "source": "-4189307551585611252",
        "target": "2200123212753603319"
       },
       "selectable": false
      }
     },
     "cef2d3c029334f7b80b9d3dc7242c829": {
      "model_module": "jupyter-cytoscape",
      "model_module_version": "^1.3.3",
      "model_name": "EdgeModel",
      "state": {
       "_model_module_version": "^1.3.3",
       "_view_module_version": "^1.3.3",
       "classes": " directed ",
       "data": {
        "id": "a994f4af-978f-4da5-ad46-28ed758e2201",
        "source": "2897811036950413432",
        "target": "-3593708525088951428"
       },
       "selectable": false
      }
     },
     "cf12431209c54166ae6ce7e3e5f9adc4": {
      "model_module": "jupyter-cytoscape",
      "model_module_version": "^1.3.3",
      "model_name": "EdgeModel",
      "state": {
       "_model_module_version": "^1.3.3",
       "_view_module_version": "^1.3.3",
       "classes": " directed ",
       "data": {
        "id": "b88149b3-bd45-490d-a996-717dbd1e6b0e",
        "source": "-3593708525088951428",
        "target": "-5861860859088581121"
       },
       "selectable": false
      }
     },
     "cf47907112d94e3f8ce64dd179371985": {
      "model_module": "jupyter-cytoscape",
      "model_module_version": "^1.3.3",
      "model_name": "NodeModel",
      "state": {
       "_model_module_version": "^1.3.3",
       "_view_module_version": "^1.3.3",
       "data": {
        "color": "gray",
        "id": "4343630600102015789",
        "label": "(1, 0, 0)",
        "shape": "rectangle"
       },
       "grabbable": true,
       "grabbed": false,
       "position": {
        "x": 314,
        "y": 35
       },
       "selectable": false
      }
     },
     "d025794a2e324372bdd120faf6da8297": {
      "model_module": "jupyter-cytoscape",
      "model_module_version": "^1.3.3",
      "model_name": "EdgeModel",
      "state": {
       "_model_module_version": "^1.3.3",
       "_view_module_version": "^1.3.3",
       "classes": " directed ",
       "data": {
        "id": "5eac80f6-8a61-445b-9586-51f69a4833c0",
        "source": "3838090120907428870",
        "target": "-8298368627976420273"
       },
       "selectable": false
      }
     },
     "d1ab4c852ba047208c6c7e18e6f0880e": {
      "model_module": "jupyter-cytoscape",
      "model_module_version": "^1.3.3",
      "model_name": "EdgeModel",
      "state": {
       "_model_module_version": "^1.3.3",
       "_view_module_version": "^1.3.3",
       "classes": " directed ",
       "data": {
        "id": "c8627840-2bed-4126-8363-873c1b6dcf8e",
        "source": "1658173419409573162",
        "target": "3838090120907428870"
       },
       "selectable": false
      }
     },
     "d1eddce2cef74a78836d11e463c2c9ff": {
      "model_module": "jupyter-cytoscape",
      "model_module_version": "^1.3.3",
      "model_name": "NodeModel",
      "state": {
       "_model_module_version": "^1.3.3",
       "_view_module_version": "^1.3.3",
       "data": {
        "color": "gray",
        "id": "-6985433469959104574",
        "label": "getitem",
        "shape": "ellipse"
       },
       "grabbable": true,
       "grabbed": false,
       "position": {
        "x": 98,
        "y": 155
       },
       "selectable": false
      }
     },
     "d4b6105e7a5e428799aec2d873396d7a": {
      "model_module": "jupyter-cytoscape",
      "model_module_version": "^1.3.3",
      "model_name": "NodeModel",
      "state": {
       "_model_module_version": "^1.3.3",
       "_view_module_version": "^1.3.3",
       "data": {
        "color": "gray",
        "id": "-6985433469959104574",
        "label": "getitem",
        "shape": "ellipse"
       },
       "grabbable": true,
       "grabbed": false,
       "position": {
        "x": 412.75,
        "y": 1115
       },
       "selectable": false
      }
     },
     "d6da9bdf6ea346f2b9458a2bb7a370db": {
      "model_module": "jupyter-cytoscape",
      "model_module_version": "^1.3.3",
      "model_name": "EdgeModel",
      "state": {
       "_model_module_version": "^1.3.3",
       "_view_module_version": "^1.3.3",
       "classes": " directed ",
       "data": {
        "id": "0af5d3fd-093d-4666-9f20-ceec1a9671aa",
        "source": "6820823738836433380",
        "target": "-7310603977497333709"
       },
       "selectable": false
      }
     },
     "d6e25c0d95d9436db4cf7632ab0a8ea7": {
      "model_module": "jupyter-cytoscape",
      "model_module_version": "^1.3.3",
      "model_name": "NodeModel",
      "state": {
       "_model_module_version": "^1.3.3",
       "_view_module_version": "^1.3.3",
       "data": {
        "color": "gray",
        "id": "-8827835913014507489",
        "label": "0",
        "shape": "rectangle"
       },
       "grabbable": true,
       "grabbed": false,
       "position": {
        "x": 98,
        "y": 875
       },
       "selectable": false
      }
     },
     "d6e2dd5932a24c9ab065d17211664cea": {
      "model_module": "jupyter-cytoscape",
      "model_module_version": "^1.3.3",
      "model_name": "EdgeModel",
      "state": {
       "_model_module_version": "^1.3.3",
       "_view_module_version": "^1.3.3",
       "classes": " directed ",
       "data": {
        "id": "314478af-42e4-4860-aa0a-5a3efcce166a",
        "source": "9071299937934193216",
        "target": "-1162988058898088753"
       },
       "selectable": false
      }
     },
     "d9b12111f9c54f9faa444ad208710776": {
      "model_module": "jupyter-cytoscape",
      "model_module_version": "^1.3.3",
      "model_name": "EdgeModel",
      "state": {
       "_model_module_version": "^1.3.3",
       "_view_module_version": "^1.3.3",
       "classes": " directed ",
       "data": {
        "id": "414a77cf-9723-4bf1-83e8-e309daa154d5",
        "source": "5913611167721914870",
        "target": "2897811036950413432"
       },
       "selectable": false
      }
     },
     "db4875592c1e43628a96298913882880": {
      "model_module": "jupyter-cytoscape",
      "model_module_version": "^1.3.3",
      "model_name": "EdgeModel",
      "state": {
       "_model_module_version": "^1.3.3",
       "_view_module_version": "^1.3.3",
       "classes": " directed ",
       "data": {
        "id": "8469f265-db23-4e31-8e28-c143280b4b79",
        "source": "-7521909501782290201",
        "target": "-8827835913014507489"
       },
       "selectable": false
      }
     },
     "dbd5ec5beba74e8eb16a22495950155d": {
      "model_module": "jupyter-cytoscape",
      "model_module_version": "^1.3.3",
      "model_name": "NodeModel",
      "state": {
       "_model_module_version": "^1.3.3",
       "_view_module_version": "^1.3.3",
       "data": {
        "color": "gray",
        "id": "3838090120907428870",
        "label": "(1, 0, 0, 0)",
        "shape": "rectangle"
       },
       "grabbable": true,
       "grabbed": false,
       "position": {
        "x": 98,
        "y": 1235
       },
       "selectable": false
      }
     },
     "dc2ae94ca9104ba3b4edf073ddeae112": {
      "model_module": "jupyter-cytoscape",
      "model_module_version": "^1.3.3",
      "model_name": "NodeModel",
      "state": {
       "_model_module_version": "^1.3.3",
       "_view_module_version": "^1.3.3",
       "data": {
        "color": "gray",
        "id": "5913611167721914870",
        "label": "()",
        "shape": "rectangle"
       },
       "grabbable": true,
       "grabbed": false,
       "position": {
        "x": 516.5,
        "y": 1715
       },
       "selectable": false
      }
     },
     "ddaa392249a34764b455ebe88262932e": {
      "model_module": "jupyter-cytoscape",
      "model_module_version": "^1.3.3",
      "model_name": "EdgeModel",
      "state": {
       "_model_module_version": "^1.3.3",
       "_view_module_version": "^1.3.3",
       "classes": " directed ",
       "data": {
        "id": "c77fccd8-2cac-4bf3-8fdc-7d49ea4fe842",
        "source": "-6474060349173047760",
        "target": "23348537384176463"
       },
       "selectable": false
      }
     },
     "de92aeac67c84d459e62b771508d4c02": {
      "model_module": "jupyter-cytoscape",
      "model_module_version": "^1.3.3",
      "model_name": "NodeModel",
      "state": {
       "_model_module_version": "^1.3.3",
       "_view_module_version": "^1.3.3",
       "data": {
        "color": "gray",
        "id": "-3314526326687534986",
        "label": "0",
        "shape": "rectangle"
       },
       "grabbable": true,
       "grabbed": false,
       "position": {
        "x": 935,
        "y": 1835
       },
       "selectable": false
      }
     },
     "dfda567d45a34aa1b4de7f5b687603a5": {
      "model_module": "jupyter-cytoscape",
      "model_module_version": "^1.3.3",
      "model_name": "NodeModel",
      "state": {
       "_model_module_version": "^1.3.3",
       "_view_module_version": "^1.3.3",
       "data": {
        "color": "gray",
        "id": "7848625483293829867",
        "label": "",
        "shape": "rectangle"
       },
       "grabbable": true,
       "grabbed": false,
       "position": {
        "x": 930,
        "y": 1235
       },
       "selectable": false
      }
     },
     "e1e0930b71be4e5091664dd4944783e7": {
      "model_module": "jupyter-cytoscape",
      "model_module_version": "^1.3.3",
      "model_name": "NodeModel",
      "state": {
       "_model_module_version": "^1.3.3",
       "_view_module_version": "^1.3.3",
       "data": {
        "color": "gray",
        "id": "3174104662205318362",
        "label": "mean_agg-aggregate",
        "shape": "ellipse"
       },
       "grabbable": true,
       "grabbed": false,
       "position": {
        "x": 516.5,
        "y": 155
       },
       "selectable": false
      }
     },
     "e20ec81fbfef42479f8d971b2ce68fd0": {
      "model_module": "jupyter-cytoscape",
      "model_module_version": "^1.3.3",
      "model_name": "GraphModel",
      "state": {
       "_adj": {},
       "_model_module_version": "^1.3.3",
       "_view_module": "jupyter-cytoscape",
       "_view_module_version": "^1.3.3"
      }
     },
     "e21992e144794c7781b7a91fd8717690": {
      "model_module": "jupyter-cytoscape",
      "model_module_version": "^1.3.3",
      "model_name": "NodeModel",
      "state": {
       "_model_module_version": "^1.3.3",
       "_view_module_version": "^1.3.3",
       "data": {
        "color": "gray",
        "id": "-1677512154397951122",
        "label": "getitem",
        "shape": "ellipse"
       },
       "grabbable": true,
       "grabbed": false,
       "position": {
        "x": 98,
        "y": 635
       },
       "selectable": false
      }
     },
     "e22e8469d6324454956709ea5c4851ac": {
      "model_module": "jupyter-cytoscape",
      "model_module_version": "^1.3.3",
      "model_name": "EdgeModel",
      "state": {
       "_model_module_version": "^1.3.3",
       "_view_module_version": "^1.3.3",
       "classes": " directed ",
       "data": {
        "id": "f02a1de5-8129-4a10-b14b-6bdd2a1bb4ff",
        "source": "-2815456313386763074",
        "target": "2555837921515829398"
       },
       "selectable": false
      }
     },
     "e365201b26814f7e83a147c9a3be945f": {
      "model_module": "jupyter-cytoscape",
      "model_module_version": "^1.3.3",
      "model_name": "NodeModel",
      "state": {
       "_model_module_version": "^1.3.3",
       "_view_module_version": "^1.3.3",
       "data": {
        "color": "gray",
        "id": "6861631808981973157",
        "label": "(0, 0)",
        "shape": "rectangle"
       },
       "grabbable": true,
       "grabbed": false,
       "position": {
        "x": 516.5,
        "y": 35
       },
       "selectable": false
      }
     },
     "e3bd936550714fcbaf159354bc4b3252": {
      "model_module": "jupyter-cytoscape",
      "model_module_version": "^1.3.3",
      "model_name": "NodeModel",
      "state": {
       "_model_module_version": "^1.3.3",
       "_view_module_version": "^1.3.3",
       "data": {
        "color": "gray",
        "id": "-1162988058898088753",
        "label": "getitem",
        "shape": "ellipse"
       },
       "grabbable": true,
       "grabbed": false,
       "position": {
        "x": 930,
        "y": 155
       },
       "selectable": false
      }
     },
     "e49f7a0055eb4253bdcd89610e04fc9c": {
      "model_module": "jupyter-cytoscape",
      "model_module_version": "^1.3.3",
      "model_name": "NodeModel",
      "state": {
       "_model_module_version": "^1.3.3",
       "_view_module_version": "^1.3.3",
       "data": {
        "color": "gray",
        "id": "-2815456313386763074",
        "label": "wrap_with_array",
        "shape": "ellipse"
       },
       "grabbable": true,
       "grabbed": false,
       "position": {
        "x": 729,
        "y": 2075
       },
       "selectable": false
      }
     },
     "e51a3670e6704e92b0f19649a58bb7ea": {
      "model_module": "jupyter-cytoscape",
      "model_module_version": "^1.3.3",
      "model_name": "NodeModel",
      "state": {
       "_model_module_version": "^1.3.3",
       "_view_module_version": "^1.3.3",
       "data": {
        "color": "gray",
        "id": "-3987552335221504767",
        "label": "abs2",
        "shape": "ellipse"
       },
       "grabbable": true,
       "grabbed": false,
       "position": {
        "x": 98,
        "y": 875
       },
       "selectable": false
      }
     },
     "e6498399467c4b7ca93635ecfdada44a": {
      "model_module": "jupyter-cytoscape",
      "model_module_version": "^1.3.3",
      "model_name": "EdgeModel",
      "state": {
       "_model_module_version": "^1.3.3",
       "_view_module_version": "^1.3.3",
       "classes": " directed ",
       "data": {
        "id": "a42efddb-4ad5-4712-a848-c51a3883d270",
        "source": "-2342049904412802010",
        "target": "9071299937934193216"
       },
       "selectable": false
      }
     },
     "e82960bde2c244bcb2655587c3550227": {
      "model_module": "jupyter-cytoscape",
      "model_module_version": "^1.3.3",
      "model_name": "EdgeModel",
      "state": {
       "_model_module_version": "^1.3.3",
       "_view_module_version": "^1.3.3",
       "classes": " directed ",
       "data": {
        "id": "70c6328f-76d5-4f4f-a0a0-0dbbe3c3fac7",
        "source": "-3083138079535866035",
        "target": "-7521909501782290201"
       },
       "selectable": false
      }
     },
     "e86dd3f1468e4cd38994ac1eb1ea85a0": {
      "model_module": "jupyter-cytoscape",
      "model_module_version": "^1.3.3",
      "model_name": "NodeModel",
      "state": {
       "_model_module_version": "^1.3.3",
       "_view_module_version": "^1.3.3",
       "data": {
        "color": "gray",
        "id": "9071299937934193216",
        "label": "(3, 0, 0, 0)",
        "shape": "rectangle"
       },
       "grabbable": true,
       "grabbed": false,
       "position": {
        "x": 930,
        "y": 275
       },
       "selectable": false
      }
     },
     "ea34a661b5824a378b2aee967c59d262": {
      "model_module": "jupyter-cytoscape",
      "model_module_version": "^1.3.3",
      "model_name": "EdgeModel",
      "state": {
       "_model_module_version": "^1.3.3",
       "_view_module_version": "^1.3.3",
       "classes": " directed ",
       "data": {
        "id": "bc214095-6c04-4586-a255-097be0e7f823",
        "source": "23348537384176463",
        "target": "3216764353020735326"
       },
       "selectable": false
      }
     },
     "eb28d869e12f4a9485d939dcc3443bab": {
      "model_module": "jupyter-cytoscape",
      "model_module_version": "^1.3.3",
      "model_name": "EdgeModel",
      "state": {
       "_model_module_version": "^1.3.3",
       "_view_module_version": "^1.3.3",
       "classes": " directed ",
       "data": {
        "id": "e5f3f03d-dae9-4f38-b4ae-e47dd127cb2f",
        "source": "2603075591425295929",
        "target": "-3083138079535866035"
       },
       "selectable": false
      }
     },
     "ebc4e8a4e6784ee59f14222535ca22ff": {
      "model_module": "jupyter-cytoscape",
      "model_module_version": "^1.3.3",
      "model_name": "NodeModel",
      "state": {
       "_model_module_version": "^1.3.3",
       "_view_module_version": "^1.3.3",
       "data": {
        "color": "gray",
        "id": "8930107111954063677",
        "label": "2",
        "shape": "rectangle"
       },
       "grabbable": true,
       "grabbed": false,
       "position": {
        "x": 724,
        "y": 755
       },
       "selectable": false
      }
     },
     "ebf71d79607d4900958ca6780b440a89": {
      "model_module": "jupyter-cytoscape",
      "model_module_version": "^1.3.3",
      "model_name": "EdgeModel",
      "state": {
       "_model_module_version": "^1.3.3",
       "_view_module_version": "^1.3.3",
       "classes": " directed ",
       "data": {
        "id": "138db52b-0d48-4bc7-9b4c-4a72b5b0cc19",
        "source": "-6112881003992038452",
        "target": "-4144154358512503320"
       },
       "selectable": false
      }
     },
     "ec9a83153403466787b97adad31b4354": {
      "model_module": "jupyter-cytoscape",
      "model_module_version": "^1.3.3",
      "model_name": "NodeModel",
      "state": {
       "_model_module_version": "^1.3.3",
       "_view_module_version": "^1.3.3",
       "data": {
        "color": "gray",
        "id": "-3314526326687534986",
        "label": "0",
        "shape": "rectangle"
       },
       "grabbable": true,
       "grabbed": false,
       "position": {
        "x": 930,
        "y": 875
       },
       "selectable": false
      }
     },
     "ed73415a008043d089ab9df24be53058": {
      "model_module": "jupyter-cytoscape",
      "model_module_version": "^1.3.3",
      "model_name": "EdgeModel",
      "state": {
       "_model_module_version": "^1.3.3",
       "_view_module_version": "^1.3.3",
       "classes": " directed ",
       "data": {
        "id": "2920ff81-9090-4ce3-828f-e36abd6c1866",
        "source": "8930107111954063677",
        "target": "2138284708474578092"
       },
       "selectable": false
      }
     },
     "ee5782b56a2b438eaf0a37aa72c80b50": {
      "model_module": "jupyter-cytoscape",
      "model_module_version": "^1.3.3",
      "model_name": "EdgeModel",
      "state": {
       "_model_module_version": "^1.3.3",
       "_view_module_version": "^1.3.3",
       "classes": " directed ",
       "data": {
        "id": "d4049965-f9aa-46e8-806b-127a857fddcf",
        "source": "-4189307551585611252",
        "target": "2200123212753603319"
       },
       "selectable": false
      }
     },
     "ee71f2adfb15440092e91398aa028cbc": {
      "model_module": "jupyter-cytoscape",
      "model_module_version": "^1.3.3",
      "model_name": "EdgeModel",
      "state": {
       "_model_module_version": "^1.3.3",
       "_view_module_version": "^1.3.3",
       "classes": " directed ",
       "data": {
        "id": "c56b9317-5c6a-471f-b9e6-b46a9c15183a",
        "source": "-7535929885956994589",
        "target": "4386842957165667525"
       },
       "selectable": false
      }
     },
     "f19173140fdf404d93fc823e053ce753": {
      "model_module": "jupyter-cytoscape",
      "model_module_version": "^1.3.3",
      "model_name": "NodeModel",
      "state": {
       "_model_module_version": "^1.3.3",
       "_view_module_version": "^1.3.3",
       "data": {
        "color": "gray",
        "id": "-3083138079535866035",
        "label": "wrap_with_array",
        "shape": "ellipse"
       },
       "grabbable": true,
       "grabbed": false,
       "position": {
        "x": 98,
        "y": 1115
       },
       "selectable": false
      }
     },
     "f39f996ecd814cb0bccef645edd6bc68": {
      "model_module": "jupyter-cytoscape",
      "model_module_version": "^1.3.3",
      "model_name": "EdgeModel",
      "state": {
       "_model_module_version": "^1.3.3",
       "_view_module_version": "^1.3.3",
       "classes": " directed ",
       "data": {
        "id": "ba0fb3d8-f7d7-4fb8-9bea-b2007cd09a6f",
        "source": "2897811036950413432",
        "target": "-3593708525088951428"
       },
       "selectable": false
      }
     },
     "f3ee88337c9d455e9f398d20bbe22b40": {
      "model_module": "jupyter-cytoscape",
      "model_module_version": "^1.3.3",
      "model_name": "NodeModel",
      "state": {
       "_model_module_version": "^1.3.3",
       "_view_module_version": "^1.3.3",
       "data": {
        "color": "gray",
        "id": "23348537384176463",
        "label": "apply_transform",
        "shape": "ellipse"
       },
       "grabbable": true,
       "grabbed": false,
       "position": {
        "x": 719,
        "y": 395
       },
       "selectable": false
      }
     },
     "f5198c0d561e49258b830a192ac0f8a7": {
      "model_module": "jupyter-cytoscape",
      "model_module_version": "^1.3.3",
      "model_name": "EdgeModel",
      "state": {
       "_model_module_version": "^1.3.3",
       "_view_module_version": "^1.3.3",
       "classes": " directed ",
       "data": {
        "id": "0ff3f813-57e8-4fee-ac28-5c26afda822a",
        "source": "-1162988058898088753",
        "target": "-2591056080245297848"
       },
       "selectable": false
      }
     },
     "f675dc9ffd904d05915b4aaf508c51e1": {
      "model_module": "jupyter-cytoscape",
      "model_module_version": "^1.3.3",
      "model_name": "EdgeModel",
      "state": {
       "_model_module_version": "^1.3.3",
       "_view_module_version": "^1.3.3",
       "classes": " directed ",
       "data": {
        "id": "a2d9b78e-b268-4d35-b7fc-4cc5eb731db0",
        "source": "23348537384176463",
        "target": "3216764353020735326"
       },
       "selectable": false
      }
     },
     "f71528e44bab469ab535ab778c700f9f": {
      "model_module": "jupyter-cytoscape",
      "model_module_version": "^1.3.3",
      "model_name": "EdgeModel",
      "state": {
       "_model_module_version": "^1.3.3",
       "_view_module_version": "^1.3.3",
       "classes": " directed ",
       "data": {
        "id": "8a80080d-df08-4d7d-894b-6d6ef515dc0b",
        "source": "3216764353020735326",
        "target": "-4189307551585611252"
       },
       "selectable": false
      }
     },
     "f7f08f4670504f29aab2f88d976bc33d": {
      "model_module": "jupyter-cytoscape",
      "model_module_version": "^1.3.3",
      "model_name": "NodeModel",
      "state": {
       "_model_module_version": "^1.3.3",
       "_view_module_version": "^1.3.3",
       "data": {
        "color": "gray",
        "id": "2138284708474578092",
        "label": "getitem",
        "shape": "ellipse"
       },
       "grabbable": true,
       "grabbed": false,
       "position": {
        "x": 729,
        "y": 1595
       },
       "selectable": false
      }
     },
     "f892fc611d414a30b9278da103744054": {
      "model_module": "jupyter-cytoscape",
      "model_module_version": "^1.3.3",
      "model_name": "EdgeModel",
      "state": {
       "_model_module_version": "^1.3.3",
       "_view_module_version": "^1.3.3",
       "classes": " directed ",
       "data": {
        "id": "96f94f15-b738-4ec9-8cf1-4e1417e7ca07",
        "source": "2636828699620805333",
        "target": "-3667003760153278759"
       },
       "selectable": false
      }
     },
     "f8e1b9c936c94d8881d440e1476f7ae0": {
      "model_module": "jupyter-cytoscape",
      "model_module_version": "^1.3.3",
      "model_name": "EdgeModel",
      "state": {
       "_model_module_version": "^1.3.3",
       "_view_module_version": "^1.3.3",
       "classes": " directed ",
       "data": {
        "id": "6ff1d38d-ca72-4358-9bab-9068222b1f09",
        "source": "-4879822329518210859",
        "target": "1658173419409573162"
       },
       "selectable": false
      }
     },
     "f97525833a414716a2fdfe5263f9b9b1": {
      "model_module": "jupyter-cytoscape",
      "model_module_version": "^1.3.3",
      "model_name": "NodeModel",
      "state": {
       "_model_module_version": "^1.3.3",
       "_view_module_version": "^1.3.3",
       "data": {
        "color": "gray",
        "id": "-2342049904412802010",
        "label": "apply_transform",
        "shape": "ellipse"
       },
       "grabbable": true,
       "grabbed": false,
       "position": {
        "x": 935,
        "y": 1355
       },
       "selectable": false
      }
     },
     "fb1c010a27254f36b6fda12eb85c0737": {
      "model_module": "jupyter-cytoscape",
      "model_module_version": "^1.3.3",
      "model_name": "NodeModel",
      "state": {
       "_model_module_version": "^1.3.3",
       "_view_module_version": "^1.3.3",
       "data": {
        "color": "gray",
        "id": "2897811036950413432",
        "label": "build_waves",
        "shape": "ellipse"
       },
       "grabbable": true,
       "grabbed": false,
       "position": {
        "x": 516.5,
        "y": 1595
       },
       "selectable": false
      }
     },
     "fb54ad3215c9485bb568b12827e48fba": {
      "model_module": "jupyter-cytoscape",
      "model_module_version": "^1.3.3",
      "model_name": "EdgeModel",
      "state": {
       "_model_module_version": "^1.3.3",
       "_view_module_version": "^1.3.3",
       "classes": " directed ",
       "data": {
        "id": "12ca301a-d9f3-40f9-8f63-64843e436a60",
        "source": "4037033082981367311",
        "target": "2065410493791762658"
       },
       "selectable": false
      }
     },
     "fbffaf8111754a919e39edad0d021bd0": {
      "model_module": "jupyter-cytoscape",
      "model_module_version": "^1.3.3",
      "model_name": "EdgeModel",
      "state": {
       "_model_module_version": "^1.3.3",
       "_view_module_version": "^1.3.3",
       "classes": " directed ",
       "data": {
        "id": "6302d8d6-9edf-42b0-b859-e7b49d9c8594",
        "source": "-6732846305900421870",
        "target": "-1677512154397951122"
       },
       "selectable": false
      }
     },
     "fc7918cfcdba4558906f5692ab11ef72": {
      "model_module": "jupyter-cytoscape",
      "model_module_version": "^1.3.3",
      "model_name": "NodeModel",
      "state": {
       "_model_module_version": "^1.3.3",
       "_view_module_version": "^1.3.3",
       "data": {
        "color": "gray",
        "id": "3216764353020735326",
        "label": "(2, 0, 0, 0)",
        "shape": "rectangle"
       },
       "grabbable": true,
       "grabbed": false,
       "position": {
        "x": 719,
        "y": 275
       },
       "selectable": false
      }
     },
     "fdaea8e8d6f944e3adcf12a43cad28b1": {
      "model_module": "jupyter-cytoscape",
      "model_module_version": "^1.3.3",
      "model_name": "NodeModel",
      "state": {
       "_model_module_version": "^1.3.3",
       "_view_module_version": "^1.3.3",
       "data": {
        "color": "gray",
        "id": "-2591056080245297848",
        "label": "(3, 0, 0)",
        "shape": "rectangle"
       },
       "grabbable": true,
       "grabbed": false,
       "position": {
        "x": 935,
        "y": 995
       },
       "selectable": false
      }
     },
     "fe0694c169bb49469e05f078b6de230a": {
      "model_module": "jupyter-cytoscape",
      "model_module_version": "^1.3.3",
      "model_name": "NodeModel",
      "state": {
       "_model_module_version": "^1.3.3",
       "_view_module_version": "^1.3.3",
       "data": {
        "color": "gray",
        "id": "-2815456313386763074",
        "label": "wrap_with_array",
        "shape": "ellipse"
       },
       "grabbable": true,
       "grabbed": false,
       "position": {
        "x": 724,
        "y": 1115
       },
       "selectable": false
      }
     }
    },
    "version_major": 2,
    "version_minor": 0
   }
  }
 },
 "nbformat": 4,
 "nbformat_minor": 5
}
