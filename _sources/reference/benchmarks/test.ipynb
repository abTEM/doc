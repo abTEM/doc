{
 "cells": [
  {
   "cell_type": "code",
   "execution_count": 2,
   "id": "b7e20e0b-375f-495a-bb25-a074d5cd89d8",
   "metadata": {},
   "outputs": [],
   "source": [
    "%load_ext memray\n",
    "import numpy as np\n",
    "import dask.array as da\n",
    "from dask.distributed import Client\n",
    "import dask\n",
    "import ase\n",
    "import matplotlib.pyplot as plt\n",
    "import time\n",
    "import abtem\n",
    "import mkl_fft"
   ]
  },
  {
   "cell_type": "code",
   "execution_count": 3,
   "id": "1623d934-699f-4e5e-bb12-caae37a57c98",
   "metadata": {},
   "outputs": [
    {
     "data": {
      "text/plain": [
       "<dask.config.set at 0x7ff35f2d9810>"
      ]
     },
     "execution_count": 3,
     "metadata": {},
     "output_type": "execute_result"
    }
   ],
   "source": [
    "abtem.config.set({\"device\": \"cpu\"})\n",
    "abtem.config.set({\"fft\": \"mkl\"})\n",
    "abtem.config.set({\"mkl.threads\": 1})"
   ]
  },
  {
   "cell_type": "code",
   "execution_count": 24,
   "id": "599c4e07-23ec-4cd8-9764-67a87dd5aab6",
   "metadata": {},
   "outputs": [
    {
     "data": {
      "text/html": [
       "<div>\n",
       "    <div style=\"width: 24px; height: 24px; background-color: #e1e1e1; border: 3px solid #9D9D9D; border-radius: 5px; position: absolute;\"> </div>\n",
       "    <div style=\"margin-left: 48px;\">\n",
       "        <h3 style=\"margin-bottom: 0px;\">Client</h3>\n",
       "        <p style=\"color: #9D9D9D; margin-bottom: 0px;\">Client-e3c7cdd8-81e2-11ed-a5e3-f218984d7c80</p>\n",
       "        <table style=\"width: 100%; text-align: left;\">\n",
       "\n",
       "        <tr>\n",
       "        \n",
       "            <td style=\"text-align: left;\"><strong>Connection method:</strong> Cluster object</td>\n",
       "            <td style=\"text-align: left;\"><strong>Cluster type:</strong> distributed.LocalCluster</td>\n",
       "        \n",
       "        </tr>\n",
       "\n",
       "        \n",
       "            <tr>\n",
       "                <td style=\"text-align: left;\">\n",
       "                    <strong>Dashboard: </strong> <a href=\"http://127.0.0.1:8787/status\" target=\"_blank\">http://127.0.0.1:8787/status</a>\n",
       "                </td>\n",
       "                <td style=\"text-align: left;\"></td>\n",
       "            </tr>\n",
       "        \n",
       "\n",
       "        </table>\n",
       "\n",
       "        \n",
       "            <button style=\"margin-bottom: 12px;\" data-commandlinker-command=\"dask:populate-and-launch-layout\" data-commandlinker-args='{\"url\": \"http://127.0.0.1:8787/status\" }'>\n",
       "                Launch dashboard in JupyterLab\n",
       "            </button>\n",
       "        \n",
       "\n",
       "        \n",
       "            <details>\n",
       "            <summary style=\"margin-bottom: 20px;\"><h3 style=\"display: inline;\">Cluster Info</h3></summary>\n",
       "            <div class=\"jp-RenderedHTMLCommon jp-RenderedHTML jp-mod-trusted jp-OutputArea-output\">\n",
       "    <div style=\"width: 24px; height: 24px; background-color: #e1e1e1; border: 3px solid #9D9D9D; border-radius: 5px; position: absolute;\">\n",
       "    </div>\n",
       "    <div style=\"margin-left: 48px;\">\n",
       "        <h3 style=\"margin-bottom: 0px; margin-top: 0px;\">LocalCluster</h3>\n",
       "        <p style=\"color: #9D9D9D; margin-bottom: 0px;\">b6632c7b</p>\n",
       "        <table style=\"width: 100%; text-align: left;\">\n",
       "            <tr>\n",
       "                <td style=\"text-align: left;\">\n",
       "                    <strong>Dashboard:</strong> <a href=\"http://127.0.0.1:8787/status\" target=\"_blank\">http://127.0.0.1:8787/status</a>\n",
       "                </td>\n",
       "                <td style=\"text-align: left;\">\n",
       "                    <strong>Workers:</strong> 4\n",
       "                </td>\n",
       "            </tr>\n",
       "            <tr>\n",
       "                <td style=\"text-align: left;\">\n",
       "                    <strong>Total threads:</strong> 8\n",
       "                </td>\n",
       "                <td style=\"text-align: left;\">\n",
       "                    <strong>Total memory:</strong> 16.00 GiB\n",
       "                </td>\n",
       "            </tr>\n",
       "            \n",
       "            <tr>\n",
       "    <td style=\"text-align: left;\"><strong>Status:</strong> running</td>\n",
       "    <td style=\"text-align: left;\"><strong>Using processes:</strong> True</td>\n",
       "</tr>\n",
       "\n",
       "            \n",
       "        </table>\n",
       "\n",
       "        <details>\n",
       "            <summary style=\"margin-bottom: 20px;\">\n",
       "                <h3 style=\"display: inline;\">Scheduler Info</h3>\n",
       "            </summary>\n",
       "\n",
       "            <div style=\"\">\n",
       "    <div>\n",
       "        <div style=\"width: 24px; height: 24px; background-color: #FFF7E5; border: 3px solid #FF6132; border-radius: 5px; position: absolute;\"> </div>\n",
       "        <div style=\"margin-left: 48px;\">\n",
       "            <h3 style=\"margin-bottom: 0px;\">Scheduler</h3>\n",
       "            <p style=\"color: #9D9D9D; margin-bottom: 0px;\">Scheduler-f4c68fd9-7233-4760-93f9-87ad4ef6b77d</p>\n",
       "            <table style=\"width: 100%; text-align: left;\">\n",
       "                <tr>\n",
       "                    <td style=\"text-align: left;\">\n",
       "                        <strong>Comm:</strong> tcp://127.0.0.1:49386\n",
       "                    </td>\n",
       "                    <td style=\"text-align: left;\">\n",
       "                        <strong>Workers:</strong> 4\n",
       "                    </td>\n",
       "                </tr>\n",
       "                <tr>\n",
       "                    <td style=\"text-align: left;\">\n",
       "                        <strong>Dashboard:</strong> <a href=\"http://127.0.0.1:8787/status\" target=\"_blank\">http://127.0.0.1:8787/status</a>\n",
       "                    </td>\n",
       "                    <td style=\"text-align: left;\">\n",
       "                        <strong>Total threads:</strong> 8\n",
       "                    </td>\n",
       "                </tr>\n",
       "                <tr>\n",
       "                    <td style=\"text-align: left;\">\n",
       "                        <strong>Started:</strong> Just now\n",
       "                    </td>\n",
       "                    <td style=\"text-align: left;\">\n",
       "                        <strong>Total memory:</strong> 16.00 GiB\n",
       "                    </td>\n",
       "                </tr>\n",
       "            </table>\n",
       "        </div>\n",
       "    </div>\n",
       "\n",
       "    <details style=\"margin-left: 48px;\">\n",
       "        <summary style=\"margin-bottom: 20px;\">\n",
       "            <h3 style=\"display: inline;\">Workers</h3>\n",
       "        </summary>\n",
       "\n",
       "        \n",
       "        <div style=\"margin-bottom: 20px;\">\n",
       "            <div style=\"width: 24px; height: 24px; background-color: #DBF5FF; border: 3px solid #4CC9FF; border-radius: 5px; position: absolute;\"> </div>\n",
       "            <div style=\"margin-left: 48px;\">\n",
       "            <details>\n",
       "                <summary>\n",
       "                    <h4 style=\"margin-bottom: 0px; display: inline;\">Worker: 0</h4>\n",
       "                </summary>\n",
       "                <table style=\"width: 100%; text-align: left;\">\n",
       "                    <tr>\n",
       "                        <td style=\"text-align: left;\">\n",
       "                            <strong>Comm: </strong> tcp://127.0.0.1:49397\n",
       "                        </td>\n",
       "                        <td style=\"text-align: left;\">\n",
       "                            <strong>Total threads: </strong> 2\n",
       "                        </td>\n",
       "                    </tr>\n",
       "                    <tr>\n",
       "                        <td style=\"text-align: left;\">\n",
       "                            <strong>Dashboard: </strong> <a href=\"http://127.0.0.1:49400/status\" target=\"_blank\">http://127.0.0.1:49400/status</a>\n",
       "                        </td>\n",
       "                        <td style=\"text-align: left;\">\n",
       "                            <strong>Memory: </strong> 4.00 GiB\n",
       "                        </td>\n",
       "                    </tr>\n",
       "                    <tr>\n",
       "                        <td style=\"text-align: left;\">\n",
       "                            <strong>Nanny: </strong> tcp://127.0.0.1:49389\n",
       "                        </td>\n",
       "                        <td style=\"text-align: left;\"></td>\n",
       "                    </tr>\n",
       "                    <tr>\n",
       "                        <td colspan=\"2\" style=\"text-align: left;\">\n",
       "                            <strong>Local directory: </strong> /var/folders/_p/k7hrlnh132n933827sxdjkrm0000gn/T/dask-worker-space/worker-6i4401pw\n",
       "                        </td>\n",
       "                    </tr>\n",
       "\n",
       "                    \n",
       "\n",
       "                    \n",
       "\n",
       "                </table>\n",
       "            </details>\n",
       "            </div>\n",
       "        </div>\n",
       "        \n",
       "        <div style=\"margin-bottom: 20px;\">\n",
       "            <div style=\"width: 24px; height: 24px; background-color: #DBF5FF; border: 3px solid #4CC9FF; border-radius: 5px; position: absolute;\"> </div>\n",
       "            <div style=\"margin-left: 48px;\">\n",
       "            <details>\n",
       "                <summary>\n",
       "                    <h4 style=\"margin-bottom: 0px; display: inline;\">Worker: 1</h4>\n",
       "                </summary>\n",
       "                <table style=\"width: 100%; text-align: left;\">\n",
       "                    <tr>\n",
       "                        <td style=\"text-align: left;\">\n",
       "                            <strong>Comm: </strong> tcp://127.0.0.1:49398\n",
       "                        </td>\n",
       "                        <td style=\"text-align: left;\">\n",
       "                            <strong>Total threads: </strong> 2\n",
       "                        </td>\n",
       "                    </tr>\n",
       "                    <tr>\n",
       "                        <td style=\"text-align: left;\">\n",
       "                            <strong>Dashboard: </strong> <a href=\"http://127.0.0.1:49402/status\" target=\"_blank\">http://127.0.0.1:49402/status</a>\n",
       "                        </td>\n",
       "                        <td style=\"text-align: left;\">\n",
       "                            <strong>Memory: </strong> 4.00 GiB\n",
       "                        </td>\n",
       "                    </tr>\n",
       "                    <tr>\n",
       "                        <td style=\"text-align: left;\">\n",
       "                            <strong>Nanny: </strong> tcp://127.0.0.1:49390\n",
       "                        </td>\n",
       "                        <td style=\"text-align: left;\"></td>\n",
       "                    </tr>\n",
       "                    <tr>\n",
       "                        <td colspan=\"2\" style=\"text-align: left;\">\n",
       "                            <strong>Local directory: </strong> /var/folders/_p/k7hrlnh132n933827sxdjkrm0000gn/T/dask-worker-space/worker-ni_lkiez\n",
       "                        </td>\n",
       "                    </tr>\n",
       "\n",
       "                    \n",
       "\n",
       "                    \n",
       "\n",
       "                </table>\n",
       "            </details>\n",
       "            </div>\n",
       "        </div>\n",
       "        \n",
       "        <div style=\"margin-bottom: 20px;\">\n",
       "            <div style=\"width: 24px; height: 24px; background-color: #DBF5FF; border: 3px solid #4CC9FF; border-radius: 5px; position: absolute;\"> </div>\n",
       "            <div style=\"margin-left: 48px;\">\n",
       "            <details>\n",
       "                <summary>\n",
       "                    <h4 style=\"margin-bottom: 0px; display: inline;\">Worker: 2</h4>\n",
       "                </summary>\n",
       "                <table style=\"width: 100%; text-align: left;\">\n",
       "                    <tr>\n",
       "                        <td style=\"text-align: left;\">\n",
       "                            <strong>Comm: </strong> tcp://127.0.0.1:49399\n",
       "                        </td>\n",
       "                        <td style=\"text-align: left;\">\n",
       "                            <strong>Total threads: </strong> 2\n",
       "                        </td>\n",
       "                    </tr>\n",
       "                    <tr>\n",
       "                        <td style=\"text-align: left;\">\n",
       "                            <strong>Dashboard: </strong> <a href=\"http://127.0.0.1:49404/status\" target=\"_blank\">http://127.0.0.1:49404/status</a>\n",
       "                        </td>\n",
       "                        <td style=\"text-align: left;\">\n",
       "                            <strong>Memory: </strong> 4.00 GiB\n",
       "                        </td>\n",
       "                    </tr>\n",
       "                    <tr>\n",
       "                        <td style=\"text-align: left;\">\n",
       "                            <strong>Nanny: </strong> tcp://127.0.0.1:49391\n",
       "                        </td>\n",
       "                        <td style=\"text-align: left;\"></td>\n",
       "                    </tr>\n",
       "                    <tr>\n",
       "                        <td colspan=\"2\" style=\"text-align: left;\">\n",
       "                            <strong>Local directory: </strong> /var/folders/_p/k7hrlnh132n933827sxdjkrm0000gn/T/dask-worker-space/worker-y20vrfz7\n",
       "                        </td>\n",
       "                    </tr>\n",
       "\n",
       "                    \n",
       "\n",
       "                    \n",
       "\n",
       "                </table>\n",
       "            </details>\n",
       "            </div>\n",
       "        </div>\n",
       "        \n",
       "        <div style=\"margin-bottom: 20px;\">\n",
       "            <div style=\"width: 24px; height: 24px; background-color: #DBF5FF; border: 3px solid #4CC9FF; border-radius: 5px; position: absolute;\"> </div>\n",
       "            <div style=\"margin-left: 48px;\">\n",
       "            <details>\n",
       "                <summary>\n",
       "                    <h4 style=\"margin-bottom: 0px; display: inline;\">Worker: 3</h4>\n",
       "                </summary>\n",
       "                <table style=\"width: 100%; text-align: left;\">\n",
       "                    <tr>\n",
       "                        <td style=\"text-align: left;\">\n",
       "                            <strong>Comm: </strong> tcp://127.0.0.1:49406\n",
       "                        </td>\n",
       "                        <td style=\"text-align: left;\">\n",
       "                            <strong>Total threads: </strong> 2\n",
       "                        </td>\n",
       "                    </tr>\n",
       "                    <tr>\n",
       "                        <td style=\"text-align: left;\">\n",
       "                            <strong>Dashboard: </strong> <a href=\"http://127.0.0.1:49407/status\" target=\"_blank\">http://127.0.0.1:49407/status</a>\n",
       "                        </td>\n",
       "                        <td style=\"text-align: left;\">\n",
       "                            <strong>Memory: </strong> 4.00 GiB\n",
       "                        </td>\n",
       "                    </tr>\n",
       "                    <tr>\n",
       "                        <td style=\"text-align: left;\">\n",
       "                            <strong>Nanny: </strong> tcp://127.0.0.1:49392\n",
       "                        </td>\n",
       "                        <td style=\"text-align: left;\"></td>\n",
       "                    </tr>\n",
       "                    <tr>\n",
       "                        <td colspan=\"2\" style=\"text-align: left;\">\n",
       "                            <strong>Local directory: </strong> /var/folders/_p/k7hrlnh132n933827sxdjkrm0000gn/T/dask-worker-space/worker-wnz6zivi\n",
       "                        </td>\n",
       "                    </tr>\n",
       "\n",
       "                    \n",
       "\n",
       "                    \n",
       "\n",
       "                </table>\n",
       "            </details>\n",
       "            </div>\n",
       "        </div>\n",
       "        \n",
       "\n",
       "    </details>\n",
       "</div>\n",
       "\n",
       "        </details>\n",
       "    </div>\n",
       "</div>\n",
       "            </details>\n",
       "        \n",
       "\n",
       "    </div>\n",
       "</div>"
      ],
      "text/plain": [
       "<Client: 'tcp://127.0.0.1:49386' processes=4 threads=8, memory=16.00 GiB>"
      ]
     },
     "execution_count": 24,
     "metadata": {},
     "output_type": "execute_result"
    }
   ],
   "source": [
    "client = Client()\n",
    "client"
   ]
  },
  {
   "cell_type": "code",
   "execution_count": 28,
   "id": "f40a47ed-9bd9-43a0-b219-850ba2f43ba9",
   "metadata": {},
   "outputs": [],
   "source": [
    "client.close()"
   ]
  },
  {
   "cell_type": "code",
   "execution_count": 8,
   "id": "2163e29f-deae-4290-935d-a28f94f421a9",
   "metadata": {},
   "outputs": [
    {
     "data": {
      "text/html": [
       "<table>\n",
       "    <tr>\n",
       "        <td>\n",
       "            <table style=\"border-collapse: collapse;\">\n",
       "                <thead>\n",
       "                    <tr>\n",
       "                        <td> </td>\n",
       "                        <th> Array </th>\n",
       "                        <th> Chunk </th>\n",
       "                    </tr>\n",
       "                </thead>\n",
       "                <tbody>\n",
       "                    \n",
       "                    <tr>\n",
       "                        <th> Bytes </th>\n",
       "                        <td> 762.94 MiB </td>\n",
       "                        <td> 762.94 MiB </td>\n",
       "                    </tr>\n",
       "                    \n",
       "                    <tr>\n",
       "                        <th> Shape </th>\n",
       "                        <td> (10000, 10000) </td>\n",
       "                        <td> (10000, 10000) </td>\n",
       "                    </tr>\n",
       "                    <tr>\n",
       "                        <th> Dask graph </th>\n",
       "                        <td colspan=\"2\"> 1 chunks in 4 graph layers </td>\n",
       "                    </tr>\n",
       "                    <tr>\n",
       "                        <th> Data type </th>\n",
       "                        <td colspan=\"2\"> complex64 numpy.ndarray </td>\n",
       "                    </tr>\n",
       "                </tbody>\n",
       "            </table>\n",
       "        </td>\n",
       "        <td>\n",
       "        <svg width=\"170\" height=\"170\" style=\"stroke:rgb(0,0,0);stroke-width:1\" >\n",
       "\n",
       "  <!-- Horizontal lines -->\n",
       "  <line x1=\"0\" y1=\"0\" x2=\"120\" y2=\"0\" style=\"stroke-width:2\" />\n",
       "  <line x1=\"0\" y1=\"120\" x2=\"120\" y2=\"120\" style=\"stroke-width:2\" />\n",
       "\n",
       "  <!-- Vertical lines -->\n",
       "  <line x1=\"0\" y1=\"0\" x2=\"0\" y2=\"120\" style=\"stroke-width:2\" />\n",
       "  <line x1=\"120\" y1=\"0\" x2=\"120\" y2=\"120\" style=\"stroke-width:2\" />\n",
       "\n",
       "  <!-- Colored Rectangle -->\n",
       "  <polygon points=\"0.0,0.0 120.0,0.0 120.0,120.0 0.0,120.0\" style=\"fill:#ECB172A0;stroke-width:0\"/>\n",
       "\n",
       "  <!-- Text -->\n",
       "  <text x=\"60.000000\" y=\"140.000000\" font-size=\"1.0rem\" font-weight=\"100\" text-anchor=\"middle\" >10000</text>\n",
       "  <text x=\"140.000000\" y=\"60.000000\" font-size=\"1.0rem\" font-weight=\"100\" text-anchor=\"middle\" transform=\"rotate(-90,140.000000,60.000000)\">10000</text>\n",
       "</svg>\n",
       "        </td>\n",
       "    </tr>\n",
       "</table>"
      ],
      "text/plain": [
       "dask.array<getitem, shape=(10000, 10000), dtype=complex64, chunksize=(10000, 10000), chunktype=numpy.ndarray>"
      ]
     },
     "execution_count": 8,
     "metadata": {},
     "output_type": "execute_result"
    }
   ],
   "source": [
    "abtem.Probe(\n",
    "    energy=200e3, \n",
    "    semiangle_cutoff=20,\n",
    "    extent=potential.extent,\n",
    "    gpts=10000,\n",
    ").build().array"
   ]
  },
  {
   "cell_type": "code",
   "execution_count": 69,
   "id": "f9c3246f-dd5a-42e7-a4cf-a4777984cdac",
   "metadata": {},
   "outputs": [
    {
     "name": "stdout",
     "output_type": "stream",
     "text": [
      "((0, 0), (slice(0, 2, None), slice(0, 1, None)), <abtem.scan.GridScan object at 0x7ff1c88d3ee0>)\n",
      "((0, 1), (slice(0, 2, None), slice(1, 2, None)), <abtem.scan.GridScan object at 0x7ff1c84eacb0>)\n",
      "((0, 2), (slice(0, 2, None), slice(2, 3, None)), <abtem.scan.GridScan object at 0x7ff1c88d3ee0>)\n",
      "((0, 3), (slice(0, 2, None), slice(3, 4, None)), <abtem.scan.GridScan object at 0x7ff2e677c7c0>)\n",
      "((0, 4), (slice(0, 2, None), slice(4, 5, None)), <abtem.scan.GridScan object at 0x7ff1c88d3ee0>)\n",
      "((0, 5), (slice(0, 2, None), slice(5, 6, None)), <abtem.scan.GridScan object at 0x7ff2e677c7c0>)\n",
      "((0, 6), (slice(0, 2, None), slice(6, 7, None)), <abtem.scan.GridScan object at 0x7ff1c88d3ee0>)\n",
      "((0, 7), (slice(0, 2, None), slice(7, 8, None)), <abtem.scan.GridScan object at 0x7ff2e677c7c0>)\n",
      "((0, 8), (slice(0, 2, None), slice(8, 9, None)), <abtem.scan.GridScan object at 0x7ff1c88d3ee0>)\n",
      "((0, 9), (slice(0, 2, None), slice(9, 10, None)), <abtem.scan.GridScan object at 0x7ff2e677c7c0>)\n",
      "((0, 10), (slice(0, 2, None), slice(10, 11, None)), <abtem.scan.GridScan object at 0x7ff1c88d3ee0>)\n",
      "((0, 11), (slice(0, 2, None), slice(11, 12, None)), <abtem.scan.GridScan object at 0x7ff2e677c7c0>)\n",
      "((0, 12), (slice(0, 2, None), slice(12, 13, None)), <abtem.scan.GridScan object at 0x7ff1c88d3ee0>)\n",
      "((0, 13), (slice(0, 2, None), slice(13, 14, None)), <abtem.scan.GridScan object at 0x7ff2e677c7c0>)\n",
      "((0, 14), (slice(0, 2, None), slice(14, 15, None)), <abtem.scan.GridScan object at 0x7ff1c88d3ee0>)\n",
      "((1, 0), (slice(2, 4, None), slice(0, 1, None)), <abtem.scan.GridScan object at 0x7ff2e677c7c0>)\n",
      "((1, 1), (slice(2, 4, None), slice(1, 2, None)), <abtem.scan.GridScan object at 0x7ff1c88d3ee0>)\n",
      "((1, 2), (slice(2, 4, None), slice(2, 3, None)), <abtem.scan.GridScan object at 0x7ff2e677c7c0>)\n",
      "((1, 3), (slice(2, 4, None), slice(3, 4, None)), <abtem.scan.GridScan object at 0x7ff1c88d3ee0>)\n",
      "((1, 4), (slice(2, 4, None), slice(4, 5, None)), <abtem.scan.GridScan object at 0x7ff2e677c7c0>)\n",
      "((1, 5), (slice(2, 4, None), slice(5, 6, None)), <abtem.scan.GridScan object at 0x7ff1c88d3ee0>)\n",
      "((1, 6), (slice(2, 4, None), slice(6, 7, None)), <abtem.scan.GridScan object at 0x7ff2e677c7c0>)\n",
      "((1, 7), (slice(2, 4, None), slice(7, 8, None)), <abtem.scan.GridScan object at 0x7ff1c88d3ee0>)\n",
      "((1, 8), (slice(2, 4, None), slice(8, 9, None)), <abtem.scan.GridScan object at 0x7ff2e677c7c0>)\n",
      "((1, 9), (slice(2, 4, None), slice(9, 10, None)), <abtem.scan.GridScan object at 0x7ff1c88d3ee0>)\n",
      "((1, 10), (slice(2, 4, None), slice(10, 11, None)), <abtem.scan.GridScan object at 0x7ff2e677c7c0>)\n",
      "((1, 11), (slice(2, 4, None), slice(11, 12, None)), <abtem.scan.GridScan object at 0x7ff1c88d3ee0>)\n",
      "((1, 12), (slice(2, 4, None), slice(12, 13, None)), <abtem.scan.GridScan object at 0x7ff2e677c7c0>)\n",
      "((1, 13), (slice(2, 4, None), slice(13, 14, None)), <abtem.scan.GridScan object at 0x7ff1c88d3ee0>)\n",
      "((1, 14), (slice(2, 4, None), slice(14, 15, None)), <abtem.scan.GridScan object at 0x7ff2e677c7c0>)\n",
      "((2, 0), (slice(4, 6, None), slice(0, 1, None)), <abtem.scan.GridScan object at 0x7ff1c88d3ee0>)\n",
      "((2, 1), (slice(4, 6, None), slice(1, 2, None)), <abtem.scan.GridScan object at 0x7ff2e677c7c0>)\n",
      "((2, 2), (slice(4, 6, None), slice(2, 3, None)), <abtem.scan.GridScan object at 0x7ff1c88d3ee0>)\n",
      "((2, 3), (slice(4, 6, None), slice(3, 4, None)), <abtem.scan.GridScan object at 0x7ff2e677c7c0>)\n",
      "((2, 4), (slice(4, 6, None), slice(4, 5, None)), <abtem.scan.GridScan object at 0x7ff1c88d3ee0>)\n",
      "((2, 5), (slice(4, 6, None), slice(5, 6, None)), <abtem.scan.GridScan object at 0x7ff2e677c7c0>)\n",
      "((2, 6), (slice(4, 6, None), slice(6, 7, None)), <abtem.scan.GridScan object at 0x7ff1c88d3ee0>)\n",
      "((2, 7), (slice(4, 6, None), slice(7, 8, None)), <abtem.scan.GridScan object at 0x7ff2e677c7c0>)\n",
      "((2, 8), (slice(4, 6, None), slice(8, 9, None)), <abtem.scan.GridScan object at 0x7ff1c88d3ee0>)\n",
      "((2, 9), (slice(4, 6, None), slice(9, 10, None)), <abtem.scan.GridScan object at 0x7ff2e677c7c0>)\n",
      "((2, 10), (slice(4, 6, None), slice(10, 11, None)), <abtem.scan.GridScan object at 0x7ff1c88d3ee0>)\n",
      "((2, 11), (slice(4, 6, None), slice(11, 12, None)), <abtem.scan.GridScan object at 0x7ff2e677c7c0>)\n",
      "((2, 12), (slice(4, 6, None), slice(12, 13, None)), <abtem.scan.GridScan object at 0x7ff1c88d3ee0>)\n",
      "((2, 13), (slice(4, 6, None), slice(13, 14, None)), <abtem.scan.GridScan object at 0x7ff2e677c7c0>)\n",
      "((2, 14), (slice(4, 6, None), slice(14, 15, None)), <abtem.scan.GridScan object at 0x7ff1c88d3ee0>)\n",
      "((3, 0), (slice(6, 8, None), slice(0, 1, None)), <abtem.scan.GridScan object at 0x7ff2e677c7c0>)\n",
      "((3, 1), (slice(6, 8, None), slice(1, 2, None)), <abtem.scan.GridScan object at 0x7ff1c88d3ee0>)\n",
      "((3, 2), (slice(6, 8, None), slice(2, 3, None)), <abtem.scan.GridScan object at 0x7ff2e677c7c0>)\n",
      "((3, 3), (slice(6, 8, None), slice(3, 4, None)), <abtem.scan.GridScan object at 0x7ff1c88d3ee0>)\n",
      "((3, 4), (slice(6, 8, None), slice(4, 5, None)), <abtem.scan.GridScan object at 0x7ff2e677c7c0>)\n",
      "((3, 5), (slice(6, 8, None), slice(5, 6, None)), <abtem.scan.GridScan object at 0x7ff1c88d3ee0>)\n",
      "((3, 6), (slice(6, 8, None), slice(6, 7, None)), <abtem.scan.GridScan object at 0x7ff2e677c7c0>)\n",
      "((3, 7), (slice(6, 8, None), slice(7, 8, None)), <abtem.scan.GridScan object at 0x7ff1c88d3ee0>)\n",
      "((3, 8), (slice(6, 8, None), slice(8, 9, None)), <abtem.scan.GridScan object at 0x7ff2e677c7c0>)\n",
      "((3, 9), (slice(6, 8, None), slice(9, 10, None)), <abtem.scan.GridScan object at 0x7ff1c88d3ee0>)\n",
      "((3, 10), (slice(6, 8, None), slice(10, 11, None)), <abtem.scan.GridScan object at 0x7ff2e677c7c0>)\n",
      "((3, 11), (slice(6, 8, None), slice(11, 12, None)), <abtem.scan.GridScan object at 0x7ff1c88d3ee0>)\n",
      "((3, 12), (slice(6, 8, None), slice(12, 13, None)), <abtem.scan.GridScan object at 0x7ff2e677c7c0>)\n",
      "((3, 13), (slice(6, 8, None), slice(13, 14, None)), <abtem.scan.GridScan object at 0x7ff1c88d3ee0>)\n",
      "((3, 14), (slice(6, 8, None), slice(14, 15, None)), <abtem.scan.GridScan object at 0x7ff2e677c7c0>)\n",
      "((4, 0), (slice(8, 10, None), slice(0, 1, None)), <abtem.scan.GridScan object at 0x7ff1c88d3ee0>)\n",
      "((4, 1), (slice(8, 10, None), slice(1, 2, None)), <abtem.scan.GridScan object at 0x7ff2e677c7c0>)\n",
      "((4, 2), (slice(8, 10, None), slice(2, 3, None)), <abtem.scan.GridScan object at 0x7ff1c88d3ee0>)\n",
      "((4, 3), (slice(8, 10, None), slice(3, 4, None)), <abtem.scan.GridScan object at 0x7ff2e677c7c0>)\n",
      "((4, 4), (slice(8, 10, None), slice(4, 5, None)), <abtem.scan.GridScan object at 0x7ff1c88d3ee0>)\n",
      "((4, 5), (slice(8, 10, None), slice(5, 6, None)), <abtem.scan.GridScan object at 0x7ff2e677c7c0>)\n",
      "((4, 6), (slice(8, 10, None), slice(6, 7, None)), <abtem.scan.GridScan object at 0x7ff1c88d3ee0>)\n",
      "((4, 7), (slice(8, 10, None), slice(7, 8, None)), <abtem.scan.GridScan object at 0x7ff2e677c7c0>)\n",
      "((4, 8), (slice(8, 10, None), slice(8, 9, None)), <abtem.scan.GridScan object at 0x7ff1c88d3ee0>)\n",
      "((4, 9), (slice(8, 10, None), slice(9, 10, None)), <abtem.scan.GridScan object at 0x7ff2e677c7c0>)\n",
      "((4, 10), (slice(8, 10, None), slice(10, 11, None)), <abtem.scan.GridScan object at 0x7ff1c88d3ee0>)\n",
      "((4, 11), (slice(8, 10, None), slice(11, 12, None)), <abtem.scan.GridScan object at 0x7ff2e677c7c0>)\n",
      "((4, 12), (slice(8, 10, None), slice(12, 13, None)), <abtem.scan.GridScan object at 0x7ff1c88d3ee0>)\n",
      "((4, 13), (slice(8, 10, None), slice(13, 14, None)), <abtem.scan.GridScan object at 0x7ff2e677c7c0>)\n",
      "((4, 14), (slice(8, 10, None), slice(14, 15, None)), <abtem.scan.GridScan object at 0x7ff1c88d3ee0>)\n",
      "((5, 0), (slice(10, 12, None), slice(0, 1, None)), <abtem.scan.GridScan object at 0x7ff2e677c7c0>)\n",
      "((5, 1), (slice(10, 12, None), slice(1, 2, None)), <abtem.scan.GridScan object at 0x7ff1c88d3ee0>)\n",
      "((5, 2), (slice(10, 12, None), slice(2, 3, None)), <abtem.scan.GridScan object at 0x7ff2e677c7c0>)\n",
      "((5, 3), (slice(10, 12, None), slice(3, 4, None)), <abtem.scan.GridScan object at 0x7ff1c88d3ee0>)\n",
      "((5, 4), (slice(10, 12, None), slice(4, 5, None)), <abtem.scan.GridScan object at 0x7ff2e677c7c0>)\n",
      "((5, 5), (slice(10, 12, None), slice(5, 6, None)), <abtem.scan.GridScan object at 0x7ff1c88d3ee0>)\n",
      "((5, 6), (slice(10, 12, None), slice(6, 7, None)), <abtem.scan.GridScan object at 0x7ff2e677c7c0>)\n",
      "((5, 7), (slice(10, 12, None), slice(7, 8, None)), <abtem.scan.GridScan object at 0x7ff1c88d3ee0>)\n",
      "((5, 8), (slice(10, 12, None), slice(8, 9, None)), <abtem.scan.GridScan object at 0x7ff2e677c7c0>)\n",
      "((5, 9), (slice(10, 12, None), slice(9, 10, None)), <abtem.scan.GridScan object at 0x7ff1c88d3ee0>)\n",
      "((5, 10), (slice(10, 12, None), slice(10, 11, None)), <abtem.scan.GridScan object at 0x7ff2e677c7c0>)\n",
      "((5, 11), (slice(10, 12, None), slice(11, 12, None)), <abtem.scan.GridScan object at 0x7ff1c88d3ee0>)\n",
      "((5, 12), (slice(10, 12, None), slice(12, 13, None)), <abtem.scan.GridScan object at 0x7ff2e677c7c0>)\n",
      "((5, 13), (slice(10, 12, None), slice(13, 14, None)), <abtem.scan.GridScan object at 0x7ff1c88d3ee0>)\n",
      "((5, 14), (slice(10, 12, None), slice(14, 15, None)), <abtem.scan.GridScan object at 0x7ff2e677c7c0>)\n",
      "((6, 0), (slice(12, 14, None), slice(0, 1, None)), <abtem.scan.GridScan object at 0x7ff1c88d3ee0>)\n",
      "((6, 1), (slice(12, 14, None), slice(1, 2, None)), <abtem.scan.GridScan object at 0x7ff2e677c7c0>)\n",
      "((6, 2), (slice(12, 14, None), slice(2, 3, None)), <abtem.scan.GridScan object at 0x7ff1c88d3ee0>)\n",
      "((6, 3), (slice(12, 14, None), slice(3, 4, None)), <abtem.scan.GridScan object at 0x7ff2e677c7c0>)\n",
      "((6, 4), (slice(12, 14, None), slice(4, 5, None)), <abtem.scan.GridScan object at 0x7ff1c88d3ee0>)\n",
      "((6, 5), (slice(12, 14, None), slice(5, 6, None)), <abtem.scan.GridScan object at 0x7ff2e677c7c0>)\n",
      "((6, 6), (slice(12, 14, None), slice(6, 7, None)), <abtem.scan.GridScan object at 0x7ff1c88d3ee0>)\n",
      "((6, 7), (slice(12, 14, None), slice(7, 8, None)), <abtem.scan.GridScan object at 0x7ff2e677c7c0>)\n",
      "((6, 8), (slice(12, 14, None), slice(8, 9, None)), <abtem.scan.GridScan object at 0x7ff1c88d3ee0>)\n",
      "((6, 9), (slice(12, 14, None), slice(9, 10, None)), <abtem.scan.GridScan object at 0x7ff2e677c7c0>)\n",
      "((6, 10), (slice(12, 14, None), slice(10, 11, None)), <abtem.scan.GridScan object at 0x7ff1c88d3ee0>)\n",
      "((6, 11), (slice(12, 14, None), slice(11, 12, None)), <abtem.scan.GridScan object at 0x7ff2e677c7c0>)\n",
      "((6, 12), (slice(12, 14, None), slice(12, 13, None)), <abtem.scan.GridScan object at 0x7ff1c88d3ee0>)\n",
      "((6, 13), (slice(12, 14, None), slice(13, 14, None)), <abtem.scan.GridScan object at 0x7ff2e677c7c0>)\n",
      "((6, 14), (slice(12, 14, None), slice(14, 15, None)), <abtem.scan.GridScan object at 0x7ff1c88d3ee0>)\n",
      "((7, 0), (slice(14, 15, None), slice(0, 1, None)), <abtem.scan.GridScan object at 0x7ff2e677c7c0>)\n",
      "((7, 1), (slice(14, 15, None), slice(1, 2, None)), <abtem.scan.GridScan object at 0x7ff1c88d3ee0>)\n",
      "((7, 2), (slice(14, 15, None), slice(2, 3, None)), <abtem.scan.GridScan object at 0x7ff2e677c7c0>)\n",
      "((7, 3), (slice(14, 15, None), slice(3, 4, None)), <abtem.scan.GridScan object at 0x7ff1c88d3ee0>)\n",
      "((7, 4), (slice(14, 15, None), slice(4, 5, None)), <abtem.scan.GridScan object at 0x7ff2e677c7c0>)\n",
      "((7, 5), (slice(14, 15, None), slice(5, 6, None)), <abtem.scan.GridScan object at 0x7ff1c88d3ee0>)\n",
      "((7, 6), (slice(14, 15, None), slice(6, 7, None)), <abtem.scan.GridScan object at 0x7ff2e677c7c0>)\n",
      "((7, 7), (slice(14, 15, None), slice(7, 8, None)), <abtem.scan.GridScan object at 0x7ff1c88d3ee0>)\n",
      "((7, 8), (slice(14, 15, None), slice(8, 9, None)), <abtem.scan.GridScan object at 0x7ff2e677c7c0>)\n",
      "((7, 9), (slice(14, 15, None), slice(9, 10, None)), <abtem.scan.GridScan object at 0x7ff1c88d3ee0>)\n",
      "((7, 10), (slice(14, 15, None), slice(10, 11, None)), <abtem.scan.GridScan object at 0x7ff2e677c7c0>)\n",
      "((7, 11), (slice(14, 15, None), slice(11, 12, None)), <abtem.scan.GridScan object at 0x7ff1c88d3ee0>)\n",
      "((7, 12), (slice(14, 15, None), slice(12, 13, None)), <abtem.scan.GridScan object at 0x7ff2e677c7c0>)\n",
      "((7, 13), (slice(14, 15, None), slice(13, 14, None)), <abtem.scan.GridScan object at 0x7ff1c88d3ee0>)\n",
      "((7, 14), (slice(14, 15, None), slice(14, 15, None)), <abtem.scan.GridScan object at 0x7ff2e677c7c0>)\n"
     ]
    }
   ],
   "source": [
    "for sub_scan in scan.generate_blocks(3):\n",
    "    \n",
    "    print(sub_scan)\n",
    "    "
   ]
  },
  {
   "cell_type": "code",
   "execution_count": 67,
   "id": "0d013a1b-0979-4cfc-8e71-f5388f9f5a7a",
   "metadata": {},
   "outputs": [
    {
     "data": {
      "text/plain": [
       "(15, 15)"
      ]
     },
     "execution_count": 67,
     "metadata": {},
     "output_type": "execute_result"
    }
   ],
   "source": [
    "scan.shape"
   ]
  },
  {
   "cell_type": "code",
   "execution_count": 66,
   "id": "08bc45bb-0fa8-4640-a927-0eee6bbe557a",
   "metadata": {
    "tags": []
   },
   "outputs": [
    {
     "data": {
      "application/vnd.jupyter.widget-view+json": {
       "model_id": "",
       "version_major": 2,
       "version_minor": 0
      },
      "text/plain": [
       "Output()"
      ]
     },
     "metadata": {},
     "output_type": "display_data"
    },
    {
     "data": {
      "text/html": [
       "<pre style=\"white-space:pre;overflow-x:auto;line-height:normal;font-family:Menlo,'DejaVu Sans Mono',consolas,'Courier New',monospace\"></pre>\n"
      ],
      "text/plain": []
     },
     "metadata": {},
     "output_type": "display_data"
    },
    {
     "data": {
      "text/html": [
       "<pre style=\"white-space:pre;overflow-x:auto;line-height:normal;font-family:Menlo,'DejaVu Sans Mono',consolas,'Courier New',monospace\">\n",
       "</pre>\n"
      ],
      "text/plain": [
       "\n"
      ]
     },
     "metadata": {},
     "output_type": "display_data"
    },
    {
     "data": {
      "application/vnd.jupyter.widget-view+json": {
       "model_id": "",
       "version_major": 2,
       "version_minor": 0
      },
      "text/plain": [
       "Output()"
      ]
     },
     "metadata": {},
     "output_type": "display_data"
    },
    {
     "data": {
      "text/html": [
       "<pre style=\"white-space:pre;overflow-x:auto;line-height:normal;font-family:Menlo,'DejaVu Sans Mono',consolas,'Courier New',monospace\"></pre>\n"
      ],
      "text/plain": []
     },
     "metadata": {},
     "output_type": "display_data"
    },
    {
     "data": {
      "text/html": [
       "<pre style=\"white-space:pre;overflow-x:auto;line-height:normal;font-family:Menlo,'DejaVu Sans Mono',consolas,'Courier New',monospace\">\n",
       "</pre>\n"
      ],
      "text/plain": [
       "\n"
      ]
     },
     "metadata": {},
     "output_type": "display_data"
    },
    {
     "data": {
      "text/html": [
       "<pre style=\"white-space:pre;overflow-x:auto;line-height:normal;font-family:Menlo,'DejaVu Sans Mono',consolas,'Courier New',monospace\">Results saved to <span style=\"color: #000080; text-decoration-color: #000080; font-weight: bold\">memray-results/tmppfbxkfew/flamegraph.html</span>\n",
       "</pre>\n"
      ],
      "text/plain": [
       "Results saved to \u001b[1;34mmemray-results/tmppfbxkfew/flamegraph.html\u001b[0m\n"
      ]
     },
     "metadata": {},
     "output_type": "display_data"
    },
    {
     "data": {
      "text/html": [
       "\n",
       "        <iframe\n",
       "            width=\"100%\"\n",
       "            height=\"600\"\n",
       "            src=\"memray-results/tmppfbxkfew/flamegraph.html\"\n",
       "            frameborder=\"0\"\n",
       "            allowfullscreen\n",
       "            \n",
       "        ></iframe>\n",
       "        "
      ],
      "text/plain": [
       "<IPython.lib.display.IFrame at 0x7ff1c8972f20>"
      ]
     },
     "metadata": {},
     "output_type": "display_data"
    }
   ],
   "source": [
    "%%memray_flamegraph\n",
    "\n",
    "atoms = ase.build.bulk(\"Au\", cubic=True) * (3,3,1)\n",
    "\n",
    "potential = abtem.Potential(atoms, gpts=1000)\n",
    "\n",
    "probe = abtem.Probe(\n",
    "    energy=200e3, \n",
    "    semiangle_cutoff=20,\n",
    "    extent=potential.extent,\n",
    "    gpts=1000,\n",
    ")\n",
    "\n",
    "#wave = probe.build(lazy=False)\n",
    "\n",
    "#propagator = abtem.multislice.FresnelPropagator()\n",
    "\n",
    "#wave = propagator.propagate(wave, 200, overwrite_x=True)\n",
    "#wave = propagator.propagate(wave, 200, overwrite_x=True)\n",
    "#wave = propagator.propagate(wave, 200, overwrite_x=True)\n",
    "\n",
    "#slice_generator = potential.generate_slices()\n",
    "\n",
    "detector = abtem.AnnularDetector(inner=50, outer=150)\n",
    "\n",
    "scan = abtem.GridScan(start=(0,0), end=(1/3,1/3), fractional=True, potential=potential)\n",
    "scan.match_probe(probe)\n",
    "\n",
    "#measurement = probe.scan(potential, detectors=detector, scan=scan).compute()\n",
    "\n",
    "#exit_wave = abtem.multislice.multislice_and_detect(wave, potential)"
   ]
  },
  {
   "cell_type": "code",
   "execution_count": 65,
   "id": "42a3dcf7-8150-4b3d-8e4c-30b680cd6b86",
   "metadata": {},
   "outputs": [
    {
     "data": {
      "text/plain": [
       "(<Figure size 640x480 with 2 Axes>, <Axes: xlabel='x [Å]', ylabel='y [Å]'>)"
      ]
     },
     "execution_count": 65,
     "metadata": {},
     "output_type": "execute_result"
    },
    {
     "data": {
      "image/png": "[encoded data removed]",
      "text/plain": [
       "<Figure size 640x480 with 2 Axes>"
      ]
     },
     "metadata": {},
     "output_type": "display_data"
    }
   ],
   "source": [
    "measurement.show()"
   ]
  },
  {
   "cell_type": "code",
   "execution_count": 7,
   "id": "ca812fdc-2057-4853-a493-aa3d4c857460",
   "metadata": {},
   "outputs": [
    {
     "data": {
      "application/vnd.jupyter.widget-view+json": {
       "model_id": "",
       "version_major": 2,
       "version_minor": 0
      },
      "text/plain": [
       "Output()"
      ]
     },
     "metadata": {},
     "output_type": "display_data"
    },
    {
     "data": {
      "text/html": [
       "<pre style=\"white-space:pre;overflow-x:auto;line-height:normal;font-family:Menlo,'DejaVu Sans Mono',consolas,'Courier New',monospace\"></pre>\n"
      ],
      "text/plain": []
     },
     "metadata": {},
     "output_type": "display_data"
    },
    {
     "data": {
      "text/html": [
       "<pre style=\"white-space:pre;overflow-x:auto;line-height:normal;font-family:Menlo,'DejaVu Sans Mono',consolas,'Courier New',monospace\">\n",
       "</pre>\n"
      ],
      "text/plain": [
       "\n"
      ]
     },
     "metadata": {},
     "output_type": "display_data"
    },
    {
     "data": {
      "application/vnd.jupyter.widget-view+json": {
       "model_id": "",
       "version_major": 2,
       "version_minor": 0
      },
      "text/plain": [
       "Output()"
      ]
     },
     "metadata": {},
     "output_type": "display_data"
    },
    {
     "data": {
      "text/html": [
       "<pre style=\"white-space:pre;overflow-x:auto;line-height:normal;font-family:Menlo,'DejaVu Sans Mono',consolas,'Courier New',monospace\"></pre>\n"
      ],
      "text/plain": []
     },
     "metadata": {},
     "output_type": "display_data"
    },
    {
     "data": {
      "text/html": [
       "<pre style=\"white-space:pre;overflow-x:auto;line-height:normal;font-family:Menlo,'DejaVu Sans Mono',consolas,'Courier New',monospace\">\n",
       "</pre>\n"
      ],
      "text/plain": [
       "\n"
      ]
     },
     "metadata": {},
     "output_type": "display_data"
    },
    {
     "data": {
      "text/html": [
       "<pre style=\"white-space:pre;overflow-x:auto;line-height:normal;font-family:Menlo,'DejaVu Sans Mono',consolas,'Courier New',monospace\">Results saved to <span style=\"color: #000080; text-decoration-color: #000080; font-weight: bold\">memray-results/tmpxwh4g6d2/flamegraph.html</span>\n",
       "</pre>\n"
      ],
      "text/plain": [
       "Results saved to \u001b[1;34mmemray-results/tmpxwh4g6d2/flamegraph.html\u001b[0m\n"
      ]
     },
     "metadata": {},
     "output_type": "display_data"
    },
    {
     "data": {
      "text/html": [
       "\n",
       "        <iframe\n",
       "            width=\"100%\"\n",
       "            height=\"600\"\n",
       "            src=\"memray-results/tmpxwh4g6d2/flamegraph.html\"\n",
       "            frameborder=\"0\"\n",
       "            allowfullscreen\n",
       "            \n",
       "        ></iframe>\n",
       "        "
      ],
      "text/plain": [
       "<IPython.lib.display.IFrame at 0x7fe858566920>"
      ]
     },
     "metadata": {},
     "output_type": "display_data"
    }
   ],
   "source": [
    "%%memray_flamegraph\n",
    "\n",
    "probe = abtem.Probe(\n",
    "    energy=200e3, \n",
    "    semiangle_cutoff=20,\n",
    "    extent=potential.extent,\n",
    "    gpts=10000,\n",
    ")#.compute()\n",
    "\n",
    "probe = probe.build(lazy=False)\n",
    "\n",
    "exit_wave = abtem.multislice.multislice_and_detect(probe, potential)"
   ]
  },
  {
   "cell_type": "code",
   "execution_count": 14,
   "id": "aa0f515e-d41f-46e7-9ecc-a1d1e0f66d7c",
   "metadata": {},
   "outputs": [
    {
     "name": "stderr",
     "output_type": "stream",
     "text": [
      "/opt/anaconda3/envs/abtem-dask/lib/python3.10/site-packages/distributed/node.py:182: UserWarning: Port 8787 is already in use.\n",
      "Perhaps you already have a cluster running?\n",
      "Hosting the HTTP server on port 57637 instead\n",
      "  warnings.warn(\n"
     ]
    }
   ],
   "source": [
    "client = Client()\n",
    "client"
   ]
  },
  {
   "cell_type": "code",
   "execution_count": 15,
   "id": "c22c8d3c-b3ee-4a77-aebf-3f1eea5348db",
   "metadata": {},
   "outputs": [
    {
     "data": {
      "text/html": [
       "<div>\n",
       "    <div style=\"width: 24px; height: 24px; background-color: #e1e1e1; border: 3px solid #9D9D9D; border-radius: 5px; position: absolute;\"> </div>\n",
       "    <div style=\"margin-left: 48px;\">\n",
       "        <h3 style=\"margin-bottom: 0px;\">Client</h3>\n",
       "        <p style=\"color: #9D9D9D; margin-bottom: 0px;\">Client-073e38f2-814c-11ed-8659-f218984d7c80</p>\n",
       "        <table style=\"width: 100%; text-align: left;\">\n",
       "\n",
       "        <tr>\n",
       "        \n",
       "            <td style=\"text-align: left;\"><strong>Connection method:</strong> Cluster object</td>\n",
       "            <td style=\"text-align: left;\"><strong>Cluster type:</strong> distributed.LocalCluster</td>\n",
       "        \n",
       "        </tr>\n",
       "\n",
       "        \n",
       "            <tr>\n",
       "                <td style=\"text-align: left;\">\n",
       "                    <strong>Dashboard: </strong> <a href=\"http://127.0.0.1:57637/status\" target=\"_blank\">http://127.0.0.1:57637/status</a>\n",
       "                </td>\n",
       "                <td style=\"text-align: left;\"></td>\n",
       "            </tr>\n",
       "        \n",
       "\n",
       "        </table>\n",
       "\n",
       "        \n",
       "            <button style=\"margin-bottom: 12px;\" data-commandlinker-command=\"dask:populate-and-launch-layout\" data-commandlinker-args='{\"url\": \"http://127.0.0.1:57637/status\" }'>\n",
       "                Launch dashboard in JupyterLab\n",
       "            </button>\n",
       "        \n",
       "\n",
       "        \n",
       "            <details>\n",
       "            <summary style=\"margin-bottom: 20px;\"><h3 style=\"display: inline;\">Cluster Info</h3></summary>\n",
       "            <div class=\"jp-RenderedHTMLCommon jp-RenderedHTML jp-mod-trusted jp-OutputArea-output\">\n",
       "    <div style=\"width: 24px; height: 24px; background-color: #e1e1e1; border: 3px solid #9D9D9D; border-radius: 5px; position: absolute;\">\n",
       "    </div>\n",
       "    <div style=\"margin-left: 48px;\">\n",
       "        <h3 style=\"margin-bottom: 0px; margin-top: 0px;\">LocalCluster</h3>\n",
       "        <p style=\"color: #9D9D9D; margin-bottom: 0px;\">76450648</p>\n",
       "        <table style=\"width: 100%; text-align: left;\">\n",
       "            <tr>\n",
       "                <td style=\"text-align: left;\">\n",
       "                    <strong>Dashboard:</strong> <a href=\"http://127.0.0.1:57637/status\" target=\"_blank\">http://127.0.0.1:57637/status</a>\n",
       "                </td>\n",
       "                <td style=\"text-align: left;\">\n",
       "                    <strong>Workers:</strong> 4\n",
       "                </td>\n",
       "            </tr>\n",
       "            <tr>\n",
       "                <td style=\"text-align: left;\">\n",
       "                    <strong>Total threads:</strong> 8\n",
       "                </td>\n",
       "                <td style=\"text-align: left;\">\n",
       "                    <strong>Total memory:</strong> 16.00 GiB\n",
       "                </td>\n",
       "            </tr>\n",
       "            \n",
       "            <tr>\n",
       "    <td style=\"text-align: left;\"><strong>Status:</strong> running</td>\n",
       "    <td style=\"text-align: left;\"><strong>Using processes:</strong> True</td>\n",
       "</tr>\n",
       "\n",
       "            \n",
       "        </table>\n",
       "\n",
       "        <details>\n",
       "            <summary style=\"margin-bottom: 20px;\">\n",
       "                <h3 style=\"display: inline;\">Scheduler Info</h3>\n",
       "            </summary>\n",
       "\n",
       "            <div style=\"\">\n",
       "    <div>\n",
       "        <div style=\"width: 24px; height: 24px; background-color: #FFF7E5; border: 3px solid #FF6132; border-radius: 5px; position: absolute;\"> </div>\n",
       "        <div style=\"margin-left: 48px;\">\n",
       "            <h3 style=\"margin-bottom: 0px;\">Scheduler</h3>\n",
       "            <p style=\"color: #9D9D9D; margin-bottom: 0px;\">Scheduler-7579f6a6-2bea-4e49-b9e3-e76e399ec20f</p>\n",
       "            <table style=\"width: 100%; text-align: left;\">\n",
       "                <tr>\n",
       "                    <td style=\"text-align: left;\">\n",
       "                        <strong>Comm:</strong> tcp://127.0.0.1:57638\n",
       "                    </td>\n",
       "                    <td style=\"text-align: left;\">\n",
       "                        <strong>Workers:</strong> 4\n",
       "                    </td>\n",
       "                </tr>\n",
       "                <tr>\n",
       "                    <td style=\"text-align: left;\">\n",
       "                        <strong>Dashboard:</strong> <a href=\"http://127.0.0.1:57637/status\" target=\"_blank\">http://127.0.0.1:57637/status</a>\n",
       "                    </td>\n",
       "                    <td style=\"text-align: left;\">\n",
       "                        <strong>Total threads:</strong> 8\n",
       "                    </td>\n",
       "                </tr>\n",
       "                <tr>\n",
       "                    <td style=\"text-align: left;\">\n",
       "                        <strong>Started:</strong> Just now\n",
       "                    </td>\n",
       "                    <td style=\"text-align: left;\">\n",
       "                        <strong>Total memory:</strong> 16.00 GiB\n",
       "                    </td>\n",
       "                </tr>\n",
       "            </table>\n",
       "        </div>\n",
       "    </div>\n",
       "\n",
       "    <details style=\"margin-left: 48px;\">\n",
       "        <summary style=\"margin-bottom: 20px;\">\n",
       "            <h3 style=\"display: inline;\">Workers</h3>\n",
       "        </summary>\n",
       "\n",
       "        \n",
       "        <div style=\"margin-bottom: 20px;\">\n",
       "            <div style=\"width: 24px; height: 24px; background-color: #DBF5FF; border: 3px solid #4CC9FF; border-radius: 5px; position: absolute;\"> </div>\n",
       "            <div style=\"margin-left: 48px;\">\n",
       "            <details>\n",
       "                <summary>\n",
       "                    <h4 style=\"margin-bottom: 0px; display: inline;\">Worker: 0</h4>\n",
       "                </summary>\n",
       "                <table style=\"width: 100%; text-align: left;\">\n",
       "                    <tr>\n",
       "                        <td style=\"text-align: left;\">\n",
       "                            <strong>Comm: </strong> tcp://127.0.0.1:57649\n",
       "                        </td>\n",
       "                        <td style=\"text-align: left;\">\n",
       "                            <strong>Total threads: </strong> 2\n",
       "                        </td>\n",
       "                    </tr>\n",
       "                    <tr>\n",
       "                        <td style=\"text-align: left;\">\n",
       "                            <strong>Dashboard: </strong> <a href=\"http://127.0.0.1:57652/status\" target=\"_blank\">http://127.0.0.1:57652/status</a>\n",
       "                        </td>\n",
       "                        <td style=\"text-align: left;\">\n",
       "                            <strong>Memory: </strong> 4.00 GiB\n",
       "                        </td>\n",
       "                    </tr>\n",
       "                    <tr>\n",
       "                        <td style=\"text-align: left;\">\n",
       "                            <strong>Nanny: </strong> tcp://127.0.0.1:57641\n",
       "                        </td>\n",
       "                        <td style=\"text-align: left;\"></td>\n",
       "                    </tr>\n",
       "                    <tr>\n",
       "                        <td colspan=\"2\" style=\"text-align: left;\">\n",
       "                            <strong>Local directory: </strong> /var/folders/_p/k7hrlnh132n933827sxdjkrm0000gn/T/dask-worker-space/worker-12chfrc_\n",
       "                        </td>\n",
       "                    </tr>\n",
       "\n",
       "                    \n",
       "\n",
       "                    \n",
       "\n",
       "                </table>\n",
       "            </details>\n",
       "            </div>\n",
       "        </div>\n",
       "        \n",
       "        <div style=\"margin-bottom: 20px;\">\n",
       "            <div style=\"width: 24px; height: 24px; background-color: #DBF5FF; border: 3px solid #4CC9FF; border-radius: 5px; position: absolute;\"> </div>\n",
       "            <div style=\"margin-left: 48px;\">\n",
       "            <details>\n",
       "                <summary>\n",
       "                    <h4 style=\"margin-bottom: 0px; display: inline;\">Worker: 1</h4>\n",
       "                </summary>\n",
       "                <table style=\"width: 100%; text-align: left;\">\n",
       "                    <tr>\n",
       "                        <td style=\"text-align: left;\">\n",
       "                            <strong>Comm: </strong> tcp://127.0.0.1:57651\n",
       "                        </td>\n",
       "                        <td style=\"text-align: left;\">\n",
       "                            <strong>Total threads: </strong> 2\n",
       "                        </td>\n",
       "                    </tr>\n",
       "                    <tr>\n",
       "                        <td style=\"text-align: left;\">\n",
       "                            <strong>Dashboard: </strong> <a href=\"http://127.0.0.1:57656/status\" target=\"_blank\">http://127.0.0.1:57656/status</a>\n",
       "                        </td>\n",
       "                        <td style=\"text-align: left;\">\n",
       "                            <strong>Memory: </strong> 4.00 GiB\n",
       "                        </td>\n",
       "                    </tr>\n",
       "                    <tr>\n",
       "                        <td style=\"text-align: left;\">\n",
       "                            <strong>Nanny: </strong> tcp://127.0.0.1:57642\n",
       "                        </td>\n",
       "                        <td style=\"text-align: left;\"></td>\n",
       "                    </tr>\n",
       "                    <tr>\n",
       "                        <td colspan=\"2\" style=\"text-align: left;\">\n",
       "                            <strong>Local directory: </strong> /var/folders/_p/k7hrlnh132n933827sxdjkrm0000gn/T/dask-worker-space/worker-qpgz0k2i\n",
       "                        </td>\n",
       "                    </tr>\n",
       "\n",
       "                    \n",
       "\n",
       "                    \n",
       "\n",
       "                </table>\n",
       "            </details>\n",
       "            </div>\n",
       "        </div>\n",
       "        \n",
       "        <div style=\"margin-bottom: 20px;\">\n",
       "            <div style=\"width: 24px; height: 24px; background-color: #DBF5FF; border: 3px solid #4CC9FF; border-radius: 5px; position: absolute;\"> </div>\n",
       "            <div style=\"margin-left: 48px;\">\n",
       "            <details>\n",
       "                <summary>\n",
       "                    <h4 style=\"margin-bottom: 0px; display: inline;\">Worker: 2</h4>\n",
       "                </summary>\n",
       "                <table style=\"width: 100%; text-align: left;\">\n",
       "                    <tr>\n",
       "                        <td style=\"text-align: left;\">\n",
       "                            <strong>Comm: </strong> tcp://127.0.0.1:57650\n",
       "                        </td>\n",
       "                        <td style=\"text-align: left;\">\n",
       "                            <strong>Total threads: </strong> 2\n",
       "                        </td>\n",
       "                    </tr>\n",
       "                    <tr>\n",
       "                        <td style=\"text-align: left;\">\n",
       "                            <strong>Dashboard: </strong> <a href=\"http://127.0.0.1:57654/status\" target=\"_blank\">http://127.0.0.1:57654/status</a>\n",
       "                        </td>\n",
       "                        <td style=\"text-align: left;\">\n",
       "                            <strong>Memory: </strong> 4.00 GiB\n",
       "                        </td>\n",
       "                    </tr>\n",
       "                    <tr>\n",
       "                        <td style=\"text-align: left;\">\n",
       "                            <strong>Nanny: </strong> tcp://127.0.0.1:57643\n",
       "                        </td>\n",
       "                        <td style=\"text-align: left;\"></td>\n",
       "                    </tr>\n",
       "                    <tr>\n",
       "                        <td colspan=\"2\" style=\"text-align: left;\">\n",
       "                            <strong>Local directory: </strong> /var/folders/_p/k7hrlnh132n933827sxdjkrm0000gn/T/dask-worker-space/worker-1fb_kabt\n",
       "                        </td>\n",
       "                    </tr>\n",
       "\n",
       "                    \n",
       "\n",
       "                    \n",
       "\n",
       "                </table>\n",
       "            </details>\n",
       "            </div>\n",
       "        </div>\n",
       "        \n",
       "        <div style=\"margin-bottom: 20px;\">\n",
       "            <div style=\"width: 24px; height: 24px; background-color: #DBF5FF; border: 3px solid #4CC9FF; border-radius: 5px; position: absolute;\"> </div>\n",
       "            <div style=\"margin-left: 48px;\">\n",
       "            <details>\n",
       "                <summary>\n",
       "                    <h4 style=\"margin-bottom: 0px; display: inline;\">Worker: 3</h4>\n",
       "                </summary>\n",
       "                <table style=\"width: 100%; text-align: left;\">\n",
       "                    <tr>\n",
       "                        <td style=\"text-align: left;\">\n",
       "                            <strong>Comm: </strong> tcp://127.0.0.1:57658\n",
       "                        </td>\n",
       "                        <td style=\"text-align: left;\">\n",
       "                            <strong>Total threads: </strong> 2\n",
       "                        </td>\n",
       "                    </tr>\n",
       "                    <tr>\n",
       "                        <td style=\"text-align: left;\">\n",
       "                            <strong>Dashboard: </strong> <a href=\"http://127.0.0.1:57659/status\" target=\"_blank\">http://127.0.0.1:57659/status</a>\n",
       "                        </td>\n",
       "                        <td style=\"text-align: left;\">\n",
       "                            <strong>Memory: </strong> 4.00 GiB\n",
       "                        </td>\n",
       "                    </tr>\n",
       "                    <tr>\n",
       "                        <td style=\"text-align: left;\">\n",
       "                            <strong>Nanny: </strong> tcp://127.0.0.1:57644\n",
       "                        </td>\n",
       "                        <td style=\"text-align: left;\"></td>\n",
       "                    </tr>\n",
       "                    <tr>\n",
       "                        <td colspan=\"2\" style=\"text-align: left;\">\n",
       "                            <strong>Local directory: </strong> /var/folders/_p/k7hrlnh132n933827sxdjkrm0000gn/T/dask-worker-space/worker-bk0nlce7\n",
       "                        </td>\n",
       "                    </tr>\n",
       "\n",
       "                    \n",
       "\n",
       "                    \n",
       "\n",
       "                </table>\n",
       "            </details>\n",
       "            </div>\n",
       "        </div>\n",
       "        \n",
       "\n",
       "    </details>\n",
       "</div>\n",
       "\n",
       "        </details>\n",
       "    </div>\n",
       "</div>\n",
       "            </details>\n",
       "        \n",
       "\n",
       "    </div>\n",
       "</div>"
      ],
      "text/plain": [
       "<Client: 'tcp://127.0.0.1:57638' processes=4 threads=8, memory=16.00 GiB>"
      ]
     },
     "execution_count": 15,
     "metadata": {},
     "output_type": "execute_result"
    }
   ],
   "source": []
  },
  {
   "cell_type": "code",
   "execution_count": 17,
   "id": "e93a2ae7-3194-45c2-9d8b-e45791bed8ac",
   "metadata": {},
   "outputs": [],
   "source": [
    "client.close()"
   ]
  },
  {
   "cell_type": "code",
   "execution_count": 16,
   "id": "fe11acd7-1f82-43ee-abf5-8b630deac239",
   "metadata": {
    "collapsed": true,
    "jupyter": {
     "outputs_hidden": true
    },
    "tags": []
   },
   "outputs": [
    {
     "name": "stderr",
     "output_type": "stream",
     "text": [
      "Task exception was never retrieved\n",
      "future: <Task finished name='Task-17504' coro=<Client._gather.<locals>.wait() done, defined at /opt/anaconda3/envs/abtem-dask/lib/python3.10/site-packages/distributed/client.py:2122> exception=AllExit()>\n",
      "Traceback (most recent call last):\n",
      "  File \"/opt/anaconda3/envs/abtem-dask/lib/python3.10/site-packages/distributed/client.py\", line 2131, in wait\n",
      "    raise AllExit()\n",
      "distributed.client.AllExit\n",
      "2022-12-21 17:25:19,725 - distributed.worker.memory - WARNING - Unmanaged memory use is high. This may indicate a memory leak or the memory may not be released to the OS; see https://distributed.dask.org/en/latest/worker-memory.html#memory-not-released-back-to-the-os for more information. -- Unmanaged memory: 2.85 GiB -- Worker memory limit: 4.00 GiB\n",
      "2022-12-21 17:25:19,824 - distributed.worker.memory - WARNING - Unmanaged memory use is high. This may indicate a memory leak or the memory may not be released to the OS; see https://distributed.dask.org/en/latest/worker-memory.html#memory-not-released-back-to-the-os for more information. -- Unmanaged memory: 3.01 GiB -- Worker memory limit: 4.00 GiB\n",
      "2022-12-21 17:25:19,924 - distributed.worker.memory - WARNING - Unmanaged memory use is high. This may indicate a memory leak or the memory may not be released to the OS; see https://distributed.dask.org/en/latest/worker-memory.html#memory-not-released-back-to-the-os for more information. -- Unmanaged memory: 3.16 GiB -- Worker memory limit: 4.00 GiB\n",
      "2022-12-21 17:25:20,423 - distributed.worker.memory - WARNING - Unmanaged memory use is high. This may indicate a memory leak or the memory may not be released to the OS; see https://distributed.dask.org/en/latest/worker-memory.html#memory-not-released-back-to-the-os for more information. -- Unmanaged memory: 2.86 GiB -- Worker memory limit: 4.00 GiB\n",
      "2022-12-21 17:25:20,523 - distributed.worker.memory - WARNING - Unmanaged memory use is high. This may indicate a memory leak or the memory may not be released to the OS; see https://distributed.dask.org/en/latest/worker-memory.html#memory-not-released-back-to-the-os for more information. -- Unmanaged memory: 2.95 GiB -- Worker memory limit: 4.00 GiB\n",
      "2022-12-21 17:25:20,624 - distributed.worker.memory - WARNING - Unmanaged memory use is high. This may indicate a memory leak or the memory may not be released to the OS; see https://distributed.dask.org/en/latest/worker-memory.html#memory-not-released-back-to-the-os for more information. -- Unmanaged memory: 3.04 GiB -- Worker memory limit: 4.00 GiB\n",
      "2022-12-21 17:25:20,725 - distributed.worker.memory - WARNING - Unmanaged memory use is high. This may indicate a memory leak or the memory may not be released to the OS; see https://distributed.dask.org/en/latest/worker-memory.html#memory-not-released-back-to-the-os for more information. -- Unmanaged memory: 3.14 GiB -- Worker memory limit: 4.00 GiB\n",
      "2022-12-21 17:25:21,124 - distributed.worker.memory - WARNING - Unmanaged memory use is high. This may indicate a memory leak or the memory may not be released to the OS; see https://distributed.dask.org/en/latest/worker-memory.html#memory-not-released-back-to-the-os for more information. -- Unmanaged memory: 2.92 GiB -- Worker memory limit: 4.00 GiB\n",
      "2022-12-21 17:25:21,225 - distributed.worker.memory - WARNING - Unmanaged memory use is high. This may indicate a memory leak or the memory may not be released to the OS; see https://distributed.dask.org/en/latest/worker-memory.html#memory-not-released-back-to-the-os for more information. -- Unmanaged memory: 3.07 GiB -- Worker memory limit: 4.00 GiB\n",
      "2022-12-21 17:25:21,423 - distributed.worker.memory - WARNING - Unmanaged memory use is high. This may indicate a memory leak or the memory may not be released to the OS; see https://distributed.dask.org/en/latest/worker-memory.html#memory-not-released-back-to-the-os for more information. -- Unmanaged memory: 2.83 GiB -- Worker memory limit: 4.00 GiB\n",
      "2022-12-21 17:25:21,523 - distributed.worker.memory - WARNING - Unmanaged memory use is high. This may indicate a memory leak or the memory may not be released to the OS; see https://distributed.dask.org/en/latest/worker-memory.html#memory-not-released-back-to-the-os for more information. -- Unmanaged memory: 2.87 GiB -- Worker memory limit: 4.00 GiB\n",
      "2022-12-21 17:25:21,623 - distributed.worker.memory - WARNING - Unmanaged memory use is high. This may indicate a memory leak or the memory may not be released to the OS; see https://distributed.dask.org/en/latest/worker-memory.html#memory-not-released-back-to-the-os for more information. -- Unmanaged memory: 2.90 GiB -- Worker memory limit: 4.00 GiB\n",
      "2022-12-21 17:25:21,725 - distributed.worker.memory - WARNING - Unmanaged memory use is high. This may indicate a memory leak or the memory may not be released to the OS; see https://distributed.dask.org/en/latest/worker-memory.html#memory-not-released-back-to-the-os for more information. -- Unmanaged memory: 2.94 GiB -- Worker memory limit: 4.00 GiB\n",
      "2022-12-21 17:25:21,824 - distributed.worker.memory - WARNING - Unmanaged memory use is high. This may indicate a memory leak or the memory may not be released to the OS; see https://distributed.dask.org/en/latest/worker-memory.html#memory-not-released-back-to-the-os for more information. -- Unmanaged memory: 2.97 GiB -- Worker memory limit: 4.00 GiB\n",
      "2022-12-21 17:25:21,923 - distributed.worker.memory - WARNING - Unmanaged memory use is high. This may indicate a memory leak or the memory may not be released to the OS; see https://distributed.dask.org/en/latest/worker-memory.html#memory-not-released-back-to-the-os for more information. -- Unmanaged memory: 3.01 GiB -- Worker memory limit: 4.00 GiB\n",
      "2022-12-21 17:25:22,023 - distributed.worker.memory - WARNING - Unmanaged memory use is high. This may indicate a memory leak or the memory may not be released to the OS; see https://distributed.dask.org/en/latest/worker-memory.html#memory-not-released-back-to-the-os for more information. -- Unmanaged memory: 3.04 GiB -- Worker memory limit: 4.00 GiB\n",
      "2022-12-21 17:25:22,123 - distributed.worker.memory - WARNING - Unmanaged memory use is high. This may indicate a memory leak or the memory may not be released to the OS; see https://distributed.dask.org/en/latest/worker-memory.html#memory-not-released-back-to-the-os for more information. -- Unmanaged memory: 3.07 GiB -- Worker memory limit: 4.00 GiB\n",
      "2022-12-21 17:25:22,225 - distributed.worker.memory - WARNING - Unmanaged memory use is high. This may indicate a memory leak or the memory may not be released to the OS; see https://distributed.dask.org/en/latest/worker-memory.html#memory-not-released-back-to-the-os for more information. -- Unmanaged memory: 3.11 GiB -- Worker memory limit: 4.00 GiB\n",
      "2022-12-21 17:25:22,323 - distributed.worker.memory - WARNING - Unmanaged memory use is high. This may indicate a memory leak or the memory may not be released to the OS; see https://distributed.dask.org/en/latest/worker-memory.html#memory-not-released-back-to-the-os for more information. -- Unmanaged memory: 3.14 GiB -- Worker memory limit: 4.00 GiB\n",
      "2022-12-21 17:25:22,423 - distributed.worker.memory - WARNING - Unmanaged memory use is high. This may indicate a memory leak or the memory may not be released to the OS; see https://distributed.dask.org/en/latest/worker-memory.html#memory-not-released-back-to-the-os for more information. -- Unmanaged memory: 3.17 GiB -- Worker memory limit: 4.00 GiB\n",
      "2022-12-21 17:25:22,632 - distributed.worker.memory - WARNING - Worker is at 80% memory usage. Pausing worker.  Process memory: 3.22 GiB -- Worker memory limit: 4.00 GiB\n",
      "2022-12-21 17:25:22,632 - distributed.worker.memory - WARNING - Unmanaged memory use is high. This may indicate a memory leak or the memory may not be released to the OS; see https://distributed.dask.org/en/latest/worker-memory.html#memory-not-released-back-to-the-os for more information. -- Unmanaged memory: 3.22 GiB -- Worker memory limit: 4.00 GiB\n",
      "2022-12-21 17:25:22,724 - distributed.worker.memory - WARNING - Unmanaged memory use is high. This may indicate a memory leak or the memory may not be released to the OS; see https://distributed.dask.org/en/latest/worker-memory.html#memory-not-released-back-to-the-os for more information. -- Unmanaged memory: 3.34 GiB -- Worker memory limit: 4.00 GiB\n",
      "2022-12-21 17:25:22,824 - distributed.worker.memory - WARNING - Unmanaged memory use is high. This may indicate a memory leak or the memory may not be released to the OS; see https://distributed.dask.org/en/latest/worker-memory.html#memory-not-released-back-to-the-os for more information. -- Unmanaged memory: 3.40 GiB -- Worker memory limit: 4.00 GiB\n",
      "2022-12-21 17:25:22,925 - distributed.worker.memory - WARNING - Unmanaged memory use is high. This may indicate a memory leak or the memory may not be released to the OS; see https://distributed.dask.org/en/latest/worker-memory.html#memory-not-released-back-to-the-os for more information. -- Unmanaged memory: 3.33 GiB -- Worker memory limit: 4.00 GiB\n",
      "2022-12-21 17:25:23,024 - distributed.worker.memory - WARNING - Unmanaged memory use is high. This may indicate a memory leak or the memory may not be released to the OS; see https://distributed.dask.org/en/latest/worker-memory.html#memory-not-released-back-to-the-os for more information. -- Unmanaged memory: 3.38 GiB -- Worker memory limit: 4.00 GiB\n",
      "2022-12-21 17:25:23,123 - distributed.worker.memory - WARNING - Unmanaged memory use is high. This may indicate a memory leak or the memory may not be released to the OS; see https://distributed.dask.org/en/latest/worker-memory.html#memory-not-released-back-to-the-os for more information. -- Unmanaged memory: 3.44 GiB -- Worker memory limit: 4.00 GiB\n",
      "2022-12-21 17:25:23,225 - distributed.worker.memory - WARNING - Unmanaged memory use is high. This may indicate a memory leak or the memory may not be released to the OS; see https://distributed.dask.org/en/latest/worker-memory.html#memory-not-released-back-to-the-os for more information. -- Unmanaged memory: 3.44 GiB -- Worker memory limit: 4.00 GiB\n",
      "2022-12-21 17:25:23,323 - distributed.worker.memory - WARNING - Unmanaged memory use is high. This may indicate a memory leak or the memory may not be released to the OS; see https://distributed.dask.org/en/latest/worker-memory.html#memory-not-released-back-to-the-os for more information. -- Unmanaged memory: 3.52 GiB -- Worker memory limit: 4.00 GiB\n",
      "2022-12-21 17:25:23,423 - distributed.worker.memory - WARNING - Unmanaged memory use is high. This may indicate a memory leak or the memory may not be released to the OS; see https://distributed.dask.org/en/latest/worker-memory.html#memory-not-released-back-to-the-os for more information. -- Unmanaged memory: 3.61 GiB -- Worker memory limit: 4.00 GiB\n",
      "2022-12-21 17:25:23,524 - distributed.worker.memory - WARNING - Unmanaged memory use is high. This may indicate a memory leak or the memory may not be released to the OS; see https://distributed.dask.org/en/latest/worker-memory.html#memory-not-released-back-to-the-os for more information. -- Unmanaged memory: 3.69 GiB -- Worker memory limit: 4.00 GiB\n",
      "2022-12-21 17:25:23,623 - distributed.worker.memory - WARNING - Unmanaged memory use is high. This may indicate a memory leak or the memory may not be released to the OS; see https://distributed.dask.org/en/latest/worker-memory.html#memory-not-released-back-to-the-os for more information. -- Unmanaged memory: 3.71 GiB -- Worker memory limit: 4.00 GiB\n",
      "2022-12-21 17:25:23,726 - distributed.worker.memory - WARNING - Unmanaged memory use is high. This may indicate a memory leak or the memory may not be released to the OS; see https://distributed.dask.org/en/latest/worker-memory.html#memory-not-released-back-to-the-os for more information. -- Unmanaged memory: 3.77 GiB -- Worker memory limit: 4.00 GiB\n",
      "2022-12-21 17:25:23,824 - distributed.worker.memory - WARNING - Unmanaged memory use is high. This may indicate a memory leak or the memory may not be released to the OS; see https://distributed.dask.org/en/latest/worker-memory.html#memory-not-released-back-to-the-os for more information. -- Unmanaged memory: 3.77 GiB -- Worker memory limit: 4.00 GiB\n",
      "2022-12-21 17:25:23,924 - distributed.worker.memory - WARNING - Unmanaged memory use is high. This may indicate a memory leak or the memory may not be released to the OS; see https://distributed.dask.org/en/latest/worker-memory.html#memory-not-released-back-to-the-os for more information. -- Unmanaged memory: 3.43 GiB -- Worker memory limit: 4.00 GiB\n",
      "2022-12-21 17:25:24,024 - distributed.worker.memory - WARNING - Unmanaged memory use is high. This may indicate a memory leak or the memory may not be released to the OS; see https://distributed.dask.org/en/latest/worker-memory.html#memory-not-released-back-to-the-os for more information. -- Unmanaged memory: 3.58 GiB -- Worker memory limit: 4.00 GiB\n",
      "2022-12-21 17:25:24,123 - distributed.worker.memory - WARNING - Unmanaged memory use is high. This may indicate a memory leak or the memory may not be released to the OS; see https://distributed.dask.org/en/latest/worker-memory.html#memory-not-released-back-to-the-os for more information. -- Unmanaged memory: 3.74 GiB -- Worker memory limit: 4.00 GiB\n",
      "2022-12-21 17:25:24,225 - distributed.worker.memory - WARNING - Unmanaged memory use is high. This may indicate a memory leak or the memory may not be released to the OS; see https://distributed.dask.org/en/latest/worker-memory.html#memory-not-released-back-to-the-os for more information. -- Unmanaged memory: 3.48 GiB -- Worker memory limit: 4.00 GiB\n",
      "2022-12-21 17:25:24,323 - distributed.worker.memory - WARNING - Unmanaged memory use is high. This may indicate a memory leak or the memory may not be released to the OS; see https://distributed.dask.org/en/latest/worker-memory.html#memory-not-released-back-to-the-os for more information. -- Unmanaged memory: 3.61 GiB -- Worker memory limit: 4.00 GiB\n",
      "2022-12-21 17:25:24,424 - distributed.worker.memory - WARNING - Unmanaged memory use is high. This may indicate a memory leak or the memory may not be released to the OS; see https://distributed.dask.org/en/latest/worker-memory.html#memory-not-released-back-to-the-os for more information. -- Unmanaged memory: 3.76 GiB -- Worker memory limit: 4.00 GiB\n",
      "2022-12-21 17:25:24,523 - distributed.worker.memory - WARNING - Unmanaged memory use is high. This may indicate a memory leak or the memory may not be released to the OS; see https://distributed.dask.org/en/latest/worker-memory.html#memory-not-released-back-to-the-os for more information. -- Unmanaged memory: 3.76 GiB -- Worker memory limit: 4.00 GiB\n",
      "2022-12-21 17:25:24,623 - distributed.worker.memory - WARNING - Unmanaged memory use is high. This may indicate a memory leak or the memory may not be released to the OS; see https://distributed.dask.org/en/latest/worker-memory.html#memory-not-released-back-to-the-os for more information. -- Unmanaged memory: 3.79 GiB -- Worker memory limit: 4.00 GiB\n",
      "2022-12-21 17:25:24,724 - distributed.worker.memory - WARNING - Unmanaged memory use is high. This may indicate a memory leak or the memory may not be released to the OS; see https://distributed.dask.org/en/latest/worker-memory.html#memory-not-released-back-to-the-os for more information. -- Unmanaged memory: 3.85 GiB -- Worker memory limit: 4.00 GiB\n",
      "2022-12-21 17:25:24,728 - distributed.nanny.memory - WARNING - Worker tcp://127.0.0.1:57649 (pid=1744) exceeded 95% memory budget. Restarting...\n",
      "2022-12-21 17:25:25,232 - distributed.nanny - WARNING - Restarting worker\n",
      "2022-12-21 17:25:31,384 - distributed.worker.memory - WARNING - Unmanaged memory use is high. This may indicate a memory leak or the memory may not be released to the OS; see https://distributed.dask.org/en/latest/worker-memory.html#memory-not-released-back-to-the-os for more information. -- Unmanaged memory: 2.93 GiB -- Worker memory limit: 4.00 GiB\n",
      "2022-12-21 17:25:31,483 - distributed.worker.memory - WARNING - Unmanaged memory use is high. This may indicate a memory leak or the memory may not be released to the OS; see https://distributed.dask.org/en/latest/worker-memory.html#memory-not-released-back-to-the-os for more information. -- Unmanaged memory: 3.10 GiB -- Worker memory limit: 4.00 GiB\n",
      "2022-12-21 17:25:31,984 - distributed.worker.memory - WARNING - Unmanaged memory use is high. This may indicate a memory leak or the memory may not be released to the OS; see https://distributed.dask.org/en/latest/worker-memory.html#memory-not-released-back-to-the-os for more information. -- Unmanaged memory: 2.83 GiB -- Worker memory limit: 4.00 GiB\n",
      "2022-12-21 17:25:32,084 - distributed.worker.memory - WARNING - Unmanaged memory use is high. This may indicate a memory leak or the memory may not be released to the OS; see https://distributed.dask.org/en/latest/worker-memory.html#memory-not-released-back-to-the-os for more information. -- Unmanaged memory: 2.92 GiB -- Worker memory limit: 4.00 GiB\n",
      "2022-12-21 17:25:32,183 - distributed.worker.memory - WARNING - Unmanaged memory use is high. This may indicate a memory leak or the memory may not be released to the OS; see https://distributed.dask.org/en/latest/worker-memory.html#memory-not-released-back-to-the-os for more information. -- Unmanaged memory: 3.03 GiB -- Worker memory limit: 4.00 GiB\n",
      "2022-12-21 17:25:32,285 - distributed.worker.memory - WARNING - Unmanaged memory use is high. This may indicate a memory leak or the memory may not be released to the OS; see https://distributed.dask.org/en/latest/worker-memory.html#memory-not-released-back-to-the-os for more information. -- Unmanaged memory: 3.12 GiB -- Worker memory limit: 4.00 GiB\n",
      "2022-12-21 17:25:32,683 - distributed.worker.memory - WARNING - Unmanaged memory use is high. This may indicate a memory leak or the memory may not be released to the OS; see https://distributed.dask.org/en/latest/worker-memory.html#memory-not-released-back-to-the-os for more information. -- Unmanaged memory: 2.86 GiB -- Worker memory limit: 4.00 GiB\n",
      "2022-12-21 17:25:32,787 - distributed.worker.memory - WARNING - Unmanaged memory use is high. This may indicate a memory leak or the memory may not be released to the OS; see https://distributed.dask.org/en/latest/worker-memory.html#memory-not-released-back-to-the-os for more information. -- Unmanaged memory: 2.99 GiB -- Worker memory limit: 4.00 GiB\n",
      "2022-12-21 17:25:32,884 - distributed.worker.memory - WARNING - Unmanaged memory use is high. This may indicate a memory leak or the memory may not be released to the OS; see https://distributed.dask.org/en/latest/worker-memory.html#memory-not-released-back-to-the-os for more information. -- Unmanaged memory: 3.11 GiB -- Worker memory limit: 4.00 GiB\n",
      "2022-12-21 17:25:32,983 - distributed.worker.memory - WARNING - Unmanaged memory use is high. This may indicate a memory leak or the memory may not be released to the OS; see https://distributed.dask.org/en/latest/worker-memory.html#memory-not-released-back-to-the-os for more information. -- Unmanaged memory: 2.80 GiB -- Worker memory limit: 4.00 GiB\n",
      "2022-12-21 17:25:33,084 - distributed.worker.memory - WARNING - Unmanaged memory use is high. This may indicate a memory leak or the memory may not be released to the OS; see https://distributed.dask.org/en/latest/worker-memory.html#memory-not-released-back-to-the-os for more information. -- Unmanaged memory: 2.83 GiB -- Worker memory limit: 4.00 GiB\n",
      "2022-12-21 17:25:33,183 - distributed.worker.memory - WARNING - Unmanaged memory use is high. This may indicate a memory leak or the memory may not be released to the OS; see https://distributed.dask.org/en/latest/worker-memory.html#memory-not-released-back-to-the-os for more information. -- Unmanaged memory: 2.87 GiB -- Worker memory limit: 4.00 GiB\n",
      "2022-12-21 17:25:33,285 - distributed.worker.memory - WARNING - Unmanaged memory use is high. This may indicate a memory leak or the memory may not be released to the OS; see https://distributed.dask.org/en/latest/worker-memory.html#memory-not-released-back-to-the-os for more information. -- Unmanaged memory: 2.90 GiB -- Worker memory limit: 4.00 GiB\n",
      "2022-12-21 17:25:33,383 - distributed.worker.memory - WARNING - Unmanaged memory use is high. This may indicate a memory leak or the memory may not be released to the OS; see https://distributed.dask.org/en/latest/worker-memory.html#memory-not-released-back-to-the-os for more information. -- Unmanaged memory: 2.94 GiB -- Worker memory limit: 4.00 GiB\n",
      "2022-12-21 17:25:33,483 - distributed.worker.memory - WARNING - Unmanaged memory use is high. This may indicate a memory leak or the memory may not be released to the OS; see https://distributed.dask.org/en/latest/worker-memory.html#memory-not-released-back-to-the-os for more information. -- Unmanaged memory: 2.97 GiB -- Worker memory limit: 4.00 GiB\n",
      "2022-12-21 17:25:33,583 - distributed.worker.memory - WARNING - Unmanaged memory use is high. This may indicate a memory leak or the memory may not be released to the OS; see https://distributed.dask.org/en/latest/worker-memory.html#memory-not-released-back-to-the-os for more information. -- Unmanaged memory: 3.00 GiB -- Worker memory limit: 4.00 GiB\n",
      "2022-12-21 17:25:33,683 - distributed.worker.memory - WARNING - Unmanaged memory use is high. This may indicate a memory leak or the memory may not be released to the OS; see https://distributed.dask.org/en/latest/worker-memory.html#memory-not-released-back-to-the-os for more information. -- Unmanaged memory: 3.03 GiB -- Worker memory limit: 4.00 GiB\n",
      "2022-12-21 17:25:33,785 - distributed.worker.memory - WARNING - Unmanaged memory use is high. This may indicate a memory leak or the memory may not be released to the OS; see https://distributed.dask.org/en/latest/worker-memory.html#memory-not-released-back-to-the-os for more information. -- Unmanaged memory: 3.07 GiB -- Worker memory limit: 4.00 GiB\n",
      "2022-12-21 17:25:33,883 - distributed.worker.memory - WARNING - Unmanaged memory use is high. This may indicate a memory leak or the memory may not be released to the OS; see https://distributed.dask.org/en/latest/worker-memory.html#memory-not-released-back-to-the-os for more information. -- Unmanaged memory: 3.10 GiB -- Worker memory limit: 4.00 GiB\n",
      "2022-12-21 17:25:33,984 - distributed.worker.memory - WARNING - Unmanaged memory use is high. This may indicate a memory leak or the memory may not be released to the OS; see https://distributed.dask.org/en/latest/worker-memory.html#memory-not-released-back-to-the-os for more information. -- Unmanaged memory: 3.14 GiB -- Worker memory limit: 4.00 GiB\n",
      "2022-12-21 17:25:34,084 - distributed.worker.memory - WARNING - Unmanaged memory use is high. This may indicate a memory leak or the memory may not be released to the OS; see https://distributed.dask.org/en/latest/worker-memory.html#memory-not-released-back-to-the-os for more information. -- Unmanaged memory: 3.16 GiB -- Worker memory limit: 4.00 GiB\n",
      "2022-12-21 17:25:34,257 - distributed.worker.memory - WARNING - Worker is at 80% memory usage. Pausing worker.  Process memory: 3.22 GiB -- Worker memory limit: 4.00 GiB\n",
      "2022-12-21 17:25:34,257 - distributed.worker.memory - WARNING - Unmanaged memory use is high. This may indicate a memory leak or the memory may not be released to the OS; see https://distributed.dask.org/en/latest/worker-memory.html#memory-not-released-back-to-the-os for more information. -- Unmanaged memory: 3.22 GiB -- Worker memory limit: 4.00 GiB\n",
      "2022-12-21 17:25:34,285 - distributed.worker.memory - WARNING - Unmanaged memory use is high. This may indicate a memory leak or the memory may not be released to the OS; see https://distributed.dask.org/en/latest/worker-memory.html#memory-not-released-back-to-the-os for more information. -- Unmanaged memory: 3.30 GiB -- Worker memory limit: 4.00 GiB\n",
      "2022-12-21 17:25:34,383 - distributed.worker.memory - WARNING - Unmanaged memory use is high. This may indicate a memory leak or the memory may not be released to the OS; see https://distributed.dask.org/en/latest/worker-memory.html#memory-not-released-back-to-the-os for more information. -- Unmanaged memory: 3.38 GiB -- Worker memory limit: 4.00 GiB\n",
      "2022-12-21 17:25:34,483 - distributed.worker.memory - WARNING - Unmanaged memory use is high. This may indicate a memory leak or the memory may not be released to the OS; see https://distributed.dask.org/en/latest/worker-memory.html#memory-not-released-back-to-the-os for more information. -- Unmanaged memory: 3.45 GiB -- Worker memory limit: 4.00 GiB\n",
      "2022-12-21 17:25:34,583 - distributed.worker.memory - WARNING - Unmanaged memory use is high. This may indicate a memory leak or the memory may not be released to the OS; see https://distributed.dask.org/en/latest/worker-memory.html#memory-not-released-back-to-the-os for more information. -- Unmanaged memory: 3.53 GiB -- Worker memory limit: 4.00 GiB\n",
      "2022-12-21 17:25:34,684 - distributed.worker.memory - WARNING - Unmanaged memory use is high. This may indicate a memory leak or the memory may not be released to the OS; see https://distributed.dask.org/en/latest/worker-memory.html#memory-not-released-back-to-the-os for more information. -- Unmanaged memory: 3.54 GiB -- Worker memory limit: 4.00 GiB\n",
      "2022-12-21 17:25:34,785 - distributed.worker.memory - WARNING - Unmanaged memory use is high. This may indicate a memory leak or the memory may not be released to the OS; see https://distributed.dask.org/en/latest/worker-memory.html#memory-not-released-back-to-the-os for more information. -- Unmanaged memory: 3.60 GiB -- Worker memory limit: 4.00 GiB\n",
      "2022-12-21 17:25:34,884 - distributed.worker.memory - WARNING - Unmanaged memory use is high. This may indicate a memory leak or the memory may not be released to the OS; see https://distributed.dask.org/en/latest/worker-memory.html#memory-not-released-back-to-the-os for more information. -- Unmanaged memory: 3.68 GiB -- Worker memory limit: 4.00 GiB\n",
      "2022-12-21 17:25:34,983 - distributed.worker.memory - WARNING - Unmanaged memory use is high. This may indicate a memory leak or the memory may not be released to the OS; see https://distributed.dask.org/en/latest/worker-memory.html#memory-not-released-back-to-the-os for more information. -- Unmanaged memory: 3.77 GiB -- Worker memory limit: 4.00 GiB\n",
      "2022-12-21 17:25:35,083 - distributed.worker.memory - WARNING - Unmanaged memory use is high. This may indicate a memory leak or the memory may not be released to the OS; see https://distributed.dask.org/en/latest/worker-memory.html#memory-not-released-back-to-the-os for more information. -- Unmanaged memory: 3.86 GiB -- Worker memory limit: 4.00 GiB\n",
      "2022-12-21 17:25:35,118 - distributed.nanny.memory - WARNING - Worker tcp://127.0.0.1:57658 (pid=1747) exceeded 95% memory budget. Restarting...\n",
      "2022-12-21 17:25:35,411 - distributed.nanny - WARNING - Restarting worker\n",
      "\n",
      "KeyboardInterrupt\n",
      "\n",
      "2022-12-21 17:25:38,186 - distributed.nanny - ERROR - Worker process died unexpectedly\n",
      "2022-12-21 17:25:38,186 - distributed.nanny - ERROR - Worker process died unexpectedly\n",
      "2022-12-21 17:25:38,186 - distributed.nanny - ERROR - Worker process died unexpectedly\n",
      "2022-12-21 17:25:38,186 - distributed.nanny - ERROR - Worker process died unexpectedly\n",
      "Process Dask Worker process (from Nanny):\n",
      "Process Dask Worker process (from Nanny):\n",
      "Process Dask Worker process (from Nanny):\n",
      "Process Dask Worker process (from Nanny):\n",
      "Traceback (most recent call last):\n",
      "Traceback (most recent call last):\n",
      "  File \"/opt/anaconda3/envs/abtem-dask/lib/python3.10/asyncio/runners.py\", line 44, in run\n",
      "    return loop.run_until_complete(main)\n",
      "  File \"/opt/anaconda3/envs/abtem-dask/lib/python3.10/asyncio/base_events.py\", line 636, in run_until_complete\n",
      "    self.run_forever()\n",
      "Traceback (most recent call last):\n",
      "  File \"/opt/anaconda3/envs/abtem-dask/lib/python3.10/asyncio/base_events.py\", line 603, in run_forever\n",
      "    self._run_once()\n",
      "  File \"/opt/anaconda3/envs/abtem-dask/lib/python3.10/asyncio/base_events.py\", line 1863, in _run_once\n",
      "    event_list = self._selector.select(timeout)\n",
      "  File \"/opt/anaconda3/envs/abtem-dask/lib/python3.10/selectors.py\", line 562, in select\n",
      "    kev_list = self._selector.control(None, max_ev, timeout)\n",
      "KeyboardInterrupt\n",
      "\n",
      "During handling of the above exception, another exception occurred:\n",
      "\n",
      "  File \"/opt/anaconda3/envs/abtem-dask/lib/python3.10/asyncio/runners.py\", line 44, in run\n",
      "    return loop.run_until_complete(main)\n",
      "Traceback (most recent call last):\n",
      "  File \"/opt/anaconda3/envs/abtem-dask/lib/python3.10/asyncio/base_events.py\", line 636, in run_until_complete\n",
      "    self.run_forever()\n",
      "  File \"/opt/anaconda3/envs/abtem-dask/lib/python3.10/asyncio/base_events.py\", line 603, in run_forever\n",
      "    self._run_once()\n",
      "  File \"/opt/anaconda3/envs/abtem-dask/lib/python3.10/asyncio/base_events.py\", line 1863, in _run_once\n",
      "    event_list = self._selector.select(timeout)\n",
      "  File \"/opt/anaconda3/envs/abtem-dask/lib/python3.10/selectors.py\", line 562, in select\n",
      "    kev_list = self._selector.control(None, max_ev, timeout)\n",
      "KeyboardInterrupt\n",
      "\n",
      "During handling of the above exception, another exception occurred:\n",
      "\n",
      "  File \"/opt/anaconda3/envs/abtem-dask/lib/python3.10/site-packages/distributed/nanny.py\", line 981, in _run\n",
      "    asyncio.run(run())\n",
      "Traceback (most recent call last):\n",
      "  File \"/opt/anaconda3/envs/abtem-dask/lib/python3.10/asyncio/runners.py\", line 44, in run\n",
      "    return loop.run_until_complete(main)\n",
      "  File \"/opt/anaconda3/envs/abtem-dask/lib/python3.10/asyncio/runners.py\", line 47, in run\n",
      "    _cancel_all_tasks(loop)\n",
      "  File \"/opt/anaconda3/envs/abtem-dask/lib/python3.10/asyncio/runners.py\", line 63, in _cancel_all_tasks\n",
      "    loop.run_until_complete(tasks.gather(*to_cancel, return_exceptions=True))\n",
      "  File \"/opt/anaconda3/envs/abtem-dask/lib/python3.10/asyncio/base_events.py\", line 636, in run_until_complete\n",
      "    self.run_forever()\n",
      "  File \"/opt/anaconda3/envs/abtem-dask/lib/python3.10/asyncio/base_events.py\", line 636, in run_until_complete\n",
      "    self.run_forever()\n",
      "  File \"/opt/anaconda3/envs/abtem-dask/lib/python3.10/asyncio/base_events.py\", line 603, in run_forever\n",
      "    self._run_once()\n",
      "  File \"/opt/anaconda3/envs/abtem-dask/lib/python3.10/asyncio/base_events.py\", line 603, in run_forever\n",
      "    self._run_once()\n",
      "  File \"/opt/anaconda3/envs/abtem-dask/lib/python3.10/asyncio/base_events.py\", line 1863, in _run_once\n",
      "    event_list = self._selector.select(timeout)\n",
      "  File \"/opt/anaconda3/envs/abtem-dask/lib/python3.10/asyncio/base_events.py\", line 1863, in _run_once\n",
      "    event_list = self._selector.select(timeout)\n",
      "  File \"/opt/anaconda3/envs/abtem-dask/lib/python3.10/selectors.py\", line 562, in select\n",
      "    kev_list = self._selector.control(None, max_ev, timeout)\n",
      "  File \"/opt/anaconda3/envs/abtem-dask/lib/python3.10/selectors.py\", line 562, in select\n",
      "    kev_list = self._selector.control(None, max_ev, timeout)\n",
      "KeyboardInterrupt\n",
      "\n",
      "During handling of the above exception, another exception occurred:\n",
      "\n",
      "KeyboardInterrupt\n",
      "Traceback (most recent call last):\n",
      "  File \"/opt/anaconda3/envs/abtem-dask/lib/python3.10/site-packages/distributed/nanny.py\", line 981, in _run\n",
      "    asyncio.run(run())\n",
      "\n",
      "During handling of the above exception, another exception occurred:\n",
      "\n",
      "  File \"/opt/anaconda3/envs/abtem-dask/lib/python3.10/asyncio/runners.py\", line 47, in run\n",
      "    _cancel_all_tasks(loop)\n",
      "Traceback (most recent call last):\n",
      "  File \"/opt/anaconda3/envs/abtem-dask/lib/python3.10/asyncio/runners.py\", line 63, in _cancel_all_tasks\n",
      "    loop.run_until_complete(tasks.gather(*to_cancel, return_exceptions=True))\n",
      "  File \"/opt/anaconda3/envs/abtem-dask/lib/python3.10/asyncio/base_events.py\", line 636, in run_until_complete\n",
      "    self.run_forever()\n",
      "  File \"/opt/anaconda3/envs/abtem-dask/lib/python3.10/asyncio/base_events.py\", line 603, in run_forever\n",
      "    self._run_once()\n",
      "  File \"/opt/anaconda3/envs/abtem-dask/lib/python3.10/asyncio/base_events.py\", line 1863, in _run_once\n",
      "    event_list = self._selector.select(timeout)\n",
      "  File \"/opt/anaconda3/envs/abtem-dask/lib/python3.10/selectors.py\", line 562, in select\n",
      "    kev_list = self._selector.control(None, max_ev, timeout)\n",
      "KeyboardInterrupt\n",
      "\n",
      "During handling of the above exception, another exception occurred:\n",
      "\n",
      "  File \"/opt/anaconda3/envs/abtem-dask/lib/python3.10/multiprocessing/process.py\", line 314, in _bootstrap\n",
      "    self.run()\n",
      "Traceback (most recent call last):\n",
      "  File \"/opt/anaconda3/envs/abtem-dask/lib/python3.10/multiprocessing/process.py\", line 108, in run\n",
      "    self._target(*self._args, **self._kwargs)\n",
      "  File \"/opt/anaconda3/envs/abtem-dask/lib/python3.10/site-packages/distributed/nanny.py\", line 981, in _run\n",
      "    asyncio.run(run())\n",
      "  File \"/opt/anaconda3/envs/abtem-dask/lib/python3.10/asyncio/runners.py\", line 47, in run\n",
      "    _cancel_all_tasks(loop)\n",
      "  File \"/opt/anaconda3/envs/abtem-dask/lib/python3.10/asyncio/runners.py\", line 63, in _cancel_all_tasks\n",
      "    loop.run_until_complete(tasks.gather(*to_cancel, return_exceptions=True))\n",
      "  File \"/opt/anaconda3/envs/abtem-dask/lib/python3.10/site-packages/distributed/process.py\", line 188, in _run\n",
      "    target(*args, **kwargs)\n",
      "  File \"/opt/anaconda3/envs/abtem-dask/lib/python3.10/asyncio/base_events.py\", line 636, in run_until_complete\n",
      "    self.run_forever()\n",
      "  File \"/opt/anaconda3/envs/abtem-dask/lib/python3.10/asyncio/base_events.py\", line 603, in run_forever\n",
      "    self._run_once()\n",
      "  File \"/opt/anaconda3/envs/abtem-dask/lib/python3.10/asyncio/base_events.py\", line 1863, in _run_once\n",
      "    event_list = self._selector.select(timeout)\n",
      "  File \"/opt/anaconda3/envs/abtem-dask/lib/python3.10/site-packages/distributed/nanny.py\", line 955, in _run\n",
      "    with contextlib.ExitStack() as stack:\n",
      "  File \"/opt/anaconda3/envs/abtem-dask/lib/python3.10/selectors.py\", line 562, in select\n",
      "    kev_list = self._selector.control(None, max_ev, timeout)\n",
      "  File \"/opt/anaconda3/envs/abtem-dask/lib/python3.10/contextlib.py\", line 576, in __exit__\n",
      "    raise exc_details[1]\n",
      "  File \"/opt/anaconda3/envs/abtem-dask/lib/python3.10/contextlib.py\", line 561, in __exit__\n",
      "    if cb(*exc_details):\n",
      "KeyboardInterrupt\n",
      "  File \"/opt/anaconda3/envs/abtem-dask/lib/python3.10/contextlib.py\", line 449, in _exit_wrapper\n",
      "    callback(*args, **kwds)\n",
      "  File \"/opt/anaconda3/envs/abtem-dask/lib/python3.10/threading.py\", line 1100, in join\n",
      "    self._wait_for_tstate_lock(timeout=max(timeout, 0))\n",
      "  File \"/opt/anaconda3/envs/abtem-dask/lib/python3.10/threading.py\", line 1116, in _wait_for_tstate_lock\n",
      "    if lock.acquire(block, timeout):\n",
      "\n",
      "During handling of the above exception, another exception occurred:\n",
      "\n",
      "  File \"/opt/anaconda3/envs/abtem-dask/lib/python3.10/multiprocessing/process.py\", line 314, in _bootstrap\n",
      "    self.run()\n",
      "Traceback (most recent call last):\n",
      "  File \"/opt/anaconda3/envs/abtem-dask/lib/python3.10/multiprocessing/process.py\", line 108, in run\n",
      "    self._target(*self._args, **self._kwargs)\n",
      "KeyboardInterrupt\n",
      "  File \"/opt/anaconda3/envs/abtem-dask/lib/python3.10/site-packages/distributed/process.py\", line 188, in _run\n",
      "    target(*args, **kwargs)\n",
      "  File \"/opt/anaconda3/envs/abtem-dask/lib/python3.10/site-packages/distributed/nanny.py\", line 955, in _run\n",
      "    with contextlib.ExitStack() as stack:\n",
      "  File \"/opt/anaconda3/envs/abtem-dask/lib/python3.10/contextlib.py\", line 576, in __exit__\n",
      "    raise exc_details[1]\n",
      "  File \"/opt/anaconda3/envs/abtem-dask/lib/python3.10/contextlib.py\", line 561, in __exit__\n",
      "    if cb(*exc_details):\n",
      "  File \"/opt/anaconda3/envs/abtem-dask/lib/python3.10/contextlib.py\", line 449, in _exit_wrapper\n",
      "    callback(*args, **kwds)\n",
      "  File \"/opt/anaconda3/envs/abtem-dask/lib/python3.10/threading.py\", line 1100, in join\n",
      "    self._wait_for_tstate_lock(timeout=max(timeout, 0))\n",
      "  File \"/opt/anaconda3/envs/abtem-dask/lib/python3.10/threading.py\", line 1116, in _wait_for_tstate_lock\n",
      "    if lock.acquire(block, timeout):\n",
      "KeyboardInterrupt\n",
      "  File \"/opt/anaconda3/envs/abtem-dask/lib/python3.10/multiprocessing/process.py\", line 314, in _bootstrap\n",
      "    self.run()\n",
      "  File \"/opt/anaconda3/envs/abtem-dask/lib/python3.10/multiprocessing/process.py\", line 108, in run\n",
      "    self._target(*self._args, **self._kwargs)\n",
      "  File \"/opt/anaconda3/envs/abtem-dask/lib/python3.10/site-packages/distributed/process.py\", line 188, in _run\n",
      "    target(*args, **kwargs)\n",
      "  File \"/opt/anaconda3/envs/abtem-dask/lib/python3.10/site-packages/distributed/nanny.py\", line 955, in _run\n",
      "    with contextlib.ExitStack() as stack:\n",
      "  File \"/opt/anaconda3/envs/abtem-dask/lib/python3.10/contextlib.py\", line 576, in __exit__\n",
      "    raise exc_details[1]\n",
      "  File \"/opt/anaconda3/envs/abtem-dask/lib/python3.10/contextlib.py\", line 561, in __exit__\n",
      "    if cb(*exc_details):\n",
      "  File \"/opt/anaconda3/envs/abtem-dask/lib/python3.10/contextlib.py\", line 449, in _exit_wrapper\n",
      "    callback(*args, **kwds)\n",
      "  File \"/opt/anaconda3/envs/abtem-dask/lib/python3.10/threading.py\", line 1100, in join\n",
      "    self._wait_for_tstate_lock(timeout=max(timeout, 0))\n",
      "  File \"/opt/anaconda3/envs/abtem-dask/lib/python3.10/threading.py\", line 1116, in _wait_for_tstate_lock\n",
      "    if lock.acquire(block, timeout):\n",
      "KeyboardInterrupt\n",
      "Traceback (most recent call last):\n",
      "  File \"/opt/anaconda3/envs/abtem-dask/lib/python3.10/asyncio/runners.py\", line 44, in run\n",
      "    return loop.run_until_complete(main)\n",
      "  File \"/opt/anaconda3/envs/abtem-dask/lib/python3.10/asyncio/base_events.py\", line 636, in run_until_complete\n",
      "    self.run_forever()\n",
      "  File \"/opt/anaconda3/envs/abtem-dask/lib/python3.10/asyncio/base_events.py\", line 603, in run_forever\n",
      "    self._run_once()\n",
      "  File \"/opt/anaconda3/envs/abtem-dask/lib/python3.10/asyncio/base_events.py\", line 1863, in _run_once\n",
      "    event_list = self._selector.select(timeout)\n",
      "  File \"/opt/anaconda3/envs/abtem-dask/lib/python3.10/selectors.py\", line 562, in select\n",
      "    kev_list = self._selector.control(None, max_ev, timeout)\n",
      "KeyboardInterrupt\n",
      "\n",
      "During handling of the above exception, another exception occurred:\n",
      "\n",
      "Traceback (most recent call last):\n",
      "  File \"/opt/anaconda3/envs/abtem-dask/lib/python3.10/site-packages/distributed/nanny.py\", line 981, in _run\n",
      "    asyncio.run(run())\n",
      "  File \"/opt/anaconda3/envs/abtem-dask/lib/python3.10/asyncio/runners.py\", line 47, in run\n",
      "    _cancel_all_tasks(loop)\n",
      "  File \"/opt/anaconda3/envs/abtem-dask/lib/python3.10/asyncio/runners.py\", line 63, in _cancel_all_tasks\n",
      "    loop.run_until_complete(tasks.gather(*to_cancel, return_exceptions=True))\n",
      "  File \"/opt/anaconda3/envs/abtem-dask/lib/python3.10/asyncio/base_events.py\", line 636, in run_until_complete\n",
      "    self.run_forever()\n",
      "  File \"/opt/anaconda3/envs/abtem-dask/lib/python3.10/asyncio/base_events.py\", line 603, in run_forever\n",
      "    self._run_once()\n",
      "  File \"/opt/anaconda3/envs/abtem-dask/lib/python3.10/asyncio/base_events.py\", line 1863, in _run_once\n",
      "    event_list = self._selector.select(timeout)\n",
      "  File \"/opt/anaconda3/envs/abtem-dask/lib/python3.10/selectors.py\", line 562, in select\n",
      "    kev_list = self._selector.control(None, max_ev, timeout)\n",
      "KeyboardInterrupt\n",
      "\n",
      "During handling of the above exception, another exception occurred:\n",
      "\n",
      "Traceback (most recent call last):\n",
      "  File \"/opt/anaconda3/envs/abtem-dask/lib/python3.10/multiprocessing/process.py\", line 314, in _bootstrap\n",
      "    self.run()\n",
      "  File \"/opt/anaconda3/envs/abtem-dask/lib/python3.10/multiprocessing/process.py\", line 108, in run\n",
      "    self._target(*self._args, **self._kwargs)\n",
      "  File \"/opt/anaconda3/envs/abtem-dask/lib/python3.10/site-packages/distributed/process.py\", line 188, in _run\n",
      "    target(*args, **kwargs)\n",
      "  File \"/opt/anaconda3/envs/abtem-dask/lib/python3.10/site-packages/distributed/nanny.py\", line 955, in _run\n",
      "    with contextlib.ExitStack() as stack:\n",
      "  File \"/opt/anaconda3/envs/abtem-dask/lib/python3.10/contextlib.py\", line 576, in __exit__\n",
      "    raise exc_details[1]\n",
      "  File \"/opt/anaconda3/envs/abtem-dask/lib/python3.10/contextlib.py\", line 561, in __exit__\n",
      "    if cb(*exc_details):\n",
      "  File \"/opt/anaconda3/envs/abtem-dask/lib/python3.10/contextlib.py\", line 449, in _exit_wrapper\n",
      "    callback(*args, **kwds)\n",
      "  File \"/opt/anaconda3/envs/abtem-dask/lib/python3.10/threading.py\", line 1100, in join\n",
      "    self._wait_for_tstate_lock(timeout=max(timeout, 0))\n",
      "  File \"/opt/anaconda3/envs/abtem-dask/lib/python3.10/threading.py\", line 1116, in _wait_for_tstate_lock\n",
      "    if lock.acquire(block, timeout):\n",
      "KeyboardInterrupt\n"
     ]
    }
   ],
   "source": [
    "probe = abtem.Probe(\n",
    "    energy=200e3, \n",
    "    semiangle_cutoff=20,\n",
    "    extent=potential.extent,\n",
    "    gpts=10000,\n",
    ").build().compute()\n",
    "\n",
    "#exit_wave = probe.multislice(potential)\n",
    "\n",
    "#exit_wave.compute()"
   ]
  },
  {
   "cell_type": "code",
   "execution_count": 41,
   "id": "88c4d317-4b77-4fb4-83d0-ca6a8514374c",
   "metadata": {},
   "outputs": [
    {
     "name": "stderr",
     "output_type": "stream",
     "text": [
      "2022-12-21 15:52:23,652 - distributed.worker.memory - WARNING - Unmanaged memory use is high. This may indicate a memory leak or the memory may not be released to the OS; see https://distributed.dask.org/en/latest/worker-memory.html#memory-not-released-back-to-the-os for more information. -- Unmanaged memory: 2.85 GiB -- Worker memory limit: 4.00 GiB\n"
     ]
    },
    {
     "data": {
      "text/plain": [
       "array([[1., 1., 1., ..., 1., 1., 1.],\n",
       "       [1., 1., 1., ..., 1., 1., 1.],\n",
       "       [1., 1., 1., ..., 1., 1., 1.],\n",
       "       ...,\n",
       "       [1., 1., 1., ..., 1., 1., 1.],\n",
       "       [1., 1., 1., ..., 1., 1., 1.],\n",
       "       [1., 1., 1., ..., 1., 1., 1.]], dtype=float32)"
      ]
     },
     "execution_count": 41,
     "metadata": {},
     "output_type": "execute_result"
    }
   ],
   "source": [
    "aperture = abtem.Aperture(\n",
    "    energy=200e3, \n",
    "    semiangle_cutoff=20,\n",
    "    extent=(20, 20),\n",
    "    gpts=(1024,1024),)\n",
    "\n",
    "aperture.evaluate(lazy=True).compute()"
   ]
  },
  {
   "cell_type": "code",
   "execution_count": 50,
   "id": "128c8102-9489-4d20-8845-95e893a47304",
   "metadata": {},
   "outputs": [
    {
     "data": {
      "application/vnd.jupyter.widget-view+json": {
       "model_id": "",
       "version_major": 2,
       "version_minor": 0
      },
      "text/plain": [
       "Output()"
      ]
     },
     "metadata": {},
     "output_type": "display_data"
    },
    {
     "data": {
      "text/html": [
       "<pre style=\"white-space:pre;overflow-x:auto;line-height:normal;font-family:Menlo,'DejaVu Sans Mono',consolas,'Courier New',monospace\"></pre>\n"
      ],
      "text/plain": []
     },
     "metadata": {},
     "output_type": "display_data"
    },
    {
     "data": {
      "text/html": [
       "<pre style=\"white-space:pre;overflow-x:auto;line-height:normal;font-family:Menlo,'DejaVu Sans Mono',consolas,'Courier New',monospace\">\n",
       "</pre>\n"
      ],
      "text/plain": [
       "\n"
      ]
     },
     "metadata": {},
     "output_type": "display_data"
    },
    {
     "data": {
      "application/vnd.jupyter.widget-view+json": {
       "model_id": "",
       "version_major": 2,
       "version_minor": 0
      },
      "text/plain": [
       "Output()"
      ]
     },
     "metadata": {},
     "output_type": "display_data"
    },
    {
     "data": {
      "text/html": [
       "<pre style=\"white-space:pre;overflow-x:auto;line-height:normal;font-family:Menlo,'DejaVu Sans Mono',consolas,'Courier New',monospace\"></pre>\n"
      ],
      "text/plain": []
     },
     "metadata": {},
     "output_type": "display_data"
    },
    {
     "data": {
      "text/html": [
       "<pre style=\"white-space:pre;overflow-x:auto;line-height:normal;font-family:Menlo,'DejaVu Sans Mono',consolas,'Courier New',monospace\">\n",
       "</pre>\n"
      ],
      "text/plain": [
       "\n"
      ]
     },
     "metadata": {},
     "output_type": "display_data"
    },
    {
     "data": {
      "text/html": [
       "<pre style=\"white-space:pre;overflow-x:auto;line-height:normal;font-family:Menlo,'DejaVu Sans Mono',consolas,'Courier New',monospace\">Results saved to <span style=\"color: #000080; text-decoration-color: #000080; font-weight: bold\">memray-results/tmpq1nmbnj1/flamegraph.html</span>\n",
       "</pre>\n"
      ],
      "text/plain": [
       "Results saved to \u001b[1;34mmemray-results/tmpq1nmbnj1/flamegraph.html\u001b[0m\n"
      ]
     },
     "metadata": {},
     "output_type": "display_data"
    },
    {
     "data": {
      "text/html": [
       "\n",
       "        <iframe\n",
       "            width=\"100%\"\n",
       "            height=\"600\"\n",
       "            src=\"memray-results/tmpq1nmbnj1/flamegraph.html\"\n",
       "            frameborder=\"0\"\n",
       "            allowfullscreen\n",
       "            \n",
       "        ></iframe>\n",
       "        "
      ],
      "text/plain": [
       "<IPython.lib.display.IFrame at 0x7fb602403a30>"
      ]
     },
     "metadata": {},
     "output_type": "display_data"
    }
   ],
   "source": [
    "%%memray_flamegraph\n",
    "\n",
    "probe = abtem.Probe(\n",
    "    energy=200e3, \n",
    "    semiangle_cutoff=20,\n",
    "    extent=(10, 5),\n",
    "    soft=True,\n",
    "    gpts=(1000,1000),)\n",
    "\n",
    "wave = probe.build(lazy=False)#.compute()"
   ]
  },
  {
   "cell_type": "code",
   "execution_count": 49,
   "id": "f0be0188-40b0-4567-b52e-cafa3410367f",
   "metadata": {},
   "outputs": [
    {
     "data": {
      "text/plain": [
       "(<Figure size 640x480 with 2 Axes>, <Axes: xlabel='x [Å]', ylabel='y [Å]'>)"
      ]
     },
     "execution_count": 49,
     "metadata": {},
     "output_type": "execute_result"
    },
    {
     "data": {
      "image/png": "[encoded data removed]",
      "text/plain": [
       "<Figure size 640x480 with 2 Axes>"
      ]
     },
     "metadata": {},
     "output_type": "display_data"
    }
   ],
   "source": [
    "wave.show()"
   ]
  },
  {
   "cell_type": "code",
   "execution_count": 42,
   "id": "43217525-551f-44df-9c31-235c56073947",
   "metadata": {},
   "outputs": [
    {
     "data": {
      "text/plain": [
       "True"
      ]
     },
     "execution_count": 42,
     "metadata": {},
     "output_type": "execute_result"
    }
   ],
   "source": [
    "v=abtem.Probe(\n",
    "    energy=200e3, \n",
    "    semiangle_cutoff=20,\n",
    "    extent=(30, 30),\n",
    "    gpts=(1000,1000),\n",
    ").aberrations.aberration_coefficients.values()\n",
    "\n"
   ]
  },
  {
   "cell_type": "code",
   "execution_count": null,
   "id": "4450dba4-6c01-4c3e-9e84-58d0ce900a58",
   "metadata": {},
   "outputs": [],
   "source": []
  },
  {
   "cell_type": "code",
   "execution_count": 8,
   "id": "778122b5-8373-4966-a39b-07326b87307e",
   "metadata": {},
   "outputs": [
    {
     "data": {
      "application/vnd.jupyter.widget-view+json": {
       "model_id": "",
       "version_major": 2,
       "version_minor": 0
      },
      "text/plain": [
       "Output()"
      ]
     },
     "metadata": {},
     "output_type": "display_data"
    },
    {
     "data": {
      "text/html": [
       "<pre style=\"white-space:pre;overflow-x:auto;line-height:normal;font-family:Menlo,'DejaVu Sans Mono',consolas,'Courier New',monospace\"></pre>\n"
      ],
      "text/plain": []
     },
     "metadata": {},
     "output_type": "display_data"
    },
    {
     "data": {
      "text/html": [
       "<pre style=\"white-space:pre;overflow-x:auto;line-height:normal;font-family:Menlo,'DejaVu Sans Mono',consolas,'Courier New',monospace\">\n",
       "</pre>\n"
      ],
      "text/plain": [
       "\n"
      ]
     },
     "metadata": {},
     "output_type": "display_data"
    },
    {
     "data": {
      "application/vnd.jupyter.widget-view+json": {
       "model_id": "",
       "version_major": 2,
       "version_minor": 0
      },
      "text/plain": [
       "Output()"
      ]
     },
     "metadata": {},
     "output_type": "display_data"
    },
    {
     "data": {
      "text/html": [
       "<pre style=\"white-space:pre;overflow-x:auto;line-height:normal;font-family:Menlo,'DejaVu Sans Mono',consolas,'Courier New',monospace\"></pre>\n"
      ],
      "text/plain": []
     },
     "metadata": {},
     "output_type": "display_data"
    },
    {
     "data": {
      "text/html": [
       "<pre style=\"white-space:pre;overflow-x:auto;line-height:normal;font-family:Menlo,'DejaVu Sans Mono',consolas,'Courier New',monospace\">\n",
       "</pre>\n"
      ],
      "text/plain": [
       "\n"
      ]
     },
     "metadata": {},
     "output_type": "display_data"
    },
    {
     "data": {
      "text/html": [
       "<pre style=\"white-space:pre;overflow-x:auto;line-height:normal;font-family:Menlo,'DejaVu Sans Mono',consolas,'Courier New',monospace\">Results saved to <span style=\"color: #000080; text-decoration-color: #000080; font-weight: bold\">memray-results/tmp2wr_5q5o/flamegraph.html</span>\n",
       "</pre>\n"
      ],
      "text/plain": [
       "Results saved to \u001b[1;34mmemray-results/tmp2wr_5q5o/flamegraph.html\u001b[0m\n"
      ]
     },
     "metadata": {},
     "output_type": "display_data"
    },
    {
     "data": {
      "text/html": [
       "\n",
       "        <iframe\n",
       "            width=\"100%\"\n",
       "            height=\"600\"\n",
       "            src=\"memray-results/tmp2wr_5q5o/flamegraph.html\"\n",
       "            frameborder=\"0\"\n",
       "            allowfullscreen\n",
       "            \n",
       "        ></iframe>\n",
       "        "
      ],
      "text/plain": [
       "<IPython.lib.display.IFrame at 0x7fb797816440>"
      ]
     },
     "metadata": {},
     "output_type": "display_data"
    }
   ],
   "source": []
  },
  {
   "cell_type": "code",
   "execution_count": 44,
   "id": "0cc8a3dc-a065-4a47-8532-ab44f0679708",
   "metadata": {},
   "outputs": [
    {
     "data": {
      "text/plain": [
       "(<Figure size 640x480 with 2 Axes>,\n",
       " <Axes: xlabel='kx [1 / Å]', ylabel='ky [1 / Å]'>)"
      ]
     },
     "execution_count": 44,
     "metadata": {},
     "output_type": "execute_result"
    },
    {
     "data": {
      "image/png": "[encoded data removed]",
      "text/plain": [
       "<Figure size 640x480 with 2 Axes>"
      ]
     },
     "metadata": {},
     "output_type": "display_data"
    }
   ],
   "source": [
    "probe.diffraction_patterns(max_angle=30).show()"
   ]
  },
  {
   "cell_type": "code",
   "execution_count": 16,
   "id": "c0d61d0b-b3ce-4082-9111-fc629d215d67",
   "metadata": {},
   "outputs": [
    {
     "data": {
      "text/plain": [
       "(<Figure size 640x480 with 2 Axes>,\n",
       " <Axes: xlabel='kx [1 / Å]', ylabel='ky [1 / Å]'>)"
      ]
     },
     "execution_count": 16,
     "metadata": {},
     "output_type": "execute_result"
    },
    {
     "data": {
      "image/png": "[encoded data removed]",
      "text/plain": [
       "<Figure size 640x480 with 2 Axes>"
      ]
     },
     "metadata": {},
     "output_type": "display_data"
    }
   ],
   "source": [
    "probe.diffraction_patterns(max_angle=30).show()"
   ]
  },
  {
   "cell_type": "code",
   "execution_count": 24,
   "id": "4fc178f3-c175-4f07-ba4c-fea973aab379",
   "metadata": {},
   "outputs": [],
   "source": [
    "import gc"
   ]
  },
  {
   "cell_type": "code",
   "execution_count": 7,
   "id": "e8308e5a-5ef4-4f2c-bf55-29d5fc640ee7",
   "metadata": {},
   "outputs": [
    {
     "data": {
      "text/plain": [
       "array([[[1., 1., 1., ..., 1., 1., 1.],\n",
       "        [1., 1., 1., ..., 1., 1., 1.],\n",
       "        [1., 1., 1., ..., 1., 1., 1.],\n",
       "        ...,\n",
       "        [1., 1., 1., ..., 1., 1., 1.],\n",
       "        [1., 1., 1., ..., 1., 1., 1.],\n",
       "        [1., 1., 1., ..., 1., 1., 1.]],\n",
       "\n",
       "       [[1., 1., 1., ..., 1., 1., 1.],\n",
       "        [1., 1., 1., ..., 1., 1., 1.],\n",
       "        [1., 1., 1., ..., 1., 1., 1.],\n",
       "        ...,\n",
       "        [1., 1., 1., ..., 1., 1., 1.],\n",
       "        [1., 1., 1., ..., 1., 1., 1.],\n",
       "        [1., 1., 1., ..., 1., 1., 1.]],\n",
       "\n",
       "       [[1., 1., 1., ..., 1., 1., 1.],\n",
       "        [1., 1., 1., ..., 1., 1., 1.],\n",
       "        [1., 1., 1., ..., 1., 1., 1.],\n",
       "        ...,\n",
       "        [1., 1., 1., ..., 1., 1., 1.],\n",
       "        [1., 1., 1., ..., 1., 1., 1.],\n",
       "        [1., 1., 1., ..., 1., 1., 1.]],\n",
       "\n",
       "       ...,\n",
       "\n",
       "       [[1., 1., 1., ..., 1., 1., 1.],\n",
       "        [1., 1., 1., ..., 1., 1., 1.],\n",
       "        [1., 1., 1., ..., 1., 1., 1.],\n",
       "        ...,\n",
       "        [1., 1., 1., ..., 1., 1., 1.],\n",
       "        [1., 1., 1., ..., 1., 1., 1.],\n",
       "        [1., 1., 1., ..., 1., 1., 1.]],\n",
       "\n",
       "       [[1., 1., 1., ..., 1., 1., 1.],\n",
       "        [1., 1., 1., ..., 1., 1., 1.],\n",
       "        [1., 1., 1., ..., 1., 1., 1.],\n",
       "        ...,\n",
       "        [1., 1., 1., ..., 1., 1., 1.],\n",
       "        [1., 1., 1., ..., 1., 1., 1.],\n",
       "        [1., 1., 1., ..., 1., 1., 1.]],\n",
       "\n",
       "       [[1., 1., 1., ..., 1., 1., 1.],\n",
       "        [1., 1., 1., ..., 1., 1., 1.],\n",
       "        [1., 1., 1., ..., 1., 1., 1.],\n",
       "        ...,\n",
       "        [1., 1., 1., ..., 1., 1., 1.],\n",
       "        [1., 1., 1., ..., 1., 1., 1.],\n",
       "        [1., 1., 1., ..., 1., 1., 1.]]])"
      ]
     },
     "execution_count": 7,
     "metadata": {},
     "output_type": "execute_result"
    }
   ],
   "source": [
    "n = 32\n",
    "\n",
    "def g():\n",
    "    a = np.ones((n, 2048, 2048))\n",
    "    time.sleep(2)\n",
    "    b = np.ones((n, 2048, 2048))\n",
    "    time.sleep(2)\n",
    "    return b\n",
    "\n",
    "def h():\n",
    "    c = np.ones((n, 2048, 2048))\n",
    "    time.sleep(2)\n",
    "    d = np.ones((n, 2048, 2048))\n",
    "    time.sleep(2)\n",
    "    return d\n",
    "\n",
    "def f():\n",
    "    a = g()\n",
    "    d = h()\n",
    "    e = np.ones((n, 2048, 2048))\n",
    "    return e\n",
    "\n",
    "\n",
    "out = dask.delayed(f)()\n",
    "\n",
    "out = da.from_delayed(out, shape=(n, 2048, 2048), dtype=float)\n",
    "\n",
    "out.compute()"
   ]
  }
 ],
 "metadata": {
  "kernelspec": {
   "display_name": "abtem-dask",
   "language": "python",
   "name": "abtem-dask"
  },
  "language_info": {
   "codemirror_mode": {
    "name": "ipython",
    "version": 3
   },
   "file_extension": ".py",
   "mimetype": "text/x-python",
   "name": "python",
   "nbconvert_exporter": "python",
   "pygments_lexer": "ipython3",
   "version": "3.10.8"
  },
  "widgets": {
   "application/vnd.jupyter.widget-state+json": {
    "state": {},
    "version_major": 2,
    "version_minor": 0
   }
  }
 },
 "nbformat": 4,
 "nbformat_minor": 5
}
