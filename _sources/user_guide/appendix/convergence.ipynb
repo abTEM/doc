{
 "cells": [
  {
   "cell_type": "markdown",
   "id": "cbafa603-50cc-4929-9231-7b0ff846e2c9",
   "metadata": {},
   "source": [
    "(appendix:convergence)=\n",
    "# Convergence"
   ]
  },
  {
   "cell_type": "markdown",
   "id": "51633de9-a351-478c-952b-15db09d91bc7",
   "metadata": {},
   "source": [
    "## Rules of thumb\n",
    "\n",
    "### Sampling\n",
    "\n",
    "### Slice thickness\n",
    "\n",
    "### "
   ]
  },
  {
   "cell_type": "code",
   "execution_count": null,
   "id": "b8c0132c-4103-4563-a0d8-401ab074c6d6",
   "metadata": {},
   "outputs": [],
   "source": []
  }
 ],
 "metadata": {
  "kernelspec": {
   "display_name": "abtem-dask",
   "language": "python",
   "name": "abtem-dask"
  },
  "language_info": {
   "codemirror_mode": {
    "name": "ipython",
    "version": 3
   },
   "file_extension": ".py",
   "mimetype": "text/x-python",
   "name": "python",
   "nbconvert_exporter": "python",
   "pygments_lexer": "ipython3",
   "version": "3.10.8"
  }
 },
 "nbformat": 4,
 "nbformat_minor": 5
}
