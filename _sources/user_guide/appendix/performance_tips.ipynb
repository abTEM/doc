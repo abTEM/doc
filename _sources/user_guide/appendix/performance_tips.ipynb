{
 "cells": [
  {
   "cell_type": "code",
   "execution_count": 1,
   "id": "c8a68d55-5e9b-4bab-b324-05b89a56cecd",
   "metadata": {
    "pycharm": {
     "name": "#%%\n"
    },
    "tags": [
     "hide-input"
    ]
   },
   "outputs": [],
   "source": [
    "import abtem\n",
    "import ase\n",
    "import dask\n",
    "from IPython.display import Image, display \n",
    "\n",
    "dask.config.set({\"array.svg.size\": 90});"
   ]
  },
  {
   "cell_type": "markdown",
   "id": "2b2c74ed-dfb6-4426-898a-63110b6fb253",
   "metadata": {
    "pycharm": {
     "name": "#%% md\n"
    },
    "tags": []
   },
   "source": [
    "(appendix:performance_tips)=\n",
    "# Parallel performance tips\n",
    "\n",
    ":::{admonition} {material-regular}`engineering;1.5rem;sd-mr-1` Currently Under Construction\n",
    ":class: no-icon\n",
    "Check back for more...\n",
    ":::\n",
    "\n",
    "If your performance is unexpectedly low you can try optimizing using some of the tips below. "
   ]
  },
  {
   "cell_type": "markdown",
   "id": "7dfd7926-8419-4c0d-9e0f-818344d398b2",
   "metadata": {},
   "source": [
    "## Optimize your simulation parameters\n",
    "\n",
    "The most effective way of speeding up your simulation is to use optimal simulation parameters. \n",
    "\n",
    "### Number of `gpts`\n",
    "The number of grid points in your \n",
    "\n",
    "\n",
    "While dialing in other simulation parameters \n",
    "\n",
    "### Number of slices\n",
    "\n",
    "### Cell size\n",
    "\n",
    "### Number of scan samples\n",
    "\n",
    "### Number of integral samples (frozen phonons, partial coherence etc.)\n",
    "\n",
    "\n",
    "\n",
    "\n",
    "## Running out of memory?\n",
    "   \n",
    "### Lower the batch size\n",
    "See below.\n",
    "\n",
    "### Lower the number of workers\n",
    "```python\n",
    "dask.config.set(num_workers=2):\n",
    "```\n",
    "\n",
    "### Reduce early\n",
    "\n",
    "### \n",
    "\n",
    "## Use PRISM\n",
    "\n",
    "\n",
    "\n",
    "## Optimize your usage of FFTs\n",
    "\n",
    "The Fast Fourier Transform (FFT) is the most important algorithm determining the speed, hence, ensuring that this algorithm is fast is important. \n",
    "\n",
    "### FFT library\n",
    "abTEM supports two different FFT libraries: the open-source [FFTW](https://www.fftw.org/) and Intel's MKL FFT implementation.\n",
    "\n",
    "We have found that MKL is faster, hence this is the default in abTEM, however, it may be worth trying FFTW \n",
    "\n",
    "You set the FFT library through the configuration: \n",
    "\n",
    "```python\n",
    "abtem.config.set({\"fft\" : \"mkl\"})\n",
    "```\n",
    "\n",
    "### Set internal thread parallelization\n",
    "\n",
    "\n",
    "\n",
    "### Use power of 2 `gpts`\n",
    "\n",
    "Implementations of the fast fourier transform works most efficiently for arrays whose size can be factored into small primes (2, 3, 5, and 7). Modify the number of `gpts` of your simulation grid such that "
   ]
  },
  {
   "cell_type": "markdown",
   "id": "c84fb57d-7760-4d02-85db-b4633a6fdaa1",
   "metadata": {},
   "source": [
    "## Change the batch size"
   ]
  }
 ],
 "metadata": {
  "kernelspec": {
   "display_name": "abtem",
   "language": "python",
   "name": "abtem"
  },
  "language_info": {
   "codemirror_mode": {
    "name": "ipython",
    "version": 3
   },
   "file_extension": ".py",
   "mimetype": "text/x-python",
   "name": "python",
   "nbconvert_exporter": "python",
   "pygments_lexer": "ipython3",
   "version": "3.9.13"
  },
  "widgets": {
   "application/vnd.jupyter.widget-state+json": {
    "state": {},
    "version_major": 2,
    "version_minor": 0
   }
  }
 },
 "nbformat": 4,
 "nbformat_minor": 5
}
