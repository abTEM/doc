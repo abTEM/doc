{
 "cells": [
  {
   "cell_type": "code",
   "execution_count": 4,
   "id": "75fbecb9-941f-4d61-99ef-2569f51123ed",
   "metadata": {
    "editable": true,
    "slideshow": {
     "slide_type": ""
    },
    "tags": []
   },
   "outputs": [],
   "source": [
    "import abtem\n",
    "import numpy as np"
   ]
  },
  {
   "cell_type": "markdown",
   "id": "1a1b50ee-b009-4fa4-b2c9-0a864ebb8f8d",
   "metadata": {
    "editable": true,
    "slideshow": {
     "slide_type": ""
    },
    "tags": []
   },
   "source": [
    "# Ensembles\n",
    "\n",
    "The concept of ensembles is key to several features in *ab*TEM, most of the key objects in *ab*TEM has a set of base axes and a set of ensemble axes. The base axes are basic axes necessary to describe an object type, for example, the $xy$-part of a wave function, described by for example `Waves` or `Probe`, requires at least two axes. However, additional ensemble axes may be used to describe multiple wave function with different experimental parameters, for example a series of defocus, scan positions and exit plane thicknesses. \n",
    "\n",
    "and ensembles of wave function will have additional metadata describing each ensemble axis"
   ]
  },
  {
   "cell_type": "code",
   "execution_count": null,
   "id": "e392a19f-ed76-4a37-b93a-8585373840f0",
   "metadata": {},
   "outputs": [],
   "source": [
    "probe = abtem.Probe(extent=10, gpts=256, semiangle_cutoff=30, defocus=np.linspace())"
   ]
  },
  {
   "cell_type": "markdown",
   "id": "8e646fb9-dc73-4a9b-b235-cd995355474f",
   "metadata": {},
   "source": [
    "Each wave in the ensemble is independent, hence allowing for trivial parallelization across the ensemble. *ab*TEM uses Dask to automatically distribute the ensemble over the available resources."
   ]
  },
  {
   "cell_type": "code",
   "execution_count": null,
   "id": "8ae6d367-619c-4545-9a58-32e0a1a26cd4",
   "metadata": {
    "editable": true,
    "slideshow": {
     "slide_type": ""
    },
    "tags": []
   },
   "outputs": [],
   "source": []
  },
  {
   "cell_type": "markdown",
   "id": "230dff1b-972b-49fe-b5e1-28cb5493b724",
   "metadata": {},
   "source": [
    "The "
   ]
  },
  {
   "cell_type": "markdown",
   "id": "44dbb79e-40c5-421c-9aa5-5e19958dceb3",
   "metadata": {},
   "source": [
    "## Advanced usage"
   ]
  },
  {
   "cell_type": "code",
   "execution_count": 9,
   "id": "d1c03b79-6868-4ecf-a84e-7859230ec40b",
   "metadata": {},
   "outputs": [
    {
     "data": {
      "text/plain": [
       "array([[<abtem.transfer.CTF object at 0x7fa3c5c4f580>,\n",
       "        <abtem.transfer.CTF object at 0x7fa3c5c4f1f0>],\n",
       "       [<abtem.transfer.CTF object at 0x7fa3c5c4f520>,\n",
       "        <abtem.transfer.CTF object at 0x7fa3c5c4f1c0>]], dtype=object)"
      ]
     },
     "execution_count": 9,
     "metadata": {},
     "output_type": "execute_result"
    }
   ],
   "source": [
    "ctf = abtem.CTF(defocus=np.linspace(0,100,4), Cs=np.linspace(0,100,4))\n",
    "\n",
    "blocks = ctf.ensemble_blocks(4).compute()\n",
    "\n",
    "blocks"
   ]
  },
  {
   "cell_type": "code",
   "execution_count": 11,
   "id": "3b5c29ac-963e-42ae-bff8-6deb700bb560",
   "metadata": {},
   "outputs": [
    {
     "data": {
      "text/plain": [
       "array([ 0.        , 33.33333333])"
      ]
     },
     "execution_count": 11,
     "metadata": {},
     "output_type": "execute_result"
    }
   ],
   "source": [
    "blocks[0,0].defocus.values"
   ]
  },
  {
   "cell_type": "code",
   "execution_count": 12,
   "id": "b915097b-1da2-437e-9535-755412cc4c3d",
   "metadata": {},
   "outputs": [
    {
     "data": {
      "text/plain": [
       "array([ 0.        , 33.33333333])"
      ]
     },
     "execution_count": 12,
     "metadata": {},
     "output_type": "execute_result"
    }
   ],
   "source": [
    "blocks[0,0].Cs.values"
   ]
  }
 ],
 "metadata": {
  "kernelspec": {
   "display_name": "abtem-dask",
   "language": "python",
   "name": "abtem-dask"
  },
  "language_info": {
   "codemirror_mode": {
    "name": "ipython",
    "version": 3
   },
   "file_extension": ".py",
   "mimetype": "text/x-python",
   "name": "python",
   "nbconvert_exporter": "python",
   "pygments_lexer": "ipython3",
   "version": "3.10.8"
  },
  "widgets": {
   "application/vnd.jupyter.widget-state+json": {
    "state": {},
    "version_major": 2,
    "version_minor": 0
   }
  }
 },
 "nbformat": 4,
 "nbformat_minor": 5
}
