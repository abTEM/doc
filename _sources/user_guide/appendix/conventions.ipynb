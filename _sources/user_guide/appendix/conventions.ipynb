{
 "cells": [
  {
   "cell_type": "markdown",
   "metadata": {},
   "source": [
    "# Conventions"
   ]
  },
  {
   "cell_type": "markdown",
   "metadata": {},
   "source": [
    "As with any simulations, certain conventions need to be adopted when creating a specific modeling implementation. In *ab*TEM, we have tried to be consistent with common sources, but some conventions may differ from what you are used to. For clarity and as a reference, we outline the most important conventions below."
   ]
  },
  {
   "cell_type": "markdown",
   "metadata": {
    "pycharm": {
     "name": "#%% md\n"
    },
    "tags": []
   },
   "source": [
    "## Propagation direction\n",
    "\n",
    "Following Kirkland {cite:t}`kirkland`, the wave function in *ab*TEM simulations propagates in the $+$`z` direction, and thus the first slice is at the `z` $= 0$ position (ie. bottom) of the simulation cell."
   ]
  },
  {
   "cell_type": "markdown",
   "metadata": {},
   "source": [
    "## Order of transmission and propagation\n",
    "\n",
    "When a potential is sliced and used in the multislice calculation, the transmission step is taken before the free-space propagation, and thus effectively the potential within a slice is projected to its bottom surface. (With sufficiently thin slices, this should not matter.)"
   ]
  },
  {
   "cell_type": "markdown",
   "metadata": {},
   "source": [
    "## Direction of defocus\n",
    "\n",
    "Defocus is defined with respect to the entrance (bottom) surface of the simulation cell, with positive values moving the focus upwards into the potential. (Note that the C10 aberration is defined with an opposite sign, `C10` $= -$`defocus`, and both can be used for convenience)."
   ]
  },
  {
   "cell_type": "markdown",
   "metadata": {
    "tags": []
   },
   "source": [
    "## Units\n",
    "\n",
    "*ab*TEM uses the [ASE unit conventions](https://wiki.fysik.dtu.dk/ase/ase/units.html) (where applicable); most importantly, distances are measured in Å, energies in eV, and atomic mass units are defined as 1.0. The electrostatic potential is given in (eV / e).\n",
    "\n",
    "For convenience, we measure polar angles with respect to the optical axis (e.g. probe convergence angle, detector semiangles) in mrad. Azimuthal angles (e.g. detector segments, aberration angles) are measured in rad."
   ]
  },
  {
   "cell_type": "raw",
   "metadata": {},
   "source": []
  }
 ],
 "metadata": {
  "kernelspec": {
   "display_name": "Python 3 (ipykernel)",
   "language": "python",
   "name": "python3"
  },
  "language_info": {
   "codemirror_mode": {
    "name": "ipython",
    "version": 3
   },
   "file_extension": ".py",
   "mimetype": "text/x-python",
   "name": "python",
   "nbconvert_exporter": "python",
   "pygments_lexer": "ipython3",
   "version": "3.9.13"
  },
  "widgets": {
   "application/vnd.jupyter.widget-state+json": {
    "state": {},
    "version_major": 2,
    "version_minor": 0
   }
  }
 },
 "nbformat": 4,
 "nbformat_minor": 4
}
