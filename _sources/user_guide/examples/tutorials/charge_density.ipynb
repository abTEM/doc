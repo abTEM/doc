{
 "cells": [
  {
   "cell_type": "code",
   "execution_count": 1,
   "metadata": {
    "pycharm": {
     "name": "#%%\n"
    },
    "tags": [
     "hide-input"
    ]
   },
   "outputs": [
    {
     "ename": "ModuleNotFoundError",
     "evalue": "No module named 'gpaw'",
     "output_type": "error",
     "traceback": [
      "\u001b[1;31m---------------------------------------------------------------------------\u001b[0m",
      "\u001b[1;31mModuleNotFoundError\u001b[0m                       Traceback (most recent call last)",
      "Cell \u001b[1;32mIn[1], line 8\u001b[0m\n\u001b[0;32m      6\u001b[0m \u001b[38;5;28;01mimport\u001b[39;00m \u001b[38;5;21;01mpandas\u001b[39;00m \u001b[38;5;28;01mas\u001b[39;00m \u001b[38;5;21;01mpd\u001b[39;00m\n\u001b[0;32m      7\u001b[0m \u001b[38;5;28;01mfrom\u001b[39;00m \u001b[38;5;21;01mase\u001b[39;00m\u001b[38;5;21;01m.\u001b[39;00m\u001b[38;5;21;01mbuild\u001b[39;00m \u001b[38;5;28;01mimport\u001b[39;00m graphene\n\u001b[1;32m----> 8\u001b[0m \u001b[38;5;28;01mfrom\u001b[39;00m \u001b[38;5;21;01mgpaw\u001b[39;00m \u001b[38;5;28;01mimport\u001b[39;00m GPAW\n\u001b[0;32m     10\u001b[0m \u001b[38;5;28;01mimport\u001b[39;00m \u001b[38;5;21;01mabtem\u001b[39;00m\n\u001b[0;32m     12\u001b[0m abtem\u001b[38;5;241m.\u001b[39mconfig\u001b[38;5;241m.\u001b[39mset({\u001b[38;5;124m\"\u001b[39m\u001b[38;5;124mlocal_diagnostics.progress_bar\u001b[39m\u001b[38;5;124m\"\u001b[39m: \u001b[38;5;28;01mFalse\u001b[39;00m});\n",
      "\u001b[1;31mModuleNotFoundError\u001b[0m: No module named 'gpaw'"
     ]
    }
   ],
   "source": [
    "%config InlineBackend.rc = {\"figure.dpi\": 72, 'figure.figsize': (6.0, 4.0)}\n",
    "%matplotlib inline\n",
    "\n",
    "import matplotlib.pyplot as plt\n",
    "import numpy as np\n",
    "import pandas as pd\n",
    "from ase.build import graphene\n",
    "from gpaw import GPAW\n",
    "\n",
    "import abtem\n",
    "\n",
    "abtem.config.set({\"local_diagnostics.progress_bar\": False});"
   ]
  },
  {
   "cell_type": "markdown",
   "metadata": {
    "pycharm": {
     "name": "#%% md\n"
    }
   },
   "source": [
    "(walkthrough:charge_density)=\n",
    "# *ab initio* potentials with GPAW\n",
    "\n",
    "The independent atom model (IAM) neglects bonding and the resulting charge transfer, this is typically a good approximation, because the core charge and electrons are responible for most of the potential. However, the difference between the IAM and a more realistic model including the effects of bonding is measurable, in certain systems{cite}`madsen_ab_initio`. Understanding this charge transfer may provide further insights, due its the importance in chemistry. \n",
    "\n",
    "Here we go beyond the independent atom model using density functional theory (DFT), to calculate a potential that includes charge transfer using GPAW{cite}`gpaw`. Note that you need a working GPAW installation to run the code in this walkthrough, see the [GPAW documentation](https://wiki.fysik.dtu.dk/gpaw/) for more information. abTEM only supports GPAW directly, however, other DFT codes may be used assuming that you can obtain the electron charge density as a numpy array through the `ChargeDensityPotential`.\n",
    "\n",
    "## DFT calculation of hBN with GPAW\n",
    "The first step to create a DFT potential is to converge a DFT calculation. We calculate the minimal hexagonal cell of hexagonal-Boron-Nitride (hBN). The atomic model is created by modifying a graphene model."
   ]
  },
  {
   "cell_type": "code",
   "execution_count": null,
   "metadata": {
    "pycharm": {
     "name": "#%%\n"
    }
   },
   "outputs": [],
   "source": [
    "atoms = graphene(vacuum=3, a=2.504)\n",
    "\n",
    "atoms[0].number = 5\n",
    "atoms[1].number = 7\n",
    "\n",
    "abtem.show_atoms(atoms, legend=True);"
   ]
  },
  {
   "cell_type": "markdown",
   "metadata": {
    "pycharm": {
     "name": "#%% md\n"
    }
   },
   "source": [
    "To run the DFT calculation, we use the `GPAW` calculator. We use the default parameters, except for the Brillouin zone sampling, which for a cell this small should be at least $5 \\times 5 \\times 3$."
   ]
  },
  {
   "cell_type": "code",
   "execution_count": null,
   "metadata": {
    "pycharm": {
     "name": "#%%\n"
    }
   },
   "outputs": [],
   "source": [
    "gpaw = GPAW(txt=None, kpts=(5, 5, 1))\n",
    "atoms.calc = gpaw"
   ]
  },
  {
   "cell_type": "markdown",
   "metadata": {
    "pycharm": {
     "name": "#%% md\n"
    }
   },
   "source": [
    "Running the method `get_potential_energy` triggers the DFT self-consistent field cycle to run, after which the `GPAW` object contains the converged PAW electron density."
   ]
  },
  {
   "cell_type": "code",
   "execution_count": null,
   "metadata": {
    "pycharm": {
     "name": "#%%\n"
    }
   },
   "outputs": [],
   "source": [
    "atoms.get_potential_energy()"
   ]
  },
  {
   "cell_type": "markdown",
   "metadata": {
    "pycharm": {
     "name": "#%% md\n"
    }
   },
   "source": [
    "```{warning}\n",
    "DFT calculations can be extremely computationally intensive and may require massive parallelization. Hence, it may not be appropriate to run the DFT simulation in a notebook. Instead, we recommend exporting the converged GPAW calculator to a file, then importing it for your abTEM simulation.\n",
    "```"
   ]
  },
  {
   "cell_type": "markdown",
   "metadata": {
    "pycharm": {
     "name": "#%% md\n"
    }
   },
   "source": [
    "## Using the GPAW potential in abTEM\n",
    "\n",
    "It is straightforward to calculate a DFT potential from a converged GPAW calculation. The `GPAWPotential` object just requires a converged GPAW calculator."
   ]
  },
  {
   "cell_type": "code",
   "execution_count": null,
   "metadata": {
    "pycharm": {
     "name": "#%%\n"
    }
   },
   "outputs": [],
   "source": [
    "potential_dft = abtem.GPAWPotential(gpaw, sampling=0.04).build().compute()"
   ]
  },
  {
   "cell_type": "markdown",
   "metadata": {
    "pycharm": {
     "name": "#%% md\n"
    }
   },
   "source": [
    "The `GPAWPotential` shares the same supertype as the standard potential, hence, they share most of their properties and methods."
   ]
  },
  {
   "cell_type": "code",
   "execution_count": null,
   "metadata": {
    "pycharm": {
     "name": "#%%\n"
    },
    "tags": []
   },
   "outputs": [],
   "source": [
    "potential_dft.show(cbar=True);"
   ]
  },
  {
   "cell_type": "markdown",
   "metadata": {
    "pycharm": {
     "name": "#%% md\n"
    }
   },
   "source": [
    "## Comparing DFT to IAM\n",
    "\n",
    "To show the difference that including charge trasnfer can have, we compare the DFT potential to an equivalent potential using the IAM. We make sure to set `projection=\"finite\"` to ensure that the projection integrals are done identically."
   ]
  },
  {
   "cell_type": "code",
   "execution_count": null,
   "metadata": {
    "pycharm": {
     "name": "#%%\n"
    }
   },
   "outputs": [],
   "source": [
    "atoms = gpaw.atoms\n",
    "\n",
    "potential_iam = (\n",
    "    abtem.Potential(atoms, gpts=potential_dft.gpts, projection=\"finite\")\n",
    "    .build()\n",
    "    .compute()\n",
    ")"
   ]
  },
  {
   "cell_type": "markdown",
   "metadata": {
    "pycharm": {
     "name": "#%% md\n"
    }
   },
   "source": [
    "Below compare the projection of the potentials. It is difficult to discern any visual differences between the IAM and DFT model from their resepective heatmaps, hence, we also calculate and show their difference and relative difference. In hBN the negative charge is transferred from Boron to Nitrogen, thus better screening the Nitrogen cores and lowering the potential.  "
   ]
  },
  {
   "cell_type": "code",
   "execution_count": null,
   "metadata": {
    "pycharm": {
     "name": "#%%\n"
    },
    "tags": [
     "full-width"
    ]
   },
   "outputs": [],
   "source": [
    "projected_potential_dft = potential_dft.project()\n",
    "projected_potential_iam = potential_iam.project()\n",
    "\n",
    "difference = projected_potential_dft - projected_potential_iam\n",
    "\n",
    "relative_difference = projected_potential_dft.relative_difference(\n",
    "    projected_potential_iam, min_relative_tol=0.001\n",
    ")\n",
    "\n",
    "\n",
    "fig, (ax1, ax2, ax3, ax4) = plt.subplots(1, 4, figsize=(15, 4), sharey=True)\n",
    "\n",
    "projected_potential_iam.show(ax=ax1, cbar=True, title=\"iam potential\", vmax=400)\n",
    "\n",
    "projected_potential_dft.show(ax=ax2, cbar=True, title=\"dft potential\", vmax=400)\n",
    "\n",
    "difference.show(\n",
    "    ax=ax3,\n",
    "    cbar=True,\n",
    "    title=\"difference (dft - iam)\",\n",
    "    vmin=-12,\n",
    "    cmap=\"seismic\",\n",
    "    vmax=12,\n",
    ")\n",
    "\n",
    "relative_difference.show(\n",
    "    ax=ax4,\n",
    "    cmap=\"seismic\",\n",
    "    vmin=-75,\n",
    "    vmax=75,\n",
    "    cbar=True,\n",
    "    title=\"relative difference (1 - iam / dft)\",\n",
    ")\n",
    "\n",
    "for ax in (ax2, ax3, ax4):\n",
    "    ax.set_ylabel(\"\")"
   ]
  },
  {
   "cell_type": "markdown",
   "metadata": {
    "pycharm": {
     "name": "#%% md\n"
    }
   },
   "source": [
    "Comparing lineprofiles as below is often a preferable way of showing differences between two images. Below we show the lineprofiles of $x=0$."
   ]
  },
  {
   "cell_type": "code",
   "execution_count": null,
   "metadata": {
    "pycharm": {
     "name": "#%%\n"
    }
   },
   "outputs": [],
   "source": [
    "iam_line = projected_potential_iam.interpolate_line(\n",
    "    start=(0, 0), end=(0, projected_potential_iam.extent[1])\n",
    ")\n",
    "\n",
    "dft_line = projected_potential_dft.interpolate_line(\n",
    "    start=(0, 0), end=(0, projected_potential_dft.extent[1])\n",
    ")\n",
    "\n",
    "abtem.stack([iam_line, dft_line], (\"IAM\", \"DFT\")).show();"
   ]
  },
  {
   "cell_type": "markdown",
   "metadata": {
    "pycharm": {
     "name": "#%% md\n"
    }
   },
   "source": [
    "## Electron diffraction of DFT potentials\n",
    "\n",
    "Next, we calculate the influence of charge transfer on the electron diffraction patterns in hBN, approximately reproducing a published result {cite}`gpawpotentials`.\n",
    "\n",
    "We create a `PlaneWave` at an energy of $100 \\ \\mathrm{keV}$, then run the multislice algorithm for the IAM and DFT potential, finally caluclating the diffraction patterns."
   ]
  },
  {
   "cell_type": "code",
   "execution_count": null,
   "metadata": {
    "pycharm": {
     "name": "#%%\n"
    },
    "tags": []
   },
   "outputs": [],
   "source": [
    "planewave = abtem.PlaneWave(energy=100e3)\n",
    "\n",
    "diffraction_iam = (\n",
    "    planewave.multislice(potential_iam)\n",
    "    .diffraction_patterns(block_direct=True, max_angle=30)\n",
    "    .compute()\n",
    ")\n",
    "diffraction_dft = (\n",
    "    planewave.multislice(potential_dft)\n",
    "    .diffraction_patterns(block_direct=True, max_angle=30)\n",
    "    .compute()\n",
    ")\n",
    "\n",
    "stacked = abtem.stack([diffraction_iam, diffraction_dft], (\"iam\", \"dft\"))\n",
    "\n",
    "diffraction_spots = stacked.index_diffraction_spots(atoms, threshold=0.00001)"
   ]
  },
  {
   "cell_type": "code",
   "execution_count": null,
   "metadata": {
    "tags": []
   },
   "outputs": [],
   "source": [
    "stacked.show(explode=True, common_color_scale=True, cbar=True, figsize=(12, 6));"
   ]
  },
  {
   "cell_type": "markdown",
   "metadata": {
    "pycharm": {
     "name": "#%% md\n"
    }
   },
   "source": [
    "We show the resulting diffraction patterns below. The most obvious difference is that order of intensity of the $(200)$ and $(110)$ families of diffraction spots is flipped in the two models. "
   ]
  },
  {
   "cell_type": "code",
   "execution_count": null,
   "metadata": {
    "tags": []
   },
   "outputs": [],
   "source": [
    "visualization = diffraction_spots.show(\n",
    "    explode=True, common_color_scale=False, cbar=True, figsize=(14, 6)\n",
    ")\n",
    "\n",
    "visualization.set_miller_index_annotations(threshold=0, miller_bravais=False)\n",
    "\n",
    "visualization.set_xlim([-2,2])"
   ]
  },
  {
   "cell_type": "markdown",
   "metadata": {
    "pycharm": {
     "name": "#%% md\n"
    }
   },
   "source": [
    "Below we compare the relative intensities of the diffraction spots in a table, the intensities are normalized to the intensity of the $(110)$ spots. We also include experimental values `cite`{gpawpotential}.\n",
    "\n",
    "We see the largest difference between the models for the $(200)$ spots. Comparing to the experimental result, we see that IAM predicts the wrong intensity ordering of the $(110)$ and $(200)$ spots. The DFT model gets the order of the spots right, however, the relative intensity is significantly overestimated. The main cause of the discrepancy is the noninclusion of phonon scattering, as we shall see in the following section. "
   ]
  },
  {
   "cell_type": "code",
   "execution_count": null,
   "metadata": {},
   "outputs": [],
   "source": [
    "diffraction_spots.to_dataframe()"
   ]
  },
  {
   "cell_type": "markdown",
   "metadata": {
    "pycharm": {
     "name": "#%% md\n"
    }
   },
   "source": [
    "## Frozen phonons and DFT\n",
    "\n",
    ":::{admonition} {material-regular}`engineering;1.5rem;sd-mr-1` Currently Under Construction\n",
    ":class: no-icon\n",
    "Check back for more...\n",
    ":::"
   ]
  }
 ],
 "metadata": {
  "kernelspec": {
   "display_name": "abtem-dask",
   "language": "python",
   "name": "abtem-dask"
  },
  "language_info": {
   "codemirror_mode": {
    "name": "ipython",
    "version": 3
   },
   "file_extension": ".py",
   "mimetype": "text/x-python",
   "name": "python",
   "nbconvert_exporter": "python",
   "pygments_lexer": "ipython3",
   "version": "3.10.8"
  },
  "widgets": {
   "application/vnd.jupyter.widget-state+json": {
    "state": {},
    "version_major": 2,
    "version_minor": 0
   }
  }
 },
 "nbformat": 4,
 "nbformat_minor": 4
}
