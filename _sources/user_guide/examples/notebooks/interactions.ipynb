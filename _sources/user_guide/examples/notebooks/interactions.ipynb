{
 "cells": [
  {
   "cell_type": "code",
   "execution_count": 1,
   "id": "46fa1f5a-f9a8-4117-937c-c8a4ebd6c38c",
   "metadata": {
    "tags": [
     "hide-input"
    ]
   },
   "outputs": [],
   "source": [
    "%config InlineBackend.rc = {\"figure.dpi\": 72, 'figure.figsize': (6.0, 4.0)}\n",
    "%matplotlib ipympl\n",
    "\n",
    "import ase \n",
    "import matplotlib.pyplot as plt\n",
    "import numpy as np\n",
    "from IPython.display import HTML\n",
    "\n",
    "import abtem\n",
    "\n",
    "abtem.config.set({\"local_diagnostics.progress_bar\": True})\n",
    "abtem.config.set({\"device\": \"cpu\"});"
   ]
  },
  {
   "cell_type": "markdown",
   "id": "3048121d-f027-4cd2-887e-c99016d5da4d",
   "metadata": {},
   "source": [
    "(examples:interactions)=\n",
    "# Interactive visualizations\n",
    "\n",
    "We can make simple interactive visualizations using iPython.\n",
    "\n",
    "```{warning}\n",
    "Interactive visualizations require `ipympl` to be installed! If you get a \"Widgets loading...\" message and the visualization does not show, you may need to follow [these instructions](https://ipywidgets.readthedocs.io/en/latest/user_install.html#installing-in-jupyterlab-3-x).\n",
    "```"
   ]
  },
  {
   "cell_type": "markdown",
   "id": "5f21fdf1-3beb-4d54-808e-d431efdab025",
   "metadata": {},
   "source": [
    "## STEM"
   ]
  },
  {
   "cell_type": "markdown",
   "id": "15e1a9a6-1ff2-4944-b098-cfdcfb58e9c3",
   "metadata": {},
   "source": [
    "We create a model for MoS$_2$ with a scanned probe, where the semiangle cutoff, defocus, and spherical aberration are ensembles. In addition, we apply Poisson noise to the measurement, giving yet another slider to visualize. Finally, by using the default `FlexibleAnnularDetector` detector, the inner and outer radial scattering angles become freely controllable."
   ]
  },
  {
   "cell_type": "code",
   "execution_count": 9,
   "id": "73d5a1c2-d444-4304-93fe-8699a0177072",
   "metadata": {
    "tags": []
   },
   "outputs": [
    {
     "name": "stdout",
     "output_type": "stream",
     "text": [
      "[########################################] | 100% Completed | 7.85 ss\n"
     ]
    }
   ],
   "source": [
    "atoms = ase.build.mx2(vacuum=3)\n",
    "atoms = abtem.orthogonalize_cell(atoms) * (3, 2, 1)\n",
    "\n",
    "probe = abtem.Probe(\n",
    "    semiangle_cutoff=np.linspace(20, 30, 3),\n",
    "    defocus=np.linspace(0, 50, 3),\n",
    "    Cs=np.linspace(0, 5e5, 3),\n",
    "    astigmatism_angle=np.pi / 4,\n",
    "    sampling=0.05,\n",
    "    energy=80e3,\n",
    ")\n",
    "\n",
    "potential = abtem.Potential(atoms, projection=\"infinite\", slice_thickness=2)\n",
    "\n",
    "scan = abtem.GridScan(\n",
    "    start=(0, 0),\n",
    "    end=(1 / 3, 1 / 2),\n",
    "    fractional=True,\n",
    "    potential=potential,\n",
    ")\n",
    "\n",
    "doses = np.geomspace(1e1, 1e7, 7)\n",
    "\n",
    "measurements = (\n",
    "    probe.scan(potential, scan=scan)\n",
    "    .to_image_ensemble()\n",
    "    .gaussian_filter(0.3)\n",
    "    .interpolate(0.1)\n",
    "    .tile((3, 2))\n",
    "    .compute()\n",
    "    .poisson_noise(dose_per_area=doses)\n",
    "    .compute()\n",
    ")"
   ]
  },
  {
   "cell_type": "markdown",
   "id": "c8e4288e-8074-44a3-b6b9-79ab40e208f0",
   "metadata": {},
   "source": [
    "The `show` method now creates a widget where each ensemble can be separately controlled.\n",
    "\n",
    "Note that to see atomic contrast, you need to increase the dose and set the radial scattering angles to reasonable values, e.g. 40 to 274 mrad. Selecting Autoscale will automatically adapt the contrast."
   ]
  },
  {
   "cell_type": "code",
   "execution_count": 12,
   "id": "3f7ee99a-dc1f-4d1d-a4b5-11edaa4a38a8",
   "metadata": {
    "tags": []
   },
   "outputs": [
    {
     "data": {
      "application/vnd.jupyter.widget-view+json": {
       "model_id": "81d09c0784a64f51bd336a0a30f46f75",
       "version_major": 2,
       "version_minor": 0
      },
      "text/plain": [
       "HBox(children=(VBox(children=(VBox(children=(SelectionSlider(continuous_update=False, description='Dose [e/Å^2…"
      ]
     },
     "metadata": {},
     "output_type": "display_data"
    }
   ],
   "source": [
    "animation = measurements.show(interact=True, cbar=True)"
   ]
  }
 ],
 "metadata": {
  "kernelspec": {
   "display_name": "abtem",
   "language": "python",
   "name": "abtem"
  },
  "language_info": {
   "codemirror_mode": {
    "name": "ipython",
    "version": 3
   },
   "file_extension": ".py",
   "mimetype": "text/x-python",
   "name": "python",
   "nbconvert_exporter": "python",
   "pygments_lexer": "ipython3",
   "version": "3.11.4"
  },
  "widgets": {
   "application/vnd.jupyter.widget-state+json": {
    "state": {},
    "version_major": 2,
    "version_minor": 0
   }
  }
 },
 "nbformat": 4,
 "nbformat_minor": 5
}
