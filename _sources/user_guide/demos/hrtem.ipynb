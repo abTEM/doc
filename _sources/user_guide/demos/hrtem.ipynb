{
 "cells": [
  {
   "cell_type": "code",
   "execution_count": 1,
   "id": "0f433585-edb3-431f-96da-916000c3a960",
   "metadata": {},
   "outputs": [],
   "source": [
    "%config InlineBackend.rc = {\"figure.dpi\": 72, \"figure.figsize\": (6.0, 4.0)}\n",
    "%matplotlib ipympl\n",
    "\n",
    "import abtem\n",
    "import ase\n",
    "import matplotlib.pyplot as plt\n",
    "import numpy as np\n",
    "from ase.cluster import Decahedron"
   ]
  },
  {
   "cell_type": "code",
   "execution_count": 2,
   "id": "4e73fc17-43e1-41ee-9043-b7249d1b6a9c",
   "metadata": {},
   "outputs": [],
   "source": [
    "substrate = ase.build.bulk(\"C\", cubic=True)\n",
    "\n",
    "substrate *= (12, 12, 12)\n",
    "\n",
    "bl = 1.54  # Bond length\n",
    "rng = np.random.default_rng(seed=10)\n",
    "substrate.positions[:] += rng.normal(size=(len(substrate), 3)) * 0.5 * bl\n",
    "\n",
    "substrate.wrap()"
   ]
  },
  {
   "cell_type": "code",
   "execution_count": 3,
   "id": "bc5ff46e-28d0-48cf-8c0c-b089c570e6aa",
   "metadata": {},
   "outputs": [],
   "source": [
    "p = 6\n",
    "q = 2\n",
    "r = 1\n",
    "\n",
    "nanoparticle = Decahedron(\"Au\", p, q, r, latticeconstant=None)\n",
    "nanoparticle.rotate(30, \"x\", center=\"cop\")\n",
    "\n",
    "nanoparticle.center(vacuum=1)\n",
    "\n",
    "nanoparticle.set_cell(substrate.cell)\n",
    "nanoparticle.center(axis=(0, 1))\n",
    "nanoparticle.translate((0, 0, substrate.cell[2, 2] - 2))\n",
    "\n",
    "atoms = nanoparticle + substrate\n",
    "\n",
    "atoms.center(axis=2, vacuum=2)"
   ]
  },
  {
   "cell_type": "code",
   "execution_count": 4,
   "id": "23563743-7a49-4df4-a8f9-67886d3dafff",
   "metadata": {},
   "outputs": [
    {
     "name": "stdout",
     "output_type": "stream",
     "text": [
      "[########################################] | 100% Completed | 2.68 ss\n"
     ]
    }
   ],
   "source": [
    "wave = abtem.PlaneWave(energy=200e3)\n",
    "\n",
    "potential = abtem.Potential(atoms, sampling=0.1, exit_planes=4)\n",
    "\n",
    "exit_wave = wave.multislice(potential).compute().ensure_lazy()\n",
    "\n",
    "image = exit_wave.apply_ctf(\n",
    "    defocus=np.linspace(0, 100, 10),\n",
    "    Cs=np.linspace(0, 1e6, 10),\n",
    "    semiangle_cutoff=np.linspace(10, 50, 10),\n",
    ")"
   ]
  },
  {
   "cell_type": "code",
   "execution_count": 9,
   "id": "ab618ceb-7f89-40c9-908b-dc585bf9deb3",
   "metadata": {},
   "outputs": [
    {
     "name": "stdout",
     "output_type": "stream",
     "text": [
      "[########################################] | 100% Completed | 43.11 s\n"
     ]
    },
    {
     "ename": "KeyboardInterrupt",
     "evalue": "",
     "output_type": "error",
     "traceback": [
      "\u001b[0;31m---------------------------------------------------------------------------\u001b[0m",
      "\u001b[0;31mKeyboardInterrupt\u001b[0m                         Traceback (most recent call last)",
      "Cell \u001b[0;32mIn[9], line 1\u001b[0m\n\u001b[0;32m----> 1\u001b[0m \u001b[43mimage\u001b[49m\u001b[43m[\u001b[49m\u001b[43m:\u001b[49m\u001b[43m,\u001b[49m\u001b[43m:\u001b[49m\u001b[43m,\u001b[49m\u001b[43m:\u001b[49m\u001b[43m,\u001b[49m\u001b[38;5;241;43m1\u001b[39;49m\u001b[43m:\u001b[49m\u001b[43m]\u001b[49m\u001b[38;5;241;43m.\u001b[39;49m\u001b[43mcompute\u001b[49m\u001b[43m(\u001b[49m\u001b[43m)\u001b[49m\u001b[38;5;241m.\u001b[39mshow(interact\u001b[38;5;241m=\u001b[39m\u001b[38;5;28;01mTrue\u001b[39;00m)\n",
      "File \u001b[0;32m~/PycharmProjects/abTEM_dask/abtem/array.py:953\u001b[0m, in \u001b[0;36mArrayObject.compute\u001b[0;34m(self, progress_bar, profiler, resource_profiler, **kwargs)\u001b[0m\n\u001b[1;32m    950\u001b[0m \u001b[38;5;28;01mif\u001b[39;00m \u001b[38;5;129;01mnot\u001b[39;00m \u001b[38;5;28mself\u001b[39m\u001b[38;5;241m.\u001b[39mis_lazy:\n\u001b[1;32m    951\u001b[0m     \u001b[38;5;28;01mreturn\u001b[39;00m \u001b[38;5;28mself\u001b[39m\n\u001b[0;32m--> 953\u001b[0m output, profilers \u001b[38;5;241m=\u001b[39m \u001b[43m_compute\u001b[49m\u001b[43m(\u001b[49m\n\u001b[1;32m    954\u001b[0m \u001b[43m    \u001b[49m\u001b[43m[\u001b[49m\u001b[38;5;28;43mself\u001b[39;49m\u001b[43m]\u001b[49m\u001b[43m,\u001b[49m\n\u001b[1;32m    955\u001b[0m \u001b[43m    \u001b[49m\u001b[43mprogress_bar\u001b[49m\u001b[38;5;241;43m=\u001b[39;49m\u001b[43mprogress_bar\u001b[49m\u001b[43m,\u001b[49m\n\u001b[1;32m    956\u001b[0m \u001b[43m    \u001b[49m\u001b[43mprofiler\u001b[49m\u001b[38;5;241;43m=\u001b[39;49m\u001b[43mprofiler\u001b[49m\u001b[43m,\u001b[49m\n\u001b[1;32m    957\u001b[0m \u001b[43m    \u001b[49m\u001b[43mresource_profiler\u001b[49m\u001b[38;5;241;43m=\u001b[39;49m\u001b[43mresource_profiler\u001b[49m\u001b[43m,\u001b[49m\n\u001b[1;32m    958\u001b[0m \u001b[43m    \u001b[49m\u001b[38;5;241;43m*\u001b[39;49m\u001b[38;5;241;43m*\u001b[39;49m\u001b[43mkwargs\u001b[49m\u001b[43m,\u001b[49m\n\u001b[1;32m    959\u001b[0m \u001b[43m\u001b[49m\u001b[43m)\u001b[49m\n\u001b[1;32m    961\u001b[0m output \u001b[38;5;241m=\u001b[39m output[\u001b[38;5;241m0\u001b[39m]\n\u001b[1;32m    963\u001b[0m \u001b[38;5;28;01mif\u001b[39;00m profilers:\n",
      "File \u001b[0;32m~/PycharmProjects/abTEM_dask/abtem/array.py:249\u001b[0m, in \u001b[0;36m_compute\u001b[0;34m(dask_array_wrappers, progress_bar, profiler, resource_profiler, **kwargs)\u001b[0m\n\u001b[1;32m    244\u001b[0m         kwargs[\u001b[38;5;124m\"\u001b[39m\u001b[38;5;124mthreads_per_worker\u001b[39m\u001b[38;5;124m\"\u001b[39m] \u001b[38;5;241m=\u001b[39m cp\u001b[38;5;241m.\u001b[39mcuda\u001b[38;5;241m.\u001b[39mruntime\u001b[38;5;241m.\u001b[39mgetDeviceCount()\n\u001b[1;32m    246\u001b[0m \u001b[38;5;28;01mwith\u001b[39;00m _compute_context(\n\u001b[1;32m    247\u001b[0m     progress_bar, profiler\u001b[38;5;241m=\u001b[39mprofiler, resource_profiler\u001b[38;5;241m=\u001b[39mresource_profiler\n\u001b[1;32m    248\u001b[0m ) \u001b[38;5;28;01mas\u001b[39;00m (_, profiler, resource_profiler, _):\n\u001b[0;32m--> 249\u001b[0m     arrays \u001b[38;5;241m=\u001b[39m \u001b[43mdask\u001b[49m\u001b[38;5;241;43m.\u001b[39;49m\u001b[43mcompute\u001b[49m\u001b[43m(\u001b[49m\n\u001b[1;32m    250\u001b[0m \u001b[43m        \u001b[49m\u001b[43m[\u001b[49m\u001b[43mwrapper\u001b[49m\u001b[38;5;241;43m.\u001b[39;49m\u001b[43marray\u001b[49m\u001b[43m \u001b[49m\u001b[38;5;28;43;01mfor\u001b[39;49;00m\u001b[43m \u001b[49m\u001b[43mwrapper\u001b[49m\u001b[43m \u001b[49m\u001b[38;5;129;43;01min\u001b[39;49;00m\u001b[43m \u001b[49m\u001b[43mdask_array_wrappers\u001b[49m\u001b[43m]\u001b[49m\u001b[43m,\u001b[49m\u001b[43m \u001b[49m\u001b[38;5;241;43m*\u001b[39;49m\u001b[38;5;241;43m*\u001b[39;49m\u001b[43mkwargs\u001b[49m\n\u001b[1;32m    251\u001b[0m \u001b[43m    \u001b[49m\u001b[43m)\u001b[49m[\u001b[38;5;241m0\u001b[39m]\n\u001b[1;32m    253\u001b[0m \u001b[38;5;28;01mfor\u001b[39;00m array, wrapper \u001b[38;5;129;01min\u001b[39;00m \u001b[38;5;28mzip\u001b[39m(arrays, dask_array_wrappers):\n\u001b[1;32m    254\u001b[0m     wrapper\u001b[38;5;241m.\u001b[39m_array \u001b[38;5;241m=\u001b[39m array\n",
      "File \u001b[0;32m/opt/anaconda3/envs/abtem-dask/lib/python3.9/site-packages/dask/base.py:601\u001b[0m, in \u001b[0;36mcompute\u001b[0;34m(traverse, optimize_graph, scheduler, get, *args, **kwargs)\u001b[0m\n\u001b[1;32m    598\u001b[0m     postcomputes\u001b[38;5;241m.\u001b[39mappend(x\u001b[38;5;241m.\u001b[39m__dask_postcompute__())\n\u001b[1;32m    600\u001b[0m results \u001b[38;5;241m=\u001b[39m schedule(dsk, keys, \u001b[38;5;241m*\u001b[39m\u001b[38;5;241m*\u001b[39mkwargs)\n\u001b[0;32m--> 601\u001b[0m \u001b[38;5;28;01mreturn\u001b[39;00m repack([f(r, \u001b[38;5;241m*\u001b[39ma) \u001b[38;5;28;01mfor\u001b[39;00m r, (f, a) \u001b[38;5;129;01min\u001b[39;00m \u001b[38;5;28mzip\u001b[39m(results, postcomputes)])\n",
      "File \u001b[0;32m/opt/anaconda3/envs/abtem-dask/lib/python3.9/site-packages/dask/base.py:601\u001b[0m, in \u001b[0;36m<listcomp>\u001b[0;34m(.0)\u001b[0m\n\u001b[1;32m    598\u001b[0m     postcomputes\u001b[38;5;241m.\u001b[39mappend(x\u001b[38;5;241m.\u001b[39m__dask_postcompute__())\n\u001b[1;32m    600\u001b[0m results \u001b[38;5;241m=\u001b[39m schedule(dsk, keys, \u001b[38;5;241m*\u001b[39m\u001b[38;5;241m*\u001b[39mkwargs)\n\u001b[0;32m--> 601\u001b[0m \u001b[38;5;28;01mreturn\u001b[39;00m repack([\u001b[43mf\u001b[49m\u001b[43m(\u001b[49m\u001b[43mr\u001b[49m\u001b[43m,\u001b[49m\u001b[43m \u001b[49m\u001b[38;5;241;43m*\u001b[39;49m\u001b[43ma\u001b[49m\u001b[43m)\u001b[49m \u001b[38;5;28;01mfor\u001b[39;00m r, (f, a) \u001b[38;5;129;01min\u001b[39;00m \u001b[38;5;28mzip\u001b[39m(results, postcomputes)])\n",
      "File \u001b[0;32m/opt/anaconda3/envs/abtem-dask/lib/python3.9/site-packages/dask/array/core.py:1282\u001b[0m, in \u001b[0;36mfinalize\u001b[0;34m(results)\u001b[0m\n\u001b[1;32m   1280\u001b[0m \u001b[38;5;28;01mwhile\u001b[39;00m \u001b[38;5;28misinstance\u001b[39m(results2, (\u001b[38;5;28mtuple\u001b[39m, \u001b[38;5;28mlist\u001b[39m)):\n\u001b[1;32m   1281\u001b[0m     \u001b[38;5;28;01mif\u001b[39;00m \u001b[38;5;28mlen\u001b[39m(results2) \u001b[38;5;241m>\u001b[39m \u001b[38;5;241m1\u001b[39m:\n\u001b[0;32m-> 1282\u001b[0m         \u001b[38;5;28;01mreturn\u001b[39;00m \u001b[43mconcatenate3\u001b[49m\u001b[43m(\u001b[49m\u001b[43mresults\u001b[49m\u001b[43m)\u001b[49m\n\u001b[1;32m   1283\u001b[0m     \u001b[38;5;28;01melse\u001b[39;00m:\n\u001b[1;32m   1284\u001b[0m         results2 \u001b[38;5;241m=\u001b[39m results2[\u001b[38;5;241m0\u001b[39m]\n",
      "File \u001b[0;32m/opt/anaconda3/envs/abtem-dask/lib/python3.9/site-packages/dask/array/core.py:5291\u001b[0m, in \u001b[0;36mconcatenate3\u001b[0;34m(arrays)\u001b[0m\n\u001b[1;32m   5289\u001b[0m         \u001b[38;5;28;01mwhile\u001b[39;00m arr\u001b[38;5;241m.\u001b[39mndim \u001b[38;5;241m<\u001b[39m ndim:\n\u001b[1;32m   5290\u001b[0m             arr \u001b[38;5;241m=\u001b[39m arr[\u001b[38;5;28;01mNone\u001b[39;00m, \u001b[38;5;241m.\u001b[39m\u001b[38;5;241m.\u001b[39m\u001b[38;5;241m.\u001b[39m]\n\u001b[0;32m-> 5291\u001b[0m     \u001b[43mresult\u001b[49m\u001b[43m[\u001b[49m\u001b[43midx\u001b[49m\u001b[43m]\u001b[49m \u001b[38;5;241m=\u001b[39m arr\n\u001b[1;32m   5293\u001b[0m \u001b[38;5;28;01mreturn\u001b[39;00m result\n",
      "\u001b[0;31mKeyboardInterrupt\u001b[0m: "
     ]
    }
   ],
   "source": [
    "image[:,:,:,1:].compute().show(interact=True)"
   ]
  }
 ],
 "metadata": {
  "kernelspec": {
   "display_name": "Python 3 (ipykernel)",
   "language": "python",
   "name": "python3"
  },
  "language_info": {
   "codemirror_mode": {
    "name": "ipython",
    "version": 3
   },
   "file_extension": ".py",
   "mimetype": "text/x-python",
   "name": "python",
   "nbconvert_exporter": "python",
   "pygments_lexer": "ipython3",
   "version": "3.9.15"
  },
  "widgets": {
   "application/vnd.jupyter.widget-state+json": {
    "state": {},
    "version_major": 2,
    "version_minor": 0
   }
  }
 },
 "nbformat": 4,
 "nbformat_minor": 5
}
